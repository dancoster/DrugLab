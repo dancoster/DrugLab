{
 "cells": [
  {
   "cell_type": "code",
   "execution_count": 44,
   "metadata": {},
   "outputs": [],
   "source": [
    "%load_ext autoreload"
   ]
  },
  {
   "cell_type": "code",
   "execution_count": 45,
   "metadata": {},
   "outputs": [],
   "source": [
    "%autoreload 2"
   ]
  },
  {
   "cell_type": "code",
   "execution_count": 46,
   "metadata": {},
   "outputs": [],
   "source": [
    "from src.parsers import mimic, hirid\n",
    "from src.modeling import discovery, plots, querier\n",
    "from src.utils import constants"
   ]
  },
  {
   "cell_type": "code",
   "execution_count": 2,
   "metadata": {},
   "outputs": [],
   "source": [
    "import sys\n",
    "# import win32com.client\n",
    "import os\n",
    "import pandas as pd\n",
    "\n",
    "def setup_io_config(root_path):\n",
    "    \"\"\"\n",
    "    Input - Output config. Add dataset paths\n",
    "    :root_path -> Repo path which contains 'data' and 'res' folders\n",
    "    \"\"\"\n",
    "\n",
    "    # MIMIC\n",
    "    is_shortcut = True if \"data.lnk\" in os.listdir(root_path) else False \n",
    "    \n",
    "    if (is_shortcut):\n",
    "        path_shortcut =  os.path.join(root_path, \"data.lnk\")\n",
    "        shell = win32com.client.Dispatch(\"WScript.Shell\")\n",
    "        mimic_data = shell.CreateShortCut(path_shortcut).Targetpath\n",
    "    else:\n",
    "        mimic_data = os.path.join(f\"{root_path}\", \"data\") \n",
    "    mimic_path = os.path.join(f\"{root_path}\", \"results\")\n",
    "\n",
    "    # HIRID\n",
    "    hirid_data = f'{root_path}/data/hirid-a-high-time-resolution-icu-dataset-1.1.1/raw_stage/'\n",
    "    hirid_path = f'{root_path}/data/hirid-a-high-time-resolution-icu-dataset-1.1.1'\n",
    "    \n",
    "    return mimic_data, mimic_path, hirid_data, hirid_path\n",
    "\n",
    "def setup_stratification_config():\n",
    "    gender=\"MF\"\n",
    "    age_b=40\n",
    "    age_a=80 \n",
    "    ethnicity=\"WHITE\" \n",
    "    lab_mapping= constants.LAB_MAPPING\n",
    "    before_windows = [(0,12)]\n",
    "    after_windows = [(0,12)]\n",
    "    return gender, age_a, age_b, ethnicity, lab_mapping, before_windows, after_windows"
   ]
  },
  {
   "cell_type": "code",
   "execution_count": 3,
   "metadata": {},
   "outputs": [],
   "source": [
    "# IO Config\n",
    "# root_path =\"C:\\\\Users\\\\danco\\\\My Drive\\\\Master\\\\Datasets\\\\MIMIC iii\"\n",
    "root_path = \"/Users/pavan/Library/CloudStorage/GoogleDrive-f20190038@hyderabad.bits-pilani.ac.in/My Drive/TAU/Code/DrugLab\"\n",
    "data, res, raw_path, res_path = setup_io_config(root_path=root_path)\n",
    "\n",
    "# Stratification Config\n",
    "gender, age_a, age_b, ethnicity, lab_mapping, before_windows, after_windows = setup_stratification_config()"
   ]
  },
  {
   "cell_type": "code",
   "execution_count": null,
   "metadata": {},
   "outputs": [],
   "source": [
    "# MIMIC\n",
    "mimic_parser = mimic.MIMICParser(data=data, res=res, gender=gender, age_b=age_b, age_a=age_a, ethnicity=ethnicity, load=\"AUTOMATIC_MAPPING_MIMIC\")\n",
    "m_med1, m_med2, m_labs = mimic_parser.parse(use_pairs=False, load_from_raw=False, load_raw_chartevents=False)\n",
    "\n",
    "## Querier\n",
    "mimic_data_querier = querier.DatasetQuerier(\n",
    "    data = data,\n",
    "    res = res,\n",
    "    t_labs=m_labs, \n",
    "    t_med1=m_med1, \n",
    "    t_med2=m_med2,\n",
    "    gender=gender, \n",
    "    age_b=age_b, \n",
    "    age_a=age_a, \n",
    "    ethnicity=ethnicity, \n",
    "    lab_mapping=lab_mapping\n",
    ")\n",
    "# query pairs for all medication and lab tests\n",
    "m_final_lab_med_data = mimic_data_querier.generate_med_lab_data(before_windows, after_windows)\n",
    "# Querying pairs for a single medication and lab test\n",
    "b_w = [(0,6), (6,12)]\n",
    "a_w = [(0,4), (4,8), (8,12)]\n",
    "med_lab_pair_1 = mimic_data_querier.query('Insulin - Regular', 'Glucose', b_w, a_w)\n",
    "\n",
    "## Discovery Analysis for the queried medication and lab test pairs in the chosen before and after windows\n",
    "analyzer = discovery.ClinicalDiscoveryAnalysis(m_final_lab_med_data)\n",
    "pvals_med_lab = analyzer.analyze(before_windows, after_windows)\n",
    "sig_med_lab = analyzer.generate_significant(pvals_med_lab)\n",
    "\n",
    "## Plots\n",
    "plotter = plots.ClinicalPlotAnalysis(\n",
    "    data = data,\n",
    "    res = res,\n",
    "    gender=gender, \n",
    "    age_b=age_b, \n",
    "    age_a=age_a, \n",
    "    ethnicity=ethnicity, \n",
    "    lab_mapping=lab_mapping\n",
    ")\n",
    "m_corrs_data_df = plotter.plot(m_final_lab_med_data, m_labs, before_windows=before_windows, after_windows=after_windows)"
   ]
  },
  {
   "cell_type": "code",
   "execution_count": null,
   "metadata": {},
   "outputs": [],
   "source": [
    "# HIRID\n",
    "hirid_mapping = constants.HIRID_MAPPING\n",
    "hirid_parser = hirid.HiRiDParser(data=raw_path, res=res_path, gender=gender, age_b=age_b, age_a=age_a, load=\"AUTOMATIC_MAPPING_HIRID\")\n",
    "h_med1, h_med2, h_labs = hirid_parser.parse()\n",
    "lab_ids = [l for k in hirid_mapping.values() for l in k]\n",
    "h_labs_1 = h_labs[h_labs.OldITEMID.isin(lab_ids)]\n",
    "\n",
    "hirid_data_querier = querier.DatasetQuerier(\n",
    "    data = raw_path,\n",
    "    res = res_path,\n",
    "    t_labs=h_labs, \n",
    "    t_med1=h_med1, \n",
    "    t_med2=h_med2,\n",
    "    gender=gender, \n",
    "    age_b=age_b, \n",
    "    age_a=age_a, \n",
    "    ethnicity=ethnicity, \n",
    ")\n",
    "final_h_final_lab_med_data, raw_h_final_lab_med_data = hirid_data_querier.generate_med_lab_data(before_windows, after_windows)\n",
    "\n",
    "h_plotter = plots.ClinicalPlotAnalysis(\n",
    "    data = raw_path,\n",
    "    res = res_path,\n",
    "    gender=gender, \n",
    "    age_b=age_b, \n",
    "    age_a=age_a, \n",
    "    ethnicity=\"\", \n",
    "    lab_mapping={}\n",
    ")\n",
    "h_corrs_data_df = h_plotter.plot(final_h_final_lab_med_data, h_labs, before_windows=before_windows, after_windows=after_windows)"
   ]
  }
 ],
 "metadata": {
  "kernelspec": {
   "display_name": "Python 3 (ipykernel)",
   "language": "python",
   "name": "python3"
  },
  "language_info": {
   "codemirror_mode": {
    "name": "ipython",
    "version": 3
   },
   "file_extension": ".py",
   "mimetype": "text/x-python",
   "name": "python",
   "nbconvert_exporter": "python",
   "pygments_lexer": "ipython3",
   "version": "3.9.6"
  },
  "vscode": {
   "interpreter": {
    "hash": "3d18dfdd61f4205bc820c4db60d6212c4a8bed06c39bf54702a27b774e005900"
   }
  }
 },
 "nbformat": 4,
 "nbformat_minor": 2
}
