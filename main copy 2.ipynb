{
 "cells": [
  {
   "cell_type": "code",
   "execution_count": 44,
   "metadata": {},
   "outputs": [],
   "source": [
    "%load_ext autoreload"
   ]
  },
  {
   "cell_type": "code",
   "execution_count": 45,
   "metadata": {},
   "outputs": [],
   "source": [
    "%autoreload 2"
   ]
  },
  {
   "cell_type": "code",
   "execution_count": 1,
   "metadata": {},
   "outputs": [],
   "source": [
    "from src.parsers import mimic, hirid\n",
    "from src.modeling import discovery, plots, querier\n",
    "from src.utils import constants"
   ]
  },
  {
   "cell_type": "code",
   "execution_count": 2,
   "metadata": {},
   "outputs": [],
   "source": [
    "import sys\n",
    "# import win32com.client\n",
    "import os\n",
    "import pandas as pd\n",
    "\n",
    "def setup_io_config(root_path):\n",
    "    \"\"\"\n",
    "    Input - Output config. Add dataset paths\n",
    "    :root_path -> Repo path which contains 'data' and 'res' folders\n",
    "    \"\"\"\n",
    "\n",
    "    # MIMIC\n",
    "    is_shortcut = True if \"data.lnk\" in os.listdir(root_path) else False \n",
    "    \n",
    "    if (is_shortcut):\n",
    "        path_shortcut =  os.path.join(root_path, \"data.lnk\")\n",
    "        shell = win32com.client.Dispatch(\"WScript.Shell\")\n",
    "        mimic_data = shell.CreateShortCut(path_shortcut).Targetpath\n",
    "    else:\n",
    "        mimic_data = os.path.join(f\"{root_path}\", \"data\") \n",
    "    mimic_path = os.path.join(f\"{root_path}\", \"results\")\n",
    "\n",
    "    # HIRID\n",
    "    hirid_data = f'{root_path}/data/hirid-a-high-time-resolution-icu-dataset-1.1.1/raw_stage/'\n",
    "    hirid_path = f'{root_path}/data/hirid-a-high-time-resolution-icu-dataset-1.1.1'\n",
    "    \n",
    "    return mimic_data, mimic_path, hirid_data, hirid_path\n",
    "\n",
    "def setup_stratification_config():\n",
    "    gender=\"MF\"\n",
    "    age_b=40\n",
    "    age_a=80 \n",
    "    ethnicity=\"WHITE\" \n",
    "    lab_mapping= constants.LAB_MAPPING\n",
    "    before_windows = [(0,6), (6,12)]\n",
    "    after_windows = [(0,4), (4,8), (8,12)]\n",
    "    return gender, age_a, age_b, ethnicity, lab_mapping, before_windows, after_windows"
   ]
  },
  {
   "cell_type": "code",
   "execution_count": 3,
   "metadata": {},
   "outputs": [],
   "source": [
    "# IO Config\n",
    "# root_path =\"C:\\\\Users\\\\danco\\\\My Drive\\\\Master\\\\Datasets\\\\MIMIC iii\"\n",
    "root_path = \"/Users/pavan/Library/CloudStorage/GoogleDrive-f20190038@hyderabad.bits-pilani.ac.in/My Drive/TAU/Code/DrugLab\"\n",
    "data, res, raw_path, res_path = setup_io_config(root_path=root_path)\n",
    "\n",
    "# Stratification Config\n",
    "gender, age_a, age_b, ethnicity, lab_mapping, before_windows, after_windows = setup_stratification_config()"
   ]
  },
  {
   "cell_type": "code",
   "execution_count": 9,
   "metadata": {},
   "outputs": [
    {
     "name": "stdout",
     "output_type": "stream",
     "text": [
      "Loading med data...\n",
      "Loaded med data.\n",
      "Load 1st and 2nd medication data...\n",
      "Loaded 1st and 2nd medication data.\n",
      "Load Lab data...\n"
     ]
    },
    {
     "name": "stderr",
     "output_type": "stream",
     "text": [
      "/Users/pavan/Desktop/TAU/DrugLab/src/parsers/mimic.py:225: DtypeWarning: Columns (9) have mixed types. Specify dtype option on import or set low_memory=False.\n",
      "  labs = pd.read_csv(os.path.join(self.data, constants.MIMIC_III_PREPROCESSED_PATH, constants.MIMIC_III_PREPROCESSED_LABDATA))\n"
     ]
    },
    {
     "name": "stdout",
     "output_type": "stream",
     "text": [
      "Loaded Lab data.\n"
     ]
    }
   ],
   "source": [
    "import traceback\n",
    "try:\n",
    "    mimic_parser = mimic.MIMICParser(data=data, res=res, gender=gender, age_b=age_b, age_a=age_a, ethnicity=ethnicity, load=\"AUTOMATIC_MAPPING_MIMIC\")\n",
    "    m_med1, m_med2, m_labs = mimic_parser.parse(use_pairs=False, load_from_raw=False, load_raw_chartevents=False)\n",
    "except:\n",
    "    traceback.print_exc()"
   ]
  },
  {
   "cell_type": "code",
   "execution_count": 4,
   "metadata": {},
   "outputs": [
    {
     "ename": "NameError",
     "evalue": "name 'm_labs' is not defined",
     "output_type": "error",
     "traceback": [
      "\u001b[0;31m---------------------------------------------------------------------------\u001b[0m",
      "\u001b[0;31mNameError\u001b[0m                                 Traceback (most recent call last)",
      "Cell \u001b[0;32mIn[4], line 4\u001b[0m\n\u001b[1;32m      1\u001b[0m mimic_data_querier \u001b[39m=\u001b[39m querier\u001b[39m.\u001b[39mDatasetQuerier(\n\u001b[1;32m      2\u001b[0m     data \u001b[39m=\u001b[39m data,\n\u001b[1;32m      3\u001b[0m     res \u001b[39m=\u001b[39m res,\n\u001b[0;32m----> 4\u001b[0m     t_labs\u001b[39m=\u001b[39mm_labs, \n\u001b[1;32m      5\u001b[0m     t_med1\u001b[39m=\u001b[39mm_med1, \n\u001b[1;32m      6\u001b[0m     t_med2\u001b[39m=\u001b[39mm_med2,\n\u001b[1;32m      7\u001b[0m     gender\u001b[39m=\u001b[39mgender, \n\u001b[1;32m      8\u001b[0m     age_b\u001b[39m=\u001b[39mage_b, \n\u001b[1;32m      9\u001b[0m     age_a\u001b[39m=\u001b[39mage_a, \n\u001b[1;32m     10\u001b[0m     ethnicity\u001b[39m=\u001b[39methnicity, \n\u001b[1;32m     11\u001b[0m     lab_mapping\u001b[39m=\u001b[39mlab_mapping\n\u001b[1;32m     12\u001b[0m )\n",
      "\u001b[0;31mNameError\u001b[0m: name 'm_labs' is not defined"
     ]
    }
   ],
   "source": [
    "mimic_data_querier = querier.DatasetQuerier(\n",
    "    data = data,\n",
    "    res = res,\n",
    "    t_labs=m_labs, \n",
    "    t_med1=m_med1, \n",
    "    t_med2=m_med2,\n",
    "    gender=gender, \n",
    "    age_b=age_b, \n",
    "    age_a=age_a, \n",
    "    ethnicity=ethnicity, \n",
    "    lab_mapping=lab_mapping\n",
    ")"
   ]
  },
  {
   "cell_type": "code",
   "execution_count": 11,
   "metadata": {},
   "outputs": [
    {
     "name": "stderr",
     "output_type": "stream",
     "text": [
      "/Users/pavan/Desktop/TAU/DrugLab/src/modeling/querier.py:128: FutureWarning: Passing 'suffixes' which cause duplicate columns {'after_trends_(6, 12)_x', 'after_trends_(0, 4)_x', 'after_mean_(4, 8)_x', 'after_trends_(4, 8)_x', 'before_mean_(6, 12)_x', 'before_trends_(0, 6)_x', 'after_mean_(8, 12)_x', 'after_mean_(0, 4)_x', 'after_trends_(8, 12)_x', 'before_trends_(6, 12)_x', 'before_mean_(0, 6)_x'} in the result is deprecated and will raise a MergeError in a future version.\n",
      "  col_vals[i] = pd.merge(col_vals[i-1], col_vals[i], how=\"outer\", on=list(t_med1.columns)+[\"LAB_ITEMID\"])\n",
      "/Users/pavan/Desktop/TAU/DrugLab/src/modeling/querier.py:128: FutureWarning: Passing 'suffixes' which cause duplicate columns {'after_trends_(6, 12)_x', 'after_trends_(0, 4)_x', 'after_mean_(4, 8)_x', 'after_trends_(4, 8)_x', 'before_mean_(6, 12)_x', 'before_trends_(0, 6)_x', 'after_mean_(8, 12)_x', 'after_mean_(0, 4)_x', 'after_trends_(8, 12)_x', 'before_trends_(6, 12)_x', 'before_mean_(0, 6)_x'} in the result is deprecated and will raise a MergeError in a future version.\n",
      "  col_vals[i] = pd.merge(col_vals[i-1], col_vals[i], how=\"outer\", on=list(t_med1.columns)+[\"LAB_ITEMID\"])\n",
      "/Users/pavan/Desktop/TAU/DrugLab/src/modeling/querier.py:128: FutureWarning: Passing 'suffixes' which cause duplicate columns {'after_trends_(6, 12)_x', 'after_trends_(0, 4)_x', 'after_mean_(4, 8)_x', 'after_trends_(4, 8)_x', 'before_mean_(6, 12)_x', 'before_trends_(0, 6)_x', 'after_mean_(8, 12)_x', 'after_mean_(0, 4)_x', 'after_trends_(8, 12)_x', 'before_trends_(6, 12)_x', 'before_mean_(0, 6)_x'} in the result is deprecated and will raise a MergeError in a future version.\n",
      "  col_vals[i] = pd.merge(col_vals[i-1], col_vals[i], how=\"outer\", on=list(t_med1.columns)+[\"LAB_ITEMID\"])\n",
      "/Users/pavan/Desktop/TAU/DrugLab/src/modeling/querier.py:128: FutureWarning: Passing 'suffixes' which cause duplicate columns {'after_trends_(6, 12)_x', 'after_trends_(0, 4)_x', 'after_mean_(4, 8)_x', 'after_trends_(4, 8)_x', 'before_mean_(6, 12)_x', 'before_trends_(0, 6)_x', 'after_mean_(8, 12)_x', 'after_mean_(0, 4)_x', 'after_trends_(8, 12)_x', 'before_trends_(6, 12)_x', 'before_mean_(0, 6)_x'} in the result is deprecated and will raise a MergeError in a future version.\n",
      "  col_vals[i] = pd.merge(col_vals[i-1], col_vals[i], how=\"outer\", on=list(t_med1.columns)+[\"LAB_ITEMID\"])\n",
      "/Users/pavan/Desktop/TAU/DrugLab/src/modeling/querier.py:131: SettingWithCopyWarning: \n",
      "A value is trying to be set on a copy of a slice from a DataFrame.\n",
      "Try using .loc[row_indexer,col_indexer] = value instead\n",
      "\n",
      "See the caveats in the documentation: https://pandas.pydata.org/pandas-docs/stable/user_guide/indexing.html#returning-a-view-versus-a-copy\n",
      "  final[\"LAB_NAME\"] = final[\"LAB_ITEMID\"]\n"
     ]
    }
   ],
   "source": [
    "m_final_lab_med_data = mimic_data_querier.generate_med_lab_data(before_windows, after_windows)"
   ]
  },
  {
   "cell_type": "code",
   "execution_count": 12,
   "metadata": {},
   "outputs": [],
   "source": [
    "# med_lab_pair_data = m_final_lab_med_data[0]\n",
    "med_lab_pair_data = pd.read_csv(os.path.join(data, \"\"))"
   ]
  },
  {
   "cell_type": "code",
   "execution_count": 13,
   "metadata": {},
   "outputs": [],
   "source": [
    "analyzer = discovery.ClinicalDiscoveryAnalysis(med_lab_pair_data)\n",
    "lab_name = 'Glucose'\n",
    "med_name = 'Insulin - Regular'"
   ]
  },
  {
   "cell_type": "code",
   "execution_count": null,
   "metadata": {},
   "outputs": [],
   "source": [
    "res_comp = analyzer.analyze(before_windows, after_windows)\n",
    "res_comp = res_comp.dropna(subset=[\"TTest Paired\"])"
   ]
  },
  {
   "cell_type": "code",
   "execution_count": 17,
   "metadata": {},
   "outputs": [],
   "source": [
    "res_dict = res_comp.to_dict()"
   ]
  },
  {
   "cell_type": "code",
   "execution_count": null,
   "metadata": {},
   "outputs": [],
   "source": [
    "res_comp.to_csv(\"temp.csv\")"
   ]
  },
  {
   "cell_type": "code",
   "execution_count": null,
   "metadata": {},
   "outputs": [],
   "source": [
    "res_comp_df_corrected = pd.DataFrame(res_dict[0].values())"
   ]
  },
  {
   "cell_type": "code",
   "execution_count": null,
   "metadata": {},
   "outputs": [],
   "source": [
    "res_comp_df_corrected"
   ]
  },
  {
   "cell_type": "code",
   "execution_count": null,
   "metadata": {},
   "outputs": [],
   "source": []
  },
  {
   "cell_type": "code",
   "execution_count": null,
   "metadata": {},
   "outputs": [],
   "source": [
    "sig_pairs = analyzer.generate_significant(res_comp)"
   ]
  },
  {
   "cell_type": "code",
   "execution_count": 9,
   "metadata": {},
   "outputs": [],
   "source": [
    "res_sig = pd.read_csv(\"temp_fdr_sig_pairs.csv\").drop(columns=[\"Unnamed: 0\"])"
   ]
  },
  {
   "cell_type": "code",
   "execution_count": 10,
   "metadata": {},
   "outputs": [
    {
     "data": {
      "text/html": [
       "<div>\n",
       "<style scoped>\n",
       "    .dataframe tbody tr th:only-of-type {\n",
       "        vertical-align: middle;\n",
       "    }\n",
       "\n",
       "    .dataframe tbody tr th {\n",
       "        vertical-align: top;\n",
       "    }\n",
       "\n",
       "    .dataframe thead th {\n",
       "        text-align: right;\n",
       "    }\n",
       "</style>\n",
       "<table border=\"1\" class=\"dataframe\">\n",
       "  <thead>\n",
       "    <tr style=\"text-align: right;\">\n",
       "      <th></th>\n",
       "      <th>Lab Name</th>\n",
       "      <th>Med Name</th>\n",
       "      <th>Before Window (in Hours)</th>\n",
       "      <th>After Window (in Hours)</th>\n",
       "      <th>Mannwhitneyu Test</th>\n",
       "      <th>TTest Independent</th>\n",
       "      <th>TTest Paired</th>\n",
       "      <th>BonferroniPvals</th>\n",
       "      <th>FDR Benjamini Corrected</th>\n",
       "      <th>No. of Patients</th>\n",
       "    </tr>\n",
       "  </thead>\n",
       "  <tbody>\n",
       "    <tr>\n",
       "      <th>0</th>\n",
       "      <td>Hemoglobin</td>\n",
       "      <td>Albumin 25%</td>\n",
       "      <td>(0, 6)</td>\n",
       "      <td>(0, 4)</td>\n",
       "      <td>2.165030e-01</td>\n",
       "      <td>2.088679e-01</td>\n",
       "      <td>6.524663e-05</td>\n",
       "      <td>3.170986e-01</td>\n",
       "      <td>2.157133e-03</td>\n",
       "      <td>57</td>\n",
       "    </tr>\n",
       "    <tr>\n",
       "      <th>1</th>\n",
       "      <td>Hematocrit</td>\n",
       "      <td>Albumin 5%</td>\n",
       "      <td>(0, 6)</td>\n",
       "      <td>(0, 4)</td>\n",
       "      <td>4.629792e-08</td>\n",
       "      <td>2.784454e-08</td>\n",
       "      <td>2.127214e-23</td>\n",
       "      <td>1.033826e-19</td>\n",
       "      <td>6.461411e-21</td>\n",
       "      <td>382</td>\n",
       "    </tr>\n",
       "    <tr>\n",
       "      <th>2</th>\n",
       "      <td>Hemoglobin</td>\n",
       "      <td>Albumin 5%</td>\n",
       "      <td>(0, 6)</td>\n",
       "      <td>(0, 4)</td>\n",
       "      <td>3.244294e-03</td>\n",
       "      <td>2.738292e-03</td>\n",
       "      <td>3.215162e-08</td>\n",
       "      <td>1.562569e-04</td>\n",
       "      <td>2.441514e-06</td>\n",
       "      <td>173</td>\n",
       "    </tr>\n",
       "    <tr>\n",
       "      <th>3</th>\n",
       "      <td>Lactic acid</td>\n",
       "      <td>Albumin 5%</td>\n",
       "      <td>(0, 6)</td>\n",
       "      <td>(0, 4)</td>\n",
       "      <td>2.044467e-02</td>\n",
       "      <td>1.553298e-01</td>\n",
       "      <td>1.039934e-05</td>\n",
       "      <td>5.054078e-02</td>\n",
       "      <td>4.396323e-04</td>\n",
       "      <td>177</td>\n",
       "    </tr>\n",
       "    <tr>\n",
       "      <th>4</th>\n",
       "      <td>Platelets</td>\n",
       "      <td>Albumin 5%</td>\n",
       "      <td>(0, 6)</td>\n",
       "      <td>(0, 4)</td>\n",
       "      <td>3.664783e-01</td>\n",
       "      <td>4.097745e-01</td>\n",
       "      <td>6.902470e-05</td>\n",
       "      <td>3.354601e-01</td>\n",
       "      <td>2.251410e-03</td>\n",
       "      <td>130</td>\n",
       "    </tr>\n",
       "    <tr>\n",
       "      <th>...</th>\n",
       "      <td>...</td>\n",
       "      <td>...</td>\n",
       "      <td>...</td>\n",
       "      <td>...</td>\n",
       "      <td>...</td>\n",
       "      <td>...</td>\n",
       "      <td>...</td>\n",
       "      <td>...</td>\n",
       "      <td>...</td>\n",
       "      <td>...</td>\n",
       "    </tr>\n",
       "    <tr>\n",
       "      <th>175</th>\n",
       "      <td>Hematocrit</td>\n",
       "      <td>Vancomycin</td>\n",
       "      <td>(0, 6)</td>\n",
       "      <td>(0, 4)</td>\n",
       "      <td>1.882328e-02</td>\n",
       "      <td>9.458800e-03</td>\n",
       "      <td>1.466061e-10</td>\n",
       "      <td>7.125055e-07</td>\n",
       "      <td>1.583345e-08</td>\n",
       "      <td>873</td>\n",
       "    </tr>\n",
       "    <tr>\n",
       "      <th>176</th>\n",
       "      <td>Hemoglobin</td>\n",
       "      <td>Vancomycin</td>\n",
       "      <td>(0, 6)</td>\n",
       "      <td>(0, 4)</td>\n",
       "      <td>2.245281e-01</td>\n",
       "      <td>1.475547e-01</td>\n",
       "      <td>2.766560e-04</td>\n",
       "      <td>1.000000e+00</td>\n",
       "      <td>7.771954e-03</td>\n",
       "      <td>499</td>\n",
       "    </tr>\n",
       "    <tr>\n",
       "      <th>177</th>\n",
       "      <td>Lactic acid</td>\n",
       "      <td>Vancomycin</td>\n",
       "      <td>(0, 6)</td>\n",
       "      <td>(0, 4)</td>\n",
       "      <td>3.765819e-02</td>\n",
       "      <td>2.654006e-01</td>\n",
       "      <td>9.722280e-05</td>\n",
       "      <td>4.725028e-01</td>\n",
       "      <td>3.028864e-03</td>\n",
       "      <td>396</td>\n",
       "    </tr>\n",
       "    <tr>\n",
       "      <th>178</th>\n",
       "      <td>Magnesium</td>\n",
       "      <td>Vancomycin</td>\n",
       "      <td>(0, 6)</td>\n",
       "      <td>(0, 4)</td>\n",
       "      <td>1.506045e-02</td>\n",
       "      <td>4.091403e-02</td>\n",
       "      <td>3.326912e-04</td>\n",
       "      <td>1.000000e+00</td>\n",
       "      <td>9.032844e-03</td>\n",
       "      <td>440</td>\n",
       "    </tr>\n",
       "    <tr>\n",
       "      <th>179</th>\n",
       "      <td>Platelets</td>\n",
       "      <td>Vancomycin</td>\n",
       "      <td>(0, 6)</td>\n",
       "      <td>(0, 4)</td>\n",
       "      <td>4.641002e-01</td>\n",
       "      <td>4.100975e-01</td>\n",
       "      <td>1.674049e-05</td>\n",
       "      <td>8.135879e-02</td>\n",
       "      <td>6.654052e-04</td>\n",
       "      <td>441</td>\n",
       "    </tr>\n",
       "  </tbody>\n",
       "</table>\n",
       "<p>180 rows × 10 columns</p>\n",
       "</div>"
      ],
      "text/plain": [
       "        Lab Name     Med Name Before Window (in Hours)  \\\n",
       "0     Hemoglobin  Albumin 25%                   (0, 6)   \n",
       "1     Hematocrit   Albumin 5%                   (0, 6)   \n",
       "2     Hemoglobin   Albumin 5%                   (0, 6)   \n",
       "3    Lactic acid   Albumin 5%                   (0, 6)   \n",
       "4      Platelets   Albumin 5%                   (0, 6)   \n",
       "..           ...          ...                      ...   \n",
       "175   Hematocrit   Vancomycin                   (0, 6)   \n",
       "176   Hemoglobin   Vancomycin                   (0, 6)   \n",
       "177  Lactic acid   Vancomycin                   (0, 6)   \n",
       "178    Magnesium   Vancomycin                   (0, 6)   \n",
       "179    Platelets   Vancomycin                   (0, 6)   \n",
       "\n",
       "    After Window (in Hours)  Mannwhitneyu Test  TTest Independent  \\\n",
       "0                    (0, 4)       2.165030e-01       2.088679e-01   \n",
       "1                    (0, 4)       4.629792e-08       2.784454e-08   \n",
       "2                    (0, 4)       3.244294e-03       2.738292e-03   \n",
       "3                    (0, 4)       2.044467e-02       1.553298e-01   \n",
       "4                    (0, 4)       3.664783e-01       4.097745e-01   \n",
       "..                      ...                ...                ...   \n",
       "175                  (0, 4)       1.882328e-02       9.458800e-03   \n",
       "176                  (0, 4)       2.245281e-01       1.475547e-01   \n",
       "177                  (0, 4)       3.765819e-02       2.654006e-01   \n",
       "178                  (0, 4)       1.506045e-02       4.091403e-02   \n",
       "179                  (0, 4)       4.641002e-01       4.100975e-01   \n",
       "\n",
       "     TTest Paired  BonferroniPvals  FDR Benjamini Corrected  No. of Patients  \n",
       "0    6.524663e-05     3.170986e-01             2.157133e-03               57  \n",
       "1    2.127214e-23     1.033826e-19             6.461411e-21              382  \n",
       "2    3.215162e-08     1.562569e-04             2.441514e-06              173  \n",
       "3    1.039934e-05     5.054078e-02             4.396323e-04              177  \n",
       "4    6.902470e-05     3.354601e-01             2.251410e-03              130  \n",
       "..            ...              ...                      ...              ...  \n",
       "175  1.466061e-10     7.125055e-07             1.583345e-08              873  \n",
       "176  2.766560e-04     1.000000e+00             7.771954e-03              499  \n",
       "177  9.722280e-05     4.725028e-01             3.028864e-03              396  \n",
       "178  3.326912e-04     1.000000e+00             9.032844e-03              440  \n",
       "179  1.674049e-05     8.135879e-02             6.654052e-04              441  \n",
       "\n",
       "[180 rows x 10 columns]"
      ]
     },
     "execution_count": 10,
     "metadata": {},
     "output_type": "execute_result"
    }
   ],
   "source": [
    "res_sig"
   ]
  },
  {
   "cell_type": "code",
   "execution_count": null,
   "metadata": {},
   "outputs": [],
   "source": []
  },
  {
   "cell_type": "code",
   "execution_count": 91,
   "metadata": {},
   "outputs": [],
   "source": [
    "res_dis_1 = analyzer.statistical_tests(med_name, lab_name, before_windows, after_windows)"
   ]
  },
  {
   "cell_type": "code",
   "execution_count": 92,
   "metadata": {},
   "outputs": [
    {
     "data": {
      "text/html": [
       "<div>\n",
       "<style scoped>\n",
       "    .dataframe tbody tr th:only-of-type {\n",
       "        vertical-align: middle;\n",
       "    }\n",
       "\n",
       "    .dataframe tbody tr th {\n",
       "        vertical-align: top;\n",
       "    }\n",
       "\n",
       "    .dataframe thead th {\n",
       "        text-align: right;\n",
       "    }\n",
       "</style>\n",
       "<table border=\"1\" class=\"dataframe\">\n",
       "  <thead>\n",
       "    <tr style=\"text-align: right;\">\n",
       "      <th></th>\n",
       "      <th>Lab Name</th>\n",
       "      <th>Med Name</th>\n",
       "      <th>Before Window (in Hours)</th>\n",
       "      <th>After Window (in Hours)</th>\n",
       "      <th>Mannwhitneyu Test</th>\n",
       "      <th>TTest Independent</th>\n",
       "      <th>TTest Paired</th>\n",
       "    </tr>\n",
       "  </thead>\n",
       "  <tbody>\n",
       "    <tr>\n",
       "      <th>0</th>\n",
       "      <td>Glucose</td>\n",
       "      <td>Insulin - Regular</td>\n",
       "      <td>(0, 12)</td>\n",
       "      <td>(0, 12)</td>\n",
       "      <td>1.295140e-43</td>\n",
       "      <td>1.708010e-19</td>\n",
       "      <td>6.662180e-50</td>\n",
       "    </tr>\n",
       "  </tbody>\n",
       "</table>\n",
       "</div>"
      ],
      "text/plain": [
       "  Lab Name           Med Name Before Window (in Hours)  \\\n",
       "0  Glucose  Insulin - Regular                  (0, 12)   \n",
       "\n",
       "  After Window (in Hours)  Mannwhitneyu Test  TTest Independent  TTest Paired  \n",
       "0                 (0, 12)       1.295140e-43       1.708010e-19  6.662180e-50  "
      ]
     },
     "execution_count": 92,
     "metadata": {},
     "output_type": "execute_result"
    }
   ],
   "source": [
    "pd.DataFrame(res_dis_1)"
   ]
  },
  {
   "cell_type": "code",
   "execution_count": null,
   "metadata": {},
   "outputs": [
    {
     "data": {
      "text/html": [
       "<div>\n",
       "<style scoped>\n",
       "    .dataframe tbody tr th:only-of-type {\n",
       "        vertical-align: middle;\n",
       "    }\n",
       "\n",
       "    .dataframe tbody tr th {\n",
       "        vertical-align: top;\n",
       "    }\n",
       "\n",
       "    .dataframe thead th {\n",
       "        text-align: right;\n",
       "    }\n",
       "</style>\n",
       "<table border=\"1\" class=\"dataframe\">\n",
       "  <thead>\n",
       "    <tr style=\"text-align: right;\">\n",
       "      <th></th>\n",
       "      <th>Lab Name</th>\n",
       "      <th>Med Name</th>\n",
       "      <th>Before Window (in Hours)</th>\n",
       "      <th>After Window (in Hours)</th>\n",
       "      <th>Mannwhitneyu Test</th>\n",
       "      <th>TTest Independent</th>\n",
       "      <th>TTest Paired</th>\n",
       "    </tr>\n",
       "  </thead>\n",
       "  <tbody>\n",
       "    <tr>\n",
       "      <th>0</th>\n",
       "      <td>Glucose</td>\n",
       "      <td>Insulin - Regular</td>\n",
       "      <td>before_abs_(0, 6)_sp</td>\n",
       "      <td>after_abs_(0, 4)_sp</td>\n",
       "      <td>2.189386e-14</td>\n",
       "      <td>1.485992e-07</td>\n",
       "      <td>1.923674e-19</td>\n",
       "    </tr>\n",
       "    <tr>\n",
       "      <th>1</th>\n",
       "      <td>Glucose</td>\n",
       "      <td>Insulin - Regular</td>\n",
       "      <td>before_abs_(6, 12)_sp</td>\n",
       "      <td>after_abs_(0, 4)_sp</td>\n",
       "      <td>4.326885e-13</td>\n",
       "      <td>7.642086e-02</td>\n",
       "      <td>1.329148e-02</td>\n",
       "    </tr>\n",
       "    <tr>\n",
       "      <th>2</th>\n",
       "      <td>Glucose</td>\n",
       "      <td>Insulin - Regular</td>\n",
       "      <td>before_abs_(0, 6)_sp</td>\n",
       "      <td>after_abs_(4, 8)_sp</td>\n",
       "      <td>7.587147e-14</td>\n",
       "      <td>1.444190e-11</td>\n",
       "      <td>6.954230e-20</td>\n",
       "    </tr>\n",
       "    <tr>\n",
       "      <th>3</th>\n",
       "      <td>Glucose</td>\n",
       "      <td>Insulin - Regular</td>\n",
       "      <td>before_abs_(6, 12)_sp</td>\n",
       "      <td>after_abs_(4, 8)_sp</td>\n",
       "      <td>5.304810e-01</td>\n",
       "      <td>1.426278e-01</td>\n",
       "      <td>7.623842e-02</td>\n",
       "    </tr>\n",
       "    <tr>\n",
       "      <th>4</th>\n",
       "      <td>Glucose</td>\n",
       "      <td>Insulin - Regular</td>\n",
       "      <td>before_abs_(0, 6)_sp</td>\n",
       "      <td>after_abs_(8, 12)_sp</td>\n",
       "      <td>8.997221e-09</td>\n",
       "      <td>6.818553e-07</td>\n",
       "      <td>1.101460e-10</td>\n",
       "    </tr>\n",
       "    <tr>\n",
       "      <th>5</th>\n",
       "      <td>Glucose</td>\n",
       "      <td>Insulin - Regular</td>\n",
       "      <td>before_abs_(6, 12)_sp</td>\n",
       "      <td>after_abs_(8, 12)_sp</td>\n",
       "      <td>8.560342e-02</td>\n",
       "      <td>4.862437e-02</td>\n",
       "      <td>6.028435e-03</td>\n",
       "    </tr>\n",
       "  </tbody>\n",
       "</table>\n",
       "</div>"
      ],
      "text/plain": [
       "  Lab Name           Med Name Before Window (in Hours)  \\\n",
       "0  Glucose  Insulin - Regular     before_abs_(0, 6)_sp   \n",
       "1  Glucose  Insulin - Regular    before_abs_(6, 12)_sp   \n",
       "2  Glucose  Insulin - Regular     before_abs_(0, 6)_sp   \n",
       "3  Glucose  Insulin - Regular    before_abs_(6, 12)_sp   \n",
       "4  Glucose  Insulin - Regular     before_abs_(0, 6)_sp   \n",
       "5  Glucose  Insulin - Regular    before_abs_(6, 12)_sp   \n",
       "\n",
       "  After Window (in Hours)  Mannwhitneyu Test  TTest Independent  TTest Paired  \n",
       "0     after_abs_(0, 4)_sp       2.189386e-14       1.485992e-07  1.923674e-19  \n",
       "1     after_abs_(0, 4)_sp       4.326885e-13       7.642086e-02  1.329148e-02  \n",
       "2     after_abs_(4, 8)_sp       7.587147e-14       1.444190e-11  6.954230e-20  \n",
       "3     after_abs_(4, 8)_sp       5.304810e-01       1.426278e-01  7.623842e-02  \n",
       "4    after_abs_(8, 12)_sp       8.997221e-09       6.818553e-07  1.101460e-10  \n",
       "5    after_abs_(8, 12)_sp       8.560342e-02       4.862437e-02  6.028435e-03  "
      ]
     },
     "metadata": {},
     "output_type": "display_data"
    }
   ],
   "source": [
    "pd.DataFrame(res_dis_1)"
   ]
  },
  {
   "cell_type": "code",
   "execution_count": null,
   "metadata": {},
   "outputs": [],
   "source": []
  }
 ],
 "metadata": {
  "kernelspec": {
   "display_name": "Python 3 (ipykernel)",
   "language": "python",
   "name": "python3"
  },
  "language_info": {
   "codemirror_mode": {
    "name": "ipython",
    "version": 3
   },
   "file_extension": ".py",
   "mimetype": "text/x-python",
   "name": "python",
   "nbconvert_exporter": "python",
   "pygments_lexer": "ipython3",
   "version": "3.9.6"
  },
  "vscode": {
   "interpreter": {
    "hash": "3d18dfdd61f4205bc820c4db60d6212c4a8bed06c39bf54702a27b774e005900"
   }
  }
 },
 "nbformat": 4,
 "nbformat_minor": 2
}
