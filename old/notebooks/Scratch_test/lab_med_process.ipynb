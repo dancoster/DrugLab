{
 "cells": [
  {
   "cell_type": "code",
   "execution_count": 475,
   "metadata": {},
   "outputs": [],
   "source": [
    "data = \"/Volumes/GoogleDrive/My Drive/TAU/Code/DrugLab/data\""
   ]
  },
  {
   "cell_type": "code",
   "execution_count": 2,
   "metadata": {},
   "outputs": [],
   "source": [
    "import pandas as pd\n",
    "import os"
   ]
  },
  {
   "cell_type": "markdown",
   "metadata": {},
   "source": [
    "## Lab Patient Data"
   ]
  },
  {
   "cell_type": "code",
   "execution_count": 3,
   "metadata": {},
   "outputs": [
    {
     "name": "stderr",
     "output_type": "stream",
     "text": [
      "/var/folders/xb/6svjl9sj43z6gfhlcp2nc5540000gr/T/ipykernel_26908/3804067241.py:1: DtypeWarning: Columns (19,24,28,29) have mixed types. Specify dtype option on import or set low_memory=False.\n",
      "  l_p_df = pd.read_csv(os.path.join(data, \"mimiciii/1.4/preprocessed\", \"lab_patient_data.csv\"))\n"
     ]
    }
   ],
   "source": [
    "l_p_df = pd.read_csv(os.path.join(data, \"mimiciii/1.4/preprocessed\", \"lab_patient_data.csv\"))"
   ]
  },
  {
   "cell_type": "code",
   "execution_count": 4,
   "metadata": {},
   "outputs": [],
   "source": [
    "l_p_df = l_p_df.drop(columns=[\"Unnamed: 0\"])"
   ]
  },
  {
   "cell_type": "code",
   "execution_count": 5,
   "metadata": {},
   "outputs": [],
   "source": [
    "l_p_df[\"LabTimeFromAdmit\"] = pd.to_datetime(l_p_df[\"CHARTTIME\"])-pd.to_datetime(l_p_df[\"ADMITTIME\"])"
   ]
  },
  {
   "cell_type": "code",
   "execution_count": 6,
   "metadata": {},
   "outputs": [
    {
     "data": {
      "text/html": [
       "<div>\n",
       "<style scoped>\n",
       "    .dataframe tbody tr th:only-of-type {\n",
       "        vertical-align: middle;\n",
       "    }\n",
       "\n",
       "    .dataframe tbody tr th {\n",
       "        vertical-align: top;\n",
       "    }\n",
       "\n",
       "    .dataframe thead th {\n",
       "        text-align: right;\n",
       "    }\n",
       "</style>\n",
       "<table border=\"1\" class=\"dataframe\">\n",
       "  <thead>\n",
       "    <tr style=\"text-align: right;\">\n",
       "      <th></th>\n",
       "      <th>ROW_ID_x</th>\n",
       "      <th>SUBJECT_ID_x</th>\n",
       "      <th>HADM_ID</th>\n",
       "      <th>ITEMID</th>\n",
       "      <th>CHARTTIME</th>\n",
       "      <th>VALUE</th>\n",
       "      <th>VALUENUM</th>\n",
       "      <th>VALUEUOM</th>\n",
       "      <th>FLAG</th>\n",
       "      <th>ROW_ID_y</th>\n",
       "      <th>...</th>\n",
       "      <th>LANGUAGE</th>\n",
       "      <th>RELIGION</th>\n",
       "      <th>MARITAL_STATUS</th>\n",
       "      <th>ETHNICITY</th>\n",
       "      <th>EDREGTIME</th>\n",
       "      <th>EDOUTTIME</th>\n",
       "      <th>DIAGNOSIS</th>\n",
       "      <th>HOSPITAL_EXPIRE_FLAG</th>\n",
       "      <th>HAS_CHARTEVENTS_DATA</th>\n",
       "      <th>LabTimeFromAdmit</th>\n",
       "    </tr>\n",
       "  </thead>\n",
       "  <tbody>\n",
       "    <tr>\n",
       "      <th>0</th>\n",
       "      <td>976</td>\n",
       "      <td>3</td>\n",
       "      <td>145834.0</td>\n",
       "      <td>50820</td>\n",
       "      <td>2101-10-22 04:31:00</td>\n",
       "      <td>7.40</td>\n",
       "      <td>7.40</td>\n",
       "      <td>units</td>\n",
       "      <td>NaN</td>\n",
       "      <td>21</td>\n",
       "      <td>...</td>\n",
       "      <td>NaN</td>\n",
       "      <td>CATHOLIC</td>\n",
       "      <td>MARRIED</td>\n",
       "      <td>WHITE</td>\n",
       "      <td>2101-10-20 17:09:00</td>\n",
       "      <td>2101-10-20 19:24:00</td>\n",
       "      <td>HYPOTENSION</td>\n",
       "      <td>0</td>\n",
       "      <td>1</td>\n",
       "      <td>1 days 09:23:00</td>\n",
       "    </tr>\n",
       "    <tr>\n",
       "      <th>1</th>\n",
       "      <td>989</td>\n",
       "      <td>3</td>\n",
       "      <td>145834.0</td>\n",
       "      <td>50820</td>\n",
       "      <td>2101-10-22 07:13:00</td>\n",
       "      <td>7.37</td>\n",
       "      <td>7.37</td>\n",
       "      <td>units</td>\n",
       "      <td>NaN</td>\n",
       "      <td>21</td>\n",
       "      <td>...</td>\n",
       "      <td>NaN</td>\n",
       "      <td>CATHOLIC</td>\n",
       "      <td>MARRIED</td>\n",
       "      <td>WHITE</td>\n",
       "      <td>2101-10-20 17:09:00</td>\n",
       "      <td>2101-10-20 19:24:00</td>\n",
       "      <td>HYPOTENSION</td>\n",
       "      <td>0</td>\n",
       "      <td>1</td>\n",
       "      <td>1 days 12:05:00</td>\n",
       "    </tr>\n",
       "    <tr>\n",
       "      <th>2</th>\n",
       "      <td>998</td>\n",
       "      <td>3</td>\n",
       "      <td>145834.0</td>\n",
       "      <td>50820</td>\n",
       "      <td>2101-10-22 10:16:00</td>\n",
       "      <td>7.37</td>\n",
       "      <td>7.37</td>\n",
       "      <td>units</td>\n",
       "      <td>NaN</td>\n",
       "      <td>21</td>\n",
       "      <td>...</td>\n",
       "      <td>NaN</td>\n",
       "      <td>CATHOLIC</td>\n",
       "      <td>MARRIED</td>\n",
       "      <td>WHITE</td>\n",
       "      <td>2101-10-20 17:09:00</td>\n",
       "      <td>2101-10-20 19:24:00</td>\n",
       "      <td>HYPOTENSION</td>\n",
       "      <td>0</td>\n",
       "      <td>1</td>\n",
       "      <td>1 days 15:08:00</td>\n",
       "    </tr>\n",
       "    <tr>\n",
       "      <th>3</th>\n",
       "      <td>1007</td>\n",
       "      <td>3</td>\n",
       "      <td>145834.0</td>\n",
       "      <td>50820</td>\n",
       "      <td>2101-10-22 11:21:00</td>\n",
       "      <td>7.39</td>\n",
       "      <td>7.39</td>\n",
       "      <td>units</td>\n",
       "      <td>NaN</td>\n",
       "      <td>21</td>\n",
       "      <td>...</td>\n",
       "      <td>NaN</td>\n",
       "      <td>CATHOLIC</td>\n",
       "      <td>MARRIED</td>\n",
       "      <td>WHITE</td>\n",
       "      <td>2101-10-20 17:09:00</td>\n",
       "      <td>2101-10-20 19:24:00</td>\n",
       "      <td>HYPOTENSION</td>\n",
       "      <td>0</td>\n",
       "      <td>1</td>\n",
       "      <td>1 days 16:13:00</td>\n",
       "    </tr>\n",
       "    <tr>\n",
       "      <th>4</th>\n",
       "      <td>1020</td>\n",
       "      <td>3</td>\n",
       "      <td>145834.0</td>\n",
       "      <td>50820</td>\n",
       "      <td>2101-10-22 13:02:00</td>\n",
       "      <td>7.39</td>\n",
       "      <td>7.39</td>\n",
       "      <td>units</td>\n",
       "      <td>NaN</td>\n",
       "      <td>21</td>\n",
       "      <td>...</td>\n",
       "      <td>NaN</td>\n",
       "      <td>CATHOLIC</td>\n",
       "      <td>MARRIED</td>\n",
       "      <td>WHITE</td>\n",
       "      <td>2101-10-20 17:09:00</td>\n",
       "      <td>2101-10-20 19:24:00</td>\n",
       "      <td>HYPOTENSION</td>\n",
       "      <td>0</td>\n",
       "      <td>1</td>\n",
       "      <td>1 days 17:54:00</td>\n",
       "    </tr>\n",
       "    <tr>\n",
       "      <th>...</th>\n",
       "      <td>...</td>\n",
       "      <td>...</td>\n",
       "      <td>...</td>\n",
       "      <td>...</td>\n",
       "      <td>...</td>\n",
       "      <td>...</td>\n",
       "      <td>...</td>\n",
       "      <td>...</td>\n",
       "      <td>...</td>\n",
       "      <td>...</td>\n",
       "      <td>...</td>\n",
       "      <td>...</td>\n",
       "      <td>...</td>\n",
       "      <td>...</td>\n",
       "      <td>...</td>\n",
       "      <td>...</td>\n",
       "      <td>...</td>\n",
       "      <td>...</td>\n",
       "      <td>...</td>\n",
       "      <td>...</td>\n",
       "      <td>...</td>\n",
       "    </tr>\n",
       "    <tr>\n",
       "      <th>22245029</th>\n",
       "      <td>11174338</td>\n",
       "      <td>18054</td>\n",
       "      <td>100572.0</td>\n",
       "      <td>51455</td>\n",
       "      <td>2158-04-24 11:42:00</td>\n",
       "      <td>29</td>\n",
       "      <td>29.00</td>\n",
       "      <td>%</td>\n",
       "      <td>abnormal</td>\n",
       "      <td>655</td>\n",
       "      <td>...</td>\n",
       "      <td>ENGL</td>\n",
       "      <td>CATHOLIC</td>\n",
       "      <td>MARRIED</td>\n",
       "      <td>WHITE</td>\n",
       "      <td>NaN</td>\n",
       "      <td>NaN</td>\n",
       "      <td>PLEURAL EFFUSION RIGHT/SDA</td>\n",
       "      <td>0</td>\n",
       "      <td>0</td>\n",
       "      <td>0 days 02:57:00</td>\n",
       "    </tr>\n",
       "    <tr>\n",
       "      <th>22245030</th>\n",
       "      <td>11174339</td>\n",
       "      <td>18054</td>\n",
       "      <td>100572.0</td>\n",
       "      <td>51457</td>\n",
       "      <td>2158-04-24 11:42:00</td>\n",
       "      <td>575</td>\n",
       "      <td>575.00</td>\n",
       "      <td>#/uL</td>\n",
       "      <td>abnormal</td>\n",
       "      <td>657</td>\n",
       "      <td>...</td>\n",
       "      <td>ENGL</td>\n",
       "      <td>CATHOLIC</td>\n",
       "      <td>MARRIED</td>\n",
       "      <td>WHITE</td>\n",
       "      <td>NaN</td>\n",
       "      <td>NaN</td>\n",
       "      <td>PLEURAL EFFUSION RIGHT/SDA</td>\n",
       "      <td>0</td>\n",
       "      <td>0</td>\n",
       "      <td>0 days 02:57:00</td>\n",
       "    </tr>\n",
       "    <tr>\n",
       "      <th>22245031</th>\n",
       "      <td>11174340</td>\n",
       "      <td>18054</td>\n",
       "      <td>100572.0</td>\n",
       "      <td>51458</td>\n",
       "      <td>2158-04-24 11:42:00</td>\n",
       "      <td>1325</td>\n",
       "      <td>1325.00</td>\n",
       "      <td>#/uL</td>\n",
       "      <td>abnormal</td>\n",
       "      <td>658</td>\n",
       "      <td>...</td>\n",
       "      <td>ENGL</td>\n",
       "      <td>CATHOLIC</td>\n",
       "      <td>MARRIED</td>\n",
       "      <td>WHITE</td>\n",
       "      <td>NaN</td>\n",
       "      <td>NaN</td>\n",
       "      <td>PLEURAL EFFUSION RIGHT/SDA</td>\n",
       "      <td>0</td>\n",
       "      <td>0</td>\n",
       "      <td>0 days 02:57:00</td>\n",
       "    </tr>\n",
       "    <tr>\n",
       "      <th>22245032</th>\n",
       "      <td>11174335</td>\n",
       "      <td>18054</td>\n",
       "      <td>100572.0</td>\n",
       "      <td>51447</td>\n",
       "      <td>2158-04-24 11:42:00</td>\n",
       "      <td>10</td>\n",
       "      <td>10.00</td>\n",
       "      <td>%</td>\n",
       "      <td>abnormal</td>\n",
       "      <td>647</td>\n",
       "      <td>...</td>\n",
       "      <td>ENGL</td>\n",
       "      <td>CATHOLIC</td>\n",
       "      <td>MARRIED</td>\n",
       "      <td>WHITE</td>\n",
       "      <td>NaN</td>\n",
       "      <td>NaN</td>\n",
       "      <td>PLEURAL EFFUSION RIGHT/SDA</td>\n",
       "      <td>0</td>\n",
       "      <td>0</td>\n",
       "      <td>0 days 02:57:00</td>\n",
       "    </tr>\n",
       "    <tr>\n",
       "      <th>22245033</th>\n",
       "      <td>11174333</td>\n",
       "      <td>18054</td>\n",
       "      <td>100572.0</td>\n",
       "      <td>51444</td>\n",
       "      <td>2158-04-24 11:42:00</td>\n",
       "      <td>31</td>\n",
       "      <td>31.00</td>\n",
       "      <td>%</td>\n",
       "      <td>abnormal</td>\n",
       "      <td>644</td>\n",
       "      <td>...</td>\n",
       "      <td>ENGL</td>\n",
       "      <td>CATHOLIC</td>\n",
       "      <td>MARRIED</td>\n",
       "      <td>WHITE</td>\n",
       "      <td>NaN</td>\n",
       "      <td>NaN</td>\n",
       "      <td>PLEURAL EFFUSION RIGHT/SDA</td>\n",
       "      <td>0</td>\n",
       "      <td>0</td>\n",
       "      <td>0 days 02:57:00</td>\n",
       "    </tr>\n",
       "  </tbody>\n",
       "</table>\n",
       "<p>22245034 rows × 33 columns</p>\n",
       "</div>"
      ],
      "text/plain": [
       "          ROW_ID_x  SUBJECT_ID_x   HADM_ID  ITEMID            CHARTTIME VALUE  \\\n",
       "0              976             3  145834.0   50820  2101-10-22 04:31:00  7.40   \n",
       "1              989             3  145834.0   50820  2101-10-22 07:13:00  7.37   \n",
       "2              998             3  145834.0   50820  2101-10-22 10:16:00  7.37   \n",
       "3             1007             3  145834.0   50820  2101-10-22 11:21:00  7.39   \n",
       "4             1020             3  145834.0   50820  2101-10-22 13:02:00  7.39   \n",
       "...            ...           ...       ...     ...                  ...   ...   \n",
       "22245029  11174338         18054  100572.0   51455  2158-04-24 11:42:00    29   \n",
       "22245030  11174339         18054  100572.0   51457  2158-04-24 11:42:00   575   \n",
       "22245031  11174340         18054  100572.0   51458  2158-04-24 11:42:00  1325   \n",
       "22245032  11174335         18054  100572.0   51447  2158-04-24 11:42:00    10   \n",
       "22245033  11174333         18054  100572.0   51444  2158-04-24 11:42:00    31   \n",
       "\n",
       "          VALUENUM VALUEUOM      FLAG  ROW_ID_y  ... LANGUAGE  RELIGION  \\\n",
       "0             7.40    units       NaN        21  ...      NaN  CATHOLIC   \n",
       "1             7.37    units       NaN        21  ...      NaN  CATHOLIC   \n",
       "2             7.37    units       NaN        21  ...      NaN  CATHOLIC   \n",
       "3             7.39    units       NaN        21  ...      NaN  CATHOLIC   \n",
       "4             7.39    units       NaN        21  ...      NaN  CATHOLIC   \n",
       "...            ...      ...       ...       ...  ...      ...       ...   \n",
       "22245029     29.00        %  abnormal       655  ...     ENGL  CATHOLIC   \n",
       "22245030    575.00     #/uL  abnormal       657  ...     ENGL  CATHOLIC   \n",
       "22245031   1325.00     #/uL  abnormal       658  ...     ENGL  CATHOLIC   \n",
       "22245032     10.00        %  abnormal       647  ...     ENGL  CATHOLIC   \n",
       "22245033     31.00        %  abnormal       644  ...     ENGL  CATHOLIC   \n",
       "\n",
       "         MARITAL_STATUS ETHNICITY            EDREGTIME            EDOUTTIME  \\\n",
       "0               MARRIED     WHITE  2101-10-20 17:09:00  2101-10-20 19:24:00   \n",
       "1               MARRIED     WHITE  2101-10-20 17:09:00  2101-10-20 19:24:00   \n",
       "2               MARRIED     WHITE  2101-10-20 17:09:00  2101-10-20 19:24:00   \n",
       "3               MARRIED     WHITE  2101-10-20 17:09:00  2101-10-20 19:24:00   \n",
       "4               MARRIED     WHITE  2101-10-20 17:09:00  2101-10-20 19:24:00   \n",
       "...                 ...       ...                  ...                  ...   \n",
       "22245029        MARRIED     WHITE                  NaN                  NaN   \n",
       "22245030        MARRIED     WHITE                  NaN                  NaN   \n",
       "22245031        MARRIED     WHITE                  NaN                  NaN   \n",
       "22245032        MARRIED     WHITE                  NaN                  NaN   \n",
       "22245033        MARRIED     WHITE                  NaN                  NaN   \n",
       "\n",
       "                           DIAGNOSIS HOSPITAL_EXPIRE_FLAG  \\\n",
       "0                        HYPOTENSION                    0   \n",
       "1                        HYPOTENSION                    0   \n",
       "2                        HYPOTENSION                    0   \n",
       "3                        HYPOTENSION                    0   \n",
       "4                        HYPOTENSION                    0   \n",
       "...                              ...                  ...   \n",
       "22245029  PLEURAL EFFUSION RIGHT/SDA                    0   \n",
       "22245030  PLEURAL EFFUSION RIGHT/SDA                    0   \n",
       "22245031  PLEURAL EFFUSION RIGHT/SDA                    0   \n",
       "22245032  PLEURAL EFFUSION RIGHT/SDA                    0   \n",
       "22245033  PLEURAL EFFUSION RIGHT/SDA                    0   \n",
       "\n",
       "         HAS_CHARTEVENTS_DATA LabTimeFromAdmit  \n",
       "0                           1  1 days 09:23:00  \n",
       "1                           1  1 days 12:05:00  \n",
       "2                           1  1 days 15:08:00  \n",
       "3                           1  1 days 16:13:00  \n",
       "4                           1  1 days 17:54:00  \n",
       "...                       ...              ...  \n",
       "22245029                    0  0 days 02:57:00  \n",
       "22245030                    0  0 days 02:57:00  \n",
       "22245031                    0  0 days 02:57:00  \n",
       "22245032                    0  0 days 02:57:00  \n",
       "22245033                    0  0 days 02:57:00  \n",
       "\n",
       "[22245034 rows x 33 columns]"
      ]
     },
     "execution_count": 6,
     "metadata": {},
     "output_type": "execute_result"
    }
   ],
   "source": [
    "l_p_df"
   ]
  },
  {
   "cell_type": "markdown",
   "metadata": {},
   "source": [
    "## Medication Patient Data"
   ]
  },
  {
   "cell_type": "code",
   "execution_count": 65,
   "metadata": {},
   "outputs": [
    {
     "name": "stderr",
     "output_type": "stream",
     "text": [
      "/var/folders/xb/6svjl9sj43z6gfhlcp2nc5540000gr/T/ipykernel_26908/3908620283.py:1: DtypeWarning: Columns (13,19,24) have mixed types. Specify dtype option on import or set low_memory=False.\n",
      "  m_p_df = pd.read_csv(os.path.join(data, \"mimiciii/1.4/preprocessed\", \"med_patient_data.csv\"))\n"
     ]
    }
   ],
   "source": [
    "m_p_df = pd.read_csv(os.path.join(data, \"mimiciii/1.4/preprocessed\", \"med_patient_data.csv\"))"
   ]
  },
  {
   "cell_type": "code",
   "execution_count": 74,
   "metadata": {},
   "outputs": [],
   "source": [
    "m_p_df = m_p_df.drop(columns=[\"Unnamed: 0\"]).rename(columns={\"SUBJECT_ID_x\":\"SUBJECT_ID\"})"
   ]
  },
  {
   "cell_type": "code",
   "execution_count": 67,
   "metadata": {},
   "outputs": [],
   "source": [
    "m_p_df[\"MedTimeFromAdmit\"] = pd.to_datetime(m_p_df[\"ENDTIME\"])-pd.to_datetime(m_p_df[\"ADMITTIME\"])"
   ]
  },
  {
   "cell_type": "code",
   "execution_count": 68,
   "metadata": {},
   "outputs": [],
   "source": [
    "m_p_df = m_p_df.sort_values(by=\"MedTimeFromAdmit\")"
   ]
  },
  {
   "cell_type": "code",
   "execution_count": 69,
   "metadata": {},
   "outputs": [
    {
     "data": {
      "text/html": [
       "<div>\n",
       "<style scoped>\n",
       "    .dataframe tbody tr th:only-of-type {\n",
       "        vertical-align: middle;\n",
       "    }\n",
       "\n",
       "    .dataframe tbody tr th {\n",
       "        vertical-align: top;\n",
       "    }\n",
       "\n",
       "    .dataframe thead th {\n",
       "        text-align: right;\n",
       "    }\n",
       "</style>\n",
       "<table border=\"1\" class=\"dataframe\">\n",
       "  <thead>\n",
       "    <tr style=\"text-align: right;\">\n",
       "      <th></th>\n",
       "      <th>Unnamed: 0</th>\n",
       "      <th>ROW_ID_x</th>\n",
       "      <th>SUBJECT_ID</th>\n",
       "      <th>HADM_ID</th>\n",
       "      <th>ICUSTAY_ID</th>\n",
       "      <th>STARTTIME</th>\n",
       "      <th>ENDTIME</th>\n",
       "      <th>ITEMID</th>\n",
       "      <th>AMOUNT</th>\n",
       "      <th>AMOUNTUOM</th>\n",
       "      <th>...</th>\n",
       "      <th>ROW_ID</th>\n",
       "      <th>LABEL</th>\n",
       "      <th>ABBREVIATION</th>\n",
       "      <th>DBSOURCE</th>\n",
       "      <th>LINKSTO</th>\n",
       "      <th>CATEGORY</th>\n",
       "      <th>UNITNAME</th>\n",
       "      <th>PARAM_TYPE</th>\n",
       "      <th>CONCEPTID</th>\n",
       "      <th>MedTimeFromAdmit</th>\n",
       "    </tr>\n",
       "  </thead>\n",
       "  <tbody>\n",
       "    <tr>\n",
       "      <th>2888398</th>\n",
       "      <td>2888398</td>\n",
       "      <td>141679</td>\n",
       "      <td>1339</td>\n",
       "      <td>158998</td>\n",
       "      <td>248434.0</td>\n",
       "      <td>2138-10-12 00:00:00</td>\n",
       "      <td>2138-10-12 00:01:00</td>\n",
       "      <td>221385</td>\n",
       "      <td>1.000000</td>\n",
       "      <td>mg</td>\n",
       "      <td>...</td>\n",
       "      <td>12964</td>\n",
       "      <td>Lorazepam (Ativan)</td>\n",
       "      <td>Lorazepam (Ativan)</td>\n",
       "      <td>metavision</td>\n",
       "      <td>inputevents_mv</td>\n",
       "      <td>Medications</td>\n",
       "      <td>mg</td>\n",
       "      <td>Solution</td>\n",
       "      <td>NaN</td>\n",
       "      <td>-2 days +12:37:00</td>\n",
       "    </tr>\n",
       "    <tr>\n",
       "      <th>1771130</th>\n",
       "      <td>1771130</td>\n",
       "      <td>141722</td>\n",
       "      <td>1339</td>\n",
       "      <td>158998</td>\n",
       "      <td>248434.0</td>\n",
       "      <td>2138-10-12 00:30:00</td>\n",
       "      <td>2138-10-12 00:31:00</td>\n",
       "      <td>221744</td>\n",
       "      <td>49.999999</td>\n",
       "      <td>mcg</td>\n",
       "      <td>...</td>\n",
       "      <td>12977</td>\n",
       "      <td>Fentanyl</td>\n",
       "      <td>Fentanyl</td>\n",
       "      <td>metavision</td>\n",
       "      <td>inputevents_mv</td>\n",
       "      <td>Medications</td>\n",
       "      <td>mg</td>\n",
       "      <td>Solution</td>\n",
       "      <td>NaN</td>\n",
       "      <td>-2 days +13:07:00</td>\n",
       "    </tr>\n",
       "    <tr>\n",
       "      <th>1267803</th>\n",
       "      <td>1267803</td>\n",
       "      <td>141697</td>\n",
       "      <td>1339</td>\n",
       "      <td>158998</td>\n",
       "      <td>248434.0</td>\n",
       "      <td>2138-10-12 01:00:00</td>\n",
       "      <td>2138-10-12 02:16:00</td>\n",
       "      <td>225828</td>\n",
       "      <td>95.000000</td>\n",
       "      <td>ml</td>\n",
       "      <td>...</td>\n",
       "      <td>14005</td>\n",
       "      <td>LR</td>\n",
       "      <td>LR</td>\n",
       "      <td>metavision</td>\n",
       "      <td>inputevents_mv</td>\n",
       "      <td>Fluids/Intake</td>\n",
       "      <td>mL</td>\n",
       "      <td>Solution</td>\n",
       "      <td>NaN</td>\n",
       "      <td>-2 days +14:52:00</td>\n",
       "    </tr>\n",
       "    <tr>\n",
       "      <th>2888396</th>\n",
       "      <td>2888396</td>\n",
       "      <td>141636</td>\n",
       "      <td>1339</td>\n",
       "      <td>158998</td>\n",
       "      <td>248434.0</td>\n",
       "      <td>2138-10-12 07:00:00</td>\n",
       "      <td>2138-10-12 07:01:00</td>\n",
       "      <td>221385</td>\n",
       "      <td>1.000000</td>\n",
       "      <td>mg</td>\n",
       "      <td>...</td>\n",
       "      <td>12964</td>\n",
       "      <td>Lorazepam (Ativan)</td>\n",
       "      <td>Lorazepam (Ativan)</td>\n",
       "      <td>metavision</td>\n",
       "      <td>inputevents_mv</td>\n",
       "      <td>Medications</td>\n",
       "      <td>mg</td>\n",
       "      <td>Solution</td>\n",
       "      <td>NaN</td>\n",
       "      <td>-2 days +19:37:00</td>\n",
       "    </tr>\n",
       "    <tr>\n",
       "      <th>1771128</th>\n",
       "      <td>1771128</td>\n",
       "      <td>141688</td>\n",
       "      <td>1339</td>\n",
       "      <td>158998</td>\n",
       "      <td>248434.0</td>\n",
       "      <td>2138-10-12 08:00:00</td>\n",
       "      <td>2138-10-12 08:01:00</td>\n",
       "      <td>221744</td>\n",
       "      <td>24.999999</td>\n",
       "      <td>mcg</td>\n",
       "      <td>...</td>\n",
       "      <td>12977</td>\n",
       "      <td>Fentanyl</td>\n",
       "      <td>Fentanyl</td>\n",
       "      <td>metavision</td>\n",
       "      <td>inputevents_mv</td>\n",
       "      <td>Medications</td>\n",
       "      <td>mg</td>\n",
       "      <td>Solution</td>\n",
       "      <td>NaN</td>\n",
       "      <td>-2 days +20:37:00</td>\n",
       "    </tr>\n",
       "    <tr>\n",
       "      <th>...</th>\n",
       "      <td>...</td>\n",
       "      <td>...</td>\n",
       "      <td>...</td>\n",
       "      <td>...</td>\n",
       "      <td>...</td>\n",
       "      <td>...</td>\n",
       "      <td>...</td>\n",
       "      <td>...</td>\n",
       "      <td>...</td>\n",
       "      <td>...</td>\n",
       "      <td>...</td>\n",
       "      <td>...</td>\n",
       "      <td>...</td>\n",
       "      <td>...</td>\n",
       "      <td>...</td>\n",
       "      <td>...</td>\n",
       "      <td>...</td>\n",
       "      <td>...</td>\n",
       "      <td>...</td>\n",
       "      <td>...</td>\n",
       "      <td>...</td>\n",
       "    </tr>\n",
       "    <tr>\n",
       "      <th>2071107</th>\n",
       "      <td>2071107</td>\n",
       "      <td>3117387</td>\n",
       "      <td>53863</td>\n",
       "      <td>136210</td>\n",
       "      <td>291819.0</td>\n",
       "      <td>2161-02-21 22:45:00</td>\n",
       "      <td>2162-01-08 11:15:00</td>\n",
       "      <td>225943</td>\n",
       "      <td>30.773265</td>\n",
       "      <td>ml</td>\n",
       "      <td>...</td>\n",
       "      <td>14375</td>\n",
       "      <td>Solution</td>\n",
       "      <td>Solution</td>\n",
       "      <td>metavision</td>\n",
       "      <td>inputevents_mv</td>\n",
       "      <td>Fluids/Intake</td>\n",
       "      <td>mL</td>\n",
       "      <td>Solution</td>\n",
       "      <td>NaN</td>\n",
       "      <td>321 days 11:09:00</td>\n",
       "    </tr>\n",
       "    <tr>\n",
       "      <th>2622088</th>\n",
       "      <td>2622088</td>\n",
       "      <td>3117386</td>\n",
       "      <td>53863</td>\n",
       "      <td>136210</td>\n",
       "      <td>291819.0</td>\n",
       "      <td>2161-02-21 22:45:00</td>\n",
       "      <td>2162-01-08 11:15:00</td>\n",
       "      <td>225942</td>\n",
       "      <td>1.538663</td>\n",
       "      <td>mg</td>\n",
       "      <td>...</td>\n",
       "      <td>14374</td>\n",
       "      <td>Fentanyl (Concentrate)</td>\n",
       "      <td>Fentanyl (Concentrate)</td>\n",
       "      <td>metavision</td>\n",
       "      <td>inputevents_mv</td>\n",
       "      <td>Medications</td>\n",
       "      <td>mg</td>\n",
       "      <td>Solution</td>\n",
       "      <td>NaN</td>\n",
       "      <td>321 days 11:09:00</td>\n",
       "    </tr>\n",
       "    <tr>\n",
       "      <th>1522100</th>\n",
       "      <td>1522100</td>\n",
       "      <td>647177</td>\n",
       "      <td>51914</td>\n",
       "      <td>128777</td>\n",
       "      <td>283771.0</td>\n",
       "      <td>2132-03-25 16:00:00</td>\n",
       "      <td>2133-03-09 19:00:00</td>\n",
       "      <td>221906</td>\n",
       "      <td>7.758037</td>\n",
       "      <td>mg</td>\n",
       "      <td>...</td>\n",
       "      <td>12984</td>\n",
       "      <td>Norepinephrine</td>\n",
       "      <td>Norepinephrine</td>\n",
       "      <td>metavision</td>\n",
       "      <td>inputevents_mv</td>\n",
       "      <td>Medications</td>\n",
       "      <td>mg</td>\n",
       "      <td>Solution</td>\n",
       "      <td>NaN</td>\n",
       "      <td>363 days 03:29:00</td>\n",
       "    </tr>\n",
       "    <tr>\n",
       "      <th>744855</th>\n",
       "      <td>744855</td>\n",
       "      <td>647178</td>\n",
       "      <td>51914</td>\n",
       "      <td>128777</td>\n",
       "      <td>283771.0</td>\n",
       "      <td>2132-03-25 16:00:00</td>\n",
       "      <td>2133-03-09 19:00:00</td>\n",
       "      <td>225158</td>\n",
       "      <td>242.438728</td>\n",
       "      <td>ml</td>\n",
       "      <td>...</td>\n",
       "      <td>13758</td>\n",
       "      <td>NaCl 0.9%</td>\n",
       "      <td>NaCl 0.9%</td>\n",
       "      <td>metavision</td>\n",
       "      <td>inputevents_mv</td>\n",
       "      <td>Fluids/Intake</td>\n",
       "      <td>mL</td>\n",
       "      <td>Solution</td>\n",
       "      <td>NaN</td>\n",
       "      <td>363 days 03:29:00</td>\n",
       "    </tr>\n",
       "    <tr>\n",
       "      <th>810827</th>\n",
       "      <td>810827</td>\n",
       "      <td>1049249</td>\n",
       "      <td>50822</td>\n",
       "      <td>125824</td>\n",
       "      <td>263713.0</td>\n",
       "      <td>2164-11-02 21:00:00</td>\n",
       "      <td>2166-02-12 02:19:00</td>\n",
       "      <td>225158</td>\n",
       "      <td>4610.930268</td>\n",
       "      <td>ml</td>\n",
       "      <td>...</td>\n",
       "      <td>13758</td>\n",
       "      <td>NaCl 0.9%</td>\n",
       "      <td>NaCl 0.9%</td>\n",
       "      <td>metavision</td>\n",
       "      <td>inputevents_mv</td>\n",
       "      <td>Fluids/Intake</td>\n",
       "      <td>mL</td>\n",
       "      <td>Solution</td>\n",
       "      <td>NaN</td>\n",
       "      <td>483 days 10:14:00</td>\n",
       "    </tr>\n",
       "  </tbody>\n",
       "</table>\n",
       "<p>3618991 rows × 60 columns</p>\n",
       "</div>"
      ],
      "text/plain": [
       "         Unnamed: 0  ROW_ID_x  SUBJECT_ID  HADM_ID  ICUSTAY_ID  \\\n",
       "2888398     2888398    141679        1339   158998    248434.0   \n",
       "1771130     1771130    141722        1339   158998    248434.0   \n",
       "1267803     1267803    141697        1339   158998    248434.0   \n",
       "2888396     2888396    141636        1339   158998    248434.0   \n",
       "1771128     1771128    141688        1339   158998    248434.0   \n",
       "...             ...       ...         ...      ...         ...   \n",
       "2071107     2071107   3117387       53863   136210    291819.0   \n",
       "2622088     2622088   3117386       53863   136210    291819.0   \n",
       "1522100     1522100    647177       51914   128777    283771.0   \n",
       "744855       744855    647178       51914   128777    283771.0   \n",
       "810827       810827   1049249       50822   125824    263713.0   \n",
       "\n",
       "                   STARTTIME              ENDTIME  ITEMID       AMOUNT  \\\n",
       "2888398  2138-10-12 00:00:00  2138-10-12 00:01:00  221385     1.000000   \n",
       "1771130  2138-10-12 00:30:00  2138-10-12 00:31:00  221744    49.999999   \n",
       "1267803  2138-10-12 01:00:00  2138-10-12 02:16:00  225828    95.000000   \n",
       "2888396  2138-10-12 07:00:00  2138-10-12 07:01:00  221385     1.000000   \n",
       "1771128  2138-10-12 08:00:00  2138-10-12 08:01:00  221744    24.999999   \n",
       "...                      ...                  ...     ...          ...   \n",
       "2071107  2161-02-21 22:45:00  2162-01-08 11:15:00  225943    30.773265   \n",
       "2622088  2161-02-21 22:45:00  2162-01-08 11:15:00  225942     1.538663   \n",
       "1522100  2132-03-25 16:00:00  2133-03-09 19:00:00  221906     7.758037   \n",
       "744855   2132-03-25 16:00:00  2133-03-09 19:00:00  225158   242.438728   \n",
       "810827   2164-11-02 21:00:00  2166-02-12 02:19:00  225158  4610.930268   \n",
       "\n",
       "        AMOUNTUOM  ...  ROW_ID                   LABEL  \\\n",
       "2888398        mg  ...   12964      Lorazepam (Ativan)   \n",
       "1771130       mcg  ...   12977                Fentanyl   \n",
       "1267803        ml  ...   14005                      LR   \n",
       "2888396        mg  ...   12964      Lorazepam (Ativan)   \n",
       "1771128       mcg  ...   12977                Fentanyl   \n",
       "...           ...  ...     ...                     ...   \n",
       "2071107        ml  ...   14375                Solution   \n",
       "2622088        mg  ...   14374  Fentanyl (Concentrate)   \n",
       "1522100        mg  ...   12984          Norepinephrine   \n",
       "744855         ml  ...   13758               NaCl 0.9%   \n",
       "810827         ml  ...   13758               NaCl 0.9%   \n",
       "\n",
       "                   ABBREVIATION    DBSOURCE         LINKSTO       CATEGORY  \\\n",
       "2888398      Lorazepam (Ativan)  metavision  inputevents_mv    Medications   \n",
       "1771130                Fentanyl  metavision  inputevents_mv    Medications   \n",
       "1267803                      LR  metavision  inputevents_mv  Fluids/Intake   \n",
       "2888396      Lorazepam (Ativan)  metavision  inputevents_mv    Medications   \n",
       "1771128                Fentanyl  metavision  inputevents_mv    Medications   \n",
       "...                         ...         ...             ...            ...   \n",
       "2071107                Solution  metavision  inputevents_mv  Fluids/Intake   \n",
       "2622088  Fentanyl (Concentrate)  metavision  inputevents_mv    Medications   \n",
       "1522100          Norepinephrine  metavision  inputevents_mv    Medications   \n",
       "744855                NaCl 0.9%  metavision  inputevents_mv  Fluids/Intake   \n",
       "810827                NaCl 0.9%  metavision  inputevents_mv  Fluids/Intake   \n",
       "\n",
       "        UNITNAME PARAM_TYPE CONCEPTID  MedTimeFromAdmit  \n",
       "2888398       mg   Solution       NaN -2 days +12:37:00  \n",
       "1771130       mg   Solution       NaN -2 days +13:07:00  \n",
       "1267803       mL   Solution       NaN -2 days +14:52:00  \n",
       "2888396       mg   Solution       NaN -2 days +19:37:00  \n",
       "1771128       mg   Solution       NaN -2 days +20:37:00  \n",
       "...          ...        ...       ...               ...  \n",
       "2071107       mL   Solution       NaN 321 days 11:09:00  \n",
       "2622088       mg   Solution       NaN 321 days 11:09:00  \n",
       "1522100       mg   Solution       NaN 363 days 03:29:00  \n",
       "744855        mL   Solution       NaN 363 days 03:29:00  \n",
       "810827        mL   Solution       NaN 483 days 10:14:00  \n",
       "\n",
       "[3618991 rows x 60 columns]"
      ]
     },
     "execution_count": 69,
     "metadata": {},
     "output_type": "execute_result"
    }
   ],
   "source": [
    "m_p_df"
   ]
  },
  {
   "cell_type": "markdown",
   "metadata": {},
   "source": [
    "## Filter Meds"
   ]
  },
  {
   "cell_type": "markdown",
   "metadata": {},
   "source": [
    "### Med 1"
   ]
  },
  {
   "cell_type": "code",
   "execution_count": 356,
   "metadata": {},
   "outputs": [],
   "source": [
    "med1 = m_p_df.groupby([\"HADM_ID\", \"ITEMID\"]).nth(0).reset_index()"
   ]
  },
  {
   "cell_type": "code",
   "execution_count": 357,
   "metadata": {},
   "outputs": [],
   "source": [
    "med1 = med1.sort_values(\"MedTimeFromAdmit\")"
   ]
  },
  {
   "cell_type": "code",
   "execution_count": 358,
   "metadata": {},
   "outputs": [],
   "source": [
    "# med1[['HADM_ID', 'ITEMID', 'ROW_ID_x', 'SUBJECT_ID_x', 'ICUSTAY_ID',\n",
    "#        'STARTTIME', 'ENDTIME', 'AMOUNT', 'AMOUNTUOM', 'RATE', 'RATEUOM', 'ADMITTIME', 'DISCHTIME', 'DEATHTIME', 'MedTimeFromAdmit']]"
   ]
  },
  {
   "cell_type": "code",
   "execution_count": 359,
   "metadata": {},
   "outputs": [],
   "source": [
    "med1 = med1[med1[\"MedTimeFromAdmit\"].dt.total_seconds()>0]"
   ]
  },
  {
   "cell_type": "code",
   "execution_count": 360,
   "metadata": {},
   "outputs": [],
   "source": [
    "med1 = med1.sort_values(by=[\"ADMITTIME\"]).groupby([\"SUBJECT_ID\", \"ITEMID\"]).nth(0).reset_index().sort_values(by=[\"MedTimeFromAdmit\"])"
   ]
  },
  {
   "cell_type": "code",
   "execution_count": 361,
   "metadata": {},
   "outputs": [
    {
     "data": {
      "text/html": [
       "<div>\n",
       "<style scoped>\n",
       "    .dataframe tbody tr th:only-of-type {\n",
       "        vertical-align: middle;\n",
       "    }\n",
       "\n",
       "    .dataframe tbody tr th {\n",
       "        vertical-align: top;\n",
       "    }\n",
       "\n",
       "    .dataframe thead th {\n",
       "        text-align: right;\n",
       "    }\n",
       "</style>\n",
       "<table border=\"1\" class=\"dataframe\">\n",
       "  <thead>\n",
       "    <tr style=\"text-align: right;\">\n",
       "      <th></th>\n",
       "      <th>SUBJECT_ID</th>\n",
       "      <th>ITEMID</th>\n",
       "      <th>HADM_ID</th>\n",
       "      <th>ROW_ID_x</th>\n",
       "      <th>ICUSTAY_ID</th>\n",
       "      <th>STARTTIME</th>\n",
       "      <th>ENDTIME</th>\n",
       "      <th>AMOUNT</th>\n",
       "      <th>AMOUNTUOM</th>\n",
       "      <th>RATE</th>\n",
       "      <th>...</th>\n",
       "      <th>ROW_ID</th>\n",
       "      <th>LABEL</th>\n",
       "      <th>ABBREVIATION</th>\n",
       "      <th>DBSOURCE</th>\n",
       "      <th>LINKSTO</th>\n",
       "      <th>CATEGORY</th>\n",
       "      <th>UNITNAME</th>\n",
       "      <th>PARAM_TYPE</th>\n",
       "      <th>CONCEPTID</th>\n",
       "      <th>MedTimeFromAdmit</th>\n",
       "    </tr>\n",
       "  </thead>\n",
       "  <tbody>\n",
       "    <tr>\n",
       "      <th>28897</th>\n",
       "      <td>29495</td>\n",
       "      <td>225828</td>\n",
       "      <td>182822</td>\n",
       "      <td>2947</td>\n",
       "      <td>252299.0</td>\n",
       "      <td>2126-01-22 21:51:00</td>\n",
       "      <td>2126-01-22 21:52:00</td>\n",
       "      <td>1000.000000</td>\n",
       "      <td>ml</td>\n",
       "      <td>NaN</td>\n",
       "      <td>...</td>\n",
       "      <td>14005</td>\n",
       "      <td>LR</td>\n",
       "      <td>LR</td>\n",
       "      <td>metavision</td>\n",
       "      <td>inputevents_mv</td>\n",
       "      <td>Fluids/Intake</td>\n",
       "      <td>mL</td>\n",
       "      <td>Solution</td>\n",
       "      <td>NaN</td>\n",
       "      <td>0 days 00:01:00</td>\n",
       "    </tr>\n",
       "    <tr>\n",
       "      <th>199105</th>\n",
       "      <td>73363</td>\n",
       "      <td>225943</td>\n",
       "      <td>174481</td>\n",
       "      <td>1266630</td>\n",
       "      <td>288413.0</td>\n",
       "      <td>2144-01-31 12:21:00</td>\n",
       "      <td>2144-01-31 14:01:00</td>\n",
       "      <td>64.516127</td>\n",
       "      <td>ml</td>\n",
       "      <td>38.709676</td>\n",
       "      <td>...</td>\n",
       "      <td>14375</td>\n",
       "      <td>Solution</td>\n",
       "      <td>Solution</td>\n",
       "      <td>metavision</td>\n",
       "      <td>inputevents_mv</td>\n",
       "      <td>Fluids/Intake</td>\n",
       "      <td>mL</td>\n",
       "      <td>Solution</td>\n",
       "      <td>NaN</td>\n",
       "      <td>0 days 00:01:00</td>\n",
       "    </tr>\n",
       "    <tr>\n",
       "      <th>71788</th>\n",
       "      <td>47216</td>\n",
       "      <td>225158</td>\n",
       "      <td>167377</td>\n",
       "      <td>2598902</td>\n",
       "      <td>246025.0</td>\n",
       "      <td>2155-08-01 11:26:00</td>\n",
       "      <td>2155-08-01 11:27:00</td>\n",
       "      <td>1500.000000</td>\n",
       "      <td>ml</td>\n",
       "      <td>NaN</td>\n",
       "      <td>...</td>\n",
       "      <td>13758</td>\n",
       "      <td>NaCl 0.9%</td>\n",
       "      <td>NaCl 0.9%</td>\n",
       "      <td>metavision</td>\n",
       "      <td>inputevents_mv</td>\n",
       "      <td>Fluids/Intake</td>\n",
       "      <td>mL</td>\n",
       "      <td>Solution</td>\n",
       "      <td>NaN</td>\n",
       "      <td>0 days 00:01:00</td>\n",
       "    </tr>\n",
       "    <tr>\n",
       "      <th>77294</th>\n",
       "      <td>48348</td>\n",
       "      <td>226372</td>\n",
       "      <td>186981</td>\n",
       "      <td>1947331</td>\n",
       "      <td>274006.0</td>\n",
       "      <td>2177-11-28 12:00:00</td>\n",
       "      <td>2177-11-28 12:01:00</td>\n",
       "      <td>250.000000</td>\n",
       "      <td>ml</td>\n",
       "      <td>NaN</td>\n",
       "      <td>...</td>\n",
       "      <td>14457</td>\n",
       "      <td>OR Cell Saver Intake</td>\n",
       "      <td>OR Cell Saver Intake</td>\n",
       "      <td>metavision</td>\n",
       "      <td>inputevents_mv</td>\n",
       "      <td>Blood Products/Colloids</td>\n",
       "      <td>mL</td>\n",
       "      <td>Solution</td>\n",
       "      <td>NaN</td>\n",
       "      <td>0 days 00:01:00</td>\n",
       "    </tr>\n",
       "    <tr>\n",
       "      <th>77293</th>\n",
       "      <td>48348</td>\n",
       "      <td>226364</td>\n",
       "      <td>186981</td>\n",
       "      <td>1947274</td>\n",
       "      <td>274006.0</td>\n",
       "      <td>2177-11-28 12:00:00</td>\n",
       "      <td>2177-11-28 12:01:00</td>\n",
       "      <td>2700.000000</td>\n",
       "      <td>ml</td>\n",
       "      <td>NaN</td>\n",
       "      <td>...</td>\n",
       "      <td>14450</td>\n",
       "      <td>OR Crystalloid Intake</td>\n",
       "      <td>OR Crystalloid Intake</td>\n",
       "      <td>metavision</td>\n",
       "      <td>inputevents_mv</td>\n",
       "      <td>Fluids/Intake</td>\n",
       "      <td>mL</td>\n",
       "      <td>Solution</td>\n",
       "      <td>NaN</td>\n",
       "      <td>0 days 00:01:00</td>\n",
       "    </tr>\n",
       "    <tr>\n",
       "      <th>...</th>\n",
       "      <td>...</td>\n",
       "      <td>...</td>\n",
       "      <td>...</td>\n",
       "      <td>...</td>\n",
       "      <td>...</td>\n",
       "      <td>...</td>\n",
       "      <td>...</td>\n",
       "      <td>...</td>\n",
       "      <td>...</td>\n",
       "      <td>...</td>\n",
       "      <td>...</td>\n",
       "      <td>...</td>\n",
       "      <td>...</td>\n",
       "      <td>...</td>\n",
       "      <td>...</td>\n",
       "      <td>...</td>\n",
       "      <td>...</td>\n",
       "      <td>...</td>\n",
       "      <td>...</td>\n",
       "      <td>...</td>\n",
       "      <td>...</td>\n",
       "    </tr>\n",
       "    <tr>\n",
       "      <th>291587</th>\n",
       "      <td>93321</td>\n",
       "      <td>225917</td>\n",
       "      <td>115396</td>\n",
       "      <td>3599650</td>\n",
       "      <td>248745.0</td>\n",
       "      <td>2128-09-11 21:46:00</td>\n",
       "      <td>2128-09-12 13:47:00</td>\n",
       "      <td>2500.000081</td>\n",
       "      <td>ml</td>\n",
       "      <td>156.087414</td>\n",
       "      <td>...</td>\n",
       "      <td>14355</td>\n",
       "      <td>TPN without Lipids</td>\n",
       "      <td>TPN without Lipids</td>\n",
       "      <td>metavision</td>\n",
       "      <td>inputevents_mv</td>\n",
       "      <td>Nutrition - Parenteral</td>\n",
       "      <td>mL</td>\n",
       "      <td>Solution</td>\n",
       "      <td>NaN</td>\n",
       "      <td>171 days 14:46:00</td>\n",
       "    </tr>\n",
       "    <tr>\n",
       "      <th>291596</th>\n",
       "      <td>93321</td>\n",
       "      <td>226453</td>\n",
       "      <td>115396</td>\n",
       "      <td>3599538</td>\n",
       "      <td>248745.0</td>\n",
       "      <td>2128-09-12 21:22:00</td>\n",
       "      <td>2128-09-12 21:23:00</td>\n",
       "      <td>60.000000</td>\n",
       "      <td>ml</td>\n",
       "      <td>NaN</td>\n",
       "      <td>...</td>\n",
       "      <td>14472</td>\n",
       "      <td>GT Flush</td>\n",
       "      <td>GT Flush</td>\n",
       "      <td>metavision</td>\n",
       "      <td>inputevents_mv</td>\n",
       "      <td>Fluids/Intake</td>\n",
       "      <td>mL</td>\n",
       "      <td>Solution</td>\n",
       "      <td>NaN</td>\n",
       "      <td>171 days 22:22:00</td>\n",
       "    </tr>\n",
       "    <tr>\n",
       "      <th>291567</th>\n",
       "      <td>93321</td>\n",
       "      <td>225797</td>\n",
       "      <td>115396</td>\n",
       "      <td>3599579</td>\n",
       "      <td>248745.0</td>\n",
       "      <td>2128-09-14 17:58:00</td>\n",
       "      <td>2128-09-14 17:59:00</td>\n",
       "      <td>100.000000</td>\n",
       "      <td>ml</td>\n",
       "      <td>NaN</td>\n",
       "      <td>...</td>\n",
       "      <td>13981</td>\n",
       "      <td>Free Water</td>\n",
       "      <td>Free Water</td>\n",
       "      <td>metavision</td>\n",
       "      <td>inputevents_mv</td>\n",
       "      <td>Fluids/Intake</td>\n",
       "      <td>mL</td>\n",
       "      <td>Solution</td>\n",
       "      <td>NaN</td>\n",
       "      <td>173 days 18:58:00</td>\n",
       "    </tr>\n",
       "    <tr>\n",
       "      <th>291588</th>\n",
       "      <td>93321</td>\n",
       "      <td>225930</td>\n",
       "      <td>115396</td>\n",
       "      <td>3599677</td>\n",
       "      <td>248745.0</td>\n",
       "      <td>2128-09-14 15:33:00</td>\n",
       "      <td>2128-09-14 18:43:00</td>\n",
       "      <td>31.666667</td>\n",
       "      <td>ml</td>\n",
       "      <td>10.000000</td>\n",
       "      <td>...</td>\n",
       "      <td>14367</td>\n",
       "      <td>Peptamen 1.5 (Full)</td>\n",
       "      <td>Peptamen 1.5 (Full)</td>\n",
       "      <td>metavision</td>\n",
       "      <td>inputevents_mv</td>\n",
       "      <td>Nutrition - Enteral</td>\n",
       "      <td>mL</td>\n",
       "      <td>Solution</td>\n",
       "      <td>NaN</td>\n",
       "      <td>173 days 19:42:00</td>\n",
       "    </tr>\n",
       "    <tr>\n",
       "      <th>291556</th>\n",
       "      <td>93321</td>\n",
       "      <td>221794</td>\n",
       "      <td>115396</td>\n",
       "      <td>3599952</td>\n",
       "      <td>248745.0</td>\n",
       "      <td>2128-09-16 14:06:00</td>\n",
       "      <td>2128-09-16 14:07:00</td>\n",
       "      <td>20.000001</td>\n",
       "      <td>mg</td>\n",
       "      <td>NaN</td>\n",
       "      <td>...</td>\n",
       "      <td>12979</td>\n",
       "      <td>Furosemide (Lasix)</td>\n",
       "      <td>Furosemide (Lasix)</td>\n",
       "      <td>metavision</td>\n",
       "      <td>inputevents_mv</td>\n",
       "      <td>Medications</td>\n",
       "      <td>mg</td>\n",
       "      <td>Solution</td>\n",
       "      <td>NaN</td>\n",
       "      <td>175 days 15:06:00</td>\n",
       "    </tr>\n",
       "  </tbody>\n",
       "</table>\n",
       "<p>323007 rows × 59 columns</p>\n",
       "</div>"
      ],
      "text/plain": [
       "        SUBJECT_ID  ITEMID  HADM_ID  ROW_ID_x  ICUSTAY_ID  \\\n",
       "28897        29495  225828   182822      2947    252299.0   \n",
       "199105       73363  225943   174481   1266630    288413.0   \n",
       "71788        47216  225158   167377   2598902    246025.0   \n",
       "77294        48348  226372   186981   1947331    274006.0   \n",
       "77293        48348  226364   186981   1947274    274006.0   \n",
       "...            ...     ...      ...       ...         ...   \n",
       "291587       93321  225917   115396   3599650    248745.0   \n",
       "291596       93321  226453   115396   3599538    248745.0   \n",
       "291567       93321  225797   115396   3599579    248745.0   \n",
       "291588       93321  225930   115396   3599677    248745.0   \n",
       "291556       93321  221794   115396   3599952    248745.0   \n",
       "\n",
       "                  STARTTIME              ENDTIME       AMOUNT AMOUNTUOM  \\\n",
       "28897   2126-01-22 21:51:00  2126-01-22 21:52:00  1000.000000        ml   \n",
       "199105  2144-01-31 12:21:00  2144-01-31 14:01:00    64.516127        ml   \n",
       "71788   2155-08-01 11:26:00  2155-08-01 11:27:00  1500.000000        ml   \n",
       "77294   2177-11-28 12:00:00  2177-11-28 12:01:00   250.000000        ml   \n",
       "77293   2177-11-28 12:00:00  2177-11-28 12:01:00  2700.000000        ml   \n",
       "...                     ...                  ...          ...       ...   \n",
       "291587  2128-09-11 21:46:00  2128-09-12 13:47:00  2500.000081        ml   \n",
       "291596  2128-09-12 21:22:00  2128-09-12 21:23:00    60.000000        ml   \n",
       "291567  2128-09-14 17:58:00  2128-09-14 17:59:00   100.000000        ml   \n",
       "291588  2128-09-14 15:33:00  2128-09-14 18:43:00    31.666667        ml   \n",
       "291556  2128-09-16 14:06:00  2128-09-16 14:07:00    20.000001        mg   \n",
       "\n",
       "              RATE  ... ROW_ID                  LABEL           ABBREVIATION  \\\n",
       "28897          NaN  ...  14005                     LR                     LR   \n",
       "199105   38.709676  ...  14375               Solution               Solution   \n",
       "71788          NaN  ...  13758              NaCl 0.9%              NaCl 0.9%   \n",
       "77294          NaN  ...  14457   OR Cell Saver Intake   OR Cell Saver Intake   \n",
       "77293          NaN  ...  14450  OR Crystalloid Intake  OR Crystalloid Intake   \n",
       "...            ...  ...    ...                    ...                    ...   \n",
       "291587  156.087414  ...  14355     TPN without Lipids     TPN without Lipids   \n",
       "291596         NaN  ...  14472               GT Flush               GT Flush   \n",
       "291567         NaN  ...  13981             Free Water             Free Water   \n",
       "291588   10.000000  ...  14367    Peptamen 1.5 (Full)    Peptamen 1.5 (Full)   \n",
       "291556         NaN  ...  12979     Furosemide (Lasix)     Furosemide (Lasix)   \n",
       "\n",
       "          DBSOURCE         LINKSTO                 CATEGORY UNITNAME  \\\n",
       "28897   metavision  inputevents_mv            Fluids/Intake       mL   \n",
       "199105  metavision  inputevents_mv            Fluids/Intake       mL   \n",
       "71788   metavision  inputevents_mv            Fluids/Intake       mL   \n",
       "77294   metavision  inputevents_mv  Blood Products/Colloids       mL   \n",
       "77293   metavision  inputevents_mv            Fluids/Intake       mL   \n",
       "...            ...             ...                      ...      ...   \n",
       "291587  metavision  inputevents_mv   Nutrition - Parenteral       mL   \n",
       "291596  metavision  inputevents_mv            Fluids/Intake       mL   \n",
       "291567  metavision  inputevents_mv            Fluids/Intake       mL   \n",
       "291588  metavision  inputevents_mv      Nutrition - Enteral       mL   \n",
       "291556  metavision  inputevents_mv              Medications       mg   \n",
       "\n",
       "       PARAM_TYPE CONCEPTID  MedTimeFromAdmit  \n",
       "28897    Solution       NaN   0 days 00:01:00  \n",
       "199105   Solution       NaN   0 days 00:01:00  \n",
       "71788    Solution       NaN   0 days 00:01:00  \n",
       "77294    Solution       NaN   0 days 00:01:00  \n",
       "77293    Solution       NaN   0 days 00:01:00  \n",
       "...           ...       ...               ...  \n",
       "291587   Solution       NaN 171 days 14:46:00  \n",
       "291596   Solution       NaN 171 days 22:22:00  \n",
       "291567   Solution       NaN 173 days 18:58:00  \n",
       "291588   Solution       NaN 173 days 19:42:00  \n",
       "291556   Solution       NaN 175 days 15:06:00  \n",
       "\n",
       "[323007 rows x 59 columns]"
      ]
     },
     "execution_count": 361,
     "metadata": {},
     "output_type": "execute_result"
    }
   ],
   "source": [
    "med1"
   ]
  },
  {
   "cell_type": "markdown",
   "metadata": {},
   "source": [
    "### Med 2"
   ]
  },
  {
   "cell_type": "code",
   "execution_count": 362,
   "metadata": {},
   "outputs": [],
   "source": [
    "med2 = m_p_df.groupby([\"HADM_ID\", \"ITEMID\"]).nth(1).reset_index()"
   ]
  },
  {
   "cell_type": "code",
   "execution_count": 363,
   "metadata": {},
   "outputs": [],
   "source": [
    "med2 = med2.sort_values(\"MedTimeFromAdmit\")"
   ]
  },
  {
   "cell_type": "code",
   "execution_count": 364,
   "metadata": {},
   "outputs": [],
   "source": [
    "med2 = med2[med2[\"MedTimeFromAdmit\"].dt.total_seconds()>0]"
   ]
  },
  {
   "cell_type": "code",
   "execution_count": 365,
   "metadata": {},
   "outputs": [],
   "source": [
    "med2 = med2.sort_values(by=[\"ADMITTIME\"]).groupby([\"SUBJECT_ID\", \"ITEMID\"]).nth(0).reset_index().sort_values(by=[\"MedTimeFromAdmit\"])"
   ]
  },
  {
   "cell_type": "code",
   "execution_count": 366,
   "metadata": {},
   "outputs": [
    {
     "data": {
      "text/html": [
       "<div>\n",
       "<style scoped>\n",
       "    .dataframe tbody tr th:only-of-type {\n",
       "        vertical-align: middle;\n",
       "    }\n",
       "\n",
       "    .dataframe tbody tr th {\n",
       "        vertical-align: top;\n",
       "    }\n",
       "\n",
       "    .dataframe thead th {\n",
       "        text-align: right;\n",
       "    }\n",
       "</style>\n",
       "<table border=\"1\" class=\"dataframe\">\n",
       "  <thead>\n",
       "    <tr style=\"text-align: right;\">\n",
       "      <th></th>\n",
       "      <th>SUBJECT_ID</th>\n",
       "      <th>ITEMID</th>\n",
       "      <th>HADM_ID</th>\n",
       "      <th>ROW_ID_x</th>\n",
       "      <th>ICUSTAY_ID</th>\n",
       "      <th>STARTTIME</th>\n",
       "      <th>ENDTIME</th>\n",
       "      <th>AMOUNT</th>\n",
       "      <th>AMOUNTUOM</th>\n",
       "      <th>RATE</th>\n",
       "      <th>...</th>\n",
       "      <th>ROW_ID</th>\n",
       "      <th>LABEL</th>\n",
       "      <th>ABBREVIATION</th>\n",
       "      <th>DBSOURCE</th>\n",
       "      <th>LINKSTO</th>\n",
       "      <th>CATEGORY</th>\n",
       "      <th>UNITNAME</th>\n",
       "      <th>PARAM_TYPE</th>\n",
       "      <th>CONCEPTID</th>\n",
       "      <th>MedTimeFromAdmit</th>\n",
       "    </tr>\n",
       "  </thead>\n",
       "  <tbody>\n",
       "    <tr>\n",
       "      <th>35719</th>\n",
       "      <td>42353</td>\n",
       "      <td>225828</td>\n",
       "      <td>171342</td>\n",
       "      <td>1671151</td>\n",
       "      <td>280877.0</td>\n",
       "      <td>2188-07-28 12:45:00</td>\n",
       "      <td>2188-07-28 12:46:00</td>\n",
       "      <td>1000.000000</td>\n",
       "      <td>ml</td>\n",
       "      <td>NaN</td>\n",
       "      <td>...</td>\n",
       "      <td>14005</td>\n",
       "      <td>LR</td>\n",
       "      <td>LR</td>\n",
       "      <td>metavision</td>\n",
       "      <td>inputevents_mv</td>\n",
       "      <td>Fluids/Intake</td>\n",
       "      <td>mL</td>\n",
       "      <td>Solution</td>\n",
       "      <td>NaN</td>\n",
       "      <td>0 days 00:01:00</td>\n",
       "    </tr>\n",
       "    <tr>\n",
       "      <th>231522</th>\n",
       "      <td>98281</td>\n",
       "      <td>225158</td>\n",
       "      <td>117684</td>\n",
       "      <td>1549345</td>\n",
       "      <td>251214.0</td>\n",
       "      <td>2134-03-30 16:30:00</td>\n",
       "      <td>2134-03-30 17:46:00</td>\n",
       "      <td>3.800000</td>\n",
       "      <td>ml</td>\n",
       "      <td>3.000000</td>\n",
       "      <td>...</td>\n",
       "      <td>13758</td>\n",
       "      <td>NaCl 0.9%</td>\n",
       "      <td>NaCl 0.9%</td>\n",
       "      <td>metavision</td>\n",
       "      <td>inputevents_mv</td>\n",
       "      <td>Fluids/Intake</td>\n",
       "      <td>mL</td>\n",
       "      <td>Solution</td>\n",
       "      <td>NaN</td>\n",
       "      <td>0 days 00:01:00</td>\n",
       "    </tr>\n",
       "    <tr>\n",
       "      <th>220822</th>\n",
       "      <td>95238</td>\n",
       "      <td>225828</td>\n",
       "      <td>110402</td>\n",
       "      <td>546286</td>\n",
       "      <td>223406.0</td>\n",
       "      <td>2161-04-20 11:45:00</td>\n",
       "      <td>2161-04-20 11:46:00</td>\n",
       "      <td>1000.000000</td>\n",
       "      <td>ml</td>\n",
       "      <td>NaN</td>\n",
       "      <td>...</td>\n",
       "      <td>14005</td>\n",
       "      <td>LR</td>\n",
       "      <td>LR</td>\n",
       "      <td>metavision</td>\n",
       "      <td>inputevents_mv</td>\n",
       "      <td>Fluids/Intake</td>\n",
       "      <td>mL</td>\n",
       "      <td>Solution</td>\n",
       "      <td>NaN</td>\n",
       "      <td>0 days 00:01:00</td>\n",
       "    </tr>\n",
       "    <tr>\n",
       "      <th>33451</th>\n",
       "      <td>41624</td>\n",
       "      <td>226372</td>\n",
       "      <td>178751</td>\n",
       "      <td>1538868</td>\n",
       "      <td>277546.0</td>\n",
       "      <td>2162-05-06 11:00:00</td>\n",
       "      <td>2162-05-06 11:01:00</td>\n",
       "      <td>600.000000</td>\n",
       "      <td>ml</td>\n",
       "      <td>NaN</td>\n",
       "      <td>...</td>\n",
       "      <td>14457</td>\n",
       "      <td>OR Cell Saver Intake</td>\n",
       "      <td>OR Cell Saver Intake</td>\n",
       "      <td>metavision</td>\n",
       "      <td>inputevents_mv</td>\n",
       "      <td>Blood Products/Colloids</td>\n",
       "      <td>mL</td>\n",
       "      <td>Solution</td>\n",
       "      <td>NaN</td>\n",
       "      <td>0 days 00:01:00</td>\n",
       "    </tr>\n",
       "    <tr>\n",
       "      <th>172779</th>\n",
       "      <td>81202</td>\n",
       "      <td>220949</td>\n",
       "      <td>105280</td>\n",
       "      <td>1614569</td>\n",
       "      <td>272451.0</td>\n",
       "      <td>2103-06-10 08:00:00</td>\n",
       "      <td>2103-06-10 08:01:00</td>\n",
       "      <td>200.000000</td>\n",
       "      <td>ml</td>\n",
       "      <td>NaN</td>\n",
       "      <td>...</td>\n",
       "      <td>12865</td>\n",
       "      <td>Dextrose 5%</td>\n",
       "      <td>Dextrose 5%</td>\n",
       "      <td>metavision</td>\n",
       "      <td>inputevents_mv</td>\n",
       "      <td>Fluids/Intake</td>\n",
       "      <td>mL</td>\n",
       "      <td>Solution</td>\n",
       "      <td>NaN</td>\n",
       "      <td>0 days 00:01:00</td>\n",
       "    </tr>\n",
       "    <tr>\n",
       "      <th>...</th>\n",
       "      <td>...</td>\n",
       "      <td>...</td>\n",
       "      <td>...</td>\n",
       "      <td>...</td>\n",
       "      <td>...</td>\n",
       "      <td>...</td>\n",
       "      <td>...</td>\n",
       "      <td>...</td>\n",
       "      <td>...</td>\n",
       "      <td>...</td>\n",
       "      <td>...</td>\n",
       "      <td>...</td>\n",
       "      <td>...</td>\n",
       "      <td>...</td>\n",
       "      <td>...</td>\n",
       "      <td>...</td>\n",
       "      <td>...</td>\n",
       "      <td>...</td>\n",
       "      <td>...</td>\n",
       "      <td>...</td>\n",
       "      <td>...</td>\n",
       "    </tr>\n",
       "    <tr>\n",
       "      <th>214311</th>\n",
       "      <td>93321</td>\n",
       "      <td>225912</td>\n",
       "      <td>115396</td>\n",
       "      <td>3599562</td>\n",
       "      <td>248745.0</td>\n",
       "      <td>2128-09-12 23:28:00</td>\n",
       "      <td>2128-09-12 23:29:00</td>\n",
       "      <td>1.000000</td>\n",
       "      <td>dose</td>\n",
       "      <td>NaN</td>\n",
       "      <td>...</td>\n",
       "      <td>14065</td>\n",
       "      <td>Carafate (Sucralfate)</td>\n",
       "      <td>Carafate (Sucralfate)</td>\n",
       "      <td>metavision</td>\n",
       "      <td>inputevents_mv</td>\n",
       "      <td>Medications</td>\n",
       "      <td>dose</td>\n",
       "      <td>Solution</td>\n",
       "      <td>NaN</td>\n",
       "      <td>172 days 00:28:00</td>\n",
       "    </tr>\n",
       "    <tr>\n",
       "      <th>214320</th>\n",
       "      <td>93321</td>\n",
       "      <td>226453</td>\n",
       "      <td>115396</td>\n",
       "      <td>3599939</td>\n",
       "      <td>248745.0</td>\n",
       "      <td>2128-09-13 08:00:00</td>\n",
       "      <td>2128-09-13 08:01:00</td>\n",
       "      <td>30.000000</td>\n",
       "      <td>ml</td>\n",
       "      <td>NaN</td>\n",
       "      <td>...</td>\n",
       "      <td>14472</td>\n",
       "      <td>GT Flush</td>\n",
       "      <td>GT Flush</td>\n",
       "      <td>metavision</td>\n",
       "      <td>inputevents_mv</td>\n",
       "      <td>Fluids/Intake</td>\n",
       "      <td>mL</td>\n",
       "      <td>Solution</td>\n",
       "      <td>NaN</td>\n",
       "      <td>172 days 09:00:00</td>\n",
       "    </tr>\n",
       "    <tr>\n",
       "      <th>214312</th>\n",
       "      <td>93321</td>\n",
       "      <td>225917</td>\n",
       "      <td>115396</td>\n",
       "      <td>3599685</td>\n",
       "      <td>248745.0</td>\n",
       "      <td>2128-09-12 18:46:00</td>\n",
       "      <td>2128-09-13 18:47:00</td>\n",
       "      <td>2499.999978</td>\n",
       "      <td>ml</td>\n",
       "      <td>104.094378</td>\n",
       "      <td>...</td>\n",
       "      <td>14355</td>\n",
       "      <td>TPN without Lipids</td>\n",
       "      <td>TPN without Lipids</td>\n",
       "      <td>metavision</td>\n",
       "      <td>inputevents_mv</td>\n",
       "      <td>Nutrition - Parenteral</td>\n",
       "      <td>mL</td>\n",
       "      <td>Solution</td>\n",
       "      <td>NaN</td>\n",
       "      <td>172 days 19:46:00</td>\n",
       "    </tr>\n",
       "    <tr>\n",
       "      <th>214313</th>\n",
       "      <td>93321</td>\n",
       "      <td>225930</td>\n",
       "      <td>115396</td>\n",
       "      <td>3599948</td>\n",
       "      <td>248745.0</td>\n",
       "      <td>2128-09-14 18:43:00</td>\n",
       "      <td>2128-09-15 08:22:00</td>\n",
       "      <td>273.000005</td>\n",
       "      <td>ml</td>\n",
       "      <td>20.000000</td>\n",
       "      <td>...</td>\n",
       "      <td>14367</td>\n",
       "      <td>Peptamen 1.5 (Full)</td>\n",
       "      <td>Peptamen 1.5 (Full)</td>\n",
       "      <td>metavision</td>\n",
       "      <td>inputevents_mv</td>\n",
       "      <td>Nutrition - Enteral</td>\n",
       "      <td>mL</td>\n",
       "      <td>Solution</td>\n",
       "      <td>NaN</td>\n",
       "      <td>174 days 09:21:00</td>\n",
       "    </tr>\n",
       "    <tr>\n",
       "      <th>214294</th>\n",
       "      <td>93321</td>\n",
       "      <td>225797</td>\n",
       "      <td>115396</td>\n",
       "      <td>3599629</td>\n",
       "      <td>248745.0</td>\n",
       "      <td>2128-09-15 11:03:00</td>\n",
       "      <td>2128-09-15 11:04:00</td>\n",
       "      <td>100.000000</td>\n",
       "      <td>ml</td>\n",
       "      <td>NaN</td>\n",
       "      <td>...</td>\n",
       "      <td>13981</td>\n",
       "      <td>Free Water</td>\n",
       "      <td>Free Water</td>\n",
       "      <td>metavision</td>\n",
       "      <td>inputevents_mv</td>\n",
       "      <td>Fluids/Intake</td>\n",
       "      <td>mL</td>\n",
       "      <td>Solution</td>\n",
       "      <td>NaN</td>\n",
       "      <td>174 days 12:03:00</td>\n",
       "    </tr>\n",
       "  </tbody>\n",
       "</table>\n",
       "<p>237607 rows × 59 columns</p>\n",
       "</div>"
      ],
      "text/plain": [
       "        SUBJECT_ID  ITEMID  HADM_ID  ROW_ID_x  ICUSTAY_ID  \\\n",
       "35719        42353  225828   171342   1671151    280877.0   \n",
       "231522       98281  225158   117684   1549345    251214.0   \n",
       "220822       95238  225828   110402    546286    223406.0   \n",
       "33451        41624  226372   178751   1538868    277546.0   \n",
       "172779       81202  220949   105280   1614569    272451.0   \n",
       "...            ...     ...      ...       ...         ...   \n",
       "214311       93321  225912   115396   3599562    248745.0   \n",
       "214320       93321  226453   115396   3599939    248745.0   \n",
       "214312       93321  225917   115396   3599685    248745.0   \n",
       "214313       93321  225930   115396   3599948    248745.0   \n",
       "214294       93321  225797   115396   3599629    248745.0   \n",
       "\n",
       "                  STARTTIME              ENDTIME       AMOUNT AMOUNTUOM  \\\n",
       "35719   2188-07-28 12:45:00  2188-07-28 12:46:00  1000.000000        ml   \n",
       "231522  2134-03-30 16:30:00  2134-03-30 17:46:00     3.800000        ml   \n",
       "220822  2161-04-20 11:45:00  2161-04-20 11:46:00  1000.000000        ml   \n",
       "33451   2162-05-06 11:00:00  2162-05-06 11:01:00   600.000000        ml   \n",
       "172779  2103-06-10 08:00:00  2103-06-10 08:01:00   200.000000        ml   \n",
       "...                     ...                  ...          ...       ...   \n",
       "214311  2128-09-12 23:28:00  2128-09-12 23:29:00     1.000000      dose   \n",
       "214320  2128-09-13 08:00:00  2128-09-13 08:01:00    30.000000        ml   \n",
       "214312  2128-09-12 18:46:00  2128-09-13 18:47:00  2499.999978        ml   \n",
       "214313  2128-09-14 18:43:00  2128-09-15 08:22:00   273.000005        ml   \n",
       "214294  2128-09-15 11:03:00  2128-09-15 11:04:00   100.000000        ml   \n",
       "\n",
       "              RATE  ... ROW_ID                  LABEL           ABBREVIATION  \\\n",
       "35719          NaN  ...  14005                     LR                     LR   \n",
       "231522    3.000000  ...  13758              NaCl 0.9%              NaCl 0.9%   \n",
       "220822         NaN  ...  14005                     LR                     LR   \n",
       "33451          NaN  ...  14457   OR Cell Saver Intake   OR Cell Saver Intake   \n",
       "172779         NaN  ...  12865            Dextrose 5%            Dextrose 5%   \n",
       "...            ...  ...    ...                    ...                    ...   \n",
       "214311         NaN  ...  14065  Carafate (Sucralfate)  Carafate (Sucralfate)   \n",
       "214320         NaN  ...  14472               GT Flush               GT Flush   \n",
       "214312  104.094378  ...  14355     TPN without Lipids     TPN without Lipids   \n",
       "214313   20.000000  ...  14367    Peptamen 1.5 (Full)    Peptamen 1.5 (Full)   \n",
       "214294         NaN  ...  13981             Free Water             Free Water   \n",
       "\n",
       "          DBSOURCE         LINKSTO                 CATEGORY UNITNAME  \\\n",
       "35719   metavision  inputevents_mv            Fluids/Intake       mL   \n",
       "231522  metavision  inputevents_mv            Fluids/Intake       mL   \n",
       "220822  metavision  inputevents_mv            Fluids/Intake       mL   \n",
       "33451   metavision  inputevents_mv  Blood Products/Colloids       mL   \n",
       "172779  metavision  inputevents_mv            Fluids/Intake       mL   \n",
       "...            ...             ...                      ...      ...   \n",
       "214311  metavision  inputevents_mv              Medications     dose   \n",
       "214320  metavision  inputevents_mv            Fluids/Intake       mL   \n",
       "214312  metavision  inputevents_mv   Nutrition - Parenteral       mL   \n",
       "214313  metavision  inputevents_mv      Nutrition - Enteral       mL   \n",
       "214294  metavision  inputevents_mv            Fluids/Intake       mL   \n",
       "\n",
       "       PARAM_TYPE CONCEPTID  MedTimeFromAdmit  \n",
       "35719    Solution       NaN   0 days 00:01:00  \n",
       "231522   Solution       NaN   0 days 00:01:00  \n",
       "220822   Solution       NaN   0 days 00:01:00  \n",
       "33451    Solution       NaN   0 days 00:01:00  \n",
       "172779   Solution       NaN   0 days 00:01:00  \n",
       "...           ...       ...               ...  \n",
       "214311   Solution       NaN 172 days 00:28:00  \n",
       "214320   Solution       NaN 172 days 09:00:00  \n",
       "214312   Solution       NaN 172 days 19:46:00  \n",
       "214313   Solution       NaN 174 days 09:21:00  \n",
       "214294   Solution       NaN 174 days 12:03:00  \n",
       "\n",
       "[237607 rows x 59 columns]"
      ]
     },
     "execution_count": 366,
     "metadata": {},
     "output_type": "execute_result"
    }
   ],
   "source": [
    "med2"
   ]
  },
  {
   "cell_type": "markdown",
   "metadata": {},
   "source": [
    "## Filter Labs"
   ]
  },
  {
   "cell_type": "code",
   "execution_count": 120,
   "metadata": {},
   "outputs": [],
   "source": [
    "labs = l_p_df[l_p_df[\"HADM_ID\"].isin(med1[\"HADM_ID\"])]"
   ]
  },
  {
   "cell_type": "code",
   "execution_count": 121,
   "metadata": {},
   "outputs": [],
   "source": [
    "labs = labs[labs['LabTimeFromAdmit'].dt.total_seconds()>0]"
   ]
  },
  {
   "cell_type": "code",
   "execution_count": 122,
   "metadata": {},
   "outputs": [],
   "source": [
    "labs = labs.sort_values(\"LabTimeFromAdmit\")"
   ]
  },
  {
   "cell_type": "code",
   "execution_count": 140,
   "metadata": {},
   "outputs": [],
   "source": [
    "labs = labs[labs['VALUENUM'].notna()]"
   ]
  },
  {
   "cell_type": "code",
   "execution_count": 141,
   "metadata": {},
   "outputs": [
    {
     "data": {
      "text/html": [
       "<div>\n",
       "<style scoped>\n",
       "    .dataframe tbody tr th:only-of-type {\n",
       "        vertical-align: middle;\n",
       "    }\n",
       "\n",
       "    .dataframe tbody tr th {\n",
       "        vertical-align: top;\n",
       "    }\n",
       "\n",
       "    .dataframe thead th {\n",
       "        text-align: right;\n",
       "    }\n",
       "</style>\n",
       "<table border=\"1\" class=\"dataframe\">\n",
       "  <thead>\n",
       "    <tr style=\"text-align: right;\">\n",
       "      <th></th>\n",
       "      <th>ROW_ID_x</th>\n",
       "      <th>SUBJECT_ID_x</th>\n",
       "      <th>HADM_ID</th>\n",
       "      <th>ITEMID</th>\n",
       "      <th>CHARTTIME</th>\n",
       "      <th>VALUE</th>\n",
       "      <th>VALUENUM</th>\n",
       "      <th>VALUEUOM</th>\n",
       "      <th>FLAG</th>\n",
       "      <th>ROW_ID_y</th>\n",
       "      <th>...</th>\n",
       "      <th>LANGUAGE</th>\n",
       "      <th>RELIGION</th>\n",
       "      <th>MARITAL_STATUS</th>\n",
       "      <th>ETHNICITY</th>\n",
       "      <th>EDREGTIME</th>\n",
       "      <th>EDOUTTIME</th>\n",
       "      <th>DIAGNOSIS</th>\n",
       "      <th>HOSPITAL_EXPIRE_FLAG</th>\n",
       "      <th>HAS_CHARTEVENTS_DATA</th>\n",
       "      <th>LabTimeFromAdmit</th>\n",
       "    </tr>\n",
       "  </thead>\n",
       "  <tbody>\n",
       "    <tr>\n",
       "      <th>14822987</th>\n",
       "      <td>21075805</td>\n",
       "      <td>48882</td>\n",
       "      <td>103146.0</td>\n",
       "      <td>50813</td>\n",
       "      <td>2114-04-23 18:17:00</td>\n",
       "      <td>2.5</td>\n",
       "      <td>2.50</td>\n",
       "      <td>mmol/L</td>\n",
       "      <td>abnormal</td>\n",
       "      <td>14</td>\n",
       "      <td>...</td>\n",
       "      <td>ENGL</td>\n",
       "      <td>CATHOLIC</td>\n",
       "      <td>MARRIED</td>\n",
       "      <td>WHITE</td>\n",
       "      <td>NaN</td>\n",
       "      <td>NaN</td>\n",
       "      <td>AORTIC STENOSIS</td>\n",
       "      <td>1</td>\n",
       "      <td>1</td>\n",
       "      <td>0 days 00:01:00</td>\n",
       "    </tr>\n",
       "    <tr>\n",
       "      <th>20517708</th>\n",
       "      <td>27458475</td>\n",
       "      <td>96686</td>\n",
       "      <td>189846.0</td>\n",
       "      <td>51077</td>\n",
       "      <td>2115-04-11 18:50:00</td>\n",
       "      <td>2.9</td>\n",
       "      <td>2.90</td>\n",
       "      <td>mg/dL</td>\n",
       "      <td>NaN</td>\n",
       "      <td>277</td>\n",
       "      <td>...</td>\n",
       "      <td>ENGL</td>\n",
       "      <td>NOT SPECIFIED</td>\n",
       "      <td>SINGLE</td>\n",
       "      <td>BLACK/AFRICAN AMERICAN</td>\n",
       "      <td>2115-04-11 12:29:00</td>\n",
       "      <td>2115-04-11 20:40:00</td>\n",
       "      <td>ACUTE RENAL FAILURE</td>\n",
       "      <td>0</td>\n",
       "      <td>1</td>\n",
       "      <td>0 days 00:01:00</td>\n",
       "    </tr>\n",
       "    <tr>\n",
       "      <th>20517709</th>\n",
       "      <td>27458479</td>\n",
       "      <td>96686</td>\n",
       "      <td>189846.0</td>\n",
       "      <td>51097</td>\n",
       "      <td>2115-04-11 18:50:00</td>\n",
       "      <td>25</td>\n",
       "      <td>25.00</td>\n",
       "      <td>mEq/L</td>\n",
       "      <td>NaN</td>\n",
       "      <td>297</td>\n",
       "      <td>...</td>\n",
       "      <td>ENGL</td>\n",
       "      <td>NOT SPECIFIED</td>\n",
       "      <td>SINGLE</td>\n",
       "      <td>BLACK/AFRICAN AMERICAN</td>\n",
       "      <td>2115-04-11 12:29:00</td>\n",
       "      <td>2115-04-11 20:40:00</td>\n",
       "      <td>ACUTE RENAL FAILURE</td>\n",
       "      <td>0</td>\n",
       "      <td>1</td>\n",
       "      <td>0 days 00:01:00</td>\n",
       "    </tr>\n",
       "    <tr>\n",
       "      <th>13665680</th>\n",
       "      <td>20690955</td>\n",
       "      <td>46007</td>\n",
       "      <td>178313.0</td>\n",
       "      <td>50893</td>\n",
       "      <td>2138-05-11 14:30:00</td>\n",
       "      <td>7.6</td>\n",
       "      <td>7.60</td>\n",
       "      <td>mg/dL</td>\n",
       "      <td>abnormal</td>\n",
       "      <td>94</td>\n",
       "      <td>...</td>\n",
       "      <td>ENGL</td>\n",
       "      <td>NOT SPECIFIED</td>\n",
       "      <td>MARRIED</td>\n",
       "      <td>WHITE</td>\n",
       "      <td>2138-05-11 11:41:00</td>\n",
       "      <td>2138-05-11 15:28:00</td>\n",
       "      <td>MULITPLE RIB FRACTURES</td>\n",
       "      <td>0</td>\n",
       "      <td>1</td>\n",
       "      <td>0 days 00:01:00</td>\n",
       "    </tr>\n",
       "    <tr>\n",
       "      <th>18193731</th>\n",
       "      <td>26566842</td>\n",
       "      <td>89929</td>\n",
       "      <td>118735.0</td>\n",
       "      <td>50820</td>\n",
       "      <td>2169-02-09 16:24:00</td>\n",
       "      <td>7.32</td>\n",
       "      <td>7.32</td>\n",
       "      <td>units</td>\n",
       "      <td>abnormal</td>\n",
       "      <td>21</td>\n",
       "      <td>...</td>\n",
       "      <td>ENGL</td>\n",
       "      <td>UNOBTAINABLE</td>\n",
       "      <td>NaN</td>\n",
       "      <td>UNKNOWN/NOT SPECIFIED</td>\n",
       "      <td>2169-02-09 15:00:00</td>\n",
       "      <td>2169-02-09 18:11:00</td>\n",
       "      <td>OVERDOSE ON DEPAKOTE</td>\n",
       "      <td>0</td>\n",
       "      <td>1</td>\n",
       "      <td>0 days 00:01:00</td>\n",
       "    </tr>\n",
       "    <tr>\n",
       "      <th>...</th>\n",
       "      <td>...</td>\n",
       "      <td>...</td>\n",
       "      <td>...</td>\n",
       "      <td>...</td>\n",
       "      <td>...</td>\n",
       "      <td>...</td>\n",
       "      <td>...</td>\n",
       "      <td>...</td>\n",
       "      <td>...</td>\n",
       "      <td>...</td>\n",
       "      <td>...</td>\n",
       "      <td>...</td>\n",
       "      <td>...</td>\n",
       "      <td>...</td>\n",
       "      <td>...</td>\n",
       "      <td>...</td>\n",
       "      <td>...</td>\n",
       "      <td>...</td>\n",
       "      <td>...</td>\n",
       "      <td>...</td>\n",
       "      <td>...</td>\n",
       "    </tr>\n",
       "    <tr>\n",
       "      <th>19106318</th>\n",
       "      <td>27017123</td>\n",
       "      <td>93321</td>\n",
       "      <td>115396.0</td>\n",
       "      <td>50813</td>\n",
       "      <td>2128-10-17 05:33:00</td>\n",
       "      <td>5.4</td>\n",
       "      <td>5.40</td>\n",
       "      <td>mmol/L</td>\n",
       "      <td>abnormal</td>\n",
       "      <td>14</td>\n",
       "      <td>...</td>\n",
       "      <td>NaN</td>\n",
       "      <td>CATHOLIC</td>\n",
       "      <td>WIDOWED</td>\n",
       "      <td>WHITE</td>\n",
       "      <td>2128-03-24 22:29:00</td>\n",
       "      <td>2128-03-25 00:19:00</td>\n",
       "      <td>ANEMIA</td>\n",
       "      <td>1</td>\n",
       "      <td>1</td>\n",
       "      <td>206 days 06:32:00</td>\n",
       "    </tr>\n",
       "    <tr>\n",
       "      <th>19106344</th>\n",
       "      <td>27017124</td>\n",
       "      <td>93321</td>\n",
       "      <td>115396.0</td>\n",
       "      <td>50818</td>\n",
       "      <td>2128-10-17 05:33:00</td>\n",
       "      <td>38</td>\n",
       "      <td>38.00</td>\n",
       "      <td>mm Hg</td>\n",
       "      <td>NaN</td>\n",
       "      <td>19</td>\n",
       "      <td>...</td>\n",
       "      <td>NaN</td>\n",
       "      <td>CATHOLIC</td>\n",
       "      <td>WIDOWED</td>\n",
       "      <td>WHITE</td>\n",
       "      <td>2128-03-24 22:29:00</td>\n",
       "      <td>2128-03-25 00:19:00</td>\n",
       "      <td>ANEMIA</td>\n",
       "      <td>1</td>\n",
       "      <td>1</td>\n",
       "      <td>206 days 06:32:00</td>\n",
       "    </tr>\n",
       "    <tr>\n",
       "      <th>19106369</th>\n",
       "      <td>27017126</td>\n",
       "      <td>93321</td>\n",
       "      <td>115396.0</td>\n",
       "      <td>50821</td>\n",
       "      <td>2128-10-17 05:33:00</td>\n",
       "      <td>117</td>\n",
       "      <td>117.00</td>\n",
       "      <td>mm Hg</td>\n",
       "      <td>abnormal</td>\n",
       "      <td>22</td>\n",
       "      <td>...</td>\n",
       "      <td>NaN</td>\n",
       "      <td>CATHOLIC</td>\n",
       "      <td>WIDOWED</td>\n",
       "      <td>WHITE</td>\n",
       "      <td>2128-03-24 22:29:00</td>\n",
       "      <td>2128-03-25 00:19:00</td>\n",
       "      <td>ANEMIA</td>\n",
       "      <td>1</td>\n",
       "      <td>1</td>\n",
       "      <td>206 days 06:32:00</td>\n",
       "    </tr>\n",
       "    <tr>\n",
       "      <th>19106282</th>\n",
       "      <td>27017122</td>\n",
       "      <td>93321</td>\n",
       "      <td>115396.0</td>\n",
       "      <td>50804</td>\n",
       "      <td>2128-10-17 05:33:00</td>\n",
       "      <td>13</td>\n",
       "      <td>13.00</td>\n",
       "      <td>mEq/L</td>\n",
       "      <td>abnormal</td>\n",
       "      <td>5</td>\n",
       "      <td>...</td>\n",
       "      <td>NaN</td>\n",
       "      <td>CATHOLIC</td>\n",
       "      <td>WIDOWED</td>\n",
       "      <td>WHITE</td>\n",
       "      <td>2128-03-24 22:29:00</td>\n",
       "      <td>2128-03-25 00:19:00</td>\n",
       "      <td>ANEMIA</td>\n",
       "      <td>1</td>\n",
       "      <td>1</td>\n",
       "      <td>206 days 06:32:00</td>\n",
       "    </tr>\n",
       "    <tr>\n",
       "      <th>19106228</th>\n",
       "      <td>27017125</td>\n",
       "      <td>93321</td>\n",
       "      <td>115396.0</td>\n",
       "      <td>50820</td>\n",
       "      <td>2128-10-17 05:33:00</td>\n",
       "      <td>7.11</td>\n",
       "      <td>7.11</td>\n",
       "      <td>units</td>\n",
       "      <td>abnormal</td>\n",
       "      <td>21</td>\n",
       "      <td>...</td>\n",
       "      <td>NaN</td>\n",
       "      <td>CATHOLIC</td>\n",
       "      <td>WIDOWED</td>\n",
       "      <td>WHITE</td>\n",
       "      <td>2128-03-24 22:29:00</td>\n",
       "      <td>2128-03-25 00:19:00</td>\n",
       "      <td>ANEMIA</td>\n",
       "      <td>1</td>\n",
       "      <td>1</td>\n",
       "      <td>206 days 06:32:00</td>\n",
       "    </tr>\n",
       "  </tbody>\n",
       "</table>\n",
       "<p>7260285 rows × 33 columns</p>\n",
       "</div>"
      ],
      "text/plain": [
       "          ROW_ID_x  SUBJECT_ID_x   HADM_ID  ITEMID            CHARTTIME VALUE  \\\n",
       "14822987  21075805         48882  103146.0   50813  2114-04-23 18:17:00   2.5   \n",
       "20517708  27458475         96686  189846.0   51077  2115-04-11 18:50:00   2.9   \n",
       "20517709  27458479         96686  189846.0   51097  2115-04-11 18:50:00    25   \n",
       "13665680  20690955         46007  178313.0   50893  2138-05-11 14:30:00   7.6   \n",
       "18193731  26566842         89929  118735.0   50820  2169-02-09 16:24:00  7.32   \n",
       "...            ...           ...       ...     ...                  ...   ...   \n",
       "19106318  27017123         93321  115396.0   50813  2128-10-17 05:33:00   5.4   \n",
       "19106344  27017124         93321  115396.0   50818  2128-10-17 05:33:00    38   \n",
       "19106369  27017126         93321  115396.0   50821  2128-10-17 05:33:00   117   \n",
       "19106282  27017122         93321  115396.0   50804  2128-10-17 05:33:00    13   \n",
       "19106228  27017125         93321  115396.0   50820  2128-10-17 05:33:00  7.11   \n",
       "\n",
       "          VALUENUM VALUEUOM      FLAG  ROW_ID_y  ... LANGUAGE       RELIGION  \\\n",
       "14822987      2.50   mmol/L  abnormal        14  ...     ENGL       CATHOLIC   \n",
       "20517708      2.90    mg/dL       NaN       277  ...     ENGL  NOT SPECIFIED   \n",
       "20517709     25.00    mEq/L       NaN       297  ...     ENGL  NOT SPECIFIED   \n",
       "13665680      7.60    mg/dL  abnormal        94  ...     ENGL  NOT SPECIFIED   \n",
       "18193731      7.32    units  abnormal        21  ...     ENGL   UNOBTAINABLE   \n",
       "...            ...      ...       ...       ...  ...      ...            ...   \n",
       "19106318      5.40   mmol/L  abnormal        14  ...      NaN       CATHOLIC   \n",
       "19106344     38.00    mm Hg       NaN        19  ...      NaN       CATHOLIC   \n",
       "19106369    117.00    mm Hg  abnormal        22  ...      NaN       CATHOLIC   \n",
       "19106282     13.00    mEq/L  abnormal         5  ...      NaN       CATHOLIC   \n",
       "19106228      7.11    units  abnormal        21  ...      NaN       CATHOLIC   \n",
       "\n",
       "         MARITAL_STATUS               ETHNICITY            EDREGTIME  \\\n",
       "14822987        MARRIED                   WHITE                  NaN   \n",
       "20517708         SINGLE  BLACK/AFRICAN AMERICAN  2115-04-11 12:29:00   \n",
       "20517709         SINGLE  BLACK/AFRICAN AMERICAN  2115-04-11 12:29:00   \n",
       "13665680        MARRIED                   WHITE  2138-05-11 11:41:00   \n",
       "18193731            NaN   UNKNOWN/NOT SPECIFIED  2169-02-09 15:00:00   \n",
       "...                 ...                     ...                  ...   \n",
       "19106318        WIDOWED                   WHITE  2128-03-24 22:29:00   \n",
       "19106344        WIDOWED                   WHITE  2128-03-24 22:29:00   \n",
       "19106369        WIDOWED                   WHITE  2128-03-24 22:29:00   \n",
       "19106282        WIDOWED                   WHITE  2128-03-24 22:29:00   \n",
       "19106228        WIDOWED                   WHITE  2128-03-24 22:29:00   \n",
       "\n",
       "                    EDOUTTIME               DIAGNOSIS HOSPITAL_EXPIRE_FLAG  \\\n",
       "14822987                  NaN         AORTIC STENOSIS                    1   \n",
       "20517708  2115-04-11 20:40:00     ACUTE RENAL FAILURE                    0   \n",
       "20517709  2115-04-11 20:40:00     ACUTE RENAL FAILURE                    0   \n",
       "13665680  2138-05-11 15:28:00  MULITPLE RIB FRACTURES                    0   \n",
       "18193731  2169-02-09 18:11:00    OVERDOSE ON DEPAKOTE                    0   \n",
       "...                       ...                     ...                  ...   \n",
       "19106318  2128-03-25 00:19:00                  ANEMIA                    1   \n",
       "19106344  2128-03-25 00:19:00                  ANEMIA                    1   \n",
       "19106369  2128-03-25 00:19:00                  ANEMIA                    1   \n",
       "19106282  2128-03-25 00:19:00                  ANEMIA                    1   \n",
       "19106228  2128-03-25 00:19:00                  ANEMIA                    1   \n",
       "\n",
       "         HAS_CHARTEVENTS_DATA  LabTimeFromAdmit  \n",
       "14822987                    1   0 days 00:01:00  \n",
       "20517708                    1   0 days 00:01:00  \n",
       "20517709                    1   0 days 00:01:00  \n",
       "13665680                    1   0 days 00:01:00  \n",
       "18193731                    1   0 days 00:01:00  \n",
       "...                       ...               ...  \n",
       "19106318                    1 206 days 06:32:00  \n",
       "19106344                    1 206 days 06:32:00  \n",
       "19106369                    1 206 days 06:32:00  \n",
       "19106282                    1 206 days 06:32:00  \n",
       "19106228                    1 206 days 06:32:00  \n",
       "\n",
       "[7260285 rows x 33 columns]"
      ]
     },
     "execution_count": 141,
     "metadata": {},
     "output_type": "execute_result"
    }
   ],
   "source": [
    "labs"
   ]
  },
  {
   "cell_type": "markdown",
   "metadata": {},
   "source": [
    "## Pairs"
   ]
  },
  {
   "cell_type": "code",
   "execution_count": 353,
   "metadata": {},
   "outputs": [
    {
     "data": {
      "text/html": [
       "<div>\n",
       "<style scoped>\n",
       "    .dataframe tbody tr th:only-of-type {\n",
       "        vertical-align: middle;\n",
       "    }\n",
       "\n",
       "    .dataframe tbody tr th {\n",
       "        vertical-align: top;\n",
       "    }\n",
       "\n",
       "    .dataframe thead th {\n",
       "        text-align: right;\n",
       "    }\n",
       "</style>\n",
       "<table border=\"1\" class=\"dataframe\">\n",
       "  <thead>\n",
       "    <tr style=\"text-align: right;\">\n",
       "      <th></th>\n",
       "      <th>HADM_ID</th>\n",
       "    </tr>\n",
       "    <tr>\n",
       "      <th>ITEMID</th>\n",
       "      <th></th>\n",
       "    </tr>\n",
       "  </thead>\n",
       "  <tbody>\n",
       "    <tr>\n",
       "      <th>225158</th>\n",
       "      <td>15866</td>\n",
       "    </tr>\n",
       "    <tr>\n",
       "      <th>220949</th>\n",
       "      <td>13849</td>\n",
       "    </tr>\n",
       "    <tr>\n",
       "      <th>226452</th>\n",
       "      <td>13351</td>\n",
       "    </tr>\n",
       "    <tr>\n",
       "      <th>225943</th>\n",
       "      <td>11183</td>\n",
       "    </tr>\n",
       "    <tr>\n",
       "      <th>222011</th>\n",
       "      <td>9274</td>\n",
       "    </tr>\n",
       "    <tr>\n",
       "      <th>...</th>\n",
       "      <td>...</td>\n",
       "    </tr>\n",
       "    <tr>\n",
       "      <th>225883</th>\n",
       "      <td>1149</td>\n",
       "    </tr>\n",
       "    <tr>\n",
       "      <th>225833</th>\n",
       "      <td>1045</td>\n",
       "    </tr>\n",
       "    <tr>\n",
       "      <th>228315</th>\n",
       "      <td>1044</td>\n",
       "    </tr>\n",
       "    <tr>\n",
       "      <th>225153</th>\n",
       "      <td>1003</td>\n",
       "    </tr>\n",
       "    <tr>\n",
       "      <th>221468</th>\n",
       "      <td>1003</td>\n",
       "    </tr>\n",
       "  </tbody>\n",
       "</table>\n",
       "<p>67 rows × 1 columns</p>\n",
       "</div>"
      ],
      "text/plain": [
       "        HADM_ID\n",
       "ITEMID         \n",
       "225158    15866\n",
       "220949    13849\n",
       "226452    13351\n",
       "225943    11183\n",
       "222011     9274\n",
       "...         ...\n",
       "225883     1149\n",
       "225833     1045\n",
       "228315     1044\n",
       "225153     1003\n",
       "221468     1003\n",
       "\n",
       "[67 rows x 1 columns]"
      ]
     },
     "execution_count": 353,
     "metadata": {},
     "output_type": "execute_result"
    }
   ],
   "source": [
    "counts = med1.groupby(\"ITEMID\").count()[[\"HADM_ID\"]].sort_values(\"HADM_ID\", ascending=False)\n",
    "counts[counts[\"HADM_ID\"]>1000]"
   ]
  },
  {
   "cell_type": "code",
   "execution_count": 304,
   "metadata": {},
   "outputs": [
    {
     "data": {
      "text/html": [
       "<div>\n",
       "<style scoped>\n",
       "    .dataframe tbody tr th:only-of-type {\n",
       "        vertical-align: middle;\n",
       "    }\n",
       "\n",
       "    .dataframe tbody tr th {\n",
       "        vertical-align: top;\n",
       "    }\n",
       "\n",
       "    .dataframe thead th {\n",
       "        text-align: right;\n",
       "    }\n",
       "</style>\n",
       "<table border=\"1\" class=\"dataframe\">\n",
       "  <thead>\n",
       "    <tr style=\"text-align: right;\">\n",
       "      <th></th>\n",
       "      <th>SUBJECT_ID</th>\n",
       "      <th>ITEMID</th>\n",
       "      <th>HADM_ID</th>\n",
       "      <th>ROW_ID_x</th>\n",
       "      <th>ICUSTAY_ID</th>\n",
       "      <th>STARTTIME</th>\n",
       "      <th>ENDTIME</th>\n",
       "      <th>AMOUNT</th>\n",
       "      <th>AMOUNTUOM</th>\n",
       "      <th>RATE</th>\n",
       "      <th>...</th>\n",
       "      <th>ROW_ID</th>\n",
       "      <th>LABEL</th>\n",
       "      <th>ABBREVIATION</th>\n",
       "      <th>DBSOURCE</th>\n",
       "      <th>LINKSTO</th>\n",
       "      <th>CATEGORY</th>\n",
       "      <th>UNITNAME</th>\n",
       "      <th>PARAM_TYPE</th>\n",
       "      <th>CONCEPTID</th>\n",
       "      <th>MedTimeFromAdmit</th>\n",
       "    </tr>\n",
       "  </thead>\n",
       "  <tbody>\n",
       "    <tr>\n",
       "      <th>28897</th>\n",
       "      <td>29495</td>\n",
       "      <td>225828</td>\n",
       "      <td>182822</td>\n",
       "      <td>2947</td>\n",
       "      <td>252299.0</td>\n",
       "      <td>2126-01-22 21:51:00</td>\n",
       "      <td>2126-01-22 21:52:00</td>\n",
       "      <td>1000.000000</td>\n",
       "      <td>ml</td>\n",
       "      <td>NaN</td>\n",
       "      <td>...</td>\n",
       "      <td>14005</td>\n",
       "      <td>LR</td>\n",
       "      <td>LR</td>\n",
       "      <td>metavision</td>\n",
       "      <td>inputevents_mv</td>\n",
       "      <td>Fluids/Intake</td>\n",
       "      <td>mL</td>\n",
       "      <td>Solution</td>\n",
       "      <td>NaN</td>\n",
       "      <td>0 days 00:01:00</td>\n",
       "    </tr>\n",
       "    <tr>\n",
       "      <th>199105</th>\n",
       "      <td>73363</td>\n",
       "      <td>225943</td>\n",
       "      <td>174481</td>\n",
       "      <td>1266630</td>\n",
       "      <td>288413.0</td>\n",
       "      <td>2144-01-31 12:21:00</td>\n",
       "      <td>2144-01-31 14:01:00</td>\n",
       "      <td>64.516127</td>\n",
       "      <td>ml</td>\n",
       "      <td>38.709676</td>\n",
       "      <td>...</td>\n",
       "      <td>14375</td>\n",
       "      <td>Solution</td>\n",
       "      <td>Solution</td>\n",
       "      <td>metavision</td>\n",
       "      <td>inputevents_mv</td>\n",
       "      <td>Fluids/Intake</td>\n",
       "      <td>mL</td>\n",
       "      <td>Solution</td>\n",
       "      <td>NaN</td>\n",
       "      <td>0 days 00:01:00</td>\n",
       "    </tr>\n",
       "    <tr>\n",
       "      <th>71788</th>\n",
       "      <td>47216</td>\n",
       "      <td>225158</td>\n",
       "      <td>167377</td>\n",
       "      <td>2598902</td>\n",
       "      <td>246025.0</td>\n",
       "      <td>2155-08-01 11:26:00</td>\n",
       "      <td>2155-08-01 11:27:00</td>\n",
       "      <td>1500.000000</td>\n",
       "      <td>ml</td>\n",
       "      <td>NaN</td>\n",
       "      <td>...</td>\n",
       "      <td>13758</td>\n",
       "      <td>NaCl 0.9%</td>\n",
       "      <td>NaCl 0.9%</td>\n",
       "      <td>metavision</td>\n",
       "      <td>inputevents_mv</td>\n",
       "      <td>Fluids/Intake</td>\n",
       "      <td>mL</td>\n",
       "      <td>Solution</td>\n",
       "      <td>NaN</td>\n",
       "      <td>0 days 00:01:00</td>\n",
       "    </tr>\n",
       "    <tr>\n",
       "      <th>77294</th>\n",
       "      <td>48348</td>\n",
       "      <td>226372</td>\n",
       "      <td>186981</td>\n",
       "      <td>1947331</td>\n",
       "      <td>274006.0</td>\n",
       "      <td>2177-11-28 12:00:00</td>\n",
       "      <td>2177-11-28 12:01:00</td>\n",
       "      <td>250.000000</td>\n",
       "      <td>ml</td>\n",
       "      <td>NaN</td>\n",
       "      <td>...</td>\n",
       "      <td>14457</td>\n",
       "      <td>OR Cell Saver Intake</td>\n",
       "      <td>OR Cell Saver Intake</td>\n",
       "      <td>metavision</td>\n",
       "      <td>inputevents_mv</td>\n",
       "      <td>Blood Products/Colloids</td>\n",
       "      <td>mL</td>\n",
       "      <td>Solution</td>\n",
       "      <td>NaN</td>\n",
       "      <td>0 days 00:01:00</td>\n",
       "    </tr>\n",
       "    <tr>\n",
       "      <th>77293</th>\n",
       "      <td>48348</td>\n",
       "      <td>226364</td>\n",
       "      <td>186981</td>\n",
       "      <td>1947274</td>\n",
       "      <td>274006.0</td>\n",
       "      <td>2177-11-28 12:00:00</td>\n",
       "      <td>2177-11-28 12:01:00</td>\n",
       "      <td>2700.000000</td>\n",
       "      <td>ml</td>\n",
       "      <td>NaN</td>\n",
       "      <td>...</td>\n",
       "      <td>14450</td>\n",
       "      <td>OR Crystalloid Intake</td>\n",
       "      <td>OR Crystalloid Intake</td>\n",
       "      <td>metavision</td>\n",
       "      <td>inputevents_mv</td>\n",
       "      <td>Fluids/Intake</td>\n",
       "      <td>mL</td>\n",
       "      <td>Solution</td>\n",
       "      <td>NaN</td>\n",
       "      <td>0 days 00:01:00</td>\n",
       "    </tr>\n",
       "    <tr>\n",
       "      <th>...</th>\n",
       "      <td>...</td>\n",
       "      <td>...</td>\n",
       "      <td>...</td>\n",
       "      <td>...</td>\n",
       "      <td>...</td>\n",
       "      <td>...</td>\n",
       "      <td>...</td>\n",
       "      <td>...</td>\n",
       "      <td>...</td>\n",
       "      <td>...</td>\n",
       "      <td>...</td>\n",
       "      <td>...</td>\n",
       "      <td>...</td>\n",
       "      <td>...</td>\n",
       "      <td>...</td>\n",
       "      <td>...</td>\n",
       "      <td>...</td>\n",
       "      <td>...</td>\n",
       "      <td>...</td>\n",
       "      <td>...</td>\n",
       "      <td>...</td>\n",
       "    </tr>\n",
       "    <tr>\n",
       "      <th>291587</th>\n",
       "      <td>93321</td>\n",
       "      <td>225917</td>\n",
       "      <td>115396</td>\n",
       "      <td>3599650</td>\n",
       "      <td>248745.0</td>\n",
       "      <td>2128-09-11 21:46:00</td>\n",
       "      <td>2128-09-12 13:47:00</td>\n",
       "      <td>2500.000081</td>\n",
       "      <td>ml</td>\n",
       "      <td>156.087414</td>\n",
       "      <td>...</td>\n",
       "      <td>14355</td>\n",
       "      <td>TPN without Lipids</td>\n",
       "      <td>TPN without Lipids</td>\n",
       "      <td>metavision</td>\n",
       "      <td>inputevents_mv</td>\n",
       "      <td>Nutrition - Parenteral</td>\n",
       "      <td>mL</td>\n",
       "      <td>Solution</td>\n",
       "      <td>NaN</td>\n",
       "      <td>171 days 14:46:00</td>\n",
       "    </tr>\n",
       "    <tr>\n",
       "      <th>291596</th>\n",
       "      <td>93321</td>\n",
       "      <td>226453</td>\n",
       "      <td>115396</td>\n",
       "      <td>3599538</td>\n",
       "      <td>248745.0</td>\n",
       "      <td>2128-09-12 21:22:00</td>\n",
       "      <td>2128-09-12 21:23:00</td>\n",
       "      <td>60.000000</td>\n",
       "      <td>ml</td>\n",
       "      <td>NaN</td>\n",
       "      <td>...</td>\n",
       "      <td>14472</td>\n",
       "      <td>GT Flush</td>\n",
       "      <td>GT Flush</td>\n",
       "      <td>metavision</td>\n",
       "      <td>inputevents_mv</td>\n",
       "      <td>Fluids/Intake</td>\n",
       "      <td>mL</td>\n",
       "      <td>Solution</td>\n",
       "      <td>NaN</td>\n",
       "      <td>171 days 22:22:00</td>\n",
       "    </tr>\n",
       "    <tr>\n",
       "      <th>291567</th>\n",
       "      <td>93321</td>\n",
       "      <td>225797</td>\n",
       "      <td>115396</td>\n",
       "      <td>3599579</td>\n",
       "      <td>248745.0</td>\n",
       "      <td>2128-09-14 17:58:00</td>\n",
       "      <td>2128-09-14 17:59:00</td>\n",
       "      <td>100.000000</td>\n",
       "      <td>ml</td>\n",
       "      <td>NaN</td>\n",
       "      <td>...</td>\n",
       "      <td>13981</td>\n",
       "      <td>Free Water</td>\n",
       "      <td>Free Water</td>\n",
       "      <td>metavision</td>\n",
       "      <td>inputevents_mv</td>\n",
       "      <td>Fluids/Intake</td>\n",
       "      <td>mL</td>\n",
       "      <td>Solution</td>\n",
       "      <td>NaN</td>\n",
       "      <td>173 days 18:58:00</td>\n",
       "    </tr>\n",
       "    <tr>\n",
       "      <th>291588</th>\n",
       "      <td>93321</td>\n",
       "      <td>225930</td>\n",
       "      <td>115396</td>\n",
       "      <td>3599677</td>\n",
       "      <td>248745.0</td>\n",
       "      <td>2128-09-14 15:33:00</td>\n",
       "      <td>2128-09-14 18:43:00</td>\n",
       "      <td>31.666667</td>\n",
       "      <td>ml</td>\n",
       "      <td>10.000000</td>\n",
       "      <td>...</td>\n",
       "      <td>14367</td>\n",
       "      <td>Peptamen 1.5 (Full)</td>\n",
       "      <td>Peptamen 1.5 (Full)</td>\n",
       "      <td>metavision</td>\n",
       "      <td>inputevents_mv</td>\n",
       "      <td>Nutrition - Enteral</td>\n",
       "      <td>mL</td>\n",
       "      <td>Solution</td>\n",
       "      <td>NaN</td>\n",
       "      <td>173 days 19:42:00</td>\n",
       "    </tr>\n",
       "    <tr>\n",
       "      <th>291556</th>\n",
       "      <td>93321</td>\n",
       "      <td>221794</td>\n",
       "      <td>115396</td>\n",
       "      <td>3599952</td>\n",
       "      <td>248745.0</td>\n",
       "      <td>2128-09-16 14:06:00</td>\n",
       "      <td>2128-09-16 14:07:00</td>\n",
       "      <td>20.000001</td>\n",
       "      <td>mg</td>\n",
       "      <td>NaN</td>\n",
       "      <td>...</td>\n",
       "      <td>12979</td>\n",
       "      <td>Furosemide (Lasix)</td>\n",
       "      <td>Furosemide (Lasix)</td>\n",
       "      <td>metavision</td>\n",
       "      <td>inputevents_mv</td>\n",
       "      <td>Medications</td>\n",
       "      <td>mg</td>\n",
       "      <td>Solution</td>\n",
       "      <td>NaN</td>\n",
       "      <td>175 days 15:06:00</td>\n",
       "    </tr>\n",
       "  </tbody>\n",
       "</table>\n",
       "<p>323007 rows × 59 columns</p>\n",
       "</div>"
      ],
      "text/plain": [
       "        SUBJECT_ID  ITEMID  HADM_ID  ROW_ID_x  ICUSTAY_ID  \\\n",
       "28897        29495  225828   182822      2947    252299.0   \n",
       "199105       73363  225943   174481   1266630    288413.0   \n",
       "71788        47216  225158   167377   2598902    246025.0   \n",
       "77294        48348  226372   186981   1947331    274006.0   \n",
       "77293        48348  226364   186981   1947274    274006.0   \n",
       "...            ...     ...      ...       ...         ...   \n",
       "291587       93321  225917   115396   3599650    248745.0   \n",
       "291596       93321  226453   115396   3599538    248745.0   \n",
       "291567       93321  225797   115396   3599579    248745.0   \n",
       "291588       93321  225930   115396   3599677    248745.0   \n",
       "291556       93321  221794   115396   3599952    248745.0   \n",
       "\n",
       "                  STARTTIME              ENDTIME       AMOUNT AMOUNTUOM  \\\n",
       "28897   2126-01-22 21:51:00  2126-01-22 21:52:00  1000.000000        ml   \n",
       "199105  2144-01-31 12:21:00  2144-01-31 14:01:00    64.516127        ml   \n",
       "71788   2155-08-01 11:26:00  2155-08-01 11:27:00  1500.000000        ml   \n",
       "77294   2177-11-28 12:00:00  2177-11-28 12:01:00   250.000000        ml   \n",
       "77293   2177-11-28 12:00:00  2177-11-28 12:01:00  2700.000000        ml   \n",
       "...                     ...                  ...          ...       ...   \n",
       "291587  2128-09-11 21:46:00  2128-09-12 13:47:00  2500.000081        ml   \n",
       "291596  2128-09-12 21:22:00  2128-09-12 21:23:00    60.000000        ml   \n",
       "291567  2128-09-14 17:58:00  2128-09-14 17:59:00   100.000000        ml   \n",
       "291588  2128-09-14 15:33:00  2128-09-14 18:43:00    31.666667        ml   \n",
       "291556  2128-09-16 14:06:00  2128-09-16 14:07:00    20.000001        mg   \n",
       "\n",
       "              RATE  ... ROW_ID                  LABEL           ABBREVIATION  \\\n",
       "28897          NaN  ...  14005                     LR                     LR   \n",
       "199105   38.709676  ...  14375               Solution               Solution   \n",
       "71788          NaN  ...  13758              NaCl 0.9%              NaCl 0.9%   \n",
       "77294          NaN  ...  14457   OR Cell Saver Intake   OR Cell Saver Intake   \n",
       "77293          NaN  ...  14450  OR Crystalloid Intake  OR Crystalloid Intake   \n",
       "...            ...  ...    ...                    ...                    ...   \n",
       "291587  156.087414  ...  14355     TPN without Lipids     TPN without Lipids   \n",
       "291596         NaN  ...  14472               GT Flush               GT Flush   \n",
       "291567         NaN  ...  13981             Free Water             Free Water   \n",
       "291588   10.000000  ...  14367    Peptamen 1.5 (Full)    Peptamen 1.5 (Full)   \n",
       "291556         NaN  ...  12979     Furosemide (Lasix)     Furosemide (Lasix)   \n",
       "\n",
       "          DBSOURCE         LINKSTO                 CATEGORY UNITNAME  \\\n",
       "28897   metavision  inputevents_mv            Fluids/Intake       mL   \n",
       "199105  metavision  inputevents_mv            Fluids/Intake       mL   \n",
       "71788   metavision  inputevents_mv            Fluids/Intake       mL   \n",
       "77294   metavision  inputevents_mv  Blood Products/Colloids       mL   \n",
       "77293   metavision  inputevents_mv            Fluids/Intake       mL   \n",
       "...            ...             ...                      ...      ...   \n",
       "291587  metavision  inputevents_mv   Nutrition - Parenteral       mL   \n",
       "291596  metavision  inputevents_mv            Fluids/Intake       mL   \n",
       "291567  metavision  inputevents_mv            Fluids/Intake       mL   \n",
       "291588  metavision  inputevents_mv      Nutrition - Enteral       mL   \n",
       "291556  metavision  inputevents_mv              Medications       mg   \n",
       "\n",
       "       PARAM_TYPE CONCEPTID  MedTimeFromAdmit  \n",
       "28897    Solution       NaN   0 days 00:01:00  \n",
       "199105   Solution       NaN   0 days 00:01:00  \n",
       "71788    Solution       NaN   0 days 00:01:00  \n",
       "77294    Solution       NaN   0 days 00:01:00  \n",
       "77293    Solution       NaN   0 days 00:01:00  \n",
       "...           ...       ...               ...  \n",
       "291587   Solution       NaN 171 days 14:46:00  \n",
       "291596   Solution       NaN 171 days 22:22:00  \n",
       "291567   Solution       NaN 173 days 18:58:00  \n",
       "291588   Solution       NaN 173 days 19:42:00  \n",
       "291556   Solution       NaN 175 days 15:06:00  \n",
       "\n",
       "[323007 rows x 59 columns]"
      ]
     },
     "execution_count": 304,
     "metadata": {},
     "output_type": "execute_result"
    }
   ],
   "source": [
    "med1"
   ]
  },
  {
   "cell_type": "code",
   "execution_count": 305,
   "metadata": {},
   "outputs": [
    {
     "data": {
      "text/html": [
       "<div>\n",
       "<style scoped>\n",
       "    .dataframe tbody tr th:only-of-type {\n",
       "        vertical-align: middle;\n",
       "    }\n",
       "\n",
       "    .dataframe tbody tr th {\n",
       "        vertical-align: top;\n",
       "    }\n",
       "\n",
       "    .dataframe thead th {\n",
       "        text-align: right;\n",
       "    }\n",
       "</style>\n",
       "<table border=\"1\" class=\"dataframe\">\n",
       "  <thead>\n",
       "    <tr style=\"text-align: right;\">\n",
       "      <th></th>\n",
       "      <th>SUBJECT_ID</th>\n",
       "      <th>ITEMID</th>\n",
       "      <th>HADM_ID</th>\n",
       "      <th>ROW_ID_x</th>\n",
       "      <th>ICUSTAY_ID</th>\n",
       "      <th>STARTTIME</th>\n",
       "      <th>ENDTIME</th>\n",
       "      <th>AMOUNT</th>\n",
       "      <th>AMOUNTUOM</th>\n",
       "      <th>RATE</th>\n",
       "      <th>...</th>\n",
       "      <th>ROW_ID</th>\n",
       "      <th>LABEL</th>\n",
       "      <th>ABBREVIATION</th>\n",
       "      <th>DBSOURCE</th>\n",
       "      <th>LINKSTO</th>\n",
       "      <th>CATEGORY</th>\n",
       "      <th>UNITNAME</th>\n",
       "      <th>PARAM_TYPE</th>\n",
       "      <th>CONCEPTID</th>\n",
       "      <th>MedTimeFromAdmit</th>\n",
       "    </tr>\n",
       "  </thead>\n",
       "  <tbody>\n",
       "    <tr>\n",
       "      <th>35719</th>\n",
       "      <td>42353</td>\n",
       "      <td>225828</td>\n",
       "      <td>171342</td>\n",
       "      <td>1671151</td>\n",
       "      <td>280877.0</td>\n",
       "      <td>2188-07-28 12:45:00</td>\n",
       "      <td>2188-07-28 12:46:00</td>\n",
       "      <td>1000.000000</td>\n",
       "      <td>ml</td>\n",
       "      <td>NaN</td>\n",
       "      <td>...</td>\n",
       "      <td>14005</td>\n",
       "      <td>LR</td>\n",
       "      <td>LR</td>\n",
       "      <td>metavision</td>\n",
       "      <td>inputevents_mv</td>\n",
       "      <td>Fluids/Intake</td>\n",
       "      <td>mL</td>\n",
       "      <td>Solution</td>\n",
       "      <td>NaN</td>\n",
       "      <td>0 days 00:01:00</td>\n",
       "    </tr>\n",
       "    <tr>\n",
       "      <th>231522</th>\n",
       "      <td>98281</td>\n",
       "      <td>225158</td>\n",
       "      <td>117684</td>\n",
       "      <td>1549345</td>\n",
       "      <td>251214.0</td>\n",
       "      <td>2134-03-30 16:30:00</td>\n",
       "      <td>2134-03-30 17:46:00</td>\n",
       "      <td>3.800000</td>\n",
       "      <td>ml</td>\n",
       "      <td>3.000000</td>\n",
       "      <td>...</td>\n",
       "      <td>13758</td>\n",
       "      <td>NaCl 0.9%</td>\n",
       "      <td>NaCl 0.9%</td>\n",
       "      <td>metavision</td>\n",
       "      <td>inputevents_mv</td>\n",
       "      <td>Fluids/Intake</td>\n",
       "      <td>mL</td>\n",
       "      <td>Solution</td>\n",
       "      <td>NaN</td>\n",
       "      <td>0 days 00:01:00</td>\n",
       "    </tr>\n",
       "    <tr>\n",
       "      <th>220822</th>\n",
       "      <td>95238</td>\n",
       "      <td>225828</td>\n",
       "      <td>110402</td>\n",
       "      <td>546286</td>\n",
       "      <td>223406.0</td>\n",
       "      <td>2161-04-20 11:45:00</td>\n",
       "      <td>2161-04-20 11:46:00</td>\n",
       "      <td>1000.000000</td>\n",
       "      <td>ml</td>\n",
       "      <td>NaN</td>\n",
       "      <td>...</td>\n",
       "      <td>14005</td>\n",
       "      <td>LR</td>\n",
       "      <td>LR</td>\n",
       "      <td>metavision</td>\n",
       "      <td>inputevents_mv</td>\n",
       "      <td>Fluids/Intake</td>\n",
       "      <td>mL</td>\n",
       "      <td>Solution</td>\n",
       "      <td>NaN</td>\n",
       "      <td>0 days 00:01:00</td>\n",
       "    </tr>\n",
       "    <tr>\n",
       "      <th>33451</th>\n",
       "      <td>41624</td>\n",
       "      <td>226372</td>\n",
       "      <td>178751</td>\n",
       "      <td>1538868</td>\n",
       "      <td>277546.0</td>\n",
       "      <td>2162-05-06 11:00:00</td>\n",
       "      <td>2162-05-06 11:01:00</td>\n",
       "      <td>600.000000</td>\n",
       "      <td>ml</td>\n",
       "      <td>NaN</td>\n",
       "      <td>...</td>\n",
       "      <td>14457</td>\n",
       "      <td>OR Cell Saver Intake</td>\n",
       "      <td>OR Cell Saver Intake</td>\n",
       "      <td>metavision</td>\n",
       "      <td>inputevents_mv</td>\n",
       "      <td>Blood Products/Colloids</td>\n",
       "      <td>mL</td>\n",
       "      <td>Solution</td>\n",
       "      <td>NaN</td>\n",
       "      <td>0 days 00:01:00</td>\n",
       "    </tr>\n",
       "    <tr>\n",
       "      <th>172779</th>\n",
       "      <td>81202</td>\n",
       "      <td>220949</td>\n",
       "      <td>105280</td>\n",
       "      <td>1614569</td>\n",
       "      <td>272451.0</td>\n",
       "      <td>2103-06-10 08:00:00</td>\n",
       "      <td>2103-06-10 08:01:00</td>\n",
       "      <td>200.000000</td>\n",
       "      <td>ml</td>\n",
       "      <td>NaN</td>\n",
       "      <td>...</td>\n",
       "      <td>12865</td>\n",
       "      <td>Dextrose 5%</td>\n",
       "      <td>Dextrose 5%</td>\n",
       "      <td>metavision</td>\n",
       "      <td>inputevents_mv</td>\n",
       "      <td>Fluids/Intake</td>\n",
       "      <td>mL</td>\n",
       "      <td>Solution</td>\n",
       "      <td>NaN</td>\n",
       "      <td>0 days 00:01:00</td>\n",
       "    </tr>\n",
       "    <tr>\n",
       "      <th>...</th>\n",
       "      <td>...</td>\n",
       "      <td>...</td>\n",
       "      <td>...</td>\n",
       "      <td>...</td>\n",
       "      <td>...</td>\n",
       "      <td>...</td>\n",
       "      <td>...</td>\n",
       "      <td>...</td>\n",
       "      <td>...</td>\n",
       "      <td>...</td>\n",
       "      <td>...</td>\n",
       "      <td>...</td>\n",
       "      <td>...</td>\n",
       "      <td>...</td>\n",
       "      <td>...</td>\n",
       "      <td>...</td>\n",
       "      <td>...</td>\n",
       "      <td>...</td>\n",
       "      <td>...</td>\n",
       "      <td>...</td>\n",
       "      <td>...</td>\n",
       "    </tr>\n",
       "    <tr>\n",
       "      <th>214311</th>\n",
       "      <td>93321</td>\n",
       "      <td>225912</td>\n",
       "      <td>115396</td>\n",
       "      <td>3599562</td>\n",
       "      <td>248745.0</td>\n",
       "      <td>2128-09-12 23:28:00</td>\n",
       "      <td>2128-09-12 23:29:00</td>\n",
       "      <td>1.000000</td>\n",
       "      <td>dose</td>\n",
       "      <td>NaN</td>\n",
       "      <td>...</td>\n",
       "      <td>14065</td>\n",
       "      <td>Carafate (Sucralfate)</td>\n",
       "      <td>Carafate (Sucralfate)</td>\n",
       "      <td>metavision</td>\n",
       "      <td>inputevents_mv</td>\n",
       "      <td>Medications</td>\n",
       "      <td>dose</td>\n",
       "      <td>Solution</td>\n",
       "      <td>NaN</td>\n",
       "      <td>172 days 00:28:00</td>\n",
       "    </tr>\n",
       "    <tr>\n",
       "      <th>214320</th>\n",
       "      <td>93321</td>\n",
       "      <td>226453</td>\n",
       "      <td>115396</td>\n",
       "      <td>3599939</td>\n",
       "      <td>248745.0</td>\n",
       "      <td>2128-09-13 08:00:00</td>\n",
       "      <td>2128-09-13 08:01:00</td>\n",
       "      <td>30.000000</td>\n",
       "      <td>ml</td>\n",
       "      <td>NaN</td>\n",
       "      <td>...</td>\n",
       "      <td>14472</td>\n",
       "      <td>GT Flush</td>\n",
       "      <td>GT Flush</td>\n",
       "      <td>metavision</td>\n",
       "      <td>inputevents_mv</td>\n",
       "      <td>Fluids/Intake</td>\n",
       "      <td>mL</td>\n",
       "      <td>Solution</td>\n",
       "      <td>NaN</td>\n",
       "      <td>172 days 09:00:00</td>\n",
       "    </tr>\n",
       "    <tr>\n",
       "      <th>214312</th>\n",
       "      <td>93321</td>\n",
       "      <td>225917</td>\n",
       "      <td>115396</td>\n",
       "      <td>3599685</td>\n",
       "      <td>248745.0</td>\n",
       "      <td>2128-09-12 18:46:00</td>\n",
       "      <td>2128-09-13 18:47:00</td>\n",
       "      <td>2499.999978</td>\n",
       "      <td>ml</td>\n",
       "      <td>104.094378</td>\n",
       "      <td>...</td>\n",
       "      <td>14355</td>\n",
       "      <td>TPN without Lipids</td>\n",
       "      <td>TPN without Lipids</td>\n",
       "      <td>metavision</td>\n",
       "      <td>inputevents_mv</td>\n",
       "      <td>Nutrition - Parenteral</td>\n",
       "      <td>mL</td>\n",
       "      <td>Solution</td>\n",
       "      <td>NaN</td>\n",
       "      <td>172 days 19:46:00</td>\n",
       "    </tr>\n",
       "    <tr>\n",
       "      <th>214313</th>\n",
       "      <td>93321</td>\n",
       "      <td>225930</td>\n",
       "      <td>115396</td>\n",
       "      <td>3599948</td>\n",
       "      <td>248745.0</td>\n",
       "      <td>2128-09-14 18:43:00</td>\n",
       "      <td>2128-09-15 08:22:00</td>\n",
       "      <td>273.000005</td>\n",
       "      <td>ml</td>\n",
       "      <td>20.000000</td>\n",
       "      <td>...</td>\n",
       "      <td>14367</td>\n",
       "      <td>Peptamen 1.5 (Full)</td>\n",
       "      <td>Peptamen 1.5 (Full)</td>\n",
       "      <td>metavision</td>\n",
       "      <td>inputevents_mv</td>\n",
       "      <td>Nutrition - Enteral</td>\n",
       "      <td>mL</td>\n",
       "      <td>Solution</td>\n",
       "      <td>NaN</td>\n",
       "      <td>174 days 09:21:00</td>\n",
       "    </tr>\n",
       "    <tr>\n",
       "      <th>214294</th>\n",
       "      <td>93321</td>\n",
       "      <td>225797</td>\n",
       "      <td>115396</td>\n",
       "      <td>3599629</td>\n",
       "      <td>248745.0</td>\n",
       "      <td>2128-09-15 11:03:00</td>\n",
       "      <td>2128-09-15 11:04:00</td>\n",
       "      <td>100.000000</td>\n",
       "      <td>ml</td>\n",
       "      <td>NaN</td>\n",
       "      <td>...</td>\n",
       "      <td>13981</td>\n",
       "      <td>Free Water</td>\n",
       "      <td>Free Water</td>\n",
       "      <td>metavision</td>\n",
       "      <td>inputevents_mv</td>\n",
       "      <td>Fluids/Intake</td>\n",
       "      <td>mL</td>\n",
       "      <td>Solution</td>\n",
       "      <td>NaN</td>\n",
       "      <td>174 days 12:03:00</td>\n",
       "    </tr>\n",
       "  </tbody>\n",
       "</table>\n",
       "<p>237607 rows × 59 columns</p>\n",
       "</div>"
      ],
      "text/plain": [
       "        SUBJECT_ID  ITEMID  HADM_ID  ROW_ID_x  ICUSTAY_ID  \\\n",
       "35719        42353  225828   171342   1671151    280877.0   \n",
       "231522       98281  225158   117684   1549345    251214.0   \n",
       "220822       95238  225828   110402    546286    223406.0   \n",
       "33451        41624  226372   178751   1538868    277546.0   \n",
       "172779       81202  220949   105280   1614569    272451.0   \n",
       "...            ...     ...      ...       ...         ...   \n",
       "214311       93321  225912   115396   3599562    248745.0   \n",
       "214320       93321  226453   115396   3599939    248745.0   \n",
       "214312       93321  225917   115396   3599685    248745.0   \n",
       "214313       93321  225930   115396   3599948    248745.0   \n",
       "214294       93321  225797   115396   3599629    248745.0   \n",
       "\n",
       "                  STARTTIME              ENDTIME       AMOUNT AMOUNTUOM  \\\n",
       "35719   2188-07-28 12:45:00  2188-07-28 12:46:00  1000.000000        ml   \n",
       "231522  2134-03-30 16:30:00  2134-03-30 17:46:00     3.800000        ml   \n",
       "220822  2161-04-20 11:45:00  2161-04-20 11:46:00  1000.000000        ml   \n",
       "33451   2162-05-06 11:00:00  2162-05-06 11:01:00   600.000000        ml   \n",
       "172779  2103-06-10 08:00:00  2103-06-10 08:01:00   200.000000        ml   \n",
       "...                     ...                  ...          ...       ...   \n",
       "214311  2128-09-12 23:28:00  2128-09-12 23:29:00     1.000000      dose   \n",
       "214320  2128-09-13 08:00:00  2128-09-13 08:01:00    30.000000        ml   \n",
       "214312  2128-09-12 18:46:00  2128-09-13 18:47:00  2499.999978        ml   \n",
       "214313  2128-09-14 18:43:00  2128-09-15 08:22:00   273.000005        ml   \n",
       "214294  2128-09-15 11:03:00  2128-09-15 11:04:00   100.000000        ml   \n",
       "\n",
       "              RATE  ... ROW_ID                  LABEL           ABBREVIATION  \\\n",
       "35719          NaN  ...  14005                     LR                     LR   \n",
       "231522    3.000000  ...  13758              NaCl 0.9%              NaCl 0.9%   \n",
       "220822         NaN  ...  14005                     LR                     LR   \n",
       "33451          NaN  ...  14457   OR Cell Saver Intake   OR Cell Saver Intake   \n",
       "172779         NaN  ...  12865            Dextrose 5%            Dextrose 5%   \n",
       "...            ...  ...    ...                    ...                    ...   \n",
       "214311         NaN  ...  14065  Carafate (Sucralfate)  Carafate (Sucralfate)   \n",
       "214320         NaN  ...  14472               GT Flush               GT Flush   \n",
       "214312  104.094378  ...  14355     TPN without Lipids     TPN without Lipids   \n",
       "214313   20.000000  ...  14367    Peptamen 1.5 (Full)    Peptamen 1.5 (Full)   \n",
       "214294         NaN  ...  13981             Free Water             Free Water   \n",
       "\n",
       "          DBSOURCE         LINKSTO                 CATEGORY UNITNAME  \\\n",
       "35719   metavision  inputevents_mv            Fluids/Intake       mL   \n",
       "231522  metavision  inputevents_mv            Fluids/Intake       mL   \n",
       "220822  metavision  inputevents_mv            Fluids/Intake       mL   \n",
       "33451   metavision  inputevents_mv  Blood Products/Colloids       mL   \n",
       "172779  metavision  inputevents_mv            Fluids/Intake       mL   \n",
       "...            ...             ...                      ...      ...   \n",
       "214311  metavision  inputevents_mv              Medications     dose   \n",
       "214320  metavision  inputevents_mv            Fluids/Intake       mL   \n",
       "214312  metavision  inputevents_mv   Nutrition - Parenteral       mL   \n",
       "214313  metavision  inputevents_mv      Nutrition - Enteral       mL   \n",
       "214294  metavision  inputevents_mv            Fluids/Intake       mL   \n",
       "\n",
       "       PARAM_TYPE CONCEPTID  MedTimeFromAdmit  \n",
       "35719    Solution       NaN   0 days 00:01:00  \n",
       "231522   Solution       NaN   0 days 00:01:00  \n",
       "220822   Solution       NaN   0 days 00:01:00  \n",
       "33451    Solution       NaN   0 days 00:01:00  \n",
       "172779   Solution       NaN   0 days 00:01:00  \n",
       "...           ...       ...               ...  \n",
       "214311   Solution       NaN 172 days 00:28:00  \n",
       "214320   Solution       NaN 172 days 09:00:00  \n",
       "214312   Solution       NaN 172 days 19:46:00  \n",
       "214313   Solution       NaN 174 days 09:21:00  \n",
       "214294   Solution       NaN 174 days 12:03:00  \n",
       "\n",
       "[237607 rows x 59 columns]"
      ]
     },
     "execution_count": 305,
     "metadata": {},
     "output_type": "execute_result"
    }
   ],
   "source": [
    "med2"
   ]
  },
  {
   "cell_type": "code",
   "execution_count": 307,
   "metadata": {},
   "outputs": [],
   "source": [
    "labs = labs.rename(columns={\"SUBJECT_ID_x\":\"SUBJECT_ID\"})"
   ]
  },
  {
   "cell_type": "code",
   "execution_count": 308,
   "metadata": {},
   "outputs": [
    {
     "data": {
      "text/html": [
       "<div>\n",
       "<style scoped>\n",
       "    .dataframe tbody tr th:only-of-type {\n",
       "        vertical-align: middle;\n",
       "    }\n",
       "\n",
       "    .dataframe tbody tr th {\n",
       "        vertical-align: top;\n",
       "    }\n",
       "\n",
       "    .dataframe thead th {\n",
       "        text-align: right;\n",
       "    }\n",
       "</style>\n",
       "<table border=\"1\" class=\"dataframe\">\n",
       "  <thead>\n",
       "    <tr style=\"text-align: right;\">\n",
       "      <th></th>\n",
       "      <th>ROW_ID_x</th>\n",
       "      <th>SUBJECT_ID</th>\n",
       "      <th>HADM_ID</th>\n",
       "      <th>ITEMID</th>\n",
       "      <th>CHARTTIME</th>\n",
       "      <th>VALUE</th>\n",
       "      <th>VALUENUM</th>\n",
       "      <th>VALUEUOM</th>\n",
       "      <th>FLAG</th>\n",
       "      <th>ROW_ID_y</th>\n",
       "      <th>...</th>\n",
       "      <th>LANGUAGE</th>\n",
       "      <th>RELIGION</th>\n",
       "      <th>MARITAL_STATUS</th>\n",
       "      <th>ETHNICITY</th>\n",
       "      <th>EDREGTIME</th>\n",
       "      <th>EDOUTTIME</th>\n",
       "      <th>DIAGNOSIS</th>\n",
       "      <th>HOSPITAL_EXPIRE_FLAG</th>\n",
       "      <th>HAS_CHARTEVENTS_DATA</th>\n",
       "      <th>LabTimeFromAdmit</th>\n",
       "    </tr>\n",
       "  </thead>\n",
       "  <tbody>\n",
       "    <tr>\n",
       "      <th>14822987</th>\n",
       "      <td>21075805</td>\n",
       "      <td>48882</td>\n",
       "      <td>103146.0</td>\n",
       "      <td>50813</td>\n",
       "      <td>2114-04-23 18:17:00</td>\n",
       "      <td>2.5</td>\n",
       "      <td>2.50</td>\n",
       "      <td>mmol/L</td>\n",
       "      <td>abnormal</td>\n",
       "      <td>14</td>\n",
       "      <td>...</td>\n",
       "      <td>ENGL</td>\n",
       "      <td>CATHOLIC</td>\n",
       "      <td>MARRIED</td>\n",
       "      <td>WHITE</td>\n",
       "      <td>NaN</td>\n",
       "      <td>NaN</td>\n",
       "      <td>AORTIC STENOSIS</td>\n",
       "      <td>1</td>\n",
       "      <td>1</td>\n",
       "      <td>0 days 00:01:00</td>\n",
       "    </tr>\n",
       "    <tr>\n",
       "      <th>20517708</th>\n",
       "      <td>27458475</td>\n",
       "      <td>96686</td>\n",
       "      <td>189846.0</td>\n",
       "      <td>51077</td>\n",
       "      <td>2115-04-11 18:50:00</td>\n",
       "      <td>2.9</td>\n",
       "      <td>2.90</td>\n",
       "      <td>mg/dL</td>\n",
       "      <td>NaN</td>\n",
       "      <td>277</td>\n",
       "      <td>...</td>\n",
       "      <td>ENGL</td>\n",
       "      <td>NOT SPECIFIED</td>\n",
       "      <td>SINGLE</td>\n",
       "      <td>BLACK/AFRICAN AMERICAN</td>\n",
       "      <td>2115-04-11 12:29:00</td>\n",
       "      <td>2115-04-11 20:40:00</td>\n",
       "      <td>ACUTE RENAL FAILURE</td>\n",
       "      <td>0</td>\n",
       "      <td>1</td>\n",
       "      <td>0 days 00:01:00</td>\n",
       "    </tr>\n",
       "    <tr>\n",
       "      <th>20517709</th>\n",
       "      <td>27458479</td>\n",
       "      <td>96686</td>\n",
       "      <td>189846.0</td>\n",
       "      <td>51097</td>\n",
       "      <td>2115-04-11 18:50:00</td>\n",
       "      <td>25</td>\n",
       "      <td>25.00</td>\n",
       "      <td>mEq/L</td>\n",
       "      <td>NaN</td>\n",
       "      <td>297</td>\n",
       "      <td>...</td>\n",
       "      <td>ENGL</td>\n",
       "      <td>NOT SPECIFIED</td>\n",
       "      <td>SINGLE</td>\n",
       "      <td>BLACK/AFRICAN AMERICAN</td>\n",
       "      <td>2115-04-11 12:29:00</td>\n",
       "      <td>2115-04-11 20:40:00</td>\n",
       "      <td>ACUTE RENAL FAILURE</td>\n",
       "      <td>0</td>\n",
       "      <td>1</td>\n",
       "      <td>0 days 00:01:00</td>\n",
       "    </tr>\n",
       "    <tr>\n",
       "      <th>13665680</th>\n",
       "      <td>20690955</td>\n",
       "      <td>46007</td>\n",
       "      <td>178313.0</td>\n",
       "      <td>50893</td>\n",
       "      <td>2138-05-11 14:30:00</td>\n",
       "      <td>7.6</td>\n",
       "      <td>7.60</td>\n",
       "      <td>mg/dL</td>\n",
       "      <td>abnormal</td>\n",
       "      <td>94</td>\n",
       "      <td>...</td>\n",
       "      <td>ENGL</td>\n",
       "      <td>NOT SPECIFIED</td>\n",
       "      <td>MARRIED</td>\n",
       "      <td>WHITE</td>\n",
       "      <td>2138-05-11 11:41:00</td>\n",
       "      <td>2138-05-11 15:28:00</td>\n",
       "      <td>MULITPLE RIB FRACTURES</td>\n",
       "      <td>0</td>\n",
       "      <td>1</td>\n",
       "      <td>0 days 00:01:00</td>\n",
       "    </tr>\n",
       "    <tr>\n",
       "      <th>18193731</th>\n",
       "      <td>26566842</td>\n",
       "      <td>89929</td>\n",
       "      <td>118735.0</td>\n",
       "      <td>50820</td>\n",
       "      <td>2169-02-09 16:24:00</td>\n",
       "      <td>7.32</td>\n",
       "      <td>7.32</td>\n",
       "      <td>units</td>\n",
       "      <td>abnormal</td>\n",
       "      <td>21</td>\n",
       "      <td>...</td>\n",
       "      <td>ENGL</td>\n",
       "      <td>UNOBTAINABLE</td>\n",
       "      <td>NaN</td>\n",
       "      <td>UNKNOWN/NOT SPECIFIED</td>\n",
       "      <td>2169-02-09 15:00:00</td>\n",
       "      <td>2169-02-09 18:11:00</td>\n",
       "      <td>OVERDOSE ON DEPAKOTE</td>\n",
       "      <td>0</td>\n",
       "      <td>1</td>\n",
       "      <td>0 days 00:01:00</td>\n",
       "    </tr>\n",
       "    <tr>\n",
       "      <th>...</th>\n",
       "      <td>...</td>\n",
       "      <td>...</td>\n",
       "      <td>...</td>\n",
       "      <td>...</td>\n",
       "      <td>...</td>\n",
       "      <td>...</td>\n",
       "      <td>...</td>\n",
       "      <td>...</td>\n",
       "      <td>...</td>\n",
       "      <td>...</td>\n",
       "      <td>...</td>\n",
       "      <td>...</td>\n",
       "      <td>...</td>\n",
       "      <td>...</td>\n",
       "      <td>...</td>\n",
       "      <td>...</td>\n",
       "      <td>...</td>\n",
       "      <td>...</td>\n",
       "      <td>...</td>\n",
       "      <td>...</td>\n",
       "      <td>...</td>\n",
       "    </tr>\n",
       "    <tr>\n",
       "      <th>19106318</th>\n",
       "      <td>27017123</td>\n",
       "      <td>93321</td>\n",
       "      <td>115396.0</td>\n",
       "      <td>50813</td>\n",
       "      <td>2128-10-17 05:33:00</td>\n",
       "      <td>5.4</td>\n",
       "      <td>5.40</td>\n",
       "      <td>mmol/L</td>\n",
       "      <td>abnormal</td>\n",
       "      <td>14</td>\n",
       "      <td>...</td>\n",
       "      <td>NaN</td>\n",
       "      <td>CATHOLIC</td>\n",
       "      <td>WIDOWED</td>\n",
       "      <td>WHITE</td>\n",
       "      <td>2128-03-24 22:29:00</td>\n",
       "      <td>2128-03-25 00:19:00</td>\n",
       "      <td>ANEMIA</td>\n",
       "      <td>1</td>\n",
       "      <td>1</td>\n",
       "      <td>206 days 06:32:00</td>\n",
       "    </tr>\n",
       "    <tr>\n",
       "      <th>19106344</th>\n",
       "      <td>27017124</td>\n",
       "      <td>93321</td>\n",
       "      <td>115396.0</td>\n",
       "      <td>50818</td>\n",
       "      <td>2128-10-17 05:33:00</td>\n",
       "      <td>38</td>\n",
       "      <td>38.00</td>\n",
       "      <td>mm Hg</td>\n",
       "      <td>NaN</td>\n",
       "      <td>19</td>\n",
       "      <td>...</td>\n",
       "      <td>NaN</td>\n",
       "      <td>CATHOLIC</td>\n",
       "      <td>WIDOWED</td>\n",
       "      <td>WHITE</td>\n",
       "      <td>2128-03-24 22:29:00</td>\n",
       "      <td>2128-03-25 00:19:00</td>\n",
       "      <td>ANEMIA</td>\n",
       "      <td>1</td>\n",
       "      <td>1</td>\n",
       "      <td>206 days 06:32:00</td>\n",
       "    </tr>\n",
       "    <tr>\n",
       "      <th>19106369</th>\n",
       "      <td>27017126</td>\n",
       "      <td>93321</td>\n",
       "      <td>115396.0</td>\n",
       "      <td>50821</td>\n",
       "      <td>2128-10-17 05:33:00</td>\n",
       "      <td>117</td>\n",
       "      <td>117.00</td>\n",
       "      <td>mm Hg</td>\n",
       "      <td>abnormal</td>\n",
       "      <td>22</td>\n",
       "      <td>...</td>\n",
       "      <td>NaN</td>\n",
       "      <td>CATHOLIC</td>\n",
       "      <td>WIDOWED</td>\n",
       "      <td>WHITE</td>\n",
       "      <td>2128-03-24 22:29:00</td>\n",
       "      <td>2128-03-25 00:19:00</td>\n",
       "      <td>ANEMIA</td>\n",
       "      <td>1</td>\n",
       "      <td>1</td>\n",
       "      <td>206 days 06:32:00</td>\n",
       "    </tr>\n",
       "    <tr>\n",
       "      <th>19106282</th>\n",
       "      <td>27017122</td>\n",
       "      <td>93321</td>\n",
       "      <td>115396.0</td>\n",
       "      <td>50804</td>\n",
       "      <td>2128-10-17 05:33:00</td>\n",
       "      <td>13</td>\n",
       "      <td>13.00</td>\n",
       "      <td>mEq/L</td>\n",
       "      <td>abnormal</td>\n",
       "      <td>5</td>\n",
       "      <td>...</td>\n",
       "      <td>NaN</td>\n",
       "      <td>CATHOLIC</td>\n",
       "      <td>WIDOWED</td>\n",
       "      <td>WHITE</td>\n",
       "      <td>2128-03-24 22:29:00</td>\n",
       "      <td>2128-03-25 00:19:00</td>\n",
       "      <td>ANEMIA</td>\n",
       "      <td>1</td>\n",
       "      <td>1</td>\n",
       "      <td>206 days 06:32:00</td>\n",
       "    </tr>\n",
       "    <tr>\n",
       "      <th>19106228</th>\n",
       "      <td>27017125</td>\n",
       "      <td>93321</td>\n",
       "      <td>115396.0</td>\n",
       "      <td>50820</td>\n",
       "      <td>2128-10-17 05:33:00</td>\n",
       "      <td>7.11</td>\n",
       "      <td>7.11</td>\n",
       "      <td>units</td>\n",
       "      <td>abnormal</td>\n",
       "      <td>21</td>\n",
       "      <td>...</td>\n",
       "      <td>NaN</td>\n",
       "      <td>CATHOLIC</td>\n",
       "      <td>WIDOWED</td>\n",
       "      <td>WHITE</td>\n",
       "      <td>2128-03-24 22:29:00</td>\n",
       "      <td>2128-03-25 00:19:00</td>\n",
       "      <td>ANEMIA</td>\n",
       "      <td>1</td>\n",
       "      <td>1</td>\n",
       "      <td>206 days 06:32:00</td>\n",
       "    </tr>\n",
       "  </tbody>\n",
       "</table>\n",
       "<p>7260285 rows × 33 columns</p>\n",
       "</div>"
      ],
      "text/plain": [
       "          ROW_ID_x  SUBJECT_ID   HADM_ID  ITEMID            CHARTTIME VALUE  \\\n",
       "14822987  21075805       48882  103146.0   50813  2114-04-23 18:17:00   2.5   \n",
       "20517708  27458475       96686  189846.0   51077  2115-04-11 18:50:00   2.9   \n",
       "20517709  27458479       96686  189846.0   51097  2115-04-11 18:50:00    25   \n",
       "13665680  20690955       46007  178313.0   50893  2138-05-11 14:30:00   7.6   \n",
       "18193731  26566842       89929  118735.0   50820  2169-02-09 16:24:00  7.32   \n",
       "...            ...         ...       ...     ...                  ...   ...   \n",
       "19106318  27017123       93321  115396.0   50813  2128-10-17 05:33:00   5.4   \n",
       "19106344  27017124       93321  115396.0   50818  2128-10-17 05:33:00    38   \n",
       "19106369  27017126       93321  115396.0   50821  2128-10-17 05:33:00   117   \n",
       "19106282  27017122       93321  115396.0   50804  2128-10-17 05:33:00    13   \n",
       "19106228  27017125       93321  115396.0   50820  2128-10-17 05:33:00  7.11   \n",
       "\n",
       "          VALUENUM VALUEUOM      FLAG  ROW_ID_y  ... LANGUAGE       RELIGION  \\\n",
       "14822987      2.50   mmol/L  abnormal        14  ...     ENGL       CATHOLIC   \n",
       "20517708      2.90    mg/dL       NaN       277  ...     ENGL  NOT SPECIFIED   \n",
       "20517709     25.00    mEq/L       NaN       297  ...     ENGL  NOT SPECIFIED   \n",
       "13665680      7.60    mg/dL  abnormal        94  ...     ENGL  NOT SPECIFIED   \n",
       "18193731      7.32    units  abnormal        21  ...     ENGL   UNOBTAINABLE   \n",
       "...            ...      ...       ...       ...  ...      ...            ...   \n",
       "19106318      5.40   mmol/L  abnormal        14  ...      NaN       CATHOLIC   \n",
       "19106344     38.00    mm Hg       NaN        19  ...      NaN       CATHOLIC   \n",
       "19106369    117.00    mm Hg  abnormal        22  ...      NaN       CATHOLIC   \n",
       "19106282     13.00    mEq/L  abnormal         5  ...      NaN       CATHOLIC   \n",
       "19106228      7.11    units  abnormal        21  ...      NaN       CATHOLIC   \n",
       "\n",
       "         MARITAL_STATUS               ETHNICITY            EDREGTIME  \\\n",
       "14822987        MARRIED                   WHITE                  NaN   \n",
       "20517708         SINGLE  BLACK/AFRICAN AMERICAN  2115-04-11 12:29:00   \n",
       "20517709         SINGLE  BLACK/AFRICAN AMERICAN  2115-04-11 12:29:00   \n",
       "13665680        MARRIED                   WHITE  2138-05-11 11:41:00   \n",
       "18193731            NaN   UNKNOWN/NOT SPECIFIED  2169-02-09 15:00:00   \n",
       "...                 ...                     ...                  ...   \n",
       "19106318        WIDOWED                   WHITE  2128-03-24 22:29:00   \n",
       "19106344        WIDOWED                   WHITE  2128-03-24 22:29:00   \n",
       "19106369        WIDOWED                   WHITE  2128-03-24 22:29:00   \n",
       "19106282        WIDOWED                   WHITE  2128-03-24 22:29:00   \n",
       "19106228        WIDOWED                   WHITE  2128-03-24 22:29:00   \n",
       "\n",
       "                    EDOUTTIME               DIAGNOSIS HOSPITAL_EXPIRE_FLAG  \\\n",
       "14822987                  NaN         AORTIC STENOSIS                    1   \n",
       "20517708  2115-04-11 20:40:00     ACUTE RENAL FAILURE                    0   \n",
       "20517709  2115-04-11 20:40:00     ACUTE RENAL FAILURE                    0   \n",
       "13665680  2138-05-11 15:28:00  MULITPLE RIB FRACTURES                    0   \n",
       "18193731  2169-02-09 18:11:00    OVERDOSE ON DEPAKOTE                    0   \n",
       "...                       ...                     ...                  ...   \n",
       "19106318  2128-03-25 00:19:00                  ANEMIA                    1   \n",
       "19106344  2128-03-25 00:19:00                  ANEMIA                    1   \n",
       "19106369  2128-03-25 00:19:00                  ANEMIA                    1   \n",
       "19106282  2128-03-25 00:19:00                  ANEMIA                    1   \n",
       "19106228  2128-03-25 00:19:00                  ANEMIA                    1   \n",
       "\n",
       "         HAS_CHARTEVENTS_DATA  LabTimeFromAdmit  \n",
       "14822987                    1   0 days 00:01:00  \n",
       "20517708                    1   0 days 00:01:00  \n",
       "20517709                    1   0 days 00:01:00  \n",
       "13665680                    1   0 days 00:01:00  \n",
       "18193731                    1   0 days 00:01:00  \n",
       "...                       ...               ...  \n",
       "19106318                    1 206 days 06:32:00  \n",
       "19106344                    1 206 days 06:32:00  \n",
       "19106369                    1 206 days 06:32:00  \n",
       "19106282                    1 206 days 06:32:00  \n",
       "19106228                    1 206 days 06:32:00  \n",
       "\n",
       "[7260285 rows x 33 columns]"
      ]
     },
     "execution_count": 308,
     "metadata": {},
     "output_type": "execute_result"
    }
   ],
   "source": [
    "labs"
   ]
  },
  {
   "cell_type": "code",
   "execution_count": 367,
   "metadata": {},
   "outputs": [],
   "source": [
    "med1[\"STARTTIME\"] = pd.to_datetime(med1[\"STARTTIME\"])\n",
    "med1[\"ENDTIME\"] = pd.to_datetime(med1[\"ENDTIME\"])\n",
    "med2[\"STARTTIME\"] = pd.to_datetime(med2[\"STARTTIME\"])\n",
    "med2[\"ENDTIME\"] = pd.to_datetime(med2[\"ENDTIME\"])\n",
    "labs[\"CHARTTIME\"] = pd.to_datetime(labs[\"CHARTTIME\"])"
   ]
  },
  {
   "cell_type": "code",
   "execution_count": null,
   "metadata": {},
   "outputs": [],
   "source": [
    "res1"
   ]
  },
  {
   "cell_type": "code",
   "execution_count": 402,
   "metadata": {},
   "outputs": [],
   "source": [
    "import tqdm, datetime, warnings\n",
    "\n",
    "warnings.filterwarnings(\"ignore\")\n",
    "\n",
    "hours = 12\n",
    "readings = 10000\n",
    "\n",
    "res = {}\n",
    "unique_lab_d = {}\n",
    "for id in counts[counts[\"HADM_ID\"]>readings].index:\n",
    "    med = med1[med1[\"ITEMID\"]==id]\n",
    "    lab = labs[labs[\"HADM_ID\"].isin(med[\"HADM_ID\"])]\n",
    "    unique_labs = list(lab[\"ITEMID\"].unique())\n",
    "    unique_lab_d[id] = unique_labs\n",
    "    # res[id] = {i:{} for i in unique_labs}\n",
    "    res[id] = dict()\n",
    "    for i, row in tqdm.tqdm(med.iterrows(), total=med.shape[0]):\n",
    "        lab_vals = lab[lab[\"HADM_ID\"]==row[\"HADM_ID\"]]\n",
    "        lab_vals[\"LabTimeBeforeMed\"] = lab_vals[\"CHARTTIME\"] - row[\"STARTTIME\"]\n",
    "        lab_vals_before = lab_vals[lab_vals[\"LabTimeBeforeMed\"]<datetime.timedelta(hours=(-1*hours))]\n",
    "        lab_vals[\"LabTimeAfterMed\"] = lab_vals[\"CHARTTIME\"] - row[\"ENDTIME\"]\n",
    "        lab_vals_after = lab_vals[lab_vals[\"LabTimeAfterMed\"]>datetime.timedelta(hours=hours)]\n",
    "        after = lab_vals_after\n",
    "        before = lab_vals_before\n",
    "        if before.shape[0]>0 and after.shape[0]>0:\n",
    "            # print(lab_vals_before.shape, lab_vals_after.shape, row[\"HADM_ID\"], row[\"MedTimeFromAdmit\"], row[\"MedTimeFromAdmit\"].total_seconds())\n",
    "            res[id][row[\"HADM_ID\"]] = {\n",
    "                \"lab_vals_after\" : after,\n",
    "                \"lab_vals_before\" : before,\n",
    "                \"HADM_ID\" : row[\"HADM_ID\"],\n",
    "                \"row\" : row\n",
    "            }\n"
   ]
  },
  {
   "cell_type": "code",
   "execution_count": 409,
   "metadata": {},
   "outputs": [
    {
     "data": {
      "text/plain": [
       "(4, 4848, dict_keys([225158, 220949, 226452, 225943]))"
      ]
     },
     "execution_count": 409,
     "metadata": {},
     "output_type": "execute_result"
    }
   ],
   "source": [
    "len(res.keys()), len(res[list(res.keys())[0]].keys()), unique_lab_d.keys()"
   ]
  },
  {
   "cell_type": "code",
   "execution_count": 408,
   "metadata": {},
   "outputs": [
    {
     "data": {
      "text/plain": [
       "dict_keys([225158, 220949, 226452, 225943])"
      ]
     },
     "execution_count": 408,
     "metadata": {},
     "output_type": "execute_result"
    }
   ],
   "source": [
    "res.keys()"
   ]
  },
  {
   "cell_type": "code",
   "execution_count": 473,
   "metadata": {},
   "outputs": [
    {
     "name": "stdout",
     "output_type": "stream",
     "text": [
      "225158<>50813 pair\n"
     ]
    },
    {
     "name": "stderr",
     "output_type": "stream",
     "text": [
      "100%|██████████| 4848/4848 [00:39<00:00, 122.15it/s]\n"
     ]
    },
    {
     "name": "stdout",
     "output_type": "stream",
     "text": [
      "225158<>50893 pair\n"
     ]
    },
    {
     "name": "stderr",
     "output_type": "stream",
     "text": [
      "100%|██████████| 4848/4848 [02:02<00:00, 39.67it/s]\n"
     ]
    },
    {
     "name": "stdout",
     "output_type": "stream",
     "text": [
      "225158<>50820 pair\n"
     ]
    },
    {
     "name": "stderr",
     "output_type": "stream",
     "text": [
      "100%|██████████| 4848/4848 [00:46<00:00, 104.15it/s]\n"
     ]
    },
    {
     "name": "stdout",
     "output_type": "stream",
     "text": [
      "225158<>50882 pair\n"
     ]
    },
    {
     "name": "stderr",
     "output_type": "stream",
     "text": [
      "100%|██████████| 4848/4848 [02:22<00:00, 34.02it/s]\n"
     ]
    },
    {
     "name": "stdout",
     "output_type": "stream",
     "text": [
      "225158<>50868 pair\n"
     ]
    },
    {
     "name": "stderr",
     "output_type": "stream",
     "text": [
      "100%|██████████| 4848/4848 [02:19<00:00, 34.73it/s]\n"
     ]
    },
    {
     "name": "stdout",
     "output_type": "stream",
     "text": [
      "225158<>51275 pair\n"
     ]
    },
    {
     "name": "stderr",
     "output_type": "stream",
     "text": [
      "100%|██████████| 4848/4848 [01:56<00:00, 41.53it/s]\n"
     ]
    },
    {
     "name": "stdout",
     "output_type": "stream",
     "text": [
      "225158<>51237 pair\n"
     ]
    },
    {
     "name": "stderr",
     "output_type": "stream",
     "text": [
      "100%|██████████| 4848/4848 [01:56<00:00, 41.45it/s]\n"
     ]
    },
    {
     "name": "stdout",
     "output_type": "stream",
     "text": [
      "225158<>51274 pair\n"
     ]
    },
    {
     "name": "stderr",
     "output_type": "stream",
     "text": [
      "100%|██████████| 4848/4848 [01:57<00:00, 41.16it/s]\n"
     ]
    },
    {
     "name": "stdout",
     "output_type": "stream",
     "text": [
      "225158<>50802 pair\n"
     ]
    },
    {
     "name": "stderr",
     "output_type": "stream",
     "text": [
      "100%|██████████| 4848/4848 [00:43<00:00, 110.78it/s]\n"
     ]
    },
    {
     "name": "stdout",
     "output_type": "stream",
     "text": [
      "225158<>50804 pair\n"
     ]
    },
    {
     "name": "stderr",
     "output_type": "stream",
     "text": [
      "100%|██████████| 4848/4848 [00:44<00:00, 109.96it/s]\n"
     ]
    },
    {
     "name": "stdout",
     "output_type": "stream",
     "text": [
      "225158<>50818 pair\n"
     ]
    },
    {
     "name": "stderr",
     "output_type": "stream",
     "text": [
      "100%|██████████| 4848/4848 [00:43<00:00, 112.12it/s]\n"
     ]
    },
    {
     "name": "stdout",
     "output_type": "stream",
     "text": [
      "225158<>50902 pair\n"
     ]
    },
    {
     "name": "stderr",
     "output_type": "stream",
     "text": [
      "100%|██████████| 4848/4848 [02:17<00:00, 35.17it/s]\n"
     ]
    },
    {
     "name": "stdout",
     "output_type": "stream",
     "text": [
      "225158<>50821 pair\n"
     ]
    },
    {
     "name": "stderr",
     "output_type": "stream",
     "text": [
      "100%|██████████| 4848/4848 [00:44<00:00, 108.03it/s]\n"
     ]
    },
    {
     "name": "stdout",
     "output_type": "stream",
     "text": [
      "225158<>51222 pair\n"
     ]
    },
    {
     "name": "stderr",
     "output_type": "stream",
     "text": [
      "100%|██████████| 4848/4848 [02:16<00:00, 35.58it/s]\n"
     ]
    },
    {
     "name": "stdout",
     "output_type": "stream",
     "text": [
      "225158<>50823 pair\n"
     ]
    },
    {
     "name": "stderr",
     "output_type": "stream",
     "text": [
      "100%|██████████| 4848/4848 [00:04<00:00, 1163.89it/s]\n"
     ]
    },
    {
     "name": "stdout",
     "output_type": "stream",
     "text": [
      "225158<>51221 pair\n"
     ]
    },
    {
     "name": "stderr",
     "output_type": "stream",
     "text": [
      "100%|██████████| 4848/4848 [02:15<00:00, 35.84it/s]\n"
     ]
    },
    {
     "name": "stdout",
     "output_type": "stream",
     "text": [
      "225158<>50801 pair\n"
     ]
    },
    {
     "name": "stderr",
     "output_type": "stream",
     "text": [
      "100%|██████████| 4848/4848 [00:04<00:00, 1150.29it/s]\n"
     ]
    },
    {
     "name": "stdout",
     "output_type": "stream",
     "text": [
      "225158<>51006 pair\n"
     ]
    },
    {
     "name": "stderr",
     "output_type": "stream",
     "text": [
      "100%|██████████| 4848/4848 [02:20<00:00, 34.50it/s]\n"
     ]
    },
    {
     "name": "stdout",
     "output_type": "stream",
     "text": [
      "225158<>50826 pair\n"
     ]
    },
    {
     "name": "stderr",
     "output_type": "stream",
     "text": [
      "100%|██████████| 4848/4848 [00:08<00:00, 576.65it/s]\n"
     ]
    },
    {
     "name": "stdout",
     "output_type": "stream",
     "text": [
      "225158<>50983 pair\n"
     ]
    },
    {
     "name": "stderr",
     "output_type": "stream",
     "text": [
      "100%|██████████| 4848/4848 [02:24<00:00, 33.51it/s]\n"
     ]
    },
    {
     "name": "stdout",
     "output_type": "stream",
     "text": [
      "225158<>50819 pair\n"
     ]
    },
    {
     "name": "stderr",
     "output_type": "stream",
     "text": [
      "100%|██████████| 4848/4848 [00:07<00:00, 653.24it/s] \n"
     ]
    },
    {
     "name": "stdout",
     "output_type": "stream",
     "text": [
      "225158<>50816 pair\n"
     ]
    },
    {
     "name": "stderr",
     "output_type": "stream",
     "text": [
      "100%|██████████| 4848/4848 [00:13<00:00, 359.21it/s]\n"
     ]
    },
    {
     "name": "stdout",
     "output_type": "stream",
     "text": [
      "225158<>50971 pair\n"
     ]
    },
    {
     "name": "stderr",
     "output_type": "stream",
     "text": [
      "100%|██████████| 4848/4848 [02:34<00:00, 31.36it/s]\n"
     ]
    },
    {
     "name": "stdout",
     "output_type": "stream",
     "text": [
      "225158<>50970 pair\n"
     ]
    },
    {
     "name": "stderr",
     "output_type": "stream",
     "text": [
      "100%|██████████| 4848/4848 [02:12<00:00, 36.53it/s]\n"
     ]
    },
    {
     "name": "stdout",
     "output_type": "stream",
     "text": [
      "225158<>50960 pair\n"
     ]
    },
    {
     "name": "stderr",
     "output_type": "stream",
     "text": [
      "100%|██████████| 4848/4848 [02:25<00:00, 33.43it/s]\n"
     ]
    },
    {
     "name": "stdout",
     "output_type": "stream",
     "text": [
      "225158<>50931 pair\n"
     ]
    },
    {
     "name": "stderr",
     "output_type": "stream",
     "text": [
      "100%|██████████| 4848/4848 [02:30<00:00, 32.18it/s]\n"
     ]
    },
    {
     "name": "stdout",
     "output_type": "stream",
     "text": [
      "225158<>50912 pair\n"
     ]
    },
    {
     "name": "stderr",
     "output_type": "stream",
     "text": [
      "100%|██████████| 4848/4848 [02:33<00:00, 31.64it/s]\n"
     ]
    },
    {
     "name": "stdout",
     "output_type": "stream",
     "text": [
      "225158<>51248 pair\n"
     ]
    },
    {
     "name": "stderr",
     "output_type": "stream",
     "text": [
      "100%|██████████| 4848/4848 [02:29<00:00, 32.33it/s]\n"
     ]
    },
    {
     "name": "stdout",
     "output_type": "stream",
     "text": [
      "225158<>50810 pair\n"
     ]
    },
    {
     "name": "stderr",
     "output_type": "stream",
     "text": [
      "100%|██████████| 4848/4848 [00:22<00:00, 216.94it/s]\n"
     ]
    },
    {
     "name": "stdout",
     "output_type": "stream",
     "text": [
      "225158<>50809 pair\n"
     ]
    },
    {
     "name": "stderr",
     "output_type": "stream",
     "text": [
      "100%|██████████| 4848/4848 [00:23<00:00, 202.73it/s]\n"
     ]
    },
    {
     "name": "stdout",
     "output_type": "stream",
     "text": [
      "225158<>51143 pair\n"
     ]
    },
    {
     "name": "stderr",
     "output_type": "stream",
     "text": [
      "100%|██████████| 4848/4848 [00:16<00:00, 297.25it/s]\n"
     ]
    },
    {
     "name": "stdout",
     "output_type": "stream",
     "text": [
      "225158<>50956 pair\n"
     ]
    },
    {
     "name": "stderr",
     "output_type": "stream",
     "text": [
      "100%|██████████| 4848/4848 [00:27<00:00, 177.33it/s]\n"
     ]
    },
    {
     "name": "stdout",
     "output_type": "stream",
     "text": [
      "225158<>50862 pair\n"
     ]
    },
    {
     "name": "stderr",
     "output_type": "stream",
     "text": [
      "100%|██████████| 4848/4848 [01:13<00:00, 65.86it/s] \n"
     ]
    },
    {
     "name": "stdout",
     "output_type": "stream",
     "text": [
      "225158<>50885 pair\n"
     ]
    },
    {
     "name": "stderr",
     "output_type": "stream",
     "text": [
      "100%|██████████| 4848/4848 [01:23<00:00, 58.00it/s] \n"
     ]
    },
    {
     "name": "stdout",
     "output_type": "stream",
     "text": [
      "225158<>50863 pair\n"
     ]
    },
    {
     "name": "stderr",
     "output_type": "stream",
     "text": [
      "100%|██████████| 4848/4848 [01:25<00:00, 56.67it/s] \n"
     ]
    },
    {
     "name": "stdout",
     "output_type": "stream",
     "text": [
      "225158<>51498 pair\n"
     ]
    },
    {
     "name": "stderr",
     "output_type": "stream",
     "text": [
      "100%|██████████| 4848/4848 [01:25<00:00, 56.71it/s] \n"
     ]
    },
    {
     "name": "stdout",
     "output_type": "stream",
     "text": [
      "225158<>51491 pair\n"
     ]
    },
    {
     "name": "stderr",
     "output_type": "stream",
     "text": [
      "100%|██████████| 4848/4848 [01:27<00:00, 55.59it/s] \n"
     ]
    },
    {
     "name": "stdout",
     "output_type": "stream",
     "text": [
      "225158<>50911 pair\n"
     ]
    },
    {
     "name": "stderr",
     "output_type": "stream",
     "text": [
      "100%|██████████| 4848/4848 [00:44<00:00, 108.16it/s]\n"
     ]
    },
    {
     "name": "stdout",
     "output_type": "stream",
     "text": [
      "225158<>51301 pair\n"
     ]
    },
    {
     "name": "stderr",
     "output_type": "stream",
     "text": [
      "100%|██████████| 4848/4848 [49:37<00:00,  1.63it/s]   \n"
     ]
    },
    {
     "name": "stdout",
     "output_type": "stream",
     "text": [
      "225158<>50981 pair\n"
     ]
    },
    {
     "name": "stderr",
     "output_type": "stream",
     "text": [
      "100%|██████████| 4848/4848 [00:00<00:00, 28695.43it/s]\n"
     ]
    },
    {
     "name": "stdout",
     "output_type": "stream",
     "text": [
      "225158<>50811 pair\n"
     ]
    },
    {
     "name": "stderr",
     "output_type": "stream",
     "text": [
      "100%|██████████| 4848/4848 [17:10<00:00,  4.71it/s]  \n"
     ]
    },
    {
     "name": "stdout",
     "output_type": "stream",
     "text": [
      "225158<>51144 pair\n"
     ]
    },
    {
     "name": "stderr",
     "output_type": "stream",
     "text": [
      "100%|██████████| 4848/4848 [00:18<00:00, 267.26it/s]\n"
     ]
    },
    {
     "name": "stdout",
     "output_type": "stream",
     "text": [
      "225158<>51255 pair\n"
     ]
    },
    {
     "name": "stderr",
     "output_type": "stream",
     "text": [
      "100%|██████████| 4848/4848 [00:15<00:00, 307.96it/s]\n"
     ]
    },
    {
     "name": "stdout",
     "output_type": "stream",
     "text": [
      "225158<>50822 pair\n"
     ]
    },
    {
     "name": "stderr",
     "output_type": "stream",
     "text": [
      "100%|██████████| 4848/4848 [15:30<00:00,  5.21it/s]   \n"
     ]
    },
    {
     "name": "stdout",
     "output_type": "stream",
     "text": [
      "225158<>51249 pair\n"
     ]
    },
    {
     "name": "stderr",
     "output_type": "stream",
     "text": [
      "100%|██████████| 4848/4848 [50:47<00:00,  1.59it/s]   \n"
     ]
    },
    {
     "name": "stdout",
     "output_type": "stream",
     "text": [
      "225158<>51250 pair\n"
     ]
    },
    {
     "name": "stderr",
     "output_type": "stream",
     "text": [
      "100%|██████████| 4848/4848 [49:57<00:00,  1.62it/s]   \n"
     ]
    },
    {
     "name": "stdout",
     "output_type": "stream",
     "text": [
      "225158<>51265 pair\n"
     ]
    },
    {
     "name": "stderr",
     "output_type": "stream",
     "text": [
      "100%|██████████| 4848/4848 [34:47<00:00,  2.32it/s]   \n"
     ]
    },
    {
     "name": "stdout",
     "output_type": "stream",
     "text": [
      "225158<>51277 pair\n"
     ]
    },
    {
     "name": "stderr",
     "output_type": "stream",
     "text": [
      "100%|██████████| 4848/4848 [50:39<00:00,  1.59it/s]   \n"
     ]
    },
    {
     "name": "stdout",
     "output_type": "stream",
     "text": [
      "225158<>51279 pair\n"
     ]
    },
    {
     "name": "stderr",
     "output_type": "stream",
     "text": [
      "100%|██████████| 4848/4848 [34:43<00:00,  2.33it/s]   \n"
     ]
    },
    {
     "name": "stdout",
     "output_type": "stream",
     "text": [
      "225158<>50954 pair\n"
     ]
    },
    {
     "name": "stderr",
     "output_type": "stream",
     "text": [
      "100%|██████████| 4848/4848 [33:47<00:00,  2.39it/s]  \n"
     ]
    },
    {
     "name": "stdout",
     "output_type": "stream",
     "text": [
      "225158<>51251 pair\n"
     ]
    },
    {
     "name": "stderr",
     "output_type": "stream",
     "text": [
      "100%|██████████| 4848/4848 [00:15<00:00, 311.64it/s]\n"
     ]
    },
    {
     "name": "stdout",
     "output_type": "stream",
     "text": [
      "225158<>50808 pair\n"
     ]
    },
    {
     "name": "stderr",
     "output_type": "stream",
     "text": [
      "100%|██████████| 4848/4848 [00:27<00:00, 179.34it/s]\n"
     ]
    },
    {
     "name": "stdout",
     "output_type": "stream",
     "text": [
      "225158<>50910 pair\n"
     ]
    },
    {
     "name": "stderr",
     "output_type": "stream",
     "text": [
      "100%|██████████| 4848/4848 [17:08<00:00,  4.71it/s]  \n"
     ]
    },
    {
     "name": "stdout",
     "output_type": "stream",
     "text": [
      "225158<>51146 pair\n"
     ]
    },
    {
     "name": "stderr",
     "output_type": "stream",
     "text": [
      "100%|██████████| 4848/4848 [17:52<00:00,  4.52it/s]   \n"
     ]
    },
    {
     "name": "stdout",
     "output_type": "stream",
     "text": [
      "225158<>51256 pair\n"
     ]
    },
    {
     "name": "stderr",
     "output_type": "stream",
     "text": [
      "100%|██████████| 4848/4848 [14:39<00:00,  5.51it/s]  \n"
     ]
    },
    {
     "name": "stdout",
     "output_type": "stream",
     "text": [
      "225158<>51254 pair\n"
     ]
    },
    {
     "name": "stderr",
     "output_type": "stream",
     "text": [
      "100%|██████████| 4848/4848 [00:51<00:00, 94.75it/s] \n"
     ]
    },
    {
     "name": "stdout",
     "output_type": "stream",
     "text": [
      "225158<>51244 pair\n"
     ]
    },
    {
     "name": "stderr",
     "output_type": "stream",
     "text": [
      "100%|██████████| 4848/4848 [00:51<00:00, 94.89it/s] \n"
     ]
    },
    {
     "name": "stdout",
     "output_type": "stream",
     "text": [
      "225158<>51516 pair\n"
     ]
    },
    {
     "name": "stderr",
     "output_type": "stream",
     "text": [
      "100%|██████████| 4848/4848 [00:37<00:00, 130.11it/s]\n"
     ]
    },
    {
     "name": "stdout",
     "output_type": "stream",
     "text": [
      "225158<>51200 pair\n"
     ]
    },
    {
     "name": "stderr",
     "output_type": "stream",
     "text": [
      "100%|██████████| 4848/4848 [00:51<00:00, 94.62it/s] \n"
     ]
    },
    {
     "name": "stdout",
     "output_type": "stream",
     "text": [
      "225158<>50825 pair\n"
     ]
    },
    {
     "name": "stderr",
     "output_type": "stream",
     "text": [
      "100%|██████████| 4848/4848 [00:12<00:00, 397.05it/s]\n"
     ]
    },
    {
     "name": "stdout",
     "output_type": "stream",
     "text": [
      "225158<>51059 pair\n"
     ]
    },
    {
     "name": "stderr",
     "output_type": "stream",
     "text": [
      "100%|██████████| 4848/4848 [00:02<00:00, 1813.95it/s] \n"
     ]
    },
    {
     "name": "stdout",
     "output_type": "stream",
     "text": [
      "225158<>51054 pair\n"
     ]
    },
    {
     "name": "stderr",
     "output_type": "stream",
     "text": [
      "100%|██████████| 4848/4848 [00:02<00:00, 1807.37it/s] \n"
     ]
    },
    {
     "name": "stdout",
     "output_type": "stream",
     "text": [
      "225158<>51053 pair\n"
     ]
    },
    {
     "name": "stderr",
     "output_type": "stream",
     "text": [
      "100%|██████████| 4848/4848 [00:02<00:00, 1961.08it/s] \n"
     ]
    },
    {
     "name": "stdout",
     "output_type": "stream",
     "text": [
      "225158<>51046 pair\n"
     ]
    },
    {
     "name": "stderr",
     "output_type": "stream",
     "text": [
      "100%|██████████| 4848/4848 [00:01<00:00, 4409.75it/s] \n"
     ]
    },
    {
     "name": "stdout",
     "output_type": "stream",
     "text": [
      "225158<>50806 pair\n"
     ]
    },
    {
     "name": "stderr",
     "output_type": "stream",
     "text": [
      "100%|██████████| 4848/4848 [00:19<00:00, 242.53it/s]\n"
     ]
    },
    {
     "name": "stdout",
     "output_type": "stream",
     "text": [
      "225158<>50824 pair\n"
     ]
    },
    {
     "name": "stderr",
     "output_type": "stream",
     "text": [
      "100%|██████████| 4848/4848 [00:20<00:00, 232.76it/s]\n"
     ]
    },
    {
     "name": "stdout",
     "output_type": "stream",
     "text": [
      "225158<>50878 pair\n"
     ]
    },
    {
     "name": "stderr",
     "output_type": "stream",
     "text": [
      "100%|██████████| 4848/4848 [01:21<00:00, 59.81it/s] \n"
     ]
    },
    {
     "name": "stdout",
     "output_type": "stream",
     "text": [
      "225158<>50861 pair\n"
     ]
    },
    {
     "name": "stderr",
     "output_type": "stream",
     "text": [
      "100%|██████████| 4848/4848 [01:20<00:00, 59.96it/s] \n"
     ]
    },
    {
     "name": "stdout",
     "output_type": "stream",
     "text": [
      "225158<>50993 pair\n"
     ]
    },
    {
     "name": "stderr",
     "output_type": "stream",
     "text": [
      "100%|██████████| 4848/4848 [00:17<00:00, 280.13it/s]\n"
     ]
    },
    {
     "name": "stdout",
     "output_type": "stream",
     "text": [
      "225158<>50994 pair\n"
     ]
    },
    {
     "name": "stderr",
     "output_type": "stream",
     "text": [
      "100%|██████████| 4848/4848 [00:02<00:00, 2155.84it/s] \n"
     ]
    },
    {
     "name": "stdout",
     "output_type": "stream",
     "text": [
      "225158<>50935 pair\n"
     ]
    },
    {
     "name": "stderr",
     "output_type": "stream",
     "text": [
      "100%|██████████| 4848/4848 [00:07<00:00, 667.81it/s] \n"
     ]
    },
    {
     "name": "stdout",
     "output_type": "stream",
     "text": [
      "225158<>51010 pair\n"
     ]
    },
    {
     "name": "stderr",
     "output_type": "stream",
     "text": [
      "100%|██████████| 4848/4848 [00:09<00:00, 495.23it/s] \n"
     ]
    },
    {
     "name": "stdout",
     "output_type": "stream",
     "text": [
      "225158<>50815 pair\n"
     ]
    },
    {
     "name": "stderr",
     "output_type": "stream",
     "text": [
      "100%|██████████| 4848/4848 [00:04<00:00, 1210.54it/s]\n"
     ]
    },
    {
     "name": "stdout",
     "output_type": "stream",
     "text": [
      "225158<>50817 pair\n"
     ]
    },
    {
     "name": "stderr",
     "output_type": "stream",
     "text": [
      "100%|██████████| 4848/4848 [00:15<00:00, 311.13it/s]\n"
     ]
    },
    {
     "name": "stdout",
     "output_type": "stream",
     "text": [
      "225158<>50998 pair\n"
     ]
    },
    {
     "name": "stderr",
     "output_type": "stream",
     "text": [
      "100%|██████████| 4848/4848 [00:13<00:00, 354.07it/s] \n"
     ]
    },
    {
     "name": "stdout",
     "output_type": "stream",
     "text": [
      "225158<>50952 pair\n"
     ]
    },
    {
     "name": "stderr",
     "output_type": "stream",
     "text": [
      "100%|██████████| 4848/4848 [00:14<00:00, 336.91it/s]\n"
     ]
    },
    {
     "name": "stdout",
     "output_type": "stream",
     "text": [
      "225158<>51288 pair\n"
     ]
    },
    {
     "name": "stderr",
     "output_type": "stream",
     "text": [
      "100%|██████████| 4848/4848 [00:07<00:00, 657.07it/s] \n"
     ]
    },
    {
     "name": "stdout",
     "output_type": "stream",
     "text": [
      "225158<>51003 pair\n"
     ]
    },
    {
     "name": "stderr",
     "output_type": "stream",
     "text": [
      "100%|██████████| 4848/4848 [00:37<00:00, 129.22it/s]\n"
     ]
    },
    {
     "name": "stdout",
     "output_type": "stream",
     "text": [
      "225158<>50889 pair\n"
     ]
    },
    {
     "name": "stderr",
     "output_type": "stream",
     "text": [
      "100%|██████████| 4848/4848 [00:06<00:00, 707.33it/s] \n"
     ]
    },
    {
     "name": "stdout",
     "output_type": "stream",
     "text": [
      "225158<>50867 pair\n"
     ]
    },
    {
     "name": "stderr",
     "output_type": "stream",
     "text": [
      "100%|██████████| 4848/4848 [00:27<00:00, 173.68it/s]\n"
     ]
    },
    {
     "name": "stdout",
     "output_type": "stream",
     "text": [
      "225158<>51493 pair\n"
     ]
    },
    {
     "name": "stderr",
     "output_type": "stream",
     "text": [
      "100%|██████████| 4848/4848 [00:35<00:00, 136.54it/s]\n"
     ]
    },
    {
     "name": "stdout",
     "output_type": "stream",
     "text": [
      "225158<>51482 pair\n"
     ]
    },
    {
     "name": "stderr",
     "output_type": "stream",
     "text": [
      "100%|██████████| 4848/4848 [00:14<00:00, 325.60it/s]\n"
     ]
    },
    {
     "name": "stdout",
     "output_type": "stream",
     "text": [
      "225158<>51476 pair\n"
     ]
    },
    {
     "name": "stderr",
     "output_type": "stream",
     "text": [
      "100%|██████████| 4848/4848 [00:36<00:00, 134.34it/s]\n"
     ]
    },
    {
     "name": "stdout",
     "output_type": "stream",
     "text": [
      "225158<>50963 pair\n"
     ]
    },
    {
     "name": "stderr",
     "output_type": "stream",
     "text": [
      "100%|██████████| 4848/4848 [00:06<00:00, 756.71it/s] \n"
     ]
    },
    {
     "name": "stdout",
     "output_type": "stream",
     "text": [
      "225158<>50883 pair\n"
     ]
    },
    {
     "name": "stderr",
     "output_type": "stream",
     "text": [
      "100%|██████████| 4848/4848 [00:09<00:00, 536.70it/s] \n"
     ]
    },
    {
     "name": "stdout",
     "output_type": "stream",
     "text": [
      "225158<>50884 pair\n"
     ]
    },
    {
     "name": "stderr",
     "output_type": "stream",
     "text": [
      "100%|██████████| 4848/4848 [00:08<00:00, 570.34it/s] \n"
     ]
    },
    {
     "name": "stdout",
     "output_type": "stream",
     "text": [
      "225158<>51283 pair\n"
     ]
    },
    {
     "name": "stderr",
     "output_type": "stream",
     "text": [
      "100%|██████████| 4848/4848 [00:06<00:00, 707.76it/s] \n"
     ]
    },
    {
     "name": "stdout",
     "output_type": "stream",
     "text": [
      "225158<>50924 pair\n"
     ]
    },
    {
     "name": "stderr",
     "output_type": "stream",
     "text": [
      "100%|██████████| 4848/4848 [00:12<00:00, 381.06it/s] \n"
     ]
    },
    {
     "name": "stdout",
     "output_type": "stream",
     "text": [
      "225158<>50953 pair\n"
     ]
    },
    {
     "name": "stderr",
     "output_type": "stream",
     "text": [
      "100%|██████████| 4848/4848 [00:12<00:00, 376.14it/s] \n"
     ]
    },
    {
     "name": "stdout",
     "output_type": "stream",
     "text": [
      "225158<>51007 pair\n"
     ]
    },
    {
     "name": "stderr",
     "output_type": "stream",
     "text": [
      "100%|██████████| 4848/4848 [00:05<00:00, 840.96it/s] \n"
     ]
    },
    {
     "name": "stdout",
     "output_type": "stream",
     "text": [
      "225158<>50852 pair\n"
     ]
    },
    {
     "name": "stderr",
     "output_type": "stream",
     "text": [
      "100%|██████████| 4848/4848 [00:32<00:00, 149.27it/s]\n"
     ]
    },
    {
     "name": "stdout",
     "output_type": "stream",
     "text": [
      "225158<>51478 pair\n"
     ]
    },
    {
     "name": "stderr",
     "output_type": "stream",
     "text": [
      "100%|██████████| 4848/4848 [00:07<00:00, 635.36it/s] \n"
     ]
    },
    {
     "name": "stdout",
     "output_type": "stream",
     "text": [
      "225158<>51514 pair\n"
     ]
    },
    {
     "name": "stderr",
     "output_type": "stream",
     "text": [
      "100%|██████████| 4848/4848 [00:16<00:00, 298.33it/s]\n"
     ]
    },
    {
     "name": "stdout",
     "output_type": "stream",
     "text": [
      "225158<>50967 pair\n"
     ]
    },
    {
     "name": "stderr",
     "output_type": "stream",
     "text": [
      "100%|██████████| 4848/4848 [00:02<00:00, 1662.34it/s]\n"
     ]
    },
    {
     "name": "stdout",
     "output_type": "stream",
     "text": [
      "225158<>50803 pair\n"
     ]
    },
    {
     "name": "stderr",
     "output_type": "stream",
     "text": [
      "100%|██████████| 4848/4848 [00:02<00:00, 1746.28it/s]\n"
     ]
    },
    {
     "name": "stdout",
     "output_type": "stream",
     "text": [
      "225158<>50964 pair\n"
     ]
    },
    {
     "name": "stderr",
     "output_type": "stream",
     "text": [
      "100%|██████████| 4848/4848 [00:05<00:00, 896.24it/s] \n"
     ]
    },
    {
     "name": "stdout",
     "output_type": "stream",
     "text": [
      "225158<>51214 pair\n"
     ]
    },
    {
     "name": "stderr",
     "output_type": "stream",
     "text": [
      "100%|██████████| 4848/4848 [00:12<00:00, 402.55it/s]\n"
     ]
    },
    {
     "name": "stdout",
     "output_type": "stream",
     "text": [
      "225158<>51497 pair\n"
     ]
    },
    {
     "name": "stderr",
     "output_type": "stream",
     "text": [
      "100%|██████████| 4848/4848 [00:00<00:00, 17900.60it/s]\n"
     ]
    },
    {
     "name": "stdout",
     "output_type": "stream",
     "text": [
      "225158<>51501 pair\n"
     ]
    },
    {
     "name": "stderr",
     "output_type": "stream",
     "text": [
      "100%|██████████| 4848/4848 [00:02<00:00, 2414.42it/s]\n"
     ]
    },
    {
     "name": "stdout",
     "output_type": "stream",
     "text": [
      "225158<>51492 pair\n"
     ]
    },
    {
     "name": "stderr",
     "output_type": "stream",
     "text": [
      "100%|██████████| 4848/4848 [00:24<00:00, 199.85it/s]\n"
     ]
    },
    {
     "name": "stdout",
     "output_type": "stream",
     "text": [
      "225158<>51484 pair\n"
     ]
    },
    {
     "name": "stderr",
     "output_type": "stream",
     "text": [
      "100%|██████████| 4848/4848 [00:09<00:00, 534.63it/s] \n"
     ]
    },
    {
     "name": "stdout",
     "output_type": "stream",
     "text": [
      "225158<>50908 pair\n"
     ]
    },
    {
     "name": "stderr",
     "output_type": "stream",
     "text": [
      "100%|██████████| 4848/4848 [00:09<00:00, 511.43it/s]\n"
     ]
    },
    {
     "name": "stdout",
     "output_type": "stream",
     "text": [
      "225158<>50805 pair\n"
     ]
    },
    {
     "name": "stderr",
     "output_type": "stream",
     "text": [
      "100%|██████████| 4848/4848 [00:00<00:00, 5025.21it/s]\n"
     ]
    },
    {
     "name": "stdout",
     "output_type": "stream",
     "text": [
      "225158<>50814 pair\n"
     ]
    },
    {
     "name": "stderr",
     "output_type": "stream",
     "text": [
      "100%|██████████| 4848/4848 [00:00<00:00, 5014.23it/s]\n"
     ]
    },
    {
     "name": "stdout",
     "output_type": "stream",
     "text": [
      "225158<>50915 pair\n"
     ]
    },
    {
     "name": "stderr",
     "output_type": "stream",
     "text": [
      "100%|██████████| 4848/4848 [00:01<00:00, 3364.67it/s] \n"
     ]
    },
    {
     "name": "stdout",
     "output_type": "stream",
     "text": [
      "225158<>51078 pair\n"
     ]
    },
    {
     "name": "stderr",
     "output_type": "stream",
     "text": [
      "100%|██████████| 4848/4848 [00:11<00:00, 427.83it/s] \n"
     ]
    },
    {
     "name": "stdout",
     "output_type": "stream",
     "text": [
      "225158<>51093 pair\n"
     ]
    },
    {
     "name": "stderr",
     "output_type": "stream",
     "text": [
      "100%|██████████| 4848/4848 [00:14<00:00, 325.14it/s]\n"
     ]
    },
    {
     "name": "stdout",
     "output_type": "stream",
     "text": [
      "225158<>51100 pair\n"
     ]
    },
    {
     "name": "stderr",
     "output_type": "stream",
     "text": [
      "100%|██████████| 4848/4848 [00:17<00:00, 280.27it/s]\n"
     ]
    },
    {
     "name": "stdout",
     "output_type": "stream",
     "text": [
      "225158<>51097 pair\n"
     ]
    },
    {
     "name": "stderr",
     "output_type": "stream",
     "text": [
      "100%|██████████| 4848/4848 [00:12<00:00, 385.61it/s] \n"
     ]
    },
    {
     "name": "stdout",
     "output_type": "stream",
     "text": [
      "225158<>51104 pair\n"
     ]
    },
    {
     "name": "stderr",
     "output_type": "stream",
     "text": [
      "100%|██████████| 4848/4848 [00:13<00:00, 353.34it/s]\n"
     ]
    },
    {
     "name": "stdout",
     "output_type": "stream",
     "text": [
      "225158<>51082 pair\n"
     ]
    },
    {
     "name": "stderr",
     "output_type": "stream",
     "text": [
      "100%|██████████| 4848/4848 [00:21<00:00, 227.34it/s]\n"
     ]
    },
    {
     "name": "stdout",
     "output_type": "stream",
     "text": [
      "225158<>50925 pair\n"
     ]
    },
    {
     "name": "stderr",
     "output_type": "stream",
     "text": [
      "100%|██████████| 4848/4848 [00:05<00:00, 918.96it/s] \n"
     ]
    },
    {
     "name": "stdout",
     "output_type": "stream",
     "text": [
      "225158<>50905 pair\n"
     ]
    },
    {
     "name": "stderr",
     "output_type": "stream",
     "text": [
      "100%|██████████| 4848/4848 [00:11<00:00, 410.25it/s]\n"
     ]
    },
    {
     "name": "stdout",
     "output_type": "stream",
     "text": [
      "225158<>50903 pair\n"
     ]
    },
    {
     "name": "stderr",
     "output_type": "stream",
     "text": [
      "100%|██████████| 4848/4848 [00:12<00:00, 396.77it/s]\n"
     ]
    },
    {
     "name": "stdout",
     "output_type": "stream",
     "text": [
      "225158<>50904 pair\n"
     ]
    },
    {
     "name": "stderr",
     "output_type": "stream",
     "text": [
      "100%|██████████| 4848/4848 [00:12<00:00, 391.35it/s]\n"
     ]
    },
    {
     "name": "stdout",
     "output_type": "stream",
     "text": [
      "225158<>50907 pair\n"
     ]
    },
    {
     "name": "stderr",
     "output_type": "stream",
     "text": [
      "100%|██████████| 4848/4848 [00:13<00:00, 360.53it/s] \n"
     ]
    },
    {
     "name": "stdout",
     "output_type": "stream",
     "text": [
      "225158<>51000 pair\n"
     ]
    },
    {
     "name": "stderr",
     "output_type": "stream",
     "text": [
      "100%|██████████| 4848/4848 [00:16<00:00, 288.65it/s]\n"
     ]
    },
    {
     "name": "stdout",
     "output_type": "stream",
     "text": [
      "225158<>50957 pair\n"
     ]
    },
    {
     "name": "stderr",
     "output_type": "stream",
     "text": [
      "100%|██████████| 4848/4848 [00:00<00:00, 11984.04it/s]\n"
     ]
    },
    {
     "name": "stdout",
     "output_type": "stream",
     "text": [
      "225158<>51008 pair\n"
     ]
    },
    {
     "name": "stderr",
     "output_type": "stream",
     "text": [
      "100%|██████████| 4848/4848 [00:00<00:00, 12943.46it/s]\n"
     ]
    },
    {
     "name": "stdout",
     "output_type": "stream",
     "text": [
      "225158<>50917 pair\n"
     ]
    },
    {
     "name": "stderr",
     "output_type": "stream",
     "text": [
      "100%|██████████| 4848/4848 [00:02<00:00, 1853.33it/s]\n"
     ]
    },
    {
     "name": "stdout",
     "output_type": "stream",
     "text": [
      "225158<>51009 pair\n"
     ]
    },
    {
     "name": "stderr",
     "output_type": "stream",
     "text": [
      "100%|██████████| 4848/4848 [00:10<00:00, 475.21it/s] \n"
     ]
    },
    {
     "name": "stdout",
     "output_type": "stream",
     "text": [
      "225158<>51479 pair\n"
     ]
    },
    {
     "name": "stderr",
     "output_type": "stream",
     "text": [
      "100%|██████████| 4848/4848 [00:03<00:00, 1325.18it/s]\n"
     ]
    },
    {
     "name": "stdout",
     "output_type": "stream",
     "text": [
      "225158<>51434 pair\n"
     ]
    },
    {
     "name": "stderr",
     "output_type": "stream",
     "text": [
      "100%|██████████| 4848/4848 [00:00<00:00, 8121.30it/s] \n"
     ]
    },
    {
     "name": "stdout",
     "output_type": "stream",
     "text": [
      "225158<>51436 pair\n"
     ]
    },
    {
     "name": "stderr",
     "output_type": "stream",
     "text": [
      "100%|██████████| 4848/4848 [00:01<00:00, 2875.71it/s]\n"
     ]
    },
    {
     "name": "stdout",
     "output_type": "stream",
     "text": [
      "225158<>51438 pair\n"
     ]
    },
    {
     "name": "stderr",
     "output_type": "stream",
     "text": [
      "100%|██████████| 4848/4848 [00:00<00:00, 4848.81it/s] \n"
     ]
    },
    {
     "name": "stdout",
     "output_type": "stream",
     "text": [
      "225158<>51439 pair\n"
     ]
    },
    {
     "name": "stderr",
     "output_type": "stream",
     "text": [
      "100%|██████████| 4848/4848 [00:01<00:00, 3709.94it/s]\n"
     ]
    },
    {
     "name": "stdout",
     "output_type": "stream",
     "text": [
      "225158<>51025 pair\n"
     ]
    },
    {
     "name": "stderr",
     "output_type": "stream",
     "text": [
      "100%|██████████| 4848/4848 [00:00<00:00, 8786.08it/s]\n"
     ]
    },
    {
     "name": "stdout",
     "output_type": "stream",
     "text": [
      "225158<>51431 pair\n"
     ]
    },
    {
     "name": "stderr",
     "output_type": "stream",
     "text": [
      "100%|██████████| 4848/4848 [00:01<00:00, 2738.10it/s]\n"
     ]
    },
    {
     "name": "stdout",
     "output_type": "stream",
     "text": [
      "225158<>51427 pair\n"
     ]
    },
    {
     "name": "stderr",
     "output_type": "stream",
     "text": [
      "100%|██████████| 4848/4848 [00:01<00:00, 2832.43it/s]\n"
     ]
    },
    {
     "name": "stdout",
     "output_type": "stream",
     "text": [
      "225158<>51034 pair\n"
     ]
    },
    {
     "name": "stderr",
     "output_type": "stream",
     "text": [
      "100%|██████████| 4848/4848 [00:00<00:00, 9505.14it/s] \n"
     ]
    },
    {
     "name": "stdout",
     "output_type": "stream",
     "text": [
      "225158<>51043 pair\n"
     ]
    },
    {
     "name": "stderr",
     "output_type": "stream",
     "text": [
      "100%|██████████| 4848/4848 [00:00<00:00, 8510.62it/s]\n"
     ]
    },
    {
     "name": "stdout",
     "output_type": "stream",
     "text": [
      "225158<>51035 pair\n"
     ]
    },
    {
     "name": "stderr",
     "output_type": "stream",
     "text": [
      "100%|██████████| 4848/4848 [00:00<00:00, 9780.37it/s] \n"
     ]
    },
    {
     "name": "stdout",
     "output_type": "stream",
     "text": [
      "225158<>50866 pair\n"
     ]
    },
    {
     "name": "stderr",
     "output_type": "stream",
     "text": [
      "100%|██████████| 4848/4848 [00:01<00:00, 3024.99it/s]\n"
     ]
    },
    {
     "name": "stdout",
     "output_type": "stream",
     "text": [
      "225158<>50922 pair\n"
     ]
    },
    {
     "name": "stderr",
     "output_type": "stream",
     "text": [
      "100%|██████████| 4848/4848 [00:00<00:00, 24198.89it/s]\n"
     ]
    },
    {
     "name": "stdout",
     "output_type": "stream",
     "text": [
      "225158<>51014 pair\n"
     ]
    },
    {
     "name": "stderr",
     "output_type": "stream",
     "text": [
      "100%|██████████| 4848/4848 [00:02<00:00, 2166.45it/s] \n"
     ]
    },
    {
     "name": "stdout",
     "output_type": "stream",
     "text": [
      "225158<>51018 pair\n"
     ]
    },
    {
     "name": "stderr",
     "output_type": "stream",
     "text": [
      "100%|██████████| 4848/4848 [00:02<00:00, 2026.40it/s] \n"
     ]
    },
    {
     "name": "stdout",
     "output_type": "stream",
     "text": [
      "225158<>51351 pair\n"
     ]
    },
    {
     "name": "stderr",
     "output_type": "stream",
     "text": [
      "100%|██████████| 4848/4848 [00:02<00:00, 1943.88it/s] \n"
     ]
    },
    {
     "name": "stdout",
     "output_type": "stream",
     "text": [
      "225158<>51355 pair\n"
     ]
    },
    {
     "name": "stderr",
     "output_type": "stream",
     "text": [
      "100%|██████████| 4848/4848 [00:02<00:00, 1948.60it/s] \n"
     ]
    },
    {
     "name": "stdout",
     "output_type": "stream",
     "text": [
      "225158<>51360 pair\n"
     ]
    },
    {
     "name": "stderr",
     "output_type": "stream",
     "text": [
      "100%|██████████| 4848/4848 [00:02<00:00, 1977.51it/s] \n"
     ]
    },
    {
     "name": "stdout",
     "output_type": "stream",
     "text": [
      "225158<>51362 pair\n"
     ]
    },
    {
     "name": "stderr",
     "output_type": "stream",
     "text": [
      "100%|██████████| 4848/4848 [00:02<00:00, 2004.11it/s] \n"
     ]
    },
    {
     "name": "stdout",
     "output_type": "stream",
     "text": [
      "225158<>51363 pair\n"
     ]
    },
    {
     "name": "stderr",
     "output_type": "stream",
     "text": [
      "100%|██████████| 4848/4848 [00:02<00:00, 2004.85it/s] \n"
     ]
    },
    {
     "name": "stdout",
     "output_type": "stream",
     "text": [
      "225158<>50856 pair\n"
     ]
    },
    {
     "name": "stderr",
     "output_type": "stream",
     "text": [
      "100%|██████████| 4848/4848 [00:00<00:00, 8946.50it/s] \n"
     ]
    },
    {
     "name": "stdout",
     "output_type": "stream",
     "text": [
      "225158<>50909 pair\n"
     ]
    },
    {
     "name": "stderr",
     "output_type": "stream",
     "text": [
      "100%|██████████| 4848/4848 [00:03<00:00, 1314.72it/s]\n"
     ]
    },
    {
     "name": "stdout",
     "output_type": "stream",
     "text": [
      "225158<>51102 pair\n"
     ]
    },
    {
     "name": "stderr",
     "output_type": "stream",
     "text": [
      "100%|██████████| 4848/4848 [00:05<00:00, 848.40it/s] \n"
     ]
    },
    {
     "name": "stdout",
     "output_type": "stream",
     "text": [
      "225158<>51105 pair\n"
     ]
    },
    {
     "name": "stderr",
     "output_type": "stream",
     "text": [
      "100%|██████████| 4848/4848 [00:00<00:00, 9872.62it/s] \n"
     ]
    },
    {
     "name": "stdout",
     "output_type": "stream",
     "text": [
      "225158<>51099 pair\n"
     ]
    },
    {
     "name": "stderr",
     "output_type": "stream",
     "text": [
      "100%|██████████| 4848/4848 [00:04<00:00, 1047.76it/s]\n"
     ]
    },
    {
     "name": "stdout",
     "output_type": "stream",
     "text": [
      "225158<>51457 pair\n"
     ]
    },
    {
     "name": "stderr",
     "output_type": "stream",
     "text": [
      "100%|██████████| 4848/4848 [00:02<00:00, 1949.04it/s] \n"
     ]
    },
    {
     "name": "stdout",
     "output_type": "stream",
     "text": [
      "225158<>51458 pair\n"
     ]
    },
    {
     "name": "stderr",
     "output_type": "stream",
     "text": [
      "100%|██████████| 4848/4848 [00:02<00:00, 1709.27it/s] \n"
     ]
    },
    {
     "name": "stdout",
     "output_type": "stream",
     "text": [
      "225158<>51448 pair\n"
     ]
    },
    {
     "name": "stderr",
     "output_type": "stream",
     "text": [
      "100%|██████████| 4848/4848 [00:01<00:00, 2999.32it/s] \n"
     ]
    },
    {
     "name": "stdout",
     "output_type": "stream",
     "text": [
      "225158<>51450 pair\n"
     ]
    },
    {
     "name": "stderr",
     "output_type": "stream",
     "text": [
      "100%|██████████| 4848/4848 [00:02<00:00, 1754.70it/s] \n"
     ]
    },
    {
     "name": "stdout",
     "output_type": "stream",
     "text": [
      "225158<>51455 pair\n"
     ]
    },
    {
     "name": "stderr",
     "output_type": "stream",
     "text": [
      "100%|██████████| 4848/4848 [00:02<00:00, 1764.23it/s] \n"
     ]
    },
    {
     "name": "stdout",
     "output_type": "stream",
     "text": [
      "225158<>51447 pair\n"
     ]
    },
    {
     "name": "stderr",
     "output_type": "stream",
     "text": [
      "100%|██████████| 4848/4848 [00:01<00:00, 2726.31it/s] \n"
     ]
    },
    {
     "name": "stdout",
     "output_type": "stream",
     "text": [
      "225158<>51453 pair\n"
     ]
    },
    {
     "name": "stderr",
     "output_type": "stream",
     "text": [
      "100%|██████████| 4848/4848 [00:00<00:00, 5505.77it/s] \n"
     ]
    },
    {
     "name": "stdout",
     "output_type": "stream",
     "text": [
      "225158<>51051 pair\n"
     ]
    },
    {
     "name": "stderr",
     "output_type": "stream",
     "text": [
      "100%|██████████| 4848/4848 [00:00<00:00, 6426.50it/s] \n"
     ]
    },
    {
     "name": "stdout",
     "output_type": "stream",
     "text": [
      "225158<>51302 pair\n"
     ]
    },
    {
     "name": "stderr",
     "output_type": "stream",
     "text": [
      "100%|██████████| 4848/4848 [00:00<00:00, 28968.76it/s]\n"
     ]
    },
    {
     "name": "stdout",
     "output_type": "stream",
     "text": [
      "225158<>51379 pair\n"
     ]
    },
    {
     "name": "stderr",
     "output_type": "stream",
     "text": [
      "100%|██████████| 4848/4848 [00:00<00:00, 6324.93it/s] \n"
     ]
    },
    {
     "name": "stdout",
     "output_type": "stream",
     "text": [
      "225158<>51369 pair\n"
     ]
    },
    {
     "name": "stderr",
     "output_type": "stream",
     "text": [
      "100%|██████████| 4848/4848 [00:00<00:00, 14866.60it/s]\n"
     ]
    },
    {
     "name": "stdout",
     "output_type": "stream",
     "text": [
      "225158<>51384 pair\n"
     ]
    },
    {
     "name": "stderr",
     "output_type": "stream",
     "text": [
      "100%|██████████| 4848/4848 [00:00<00:00, 6453.26it/s] \n"
     ]
    },
    {
     "name": "stdout",
     "output_type": "stream",
     "text": [
      "225158<>51382 pair\n"
     ]
    },
    {
     "name": "stderr",
     "output_type": "stream",
     "text": [
      "100%|██████████| 4848/4848 [00:00<00:00, 6321.35it/s] \n"
     ]
    },
    {
     "name": "stdout",
     "output_type": "stream",
     "text": [
      "225158<>51383 pair\n"
     ]
    },
    {
     "name": "stderr",
     "output_type": "stream",
     "text": [
      "100%|██████████| 4848/4848 [00:00<00:00, 8752.57it/s] \n"
     ]
    },
    {
     "name": "stdout",
     "output_type": "stream",
     "text": [
      "225158<>51375 pair\n"
     ]
    },
    {
     "name": "stderr",
     "output_type": "stream",
     "text": [
      "100%|██████████| 4848/4848 [00:00<00:00, 6487.12it/s] \n"
     ]
    },
    {
     "name": "stdout",
     "output_type": "stream",
     "text": [
      "225158<>51446 pair\n"
     ]
    },
    {
     "name": "stderr",
     "output_type": "stream",
     "text": [
      "100%|██████████| 4848/4848 [00:02<00:00, 1756.05it/s] \n"
     ]
    },
    {
     "name": "stdout",
     "output_type": "stream",
     "text": [
      "225158<>51428 pair\n"
     ]
    },
    {
     "name": "stderr",
     "output_type": "stream",
     "text": [
      "100%|██████████| 4848/4848 [00:01<00:00, 4370.80it/s] \n"
     ]
    },
    {
     "name": "stdout",
     "output_type": "stream",
     "text": [
      "225158<>51429 pair\n"
     ]
    },
    {
     "name": "stderr",
     "output_type": "stream",
     "text": [
      "100%|██████████| 4848/4848 [00:00<00:00, 9301.17it/s] \n"
     ]
    },
    {
     "name": "stdout",
     "output_type": "stream",
     "text": [
      "225158<>51026 pair\n"
     ]
    },
    {
     "name": "stderr",
     "output_type": "stream",
     "text": [
      "100%|██████████| 4848/4848 [00:00<00:00, 7303.66it/s] \n"
     ]
    },
    {
     "name": "stdout",
     "output_type": "stream",
     "text": [
      "225158<>50986 pair\n"
     ]
    },
    {
     "name": "stderr",
     "output_type": "stream",
     "text": [
      "100%|██████████| 4848/4848 [00:02<00:00, 2398.69it/s]\n"
     ]
    },
    {
     "name": "stdout",
     "output_type": "stream",
     "text": [
      "225158<>50951 pair\n"
     ]
    },
    {
     "name": "stderr",
     "output_type": "stream",
     "text": [
      "100%|██████████| 4848/4848 [00:03<00:00, 1412.77it/s]\n"
     ]
    },
    {
     "name": "stdout",
     "output_type": "stream",
     "text": [
      "225158<>50950 pair\n"
     ]
    },
    {
     "name": "stderr",
     "output_type": "stream",
     "text": [
      "100%|██████████| 4848/4848 [00:04<00:00, 1132.56it/s]\n"
     ]
    },
    {
     "name": "stdout",
     "output_type": "stream",
     "text": [
      "225158<>50949 pair\n"
     ]
    },
    {
     "name": "stderr",
     "output_type": "stream",
     "text": [
      "100%|██████████| 4848/4848 [00:03<00:00, 1332.90it/s]\n"
     ]
    },
    {
     "name": "stdout",
     "output_type": "stream",
     "text": [
      "225158<>50930 pair\n"
     ]
    },
    {
     "name": "stderr",
     "output_type": "stream",
     "text": [
      "100%|██████████| 4848/4848 [00:03<00:00, 1491.96it/s]\n"
     ]
    },
    {
     "name": "stdout",
     "output_type": "stream",
     "text": [
      "225158<>50976 pair\n"
     ]
    },
    {
     "name": "stderr",
     "output_type": "stream",
     "text": [
      "100%|██████████| 4848/4848 [00:06<00:00, 731.29it/s] \n"
     ]
    },
    {
     "name": "stdout",
     "output_type": "stream",
     "text": [
      "225158<>51257 pair\n"
     ]
    },
    {
     "name": "stderr",
     "output_type": "stream",
     "text": [
      "100%|██████████| 4848/4848 [00:04<00:00, 1069.03it/s]\n"
     ]
    },
    {
     "name": "stdout",
     "output_type": "stream",
     "text": [
      "225158<>50995 pair\n"
     ]
    },
    {
     "name": "stderr",
     "output_type": "stream",
     "text": [
      "100%|██████████| 4848/4848 [00:03<00:00, 1489.33it/s]\n"
     ]
    },
    {
     "name": "stdout",
     "output_type": "stream",
     "text": [
      "225158<>51463 pair\n"
     ]
    },
    {
     "name": "stderr",
     "output_type": "stream",
     "text": [
      "100%|██████████| 4848/4848 [00:00<00:00, 9361.40it/s] \n"
     ]
    },
    {
     "name": "stdout",
     "output_type": "stream",
     "text": [
      "225158<>51422 pair\n"
     ]
    },
    {
     "name": "stderr",
     "output_type": "stream",
     "text": [
      "100%|██████████| 4848/4848 [00:00<00:00, 12323.05it/s]\n"
     ]
    },
    {
     "name": "stdout",
     "output_type": "stream",
     "text": [
      "225158<>51419 pair\n"
     ]
    },
    {
     "name": "stderr",
     "output_type": "stream",
     "text": [
      "100%|██████████| 4848/4848 [00:00<00:00, 11460.12it/s]\n"
     ]
    },
    {
     "name": "stdout",
     "output_type": "stream",
     "text": [
      "225158<>51445 pair\n"
     ]
    },
    {
     "name": "stderr",
     "output_type": "stream",
     "text": [
      "100%|██████████| 4848/4848 [00:00<00:00, 14888.31it/s]\n"
     ]
    },
    {
     "name": "stdout",
     "output_type": "stream",
     "text": [
      "225158<>51444 pair\n"
     ]
    },
    {
     "name": "stderr",
     "output_type": "stream",
     "text": [
      "100%|██████████| 4848/4848 [00:00<00:00, 4868.37it/s] \n"
     ]
    },
    {
     "name": "stdout",
     "output_type": "stream",
     "text": [
      "225158<>51259 pair\n"
     ]
    },
    {
     "name": "stderr",
     "output_type": "stream",
     "text": [
      "100%|██████████| 4848/4848 [00:02<00:00, 2226.42it/s]\n"
     ]
    },
    {
     "name": "stdout",
     "output_type": "stream",
     "text": [
      "225158<>51148 pair\n"
     ]
    },
    {
     "name": "stderr",
     "output_type": "stream",
     "text": [
      "100%|██████████| 4848/4848 [00:01<00:00, 2858.98it/s] \n"
     ]
    },
    {
     "name": "stdout",
     "output_type": "stream",
     "text": [
      "225158<>50906 pair\n"
     ]
    },
    {
     "name": "stderr",
     "output_type": "stream",
     "text": [
      "100%|██████████| 4848/4848 [00:01<00:00, 3640.76it/s]\n"
     ]
    },
    {
     "name": "stdout",
     "output_type": "stream",
     "text": [
      "225158<>51344 pair\n"
     ]
    },
    {
     "name": "stderr",
     "output_type": "stream",
     "text": [
      "100%|██████████| 4848/4848 [00:00<00:00, 21168.09it/s]\n"
     ]
    },
    {
     "name": "stdout",
     "output_type": "stream",
     "text": [
      "225158<>50831 pair\n"
     ]
    },
    {
     "name": "stderr",
     "output_type": "stream",
     "text": [
      "100%|██████████| 4848/4848 [00:01<00:00, 3277.68it/s] \n"
     ]
    },
    {
     "name": "stdout",
     "output_type": "stream",
     "text": [
      "225158<>50927 pair\n"
     ]
    },
    {
     "name": "stderr",
     "output_type": "stream",
     "text": [
      "100%|██████████| 4848/4848 [00:01<00:00, 3906.63it/s] \n"
     ]
    },
    {
     "name": "stdout",
     "output_type": "stream",
     "text": [
      "225158<>51284 pair\n"
     ]
    },
    {
     "name": "stderr",
     "output_type": "stream",
     "text": [
      "100%|██████████| 4848/4848 [00:00<00:00, 5280.47it/s] \n"
     ]
    },
    {
     "name": "stdout",
     "output_type": "stream",
     "text": [
      "225158<>50843 pair\n"
     ]
    },
    {
     "name": "stderr",
     "output_type": "stream",
     "text": [
      "100%|██████████| 4848/4848 [00:01<00:00, 2500.31it/s]\n"
     ]
    },
    {
     "name": "stdout",
     "output_type": "stream",
     "text": [
      "225158<>50835 pair\n"
     ]
    },
    {
     "name": "stderr",
     "output_type": "stream",
     "text": [
      "100%|██████████| 4848/4848 [00:01<00:00, 3570.20it/s] \n"
     ]
    },
    {
     "name": "stdout",
     "output_type": "stream",
     "text": [
      "225158<>50849 pair\n"
     ]
    },
    {
     "name": "stderr",
     "output_type": "stream",
     "text": [
      "100%|██████████| 4848/4848 [00:02<00:00, 1784.59it/s]\n"
     ]
    },
    {
     "name": "stdout",
     "output_type": "stream",
     "text": [
      "225158<>50842 pair\n"
     ]
    },
    {
     "name": "stderr",
     "output_type": "stream",
     "text": [
      "100%|██████████| 4848/4848 [00:01<00:00, 2794.22it/s] \n"
     ]
    },
    {
     "name": "stdout",
     "output_type": "stream",
     "text": [
      "225158<>51125 pair\n"
     ]
    },
    {
     "name": "stderr",
     "output_type": "stream",
     "text": [
      "100%|██████████| 4848/4848 [00:03<00:00, 1372.03it/s]\n"
     ]
    },
    {
     "name": "stdout",
     "output_type": "stream",
     "text": [
      "225158<>51120 pair\n"
     ]
    },
    {
     "name": "stderr",
     "output_type": "stream",
     "text": [
      "100%|██████████| 4848/4848 [00:03<00:00, 1268.02it/s]\n"
     ]
    },
    {
     "name": "stdout",
     "output_type": "stream",
     "text": [
      "225158<>51127 pair\n"
     ]
    },
    {
     "name": "stderr",
     "output_type": "stream",
     "text": [
      "100%|██████████| 4848/4848 [00:03<00:00, 1456.85it/s]\n"
     ]
    },
    {
     "name": "stdout",
     "output_type": "stream",
     "text": [
      "225158<>51116 pair\n"
     ]
    },
    {
     "name": "stderr",
     "output_type": "stream",
     "text": [
      "100%|██████████| 4848/4848 [00:03<00:00, 1379.77it/s]\n"
     ]
    },
    {
     "name": "stdout",
     "output_type": "stream",
     "text": [
      "225158<>51117 pair\n"
     ]
    },
    {
     "name": "stderr",
     "output_type": "stream",
     "text": [
      "100%|██████████| 4848/4848 [00:02<00:00, 1644.95it/s]\n"
     ]
    },
    {
     "name": "stdout",
     "output_type": "stream",
     "text": [
      "225158<>51111 pair\n"
     ]
    },
    {
     "name": "stderr",
     "output_type": "stream",
     "text": [
      "100%|██████████| 4848/4848 [00:00<00:00, 14282.18it/s]\n"
     ]
    },
    {
     "name": "stdout",
     "output_type": "stream",
     "text": [
      "225158<>51128 pair\n"
     ]
    },
    {
     "name": "stderr",
     "output_type": "stream",
     "text": [
      "100%|██████████| 4848/4848 [00:03<00:00, 1374.73it/s]\n"
     ]
    },
    {
     "name": "stdout",
     "output_type": "stream",
     "text": [
      "225158<>51118 pair\n"
     ]
    },
    {
     "name": "stderr",
     "output_type": "stream",
     "text": [
      "100%|██████████| 4848/4848 [00:02<00:00, 1750.06it/s]\n"
     ]
    },
    {
     "name": "stdout",
     "output_type": "stream",
     "text": [
      "225158<>51269 pair\n"
     ]
    },
    {
     "name": "stderr",
     "output_type": "stream",
     "text": [
      "100%|██████████| 4848/4848 [00:01<00:00, 3027.10it/s] \n"
     ]
    },
    {
     "name": "stdout",
     "output_type": "stream",
     "text": [
      "225158<>51263 pair\n"
     ]
    },
    {
     "name": "stderr",
     "output_type": "stream",
     "text": [
      "100%|██████████| 4848/4848 [00:00<00:00, 8606.67it/s] \n"
     ]
    },
    {
     "name": "stdout",
     "output_type": "stream",
     "text": [
      "225158<>51047 pair\n"
     ]
    },
    {
     "name": "stderr",
     "output_type": "stream",
     "text": [
      "100%|██████████| 4848/4848 [00:00<00:00, 6978.72it/s] \n"
     ]
    },
    {
     "name": "stdout",
     "output_type": "stream",
     "text": [
      "225158<>51052 pair\n"
     ]
    },
    {
     "name": "stderr",
     "output_type": "stream",
     "text": [
      "100%|██████████| 4848/4848 [00:00<00:00, 12829.06it/s]\n"
     ]
    },
    {
     "name": "stdout",
     "output_type": "stream",
     "text": [
      "225158<>50980 pair\n"
     ]
    },
    {
     "name": "stderr",
     "output_type": "stream",
     "text": [
      "100%|██████████| 4848/4848 [00:01<00:00, 4214.46it/s] \n"
     ]
    },
    {
     "name": "stdout",
     "output_type": "stream",
     "text": [
      "225158<>50900 pair\n"
     ]
    },
    {
     "name": "stderr",
     "output_type": "stream",
     "text": [
      "100%|██████████| 4848/4848 [00:02<00:00, 1995.97it/s] \n"
     ]
    },
    {
     "name": "stdout",
     "output_type": "stream",
     "text": [
      "225158<>51060 pair\n"
     ]
    },
    {
     "name": "stderr",
     "output_type": "stream",
     "text": [
      "100%|██████████| 4848/4848 [00:00<00:00, 9967.66it/s] \n"
     ]
    },
    {
     "name": "stdout",
     "output_type": "stream",
     "text": [
      "225158<>51218 pair\n"
     ]
    },
    {
     "name": "stderr",
     "output_type": "stream",
     "text": [
      "100%|██████████| 4848/4848 [00:03<00:00, 1241.44it/s] \n"
     ]
    },
    {
     "name": "stdout",
     "output_type": "stream",
     "text": [
      "225158<>51196 pair\n"
     ]
    },
    {
     "name": "stderr",
     "output_type": "stream",
     "text": [
      "100%|██████████| 4848/4848 [00:00<00:00, 7812.37it/s] \n"
     ]
    },
    {
     "name": "stdout",
     "output_type": "stream",
     "text": [
      "225158<>50966 pair\n"
     ]
    },
    {
     "name": "stderr",
     "output_type": "stream",
     "text": [
      "100%|██████████| 4848/4848 [00:00<00:00, 27445.31it/s]\n"
     ]
    },
    {
     "name": "stdout",
     "output_type": "stream",
     "text": [
      "225158<>50836 pair\n"
     ]
    },
    {
     "name": "stderr",
     "output_type": "stream",
     "text": [
      "100%|██████████| 4848/4848 [00:00<00:00, 6001.72it/s] \n"
     ]
    },
    {
     "name": "stdout",
     "output_type": "stream",
     "text": [
      "225158<>50838 pair\n"
     ]
    },
    {
     "name": "stderr",
     "output_type": "stream",
     "text": [
      "100%|██████████| 4848/4848 [00:00<00:00, 5183.99it/s] \n"
     ]
    },
    {
     "name": "stdout",
     "output_type": "stream",
     "text": [
      "225158<>51077 pair\n"
     ]
    },
    {
     "name": "stderr",
     "output_type": "stream",
     "text": [
      "100%|██████████| 4848/4848 [00:00<00:00, 9299.76it/s] \n"
     ]
    },
    {
     "name": "stdout",
     "output_type": "stream",
     "text": [
      "225158<>50841 pair\n"
     ]
    },
    {
     "name": "stderr",
     "output_type": "stream",
     "text": [
      "100%|██████████| 4848/4848 [00:00<00:00, 7615.22it/s] \n"
     ]
    },
    {
     "name": "stdout",
     "output_type": "stream",
     "text": [
      "225158<>50974 pair\n"
     ]
    },
    {
     "name": "stderr",
     "output_type": "stream",
     "text": [
      "100%|██████████| 4848/4848 [00:01<00:00, 3222.90it/s] \n"
     ]
    },
    {
     "name": "stdout",
     "output_type": "stream",
     "text": [
      "225158<>51300 pair\n"
     ]
    },
    {
     "name": "stderr",
     "output_type": "stream",
     "text": [
      "100%|██████████| 4848/4848 [00:01<00:00, 4683.08it/s] \n"
     ]
    },
    {
     "name": "stdout",
     "output_type": "stream",
     "text": [
      "225158<>51245 pair\n"
     ]
    },
    {
     "name": "stderr",
     "output_type": "stream",
     "text": [
      "100%|██████████| 4848/4848 [00:01<00:00, 4618.57it/s] \n"
     ]
    },
    {
     "name": "stdout",
     "output_type": "stream",
     "text": [
      "225158<>51194 pair\n"
     ]
    },
    {
     "name": "stderr",
     "output_type": "stream",
     "text": [
      "100%|██████████| 4848/4848 [00:01<00:00, 4642.17it/s] \n"
     ]
    },
    {
     "name": "stdout",
     "output_type": "stream",
     "text": [
      "225158<>51181 pair\n"
     ]
    },
    {
     "name": "stderr",
     "output_type": "stream",
     "text": [
      "100%|██████████| 4848/4848 [00:01<00:00, 4681.65it/s] \n"
     ]
    },
    {
     "name": "stdout",
     "output_type": "stream",
     "text": [
      "225158<>51180 pair\n"
     ]
    },
    {
     "name": "stderr",
     "output_type": "stream",
     "text": [
      "100%|██████████| 4848/4848 [00:01<00:00, 4574.62it/s] \n"
     ]
    },
    {
     "name": "stdout",
     "output_type": "stream",
     "text": [
      "225158<>51176 pair\n"
     ]
    },
    {
     "name": "stderr",
     "output_type": "stream",
     "text": [
      "100%|██████████| 4848/4848 [00:01<00:00, 4515.78it/s] \n"
     ]
    },
    {
     "name": "stdout",
     "output_type": "stream",
     "text": [
      "225158<>51133 pair\n"
     ]
    },
    {
     "name": "stderr",
     "output_type": "stream",
     "text": [
      "100%|██████████| 4848/4848 [00:01<00:00, 4645.66it/s] \n"
     ]
    },
    {
     "name": "stdout",
     "output_type": "stream",
     "text": [
      "225158<>51132 pair\n"
     ]
    },
    {
     "name": "stderr",
     "output_type": "stream",
     "text": [
      "100%|██████████| 4848/4848 [00:01<00:00, 4666.83it/s] \n"
     ]
    },
    {
     "name": "stdout",
     "output_type": "stream",
     "text": [
      "225158<>51131 pair\n"
     ]
    },
    {
     "name": "stderr",
     "output_type": "stream",
     "text": [
      "100%|██████████| 4848/4848 [00:01<00:00, 4685.60it/s] \n"
     ]
    },
    {
     "name": "stdout",
     "output_type": "stream",
     "text": [
      "225158<>51130 pair\n"
     ]
    },
    {
     "name": "stderr",
     "output_type": "stream",
     "text": [
      "100%|██████████| 4848/4848 [00:01<00:00, 4683.57it/s] \n"
     ]
    },
    {
     "name": "stdout",
     "output_type": "stream",
     "text": [
      "225158<>50965 pair\n"
     ]
    },
    {
     "name": "stderr",
     "output_type": "stream",
     "text": [
      "100%|██████████| 4848/4848 [00:01<00:00, 2649.87it/s] \n"
     ]
    },
    {
     "name": "stdout",
     "output_type": "stream",
     "text": [
      "225158<>51069 pair\n"
     ]
    },
    {
     "name": "stderr",
     "output_type": "stream",
     "text": [
      "100%|██████████| 4848/4848 [00:00<00:00, 9784.29it/s] \n"
     ]
    },
    {
     "name": "stdout",
     "output_type": "stream",
     "text": [
      "225158<>51070 pair\n"
     ]
    },
    {
     "name": "stderr",
     "output_type": "stream",
     "text": [
      "100%|██████████| 4848/4848 [00:00<00:00, 9814.02it/s] \n"
     ]
    },
    {
     "name": "stdout",
     "output_type": "stream",
     "text": [
      "225158<>51212 pair\n"
     ]
    },
    {
     "name": "stderr",
     "output_type": "stream",
     "text": [
      "100%|██████████| 4848/4848 [00:00<00:00, 35264.59it/s]\n"
     ]
    },
    {
     "name": "stdout",
     "output_type": "stream",
     "text": [
      "225158<>51138 pair\n"
     ]
    },
    {
     "name": "stderr",
     "output_type": "stream",
     "text": [
      "100%|██████████| 4848/4848 [00:00<00:00, 7376.40it/s] \n"
     ]
    },
    {
     "name": "stdout",
     "output_type": "stream",
     "text": [
      "225158<>51139 pair\n"
     ]
    },
    {
     "name": "stderr",
     "output_type": "stream",
     "text": [
      "100%|██████████| 4848/4848 [00:00<00:00, 7430.24it/s] \n"
     ]
    },
    {
     "name": "stdout",
     "output_type": "stream",
     "text": [
      "225158<>50890 pair\n"
     ]
    },
    {
     "name": "stderr",
     "output_type": "stream",
     "text": [
      "100%|██████████| 4848/4848 [00:01<00:00, 2723.92it/s]\n"
     ]
    },
    {
     "name": "stdout",
     "output_type": "stream",
     "text": [
      "225158<>50891 pair\n"
     ]
    },
    {
     "name": "stderr",
     "output_type": "stream",
     "text": [
      "100%|██████████| 4848/4848 [00:01<00:00, 2634.43it/s]\n"
     ]
    },
    {
     "name": "stdout",
     "output_type": "stream",
     "text": [
      "225158<>50899 pair\n"
     ]
    },
    {
     "name": "stderr",
     "output_type": "stream",
     "text": [
      "100%|██████████| 4848/4848 [00:00<00:00, 23705.45it/s]\n"
     ]
    },
    {
     "name": "stdout",
     "output_type": "stream",
     "text": [
      "225158<>51209 pair\n"
     ]
    },
    {
     "name": "stderr",
     "output_type": "stream",
     "text": [
      "100%|██████████| 4848/4848 [00:00<00:00, 35432.35it/s]\n"
     ]
    },
    {
     "name": "stdout",
     "output_type": "stream",
     "text": [
      "225158<>51297 pair\n"
     ]
    },
    {
     "name": "stderr",
     "output_type": "stream",
     "text": [
      "100%|██████████| 4848/4848 [00:00<00:00, 7856.51it/s] \n"
     ]
    },
    {
     "name": "stdout",
     "output_type": "stream",
     "text": [
      "225158<>50996 pair\n"
     ]
    },
    {
     "name": "stderr",
     "output_type": "stream",
     "text": [
      "100%|██████████| 4848/4848 [00:00<00:00, 5656.05it/s] \n"
     ]
    },
    {
     "name": "stdout",
     "output_type": "stream",
     "text": [
      "225158<>51088 pair\n"
     ]
    },
    {
     "name": "stderr",
     "output_type": "stream",
     "text": [
      "100%|██████████| 4848/4848 [00:00<00:00, 9566.62it/s] \n"
     ]
    },
    {
     "name": "stdout",
     "output_type": "stream",
     "text": [
      "225158<>51001 pair\n"
     ]
    },
    {
     "name": "stderr",
     "output_type": "stream",
     "text": [
      "100%|██████████| 4848/4848 [00:01<00:00, 3107.97it/s] \n"
     ]
    },
    {
     "name": "stdout",
     "output_type": "stream",
     "text": [
      "225158<>50990 pair\n"
     ]
    },
    {
     "name": "stderr",
     "output_type": "stream",
     "text": [
      "100%|██████████| 4848/4848 [00:00<00:00, 29481.68it/s]\n"
     ]
    },
    {
     "name": "stdout",
     "output_type": "stream",
     "text": [
      "225158<>51343 pair\n"
     ]
    },
    {
     "name": "stderr",
     "output_type": "stream",
     "text": [
      "100%|██████████| 4848/4848 [00:00<00:00, 16556.91it/s]\n"
     ]
    },
    {
     "name": "stdout",
     "output_type": "stream",
     "text": [
      "225158<>51273 pair\n"
     ]
    },
    {
     "name": "stderr",
     "output_type": "stream",
     "text": [
      "100%|██████████| 4848/4848 [00:00<00:00, 20921.07it/s]\n"
     ]
    },
    {
     "name": "stdout",
     "output_type": "stream",
     "text": [
      "225158<>51271 pair\n"
     ]
    },
    {
     "name": "stderr",
     "output_type": "stream",
     "text": [
      "100%|██████████| 4848/4848 [00:00<00:00, 20299.05it/s]\n"
     ]
    },
    {
     "name": "stdout",
     "output_type": "stream",
     "text": [
      "225158<>51140 pair\n"
     ]
    },
    {
     "name": "stderr",
     "output_type": "stream",
     "text": [
      "100%|██████████| 4848/4848 [00:00<00:00, 24513.84it/s]\n"
     ]
    },
    {
     "name": "stdout",
     "output_type": "stream",
     "text": [
      "225158<>51471 pair\n"
     ]
    },
    {
     "name": "stderr",
     "output_type": "stream",
     "text": [
      "100%|██████████| 4848/4848 [00:00<00:00, 17884.35it/s]\n"
     ]
    },
    {
     "name": "stdout",
     "output_type": "stream",
     "text": [
      "225158<>51232 pair\n"
     ]
    },
    {
     "name": "stderr",
     "output_type": "stream",
     "text": [
      "100%|██████████| 4848/4848 [00:00<00:00, 16742.24it/s]\n"
     ]
    },
    {
     "name": "stdout",
     "output_type": "stream",
     "text": [
      "225158<>50864 pair\n"
     ]
    },
    {
     "name": "stderr",
     "output_type": "stream",
     "text": [
      "100%|██████████| 4848/4848 [00:02<00:00, 1893.94it/s]\n"
     ]
    },
    {
     "name": "stdout",
     "output_type": "stream",
     "text": [
      "225158<>51124 pair\n"
     ]
    },
    {
     "name": "stderr",
     "output_type": "stream",
     "text": [
      "100%|██████████| 4848/4848 [00:00<00:00, 32804.63it/s]\n"
     ]
    },
    {
     "name": "stdout",
     "output_type": "stream",
     "text": [
      "225158<>51028 pair\n"
     ]
    },
    {
     "name": "stderr",
     "output_type": "stream",
     "text": [
      "100%|██████████| 4848/4848 [00:00<00:00, 23744.09it/s]\n"
     ]
    },
    {
     "name": "stdout",
     "output_type": "stream",
     "text": [
      "225158<>51347 pair\n"
     ]
    },
    {
     "name": "stderr",
     "output_type": "stream",
     "text": [
      "100%|██████████| 4848/4848 [00:00<00:00, 18500.83it/s]\n"
     ]
    },
    {
     "name": "stdout",
     "output_type": "stream",
     "text": [
      "225158<>50946 pair\n"
     ]
    },
    {
     "name": "stderr",
     "output_type": "stream",
     "text": [
      "100%|██████████| 4848/4848 [00:00<00:00, 26203.15it/s]\n"
     ]
    },
    {
     "name": "stdout",
     "output_type": "stream",
     "text": [
      "225158<>50881 pair\n"
     ]
    },
    {
     "name": "stderr",
     "output_type": "stream",
     "text": [
      "100%|██████████| 4848/4848 [00:00<00:00, 5709.75it/s] \n"
     ]
    },
    {
     "name": "stdout",
     "output_type": "stream",
     "text": [
      "225158<>51114 pair\n"
     ]
    },
    {
     "name": "stderr",
     "output_type": "stream",
     "text": [
      "100%|██████████| 4848/4848 [00:00<00:00, 5202.82it/s] \n"
     ]
    },
    {
     "name": "stdout",
     "output_type": "stream",
     "text": [
      "225158<>51123 pair\n"
     ]
    },
    {
     "name": "stderr",
     "output_type": "stream",
     "text": [
      "100%|██████████| 4848/4848 [00:00<00:00, 7857.86it/s] \n"
     ]
    },
    {
     "name": "stdout",
     "output_type": "stream",
     "text": [
      "225158<>51352 pair\n"
     ]
    },
    {
     "name": "stderr",
     "output_type": "stream",
     "text": [
      "100%|██████████| 4848/4848 [00:00<00:00, 6455.78it/s] \n"
     ]
    },
    {
     "name": "stdout",
     "output_type": "stream",
     "text": [
      "225158<>51095 pair\n"
     ]
    },
    {
     "name": "stderr",
     "output_type": "stream",
     "text": [
      "100%|██████████| 4848/4848 [00:00<00:00, 6314.05it/s] \n"
     ]
    },
    {
     "name": "stdout",
     "output_type": "stream",
     "text": [
      "225158<>50892 pair\n"
     ]
    },
    {
     "name": "stderr",
     "output_type": "stream",
     "text": [
      "100%|██████████| 4848/4848 [00:00<00:00, 6549.89it/s] \n"
     ]
    },
    {
     "name": "stdout",
     "output_type": "stream",
     "text": [
      "225158<>50978 pair\n"
     ]
    },
    {
     "name": "stderr",
     "output_type": "stream",
     "text": [
      "100%|██████████| 4848/4848 [00:00<00:00, 17965.27it/s]\n"
     ]
    },
    {
     "name": "stdout",
     "output_type": "stream",
     "text": [
      "225158<>51072 pair\n"
     ]
    },
    {
     "name": "stderr",
     "output_type": "stream",
     "text": [
      "100%|██████████| 4848/4848 [00:00<00:00, 70382.46it/s]\n"
     ]
    },
    {
     "name": "stdout",
     "output_type": "stream",
     "text": [
      "225158<>51073 pair\n"
     ]
    },
    {
     "name": "stderr",
     "output_type": "stream",
     "text": [
      "100%|██████████| 4848/4848 [00:00<00:00, 70134.61it/s]\n"
     ]
    },
    {
     "name": "stdout",
     "output_type": "stream",
     "text": [
      "225158<>50929 pair\n"
     ]
    },
    {
     "name": "stderr",
     "output_type": "stream",
     "text": [
      "100%|██████████| 4848/4848 [00:00<00:00, 7300.01it/s] \n"
     ]
    },
    {
     "name": "stdout",
     "output_type": "stream",
     "text": [
      "225158<>51441 pair\n"
     ]
    },
    {
     "name": "stderr",
     "output_type": "stream",
     "text": [
      "100%|██████████| 4848/4848 [00:00<00:00, 24620.10it/s]\n"
     ]
    },
    {
     "name": "stdout",
     "output_type": "stream",
     "text": [
      "225158<>50895 pair\n"
     ]
    },
    {
     "name": "stderr",
     "output_type": "stream",
     "text": [
      "100%|██████████| 4848/4848 [00:00<00:00, 13601.74it/s]\n"
     ]
    },
    {
     "name": "stdout",
     "output_type": "stream",
     "text": [
      "225158<>50896 pair\n"
     ]
    },
    {
     "name": "stderr",
     "output_type": "stream",
     "text": [
      "100%|██████████| 4848/4848 [00:00<00:00, 13562.44it/s]\n"
     ]
    },
    {
     "name": "stdout",
     "output_type": "stream",
     "text": [
      "225158<>51005 pair\n"
     ]
    },
    {
     "name": "stderr",
     "output_type": "stream",
     "text": [
      "100%|██████████| 4848/4848 [00:00<00:00, 13411.76it/s]\n"
     ]
    },
    {
     "name": "stdout",
     "output_type": "stream",
     "text": [
      "225158<>50945 pair\n"
     ]
    },
    {
     "name": "stderr",
     "output_type": "stream",
     "text": [
      "100%|██████████| 4848/4848 [00:00<00:00, 29739.18it/s]\n"
     ]
    },
    {
     "name": "stdout",
     "output_type": "stream",
     "text": [
      "225158<>50997 pair\n"
     ]
    },
    {
     "name": "stderr",
     "output_type": "stream",
     "text": [
      "100%|██████████| 4848/4848 [00:00<00:00, 28661.78it/s]\n"
     ]
    },
    {
     "name": "stdout",
     "output_type": "stream",
     "text": [
      "225158<>51119 pair\n"
     ]
    },
    {
     "name": "stderr",
     "output_type": "stream",
     "text": [
      "100%|██████████| 4848/4848 [00:00<00:00, 70038.70it/s]\n"
     ]
    },
    {
     "name": "stdout",
     "output_type": "stream",
     "text": [
      "225158<>51357 pair\n"
     ]
    },
    {
     "name": "stderr",
     "output_type": "stream",
     "text": [
      "100%|██████████| 4848/4848 [00:00<00:00, 70423.90it/s]\n"
     ]
    },
    {
     "name": "stdout",
     "output_type": "stream",
     "text": [
      "225158<>50973 pair\n"
     ]
    },
    {
     "name": "stderr",
     "output_type": "stream",
     "text": [
      "100%|██████████| 4848/4848 [00:00<00:00, 12543.01it/s]\n"
     ]
    },
    {
     "name": "stdout",
     "output_type": "stream",
     "text": [
      "225158<>51084 pair\n"
     ]
    },
    {
     "name": "stderr",
     "output_type": "stream",
     "text": [
      "100%|██████████| 4848/4848 [00:00<00:00, 70645.08it/s]\n"
     ]
    },
    {
     "name": "stdout",
     "output_type": "stream",
     "text": [
      "225158<>51354 pair\n"
     ]
    },
    {
     "name": "stderr",
     "output_type": "stream",
     "text": [
      "100%|██████████| 4848/4848 [00:00<00:00, 48477.97it/s]\n"
     ]
    },
    {
     "name": "stdout",
     "output_type": "stream",
     "text": [
      "225158<>51276 pair\n"
     ]
    },
    {
     "name": "stderr",
     "output_type": "stream",
     "text": [
      "100%|██████████| 4848/4848 [00:00<00:00, 13470.45it/s]\n"
     ]
    },
    {
     "name": "stdout",
     "output_type": "stream",
     "text": [
      "225158<>50869 pair\n"
     ]
    },
    {
     "name": "stderr",
     "output_type": "stream",
     "text": [
      "100%|██████████| 4848/4848 [00:00<00:00, 36469.46it/s]\n"
     ]
    },
    {
     "name": "stdout",
     "output_type": "stream",
     "text": [
      "225158<>51299 pair\n"
     ]
    },
    {
     "name": "stderr",
     "output_type": "stream",
     "text": [
      "100%|██████████| 4848/4848 [00:00<00:00, 36444.30it/s]\n"
     ]
    },
    {
     "name": "stdout",
     "output_type": "stream",
     "text": [
      "225158<>51298 pair\n"
     ]
    },
    {
     "name": "stderr",
     "output_type": "stream",
     "text": [
      "100%|██████████| 4848/4848 [00:00<00:00, 37783.78it/s]\n"
     ]
    },
    {
     "name": "stdout",
     "output_type": "stream",
     "text": [
      "225158<>51206 pair\n"
     ]
    },
    {
     "name": "stderr",
     "output_type": "stream",
     "text": [
      "100%|██████████| 4848/4848 [00:00<00:00, 25006.32it/s]\n"
     ]
    },
    {
     "name": "stdout",
     "output_type": "stream",
     "text": [
      "225158<>50988 pair\n"
     ]
    },
    {
     "name": "stderr",
     "output_type": "stream",
     "text": [
      "100%|██████████| 4848/4848 [00:00<00:00, 24392.57it/s]\n"
     ]
    },
    {
     "name": "stdout",
     "output_type": "stream",
     "text": [
      "225158<>50982 pair\n"
     ]
    },
    {
     "name": "stderr",
     "output_type": "stream",
     "text": [
      "100%|██████████| 4848/4848 [00:00<00:00, 47963.51it/s]\n"
     ]
    },
    {
     "name": "stdout",
     "output_type": "stream",
     "text": [
      "225158<>50894 pair\n"
     ]
    },
    {
     "name": "stderr",
     "output_type": "stream",
     "text": [
      "100%|██████████| 4848/4848 [00:00<00:00, 46778.24it/s]\n"
     ]
    },
    {
     "name": "stdout",
     "output_type": "stream",
     "text": [
      "225158<>50914 pair\n"
     ]
    },
    {
     "name": "stderr",
     "output_type": "stream",
     "text": [
      "100%|██████████| 4848/4848 [00:00<00:00, 5591.64it/s] \n"
     ]
    },
    {
     "name": "stdout",
     "output_type": "stream",
     "text": [
      "225158<>50853 pair\n"
     ]
    },
    {
     "name": "stderr",
     "output_type": "stream",
     "text": [
      "100%|██████████| 4848/4848 [00:00<00:00, 12468.33it/s]\n"
     ]
    },
    {
     "name": "stdout",
     "output_type": "stream",
     "text": [
      "225158<>51015 pair\n"
     ]
    },
    {
     "name": "stderr",
     "output_type": "stream",
     "text": [
      "100%|██████████| 4848/4848 [00:00<00:00, 5083.49it/s] \n"
     ]
    },
    {
     "name": "stdout",
     "output_type": "stream",
     "text": [
      "225158<>51529 pair\n"
     ]
    },
    {
     "name": "stderr",
     "output_type": "stream",
     "text": [
      "100%|██████████| 4848/4848 [00:00<00:00, 67978.90it/s]\n"
     ]
    },
    {
     "name": "stdout",
     "output_type": "stream",
     "text": [
      "225158<>51110 pair\n"
     ]
    },
    {
     "name": "stderr",
     "output_type": "stream",
     "text": [
      "100%|██████████| 4848/4848 [00:00<00:00, 10742.44it/s]\n"
     ]
    },
    {
     "name": "stdout",
     "output_type": "stream",
     "text": [
      "225158<>51065 pair\n"
     ]
    },
    {
     "name": "stderr",
     "output_type": "stream",
     "text": [
      "100%|██████████| 4848/4848 [00:00<00:00, 24479.93it/s]\n"
     ]
    },
    {
     "name": "stdout",
     "output_type": "stream",
     "text": [
      "225158<>51064 pair\n"
     ]
    },
    {
     "name": "stderr",
     "output_type": "stream",
     "text": [
      "100%|██████████| 4848/4848 [00:00<00:00, 24587.56it/s]\n"
     ]
    },
    {
     "name": "stdout",
     "output_type": "stream",
     "text": [
      "225158<>51063 pair\n"
     ]
    },
    {
     "name": "stderr",
     "output_type": "stream",
     "text": [
      "100%|██████████| 4848/4848 [00:00<00:00, 24759.29it/s]\n"
     ]
    },
    {
     "name": "stdout",
     "output_type": "stream",
     "text": [
      "225158<>50958 pair\n"
     ]
    },
    {
     "name": "stderr",
     "output_type": "stream",
     "text": [
      "100%|██████████| 4848/4848 [00:00<00:00, 29241.12it/s]\n"
     ]
    },
    {
     "name": "stdout",
     "output_type": "stream",
     "text": [
      "225158<>50926 pair\n"
     ]
    },
    {
     "name": "stderr",
     "output_type": "stream",
     "text": [
      "100%|██████████| 4848/4848 [00:00<00:00, 18629.81it/s]\n"
     ]
    },
    {
     "name": "stdout",
     "output_type": "stream",
     "text": [
      "225158<>51467 pair\n"
     ]
    },
    {
     "name": "stderr",
     "output_type": "stream",
     "text": [
      "100%|██████████| 4848/4848 [00:00<00:00, 36526.98it/s]\n"
     ]
    },
    {
     "name": "stdout",
     "output_type": "stream",
     "text": [
      "225158<>51223 pair\n"
     ]
    },
    {
     "name": "stderr",
     "output_type": "stream",
     "text": [
      "100%|██████████| 4848/4848 [00:00<00:00, 29243.19it/s]\n"
     ]
    },
    {
     "name": "stdout",
     "output_type": "stream",
     "text": [
      "225158<>51227 pair\n"
     ]
    },
    {
     "name": "stderr",
     "output_type": "stream",
     "text": [
      "100%|██████████| 4848/4848 [00:00<00:00, 18565.97it/s]\n"
     ]
    },
    {
     "name": "stdout",
     "output_type": "stream",
     "text": [
      "225158<>51226 pair\n"
     ]
    },
    {
     "name": "stderr",
     "output_type": "stream",
     "text": [
      "100%|██████████| 4848/4848 [00:00<00:00, 18550.96it/s]\n"
     ]
    },
    {
     "name": "stdout",
     "output_type": "stream",
     "text": [
      "225158<>51224 pair\n"
     ]
    },
    {
     "name": "stderr",
     "output_type": "stream",
     "text": [
      "100%|██████████| 4848/4848 [00:00<00:00, 18520.01it/s]\n"
     ]
    },
    {
     "name": "stdout",
     "output_type": "stream",
     "text": [
      "225158<>51513 pair\n"
     ]
    },
    {
     "name": "stderr",
     "output_type": "stream",
     "text": [
      "100%|██████████| 4848/4848 [00:00<00:00, 70430.24it/s]\n"
     ]
    },
    {
     "name": "stdout",
     "output_type": "stream",
     "text": [
      "225158<>51199 pair\n"
     ]
    },
    {
     "name": "stderr",
     "output_type": "stream",
     "text": [
      "100%|██████████| 4848/4848 [00:00<00:00, 28560.13it/s]\n"
     ]
    },
    {
     "name": "stdout",
     "output_type": "stream",
     "text": [
      "225158<>51115 pair\n"
     ]
    },
    {
     "name": "stderr",
     "output_type": "stream",
     "text": [
      "100%|██████████| 4848/4848 [00:00<00:00, 16602.86it/s]\n"
     ]
    },
    {
     "name": "stdout",
     "output_type": "stream",
     "text": [
      "225158<>51385 pair\n"
     ]
    },
    {
     "name": "stderr",
     "output_type": "stream",
     "text": [
      "100%|██████████| 4848/4848 [00:00<00:00, 36034.96it/s]\n"
     ]
    },
    {
     "name": "stdout",
     "output_type": "stream",
     "text": [
      "225158<>51049 pair\n"
     ]
    },
    {
     "name": "stderr",
     "output_type": "stream",
     "text": [
      "100%|██████████| 4848/4848 [00:00<00:00, 21211.79it/s]\n"
     ]
    },
    {
     "name": "stdout",
     "output_type": "stream",
     "text": [
      "225158<>51076 pair\n"
     ]
    },
    {
     "name": "stderr",
     "output_type": "stream",
     "text": [
      "100%|██████████| 4848/4848 [00:00<00:00, 47607.31it/s]\n"
     ]
    },
    {
     "name": "stdout",
     "output_type": "stream",
     "text": [
      "225158<>51112 pair\n"
     ]
    },
    {
     "name": "stderr",
     "output_type": "stream",
     "text": [
      "100%|██████████| 4848/4848 [00:00<00:00, 47795.98it/s]\n"
     ]
    },
    {
     "name": "stdout",
     "output_type": "stream",
     "text": [
      "225158<>51517 pair\n"
     ]
    },
    {
     "name": "stderr",
     "output_type": "stream",
     "text": [
      "100%|██████████| 4848/4848 [00:00<00:00, 14911.65it/s]\n"
     ]
    },
    {
     "name": "stdout",
     "output_type": "stream",
     "text": [
      "225158<>51430 pair\n"
     ]
    },
    {
     "name": "stderr",
     "output_type": "stream",
     "text": [
      "100%|██████████| 4848/4848 [00:00<00:00, 70116.71it/s]\n"
     ]
    },
    {
     "name": "stdout",
     "output_type": "stream",
     "text": [
      "225158<>51272 pair\n"
     ]
    },
    {
     "name": "stderr",
     "output_type": "stream",
     "text": [
      "100%|██████████| 4848/4848 [00:00<00:00, 48415.17it/s]\n"
     ]
    },
    {
     "name": "stdout",
     "output_type": "stream",
     "text": [
      "225158<>51270 pair\n"
     ]
    },
    {
     "name": "stderr",
     "output_type": "stream",
     "text": [
      "100%|██████████| 4848/4848 [00:00<00:00, 47456.31it/s]\n"
     ]
    },
    {
     "name": "stdout",
     "output_type": "stream",
     "text": [
      "225158<>50968 pair\n"
     ]
    },
    {
     "name": "stderr",
     "output_type": "stream",
     "text": [
      "100%|██████████| 4848/4848 [00:00<00:00, 34633.32it/s]\n"
     ]
    },
    {
     "name": "stdout",
     "output_type": "stream",
     "text": [
      "225158<>50969 pair\n"
     ]
    },
    {
     "name": "stderr",
     "output_type": "stream",
     "text": [
      "100%|██████████| 4848/4848 [00:00<00:00, 36448.09it/s]\n"
     ]
    },
    {
     "name": "stdout",
     "output_type": "stream",
     "text": [
      "225158<>51440 pair\n"
     ]
    },
    {
     "name": "stderr",
     "output_type": "stream",
     "text": [
      "100%|██████████| 4848/4848 [00:00<00:00, 36066.60it/s]\n"
     ]
    },
    {
     "name": "stdout",
     "output_type": "stream",
     "text": [
      "225158<>51433 pair\n"
     ]
    },
    {
     "name": "stderr",
     "output_type": "stream",
     "text": [
      "100%|██████████| 4848/4848 [00:00<00:00, 29945.50it/s]\n"
     ]
    },
    {
     "name": "stdout",
     "output_type": "stream",
     "text": [
      "225158<>51062 pair\n"
     ]
    },
    {
     "name": "stderr",
     "output_type": "stream",
     "text": [
      "100%|██████████| 4848/4848 [00:00<00:00, 46697.99it/s]\n"
     ]
    },
    {
     "name": "stdout",
     "output_type": "stream",
     "text": [
      "225158<>51061 pair\n"
     ]
    },
    {
     "name": "stderr",
     "output_type": "stream",
     "text": [
      "100%|██████████| 4848/4848 [00:00<00:00, 48427.74it/s]\n"
     ]
    },
    {
     "name": "stdout",
     "output_type": "stream",
     "text": [
      "225158<>51108 pair\n"
     ]
    },
    {
     "name": "stderr",
     "output_type": "stream",
     "text": [
      "100%|██████████| 4848/4848 [00:00<00:00, 8938.88it/s] \n"
     ]
    },
    {
     "name": "stdout",
     "output_type": "stream",
     "text": [
      "225158<>51094 pair\n"
     ]
    },
    {
     "name": "stderr",
     "output_type": "stream",
     "text": [
      "100%|██████████| 4848/4848 [00:00<00:00, 8280.67it/s] \n"
     ]
    },
    {
     "name": "stdout",
     "output_type": "stream",
     "text": [
      "225158<>51067 pair\n"
     ]
    },
    {
     "name": "stderr",
     "output_type": "stream",
     "text": [
      "100%|██████████| 4848/4848 [00:00<00:00, 10776.73it/s]\n"
     ]
    },
    {
     "name": "stdout",
     "output_type": "stream",
     "text": [
      "225158<>51087 pair\n"
     ]
    },
    {
     "name": "stderr",
     "output_type": "stream",
     "text": [
      "100%|██████████| 4848/4848 [00:00<00:00, 8898.78it/s] \n"
     ]
    },
    {
     "name": "stdout",
     "output_type": "stream",
     "text": [
      "225158<>51045 pair\n"
     ]
    },
    {
     "name": "stderr",
     "output_type": "stream",
     "text": [
      "100%|██████████| 4848/4848 [00:00<00:00, 70956.93it/s]\n"
     ]
    },
    {
     "name": "stdout",
     "output_type": "stream",
     "text": [
      "225158<>51032 pair\n"
     ]
    },
    {
     "name": "stderr",
     "output_type": "stream",
     "text": [
      "100%|██████████| 4848/4848 [00:00<00:00, 35940.12it/s]\n"
     ]
    },
    {
     "name": "stdout",
     "output_type": "stream",
     "text": [
      "225158<>51229 pair\n"
     ]
    },
    {
     "name": "stderr",
     "output_type": "stream",
     "text": [
      "100%|██████████| 4848/4848 [00:00<00:00, 16668.44it/s]\n"
     ]
    },
    {
     "name": "stdout",
     "output_type": "stream",
     "text": [
      "225158<>51507 pair\n"
     ]
    },
    {
     "name": "stderr",
     "output_type": "stream",
     "text": [
      "100%|██████████| 4848/4848 [00:00<00:00, 29905.95it/s]\n"
     ]
    },
    {
     "name": "stdout",
     "output_type": "stream",
     "text": [
      "225158<>51386 pair\n"
     ]
    },
    {
     "name": "stderr",
     "output_type": "stream",
     "text": [
      "100%|██████████| 4848/4848 [00:00<00:00, 47483.35it/s]\n"
     ]
    },
    {
     "name": "stdout",
     "output_type": "stream",
     "text": [
      "225158<>51366 pair\n"
     ]
    },
    {
     "name": "stderr",
     "output_type": "stream",
     "text": [
      "100%|██████████| 4848/4848 [00:00<00:00, 36501.93it/s]\n"
     ]
    },
    {
     "name": "stdout",
     "output_type": "stream",
     "text": [
      "225158<>51442 pair\n"
     ]
    },
    {
     "name": "stderr",
     "output_type": "stream",
     "text": [
      "100%|██████████| 4848/4848 [00:00<00:00, 36024.23it/s]\n"
     ]
    },
    {
     "name": "stdout",
     "output_type": "stream",
     "text": [
      "225158<>51068 pair\n"
     ]
    },
    {
     "name": "stderr",
     "output_type": "stream",
     "text": [
      "100%|██████████| 4848/4848 [00:00<00:00, 24705.95it/s]\n"
     ]
    },
    {
     "name": "stdout",
     "output_type": "stream",
     "text": [
      "225158<>50898 pair\n"
     ]
    },
    {
     "name": "stderr",
     "output_type": "stream",
     "text": [
      "100%|██████████| 4848/4848 [00:00<00:00, 24872.13it/s]\n"
     ]
    },
    {
     "name": "stdout",
     "output_type": "stream",
     "text": [
      "225158<>50992 pair\n"
     ]
    },
    {
     "name": "stderr",
     "output_type": "stream",
     "text": [
      "100%|██████████| 4848/4848 [00:00<00:00, 29743.27it/s]\n"
     ]
    },
    {
     "name": "stdout",
     "output_type": "stream",
     "text": [
      "225158<>51358 pair\n"
     ]
    },
    {
     "name": "stderr",
     "output_type": "stream",
     "text": [
      "100%|██████████| 4848/4848 [00:00<00:00, 8301.74it/s] \n"
     ]
    },
    {
     "name": "stdout",
     "output_type": "stream",
     "text": [
      "225158<>50850 pair\n"
     ]
    },
    {
     "name": "stderr",
     "output_type": "stream",
     "text": [
      "100%|██████████| 4848/4848 [00:00<00:00, 37157.14it/s]\n"
     ]
    },
    {
     "name": "stdout",
     "output_type": "stream",
     "text": [
      "225158<>51345 pair\n"
     ]
    },
    {
     "name": "stderr",
     "output_type": "stream",
     "text": [
      "100%|██████████| 4848/4848 [00:00<00:00, 35958.23it/s]\n"
     ]
    },
    {
     "name": "stdout",
     "output_type": "stream",
     "text": [
      "225158<>51356 pair\n"
     ]
    },
    {
     "name": "stderr",
     "output_type": "stream",
     "text": [
      "100%|██████████| 4848/4848 [00:00<00:00, 48922.23it/s]\n"
     ]
    },
    {
     "name": "stdout",
     "output_type": "stream",
     "text": [
      "225158<>50989 pair\n"
     ]
    },
    {
     "name": "stderr",
     "output_type": "stream",
     "text": [
      "100%|██████████| 4848/4848 [00:00<00:00, 36779.70it/s]\n"
     ]
    },
    {
     "name": "stdout",
     "output_type": "stream",
     "text": [
      "225158<>51228 pair\n"
     ]
    },
    {
     "name": "stderr",
     "output_type": "stream",
     "text": [
      "100%|██████████| 4848/4848 [00:00<00:00, 47962.49it/s]\n"
     ]
    },
    {
     "name": "stdout",
     "output_type": "stream",
     "text": [
      "225158<>51435 pair\n"
     ]
    },
    {
     "name": "stderr",
     "output_type": "stream",
     "text": [
      "100%|██████████| 4848/4848 [00:00<00:00, 47823.41it/s]\n"
     ]
    },
    {
     "name": "stdout",
     "output_type": "stream",
     "text": [
      "225158<>51289 pair\n"
     ]
    },
    {
     "name": "stderr",
     "output_type": "stream",
     "text": [
      "100%|██████████| 4848/4848 [00:00<00:00, 24754.49it/s]\n"
     ]
    },
    {
     "name": "stdout",
     "output_type": "stream",
     "text": [
      "225158<>51387 pair\n"
     ]
    },
    {
     "name": "stderr",
     "output_type": "stream",
     "text": [
      "100%|██████████| 4848/4848 [00:00<00:00, 21521.04it/s]\n"
     ]
    },
    {
     "name": "stdout",
     "output_type": "stream",
     "text": [
      "225158<>51122 pair\n"
     ]
    },
    {
     "name": "stderr",
     "output_type": "stream",
     "text": [
      "100%|██████████| 4848/4848 [00:00<00:00, 46664.34it/s]\n"
     ]
    },
    {
     "name": "stdout",
     "output_type": "stream",
     "text": [
      "225158<>50934 pair\n"
     ]
    },
    {
     "name": "stderr",
     "output_type": "stream",
     "text": [
      "100%|██████████| 4848/4848 [00:00<00:00, 48030.47it/s]\n"
     ]
    },
    {
     "name": "stdout",
     "output_type": "stream",
     "text": [
      "225158<>51452 pair\n"
     ]
    },
    {
     "name": "stderr",
     "output_type": "stream",
     "text": [
      "100%|██████████| 4848/4848 [00:00<00:00, 29141.97it/s]\n"
     ]
    },
    {
     "name": "stdout",
     "output_type": "stream",
     "text": [
      "225158<>50840 pair\n"
     ]
    },
    {
     "name": "stderr",
     "output_type": "stream",
     "text": [
      "100%|██████████| 4848/4848 [00:00<00:00, 70628.15it/s]\n"
     ]
    },
    {
     "name": "stdout",
     "output_type": "stream",
     "text": [
      "225158<>51449 pair\n"
     ]
    },
    {
     "name": "stderr",
     "output_type": "stream",
     "text": [
      "100%|██████████| 4848/4848 [00:00<00:00, 70225.44it/s]\n"
     ]
    },
    {
     "name": "stdout",
     "output_type": "stream",
     "text": [
      "225158<>51376 pair\n"
     ]
    },
    {
     "name": "stderr",
     "output_type": "stream",
     "text": [
      "100%|██████████| 4848/4848 [00:00<00:00, 15083.68it/s]\n"
     ]
    },
    {
     "name": "stdout",
     "output_type": "stream",
     "text": [
      "225158<>50991 pair\n"
     ]
    },
    {
     "name": "stderr",
     "output_type": "stream",
     "text": [
      "100%|██████████| 4848/4848 [00:00<00:00, 36691.96it/s]\n"
     ]
    },
    {
     "name": "stdout",
     "output_type": "stream",
     "text": [
      "225158<>51494 pair\n"
     ]
    },
    {
     "name": "stderr",
     "output_type": "stream",
     "text": [
      "100%|██████████| 4848/4848 [00:00<00:00, 36326.26it/s]\n"
     ]
    },
    {
     "name": "stdout",
     "output_type": "stream",
     "text": [
      "225158<>51225 pair\n"
     ]
    },
    {
     "name": "stderr",
     "output_type": "stream",
     "text": [
      "100%|██████████| 4848/4848 [00:00<00:00, 70640.66it/s]\n"
     ]
    },
    {
     "name": "stdout",
     "output_type": "stream",
     "text": [
      "225158<>51241 pair\n"
     ]
    },
    {
     "name": "stderr",
     "output_type": "stream",
     "text": [
      "100%|██████████| 4848/4848 [00:00<00:00, 70143.07it/s]\n"
     ]
    },
    {
     "name": "stdout",
     "output_type": "stream",
     "text": [
      "225158<>51454 pair\n"
     ]
    },
    {
     "name": "stderr",
     "output_type": "stream",
     "text": [
      "100%|██████████| 4848/4848 [00:00<00:00, 21425.91it/s]\n"
     ]
    },
    {
     "name": "stdout",
     "output_type": "stream",
     "text": [
      "225158<>51377 pair\n"
     ]
    },
    {
     "name": "stderr",
     "output_type": "stream",
     "text": [
      "100%|██████████| 4848/4848 [00:00<00:00, 70509.37it/s]\n"
     ]
    },
    {
     "name": "stdout",
     "output_type": "stream",
     "text": [
      "225158<>51368 pair\n"
     ]
    },
    {
     "name": "stderr",
     "output_type": "stream",
     "text": [
      "100%|██████████| 4848/4848 [00:00<00:00, 21302.39it/s]\n"
     ]
    },
    {
     "name": "stdout",
     "output_type": "stream",
     "text": [
      "225158<>50844 pair\n"
     ]
    },
    {
     "name": "stderr",
     "output_type": "stream",
     "text": [
      "100%|██████████| 4848/4848 [00:00<00:00, 70312.13it/s]\n"
     ]
    },
    {
     "name": "stdout",
     "output_type": "stream",
     "text": [
      "225158<>51203 pair\n"
     ]
    },
    {
     "name": "stderr",
     "output_type": "stream",
     "text": [
      "100%|██████████| 4848/4848 [00:00<00:00, 71165.29it/s]\n"
     ]
    },
    {
     "name": "stdout",
     "output_type": "stream",
     "text": [
      "225158<>51208 pair\n"
     ]
    },
    {
     "name": "stderr",
     "output_type": "stream",
     "text": [
      "100%|██████████| 4848/4848 [00:00<00:00, 70681.92it/s]\n"
     ]
    },
    {
     "name": "stdout",
     "output_type": "stream",
     "text": [
      "225158<>51202 pair\n"
     ]
    },
    {
     "name": "stderr",
     "output_type": "stream",
     "text": [
      "100%|██████████| 4848/4848 [00:00<00:00, 69988.08it/s]\n"
     ]
    },
    {
     "name": "stdout",
     "output_type": "stream",
     "text": [
      "225158<>51012 pair\n"
     ]
    },
    {
     "name": "stderr",
     "output_type": "stream",
     "text": [
      "100%|██████████| 4848/4848 [00:00<00:00, 47046.98it/s]\n"
     ]
    },
    {
     "name": "stdout",
     "output_type": "stream",
     "text": [
      "225158<>51437 pair\n"
     ]
    },
    {
     "name": "stderr",
     "output_type": "stream",
     "text": [
      "100%|██████████| 4848/4848 [00:00<00:00, 70240.48it/s]\n"
     ]
    },
    {
     "name": "stdout",
     "output_type": "stream",
     "text": [
      "225158<>51432 pair\n"
     ]
    },
    {
     "name": "stderr",
     "output_type": "stream",
     "text": [
      "100%|██████████| 4848/4848 [00:00<00:00, 70970.55it/s]\n"
     ]
    },
    {
     "name": "stdout",
     "output_type": "stream",
     "text": [
      "225158<>51348 pair\n"
     ]
    },
    {
     "name": "stderr",
     "output_type": "stream",
     "text": [
      "100%|██████████| 4848/4848 [00:00<00:00, 48559.47it/s]\n"
     ]
    },
    {
     "name": "stdout",
     "output_type": "stream",
     "text": [
      "225158<>51023 pair\n"
     ]
    },
    {
     "name": "stderr",
     "output_type": "stream",
     "text": [
      "100%|██████████| 4848/4848 [00:00<00:00, 49097.17it/s]\n"
     ]
    },
    {
     "name": "stdout",
     "output_type": "stream",
     "text": [
      "225158<>51019 pair\n"
     ]
    },
    {
     "name": "stderr",
     "output_type": "stream",
     "text": [
      "100%|██████████| 4848/4848 [00:00<00:00, 47540.97it/s]\n"
     ]
    },
    {
     "name": "stdout",
     "output_type": "stream",
     "text": [
      "225158<>51022 pair\n"
     ]
    },
    {
     "name": "stderr",
     "output_type": "stream",
     "text": [
      "100%|██████████| 4848/4848 [00:00<00:00, 48009.49it/s]\n"
     ]
    },
    {
     "name": "stdout",
     "output_type": "stream",
     "text": [
      "225158<>51024 pair\n"
     ]
    },
    {
     "name": "stderr",
     "output_type": "stream",
     "text": [
      "100%|██████████| 4848/4848 [00:00<00:00, 48822.27it/s]\n"
     ]
    },
    {
     "name": "stdout",
     "output_type": "stream",
     "text": [
      "225158<>51381 pair\n"
     ]
    },
    {
     "name": "stderr",
     "output_type": "stream",
     "text": [
      "100%|██████████| 4848/4848 [00:00<00:00, 48720.26it/s]\n"
     ]
    },
    {
     "name": "stdout",
     "output_type": "stream",
     "text": [
      "225158<>51041 pair\n"
     ]
    },
    {
     "name": "stderr",
     "output_type": "stream",
     "text": [
      "100%|██████████| 4848/4848 [00:00<00:00, 69321.67it/s]\n"
     ]
    },
    {
     "name": "stdout",
     "output_type": "stream",
     "text": [
      "225158<>51398 pair\n"
     ]
    },
    {
     "name": "stderr",
     "output_type": "stream",
     "text": [
      "100%|██████████| 4848/4848 [00:00<00:00, 8675.02it/s] \n"
     ]
    },
    {
     "name": "stdout",
     "output_type": "stream",
     "text": [
      "225158<>51404 pair\n"
     ]
    },
    {
     "name": "stderr",
     "output_type": "stream",
     "text": [
      "100%|██████████| 4848/4848 [00:00<00:00, 8896.98it/s] \n"
     ]
    },
    {
     "name": "stdout",
     "output_type": "stream",
     "text": [
      "225158<>51406 pair\n"
     ]
    },
    {
     "name": "stderr",
     "output_type": "stream",
     "text": [
      "100%|██████████| 4848/4848 [00:00<00:00, 10032.98it/s]\n"
     ]
    },
    {
     "name": "stdout",
     "output_type": "stream",
     "text": [
      "225158<>50961 pair\n"
     ]
    },
    {
     "name": "stderr",
     "output_type": "stream",
     "text": [
      "100%|██████████| 4848/4848 [00:00<00:00, 24281.76it/s]\n"
     ]
    },
    {
     "name": "stdout",
     "output_type": "stream",
     "text": [
      "225158<>51515 pair\n"
     ]
    },
    {
     "name": "stderr",
     "output_type": "stream",
     "text": [
      "100%|██████████| 4848/4848 [00:00<00:00, 29737.40it/s]\n"
     ]
    },
    {
     "name": "stdout",
     "output_type": "stream",
     "text": [
      "225158<>51036 pair\n"
     ]
    },
    {
     "name": "stderr",
     "output_type": "stream",
     "text": [
      "100%|██████████| 4848/4848 [00:00<00:00, 69675.12it/s]\n"
     ]
    },
    {
     "name": "stdout",
     "output_type": "stream",
     "text": [
      "225158<>50921 pair\n"
     ]
    },
    {
     "name": "stderr",
     "output_type": "stream",
     "text": [
      "100%|██████████| 4848/4848 [00:00<00:00, 45472.00it/s]\n"
     ]
    },
    {
     "name": "stdout",
     "output_type": "stream",
     "text": [
      "225158<>51150 pair\n"
     ]
    },
    {
     "name": "stderr",
     "output_type": "stream",
     "text": [
      "100%|██████████| 4848/4848 [00:00<00:00, 69340.34it/s]\n"
     ]
    },
    {
     "name": "stdout",
     "output_type": "stream",
     "text": [
      "225158<>50916 pair\n"
     ]
    },
    {
     "name": "stderr",
     "output_type": "stream",
     "text": [
      "100%|██████████| 4848/4848 [00:00<00:00, 69331.36it/s]\n"
     ]
    },
    {
     "name": "stdout",
     "output_type": "stream",
     "text": [
      "225158<>50877 pair\n"
     ]
    },
    {
     "name": "stderr",
     "output_type": "stream",
     "text": [
      "100%|██████████| 4848/4848 [00:00<00:00, 69104.22it/s]\n"
     ]
    },
    {
     "name": "stdout",
     "output_type": "stream",
     "text": [
      "225158<>51353 pair\n"
     ]
    },
    {
     "name": "stderr",
     "output_type": "stream",
     "text": [
      "100%|██████████| 4848/4848 [00:00<00:00, 49177.44it/s]\n"
     ]
    },
    {
     "name": "stdout",
     "output_type": "stream",
     "text": [
      "225158<>51109 pair\n"
     ]
    },
    {
     "name": "stderr",
     "output_type": "stream",
     "text": [
      "100%|██████████| 4848/4848 [00:00<00:00, 24354.32it/s]\n"
     ]
    },
    {
     "name": "stdout",
     "output_type": "stream",
     "text": [
      "225158<>51106 pair\n"
     ]
    },
    {
     "name": "stderr",
     "output_type": "stream",
     "text": [
      "100%|██████████| 4848/4848 [00:00<00:00, 24268.37it/s]\n"
     ]
    },
    {
     "name": "stdout",
     "output_type": "stream",
     "text": [
      "225158<>51080 pair\n"
     ]
    },
    {
     "name": "stderr",
     "output_type": "stream",
     "text": [
      "100%|██████████| 4848/4848 [00:00<00:00, 24155.34it/s]\n"
     ]
    },
    {
     "name": "stdout",
     "output_type": "stream",
     "text": [
      "225158<>51081 pair\n"
     ]
    },
    {
     "name": "stderr",
     "output_type": "stream",
     "text": [
      "100%|██████████| 4848/4848 [00:00<00:00, 24199.46it/s]\n"
     ]
    },
    {
     "name": "stdout",
     "output_type": "stream",
     "text": [
      "225158<>51101 pair\n"
     ]
    },
    {
     "name": "stderr",
     "output_type": "stream",
     "text": [
      "100%|██████████| 4848/4848 [00:00<00:00, 24458.38it/s]\n"
     ]
    },
    {
     "name": "stdout",
     "output_type": "stream",
     "text": [
      "225158<>51488 pair\n"
     ]
    },
    {
     "name": "stderr",
     "output_type": "stream",
     "text": [
      "100%|██████████| 4848/4848 [00:00<00:00, 69389.09it/s]\n"
     ]
    },
    {
     "name": "stdout",
     "output_type": "stream",
     "text": [
      "225158<>51044 pair\n"
     ]
    },
    {
     "name": "stderr",
     "output_type": "stream",
     "text": [
      "100%|██████████| 4848/4848 [00:00<00:00, 47077.48it/s]\n"
     ]
    },
    {
     "name": "stdout",
     "output_type": "stream",
     "text": [
      "225158<>51160 pair\n"
     ]
    },
    {
     "name": "stderr",
     "output_type": "stream",
     "text": [
      "100%|██████████| 4848/4848 [00:00<00:00, 45755.22it/s]\n"
     ]
    },
    {
     "name": "stdout",
     "output_type": "stream",
     "text": [
      "225158<>51164 pair\n"
     ]
    },
    {
     "name": "stderr",
     "output_type": "stream",
     "text": [
      "100%|██████████| 4848/4848 [00:00<00:00, 47208.63it/s]\n"
     ]
    },
    {
     "name": "stdout",
     "output_type": "stream",
     "text": [
      "225158<>50847 pair\n"
     ]
    },
    {
     "name": "stderr",
     "output_type": "stream",
     "text": [
      "100%|██████████| 4848/4848 [00:00<00:00, 35144.94it/s]\n"
     ]
    },
    {
     "name": "stdout",
     "output_type": "stream",
     "text": [
      "225158<>50837 pair\n"
     ]
    },
    {
     "name": "stderr",
     "output_type": "stream",
     "text": [
      "100%|██████████| 4848/4848 [00:00<00:00, 40316.65it/s]\n"
     ]
    },
    {
     "name": "stdout",
     "output_type": "stream",
     "text": [
      "225158<>50848 pair\n"
     ]
    },
    {
     "name": "stderr",
     "output_type": "stream",
     "text": [
      "100%|██████████| 4848/4848 [00:00<00:00, 36809.79it/s]\n"
     ]
    },
    {
     "name": "stdout",
     "output_type": "stream",
     "text": [
      "225158<>50839 pair\n"
     ]
    },
    {
     "name": "stderr",
     "output_type": "stream",
     "text": [
      "100%|██████████| 4848/4848 [00:00<00:00, 46418.05it/s]\n"
     ]
    },
    {
     "name": "stdout",
     "output_type": "stream",
     "text": [
      "225158<>51066 pair\n"
     ]
    },
    {
     "name": "stderr",
     "output_type": "stream",
     "text": [
      "100%|██████████| 4848/4848 [00:00<00:00, 66613.55it/s]\n"
     ]
    },
    {
     "name": "stdout",
     "output_type": "stream",
     "text": [
      "225158<>51168 pair\n"
     ]
    },
    {
     "name": "stderr",
     "output_type": "stream",
     "text": [
      "100%|██████████| 4848/4848 [00:00<00:00, 45992.32it/s]\n"
     ]
    },
    {
     "name": "stdout",
     "output_type": "stream",
     "text": [
      "225158<>51210 pair\n"
     ]
    },
    {
     "name": "stderr",
     "output_type": "stream",
     "text": [
      "100%|██████████| 4848/4848 [00:00<00:00, 47332.15it/s]\n"
     ]
    },
    {
     "name": "stdout",
     "output_type": "stream",
     "text": [
      "225158<>51489 pair\n"
     ]
    },
    {
     "name": "stderr",
     "output_type": "stream",
     "text": [
      "100%|██████████| 4848/4848 [00:00<00:00, 69226.79it/s]\n"
     ]
    },
    {
     "name": "stdout",
     "output_type": "stream",
     "text": [
      "225158<>50865 pair\n"
     ]
    },
    {
     "name": "stderr",
     "output_type": "stream",
     "text": [
      "100%|██████████| 4848/4848 [00:00<00:00, 45811.19it/s]\n"
     ]
    },
    {
     "name": "stdout",
     "output_type": "stream",
     "text": [
      "225158<>51204 pair\n"
     ]
    },
    {
     "name": "stderr",
     "output_type": "stream",
     "text": [
      "100%|██████████| 4848/4848 [00:00<00:00, 35861.33it/s]\n"
     ]
    },
    {
     "name": "stdout",
     "output_type": "stream",
     "text": [
      "225158<>51205 pair\n"
     ]
    },
    {
     "name": "stderr",
     "output_type": "stream",
     "text": [
      "100%|██████████| 4848/4848 [00:00<00:00, 24717.66it/s]\n"
     ]
    },
    {
     "name": "stdout",
     "output_type": "stream",
     "text": [
      "225158<>51162 pair\n"
     ]
    },
    {
     "name": "stderr",
     "output_type": "stream",
     "text": [
      "100%|██████████| 4848/4848 [00:00<00:00, 66351.84it/s]\n"
     ]
    },
    {
     "name": "stdout",
     "output_type": "stream",
     "text": [
      "225158<>51175 pair\n"
     ]
    },
    {
     "name": "stderr",
     "output_type": "stream",
     "text": [
      "100%|██████████| 4848/4848 [00:00<00:00, 65969.96it/s]\n"
     ]
    },
    {
     "name": "stdout",
     "output_type": "stream",
     "text": [
      "225158<>51174 pair\n"
     ]
    },
    {
     "name": "stderr",
     "output_type": "stream",
     "text": [
      "100%|██████████| 4848/4848 [00:00<00:00, 67485.04it/s]\n"
     ]
    },
    {
     "name": "stdout",
     "output_type": "stream",
     "text": [
      "225158<>51163 pair\n"
     ]
    },
    {
     "name": "stderr",
     "output_type": "stream",
     "text": [
      "100%|██████████| 4848/4848 [00:00<00:00, 69735.33it/s]\n"
     ]
    },
    {
     "name": "stdout",
     "output_type": "stream",
     "text": [
      "225158<>51359 pair\n"
     ]
    },
    {
     "name": "stderr",
     "output_type": "stream",
     "text": [
      "100%|██████████| 4848/4848 [00:00<00:00, 70171.39it/s]\n"
     ]
    },
    {
     "name": "stdout",
     "output_type": "stream",
     "text": [
      "225158<>50851 pair\n"
     ]
    },
    {
     "name": "stderr",
     "output_type": "stream",
     "text": [
      "100%|██████████| 4848/4848 [00:00<00:00, 70779.84it/s]\n"
     ]
    },
    {
     "name": "stdout",
     "output_type": "stream",
     "text": [
      "225158<>51042 pair\n"
     ]
    },
    {
     "name": "stderr",
     "output_type": "stream",
     "text": [
      "100%|██████████| 4848/4848 [00:00<00:00, 70005.18it/s]\n"
     ]
    },
    {
     "name": "stdout",
     "output_type": "stream",
     "text": [
      "225158<>51027 pair\n"
     ]
    },
    {
     "name": "stderr",
     "output_type": "stream",
     "text": [
      "100%|██████████| 4848/4848 [00:00<00:00, 70773.93it/s]\n"
     ]
    },
    {
     "name": "stdout",
     "output_type": "stream",
     "text": [
      "225158<>51030 pair\n"
     ]
    },
    {
     "name": "stderr",
     "output_type": "stream",
     "text": [
      "100%|██████████| 4848/4848 [00:00<00:00, 70288.31it/s]\n"
     ]
    },
    {
     "name": "stdout",
     "output_type": "stream",
     "text": [
      "225158<>50962 pair\n"
     ]
    },
    {
     "name": "stderr",
     "output_type": "stream",
     "text": [
      "100%|██████████| 4848/4848 [00:00<00:00, 69804.52it/s]\n"
     ]
    },
    {
     "name": "stdout",
     "output_type": "stream",
     "text": [
      "225158<>50972 pair\n"
     ]
    },
    {
     "name": "stderr",
     "output_type": "stream",
     "text": [
      "100%|██████████| 4848/4848 [00:00<00:00, 70767.52it/s]\n"
     ]
    },
    {
     "name": "stdout",
     "output_type": "stream",
     "text": [
      "225158<>51409 pair\n"
     ]
    },
    {
     "name": "stderr",
     "output_type": "stream",
     "text": [
      "100%|██████████| 4848/4848 [00:00<00:00, 47639.21it/s]\n"
     ]
    },
    {
     "name": "stdout",
     "output_type": "stream",
     "text": [
      "225158<>51011 pair\n"
     ]
    },
    {
     "name": "stderr",
     "output_type": "stream",
     "text": [
      "100%|██████████| 4848/4848 [00:00<00:00, 49243.66it/s]\n"
     ]
    },
    {
     "name": "stdout",
     "output_type": "stream",
     "text": [
      "225158<>51380 pair\n"
     ]
    },
    {
     "name": "stderr",
     "output_type": "stream",
     "text": [
      "100%|██████████| 4848/4848 [00:00<00:00, 71058.84it/s]\n"
     ]
    },
    {
     "name": "stdout",
     "output_type": "stream",
     "text": [
      "225158<>51029 pair\n"
     ]
    },
    {
     "name": "stderr",
     "output_type": "stream",
     "text": [
      "100%|██████████| 4848/4848 [00:00<00:00, 70554.39it/s]\n"
     ]
    },
    {
     "name": "stdout",
     "output_type": "stream",
     "text": [
      "225158<>51040 pair\n"
     ]
    },
    {
     "name": "stderr",
     "output_type": "stream",
     "text": [
      "100%|██████████| 4848/4848 [00:00<00:00, 70639.68it/s]\n"
     ]
    },
    {
     "name": "stdout",
     "output_type": "stream",
     "text": [
      "225158<>51020 pair\n"
     ]
    },
    {
     "name": "stderr",
     "output_type": "stream",
     "text": [
      "100%|██████████| 4848/4848 [00:00<00:00, 71156.07it/s]\n"
     ]
    },
    {
     "name": "stdout",
     "output_type": "stream",
     "text": [
      "225158<>51361 pair\n"
     ]
    },
    {
     "name": "stderr",
     "output_type": "stream",
     "text": [
      "100%|██████████| 4848/4848 [00:00<00:00, 70190.77it/s]\n"
     ]
    },
    {
     "name": "stdout",
     "output_type": "stream",
     "text": [
      "225158<>51185 pair\n"
     ]
    },
    {
     "name": "stderr",
     "output_type": "stream",
     "text": [
      "100%|██████████| 4848/4848 [00:00<00:00, 70127.83it/s]\n"
     ]
    },
    {
     "name": "stdout",
     "output_type": "stream",
     "text": [
      "225158<>51186 pair\n"
     ]
    },
    {
     "name": "stderr",
     "output_type": "stream",
     "text": [
      "100%|██████████| 4848/4848 [00:00<00:00, 70448.54it/s]\n"
     ]
    },
    {
     "name": "stdout",
     "output_type": "stream",
     "text": [
      "225158<>51456 pair\n"
     ]
    },
    {
     "name": "stderr",
     "output_type": "stream",
     "text": [
      "100%|██████████| 4848/4848 [00:00<00:00, 46699.81it/s]\n"
     ]
    },
    {
     "name": "stdout",
     "output_type": "stream",
     "text": [
      "225158<>51240 pair\n"
     ]
    },
    {
     "name": "stderr",
     "output_type": "stream",
     "text": [
      "100%|██████████| 4848/4848 [00:00<00:00, 70563.45it/s]\n"
     ]
    },
    {
     "name": "stdout",
     "output_type": "stream",
     "text": [
      "225158<>51050 pair\n"
     ]
    },
    {
     "name": "stderr",
     "output_type": "stream",
     "text": [
      "100%|██████████| 4848/4848 [00:00<00:00, 70391.48it/s]\n"
     ]
    },
    {
     "name": "stdout",
     "output_type": "stream",
     "text": [
      "225158<>51057 pair\n"
     ]
    },
    {
     "name": "stderr",
     "output_type": "stream",
     "text": [
      "100%|██████████| 4848/4848 [00:00<00:00, 70359.81it/s]\n"
     ]
    },
    {
     "name": "stdout",
     "output_type": "stream",
     "text": [
      "225158<>51058 pair\n"
     ]
    },
    {
     "name": "stderr",
     "output_type": "stream",
     "text": [
      "100%|██████████| 4848/4848 [00:00<00:00, 69800.68it/s]\n"
     ]
    },
    {
     "name": "stdout",
     "output_type": "stream",
     "text": [
      "225158<>51048 pair\n"
     ]
    },
    {
     "name": "stderr",
     "output_type": "stream",
     "text": [
      "100%|██████████| 4848/4848 [00:00<00:00, 69681.08it/s]\n"
     ]
    },
    {
     "name": "stdout",
     "output_type": "stream",
     "text": [
      "225158<>51365 pair\n"
     ]
    },
    {
     "name": "stderr",
     "output_type": "stream",
     "text": [
      "100%|██████████| 4848/4848 [00:00<00:00, 48085.33it/s]\n"
     ]
    },
    {
     "name": "stdout",
     "output_type": "stream",
     "text": [
      "225158<>51280 pair\n"
     ]
    },
    {
     "name": "stderr",
     "output_type": "stream",
     "text": [
      "100%|██████████| 4848/4848 [00:00<00:00, 71047.42it/s]\n"
     ]
    },
    {
     "name": "stdout",
     "output_type": "stream",
     "text": [
      "225158<>51281 pair\n"
     ]
    },
    {
     "name": "stderr",
     "output_type": "stream",
     "text": [
      "100%|██████████| 4848/4848 [00:00<00:00, 71130.93it/s]\n"
     ]
    },
    {
     "name": "stdout",
     "output_type": "stream",
     "text": [
      "225158<>51346 pair\n"
     ]
    },
    {
     "name": "stderr",
     "output_type": "stream",
     "text": [
      "100%|██████████| 4848/4848 [00:00<00:00, 36819.59it/s]\n"
     ]
    },
    {
     "name": "stdout",
     "output_type": "stream",
     "text": [
      "225158<>51149 pair\n"
     ]
    },
    {
     "name": "stderr",
     "output_type": "stream",
     "text": [
      "100%|██████████| 4848/4848 [00:00<00:00, 71038.24it/s]\n"
     ]
    },
    {
     "name": "stdout",
     "output_type": "stream",
     "text": [
      "225158<>51126 pair\n"
     ]
    },
    {
     "name": "stderr",
     "output_type": "stream",
     "text": [
      "100%|██████████| 4848/4848 [00:00<00:00, 70557.57it/s]\n"
     ]
    },
    {
     "name": "stdout",
     "output_type": "stream",
     "text": [
      "225158<>51031 pair\n"
     ]
    },
    {
     "name": "stderr",
     "output_type": "stream",
     "text": [
      "100%|██████████| 4848/4848 [00:00<00:00, 70060.90it/s]\n"
     ]
    },
    {
     "name": "stdout",
     "output_type": "stream",
     "text": [
      "225158<>51121 pair\n"
     ]
    },
    {
     "name": "stderr",
     "output_type": "stream",
     "text": [
      "100%|██████████| 4848/4848 [00:00<00:00, 46770.06it/s]\n"
     ]
    },
    {
     "name": "stdout",
     "output_type": "stream",
     "text": [
      "225158<>51364 pair\n"
     ]
    },
    {
     "name": "stderr",
     "output_type": "stream",
     "text": [
      "100%|██████████| 4848/4848 [00:00<00:00, 70306.78it/s]\n"
     ]
    },
    {
     "name": "stdout",
     "output_type": "stream",
     "text": [
      "225158<>51038 pair\n"
     ]
    },
    {
     "name": "stderr",
     "output_type": "stream",
     "text": [
      "100%|██████████| 4848/4848 [00:00<00:00, 70693.22it/s]\n"
     ]
    },
    {
     "name": "stdout",
     "output_type": "stream",
     "text": [
      "225158<>51443 pair\n"
     ]
    },
    {
     "name": "stderr",
     "output_type": "stream",
     "text": [
      "100%|██████████| 4848/4848 [00:00<00:00, 70586.23it/s]\n"
     ]
    },
    {
     "name": "stdout",
     "output_type": "stream",
     "text": [
      "225158<>51113 pair\n"
     ]
    },
    {
     "name": "stderr",
     "output_type": "stream",
     "text": [
      "100%|██████████| 4848/4848 [00:00<00:00, 70724.20it/s]\n"
     ]
    },
    {
     "name": "stdout",
     "output_type": "stream",
     "text": [
      "225158<>51496 pair\n"
     ]
    },
    {
     "name": "stderr",
     "output_type": "stream",
     "text": [
      "100%|██████████| 4848/4848 [00:00<00:00, 68881.60it/s]\n"
     ]
    },
    {
     "name": "stdout",
     "output_type": "stream",
     "text": [
      "225158<>51039 pair\n"
     ]
    },
    {
     "name": "stderr",
     "output_type": "stream",
     "text": [
      "100%|██████████| 4848/4848 [00:00<00:00, 70567.36it/s]\n"
     ]
    },
    {
     "name": "stdout",
     "output_type": "stream",
     "text": [
      "225158<>51367 pair\n"
     ]
    },
    {
     "name": "stderr",
     "output_type": "stream",
     "text": [
      "100%|██████████| 4848/4848 [00:00<00:00, 70490.79it/s]\n"
     ]
    },
    {
     "name": "stdout",
     "output_type": "stream",
     "text": [
      "225158<>51170 pair\n"
     ]
    },
    {
     "name": "stderr",
     "output_type": "stream",
     "text": [
      "100%|██████████| 4848/4848 [00:00<00:00, 69350.27it/s]\n"
     ]
    },
    {
     "name": "stdout",
     "output_type": "stream",
     "text": [
      "225158<>51169 pair\n"
     ]
    },
    {
     "name": "stderr",
     "output_type": "stream",
     "text": [
      "100%|██████████| 4848/4848 [00:00<00:00, 70464.17it/s]\n"
     ]
    },
    {
     "name": "stdout",
     "output_type": "stream",
     "text": [
      "225158<>51166 pair\n"
     ]
    },
    {
     "name": "stderr",
     "output_type": "stream",
     "text": [
      "100%|██████████| 4848/4848 [00:00<00:00, 70765.55it/s]\n"
     ]
    },
    {
     "name": "stdout",
     "output_type": "stream",
     "text": [
      "225158<>51165 pair\n"
     ]
    },
    {
     "name": "stderr",
     "output_type": "stream",
     "text": [
      "100%|██████████| 4848/4848 [00:00<00:00, 69795.65it/s]\n"
     ]
    },
    {
     "name": "stdout",
     "output_type": "stream",
     "text": [
      "225158<>51037 pair\n"
     ]
    },
    {
     "name": "stderr",
     "output_type": "stream",
     "text": [
      "100%|██████████| 4848/4848 [00:00<00:00, 65510.87it/s]\n"
     ]
    },
    {
     "name": "stdout",
     "output_type": "stream",
     "text": [
      "225158<>51188 pair\n"
     ]
    },
    {
     "name": "stderr",
     "output_type": "stream",
     "text": [
      "100%|██████████| 4848/4848 [00:00<00:00, 67111.30it/s]\n"
     ]
    },
    {
     "name": "stdout",
     "output_type": "stream",
     "text": [
      "225158<>50947 pair\n"
     ]
    },
    {
     "name": "stderr",
     "output_type": "stream",
     "text": [
      "100%|██████████| 4848/4848 [00:00<00:00, 48670.82it/s]\n"
     ]
    },
    {
     "name": "stdout",
     "output_type": "stream",
     "text": [
      "225158<>51508 pair\n"
     ]
    },
    {
     "name": "stderr",
     "output_type": "stream",
     "text": [
      "100%|██████████| 4848/4848 [00:00<00:00, 70823.23it/s]\n"
     ]
    },
    {
     "name": "stdout",
     "output_type": "stream",
     "text": [
      "225158<>51451 pair\n"
     ]
    },
    {
     "name": "stderr",
     "output_type": "stream",
     "text": [
      "100%|██████████| 4848/4848 [00:00<00:00, 70629.38it/s]\n"
     ]
    },
    {
     "name": "stdout",
     "output_type": "stream",
     "text": [
      "220949<>50813 pair\n"
     ]
    },
    {
     "name": "stderr",
     "output_type": "stream",
     "text": [
      "100%|██████████| 5429/5429 [01:00<00:00, 90.08it/s] \n"
     ]
    },
    {
     "name": "stdout",
     "output_type": "stream",
     "text": [
      "220949<>50893 pair\n"
     ]
    },
    {
     "name": "stderr",
     "output_type": "stream",
     "text": [
      "100%|██████████| 5429/5429 [02:29<00:00, 36.25it/s]\n"
     ]
    },
    {
     "name": "stdout",
     "output_type": "stream",
     "text": [
      "220949<>50882 pair\n"
     ]
    },
    {
     "name": "stderr",
     "output_type": "stream",
     "text": [
      "100%|██████████| 5429/5429 [02:44<00:00, 33.10it/s]\n"
     ]
    },
    {
     "name": "stdout",
     "output_type": "stream",
     "text": [
      "220949<>50868 pair\n"
     ]
    },
    {
     "name": "stderr",
     "output_type": "stream",
     "text": [
      "100%|██████████| 5429/5429 [08:18<00:00, 10.90it/s]   \n"
     ]
    },
    {
     "name": "stdout",
     "output_type": "stream",
     "text": [
      "220949<>51275 pair\n"
     ]
    },
    {
     "name": "stderr",
     "output_type": "stream",
     "text": [
      "100%|██████████| 5429/5429 [02:22<00:00, 38.00it/s]\n"
     ]
    },
    {
     "name": "stdout",
     "output_type": "stream",
     "text": [
      "220949<>51237 pair\n"
     ]
    },
    {
     "name": "stderr",
     "output_type": "stream",
     "text": [
      "100%|██████████| 5429/5429 [02:17<00:00, 39.48it/s]\n"
     ]
    },
    {
     "name": "stdout",
     "output_type": "stream",
     "text": [
      "220949<>51274 pair\n"
     ]
    },
    {
     "name": "stderr",
     "output_type": "stream",
     "text": [
      "100%|██████████| 5429/5429 [02:18<00:00, 39.20it/s]\n"
     ]
    },
    {
     "name": "stdout",
     "output_type": "stream",
     "text": [
      "220949<>50820 pair\n"
     ]
    },
    {
     "name": "stderr",
     "output_type": "stream",
     "text": [
      "100%|██████████| 5429/5429 [01:07<00:00, 80.10it/s] \n"
     ]
    },
    {
     "name": "stdout",
     "output_type": "stream",
     "text": [
      "220949<>50802 pair\n"
     ]
    },
    {
     "name": "stderr",
     "output_type": "stream",
     "text": [
      "100%|██████████| 5429/5429 [01:05<00:00, 83.39it/s] \n"
     ]
    },
    {
     "name": "stdout",
     "output_type": "stream",
     "text": [
      "220949<>50804 pair\n"
     ]
    },
    {
     "name": "stderr",
     "output_type": "stream",
     "text": [
      "100%|██████████| 5429/5429 [01:04<00:00, 83.68it/s] \n"
     ]
    },
    {
     "name": "stdout",
     "output_type": "stream",
     "text": [
      "220949<>50818 pair\n"
     ]
    },
    {
     "name": "stderr",
     "output_type": "stream",
     "text": [
      "100%|██████████| 5429/5429 [01:05<00:00, 82.84it/s] \n"
     ]
    },
    {
     "name": "stdout",
     "output_type": "stream",
     "text": [
      "220949<>50902 pair\n"
     ]
    },
    {
     "name": "stderr",
     "output_type": "stream",
     "text": [
      "100%|██████████| 5429/5429 [02:43<00:00, 33.29it/s]\n"
     ]
    },
    {
     "name": "stdout",
     "output_type": "stream",
     "text": [
      "220949<>50821 pair\n"
     ]
    },
    {
     "name": "stderr",
     "output_type": "stream",
     "text": [
      "100%|██████████| 5429/5429 [01:06<00:00, 81.59it/s] \n"
     ]
    },
    {
     "name": "stdout",
     "output_type": "stream",
     "text": [
      "220949<>51222 pair\n"
     ]
    },
    {
     "name": "stderr",
     "output_type": "stream",
     "text": [
      "100%|██████████| 5429/5429 [02:43<00:00, 33.24it/s]\n"
     ]
    },
    {
     "name": "stdout",
     "output_type": "stream",
     "text": [
      "220949<>51221 pair\n"
     ]
    },
    {
     "name": "stderr",
     "output_type": "stream",
     "text": [
      "100%|██████████| 5429/5429 [02:44<00:00, 33.04it/s]\n"
     ]
    },
    {
     "name": "stdout",
     "output_type": "stream",
     "text": [
      "220949<>51006 pair\n"
     ]
    },
    {
     "name": "stderr",
     "output_type": "stream",
     "text": [
      "100%|██████████| 5429/5429 [02:43<00:00, 33.16it/s]\n"
     ]
    },
    {
     "name": "stdout",
     "output_type": "stream",
     "text": [
      "220949<>50983 pair\n"
     ]
    },
    {
     "name": "stderr",
     "output_type": "stream",
     "text": [
      "100%|██████████| 5429/5429 [02:43<00:00, 33.17it/s]\n"
     ]
    },
    {
     "name": "stdout",
     "output_type": "stream",
     "text": [
      "220949<>50971 pair\n"
     ]
    },
    {
     "name": "stderr",
     "output_type": "stream",
     "text": [
      "100%|██████████| 5429/5429 [02:45<00:00, 32.73it/s]\n"
     ]
    },
    {
     "name": "stdout",
     "output_type": "stream",
     "text": [
      "220949<>50970 pair\n"
     ]
    },
    {
     "name": "stderr",
     "output_type": "stream",
     "text": [
      "100%|██████████| 5429/5429 [02:39<00:00, 34.03it/s]\n"
     ]
    },
    {
     "name": "stdout",
     "output_type": "stream",
     "text": [
      "220949<>50960 pair\n"
     ]
    },
    {
     "name": "stderr",
     "output_type": "stream",
     "text": [
      "100%|██████████| 5429/5429 [02:34<00:00, 35.09it/s]\n"
     ]
    },
    {
     "name": "stdout",
     "output_type": "stream",
     "text": [
      "220949<>50931 pair\n"
     ]
    },
    {
     "name": "stderr",
     "output_type": "stream",
     "text": [
      "100%|██████████| 5429/5429 [02:44<00:00, 32.95it/s]\n"
     ]
    },
    {
     "name": "stdout",
     "output_type": "stream",
     "text": [
      "220949<>50912 pair\n"
     ]
    },
    {
     "name": "stderr",
     "output_type": "stream",
     "text": [
      "100%|██████████| 5429/5429 [02:45<00:00, 32.85it/s]\n"
     ]
    },
    {
     "name": "stdout",
     "output_type": "stream",
     "text": [
      "220949<>51248 pair\n"
     ]
    },
    {
     "name": "stderr",
     "output_type": "stream",
     "text": [
      "100%|██████████| 5429/5429 [02:42<00:00, 33.47it/s]\n"
     ]
    },
    {
     "name": "stdout",
     "output_type": "stream",
     "text": [
      "220949<>50810 pair\n"
     ]
    },
    {
     "name": "stderr",
     "output_type": "stream",
     "text": [
      "100%|██████████| 5429/5429 [00:31<00:00, 171.80it/s]\n"
     ]
    },
    {
     "name": "stdout",
     "output_type": "stream",
     "text": [
      "220949<>50809 pair\n"
     ]
    },
    {
     "name": "stderr",
     "output_type": "stream",
     "text": [
      "100%|██████████| 5429/5429 [00:36<00:00, 149.49it/s]\n"
     ]
    },
    {
     "name": "stdout",
     "output_type": "stream",
     "text": [
      "220949<>51143 pair\n"
     ]
    },
    {
     "name": "stderr",
     "output_type": "stream",
     "text": [
      "100%|██████████| 5429/5429 [00:18<00:00, 297.03it/s]\n"
     ]
    },
    {
     "name": "stdout",
     "output_type": "stream",
     "text": [
      "220949<>50956 pair\n"
     ]
    },
    {
     "name": "stderr",
     "output_type": "stream",
     "text": [
      "100%|██████████| 5429/5429 [00:27<00:00, 200.85it/s]\n"
     ]
    },
    {
     "name": "stdout",
     "output_type": "stream",
     "text": [
      "220949<>50862 pair\n"
     ]
    },
    {
     "name": "stderr",
     "output_type": "stream",
     "text": [
      "100%|██████████| 5429/5429 [01:17<00:00, 70.09it/s] \n"
     ]
    },
    {
     "name": "stdout",
     "output_type": "stream",
     "text": [
      "220949<>50885 pair\n"
     ]
    },
    {
     "name": "stderr",
     "output_type": "stream",
     "text": [
      "100%|██████████| 5429/5429 [01:26<00:00, 63.02it/s] \n"
     ]
    },
    {
     "name": "stdout",
     "output_type": "stream",
     "text": [
      "220949<>50863 pair\n"
     ]
    },
    {
     "name": "stderr",
     "output_type": "stream",
     "text": [
      "100%|██████████| 5429/5429 [01:26<00:00, 62.97it/s] \n"
     ]
    },
    {
     "name": "stdout",
     "output_type": "stream",
     "text": [
      "220949<>51498 pair\n"
     ]
    },
    {
     "name": "stderr",
     "output_type": "stream",
     "text": [
      "100%|██████████| 5429/5429 [01:28<00:00, 61.33it/s] \n"
     ]
    },
    {
     "name": "stdout",
     "output_type": "stream",
     "text": [
      "220949<>51491 pair\n"
     ]
    },
    {
     "name": "stderr",
     "output_type": "stream",
     "text": [
      "100%|██████████| 5429/5429 [01:30<00:00, 59.85it/s] \n"
     ]
    },
    {
     "name": "stdout",
     "output_type": "stream",
     "text": [
      "220949<>50911 pair\n"
     ]
    },
    {
     "name": "stderr",
     "output_type": "stream",
     "text": [
      "100%|██████████| 5429/5429 [00:49<00:00, 108.83it/s]\n"
     ]
    },
    {
     "name": "stdout",
     "output_type": "stream",
     "text": [
      "220949<>51301 pair\n"
     ]
    },
    {
     "name": "stderr",
     "output_type": "stream",
     "text": [
      "100%|██████████| 5429/5429 [02:42<00:00, 33.45it/s]\n"
     ]
    },
    {
     "name": "stdout",
     "output_type": "stream",
     "text": [
      "220949<>50981 pair\n"
     ]
    },
    {
     "name": "stderr",
     "output_type": "stream",
     "text": [
      "100%|██████████| 5429/5429 [00:00<00:00, 28394.99it/s]\n"
     ]
    },
    {
     "name": "stdout",
     "output_type": "stream",
     "text": [
      "220949<>50811 pair\n"
     ]
    },
    {
     "name": "stderr",
     "output_type": "stream",
     "text": [
      "100%|██████████| 5429/5429 [00:31<00:00, 169.91it/s]\n"
     ]
    },
    {
     "name": "stdout",
     "output_type": "stream",
     "text": [
      "220949<>51144 pair\n"
     ]
    },
    {
     "name": "stderr",
     "output_type": "stream",
     "text": [
      "100%|██████████| 5429/5429 [00:20<00:00, 269.83it/s]\n"
     ]
    },
    {
     "name": "stdout",
     "output_type": "stream",
     "text": [
      "220949<>51255 pair\n"
     ]
    },
    {
     "name": "stderr",
     "output_type": "stream",
     "text": [
      "100%|██████████| 5429/5429 [00:17<00:00, 303.92it/s]\n"
     ]
    },
    {
     "name": "stdout",
     "output_type": "stream",
     "text": [
      "220949<>50822 pair\n"
     ]
    },
    {
     "name": "stderr",
     "output_type": "stream",
     "text": [
      "100%|██████████| 5429/5429 [00:36<00:00, 148.49it/s]\n"
     ]
    },
    {
     "name": "stdout",
     "output_type": "stream",
     "text": [
      "220949<>50954 pair\n"
     ]
    },
    {
     "name": "stderr",
     "output_type": "stream",
     "text": [
      "100%|██████████| 5429/5429 [01:00<00:00, 89.48it/s] \n"
     ]
    },
    {
     "name": "stdout",
     "output_type": "stream",
     "text": [
      "220949<>51251 pair\n"
     ]
    },
    {
     "name": "stderr",
     "output_type": "stream",
     "text": [
      "100%|██████████| 5429/5429 [00:17<00:00, 308.06it/s]\n"
     ]
    },
    {
     "name": "stdout",
     "output_type": "stream",
     "text": [
      "220949<>51249 pair\n"
     ]
    },
    {
     "name": "stderr",
     "output_type": "stream",
     "text": [
      "100%|██████████| 5429/5429 [02:40<00:00, 33.85it/s]\n"
     ]
    },
    {
     "name": "stdout",
     "output_type": "stream",
     "text": [
      "220949<>51250 pair\n"
     ]
    },
    {
     "name": "stderr",
     "output_type": "stream",
     "text": [
      "100%|██████████| 5429/5429 [02:41<00:00, 33.67it/s]\n"
     ]
    },
    {
     "name": "stdout",
     "output_type": "stream",
     "text": [
      "220949<>50808 pair\n"
     ]
    },
    {
     "name": "stderr",
     "output_type": "stream",
     "text": [
      "100%|██████████| 5429/5429 [00:42<00:00, 126.81it/s]\n"
     ]
    },
    {
     "name": "stdout",
     "output_type": "stream",
     "text": [
      "220949<>50910 pair\n"
     ]
    },
    {
     "name": "stderr",
     "output_type": "stream",
     "text": [
      "100%|██████████| 5429/5429 [01:01<00:00, 87.87it/s] \n"
     ]
    },
    {
     "name": "stdout",
     "output_type": "stream",
     "text": [
      "220949<>51146 pair\n"
     ]
    },
    {
     "name": "stderr",
     "output_type": "stream",
     "text": [
      "100%|██████████| 5429/5429 [00:55<00:00, 97.89it/s] \n"
     ]
    },
    {
     "name": "stdout",
     "output_type": "stream",
     "text": [
      "220949<>51256 pair\n"
     ]
    },
    {
     "name": "stderr",
     "output_type": "stream",
     "text": [
      "100%|██████████| 5429/5429 [01:05<00:00, 82.36it/s] \n"
     ]
    },
    {
     "name": "stdout",
     "output_type": "stream",
     "text": [
      "220949<>51254 pair\n"
     ]
    },
    {
     "name": "stderr",
     "output_type": "stream",
     "text": [
      "100%|██████████| 5429/5429 [00:54<00:00, 99.02it/s] \n"
     ]
    },
    {
     "name": "stdout",
     "output_type": "stream",
     "text": [
      "220949<>51244 pair\n"
     ]
    },
    {
     "name": "stderr",
     "output_type": "stream",
     "text": [
      "100%|██████████| 5429/5429 [00:54<00:00, 99.53it/s] \n"
     ]
    },
    {
     "name": "stdout",
     "output_type": "stream",
     "text": [
      "220949<>51200 pair\n"
     ]
    },
    {
     "name": "stderr",
     "output_type": "stream",
     "text": [
      "100%|██████████| 5429/5429 [00:54<00:00, 99.44it/s] \n"
     ]
    },
    {
     "name": "stdout",
     "output_type": "stream",
     "text": [
      "220949<>50825 pair\n"
     ]
    },
    {
     "name": "stderr",
     "output_type": "stream",
     "text": [
      "100%|██████████| 5429/5429 [00:17<00:00, 307.46it/s]\n"
     ]
    },
    {
     "name": "stdout",
     "output_type": "stream",
     "text": [
      "220949<>51059 pair\n"
     ]
    },
    {
     "name": "stderr",
     "output_type": "stream",
     "text": [
      "100%|██████████| 5429/5429 [00:02<00:00, 1953.05it/s] \n"
     ]
    },
    {
     "name": "stdout",
     "output_type": "stream",
     "text": [
      "220949<>51054 pair\n"
     ]
    },
    {
     "name": "stderr",
     "output_type": "stream",
     "text": [
      "100%|██████████| 5429/5429 [00:02<00:00, 1984.18it/s] \n"
     ]
    },
    {
     "name": "stdout",
     "output_type": "stream",
     "text": [
      "220949<>51053 pair\n"
     ]
    },
    {
     "name": "stderr",
     "output_type": "stream",
     "text": [
      "100%|██████████| 5429/5429 [00:02<00:00, 2066.65it/s] \n"
     ]
    },
    {
     "name": "stdout",
     "output_type": "stream",
     "text": [
      "220949<>51046 pair\n"
     ]
    },
    {
     "name": "stderr",
     "output_type": "stream",
     "text": [
      "100%|██████████| 5429/5429 [00:01<00:00, 4640.63it/s] \n"
     ]
    },
    {
     "name": "stdout",
     "output_type": "stream",
     "text": [
      "220949<>50806 pair\n"
     ]
    },
    {
     "name": "stderr",
     "output_type": "stream",
     "text": [
      "100%|██████████| 5429/5429 [00:30<00:00, 176.10it/s]\n"
     ]
    },
    {
     "name": "stdout",
     "output_type": "stream",
     "text": [
      "220949<>50824 pair\n"
     ]
    },
    {
     "name": "stderr",
     "output_type": "stream",
     "text": [
      "100%|██████████| 5429/5429 [00:31<00:00, 172.90it/s]\n"
     ]
    },
    {
     "name": "stdout",
     "output_type": "stream",
     "text": [
      "220949<>51279 pair\n"
     ]
    },
    {
     "name": "stderr",
     "output_type": "stream",
     "text": [
      "100%|██████████| 5429/5429 [02:40<00:00, 33.81it/s]\n"
     ]
    },
    {
     "name": "stdout",
     "output_type": "stream",
     "text": [
      "220949<>51277 pair\n"
     ]
    },
    {
     "name": "stderr",
     "output_type": "stream",
     "text": [
      "100%|██████████| 5429/5429 [03:38<00:00, 24.88it/s]  \n"
     ]
    },
    {
     "name": "stdout",
     "output_type": "stream",
     "text": [
      "220949<>51265 pair\n"
     ]
    },
    {
     "name": "stderr",
     "output_type": "stream",
     "text": [
      "100%|██████████| 5429/5429 [02:39<00:00, 33.96it/s]\n"
     ]
    },
    {
     "name": "stdout",
     "output_type": "stream",
     "text": [
      "220949<>50819 pair\n"
     ]
    },
    {
     "name": "stderr",
     "output_type": "stream",
     "text": [
      "100%|██████████| 5429/5429 [00:10<00:00, 521.76it/s]\n"
     ]
    },
    {
     "name": "stdout",
     "output_type": "stream",
     "text": [
      "220949<>50816 pair\n"
     ]
    },
    {
     "name": "stderr",
     "output_type": "stream",
     "text": [
      "100%|██████████| 5429/5429 [00:17<00:00, 313.38it/s]\n"
     ]
    },
    {
     "name": "stdout",
     "output_type": "stream",
     "text": [
      "220949<>50878 pair\n"
     ]
    },
    {
     "name": "stderr",
     "output_type": "stream",
     "text": [
      "100%|██████████| 5429/5429 [01:26<00:00, 62.70it/s] \n"
     ]
    },
    {
     "name": "stdout",
     "output_type": "stream",
     "text": [
      "220949<>50861 pair\n"
     ]
    },
    {
     "name": "stderr",
     "output_type": "stream",
     "text": [
      "100%|██████████| 5429/5429 [01:38<00:00, 55.11it/s] \n"
     ]
    },
    {
     "name": "stdout",
     "output_type": "stream",
     "text": [
      "220949<>50993 pair\n"
     ]
    },
    {
     "name": "stderr",
     "output_type": "stream",
     "text": [
      "100%|██████████| 5429/5429 [00:19<00:00, 276.49it/s]\n"
     ]
    },
    {
     "name": "stdout",
     "output_type": "stream",
     "text": [
      "220949<>50994 pair\n"
     ]
    },
    {
     "name": "stderr",
     "output_type": "stream",
     "text": [
      "100%|██████████| 5429/5429 [00:02<00:00, 2125.58it/s] \n"
     ]
    },
    {
     "name": "stdout",
     "output_type": "stream",
     "text": [
      "220949<>50935 pair\n"
     ]
    },
    {
     "name": "stderr",
     "output_type": "stream",
     "text": [
      "100%|██████████| 5429/5429 [00:08<00:00, 671.82it/s] \n"
     ]
    },
    {
     "name": "stdout",
     "output_type": "stream",
     "text": [
      "220949<>51010 pair\n"
     ]
    },
    {
     "name": "stderr",
     "output_type": "stream",
     "text": [
      "100%|██████████| 5429/5429 [06:54<00:00, 13.10it/s]  \n"
     ]
    },
    {
     "name": "stdout",
     "output_type": "stream",
     "text": [
      "220949<>50815 pair\n"
     ]
    },
    {
     "name": "stderr",
     "output_type": "stream",
     "text": [
      "100%|██████████| 5429/5429 [00:04<00:00, 1116.56it/s]\n"
     ]
    },
    {
     "name": "stdout",
     "output_type": "stream",
     "text": [
      "220949<>50817 pair\n"
     ]
    },
    {
     "name": "stderr",
     "output_type": "stream",
     "text": [
      "100%|██████████| 5429/5429 [31:50<00:00,  2.84it/s]  \n"
     ]
    },
    {
     "name": "stdout",
     "output_type": "stream",
     "text": [
      "220949<>50998 pair\n"
     ]
    },
    {
     "name": "stderr",
     "output_type": "stream",
     "text": [
      "100%|██████████| 5429/5429 [17:28<00:00,  5.18it/s]  \n"
     ]
    },
    {
     "name": "stdout",
     "output_type": "stream",
     "text": [
      "220949<>50952 pair\n"
     ]
    },
    {
     "name": "stderr",
     "output_type": "stream",
     "text": [
      "100%|██████████| 5429/5429 [00:18<00:00, 296.09it/s]\n"
     ]
    },
    {
     "name": "stdout",
     "output_type": "stream",
     "text": [
      "220949<>51288 pair\n"
     ]
    },
    {
     "name": "stderr",
     "output_type": "stream",
     "text": [
      "100%|██████████| 5429/5429 [00:08<00:00, 662.64it/s] \n"
     ]
    },
    {
     "name": "stdout",
     "output_type": "stream",
     "text": [
      "220949<>51003 pair\n"
     ]
    },
    {
     "name": "stderr",
     "output_type": "stream",
     "text": [
      "100%|██████████| 5429/5429 [00:36<00:00, 149.59it/s]\n"
     ]
    },
    {
     "name": "stdout",
     "output_type": "stream",
     "text": [
      "220949<>50889 pair\n"
     ]
    },
    {
     "name": "stderr",
     "output_type": "stream",
     "text": [
      "100%|██████████| 5429/5429 [00:06<00:00, 790.92it/s] \n"
     ]
    },
    {
     "name": "stdout",
     "output_type": "stream",
     "text": [
      "220949<>50867 pair\n"
     ]
    },
    {
     "name": "stderr",
     "output_type": "stream",
     "text": [
      "100%|██████████| 5429/5429 [00:28<00:00, 192.82it/s]\n"
     ]
    },
    {
     "name": "stdout",
     "output_type": "stream",
     "text": [
      "220949<>51493 pair\n"
     ]
    },
    {
     "name": "stderr",
     "output_type": "stream",
     "text": [
      "100%|██████████| 5429/5429 [00:41<00:00, 129.60it/s]\n"
     ]
    },
    {
     "name": "stdout",
     "output_type": "stream",
     "text": [
      "220949<>51482 pair\n"
     ]
    },
    {
     "name": "stderr",
     "output_type": "stream",
     "text": [
      "100%|██████████| 5429/5429 [00:18<00:00, 299.84it/s]\n"
     ]
    },
    {
     "name": "stdout",
     "output_type": "stream",
     "text": [
      "220949<>51476 pair\n"
     ]
    },
    {
     "name": "stderr",
     "output_type": "stream",
     "text": [
      "100%|██████████| 5429/5429 [00:41<00:00, 129.56it/s]\n"
     ]
    },
    {
     "name": "stdout",
     "output_type": "stream",
     "text": [
      "220949<>50963 pair\n"
     ]
    },
    {
     "name": "stderr",
     "output_type": "stream",
     "text": [
      "100%|██████████| 5429/5429 [00:07<00:00, 766.54it/s] \n"
     ]
    },
    {
     "name": "stdout",
     "output_type": "stream",
     "text": [
      "220949<>50883 pair\n"
     ]
    },
    {
     "name": "stderr",
     "output_type": "stream",
     "text": [
      "100%|██████████| 5429/5429 [00:10<00:00, 513.56it/s] \n"
     ]
    },
    {
     "name": "stdout",
     "output_type": "stream",
     "text": [
      "220949<>50884 pair\n"
     ]
    },
    {
     "name": "stderr",
     "output_type": "stream",
     "text": [
      "100%|██████████| 5429/5429 [00:10<00:00, 530.47it/s] \n"
     ]
    },
    {
     "name": "stdout",
     "output_type": "stream",
     "text": [
      "220949<>51283 pair\n"
     ]
    },
    {
     "name": "stderr",
     "output_type": "stream",
     "text": [
      "100%|██████████| 5429/5429 [00:08<00:00, 650.55it/s] \n"
     ]
    },
    {
     "name": "stdout",
     "output_type": "stream",
     "text": [
      "220949<>50924 pair\n"
     ]
    },
    {
     "name": "stderr",
     "output_type": "stream",
     "text": [
      "100%|██████████| 5429/5429 [00:14<00:00, 370.95it/s]\n"
     ]
    },
    {
     "name": "stdout",
     "output_type": "stream",
     "text": [
      "220949<>50953 pair\n"
     ]
    },
    {
     "name": "stderr",
     "output_type": "stream",
     "text": [
      "100%|██████████| 5429/5429 [00:14<00:00, 366.38it/s]\n"
     ]
    },
    {
     "name": "stdout",
     "output_type": "stream",
     "text": [
      "220949<>51007 pair\n"
     ]
    },
    {
     "name": "stderr",
     "output_type": "stream",
     "text": [
      "100%|██████████| 5429/5429 [00:06<00:00, 840.37it/s] \n"
     ]
    },
    {
     "name": "stdout",
     "output_type": "stream",
     "text": [
      "220949<>51478 pair\n"
     ]
    },
    {
     "name": "stderr",
     "output_type": "stream",
     "text": [
      "100%|██████████| 5429/5429 [00:09<00:00, 578.93it/s] \n"
     ]
    },
    {
     "name": "stdout",
     "output_type": "stream",
     "text": [
      "220949<>51514 pair\n"
     ]
    },
    {
     "name": "stderr",
     "output_type": "stream",
     "text": [
      "100%|██████████| 5429/5429 [00:20<00:00, 269.63it/s]\n"
     ]
    },
    {
     "name": "stdout",
     "output_type": "stream",
     "text": [
      "220949<>50967 pair\n"
     ]
    },
    {
     "name": "stderr",
     "output_type": "stream",
     "text": [
      "100%|██████████| 5429/5429 [00:08<00:00, 655.82it/s] \n"
     ]
    },
    {
     "name": "stdout",
     "output_type": "stream",
     "text": [
      "220949<>50803 pair\n"
     ]
    },
    {
     "name": "stderr",
     "output_type": "stream",
     "text": [
      "100%|██████████| 5429/5429 [00:03<00:00, 1488.24it/s]\n"
     ]
    },
    {
     "name": "stdout",
     "output_type": "stream",
     "text": [
      "220949<>50826 pair\n"
     ]
    },
    {
     "name": "stderr",
     "output_type": "stream",
     "text": [
      "100%|██████████| 5429/5429 [00:13<00:00, 412.61it/s]\n"
     ]
    },
    {
     "name": "stdout",
     "output_type": "stream",
     "text": [
      "220949<>50964 pair\n"
     ]
    },
    {
     "name": "stderr",
     "output_type": "stream",
     "text": [
      "100%|██████████| 5429/5429 [00:09<00:00, 588.52it/s] \n"
     ]
    },
    {
     "name": "stdout",
     "output_type": "stream",
     "text": [
      "220949<>51214 pair\n"
     ]
    },
    {
     "name": "stderr",
     "output_type": "stream",
     "text": [
      "100%|██████████| 5429/5429 [00:17<00:00, 312.08it/s]\n"
     ]
    },
    {
     "name": "stdout",
     "output_type": "stream",
     "text": [
      "220949<>50801 pair\n"
     ]
    },
    {
     "name": "stderr",
     "output_type": "stream",
     "text": [
      "100%|██████████| 5429/5429 [00:06<00:00, 835.72it/s] \n"
     ]
    },
    {
     "name": "stdout",
     "output_type": "stream",
     "text": [
      "220949<>50823 pair\n"
     ]
    },
    {
     "name": "stderr",
     "output_type": "stream",
     "text": [
      "100%|██████████| 5429/5429 [00:06<00:00, 830.70it/s] \n"
     ]
    },
    {
     "name": "stdout",
     "output_type": "stream",
     "text": [
      "220949<>51492 pair\n"
     ]
    },
    {
     "name": "stderr",
     "output_type": "stream",
     "text": [
      "100%|██████████| 5429/5429 [00:30<00:00, 178.75it/s]\n"
     ]
    },
    {
     "name": "stdout",
     "output_type": "stream",
     "text": [
      "220949<>51463 pair\n"
     ]
    },
    {
     "name": "stderr",
     "output_type": "stream",
     "text": [
      "100%|██████████| 5429/5429 [00:00<00:00, 8871.54it/s] \n"
     ]
    },
    {
     "name": "stdout",
     "output_type": "stream",
     "text": [
      "220949<>51484 pair\n"
     ]
    },
    {
     "name": "stderr",
     "output_type": "stream",
     "text": [
      "100%|██████████| 5429/5429 [00:12<00:00, 450.04it/s]\n"
     ]
    },
    {
     "name": "stdout",
     "output_type": "stream",
     "text": [
      "220949<>51516 pair\n"
     ]
    },
    {
     "name": "stderr",
     "output_type": "stream",
     "text": [
      "100%|██████████| 5429/5429 [00:41<00:00, 132.19it/s]\n"
     ]
    },
    {
     "name": "stdout",
     "output_type": "stream",
     "text": [
      "220949<>51097 pair\n"
     ]
    },
    {
     "name": "stderr",
     "output_type": "stream",
     "text": [
      "100%|██████████| 5429/5429 [00:15<00:00, 348.86it/s]\n"
     ]
    },
    {
     "name": "stdout",
     "output_type": "stream",
     "text": [
      "220949<>51100 pair\n"
     ]
    },
    {
     "name": "stderr",
     "output_type": "stream",
     "text": [
      "100%|██████████| 5429/5429 [00:21<00:00, 253.44it/s]\n"
     ]
    },
    {
     "name": "stdout",
     "output_type": "stream",
     "text": [
      "220949<>51082 pair\n"
     ]
    },
    {
     "name": "stderr",
     "output_type": "stream",
     "text": [
      "100%|██████████| 5429/5429 [00:25<00:00, 209.14it/s]\n"
     ]
    },
    {
     "name": "stdout",
     "output_type": "stream",
     "text": [
      "220949<>51078 pair\n"
     ]
    },
    {
     "name": "stderr",
     "output_type": "stream",
     "text": [
      "100%|██████████| 5429/5429 [00:14<00:00, 384.04it/s] \n"
     ]
    },
    {
     "name": "stdout",
     "output_type": "stream",
     "text": [
      "220949<>51497 pair\n"
     ]
    },
    {
     "name": "stderr",
     "output_type": "stream",
     "text": [
      "100%|██████████| 5429/5429 [00:00<00:00, 12925.39it/s]\n"
     ]
    },
    {
     "name": "stdout",
     "output_type": "stream",
     "text": [
      "220949<>51501 pair\n"
     ]
    },
    {
     "name": "stderr",
     "output_type": "stream",
     "text": [
      "100%|██████████| 5429/5429 [00:02<00:00, 2472.28it/s]\n"
     ]
    },
    {
     "name": "stdout",
     "output_type": "stream",
     "text": [
      "220949<>50852 pair\n"
     ]
    },
    {
     "name": "stderr",
     "output_type": "stream",
     "text": [
      "100%|██████████| 5429/5429 [00:34<00:00, 155.30it/s]\n"
     ]
    },
    {
     "name": "stdout",
     "output_type": "stream",
     "text": [
      "220949<>50908 pair\n"
     ]
    },
    {
     "name": "stderr",
     "output_type": "stream",
     "text": [
      "100%|██████████| 5429/5429 [00:10<00:00, 516.89it/s]\n"
     ]
    },
    {
     "name": "stdout",
     "output_type": "stream",
     "text": [
      "220949<>50915 pair\n"
     ]
    },
    {
     "name": "stderr",
     "output_type": "stream",
     "text": [
      "100%|██████████| 5429/5429 [00:01<00:00, 3519.74it/s] \n"
     ]
    },
    {
     "name": "stdout",
     "output_type": "stream",
     "text": [
      "220949<>51093 pair\n"
     ]
    },
    {
     "name": "stderr",
     "output_type": "stream",
     "text": [
      "100%|██████████| 5429/5429 [00:18<00:00, 296.22it/s]\n"
     ]
    },
    {
     "name": "stdout",
     "output_type": "stream",
     "text": [
      "220949<>50922 pair\n"
     ]
    },
    {
     "name": "stderr",
     "output_type": "stream",
     "text": [
      "100%|██████████| 5429/5429 [00:00<00:00, 20364.45it/s]\n"
     ]
    },
    {
     "name": "stdout",
     "output_type": "stream",
     "text": [
      "220949<>51104 pair\n"
     ]
    },
    {
     "name": "stderr",
     "output_type": "stream",
     "text": [
      "100%|██████████| 5429/5429 [00:16<00:00, 334.64it/s]\n"
     ]
    },
    {
     "name": "stdout",
     "output_type": "stream",
     "text": [
      "220949<>50925 pair\n"
     ]
    },
    {
     "name": "stderr",
     "output_type": "stream",
     "text": [
      "100%|██████████| 5429/5429 [00:06<00:00, 859.59it/s] \n"
     ]
    },
    {
     "name": "stdout",
     "output_type": "stream",
     "text": [
      "220949<>50905 pair\n"
     ]
    },
    {
     "name": "stderr",
     "output_type": "stream",
     "text": [
      "100%|██████████| 5429/5429 [00:14<00:00, 365.53it/s] \n"
     ]
    },
    {
     "name": "stdout",
     "output_type": "stream",
     "text": [
      "220949<>50903 pair\n"
     ]
    },
    {
     "name": "stderr",
     "output_type": "stream",
     "text": [
      "100%|██████████| 5429/5429 [00:15<00:00, 345.81it/s] \n"
     ]
    },
    {
     "name": "stdout",
     "output_type": "stream",
     "text": [
      "220949<>50904 pair\n"
     ]
    },
    {
     "name": "stderr",
     "output_type": "stream",
     "text": [
      "100%|██████████| 5429/5429 [00:15<00:00, 347.31it/s] \n"
     ]
    },
    {
     "name": "stdout",
     "output_type": "stream",
     "text": [
      "220949<>50907 pair\n"
     ]
    },
    {
     "name": "stderr",
     "output_type": "stream",
     "text": [
      "100%|██████████| 5429/5429 [00:16<00:00, 330.95it/s] \n"
     ]
    },
    {
     "name": "stdout",
     "output_type": "stream",
     "text": [
      "220949<>51000 pair\n"
     ]
    },
    {
     "name": "stderr",
     "output_type": "stream",
     "text": [
      "100%|██████████| 5429/5429 [00:20<00:00, 264.26it/s] \n"
     ]
    },
    {
     "name": "stdout",
     "output_type": "stream",
     "text": [
      "220949<>50957 pair\n"
     ]
    },
    {
     "name": "stderr",
     "output_type": "stream",
     "text": [
      "100%|██████████| 5429/5429 [00:00<00:00, 12704.50it/s]\n"
     ]
    },
    {
     "name": "stdout",
     "output_type": "stream",
     "text": [
      "220949<>51008 pair\n"
     ]
    },
    {
     "name": "stderr",
     "output_type": "stream",
     "text": [
      "100%|██████████| 5429/5429 [00:00<00:00, 10046.76it/s]\n"
     ]
    },
    {
     "name": "stdout",
     "output_type": "stream",
     "text": [
      "220949<>50917 pair\n"
     ]
    },
    {
     "name": "stderr",
     "output_type": "stream",
     "text": [
      "100%|██████████| 5429/5429 [00:03<00:00, 1668.73it/s]\n"
     ]
    },
    {
     "name": "stdout",
     "output_type": "stream",
     "text": [
      "220949<>51009 pair\n"
     ]
    },
    {
     "name": "stderr",
     "output_type": "stream",
     "text": [
      "100%|██████████| 5429/5429 [00:10<00:00, 495.94it/s] \n"
     ]
    },
    {
     "name": "stdout",
     "output_type": "stream",
     "text": [
      "220949<>51479 pair\n"
     ]
    },
    {
     "name": "stderr",
     "output_type": "stream",
     "text": [
      "100%|██████████| 5429/5429 [00:04<00:00, 1314.79it/s]\n"
     ]
    },
    {
     "name": "stdout",
     "output_type": "stream",
     "text": [
      "220949<>51434 pair\n"
     ]
    },
    {
     "name": "stderr",
     "output_type": "stream",
     "text": [
      "100%|██████████| 5429/5429 [00:00<00:00, 7356.63it/s] \n"
     ]
    },
    {
     "name": "stdout",
     "output_type": "stream",
     "text": [
      "220949<>51436 pair\n"
     ]
    },
    {
     "name": "stderr",
     "output_type": "stream",
     "text": [
      "100%|██████████| 5429/5429 [00:01<00:00, 2785.27it/s]\n"
     ]
    },
    {
     "name": "stdout",
     "output_type": "stream",
     "text": [
      "220949<>51438 pair\n"
     ]
    },
    {
     "name": "stderr",
     "output_type": "stream",
     "text": [
      "100%|██████████| 5429/5429 [00:01<00:00, 4522.36it/s] \n"
     ]
    },
    {
     "name": "stdout",
     "output_type": "stream",
     "text": [
      "220949<>51439 pair\n"
     ]
    },
    {
     "name": "stderr",
     "output_type": "stream",
     "text": [
      "100%|██████████| 5429/5429 [00:01<00:00, 3672.69it/s]\n"
     ]
    },
    {
     "name": "stdout",
     "output_type": "stream",
     "text": [
      "220949<>51025 pair\n"
     ]
    },
    {
     "name": "stderr",
     "output_type": "stream",
     "text": [
      "100%|██████████| 5429/5429 [00:00<00:00, 9269.28it/s] \n"
     ]
    },
    {
     "name": "stdout",
     "output_type": "stream",
     "text": [
      "220949<>51431 pair\n"
     ]
    },
    {
     "name": "stderr",
     "output_type": "stream",
     "text": [
      "100%|██████████| 5429/5429 [00:01<00:00, 2870.60it/s] \n"
     ]
    },
    {
     "name": "stdout",
     "output_type": "stream",
     "text": [
      "220949<>51427 pair\n"
     ]
    },
    {
     "name": "stderr",
     "output_type": "stream",
     "text": [
      "100%|██████████| 5429/5429 [00:01<00:00, 2853.51it/s]\n"
     ]
    },
    {
     "name": "stdout",
     "output_type": "stream",
     "text": [
      "220949<>51034 pair\n"
     ]
    },
    {
     "name": "stderr",
     "output_type": "stream",
     "text": [
      "100%|██████████| 5429/5429 [00:00<00:00, 9912.06it/s] \n"
     ]
    },
    {
     "name": "stdout",
     "output_type": "stream",
     "text": [
      "220949<>51043 pair\n"
     ]
    },
    {
     "name": "stderr",
     "output_type": "stream",
     "text": [
      "100%|██████████| 5429/5429 [00:00<00:00, 8460.21it/s] \n"
     ]
    },
    {
     "name": "stdout",
     "output_type": "stream",
     "text": [
      "220949<>51035 pair\n"
     ]
    },
    {
     "name": "stderr",
     "output_type": "stream",
     "text": [
      "100%|██████████| 5429/5429 [00:00<00:00, 10572.11it/s]\n"
     ]
    },
    {
     "name": "stdout",
     "output_type": "stream",
     "text": [
      "220949<>50866 pair\n"
     ]
    },
    {
     "name": "stderr",
     "output_type": "stream",
     "text": [
      "100%|██████████| 5429/5429 [00:01<00:00, 2794.94it/s] \n"
     ]
    },
    {
     "name": "stdout",
     "output_type": "stream",
     "text": [
      "220949<>50805 pair\n"
     ]
    },
    {
     "name": "stderr",
     "output_type": "stream",
     "text": [
      "100%|██████████| 5429/5429 [00:00<00:00, 5514.14it/s]\n"
     ]
    },
    {
     "name": "stdout",
     "output_type": "stream",
     "text": [
      "220949<>50814 pair\n"
     ]
    },
    {
     "name": "stderr",
     "output_type": "stream",
     "text": [
      "100%|██████████| 5429/5429 [00:00<00:00, 5975.10it/s]\n"
     ]
    },
    {
     "name": "stdout",
     "output_type": "stream",
     "text": [
      "220949<>51014 pair\n"
     ]
    },
    {
     "name": "stderr",
     "output_type": "stream",
     "text": [
      "100%|██████████| 5429/5429 [00:02<00:00, 2535.75it/s] \n"
     ]
    },
    {
     "name": "stdout",
     "output_type": "stream",
     "text": [
      "220949<>51018 pair\n"
     ]
    },
    {
     "name": "stderr",
     "output_type": "stream",
     "text": [
      "100%|██████████| 5429/5429 [00:02<00:00, 2542.44it/s] \n"
     ]
    },
    {
     "name": "stdout",
     "output_type": "stream",
     "text": [
      "220949<>51351 pair\n"
     ]
    },
    {
     "name": "stderr",
     "output_type": "stream",
     "text": [
      "100%|██████████| 5429/5429 [00:02<00:00, 2433.03it/s] \n"
     ]
    },
    {
     "name": "stdout",
     "output_type": "stream",
     "text": [
      "220949<>51355 pair\n"
     ]
    },
    {
     "name": "stderr",
     "output_type": "stream",
     "text": [
      "100%|██████████| 5429/5429 [00:02<00:00, 2417.85it/s] \n"
     ]
    },
    {
     "name": "stdout",
     "output_type": "stream",
     "text": [
      "220949<>51360 pair\n"
     ]
    },
    {
     "name": "stderr",
     "output_type": "stream",
     "text": [
      "100%|██████████| 5429/5429 [00:02<00:00, 2439.35it/s] \n"
     ]
    },
    {
     "name": "stdout",
     "output_type": "stream",
     "text": [
      "220949<>51362 pair\n"
     ]
    },
    {
     "name": "stderr",
     "output_type": "stream",
     "text": [
      "100%|██████████| 5429/5429 [00:02<00:00, 2482.58it/s] \n"
     ]
    },
    {
     "name": "stdout",
     "output_type": "stream",
     "text": [
      "220949<>51363 pair\n"
     ]
    },
    {
     "name": "stderr",
     "output_type": "stream",
     "text": [
      "100%|██████████| 5429/5429 [00:02<00:00, 2475.03it/s] \n"
     ]
    },
    {
     "name": "stdout",
     "output_type": "stream",
     "text": [
      "220949<>50856 pair\n"
     ]
    },
    {
     "name": "stderr",
     "output_type": "stream",
     "text": [
      "100%|██████████| 5429/5429 [00:00<00:00, 8266.46it/s] \n"
     ]
    },
    {
     "name": "stdout",
     "output_type": "stream",
     "text": [
      "220949<>50909 pair\n"
     ]
    },
    {
     "name": "stderr",
     "output_type": "stream",
     "text": [
      "100%|██████████| 5429/5429 [00:03<00:00, 1445.30it/s]\n"
     ]
    },
    {
     "name": "stdout",
     "output_type": "stream",
     "text": [
      "220949<>51102 pair\n"
     ]
    },
    {
     "name": "stderr",
     "output_type": "stream",
     "text": [
      "100%|██████████| 5429/5429 [00:05<00:00, 911.35it/s] \n"
     ]
    },
    {
     "name": "stdout",
     "output_type": "stream",
     "text": [
      "220949<>51105 pair\n"
     ]
    },
    {
     "name": "stderr",
     "output_type": "stream",
     "text": [
      "100%|██████████| 5429/5429 [00:00<00:00, 10280.27it/s]\n"
     ]
    },
    {
     "name": "stdout",
     "output_type": "stream",
     "text": [
      "220949<>51099 pair\n"
     ]
    },
    {
     "name": "stderr",
     "output_type": "stream",
     "text": [
      "100%|██████████| 5429/5429 [00:04<00:00, 1094.47it/s]\n"
     ]
    },
    {
     "name": "stdout",
     "output_type": "stream",
     "text": [
      "220949<>51457 pair\n"
     ]
    },
    {
     "name": "stderr",
     "output_type": "stream",
     "text": [
      "100%|██████████| 5429/5429 [00:02<00:00, 2055.32it/s] \n"
     ]
    },
    {
     "name": "stdout",
     "output_type": "stream",
     "text": [
      "220949<>51458 pair\n"
     ]
    },
    {
     "name": "stderr",
     "output_type": "stream",
     "text": [
      "100%|██████████| 5429/5429 [00:02<00:00, 1913.23it/s] \n"
     ]
    },
    {
     "name": "stdout",
     "output_type": "stream",
     "text": [
      "220949<>51448 pair\n"
     ]
    },
    {
     "name": "stderr",
     "output_type": "stream",
     "text": [
      "100%|██████████| 5429/5429 [00:01<00:00, 3164.80it/s] \n"
     ]
    },
    {
     "name": "stdout",
     "output_type": "stream",
     "text": [
      "220949<>51450 pair\n"
     ]
    },
    {
     "name": "stderr",
     "output_type": "stream",
     "text": [
      "100%|██████████| 5429/5429 [00:02<00:00, 1908.05it/s] \n"
     ]
    },
    {
     "name": "stdout",
     "output_type": "stream",
     "text": [
      "220949<>51455 pair\n"
     ]
    },
    {
     "name": "stderr",
     "output_type": "stream",
     "text": [
      "100%|██████████| 5429/5429 [00:02<00:00, 1839.87it/s] \n"
     ]
    },
    {
     "name": "stdout",
     "output_type": "stream",
     "text": [
      "220949<>51447 pair\n"
     ]
    },
    {
     "name": "stderr",
     "output_type": "stream",
     "text": [
      "100%|██████████| 5429/5429 [00:02<00:00, 2636.52it/s] \n"
     ]
    },
    {
     "name": "stdout",
     "output_type": "stream",
     "text": [
      "220949<>51453 pair\n"
     ]
    },
    {
     "name": "stderr",
     "output_type": "stream",
     "text": [
      "100%|██████████| 5429/5429 [00:01<00:00, 5303.73it/s] \n"
     ]
    },
    {
     "name": "stdout",
     "output_type": "stream",
     "text": [
      "220949<>51051 pair\n"
     ]
    },
    {
     "name": "stderr",
     "output_type": "stream",
     "text": [
      "100%|██████████| 5429/5429 [00:00<00:00, 6680.55it/s] \n"
     ]
    },
    {
     "name": "stdout",
     "output_type": "stream",
     "text": [
      "220949<>51302 pair\n"
     ]
    },
    {
     "name": "stderr",
     "output_type": "stream",
     "text": [
      "100%|██████████| 5429/5429 [00:00<00:00, 30936.04it/s]\n"
     ]
    },
    {
     "name": "stdout",
     "output_type": "stream",
     "text": [
      "220949<>51379 pair\n"
     ]
    },
    {
     "name": "stderr",
     "output_type": "stream",
     "text": [
      "100%|██████████| 5429/5429 [00:00<00:00, 7636.86it/s] \n"
     ]
    },
    {
     "name": "stdout",
     "output_type": "stream",
     "text": [
      "220949<>51369 pair\n"
     ]
    },
    {
     "name": "stderr",
     "output_type": "stream",
     "text": [
      "100%|██████████| 5429/5429 [00:00<00:00, 18051.77it/s]\n"
     ]
    },
    {
     "name": "stdout",
     "output_type": "stream",
     "text": [
      "220949<>51384 pair\n"
     ]
    },
    {
     "name": "stderr",
     "output_type": "stream",
     "text": [
      "100%|██████████| 5429/5429 [00:00<00:00, 7713.14it/s] \n"
     ]
    },
    {
     "name": "stdout",
     "output_type": "stream",
     "text": [
      "220949<>51382 pair\n"
     ]
    },
    {
     "name": "stderr",
     "output_type": "stream",
     "text": [
      "100%|██████████| 5429/5429 [00:00<00:00, 7700.50it/s] \n"
     ]
    },
    {
     "name": "stdout",
     "output_type": "stream",
     "text": [
      "220949<>51383 pair\n"
     ]
    },
    {
     "name": "stderr",
     "output_type": "stream",
     "text": [
      "100%|██████████| 5429/5429 [00:00<00:00, 9918.32it/s] \n"
     ]
    },
    {
     "name": "stdout",
     "output_type": "stream",
     "text": [
      "220949<>51375 pair\n"
     ]
    },
    {
     "name": "stderr",
     "output_type": "stream",
     "text": [
      "100%|██████████| 5429/5429 [00:00<00:00, 7742.74it/s] \n"
     ]
    },
    {
     "name": "stdout",
     "output_type": "stream",
     "text": [
      "220949<>51446 pair\n"
     ]
    },
    {
     "name": "stderr",
     "output_type": "stream",
     "text": [
      "100%|██████████| 5429/5429 [00:02<00:00, 1928.58it/s] \n"
     ]
    },
    {
     "name": "stdout",
     "output_type": "stream",
     "text": [
      "220949<>50986 pair\n"
     ]
    },
    {
     "name": "stderr",
     "output_type": "stream",
     "text": [
      "100%|██████████| 5429/5429 [00:01<00:00, 2749.62it/s]\n"
     ]
    },
    {
     "name": "stdout",
     "output_type": "stream",
     "text": [
      "220949<>50951 pair\n"
     ]
    },
    {
     "name": "stderr",
     "output_type": "stream",
     "text": [
      "100%|██████████| 5429/5429 [00:03<00:00, 1505.85it/s]\n"
     ]
    },
    {
     "name": "stdout",
     "output_type": "stream",
     "text": [
      "220949<>50950 pair\n"
     ]
    },
    {
     "name": "stderr",
     "output_type": "stream",
     "text": [
      "100%|██████████| 5429/5429 [00:04<00:00, 1231.06it/s]\n"
     ]
    },
    {
     "name": "stdout",
     "output_type": "stream",
     "text": [
      "220949<>50949 pair\n"
     ]
    },
    {
     "name": "stderr",
     "output_type": "stream",
     "text": [
      "100%|██████████| 5429/5429 [00:03<00:00, 1436.83it/s]\n"
     ]
    },
    {
     "name": "stdout",
     "output_type": "stream",
     "text": [
      "220949<>50930 pair\n"
     ]
    },
    {
     "name": "stderr",
     "output_type": "stream",
     "text": [
      "100%|██████████| 5429/5429 [00:03<00:00, 1651.72it/s]\n"
     ]
    },
    {
     "name": "stdout",
     "output_type": "stream",
     "text": [
      "220949<>50976 pair\n"
     ]
    },
    {
     "name": "stderr",
     "output_type": "stream",
     "text": [
      "100%|██████████| 5429/5429 [00:07<00:00, 737.29it/s] \n"
     ]
    },
    {
     "name": "stdout",
     "output_type": "stream",
     "text": [
      "220949<>50995 pair\n"
     ]
    },
    {
     "name": "stderr",
     "output_type": "stream",
     "text": [
      "100%|██████████| 5429/5429 [00:03<00:00, 1553.28it/s]\n"
     ]
    },
    {
     "name": "stdout",
     "output_type": "stream",
     "text": [
      "220949<>50900 pair\n"
     ]
    },
    {
     "name": "stderr",
     "output_type": "stream",
     "text": [
      "100%|██████████| 5429/5429 [00:02<00:00, 2155.52it/s] \n"
     ]
    },
    {
     "name": "stdout",
     "output_type": "stream",
     "text": [
      "220949<>51138 pair\n"
     ]
    },
    {
     "name": "stderr",
     "output_type": "stream",
     "text": [
      "100%|██████████| 5429/5429 [00:00<00:00, 8856.36it/s] \n"
     ]
    },
    {
     "name": "stdout",
     "output_type": "stream",
     "text": [
      "220949<>51139 pair\n"
     ]
    },
    {
     "name": "stderr",
     "output_type": "stream",
     "text": [
      "100%|██████████| 5429/5429 [00:00<00:00, 8787.65it/s] \n"
     ]
    },
    {
     "name": "stdout",
     "output_type": "stream",
     "text": [
      "220949<>51257 pair\n"
     ]
    },
    {
     "name": "stderr",
     "output_type": "stream",
     "text": [
      "100%|██████████| 5429/5429 [00:04<00:00, 1139.13it/s]\n"
     ]
    },
    {
     "name": "stdout",
     "output_type": "stream",
     "text": [
      "220949<>51429 pair\n"
     ]
    },
    {
     "name": "stderr",
     "output_type": "stream",
     "text": [
      "100%|██████████| 5429/5429 [00:00<00:00, 8928.72it/s] \n"
     ]
    },
    {
     "name": "stdout",
     "output_type": "stream",
     "text": [
      "220949<>51428 pair\n"
     ]
    },
    {
     "name": "stderr",
     "output_type": "stream",
     "text": [
      "100%|██████████| 5429/5429 [00:01<00:00, 4887.63it/s] \n"
     ]
    },
    {
     "name": "stdout",
     "output_type": "stream",
     "text": [
      "220949<>51259 pair\n"
     ]
    },
    {
     "name": "stderr",
     "output_type": "stream",
     "text": [
      "100%|██████████| 5429/5429 [00:02<00:00, 2422.40it/s]\n"
     ]
    },
    {
     "name": "stdout",
     "output_type": "stream",
     "text": [
      "220949<>51148 pair\n"
     ]
    },
    {
     "name": "stderr",
     "output_type": "stream",
     "text": [
      "100%|██████████| 5429/5429 [00:01<00:00, 3189.46it/s] \n"
     ]
    },
    {
     "name": "stdout",
     "output_type": "stream",
     "text": [
      "220949<>50906 pair\n"
     ]
    },
    {
     "name": "stderr",
     "output_type": "stream",
     "text": [
      "100%|██████████| 5429/5429 [00:01<00:00, 3557.52it/s] \n"
     ]
    },
    {
     "name": "stdout",
     "output_type": "stream",
     "text": [
      "220949<>51344 pair\n"
     ]
    },
    {
     "name": "stderr",
     "output_type": "stream",
     "text": [
      "100%|██████████| 5429/5429 [00:00<00:00, 20583.95it/s]\n"
     ]
    },
    {
     "name": "stdout",
     "output_type": "stream",
     "text": [
      "220949<>50831 pair\n"
     ]
    },
    {
     "name": "stderr",
     "output_type": "stream",
     "text": [
      "100%|██████████| 5429/5429 [00:01<00:00, 3603.41it/s] \n"
     ]
    },
    {
     "name": "stdout",
     "output_type": "stream",
     "text": [
      "220949<>50927 pair\n"
     ]
    },
    {
     "name": "stderr",
     "output_type": "stream",
     "text": [
      "100%|██████████| 5429/5429 [00:01<00:00, 4405.20it/s] \n"
     ]
    },
    {
     "name": "stdout",
     "output_type": "stream",
     "text": [
      "220949<>51284 pair\n"
     ]
    },
    {
     "name": "stderr",
     "output_type": "stream",
     "text": [
      "100%|██████████| 5429/5429 [00:00<00:00, 5716.83it/s] \n"
     ]
    },
    {
     "name": "stdout",
     "output_type": "stream",
     "text": [
      "220949<>50843 pair\n"
     ]
    },
    {
     "name": "stderr",
     "output_type": "stream",
     "text": [
      "100%|██████████| 5429/5429 [00:01<00:00, 2845.09it/s] \n"
     ]
    },
    {
     "name": "stdout",
     "output_type": "stream",
     "text": [
      "220949<>50835 pair\n"
     ]
    },
    {
     "name": "stderr",
     "output_type": "stream",
     "text": [
      "100%|██████████| 5429/5429 [00:01<00:00, 4761.37it/s] \n"
     ]
    },
    {
     "name": "stdout",
     "output_type": "stream",
     "text": [
      "220949<>50849 pair\n"
     ]
    },
    {
     "name": "stderr",
     "output_type": "stream",
     "text": [
      "100%|██████████| 5429/5429 [00:02<00:00, 2001.18it/s]\n"
     ]
    },
    {
     "name": "stdout",
     "output_type": "stream",
     "text": [
      "220949<>50842 pair\n"
     ]
    },
    {
     "name": "stderr",
     "output_type": "stream",
     "text": [
      "100%|██████████| 5429/5429 [00:01<00:00, 3122.17it/s] \n"
     ]
    },
    {
     "name": "stdout",
     "output_type": "stream",
     "text": [
      "220949<>51125 pair\n"
     ]
    },
    {
     "name": "stderr",
     "output_type": "stream",
     "text": [
      "100%|██████████| 5429/5429 [00:03<00:00, 1511.67it/s]\n"
     ]
    },
    {
     "name": "stdout",
     "output_type": "stream",
     "text": [
      "220949<>51120 pair\n"
     ]
    },
    {
     "name": "stderr",
     "output_type": "stream",
     "text": [
      "100%|██████████| 5429/5429 [00:03<00:00, 1505.98it/s]\n"
     ]
    },
    {
     "name": "stdout",
     "output_type": "stream",
     "text": [
      "220949<>51127 pair\n"
     ]
    },
    {
     "name": "stderr",
     "output_type": "stream",
     "text": [
      "100%|██████████| 5429/5429 [00:03<00:00, 1567.87it/s]\n"
     ]
    },
    {
     "name": "stdout",
     "output_type": "stream",
     "text": [
      "220949<>51116 pair\n"
     ]
    },
    {
     "name": "stderr",
     "output_type": "stream",
     "text": [
      "100%|██████████| 5429/5429 [00:03<00:00, 1534.34it/s]\n"
     ]
    },
    {
     "name": "stdout",
     "output_type": "stream",
     "text": [
      "220949<>51117 pair\n"
     ]
    },
    {
     "name": "stderr",
     "output_type": "stream",
     "text": [
      "100%|██████████| 5429/5429 [00:02<00:00, 1889.46it/s]\n"
     ]
    },
    {
     "name": "stdout",
     "output_type": "stream",
     "text": [
      "220949<>51111 pair\n"
     ]
    },
    {
     "name": "stderr",
     "output_type": "stream",
     "text": [
      "100%|██████████| 5429/5429 [00:00<00:00, 16725.30it/s]\n"
     ]
    },
    {
     "name": "stdout",
     "output_type": "stream",
     "text": [
      "220949<>51128 pair\n"
     ]
    },
    {
     "name": "stderr",
     "output_type": "stream",
     "text": [
      "100%|██████████| 5429/5429 [00:03<00:00, 1535.33it/s]\n"
     ]
    },
    {
     "name": "stdout",
     "output_type": "stream",
     "text": [
      "220949<>51118 pair\n"
     ]
    },
    {
     "name": "stderr",
     "output_type": "stream",
     "text": [
      "100%|██████████| 5429/5429 [00:02<00:00, 1948.62it/s]\n"
     ]
    },
    {
     "name": "stdout",
     "output_type": "stream",
     "text": [
      "220949<>51269 pair\n"
     ]
    },
    {
     "name": "stderr",
     "output_type": "stream",
     "text": [
      "100%|██████████| 5429/5429 [00:01<00:00, 3509.03it/s] \n"
     ]
    },
    {
     "name": "stdout",
     "output_type": "stream",
     "text": [
      "220949<>51263 pair\n"
     ]
    },
    {
     "name": "stderr",
     "output_type": "stream",
     "text": [
      "100%|██████████| 5429/5429 [00:00<00:00, 11315.23it/s]\n"
     ]
    },
    {
     "name": "stdout",
     "output_type": "stream",
     "text": [
      "220949<>51047 pair\n"
     ]
    },
    {
     "name": "stderr",
     "output_type": "stream",
     "text": [
      "100%|██████████| 5429/5429 [00:00<00:00, 7145.53it/s] \n"
     ]
    },
    {
     "name": "stdout",
     "output_type": "stream",
     "text": [
      "220949<>51052 pair\n"
     ]
    },
    {
     "name": "stderr",
     "output_type": "stream",
     "text": [
      "100%|██████████| 5429/5429 [00:00<00:00, 12943.57it/s]\n"
     ]
    },
    {
     "name": "stdout",
     "output_type": "stream",
     "text": [
      "220949<>50980 pair\n"
     ]
    },
    {
     "name": "stderr",
     "output_type": "stream",
     "text": [
      "100%|██████████| 5429/5429 [00:01<00:00, 5221.82it/s] \n"
     ]
    },
    {
     "name": "stdout",
     "output_type": "stream",
     "text": [
      "220949<>51060 pair\n"
     ]
    },
    {
     "name": "stderr",
     "output_type": "stream",
     "text": [
      "100%|██████████| 5429/5429 [00:00<00:00, 10646.50it/s]\n"
     ]
    },
    {
     "name": "stdout",
     "output_type": "stream",
     "text": [
      "220949<>51218 pair\n"
     ]
    },
    {
     "name": "stderr",
     "output_type": "stream",
     "text": [
      "100%|██████████| 5429/5429 [00:04<00:00, 1327.60it/s] \n"
     ]
    },
    {
     "name": "stdout",
     "output_type": "stream",
     "text": [
      "220949<>51026 pair\n"
     ]
    },
    {
     "name": "stderr",
     "output_type": "stream",
     "text": [
      "100%|██████████| 5429/5429 [00:00<00:00, 8087.05it/s] \n"
     ]
    },
    {
     "name": "stdout",
     "output_type": "stream",
     "text": [
      "220949<>51005 pair\n"
     ]
    },
    {
     "name": "stderr",
     "output_type": "stream",
     "text": [
      "100%|██████████| 5429/5429 [00:00<00:00, 13925.16it/s]\n"
     ]
    },
    {
     "name": "stdout",
     "output_type": "stream",
     "text": [
      "220949<>50896 pair\n"
     ]
    },
    {
     "name": "stderr",
     "output_type": "stream",
     "text": [
      "100%|██████████| 5429/5429 [00:00<00:00, 13991.73it/s]\n"
     ]
    },
    {
     "name": "stdout",
     "output_type": "stream",
     "text": [
      "220949<>50895 pair\n"
     ]
    },
    {
     "name": "stderr",
     "output_type": "stream",
     "text": [
      "100%|██████████| 5429/5429 [00:00<00:00, 13890.89it/s]\n"
     ]
    },
    {
     "name": "stdout",
     "output_type": "stream",
     "text": [
      "220949<>51001 pair\n"
     ]
    },
    {
     "name": "stderr",
     "output_type": "stream",
     "text": [
      "100%|██████████| 5429/5429 [00:01<00:00, 3136.51it/s] \n"
     ]
    },
    {
     "name": "stdout",
     "output_type": "stream",
     "text": [
      "220949<>51196 pair\n"
     ]
    },
    {
     "name": "stderr",
     "output_type": "stream",
     "text": [
      "100%|██████████| 5429/5429 [00:00<00:00, 9874.32it/s] \n"
     ]
    },
    {
     "name": "stdout",
     "output_type": "stream",
     "text": [
      "220949<>50966 pair\n"
     ]
    },
    {
     "name": "stderr",
     "output_type": "stream",
     "text": [
      "100%|██████████| 5429/5429 [00:00<00:00, 26733.41it/s]\n"
     ]
    },
    {
     "name": "stdout",
     "output_type": "stream",
     "text": [
      "220949<>50836 pair\n"
     ]
    },
    {
     "name": "stderr",
     "output_type": "stream",
     "text": [
      "100%|██████████| 5429/5429 [00:00<00:00, 5919.90it/s] \n"
     ]
    },
    {
     "name": "stdout",
     "output_type": "stream",
     "text": [
      "220949<>50838 pair\n"
     ]
    },
    {
     "name": "stderr",
     "output_type": "stream",
     "text": [
      "100%|██████████| 5429/5429 [00:00<00:00, 6127.68it/s] \n"
     ]
    },
    {
     "name": "stdout",
     "output_type": "stream",
     "text": [
      "220949<>51419 pair\n"
     ]
    },
    {
     "name": "stderr",
     "output_type": "stream",
     "text": [
      "100%|██████████| 5429/5429 [00:00<00:00, 12961.40it/s]\n"
     ]
    },
    {
     "name": "stdout",
     "output_type": "stream",
     "text": [
      "220949<>51077 pair\n"
     ]
    },
    {
     "name": "stderr",
     "output_type": "stream",
     "text": [
      "100%|██████████| 5429/5429 [00:00<00:00, 9439.62it/s] \n"
     ]
    },
    {
     "name": "stdout",
     "output_type": "stream",
     "text": [
      "220949<>50841 pair\n"
     ]
    },
    {
     "name": "stderr",
     "output_type": "stream",
     "text": [
      "100%|██████████| 5429/5429 [00:00<00:00, 8040.35it/s] \n"
     ]
    },
    {
     "name": "stdout",
     "output_type": "stream",
     "text": [
      "220949<>50974 pair\n"
     ]
    },
    {
     "name": "stderr",
     "output_type": "stream",
     "text": [
      "100%|██████████| 5429/5429 [00:01<00:00, 3600.24it/s] \n"
     ]
    },
    {
     "name": "stdout",
     "output_type": "stream",
     "text": [
      "220949<>51069 pair\n"
     ]
    },
    {
     "name": "stderr",
     "output_type": "stream",
     "text": [
      "100%|██████████| 5429/5429 [00:00<00:00, 8993.55it/s] \n"
     ]
    },
    {
     "name": "stdout",
     "output_type": "stream",
     "text": [
      "220949<>51070 pair\n"
     ]
    },
    {
     "name": "stderr",
     "output_type": "stream",
     "text": [
      "100%|██████████| 5429/5429 [00:00<00:00, 8379.23it/s] \n"
     ]
    },
    {
     "name": "stdout",
     "output_type": "stream",
     "text": [
      "220949<>51088 pair\n"
     ]
    },
    {
     "name": "stderr",
     "output_type": "stream",
     "text": [
      "100%|██████████| 5429/5429 [00:00<00:00, 11330.69it/s]\n"
     ]
    },
    {
     "name": "stdout",
     "output_type": "stream",
     "text": [
      "220949<>51095 pair\n"
     ]
    },
    {
     "name": "stderr",
     "output_type": "stream",
     "text": [
      "100%|██████████| 5429/5429 [00:00<00:00, 6583.28it/s] \n"
     ]
    },
    {
     "name": "stdout",
     "output_type": "stream",
     "text": [
      "220949<>50899 pair\n"
     ]
    },
    {
     "name": "stderr",
     "output_type": "stream",
     "text": [
      "100%|██████████| 5429/5429 [00:00<00:00, 22593.36it/s]\n"
     ]
    },
    {
     "name": "stdout",
     "output_type": "stream",
     "text": [
      "220949<>51209 pair\n"
     ]
    },
    {
     "name": "stderr",
     "output_type": "stream",
     "text": [
      "100%|██████████| 5429/5429 [00:00<00:00, 39124.01it/s]\n"
     ]
    },
    {
     "name": "stdout",
     "output_type": "stream",
     "text": [
      "220949<>51297 pair\n"
     ]
    },
    {
     "name": "stderr",
     "output_type": "stream",
     "text": [
      "100%|██████████| 5429/5429 [00:00<00:00, 8978.81it/s] \n"
     ]
    },
    {
     "name": "stdout",
     "output_type": "stream",
     "text": [
      "220949<>51347 pair\n"
     ]
    },
    {
     "name": "stderr",
     "output_type": "stream",
     "text": [
      "100%|██████████| 5429/5429 [00:00<00:00, 20415.68it/s]\n"
     ]
    },
    {
     "name": "stdout",
     "output_type": "stream",
     "text": [
      "220949<>51358 pair\n"
     ]
    },
    {
     "name": "stderr",
     "output_type": "stream",
     "text": [
      "100%|██████████| 5429/5429 [00:00<00:00, 10501.23it/s]\n"
     ]
    },
    {
     "name": "stdout",
     "output_type": "stream",
     "text": [
      "220949<>51422 pair\n"
     ]
    },
    {
     "name": "stderr",
     "output_type": "stream",
     "text": [
      "100%|██████████| 5429/5429 [00:00<00:00, 15071.14it/s]\n"
     ]
    },
    {
     "name": "stdout",
     "output_type": "stream",
     "text": [
      "220949<>51343 pair\n"
     ]
    },
    {
     "name": "stderr",
     "output_type": "stream",
     "text": [
      "100%|██████████| 5429/5429 [00:00<00:00, 20435.67it/s]\n"
     ]
    },
    {
     "name": "stdout",
     "output_type": "stream",
     "text": [
      "220949<>50890 pair\n"
     ]
    },
    {
     "name": "stderr",
     "output_type": "stream",
     "text": [
      "100%|██████████| 5429/5429 [00:01<00:00, 3249.65it/s] \n"
     ]
    },
    {
     "name": "stdout",
     "output_type": "stream",
     "text": [
      "220949<>51471 pair\n"
     ]
    },
    {
     "name": "stderr",
     "output_type": "stream",
     "text": [
      "100%|██████████| 5429/5429 [00:00<00:00, 18168.61it/s]\n"
     ]
    },
    {
     "name": "stdout",
     "output_type": "stream",
     "text": [
      "220949<>51232 pair\n"
     ]
    },
    {
     "name": "stderr",
     "output_type": "stream",
     "text": [
      "100%|██████████| 5429/5429 [00:00<00:00, 20250.57it/s]\n"
     ]
    },
    {
     "name": "stdout",
     "output_type": "stream",
     "text": [
      "220949<>50864 pair\n"
     ]
    },
    {
     "name": "stderr",
     "output_type": "stream",
     "text": [
      "100%|██████████| 5429/5429 [00:02<00:00, 2083.55it/s] \n"
     ]
    },
    {
     "name": "stdout",
     "output_type": "stream",
     "text": [
      "220949<>51124 pair\n"
     ]
    },
    {
     "name": "stderr",
     "output_type": "stream",
     "text": [
      "100%|██████████| 5429/5429 [00:00<00:00, 23416.90it/s]\n"
     ]
    },
    {
     "name": "stdout",
     "output_type": "stream",
     "text": [
      "220949<>50988 pair\n"
     ]
    },
    {
     "name": "stderr",
     "output_type": "stream",
     "text": [
      "100%|██████████| 5429/5429 [00:00<00:00, 20185.03it/s]\n"
     ]
    },
    {
     "name": "stdout",
     "output_type": "stream",
     "text": [
      "220949<>50973 pair\n"
     ]
    },
    {
     "name": "stderr",
     "output_type": "stream",
     "text": [
      "100%|██████████| 5429/5429 [00:00<00:00, 11299.17it/s]\n"
     ]
    },
    {
     "name": "stdout",
     "output_type": "stream",
     "text": [
      "220949<>51028 pair\n"
     ]
    },
    {
     "name": "stderr",
     "output_type": "stream",
     "text": [
      "100%|██████████| 5429/5429 [00:00<00:00, 19936.99it/s]\n"
     ]
    },
    {
     "name": "stdout",
     "output_type": "stream",
     "text": [
      "220949<>51300 pair\n"
     ]
    },
    {
     "name": "stderr",
     "output_type": "stream",
     "text": [
      "100%|██████████| 5429/5429 [00:00<00:00, 5857.92it/s] \n"
     ]
    },
    {
     "name": "stdout",
     "output_type": "stream",
     "text": [
      "220949<>51245 pair\n"
     ]
    },
    {
     "name": "stderr",
     "output_type": "stream",
     "text": [
      "100%|██████████| 5429/5429 [00:00<00:00, 5833.08it/s] \n"
     ]
    },
    {
     "name": "stdout",
     "output_type": "stream",
     "text": [
      "220949<>51194 pair\n"
     ]
    },
    {
     "name": "stderr",
     "output_type": "stream",
     "text": [
      "100%|██████████| 5429/5429 [00:00<00:00, 6013.19it/s] \n"
     ]
    },
    {
     "name": "stdout",
     "output_type": "stream",
     "text": [
      "220949<>51181 pair\n"
     ]
    },
    {
     "name": "stderr",
     "output_type": "stream",
     "text": [
      "100%|██████████| 5429/5429 [00:00<00:00, 6071.71it/s] \n"
     ]
    },
    {
     "name": "stdout",
     "output_type": "stream",
     "text": [
      "220949<>51180 pair\n"
     ]
    },
    {
     "name": "stderr",
     "output_type": "stream",
     "text": [
      "100%|██████████| 5429/5429 [00:00<00:00, 6071.13it/s] \n"
     ]
    },
    {
     "name": "stdout",
     "output_type": "stream",
     "text": [
      "220949<>51176 pair\n"
     ]
    },
    {
     "name": "stderr",
     "output_type": "stream",
     "text": [
      "100%|██████████| 5429/5429 [00:00<00:00, 6010.78it/s] \n"
     ]
    },
    {
     "name": "stdout",
     "output_type": "stream",
     "text": [
      "220949<>51133 pair\n"
     ]
    },
    {
     "name": "stderr",
     "output_type": "stream",
     "text": [
      "100%|██████████| 5429/5429 [00:00<00:00, 6132.57it/s] \n"
     ]
    },
    {
     "name": "stdout",
     "output_type": "stream",
     "text": [
      "220949<>51132 pair\n"
     ]
    },
    {
     "name": "stderr",
     "output_type": "stream",
     "text": [
      "100%|██████████| 5429/5429 [00:00<00:00, 5990.65it/s] \n"
     ]
    },
    {
     "name": "stdout",
     "output_type": "stream",
     "text": [
      "220949<>51131 pair\n"
     ]
    },
    {
     "name": "stderr",
     "output_type": "stream",
     "text": [
      "100%|██████████| 5429/5429 [00:00<00:00, 5981.55it/s] \n"
     ]
    },
    {
     "name": "stdout",
     "output_type": "stream",
     "text": [
      "220949<>51130 pair\n"
     ]
    },
    {
     "name": "stderr",
     "output_type": "stream",
     "text": [
      "100%|██████████| 5429/5429 [00:00<00:00, 6014.45it/s] \n"
     ]
    },
    {
     "name": "stdout",
     "output_type": "stream",
     "text": [
      "220949<>51513 pair\n"
     ]
    },
    {
     "name": "stderr",
     "output_type": "stream",
     "text": [
      "100%|██████████| 5429/5429 [00:00<00:00, 69786.16it/s]\n"
     ]
    },
    {
     "name": "stdout",
     "output_type": "stream",
     "text": [
      "220949<>50946 pair\n"
     ]
    },
    {
     "name": "stderr",
     "output_type": "stream",
     "text": [
      "100%|██████████| 5429/5429 [00:00<00:00, 30479.10it/s]\n"
     ]
    },
    {
     "name": "stdout",
     "output_type": "stream",
     "text": [
      "220949<>50881 pair\n"
     ]
    },
    {
     "name": "stderr",
     "output_type": "stream",
     "text": [
      "100%|██████████| 5429/5429 [00:00<00:00, 6993.69it/s] \n"
     ]
    },
    {
     "name": "stdout",
     "output_type": "stream",
     "text": [
      "220949<>51114 pair\n"
     ]
    },
    {
     "name": "stderr",
     "output_type": "stream",
     "text": [
      "100%|██████████| 5429/5429 [00:00<00:00, 7016.82it/s] \n"
     ]
    },
    {
     "name": "stdout",
     "output_type": "stream",
     "text": [
      "220949<>51123 pair\n"
     ]
    },
    {
     "name": "stderr",
     "output_type": "stream",
     "text": [
      "100%|██████████| 5429/5429 [00:00<00:00, 8898.56it/s] \n"
     ]
    },
    {
     "name": "stdout",
     "output_type": "stream",
     "text": [
      "220949<>51352 pair\n"
     ]
    },
    {
     "name": "stderr",
     "output_type": "stream",
     "text": [
      "100%|██████████| 5429/5429 [00:00<00:00, 8511.18it/s] \n"
     ]
    },
    {
     "name": "stdout",
     "output_type": "stream",
     "text": [
      "220949<>50892 pair\n"
     ]
    },
    {
     "name": "stderr",
     "output_type": "stream",
     "text": [
      "100%|██████████| 5429/5429 [00:00<00:00, 8433.80it/s] \n"
     ]
    },
    {
     "name": "stdout",
     "output_type": "stream",
     "text": [
      "220949<>50978 pair\n"
     ]
    },
    {
     "name": "stderr",
     "output_type": "stream",
     "text": [
      "100%|██████████| 5429/5429 [00:00<00:00, 18063.61it/s]\n"
     ]
    },
    {
     "name": "stdout",
     "output_type": "stream",
     "text": [
      "220949<>50996 pair\n"
     ]
    },
    {
     "name": "stderr",
     "output_type": "stream",
     "text": [
      "100%|██████████| 5429/5429 [00:00<00:00, 6099.40it/s] \n"
     ]
    },
    {
     "name": "stdout",
     "output_type": "stream",
     "text": [
      "220949<>51072 pair\n"
     ]
    },
    {
     "name": "stderr",
     "output_type": "stream",
     "text": [
      "100%|██████████| 5429/5429 [00:00<00:00, 71589.42it/s]\n"
     ]
    },
    {
     "name": "stdout",
     "output_type": "stream",
     "text": [
      "220949<>51073 pair\n"
     ]
    },
    {
     "name": "stderr",
     "output_type": "stream",
     "text": [
      "100%|██████████| 5429/5429 [00:00<00:00, 71759.98it/s]\n"
     ]
    },
    {
     "name": "stdout",
     "output_type": "stream",
     "text": [
      "220949<>50965 pair\n"
     ]
    },
    {
     "name": "stderr",
     "output_type": "stream",
     "text": [
      "100%|██████████| 5429/5429 [00:01<00:00, 2740.97it/s]\n"
     ]
    },
    {
     "name": "stdout",
     "output_type": "stream",
     "text": [
      "220949<>50929 pair\n"
     ]
    },
    {
     "name": "stderr",
     "output_type": "stream",
     "text": [
      "100%|██████████| 5429/5429 [00:00<00:00, 7271.56it/s] \n"
     ]
    },
    {
     "name": "stdout",
     "output_type": "stream",
     "text": [
      "220949<>51441 pair\n"
     ]
    },
    {
     "name": "stderr",
     "output_type": "stream",
     "text": [
      "100%|██████████| 5429/5429 [00:00<00:00, 31634.17it/s]\n"
     ]
    },
    {
     "name": "stdout",
     "output_type": "stream",
     "text": [
      "220949<>50891 pair\n"
     ]
    },
    {
     "name": "stderr",
     "output_type": "stream",
     "text": [
      "100%|██████████| 5429/5429 [00:01<00:00, 2983.68it/s] \n"
     ]
    },
    {
     "name": "stdout",
     "output_type": "stream",
     "text": [
      "220949<>51140 pair\n"
     ]
    },
    {
     "name": "stderr",
     "output_type": "stream",
     "text": [
      "100%|██████████| 5429/5429 [00:00<00:00, 31770.24it/s]\n"
     ]
    },
    {
     "name": "stdout",
     "output_type": "stream",
     "text": [
      "220949<>50945 pair\n"
     ]
    },
    {
     "name": "stderr",
     "output_type": "stream",
     "text": [
      "100%|██████████| 5429/5429 [00:00<00:00, 23581.69it/s]\n"
     ]
    },
    {
     "name": "stdout",
     "output_type": "stream",
     "text": [
      "220949<>50997 pair\n"
     ]
    },
    {
     "name": "stderr",
     "output_type": "stream",
     "text": [
      "100%|██████████| 5429/5429 [00:00<00:00, 72213.30it/s]\n"
     ]
    },
    {
     "name": "stdout",
     "output_type": "stream",
     "text": [
      "220949<>51119 pair\n"
     ]
    },
    {
     "name": "stderr",
     "output_type": "stream",
     "text": [
      "100%|██████████| 5429/5429 [00:00<00:00, 72246.07it/s]\n"
     ]
    },
    {
     "name": "stdout",
     "output_type": "stream",
     "text": [
      "220949<>51357 pair\n"
     ]
    },
    {
     "name": "stderr",
     "output_type": "stream",
     "text": [
      "100%|██████████| 5429/5429 [00:00<00:00, 50910.47it/s]\n"
     ]
    },
    {
     "name": "stdout",
     "output_type": "stream",
     "text": [
      "220949<>51444 pair\n"
     ]
    },
    {
     "name": "stderr",
     "output_type": "stream",
     "text": [
      "100%|██████████| 5429/5429 [00:01<00:00, 5365.44it/s] \n"
     ]
    },
    {
     "name": "stdout",
     "output_type": "stream",
     "text": [
      "220949<>51445 pair\n"
     ]
    },
    {
     "name": "stderr",
     "output_type": "stream",
     "text": [
      "100%|██████████| 5429/5429 [00:00<00:00, 12470.14it/s]\n"
     ]
    },
    {
     "name": "stdout",
     "output_type": "stream",
     "text": [
      "220949<>51228 pair\n"
     ]
    },
    {
     "name": "stderr",
     "output_type": "stream",
     "text": [
      "100%|██████████| 5429/5429 [00:00<00:00, 51285.76it/s]\n"
     ]
    },
    {
     "name": "stdout",
     "output_type": "stream",
     "text": [
      "220949<>51354 pair\n"
     ]
    },
    {
     "name": "stderr",
     "output_type": "stream",
     "text": [
      "100%|██████████| 5429/5429 [00:00<00:00, 39391.69it/s]\n"
     ]
    },
    {
     "name": "stdout",
     "output_type": "stream",
     "text": [
      "220949<>51276 pair\n"
     ]
    },
    {
     "name": "stderr",
     "output_type": "stream",
     "text": [
      "100%|██████████| 5429/5429 [00:00<00:00, 18448.23it/s]\n"
     ]
    },
    {
     "name": "stdout",
     "output_type": "stream",
     "text": [
      "220949<>51299 pair\n"
     ]
    },
    {
     "name": "stderr",
     "output_type": "stream",
     "text": [
      "100%|██████████| 5429/5429 [00:00<00:00, 31885.95it/s]\n"
     ]
    },
    {
     "name": "stdout",
     "output_type": "stream",
     "text": [
      "220949<>51298 pair\n"
     ]
    },
    {
     "name": "stderr",
     "output_type": "stream",
     "text": [
      "100%|██████████| 5429/5429 [00:00<00:00, 39264.94it/s]\n"
     ]
    },
    {
     "name": "stdout",
     "output_type": "stream",
     "text": [
      "220949<>51206 pair\n"
     ]
    },
    {
     "name": "stderr",
     "output_type": "stream",
     "text": [
      "100%|██████████| 5429/5429 [00:00<00:00, 20439.41it/s]\n"
     ]
    },
    {
     "name": "stdout",
     "output_type": "stream",
     "text": [
      "220949<>50982 pair\n"
     ]
    },
    {
     "name": "stderr",
     "output_type": "stream",
     "text": [
      "100%|██████████| 5429/5429 [00:00<00:00, 51612.87it/s]\n"
     ]
    },
    {
     "name": "stdout",
     "output_type": "stream",
     "text": [
      "220949<>50894 pair\n"
     ]
    },
    {
     "name": "stderr",
     "output_type": "stream",
     "text": [
      "100%|██████████| 5429/5429 [00:00<00:00, 49981.18it/s]\n"
     ]
    },
    {
     "name": "stdout",
     "output_type": "stream",
     "text": [
      "220949<>50914 pair\n"
     ]
    },
    {
     "name": "stderr",
     "output_type": "stream",
     "text": [
      "100%|██████████| 5429/5429 [00:01<00:00, 5177.90it/s] \n"
     ]
    },
    {
     "name": "stdout",
     "output_type": "stream",
     "text": [
      "220949<>50853 pair\n"
     ]
    },
    {
     "name": "stderr",
     "output_type": "stream",
     "text": [
      "100%|██████████| 5429/5429 [00:00<00:00, 14005.05it/s]\n"
     ]
    },
    {
     "name": "stdout",
     "output_type": "stream",
     "text": [
      "220949<>51015 pair\n"
     ]
    },
    {
     "name": "stderr",
     "output_type": "stream",
     "text": [
      "100%|██████████| 5429/5429 [00:00<00:00, 7082.65it/s] \n"
     ]
    },
    {
     "name": "stdout",
     "output_type": "stream",
     "text": [
      "220949<>51529 pair\n"
     ]
    },
    {
     "name": "stderr",
     "output_type": "stream",
     "text": [
      "100%|██████████| 5429/5429 [00:00<00:00, 71681.59it/s]\n"
     ]
    },
    {
     "name": "stdout",
     "output_type": "stream",
     "text": [
      "220949<>51271 pair\n"
     ]
    },
    {
     "name": "stderr",
     "output_type": "stream",
     "text": [
      "100%|██████████| 5429/5429 [00:00<00:00, 32208.88it/s]\n"
     ]
    },
    {
     "name": "stdout",
     "output_type": "stream",
     "text": [
      "220949<>51273 pair\n"
     ]
    },
    {
     "name": "stderr",
     "output_type": "stream",
     "text": [
      "100%|██████████| 5429/5429 [00:00<00:00, 31891.05it/s]\n"
     ]
    },
    {
     "name": "stdout",
     "output_type": "stream",
     "text": [
      "220949<>51110 pair\n"
     ]
    },
    {
     "name": "stderr",
     "output_type": "stream",
     "text": [
      "100%|██████████| 5429/5429 [00:00<00:00, 11347.61it/s]\n"
     ]
    },
    {
     "name": "stdout",
     "output_type": "stream",
     "text": [
      "220949<>51065 pair\n"
     ]
    },
    {
     "name": "stderr",
     "output_type": "stream",
     "text": [
      "100%|██████████| 5429/5429 [00:00<00:00, 27202.94it/s]\n"
     ]
    },
    {
     "name": "stdout",
     "output_type": "stream",
     "text": [
      "220949<>51064 pair\n"
     ]
    },
    {
     "name": "stderr",
     "output_type": "stream",
     "text": [
      "100%|██████████| 5429/5429 [00:00<00:00, 27061.83it/s]\n"
     ]
    },
    {
     "name": "stdout",
     "output_type": "stream",
     "text": [
      "220949<>51063 pair\n"
     ]
    },
    {
     "name": "stderr",
     "output_type": "stream",
     "text": [
      "100%|██████████| 5429/5429 [00:00<00:00, 26924.20it/s]\n"
     ]
    },
    {
     "name": "stdout",
     "output_type": "stream",
     "text": [
      "220949<>50958 pair\n"
     ]
    },
    {
     "name": "stderr",
     "output_type": "stream",
     "text": [
      "100%|██████████| 5429/5429 [00:00<00:00, 31928.74it/s]\n"
     ]
    },
    {
     "name": "stdout",
     "output_type": "stream",
     "text": [
      "220949<>50926 pair\n"
     ]
    },
    {
     "name": "stderr",
     "output_type": "stream",
     "text": [
      "100%|██████████| 5429/5429 [00:00<00:00, 18483.21it/s]\n"
     ]
    },
    {
     "name": "stdout",
     "output_type": "stream",
     "text": [
      "220949<>51467 pair\n"
     ]
    },
    {
     "name": "stderr",
     "output_type": "stream",
     "text": [
      "100%|██████████| 5429/5429 [00:00<00:00, 50395.88it/s]\n"
     ]
    },
    {
     "name": "stdout",
     "output_type": "stream",
     "text": [
      "220949<>51223 pair\n"
     ]
    },
    {
     "name": "stderr",
     "output_type": "stream",
     "text": [
      "100%|██████████| 5429/5429 [00:00<00:00, 39429.13it/s]\n"
     ]
    },
    {
     "name": "stdout",
     "output_type": "stream",
     "text": [
      "220949<>51227 pair\n"
     ]
    },
    {
     "name": "stderr",
     "output_type": "stream",
     "text": [
      "100%|██████████| 5429/5429 [00:00<00:00, 23058.65it/s]\n"
     ]
    },
    {
     "name": "stdout",
     "output_type": "stream",
     "text": [
      "220949<>51226 pair\n"
     ]
    },
    {
     "name": "stderr",
     "output_type": "stream",
     "text": [
      "100%|██████████| 5429/5429 [00:00<00:00, 22877.72it/s]\n"
     ]
    },
    {
     "name": "stdout",
     "output_type": "stream",
     "text": [
      "220949<>51224 pair\n"
     ]
    },
    {
     "name": "stderr",
     "output_type": "stream",
     "text": [
      "100%|██████████| 5429/5429 [00:00<00:00, 23500.62it/s]\n"
     ]
    },
    {
     "name": "stdout",
     "output_type": "stream",
     "text": [
      "220949<>51385 pair\n"
     ]
    },
    {
     "name": "stderr",
     "output_type": "stream",
     "text": [
      "100%|██████████| 5429/5429 [00:00<00:00, 38757.03it/s]\n"
     ]
    },
    {
     "name": "stdout",
     "output_type": "stream",
     "text": [
      "220949<>51049 pair\n"
     ]
    },
    {
     "name": "stderr",
     "output_type": "stream",
     "text": [
      "100%|██████████| 5429/5429 [00:00<00:00, 23775.76it/s]\n"
     ]
    },
    {
     "name": "stdout",
     "output_type": "stream",
     "text": [
      "220949<>51076 pair\n"
     ]
    },
    {
     "name": "stderr",
     "output_type": "stream",
     "text": [
      "100%|██████████| 5429/5429 [00:00<00:00, 38826.55it/s]\n"
     ]
    },
    {
     "name": "stdout",
     "output_type": "stream",
     "text": [
      "220949<>51112 pair\n"
     ]
    },
    {
     "name": "stderr",
     "output_type": "stream",
     "text": [
      "100%|██████████| 5429/5429 [00:00<00:00, 50510.24it/s]\n"
     ]
    },
    {
     "name": "stdout",
     "output_type": "stream",
     "text": [
      "220949<>51517 pair\n"
     ]
    },
    {
     "name": "stderr",
     "output_type": "stream",
     "text": [
      "100%|██████████| 5429/5429 [00:00<00:00, 16030.78it/s]\n"
     ]
    },
    {
     "name": "stdout",
     "output_type": "stream",
     "text": [
      "220949<>51430 pair\n"
     ]
    },
    {
     "name": "stderr",
     "output_type": "stream",
     "text": [
      "100%|██████████| 5429/5429 [00:00<00:00, 71203.71it/s]\n"
     ]
    },
    {
     "name": "stdout",
     "output_type": "stream",
     "text": [
      "220949<>51272 pair\n"
     ]
    },
    {
     "name": "stderr",
     "output_type": "stream",
     "text": [
      "100%|██████████| 5429/5429 [00:00<00:00, 50652.04it/s]\n"
     ]
    },
    {
     "name": "stdout",
     "output_type": "stream",
     "text": [
      "220949<>51270 pair\n"
     ]
    },
    {
     "name": "stderr",
     "output_type": "stream",
     "text": [
      "100%|██████████| 5429/5429 [00:00<00:00, 50174.24it/s]\n"
     ]
    },
    {
     "name": "stdout",
     "output_type": "stream",
     "text": [
      "220949<>51480 pair\n"
     ]
    },
    {
     "name": "stderr",
     "output_type": "stream",
     "text": [
      "100%|██████████| 5429/5429 [00:00<00:00, 70942.17it/s]\n"
     ]
    },
    {
     "name": "stdout",
     "output_type": "stream",
     "text": [
      "220949<>50968 pair\n"
     ]
    },
    {
     "name": "stderr",
     "output_type": "stream",
     "text": [
      "100%|██████████| 5429/5429 [00:00<00:00, 22903.97it/s]\n"
     ]
    },
    {
     "name": "stdout",
     "output_type": "stream",
     "text": [
      "220949<>50969 pair\n"
     ]
    },
    {
     "name": "stderr",
     "output_type": "stream",
     "text": [
      "100%|██████████| 5429/5429 [00:00<00:00, 23227.55it/s]\n"
     ]
    },
    {
     "name": "stdout",
     "output_type": "stream",
     "text": [
      "220949<>51440 pair\n"
     ]
    },
    {
     "name": "stderr",
     "output_type": "stream",
     "text": [
      "100%|██████████| 5429/5429 [00:00<00:00, 49585.34it/s]\n"
     ]
    },
    {
     "name": "stdout",
     "output_type": "stream",
     "text": [
      "220949<>51433 pair\n"
     ]
    },
    {
     "name": "stderr",
     "output_type": "stream",
     "text": [
      "100%|██████████| 5429/5429 [00:00<00:00, 51747.17it/s]\n"
     ]
    },
    {
     "name": "stdout",
     "output_type": "stream",
     "text": [
      "220949<>51062 pair\n"
     ]
    },
    {
     "name": "stderr",
     "output_type": "stream",
     "text": [
      "100%|██████████| 5429/5429 [00:00<00:00, 50792.36it/s]\n"
     ]
    },
    {
     "name": "stdout",
     "output_type": "stream",
     "text": [
      "220949<>51061 pair\n"
     ]
    },
    {
     "name": "stderr",
     "output_type": "stream",
     "text": [
      "100%|██████████| 5429/5429 [00:00<00:00, 72155.87it/s]\n"
     ]
    },
    {
     "name": "stdout",
     "output_type": "stream",
     "text": [
      "220949<>51376 pair\n"
     ]
    },
    {
     "name": "stderr",
     "output_type": "stream",
     "text": [
      "100%|██████████| 5429/5429 [00:00<00:00, 16688.29it/s]\n"
     ]
    },
    {
     "name": "stdout",
     "output_type": "stream",
     "text": [
      "220949<>51115 pair\n"
     ]
    },
    {
     "name": "stderr",
     "output_type": "stream",
     "text": [
      "100%|██████████| 5429/5429 [00:00<00:00, 18469.89it/s]\n"
     ]
    },
    {
     "name": "stdout",
     "output_type": "stream",
     "text": [
      "220949<>51108 pair\n"
     ]
    },
    {
     "name": "stderr",
     "output_type": "stream",
     "text": [
      "100%|██████████| 5429/5429 [00:00<00:00, 8528.79it/s] \n"
     ]
    },
    {
     "name": "stdout",
     "output_type": "stream",
     "text": [
      "220949<>51094 pair\n"
     ]
    },
    {
     "name": "stderr",
     "output_type": "stream",
     "text": [
      "100%|██████████| 5429/5429 [00:00<00:00, 8147.10it/s] \n"
     ]
    },
    {
     "name": "stdout",
     "output_type": "stream",
     "text": [
      "220949<>51067 pair\n"
     ]
    },
    {
     "name": "stderr",
     "output_type": "stream",
     "text": [
      "100%|██████████| 5429/5429 [00:00<00:00, 10029.02it/s]\n"
     ]
    },
    {
     "name": "stdout",
     "output_type": "stream",
     "text": [
      "220949<>51087 pair\n"
     ]
    },
    {
     "name": "stderr",
     "output_type": "stream",
     "text": [
      "100%|██████████| 5429/5429 [00:00<00:00, 7889.08it/s] \n"
     ]
    },
    {
     "name": "stdout",
     "output_type": "stream",
     "text": [
      "220949<>51045 pair\n"
     ]
    },
    {
     "name": "stderr",
     "output_type": "stream",
     "text": [
      "100%|██████████| 5429/5429 [00:00<00:00, 72203.91it/s]\n"
     ]
    },
    {
     "name": "stdout",
     "output_type": "stream",
     "text": [
      "220949<>51032 pair\n"
     ]
    },
    {
     "name": "stderr",
     "output_type": "stream",
     "text": [
      "100%|██████████| 5429/5429 [00:00<00:00, 39101.50it/s]\n"
     ]
    },
    {
     "name": "stdout",
     "output_type": "stream",
     "text": [
      "220949<>51229 pair\n"
     ]
    },
    {
     "name": "stderr",
     "output_type": "stream",
     "text": [
      "100%|██████████| 5429/5429 [00:00<00:00, 13866.19it/s]\n"
     ]
    },
    {
     "name": "stdout",
     "output_type": "stream",
     "text": [
      "220949<>51507 pair\n"
     ]
    },
    {
     "name": "stderr",
     "output_type": "stream",
     "text": [
      "100%|██████████| 5429/5429 [00:00<00:00, 26734.85it/s]\n"
     ]
    },
    {
     "name": "stdout",
     "output_type": "stream",
     "text": [
      "220949<>51386 pair\n"
     ]
    },
    {
     "name": "stderr",
     "output_type": "stream",
     "text": [
      "100%|██████████| 5429/5429 [00:00<00:00, 71673.70it/s]\n"
     ]
    },
    {
     "name": "stdout",
     "output_type": "stream",
     "text": [
      "220949<>51366 pair\n"
     ]
    },
    {
     "name": "stderr",
     "output_type": "stream",
     "text": [
      "100%|██████████| 5429/5429 [00:00<00:00, 40345.14it/s]\n"
     ]
    },
    {
     "name": "stdout",
     "output_type": "stream",
     "text": [
      "220949<>51442 pair\n"
     ]
    },
    {
     "name": "stderr",
     "output_type": "stream",
     "text": [
      "100%|██████████| 5429/5429 [00:00<00:00, 23172.15it/s]\n"
     ]
    },
    {
     "name": "stdout",
     "output_type": "stream",
     "text": [
      "220949<>51068 pair\n"
     ]
    },
    {
     "name": "stderr",
     "output_type": "stream",
     "text": [
      "100%|██████████| 5429/5429 [00:00<00:00, 23535.47it/s]\n"
     ]
    },
    {
     "name": "stdout",
     "output_type": "stream",
     "text": [
      "220949<>50898 pair\n"
     ]
    },
    {
     "name": "stderr",
     "output_type": "stream",
     "text": [
      "100%|██████████| 5429/5429 [00:00<00:00, 16714.13it/s]\n"
     ]
    },
    {
     "name": "stdout",
     "output_type": "stream",
     "text": [
      "220949<>50992 pair\n"
     ]
    },
    {
     "name": "stderr",
     "output_type": "stream",
     "text": [
      "100%|██████████| 5429/5429 [00:00<00:00, 27150.01it/s]\n"
     ]
    },
    {
     "name": "stdout",
     "output_type": "stream",
     "text": [
      "220949<>51084 pair\n"
     ]
    },
    {
     "name": "stderr",
     "output_type": "stream",
     "text": [
      "100%|██████████| 5429/5429 [00:00<00:00, 50519.66it/s]\n"
     ]
    },
    {
     "name": "stdout",
     "output_type": "stream",
     "text": [
      "220949<>50850 pair\n"
     ]
    },
    {
     "name": "stderr",
     "output_type": "stream",
     "text": [
      "100%|██████████| 5429/5429 [00:00<00:00, 23296.33it/s]\n"
     ]
    },
    {
     "name": "stdout",
     "output_type": "stream",
     "text": [
      "220949<>51345 pair\n"
     ]
    },
    {
     "name": "stderr",
     "output_type": "stream",
     "text": [
      "100%|██████████| 5429/5429 [00:00<00:00, 38994.97it/s]\n"
     ]
    },
    {
     "name": "stdout",
     "output_type": "stream",
     "text": [
      "220949<>51356 pair\n"
     ]
    },
    {
     "name": "stderr",
     "output_type": "stream",
     "text": [
      "100%|██████████| 5429/5429 [00:00<00:00, 39457.56it/s]\n"
     ]
    },
    {
     "name": "stdout",
     "output_type": "stream",
     "text": [
      "220949<>50989 pair\n"
     ]
    },
    {
     "name": "stderr",
     "output_type": "stream",
     "text": [
      "100%|██████████| 5429/5429 [00:00<00:00, 50785.34it/s]\n"
     ]
    },
    {
     "name": "stdout",
     "output_type": "stream",
     "text": [
      "220949<>50869 pair\n"
     ]
    },
    {
     "name": "stderr",
     "output_type": "stream",
     "text": [
      "100%|██████████| 5429/5429 [00:00<00:00, 37166.14it/s]\n"
     ]
    },
    {
     "name": "stdout",
     "output_type": "stream",
     "text": [
      "220949<>51435 pair\n"
     ]
    },
    {
     "name": "stderr",
     "output_type": "stream",
     "text": [
      "100%|██████████| 5429/5429 [00:00<00:00, 39025.51it/s]\n"
     ]
    },
    {
     "name": "stdout",
     "output_type": "stream",
     "text": [
      "220949<>51289 pair\n"
     ]
    },
    {
     "name": "stderr",
     "output_type": "stream",
     "text": [
      "100%|██████████| 5429/5429 [00:00<00:00, 18297.27it/s]\n"
     ]
    },
    {
     "name": "stdout",
     "output_type": "stream",
     "text": [
      "220949<>51387 pair\n"
     ]
    },
    {
     "name": "stderr",
     "output_type": "stream",
     "text": [
      "100%|██████████| 5429/5429 [00:00<00:00, 27100.67it/s]\n"
     ]
    },
    {
     "name": "stdout",
     "output_type": "stream",
     "text": [
      "220949<>50990 pair\n"
     ]
    },
    {
     "name": "stderr",
     "output_type": "stream",
     "text": [
      "100%|██████████| 5429/5429 [00:00<00:00, 72307.55it/s]\n"
     ]
    },
    {
     "name": "stdout",
     "output_type": "stream",
     "text": [
      "220949<>50877 pair\n"
     ]
    },
    {
     "name": "stderr",
     "output_type": "stream",
     "text": [
      "100%|██████████| 5429/5429 [00:00<00:00, 51105.16it/s]\n"
     ]
    },
    {
     "name": "stdout",
     "output_type": "stream",
     "text": [
      "220949<>51122 pair\n"
     ]
    },
    {
     "name": "stderr",
     "output_type": "stream",
     "text": [
      "100%|██████████| 5429/5429 [00:00<00:00, 51513.97it/s]\n"
     ]
    },
    {
     "name": "stdout",
     "output_type": "stream",
     "text": [
      "220949<>51454 pair\n"
     ]
    },
    {
     "name": "stderr",
     "output_type": "stream",
     "text": [
      "100%|██████████| 5429/5429 [00:00<00:00, 20610.86it/s]\n"
     ]
    },
    {
     "name": "stdout",
     "output_type": "stream",
     "text": [
      "220949<>51452 pair\n"
     ]
    },
    {
     "name": "stderr",
     "output_type": "stream",
     "text": [
      "100%|██████████| 5429/5429 [00:00<00:00, 31882.20it/s]\n"
     ]
    },
    {
     "name": "stdout",
     "output_type": "stream",
     "text": [
      "220949<>50840 pair\n"
     ]
    },
    {
     "name": "stderr",
     "output_type": "stream",
     "text": [
      "100%|██████████| 5429/5429 [00:00<00:00, 51904.88it/s]\n"
     ]
    },
    {
     "name": "stdout",
     "output_type": "stream",
     "text": [
      "220949<>51449 pair\n"
     ]
    },
    {
     "name": "stderr",
     "output_type": "stream",
     "text": [
      "100%|██████████| 5429/5429 [00:00<00:00, 72128.90it/s]\n"
     ]
    },
    {
     "name": "stdout",
     "output_type": "stream",
     "text": [
      "220949<>50991 pair\n"
     ]
    },
    {
     "name": "stderr",
     "output_type": "stream",
     "text": [
      "100%|██████████| 5429/5429 [00:00<00:00, 39434.87it/s]\n"
     ]
    },
    {
     "name": "stdout",
     "output_type": "stream",
     "text": [
      "220949<>51494 pair\n"
     ]
    },
    {
     "name": "stderr",
     "output_type": "stream",
     "text": [
      "100%|██████████| 5429/5429 [00:00<00:00, 49524.19it/s]\n"
     ]
    },
    {
     "name": "stdout",
     "output_type": "stream",
     "text": [
      "220949<>51225 pair\n"
     ]
    },
    {
     "name": "stderr",
     "output_type": "stream",
     "text": [
      "100%|██████████| 5429/5429 [00:00<00:00, 71867.33it/s]\n"
     ]
    },
    {
     "name": "stdout",
     "output_type": "stream",
     "text": [
      "220949<>51377 pair\n"
     ]
    },
    {
     "name": "stderr",
     "output_type": "stream",
     "text": [
      "100%|██████████| 5429/5429 [00:00<00:00, 63601.18it/s]\n"
     ]
    },
    {
     "name": "stdout",
     "output_type": "stream",
     "text": [
      "220949<>51368 pair\n"
     ]
    },
    {
     "name": "stderr",
     "output_type": "stream",
     "text": [
      "100%|██████████| 5429/5429 [00:00<00:00, 23504.79it/s]\n"
     ]
    },
    {
     "name": "stdout",
     "output_type": "stream",
     "text": [
      "220949<>50844 pair\n"
     ]
    },
    {
     "name": "stderr",
     "output_type": "stream",
     "text": [
      "100%|██████████| 5429/5429 [00:00<00:00, 72076.16it/s]\n"
     ]
    },
    {
     "name": "stdout",
     "output_type": "stream",
     "text": [
      "220949<>51203 pair\n"
     ]
    },
    {
     "name": "stderr",
     "output_type": "stream",
     "text": [
      "100%|██████████| 5429/5429 [00:00<00:00, 71346.94it/s]\n"
     ]
    },
    {
     "name": "stdout",
     "output_type": "stream",
     "text": [
      "220949<>51208 pair\n"
     ]
    },
    {
     "name": "stderr",
     "output_type": "stream",
     "text": [
      "100%|██████████| 5429/5429 [00:00<00:00, 70390.63it/s]\n"
     ]
    },
    {
     "name": "stdout",
     "output_type": "stream",
     "text": [
      "220949<>51202 pair\n"
     ]
    },
    {
     "name": "stderr",
     "output_type": "stream",
     "text": [
      "100%|██████████| 5429/5429 [00:00<00:00, 69808.41it/s]\n"
     ]
    },
    {
     "name": "stdout",
     "output_type": "stream",
     "text": [
      "220949<>51012 pair\n"
     ]
    },
    {
     "name": "stderr",
     "output_type": "stream",
     "text": [
      "100%|██████████| 5429/5429 [00:00<00:00, 50208.09it/s]\n"
     ]
    },
    {
     "name": "stdout",
     "output_type": "stream",
     "text": [
      "220949<>51365 pair\n"
     ]
    },
    {
     "name": "stderr",
     "output_type": "stream",
     "text": [
      "100%|██████████| 5429/5429 [00:00<00:00, 47923.45it/s]\n"
     ]
    },
    {
     "name": "stdout",
     "output_type": "stream",
     "text": [
      "220949<>51437 pair\n"
     ]
    },
    {
     "name": "stderr",
     "output_type": "stream",
     "text": [
      "100%|██████████| 5429/5429 [00:00<00:00, 69790.23it/s]\n"
     ]
    },
    {
     "name": "stdout",
     "output_type": "stream",
     "text": [
      "220949<>51432 pair\n"
     ]
    },
    {
     "name": "stderr",
     "output_type": "stream",
     "text": [
      "100%|██████████| 5429/5429 [00:00<00:00, 69753.03it/s]\n"
     ]
    },
    {
     "name": "stdout",
     "output_type": "stream",
     "text": [
      "220949<>51348 pair\n"
     ]
    },
    {
     "name": "stderr",
     "output_type": "stream",
     "text": [
      "100%|██████████| 5429/5429 [00:00<00:00, 48455.07it/s]\n"
     ]
    },
    {
     "name": "stdout",
     "output_type": "stream",
     "text": [
      "220949<>51212 pair\n"
     ]
    },
    {
     "name": "stderr",
     "output_type": "stream",
     "text": [
      "100%|██████████| 5429/5429 [00:00<00:00, 63053.29it/s]\n"
     ]
    },
    {
     "name": "stdout",
     "output_type": "stream",
     "text": [
      "220949<>51023 pair\n"
     ]
    },
    {
     "name": "stderr",
     "output_type": "stream",
     "text": [
      "100%|██████████| 5429/5429 [00:00<00:00, 47219.85it/s]\n"
     ]
    },
    {
     "name": "stdout",
     "output_type": "stream",
     "text": [
      "220949<>51019 pair\n"
     ]
    },
    {
     "name": "stderr",
     "output_type": "stream",
     "text": [
      "100%|██████████| 5429/5429 [00:00<00:00, 50062.72it/s]\n"
     ]
    },
    {
     "name": "stdout",
     "output_type": "stream",
     "text": [
      "220949<>51022 pair\n"
     ]
    },
    {
     "name": "stderr",
     "output_type": "stream",
     "text": [
      "100%|██████████| 5429/5429 [00:00<00:00, 47895.53it/s]\n"
     ]
    },
    {
     "name": "stdout",
     "output_type": "stream",
     "text": [
      "220949<>51024 pair\n"
     ]
    },
    {
     "name": "stderr",
     "output_type": "stream",
     "text": [
      "100%|██████████| 5429/5429 [00:00<00:00, 48786.96it/s]\n"
     ]
    },
    {
     "name": "stdout",
     "output_type": "stream",
     "text": [
      "220949<>51381 pair\n"
     ]
    },
    {
     "name": "stderr",
     "output_type": "stream",
     "text": [
      "100%|██████████| 5429/5429 [00:00<00:00, 48413.14it/s]\n"
     ]
    },
    {
     "name": "stdout",
     "output_type": "stream",
     "text": [
      "220949<>51041 pair\n"
     ]
    },
    {
     "name": "stderr",
     "output_type": "stream",
     "text": [
      "100%|██████████| 5429/5429 [00:00<00:00, 37102.07it/s]\n"
     ]
    },
    {
     "name": "stdout",
     "output_type": "stream",
     "text": [
      "220949<>51398 pair\n"
     ]
    },
    {
     "name": "stderr",
     "output_type": "stream",
     "text": [
      "100%|██████████| 5429/5429 [00:00<00:00, 9366.61it/s] \n"
     ]
    },
    {
     "name": "stdout",
     "output_type": "stream",
     "text": [
      "220949<>51404 pair\n"
     ]
    },
    {
     "name": "stderr",
     "output_type": "stream",
     "text": [
      "100%|██████████| 5429/5429 [00:00<00:00, 9473.64it/s] \n"
     ]
    },
    {
     "name": "stdout",
     "output_type": "stream",
     "text": [
      "220949<>51406 pair\n"
     ]
    },
    {
     "name": "stderr",
     "output_type": "stream",
     "text": [
      "100%|██████████| 5429/5429 [00:00<00:00, 10850.36it/s]\n"
     ]
    },
    {
     "name": "stdout",
     "output_type": "stream",
     "text": [
      "220949<>50961 pair\n"
     ]
    },
    {
     "name": "stderr",
     "output_type": "stream",
     "text": [
      "100%|██████████| 5429/5429 [00:00<00:00, 25826.81it/s]\n"
     ]
    },
    {
     "name": "stdout",
     "output_type": "stream",
     "text": [
      "220949<>51515 pair\n"
     ]
    },
    {
     "name": "stderr",
     "output_type": "stream",
     "text": [
      "100%|██████████| 5429/5429 [00:00<00:00, 30903.34it/s]\n"
     ]
    },
    {
     "name": "stdout",
     "output_type": "stream",
     "text": [
      "220949<>51241 pair\n"
     ]
    },
    {
     "name": "stderr",
     "output_type": "stream",
     "text": [
      "100%|██████████| 5429/5429 [00:00<00:00, 49605.21it/s]\n"
     ]
    },
    {
     "name": "stdout",
     "output_type": "stream",
     "text": [
      "220949<>51199 pair\n"
     ]
    },
    {
     "name": "stderr",
     "output_type": "stream",
     "text": [
      "100%|██████████| 5429/5429 [00:00<00:00, 38212.71it/s]\n"
     ]
    },
    {
     "name": "stdout",
     "output_type": "stream",
     "text": [
      "220949<>51150 pair\n"
     ]
    },
    {
     "name": "stderr",
     "output_type": "stream",
     "text": [
      "100%|██████████| 5429/5429 [00:00<00:00, 69229.86it/s]\n"
     ]
    },
    {
     "name": "stdout",
     "output_type": "stream",
     "text": [
      "220949<>50916 pair\n"
     ]
    },
    {
     "name": "stderr",
     "output_type": "stream",
     "text": [
      "100%|██████████| 5429/5429 [00:00<00:00, 69681.95it/s]\n"
     ]
    },
    {
     "name": "stdout",
     "output_type": "stream",
     "text": [
      "220949<>51353 pair\n"
     ]
    },
    {
     "name": "stderr",
     "output_type": "stream",
     "text": [
      "100%|██████████| 5429/5429 [00:00<00:00, 49836.24it/s]\n"
     ]
    },
    {
     "name": "stdout",
     "output_type": "stream",
     "text": [
      "220949<>51109 pair\n"
     ]
    },
    {
     "name": "stderr",
     "output_type": "stream",
     "text": [
      "100%|██████████| 5429/5429 [00:00<00:00, 26210.48it/s]\n"
     ]
    },
    {
     "name": "stdout",
     "output_type": "stream",
     "text": [
      "220949<>51106 pair\n"
     ]
    },
    {
     "name": "stderr",
     "output_type": "stream",
     "text": [
      "100%|██████████| 5429/5429 [00:00<00:00, 25593.65it/s]\n"
     ]
    },
    {
     "name": "stdout",
     "output_type": "stream",
     "text": [
      "220949<>51080 pair\n"
     ]
    },
    {
     "name": "stderr",
     "output_type": "stream",
     "text": [
      "100%|██████████| 5429/5429 [00:00<00:00, 24614.64it/s]\n"
     ]
    },
    {
     "name": "stdout",
     "output_type": "stream",
     "text": [
      "220949<>51081 pair\n"
     ]
    },
    {
     "name": "stderr",
     "output_type": "stream",
     "text": [
      "100%|██████████| 5429/5429 [00:00<00:00, 24802.09it/s]\n"
     ]
    },
    {
     "name": "stdout",
     "output_type": "stream",
     "text": [
      "220949<>51101 pair\n"
     ]
    },
    {
     "name": "stderr",
     "output_type": "stream",
     "text": [
      "100%|██████████| 5429/5429 [00:00<00:00, 25388.62it/s]\n"
     ]
    },
    {
     "name": "stdout",
     "output_type": "stream",
     "text": [
      "220949<>51488 pair\n"
     ]
    },
    {
     "name": "stderr",
     "output_type": "stream",
     "text": [
      "100%|██████████| 5429/5429 [00:00<00:00, 68331.56it/s]\n"
     ]
    },
    {
     "name": "stdout",
     "output_type": "stream",
     "text": [
      "220949<>51044 pair\n"
     ]
    },
    {
     "name": "stderr",
     "output_type": "stream",
     "text": [
      "100%|██████████| 5429/5429 [00:00<00:00, 36842.50it/s]\n"
     ]
    },
    {
     "name": "stdout",
     "output_type": "stream",
     "text": [
      "220949<>51160 pair\n"
     ]
    },
    {
     "name": "stderr",
     "output_type": "stream",
     "text": [
      "100%|██████████| 5429/5429 [00:00<00:00, 42952.65it/s]\n"
     ]
    },
    {
     "name": "stdout",
     "output_type": "stream",
     "text": [
      "220949<>51164 pair\n"
     ]
    },
    {
     "name": "stderr",
     "output_type": "stream",
     "text": [
      "100%|██████████| 5429/5429 [00:00<00:00, 48894.55it/s]\n"
     ]
    },
    {
     "name": "stdout",
     "output_type": "stream",
     "text": [
      "220949<>50847 pair\n"
     ]
    },
    {
     "name": "stderr",
     "output_type": "stream",
     "text": [
      "100%|██████████| 5429/5429 [00:00<00:00, 48619.46it/s]\n"
     ]
    },
    {
     "name": "stdout",
     "output_type": "stream",
     "text": [
      "220949<>50837 pair\n"
     ]
    },
    {
     "name": "stderr",
     "output_type": "stream",
     "text": [
      "100%|██████████| 5429/5429 [00:00<00:00, 67874.30it/s]\n"
     ]
    },
    {
     "name": "stdout",
     "output_type": "stream",
     "text": [
      "220949<>50848 pair\n"
     ]
    },
    {
     "name": "stderr",
     "output_type": "stream",
     "text": [
      "100%|██████████| 5429/5429 [00:00<00:00, 47739.19it/s]\n"
     ]
    },
    {
     "name": "stdout",
     "output_type": "stream",
     "text": [
      "220949<>50839 pair\n"
     ]
    },
    {
     "name": "stderr",
     "output_type": "stream",
     "text": [
      "100%|██████████| 5429/5429 [00:00<00:00, 65673.03it/s]\n"
     ]
    },
    {
     "name": "stdout",
     "output_type": "stream",
     "text": [
      "220949<>51210 pair\n"
     ]
    },
    {
     "name": "stderr",
     "output_type": "stream",
     "text": [
      "100%|██████████| 5429/5429 [00:00<00:00, 47763.12it/s]\n"
     ]
    },
    {
     "name": "stdout",
     "output_type": "stream",
     "text": [
      "220949<>51489 pair\n"
     ]
    },
    {
     "name": "stderr",
     "output_type": "stream",
     "text": [
      "100%|██████████| 5429/5429 [00:00<00:00, 66834.97it/s]\n"
     ]
    },
    {
     "name": "stdout",
     "output_type": "stream",
     "text": [
      "220949<>50865 pair\n"
     ]
    },
    {
     "name": "stderr",
     "output_type": "stream",
     "text": [
      "100%|██████████| 5429/5429 [00:00<00:00, 46614.73it/s]\n"
     ]
    },
    {
     "name": "stdout",
     "output_type": "stream",
     "text": [
      "220949<>51204 pair\n"
     ]
    },
    {
     "name": "stderr",
     "output_type": "stream",
     "text": [
      "100%|██████████| 5429/5429 [00:00<00:00, 36803.56it/s]\n"
     ]
    },
    {
     "name": "stdout",
     "output_type": "stream",
     "text": [
      "220949<>51205 pair\n"
     ]
    },
    {
     "name": "stderr",
     "output_type": "stream",
     "text": [
      "100%|██████████| 5429/5429 [00:00<00:00, 25343.69it/s]\n"
     ]
    },
    {
     "name": "stdout",
     "output_type": "stream",
     "text": [
      "220949<>51066 pair\n"
     ]
    },
    {
     "name": "stderr",
     "output_type": "stream",
     "text": [
      "100%|██████████| 5429/5429 [00:00<00:00, 67831.03it/s]\n"
     ]
    },
    {
     "name": "stdout",
     "output_type": "stream",
     "text": [
      "220949<>51162 pair\n"
     ]
    },
    {
     "name": "stderr",
     "output_type": "stream",
     "text": [
      "100%|██████████| 5429/5429 [00:00<00:00, 69483.99it/s]\n"
     ]
    },
    {
     "name": "stdout",
     "output_type": "stream",
     "text": [
      "220949<>51175 pair\n"
     ]
    },
    {
     "name": "stderr",
     "output_type": "stream",
     "text": [
      "100%|██████████| 5429/5429 [00:00<00:00, 66212.89it/s]\n"
     ]
    },
    {
     "name": "stdout",
     "output_type": "stream",
     "text": [
      "220949<>51174 pair\n"
     ]
    },
    {
     "name": "stderr",
     "output_type": "stream",
     "text": [
      "100%|██████████| 5429/5429 [00:00<00:00, 67545.92it/s]\n"
     ]
    },
    {
     "name": "stdout",
     "output_type": "stream",
     "text": [
      "220949<>51163 pair\n"
     ]
    },
    {
     "name": "stderr",
     "output_type": "stream",
     "text": [
      "100%|██████████| 5429/5429 [00:00<00:00, 67765.22it/s]\n"
     ]
    },
    {
     "name": "stdout",
     "output_type": "stream",
     "text": [
      "220949<>51359 pair\n"
     ]
    },
    {
     "name": "stderr",
     "output_type": "stream",
     "text": [
      "100%|██████████| 5429/5429 [00:00<00:00, 67579.39it/s]\n"
     ]
    },
    {
     "name": "stdout",
     "output_type": "stream",
     "text": [
      "220949<>50851 pair\n"
     ]
    },
    {
     "name": "stderr",
     "output_type": "stream",
     "text": [
      "100%|██████████| 5429/5429 [00:00<00:00, 69361.44it/s]\n"
     ]
    },
    {
     "name": "stdout",
     "output_type": "stream",
     "text": [
      "220949<>51042 pair\n"
     ]
    },
    {
     "name": "stderr",
     "output_type": "stream",
     "text": [
      "100%|██████████| 5429/5429 [00:00<00:00, 48550.42it/s]\n"
     ]
    },
    {
     "name": "stdout",
     "output_type": "stream",
     "text": [
      "220949<>51027 pair\n"
     ]
    },
    {
     "name": "stderr",
     "output_type": "stream",
     "text": [
      "100%|██████████| 5429/5429 [00:00<00:00, 46803.38it/s]\n"
     ]
    },
    {
     "name": "stdout",
     "output_type": "stream",
     "text": [
      "220949<>51030 pair\n"
     ]
    },
    {
     "name": "stderr",
     "output_type": "stream",
     "text": [
      "100%|██████████| 5429/5429 [00:00<00:00, 48142.71it/s]\n"
     ]
    },
    {
     "name": "stdout",
     "output_type": "stream",
     "text": [
      "220949<>50962 pair\n"
     ]
    },
    {
     "name": "stderr",
     "output_type": "stream",
     "text": [
      "100%|██████████| 5429/5429 [00:00<00:00, 65935.65it/s]\n"
     ]
    },
    {
     "name": "stdout",
     "output_type": "stream",
     "text": [
      "220949<>50972 pair\n"
     ]
    },
    {
     "name": "stderr",
     "output_type": "stream",
     "text": [
      "100%|██████████| 5429/5429 [00:00<00:00, 66597.87it/s]\n"
     ]
    },
    {
     "name": "stdout",
     "output_type": "stream",
     "text": [
      "220949<>51409 pair\n"
     ]
    },
    {
     "name": "stderr",
     "output_type": "stream",
     "text": [
      "100%|██████████| 5429/5429 [00:00<00:00, 45488.80it/s]\n"
     ]
    },
    {
     "name": "stdout",
     "output_type": "stream",
     "text": [
      "220949<>51011 pair\n"
     ]
    },
    {
     "name": "stderr",
     "output_type": "stream",
     "text": [
      "100%|██████████| 5429/5429 [00:00<00:00, 47543.53it/s]\n"
     ]
    },
    {
     "name": "stdout",
     "output_type": "stream",
     "text": [
      "220949<>51380 pair\n"
     ]
    },
    {
     "name": "stderr",
     "output_type": "stream",
     "text": [
      "100%|██████████| 5429/5429 [00:00<00:00, 65449.73it/s]\n"
     ]
    },
    {
     "name": "stdout",
     "output_type": "stream",
     "text": [
      "220949<>51029 pair\n"
     ]
    },
    {
     "name": "stderr",
     "output_type": "stream",
     "text": [
      "100%|██████████| 5429/5429 [00:00<00:00, 65020.82it/s]\n"
     ]
    },
    {
     "name": "stdout",
     "output_type": "stream",
     "text": [
      "220949<>51040 pair\n"
     ]
    },
    {
     "name": "stderr",
     "output_type": "stream",
     "text": [
      "100%|██████████| 5429/5429 [00:00<00:00, 65651.07it/s]\n"
     ]
    },
    {
     "name": "stdout",
     "output_type": "stream",
     "text": [
      "220949<>51020 pair\n"
     ]
    },
    {
     "name": "stderr",
     "output_type": "stream",
     "text": [
      "100%|██████████| 5429/5429 [00:00<00:00, 66504.12it/s]\n"
     ]
    },
    {
     "name": "stdout",
     "output_type": "stream",
     "text": [
      "220949<>51361 pair\n"
     ]
    },
    {
     "name": "stderr",
     "output_type": "stream",
     "text": [
      "100%|██████████| 5429/5429 [00:00<00:00, 47452.97it/s]\n"
     ]
    },
    {
     "name": "stdout",
     "output_type": "stream",
     "text": [
      "220949<>50921 pair\n"
     ]
    },
    {
     "name": "stderr",
     "output_type": "stream",
     "text": [
      "100%|██████████| 5429/5429 [00:00<00:00, 46620.46it/s]\n"
     ]
    },
    {
     "name": "stdout",
     "output_type": "stream",
     "text": [
      "220949<>50934 pair\n"
     ]
    },
    {
     "name": "stderr",
     "output_type": "stream",
     "text": [
      "100%|██████████| 5429/5429 [00:00<00:00, 45397.21it/s]\n"
     ]
    },
    {
     "name": "stdout",
     "output_type": "stream",
     "text": [
      "220949<>51185 pair\n"
     ]
    },
    {
     "name": "stderr",
     "output_type": "stream",
     "text": [
      "100%|██████████| 5429/5429 [00:00<00:00, 68362.33it/s]\n"
     ]
    },
    {
     "name": "stdout",
     "output_type": "stream",
     "text": [
      "220949<>51186 pair\n"
     ]
    },
    {
     "name": "stderr",
     "output_type": "stream",
     "text": [
      "100%|██████████| 5429/5429 [00:00<00:00, 67264.38it/s]\n"
     ]
    },
    {
     "name": "stdout",
     "output_type": "stream",
     "text": [
      "220949<>51036 pair\n"
     ]
    },
    {
     "name": "stderr",
     "output_type": "stream",
     "text": [
      "100%|██████████| 5429/5429 [00:00<00:00, 61259.62it/s]\n"
     ]
    },
    {
     "name": "stdout",
     "output_type": "stream",
     "text": [
      "220949<>51456 pair\n"
     ]
    },
    {
     "name": "stderr",
     "output_type": "stream",
     "text": [
      "100%|██████████| 5429/5429 [00:00<00:00, 48277.03it/s]\n"
     ]
    },
    {
     "name": "stdout",
     "output_type": "stream",
     "text": [
      "220949<>51240 pair\n"
     ]
    },
    {
     "name": "stderr",
     "output_type": "stream",
     "text": [
      "100%|██████████| 5429/5429 [00:00<00:00, 66986.76it/s]\n"
     ]
    },
    {
     "name": "stdout",
     "output_type": "stream",
     "text": [
      "220949<>51050 pair\n"
     ]
    },
    {
     "name": "stderr",
     "output_type": "stream",
     "text": [
      "100%|██████████| 5429/5429 [00:00<00:00, 65215.61it/s]\n"
     ]
    },
    {
     "name": "stdout",
     "output_type": "stream",
     "text": [
      "220949<>51057 pair\n"
     ]
    },
    {
     "name": "stderr",
     "output_type": "stream",
     "text": [
      "100%|██████████| 5429/5429 [00:00<00:00, 63607.93it/s]\n"
     ]
    },
    {
     "name": "stdout",
     "output_type": "stream",
     "text": [
      "220949<>51058 pair\n"
     ]
    },
    {
     "name": "stderr",
     "output_type": "stream",
     "text": [
      "100%|██████████| 5429/5429 [00:00<00:00, 65407.99it/s]\n"
     ]
    },
    {
     "name": "stdout",
     "output_type": "stream",
     "text": [
      "220949<>51048 pair\n"
     ]
    },
    {
     "name": "stderr",
     "output_type": "stream",
     "text": [
      "100%|██████████| 5429/5429 [00:00<00:00, 65970.03it/s]\n"
     ]
    },
    {
     "name": "stdout",
     "output_type": "stream",
     "text": [
      "220949<>51280 pair\n"
     ]
    },
    {
     "name": "stderr",
     "output_type": "stream",
     "text": [
      "100%|██████████| 5429/5429 [00:00<00:00, 64078.69it/s]\n"
     ]
    },
    {
     "name": "stdout",
     "output_type": "stream",
     "text": [
      "220949<>51281 pair\n"
     ]
    },
    {
     "name": "stderr",
     "output_type": "stream",
     "text": [
      "100%|██████████| 5429/5429 [00:00<00:00, 64519.53it/s]\n"
     ]
    },
    {
     "name": "stdout",
     "output_type": "stream",
     "text": [
      "220949<>51346 pair\n"
     ]
    },
    {
     "name": "stderr",
     "output_type": "stream",
     "text": [
      "100%|██████████| 5429/5429 [00:00<00:00, 36332.37it/s]\n"
     ]
    },
    {
     "name": "stdout",
     "output_type": "stream",
     "text": [
      "220949<>51149 pair\n"
     ]
    },
    {
     "name": "stderr",
     "output_type": "stream",
     "text": [
      "100%|██████████| 5429/5429 [00:00<00:00, 66504.12it/s]\n"
     ]
    },
    {
     "name": "stdout",
     "output_type": "stream",
     "text": [
      "220949<>51126 pair\n"
     ]
    },
    {
     "name": "stderr",
     "output_type": "stream",
     "text": [
      "100%|██████████| 5429/5429 [00:00<00:00, 61907.66it/s]\n"
     ]
    },
    {
     "name": "stdout",
     "output_type": "stream",
     "text": [
      "220949<>51031 pair\n"
     ]
    },
    {
     "name": "stderr",
     "output_type": "stream",
     "text": [
      "100%|██████████| 5429/5429 [00:00<00:00, 47171.82it/s]\n"
     ]
    },
    {
     "name": "stdout",
     "output_type": "stream",
     "text": [
      "220949<>51121 pair\n"
     ]
    },
    {
     "name": "stderr",
     "output_type": "stream",
     "text": [
      "100%|██████████| 5429/5429 [00:00<00:00, 67974.79it/s]\n"
     ]
    },
    {
     "name": "stdout",
     "output_type": "stream",
     "text": [
      "220949<>51364 pair\n"
     ]
    },
    {
     "name": "stderr",
     "output_type": "stream",
     "text": [
      "100%|██████████| 5429/5429 [00:00<00:00, 66833.01it/s]\n"
     ]
    },
    {
     "name": "stdout",
     "output_type": "stream",
     "text": [
      "220949<>51038 pair\n"
     ]
    },
    {
     "name": "stderr",
     "output_type": "stream",
     "text": [
      "100%|██████████| 5429/5429 [00:00<00:00, 69400.55it/s]\n"
     ]
    },
    {
     "name": "stdout",
     "output_type": "stream",
     "text": [
      "220949<>51443 pair\n"
     ]
    },
    {
     "name": "stderr",
     "output_type": "stream",
     "text": [
      "100%|██████████| 5429/5429 [00:00<00:00, 69312.04it/s]\n"
     ]
    },
    {
     "name": "stdout",
     "output_type": "stream",
     "text": [
      "220949<>51113 pair\n"
     ]
    },
    {
     "name": "stderr",
     "output_type": "stream",
     "text": [
      "100%|██████████| 5429/5429 [00:00<00:00, 68679.86it/s]\n"
     ]
    },
    {
     "name": "stdout",
     "output_type": "stream",
     "text": [
      "220949<>51496 pair\n"
     ]
    },
    {
     "name": "stderr",
     "output_type": "stream",
     "text": [
      "100%|██████████| 5429/5429 [00:00<00:00, 68363.35it/s]\n"
     ]
    },
    {
     "name": "stdout",
     "output_type": "stream",
     "text": [
      "220949<>51039 pair\n"
     ]
    },
    {
     "name": "stderr",
     "output_type": "stream",
     "text": [
      "100%|██████████| 5429/5429 [00:00<00:00, 69120.58it/s]\n"
     ]
    },
    {
     "name": "stdout",
     "output_type": "stream",
     "text": [
      "220949<>51367 pair\n"
     ]
    },
    {
     "name": "stderr",
     "output_type": "stream",
     "text": [
      "100%|██████████| 5429/5429 [00:00<00:00, 69079.06it/s]\n"
     ]
    },
    {
     "name": "stdout",
     "output_type": "stream",
     "text": [
      "220949<>51170 pair\n"
     ]
    },
    {
     "name": "stderr",
     "output_type": "stream",
     "text": [
      "100%|██████████| 5429/5429 [00:00<00:00, 70069.63it/s]\n"
     ]
    },
    {
     "name": "stdout",
     "output_type": "stream",
     "text": [
      "220949<>51169 pair\n"
     ]
    },
    {
     "name": "stderr",
     "output_type": "stream",
     "text": [
      "100%|██████████| 5429/5429 [00:00<00:00, 68771.13it/s]\n"
     ]
    },
    {
     "name": "stdout",
     "output_type": "stream",
     "text": [
      "220949<>51166 pair\n"
     ]
    },
    {
     "name": "stderr",
     "output_type": "stream",
     "text": [
      "100%|██████████| 5429/5429 [00:00<00:00, 70808.27it/s]\n"
     ]
    },
    {
     "name": "stdout",
     "output_type": "stream",
     "text": [
      "220949<>51165 pair\n"
     ]
    },
    {
     "name": "stderr",
     "output_type": "stream",
     "text": [
      "100%|██████████| 5429/5429 [00:00<00:00, 68170.97it/s]\n"
     ]
    },
    {
     "name": "stdout",
     "output_type": "stream",
     "text": [
      "220949<>51037 pair\n"
     ]
    },
    {
     "name": "stderr",
     "output_type": "stream",
     "text": [
      "100%|██████████| 5429/5429 [00:00<00:00, 67512.27it/s]\n"
     ]
    },
    {
     "name": "stdout",
     "output_type": "stream",
     "text": [
      "220949<>51188 pair\n"
     ]
    },
    {
     "name": "stderr",
     "output_type": "stream",
     "text": [
      "100%|██████████| 5429/5429 [00:00<00:00, 68455.43it/s]\n"
     ]
    },
    {
     "name": "stdout",
     "output_type": "stream",
     "text": [
      "220949<>50947 pair\n"
     ]
    },
    {
     "name": "stderr",
     "output_type": "stream",
     "text": [
      "100%|██████████| 5429/5429 [00:00<00:00, 46979.80it/s]\n"
     ]
    },
    {
     "name": "stdout",
     "output_type": "stream",
     "text": [
      "220949<>51508 pair\n"
     ]
    },
    {
     "name": "stderr",
     "output_type": "stream",
     "text": [
      "100%|██████████| 5429/5429 [00:00<00:00, 67504.87it/s]\n"
     ]
    },
    {
     "name": "stdout",
     "output_type": "stream",
     "text": [
      "220949<>51451 pair\n"
     ]
    },
    {
     "name": "stderr",
     "output_type": "stream",
     "text": [
      "100%|██████████| 5429/5429 [00:00<00:00, 69275.77it/s]\n"
     ]
    },
    {
     "name": "stdout",
     "output_type": "stream",
     "text": [
      "220949<>51168 pair\n"
     ]
    },
    {
     "name": "stderr",
     "output_type": "stream",
     "text": [
      "100%|██████████| 5429/5429 [00:00<00:00, 68029.22it/s]\n"
     ]
    },
    {
     "name": "stdout",
     "output_type": "stream",
     "text": [
      "226452<>50813 pair\n"
     ]
    },
    {
     "name": "stderr",
     "output_type": "stream",
     "text": [
      "100%|██████████| 8389/8389 [02:52<00:00, 48.61it/s]\n"
     ]
    },
    {
     "name": "stdout",
     "output_type": "stream",
     "text": [
      "226452<>50893 pair\n"
     ]
    },
    {
     "name": "stderr",
     "output_type": "stream",
     "text": [
      "100%|██████████| 8389/8389 [03:38<00:00, 38.43it/s] \n"
     ]
    },
    {
     "name": "stdout",
     "output_type": "stream",
     "text": [
      "226452<>50882 pair\n"
     ]
    },
    {
     "name": "stderr",
     "output_type": "stream",
     "text": [
      "100%|██████████| 8389/8389 [09:20<00:00, 14.98it/s]  \n"
     ]
    },
    {
     "name": "stdout",
     "output_type": "stream",
     "text": [
      "226452<>50868 pair\n"
     ]
    },
    {
     "name": "stderr",
     "output_type": "stream",
     "text": [
      "100%|██████████| 8389/8389 [14:07<00:00,  9.89it/s]  \n"
     ]
    },
    {
     "name": "stdout",
     "output_type": "stream",
     "text": [
      "226452<>51275 pair\n"
     ]
    },
    {
     "name": "stderr",
     "output_type": "stream",
     "text": [
      "100%|██████████| 8389/8389 [03:24<00:00, 41.12it/s]\n"
     ]
    },
    {
     "name": "stdout",
     "output_type": "stream",
     "text": [
      "226452<>51237 pair\n"
     ]
    },
    {
     "name": "stderr",
     "output_type": "stream",
     "text": [
      "100%|██████████| 8389/8389 [03:32<00:00, 39.53it/s]\n"
     ]
    },
    {
     "name": "stdout",
     "output_type": "stream",
     "text": [
      "226452<>51274 pair\n"
     ]
    },
    {
     "name": "stderr",
     "output_type": "stream",
     "text": [
      "100%|██████████| 8389/8389 [03:29<00:00, 40.13it/s]\n"
     ]
    },
    {
     "name": "stdout",
     "output_type": "stream",
     "text": [
      "226452<>50902 pair\n"
     ]
    },
    {
     "name": "stderr",
     "output_type": "stream",
     "text": [
      "100%|██████████| 8389/8389 [03:54<00:00, 35.74it/s]\n"
     ]
    },
    {
     "name": "stdout",
     "output_type": "stream",
     "text": [
      "226452<>51222 pair\n"
     ]
    },
    {
     "name": "stderr",
     "output_type": "stream",
     "text": [
      "100%|██████████| 8389/8389 [03:57<00:00, 35.32it/s]\n"
     ]
    },
    {
     "name": "stdout",
     "output_type": "stream",
     "text": [
      "226452<>51221 pair\n"
     ]
    },
    {
     "name": "stderr",
     "output_type": "stream",
     "text": [
      "100%|██████████| 8389/8389 [04:19<00:00, 32.38it/s]\n"
     ]
    },
    {
     "name": "stdout",
     "output_type": "stream",
     "text": [
      "226452<>51006 pair\n"
     ]
    },
    {
     "name": "stderr",
     "output_type": "stream",
     "text": [
      "100%|██████████| 8389/8389 [04:13<00:00, 33.12it/s]\n"
     ]
    },
    {
     "name": "stdout",
     "output_type": "stream",
     "text": [
      "226452<>50983 pair\n"
     ]
    },
    {
     "name": "stderr",
     "output_type": "stream",
     "text": [
      "100%|██████████| 8389/8389 [04:11<00:00, 33.41it/s]\n"
     ]
    },
    {
     "name": "stdout",
     "output_type": "stream",
     "text": [
      "226452<>50971 pair\n"
     ]
    },
    {
     "name": "stderr",
     "output_type": "stream",
     "text": [
      "100%|██████████| 8389/8389 [04:14<00:00, 33.01it/s]\n"
     ]
    },
    {
     "name": "stdout",
     "output_type": "stream",
     "text": [
      "226452<>50970 pair\n"
     ]
    },
    {
     "name": "stderr",
     "output_type": "stream",
     "text": [
      "100%|██████████| 8389/8389 [03:36<00:00, 38.76it/s]\n"
     ]
    },
    {
     "name": "stdout",
     "output_type": "stream",
     "text": [
      "226452<>50960 pair\n"
     ]
    },
    {
     "name": "stderr",
     "output_type": "stream",
     "text": [
      "100%|██████████| 8389/8389 [03:51<00:00, 36.26it/s]\n"
     ]
    },
    {
     "name": "stdout",
     "output_type": "stream",
     "text": [
      "226452<>50931 pair\n"
     ]
    },
    {
     "name": "stderr",
     "output_type": "stream",
     "text": [
      "100%|██████████| 8389/8389 [03:58<00:00, 35.12it/s]\n"
     ]
    },
    {
     "name": "stdout",
     "output_type": "stream",
     "text": [
      "226452<>50912 pair\n"
     ]
    },
    {
     "name": "stderr",
     "output_type": "stream",
     "text": [
      "100%|██████████| 8389/8389 [08:28<00:00, 16.50it/s]  \n"
     ]
    },
    {
     "name": "stdout",
     "output_type": "stream",
     "text": [
      "226452<>51248 pair\n"
     ]
    },
    {
     "name": "stderr",
     "output_type": "stream",
     "text": [
      "100%|██████████| 8389/8389 [04:29<00:00, 31.18it/s]\n"
     ]
    },
    {
     "name": "stdout",
     "output_type": "stream",
     "text": [
      "226452<>51498 pair\n"
     ]
    },
    {
     "name": "stderr",
     "output_type": "stream",
     "text": [
      "100%|██████████| 8389/8389 [02:03<00:00, 67.81it/s] \n"
     ]
    },
    {
     "name": "stdout",
     "output_type": "stream",
     "text": [
      "226452<>51491 pair\n"
     ]
    },
    {
     "name": "stderr",
     "output_type": "stream",
     "text": [
      "100%|██████████| 8389/8389 [02:07<00:00, 65.86it/s] \n"
     ]
    },
    {
     "name": "stdout",
     "output_type": "stream",
     "text": [
      "226452<>50981 pair\n"
     ]
    },
    {
     "name": "stderr",
     "output_type": "stream",
     "text": [
      "100%|██████████| 8389/8389 [00:00<00:00, 13959.89it/s]\n"
     ]
    },
    {
     "name": "stdout",
     "output_type": "stream",
     "text": [
      "226452<>50822 pair\n"
     ]
    },
    {
     "name": "stderr",
     "output_type": "stream",
     "text": [
      "100%|██████████| 8389/8389 [01:58<00:00, 70.55it/s] \n"
     ]
    },
    {
     "name": "stdout",
     "output_type": "stream",
     "text": [
      "226452<>51249 pair\n"
     ]
    },
    {
     "name": "stderr",
     "output_type": "stream",
     "text": [
      "100%|██████████| 8389/8389 [12:20<00:00, 11.32it/s]   \n"
     ]
    },
    {
     "name": "stdout",
     "output_type": "stream",
     "text": [
      "226452<>51250 pair\n"
     ]
    },
    {
     "name": "stderr",
     "output_type": "stream",
     "text": [
      "100%|██████████| 8389/8389 [07:25<00:00, 18.83it/s]   \n"
     ]
    },
    {
     "name": "stdout",
     "output_type": "stream",
     "text": [
      "226452<>51265 pair\n"
     ]
    },
    {
     "name": "stderr",
     "output_type": "stream",
     "text": [
      "100%|██████████| 8389/8389 [04:12<00:00, 33.25it/s]\n"
     ]
    },
    {
     "name": "stdout",
     "output_type": "stream",
     "text": [
      "226452<>51277 pair\n"
     ]
    },
    {
     "name": "stderr",
     "output_type": "stream",
     "text": [
      "100%|██████████| 8389/8389 [04:20<00:00, 32.23it/s]\n"
     ]
    },
    {
     "name": "stdout",
     "output_type": "stream",
     "text": [
      "226452<>51279 pair\n"
     ]
    },
    {
     "name": "stderr",
     "output_type": "stream",
     "text": [
      "100%|██████████| 8389/8389 [04:15<00:00, 32.83it/s]\n"
     ]
    },
    {
     "name": "stdout",
     "output_type": "stream",
     "text": [
      "226452<>51301 pair\n"
     ]
    },
    {
     "name": "stderr",
     "output_type": "stream",
     "text": [
      "100%|██████████| 8389/8389 [04:13<00:00, 33.06it/s]\n"
     ]
    },
    {
     "name": "stdout",
     "output_type": "stream",
     "text": [
      "226452<>50811 pair\n"
     ]
    },
    {
     "name": "stderr",
     "output_type": "stream",
     "text": [
      "100%|██████████| 8389/8389 [01:44<00:00, 80.37it/s] \n"
     ]
    },
    {
     "name": "stdout",
     "output_type": "stream",
     "text": [
      "226452<>50810 pair\n"
     ]
    },
    {
     "name": "stderr",
     "output_type": "stream",
     "text": [
      "100%|██████████| 8389/8389 [01:42<00:00, 82.08it/s] \n"
     ]
    },
    {
     "name": "stdout",
     "output_type": "stream",
     "text": [
      "226452<>50820 pair\n"
     ]
    },
    {
     "name": "stderr",
     "output_type": "stream",
     "text": [
      "100%|██████████| 8389/8389 [02:58<00:00, 46.91it/s]\n"
     ]
    },
    {
     "name": "stdout",
     "output_type": "stream",
     "text": [
      "226452<>51516 pair\n"
     ]
    },
    {
     "name": "stderr",
     "output_type": "stream",
     "text": [
      "100%|██████████| 8389/8389 [00:57<00:00, 146.28it/s]\n"
     ]
    },
    {
     "name": "stdout",
     "output_type": "stream",
     "text": [
      "226452<>51059 pair\n"
     ]
    },
    {
     "name": "stderr",
     "output_type": "stream",
     "text": [
      "100%|██████████| 8389/8389 [00:04<00:00, 2031.85it/s] \n"
     ]
    },
    {
     "name": "stdout",
     "output_type": "stream",
     "text": [
      "226452<>51054 pair\n"
     ]
    },
    {
     "name": "stderr",
     "output_type": "stream",
     "text": [
      "100%|██████████| 8389/8389 [00:04<00:00, 2034.82it/s] \n"
     ]
    },
    {
     "name": "stdout",
     "output_type": "stream",
     "text": [
      "226452<>51053 pair\n"
     ]
    },
    {
     "name": "stderr",
     "output_type": "stream",
     "text": [
      "100%|██████████| 8389/8389 [00:03<00:00, 2138.06it/s] \n"
     ]
    },
    {
     "name": "stdout",
     "output_type": "stream",
     "text": [
      "226452<>51046 pair\n"
     ]
    },
    {
     "name": "stderr",
     "output_type": "stream",
     "text": [
      "100%|██████████| 8389/8389 [00:01<00:00, 5071.10it/s] \n"
     ]
    },
    {
     "name": "stdout",
     "output_type": "stream",
     "text": [
      "226452<>50806 pair\n"
     ]
    },
    {
     "name": "stderr",
     "output_type": "stream",
     "text": [
      "100%|██████████| 8389/8389 [01:40<00:00, 83.33it/s] \n"
     ]
    },
    {
     "name": "stdout",
     "output_type": "stream",
     "text": [
      "226452<>50824 pair\n"
     ]
    },
    {
     "name": "stderr",
     "output_type": "stream",
     "text": [
      "100%|██████████| 8389/8389 [01:43<00:00, 81.40it/s] \n"
     ]
    },
    {
     "name": "stdout",
     "output_type": "stream",
     "text": [
      "226452<>50809 pair\n"
     ]
    },
    {
     "name": "stderr",
     "output_type": "stream",
     "text": [
      "100%|██████████| 8389/8389 [01:56<00:00, 72.00it/s] \n"
     ]
    },
    {
     "name": "stdout",
     "output_type": "stream",
     "text": [
      "226452<>50821 pair\n"
     ]
    },
    {
     "name": "stderr",
     "output_type": "stream",
     "text": [
      "100%|██████████| 8389/8389 [02:56<00:00, 47.60it/s]\n"
     ]
    },
    {
     "name": "stdout",
     "output_type": "stream",
     "text": [
      "226452<>50818 pair\n"
     ]
    },
    {
     "name": "stderr",
     "output_type": "stream",
     "text": [
      "100%|██████████| 8389/8389 [02:49<00:00, 49.38it/s] \n"
     ]
    },
    {
     "name": "stdout",
     "output_type": "stream",
     "text": [
      "226452<>50808 pair\n"
     ]
    },
    {
     "name": "stderr",
     "output_type": "stream",
     "text": [
      "100%|██████████| 8389/8389 [02:08<00:00, 65.34it/s] \n"
     ]
    },
    {
     "name": "stdout",
     "output_type": "stream",
     "text": [
      "226452<>50804 pair\n"
     ]
    },
    {
     "name": "stderr",
     "output_type": "stream",
     "text": [
      "100%|██████████| 8389/8389 [02:47<00:00, 50.03it/s] \n"
     ]
    },
    {
     "name": "stdout",
     "output_type": "stream",
     "text": [
      "226452<>50802 pair\n"
     ]
    },
    {
     "name": "stderr",
     "output_type": "stream",
     "text": [
      "100%|██████████| 8389/8389 [02:45<00:00, 50.83it/s] \n"
     ]
    },
    {
     "name": "stdout",
     "output_type": "stream",
     "text": [
      "226452<>50819 pair\n"
     ]
    },
    {
     "name": "stderr",
     "output_type": "stream",
     "text": [
      "100%|██████████| 8389/8389 [00:45<00:00, 182.44it/s]\n"
     ]
    },
    {
     "name": "stdout",
     "output_type": "stream",
     "text": [
      "226452<>50816 pair\n"
     ]
    },
    {
     "name": "stderr",
     "output_type": "stream",
     "text": [
      "100%|██████████| 8389/8389 [00:56<00:00, 147.88it/s]\n"
     ]
    },
    {
     "name": "stdout",
     "output_type": "stream",
     "text": [
      "226452<>50993 pair\n"
     ]
    },
    {
     "name": "stderr",
     "output_type": "stream",
     "text": [
      "100%|██████████| 8389/8389 [00:28<00:00, 296.12it/s]\n"
     ]
    },
    {
     "name": "stdout",
     "output_type": "stream",
     "text": [
      "226452<>50994 pair\n"
     ]
    },
    {
     "name": "stderr",
     "output_type": "stream",
     "text": [
      "100%|██████████| 8389/8389 [00:03<00:00, 2272.50it/s] \n"
     ]
    },
    {
     "name": "stdout",
     "output_type": "stream",
     "text": [
      "226452<>50935 pair\n"
     ]
    },
    {
     "name": "stderr",
     "output_type": "stream",
     "text": [
      "100%|██████████| 8389/8389 [00:15<00:00, 558.29it/s] \n"
     ]
    },
    {
     "name": "stdout",
     "output_type": "stream",
     "text": [
      "226452<>51010 pair\n"
     ]
    },
    {
     "name": "stderr",
     "output_type": "stream",
     "text": [
      "100%|██████████| 8389/8389 [00:13<00:00, 600.41it/s] \n"
     ]
    },
    {
     "name": "stdout",
     "output_type": "stream",
     "text": [
      "226452<>50815 pair\n"
     ]
    },
    {
     "name": "stderr",
     "output_type": "stream",
     "text": [
      "100%|██████████| 8389/8389 [00:13<00:00, 619.42it/s] \n"
     ]
    },
    {
     "name": "stdout",
     "output_type": "stream",
     "text": [
      "226452<>50817 pair\n"
     ]
    },
    {
     "name": "stderr",
     "output_type": "stream",
     "text": [
      "100%|██████████| 8389/8389 [02:15<00:00, 61.81it/s] \n"
     ]
    },
    {
     "name": "stdout",
     "output_type": "stream",
     "text": [
      "226452<>50998 pair\n"
     ]
    },
    {
     "name": "stderr",
     "output_type": "stream",
     "text": [
      "100%|██████████| 8389/8389 [00:20<00:00, 403.29it/s] \n"
     ]
    },
    {
     "name": "stdout",
     "output_type": "stream",
     "text": [
      "226452<>50952 pair\n"
     ]
    },
    {
     "name": "stderr",
     "output_type": "stream",
     "text": [
      "100%|██████████| 8389/8389 [00:21<00:00, 392.47it/s] \n"
     ]
    },
    {
     "name": "stdout",
     "output_type": "stream",
     "text": [
      "226452<>50862 pair\n"
     ]
    },
    {
     "name": "stderr",
     "output_type": "stream",
     "text": [
      "100%|██████████| 8389/8389 [01:46<00:00, 78.92it/s] \n"
     ]
    },
    {
     "name": "stdout",
     "output_type": "stream",
     "text": [
      "226452<>50885 pair\n"
     ]
    },
    {
     "name": "stderr",
     "output_type": "stream",
     "text": [
      "100%|██████████| 8389/8389 [02:01<00:00, 68.90it/s] \n"
     ]
    },
    {
     "name": "stdout",
     "output_type": "stream",
     "text": [
      "226452<>50863 pair\n"
     ]
    },
    {
     "name": "stderr",
     "output_type": "stream",
     "text": [
      "100%|██████████| 8389/8389 [01:58<00:00, 70.59it/s] \n"
     ]
    },
    {
     "name": "stdout",
     "output_type": "stream",
     "text": [
      "226452<>50911 pair\n"
     ]
    },
    {
     "name": "stderr",
     "output_type": "stream",
     "text": [
      "100%|██████████| 8389/8389 [01:22<00:00, 101.67it/s]\n"
     ]
    },
    {
     "name": "stdout",
     "output_type": "stream",
     "text": [
      "226452<>50910 pair\n"
     ]
    },
    {
     "name": "stderr",
     "output_type": "stream",
     "text": [
      "100%|██████████| 8389/8389 [01:39<00:00, 84.48it/s] \n"
     ]
    },
    {
     "name": "stdout",
     "output_type": "stream",
     "text": [
      "226452<>50878 pair\n"
     ]
    },
    {
     "name": "stderr",
     "output_type": "stream",
     "text": [
      "100%|██████████| 8389/8389 [02:05<00:00, 66.78it/s] \n"
     ]
    },
    {
     "name": "stdout",
     "output_type": "stream",
     "text": [
      "226452<>50861 pair\n"
     ]
    },
    {
     "name": "stderr",
     "output_type": "stream",
     "text": [
      "100%|██████████| 8389/8389 [02:05<00:00, 66.69it/s] \n"
     ]
    },
    {
     "name": "stdout",
     "output_type": "stream",
     "text": [
      "226452<>51493 pair\n"
     ]
    },
    {
     "name": "stderr",
     "output_type": "stream",
     "text": [
      "100%|██████████| 8389/8389 [00:56<00:00, 148.86it/s]\n"
     ]
    },
    {
     "name": "stdout",
     "output_type": "stream",
     "text": [
      "226452<>51482 pair\n"
     ]
    },
    {
     "name": "stderr",
     "output_type": "stream",
     "text": [
      "100%|██████████| 8389/8389 [00:25<00:00, 329.65it/s] \n"
     ]
    },
    {
     "name": "stdout",
     "output_type": "stream",
     "text": [
      "226452<>51476 pair\n"
     ]
    },
    {
     "name": "stderr",
     "output_type": "stream",
     "text": [
      "100%|██████████| 8389/8389 [01:01<00:00, 136.91it/s]\n"
     ]
    },
    {
     "name": "stdout",
     "output_type": "stream",
     "text": [
      "226452<>50954 pair\n"
     ]
    },
    {
     "name": "stderr",
     "output_type": "stream",
     "text": [
      "100%|██████████| 8389/8389 [01:32<00:00, 90.40it/s] \n"
     ]
    },
    {
     "name": "stdout",
     "output_type": "stream",
     "text": [
      "226452<>50963 pair\n"
     ]
    },
    {
     "name": "stderr",
     "output_type": "stream",
     "text": [
      "100%|██████████| 8389/8389 [00:11<00:00, 757.77it/s] \n"
     ]
    },
    {
     "name": "stdout",
     "output_type": "stream",
     "text": [
      "226452<>50956 pair\n"
     ]
    },
    {
     "name": "stderr",
     "output_type": "stream",
     "text": [
      "100%|██████████| 8389/8389 [00:46<00:00, 180.46it/s]\n"
     ]
    },
    {
     "name": "stdout",
     "output_type": "stream",
     "text": [
      "226452<>50867 pair\n"
     ]
    },
    {
     "name": "stderr",
     "output_type": "stream",
     "text": [
      "100%|██████████| 8389/8389 [00:43<00:00, 192.40it/s]\n"
     ]
    },
    {
     "name": "stdout",
     "output_type": "stream",
     "text": [
      "226452<>51146 pair\n"
     ]
    },
    {
     "name": "stderr",
     "output_type": "stream",
     "text": [
      "100%|██████████| 8389/8389 [01:38<00:00, 85.20it/s] \n"
     ]
    },
    {
     "name": "stdout",
     "output_type": "stream",
     "text": [
      "226452<>51200 pair\n"
     ]
    },
    {
     "name": "stderr",
     "output_type": "stream",
     "text": [
      "100%|██████████| 8389/8389 [01:38<00:00, 85.39it/s] \n"
     ]
    },
    {
     "name": "stdout",
     "output_type": "stream",
     "text": [
      "226452<>51244 pair\n"
     ]
    },
    {
     "name": "stderr",
     "output_type": "stream",
     "text": [
      "100%|██████████| 8389/8389 [01:41<00:00, 82.59it/s] \n"
     ]
    },
    {
     "name": "stdout",
     "output_type": "stream",
     "text": [
      "226452<>51254 pair\n"
     ]
    },
    {
     "name": "stderr",
     "output_type": "stream",
     "text": [
      "100%|██████████| 8389/8389 [01:44<00:00, 80.37it/s] \n"
     ]
    },
    {
     "name": "stdout",
     "output_type": "stream",
     "text": [
      "226452<>51256 pair\n"
     ]
    },
    {
     "name": "stderr",
     "output_type": "stream",
     "text": [
      "100%|██████████| 8389/8389 [01:43<00:00, 80.95it/s] \n"
     ]
    },
    {
     "name": "stdout",
     "output_type": "stream",
     "text": [
      "226452<>51143 pair\n"
     ]
    },
    {
     "name": "stderr",
     "output_type": "stream",
     "text": [
      "100%|██████████| 8389/8389 [00:31<00:00, 270.23it/s] \n"
     ]
    },
    {
     "name": "stdout",
     "output_type": "stream",
     "text": [
      "226452<>51144 pair\n"
     ]
    },
    {
     "name": "stderr",
     "output_type": "stream",
     "text": [
      "100%|██████████| 8389/8389 [00:34<00:00, 245.97it/s]\n"
     ]
    },
    {
     "name": "stdout",
     "output_type": "stream",
     "text": [
      "226452<>51251 pair\n"
     ]
    },
    {
     "name": "stderr",
     "output_type": "stream",
     "text": [
      "100%|██████████| 8389/8389 [00:29<00:00, 279.73it/s] \n"
     ]
    },
    {
     "name": "stdout",
     "output_type": "stream",
     "text": [
      "226452<>51255 pair\n"
     ]
    },
    {
     "name": "stderr",
     "output_type": "stream",
     "text": [
      "100%|██████████| 8389/8389 [00:30<00:00, 277.94it/s] \n"
     ]
    },
    {
     "name": "stdout",
     "output_type": "stream",
     "text": [
      "226452<>50883 pair\n"
     ]
    },
    {
     "name": "stderr",
     "output_type": "stream",
     "text": [
      "100%|██████████| 8389/8389 [00:18<00:00, 464.66it/s] \n"
     ]
    },
    {
     "name": "stdout",
     "output_type": "stream",
     "text": [
      "226452<>50884 pair\n"
     ]
    },
    {
     "name": "stderr",
     "output_type": "stream",
     "text": [
      "100%|██████████| 8389/8389 [00:17<00:00, 487.33it/s] \n"
     ]
    },
    {
     "name": "stdout",
     "output_type": "stream",
     "text": [
      "226452<>51283 pair\n"
     ]
    },
    {
     "name": "stderr",
     "output_type": "stream",
     "text": [
      "100%|██████████| 8389/8389 [00:12<00:00, 680.99it/s] \n"
     ]
    },
    {
     "name": "stdout",
     "output_type": "stream",
     "text": [
      "226452<>50924 pair\n"
     ]
    },
    {
     "name": "stderr",
     "output_type": "stream",
     "text": [
      "100%|██████████| 8389/8389 [00:21<00:00, 389.77it/s] \n"
     ]
    },
    {
     "name": "stdout",
     "output_type": "stream",
     "text": [
      "226452<>50953 pair\n"
     ]
    },
    {
     "name": "stderr",
     "output_type": "stream",
     "text": [
      "100%|██████████| 8389/8389 [00:20<00:00, 401.92it/s] \n"
     ]
    },
    {
     "name": "stdout",
     "output_type": "stream",
     "text": [
      "226452<>51007 pair\n"
     ]
    },
    {
     "name": "stderr",
     "output_type": "stream",
     "text": [
      "100%|██████████| 8389/8389 [00:07<00:00, 1078.89it/s]\n"
     ]
    },
    {
     "name": "stdout",
     "output_type": "stream",
     "text": [
      "226452<>50852 pair\n"
     ]
    },
    {
     "name": "stderr",
     "output_type": "stream",
     "text": [
      "100%|██████████| 8389/8389 [00:35<00:00, 235.34it/s] \n"
     ]
    },
    {
     "name": "stdout",
     "output_type": "stream",
     "text": [
      "226452<>50825 pair\n"
     ]
    },
    {
     "name": "stderr",
     "output_type": "stream",
     "text": [
      "100%|██████████| 8389/8389 [01:05<00:00, 128.94it/s]\n"
     ]
    },
    {
     "name": "stdout",
     "output_type": "stream",
     "text": [
      "226452<>51478 pair\n"
     ]
    },
    {
     "name": "stderr",
     "output_type": "stream",
     "text": [
      "100%|██████████| 8389/8389 [00:16<00:00, 523.13it/s] \n"
     ]
    },
    {
     "name": "stdout",
     "output_type": "stream",
     "text": [
      "226452<>50967 pair\n"
     ]
    },
    {
     "name": "stderr",
     "output_type": "stream",
     "text": [
      "100%|██████████| 8389/8389 [00:12<00:00, 646.08it/s] \n"
     ]
    },
    {
     "name": "stdout",
     "output_type": "stream",
     "text": [
      "226452<>50803 pair\n"
     ]
    },
    {
     "name": "stderr",
     "output_type": "stream",
     "text": [
      "100%|██████████| 8389/8389 [00:09<00:00, 907.51it/s] \n"
     ]
    },
    {
     "name": "stdout",
     "output_type": "stream",
     "text": [
      "226452<>50826 pair\n"
     ]
    },
    {
     "name": "stderr",
     "output_type": "stream",
     "text": [
      "100%|██████████| 8389/8389 [00:50<00:00, 166.89it/s] \n"
     ]
    },
    {
     "name": "stdout",
     "output_type": "stream",
     "text": [
      "226452<>50964 pair\n"
     ]
    },
    {
     "name": "stderr",
     "output_type": "stream",
     "text": [
      "100%|██████████| 8389/8389 [00:14<00:00, 595.64it/s] \n"
     ]
    },
    {
     "name": "stdout",
     "output_type": "stream",
     "text": [
      "226452<>51288 pair\n"
     ]
    },
    {
     "name": "stderr",
     "output_type": "stream",
     "text": [
      "100%|██████████| 8389/8389 [00:08<00:00, 1006.58it/s]\n"
     ]
    },
    {
     "name": "stdout",
     "output_type": "stream",
     "text": [
      "226452<>50801 pair\n"
     ]
    },
    {
     "name": "stderr",
     "output_type": "stream",
     "text": [
      "100%|██████████| 8389/8389 [00:20<00:00, 407.27it/s] \n"
     ]
    },
    {
     "name": "stdout",
     "output_type": "stream",
     "text": [
      "226452<>50823 pair\n"
     ]
    },
    {
     "name": "stderr",
     "output_type": "stream",
     "text": [
      "100%|██████████| 8389/8389 [00:20<00:00, 407.04it/s] \n"
     ]
    },
    {
     "name": "stdout",
     "output_type": "stream",
     "text": [
      "226452<>51492 pair\n"
     ]
    },
    {
     "name": "stderr",
     "output_type": "stream",
     "text": [
      "100%|██████████| 8389/8389 [00:52<00:00, 160.72it/s]\n"
     ]
    },
    {
     "name": "stdout",
     "output_type": "stream",
     "text": [
      "226452<>51463 pair\n"
     ]
    },
    {
     "name": "stderr",
     "output_type": "stream",
     "text": [
      "100%|██████████| 8389/8389 [00:01<00:00, 7377.35it/s] \n"
     ]
    },
    {
     "name": "stdout",
     "output_type": "stream",
     "text": [
      "226452<>51484 pair\n"
     ]
    },
    {
     "name": "stderr",
     "output_type": "stream",
     "text": [
      "100%|██████████| 8389/8389 [00:20<00:00, 415.32it/s] \n"
     ]
    },
    {
     "name": "stdout",
     "output_type": "stream",
     "text": [
      "226452<>51097 pair\n"
     ]
    },
    {
     "name": "stderr",
     "output_type": "stream",
     "text": [
      "100%|██████████| 8389/8389 [00:26<00:00, 320.41it/s] \n"
     ]
    },
    {
     "name": "stdout",
     "output_type": "stream",
     "text": [
      "226452<>51100 pair\n"
     ]
    },
    {
     "name": "stderr",
     "output_type": "stream",
     "text": [
      "100%|██████████| 8389/8389 [00:39<00:00, 214.51it/s]\n"
     ]
    },
    {
     "name": "stdout",
     "output_type": "stream",
     "text": [
      "226452<>51082 pair\n"
     ]
    },
    {
     "name": "stderr",
     "output_type": "stream",
     "text": [
      "100%|██████████| 8389/8389 [00:43<00:00, 194.50it/s]\n"
     ]
    },
    {
     "name": "stdout",
     "output_type": "stream",
     "text": [
      "226452<>51078 pair\n"
     ]
    },
    {
     "name": "stderr",
     "output_type": "stream",
     "text": [
      "100%|██████████| 8389/8389 [00:24<00:00, 340.05it/s] \n"
     ]
    },
    {
     "name": "stdout",
     "output_type": "stream",
     "text": [
      "226452<>51497 pair\n"
     ]
    },
    {
     "name": "stderr",
     "output_type": "stream",
     "text": [
      "100%|██████████| 8389/8389 [00:00<00:00, 10231.85it/s]\n"
     ]
    },
    {
     "name": "stdout",
     "output_type": "stream",
     "text": [
      "226452<>51501 pair\n"
     ]
    },
    {
     "name": "stderr",
     "output_type": "stream",
     "text": [
      "100%|██████████| 8389/8389 [00:03<00:00, 2327.72it/s] \n"
     ]
    },
    {
     "name": "stdout",
     "output_type": "stream",
     "text": [
      "226452<>50805 pair\n"
     ]
    },
    {
     "name": "stderr",
     "output_type": "stream",
     "text": [
      "100%|██████████| 8389/8389 [00:03<00:00, 2253.39it/s]\n"
     ]
    },
    {
     "name": "stdout",
     "output_type": "stream",
     "text": [
      "226452<>50814 pair\n"
     ]
    },
    {
     "name": "stderr",
     "output_type": "stream",
     "text": [
      "100%|██████████| 8389/8389 [00:03<00:00, 2557.87it/s] \n"
     ]
    },
    {
     "name": "stdout",
     "output_type": "stream",
     "text": [
      "226452<>51003 pair\n"
     ]
    },
    {
     "name": "stderr",
     "output_type": "stream",
     "text": [
      "100%|██████████| 8389/8389 [01:01<00:00, 136.14it/s]\n"
     ]
    },
    {
     "name": "stdout",
     "output_type": "stream",
     "text": [
      "226452<>51214 pair\n"
     ]
    },
    {
     "name": "stderr",
     "output_type": "stream",
     "text": [
      "100%|██████████| 8389/8389 [01:14<00:00, 112.90it/s]\n"
     ]
    },
    {
     "name": "stdout",
     "output_type": "stream",
     "text": [
      "226452<>50908 pair\n"
     ]
    },
    {
     "name": "stderr",
     "output_type": "stream",
     "text": [
      "100%|██████████| 8389/8389 [00:23<00:00, 351.64it/s]\n"
     ]
    },
    {
     "name": "stdout",
     "output_type": "stream",
     "text": [
      "226452<>50915 pair\n"
     ]
    },
    {
     "name": "stderr",
     "output_type": "stream",
     "text": [
      "100%|██████████| 8389/8389 [00:03<00:00, 2418.03it/s]\n"
     ]
    },
    {
     "name": "stdout",
     "output_type": "stream",
     "text": [
      "226452<>51514 pair\n"
     ]
    },
    {
     "name": "stderr",
     "output_type": "stream",
     "text": [
      "100%|██████████| 8389/8389 [00:26<00:00, 316.26it/s] \n"
     ]
    },
    {
     "name": "stdout",
     "output_type": "stream",
     "text": [
      "226452<>51104 pair\n"
     ]
    },
    {
     "name": "stderr",
     "output_type": "stream",
     "text": [
      "100%|██████████| 8389/8389 [00:28<00:00, 292.25it/s] \n"
     ]
    },
    {
     "name": "stdout",
     "output_type": "stream",
     "text": [
      "226452<>51093 pair\n"
     ]
    },
    {
     "name": "stderr",
     "output_type": "stream",
     "text": [
      "100%|██████████| 8389/8389 [00:34<00:00, 245.13it/s] \n"
     ]
    },
    {
     "name": "stdout",
     "output_type": "stream",
     "text": [
      "226452<>50905 pair\n"
     ]
    },
    {
     "name": "stderr",
     "output_type": "stream",
     "text": [
      "100%|██████████| 8389/8389 [00:18<00:00, 452.36it/s] \n"
     ]
    },
    {
     "name": "stdout",
     "output_type": "stream",
     "text": [
      "226452<>50903 pair\n"
     ]
    },
    {
     "name": "stderr",
     "output_type": "stream",
     "text": [
      "100%|██████████| 8389/8389 [00:17<00:00, 490.52it/s] \n"
     ]
    },
    {
     "name": "stdout",
     "output_type": "stream",
     "text": [
      "226452<>50904 pair\n"
     ]
    },
    {
     "name": "stderr",
     "output_type": "stream",
     "text": [
      "100%|██████████| 8389/8389 [00:16<00:00, 494.88it/s] \n"
     ]
    },
    {
     "name": "stdout",
     "output_type": "stream",
     "text": [
      "226452<>50907 pair\n"
     ]
    },
    {
     "name": "stderr",
     "output_type": "stream",
     "text": [
      "100%|██████████| 8389/8389 [00:17<00:00, 476.14it/s] \n"
     ]
    },
    {
     "name": "stdout",
     "output_type": "stream",
     "text": [
      "226452<>51000 pair\n"
     ]
    },
    {
     "name": "stderr",
     "output_type": "stream",
     "text": [
      "100%|██████████| 8389/8389 [00:26<00:00, 317.54it/s] \n"
     ]
    },
    {
     "name": "stdout",
     "output_type": "stream",
     "text": [
      "226452<>50957 pair\n"
     ]
    },
    {
     "name": "stderr",
     "output_type": "stream",
     "text": [
      "100%|██████████| 8389/8389 [00:00<00:00, 9645.04it/s] \n"
     ]
    },
    {
     "name": "stdout",
     "output_type": "stream",
     "text": [
      "226452<>50917 pair\n"
     ]
    },
    {
     "name": "stderr",
     "output_type": "stream",
     "text": [
      "100%|██████████| 8389/8389 [00:04<00:00, 1728.64it/s]\n"
     ]
    },
    {
     "name": "stdout",
     "output_type": "stream",
     "text": [
      "226452<>51009 pair\n"
     ]
    },
    {
     "name": "stderr",
     "output_type": "stream",
     "text": [
      "100%|██████████| 8389/8389 [00:29<00:00, 282.24it/s] \n"
     ]
    },
    {
     "name": "stdout",
     "output_type": "stream",
     "text": [
      "226452<>51479 pair\n"
     ]
    },
    {
     "name": "stderr",
     "output_type": "stream",
     "text": [
      "100%|██████████| 8389/8389 [00:08<00:00, 992.12it/s] \n"
     ]
    },
    {
     "name": "stdout",
     "output_type": "stream",
     "text": [
      "226452<>51434 pair\n"
     ]
    },
    {
     "name": "stderr",
     "output_type": "stream",
     "text": [
      "100%|██████████| 8389/8389 [00:01<00:00, 4754.47it/s] \n"
     ]
    },
    {
     "name": "stdout",
     "output_type": "stream",
     "text": [
      "226452<>51436 pair\n"
     ]
    },
    {
     "name": "stderr",
     "output_type": "stream",
     "text": [
      "100%|██████████| 8389/8389 [00:05<00:00, 1618.56it/s] \n"
     ]
    },
    {
     "name": "stdout",
     "output_type": "stream",
     "text": [
      "226452<>51438 pair\n"
     ]
    },
    {
     "name": "stderr",
     "output_type": "stream",
     "text": [
      "100%|██████████| 8389/8389 [00:02<00:00, 3456.71it/s] \n"
     ]
    },
    {
     "name": "stdout",
     "output_type": "stream",
     "text": [
      "226452<>51439 pair\n"
     ]
    },
    {
     "name": "stderr",
     "output_type": "stream",
     "text": [
      "100%|██████████| 8389/8389 [00:02<00:00, 2958.28it/s] \n"
     ]
    },
    {
     "name": "stdout",
     "output_type": "stream",
     "text": [
      "226452<>51025 pair\n"
     ]
    },
    {
     "name": "stderr",
     "output_type": "stream",
     "text": [
      "100%|██████████| 8389/8389 [00:00<00:00, 11533.56it/s]\n"
     ]
    },
    {
     "name": "stdout",
     "output_type": "stream",
     "text": [
      "226452<>51431 pair\n"
     ]
    },
    {
     "name": "stderr",
     "output_type": "stream",
     "text": [
      "100%|██████████| 8389/8389 [00:05<00:00, 1634.52it/s] \n"
     ]
    },
    {
     "name": "stdout",
     "output_type": "stream",
     "text": [
      "226452<>51427 pair\n"
     ]
    },
    {
     "name": "stderr",
     "output_type": "stream",
     "text": [
      "100%|██████████| 8389/8389 [00:05<00:00, 1626.66it/s] \n"
     ]
    },
    {
     "name": "stdout",
     "output_type": "stream",
     "text": [
      "226452<>51034 pair\n"
     ]
    },
    {
     "name": "stderr",
     "output_type": "stream",
     "text": [
      "100%|██████████| 8389/8389 [00:00<00:00, 11959.40it/s]\n"
     ]
    },
    {
     "name": "stdout",
     "output_type": "stream",
     "text": [
      "226452<>51043 pair\n"
     ]
    },
    {
     "name": "stderr",
     "output_type": "stream",
     "text": [
      "100%|██████████| 8389/8389 [00:00<00:00, 10277.46it/s]\n"
     ]
    },
    {
     "name": "stdout",
     "output_type": "stream",
     "text": [
      "226452<>51035 pair\n"
     ]
    },
    {
     "name": "stderr",
     "output_type": "stream",
     "text": [
      "100%|██████████| 8389/8389 [00:00<00:00, 11207.12it/s]\n"
     ]
    },
    {
     "name": "stdout",
     "output_type": "stream",
     "text": [
      "226452<>51450 pair\n"
     ]
    },
    {
     "name": "stderr",
     "output_type": "stream",
     "text": [
      "100%|██████████| 8389/8389 [00:04<00:00, 2066.16it/s] \n"
     ]
    },
    {
     "name": "stdout",
     "output_type": "stream",
     "text": [
      "226452<>51446 pair\n"
     ]
    },
    {
     "name": "stderr",
     "output_type": "stream",
     "text": [
      "100%|██████████| 8389/8389 [00:04<00:00, 2057.52it/s] \n"
     ]
    },
    {
     "name": "stdout",
     "output_type": "stream",
     "text": [
      "226452<>50922 pair\n"
     ]
    },
    {
     "name": "stderr",
     "output_type": "stream",
     "text": [
      "100%|██████████| 8389/8389 [00:00<00:00, 13899.89it/s]\n"
     ]
    },
    {
     "name": "stdout",
     "output_type": "stream",
     "text": [
      "226452<>51455 pair\n"
     ]
    },
    {
     "name": "stderr",
     "output_type": "stream",
     "text": [
      "100%|██████████| 8389/8389 [00:04<00:00, 1942.02it/s] \n"
     ]
    },
    {
     "name": "stdout",
     "output_type": "stream",
     "text": [
      "226452<>51444 pair\n"
     ]
    },
    {
     "name": "stderr",
     "output_type": "stream",
     "text": [
      "100%|██████████| 8389/8389 [00:01<00:00, 5149.08it/s] \n"
     ]
    },
    {
     "name": "stdout",
     "output_type": "stream",
     "text": [
      "226452<>51453 pair\n"
     ]
    },
    {
     "name": "stderr",
     "output_type": "stream",
     "text": [
      "100%|██████████| 8389/8389 [00:01<00:00, 5492.92it/s] \n"
     ]
    },
    {
     "name": "stdout",
     "output_type": "stream",
     "text": [
      "226452<>51447 pair\n"
     ]
    },
    {
     "name": "stderr",
     "output_type": "stream",
     "text": [
      "100%|██████████| 8389/8389 [00:02<00:00, 2858.14it/s] \n"
     ]
    },
    {
     "name": "stdout",
     "output_type": "stream",
     "text": [
      "226452<>51458 pair\n"
     ]
    },
    {
     "name": "stderr",
     "output_type": "stream",
     "text": [
      "100%|██████████| 8389/8389 [00:04<00:00, 1891.73it/s] \n"
     ]
    },
    {
     "name": "stdout",
     "output_type": "stream",
     "text": [
      "226452<>51457 pair\n"
     ]
    },
    {
     "name": "stderr",
     "output_type": "stream",
     "text": [
      "100%|██████████| 8389/8389 [00:03<00:00, 2144.72it/s] \n"
     ]
    },
    {
     "name": "stdout",
     "output_type": "stream",
     "text": [
      "226452<>51014 pair\n"
     ]
    },
    {
     "name": "stderr",
     "output_type": "stream",
     "text": [
      "100%|██████████| 8389/8389 [00:04<00:00, 1784.20it/s] \n"
     ]
    },
    {
     "name": "stdout",
     "output_type": "stream",
     "text": [
      "226452<>51018 pair\n"
     ]
    },
    {
     "name": "stderr",
     "output_type": "stream",
     "text": [
      "100%|██████████| 8389/8389 [00:04<00:00, 1780.48it/s]\n"
     ]
    },
    {
     "name": "stdout",
     "output_type": "stream",
     "text": [
      "226452<>51351 pair\n"
     ]
    },
    {
     "name": "stderr",
     "output_type": "stream",
     "text": [
      "100%|██████████| 8389/8389 [00:04<00:00, 1824.99it/s] \n"
     ]
    },
    {
     "name": "stdout",
     "output_type": "stream",
     "text": [
      "226452<>51355 pair\n"
     ]
    },
    {
     "name": "stderr",
     "output_type": "stream",
     "text": [
      "100%|██████████| 8389/8389 [00:04<00:00, 1834.26it/s] \n"
     ]
    },
    {
     "name": "stdout",
     "output_type": "stream",
     "text": [
      "226452<>51360 pair\n"
     ]
    },
    {
     "name": "stderr",
     "output_type": "stream",
     "text": [
      "100%|██████████| 8389/8389 [00:04<00:00, 1830.22it/s] \n"
     ]
    },
    {
     "name": "stdout",
     "output_type": "stream",
     "text": [
      "226452<>51362 pair\n"
     ]
    },
    {
     "name": "stderr",
     "output_type": "stream",
     "text": [
      "100%|██████████| 8389/8389 [00:04<00:00, 1847.31it/s] \n"
     ]
    },
    {
     "name": "stdout",
     "output_type": "stream",
     "text": [
      "226452<>51363 pair\n"
     ]
    },
    {
     "name": "stderr",
     "output_type": "stream",
     "text": [
      "100%|██████████| 8389/8389 [00:04<00:00, 1819.06it/s] \n"
     ]
    },
    {
     "name": "stdout",
     "output_type": "stream",
     "text": [
      "226452<>50909 pair\n"
     ]
    },
    {
     "name": "stderr",
     "output_type": "stream",
     "text": [
      "100%|██████████| 8389/8389 [00:10<00:00, 817.61it/s] \n"
     ]
    },
    {
     "name": "stdout",
     "output_type": "stream",
     "text": [
      "226452<>51102 pair\n"
     ]
    },
    {
     "name": "stderr",
     "output_type": "stream",
     "text": [
      "100%|██████████| 8389/8389 [00:06<00:00, 1203.24it/s]\n"
     ]
    },
    {
     "name": "stdout",
     "output_type": "stream",
     "text": [
      "226452<>51105 pair\n"
     ]
    },
    {
     "name": "stderr",
     "output_type": "stream",
     "text": [
      "100%|██████████| 8389/8389 [00:01<00:00, 5826.67it/s] \n"
     ]
    },
    {
     "name": "stdout",
     "output_type": "stream",
     "text": [
      "226452<>51099 pair\n"
     ]
    },
    {
     "name": "stderr",
     "output_type": "stream",
     "text": [
      "100%|██████████| 8389/8389 [00:06<00:00, 1368.08it/s]\n"
     ]
    },
    {
     "name": "stdout",
     "output_type": "stream",
     "text": [
      "226452<>51379 pair\n"
     ]
    },
    {
     "name": "stderr",
     "output_type": "stream",
     "text": [
      "100%|██████████| 8389/8389 [00:00<00:00, 9148.75it/s] \n"
     ]
    },
    {
     "name": "stdout",
     "output_type": "stream",
     "text": [
      "226452<>51369 pair\n"
     ]
    },
    {
     "name": "stderr",
     "output_type": "stream",
     "text": [
      "100%|██████████| 8389/8389 [00:00<00:00, 20662.79it/s]\n"
     ]
    },
    {
     "name": "stdout",
     "output_type": "stream",
     "text": [
      "226452<>51384 pair\n"
     ]
    },
    {
     "name": "stderr",
     "output_type": "stream",
     "text": [
      "100%|██████████| 8389/8389 [00:00<00:00, 9065.67it/s] \n"
     ]
    },
    {
     "name": "stdout",
     "output_type": "stream",
     "text": [
      "226452<>51382 pair\n"
     ]
    },
    {
     "name": "stderr",
     "output_type": "stream",
     "text": [
      "100%|██████████| 8389/8389 [00:00<00:00, 9169.22it/s] \n"
     ]
    },
    {
     "name": "stdout",
     "output_type": "stream",
     "text": [
      "226452<>51383 pair\n"
     ]
    },
    {
     "name": "stderr",
     "output_type": "stream",
     "text": [
      "100%|██████████| 8389/8389 [00:00<00:00, 11505.18it/s]\n"
     ]
    },
    {
     "name": "stdout",
     "output_type": "stream",
     "text": [
      "226452<>51375 pair\n"
     ]
    },
    {
     "name": "stderr",
     "output_type": "stream",
     "text": [
      "100%|██████████| 8389/8389 [00:00<00:00, 8733.59it/s] \n"
     ]
    },
    {
     "name": "stdout",
     "output_type": "stream",
     "text": [
      "226452<>50925 pair\n"
     ]
    },
    {
     "name": "stderr",
     "output_type": "stream",
     "text": [
      "100%|██████████| 8389/8389 [00:08<00:00, 999.81it/s] \n"
     ]
    },
    {
     "name": "stdout",
     "output_type": "stream",
     "text": [
      "226452<>50856 pair\n"
     ]
    },
    {
     "name": "stderr",
     "output_type": "stream",
     "text": [
      "100%|██████████| 8389/8389 [00:01<00:00, 5231.45it/s]\n"
     ]
    },
    {
     "name": "stdout",
     "output_type": "stream",
     "text": [
      "226452<>51428 pair\n"
     ]
    },
    {
     "name": "stderr",
     "output_type": "stream",
     "text": [
      "100%|██████████| 8389/8389 [00:03<00:00, 2754.32it/s] \n"
     ]
    },
    {
     "name": "stdout",
     "output_type": "stream",
     "text": [
      "226452<>51429 pair\n"
     ]
    },
    {
     "name": "stderr",
     "output_type": "stream",
     "text": [
      "100%|██████████| 8389/8389 [00:01<00:00, 6902.79it/s] \n"
     ]
    },
    {
     "name": "stdout",
     "output_type": "stream",
     "text": [
      "226452<>51026 pair\n"
     ]
    },
    {
     "name": "stderr",
     "output_type": "stream",
     "text": [
      "100%|██████████| 8389/8389 [00:01<00:00, 7003.73it/s] \n"
     ]
    },
    {
     "name": "stdout",
     "output_type": "stream",
     "text": [
      "226452<>50986 pair\n"
     ]
    },
    {
     "name": "stderr",
     "output_type": "stream",
     "text": [
      "100%|██████████| 8389/8389 [00:03<00:00, 2695.94it/s] \n"
     ]
    },
    {
     "name": "stdout",
     "output_type": "stream",
     "text": [
      "226452<>50951 pair\n"
     ]
    },
    {
     "name": "stderr",
     "output_type": "stream",
     "text": [
      "100%|██████████| 8389/8389 [00:03<00:00, 2240.77it/s] \n"
     ]
    },
    {
     "name": "stdout",
     "output_type": "stream",
     "text": [
      "226452<>50950 pair\n"
     ]
    },
    {
     "name": "stderr",
     "output_type": "stream",
     "text": [
      "100%|██████████| 8389/8389 [00:04<00:00, 1725.56it/s]\n"
     ]
    },
    {
     "name": "stdout",
     "output_type": "stream",
     "text": [
      "226452<>50949 pair\n"
     ]
    },
    {
     "name": "stderr",
     "output_type": "stream",
     "text": [
      "100%|██████████| 8389/8389 [00:03<00:00, 2162.04it/s]\n"
     ]
    },
    {
     "name": "stdout",
     "output_type": "stream",
     "text": [
      "226452<>50930 pair\n"
     ]
    },
    {
     "name": "stderr",
     "output_type": "stream",
     "text": [
      "100%|██████████| 8389/8389 [00:03<00:00, 2394.41it/s] \n"
     ]
    },
    {
     "name": "stdout",
     "output_type": "stream",
     "text": [
      "226452<>50976 pair\n"
     ]
    },
    {
     "name": "stderr",
     "output_type": "stream",
     "text": [
      "100%|██████████| 8389/8389 [00:07<00:00, 1104.54it/s]\n"
     ]
    },
    {
     "name": "stdout",
     "output_type": "stream",
     "text": [
      "226452<>51257 pair\n"
     ]
    },
    {
     "name": "stderr",
     "output_type": "stream",
     "text": [
      "100%|██████████| 8389/8389 [00:06<00:00, 1292.27it/s] \n"
     ]
    },
    {
     "name": "stdout",
     "output_type": "stream",
     "text": [
      "226452<>50995 pair\n"
     ]
    },
    {
     "name": "stderr",
     "output_type": "stream",
     "text": [
      "100%|██████████| 8389/8389 [00:05<00:00, 1644.02it/s]\n"
     ]
    },
    {
     "name": "stdout",
     "output_type": "stream",
     "text": [
      "226452<>50900 pair\n"
     ]
    },
    {
     "name": "stderr",
     "output_type": "stream",
     "text": [
      "100%|██████████| 8389/8389 [00:02<00:00, 3684.36it/s] \n"
     ]
    },
    {
     "name": "stdout",
     "output_type": "stream",
     "text": [
      "226452<>51422 pair\n"
     ]
    },
    {
     "name": "stderr",
     "output_type": "stream",
     "text": [
      "100%|██████████| 8389/8389 [00:00<00:00, 10965.42it/s]\n"
     ]
    },
    {
     "name": "stdout",
     "output_type": "stream",
     "text": [
      "226452<>50889 pair\n"
     ]
    },
    {
     "name": "stderr",
     "output_type": "stream",
     "text": [
      "100%|██████████| 8389/8389 [00:07<00:00, 1137.94it/s]\n"
     ]
    },
    {
     "name": "stdout",
     "output_type": "stream",
     "text": [
      "226452<>51138 pair\n"
     ]
    },
    {
     "name": "stderr",
     "output_type": "stream",
     "text": [
      "100%|██████████| 8389/8389 [00:01<00:00, 6973.86it/s] \n"
     ]
    },
    {
     "name": "stdout",
     "output_type": "stream",
     "text": [
      "226452<>51139 pair\n"
     ]
    },
    {
     "name": "stderr",
     "output_type": "stream",
     "text": [
      "100%|██████████| 8389/8389 [00:01<00:00, 6956.16it/s] \n"
     ]
    },
    {
     "name": "stdout",
     "output_type": "stream",
     "text": [
      "226452<>51419 pair\n"
     ]
    },
    {
     "name": "stderr",
     "output_type": "stream",
     "text": [
      "100%|██████████| 8389/8389 [00:01<00:00, 5349.44it/s] \n"
     ]
    },
    {
     "name": "stdout",
     "output_type": "stream",
     "text": [
      "226452<>51051 pair\n"
     ]
    },
    {
     "name": "stderr",
     "output_type": "stream",
     "text": [
      "100%|██████████| 8389/8389 [00:01<00:00, 7985.81it/s] \n"
     ]
    },
    {
     "name": "stdout",
     "output_type": "stream",
     "text": [
      "226452<>51445 pair\n"
     ]
    },
    {
     "name": "stderr",
     "output_type": "stream",
     "text": [
      "100%|██████████| 8389/8389 [00:00<00:00, 13028.83it/s]\n"
     ]
    },
    {
     "name": "stdout",
     "output_type": "stream",
     "text": [
      "226452<>51259 pair\n"
     ]
    },
    {
     "name": "stderr",
     "output_type": "stream",
     "text": [
      "100%|██████████| 8389/8389 [00:01<00:00, 4606.65it/s] \n"
     ]
    },
    {
     "name": "stdout",
     "output_type": "stream",
     "text": [
      "226452<>51148 pair\n"
     ]
    },
    {
     "name": "stderr",
     "output_type": "stream",
     "text": [
      "100%|██████████| 8389/8389 [00:01<00:00, 5651.21it/s] \n"
     ]
    },
    {
     "name": "stdout",
     "output_type": "stream",
     "text": [
      "226452<>51344 pair\n"
     ]
    },
    {
     "name": "stderr",
     "output_type": "stream",
     "text": [
      "100%|██████████| 8389/8389 [00:00<00:00, 17652.37it/s]\n"
     ]
    },
    {
     "name": "stdout",
     "output_type": "stream",
     "text": [
      "226452<>50927 pair\n"
     ]
    },
    {
     "name": "stderr",
     "output_type": "stream",
     "text": [
      "100%|██████████| 8389/8389 [00:01<00:00, 4437.07it/s] \n"
     ]
    },
    {
     "name": "stdout",
     "output_type": "stream",
     "text": [
      "226452<>50866 pair\n"
     ]
    },
    {
     "name": "stderr",
     "output_type": "stream",
     "text": [
      "100%|██████████| 8389/8389 [00:03<00:00, 2231.71it/s]\n"
     ]
    },
    {
     "name": "stdout",
     "output_type": "stream",
     "text": [
      "226452<>51284 pair\n"
     ]
    },
    {
     "name": "stderr",
     "output_type": "stream",
     "text": [
      "100%|██████████| 8389/8389 [00:01<00:00, 6107.27it/s] \n"
     ]
    },
    {
     "name": "stdout",
     "output_type": "stream",
     "text": [
      "226452<>50843 pair\n"
     ]
    },
    {
     "name": "stderr",
     "output_type": "stream",
     "text": [
      "100%|██████████| 8389/8389 [00:02<00:00, 3485.98it/s] \n"
     ]
    },
    {
     "name": "stdout",
     "output_type": "stream",
     "text": [
      "226452<>50835 pair\n"
     ]
    },
    {
     "name": "stderr",
     "output_type": "stream",
     "text": [
      "100%|██████████| 8389/8389 [00:01<00:00, 5598.86it/s] \n"
     ]
    },
    {
     "name": "stdout",
     "output_type": "stream",
     "text": [
      "226452<>50849 pair\n"
     ]
    },
    {
     "name": "stderr",
     "output_type": "stream",
     "text": [
      "100%|██████████| 8389/8389 [00:03<00:00, 2704.52it/s] \n"
     ]
    },
    {
     "name": "stdout",
     "output_type": "stream",
     "text": [
      "226452<>50842 pair\n"
     ]
    },
    {
     "name": "stderr",
     "output_type": "stream",
     "text": [
      "100%|██████████| 8389/8389 [00:02<00:00, 3818.87it/s] \n"
     ]
    },
    {
     "name": "stdout",
     "output_type": "stream",
     "text": [
      "226452<>51125 pair\n"
     ]
    },
    {
     "name": "stderr",
     "output_type": "stream",
     "text": [
      "100%|██████████| 8389/8389 [00:03<00:00, 2143.96it/s] \n"
     ]
    },
    {
     "name": "stdout",
     "output_type": "stream",
     "text": [
      "226452<>51120 pair\n"
     ]
    },
    {
     "name": "stderr",
     "output_type": "stream",
     "text": [
      "100%|██████████| 8389/8389 [00:04<00:00, 2076.17it/s] \n"
     ]
    },
    {
     "name": "stdout",
     "output_type": "stream",
     "text": [
      "226452<>51127 pair\n"
     ]
    },
    {
     "name": "stderr",
     "output_type": "stream",
     "text": [
      "100%|██████████| 8389/8389 [00:04<00:00, 1980.37it/s] \n"
     ]
    },
    {
     "name": "stdout",
     "output_type": "stream",
     "text": [
      "226452<>51116 pair\n"
     ]
    },
    {
     "name": "stderr",
     "output_type": "stream",
     "text": [
      "100%|██████████| 8389/8389 [00:04<00:00, 1958.96it/s] \n"
     ]
    },
    {
     "name": "stdout",
     "output_type": "stream",
     "text": [
      "226452<>51117 pair\n"
     ]
    },
    {
     "name": "stderr",
     "output_type": "stream",
     "text": [
      "100%|██████████| 8389/8389 [00:03<00:00, 2716.47it/s] \n"
     ]
    },
    {
     "name": "stdout",
     "output_type": "stream",
     "text": [
      "226452<>51111 pair\n"
     ]
    },
    {
     "name": "stderr",
     "output_type": "stream",
     "text": [
      "100%|██████████| 8389/8389 [00:00<00:00, 17861.06it/s]\n"
     ]
    },
    {
     "name": "stdout",
     "output_type": "stream",
     "text": [
      "226452<>51128 pair\n"
     ]
    },
    {
     "name": "stderr",
     "output_type": "stream",
     "text": [
      "100%|██████████| 8389/8389 [00:04<00:00, 2060.21it/s] \n"
     ]
    },
    {
     "name": "stdout",
     "output_type": "stream",
     "text": [
      "226452<>50906 pair\n"
     ]
    },
    {
     "name": "stderr",
     "output_type": "stream",
     "text": [
      "100%|██████████| 8389/8389 [00:01<00:00, 5698.39it/s] \n"
     ]
    },
    {
     "name": "stdout",
     "output_type": "stream",
     "text": [
      "226452<>51118 pair\n"
     ]
    },
    {
     "name": "stderr",
     "output_type": "stream",
     "text": [
      "100%|██████████| 8389/8389 [00:02<00:00, 2990.87it/s] \n"
     ]
    },
    {
     "name": "stdout",
     "output_type": "stream",
     "text": [
      "226452<>51269 pair\n"
     ]
    },
    {
     "name": "stderr",
     "output_type": "stream",
     "text": [
      "100%|██████████| 8389/8389 [00:02<00:00, 3893.83it/s] \n"
     ]
    },
    {
     "name": "stdout",
     "output_type": "stream",
     "text": [
      "226452<>51047 pair\n"
     ]
    },
    {
     "name": "stderr",
     "output_type": "stream",
     "text": [
      "100%|██████████| 8389/8389 [00:01<00:00, 6230.80it/s] \n"
     ]
    },
    {
     "name": "stdout",
     "output_type": "stream",
     "text": [
      "226452<>51448 pair\n"
     ]
    },
    {
     "name": "stderr",
     "output_type": "stream",
     "text": [
      "100%|██████████| 8389/8389 [00:02<00:00, 3285.59it/s] \n"
     ]
    },
    {
     "name": "stdout",
     "output_type": "stream",
     "text": [
      "226452<>51052 pair\n"
     ]
    },
    {
     "name": "stderr",
     "output_type": "stream",
     "text": [
      "100%|██████████| 8389/8389 [00:00<00:00, 13959.95it/s]\n"
     ]
    },
    {
     "name": "stdout",
     "output_type": "stream",
     "text": [
      "226452<>50980 pair\n"
     ]
    },
    {
     "name": "stderr",
     "output_type": "stream",
     "text": [
      "100%|██████████| 8389/8389 [00:01<00:00, 5233.50it/s] \n"
     ]
    },
    {
     "name": "stdout",
     "output_type": "stream",
     "text": [
      "226452<>51060 pair\n"
     ]
    },
    {
     "name": "stderr",
     "output_type": "stream",
     "text": [
      "100%|██████████| 8389/8389 [00:00<00:00, 11289.36it/s]\n"
     ]
    },
    {
     "name": "stdout",
     "output_type": "stream",
     "text": [
      "226452<>51263 pair\n"
     ]
    },
    {
     "name": "stderr",
     "output_type": "stream",
     "text": [
      "100%|██████████| 8389/8389 [00:00<00:00, 10850.36it/s]\n"
     ]
    },
    {
     "name": "stdout",
     "output_type": "stream",
     "text": [
      "226452<>50831 pair\n"
     ]
    },
    {
     "name": "stderr",
     "output_type": "stream",
     "text": [
      "100%|██████████| 8389/8389 [00:02<00:00, 3735.04it/s] \n"
     ]
    },
    {
     "name": "stdout",
     "output_type": "stream",
     "text": [
      "226452<>51218 pair\n"
     ]
    },
    {
     "name": "stderr",
     "output_type": "stream",
     "text": [
      "100%|██████████| 8389/8389 [00:04<00:00, 2095.81it/s]\n"
     ]
    },
    {
     "name": "stdout",
     "output_type": "stream",
     "text": [
      "226452<>51005 pair\n"
     ]
    },
    {
     "name": "stderr",
     "output_type": "stream",
     "text": [
      "100%|██████████| 8389/8389 [00:00<00:00, 15529.03it/s]\n"
     ]
    },
    {
     "name": "stdout",
     "output_type": "stream",
     "text": [
      "226452<>50896 pair\n"
     ]
    },
    {
     "name": "stderr",
     "output_type": "stream",
     "text": [
      "100%|██████████| 8389/8389 [00:00<00:00, 15061.15it/s]\n"
     ]
    },
    {
     "name": "stdout",
     "output_type": "stream",
     "text": [
      "226452<>50895 pair\n"
     ]
    },
    {
     "name": "stderr",
     "output_type": "stream",
     "text": [
      "100%|██████████| 8389/8389 [00:00<00:00, 15601.80it/s]\n"
     ]
    },
    {
     "name": "stdout",
     "output_type": "stream",
     "text": [
      "226452<>51001 pair\n"
     ]
    },
    {
     "name": "stderr",
     "output_type": "stream",
     "text": [
      "100%|██████████| 8389/8389 [00:02<00:00, 3589.32it/s] \n"
     ]
    },
    {
     "name": "stdout",
     "output_type": "stream",
     "text": [
      "226452<>51077 pair\n"
     ]
    },
    {
     "name": "stderr",
     "output_type": "stream",
     "text": [
      "100%|██████████| 8389/8389 [00:01<00:00, 6017.69it/s] \n"
     ]
    },
    {
     "name": "stdout",
     "output_type": "stream",
     "text": [
      "226452<>51196 pair\n"
     ]
    },
    {
     "name": "stderr",
     "output_type": "stream",
     "text": [
      "100%|██████████| 8389/8389 [00:00<00:00, 9621.11it/s] \n"
     ]
    },
    {
     "name": "stdout",
     "output_type": "stream",
     "text": [
      "226452<>51300 pair\n"
     ]
    },
    {
     "name": "stderr",
     "output_type": "stream",
     "text": [
      "100%|██████████| 8389/8389 [00:01<00:00, 5733.99it/s] \n"
     ]
    },
    {
     "name": "stdout",
     "output_type": "stream",
     "text": [
      "226452<>51245 pair\n"
     ]
    },
    {
     "name": "stderr",
     "output_type": "stream",
     "text": [
      "100%|██████████| 8389/8389 [00:01<00:00, 5894.67it/s] \n"
     ]
    },
    {
     "name": "stdout",
     "output_type": "stream",
     "text": [
      "226452<>51194 pair\n"
     ]
    },
    {
     "name": "stderr",
     "output_type": "stream",
     "text": [
      "100%|██████████| 8389/8389 [00:01<00:00, 5651.34it/s] \n"
     ]
    },
    {
     "name": "stdout",
     "output_type": "stream",
     "text": [
      "226452<>51181 pair\n"
     ]
    },
    {
     "name": "stderr",
     "output_type": "stream",
     "text": [
      "100%|██████████| 8389/8389 [00:01<00:00, 5876.87it/s] \n"
     ]
    },
    {
     "name": "stdout",
     "output_type": "stream",
     "text": [
      "226452<>51180 pair\n"
     ]
    },
    {
     "name": "stderr",
     "output_type": "stream",
     "text": [
      "100%|██████████| 8389/8389 [00:01<00:00, 5854.51it/s] \n"
     ]
    },
    {
     "name": "stdout",
     "output_type": "stream",
     "text": [
      "226452<>51176 pair\n"
     ]
    },
    {
     "name": "stderr",
     "output_type": "stream",
     "text": [
      "100%|██████████| 8389/8389 [00:01<00:00, 5846.39it/s] \n"
     ]
    },
    {
     "name": "stdout",
     "output_type": "stream",
     "text": [
      "226452<>51133 pair\n"
     ]
    },
    {
     "name": "stderr",
     "output_type": "stream",
     "text": [
      "100%|██████████| 8389/8389 [00:01<00:00, 5742.57it/s] \n"
     ]
    },
    {
     "name": "stdout",
     "output_type": "stream",
     "text": [
      "226452<>51132 pair\n"
     ]
    },
    {
     "name": "stderr",
     "output_type": "stream",
     "text": [
      "100%|██████████| 8389/8389 [00:01<00:00, 5826.16it/s] \n"
     ]
    },
    {
     "name": "stdout",
     "output_type": "stream",
     "text": [
      "226452<>51131 pair\n"
     ]
    },
    {
     "name": "stderr",
     "output_type": "stream",
     "text": [
      "100%|██████████| 8389/8389 [00:01<00:00, 5732.67it/s] \n"
     ]
    },
    {
     "name": "stdout",
     "output_type": "stream",
     "text": [
      "226452<>51130 pair\n"
     ]
    },
    {
     "name": "stderr",
     "output_type": "stream",
     "text": [
      "100%|██████████| 8389/8389 [00:01<00:00, 5749.11it/s] \n"
     ]
    },
    {
     "name": "stdout",
     "output_type": "stream",
     "text": [
      "226452<>50965 pair\n"
     ]
    },
    {
     "name": "stderr",
     "output_type": "stream",
     "text": [
      "100%|██████████| 8389/8389 [00:02<00:00, 3117.39it/s] \n"
     ]
    },
    {
     "name": "stdout",
     "output_type": "stream",
     "text": [
      "226452<>51069 pair\n"
     ]
    },
    {
     "name": "stderr",
     "output_type": "stream",
     "text": [
      "100%|██████████| 8389/8389 [00:00<00:00, 8929.17it/s] \n"
     ]
    },
    {
     "name": "stdout",
     "output_type": "stream",
     "text": [
      "226452<>51070 pair\n"
     ]
    },
    {
     "name": "stderr",
     "output_type": "stream",
     "text": [
      "100%|██████████| 8389/8389 [00:00<00:00, 9039.65it/s] \n"
     ]
    },
    {
     "name": "stdout",
     "output_type": "stream",
     "text": [
      "226452<>51212 pair\n"
     ]
    },
    {
     "name": "stderr",
     "output_type": "stream",
     "text": [
      "100%|██████████| 8389/8389 [00:00<00:00, 37336.25it/s]\n"
     ]
    },
    {
     "name": "stdout",
     "output_type": "stream",
     "text": [
      "226452<>50890 pair\n"
     ]
    },
    {
     "name": "stderr",
     "output_type": "stream",
     "text": [
      "100%|██████████| 8389/8389 [00:02<00:00, 3746.44it/s] \n"
     ]
    },
    {
     "name": "stdout",
     "output_type": "stream",
     "text": [
      "226452<>50891 pair\n"
     ]
    },
    {
     "name": "stderr",
     "output_type": "stream",
     "text": [
      "100%|██████████| 8389/8389 [00:02<00:00, 3525.65it/s] \n"
     ]
    },
    {
     "name": "stdout",
     "output_type": "stream",
     "text": [
      "226452<>50899 pair\n"
     ]
    },
    {
     "name": "stderr",
     "output_type": "stream",
     "text": [
      "100%|██████████| 8389/8389 [00:00<00:00, 17937.67it/s]\n"
     ]
    },
    {
     "name": "stdout",
     "output_type": "stream",
     "text": [
      "226452<>50996 pair\n"
     ]
    },
    {
     "name": "stderr",
     "output_type": "stream",
     "text": [
      "100%|██████████| 8389/8389 [00:00<00:00, 12018.88it/s]\n"
     ]
    },
    {
     "name": "stdout",
     "output_type": "stream",
     "text": [
      "226452<>50990 pair\n"
     ]
    },
    {
     "name": "stderr",
     "output_type": "stream",
     "text": [
      "100%|██████████| 8389/8389 [00:00<00:00, 38811.90it/s]\n"
     ]
    },
    {
     "name": "stdout",
     "output_type": "stream",
     "text": [
      "226452<>50974 pair\n"
     ]
    },
    {
     "name": "stderr",
     "output_type": "stream",
     "text": [
      "100%|██████████| 8389/8389 [00:01<00:00, 4896.16it/s] \n"
     ]
    },
    {
     "name": "stdout",
     "output_type": "stream",
     "text": [
      "226452<>51343 pair\n"
     ]
    },
    {
     "name": "stderr",
     "output_type": "stream",
     "text": [
      "100%|██████████| 8389/8389 [00:00<00:00, 21218.10it/s]\n"
     ]
    },
    {
     "name": "stdout",
     "output_type": "stream",
     "text": [
      "226452<>51273 pair\n"
     ]
    },
    {
     "name": "stderr",
     "output_type": "stream",
     "text": [
      "100%|██████████| 8389/8389 [00:00<00:00, 17441.41it/s]\n"
     ]
    },
    {
     "name": "stdout",
     "output_type": "stream",
     "text": [
      "226452<>51271 pair\n"
     ]
    },
    {
     "name": "stderr",
     "output_type": "stream",
     "text": [
      "100%|██████████| 8389/8389 [00:00<00:00, 17457.99it/s]\n"
     ]
    },
    {
     "name": "stdout",
     "output_type": "stream",
     "text": [
      "226452<>51140 pair\n"
     ]
    },
    {
     "name": "stderr",
     "output_type": "stream",
     "text": [
      "100%|██████████| 8389/8389 [00:00<00:00, 19782.50it/s]\n"
     ]
    },
    {
     "name": "stdout",
     "output_type": "stream",
     "text": [
      "226452<>51232 pair\n"
     ]
    },
    {
     "name": "stderr",
     "output_type": "stream",
     "text": [
      "100%|██████████| 8389/8389 [00:00<00:00, 20154.68it/s]\n"
     ]
    },
    {
     "name": "stdout",
     "output_type": "stream",
     "text": [
      "226452<>50864 pair\n"
     ]
    },
    {
     "name": "stderr",
     "output_type": "stream",
     "text": [
      "100%|██████████| 8389/8389 [00:02<00:00, 2825.16it/s] \n"
     ]
    },
    {
     "name": "stdout",
     "output_type": "stream",
     "text": [
      "226452<>51124 pair\n"
     ]
    },
    {
     "name": "stderr",
     "output_type": "stream",
     "text": [
      "100%|██████████| 8389/8389 [00:00<00:00, 39273.79it/s]\n"
     ]
    },
    {
     "name": "stdout",
     "output_type": "stream",
     "text": [
      "226452<>50988 pair\n"
     ]
    },
    {
     "name": "stderr",
     "output_type": "stream",
     "text": [
      "100%|██████████| 8389/8389 [00:00<00:00, 39242.56it/s]\n"
     ]
    },
    {
     "name": "stdout",
     "output_type": "stream",
     "text": [
      "226452<>50973 pair\n"
     ]
    },
    {
     "name": "stderr",
     "output_type": "stream",
     "text": [
      "100%|██████████| 8389/8389 [00:00<00:00, 10874.57it/s]\n"
     ]
    },
    {
     "name": "stdout",
     "output_type": "stream",
     "text": [
      "226452<>51028 pair\n"
     ]
    },
    {
     "name": "stderr",
     "output_type": "stream",
     "text": [
      "100%|██████████| 8389/8389 [00:00<00:00, 15009.41it/s]\n"
     ]
    },
    {
     "name": "stdout",
     "output_type": "stream",
     "text": [
      "226452<>51088 pair\n"
     ]
    },
    {
     "name": "stderr",
     "output_type": "stream",
     "text": [
      "100%|██████████| 8389/8389 [00:01<00:00, 8353.04it/s] \n"
     ]
    },
    {
     "name": "stdout",
     "output_type": "stream",
     "text": [
      "226452<>51347 pair\n"
     ]
    },
    {
     "name": "stderr",
     "output_type": "stream",
     "text": [
      "100%|██████████| 8389/8389 [00:00<00:00, 17409.00it/s]\n"
     ]
    },
    {
     "name": "stdout",
     "output_type": "stream",
     "text": [
      "226452<>50978 pair\n"
     ]
    },
    {
     "name": "stderr",
     "output_type": "stream",
     "text": [
      "100%|██████████| 8389/8389 [00:00<00:00, 17150.69it/s]\n"
     ]
    },
    {
     "name": "stdout",
     "output_type": "stream",
     "text": [
      "226452<>51008 pair\n"
     ]
    },
    {
     "name": "stderr",
     "output_type": "stream",
     "text": [
      "100%|██████████| 8389/8389 [00:01<00:00, 7906.62it/s] \n"
     ]
    },
    {
     "name": "stdout",
     "output_type": "stream",
     "text": [
      "226452<>50881 pair\n"
     ]
    },
    {
     "name": "stderr",
     "output_type": "stream",
     "text": [
      "100%|██████████| 8389/8389 [00:00<00:00, 8684.31it/s] \n"
     ]
    },
    {
     "name": "stdout",
     "output_type": "stream",
     "text": [
      "226452<>50892 pair\n"
     ]
    },
    {
     "name": "stderr",
     "output_type": "stream",
     "text": [
      "100%|██████████| 8389/8389 [00:00<00:00, 15338.42it/s]\n"
     ]
    },
    {
     "name": "stdout",
     "output_type": "stream",
     "text": [
      "226452<>51095 pair\n"
     ]
    },
    {
     "name": "stderr",
     "output_type": "stream",
     "text": [
      "100%|██████████| 8389/8389 [00:01<00:00, 5702.44it/s] \n"
     ]
    },
    {
     "name": "stdout",
     "output_type": "stream",
     "text": [
      "226452<>51072 pair\n"
     ]
    },
    {
     "name": "stderr",
     "output_type": "stream",
     "text": [
      "100%|██████████| 8389/8389 [00:00<00:00, 38831.13it/s]\n"
     ]
    },
    {
     "name": "stdout",
     "output_type": "stream",
     "text": [
      "226452<>51073 pair\n"
     ]
    },
    {
     "name": "stderr",
     "output_type": "stream",
     "text": [
      "100%|██████████| 8389/8389 [00:00<00:00, 39437.72it/s]\n"
     ]
    },
    {
     "name": "stdout",
     "output_type": "stream",
     "text": [
      "226452<>50836 pair\n"
     ]
    },
    {
     "name": "stderr",
     "output_type": "stream",
     "text": [
      "100%|██████████| 8389/8389 [00:01<00:00, 5824.28it/s] \n"
     ]
    },
    {
     "name": "stdout",
     "output_type": "stream",
     "text": [
      "226452<>51123 pair\n"
     ]
    },
    {
     "name": "stderr",
     "output_type": "stream",
     "text": [
      "100%|██████████| 8389/8389 [00:00<00:00, 9880.22it/s] \n"
     ]
    },
    {
     "name": "stdout",
     "output_type": "stream",
     "text": [
      "226452<>50929 pair\n"
     ]
    },
    {
     "name": "stderr",
     "output_type": "stream",
     "text": [
      "100%|██████████| 8389/8389 [00:01<00:00, 5908.77it/s] \n"
     ]
    },
    {
     "name": "stdout",
     "output_type": "stream",
     "text": [
      "226452<>51119 pair\n"
     ]
    },
    {
     "name": "stderr",
     "output_type": "stream",
     "text": [
      "100%|██████████| 8389/8389 [00:00<00:00, 45517.48it/s]\n"
     ]
    },
    {
     "name": "stdout",
     "output_type": "stream",
     "text": [
      "226452<>51084 pair\n"
     ]
    },
    {
     "name": "stderr",
     "output_type": "stream",
     "text": [
      "100%|██████████| 8389/8389 [00:00<00:00, 33447.23it/s]\n"
     ]
    },
    {
     "name": "stdout",
     "output_type": "stream",
     "text": [
      "226452<>51228 pair\n"
     ]
    },
    {
     "name": "stderr",
     "output_type": "stream",
     "text": [
      "100%|██████████| 8389/8389 [00:00<00:00, 33736.85it/s]\n"
     ]
    },
    {
     "name": "stdout",
     "output_type": "stream",
     "text": [
      "226452<>50946 pair\n"
     ]
    },
    {
     "name": "stderr",
     "output_type": "stream",
     "text": [
      "100%|██████████| 8389/8389 [00:00<00:00, 34457.38it/s]\n"
     ]
    },
    {
     "name": "stdout",
     "output_type": "stream",
     "text": [
      "226452<>51276 pair\n"
     ]
    },
    {
     "name": "stderr",
     "output_type": "stream",
     "text": [
      "100%|██████████| 8389/8389 [00:00<00:00, 12349.04it/s]\n"
     ]
    },
    {
     "name": "stdout",
     "output_type": "stream",
     "text": [
      "226452<>51471 pair\n"
     ]
    },
    {
     "name": "stderr",
     "output_type": "stream",
     "text": [
      "100%|██████████| 8389/8389 [00:00<00:00, 14181.96it/s]\n"
     ]
    },
    {
     "name": "stdout",
     "output_type": "stream",
     "text": [
      "226452<>50869 pair\n"
     ]
    },
    {
     "name": "stderr",
     "output_type": "stream",
     "text": [
      "100%|██████████| 8389/8389 [00:00<00:00, 54317.51it/s]\n"
     ]
    },
    {
     "name": "stdout",
     "output_type": "stream",
     "text": [
      "226452<>50838 pair\n"
     ]
    },
    {
     "name": "stderr",
     "output_type": "stream",
     "text": [
      "100%|██████████| 8389/8389 [00:01<00:00, 6639.95it/s] \n"
     ]
    },
    {
     "name": "stdout",
     "output_type": "stream",
     "text": [
      "226452<>50841 pair\n"
     ]
    },
    {
     "name": "stderr",
     "output_type": "stream",
     "text": [
      "100%|██████████| 8389/8389 [00:00<00:00, 8392.72it/s] \n"
     ]
    },
    {
     "name": "stdout",
     "output_type": "stream",
     "text": [
      "226452<>50966 pair\n"
     ]
    },
    {
     "name": "stderr",
     "output_type": "stream",
     "text": [
      "100%|██████████| 8389/8389 [00:00<00:00, 22161.59it/s]\n"
     ]
    },
    {
     "name": "stdout",
     "output_type": "stream",
     "text": [
      "226452<>50945 pair\n"
     ]
    },
    {
     "name": "stderr",
     "output_type": "stream",
     "text": [
      "100%|██████████| 8389/8389 [00:00<00:00, 14115.62it/s]\n"
     ]
    },
    {
     "name": "stdout",
     "output_type": "stream",
     "text": [
      "226452<>50914 pair\n"
     ]
    },
    {
     "name": "stderr",
     "output_type": "stream",
     "text": [
      "100%|██████████| 8389/8389 [00:00<00:00, 9557.80it/s] \n"
     ]
    },
    {
     "name": "stdout",
     "output_type": "stream",
     "text": [
      "226452<>50853 pair\n"
     ]
    },
    {
     "name": "stderr",
     "output_type": "stream",
     "text": [
      "100%|██████████| 8389/8389 [00:00<00:00, 18890.09it/s]\n"
     ]
    },
    {
     "name": "stdout",
     "output_type": "stream",
     "text": [
      "226452<>51114 pair\n"
     ]
    },
    {
     "name": "stderr",
     "output_type": "stream",
     "text": [
      "100%|██████████| 8389/8389 [00:00<00:00, 9886.08it/s] \n"
     ]
    },
    {
     "name": "stdout",
     "output_type": "stream",
     "text": [
      "226452<>51015 pair\n"
     ]
    },
    {
     "name": "stderr",
     "output_type": "stream",
     "text": [
      "100%|██████████| 8389/8389 [00:01<00:00, 6936.60it/s] \n"
     ]
    },
    {
     "name": "stdout",
     "output_type": "stream",
     "text": [
      "226452<>51110 pair\n"
     ]
    },
    {
     "name": "stderr",
     "output_type": "stream",
     "text": [
      "100%|██████████| 8389/8389 [00:00<00:00, 21442.47it/s]\n"
     ]
    },
    {
     "name": "stdout",
     "output_type": "stream",
     "text": [
      "226452<>51065 pair\n"
     ]
    },
    {
     "name": "stderr",
     "output_type": "stream",
     "text": [
      "100%|██████████| 8389/8389 [00:00<00:00, 39280.06it/s]\n"
     ]
    },
    {
     "name": "stdout",
     "output_type": "stream",
     "text": [
      "226452<>51064 pair\n"
     ]
    },
    {
     "name": "stderr",
     "output_type": "stream",
     "text": [
      "100%|██████████| 8389/8389 [00:00<00:00, 39463.86it/s]\n"
     ]
    },
    {
     "name": "stdout",
     "output_type": "stream",
     "text": [
      "226452<>51063 pair\n"
     ]
    },
    {
     "name": "stderr",
     "output_type": "stream",
     "text": [
      "100%|██████████| 8389/8389 [00:00<00:00, 39915.30it/s]\n"
     ]
    },
    {
     "name": "stdout",
     "output_type": "stream",
     "text": [
      "226452<>50958 pair\n"
     ]
    },
    {
     "name": "stderr",
     "output_type": "stream",
     "text": [
      "100%|██████████| 8389/8389 [00:00<00:00, 30894.17it/s]\n"
     ]
    },
    {
     "name": "stdout",
     "output_type": "stream",
     "text": [
      "226452<>50926 pair\n"
     ]
    },
    {
     "name": "stderr",
     "output_type": "stream",
     "text": [
      "100%|██████████| 8389/8389 [00:00<00:00, 21551.15it/s]\n"
     ]
    },
    {
     "name": "stdout",
     "output_type": "stream",
     "text": [
      "226452<>51467 pair\n"
     ]
    },
    {
     "name": "stderr",
     "output_type": "stream",
     "text": [
      "100%|██████████| 8389/8389 [00:00<00:00, 45184.54it/s]\n"
     ]
    },
    {
     "name": "stdout",
     "output_type": "stream",
     "text": [
      "226452<>51513 pair\n"
     ]
    },
    {
     "name": "stderr",
     "output_type": "stream",
     "text": [
      "100%|██████████| 8389/8389 [00:00<00:00, 39690.18it/s]\n"
     ]
    },
    {
     "name": "stdout",
     "output_type": "stream",
     "text": [
      "226452<>51199 pair\n"
     ]
    },
    {
     "name": "stderr",
     "output_type": "stream",
     "text": [
      "100%|██████████| 8389/8389 [00:00<00:00, 27968.36it/s]\n"
     ]
    },
    {
     "name": "stdout",
     "output_type": "stream",
     "text": [
      "226452<>51115 pair\n"
     ]
    },
    {
     "name": "stderr",
     "output_type": "stream",
     "text": [
      "100%|██████████| 8389/8389 [00:00<00:00, 15808.08it/s]\n"
     ]
    },
    {
     "name": "stdout",
     "output_type": "stream",
     "text": [
      "226452<>51352 pair\n"
     ]
    },
    {
     "name": "stderr",
     "output_type": "stream",
     "text": [
      "100%|██████████| 8389/8389 [00:01<00:00, 8165.05it/s] \n"
     ]
    },
    {
     "name": "stdout",
     "output_type": "stream",
     "text": [
      "226452<>51385 pair\n"
     ]
    },
    {
     "name": "stderr",
     "output_type": "stream",
     "text": [
      "100%|██████████| 8389/8389 [00:00<00:00, 34420.64it/s]\n"
     ]
    },
    {
     "name": "stdout",
     "output_type": "stream",
     "text": [
      "226452<>51227 pair\n"
     ]
    },
    {
     "name": "stderr",
     "output_type": "stream",
     "text": [
      "100%|██████████| 8389/8389 [00:00<00:00, 21633.07it/s]\n"
     ]
    },
    {
     "name": "stdout",
     "output_type": "stream",
     "text": [
      "226452<>51226 pair\n"
     ]
    },
    {
     "name": "stderr",
     "output_type": "stream",
     "text": [
      "100%|██████████| 8389/8389 [00:00<00:00, 21049.39it/s]\n"
     ]
    },
    {
     "name": "stdout",
     "output_type": "stream",
     "text": [
      "226452<>51224 pair\n"
     ]
    },
    {
     "name": "stderr",
     "output_type": "stream",
     "text": [
      "100%|██████████| 8389/8389 [00:00<00:00, 21778.81it/s]\n"
     ]
    },
    {
     "name": "stdout",
     "output_type": "stream",
     "text": [
      "226452<>51297 pair\n"
     ]
    },
    {
     "name": "stderr",
     "output_type": "stream",
     "text": [
      "100%|██████████| 8389/8389 [00:00<00:00, 9618.92it/s] \n"
     ]
    },
    {
     "name": "stdout",
     "output_type": "stream",
     "text": [
      "226452<>51449 pair\n"
     ]
    },
    {
     "name": "stderr",
     "output_type": "stream",
     "text": [
      "100%|██████████| 8389/8389 [00:00<00:00, 39113.00it/s]\n"
     ]
    },
    {
     "name": "stdout",
     "output_type": "stream",
     "text": [
      "226452<>51441 pair\n"
     ]
    },
    {
     "name": "stderr",
     "output_type": "stream",
     "text": [
      "100%|██████████| 8389/8389 [00:00<00:00, 21706.56it/s]\n"
     ]
    },
    {
     "name": "stdout",
     "output_type": "stream",
     "text": [
      "226452<>51112 pair\n"
     ]
    },
    {
     "name": "stderr",
     "output_type": "stream",
     "text": [
      "100%|██████████| 8389/8389 [00:00<00:00, 39203.30it/s]\n"
     ]
    },
    {
     "name": "stdout",
     "output_type": "stream",
     "text": [
      "226452<>51517 pair\n"
     ]
    },
    {
     "name": "stderr",
     "output_type": "stream",
     "text": [
      "100%|██████████| 8389/8389 [00:00<00:00, 21229.44it/s]\n"
     ]
    },
    {
     "name": "stdout",
     "output_type": "stream",
     "text": [
      "226452<>51430 pair\n"
     ]
    },
    {
     "name": "stderr",
     "output_type": "stream",
     "text": [
      "100%|██████████| 8389/8389 [00:00<00:00, 34646.94it/s]\n"
     ]
    },
    {
     "name": "stdout",
     "output_type": "stream",
     "text": [
      "226452<>51272 pair\n"
     ]
    },
    {
     "name": "stderr",
     "output_type": "stream",
     "text": [
      "100%|██████████| 8389/8389 [00:00<00:00, 27541.68it/s]\n"
     ]
    },
    {
     "name": "stdout",
     "output_type": "stream",
     "text": [
      "226452<>51270 pair\n"
     ]
    },
    {
     "name": "stderr",
     "output_type": "stream",
     "text": [
      "100%|██████████| 8389/8389 [00:00<00:00, 30870.40it/s]\n"
     ]
    },
    {
     "name": "stdout",
     "output_type": "stream",
     "text": [
      "226452<>51358 pair\n"
     ]
    },
    {
     "name": "stderr",
     "output_type": "stream",
     "text": [
      "100%|██████████| 8389/8389 [00:00<00:00, 14189.64it/s]\n"
     ]
    },
    {
     "name": "stdout",
     "output_type": "stream",
     "text": [
      "226452<>50968 pair\n"
     ]
    },
    {
     "name": "stderr",
     "output_type": "stream",
     "text": [
      "100%|██████████| 8389/8389 [00:00<00:00, 14223.58it/s]\n"
     ]
    },
    {
     "name": "stdout",
     "output_type": "stream",
     "text": [
      "226452<>50969 pair\n"
     ]
    },
    {
     "name": "stderr",
     "output_type": "stream",
     "text": [
      "100%|██████████| 8389/8389 [00:00<00:00, 14168.72it/s]\n"
     ]
    },
    {
     "name": "stdout",
     "output_type": "stream",
     "text": [
      "226452<>51062 pair\n"
     ]
    },
    {
     "name": "stderr",
     "output_type": "stream",
     "text": [
      "100%|██████████| 8389/8389 [00:00<00:00, 45516.72it/s]\n"
     ]
    },
    {
     "name": "stdout",
     "output_type": "stream",
     "text": [
      "226452<>51061 pair\n"
     ]
    },
    {
     "name": "stderr",
     "output_type": "stream",
     "text": [
      "100%|██████████| 8389/8389 [00:00<00:00, 45705.98it/s]\n"
     ]
    },
    {
     "name": "stdout",
     "output_type": "stream",
     "text": [
      "226452<>51108 pair\n"
     ]
    },
    {
     "name": "stderr",
     "output_type": "stream",
     "text": [
      "100%|██████████| 8389/8389 [00:00<00:00, 10211.32it/s]\n"
     ]
    },
    {
     "name": "stdout",
     "output_type": "stream",
     "text": [
      "226452<>51094 pair\n"
     ]
    },
    {
     "name": "stderr",
     "output_type": "stream",
     "text": [
      "100%|██████████| 8389/8389 [00:00<00:00, 10135.22it/s]\n"
     ]
    },
    {
     "name": "stdout",
     "output_type": "stream",
     "text": [
      "226452<>51067 pair\n"
     ]
    },
    {
     "name": "stderr",
     "output_type": "stream",
     "text": [
      "100%|██████████| 8389/8389 [00:00<00:00, 14256.75it/s]\n"
     ]
    },
    {
     "name": "stdout",
     "output_type": "stream",
     "text": [
      "226452<>51087 pair\n"
     ]
    },
    {
     "name": "stderr",
     "output_type": "stream",
     "text": [
      "100%|██████████| 8389/8389 [00:00<00:00, 10669.16it/s]\n"
     ]
    },
    {
     "name": "stdout",
     "output_type": "stream",
     "text": [
      "226452<>51229 pair\n"
     ]
    },
    {
     "name": "stderr",
     "output_type": "stream",
     "text": [
      "100%|██████████| 8389/8389 [00:00<00:00, 21553.64it/s]\n"
     ]
    },
    {
     "name": "stdout",
     "output_type": "stream",
     "text": [
      "226452<>51223 pair\n"
     ]
    },
    {
     "name": "stderr",
     "output_type": "stream",
     "text": [
      "100%|██████████| 8389/8389 [00:00<00:00, 34557.08it/s]\n"
     ]
    },
    {
     "name": "stdout",
     "output_type": "stream",
     "text": [
      "226452<>51507 pair\n"
     ]
    },
    {
     "name": "stderr",
     "output_type": "stream",
     "text": [
      "100%|██████████| 8389/8389 [00:00<00:00, 34441.56it/s]\n"
     ]
    },
    {
     "name": "stdout",
     "output_type": "stream",
     "text": [
      "226452<>50997 pair\n"
     ]
    },
    {
     "name": "stderr",
     "output_type": "stream",
     "text": [
      "100%|██████████| 8389/8389 [00:00<00:00, 8528.99it/s] \n"
     ]
    },
    {
     "name": "stdout",
     "output_type": "stream",
     "text": [
      "226452<>51386 pair\n"
     ]
    },
    {
     "name": "stderr",
     "output_type": "stream",
     "text": [
      "100%|██████████| 8389/8389 [00:00<00:00, 23695.12it/s]\n"
     ]
    },
    {
     "name": "stdout",
     "output_type": "stream",
     "text": [
      "226452<>51366 pair\n"
     ]
    },
    {
     "name": "stderr",
     "output_type": "stream",
     "text": [
      "100%|██████████| 8389/8389 [00:00<00:00, 34779.99it/s]\n"
     ]
    },
    {
     "name": "stdout",
     "output_type": "stream",
     "text": [
      "226452<>51442 pair\n"
     ]
    },
    {
     "name": "stderr",
     "output_type": "stream",
     "text": [
      "100%|██████████| 8389/8389 [00:00<00:00, 21798.84it/s]\n"
     ]
    },
    {
     "name": "stdout",
     "output_type": "stream",
     "text": [
      "226452<>51299 pair\n"
     ]
    },
    {
     "name": "stderr",
     "output_type": "stream",
     "text": [
      "100%|██████████| 8389/8389 [00:00<00:00, 20790.93it/s]\n"
     ]
    },
    {
     "name": "stdout",
     "output_type": "stream",
     "text": [
      "226452<>51206 pair\n"
     ]
    },
    {
     "name": "stderr",
     "output_type": "stream",
     "text": [
      "100%|██████████| 8389/8389 [00:00<00:00, 17762.87it/s]\n"
     ]
    },
    {
     "name": "stdout",
     "output_type": "stream",
     "text": [
      "226452<>51298 pair\n"
     ]
    },
    {
     "name": "stderr",
     "output_type": "stream",
     "text": [
      "100%|██████████| 8389/8389 [00:00<00:00, 24447.40it/s]\n"
     ]
    },
    {
     "name": "stdout",
     "output_type": "stream",
     "text": [
      "226452<>51068 pair\n"
     ]
    },
    {
     "name": "stderr",
     "output_type": "stream",
     "text": [
      "100%|██████████| 8389/8389 [00:00<00:00, 26734.60it/s]\n"
     ]
    },
    {
     "name": "stdout",
     "output_type": "stream",
     "text": [
      "226452<>50898 pair\n"
     ]
    },
    {
     "name": "stderr",
     "output_type": "stream",
     "text": [
      "100%|██████████| 8389/8389 [00:00<00:00, 25364.79it/s]\n"
     ]
    },
    {
     "name": "stdout",
     "output_type": "stream",
     "text": [
      "226452<>50992 pair\n"
     ]
    },
    {
     "name": "stderr",
     "output_type": "stream",
     "text": [
      "100%|██████████| 8389/8389 [00:00<00:00, 27978.26it/s]\n"
     ]
    },
    {
     "name": "stdout",
     "output_type": "stream",
     "text": [
      "226452<>50850 pair\n"
     ]
    },
    {
     "name": "stderr",
     "output_type": "stream",
     "text": [
      "100%|██████████| 8389/8389 [00:00<00:00, 28050.86it/s]\n"
     ]
    },
    {
     "name": "stdout",
     "output_type": "stream",
     "text": [
      "226452<>51032 pair\n"
     ]
    },
    {
     "name": "stderr",
     "output_type": "stream",
     "text": [
      "100%|██████████| 8389/8389 [00:00<00:00, 23356.18it/s]\n"
     ]
    },
    {
     "name": "stdout",
     "output_type": "stream",
     "text": [
      "226452<>51045 pair\n"
     ]
    },
    {
     "name": "stderr",
     "output_type": "stream",
     "text": [
      "100%|██████████| 8389/8389 [00:00<00:00, 39182.56it/s]\n"
     ]
    },
    {
     "name": "stdout",
     "output_type": "stream",
     "text": [
      "226452<>50989 pair\n"
     ]
    },
    {
     "name": "stderr",
     "output_type": "stream",
     "text": [
      "100%|██████████| 8389/8389 [00:00<00:00, 39692.28it/s]\n"
     ]
    },
    {
     "name": "stdout",
     "output_type": "stream",
     "text": [
      "226452<>51435 pair\n"
     ]
    },
    {
     "name": "stderr",
     "output_type": "stream",
     "text": [
      "100%|██████████| 8389/8389 [00:00<00:00, 38818.54it/s]\n"
     ]
    },
    {
     "name": "stdout",
     "output_type": "stream",
     "text": [
      "226452<>51289 pair\n"
     ]
    },
    {
     "name": "stderr",
     "output_type": "stream",
     "text": [
      "100%|██████████| 8389/8389 [00:00<00:00, 19975.43it/s]\n"
     ]
    },
    {
     "name": "stdout",
     "output_type": "stream",
     "text": [
      "226452<>51433 pair\n"
     ]
    },
    {
     "name": "stderr",
     "output_type": "stream",
     "text": [
      "100%|██████████| 8389/8389 [00:00<00:00, 38322.02it/s]\n"
     ]
    },
    {
     "name": "stdout",
     "output_type": "stream",
     "text": [
      "226452<>51387 pair\n"
     ]
    },
    {
     "name": "stderr",
     "output_type": "stream",
     "text": [
      "100%|██████████| 8389/8389 [00:00<00:00, 30930.75it/s]\n"
     ]
    },
    {
     "name": "stdout",
     "output_type": "stream",
     "text": [
      "226452<>51122 pair\n"
     ]
    },
    {
     "name": "stderr",
     "output_type": "stream",
     "text": [
      "100%|██████████| 8389/8389 [00:00<00:00, 28146.85it/s]\n"
     ]
    },
    {
     "name": "stdout",
     "output_type": "stream",
     "text": [
      "226452<>51454 pair\n"
     ]
    },
    {
     "name": "stderr",
     "output_type": "stream",
     "text": [
      "100%|██████████| 8389/8389 [00:00<00:00, 21477.66it/s]\n"
     ]
    },
    {
     "name": "stdout",
     "output_type": "stream",
     "text": [
      "226452<>50934 pair\n"
     ]
    },
    {
     "name": "stderr",
     "output_type": "stream",
     "text": [
      "100%|██████████| 8389/8389 [00:00<00:00, 43298.25it/s]\n"
     ]
    },
    {
     "name": "stdout",
     "output_type": "stream",
     "text": [
      "226452<>51452 pair\n"
     ]
    },
    {
     "name": "stderr",
     "output_type": "stream",
     "text": [
      "100%|██████████| 8389/8389 [00:00<00:00, 31112.65it/s]\n"
     ]
    },
    {
     "name": "stdout",
     "output_type": "stream",
     "text": [
      "226452<>51049 pair\n"
     ]
    },
    {
     "name": "stderr",
     "output_type": "stream",
     "text": [
      "100%|██████████| 8389/8389 [00:00<00:00, 23361.70it/s]\n"
     ]
    },
    {
     "name": "stdout",
     "output_type": "stream",
     "text": [
      "226452<>50840 pair\n"
     ]
    },
    {
     "name": "stderr",
     "output_type": "stream",
     "text": [
      "100%|██████████| 8389/8389 [00:00<00:00, 39444.79it/s]\n"
     ]
    },
    {
     "name": "stdout",
     "output_type": "stream",
     "text": [
      "226452<>51440 pair\n"
     ]
    },
    {
     "name": "stderr",
     "output_type": "stream",
     "text": [
      "100%|██████████| 8389/8389 [00:00<00:00, 39796.97it/s]\n"
     ]
    },
    {
     "name": "stdout",
     "output_type": "stream",
     "text": [
      "226452<>51376 pair\n"
     ]
    },
    {
     "name": "stderr",
     "output_type": "stream",
     "text": [
      "100%|██████████| 8389/8389 [00:00<00:00, 16360.64it/s]\n"
     ]
    },
    {
     "name": "stdout",
     "output_type": "stream",
     "text": [
      "226452<>50991 pair\n"
     ]
    },
    {
     "name": "stderr",
     "output_type": "stream",
     "text": [
      "100%|██████████| 8389/8389 [00:00<00:00, 34576.57it/s]\n"
     ]
    },
    {
     "name": "stdout",
     "output_type": "stream",
     "text": [
      "226452<>51494 pair\n"
     ]
    },
    {
     "name": "stderr",
     "output_type": "stream",
     "text": [
      "100%|██████████| 8389/8389 [00:00<00:00, 34368.22it/s]\n"
     ]
    },
    {
     "name": "stdout",
     "output_type": "stream",
     "text": [
      "226452<>50982 pair\n"
     ]
    },
    {
     "name": "stderr",
     "output_type": "stream",
     "text": [
      "100%|██████████| 8389/8389 [00:00<00:00, 39508.13it/s]\n"
     ]
    },
    {
     "name": "stdout",
     "output_type": "stream",
     "text": [
      "226452<>50894 pair\n"
     ]
    },
    {
     "name": "stderr",
     "output_type": "stream",
     "text": [
      "100%|██████████| 8389/8389 [00:00<00:00, 53313.60it/s]\n"
     ]
    },
    {
     "name": "stdout",
     "output_type": "stream",
     "text": [
      "226452<>51225 pair\n"
     ]
    },
    {
     "name": "stderr",
     "output_type": "stream",
     "text": [
      "100%|██████████| 8389/8389 [00:00<00:00, 53718.53it/s]\n"
     ]
    },
    {
     "name": "stdout",
     "output_type": "stream",
     "text": [
      "226452<>51354 pair\n"
     ]
    },
    {
     "name": "stderr",
     "output_type": "stream",
     "text": [
      "100%|██████████| 8389/8389 [00:00<00:00, 34463.39it/s]\n"
     ]
    },
    {
     "name": "stdout",
     "output_type": "stream",
     "text": [
      "226452<>51356 pair\n"
     ]
    },
    {
     "name": "stderr",
     "output_type": "stream",
     "text": [
      "100%|██████████| 8389/8389 [00:00<00:00, 39448.29it/s]\n"
     ]
    },
    {
     "name": "stdout",
     "output_type": "stream",
     "text": [
      "226452<>51357 pair\n"
     ]
    },
    {
     "name": "stderr",
     "output_type": "stream",
     "text": [
      "100%|██████████| 8389/8389 [00:00<00:00, 27989.85it/s]\n"
     ]
    },
    {
     "name": "stdout",
     "output_type": "stream",
     "text": [
      "226452<>51241 pair\n"
     ]
    },
    {
     "name": "stderr",
     "output_type": "stream",
     "text": [
      "100%|██████████| 8389/8389 [00:00<00:00, 45615.68it/s]\n"
     ]
    },
    {
     "name": "stdout",
     "output_type": "stream",
     "text": [
      "226452<>51076 pair\n"
     ]
    },
    {
     "name": "stderr",
     "output_type": "stream",
     "text": [
      "100%|██████████| 8389/8389 [00:00<00:00, 34506.45it/s]\n"
     ]
    },
    {
     "name": "stdout",
     "output_type": "stream",
     "text": [
      "226452<>51377 pair\n"
     ]
    },
    {
     "name": "stderr",
     "output_type": "stream",
     "text": [
      "100%|██████████| 8389/8389 [00:00<00:00, 45693.22it/s]\n"
     ]
    },
    {
     "name": "stdout",
     "output_type": "stream",
     "text": [
      "226452<>51368 pair\n"
     ]
    },
    {
     "name": "stderr",
     "output_type": "stream",
     "text": [
      "100%|██████████| 8389/8389 [00:00<00:00, 25420.54it/s]\n"
     ]
    },
    {
     "name": "stdout",
     "output_type": "stream",
     "text": [
      "226452<>51345 pair\n"
     ]
    },
    {
     "name": "stderr",
     "output_type": "stream",
     "text": [
      "100%|██████████| 8389/8389 [00:00<00:00, 30784.40it/s]\n"
     ]
    },
    {
     "name": "stdout",
     "output_type": "stream",
     "text": [
      "226452<>50844 pair\n"
     ]
    },
    {
     "name": "stderr",
     "output_type": "stream",
     "text": [
      "100%|██████████| 8389/8389 [00:00<00:00, 54275.29it/s]\n"
     ]
    },
    {
     "name": "stdout",
     "output_type": "stream",
     "text": [
      "226452<>51203 pair\n"
     ]
    },
    {
     "name": "stderr",
     "output_type": "stream",
     "text": [
      "100%|██████████| 8389/8389 [00:00<00:00, 37401.65it/s]\n"
     ]
    },
    {
     "name": "stdout",
     "output_type": "stream",
     "text": [
      "226452<>51208 pair\n"
     ]
    },
    {
     "name": "stderr",
     "output_type": "stream",
     "text": [
      "100%|██████████| 8389/8389 [00:00<00:00, 45040.18it/s]\n"
     ]
    },
    {
     "name": "stdout",
     "output_type": "stream",
     "text": [
      "226452<>51202 pair\n"
     ]
    },
    {
     "name": "stderr",
     "output_type": "stream",
     "text": [
      "100%|██████████| 8389/8389 [00:00<00:00, 46049.15it/s]\n"
     ]
    },
    {
     "name": "stdout",
     "output_type": "stream",
     "text": [
      "226452<>51437 pair\n"
     ]
    },
    {
     "name": "stderr",
     "output_type": "stream",
     "text": [
      "100%|██████████| 8389/8389 [00:00<00:00, 45650.42it/s]\n"
     ]
    },
    {
     "name": "stdout",
     "output_type": "stream",
     "text": [
      "226452<>51432 pair\n"
     ]
    },
    {
     "name": "stderr",
     "output_type": "stream",
     "text": [
      "100%|██████████| 8389/8389 [00:00<00:00, 46188.36it/s]\n"
     ]
    },
    {
     "name": "stdout",
     "output_type": "stream",
     "text": [
      "226452<>51023 pair\n"
     ]
    },
    {
     "name": "stderr",
     "output_type": "stream",
     "text": [
      "100%|██████████| 8389/8389 [00:00<00:00, 44830.03it/s]\n"
     ]
    },
    {
     "name": "stdout",
     "output_type": "stream",
     "text": [
      "226452<>51019 pair\n"
     ]
    },
    {
     "name": "stderr",
     "output_type": "stream",
     "text": [
      "100%|██████████| 8389/8389 [00:00<00:00, 45745.26it/s]\n"
     ]
    },
    {
     "name": "stdout",
     "output_type": "stream",
     "text": [
      "226452<>51022 pair\n"
     ]
    },
    {
     "name": "stderr",
     "output_type": "stream",
     "text": [
      "100%|██████████| 8389/8389 [00:00<00:00, 45253.06it/s]\n"
     ]
    },
    {
     "name": "stdout",
     "output_type": "stream",
     "text": [
      "226452<>51024 pair\n"
     ]
    },
    {
     "name": "stderr",
     "output_type": "stream",
     "text": [
      "100%|██████████| 8389/8389 [00:00<00:00, 46067.36it/s]\n"
     ]
    },
    {
     "name": "stdout",
     "output_type": "stream",
     "text": [
      "226452<>51381 pair\n"
     ]
    },
    {
     "name": "stderr",
     "output_type": "stream",
     "text": [
      "100%|██████████| 8389/8389 [00:00<00:00, 45033.60it/s]\n"
     ]
    },
    {
     "name": "stdout",
     "output_type": "stream",
     "text": [
      "226452<>51041 pair\n"
     ]
    },
    {
     "name": "stderr",
     "output_type": "stream",
     "text": [
      "100%|██████████| 8389/8389 [00:00<00:00, 34845.71it/s]\n"
     ]
    },
    {
     "name": "stdout",
     "output_type": "stream",
     "text": [
      "226452<>50961 pair\n"
     ]
    },
    {
     "name": "stderr",
     "output_type": "stream",
     "text": [
      "100%|██████████| 8389/8389 [00:00<00:00, 27294.62it/s]\n"
     ]
    },
    {
     "name": "stdout",
     "output_type": "stream",
     "text": [
      "226452<>50865 pair\n"
     ]
    },
    {
     "name": "stderr",
     "output_type": "stream",
     "text": [
      "100%|██████████| 8389/8389 [00:00<00:00, 39699.04it/s]\n"
     ]
    },
    {
     "name": "stdout",
     "output_type": "stream",
     "text": [
      "226452<>51515 pair\n"
     ]
    },
    {
     "name": "stderr",
     "output_type": "stream",
     "text": [
      "100%|██████████| 8389/8389 [00:00<00:00, 28404.64it/s]\n"
     ]
    },
    {
     "name": "stdout",
     "output_type": "stream",
     "text": [
      "226452<>51209 pair\n"
     ]
    },
    {
     "name": "stderr",
     "output_type": "stream",
     "text": [
      "100%|██████████| 8389/8389 [00:00<00:00, 51720.72it/s]\n"
     ]
    },
    {
     "name": "stdout",
     "output_type": "stream",
     "text": [
      "226452<>50921 pair\n"
     ]
    },
    {
     "name": "stderr",
     "output_type": "stream",
     "text": [
      "100%|██████████| 8389/8389 [00:00<00:00, 42969.41it/s]\n"
     ]
    },
    {
     "name": "stdout",
     "output_type": "stream",
     "text": [
      "226452<>51150 pair\n"
     ]
    },
    {
     "name": "stderr",
     "output_type": "stream",
     "text": [
      "100%|██████████| 8389/8389 [00:00<00:00, 52052.24it/s]\n"
     ]
    },
    {
     "name": "stdout",
     "output_type": "stream",
     "text": [
      "226452<>50916 pair\n"
     ]
    },
    {
     "name": "stderr",
     "output_type": "stream",
     "text": [
      "100%|██████████| 8389/8389 [00:00<00:00, 51872.30it/s]\n"
     ]
    },
    {
     "name": "stdout",
     "output_type": "stream",
     "text": [
      "226452<>50877 pair\n"
     ]
    },
    {
     "name": "stderr",
     "output_type": "stream",
     "text": [
      "100%|██████████| 8389/8389 [00:00<00:00, 52182.40it/s]\n"
     ]
    },
    {
     "name": "stdout",
     "output_type": "stream",
     "text": [
      "226452<>51353 pair\n"
     ]
    },
    {
     "name": "stderr",
     "output_type": "stream",
     "text": [
      "100%|██████████| 8389/8389 [00:00<00:00, 52173.03it/s]\n"
     ]
    },
    {
     "name": "stdout",
     "output_type": "stream",
     "text": [
      "226452<>51080 pair\n"
     ]
    },
    {
     "name": "stderr",
     "output_type": "stream",
     "text": [
      "100%|██████████| 8389/8389 [00:00<00:00, 36918.88it/s]\n"
     ]
    },
    {
     "name": "stdout",
     "output_type": "stream",
     "text": [
      "226452<>51081 pair\n"
     ]
    },
    {
     "name": "stderr",
     "output_type": "stream",
     "text": [
      "100%|██████████| 8389/8389 [00:00<00:00, 37110.10it/s]\n"
     ]
    },
    {
     "name": "stdout",
     "output_type": "stream",
     "text": [
      "226452<>51101 pair\n"
     ]
    },
    {
     "name": "stderr",
     "output_type": "stream",
     "text": [
      "100%|██████████| 8389/8389 [00:00<00:00, 37279.13it/s]\n"
     ]
    },
    {
     "name": "stdout",
     "output_type": "stream",
     "text": [
      "226452<>51106 pair\n"
     ]
    },
    {
     "name": "stderr",
     "output_type": "stream",
     "text": [
      "100%|██████████| 8389/8389 [00:00<00:00, 36821.13it/s]\n"
     ]
    },
    {
     "name": "stdout",
     "output_type": "stream",
     "text": [
      "226452<>51109 pair\n"
     ]
    },
    {
     "name": "stderr",
     "output_type": "stream",
     "text": [
      "100%|██████████| 8389/8389 [00:00<00:00, 38582.55it/s]\n"
     ]
    },
    {
     "name": "stdout",
     "output_type": "stream",
     "text": [
      "226452<>51302 pair\n"
     ]
    },
    {
     "name": "stderr",
     "output_type": "stream",
     "text": [
      "100%|██████████| 8389/8389 [00:00<00:00, 27916.55it/s]\n"
     ]
    },
    {
     "name": "stdout",
     "output_type": "stream",
     "text": [
      "226452<>51488 pair\n"
     ]
    },
    {
     "name": "stderr",
     "output_type": "stream",
     "text": [
      "100%|██████████| 8389/8389 [00:00<00:00, 54723.34it/s]\n"
     ]
    },
    {
     "name": "stdout",
     "output_type": "stream",
     "text": [
      "226452<>51044 pair\n"
     ]
    },
    {
     "name": "stderr",
     "output_type": "stream",
     "text": [
      "100%|██████████| 8389/8389 [00:00<00:00, 27803.74it/s]\n"
     ]
    },
    {
     "name": "stdout",
     "output_type": "stream",
     "text": [
      "226452<>50847 pair\n"
     ]
    },
    {
     "name": "stderr",
     "output_type": "stream",
     "text": [
      "100%|██████████| 8389/8389 [00:00<00:00, 40006.11it/s]\n"
     ]
    },
    {
     "name": "stdout",
     "output_type": "stream",
     "text": [
      "226452<>50837 pair\n"
     ]
    },
    {
     "name": "stderr",
     "output_type": "stream",
     "text": [
      "100%|██████████| 8389/8389 [00:00<00:00, 42863.15it/s]\n"
     ]
    },
    {
     "name": "stdout",
     "output_type": "stream",
     "text": [
      "226452<>50848 pair\n"
     ]
    },
    {
     "name": "stderr",
     "output_type": "stream",
     "text": [
      "100%|██████████| 8389/8389 [00:00<00:00, 39636.75it/s]\n"
     ]
    },
    {
     "name": "stdout",
     "output_type": "stream",
     "text": [
      "226452<>50839 pair\n"
     ]
    },
    {
     "name": "stderr",
     "output_type": "stream",
     "text": [
      "100%|██████████| 8389/8389 [00:00<00:00, 46473.62it/s]\n"
     ]
    },
    {
     "name": "stdout",
     "output_type": "stream",
     "text": [
      "226452<>51066 pair\n"
     ]
    },
    {
     "name": "stderr",
     "output_type": "stream",
     "text": [
      "100%|██████████| 8389/8389 [00:00<00:00, 54272.77it/s]\n"
     ]
    },
    {
     "name": "stdout",
     "output_type": "stream",
     "text": [
      "226452<>51168 pair\n"
     ]
    },
    {
     "name": "stderr",
     "output_type": "stream",
     "text": [
      "100%|██████████| 8389/8389 [00:00<00:00, 45378.83it/s]\n"
     ]
    },
    {
     "name": "stdout",
     "output_type": "stream",
     "text": [
      "226452<>51162 pair\n"
     ]
    },
    {
     "name": "stderr",
     "output_type": "stream",
     "text": [
      "100%|██████████| 8389/8389 [00:00<00:00, 54235.97it/s]\n"
     ]
    },
    {
     "name": "stdout",
     "output_type": "stream",
     "text": [
      "226452<>51175 pair\n"
     ]
    },
    {
     "name": "stderr",
     "output_type": "stream",
     "text": [
      "100%|██████████| 8389/8389 [00:00<00:00, 52962.27it/s]\n"
     ]
    },
    {
     "name": "stdout",
     "output_type": "stream",
     "text": [
      "226452<>51174 pair\n"
     ]
    },
    {
     "name": "stderr",
     "output_type": "stream",
     "text": [
      "100%|██████████| 8389/8389 [00:00<00:00, 52418.02it/s]\n"
     ]
    },
    {
     "name": "stdout",
     "output_type": "stream",
     "text": [
      "226452<>51163 pair\n"
     ]
    },
    {
     "name": "stderr",
     "output_type": "stream",
     "text": [
      "100%|██████████| 8389/8389 [00:00<00:00, 51933.70it/s]\n"
     ]
    },
    {
     "name": "stdout",
     "output_type": "stream",
     "text": [
      "226452<>51042 pair\n"
     ]
    },
    {
     "name": "stderr",
     "output_type": "stream",
     "text": [
      "100%|██████████| 8389/8389 [00:00<00:00, 37894.61it/s]\n"
     ]
    },
    {
     "name": "stdout",
     "output_type": "stream",
     "text": [
      "226452<>51027 pair\n"
     ]
    },
    {
     "name": "stderr",
     "output_type": "stream",
     "text": [
      "100%|██████████| 8389/8389 [00:00<00:00, 44855.46it/s]\n"
     ]
    },
    {
     "name": "stdout",
     "output_type": "stream",
     "text": [
      "226452<>51030 pair\n"
     ]
    },
    {
     "name": "stderr",
     "output_type": "stream",
     "text": [
      "100%|██████████| 8389/8389 [00:00<00:00, 37907.63it/s]\n"
     ]
    },
    {
     "name": "stdout",
     "output_type": "stream",
     "text": [
      "226452<>51348 pair\n"
     ]
    },
    {
     "name": "stderr",
     "output_type": "stream",
     "text": [
      "100%|██████████| 8389/8389 [00:00<00:00, 43804.73it/s]\n"
     ]
    },
    {
     "name": "stdout",
     "output_type": "stream",
     "text": [
      "226452<>51204 pair\n"
     ]
    },
    {
     "name": "stderr",
     "output_type": "stream",
     "text": [
      "100%|██████████| 8389/8389 [00:00<00:00, 33400.21it/s]\n"
     ]
    },
    {
     "name": "stdout",
     "output_type": "stream",
     "text": [
      "226452<>51205 pair\n"
     ]
    },
    {
     "name": "stderr",
     "output_type": "stream",
     "text": [
      "100%|██████████| 8389/8389 [00:00<00:00, 33101.83it/s]\n"
     ]
    },
    {
     "name": "stdout",
     "output_type": "stream",
     "text": [
      "226452<>51489 pair\n"
     ]
    },
    {
     "name": "stderr",
     "output_type": "stream",
     "text": [
      "100%|██████████| 8389/8389 [00:00<00:00, 38280.08it/s]\n"
     ]
    },
    {
     "name": "stdout",
     "output_type": "stream",
     "text": [
      "226452<>51409 pair\n"
     ]
    },
    {
     "name": "stderr",
     "output_type": "stream",
     "text": [
      "100%|██████████| 8389/8389 [00:00<00:00, 44088.39it/s]\n"
     ]
    },
    {
     "name": "stdout",
     "output_type": "stream",
     "text": [
      "226452<>51029 pair\n"
     ]
    },
    {
     "name": "stderr",
     "output_type": "stream",
     "text": [
      "100%|██████████| 8389/8389 [00:00<00:00, 52886.33it/s]\n"
     ]
    },
    {
     "name": "stdout",
     "output_type": "stream",
     "text": [
      "226452<>51040 pair\n"
     ]
    },
    {
     "name": "stderr",
     "output_type": "stream",
     "text": [
      "100%|██████████| 8389/8389 [00:00<00:00, 52344.49it/s]\n"
     ]
    },
    {
     "name": "stdout",
     "output_type": "stream",
     "text": [
      "226452<>51020 pair\n"
     ]
    },
    {
     "name": "stderr",
     "output_type": "stream",
     "text": [
      "100%|██████████| 8389/8389 [00:00<00:00, 50052.51it/s]\n"
     ]
    },
    {
     "name": "stdout",
     "output_type": "stream",
     "text": [
      "226452<>51361 pair\n"
     ]
    },
    {
     "name": "stderr",
     "output_type": "stream",
     "text": [
      "100%|██████████| 8389/8389 [00:00<00:00, 43763.59it/s]\n"
     ]
    },
    {
     "name": "stdout",
     "output_type": "stream",
     "text": [
      "226452<>51404 pair\n"
     ]
    },
    {
     "name": "stderr",
     "output_type": "stream",
     "text": [
      "100%|██████████| 8389/8389 [00:00<00:00, 17192.37it/s]\n"
     ]
    },
    {
     "name": "stdout",
     "output_type": "stream",
     "text": [
      "226452<>51406 pair\n"
     ]
    },
    {
     "name": "stderr",
     "output_type": "stream",
     "text": [
      "100%|██████████| 8389/8389 [00:00<00:00, 18924.82it/s]\n"
     ]
    },
    {
     "name": "stdout",
     "output_type": "stream",
     "text": [
      "226452<>51398 pair\n"
     ]
    },
    {
     "name": "stderr",
     "output_type": "stream",
     "text": [
      "100%|██████████| 8389/8389 [00:00<00:00, 16358.15it/s]\n"
     ]
    },
    {
     "name": "stdout",
     "output_type": "stream",
     "text": [
      "226452<>51185 pair\n"
     ]
    },
    {
     "name": "stderr",
     "output_type": "stream",
     "text": [
      "100%|██████████| 8389/8389 [00:00<00:00, 51569.94it/s]\n"
     ]
    },
    {
     "name": "stdout",
     "output_type": "stream",
     "text": [
      "226452<>51186 pair\n"
     ]
    },
    {
     "name": "stderr",
     "output_type": "stream",
     "text": [
      "100%|██████████| 8389/8389 [00:00<00:00, 51783.05it/s]\n"
     ]
    },
    {
     "name": "stdout",
     "output_type": "stream",
     "text": [
      "226452<>51210 pair\n"
     ]
    },
    {
     "name": "stderr",
     "output_type": "stream",
     "text": [
      "100%|██████████| 8389/8389 [00:00<00:00, 52008.39it/s]\n"
     ]
    },
    {
     "name": "stdout",
     "output_type": "stream",
     "text": [
      "226452<>51036 pair\n"
     ]
    },
    {
     "name": "stderr",
     "output_type": "stream",
     "text": [
      "100%|██████████| 8389/8389 [00:00<00:00, 51735.39it/s]\n"
     ]
    },
    {
     "name": "stdout",
     "output_type": "stream",
     "text": [
      "226452<>51359 pair\n"
     ]
    },
    {
     "name": "stderr",
     "output_type": "stream",
     "text": [
      "100%|██████████| 8389/8389 [00:00<00:00, 52088.46it/s]\n"
     ]
    },
    {
     "name": "stdout",
     "output_type": "stream",
     "text": [
      "226452<>51240 pair\n"
     ]
    },
    {
     "name": "stderr",
     "output_type": "stream",
     "text": [
      "100%|██████████| 8389/8389 [00:00<00:00, 43435.77it/s]\n"
     ]
    },
    {
     "name": "stdout",
     "output_type": "stream",
     "text": [
      "226452<>51050 pair\n"
     ]
    },
    {
     "name": "stderr",
     "output_type": "stream",
     "text": [
      "100%|██████████| 8389/8389 [00:00<00:00, 51871.07it/s]\n"
     ]
    },
    {
     "name": "stdout",
     "output_type": "stream",
     "text": [
      "226452<>51057 pair\n"
     ]
    },
    {
     "name": "stderr",
     "output_type": "stream",
     "text": [
      "100%|██████████| 8389/8389 [00:00<00:00, 52174.35it/s]\n"
     ]
    },
    {
     "name": "stdout",
     "output_type": "stream",
     "text": [
      "226452<>51058 pair\n"
     ]
    },
    {
     "name": "stderr",
     "output_type": "stream",
     "text": [
      "100%|██████████| 8389/8389 [00:00<00:00, 43788.21it/s]\n"
     ]
    },
    {
     "name": "stdout",
     "output_type": "stream",
     "text": [
      "226452<>51048 pair\n"
     ]
    },
    {
     "name": "stderr",
     "output_type": "stream",
     "text": [
      "100%|██████████| 8389/8389 [00:00<00:00, 43048.53it/s]\n"
     ]
    },
    {
     "name": "stdout",
     "output_type": "stream",
     "text": [
      "226452<>51365 pair\n"
     ]
    },
    {
     "name": "stderr",
     "output_type": "stream",
     "text": [
      "100%|██████████| 8389/8389 [00:00<00:00, 43713.03it/s]\n"
     ]
    },
    {
     "name": "stdout",
     "output_type": "stream",
     "text": [
      "226452<>51529 pair\n"
     ]
    },
    {
     "name": "stderr",
     "output_type": "stream",
     "text": [
      "100%|██████████| 8389/8389 [00:00<00:00, 51743.38it/s]\n"
     ]
    },
    {
     "name": "stdout",
     "output_type": "stream",
     "text": [
      "226452<>51346 pair\n"
     ]
    },
    {
     "name": "stderr",
     "output_type": "stream",
     "text": [
      "100%|██████████| 8389/8389 [00:00<00:00, 37827.10it/s]\n"
     ]
    },
    {
     "name": "stdout",
     "output_type": "stream",
     "text": [
      "226452<>51149 pair\n"
     ]
    },
    {
     "name": "stderr",
     "output_type": "stream",
     "text": [
      "100%|██████████| 8389/8389 [00:00<00:00, 51335.20it/s]\n"
     ]
    },
    {
     "name": "stdout",
     "output_type": "stream",
     "text": [
      "226452<>51380 pair\n"
     ]
    },
    {
     "name": "stderr",
     "output_type": "stream",
     "text": [
      "100%|██████████| 8389/8389 [00:00<00:00, 52005.47it/s]\n"
     ]
    },
    {
     "name": "stdout",
     "output_type": "stream",
     "text": [
      "226452<>51126 pair\n"
     ]
    },
    {
     "name": "stderr",
     "output_type": "stream",
     "text": [
      "100%|██████████| 8389/8389 [00:00<00:00, 43517.48it/s]\n"
     ]
    },
    {
     "name": "stdout",
     "output_type": "stream",
     "text": [
      "226452<>51031 pair\n"
     ]
    },
    {
     "name": "stderr",
     "output_type": "stream",
     "text": [
      "100%|██████████| 8389/8389 [00:00<00:00, 51754.57it/s]\n"
     ]
    },
    {
     "name": "stdout",
     "output_type": "stream",
     "text": [
      "226452<>51121 pair\n"
     ]
    },
    {
     "name": "stderr",
     "output_type": "stream",
     "text": [
      "100%|██████████| 8389/8389 [00:00<00:00, 42874.74it/s]\n"
     ]
    },
    {
     "name": "stdout",
     "output_type": "stream",
     "text": [
      "226452<>51364 pair\n"
     ]
    },
    {
     "name": "stderr",
     "output_type": "stream",
     "text": [
      "100%|██████████| 8389/8389 [00:00<00:00, 51843.79it/s]\n"
     ]
    },
    {
     "name": "stdout",
     "output_type": "stream",
     "text": [
      "226452<>51012 pair\n"
     ]
    },
    {
     "name": "stderr",
     "output_type": "stream",
     "text": [
      "100%|██████████| 8389/8389 [00:00<00:00, 43706.84it/s]\n"
     ]
    },
    {
     "name": "stdout",
     "output_type": "stream",
     "text": [
      "226452<>51038 pair\n"
     ]
    },
    {
     "name": "stderr",
     "output_type": "stream",
     "text": [
      "100%|██████████| 8389/8389 [00:00<00:00, 51888.13it/s]\n"
     ]
    },
    {
     "name": "stdout",
     "output_type": "stream",
     "text": [
      "226452<>51443 pair\n"
     ]
    },
    {
     "name": "stderr",
     "output_type": "stream",
     "text": [
      "100%|██████████| 8389/8389 [00:00<00:00, 43526.79it/s]\n"
     ]
    },
    {
     "name": "stdout",
     "output_type": "stream",
     "text": [
      "226452<>51113 pair\n"
     ]
    },
    {
     "name": "stderr",
     "output_type": "stream",
     "text": [
      "100%|██████████| 8389/8389 [00:00<00:00, 51755.79it/s]\n"
     ]
    },
    {
     "name": "stdout",
     "output_type": "stream",
     "text": [
      "226452<>51456 pair\n"
     ]
    },
    {
     "name": "stderr",
     "output_type": "stream",
     "text": [
      "100%|██████████| 8389/8389 [00:00<00:00, 43000.23it/s]\n"
     ]
    },
    {
     "name": "stdout",
     "output_type": "stream",
     "text": [
      "226452<>51496 pair\n"
     ]
    },
    {
     "name": "stderr",
     "output_type": "stream",
     "text": [
      "100%|██████████| 8389/8389 [00:00<00:00, 42285.14it/s]\n"
     ]
    },
    {
     "name": "stdout",
     "output_type": "stream",
     "text": [
      "226452<>51039 pair\n"
     ]
    },
    {
     "name": "stderr",
     "output_type": "stream",
     "text": [
      "100%|██████████| 8389/8389 [00:00<00:00, 51777.95it/s]\n"
     ]
    },
    {
     "name": "stdout",
     "output_type": "stream",
     "text": [
      "226452<>51367 pair\n"
     ]
    },
    {
     "name": "stderr",
     "output_type": "stream",
     "text": [
      "100%|██████████| 8389/8389 [00:00<00:00, 51982.88it/s]\n"
     ]
    },
    {
     "name": "stdout",
     "output_type": "stream",
     "text": [
      "226452<>51170 pair\n"
     ]
    },
    {
     "name": "stderr",
     "output_type": "stream",
     "text": [
      "100%|██████████| 8389/8389 [00:00<00:00, 51989.64it/s]\n"
     ]
    },
    {
     "name": "stdout",
     "output_type": "stream",
     "text": [
      "226452<>51169 pair\n"
     ]
    },
    {
     "name": "stderr",
     "output_type": "stream",
     "text": [
      "100%|██████████| 8389/8389 [00:00<00:00, 50034.22it/s]\n"
     ]
    },
    {
     "name": "stdout",
     "output_type": "stream",
     "text": [
      "226452<>51166 pair\n"
     ]
    },
    {
     "name": "stderr",
     "output_type": "stream",
     "text": [
      "100%|██████████| 8389/8389 [00:00<00:00, 51399.09it/s]\n"
     ]
    },
    {
     "name": "stdout",
     "output_type": "stream",
     "text": [
      "226452<>51165 pair\n"
     ]
    },
    {
     "name": "stderr",
     "output_type": "stream",
     "text": [
      "100%|██████████| 8389/8389 [00:00<00:00, 51250.85it/s]\n"
     ]
    },
    {
     "name": "stdout",
     "output_type": "stream",
     "text": [
      "226452<>50851 pair\n"
     ]
    },
    {
     "name": "stderr",
     "output_type": "stream",
     "text": [
      "100%|██████████| 8389/8389 [00:00<00:00, 50546.56it/s]\n"
     ]
    },
    {
     "name": "stdout",
     "output_type": "stream",
     "text": [
      "226452<>51188 pair\n"
     ]
    },
    {
     "name": "stderr",
     "output_type": "stream",
     "text": [
      "100%|██████████| 8389/8389 [00:00<00:00, 42319.73it/s]\n"
     ]
    },
    {
     "name": "stdout",
     "output_type": "stream",
     "text": [
      "226452<>50947 pair\n"
     ]
    },
    {
     "name": "stderr",
     "output_type": "stream",
     "text": [
      "100%|██████████| 8389/8389 [00:00<00:00, 40997.92it/s]\n"
     ]
    },
    {
     "name": "stdout",
     "output_type": "stream",
     "text": [
      "226452<>51508 pair\n"
     ]
    },
    {
     "name": "stderr",
     "output_type": "stream",
     "text": [
      "100%|██████████| 8389/8389 [00:00<00:00, 48640.05it/s]\n"
     ]
    },
    {
     "name": "stdout",
     "output_type": "stream",
     "text": [
      "226452<>51164 pair\n"
     ]
    },
    {
     "name": "stderr",
     "output_type": "stream",
     "text": [
      "100%|██████████| 8389/8389 [00:00<00:00, 49425.85it/s]\n"
     ]
    },
    {
     "name": "stdout",
     "output_type": "stream",
     "text": [
      "225943<>50813 pair\n"
     ]
    },
    {
     "name": "stderr",
     "output_type": "stream",
     "text": [
      "100%|██████████| 4623/4623 [00:50<00:00, 92.02it/s] \n"
     ]
    },
    {
     "name": "stdout",
     "output_type": "stream",
     "text": [
      "225943<>50893 pair\n"
     ]
    },
    {
     "name": "stderr",
     "output_type": "stream",
     "text": [
      "100%|██████████| 4623/4623 [02:03<00:00, 37.32it/s]\n"
     ]
    },
    {
     "name": "stdout",
     "output_type": "stream",
     "text": [
      "225943<>50820 pair\n"
     ]
    },
    {
     "name": "stderr",
     "output_type": "stream",
     "text": [
      "100%|██████████| 4623/4623 [00:51<00:00, 89.77it/s] \n"
     ]
    },
    {
     "name": "stdout",
     "output_type": "stream",
     "text": [
      "225943<>50882 pair\n"
     ]
    },
    {
     "name": "stderr",
     "output_type": "stream",
     "text": [
      "100%|██████████| 4623/4623 [02:27<00:00, 31.31it/s]\n"
     ]
    },
    {
     "name": "stdout",
     "output_type": "stream",
     "text": [
      "225943<>50868 pair\n"
     ]
    },
    {
     "name": "stderr",
     "output_type": "stream",
     "text": [
      "100%|██████████| 4623/4623 [02:21<00:00, 32.75it/s]\n"
     ]
    },
    {
     "name": "stdout",
     "output_type": "stream",
     "text": [
      "225943<>51275 pair\n"
     ]
    },
    {
     "name": "stderr",
     "output_type": "stream",
     "text": [
      "100%|██████████| 4623/4623 [02:02<00:00, 37.72it/s]\n"
     ]
    },
    {
     "name": "stdout",
     "output_type": "stream",
     "text": [
      "225943<>51237 pair\n"
     ]
    },
    {
     "name": "stderr",
     "output_type": "stream",
     "text": [
      "100%|██████████| 4623/4623 [02:19<00:00, 33.06it/s]\n"
     ]
    },
    {
     "name": "stdout",
     "output_type": "stream",
     "text": [
      "225943<>51274 pair\n"
     ]
    },
    {
     "name": "stderr",
     "output_type": "stream",
     "text": [
      "100%|██████████| 4623/4623 [02:05<00:00, 36.80it/s]\n"
     ]
    },
    {
     "name": "stdout",
     "output_type": "stream",
     "text": [
      "225943<>50802 pair\n"
     ]
    },
    {
     "name": "stderr",
     "output_type": "stream",
     "text": [
      "100%|██████████| 4623/4623 [00:52<00:00, 87.76it/s] \n"
     ]
    },
    {
     "name": "stdout",
     "output_type": "stream",
     "text": [
      "225943<>50804 pair\n"
     ]
    },
    {
     "name": "stderr",
     "output_type": "stream",
     "text": [
      "100%|██████████| 4623/4623 [00:53<00:00, 86.32it/s] \n"
     ]
    },
    {
     "name": "stdout",
     "output_type": "stream",
     "text": [
      "225943<>50818 pair\n"
     ]
    },
    {
     "name": "stderr",
     "output_type": "stream",
     "text": [
      "100%|██████████| 4623/4623 [00:54<00:00, 84.96it/s] \n"
     ]
    },
    {
     "name": "stdout",
     "output_type": "stream",
     "text": [
      "225943<>50902 pair\n"
     ]
    },
    {
     "name": "stderr",
     "output_type": "stream",
     "text": [
      "100%|██████████| 4623/4623 [02:26<00:00, 31.63it/s]\n"
     ]
    },
    {
     "name": "stdout",
     "output_type": "stream",
     "text": [
      "225943<>50821 pair\n"
     ]
    },
    {
     "name": "stderr",
     "output_type": "stream",
     "text": [
      "100%|██████████| 4623/4623 [00:51<00:00, 89.89it/s] \n"
     ]
    },
    {
     "name": "stdout",
     "output_type": "stream",
     "text": [
      "225943<>51222 pair\n"
     ]
    },
    {
     "name": "stderr",
     "output_type": "stream",
     "text": [
      "100%|██████████| 4623/4623 [02:11<00:00, 35.11it/s]\n"
     ]
    },
    {
     "name": "stdout",
     "output_type": "stream",
     "text": [
      "225943<>50823 pair\n"
     ]
    },
    {
     "name": "stderr",
     "output_type": "stream",
     "text": [
      "100%|██████████| 4623/4623 [00:06<00:00, 692.53it/s] \n"
     ]
    },
    {
     "name": "stdout",
     "output_type": "stream",
     "text": [
      "225943<>51221 pair\n"
     ]
    },
    {
     "name": "stderr",
     "output_type": "stream",
     "text": [
      "100%|██████████| 4623/4623 [02:14<00:00, 34.28it/s]\n"
     ]
    },
    {
     "name": "stdout",
     "output_type": "stream",
     "text": [
      "225943<>50801 pair\n"
     ]
    },
    {
     "name": "stderr",
     "output_type": "stream",
     "text": [
      "100%|██████████| 4623/4623 [00:06<00:00, 746.72it/s] \n"
     ]
    },
    {
     "name": "stdout",
     "output_type": "stream",
     "text": [
      "225943<>51006 pair\n"
     ]
    },
    {
     "name": "stderr",
     "output_type": "stream",
     "text": [
      "100%|██████████| 4623/4623 [04:11<00:00, 18.39it/s]  \n"
     ]
    },
    {
     "name": "stdout",
     "output_type": "stream",
     "text": [
      "225943<>50826 pair\n"
     ]
    },
    {
     "name": "stderr",
     "output_type": "stream",
     "text": [
      "100%|██████████| 4623/4623 [00:09<00:00, 463.63it/s]\n"
     ]
    },
    {
     "name": "stdout",
     "output_type": "stream",
     "text": [
      "225943<>50983 pair\n"
     ]
    },
    {
     "name": "stderr",
     "output_type": "stream",
     "text": [
      "100%|██████████| 4623/4623 [02:15<00:00, 34.19it/s]\n"
     ]
    },
    {
     "name": "stdout",
     "output_type": "stream",
     "text": [
      "225943<>50819 pair\n"
     ]
    },
    {
     "name": "stderr",
     "output_type": "stream",
     "text": [
      "100%|██████████| 4623/4623 [00:08<00:00, 535.77it/s]\n"
     ]
    },
    {
     "name": "stdout",
     "output_type": "stream",
     "text": [
      "225943<>50816 pair\n"
     ]
    },
    {
     "name": "stderr",
     "output_type": "stream",
     "text": [
      "100%|██████████| 4623/4623 [00:15<00:00, 298.91it/s]\n"
     ]
    },
    {
     "name": "stdout",
     "output_type": "stream",
     "text": [
      "225943<>50971 pair\n"
     ]
    },
    {
     "name": "stderr",
     "output_type": "stream",
     "text": [
      "100%|██████████| 4623/4623 [03:21<00:00, 22.90it/s]  \n"
     ]
    },
    {
     "name": "stdout",
     "output_type": "stream",
     "text": [
      "225943<>50970 pair\n"
     ]
    },
    {
     "name": "stderr",
     "output_type": "stream",
     "text": [
      "100%|██████████| 4623/4623 [4:57:41<00:00,  3.86s/it]   \n"
     ]
    },
    {
     "name": "stdout",
     "output_type": "stream",
     "text": [
      "225943<>50960 pair\n"
     ]
    },
    {
     "name": "stderr",
     "output_type": "stream",
     "text": [
      "100%|██████████| 4623/4623 [1:26:19<00:00,  1.12s/it]   \n"
     ]
    },
    {
     "name": "stdout",
     "output_type": "stream",
     "text": [
      "225943<>50931 pair\n"
     ]
    },
    {
     "name": "stderr",
     "output_type": "stream",
     "text": [
      "100%|██████████| 4623/4623 [2:33:59<00:00,  2.00s/it]   \n"
     ]
    },
    {
     "name": "stdout",
     "output_type": "stream",
     "text": [
      "225943<>50912 pair\n"
     ]
    },
    {
     "name": "stderr",
     "output_type": "stream",
     "text": [
      "100%|██████████| 4623/4623 [1:28:44<00:00,  1.15s/it]   \n"
     ]
    },
    {
     "name": "stdout",
     "output_type": "stream",
     "text": [
      "225943<>51248 pair\n"
     ]
    },
    {
     "name": "stderr",
     "output_type": "stream",
     "text": [
      "100%|██████████| 4623/4623 [02:13<00:00, 34.68it/s]\n"
     ]
    },
    {
     "name": "stdout",
     "output_type": "stream",
     "text": [
      "225943<>50810 pair\n"
     ]
    },
    {
     "name": "stderr",
     "output_type": "stream",
     "text": [
      "100%|██████████| 4623/4623 [00:19<00:00, 237.28it/s]\n"
     ]
    },
    {
     "name": "stdout",
     "output_type": "stream",
     "text": [
      "225943<>50809 pair\n"
     ]
    },
    {
     "name": "stderr",
     "output_type": "stream",
     "text": [
      "100%|██████████| 4623/4623 [00:21<00:00, 219.92it/s]\n"
     ]
    },
    {
     "name": "stdout",
     "output_type": "stream",
     "text": [
      "225943<>51143 pair\n"
     ]
    },
    {
     "name": "stderr",
     "output_type": "stream",
     "text": [
      "100%|██████████| 4623/4623 [00:18<00:00, 255.38it/s]\n"
     ]
    },
    {
     "name": "stdout",
     "output_type": "stream",
     "text": [
      "225943<>50956 pair\n"
     ]
    },
    {
     "name": "stderr",
     "output_type": "stream",
     "text": [
      "100%|██████████| 4623/4623 [00:28<00:00, 164.30it/s]\n"
     ]
    },
    {
     "name": "stdout",
     "output_type": "stream",
     "text": [
      "225943<>50862 pair\n"
     ]
    },
    {
     "name": "stderr",
     "output_type": "stream",
     "text": [
      "100%|██████████| 4623/4623 [01:11<00:00, 64.62it/s] \n"
     ]
    },
    {
     "name": "stdout",
     "output_type": "stream",
     "text": [
      "225943<>50885 pair\n"
     ]
    },
    {
     "name": "stderr",
     "output_type": "stream",
     "text": [
      "100%|██████████| 4623/4623 [01:21<00:00, 56.69it/s]\n"
     ]
    },
    {
     "name": "stdout",
     "output_type": "stream",
     "text": [
      "225943<>50863 pair\n"
     ]
    },
    {
     "name": "stderr",
     "output_type": "stream",
     "text": [
      "100%|██████████| 4623/4623 [01:20<00:00, 57.38it/s] \n"
     ]
    },
    {
     "name": "stdout",
     "output_type": "stream",
     "text": [
      "225943<>50911 pair\n"
     ]
    },
    {
     "name": "stderr",
     "output_type": "stream",
     "text": [
      "100%|██████████| 4623/4623 [00:44<00:00, 102.77it/s]\n"
     ]
    },
    {
     "name": "stdout",
     "output_type": "stream",
     "text": [
      "225943<>51498 pair\n"
     ]
    },
    {
     "name": "stderr",
     "output_type": "stream",
     "text": [
      "100%|██████████| 4623/4623 [01:18<00:00, 59.26it/s] \n"
     ]
    },
    {
     "name": "stdout",
     "output_type": "stream",
     "text": [
      "225943<>51491 pair\n"
     ]
    },
    {
     "name": "stderr",
     "output_type": "stream",
     "text": [
      "100%|██████████| 4623/4623 [01:21<00:00, 56.76it/s] \n"
     ]
    },
    {
     "name": "stdout",
     "output_type": "stream",
     "text": [
      "225943<>51301 pair\n"
     ]
    },
    {
     "name": "stderr",
     "output_type": "stream",
     "text": [
      "100%|██████████| 4623/4623 [02:13<00:00, 34.64it/s]\n"
     ]
    },
    {
     "name": "stdout",
     "output_type": "stream",
     "text": [
      "225943<>50811 pair\n"
     ]
    },
    {
     "name": "stderr",
     "output_type": "stream",
     "text": [
      "100%|██████████| 4623/4623 [00:19<00:00, 231.97it/s]\n"
     ]
    },
    {
     "name": "stdout",
     "output_type": "stream",
     "text": [
      "225943<>51144 pair\n"
     ]
    },
    {
     "name": "stderr",
     "output_type": "stream",
     "text": [
      "100%|██████████| 4623/4623 [00:20<00:00, 223.57it/s]\n"
     ]
    },
    {
     "name": "stdout",
     "output_type": "stream",
     "text": [
      "225943<>51255 pair\n"
     ]
    },
    {
     "name": "stderr",
     "output_type": "stream",
     "text": [
      "100%|██████████| 4623/4623 [00:18<00:00, 251.82it/s]\n"
     ]
    },
    {
     "name": "stdout",
     "output_type": "stream",
     "text": [
      "225943<>50822 pair\n"
     ]
    },
    {
     "name": "stderr",
     "output_type": "stream",
     "text": [
      "100%|██████████| 4623/4623 [00:22<00:00, 202.02it/s]\n"
     ]
    },
    {
     "name": "stdout",
     "output_type": "stream",
     "text": [
      "225943<>50954 pair\n"
     ]
    },
    {
     "name": "stderr",
     "output_type": "stream",
     "text": [
      "100%|██████████| 4623/4623 [00:58<00:00, 78.75it/s] \n"
     ]
    },
    {
     "name": "stdout",
     "output_type": "stream",
     "text": [
      "225943<>51251 pair\n"
     ]
    },
    {
     "name": "stderr",
     "output_type": "stream",
     "text": [
      "100%|██████████| 4623/4623 [00:18<00:00, 254.18it/s]\n"
     ]
    },
    {
     "name": "stdout",
     "output_type": "stream",
     "text": [
      "225943<>51249 pair\n"
     ]
    },
    {
     "name": "stderr",
     "output_type": "stream",
     "text": [
      "100%|██████████| 4623/4623 [02:10<00:00, 35.43it/s]\n"
     ]
    },
    {
     "name": "stdout",
     "output_type": "stream",
     "text": [
      "225943<>51250 pair\n"
     ]
    },
    {
     "name": "stderr",
     "output_type": "stream",
     "text": [
      "100%|██████████| 4623/4623 [02:11<00:00, 35.29it/s]\n"
     ]
    },
    {
     "name": "stdout",
     "output_type": "stream",
     "text": [
      "225943<>50910 pair\n"
     ]
    },
    {
     "name": "stderr",
     "output_type": "stream",
     "text": [
      "100%|██████████| 4623/4623 [00:54<00:00, 84.09it/s] \n"
     ]
    },
    {
     "name": "stdout",
     "output_type": "stream",
     "text": [
      "225943<>51146 pair\n"
     ]
    },
    {
     "name": "stderr",
     "output_type": "stream",
     "text": [
      "100%|██████████| 4623/4623 [00:50<00:00, 91.96it/s] \n"
     ]
    },
    {
     "name": "stdout",
     "output_type": "stream",
     "text": [
      "225943<>51256 pair\n"
     ]
    },
    {
     "name": "stderr",
     "output_type": "stream",
     "text": [
      "100%|██████████| 4623/4623 [00:49<00:00, 92.89it/s] \n"
     ]
    },
    {
     "name": "stdout",
     "output_type": "stream",
     "text": [
      "225943<>51254 pair\n"
     ]
    },
    {
     "name": "stderr",
     "output_type": "stream",
     "text": [
      "100%|██████████| 4623/4623 [00:49<00:00, 93.17it/s] \n"
     ]
    },
    {
     "name": "stdout",
     "output_type": "stream",
     "text": [
      "225943<>51244 pair\n"
     ]
    },
    {
     "name": "stderr",
     "output_type": "stream",
     "text": [
      "100%|██████████| 4623/4623 [00:49<00:00, 92.67it/s] \n"
     ]
    },
    {
     "name": "stdout",
     "output_type": "stream",
     "text": [
      "225943<>51200 pair\n"
     ]
    },
    {
     "name": "stderr",
     "output_type": "stream",
     "text": [
      "100%|██████████| 4623/4623 [00:49<00:00, 93.35it/s] \n"
     ]
    },
    {
     "name": "stdout",
     "output_type": "stream",
     "text": [
      "225943<>51059 pair\n"
     ]
    },
    {
     "name": "stderr",
     "output_type": "stream",
     "text": [
      "100%|██████████| 4623/4623 [00:02<00:00, 2009.33it/s] \n"
     ]
    },
    {
     "name": "stdout",
     "output_type": "stream",
     "text": [
      "225943<>51054 pair\n"
     ]
    },
    {
     "name": "stderr",
     "output_type": "stream",
     "text": [
      "100%|██████████| 4623/4623 [00:02<00:00, 2005.35it/s] \n"
     ]
    },
    {
     "name": "stdout",
     "output_type": "stream",
     "text": [
      "225943<>51053 pair\n"
     ]
    },
    {
     "name": "stderr",
     "output_type": "stream",
     "text": [
      "100%|██████████| 4623/4623 [00:02<00:00, 2127.97it/s] \n"
     ]
    },
    {
     "name": "stdout",
     "output_type": "stream",
     "text": [
      "225943<>51046 pair\n"
     ]
    },
    {
     "name": "stderr",
     "output_type": "stream",
     "text": [
      "100%|██████████| 4623/4623 [00:01<00:00, 4585.01it/s] \n"
     ]
    },
    {
     "name": "stdout",
     "output_type": "stream",
     "text": [
      "225943<>50806 pair\n"
     ]
    },
    {
     "name": "stderr",
     "output_type": "stream",
     "text": [
      "100%|██████████| 4623/4623 [00:16<00:00, 277.43it/s]\n"
     ]
    },
    {
     "name": "stdout",
     "output_type": "stream",
     "text": [
      "225943<>50824 pair\n"
     ]
    },
    {
     "name": "stderr",
     "output_type": "stream",
     "text": [
      "100%|██████████| 4623/4623 [00:17<00:00, 257.81it/s]\n"
     ]
    },
    {
     "name": "stdout",
     "output_type": "stream",
     "text": [
      "225943<>51279 pair\n"
     ]
    },
    {
     "name": "stderr",
     "output_type": "stream",
     "text": [
      "100%|██████████| 4623/4623 [02:10<00:00, 35.53it/s]\n"
     ]
    },
    {
     "name": "stdout",
     "output_type": "stream",
     "text": [
      "225943<>50808 pair\n"
     ]
    },
    {
     "name": "stderr",
     "output_type": "stream",
     "text": [
      "100%|██████████| 4623/4623 [00:30<00:00, 152.95it/s]\n"
     ]
    },
    {
     "name": "stdout",
     "output_type": "stream",
     "text": [
      "225943<>51277 pair\n"
     ]
    },
    {
     "name": "stderr",
     "output_type": "stream",
     "text": [
      "100%|██████████| 4623/4623 [02:10<00:00, 35.43it/s]\n"
     ]
    },
    {
     "name": "stdout",
     "output_type": "stream",
     "text": [
      "225943<>51265 pair\n"
     ]
    },
    {
     "name": "stderr",
     "output_type": "stream",
     "text": [
      "100%|██████████| 4623/4623 [35:11<00:00,  2.19it/s]   \n"
     ]
    },
    {
     "name": "stdout",
     "output_type": "stream",
     "text": [
      "225943<>50878 pair\n"
     ]
    },
    {
     "name": "stderr",
     "output_type": "stream",
     "text": [
      "100%|██████████| 4623/4623 [4:26:15<00:00,  3.46s/it]   \n"
     ]
    },
    {
     "name": "stdout",
     "output_type": "stream",
     "text": [
      "225943<>50861 pair\n"
     ]
    },
    {
     "name": "stderr",
     "output_type": "stream",
     "text": [
      "100%|██████████| 4623/4623 [01:26<00:00, 53.47it/s] \n"
     ]
    },
    {
     "name": "stdout",
     "output_type": "stream",
     "text": [
      "225943<>50993 pair\n"
     ]
    },
    {
     "name": "stderr",
     "output_type": "stream",
     "text": [
      "100%|██████████| 4623/4623 [00:16<00:00, 280.22it/s]\n"
     ]
    },
    {
     "name": "stdout",
     "output_type": "stream",
     "text": [
      "225943<>50994 pair\n"
     ]
    },
    {
     "name": "stderr",
     "output_type": "stream",
     "text": [
      "100%|██████████| 4623/4623 [00:02<00:00, 2076.92it/s] \n"
     ]
    },
    {
     "name": "stdout",
     "output_type": "stream",
     "text": [
      "225943<>50935 pair\n"
     ]
    },
    {
     "name": "stderr",
     "output_type": "stream",
     "text": [
      "100%|██████████| 4623/4623 [00:09<00:00, 510.01it/s] \n"
     ]
    },
    {
     "name": "stdout",
     "output_type": "stream",
     "text": [
      "225943<>51010 pair\n"
     ]
    },
    {
     "name": "stderr",
     "output_type": "stream",
     "text": [
      "100%|██████████| 4623/4623 [00:09<00:00, 490.14it/s] \n"
     ]
    },
    {
     "name": "stdout",
     "output_type": "stream",
     "text": [
      "225943<>50815 pair\n"
     ]
    },
    {
     "name": "stderr",
     "output_type": "stream",
     "text": [
      "100%|██████████| 4623/4623 [00:06<00:00, 721.11it/s] \n"
     ]
    },
    {
     "name": "stdout",
     "output_type": "stream",
     "text": [
      "225943<>50817 pair\n"
     ]
    },
    {
     "name": "stderr",
     "output_type": "stream",
     "text": [
      "100%|██████████| 4623/4623 [00:20<00:00, 224.67it/s]\n"
     ]
    },
    {
     "name": "stdout",
     "output_type": "stream",
     "text": [
      "225943<>50998 pair\n"
     ]
    },
    {
     "name": "stderr",
     "output_type": "stream",
     "text": [
      "100%|██████████| 4623/4623 [00:14<00:00, 316.77it/s]\n"
     ]
    },
    {
     "name": "stdout",
     "output_type": "stream",
     "text": [
      "225943<>50952 pair\n"
     ]
    },
    {
     "name": "stderr",
     "output_type": "stream",
     "text": [
      "100%|██████████| 4623/4623 [00:15<00:00, 301.58it/s]\n"
     ]
    },
    {
     "name": "stdout",
     "output_type": "stream",
     "text": [
      "225943<>51288 pair\n"
     ]
    },
    {
     "name": "stderr",
     "output_type": "stream",
     "text": [
      "100%|██████████| 4623/4623 [00:05<00:00, 777.71it/s] \n"
     ]
    },
    {
     "name": "stdout",
     "output_type": "stream",
     "text": [
      "225943<>51003 pair\n"
     ]
    },
    {
     "name": "stderr",
     "output_type": "stream",
     "text": [
      "100%|██████████| 4623/4623 [00:32<00:00, 142.15it/s]\n"
     ]
    },
    {
     "name": "stdout",
     "output_type": "stream",
     "text": [
      "225943<>50889 pair\n"
     ]
    },
    {
     "name": "stderr",
     "output_type": "stream",
     "text": [
      "100%|██████████| 4623/4623 [00:05<00:00, 830.97it/s] \n"
     ]
    },
    {
     "name": "stdout",
     "output_type": "stream",
     "text": [
      "225943<>50867 pair\n"
     ]
    },
    {
     "name": "stderr",
     "output_type": "stream",
     "text": [
      "100%|██████████| 4623/4623 [00:28<00:00, 164.82it/s]\n"
     ]
    },
    {
     "name": "stdout",
     "output_type": "stream",
     "text": [
      "225943<>51493 pair\n"
     ]
    },
    {
     "name": "stderr",
     "output_type": "stream",
     "text": [
      "100%|██████████| 4623/4623 [00:37<00:00, 122.74it/s]\n"
     ]
    },
    {
     "name": "stdout",
     "output_type": "stream",
     "text": [
      "225943<>51482 pair\n"
     ]
    },
    {
     "name": "stderr",
     "output_type": "stream",
     "text": [
      "100%|██████████| 4623/4623 [00:17<00:00, 259.85it/s]\n"
     ]
    },
    {
     "name": "stdout",
     "output_type": "stream",
     "text": [
      "225943<>51476 pair\n"
     ]
    },
    {
     "name": "stderr",
     "output_type": "stream",
     "text": [
      "100%|██████████| 4623/4623 [00:39<00:00, 115.59it/s]\n"
     ]
    },
    {
     "name": "stdout",
     "output_type": "stream",
     "text": [
      "225943<>50963 pair\n"
     ]
    },
    {
     "name": "stderr",
     "output_type": "stream",
     "text": [
      "100%|██████████| 4623/4623 [00:06<00:00, 671.17it/s] \n"
     ]
    },
    {
     "name": "stdout",
     "output_type": "stream",
     "text": [
      "225943<>50883 pair\n"
     ]
    },
    {
     "name": "stderr",
     "output_type": "stream",
     "text": [
      "100%|██████████| 4623/4623 [00:09<00:00, 466.15it/s] \n"
     ]
    },
    {
     "name": "stdout",
     "output_type": "stream",
     "text": [
      "225943<>50884 pair\n"
     ]
    },
    {
     "name": "stderr",
     "output_type": "stream",
     "text": [
      "100%|██████████| 4623/4623 [00:09<00:00, 483.46it/s] \n"
     ]
    },
    {
     "name": "stdout",
     "output_type": "stream",
     "text": [
      "225943<>51283 pair\n"
     ]
    },
    {
     "name": "stderr",
     "output_type": "stream",
     "text": [
      "100%|██████████| 4623/4623 [00:08<00:00, 572.31it/s] \n"
     ]
    },
    {
     "name": "stdout",
     "output_type": "stream",
     "text": [
      "225943<>50924 pair\n"
     ]
    },
    {
     "name": "stderr",
     "output_type": "stream",
     "text": [
      "100%|██████████| 4623/4623 [00:14<00:00, 326.83it/s]\n"
     ]
    },
    {
     "name": "stdout",
     "output_type": "stream",
     "text": [
      "225943<>50953 pair\n"
     ]
    },
    {
     "name": "stderr",
     "output_type": "stream",
     "text": [
      "100%|██████████| 4623/4623 [00:14<00:00, 316.48it/s]\n"
     ]
    },
    {
     "name": "stdout",
     "output_type": "stream",
     "text": [
      "225943<>51007 pair\n"
     ]
    },
    {
     "name": "stderr",
     "output_type": "stream",
     "text": [
      "100%|██████████| 4623/4623 [00:05<00:00, 854.45it/s] \n"
     ]
    },
    {
     "name": "stdout",
     "output_type": "stream",
     "text": [
      "225943<>50825 pair\n"
     ]
    },
    {
     "name": "stderr",
     "output_type": "stream",
     "text": [
      "100%|██████████| 4623/4623 [00:19<00:00, 241.46it/s]\n"
     ]
    },
    {
     "name": "stdout",
     "output_type": "stream",
     "text": [
      "225943<>51478 pair\n"
     ]
    },
    {
     "name": "stderr",
     "output_type": "stream",
     "text": [
      "100%|██████████| 4623/4623 [00:08<00:00, 563.68it/s] \n"
     ]
    },
    {
     "name": "stdout",
     "output_type": "stream",
     "text": [
      "225943<>50967 pair\n"
     ]
    },
    {
     "name": "stderr",
     "output_type": "stream",
     "text": [
      "100%|██████████| 4623/4623 [00:03<00:00, 1306.21it/s]\n"
     ]
    },
    {
     "name": "stdout",
     "output_type": "stream",
     "text": [
      "225943<>50803 pair\n"
     ]
    },
    {
     "name": "stderr",
     "output_type": "stream",
     "text": [
      "100%|██████████| 4623/4623 [00:03<00:00, 1469.20it/s]\n"
     ]
    },
    {
     "name": "stdout",
     "output_type": "stream",
     "text": [
      "225943<>51214 pair\n"
     ]
    },
    {
     "name": "stderr",
     "output_type": "stream",
     "text": [
      "100%|██████████| 4623/4623 [00:14<00:00, 309.33it/s]\n"
     ]
    },
    {
     "name": "stdout",
     "output_type": "stream",
     "text": [
      "225943<>51497 pair\n"
     ]
    },
    {
     "name": "stderr",
     "output_type": "stream",
     "text": [
      "100%|██████████| 4623/4623 [00:00<00:00, 11474.06it/s]\n"
     ]
    },
    {
     "name": "stdout",
     "output_type": "stream",
     "text": [
      "225943<>51501 pair\n"
     ]
    },
    {
     "name": "stderr",
     "output_type": "stream",
     "text": [
      "100%|██████████| 4623/4623 [00:01<00:00, 2488.65it/s] \n"
     ]
    },
    {
     "name": "stdout",
     "output_type": "stream",
     "text": [
      "225943<>51516 pair\n"
     ]
    },
    {
     "name": "stderr",
     "output_type": "stream",
     "text": [
      "100%|██████████| 4623/4623 [00:36<00:00, 127.19it/s]\n"
     ]
    },
    {
     "name": "stdout",
     "output_type": "stream",
     "text": [
      "225943<>51492 pair\n"
     ]
    },
    {
     "name": "stderr",
     "output_type": "stream",
     "text": [
      "100%|██████████| 4623/4623 [00:27<00:00, 169.41it/s]\n"
     ]
    },
    {
     "name": "stdout",
     "output_type": "stream",
     "text": [
      "225943<>51484 pair\n"
     ]
    },
    {
     "name": "stderr",
     "output_type": "stream",
     "text": [
      "100%|██████████| 4623/4623 [00:09<00:00, 466.58it/s]\n"
     ]
    },
    {
     "name": "stdout",
     "output_type": "stream",
     "text": [
      "225943<>50908 pair\n"
     ]
    },
    {
     "name": "stderr",
     "output_type": "stream",
     "text": [
      "100%|██████████| 4623/4623 [00:10<00:00, 429.84it/s]\n"
     ]
    },
    {
     "name": "stdout",
     "output_type": "stream",
     "text": [
      "225943<>50805 pair\n"
     ]
    },
    {
     "name": "stderr",
     "output_type": "stream",
     "text": [
      "100%|██████████| 4623/4623 [00:00<00:00, 5010.21it/s]\n"
     ]
    },
    {
     "name": "stdout",
     "output_type": "stream",
     "text": [
      "225943<>50814 pair\n"
     ]
    },
    {
     "name": "stderr",
     "output_type": "stream",
     "text": [
      "100%|██████████| 4623/4623 [00:00<00:00, 5351.48it/s] \n"
     ]
    },
    {
     "name": "stdout",
     "output_type": "stream",
     "text": [
      "225943<>50852 pair\n"
     ]
    },
    {
     "name": "stderr",
     "output_type": "stream",
     "text": [
      "100%|██████████| 4623/4623 [00:32<00:00, 141.01it/s]\n"
     ]
    },
    {
     "name": "stdout",
     "output_type": "stream",
     "text": [
      "225943<>50915 pair\n"
     ]
    },
    {
     "name": "stderr",
     "output_type": "stream",
     "text": [
      "100%|██████████| 4623/4623 [00:01<00:00, 2631.26it/s]\n"
     ]
    },
    {
     "name": "stdout",
     "output_type": "stream",
     "text": [
      "225943<>51078 pair\n"
     ]
    },
    {
     "name": "stderr",
     "output_type": "stream",
     "text": [
      "100%|██████████| 4623/4623 [00:13<00:00, 354.84it/s] \n"
     ]
    },
    {
     "name": "stdout",
     "output_type": "stream",
     "text": [
      "225943<>51093 pair\n"
     ]
    },
    {
     "name": "stderr",
     "output_type": "stream",
     "text": [
      "100%|██████████| 4623/4623 [00:17<00:00, 258.99it/s] \n"
     ]
    },
    {
     "name": "stdout",
     "output_type": "stream",
     "text": [
      "225943<>51100 pair\n"
     ]
    },
    {
     "name": "stderr",
     "output_type": "stream",
     "text": [
      "100%|██████████| 4623/4623 [00:20<00:00, 230.23it/s] \n"
     ]
    },
    {
     "name": "stdout",
     "output_type": "stream",
     "text": [
      "225943<>51097 pair\n"
     ]
    },
    {
     "name": "stderr",
     "output_type": "stream",
     "text": [
      "100%|██████████| 4623/4623 [00:14<00:00, 316.30it/s] \n"
     ]
    },
    {
     "name": "stdout",
     "output_type": "stream",
     "text": [
      "225943<>51514 pair\n"
     ]
    },
    {
     "name": "stderr",
     "output_type": "stream",
     "text": [
      "100%|██████████| 4623/4623 [00:17<00:00, 264.86it/s]\n"
     ]
    },
    {
     "name": "stdout",
     "output_type": "stream",
     "text": [
      "225943<>50964 pair\n"
     ]
    },
    {
     "name": "stderr",
     "output_type": "stream",
     "text": [
      "100%|██████████| 4623/4623 [00:06<00:00, 709.08it/s] \n"
     ]
    },
    {
     "name": "stdout",
     "output_type": "stream",
     "text": [
      "225943<>50922 pair\n"
     ]
    },
    {
     "name": "stderr",
     "output_type": "stream",
     "text": [
      "100%|██████████| 4623/4623 [00:00<00:00, 28570.94it/s]\n"
     ]
    },
    {
     "name": "stdout",
     "output_type": "stream",
     "text": [
      "225943<>50925 pair\n"
     ]
    },
    {
     "name": "stderr",
     "output_type": "stream",
     "text": [
      "100%|██████████| 4623/4623 [00:05<00:00, 814.45it/s] \n"
     ]
    },
    {
     "name": "stdout",
     "output_type": "stream",
     "text": [
      "225943<>50905 pair\n"
     ]
    },
    {
     "name": "stderr",
     "output_type": "stream",
     "text": [
      "100%|██████████| 4623/4623 [00:11<00:00, 386.81it/s] \n"
     ]
    },
    {
     "name": "stdout",
     "output_type": "stream",
     "text": [
      "225943<>50903 pair\n"
     ]
    },
    {
     "name": "stderr",
     "output_type": "stream",
     "text": [
      "100%|██████████| 4623/4623 [00:12<00:00, 375.74it/s] \n"
     ]
    },
    {
     "name": "stdout",
     "output_type": "stream",
     "text": [
      "225943<>50904 pair\n"
     ]
    },
    {
     "name": "stderr",
     "output_type": "stream",
     "text": [
      "100%|██████████| 4623/4623 [00:12<00:00, 374.78it/s] \n"
     ]
    },
    {
     "name": "stdout",
     "output_type": "stream",
     "text": [
      "225943<>50907 pair\n"
     ]
    },
    {
     "name": "stderr",
     "output_type": "stream",
     "text": [
      "100%|██████████| 4623/4623 [00:13<00:00, 353.26it/s] \n"
     ]
    },
    {
     "name": "stdout",
     "output_type": "stream",
     "text": [
      "225943<>51000 pair\n"
     ]
    },
    {
     "name": "stderr",
     "output_type": "stream",
     "text": [
      "100%|██████████| 4623/4623 [00:17<00:00, 267.07it/s] \n"
     ]
    },
    {
     "name": "stdout",
     "output_type": "stream",
     "text": [
      "225943<>50957 pair\n"
     ]
    },
    {
     "name": "stderr",
     "output_type": "stream",
     "text": [
      "100%|██████████| 4623/4623 [00:00<00:00, 13803.30it/s]\n"
     ]
    },
    {
     "name": "stdout",
     "output_type": "stream",
     "text": [
      "225943<>51008 pair\n"
     ]
    },
    {
     "name": "stderr",
     "output_type": "stream",
     "text": [
      "100%|██████████| 4623/4623 [00:00<00:00, 10529.76it/s]\n"
     ]
    },
    {
     "name": "stdout",
     "output_type": "stream",
     "text": [
      "225943<>50917 pair\n"
     ]
    },
    {
     "name": "stderr",
     "output_type": "stream",
     "text": [
      "100%|██████████| 4623/4623 [00:02<00:00, 1649.75it/s]\n"
     ]
    },
    {
     "name": "stdout",
     "output_type": "stream",
     "text": [
      "225943<>51009 pair\n"
     ]
    },
    {
     "name": "stderr",
     "output_type": "stream",
     "text": [
      "100%|██████████| 4623/4623 [00:14<00:00, 329.81it/s] \n"
     ]
    },
    {
     "name": "stdout",
     "output_type": "stream",
     "text": [
      "225943<>51104 pair\n"
     ]
    },
    {
     "name": "stderr",
     "output_type": "stream",
     "text": [
      "100%|██████████| 4623/4623 [00:17<00:00, 269.88it/s] \n"
     ]
    },
    {
     "name": "stdout",
     "output_type": "stream",
     "text": [
      "225943<>51082 pair\n"
     ]
    },
    {
     "name": "stderr",
     "output_type": "stream",
     "text": [
      "100%|██████████| 4623/4623 [00:24<00:00, 188.74it/s]\n"
     ]
    },
    {
     "name": "stdout",
     "output_type": "stream",
     "text": [
      "225943<>50866 pair\n"
     ]
    },
    {
     "name": "stderr",
     "output_type": "stream",
     "text": [
      "100%|██████████| 4623/4623 [00:01<00:00, 2524.48it/s]\n"
     ]
    },
    {
     "name": "stdout",
     "output_type": "stream",
     "text": [
      "225943<>51014 pair\n"
     ]
    },
    {
     "name": "stderr",
     "output_type": "stream",
     "text": [
      "100%|██████████| 4623/4623 [00:02<00:00, 2198.85it/s] \n"
     ]
    },
    {
     "name": "stdout",
     "output_type": "stream",
     "text": [
      "225943<>51018 pair\n"
     ]
    },
    {
     "name": "stderr",
     "output_type": "stream",
     "text": [
      "100%|██████████| 4623/4623 [00:02<00:00, 2127.72it/s] \n"
     ]
    },
    {
     "name": "stdout",
     "output_type": "stream",
     "text": [
      "225943<>51351 pair\n"
     ]
    },
    {
     "name": "stderr",
     "output_type": "stream",
     "text": [
      "100%|██████████| 4623/4623 [00:02<00:00, 2007.66it/s] \n"
     ]
    },
    {
     "name": "stdout",
     "output_type": "stream",
     "text": [
      "225943<>51355 pair\n"
     ]
    },
    {
     "name": "stderr",
     "output_type": "stream",
     "text": [
      "100%|██████████| 4623/4623 [00:02<00:00, 1969.24it/s] \n"
     ]
    },
    {
     "name": "stdout",
     "output_type": "stream",
     "text": [
      "225943<>51360 pair\n"
     ]
    },
    {
     "name": "stderr",
     "output_type": "stream",
     "text": [
      "100%|██████████| 4623/4623 [00:02<00:00, 2005.81it/s] \n"
     ]
    },
    {
     "name": "stdout",
     "output_type": "stream",
     "text": [
      "225943<>51362 pair\n"
     ]
    },
    {
     "name": "stderr",
     "output_type": "stream",
     "text": [
      "100%|██████████| 4623/4623 [00:02<00:00, 2005.45it/s] \n"
     ]
    },
    {
     "name": "stdout",
     "output_type": "stream",
     "text": [
      "225943<>51363 pair\n"
     ]
    },
    {
     "name": "stderr",
     "output_type": "stream",
     "text": [
      "100%|██████████| 4623/4623 [00:02<00:00, 1998.17it/s] \n"
     ]
    },
    {
     "name": "stdout",
     "output_type": "stream",
     "text": [
      "225943<>50856 pair\n"
     ]
    },
    {
     "name": "stderr",
     "output_type": "stream",
     "text": [
      "100%|██████████| 4623/4623 [00:00<00:00, 5789.25it/s]\n"
     ]
    },
    {
     "name": "stdout",
     "output_type": "stream",
     "text": [
      "225943<>50909 pair\n"
     ]
    },
    {
     "name": "stderr",
     "output_type": "stream",
     "text": [
      "100%|██████████| 4623/4623 [00:05<00:00, 810.55it/s] \n"
     ]
    },
    {
     "name": "stdout",
     "output_type": "stream",
     "text": [
      "225943<>51302 pair\n"
     ]
    },
    {
     "name": "stderr",
     "output_type": "stream",
     "text": [
      "100%|██████████| 4623/4623 [00:00<00:00, 29379.24it/s]\n"
     ]
    },
    {
     "name": "stdout",
     "output_type": "stream",
     "text": [
      "225943<>51379 pair\n"
     ]
    },
    {
     "name": "stderr",
     "output_type": "stream",
     "text": [
      "100%|██████████| 4623/4623 [00:00<00:00, 7119.70it/s] \n"
     ]
    },
    {
     "name": "stdout",
     "output_type": "stream",
     "text": [
      "225943<>51369 pair\n"
     ]
    },
    {
     "name": "stderr",
     "output_type": "stream",
     "text": [
      "100%|██████████| 4623/4623 [00:00<00:00, 16870.53it/s]\n"
     ]
    },
    {
     "name": "stdout",
     "output_type": "stream",
     "text": [
      "225943<>51384 pair\n"
     ]
    },
    {
     "name": "stderr",
     "output_type": "stream",
     "text": [
      "100%|██████████| 4623/4623 [00:00<00:00, 6965.91it/s] \n"
     ]
    },
    {
     "name": "stdout",
     "output_type": "stream",
     "text": [
      "225943<>51382 pair\n"
     ]
    },
    {
     "name": "stderr",
     "output_type": "stream",
     "text": [
      "100%|██████████| 4623/4623 [00:00<00:00, 7111.98it/s] \n"
     ]
    },
    {
     "name": "stdout",
     "output_type": "stream",
     "text": [
      "225943<>51383 pair\n"
     ]
    },
    {
     "name": "stderr",
     "output_type": "stream",
     "text": [
      "100%|██████████| 4623/4623 [00:00<00:00, 9731.24it/s] \n"
     ]
    },
    {
     "name": "stdout",
     "output_type": "stream",
     "text": [
      "225943<>51375 pair\n"
     ]
    },
    {
     "name": "stderr",
     "output_type": "stream",
     "text": [
      "100%|██████████| 4623/4623 [00:00<00:00, 7129.23it/s] \n"
     ]
    },
    {
     "name": "stdout",
     "output_type": "stream",
     "text": [
      "225943<>50981 pair\n"
     ]
    },
    {
     "name": "stderr",
     "output_type": "stream",
     "text": [
      "100%|██████████| 4623/4623 [00:00<00:00, 28773.81it/s]\n"
     ]
    },
    {
     "name": "stdout",
     "output_type": "stream",
     "text": [
      "225943<>50986 pair\n"
     ]
    },
    {
     "name": "stderr",
     "output_type": "stream",
     "text": [
      "100%|██████████| 4623/4623 [00:01<00:00, 2614.55it/s]\n"
     ]
    },
    {
     "name": "stdout",
     "output_type": "stream",
     "text": [
      "225943<>50951 pair\n"
     ]
    },
    {
     "name": "stderr",
     "output_type": "stream",
     "text": [
      "100%|██████████| 4623/4623 [00:03<00:00, 1540.10it/s]\n"
     ]
    },
    {
     "name": "stdout",
     "output_type": "stream",
     "text": [
      "225943<>50950 pair\n"
     ]
    },
    {
     "name": "stderr",
     "output_type": "stream",
     "text": [
      "100%|██████████| 4623/4623 [00:03<00:00, 1156.32it/s]\n"
     ]
    },
    {
     "name": "stdout",
     "output_type": "stream",
     "text": [
      "225943<>50949 pair\n"
     ]
    },
    {
     "name": "stderr",
     "output_type": "stream",
     "text": [
      "100%|██████████| 4623/4623 [00:03<00:00, 1441.54it/s]\n"
     ]
    },
    {
     "name": "stdout",
     "output_type": "stream",
     "text": [
      "225943<>50930 pair\n"
     ]
    },
    {
     "name": "stderr",
     "output_type": "stream",
     "text": [
      "100%|██████████| 4623/4623 [00:02<00:00, 1628.27it/s] \n"
     ]
    },
    {
     "name": "stdout",
     "output_type": "stream",
     "text": [
      "225943<>50976 pair\n"
     ]
    },
    {
     "name": "stderr",
     "output_type": "stream",
     "text": [
      "100%|██████████| 4623/4623 [00:05<00:00, 833.01it/s] \n"
     ]
    },
    {
     "name": "stdout",
     "output_type": "stream",
     "text": [
      "225943<>51257 pair\n"
     ]
    },
    {
     "name": "stderr",
     "output_type": "stream",
     "text": [
      "100%|██████████| 4623/4623 [00:04<00:00, 946.73it/s] \n"
     ]
    },
    {
     "name": "stdout",
     "output_type": "stream",
     "text": [
      "225943<>51099 pair\n"
     ]
    },
    {
     "name": "stderr",
     "output_type": "stream",
     "text": [
      "100%|██████████| 4623/4623 [00:03<00:00, 1167.04it/s]\n"
     ]
    },
    {
     "name": "stdout",
     "output_type": "stream",
     "text": [
      "225943<>51102 pair\n"
     ]
    },
    {
     "name": "stderr",
     "output_type": "stream",
     "text": [
      "100%|██████████| 4623/4623 [00:04<00:00, 964.65it/s] \n"
     ]
    },
    {
     "name": "stdout",
     "output_type": "stream",
     "text": [
      "225943<>51463 pair\n"
     ]
    },
    {
     "name": "stderr",
     "output_type": "stream",
     "text": [
      "100%|██████████| 4623/4623 [00:00<00:00, 9069.31it/s] \n"
     ]
    },
    {
     "name": "stdout",
     "output_type": "stream",
     "text": [
      "225943<>51429 pair\n"
     ]
    },
    {
     "name": "stderr",
     "output_type": "stream",
     "text": [
      "100%|██████████| 4623/4623 [00:00<00:00, 9197.27it/s] \n"
     ]
    },
    {
     "name": "stdout",
     "output_type": "stream",
     "text": [
      "225943<>51043 pair\n"
     ]
    },
    {
     "name": "stderr",
     "output_type": "stream",
     "text": [
      "100%|██████████| 4623/4623 [00:00<00:00, 10257.56it/s]\n"
     ]
    },
    {
     "name": "stdout",
     "output_type": "stream",
     "text": [
      "225943<>51035 pair\n"
     ]
    },
    {
     "name": "stderr",
     "output_type": "stream",
     "text": [
      "100%|██████████| 4623/4623 [00:00<00:00, 13822.44it/s]\n"
     ]
    },
    {
     "name": "stdout",
     "output_type": "stream",
     "text": [
      "225943<>51428 pair\n"
     ]
    },
    {
     "name": "stderr",
     "output_type": "stream",
     "text": [
      "100%|██████████| 4623/4623 [00:01<00:00, 3620.75it/s] \n"
     ]
    },
    {
     "name": "stdout",
     "output_type": "stream",
     "text": [
      "225943<>51431 pair\n"
     ]
    },
    {
     "name": "stderr",
     "output_type": "stream",
     "text": [
      "100%|██████████| 4623/4623 [00:02<00:00, 2265.38it/s]\n"
     ]
    },
    {
     "name": "stdout",
     "output_type": "stream",
     "text": [
      "225943<>51436 pair\n"
     ]
    },
    {
     "name": "stderr",
     "output_type": "stream",
     "text": [
      "100%|██████████| 4623/4623 [00:02<00:00, 2275.53it/s]\n"
     ]
    },
    {
     "name": "stdout",
     "output_type": "stream",
     "text": [
      "225943<>51427 pair\n"
     ]
    },
    {
     "name": "stderr",
     "output_type": "stream",
     "text": [
      "100%|██████████| 4623/4623 [00:02<00:00, 2275.53it/s]\n"
     ]
    },
    {
     "name": "stdout",
     "output_type": "stream",
     "text": [
      "225943<>51438 pair\n"
     ]
    },
    {
     "name": "stderr",
     "output_type": "stream",
     "text": [
      "100%|██████████| 4623/4623 [00:01<00:00, 3399.15it/s] \n"
     ]
    },
    {
     "name": "stdout",
     "output_type": "stream",
     "text": [
      "225943<>51439 pair\n"
     ]
    },
    {
     "name": "stderr",
     "output_type": "stream",
     "text": [
      "100%|██████████| 4623/4623 [00:01<00:00, 3251.63it/s] \n"
     ]
    },
    {
     "name": "stdout",
     "output_type": "stream",
     "text": [
      "225943<>51259 pair\n"
     ]
    },
    {
     "name": "stderr",
     "output_type": "stream",
     "text": [
      "100%|██████████| 4623/4623 [00:02<00:00, 2303.00it/s]\n"
     ]
    },
    {
     "name": "stdout",
     "output_type": "stream",
     "text": [
      "225943<>51148 pair\n"
     ]
    },
    {
     "name": "stderr",
     "output_type": "stream",
     "text": [
      "100%|██████████| 4623/4623 [00:01<00:00, 2788.96it/s]\n"
     ]
    },
    {
     "name": "stdout",
     "output_type": "stream",
     "text": [
      "225943<>50906 pair\n"
     ]
    },
    {
     "name": "stderr",
     "output_type": "stream",
     "text": [
      "100%|██████████| 4623/4623 [00:01<00:00, 4219.47it/s] \n"
     ]
    },
    {
     "name": "stdout",
     "output_type": "stream",
     "text": [
      "225943<>51344 pair\n"
     ]
    },
    {
     "name": "stderr",
     "output_type": "stream",
     "text": [
      "100%|██████████| 4623/4623 [00:00<00:00, 12344.24it/s]\n"
     ]
    },
    {
     "name": "stdout",
     "output_type": "stream",
     "text": [
      "225943<>50995 pair\n"
     ]
    },
    {
     "name": "stderr",
     "output_type": "stream",
     "text": [
      "100%|██████████| 4623/4623 [00:03<00:00, 1298.45it/s]\n"
     ]
    },
    {
     "name": "stdout",
     "output_type": "stream",
     "text": [
      "225943<>50927 pair\n"
     ]
    },
    {
     "name": "stderr",
     "output_type": "stream",
     "text": [
      "100%|██████████| 4623/4623 [00:01<00:00, 3306.35it/s]\n"
     ]
    },
    {
     "name": "stdout",
     "output_type": "stream",
     "text": [
      "225943<>51284 pair\n"
     ]
    },
    {
     "name": "stderr",
     "output_type": "stream",
     "text": [
      "100%|██████████| 4623/4623 [00:00<00:00, 5512.36it/s]\n"
     ]
    },
    {
     "name": "stdout",
     "output_type": "stream",
     "text": [
      "225943<>50843 pair\n"
     ]
    },
    {
     "name": "stderr",
     "output_type": "stream",
     "text": [
      "100%|██████████| 4623/4623 [00:02<00:00, 2206.33it/s]\n"
     ]
    },
    {
     "name": "stdout",
     "output_type": "stream",
     "text": [
      "225943<>50835 pair\n"
     ]
    },
    {
     "name": "stderr",
     "output_type": "stream",
     "text": [
      "100%|██████████| 4623/4623 [00:01<00:00, 3569.76it/s] \n"
     ]
    },
    {
     "name": "stdout",
     "output_type": "stream",
     "text": [
      "225943<>50849 pair\n"
     ]
    },
    {
     "name": "stderr",
     "output_type": "stream",
     "text": [
      "100%|██████████| 4623/4623 [00:02<00:00, 1610.92it/s]\n"
     ]
    },
    {
     "name": "stdout",
     "output_type": "stream",
     "text": [
      "225943<>50842 pair\n"
     ]
    },
    {
     "name": "stderr",
     "output_type": "stream",
     "text": [
      "100%|██████████| 4623/4623 [00:01<00:00, 2506.00it/s] \n"
     ]
    },
    {
     "name": "stdout",
     "output_type": "stream",
     "text": [
      "225943<>51125 pair\n"
     ]
    },
    {
     "name": "stderr",
     "output_type": "stream",
     "text": [
      "100%|██████████| 4623/4623 [00:03<00:00, 1196.61it/s]\n"
     ]
    },
    {
     "name": "stdout",
     "output_type": "stream",
     "text": [
      "225943<>51120 pair\n"
     ]
    },
    {
     "name": "stderr",
     "output_type": "stream",
     "text": [
      "100%|██████████| 4623/4623 [00:03<00:00, 1181.02it/s]\n"
     ]
    },
    {
     "name": "stdout",
     "output_type": "stream",
     "text": [
      "225943<>51127 pair\n"
     ]
    },
    {
     "name": "stderr",
     "output_type": "stream",
     "text": [
      "100%|██████████| 4623/4623 [00:03<00:00, 1178.96it/s]\n"
     ]
    },
    {
     "name": "stdout",
     "output_type": "stream",
     "text": [
      "225943<>51116 pair\n"
     ]
    },
    {
     "name": "stderr",
     "output_type": "stream",
     "text": [
      "100%|██████████| 4623/4623 [00:03<00:00, 1182.82it/s]\n"
     ]
    },
    {
     "name": "stdout",
     "output_type": "stream",
     "text": [
      "225943<>51117 pair\n"
     ]
    },
    {
     "name": "stderr",
     "output_type": "stream",
     "text": [
      "100%|██████████| 4623/4623 [00:03<00:00, 1454.26it/s]\n"
     ]
    },
    {
     "name": "stdout",
     "output_type": "stream",
     "text": [
      "225943<>51111 pair\n"
     ]
    },
    {
     "name": "stderr",
     "output_type": "stream",
     "text": [
      "100%|██████████| 4623/4623 [00:00<00:00, 17028.38it/s]\n"
     ]
    },
    {
     "name": "stdout",
     "output_type": "stream",
     "text": [
      "225943<>51128 pair\n"
     ]
    },
    {
     "name": "stderr",
     "output_type": "stream",
     "text": [
      "100%|██████████| 4623/4623 [00:03<00:00, 1192.47it/s]\n"
     ]
    },
    {
     "name": "stdout",
     "output_type": "stream",
     "text": [
      "225943<>51479 pair\n"
     ]
    },
    {
     "name": "stderr",
     "output_type": "stream",
     "text": [
      "100%|██████████| 4623/4623 [00:04<00:00, 939.18it/s] \n"
     ]
    },
    {
     "name": "stdout",
     "output_type": "stream",
     "text": [
      "225943<>51269 pair\n"
     ]
    },
    {
     "name": "stderr",
     "output_type": "stream",
     "text": [
      "100%|██████████| 4623/4623 [00:01<00:00, 2637.14it/s] \n"
     ]
    },
    {
     "name": "stdout",
     "output_type": "stream",
     "text": [
      "225943<>51263 pair\n"
     ]
    },
    {
     "name": "stderr",
     "output_type": "stream",
     "text": [
      "100%|██████████| 4623/4623 [00:00<00:00, 10937.48it/s]\n"
     ]
    },
    {
     "name": "stdout",
     "output_type": "stream",
     "text": [
      "225943<>51047 pair\n"
     ]
    },
    {
     "name": "stderr",
     "output_type": "stream",
     "text": [
      "100%|██████████| 4623/4623 [00:00<00:00, 5686.45it/s] \n"
     ]
    },
    {
     "name": "stdout",
     "output_type": "stream",
     "text": [
      "225943<>51447 pair\n"
     ]
    },
    {
     "name": "stderr",
     "output_type": "stream",
     "text": [
      "100%|██████████| 4623/4623 [00:01<00:00, 2639.83it/s] \n"
     ]
    },
    {
     "name": "stdout",
     "output_type": "stream",
     "text": [
      "225943<>51458 pair\n"
     ]
    },
    {
     "name": "stderr",
     "output_type": "stream",
     "text": [
      "100%|██████████| 4623/4623 [00:02<00:00, 1792.03it/s] \n"
     ]
    },
    {
     "name": "stdout",
     "output_type": "stream",
     "text": [
      "225943<>51457 pair\n"
     ]
    },
    {
     "name": "stderr",
     "output_type": "stream",
     "text": [
      "100%|██████████| 4623/4623 [00:02<00:00, 1994.90it/s] \n"
     ]
    },
    {
     "name": "stdout",
     "output_type": "stream",
     "text": [
      "225943<>51455 pair\n"
     ]
    },
    {
     "name": "stderr",
     "output_type": "stream",
     "text": [
      "100%|██████████| 4623/4623 [00:02<00:00, 1776.97it/s] \n"
     ]
    },
    {
     "name": "stdout",
     "output_type": "stream",
     "text": [
      "225943<>51450 pair\n"
     ]
    },
    {
     "name": "stderr",
     "output_type": "stream",
     "text": [
      "100%|██████████| 4623/4623 [00:02<00:00, 1835.80it/s] \n"
     ]
    },
    {
     "name": "stdout",
     "output_type": "stream",
     "text": [
      "225943<>51448 pair\n"
     ]
    },
    {
     "name": "stderr",
     "output_type": "stream",
     "text": [
      "100%|██████████| 4623/4623 [00:01<00:00, 3132.00it/s] \n"
     ]
    },
    {
     "name": "stdout",
     "output_type": "stream",
     "text": [
      "225943<>51446 pair\n"
     ]
    },
    {
     "name": "stderr",
     "output_type": "stream",
     "text": [
      "100%|██████████| 4623/4623 [00:02<00:00, 1832.14it/s] \n"
     ]
    },
    {
     "name": "stdout",
     "output_type": "stream",
     "text": [
      "225943<>51052 pair\n"
     ]
    },
    {
     "name": "stderr",
     "output_type": "stream",
     "text": [
      "100%|██████████| 4623/4623 [00:00<00:00, 10364.57it/s]\n"
     ]
    },
    {
     "name": "stdout",
     "output_type": "stream",
     "text": [
      "225943<>50900 pair\n"
     ]
    },
    {
     "name": "stderr",
     "output_type": "stream",
     "text": [
      "100%|██████████| 4623/4623 [00:02<00:00, 2219.64it/s] \n"
     ]
    },
    {
     "name": "stdout",
     "output_type": "stream",
     "text": [
      "225943<>51453 pair\n"
     ]
    },
    {
     "name": "stderr",
     "output_type": "stream",
     "text": [
      "100%|██████████| 4623/4623 [00:00<00:00, 5064.06it/s] \n"
     ]
    },
    {
     "name": "stdout",
     "output_type": "stream",
     "text": [
      "225943<>51060 pair\n"
     ]
    },
    {
     "name": "stderr",
     "output_type": "stream",
     "text": [
      "100%|██████████| 4623/4623 [00:00<00:00, 7544.60it/s] \n"
     ]
    },
    {
     "name": "stdout",
     "output_type": "stream",
     "text": [
      "225943<>51051 pair\n"
     ]
    },
    {
     "name": "stderr",
     "output_type": "stream",
     "text": [
      "100%|██████████| 4623/4623 [00:00<00:00, 4913.02it/s] \n"
     ]
    },
    {
     "name": "stdout",
     "output_type": "stream",
     "text": [
      "225943<>51218 pair\n"
     ]
    },
    {
     "name": "stderr",
     "output_type": "stream",
     "text": [
      "100%|██████████| 4623/4623 [00:03<00:00, 1417.47it/s] \n"
     ]
    },
    {
     "name": "stdout",
     "output_type": "stream",
     "text": [
      "225943<>51026 pair\n"
     ]
    },
    {
     "name": "stderr",
     "output_type": "stream",
     "text": [
      "100%|██████████| 4623/4623 [00:00<00:00, 12471.07it/s]\n"
     ]
    },
    {
     "name": "stdout",
     "output_type": "stream",
     "text": [
      "225943<>51034 pair\n"
     ]
    },
    {
     "name": "stderr",
     "output_type": "stream",
     "text": [
      "100%|██████████| 4623/4623 [00:00<00:00, 12387.69it/s]\n"
     ]
    },
    {
     "name": "stdout",
     "output_type": "stream",
     "text": [
      "225943<>51025 pair\n"
     ]
    },
    {
     "name": "stderr",
     "output_type": "stream",
     "text": [
      "100%|██████████| 4623/4623 [00:00<00:00, 13527.23it/s]\n"
     ]
    },
    {
     "name": "stdout",
     "output_type": "stream",
     "text": [
      "225943<>50831 pair\n"
     ]
    },
    {
     "name": "stderr",
     "output_type": "stream",
     "text": [
      "100%|██████████| 4623/4623 [00:01<00:00, 3142.70it/s] \n"
     ]
    },
    {
     "name": "stdout",
     "output_type": "stream",
     "text": [
      "225943<>51118 pair\n"
     ]
    },
    {
     "name": "stderr",
     "output_type": "stream",
     "text": [
      "100%|██████████| 4623/4623 [00:02<00:00, 1636.45it/s]\n"
     ]
    },
    {
     "name": "stdout",
     "output_type": "stream",
     "text": [
      "225943<>51196 pair\n"
     ]
    },
    {
     "name": "stderr",
     "output_type": "stream",
     "text": [
      "100%|██████████| 4623/4623 [00:00<00:00, 5767.43it/s] \n"
     ]
    },
    {
     "name": "stdout",
     "output_type": "stream",
     "text": [
      "225943<>50966 pair\n"
     ]
    },
    {
     "name": "stderr",
     "output_type": "stream",
     "text": [
      "100%|██████████| 4623/4623 [00:00<00:00, 28995.01it/s]\n"
     ]
    },
    {
     "name": "stdout",
     "output_type": "stream",
     "text": [
      "225943<>50836 pair\n"
     ]
    },
    {
     "name": "stderr",
     "output_type": "stream",
     "text": [
      "100%|██████████| 4623/4623 [00:01<00:00, 4303.05it/s] \n"
     ]
    },
    {
     "name": "stdout",
     "output_type": "stream",
     "text": [
      "225943<>50838 pair\n"
     ]
    },
    {
     "name": "stderr",
     "output_type": "stream",
     "text": [
      "100%|██████████| 4623/4623 [00:00<00:00, 4708.21it/s] \n"
     ]
    },
    {
     "name": "stdout",
     "output_type": "stream",
     "text": [
      "225943<>51434 pair\n"
     ]
    },
    {
     "name": "stderr",
     "output_type": "stream",
     "text": [
      "100%|██████████| 4623/4623 [00:00<00:00, 6408.55it/s] \n"
     ]
    },
    {
     "name": "stdout",
     "output_type": "stream",
     "text": [
      "225943<>51419 pair\n"
     ]
    },
    {
     "name": "stderr",
     "output_type": "stream",
     "text": [
      "100%|██████████| 4623/4623 [00:00<00:00, 8572.81it/s] \n"
     ]
    },
    {
     "name": "stdout",
     "output_type": "stream",
     "text": [
      "225943<>51077 pair\n"
     ]
    },
    {
     "name": "stderr",
     "output_type": "stream",
     "text": [
      "100%|██████████| 4623/4623 [00:00<00:00, 6607.55it/s] \n"
     ]
    },
    {
     "name": "stdout",
     "output_type": "stream",
     "text": [
      "225943<>50974 pair\n"
     ]
    },
    {
     "name": "stderr",
     "output_type": "stream",
     "text": [
      "100%|██████████| 4623/4623 [00:01<00:00, 3501.45it/s] \n"
     ]
    },
    {
     "name": "stdout",
     "output_type": "stream",
     "text": [
      "225943<>51069 pair\n"
     ]
    },
    {
     "name": "stderr",
     "output_type": "stream",
     "text": [
      "100%|██████████| 4623/4623 [00:00<00:00, 8262.87it/s] \n"
     ]
    },
    {
     "name": "stdout",
     "output_type": "stream",
     "text": [
      "225943<>51070 pair\n"
     ]
    },
    {
     "name": "stderr",
     "output_type": "stream",
     "text": [
      "100%|██████████| 4623/4623 [00:00<00:00, 8215.28it/s] \n"
     ]
    },
    {
     "name": "stdout",
     "output_type": "stream",
     "text": [
      "225943<>51088 pair\n"
     ]
    },
    {
     "name": "stderr",
     "output_type": "stream",
     "text": [
      "100%|██████████| 4623/4623 [00:00<00:00, 8250.70it/s] \n"
     ]
    },
    {
     "name": "stdout",
     "output_type": "stream",
     "text": [
      "225943<>51095 pair\n"
     ]
    },
    {
     "name": "stderr",
     "output_type": "stream",
     "text": [
      "100%|██████████| 4623/4623 [00:00<00:00, 5637.26it/s] \n"
     ]
    },
    {
     "name": "stdout",
     "output_type": "stream",
     "text": [
      "225943<>51209 pair\n"
     ]
    },
    {
     "name": "stderr",
     "output_type": "stream",
     "text": [
      "100%|██████████| 4623/4623 [00:00<00:00, 47109.04it/s]\n"
     ]
    },
    {
     "name": "stdout",
     "output_type": "stream",
     "text": [
      "225943<>51297 pair\n"
     ]
    },
    {
     "name": "stderr",
     "output_type": "stream",
     "text": [
      "100%|██████████| 4623/4623 [00:00<00:00, 7487.39it/s] \n"
     ]
    },
    {
     "name": "stdout",
     "output_type": "stream",
     "text": [
      "225943<>50996 pair\n"
     ]
    },
    {
     "name": "stderr",
     "output_type": "stream",
     "text": [
      "100%|██████████| 4623/4623 [00:00<00:00, 7129.25it/s] \n"
     ]
    },
    {
     "name": "stdout",
     "output_type": "stream",
     "text": [
      "225943<>51347 pair\n"
     ]
    },
    {
     "name": "stderr",
     "output_type": "stream",
     "text": [
      "100%|██████████| 4623/4623 [00:00<00:00, 13690.68it/s]\n"
     ]
    },
    {
     "name": "stdout",
     "output_type": "stream",
     "text": [
      "225943<>51358 pair\n"
     ]
    },
    {
     "name": "stderr",
     "output_type": "stream",
     "text": [
      "100%|██████████| 4623/4623 [00:00<00:00, 11871.81it/s]\n"
     ]
    },
    {
     "name": "stdout",
     "output_type": "stream",
     "text": [
      "225943<>51130 pair\n"
     ]
    },
    {
     "name": "stderr",
     "output_type": "stream",
     "text": [
      "100%|██████████| 4623/4623 [00:00<00:00, 4709.68it/s] \n"
     ]
    },
    {
     "name": "stdout",
     "output_type": "stream",
     "text": [
      "225943<>51131 pair\n"
     ]
    },
    {
     "name": "stderr",
     "output_type": "stream",
     "text": [
      "100%|██████████| 4623/4623 [00:01<00:00, 4478.83it/s] \n"
     ]
    },
    {
     "name": "stdout",
     "output_type": "stream",
     "text": [
      "225943<>51180 pair\n"
     ]
    },
    {
     "name": "stderr",
     "output_type": "stream",
     "text": [
      "100%|██████████| 4623/4623 [00:01<00:00, 4597.45it/s] \n"
     ]
    },
    {
     "name": "stdout",
     "output_type": "stream",
     "text": [
      "225943<>51181 pair\n"
     ]
    },
    {
     "name": "stderr",
     "output_type": "stream",
     "text": [
      "100%|██████████| 4623/4623 [00:01<00:00, 4582.43it/s] \n"
     ]
    },
    {
     "name": "stdout",
     "output_type": "stream",
     "text": [
      "225943<>51194 pair\n"
     ]
    },
    {
     "name": "stderr",
     "output_type": "stream",
     "text": [
      "100%|██████████| 4623/4623 [00:01<00:00, 4528.12it/s] \n"
     ]
    },
    {
     "name": "stdout",
     "output_type": "stream",
     "text": [
      "225943<>51245 pair\n"
     ]
    },
    {
     "name": "stderr",
     "output_type": "stream",
     "text": [
      "100%|██████████| 4623/4623 [00:01<00:00, 4249.83it/s] \n"
     ]
    },
    {
     "name": "stdout",
     "output_type": "stream",
     "text": [
      "225943<>51300 pair\n"
     ]
    },
    {
     "name": "stderr",
     "output_type": "stream",
     "text": [
      "100%|██████████| 4623/4623 [00:01<00:00, 4308.19it/s] \n"
     ]
    },
    {
     "name": "stdout",
     "output_type": "stream",
     "text": [
      "225943<>51176 pair\n"
     ]
    },
    {
     "name": "stderr",
     "output_type": "stream",
     "text": [
      "100%|██████████| 4623/4623 [00:01<00:00, 4563.50it/s] \n"
     ]
    },
    {
     "name": "stdout",
     "output_type": "stream",
     "text": [
      "225943<>51132 pair\n"
     ]
    },
    {
     "name": "stderr",
     "output_type": "stream",
     "text": [
      "100%|██████████| 4623/4623 [00:01<00:00, 4607.43it/s] \n"
     ]
    },
    {
     "name": "stdout",
     "output_type": "stream",
     "text": [
      "225943<>51133 pair\n"
     ]
    },
    {
     "name": "stderr",
     "output_type": "stream",
     "text": [
      "100%|██████████| 4623/4623 [00:00<00:00, 4794.36it/s] \n"
     ]
    },
    {
     "name": "stdout",
     "output_type": "stream",
     "text": [
      "225943<>51422 pair\n"
     ]
    },
    {
     "name": "stderr",
     "output_type": "stream",
     "text": [
      "100%|██████████| 4623/4623 [00:00<00:00, 24046.07it/s]\n"
     ]
    },
    {
     "name": "stdout",
     "output_type": "stream",
     "text": [
      "225943<>51105 pair\n"
     ]
    },
    {
     "name": "stderr",
     "output_type": "stream",
     "text": [
      "100%|██████████| 4623/4623 [00:00<00:00, 6915.70it/s] \n"
     ]
    },
    {
     "name": "stdout",
     "output_type": "stream",
     "text": [
      "225943<>51001 pair\n"
     ]
    },
    {
     "name": "stderr",
     "output_type": "stream",
     "text": [
      "100%|██████████| 4623/4623 [00:01<00:00, 2647.43it/s] \n"
     ]
    },
    {
     "name": "stdout",
     "output_type": "stream",
     "text": [
      "225943<>51139 pair\n"
     ]
    },
    {
     "name": "stderr",
     "output_type": "stream",
     "text": [
      "100%|██████████| 4623/4623 [00:00<00:00, 5183.38it/s] \n"
     ]
    },
    {
     "name": "stdout",
     "output_type": "stream",
     "text": [
      "225943<>51138 pair\n"
     ]
    },
    {
     "name": "stderr",
     "output_type": "stream",
     "text": [
      "100%|██████████| 4623/4623 [00:00<00:00, 5126.43it/s] \n"
     ]
    },
    {
     "name": "stdout",
     "output_type": "stream",
     "text": [
      "225943<>51273 pair\n"
     ]
    },
    {
     "name": "stderr",
     "output_type": "stream",
     "text": [
      "100%|██████████| 4623/4623 [00:00<00:00, 15382.57it/s]\n"
     ]
    },
    {
     "name": "stdout",
     "output_type": "stream",
     "text": [
      "225943<>51271 pair\n"
     ]
    },
    {
     "name": "stderr",
     "output_type": "stream",
     "text": [
      "100%|██████████| 4623/4623 [00:00<00:00, 13974.79it/s]\n"
     ]
    },
    {
     "name": "stdout",
     "output_type": "stream",
     "text": [
      "225943<>51140 pair\n"
     ]
    },
    {
     "name": "stderr",
     "output_type": "stream",
     "text": [
      "100%|██████████| 4623/4623 [00:00<00:00, 18024.01it/s]\n"
     ]
    },
    {
     "name": "stdout",
     "output_type": "stream",
     "text": [
      "225943<>51471 pair\n"
     ]
    },
    {
     "name": "stderr",
     "output_type": "stream",
     "text": [
      "100%|██████████| 4623/4623 [00:00<00:00, 10146.65it/s]\n"
     ]
    },
    {
     "name": "stdout",
     "output_type": "stream",
     "text": [
      "225943<>51232 pair\n"
     ]
    },
    {
     "name": "stderr",
     "output_type": "stream",
     "text": [
      "100%|██████████| 4623/4623 [00:00<00:00, 18987.67it/s]\n"
     ]
    },
    {
     "name": "stdout",
     "output_type": "stream",
     "text": [
      "225943<>50864 pair\n"
     ]
    },
    {
     "name": "stderr",
     "output_type": "stream",
     "text": [
      "100%|██████████| 4623/4623 [00:02<00:00, 1850.09it/s]\n"
     ]
    },
    {
     "name": "stdout",
     "output_type": "stream",
     "text": [
      "225943<>51124 pair\n"
     ]
    },
    {
     "name": "stderr",
     "output_type": "stream",
     "text": [
      "100%|██████████| 4623/4623 [00:00<00:00, 29231.97it/s]\n"
     ]
    },
    {
     "name": "stdout",
     "output_type": "stream",
     "text": [
      "225943<>50890 pair\n"
     ]
    },
    {
     "name": "stderr",
     "output_type": "stream",
     "text": [
      "100%|██████████| 4623/4623 [00:01<00:00, 3137.21it/s] \n"
     ]
    },
    {
     "name": "stdout",
     "output_type": "stream",
     "text": [
      "225943<>50980 pair\n"
     ]
    },
    {
     "name": "stderr",
     "output_type": "stream",
     "text": [
      "100%|██████████| 4623/4623 [00:01<00:00, 4413.93it/s] \n"
     ]
    },
    {
     "name": "stdout",
     "output_type": "stream",
     "text": [
      "225943<>51513 pair\n"
     ]
    },
    {
     "name": "stderr",
     "output_type": "stream",
     "text": [
      "100%|██████████| 4623/4623 [00:00<00:00, 66478.56it/s]\n"
     ]
    },
    {
     "name": "stdout",
     "output_type": "stream",
     "text": [
      "225943<>50946 pair\n"
     ]
    },
    {
     "name": "stderr",
     "output_type": "stream",
     "text": [
      "100%|██████████| 4623/4623 [00:00<00:00, 23371.40it/s]\n"
     ]
    },
    {
     "name": "stdout",
     "output_type": "stream",
     "text": [
      "225943<>50881 pair\n"
     ]
    },
    {
     "name": "stderr",
     "output_type": "stream",
     "text": [
      "100%|██████████| 4623/4623 [00:00<00:00, 6485.22it/s] \n"
     ]
    },
    {
     "name": "stdout",
     "output_type": "stream",
     "text": [
      "225943<>51114 pair\n"
     ]
    },
    {
     "name": "stderr",
     "output_type": "stream",
     "text": [
      "100%|██████████| 4623/4623 [00:00<00:00, 6400.69it/s] \n"
     ]
    },
    {
     "name": "stdout",
     "output_type": "stream",
     "text": [
      "225943<>51123 pair\n"
     ]
    },
    {
     "name": "stderr",
     "output_type": "stream",
     "text": [
      "100%|██████████| 4623/4623 [00:00<00:00, 6079.35it/s] \n"
     ]
    },
    {
     "name": "stdout",
     "output_type": "stream",
     "text": [
      "225943<>51352 pair\n"
     ]
    },
    {
     "name": "stderr",
     "output_type": "stream",
     "text": [
      "100%|██████████| 4623/4623 [00:00<00:00, 7436.85it/s] \n"
     ]
    },
    {
     "name": "stdout",
     "output_type": "stream",
     "text": [
      "225943<>51343 pair\n"
     ]
    },
    {
     "name": "stderr",
     "output_type": "stream",
     "text": [
      "100%|██████████| 4623/4623 [00:00<00:00, 20797.33it/s]\n"
     ]
    },
    {
     "name": "stdout",
     "output_type": "stream",
     "text": [
      "225943<>50892 pair\n"
     ]
    },
    {
     "name": "stderr",
     "output_type": "stream",
     "text": [
      "100%|██████████| 4623/4623 [00:00<00:00, 8367.76it/s] \n"
     ]
    },
    {
     "name": "stdout",
     "output_type": "stream",
     "text": [
      "225943<>50891 pair\n"
     ]
    },
    {
     "name": "stderr",
     "output_type": "stream",
     "text": [
      "100%|██████████| 4623/4623 [00:01<00:00, 2904.38it/s] \n"
     ]
    },
    {
     "name": "stdout",
     "output_type": "stream",
     "text": [
      "225943<>50899 pair\n"
     ]
    },
    {
     "name": "stderr",
     "output_type": "stream",
     "text": [
      "100%|██████████| 4623/4623 [00:00<00:00, 35251.25it/s]\n"
     ]
    },
    {
     "name": "stdout",
     "output_type": "stream",
     "text": [
      "225943<>51028 pair\n"
     ]
    },
    {
     "name": "stderr",
     "output_type": "stream",
     "text": [
      "100%|██████████| 4623/4623 [00:00<00:00, 21529.96it/s]\n"
     ]
    },
    {
     "name": "stdout",
     "output_type": "stream",
     "text": [
      "225943<>50978 pair\n"
     ]
    },
    {
     "name": "stderr",
     "output_type": "stream",
     "text": [
      "100%|██████████| 4623/4623 [00:00<00:00, 15765.68it/s]\n"
     ]
    },
    {
     "name": "stdout",
     "output_type": "stream",
     "text": [
      "225943<>51441 pair\n"
     ]
    },
    {
     "name": "stderr",
     "output_type": "stream",
     "text": [
      "100%|██████████| 4623/4623 [00:00<00:00, 47247.82it/s]\n"
     ]
    },
    {
     "name": "stdout",
     "output_type": "stream",
     "text": [
      "225943<>50895 pair\n"
     ]
    },
    {
     "name": "stderr",
     "output_type": "stream",
     "text": [
      "100%|██████████| 4623/4623 [00:00<00:00, 12617.52it/s]\n"
     ]
    },
    {
     "name": "stdout",
     "output_type": "stream",
     "text": [
      "225943<>50896 pair\n"
     ]
    },
    {
     "name": "stderr",
     "output_type": "stream",
     "text": [
      "100%|██████████| 4623/4623 [00:00<00:00, 13971.92it/s]\n"
     ]
    },
    {
     "name": "stdout",
     "output_type": "stream",
     "text": [
      "225943<>51005 pair\n"
     ]
    },
    {
     "name": "stderr",
     "output_type": "stream",
     "text": [
      "100%|██████████| 4623/4623 [00:00<00:00, 12607.83it/s]\n"
     ]
    },
    {
     "name": "stdout",
     "output_type": "stream",
     "text": [
      "225943<>50929 pair\n"
     ]
    },
    {
     "name": "stderr",
     "output_type": "stream",
     "text": [
      "100%|██████████| 4623/4623 [00:00<00:00, 5243.37it/s] \n"
     ]
    },
    {
     "name": "stdout",
     "output_type": "stream",
     "text": [
      "225943<>50945 pair\n"
     ]
    },
    {
     "name": "stderr",
     "output_type": "stream",
     "text": [
      "100%|██████████| 4623/4623 [00:00<00:00, 14968.34it/s]\n"
     ]
    },
    {
     "name": "stdout",
     "output_type": "stream",
     "text": [
      "225943<>50997 pair\n"
     ]
    },
    {
     "name": "stderr",
     "output_type": "stream",
     "text": [
      "100%|██████████| 4623/4623 [00:00<00:00, 44842.94it/s]\n"
     ]
    },
    {
     "name": "stdout",
     "output_type": "stream",
     "text": [
      "225943<>51119 pair\n"
     ]
    },
    {
     "name": "stderr",
     "output_type": "stream",
     "text": [
      "100%|██████████| 4623/4623 [00:00<00:00, 59653.92it/s]\n"
     ]
    },
    {
     "name": "stdout",
     "output_type": "stream",
     "text": [
      "225943<>50973 pair\n"
     ]
    },
    {
     "name": "stderr",
     "output_type": "stream",
     "text": [
      "100%|██████████| 4623/4623 [00:00<00:00, 9786.63it/s] \n"
     ]
    },
    {
     "name": "stdout",
     "output_type": "stream",
     "text": [
      "225943<>50965 pair\n"
     ]
    },
    {
     "name": "stderr",
     "output_type": "stream",
     "text": [
      "100%|██████████| 4623/4623 [00:01<00:00, 2470.37it/s] \n"
     ]
    },
    {
     "name": "stdout",
     "output_type": "stream",
     "text": [
      "225943<>51445 pair\n"
     ]
    },
    {
     "name": "stderr",
     "output_type": "stream",
     "text": [
      "100%|██████████| 4623/4623 [00:00<00:00, 12771.06it/s]\n"
     ]
    },
    {
     "name": "stdout",
     "output_type": "stream",
     "text": [
      "225943<>51444 pair\n"
     ]
    },
    {
     "name": "stderr",
     "output_type": "stream",
     "text": [
      "100%|██████████| 4623/4623 [00:00<00:00, 5281.65it/s] \n"
     ]
    },
    {
     "name": "stdout",
     "output_type": "stream",
     "text": [
      "225943<>51354 pair\n"
     ]
    },
    {
     "name": "stderr",
     "output_type": "stream",
     "text": [
      "100%|██████████| 4623/4623 [00:00<00:00, 29339.90it/s]\n"
     ]
    },
    {
     "name": "stdout",
     "output_type": "stream",
     "text": [
      "225943<>51299 pair\n"
     ]
    },
    {
     "name": "stderr",
     "output_type": "stream",
     "text": [
      "100%|██████████| 4623/4623 [00:00<00:00, 36471.04it/s]\n"
     ]
    },
    {
     "name": "stdout",
     "output_type": "stream",
     "text": [
      "225943<>51298 pair\n"
     ]
    },
    {
     "name": "stderr",
     "output_type": "stream",
     "text": [
      "100%|██████████| 4623/4623 [00:00<00:00, 28875.28it/s]\n"
     ]
    },
    {
     "name": "stdout",
     "output_type": "stream",
     "text": [
      "225943<>51206 pair\n"
     ]
    },
    {
     "name": "stderr",
     "output_type": "stream",
     "text": [
      "100%|██████████| 4623/4623 [00:00<00:00, 21419.44it/s]\n"
     ]
    },
    {
     "name": "stdout",
     "output_type": "stream",
     "text": [
      "225943<>50988 pair\n"
     ]
    },
    {
     "name": "stderr",
     "output_type": "stream",
     "text": [
      "100%|██████████| 4623/4623 [00:00<00:00, 24751.96it/s]\n"
     ]
    },
    {
     "name": "stdout",
     "output_type": "stream",
     "text": [
      "225943<>50982 pair\n"
     ]
    },
    {
     "name": "stderr",
     "output_type": "stream",
     "text": [
      "100%|██████████| 4623/4623 [00:00<00:00, 46523.09it/s]\n"
     ]
    },
    {
     "name": "stdout",
     "output_type": "stream",
     "text": [
      "225943<>50894 pair\n"
     ]
    },
    {
     "name": "stderr",
     "output_type": "stream",
     "text": [
      "100%|██████████| 4623/4623 [00:00<00:00, 48123.88it/s]\n"
     ]
    },
    {
     "name": "stdout",
     "output_type": "stream",
     "text": [
      "225943<>51072 pair\n"
     ]
    },
    {
     "name": "stderr",
     "output_type": "stream",
     "text": [
      "100%|██████████| 4623/4623 [00:00<00:00, 46663.04it/s]\n"
     ]
    },
    {
     "name": "stdout",
     "output_type": "stream",
     "text": [
      "225943<>51073 pair\n"
     ]
    },
    {
     "name": "stderr",
     "output_type": "stream",
     "text": [
      "100%|██████████| 4623/4623 [00:00<00:00, 47596.91it/s]\n"
     ]
    },
    {
     "name": "stdout",
     "output_type": "stream",
     "text": [
      "225943<>50914 pair\n"
     ]
    },
    {
     "name": "stderr",
     "output_type": "stream",
     "text": [
      "100%|██████████| 4623/4623 [00:00<00:00, 5091.22it/s] \n"
     ]
    },
    {
     "name": "stdout",
     "output_type": "stream",
     "text": [
      "225943<>51110 pair\n"
     ]
    },
    {
     "name": "stderr",
     "output_type": "stream",
     "text": [
      "100%|██████████| 4623/4623 [00:00<00:00, 10804.56it/s]\n"
     ]
    },
    {
     "name": "stdout",
     "output_type": "stream",
     "text": [
      "225943<>51467 pair\n"
     ]
    },
    {
     "name": "stderr",
     "output_type": "stream",
     "text": [
      "100%|██████████| 4623/4623 [00:00<00:00, 36196.33it/s]\n"
     ]
    },
    {
     "name": "stdout",
     "output_type": "stream",
     "text": [
      "225943<>51223 pair\n"
     ]
    },
    {
     "name": "stderr",
     "output_type": "stream",
     "text": [
      "100%|██████████| 4623/4623 [00:00<00:00, 36020.70it/s]\n"
     ]
    },
    {
     "name": "stdout",
     "output_type": "stream",
     "text": [
      "225943<>51227 pair\n"
     ]
    },
    {
     "name": "stderr",
     "output_type": "stream",
     "text": [
      "100%|██████████| 4623/4623 [00:00<00:00, 25185.76it/s]\n"
     ]
    },
    {
     "name": "stdout",
     "output_type": "stream",
     "text": [
      "225943<>51226 pair\n"
     ]
    },
    {
     "name": "stderr",
     "output_type": "stream",
     "text": [
      "100%|██████████| 4623/4623 [00:00<00:00, 25101.55it/s]\n"
     ]
    },
    {
     "name": "stdout",
     "output_type": "stream",
     "text": [
      "225943<>51224 pair\n"
     ]
    },
    {
     "name": "stderr",
     "output_type": "stream",
     "text": [
      "100%|██████████| 4623/4623 [00:00<00:00, 25004.44it/s]\n"
     ]
    },
    {
     "name": "stdout",
     "output_type": "stream",
     "text": [
      "225943<>51385 pair\n"
     ]
    },
    {
     "name": "stderr",
     "output_type": "stream",
     "text": [
      "100%|██████████| 4623/4623 [00:00<00:00, 35644.33it/s]\n"
     ]
    },
    {
     "name": "stdout",
     "output_type": "stream",
     "text": [
      "225943<>51015 pair\n"
     ]
    },
    {
     "name": "stderr",
     "output_type": "stream",
     "text": [
      "100%|██████████| 4623/4623 [00:00<00:00, 5471.70it/s] \n"
     ]
    },
    {
     "name": "stdout",
     "output_type": "stream",
     "text": [
      "225943<>51049 pair\n"
     ]
    },
    {
     "name": "stderr",
     "output_type": "stream",
     "text": [
      "100%|██████████| 4623/4623 [00:00<00:00, 19280.64it/s]\n"
     ]
    },
    {
     "name": "stdout",
     "output_type": "stream",
     "text": [
      "225943<>51076 pair\n"
     ]
    },
    {
     "name": "stderr",
     "output_type": "stream",
     "text": [
      "100%|██████████| 4623/4623 [00:00<00:00, 24460.83it/s]\n"
     ]
    },
    {
     "name": "stdout",
     "output_type": "stream",
     "text": [
      "225943<>51112 pair\n"
     ]
    },
    {
     "name": "stderr",
     "output_type": "stream",
     "text": [
      "100%|██████████| 4623/4623 [00:00<00:00, 45699.00it/s]\n"
     ]
    },
    {
     "name": "stdout",
     "output_type": "stream",
     "text": [
      "225943<>51517 pair\n"
     ]
    },
    {
     "name": "stderr",
     "output_type": "stream",
     "text": [
      "100%|██████████| 4623/4623 [00:00<00:00, 17037.10it/s]\n"
     ]
    },
    {
     "name": "stdout",
     "output_type": "stream",
     "text": [
      "225943<>51430 pair\n"
     ]
    },
    {
     "name": "stderr",
     "output_type": "stream",
     "text": [
      "100%|██████████| 4623/4623 [00:00<00:00, 66325.07it/s]\n"
     ]
    },
    {
     "name": "stdout",
     "output_type": "stream",
     "text": [
      "225943<>50853 pair\n"
     ]
    },
    {
     "name": "stderr",
     "output_type": "stream",
     "text": [
      "100%|██████████| 4623/4623 [00:00<00:00, 11775.76it/s]\n"
     ]
    },
    {
     "name": "stdout",
     "output_type": "stream",
     "text": [
      "225943<>51480 pair\n"
     ]
    },
    {
     "name": "stderr",
     "output_type": "stream",
     "text": [
      "100%|██████████| 4623/4623 [00:00<00:00, 66557.29it/s]\n"
     ]
    },
    {
     "name": "stdout",
     "output_type": "stream",
     "text": [
      "225943<>50968 pair\n"
     ]
    },
    {
     "name": "stderr",
     "output_type": "stream",
     "text": [
      "100%|██████████| 4623/4623 [00:00<00:00, 17912.07it/s]\n"
     ]
    },
    {
     "name": "stdout",
     "output_type": "stream",
     "text": [
      "225943<>50969 pair\n"
     ]
    },
    {
     "name": "stderr",
     "output_type": "stream",
     "text": [
      "100%|██████████| 4623/4623 [00:00<00:00, 17657.92it/s]\n"
     ]
    },
    {
     "name": "stdout",
     "output_type": "stream",
     "text": [
      "225943<>51440 pair\n"
     ]
    },
    {
     "name": "stderr",
     "output_type": "stream",
     "text": [
      "100%|██████████| 4623/4623 [00:00<00:00, 24803.10it/s]\n"
     ]
    },
    {
     "name": "stdout",
     "output_type": "stream",
     "text": [
      "225943<>51433 pair\n"
     ]
    },
    {
     "name": "stderr",
     "output_type": "stream",
     "text": [
      "100%|██████████| 4623/4623 [00:00<00:00, 66707.03it/s]\n"
     ]
    },
    {
     "name": "stdout",
     "output_type": "stream",
     "text": [
      "225943<>51065 pair\n"
     ]
    },
    {
     "name": "stderr",
     "output_type": "stream",
     "text": [
      "100%|██████████| 4623/4623 [00:00<00:00, 24748.80it/s]\n"
     ]
    },
    {
     "name": "stdout",
     "output_type": "stream",
     "text": [
      "225943<>51064 pair\n"
     ]
    },
    {
     "name": "stderr",
     "output_type": "stream",
     "text": [
      "100%|██████████| 4623/4623 [00:00<00:00, 24556.98it/s]\n"
     ]
    },
    {
     "name": "stdout",
     "output_type": "stream",
     "text": [
      "225943<>51062 pair\n"
     ]
    },
    {
     "name": "stderr",
     "output_type": "stream",
     "text": [
      "100%|██████████| 4623/4623 [00:00<00:00, 36851.37it/s]\n"
     ]
    },
    {
     "name": "stdout",
     "output_type": "stream",
     "text": [
      "225943<>51061 pair\n"
     ]
    },
    {
     "name": "stderr",
     "output_type": "stream",
     "text": [
      "100%|██████████| 4623/4623 [00:00<00:00, 47132.51it/s]\n"
     ]
    },
    {
     "name": "stdout",
     "output_type": "stream",
     "text": [
      "225943<>51063 pair\n"
     ]
    },
    {
     "name": "stderr",
     "output_type": "stream",
     "text": [
      "100%|██████████| 4623/4623 [00:00<00:00, 29242.07it/s]\n"
     ]
    },
    {
     "name": "stdout",
     "output_type": "stream",
     "text": [
      "225943<>51115 pair\n"
     ]
    },
    {
     "name": "stderr",
     "output_type": "stream",
     "text": [
      "100%|██████████| 4623/4623 [00:00<00:00, 16792.59it/s]\n"
     ]
    },
    {
     "name": "stdout",
     "output_type": "stream",
     "text": [
      "225943<>50841 pair\n"
     ]
    },
    {
     "name": "stderr",
     "output_type": "stream",
     "text": [
      "100%|██████████| 4623/4623 [00:00<00:00, 8275.71it/s] \n"
     ]
    },
    {
     "name": "stdout",
     "output_type": "stream",
     "text": [
      "225943<>51489 pair\n"
     ]
    },
    {
     "name": "stderr",
     "output_type": "stream",
     "text": [
      "100%|██████████| 4623/4623 [00:00<00:00, 47242.41it/s]\n"
     ]
    },
    {
     "name": "stdout",
     "output_type": "stream",
     "text": [
      "225943<>50990 pair\n"
     ]
    },
    {
     "name": "stderr",
     "output_type": "stream",
     "text": [
      "100%|██████████| 4623/4623 [00:00<00:00, 36240.92it/s]\n"
     ]
    },
    {
     "name": "stdout",
     "output_type": "stream",
     "text": [
      "225943<>51045 pair\n"
     ]
    },
    {
     "name": "stderr",
     "output_type": "stream",
     "text": [
      "100%|██████████| 4623/4623 [00:00<00:00, 45633.07it/s]\n"
     ]
    },
    {
     "name": "stdout",
     "output_type": "stream",
     "text": [
      "225943<>51032 pair\n"
     ]
    },
    {
     "name": "stderr",
     "output_type": "stream",
     "text": [
      "100%|██████████| 4623/4623 [00:00<00:00, 48140.25it/s]\n"
     ]
    },
    {
     "name": "stdout",
     "output_type": "stream",
     "text": [
      "225943<>51507 pair\n"
     ]
    },
    {
     "name": "stderr",
     "output_type": "stream",
     "text": [
      "100%|██████████| 4623/4623 [00:00<00:00, 29146.24it/s]\n"
     ]
    },
    {
     "name": "stdout",
     "output_type": "stream",
     "text": [
      "225943<>51386 pair\n"
     ]
    },
    {
     "name": "stderr",
     "output_type": "stream",
     "text": [
      "100%|██████████| 4623/4623 [00:00<00:00, 36879.82it/s]\n"
     ]
    },
    {
     "name": "stdout",
     "output_type": "stream",
     "text": [
      "225943<>51229 pair\n"
     ]
    },
    {
     "name": "stderr",
     "output_type": "stream",
     "text": [
      "100%|██████████| 4623/4623 [00:00<00:00, 13328.41it/s]\n"
     ]
    },
    {
     "name": "stdout",
     "output_type": "stream",
     "text": [
      "225943<>51366 pair\n"
     ]
    },
    {
     "name": "stderr",
     "output_type": "stream",
     "text": [
      "100%|██████████| 4623/4623 [00:00<00:00, 46370.56it/s]\n"
     ]
    },
    {
     "name": "stdout",
     "output_type": "stream",
     "text": [
      "225943<>51272 pair\n"
     ]
    },
    {
     "name": "stderr",
     "output_type": "stream",
     "text": [
      "100%|██████████| 4623/4623 [00:00<00:00, 29467.64it/s]\n"
     ]
    },
    {
     "name": "stdout",
     "output_type": "stream",
     "text": [
      "225943<>51270 pair\n"
     ]
    },
    {
     "name": "stderr",
     "output_type": "stream",
     "text": [
      "100%|██████████| 4623/4623 [00:00<00:00, 36347.44it/s]\n"
     ]
    },
    {
     "name": "stdout",
     "output_type": "stream",
     "text": [
      "225943<>51087 pair\n"
     ]
    },
    {
     "name": "stderr",
     "output_type": "stream",
     "text": [
      "100%|██████████| 4623/4623 [00:00<00:00, 9247.76it/s] \n"
     ]
    },
    {
     "name": "stdout",
     "output_type": "stream",
     "text": [
      "225943<>51108 pair\n"
     ]
    },
    {
     "name": "stderr",
     "output_type": "stream",
     "text": [
      "100%|██████████| 4623/4623 [00:00<00:00, 9250.57it/s] \n"
     ]
    },
    {
     "name": "stdout",
     "output_type": "stream",
     "text": [
      "225943<>51094 pair\n"
     ]
    },
    {
     "name": "stderr",
     "output_type": "stream",
     "text": [
      "100%|██████████| 4623/4623 [00:00<00:00, 8616.17it/s] \n"
     ]
    },
    {
     "name": "stdout",
     "output_type": "stream",
     "text": [
      "225943<>51068 pair\n"
     ]
    },
    {
     "name": "stderr",
     "output_type": "stream",
     "text": [
      "100%|██████████| 4623/4623 [00:00<00:00, 21299.05it/s]\n"
     ]
    },
    {
     "name": "stdout",
     "output_type": "stream",
     "text": [
      "225943<>51067 pair\n"
     ]
    },
    {
     "name": "stderr",
     "output_type": "stream",
     "text": [
      "100%|██████████| 4623/4623 [00:00<00:00, 10412.99it/s]\n"
     ]
    },
    {
     "name": "stdout",
     "output_type": "stream",
     "text": [
      "225943<>51529 pair\n"
     ]
    },
    {
     "name": "stderr",
     "output_type": "stream",
     "text": [
      "100%|██████████| 4623/4623 [00:00<00:00, 66729.07it/s]\n"
     ]
    },
    {
     "name": "stdout",
     "output_type": "stream",
     "text": [
      "225943<>51345 pair\n"
     ]
    },
    {
     "name": "stderr",
     "output_type": "stream",
     "text": [
      "100%|██████████| 4623/4623 [00:00<00:00, 46992.24it/s]\n"
     ]
    },
    {
     "name": "stdout",
     "output_type": "stream",
     "text": [
      "225943<>51356 pair\n"
     ]
    },
    {
     "name": "stderr",
     "output_type": "stream",
     "text": [
      "100%|██████████| 4623/4623 [00:00<00:00, 29722.81it/s]\n"
     ]
    },
    {
     "name": "stdout",
     "output_type": "stream",
     "text": [
      "225943<>50926 pair\n"
     ]
    },
    {
     "name": "stderr",
     "output_type": "stream",
     "text": [
      "100%|██████████| 4623/4623 [00:00<00:00, 19030.87it/s]\n"
     ]
    },
    {
     "name": "stdout",
     "output_type": "stream",
     "text": [
      "225943<>50989 pair\n"
     ]
    },
    {
     "name": "stderr",
     "output_type": "stream",
     "text": [
      "100%|██████████| 4623/4623 [00:00<00:00, 36275.56it/s]\n"
     ]
    },
    {
     "name": "stdout",
     "output_type": "stream",
     "text": [
      "225943<>51228 pair\n"
     ]
    },
    {
     "name": "stderr",
     "output_type": "stream",
     "text": [
      "100%|██████████| 4623/4623 [00:00<00:00, 36427.60it/s]\n"
     ]
    },
    {
     "name": "stdout",
     "output_type": "stream",
     "text": [
      "225943<>51376 pair\n"
     ]
    },
    {
     "name": "stderr",
     "output_type": "stream",
     "text": [
      "100%|██████████| 4623/4623 [00:00<00:00, 15238.06it/s]\n"
     ]
    },
    {
     "name": "stdout",
     "output_type": "stream",
     "text": [
      "225943<>50869 pair\n"
     ]
    },
    {
     "name": "stderr",
     "output_type": "stream",
     "text": [
      "100%|██████████| 4623/4623 [00:00<00:00, 47585.70it/s]\n"
     ]
    },
    {
     "name": "stdout",
     "output_type": "stream",
     "text": [
      "225943<>51289 pair\n"
     ]
    },
    {
     "name": "stderr",
     "output_type": "stream",
     "text": [
      "100%|██████████| 4623/4623 [00:00<00:00, 19831.58it/s]\n"
     ]
    },
    {
     "name": "stdout",
     "output_type": "stream",
     "text": [
      "225943<>50850 pair\n"
     ]
    },
    {
     "name": "stderr",
     "output_type": "stream",
     "text": [
      "100%|██████████| 4623/4623 [00:00<00:00, 21390.82it/s]\n"
     ]
    },
    {
     "name": "stdout",
     "output_type": "stream",
     "text": [
      "225943<>51387 pair\n"
     ]
    },
    {
     "name": "stderr",
     "output_type": "stream",
     "text": [
      "100%|██████████| 4623/4623 [00:00<00:00, 21461.99it/s]\n"
     ]
    },
    {
     "name": "stdout",
     "output_type": "stream",
     "text": [
      "225943<>50877 pair\n"
     ]
    },
    {
     "name": "stderr",
     "output_type": "stream",
     "text": [
      "100%|██████████| 4623/4623 [00:00<00:00, 46685.62it/s]\n"
     ]
    },
    {
     "name": "stdout",
     "output_type": "stream",
     "text": [
      "225943<>51122 pair\n"
     ]
    },
    {
     "name": "stderr",
     "output_type": "stream",
     "text": [
      "100%|██████████| 4623/4623 [00:00<00:00, 36068.94it/s]\n"
     ]
    },
    {
     "name": "stdout",
     "output_type": "stream",
     "text": [
      "225943<>51442 pair\n"
     ]
    },
    {
     "name": "stderr",
     "output_type": "stream",
     "text": [
      "100%|██████████| 4623/4623 [00:00<00:00, 19187.51it/s]\n"
     ]
    },
    {
     "name": "stdout",
     "output_type": "stream",
     "text": [
      "225943<>51454 pair\n"
     ]
    },
    {
     "name": "stderr",
     "output_type": "stream",
     "text": [
      "100%|██████████| 4623/4623 [00:00<00:00, 16892.85it/s]\n"
     ]
    },
    {
     "name": "stdout",
     "output_type": "stream",
     "text": [
      "225943<>51452 pair\n"
     ]
    },
    {
     "name": "stderr",
     "output_type": "stream",
     "text": [
      "100%|██████████| 4623/4623 [00:00<00:00, 35760.69it/s]\n"
     ]
    },
    {
     "name": "stdout",
     "output_type": "stream",
     "text": [
      "225943<>51276 pair\n"
     ]
    },
    {
     "name": "stderr",
     "output_type": "stream",
     "text": [
      "100%|██████████| 4623/4623 [00:00<00:00, 15351.85it/s]\n"
     ]
    },
    {
     "name": "stdout",
     "output_type": "stream",
     "text": [
      "225943<>50991 pair\n"
     ]
    },
    {
     "name": "stderr",
     "output_type": "stream",
     "text": [
      "100%|██████████| 4623/4623 [00:00<00:00, 24952.79it/s]\n"
     ]
    },
    {
     "name": "stdout",
     "output_type": "stream",
     "text": [
      "225943<>51084 pair\n"
     ]
    },
    {
     "name": "stderr",
     "output_type": "stream",
     "text": [
      "100%|██████████| 4623/4623 [00:00<00:00, 66410.94it/s]\n"
     ]
    },
    {
     "name": "stdout",
     "output_type": "stream",
     "text": [
      "225943<>51494 pair\n"
     ]
    },
    {
     "name": "stderr",
     "output_type": "stream",
     "text": [
      "100%|██████████| 4623/4623 [00:00<00:00, 36904.81it/s]\n"
     ]
    },
    {
     "name": "stdout",
     "output_type": "stream",
     "text": [
      "225943<>51357 pair\n"
     ]
    },
    {
     "name": "stderr",
     "output_type": "stream",
     "text": [
      "100%|██████████| 4623/4623 [00:00<00:00, 47075.41it/s]\n"
     ]
    },
    {
     "name": "stdout",
     "output_type": "stream",
     "text": [
      "225943<>50958 pair\n"
     ]
    },
    {
     "name": "stderr",
     "output_type": "stream",
     "text": [
      "100%|██████████| 4623/4623 [00:00<00:00, 36069.88it/s]\n"
     ]
    },
    {
     "name": "stdout",
     "output_type": "stream",
     "text": [
      "225943<>50840 pair\n"
     ]
    },
    {
     "name": "stderr",
     "output_type": "stream",
     "text": [
      "100%|██████████| 4623/4623 [00:00<00:00, 35933.06it/s]\n"
     ]
    },
    {
     "name": "stdout",
     "output_type": "stream",
     "text": [
      "225943<>51203 pair\n"
     ]
    },
    {
     "name": "stderr",
     "output_type": "stream",
     "text": [
      "100%|██████████| 4623/4623 [00:00<00:00, 46810.95it/s]\n"
     ]
    },
    {
     "name": "stdout",
     "output_type": "stream",
     "text": [
      "225943<>51208 pair\n"
     ]
    },
    {
     "name": "stderr",
     "output_type": "stream",
     "text": [
      "100%|██████████| 4623/4623 [00:00<00:00, 67016.44it/s]\n"
     ]
    },
    {
     "name": "stdout",
     "output_type": "stream",
     "text": [
      "225943<>51202 pair\n"
     ]
    },
    {
     "name": "stderr",
     "output_type": "stream",
     "text": [
      "100%|██████████| 4623/4623 [00:00<00:00, 66137.31it/s]\n"
     ]
    },
    {
     "name": "stdout",
     "output_type": "stream",
     "text": [
      "225943<>51012 pair\n"
     ]
    },
    {
     "name": "stderr",
     "output_type": "stream",
     "text": [
      "100%|██████████| 4623/4623 [00:00<00:00, 42082.04it/s]\n"
     ]
    },
    {
     "name": "stdout",
     "output_type": "stream",
     "text": [
      "225943<>51437 pair\n"
     ]
    },
    {
     "name": "stderr",
     "output_type": "stream",
     "text": [
      "100%|██████████| 4623/4623 [00:00<00:00, 64154.99it/s]\n"
     ]
    },
    {
     "name": "stdout",
     "output_type": "stream",
     "text": [
      "225943<>51432 pair\n"
     ]
    },
    {
     "name": "stderr",
     "output_type": "stream",
     "text": [
      "100%|██████████| 4623/4623 [00:00<00:00, 65694.53it/s]\n"
     ]
    },
    {
     "name": "stdout",
     "output_type": "stream",
     "text": [
      "225943<>51368 pair\n"
     ]
    },
    {
     "name": "stderr",
     "output_type": "stream",
     "text": [
      "100%|██████████| 4623/4623 [00:00<00:00, 16390.70it/s]\n"
     ]
    },
    {
     "name": "stdout",
     "output_type": "stream",
     "text": [
      "225943<>51348 pair\n"
     ]
    },
    {
     "name": "stderr",
     "output_type": "stream",
     "text": [
      "100%|██████████| 4623/4623 [00:00<00:00, 46265.12it/s]\n"
     ]
    },
    {
     "name": "stdout",
     "output_type": "stream",
     "text": [
      "225943<>51212 pair\n"
     ]
    },
    {
     "name": "stderr",
     "output_type": "stream",
     "text": [
      "100%|██████████| 4623/4623 [00:00<00:00, 66306.02it/s]\n"
     ]
    },
    {
     "name": "stdout",
     "output_type": "stream",
     "text": [
      "225943<>51023 pair\n"
     ]
    },
    {
     "name": "stderr",
     "output_type": "stream",
     "text": [
      "100%|██████████| 4623/4623 [00:00<00:00, 47625.90it/s]\n"
     ]
    },
    {
     "name": "stdout",
     "output_type": "stream",
     "text": [
      "225943<>51019 pair\n"
     ]
    },
    {
     "name": "stderr",
     "output_type": "stream",
     "text": [
      "100%|██████████| 4623/4623 [00:00<00:00, 46340.64it/s]\n"
     ]
    },
    {
     "name": "stdout",
     "output_type": "stream",
     "text": [
      "225943<>51022 pair\n"
     ]
    },
    {
     "name": "stderr",
     "output_type": "stream",
     "text": [
      "100%|██████████| 4623/4623 [00:00<00:00, 48273.88it/s]\n"
     ]
    },
    {
     "name": "stdout",
     "output_type": "stream",
     "text": [
      "225943<>51024 pair\n"
     ]
    },
    {
     "name": "stderr",
     "output_type": "stream",
     "text": [
      "100%|██████████| 4623/4623 [00:00<00:00, 47522.14it/s]\n"
     ]
    },
    {
     "name": "stdout",
     "output_type": "stream",
     "text": [
      "225943<>51041 pair\n"
     ]
    },
    {
     "name": "stderr",
     "output_type": "stream",
     "text": [
      "100%|██████████| 4623/4623 [00:00<00:00, 66959.27it/s]\n"
     ]
    },
    {
     "name": "stdout",
     "output_type": "stream",
     "text": [
      "225943<>50992 pair\n"
     ]
    },
    {
     "name": "stderr",
     "output_type": "stream",
     "text": [
      "100%|██████████| 4623/4623 [00:00<00:00, 25069.39it/s]\n"
     ]
    },
    {
     "name": "stdout",
     "output_type": "stream",
     "text": [
      "225943<>51398 pair\n"
     ]
    },
    {
     "name": "stderr",
     "output_type": "stream",
     "text": [
      "100%|██████████| 4623/4623 [00:00<00:00, 8205.46it/s] \n"
     ]
    },
    {
     "name": "stdout",
     "output_type": "stream",
     "text": [
      "225943<>51404 pair\n"
     ]
    },
    {
     "name": "stderr",
     "output_type": "stream",
     "text": [
      "100%|██████████| 4623/4623 [00:00<00:00, 8330.84it/s] \n"
     ]
    },
    {
     "name": "stdout",
     "output_type": "stream",
     "text": [
      "225943<>51406 pair\n"
     ]
    },
    {
     "name": "stderr",
     "output_type": "stream",
     "text": [
      "100%|██████████| 4623/4623 [00:00<00:00, 8497.92it/s] \n"
     ]
    },
    {
     "name": "stdout",
     "output_type": "stream",
     "text": [
      "225943<>51515 pair\n"
     ]
    },
    {
     "name": "stderr",
     "output_type": "stream",
     "text": [
      "100%|██████████| 4623/4623 [00:00<00:00, 28990.50it/s]\n"
     ]
    },
    {
     "name": "stdout",
     "output_type": "stream",
     "text": [
      "225943<>51174 pair\n"
     ]
    },
    {
     "name": "stderr",
     "output_type": "stream",
     "text": [
      "100%|██████████| 4623/4623 [00:00<00:00, 47800.72it/s]\n"
     ]
    },
    {
     "name": "stdout",
     "output_type": "stream",
     "text": [
      "225943<>51175 pair\n"
     ]
    },
    {
     "name": "stderr",
     "output_type": "stream",
     "text": [
      "100%|██████████| 4623/4623 [00:00<00:00, 46827.01it/s]\n"
     ]
    },
    {
     "name": "stdout",
     "output_type": "stream",
     "text": [
      "225943<>51185 pair\n"
     ]
    },
    {
     "name": "stderr",
     "output_type": "stream",
     "text": [
      "100%|██████████| 4623/4623 [00:00<00:00, 66823.82it/s]\n"
     ]
    },
    {
     "name": "stdout",
     "output_type": "stream",
     "text": [
      "225943<>51186 pair\n"
     ]
    },
    {
     "name": "stderr",
     "output_type": "stream",
     "text": [
      "100%|██████████| 4623/4623 [00:00<00:00, 66878.67it/s]\n"
     ]
    },
    {
     "name": "stdout",
     "output_type": "stream",
     "text": [
      "225943<>51036 pair\n"
     ]
    },
    {
     "name": "stderr",
     "output_type": "stream",
     "text": [
      "100%|██████████| 4623/4623 [00:00<00:00, 66905.90it/s]\n"
     ]
    },
    {
     "name": "stdout",
     "output_type": "stream",
     "text": [
      "225943<>51241 pair\n"
     ]
    },
    {
     "name": "stderr",
     "output_type": "stream",
     "text": [
      "100%|██████████| 4623/4623 [00:00<00:00, 47109.04it/s]\n"
     ]
    },
    {
     "name": "stdout",
     "output_type": "stream",
     "text": [
      "225943<>51199 pair\n"
     ]
    },
    {
     "name": "stderr",
     "output_type": "stream",
     "text": [
      "100%|██████████| 4623/4623 [00:00<00:00, 36525.45it/s]\n"
     ]
    },
    {
     "name": "stdout",
     "output_type": "stream",
     "text": [
      "225943<>50898 pair\n"
     ]
    },
    {
     "name": "stderr",
     "output_type": "stream",
     "text": [
      "100%|██████████| 4623/4623 [00:00<00:00, 21332.95it/s]\n"
     ]
    },
    {
     "name": "stdout",
     "output_type": "stream",
     "text": [
      "225943<>50865 pair\n"
     ]
    },
    {
     "name": "stderr",
     "output_type": "stream",
     "text": [
      "100%|██████████| 4623/4623 [00:00<00:00, 46985.52it/s]\n"
     ]
    },
    {
     "name": "stdout",
     "output_type": "stream",
     "text": [
      "225943<>51353 pair\n"
     ]
    },
    {
     "name": "stderr",
     "output_type": "stream",
     "text": [
      "100%|██████████| 4623/4623 [00:00<00:00, 36124.25it/s]\n"
     ]
    },
    {
     "name": "stdout",
     "output_type": "stream",
     "text": [
      "225943<>51080 pair\n"
     ]
    },
    {
     "name": "stderr",
     "output_type": "stream",
     "text": [
      "100%|██████████| 4623/4623 [00:00<00:00, 29511.23it/s]\n"
     ]
    },
    {
     "name": "stdout",
     "output_type": "stream",
     "text": [
      "225943<>51081 pair\n"
     ]
    },
    {
     "name": "stderr",
     "output_type": "stream",
     "text": [
      "100%|██████████| 4623/4623 [00:00<00:00, 29427.30it/s]\n"
     ]
    },
    {
     "name": "stdout",
     "output_type": "stream",
     "text": [
      "225943<>51101 pair\n"
     ]
    },
    {
     "name": "stderr",
     "output_type": "stream",
     "text": [
      "100%|██████████| 4623/4623 [00:00<00:00, 29713.06it/s]\n"
     ]
    },
    {
     "name": "stdout",
     "output_type": "stream",
     "text": [
      "225943<>51106 pair\n"
     ]
    },
    {
     "name": "stderr",
     "output_type": "stream",
     "text": [
      "100%|██████████| 4623/4623 [00:00<00:00, 29360.60it/s]\n"
     ]
    },
    {
     "name": "stdout",
     "output_type": "stream",
     "text": [
      "225943<>51109 pair\n"
     ]
    },
    {
     "name": "stderr",
     "output_type": "stream",
     "text": [
      "100%|██████████| 4623/4623 [00:00<00:00, 29777.58it/s]\n"
     ]
    },
    {
     "name": "stdout",
     "output_type": "stream",
     "text": [
      "225943<>51488 pair\n"
     ]
    },
    {
     "name": "stderr",
     "output_type": "stream",
     "text": [
      "100%|██████████| 4623/4623 [00:00<00:00, 65818.97it/s]\n"
     ]
    },
    {
     "name": "stdout",
     "output_type": "stream",
     "text": [
      "225943<>51044 pair\n"
     ]
    },
    {
     "name": "stderr",
     "output_type": "stream",
     "text": [
      "100%|██████████| 4623/4623 [00:00<00:00, 43601.17it/s]\n"
     ]
    },
    {
     "name": "stdout",
     "output_type": "stream",
     "text": [
      "225943<>50847 pair\n"
     ]
    },
    {
     "name": "stderr",
     "output_type": "stream",
     "text": [
      "100%|██████████| 4623/4623 [00:00<00:00, 44271.84it/s]\n"
     ]
    },
    {
     "name": "stdout",
     "output_type": "stream",
     "text": [
      "225943<>50837 pair\n"
     ]
    },
    {
     "name": "stderr",
     "output_type": "stream",
     "text": [
      "100%|██████████| 4623/4623 [00:00<00:00, 67221.12it/s]\n"
     ]
    },
    {
     "name": "stdout",
     "output_type": "stream",
     "text": [
      "225943<>50848 pair\n"
     ]
    },
    {
     "name": "stderr",
     "output_type": "stream",
     "text": [
      "100%|██████████| 4623/4623 [00:00<00:00, 48122.21it/s]\n"
     ]
    },
    {
     "name": "stdout",
     "output_type": "stream",
     "text": [
      "225943<>50839 pair\n"
     ]
    },
    {
     "name": "stderr",
     "output_type": "stream",
     "text": [
      "100%|██████████| 4623/4623 [00:00<00:00, 66439.61it/s]\n"
     ]
    },
    {
     "name": "stdout",
     "output_type": "stream",
     "text": [
      "225943<>51168 pair\n"
     ]
    },
    {
     "name": "stderr",
     "output_type": "stream",
     "text": [
      "100%|██████████| 4623/4623 [00:00<00:00, 45924.12it/s]\n"
     ]
    },
    {
     "name": "stdout",
     "output_type": "stream",
     "text": [
      "225943<>51204 pair\n"
     ]
    },
    {
     "name": "stderr",
     "output_type": "stream",
     "text": [
      "100%|██████████| 4623/4623 [00:00<00:00, 34999.22it/s]\n"
     ]
    },
    {
     "name": "stdout",
     "output_type": "stream",
     "text": [
      "225943<>51205 pair\n"
     ]
    },
    {
     "name": "stderr",
     "output_type": "stream",
     "text": [
      "100%|██████████| 4623/4623 [00:00<00:00, 24994.71it/s]\n"
     ]
    },
    {
     "name": "stdout",
     "output_type": "stream",
     "text": [
      "225943<>51162 pair\n"
     ]
    },
    {
     "name": "stderr",
     "output_type": "stream",
     "text": [
      "100%|██████████| 4623/4623 [00:00<00:00, 47033.73it/s]\n"
     ]
    },
    {
     "name": "stdout",
     "output_type": "stream",
     "text": [
      "225943<>51163 pair\n"
     ]
    },
    {
     "name": "stderr",
     "output_type": "stream",
     "text": [
      "100%|██████████| 4623/4623 [00:00<00:00, 46676.18it/s]\n"
     ]
    },
    {
     "name": "stdout",
     "output_type": "stream",
     "text": [
      "225943<>51359 pair\n"
     ]
    },
    {
     "name": "stderr",
     "output_type": "stream",
     "text": [
      "100%|██████████| 4623/4623 [00:00<00:00, 66296.50it/s]\n"
     ]
    },
    {
     "name": "stdout",
     "output_type": "stream",
     "text": [
      "225943<>50851 pair\n"
     ]
    },
    {
     "name": "stderr",
     "output_type": "stream",
     "text": [
      "100%|██████████| 4623/4623 [00:00<00:00, 67026.17it/s]\n"
     ]
    },
    {
     "name": "stdout",
     "output_type": "stream",
     "text": [
      "225943<>51042 pair\n"
     ]
    },
    {
     "name": "stderr",
     "output_type": "stream",
     "text": [
      "100%|██████████| 4623/4623 [00:00<00:00, 66746.53it/s]\n"
     ]
    },
    {
     "name": "stdout",
     "output_type": "stream",
     "text": [
      "225943<>51027 pair\n"
     ]
    },
    {
     "name": "stderr",
     "output_type": "stream",
     "text": [
      "100%|██████████| 4623/4623 [00:00<00:00, 66803.56it/s]\n"
     ]
    },
    {
     "name": "stdout",
     "output_type": "stream",
     "text": [
      "225943<>51030 pair\n"
     ]
    },
    {
     "name": "stderr",
     "output_type": "stream",
     "text": [
      "100%|██████████| 4623/4623 [00:00<00:00, 66929.46it/s]\n"
     ]
    },
    {
     "name": "stdout",
     "output_type": "stream",
     "text": [
      "225943<>51377 pair\n"
     ]
    },
    {
     "name": "stderr",
     "output_type": "stream",
     "text": [
      "100%|██████████| 4623/4623 [00:00<00:00, 66156.26it/s]\n"
     ]
    },
    {
     "name": "stdout",
     "output_type": "stream",
     "text": [
      "225943<>50962 pair\n"
     ]
    },
    {
     "name": "stderr",
     "output_type": "stream",
     "text": [
      "100%|██████████| 4623/4623 [00:00<00:00, 61190.43it/s]\n"
     ]
    },
    {
     "name": "stdout",
     "output_type": "stream",
     "text": [
      "225943<>50972 pair\n"
     ]
    },
    {
     "name": "stderr",
     "output_type": "stream",
     "text": [
      "100%|██████████| 4623/4623 [00:00<00:00, 63291.19it/s]\n"
     ]
    },
    {
     "name": "stdout",
     "output_type": "stream",
     "text": [
      "225943<>51409 pair\n"
     ]
    },
    {
     "name": "stderr",
     "output_type": "stream",
     "text": [
      "100%|██████████| 4623/4623 [00:00<00:00, 46802.82it/s]\n"
     ]
    },
    {
     "name": "stdout",
     "output_type": "stream",
     "text": [
      "225943<>51011 pair\n"
     ]
    },
    {
     "name": "stderr",
     "output_type": "stream",
     "text": [
      "100%|██████████| 4623/4623 [00:00<00:00, 46993.49it/s]\n"
     ]
    },
    {
     "name": "stdout",
     "output_type": "stream",
     "text": [
      "225943<>51435 pair\n"
     ]
    },
    {
     "name": "stderr",
     "output_type": "stream",
     "text": [
      "100%|██████████| 4623/4623 [00:00<00:00, 43738.27it/s]\n"
     ]
    },
    {
     "name": "stdout",
     "output_type": "stream",
     "text": [
      "225943<>51380 pair\n"
     ]
    },
    {
     "name": "stderr",
     "output_type": "stream",
     "text": [
      "100%|██████████| 4623/4623 [00:00<00:00, 65709.67it/s]\n"
     ]
    },
    {
     "name": "stdout",
     "output_type": "stream",
     "text": [
      "225943<>51029 pair\n"
     ]
    },
    {
     "name": "stderr",
     "output_type": "stream",
     "text": [
      "100%|██████████| 4623/4623 [00:00<00:00, 66726.09it/s]\n"
     ]
    },
    {
     "name": "stdout",
     "output_type": "stream",
     "text": [
      "225943<>51040 pair\n"
     ]
    },
    {
     "name": "stderr",
     "output_type": "stream",
     "text": [
      "100%|██████████| 4623/4623 [00:00<00:00, 66901.98it/s]\n"
     ]
    },
    {
     "name": "stdout",
     "output_type": "stream",
     "text": [
      "225943<>51020 pair\n"
     ]
    },
    {
     "name": "stderr",
     "output_type": "stream",
     "text": [
      "100%|██████████| 4623/4623 [00:00<00:00, 66849.62it/s]\n"
     ]
    },
    {
     "name": "stdout",
     "output_type": "stream",
     "text": [
      "225943<>50961 pair\n"
     ]
    },
    {
     "name": "stderr",
     "output_type": "stream",
     "text": [
      "100%|██████████| 4623/4623 [00:00<00:00, 24376.48it/s]\n"
     ]
    },
    {
     "name": "stdout",
     "output_type": "stream",
     "text": [
      "225943<>51361 pair\n"
     ]
    },
    {
     "name": "stderr",
     "output_type": "stream",
     "text": [
      "100%|██████████| 4623/4623 [00:00<00:00, 45648.11it/s]\n"
     ]
    },
    {
     "name": "stdout",
     "output_type": "stream",
     "text": [
      "225943<>50921 pair\n"
     ]
    },
    {
     "name": "stderr",
     "output_type": "stream",
     "text": [
      "100%|██████████| 4623/4623 [00:00<00:00, 46856.54it/s]\n"
     ]
    },
    {
     "name": "stdout",
     "output_type": "stream",
     "text": [
      "225943<>51210 pair\n"
     ]
    },
    {
     "name": "stderr",
     "output_type": "stream",
     "text": [
      "100%|██████████| 4623/4623 [00:00<00:00, 66712.77it/s]\n"
     ]
    },
    {
     "name": "stdout",
     "output_type": "stream",
     "text": [
      "225943<>51456 pair\n"
     ]
    },
    {
     "name": "stderr",
     "output_type": "stream",
     "text": [
      "100%|██████████| 4623/4623 [00:00<00:00, 47012.29it/s]\n"
     ]
    },
    {
     "name": "stdout",
     "output_type": "stream",
     "text": [
      "225943<>51240 pair\n"
     ]
    },
    {
     "name": "stderr",
     "output_type": "stream",
     "text": [
      "100%|██████████| 4623/4623 [00:00<00:00, 61629.19it/s]\n"
     ]
    },
    {
     "name": "stdout",
     "output_type": "stream",
     "text": [
      "225943<>51050 pair\n"
     ]
    },
    {
     "name": "stderr",
     "output_type": "stream",
     "text": [
      "100%|██████████| 4623/4623 [00:00<00:00, 62740.10it/s]\n"
     ]
    },
    {
     "name": "stdout",
     "output_type": "stream",
     "text": [
      "225943<>51057 pair\n"
     ]
    },
    {
     "name": "stderr",
     "output_type": "stream",
     "text": [
      "100%|██████████| 4623/4623 [00:00<00:00, 65935.57it/s]\n"
     ]
    },
    {
     "name": "stdout",
     "output_type": "stream",
     "text": [
      "225943<>51058 pair\n"
     ]
    },
    {
     "name": "stderr",
     "output_type": "stream",
     "text": [
      "100%|██████████| 4623/4623 [00:00<00:00, 65508.55it/s]\n"
     ]
    },
    {
     "name": "stdout",
     "output_type": "stream",
     "text": [
      "225943<>51048 pair\n"
     ]
    },
    {
     "name": "stderr",
     "output_type": "stream",
     "text": [
      "100%|██████████| 4623/4623 [00:00<00:00, 66832.34it/s]\n"
     ]
    },
    {
     "name": "stdout",
     "output_type": "stream",
     "text": [
      "225943<>51365 pair\n"
     ]
    },
    {
     "name": "stderr",
     "output_type": "stream",
     "text": [
      "100%|██████████| 4623/4623 [00:00<00:00, 47358.48it/s]\n"
     ]
    },
    {
     "name": "stdout",
     "output_type": "stream",
     "text": [
      "225943<>51280 pair\n"
     ]
    },
    {
     "name": "stderr",
     "output_type": "stream",
     "text": [
      "100%|██████████| 4623/4623 [00:00<00:00, 66838.33it/s]\n"
     ]
    },
    {
     "name": "stdout",
     "output_type": "stream",
     "text": [
      "225943<>51281 pair\n"
     ]
    },
    {
     "name": "stderr",
     "output_type": "stream",
     "text": [
      "100%|██████████| 4623/4623 [00:00<00:00, 66748.37it/s]\n"
     ]
    },
    {
     "name": "stdout",
     "output_type": "stream",
     "text": [
      "225943<>51346 pair\n"
     ]
    },
    {
     "name": "stderr",
     "output_type": "stream",
     "text": [
      "100%|██████████| 4623/4623 [00:00<00:00, 36283.84it/s]\n"
     ]
    },
    {
     "name": "stdout",
     "output_type": "stream",
     "text": [
      "225943<>51149 pair\n"
     ]
    },
    {
     "name": "stderr",
     "output_type": "stream",
     "text": [
      "100%|██████████| 4623/4623 [00:00<00:00, 66789.98it/s]\n"
     ]
    },
    {
     "name": "stdout",
     "output_type": "stream",
     "text": [
      "225943<>51126 pair\n"
     ]
    },
    {
     "name": "stderr",
     "output_type": "stream",
     "text": [
      "100%|██████████| 4623/4623 [00:00<00:00, 66889.29it/s]\n"
     ]
    },
    {
     "name": "stdout",
     "output_type": "stream",
     "text": [
      "225943<>51031 pair\n"
     ]
    },
    {
     "name": "stderr",
     "output_type": "stream",
     "text": [
      "100%|██████████| 4623/4623 [00:00<00:00, 66912.60it/s]\n"
     ]
    },
    {
     "name": "stdout",
     "output_type": "stream",
     "text": [
      "225943<>51121 pair\n"
     ]
    },
    {
     "name": "stderr",
     "output_type": "stream",
     "text": [
      "100%|██████████| 4623/4623 [00:00<00:00, 47271.31it/s]\n"
     ]
    },
    {
     "name": "stdout",
     "output_type": "stream",
     "text": [
      "225943<>51364 pair\n"
     ]
    },
    {
     "name": "stderr",
     "output_type": "stream",
     "text": [
      "100%|██████████| 4623/4623 [00:00<00:00, 49534.97it/s]\n"
     ]
    },
    {
     "name": "stdout",
     "output_type": "stream",
     "text": [
      "225943<>51038 pair\n"
     ]
    },
    {
     "name": "stderr",
     "output_type": "stream",
     "text": [
      "100%|██████████| 4623/4623 [00:00<00:00, 44177.93it/s]\n"
     ]
    },
    {
     "name": "stdout",
     "output_type": "stream",
     "text": [
      "225943<>51443 pair\n"
     ]
    },
    {
     "name": "stderr",
     "output_type": "stream",
     "text": [
      "100%|██████████| 4623/4623 [00:00<00:00, 65750.89it/s]\n"
     ]
    },
    {
     "name": "stdout",
     "output_type": "stream",
     "text": [
      "225943<>51449 pair\n"
     ]
    },
    {
     "name": "stderr",
     "output_type": "stream",
     "text": [
      "100%|██████████| 4623/4623 [00:00<00:00, 65939.38it/s]\n"
     ]
    },
    {
     "name": "stdout",
     "output_type": "stream",
     "text": [
      "225943<>51066 pair\n"
     ]
    },
    {
     "name": "stderr",
     "output_type": "stream",
     "text": [
      "100%|██████████| 4623/4623 [00:00<00:00, 66423.22it/s]\n"
     ]
    },
    {
     "name": "stdout",
     "output_type": "stream",
     "text": [
      "225943<>51113 pair\n"
     ]
    },
    {
     "name": "stderr",
     "output_type": "stream",
     "text": [
      "100%|██████████| 4623/4623 [00:00<00:00, 66499.76it/s]\n"
     ]
    },
    {
     "name": "stdout",
     "output_type": "stream",
     "text": [
      "225943<>51496 pair\n"
     ]
    },
    {
     "name": "stderr",
     "output_type": "stream",
     "text": [
      "100%|██████████| 4623/4623 [00:00<00:00, 65610.73it/s]\n"
     ]
    },
    {
     "name": "stdout",
     "output_type": "stream",
     "text": [
      "225943<>51225 pair\n"
     ]
    },
    {
     "name": "stderr",
     "output_type": "stream",
     "text": [
      "100%|██████████| 4623/4623 [00:00<00:00, 66710.02it/s]\n"
     ]
    },
    {
     "name": "stdout",
     "output_type": "stream",
     "text": [
      "225943<>51039 pair\n"
     ]
    },
    {
     "name": "stderr",
     "output_type": "stream",
     "text": [
      "100%|██████████| 4623/4623 [00:00<00:00, 67043.55it/s]\n"
     ]
    },
    {
     "name": "stdout",
     "output_type": "stream",
     "text": [
      "225943<>51170 pair\n"
     ]
    },
    {
     "name": "stderr",
     "output_type": "stream",
     "text": [
      "100%|██████████| 4623/4623 [00:00<00:00, 66974.77it/s]\n"
     ]
    },
    {
     "name": "stdout",
     "output_type": "stream",
     "text": [
      "225943<>51169 pair\n"
     ]
    },
    {
     "name": "stderr",
     "output_type": "stream",
     "text": [
      "100%|██████████| 4623/4623 [00:00<00:00, 66955.34it/s]\n"
     ]
    },
    {
     "name": "stdout",
     "output_type": "stream",
     "text": [
      "225943<>51166 pair\n"
     ]
    },
    {
     "name": "stderr",
     "output_type": "stream",
     "text": [
      "100%|██████████| 4623/4623 [00:00<00:00, 66857.69it/s]\n"
     ]
    },
    {
     "name": "stdout",
     "output_type": "stream",
     "text": [
      "225943<>51165 pair\n"
     ]
    },
    {
     "name": "stderr",
     "output_type": "stream",
     "text": [
      "100%|██████████| 4623/4623 [00:00<00:00, 66746.53it/s]\n"
     ]
    },
    {
     "name": "stdout",
     "output_type": "stream",
     "text": [
      "225943<>51037 pair\n"
     ]
    },
    {
     "name": "stderr",
     "output_type": "stream",
     "text": [
      "100%|██████████| 4623/4623 [00:00<00:00, 66102.58it/s]\n"
     ]
    },
    {
     "name": "stdout",
     "output_type": "stream",
     "text": [
      "225943<>51188 pair\n"
     ]
    },
    {
     "name": "stderr",
     "output_type": "stream",
     "text": [
      "100%|██████████| 4623/4623 [00:00<00:00, 66479.02it/s]\n"
     ]
    },
    {
     "name": "stdout",
     "output_type": "stream",
     "text": [
      "225943<>50934 pair\n"
     ]
    },
    {
     "name": "stderr",
     "output_type": "stream",
     "text": [
      "100%|██████████| 4623/4623 [00:00<00:00, 43407.22it/s]\n"
     ]
    },
    {
     "name": "stdout",
     "output_type": "stream",
     "text": [
      "225943<>50947 pair\n"
     ]
    },
    {
     "name": "stderr",
     "output_type": "stream",
     "text": [
      "100%|██████████| 4623/4623 [00:00<00:00, 41926.72it/s]\n"
     ]
    },
    {
     "name": "stdout",
     "output_type": "stream",
     "text": [
      "225943<>51508 pair\n"
     ]
    },
    {
     "name": "stderr",
     "output_type": "stream",
     "text": [
      "100%|██████████| 4623/4623 [00:00<00:00, 66349.13it/s]\n"
     ]
    },
    {
     "name": "stdout",
     "output_type": "stream",
     "text": [
      "225943<>51451 pair\n"
     ]
    },
    {
     "name": "stderr",
     "output_type": "stream",
     "text": [
      "100%|██████████| 4623/4623 [00:00<00:00, 66347.09it/s]\n"
     ]
    },
    {
     "name": "stdout",
     "output_type": "stream",
     "text": [
      "225943<>51164 pair\n"
     ]
    },
    {
     "name": "stderr",
     "output_type": "stream",
     "text": [
      "100%|██████████| 4623/4623 [00:00<00:00, 67202.48it/s]\n"
     ]
    }
   ],
   "source": [
    "from scipy.stats import pearsonr, spearmanr\n",
    "\n",
    "lab_med_patient_index = {}\n",
    "before_after_windows = {}\n",
    "\n",
    "before_hours = 48\n",
    "after_hours = 48\n",
    "before_days = 5\n",
    "after_days = 5\n",
    "for med, vals in res.items():\n",
    "    lab_med_patient_index[med] = {}\n",
    "    before_after_windows[med] = {}\n",
    "    for l in unique_lab_d[med]:\n",
    "        lab_med_patient_index[med][l] = {}\n",
    "        before_after_windows[med][l] = {\"before\":{}, \"after\":{}}\n",
    "        print(f\"{med}<>{l} pair\")\n",
    "        for id, pat in tqdm.tqdm(vals.items()):\n",
    "            if l in pat[\"lab_vals_before\"][\"ITEMID\"].to_list():\n",
    "\n",
    "                b = pat[\"lab_vals_before\"]\n",
    "                a = pat[\"lab_vals_after\"]\n",
    "\n",
    "                b = b[b[\"ITEMID\"]==l]\n",
    "                a = a[a[\"ITEMID\"]==l]\n",
    "\n",
    "                before = b[b[\"temp1\"]<datetime.timedelta(days=before_days)]\n",
    "                after = a[a[\"temp2\"]<datetime.timedelta(days=after_days)]\n",
    "                before_time = before['temp1'].apply(lambda x : round(x.total_seconds()/3600, 2)).to_list()\n",
    "                after_time = after['temp2'].apply(lambda x : round(x.total_seconds()/3600, 2)).to_list()\n",
    "                good = True\n",
    "\n",
    "                if before.shape[0]>0:\n",
    "                    before_1 = before.sort_values(\"temp1\").iloc[0]['VALUENUM']\n",
    "                else:\n",
    "                    before_1 = -1\n",
    "                    good = False\n",
    "                \n",
    "                if after.shape[0]>0:\n",
    "                    after_1 = after.sort_values(\"temp2\").iloc[0]['VALUENUM']\n",
    "                else:\n",
    "                    after_1 = -1\n",
    "                    good = False\n",
    "\n",
    "                if before.shape[0]>2:\n",
    "                    corr_b = [pearsonr(before[\"VALUENUM\"].to_list(), before_time)[0], spearmanr(before[\"VALUENUM\"].to_list(), before_time)[0]]\n",
    "                else:\n",
    "                    corr_b = 0\n",
    "                    good = False\n",
    "\n",
    "                if after.shape[0]>2:\n",
    "                    corr_a = [pearsonr(after[\"VALUENUM\"].to_list(), after_time)[0], spearmanr(after[\"VALUENUM\"].to_list(), after_time)[0]]\n",
    "                else:\n",
    "                    corr_a = 0\n",
    "                    good = False\n",
    "                \n",
    "                lab_med_patient_index[med][l][id] = {\n",
    "                    \"before\" : before,\n",
    "                    \"after\" : after,\n",
    "                    \"before_mean\": before[\"VALUENUM\"].dropna().mean(),\n",
    "                    \"after_mean\": after[\"VALUENUM\"].dropna().mean(),\n",
    "                    \"before_1\": before_1,\n",
    "                    \"after_1\": after_1,\n",
    "                    \"before_trend\" : corr_b,\n",
    "                    \"after_trend\": corr_a,\n",
    "                    \"good\": good,\n",
    "                }\n",
    "                \n",
    "                for i in range(1, before_days):\n",
    "                    r = before[before[\"temp1\"]<datetime.timedelta(days=i)]\n",
    "                    before_after_windows[med][l][\"before\"][id] = r[r[\"temp1\"]>datetime.timedelta(days=i-1)]\n",
    "                for i in range(1, before_days):\n",
    "                    y = after[after[\"temp2\"]<datetime.timedelta(days=i)]\n",
    "                    before_after_windows[med][l][\"after\"][id] = y[y[\"temp2\"]>datetime.timedelta(days=i)]"
   ]
  },
  {
   "cell_type": "code",
   "execution_count": 487,
   "metadata": {},
   "outputs": [
    {
     "data": {
      "text/plain": [
       "dict_keys([50813, 50893, 50820, 50882, 50868, 51275, 51237, 51274, 50802, 50804, 50818, 50902, 50821, 51222, 50823, 51221, 50801, 51006, 50826, 50983, 50819, 50816, 50971, 50970, 50960, 50931, 50912, 51248, 50810, 50809, 51143, 50956, 50862, 50885, 50863, 51498, 51491, 50911, 51301, 50981, 50811, 51144, 51255, 50822, 51249, 51250, 51265, 51277, 51279, 50954, 51251, 50808, 50910, 51146, 51256, 51254, 51244, 51516, 51200, 50825, 51059, 51054, 51053, 51046, 50806, 50824, 50878, 50861, 50993, 50994, 50935, 51010, 50815, 50817, 50998, 50952, 51288, 51003, 50889, 50867, 51493, 51482, 51476, 50963, 50883, 50884, 51283, 50924, 50953, 51007, 50852, 51478, 51514, 50967, 50803, 50964, 51214, 51497, 51501, 51492, 51484, 50908, 50805, 50814, 50915, 51078, 51093, 51100, 51097, 51104, 51082, 50925, 50905, 50903, 50904, 50907, 51000, 50957, 51008, 50917, 51009, 51479, 51434, 51436, 51438, 51439, 51025, 51431, 51427, 51034, 51043, 51035, 50866, 50922, 51014, 51018, 51351, 51355, 51360, 51362, 51363, 50856, 50909, 51102, 51105, 51099, 51457, 51458, 51448, 51450, 51455, 51447, 51453, 51051, 51302, 51379, 51369, 51384, 51382, 51383, 51375, 51446, 51428, 51429, 51026, 50986, 50951, 50950, 50949, 50930, 50976, 51257, 50995, 51463, 51422, 51419, 51445, 51444, 51259, 51148, 50906, 51344, 50831, 50927, 51284, 50843, 50835, 50849, 50842, 51125, 51120, 51127, 51116, 51117, 51111, 51128, 51118, 51269, 51263, 51047, 51052, 50980, 50900, 51060, 51218, 51196, 50966, 50836, 50838, 51077, 50841, 50974, 51300, 51245, 51194, 51181, 51180, 51176, 51133, 51132, 51131, 51130, 50965, 51069, 51070, 51212, 51138, 51139, 50890, 50891, 50899, 51209, 51297, 50996, 51088, 51001, 50990, 51343, 51273, 51271, 51140, 51471, 51232, 50864, 51124, 51028, 51347, 50946, 50881, 51114, 51123, 51352, 51095, 50892, 50978, 51072, 51073, 50929, 51441, 50895, 50896, 51005, 50945, 50997, 51119, 51357, 50973, 51084, 51354, 51276, 50869, 51299, 51298, 51206, 50988, 50982, 50894, 50914, 50853, 51015, 51529, 51110, 51065, 51064, 51063, 50958, 50926, 51467, 51223, 51227, 51226, 51224, 51513, 51199, 51115, 51385, 51049, 51076, 51112, 51517, 51430, 51272, 51270, 50968, 50969, 51440, 51433, 51062, 51061, 51108, 51094, 51067, 51087, 51045, 51032, 51229, 51507, 51386, 51366, 51442, 51068, 50898, 50992, 51358, 50850, 51345, 51356, 50989, 51228, 51435, 51289, 51387, 51122, 50934, 51452, 50840, 51449, 51376, 50991, 51494, 51225, 51241, 51454, 51377, 51368, 50844, 51203, 51208, 51202, 51012, 51437, 51432, 51348, 51023, 51019, 51022, 51024, 51381, 51041, 51398, 51404, 51406, 50961, 51515, 51036, 50921, 51150, 50916, 50877, 51353, 51109, 51106, 51080, 51081, 51101, 51488, 51044, 51160, 51164, 50847, 50837, 50848, 50839, 51066, 51168, 51210, 51489, 50865, 51204, 51205, 51162, 51175, 51174, 51163, 51359, 50851, 51042, 51027, 51030, 50962, 50972, 51409, 51011, 51380, 51029, 51040, 51020, 51361, 51185, 51186, 51456, 51240, 51050, 51057, 51058, 51048, 51365, 51280, 51281, 51346, 51149, 51126, 51031, 51121, 51364, 51038, 51443, 51113, 51496, 51039, 51367, 51170, 51169, 51166, 51165, 51037, 51188, 50947, 51508, 51451])"
      ]
     },
     "execution_count": 487,
     "metadata": {},
     "output_type": "execute_result"
    }
   ],
   "source": [
    "before_after_windows[225158].keys()"
   ]
  },
  {
   "cell_type": "code",
   "execution_count": 492,
   "metadata": {},
   "outputs": [
    {
     "name": "stdout",
     "output_type": "stream",
     "text": [
      "Before\n",
      "After\n"
     ]
    }
   ],
   "source": [
    "print(\"Before\")\n",
    "for i, v in before_after_windows[225158][51299][\"before\"].items():\n",
    "    if v.shape[0]>0:\n",
    "        print(v)\n",
    "print(\"After\")\n",
    "for i, v in before_after_windows[225158][51299][\"after\"].items():\n",
    "    if v.shape[0]>0:\n",
    "        print(v)\n"
   ]
  },
  {
   "cell_type": "code",
   "execution_count": 476,
   "metadata": {},
   "outputs": [],
   "source": [
    "import pickle\n",
    "res = \"/Volumes/GoogleDrive/My Drive/TAU/Code/DrugLab/results\"\n",
    "pickle.dump(lab_med_patient_index, open(os.path.join(data, \"mimiciii/1.4/preprocessed\", \"lab_med_patient_index.pkl\"), \"wb\"))\n",
    "pickle.dump(before_after_windows, open(os.path.join(data, \"mimiciii/1.4/preprocessed\", \"before_after_windows.pkl\"), \"wb\"))\n",
    "pickle.dump(lab_med_patient_index, open(os.path.join(data, \"mimiciii/1.4/preprocessed\", \"lab_med_patient_index.pkl\"), \"wb\"))"
   ]
  },
  {
   "cell_type": "code",
   "execution_count": 470,
   "metadata": {},
   "outputs": [
    {
     "data": {
      "text/plain": [
       "dict_keys([172327, 181600, 151584, 172627, 110278, 154266, 189494, 162268, 146736, 131354, 122900, 137094, 124871, 128103, 109997, 100783, 175977, 104086, 175538, 197658, 147320, 134301, 122483, 110640, 170727, 124568, 131911, 157400, 187958, 177571, 163354, 170132, 189154, 177337, 120658, 174608, 108509, 180652, 158288, 183598, 128104, 104034, 111023, 156374, 173124, 157772, 131721, 120741, 145236, 197736, 150751, 134632, 177693, 182068, 128986, 159064, 187267, 105240, 132590, 190444, 138914, 197930, 175372, 177932, 159501, 103208, 165493, 187469, 118847, 141825, 105952, 181004, 136709, 114567, 196486, 112449, 121157, 171132, 181218, 142551, 198439, 118584, 140303, 143434, 164262, 146761, 103925, 148967, 173792, 101440, 135942, 121274, 120640, 106452, 121747, 119086, 176070, 156794, 154914, 152121, 146226, 116667, 165588, 126879, 194126, 147635, 102558, 108420, 164711, 158816, 187345, 117004, 124194, 181085, 197042, 178480, 108679, 133316, 122217, 154571, 125157, 149712, 120002, 164062, 139830, 174610, 171350, 174905, 173990, 170308, 177410, 116204, 186278, 159846, 161507, 163369, 138881, 162179, 158892, 145495, 174657, 122062, 150649, 191090, 182947, 166577, 139505, 139281, 162409, 151132, 180682, 140731, 148278, 149077, 161682, 181173, 160946, 163628, 163254, 116274, 194532, 143309, 172356, 109900, 102212, 149883, 180714, 184220, 112220, 164104, 199834, 191473, 124993, 194362, 119371, 102207, 181092, 183695, 142652, 198252, 173453, 167649, 147125, 167986, 110184, 158404, 190569, 136264, 101272, 116624, 127912, 107578, 109686, 181201, 163195, 154554, 144643, 175627, 152773, 143544, 160462, 152632, 144940, 179591, 191052, 157049, 127622, 189155, 187971, 167794, 134653, 192262, 115022, 108859, 188200, 114358, 182179, 197117, 192277, 135465, 172789, 157806, 129942, 102944, 174942, 104475, 146593, 170760, 113335, 162378, 163314, 176395, 145035, 169927, 178197, 194095, 153207, 165163, 199387, 126109, 151996, 168704, 179002, 183047, 191315, 148749, 168682, 159176, 199609, 191660, 114190, 168578, 133555, 125056, 110115, 107379, 145928, 147442, 195950, 131251, 102299, 124686, 104697, 123667, 109175, 103556, 144314, 184118, 151305, 102563, 198706, 156791, 173879, 135732, 104647, 175391, 176658, 188204, 152478, 158054, 192644, 124503, 101853, 186693, 143130, 121604, 163295, 190818, 137240, 118641, 119455, 187921, 128842, 131733, 184784, 117430, 150879, 175541, 129616, 146616, 129244, 127985, 182254, 191829, 167366, 117632, 116550, 118754, 148825, 161927, 121812, 119356, 171603, 190715, 115672, 100010, 112287, 191996, 132627, 153856, 147122, 163308, 114573, 155024, 188375, 184409, 107622, 129391, 100779, 197979, 165330, 166523, 152315, 108451, 144794, 168404, 127628, 143855, 176132, 172304, 109679, 134678, 168113, 181382, 111288, 139203, 199577, 155261, 108386, 101322, 161200, 138831, 182845, 112090, 122930, 165552, 184464, 167095, 175402, 180458, 197407, 165472, 124378, 179904, 169304, 138040, 149366, 111417, 176516, 138213, 128775, 153098, 100336, 146419, 180402, 150097, 115924, 107946, 134661, 164091, 183448, 137552, 109566, 182695, 110984, 149131, 193593, 125334, 161969, 117413, 113989, 198779, 135779, 169328, 143167, 152063, 103226, 134091, 170397, 165054, 124048, 124664, 110614, 194641, 146452, 100960, 169885, 131754, 199728, 138802, 177043, 145790, 173707, 190711, 117218, 122631, 165689, 185823, 172521, 143133, 171805, 138915, 132850, 166536, 177637, 122223, 127483, 179059, 193989, 143803, 189479, 127294, 195159, 110258, 115910, 128232, 169845, 193046, 169033, 176910, 103584, 119425, 199608, 105911, 114547, 151300, 116259, 118713, 179678, 129275, 102994, 187118, 148116, 140228, 140197, 185021, 196271, 120029, 160572, 102283, 123885, 196314, 141075, 133222, 175157, 177960, 187411, 171128, 156550, 159944, 173285, 164810, 113307, 156020, 193207, 184690, 125352, 169253, 155030, 188704, 136050, 103543, 118921, 117526, 188354, 171695, 103374, 129619, 186366, 131613, 100621, 139953, 180398, 106339, 105351, 138623, 130563, 181156, 173812, 109056, 105572, 195182, 173613, 185539, 190187, 117033, 184927, 179323, 170206, 146594, 149767, 182790, 127691, 195501, 193603, 173851, 103901, 137057, 111403, 180630, 149248, 135295, 107019, 186431, 114996, 126111, 180914, 110194, 109127, 163782, 119591, 197656, 127282, 113770, 148137, 129645, 159143, 103933, 131359, 169240, 177082, 191878, 151088, 171827, 131928, 189478, 102997, 128598, 114424, 159840, 181990, 140377, 134830, 115690, 170894, 171816, 107460, 168015, 144997, 171334, 198184, 195615, 151973, 165005, 132911, 165719, 185944, 116242, 133525, 178472, 187968, 124508, 126663, 172502, 153448, 186557, 111143, 133587, 171051, 104084, 141538, 138477, 100271, 160002, 111573, 134740, 167570, 128117, 123311, 166187, 139340, 109698, 171674, 194799, 143007, 151526, 139161, 131186, 141566, 110652, 132153, 103713, 159574, 105849, 142693, 126561, 190319, 185610, 193610, 182936, 112629, 109661, 129955, 180337, 156743, 171753, 158351, 133098, 196200, 188721, 143678, 147813, 188278, 176063, 181337, 164514, 177881, 159692, 174983, 156408, 111224, 175544, 114047, 105199, 188508, 184330, 187278, 198538, 140920, 188368, 153331, 183343, 159518, 125851, 166504, 166184, 171086, 100583, 170704, 124453, 175365, 126213, 131608, 185353, 178559, 174243, 120269, 145207, 111972, 173305, 176144, 175744, 199366, 121709, 156024, 132029, 127924, 171971, 173019, 145356, 191962, 134857, 108228, 106446, 182008, 197261, 183527, 155370, 140266, 130062, 147952, 130348, 178671, 138277, 145443, 141900, 169935, 166336, 104834, 113931, 150534, 132443, 135812, 142487, 111840, 158989, 127249, 148773, 138100, 128042, 167385, 155695, 136717, 154483, 131741, 184380, 188420, 121515, 174161, 131840, 188969, 149484, 122267, 151319, 191814, 148255, 129743, 189945, 110738, 143580, 158157, 138614, 128342, 183530, 113461, 155573, 114752, 109875, 159967, 182623, 143319, 100977, 121681, 182422, 140547, 128315, 111375, 140242, 105132, 110899, 182698, 192726, 129923, 165181, 106889, 102230, 117513, 156733, 140335, 148777, 174034, 106871, 146115, 166355, 164879, 107977, 119215, 122498, 161033, 116901, 132374, 184389, 176208, 137513, 168827, 140977, 189219, 133081, 132389, 128899, 114178, 138308, 145282, 153570, 122218, 145993, 156500, 141689, 148726, 168656, 171878, 124343, 172620, 189517, 174033, 153534, 135561, 130870, 115686, 175201, 172079, 111563, 122104, 108429, 142151, 141304, 109643, 112152, 120923, 171018, 169232, 151366, 194938, 155875, 109577, 168951, 180006, 146704, 124551, 178436, 154097, 118076, 114580, 186410, 183487, 124556, 194032, 129273, 114126, 103061, 199811, 188038, 158944, 108370, 123618, 141605, 131878, 152274, 183203, 113587, 160129, 163265, 165101, 137245, 140961, 172407, 143054, 150533, 150704, 129109, 136581, 135028, 157955, 127963, 147018, 191001, 134831, 179633, 101906, 174384, 117896, 152085, 189167, 121979, 112602, 149005, 170377, 199383, 189180, 133139, 130300, 192620, 115477, 172974, 191374, 187950, 142927, 143533, 132664, 199725, 133011, 169062, 172472, 135770, 150155, 139485, 132152, 148266, 117620, 100943, 187772, 132518, 112662, 147496, 180565, 162818, 133162, 158050, 190635, 133904, 136659, 101125, 142052, 171069, 185212, 195754, 142822, 113045, 102539, 119652, 170495, 156340, 166993, 172717, 199334, 158549, 168693, 155347, 144226, 182222, 191165, 170779, 149795, 106939, 182380, 125657, 151118, 162715, 162468, 101824, 125435, 187540, 131434, 199803, 154743, 100606, 190388, 172002, 183757, 172850, 112014, 141571, 152416, 190910, 178444, 145657, 136918, 134713, 140140, 174343, 142643, 163525, 102724, 127997, 138868, 126815, 150600, 131910, 140281, 114446, 185179, 151592, 186635, 159115, 186985, 137056, 178080, 114812, 183764, 118799, 184020, 142427, 109804, 182660, 186996, 114866, 116802, 183318, 153267, 104680, 109302, 119210, 196673, 103937, 118339, 181443, 150720, 131902, 124624, 142089, 180253, 112342, 127579, 183271, 160024, 194278, 131171, 194379, 171135, 127805, 129547, 155542, 196761, 166978, 166312, 167905, 156527, 189581, 167139, 112952, 194640, 152801, 166117, 133633, 155466, 193254, 155715, 128524, 169894, 141068, 163710, 177768, 190602, 175502, 162441, 121387, 179764, 157385, 177321, 109770, 179455, 129425, 110867, 167199, 142531, 137750, 114785, 162453, 145946, 162617, 129684, 199393, 139283, 110559, 161350, 161290, 126367, 156000, 156099, 141387, 172466, 122561, 129772, 183205, 116612, 151071, 129467, 163645, 122672, 147681, 170348, 153036, 170154, 117918, 102408, 120889, 118091, 145660, 180665, 101342, 141651, 124583, 105858, 112475, 198762, 148883, 169649, 103009, 100361, 185750, 130513, 180007, 160965, 129444, 197778, 147286, 166696, 170387, 121662, 108803, 169280, 183391, 107122, 155985, 119867, 157974, 194386, 160439, 195958, 100764, 111391, 151488, 114477, 190574, 107448, 164269, 180874, 172553, 120255, 165474, 188297, 103928, 123483, 122570, 108174, 178019, 166969, 118597, 127198, 138376, 126378, 148075, 191665, 148762, 195890, 168470, 191978, 136176, 179954, 154530, 135101, 147564, 167200, 174737, 106585, 189821, 173199, 134308, 124482, 127164, 169976, 138964, 176918, 163919, 162559, 117029, 196705, 141509, 197531, 180726, 130855, 136099, 110630, 110926, 177427, 178765, 117202, 140367, 128666, 189288, 149656, 176974, 174191, 129917, 119174, 172102, 107720, 175392, 192600, 180861, 190261, 164098, 150548, 177317, 138823, 162289, 127665, 143829, 151489, 158752, 176399, 198412, 107766, 139228, 159867, 133986, 144919, 120759, 193076, 168505, 123732, 121846, 185567, 154148, 161257, 109752, 178021, 110319, 197869, 122961, 120396, 164163, 178373, 143537, 139565, 151696, 121237, 121706, 130896, 129556, 130000, 176866, 189346, 162587, 181115, 184199, 120994, 194340, 149216, 199812, 121902, 191907, 170125, 160011, 187493, 117384, 119226, 166410, 187893, 193576, 194549, 129353, 157689, 144855, 105248, 150588, 139787, 127230, 157527, 119543, 176653, 174074, 155885, 189300, 154538, 163365, 175020, 107605, 189751, 146207, 174918, 168295, 107414, 121292, 188176, 113858, 186079, 141667, 178813, 156883, 126534, 170826, 163626, 196735, 131525, 137761, 109368, 144435, 160654, 124500, 163063, 135280, 133237, 109478, 174760, 104326, 120853, 181806, 165367, 173513, 181697, 191151, 173683, 101051, 133416, 105189, 117448, 181913, 163658, 153679, 196517, 194500, 179517, 198959, 173136, 116027, 122926, 109739, 160996, 143354, 113085, 116756, 131328])"
      ]
     },
     "execution_count": 470,
     "metadata": {},
     "output_type": "execute_result"
    }
   ],
   "source": [
    "lab_med_patient_index[225158][50813].keys()"
   ]
  },
  {
   "cell_type": "code",
   "execution_count": 471,
   "metadata": {},
   "outputs": [
    {
     "data": {
      "text/plain": [
       "{'before':           ROW_ID_x  SUBJECT_ID   HADM_ID  ITEMID           CHARTTIME VALUE  \\\n",
       " 19304876  27708619       98606  131328.0   50813 2128-01-29 17:22:00   0.6   \n",
       " 19304877  27708757       98606  131328.0   50813 2128-01-31 11:16:00   1.3   \n",
       " 19304874  27708845       98606  131328.0   50813 2128-01-31 17:29:00   1.0   \n",
       " 19304875  27712489       98606  131328.0   50813 2128-04-20 09:56:00   0.9   \n",
       " \n",
       "           VALUENUM VALUEUOM FLAG  ROW_ID_y  ...  RELIGION MARITAL_STATUS  \\\n",
       " 19304876       0.6   mmol/L  NaN        14  ...  CATHOLIC        MARRIED   \n",
       " 19304877       1.3   mmol/L  NaN        14  ...  CATHOLIC        MARRIED   \n",
       " 19304874       1.0   mmol/L  NaN        14  ...  CATHOLIC        MARRIED   \n",
       " 19304875       0.9   mmol/L  NaN        14  ...  CATHOLIC        MARRIED   \n",
       " \n",
       "          ETHNICITY EDREGTIME  EDOUTTIME  \\\n",
       " 19304876     WHITE       NaN        NaN   \n",
       " 19304877     WHITE       NaN        NaN   \n",
       " 19304874     WHITE       NaN        NaN   \n",
       " 19304875     WHITE       NaN        NaN   \n",
       " \n",
       "                                               DIAGNOSIS HOSPITAL_EXPIRE_FLAG  \\\n",
       " 19304876  ACUTE MYELOID LEUKEMIA\\BONE MARROW TRANSPLANT                    1   \n",
       " 19304877  ACUTE MYELOID LEUKEMIA\\BONE MARROW TRANSPLANT                    1   \n",
       " 19304874  ACUTE MYELOID LEUKEMIA\\BONE MARROW TRANSPLANT                    1   \n",
       " 19304875  ACUTE MYELOID LEUKEMIA\\BONE MARROW TRANSPLANT                    1   \n",
       " \n",
       "          HAS_CHARTEVENTS_DATA LabTimeFromAdmit              temp1  \n",
       " 19304876                    1 15 days 05:49:00 -92 days +23:29:00  \n",
       " 19304877                    1 16 days 23:43:00 -90 days +17:23:00  \n",
       " 19304874                    1 17 days 05:56:00 -90 days +23:36:00  \n",
       " 19304875                    1 96 days 22:23:00 -10 days +16:03:00  \n",
       " \n",
       " [4 rows x 34 columns],\n",
       " 'after':           ROW_ID_x  SUBJECT_ID   HADM_ID  ITEMID           CHARTTIME VALUE  \\\n",
       " 19304882  27713027       98606  131328.0   50813 2128-04-30 08:48:00   5.6   \n",
       " 19304883  27713031       98606  131328.0   50813 2128-04-30 09:06:00  11.6   \n",
       " 19304884  27713036       98606  131328.0   50813 2128-04-30 13:32:00   4.9   \n",
       " \n",
       "           VALUENUM VALUEUOM      FLAG  ROW_ID_y  ... MARITAL_STATUS ETHNICITY  \\\n",
       " 19304882       5.6   mmol/L  abnormal        14  ...        MARRIED     WHITE   \n",
       " 19304883      11.6   mmol/L  abnormal        14  ...        MARRIED     WHITE   \n",
       " 19304884       4.9   mmol/L  abnormal        14  ...        MARRIED     WHITE   \n",
       " \n",
       "          EDREGTIME EDOUTTIME                                      DIAGNOSIS  \\\n",
       " 19304882       NaN       NaN  ACUTE MYELOID LEUKEMIA\\BONE MARROW TRANSPLANT   \n",
       " 19304883       NaN       NaN  ACUTE MYELOID LEUKEMIA\\BONE MARROW TRANSPLANT   \n",
       " 19304884       NaN       NaN  ACUTE MYELOID LEUKEMIA\\BONE MARROW TRANSPLANT   \n",
       " \n",
       "           HOSPITAL_EXPIRE_FLAG HAS_CHARTEVENTS_DATA  LabTimeFromAdmit  \\\n",
       " 19304882                     1                    1 106 days 21:15:00   \n",
       " 19304883                     1                    1 106 days 21:33:00   \n",
       " 19304884                     1                    1 107 days 01:59:00   \n",
       " \n",
       "                    temp1           temp2  \n",
       " 19304882 0 days 14:55:00 0 days 14:54:00  \n",
       " 19304883 0 days 15:13:00 0 days 15:12:00  \n",
       " 19304884 0 days 19:39:00 0 days 19:38:00  \n",
       " \n",
       " [3 rows x 35 columns],\n",
       " 'before_mean': 0.95,\n",
       " 'after_mean': 7.366666666666667,\n",
       " 'before_1': 0.6,\n",
       " 'after_1': 5.6,\n",
       " 'before_trend': [-0.09682020635636618, 0.19999999999999998],\n",
       " 'after_trend': [-0.5329742988135399, -0.5]}"
      ]
     },
     "execution_count": 471,
     "metadata": {},
     "output_type": "execute_result"
    }
   ],
   "source": [
    "lab_med_patient_index[225158][50813][131328]"
   ]
  },
  {
   "cell_type": "code",
   "execution_count": null,
   "metadata": {},
   "outputs": [],
   "source": []
  }
 ],
 "metadata": {
  "kernelspec": {
   "display_name": "Python 3.10.4 ('drug_lab')",
   "language": "python",
   "name": "python3"
  },
  "language_info": {
   "codemirror_mode": {
    "name": "ipython",
    "version": 3
   },
   "file_extension": ".py",
   "mimetype": "text/x-python",
   "name": "python",
   "nbconvert_exporter": "python",
   "pygments_lexer": "ipython3",
   "version": "3.10.4"
  },
  "orig_nbformat": 4,
  "vscode": {
   "interpreter": {
    "hash": "bdfae57a338f302dc1dcec357ac11e9f753ccc771aa1c4e860bf04580c454473"
   }
  }
 },
 "nbformat": 4,
 "nbformat_minor": 2
}
