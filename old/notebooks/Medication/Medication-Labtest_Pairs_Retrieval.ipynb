{
 "cells": [
  {
   "cell_type": "markdown",
   "metadata": {
    "id": "EdIZkE3vrGBA"
   },
   "source": [
    "# Medication-Labtest Pairs Retieval and T-Test P-values"
   ]
  },
  {
   "cell_type": "markdown",
   "metadata": {
    "id": "0yOlyupfETTu"
   },
   "source": [
    "## Import Libraries"
   ]
  },
  {
   "cell_type": "code",
   "execution_count": 1,
   "metadata": {
    "executionInfo": {
     "elapsed": 52,
     "status": "ok",
     "timestamp": 1655449230835,
     "user": {
      "displayName": "PAVAN KUMAR REDDY YANNAM",
      "userId": "18283848664285680593"
     },
     "user_tz": -330
    },
    "id": "G_uocHBXsR9u"
   },
   "outputs": [
    {
     "ename": "SyntaxError",
     "evalue": "invalid syntax (1721452156.py, line 5)",
     "output_type": "error",
     "traceback": [
      "\u001b[1;36m  Input \u001b[1;32mIn [1]\u001b[1;36m\u001b[0m\n\u001b[1;33m    from google-colab import stats\u001b[0m\n\u001b[1;37m               ^\u001b[0m\n\u001b[1;31mSyntaxError\u001b[0m\u001b[1;31m:\u001b[0m invalid syntax\n"
     ]
    }
   ],
   "source": [
    "import pandas as pd\n",
    "import datetime\n",
    "import numpy as np\n",
    "from scipy.stats import mannwhitneyu\n",
    "from google-colab import stats\n",
    "from tqdm import tqdm\n",
    "import os"
   ]
  },
  {
   "cell_type": "code",
   "execution_count": 2,
   "metadata": {},
   "outputs": [
    {
     "name": "stdout",
     "output_type": "stream",
     "text": [
      "Note: you may need to restart the kernel to use updated packages.\n"
     ]
    },
    {
     "name": "stderr",
     "output_type": "stream",
     "text": [
      "  ERROR: Command errored out with exit status 1:\n",
      "   command: 'C:\\Users\\danco\\anaconda3\\python.exe' -u -c 'import io, os, sys, setuptools, tokenize; sys.argv[0] = '\"'\"'C:\\\\Users\\\\danco\\\\AppData\\\\Local\\\\Temp\\\\pip-install-ffprc4m8\\\\pandas_0e397dacbc1148db9e2f4f30e299fab5\\\\setup.py'\"'\"'; __file__='\"'\"'C:\\\\Users\\\\danco\\\\AppData\\\\Local\\\\Temp\\\\pip-install-ffprc4m8\\\\pandas_0e397dacbc1148db9e2f4f30e299fab5\\\\setup.py'\"'\"';f = getattr(tokenize, '\"'\"'open'\"'\"', open)(__file__) if os.path.exists(__file__) else io.StringIO('\"'\"'from setuptools import setup; setup()'\"'\"');code = f.read().replace('\"'\"'\\r\\n'\"'\"', '\"'\"'\\n'\"'\"');f.close();exec(compile(code, __file__, '\"'\"'exec'\"'\"'))' bdist_wheel -d 'C:\\Users\\danco\\AppData\\Local\\Temp\\pip-wheel-loejcsq_'\n",
      "       cwd: C:\\Users\\danco\\AppData\\Local\\Temp\\pip-install-ffprc4m8\\pandas_0e397dacbc1148db9e2f4f30e299fab5\\\n",
      "  Complete output (843 lines):\n",
      "  C:\\Users\\danco\\AppData\\Local\\Temp\\pip-install-ffprc4m8\\pandas_0e397dacbc1148db9e2f4f30e299fab5\\setup.py:50: DeprecationWarning: distutils Version classes are deprecated. Use packaging.version instead.\n",
      "    _CYTHON_INSTALLED = ver >= LooseVersion(min_cython_ver)\n",
      "  running bdist_wheel\n",
      "  running build\n",
      "  running build_py\n",
      "  creating build\n",
      "  creating build\\lib.win-amd64-3.9\n",
      "  creating build\\lib.win-amd64-3.9\\pandas\n",
      "  copying pandas\\conftest.py -> build\\lib.win-amd64-3.9\\pandas\n",
      "  copying pandas\\testing.py -> build\\lib.win-amd64-3.9\\pandas\n",
      "  copying pandas\\_version.py -> build\\lib.win-amd64-3.9\\pandas\n",
      "  copying pandas\\__init__.py -> build\\lib.win-amd64-3.9\\pandas\n",
      "  creating build\\lib.win-amd64-3.9\\pandas\\api\n",
      "  copying pandas\\api\\__init__.py -> build\\lib.win-amd64-3.9\\pandas\\api\n",
      "  creating build\\lib.win-amd64-3.9\\pandas\\arrays\n",
      "  copying pandas\\arrays\\__init__.py -> build\\lib.win-amd64-3.9\\pandas\\arrays\n",
      "  creating build\\lib.win-amd64-3.9\\pandas\\compat\n",
      "  copying pandas\\compat\\chainmap.py -> build\\lib.win-amd64-3.9\\pandas\\compat\n",
      "  copying pandas\\compat\\chainmap_impl.py -> build\\lib.win-amd64-3.9\\pandas\\compat\n",
      "  copying pandas\\compat\\pickle_compat.py -> build\\lib.win-amd64-3.9\\pandas\\compat\n",
      "  copying pandas\\compat\\__init__.py -> build\\lib.win-amd64-3.9\\pandas\\compat\n",
      "  creating build\\lib.win-amd64-3.9\\pandas\\core\n",
      "  copying pandas\\core\\accessor.py -> build\\lib.win-amd64-3.9\\pandas\\core\n",
      "  copying pandas\\core\\algorithms.py -> build\\lib.win-amd64-3.9\\pandas\\core\n",
      "  copying pandas\\core\\api.py -> build\\lib.win-amd64-3.9\\pandas\\core\n",
      "  copying pandas\\core\\apply.py -> build\\lib.win-amd64-3.9\\pandas\\core\n",
      "  copying pandas\\core\\base.py -> build\\lib.win-amd64-3.9\\pandas\\core\n",
      "  copying pandas\\core\\categorical.py -> build\\lib.win-amd64-3.9\\pandas\\core\n",
      "  copying pandas\\core\\common.py -> build\\lib.win-amd64-3.9\\pandas\\core\n",
      "  copying pandas\\core\\config.py -> build\\lib.win-amd64-3.9\\pandas\\core\n",
      "  copying pandas\\core\\config_init.py -> build\\lib.win-amd64-3.9\\pandas\\core\n",
      "  copying pandas\\core\\frame.py -> build\\lib.win-amd64-3.9\\pandas\\core\n",
      "  copying pandas\\core\\generic.py -> build\\lib.win-amd64-3.9\\pandas\\core\n",
      "  copying pandas\\core\\index.py -> build\\lib.win-amd64-3.9\\pandas\\core\n",
      "  copying pandas\\core\\indexing.py -> build\\lib.win-amd64-3.9\\pandas\\core\n",
      "  copying pandas\\core\\missing.py -> build\\lib.win-amd64-3.9\\pandas\\core\n",
      "  copying pandas\\core\\nanops.py -> build\\lib.win-amd64-3.9\\pandas\\core\n",
      "  copying pandas\\core\\ops.py -> build\\lib.win-amd64-3.9\\pandas\\core\n"
     ]
    },
    {
     "name": "stdout",
     "output_type": "stream",
     "text": [
      "Collecting google-colab\n",
      "  Using cached google-colab-1.0.0.tar.gz (72 kB)\n",
      "Collecting google-auth~=1.4.0\n",
      "  Using cached google_auth-1.4.2-py2.py3-none-any.whl (64 kB)\n",
      "Collecting ipykernel~=4.6.0\n",
      "  Using cached ipykernel-4.6.1-py3-none-any.whl (104 kB)\n",
      "Collecting ipython~=5.5.0\n",
      "  Using cached ipython-5.5.0-py3-none-any.whl (758 kB)\n",
      "Collecting notebook~=5.2.0\n",
      "  Using cached notebook-5.2.2-py2.py3-none-any.whl (8.0 MB)\n",
      "Collecting six~=1.12.0\n",
      "  Using cached six-1.12.0-py2.py3-none-any.whl (10 kB)\n",
      "Collecting pandas~=0.24.0\n",
      "  Using cached pandas-0.24.2.tar.gz (11.8 MB)\n",
      "Collecting portpicker~=1.2.0\n",
      "  Using cached portpicker-1.2.0.tar.gz (17 kB)\n",
      "Collecting requests~=2.21.0\n",
      "  Using cached requests-2.21.0-py2.py3-none-any.whl (57 kB)\n",
      "Collecting tornado~=4.5.0\n",
      "  Using cached tornado-4.5.3.tar.gz (484 kB)\n",
      "Requirement already satisfied: cachetools>=2.0.0 in c:\\users\\danco\\anaconda3\\lib\\site-packages (from google-auth~=1.4.0->google-colab) (4.2.2)\n",
      "Requirement already satisfied: rsa>=3.1.4 in c:\\users\\danco\\anaconda3\\lib\\site-packages (from google-auth~=1.4.0->google-colab) (4.7.2)\n",
      "Requirement already satisfied: pyasn1-modules>=0.2.1 in c:\\users\\danco\\anaconda3\\lib\\site-packages (from google-auth~=1.4.0->google-colab) (0.2.8)\n",
      "Requirement already satisfied: traitlets>=4.1.0 in c:\\users\\danco\\anaconda3\\lib\\site-packages (from ipykernel~=4.6.0->google-colab) (5.1.1)\n",
      "Requirement already satisfied: jupyter-client in c:\\users\\danco\\anaconda3\\lib\\site-packages (from ipykernel~=4.6.0->google-colab) (6.1.12)\n",
      "Requirement already satisfied: colorama in c:\\users\\danco\\anaconda3\\lib\\site-packages (from ipython~=5.5.0->google-colab) (0.4.4)\n",
      "Collecting simplegeneric>0.8\n",
      "  Using cached simplegeneric-0.8.1.zip (12 kB)\n",
      "Requirement already satisfied: decorator in c:\\users\\danco\\anaconda3\\lib\\site-packages (from ipython~=5.5.0->google-colab) (5.1.1)\n",
      "Requirement already satisfied: pickleshare in c:\\users\\danco\\anaconda3\\lib\\site-packages (from ipython~=5.5.0->google-colab) (0.7.5)\n",
      "Requirement already satisfied: setuptools>=18.5 in c:\\users\\danco\\anaconda3\\lib\\site-packages (from ipython~=5.5.0->google-colab) (61.2.0)\n",
      "Requirement already satisfied: pygments in c:\\users\\danco\\anaconda3\\lib\\site-packages (from ipython~=5.5.0->google-colab) (2.11.2)\n",
      "Collecting prompt-toolkit<2.0.0,>=1.0.4\n",
      "  Using cached prompt_toolkit-1.0.18-py3-none-any.whl (245 kB)\n",
      "Requirement already satisfied: jinja2 in c:\\users\\danco\\anaconda3\\lib\\site-packages (from notebook~=5.2.0->google-colab) (2.11.3)\n",
      "Requirement already satisfied: nbconvert in c:\\users\\danco\\anaconda3\\lib\\site-packages (from notebook~=5.2.0->google-colab) (6.4.4)\n",
      "Requirement already satisfied: jupyter-core in c:\\users\\danco\\anaconda3\\lib\\site-packages (from notebook~=5.2.0->google-colab) (4.9.2)\n",
      "Requirement already satisfied: nbformat in c:\\users\\danco\\anaconda3\\lib\\site-packages (from notebook~=5.2.0->google-colab) (5.3.0)\n",
      "Requirement already satisfied: ipython-genutils in c:\\users\\danco\\anaconda3\\lib\\site-packages (from notebook~=5.2.0->google-colab) (0.2.0)\n",
      "Requirement already satisfied: python-dateutil>=2.5.0 in c:\\users\\danco\\anaconda3\\lib\\site-packages (from pandas~=0.24.0->google-colab) (2.8.2)\n",
      "Requirement already satisfied: pytz>=2011k in c:\\users\\danco\\anaconda3\\lib\\site-packages (from pandas~=0.24.0->google-colab) (2021.3)\n",
      "Requirement already satisfied: numpy>=1.12.0 in c:\\users\\danco\\anaconda3\\lib\\site-packages (from pandas~=0.24.0->google-colab) (1.21.5)\n",
      "Requirement already satisfied: wcwidth in c:\\users\\danco\\anaconda3\\lib\\site-packages (from prompt-toolkit<2.0.0,>=1.0.4->ipython~=5.5.0->google-colab) (0.2.5)\n",
      "Requirement already satisfied: pyasn1<0.5.0,>=0.4.6 in c:\\users\\danco\\anaconda3\\lib\\site-packages (from pyasn1-modules>=0.2.1->google-auth~=1.4.0->google-colab) (0.4.8)\n",
      "Collecting chardet<3.1.0,>=3.0.2\n",
      "  Using cached chardet-3.0.4-py2.py3-none-any.whl (133 kB)\n",
      "Requirement already satisfied: certifi>=2017.4.17 in c:\\users\\danco\\anaconda3\\lib\\site-packages (from requests~=2.21.0->google-colab) (2021.10.8)\n",
      "Collecting idna<2.9,>=2.5\n",
      "  Using cached idna-2.8-py2.py3-none-any.whl (58 kB)\n",
      "Collecting urllib3<1.25,>=1.21.1\n",
      "  Using cached urllib3-1.24.3-py2.py3-none-any.whl (118 kB)\n",
      "Requirement already satisfied: MarkupSafe>=0.23 in c:\\users\\danco\\anaconda3\\lib\\site-packages (from jinja2->notebook~=5.2.0->google-colab) (2.0.1)\n",
      "Requirement already satisfied: pyzmq>=13 in c:\\users\\danco\\anaconda3\\lib\\site-packages (from jupyter-client->ipykernel~=4.6.0->google-colab) (22.3.0)\n",
      "Requirement already satisfied: pywin32>=1.0 in c:\\users\\danco\\anaconda3\\lib\\site-packages (from jupyter-core->notebook~=5.2.0->google-colab) (302)\n",
      "Requirement already satisfied: bleach in c:\\users\\danco\\anaconda3\\lib\\site-packages (from nbconvert->notebook~=5.2.0->google-colab) (4.1.0)\n",
      "Requirement already satisfied: entrypoints>=0.2.2 in c:\\users\\danco\\anaconda3\\lib\\site-packages (from nbconvert->notebook~=5.2.0->google-colab) (0.4)\n",
      "Requirement already satisfied: pandocfilters>=1.4.1 in c:\\users\\danco\\anaconda3\\lib\\site-packages (from nbconvert->notebook~=5.2.0->google-colab) (1.5.0)\n",
      "Requirement already satisfied: testpath in c:\\users\\danco\\anaconda3\\lib\\site-packages (from nbconvert->notebook~=5.2.0->google-colab) (0.5.0)\n",
      "Requirement already satisfied: mistune<2,>=0.8.1 in c:\\users\\danco\\anaconda3\\lib\\site-packages (from nbconvert->notebook~=5.2.0->google-colab) (0.8.4)\n",
      "Requirement already satisfied: nbclient<0.6.0,>=0.5.0 in c:\\users\\danco\\anaconda3\\lib\\site-packages (from nbconvert->notebook~=5.2.0->google-colab) (0.5.13)\n",
      "Requirement already satisfied: beautifulsoup4 in c:\\users\\danco\\anaconda3\\lib\\site-packages (from nbconvert->notebook~=5.2.0->google-colab) (4.11.1)\n",
      "Requirement already satisfied: jupyterlab-pygments in c:\\users\\danco\\anaconda3\\lib\\site-packages (from nbconvert->notebook~=5.2.0->google-colab) (0.1.2)\n",
      "Requirement already satisfied: defusedxml in c:\\users\\danco\\anaconda3\\lib\\site-packages (from nbconvert->notebook~=5.2.0->google-colab) (0.7.1)\n",
      "Requirement already satisfied: nest-asyncio in c:\\users\\danco\\anaconda3\\lib\\site-packages (from nbclient<0.6.0,>=0.5.0->nbconvert->notebook~=5.2.0->google-colab) (1.5.5)\n",
      "Requirement already satisfied: jsonschema>=2.6 in c:\\users\\danco\\anaconda3\\lib\\site-packages (from nbformat->notebook~=5.2.0->google-colab) (4.4.0)\n",
      "Requirement already satisfied: fastjsonschema in c:\\users\\danco\\anaconda3\\lib\\site-packages (from nbformat->notebook~=5.2.0->google-colab) (2.15.1)\n",
      "Requirement already satisfied: pyrsistent!=0.17.0,!=0.17.1,!=0.17.2,>=0.14.0 in c:\\users\\danco\\anaconda3\\lib\\site-packages (from jsonschema>=2.6->nbformat->notebook~=5.2.0->google-colab) (0.18.0)\n",
      "Requirement already satisfied: attrs>=17.4.0 in c:\\users\\danco\\anaconda3\\lib\\site-packages (from jsonschema>=2.6->nbformat->notebook~=5.2.0->google-colab) (21.4.0)\n",
      "Requirement already satisfied: soupsieve>1.2 in c:\\users\\danco\\anaconda3\\lib\\site-packages (from beautifulsoup4->nbconvert->notebook~=5.2.0->google-colab) (2.3.1)\n",
      "Requirement already satisfied: packaging in c:\\users\\danco\\anaconda3\\lib\\site-packages (from bleach->nbconvert->notebook~=5.2.0->google-colab) (21.3)\n",
      "Requirement already satisfied: webencodings in c:\\users\\danco\\anaconda3\\lib\\site-packages (from bleach->nbconvert->notebook~=5.2.0->google-colab) (0.5.1)\n",
      "Requirement already satisfied: pyparsing!=3.0.5,>=2.0.2 in c:\\users\\danco\\anaconda3\\lib\\site-packages (from packaging->bleach->nbconvert->notebook~=5.2.0->google-colab) (3.0.4)\n",
      "Building wheels for collected packages: google-colab, pandas, portpicker, simplegeneric, tornado"
     ]
    },
    {
     "name": "stderr",
     "output_type": "stream",
     "text": [
      "  copying pandas\\core\\panel.py -> build\\lib.win-amd64-3.9\\pandas\\core\n",
      "  copying pandas\\core\\resample.py -> build\\lib.win-amd64-3.9\\pandas\\core\n",
      "  copying pandas\\core\\series.py -> build\\lib.win-amd64-3.9\\pandas\\core\n",
      "  copying pandas\\core\\sorting.py -> build\\lib.win-amd64-3.9\\pandas\\core\n",
      "  copying pandas\\core\\strings.py -> build\\lib.win-amd64-3.9\\pandas\\core\n",
      "  copying pandas\\core\\window.py -> build\\lib.win-amd64-3.9\\pandas\\core\n",
      "  copying pandas\\core\\__init__.py -> build\\lib.win-amd64-3.9\\pandas\\core\n",
      "  creating build\\lib.win-amd64-3.9\\pandas\\errors\n",
      "  copying pandas\\errors\\__init__.py -> build\\lib.win-amd64-3.9\\pandas\\errors\n",
      "  creating build\\lib.win-amd64-3.9\\pandas\\io\n",
      "  copying pandas\\io\\api.py -> build\\lib.win-amd64-3.9\\pandas\\io\n",
      "  copying pandas\\io\\clipboards.py -> build\\lib.win-amd64-3.9\\pandas\\io\n",
      "  copying pandas\\io\\common.py -> build\\lib.win-amd64-3.9\\pandas\\io\n",
      "  copying pandas\\io\\date_converters.py -> build\\lib.win-amd64-3.9\\pandas\\io\n",
      "  copying pandas\\io\\excel.py -> build\\lib.win-amd64-3.9\\pandas\\io\n",
      "  copying pandas\\io\\feather_format.py -> build\\lib.win-amd64-3.9\\pandas\\io\n",
      "  copying pandas\\io\\gbq.py -> build\\lib.win-amd64-3.9\\pandas\\io\n",
      "  copying pandas\\io\\gcs.py -> build\\lib.win-amd64-3.9\\pandas\\io\n",
      "  copying pandas\\io\\html.py -> build\\lib.win-amd64-3.9\\pandas\\io\n",
      "  copying pandas\\io\\packers.py -> build\\lib.win-amd64-3.9\\pandas\\io\n",
      "  copying pandas\\io\\parquet.py -> build\\lib.win-amd64-3.9\\pandas\\io\n",
      "  copying pandas\\io\\parsers.py -> build\\lib.win-amd64-3.9\\pandas\\io\n",
      "  copying pandas\\io\\pickle.py -> build\\lib.win-amd64-3.9\\pandas\\io\n",
      "  copying pandas\\io\\pytables.py -> build\\lib.win-amd64-3.9\\pandas\\io\n",
      "  copying pandas\\io\\s3.py -> build\\lib.win-amd64-3.9\\pandas\\io\n",
      "  copying pandas\\io\\sql.py -> build\\lib.win-amd64-3.9\\pandas\\io\n",
      "  copying pandas\\io\\stata.py -> build\\lib.win-amd64-3.9\\pandas\\io\n",
      "  copying pandas\\io\\__init__.py -> build\\lib.win-amd64-3.9\\pandas\\io\n",
      "  creating build\\lib.win-amd64-3.9\\pandas\\plotting\n",
      "  copying pandas\\plotting\\_compat.py -> build\\lib.win-amd64-3.9\\pandas\\plotting\n",
      "  copying pandas\\plotting\\_converter.py -> build\\lib.win-amd64-3.9\\pandas\\plotting\n",
      "  copying pandas\\plotting\\_core.py -> build\\lib.win-amd64-3.9\\pandas\\plotting\n",
      "  copying pandas\\plotting\\_misc.py -> build\\lib.win-amd64-3.9\\pandas\\plotting\n",
      "  copying pandas\\plotting\\_style.py -> build\\lib.win-amd64-3.9\\pandas\\plotting\n",
      "  copying pandas\\plotting\\_timeseries.py -> build\\lib.win-amd64-3.9\\pandas\\plotting\n",
      "  copying pandas\\plotting\\_tools.py -> build\\lib.win-amd64-3.9\\pandas\\plotting\n",
      "  copying pandas\\plotting\\__init__.py -> build\\lib.win-amd64-3.9\\pandas\\plotting\n",
      "  creating build\\lib.win-amd64-3.9\\pandas\\tests\n",
      "  copying pandas\\tests\\test_algos.py -> build\\lib.win-amd64-3.9\\pandas\\tests\n",
      "  copying pandas\\tests\\test_base.py -> build\\lib.win-amd64-3.9\\pandas\\tests\n",
      "  copying pandas\\tests\\test_common.py -> build\\lib.win-amd64-3.9\\pandas\\tests\n",
      "  copying pandas\\tests\\test_compat.py -> build\\lib.win-amd64-3.9\\pandas\\tests\n",
      "  copying pandas\\tests\\test_config.py -> build\\lib.win-amd64-3.9\\pandas\\tests\n",
      "  copying pandas\\tests\\test_downstream.py -> build\\lib.win-amd64-3.9\\pandas\\tests\n",
      "  copying pandas\\tests\\test_errors.py -> build\\lib.win-amd64-3.9\\pandas\\tests\n",
      "  copying pandas\\tests\\test_expressions.py -> build\\lib.win-amd64-3.9\\pandas\\tests\n",
      "  copying pandas\\tests\\test_join.py -> build\\lib.win-amd64-3.9\\pandas\\tests\n",
      "  copying pandas\\tests\\test_lib.py -> build\\lib.win-amd64-3.9\\pandas\\tests\n",
      "  copying pandas\\tests\\test_multilevel.py -> build\\lib.win-amd64-3.9\\pandas\\tests\n",
      "  copying pandas\\tests\\test_nanops.py -> build\\lib.win-amd64-3.9\\pandas\\tests\n",
      "  copying pandas\\tests\\test_panel.py -> build\\lib.win-amd64-3.9\\pandas\\tests\n",
      "  copying pandas\\tests\\test_register_accessor.py -> build\\lib.win-amd64-3.9\\pandas\\tests\n",
      "  copying pandas\\tests\\test_sorting.py -> build\\lib.win-amd64-3.9\\pandas\\tests\n",
      "  copying pandas\\tests\\test_strings.py -> build\\lib.win-amd64-3.9\\pandas\\tests\n",
      "  copying pandas\\tests\\test_take.py -> build\\lib.win-amd64-3.9\\pandas\\tests\n",
      "  copying pandas\\tests\\test_window.py -> build\\lib.win-amd64-3.9\\pandas\\tests\n",
      "  copying pandas\\tests\\__init__.py -> build\\lib.win-amd64-3.9\\pandas\\tests\n",
      "  creating build\\lib.win-amd64-3.9\\pandas\\tseries\n",
      "  copying pandas\\tseries\\api.py -> build\\lib.win-amd64-3.9\\pandas\\tseries\n",
      "  copying pandas\\tseries\\converter.py -> build\\lib.win-amd64-3.9\\pandas\\tseries\n",
      "  copying pandas\\tseries\\frequencies.py -> build\\lib.win-amd64-3.9\\pandas\\tseries\n",
      "  copying pandas\\tseries\\holiday.py -> build\\lib.win-amd64-3.9\\pandas\\tseries\n",
      "  copying pandas\\tseries\\offsets.py -> build\\lib.win-amd64-3.9\\pandas\\tseries\n",
      "  copying pandas\\tseries\\plotting.py -> build\\lib.win-amd64-3.9\\pandas\\tseries\n",
      "  copying pandas\\tseries\\__init__.py -> build\\lib.win-amd64-3.9\\pandas\\tseries\n",
      "  creating build\\lib.win-amd64-3.9\\pandas\\util\n",
      "  copying pandas\\util\\testing.py -> build\\lib.win-amd64-3.9\\pandas\\util\n",
      "  copying pandas\\util\\_decorators.py -> build\\lib.win-amd64-3.9\\pandas\\util\n",
      "  copying pandas\\util\\_depr_module.py -> build\\lib.win-amd64-3.9\\pandas\\util\n",
      "  copying pandas\\util\\_doctools.py -> build\\lib.win-amd64-3.9\\pandas\\util\n",
      "  copying pandas\\util\\_exceptions.py -> build\\lib.win-amd64-3.9\\pandas\\util\n",
      "  copying pandas\\util\\_print_versions.py -> build\\lib.win-amd64-3.9\\pandas\\util\n",
      "  copying pandas\\util\\_tester.py -> build\\lib.win-amd64-3.9\\pandas\\util\n",
      "  copying pandas\\util\\_test_decorators.py -> build\\lib.win-amd64-3.9\\pandas\\util\n",
      "  copying pandas\\util\\_validators.py -> build\\lib.win-amd64-3.9\\pandas\\util\n",
      "  copying pandas\\util\\__init__.py -> build\\lib.win-amd64-3.9\\pandas\\util\n",
      "  creating build\\lib.win-amd64-3.9\\pandas\\_libs\n",
      "  copying pandas\\_libs\\__init__.py -> build\\lib.win-amd64-3.9\\pandas\\_libs\n",
      "  creating build\\lib.win-amd64-3.9\\pandas\\api\\extensions\n",
      "  copying pandas\\api\\extensions\\__init__.py -> build\\lib.win-amd64-3.9\\pandas\\api\\extensions\n",
      "  creating build\\lib.win-amd64-3.9\\pandas\\api\\types\n",
      "  copying pandas\\api\\types\\__init__.py -> build\\lib.win-amd64-3.9\\pandas\\api\\types\n",
      "  creating build\\lib.win-amd64-3.9\\pandas\\compat\\numpy\n",
      "  copying pandas\\compat\\numpy\\function.py -> build\\lib.win-amd64-3.9\\pandas\\compat\\numpy\n",
      "  copying pandas\\compat\\numpy\\__init__.py -> build\\lib.win-amd64-3.9\\pandas\\compat\\numpy\n",
      "  creating build\\lib.win-amd64-3.9\\pandas\\core\\arrays\n",
      "  copying pandas\\core\\arrays\\array_.py -> build\\lib.win-amd64-3.9\\pandas\\core\\arrays\n",
      "  copying pandas\\core\\arrays\\base.py -> build\\lib.win-amd64-3.9\\pandas\\core\\arrays\n",
      "  copying pandas\\core\\arrays\\categorical.py -> build\\lib.win-amd64-3.9\\pandas\\core\\arrays\n",
      "  copying pandas\\core\\arrays\\datetimelike.py -> build\\lib.win-amd64-3.9\\pandas\\core\\arrays\n",
      "  copying pandas\\core\\arrays\\datetimes.py -> build\\lib.win-amd64-3.9\\pandas\\core\\arrays\n",
      "  copying pandas\\core\\arrays\\integer.py -> build\\lib.win-amd64-3.9\\pandas\\core\\arrays\n",
      "  copying pandas\\core\\arrays\\interval.py -> build\\lib.win-amd64-3.9\\pandas\\core\\arrays\n",
      "  copying pandas\\core\\arrays\\numpy_.py -> build\\lib.win-amd64-3.9\\pandas\\core\\arrays\n",
      "  copying pandas\\core\\arrays\\period.py -> build\\lib.win-amd64-3.9\\pandas\\core\\arrays\n",
      "  copying pandas\\core\\arrays\\sparse.py -> build\\lib.win-amd64-3.9\\pandas\\core\\arrays\n",
      "  copying pandas\\core\\arrays\\timedeltas.py -> build\\lib.win-amd64-3.9\\pandas\\core\\arrays\n",
      "  copying pandas\\core\\arrays\\_ranges.py -> build\\lib.win-amd64-3.9\\pandas\\core\\arrays\n",
      "  copying pandas\\core\\arrays\\__init__.py -> build\\lib.win-amd64-3.9\\pandas\\core\\arrays\n",
      "  creating build\\lib.win-amd64-3.9\\pandas\\core\\computation\n",
      "  copying pandas\\core\\computation\\align.py -> build\\lib.win-amd64-3.9\\pandas\\core\\computation\n",
      "  copying pandas\\core\\computation\\api.py -> build\\lib.win-amd64-3.9\\pandas\\core\\computation\n",
      "  copying pandas\\core\\computation\\check.py -> build\\lib.win-amd64-3.9\\pandas\\core\\computation\n",
      "  copying pandas\\core\\computation\\common.py -> build\\lib.win-amd64-3.9\\pandas\\core\\computation\n",
      "  copying pandas\\core\\computation\\engines.py -> build\\lib.win-amd64-3.9\\pandas\\core\\computation\n",
      "  copying pandas\\core\\computation\\eval.py -> build\\lib.win-amd64-3.9\\pandas\\core\\computation\n",
      "  copying pandas\\core\\computation\\expr.py -> build\\lib.win-amd64-3.9\\pandas\\core\\computation\n",
      "  copying pandas\\core\\computation\\expressions.py -> build\\lib.win-amd64-3.9\\pandas\\core\\computation\n",
      "  copying pandas\\core\\computation\\ops.py -> build\\lib.win-amd64-3.9\\pandas\\core\\computation\n",
      "  copying pandas\\core\\computation\\pytables.py -> build\\lib.win-amd64-3.9\\pandas\\core\\computation\n",
      "  copying pandas\\core\\computation\\scope.py -> build\\lib.win-amd64-3.9\\pandas\\core\\computation\n",
      "  copying pandas\\core\\computation\\__init__.py -> build\\lib.win-amd64-3.9\\pandas\\core\\computation\n",
      "  creating build\\lib.win-amd64-3.9\\pandas\\core\\dtypes\n",
      "  copying pandas\\core\\dtypes\\api.py -> build\\lib.win-amd64-3.9\\pandas\\core\\dtypes\n",
      "  copying pandas\\core\\dtypes\\base.py -> build\\lib.win-amd64-3.9\\pandas\\core\\dtypes\n",
      "  copying pandas\\core\\dtypes\\cast.py -> build\\lib.win-amd64-3.9\\pandas\\core\\dtypes\n",
      "  copying pandas\\core\\dtypes\\common.py -> build\\lib.win-amd64-3.9\\pandas\\core\\dtypes\n",
      "  copying pandas\\core\\dtypes\\concat.py -> build\\lib.win-amd64-3.9\\pandas\\core\\dtypes\n",
      "  copying pandas\\core\\dtypes\\dtypes.py -> build\\lib.win-amd64-3.9\\pandas\\core\\dtypes\n",
      "  copying pandas\\core\\dtypes\\generic.py -> build\\lib.win-amd64-3.9\\pandas\\core\\dtypes\n",
      "  copying pandas\\core\\dtypes\\inference.py -> build\\lib.win-amd64-3.9\\pandas\\core\\dtypes\n",
      "  copying pandas\\core\\dtypes\\missing.py -> build\\lib.win-amd64-3.9\\pandas\\core\\dtypes\n",
      "  copying pandas\\core\\dtypes\\__init__.py -> build\\lib.win-amd64-3.9\\pandas\\core\\dtypes\n",
      "  creating build\\lib.win-amd64-3.9\\pandas\\core\\groupby\n",
      "  copying pandas\\core\\groupby\\base.py -> build\\lib.win-amd64-3.9\\pandas\\core\\groupby\n",
      "  copying pandas\\core\\groupby\\categorical.py -> build\\lib.win-amd64-3.9\\pandas\\core\\groupby\n",
      "  copying pandas\\core\\groupby\\generic.py -> build\\lib.win-amd64-3.9\\pandas\\core\\groupby\n",
      "  copying pandas\\core\\groupby\\groupby.py -> build\\lib.win-amd64-3.9\\pandas\\core\\groupby\n",
      "  copying pandas\\core\\groupby\\grouper.py -> build\\lib.win-amd64-3.9\\pandas\\core\\groupby\n",
      "  copying pandas\\core\\groupby\\ops.py -> build\\lib.win-amd64-3.9\\pandas\\core\\groupby\n",
      "  copying pandas\\core\\groupby\\__init__.py -> build\\lib.win-amd64-3.9\\pandas\\core\\groupby\n",
      "  creating build\\lib.win-amd64-3.9\\pandas\\core\\indexes\n",
      "  copying pandas\\core\\indexes\\accessors.py -> build\\lib.win-amd64-3.9\\pandas\\core\\indexes\n",
      "  copying pandas\\core\\indexes\\api.py -> build\\lib.win-amd64-3.9\\pandas\\core\\indexes\n",
      "  copying pandas\\core\\indexes\\base.py -> build\\lib.win-amd64-3.9\\pandas\\core\\indexes\n",
      "  copying pandas\\core\\indexes\\category.py -> build\\lib.win-amd64-3.9\\pandas\\core\\indexes\n",
      "  copying pandas\\core\\indexes\\datetimelike.py -> build\\lib.win-amd64-3.9\\pandas\\core\\indexes\n",
      "  copying pandas\\core\\indexes\\datetimes.py -> build\\lib.win-amd64-3.9\\pandas\\core\\indexes\n",
      "  copying pandas\\core\\indexes\\frozen.py -> build\\lib.win-amd64-3.9\\pandas\\core\\indexes\n",
      "  copying pandas\\core\\indexes\\interval.py -> build\\lib.win-amd64-3.9\\pandas\\core\\indexes\n",
      "  copying pandas\\core\\indexes\\multi.py -> build\\lib.win-amd64-3.9\\pandas\\core\\indexes\n",
      "  copying pandas\\core\\indexes\\numeric.py -> build\\lib.win-amd64-3.9\\pandas\\core\\indexes\n",
      "  copying pandas\\core\\indexes\\period.py -> build\\lib.win-amd64-3.9\\pandas\\core\\indexes\n",
      "  copying pandas\\core\\indexes\\range.py -> build\\lib.win-amd64-3.9\\pandas\\core\\indexes\n",
      "  copying pandas\\core\\indexes\\timedeltas.py -> build\\lib.win-amd64-3.9\\pandas\\core\\indexes\n",
      "  copying pandas\\core\\indexes\\__init__.py -> build\\lib.win-amd64-3.9\\pandas\\core\\indexes\n",
      "  creating build\\lib.win-amd64-3.9\\pandas\\core\\internals\n",
      "  copying pandas\\core\\internals\\arrays.py -> build\\lib.win-amd64-3.9\\pandas\\core\\internals\n",
      "  copying pandas\\core\\internals\\blocks.py -> build\\lib.win-amd64-3.9\\pandas\\core\\internals\n",
      "  copying pandas\\core\\internals\\concat.py -> build\\lib.win-amd64-3.9\\pandas\\core\\internals\n",
      "  copying pandas\\core\\internals\\construction.py -> build\\lib.win-amd64-3.9\\pandas\\core\\internals\n",
      "  copying pandas\\core\\internals\\managers.py -> build\\lib.win-amd64-3.9\\pandas\\core\\internals\n",
      "  copying pandas\\core\\internals\\__init__.py -> build\\lib.win-amd64-3.9\\pandas\\core\\internals\n",
      "  creating build\\lib.win-amd64-3.9\\pandas\\core\\reshape\n",
      "  copying pandas\\core\\reshape\\api.py -> build\\lib.win-amd64-3.9\\pandas\\core\\reshape\n",
      "  copying pandas\\core\\reshape\\concat.py -> build\\lib.win-amd64-3.9\\pandas\\core\\reshape\n",
      "  copying pandas\\core\\reshape\\melt.py -> build\\lib.win-amd64-3.9\\pandas\\core\\reshape\n",
      "  copying pandas\\core\\reshape\\merge.py -> build\\lib.win-amd64-3.9\\pandas\\core\\reshape\n",
      "  copying pandas\\core\\reshape\\pivot.py -> build\\lib.win-amd64-3.9\\pandas\\core\\reshape\n",
      "  copying pandas\\core\\reshape\\reshape.py -> build\\lib.win-amd64-3.9\\pandas\\core\\reshape\n",
      "  copying pandas\\core\\reshape\\tile.py -> build\\lib.win-amd64-3.9\\pandas\\core\\reshape\n",
      "  copying pandas\\core\\reshape\\util.py -> build\\lib.win-amd64-3.9\\pandas\\core\\reshape\n",
      "  copying pandas\\core\\reshape\\__init__.py -> build\\lib.win-amd64-3.9\\pandas\\core\\reshape\n",
      "  creating build\\lib.win-amd64-3.9\\pandas\\core\\sparse\n",
      "  copying pandas\\core\\sparse\\api.py -> build\\lib.win-amd64-3.9\\pandas\\core\\sparse\n",
      "  copying pandas\\core\\sparse\\frame.py -> build\\lib.win-amd64-3.9\\pandas\\core\\sparse\n",
      "  copying pandas\\core\\sparse\\scipy_sparse.py -> build\\lib.win-amd64-3.9\\pandas\\core\\sparse\n",
      "  copying pandas\\core\\sparse\\series.py -> build\\lib.win-amd64-3.9\\pandas\\core\\sparse\n",
      "  copying pandas\\core\\sparse\\__init__.py -> build\\lib.win-amd64-3.9\\pandas\\core\\sparse\n",
      "  creating build\\lib.win-amd64-3.9\\pandas\\core\\tools\n",
      "  copying pandas\\core\\tools\\datetimes.py -> build\\lib.win-amd64-3.9\\pandas\\core\\tools\n",
      "  copying pandas\\core\\tools\\numeric.py -> build\\lib.win-amd64-3.9\\pandas\\core\\tools\n",
      "  copying pandas\\core\\tools\\timedeltas.py -> build\\lib.win-amd64-3.9\\pandas\\core\\tools\n",
      "  copying pandas\\core\\tools\\__init__.py -> build\\lib.win-amd64-3.9\\pandas\\core\\tools\n",
      "  creating build\\lib.win-amd64-3.9\\pandas\\core\\util\n",
      "  copying pandas\\core\\util\\hashing.py -> build\\lib.win-amd64-3.9\\pandas\\core\\util\n",
      "  copying pandas\\core\\util\\__init__.py -> build\\lib.win-amd64-3.9\\pandas\\core\\util\n",
      "  creating build\\lib.win-amd64-3.9\\pandas\\io\\clipboard\n",
      "  copying pandas\\io\\clipboard\\clipboards.py -> build\\lib.win-amd64-3.9\\pandas\\io\\clipboard\n",
      "  copying pandas\\io\\clipboard\\exceptions.py -> build\\lib.win-amd64-3.9\\pandas\\io\\clipboard\n",
      "  copying pandas\\io\\clipboard\\windows.py -> build\\lib.win-amd64-3.9\\pandas\\io\\clipboard\n",
      "  copying pandas\\io\\clipboard\\__init__.py -> build\\lib.win-amd64-3.9\\pandas\\io\\clipboard\n",
      "  creating build\\lib.win-amd64-3.9\\pandas\\io\\formats\n",
      "  copying pandas\\io\\formats\\console.py -> build\\lib.win-amd64-3.9\\pandas\\io\\formats\n",
      "  copying pandas\\io\\formats\\css.py -> build\\lib.win-amd64-3.9\\pandas\\io\\formats\n",
      "  copying pandas\\io\\formats\\csvs.py -> build\\lib.win-amd64-3.9\\pandas\\io\\formats\n",
      "  copying pandas\\io\\formats\\excel.py -> build\\lib.win-amd64-3.9\\pandas\\io\\formats\n",
      "  copying pandas\\io\\formats\\format.py -> build\\lib.win-amd64-3.9\\pandas\\io\\formats\n",
      "  copying pandas\\io\\formats\\html.py -> build\\lib.win-amd64-3.9\\pandas\\io\\formats\n",
      "  copying pandas\\io\\formats\\latex.py -> build\\lib.win-amd64-3.9\\pandas\\io\\formats\n",
      "  copying pandas\\io\\formats\\printing.py -> build\\lib.win-amd64-3.9\\pandas\\io\\formats\n",
      "  copying pandas\\io\\formats\\style.py -> build\\lib.win-amd64-3.9\\pandas\\io\\formats\n",
      "  copying pandas\\io\\formats\\terminal.py -> build\\lib.win-amd64-3.9\\pandas\\io\\formats\n",
      "  copying pandas\\io\\formats\\__init__.py -> build\\lib.win-amd64-3.9\\pandas\\io\\formats\n",
      "  creating build\\lib.win-amd64-3.9\\pandas\\io\\json\n",
      "  copying pandas\\io\\json\\json.py -> build\\lib.win-amd64-3.9\\pandas\\io\\json\n",
      "  copying pandas\\io\\json\\normalize.py -> build\\lib.win-amd64-3.9\\pandas\\io\\json\n",
      "  copying pandas\\io\\json\\table_schema.py -> build\\lib.win-amd64-3.9\\pandas\\io\\json\n",
      "  copying pandas\\io\\json\\__init__.py -> build\\lib.win-amd64-3.9\\pandas\\io\\json\n",
      "  creating build\\lib.win-amd64-3.9\\pandas\\io\\msgpack\n",
      "  copying pandas\\io\\msgpack\\exceptions.py -> build\\lib.win-amd64-3.9\\pandas\\io\\msgpack\n",
      "  copying pandas\\io\\msgpack\\_version.py -> build\\lib.win-amd64-3.9\\pandas\\io\\msgpack\n",
      "  copying pandas\\io\\msgpack\\__init__.py -> build\\lib.win-amd64-3.9\\pandas\\io\\msgpack\n",
      "  creating build\\lib.win-amd64-3.9\\pandas\\io\\sas\n",
      "  copying pandas\\io\\sas\\sas7bdat.py -> build\\lib.win-amd64-3.9\\pandas\\io\\sas\n",
      "  copying pandas\\io\\sas\\sasreader.py -> build\\lib.win-amd64-3.9\\pandas\\io\\sas\n",
      "  copying pandas\\io\\sas\\sas_constants.py -> build\\lib.win-amd64-3.9\\pandas\\io\\sas\n",
      "  copying pandas\\io\\sas\\sas_xport.py -> build\\lib.win-amd64-3.9\\pandas\\io\\sas\n",
      "  copying pandas\\io\\sas\\__init__.py -> build\\lib.win-amd64-3.9\\pandas\\io\\sas\n",
      "  creating build\\lib.win-amd64-3.9\\pandas\\tests\\api\n",
      "  copying pandas\\tests\\api\\test_api.py -> build\\lib.win-amd64-3.9\\pandas\\tests\\api\n",
      "  copying pandas\\tests\\api\\test_types.py -> build\\lib.win-amd64-3.9\\pandas\\tests\\api\n",
      "  copying pandas\\tests\\api\\__init__.py -> build\\lib.win-amd64-3.9\\pandas\\tests\\api\n",
      "  creating build\\lib.win-amd64-3.9\\pandas\\tests\\arithmetic\n",
      "  copying pandas\\tests\\arithmetic\\conftest.py -> build\\lib.win-amd64-3.9\\pandas\\tests\\arithmetic\n",
      "  copying pandas\\tests\\arithmetic\\test_datetime64.py -> build\\lib.win-amd64-3.9\\pandas\\tests\\arithmetic\n",
      "  copying pandas\\tests\\arithmetic\\test_numeric.py -> build\\lib.win-amd64-3.9\\pandas\\tests\\arithmetic\n",
      "  copying pandas\\tests\\arithmetic\\test_object.py -> build\\lib.win-amd64-3.9\\pandas\\tests\\arithmetic\n",
      "  copying pandas\\tests\\arithmetic\\test_period.py -> build\\lib.win-amd64-3.9\\pandas\\tests\\arithmetic\n",
      "  copying pandas\\tests\\arithmetic\\test_timedelta64.py -> build\\lib.win-amd64-3.9\\pandas\\tests\\arithmetic\n",
      "  copying pandas\\tests\\arithmetic\\__init__.py -> build\\lib.win-amd64-3.9\\pandas\\tests\\arithmetic\n",
      "  creating build\\lib.win-amd64-3.9\\pandas\\tests\\arrays\n",
      "  copying pandas\\tests\\arrays\\test_array.py -> build\\lib.win-amd64-3.9\\pandas\\tests\\arrays\n",
      "  copying pandas\\tests\\arrays\\test_datetimelike.py -> build\\lib.win-amd64-3.9\\pandas\\tests\\arrays\n",
      "  copying pandas\\tests\\arrays\\test_datetimes.py -> build\\lib.win-amd64-3.9\\pandas\\tests\\arrays\n",
      "  copying pandas\\tests\\arrays\\test_integer.py -> build\\lib.win-amd64-3.9\\pandas\\tests\\arrays\n",
      "  copying pandas\\tests\\arrays\\test_numpy.py -> build\\lib.win-amd64-3.9\\pandas\\tests\\arrays\n",
      "  copying pandas\\tests\\arrays\\test_period.py -> build\\lib.win-amd64-3.9\\pandas\\tests\\arrays\n",
      "  copying pandas\\tests\\arrays\\test_timedeltas.py -> build\\lib.win-amd64-3.9\\pandas\\tests\\arrays\n",
      "  copying pandas\\tests\\arrays\\__init__.py -> build\\lib.win-amd64-3.9\\pandas\\tests\\arrays\n",
      "  creating build\\lib.win-amd64-3.9\\pandas\\tests\\computation\n",
      "  copying pandas\\tests\\computation\\test_compat.py -> build\\lib.win-amd64-3.9\\pandas\\tests\\computation\n",
      "  copying pandas\\tests\\computation\\test_eval.py -> build\\lib.win-amd64-3.9\\pandas\\tests\\computation\n",
      "  copying pandas\\tests\\computation\\__init__.py -> build\\lib.win-amd64-3.9\\pandas\\tests\\computation\n",
      "  creating build\\lib.win-amd64-3.9\\pandas\\tests\\dtypes\n",
      "  copying pandas\\tests\\dtypes\\test_common.py -> build\\lib.win-amd64-3.9\\pandas\\tests\\dtypes\n",
      "  copying pandas\\tests\\dtypes\\test_concat.py -> build\\lib.win-amd64-3.9\\pandas\\tests\\dtypes\n",
      "  copying pandas\\tests\\dtypes\\test_dtypes.py -> build\\lib.win-amd64-3.9\\pandas\\tests\\dtypes\n",
      "  copying pandas\\tests\\dtypes\\test_generic.py -> build\\lib.win-amd64-3.9\\pandas\\tests\\dtypes\n",
      "  copying pandas\\tests\\dtypes\\test_inference.py -> build\\lib.win-amd64-3.9\\pandas\\tests\\dtypes\n",
      "  copying pandas\\tests\\dtypes\\test_missing.py -> build\\lib.win-amd64-3.9\\pandas\\tests\\dtypes\n",
      "  copying pandas\\tests\\dtypes\\__init__.py -> build\\lib.win-amd64-3.9\\pandas\\tests\\dtypes\n",
      "  creating build\\lib.win-amd64-3.9\\pandas\\tests\\extension\n",
      "  copying pandas\\tests\\extension\\conftest.py -> build\\lib.win-amd64-3.9\\pandas\\tests\\extension\n",
      "  copying pandas\\tests\\extension\\test_categorical.py -> build\\lib.win-amd64-3.9\\pandas\\tests\\extension\n",
      "  copying pandas\\tests\\extension\\test_common.py -> build\\lib.win-amd64-3.9\\pandas\\tests\\extension\n",
      "  copying pandas\\tests\\extension\\test_datetime.py -> build\\lib.win-amd64-3.9\\pandas\\tests\\extension\n",
      "  copying pandas\\tests\\extension\\test_external_block.py -> build\\lib.win-amd64-3.9\\pandas\\tests\\extension\n",
      "  copying pandas\\tests\\extension\\test_integer.py -> build\\lib.win-amd64-3.9\\pandas\\tests\\extension\n",
      "  copying pandas\\tests\\extension\\test_interval.py -> build\\lib.win-amd64-3.9\\pandas\\tests\\extension\n",
      "  copying pandas\\tests\\extension\\test_period.py -> build\\lib.win-amd64-3.9\\pandas\\tests\\extension\n",
      "  copying pandas\\tests\\extension\\test_sparse.py -> build\\lib.win-amd64-3.9\\pandas\\tests\\extension\n",
      "  copying pandas\\tests\\extension\\__init__.py -> build\\lib.win-amd64-3.9\\pandas\\tests\\extension\n",
      "  creating build\\lib.win-amd64-3.9\\pandas\\tests\\frame\n",
      "  copying pandas\\tests\\frame\\common.py -> build\\lib.win-amd64-3.9\\pandas\\tests\\frame\n",
      "  copying pandas\\tests\\frame\\conftest.py -> build\\lib.win-amd64-3.9\\pandas\\tests\\frame\n",
      "  copying pandas\\tests\\frame\\test_alter_axes.py -> build\\lib.win-amd64-3.9\\pandas\\tests\\frame\n",
      "  copying pandas\\tests\\frame\\test_analytics.py -> build\\lib.win-amd64-3.9\\pandas\\tests\\frame\n",
      "  copying pandas\\tests\\frame\\test_api.py -> build\\lib.win-amd64-3.9\\pandas\\tests\\frame\n",
      "  copying pandas\\tests\\frame\\test_apply.py -> build\\lib.win-amd64-3.9\\pandas\\tests\\frame\n",
      "  copying pandas\\tests\\frame\\test_arithmetic.py -> build\\lib.win-amd64-3.9\\pandas\\tests\\frame\n",
      "  copying pandas\\tests\\frame\\test_asof.py -> build\\lib.win-amd64-3.9\\pandas\\tests\\frame\n",
      "  copying pandas\\tests\\frame\\test_axis_select_reindex.py -> build\\lib.win-amd64-3.9\\pandas\\tests\\frame\n",
      "  copying pandas\\tests\\frame\\test_block_internals.py -> build\\lib.win-amd64-3.9\\pandas\\tests\\frame\n",
      "  copying pandas\\tests\\frame\\test_combine_concat.py -> build\\lib.win-amd64-3.9\\pandas\\tests\\frame\n",
      "  copying pandas\\tests\\frame\\test_constructors.py -> build\\lib.win-amd64-3.9\\pandas\\tests\\frame\n",
      "  copying pandas\\tests\\frame\\test_convert_to.py -> build\\lib.win-amd64-3.9\\pandas\\tests\\frame\n",
      "  copying pandas\\tests\\frame\\test_dtypes.py -> build\\lib.win-amd64-3.9\\pandas\\tests\\frame\n",
      "  copying pandas\\tests\\frame\\test_duplicates.py -> build\\lib.win-amd64-3.9\\pandas\\tests\\frame\n",
      "  copying pandas\\tests\\frame\\test_indexing.py -> build\\lib.win-amd64-3.9\\pandas\\tests\\frame\n",
      "  copying pandas\\tests\\frame\\test_join.py -> build\\lib.win-amd64-3.9\\pandas\\tests\\frame\n",
      "  copying pandas\\tests\\frame\\test_missing.py -> build\\lib.win-amd64-3.9\\pandas\\tests\\frame\n",
      "  copying pandas\\tests\\frame\\test_mutate_columns.py -> build\\lib.win-amd64-3.9\\pandas\\tests\\frame\n",
      "  copying pandas\\tests\\frame\\test_nonunique_indexes.py -> build\\lib.win-amd64-3.9\\pandas\\tests\\frame\n",
      "  copying pandas\\tests\\frame\\test_operators.py -> build\\lib.win-amd64-3.9\\pandas\\tests\\frame\n",
      "  copying pandas\\tests\\frame\\test_period.py -> build\\lib.win-amd64-3.9\\pandas\\tests\\frame\n",
      "  copying pandas\\tests\\frame\\test_quantile.py -> build\\lib.win-amd64-3.9\\pandas\\tests\\frame\n",
      "  copying pandas\\tests\\frame\\test_query_eval.py -> build\\lib.win-amd64-3.9\\pandas\\tests\\frame\n",
      "  copying pandas\\tests\\frame\\test_rank.py -> build\\lib.win-amd64-3.9\\pandas\\tests\\frame\n",
      "  copying pandas\\tests\\frame\\test_replace.py -> build\\lib.win-amd64-3.9\\pandas\\tests\\frame\n",
      "  copying pandas\\tests\\frame\\test_repr_info.py -> build\\lib.win-amd64-3.9\\pandas\\tests\\frame\n",
      "  copying pandas\\tests\\frame\\test_reshape.py -> build\\lib.win-amd64-3.9\\pandas\\tests\\frame\n",
      "  copying pandas\\tests\\frame\\test_sorting.py -> build\\lib.win-amd64-3.9\\pandas\\tests\\frame\n",
      "  copying pandas\\tests\\frame\\test_sort_values_level_as_str.py -> build\\lib.win-amd64-3.9\\pandas\\tests\\frame\n",
      "  copying pandas\\tests\\frame\\test_subclass.py -> build\\lib.win-amd64-3.9\\pandas\\tests\\frame\n",
      "  copying pandas\\tests\\frame\\test_timeseries.py -> build\\lib.win-amd64-3.9\\pandas\\tests\\frame\n",
      "  copying pandas\\tests\\frame\\test_timezones.py -> build\\lib.win-amd64-3.9\\pandas\\tests\\frame\n",
      "  copying pandas\\tests\\frame\\test_to_csv.py -> build\\lib.win-amd64-3.9\\pandas\\tests\\frame\n",
      "  copying pandas\\tests\\frame\\test_validate.py -> build\\lib.win-amd64-3.9\\pandas\\tests\\frame\n",
      "  copying pandas\\tests\\frame\\__init__.py -> build\\lib.win-amd64-3.9\\pandas\\tests\\frame\n",
      "  creating build\\lib.win-amd64-3.9\\pandas\\tests\\generic\n",
      "  copying pandas\\tests\\generic\\test_frame.py -> build\\lib.win-amd64-3.9\\pandas\\tests\\generic\n",
      "  copying pandas\\tests\\generic\\test_generic.py -> build\\lib.win-amd64-3.9\\pandas\\tests\\generic\n",
      "  copying pandas\\tests\\generic\\test_label_or_level_utils.py -> build\\lib.win-amd64-3.9\\pandas\\tests\\generic\n",
      "  copying pandas\\tests\\generic\\test_panel.py -> build\\lib.win-amd64-3.9\\pandas\\tests\\generic\n",
      "  copying pandas\\tests\\generic\\test_series.py -> build\\lib.win-amd64-3.9\\pandas\\tests\\generic\n",
      "  copying pandas\\tests\\generic\\__init__.py -> build\\lib.win-amd64-3.9\\pandas\\tests\\generic\n",
      "  creating build\\lib.win-amd64-3.9\\pandas\\tests\\groupby\n",
      "  copying pandas\\tests\\groupby\\conftest.py -> build\\lib.win-amd64-3.9\\pandas\\tests\\groupby\n",
      "  copying pandas\\tests\\groupby\\test_apply.py -> build\\lib.win-amd64-3.9\\pandas\\tests\\groupby\n",
      "  copying pandas\\tests\\groupby\\test_bin_groupby.py -> build\\lib.win-amd64-3.9\\pandas\\tests\\groupby\n",
      "  copying pandas\\tests\\groupby\\test_categorical.py -> build\\lib.win-amd64-3.9\\pandas\\tests\\groupby\n",
      "  copying pandas\\tests\\groupby\\test_counting.py -> build\\lib.win-amd64-3.9\\pandas\\tests\\groupby\n",
      "  copying pandas\\tests\\groupby\\test_filters.py -> build\\lib.win-amd64-3.9\\pandas\\tests\\groupby\n",
      "  copying pandas\\tests\\groupby\\test_function.py -> build\\lib.win-amd64-3.9\\pandas\\tests\\groupby\n",
      "  copying pandas\\tests\\groupby\\test_groupby.py -> build\\lib.win-amd64-3.9\\pandas\\tests\\groupby\n",
      "  copying pandas\\tests\\groupby\\test_grouping.py -> build\\lib.win-amd64-3.9\\pandas\\tests\\groupby\n",
      "  copying pandas\\tests\\groupby\\test_index_as_string.py -> build\\lib.win-amd64-3.9\\pandas\\tests\\groupby\n",
      "  copying pandas\\tests\\groupby\\test_nth.py -> build\\lib.win-amd64-3.9\\pandas\\tests\\groupby\n",
      "  copying pandas\\tests\\groupby\\test_rank.py -> build\\lib.win-amd64-3.9\\pandas\\tests\\groupby\n",
      "  copying pandas\\tests\\groupby\\test_timegrouper.py -> build\\lib.win-amd64-3.9\\pandas\\tests\\groupby\n",
      "  copying pandas\\tests\\groupby\\test_transform.py -> build\\lib.win-amd64-3.9\\pandas\\tests\\groupby\n",
      "  copying pandas\\tests\\groupby\\test_value_counts.py -> build\\lib.win-amd64-3.9\\pandas\\tests\\groupby\n",
      "  copying pandas\\tests\\groupby\\test_whitelist.py -> build\\lib.win-amd64-3.9\\pandas\\tests\\groupby\n",
      "  copying pandas\\tests\\groupby\\__init__.py -> build\\lib.win-amd64-3.9\\pandas\\tests\\groupby\n",
      "  creating build\\lib.win-amd64-3.9\\pandas\\tests\\indexes\n",
      "  copying pandas\\tests\\indexes\\common.py -> build\\lib.win-amd64-3.9\\pandas\\tests\\indexes\n",
      "  copying pandas\\tests\\indexes\\conftest.py -> build\\lib.win-amd64-3.9\\pandas\\tests\\indexes\n",
      "  copying pandas\\tests\\indexes\\datetimelike.py -> build\\lib.win-amd64-3.9\\pandas\\tests\\indexes\n",
      "  copying pandas\\tests\\indexes\\test_base.py -> build\\lib.win-amd64-3.9\\pandas\\tests\\indexes\n",
      "  copying pandas\\tests\\indexes\\test_category.py -> build\\lib.win-amd64-3.9\\pandas\\tests\\indexes\n",
      "  copying pandas\\tests\\indexes\\test_common.py -> build\\lib.win-amd64-3.9\\pandas\\tests\\indexes\n",
      "  copying pandas\\tests\\indexes\\test_frozen.py -> build\\lib.win-amd64-3.9\\pandas\\tests\\indexes\n",
      "  copying pandas\\tests\\indexes\\test_numeric.py -> build\\lib.win-amd64-3.9\\pandas\\tests\\indexes\n",
      "  copying pandas\\tests\\indexes\\test_range.py -> build\\lib.win-amd64-3.9\\pandas\\tests\\indexes\n",
      "  copying pandas\\tests\\indexes\\__init__.py -> build\\lib.win-amd64-3.9\\pandas\\tests\\indexes\n",
      "  creating build\\lib.win-amd64-3.9\\pandas\\tests\\indexing\n",
      "  copying pandas\\tests\\indexing\\common.py -> build\\lib.win-amd64-3.9\\pandas\\tests\\indexing\n",
      "  copying pandas\\tests\\indexing\\conftest.py -> build\\lib.win-amd64-3.9\\pandas\\tests\\indexing\n",
      "  copying pandas\\tests\\indexing\\test_callable.py -> build\\lib.win-amd64-3.9\\pandas\\tests\\indexing\n",
      "  copying pandas\\tests\\indexing\\test_categorical.py -> build\\lib.win-amd64-3.9\\pandas\\tests\\indexing\n",
      "  copying pandas\\tests\\indexing\\test_chaining_and_caching.py -> build\\lib.win-amd64-3.9\\pandas\\tests\\indexing\n",
      "  copying pandas\\tests\\indexing\\test_coercion.py -> build\\lib.win-amd64-3.9\\pandas\\tests\\indexing\n",
      "  copying pandas\\tests\\indexing\\test_datetime.py -> build\\lib.win-amd64-3.9\\pandas\\tests\\indexing\n",
      "  copying pandas\\tests\\indexing\\test_floats.py -> build\\lib.win-amd64-3.9\\pandas\\tests\\indexing\n",
      "  copying pandas\\tests\\indexing\\test_iloc.py -> build\\lib.win-amd64-3.9\\pandas\\tests\\indexing\n",
      "  copying pandas\\tests\\indexing\\test_indexing.py -> build\\lib.win-amd64-3.9\\pandas\\tests\\indexing\n",
      "  copying pandas\\tests\\indexing\\test_indexing_engines.py -> build\\lib.win-amd64-3.9\\pandas\\tests\\indexing\n",
      "  copying pandas\\tests\\indexing\\test_indexing_slow.py -> build\\lib.win-amd64-3.9\\pandas\\tests\\indexing\n",
      "  copying pandas\\tests\\indexing\\test_ix.py -> build\\lib.win-amd64-3.9\\pandas\\tests\\indexing\n",
      "  copying pandas\\tests\\indexing\\test_loc.py -> build\\lib.win-amd64-3.9\\pandas\\tests\\indexing\n",
      "  copying pandas\\tests\\indexing\\test_panel.py -> build\\lib.win-amd64-3.9\\pandas\\tests\\indexing\n",
      "  copying pandas\\tests\\indexing\\test_partial.py -> build\\lib.win-amd64-3.9\\pandas\\tests\\indexing\n",
      "  copying pandas\\tests\\indexing\\test_scalar.py -> build\\lib.win-amd64-3.9\\pandas\\tests\\indexing\n",
      "  copying pandas\\tests\\indexing\\test_timedelta.py -> build\\lib.win-amd64-3.9\\pandas\\tests\\indexing\n",
      "  copying pandas\\tests\\indexing\\__init__.py -> build\\lib.win-amd64-3.9\\pandas\\tests\\indexing\n",
      "  creating build\\lib.win-amd64-3.9\\pandas\\tests\\internals\n",
      "  copying pandas\\tests\\internals\\test_internals.py -> build\\lib.win-amd64-3.9\\pandas\\tests\\internals\n",
      "  copying pandas\\tests\\internals\\__init__.py -> build\\lib.win-amd64-3.9\\pandas\\tests\\internals\n",
      "  creating build\\lib.win-amd64-3.9\\pandas\\tests\\io\n",
      "  copying pandas\\tests\\io\\conftest.py -> build\\lib.win-amd64-3.9\\pandas\\tests\\io\n",
      "  copying pandas\\tests\\io\\generate_legacy_storage_files.py -> build\\lib.win-amd64-3.9\\pandas\\tests\\io\n",
      "  copying pandas\\tests\\io\\test_clipboard.py -> build\\lib.win-amd64-3.9\\pandas\\tests\\io\n",
      "  copying pandas\\tests\\io\\test_common.py -> build\\lib.win-amd64-3.9\\pandas\\tests\\io\n",
      "  copying pandas\\tests\\io\\test_compression.py -> build\\lib.win-amd64-3.9\\pandas\\tests\\io\n",
      "  copying pandas\\tests\\io\\test_date_converters.py -> build\\lib.win-amd64-3.9\\pandas\\tests\\io\n",
      "  copying pandas\\tests\\io\\test_excel.py -> build\\lib.win-amd64-3.9\\pandas\\tests\\io\n",
      "  copying pandas\\tests\\io\\test_feather.py -> build\\lib.win-amd64-3.9\\pandas\\tests\\io\n",
      "  copying pandas\\tests\\io\\test_gbq.py -> build\\lib.win-amd64-3.9\\pandas\\tests\\io\n",
      "  copying pandas\\tests\\io\\test_gcs.py -> build\\lib.win-amd64-3.9\\pandas\\tests\\io\n",
      "  copying pandas\\tests\\io\\test_html.py -> build\\lib.win-amd64-3.9\\pandas\\tests\\io\n",
      "  copying pandas\\tests\\io\\test_packers.py -> build\\lib.win-amd64-3.9\\pandas\\tests\\io\n",
      "  copying pandas\\tests\\io\\test_parquet.py -> build\\lib.win-amd64-3.9\\pandas\\tests\\io\n",
      "  copying pandas\\tests\\io\\test_pickle.py -> build\\lib.win-amd64-3.9\\pandas\\tests\\io\n",
      "  copying pandas\\tests\\io\\test_pytables.py -> build\\lib.win-amd64-3.9\\pandas\\tests\\io\n",
      "  copying pandas\\tests\\io\\test_s3.py -> build\\lib.win-amd64-3.9\\pandas\\tests\\io\n",
      "  copying pandas\\tests\\io\\test_sql.py -> build\\lib.win-amd64-3.9\\pandas\\tests\\io\n",
      "  copying pandas\\tests\\io\\test_stata.py -> build\\lib.win-amd64-3.9\\pandas\\tests\\io\n",
      "  copying pandas\\tests\\io\\__init__.py -> build\\lib.win-amd64-3.9\\pandas\\tests\\io\n",
      "  creating build\\lib.win-amd64-3.9\\pandas\\tests\\plotting\n",
      "  copying pandas\\tests\\plotting\\common.py -> build\\lib.win-amd64-3.9\\pandas\\tests\\plotting\n",
      "  copying pandas\\tests\\plotting\\test_boxplot_method.py -> build\\lib.win-amd64-3.9\\pandas\\tests\\plotting\n",
      "  copying pandas\\tests\\plotting\\test_converter.py -> build\\lib.win-amd64-3.9\\pandas\\tests\\plotting\n",
      "  copying pandas\\tests\\plotting\\test_datetimelike.py -> build\\lib.win-amd64-3.9\\pandas\\tests\\plotting\n",
      "  copying pandas\\tests\\plotting\\test_frame.py -> build\\lib.win-amd64-3.9\\pandas\\tests\\plotting\n",
      "  copying pandas\\tests\\plotting\\test_groupby.py -> build\\lib.win-amd64-3.9\\pandas\\tests\\plotting\n",
      "  copying pandas\\tests\\plotting\\test_hist_method.py -> build\\lib.win-amd64-3.9\\pandas\\tests\\plotting\n",
      "  copying pandas\\tests\\plotting\\test_misc.py -> build\\lib.win-amd64-3.9\\pandas\\tests\\plotting\n",
      "  copying pandas\\tests\\plotting\\test_series.py -> build\\lib.win-amd64-3.9\\pandas\\tests\\plotting\n",
      "  copying pandas\\tests\\plotting\\__init__.py -> build\\lib.win-amd64-3.9\\pandas\\tests\\plotting\n",
      "  creating build\\lib.win-amd64-3.9\\pandas\\tests\\reductions\n",
      "  copying pandas\\tests\\reductions\\test_reductions.py -> build\\lib.win-amd64-3.9\\pandas\\tests\\reductions\n",
      "  copying pandas\\tests\\reductions\\test_stat_reductions.py -> build\\lib.win-amd64-3.9\\pandas\\tests\\reductions\n",
      "  copying pandas\\tests\\reductions\\__init__.py -> build\\lib.win-amd64-3.9\\pandas\\tests\\reductions\n",
      "  creating build\\lib.win-amd64-3.9\\pandas\\tests\\resample\n",
      "  copying pandas\\tests\\resample\\conftest.py -> build\\lib.win-amd64-3.9\\pandas\\tests\\resample\n",
      "  copying pandas\\tests\\resample\\test_base.py -> build\\lib.win-amd64-3.9\\pandas\\tests\\resample\n",
      "  copying pandas\\tests\\resample\\test_datetime_index.py -> build\\lib.win-amd64-3.9\\pandas\\tests\\resample\n",
      "  copying pandas\\tests\\resample\\test_period_index.py -> build\\lib.win-amd64-3.9\\pandas\\tests\\resample\n",
      "  copying pandas\\tests\\resample\\test_resampler_grouper.py -> build\\lib.win-amd64-3.9\\pandas\\tests\\resample\n",
      "  copying pandas\\tests\\resample\\test_resample_api.py -> build\\lib.win-amd64-3.9\\pandas\\tests\\resample\n",
      "  copying pandas\\tests\\resample\\test_timedelta.py -> build\\lib.win-amd64-3.9\\pandas\\tests\\resample\n",
      "  copying pandas\\tests\\resample\\test_time_grouper.py -> build\\lib.win-amd64-3.9\\pandas\\tests\\resample\n",
      "  copying pandas\\tests\\resample\\__init__.py -> build\\lib.win-amd64-3.9\\pandas\\tests\\resample\n",
      "  creating build\\lib.win-amd64-3.9\\pandas\\tests\\reshape\n",
      "  copying pandas\\tests\\reshape\\test_concat.py -> build\\lib.win-amd64-3.9\\pandas\\tests\\reshape\n",
      "  copying pandas\\tests\\reshape\\test_cut.py -> build\\lib.win-amd64-3.9\\pandas\\tests\\reshape\n",
      "  copying pandas\\tests\\reshape\\test_melt.py -> build\\lib.win-amd64-3.9\\pandas\\tests\\reshape\n",
      "  copying pandas\\tests\\reshape\\test_pivot.py -> build\\lib.win-amd64-3.9\\pandas\\tests\\reshape\n",
      "  copying pandas\\tests\\reshape\\test_qcut.py -> build\\lib.win-amd64-3.9\\pandas\\tests\\reshape\n",
      "  copying pandas\\tests\\reshape\\test_reshape.py -> build\\lib.win-amd64-3.9\\pandas\\tests\\reshape\n",
      "  copying pandas\\tests\\reshape\\test_union_categoricals.py -> build\\lib.win-amd64-3.9\\pandas\\tests\\reshape\n",
      "  copying pandas\\tests\\reshape\\test_util.py -> build\\lib.win-amd64-3.9\\pandas\\tests\\reshape\n",
      "  copying pandas\\tests\\reshape\\__init__.py -> build\\lib.win-amd64-3.9\\pandas\\tests\\reshape\n",
      "  creating build\\lib.win-amd64-3.9\\pandas\\tests\\scalar\n",
      "  copying pandas\\tests\\scalar\\test_nat.py -> build\\lib.win-amd64-3.9\\pandas\\tests\\scalar\n",
      "  copying pandas\\tests\\scalar\\__init__.py -> build\\lib.win-amd64-3.9\\pandas\\tests\\scalar\n",
      "  creating build\\lib.win-amd64-3.9\\pandas\\tests\\series\n",
      "  copying pandas\\tests\\series\\common.py -> build\\lib.win-amd64-3.9\\pandas\\tests\\series\n",
      "  copying pandas\\tests\\series\\conftest.py -> build\\lib.win-amd64-3.9\\pandas\\tests\\series\n",
      "  copying pandas\\tests\\series\\test_alter_axes.py -> build\\lib.win-amd64-3.9\\pandas\\tests\\series\n",
      "  copying pandas\\tests\\series\\test_analytics.py -> build\\lib.win-amd64-3.9\\pandas\\tests\\series\n",
      "  copying pandas\\tests\\series\\test_api.py -> build\\lib.win-amd64-3.9\\pandas\\tests\\series\n",
      "  copying pandas\\tests\\series\\test_apply.py -> build\\lib.win-amd64-3.9\\pandas\\tests\\series\n",
      "  copying pandas\\tests\\series\\test_arithmetic.py -> build\\lib.win-amd64-3.9\\pandas\\tests\\series\n",
      "  copying pandas\\tests\\series\\test_asof.py -> build\\lib.win-amd64-3.9\\pandas\\tests\\series\n",
      "  copying pandas\\tests\\series\\test_block_internals.py -> build\\lib.win-amd64-3.9\\pandas\\tests\\series\n",
      "  copying pandas\\tests\\series\\test_combine_concat.py -> build\\lib.win-amd64-3.9\\pandas\\tests\\series\n",
      "  copying pandas\\tests\\series\\test_constructors.py -> build\\lib.win-amd64-3.9\\pandas\\tests\\series\n",
      "  copying pandas\\tests\\series\\test_datetime_values.py -> build\\lib.win-amd64-3.9\\pandas\\tests\\series\n",
      "  copying pandas\\tests\\series\\test_dtypes.py -> build\\lib.win-amd64-3.9\\pandas\\tests\\series\n",
      "  copying pandas\\tests\\series\\test_duplicates.py -> build\\lib.win-amd64-3.9\\pandas\\tests\\series\n",
      "  copying pandas\\tests\\series\\test_internals.py -> build\\lib.win-amd64-3.9\\pandas\\tests\\series\n",
      "  copying pandas\\tests\\series\\test_io.py -> build\\lib.win-amd64-3.9\\pandas\\tests\\series\n",
      "  copying pandas\\tests\\series\\test_missing.py -> build\\lib.win-amd64-3.9\\pandas\\tests\\series\n",
      "  copying pandas\\tests\\series\\test_operators.py -> build\\lib.win-amd64-3.9\\pandas\\tests\\series\n",
      "  copying pandas\\tests\\series\\test_period.py -> build\\lib.win-amd64-3.9\\pandas\\tests\\series\n",
      "  copying pandas\\tests\\series\\test_quantile.py -> build\\lib.win-amd64-3.9\\pandas\\tests\\series\n",
      "  copying pandas\\tests\\series\\test_rank.py -> build\\lib.win-amd64-3.9\\pandas\\tests\\series\n",
      "  copying pandas\\tests\\series\\test_replace.py -> build\\lib.win-amd64-3.9\\pandas\\tests\\series\n",
      "  copying pandas\\tests\\series\\test_repr.py -> build\\lib.win-amd64-3.9\\pandas\\tests\\series\n",
      "  copying pandas\\tests\\series\\test_sorting.py -> build\\lib.win-amd64-3.9\\pandas\\tests\\series\n",
      "  copying pandas\\tests\\series\\test_subclass.py -> build\\lib.win-amd64-3.9\\pandas\\tests\\series\n",
      "  copying pandas\\tests\\series\\test_timeseries.py -> build\\lib.win-amd64-3.9\\pandas\\tests\\series\n",
      "  copying pandas\\tests\\series\\test_timezones.py -> build\\lib.win-amd64-3.9\\pandas\\tests\\series\n",
      "  copying pandas\\tests\\series\\test_validate.py -> build\\lib.win-amd64-3.9\\pandas\\tests\\series\n",
      "  copying pandas\\tests\\series\\__init__.py -> build\\lib.win-amd64-3.9\\pandas\\tests\\series\n",
      "  creating build\\lib.win-amd64-3.9\\pandas\\tests\\sparse\n",
      "  copying pandas\\tests\\sparse\\common.py -> build\\lib.win-amd64-3.9\\pandas\\tests\\sparse\n",
      "  copying pandas\\tests\\sparse\\test_combine_concat.py -> build\\lib.win-amd64-3.9\\pandas\\tests\\sparse\n",
      "  copying pandas\\tests\\sparse\\test_format.py -> build\\lib.win-amd64-3.9\\pandas\\tests\\sparse\n",
      "  copying pandas\\tests\\sparse\\test_groupby.py -> build\\lib.win-amd64-3.9\\pandas\\tests\\sparse\n",
      "  copying pandas\\tests\\sparse\\test_indexing.py -> build\\lib.win-amd64-3.9\\pandas\\tests\\sparse\n",
      "  copying pandas\\tests\\sparse\\test_pivot.py -> build\\lib.win-amd64-3.9\\pandas\\tests\\sparse\n",
      "  copying pandas\\tests\\sparse\\test_reshape.py -> build\\lib.win-amd64-3.9\\pandas\\tests\\sparse\n",
      "  copying pandas\\tests\\sparse\\__init__.py -> build\\lib.win-amd64-3.9\\pandas\\tests\\sparse\n",
      "  creating build\\lib.win-amd64-3.9\\pandas\\tests\\tools\n",
      "  copying pandas\\tests\\tools\\test_numeric.py -> build\\lib.win-amd64-3.9\\pandas\\tests\\tools\n",
      "  copying pandas\\tests\\tools\\__init__.py -> build\\lib.win-amd64-3.9\\pandas\\tests\\tools\n",
      "  creating build\\lib.win-amd64-3.9\\pandas\\tests\\tseries\n",
      "  copying pandas\\tests\\tseries\\test_frequencies.py -> build\\lib.win-amd64-3.9\\pandas\\tests\\tseries\n",
      "  copying pandas\\tests\\tseries\\test_holiday.py -> build\\lib.win-amd64-3.9\\pandas\\tests\\tseries\n",
      "  copying pandas\\tests\\tseries\\__init__.py -> build\\lib.win-amd64-3.9\\pandas\\tests\\tseries\n",
      "  creating build\\lib.win-amd64-3.9\\pandas\\tests\\tslibs\n",
      "  copying pandas\\tests\\tslibs\\test_api.py -> build\\lib.win-amd64-3.9\\pandas\\tests\\tslibs\n",
      "  copying pandas\\tests\\tslibs\\test_array_to_datetime.py -> build\\lib.win-amd64-3.9\\pandas\\tests\\tslibs\n",
      "  copying pandas\\tests\\tslibs\\test_ccalendar.py -> build\\lib.win-amd64-3.9\\pandas\\tests\\tslibs\n",
      "  copying pandas\\tests\\tslibs\\test_conversion.py -> build\\lib.win-amd64-3.9\\pandas\\tests\\tslibs\n",
      "  copying pandas\\tests\\tslibs\\test_libfrequencies.py -> build\\lib.win-amd64-3.9\\pandas\\tests\\tslibs\n",
      "  copying pandas\\tests\\tslibs\\test_liboffsets.py -> build\\lib.win-amd64-3.9\\pandas\\tests\\tslibs\n",
      "  copying pandas\\tests\\tslibs\\test_normalize_date.py -> build\\lib.win-amd64-3.9\\pandas\\tests\\tslibs\n",
      "  copying pandas\\tests\\tslibs\\test_parse_iso8601.py -> build\\lib.win-amd64-3.9\\pandas\\tests\\tslibs\n",
      "  copying pandas\\tests\\tslibs\\test_parsing.py -> build\\lib.win-amd64-3.9\\pandas\\tests\\tslibs\n",
      "  copying pandas\\tests\\tslibs\\test_period_asfreq.py -> build\\lib.win-amd64-3.9\\pandas\\tests\\tslibs\n",
      "  copying pandas\\tests\\tslibs\\test_timedeltas.py -> build\\lib.win-amd64-3.9\\pandas\\tests\\tslibs\n",
      "  copying pandas\\tests\\tslibs\\test_timezones.py -> build\\lib.win-amd64-3.9\\pandas\\tests\\tslibs\n",
      "  copying pandas\\tests\\tslibs\\__init__.py -> build\\lib.win-amd64-3.9\\pandas\\tests\\tslibs\n",
      "  creating build\\lib.win-amd64-3.9\\pandas\\tests\\util\n",
      "  copying pandas\\tests\\util\\conftest.py -> build\\lib.win-amd64-3.9\\pandas\\tests\\util\n",
      "  copying pandas\\tests\\util\\test_assert_almost_equal.py -> build\\lib.win-amd64-3.9\\pandas\\tests\\util\n",
      "  copying pandas\\tests\\util\\test_assert_categorical_equal.py -> build\\lib.win-amd64-3.9\\pandas\\tests\\util\n",
      "  copying pandas\\tests\\util\\test_assert_extension_array_equal.py -> build\\lib.win-amd64-3.9\\pandas\\tests\\util\n",
      "  copying pandas\\tests\\util\\test_assert_frame_equal.py -> build\\lib.win-amd64-3.9\\pandas\\tests\\util\n",
      "  copying pandas\\tests\\util\\test_assert_index_equal.py -> build\\lib.win-amd64-3.9\\pandas\\tests\\util\n",
      "  copying pandas\\tests\\util\\test_assert_interval_array_equal.py -> build\\lib.win-amd64-3.9\\pandas\\tests\\util\n",
      "  copying pandas\\tests\\util\\test_assert_numpy_array_equal.py -> build\\lib.win-amd64-3.9\\pandas\\tests\\util\n",
      "  copying pandas\\tests\\util\\test_assert_series_equal.py -> build\\lib.win-amd64-3.9\\pandas\\tests\\util\n",
      "  copying pandas\\tests\\util\\test_deprecate.py -> build\\lib.win-amd64-3.9\\pandas\\tests\\util\n",
      "  copying pandas\\tests\\util\\test_deprecate_kwarg.py -> build\\lib.win-amd64-3.9\\pandas\\tests\\util\n",
      "  copying pandas\\tests\\util\\test_hashing.py -> build\\lib.win-amd64-3.9\\pandas\\tests\\util\n",
      "  copying pandas\\tests\\util\\test_locale.py -> build\\lib.win-amd64-3.9\\pandas\\tests\\util\n",
      "  copying pandas\\tests\\util\\test_move.py -> build\\lib.win-amd64-3.9\\pandas\\tests\\util\n",
      "  copying pandas\\tests\\util\\test_safe_import.py -> build\\lib.win-amd64-3.9\\pandas\\tests\\util\n",
      "  copying pandas\\tests\\util\\test_util.py -> build\\lib.win-amd64-3.9\\pandas\\tests\\util\n",
      "  copying pandas\\tests\\util\\test_validate_args.py -> build\\lib.win-amd64-3.9\\pandas\\tests\\util\n",
      "  copying pandas\\tests\\util\\test_validate_args_and_kwargs.py -> build\\lib.win-amd64-3.9\\pandas\\tests\\util\n",
      "  copying pandas\\tests\\util\\test_validate_kwargs.py -> build\\lib.win-amd64-3.9\\pandas\\tests\\util\n",
      "  copying pandas\\tests\\util\\__init__.py -> build\\lib.win-amd64-3.9\\pandas\\tests\\util\n",
      "  creating build\\lib.win-amd64-3.9\\pandas\\tests\\arrays\\categorical\n",
      "  copying pandas\\tests\\arrays\\categorical\\common.py -> build\\lib.win-amd64-3.9\\pandas\\tests\\arrays\\categorical\n",
      "  copying pandas\\tests\\arrays\\categorical\\conftest.py -> build\\lib.win-amd64-3.9\\pandas\\tests\\arrays\\categorical\n",
      "  copying pandas\\tests\\arrays\\categorical\\test_algos.py -> build\\lib.win-amd64-3.9\\pandas\\tests\\arrays\\categorical\n",
      "  copying pandas\\tests\\arrays\\categorical\\test_analytics.py -> build\\lib.win-amd64-3.9\\pandas\\tests\\arrays\\categorical\n",
      "  copying pandas\\tests\\arrays\\categorical\\test_api.py -> build\\lib.win-amd64-3.9\\pandas\\tests\\arrays\\categorical\n",
      "  copying pandas\\tests\\arrays\\categorical\\test_constructors.py -> build\\lib.win-amd64-3.9\\pandas\\tests\\arrays\\categorical\n",
      "  copying pandas\\tests\\arrays\\categorical\\test_dtypes.py -> build\\lib.win-amd64-3.9\\pandas\\tests\\arrays\\categorical\n",
      "  copying pandas\\tests\\arrays\\categorical\\test_indexing.py -> build\\lib.win-amd64-3.9\\pandas\\tests\\arrays\\categorical\n",
      "  copying pandas\\tests\\arrays\\categorical\\test_missing.py -> build\\lib.win-amd64-3.9\\pandas\\tests\\arrays\\categorical\n",
      "  copying pandas\\tests\\arrays\\categorical\\test_operators.py -> build\\lib.win-amd64-3.9\\pandas\\tests\\arrays\\categorical\n",
      "  copying pandas\\tests\\arrays\\categorical\\test_repr.py -> build\\lib.win-amd64-3.9\\pandas\\tests\\arrays\\categorical\n",
      "  copying pandas\\tests\\arrays\\categorical\\test_sorting.py -> build\\lib.win-amd64-3.9\\pandas\\tests\\arrays\\categorical\n",
      "  copying pandas\\tests\\arrays\\categorical\\test_subclass.py -> build\\lib.win-amd64-3.9\\pandas\\tests\\arrays\\categorical\n",
      "  copying pandas\\tests\\arrays\\categorical\\test_warnings.py -> build\\lib.win-amd64-3.9\\pandas\\tests\\arrays\\categorical\n",
      "  copying pandas\\tests\\arrays\\categorical\\__init__.py -> build\\lib.win-amd64-3.9\\pandas\\tests\\arrays\\categorical\n",
      "  creating build\\lib.win-amd64-3.9\\pandas\\tests\\arrays\\interval\n",
      "  copying pandas\\tests\\arrays\\interval\\test_interval.py -> build\\lib.win-amd64-3.9\\pandas\\tests\\arrays\\interval\n",
      "  copying pandas\\tests\\arrays\\interval\\test_ops.py -> build\\lib.win-amd64-3.9\\pandas\\tests\\arrays\\interval\n",
      "  copying pandas\\tests\\arrays\\interval\\__init__.py -> build\\lib.win-amd64-3.9\\pandas\\tests\\arrays\\interval\n",
      "  creating build\\lib.win-amd64-3.9\\pandas\\tests\\arrays\\sparse\n",
      "  copying pandas\\tests\\arrays\\sparse\\test_arithmetics.py -> build\\lib.win-amd64-3.9\\pandas\\tests\\arrays\\sparse\n",
      "  copying pandas\\tests\\arrays\\sparse\\test_array.py -> build\\lib.win-amd64-3.9\\pandas\\tests\\arrays\\sparse\n",
      "  copying pandas\\tests\\arrays\\sparse\\test_dtype.py -> build\\lib.win-amd64-3.9\\pandas\\tests\\arrays\\sparse\n",
      "  copying pandas\\tests\\arrays\\sparse\\test_libsparse.py -> build\\lib.win-amd64-3.9\\pandas\\tests\\arrays\\sparse\n",
      "  copying pandas\\tests\\arrays\\sparse\\__init__.py -> build\\lib.win-amd64-3.9\\pandas\\tests\\arrays\\sparse\n",
      "  creating build\\lib.win-amd64-3.9\\pandas\\tests\\dtypes\\cast\n",
      "  copying pandas\\tests\\dtypes\\cast\\test_construct_from_scalar.py -> build\\lib.win-amd64-3.9\\pandas\\tests\\dtypes\\cast\n",
      "  copying pandas\\tests\\dtypes\\cast\\test_construct_ndarray.py -> build\\lib.win-amd64-3.9\\pandas\\tests\\dtypes\\cast\n",
      "  copying pandas\\tests\\dtypes\\cast\\test_construct_object_arr.py -> build\\lib.win-amd64-3.9\\pandas\\tests\\dtypes\\cast\n",
      "  copying pandas\\tests\\dtypes\\cast\\test_convert_objects.py -> build\\lib.win-amd64-3.9\\pandas\\tests\\dtypes\\cast\n",
      "  copying pandas\\tests\\dtypes\\cast\\test_downcast.py -> build\\lib.win-amd64-3.9\\pandas\\tests\\dtypes\\cast\n",
      "  copying pandas\\tests\\dtypes\\cast\\test_find_common_type.py -> build\\lib.win-amd64-3.9\\pandas\\tests\\dtypes\\cast\n",
      "  copying pandas\\tests\\dtypes\\cast\\test_infer_datetimelike.py -> build\\lib.win-amd64-3.9\\pandas\\tests\\dtypes\\cast\n",
      "  copying pandas\\tests\\dtypes\\cast\\test_infer_dtype.py -> build\\lib.win-amd64-3.9\\pandas\\tests\\dtypes\\cast\n",
      "  copying pandas\\tests\\dtypes\\cast\\__init__.py -> build\\lib.win-amd64-3.9\\pandas\\tests\\dtypes\\cast\n",
      "  creating build\\lib.win-amd64-3.9\\pandas\\tests\\extension\\arrow\n",
      "  copying pandas\\tests\\extension\\arrow\\bool.py -> build\\lib.win-amd64-3.9\\pandas\\tests\\extension\\arrow\n",
      "  copying pandas\\tests\\extension\\arrow\\test_bool.py -> build\\lib.win-amd64-3.9\\pandas\\tests\\extension\\arrow\n",
      "  copying pandas\\tests\\extension\\arrow\\__init__.py -> build\\lib.win-amd64-3.9\\pandas\\tests\\extension\\arrow\n",
      "  creating build\\lib.win-amd64-3.9\\pandas\\tests\\extension\\base\n",
      "  copying pandas\\tests\\extension\\base\\base.py -> build\\lib.win-amd64-3.9\\pandas\\tests\\extension\\base\n",
      "  copying pandas\\tests\\extension\\base\\casting.py -> build\\lib.win-amd64-3.9\\pandas\\tests\\extension\\base\n",
      "  copying pandas\\tests\\extension\\base\\constructors.py -> build\\lib.win-amd64-3.9\\pandas\\tests\\extension\\base\n",
      "  copying pandas\\tests\\extension\\base\\dtype.py -> build\\lib.win-amd64-3.9\\pandas\\tests\\extension\\base\n",
      "  copying pandas\\tests\\extension\\base\\getitem.py -> build\\lib.win-amd64-3.9\\pandas\\tests\\extension\\base\n",
      "  copying pandas\\tests\\extension\\base\\groupby.py -> build\\lib.win-amd64-3.9\\pandas\\tests\\extension\\base\n",
      "  copying pandas\\tests\\extension\\base\\interface.py -> build\\lib.win-amd64-3.9\\pandas\\tests\\extension\\base\n",
      "  copying pandas\\tests\\extension\\base\\io.py -> build\\lib.win-amd64-3.9\\pandas\\tests\\extension\\base\n",
      "  copying pandas\\tests\\extension\\base\\methods.py -> build\\lib.win-amd64-3.9\\pandas\\tests\\extension\\base\n",
      "  copying pandas\\tests\\extension\\base\\missing.py -> build\\lib.win-amd64-3.9\\pandas\\tests\\extension\\base\n",
      "  copying pandas\\tests\\extension\\base\\ops.py -> build\\lib.win-amd64-3.9\\pandas\\tests\\extension\\base\n",
      "  copying pandas\\tests\\extension\\base\\printing.py -> build\\lib.win-amd64-3.9\\pandas\\tests\\extension\\base\n",
      "  copying pandas\\tests\\extension\\base\\reduce.py -> build\\lib.win-amd64-3.9\\pandas\\tests\\extension\\base\n",
      "  copying pandas\\tests\\extension\\base\\reshaping.py -> build\\lib.win-amd64-3.9\\pandas\\tests\\extension\\base\n",
      "  copying pandas\\tests\\extension\\base\\setitem.py -> build\\lib.win-amd64-3.9\\pandas\\tests\\extension\\base\n",
      "  copying pandas\\tests\\extension\\base\\__init__.py -> build\\lib.win-amd64-3.9\\pandas\\tests\\extension\\base\n",
      "  creating build\\lib.win-amd64-3.9\\pandas\\tests\\extension\\decimal\n",
      "  copying pandas\\tests\\extension\\decimal\\array.py -> build\\lib.win-amd64-3.9\\pandas\\tests\\extension\\decimal\n",
      "  copying pandas\\tests\\extension\\decimal\\test_decimal.py -> build\\lib.win-amd64-3.9\\pandas\\tests\\extension\\decimal\n",
      "  copying pandas\\tests\\extension\\decimal\\__init__.py -> build\\lib.win-amd64-3.9\\pandas\\tests\\extension\\decimal\n",
      "  creating build\\lib.win-amd64-3.9\\pandas\\tests\\extension\\json\n",
      "  copying pandas\\tests\\extension\\json\\array.py -> build\\lib.win-amd64-3.9\\pandas\\tests\\extension\\json\n",
      "  copying pandas\\tests\\extension\\json\\test_json.py -> build\\lib.win-amd64-3.9\\pandas\\tests\\extension\\json\n",
      "  copying pandas\\tests\\extension\\json\\__init__.py -> build\\lib.win-amd64-3.9\\pandas\\tests\\extension\\json\n",
      "  creating build\\lib.win-amd64-3.9\\pandas\\tests\\extension\\numpy_\n",
      "  copying pandas\\tests\\extension\\numpy_\\conftest.py -> build\\lib.win-amd64-3.9\\pandas\\tests\\extension\\numpy_\n",
      "  copying pandas\\tests\\extension\\numpy_\\test_numpy.py -> build\\lib.win-amd64-3.9\\pandas\\tests\\extension\\numpy_\n",
      "  copying pandas\\tests\\extension\\numpy_\\test_numpy_nested.py -> build\\lib.win-amd64-3.9\\pandas\\tests\\extension\\numpy_\n",
      "  copying pandas\\tests\\extension\\numpy_\\__init__.py -> build\\lib.win-amd64-3.9\\pandas\\tests\\extension\\numpy_\n",
      "  creating build\\lib.win-amd64-3.9\\pandas\\tests\\groupby\\aggregate\n",
      "  copying pandas\\tests\\groupby\\aggregate\\test_aggregate.py -> build\\lib.win-amd64-3.9\\pandas\\tests\\groupby\\aggregate\n",
      "  copying pandas\\tests\\groupby\\aggregate\\test_cython.py -> build\\lib.win-amd64-3.9\\pandas\\tests\\groupby\\aggregate\n",
      "  copying pandas\\tests\\groupby\\aggregate\\test_other.py -> build\\lib.win-amd64-3.9\\pandas\\tests\\groupby\\aggregate\n",
      "  copying pandas\\tests\\groupby\\aggregate\\__init__.py -> build\\lib.win-amd64-3.9\\pandas\\tests\\groupby\\aggregate\n",
      "  creating build\\lib.win-amd64-3.9\\pandas\\tests\\indexes\\datetimes\n",
      "  copying pandas\\tests\\indexes\\datetimes\\test_arithmetic.py -> build\\lib.win-amd64-3.9\\pandas\\tests\\indexes\\datetimes\n",
      "  copying pandas\\tests\\indexes\\datetimes\\test_astype.py -> build\\lib.win-amd64-3.9\\pandas\\tests\\indexes\\datetimes\n",
      "  copying pandas\\tests\\indexes\\datetimes\\test_construction.py -> build\\lib.win-amd64-3.9\\pandas\\tests\\indexes\\datetimes\n",
      "  copying pandas\\tests\\indexes\\datetimes\\test_datetime.py -> build\\lib.win-amd64-3.9\\pandas\\tests\\indexes\\datetimes\n",
      "  copying pandas\\tests\\indexes\\datetimes\\test_datetimelike.py -> build\\lib.win-amd64-3.9\\pandas\\tests\\indexes\\datetimes\n",
      "  copying pandas\\tests\\indexes\\datetimes\\test_date_range.py -> build\\lib.win-amd64-3.9\\pandas\\tests\\indexes\\datetimes\n",
      "  copying pandas\\tests\\indexes\\datetimes\\test_formats.py -> build\\lib.win-amd64-3.9\\pandas\\tests\\indexes\\datetimes\n",
      "  copying pandas\\tests\\indexes\\datetimes\\test_indexing.py -> build\\lib.win-amd64-3.9\\pandas\\tests\\indexes\\datetimes\n",
      "  copying pandas\\tests\\indexes\\datetimes\\test_misc.py -> build\\lib.win-amd64-3.9\\pandas\\tests\\indexes\\datetimes\n",
      "  copying pandas\\tests\\indexes\\datetimes\\test_missing.py -> build\\lib.win-amd64-3.9\\pandas\\tests\\indexes\\datetimes\n",
      "  copying pandas\\tests\\indexes\\datetimes\\test_ops.py -> build\\lib.win-amd64-3.9\\pandas\\tests\\indexes\\datetimes\n",
      "  copying pandas\\tests\\indexes\\datetimes\\test_partial_slicing.py -> build\\lib.win-amd64-3.9\\pandas\\tests\\indexes\\datetimes\n",
      "  copying pandas\\tests\\indexes\\datetimes\\test_scalar_compat.py -> build\\lib.win-amd64-3.9\\pandas\\tests\\indexes\\datetimes\n",
      "  copying pandas\\tests\\indexes\\datetimes\\test_setops.py -> build\\lib.win-amd64-3.9\\pandas\\tests\\indexes\\datetimes\n",
      "  copying pandas\\tests\\indexes\\datetimes\\test_timezones.py -> build\\lib.win-amd64-3.9\\pandas\\tests\\indexes\\datetimes\n",
      "  copying pandas\\tests\\indexes\\datetimes\\test_tools.py -> build\\lib.win-amd64-3.9\\pandas\\tests\\indexes\\datetimes\n",
      "  copying pandas\\tests\\indexes\\datetimes\\__init__.py -> build\\lib.win-amd64-3.9\\pandas\\tests\\indexes\\datetimes\n",
      "  creating build\\lib.win-amd64-3.9\\pandas\\tests\\indexes\\interval\n",
      "  copying pandas\\tests\\indexes\\interval\\test_astype.py -> build\\lib.win-amd64-3.9\\pandas\\tests\\indexes\\interval\n",
      "  copying pandas\\tests\\indexes\\interval\\test_construction.py -> build\\lib.win-amd64-3.9\\pandas\\tests\\indexes\\interval\n",
      "  copying pandas\\tests\\indexes\\interval\\test_interval.py -> build\\lib.win-amd64-3.9\\pandas\\tests\\indexes\\interval\n",
      "  copying pandas\\tests\\indexes\\interval\\test_interval_new.py -> build\\lib.win-amd64-3.9\\pandas\\tests\\indexes\\interval\n",
      "  copying pandas\\tests\\indexes\\interval\\test_interval_range.py -> build\\lib.win-amd64-3.9\\pandas\\tests\\indexes\\interval\n",
      "  copying pandas\\tests\\indexes\\interval\\test_interval_tree.py -> build\\lib.win-amd64-3.9\\pandas\\tests\\indexes\\interval\n",
      "  copying pandas\\tests\\indexes\\interval\\__init__.py -> build\\lib.win-amd64-3.9\\pandas\\tests\\indexes\\interval\n",
      "  creating build\\lib.win-amd64-3.9\\pandas\\tests\\indexes\\multi\n",
      "  copying pandas\\tests\\indexes\\multi\\conftest.py -> build\\lib.win-amd64-3.9\\pandas\\tests\\indexes\\multi\n",
      "  copying pandas\\tests\\indexes\\multi\\test_analytics.py -> build\\lib.win-amd64-3.9\\pandas\\tests\\indexes\\multi\n",
      "  copying pandas\\tests\\indexes\\multi\\test_astype.py -> build\\lib.win-amd64-3.9\\pandas\\tests\\indexes\\multi\n",
      "  copying pandas\\tests\\indexes\\multi\\test_compat.py -> build\\lib.win-amd64-3.9\\pandas\\tests\\indexes\\multi\n",
      "  copying pandas\\tests\\indexes\\multi\\test_constructor.py -> build\\lib.win-amd64-3.9\\pandas\\tests\\indexes\\multi\n",
      "  copying pandas\\tests\\indexes\\multi\\test_contains.py -> build\\lib.win-amd64-3.9\\pandas\\tests\\indexes\\multi\n",
      "  copying pandas\\tests\\indexes\\multi\\test_conversion.py -> build\\lib.win-amd64-3.9\\pandas\\tests\\indexes\\multi\n",
      "  copying pandas\\tests\\indexes\\multi\\test_copy.py -> build\\lib.win-amd64-3.9\\pandas\\tests\\indexes\\multi\n",
      "  copying pandas\\tests\\indexes\\multi\\test_drop.py -> build\\lib.win-amd64-3.9\\pandas\\tests\\indexes\\multi\n",
      "  copying pandas\\tests\\indexes\\multi\\test_duplicates.py -> build\\lib.win-amd64-3.9\\pandas\\tests\\indexes\\multi\n",
      "  copying pandas\\tests\\indexes\\multi\\test_equivalence.py -> build\\lib.win-amd64-3.9\\pandas\\tests\\indexes\\multi\n",
      "  copying pandas\\tests\\indexes\\multi\\test_format.py -> build\\lib.win-amd64-3.9\\pandas\\tests\\indexes\\multi\n",
      "  copying pandas\\tests\\indexes\\multi\\test_get_set.py -> build\\lib.win-amd64-3.9\\pandas\\tests\\indexes\\multi\n",
      "  copying pandas\\tests\\indexes\\multi\\test_indexing.py -> build\\lib.win-amd64-3.9\\pandas\\tests\\indexes\\multi\n",
      "  copying pandas\\tests\\indexes\\multi\\test_integrity.py -> build\\lib.win-amd64-3.9\\pandas\\tests\\indexes\\multi\n",
      "  copying pandas\\tests\\indexes\\multi\\test_join.py -> build\\lib.win-amd64-3.9\\pandas\\tests\\indexes\\multi\n",
      "  copying pandas\\tests\\indexes\\multi\\test_missing.py -> build\\lib.win-amd64-3.9\\pandas\\tests\\indexes\\multi\n",
      "  copying pandas\\tests\\indexes\\multi\\test_monotonic.py -> build\\lib.win-amd64-3.9\\pandas\\tests\\indexes\\multi\n",
      "  copying pandas\\tests\\indexes\\multi\\test_names.py -> build\\lib.win-amd64-3.9\\pandas\\tests\\indexes\\multi\n",
      "  copying pandas\\tests\\indexes\\multi\\test_partial_indexing.py -> build\\lib.win-amd64-3.9\\pandas\\tests\\indexes\\multi\n",
      "  copying pandas\\tests\\indexes\\multi\\test_reindex.py -> build\\lib.win-amd64-3.9\\pandas\\tests\\indexes\\multi\n",
      "  copying pandas\\tests\\indexes\\multi\\test_reshape.py -> build\\lib.win-amd64-3.9\\pandas\\tests\\indexes\\multi\n",
      "  copying pandas\\tests\\indexes\\multi\\test_set_ops.py -> build\\lib.win-amd64-3.9\\pandas\\tests\\indexes\\multi\n",
      "  copying pandas\\tests\\indexes\\multi\\test_sorting.py -> build\\lib.win-amd64-3.9\\pandas\\tests\\indexes\\multi\n",
      "  copying pandas\\tests\\indexes\\multi\\__init__.py -> build\\lib.win-amd64-3.9\\pandas\\tests\\indexes\\multi\n",
      "  creating build\\lib.win-amd64-3.9\\pandas\\tests\\indexes\\period\n",
      "  copying pandas\\tests\\indexes\\period\\test_arithmetic.py -> build\\lib.win-amd64-3.9\\pandas\\tests\\indexes\\period\n",
      "  copying pandas\\tests\\indexes\\period\\test_asfreq.py -> build\\lib.win-amd64-3.9\\pandas\\tests\\indexes\\period\n",
      "  copying pandas\\tests\\indexes\\period\\test_astype.py -> build\\lib.win-amd64-3.9\\pandas\\tests\\indexes\\period\n",
      "  copying pandas\\tests\\indexes\\period\\test_construction.py -> build\\lib.win-amd64-3.9\\pandas\\tests\\indexes\\period\n",
      "  copying pandas\\tests\\indexes\\period\\test_formats.py -> build\\lib.win-amd64-3.9\\pandas\\tests\\indexes\\period\n",
      "  copying pandas\\tests\\indexes\\period\\test_indexing.py -> build\\lib.win-amd64-3.9\\pandas\\tests\\indexes\\period\n",
      "  copying pandas\\tests\\indexes\\period\\test_ops.py -> build\\lib.win-amd64-3.9\\pandas\\tests\\indexes\\period\n",
      "  copying pandas\\tests\\indexes\\period\\test_partial_slicing.py -> build\\lib.win-amd64-3.9\\pandas\\tests\\indexes\\period\n",
      "  copying pandas\\tests\\indexes\\period\\test_period.py -> build\\lib.win-amd64-3.9\\pandas\\tests\\indexes\\period\n",
      "  copying pandas\\tests\\indexes\\period\\test_period_range.py -> build\\lib.win-amd64-3.9\\pandas\\tests\\indexes\\period\n",
      "  copying pandas\\tests\\indexes\\period\\test_scalar_compat.py -> build\\lib.win-amd64-3.9\\pandas\\tests\\indexes\\period\n",
      "  copying pandas\\tests\\indexes\\period\\test_setops.py -> build\\lib.win-amd64-3.9\\pandas\\tests\\indexes\\period\n",
      "  copying pandas\\tests\\indexes\\period\\test_tools.py -> build\\lib.win-amd64-3.9\\pandas\\tests\\indexes\\period\n",
      "  copying pandas\\tests\\indexes\\period\\__init__.py -> build\\lib.win-amd64-3.9\\pandas\\tests\\indexes\\period\n",
      "  creating build\\lib.win-amd64-3.9\\pandas\\tests\\indexes\\timedeltas\n",
      "  copying pandas\\tests\\indexes\\timedeltas\\test_arithmetic.py -> build\\lib.win-amd64-3.9\\pandas\\tests\\indexes\\timedeltas\n",
      "  copying pandas\\tests\\indexes\\timedeltas\\test_astype.py -> build\\lib.win-amd64-3.9\\pandas\\tests\\indexes\\timedeltas\n",
      "  copying pandas\\tests\\indexes\\timedeltas\\test_construction.py -> build\\lib.win-amd64-3.9\\pandas\\tests\\indexes\\timedeltas\n",
      "  copying pandas\\tests\\indexes\\timedeltas\\test_formats.py -> build\\lib.win-amd64-3.9\\pandas\\tests\\indexes\\timedeltas\n",
      "  copying pandas\\tests\\indexes\\timedeltas\\test_indexing.py -> build\\lib.win-amd64-3.9\\pandas\\tests\\indexes\\timedeltas\n",
      "  copying pandas\\tests\\indexes\\timedeltas\\test_ops.py -> build\\lib.win-amd64-3.9\\pandas\\tests\\indexes\\timedeltas\n",
      "  copying pandas\\tests\\indexes\\timedeltas\\test_partial_slicing.py -> build\\lib.win-amd64-3.9\\pandas\\tests\\indexes\\timedeltas\n",
      "  copying pandas\\tests\\indexes\\timedeltas\\test_scalar_compat.py -> build\\lib.win-amd64-3.9\\pandas\\tests\\indexes\\timedeltas\n",
      "  copying pandas\\tests\\indexes\\timedeltas\\test_setops.py -> build\\lib.win-amd64-3.9\\pandas\\tests\\indexes\\timedeltas\n",
      "  copying pandas\\tests\\indexes\\timedeltas\\test_timedelta.py -> build\\lib.win-amd64-3.9\\pandas\\tests\\indexes\\timedeltas\n",
      "  copying pandas\\tests\\indexes\\timedeltas\\test_timedelta_range.py -> build\\lib.win-amd64-3.9\\pandas\\tests\\indexes\\timedeltas\n",
      "  copying pandas\\tests\\indexes\\timedeltas\\test_tools.py -> build\\lib.win-amd64-3.9\\pandas\\tests\\indexes\\timedeltas\n",
      "  copying pandas\\tests\\indexes\\timedeltas\\__init__.py -> build\\lib.win-amd64-3.9\\pandas\\tests\\indexes\\timedeltas\n",
      "  creating build\\lib.win-amd64-3.9\\pandas\\tests\\indexing\\interval\n",
      "  copying pandas\\tests\\indexing\\interval\\test_interval.py -> build\\lib.win-amd64-3.9\\pandas\\tests\\indexing\\interval\n",
      "  copying pandas\\tests\\indexing\\interval\\test_interval_new.py -> build\\lib.win-amd64-3.9\\pandas\\tests\\indexing\\interval\n",
      "  copying pandas\\tests\\indexing\\interval\\__init__.py -> build\\lib.win-amd64-3.9\\pandas\\tests\\indexing\\interval\n",
      "  creating build\\lib.win-amd64-3.9\\pandas\\tests\\indexing\\multiindex\n",
      "  copying pandas\\tests\\indexing\\multiindex\\conftest.py -> build\\lib.win-amd64-3.9\\pandas\\tests\\indexing\\multiindex\n",
      "  copying pandas\\tests\\indexing\\multiindex\\test_chaining_and_caching.py -> build\\lib.win-amd64-3.9\\pandas\\tests\\indexing\\multiindex\n",
      "  copying pandas\\tests\\indexing\\multiindex\\test_datetime.py -> build\\lib.win-amd64-3.9\\pandas\\tests\\indexing\\multiindex\n",
      "  copying pandas\\tests\\indexing\\multiindex\\test_getitem.py -> build\\lib.win-amd64-3.9\\pandas\\tests\\indexing\\multiindex\n",
      "  copying pandas\\tests\\indexing\\multiindex\\test_iloc.py -> build\\lib.win-amd64-3.9\\pandas\\tests\\indexing\\multiindex\n",
      "  copying pandas\\tests\\indexing\\multiindex\\test_indexing_slow.py -> build\\lib.win-amd64-3.9\\pandas\\tests\\indexing\\multiindex\n",
      "  copying pandas\\tests\\indexing\\multiindex\\test_ix.py -> build\\lib.win-amd64-3.9\\pandas\\tests\\indexing\\multiindex\n",
      "  copying pandas\\tests\\indexing\\multiindex\\test_loc.py -> build\\lib.win-amd64-3.9\\pandas\\tests\\indexing\\multiindex\n",
      "  copying pandas\\tests\\indexing\\multiindex\\test_multiindex.py -> build\\lib.win-amd64-3.9\\pandas\\tests\\indexing\\multiindex\n",
      "  copying pandas\\tests\\indexing\\multiindex\\test_panel.py -> build\\lib.win-amd64-3.9\\pandas\\tests\\indexing\\multiindex\n",
      "  copying pandas\\tests\\indexing\\multiindex\\test_partial.py -> build\\lib.win-amd64-3.9\\pandas\\tests\\indexing\\multiindex\n",
      "  copying pandas\\tests\\indexing\\multiindex\\test_setitem.py -> build\\lib.win-amd64-3.9\\pandas\\tests\\indexing\\multiindex\n",
      "  copying pandas\\tests\\indexing\\multiindex\\test_set_ops.py -> build\\lib.win-amd64-3.9\\pandas\\tests\\indexing\\multiindex\n",
      "  copying pandas\\tests\\indexing\\multiindex\\test_slice.py -> build\\lib.win-amd64-3.9\\pandas\\tests\\indexing\\multiindex\n",
      "  copying pandas\\tests\\indexing\\multiindex\\test_sorted.py -> build\\lib.win-amd64-3.9\\pandas\\tests\\indexing\\multiindex\n",
      "  copying pandas\\tests\\indexing\\multiindex\\test_xs.py -> build\\lib.win-amd64-3.9\\pandas\\tests\\indexing\\multiindex\n",
      "  copying pandas\\tests\\indexing\\multiindex\\__init__.py -> build\\lib.win-amd64-3.9\\pandas\\tests\\indexing\\multiindex\n",
      "  creating build\\lib.win-amd64-3.9\\pandas\\tests\\io\\formats\n",
      "  copying pandas\\tests\\io\\formats\\test_console.py -> build\\lib.win-amd64-3.9\\pandas\\tests\\io\\formats\n",
      "  copying pandas\\tests\\io\\formats\\test_css.py -> build\\lib.win-amd64-3.9\\pandas\\tests\\io\\formats\n",
      "  copying pandas\\tests\\io\\formats\\test_eng_formatting.py -> build\\lib.win-amd64-3.9\\pandas\\tests\\io\\formats\n",
      "  copying pandas\\tests\\io\\formats\\test_format.py -> build\\lib.win-amd64-3.9\\pandas\\tests\\io\\formats\n",
      "  copying pandas\\tests\\io\\formats\\test_printing.py -> build\\lib.win-amd64-3.9\\pandas\\tests\\io\\formats\n",
      "  copying pandas\\tests\\io\\formats\\test_style.py -> build\\lib.win-amd64-3.9\\pandas\\tests\\io\\formats\n",
      "  copying pandas\\tests\\io\\formats\\test_to_csv.py -> build\\lib.win-amd64-3.9\\pandas\\tests\\io\\formats\n",
      "  copying pandas\\tests\\io\\formats\\test_to_excel.py -> build\\lib.win-amd64-3.9\\pandas\\tests\\io\\formats\n",
      "  copying pandas\\tests\\io\\formats\\test_to_html.py -> build\\lib.win-amd64-3.9\\pandas\\tests\\io\\formats\n",
      "  copying pandas\\tests\\io\\formats\\test_to_latex.py -> build\\lib.win-amd64-3.9\\pandas\\tests\\io\\formats\n",
      "  copying pandas\\tests\\io\\formats\\__init__.py -> build\\lib.win-amd64-3.9\\pandas\\tests\\io\\formats\n",
      "  creating build\\lib.win-amd64-3.9\\pandas\\tests\\io\\json\n",
      "  copying pandas\\tests\\io\\json\\test_compression.py -> build\\lib.win-amd64-3.9\\pandas\\tests\\io\\json\n",
      "  copying pandas\\tests\\io\\json\\test_json_table_schema.py -> build\\lib.win-amd64-3.9\\pandas\\tests\\io\\json\n",
      "  copying pandas\\tests\\io\\json\\test_normalize.py -> build\\lib.win-amd64-3.9\\pandas\\tests\\io\\json\n",
      "  copying pandas\\tests\\io\\json\\test_pandas.py -> build\\lib.win-amd64-3.9\\pandas\\tests\\io\\json\n",
      "  copying pandas\\tests\\io\\json\\test_readlines.py -> build\\lib.win-amd64-3.9\\pandas\\tests\\io\\json\n",
      "  copying pandas\\tests\\io\\json\\test_ujson.py -> build\\lib.win-amd64-3.9\\pandas\\tests\\io\\json\n",
      "  copying pandas\\tests\\io\\json\\__init__.py -> build\\lib.win-amd64-3.9\\pandas\\tests\\io\\json\n",
      "  creating build\\lib.win-amd64-3.9\\pandas\\tests\\io\\msgpack\n",
      "  copying pandas\\tests\\io\\msgpack\\common.py -> build\\lib.win-amd64-3.9\\pandas\\tests\\io\\msgpack\n",
      "  copying pandas\\tests\\io\\msgpack\\test_buffer.py -> build\\lib.win-amd64-3.9\\pandas\\tests\\io\\msgpack\n",
      "  copying pandas\\tests\\io\\msgpack\\test_case.py -> build\\lib.win-amd64-3.9\\pandas\\tests\\io\\msgpack\n",
      "  copying pandas\\tests\\io\\msgpack\\test_except.py -> build\\lib.win-amd64-3.9\\pandas\\tests\\io\\msgpack\n",
      "  copying pandas\\tests\\io\\msgpack\\test_extension.py -> build\\lib.win-amd64-3.9\\pandas\\tests\\io\\msgpack\n",
      "  copying pandas\\tests\\io\\msgpack\\test_format.py -> build\\lib.win-amd64-3.9\\pandas\\tests\\io\\msgpack\n",
      "  copying pandas\\tests\\io\\msgpack\\test_limits.py -> build\\lib.win-amd64-3.9\\pandas\\tests\\io\\msgpack\n",
      "  copying pandas\\tests\\io\\msgpack\\test_newspec.py -> build\\lib.win-amd64-3.9\\pandas\\tests\\io\\msgpack\n",
      "  copying pandas\\tests\\io\\msgpack\\test_obj.py -> build\\lib.win-amd64-3.9\\pandas\\tests\\io\\msgpack\n",
      "  copying pandas\\tests\\io\\msgpack\\test_pack.py -> build\\lib.win-amd64-3.9\\pandas\\tests\\io\\msgpack\n",
      "  copying pandas\\tests\\io\\msgpack\\test_read_size.py -> build\\lib.win-amd64-3.9\\pandas\\tests\\io\\msgpack\n",
      "  copying pandas\\tests\\io\\msgpack\\test_seq.py -> build\\lib.win-amd64-3.9\\pandas\\tests\\io\\msgpack\n",
      "  copying pandas\\tests\\io\\msgpack\\test_sequnpack.py -> build\\lib.win-amd64-3.9\\pandas\\tests\\io\\msgpack\n",
      "  copying pandas\\tests\\io\\msgpack\\test_subtype.py -> build\\lib.win-amd64-3.9\\pandas\\tests\\io\\msgpack\n",
      "  copying pandas\\tests\\io\\msgpack\\test_unpack.py -> build\\lib.win-amd64-3.9\\pandas\\tests\\io\\msgpack\n",
      "  copying pandas\\tests\\io\\msgpack\\test_unpack_raw.py -> build\\lib.win-amd64-3.9\\pandas\\tests\\io\\msgpack\n",
      "  copying pandas\\tests\\io\\msgpack\\__init__.py -> build\\lib.win-amd64-3.9\\pandas\\tests\\io\\msgpack\n",
      "  creating build\\lib.win-amd64-3.9\\pandas\\tests\\io\\parser\n",
      "  copying pandas\\tests\\io\\parser\\conftest.py -> build\\lib.win-amd64-3.9\\pandas\\tests\\io\\parser\n",
      "  copying pandas\\tests\\io\\parser\\test_comment.py -> build\\lib.win-amd64-3.9\\pandas\\tests\\io\\parser\n",
      "  copying pandas\\tests\\io\\parser\\test_common.py -> build\\lib.win-amd64-3.9\\pandas\\tests\\io\\parser\n",
      "  copying pandas\\tests\\io\\parser\\test_compression.py -> build\\lib.win-amd64-3.9\\pandas\\tests\\io\\parser\n",
      "  copying pandas\\tests\\io\\parser\\test_converters.py -> build\\lib.win-amd64-3.9\\pandas\\tests\\io\\parser\n",
      "  copying pandas\\tests\\io\\parser\\test_c_parser_only.py -> build\\lib.win-amd64-3.9\\pandas\\tests\\io\\parser\n",
      "  copying pandas\\tests\\io\\parser\\test_dialect.py -> build\\lib.win-amd64-3.9\\pandas\\tests\\io\\parser\n",
      "  copying pandas\\tests\\io\\parser\\test_dtypes.py -> build\\lib.win-amd64-3.9\\pandas\\tests\\io\\parser\n",
      "  copying pandas\\tests\\io\\parser\\test_header.py -> build\\lib.win-amd64-3.9\\pandas\\tests\\io\\parser\n",
      "  copying pandas\\tests\\io\\parser\\test_index_col.py -> build\\lib.win-amd64-3.9\\pandas\\tests\\io\\parser\n",
      "  copying pandas\\tests\\io\\parser\\test_mangle_dupes.py -> build\\lib.win-amd64-3.9\\pandas\\tests\\io\\parser\n",
      "  copying pandas\\tests\\io\\parser\\test_multi_thread.py -> build\\lib.win-amd64-3.9\\pandas\\tests\\io\\parser\n",
      "  copying pandas\\tests\\io\\parser\\test_na_values.py -> build\\lib.win-amd64-3.9\\pandas\\tests\\io\\parser\n",
      "  copying pandas\\tests\\io\\parser\\test_network.py -> build\\lib.win-amd64-3.9\\pandas\\tests\\io\\parser\n",
      "  copying pandas\\tests\\io\\parser\\test_parse_dates.py -> build\\lib.win-amd64-3.9\\pandas\\tests\\io\\parser\n",
      "  copying pandas\\tests\\io\\parser\\test_python_parser_only.py -> build\\lib.win-amd64-3.9\\pandas\\tests\\io\\parser\n",
      "  copying pandas\\tests\\io\\parser\\test_quoting.py -> build\\lib.win-amd64-3.9\\pandas\\tests\\io\\parser\n",
      "  copying pandas\\tests\\io\\parser\\test_read_fwf.py -> build\\lib.win-amd64-3.9\\pandas\\tests\\io\\parser\n",
      "  copying pandas\\tests\\io\\parser\\test_skiprows.py -> build\\lib.win-amd64-3.9\\pandas\\tests\\io\\parser\n",
      "  copying pandas\\tests\\io\\parser\\test_textreader.py -> build\\lib.win-amd64-3.9\\pandas\\tests\\io\\parser\n",
      "  copying pandas\\tests\\io\\parser\\test_unsupported.py -> build\\lib.win-amd64-3.9\\pandas\\tests\\io\\parser\n",
      "  copying pandas\\tests\\io\\parser\\test_usecols.py -> build\\lib.win-amd64-3.9\\pandas\\tests\\io\\parser\n",
      "  copying pandas\\tests\\io\\parser\\__init__.py -> build\\lib.win-amd64-3.9\\pandas\\tests\\io\\parser\n",
      "  creating build\\lib.win-amd64-3.9\\pandas\\tests\\io\\sas\n",
      "  copying pandas\\tests\\io\\sas\\test_sas.py -> build\\lib.win-amd64-3.9\\pandas\\tests\\io\\sas\n",
      "  copying pandas\\tests\\io\\sas\\test_sas7bdat.py -> build\\lib.win-amd64-3.9\\pandas\\tests\\io\\sas\n",
      "  copying pandas\\tests\\io\\sas\\test_xport.py -> build\\lib.win-amd64-3.9\\pandas\\tests\\io\\sas\n",
      "  copying pandas\\tests\\io\\sas\\__init__.py -> build\\lib.win-amd64-3.9\\pandas\\tests\\io\\sas\n",
      "  creating build\\lib.win-amd64-3.9\\pandas\\tests\\reshape\\merge\n",
      "  copying pandas\\tests\\reshape\\merge\\test_join.py -> build\\lib.win-amd64-3.9\\pandas\\tests\\reshape\\merge\n",
      "  copying pandas\\tests\\reshape\\merge\\test_merge.py -> build\\lib.win-amd64-3.9\\pandas\\tests\\reshape\\merge\n",
      "  copying pandas\\tests\\reshape\\merge\\test_merge_asof.py -> build\\lib.win-amd64-3.9\\pandas\\tests\\reshape\\merge\n",
      "  copying pandas\\tests\\reshape\\merge\\test_merge_index_as_string.py -> build\\lib.win-amd64-3.9\\pandas\\tests\\reshape\\merge\n",
      "  copying pandas\\tests\\reshape\\merge\\test_merge_ordered.py -> build\\lib.win-amd64-3.9\\pandas\\tests\\reshape\\merge\n",
      "  copying pandas\\tests\\reshape\\merge\\test_multi.py -> build\\lib.win-amd64-3.9\\pandas\\tests\\reshape\\merge\n",
      "  copying pandas\\tests\\reshape\\merge\\__init__.py -> build\\lib.win-amd64-3.9\\pandas\\tests\\reshape\\merge\n",
      "  creating build\\lib.win-amd64-3.9\\pandas\\tests\\scalar\\interval\n",
      "  copying pandas\\tests\\scalar\\interval\\test_interval.py -> build\\lib.win-amd64-3.9\\pandas\\tests\\scalar\\interval\n",
      "  copying pandas\\tests\\scalar\\interval\\test_ops.py -> build\\lib.win-amd64-3.9\\pandas\\tests\\scalar\\interval\n",
      "  copying pandas\\tests\\scalar\\interval\\__init__.py -> build\\lib.win-amd64-3.9\\pandas\\tests\\scalar\\interval\n",
      "  creating build\\lib.win-amd64-3.9\\pandas\\tests\\scalar\\period\n",
      "  copying pandas\\tests\\scalar\\period\\test_asfreq.py -> build\\lib.win-amd64-3.9\\pandas\\tests\\scalar\\period\n",
      "  copying pandas\\tests\\scalar\\period\\test_period.py -> build\\lib.win-amd64-3.9\\pandas\\tests\\scalar\\period\n",
      "  copying pandas\\tests\\scalar\\period\\__init__.py -> build\\lib.win-amd64-3.9\\pandas\\tests\\scalar\\period\n",
      "  creating build\\lib.win-amd64-3.9\\pandas\\tests\\scalar\\timedelta\n",
      "  copying pandas\\tests\\scalar\\timedelta\\test_arithmetic.py -> build\\lib.win-amd64-3.9\\pandas\\tests\\scalar\\timedelta\n",
      "  copying pandas\\tests\\scalar\\timedelta\\test_construction.py -> build\\lib.win-amd64-3.9\\pandas\\tests\\scalar\\timedelta\n",
      "  copying pandas\\tests\\scalar\\timedelta\\test_formats.py -> build\\lib.win-amd64-3.9\\pandas\\tests\\scalar\\timedelta\n",
      "  copying pandas\\tests\\scalar\\timedelta\\test_timedelta.py -> build\\lib.win-amd64-3.9\\pandas\\tests\\scalar\\timedelta\n",
      "  copying pandas\\tests\\scalar\\timedelta\\__init__.py -> build\\lib.win-amd64-3.9\\pandas\\tests\\scalar\\timedelta\n",
      "  creating build\\lib.win-amd64-3.9\\pandas\\tests\\scalar\\timestamp\n",
      "  copying pandas\\tests\\scalar\\timestamp\\test_arithmetic.py -> build\\lib.win-amd64-3.9\\pandas\\tests\\scalar\\timestamp\n",
      "  copying pandas\\tests\\scalar\\timestamp\\test_comparisons.py -> build\\lib.win-amd64-3.9\\pandas\\tests\\scalar\\timestamp\n",
      "  copying pandas\\tests\\scalar\\timestamp\\test_rendering.py -> build\\lib.win-amd64-3.9\\pandas\\tests\\scalar\\timestamp\n",
      "  copying pandas\\tests\\scalar\\timestamp\\test_timestamp.py -> build\\lib.win-amd64-3.9\\pandas\\tests\\scalar\\timestamp\n",
      "  copying pandas\\tests\\scalar\\timestamp\\test_timezones.py -> build\\lib.win-amd64-3.9\\pandas\\tests\\scalar\\timestamp\n",
      "  copying pandas\\tests\\scalar\\timestamp\\test_unary_ops.py -> build\\lib.win-amd64-3.9\\pandas\\tests\\scalar\\timestamp\n",
      "  copying pandas\\tests\\scalar\\timestamp\\__init__.py -> build\\lib.win-amd64-3.9\\pandas\\tests\\scalar\\timestamp\n",
      "  creating build\\lib.win-amd64-3.9\\pandas\\tests\\series\\indexing\n",
      "  copying pandas\\tests\\series\\indexing\\conftest.py -> build\\lib.win-amd64-3.9\\pandas\\tests\\series\\indexing\n",
      "  copying pandas\\tests\\series\\indexing\\test_alter_index.py -> build\\lib.win-amd64-3.9\\pandas\\tests\\series\\indexing\n",
      "  copying pandas\\tests\\series\\indexing\\test_boolean.py -> build\\lib.win-amd64-3.9\\pandas\\tests\\series\\indexing\n",
      "  copying pandas\\tests\\series\\indexing\\test_callable.py -> build\\lib.win-amd64-3.9\\pandas\\tests\\series\\indexing\n",
      "  copying pandas\\tests\\series\\indexing\\test_datetime.py -> build\\lib.win-amd64-3.9\\pandas\\tests\\series\\indexing\n",
      "  copying pandas\\tests\\series\\indexing\\test_iloc.py -> build\\lib.win-amd64-3.9\\pandas\\tests\\series\\indexing\n",
      "  copying pandas\\tests\\series\\indexing\\test_indexing.py -> build\\lib.win-amd64-3.9\\pandas\\tests\\series\\indexing\n",
      "  copying pandas\\tests\\series\\indexing\\test_loc.py -> build\\lib.win-amd64-3.9\\pandas\\tests\\series\\indexing\n",
      "  copying pandas\\tests\\series\\indexing\\test_numeric.py -> build\\lib.win-amd64-3.9\\pandas\\tests\\series\\indexing\n",
      "  copying pandas\\tests\\series\\indexing\\__init__.py -> build\\lib.win-amd64-3.9\\pandas\\tests\\series\\indexing\n",
      "  creating build\\lib.win-amd64-3.9\\pandas\\tests\\sparse\\frame\n",
      "  copying pandas\\tests\\sparse\\frame\\conftest.py -> build\\lib.win-amd64-3.9\\pandas\\tests\\sparse\\frame\n",
      "  copying pandas\\tests\\sparse\\frame\\test_analytics.py -> build\\lib.win-amd64-3.9\\pandas\\tests\\sparse\\frame\n",
      "  copying pandas\\tests\\sparse\\frame\\test_apply.py -> build\\lib.win-amd64-3.9\\pandas\\tests\\sparse\\frame\n",
      "  copying pandas\\tests\\sparse\\frame\\test_frame.py -> build\\lib.win-amd64-3.9\\pandas\\tests\\sparse\\frame\n",
      "  copying pandas\\tests\\sparse\\frame\\test_indexing.py -> build\\lib.win-amd64-3.9\\pandas\\tests\\sparse\\frame\n",
      "  copying pandas\\tests\\sparse\\frame\\test_to_csv.py -> build\\lib.win-amd64-3.9\\pandas\\tests\\sparse\\frame\n",
      "  copying pandas\\tests\\sparse\\frame\\test_to_from_scipy.py -> build\\lib.win-amd64-3.9\\pandas\\tests\\sparse\\frame\n",
      "  copying pandas\\tests\\sparse\\frame\\__init__.py -> build\\lib.win-amd64-3.9\\pandas\\tests\\sparse\\frame\n",
      "  creating build\\lib.win-amd64-3.9\\pandas\\tests\\sparse\\series\n",
      "  copying pandas\\tests\\sparse\\series\\test_indexing.py -> build\\lib.win-amd64-3.9\\pandas\\tests\\sparse\\series\n",
      "  copying pandas\\tests\\sparse\\series\\test_series.py -> build\\lib.win-amd64-3.9\\pandas\\tests\\sparse\\series\n",
      "  copying pandas\\tests\\sparse\\series\\__init__.py -> build\\lib.win-amd64-3.9\\pandas\\tests\\sparse\\series\n",
      "  creating build\\lib.win-amd64-3.9\\pandas\\tests\\tseries\\offsets\n",
      "  copying pandas\\tests\\tseries\\offsets\\common.py -> build\\lib.win-amd64-3.9\\pandas\\tests\\tseries\\offsets\n",
      "  copying pandas\\tests\\tseries\\offsets\\conftest.py -> build\\lib.win-amd64-3.9\\pandas\\tests\\tseries\\offsets\n",
      "  copying pandas\\tests\\tseries\\offsets\\test_fiscal.py -> build\\lib.win-amd64-3.9\\pandas\\tests\\tseries\\offsets\n",
      "  copying pandas\\tests\\tseries\\offsets\\test_offsets.py -> build\\lib.win-amd64-3.9\\pandas\\tests\\tseries\\offsets\n",
      "  copying pandas\\tests\\tseries\\offsets\\test_offsets_properties.py -> build\\lib.win-amd64-3.9\\pandas\\tests\\tseries\\offsets\n",
      "  copying pandas\\tests\\tseries\\offsets\\test_ticks.py -> build\\lib.win-amd64-3.9\\pandas\\tests\\tseries\\offsets\n",
      "  copying pandas\\tests\\tseries\\offsets\\test_yqm_offsets.py -> build\\lib.win-amd64-3.9\\pandas\\tests\\tseries\\offsets\n",
      "  copying pandas\\tests\\tseries\\offsets\\__init__.py -> build\\lib.win-amd64-3.9\\pandas\\tests\\tseries\\offsets\n",
      "  creating build\\lib.win-amd64-3.9\\pandas\\_libs\\tslibs\n",
      "  copying pandas\\_libs\\tslibs\\__init__.py -> build\\lib.win-amd64-3.9\\pandas\\_libs\\tslibs\n",
      "  creating build\\lib.win-amd64-3.9\\pandas\\io\\formats\\templates\n",
      "  copying pandas\\io\\formats\\templates\\html.tpl -> build\\lib.win-amd64-3.9\\pandas\\io\\formats\\templates\n",
      "  UPDATING build\\lib.win-amd64-3.9\\pandas/_version.py\n",
      "  set build\\lib.win-amd64-3.9\\pandas/_version.py to '0.24.2'\n",
      "  running build_ext\n",
      "  building 'pandas._libs.algos' extension\n",
      "  error: Microsoft Visual C++ 14.0 or greater is required. Get it with \"Microsoft C++ Build Tools\": https://visualstudio.microsoft.com/visual-cpp-build-tools/\n",
      "  ----------------------------------------\n",
      "  ERROR: Failed building wheel for pandas\n",
      "    ERROR: Command errored out with exit status 1:\n",
      "     command: 'C:\\Users\\danco\\anaconda3\\python.exe' -u -c 'import io, os, sys, setuptools, tokenize; sys.argv[0] = '\"'\"'C:\\\\Users\\\\danco\\\\AppData\\\\Local\\\\Temp\\\\pip-install-ffprc4m8\\\\pandas_0e397dacbc1148db9e2f4f30e299fab5\\\\setup.py'\"'\"'; __file__='\"'\"'C:\\\\Users\\\\danco\\\\AppData\\\\Local\\\\Temp\\\\pip-install-ffprc4m8\\\\pandas_0e397dacbc1148db9e2f4f30e299fab5\\\\setup.py'\"'\"';f = getattr(tokenize, '\"'\"'open'\"'\"', open)(__file__) if os.path.exists(__file__) else io.StringIO('\"'\"'from setuptools import setup; setup()'\"'\"');code = f.read().replace('\"'\"'\\r\\n'\"'\"', '\"'\"'\\n'\"'\"');f.close();exec(compile(code, __file__, '\"'\"'exec'\"'\"'))' install --record 'C:\\Users\\danco\\AppData\\Local\\Temp\\pip-record-jntu2emx\\install-record.txt' --single-version-externally-managed --compile --install-headers 'C:\\Users\\danco\\anaconda3\\Include\\pandas'\n",
      "         cwd: C:\\Users\\danco\\AppData\\Local\\Temp\\pip-install-ffprc4m8\\pandas_0e397dacbc1148db9e2f4f30e299fab5\\\n",
      "    Complete output (1003 lines):\n",
      "    C:\\Users\\danco\\AppData\\Local\\Temp\\pip-install-ffprc4m8\\pandas_0e397dacbc1148db9e2f4f30e299fab5\\setup.py:50: DeprecationWarning: distutils Version classes are deprecated. Use packaging.version instead.\n",
      "      _CYTHON_INSTALLED = ver >= LooseVersion(min_cython_ver)\n",
      "    Compiling pandas\\_libs/algos.pyx because it changed.\n",
      "    Compiling pandas\\_libs/groupby.pyx because it changed.\n",
      "    Compiling pandas\\_libs/hashing.pyx because it changed.\n",
      "    Compiling pandas\\_libs/hashtable.pyx because it changed.\n",
      "    Compiling pandas\\_libs/index.pyx because it changed.\n",
      "    Compiling pandas\\_libs/indexing.pyx because it changed.\n",
      "    Compiling pandas\\_libs/internals.pyx because it changed.\n",
      "    Compiling pandas\\_libs/interval.pyx because it changed.\n",
      "    Compiling pandas\\_libs/join.pyx because it changed.\n",
      "    Compiling pandas\\_libs/lib.pyx because it changed.\n",
      "    Compiling pandas\\_libs/missing.pyx because it changed.\n",
      "    Compiling pandas\\_libs/parsers.pyx because it changed.\n",
      "    Compiling pandas\\_libs/reduction.pyx because it changed.\n",
      "    Compiling pandas\\_libs/ops.pyx because it changed.\n",
      "    Compiling pandas\\_libs/properties.pyx because it changed.\n",
      "    Compiling pandas\\_libs/reshape.pyx because it changed.\n",
      "    Compiling pandas\\_libs/skiplist.pyx because it changed.\n",
      "    Compiling pandas\\_libs/sparse.pyx because it changed.\n",
      "    Compiling pandas\\_libs/tslib.pyx because it changed.\n",
      "    Compiling pandas\\_libs/tslibs/ccalendar.pyx because it changed.\n",
      "    Compiling pandas\\_libs/tslibs/conversion.pyx because it changed.\n",
      "    Compiling pandas\\_libs/tslibs/fields.pyx because it changed.\n",
      "    Compiling pandas\\_libs/tslibs/frequencies.pyx because it changed.\n",
      "    Compiling pandas\\_libs/tslibs/nattype.pyx because it changed.\n",
      "    Compiling pandas\\_libs/tslibs/np_datetime.pyx because it changed.\n",
      "    Compiling pandas\\_libs/tslibs/offsets.pyx because it changed.\n",
      "    Compiling pandas\\_libs/tslibs/parsing.pyx because it changed.\n",
      "    Compiling pandas\\_libs/tslibs/period.pyx because it changed.\n",
      "    Compiling pandas\\_libs/tslibs/resolution.pyx because it changed.\n",
      "    Compiling pandas\\_libs/tslibs/strptime.pyx because it changed.\n",
      "    Compiling pandas\\_libs/tslibs/timedeltas.pyx because it changed.\n",
      "    Compiling pandas\\_libs/tslibs/timestamps.pyx because it changed.\n",
      "    Compiling pandas\\_libs/tslibs/timezones.pyx because it changed.\n",
      "    Compiling pandas\\_libs/testing.pyx because it changed.\n",
      "    Compiling pandas\\_libs/writers.pyx because it changed.\n",
      "    Compiling pandas\\io/sas/sas.pyx because it changed.\n",
      "    [ 1/36] Cythonizing pandas\\_libs/algos.pyx\n",
      "    [ 2/36] Cythonizing pandas\\_libs/groupby.pyx\n",
      "    [ 3/36] Cythonizing pandas\\_libs/hashing.pyx\n",
      "    [ 4/36] Cythonizing pandas\\_libs/hashtable.pyx\n",
      "    [ 5/36] Cythonizing pandas\\_libs/index.pyx\n",
      "    [ 6/36] Cythonizing pandas\\_libs/indexing.pyx\n",
      "    [ 7/36] Cythonizing pandas\\_libs/internals.pyx\n",
      "    [ 8/36] Cythonizing pandas\\_libs/interval.pyx\n",
      "    [ 9/36] Cythonizing pandas\\_libs/join.pyx\n",
      "    [10/36] Cythonizing pandas\\_libs/lib.pyx\n",
      "    [11/36] Cythonizing pandas\\_libs/missing.pyx\n",
      "    [12/36] Cythonizing pandas\\_libs/ops.pyx\n",
      "    [13/36] Cythonizing pandas\\_libs/parsers.pyx\n",
      "    warning: pandas\\_libs\\parsers.pyx:1764:34: Casting a GIL-requiring function into a nogil function circumvents GIL validation\n",
      "    [14/36] Cythonizing pandas\\_libs/properties.pyx\n",
      "    [15/36] Cythonizing pandas\\_libs/reduction.pyx\n",
      "    [16/36] Cythonizing pandas\\_libs/reshape.pyx\n",
      "    [17/36] Cythonizing pandas\\_libs/skiplist.pyx\n",
      "    [18/36] Cythonizing pandas\\_libs/sparse.pyx\n",
      "    [19/36] Cythonizing pandas\\_libs/testing.pyx\n",
      "    [20/36] Cythonizing pandas\\_libs/tslib.pyx\n",
      "    warning: pandas\\_libs\\tslib.pyx:720:49: Buffer unpacking not optimized away.\n",
      "    warning: pandas\\_libs\\tslib.pyx:720:49: Buffer unpacking not optimized away.\n",
      "    [21/36] Cythonizing pandas\\_libs/tslibs/ccalendar.pyx\n",
      "    [22/36] Cythonizing pandas\\_libs/tslibs/conversion.pyx\n",
      "    [23/36] Cythonizing pandas\\_libs/tslibs/fields.pyx\n",
      "    [24/36] Cythonizing pandas\\_libs/tslibs/frequencies.pyx\n",
      "    [25/36] Cythonizing pandas\\_libs/tslibs/nattype.pyx\n",
      "    [26/36] Cythonizing pandas\\_libs/tslibs/np_datetime.pyx\n",
      "    [27/36] Cythonizing pandas\\_libs/tslibs/offsets.pyx\n",
      "    [28/36] Cythonizing pandas\\_libs/tslibs/parsing.pyx\n",
      "    [29/36] Cythonizing pandas\\_libs/tslibs/period.pyx\n",
      "    warning: pandas\\_libs\\tslibs\\period.pyx:158:19: Casting a GIL-requiring function into a nogil function circumvents GIL validation\n",
      "    warning: pandas\\_libs\\tslibs\\period.pyx:160:19: Casting a GIL-requiring function into a nogil function circumvents GIL validation\n",
      "    warning: pandas\\_libs\\tslibs\\period.pyx:162:19: Casting a GIL-requiring function into a nogil function circumvents GIL validation\n",
      "    warning: pandas\\_libs\\tslibs\\period.pyx:164:19: Casting a GIL-requiring function into a nogil function circumvents GIL validation\n",
      "    warning: pandas\\_libs\\tslibs\\period.pyx:166:19: Casting a GIL-requiring function into a nogil function circumvents GIL validation\n",
      "    warning: pandas\\_libs\\tslibs\\period.pyx:168:19: Casting a GIL-requiring function into a nogil function circumvents GIL validation\n",
      "    warning: pandas\\_libs\\tslibs\\period.pyx:170:19: Casting a GIL-requiring function into a nogil function circumvents GIL validation\n",
      "    warning: pandas\\_libs\\tslibs\\period.pyx:174:19: Casting a GIL-requiring function into a nogil function circumvents GIL validation\n",
      "    warning: pandas\\_libs\\tslibs\\period.pyx:176:19: Casting a GIL-requiring function into a nogil function circumvents GIL validation\n",
      "    warning: pandas\\_libs\\tslibs\\period.pyx:178:19: Casting a GIL-requiring function into a nogil function circumvents GIL validation\n",
      "    warning: pandas\\_libs\\tslibs\\period.pyx:180:19: Casting a GIL-requiring function into a nogil function circumvents GIL validation\n",
      "    warning: pandas\\_libs\\tslibs\\period.pyx:183:19: Casting a GIL-requiring function into a nogil function circumvents GIL validation\n",
      "    warning: pandas\\_libs\\tslibs\\period.pyx:185:19: Casting a GIL-requiring function into a nogil function circumvents GIL validation\n",
      "    warning: pandas\\_libs\\tslibs\\period.pyx:189:19: Casting a GIL-requiring function into a nogil function circumvents GIL validation\n",
      "    warning: pandas\\_libs\\tslibs\\period.pyx:191:19: Casting a GIL-requiring function into a nogil function circumvents GIL validation\n",
      "    warning: pandas\\_libs\\tslibs\\period.pyx:193:19: Casting a GIL-requiring function into a nogil function circumvents GIL validation\n",
      "    warning: pandas\\_libs\\tslibs\\period.pyx:195:19: Casting a GIL-requiring function into a nogil function circumvents GIL validation\n",
      "    warning: pandas\\_libs\\tslibs\\period.pyx:197:19: Casting a GIL-requiring function into a nogil function circumvents GIL validation\n",
      "    warning: pandas\\_libs\\tslibs\\period.pyx:199:19: Casting a GIL-requiring function into a nogil function circumvents GIL validation\n",
      "    warning: pandas\\_libs\\tslibs\\period.pyx:203:19: Casting a GIL-requiring function into a nogil function circumvents GIL validation\n",
      "    warning: pandas\\_libs\\tslibs\\period.pyx:205:19: Casting a GIL-requiring function into a nogil function circumvents GIL validation\n",
      "    warning: pandas\\_libs\\tslibs\\period.pyx:207:19: Casting a GIL-requiring function into a nogil function circumvents GIL validation\n",
      "    warning: pandas\\_libs\\tslibs\\period.pyx:209:19: Casting a GIL-requiring function into a nogil function circumvents GIL validation\n",
      "    warning: pandas\\_libs\\tslibs\\period.pyx:211:19: Casting a GIL-requiring function into a nogil function circumvents GIL validation\n",
      "    warning: pandas\\_libs\\tslibs\\period.pyx:213:19: Casting a GIL-requiring function into a nogil function circumvents GIL validation\n",
      "    warning: pandas\\_libs\\tslibs\\period.pyx:217:19: Casting a GIL-requiring function into a nogil function circumvents GIL validation\n",
      "    warning: pandas\\_libs\\tslibs\\period.pyx:219:19: Casting a GIL-requiring function into a nogil function circumvents GIL validation\n",
      "    warning: pandas\\_libs\\tslibs\\period.pyx:221:19: Casting a GIL-requiring function into a nogil function circumvents GIL validation\n",
      "    warning: pandas\\_libs\\tslibs\\period.pyx:223:19: Casting a GIL-requiring function into a nogil function circumvents GIL validation\n",
      "    warning: pandas\\_libs\\tslibs\\period.pyx:225:19: Casting a GIL-requiring function into a nogil function circumvents GIL validation\n",
      "    warning: pandas\\_libs\\tslibs\\period.pyx:227:19: Casting a GIL-requiring function into a nogil function circumvents GIL validation\n",
      "    warning: pandas\\_libs\\tslibs\\period.pyx:231:19: Casting a GIL-requiring function into a nogil function circumvents GIL validation\n",
      "    warning: pandas\\_libs\\tslibs\\period.pyx:233:19: Casting a GIL-requiring function into a nogil function circumvents GIL validation\n",
      "    warning: pandas\\_libs\\tslibs\\period.pyx:235:19: Casting a GIL-requiring function into a nogil function circumvents GIL validation\n",
      "    warning: pandas\\_libs\\tslibs\\period.pyx:237:19: Casting a GIL-requiring function into a nogil function circumvents GIL validation\n",
      "    warning: pandas\\_libs\\tslibs\\period.pyx:239:19: Casting a GIL-requiring function into a nogil function circumvents GIL validation\n",
      "    warning: pandas\\_libs\\tslibs\\period.pyx:241:19: Casting a GIL-requiring function into a nogil function circumvents GIL validation\n",
      "    warning: pandas\\_libs\\tslibs\\period.pyx:245:19: Casting a GIL-requiring function into a nogil function circumvents GIL validation\n",
      "    warning: pandas\\_libs\\tslibs\\period.pyx:247:19: Casting a GIL-requiring function into a nogil function circumvents GIL validation\n",
      "    warning: pandas\\_libs\\tslibs\\period.pyx:249:19: Casting a GIL-requiring function into a nogil function circumvents GIL validation\n",
      "    warning: pandas\\_libs\\tslibs\\period.pyx:251:19: Casting a GIL-requiring function into a nogil function circumvents GIL validation\n",
      "    warning: pandas\\_libs\\tslibs\\period.pyx:254:23: Casting a GIL-requiring function into a nogil function circumvents GIL validation\n",
      "    warning: pandas\\_libs\\tslibs\\period.pyx:256:23: Casting a GIL-requiring function into a nogil function circumvents GIL validation\n",
      "    warning: pandas\\_libs\\tslibs\\period.pyx:259:19: Casting a GIL-requiring function into a nogil function circumvents GIL validation\n",
      "    warning: pandas\\_libs\\tslibs\\period.pyx:262:15: Casting a GIL-requiring function into a nogil function circumvents GIL validation\n",
      "    warning: pandas\\_libs\\tslibs\\period.pyx:521:29: Casting a GIL-requiring function into a nogil function circumvents GIL validation\n",
      "    warning: pandas\\_libs\\tslibs\\period.pyx:522:29: Casting a GIL-requiring function into a nogil function circumvents GIL validation\n",
      "    warning: pandas\\_libs\\tslibs\\period.pyx:527:29: Casting a GIL-requiring function into a nogil function circumvents GIL validation\n",
      "    warning: pandas\\_libs\\tslibs\\period.pyx:528:29: Casting a GIL-requiring function into a nogil function circumvents GIL validation\n",
      "    warning: pandas\\_libs\\tslibs\\period.pyx:533:29: Casting a GIL-requiring function into a nogil function circumvents GIL validation\n",
      "    warning: pandas\\_libs\\tslibs\\period.pyx:534:29: Casting a GIL-requiring function into a nogil function circumvents GIL validation\n",
      "    warning: pandas\\_libs\\tslibs\\period.pyx:539:29: Casting a GIL-requiring function into a nogil function circumvents GIL validation\n",
      "    warning: pandas\\_libs\\tslibs\\period.pyx:540:29: Casting a GIL-requiring function into a nogil function circumvents GIL validation\n",
      "    warning: pandas\\_libs\\tslibs\\period.pyx:548:29: Casting a GIL-requiring function into a nogil function circumvents GIL validation\n",
      "    warning: pandas\\_libs\\tslibs\\period.pyx:549:29: Casting a GIL-requiring function into a nogil function circumvents GIL validation\n",
      "    warning: pandas\\_libs\\tslibs\\period.pyx:554:29: Casting a GIL-requiring function into a nogil function circumvents GIL validation\n",
      "    warning: pandas\\_libs\\tslibs\\period.pyx:555:29: Casting a GIL-requiring function into a nogil function circumvents GIL validation\n",
      "    warning: pandas\\_libs\\tslibs\\period.pyx:560:29: Casting a GIL-requiring function into a nogil function circumvents GIL validation\n",
      "    warning: pandas\\_libs\\tslibs\\period.pyx:561:29: Casting a GIL-requiring function into a nogil function circumvents GIL validation\n",
      "    warning: pandas\\_libs\\tslibs\\period.pyx:566:29: Casting a GIL-requiring function into a nogil function circumvents GIL validation\n",
      "    warning: pandas\\_libs\\tslibs\\period.pyx:567:29: Casting a GIL-requiring function into a nogil function circumvents GIL validation\n",
      "    warning: pandas\\_libs\\tslibs\\period.pyx:575:29: Casting a GIL-requiring function into a nogil function circumvents GIL validation\n",
      "    warning: pandas\\_libs\\tslibs\\period.pyx:576:29: Casting a GIL-requiring function into a nogil function circumvents GIL validation\n",
      "    warning: pandas\\_libs\\tslibs\\period.pyx:581:29: Casting a GIL-requiring function into a nogil function circumvents GIL validation\n",
      "    warning: pandas\\_libs\\tslibs\\period.pyx:582:29: Casting a GIL-requiring function into a nogil function circumvents GIL validation\n",
      "    warning: pandas\\_libs\\tslibs\\period.pyx:587:29: Casting a GIL-requiring function into a nogil function circumvents GIL validation\n",
      "    warning: pandas\\_libs\\tslibs\\period.pyx:588:29: Casting a GIL-requiring function into a nogil function circumvents GIL validation\n",
      "    warning: pandas\\_libs\\tslibs\\period.pyx:593:29: Casting a GIL-requiring function into a nogil function circumvents GIL validation\n",
      "    warning: pandas\\_libs\\tslibs\\period.pyx:594:29: Casting a GIL-requiring function into a nogil function circumvents GIL validation\n",
      "    warning: pandas\\_libs\\tslibs\\period.pyx:602:29: Casting a GIL-requiring function into a nogil function circumvents GIL validation\n",
      "    warning: pandas\\_libs\\tslibs\\period.pyx:603:29: Casting a GIL-requiring function into a nogil function circumvents GIL validation\n",
      "    warning: pandas\\_libs\\tslibs\\period.pyx:608:29: Casting a GIL-requiring function into a nogil function circumvents GIL validation\n",
      "    warning: pandas\\_libs\\tslibs\\period.pyx:609:29: Casting a GIL-requiring function into a nogil function circumvents GIL validation\n",
      "    warning: pandas\\_libs\\tslibs\\period.pyx:614:29: Casting a GIL-requiring function into a nogil function circumvents GIL validation\n",
      "    warning: pandas\\_libs\\tslibs\\period.pyx:615:29: Casting a GIL-requiring function into a nogil function circumvents GIL validation\n",
      "    warning: pandas\\_libs\\tslibs\\period.pyx:623:29: Casting a GIL-requiring function into a nogil function circumvents GIL validation\n",
      "    warning: pandas\\_libs\\tslibs\\period.pyx:624:29: Casting a GIL-requiring function into a nogil function circumvents GIL validation\n",
      "    warning: pandas\\_libs\\tslibs\\period.pyx:629:29: Casting a GIL-requiring function into a nogil function circumvents GIL validation\n",
      "    warning: pandas\\_libs\\tslibs\\period.pyx:630:29: Casting a GIL-requiring function into a nogil function circumvents GIL validation\n",
      "    warning: pandas\\_libs\\tslibs\\period.pyx:635:29: Casting a GIL-requiring function into a nogil function circumvents GIL validation\n",
      "    warning: pandas\\_libs\\tslibs\\period.pyx:636:29: Casting a GIL-requiring function into a nogil function circumvents GIL validation\n",
      "    warning: pandas\\_libs\\tslibs\\period.pyx:641:29: Casting a GIL-requiring function into a nogil function circumvents GIL validation\n",
      "    warning: pandas\\_libs\\tslibs\\period.pyx:642:29: Casting a GIL-requiring function into a nogil function circumvents GIL validation\n",
      "    [30/36] Cythonizing pandas\\_libs/tslibs/resolution.pyx\n",
      "    [31/36] Cythonizing pandas\\_libs/tslibs/strptime.pyx\n",
      "    [32/36] Cythonizing pandas\\_libs/tslibs/timedeltas.pyx\n",
      "    [33/36] Cythonizing pandas\\_libs/tslibs/timestamps.pyx\n",
      "    [34/36] Cythonizing pandas\\_libs/tslibs/timezones.pyx\n",
      "    [35/36] Cythonizing pandas\\_libs/writers.pyx\n",
      "    [36/36] Cythonizing pandas\\io/sas/sas.pyx\n",
      "    running install\n",
      "    C:\\Users\\danco\\anaconda3\\lib\\site-packages\\setuptools\\command\\install.py:34: SetuptoolsDeprecationWarning: setup.py install is deprecated. Use build and pip and other standards-based tools.\n",
      "      warnings.warn(\n",
      "    running build\n",
      "    running build_py\n",
      "    creating build\n",
      "    creating build\\lib.win-amd64-3.9\n",
      "    creating build\\lib.win-amd64-3.9\\pandas\n",
      "    copying pandas\\conftest.py -> build\\lib.win-amd64-3.9\\pandas\n",
      "    copying pandas\\testing.py -> build\\lib.win-amd64-3.9\\pandas\n",
      "    copying pandas\\_version.py -> build\\lib.win-amd64-3.9\\pandas\n",
      "    copying pandas\\__init__.py -> build\\lib.win-amd64-3.9\\pandas\n",
      "    creating build\\lib.win-amd64-3.9\\pandas\\api\n",
      "    copying pandas\\api\\__init__.py -> build\\lib.win-amd64-3.9\\pandas\\api\n",
      "    creating build\\lib.win-amd64-3.9\\pandas\\arrays\n",
      "    copying pandas\\arrays\\__init__.py -> build\\lib.win-amd64-3.9\\pandas\\arrays\n",
      "    creating build\\lib.win-amd64-3.9\\pandas\\compat\n",
      "    copying pandas\\compat\\chainmap.py -> build\\lib.win-amd64-3.9\\pandas\\compat\n",
      "    copying pandas\\compat\\chainmap_impl.py -> build\\lib.win-amd64-3.9\\pandas\\compat\n",
      "    copying pandas\\compat\\pickle_compat.py -> build\\lib.win-amd64-3.9\\pandas\\compat\n",
      "    copying pandas\\compat\\__init__.py -> build\\lib.win-amd64-3.9\\pandas\\compat\n",
      "    creating build\\lib.win-amd64-3.9\\pandas\\core\n",
      "    copying pandas\\core\\accessor.py -> build\\lib.win-amd64-3.9\\pandas\\core\n",
      "    copying pandas\\core\\algorithms.py -> build\\lib.win-amd64-3.9\\pandas\\core\n",
      "    copying pandas\\core\\api.py -> build\\lib.win-amd64-3.9\\pandas\\core\n",
      "    copying pandas\\core\\apply.py -> build\\lib.win-amd64-3.9\\pandas\\core\n",
      "    copying pandas\\core\\base.py -> build\\lib.win-amd64-3.9\\pandas\\core\n",
      "    copying pandas\\core\\categorical.py -> build\\lib.win-amd64-3.9\\pandas\\core\n",
      "    copying pandas\\core\\common.py -> build\\lib.win-amd64-3.9\\pandas\\core\n",
      "    copying pandas\\core\\config.py -> build\\lib.win-amd64-3.9\\pandas\\core\n",
      "    copying pandas\\core\\config_init.py -> build\\lib.win-amd64-3.9\\pandas\\core\n",
      "    copying pandas\\core\\frame.py -> build\\lib.win-amd64-3.9\\pandas\\core\n",
      "    copying pandas\\core\\generic.py -> build\\lib.win-amd64-3.9\\pandas\\core\n",
      "    copying pandas\\core\\index.py -> build\\lib.win-amd64-3.9\\pandas\\core\n",
      "    copying pandas\\core\\indexing.py -> build\\lib.win-amd64-3.9\\pandas\\core\n",
      "    copying pandas\\core\\missing.py -> build\\lib.win-amd64-3.9\\pandas\\core\n",
      "    copying pandas\\core\\nanops.py -> build\\lib.win-amd64-3.9\\pandas\\core\n",
      "    copying pandas\\core\\ops.py -> build\\lib.win-amd64-3.9\\pandas\\core\n",
      "    copying pandas\\core\\panel.py -> build\\lib.win-amd64-3.9\\pandas\\core\n",
      "    copying pandas\\core\\resample.py -> build\\lib.win-amd64-3.9\\pandas\\core\n",
      "    copying pandas\\core\\series.py -> build\\lib.win-amd64-3.9\\pandas\\core\n",
      "    copying pandas\\core\\sorting.py -> build\\lib.win-amd64-3.9\\pandas\\core\n",
      "    copying pandas\\core\\strings.py -> build\\lib.win-amd64-3.9\\pandas\\core\n",
      "    copying pandas\\core\\window.py -> build\\lib.win-amd64-3.9\\pandas\\core\n",
      "    copying pandas\\core\\__init__.py -> build\\lib.win-amd64-3.9\\pandas\\core\n",
      "    creating build\\lib.win-amd64-3.9\\pandas\\errors\n",
      "    copying pandas\\errors\\__init__.py -> build\\lib.win-amd64-3.9\\pandas\\errors\n",
      "    creating build\\lib.win-amd64-3.9\\pandas\\io\n",
      "    copying pandas\\io\\api.py -> build\\lib.win-amd64-3.9\\pandas\\io\n",
      "    copying pandas\\io\\clipboards.py -> build\\lib.win-amd64-3.9\\pandas\\io\n",
      "    copying pandas\\io\\common.py -> build\\lib.win-amd64-3.9\\pandas\\io\n",
      "    copying pandas\\io\\date_converters.py -> build\\lib.win-amd64-3.9\\pandas\\io\n",
      "    copying pandas\\io\\excel.py -> build\\lib.win-amd64-3.9\\pandas\\io\n",
      "    copying pandas\\io\\feather_format.py -> build\\lib.win-amd64-3.9\\pandas\\io\n",
      "    copying pandas\\io\\gbq.py -> build\\lib.win-amd64-3.9\\pandas\\io\n",
      "    copying pandas\\io\\gcs.py -> build\\lib.win-amd64-3.9\\pandas\\io\n",
      "    copying pandas\\io\\html.py -> build\\lib.win-amd64-3.9\\pandas\\io\n",
      "    copying pandas\\io\\packers.py -> build\\lib.win-amd64-3.9\\pandas\\io\n",
      "    copying pandas\\io\\parquet.py -> build\\lib.win-amd64-3.9\\pandas\\io\n",
      "    copying pandas\\io\\parsers.py -> build\\lib.win-amd64-3.9\\pandas\\io\n",
      "    copying pandas\\io\\pickle.py -> build\\lib.win-amd64-3.9\\pandas\\io\n",
      "    copying pandas\\io\\pytables.py -> build\\lib.win-amd64-3.9\\pandas\\io\n",
      "    copying pandas\\io\\s3.py -> build\\lib.win-amd64-3.9\\pandas\\io\n",
      "    copying pandas\\io\\sql.py -> build\\lib.win-amd64-3.9\\pandas\\io\n",
      "    copying pandas\\io\\stata.py -> build\\lib.win-amd64-3.9\\pandas\\io\n",
      "    copying pandas\\io\\__init__.py -> build\\lib.win-amd64-3.9\\pandas\\io\n",
      "    creating build\\lib.win-amd64-3.9\\pandas\\plotting\n",
      "    copying pandas\\plotting\\_compat.py -> build\\lib.win-amd64-3.9\\pandas\\plotting\n",
      "    copying pandas\\plotting\\_converter.py -> build\\lib.win-amd64-3.9\\pandas\\plotting\n",
      "    copying pandas\\plotting\\_core.py -> build\\lib.win-amd64-3.9\\pandas\\plotting\n",
      "    copying pandas\\plotting\\_misc.py -> build\\lib.win-amd64-3.9\\pandas\\plotting\n",
      "    copying pandas\\plotting\\_style.py -> build\\lib.win-amd64-3.9\\pandas\\plotting\n",
      "    copying pandas\\plotting\\_timeseries.py -> build\\lib.win-amd64-3.9\\pandas\\plotting\n",
      "    copying pandas\\plotting\\_tools.py -> build\\lib.win-amd64-3.9\\pandas\\plotting\n",
      "    copying pandas\\plotting\\__init__.py -> build\\lib.win-amd64-3.9\\pandas\\plotting\n",
      "    creating build\\lib.win-amd64-3.9\\pandas\\tests\n",
      "    copying pandas\\tests\\test_algos.py -> build\\lib.win-amd64-3.9\\pandas\\tests\n",
      "    copying pandas\\tests\\test_base.py -> build\\lib.win-amd64-3.9\\pandas\\tests\n",
      "    copying pandas\\tests\\test_common.py -> build\\lib.win-amd64-3.9\\pandas\\tests\n",
      "    copying pandas\\tests\\test_compat.py -> build\\lib.win-amd64-3.9\\pandas\\tests\n",
      "    copying pandas\\tests\\test_config.py -> build\\lib.win-amd64-3.9\\pandas\\tests\n",
      "    copying pandas\\tests\\test_downstream.py -> build\\lib.win-amd64-3.9\\pandas\\tests\n",
      "    copying pandas\\tests\\test_errors.py -> build\\lib.win-amd64-3.9\\pandas\\tests\n",
      "    copying pandas\\tests\\test_expressions.py -> build\\lib.win-amd64-3.9\\pandas\\tests\n",
      "    copying pandas\\tests\\test_join.py -> build\\lib.win-amd64-3.9\\pandas\\tests\n",
      "    copying pandas\\tests\\test_lib.py -> build\\lib.win-amd64-3.9\\pandas\\tests\n",
      "    copying pandas\\tests\\test_multilevel.py -> build\\lib.win-amd64-3.9\\pandas\\tests\n",
      "    copying pandas\\tests\\test_nanops.py -> build\\lib.win-amd64-3.9\\pandas\\tests\n",
      "    copying pandas\\tests\\test_panel.py -> build\\lib.win-amd64-3.9\\pandas\\tests\n",
      "    copying pandas\\tests\\test_register_accessor.py -> build\\lib.win-amd64-3.9\\pandas\\tests\n",
      "    copying pandas\\tests\\test_sorting.py -> build\\lib.win-amd64-3.9\\pandas\\tests\n",
      "    copying pandas\\tests\\test_strings.py -> build\\lib.win-amd64-3.9\\pandas\\tests\n",
      "    copying pandas\\tests\\test_take.py -> build\\lib.win-amd64-3.9\\pandas\\tests\n",
      "    copying pandas\\tests\\test_window.py -> build\\lib.win-amd64-3.9\\pandas\\tests\n",
      "    copying pandas\\tests\\__init__.py -> build\\lib.win-amd64-3.9\\pandas\\tests\n",
      "    creating build\\lib.win-amd64-3.9\\pandas\\tseries\n",
      "    copying pandas\\tseries\\api.py -> build\\lib.win-amd64-3.9\\pandas\\tseries\n",
      "    copying pandas\\tseries\\converter.py -> build\\lib.win-amd64-3.9\\pandas\\tseries\n",
      "    copying pandas\\tseries\\frequencies.py -> build\\lib.win-amd64-3.9\\pandas\\tseries\n",
      "    copying pandas\\tseries\\holiday.py -> build\\lib.win-amd64-3.9\\pandas\\tseries\n",
      "    copying pandas\\tseries\\offsets.py -> build\\lib.win-amd64-3.9\\pandas\\tseries\n",
      "    copying pandas\\tseries\\plotting.py -> build\\lib.win-amd64-3.9\\pandas\\tseries\n",
      "    copying pandas\\tseries\\__init__.py -> build\\lib.win-amd64-3.9\\pandas\\tseries\n",
      "    creating build\\lib.win-amd64-3.9\\pandas\\util\n",
      "    copying pandas\\util\\testing.py -> build\\lib.win-amd64-3.9\\pandas\\util\n",
      "    copying pandas\\util\\_decorators.py -> build\\lib.win-amd64-3.9\\pandas\\util\n",
      "    copying pandas\\util\\_depr_module.py -> build\\lib.win-amd64-3.9\\pandas\\util\n",
      "    copying pandas\\util\\_doctools.py -> build\\lib.win-amd64-3.9\\pandas\\util\n",
      "    copying pandas\\util\\_exceptions.py -> build\\lib.win-amd64-3.9\\pandas\\util\n",
      "    copying pandas\\util\\_print_versions.py -> build\\lib.win-amd64-3.9\\pandas\\util\n",
      "    copying pandas\\util\\_tester.py -> build\\lib.win-amd64-3.9\\pandas\\util\n",
      "    copying pandas\\util\\_test_decorators.py -> build\\lib.win-amd64-3.9\\pandas\\util\n",
      "    copying pandas\\util\\_validators.py -> build\\lib.win-amd64-3.9\\pandas\\util\n",
      "    copying pandas\\util\\__init__.py -> build\\lib.win-amd64-3.9\\pandas\\util\n",
      "    creating build\\lib.win-amd64-3.9\\pandas\\_libs\n",
      "    copying pandas\\_libs\\__init__.py -> build\\lib.win-amd64-3.9\\pandas\\_libs\n",
      "    creating build\\lib.win-amd64-3.9\\pandas\\api\\extensions\n",
      "    copying pandas\\api\\extensions\\__init__.py -> build\\lib.win-amd64-3.9\\pandas\\api\\extensions\n",
      "    creating build\\lib.win-amd64-3.9\\pandas\\api\\types\n",
      "    copying pandas\\api\\types\\__init__.py -> build\\lib.win-amd64-3.9\\pandas\\api\\types\n",
      "    creating build\\lib.win-amd64-3.9\\pandas\\compat\\numpy\n",
      "    copying pandas\\compat\\numpy\\function.py -> build\\lib.win-amd64-3.9\\pandas\\compat\\numpy\n",
      "    copying pandas\\compat\\numpy\\__init__.py -> build\\lib.win-amd64-3.9\\pandas\\compat\\numpy\n",
      "    creating build\\lib.win-amd64-3.9\\pandas\\core\\arrays\n",
      "    copying pandas\\core\\arrays\\array_.py -> build\\lib.win-amd64-3.9\\pandas\\core\\arrays\n",
      "    copying pandas\\core\\arrays\\base.py -> build\\lib.win-amd64-3.9\\pandas\\core\\arrays\n",
      "    copying pandas\\core\\arrays\\categorical.py -> build\\lib.win-amd64-3.9\\pandas\\core\\arrays\n",
      "    copying pandas\\core\\arrays\\datetimelike.py -> build\\lib.win-amd64-3.9\\pandas\\core\\arrays\n",
      "    copying pandas\\core\\arrays\\datetimes.py -> build\\lib.win-amd64-3.9\\pandas\\core\\arrays\n",
      "    copying pandas\\core\\arrays\\integer.py -> build\\lib.win-amd64-3.9\\pandas\\core\\arrays\n",
      "    copying pandas\\core\\arrays\\interval.py -> build\\lib.win-amd64-3.9\\pandas\\core\\arrays\n",
      "    copying pandas\\core\\arrays\\numpy_.py -> build\\lib.win-amd64-3.9\\pandas\\core\\arrays\n",
      "    copying pandas\\core\\arrays\\period.py -> build\\lib.win-amd64-3.9\\pandas\\core\\arrays\n",
      "    copying pandas\\core\\arrays\\sparse.py -> build\\lib.win-amd64-3.9\\pandas\\core\\arrays\n",
      "    copying pandas\\core\\arrays\\timedeltas.py -> build\\lib.win-amd64-3.9\\pandas\\core\\arrays\n",
      "    copying pandas\\core\\arrays\\_ranges.py -> build\\lib.win-amd64-3.9\\pandas\\core\\arrays\n",
      "    copying pandas\\core\\arrays\\__init__.py -> build\\lib.win-amd64-3.9\\pandas\\core\\arrays\n",
      "    creating build\\lib.win-amd64-3.9\\pandas\\core\\computation\n",
      "    copying pandas\\core\\computation\\align.py -> build\\lib.win-amd64-3.9\\pandas\\core\\computation\n",
      "    copying pandas\\core\\computation\\api.py -> build\\lib.win-amd64-3.9\\pandas\\core\\computation\n",
      "    copying pandas\\core\\computation\\check.py -> build\\lib.win-amd64-3.9\\pandas\\core\\computation\n",
      "    copying pandas\\core\\computation\\common.py -> build\\lib.win-amd64-3.9\\pandas\\core\\computation\n",
      "    copying pandas\\core\\computation\\engines.py -> build\\lib.win-amd64-3.9\\pandas\\core\\computation\n",
      "    copying pandas\\core\\computation\\eval.py -> build\\lib.win-amd64-3.9\\pandas\\core\\computation\n",
      "    copying pandas\\core\\computation\\expr.py -> build\\lib.win-amd64-3.9\\pandas\\core\\computation\n",
      "    copying pandas\\core\\computation\\expressions.py -> build\\lib.win-amd64-3.9\\pandas\\core\\computation\n",
      "    copying pandas\\core\\computation\\ops.py -> build\\lib.win-amd64-3.9\\pandas\\core\\computation\n",
      "    copying pandas\\core\\computation\\pytables.py -> build\\lib.win-amd64-3.9\\pandas\\core\\computation\n",
      "    copying pandas\\core\\computation\\scope.py -> build\\lib.win-amd64-3.9\\pandas\\core\\computation\n",
      "    copying pandas\\core\\computation\\__init__.py -> build\\lib.win-amd64-3.9\\pandas\\core\\computation\n",
      "    creating build\\lib.win-amd64-3.9\\pandas\\core\\dtypes\n",
      "    copying pandas\\core\\dtypes\\api.py -> build\\lib.win-amd64-3.9\\pandas\\core\\dtypes\n",
      "    copying pandas\\core\\dtypes\\base.py -> build\\lib.win-amd64-3.9\\pandas\\core\\dtypes\n",
      "    copying pandas\\core\\dtypes\\cast.py -> build\\lib.win-amd64-3.9\\pandas\\core\\dtypes\n",
      "    copying pandas\\core\\dtypes\\common.py -> build\\lib.win-amd64-3.9\\pandas\\core\\dtypes\n",
      "    copying pandas\\core\\dtypes\\concat.py -> build\\lib.win-amd64-3.9\\pandas\\core\\dtypes\n",
      "    copying pandas\\core\\dtypes\\dtypes.py -> build\\lib.win-amd64-3.9\\pandas\\core\\dtypes\n",
      "    copying pandas\\core\\dtypes\\generic.py -> build\\lib.win-amd64-3.9\\pandas\\core\\dtypes\n",
      "    copying pandas\\core\\dtypes\\inference.py -> build\\lib.win-amd64-3.9\\pandas\\core\\dtypes\n",
      "    copying pandas\\core\\dtypes\\missing.py -> build\\lib.win-amd64-3.9\\pandas\\core\\dtypes\n",
      "    copying pandas\\core\\dtypes\\__init__.py -> build\\lib.win-amd64-3.9\\pandas\\core\\dtypes\n",
      "    creating build\\lib.win-amd64-3.9\\pandas\\core\\groupby\n",
      "    copying pandas\\core\\groupby\\base.py -> build\\lib.win-amd64-3.9\\pandas\\core\\groupby\n",
      "    copying pandas\\core\\groupby\\categorical.py -> build\\lib.win-amd64-3.9\\pandas\\core\\groupby\n",
      "    copying pandas\\core\\groupby\\generic.py -> build\\lib.win-amd64-3.9\\pandas\\core\\groupby\n",
      "    copying pandas\\core\\groupby\\groupby.py -> build\\lib.win-amd64-3.9\\pandas\\core\\groupby\n",
      "    copying pandas\\core\\groupby\\grouper.py -> build\\lib.win-amd64-3.9\\pandas\\core\\groupby\n",
      "    copying pandas\\core\\groupby\\ops.py -> build\\lib.win-amd64-3.9\\pandas\\core\\groupby\n",
      "    copying pandas\\core\\groupby\\__init__.py -> build\\lib.win-amd64-3.9\\pandas\\core\\groupby\n",
      "    creating build\\lib.win-amd64-3.9\\pandas\\core\\indexes\n",
      "    copying pandas\\core\\indexes\\accessors.py -> build\\lib.win-amd64-3.9\\pandas\\core\\indexes\n",
      "    copying pandas\\core\\indexes\\api.py -> build\\lib.win-amd64-3.9\\pandas\\core\\indexes\n",
      "    copying pandas\\core\\indexes\\base.py -> build\\lib.win-amd64-3.9\\pandas\\core\\indexes\n",
      "    copying pandas\\core\\indexes\\category.py -> build\\lib.win-amd64-3.9\\pandas\\core\\indexes\n",
      "    copying pandas\\core\\indexes\\datetimelike.py -> build\\lib.win-amd64-3.9\\pandas\\core\\indexes\n",
      "    copying pandas\\core\\indexes\\datetimes.py -> build\\lib.win-amd64-3.9\\pandas\\core\\indexes\n",
      "    copying pandas\\core\\indexes\\frozen.py -> build\\lib.win-amd64-3.9\\pandas\\core\\indexes\n",
      "    copying pandas\\core\\indexes\\interval.py -> build\\lib.win-amd64-3.9\\pandas\\core\\indexes\n",
      "    copying pandas\\core\\indexes\\multi.py -> build\\lib.win-amd64-3.9\\pandas\\core\\indexes\n",
      "    copying pandas\\core\\indexes\\numeric.py -> build\\lib.win-amd64-3.9\\pandas\\core\\indexes\n",
      "    copying pandas\\core\\indexes\\period.py -> build\\lib.win-amd64-3.9\\pandas\\core\\indexes\n",
      "    copying pandas\\core\\indexes\\range.py -> build\\lib.win-amd64-3.9\\pandas\\core\\indexes\n",
      "    copying pandas\\core\\indexes\\timedeltas.py -> build\\lib.win-amd64-3.9\\pandas\\core\\indexes\n",
      "    copying pandas\\core\\indexes\\__init__.py -> build\\lib.win-amd64-3.9\\pandas\\core\\indexes\n",
      "    creating build\\lib.win-amd64-3.9\\pandas\\core\\internals\n",
      "    copying pandas\\core\\internals\\arrays.py -> build\\lib.win-amd64-3.9\\pandas\\core\\internals\n",
      "    copying pandas\\core\\internals\\blocks.py -> build\\lib.win-amd64-3.9\\pandas\\core\\internals\n",
      "    copying pandas\\core\\internals\\concat.py -> build\\lib.win-amd64-3.9\\pandas\\core\\internals\n",
      "    copying pandas\\core\\internals\\construction.py -> build\\lib.win-amd64-3.9\\pandas\\core\\internals\n",
      "    copying pandas\\core\\internals\\managers.py -> build\\lib.win-amd64-3.9\\pandas\\core\\internals\n",
      "    copying pandas\\core\\internals\\__init__.py -> build\\lib.win-amd64-3.9\\pandas\\core\\internals\n",
      "    creating build\\lib.win-amd64-3.9\\pandas\\core\\reshape\n",
      "    copying pandas\\core\\reshape\\api.py -> build\\lib.win-amd64-3.9\\pandas\\core\\reshape\n",
      "    copying pandas\\core\\reshape\\concat.py -> build\\lib.win-amd64-3.9\\pandas\\core\\reshape\n",
      "    copying pandas\\core\\reshape\\melt.py -> build\\lib.win-amd64-3.9\\pandas\\core\\reshape\n",
      "    copying pandas\\core\\reshape\\merge.py -> build\\lib.win-amd64-3.9\\pandas\\core\\reshape\n",
      "    copying pandas\\core\\reshape\\pivot.py -> build\\lib.win-amd64-3.9\\pandas\\core\\reshape\n",
      "    copying pandas\\core\\reshape\\reshape.py -> build\\lib.win-amd64-3.9\\pandas\\core\\reshape\n",
      "    copying pandas\\core\\reshape\\tile.py -> build\\lib.win-amd64-3.9\\pandas\\core\\reshape\n",
      "    copying pandas\\core\\reshape\\util.py -> build\\lib.win-amd64-3.9\\pandas\\core\\reshape\n",
      "    copying pandas\\core\\reshape\\__init__.py -> build\\lib.win-amd64-3.9\\pandas\\core\\reshape\n",
      "    creating build\\lib.win-amd64-3.9\\pandas\\core\\sparse\n",
      "    copying pandas\\core\\sparse\\api.py -> build\\lib.win-amd64-3.9\\pandas\\core\\sparse\n",
      "    copying pandas\\core\\sparse\\frame.py -> build\\lib.win-amd64-3.9\\pandas\\core\\sparse\n",
      "    copying pandas\\core\\sparse\\scipy_sparse.py -> build\\lib.win-amd64-3.9\\pandas\\core\\sparse\n",
      "    copying pandas\\core\\sparse\\series.py -> build\\lib.win-amd64-3.9\\pandas\\core\\sparse\n",
      "    copying pandas\\core\\sparse\\__init__.py -> build\\lib.win-amd64-3.9\\pandas\\core\\sparse\n",
      "    creating build\\lib.win-amd64-3.9\\pandas\\core\\tools\n",
      "    copying pandas\\core\\tools\\datetimes.py -> build\\lib.win-amd64-3.9\\pandas\\core\\tools\n",
      "    copying pandas\\core\\tools\\numeric.py -> build\\lib.win-amd64-3.9\\pandas\\core\\tools\n",
      "    copying pandas\\core\\tools\\timedeltas.py -> build\\lib.win-amd64-3.9\\pandas\\core\\tools\n",
      "    copying pandas\\core\\tools\\__init__.py -> build\\lib.win-amd64-3.9\\pandas\\core\\tools\n",
      "    creating build\\lib.win-amd64-3.9\\pandas\\core\\util\n",
      "    copying pandas\\core\\util\\hashing.py -> build\\lib.win-amd64-3.9\\pandas\\core\\util\n",
      "    copying pandas\\core\\util\\__init__.py -> build\\lib.win-amd64-3.9\\pandas\\core\\util\n",
      "    creating build\\lib.win-amd64-3.9\\pandas\\io\\clipboard\n",
      "    copying pandas\\io\\clipboard\\clipboards.py -> build\\lib.win-amd64-3.9\\pandas\\io\\clipboard\n",
      "    copying pandas\\io\\clipboard\\exceptions.py -> build\\lib.win-amd64-3.9\\pandas\\io\\clipboard\n",
      "    copying pandas\\io\\clipboard\\windows.py -> build\\lib.win-amd64-3.9\\pandas\\io\\clipboard\n",
      "    copying pandas\\io\\clipboard\\__init__.py -> build\\lib.win-amd64-3.9\\pandas\\io\\clipboard\n",
      "    creating build\\lib.win-amd64-3.9\\pandas\\io\\formats\n",
      "    copying pandas\\io\\formats\\console.py -> build\\lib.win-amd64-3.9\\pandas\\io\\formats\n",
      "    copying pandas\\io\\formats\\css.py -> build\\lib.win-amd64-3.9\\pandas\\io\\formats\n",
      "    copying pandas\\io\\formats\\csvs.py -> build\\lib.win-amd64-3.9\\pandas\\io\\formats\n",
      "    copying pandas\\io\\formats\\excel.py -> build\\lib.win-amd64-3.9\\pandas\\io\\formats\n",
      "    copying pandas\\io\\formats\\format.py -> build\\lib.win-amd64-3.9\\pandas\\io\\formats\n",
      "    copying pandas\\io\\formats\\html.py -> build\\lib.win-amd64-3.9\\pandas\\io\\formats\n",
      "    copying pandas\\io\\formats\\latex.py -> build\\lib.win-amd64-3.9\\pandas\\io\\formats\n",
      "    copying pandas\\io\\formats\\printing.py -> build\\lib.win-amd64-3.9\\pandas\\io\\formats\n",
      "    copying pandas\\io\\formats\\style.py -> build\\lib.win-amd64-3.9\\pandas\\io\\formats\n",
      "    copying pandas\\io\\formats\\terminal.py -> build\\lib.win-amd64-3.9\\pandas\\io\\formats\n",
      "    copying pandas\\io\\formats\\__init__.py -> build\\lib.win-amd64-3.9\\pandas\\io\\formats\n",
      "    creating build\\lib.win-amd64-3.9\\pandas\\io\\json\n",
      "    copying pandas\\io\\json\\json.py -> build\\lib.win-amd64-3.9\\pandas\\io\\json\n",
      "    copying pandas\\io\\json\\normalize.py -> build\\lib.win-amd64-3.9\\pandas\\io\\json\n",
      "    copying pandas\\io\\json\\table_schema.py -> build\\lib.win-amd64-3.9\\pandas\\io\\json\n",
      "    copying pandas\\io\\json\\__init__.py -> build\\lib.win-amd64-3.9\\pandas\\io\\json\n",
      "    creating build\\lib.win-amd64-3.9\\pandas\\io\\msgpack\n",
      "    copying pandas\\io\\msgpack\\exceptions.py -> build\\lib.win-amd64-3.9\\pandas\\io\\msgpack\n",
      "    copying pandas\\io\\msgpack\\_version.py -> build\\lib.win-amd64-3.9\\pandas\\io\\msgpack\n",
      "    copying pandas\\io\\msgpack\\__init__.py -> build\\lib.win-amd64-3.9\\pandas\\io\\msgpack\n",
      "    creating build\\lib.win-amd64-3.9\\pandas\\io\\sas\n",
      "    copying pandas\\io\\sas\\sas7bdat.py -> build\\lib.win-amd64-3.9\\pandas\\io\\sas\n",
      "    copying pandas\\io\\sas\\sasreader.py -> build\\lib.win-amd64-3.9\\pandas\\io\\sas\n",
      "    copying pandas\\io\\sas\\sas_constants.py -> build\\lib.win-amd64-3.9\\pandas\\io\\sas\n",
      "    copying pandas\\io\\sas\\sas_xport.py -> build\\lib.win-amd64-3.9\\pandas\\io\\sas\n",
      "    copying pandas\\io\\sas\\__init__.py -> build\\lib.win-amd64-3.9\\pandas\\io\\sas\n",
      "    creating build\\lib.win-amd64-3.9\\pandas\\tests\\api\n",
      "    copying pandas\\tests\\api\\test_api.py -> build\\lib.win-amd64-3.9\\pandas\\tests\\api\n",
      "    copying pandas\\tests\\api\\test_types.py -> build\\lib.win-amd64-3.9\\pandas\\tests\\api\n",
      "    copying pandas\\tests\\api\\__init__.py -> build\\lib.win-amd64-3.9\\pandas\\tests\\api\n",
      "    creating build\\lib.win-amd64-3.9\\pandas\\tests\\arithmetic\n",
      "    copying pandas\\tests\\arithmetic\\conftest.py -> build\\lib.win-amd64-3.9\\pandas\\tests\\arithmetic\n",
      "    copying pandas\\tests\\arithmetic\\test_datetime64.py -> build\\lib.win-amd64-3.9\\pandas\\tests\\arithmetic\n",
      "    copying pandas\\tests\\arithmetic\\test_numeric.py -> build\\lib.win-amd64-3.9\\pandas\\tests\\arithmetic\n",
      "    copying pandas\\tests\\arithmetic\\test_object.py -> build\\lib.win-amd64-3.9\\pandas\\tests\\arithmetic\n",
      "    copying pandas\\tests\\arithmetic\\test_period.py -> build\\lib.win-amd64-3.9\\pandas\\tests\\arithmetic\n",
      "    copying pandas\\tests\\arithmetic\\test_timedelta64.py -> build\\lib.win-amd64-3.9\\pandas\\tests\\arithmetic\n",
      "    copying pandas\\tests\\arithmetic\\__init__.py -> build\\lib.win-amd64-3.9\\pandas\\tests\\arithmetic\n",
      "    creating build\\lib.win-amd64-3.9\\pandas\\tests\\arrays\n",
      "    copying pandas\\tests\\arrays\\test_array.py -> build\\lib.win-amd64-3.9\\pandas\\tests\\arrays\n",
      "    copying pandas\\tests\\arrays\\test_datetimelike.py -> build\\lib.win-amd64-3.9\\pandas\\tests\\arrays\n",
      "    copying pandas\\tests\\arrays\\test_datetimes.py -> build\\lib.win-amd64-3.9\\pandas\\tests\\arrays\n",
      "    copying pandas\\tests\\arrays\\test_integer.py -> build\\lib.win-amd64-3.9\\pandas\\tests\\arrays\n",
      "    copying pandas\\tests\\arrays\\test_numpy.py -> build\\lib.win-amd64-3.9\\pandas\\tests\\arrays\n",
      "    copying pandas\\tests\\arrays\\test_period.py -> build\\lib.win-amd64-3.9\\pandas\\tests\\arrays\n",
      "    copying pandas\\tests\\arrays\\test_timedeltas.py -> build\\lib.win-amd64-3.9\\pandas\\tests\\arrays\n",
      "    copying pandas\\tests\\arrays\\__init__.py -> build\\lib.win-amd64-3.9\\pandas\\tests\\arrays\n",
      "    creating build\\lib.win-amd64-3.9\\pandas\\tests\\computation\n",
      "    copying pandas\\tests\\computation\\test_compat.py -> build\\lib.win-amd64-3.9\\pandas\\tests\\computation\n",
      "    copying pandas\\tests\\computation\\test_eval.py -> build\\lib.win-amd64-3.9\\pandas\\tests\\computation\n",
      "    copying pandas\\tests\\computation\\__init__.py -> build\\lib.win-amd64-3.9\\pandas\\tests\\computation\n",
      "    creating build\\lib.win-amd64-3.9\\pandas\\tests\\dtypes\n",
      "    copying pandas\\tests\\dtypes\\test_common.py -> build\\lib.win-amd64-3.9\\pandas\\tests\\dtypes\n",
      "    copying pandas\\tests\\dtypes\\test_concat.py -> build\\lib.win-amd64-3.9\\pandas\\tests\\dtypes\n",
      "    copying pandas\\tests\\dtypes\\test_dtypes.py -> build\\lib.win-amd64-3.9\\pandas\\tests\\dtypes\n",
      "    copying pandas\\tests\\dtypes\\test_generic.py -> build\\lib.win-amd64-3.9\\pandas\\tests\\dtypes\n",
      "    copying pandas\\tests\\dtypes\\test_inference.py -> build\\lib.win-amd64-3.9\\pandas\\tests\\dtypes\n",
      "    copying pandas\\tests\\dtypes\\test_missing.py -> build\\lib.win-amd64-3.9\\pandas\\tests\\dtypes\n",
      "    copying pandas\\tests\\dtypes\\__init__.py -> build\\lib.win-amd64-3.9\\pandas\\tests\\dtypes\n",
      "    creating build\\lib.win-amd64-3.9\\pandas\\tests\\extension\n",
      "    copying pandas\\tests\\extension\\conftest.py -> build\\lib.win-amd64-3.9\\pandas\\tests\\extension\n",
      "    copying pandas\\tests\\extension\\test_categorical.py -> build\\lib.win-amd64-3.9\\pandas\\tests\\extension\n",
      "    copying pandas\\tests\\extension\\test_common.py -> build\\lib.win-amd64-3.9\\pandas\\tests\\extension\n",
      "    copying pandas\\tests\\extension\\test_datetime.py -> build\\lib.win-amd64-3.9\\pandas\\tests\\extension\n",
      "    copying pandas\\tests\\extension\\test_external_block.py -> build\\lib.win-amd64-3.9\\pandas\\tests\\extension\n",
      "    copying pandas\\tests\\extension\\test_integer.py -> build\\lib.win-amd64-3.9\\pandas\\tests\\extension\n",
      "    copying pandas\\tests\\extension\\test_interval.py -> build\\lib.win-amd64-3.9\\pandas\\tests\\extension\n",
      "    copying pandas\\tests\\extension\\test_period.py -> build\\lib.win-amd64-3.9\\pandas\\tests\\extension\n",
      "    copying pandas\\tests\\extension\\test_sparse.py -> build\\lib.win-amd64-3.9\\pandas\\tests\\extension\n",
      "    copying pandas\\tests\\extension\\__init__.py -> build\\lib.win-amd64-3.9\\pandas\\tests\\extension\n",
      "    creating build\\lib.win-amd64-3.9\\pandas\\tests\\frame\n",
      "    copying pandas\\tests\\frame\\common.py -> build\\lib.win-amd64-3.9\\pandas\\tests\\frame\n",
      "    copying pandas\\tests\\frame\\conftest.py -> build\\lib.win-amd64-3.9\\pandas\\tests\\frame\n",
      "    copying pandas\\tests\\frame\\test_alter_axes.py -> build\\lib.win-amd64-3.9\\pandas\\tests\\frame\n",
      "    copying pandas\\tests\\frame\\test_analytics.py -> build\\lib.win-amd64-3.9\\pandas\\tests\\frame\n",
      "    copying pandas\\tests\\frame\\test_api.py -> build\\lib.win-amd64-3.9\\pandas\\tests\\frame\n",
      "    copying pandas\\tests\\frame\\test_apply.py -> build\\lib.win-amd64-3.9\\pandas\\tests\\frame\n",
      "    copying pandas\\tests\\frame\\test_arithmetic.py -> build\\lib.win-amd64-3.9\\pandas\\tests\\frame\n",
      "    copying pandas\\tests\\frame\\test_asof.py -> build\\lib.win-amd64-3.9\\pandas\\tests\\frame\n",
      "    copying pandas\\tests\\frame\\test_axis_select_reindex.py -> build\\lib.win-amd64-3.9\\pandas\\tests\\frame\n",
      "    copying pandas\\tests\\frame\\test_block_internals.py -> build\\lib.win-amd64-3.9\\pandas\\tests\\frame\n",
      "    copying pandas\\tests\\frame\\test_combine_concat.py -> build\\lib.win-amd64-3.9\\pandas\\tests\\frame\n",
      "    copying pandas\\tests\\frame\\test_constructors.py -> build\\lib.win-amd64-3.9\\pandas\\tests\\frame\n",
      "    copying pandas\\tests\\frame\\test_convert_to.py -> build\\lib.win-amd64-3.9\\pandas\\tests\\frame\n",
      "    copying pandas\\tests\\frame\\test_dtypes.py -> build\\lib.win-amd64-3.9\\pandas\\tests\\frame\n",
      "    copying pandas\\tests\\frame\\test_duplicates.py -> build\\lib.win-amd64-3.9\\pandas\\tests\\frame\n",
      "    copying pandas\\tests\\frame\\test_indexing.py -> build\\lib.win-amd64-3.9\\pandas\\tests\\frame\n",
      "    copying pandas\\tests\\frame\\test_join.py -> build\\lib.win-amd64-3.9\\pandas\\tests\\frame\n",
      "    copying pandas\\tests\\frame\\test_missing.py -> build\\lib.win-amd64-3.9\\pandas\\tests\\frame\n",
      "    copying pandas\\tests\\frame\\test_mutate_columns.py -> build\\lib.win-amd64-3.9\\pandas\\tests\\frame\n",
      "    copying pandas\\tests\\frame\\test_nonunique_indexes.py -> build\\lib.win-amd64-3.9\\pandas\\tests\\frame\n",
      "    copying pandas\\tests\\frame\\test_operators.py -> build\\lib.win-amd64-3.9\\pandas\\tests\\frame\n",
      "    copying pandas\\tests\\frame\\test_period.py -> build\\lib.win-amd64-3.9\\pandas\\tests\\frame\n",
      "    copying pandas\\tests\\frame\\test_quantile.py -> build\\lib.win-amd64-3.9\\pandas\\tests\\frame\n",
      "    copying pandas\\tests\\frame\\test_query_eval.py -> build\\lib.win-amd64-3.9\\pandas\\tests\\frame\n",
      "    copying pandas\\tests\\frame\\test_rank.py -> build\\lib.win-amd64-3.9\\pandas\\tests\\frame\n",
      "    copying pandas\\tests\\frame\\test_replace.py -> build\\lib.win-amd64-3.9\\pandas\\tests\\frame\n",
      "    copying pandas\\tests\\frame\\test_repr_info.py -> build\\lib.win-amd64-3.9\\pandas\\tests\\frame\n",
      "    copying pandas\\tests\\frame\\test_reshape.py -> build\\lib.win-amd64-3.9\\pandas\\tests\\frame\n",
      "    copying pandas\\tests\\frame\\test_sorting.py -> build\\lib.win-amd64-3.9\\pandas\\tests\\frame\n",
      "    copying pandas\\tests\\frame\\test_sort_values_level_as_str.py -> build\\lib.win-amd64-3.9\\pandas\\tests\\frame\n",
      "    copying pandas\\tests\\frame\\test_subclass.py -> build\\lib.win-amd64-3.9\\pandas\\tests\\frame\n",
      "    copying pandas\\tests\\frame\\test_timeseries.py -> build\\lib.win-amd64-3.9\\pandas\\tests\\frame\n",
      "    copying pandas\\tests\\frame\\test_timezones.py -> build\\lib.win-amd64-3.9\\pandas\\tests\\frame\n",
      "    copying pandas\\tests\\frame\\test_to_csv.py -> build\\lib.win-amd64-3.9\\pandas\\tests\\frame\n",
      "    copying pandas\\tests\\frame\\test_validate.py -> build\\lib.win-amd64-3.9\\pandas\\tests\\frame\n",
      "    copying pandas\\tests\\frame\\__init__.py -> build\\lib.win-amd64-3.9\\pandas\\tests\\frame\n",
      "    creating build\\lib.win-amd64-3.9\\pandas\\tests\\generic\n",
      "    copying pandas\\tests\\generic\\test_frame.py -> build\\lib.win-amd64-3.9\\pandas\\tests\\generic\n",
      "    copying pandas\\tests\\generic\\test_generic.py -> build\\lib.win-amd64-3.9\\pandas\\tests\\generic\n",
      "    copying pandas\\tests\\generic\\test_label_or_level_utils.py -> build\\lib.win-amd64-3.9\\pandas\\tests\\generic\n",
      "    copying pandas\\tests\\generic\\test_panel.py -> build\\lib.win-amd64-3.9\\pandas\\tests\\generic\n",
      "    copying pandas\\tests\\generic\\test_series.py -> build\\lib.win-amd64-3.9\\pandas\\tests\\generic\n",
      "    copying pandas\\tests\\generic\\__init__.py -> build\\lib.win-amd64-3.9\\pandas\\tests\\generic\n",
      "    creating build\\lib.win-amd64-3.9\\pandas\\tests\\groupby\n",
      "    copying pandas\\tests\\groupby\\conftest.py -> build\\lib.win-amd64-3.9\\pandas\\tests\\groupby\n",
      "    copying pandas\\tests\\groupby\\test_apply.py -> build\\lib.win-amd64-3.9\\pandas\\tests\\groupby\n",
      "    copying pandas\\tests\\groupby\\test_bin_groupby.py -> build\\lib.win-amd64-3.9\\pandas\\tests\\groupby\n",
      "    copying pandas\\tests\\groupby\\test_categorical.py -> build\\lib.win-amd64-3.9\\pandas\\tests\\groupby\n",
      "    copying pandas\\tests\\groupby\\test_counting.py -> build\\lib.win-amd64-3.9\\pandas\\tests\\groupby\n",
      "    copying pandas\\tests\\groupby\\test_filters.py -> build\\lib.win-amd64-3.9\\pandas\\tests\\groupby\n",
      "    copying pandas\\tests\\groupby\\test_function.py -> build\\lib.win-amd64-3.9\\pandas\\tests\\groupby\n",
      "    copying pandas\\tests\\groupby\\test_groupby.py -> build\\lib.win-amd64-3.9\\pandas\\tests\\groupby\n",
      "    copying pandas\\tests\\groupby\\test_grouping.py -> build\\lib.win-amd64-3.9\\pandas\\tests\\groupby\n",
      "    copying pandas\\tests\\groupby\\test_index_as_string.py -> build\\lib.win-amd64-3.9\\pandas\\tests\\groupby\n",
      "    copying pandas\\tests\\groupby\\test_nth.py -> build\\lib.win-amd64-3.9\\pandas\\tests\\groupby\n",
      "    copying pandas\\tests\\groupby\\test_rank.py -> build\\lib.win-amd64-3.9\\pandas\\tests\\groupby\n",
      "    copying pandas\\tests\\groupby\\test_timegrouper.py -> build\\lib.win-amd64-3.9\\pandas\\tests\\groupby\n",
      "    copying pandas\\tests\\groupby\\test_transform.py -> build\\lib.win-amd64-3.9\\pandas\\tests\\groupby\n",
      "    copying pandas\\tests\\groupby\\test_value_counts.py -> build\\lib.win-amd64-3.9\\pandas\\tests\\groupby\n",
      "    copying pandas\\tests\\groupby\\test_whitelist.py -> build\\lib.win-amd64-3.9\\pandas\\tests\\groupby\n",
      "    copying pandas\\tests\\groupby\\__init__.py -> build\\lib.win-amd64-3.9\\pandas\\tests\\groupby\n",
      "    creating build\\lib.win-amd64-3.9\\pandas\\tests\\indexes\n",
      "    copying pandas\\tests\\indexes\\common.py -> build\\lib.win-amd64-3.9\\pandas\\tests\\indexes\n",
      "    copying pandas\\tests\\indexes\\conftest.py -> build\\lib.win-amd64-3.9\\pandas\\tests\\indexes\n",
      "    copying pandas\\tests\\indexes\\datetimelike.py -> build\\lib.win-amd64-3.9\\pandas\\tests\\indexes\n",
      "    copying pandas\\tests\\indexes\\test_base.py -> build\\lib.win-amd64-3.9\\pandas\\tests\\indexes\n",
      "    copying pandas\\tests\\indexes\\test_category.py -> build\\lib.win-amd64-3.9\\pandas\\tests\\indexes\n",
      "    copying pandas\\tests\\indexes\\test_common.py -> build\\lib.win-amd64-3.9\\pandas\\tests\\indexes\n",
      "    copying pandas\\tests\\indexes\\test_frozen.py -> build\\lib.win-amd64-3.9\\pandas\\tests\\indexes\n",
      "    copying pandas\\tests\\indexes\\test_numeric.py -> build\\lib.win-amd64-3.9\\pandas\\tests\\indexes\n",
      "    copying pandas\\tests\\indexes\\test_range.py -> build\\lib.win-amd64-3.9\\pandas\\tests\\indexes\n",
      "    copying pandas\\tests\\indexes\\__init__.py -> build\\lib.win-amd64-3.9\\pandas\\tests\\indexes\n",
      "    creating build\\lib.win-amd64-3.9\\pandas\\tests\\indexing\n",
      "    copying pandas\\tests\\indexing\\common.py -> build\\lib.win-amd64-3.9\\pandas\\tests\\indexing\n",
      "    copying pandas\\tests\\indexing\\conftest.py -> build\\lib.win-amd64-3.9\\pandas\\tests\\indexing\n",
      "    copying pandas\\tests\\indexing\\test_callable.py -> build\\lib.win-amd64-3.9\\pandas\\tests\\indexing\n",
      "    copying pandas\\tests\\indexing\\test_categorical.py -> build\\lib.win-amd64-3.9\\pandas\\tests\\indexing\n",
      "    copying pandas\\tests\\indexing\\test_chaining_and_caching.py -> build\\lib.win-amd64-3.9\\pandas\\tests\\indexing\n",
      "    copying pandas\\tests\\indexing\\test_coercion.py -> build\\lib.win-amd64-3.9\\pandas\\tests\\indexing\n",
      "    copying pandas\\tests\\indexing\\test_datetime.py -> build\\lib.win-amd64-3.9\\pandas\\tests\\indexing\n",
      "    copying pandas\\tests\\indexing\\test_floats.py -> build\\lib.win-amd64-3.9\\pandas\\tests\\indexing\n",
      "    copying pandas\\tests\\indexing\\test_iloc.py -> build\\lib.win-amd64-3.9\\pandas\\tests\\indexing\n",
      "    copying pandas\\tests\\indexing\\test_indexing.py -> build\\lib.win-amd64-3.9\\pandas\\tests\\indexing\n",
      "    copying pandas\\tests\\indexing\\test_indexing_engines.py -> build\\lib.win-amd64-3.9\\pandas\\tests\\indexing\n",
      "    copying pandas\\tests\\indexing\\test_indexing_slow.py -> build\\lib.win-amd64-3.9\\pandas\\tests\\indexing\n",
      "    copying pandas\\tests\\indexing\\test_ix.py -> build\\lib.win-amd64-3.9\\pandas\\tests\\indexing\n",
      "    copying pandas\\tests\\indexing\\test_loc.py -> build\\lib.win-amd64-3.9\\pandas\\tests\\indexing\n",
      "    copying pandas\\tests\\indexing\\test_panel.py -> build\\lib.win-amd64-3.9\\pandas\\tests\\indexing\n",
      "    copying pandas\\tests\\indexing\\test_partial.py -> build\\lib.win-amd64-3.9\\pandas\\tests\\indexing\n",
      "    copying pandas\\tests\\indexing\\test_scalar.py -> build\\lib.win-amd64-3.9\\pandas\\tests\\indexing\n",
      "    copying pandas\\tests\\indexing\\test_timedelta.py -> build\\lib.win-amd64-3.9\\pandas\\tests\\indexing\n",
      "    copying pandas\\tests\\indexing\\__init__.py -> build\\lib.win-amd64-3.9\\pandas\\tests\\indexing\n",
      "    creating build\\lib.win-amd64-3.9\\pandas\\tests\\internals\n",
      "    copying pandas\\tests\\internals\\test_internals.py -> build\\lib.win-amd64-3.9\\pandas\\tests\\internals\n",
      "    copying pandas\\tests\\internals\\__init__.py -> build\\lib.win-amd64-3.9\\pandas\\tests\\internals\n",
      "    creating build\\lib.win-amd64-3.9\\pandas\\tests\\io\n",
      "    copying pandas\\tests\\io\\conftest.py -> build\\lib.win-amd64-3.9\\pandas\\tests\\io\n",
      "    copying pandas\\tests\\io\\generate_legacy_storage_files.py -> build\\lib.win-amd64-3.9\\pandas\\tests\\io\n",
      "    copying pandas\\tests\\io\\test_clipboard.py -> build\\lib.win-amd64-3.9\\pandas\\tests\\io\n",
      "    copying pandas\\tests\\io\\test_common.py -> build\\lib.win-amd64-3.9\\pandas\\tests\\io\n",
      "    copying pandas\\tests\\io\\test_compression.py -> build\\lib.win-amd64-3.9\\pandas\\tests\\io\n",
      "    copying pandas\\tests\\io\\test_date_converters.py -> build\\lib.win-amd64-3.9\\pandas\\tests\\io\n",
      "    copying pandas\\tests\\io\\test_excel.py -> build\\lib.win-amd64-3.9\\pandas\\tests\\io\n",
      "    copying pandas\\tests\\io\\test_feather.py -> build\\lib.win-amd64-3.9\\pandas\\tests\\io\n",
      "    copying pandas\\tests\\io\\test_gbq.py -> build\\lib.win-amd64-3.9\\pandas\\tests\\io\n",
      "    copying pandas\\tests\\io\\test_gcs.py -> build\\lib.win-amd64-3.9\\pandas\\tests\\io\n",
      "    copying pandas\\tests\\io\\test_html.py -> build\\lib.win-amd64-3.9\\pandas\\tests\\io\n",
      "    copying pandas\\tests\\io\\test_packers.py -> build\\lib.win-amd64-3.9\\pandas\\tests\\io\n",
      "    copying pandas\\tests\\io\\test_parquet.py -> build\\lib.win-amd64-3.9\\pandas\\tests\\io\n",
      "    copying pandas\\tests\\io\\test_pickle.py -> build\\lib.win-amd64-3.9\\pandas\\tests\\io\n",
      "    copying pandas\\tests\\io\\test_pytables.py -> build\\lib.win-amd64-3.9\\pandas\\tests\\io\n",
      "    copying pandas\\tests\\io\\test_s3.py -> build\\lib.win-amd64-3.9\\pandas\\tests\\io\n",
      "    copying pandas\\tests\\io\\test_sql.py -> build\\lib.win-amd64-3.9\\pandas\\tests\\io\n",
      "    copying pandas\\tests\\io\\test_stata.py -> build\\lib.win-amd64-3.9\\pandas\\tests\\io\n",
      "    copying pandas\\tests\\io\\__init__.py -> build\\lib.win-amd64-3.9\\pandas\\tests\\io\n",
      "    creating build\\lib.win-amd64-3.9\\pandas\\tests\\plotting\n",
      "    copying pandas\\tests\\plotting\\common.py -> build\\lib.win-amd64-3.9\\pandas\\tests\\plotting\n",
      "    copying pandas\\tests\\plotting\\test_boxplot_method.py -> build\\lib.win-amd64-3.9\\pandas\\tests\\plotting\n",
      "    copying pandas\\tests\\plotting\\test_converter.py -> build\\lib.win-amd64-3.9\\pandas\\tests\\plotting\n",
      "    copying pandas\\tests\\plotting\\test_datetimelike.py -> build\\lib.win-amd64-3.9\\pandas\\tests\\plotting\n",
      "    copying pandas\\tests\\plotting\\test_frame.py -> build\\lib.win-amd64-3.9\\pandas\\tests\\plotting\n",
      "    copying pandas\\tests\\plotting\\test_groupby.py -> build\\lib.win-amd64-3.9\\pandas\\tests\\plotting\n",
      "    copying pandas\\tests\\plotting\\test_hist_method.py -> build\\lib.win-amd64-3.9\\pandas\\tests\\plotting\n",
      "    copying pandas\\tests\\plotting\\test_misc.py -> build\\lib.win-amd64-3.9\\pandas\\tests\\plotting\n",
      "    copying pandas\\tests\\plotting\\test_series.py -> build\\lib.win-amd64-3.9\\pandas\\tests\\plotting\n",
      "    copying pandas\\tests\\plotting\\__init__.py -> build\\lib.win-amd64-3.9\\pandas\\tests\\plotting\n",
      "    creating build\\lib.win-amd64-3.9\\pandas\\tests\\reductions\n",
      "    copying pandas\\tests\\reductions\\test_reductions.py -> build\\lib.win-amd64-3.9\\pandas\\tests\\reductions\n",
      "    copying pandas\\tests\\reductions\\test_stat_reductions.py -> build\\lib.win-amd64-3.9\\pandas\\tests\\reductions\n",
      "    copying pandas\\tests\\reductions\\__init__.py -> build\\lib.win-amd64-3.9\\pandas\\tests\\reductions\n",
      "    creating build\\lib.win-amd64-3.9\\pandas\\tests\\resample\n",
      "    copying pandas\\tests\\resample\\conftest.py -> build\\lib.win-amd64-3.9\\pandas\\tests\\resample\n",
      "    copying pandas\\tests\\resample\\test_base.py -> build\\lib.win-amd64-3.9\\pandas\\tests\\resample\n",
      "    copying pandas\\tests\\resample\\test_datetime_index.py -> build\\lib.win-amd64-3.9\\pandas\\tests\\resample\n",
      "    copying pandas\\tests\\resample\\test_period_index.py -> build\\lib.win-amd64-3.9\\pandas\\tests\\resample\n",
      "    copying pandas\\tests\\resample\\test_resampler_grouper.py -> build\\lib.win-amd64-3.9\\pandas\\tests\\resample\n",
      "    copying pandas\\tests\\resample\\test_resample_api.py -> build\\lib.win-amd64-3.9\\pandas\\tests\\resample\n",
      "    copying pandas\\tests\\resample\\test_timedelta.py -> build\\lib.win-amd64-3.9\\pandas\\tests\\resample\n",
      "    copying pandas\\tests\\resample\\test_time_grouper.py -> build\\lib.win-amd64-3.9\\pandas\\tests\\resample\n",
      "    copying pandas\\tests\\resample\\__init__.py -> build\\lib.win-amd64-3.9\\pandas\\tests\\resample\n",
      "    creating build\\lib.win-amd64-3.9\\pandas\\tests\\reshape\n",
      "    copying pandas\\tests\\reshape\\test_concat.py -> build\\lib.win-amd64-3.9\\pandas\\tests\\reshape\n",
      "    copying pandas\\tests\\reshape\\test_cut.py -> build\\lib.win-amd64-3.9\\pandas\\tests\\reshape\n",
      "    copying pandas\\tests\\reshape\\test_melt.py -> build\\lib.win-amd64-3.9\\pandas\\tests\\reshape\n",
      "    copying pandas\\tests\\reshape\\test_pivot.py -> build\\lib.win-amd64-3.9\\pandas\\tests\\reshape\n",
      "    copying pandas\\tests\\reshape\\test_qcut.py -> build\\lib.win-amd64-3.9\\pandas\\tests\\reshape\n",
      "    copying pandas\\tests\\reshape\\test_reshape.py -> build\\lib.win-amd64-3.9\\pandas\\tests\\reshape\n",
      "    copying pandas\\tests\\reshape\\test_union_categoricals.py -> build\\lib.win-amd64-3.9\\pandas\\tests\\reshape\n",
      "    copying pandas\\tests\\reshape\\test_util.py -> build\\lib.win-amd64-3.9\\pandas\\tests\\reshape\n",
      "    copying pandas\\tests\\reshape\\__init__.py -> build\\lib.win-amd64-3.9\\pandas\\tests\\reshape\n",
      "    creating build\\lib.win-amd64-3.9\\pandas\\tests\\scalar\n",
      "    copying pandas\\tests\\scalar\\test_nat.py -> build\\lib.win-amd64-3.9\\pandas\\tests\\scalar\n",
      "    copying pandas\\tests\\scalar\\__init__.py -> build\\lib.win-amd64-3.9\\pandas\\tests\\scalar\n",
      "    creating build\\lib.win-amd64-3.9\\pandas\\tests\\series\n",
      "    copying pandas\\tests\\series\\common.py -> build\\lib.win-amd64-3.9\\pandas\\tests\\series\n",
      "    copying pandas\\tests\\series\\conftest.py -> build\\lib.win-amd64-3.9\\pandas\\tests\\series\n",
      "    copying pandas\\tests\\series\\test_alter_axes.py -> build\\lib.win-amd64-3.9\\pandas\\tests\\series\n",
      "    copying pandas\\tests\\series\\test_analytics.py -> build\\lib.win-amd64-3.9\\pandas\\tests\\series\n",
      "    copying pandas\\tests\\series\\test_api.py -> build\\lib.win-amd64-3.9\\pandas\\tests\\series\n",
      "    copying pandas\\tests\\series\\test_apply.py -> build\\lib.win-amd64-3.9\\pandas\\tests\\series\n",
      "    copying pandas\\tests\\series\\test_arithmetic.py -> build\\lib.win-amd64-3.9\\pandas\\tests\\series\n",
      "    copying pandas\\tests\\series\\test_asof.py -> build\\lib.win-amd64-3.9\\pandas\\tests\\series\n",
      "    copying pandas\\tests\\series\\test_block_internals.py -> build\\lib.win-amd64-3.9\\pandas\\tests\\series\n",
      "    copying pandas\\tests\\series\\test_combine_concat.py -> build\\lib.win-amd64-3.9\\pandas\\tests\\series\n",
      "    copying pandas\\tests\\series\\test_constructors.py -> build\\lib.win-amd64-3.9\\pandas\\tests\\series\n",
      "    copying pandas\\tests\\series\\test_datetime_values.py -> build\\lib.win-amd64-3.9\\pandas\\tests\\series\n",
      "    copying pandas\\tests\\series\\test_dtypes.py -> build\\lib.win-amd64-3.9\\pandas\\tests\\series\n",
      "    copying pandas\\tests\\series\\test_duplicates.py -> build\\lib.win-amd64-3.9\\pandas\\tests\\series\n",
      "    copying pandas\\tests\\series\\test_internals.py -> build\\lib.win-amd64-3.9\\pandas\\tests\\series\n",
      "    copying pandas\\tests\\series\\test_io.py -> build\\lib.win-amd64-3.9\\pandas\\tests\\series\n",
      "    copying pandas\\tests\\series\\test_missing.py -> build\\lib.win-amd64-3.9\\pandas\\tests\\series\n",
      "    copying pandas\\tests\\series\\test_operators.py -> build\\lib.win-amd64-3.9\\pandas\\tests\\series\n",
      "    copying pandas\\tests\\series\\test_period.py -> build\\lib.win-amd64-3.9\\pandas\\tests\\series\n",
      "    copying pandas\\tests\\series\\test_quantile.py -> build\\lib.win-amd64-3.9\\pandas\\tests\\series\n",
      "    copying pandas\\tests\\series\\test_rank.py -> build\\lib.win-amd64-3.9\\pandas\\tests\\series\n",
      "    copying pandas\\tests\\series\\test_replace.py -> build\\lib.win-amd64-3.9\\pandas\\tests\\series\n",
      "    copying pandas\\tests\\series\\test_repr.py -> build\\lib.win-amd64-3.9\\pandas\\tests\\series\n",
      "    copying pandas\\tests\\series\\test_sorting.py -> build\\lib.win-amd64-3.9\\pandas\\tests\\series\n",
      "    copying pandas\\tests\\series\\test_subclass.py -> build\\lib.win-amd64-3.9\\pandas\\tests\\series\n",
      "    copying pandas\\tests\\series\\test_timeseries.py -> build\\lib.win-amd64-3.9\\pandas\\tests\\series\n",
      "    copying pandas\\tests\\series\\test_timezones.py -> build\\lib.win-amd64-3.9\\pandas\\tests\\series\n",
      "    copying pandas\\tests\\series\\test_validate.py -> build\\lib.win-amd64-3.9\\pandas\\tests\\series\n",
      "    copying pandas\\tests\\series\\__init__.py -> build\\lib.win-amd64-3.9\\pandas\\tests\\series\n",
      "    creating build\\lib.win-amd64-3.9\\pandas\\tests\\sparse\n",
      "    copying pandas\\tests\\sparse\\common.py -> build\\lib.win-amd64-3.9\\pandas\\tests\\sparse\n",
      "    copying pandas\\tests\\sparse\\test_combine_concat.py -> build\\lib.win-amd64-3.9\\pandas\\tests\\sparse\n",
      "    copying pandas\\tests\\sparse\\test_format.py -> build\\lib.win-amd64-3.9\\pandas\\tests\\sparse\n",
      "    copying pandas\\tests\\sparse\\test_groupby.py -> build\\lib.win-amd64-3.9\\pandas\\tests\\sparse\n",
      "    copying pandas\\tests\\sparse\\test_indexing.py -> build\\lib.win-amd64-3.9\\pandas\\tests\\sparse\n",
      "    copying pandas\\tests\\sparse\\test_pivot.py -> build\\lib.win-amd64-3.9\\pandas\\tests\\sparse\n",
      "    copying pandas\\tests\\sparse\\test_reshape.py -> build\\lib.win-amd64-3.9\\pandas\\tests\\sparse\n",
      "    copying pandas\\tests\\sparse\\__init__.py -> build\\lib.win-amd64-3.9\\pandas\\tests\\sparse\n",
      "    creating build\\lib.win-amd64-3.9\\pandas\\tests\\tools\n",
      "    copying pandas\\tests\\tools\\test_numeric.py -> build\\lib.win-amd64-3.9\\pandas\\tests\\tools\n",
      "    copying pandas\\tests\\tools\\__init__.py -> build\\lib.win-amd64-3.9\\pandas\\tests\\tools\n",
      "    creating build\\lib.win-amd64-3.9\\pandas\\tests\\tseries\n",
      "    copying pandas\\tests\\tseries\\test_frequencies.py -> build\\lib.win-amd64-3.9\\pandas\\tests\\tseries\n",
      "    copying pandas\\tests\\tseries\\test_holiday.py -> build\\lib.win-amd64-3.9\\pandas\\tests\\tseries\n",
      "    copying pandas\\tests\\tseries\\__init__.py -> build\\lib.win-amd64-3.9\\pandas\\tests\\tseries\n",
      "    creating build\\lib.win-amd64-3.9\\pandas\\tests\\tslibs\n",
      "    copying pandas\\tests\\tslibs\\test_api.py -> build\\lib.win-amd64-3.9\\pandas\\tests\\tslibs\n",
      "    copying pandas\\tests\\tslibs\\test_array_to_datetime.py -> build\\lib.win-amd64-3.9\\pandas\\tests\\tslibs\n",
      "    copying pandas\\tests\\tslibs\\test_ccalendar.py -> build\\lib.win-amd64-3.9\\pandas\\tests\\tslibs\n",
      "    copying pandas\\tests\\tslibs\\test_conversion.py -> build\\lib.win-amd64-3.9\\pandas\\tests\\tslibs\n",
      "    copying pandas\\tests\\tslibs\\test_libfrequencies.py -> build\\lib.win-amd64-3.9\\pandas\\tests\\tslibs\n",
      "    copying pandas\\tests\\tslibs\\test_liboffsets.py -> build\\lib.win-amd64-3.9\\pandas\\tests\\tslibs\n",
      "    copying pandas\\tests\\tslibs\\test_normalize_date.py -> build\\lib.win-amd64-3.9\\pandas\\tests\\tslibs\n",
      "    copying pandas\\tests\\tslibs\\test_parse_iso8601.py -> build\\lib.win-amd64-3.9\\pandas\\tests\\tslibs\n",
      "    copying pandas\\tests\\tslibs\\test_parsing.py -> build\\lib.win-amd64-3.9\\pandas\\tests\\tslibs\n",
      "    copying pandas\\tests\\tslibs\\test_period_asfreq.py -> build\\lib.win-amd64-3.9\\pandas\\tests\\tslibs\n",
      "    copying pandas\\tests\\tslibs\\test_timedeltas.py -> build\\lib.win-amd64-3.9\\pandas\\tests\\tslibs\n",
      "    copying pandas\\tests\\tslibs\\test_timezones.py -> build\\lib.win-amd64-3.9\\pandas\\tests\\tslibs\n",
      "    copying pandas\\tests\\tslibs\\__init__.py -> build\\lib.win-amd64-3.9\\pandas\\tests\\tslibs\n",
      "    creating build\\lib.win-amd64-3.9\\pandas\\tests\\util\n",
      "    copying pandas\\tests\\util\\conftest.py -> build\\lib.win-amd64-3.9\\pandas\\tests\\util\n",
      "    copying pandas\\tests\\util\\test_assert_almost_equal.py -> build\\lib.win-amd64-3.9\\pandas\\tests\\util\n",
      "    copying pandas\\tests\\util\\test_assert_categorical_equal.py -> build\\lib.win-amd64-3.9\\pandas\\tests\\util\n",
      "    copying pandas\\tests\\util\\test_assert_extension_array_equal.py -> build\\lib.win-amd64-3.9\\pandas\\tests\\util\n",
      "    copying pandas\\tests\\util\\test_assert_frame_equal.py -> build\\lib.win-amd64-3.9\\pandas\\tests\\util\n",
      "    copying pandas\\tests\\util\\test_assert_index_equal.py -> build\\lib.win-amd64-3.9\\pandas\\tests\\util\n",
      "    copying pandas\\tests\\util\\test_assert_interval_array_equal.py -> build\\lib.win-amd64-3.9\\pandas\\tests\\util\n",
      "    copying pandas\\tests\\util\\test_assert_numpy_array_equal.py -> build\\lib.win-amd64-3.9\\pandas\\tests\\util\n",
      "    copying pandas\\tests\\util\\test_assert_series_equal.py -> build\\lib.win-amd64-3.9\\pandas\\tests\\util\n",
      "    copying pandas\\tests\\util\\test_deprecate.py -> build\\lib.win-amd64-3.9\\pandas\\tests\\util\n",
      "    copying pandas\\tests\\util\\test_deprecate_kwarg.py -> build\\lib.win-amd64-3.9\\pandas\\tests\\util\n",
      "    copying pandas\\tests\\util\\test_hashing.py -> build\\lib.win-amd64-3.9\\pandas\\tests\\util\n",
      "    copying pandas\\tests\\util\\test_locale.py -> build\\lib.win-amd64-3.9\\pandas\\tests\\util\n",
      "    copying pandas\\tests\\util\\test_move.py -> build\\lib.win-amd64-3.9\\pandas\\tests\\util\n",
      "    copying pandas\\tests\\util\\test_safe_import.py -> build\\lib.win-amd64-3.9\\pandas\\tests\\util\n",
      "    copying pandas\\tests\\util\\test_util.py -> build\\lib.win-amd64-3.9\\pandas\\tests\\util\n",
      "    copying pandas\\tests\\util\\test_validate_args.py -> build\\lib.win-amd64-3.9\\pandas\\tests\\util\n",
      "    copying pandas\\tests\\util\\test_validate_args_and_kwargs.py -> build\\lib.win-amd64-3.9\\pandas\\tests\\util\n",
      "    copying pandas\\tests\\util\\test_validate_kwargs.py -> build\\lib.win-amd64-3.9\\pandas\\tests\\util\n",
      "    copying pandas\\tests\\util\\__init__.py -> build\\lib.win-amd64-3.9\\pandas\\tests\\util\n",
      "    creating build\\lib.win-amd64-3.9\\pandas\\tests\\arrays\\categorical\n",
      "    copying pandas\\tests\\arrays\\categorical\\common.py -> build\\lib.win-amd64-3.9\\pandas\\tests\\arrays\\categorical\n",
      "    copying pandas\\tests\\arrays\\categorical\\conftest.py -> build\\lib.win-amd64-3.9\\pandas\\tests\\arrays\\categorical\n",
      "    copying pandas\\tests\\arrays\\categorical\\test_algos.py -> build\\lib.win-amd64-3.9\\pandas\\tests\\arrays\\categorical\n",
      "    copying pandas\\tests\\arrays\\categorical\\test_analytics.py -> build\\lib.win-amd64-3.9\\pandas\\tests\\arrays\\categorical\n",
      "    copying pandas\\tests\\arrays\\categorical\\test_api.py -> build\\lib.win-amd64-3.9\\pandas\\tests\\arrays\\categorical\n",
      "    copying pandas\\tests\\arrays\\categorical\\test_constructors.py -> build\\lib.win-amd64-3.9\\pandas\\tests\\arrays\\categorical\n",
      "    copying pandas\\tests\\arrays\\categorical\\test_dtypes.py -> build\\lib.win-amd64-3.9\\pandas\\tests\\arrays\\categorical\n",
      "    copying pandas\\tests\\arrays\\categorical\\test_indexing.py -> build\\lib.win-amd64-3.9\\pandas\\tests\\arrays\\categorical\n",
      "    copying pandas\\tests\\arrays\\categorical\\test_missing.py -> build\\lib.win-amd64-3.9\\pandas\\tests\\arrays\\categorical\n",
      "    copying pandas\\tests\\arrays\\categorical\\test_operators.py -> build\\lib.win-amd64-3.9\\pandas\\tests\\arrays\\categorical\n",
      "    copying pandas\\tests\\arrays\\categorical\\test_repr.py -> build\\lib.win-amd64-3.9\\pandas\\tests\\arrays\\categorical\n",
      "    copying pandas\\tests\\arrays\\categorical\\test_sorting.py -> build\\lib.win-amd64-3.9\\pandas\\tests\\arrays\\categorical\n",
      "    copying pandas\\tests\\arrays\\categorical\\test_subclass.py -> build\\lib.win-amd64-3.9\\pandas\\tests\\arrays\\categorical\n",
      "    copying pandas\\tests\\arrays\\categorical\\test_warnings.py -> build\\lib.win-amd64-3.9\\pandas\\tests\\arrays\\categorical\n",
      "    copying pandas\\tests\\arrays\\categorical\\__init__.py -> build\\lib.win-amd64-3.9\\pandas\\tests\\arrays\\categorical\n",
      "    creating build\\lib.win-amd64-3.9\\pandas\\tests\\arrays\\interval\n",
      "    copying pandas\\tests\\arrays\\interval\\test_interval.py -> build\\lib.win-amd64-3.9\\pandas\\tests\\arrays\\interval\n",
      "    copying pandas\\tests\\arrays\\interval\\test_ops.py -> build\\lib.win-amd64-3.9\\pandas\\tests\\arrays\\interval\n",
      "    copying pandas\\tests\\arrays\\interval\\__init__.py -> build\\lib.win-amd64-3.9\\pandas\\tests\\arrays\\interval\n",
      "    creating build\\lib.win-amd64-3.9\\pandas\\tests\\arrays\\sparse\n",
      "    copying pandas\\tests\\arrays\\sparse\\test_arithmetics.py -> build\\lib.win-amd64-3.9\\pandas\\tests\\arrays\\sparse\n",
      "    copying pandas\\tests\\arrays\\sparse\\test_array.py -> build\\lib.win-amd64-3.9\\pandas\\tests\\arrays\\sparse\n",
      "    copying pandas\\tests\\arrays\\sparse\\test_dtype.py -> build\\lib.win-amd64-3.9\\pandas\\tests\\arrays\\sparse\n",
      "    copying pandas\\tests\\arrays\\sparse\\test_libsparse.py -> build\\lib.win-amd64-3.9\\pandas\\tests\\arrays\\sparse\n",
      "    copying pandas\\tests\\arrays\\sparse\\__init__.py -> build\\lib.win-amd64-3.9\\pandas\\tests\\arrays\\sparse\n",
      "    creating build\\lib.win-amd64-3.9\\pandas\\tests\\dtypes\\cast\n",
      "    copying pandas\\tests\\dtypes\\cast\\test_construct_from_scalar.py -> build\\lib.win-amd64-3.9\\pandas\\tests\\dtypes\\cast\n",
      "    copying pandas\\tests\\dtypes\\cast\\test_construct_ndarray.py -> build\\lib.win-amd64-3.9\\pandas\\tests\\dtypes\\cast\n",
      "    copying pandas\\tests\\dtypes\\cast\\test_construct_object_arr.py -> build\\lib.win-amd64-3.9\\pandas\\tests\\dtypes\\cast\n",
      "    copying pandas\\tests\\dtypes\\cast\\test_convert_objects.py -> build\\lib.win-amd64-3.9\\pandas\\tests\\dtypes\\cast\n",
      "    copying pandas\\tests\\dtypes\\cast\\test_downcast.py -> build\\lib.win-amd64-3.9\\pandas\\tests\\dtypes\\cast\n",
      "    copying pandas\\tests\\dtypes\\cast\\test_find_common_type.py -> build\\lib.win-amd64-3.9\\pandas\\tests\\dtypes\\cast\n",
      "    copying pandas\\tests\\dtypes\\cast\\test_infer_datetimelike.py -> build\\lib.win-amd64-3.9\\pandas\\tests\\dtypes\\cast\n",
      "    copying pandas\\tests\\dtypes\\cast\\test_infer_dtype.py -> build\\lib.win-amd64-3.9\\pandas\\tests\\dtypes\\cast\n",
      "    copying pandas\\tests\\dtypes\\cast\\__init__.py -> build\\lib.win-amd64-3.9\\pandas\\tests\\dtypes\\cast\n",
      "    creating build\\lib.win-amd64-3.9\\pandas\\tests\\extension\\arrow\n",
      "    copying pandas\\tests\\extension\\arrow\\bool.py -> build\\lib.win-amd64-3.9\\pandas\\tests\\extension\\arrow\n",
      "    copying pandas\\tests\\extension\\arrow\\test_bool.py -> build\\lib.win-amd64-3.9\\pandas\\tests\\extension\\arrow\n",
      "    copying pandas\\tests\\extension\\arrow\\__init__.py -> build\\lib.win-amd64-3.9\\pandas\\tests\\extension\\arrow\n",
      "    creating build\\lib.win-amd64-3.9\\pandas\\tests\\extension\\base\n",
      "    copying pandas\\tests\\extension\\base\\base.py -> build\\lib.win-amd64-3.9\\pandas\\tests\\extension\\base\n",
      "    copying pandas\\tests\\extension\\base\\casting.py -> build\\lib.win-amd64-3.9\\pandas\\tests\\extension\\base\n",
      "    copying pandas\\tests\\extension\\base\\constructors.py -> build\\lib.win-amd64-3.9\\pandas\\tests\\extension\\base\n",
      "    copying pandas\\tests\\extension\\base\\dtype.py -> build\\lib.win-amd64-3.9\\pandas\\tests\\extension\\base\n",
      "    copying pandas\\tests\\extension\\base\\getitem.py -> build\\lib.win-amd64-3.9\\pandas\\tests\\extension\\base\n",
      "    copying pandas\\tests\\extension\\base\\groupby.py -> build\\lib.win-amd64-3.9\\pandas\\tests\\extension\\base\n",
      "    copying pandas\\tests\\extension\\base\\interface.py -> build\\lib.win-amd64-3.9\\pandas\\tests\\extension\\base\n",
      "    copying pandas\\tests\\extension\\base\\io.py -> build\\lib.win-amd64-3.9\\pandas\\tests\\extension\\base\n",
      "    copying pandas\\tests\\extension\\base\\methods.py -> build\\lib.win-amd64-3.9\\pandas\\tests\\extension\\base\n",
      "    copying pandas\\tests\\extension\\base\\missing.py -> build\\lib.win-amd64-3.9\\pandas\\tests\\extension\\base\n",
      "    copying pandas\\tests\\extension\\base\\ops.py -> build\\lib.win-amd64-3.9\\pandas\\tests\\extension\\base\n",
      "    copying pandas\\tests\\extension\\base\\printing.py -> build\\lib.win-amd64-3.9\\pandas\\tests\\extension\\base\n",
      "    copying pandas\\tests\\extension\\base\\reduce.py -> build\\lib.win-amd64-3.9\\pandas\\tests\\extension\\base\n",
      "    copying pandas\\tests\\extension\\base\\reshaping.py -> build\\lib.win-amd64-3.9\\pandas\\tests\\extension\\base\n",
      "    copying pandas\\tests\\extension\\base\\setitem.py -> build\\lib.win-amd64-3.9\\pandas\\tests\\extension\\base\n",
      "    copying pandas\\tests\\extension\\base\\__init__.py -> build\\lib.win-amd64-3.9\\pandas\\tests\\extension\\base\n",
      "    creating build\\lib.win-amd64-3.9\\pandas\\tests\\extension\\decimal\n",
      "    copying pandas\\tests\\extension\\decimal\\array.py -> build\\lib.win-amd64-3.9\\pandas\\tests\\extension\\decimal\n",
      "    copying pandas\\tests\\extension\\decimal\\test_decimal.py -> build\\lib.win-amd64-3.9\\pandas\\tests\\extension\\decimal\n",
      "    copying pandas\\tests\\extension\\decimal\\__init__.py -> build\\lib.win-amd64-3.9\\pandas\\tests\\extension\\decimal\n",
      "    creating build\\lib.win-amd64-3.9\\pandas\\tests\\extension\\json\n",
      "    copying pandas\\tests\\extension\\json\\array.py -> build\\lib.win-amd64-3.9\\pandas\\tests\\extension\\json\n",
      "    copying pandas\\tests\\extension\\json\\test_json.py -> build\\lib.win-amd64-3.9\\pandas\\tests\\extension\\json\n",
      "    copying pandas\\tests\\extension\\json\\__init__.py -> build\\lib.win-amd64-3.9\\pandas\\tests\\extension\\json\n",
      "    creating build\\lib.win-amd64-3.9\\pandas\\tests\\extension\\numpy_\n",
      "    copying pandas\\tests\\extension\\numpy_\\conftest.py -> build\\lib.win-amd64-3.9\\pandas\\tests\\extension\\numpy_\n",
      "    copying pandas\\tests\\extension\\numpy_\\test_numpy.py -> build\\lib.win-amd64-3.9\\pandas\\tests\\extension\\numpy_\n",
      "    copying pandas\\tests\\extension\\numpy_\\test_numpy_nested.py -> build\\lib.win-amd64-3.9\\pandas\\tests\\extension\\numpy_\n",
      "    copying pandas\\tests\\extension\\numpy_\\__init__.py -> build\\lib.win-amd64-3.9\\pandas\\tests\\extension\\numpy_\n",
      "    creating build\\lib.win-amd64-3.9\\pandas\\tests\\groupby\\aggregate\n",
      "    copying pandas\\tests\\groupby\\aggregate\\test_aggregate.py -> build\\lib.win-amd64-3.9\\pandas\\tests\\groupby\\aggregate\n",
      "    copying pandas\\tests\\groupby\\aggregate\\test_cython.py -> build\\lib.win-amd64-3.9\\pandas\\tests\\groupby\\aggregate\n",
      "    copying pandas\\tests\\groupby\\aggregate\\test_other.py -> build\\lib.win-amd64-3.9\\pandas\\tests\\groupby\\aggregate\n",
      "    copying pandas\\tests\\groupby\\aggregate\\__init__.py -> build\\lib.win-amd64-3.9\\pandas\\tests\\groupby\\aggregate\n",
      "    creating build\\lib.win-amd64-3.9\\pandas\\tests\\indexes\\datetimes\n",
      "    copying pandas\\tests\\indexes\\datetimes\\test_arithmetic.py -> build\\lib.win-amd64-3.9\\pandas\\tests\\indexes\\datetimes\n",
      "    copying pandas\\tests\\indexes\\datetimes\\test_astype.py -> build\\lib.win-amd64-3.9\\pandas\\tests\\indexes\\datetimes\n",
      "    copying pandas\\tests\\indexes\\datetimes\\test_construction.py -> build\\lib.win-amd64-3.9\\pandas\\tests\\indexes\\datetimes\n",
      "    copying pandas\\tests\\indexes\\datetimes\\test_datetime.py -> build\\lib.win-amd64-3.9\\pandas\\tests\\indexes\\datetimes\n",
      "    copying pandas\\tests\\indexes\\datetimes\\test_datetimelike.py -> build\\lib.win-amd64-3.9\\pandas\\tests\\indexes\\datetimes\n",
      "    copying pandas\\tests\\indexes\\datetimes\\test_date_range.py -> build\\lib.win-amd64-3.9\\pandas\\tests\\indexes\\datetimes\n",
      "    copying pandas\\tests\\indexes\\datetimes\\test_formats.py -> build\\lib.win-amd64-3.9\\pandas\\tests\\indexes\\datetimes\n",
      "    copying pandas\\tests\\indexes\\datetimes\\test_indexing.py -> build\\lib.win-amd64-3.9\\pandas\\tests\\indexes\\datetimes\n",
      "    copying pandas\\tests\\indexes\\datetimes\\test_misc.py -> build\\lib.win-amd64-3.9\\pandas\\tests\\indexes\\datetimes\n",
      "    copying pandas\\tests\\indexes\\datetimes\\test_missing.py -> build\\lib.win-amd64-3.9\\pandas\\tests\\indexes\\datetimes\n",
      "    copying pandas\\tests\\indexes\\datetimes\\test_ops.py -> build\\lib.win-amd64-3.9\\pandas\\tests\\indexes\\datetimes\n",
      "    copying pandas\\tests\\indexes\\datetimes\\test_partial_slicing.py -> build\\lib.win-amd64-3.9\\pandas\\tests\\indexes\\datetimes\n",
      "    copying pandas\\tests\\indexes\\datetimes\\test_scalar_compat.py -> build\\lib.win-amd64-3.9\\pandas\\tests\\indexes\\datetimes\n",
      "    copying pandas\\tests\\indexes\\datetimes\\test_setops.py -> build\\lib.win-amd64-3.9\\pandas\\tests\\indexes\\datetimes\n",
      "    copying pandas\\tests\\indexes\\datetimes\\test_timezones.py -> build\\lib.win-amd64-3.9\\pandas\\tests\\indexes\\datetimes\n",
      "    copying pandas\\tests\\indexes\\datetimes\\test_tools.py -> build\\lib.win-amd64-3.9\\pandas\\tests\\indexes\\datetimes\n",
      "    copying pandas\\tests\\indexes\\datetimes\\__init__.py -> build\\lib.win-amd64-3.9\\pandas\\tests\\indexes\\datetimes\n",
      "    creating build\\lib.win-amd64-3.9\\pandas\\tests\\indexes\\interval\n",
      "    copying pandas\\tests\\indexes\\interval\\test_astype.py -> build\\lib.win-amd64-3.9\\pandas\\tests\\indexes\\interval\n",
      "    copying pandas\\tests\\indexes\\interval\\test_construction.py -> build\\lib.win-amd64-3.9\\pandas\\tests\\indexes\\interval\n",
      "    copying pandas\\tests\\indexes\\interval\\test_interval.py -> build\\lib.win-amd64-3.9\\pandas\\tests\\indexes\\interval\n",
      "    copying pandas\\tests\\indexes\\interval\\test_interval_new.py -> build\\lib.win-amd64-3.9\\pandas\\tests\\indexes\\interval\n",
      "    copying pandas\\tests\\indexes\\interval\\test_interval_range.py -> build\\lib.win-amd64-3.9\\pandas\\tests\\indexes\\interval\n",
      "    copying pandas\\tests\\indexes\\interval\\test_interval_tree.py -> build\\lib.win-amd64-3.9\\pandas\\tests\\indexes\\interval\n",
      "    copying pandas\\tests\\indexes\\interval\\__init__.py -> build\\lib.win-amd64-3.9\\pandas\\tests\\indexes\\interval\n",
      "    creating build\\lib.win-amd64-3.9\\pandas\\tests\\indexes\\multi\n",
      "    copying pandas\\tests\\indexes\\multi\\conftest.py -> build\\lib.win-amd64-3.9\\pandas\\tests\\indexes\\multi\n",
      "    copying pandas\\tests\\indexes\\multi\\test_analytics.py -> build\\lib.win-amd64-3.9\\pandas\\tests\\indexes\\multi\n",
      "    copying pandas\\tests\\indexes\\multi\\test_astype.py -> build\\lib.win-amd64-3.9\\pandas\\tests\\indexes\\multi\n",
      "    copying pandas\\tests\\indexes\\multi\\test_compat.py -> build\\lib.win-amd64-3.9\\pandas\\tests\\indexes\\multi\n",
      "    copying pandas\\tests\\indexes\\multi\\test_constructor.py -> build\\lib.win-amd64-3.9\\pandas\\tests\\indexes\\multi\n",
      "    copying pandas\\tests\\indexes\\multi\\test_contains.py -> build\\lib.win-amd64-3.9\\pandas\\tests\\indexes\\multi\n",
      "    copying pandas\\tests\\indexes\\multi\\test_conversion.py -> build\\lib.win-amd64-3.9\\pandas\\tests\\indexes\\multi\n",
      "    copying pandas\\tests\\indexes\\multi\\test_copy.py -> build\\lib.win-amd64-3.9\\pandas\\tests\\indexes\\multi\n",
      "    copying pandas\\tests\\indexes\\multi\\test_drop.py -> build\\lib.win-amd64-3.9\\pandas\\tests\\indexes\\multi\n",
      "    copying pandas\\tests\\indexes\\multi\\test_duplicates.py -> build\\lib.win-amd64-3.9\\pandas\\tests\\indexes\\multi\n",
      "    copying pandas\\tests\\indexes\\multi\\test_equivalence.py -> build\\lib.win-amd64-3.9\\pandas\\tests\\indexes\\multi\n",
      "    copying pandas\\tests\\indexes\\multi\\test_format.py -> build\\lib.win-amd64-3.9\\pandas\\tests\\indexes\\multi\n",
      "    copying pandas\\tests\\indexes\\multi\\test_get_set.py -> build\\lib.win-amd64-3.9\\pandas\\tests\\indexes\\multi\n",
      "    copying pandas\\tests\\indexes\\multi\\test_indexing.py -> build\\lib.win-amd64-3.9\\pandas\\tests\\indexes\\multi\n",
      "    copying pandas\\tests\\indexes\\multi\\test_integrity.py -> build\\lib.win-amd64-3.9\\pandas\\tests\\indexes\\multi\n",
      "    copying pandas\\tests\\indexes\\multi\\test_join.py -> build\\lib.win-amd64-3.9\\pandas\\tests\\indexes\\multi\n",
      "    copying pandas\\tests\\indexes\\multi\\test_missing.py -> build\\lib.win-amd64-3.9\\pandas\\tests\\indexes\\multi\n",
      "    copying pandas\\tests\\indexes\\multi\\test_monotonic.py -> build\\lib.win-amd64-3.9\\pandas\\tests\\indexes\\multi\n",
      "    copying pandas\\tests\\indexes\\multi\\test_names.py -> build\\lib.win-amd64-3.9\\pandas\\tests\\indexes\\multi\n",
      "    copying pandas\\tests\\indexes\\multi\\test_partial_indexing.py -> build\\lib.win-amd64-3.9\\pandas\\tests\\indexes\\multi\n",
      "    copying pandas\\tests\\indexes\\multi\\test_reindex.py -> build\\lib.win-amd64-3.9\\pandas\\tests\\indexes\\multi\n",
      "    copying pandas\\tests\\indexes\\multi\\test_reshape.py -> build\\lib.win-amd64-3.9\\pandas\\tests\\indexes\\multi\n",
      "    copying pandas\\tests\\indexes\\multi\\test_set_ops.py -> build\\lib.win-amd64-3.9\\pandas\\tests\\indexes\\multi\n",
      "    copying pandas\\tests\\indexes\\multi\\test_sorting.py -> build\\lib.win-amd64-3.9\\pandas\\tests\\indexes\\multi\n",
      "    copying pandas\\tests\\indexes\\multi\\__init__.py -> build\\lib.win-amd64-3.9\\pandas\\tests\\indexes\\multi\n",
      "    creating build\\lib.win-amd64-3.9\\pandas\\tests\\indexes\\period\n",
      "    copying pandas\\tests\\indexes\\period\\test_arithmetic.py -> build\\lib.win-amd64-3.9\\pandas\\tests\\indexes\\period\n",
      "    copying pandas\\tests\\indexes\\period\\test_asfreq.py -> build\\lib.win-amd64-3.9\\pandas\\tests\\indexes\\period\n",
      "    copying pandas\\tests\\indexes\\period\\test_astype.py -> build\\lib.win-amd64-3.9\\pandas\\tests\\indexes\\period\n",
      "    copying pandas\\tests\\indexes\\period\\test_construction.py -> build\\lib.win-amd64-3.9\\pandas\\tests\\indexes\\period\n",
      "    copying pandas\\tests\\indexes\\period\\test_formats.py -> build\\lib.win-amd64-3.9\\pandas\\tests\\indexes\\period\n",
      "    copying pandas\\tests\\indexes\\period\\test_indexing.py -> build\\lib.win-amd64-3.9\\pandas\\tests\\indexes\\period\n",
      "    copying pandas\\tests\\indexes\\period\\test_ops.py -> build\\lib.win-amd64-3.9\\pandas\\tests\\indexes\\period\n",
      "    copying pandas\\tests\\indexes\\period\\test_partial_slicing.py -> build\\lib.win-amd64-3.9\\pandas\\tests\\indexes\\period\n",
      "    copying pandas\\tests\\indexes\\period\\test_period.py -> build\\lib.win-amd64-3.9\\pandas\\tests\\indexes\\period\n",
      "    copying pandas\\tests\\indexes\\period\\test_period_range.py -> build\\lib.win-amd64-3.9\\pandas\\tests\\indexes\\period\n",
      "    copying pandas\\tests\\indexes\\period\\test_scalar_compat.py -> build\\lib.win-amd64-3.9\\pandas\\tests\\indexes\\period\n",
      "    copying pandas\\tests\\indexes\\period\\test_setops.py -> build\\lib.win-amd64-3.9\\pandas\\tests\\indexes\\period\n",
      "    copying pandas\\tests\\indexes\\period\\test_tools.py -> build\\lib.win-amd64-3.9\\pandas\\tests\\indexes\\period\n",
      "    copying pandas\\tests\\indexes\\period\\__init__.py -> build\\lib.win-amd64-3.9\\pandas\\tests\\indexes\\period\n",
      "    creating build\\lib.win-amd64-3.9\\pandas\\tests\\indexes\\timedeltas\n",
      "    copying pandas\\tests\\indexes\\timedeltas\\test_arithmetic.py -> build\\lib.win-amd64-3.9\\pandas\\tests\\indexes\\timedeltas\n",
      "    copying pandas\\tests\\indexes\\timedeltas\\test_astype.py -> build\\lib.win-amd64-3.9\\pandas\\tests\\indexes\\timedeltas\n",
      "    copying pandas\\tests\\indexes\\timedeltas\\test_construction.py -> build\\lib.win-amd64-3.9\\pandas\\tests\\indexes\\timedeltas\n",
      "    copying pandas\\tests\\indexes\\timedeltas\\test_formats.py -> build\\lib.win-amd64-3.9\\pandas\\tests\\indexes\\timedeltas\n",
      "    copying pandas\\tests\\indexes\\timedeltas\\test_indexing.py -> build\\lib.win-amd64-3.9\\pandas\\tests\\indexes\\timedeltas\n",
      "    copying pandas\\tests\\indexes\\timedeltas\\test_ops.py -> build\\lib.win-amd64-3.9\\pandas\\tests\\indexes\\timedeltas\n",
      "    copying pandas\\tests\\indexes\\timedeltas\\test_partial_slicing.py -> build\\lib.win-amd64-3.9\\pandas\\tests\\indexes\\timedeltas\n",
      "    copying pandas\\tests\\indexes\\timedeltas\\test_scalar_compat.py -> build\\lib.win-amd64-3.9\\pandas\\tests\\indexes\\timedeltas\n",
      "    copying pandas\\tests\\indexes\\timedeltas\\test_setops.py -> build\\lib.win-amd64-3.9\\pandas\\tests\\indexes\\timedeltas\n",
      "    copying pandas\\tests\\indexes\\timedeltas\\test_timedelta.py -> build\\lib.win-amd64-3.9\\pandas\\tests\\indexes\\timedeltas\n",
      "    copying pandas\\tests\\indexes\\timedeltas\\test_timedelta_range.py -> build\\lib.win-amd64-3.9\\pandas\\tests\\indexes\\timedeltas\n",
      "    copying pandas\\tests\\indexes\\timedeltas\\test_tools.py -> build\\lib.win-amd64-3.9\\pandas\\tests\\indexes\\timedeltas\n",
      "    copying pandas\\tests\\indexes\\timedeltas\\__init__.py -> build\\lib.win-amd64-3.9\\pandas\\tests\\indexes\\timedeltas\n",
      "    creating build\\lib.win-amd64-3.9\\pandas\\tests\\indexing\\interval\n",
      "    copying pandas\\tests\\indexing\\interval\\test_interval.py -> build\\lib.win-amd64-3.9\\pandas\\tests\\indexing\\interval\n",
      "    copying pandas\\tests\\indexing\\interval\\test_interval_new.py -> build\\lib.win-amd64-3.9\\pandas\\tests\\indexing\\interval\n",
      "    copying pandas\\tests\\indexing\\interval\\__init__.py -> build\\lib.win-amd64-3.9\\pandas\\tests\\indexing\\interval\n",
      "    creating build\\lib.win-amd64-3.9\\pandas\\tests\\indexing\\multiindex\n",
      "    copying pandas\\tests\\indexing\\multiindex\\conftest.py -> build\\lib.win-amd64-3.9\\pandas\\tests\\indexing\\multiindex\n",
      "    copying pandas\\tests\\indexing\\multiindex\\test_chaining_and_caching.py -> build\\lib.win-amd64-3.9\\pandas\\tests\\indexing\\multiindex\n",
      "    copying pandas\\tests\\indexing\\multiindex\\test_datetime.py -> build\\lib.win-amd64-3.9\\pandas\\tests\\indexing\\multiindex\n",
      "    copying pandas\\tests\\indexing\\multiindex\\test_getitem.py -> build\\lib.win-amd64-3.9\\pandas\\tests\\indexing\\multiindex\n",
      "    copying pandas\\tests\\indexing\\multiindex\\test_iloc.py -> build\\lib.win-amd64-3.9\\pandas\\tests\\indexing\\multiindex\n",
      "    copying pandas\\tests\\indexing\\multiindex\\test_indexing_slow.py -> build\\lib.win-amd64-3.9\\pandas\\tests\\indexing\\multiindex\n",
      "    copying pandas\\tests\\indexing\\multiindex\\test_ix.py -> build\\lib.win-amd64-3.9\\pandas\\tests\\indexing\\multiindex\n",
      "    copying pandas\\tests\\indexing\\multiindex\\test_loc.py -> build\\lib.win-amd64-3.9\\pandas\\tests\\indexing\\multiindex\n",
      "    copying pandas\\tests\\indexing\\multiindex\\test_multiindex.py -> build\\lib.win-amd64-3.9\\pandas\\tests\\indexing\\multiindex\n",
      "    copying pandas\\tests\\indexing\\multiindex\\test_panel.py -> build\\lib.win-amd64-3.9\\pandas\\tests\\indexing\\multiindex\n",
      "    copying pandas\\tests\\indexing\\multiindex\\test_partial.py -> build\\lib.win-amd64-3.9\\pandas\\tests\\indexing\\multiindex\n",
      "    copying pandas\\tests\\indexing\\multiindex\\test_setitem.py -> build\\lib.win-amd64-3.9\\pandas\\tests\\indexing\\multiindex\n",
      "    copying pandas\\tests\\indexing\\multiindex\\test_set_ops.py -> build\\lib.win-amd64-3.9\\pandas\\tests\\indexing\\multiindex\n",
      "    copying pandas\\tests\\indexing\\multiindex\\test_slice.py -> build\\lib.win-amd64-3.9\\pandas\\tests\\indexing\\multiindex\n",
      "    copying pandas\\tests\\indexing\\multiindex\\test_sorted.py -> build\\lib.win-amd64-3.9\\pandas\\tests\\indexing\\multiindex\n",
      "    copying pandas\\tests\\indexing\\multiindex\\test_xs.py -> build\\lib.win-amd64-3.9\\pandas\\tests\\indexing\\multiindex\n",
      "    copying pandas\\tests\\indexing\\multiindex\\__init__.py -> build\\lib.win-amd64-3.9\\pandas\\tests\\indexing\\multiindex\n",
      "    creating build\\lib.win-amd64-3.9\\pandas\\tests\\io\\formats\n",
      "    copying pandas\\tests\\io\\formats\\test_console.py -> build\\lib.win-amd64-3.9\\pandas\\tests\\io\\formats\n",
      "    copying pandas\\tests\\io\\formats\\test_css.py -> build\\lib.win-amd64-3.9\\pandas\\tests\\io\\formats\n",
      "    copying pandas\\tests\\io\\formats\\test_eng_formatting.py -> build\\lib.win-amd64-3.9\\pandas\\tests\\io\\formats\n",
      "    copying pandas\\tests\\io\\formats\\test_format.py -> build\\lib.win-amd64-3.9\\pandas\\tests\\io\\formats\n",
      "    copying pandas\\tests\\io\\formats\\test_printing.py -> build\\lib.win-amd64-3.9\\pandas\\tests\\io\\formats\n",
      "    copying pandas\\tests\\io\\formats\\test_style.py -> build\\lib.win-amd64-3.9\\pandas\\tests\\io\\formats\n",
      "    copying pandas\\tests\\io\\formats\\test_to_csv.py -> build\\lib.win-amd64-3.9\\pandas\\tests\\io\\formats\n",
      "    copying pandas\\tests\\io\\formats\\test_to_excel.py -> build\\lib.win-amd64-3.9\\pandas\\tests\\io\\formats\n",
      "    copying pandas\\tests\\io\\formats\\test_to_html.py -> build\\lib.win-amd64-3.9\\pandas\\tests\\io\\formats\n",
      "    copying pandas\\tests\\io\\formats\\test_to_latex.py -> build\\lib.win-amd64-3.9\\pandas\\tests\\io\\formats\n",
      "    copying pandas\\tests\\io\\formats\\__init__.py -> build\\lib.win-amd64-3.9\\pandas\\tests\\io\\formats\n",
      "    creating build\\lib.win-amd64-3.9\\pandas\\tests\\io\\json\n",
      "    copying pandas\\tests\\io\\json\\test_compression.py -> build\\lib.win-amd64-3.9\\pandas\\tests\\io\\json\n",
      "    copying pandas\\tests\\io\\json\\test_json_table_schema.py -> build\\lib.win-amd64-3.9\\pandas\\tests\\io\\json\n",
      "    copying pandas\\tests\\io\\json\\test_normalize.py -> build\\lib.win-amd64-3.9\\pandas\\tests\\io\\json\n",
      "    copying pandas\\tests\\io\\json\\test_pandas.py -> build\\lib.win-amd64-3.9\\pandas\\tests\\io\\json\n",
      "    copying pandas\\tests\\io\\json\\test_readlines.py -> build\\lib.win-amd64-3.9\\pandas\\tests\\io\\json\n",
      "    copying pandas\\tests\\io\\json\\test_ujson.py -> build\\lib.win-amd64-3.9\\pandas\\tests\\io\\json\n",
      "    copying pandas\\tests\\io\\json\\__init__.py -> build\\lib.win-amd64-3.9\\pandas\\tests\\io\\json\n",
      "    creating build\\lib.win-amd64-3.9\\pandas\\tests\\io\\msgpack\n",
      "    copying pandas\\tests\\io\\msgpack\\common.py -> build\\lib.win-amd64-3.9\\pandas\\tests\\io\\msgpack\n",
      "    copying pandas\\tests\\io\\msgpack\\test_buffer.py -> build\\lib.win-amd64-3.9\\pandas\\tests\\io\\msgpack\n",
      "    copying pandas\\tests\\io\\msgpack\\test_case.py -> build\\lib.win-amd64-3.9\\pandas\\tests\\io\\msgpack\n",
      "    copying pandas\\tests\\io\\msgpack\\test_except.py -> build\\lib.win-amd64-3.9\\pandas\\tests\\io\\msgpack\n",
      "    copying pandas\\tests\\io\\msgpack\\test_extension.py -> build\\lib.win-amd64-3.9\\pandas\\tests\\io\\msgpack\n",
      "    copying pandas\\tests\\io\\msgpack\\test_format.py -> build\\lib.win-amd64-3.9\\pandas\\tests\\io\\msgpack\n",
      "    copying pandas\\tests\\io\\msgpack\\test_limits.py -> build\\lib.win-amd64-3.9\\pandas\\tests\\io\\msgpack\n",
      "    copying pandas\\tests\\io\\msgpack\\test_newspec.py -> build\\lib.win-amd64-3.9\\pandas\\tests\\io\\msgpack\n",
      "    copying pandas\\tests\\io\\msgpack\\test_obj.py -> build\\lib.win-amd64-3.9\\pandas\\tests\\io\\msgpack\n",
      "    copying pandas\\tests\\io\\msgpack\\test_pack.py -> build\\lib.win-amd64-3.9\\pandas\\tests\\io\\msgpack\n",
      "    copying pandas\\tests\\io\\msgpack\\test_read_size.py -> build\\lib.win-amd64-3.9\\pandas\\tests\\io\\msgpack\n",
      "    copying pandas\\tests\\io\\msgpack\\test_seq.py -> build\\lib.win-amd64-3.9\\pandas\\tests\\io\\msgpack\n",
      "    copying pandas\\tests\\io\\msgpack\\test_sequnpack.py -> build\\lib.win-amd64-3.9\\pandas\\tests\\io\\msgpack\n",
      "    copying pandas\\tests\\io\\msgpack\\test_subtype.py -> build\\lib.win-amd64-3.9\\pandas\\tests\\io\\msgpack\n",
      "    copying pandas\\tests\\io\\msgpack\\test_unpack.py -> build\\lib.win-amd64-3.9\\pandas\\tests\\io\\msgpack\n",
      "    copying pandas\\tests\\io\\msgpack\\test_unpack_raw.py -> build\\lib.win-amd64-3.9\\pandas\\tests\\io\\msgpack\n",
      "    copying pandas\\tests\\io\\msgpack\\__init__.py -> build\\lib.win-amd64-3.9\\pandas\\tests\\io\\msgpack\n",
      "    creating build\\lib.win-amd64-3.9\\pandas\\tests\\io\\parser\n",
      "    copying pandas\\tests\\io\\parser\\conftest.py -> build\\lib.win-amd64-3.9\\pandas\\tests\\io\\parser\n",
      "    copying pandas\\tests\\io\\parser\\test_comment.py -> build\\lib.win-amd64-3.9\\pandas\\tests\\io\\parser\n",
      "    copying pandas\\tests\\io\\parser\\test_common.py -> build\\lib.win-amd64-3.9\\pandas\\tests\\io\\parser\n",
      "    copying pandas\\tests\\io\\parser\\test_compression.py -> build\\lib.win-amd64-3.9\\pandas\\tests\\io\\parser\n",
      "    copying pandas\\tests\\io\\parser\\test_converters.py -> build\\lib.win-amd64-3.9\\pandas\\tests\\io\\parser\n",
      "    copying pandas\\tests\\io\\parser\\test_c_parser_only.py -> build\\lib.win-amd64-3.9\\pandas\\tests\\io\\parser\n",
      "    copying pandas\\tests\\io\\parser\\test_dialect.py -> build\\lib.win-amd64-3.9\\pandas\\tests\\io\\parser\n",
      "    copying pandas\\tests\\io\\parser\\test_dtypes.py -> build\\lib.win-amd64-3.9\\pandas\\tests\\io\\parser\n",
      "    copying pandas\\tests\\io\\parser\\test_header.py -> build\\lib.win-amd64-3.9\\pandas\\tests\\io\\parser\n",
      "    copying pandas\\tests\\io\\parser\\test_index_col.py -> build\\lib.win-amd64-3.9\\pandas\\tests\\io\\parser\n",
      "    copying pandas\\tests\\io\\parser\\test_mangle_dupes.py -> build\\lib.win-amd64-3.9\\pandas\\tests\\io\\parser\n",
      "    copying pandas\\tests\\io\\parser\\test_multi_thread.py -> build\\lib.win-amd64-3.9\\pandas\\tests\\io\\parser\n",
      "    copying pandas\\tests\\io\\parser\\test_na_values.py -> build\\lib.win-amd64-3.9\\pandas\\tests\\io\\parser\n",
      "    copying pandas\\tests\\io\\parser\\test_network.py -> build\\lib.win-amd64-3.9\\pandas\\tests\\io\\parser\n",
      "    copying pandas\\tests\\io\\parser\\test_parse_dates.py -> build\\lib.win-amd64-3.9\\pandas\\tests\\io\\parser\n",
      "    copying pandas\\tests\\io\\parser\\test_python_parser_only.py -> build\\lib.win-amd64-3.9\\pandas\\tests\\io\\parser\n",
      "    copying pandas\\tests\\io\\parser\\test_quoting.py -> build\\lib.win-amd64-3.9\\pandas\\tests\\io\\parser\n",
      "    copying pandas\\tests\\io\\parser\\test_read_fwf.py -> build\\lib.win-amd64-3.9\\pandas\\tests\\io\\parser\n",
      "    copying pandas\\tests\\io\\parser\\test_skiprows.py -> build\\lib.win-amd64-3.9\\pandas\\tests\\io\\parser\n",
      "    copying pandas\\tests\\io\\parser\\test_textreader.py -> build\\lib.win-amd64-3.9\\pandas\\tests\\io\\parser\n",
      "    copying pandas\\tests\\io\\parser\\test_unsupported.py -> build\\lib.win-amd64-3.9\\pandas\\tests\\io\\parser\n",
      "    copying pandas\\tests\\io\\parser\\test_usecols.py -> build\\lib.win-amd64-3.9\\pandas\\tests\\io\\parser\n",
      "    copying pandas\\tests\\io\\parser\\__init__.py -> build\\lib.win-amd64-3.9\\pandas\\tests\\io\\parser\n",
      "    creating build\\lib.win-amd64-3.9\\pandas\\tests\\io\\sas\n",
      "    copying pandas\\tests\\io\\sas\\test_sas.py -> build\\lib.win-amd64-3.9\\pandas\\tests\\io\\sas\n",
      "    copying pandas\\tests\\io\\sas\\test_sas7bdat.py -> build\\lib.win-amd64-3.9\\pandas\\tests\\io\\sas\n",
      "    copying pandas\\tests\\io\\sas\\test_xport.py -> build\\lib.win-amd64-3.9\\pandas\\tests\\io\\sas\n",
      "    copying pandas\\tests\\io\\sas\\__init__.py -> build\\lib.win-amd64-3.9\\pandas\\tests\\io\\sas\n",
      "    creating build\\lib.win-amd64-3.9\\pandas\\tests\\reshape\\merge\n",
      "    copying pandas\\tests\\reshape\\merge\\test_join.py -> build\\lib.win-amd64-3.9\\pandas\\tests\\reshape\\merge\n",
      "    copying pandas\\tests\\reshape\\merge\\test_merge.py -> build\\lib.win-amd64-3.9\\pandas\\tests\\reshape\\merge\n",
      "    copying pandas\\tests\\reshape\\merge\\test_merge_asof.py -> build\\lib.win-amd64-3.9\\pandas\\tests\\reshape\\merge\n",
      "    copying pandas\\tests\\reshape\\merge\\test_merge_index_as_string.py -> build\\lib.win-amd64-3.9\\pandas\\tests\\reshape\\merge\n",
      "    copying pandas\\tests\\reshape\\merge\\test_merge_ordered.py -> build\\lib.win-amd64-3.9\\pandas\\tests\\reshape\\merge\n",
      "    copying pandas\\tests\\reshape\\merge\\test_multi.py -> build\\lib.win-amd64-3.9\\pandas\\tests\\reshape\\merge\n",
      "    copying pandas\\tests\\reshape\\merge\\__init__.py -> build\\lib.win-amd64-3.9\\pandas\\tests\\reshape\\merge\n",
      "    creating build\\lib.win-amd64-3.9\\pandas\\tests\\scalar\\interval\n",
      "    copying pandas\\tests\\scalar\\interval\\test_interval.py -> build\\lib.win-amd64-3.9\\pandas\\tests\\scalar\\interval\n",
      "    copying pandas\\tests\\scalar\\interval\\test_ops.py -> build\\lib.win-amd64-3.9\\pandas\\tests\\scalar\\interval\n",
      "    copying pandas\\tests\\scalar\\interval\\__init__.py -> build\\lib.win-amd64-3.9\\pandas\\tests\\scalar\\interval\n",
      "    creating build\\lib.win-amd64-3.9\\pandas\\tests\\scalar\\period\n",
      "    copying pandas\\tests\\scalar\\period\\test_asfreq.py -> build\\lib.win-amd64-3.9\\pandas\\tests\\scalar\\period\n",
      "    copying pandas\\tests\\scalar\\period\\test_period.py -> build\\lib.win-amd64-3.9\\pandas\\tests\\scalar\\period\n",
      "    copying pandas\\tests\\scalar\\period\\__init__.py -> build\\lib.win-amd64-3.9\\pandas\\tests\\scalar\\period\n",
      "    creating build\\lib.win-amd64-3.9\\pandas\\tests\\scalar\\timedelta\n",
      "    copying pandas\\tests\\scalar\\timedelta\\test_arithmetic.py -> build\\lib.win-amd64-3.9\\pandas\\tests\\scalar\\timedelta\n",
      "    copying pandas\\tests\\scalar\\timedelta\\test_construction.py -> build\\lib.win-amd64-3.9\\pandas\\tests\\scalar\\timedelta\n",
      "    copying pandas\\tests\\scalar\\timedelta\\test_formats.py -> build\\lib.win-amd64-3.9\\pandas\\tests\\scalar\\timedelta\n",
      "    copying pandas\\tests\\scalar\\timedelta\\test_timedelta.py -> build\\lib.win-amd64-3.9\\pandas\\tests\\scalar\\timedelta\n",
      "    copying pandas\\tests\\scalar\\timedelta\\__init__.py -> build\\lib.win-amd64-3.9\\pandas\\tests\\scalar\\timedelta\n",
      "    creating build\\lib.win-amd64-3.9\\pandas\\tests\\scalar\\timestamp\n",
      "    copying pandas\\tests\\scalar\\timestamp\\test_arithmetic.py -> build\\lib.win-amd64-3.9\\pandas\\tests\\scalar\\timestamp\n",
      "    copying pandas\\tests\\scalar\\timestamp\\test_comparisons.py -> build\\lib.win-amd64-3.9\\pandas\\tests\\scalar\\timestamp\n",
      "    copying pandas\\tests\\scalar\\timestamp\\test_rendering.py -> build\\lib.win-amd64-3.9\\pandas\\tests\\scalar\\timestamp\n",
      "    copying pandas\\tests\\scalar\\timestamp\\test_timestamp.py -> build\\lib.win-amd64-3.9\\pandas\\tests\\scalar\\timestamp\n",
      "    copying pandas\\tests\\scalar\\timestamp\\test_timezones.py -> build\\lib.win-amd64-3.9\\pandas\\tests\\scalar\\timestamp\n",
      "    copying pandas\\tests\\scalar\\timestamp\\test_unary_ops.py -> build\\lib.win-amd64-3.9\\pandas\\tests\\scalar\\timestamp\n",
      "    copying pandas\\tests\\scalar\\timestamp\\__init__.py -> build\\lib.win-amd64-3.9\\pandas\\tests\\scalar\\timestamp\n",
      "    creating build\\lib.win-amd64-3.9\\pandas\\tests\\series\\indexing\n",
      "    copying pandas\\tests\\series\\indexing\\conftest.py -> build\\lib.win-amd64-3.9\\pandas\\tests\\series\\indexing\n",
      "    copying pandas\\tests\\series\\indexing\\test_alter_index.py -> build\\lib.win-amd64-3.9\\pandas\\tests\\series\\indexing\n",
      "    copying pandas\\tests\\series\\indexing\\test_boolean.py -> build\\lib.win-amd64-3.9\\pandas\\tests\\series\\indexing\n",
      "    copying pandas\\tests\\series\\indexing\\test_callable.py -> build\\lib.win-amd64-3.9\\pandas\\tests\\series\\indexing\n",
      "    copying pandas\\tests\\series\\indexing\\test_datetime.py -> build\\lib.win-amd64-3.9\\pandas\\tests\\series\\indexing\n",
      "    copying pandas\\tests\\series\\indexing\\test_iloc.py -> build\\lib.win-amd64-3.9\\pandas\\tests\\series\\indexing\n",
      "    copying pandas\\tests\\series\\indexing\\test_indexing.py -> build\\lib.win-amd64-3.9\\pandas\\tests\\series\\indexing\n",
      "    copying pandas\\tests\\series\\indexing\\test_loc.py -> build\\lib.win-amd64-3.9\\pandas\\tests\\series\\indexing\n",
      "    copying pandas\\tests\\series\\indexing\\test_numeric.py -> build\\lib.win-amd64-3.9\\pandas\\tests\\series\\indexing\n",
      "    copying pandas\\tests\\series\\indexing\\__init__.py -> build\\lib.win-amd64-3.9\\pandas\\tests\\series\\indexing\n",
      "    creating build\\lib.win-amd64-3.9\\pandas\\tests\\sparse\\frame\n",
      "    copying pandas\\tests\\sparse\\frame\\conftest.py -> build\\lib.win-amd64-3.9\\pandas\\tests\\sparse\\frame\n",
      "    copying pandas\\tests\\sparse\\frame\\test_analytics.py -> build\\lib.win-amd64-3.9\\pandas\\tests\\sparse\\frame\n",
      "    copying pandas\\tests\\sparse\\frame\\test_apply.py -> build\\lib.win-amd64-3.9\\pandas\\tests\\sparse\\frame\n",
      "    copying pandas\\tests\\sparse\\frame\\test_frame.py -> build\\lib.win-amd64-3.9\\pandas\\tests\\sparse\\frame\n",
      "    copying pandas\\tests\\sparse\\frame\\test_indexing.py -> build\\lib.win-amd64-3.9\\pandas\\tests\\sparse\\frame\n",
      "    copying pandas\\tests\\sparse\\frame\\test_to_csv.py -> build\\lib.win-amd64-3.9\\pandas\\tests\\sparse\\frame\n",
      "    copying pandas\\tests\\sparse\\frame\\test_to_from_scipy.py -> build\\lib.win-amd64-3.9\\pandas\\tests\\sparse\\frame\n",
      "    copying pandas\\tests\\sparse\\frame\\__init__.py -> build\\lib.win-amd64-3.9\\pandas\\tests\\sparse\\frame\n",
      "    creating build\\lib.win-amd64-3.9\\pandas\\tests\\sparse\\series\n",
      "    copying pandas\\tests\\sparse\\series\\test_indexing.py -> build\\lib.win-amd64-3.9\\pandas\\tests\\sparse\\series\n",
      "    copying pandas\\tests\\sparse\\series\\test_series.py -> build\\lib.win-amd64-3.9\\pandas\\tests\\sparse\\series\n",
      "    copying pandas\\tests\\sparse\\series\\__init__.py -> build\\lib.win-amd64-3.9\\pandas\\tests\\sparse\\series\n",
      "    creating build\\lib.win-amd64-3.9\\pandas\\tests\\tseries\\offsets\n",
      "    copying pandas\\tests\\tseries\\offsets\\common.py -> build\\lib.win-amd64-3.9\\pandas\\tests\\tseries\\offsets\n",
      "    copying pandas\\tests\\tseries\\offsets\\conftest.py -> build\\lib.win-amd64-3.9\\pandas\\tests\\tseries\\offsets\n",
      "    copying pandas\\tests\\tseries\\offsets\\test_fiscal.py -> build\\lib.win-amd64-3.9\\pandas\\tests\\tseries\\offsets\n",
      "    copying pandas\\tests\\tseries\\offsets\\test_offsets.py -> build\\lib.win-amd64-3.9\\pandas\\tests\\tseries\\offsets\n",
      "    copying pandas\\tests\\tseries\\offsets\\test_offsets_properties.py -> build\\lib.win-amd64-3.9\\pandas\\tests\\tseries\\offsets\n",
      "    copying pandas\\tests\\tseries\\offsets\\test_ticks.py -> build\\lib.win-amd64-3.9\\pandas\\tests\\tseries\\offsets\n",
      "    copying pandas\\tests\\tseries\\offsets\\test_yqm_offsets.py -> build\\lib.win-amd64-3.9\\pandas\\tests\\tseries\\offsets\n",
      "    copying pandas\\tests\\tseries\\offsets\\__init__.py -> build\\lib.win-amd64-3.9\\pandas\\tests\\tseries\\offsets\n",
      "    creating build\\lib.win-amd64-3.9\\pandas\\_libs\\tslibs\n",
      "    copying pandas\\_libs\\tslibs\\__init__.py -> build\\lib.win-amd64-3.9\\pandas\\_libs\\tslibs\n",
      "    creating build\\lib.win-amd64-3.9\\pandas\\io\\formats\\templates\n",
      "    copying pandas\\io\\formats\\templates\\html.tpl -> build\\lib.win-amd64-3.9\\pandas\\io\\formats\\templates\n",
      "    UPDATING build\\lib.win-amd64-3.9\\pandas/_version.py\n",
      "    set build\\lib.win-amd64-3.9\\pandas/_version.py to '0.24.2'\n",
      "    running build_ext\n",
      "    building 'pandas._libs.algos' extension\n",
      "    error: Microsoft Visual C++ 14.0 or greater is required. Get it with \"Microsoft C++ Build Tools\": https://visualstudio.microsoft.com/visual-cpp-build-tools/\n",
      "    ----------------------------------------\n",
      "ERROR: Command errored out with exit status 1: 'C:\\Users\\danco\\anaconda3\\python.exe' -u -c 'import io, os, sys, setuptools, tokenize; sys.argv[0] = '\"'\"'C:\\\\Users\\\\danco\\\\AppData\\\\Local\\\\Temp\\\\pip-install-ffprc4m8\\\\pandas_0e397dacbc1148db9e2f4f30e299fab5\\\\setup.py'\"'\"'; __file__='\"'\"'C:\\\\Users\\\\danco\\\\AppData\\\\Local\\\\Temp\\\\pip-install-ffprc4m8\\\\pandas_0e397dacbc1148db9e2f4f30e299fab5\\\\setup.py'\"'\"';f = getattr(tokenize, '\"'\"'open'\"'\"', open)(__file__) if os.path.exists(__file__) else io.StringIO('\"'\"'from setuptools import setup; setup()'\"'\"');code = f.read().replace('\"'\"'\\r\\n'\"'\"', '\"'\"'\\n'\"'\"');f.close();exec(compile(code, __file__, '\"'\"'exec'\"'\"'))' install --record 'C:\\Users\\danco\\AppData\\Local\\Temp\\pip-record-jntu2emx\\install-record.txt' --single-version-externally-managed --compile --install-headers 'C:\\Users\\danco\\anaconda3\\Include\\pandas' Check the logs for full command output.\n"
     ]
    },
    {
     "name": "stdout",
     "output_type": "stream",
     "text": [
      "\n",
      "  Building wheel for google-colab (setup.py): started\n",
      "  Building wheel for google-colab (setup.py): finished with status 'done'\n",
      "  Created wheel for google-colab: filename=google_colab-1.0.0-py2.py3-none-any.whl size=102294 sha256=0f214caddb02f293fd6584c8bbe82c3c51c26365d6df4579d100c892c1a4202b\n",
      "  Stored in directory: c:\\users\\danco\\appdata\\local\\pip\\cache\\wheels\\a8\\c1\\f9\\565bc1832dda03cc21db8c8751487357f616112b6113bbf9bb\n",
      "  Building wheel for pandas (setup.py): started\n",
      "  Building wheel for pandas (setup.py): finished with status 'error'\n",
      "  Running setup.py clean for pandas\n",
      "  Building wheel for portpicker (setup.py): started\n",
      "  Building wheel for portpicker (setup.py): finished with status 'done'\n",
      "  Created wheel for portpicker: filename=portpicker-1.2.0-py3-none-any.whl size=13410 sha256=cd674631236690d61dc51b9fee8ee905bf2ef3a3e36663ef45e2191ad09702cf\n",
      "  Stored in directory: c:\\users\\danco\\appdata\\local\\pip\\cache\\wheels\\79\\f4\\2b\\306dbe0f6b429a1ccb56aef907984a2f21bd6cb7f702b65d05\n",
      "  Building wheel for simplegeneric (setup.py): started\n",
      "  Building wheel for simplegeneric (setup.py): finished with status 'done'\n",
      "  Created wheel for simplegeneric: filename=simplegeneric-0.8.1-py3-none-any.whl size=5078 sha256=bb1313917d8f1f4f62598eb838febec7f41eff273a73601bd6baf62f181db138\n",
      "  Stored in directory: c:\\users\\danco\\appdata\\local\\pip\\cache\\wheels\\a7\\bd\\0d\\d95b629ee4a7368830202858e45ac76cd837a42cafa50da81e\n",
      "  Building wheel for tornado (setup.py): started\n",
      "  Building wheel for tornado (setup.py): finished with status 'done'\n",
      "  Created wheel for tornado: filename=tornado-4.5.3-cp39-cp39-win_amd64.whl size=420783 sha256=6d8f422c1fd520cde8cae5490066776a356e5afa61e984665bc7cd0ece9f3283\n",
      "  Stored in directory: c:\\users\\danco\\appdata\\local\\pip\\cache\\wheels\\83\\38\\94\\6e1e08dd9ed83e2fc92914d24bf950c39e622dfbb12bf753d8\n",
      "Successfully built google-colab portpicker simplegeneric tornado\n",
      "Failed to build pandas\n",
      "Installing collected packages: six, tornado, simplegeneric, prompt-toolkit, ipython, urllib3, ipykernel, idna, chardet, requests, portpicker, pandas, notebook, google-auth, google-colab\n",
      "  Attempting uninstall: six\n",
      "    Found existing installation: six 1.16.0\n",
      "    Uninstalling six-1.16.0:\n",
      "      Successfully uninstalled six-1.16.0\n",
      "  Attempting uninstall: tornado\n",
      "    Found existing installation: tornado 6.1\n",
      "    Uninstalling tornado-6.1:\n",
      "      Successfully uninstalled tornado-6.1\n",
      "  Attempting uninstall: prompt-toolkit\n",
      "    Found existing installation: prompt-toolkit 3.0.20\n",
      "    Uninstalling prompt-toolkit-3.0.20:\n",
      "      Successfully uninstalled prompt-toolkit-3.0.20\n",
      "  Attempting uninstall: ipython\n",
      "    Found existing installation: ipython 8.2.0\n",
      "    Uninstalling ipython-8.2.0:\n",
      "      Successfully uninstalled ipython-8.2.0\n",
      "  Attempting uninstall: urllib3\n",
      "    Found existing installation: urllib3 1.26.9\n",
      "    Uninstalling urllib3-1.26.9:\n",
      "      Successfully uninstalled urllib3-1.26.9\n",
      "  Attempting uninstall: ipykernel\n",
      "    Found existing installation: ipykernel 6.9.1\n",
      "    Uninstalling ipykernel-6.9.1:\n",
      "      Successfully uninstalled ipykernel-6.9.1\n",
      "  Attempting uninstall: idna\n",
      "    Found existing installation: idna 3.3\n",
      "    Uninstalling idna-3.3:\n",
      "      Successfully uninstalled idna-3.3\n",
      "  Attempting uninstall: chardet\n",
      "    Found existing installation: chardet 4.0.0\n",
      "    Uninstalling chardet-4.0.0:\n",
      "      Successfully uninstalled chardet-4.0.0\n",
      "  Attempting uninstall: requests\n",
      "    Found existing installation: requests 2.27.1\n",
      "    Uninstalling requests-2.27.1:\n",
      "      Successfully uninstalled requests-2.27.1\n",
      "  Attempting uninstall: pandas\n",
      "    Found existing installation: pandas 1.4.2\n",
      "    Uninstalling pandas-1.4.2:\n",
      "      Successfully uninstalled pandas-1.4.2\n",
      "    Running setup.py install for pandas: started\n",
      "    Running setup.py install for pandas: finished with status 'error'\n",
      "  Rolling back uninstall of pandas\n",
      "  Moving to c:\\users\\danco\\anaconda3\\lib\\site-packages\\pandas-1.4.2.dist-info\\\n",
      "   from C:\\Users\\danco\\anaconda3\\Lib\\site-packages\\~andas-1.4.2.dist-info\n",
      "  Moving to c:\\users\\danco\\anaconda3\\lib\\site-packages\\pandas\\\n",
      "   from C:\\Users\\danco\\anaconda3\\Lib\\site-packages\\~andas\n"
     ]
    }
   ],
   "source": [
    "%conda install google-colab"
   ]
  },
  {
   "cell_type": "markdown",
   "metadata": {
    "id": "3IefbzZ5Ed-7"
   },
   "source": [
    "## Load Drive"
   ]
  },
  {
   "cell_type": "code",
   "execution_count": 8,
   "metadata": {
    "colab": {
     "base_uri": "https://localhost:8080/"
    },
    "executionInfo": {
     "elapsed": 46989,
     "status": "ok",
     "timestamp": 1655449277791,
     "user": {
      "displayName": "PAVAN KUMAR REDDY YANNAM",
      "userId": "18283848664285680593"
     },
     "user_tz": -330
    },
    "id": "4sFpbpCzsnqY",
    "outputId": "13da2f9a-1eb4-491c-f26c-b36ee8cb4dde"
   },
   "outputs": [
    {
     "ename": "ModuleNotFoundError",
     "evalue": "No module named 'google.colab'",
     "output_type": "error",
     "traceback": [
      "\u001b[1;31m---------------------------------------------------------------------------\u001b[0m",
      "\u001b[1;31mModuleNotFoundError\u001b[0m                       Traceback (most recent call last)",
      "Cell \u001b[1;32mIn[8], line 1\u001b[0m\n\u001b[1;32m----> 1\u001b[0m \u001b[38;5;28;01mfrom\u001b[39;00m \u001b[38;5;21;01mgoogle\u001b[39;00m\u001b[38;5;21;01m.\u001b[39;00m\u001b[38;5;21;01mcolab\u001b[39;00m \u001b[38;5;28;01mimport\u001b[39;00m drive\n\u001b[0;32m      2\u001b[0m drive\u001b[38;5;241m.\u001b[39mmount(\u001b[38;5;124m'\u001b[39m\u001b[38;5;124m/content/drive\u001b[39m\u001b[38;5;124m'\u001b[39m)\n",
      "\u001b[1;31mModuleNotFoundError\u001b[0m: No module named 'google.colab'"
     ]
    }
   ],
   "source": [
    "from google.colab import drive\n",
    "drive.mount('/content/drive')"
   ]
  },
  {
   "cell_type": "code",
   "execution_count": 3,
   "metadata": {
    "executionInfo": {
     "elapsed": 37,
     "status": "ok",
     "timestamp": 1655449277794,
     "user": {
      "displayName": "PAVAN KUMAR REDDY YANNAM",
      "userId": "18283848664285680593"
     },
     "user_tz": -330
    },
    "id": "LvaxQv8FtOoA"
   },
   "outputs": [],
   "source": [
    "PARENT='/content/drive/MyDrive/TAU'\n",
    "DATA = PARENT+'/Datasets/mimiciii/1.4'"
   ]
  },
  {
   "cell_type": "code",
   "execution_count": 4,
   "metadata": {
    "executionInfo": {
     "elapsed": 25,
     "status": "ok",
     "timestamp": 1655449277798,
     "user": {
      "displayName": "PAVAN KUMAR REDDY YANNAM",
      "userId": "18283848664285680593"
     },
     "user_tz": -330
    },
    "id": "sbFmIi00e0Ot"
   },
   "outputs": [],
   "source": [
    "RESULT = PARENT+'/Results'"
   ]
  },
  {
   "cell_type": "code",
   "execution_count": 5,
   "metadata": {
    "colab": {
     "base_uri": "https://localhost:8080/"
    },
    "executionInfo": {
     "elapsed": 735,
     "status": "ok",
     "timestamp": 1655449278511,
     "user": {
      "displayName": "PAVAN KUMAR REDDY YANNAM",
      "userId": "18283848664285680593"
     },
     "user_tz": -330
    },
    "id": "SSl5xgWjtcye",
    "outputId": "f1de4905-800f-4bce-81b7-621ec68b3dfc"
   },
   "outputs": [
    {
     "name": "stdout",
     "output_type": "stream",
     "text": [
      "('/content/drive/MyDrive/TAU/Datasets/mimiciii/1.4', [], ['CALLOUT.csv.gz', 'ADMISSIONS.csv.gz', 'CAREGIVERS.csv.gz', 'D_ITEMS.csv.gz', 'D_ICD_PROCEDURES.csv.gz', 'D_ICD_DIAGNOSES.csv.gz', 'ICUSTAYS.csv.gz', 'CHARTEVENTS.csv.gz', 'DRGCODES.csv.gz', 'CPTEVENTS.csv.gz', 'DIAGNOSES_ICD.csv.gz', 'D_CPT.csv.gz', 'D_LABITEMS.csv.gz', 'DATETIMEEVENTS.csv.gz', 'INPUTEVENTS_CV.csv.gz', 'INPUTEVENTS_MV.csv.gz', 'LABEVENTS.csv.gz', 'MICROBIOLOGYEVENTS.csv.gz', 'OUTPUTEVENTS.csv.gz', 'PATIENTS.csv.gz', 'README.md', 'PROCEDURES_ICD.csv.gz', 'PRESCRIPTIONS.csv.gz', 'TRANSFERS.csv.gz', 'PROCEDUREEVENTS_MV.csv.gz', 'SERVICES.csv.gz', 'LICENSE.txt', 'NOTEEVENTS.csv.gz', 'SHA256SUMS.txt', 'index.html'])\n"
     ]
    }
   ],
   "source": [
    "for i in os.walk(os.path.join(DATA)):\n",
    "    print(i)"
   ]
  },
  {
   "cell_type": "markdown",
   "metadata": {
    "id": "QHgSEoKymL4W"
   },
   "source": [
    "## Load Data"
   ]
  },
  {
   "cell_type": "markdown",
   "metadata": {
    "id": "qoWXjsMMEg2t"
   },
   "source": [
    "### Labevents"
   ]
  },
  {
   "cell_type": "code",
   "execution_count": 6,
   "metadata": {
    "executionInfo": {
     "elapsed": 47000,
     "status": "ok",
     "timestamp": 1655449325503,
     "user": {
      "displayName": "PAVAN KUMAR REDDY YANNAM",
      "userId": "18283848664285680593"
     },
     "user_tz": -330
    },
    "id": "Cn5by4OmSC9-"
   },
   "outputs": [],
   "source": [
    "labevents = pd.read_csv(os.path.join(DATA, 'LABEVENTS.csv.gz')).dropna()\n",
    "d_labitems = pd.read_csv(os.path.join(DATA, 'D_LABITEMS.csv.gz')).dropna()"
   ]
  },
  {
   "cell_type": "code",
   "execution_count": 7,
   "metadata": {
    "colab": {
     "base_uri": "https://localhost:8080/"
    },
    "executionInfo": {
     "elapsed": 57,
     "status": "ok",
     "timestamp": 1655449325505,
     "user": {
      "displayName": "PAVAN KUMAR REDDY YANNAM",
      "userId": "18283848664285680593"
     },
     "user_tz": -330
    },
    "id": "HvRjRpnFSiDv",
    "outputId": "fdcd001f-7aa4-4ba7-8775-98cf01d8085c"
   },
   "outputs": [
    {
     "data": {
      "text/plain": [
       "((7881769, 9), (585, 6))"
      ]
     },
     "execution_count": 7,
     "metadata": {},
     "output_type": "execute_result"
    }
   ],
   "source": [
    "labevents.shape, d_labitems.shape"
   ]
  },
  {
   "cell_type": "code",
   "execution_count": 8,
   "metadata": {
    "colab": {
     "base_uri": "https://localhost:8080/",
     "height": 0
    },
    "executionInfo": {
     "elapsed": 50,
     "status": "ok",
     "timestamp": 1655449325507,
     "user": {
      "displayName": "PAVAN KUMAR REDDY YANNAM",
      "userId": "18283848664285680593"
     },
     "user_tz": -330
    },
    "id": "u95zekD4XKW7",
    "outputId": "a1fc7642-d7a1-440b-a3b4-63b744801b64"
   },
   "outputs": [
    {
     "data": {
      "text/html": [
       "\n",
       "  <div id=\"df-90134c9a-0cc0-4b1d-9d25-91637936766f\">\n",
       "    <div class=\"colab-df-container\">\n",
       "      <div>\n",
       "<style scoped>\n",
       "    .dataframe tbody tr th:only-of-type {\n",
       "        vertical-align: middle;\n",
       "    }\n",
       "\n",
       "    .dataframe tbody tr th {\n",
       "        vertical-align: top;\n",
       "    }\n",
       "\n",
       "    .dataframe thead th {\n",
       "        text-align: right;\n",
       "    }\n",
       "</style>\n",
       "<table border=\"1\" class=\"dataframe\">\n",
       "  <thead>\n",
       "    <tr style=\"text-align: right;\">\n",
       "      <th></th>\n",
       "      <th>ROW_ID</th>\n",
       "      <th>SUBJECT_ID</th>\n",
       "      <th>HADM_ID</th>\n",
       "      <th>ITEMID</th>\n",
       "      <th>CHARTTIME</th>\n",
       "      <th>VALUE</th>\n",
       "      <th>VALUENUM</th>\n",
       "      <th>VALUEUOM</th>\n",
       "      <th>FLAG</th>\n",
       "    </tr>\n",
       "  </thead>\n",
       "  <tbody>\n",
       "    <tr>\n",
       "      <th>162</th>\n",
       "      <td>443</td>\n",
       "      <td>3</td>\n",
       "      <td>145834.0</td>\n",
       "      <td>50893</td>\n",
       "      <td>2101-10-20 16:40:00</td>\n",
       "      <td>8.2</td>\n",
       "      <td>8.2</td>\n",
       "      <td>mg/dL</td>\n",
       "      <td>abnormal</td>\n",
       "    </tr>\n",
       "    <tr>\n",
       "      <th>163</th>\n",
       "      <td>444</td>\n",
       "      <td>3</td>\n",
       "      <td>145834.0</td>\n",
       "      <td>50902</td>\n",
       "      <td>2101-10-20 16:40:00</td>\n",
       "      <td>99</td>\n",
       "      <td>99.0</td>\n",
       "      <td>mEq/L</td>\n",
       "      <td>abnormal</td>\n",
       "    </tr>\n",
       "    <tr>\n",
       "      <th>166</th>\n",
       "      <td>447</td>\n",
       "      <td>3</td>\n",
       "      <td>145834.0</td>\n",
       "      <td>50912</td>\n",
       "      <td>2101-10-20 16:40:00</td>\n",
       "      <td>3.2</td>\n",
       "      <td>3.2</td>\n",
       "      <td>mg/dL</td>\n",
       "      <td>abnormal</td>\n",
       "    </tr>\n",
       "    <tr>\n",
       "      <th>169</th>\n",
       "      <td>450</td>\n",
       "      <td>3</td>\n",
       "      <td>145834.0</td>\n",
       "      <td>50970</td>\n",
       "      <td>2101-10-20 16:40:00</td>\n",
       "      <td>4.8</td>\n",
       "      <td>4.8</td>\n",
       "      <td>mg/dL</td>\n",
       "      <td>abnormal</td>\n",
       "    </tr>\n",
       "    <tr>\n",
       "      <th>170</th>\n",
       "      <td>451</td>\n",
       "      <td>3</td>\n",
       "      <td>145834.0</td>\n",
       "      <td>50971</td>\n",
       "      <td>2101-10-20 16:40:00</td>\n",
       "      <td>5.4</td>\n",
       "      <td>5.4</td>\n",
       "      <td>mEq/L</td>\n",
       "      <td>abnormal</td>\n",
       "    </tr>\n",
       "    <tr>\n",
       "      <th>...</th>\n",
       "      <td>...</td>\n",
       "      <td>...</td>\n",
       "      <td>...</td>\n",
       "      <td>...</td>\n",
       "      <td>...</td>\n",
       "      <td>...</td>\n",
       "      <td>...</td>\n",
       "      <td>...</td>\n",
       "      <td>...</td>\n",
       "    </tr>\n",
       "    <tr>\n",
       "      <th>27854045</th>\n",
       "      <td>27428430</td>\n",
       "      <td>96443</td>\n",
       "      <td>103219.0</td>\n",
       "      <td>50862</td>\n",
       "      <td>2109-12-30 01:40:00</td>\n",
       "      <td>2.2</td>\n",
       "      <td>2.2</td>\n",
       "      <td>g/dL</td>\n",
       "      <td>abnormal</td>\n",
       "    </tr>\n",
       "    <tr>\n",
       "      <th>27854046</th>\n",
       "      <td>27428431</td>\n",
       "      <td>96443</td>\n",
       "      <td>103219.0</td>\n",
       "      <td>50863</td>\n",
       "      <td>2109-12-30 01:40:00</td>\n",
       "      <td>172</td>\n",
       "      <td>172.0</td>\n",
       "      <td>IU/L</td>\n",
       "      <td>abnormal</td>\n",
       "    </tr>\n",
       "    <tr>\n",
       "      <th>27854049</th>\n",
       "      <td>27428434</td>\n",
       "      <td>96443</td>\n",
       "      <td>103219.0</td>\n",
       "      <td>50878</td>\n",
       "      <td>2109-12-30 01:40:00</td>\n",
       "      <td>467</td>\n",
       "      <td>467.0</td>\n",
       "      <td>IU/L</td>\n",
       "      <td>abnormal</td>\n",
       "    </tr>\n",
       "    <tr>\n",
       "      <th>27854051</th>\n",
       "      <td>27428436</td>\n",
       "      <td>96443</td>\n",
       "      <td>103219.0</td>\n",
       "      <td>50885</td>\n",
       "      <td>2109-12-30 01:40:00</td>\n",
       "      <td>2.1</td>\n",
       "      <td>2.1</td>\n",
       "      <td>mg/dL</td>\n",
       "      <td>abnormal</td>\n",
       "    </tr>\n",
       "    <tr>\n",
       "      <th>27854054</th>\n",
       "      <td>27428439</td>\n",
       "      <td>96443</td>\n",
       "      <td>103219.0</td>\n",
       "      <td>50912</td>\n",
       "      <td>2109-12-30 01:40:00</td>\n",
       "      <td>1.6</td>\n",
       "      <td>1.6</td>\n",
       "      <td>mg/dL</td>\n",
       "      <td>abnormal</td>\n",
       "    </tr>\n",
       "  </tbody>\n",
       "</table>\n",
       "<p>7881769 rows × 9 columns</p>\n",
       "</div>\n",
       "      <button class=\"colab-df-convert\" onclick=\"convertToInteractive('df-90134c9a-0cc0-4b1d-9d25-91637936766f')\"\n",
       "              title=\"Convert this dataframe to an interactive table.\"\n",
       "              style=\"display:none;\">\n",
       "        \n",
       "  <svg xmlns=\"http://www.w3.org/2000/svg\" height=\"24px\"viewBox=\"0 0 24 24\"\n",
       "       width=\"24px\">\n",
       "    <path d=\"M0 0h24v24H0V0z\" fill=\"none\"/>\n",
       "    <path d=\"M18.56 5.44l.94 2.06.94-2.06 2.06-.94-2.06-.94-.94-2.06-.94 2.06-2.06.94zm-11 1L8.5 8.5l.94-2.06 2.06-.94-2.06-.94L8.5 2.5l-.94 2.06-2.06.94zm10 10l.94 2.06.94-2.06 2.06-.94-2.06-.94-.94-2.06-.94 2.06-2.06.94z\"/><path d=\"M17.41 7.96l-1.37-1.37c-.4-.4-.92-.59-1.43-.59-.52 0-1.04.2-1.43.59L10.3 9.45l-7.72 7.72c-.78.78-.78 2.05 0 2.83L4 21.41c.39.39.9.59 1.41.59.51 0 1.02-.2 1.41-.59l7.78-7.78 2.81-2.81c.8-.78.8-2.07 0-2.86zM5.41 20L4 18.59l7.72-7.72 1.47 1.35L5.41 20z\"/>\n",
       "  </svg>\n",
       "      </button>\n",
       "      \n",
       "  <style>\n",
       "    .colab-df-container {\n",
       "      display:flex;\n",
       "      flex-wrap:wrap;\n",
       "      gap: 12px;\n",
       "    }\n",
       "\n",
       "    .colab-df-convert {\n",
       "      background-color: #E8F0FE;\n",
       "      border: none;\n",
       "      border-radius: 50%;\n",
       "      cursor: pointer;\n",
       "      display: none;\n",
       "      fill: #1967D2;\n",
       "      height: 32px;\n",
       "      padding: 0 0 0 0;\n",
       "      width: 32px;\n",
       "    }\n",
       "\n",
       "    .colab-df-convert:hover {\n",
       "      background-color: #E2EBFA;\n",
       "      box-shadow: 0px 1px 2px rgba(60, 64, 67, 0.3), 0px 1px 3px 1px rgba(60, 64, 67, 0.15);\n",
       "      fill: #174EA6;\n",
       "    }\n",
       "\n",
       "    [theme=dark] .colab-df-convert {\n",
       "      background-color: #3B4455;\n",
       "      fill: #D2E3FC;\n",
       "    }\n",
       "\n",
       "    [theme=dark] .colab-df-convert:hover {\n",
       "      background-color: #434B5C;\n",
       "      box-shadow: 0px 1px 3px 1px rgba(0, 0, 0, 0.15);\n",
       "      filter: drop-shadow(0px 1px 2px rgba(0, 0, 0, 0.3));\n",
       "      fill: #FFFFFF;\n",
       "    }\n",
       "  </style>\n",
       "\n",
       "      <script>\n",
       "        const buttonEl =\n",
       "          document.querySelector('#df-90134c9a-0cc0-4b1d-9d25-91637936766f button.colab-df-convert');\n",
       "        buttonEl.style.display =\n",
       "          google.colab.kernel.accessAllowed ? 'block' : 'none';\n",
       "\n",
       "        async function convertToInteractive(key) {\n",
       "          const element = document.querySelector('#df-90134c9a-0cc0-4b1d-9d25-91637936766f');\n",
       "          const dataTable =\n",
       "            await google.colab.kernel.invokeFunction('convertToInteractive',\n",
       "                                                     [key], {});\n",
       "          if (!dataTable) return;\n",
       "\n",
       "          const docLinkHtml = 'Like what you see? Visit the ' +\n",
       "            '<a target=\"_blank\" href=https://colab.research.google.com/notebooks/data_table.ipynb>data table notebook</a>'\n",
       "            + ' to learn more about interactive tables.';\n",
       "          element.innerHTML = '';\n",
       "          dataTable['output_type'] = 'display_data';\n",
       "          await google.colab.output.renderOutput(dataTable, element);\n",
       "          const docLink = document.createElement('div');\n",
       "          docLink.innerHTML = docLinkHtml;\n",
       "          element.appendChild(docLink);\n",
       "        }\n",
       "      </script>\n",
       "    </div>\n",
       "  </div>\n",
       "  "
      ],
      "text/plain": [
       "            ROW_ID  SUBJECT_ID   HADM_ID  ITEMID            CHARTTIME VALUE  \\\n",
       "162            443           3  145834.0   50893  2101-10-20 16:40:00   8.2   \n",
       "163            444           3  145834.0   50902  2101-10-20 16:40:00    99   \n",
       "166            447           3  145834.0   50912  2101-10-20 16:40:00   3.2   \n",
       "169            450           3  145834.0   50970  2101-10-20 16:40:00   4.8   \n",
       "170            451           3  145834.0   50971  2101-10-20 16:40:00   5.4   \n",
       "...            ...         ...       ...     ...                  ...   ...   \n",
       "27854045  27428430       96443  103219.0   50862  2109-12-30 01:40:00   2.2   \n",
       "27854046  27428431       96443  103219.0   50863  2109-12-30 01:40:00   172   \n",
       "27854049  27428434       96443  103219.0   50878  2109-12-30 01:40:00   467   \n",
       "27854051  27428436       96443  103219.0   50885  2109-12-30 01:40:00   2.1   \n",
       "27854054  27428439       96443  103219.0   50912  2109-12-30 01:40:00   1.6   \n",
       "\n",
       "          VALUENUM VALUEUOM      FLAG  \n",
       "162            8.2    mg/dL  abnormal  \n",
       "163           99.0    mEq/L  abnormal  \n",
       "166            3.2    mg/dL  abnormal  \n",
       "169            4.8    mg/dL  abnormal  \n",
       "170            5.4    mEq/L  abnormal  \n",
       "...            ...      ...       ...  \n",
       "27854045       2.2     g/dL  abnormal  \n",
       "27854046     172.0     IU/L  abnormal  \n",
       "27854049     467.0     IU/L  abnormal  \n",
       "27854051       2.1    mg/dL  abnormal  \n",
       "27854054       1.6    mg/dL  abnormal  \n",
       "\n",
       "[7881769 rows x 9 columns]"
      ]
     },
     "execution_count": 8,
     "metadata": {},
     "output_type": "execute_result"
    }
   ],
   "source": [
    "labevents"
   ]
  },
  {
   "cell_type": "code",
   "execution_count": 9,
   "metadata": {
    "executionInfo": {
     "elapsed": 6723,
     "status": "ok",
     "timestamp": 1655449332204,
     "user": {
      "displayName": "PAVAN KUMAR REDDY YANNAM",
      "userId": "18283848664285680593"
     },
     "user_tz": -330
    },
    "id": "BvCTWhEWWxqe"
   },
   "outputs": [],
   "source": [
    "labValues = pd.merge(labevents, d_labitems, on='ITEMID', how='inner')"
   ]
  },
  {
   "cell_type": "code",
   "execution_count": 10,
   "metadata": {
    "colab": {
     "base_uri": "https://localhost:8080/"
    },
    "executionInfo": {
     "elapsed": 33,
     "status": "ok",
     "timestamp": 1655449332206,
     "user": {
      "displayName": "PAVAN KUMAR REDDY YANNAM",
      "userId": "18283848664285680593"
     },
     "user_tz": -330
    },
    "id": "SgvD8QwhXPk-",
    "outputId": "b8983a5c-1b50-4eea-bfce-db0022f44e2f"
   },
   "outputs": [
    {
     "data": {
      "text/plain": [
       "(7876570, 14)"
      ]
     },
     "execution_count": 10,
     "metadata": {},
     "output_type": "execute_result"
    }
   ],
   "source": [
    "labValues.shape"
   ]
  },
  {
   "cell_type": "code",
   "execution_count": 11,
   "metadata": {
    "executionInfo": {
     "elapsed": 1057,
     "status": "ok",
     "timestamp": 1655449333237,
     "user": {
      "displayName": "PAVAN KUMAR REDDY YANNAM",
      "userId": "18283848664285680593"
     },
     "user_tz": -330
    },
    "id": "AJcgC5ZpXTxd"
   },
   "outputs": [],
   "source": [
    "# subject_id,l.hadm_id, d.label, l.valuenum, l.valueuom, l.charttime\n",
    "labValues = labValues[['SUBJECT_ID', 'HADM_ID', 'LABEL', 'VALUENUM', 'VALUEUOM', 'CHARTTIME']]"
   ]
  },
  {
   "cell_type": "code",
   "execution_count": 12,
   "metadata": {
    "executionInfo": {
     "elapsed": 727,
     "status": "ok",
     "timestamp": 1655449336099,
     "user": {
      "displayName": "PAVAN KUMAR REDDY YANNAM",
      "userId": "18283848664285680593"
     },
     "user_tz": -330
    },
    "id": "OzHbtz6PUXc7"
   },
   "outputs": [],
   "source": [
    "labValues['CHARTTIME'] = pd.to_datetime(labValues['CHARTTIME'],  format='%Y/%m/%d %H:%M:%S')"
   ]
  },
  {
   "cell_type": "code",
   "execution_count": 13,
   "metadata": {
    "colab": {
     "base_uri": "https://localhost:8080/",
     "height": 0
    },
    "executionInfo": {
     "elapsed": 51,
     "status": "ok",
     "timestamp": 1655449336101,
     "user": {
      "displayName": "PAVAN KUMAR REDDY YANNAM",
      "userId": "18283848664285680593"
     },
     "user_tz": -330
    },
    "id": "q8Gm0YABUjrG",
    "outputId": "f12c5336-32aa-466b-e277-829f10e01b5e"
   },
   "outputs": [
    {
     "data": {
      "text/html": [
       "\n",
       "  <div id=\"df-0e2a76cb-b242-47cb-8944-7f97f91f7e37\">\n",
       "    <div class=\"colab-df-container\">\n",
       "      <div>\n",
       "<style scoped>\n",
       "    .dataframe tbody tr th:only-of-type {\n",
       "        vertical-align: middle;\n",
       "    }\n",
       "\n",
       "    .dataframe tbody tr th {\n",
       "        vertical-align: top;\n",
       "    }\n",
       "\n",
       "    .dataframe thead th {\n",
       "        text-align: right;\n",
       "    }\n",
       "</style>\n",
       "<table border=\"1\" class=\"dataframe\">\n",
       "  <thead>\n",
       "    <tr style=\"text-align: right;\">\n",
       "      <th></th>\n",
       "      <th>SUBJECT_ID</th>\n",
       "      <th>HADM_ID</th>\n",
       "      <th>LABEL</th>\n",
       "      <th>VALUENUM</th>\n",
       "      <th>VALUEUOM</th>\n",
       "      <th>CHARTTIME</th>\n",
       "    </tr>\n",
       "  </thead>\n",
       "  <tbody>\n",
       "    <tr>\n",
       "      <th>0</th>\n",
       "      <td>3</td>\n",
       "      <td>145834.0</td>\n",
       "      <td>Calcium, Total</td>\n",
       "      <td>8.2</td>\n",
       "      <td>mg/dL</td>\n",
       "      <td>2101-10-20 16:40:00</td>\n",
       "    </tr>\n",
       "    <tr>\n",
       "      <th>1</th>\n",
       "      <td>3</td>\n",
       "      <td>145834.0</td>\n",
       "      <td>Calcium, Total</td>\n",
       "      <td>7.6</td>\n",
       "      <td>mg/dL</td>\n",
       "      <td>2101-10-22 04:00:00</td>\n",
       "    </tr>\n",
       "    <tr>\n",
       "      <th>2</th>\n",
       "      <td>3</td>\n",
       "      <td>145834.0</td>\n",
       "      <td>Calcium, Total</td>\n",
       "      <td>7.1</td>\n",
       "      <td>mg/dL</td>\n",
       "      <td>2101-10-22 21:15:00</td>\n",
       "    </tr>\n",
       "    <tr>\n",
       "      <th>3</th>\n",
       "      <td>3</td>\n",
       "      <td>145834.0</td>\n",
       "      <td>Calcium, Total</td>\n",
       "      <td>7.5</td>\n",
       "      <td>mg/dL</td>\n",
       "      <td>2101-10-23 03:45:00</td>\n",
       "    </tr>\n",
       "    <tr>\n",
       "      <th>4</th>\n",
       "      <td>3</td>\n",
       "      <td>145834.0</td>\n",
       "      <td>Calcium, Total</td>\n",
       "      <td>7.4</td>\n",
       "      <td>mg/dL</td>\n",
       "      <td>2101-10-20 19:59:00</td>\n",
       "    </tr>\n",
       "    <tr>\n",
       "      <th>...</th>\n",
       "      <td>...</td>\n",
       "      <td>...</td>\n",
       "      <td>...</td>\n",
       "      <td>...</td>\n",
       "      <td>...</td>\n",
       "      <td>...</td>\n",
       "    </tr>\n",
       "    <tr>\n",
       "      <th>7876565</th>\n",
       "      <td>53160</td>\n",
       "      <td>138843.0</td>\n",
       "      <td>Plasma</td>\n",
       "      <td>1.0</td>\n",
       "      <td>%</td>\n",
       "      <td>2194-06-27 13:52:00</td>\n",
       "    </tr>\n",
       "    <tr>\n",
       "      <th>7876566</th>\n",
       "      <td>96240</td>\n",
       "      <td>168044.0</td>\n",
       "      <td>Plasma</td>\n",
       "      <td>7.0</td>\n",
       "      <td>%</td>\n",
       "      <td>2105-05-16 16:45:00</td>\n",
       "    </tr>\n",
       "    <tr>\n",
       "      <th>7876567</th>\n",
       "      <td>40200</td>\n",
       "      <td>108146.0</td>\n",
       "      <td>Sex Hormone Binding Globulin</td>\n",
       "      <td>12.0</td>\n",
       "      <td>nmol/L</td>\n",
       "      <td>2165-01-10 16:00:00</td>\n",
       "    </tr>\n",
       "    <tr>\n",
       "      <th>7876568</th>\n",
       "      <td>58010</td>\n",
       "      <td>185994.0</td>\n",
       "      <td>Sex Hormone Binding Globulin</td>\n",
       "      <td>11.0</td>\n",
       "      <td>nmol/L</td>\n",
       "      <td>2109-02-19 00:16:00</td>\n",
       "    </tr>\n",
       "    <tr>\n",
       "      <th>7876569</th>\n",
       "      <td>72390</td>\n",
       "      <td>159469.0</td>\n",
       "      <td>Promyelocytes</td>\n",
       "      <td>82.0</td>\n",
       "      <td>%</td>\n",
       "      <td>2146-11-28 12:41:00</td>\n",
       "    </tr>\n",
       "  </tbody>\n",
       "</table>\n",
       "<p>7876570 rows × 6 columns</p>\n",
       "</div>\n",
       "      <button class=\"colab-df-convert\" onclick=\"convertToInteractive('df-0e2a76cb-b242-47cb-8944-7f97f91f7e37')\"\n",
       "              title=\"Convert this dataframe to an interactive table.\"\n",
       "              style=\"display:none;\">\n",
       "        \n",
       "  <svg xmlns=\"http://www.w3.org/2000/svg\" height=\"24px\"viewBox=\"0 0 24 24\"\n",
       "       width=\"24px\">\n",
       "    <path d=\"M0 0h24v24H0V0z\" fill=\"none\"/>\n",
       "    <path d=\"M18.56 5.44l.94 2.06.94-2.06 2.06-.94-2.06-.94-.94-2.06-.94 2.06-2.06.94zm-11 1L8.5 8.5l.94-2.06 2.06-.94-2.06-.94L8.5 2.5l-.94 2.06-2.06.94zm10 10l.94 2.06.94-2.06 2.06-.94-2.06-.94-.94-2.06-.94 2.06-2.06.94z\"/><path d=\"M17.41 7.96l-1.37-1.37c-.4-.4-.92-.59-1.43-.59-.52 0-1.04.2-1.43.59L10.3 9.45l-7.72 7.72c-.78.78-.78 2.05 0 2.83L4 21.41c.39.39.9.59 1.41.59.51 0 1.02-.2 1.41-.59l7.78-7.78 2.81-2.81c.8-.78.8-2.07 0-2.86zM5.41 20L4 18.59l7.72-7.72 1.47 1.35L5.41 20z\"/>\n",
       "  </svg>\n",
       "      </button>\n",
       "      \n",
       "  <style>\n",
       "    .colab-df-container {\n",
       "      display:flex;\n",
       "      flex-wrap:wrap;\n",
       "      gap: 12px;\n",
       "    }\n",
       "\n",
       "    .colab-df-convert {\n",
       "      background-color: #E8F0FE;\n",
       "      border: none;\n",
       "      border-radius: 50%;\n",
       "      cursor: pointer;\n",
       "      display: none;\n",
       "      fill: #1967D2;\n",
       "      height: 32px;\n",
       "      padding: 0 0 0 0;\n",
       "      width: 32px;\n",
       "    }\n",
       "\n",
       "    .colab-df-convert:hover {\n",
       "      background-color: #E2EBFA;\n",
       "      box-shadow: 0px 1px 2px rgba(60, 64, 67, 0.3), 0px 1px 3px 1px rgba(60, 64, 67, 0.15);\n",
       "      fill: #174EA6;\n",
       "    }\n",
       "\n",
       "    [theme=dark] .colab-df-convert {\n",
       "      background-color: #3B4455;\n",
       "      fill: #D2E3FC;\n",
       "    }\n",
       "\n",
       "    [theme=dark] .colab-df-convert:hover {\n",
       "      background-color: #434B5C;\n",
       "      box-shadow: 0px 1px 3px 1px rgba(0, 0, 0, 0.15);\n",
       "      filter: drop-shadow(0px 1px 2px rgba(0, 0, 0, 0.3));\n",
       "      fill: #FFFFFF;\n",
       "    }\n",
       "  </style>\n",
       "\n",
       "      <script>\n",
       "        const buttonEl =\n",
       "          document.querySelector('#df-0e2a76cb-b242-47cb-8944-7f97f91f7e37 button.colab-df-convert');\n",
       "        buttonEl.style.display =\n",
       "          google.colab.kernel.accessAllowed ? 'block' : 'none';\n",
       "\n",
       "        async function convertToInteractive(key) {\n",
       "          const element = document.querySelector('#df-0e2a76cb-b242-47cb-8944-7f97f91f7e37');\n",
       "          const dataTable =\n",
       "            await google.colab.kernel.invokeFunction('convertToInteractive',\n",
       "                                                     [key], {});\n",
       "          if (!dataTable) return;\n",
       "\n",
       "          const docLinkHtml = 'Like what you see? Visit the ' +\n",
       "            '<a target=\"_blank\" href=https://colab.research.google.com/notebooks/data_table.ipynb>data table notebook</a>'\n",
       "            + ' to learn more about interactive tables.';\n",
       "          element.innerHTML = '';\n",
       "          dataTable['output_type'] = 'display_data';\n",
       "          await google.colab.output.renderOutput(dataTable, element);\n",
       "          const docLink = document.createElement('div');\n",
       "          docLink.innerHTML = docLinkHtml;\n",
       "          element.appendChild(docLink);\n",
       "        }\n",
       "      </script>\n",
       "    </div>\n",
       "  </div>\n",
       "  "
      ],
      "text/plain": [
       "         SUBJECT_ID   HADM_ID                         LABEL  VALUENUM  \\\n",
       "0                 3  145834.0                Calcium, Total       8.2   \n",
       "1                 3  145834.0                Calcium, Total       7.6   \n",
       "2                 3  145834.0                Calcium, Total       7.1   \n",
       "3                 3  145834.0                Calcium, Total       7.5   \n",
       "4                 3  145834.0                Calcium, Total       7.4   \n",
       "...             ...       ...                           ...       ...   \n",
       "7876565       53160  138843.0                        Plasma       1.0   \n",
       "7876566       96240  168044.0                        Plasma       7.0   \n",
       "7876567       40200  108146.0  Sex Hormone Binding Globulin      12.0   \n",
       "7876568       58010  185994.0  Sex Hormone Binding Globulin      11.0   \n",
       "7876569       72390  159469.0                 Promyelocytes      82.0   \n",
       "\n",
       "        VALUEUOM           CHARTTIME  \n",
       "0          mg/dL 2101-10-20 16:40:00  \n",
       "1          mg/dL 2101-10-22 04:00:00  \n",
       "2          mg/dL 2101-10-22 21:15:00  \n",
       "3          mg/dL 2101-10-23 03:45:00  \n",
       "4          mg/dL 2101-10-20 19:59:00  \n",
       "...          ...                 ...  \n",
       "7876565        % 2194-06-27 13:52:00  \n",
       "7876566        % 2105-05-16 16:45:00  \n",
       "7876567   nmol/L 2165-01-10 16:00:00  \n",
       "7876568   nmol/L 2109-02-19 00:16:00  \n",
       "7876569        % 2146-11-28 12:41:00  \n",
       "\n",
       "[7876570 rows x 6 columns]"
      ]
     },
     "execution_count": 13,
     "metadata": {},
     "output_type": "execute_result"
    }
   ],
   "source": [
    "labValues"
   ]
  },
  {
   "cell_type": "code",
   "execution_count": 14,
   "metadata": {
    "executionInfo": {
     "elapsed": 29,
     "status": "ok",
     "timestamp": 1655449336104,
     "user": {
      "displayName": "PAVAN KUMAR REDDY YANNAM",
      "userId": "18283848664285680593"
     },
     "user_tz": -330
    },
    "id": "6zRYGQFTB9iV"
   },
   "outputs": [],
   "source": [
    "del labevents, d_labitems"
   ]
  },
  {
   "cell_type": "markdown",
   "metadata": {
    "id": "qeXzdxKeEzHF"
   },
   "source": [
    "### Admissions"
   ]
  },
  {
   "cell_type": "code",
   "execution_count": 15,
   "metadata": {
    "executionInfo": {
     "elapsed": 1384,
     "status": "ok",
     "timestamp": 1655449337462,
     "user": {
      "displayName": "PAVAN KUMAR REDDY YANNAM",
      "userId": "18283848664285680593"
     },
     "user_tz": -330
    },
    "id": "mZoUvZPyDh2a"
   },
   "outputs": [],
   "source": [
    "admissions = pd.read_csv(os.path.join(DATA, 'ADMISSIONS.csv.gz'))"
   ]
  },
  {
   "cell_type": "code",
   "execution_count": 16,
   "metadata": {
    "colab": {
     "base_uri": "https://localhost:8080/",
     "height": 0
    },
    "executionInfo": {
     "elapsed": 48,
     "status": "ok",
     "timestamp": 1655449338123,
     "user": {
      "displayName": "PAVAN KUMAR REDDY YANNAM",
      "userId": "18283848664285680593"
     },
     "user_tz": -330
    },
    "id": "bNzUiBgbDf7K",
    "outputId": "974837c7-729f-4fba-b5ec-b570027fa635"
   },
   "outputs": [
    {
     "data": {
      "text/html": [
       "\n",
       "  <div id=\"df-b78a0433-35d7-4648-bf02-628cd009a578\">\n",
       "    <div class=\"colab-df-container\">\n",
       "      <div>\n",
       "<style scoped>\n",
       "    .dataframe tbody tr th:only-of-type {\n",
       "        vertical-align: middle;\n",
       "    }\n",
       "\n",
       "    .dataframe tbody tr th {\n",
       "        vertical-align: top;\n",
       "    }\n",
       "\n",
       "    .dataframe thead th {\n",
       "        text-align: right;\n",
       "    }\n",
       "</style>\n",
       "<table border=\"1\" class=\"dataframe\">\n",
       "  <thead>\n",
       "    <tr style=\"text-align: right;\">\n",
       "      <th></th>\n",
       "      <th>SUBJECT_ID</th>\n",
       "      <th>HADM_ID</th>\n",
       "    </tr>\n",
       "  </thead>\n",
       "  <tbody>\n",
       "    <tr>\n",
       "      <th>0</th>\n",
       "      <td>22</td>\n",
       "      <td>165315</td>\n",
       "    </tr>\n",
       "    <tr>\n",
       "      <th>1</th>\n",
       "      <td>23</td>\n",
       "      <td>152223</td>\n",
       "    </tr>\n",
       "    <tr>\n",
       "      <th>2</th>\n",
       "      <td>23</td>\n",
       "      <td>124321</td>\n",
       "    </tr>\n",
       "    <tr>\n",
       "      <th>3</th>\n",
       "      <td>24</td>\n",
       "      <td>161859</td>\n",
       "    </tr>\n",
       "    <tr>\n",
       "      <th>4</th>\n",
       "      <td>25</td>\n",
       "      <td>129635</td>\n",
       "    </tr>\n",
       "    <tr>\n",
       "      <th>...</th>\n",
       "      <td>...</td>\n",
       "      <td>...</td>\n",
       "    </tr>\n",
       "    <tr>\n",
       "      <th>58971</th>\n",
       "      <td>98800</td>\n",
       "      <td>191113</td>\n",
       "    </tr>\n",
       "    <tr>\n",
       "      <th>58972</th>\n",
       "      <td>98802</td>\n",
       "      <td>101071</td>\n",
       "    </tr>\n",
       "    <tr>\n",
       "      <th>58973</th>\n",
       "      <td>98805</td>\n",
       "      <td>122631</td>\n",
       "    </tr>\n",
       "    <tr>\n",
       "      <th>58974</th>\n",
       "      <td>98813</td>\n",
       "      <td>170407</td>\n",
       "    </tr>\n",
       "    <tr>\n",
       "      <th>58975</th>\n",
       "      <td>98813</td>\n",
       "      <td>190264</td>\n",
       "    </tr>\n",
       "  </tbody>\n",
       "</table>\n",
       "<p>58976 rows × 2 columns</p>\n",
       "</div>\n",
       "      <button class=\"colab-df-convert\" onclick=\"convertToInteractive('df-b78a0433-35d7-4648-bf02-628cd009a578')\"\n",
       "              title=\"Convert this dataframe to an interactive table.\"\n",
       "              style=\"display:none;\">\n",
       "        \n",
       "  <svg xmlns=\"http://www.w3.org/2000/svg\" height=\"24px\"viewBox=\"0 0 24 24\"\n",
       "       width=\"24px\">\n",
       "    <path d=\"M0 0h24v24H0V0z\" fill=\"none\"/>\n",
       "    <path d=\"M18.56 5.44l.94 2.06.94-2.06 2.06-.94-2.06-.94-.94-2.06-.94 2.06-2.06.94zm-11 1L8.5 8.5l.94-2.06 2.06-.94-2.06-.94L8.5 2.5l-.94 2.06-2.06.94zm10 10l.94 2.06.94-2.06 2.06-.94-2.06-.94-.94-2.06-.94 2.06-2.06.94z\"/><path d=\"M17.41 7.96l-1.37-1.37c-.4-.4-.92-.59-1.43-.59-.52 0-1.04.2-1.43.59L10.3 9.45l-7.72 7.72c-.78.78-.78 2.05 0 2.83L4 21.41c.39.39.9.59 1.41.59.51 0 1.02-.2 1.41-.59l7.78-7.78 2.81-2.81c.8-.78.8-2.07 0-2.86zM5.41 20L4 18.59l7.72-7.72 1.47 1.35L5.41 20z\"/>\n",
       "  </svg>\n",
       "      </button>\n",
       "      \n",
       "  <style>\n",
       "    .colab-df-container {\n",
       "      display:flex;\n",
       "      flex-wrap:wrap;\n",
       "      gap: 12px;\n",
       "    }\n",
       "\n",
       "    .colab-df-convert {\n",
       "      background-color: #E8F0FE;\n",
       "      border: none;\n",
       "      border-radius: 50%;\n",
       "      cursor: pointer;\n",
       "      display: none;\n",
       "      fill: #1967D2;\n",
       "      height: 32px;\n",
       "      padding: 0 0 0 0;\n",
       "      width: 32px;\n",
       "    }\n",
       "\n",
       "    .colab-df-convert:hover {\n",
       "      background-color: #E2EBFA;\n",
       "      box-shadow: 0px 1px 2px rgba(60, 64, 67, 0.3), 0px 1px 3px 1px rgba(60, 64, 67, 0.15);\n",
       "      fill: #174EA6;\n",
       "    }\n",
       "\n",
       "    [theme=dark] .colab-df-convert {\n",
       "      background-color: #3B4455;\n",
       "      fill: #D2E3FC;\n",
       "    }\n",
       "\n",
       "    [theme=dark] .colab-df-convert:hover {\n",
       "      background-color: #434B5C;\n",
       "      box-shadow: 0px 1px 3px 1px rgba(0, 0, 0, 0.15);\n",
       "      filter: drop-shadow(0px 1px 2px rgba(0, 0, 0, 0.3));\n",
       "      fill: #FFFFFF;\n",
       "    }\n",
       "  </style>\n",
       "\n",
       "      <script>\n",
       "        const buttonEl =\n",
       "          document.querySelector('#df-b78a0433-35d7-4648-bf02-628cd009a578 button.colab-df-convert');\n",
       "        buttonEl.style.display =\n",
       "          google.colab.kernel.accessAllowed ? 'block' : 'none';\n",
       "\n",
       "        async function convertToInteractive(key) {\n",
       "          const element = document.querySelector('#df-b78a0433-35d7-4648-bf02-628cd009a578');\n",
       "          const dataTable =\n",
       "            await google.colab.kernel.invokeFunction('convertToInteractive',\n",
       "                                                     [key], {});\n",
       "          if (!dataTable) return;\n",
       "\n",
       "          const docLinkHtml = 'Like what you see? Visit the ' +\n",
       "            '<a target=\"_blank\" href=https://colab.research.google.com/notebooks/data_table.ipynb>data table notebook</a>'\n",
       "            + ' to learn more about interactive tables.';\n",
       "          element.innerHTML = '';\n",
       "          dataTable['output_type'] = 'display_data';\n",
       "          await google.colab.output.renderOutput(dataTable, element);\n",
       "          const docLink = document.createElement('div');\n",
       "          docLink.innerHTML = docLinkHtml;\n",
       "          element.appendChild(docLink);\n",
       "        }\n",
       "      </script>\n",
       "    </div>\n",
       "  </div>\n",
       "  "
      ],
      "text/plain": [
       "       SUBJECT_ID  HADM_ID\n",
       "0              22   165315\n",
       "1              23   152223\n",
       "2              23   124321\n",
       "3              24   161859\n",
       "4              25   129635\n",
       "...           ...      ...\n",
       "58971       98800   191113\n",
       "58972       98802   101071\n",
       "58973       98805   122631\n",
       "58974       98813   170407\n",
       "58975       98813   190264\n",
       "\n",
       "[58976 rows x 2 columns]"
      ]
     },
     "execution_count": 16,
     "metadata": {},
     "output_type": "execute_result"
    }
   ],
   "source": [
    "# subject_id,hadm_id\n",
    "admissions = admissions[['SUBJECT_ID', 'HADM_ID']]\n",
    "admissions"
   ]
  },
  {
   "cell_type": "markdown",
   "metadata": {
    "id": "VSDUzMgor6_F"
   },
   "source": [
    "### Input Events MV"
   ]
  },
  {
   "cell_type": "code",
   "execution_count": 17,
   "metadata": {
    "executionInfo": {
     "elapsed": 4160,
     "status": "ok",
     "timestamp": 1655449342248,
     "user": {
      "displayName": "PAVAN KUMAR REDDY YANNAM",
      "userId": "18283848664285680593"
     },
     "user_tz": -330
    },
    "id": "GGUphhtUXa5s"
   },
   "outputs": [],
   "source": [
    "inputevents_mv = pd.read_csv(os.path.join(DATA, 'INPUTEVENTS_MV.csv.gz'), nrows=500000)"
   ]
  },
  {
   "cell_type": "code",
   "execution_count": 18,
   "metadata": {
    "colab": {
     "base_uri": "https://localhost:8080/"
    },
    "executionInfo": {
     "elapsed": 42,
     "status": "ok",
     "timestamp": 1655449342250,
     "user": {
      "displayName": "PAVAN KUMAR REDDY YANNAM",
      "userId": "18283848664285680593"
     },
     "user_tz": -330
    },
    "id": "r34Vu8ij1gnU",
    "outputId": "6c227bea-2af0-4aa4-9b55-ccadd174e4f7"
   },
   "outputs": [
    {
     "data": {
      "text/plain": [
       "Index(['ROW_ID', 'SUBJECT_ID', 'HADM_ID', 'ICUSTAY_ID', 'STARTTIME', 'ENDTIME',\n",
       "       'ITEMID', 'AMOUNT', 'AMOUNTUOM', 'RATE', 'RATEUOM', 'STORETIME', 'CGID',\n",
       "       'ORDERID', 'LINKORDERID', 'ORDERCATEGORYNAME',\n",
       "       'SECONDARYORDERCATEGORYNAME', 'ORDERCOMPONENTTYPEDESCRIPTION',\n",
       "       'ORDERCATEGORYDESCRIPTION', 'PATIENTWEIGHT', 'TOTALAMOUNT',\n",
       "       'TOTALAMOUNTUOM', 'ISOPENBAG', 'CONTINUEINNEXTDEPT', 'CANCELREASON',\n",
       "       'STATUSDESCRIPTION', 'COMMENTS_EDITEDBY', 'COMMENTS_CANCELEDBY',\n",
       "       'COMMENTS_DATE', 'ORIGINALAMOUNT', 'ORIGINALRATE'],\n",
       "      dtype='object')"
      ]
     },
     "execution_count": 18,
     "metadata": {},
     "output_type": "execute_result"
    }
   ],
   "source": [
    "inputevents_mv.columns"
   ]
  },
  {
   "cell_type": "code",
   "execution_count": 19,
   "metadata": {
    "colab": {
     "base_uri": "https://localhost:8080/"
    },
    "executionInfo": {
     "elapsed": 30,
     "status": "ok",
     "timestamp": 1655449342252,
     "user": {
      "displayName": "PAVAN KUMAR REDDY YANNAM",
      "userId": "18283848664285680593"
     },
     "user_tz": -330
    },
    "id": "1IMUI9ySXtZI",
    "outputId": "80435db6-895f-4336-8004-4a1156c764c6"
   },
   "outputs": [
    {
     "data": {
      "text/plain": [
       "01-Drips                    196312\n",
       "02-Fluids (Crystalloids)     76453\n",
       "08-Antibiotics (IV)          59048\n",
       "14-Oral/Gastric Intake       51766\n",
       "05-Med Bolus                 33985\n",
       "13-Enteral Nutrition         18647\n",
       "06-Insulin (Non IV)          15424\n",
       "11-Prophylaxis (Non IV)      13991\n",
       "10-Prophylaxis (IV)          10121\n",
       "03-IV Fluid Bolus             9305\n",
       "07-Blood Products             5369\n",
       "12-Parenteral Nutrition       3146\n",
       "16-Pre Admission              2787\n",
       "09-Antibiotics (Non IV)       1861\n",
       "04-Fluids (Colloids)          1768\n",
       "15-Supplements                  17\n",
       "Name: ORDERCATEGORYNAME, dtype: int64"
      ]
     },
     "execution_count": 19,
     "metadata": {},
     "output_type": "execute_result"
    }
   ],
   "source": [
    "inputevents_mv['ORDERCATEGORYNAME'].value_counts()"
   ]
  },
  {
   "cell_type": "markdown",
   "metadata": {
    "id": "Vw7KCqUObN5X"
   },
   "source": [
    "### Item"
   ]
  },
  {
   "cell_type": "code",
   "execution_count": 20,
   "metadata": {
    "executionInfo": {
     "elapsed": 27,
     "status": "ok",
     "timestamp": 1655449342254,
     "user": {
      "displayName": "PAVAN KUMAR REDDY YANNAM",
      "userId": "18283848664285680593"
     },
     "user_tz": -330
    },
    "id": "uwBu3eZ7ZtAP"
   },
   "outputs": [],
   "source": [
    "d_item = pd.read_csv(os.path.join(DATA, 'D_ITEMS.csv.gz'))"
   ]
  },
  {
   "cell_type": "code",
   "execution_count": 21,
   "metadata": {
    "executionInfo": {
     "elapsed": 26,
     "status": "ok",
     "timestamp": 1655449342256,
     "user": {
      "displayName": "PAVAN KUMAR REDDY YANNAM",
      "userId": "18283848664285680593"
     },
     "user_tz": -330
    },
    "id": "zcPr25LkZs8Q"
   },
   "outputs": [],
   "source": [
    "# d_item[d_item['CATEGORY']=='Antibiotics']"
   ]
  },
  {
   "cell_type": "markdown",
   "metadata": {
    "id": "U7EEgZxWeaGo"
   },
   "source": [
    "### Item <> Input events MV"
   ]
  },
  {
   "cell_type": "code",
   "execution_count": 22,
   "metadata": {
    "executionInfo": {
     "elapsed": 2445,
     "status": "ok",
     "timestamp": 1655449344677,
     "user": {
      "displayName": "PAVAN KUMAR REDDY YANNAM",
      "userId": "18283848664285680593"
     },
     "user_tz": -330
    },
    "id": "A9eE20gGZs4Q"
   },
   "outputs": [],
   "source": [
    "ditem_inputevents_mv = pd.merge(inputevents_mv, d_item, on='ITEMID', how='inner')"
   ]
  },
  {
   "cell_type": "code",
   "execution_count": 23,
   "metadata": {
    "colab": {
     "base_uri": "https://localhost:8080/"
    },
    "executionInfo": {
     "elapsed": 39,
     "status": "ok",
     "timestamp": 1655449344679,
     "user": {
      "displayName": "PAVAN KUMAR REDDY YANNAM",
      "userId": "18283848664285680593"
     },
     "user_tz": -330
    },
    "id": "8tPJBLtNdJCu",
    "outputId": "e26b92a3-e46c-44fc-b68a-1f5db4a837a8"
   },
   "outputs": [
    {
     "data": {
      "text/plain": [
       "Index(['ROW_ID_x', 'SUBJECT_ID', 'HADM_ID', 'ICUSTAY_ID', 'STARTTIME',\n",
       "       'ENDTIME', 'ITEMID', 'AMOUNT', 'AMOUNTUOM', 'RATE', 'RATEUOM',\n",
       "       'STORETIME', 'CGID', 'ORDERID', 'LINKORDERID', 'ORDERCATEGORYNAME',\n",
       "       'SECONDARYORDERCATEGORYNAME', 'ORDERCOMPONENTTYPEDESCRIPTION',\n",
       "       'ORDERCATEGORYDESCRIPTION', 'PATIENTWEIGHT', 'TOTALAMOUNT',\n",
       "       'TOTALAMOUNTUOM', 'ISOPENBAG', 'CONTINUEINNEXTDEPT', 'CANCELREASON',\n",
       "       'STATUSDESCRIPTION', 'COMMENTS_EDITEDBY', 'COMMENTS_CANCELEDBY',\n",
       "       'COMMENTS_DATE', 'ORIGINALAMOUNT', 'ORIGINALRATE', 'ROW_ID_y', 'LABEL',\n",
       "       'ABBREVIATION', 'DBSOURCE', 'LINKSTO', 'CATEGORY', 'UNITNAME',\n",
       "       'PARAM_TYPE', 'CONCEPTID'],\n",
       "      dtype='object')"
      ]
     },
     "execution_count": 23,
     "metadata": {},
     "output_type": "execute_result"
    }
   ],
   "source": [
    "ditem_inputevents_mv.columns"
   ]
  },
  {
   "cell_type": "code",
   "execution_count": 24,
   "metadata": {
    "colab": {
     "base_uri": "https://localhost:8080/",
     "height": 0
    },
    "executionInfo": {
     "elapsed": 35,
     "status": "ok",
     "timestamp": 1655449344681,
     "user": {
      "displayName": "PAVAN KUMAR REDDY YANNAM",
      "userId": "18283848664285680593"
     },
     "user_tz": -330
    },
    "id": "9Fy9pnolcdIl",
    "outputId": "938435f8-be04-4dff-f199-66ff88002cdd"
   },
   "outputs": [
    {
     "data": {
      "text/html": [
       "\n",
       "  <div id=\"df-4e474ec7-3c0d-4373-b404-f93e1bac3060\">\n",
       "    <div class=\"colab-df-container\">\n",
       "      <div>\n",
       "<style scoped>\n",
       "    .dataframe tbody tr th:only-of-type {\n",
       "        vertical-align: middle;\n",
       "    }\n",
       "\n",
       "    .dataframe tbody tr th {\n",
       "        vertical-align: top;\n",
       "    }\n",
       "\n",
       "    .dataframe thead th {\n",
       "        text-align: right;\n",
       "    }\n",
       "</style>\n",
       "<table border=\"1\" class=\"dataframe\">\n",
       "  <thead>\n",
       "    <tr style=\"text-align: right;\">\n",
       "      <th></th>\n",
       "      <th>SUBJECT_ID</th>\n",
       "      <th>HADM_ID</th>\n",
       "      <th>ICUSTAY_ID</th>\n",
       "      <th>STARTTIME</th>\n",
       "      <th>ENDTIME</th>\n",
       "      <th>ITEMID</th>\n",
       "      <th>AMOUNT</th>\n",
       "      <th>AMOUNTUOM</th>\n",
       "      <th>UNITNAME</th>\n",
       "      <th>ORDERCATEGORYNAME</th>\n",
       "      <th>LABEL</th>\n",
       "      <th>CATEGORY</th>\n",
       "      <th>PARAM_TYPE</th>\n",
       "    </tr>\n",
       "  </thead>\n",
       "  <tbody>\n",
       "    <tr>\n",
       "      <th>0</th>\n",
       "      <td>27063</td>\n",
       "      <td>139787</td>\n",
       "      <td>223259.0</td>\n",
       "      <td>2133-02-05 06:29:00</td>\n",
       "      <td>2133-02-05 08:45:00</td>\n",
       "      <td>225166</td>\n",
       "      <td>6.774532</td>\n",
       "      <td>mEq</td>\n",
       "      <td>mEq</td>\n",
       "      <td>02-Fluids (Crystalloids)</td>\n",
       "      <td>Potassium Chloride</td>\n",
       "      <td>Medications</td>\n",
       "      <td>Solution</td>\n",
       "    </tr>\n",
       "    <tr>\n",
       "      <th>1</th>\n",
       "      <td>27063</td>\n",
       "      <td>139787</td>\n",
       "      <td>223259.0</td>\n",
       "      <td>2133-02-05 05:34:00</td>\n",
       "      <td>2133-02-05 06:30:00</td>\n",
       "      <td>225166</td>\n",
       "      <td>2.813300</td>\n",
       "      <td>mEq</td>\n",
       "      <td>mEq</td>\n",
       "      <td>02-Fluids (Crystalloids)</td>\n",
       "      <td>Potassium Chloride</td>\n",
       "      <td>Medications</td>\n",
       "      <td>Solution</td>\n",
       "    </tr>\n",
       "    <tr>\n",
       "      <th>2</th>\n",
       "      <td>27063</td>\n",
       "      <td>139787</td>\n",
       "      <td>223259.0</td>\n",
       "      <td>2133-02-05 05:34:00</td>\n",
       "      <td>2133-02-05 07:03:00</td>\n",
       "      <td>225166</td>\n",
       "      <td>4.433333</td>\n",
       "      <td>mEq</td>\n",
       "      <td>mEq</td>\n",
       "      <td>02-Fluids (Crystalloids)</td>\n",
       "      <td>Potassium Chloride</td>\n",
       "      <td>Medications</td>\n",
       "      <td>Solution</td>\n",
       "    </tr>\n",
       "    <tr>\n",
       "      <th>3</th>\n",
       "      <td>27063</td>\n",
       "      <td>139787</td>\n",
       "      <td>223259.0</td>\n",
       "      <td>2133-02-05 09:43:00</td>\n",
       "      <td>2133-02-05 12:30:00</td>\n",
       "      <td>225166</td>\n",
       "      <td>8.360021</td>\n",
       "      <td>mEq</td>\n",
       "      <td>mEq</td>\n",
       "      <td>02-Fluids (Crystalloids)</td>\n",
       "      <td>Potassium Chloride</td>\n",
       "      <td>Medications</td>\n",
       "      <td>Solution</td>\n",
       "    </tr>\n",
       "    <tr>\n",
       "      <th>4</th>\n",
       "      <td>27063</td>\n",
       "      <td>139787</td>\n",
       "      <td>223259.0</td>\n",
       "      <td>2133-02-05 05:34:00</td>\n",
       "      <td>2133-02-05 05:35:00</td>\n",
       "      <td>225166</td>\n",
       "      <td>0.050060</td>\n",
       "      <td>mEq</td>\n",
       "      <td>mEq</td>\n",
       "      <td>02-Fluids (Crystalloids)</td>\n",
       "      <td>Potassium Chloride</td>\n",
       "      <td>Medications</td>\n",
       "      <td>Solution</td>\n",
       "    </tr>\n",
       "    <tr>\n",
       "      <th>...</th>\n",
       "      <td>...</td>\n",
       "      <td>...</td>\n",
       "      <td>...</td>\n",
       "      <td>...</td>\n",
       "      <td>...</td>\n",
       "      <td>...</td>\n",
       "      <td>...</td>\n",
       "      <td>...</td>\n",
       "      <td>...</td>\n",
       "      <td>...</td>\n",
       "      <td>...</td>\n",
       "      <td>...</td>\n",
       "      <td>...</td>\n",
       "    </tr>\n",
       "    <tr>\n",
       "      <th>499995</th>\n",
       "      <td>65382</td>\n",
       "      <td>163918</td>\n",
       "      <td>288487.0</td>\n",
       "      <td>2132-12-09 02:35:00</td>\n",
       "      <td>2132-12-09 02:36:00</td>\n",
       "      <td>227692</td>\n",
       "      <td>0.004046</td>\n",
       "      <td>mg</td>\n",
       "      <td>mg</td>\n",
       "      <td>01-Drips</td>\n",
       "      <td>Isuprel</td>\n",
       "      <td>Medications</td>\n",
       "      <td>Solution</td>\n",
       "    </tr>\n",
       "    <tr>\n",
       "      <th>499996</th>\n",
       "      <td>60970</td>\n",
       "      <td>163433</td>\n",
       "      <td>274168.0</td>\n",
       "      <td>2132-02-08 05:37:00</td>\n",
       "      <td>2132-02-08 07:15:00</td>\n",
       "      <td>225148</td>\n",
       "      <td>249.999999</td>\n",
       "      <td>mg</td>\n",
       "      <td>mg</td>\n",
       "      <td>01-Drips</td>\n",
       "      <td>Bivalirudin (Angiomax)</td>\n",
       "      <td>Medications</td>\n",
       "      <td>Solution</td>\n",
       "    </tr>\n",
       "    <tr>\n",
       "      <th>499997</th>\n",
       "      <td>45426</td>\n",
       "      <td>166752</td>\n",
       "      <td>236992.0</td>\n",
       "      <td>2144-01-06 17:33:00</td>\n",
       "      <td>2144-01-07 00:16:00</td>\n",
       "      <td>226022</td>\n",
       "      <td>134.333336</td>\n",
       "      <td>ml</td>\n",
       "      <td>mL</td>\n",
       "      <td>13-Enteral Nutrition</td>\n",
       "      <td>Impact (3/4)</td>\n",
       "      <td>Nutrition - Enteral</td>\n",
       "      <td>Solution</td>\n",
       "    </tr>\n",
       "    <tr>\n",
       "      <th>499998</th>\n",
       "      <td>54586</td>\n",
       "      <td>122570</td>\n",
       "      <td>222417.0</td>\n",
       "      <td>2168-03-09 11:00:00</td>\n",
       "      <td>2168-03-09 12:00:00</td>\n",
       "      <td>225173</td>\n",
       "      <td>7500.000000</td>\n",
       "      <td>ml</td>\n",
       "      <td>mL</td>\n",
       "      <td>07-Blood Products</td>\n",
       "      <td>Cell Saver</td>\n",
       "      <td>Blood Products/Colloids</td>\n",
       "      <td>Solution</td>\n",
       "    </tr>\n",
       "    <tr>\n",
       "      <th>499999</th>\n",
       "      <td>74975</td>\n",
       "      <td>147212</td>\n",
       "      <td>250666.0</td>\n",
       "      <td>2129-03-31 04:16:00</td>\n",
       "      <td>2129-03-31 04:17:00</td>\n",
       "      <td>227696</td>\n",
       "      <td>0.749837</td>\n",
       "      <td>ml</td>\n",
       "      <td>mL</td>\n",
       "      <td>13-Enteral Nutrition</td>\n",
       "      <td>Fibersource HN (3/4)</td>\n",
       "      <td>Nutrition - Enteral</td>\n",
       "      <td>Solution</td>\n",
       "    </tr>\n",
       "  </tbody>\n",
       "</table>\n",
       "<p>500000 rows × 13 columns</p>\n",
       "</div>\n",
       "      <button class=\"colab-df-convert\" onclick=\"convertToInteractive('df-4e474ec7-3c0d-4373-b404-f93e1bac3060')\"\n",
       "              title=\"Convert this dataframe to an interactive table.\"\n",
       "              style=\"display:none;\">\n",
       "        \n",
       "  <svg xmlns=\"http://www.w3.org/2000/svg\" height=\"24px\"viewBox=\"0 0 24 24\"\n",
       "       width=\"24px\">\n",
       "    <path d=\"M0 0h24v24H0V0z\" fill=\"none\"/>\n",
       "    <path d=\"M18.56 5.44l.94 2.06.94-2.06 2.06-.94-2.06-.94-.94-2.06-.94 2.06-2.06.94zm-11 1L8.5 8.5l.94-2.06 2.06-.94-2.06-.94L8.5 2.5l-.94 2.06-2.06.94zm10 10l.94 2.06.94-2.06 2.06-.94-2.06-.94-.94-2.06-.94 2.06-2.06.94z\"/><path d=\"M17.41 7.96l-1.37-1.37c-.4-.4-.92-.59-1.43-.59-.52 0-1.04.2-1.43.59L10.3 9.45l-7.72 7.72c-.78.78-.78 2.05 0 2.83L4 21.41c.39.39.9.59 1.41.59.51 0 1.02-.2 1.41-.59l7.78-7.78 2.81-2.81c.8-.78.8-2.07 0-2.86zM5.41 20L4 18.59l7.72-7.72 1.47 1.35L5.41 20z\"/>\n",
       "  </svg>\n",
       "      </button>\n",
       "      \n",
       "  <style>\n",
       "    .colab-df-container {\n",
       "      display:flex;\n",
       "      flex-wrap:wrap;\n",
       "      gap: 12px;\n",
       "    }\n",
       "\n",
       "    .colab-df-convert {\n",
       "      background-color: #E8F0FE;\n",
       "      border: none;\n",
       "      border-radius: 50%;\n",
       "      cursor: pointer;\n",
       "      display: none;\n",
       "      fill: #1967D2;\n",
       "      height: 32px;\n",
       "      padding: 0 0 0 0;\n",
       "      width: 32px;\n",
       "    }\n",
       "\n",
       "    .colab-df-convert:hover {\n",
       "      background-color: #E2EBFA;\n",
       "      box-shadow: 0px 1px 2px rgba(60, 64, 67, 0.3), 0px 1px 3px 1px rgba(60, 64, 67, 0.15);\n",
       "      fill: #174EA6;\n",
       "    }\n",
       "\n",
       "    [theme=dark] .colab-df-convert {\n",
       "      background-color: #3B4455;\n",
       "      fill: #D2E3FC;\n",
       "    }\n",
       "\n",
       "    [theme=dark] .colab-df-convert:hover {\n",
       "      background-color: #434B5C;\n",
       "      box-shadow: 0px 1px 3px 1px rgba(0, 0, 0, 0.15);\n",
       "      filter: drop-shadow(0px 1px 2px rgba(0, 0, 0, 0.3));\n",
       "      fill: #FFFFFF;\n",
       "    }\n",
       "  </style>\n",
       "\n",
       "      <script>\n",
       "        const buttonEl =\n",
       "          document.querySelector('#df-4e474ec7-3c0d-4373-b404-f93e1bac3060 button.colab-df-convert');\n",
       "        buttonEl.style.display =\n",
       "          google.colab.kernel.accessAllowed ? 'block' : 'none';\n",
       "\n",
       "        async function convertToInteractive(key) {\n",
       "          const element = document.querySelector('#df-4e474ec7-3c0d-4373-b404-f93e1bac3060');\n",
       "          const dataTable =\n",
       "            await google.colab.kernel.invokeFunction('convertToInteractive',\n",
       "                                                     [key], {});\n",
       "          if (!dataTable) return;\n",
       "\n",
       "          const docLinkHtml = 'Like what you see? Visit the ' +\n",
       "            '<a target=\"_blank\" href=https://colab.research.google.com/notebooks/data_table.ipynb>data table notebook</a>'\n",
       "            + ' to learn more about interactive tables.';\n",
       "          element.innerHTML = '';\n",
       "          dataTable['output_type'] = 'display_data';\n",
       "          await google.colab.output.renderOutput(dataTable, element);\n",
       "          const docLink = document.createElement('div');\n",
       "          docLink.innerHTML = docLinkHtml;\n",
       "          element.appendChild(docLink);\n",
       "        }\n",
       "      </script>\n",
       "    </div>\n",
       "  </div>\n",
       "  "
      ],
      "text/plain": [
       "        SUBJECT_ID  HADM_ID  ICUSTAY_ID            STARTTIME  \\\n",
       "0            27063   139787    223259.0  2133-02-05 06:29:00   \n",
       "1            27063   139787    223259.0  2133-02-05 05:34:00   \n",
       "2            27063   139787    223259.0  2133-02-05 05:34:00   \n",
       "3            27063   139787    223259.0  2133-02-05 09:43:00   \n",
       "4            27063   139787    223259.0  2133-02-05 05:34:00   \n",
       "...            ...      ...         ...                  ...   \n",
       "499995       65382   163918    288487.0  2132-12-09 02:35:00   \n",
       "499996       60970   163433    274168.0  2132-02-08 05:37:00   \n",
       "499997       45426   166752    236992.0  2144-01-06 17:33:00   \n",
       "499998       54586   122570    222417.0  2168-03-09 11:00:00   \n",
       "499999       74975   147212    250666.0  2129-03-31 04:16:00   \n",
       "\n",
       "                    ENDTIME  ITEMID       AMOUNT AMOUNTUOM UNITNAME  \\\n",
       "0       2133-02-05 08:45:00  225166     6.774532       mEq      mEq   \n",
       "1       2133-02-05 06:30:00  225166     2.813300       mEq      mEq   \n",
       "2       2133-02-05 07:03:00  225166     4.433333       mEq      mEq   \n",
       "3       2133-02-05 12:30:00  225166     8.360021       mEq      mEq   \n",
       "4       2133-02-05 05:35:00  225166     0.050060       mEq      mEq   \n",
       "...                     ...     ...          ...       ...      ...   \n",
       "499995  2132-12-09 02:36:00  227692     0.004046        mg       mg   \n",
       "499996  2132-02-08 07:15:00  225148   249.999999        mg       mg   \n",
       "499997  2144-01-07 00:16:00  226022   134.333336        ml       mL   \n",
       "499998  2168-03-09 12:00:00  225173  7500.000000        ml       mL   \n",
       "499999  2129-03-31 04:17:00  227696     0.749837        ml       mL   \n",
       "\n",
       "               ORDERCATEGORYNAME                   LABEL  \\\n",
       "0       02-Fluids (Crystalloids)      Potassium Chloride   \n",
       "1       02-Fluids (Crystalloids)      Potassium Chloride   \n",
       "2       02-Fluids (Crystalloids)      Potassium Chloride   \n",
       "3       02-Fluids (Crystalloids)      Potassium Chloride   \n",
       "4       02-Fluids (Crystalloids)      Potassium Chloride   \n",
       "...                          ...                     ...   \n",
       "499995                  01-Drips                 Isuprel   \n",
       "499996                  01-Drips  Bivalirudin (Angiomax)   \n",
       "499997      13-Enteral Nutrition            Impact (3/4)   \n",
       "499998         07-Blood Products              Cell Saver   \n",
       "499999      13-Enteral Nutrition    Fibersource HN (3/4)   \n",
       "\n",
       "                       CATEGORY PARAM_TYPE  \n",
       "0                   Medications   Solution  \n",
       "1                   Medications   Solution  \n",
       "2                   Medications   Solution  \n",
       "3                   Medications   Solution  \n",
       "4                   Medications   Solution  \n",
       "...                         ...        ...  \n",
       "499995              Medications   Solution  \n",
       "499996              Medications   Solution  \n",
       "499997      Nutrition - Enteral   Solution  \n",
       "499998  Blood Products/Colloids   Solution  \n",
       "499999      Nutrition - Enteral   Solution  \n",
       "\n",
       "[500000 rows x 13 columns]"
      ]
     },
     "execution_count": 24,
     "metadata": {},
     "output_type": "execute_result"
    }
   ],
   "source": [
    "inputevents_mv_1 = ditem_inputevents_mv[['SUBJECT_ID', 'HADM_ID', 'ICUSTAY_ID', 'STARTTIME', 'ENDTIME', 'ITEMID', 'AMOUNT', 'AMOUNTUOM', 'UNITNAME', 'ORDERCATEGORYNAME', 'LABEL', 'CATEGORY', 'PARAM_TYPE']]\n",
    "inputevents_mv_1"
   ]
  },
  {
   "cell_type": "code",
   "execution_count": 25,
   "metadata": {
    "executionInfo": {
     "elapsed": 32,
     "status": "ok",
     "timestamp": 1655449344684,
     "user": {
      "displayName": "PAVAN KUMAR REDDY YANNAM",
      "userId": "18283848664285680593"
     },
     "user_tz": -330
    },
    "id": "EFCkW_JS1eJ1"
   },
   "outputs": [],
   "source": [
    "top200_meds = inputevents_mv_1['LABEL'].value_counts()[:200]"
   ]
  },
  {
   "cell_type": "code",
   "execution_count": 26,
   "metadata": {
    "colab": {
     "base_uri": "https://localhost:8080/"
    },
    "executionInfo": {
     "elapsed": 33,
     "status": "ok",
     "timestamp": 1655449344687,
     "user": {
      "displayName": "PAVAN KUMAR REDDY YANNAM",
      "userId": "18283848664285680593"
     },
     "user_tz": -330
    },
    "id": "o28UhM-LcoL3",
    "outputId": "f90d8d12-cf1f-466c-8034-06061493015d"
   },
   "outputs": [
    {
     "data": {
      "text/plain": [
       "Fluids/Intake              242772\n",
       "Medications                196463\n",
       "Antibiotics                 31382\n",
       "Nutrition - Enteral         18661\n",
       "Blood Products/Colloids      7929\n",
       "Nutrition - Parenteral       2790\n",
       "Nutrition - Supplements         3\n",
       "Name: CATEGORY, dtype: int64"
      ]
     },
     "execution_count": 26,
     "metadata": {},
     "output_type": "execute_result"
    }
   ],
   "source": [
    "inputevents_mv_1['CATEGORY'].value_counts()"
   ]
  },
  {
   "cell_type": "code",
   "execution_count": 27,
   "metadata": {
    "colab": {
     "base_uri": "https://localhost:8080/"
    },
    "executionInfo": {
     "elapsed": 1162,
     "status": "ok",
     "timestamp": 1655449345819,
     "user": {
      "displayName": "PAVAN KUMAR REDDY YANNAM",
      "userId": "18283848664285680593"
     },
     "user_tz": -330
    },
    "id": "4s2g8aLxdx2o",
    "outputId": "9acb86c2-0ec0-4c2e-9497-258e28eb7e84"
   },
   "outputs": [
    {
     "name": "stderr",
     "output_type": "stream",
     "text": [
      "/usr/local/lib/python3.7/dist-packages/ipykernel_launcher.py:1: SettingWithCopyWarning: \n",
      "A value is trying to be set on a copy of a slice from a DataFrame.\n",
      "Try using .loc[row_indexer,col_indexer] = value instead\n",
      "\n",
      "See the caveats in the documentation: https://pandas.pydata.org/pandas-docs/stable/user_guide/indexing.html#returning-a-view-versus-a-copy\n",
      "  \"\"\"Entry point for launching an IPython kernel.\n",
      "/usr/local/lib/python3.7/dist-packages/ipykernel_launcher.py:2: SettingWithCopyWarning: \n",
      "A value is trying to be set on a copy of a slice from a DataFrame.\n",
      "Try using .loc[row_indexer,col_indexer] = value instead\n",
      "\n",
      "See the caveats in the documentation: https://pandas.pydata.org/pandas-docs/stable/user_guide/indexing.html#returning-a-view-versus-a-copy\n",
      "  \n"
     ]
    }
   ],
   "source": [
    "inputevents_mv_1['STARTTIME'] = pd.to_datetime(inputevents_mv_1['STARTTIME'],  format='%Y/%m/%d %H:%M:%S')\n",
    "inputevents_mv_1['ENDTIME'] = pd.to_datetime(inputevents_mv_1['ENDTIME'],  format='%Y/%m/%d %H:%M:%S')"
   ]
  },
  {
   "cell_type": "markdown",
   "metadata": {
    "id": "uM2dar0qE3ua"
   },
   "source": [
    "## Data Preprocessing"
   ]
  },
  {
   "cell_type": "code",
   "execution_count": 28,
   "metadata": {
    "executionInfo": {
     "elapsed": 73,
     "status": "ok",
     "timestamp": 1655449345822,
     "user": {
      "displayName": "PAVAN KUMAR REDDY YANNAM",
      "userId": "18283848664285680593"
     },
     "user_tz": -330
    },
    "id": "JU-mLFFEsR99"
   },
   "outputs": [],
   "source": [
    "def remove_multiple_admissions(df):\n",
    "    \"\"\"\n",
    "    Removes hospital admissions that occur more than once for the same patient\n",
    "  \n",
    "    Parameters:\n",
    "    df (DataFrame): Takes in dataframe with multiple hospital admissions\n",
    "  \n",
    "    Returns:\n",
    "    Dataframe: Returns dataframe with multiple hospital admissions removed\n",
    "    \"\"\"\n",
    "    first_admissions = admissions\n",
    "    first_admissions = first_admissions.drop_duplicates(subset=['SUBJECT_ID'], keep='first')\n",
    "    df = df[df['HADM_ID'].isin(first_admissions['HADM_ID'])]\n",
    "    return df"
   ]
  },
  {
   "cell_type": "code",
   "execution_count": 29,
   "metadata": {
    "executionInfo": {
     "elapsed": 77,
     "status": "ok",
     "timestamp": 1655449345829,
     "user": {
      "displayName": "PAVAN KUMAR REDDY YANNAM",
      "userId": "18283848664285680593"
     },
     "user_tz": -330
    },
    "id": "WnNBqDc_sR9_"
   },
   "outputs": [],
   "source": [
    "lab_measurements = labValues"
   ]
  },
  {
   "cell_type": "code",
   "execution_count": 30,
   "metadata": {
    "colab": {
     "base_uri": "https://localhost:8080/",
     "height": 0
    },
    "executionInfo": {
     "elapsed": 80,
     "status": "ok",
     "timestamp": 1655449345836,
     "user": {
      "displayName": "PAVAN KUMAR REDDY YANNAM",
      "userId": "18283848664285680593"
     },
     "user_tz": -330
    },
    "id": "DQKF3WI9I4zb",
    "outputId": "23e46528-2a30-461d-c404-d33713805772"
   },
   "outputs": [
    {
     "data": {
      "text/html": [
       "\n",
       "  <div id=\"df-b9a345be-3d41-4052-a82d-f2ddff923ad0\">\n",
       "    <div class=\"colab-df-container\">\n",
       "      <div>\n",
       "<style scoped>\n",
       "    .dataframe tbody tr th:only-of-type {\n",
       "        vertical-align: middle;\n",
       "    }\n",
       "\n",
       "    .dataframe tbody tr th {\n",
       "        vertical-align: top;\n",
       "    }\n",
       "\n",
       "    .dataframe thead th {\n",
       "        text-align: right;\n",
       "    }\n",
       "</style>\n",
       "<table border=\"1\" class=\"dataframe\">\n",
       "  <thead>\n",
       "    <tr style=\"text-align: right;\">\n",
       "      <th></th>\n",
       "      <th>MED</th>\n",
       "      <th>COUNT</th>\n",
       "    </tr>\n",
       "  </thead>\n",
       "  <tbody>\n",
       "    <tr>\n",
       "      <th>0</th>\n",
       "      <td>NaCl 0.9%</td>\n",
       "      <td>76138</td>\n",
       "    </tr>\n",
       "    <tr>\n",
       "      <th>1</th>\n",
       "      <td>Dextrose 5%</td>\n",
       "      <td>60536</td>\n",
       "    </tr>\n",
       "    <tr>\n",
       "      <th>2</th>\n",
       "      <td>Solution</td>\n",
       "      <td>27506</td>\n",
       "    </tr>\n",
       "    <tr>\n",
       "      <th>3</th>\n",
       "      <td>Propofol</td>\n",
       "      <td>20005</td>\n",
       "    </tr>\n",
       "    <tr>\n",
       "      <th>4</th>\n",
       "      <td>PO Intake</td>\n",
       "      <td>19287</td>\n",
       "    </tr>\n",
       "    <tr>\n",
       "      <th>...</th>\n",
       "      <td>...</td>\n",
       "      <td>...</td>\n",
       "    </tr>\n",
       "    <tr>\n",
       "      <th>195</th>\n",
       "      <td>Nutren 2.0 (1/2)</td>\n",
       "      <td>7</td>\n",
       "    </tr>\n",
       "    <tr>\n",
       "      <th>196</th>\n",
       "      <td>Nutren 2.0 (3/4)</td>\n",
       "      <td>7</td>\n",
       "    </tr>\n",
       "    <tr>\n",
       "      <th>197</th>\n",
       "      <td>Valgancyclovir</td>\n",
       "      <td>7</td>\n",
       "    </tr>\n",
       "    <tr>\n",
       "      <th>198</th>\n",
       "      <td>Magnesium Sulfate (OB-GYN)</td>\n",
       "      <td>5</td>\n",
       "    </tr>\n",
       "    <tr>\n",
       "      <th>199</th>\n",
       "      <td>Atovaquone</td>\n",
       "      <td>5</td>\n",
       "    </tr>\n",
       "  </tbody>\n",
       "</table>\n",
       "<p>200 rows × 2 columns</p>\n",
       "</div>\n",
       "      <button class=\"colab-df-convert\" onclick=\"convertToInteractive('df-b9a345be-3d41-4052-a82d-f2ddff923ad0')\"\n",
       "              title=\"Convert this dataframe to an interactive table.\"\n",
       "              style=\"display:none;\">\n",
       "        \n",
       "  <svg xmlns=\"http://www.w3.org/2000/svg\" height=\"24px\"viewBox=\"0 0 24 24\"\n",
       "       width=\"24px\">\n",
       "    <path d=\"M0 0h24v24H0V0z\" fill=\"none\"/>\n",
       "    <path d=\"M18.56 5.44l.94 2.06.94-2.06 2.06-.94-2.06-.94-.94-2.06-.94 2.06-2.06.94zm-11 1L8.5 8.5l.94-2.06 2.06-.94-2.06-.94L8.5 2.5l-.94 2.06-2.06.94zm10 10l.94 2.06.94-2.06 2.06-.94-2.06-.94-.94-2.06-.94 2.06-2.06.94z\"/><path d=\"M17.41 7.96l-1.37-1.37c-.4-.4-.92-.59-1.43-.59-.52 0-1.04.2-1.43.59L10.3 9.45l-7.72 7.72c-.78.78-.78 2.05 0 2.83L4 21.41c.39.39.9.59 1.41.59.51 0 1.02-.2 1.41-.59l7.78-7.78 2.81-2.81c.8-.78.8-2.07 0-2.86zM5.41 20L4 18.59l7.72-7.72 1.47 1.35L5.41 20z\"/>\n",
       "  </svg>\n",
       "      </button>\n",
       "      \n",
       "  <style>\n",
       "    .colab-df-container {\n",
       "      display:flex;\n",
       "      flex-wrap:wrap;\n",
       "      gap: 12px;\n",
       "    }\n",
       "\n",
       "    .colab-df-convert {\n",
       "      background-color: #E8F0FE;\n",
       "      border: none;\n",
       "      border-radius: 50%;\n",
       "      cursor: pointer;\n",
       "      display: none;\n",
       "      fill: #1967D2;\n",
       "      height: 32px;\n",
       "      padding: 0 0 0 0;\n",
       "      width: 32px;\n",
       "    }\n",
       "\n",
       "    .colab-df-convert:hover {\n",
       "      background-color: #E2EBFA;\n",
       "      box-shadow: 0px 1px 2px rgba(60, 64, 67, 0.3), 0px 1px 3px 1px rgba(60, 64, 67, 0.15);\n",
       "      fill: #174EA6;\n",
       "    }\n",
       "\n",
       "    [theme=dark] .colab-df-convert {\n",
       "      background-color: #3B4455;\n",
       "      fill: #D2E3FC;\n",
       "    }\n",
       "\n",
       "    [theme=dark] .colab-df-convert:hover {\n",
       "      background-color: #434B5C;\n",
       "      box-shadow: 0px 1px 3px 1px rgba(0, 0, 0, 0.15);\n",
       "      filter: drop-shadow(0px 1px 2px rgba(0, 0, 0, 0.3));\n",
       "      fill: #FFFFFF;\n",
       "    }\n",
       "  </style>\n",
       "\n",
       "      <script>\n",
       "        const buttonEl =\n",
       "          document.querySelector('#df-b9a345be-3d41-4052-a82d-f2ddff923ad0 button.colab-df-convert');\n",
       "        buttonEl.style.display =\n",
       "          google.colab.kernel.accessAllowed ? 'block' : 'none';\n",
       "\n",
       "        async function convertToInteractive(key) {\n",
       "          const element = document.querySelector('#df-b9a345be-3d41-4052-a82d-f2ddff923ad0');\n",
       "          const dataTable =\n",
       "            await google.colab.kernel.invokeFunction('convertToInteractive',\n",
       "                                                     [key], {});\n",
       "          if (!dataTable) return;\n",
       "\n",
       "          const docLinkHtml = 'Like what you see? Visit the ' +\n",
       "            '<a target=\"_blank\" href=https://colab.research.google.com/notebooks/data_table.ipynb>data table notebook</a>'\n",
       "            + ' to learn more about interactive tables.';\n",
       "          element.innerHTML = '';\n",
       "          dataTable['output_type'] = 'display_data';\n",
       "          await google.colab.output.renderOutput(dataTable, element);\n",
       "          const docLink = document.createElement('div');\n",
       "          docLink.innerHTML = docLinkHtml;\n",
       "          element.appendChild(docLink);\n",
       "        }\n",
       "      </script>\n",
       "    </div>\n",
       "  </div>\n",
       "  "
      ],
      "text/plain": [
       "                            MED  COUNT\n",
       "0                     NaCl 0.9%  76138\n",
       "1                   Dextrose 5%  60536\n",
       "2                      Solution  27506\n",
       "3                      Propofol  20005\n",
       "4                     PO Intake  19287\n",
       "..                          ...    ...\n",
       "195            Nutren 2.0 (1/2)      7\n",
       "196            Nutren 2.0 (3/4)      7\n",
       "197              Valgancyclovir      7\n",
       "198  Magnesium Sulfate (OB-GYN)      5\n",
       "199                  Atovaquone      5\n",
       "\n",
       "[200 rows x 2 columns]"
      ]
     },
     "execution_count": 30,
     "metadata": {},
     "output_type": "execute_result"
    }
   ],
   "source": [
    "top200_meds = pd.DataFrame(top200_meds, columns=['LABEL']).reset_index()\n",
    "top200_meds.rename(columns = {'index':'MED', 'LABEL':'COUNT'}, inplace = True)\n",
    "top200_meds"
   ]
  },
  {
   "cell_type": "code",
   "execution_count": 31,
   "metadata": {
    "executionInfo": {
     "elapsed": 81,
     "status": "ok",
     "timestamp": 1655449345842,
     "user": {
      "displayName": "PAVAN KUMAR REDDY YANNAM",
      "userId": "18283848664285680593"
     },
     "user_tz": -330
    },
    "id": "52QdoIzvsR-A"
   },
   "outputs": [],
   "source": [
    "patient_presc = inputevents_mv_1"
   ]
  },
  {
   "cell_type": "code",
   "execution_count": 32,
   "metadata": {
    "executionInfo": {
     "elapsed": 85,
     "status": "ok",
     "timestamp": 1655449345848,
     "user": {
      "displayName": "PAVAN KUMAR REDDY YANNAM",
      "userId": "18283848664285680593"
     },
     "user_tz": -330
    },
    "id": "CIaDpMI1sR-B"
   },
   "outputs": [],
   "source": [
    "patient_presc = remove_multiple_admissions(patient_presc)\n",
    "patient_presc = inputevents_mv_1[inputevents_mv_1['LABEL'].isin(top200_meds['MED'])]"
   ]
  },
  {
   "cell_type": "code",
   "execution_count": 33,
   "metadata": {
    "colab": {
     "base_uri": "https://localhost:8080/",
     "height": 0
    },
    "executionInfo": {
     "elapsed": 87,
     "status": "ok",
     "timestamp": 1655449345854,
     "user": {
      "displayName": "PAVAN KUMAR REDDY YANNAM",
      "userId": "18283848664285680593"
     },
     "user_tz": -330
    },
    "id": "S-gXaeLOIMJ9",
    "outputId": "0e0c475e-a25e-4fe1-d637-5b65f8d3b07a"
   },
   "outputs": [
    {
     "data": {
      "text/html": [
       "\n",
       "  <div id=\"df-b631c58a-5897-46e2-a5f2-9cbd086394ca\">\n",
       "    <div class=\"colab-df-container\">\n",
       "      <div>\n",
       "<style scoped>\n",
       "    .dataframe tbody tr th:only-of-type {\n",
       "        vertical-align: middle;\n",
       "    }\n",
       "\n",
       "    .dataframe tbody tr th {\n",
       "        vertical-align: top;\n",
       "    }\n",
       "\n",
       "    .dataframe thead th {\n",
       "        text-align: right;\n",
       "    }\n",
       "</style>\n",
       "<table border=\"1\" class=\"dataframe\">\n",
       "  <thead>\n",
       "    <tr style=\"text-align: right;\">\n",
       "      <th></th>\n",
       "      <th>SUBJECT_ID</th>\n",
       "      <th>HADM_ID</th>\n",
       "      <th>ICUSTAY_ID</th>\n",
       "      <th>STARTTIME</th>\n",
       "      <th>ENDTIME</th>\n",
       "      <th>ITEMID</th>\n",
       "      <th>AMOUNT</th>\n",
       "      <th>AMOUNTUOM</th>\n",
       "      <th>UNITNAME</th>\n",
       "      <th>ORDERCATEGORYNAME</th>\n",
       "      <th>LABEL</th>\n",
       "      <th>CATEGORY</th>\n",
       "      <th>PARAM_TYPE</th>\n",
       "    </tr>\n",
       "  </thead>\n",
       "  <tbody>\n",
       "    <tr>\n",
       "      <th>0</th>\n",
       "      <td>27063</td>\n",
       "      <td>139787</td>\n",
       "      <td>223259.0</td>\n",
       "      <td>2133-02-05 06:29:00</td>\n",
       "      <td>2133-02-05 08:45:00</td>\n",
       "      <td>225166</td>\n",
       "      <td>6.774532</td>\n",
       "      <td>mEq</td>\n",
       "      <td>mEq</td>\n",
       "      <td>02-Fluids (Crystalloids)</td>\n",
       "      <td>Potassium Chloride</td>\n",
       "      <td>Medications</td>\n",
       "      <td>Solution</td>\n",
       "    </tr>\n",
       "    <tr>\n",
       "      <th>1</th>\n",
       "      <td>27063</td>\n",
       "      <td>139787</td>\n",
       "      <td>223259.0</td>\n",
       "      <td>2133-02-05 05:34:00</td>\n",
       "      <td>2133-02-05 06:30:00</td>\n",
       "      <td>225166</td>\n",
       "      <td>2.813300</td>\n",
       "      <td>mEq</td>\n",
       "      <td>mEq</td>\n",
       "      <td>02-Fluids (Crystalloids)</td>\n",
       "      <td>Potassium Chloride</td>\n",
       "      <td>Medications</td>\n",
       "      <td>Solution</td>\n",
       "    </tr>\n",
       "    <tr>\n",
       "      <th>2</th>\n",
       "      <td>27063</td>\n",
       "      <td>139787</td>\n",
       "      <td>223259.0</td>\n",
       "      <td>2133-02-05 05:34:00</td>\n",
       "      <td>2133-02-05 07:03:00</td>\n",
       "      <td>225166</td>\n",
       "      <td>4.433333</td>\n",
       "      <td>mEq</td>\n",
       "      <td>mEq</td>\n",
       "      <td>02-Fluids (Crystalloids)</td>\n",
       "      <td>Potassium Chloride</td>\n",
       "      <td>Medications</td>\n",
       "      <td>Solution</td>\n",
       "    </tr>\n",
       "    <tr>\n",
       "      <th>3</th>\n",
       "      <td>27063</td>\n",
       "      <td>139787</td>\n",
       "      <td>223259.0</td>\n",
       "      <td>2133-02-05 09:43:00</td>\n",
       "      <td>2133-02-05 12:30:00</td>\n",
       "      <td>225166</td>\n",
       "      <td>8.360021</td>\n",
       "      <td>mEq</td>\n",
       "      <td>mEq</td>\n",
       "      <td>02-Fluids (Crystalloids)</td>\n",
       "      <td>Potassium Chloride</td>\n",
       "      <td>Medications</td>\n",
       "      <td>Solution</td>\n",
       "    </tr>\n",
       "    <tr>\n",
       "      <th>4</th>\n",
       "      <td>27063</td>\n",
       "      <td>139787</td>\n",
       "      <td>223259.0</td>\n",
       "      <td>2133-02-05 05:34:00</td>\n",
       "      <td>2133-02-05 05:35:00</td>\n",
       "      <td>225166</td>\n",
       "      <td>0.050060</td>\n",
       "      <td>mEq</td>\n",
       "      <td>mEq</td>\n",
       "      <td>02-Fluids (Crystalloids)</td>\n",
       "      <td>Potassium Chloride</td>\n",
       "      <td>Medications</td>\n",
       "      <td>Solution</td>\n",
       "    </tr>\n",
       "    <tr>\n",
       "      <th>...</th>\n",
       "      <td>...</td>\n",
       "      <td>...</td>\n",
       "      <td>...</td>\n",
       "      <td>...</td>\n",
       "      <td>...</td>\n",
       "      <td>...</td>\n",
       "      <td>...</td>\n",
       "      <td>...</td>\n",
       "      <td>...</td>\n",
       "      <td>...</td>\n",
       "      <td>...</td>\n",
       "      <td>...</td>\n",
       "      <td>...</td>\n",
       "    </tr>\n",
       "    <tr>\n",
       "      <th>499991</th>\n",
       "      <td>65382</td>\n",
       "      <td>163918</td>\n",
       "      <td>288487.0</td>\n",
       "      <td>2132-12-09 04:42:00</td>\n",
       "      <td>2132-12-09 08:49:00</td>\n",
       "      <td>227692</td>\n",
       "      <td>0.999294</td>\n",
       "      <td>mg</td>\n",
       "      <td>mg</td>\n",
       "      <td>01-Drips</td>\n",
       "      <td>Isuprel</td>\n",
       "      <td>Medications</td>\n",
       "      <td>Solution</td>\n",
       "    </tr>\n",
       "    <tr>\n",
       "      <th>499992</th>\n",
       "      <td>65382</td>\n",
       "      <td>163918</td>\n",
       "      <td>288487.0</td>\n",
       "      <td>2132-12-09 01:36:00</td>\n",
       "      <td>2132-12-09 01:49:00</td>\n",
       "      <td>227692</td>\n",
       "      <td>0.117747</td>\n",
       "      <td>mg</td>\n",
       "      <td>mg</td>\n",
       "      <td>01-Drips</td>\n",
       "      <td>Isuprel</td>\n",
       "      <td>Medications</td>\n",
       "      <td>Solution</td>\n",
       "    </tr>\n",
       "    <tr>\n",
       "      <th>499993</th>\n",
       "      <td>65382</td>\n",
       "      <td>163918</td>\n",
       "      <td>288487.0</td>\n",
       "      <td>2132-12-09 02:10:00</td>\n",
       "      <td>2132-12-09 02:20:00</td>\n",
       "      <td>227692</td>\n",
       "      <td>0.060357</td>\n",
       "      <td>mg</td>\n",
       "      <td>mg</td>\n",
       "      <td>01-Drips</td>\n",
       "      <td>Isuprel</td>\n",
       "      <td>Medications</td>\n",
       "      <td>Solution</td>\n",
       "    </tr>\n",
       "    <tr>\n",
       "      <th>499994</th>\n",
       "      <td>65382</td>\n",
       "      <td>163918</td>\n",
       "      <td>288487.0</td>\n",
       "      <td>2132-12-09 04:45:00</td>\n",
       "      <td>2132-12-09 14:50:00</td>\n",
       "      <td>227692</td>\n",
       "      <td>2.420000</td>\n",
       "      <td>mg</td>\n",
       "      <td>mg</td>\n",
       "      <td>01-Drips</td>\n",
       "      <td>Isuprel</td>\n",
       "      <td>Medications</td>\n",
       "      <td>Solution</td>\n",
       "    </tr>\n",
       "    <tr>\n",
       "      <th>499995</th>\n",
       "      <td>65382</td>\n",
       "      <td>163918</td>\n",
       "      <td>288487.0</td>\n",
       "      <td>2132-12-09 02:35:00</td>\n",
       "      <td>2132-12-09 02:36:00</td>\n",
       "      <td>227692</td>\n",
       "      <td>0.004046</td>\n",
       "      <td>mg</td>\n",
       "      <td>mg</td>\n",
       "      <td>01-Drips</td>\n",
       "      <td>Isuprel</td>\n",
       "      <td>Medications</td>\n",
       "      <td>Solution</td>\n",
       "    </tr>\n",
       "  </tbody>\n",
       "</table>\n",
       "<p>499960 rows × 13 columns</p>\n",
       "</div>\n",
       "      <button class=\"colab-df-convert\" onclick=\"convertToInteractive('df-b631c58a-5897-46e2-a5f2-9cbd086394ca')\"\n",
       "              title=\"Convert this dataframe to an interactive table.\"\n",
       "              style=\"display:none;\">\n",
       "        \n",
       "  <svg xmlns=\"http://www.w3.org/2000/svg\" height=\"24px\"viewBox=\"0 0 24 24\"\n",
       "       width=\"24px\">\n",
       "    <path d=\"M0 0h24v24H0V0z\" fill=\"none\"/>\n",
       "    <path d=\"M18.56 5.44l.94 2.06.94-2.06 2.06-.94-2.06-.94-.94-2.06-.94 2.06-2.06.94zm-11 1L8.5 8.5l.94-2.06 2.06-.94-2.06-.94L8.5 2.5l-.94 2.06-2.06.94zm10 10l.94 2.06.94-2.06 2.06-.94-2.06-.94-.94-2.06-.94 2.06-2.06.94z\"/><path d=\"M17.41 7.96l-1.37-1.37c-.4-.4-.92-.59-1.43-.59-.52 0-1.04.2-1.43.59L10.3 9.45l-7.72 7.72c-.78.78-.78 2.05 0 2.83L4 21.41c.39.39.9.59 1.41.59.51 0 1.02-.2 1.41-.59l7.78-7.78 2.81-2.81c.8-.78.8-2.07 0-2.86zM5.41 20L4 18.59l7.72-7.72 1.47 1.35L5.41 20z\"/>\n",
       "  </svg>\n",
       "      </button>\n",
       "      \n",
       "  <style>\n",
       "    .colab-df-container {\n",
       "      display:flex;\n",
       "      flex-wrap:wrap;\n",
       "      gap: 12px;\n",
       "    }\n",
       "\n",
       "    .colab-df-convert {\n",
       "      background-color: #E8F0FE;\n",
       "      border: none;\n",
       "      border-radius: 50%;\n",
       "      cursor: pointer;\n",
       "      display: none;\n",
       "      fill: #1967D2;\n",
       "      height: 32px;\n",
       "      padding: 0 0 0 0;\n",
       "      width: 32px;\n",
       "    }\n",
       "\n",
       "    .colab-df-convert:hover {\n",
       "      background-color: #E2EBFA;\n",
       "      box-shadow: 0px 1px 2px rgba(60, 64, 67, 0.3), 0px 1px 3px 1px rgba(60, 64, 67, 0.15);\n",
       "      fill: #174EA6;\n",
       "    }\n",
       "\n",
       "    [theme=dark] .colab-df-convert {\n",
       "      background-color: #3B4455;\n",
       "      fill: #D2E3FC;\n",
       "    }\n",
       "\n",
       "    [theme=dark] .colab-df-convert:hover {\n",
       "      background-color: #434B5C;\n",
       "      box-shadow: 0px 1px 3px 1px rgba(0, 0, 0, 0.15);\n",
       "      filter: drop-shadow(0px 1px 2px rgba(0, 0, 0, 0.3));\n",
       "      fill: #FFFFFF;\n",
       "    }\n",
       "  </style>\n",
       "\n",
       "      <script>\n",
       "        const buttonEl =\n",
       "          document.querySelector('#df-b631c58a-5897-46e2-a5f2-9cbd086394ca button.colab-df-convert');\n",
       "        buttonEl.style.display =\n",
       "          google.colab.kernel.accessAllowed ? 'block' : 'none';\n",
       "\n",
       "        async function convertToInteractive(key) {\n",
       "          const element = document.querySelector('#df-b631c58a-5897-46e2-a5f2-9cbd086394ca');\n",
       "          const dataTable =\n",
       "            await google.colab.kernel.invokeFunction('convertToInteractive',\n",
       "                                                     [key], {});\n",
       "          if (!dataTable) return;\n",
       "\n",
       "          const docLinkHtml = 'Like what you see? Visit the ' +\n",
       "            '<a target=\"_blank\" href=https://colab.research.google.com/notebooks/data_table.ipynb>data table notebook</a>'\n",
       "            + ' to learn more about interactive tables.';\n",
       "          element.innerHTML = '';\n",
       "          dataTable['output_type'] = 'display_data';\n",
       "          await google.colab.output.renderOutput(dataTable, element);\n",
       "          const docLink = document.createElement('div');\n",
       "          docLink.innerHTML = docLinkHtml;\n",
       "          element.appendChild(docLink);\n",
       "        }\n",
       "      </script>\n",
       "    </div>\n",
       "  </div>\n",
       "  "
      ],
      "text/plain": [
       "        SUBJECT_ID  HADM_ID  ICUSTAY_ID           STARTTIME  \\\n",
       "0            27063   139787    223259.0 2133-02-05 06:29:00   \n",
       "1            27063   139787    223259.0 2133-02-05 05:34:00   \n",
       "2            27063   139787    223259.0 2133-02-05 05:34:00   \n",
       "3            27063   139787    223259.0 2133-02-05 09:43:00   \n",
       "4            27063   139787    223259.0 2133-02-05 05:34:00   \n",
       "...            ...      ...         ...                 ...   \n",
       "499991       65382   163918    288487.0 2132-12-09 04:42:00   \n",
       "499992       65382   163918    288487.0 2132-12-09 01:36:00   \n",
       "499993       65382   163918    288487.0 2132-12-09 02:10:00   \n",
       "499994       65382   163918    288487.0 2132-12-09 04:45:00   \n",
       "499995       65382   163918    288487.0 2132-12-09 02:35:00   \n",
       "\n",
       "                   ENDTIME  ITEMID    AMOUNT AMOUNTUOM UNITNAME  \\\n",
       "0      2133-02-05 08:45:00  225166  6.774532       mEq      mEq   \n",
       "1      2133-02-05 06:30:00  225166  2.813300       mEq      mEq   \n",
       "2      2133-02-05 07:03:00  225166  4.433333       mEq      mEq   \n",
       "3      2133-02-05 12:30:00  225166  8.360021       mEq      mEq   \n",
       "4      2133-02-05 05:35:00  225166  0.050060       mEq      mEq   \n",
       "...                    ...     ...       ...       ...      ...   \n",
       "499991 2132-12-09 08:49:00  227692  0.999294        mg       mg   \n",
       "499992 2132-12-09 01:49:00  227692  0.117747        mg       mg   \n",
       "499993 2132-12-09 02:20:00  227692  0.060357        mg       mg   \n",
       "499994 2132-12-09 14:50:00  227692  2.420000        mg       mg   \n",
       "499995 2132-12-09 02:36:00  227692  0.004046        mg       mg   \n",
       "\n",
       "               ORDERCATEGORYNAME               LABEL     CATEGORY PARAM_TYPE  \n",
       "0       02-Fluids (Crystalloids)  Potassium Chloride  Medications   Solution  \n",
       "1       02-Fluids (Crystalloids)  Potassium Chloride  Medications   Solution  \n",
       "2       02-Fluids (Crystalloids)  Potassium Chloride  Medications   Solution  \n",
       "3       02-Fluids (Crystalloids)  Potassium Chloride  Medications   Solution  \n",
       "4       02-Fluids (Crystalloids)  Potassium Chloride  Medications   Solution  \n",
       "...                          ...                 ...          ...        ...  \n",
       "499991                  01-Drips             Isuprel  Medications   Solution  \n",
       "499992                  01-Drips             Isuprel  Medications   Solution  \n",
       "499993                  01-Drips             Isuprel  Medications   Solution  \n",
       "499994                  01-Drips             Isuprel  Medications   Solution  \n",
       "499995                  01-Drips             Isuprel  Medications   Solution  \n",
       "\n",
       "[499960 rows x 13 columns]"
      ]
     },
     "execution_count": 33,
     "metadata": {},
     "output_type": "execute_result"
    }
   ],
   "source": [
    "patient_presc"
   ]
  },
  {
   "cell_type": "code",
   "execution_count": 34,
   "metadata": {
    "executionInfo": {
     "elapsed": 966,
     "status": "ok",
     "timestamp": 1655449346738,
     "user": {
      "displayName": "PAVAN KUMAR REDDY YANNAM",
      "userId": "18283848664285680593"
     },
     "user_tz": -330
    },
    "id": "9Zz6CuYNsR-D"
   },
   "outputs": [],
   "source": [
    "lab_measurements = lab_measurements[lab_measurements.duplicated(subset=['SUBJECT_ID','LABEL'],keep=False)]\n",
    "lab_measurements = lab_measurements[lab_measurements['HADM_ID'].isin(patient_presc['HADM_ID'])]"
   ]
  },
  {
   "cell_type": "markdown",
   "metadata": {
    "id": "0qEu9kVPZRMF"
   },
   "source": [
    "## Generating Lab Test<>Meds Pairings"
   ]
  },
  {
   "cell_type": "code",
   "execution_count": 35,
   "metadata": {
    "executionInfo": {
     "elapsed": 75,
     "status": "ok",
     "timestamp": 1655449346743,
     "user": {
      "displayName": "PAVAN KUMAR REDDY YANNAM",
      "userId": "18283848664285680593"
     },
     "user_tz": -330
    },
    "id": "Rp9QPAQwsR-E"
   },
   "outputs": [],
   "source": [
    "def labpairing(medname, prescdf, labdf, labname):\n",
    "    \"\"\"Pairs the drug input with each lab test\n",
    "\n",
    "    Parameters:\n",
    "    drugname (String): Drug Name\n",
    "    prescdf (DataFrame): Dataframe containing the prescription data\n",
    "    labdf (DataFrame): Dataframe containing the lab measurement data\n",
    "    labname (DataFrame): Lab Test Name\n",
    "    Returns:\n",
    "    DataFrame: Contains all the rows of values and times for that particular drug lab apir\n",
    "  \n",
    "    \"\"\"\n",
    "    # Select patients who have taken the drug\n",
    "    prescdf = prescdf[prescdf['LABEL']==medname]\n",
    "    prescdf = prescdf.drop_duplicates(subset=['SUBJECT_ID'], keep='first')\n",
    "\n",
    "    # Select lab measurements of patients who have taken the drug\n",
    "    labdf = labdf[labdf['HADM_ID'].isin(prescdf['HADM_ID'])]\n",
    "\n",
    "    # Selects the lab measurement entered\n",
    "    drug_lab_specific = labdf[labdf['LABEL']==labname]\n",
    "    mergeddf = pd.merge(drug_lab_specific, prescdf, on=['HADM_ID','SUBJECT_ID'])\n",
    "\n",
    "    # Get time from prescription and choose before and after lab measurements (within 24hrs=1day)\n",
    "    mergeddf['timeFromPrescription'] = mergeddf['CHARTTIME'] - mergeddf['STARTTIME']\n",
    "    # mergeddf = mergeddf[(mergeddf['timeFromPrescription']>datetime.timedelta(days=-1)) & (mergeddf['timeFromPrescription']<datetime.timedelta(days=1))]\n",
    "    posmergeddf = mergeddf.loc[mergeddf.timeFromPrescription > datetime.timedelta(days=0)]\n",
    "    negmergeddf = mergeddf.loc[mergeddf.timeFromPrescription < datetime.timedelta(days=0)]\n",
    "    \n",
    "    # Only keep values for which we have both before and after\n",
    "    posmergeddf = posmergeddf[posmergeddf['HADM_ID'].isin(negmergeddf['HADM_ID'])]\n",
    "    negmergeddf = negmergeddf[negmergeddf['HADM_ID'].isin(posmergeddf['HADM_ID'])]\n",
    "\n",
    "    #Select the values closest to 0\n",
    "    posmergeddf = posmergeddf.loc[posmergeddf.groupby('SUBJECT_ID').timeFromPrescription.idxmin()]\n",
    "    negmergeddf = negmergeddf.loc[negmergeddf.groupby('SUBJECT_ID').timeFromPrescription.idxmax()]\n",
    "    finaldf = negmergeddf.merge(posmergeddf,on=['HADM_ID','SUBJECT_ID'])\n",
    "    \n",
    "    return finaldf"
   ]
  },
  {
   "cell_type": "markdown",
   "metadata": {
    "id": "jDGXfWnWZZcx"
   },
   "source": [
    "## Performing Mannwhitney Test and T-Test"
   ]
  },
  {
   "cell_type": "code",
   "execution_count": 37,
   "metadata": {
    "executionInfo": {
     "elapsed": 60,
     "status": "ok",
     "timestamp": 1655449362429,
     "user": {
      "displayName": "PAVAN KUMAR REDDY YANNAM",
      "userId": "18283848664285680593"
     },
     "user_tz": -330
    },
    "id": "msW6bKoKsR-G"
   },
   "outputs": [],
   "source": [
    "def postprocessing(df):\n",
    "    \"\"\"Gets the mean, standard deviation, mann whitney and t-test p values. Converts time delta to hours\n",
    "  \n",
    "    Parameters:\n",
    "    df (DataFrame): Dataframe containing before and after lab test values and time values\n",
    "    Returns:\n",
    "    List:Containing mean, standard deviation, mann whitney and t-test p values and count\n",
    "  \n",
    "    \"\"\"\n",
    "    df['timeFromPrescription_x'] = pd.to_numeric(df['timeFromPrescription_x'].dt.seconds)\n",
    "    df['timeFromPrescription_x']/=3600\n",
    "    df['timeFromPrescription_y'] = pd.to_numeric(df['timeFromPrescription_y'].dt.seconds)\n",
    "    df['timeFromPrescription_y']/=3600\n",
    "    df_before_mean = df['VALUENUM_x'].mean()\n",
    "    df_after_mean = df['VALUENUM_y'].mean()\n",
    "    df_before_std = df['VALUENUM_x'].std()\n",
    "    df_after_std = df['VALUENUM_y'].std()\n",
    "    df_before_time_mean = df['timeFromPrescription_x'].mean()\n",
    "    df_after_time_mean = df['timeFromPrescription_y'].mean()\n",
    "    df_before_time_std = df['timeFromPrescription_x'].std()\n",
    "    df_after_time_std = df['timeFromPrescription_y'].std()\n",
    "    mannwhitneypvalue = mannwhitneyu(df['VALUENUM_x'], df['VALUENUM_y'])[1]\n",
    "    ttestpvalue = stats.ttest_ind(df['VALUENUM_x'], df['VALUENUM_y'])[1]\n",
    "    lengthofdf = len(df)\n",
    "    csvrow=[lengthofdf,df_before_mean,df_before_std,df_before_time_mean,df_before_time_std,df_after_mean,df_after_std,df_after_time_mean,df_after_time_std,mannwhitneypvalue,ttestpvalue]\n",
    "    return csvrow\n",
    "\n",
    " "
   ]
  },
  {
   "cell_type": "code",
   "execution_count": 38,
   "metadata": {
    "executionInfo": {
     "elapsed": 65,
     "status": "ok",
     "timestamp": 1655449362436,
     "user": {
      "displayName": "PAVAN KUMAR REDDY YANNAM",
      "userId": "18283848664285680593"
     },
     "user_tz": -330
    },
    "id": "Dl4fAycjRiL7"
   },
   "outputs": [],
   "source": [
    "drug_lab = labpairing('NaCl 0.9%', patient_presc, lab_measurements, 'Calcium, Total')"
   ]
  },
  {
   "cell_type": "code",
   "execution_count": 39,
   "metadata": {
    "colab": {
     "base_uri": "https://localhost:8080/",
     "height": 0
    },
    "executionInfo": {
     "elapsed": 64,
     "status": "ok",
     "timestamp": 1655449362443,
     "user": {
      "displayName": "PAVAN KUMAR REDDY YANNAM",
      "userId": "18283848664285680593"
     },
     "user_tz": -330
    },
    "id": "PFFs0vFmp_Th",
    "outputId": "4b0a40c2-ba20-40e5-d61e-35a3c9a041c8"
   },
   "outputs": [
    {
     "data": {
      "text/html": [
       "\n",
       "  <div id=\"df-7f903fc2-0372-4310-8d87-46cdf02f8c53\">\n",
       "    <div class=\"colab-df-container\">\n",
       "      <div>\n",
       "<style scoped>\n",
       "    .dataframe tbody tr th:only-of-type {\n",
       "        vertical-align: middle;\n",
       "    }\n",
       "\n",
       "    .dataframe tbody tr th {\n",
       "        vertical-align: top;\n",
       "    }\n",
       "\n",
       "    .dataframe thead th {\n",
       "        text-align: right;\n",
       "    }\n",
       "</style>\n",
       "<table border=\"1\" class=\"dataframe\">\n",
       "  <thead>\n",
       "    <tr style=\"text-align: right;\">\n",
       "      <th></th>\n",
       "      <th>SUBJECT_ID</th>\n",
       "      <th>HADM_ID</th>\n",
       "      <th>LABEL_x_x</th>\n",
       "      <th>VALUENUM_x</th>\n",
       "      <th>VALUEUOM_x</th>\n",
       "      <th>CHARTTIME_x</th>\n",
       "      <th>ICUSTAY_ID_x</th>\n",
       "      <th>STARTTIME_x</th>\n",
       "      <th>ENDTIME_x</th>\n",
       "      <th>ITEMID_x</th>\n",
       "      <th>...</th>\n",
       "      <th>ENDTIME_y</th>\n",
       "      <th>ITEMID_y</th>\n",
       "      <th>AMOUNT_y</th>\n",
       "      <th>AMOUNTUOM_y</th>\n",
       "      <th>UNITNAME_y</th>\n",
       "      <th>ORDERCATEGORYNAME_y</th>\n",
       "      <th>LABEL_y_y</th>\n",
       "      <th>CATEGORY_y</th>\n",
       "      <th>PARAM_TYPE_y</th>\n",
       "      <th>timeFromPrescription_y</th>\n",
       "    </tr>\n",
       "  </thead>\n",
       "  <tbody>\n",
       "    <tr>\n",
       "      <th>0</th>\n",
       "      <td>109</td>\n",
       "      <td>147469.0</td>\n",
       "      <td>Calcium, Total</td>\n",
       "      <td>7.5</td>\n",
       "      <td>mg/dL</td>\n",
       "      <td>2141-06-11 12:07:00</td>\n",
       "      <td>253139.0</td>\n",
       "      <td>2141-06-11 12:14:00</td>\n",
       "      <td>2141-06-11 14:30:00</td>\n",
       "      <td>225158</td>\n",
       "      <td>...</td>\n",
       "      <td>2141-06-11 14:30:00</td>\n",
       "      <td>225158</td>\n",
       "      <td>73.593073</td>\n",
       "      <td>ml</td>\n",
       "      <td>mL</td>\n",
       "      <td>01-Drips</td>\n",
       "      <td>NaCl 0.9%</td>\n",
       "      <td>Fluids/Intake</td>\n",
       "      <td>Solution</td>\n",
       "      <td>0 days 08:15:00</td>\n",
       "    </tr>\n",
       "    <tr>\n",
       "      <th>1</th>\n",
       "      <td>124</td>\n",
       "      <td>138376.0</td>\n",
       "      <td>Calcium, Total</td>\n",
       "      <td>7.6</td>\n",
       "      <td>mg/dL</td>\n",
       "      <td>2166-01-28 01:02:00</td>\n",
       "      <td>256064.0</td>\n",
       "      <td>2166-01-28 22:54:00</td>\n",
       "      <td>2166-01-29 08:47:00</td>\n",
       "      <td>225158</td>\n",
       "      <td>...</td>\n",
       "      <td>2166-01-29 08:47:00</td>\n",
       "      <td>225158</td>\n",
       "      <td>1000.000035</td>\n",
       "      <td>ml</td>\n",
       "      <td>mL</td>\n",
       "      <td>02-Fluids (Crystalloids)</td>\n",
       "      <td>NaCl 0.9%</td>\n",
       "      <td>Fluids/Intake</td>\n",
       "      <td>Solution</td>\n",
       "      <td>0 days 03:50:00</td>\n",
       "    </tr>\n",
       "    <tr>\n",
       "      <th>2</th>\n",
       "      <td>222</td>\n",
       "      <td>188038.0</td>\n",
       "      <td>Calcium, Total</td>\n",
       "      <td>7.1</td>\n",
       "      <td>mg/dL</td>\n",
       "      <td>2142-06-25 03:51:00</td>\n",
       "      <td>260665.0</td>\n",
       "      <td>2142-06-26 20:30:00</td>\n",
       "      <td>2142-06-26 21:30:00</td>\n",
       "      <td>225158</td>\n",
       "      <td>...</td>\n",
       "      <td>2142-06-26 21:30:00</td>\n",
       "      <td>225158</td>\n",
       "      <td>499.999980</td>\n",
       "      <td>ml</td>\n",
       "      <td>mL</td>\n",
       "      <td>02-Fluids (Crystalloids)</td>\n",
       "      <td>NaCl 0.9%</td>\n",
       "      <td>Fluids/Intake</td>\n",
       "      <td>Solution</td>\n",
       "      <td>0 days 06:12:00</td>\n",
       "    </tr>\n",
       "    <tr>\n",
       "      <th>3</th>\n",
       "      <td>384</td>\n",
       "      <td>122988.0</td>\n",
       "      <td>Calcium, Total</td>\n",
       "      <td>10.3</td>\n",
       "      <td>mg/dL</td>\n",
       "      <td>2163-03-09 15:50:00</td>\n",
       "      <td>279422.0</td>\n",
       "      <td>2163-03-09 23:00:00</td>\n",
       "      <td>2163-03-10 02:30:00</td>\n",
       "      <td>225158</td>\n",
       "      <td>...</td>\n",
       "      <td>2163-03-10 02:30:00</td>\n",
       "      <td>225158</td>\n",
       "      <td>141.786000</td>\n",
       "      <td>ml</td>\n",
       "      <td>mL</td>\n",
       "      <td>01-Drips</td>\n",
       "      <td>NaCl 0.9%</td>\n",
       "      <td>Fluids/Intake</td>\n",
       "      <td>Solution</td>\n",
       "      <td>0 days 05:38:00</td>\n",
       "    </tr>\n",
       "    <tr>\n",
       "      <th>4</th>\n",
       "      <td>402</td>\n",
       "      <td>167615.0</td>\n",
       "      <td>Calcium, Total</td>\n",
       "      <td>7.0</td>\n",
       "      <td>mg/dL</td>\n",
       "      <td>2156-11-12 11:30:00</td>\n",
       "      <td>299707.0</td>\n",
       "      <td>2156-11-12 17:54:00</td>\n",
       "      <td>2156-11-12 23:39:00</td>\n",
       "      <td>225158</td>\n",
       "      <td>...</td>\n",
       "      <td>2156-11-12 23:39:00</td>\n",
       "      <td>225158</td>\n",
       "      <td>99.999996</td>\n",
       "      <td>ml</td>\n",
       "      <td>mL</td>\n",
       "      <td>02-Fluids (Crystalloids)</td>\n",
       "      <td>NaCl 0.9%</td>\n",
       "      <td>Fluids/Intake</td>\n",
       "      <td>Solution</td>\n",
       "      <td>0 days 10:35:00</td>\n",
       "    </tr>\n",
       "    <tr>\n",
       "      <th>...</th>\n",
       "      <td>...</td>\n",
       "      <td>...</td>\n",
       "      <td>...</td>\n",
       "      <td>...</td>\n",
       "      <td>...</td>\n",
       "      <td>...</td>\n",
       "      <td>...</td>\n",
       "      <td>...</td>\n",
       "      <td>...</td>\n",
       "      <td>...</td>\n",
       "      <td>...</td>\n",
       "      <td>...</td>\n",
       "      <td>...</td>\n",
       "      <td>...</td>\n",
       "      <td>...</td>\n",
       "      <td>...</td>\n",
       "      <td>...</td>\n",
       "      <td>...</td>\n",
       "      <td>...</td>\n",
       "      <td>...</td>\n",
       "      <td>...</td>\n",
       "    </tr>\n",
       "    <tr>\n",
       "      <th>1038</th>\n",
       "      <td>99817</td>\n",
       "      <td>195557.0</td>\n",
       "      <td>Calcium, Total</td>\n",
       "      <td>7.1</td>\n",
       "      <td>mg/dL</td>\n",
       "      <td>2166-10-15 23:30:00</td>\n",
       "      <td>297406.0</td>\n",
       "      <td>2166-10-16 01:00:00</td>\n",
       "      <td>2166-10-16 01:20:00</td>\n",
       "      <td>225158</td>\n",
       "      <td>...</td>\n",
       "      <td>2166-10-16 01:20:00</td>\n",
       "      <td>225158</td>\n",
       "      <td>33.333332</td>\n",
       "      <td>ml</td>\n",
       "      <td>mL</td>\n",
       "      <td>02-Fluids (Crystalloids)</td>\n",
       "      <td>NaCl 0.9%</td>\n",
       "      <td>Fluids/Intake</td>\n",
       "      <td>Solution</td>\n",
       "      <td>0 days 01:57:00</td>\n",
       "    </tr>\n",
       "    <tr>\n",
       "      <th>1039</th>\n",
       "      <td>99938</td>\n",
       "      <td>103815.0</td>\n",
       "      <td>Calcium, Total</td>\n",
       "      <td>7.9</td>\n",
       "      <td>mg/dL</td>\n",
       "      <td>2200-10-30 02:22:00</td>\n",
       "      <td>296707.0</td>\n",
       "      <td>2200-10-31 04:12:00</td>\n",
       "      <td>2200-10-31 07:22:00</td>\n",
       "      <td>225158</td>\n",
       "      <td>...</td>\n",
       "      <td>2200-10-31 07:22:00</td>\n",
       "      <td>225158</td>\n",
       "      <td>47.945928</td>\n",
       "      <td>ml</td>\n",
       "      <td>mL</td>\n",
       "      <td>01-Drips</td>\n",
       "      <td>NaCl 0.9%</td>\n",
       "      <td>Fluids/Intake</td>\n",
       "      <td>Solution</td>\n",
       "      <td>0 days 23:12:00</td>\n",
       "    </tr>\n",
       "    <tr>\n",
       "      <th>1040</th>\n",
       "      <td>99939</td>\n",
       "      <td>159023.0</td>\n",
       "      <td>Calcium, Total</td>\n",
       "      <td>6.0</td>\n",
       "      <td>mg/dL</td>\n",
       "      <td>2110-03-22 05:35:00</td>\n",
       "      <td>252442.0</td>\n",
       "      <td>2110-03-22 13:32:00</td>\n",
       "      <td>2110-03-22 16:33:00</td>\n",
       "      <td>225158</td>\n",
       "      <td>...</td>\n",
       "      <td>2110-03-22 16:33:00</td>\n",
       "      <td>225158</td>\n",
       "      <td>15.083521</td>\n",
       "      <td>ml</td>\n",
       "      <td>mL</td>\n",
       "      <td>01-Drips</td>\n",
       "      <td>NaCl 0.9%</td>\n",
       "      <td>Fluids/Intake</td>\n",
       "      <td>Solution</td>\n",
       "      <td>0 days 07:26:00</td>\n",
       "    </tr>\n",
       "    <tr>\n",
       "      <th>1041</th>\n",
       "      <td>99973</td>\n",
       "      <td>150202.0</td>\n",
       "      <td>Calcium, Total</td>\n",
       "      <td>7.4</td>\n",
       "      <td>mg/dL</td>\n",
       "      <td>2180-11-27 04:41:00</td>\n",
       "      <td>275083.0</td>\n",
       "      <td>2180-11-27 07:59:00</td>\n",
       "      <td>2180-11-27 08:59:00</td>\n",
       "      <td>225158</td>\n",
       "      <td>...</td>\n",
       "      <td>2180-11-27 08:59:00</td>\n",
       "      <td>225158</td>\n",
       "      <td>49.999999</td>\n",
       "      <td>ml</td>\n",
       "      <td>mL</td>\n",
       "      <td>02-Fluids (Crystalloids)</td>\n",
       "      <td>NaCl 0.9%</td>\n",
       "      <td>Fluids/Intake</td>\n",
       "      <td>Solution</td>\n",
       "      <td>0 days 19:13:00</td>\n",
       "    </tr>\n",
       "    <tr>\n",
       "      <th>1042</th>\n",
       "      <td>99985</td>\n",
       "      <td>176670.0</td>\n",
       "      <td>Calcium, Total</td>\n",
       "      <td>7.4</td>\n",
       "      <td>mg/dL</td>\n",
       "      <td>2181-01-31 03:59:00</td>\n",
       "      <td>279638.0</td>\n",
       "      <td>2181-01-31 19:42:00</td>\n",
       "      <td>2181-01-31 21:04:00</td>\n",
       "      <td>225158</td>\n",
       "      <td>...</td>\n",
       "      <td>2181-01-31 21:04:00</td>\n",
       "      <td>225158</td>\n",
       "      <td>3.690367</td>\n",
       "      <td>ml</td>\n",
       "      <td>mL</td>\n",
       "      <td>01-Drips</td>\n",
       "      <td>NaCl 0.9%</td>\n",
       "      <td>Fluids/Intake</td>\n",
       "      <td>Solution</td>\n",
       "      <td>0 days 08:00:00</td>\n",
       "    </tr>\n",
       "  </tbody>\n",
       "</table>\n",
       "<p>1043 rows × 34 columns</p>\n",
       "</div>\n",
       "      <button class=\"colab-df-convert\" onclick=\"convertToInteractive('df-7f903fc2-0372-4310-8d87-46cdf02f8c53')\"\n",
       "              title=\"Convert this dataframe to an interactive table.\"\n",
       "              style=\"display:none;\">\n",
       "        \n",
       "  <svg xmlns=\"http://www.w3.org/2000/svg\" height=\"24px\"viewBox=\"0 0 24 24\"\n",
       "       width=\"24px\">\n",
       "    <path d=\"M0 0h24v24H0V0z\" fill=\"none\"/>\n",
       "    <path d=\"M18.56 5.44l.94 2.06.94-2.06 2.06-.94-2.06-.94-.94-2.06-.94 2.06-2.06.94zm-11 1L8.5 8.5l.94-2.06 2.06-.94-2.06-.94L8.5 2.5l-.94 2.06-2.06.94zm10 10l.94 2.06.94-2.06 2.06-.94-2.06-.94-.94-2.06-.94 2.06-2.06.94z\"/><path d=\"M17.41 7.96l-1.37-1.37c-.4-.4-.92-.59-1.43-.59-.52 0-1.04.2-1.43.59L10.3 9.45l-7.72 7.72c-.78.78-.78 2.05 0 2.83L4 21.41c.39.39.9.59 1.41.59.51 0 1.02-.2 1.41-.59l7.78-7.78 2.81-2.81c.8-.78.8-2.07 0-2.86zM5.41 20L4 18.59l7.72-7.72 1.47 1.35L5.41 20z\"/>\n",
       "  </svg>\n",
       "      </button>\n",
       "      \n",
       "  <style>\n",
       "    .colab-df-container {\n",
       "      display:flex;\n",
       "      flex-wrap:wrap;\n",
       "      gap: 12px;\n",
       "    }\n",
       "\n",
       "    .colab-df-convert {\n",
       "      background-color: #E8F0FE;\n",
       "      border: none;\n",
       "      border-radius: 50%;\n",
       "      cursor: pointer;\n",
       "      display: none;\n",
       "      fill: #1967D2;\n",
       "      height: 32px;\n",
       "      padding: 0 0 0 0;\n",
       "      width: 32px;\n",
       "    }\n",
       "\n",
       "    .colab-df-convert:hover {\n",
       "      background-color: #E2EBFA;\n",
       "      box-shadow: 0px 1px 2px rgba(60, 64, 67, 0.3), 0px 1px 3px 1px rgba(60, 64, 67, 0.15);\n",
       "      fill: #174EA6;\n",
       "    }\n",
       "\n",
       "    [theme=dark] .colab-df-convert {\n",
       "      background-color: #3B4455;\n",
       "      fill: #D2E3FC;\n",
       "    }\n",
       "\n",
       "    [theme=dark] .colab-df-convert:hover {\n",
       "      background-color: #434B5C;\n",
       "      box-shadow: 0px 1px 3px 1px rgba(0, 0, 0, 0.15);\n",
       "      filter: drop-shadow(0px 1px 2px rgba(0, 0, 0, 0.3));\n",
       "      fill: #FFFFFF;\n",
       "    }\n",
       "  </style>\n",
       "\n",
       "      <script>\n",
       "        const buttonEl =\n",
       "          document.querySelector('#df-7f903fc2-0372-4310-8d87-46cdf02f8c53 button.colab-df-convert');\n",
       "        buttonEl.style.display =\n",
       "          google.colab.kernel.accessAllowed ? 'block' : 'none';\n",
       "\n",
       "        async function convertToInteractive(key) {\n",
       "          const element = document.querySelector('#df-7f903fc2-0372-4310-8d87-46cdf02f8c53');\n",
       "          const dataTable =\n",
       "            await google.colab.kernel.invokeFunction('convertToInteractive',\n",
       "                                                     [key], {});\n",
       "          if (!dataTable) return;\n",
       "\n",
       "          const docLinkHtml = 'Like what you see? Visit the ' +\n",
       "            '<a target=\"_blank\" href=https://colab.research.google.com/notebooks/data_table.ipynb>data table notebook</a>'\n",
       "            + ' to learn more about interactive tables.';\n",
       "          element.innerHTML = '';\n",
       "          dataTable['output_type'] = 'display_data';\n",
       "          await google.colab.output.renderOutput(dataTable, element);\n",
       "          const docLink = document.createElement('div');\n",
       "          docLink.innerHTML = docLinkHtml;\n",
       "          element.appendChild(docLink);\n",
       "        }\n",
       "      </script>\n",
       "    </div>\n",
       "  </div>\n",
       "  "
      ],
      "text/plain": [
       "      SUBJECT_ID   HADM_ID       LABEL_x_x  VALUENUM_x VALUEUOM_x  \\\n",
       "0            109  147469.0  Calcium, Total         7.5      mg/dL   \n",
       "1            124  138376.0  Calcium, Total         7.6      mg/dL   \n",
       "2            222  188038.0  Calcium, Total         7.1      mg/dL   \n",
       "3            384  122988.0  Calcium, Total        10.3      mg/dL   \n",
       "4            402  167615.0  Calcium, Total         7.0      mg/dL   \n",
       "...          ...       ...             ...         ...        ...   \n",
       "1038       99817  195557.0  Calcium, Total         7.1      mg/dL   \n",
       "1039       99938  103815.0  Calcium, Total         7.9      mg/dL   \n",
       "1040       99939  159023.0  Calcium, Total         6.0      mg/dL   \n",
       "1041       99973  150202.0  Calcium, Total         7.4      mg/dL   \n",
       "1042       99985  176670.0  Calcium, Total         7.4      mg/dL   \n",
       "\n",
       "             CHARTTIME_x  ICUSTAY_ID_x         STARTTIME_x  \\\n",
       "0    2141-06-11 12:07:00      253139.0 2141-06-11 12:14:00   \n",
       "1    2166-01-28 01:02:00      256064.0 2166-01-28 22:54:00   \n",
       "2    2142-06-25 03:51:00      260665.0 2142-06-26 20:30:00   \n",
       "3    2163-03-09 15:50:00      279422.0 2163-03-09 23:00:00   \n",
       "4    2156-11-12 11:30:00      299707.0 2156-11-12 17:54:00   \n",
       "...                  ...           ...                 ...   \n",
       "1038 2166-10-15 23:30:00      297406.0 2166-10-16 01:00:00   \n",
       "1039 2200-10-30 02:22:00      296707.0 2200-10-31 04:12:00   \n",
       "1040 2110-03-22 05:35:00      252442.0 2110-03-22 13:32:00   \n",
       "1041 2180-11-27 04:41:00      275083.0 2180-11-27 07:59:00   \n",
       "1042 2181-01-31 03:59:00      279638.0 2181-01-31 19:42:00   \n",
       "\n",
       "               ENDTIME_x  ITEMID_x  ...           ENDTIME_y ITEMID_y  \\\n",
       "0    2141-06-11 14:30:00    225158  ... 2141-06-11 14:30:00   225158   \n",
       "1    2166-01-29 08:47:00    225158  ... 2166-01-29 08:47:00   225158   \n",
       "2    2142-06-26 21:30:00    225158  ... 2142-06-26 21:30:00   225158   \n",
       "3    2163-03-10 02:30:00    225158  ... 2163-03-10 02:30:00   225158   \n",
       "4    2156-11-12 23:39:00    225158  ... 2156-11-12 23:39:00   225158   \n",
       "...                  ...       ...  ...                 ...      ...   \n",
       "1038 2166-10-16 01:20:00    225158  ... 2166-10-16 01:20:00   225158   \n",
       "1039 2200-10-31 07:22:00    225158  ... 2200-10-31 07:22:00   225158   \n",
       "1040 2110-03-22 16:33:00    225158  ... 2110-03-22 16:33:00   225158   \n",
       "1041 2180-11-27 08:59:00    225158  ... 2180-11-27 08:59:00   225158   \n",
       "1042 2181-01-31 21:04:00    225158  ... 2181-01-31 21:04:00   225158   \n",
       "\n",
       "         AMOUNT_y AMOUNTUOM_y UNITNAME_y       ORDERCATEGORYNAME_y  LABEL_y_y  \\\n",
       "0       73.593073          ml         mL                  01-Drips  NaCl 0.9%   \n",
       "1     1000.000035          ml         mL  02-Fluids (Crystalloids)  NaCl 0.9%   \n",
       "2      499.999980          ml         mL  02-Fluids (Crystalloids)  NaCl 0.9%   \n",
       "3      141.786000          ml         mL                  01-Drips  NaCl 0.9%   \n",
       "4       99.999996          ml         mL  02-Fluids (Crystalloids)  NaCl 0.9%   \n",
       "...           ...         ...        ...                       ...        ...   \n",
       "1038    33.333332          ml         mL  02-Fluids (Crystalloids)  NaCl 0.9%   \n",
       "1039    47.945928          ml         mL                  01-Drips  NaCl 0.9%   \n",
       "1040    15.083521          ml         mL                  01-Drips  NaCl 0.9%   \n",
       "1041    49.999999          ml         mL  02-Fluids (Crystalloids)  NaCl 0.9%   \n",
       "1042     3.690367          ml         mL                  01-Drips  NaCl 0.9%   \n",
       "\n",
       "         CATEGORY_y PARAM_TYPE_y  timeFromPrescription_y  \n",
       "0     Fluids/Intake     Solution         0 days 08:15:00  \n",
       "1     Fluids/Intake     Solution         0 days 03:50:00  \n",
       "2     Fluids/Intake     Solution         0 days 06:12:00  \n",
       "3     Fluids/Intake     Solution         0 days 05:38:00  \n",
       "4     Fluids/Intake     Solution         0 days 10:35:00  \n",
       "...             ...          ...                     ...  \n",
       "1038  Fluids/Intake     Solution         0 days 01:57:00  \n",
       "1039  Fluids/Intake     Solution         0 days 23:12:00  \n",
       "1040  Fluids/Intake     Solution         0 days 07:26:00  \n",
       "1041  Fluids/Intake     Solution         0 days 19:13:00  \n",
       "1042  Fluids/Intake     Solution         0 days 08:00:00  \n",
       "\n",
       "[1043 rows x 34 columns]"
      ]
     },
     "execution_count": 39,
     "metadata": {},
     "output_type": "execute_result"
    }
   ],
   "source": [
    "drug_lab"
   ]
  },
  {
   "cell_type": "markdown",
   "metadata": {
    "id": "Hz5CqxLHZktP"
   },
   "source": [
    "## Analysis Function"
   ]
  },
  {
   "cell_type": "code",
   "execution_count": 40,
   "metadata": {
    "executionInfo": {
     "elapsed": 81,
     "status": "ok",
     "timestamp": 1655449367746,
     "user": {
      "displayName": "PAVAN KUMAR REDDY YANNAM",
      "userId": "18283848664285680593"
     },
     "user_tz": -330
    },
    "id": "N2AKl0k0cUHB"
   },
   "outputs": [],
   "source": [
    "def comp_med_analysis(lab_measurements, top200_meds, n_medlab_pairs = 25, n_meds=None):\n",
    "    res = pd.DataFrame(columns=['Medication Name','Feature Name','Number of patients','Feature Before(mean)','Feature Before(std)','Time Before(mean)','Time Before(std)','Feature After(mean)','Feature After(std)','Time After(mean)','Time After(std)','Mannwhitney-pvalue','Ttest-pvalue'])\n",
    "    uniqueLabTests = lab_measurements.LABEL.unique()\n",
    "\n",
    "    for i, med in enumerate(top200_meds['MED']): \n",
    "        if n_meds is not None and i>=n_meds:\n",
    "            break\n",
    "        print(i, ' MED: ', med)\n",
    "        for j in tqdm(range(uniqueLabTests.shape[0])):\n",
    "            labTest = uniqueLabTests[j]\n",
    "            drug_lab=labpairing(med, patient_presc, lab_measurements, labTest)\n",
    "            if(len(drug_lab) > n_medlab_pairs): \n",
    "                csvrow=postprocessing(drug_lab)\n",
    "                csvrow.insert(0, med) \n",
    "                csvrow.insert(1, labTest)\n",
    "                res.loc[len(res)] = csvrow\n",
    "    return res"
   ]
  },
  {
   "cell_type": "markdown",
   "metadata": {
    "id": "8BTqFkrk_D7D"
   },
   "source": [
    "## Final Results"
   ]
  },
  {
   "cell_type": "markdown",
   "metadata": {
    "id": "UqfKULFbs3P6"
   },
   "source": [
    "### Top 10 Medications and Atleast 50 Medications"
   ]
  },
  {
   "cell_type": "code",
   "execution_count": null,
   "metadata": {
    "colab": {
     "base_uri": "https://localhost:8080/"
    },
    "executionInfo": {
     "elapsed": 222748,
     "status": "ok",
     "timestamp": 1655302118596,
     "user": {
      "displayName": "PAVAN KUMAR REDDY YANNAM",
      "userId": "18283848664285680593"
     },
     "user_tz": -330
    },
    "id": "ppTAV6FCpDJs",
    "outputId": "cacdea22-d53c-423e-defe-fff4e777f20a"
   },
   "outputs": [
    {
     "name": "stdout",
     "output_type": "stream",
     "text": [
      "0  MED:  NaCl 0.9%\n"
     ]
    },
    {
     "name": "stderr",
     "output_type": "stream",
     "text": [
      "100%|██████████| 161/161 [00:25<00:00,  6.23it/s]\n"
     ]
    },
    {
     "name": "stdout",
     "output_type": "stream",
     "text": [
      "1  MED:  Dextrose 5%\n"
     ]
    },
    {
     "name": "stderr",
     "output_type": "stream",
     "text": [
      "100%|██████████| 161/161 [00:23<00:00,  6.71it/s]\n"
     ]
    },
    {
     "name": "stdout",
     "output_type": "stream",
     "text": [
      "2  MED:  Solution\n"
     ]
    },
    {
     "name": "stderr",
     "output_type": "stream",
     "text": [
      "100%|██████████| 161/161 [00:21<00:00,  7.44it/s]\n"
     ]
    },
    {
     "name": "stdout",
     "output_type": "stream",
     "text": [
      "3  MED:  Propofol\n"
     ]
    },
    {
     "name": "stderr",
     "output_type": "stream",
     "text": [
      "100%|██████████| 161/161 [00:18<00:00,  8.75it/s]\n"
     ]
    },
    {
     "name": "stdout",
     "output_type": "stream",
     "text": [
      "4  MED:  PO Intake\n"
     ]
    },
    {
     "name": "stderr",
     "output_type": "stream",
     "text": [
      "100%|██████████| 161/161 [00:22<00:00,  7.15it/s]\n"
     ]
    },
    {
     "name": "stdout",
     "output_type": "stream",
     "text": [
      "5  MED:  Insulin - Regular\n"
     ]
    },
    {
     "name": "stderr",
     "output_type": "stream",
     "text": [
      "100%|██████████| 161/161 [00:20<00:00,  7.88it/s]\n"
     ]
    },
    {
     "name": "stdout",
     "output_type": "stream",
     "text": [
      "6  MED:  Gastric Meds\n"
     ]
    },
    {
     "name": "stderr",
     "output_type": "stream",
     "text": [
      "100%|██████████| 161/161 [00:26<00:00,  6.11it/s]\n"
     ]
    },
    {
     "name": "stdout",
     "output_type": "stream",
     "text": [
      "7  MED:  Fentanyl\n"
     ]
    },
    {
     "name": "stderr",
     "output_type": "stream",
     "text": [
      "100%|██████████| 161/161 [00:20<00:00,  7.80it/s]\n"
     ]
    },
    {
     "name": "stdout",
     "output_type": "stream",
     "text": [
      "8  MED:  Norepinephrine\n"
     ]
    },
    {
     "name": "stderr",
     "output_type": "stream",
     "text": [
      "100%|██████████| 161/161 [00:22<00:00,  7.19it/s]\n"
     ]
    },
    {
     "name": "stdout",
     "output_type": "stream",
     "text": [
      "9  MED:  Phenylephrine\n"
     ]
    },
    {
     "name": "stderr",
     "output_type": "stream",
     "text": [
      "100%|██████████| 161/161 [00:20<00:00,  7.94it/s]\n"
     ]
    }
   ],
   "source": [
    "res = comp_med_analysis(lab_measurements, top200_meds, n_medlab_pairs=50, n_meds=10)"
   ]
  },
  {
   "cell_type": "code",
   "execution_count": null,
   "metadata": {
    "colab": {
     "base_uri": "https://localhost:8080/",
     "height": 531
    },
    "executionInfo": {
     "elapsed": 452,
     "status": "ok",
     "timestamp": 1655302198928,
     "user": {
      "displayName": "PAVAN KUMAR REDDY YANNAM",
      "userId": "18283848664285680593"
     },
     "user_tz": -330
    },
    "id": "CZb_tqX5swQv",
    "outputId": "033681b2-2d5e-4623-9de9-d5e7645d9e08"
   },
   "outputs": [
    {
     "data": {
      "text/html": [
       "\n",
       "  <div id=\"df-b0a03af9-6baa-4444-b1d2-9bbf8f2c6536\">\n",
       "    <div class=\"colab-df-container\">\n",
       "      <div>\n",
       "<style scoped>\n",
       "    .dataframe tbody tr th:only-of-type {\n",
       "        vertical-align: middle;\n",
       "    }\n",
       "\n",
       "    .dataframe tbody tr th {\n",
       "        vertical-align: top;\n",
       "    }\n",
       "\n",
       "    .dataframe thead th {\n",
       "        text-align: right;\n",
       "    }\n",
       "</style>\n",
       "<table border=\"1\" class=\"dataframe\">\n",
       "  <thead>\n",
       "    <tr style=\"text-align: right;\">\n",
       "      <th></th>\n",
       "      <th>Medication Name</th>\n",
       "      <th>Feature Name</th>\n",
       "      <th>Number of patients</th>\n",
       "      <th>Feature Before(mean)</th>\n",
       "      <th>Feature Before(std)</th>\n",
       "      <th>Time Before(mean)</th>\n",
       "      <th>Time Before(std)</th>\n",
       "      <th>Feature After(mean)</th>\n",
       "      <th>Feature After(std)</th>\n",
       "      <th>Time After(mean)</th>\n",
       "      <th>Time After(std)</th>\n",
       "      <th>Mannwhitney-pvalue</th>\n",
       "      <th>Ttest-pvalue</th>\n",
       "    </tr>\n",
       "  </thead>\n",
       "  <tbody>\n",
       "    <tr>\n",
       "      <th>0</th>\n",
       "      <td>NaCl 0.9%</td>\n",
       "      <td>Calcium, Total</td>\n",
       "      <td>1043</td>\n",
       "      <td>7.811601</td>\n",
       "      <td>0.852798</td>\n",
       "      <td>16.419751</td>\n",
       "      <td>6.010735</td>\n",
       "      <td>7.826366</td>\n",
       "      <td>0.741066</td>\n",
       "      <td>9.325775</td>\n",
       "      <td>6.819014</td>\n",
       "      <td>0.038304</td>\n",
       "      <td>0.673022</td>\n",
       "    </tr>\n",
       "    <tr>\n",
       "      <th>1</th>\n",
       "      <td>NaCl 0.9%</td>\n",
       "      <td>Chloride</td>\n",
       "      <td>812</td>\n",
       "      <td>107.272167</td>\n",
       "      <td>9.622521</td>\n",
       "      <td>15.968555</td>\n",
       "      <td>6.222861</td>\n",
       "      <td>107.825123</td>\n",
       "      <td>8.993981</td>\n",
       "      <td>9.147065</td>\n",
       "      <td>6.694655</td>\n",
       "      <td>0.497539</td>\n",
       "      <td>0.231757</td>\n",
       "    </tr>\n",
       "    <tr>\n",
       "      <th>2</th>\n",
       "      <td>NaCl 0.9%</td>\n",
       "      <td>Creatinine</td>\n",
       "      <td>844</td>\n",
       "      <td>2.666588</td>\n",
       "      <td>2.264125</td>\n",
       "      <td>16.760190</td>\n",
       "      <td>5.727178</td>\n",
       "      <td>2.608412</td>\n",
       "      <td>2.196355</td>\n",
       "      <td>8.091469</td>\n",
       "      <td>6.464699</td>\n",
       "      <td>0.071883</td>\n",
       "      <td>0.592175</td>\n",
       "    </tr>\n",
       "    <tr>\n",
       "      <th>3</th>\n",
       "      <td>NaCl 0.9%</td>\n",
       "      <td>Phosphate</td>\n",
       "      <td>973</td>\n",
       "      <td>3.547174</td>\n",
       "      <td>1.987395</td>\n",
       "      <td>15.845529</td>\n",
       "      <td>6.151007</td>\n",
       "      <td>3.430319</td>\n",
       "      <td>1.957726</td>\n",
       "      <td>9.633436</td>\n",
       "      <td>6.870303</td>\n",
       "      <td>0.029920</td>\n",
       "      <td>0.191499</td>\n",
       "    </tr>\n",
       "    <tr>\n",
       "      <th>4</th>\n",
       "      <td>NaCl 0.9%</td>\n",
       "      <td>Potassium</td>\n",
       "      <td>366</td>\n",
       "      <td>4.400820</td>\n",
       "      <td>1.531093</td>\n",
       "      <td>14.377505</td>\n",
       "      <td>6.954470</td>\n",
       "      <td>4.112842</td>\n",
       "      <td>1.359583</td>\n",
       "      <td>9.152732</td>\n",
       "      <td>6.651877</td>\n",
       "      <td>0.022873</td>\n",
       "      <td>0.007295</td>\n",
       "    </tr>\n",
       "    <tr>\n",
       "      <th>...</th>\n",
       "      <td>...</td>\n",
       "      <td>...</td>\n",
       "      <td>...</td>\n",
       "      <td>...</td>\n",
       "      <td>...</td>\n",
       "      <td>...</td>\n",
       "      <td>...</td>\n",
       "      <td>...</td>\n",
       "      <td>...</td>\n",
       "      <td>...</td>\n",
       "      <td>...</td>\n",
       "      <td>...</td>\n",
       "      <td>...</td>\n",
       "    </tr>\n",
       "    <tr>\n",
       "      <th>414</th>\n",
       "      <td>Phenylephrine</td>\n",
       "      <td>Lactate Dehydrogenase (LD)</td>\n",
       "      <td>70</td>\n",
       "      <td>1071.542857</td>\n",
       "      <td>1967.656855</td>\n",
       "      <td>14.703810</td>\n",
       "      <td>6.566310</td>\n",
       "      <td>1474.428571</td>\n",
       "      <td>3120.660993</td>\n",
       "      <td>11.007381</td>\n",
       "      <td>6.889183</td>\n",
       "      <td>0.482548</td>\n",
       "      <td>0.362474</td>\n",
       "    </tr>\n",
       "    <tr>\n",
       "      <th>415</th>\n",
       "      <td>Phenylephrine</td>\n",
       "      <td>Calculated Total CO2</td>\n",
       "      <td>159</td>\n",
       "      <td>22.270440</td>\n",
       "      <td>7.573844</td>\n",
       "      <td>17.766667</td>\n",
       "      <td>6.526962</td>\n",
       "      <td>22.647799</td>\n",
       "      <td>8.153696</td>\n",
       "      <td>6.555556</td>\n",
       "      <td>6.764487</td>\n",
       "      <td>0.381172</td>\n",
       "      <td>0.669252</td>\n",
       "    </tr>\n",
       "    <tr>\n",
       "      <th>416</th>\n",
       "      <td>Phenylephrine</td>\n",
       "      <td>Potassium, Whole Blood</td>\n",
       "      <td>76</td>\n",
       "      <td>4.476316</td>\n",
       "      <td>1.363708</td>\n",
       "      <td>16.134211</td>\n",
       "      <td>6.735989</td>\n",
       "      <td>3.651316</td>\n",
       "      <td>1.072877</td>\n",
       "      <td>9.906140</td>\n",
       "      <td>6.899038</td>\n",
       "      <td>0.000063</td>\n",
       "      <td>0.000057</td>\n",
       "    </tr>\n",
       "    <tr>\n",
       "      <th>417</th>\n",
       "      <td>Phenylephrine</td>\n",
       "      <td>Troponin T</td>\n",
       "      <td>72</td>\n",
       "      <td>0.495417</td>\n",
       "      <td>0.850970</td>\n",
       "      <td>17.481944</td>\n",
       "      <td>5.357136</td>\n",
       "      <td>0.514028</td>\n",
       "      <td>0.845358</td>\n",
       "      <td>6.709259</td>\n",
       "      <td>6.189675</td>\n",
       "      <td>0.249992</td>\n",
       "      <td>0.895443</td>\n",
       "    </tr>\n",
       "    <tr>\n",
       "      <th>418</th>\n",
       "      <td>Phenylephrine</td>\n",
       "      <td>Alanine Aminotransferase (ALT)</td>\n",
       "      <td>74</td>\n",
       "      <td>345.054054</td>\n",
       "      <td>747.549144</td>\n",
       "      <td>16.073423</td>\n",
       "      <td>5.938575</td>\n",
       "      <td>561.121622</td>\n",
       "      <td>1219.521655</td>\n",
       "      <td>9.171396</td>\n",
       "      <td>6.395646</td>\n",
       "      <td>0.353506</td>\n",
       "      <td>0.195852</td>\n",
       "    </tr>\n",
       "  </tbody>\n",
       "</table>\n",
       "<p>419 rows × 13 columns</p>\n",
       "</div>\n",
       "      <button class=\"colab-df-convert\" onclick=\"convertToInteractive('df-b0a03af9-6baa-4444-b1d2-9bbf8f2c6536')\"\n",
       "              title=\"Convert this dataframe to an interactive table.\"\n",
       "              style=\"display:none;\">\n",
       "        \n",
       "  <svg xmlns=\"http://www.w3.org/2000/svg\" height=\"24px\"viewBox=\"0 0 24 24\"\n",
       "       width=\"24px\">\n",
       "    <path d=\"M0 0h24v24H0V0z\" fill=\"none\"/>\n",
       "    <path d=\"M18.56 5.44l.94 2.06.94-2.06 2.06-.94-2.06-.94-.94-2.06-.94 2.06-2.06.94zm-11 1L8.5 8.5l.94-2.06 2.06-.94-2.06-.94L8.5 2.5l-.94 2.06-2.06.94zm10 10l.94 2.06.94-2.06 2.06-.94-2.06-.94-.94-2.06-.94 2.06-2.06.94z\"/><path d=\"M17.41 7.96l-1.37-1.37c-.4-.4-.92-.59-1.43-.59-.52 0-1.04.2-1.43.59L10.3 9.45l-7.72 7.72c-.78.78-.78 2.05 0 2.83L4 21.41c.39.39.9.59 1.41.59.51 0 1.02-.2 1.41-.59l7.78-7.78 2.81-2.81c.8-.78.8-2.07 0-2.86zM5.41 20L4 18.59l7.72-7.72 1.47 1.35L5.41 20z\"/>\n",
       "  </svg>\n",
       "      </button>\n",
       "      \n",
       "  <style>\n",
       "    .colab-df-container {\n",
       "      display:flex;\n",
       "      flex-wrap:wrap;\n",
       "      gap: 12px;\n",
       "    }\n",
       "\n",
       "    .colab-df-convert {\n",
       "      background-color: #E8F0FE;\n",
       "      border: none;\n",
       "      border-radius: 50%;\n",
       "      cursor: pointer;\n",
       "      display: none;\n",
       "      fill: #1967D2;\n",
       "      height: 32px;\n",
       "      padding: 0 0 0 0;\n",
       "      width: 32px;\n",
       "    }\n",
       "\n",
       "    .colab-df-convert:hover {\n",
       "      background-color: #E2EBFA;\n",
       "      box-shadow: 0px 1px 2px rgba(60, 64, 67, 0.3), 0px 1px 3px 1px rgba(60, 64, 67, 0.15);\n",
       "      fill: #174EA6;\n",
       "    }\n",
       "\n",
       "    [theme=dark] .colab-df-convert {\n",
       "      background-color: #3B4455;\n",
       "      fill: #D2E3FC;\n",
       "    }\n",
       "\n",
       "    [theme=dark] .colab-df-convert:hover {\n",
       "      background-color: #434B5C;\n",
       "      box-shadow: 0px 1px 3px 1px rgba(0, 0, 0, 0.15);\n",
       "      filter: drop-shadow(0px 1px 2px rgba(0, 0, 0, 0.3));\n",
       "      fill: #FFFFFF;\n",
       "    }\n",
       "  </style>\n",
       "\n",
       "      <script>\n",
       "        const buttonEl =\n",
       "          document.querySelector('#df-b0a03af9-6baa-4444-b1d2-9bbf8f2c6536 button.colab-df-convert');\n",
       "        buttonEl.style.display =\n",
       "          google.colab.kernel.accessAllowed ? 'block' : 'none';\n",
       "\n",
       "        async function convertToInteractive(key) {\n",
       "          const element = document.querySelector('#df-b0a03af9-6baa-4444-b1d2-9bbf8f2c6536');\n",
       "          const dataTable =\n",
       "            await google.colab.kernel.invokeFunction('convertToInteractive',\n",
       "                                                     [key], {});\n",
       "          if (!dataTable) return;\n",
       "\n",
       "          const docLinkHtml = 'Like what you see? Visit the ' +\n",
       "            '<a target=\"_blank\" href=https://colab.research.google.com/notebooks/data_table.ipynb>data table notebook</a>'\n",
       "            + ' to learn more about interactive tables.';\n",
       "          element.innerHTML = '';\n",
       "          dataTable['output_type'] = 'display_data';\n",
       "          await google.colab.output.renderOutput(dataTable, element);\n",
       "          const docLink = document.createElement('div');\n",
       "          docLink.innerHTML = docLinkHtml;\n",
       "          element.appendChild(docLink);\n",
       "        }\n",
       "      </script>\n",
       "    </div>\n",
       "  </div>\n",
       "  "
      ],
      "text/plain": [
       "    Medication Name                    Feature Name Number of patients  \\\n",
       "0         NaCl 0.9%                  Calcium, Total               1043   \n",
       "1         NaCl 0.9%                        Chloride                812   \n",
       "2         NaCl 0.9%                      Creatinine                844   \n",
       "3         NaCl 0.9%                       Phosphate                973   \n",
       "4         NaCl 0.9%                       Potassium                366   \n",
       "..              ...                             ...                ...   \n",
       "414   Phenylephrine      Lactate Dehydrogenase (LD)                 70   \n",
       "415   Phenylephrine            Calculated Total CO2                159   \n",
       "416   Phenylephrine          Potassium, Whole Blood                 76   \n",
       "417   Phenylephrine                      Troponin T                 72   \n",
       "418   Phenylephrine  Alanine Aminotransferase (ALT)                 74   \n",
       "\n",
       "     Feature Before(mean)  Feature Before(std)  Time Before(mean)  \\\n",
       "0                7.811601             0.852798          16.419751   \n",
       "1              107.272167             9.622521          15.968555   \n",
       "2                2.666588             2.264125          16.760190   \n",
       "3                3.547174             1.987395          15.845529   \n",
       "4                4.400820             1.531093          14.377505   \n",
       "..                    ...                  ...                ...   \n",
       "414           1071.542857          1967.656855          14.703810   \n",
       "415             22.270440             7.573844          17.766667   \n",
       "416              4.476316             1.363708          16.134211   \n",
       "417              0.495417             0.850970          17.481944   \n",
       "418            345.054054           747.549144          16.073423   \n",
       "\n",
       "     Time Before(std)  Feature After(mean)  Feature After(std)  \\\n",
       "0            6.010735             7.826366            0.741066   \n",
       "1            6.222861           107.825123            8.993981   \n",
       "2            5.727178             2.608412            2.196355   \n",
       "3            6.151007             3.430319            1.957726   \n",
       "4            6.954470             4.112842            1.359583   \n",
       "..                ...                  ...                 ...   \n",
       "414          6.566310          1474.428571         3120.660993   \n",
       "415          6.526962            22.647799            8.153696   \n",
       "416          6.735989             3.651316            1.072877   \n",
       "417          5.357136             0.514028            0.845358   \n",
       "418          5.938575           561.121622         1219.521655   \n",
       "\n",
       "     Time After(mean)  Time After(std)  Mannwhitney-pvalue  Ttest-pvalue  \n",
       "0            9.325775         6.819014            0.038304      0.673022  \n",
       "1            9.147065         6.694655            0.497539      0.231757  \n",
       "2            8.091469         6.464699            0.071883      0.592175  \n",
       "3            9.633436         6.870303            0.029920      0.191499  \n",
       "4            9.152732         6.651877            0.022873      0.007295  \n",
       "..                ...              ...                 ...           ...  \n",
       "414         11.007381         6.889183            0.482548      0.362474  \n",
       "415          6.555556         6.764487            0.381172      0.669252  \n",
       "416          9.906140         6.899038            0.000063      0.000057  \n",
       "417          6.709259         6.189675            0.249992      0.895443  \n",
       "418          9.171396         6.395646            0.353506      0.195852  \n",
       "\n",
       "[419 rows x 13 columns]"
      ]
     },
     "execution_count": 56,
     "metadata": {},
     "output_type": "execute_result"
    }
   ],
   "source": [
    "res"
   ]
  },
  {
   "cell_type": "code",
   "execution_count": null,
   "metadata": {
    "id": "gOf7709U-2xY"
   },
   "outputs": [],
   "source": [
    "res.to_csv(os.path.join(PARENT, 'Med-Labtest_Pairs_Top10Meds_50Subjects.csv'))"
   ]
  },
  {
   "cell_type": "markdown",
   "metadata": {
    "id": "Eg3DnuDGdzs4"
   },
   "source": [
    "### Top 200 Medication"
   ]
  },
  {
   "cell_type": "code",
   "execution_count": null,
   "metadata": {
    "colab": {
     "background_save": true,
     "base_uri": "https://localhost:8080/"
    },
    "id": "QJYccebOdp0F"
   },
   "outputs": [
    {
     "name": "stdout",
     "output_type": "stream",
     "text": [
      "0  MED:  NaCl 0.9%\n"
     ]
    },
    {
     "name": "stderr",
     "output_type": "stream",
     "text": [
      "100%|██████████| 161/161 [00:23<00:00,  6.88it/s]\n"
     ]
    },
    {
     "name": "stdout",
     "output_type": "stream",
     "text": [
      "1  MED:  Dextrose 5%\n"
     ]
    },
    {
     "name": "stderr",
     "output_type": "stream",
     "text": [
      "100%|██████████| 161/161 [00:25<00:00,  6.22it/s]\n"
     ]
    },
    {
     "name": "stdout",
     "output_type": "stream",
     "text": [
      "2  MED:  Solution\n"
     ]
    },
    {
     "name": "stderr",
     "output_type": "stream",
     "text": [
      "100%|██████████| 161/161 [00:21<00:00,  7.63it/s]\n"
     ]
    },
    {
     "name": "stdout",
     "output_type": "stream",
     "text": [
      "3  MED:  Propofol\n"
     ]
    },
    {
     "name": "stderr",
     "output_type": "stream",
     "text": [
      "100%|██████████| 161/161 [00:17<00:00,  9.42it/s]\n"
     ]
    },
    {
     "name": "stdout",
     "output_type": "stream",
     "text": [
      "4  MED:  PO Intake\n"
     ]
    },
    {
     "name": "stderr",
     "output_type": "stream",
     "text": [
      "100%|██████████| 161/161 [00:19<00:00,  8.27it/s]\n"
     ]
    },
    {
     "name": "stdout",
     "output_type": "stream",
     "text": [
      "5  MED:  Insulin - Regular\n"
     ]
    },
    {
     "name": "stderr",
     "output_type": "stream",
     "text": [
      "100%|██████████| 161/161 [00:18<00:00,  8.62it/s]\n"
     ]
    },
    {
     "name": "stdout",
     "output_type": "stream",
     "text": [
      "6  MED:  Gastric Meds\n"
     ]
    },
    {
     "name": "stderr",
     "output_type": "stream",
     "text": [
      "100%|██████████| 161/161 [00:17<00:00,  8.95it/s]\n"
     ]
    },
    {
     "name": "stdout",
     "output_type": "stream",
     "text": [
      "7  MED:  Fentanyl\n"
     ]
    },
    {
     "name": "stderr",
     "output_type": "stream",
     "text": [
      "100%|██████████| 161/161 [00:17<00:00,  9.45it/s]\n"
     ]
    },
    {
     "name": "stdout",
     "output_type": "stream",
     "text": [
      "8  MED:  Norepinephrine\n"
     ]
    },
    {
     "name": "stderr",
     "output_type": "stream",
     "text": [
      "100%|██████████| 161/161 [00:17<00:00,  9.16it/s]\n"
     ]
    },
    {
     "name": "stdout",
     "output_type": "stream",
     "text": [
      "9  MED:  Phenylephrine\n"
     ]
    },
    {
     "name": "stderr",
     "output_type": "stream",
     "text": [
      "100%|██████████| 161/161 [00:15<00:00, 10.66it/s]\n"
     ]
    },
    {
     "name": "stdout",
     "output_type": "stream",
     "text": [
      "10  MED:  Potassium Chloride\n"
     ]
    },
    {
     "name": "stderr",
     "output_type": "stream",
     "text": [
      "100%|██████████| 161/161 [00:19<00:00,  8.45it/s]\n"
     ]
    },
    {
     "name": "stdout",
     "output_type": "stream",
     "text": [
      "11  MED:  Heparin Sodium (Prophylaxis)\n"
     ]
    },
    {
     "name": "stderr",
     "output_type": "stream",
     "text": [
      "100%|██████████| 161/161 [00:18<00:00,  8.67it/s]\n"
     ]
    },
    {
     "name": "stdout",
     "output_type": "stream",
     "text": [
      "12  MED:  GT Flush\n"
     ]
    },
    {
     "name": "stderr",
     "output_type": "stream",
     "text": [
      "100%|██████████| 161/161 [00:16<00:00,  9.61it/s]\n"
     ]
    },
    {
     "name": "stdout",
     "output_type": "stream",
     "text": [
      "13  MED:  Midazolam (Versed)\n"
     ]
    },
    {
     "name": "stderr",
     "output_type": "stream",
     "text": [
      "100%|██████████| 161/161 [00:16<00:00,  9.77it/s]\n"
     ]
    },
    {
     "name": "stdout",
     "output_type": "stream",
     "text": [
      "14  MED:  Vancomycin\n"
     ]
    },
    {
     "name": "stderr",
     "output_type": "stream",
     "text": [
      "100%|██████████| 161/161 [00:18<00:00,  8.51it/s]\n"
     ]
    },
    {
     "name": "stdout",
     "output_type": "stream",
     "text": [
      "15  MED:  LR\n"
     ]
    },
    {
     "name": "stderr",
     "output_type": "stream",
     "text": [
      "100%|██████████| 161/161 [00:16<00:00,  9.75it/s]\n"
     ]
    },
    {
     "name": "stdout",
     "output_type": "stream",
     "text": [
      "16  MED:  Furosemide (Lasix)\n"
     ]
    },
    {
     "name": "stderr",
     "output_type": "stream",
     "text": [
      "100%|██████████| 161/161 [00:17<00:00,  9.21it/s]\n"
     ]
    },
    {
     "name": "stdout",
     "output_type": "stream",
     "text": [
      "17  MED:  Replete with Fiber (Full)\n"
     ]
    },
    {
     "name": "stderr",
     "output_type": "stream",
     "text": [
      "100%|██████████| 161/161 [00:14<00:00, 10.82it/s]\n"
     ]
    },
    {
     "name": "stdout",
     "output_type": "stream",
     "text": [
      "18  MED:  Sterile Water\n"
     ]
    },
    {
     "name": "stderr",
     "output_type": "stream",
     "text": [
      "100%|██████████| 161/161 [00:15<00:00, 10.42it/s]\n"
     ]
    },
    {
     "name": "stdout",
     "output_type": "stream",
     "text": [
      "19  MED:  Morphine Sulfate\n"
     ]
    },
    {
     "name": "stderr",
     "output_type": "stream",
     "text": [
      "100%|██████████| 161/161 [00:15<00:00, 10.41it/s]\n"
     ]
    },
    {
     "name": "stdout",
     "output_type": "stream",
     "text": [
      "20  MED:  Piggyback\n"
     ]
    },
    {
     "name": "stderr",
     "output_type": "stream",
     "text": [
      "100%|██████████| 161/161 [00:17<00:00,  9.25it/s]\n"
     ]
    },
    {
     "name": "stdout",
     "output_type": "stream",
     "text": [
      "21  MED:  Piperacillin/Tazobactam (Zosyn)\n"
     ]
    },
    {
     "name": "stderr",
     "output_type": "stream",
     "text": [
      "100%|██████████| 161/161 [00:15<00:00, 10.44it/s]\n"
     ]
    },
    {
     "name": "stdout",
     "output_type": "stream",
     "text": [
      "22  MED:  KCL (Bolus)\n"
     ]
    },
    {
     "name": "stderr",
     "output_type": "stream",
     "text": [
      "100%|██████████| 161/161 [00:16<00:00,  9.82it/s]\n"
     ]
    },
    {
     "name": "stdout",
     "output_type": "stream",
     "text": [
      "23  MED:  Metoprolol\n"
     ]
    },
    {
     "name": "stderr",
     "output_type": "stream",
     "text": [
      "100%|██████████| 161/161 [00:15<00:00, 10.43it/s]\n"
     ]
    },
    {
     "name": "stdout",
     "output_type": "stream",
     "text": [
      "24  MED:  Insulin - Humalog\n"
     ]
    },
    {
     "name": "stderr",
     "output_type": "stream",
     "text": [
      "100%|██████████| 161/161 [00:15<00:00, 10.58it/s]\n"
     ]
    },
    {
     "name": "stdout",
     "output_type": "stream",
     "text": [
      "25  MED:  Heparin Sodium\n"
     ]
    },
    {
     "name": "stderr",
     "output_type": "stream",
     "text": [
      "100%|██████████| 161/161 [00:14<00:00, 11.23it/s]\n"
     ]
    },
    {
     "name": "stdout",
     "output_type": "stream",
     "text": [
      "26  MED:  Metronidazole\n"
     ]
    },
    {
     "name": "stderr",
     "output_type": "stream",
     "text": [
      "100%|██████████| 161/161 [00:15<00:00, 10.69it/s]\n"
     ]
    },
    {
     "name": "stdout",
     "output_type": "stream",
     "text": [
      "27  MED:  Free Water\n"
     ]
    },
    {
     "name": "stderr",
     "output_type": "stream",
     "text": [
      "100%|██████████| 161/161 [00:16<00:00,  9.89it/s]\n"
     ]
    },
    {
     "name": "stdout",
     "output_type": "stream",
     "text": [
      "28  MED:  Pantoprazole (Protonix)\n"
     ]
    },
    {
     "name": "stderr",
     "output_type": "stream",
     "text": [
      "100%|██████████| 161/161 [00:17<00:00,  9.11it/s]\n"
     ]
    },
    {
     "name": "stdout",
     "output_type": "stream",
     "text": [
      "29  MED:  KCl (CRRT)\n"
     ]
    },
    {
     "name": "stderr",
     "output_type": "stream",
     "text": [
      "100%|██████████| 161/161 [00:12<00:00, 13.15it/s]\n"
     ]
    },
    {
     "name": "stdout",
     "output_type": "stream",
     "text": [
      "30  MED:  Hydromorphone (Dilaudid)\n"
     ]
    },
    {
     "name": "stderr",
     "output_type": "stream",
     "text": [
      "100%|██████████| 161/161 [00:13<00:00, 11.57it/s]\n"
     ]
    },
    {
     "name": "stdout",
     "output_type": "stream",
     "text": [
      "31  MED:  Nitroglycerin\n"
     ]
    },
    {
     "name": "stderr",
     "output_type": "stream",
     "text": [
      "100%|██████████| 161/161 [00:12<00:00, 12.62it/s]\n"
     ]
    },
    {
     "name": "stdout",
     "output_type": "stream",
     "text": [
      "32  MED:  Packed Red Blood Cells\n"
     ]
    },
    {
     "name": "stderr",
     "output_type": "stream",
     "text": [
      "100%|██████████| 161/161 [00:17<00:00,  9.42it/s]\n"
     ]
    },
    {
     "name": "stdout",
     "output_type": "stream",
     "text": [
      "33  MED:  Magnesium Sulfate\n"
     ]
    },
    {
     "name": "stderr",
     "output_type": "stream",
     "text": [
      "100%|██████████| 161/161 [00:18<00:00,  8.62it/s]\n"
     ]
    },
    {
     "name": "stdout",
     "output_type": "stream",
     "text": [
      "34  MED:  Lorazepam (Ativan)\n"
     ]
    },
    {
     "name": "stderr",
     "output_type": "stream",
     "text": [
      "100%|██████████| 161/161 [00:14<00:00, 11.14it/s]\n"
     ]
    },
    {
     "name": "stdout",
     "output_type": "stream",
     "text": [
      "35  MED:  D5 1/2NS\n"
     ]
    },
    {
     "name": "stderr",
     "output_type": "stream",
     "text": [
      "100%|██████████| 161/161 [00:14<00:00, 10.82it/s]\n"
     ]
    },
    {
     "name": "stdout",
     "output_type": "stream",
     "text": [
      "36  MED:  Nutren Pulmonary (Full)\n"
     ]
    },
    {
     "name": "stderr",
     "output_type": "stream",
     "text": [
      "100%|██████████| 161/161 [00:12<00:00, 12.93it/s]\n"
     ]
    },
    {
     "name": "stdout",
     "output_type": "stream",
     "text": [
      "37  MED:  Famotidine (Pepcid)\n"
     ]
    },
    {
     "name": "stderr",
     "output_type": "stream",
     "text": [
      "100%|██████████| 161/161 [00:14<00:00, 11.10it/s]\n"
     ]
    },
    {
     "name": "stdout",
     "output_type": "stream",
     "text": [
      "38  MED:  Calcium Gluconate\n"
     ]
    },
    {
     "name": "stderr",
     "output_type": "stream",
     "text": [
      "100%|██████████| 161/161 [00:16<00:00,  9.48it/s]\n"
     ]
    },
    {
     "name": "stdout",
     "output_type": "stream",
     "text": [
      "39  MED:  Meropenem\n"
     ]
    },
    {
     "name": "stderr",
     "output_type": "stream",
     "text": [
      "100%|██████████| 161/161 [00:13<00:00, 12.00it/s]\n"
     ]
    },
    {
     "name": "stdout",
     "output_type": "stream",
     "text": [
      "40  MED:  Beneprotein\n"
     ]
    },
    {
     "name": "stderr",
     "output_type": "stream",
     "text": [
      "100%|██████████| 161/161 [00:12<00:00, 12.98it/s]\n"
     ]
    },
    {
     "name": "stdout",
     "output_type": "stream",
     "text": [
      "41  MED:  Magnesium Sulfate (Bolus)\n"
     ]
    },
    {
     "name": "stderr",
     "output_type": "stream",
     "text": [
      "100%|██████████| 161/161 [00:16<00:00,  9.99it/s]\n"
     ]
    },
    {
     "name": "stdout",
     "output_type": "stream",
     "text": [
      "42  MED:  NaCl 0.45%\n"
     ]
    },
    {
     "name": "stderr",
     "output_type": "stream",
     "text": [
      "100%|██████████| 161/161 [00:12<00:00, 12.51it/s]\n"
     ]
    },
    {
     "name": "stdout",
     "output_type": "stream",
     "text": [
      "43  MED:  Nutren Renal (Full)\n"
     ]
    },
    {
     "name": "stderr",
     "output_type": "stream",
     "text": [
      "100%|██████████| 161/161 [00:13<00:00, 12.38it/s]\n"
     ]
    },
    {
     "name": "stdout",
     "output_type": "stream",
     "text": [
      "44  MED:  Calcium Gluconate (CRRT)\n"
     ]
    },
    {
     "name": "stderr",
     "output_type": "stream",
     "text": [
      "100%|██████████| 161/161 [00:12<00:00, 12.99it/s]\n"
     ]
    },
    {
     "name": "stdout",
     "output_type": "stream",
     "text": [
      "45  MED:  Citrate\n"
     ]
    },
    {
     "name": "stderr",
     "output_type": "stream",
     "text": [
      "100%|██████████| 161/161 [00:11<00:00, 13.75it/s]\n"
     ]
    },
    {
     "name": "stdout",
     "output_type": "stream",
     "text": [
      "46  MED:  Fibersource HN (Full)\n"
     ]
    },
    {
     "name": "stderr",
     "output_type": "stream",
     "text": [
      "100%|██████████| 161/161 [00:11<00:00, 14.37it/s]\n"
     ]
    },
    {
     "name": "stdout",
     "output_type": "stream",
     "text": [
      "47  MED:  ACD-A Citrate (1000ml)\n"
     ]
    },
    {
     "name": "stderr",
     "output_type": "stream",
     "text": [
      "100%|██████████| 161/161 [00:11<00:00, 13.92it/s]\n"
     ]
    },
    {
     "name": "stdout",
     "output_type": "stream",
     "text": [
      "48  MED:  Fentanyl (Concentrate)\n"
     ]
    },
    {
     "name": "stderr",
     "output_type": "stream",
     "text": [
      "100%|██████████| 161/161 [00:11<00:00, 14.26it/s]\n"
     ]
    },
    {
     "name": "stdout",
     "output_type": "stream",
     "text": [
      "49  MED:  Dopamine\n"
     ]
    },
    {
     "name": "stderr",
     "output_type": "stream",
     "text": [
      "100%|██████████| 161/161 [00:11<00:00, 13.42it/s]\n"
     ]
    },
    {
     "name": "stdout",
     "output_type": "stream",
     "text": [
      "50  MED:  Hydralazine\n"
     ]
    },
    {
     "name": "stderr",
     "output_type": "stream",
     "text": [
      "100%|██████████| 161/161 [00:14<00:00, 11.02it/s]\n"
     ]
    },
    {
     "name": "stdout",
     "output_type": "stream",
     "text": [
      "51  MED:  Nicardipine\n"
     ]
    },
    {
     "name": "stderr",
     "output_type": "stream",
     "text": [
      "100%|██████████| 161/161 [00:11<00:00, 14.49it/s]\n"
     ]
    },
    {
     "name": "stdout",
     "output_type": "stream",
     "text": [
      "52  MED:  Ciprofloxacin\n"
     ]
    },
    {
     "name": "stderr",
     "output_type": "stream",
     "text": [
      "100%|██████████| 161/161 [00:14<00:00, 11.39it/s]\n"
     ]
    },
    {
     "name": "stdout",
     "output_type": "stream",
     "text": [
      "53  MED:  Labetalol\n"
     ]
    },
    {
     "name": "stderr",
     "output_type": "stream",
     "text": [
      "100%|██████████| 161/161 [00:11<00:00, 14.25it/s]\n"
     ]
    },
    {
     "name": "stdout",
     "output_type": "stream",
     "text": [
      "54  MED:  Albumin 25%\n"
     ]
    },
    {
     "name": "stderr",
     "output_type": "stream",
     "text": [
      "100%|██████████| 161/161 [00:12<00:00, 12.48it/s]\n"
     ]
    },
    {
     "name": "stdout",
     "output_type": "stream",
     "text": [
      "55  MED:  Sodium Bicarbonate 8.4%\n"
     ]
    },
    {
     "name": "stderr",
     "output_type": "stream",
     "text": [
      "100%|██████████| 161/161 [00:14<00:00, 11.42it/s]\n"
     ]
    },
    {
     "name": "stdout",
     "output_type": "stream",
     "text": [
      "56  MED:  Cefazolin\n"
     ]
    },
    {
     "name": "stderr",
     "output_type": "stream",
     "text": [
      "100%|██████████| 161/161 [00:12<00:00, 13.12it/s]\n"
     ]
    },
    {
     "name": "stdout",
     "output_type": "stream",
     "text": [
      "57  MED:  Piperacillin\n"
     ]
    },
    {
     "name": "stderr",
     "output_type": "stream",
     "text": [
      "100%|██████████| 161/161 [00:13<00:00, 11.81it/s]\n"
     ]
    },
    {
     "name": "stdout",
     "output_type": "stream",
     "text": [
      "58  MED:  Amiodarone\n"
     ]
    },
    {
     "name": "stderr",
     "output_type": "stream",
     "text": [
      "100%|██████████| 161/161 [00:12<00:00, 12.53it/s]\n"
     ]
    },
    {
     "name": "stdout",
     "output_type": "stream",
     "text": [
      "59  MED:  Fresh Frozen Plasma\n"
     ]
    },
    {
     "name": "stderr",
     "output_type": "stream",
     "text": [
      "100%|██████████| 161/161 [00:13<00:00, 11.52it/s]\n"
     ]
    },
    {
     "name": "stdout",
     "output_type": "stream",
     "text": [
      "60  MED:  Dexmedetomidine (Precedex)\n"
     ]
    },
    {
     "name": "stderr",
     "output_type": "stream",
     "text": [
      "100%|██████████| 161/161 [00:13<00:00, 12.20it/s]\n"
     ]
    },
    {
     "name": "stdout",
     "output_type": "stream",
     "text": [
      "61  MED:  Nutren 2.0 (Full)\n"
     ]
    },
    {
     "name": "stderr",
     "output_type": "stream",
     "text": [
      "100%|██████████| 161/161 [00:11<00:00, 13.75it/s]\n"
     ]
    },
    {
     "name": "stdout",
     "output_type": "stream",
     "text": [
      "62  MED:  TPN w/ Lipids\n"
     ]
    },
    {
     "name": "stderr",
     "output_type": "stream",
     "text": [
      "100%|██████████| 161/161 [00:12<00:00, 12.99it/s]\n"
     ]
    },
    {
     "name": "stdout",
     "output_type": "stream",
     "text": [
      "63  MED:  Pre-Admission Intake\n"
     ]
    },
    {
     "name": "stderr",
     "output_type": "stream",
     "text": [
      "100%|██████████| 161/161 [00:15<00:00, 10.59it/s]\n"
     ]
    },
    {
     "name": "stdout",
     "output_type": "stream",
     "text": [
      "64  MED:  Cefepime\n"
     ]
    },
    {
     "name": "stderr",
     "output_type": "stream",
     "text": [
      "100%|██████████| 161/161 [00:13<00:00, 12.02it/s]\n"
     ]
    },
    {
     "name": "stdout",
     "output_type": "stream",
     "text": [
      "65  MED:  Haloperidol (Haldol)\n"
     ]
    },
    {
     "name": "stderr",
     "output_type": "stream",
     "text": [
      "100%|██████████| 161/161 [00:12<00:00, 12.68it/s]\n"
     ]
    },
    {
     "name": "stdout",
     "output_type": "stream",
     "text": [
      "66  MED:  Insulin - Glargine\n"
     ]
    },
    {
     "name": "stderr",
     "output_type": "stream",
     "text": [
      "100%|██████████| 161/161 [00:13<00:00, 11.87it/s]\n"
     ]
    },
    {
     "name": "stdout",
     "output_type": "stream",
     "text": [
      "67  MED:  Diltiazem\n"
     ]
    },
    {
     "name": "stderr",
     "output_type": "stream",
     "text": [
      "100%|██████████| 161/161 [00:12<00:00, 13.19it/s]\n"
     ]
    },
    {
     "name": "stdout",
     "output_type": "stream",
     "text": [
      "68  MED:  Ampicillin\n"
     ]
    },
    {
     "name": "stderr",
     "output_type": "stream",
     "text": [
      "100%|██████████| 161/161 [00:12<00:00, 12.72it/s]\n"
     ]
    },
    {
     "name": "stdout",
     "output_type": "stream",
     "text": [
      "69  MED:  Nafcillin\n"
     ]
    },
    {
     "name": "stderr",
     "output_type": "stream",
     "text": [
      "100%|██████████| 161/161 [00:11<00:00, 13.45it/s]\n"
     ]
    },
    {
     "name": "stdout",
     "output_type": "stream",
     "text": [
      "70  MED:  Insulin - NPH\n"
     ]
    },
    {
     "name": "stderr",
     "output_type": "stream",
     "text": [
      "100%|██████████| 161/161 [00:12<00:00, 13.03it/s]\n"
     ]
    },
    {
     "name": "stdout",
     "output_type": "stream",
     "text": [
      "71  MED:  D5NS\n"
     ]
    },
    {
     "name": "stderr",
     "output_type": "stream",
     "text": [
      "100%|██████████| 161/161 [00:12<00:00, 12.49it/s]\n"
     ]
    },
    {
     "name": "stdout",
     "output_type": "stream",
     "text": [
      "72  MED:  OR Crystalloid Intake\n"
     ]
    },
    {
     "name": "stderr",
     "output_type": "stream",
     "text": [
      "100%|██████████| 161/161 [00:14<00:00, 10.79it/s]\n"
     ]
    },
    {
     "name": "stdout",
     "output_type": "stream",
     "text": [
      "73  MED:  Acyclovir\n"
     ]
    },
    {
     "name": "stderr",
     "output_type": "stream",
     "text": [
      "100%|██████████| 161/161 [00:12<00:00, 12.82it/s]\n"
     ]
    },
    {
     "name": "stdout",
     "output_type": "stream",
     "text": [
      "74  MED:  Cisatracurium\n"
     ]
    },
    {
     "name": "stderr",
     "output_type": "stream",
     "text": [
      "100%|██████████| 161/161 [00:13<00:00, 11.85it/s]\n"
     ]
    },
    {
     "name": "stdout",
     "output_type": "stream",
     "text": [
      "75  MED:  ProBalance (Full)\n"
     ]
    },
    {
     "name": "stderr",
     "output_type": "stream",
     "text": [
      "100%|██████████| 161/161 [00:11<00:00, 14.37it/s]\n"
     ]
    },
    {
     "name": "stdout",
     "output_type": "stream",
     "text": [
      "76  MED:  K Phos\n"
     ]
    },
    {
     "name": "stderr",
     "output_type": "stream",
     "text": [
      "100%|██████████| 161/161 [00:14<00:00, 11.16it/s]\n"
     ]
    },
    {
     "name": "stdout",
     "output_type": "stream",
     "text": [
      "77  MED:  Diazepam (Valium)\n"
     ]
    },
    {
     "name": "stderr",
     "output_type": "stream",
     "text": [
      "100%|██████████| 161/161 [00:11<00:00, 13.81it/s]\n"
     ]
    },
    {
     "name": "stdout",
     "output_type": "stream",
     "text": [
      "78  MED:  Esmolol\n"
     ]
    },
    {
     "name": "stderr",
     "output_type": "stream",
     "text": [
      "100%|██████████| 161/161 [00:11<00:00, 13.99it/s]\n"
     ]
    },
    {
     "name": "stdout",
     "output_type": "stream",
     "text": [
      "79  MED:  TPN without Lipids\n"
     ]
    },
    {
     "name": "stderr",
     "output_type": "stream",
     "text": [
      "100%|██████████| 161/161 [00:12<00:00, 12.47it/s]\n"
     ]
    },
    {
     "name": "stdout",
     "output_type": "stream",
     "text": [
      "80  MED:  Levofloxacin\n"
     ]
    },
    {
     "name": "stderr",
     "output_type": "stream",
     "text": [
      "100%|██████████| 161/161 [00:13<00:00, 11.94it/s]\n"
     ]
    },
    {
     "name": "stdout",
     "output_type": "stream",
     "text": [
      "81  MED:  Ceftriaxone\n"
     ]
    },
    {
     "name": "stderr",
     "output_type": "stream",
     "text": [
      "100%|██████████| 161/161 [00:13<00:00, 12.33it/s]\n"
     ]
    },
    {
     "name": "stdout",
     "output_type": "stream",
     "text": [
      "82  MED:  Ampicillin/Sulbactam (Unasyn)\n"
     ]
    },
    {
     "name": "stderr",
     "output_type": "stream",
     "text": [
      "100%|██████████| 161/161 [00:11<00:00, 13.59it/s]\n"
     ]
    },
    {
     "name": "stdout",
     "output_type": "stream",
     "text": [
      "83  MED:  Dilantin\n"
     ]
    },
    {
     "name": "stderr",
     "output_type": "stream",
     "text": [
      "100%|██████████| 161/161 [00:11<00:00, 14.24it/s]\n"
     ]
    },
    {
     "name": "stdout",
     "output_type": "stream",
     "text": [
      "84  MED:  Platelets\n"
     ]
    },
    {
     "name": "stderr",
     "output_type": "stream",
     "text": [
      "100%|██████████| 161/161 [00:13<00:00, 11.72it/s]\n"
     ]
    },
    {
     "name": "stdout",
     "output_type": "stream",
     "text": [
      "85  MED:  Vasopressin\n"
     ]
    },
    {
     "name": "stderr",
     "output_type": "stream",
     "text": [
      "100%|██████████| 161/161 [00:12<00:00, 12.70it/s]\n"
     ]
    },
    {
     "name": "stdout",
     "output_type": "stream",
     "text": [
      "86  MED:  Replete (Full)\n"
     ]
    },
    {
     "name": "stderr",
     "output_type": "stream",
     "text": [
      "100%|██████████| 161/161 [00:11<00:00, 14.36it/s]\n"
     ]
    },
    {
     "name": "stdout",
     "output_type": "stream",
     "text": [
      "87  MED:  Epinephrine\n"
     ]
    },
    {
     "name": "stderr",
     "output_type": "stream",
     "text": [
      "100%|██████████| 161/161 [00:11<00:00, 13.57it/s]\n"
     ]
    },
    {
     "name": "stdout",
     "output_type": "stream",
     "text": [
      "88  MED:  Dextrose 50%\n"
     ]
    },
    {
     "name": "stderr",
     "output_type": "stream",
     "text": [
      "100%|██████████| 161/161 [00:13<00:00, 12.22it/s]\n"
     ]
    },
    {
     "name": "stdout",
     "output_type": "stream",
     "text": [
      "89  MED:  Albumin 5%\n"
     ]
    },
    {
     "name": "stderr",
     "output_type": "stream",
     "text": [
      "100%|██████████| 161/161 [00:13<00:00, 12.21it/s]\n"
     ]
    },
    {
     "name": "stdout",
     "output_type": "stream",
     "text": [
      "90  MED:  Lansoprazole (Prevacid)\n"
     ]
    },
    {
     "name": "stderr",
     "output_type": "stream",
     "text": [
      "100%|██████████| 161/161 [00:12<00:00, 12.46it/s]\n"
     ]
    },
    {
     "name": "stdout",
     "output_type": "stream",
     "text": [
      "91  MED:  Ceftazidime\n"
     ]
    },
    {
     "name": "stderr",
     "output_type": "stream",
     "text": [
      "100%|██████████| 161/161 [00:12<00:00, 13.40it/s]\n"
     ]
    },
    {
     "name": "stdout",
     "output_type": "stream",
     "text": [
      "92  MED:  Clindamycin\n"
     ]
    },
    {
     "name": "stderr",
     "output_type": "stream",
     "text": [
      "100%|██████████| 161/161 [00:11<00:00, 13.84it/s]\n"
     ]
    },
    {
     "name": "stdout",
     "output_type": "stream",
     "text": [
      "93  MED:  Amino Acids\n"
     ]
    },
    {
     "name": "stderr",
     "output_type": "stream",
     "text": [
      "100%|██████████| 161/161 [00:12<00:00, 12.74it/s]\n"
     ]
    },
    {
     "name": "stdout",
     "output_type": "stream",
     "text": [
      "94  MED:  Linezolid\n"
     ]
    },
    {
     "name": "stderr",
     "output_type": "stream",
     "text": [
      "100%|██████████| 161/161 [00:11<00:00, 14.45it/s]\n"
     ]
    },
    {
     "name": "stdout",
     "output_type": "stream",
     "text": [
      "95  MED:  Ranitidine (Prophylaxis)\n"
     ]
    },
    {
     "name": "stderr",
     "output_type": "stream",
     "text": [
      "100%|██████████| 161/161 [00:11<00:00, 13.70it/s]\n"
     ]
    },
    {
     "name": "stdout",
     "output_type": "stream",
     "text": [
      "96  MED:  Aztreonam\n"
     ]
    },
    {
     "name": "stderr",
     "output_type": "stream",
     "text": [
      "100%|██████████| 161/161 [00:11<00:00, 13.59it/s]\n"
     ]
    },
    {
     "name": "stdout",
     "output_type": "stream",
     "text": [
      "97  MED:  Milrinone\n"
     ]
    },
    {
     "name": "stderr",
     "output_type": "stream",
     "text": [
      "100%|██████████| 161/161 [00:10<00:00, 15.02it/s]\n"
     ]
    },
    {
     "name": "stdout",
     "output_type": "stream",
     "text": [
      "98  MED:  Vivonex (Full)\n"
     ]
    },
    {
     "name": "stderr",
     "output_type": "stream",
     "text": [
      "100%|██████████| 161/161 [00:11<00:00, 14.41it/s]\n"
     ]
    },
    {
     "name": "stdout",
     "output_type": "stream",
     "text": [
      "99  MED:  Dobutamine\n"
     ]
    },
    {
     "name": "stderr",
     "output_type": "stream",
     "text": [
      "100%|██████████| 161/161 [00:10<00:00, 14.78it/s]\n"
     ]
    },
    {
     "name": "stdout",
     "output_type": "stream",
     "text": [
      "100  MED:  Dextrose PN\n"
     ]
    },
    {
     "name": "stderr",
     "output_type": "stream",
     "text": [
      "100%|██████████| 161/161 [00:12<00:00, 13.02it/s]\n"
     ]
    },
    {
     "name": "stdout",
     "output_type": "stream",
     "text": [
      "101  MED:  Thiamine\n"
     ]
    },
    {
     "name": "stderr",
     "output_type": "stream",
     "text": [
      "100%|██████████| 161/161 [00:13<00:00, 12.13it/s]\n"
     ]
    },
    {
     "name": "stdout",
     "output_type": "stream",
     "text": [
      "102  MED:  Gentamicin\n"
     ]
    },
    {
     "name": "stderr",
     "output_type": "stream",
     "text": [
      "100%|██████████| 161/161 [00:11<00:00, 14.21it/s]\n"
     ]
    },
    {
     "name": "stdout",
     "output_type": "stream",
     "text": [
      "103  MED:  Caspofungin\n"
     ]
    },
    {
     "name": "stderr",
     "output_type": "stream",
     "text": [
      "100%|██████████| 161/161 [00:11<00:00, 13.84it/s]\n"
     ]
    },
    {
     "name": "stdout",
     "output_type": "stream",
     "text": [
      "104  MED:  Nitroprusside\n"
     ]
    },
    {
     "name": "stderr",
     "output_type": "stream",
     "text": [
      "100%|██████████| 161/161 [00:10<00:00, 15.21it/s]\n"
     ]
    },
    {
     "name": "stdout",
     "output_type": "stream",
     "text": [
      "105  MED:  Impact with Fiber (Full)\n"
     ]
    },
    {
     "name": "stderr",
     "output_type": "stream",
     "text": [
      "100%|██████████| 161/161 [00:10<00:00, 14.73it/s]\n"
     ]
    },
    {
     "name": "stdout",
     "output_type": "stream",
     "text": [
      "106  MED:  Dextrose 10%\n"
     ]
    },
    {
     "name": "stderr",
     "output_type": "stream",
     "text": [
      "100%|██████████| 161/161 [00:11<00:00, 14.24it/s]\n"
     ]
    },
    {
     "name": "stdout",
     "output_type": "stream",
     "text": [
      "107  MED:  Bactrim (SMX/TMP)\n"
     ]
    },
    {
     "name": "stderr",
     "output_type": "stream",
     "text": [
      "100%|██████████| 161/161 [00:11<00:00, 14.49it/s]\n"
     ]
    },
    {
     "name": "stdout",
     "output_type": "stream",
     "text": [
      "108  MED:  Fluconazole\n"
     ]
    },
    {
     "name": "stderr",
     "output_type": "stream",
     "text": [
      "100%|██████████| 161/161 [00:12<00:00, 13.06it/s]\n"
     ]
    },
    {
     "name": "stdout",
     "output_type": "stream",
     "text": [
      "109  MED:  Methadone Hydrochloride\n"
     ]
    },
    {
     "name": "stderr",
     "output_type": "stream",
     "text": [
      "100%|██████████| 161/161 [00:11<00:00, 14.62it/s]\n"
     ]
    },
    {
     "name": "stdout",
     "output_type": "stream",
     "text": [
      "110  MED:  Octreotide\n"
     ]
    },
    {
     "name": "stderr",
     "output_type": "stream",
     "text": [
      "100%|██████████| 161/161 [00:12<00:00, 13.30it/s]\n"
     ]
    },
    {
     "name": "stdout",
     "output_type": "stream",
     "text": [
      "111  MED:  Folic Acid\n"
     ]
    },
    {
     "name": "stderr",
     "output_type": "stream",
     "text": [
      "100%|██████████| 161/161 [00:11<00:00, 14.47it/s]\n"
     ]
    },
    {
     "name": "stdout",
     "output_type": "stream",
     "text": [
      "112  MED:  Sodium Bicarbonate 8.4% (Amp)\n"
     ]
    },
    {
     "name": "stderr",
     "output_type": "stream",
     "text": [
      "100%|██████████| 161/161 [00:12<00:00, 12.84it/s]\n"
     ]
    },
    {
     "name": "stdout",
     "output_type": "stream",
     "text": [
      "113  MED:  Enoxaparin (Lovenox)\n"
     ]
    },
    {
     "name": "stderr",
     "output_type": "stream",
     "text": [
      "100%|██████████| 161/161 [00:11<00:00, 14.58it/s]\n"
     ]
    },
    {
     "name": "stdout",
     "output_type": "stream",
     "text": [
      "114  MED:  Mannitol\n"
     ]
    },
    {
     "name": "stderr",
     "output_type": "stream",
     "text": [
      "100%|██████████| 161/161 [00:10<00:00, 14.96it/s]\n"
     ]
    },
    {
     "name": "stdout",
     "output_type": "stream",
     "text": [
      "115  MED:  D5 1/4NS\n"
     ]
    },
    {
     "name": "stderr",
     "output_type": "stream",
     "text": [
      "100%|██████████| 161/161 [00:10<00:00, 14.66it/s]\n"
     ]
    },
    {
     "name": "stdout",
     "output_type": "stream",
     "text": [
      "116  MED:  OR Packed RBC Intake\n"
     ]
    },
    {
     "name": "stderr",
     "output_type": "stream",
     "text": [
      "100%|██████████| 161/161 [00:12<00:00, 12.50it/s]\n"
     ]
    },
    {
     "name": "stdout",
     "output_type": "stream",
     "text": [
      "117  MED:  Impact (Full)\n"
     ]
    },
    {
     "name": "stderr",
     "output_type": "stream",
     "text": [
      "100%|██████████| 161/161 [00:10<00:00, 15.92it/s]\n"
     ]
    },
    {
     "name": "stdout",
     "output_type": "stream",
     "text": [
      "118  MED:  Lipids (additive)\n"
     ]
    },
    {
     "name": "stderr",
     "output_type": "stream",
     "text": [
      "100%|██████████| 161/161 [00:11<00:00, 14.49it/s]\n"
     ]
    },
    {
     "name": "stdout",
     "output_type": "stream",
     "text": [
      "119  MED:  Penicillin G potassium\n"
     ]
    },
    {
     "name": "stderr",
     "output_type": "stream",
     "text": [
      "100%|██████████| 161/161 [00:10<00:00, 15.74it/s]\n"
     ]
    },
    {
     "name": "stdout",
     "output_type": "stream",
     "text": [
      "120  MED:  NaCl 3% (Hypertonic Saline)\n"
     ]
    },
    {
     "name": "stderr",
     "output_type": "stream",
     "text": [
      "100%|██████████| 161/161 [00:11<00:00, 14.43it/s]\n"
     ]
    },
    {
     "name": "stdout",
     "output_type": "stream",
     "text": [
      "121  MED:  Na Phos\n"
     ]
    },
    {
     "name": "stderr",
     "output_type": "stream",
     "text": [
      "100%|██████████| 161/161 [00:12<00:00, 12.93it/s]\n"
     ]
    },
    {
     "name": "stdout",
     "output_type": "stream",
     "text": [
      "122  MED:  Multivitamins\n"
     ]
    },
    {
     "name": "stderr",
     "output_type": "stream",
     "text": [
      "100%|██████████| 161/161 [00:11<00:00, 13.88it/s]\n"
     ]
    },
    {
     "name": "stdout",
     "output_type": "stream",
     "text": [
      "123  MED:  Pentobarbital\n"
     ]
    },
    {
     "name": "stderr",
     "output_type": "stream",
     "text": [
      "100%|██████████| 161/161 [00:10<00:00, 15.92it/s]\n"
     ]
    },
    {
     "name": "stdout",
     "output_type": "stream",
     "text": [
      "124  MED:  Azithromycin\n"
     ]
    },
    {
     "name": "stderr",
     "output_type": "stream",
     "text": [
      "100%|██████████| 161/161 [00:11<00:00, 14.25it/s]\n"
     ]
    },
    {
     "name": "stdout",
     "output_type": "stream",
     "text": [
      "125  MED:  Nutren Renal (1/2)\n"
     ]
    },
    {
     "name": "stderr",
     "output_type": "stream",
     "text": [
      "100%|██████████| 161/161 [00:10<00:00, 15.43it/s]\n"
     ]
    },
    {
     "name": "stdout",
     "output_type": "stream",
     "text": [
      "126  MED:  Peptamen 1.5 (Full)\n"
     ]
    },
    {
     "name": "stderr",
     "output_type": "stream",
     "text": [
      "100%|██████████| 161/161 [00:10<00:00, 15.84it/s]\n"
     ]
    },
    {
     "name": "stdout",
     "output_type": "stream",
     "text": [
      "127  MED:  OR Colloid Intake\n"
     ]
    },
    {
     "name": "stderr",
     "output_type": "stream",
     "text": [
      "100%|██████████| 161/161 [00:13<00:00, 12.02it/s]\n"
     ]
    },
    {
     "name": "stdout",
     "output_type": "stream",
     "text": [
      "128  MED:  Eptifibatide (Integrilin)\n"
     ]
    },
    {
     "name": "stderr",
     "output_type": "stream",
     "text": [
      "100%|██████████| 161/161 [00:10<00:00, 15.33it/s]\n"
     ]
    },
    {
     "name": "stdout",
     "output_type": "stream",
     "text": [
      "129  MED:  OR Cell Saver Intake\n"
     ]
    },
    {
     "name": "stderr",
     "output_type": "stream",
     "text": [
      "100%|██████████| 161/161 [00:11<00:00, 13.89it/s]\n"
     ]
    },
    {
     "name": "stdout",
     "output_type": "stream",
     "text": [
      "130  MED:  Carafate (Sucralfate)\n"
     ]
    },
    {
     "name": "stderr",
     "output_type": "stream",
     "text": [
      "100%|██████████| 161/161 [00:10<00:00, 14.87it/s]\n"
     ]
    },
    {
     "name": "stdout",
     "output_type": "stream",
     "text": [
      "131  MED:  Daptomycin\n"
     ]
    },
    {
     "name": "stderr",
     "output_type": "stream",
     "text": [
      "100%|██████████| 161/161 [00:10<00:00, 14.72it/s]\n"
     ]
    },
    {
     "name": "stdout",
     "output_type": "stream",
     "text": [
      "132  MED:  Nutren Renal (3/4)\n"
     ]
    },
    {
     "name": "stderr",
     "output_type": "stream",
     "text": [
      "100%|██████████| 161/161 [00:10<00:00, 15.19it/s]\n"
     ]
    },
    {
     "name": "stdout",
     "output_type": "stream",
     "text": [
      "133  MED:  D5LR\n"
     ]
    },
    {
     "name": "stderr",
     "output_type": "stream",
     "text": [
      "100%|██████████| 161/161 [00:10<00:00, 14.78it/s]\n"
     ]
    },
    {
     "name": "stdout",
     "output_type": "stream",
     "text": [
      "134  MED:  Cath Lab Intake\n"
     ]
    },
    {
     "name": "stderr",
     "output_type": "stream",
     "text": [
      "100%|██████████| 161/161 [00:11<00:00, 13.95it/s]\n"
     ]
    },
    {
     "name": "stdout",
     "output_type": "stream",
     "text": [
      "135  MED:  OR FFP Intake\n"
     ]
    },
    {
     "name": "stderr",
     "output_type": "stream",
     "text": [
      "100%|██████████| 161/161 [00:12<00:00, 13.03it/s]\n"
     ]
    },
    {
     "name": "stdout",
     "output_type": "stream",
     "text": [
      "136  MED:  IV Immune Globulin (IVIG)\n"
     ]
    },
    {
     "name": "stderr",
     "output_type": "stream",
     "text": [
      "100%|██████████| 161/161 [00:10<00:00, 15.09it/s]\n"
     ]
    },
    {
     "name": "stdout",
     "output_type": "stream",
     "text": [
      "137  MED:  Replete with Fiber (1/2)\n"
     ]
    },
    {
     "name": "stderr",
     "output_type": "stream",
     "text": [
      "100%|██████████| 161/161 [00:10<00:00, 14.90it/s]\n"
     ]
    },
    {
     "name": "stdout",
     "output_type": "stream",
     "text": [
      "138  MED:  Ketamine\n"
     ]
    },
    {
     "name": "stderr",
     "output_type": "stream",
     "text": [
      "100%|██████████| 161/161 [00:09<00:00, 16.34it/s]\n"
     ]
    },
    {
     "name": "stdout",
     "output_type": "stream",
     "text": [
      "139  MED:  OR Platelet Intake\n"
     ]
    },
    {
     "name": "stderr",
     "output_type": "stream",
     "text": [
      "100%|██████████| 161/161 [00:11<00:00, 13.79it/s]\n"
     ]
    },
    {
     "name": "stdout",
     "output_type": "stream",
     "text": [
      "140  MED:  Vecuronium\n"
     ]
    },
    {
     "name": "stderr",
     "output_type": "stream",
     "text": [
      "100%|██████████| 161/161 [00:11<00:00, 13.79it/s]\n"
     ]
    },
    {
     "name": "stdout",
     "output_type": "stream",
     "text": [
      "141  MED:  ACD-A Citrate (500ml)\n"
     ]
    },
    {
     "name": "stderr",
     "output_type": "stream",
     "text": [
      "100%|██████████| 161/161 [00:10<00:00, 15.81it/s]\n"
     ]
    },
    {
     "name": "stdout",
     "output_type": "stream",
     "text": [
      "142  MED:  Coumadin (Warfarin)\n"
     ]
    },
    {
     "name": "stderr",
     "output_type": "stream",
     "text": [
      "100%|██████████| 161/161 [00:10<00:00, 14.71it/s]\n"
     ]
    },
    {
     "name": "stdout",
     "output_type": "stream",
     "text": [
      "143  MED:  Drotrecogin (Xigris)\n"
     ]
    },
    {
     "name": "stderr",
     "output_type": "stream",
     "text": [
      "100%|██████████| 161/161 [00:10<00:00, 15.58it/s]\n"
     ]
    },
    {
     "name": "stdout",
     "output_type": "stream",
     "text": [
      "144  MED:  Omeprazole (Prilosec)\n"
     ]
    },
    {
     "name": "stderr",
     "output_type": "stream",
     "text": [
      "100%|██████████| 161/161 [00:10<00:00, 15.25it/s]\n"
     ]
    },
    {
     "name": "stdout",
     "output_type": "stream",
     "text": [
      "145  MED:  Voriconazole\n"
     ]
    },
    {
     "name": "stderr",
     "output_type": "stream",
     "text": [
      "100%|██████████| 161/161 [00:10<00:00, 15.24it/s]\n"
     ]
    },
    {
     "name": "stdout",
     "output_type": "stream",
     "text": [
      "146  MED:  Tobramycin\n"
     ]
    },
    {
     "name": "stderr",
     "output_type": "stream",
     "text": [
      "100%|██████████| 161/161 [00:11<00:00, 14.15it/s]\n"
     ]
    },
    {
     "name": "stdout",
     "output_type": "stream",
     "text": [
      "147  MED:  PACU Crystalloid Intake\n"
     ]
    },
    {
     "name": "stderr",
     "output_type": "stream",
     "text": [
      "100%|██████████| 161/161 [00:10<00:00, 14.85it/s]\n"
     ]
    },
    {
     "name": "stdout",
     "output_type": "stream",
     "text": [
      "148  MED:  Peripheral Parenteral Nutrition\n"
     ]
    },
    {
     "name": "stderr",
     "output_type": "stream",
     "text": [
      "100%|██████████| 161/161 [00:11<00:00, 14.28it/s]\n"
     ]
    },
    {
     "name": "stdout",
     "output_type": "stream",
     "text": [
      "149  MED:  Doxycycline\n"
     ]
    },
    {
     "name": "stderr",
     "output_type": "stream",
     "text": [
      "100%|██████████| 161/161 [00:10<00:00, 14.76it/s]\n"
     ]
    },
    {
     "name": "stdout",
     "output_type": "stream",
     "text": [
      "150  MED:  Cryoprecipitate\n"
     ]
    },
    {
     "name": "stderr",
     "output_type": "stream",
     "text": [
      "100%|██████████| 161/161 [00:10<00:00, 14.81it/s]\n"
     ]
    },
    {
     "name": "stdout",
     "output_type": "stream",
     "text": [
      "151  MED:  Replete with Fiber (3/4)\n"
     ]
    },
    {
     "name": "stderr",
     "output_type": "stream",
     "text": [
      "100%|██████████| 161/161 [00:10<00:00, 15.01it/s]\n"
     ]
    },
    {
     "name": "stdout",
     "output_type": "stream",
     "text": [
      "152  MED:  Nutren Pulmonary (1/2)\n"
     ]
    },
    {
     "name": "stderr",
     "output_type": "stream",
     "text": [
      "100%|██████████| 161/161 [00:11<00:00, 14.54it/s]\n"
     ]
    },
    {
     "name": "stdout",
     "output_type": "stream",
     "text": [
      "153  MED:  Erythromycin\n"
     ]
    },
    {
     "name": "stderr",
     "output_type": "stream",
     "text": [
      "100%|██████████| 161/161 [00:10<00:00, 15.00it/s]\n"
     ]
    },
    {
     "name": "stdout",
     "output_type": "stream",
     "text": [
      "154  MED:  Gancyclovir\n"
     ]
    },
    {
     "name": "stderr",
     "output_type": "stream",
     "text": [
      "100%|██████████| 161/161 [00:10<00:00, 14.85it/s]\n"
     ]
    },
    {
     "name": "stdout",
     "output_type": "stream",
     "text": [
      "155  MED:  Replete (3/4)\n"
     ]
    },
    {
     "name": "stderr",
     "output_type": "stream",
     "text": [
      "100%|██████████| 161/161 [00:10<00:00, 15.30it/s]\n"
     ]
    },
    {
     "name": "stdout",
     "output_type": "stream",
     "text": [
      "156  MED:  Fosphenytoin\n"
     ]
    },
    {
     "name": "stderr",
     "output_type": "stream",
     "text": [
      "100%|██████████| 161/161 [00:11<00:00, 13.89it/s]\n"
     ]
    },
    {
     "name": "stdout",
     "output_type": "stream",
     "text": [
      "157  MED:  Meperidine (Demerol)\n"
     ]
    },
    {
     "name": "stderr",
     "output_type": "stream",
     "text": [
      "100%|██████████| 161/161 [00:10<00:00, 14.74it/s]\n"
     ]
    },
    {
     "name": "stdout",
     "output_type": "stream",
     "text": [
      "158  MED:  Fibersource HN (1/4)\n"
     ]
    },
    {
     "name": "stderr",
     "output_type": "stream",
     "text": [
      "100%|██████████| 161/161 [00:10<00:00, 15.75it/s]\n"
     ]
    },
    {
     "name": "stdout",
     "output_type": "stream",
     "text": [
      "159  MED:  Insulin - 70/30\n"
     ]
    },
    {
     "name": "stderr",
     "output_type": "stream",
     "text": [
      "100%|██████████| 161/161 [00:10<00:00, 14.83it/s]\n"
     ]
    },
    {
     "name": "stdout",
     "output_type": "stream",
     "text": [
      "160  MED:  Lidocaine\n"
     ]
    },
    {
     "name": "stderr",
     "output_type": "stream",
     "text": [
      "100%|██████████| 161/161 [00:11<00:00, 14.42it/s]\n"
     ]
    },
    {
     "name": "stdout",
     "output_type": "stream",
     "text": [
      "161  MED:  Argatroban\n"
     ]
    },
    {
     "name": "stderr",
     "output_type": "stream",
     "text": [
      "100%|██████████| 161/161 [00:10<00:00, 15.68it/s]\n"
     ]
    },
    {
     "name": "stdout",
     "output_type": "stream",
     "text": [
      "162  MED:  Replete with Fiber (1/4)\n"
     ]
    },
    {
     "name": "stderr",
     "output_type": "stream",
     "text": [
      "100%|██████████| 161/161 [00:10<00:00, 15.73it/s]\n"
     ]
    },
    {
     "name": "stdout",
     "output_type": "stream",
     "text": [
      "163  MED:  Naloxone (Narcan)\n"
     ]
    },
    {
     "name": "stderr",
     "output_type": "stream",
     "text": [
      "100%|██████████| 161/161 [00:10<00:00, 15.27it/s]\n"
     ]
    },
    {
     "name": "stdout",
     "output_type": "stream",
     "text": [
      "164  MED:  Ambisome\n"
     ]
    },
    {
     "name": "stderr",
     "output_type": "stream",
     "text": [
      "100%|██████████| 161/161 [00:11<00:00, 14.52it/s]\n"
     ]
    },
    {
     "name": "stdout",
     "output_type": "stream",
     "text": [
      "165  MED:  Foscarnet\n"
     ]
    },
    {
     "name": "stderr",
     "output_type": "stream",
     "text": [
      "100%|██████████| 161/161 [00:10<00:00, 15.73it/s]\n"
     ]
    },
    {
     "name": "stdout",
     "output_type": "stream",
     "text": [
      "166  MED:  Imipenem/Cilastatin\n"
     ]
    },
    {
     "name": "stderr",
     "output_type": "stream",
     "text": [
      "100%|██████████| 161/161 [00:10<00:00, 15.48it/s]\n"
     ]
    },
    {
     "name": "stdout",
     "output_type": "stream",
     "text": [
      "167  MED:  Hetastarch (Hespan) 6%\n"
     ]
    },
    {
     "name": "stderr",
     "output_type": "stream",
     "text": [
      "100%|██████████| 161/161 [00:11<00:00, 14.62it/s]\n"
     ]
    },
    {
     "name": "stdout",
     "output_type": "stream",
     "text": [
      "168  MED:  Vitamin K (Phytonadione)\n"
     ]
    },
    {
     "name": "stderr",
     "output_type": "stream",
     "text": [
      "100%|██████████| 161/161 [00:10<00:00, 14.72it/s]\n"
     ]
    },
    {
     "name": "stdout",
     "output_type": "stream",
     "text": [
      "169  MED:  Insulin - Humalog 75/25\n"
     ]
    },
    {
     "name": "stderr",
     "output_type": "stream",
     "text": [
      "100%|██████████| 161/161 [00:10<00:00, 15.65it/s]\n"
     ]
    },
    {
     "name": "stdout",
     "output_type": "stream",
     "text": [
      "170  MED:  Amikacin\n"
     ]
    },
    {
     "name": "stderr",
     "output_type": "stream",
     "text": [
      "100%|██████████| 161/161 [00:10<00:00, 15.64it/s]\n"
     ]
    },
    {
     "name": "stdout",
     "output_type": "stream",
     "text": [
      "171  MED:  Ensure (Full)\n"
     ]
    },
    {
     "name": "stderr",
     "output_type": "stream",
     "text": [
      "100%|██████████| 161/161 [00:10<00:00, 15.99it/s]\n"
     ]
    },
    {
     "name": "stdout",
     "output_type": "stream",
     "text": [
      "172  MED:  Nutren 2.0 (1/4)\n"
     ]
    },
    {
     "name": "stderr",
     "output_type": "stream",
     "text": [
      "100%|██████████| 161/161 [00:10<00:00, 15.59it/s]\n"
     ]
    },
    {
     "name": "stdout",
     "output_type": "stream",
     "text": [
      "173  MED:  Adenosine\n"
     ]
    },
    {
     "name": "stderr",
     "output_type": "stream",
     "text": [
      "100%|██████████| 161/161 [00:10<00:00, 15.77it/s]\n"
     ]
    },
    {
     "name": "stdout",
     "output_type": "stream",
     "text": [
      "174  MED:  Atropine\n"
     ]
    },
    {
     "name": "stderr",
     "output_type": "stream",
     "text": [
      "100%|██████████| 161/161 [00:10<00:00, 15.55it/s]\n"
     ]
    },
    {
     "name": "stdout",
     "output_type": "stream",
     "text": [
      "175  MED:  OR Cryoprecipitate Intake\n"
     ]
    },
    {
     "name": "stderr",
     "output_type": "stream",
     "text": [
      "100%|██████████| 161/161 [00:11<00:00, 14.41it/s]\n"
     ]
    },
    {
     "name": "stdout",
     "output_type": "stream",
     "text": [
      "176  MED:  Ensure Plus (Full)\n"
     ]
    },
    {
     "name": "stderr",
     "output_type": "stream",
     "text": [
      "100%|██████████| 161/161 [00:10<00:00, 15.87it/s]\n"
     ]
    },
    {
     "name": "stdout",
     "output_type": "stream",
     "text": [
      "177  MED:  Alteplase (TPA)\n"
     ]
    },
    {
     "name": "stderr",
     "output_type": "stream",
     "text": [
      "100%|██████████| 161/161 [00:10<00:00, 15.55it/s]\n"
     ]
    },
    {
     "name": "stdout",
     "output_type": "stream",
     "text": [
      "178  MED:  Colistin\n"
     ]
    },
    {
     "name": "stderr",
     "output_type": "stream",
     "text": [
      "100%|██████████| 161/161 [00:10<00:00, 15.39it/s]\n"
     ]
    },
    {
     "name": "stdout",
     "output_type": "stream",
     "text": [
      "179  MED:  Verapamil\n"
     ]
    },
    {
     "name": "stderr",
     "output_type": "stream",
     "text": [
      "100%|██████████| 161/161 [00:10<00:00, 15.47it/s]\n"
     ]
    },
    {
     "name": "stdout",
     "output_type": "stream",
     "text": [
      "180  MED:  Replete (1/4)\n"
     ]
    },
    {
     "name": "stderr",
     "output_type": "stream",
     "text": [
      "100%|██████████| 161/161 [00:09<00:00, 16.96it/s]\n"
     ]
    },
    {
     "name": "stdout",
     "output_type": "stream",
     "text": [
      "181  MED:  Micafungin\n"
     ]
    },
    {
     "name": "stderr",
     "output_type": "stream",
     "text": [
      "100%|██████████| 161/161 [00:10<00:00, 15.51it/s]\n"
     ]
    },
    {
     "name": "stdout",
     "output_type": "stream",
     "text": [
      "182  MED:  Fondaparinux\n"
     ]
    },
    {
     "name": "stderr",
     "output_type": "stream",
     "text": [
      "100%|██████████| 161/161 [00:10<00:00, 15.86it/s]\n"
     ]
    },
    {
     "name": "stdout",
     "output_type": "stream",
     "text": [
      "183  MED:  Impact (1/4)\n"
     ]
    },
    {
     "name": "stderr",
     "output_type": "stream",
     "text": [
      "100%|██████████| 161/161 [00:09<00:00, 16.87it/s]\n"
     ]
    },
    {
     "name": "stdout",
     "output_type": "stream",
     "text": [
      "184  MED:  Rifampin\n"
     ]
    },
    {
     "name": "stderr",
     "output_type": "stream",
     "text": [
      "100%|██████████| 161/161 [00:10<00:00, 15.43it/s]\n"
     ]
    },
    {
     "name": "stdout",
     "output_type": "stream",
     "text": [
      "185  MED:  Dextran 40\n"
     ]
    },
    {
     "name": "stderr",
     "output_type": "stream",
     "text": [
      "100%|██████████| 161/161 [00:09<00:00, 16.35it/s]\n"
     ]
    },
    {
     "name": "stdout",
     "output_type": "stream",
     "text": [
      "186  MED:  Isuprel\n"
     ]
    },
    {
     "name": "stderr",
     "output_type": "stream",
     "text": [
      "100%|██████████| 161/161 [00:09<00:00, 17.05it/s]\n"
     ]
    },
    {
     "name": "stdout",
     "output_type": "stream",
     "text": [
      "187  MED:  Plasma Pheresis\n"
     ]
    },
    {
     "name": "stderr",
     "output_type": "stream",
     "text": [
      "100%|██████████| 161/161 [00:10<00:00, 15.68it/s]\n"
     ]
    },
    {
     "name": "stdout",
     "output_type": "stream",
     "text": [
      "188  MED:  PACU Packed RBC Intake\n"
     ]
    },
    {
     "name": "stderr",
     "output_type": "stream",
     "text": [
      "100%|██████████| 161/161 [00:11<00:00, 13.86it/s]\n"
     ]
    },
    {
     "name": "stdout",
     "output_type": "stream",
     "text": [
      "189  MED:  PACU Colloid Intake\n"
     ]
    },
    {
     "name": "stderr",
     "output_type": "stream",
     "text": [
      "100%|██████████| 161/161 [00:10<00:00, 15.17it/s]\n"
     ]
    },
    {
     "name": "stdout",
     "output_type": "stream",
     "text": [
      "190  MED:  Replete (1/2)\n"
     ]
    },
    {
     "name": "stderr",
     "output_type": "stream",
     "text": [
      "100%|██████████| 161/161 [00:10<00:00, 15.90it/s]\n"
     ]
    },
    {
     "name": "stdout",
     "output_type": "stream",
     "text": [
      "191  MED:  Ensure (1/4)\n"
     ]
    },
    {
     "name": "stderr",
     "output_type": "stream",
     "text": [
      "100%|██████████| 161/161 [00:09<00:00, 16.89it/s]\n"
     ]
    },
    {
     "name": "stdout",
     "output_type": "stream",
     "text": [
      "192  MED:  Lipids 20%\n"
     ]
    },
    {
     "name": "stderr",
     "output_type": "stream",
     "text": [
      "100%|██████████| 161/161 [00:10<00:00, 15.46it/s]\n"
     ]
    },
    {
     "name": "stdout",
     "output_type": "stream",
     "text": [
      "193  MED:  OR Autologous Blood Intake\n"
     ]
    },
    {
     "name": "stderr",
     "output_type": "stream",
     "text": [
      "100%|██████████| 161/161 [00:10<00:00, 15.77it/s]\n"
     ]
    },
    {
     "name": "stdout",
     "output_type": "stream",
     "text": [
      "194  MED:  Keflex\n"
     ]
    },
    {
     "name": "stderr",
     "output_type": "stream",
     "text": [
      "100%|██████████| 161/161 [00:09<00:00, 16.16it/s]\n"
     ]
    },
    {
     "name": "stdout",
     "output_type": "stream",
     "text": [
      "195  MED:  Nutren 2.0 (1/2)\n"
     ]
    },
    {
     "name": "stderr",
     "output_type": "stream",
     "text": [
      "100%|██████████| 161/161 [00:09<00:00, 16.89it/s]\n"
     ]
    },
    {
     "name": "stdout",
     "output_type": "stream",
     "text": [
      "196  MED:  Nutren 2.0 (3/4)\n"
     ]
    },
    {
     "name": "stderr",
     "output_type": "stream",
     "text": [
      "100%|██████████| 161/161 [00:09<00:00, 16.75it/s]\n"
     ]
    },
    {
     "name": "stdout",
     "output_type": "stream",
     "text": [
      "197  MED:  Valgancyclovir\n"
     ]
    },
    {
     "name": "stderr",
     "output_type": "stream",
     "text": [
      "100%|██████████| 161/161 [00:10<00:00, 15.48it/s]\n"
     ]
    },
    {
     "name": "stdout",
     "output_type": "stream",
     "text": [
      "198  MED:  Magnesium Sulfate (OB-GYN)\n"
     ]
    },
    {
     "name": "stderr",
     "output_type": "stream",
     "text": [
      "100%|██████████| 161/161 [00:10<00:00, 15.85it/s]\n"
     ]
    },
    {
     "name": "stdout",
     "output_type": "stream",
     "text": [
      "199  MED:  Atovaquone\n"
     ]
    },
    {
     "name": "stderr",
     "output_type": "stream",
     "text": [
      "100%|██████████| 161/161 [00:10<00:00, 14.92it/s]\n"
     ]
    }
   ],
   "source": [
    "res = comp_med_analysis(lab_measurements, top200_meds, n_medlab_pairs=50)"
   ]
  },
  {
   "cell_type": "code",
   "execution_count": null,
   "metadata": {
    "colab": {
     "background_save": true
    },
    "id": "S871ehQseRZk"
   },
   "outputs": [],
   "source": [
    "res.to_csv(os.path.join(PARENT, 'Med-Labtest_Pairs_Top200Meds_50Subjects.csv'))"
   ]
  },
  {
   "cell_type": "code",
   "execution_count": null,
   "metadata": {
    "colab": {
     "background_save": true
    },
    "id": "B6uDmh4fdy-e"
   },
   "outputs": [
    {
     "data": {
      "text/html": [
       "\n",
       "  <div id=\"df-9bf3aae1-ef99-4b8e-bde3-1536a25c9ceb\">\n",
       "    <div class=\"colab-df-container\">\n",
       "      <div>\n",
       "<style scoped>\n",
       "    .dataframe tbody tr th:only-of-type {\n",
       "        vertical-align: middle;\n",
       "    }\n",
       "\n",
       "    .dataframe tbody tr th {\n",
       "        vertical-align: top;\n",
       "    }\n",
       "\n",
       "    .dataframe thead th {\n",
       "        text-align: right;\n",
       "    }\n",
       "</style>\n",
       "<table border=\"1\" class=\"dataframe\">\n",
       "  <thead>\n",
       "    <tr style=\"text-align: right;\">\n",
       "      <th></th>\n",
       "      <th>Medication Name</th>\n",
       "      <th>Feature Name</th>\n",
       "      <th>Number of patients</th>\n",
       "      <th>Feature Before(mean)</th>\n",
       "      <th>Feature Before(std)</th>\n",
       "      <th>Time Before(mean)</th>\n",
       "      <th>Time Before(std)</th>\n",
       "      <th>Feature After(mean)</th>\n",
       "      <th>Feature After(std)</th>\n",
       "      <th>Time After(mean)</th>\n",
       "      <th>Time After(std)</th>\n",
       "      <th>Mannwhitney-pvalue</th>\n",
       "      <th>Ttest-pvalue</th>\n",
       "    </tr>\n",
       "  </thead>\n",
       "  <tbody>\n",
       "    <tr>\n",
       "      <th>0</th>\n",
       "      <td>NaCl 0.9%</td>\n",
       "      <td>Calcium, Total</td>\n",
       "      <td>1043</td>\n",
       "      <td>7.811601</td>\n",
       "      <td>0.852798</td>\n",
       "      <td>16.419751</td>\n",
       "      <td>6.010735</td>\n",
       "      <td>7.826366</td>\n",
       "      <td>0.741066</td>\n",
       "      <td>9.325775</td>\n",
       "      <td>6.819014</td>\n",
       "      <td>0.038304</td>\n",
       "      <td>0.673022</td>\n",
       "    </tr>\n",
       "    <tr>\n",
       "      <th>1</th>\n",
       "      <td>NaCl 0.9%</td>\n",
       "      <td>Chloride</td>\n",
       "      <td>812</td>\n",
       "      <td>107.272167</td>\n",
       "      <td>9.622521</td>\n",
       "      <td>15.968555</td>\n",
       "      <td>6.222861</td>\n",
       "      <td>107.825123</td>\n",
       "      <td>8.993981</td>\n",
       "      <td>9.147065</td>\n",
       "      <td>6.694655</td>\n",
       "      <td>0.497539</td>\n",
       "      <td>0.231757</td>\n",
       "    </tr>\n",
       "    <tr>\n",
       "      <th>2</th>\n",
       "      <td>NaCl 0.9%</td>\n",
       "      <td>Creatinine</td>\n",
       "      <td>844</td>\n",
       "      <td>2.666588</td>\n",
       "      <td>2.264125</td>\n",
       "      <td>16.760190</td>\n",
       "      <td>5.727178</td>\n",
       "      <td>2.608412</td>\n",
       "      <td>2.196355</td>\n",
       "      <td>8.091469</td>\n",
       "      <td>6.464699</td>\n",
       "      <td>0.071883</td>\n",
       "      <td>0.592175</td>\n",
       "    </tr>\n",
       "    <tr>\n",
       "      <th>3</th>\n",
       "      <td>NaCl 0.9%</td>\n",
       "      <td>Phosphate</td>\n",
       "      <td>973</td>\n",
       "      <td>3.547174</td>\n",
       "      <td>1.987395</td>\n",
       "      <td>15.845529</td>\n",
       "      <td>6.151007</td>\n",
       "      <td>3.430319</td>\n",
       "      <td>1.957726</td>\n",
       "      <td>9.633436</td>\n",
       "      <td>6.870303</td>\n",
       "      <td>0.029920</td>\n",
       "      <td>0.191499</td>\n",
       "    </tr>\n",
       "    <tr>\n",
       "      <th>4</th>\n",
       "      <td>NaCl 0.9%</td>\n",
       "      <td>Potassium</td>\n",
       "      <td>366</td>\n",
       "      <td>4.400820</td>\n",
       "      <td>1.531093</td>\n",
       "      <td>14.377505</td>\n",
       "      <td>6.954470</td>\n",
       "      <td>4.112842</td>\n",
       "      <td>1.359583</td>\n",
       "      <td>9.152732</td>\n",
       "      <td>6.651877</td>\n",
       "      <td>0.022873</td>\n",
       "      <td>0.007295</td>\n",
       "    </tr>\n",
       "    <tr>\n",
       "      <th>...</th>\n",
       "      <td>...</td>\n",
       "      <td>...</td>\n",
       "      <td>...</td>\n",
       "      <td>...</td>\n",
       "      <td>...</td>\n",
       "      <td>...</td>\n",
       "      <td>...</td>\n",
       "      <td>...</td>\n",
       "      <td>...</td>\n",
       "      <td>...</td>\n",
       "      <td>...</td>\n",
       "      <td>...</td>\n",
       "      <td>...</td>\n",
       "    </tr>\n",
       "    <tr>\n",
       "      <th>2546</th>\n",
       "      <td>Omeprazole (Prilosec)</td>\n",
       "      <td>Hematocrit</td>\n",
       "      <td>51</td>\n",
       "      <td>30.115686</td>\n",
       "      <td>5.249852</td>\n",
       "      <td>17.988889</td>\n",
       "      <td>4.713649</td>\n",
       "      <td>29.905882</td>\n",
       "      <td>3.876360</td>\n",
       "      <td>14.346732</td>\n",
       "      <td>7.511717</td>\n",
       "      <td>0.438822</td>\n",
       "      <td>0.818877</td>\n",
       "    </tr>\n",
       "    <tr>\n",
       "      <th>2547</th>\n",
       "      <td>Omeprazole (Prilosec)</td>\n",
       "      <td>Hemoglobin</td>\n",
       "      <td>52</td>\n",
       "      <td>10.130769</td>\n",
       "      <td>1.847366</td>\n",
       "      <td>17.700321</td>\n",
       "      <td>4.927449</td>\n",
       "      <td>10.125000</td>\n",
       "      <td>1.524039</td>\n",
       "      <td>15.967308</td>\n",
       "      <td>6.864594</td>\n",
       "      <td>0.500000</td>\n",
       "      <td>0.986174</td>\n",
       "    </tr>\n",
       "    <tr>\n",
       "      <th>2548</th>\n",
       "      <td>Omeprazole (Prilosec)</td>\n",
       "      <td>Red Blood Cells</td>\n",
       "      <td>51</td>\n",
       "      <td>3.372745</td>\n",
       "      <td>0.542439</td>\n",
       "      <td>17.379739</td>\n",
       "      <td>5.161836</td>\n",
       "      <td>3.384902</td>\n",
       "      <td>0.567815</td>\n",
       "      <td>16.477451</td>\n",
       "      <td>6.445088</td>\n",
       "      <td>0.478648</td>\n",
       "      <td>0.912189</td>\n",
       "    </tr>\n",
       "    <tr>\n",
       "      <th>2549</th>\n",
       "      <td>PACU Crystalloid Intake</td>\n",
       "      <td>Glucose</td>\n",
       "      <td>53</td>\n",
       "      <td>147.396226</td>\n",
       "      <td>35.960630</td>\n",
       "      <td>18.892767</td>\n",
       "      <td>4.477185</td>\n",
       "      <td>139.716981</td>\n",
       "      <td>32.343931</td>\n",
       "      <td>6.572956</td>\n",
       "      <td>5.131473</td>\n",
       "      <td>0.112482</td>\n",
       "      <td>0.250378</td>\n",
       "    </tr>\n",
       "    <tr>\n",
       "      <th>2550</th>\n",
       "      <td>PACU Crystalloid Intake</td>\n",
       "      <td>Hematocrit</td>\n",
       "      <td>54</td>\n",
       "      <td>30.562963</td>\n",
       "      <td>3.898054</td>\n",
       "      <td>19.771605</td>\n",
       "      <td>3.569977</td>\n",
       "      <td>29.474074</td>\n",
       "      <td>3.866361</td>\n",
       "      <td>5.007099</td>\n",
       "      <td>4.362216</td>\n",
       "      <td>0.096853</td>\n",
       "      <td>0.147958</td>\n",
       "    </tr>\n",
       "  </tbody>\n",
       "</table>\n",
       "<p>2551 rows × 13 columns</p>\n",
       "</div>\n",
       "      <button class=\"colab-df-convert\" onclick=\"convertToInteractive('df-9bf3aae1-ef99-4b8e-bde3-1536a25c9ceb')\"\n",
       "              title=\"Convert this dataframe to an interactive table.\"\n",
       "              style=\"display:none;\">\n",
       "        \n",
       "  <svg xmlns=\"http://www.w3.org/2000/svg\" height=\"24px\"viewBox=\"0 0 24 24\"\n",
       "       width=\"24px\">\n",
       "    <path d=\"M0 0h24v24H0V0z\" fill=\"none\"/>\n",
       "    <path d=\"M18.56 5.44l.94 2.06.94-2.06 2.06-.94-2.06-.94-.94-2.06-.94 2.06-2.06.94zm-11 1L8.5 8.5l.94-2.06 2.06-.94-2.06-.94L8.5 2.5l-.94 2.06-2.06.94zm10 10l.94 2.06.94-2.06 2.06-.94-2.06-.94-.94-2.06-.94 2.06-2.06.94z\"/><path d=\"M17.41 7.96l-1.37-1.37c-.4-.4-.92-.59-1.43-.59-.52 0-1.04.2-1.43.59L10.3 9.45l-7.72 7.72c-.78.78-.78 2.05 0 2.83L4 21.41c.39.39.9.59 1.41.59.51 0 1.02-.2 1.41-.59l7.78-7.78 2.81-2.81c.8-.78.8-2.07 0-2.86zM5.41 20L4 18.59l7.72-7.72 1.47 1.35L5.41 20z\"/>\n",
       "  </svg>\n",
       "      </button>\n",
       "      \n",
       "  <style>\n",
       "    .colab-df-container {\n",
       "      display:flex;\n",
       "      flex-wrap:wrap;\n",
       "      gap: 12px;\n",
       "    }\n",
       "\n",
       "    .colab-df-convert {\n",
       "      background-color: #E8F0FE;\n",
       "      border: none;\n",
       "      border-radius: 50%;\n",
       "      cursor: pointer;\n",
       "      display: none;\n",
       "      fill: #1967D2;\n",
       "      height: 32px;\n",
       "      padding: 0 0 0 0;\n",
       "      width: 32px;\n",
       "    }\n",
       "\n",
       "    .colab-df-convert:hover {\n",
       "      background-color: #E2EBFA;\n",
       "      box-shadow: 0px 1px 2px rgba(60, 64, 67, 0.3), 0px 1px 3px 1px rgba(60, 64, 67, 0.15);\n",
       "      fill: #174EA6;\n",
       "    }\n",
       "\n",
       "    [theme=dark] .colab-df-convert {\n",
       "      background-color: #3B4455;\n",
       "      fill: #D2E3FC;\n",
       "    }\n",
       "\n",
       "    [theme=dark] .colab-df-convert:hover {\n",
       "      background-color: #434B5C;\n",
       "      box-shadow: 0px 1px 3px 1px rgba(0, 0, 0, 0.15);\n",
       "      filter: drop-shadow(0px 1px 2px rgba(0, 0, 0, 0.3));\n",
       "      fill: #FFFFFF;\n",
       "    }\n",
       "  </style>\n",
       "\n",
       "      <script>\n",
       "        const buttonEl =\n",
       "          document.querySelector('#df-9bf3aae1-ef99-4b8e-bde3-1536a25c9ceb button.colab-df-convert');\n",
       "        buttonEl.style.display =\n",
       "          google.colab.kernel.accessAllowed ? 'block' : 'none';\n",
       "\n",
       "        async function convertToInteractive(key) {\n",
       "          const element = document.querySelector('#df-9bf3aae1-ef99-4b8e-bde3-1536a25c9ceb');\n",
       "          const dataTable =\n",
       "            await google.colab.kernel.invokeFunction('convertToInteractive',\n",
       "                                                     [key], {});\n",
       "          if (!dataTable) return;\n",
       "\n",
       "          const docLinkHtml = 'Like what you see? Visit the ' +\n",
       "            '<a target=\"_blank\" href=https://colab.research.google.com/notebooks/data_table.ipynb>data table notebook</a>'\n",
       "            + ' to learn more about interactive tables.';\n",
       "          element.innerHTML = '';\n",
       "          dataTable['output_type'] = 'display_data';\n",
       "          await google.colab.output.renderOutput(dataTable, element);\n",
       "          const docLink = document.createElement('div');\n",
       "          docLink.innerHTML = docLinkHtml;\n",
       "          element.appendChild(docLink);\n",
       "        }\n",
       "      </script>\n",
       "    </div>\n",
       "  </div>\n",
       "  "
      ],
      "text/plain": [
       "              Medication Name     Feature Name Number of patients  \\\n",
       "0                   NaCl 0.9%   Calcium, Total               1043   \n",
       "1                   NaCl 0.9%         Chloride                812   \n",
       "2                   NaCl 0.9%       Creatinine                844   \n",
       "3                   NaCl 0.9%        Phosphate                973   \n",
       "4                   NaCl 0.9%        Potassium                366   \n",
       "...                       ...              ...                ...   \n",
       "2546    Omeprazole (Prilosec)       Hematocrit                 51   \n",
       "2547    Omeprazole (Prilosec)       Hemoglobin                 52   \n",
       "2548    Omeprazole (Prilosec)  Red Blood Cells                 51   \n",
       "2549  PACU Crystalloid Intake          Glucose                 53   \n",
       "2550  PACU Crystalloid Intake       Hematocrit                 54   \n",
       "\n",
       "      Feature Before(mean)  Feature Before(std)  Time Before(mean)  \\\n",
       "0                 7.811601             0.852798          16.419751   \n",
       "1               107.272167             9.622521          15.968555   \n",
       "2                 2.666588             2.264125          16.760190   \n",
       "3                 3.547174             1.987395          15.845529   \n",
       "4                 4.400820             1.531093          14.377505   \n",
       "...                    ...                  ...                ...   \n",
       "2546             30.115686             5.249852          17.988889   \n",
       "2547             10.130769             1.847366          17.700321   \n",
       "2548              3.372745             0.542439          17.379739   \n",
       "2549            147.396226            35.960630          18.892767   \n",
       "2550             30.562963             3.898054          19.771605   \n",
       "\n",
       "      Time Before(std)  Feature After(mean)  Feature After(std)  \\\n",
       "0             6.010735             7.826366            0.741066   \n",
       "1             6.222861           107.825123            8.993981   \n",
       "2             5.727178             2.608412            2.196355   \n",
       "3             6.151007             3.430319            1.957726   \n",
       "4             6.954470             4.112842            1.359583   \n",
       "...                ...                  ...                 ...   \n",
       "2546          4.713649            29.905882            3.876360   \n",
       "2547          4.927449            10.125000            1.524039   \n",
       "2548          5.161836             3.384902            0.567815   \n",
       "2549          4.477185           139.716981           32.343931   \n",
       "2550          3.569977            29.474074            3.866361   \n",
       "\n",
       "      Time After(mean)  Time After(std)  Mannwhitney-pvalue  Ttest-pvalue  \n",
       "0             9.325775         6.819014            0.038304      0.673022  \n",
       "1             9.147065         6.694655            0.497539      0.231757  \n",
       "2             8.091469         6.464699            0.071883      0.592175  \n",
       "3             9.633436         6.870303            0.029920      0.191499  \n",
       "4             9.152732         6.651877            0.022873      0.007295  \n",
       "...                ...              ...                 ...           ...  \n",
       "2546         14.346732         7.511717            0.438822      0.818877  \n",
       "2547         15.967308         6.864594            0.500000      0.986174  \n",
       "2548         16.477451         6.445088            0.478648      0.912189  \n",
       "2549          6.572956         5.131473            0.112482      0.250378  \n",
       "2550          5.007099         4.362216            0.096853      0.147958  \n",
       "\n",
       "[2551 rows x 13 columns]"
      ]
     },
     "execution_count": null,
     "metadata": {},
     "output_type": "execute_result"
    }
   ],
   "source": [
    "res"
   ]
  }
 ],
 "metadata": {
  "colab": {
   "name": "Medication-Labtest_Pairs_Retrieval.ipynb",
   "provenance": [
    {
     "file_id": "1LiVN7DQJMT7PNndGeAnnEVScU1pvcE4x",
     "timestamp": 1655403032986
    },
    {
     "file_id": "1-jciSM-lTejXb_Oty7N_hYtplo7WNyhp",
     "timestamp": 1655307019523
    }
   ],
   "version": ""
  },
  "kernelspec": {
   "display_name": "Python 3 (ipykernel)",
   "language": "python",
   "name": "python3"
  },
  "language_info": {
   "codemirror_mode": {
    "name": "ipython",
    "version": 3
   },
   "file_extension": ".py",
   "mimetype": "text/x-python",
   "name": "python",
   "nbconvert_exporter": "python",
   "pygments_lexer": "ipython3",
   "version": "3.9.12"
  }
 },
 "nbformat": 4,
 "nbformat_minor": 1
}
