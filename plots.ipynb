{
 "cells": [
  {
   "cell_type": "code",
   "execution_count": 1,
   "metadata": {},
   "outputs": [],
   "source": [
    "from src.parsers import mimic, hirid\n",
    "from src.modeling import discovery, plots, querier, plots_v2 as plots_module\n",
    "from src.utils import constants"
   ]
  },
  {
   "cell_type": "code",
   "execution_count": 2,
   "metadata": {},
   "outputs": [],
   "source": [
    "import sys\n",
    "# import win32com.client\n",
    "import os\n",
    "import pandas as pd\n",
    "\n",
    "def setup_io_config(root_path):\n",
    "    \"\"\"\n",
    "    Input - Output config. Add dataset paths\n",
    "    :root_path -> Repo path which contains 'data' and 'res' folders\n",
    "    \"\"\"\n",
    "\n",
    "    # MIMIC\n",
    "    is_shortcut = True if \"data.lnk\" in os.listdir(root_path) else False \n",
    "    \n",
    "    if (is_shortcut):\n",
    "        path_shortcut =  os.path.join(root_path, \"data.lnk\")\n",
    "        shell = win32com.client.Dispatch(\"WScript.Shell\")\n",
    "        mimic_data = shell.CreateShortCut(path_shortcut).Targetpath\n",
    "    else:\n",
    "        mimic_data = os.path.join(f\"{root_path}\", \"data\") \n",
    "    mimic_path = os.path.join(f\"{root_path}\", \"results\")\n",
    "\n",
    "    # HIRID\n",
    "    hirid_data = f'{root_path}/data/hirid-a-high-time-resolution-icu-dataset-1.1.1/raw_stage/'\n",
    "    hirid_path = f'{root_path}/data/hirid-a-high-time-resolution-icu-dataset-1.1.1'\n",
    "    \n",
    "    return mimic_data, mimic_path, hirid_data, hirid_path\n",
    "\n",
    "def setup_stratification_config():\n",
    "    gender=\"MF\"\n",
    "    age_b=40\n",
    "    age_a=80 \n",
    "    ethnicity=\"WHITE\" \n",
    "    lab_mapping= constants.LAB_MAPPING\n",
    "    before_windows = [(0,6), (6,12)]\n",
    "    after_windows = [(0,4), (4,8), (8,12)]\n",
    "    return gender, age_a, age_b, ethnicity, lab_mapping, before_windows, after_windows"
   ]
  },
  {
   "cell_type": "code",
   "execution_count": 3,
   "metadata": {},
   "outputs": [],
   "source": [
    "# IO Config\n",
    "# root_path =\"C:\\\\Users\\\\danco\\\\My Drive\\\\Master\\\\Datasets\\\\MIMIC iii\"\n",
    "root_path = \"/Users/pavan/Library/CloudStorage/GoogleDrive-f20190038@hyderabad.bits-pilani.ac.in/My Drive/TAU/Code/DrugLab\"\n",
    "data, res, raw_path, res_path = setup_io_config(root_path=root_path)\n",
    "\n",
    "# Stratification Config\n",
    "gender, age_a, age_b, ethnicity, lab_mapping, before_windows, after_windows = setup_stratification_config()"
   ]
  },
  {
   "cell_type": "code",
   "execution_count": 4,
   "metadata": {},
   "outputs": [],
   "source": [
    "med_lab_pairs = pd.read_csv(\"temp_med_lab_pairs.csv\")"
   ]
  },
  {
   "cell_type": "code",
   "execution_count": 5,
   "metadata": {},
   "outputs": [],
   "source": [
    "plotter = plots_module.ClinicalPlotsAnalysis(data, res, med_lab_pairs, plot_dir=\"plots\", gender=\"MF\", age_b=0, age_a=100, ethnicity=\"WHITE\", lab_mapping=None)"
   ]
  },
  {
   "cell_type": "code",
   "execution_count": 6,
   "metadata": {},
   "outputs": [],
   "source": [
    "#params\n",
    "med_name = 'Insulin - Regular'\n",
    "lab_name = 'Glucose'\n",
    "start_time_before = 4 #hours\n",
    "start_time_after = 8 #hours\n",
    "min_interval_between_tests = 1 #hour\n",
    "min_human = 20\n",
    "max_human = 1000"
   ]
  },
  {
   "cell_type": "code",
   "execution_count": 7,
   "metadata": {},
   "outputs": [
    {
     "data": {
      "text/plain": [
       "<Figure size 1800x900 with 0 Axes>"
      ]
     },
     "metadata": {},
     "output_type": "display_data"
    }
   ],
   "source": [
    "plotter.plot_med_lab(\n",
    "    med_name, \n",
    "    lab_name, \n",
    "    start_time_before=start_time_before, \n",
    "    start_time_after=start_time_after, \n",
    "    min_interval_between_tests=min_interval_between_tests, \n",
    "    min_human=min_human, max_human=max_human\n",
    ")"
   ]
  },
  {
   "cell_type": "code",
   "execution_count": 8,
   "metadata": {},
   "outputs": [
    {
     "data": {
      "text/plain": [
       "<Figure size 600x600 with 0 Axes>"
      ]
     },
     "metadata": {},
     "output_type": "display_data"
    }
   ],
   "source": [
    "plotter.plot_reg(\n",
    "    med_name, \n",
    "    lab_name, \n",
    "    start_time_before=start_time_before, \n",
    "    start_time_after=start_time_after, \n",
    "    min_interval_between_tests=min_interval_between_tests, \n",
    "    min_human=min_human, max_human=max_human\n",
    ")"
   ]
  },
  {
   "cell_type": "code",
   "execution_count": 9,
   "metadata": {},
   "outputs": [
    {
     "name": "stdout",
     "output_type": "stream",
     "text": [
      "No Data for ACD-A Citrate (1000ml)<>Albumin pair\n",
      "No Data for ACD-A Citrate (1000ml)<>Albumin pair\n",
      "No Data for ACD-A Citrate (1000ml)<>Amylase pair\n",
      "No Data for ACD-A Citrate (1000ml)<>Amylase pair\n",
      "No Data for ACD-A Citrate (1000ml)<>Bilirubin pair\n",
      "No Data for ACD-A Citrate (1000ml)<>Bilirubin pair\n",
      "No Data for ACD-A Citrate (1000ml)<>Calcium pair\n",
      "No Data for ACD-A Citrate (1000ml)<>Calcium pair\n",
      "No Data for ACD-A Citrate (1000ml)<>Calcium ionized pair\n",
      "No Data for ACD-A Citrate (1000ml)<>Calcium ionized pair\n",
      "No Data for ACD-A Citrate (1000ml)<>Creatinine pair\n",
      "No Data for ACD-A Citrate (1000ml)<>Creatinine pair\n",
      "No Data for ACD-A Citrate (1000ml)<>Hemoglobin pair\n",
      "No Data for ACD-A Citrate (1000ml)<>Hemoglobin pair\n",
      "No Data for ACD-A Citrate (1000ml)<>Lactic acid pair\n",
      "No Data for ACD-A Citrate (1000ml)<>Lactic acid pair\n",
      "No Data for ACD-A Citrate (1000ml)<>Lipase pair\n",
      "No Data for ACD-A Citrate (1000ml)<>Lipase pair\n",
      "No Data for ACD-A Citrate (1000ml)<>Magnesium pair\n",
      "No Data for ACD-A Citrate (1000ml)<>Magnesium pair\n",
      "No Data for ACD-A Citrate (1000ml)<>Potassium pair\n",
      "No Data for ACD-A Citrate (1000ml)<>Potassium pair\n",
      "No Data for ACD-A Citrate (1000ml)<>Prothrombin time INR pair\n",
      "No Data for ACD-A Citrate (1000ml)<>Prothrombin time INR pair\n",
      "No Data for ACD-A Citrate (1000ml)<>Red blood cell pair\n",
      "No Data for ACD-A Citrate (1000ml)<>Red blood cell pair\n",
      "No Data for ACD-A Citrate (1000ml)<>Uric Acid pair\n",
      "No Data for ACD-A Citrate (1000ml)<>Uric Acid pair\n",
      "No Data for ACD-A Citrate (1000ml)<>Vitamin B12 pair\n",
      "No Data for ACD-A Citrate (1000ml)<>Vitamin B12 pair\n",
      "No Data for ACD-A Citrate (500ml)<>Alanine aminotransferase pair\n",
      "No Data for ACD-A Citrate (500ml)<>Alanine aminotransferase pair\n",
      "No Data for ACD-A Citrate (500ml)<>Albumin pair\n",
      "No Data for ACD-A Citrate (500ml)<>Albumin pair\n",
      "No Data for ACD-A Citrate (500ml)<>Asparate aminotransferase pair\n",
      "No Data for ACD-A Citrate (500ml)<>Asparate aminotransferase pair\n",
      "No Data for ACD-A Citrate (500ml)<>Bilirubin pair\n",
      "No Data for ACD-A Citrate (500ml)<>Bilirubin pair\n",
      "No Data for ACD-A Citrate (500ml)<>Calcium pair\n",
      "No Data for ACD-A Citrate (500ml)<>Calcium pair\n",
      "No Data for ACD-A Citrate (500ml)<>Calcium ionized pair\n",
      "No Data for ACD-A Citrate (500ml)<>Calcium ionized pair\n",
      "No Data for ACD-A Citrate (500ml)<>Creatinine pair\n",
      "No Data for ACD-A Citrate (500ml)<>Creatinine pair\n",
      "No Data for ACD-A Citrate (500ml)<>Glucose pair\n",
      "No Data for ACD-A Citrate (500ml)<>Glucose pair\n",
      "No Data for ACD-A Citrate (500ml)<>Hematocrit pair\n",
      "No Data for ACD-A Citrate (500ml)<>Hematocrit pair\n",
      "No Data for ACD-A Citrate (500ml)<>Hemoglobin pair\n",
      "No Data for ACD-A Citrate (500ml)<>Hemoglobin pair\n",
      "No Data for ACD-A Citrate (500ml)<>Lactic acid pair\n",
      "No Data for ACD-A Citrate (500ml)<>Lactic acid pair\n",
      "No Data for ACD-A Citrate (500ml)<>Magnesium pair\n",
      "No Data for ACD-A Citrate (500ml)<>Magnesium pair\n",
      "No Data for ACD-A Citrate (500ml)<>PTT pair\n",
      "No Data for ACD-A Citrate (500ml)<>PTT pair\n",
      "No Data for ACD-A Citrate (500ml)<>Platelets pair\n",
      "No Data for ACD-A Citrate (500ml)<>Platelets pair\n",
      "No Data for ACD-A Citrate (500ml)<>Potassium pair\n",
      "No Data for ACD-A Citrate (500ml)<>Potassium pair\n",
      "No Data for ACD-A Citrate (500ml)<>Prothrombin time INR pair\n",
      "No Data for ACD-A Citrate (500ml)<>Prothrombin time INR pair\n",
      "No Data for ACD-A Citrate (500ml)<>Red blood cell pair\n",
      "No Data for ACD-A Citrate (500ml)<>Red blood cell pair\n",
      "No Data for ACD-A Citrate (500ml)<>Sodium pair\n",
      "No Data for ACD-A Citrate (500ml)<>Sodium pair\n",
      "No Data for Abciximab (Reopro)<>Alanine aminotransferase pair\n",
      "No Data for Abciximab (Reopro)<>Alanine aminotransferase pair\n",
      "No Data for Abciximab (Reopro)<>Albumin pair\n",
      "No Data for Abciximab (Reopro)<>Albumin pair\n",
      "No Data for Abciximab (Reopro)<>Asparate aminotransferase pair\n",
      "No Data for Abciximab (Reopro)<>Asparate aminotransferase pair\n",
      "No Data for Abciximab (Reopro)<>Bilirubin pair\n",
      "No Data for Abciximab (Reopro)<>Bilirubin pair\n",
      "No Data for Abciximab (Reopro)<>Creatinine pair\n",
      "No Data for Abciximab (Reopro)<>Creatinine pair\n",
      "No Data for Abciximab (Reopro)<>Glucose pair\n",
      "No Data for Abciximab (Reopro)<>Glucose pair\n",
      "No Data for Abciximab (Reopro)<>Hematocrit pair\n",
      "No Data for Abciximab (Reopro)<>Hematocrit pair\n",
      "No Data for Abciximab (Reopro)<>Hemoglobin pair\n",
      "No Data for Abciximab (Reopro)<>Hemoglobin pair\n",
      "No Data for Abciximab (Reopro)<>Hemoglobin percent pair\n",
      "No Data for Abciximab (Reopro)<>Hemoglobin percent pair\n",
      "No Data for Abciximab (Reopro)<>Magnesium pair\n",
      "No Data for Abciximab (Reopro)<>Magnesium pair\n",
      "No Data for Abciximab (Reopro)<>PTT pair\n",
      "No Data for Abciximab (Reopro)<>PTT pair\n",
      "No Data for Abciximab (Reopro)<>Platelets pair\n",
      "No Data for Abciximab (Reopro)<>Platelets pair\n",
      "No Data for Abciximab (Reopro)<>Potassium pair\n",
      "No Data for Abciximab (Reopro)<>Potassium pair\n",
      "No Data for Abciximab (Reopro)<>Prothrombin time INR pair\n",
      "No Data for Abciximab (Reopro)<>Prothrombin time INR pair\n",
      "No Data for Abciximab (Reopro)<>Red blood cell pair\n",
      "No Data for Abciximab (Reopro)<>Red blood cell pair\n",
      "No Data for Abciximab (Reopro)<>Sodium pair\n",
      "No Data for Abciximab (Reopro)<>Sodium pair\n",
      "No Data for Acetaminophen-IV<>Albumin pair\n",
      "No Data for Acetaminophen-IV<>Albumin pair\n",
      "No Data for Acetaminophen-IV<>Amylase pair\n",
      "No Data for Acetaminophen-IV<>Amylase pair\n",
      "No Data for Acetaminophen-IV<>Bilirubin pair\n",
      "No Data for Acetaminophen-IV<>Bilirubin pair\n",
      "No Data for Acetaminophen-IV<>Calcium pair\n",
      "No Data for Acetaminophen-IV<>Calcium pair\n",
      "No Data for Acetaminophen-IV<>Calcium ionized pair\n",
      "No Data for Acetaminophen-IV<>Calcium ionized pair\n",
      "No Data for Acetaminophen-IV<>Creatinine pair\n",
      "No Data for Acetaminophen-IV<>Creatinine pair\n"
     ]
    },
    {
     "name": "stderr",
     "output_type": "stream",
     "text": [
      "/Users/pavan/Desktop/TAU/DrugLab/venv/lib/python3.9/site-packages/seaborn/axisgrid.py:1690: RuntimeWarning: More than 20 figures have been opened. Figures created through the pyplot interface (`matplotlib.pyplot.figure`) are retained until explicitly closed and may consume too much memory. (To control this warning, see the rcParam `figure.max_open_warning`). Consider using `matplotlib.pyplot.close()`.\n",
      "  f = plt.figure(figsize=(height, height))\n"
     ]
    },
    {
     "name": "stdout",
     "output_type": "stream",
     "text": [
      "No Data for Acetaminophen-IV<>Hemoglobin pair\n",
      "No Data for Acetaminophen-IV<>Hemoglobin pair\n",
      "No Data for Acetaminophen-IV<>Hemoglobin percent pair\n",
      "No Data for Acetaminophen-IV<>Hemoglobin percent pair\n",
      "No Data for Acetaminophen-IV<>Lactic acid pair\n",
      "No Data for Acetaminophen-IV<>Lactic acid pair\n",
      "No Data for Acetaminophen-IV<>Lipase pair\n",
      "No Data for Acetaminophen-IV<>Lipase pair\n",
      "No Data for Acetaminophen-IV<>Magnesium pair\n",
      "No Data for Acetaminophen-IV<>Magnesium pair\n",
      "No Data for Acetaminophen-IV<>Potassium pair\n",
      "No Data for Acetaminophen-IV<>Potassium pair\n",
      "No Data for Acetaminophen-IV<>Prothrombin time INR pair\n",
      "No Data for Acetaminophen-IV<>Prothrombin time INR pair\n",
      "No Data for Acetaminophen-IV<>Red blood cell pair\n",
      "No Data for Acetaminophen-IV<>Red blood cell pair\n",
      "No Data for Acetaminophen-IV<>Uric Acid pair\n",
      "No Data for Acetaminophen-IV<>Uric Acid pair\n",
      "No Data for Acetaminophen-IV<>Vitamin B12 pair\n",
      "No Data for Acetaminophen-IV<>Vitamin B12 pair\n",
      "No Data for Acyclovir<>Albumin pair\n",
      "No Data for Acyclovir<>Albumin pair\n",
      "No Data for Acyclovir<>Amylase pair\n",
      "No Data for Acyclovir<>Amylase pair\n",
      "No Data for Acyclovir<>Bilirubin pair\n",
      "No Data for Acyclovir<>Bilirubin pair\n",
      "No Data for Acyclovir<>Calcium pair\n",
      "No Data for Acyclovir<>Calcium pair\n",
      "No Data for Acyclovir<>Calcium ionized pair\n",
      "No Data for Acyclovir<>Calcium ionized pair\n",
      "No Data for Acyclovir<>Creatinine pair\n",
      "No Data for Acyclovir<>Creatinine pair\n",
      "No Data for Acyclovir<>Hemoglobin pair\n",
      "No Data for Acyclovir<>Hemoglobin pair\n",
      "No Data for Acyclovir<>Hemoglobin percent pair\n",
      "No Data for Acyclovir<>Hemoglobin percent pair\n",
      "No Data for Acyclovir<>Lactic acid pair\n",
      "No Data for Acyclovir<>Lactic acid pair\n",
      "No Data for Acyclovir<>Magnesium pair\n",
      "No Data for Acyclovir<>Magnesium pair\n",
      "No Data for Acyclovir<>Magnesium, Urine pair\n",
      "No Data for Acyclovir<>Magnesium, Urine pair\n",
      "No Data for Acyclovir<>Potassium pair\n",
      "No Data for Acyclovir<>Potassium pair\n",
      "No Data for Acyclovir<>Prothrombin time INR pair\n",
      "No Data for Acyclovir<>Prothrombin time INR pair\n",
      "No Data for Acyclovir<>Red blood cell pair\n",
      "No Data for Acyclovir<>Red blood cell pair\n",
      "No Data for Acyclovir<>Uric Acid pair\n",
      "No Data for Acyclovir<>Uric Acid pair\n",
      "No Data for Acyclovir<>Uric Acid, Urine pair\n",
      "No Data for Acyclovir<>Uric Acid, Urine pair\n",
      "No Data for Acyclovir<>Vitamin B12 pair\n",
      "No Data for Acyclovir<>Vitamin B12 pair\n",
      "No Data for Adenosine<>Albumin pair\n",
      "No Data for Adenosine<>Albumin pair\n",
      "No Data for Adenosine<>Amylase pair\n",
      "No Data for Adenosine<>Amylase pair\n",
      "No Data for Adenosine<>Bilirubin pair\n",
      "No Data for Adenosine<>Bilirubin pair\n",
      "No Data for Adenosine<>Calcium pair\n",
      "No Data for Adenosine<>Calcium pair\n",
      "No Data for Adenosine<>Calcium ionized pair\n",
      "No Data for Adenosine<>Calcium ionized pair\n",
      "No Data for Adenosine<>Creatinine pair\n",
      "No Data for Adenosine<>Creatinine pair\n",
      "No Data for Adenosine<>Hemoglobin pair\n",
      "No Data for Adenosine<>Hemoglobin pair\n",
      "No Data for Adenosine<>Lactic acid pair\n",
      "No Data for Adenosine<>Lactic acid pair\n",
      "No Data for Adenosine<>Lipase pair\n",
      "No Data for Adenosine<>Lipase pair\n",
      "No Data for Adenosine<>Magnesium pair\n",
      "No Data for Adenosine<>Magnesium pair\n",
      "No Data for Adenosine<>Potassium pair\n",
      "No Data for Adenosine<>Potassium pair\n",
      "No Data for Adenosine<>Prothrombin time INR pair\n",
      "No Data for Adenosine<>Prothrombin time INR pair\n",
      "No Data for Adenosine<>Red blood cell pair\n",
      "No Data for Adenosine<>Red blood cell pair\n",
      "No Data for Adenosine<>Uric Acid pair\n",
      "No Data for Adenosine<>Uric Acid pair\n",
      "No Data for Adenosine<>Vitamin B12 pair\n",
      "No Data for Adenosine<>Vitamin B12 pair\n",
      "No Data for Albumin 25%<>Albumin pair\n",
      "No Data for Albumin 25%<>Albumin pair\n",
      "No Data for Albumin 25%<>Bilirubin pair\n",
      "No Data for Albumin 25%<>Bilirubin pair\n",
      "No Data for Albumin 25%<>Calcium pair\n",
      "No Data for Albumin 25%<>Calcium pair\n",
      "No Data for Albumin 25%<>Calcium ionized pair\n",
      "No Data for Albumin 25%<>Calcium ionized pair\n",
      "No Data for Albumin 25%<>Creatinine pair\n",
      "No Data for Albumin 25%<>Creatinine pair\n",
      "No Data for Albumin 25%<>Creatinine ascites pair\n",
      "No Data for Albumin 25%<>Creatinine ascites pair\n",
      "No Data for Albumin 25%<>Hemoglobin pair\n",
      "No Data for Albumin 25%<>Hemoglobin pair\n",
      "No Data for Albumin 25%<>Hemoglobin percent pair\n",
      "No Data for Albumin 25%<>Hemoglobin percent pair\n",
      "No Data for Albumin 25%<>Lactic acid pair\n",
      "No Data for Albumin 25%<>Lactic acid pair\n",
      "No Data for Albumin 25%<>Lipase pair\n",
      "No Data for Albumin 25%<>Lipase pair\n",
      "No Data for Albumin 25%<>Magnesium pair\n",
      "No Data for Albumin 25%<>Magnesium pair\n",
      "No Data for Albumin 25%<>Magnesium, Urine pair\n",
      "No Data for Albumin 25%<>Magnesium, Urine pair\n",
      "No Data for Albumin 25%<>Potassium pair\n",
      "No Data for Albumin 25%<>Potassium pair\n",
      "No Data for Albumin 25%<>Prothrombin time INR pair\n",
      "No Data for Albumin 25%<>Prothrombin time INR pair\n",
      "No Data for Albumin 25%<>Red blood cell pair\n",
      "No Data for Albumin 25%<>Red blood cell pair\n",
      "No Data for Albumin 25%<>Uric Acid pair\n",
      "No Data for Albumin 25%<>Uric Acid pair\n",
      "No Data for Albumin 25%<>Uric Acid, Urine pair\n",
      "No Data for Albumin 25%<>Uric Acid, Urine pair\n",
      "No Data for Albumin 25%<>Vitamin B12 pair\n",
      "No Data for Albumin 25%<>Vitamin B12 pair\n",
      "No Data for Albumin 5%<>Albumin pair\n",
      "No Data for Albumin 5%<>Albumin pair\n",
      "No Data for Albumin 5%<>Bilirubin pair\n",
      "No Data for Albumin 5%<>Bilirubin pair\n",
      "No Data for Albumin 5%<>Calcium pair\n",
      "No Data for Albumin 5%<>Calcium pair\n",
      "No Data for Albumin 5%<>Calcium ionized pair\n",
      "No Data for Albumin 5%<>Calcium ionized pair\n",
      "No Data for Albumin 5%<>Creatinine pair\n",
      "No Data for Albumin 5%<>Creatinine pair\n",
      "No Data for Albumin 5%<>Creatinine ascites pair\n",
      "No Data for Albumin 5%<>Creatinine ascites pair\n",
      "No Data for Albumin 5%<>Hemoglobin pair\n",
      "No Data for Albumin 5%<>Hemoglobin pair\n",
      "No Data for Albumin 5%<>Hemoglobin percent pair\n",
      "No Data for Albumin 5%<>Hemoglobin percent pair\n",
      "No Data for Albumin 5%<>Lactic acid pair\n",
      "No Data for Albumin 5%<>Lactic acid pair\n",
      "No Data for Albumin 5%<>Magnesium pair\n",
      "No Data for Albumin 5%<>Magnesium pair\n",
      "No Data for Albumin 5%<>Magnesium, Urine pair\n",
      "No Data for Albumin 5%<>Magnesium, Urine pair\n",
      "No Data for Albumin 5%<>Potassium pair\n",
      "No Data for Albumin 5%<>Potassium pair\n",
      "No Data for Albumin 5%<>Prothrombin time INR pair\n",
      "No Data for Albumin 5%<>Prothrombin time INR pair\n",
      "No Data for Albumin 5%<>Red blood cell pair\n",
      "No Data for Albumin 5%<>Red blood cell pair\n",
      "No Data for Albumin 5%<>Uric Acid pair\n",
      "No Data for Albumin 5%<>Uric Acid pair\n",
      "No Data for Albumin 5%<>Uric Acid, Urine pair\n",
      "No Data for Albumin 5%<>Uric Acid, Urine pair\n",
      "No Data for Albumin 5%<>Vitamin B12 pair\n",
      "No Data for Albumin 5%<>Vitamin B12 pair\n",
      "No Data for Alteplase (TPA)<>Alanine aminotransferase pair\n",
      "No Data for Alteplase (TPA)<>Alanine aminotransferase pair\n",
      "No Data for Alteplase (TPA)<>Albumin pair\n",
      "No Data for Alteplase (TPA)<>Albumin pair\n",
      "No Data for Alteplase (TPA)<>Amylase pair\n",
      "No Data for Alteplase (TPA)<>Amylase pair\n",
      "No Data for Alteplase (TPA)<>Asparate aminotransferase pair\n",
      "No Data for Alteplase (TPA)<>Asparate aminotransferase pair\n",
      "No Data for Alteplase (TPA)<>Bilirubin pair\n",
      "No Data for Alteplase (TPA)<>Bilirubin pair\n",
      "No Data for Alteplase (TPA)<>Calcium pair\n",
      "No Data for Alteplase (TPA)<>Calcium pair\n",
      "No Data for Alteplase (TPA)<>Calcium ionized pair\n",
      "No Data for Alteplase (TPA)<>Calcium ionized pair\n",
      "No Data for Alteplase (TPA)<>Creatinine pair\n",
      "No Data for Alteplase (TPA)<>Creatinine pair\n",
      "No Data for Alteplase (TPA)<>Hematocrit pair\n",
      "No Data for Alteplase (TPA)<>Hematocrit pair\n",
      "No Data for Alteplase (TPA)<>Hemoglobin pair\n",
      "No Data for Alteplase (TPA)<>Hemoglobin pair\n",
      "No Data for Alteplase (TPA)<>Hemoglobin percent pair\n",
      "No Data for Alteplase (TPA)<>Hemoglobin percent pair\n",
      "No Data for Alteplase (TPA)<>Lactic acid pair\n",
      "No Data for Alteplase (TPA)<>Lactic acid pair\n",
      "No Data for Alteplase (TPA)<>Magnesium pair\n",
      "No Data for Alteplase (TPA)<>Magnesium pair\n",
      "No Data for Alteplase (TPA)<>PTT pair\n",
      "No Data for Alteplase (TPA)<>PTT pair\n",
      "No Data for Alteplase (TPA)<>Platelets pair\n",
      "No Data for Alteplase (TPA)<>Platelets pair\n",
      "No Data for Alteplase (TPA)<>Potassium pair\n",
      "No Data for Alteplase (TPA)<>Potassium pair\n",
      "No Data for Alteplase (TPA)<>Prothrombin time INR pair\n",
      "No Data for Alteplase (TPA)<>Prothrombin time INR pair\n",
      "No Data for Alteplase (TPA)<>Red blood cell pair\n",
      "No Data for Alteplase (TPA)<>Red blood cell pair\n",
      "No Data for Alteplase (TPA)<>Sodium pair\n",
      "No Data for Alteplase (TPA)<>Sodium pair\n",
      "No Data for Ambisome<>Alanine aminotransferase pair\n",
      "No Data for Ambisome<>Alanine aminotransferase pair\n",
      "No Data for Ambisome<>Albumin pair\n",
      "No Data for Ambisome<>Albumin pair\n",
      "No Data for Ambisome<>Amylase pair\n",
      "No Data for Ambisome<>Amylase pair\n",
      "No Data for Ambisome<>Asparate aminotransferase pair\n",
      "No Data for Ambisome<>Asparate aminotransferase pair\n",
      "No Data for Ambisome<>Bilirubin pair\n",
      "No Data for Ambisome<>Bilirubin pair\n",
      "No Data for Ambisome<>Calcium pair\n",
      "No Data for Ambisome<>Calcium pair\n",
      "No Data for Ambisome<>Calcium ionized pair\n",
      "No Data for Ambisome<>Calcium ionized pair\n",
      "No Data for Ambisome<>Creatinine pair\n",
      "No Data for Ambisome<>Creatinine pair\n",
      "No Data for Ambisome<>Hemoglobin pair\n",
      "No Data for Ambisome<>Hemoglobin pair\n",
      "No Data for Ambisome<>Lactic acid pair\n",
      "No Data for Ambisome<>Lactic acid pair\n",
      "No Data for Ambisome<>Magnesium pair\n",
      "No Data for Ambisome<>Magnesium pair\n",
      "No Data for Ambisome<>Potassium pair\n",
      "No Data for Ambisome<>Potassium pair\n",
      "No Data for Ambisome<>Prothrombin time INR pair\n",
      "No Data for Ambisome<>Prothrombin time INR pair\n",
      "No Data for Ambisome<>Red blood cell pair\n",
      "No Data for Ambisome<>Red blood cell pair\n",
      "No Data for Ambisome<>Uric Acid pair\n",
      "No Data for Ambisome<>Uric Acid pair\n",
      "No Data for Amikacin<>Alanine aminotransferase pair\n",
      "No Data for Amikacin<>Alanine aminotransferase pair\n",
      "No Data for Amikacin<>Albumin pair\n",
      "No Data for Amikacin<>Albumin pair\n",
      "No Data for Amikacin<>Asparate aminotransferase pair\n",
      "No Data for Amikacin<>Asparate aminotransferase pair\n",
      "No Data for Amikacin<>Bilirubin pair\n",
      "No Data for Amikacin<>Bilirubin pair\n",
      "No Data for Amikacin<>Calcium pair\n",
      "No Data for Amikacin<>Calcium pair\n",
      "No Data for Amikacin<>Calcium ionized pair\n",
      "No Data for Amikacin<>Calcium ionized pair\n",
      "No Data for Amikacin<>Creatinine pair\n",
      "No Data for Amikacin<>Creatinine pair\n",
      "No Data for Amikacin<>Hemoglobin pair\n",
      "No Data for Amikacin<>Hemoglobin pair\n",
      "No Data for Amikacin<>Lactic acid pair\n",
      "No Data for Amikacin<>Lactic acid pair\n",
      "No Data for Amikacin<>Magnesium pair\n",
      "No Data for Amikacin<>Magnesium pair\n",
      "No Data for Amikacin<>Potassium pair\n",
      "No Data for Amikacin<>Potassium pair\n",
      "No Data for Amikacin<>Prothrombin time INR pair\n",
      "No Data for Amikacin<>Prothrombin time INR pair\n",
      "No Data for Amikacin<>Red blood cell pair\n",
      "No Data for Amikacin<>Red blood cell pair\n",
      "No Data for Amino Acids<>Alanine aminotransferase pair\n",
      "No Data for Amino Acids<>Alanine aminotransferase pair\n",
      "No Data for Amino Acids<>Albumin pair\n",
      "No Data for Amino Acids<>Albumin pair\n",
      "No Data for Amino Acids<>Amylase pair\n",
      "No Data for Amino Acids<>Amylase pair\n",
      "No Data for Amino Acids<>Asparate aminotransferase pair\n",
      "No Data for Amino Acids<>Asparate aminotransferase pair\n",
      "No Data for Amino Acids<>Bilirubin pair\n",
      "No Data for Amino Acids<>Bilirubin pair\n",
      "No Data for Amino Acids<>Calcium pair\n",
      "No Data for Amino Acids<>Calcium pair\n",
      "No Data for Amino Acids<>Calcium ionized pair\n",
      "No Data for Amino Acids<>Calcium ionized pair\n",
      "No Data for Amino Acids<>Creatinine pair\n",
      "No Data for Amino Acids<>Creatinine pair\n",
      "No Data for Amino Acids<>Hemoglobin pair\n",
      "No Data for Amino Acids<>Hemoglobin pair\n",
      "No Data for Amino Acids<>Lactic acid pair\n",
      "No Data for Amino Acids<>Lactic acid pair\n",
      "No Data for Amino Acids<>Lipase pair\n",
      "No Data for Amino Acids<>Lipase pair\n",
      "No Data for Amino Acids<>Magnesium pair\n",
      "No Data for Amino Acids<>Magnesium pair\n",
      "No Data for Amino Acids<>PTT pair\n",
      "No Data for Amino Acids<>PTT pair\n",
      "No Data for Amino Acids<>Platelets pair\n",
      "No Data for Amino Acids<>Platelets pair\n",
      "No Data for Amino Acids<>Potassium pair\n",
      "No Data for Amino Acids<>Potassium pair\n",
      "No Data for Amino Acids<>Prothrombin time INR pair\n",
      "No Data for Amino Acids<>Prothrombin time INR pair\n",
      "No Data for Amino Acids<>Red blood cell pair\n",
      "No Data for Amino Acids<>Red blood cell pair\n",
      "No Data for Amino Acids<>Uric Acid pair\n",
      "No Data for Amino Acids<>Uric Acid pair\n",
      "No Data for Aminophylline<>Glucose pair\n",
      "No Data for Aminophylline<>Glucose pair\n",
      "No Data for Amiodarone<>Albumin pair\n",
      "No Data for Amiodarone<>Albumin pair\n",
      "No Data for Amiodarone<>Bilirubin pair\n",
      "No Data for Amiodarone<>Bilirubin pair\n",
      "No Data for Amiodarone<>Calcium pair\n",
      "No Data for Amiodarone<>Calcium pair\n",
      "No Data for Amiodarone<>Calcium ionized pair\n",
      "No Data for Amiodarone<>Calcium ionized pair\n",
      "No Data for Amiodarone<>Creatinine pair\n",
      "No Data for Amiodarone<>Creatinine pair\n",
      "No Data for Amiodarone<>Creatinine ascites pair\n",
      "No Data for Amiodarone<>Creatinine ascites pair\n",
      "No Data for Amiodarone<>Hemoglobin pair\n",
      "No Data for Amiodarone<>Hemoglobin pair\n",
      "No Data for Amiodarone<>Hemoglobin percent pair\n",
      "No Data for Amiodarone<>Hemoglobin percent pair\n",
      "No Data for Amiodarone<>Lactic acid pair\n",
      "No Data for Amiodarone<>Lactic acid pair\n",
      "No Data for Amiodarone<>Magnesium pair\n",
      "No Data for Amiodarone<>Magnesium pair\n",
      "No Data for Amiodarone<>Magnesium, Urine pair\n",
      "No Data for Amiodarone<>Magnesium, Urine pair\n",
      "No Data for Amiodarone<>Potassium pair\n",
      "No Data for Amiodarone<>Potassium pair\n",
      "No Data for Amiodarone<>Prothrombin time INR pair\n",
      "No Data for Amiodarone<>Prothrombin time INR pair\n",
      "No Data for Amiodarone<>Red blood cell pair\n",
      "No Data for Amiodarone<>Red blood cell pair\n",
      "No Data for Amiodarone<>Uric Acid pair\n",
      "No Data for Amiodarone<>Uric Acid pair\n",
      "No Data for Amiodarone<>Vitamin B12 pair\n",
      "No Data for Amiodarone<>Vitamin B12 pair\n",
      "No Data for Amiodarone 600/500<>Alanine aminotransferase pair\n",
      "No Data for Amiodarone 600/500<>Alanine aminotransferase pair\n",
      "No Data for Amiodarone 600/500<>Albumin pair\n",
      "No Data for Amiodarone 600/500<>Albumin pair\n",
      "No Data for Amiodarone 600/500<>Amylase pair\n",
      "No Data for Amiodarone 600/500<>Amylase pair\n",
      "No Data for Amiodarone 600/500<>Asparate aminotransferase pair\n",
      "No Data for Amiodarone 600/500<>Asparate aminotransferase pair\n",
      "No Data for Amiodarone 600/500<>Bilirubin pair\n",
      "No Data for Amiodarone 600/500<>Bilirubin pair\n",
      "No Data for Amiodarone 600/500<>Calcium pair\n",
      "No Data for Amiodarone 600/500<>Calcium pair\n",
      "No Data for Amiodarone 600/500<>Calcium ionized pair\n",
      "No Data for Amiodarone 600/500<>Calcium ionized pair\n",
      "No Data for Amiodarone 600/500<>Creatinine pair\n",
      "No Data for Amiodarone 600/500<>Creatinine pair\n",
      "No Data for Amiodarone 600/500<>Hemoglobin pair\n",
      "No Data for Amiodarone 600/500<>Hemoglobin pair\n",
      "No Data for Amiodarone 600/500<>Hemoglobin percent pair\n",
      "No Data for Amiodarone 600/500<>Hemoglobin percent pair\n",
      "No Data for Amiodarone 600/500<>Lactic acid pair\n",
      "No Data for Amiodarone 600/500<>Lactic acid pair\n",
      "No Data for Amiodarone 600/500<>Lipase pair\n",
      "No Data for Amiodarone 600/500<>Lipase pair\n",
      "No Data for Amiodarone 600/500<>Magnesium pair\n",
      "No Data for Amiodarone 600/500<>Magnesium pair\n",
      "No Data for Amiodarone 600/500<>Potassium pair\n",
      "No Data for Amiodarone 600/500<>Potassium pair\n",
      "No Data for Amiodarone 600/500<>Prothrombin time INR pair\n",
      "No Data for Amiodarone 600/500<>Prothrombin time INR pair\n",
      "No Data for Amiodarone 600/500<>Red blood cell pair\n",
      "No Data for Amiodarone 600/500<>Red blood cell pair\n",
      "No Data for Amiodarone 600/500<>Vitamin B12 pair\n",
      "No Data for Amiodarone 600/500<>Vitamin B12 pair\n",
      "No Data for Ampicillin<>Albumin pair\n",
      "No Data for Ampicillin<>Albumin pair\n",
      "No Data for Ampicillin<>Amylase pair\n",
      "No Data for Ampicillin<>Amylase pair\n",
      "No Data for Ampicillin<>Bilirubin pair\n",
      "No Data for Ampicillin<>Bilirubin pair\n",
      "No Data for Ampicillin<>Calcium pair\n",
      "No Data for Ampicillin<>Calcium pair\n",
      "No Data for Ampicillin<>Calcium ionized pair\n",
      "No Data for Ampicillin<>Calcium ionized pair\n",
      "No Data for Ampicillin<>Creatinine pair\n",
      "No Data for Ampicillin<>Creatinine pair\n",
      "No Data for Ampicillin<>Hemoglobin pair\n",
      "No Data for Ampicillin<>Hemoglobin pair\n",
      "No Data for Ampicillin<>Hemoglobin percent pair\n",
      "No Data for Ampicillin<>Hemoglobin percent pair\n",
      "No Data for Ampicillin<>Lactic acid pair\n",
      "No Data for Ampicillin<>Lactic acid pair\n",
      "No Data for Ampicillin<>Lipase pair\n",
      "No Data for Ampicillin<>Lipase pair\n",
      "No Data for Ampicillin<>Magnesium pair\n",
      "No Data for Ampicillin<>Magnesium pair\n",
      "No Data for Ampicillin<>Magnesium, Urine pair\n",
      "No Data for Ampicillin<>Magnesium, Urine pair\n",
      "No Data for Ampicillin<>Potassium pair\n",
      "No Data for Ampicillin<>Potassium pair\n",
      "No Data for Ampicillin<>Prothrombin time INR pair\n",
      "No Data for Ampicillin<>Prothrombin time INR pair\n",
      "No Data for Ampicillin<>Red blood cell pair\n",
      "No Data for Ampicillin<>Red blood cell pair\n",
      "No Data for Ampicillin<>Uric Acid pair\n",
      "No Data for Ampicillin<>Uric Acid pair\n",
      "No Data for Ampicillin<>Uric Acid, Urine pair\n",
      "No Data for Ampicillin<>Uric Acid, Urine pair\n",
      "No Data for Ampicillin<>Vitamin B12 pair\n",
      "No Data for Ampicillin<>Vitamin B12 pair\n",
      "No Data for Ampicillin/Sulbactam (Unasyn)<>Albumin pair\n",
      "No Data for Ampicillin/Sulbactam (Unasyn)<>Albumin pair\n",
      "No Data for Ampicillin/Sulbactam (Unasyn)<>Bilirubin pair\n",
      "No Data for Ampicillin/Sulbactam (Unasyn)<>Bilirubin pair\n",
      "No Data for Ampicillin/Sulbactam (Unasyn)<>Calcium pair\n",
      "No Data for Ampicillin/Sulbactam (Unasyn)<>Calcium pair\n",
      "No Data for Ampicillin/Sulbactam (Unasyn)<>Calcium ionized pair\n",
      "No Data for Ampicillin/Sulbactam (Unasyn)<>Calcium ionized pair\n",
      "No Data for Ampicillin/Sulbactam (Unasyn)<>Creatinine pair\n",
      "No Data for Ampicillin/Sulbactam (Unasyn)<>Creatinine pair\n",
      "No Data for Ampicillin/Sulbactam (Unasyn)<>Hemoglobin pair\n",
      "No Data for Ampicillin/Sulbactam (Unasyn)<>Hemoglobin pair\n",
      "No Data for Ampicillin/Sulbactam (Unasyn)<>Hemoglobin percent pair\n",
      "No Data for Ampicillin/Sulbactam (Unasyn)<>Hemoglobin percent pair\n",
      "No Data for Ampicillin/Sulbactam (Unasyn)<>Lactic acid pair\n",
      "No Data for Ampicillin/Sulbactam (Unasyn)<>Lactic acid pair\n",
      "No Data for Ampicillin/Sulbactam (Unasyn)<>Magnesium pair\n",
      "No Data for Ampicillin/Sulbactam (Unasyn)<>Magnesium pair\n",
      "No Data for Ampicillin/Sulbactam (Unasyn)<>Potassium pair\n",
      "No Data for Ampicillin/Sulbactam (Unasyn)<>Potassium pair\n",
      "No Data for Ampicillin/Sulbactam (Unasyn)<>Prothrombin time INR pair\n",
      "No Data for Ampicillin/Sulbactam (Unasyn)<>Prothrombin time INR pair\n",
      "No Data for Ampicillin/Sulbactam (Unasyn)<>Red blood cell pair\n",
      "No Data for Ampicillin/Sulbactam (Unasyn)<>Red blood cell pair\n",
      "No Data for Ampicillin/Sulbactam (Unasyn)<>Uric Acid pair\n",
      "No Data for Ampicillin/Sulbactam (Unasyn)<>Uric Acid pair\n",
      "No Data for Ampicillin/Sulbactam (Unasyn)<>Vitamin B12 pair\n",
      "No Data for Ampicillin/Sulbactam (Unasyn)<>Vitamin B12 pair\n",
      "No Data for Argatroban<>Alanine aminotransferase pair\n",
      "No Data for Argatroban<>Alanine aminotransferase pair\n",
      "No Data for Argatroban<>Albumin pair\n",
      "No Data for Argatroban<>Albumin pair\n",
      "No Data for Argatroban<>Amylase pair\n",
      "No Data for Argatroban<>Amylase pair\n",
      "No Data for Argatroban<>Asparate aminotransferase pair\n",
      "No Data for Argatroban<>Asparate aminotransferase pair\n",
      "No Data for Argatroban<>Bilirubin pair\n",
      "No Data for Argatroban<>Bilirubin pair\n",
      "No Data for Argatroban<>Calcium pair\n",
      "No Data for Argatroban<>Calcium pair\n",
      "No Data for Argatroban<>Calcium ionized pair\n",
      "No Data for Argatroban<>Calcium ionized pair\n",
      "No Data for Argatroban<>Creatinine pair\n",
      "No Data for Argatroban<>Creatinine pair\n",
      "No Data for Argatroban<>Hemoglobin pair\n",
      "No Data for Argatroban<>Hemoglobin pair\n",
      "No Data for Argatroban<>Lactic acid pair\n",
      "No Data for Argatroban<>Lactic acid pair\n",
      "No Data for Argatroban<>Lipase pair\n",
      "No Data for Argatroban<>Lipase pair\n",
      "No Data for Argatroban<>Magnesium pair\n",
      "No Data for Argatroban<>Magnesium pair\n",
      "No Data for Argatroban<>Magnesium, Urine pair\n",
      "No Data for Argatroban<>Magnesium, Urine pair\n",
      "No Data for Argatroban<>PTT pair\n",
      "No Data for Argatroban<>PTT pair\n",
      "No Data for Argatroban<>Platelets pair\n",
      "No Data for Argatroban<>Platelets pair\n",
      "No Data for Argatroban<>Potassium pair\n",
      "No Data for Argatroban<>Potassium pair\n",
      "No Data for Argatroban<>Prothrombin time INR pair\n",
      "No Data for Argatroban<>Prothrombin time INR pair\n",
      "No Data for Argatroban<>Red blood cell pair\n",
      "No Data for Argatroban<>Red blood cell pair\n",
      "No Data for Argatroban<>Vitamin B12 pair\n",
      "No Data for Argatroban<>Vitamin B12 pair\n",
      "No Data for Atovaquone<>Alanine aminotransferase pair\n",
      "No Data for Atovaquone<>Alanine aminotransferase pair\n",
      "No Data for Atovaquone<>Albumin pair\n",
      "No Data for Atovaquone<>Albumin pair\n",
      "No Data for Atovaquone<>Asparate aminotransferase pair\n",
      "No Data for Atovaquone<>Asparate aminotransferase pair\n",
      "No Data for Atovaquone<>Bilirubin pair\n",
      "No Data for Atovaquone<>Bilirubin pair\n",
      "No Data for Atovaquone<>Calcium pair\n",
      "No Data for Atovaquone<>Calcium pair\n",
      "No Data for Atovaquone<>Calcium ionized pair\n",
      "No Data for Atovaquone<>Calcium ionized pair\n",
      "No Data for Atovaquone<>Creatinine pair\n",
      "No Data for Atovaquone<>Creatinine pair\n",
      "No Data for Atovaquone<>Hemoglobin pair\n",
      "No Data for Atovaquone<>Hemoglobin pair\n",
      "No Data for Atovaquone<>Lactic acid pair\n",
      "No Data for Atovaquone<>Lactic acid pair\n",
      "No Data for Atovaquone<>Magnesium pair\n",
      "No Data for Atovaquone<>Magnesium pair\n",
      "No Data for Atovaquone<>PTT pair\n",
      "No Data for Atovaquone<>PTT pair\n",
      "No Data for Atovaquone<>Platelets pair\n",
      "No Data for Atovaquone<>Platelets pair\n",
      "No Data for Atovaquone<>Potassium pair\n",
      "No Data for Atovaquone<>Potassium pair\n",
      "No Data for Atovaquone<>Prothrombin time INR pair\n",
      "No Data for Atovaquone<>Prothrombin time INR pair\n",
      "No Data for Atovaquone<>Red blood cell pair\n",
      "No Data for Atovaquone<>Red blood cell pair\n",
      "No Data for Atovaquone<>Uric Acid pair\n",
      "No Data for Atovaquone<>Uric Acid pair\n",
      "No Data for Atropine<>Alanine aminotransferase pair\n",
      "No Data for Atropine<>Alanine aminotransferase pair\n",
      "No Data for Atropine<>Albumin pair\n",
      "No Data for Atropine<>Albumin pair\n",
      "No Data for Atropine<>Amylase pair\n",
      "No Data for Atropine<>Amylase pair\n",
      "No Data for Atropine<>Asparate aminotransferase pair\n",
      "No Data for Atropine<>Asparate aminotransferase pair\n",
      "No Data for Atropine<>Bilirubin pair\n",
      "No Data for Atropine<>Bilirubin pair\n",
      "No Data for Atropine<>Calcium pair\n",
      "No Data for Atropine<>Calcium pair\n",
      "No Data for Atropine<>Calcium ionized pair\n",
      "No Data for Atropine<>Calcium ionized pair\n",
      "No Data for Atropine<>Creatinine pair\n",
      "No Data for Atropine<>Creatinine pair\n",
      "No Data for Atropine<>Hemoglobin pair\n",
      "No Data for Atropine<>Hemoglobin pair\n",
      "No Data for Atropine<>Hemoglobin percent pair\n",
      "No Data for Atropine<>Hemoglobin percent pair\n",
      "No Data for Atropine<>Lactic acid pair\n",
      "No Data for Atropine<>Lactic acid pair\n",
      "No Data for Atropine<>Lipase pair\n",
      "No Data for Atropine<>Lipase pair\n",
      "No Data for Atropine<>Magnesium pair\n",
      "No Data for Atropine<>Magnesium pair\n",
      "No Data for Atropine<>Potassium pair\n",
      "No Data for Atropine<>Potassium pair\n",
      "No Data for Atropine<>Prothrombin time INR pair\n",
      "No Data for Atropine<>Prothrombin time INR pair\n",
      "No Data for Atropine<>Red blood cell pair\n",
      "No Data for Atropine<>Red blood cell pair\n",
      "No Data for Atropine<>Uric Acid pair\n",
      "No Data for Atropine<>Uric Acid pair\n",
      "No Data for Atropine<>Vitamin B12 pair\n",
      "No Data for Atropine<>Vitamin B12 pair\n",
      "No Data for Azithromycin<>Albumin pair\n",
      "No Data for Azithromycin<>Albumin pair\n",
      "No Data for Azithromycin<>Amylase pair\n",
      "No Data for Azithromycin<>Amylase pair\n",
      "No Data for Azithromycin<>Bilirubin pair\n",
      "No Data for Azithromycin<>Bilirubin pair\n",
      "No Data for Azithromycin<>Calcium pair\n",
      "No Data for Azithromycin<>Calcium pair\n",
      "No Data for Azithromycin<>Calcium ionized pair\n",
      "No Data for Azithromycin<>Calcium ionized pair\n",
      "No Data for Azithromycin<>Creatinine pair\n",
      "No Data for Azithromycin<>Creatinine pair\n",
      "No Data for Azithromycin<>Hemoglobin pair\n",
      "No Data for Azithromycin<>Hemoglobin pair\n",
      "No Data for Azithromycin<>Hemoglobin percent pair\n",
      "No Data for Azithromycin<>Hemoglobin percent pair\n",
      "No Data for Azithromycin<>Lactic acid pair\n",
      "No Data for Azithromycin<>Lactic acid pair\n",
      "No Data for Azithromycin<>Magnesium pair\n",
      "No Data for Azithromycin<>Magnesium pair\n",
      "No Data for Azithromycin<>Potassium pair\n",
      "No Data for Azithromycin<>Potassium pair\n",
      "No Data for Azithromycin<>Prothrombin time INR pair\n",
      "No Data for Azithromycin<>Prothrombin time INR pair\n",
      "No Data for Azithromycin<>Red blood cell pair\n",
      "No Data for Azithromycin<>Red blood cell pair\n",
      "No Data for Azithromycin<>Uric Acid pair\n",
      "No Data for Azithromycin<>Uric Acid pair\n",
      "No Data for Azithromycin<>Vitamin B12 pair\n",
      "No Data for Azithromycin<>Vitamin B12 pair\n",
      "No Data for Aztreonam<>Albumin pair\n",
      "No Data for Aztreonam<>Albumin pair\n",
      "No Data for Aztreonam<>Bilirubin pair\n",
      "No Data for Aztreonam<>Bilirubin pair\n",
      "No Data for Aztreonam<>Calcium pair\n",
      "No Data for Aztreonam<>Calcium pair\n",
      "No Data for Aztreonam<>Calcium ionized pair\n",
      "No Data for Aztreonam<>Calcium ionized pair\n",
      "No Data for Aztreonam<>Creatinine pair\n",
      "No Data for Aztreonam<>Creatinine pair\n",
      "No Data for Aztreonam<>Hemoglobin pair\n",
      "No Data for Aztreonam<>Hemoglobin pair\n",
      "No Data for Aztreonam<>Hemoglobin percent pair\n",
      "No Data for Aztreonam<>Hemoglobin percent pair\n",
      "No Data for Aztreonam<>Lactic acid pair\n",
      "No Data for Aztreonam<>Lactic acid pair\n",
      "No Data for Aztreonam<>Magnesium pair\n",
      "No Data for Aztreonam<>Magnesium pair\n",
      "No Data for Aztreonam<>Potassium pair\n",
      "No Data for Aztreonam<>Potassium pair\n",
      "No Data for Aztreonam<>Prothrombin time INR pair\n",
      "No Data for Aztreonam<>Prothrombin time INR pair\n",
      "No Data for Aztreonam<>Red blood cell pair\n",
      "No Data for Aztreonam<>Red blood cell pair\n",
      "No Data for Aztreonam<>Uric Acid pair\n",
      "No Data for Aztreonam<>Uric Acid pair\n",
      "No Data for Aztreonam<>Uric Acid, Urine pair\n",
      "No Data for Aztreonam<>Uric Acid, Urine pair\n",
      "No Data for Bactrim (SMX/TMP)<>Albumin pair\n",
      "No Data for Bactrim (SMX/TMP)<>Albumin pair\n",
      "No Data for Bactrim (SMX/TMP)<>Amylase pair\n",
      "No Data for Bactrim (SMX/TMP)<>Amylase pair\n",
      "No Data for Bactrim (SMX/TMP)<>Bilirubin pair\n",
      "No Data for Bactrim (SMX/TMP)<>Bilirubin pair\n",
      "No Data for Bactrim (SMX/TMP)<>Calcium pair\n",
      "No Data for Bactrim (SMX/TMP)<>Calcium pair\n",
      "No Data for Bactrim (SMX/TMP)<>Calcium ionized pair\n",
      "No Data for Bactrim (SMX/TMP)<>Calcium ionized pair\n",
      "No Data for Bactrim (SMX/TMP)<>Creatinine pair\n",
      "No Data for Bactrim (SMX/TMP)<>Creatinine pair\n",
      "No Data for Bactrim (SMX/TMP)<>Hemoglobin pair\n",
      "No Data for Bactrim (SMX/TMP)<>Hemoglobin pair\n",
      "No Data for Bactrim (SMX/TMP)<>Hemoglobin percent pair\n",
      "No Data for Bactrim (SMX/TMP)<>Hemoglobin percent pair\n",
      "No Data for Bactrim (SMX/TMP)<>Lactic acid pair\n",
      "No Data for Bactrim (SMX/TMP)<>Lactic acid pair\n",
      "No Data for Bactrim (SMX/TMP)<>Lipase pair\n",
      "No Data for Bactrim (SMX/TMP)<>Lipase pair\n",
      "No Data for Bactrim (SMX/TMP)<>Magnesium pair\n",
      "No Data for Bactrim (SMX/TMP)<>Magnesium pair\n",
      "No Data for Bactrim (SMX/TMP)<>Potassium pair\n",
      "No Data for Bactrim (SMX/TMP)<>Potassium pair\n",
      "No Data for Bactrim (SMX/TMP)<>Prothrombin time INR pair\n",
      "No Data for Bactrim (SMX/TMP)<>Prothrombin time INR pair\n",
      "No Data for Bactrim (SMX/TMP)<>Red blood cell pair\n",
      "No Data for Bactrim (SMX/TMP)<>Red blood cell pair\n",
      "No Data for Bactrim (SMX/TMP)<>Uric Acid pair\n",
      "No Data for Bactrim (SMX/TMP)<>Uric Acid pair\n",
      "No Data for Bactrim (SMX/TMP)<>Vitamin B12 pair\n",
      "No Data for Bactrim (SMX/TMP)<>Vitamin B12 pair\n",
      "No Data for Beneprotein<>Albumin pair\n",
      "No Data for Beneprotein<>Albumin pair\n",
      "No Data for Beneprotein<>Amylase pair\n",
      "No Data for Beneprotein<>Amylase pair\n",
      "No Data for Beneprotein<>Bilirubin pair\n",
      "No Data for Beneprotein<>Bilirubin pair\n",
      "No Data for Beneprotein<>Calcium pair\n",
      "No Data for Beneprotein<>Calcium pair\n",
      "No Data for Beneprotein<>Calcium ionized pair\n",
      "No Data for Beneprotein<>Calcium ionized pair\n",
      "No Data for Beneprotein<>Creatinine pair\n",
      "No Data for Beneprotein<>Creatinine pair\n",
      "No Data for Beneprotein<>Creatinine ascites pair\n",
      "No Data for Beneprotein<>Creatinine ascites pair\n",
      "No Data for Beneprotein<>Hemoglobin pair\n",
      "No Data for Beneprotein<>Hemoglobin pair\n",
      "No Data for Beneprotein<>Hemoglobin percent pair\n",
      "No Data for Beneprotein<>Hemoglobin percent pair\n",
      "No Data for Beneprotein<>Lactic acid pair\n",
      "No Data for Beneprotein<>Lactic acid pair\n",
      "No Data for Beneprotein<>Lipase pair\n",
      "No Data for Beneprotein<>Lipase pair\n",
      "No Data for Beneprotein<>Magnesium pair\n",
      "No Data for Beneprotein<>Magnesium pair\n",
      "No Data for Beneprotein<>Potassium pair\n",
      "No Data for Beneprotein<>Potassium pair\n",
      "No Data for Beneprotein<>Prothrombin time INR pair\n",
      "No Data for Beneprotein<>Prothrombin time INR pair\n",
      "No Data for Beneprotein<>Red blood cell pair\n",
      "No Data for Beneprotein<>Red blood cell pair\n",
      "No Data for Beneprotein<>Uric Acid pair\n",
      "No Data for Beneprotein<>Uric Acid pair\n",
      "No Data for Beneprotein<>Vitamin B12 pair\n",
      "No Data for Beneprotein<>Vitamin B12 pair\n",
      "No Data for Bivalirudin (Angiomax)<>Alanine aminotransferase pair\n",
      "No Data for Bivalirudin (Angiomax)<>Alanine aminotransferase pair\n",
      "No Data for Bivalirudin (Angiomax)<>Albumin pair\n",
      "No Data for Bivalirudin (Angiomax)<>Albumin pair\n",
      "No Data for Bivalirudin (Angiomax)<>Amylase pair\n",
      "No Data for Bivalirudin (Angiomax)<>Amylase pair\n",
      "No Data for Bivalirudin (Angiomax)<>Asparate aminotransferase pair\n",
      "No Data for Bivalirudin (Angiomax)<>Asparate aminotransferase pair\n",
      "No Data for Bivalirudin (Angiomax)<>Bilirubin pair\n",
      "No Data for Bivalirudin (Angiomax)<>Bilirubin pair\n",
      "No Data for Bivalirudin (Angiomax)<>Calcium pair\n",
      "No Data for Bivalirudin (Angiomax)<>Calcium pair\n",
      "No Data for Bivalirudin (Angiomax)<>Calcium ionized pair\n",
      "No Data for Bivalirudin (Angiomax)<>Calcium ionized pair\n",
      "No Data for Bivalirudin (Angiomax)<>Creatinine pair\n",
      "No Data for Bivalirudin (Angiomax)<>Creatinine pair\n",
      "No Data for Bivalirudin (Angiomax)<>Hemoglobin pair\n",
      "No Data for Bivalirudin (Angiomax)<>Hemoglobin pair\n",
      "No Data for Bivalirudin (Angiomax)<>Lactic acid pair\n",
      "No Data for Bivalirudin (Angiomax)<>Lactic acid pair\n",
      "No Data for Bivalirudin (Angiomax)<>Lipase pair\n",
      "No Data for Bivalirudin (Angiomax)<>Lipase pair\n",
      "No Data for Bivalirudin (Angiomax)<>Magnesium pair\n",
      "No Data for Bivalirudin (Angiomax)<>Magnesium pair\n",
      "No Data for Bivalirudin (Angiomax)<>Potassium pair\n",
      "No Data for Bivalirudin (Angiomax)<>Potassium pair\n",
      "No Data for Bivalirudin (Angiomax)<>Prothrombin time INR pair\n",
      "No Data for Bivalirudin (Angiomax)<>Prothrombin time INR pair\n",
      "No Data for Bivalirudin (Angiomax)<>Red blood cell pair\n",
      "No Data for Bivalirudin (Angiomax)<>Red blood cell pair\n",
      "No Data for Bivalirudin (Angiomax)<>Vitamin B12 pair\n",
      "No Data for Bivalirudin (Angiomax)<>Vitamin B12 pair\n",
      "No Data for Boost Glucose Control (Full)<>Alanine aminotransferase pair\n",
      "No Data for Boost Glucose Control (Full)<>Alanine aminotransferase pair\n",
      "No Data for Boost Glucose Control (Full)<>Albumin pair\n",
      "No Data for Boost Glucose Control (Full)<>Albumin pair\n",
      "No Data for Boost Glucose Control (Full)<>Asparate aminotransferase pair\n",
      "No Data for Boost Glucose Control (Full)<>Asparate aminotransferase pair\n",
      "No Data for Boost Glucose Control (Full)<>Bilirubin pair\n",
      "No Data for Boost Glucose Control (Full)<>Bilirubin pair\n",
      "No Data for Boost Glucose Control (Full)<>Calcium pair\n",
      "No Data for Boost Glucose Control (Full)<>Calcium pair\n",
      "No Data for Boost Glucose Control (Full)<>Calcium ionized pair\n",
      "No Data for Boost Glucose Control (Full)<>Calcium ionized pair\n",
      "No Data for Boost Glucose Control (Full)<>Creatinine pair\n",
      "No Data for Boost Glucose Control (Full)<>Creatinine pair\n",
      "No Data for Boost Glucose Control (Full)<>Hemoglobin pair\n",
      "No Data for Boost Glucose Control (Full)<>Hemoglobin pair\n",
      "No Data for Boost Glucose Control (Full)<>Hemoglobin percent pair\n",
      "No Data for Boost Glucose Control (Full)<>Hemoglobin percent pair\n",
      "No Data for Boost Glucose Control (Full)<>Lactic acid pair\n",
      "No Data for Boost Glucose Control (Full)<>Lactic acid pair\n",
      "No Data for Boost Glucose Control (Full)<>Lipase pair\n",
      "No Data for Boost Glucose Control (Full)<>Lipase pair\n",
      "No Data for Boost Glucose Control (Full)<>Magnesium pair\n",
      "No Data for Boost Glucose Control (Full)<>Magnesium pair\n"
     ]
    },
    {
     "name": "stderr",
     "output_type": "stream",
     "text": [
      "/Users/pavan/Desktop/TAU/DrugLab/venv/lib/python3.9/site-packages/scipy/stats/_stats_py.py:4424: ConstantInputWarning: An input array is constant; the correlation coefficient is not defined.\n",
      "  warnings.warn(stats.ConstantInputWarning(msg))\n"
     ]
    },
    {
     "name": "stdout",
     "output_type": "stream",
     "text": [
      "No Data for Boost Glucose Control (Full)<>Potassium pair\n",
      "No Data for Boost Glucose Control (Full)<>Potassium pair\n",
      "No Data for Boost Glucose Control (Full)<>Prothrombin time INR pair\n",
      "No Data for Boost Glucose Control (Full)<>Prothrombin time INR pair\n",
      "No Data for Boost Glucose Control (Full)<>Red blood cell pair\n",
      "No Data for Boost Glucose Control (Full)<>Red blood cell pair\n",
      "No Data for Boost Glucose Control (Full)<>Uric Acid, Urine pair\n",
      "No Data for Boost Glucose Control (Full)<>Uric Acid, Urine pair\n",
      "No Data for Calcium Gluconate<>Albumin pair\n",
      "No Data for Calcium Gluconate<>Albumin pair\n",
      "No Data for Calcium Gluconate<>Calcium pair\n",
      "No Data for Calcium Gluconate<>Calcium pair\n",
      "No Data for Calcium Gluconate<>Calcium ionized pair\n",
      "No Data for Calcium Gluconate<>Calcium ionized pair\n",
      "No Data for Calcium Gluconate<>Creatinine pair\n",
      "No Data for Calcium Gluconate<>Creatinine pair\n",
      "No Data for Calcium Gluconate<>Hemoglobin pair\n",
      "No Data for Calcium Gluconate<>Hemoglobin pair\n",
      "No Data for Calcium Gluconate<>Hemoglobin percent pair\n",
      "No Data for Calcium Gluconate<>Hemoglobin percent pair\n",
      "No Data for Calcium Gluconate<>Lactic acid pair\n",
      "No Data for Calcium Gluconate<>Lactic acid pair\n",
      "No Data for Calcium Gluconate<>Magnesium pair\n",
      "No Data for Calcium Gluconate<>Magnesium pair\n",
      "No Data for Calcium Gluconate<>Magnesium, Urine pair\n",
      "No Data for Calcium Gluconate<>Magnesium, Urine pair\n",
      "No Data for Calcium Gluconate<>Potassium pair\n",
      "No Data for Calcium Gluconate<>Potassium pair\n",
      "No Data for Calcium Gluconate<>Prolactin pair\n",
      "No Data for Calcium Gluconate<>Prolactin pair\n",
      "No Data for Calcium Gluconate<>Prothrombin time INR pair\n",
      "No Data for Calcium Gluconate<>Prothrombin time INR pair\n",
      "No Data for Calcium Gluconate<>Red blood cell pair\n",
      "No Data for Calcium Gluconate<>Red blood cell pair\n",
      "No Data for Calcium Gluconate<>Uric Acid pair\n",
      "No Data for Calcium Gluconate<>Uric Acid pair\n",
      "No Data for Calcium Gluconate<>Uric Acid, Urine pair\n",
      "No Data for Calcium Gluconate<>Uric Acid, Urine pair\n",
      "No Data for Calcium Gluconate<>Vitamin B12 pair\n",
      "No Data for Calcium Gluconate<>Vitamin B12 pair\n",
      "No Data for Calcium Gluconate (CRRT)<>Albumin pair\n",
      "No Data for Calcium Gluconate (CRRT)<>Albumin pair\n",
      "No Data for Calcium Gluconate (CRRT)<>Calcium pair\n",
      "No Data for Calcium Gluconate (CRRT)<>Calcium pair\n",
      "No Data for Calcium Gluconate (CRRT)<>Calcium ionized pair\n",
      "No Data for Calcium Gluconate (CRRT)<>Calcium ionized pair\n",
      "No Data for Calcium Gluconate (CRRT)<>Creatinine pair\n",
      "No Data for Calcium Gluconate (CRRT)<>Creatinine pair\n",
      "No Data for Calcium Gluconate (CRRT)<>Hemoglobin pair\n",
      "No Data for Calcium Gluconate (CRRT)<>Hemoglobin pair\n",
      "No Data for Calcium Gluconate (CRRT)<>Hemoglobin percent pair\n",
      "No Data for Calcium Gluconate (CRRT)<>Hemoglobin percent pair\n",
      "No Data for Calcium Gluconate (CRRT)<>Lactic acid pair\n",
      "No Data for Calcium Gluconate (CRRT)<>Lactic acid pair\n",
      "No Data for Calcium Gluconate (CRRT)<>Lipase pair\n",
      "No Data for Calcium Gluconate (CRRT)<>Lipase pair\n",
      "No Data for Calcium Gluconate (CRRT)<>Magnesium pair\n",
      "No Data for Calcium Gluconate (CRRT)<>Magnesium pair\n",
      "No Data for Calcium Gluconate (CRRT)<>Potassium pair\n",
      "No Data for Calcium Gluconate (CRRT)<>Potassium pair\n",
      "No Data for Calcium Gluconate (CRRT)<>Prothrombin time INR pair\n",
      "No Data for Calcium Gluconate (CRRT)<>Prothrombin time INR pair\n",
      "No Data for Calcium Gluconate (CRRT)<>Red blood cell pair\n",
      "No Data for Calcium Gluconate (CRRT)<>Red blood cell pair\n",
      "No Data for Calcium Gluconate (CRRT)<>Uric Acid pair\n",
      "No Data for Calcium Gluconate (CRRT)<>Uric Acid pair\n",
      "No Data for Calcium Gluconate (CRRT)<>Uric Acid, Urine pair\n",
      "No Data for Calcium Gluconate (CRRT)<>Uric Acid, Urine pair\n",
      "No Data for Carafate (Sucralfate)<>Alanine aminotransferase pair\n",
      "No Data for Carafate (Sucralfate)<>Alanine aminotransferase pair\n",
      "No Data for Carafate (Sucralfate)<>Albumin pair\n",
      "No Data for Carafate (Sucralfate)<>Albumin pair\n",
      "No Data for Carafate (Sucralfate)<>Amylase pair\n",
      "No Data for Carafate (Sucralfate)<>Amylase pair\n",
      "No Data for Carafate (Sucralfate)<>Asparate aminotransferase pair\n",
      "No Data for Carafate (Sucralfate)<>Asparate aminotransferase pair\n",
      "No Data for Carafate (Sucralfate)<>Bilirubin pair\n",
      "No Data for Carafate (Sucralfate)<>Bilirubin pair\n",
      "No Data for Carafate (Sucralfate)<>Calcium pair\n",
      "No Data for Carafate (Sucralfate)<>Calcium pair\n",
      "No Data for Carafate (Sucralfate)<>Calcium ionized pair\n",
      "No Data for Carafate (Sucralfate)<>Calcium ionized pair\n",
      "No Data for Carafate (Sucralfate)<>Creatinine pair\n",
      "No Data for Carafate (Sucralfate)<>Creatinine pair\n",
      "No Data for Carafate (Sucralfate)<>Hemoglobin pair\n",
      "No Data for Carafate (Sucralfate)<>Hemoglobin pair\n",
      "No Data for Carafate (Sucralfate)<>Hemoglobin percent pair\n",
      "No Data for Carafate (Sucralfate)<>Hemoglobin percent pair\n",
      "No Data for Carafate (Sucralfate)<>Lactic acid pair\n",
      "No Data for Carafate (Sucralfate)<>Lactic acid pair\n",
      "No Data for Carafate (Sucralfate)<>Lipase pair\n",
      "No Data for Carafate (Sucralfate)<>Lipase pair\n",
      "No Data for Carafate (Sucralfate)<>Magnesium pair\n",
      "No Data for Carafate (Sucralfate)<>Magnesium pair\n",
      "No Data for Carafate (Sucralfate)<>Potassium pair\n",
      "No Data for Carafate (Sucralfate)<>Potassium pair\n",
      "No Data for Carafate (Sucralfate)<>Prothrombin time INR pair\n",
      "No Data for Carafate (Sucralfate)<>Prothrombin time INR pair\n",
      "No Data for Carafate (Sucralfate)<>Red blood cell pair\n",
      "No Data for Carafate (Sucralfate)<>Red blood cell pair\n",
      "No Data for Carafate (Sucralfate)<>Uric Acid pair\n",
      "No Data for Carafate (Sucralfate)<>Uric Acid pair\n",
      "No Data for Carafate (Sucralfate)<>Vitamin B12 pair\n",
      "No Data for Carafate (Sucralfate)<>Vitamin B12 pair\n",
      "No Data for Caspofungin<>Albumin pair\n",
      "No Data for Caspofungin<>Albumin pair\n",
      "No Data for Caspofungin<>Amylase pair\n",
      "No Data for Caspofungin<>Amylase pair\n",
      "No Data for Caspofungin<>Bilirubin pair\n",
      "No Data for Caspofungin<>Bilirubin pair\n",
      "No Data for Caspofungin<>Calcium pair\n",
      "No Data for Caspofungin<>Calcium pair\n",
      "No Data for Caspofungin<>Calcium ionized pair\n",
      "No Data for Caspofungin<>Calcium ionized pair\n",
      "No Data for Caspofungin<>Creatinine pair\n",
      "No Data for Caspofungin<>Creatinine pair\n",
      "No Data for Caspofungin<>Hemoglobin pair\n",
      "No Data for Caspofungin<>Hemoglobin pair\n",
      "No Data for Caspofungin<>Lactic acid pair\n",
      "No Data for Caspofungin<>Lactic acid pair\n",
      "No Data for Caspofungin<>Lipase pair\n",
      "No Data for Caspofungin<>Lipase pair\n",
      "No Data for Caspofungin<>Magnesium pair\n",
      "No Data for Caspofungin<>Magnesium pair\n",
      "No Data for Caspofungin<>Potassium pair\n",
      "No Data for Caspofungin<>Potassium pair\n",
      "No Data for Caspofungin<>Prothrombin time INR pair\n",
      "No Data for Caspofungin<>Prothrombin time INR pair\n",
      "No Data for Caspofungin<>Red blood cell pair\n",
      "No Data for Caspofungin<>Red blood cell pair\n",
      "No Data for Caspofungin<>Uric Acid pair\n",
      "No Data for Caspofungin<>Uric Acid pair\n",
      "No Data for Cath Lab Intake<>Albumin pair\n",
      "No Data for Cath Lab Intake<>Albumin pair\n",
      "No Data for Cath Lab Intake<>Amylase pair\n",
      "No Data for Cath Lab Intake<>Amylase pair\n",
      "No Data for Cath Lab Intake<>Bilirubin pair\n",
      "No Data for Cath Lab Intake<>Bilirubin pair\n",
      "No Data for Cath Lab Intake<>Calcium pair\n",
      "No Data for Cath Lab Intake<>Calcium pair\n",
      "No Data for Cath Lab Intake<>Calcium ionized pair\n",
      "No Data for Cath Lab Intake<>Calcium ionized pair\n",
      "No Data for Cath Lab Intake<>Creatinine pair\n",
      "No Data for Cath Lab Intake<>Creatinine pair\n",
      "No Data for Cath Lab Intake<>Hemoglobin pair\n",
      "No Data for Cath Lab Intake<>Hemoglobin pair\n",
      "No Data for Cath Lab Intake<>Hemoglobin percent pair\n",
      "No Data for Cath Lab Intake<>Hemoglobin percent pair\n",
      "No Data for Cath Lab Intake<>Lactic acid pair\n",
      "No Data for Cath Lab Intake<>Lactic acid pair\n",
      "No Data for Cath Lab Intake<>Lipase pair\n",
      "No Data for Cath Lab Intake<>Lipase pair\n",
      "No Data for Cath Lab Intake<>Magnesium pair\n",
      "No Data for Cath Lab Intake<>Magnesium pair\n",
      "No Data for Cath Lab Intake<>Potassium pair\n",
      "No Data for Cath Lab Intake<>Potassium pair\n",
      "No Data for Cath Lab Intake<>Prolactin pair\n",
      "No Data for Cath Lab Intake<>Prolactin pair\n",
      "No Data for Cath Lab Intake<>Prothrombin time INR pair\n",
      "No Data for Cath Lab Intake<>Prothrombin time INR pair\n",
      "No Data for Cath Lab Intake<>Red blood cell pair\n",
      "No Data for Cath Lab Intake<>Red blood cell pair\n",
      "No Data for Cath Lab Intake<>Uric Acid pair\n",
      "No Data for Cath Lab Intake<>Uric Acid pair\n",
      "No Data for Cath Lab Intake<>Vitamin B12 pair\n",
      "No Data for Cath Lab Intake<>Vitamin B12 pair\n",
      "No Data for Cefazolin<>Albumin pair\n",
      "No Data for Cefazolin<>Albumin pair\n",
      "No Data for Cefazolin<>Calcium pair\n",
      "No Data for Cefazolin<>Calcium pair\n",
      "No Data for Cefazolin<>Calcium ionized pair\n",
      "No Data for Cefazolin<>Calcium ionized pair\n",
      "No Data for Cefazolin<>Creatinine pair\n",
      "No Data for Cefazolin<>Creatinine pair\n",
      "No Data for Cefazolin<>Hemoglobin pair\n",
      "No Data for Cefazolin<>Hemoglobin pair\n",
      "No Data for Cefazolin<>Hemoglobin percent pair\n",
      "No Data for Cefazolin<>Hemoglobin percent pair\n",
      "No Data for Cefazolin<>Lactic acid pair\n",
      "No Data for Cefazolin<>Lactic acid pair\n",
      "No Data for Cefazolin<>Lipase pair\n",
      "No Data for Cefazolin<>Lipase pair\n",
      "No Data for Cefazolin<>Magnesium pair\n",
      "No Data for Cefazolin<>Magnesium pair\n",
      "No Data for Cefazolin<>Magnesium, Urine pair\n",
      "No Data for Cefazolin<>Magnesium, Urine pair\n",
      "No Data for Cefazolin<>Potassium pair\n",
      "No Data for Cefazolin<>Potassium pair\n",
      "No Data for Cefazolin<>Prothrombin time INR pair\n",
      "No Data for Cefazolin<>Prothrombin time INR pair\n",
      "No Data for Cefazolin<>Red blood cell pair\n",
      "No Data for Cefazolin<>Red blood cell pair\n",
      "No Data for Cefazolin<>Uric Acid pair\n",
      "No Data for Cefazolin<>Uric Acid pair\n",
      "No Data for Cefazolin<>Uric Acid, Urine pair\n",
      "No Data for Cefazolin<>Uric Acid, Urine pair\n",
      "No Data for Cefazolin<>Vitamin B12 pair\n",
      "No Data for Cefazolin<>Vitamin B12 pair\n",
      "No Data for Cefepime<>Albumin pair\n",
      "No Data for Cefepime<>Albumin pair\n",
      "No Data for Cefepime<>Bilirubin pair\n",
      "No Data for Cefepime<>Bilirubin pair\n",
      "No Data for Cefepime<>Calcium pair\n",
      "No Data for Cefepime<>Calcium pair\n",
      "No Data for Cefepime<>Calcium ionized pair\n",
      "No Data for Cefepime<>Calcium ionized pair\n",
      "No Data for Cefepime<>Creatinine pair\n",
      "No Data for Cefepime<>Creatinine pair\n",
      "No Data for Cefepime<>Creatinine ascites pair\n",
      "No Data for Cefepime<>Creatinine ascites pair\n",
      "No Data for Cefepime<>Hemoglobin pair\n",
      "No Data for Cefepime<>Hemoglobin pair\n",
      "No Data for Cefepime<>Hemoglobin percent pair\n",
      "No Data for Cefepime<>Hemoglobin percent pair\n",
      "No Data for Cefepime<>Lactic acid pair\n",
      "No Data for Cefepime<>Lactic acid pair\n",
      "No Data for Cefepime<>Magnesium pair\n",
      "No Data for Cefepime<>Magnesium pair\n",
      "No Data for Cefepime<>Magnesium, Urine pair\n",
      "No Data for Cefepime<>Magnesium, Urine pair\n",
      "No Data for Cefepime<>Potassium pair\n",
      "No Data for Cefepime<>Potassium pair\n",
      "No Data for Cefepime<>Prolactin pair\n",
      "No Data for Cefepime<>Prolactin pair\n",
      "No Data for Cefepime<>Prothrombin time INR pair\n",
      "No Data for Cefepime<>Prothrombin time INR pair\n",
      "No Data for Cefepime<>Red blood cell pair\n",
      "No Data for Cefepime<>Red blood cell pair\n",
      "No Data for Cefepime<>Uric Acid pair\n",
      "No Data for Cefepime<>Uric Acid pair\n",
      "No Data for Cefepime<>Uric Acid, Urine pair\n",
      "No Data for Cefepime<>Uric Acid, Urine pair\n",
      "No Data for Cefepime<>Vitamin B12 pair\n",
      "No Data for Cefepime<>Vitamin B12 pair\n",
      "No Data for Ceftazidime<>Albumin pair\n",
      "No Data for Ceftazidime<>Albumin pair\n",
      "No Data for Ceftazidime<>Amylase pair\n",
      "No Data for Ceftazidime<>Amylase pair\n",
      "No Data for Ceftazidime<>Bilirubin pair\n",
      "No Data for Ceftazidime<>Bilirubin pair\n",
      "No Data for Ceftazidime<>Calcium pair\n",
      "No Data for Ceftazidime<>Calcium pair\n",
      "No Data for Ceftazidime<>Calcium ionized pair\n",
      "No Data for Ceftazidime<>Calcium ionized pair\n",
      "No Data for Ceftazidime<>Creatinine pair\n",
      "No Data for Ceftazidime<>Creatinine pair\n",
      "No Data for Ceftazidime<>Hemoglobin pair\n",
      "No Data for Ceftazidime<>Hemoglobin pair\n",
      "No Data for Ceftazidime<>Hemoglobin percent pair\n",
      "No Data for Ceftazidime<>Hemoglobin percent pair\n",
      "No Data for Ceftazidime<>Lactic acid pair\n",
      "No Data for Ceftazidime<>Lactic acid pair\n",
      "No Data for Ceftazidime<>Lipase pair\n",
      "No Data for Ceftazidime<>Lipase pair\n",
      "No Data for Ceftazidime<>Magnesium pair\n",
      "No Data for Ceftazidime<>Magnesium pair\n",
      "No Data for Ceftazidime<>Potassium pair\n",
      "No Data for Ceftazidime<>Potassium pair\n",
      "No Data for Ceftazidime<>Prothrombin time INR pair\n",
      "No Data for Ceftazidime<>Prothrombin time INR pair\n",
      "No Data for Ceftazidime<>Red blood cell pair\n",
      "No Data for Ceftazidime<>Red blood cell pair\n",
      "No Data for Ceftazidime<>Uric Acid pair\n",
      "No Data for Ceftazidime<>Uric Acid pair\n",
      "No Data for Ceftazidime<>Vitamin B12 pair\n",
      "No Data for Ceftazidime<>Vitamin B12 pair\n",
      "No Data for Ceftriaxone<>Albumin pair\n",
      "No Data for Ceftriaxone<>Albumin pair\n",
      "No Data for Ceftriaxone<>Bilirubin pair\n",
      "No Data for Ceftriaxone<>Bilirubin pair\n",
      "No Data for Ceftriaxone<>Calcium pair\n",
      "No Data for Ceftriaxone<>Calcium pair\n",
      "No Data for Ceftriaxone<>Calcium ionized pair\n",
      "No Data for Ceftriaxone<>Calcium ionized pair\n",
      "No Data for Ceftriaxone<>Creatinine pair\n",
      "No Data for Ceftriaxone<>Creatinine pair\n",
      "No Data for Ceftriaxone<>Creatinine ascites pair\n",
      "No Data for Ceftriaxone<>Creatinine ascites pair\n",
      "No Data for Ceftriaxone<>Hemoglobin pair\n",
      "No Data for Ceftriaxone<>Hemoglobin pair\n",
      "No Data for Ceftriaxone<>Hemoglobin percent pair\n",
      "No Data for Ceftriaxone<>Hemoglobin percent pair\n",
      "No Data for Ceftriaxone<>Lactic acid pair\n",
      "No Data for Ceftriaxone<>Lactic acid pair\n",
      "No Data for Ceftriaxone<>Magnesium pair\n",
      "No Data for Ceftriaxone<>Magnesium pair\n",
      "No Data for Ceftriaxone<>Magnesium, Urine pair\n",
      "No Data for Ceftriaxone<>Magnesium, Urine pair\n",
      "No Data for Ceftriaxone<>Potassium pair\n",
      "No Data for Ceftriaxone<>Potassium pair\n",
      "No Data for Ceftriaxone<>Prothrombin time INR pair\n",
      "No Data for Ceftriaxone<>Prothrombin time INR pair\n",
      "No Data for Ceftriaxone<>Red blood cell pair\n",
      "No Data for Ceftriaxone<>Red blood cell pair\n",
      "No Data for Ceftriaxone<>Uric Acid pair\n",
      "No Data for Ceftriaxone<>Uric Acid pair\n",
      "No Data for Ceftriaxone<>Uric Acid, Urine pair\n",
      "No Data for Ceftriaxone<>Uric Acid, Urine pair\n",
      "No Data for Ceftriaxone<>Vitamin B12 pair\n",
      "No Data for Ceftriaxone<>Vitamin B12 pair\n",
      "No Data for Cell Saver<>Alanine aminotransferase pair\n",
      "No Data for Cell Saver<>Alanine aminotransferase pair\n",
      "No Data for Cell Saver<>Albumin pair\n",
      "No Data for Cell Saver<>Albumin pair\n",
      "No Data for Cell Saver<>Amylase pair\n",
      "No Data for Cell Saver<>Amylase pair\n",
      "No Data for Cell Saver<>Asparate aminotransferase pair\n",
      "No Data for Cell Saver<>Asparate aminotransferase pair\n",
      "No Data for Cell Saver<>Bilirubin pair\n",
      "No Data for Cell Saver<>Bilirubin pair\n",
      "No Data for Cell Saver<>Calcium pair\n",
      "No Data for Cell Saver<>Calcium pair\n",
      "No Data for Cell Saver<>Calcium ionized pair\n",
      "No Data for Cell Saver<>Calcium ionized pair\n",
      "No Data for Cell Saver<>Creatinine pair\n",
      "No Data for Cell Saver<>Creatinine pair\n",
      "No Data for Cell Saver<>Glucose pair\n",
      "No Data for Cell Saver<>Glucose pair\n",
      "No Data for Cell Saver<>Hemoglobin pair\n",
      "No Data for Cell Saver<>Hemoglobin pair\n",
      "No Data for Cell Saver<>Lactic acid pair\n",
      "No Data for Cell Saver<>Lactic acid pair\n",
      "No Data for Cell Saver<>Magnesium pair\n",
      "No Data for Cell Saver<>Magnesium pair\n",
      "No Data for Cell Saver<>PTT pair\n",
      "No Data for Cell Saver<>PTT pair\n",
      "No Data for Cell Saver<>Potassium pair\n",
      "No Data for Cell Saver<>Potassium pair\n",
      "No Data for Cell Saver<>Prothrombin time INR pair\n",
      "No Data for Cell Saver<>Prothrombin time INR pair\n",
      "No Data for Cell Saver<>Red blood cell pair\n",
      "No Data for Cell Saver<>Red blood cell pair\n",
      "No Data for Cell Saver<>Sodium pair\n",
      "No Data for Cell Saver<>Sodium pair\n",
      "No Data for Ciprofloxacin<>Albumin pair\n",
      "No Data for Ciprofloxacin<>Albumin pair\n",
      "No Data for Ciprofloxacin<>Calcium pair\n",
      "No Data for Ciprofloxacin<>Calcium pair\n",
      "No Data for Ciprofloxacin<>Calcium ionized pair\n",
      "No Data for Ciprofloxacin<>Calcium ionized pair\n",
      "No Data for Ciprofloxacin<>Creatinine pair\n",
      "No Data for Ciprofloxacin<>Creatinine pair\n",
      "No Data for Ciprofloxacin<>Hemoglobin pair\n",
      "No Data for Ciprofloxacin<>Hemoglobin pair\n",
      "No Data for Ciprofloxacin<>Hemoglobin percent pair\n",
      "No Data for Ciprofloxacin<>Hemoglobin percent pair\n",
      "No Data for Ciprofloxacin<>Lactic acid pair\n",
      "No Data for Ciprofloxacin<>Lactic acid pair\n",
      "No Data for Ciprofloxacin<>Magnesium pair\n",
      "No Data for Ciprofloxacin<>Magnesium pair\n",
      "No Data for Ciprofloxacin<>Magnesium, Urine pair\n",
      "No Data for Ciprofloxacin<>Magnesium, Urine pair\n",
      "No Data for Ciprofloxacin<>Potassium pair\n",
      "No Data for Ciprofloxacin<>Potassium pair\n",
      "No Data for Ciprofloxacin<>Prolactin pair\n",
      "No Data for Ciprofloxacin<>Prolactin pair\n",
      "No Data for Ciprofloxacin<>Prothrombin time INR pair\n",
      "No Data for Ciprofloxacin<>Prothrombin time INR pair\n",
      "No Data for Ciprofloxacin<>Red blood cell pair\n",
      "No Data for Ciprofloxacin<>Red blood cell pair\n",
      "No Data for Ciprofloxacin<>Uric Acid pair\n",
      "No Data for Ciprofloxacin<>Uric Acid pair\n",
      "No Data for Ciprofloxacin<>Uric Acid, Urine pair\n",
      "No Data for Ciprofloxacin<>Uric Acid, Urine pair\n",
      "No Data for Ciprofloxacin<>Vitamin B12 pair\n",
      "No Data for Ciprofloxacin<>Vitamin B12 pair\n",
      "No Data for Cisatracurium<>Albumin pair\n",
      "No Data for Cisatracurium<>Albumin pair\n",
      "No Data for Cisatracurium<>Amylase pair\n",
      "No Data for Cisatracurium<>Amylase pair\n",
      "No Data for Cisatracurium<>Bilirubin pair\n",
      "No Data for Cisatracurium<>Bilirubin pair\n",
      "No Data for Cisatracurium<>Calcium pair\n",
      "No Data for Cisatracurium<>Calcium pair\n",
      "No Data for Cisatracurium<>Calcium ionized pair\n",
      "No Data for Cisatracurium<>Calcium ionized pair\n",
      "No Data for Cisatracurium<>Creatinine pair\n",
      "No Data for Cisatracurium<>Creatinine pair\n",
      "No Data for Cisatracurium<>Hemoglobin pair\n",
      "No Data for Cisatracurium<>Hemoglobin pair\n",
      "No Data for Cisatracurium<>Hemoglobin percent pair\n",
      "No Data for Cisatracurium<>Hemoglobin percent pair\n",
      "No Data for Cisatracurium<>Lactic acid pair\n",
      "No Data for Cisatracurium<>Lactic acid pair\n",
      "No Data for Cisatracurium<>Lipase pair\n",
      "No Data for Cisatracurium<>Lipase pair\n",
      "No Data for Cisatracurium<>Magnesium pair\n",
      "No Data for Cisatracurium<>Magnesium pair\n",
      "No Data for Cisatracurium<>Magnesium, Urine pair\n",
      "No Data for Cisatracurium<>Magnesium, Urine pair\n",
      "No Data for Cisatracurium<>Potassium pair\n",
      "No Data for Cisatracurium<>Potassium pair\n",
      "No Data for Cisatracurium<>Prothrombin time INR pair\n",
      "No Data for Cisatracurium<>Prothrombin time INR pair\n",
      "No Data for Cisatracurium<>Red blood cell pair\n",
      "No Data for Cisatracurium<>Red blood cell pair\n",
      "No Data for Cisatracurium<>Uric Acid pair\n",
      "No Data for Cisatracurium<>Uric Acid pair\n",
      "No Data for Cisatracurium<>Vitamin B12 pair\n",
      "No Data for Cisatracurium<>Vitamin B12 pair\n",
      "No Data for Citrate<>Albumin pair\n",
      "No Data for Citrate<>Albumin pair\n",
      "No Data for Citrate<>Amylase pair\n",
      "No Data for Citrate<>Amylase pair\n",
      "No Data for Citrate<>Bilirubin pair\n",
      "No Data for Citrate<>Bilirubin pair\n",
      "No Data for Citrate<>Calcium pair\n",
      "No Data for Citrate<>Calcium pair\n",
      "No Data for Citrate<>Calcium ionized pair\n",
      "No Data for Citrate<>Calcium ionized pair\n",
      "No Data for Citrate<>Creatinine pair\n",
      "No Data for Citrate<>Creatinine pair\n",
      "No Data for Citrate<>Hemoglobin pair\n",
      "No Data for Citrate<>Hemoglobin pair\n",
      "No Data for Citrate<>Lactic acid pair\n",
      "No Data for Citrate<>Lactic acid pair\n",
      "No Data for Citrate<>Lipase pair\n",
      "No Data for Citrate<>Lipase pair\n",
      "No Data for Citrate<>Magnesium pair\n",
      "No Data for Citrate<>Magnesium pair\n",
      "No Data for Citrate<>Potassium pair\n",
      "No Data for Citrate<>Potassium pair\n",
      "No Data for Citrate<>Prothrombin time INR pair\n",
      "No Data for Citrate<>Prothrombin time INR pair\n",
      "No Data for Citrate<>Red blood cell pair\n",
      "No Data for Citrate<>Red blood cell pair\n",
      "No Data for Citrate<>Uric Acid pair\n",
      "No Data for Citrate<>Uric Acid pair\n",
      "No Data for Citrate<>Vitamin B12 pair\n",
      "No Data for Citrate<>Vitamin B12 pair\n",
      "No Data for Clindamycin<>Albumin pair\n",
      "No Data for Clindamycin<>Albumin pair\n",
      "No Data for Clindamycin<>Amylase pair\n",
      "No Data for Clindamycin<>Amylase pair\n",
      "No Data for Clindamycin<>Bilirubin pair\n",
      "No Data for Clindamycin<>Bilirubin pair\n",
      "No Data for Clindamycin<>Calcium pair\n",
      "No Data for Clindamycin<>Calcium pair\n",
      "No Data for Clindamycin<>Calcium ionized pair\n",
      "No Data for Clindamycin<>Calcium ionized pair\n",
      "No Data for Clindamycin<>Creatinine pair\n",
      "No Data for Clindamycin<>Creatinine pair\n",
      "No Data for Clindamycin<>Hemoglobin pair\n",
      "No Data for Clindamycin<>Hemoglobin pair\n",
      "No Data for Clindamycin<>Hemoglobin percent pair\n",
      "No Data for Clindamycin<>Hemoglobin percent pair\n",
      "No Data for Clindamycin<>Lactic acid pair\n",
      "No Data for Clindamycin<>Lactic acid pair\n",
      "No Data for Clindamycin<>Lipase pair\n",
      "No Data for Clindamycin<>Lipase pair\n",
      "No Data for Clindamycin<>Magnesium pair\n",
      "No Data for Clindamycin<>Magnesium pair\n",
      "No Data for Clindamycin<>Potassium pair\n",
      "No Data for Clindamycin<>Potassium pair\n",
      "No Data for Clindamycin<>Prothrombin time INR pair\n",
      "No Data for Clindamycin<>Prothrombin time INR pair\n",
      "No Data for Clindamycin<>Red blood cell pair\n",
      "No Data for Clindamycin<>Red blood cell pair\n",
      "No Data for Clindamycin<>Uric Acid pair\n",
      "No Data for Clindamycin<>Uric Acid pair\n",
      "No Data for Clindamycin<>Vitamin B12 pair\n",
      "No Data for Clindamycin<>Vitamin B12 pair\n",
      "No Data for Coumadin (Warfarin)<>Alanine aminotransferase pair\n",
      "No Data for Coumadin (Warfarin)<>Alanine aminotransferase pair\n",
      "No Data for Coumadin (Warfarin)<>Albumin pair\n",
      "No Data for Coumadin (Warfarin)<>Albumin pair\n",
      "No Data for Coumadin (Warfarin)<>Amylase pair\n",
      "No Data for Coumadin (Warfarin)<>Amylase pair\n",
      "No Data for Coumadin (Warfarin)<>Asparate aminotransferase pair\n",
      "No Data for Coumadin (Warfarin)<>Asparate aminotransferase pair\n",
      "No Data for Coumadin (Warfarin)<>Bilirubin pair\n",
      "No Data for Coumadin (Warfarin)<>Bilirubin pair\n",
      "No Data for Coumadin (Warfarin)<>Calcium pair\n",
      "No Data for Coumadin (Warfarin)<>Calcium pair\n",
      "No Data for Coumadin (Warfarin)<>Calcium ionized pair\n",
      "No Data for Coumadin (Warfarin)<>Calcium ionized pair\n",
      "No Data for Coumadin (Warfarin)<>Creatinine pair\n",
      "No Data for Coumadin (Warfarin)<>Creatinine pair\n",
      "No Data for Coumadin (Warfarin)<>Hemoglobin pair\n",
      "No Data for Coumadin (Warfarin)<>Hemoglobin pair\n",
      "No Data for Coumadin (Warfarin)<>Hemoglobin percent pair\n",
      "No Data for Coumadin (Warfarin)<>Hemoglobin percent pair\n",
      "No Data for Coumadin (Warfarin)<>Lactic acid pair\n",
      "No Data for Coumadin (Warfarin)<>Lactic acid pair\n",
      "No Data for Coumadin (Warfarin)<>Lipase pair\n",
      "No Data for Coumadin (Warfarin)<>Lipase pair\n",
      "No Data for Coumadin (Warfarin)<>Magnesium pair\n",
      "No Data for Coumadin (Warfarin)<>Magnesium pair\n",
      "No Data for Coumadin (Warfarin)<>Potassium pair\n",
      "No Data for Coumadin (Warfarin)<>Potassium pair\n",
      "No Data for Coumadin (Warfarin)<>Prothrombin time INR pair\n",
      "No Data for Coumadin (Warfarin)<>Prothrombin time INR pair\n",
      "No Data for Coumadin (Warfarin)<>Red blood cell pair\n",
      "No Data for Coumadin (Warfarin)<>Red blood cell pair\n",
      "No Data for Coumadin (Warfarin)<>Uric Acid pair\n",
      "No Data for Coumadin (Warfarin)<>Uric Acid pair\n",
      "No Data for Coumadin (Warfarin)<>Uric Acid, Urine pair\n",
      "No Data for Coumadin (Warfarin)<>Uric Acid, Urine pair\n",
      "No Data for Cryoprecipitate<>Albumin pair\n",
      "No Data for Cryoprecipitate<>Albumin pair\n",
      "No Data for Cryoprecipitate<>Amylase pair\n",
      "No Data for Cryoprecipitate<>Amylase pair\n",
      "No Data for Cryoprecipitate<>Bilirubin pair\n",
      "No Data for Cryoprecipitate<>Bilirubin pair\n",
      "No Data for Cryoprecipitate<>Calcium pair\n",
      "No Data for Cryoprecipitate<>Calcium pair\n",
      "No Data for Cryoprecipitate<>Calcium ionized pair\n",
      "No Data for Cryoprecipitate<>Calcium ionized pair\n",
      "No Data for Cryoprecipitate<>Creatinine pair\n",
      "No Data for Cryoprecipitate<>Creatinine pair\n",
      "No Data for Cryoprecipitate<>Hemoglobin pair\n",
      "No Data for Cryoprecipitate<>Hemoglobin pair\n",
      "No Data for Cryoprecipitate<>Hemoglobin percent pair\n",
      "No Data for Cryoprecipitate<>Hemoglobin percent pair\n",
      "No Data for Cryoprecipitate<>Lactic acid pair\n",
      "No Data for Cryoprecipitate<>Lactic acid pair\n",
      "No Data for Cryoprecipitate<>Lipase pair\n",
      "No Data for Cryoprecipitate<>Lipase pair\n",
      "No Data for Cryoprecipitate<>Magnesium pair\n",
      "No Data for Cryoprecipitate<>Magnesium pair\n",
      "No Data for Cryoprecipitate<>Magnesium, Urine pair\n",
      "No Data for Cryoprecipitate<>Magnesium, Urine pair\n",
      "No Data for Cryoprecipitate<>Potassium pair\n",
      "No Data for Cryoprecipitate<>Potassium pair\n",
      "No Data for Cryoprecipitate<>Prothrombin time INR pair\n",
      "No Data for Cryoprecipitate<>Prothrombin time INR pair\n",
      "No Data for Cryoprecipitate<>Red blood cell pair\n",
      "No Data for Cryoprecipitate<>Red blood cell pair\n",
      "No Data for Cryoprecipitate<>Uric Acid pair\n",
      "No Data for Cryoprecipitate<>Uric Acid pair\n",
      "No Data for Cyclosporine<>Alanine aminotransferase pair\n",
      "No Data for Cyclosporine<>Alanine aminotransferase pair\n",
      "No Data for Cyclosporine<>Asparate aminotransferase pair\n",
      "No Data for Cyclosporine<>Asparate aminotransferase pair\n",
      "No Data for Cyclosporine<>Bilirubin pair\n",
      "No Data for Cyclosporine<>Bilirubin pair\n",
      "No Data for Cyclosporine<>Calcium pair\n",
      "No Data for Cyclosporine<>Calcium pair\n",
      "No Data for Cyclosporine<>Creatinine pair\n",
      "No Data for Cyclosporine<>Creatinine pair\n",
      "No Data for Cyclosporine<>Glucose pair\n",
      "No Data for Cyclosporine<>Glucose pair\n",
      "No Data for Cyclosporine<>Hematocrit pair\n",
      "No Data for Cyclosporine<>Hematocrit pair\n",
      "No Data for Cyclosporine<>Hemoglobin pair\n",
      "No Data for Cyclosporine<>Hemoglobin pair\n",
      "No Data for Cyclosporine<>Lactic acid pair\n",
      "No Data for Cyclosporine<>Lactic acid pair\n",
      "No Data for Cyclosporine<>Magnesium pair\n",
      "No Data for Cyclosporine<>Magnesium pair\n",
      "No Data for Cyclosporine<>PTT pair\n",
      "No Data for Cyclosporine<>PTT pair\n",
      "No Data for Cyclosporine<>Platelets pair\n",
      "No Data for Cyclosporine<>Platelets pair\n",
      "No Data for Cyclosporine<>Potassium pair\n",
      "No Data for Cyclosporine<>Potassium pair\n",
      "No Data for Cyclosporine<>Prothrombin time INR pair\n",
      "No Data for Cyclosporine<>Prothrombin time INR pair\n",
      "No Data for Cyclosporine<>Red blood cell pair\n",
      "No Data for Cyclosporine<>Red blood cell pair\n",
      "No Data for Cyclosporine<>Sodium pair\n",
      "No Data for Cyclosporine<>Sodium pair\n",
      "No Data for Cyclosporine<>Uric Acid pair\n",
      "No Data for Cyclosporine<>Uric Acid pair\n",
      "No Data for Cyclosporine<>Uric Acid, Urine pair\n",
      "No Data for Cyclosporine<>Uric Acid, Urine pair\n",
      "No Data for D5 1/2NS<>Albumin pair\n",
      "No Data for D5 1/2NS<>Albumin pair\n",
      "No Data for D5 1/2NS<>Bilirubin pair\n",
      "No Data for D5 1/2NS<>Bilirubin pair\n",
      "No Data for D5 1/2NS<>Calcium pair\n",
      "No Data for D5 1/2NS<>Calcium pair\n",
      "No Data for D5 1/2NS<>Calcium ionized pair\n",
      "No Data for D5 1/2NS<>Calcium ionized pair\n",
      "No Data for D5 1/2NS<>Creatinine pair\n",
      "No Data for D5 1/2NS<>Creatinine pair\n",
      "No Data for D5 1/2NS<>Hemoglobin pair\n",
      "No Data for D5 1/2NS<>Hemoglobin pair\n",
      "No Data for D5 1/2NS<>Hemoglobin percent pair\n",
      "No Data for D5 1/2NS<>Hemoglobin percent pair\n",
      "No Data for D5 1/2NS<>Lactic acid pair\n",
      "No Data for D5 1/2NS<>Lactic acid pair\n",
      "No Data for D5 1/2NS<>Magnesium pair\n",
      "No Data for D5 1/2NS<>Magnesium pair\n",
      "No Data for D5 1/2NS<>Magnesium, Urine pair\n",
      "No Data for D5 1/2NS<>Magnesium, Urine pair\n",
      "No Data for D5 1/2NS<>Potassium pair\n",
      "No Data for D5 1/2NS<>Potassium pair\n",
      "No Data for D5 1/2NS<>Prolactin pair\n",
      "No Data for D5 1/2NS<>Prolactin pair\n",
      "No Data for D5 1/2NS<>Prothrombin time INR pair\n",
      "No Data for D5 1/2NS<>Prothrombin time INR pair\n",
      "No Data for D5 1/2NS<>Red blood cell pair\n",
      "No Data for D5 1/2NS<>Red blood cell pair\n",
      "No Data for D5 1/2NS<>Uric Acid pair\n",
      "No Data for D5 1/2NS<>Uric Acid pair\n",
      "No Data for D5 1/2NS<>Uric Acid, Urine pair\n",
      "No Data for D5 1/2NS<>Uric Acid, Urine pair\n",
      "No Data for D5 1/2NS<>Vitamin B12 pair\n",
      "No Data for D5 1/2NS<>Vitamin B12 pair\n",
      "No Data for D5 1/4NS<>Alanine aminotransferase pair\n",
      "No Data for D5 1/4NS<>Alanine aminotransferase pair\n",
      "No Data for D5 1/4NS<>Albumin pair\n",
      "No Data for D5 1/4NS<>Albumin pair\n",
      "No Data for D5 1/4NS<>Amylase pair\n",
      "No Data for D5 1/4NS<>Amylase pair\n",
      "No Data for D5 1/4NS<>Asparate aminotransferase pair\n",
      "No Data for D5 1/4NS<>Asparate aminotransferase pair\n",
      "No Data for D5 1/4NS<>Bilirubin pair\n",
      "No Data for D5 1/4NS<>Bilirubin pair\n",
      "No Data for D5 1/4NS<>Calcium pair\n",
      "No Data for D5 1/4NS<>Calcium pair\n",
      "No Data for D5 1/4NS<>Calcium ionized pair\n",
      "No Data for D5 1/4NS<>Calcium ionized pair\n",
      "No Data for D5 1/4NS<>Creatinine pair\n",
      "No Data for D5 1/4NS<>Creatinine pair\n",
      "No Data for D5 1/4NS<>Hemoglobin pair\n",
      "No Data for D5 1/4NS<>Hemoglobin pair\n",
      "No Data for D5 1/4NS<>Hemoglobin percent pair\n",
      "No Data for D5 1/4NS<>Hemoglobin percent pair\n",
      "No Data for D5 1/4NS<>Lactic acid pair\n",
      "No Data for D5 1/4NS<>Lactic acid pair\n",
      "No Data for D5 1/4NS<>Lipase pair\n",
      "No Data for D5 1/4NS<>Lipase pair\n",
      "No Data for D5 1/4NS<>Magnesium pair\n",
      "No Data for D5 1/4NS<>Magnesium pair\n",
      "No Data for D5 1/4NS<>Potassium pair\n",
      "No Data for D5 1/4NS<>Potassium pair\n",
      "No Data for D5 1/4NS<>Prothrombin time INR pair\n",
      "No Data for D5 1/4NS<>Prothrombin time INR pair\n",
      "No Data for D5 1/4NS<>Red blood cell pair\n",
      "No Data for D5 1/4NS<>Red blood cell pair\n",
      "No Data for D5 1/4NS<>Uric Acid pair\n",
      "No Data for D5 1/4NS<>Uric Acid pair\n",
      "No Data for D5LR<>Alanine aminotransferase pair\n",
      "No Data for D5LR<>Alanine aminotransferase pair\n",
      "No Data for D5LR<>Albumin pair\n",
      "No Data for D5LR<>Albumin pair\n",
      "No Data for D5LR<>Amylase pair\n",
      "No Data for D5LR<>Amylase pair\n",
      "No Data for D5LR<>Asparate aminotransferase pair\n",
      "No Data for D5LR<>Asparate aminotransferase pair\n",
      "No Data for D5LR<>Bilirubin pair\n",
      "No Data for D5LR<>Bilirubin pair\n",
      "No Data for D5LR<>Calcium pair\n",
      "No Data for D5LR<>Calcium pair\n",
      "No Data for D5LR<>Calcium ionized pair\n",
      "No Data for D5LR<>Calcium ionized pair\n",
      "No Data for D5LR<>Creatinine pair\n",
      "No Data for D5LR<>Creatinine pair\n",
      "No Data for D5LR<>Hemoglobin pair\n",
      "No Data for D5LR<>Hemoglobin pair\n",
      "No Data for D5LR<>Lactic acid pair\n",
      "No Data for D5LR<>Lactic acid pair\n",
      "No Data for D5LR<>Lipase pair\n",
      "No Data for D5LR<>Lipase pair\n",
      "No Data for D5LR<>Magnesium pair\n",
      "No Data for D5LR<>Magnesium pair\n",
      "No Data for D5LR<>PTT pair\n",
      "No Data for D5LR<>PTT pair\n",
      "No Data for D5LR<>Potassium pair\n",
      "No Data for D5LR<>Potassium pair\n",
      "No Data for D5LR<>Prothrombin time INR pair\n",
      "No Data for D5LR<>Prothrombin time INR pair\n",
      "No Data for D5LR<>Red blood cell pair\n",
      "No Data for D5LR<>Red blood cell pair\n",
      "No Data for D5LR<>Vitamin B12 pair\n",
      "No Data for D5LR<>Vitamin B12 pair\n",
      "No Data for D5NS<>Albumin pair\n",
      "No Data for D5NS<>Albumin pair\n",
      "No Data for D5NS<>Amylase pair\n",
      "No Data for D5NS<>Amylase pair\n",
      "No Data for D5NS<>Bilirubin pair\n",
      "No Data for D5NS<>Bilirubin pair\n",
      "No Data for D5NS<>Calcium pair\n",
      "No Data for D5NS<>Calcium pair\n",
      "No Data for D5NS<>Calcium ionized pair\n",
      "No Data for D5NS<>Calcium ionized pair\n",
      "No Data for D5NS<>Creatinine pair\n",
      "No Data for D5NS<>Creatinine pair\n",
      "No Data for D5NS<>Hemoglobin pair\n",
      "No Data for D5NS<>Hemoglobin pair\n",
      "No Data for D5NS<>Hemoglobin percent pair\n",
      "No Data for D5NS<>Hemoglobin percent pair\n",
      "No Data for D5NS<>Lactic acid pair\n",
      "No Data for D5NS<>Lactic acid pair\n",
      "No Data for D5NS<>Magnesium pair\n",
      "No Data for D5NS<>Magnesium pair\n",
      "No Data for D5NS<>Potassium pair\n",
      "No Data for D5NS<>Potassium pair\n",
      "No Data for D5NS<>Prothrombin time INR pair\n",
      "No Data for D5NS<>Prothrombin time INR pair\n",
      "No Data for D5NS<>Red blood cell pair\n",
      "No Data for D5NS<>Red blood cell pair\n",
      "No Data for D5NS<>Uric Acid pair\n",
      "No Data for D5NS<>Uric Acid pair\n",
      "No Data for D5NS<>Uric Acid, Urine pair\n",
      "No Data for D5NS<>Uric Acid, Urine pair\n",
      "No Data for D5NS<>Vitamin B12 pair\n",
      "No Data for D5NS<>Vitamin B12 pair\n",
      "No Data for Daptomycin<>Albumin pair\n",
      "No Data for Daptomycin<>Albumin pair\n",
      "No Data for Daptomycin<>Amylase pair\n",
      "No Data for Daptomycin<>Amylase pair\n",
      "No Data for Daptomycin<>Bilirubin pair\n",
      "No Data for Daptomycin<>Bilirubin pair\n",
      "No Data for Daptomycin<>Calcium pair\n",
      "No Data for Daptomycin<>Calcium pair\n",
      "No Data for Daptomycin<>Calcium ionized pair\n",
      "No Data for Daptomycin<>Calcium ionized pair\n",
      "No Data for Daptomycin<>Creatinine pair\n",
      "No Data for Daptomycin<>Creatinine pair\n",
      "No Data for Daptomycin<>Hemoglobin pair\n",
      "No Data for Daptomycin<>Hemoglobin pair\n",
      "No Data for Daptomycin<>Lactic acid pair\n",
      "No Data for Daptomycin<>Lactic acid pair\n",
      "No Data for Daptomycin<>Lipase pair\n",
      "No Data for Daptomycin<>Lipase pair\n",
      "No Data for Daptomycin<>Magnesium pair\n",
      "No Data for Daptomycin<>Magnesium pair\n",
      "No Data for Daptomycin<>Potassium pair\n",
      "No Data for Daptomycin<>Potassium pair\n",
      "No Data for Daptomycin<>Prothrombin time INR pair\n",
      "No Data for Daptomycin<>Prothrombin time INR pair\n",
      "No Data for Daptomycin<>Red blood cell pair\n",
      "No Data for Daptomycin<>Red blood cell pair\n",
      "No Data for Daptomycin<>Uric Acid pair\n",
      "No Data for Daptomycin<>Uric Acid pair\n",
      "No Data for Dexmedetomidine (Precedex)<>Alanine aminotransferase pair\n",
      "No Data for Dexmedetomidine (Precedex)<>Alanine aminotransferase pair\n",
      "No Data for Dexmedetomidine (Precedex)<>Albumin pair\n",
      "No Data for Dexmedetomidine (Precedex)<>Albumin pair\n",
      "No Data for Dexmedetomidine (Precedex)<>Amylase pair\n",
      "No Data for Dexmedetomidine (Precedex)<>Amylase pair\n",
      "No Data for Dexmedetomidine (Precedex)<>Asparate aminotransferase pair\n",
      "No Data for Dexmedetomidine (Precedex)<>Asparate aminotransferase pair\n",
      "No Data for Dexmedetomidine (Precedex)<>Bilirubin pair\n",
      "No Data for Dexmedetomidine (Precedex)<>Bilirubin pair\n",
      "No Data for Dexmedetomidine (Precedex)<>Calcium pair\n",
      "No Data for Dexmedetomidine (Precedex)<>Calcium pair\n",
      "No Data for Dexmedetomidine (Precedex)<>Calcium ionized pair\n",
      "No Data for Dexmedetomidine (Precedex)<>Calcium ionized pair\n",
      "No Data for Dexmedetomidine (Precedex)<>Creatinine pair\n",
      "No Data for Dexmedetomidine (Precedex)<>Creatinine pair\n",
      "No Data for Dexmedetomidine (Precedex)<>Hemoglobin pair\n",
      "No Data for Dexmedetomidine (Precedex)<>Hemoglobin pair\n",
      "No Data for Dexmedetomidine (Precedex)<>Hemoglobin percent pair\n",
      "No Data for Dexmedetomidine (Precedex)<>Hemoglobin percent pair\n",
      "No Data for Dexmedetomidine (Precedex)<>Lactic acid pair\n",
      "No Data for Dexmedetomidine (Precedex)<>Lactic acid pair\n",
      "No Data for Dexmedetomidine (Precedex)<>Lipase pair\n",
      "No Data for Dexmedetomidine (Precedex)<>Lipase pair\n",
      "No Data for Dexmedetomidine (Precedex)<>Magnesium pair\n",
      "No Data for Dexmedetomidine (Precedex)<>Magnesium pair\n",
      "No Data for Dexmedetomidine (Precedex)<>Potassium pair\n",
      "No Data for Dexmedetomidine (Precedex)<>Potassium pair\n",
      "No Data for Dexmedetomidine (Precedex)<>Prothrombin time INR pair\n",
      "No Data for Dexmedetomidine (Precedex)<>Prothrombin time INR pair\n",
      "No Data for Dexmedetomidine (Precedex)<>Red blood cell pair\n",
      "No Data for Dexmedetomidine (Precedex)<>Red blood cell pair\n",
      "No Data for Dexmedetomidine (Precedex)<>Uric Acid pair\n",
      "No Data for Dexmedetomidine (Precedex)<>Uric Acid pair\n",
      "No Data for Dexmedetomidine (Precedex)<>Vitamin B12 pair\n",
      "No Data for Dexmedetomidine (Precedex)<>Vitamin B12 pair\n",
      "No Data for Dextran 40<>Calcium pair\n",
      "No Data for Dextran 40<>Calcium pair\n",
      "No Data for Dextran 40<>Calcium ionized pair\n",
      "No Data for Dextran 40<>Calcium ionized pair\n",
      "No Data for Dextran 40<>Creatinine pair\n",
      "No Data for Dextran 40<>Creatinine pair\n",
      "No Data for Dextran 40<>Glucose pair\n",
      "No Data for Dextran 40<>Glucose pair\n",
      "No Data for Dextran 40<>Hematocrit pair\n",
      "No Data for Dextran 40<>Hematocrit pair\n",
      "No Data for Dextran 40<>Hemoglobin pair\n",
      "No Data for Dextran 40<>Hemoglobin pair\n",
      "No Data for Dextran 40<>Lactic acid pair\n",
      "No Data for Dextran 40<>Lactic acid pair\n",
      "No Data for Dextran 40<>Magnesium pair\n",
      "No Data for Dextran 40<>Magnesium pair\n",
      "No Data for Dextran 40<>PTT pair\n",
      "No Data for Dextran 40<>PTT pair\n",
      "No Data for Dextran 40<>Platelets pair\n",
      "No Data for Dextran 40<>Platelets pair\n",
      "No Data for Dextran 40<>Potassium pair\n",
      "No Data for Dextran 40<>Potassium pair\n",
      "No Data for Dextran 40<>Prothrombin time INR pair\n",
      "No Data for Dextran 40<>Prothrombin time INR pair\n",
      "No Data for Dextran 40<>Red blood cell pair\n",
      "No Data for Dextran 40<>Red blood cell pair\n",
      "No Data for Dextran 40<>Sodium pair\n",
      "No Data for Dextran 40<>Sodium pair\n",
      "No Data for Dextrose 10%<>Albumin pair\n",
      "No Data for Dextrose 10%<>Albumin pair\n",
      "No Data for Dextrose 10%<>Amylase pair\n",
      "No Data for Dextrose 10%<>Amylase pair\n",
      "No Data for Dextrose 10%<>Asparate aminotransferase pair\n",
      "No Data for Dextrose 10%<>Asparate aminotransferase pair\n",
      "No Data for Dextrose 10%<>Bilirubin pair\n",
      "No Data for Dextrose 10%<>Bilirubin pair\n",
      "No Data for Dextrose 10%<>Calcium pair\n",
      "No Data for Dextrose 10%<>Calcium pair\n",
      "No Data for Dextrose 10%<>Calcium ionized pair\n",
      "No Data for Dextrose 10%<>Calcium ionized pair\n",
      "No Data for Dextrose 10%<>Creatinine pair\n",
      "No Data for Dextrose 10%<>Creatinine pair\n",
      "No Data for Dextrose 10%<>Hemoglobin pair\n",
      "No Data for Dextrose 10%<>Hemoglobin pair\n",
      "No Data for Dextrose 10%<>Hemoglobin percent pair\n",
      "No Data for Dextrose 10%<>Hemoglobin percent pair\n",
      "No Data for Dextrose 10%<>Lactic acid pair\n",
      "No Data for Dextrose 10%<>Lactic acid pair\n",
      "No Data for Dextrose 10%<>Lipase pair\n",
      "No Data for Dextrose 10%<>Lipase pair\n",
      "No Data for Dextrose 10%<>Magnesium pair\n",
      "No Data for Dextrose 10%<>Magnesium pair\n",
      "No Data for Dextrose 10%<>Magnesium, Urine pair\n",
      "No Data for Dextrose 10%<>Magnesium, Urine pair\n",
      "No Data for Dextrose 10%<>Potassium pair\n",
      "No Data for Dextrose 10%<>Potassium pair\n",
      "No Data for Dextrose 10%<>Prothrombin time INR pair\n",
      "No Data for Dextrose 10%<>Prothrombin time INR pair\n",
      "No Data for Dextrose 10%<>Red blood cell pair\n",
      "No Data for Dextrose 10%<>Red blood cell pair\n",
      "No Data for Dextrose 10%<>Vitamin B12 pair\n",
      "No Data for Dextrose 10%<>Vitamin B12 pair\n",
      "No Data for Dextrose 20%<>Alanine aminotransferase pair\n",
      "No Data for Dextrose 20%<>Alanine aminotransferase pair\n",
      "No Data for Dextrose 20%<>Asparate aminotransferase pair\n",
      "No Data for Dextrose 20%<>Asparate aminotransferase pair\n",
      "No Data for Dextrose 20%<>Bilirubin pair\n",
      "No Data for Dextrose 20%<>Bilirubin pair\n",
      "No Data for Dextrose 20%<>Calcium pair\n",
      "No Data for Dextrose 20%<>Calcium pair\n",
      "No Data for Dextrose 20%<>Calcium ionized pair\n",
      "No Data for Dextrose 20%<>Calcium ionized pair\n",
      "No Data for Dextrose 20%<>Creatinine pair\n",
      "No Data for Dextrose 20%<>Creatinine pair\n",
      "No Data for Dextrose 20%<>Glucose pair\n",
      "No Data for Dextrose 20%<>Glucose pair\n",
      "No Data for Dextrose 20%<>Hematocrit pair\n",
      "No Data for Dextrose 20%<>Hematocrit pair\n",
      "No Data for Dextrose 20%<>Hemoglobin pair\n",
      "No Data for Dextrose 20%<>Hemoglobin pair\n",
      "No Data for Dextrose 20%<>Lactic acid pair\n",
      "No Data for Dextrose 20%<>Lactic acid pair\n",
      "No Data for Dextrose 20%<>Lipase pair\n",
      "No Data for Dextrose 20%<>Lipase pair\n",
      "No Data for Dextrose 20%<>Magnesium pair\n",
      "No Data for Dextrose 20%<>Magnesium pair\n",
      "No Data for Dextrose 20%<>PTT pair\n",
      "No Data for Dextrose 20%<>PTT pair\n",
      "No Data for Dextrose 20%<>Platelets pair\n",
      "No Data for Dextrose 20%<>Platelets pair\n",
      "No Data for Dextrose 20%<>Potassium pair\n",
      "No Data for Dextrose 20%<>Potassium pair\n",
      "No Data for Dextrose 20%<>Prothrombin time INR pair\n",
      "No Data for Dextrose 20%<>Prothrombin time INR pair\n",
      "No Data for Dextrose 20%<>Red blood cell pair\n",
      "No Data for Dextrose 20%<>Red blood cell pair\n",
      "No Data for Dextrose 20%<>Sodium pair\n",
      "No Data for Dextrose 20%<>Sodium pair\n",
      "No Data for Dextrose 5%<>Albumin pair\n",
      "No Data for Dextrose 5%<>Albumin pair\n",
      "No Data for Dextrose 5%<>Calcium pair\n",
      "No Data for Dextrose 5%<>Calcium pair\n",
      "No Data for Dextrose 5%<>Calcium ionized pair\n",
      "No Data for Dextrose 5%<>Calcium ionized pair\n",
      "No Data for Dextrose 5%<>Creatinine pair\n",
      "No Data for Dextrose 5%<>Creatinine pair\n",
      "No Data for Dextrose 5%<>Creatinine ascites pair\n",
      "No Data for Dextrose 5%<>Creatinine ascites pair\n",
      "No Data for Dextrose 5%<>Hemoglobin pair\n",
      "No Data for Dextrose 5%<>Hemoglobin pair\n",
      "No Data for Dextrose 5%<>Hemoglobin percent pair\n",
      "No Data for Dextrose 5%<>Hemoglobin percent pair\n",
      "No Data for Dextrose 5%<>Lactic acid pair\n",
      "No Data for Dextrose 5%<>Lactic acid pair\n",
      "No Data for Dextrose 5%<>Magnesium pair\n",
      "No Data for Dextrose 5%<>Magnesium pair\n",
      "No Data for Dextrose 5%<>Magnesium, Urine pair\n",
      "No Data for Dextrose 5%<>Magnesium, Urine pair\n",
      "No Data for Dextrose 5%<>Potassium pair\n",
      "No Data for Dextrose 5%<>Potassium pair\n",
      "No Data for Dextrose 5%<>Prolactin pair\n",
      "No Data for Dextrose 5%<>Prolactin pair\n",
      "No Data for Dextrose 5%<>Prothrombin time INR pair\n",
      "No Data for Dextrose 5%<>Prothrombin time INR pair\n",
      "No Data for Dextrose 5%<>Red blood cell pair\n",
      "No Data for Dextrose 5%<>Red blood cell pair\n",
      "No Data for Dextrose 5%<>Uric Acid pair\n",
      "No Data for Dextrose 5%<>Uric Acid pair\n",
      "No Data for Dextrose 5%<>Uric Acid, Urine pair\n",
      "No Data for Dextrose 5%<>Uric Acid, Urine pair\n",
      "No Data for Dextrose 5%<>Vitamin B12 pair\n",
      "No Data for Dextrose 5%<>Vitamin B12 pair\n",
      "No Data for Dextrose 50%<>Albumin pair\n",
      "No Data for Dextrose 50%<>Albumin pair\n",
      "No Data for Dextrose 50%<>Bilirubin pair\n",
      "No Data for Dextrose 50%<>Bilirubin pair\n",
      "No Data for Dextrose 50%<>Calcium pair\n",
      "No Data for Dextrose 50%<>Calcium pair\n",
      "No Data for Dextrose 50%<>Calcium ionized pair\n",
      "No Data for Dextrose 50%<>Calcium ionized pair\n",
      "No Data for Dextrose 50%<>Creatinine pair\n",
      "No Data for Dextrose 50%<>Creatinine pair\n",
      "No Data for Dextrose 50%<>Hemoglobin pair\n",
      "No Data for Dextrose 50%<>Hemoglobin pair\n",
      "No Data for Dextrose 50%<>Hemoglobin percent pair\n",
      "No Data for Dextrose 50%<>Hemoglobin percent pair\n",
      "No Data for Dextrose 50%<>Lactic acid pair\n",
      "No Data for Dextrose 50%<>Lactic acid pair\n",
      "No Data for Dextrose 50%<>Magnesium pair\n",
      "No Data for Dextrose 50%<>Magnesium pair\n",
      "No Data for Dextrose 50%<>Magnesium, Urine pair\n",
      "No Data for Dextrose 50%<>Magnesium, Urine pair\n",
      "No Data for Dextrose 50%<>Potassium pair\n",
      "No Data for Dextrose 50%<>Potassium pair\n",
      "No Data for Dextrose 50%<>Prothrombin time INR pair\n",
      "No Data for Dextrose 50%<>Prothrombin time INR pair\n",
      "No Data for Dextrose 50%<>Red blood cell pair\n",
      "No Data for Dextrose 50%<>Red blood cell pair\n",
      "No Data for Dextrose 50%<>Uric Acid pair\n",
      "No Data for Dextrose 50%<>Uric Acid pair\n",
      "No Data for Dextrose 50%<>Uric Acid, Urine pair\n",
      "No Data for Dextrose 50%<>Uric Acid, Urine pair\n",
      "No Data for Dextrose 50%<>Vitamin B12 pair\n",
      "No Data for Dextrose 50%<>Vitamin B12 pair\n",
      "No Data for Dextrose PN<>Alanine aminotransferase pair\n",
      "No Data for Dextrose PN<>Alanine aminotransferase pair\n",
      "No Data for Dextrose PN<>Albumin pair\n",
      "No Data for Dextrose PN<>Albumin pair\n",
      "No Data for Dextrose PN<>Amylase pair\n",
      "No Data for Dextrose PN<>Amylase pair\n",
      "No Data for Dextrose PN<>Asparate aminotransferase pair\n",
      "No Data for Dextrose PN<>Asparate aminotransferase pair\n",
      "No Data for Dextrose PN<>Bilirubin pair\n",
      "No Data for Dextrose PN<>Bilirubin pair\n",
      "No Data for Dextrose PN<>Calcium pair\n",
      "No Data for Dextrose PN<>Calcium pair\n",
      "No Data for Dextrose PN<>Calcium ionized pair\n",
      "No Data for Dextrose PN<>Calcium ionized pair\n",
      "No Data for Dextrose PN<>Creatinine pair\n",
      "No Data for Dextrose PN<>Creatinine pair\n",
      "No Data for Dextrose PN<>Hemoglobin pair\n",
      "No Data for Dextrose PN<>Hemoglobin pair\n",
      "No Data for Dextrose PN<>Lactic acid pair\n",
      "No Data for Dextrose PN<>Lactic acid pair\n",
      "No Data for Dextrose PN<>Lipase pair\n",
      "No Data for Dextrose PN<>Lipase pair\n",
      "No Data for Dextrose PN<>Magnesium pair\n",
      "No Data for Dextrose PN<>Magnesium pair\n",
      "No Data for Dextrose PN<>PTT pair\n",
      "No Data for Dextrose PN<>PTT pair\n",
      "No Data for Dextrose PN<>Platelets pair\n",
      "No Data for Dextrose PN<>Platelets pair\n",
      "No Data for Dextrose PN<>Potassium pair\n",
      "No Data for Dextrose PN<>Potassium pair\n",
      "No Data for Dextrose PN<>Prothrombin time INR pair\n",
      "No Data for Dextrose PN<>Prothrombin time INR pair\n",
      "No Data for Dextrose PN<>Red blood cell pair\n",
      "No Data for Dextrose PN<>Red blood cell pair\n",
      "No Data for Dextrose PN<>Uric Acid pair\n",
      "No Data for Dextrose PN<>Uric Acid pair\n",
      "No Data for Diazepam (Valium)<>Albumin pair\n",
      "No Data for Diazepam (Valium)<>Albumin pair\n",
      "No Data for Diazepam (Valium)<>Amylase pair\n",
      "No Data for Diazepam (Valium)<>Amylase pair\n",
      "No Data for Diazepam (Valium)<>Bilirubin pair\n",
      "No Data for Diazepam (Valium)<>Bilirubin pair\n",
      "No Data for Diazepam (Valium)<>Calcium pair\n",
      "No Data for Diazepam (Valium)<>Calcium pair\n",
      "No Data for Diazepam (Valium)<>Calcium ionized pair\n",
      "No Data for Diazepam (Valium)<>Calcium ionized pair\n",
      "No Data for Diazepam (Valium)<>Creatinine pair\n",
      "No Data for Diazepam (Valium)<>Creatinine pair\n",
      "No Data for Diazepam (Valium)<>Hemoglobin pair\n",
      "No Data for Diazepam (Valium)<>Hemoglobin pair\n",
      "No Data for Diazepam (Valium)<>Lactic acid pair\n",
      "No Data for Diazepam (Valium)<>Lactic acid pair\n",
      "No Data for Diazepam (Valium)<>Magnesium pair\n",
      "No Data for Diazepam (Valium)<>Magnesium pair\n",
      "No Data for Diazepam (Valium)<>Potassium pair\n",
      "No Data for Diazepam (Valium)<>Potassium pair\n",
      "No Data for Diazepam (Valium)<>Prolactin pair\n",
      "No Data for Diazepam (Valium)<>Prolactin pair\n",
      "No Data for Diazepam (Valium)<>Prothrombin time INR pair\n",
      "No Data for Diazepam (Valium)<>Prothrombin time INR pair\n",
      "No Data for Diazepam (Valium)<>Red blood cell pair\n",
      "No Data for Diazepam (Valium)<>Red blood cell pair\n",
      "No Data for Diazepam (Valium)<>Vitamin B12 pair\n",
      "No Data for Diazepam (Valium)<>Vitamin B12 pair\n",
      "No Data for Dilantin<>Albumin pair\n",
      "No Data for Dilantin<>Albumin pair\n",
      "No Data for Dilantin<>Amylase pair\n",
      "No Data for Dilantin<>Amylase pair\n",
      "No Data for Dilantin<>Bilirubin pair\n",
      "No Data for Dilantin<>Bilirubin pair\n",
      "No Data for Dilantin<>Calcium pair\n",
      "No Data for Dilantin<>Calcium pair\n",
      "No Data for Dilantin<>Calcium ionized pair\n",
      "No Data for Dilantin<>Calcium ionized pair\n",
      "No Data for Dilantin<>Creatinine pair\n",
      "No Data for Dilantin<>Creatinine pair\n",
      "No Data for Dilantin<>Hemoglobin pair\n",
      "No Data for Dilantin<>Hemoglobin pair\n",
      "No Data for Dilantin<>Hemoglobin percent pair\n",
      "No Data for Dilantin<>Hemoglobin percent pair\n",
      "No Data for Dilantin<>Lactic acid pair\n",
      "No Data for Dilantin<>Lactic acid pair\n",
      "No Data for Dilantin<>Lipase pair\n",
      "No Data for Dilantin<>Lipase pair\n",
      "No Data for Dilantin<>Magnesium pair\n",
      "No Data for Dilantin<>Magnesium pair\n",
      "No Data for Dilantin<>Potassium pair\n",
      "No Data for Dilantin<>Potassium pair\n",
      "No Data for Dilantin<>Prolactin pair\n",
      "No Data for Dilantin<>Prolactin pair\n",
      "No Data for Dilantin<>Prothrombin time INR pair\n",
      "No Data for Dilantin<>Prothrombin time INR pair\n",
      "No Data for Dilantin<>Red blood cell pair\n",
      "No Data for Dilantin<>Red blood cell pair\n",
      "No Data for Dilantin<>Vitamin B12 pair\n",
      "No Data for Dilantin<>Vitamin B12 pair\n",
      "No Data for Diltiazem<>Albumin pair\n",
      "No Data for Diltiazem<>Albumin pair\n",
      "No Data for Diltiazem<>Amylase pair\n",
      "No Data for Diltiazem<>Amylase pair\n",
      "No Data for Diltiazem<>Bilirubin pair\n",
      "No Data for Diltiazem<>Bilirubin pair\n",
      "No Data for Diltiazem<>Calcium pair\n",
      "No Data for Diltiazem<>Calcium pair\n",
      "No Data for Diltiazem<>Calcium ionized pair\n",
      "No Data for Diltiazem<>Calcium ionized pair\n",
      "No Data for Diltiazem<>Creatinine pair\n",
      "No Data for Diltiazem<>Creatinine pair\n",
      "No Data for Diltiazem<>Creatinine ascites pair\n",
      "No Data for Diltiazem<>Creatinine ascites pair\n",
      "No Data for Diltiazem<>Hemoglobin pair\n",
      "No Data for Diltiazem<>Hemoglobin pair\n",
      "No Data for Diltiazem<>Hemoglobin percent pair\n",
      "No Data for Diltiazem<>Hemoglobin percent pair\n",
      "No Data for Diltiazem<>Lactic acid pair\n",
      "No Data for Diltiazem<>Lactic acid pair\n",
      "No Data for Diltiazem<>Lipase pair\n",
      "No Data for Diltiazem<>Lipase pair\n",
      "No Data for Diltiazem<>Magnesium pair\n",
      "No Data for Diltiazem<>Magnesium pair\n",
      "No Data for Diltiazem<>Potassium pair\n",
      "No Data for Diltiazem<>Potassium pair\n",
      "No Data for Diltiazem<>Prothrombin time INR pair\n",
      "No Data for Diltiazem<>Prothrombin time INR pair\n",
      "No Data for Diltiazem<>Red blood cell pair\n",
      "No Data for Diltiazem<>Red blood cell pair\n",
      "No Data for Diltiazem<>Uric Acid pair\n",
      "No Data for Diltiazem<>Uric Acid pair\n",
      "No Data for Diltiazem<>Vitamin B12 pair\n",
      "No Data for Diltiazem<>Vitamin B12 pair\n",
      "No Data for Dobutamine<>Albumin pair\n",
      "No Data for Dobutamine<>Albumin pair\n",
      "No Data for Dobutamine<>Amylase pair\n",
      "No Data for Dobutamine<>Amylase pair\n",
      "No Data for Dobutamine<>Bilirubin pair\n",
      "No Data for Dobutamine<>Bilirubin pair\n",
      "No Data for Dobutamine<>Calcium pair\n",
      "No Data for Dobutamine<>Calcium pair\n",
      "No Data for Dobutamine<>Calcium ionized pair\n",
      "No Data for Dobutamine<>Calcium ionized pair\n",
      "No Data for Dobutamine<>Creatinine pair\n",
      "No Data for Dobutamine<>Creatinine pair\n",
      "No Data for Dobutamine<>Hemoglobin pair\n",
      "No Data for Dobutamine<>Hemoglobin pair\n",
      "No Data for Dobutamine<>Hemoglobin percent pair\n",
      "No Data for Dobutamine<>Hemoglobin percent pair\n",
      "No Data for Dobutamine<>Lactic acid pair\n",
      "No Data for Dobutamine<>Lactic acid pair\n",
      "No Data for Dobutamine<>Lipase pair\n",
      "No Data for Dobutamine<>Lipase pair\n",
      "No Data for Dobutamine<>Magnesium pair\n",
      "No Data for Dobutamine<>Magnesium pair\n",
      "No Data for Dobutamine<>Potassium pair\n",
      "No Data for Dobutamine<>Potassium pair\n",
      "No Data for Dobutamine<>Prothrombin time INR pair\n",
      "No Data for Dobutamine<>Prothrombin time INR pair\n",
      "No Data for Dobutamine<>Red blood cell pair\n",
      "No Data for Dobutamine<>Red blood cell pair\n",
      "No Data for Dobutamine<>Uric Acid pair\n",
      "No Data for Dobutamine<>Uric Acid pair\n",
      "No Data for Dobutamine<>Uric Acid, Urine pair\n",
      "No Data for Dobutamine<>Uric Acid, Urine pair\n",
      "No Data for Dobutamine<>Vitamin B12 pair\n",
      "No Data for Dobutamine<>Vitamin B12 pair\n",
      "No Data for Dopamine<>Albumin pair\n",
      "No Data for Dopamine<>Albumin pair\n",
      "No Data for Dopamine<>Bilirubin pair\n",
      "No Data for Dopamine<>Bilirubin pair\n",
      "No Data for Dopamine<>Calcium pair\n",
      "No Data for Dopamine<>Calcium pair\n",
      "No Data for Dopamine<>Calcium ionized pair\n",
      "No Data for Dopamine<>Calcium ionized pair\n",
      "No Data for Dopamine<>Creatinine pair\n",
      "No Data for Dopamine<>Creatinine pair\n",
      "No Data for Dopamine<>Hemoglobin pair\n",
      "No Data for Dopamine<>Hemoglobin pair\n",
      "No Data for Dopamine<>Hemoglobin percent pair\n",
      "No Data for Dopamine<>Hemoglobin percent pair\n",
      "No Data for Dopamine<>Lactic acid pair\n",
      "No Data for Dopamine<>Lactic acid pair\n",
      "No Data for Dopamine<>Lipase pair\n",
      "No Data for Dopamine<>Lipase pair\n",
      "No Data for Dopamine<>Magnesium pair\n",
      "No Data for Dopamine<>Magnesium pair\n",
      "No Data for Dopamine<>Potassium pair\n",
      "No Data for Dopamine<>Potassium pair\n",
      "No Data for Dopamine<>Prothrombin time INR pair\n",
      "No Data for Dopamine<>Prothrombin time INR pair\n",
      "No Data for Dopamine<>Red blood cell pair\n",
      "No Data for Dopamine<>Red blood cell pair\n",
      "No Data for Dopamine<>Uric Acid pair\n",
      "No Data for Dopamine<>Uric Acid pair\n",
      "No Data for Dopamine<>Uric Acid, Urine pair\n",
      "No Data for Dopamine<>Uric Acid, Urine pair\n",
      "No Data for Dopamine<>Vitamin B12 pair\n",
      "No Data for Dopamine<>Vitamin B12 pair\n",
      "No Data for Doxycycline<>Albumin pair\n",
      "No Data for Doxycycline<>Albumin pair\n",
      "No Data for Doxycycline<>Amylase pair\n",
      "No Data for Doxycycline<>Amylase pair\n",
      "No Data for Doxycycline<>Bilirubin pair\n",
      "No Data for Doxycycline<>Bilirubin pair\n",
      "No Data for Doxycycline<>Calcium pair\n",
      "No Data for Doxycycline<>Calcium pair\n",
      "No Data for Doxycycline<>Calcium ionized pair\n",
      "No Data for Doxycycline<>Calcium ionized pair\n",
      "No Data for Doxycycline<>Creatinine pair\n",
      "No Data for Doxycycline<>Creatinine pair\n",
      "No Data for Doxycycline<>Hemoglobin pair\n",
      "No Data for Doxycycline<>Hemoglobin pair\n",
      "No Data for Doxycycline<>Lactic acid pair\n",
      "No Data for Doxycycline<>Lactic acid pair\n",
      "No Data for Doxycycline<>Lipase pair\n",
      "No Data for Doxycycline<>Lipase pair\n",
      "No Data for Doxycycline<>Magnesium pair\n",
      "No Data for Doxycycline<>Magnesium pair\n",
      "No Data for Doxycycline<>Potassium pair\n",
      "No Data for Doxycycline<>Potassium pair\n",
      "No Data for Doxycycline<>Prothrombin time INR pair\n",
      "No Data for Doxycycline<>Prothrombin time INR pair\n",
      "No Data for Doxycycline<>Red blood cell pair\n",
      "No Data for Doxycycline<>Red blood cell pair\n",
      "No Data for Doxycycline<>Uric Acid pair\n",
      "No Data for Doxycycline<>Uric Acid pair\n",
      "No Data for Drotrecogin (Xigris)<>Alanine aminotransferase pair\n",
      "No Data for Drotrecogin (Xigris)<>Alanine aminotransferase pair\n",
      "No Data for Drotrecogin (Xigris)<>Albumin pair\n",
      "No Data for Drotrecogin (Xigris)<>Albumin pair\n",
      "No Data for Drotrecogin (Xigris)<>Asparate aminotransferase pair\n",
      "No Data for Drotrecogin (Xigris)<>Asparate aminotransferase pair\n",
      "No Data for Drotrecogin (Xigris)<>Bilirubin pair\n",
      "No Data for Drotrecogin (Xigris)<>Bilirubin pair\n",
      "No Data for Drotrecogin (Xigris)<>Calcium pair\n",
      "No Data for Drotrecogin (Xigris)<>Calcium pair\n",
      "No Data for Drotrecogin (Xigris)<>Calcium ionized pair\n",
      "No Data for Drotrecogin (Xigris)<>Calcium ionized pair\n",
      "No Data for Drotrecogin (Xigris)<>Creatinine pair\n",
      "No Data for Drotrecogin (Xigris)<>Creatinine pair\n",
      "No Data for Drotrecogin (Xigris)<>Glucose pair\n",
      "No Data for Drotrecogin (Xigris)<>Glucose pair\n",
      "No Data for Drotrecogin (Xigris)<>Hematocrit pair\n",
      "No Data for Drotrecogin (Xigris)<>Hematocrit pair\n",
      "No Data for Drotrecogin (Xigris)<>Hemoglobin pair\n",
      "No Data for Drotrecogin (Xigris)<>Hemoglobin pair\n",
      "No Data for Drotrecogin (Xigris)<>Lactic acid pair\n",
      "No Data for Drotrecogin (Xigris)<>Lactic acid pair\n",
      "No Data for Drotrecogin (Xigris)<>Lipase pair\n",
      "No Data for Drotrecogin (Xigris)<>Lipase pair\n",
      "No Data for Drotrecogin (Xigris)<>Magnesium pair\n",
      "No Data for Drotrecogin (Xigris)<>Magnesium pair\n",
      "No Data for Drotrecogin (Xigris)<>PTT pair\n",
      "No Data for Drotrecogin (Xigris)<>PTT pair\n",
      "No Data for Drotrecogin (Xigris)<>Platelets pair\n",
      "No Data for Drotrecogin (Xigris)<>Platelets pair\n",
      "No Data for Drotrecogin (Xigris)<>Potassium pair\n",
      "No Data for Drotrecogin (Xigris)<>Potassium pair\n",
      "No Data for Drotrecogin (Xigris)<>Prothrombin time INR pair\n",
      "No Data for Drotrecogin (Xigris)<>Prothrombin time INR pair\n",
      "No Data for Drotrecogin (Xigris)<>Red blood cell pair\n",
      "No Data for Drotrecogin (Xigris)<>Red blood cell pair\n",
      "No Data for Drotrecogin (Xigris)<>Sodium pair\n",
      "No Data for Drotrecogin (Xigris)<>Sodium pair\n",
      "No Data for Drotrecogin (Xigris)<>Uric Acid pair\n",
      "No Data for Drotrecogin (Xigris)<>Uric Acid pair\n",
      "No Data for Enoxaparin (Lovenox)<>Albumin pair\n",
      "No Data for Enoxaparin (Lovenox)<>Albumin pair\n",
      "No Data for Enoxaparin (Lovenox)<>Amylase pair\n",
      "No Data for Enoxaparin (Lovenox)<>Amylase pair\n",
      "No Data for Enoxaparin (Lovenox)<>Bilirubin pair\n",
      "No Data for Enoxaparin (Lovenox)<>Bilirubin pair\n",
      "No Data for Enoxaparin (Lovenox)<>Calcium pair\n",
      "No Data for Enoxaparin (Lovenox)<>Calcium pair\n",
      "No Data for Enoxaparin (Lovenox)<>Calcium ionized pair\n",
      "No Data for Enoxaparin (Lovenox)<>Calcium ionized pair\n",
      "No Data for Enoxaparin (Lovenox)<>Creatinine pair\n",
      "No Data for Enoxaparin (Lovenox)<>Creatinine pair\n",
      "No Data for Enoxaparin (Lovenox)<>Hemoglobin pair\n",
      "No Data for Enoxaparin (Lovenox)<>Hemoglobin pair\n",
      "No Data for Enoxaparin (Lovenox)<>Hemoglobin percent pair\n",
      "No Data for Enoxaparin (Lovenox)<>Hemoglobin percent pair\n",
      "No Data for Enoxaparin (Lovenox)<>Lactic acid pair\n",
      "No Data for Enoxaparin (Lovenox)<>Lactic acid pair\n",
      "No Data for Enoxaparin (Lovenox)<>Lipase pair\n",
      "No Data for Enoxaparin (Lovenox)<>Lipase pair\n",
      "No Data for Enoxaparin (Lovenox)<>Magnesium pair\n",
      "No Data for Enoxaparin (Lovenox)<>Magnesium pair\n",
      "No Data for Enoxaparin (Lovenox)<>Potassium pair\n",
      "No Data for Enoxaparin (Lovenox)<>Potassium pair\n",
      "No Data for Enoxaparin (Lovenox)<>Prothrombin time INR pair\n",
      "No Data for Enoxaparin (Lovenox)<>Prothrombin time INR pair\n",
      "No Data for Enoxaparin (Lovenox)<>Red blood cell pair\n",
      "No Data for Enoxaparin (Lovenox)<>Red blood cell pair\n",
      "No Data for Enoxaparin (Lovenox)<>Uric Acid pair\n",
      "No Data for Enoxaparin (Lovenox)<>Uric Acid pair\n",
      "No Data for Enoxaparin (Lovenox)<>Vitamin B12 pair\n",
      "No Data for Enoxaparin (Lovenox)<>Vitamin B12 pair\n",
      "No Data for Ensure (3/4)<>Calcium pair\n",
      "No Data for Ensure (3/4)<>Calcium pair\n",
      "No Data for Ensure (3/4)<>Creatinine pair\n",
      "No Data for Ensure (3/4)<>Creatinine pair\n",
      "No Data for Ensure (3/4)<>Glucose pair\n",
      "No Data for Ensure (3/4)<>Glucose pair\n",
      "No Data for Ensure (3/4)<>Hematocrit pair\n",
      "No Data for Ensure (3/4)<>Hematocrit pair\n",
      "No Data for Ensure (3/4)<>Hemoglobin pair\n",
      "No Data for Ensure (3/4)<>Hemoglobin pair\n",
      "No Data for Ensure (3/4)<>Magnesium pair\n",
      "No Data for Ensure (3/4)<>Magnesium pair\n",
      "No Data for Ensure (3/4)<>Platelets pair\n",
      "No Data for Ensure (3/4)<>Platelets pair\n",
      "No Data for Ensure (3/4)<>Potassium pair\n",
      "No Data for Ensure (3/4)<>Potassium pair\n",
      "No Data for Ensure (3/4)<>Red blood cell pair\n",
      "No Data for Ensure (3/4)<>Red blood cell pair\n",
      "No Data for Ensure (3/4)<>Sodium pair\n",
      "No Data for Ensure (3/4)<>Sodium pair\n",
      "No Data for Ensure (Full)<>Alanine aminotransferase pair\n",
      "No Data for Ensure (Full)<>Alanine aminotransferase pair\n",
      "No Data for Ensure (Full)<>Albumin pair\n",
      "No Data for Ensure (Full)<>Albumin pair\n",
      "No Data for Ensure (Full)<>Amylase pair\n",
      "No Data for Ensure (Full)<>Amylase pair\n",
      "No Data for Ensure (Full)<>Asparate aminotransferase pair\n",
      "No Data for Ensure (Full)<>Asparate aminotransferase pair\n",
      "No Data for Ensure (Full)<>Bilirubin pair\n",
      "No Data for Ensure (Full)<>Bilirubin pair\n",
      "No Data for Ensure (Full)<>Calcium pair\n",
      "No Data for Ensure (Full)<>Calcium pair\n",
      "No Data for Ensure (Full)<>Calcium ionized pair\n",
      "No Data for Ensure (Full)<>Calcium ionized pair\n",
      "No Data for Ensure (Full)<>Creatinine pair\n",
      "No Data for Ensure (Full)<>Creatinine pair\n",
      "No Data for Ensure (Full)<>Hematocrit pair\n",
      "No Data for Ensure (Full)<>Hematocrit pair\n",
      "No Data for Ensure (Full)<>Hemoglobin pair\n",
      "No Data for Ensure (Full)<>Hemoglobin pair\n",
      "No Data for Ensure (Full)<>Lactic acid pair\n",
      "No Data for Ensure (Full)<>Lactic acid pair\n",
      "No Data for Ensure (Full)<>Lipase pair\n",
      "No Data for Ensure (Full)<>Lipase pair\n",
      "No Data for Ensure (Full)<>Magnesium pair\n",
      "No Data for Ensure (Full)<>Magnesium pair\n",
      "No Data for Ensure (Full)<>PTT pair\n",
      "No Data for Ensure (Full)<>PTT pair\n",
      "No Data for Ensure (Full)<>Platelets pair\n",
      "No Data for Ensure (Full)<>Platelets pair\n",
      "No Data for Ensure (Full)<>Potassium pair\n",
      "No Data for Ensure (Full)<>Potassium pair\n",
      "No Data for Ensure (Full)<>Prothrombin time INR pair\n",
      "No Data for Ensure (Full)<>Prothrombin time INR pair\n",
      "No Data for Ensure (Full)<>Red blood cell pair\n",
      "No Data for Ensure (Full)<>Red blood cell pair\n",
      "No Data for Ensure (Full)<>Vitamin B12 pair\n",
      "No Data for Ensure (Full)<>Vitamin B12 pair\n",
      "No Data for Ensure Plus (Full)<>Alanine aminotransferase pair\n",
      "No Data for Ensure Plus (Full)<>Alanine aminotransferase pair\n",
      "No Data for Ensure Plus (Full)<>Albumin pair\n",
      "No Data for Ensure Plus (Full)<>Albumin pair\n",
      "No Data for Ensure Plus (Full)<>Amylase pair\n",
      "No Data for Ensure Plus (Full)<>Amylase pair\n",
      "No Data for Ensure Plus (Full)<>Asparate aminotransferase pair\n",
      "No Data for Ensure Plus (Full)<>Asparate aminotransferase pair\n",
      "No Data for Ensure Plus (Full)<>Bilirubin pair\n",
      "No Data for Ensure Plus (Full)<>Bilirubin pair\n",
      "No Data for Ensure Plus (Full)<>Calcium pair\n",
      "No Data for Ensure Plus (Full)<>Calcium pair\n",
      "No Data for Ensure Plus (Full)<>Creatinine pair\n",
      "No Data for Ensure Plus (Full)<>Creatinine pair\n",
      "No Data for Ensure Plus (Full)<>Hematocrit pair\n",
      "No Data for Ensure Plus (Full)<>Hematocrit pair\n",
      "No Data for Ensure Plus (Full)<>Hemoglobin pair\n",
      "No Data for Ensure Plus (Full)<>Hemoglobin pair\n",
      "No Data for Ensure Plus (Full)<>Lipase pair\n",
      "No Data for Ensure Plus (Full)<>Lipase pair\n",
      "No Data for Ensure Plus (Full)<>Magnesium pair\n",
      "No Data for Ensure Plus (Full)<>Magnesium pair\n",
      "No Data for Ensure Plus (Full)<>PTT pair\n",
      "No Data for Ensure Plus (Full)<>PTT pair\n",
      "No Data for Ensure Plus (Full)<>Platelets pair\n",
      "No Data for Ensure Plus (Full)<>Platelets pair\n",
      "No Data for Ensure Plus (Full)<>Potassium pair\n",
      "No Data for Ensure Plus (Full)<>Potassium pair\n",
      "No Data for Ensure Plus (Full)<>Prothrombin time INR pair\n",
      "No Data for Ensure Plus (Full)<>Prothrombin time INR pair\n",
      "No Data for Ensure Plus (Full)<>Red blood cell pair\n",
      "No Data for Ensure Plus (Full)<>Red blood cell pair\n",
      "No Data for Ensure Plus (Full)<>Sodium pair\n",
      "No Data for Ensure Plus (Full)<>Sodium pair\n",
      "No Data for Epinephrine<>Alanine aminotransferase pair\n",
      "No Data for Epinephrine<>Alanine aminotransferase pair\n",
      "No Data for Epinephrine<>Albumin pair\n",
      "No Data for Epinephrine<>Albumin pair\n",
      "No Data for Epinephrine<>Amylase pair\n",
      "No Data for Epinephrine<>Amylase pair\n",
      "No Data for Epinephrine<>Asparate aminotransferase pair\n",
      "No Data for Epinephrine<>Asparate aminotransferase pair\n",
      "No Data for Epinephrine<>Bilirubin pair\n",
      "No Data for Epinephrine<>Bilirubin pair\n",
      "No Data for Epinephrine<>Calcium pair\n",
      "No Data for Epinephrine<>Calcium pair\n",
      "No Data for Epinephrine<>Calcium ionized pair\n",
      "No Data for Epinephrine<>Calcium ionized pair\n",
      "No Data for Epinephrine<>Creatinine pair\n",
      "No Data for Epinephrine<>Creatinine pair\n",
      "No Data for Epinephrine<>Hemoglobin pair\n",
      "No Data for Epinephrine<>Hemoglobin pair\n",
      "No Data for Epinephrine<>Hemoglobin percent pair\n",
      "No Data for Epinephrine<>Hemoglobin percent pair\n",
      "No Data for Epinephrine<>Lactic acid pair\n",
      "No Data for Epinephrine<>Lactic acid pair\n",
      "No Data for Epinephrine<>Lipase pair\n",
      "No Data for Epinephrine<>Lipase pair\n",
      "No Data for Epinephrine<>Magnesium pair\n",
      "No Data for Epinephrine<>Magnesium pair\n",
      "No Data for Epinephrine<>Potassium pair\n",
      "No Data for Epinephrine<>Potassium pair\n",
      "No Data for Epinephrine<>Prothrombin time INR pair\n",
      "No Data for Epinephrine<>Prothrombin time INR pair\n",
      "No Data for Epinephrine<>Red blood cell pair\n",
      "No Data for Epinephrine<>Red blood cell pair\n",
      "No Data for Epinephrine<>Uric Acid pair\n",
      "No Data for Epinephrine<>Uric Acid pair\n",
      "No Data for Epinephrine<>Uric Acid, Urine pair\n",
      "No Data for Epinephrine<>Uric Acid, Urine pair\n",
      "No Data for Epinephrine<>Vitamin B12 pair\n",
      "No Data for Epinephrine<>Vitamin B12 pair\n",
      "No Data for Eptifibatide (Integrilin)<>Alanine aminotransferase pair\n",
      "No Data for Eptifibatide (Integrilin)<>Alanine aminotransferase pair\n",
      "No Data for Eptifibatide (Integrilin)<>Albumin pair\n",
      "No Data for Eptifibatide (Integrilin)<>Albumin pair\n",
      "No Data for Eptifibatide (Integrilin)<>Amylase pair\n",
      "No Data for Eptifibatide (Integrilin)<>Amylase pair\n",
      "No Data for Eptifibatide (Integrilin)<>Asparate aminotransferase pair\n",
      "No Data for Eptifibatide (Integrilin)<>Asparate aminotransferase pair\n",
      "No Data for Eptifibatide (Integrilin)<>Bilirubin pair\n",
      "No Data for Eptifibatide (Integrilin)<>Bilirubin pair\n",
      "No Data for Eptifibatide (Integrilin)<>Calcium pair\n",
      "No Data for Eptifibatide (Integrilin)<>Calcium pair\n",
      "No Data for Eptifibatide (Integrilin)<>Calcium ionized pair\n",
      "No Data for Eptifibatide (Integrilin)<>Calcium ionized pair\n",
      "No Data for Eptifibatide (Integrilin)<>Creatinine pair\n",
      "No Data for Eptifibatide (Integrilin)<>Creatinine pair\n",
      "No Data for Eptifibatide (Integrilin)<>Hemoglobin pair\n",
      "No Data for Eptifibatide (Integrilin)<>Hemoglobin pair\n",
      "No Data for Eptifibatide (Integrilin)<>Hemoglobin percent pair\n",
      "No Data for Eptifibatide (Integrilin)<>Hemoglobin percent pair\n",
      "No Data for Eptifibatide (Integrilin)<>Lactic acid pair\n",
      "No Data for Eptifibatide (Integrilin)<>Lactic acid pair\n",
      "No Data for Eptifibatide (Integrilin)<>Lipase pair\n",
      "No Data for Eptifibatide (Integrilin)<>Lipase pair\n",
      "No Data for Eptifibatide (Integrilin)<>Magnesium pair\n",
      "No Data for Eptifibatide (Integrilin)<>Magnesium pair\n",
      "No Data for Eptifibatide (Integrilin)<>Potassium pair\n",
      "No Data for Eptifibatide (Integrilin)<>Potassium pair\n",
      "No Data for Eptifibatide (Integrilin)<>Prothrombin time INR pair\n",
      "No Data for Eptifibatide (Integrilin)<>Prothrombin time INR pair\n",
      "No Data for Eptifibatide (Integrilin)<>Red blood cell pair\n",
      "No Data for Eptifibatide (Integrilin)<>Red blood cell pair\n",
      "No Data for Eptifibatide (Integrilin)<>Vitamin B12 pair\n",
      "No Data for Eptifibatide (Integrilin)<>Vitamin B12 pair\n",
      "No Data for Erythromycin<>Alanine aminotransferase pair\n",
      "No Data for Erythromycin<>Alanine aminotransferase pair\n",
      "No Data for Erythromycin<>Albumin pair\n",
      "No Data for Erythromycin<>Albumin pair\n",
      "No Data for Erythromycin<>Amylase pair\n",
      "No Data for Erythromycin<>Amylase pair\n",
      "No Data for Erythromycin<>Bilirubin pair\n",
      "No Data for Erythromycin<>Bilirubin pair\n",
      "No Data for Erythromycin<>Calcium pair\n",
      "No Data for Erythromycin<>Calcium pair\n",
      "No Data for Erythromycin<>Calcium ionized pair\n",
      "No Data for Erythromycin<>Calcium ionized pair\n",
      "No Data for Erythromycin<>Creatinine pair\n",
      "No Data for Erythromycin<>Creatinine pair\n",
      "No Data for Erythromycin<>Hemoglobin pair\n",
      "No Data for Erythromycin<>Hemoglobin pair\n",
      "No Data for Erythromycin<>Hemoglobin percent pair\n",
      "No Data for Erythromycin<>Hemoglobin percent pair\n",
      "No Data for Erythromycin<>Lactic acid pair\n",
      "No Data for Erythromycin<>Lactic acid pair\n",
      "No Data for Erythromycin<>Lipase pair\n",
      "No Data for Erythromycin<>Lipase pair\n",
      "No Data for Erythromycin<>Magnesium pair\n",
      "No Data for Erythromycin<>Magnesium pair\n",
      "No Data for Erythromycin<>Potassium pair\n",
      "No Data for Erythromycin<>Potassium pair\n",
      "No Data for Erythromycin<>Prolactin pair\n",
      "No Data for Erythromycin<>Prolactin pair\n",
      "No Data for Erythromycin<>Prothrombin time INR pair\n",
      "No Data for Erythromycin<>Prothrombin time INR pair\n",
      "No Data for Erythromycin<>Red blood cell pair\n",
      "No Data for Erythromycin<>Red blood cell pair\n",
      "No Data for Erythromycin<>Vitamin B12 pair\n",
      "No Data for Erythromycin<>Vitamin B12 pair\n",
      "No Data for Esmolol<>Alanine aminotransferase pair\n",
      "No Data for Esmolol<>Alanine aminotransferase pair\n",
      "No Data for Esmolol<>Albumin pair\n",
      "No Data for Esmolol<>Albumin pair\n",
      "No Data for Esmolol<>Amylase pair\n",
      "No Data for Esmolol<>Amylase pair\n",
      "No Data for Esmolol<>Asparate aminotransferase pair\n",
      "No Data for Esmolol<>Asparate aminotransferase pair\n",
      "No Data for Esmolol<>Bilirubin pair\n",
      "No Data for Esmolol<>Bilirubin pair\n",
      "No Data for Esmolol<>Calcium pair\n",
      "No Data for Esmolol<>Calcium pair\n",
      "No Data for Esmolol<>Calcium ionized pair\n",
      "No Data for Esmolol<>Calcium ionized pair\n",
      "No Data for Esmolol<>Creatinine pair\n",
      "No Data for Esmolol<>Creatinine pair\n",
      "No Data for Esmolol<>Hemoglobin pair\n",
      "No Data for Esmolol<>Hemoglobin pair\n",
      "No Data for Esmolol<>Hemoglobin percent pair\n",
      "No Data for Esmolol<>Hemoglobin percent pair\n",
      "No Data for Esmolol<>Lactic acid pair\n",
      "No Data for Esmolol<>Lactic acid pair\n",
      "No Data for Esmolol<>Lipase pair\n",
      "No Data for Esmolol<>Lipase pair\n",
      "No Data for Esmolol<>Magnesium pair\n",
      "No Data for Esmolol<>Magnesium pair\n",
      "No Data for Esmolol<>Potassium pair\n",
      "No Data for Esmolol<>Potassium pair\n",
      "No Data for Esmolol<>Prothrombin time INR pair\n",
      "No Data for Esmolol<>Prothrombin time INR pair\n",
      "No Data for Esmolol<>Red blood cell pair\n",
      "No Data for Esmolol<>Red blood cell pair\n",
      "No Data for Esmolol<>Uric Acid pair\n",
      "No Data for Esmolol<>Uric Acid pair\n",
      "No Data for Esmolol<>Vitamin B12 pair\n",
      "No Data for Esmolol<>Vitamin B12 pair\n",
      "No Data for Ethambutol<>Calcium pair\n",
      "No Data for Ethambutol<>Calcium pair\n",
      "No Data for Ethambutol<>Creatinine pair\n",
      "No Data for Ethambutol<>Creatinine pair\n",
      "No Data for Ethambutol<>Glucose pair\n",
      "No Data for Ethambutol<>Glucose pair\n",
      "No Data for Ethambutol<>Hematocrit pair\n",
      "No Data for Ethambutol<>Hematocrit pair\n",
      "No Data for Ethambutol<>Hemoglobin pair\n",
      "No Data for Ethambutol<>Hemoglobin pair\n",
      "No Data for Ethambutol<>Magnesium pair\n",
      "No Data for Ethambutol<>Magnesium pair\n",
      "No Data for Ethambutol<>PTT pair\n",
      "No Data for Ethambutol<>PTT pair\n",
      "No Data for Ethambutol<>Platelets pair\n",
      "No Data for Ethambutol<>Platelets pair\n",
      "No Data for Ethambutol<>Potassium pair\n",
      "No Data for Ethambutol<>Potassium pair\n",
      "No Data for Ethambutol<>Prothrombin time INR pair\n",
      "No Data for Ethambutol<>Prothrombin time INR pair\n",
      "No Data for Ethambutol<>Red blood cell pair\n",
      "No Data for Ethambutol<>Red blood cell pair\n",
      "No Data for Ethambutol<>Sodium pair\n",
      "No Data for Ethambutol<>Sodium pair\n",
      "No Data for Factor VIII<>Alanine aminotransferase pair\n",
      "No Data for Factor VIII<>Alanine aminotransferase pair\n",
      "No Data for Factor VIII<>Albumin pair\n",
      "No Data for Factor VIII<>Albumin pair\n",
      "No Data for Factor VIII<>Amylase pair\n",
      "No Data for Factor VIII<>Amylase pair\n",
      "No Data for Factor VIII<>Asparate aminotransferase pair\n",
      "No Data for Factor VIII<>Asparate aminotransferase pair\n",
      "No Data for Factor VIII<>Bilirubin pair\n",
      "No Data for Factor VIII<>Bilirubin pair\n",
      "No Data for Factor VIII<>Calcium pair\n",
      "No Data for Factor VIII<>Calcium pair\n",
      "No Data for Factor VIII<>Calcium ionized pair\n",
      "No Data for Factor VIII<>Calcium ionized pair\n",
      "No Data for Factor VIII<>Creatinine pair\n",
      "No Data for Factor VIII<>Creatinine pair\n",
      "No Data for Factor VIII<>Glucose pair\n",
      "No Data for Factor VIII<>Glucose pair\n",
      "No Data for Factor VIII<>Hematocrit pair\n",
      "No Data for Factor VIII<>Hematocrit pair\n",
      "No Data for Factor VIII<>Hemoglobin pair\n",
      "No Data for Factor VIII<>Hemoglobin pair\n",
      "No Data for Factor VIII<>Lactic acid pair\n",
      "No Data for Factor VIII<>Lactic acid pair\n",
      "No Data for Factor VIII<>Magnesium pair\n",
      "No Data for Factor VIII<>Magnesium pair\n",
      "No Data for Factor VIII<>PTT pair\n",
      "No Data for Factor VIII<>PTT pair\n",
      "No Data for Factor VIII<>Platelets pair\n",
      "No Data for Factor VIII<>Platelets pair\n",
      "No Data for Factor VIII<>Potassium pair\n",
      "No Data for Factor VIII<>Potassium pair\n",
      "No Data for Factor VIII<>Prothrombin time INR pair\n",
      "No Data for Factor VIII<>Prothrombin time INR pair\n",
      "No Data for Factor VIII<>Red blood cell pair\n",
      "No Data for Factor VIII<>Red blood cell pair\n",
      "No Data for Factor VIII<>Sodium pair\n",
      "No Data for Factor VIII<>Sodium pair\n",
      "No Data for Factor VIIa<>Albumin pair\n",
      "No Data for Factor VIIa<>Albumin pair\n",
      "No Data for Factor VIIa<>Amylase pair\n",
      "No Data for Factor VIIa<>Amylase pair\n",
      "No Data for Factor VIIa<>Bilirubin pair\n",
      "No Data for Factor VIIa<>Bilirubin pair\n",
      "No Data for Factor VIIa<>Calcium pair\n",
      "No Data for Factor VIIa<>Calcium pair\n",
      "No Data for Factor VIIa<>Calcium ionized pair\n",
      "No Data for Factor VIIa<>Calcium ionized pair\n",
      "No Data for Factor VIIa<>Creatinine pair\n",
      "No Data for Factor VIIa<>Creatinine pair\n",
      "No Data for Factor VIIa<>Hemoglobin pair\n",
      "No Data for Factor VIIa<>Hemoglobin pair\n",
      "No Data for Factor VIIa<>Hemoglobin percent pair\n",
      "No Data for Factor VIIa<>Hemoglobin percent pair\n",
      "No Data for Factor VIIa<>Lactic acid pair\n",
      "No Data for Factor VIIa<>Lactic acid pair\n",
      "No Data for Factor VIIa<>Lipase pair\n",
      "No Data for Factor VIIa<>Lipase pair\n",
      "No Data for Factor VIIa<>Magnesium pair\n",
      "No Data for Factor VIIa<>Magnesium pair\n",
      "No Data for Factor VIIa<>Potassium pair\n",
      "No Data for Factor VIIa<>Potassium pair\n",
      "No Data for Factor VIIa<>Prothrombin time INR pair\n",
      "No Data for Factor VIIa<>Prothrombin time INR pair\n",
      "No Data for Factor VIIa<>Red blood cell pair\n",
      "No Data for Factor VIIa<>Red blood cell pair\n",
      "No Data for Famotidine (Pepcid)<>Albumin pair\n",
      "No Data for Famotidine (Pepcid)<>Albumin pair\n",
      "No Data for Famotidine (Pepcid)<>Bilirubin pair\n",
      "No Data for Famotidine (Pepcid)<>Bilirubin pair\n",
      "No Data for Famotidine (Pepcid)<>Calcium pair\n",
      "No Data for Famotidine (Pepcid)<>Calcium pair\n",
      "No Data for Famotidine (Pepcid)<>Calcium ionized pair\n",
      "No Data for Famotidine (Pepcid)<>Calcium ionized pair\n",
      "No Data for Famotidine (Pepcid)<>Creatinine pair\n",
      "No Data for Famotidine (Pepcid)<>Creatinine pair\n",
      "No Data for Famotidine (Pepcid)<>Creatinine ascites pair\n",
      "No Data for Famotidine (Pepcid)<>Creatinine ascites pair\n",
      "No Data for Famotidine (Pepcid)<>Hemoglobin pair\n",
      "No Data for Famotidine (Pepcid)<>Hemoglobin pair\n",
      "No Data for Famotidine (Pepcid)<>Hemoglobin A2 pair\n",
      "No Data for Famotidine (Pepcid)<>Hemoglobin A2 pair\n",
      "No Data for Famotidine (Pepcid)<>Hemoglobin C pair\n",
      "No Data for Famotidine (Pepcid)<>Hemoglobin C pair\n",
      "No Data for Famotidine (Pepcid)<>Hemoglobin percent pair\n",
      "No Data for Famotidine (Pepcid)<>Hemoglobin percent pair\n",
      "No Data for Famotidine (Pepcid)<>Lactic acid pair\n",
      "No Data for Famotidine (Pepcid)<>Lactic acid pair\n",
      "No Data for Famotidine (Pepcid)<>Magnesium pair\n",
      "No Data for Famotidine (Pepcid)<>Magnesium pair\n",
      "No Data for Famotidine (Pepcid)<>Magnesium, Urine pair\n",
      "No Data for Famotidine (Pepcid)<>Magnesium, Urine pair\n",
      "No Data for Famotidine (Pepcid)<>Potassium pair\n",
      "No Data for Famotidine (Pepcid)<>Potassium pair\n",
      "No Data for Famotidine (Pepcid)<>Prothrombin time INR pair\n",
      "No Data for Famotidine (Pepcid)<>Prothrombin time INR pair\n",
      "No Data for Famotidine (Pepcid)<>Red blood cell pair\n",
      "No Data for Famotidine (Pepcid)<>Red blood cell pair\n",
      "No Data for Famotidine (Pepcid)<>Uric Acid pair\n",
      "No Data for Famotidine (Pepcid)<>Uric Acid pair\n",
      "No Data for Famotidine (Pepcid)<>Uric Acid, Urine pair\n",
      "No Data for Famotidine (Pepcid)<>Uric Acid, Urine pair\n",
      "No Data for Famotidine (Pepcid)<>Vitamin B12 pair\n",
      "No Data for Famotidine (Pepcid)<>Vitamin B12 pair\n",
      "No Data for Fentanyl<>Albumin pair\n",
      "No Data for Fentanyl<>Albumin pair\n",
      "No Data for Fentanyl<>Bilirubin pair\n",
      "No Data for Fentanyl<>Bilirubin pair\n",
      "No Data for Fentanyl<>Calcium pair\n",
      "No Data for Fentanyl<>Calcium pair\n",
      "No Data for Fentanyl<>Calcium ionized pair\n",
      "No Data for Fentanyl<>Calcium ionized pair\n",
      "No Data for Fentanyl<>Creatinine pair\n",
      "No Data for Fentanyl<>Creatinine pair\n",
      "No Data for Fentanyl<>Hemoglobin pair\n",
      "No Data for Fentanyl<>Hemoglobin pair\n",
      "No Data for Fentanyl<>Hemoglobin A2 pair\n",
      "No Data for Fentanyl<>Hemoglobin A2 pair\n",
      "No Data for Fentanyl<>Hemoglobin C pair\n",
      "No Data for Fentanyl<>Hemoglobin C pair\n",
      "No Data for Fentanyl<>Hemoglobin F pair\n",
      "No Data for Fentanyl<>Hemoglobin F pair\n",
      "No Data for Fentanyl<>Hemoglobin percent pair\n",
      "No Data for Fentanyl<>Hemoglobin percent pair\n",
      "No Data for Fentanyl<>Lactic acid pair\n",
      "No Data for Fentanyl<>Lactic acid pair\n",
      "No Data for Fentanyl<>Magnesium pair\n",
      "No Data for Fentanyl<>Magnesium pair\n",
      "No Data for Fentanyl<>Magnesium, Urine pair\n",
      "No Data for Fentanyl<>Magnesium, Urine pair\n",
      "No Data for Fentanyl<>Potassium pair\n",
      "No Data for Fentanyl<>Potassium pair\n",
      "No Data for Fentanyl<>Prolactin pair\n",
      "No Data for Fentanyl<>Prolactin pair\n",
      "No Data for Fentanyl<>Prothrombin time INR pair\n",
      "No Data for Fentanyl<>Prothrombin time INR pair\n",
      "No Data for Fentanyl<>Red blood cell pair\n",
      "No Data for Fentanyl<>Red blood cell pair\n",
      "No Data for Fentanyl<>Uric Acid pair\n",
      "No Data for Fentanyl<>Uric Acid pair\n",
      "No Data for Fentanyl<>Uric Acid, Urine pair\n",
      "No Data for Fentanyl<>Uric Acid, Urine pair\n",
      "No Data for Fentanyl<>Vitamin B12 pair\n",
      "No Data for Fentanyl<>Vitamin B12 pair\n",
      "No Data for Fentanyl (Concentrate)<>Albumin pair\n",
      "No Data for Fentanyl (Concentrate)<>Albumin pair\n",
      "No Data for Fentanyl (Concentrate)<>Bilirubin pair\n",
      "No Data for Fentanyl (Concentrate)<>Bilirubin pair\n",
      "No Data for Fentanyl (Concentrate)<>Calcium pair\n",
      "No Data for Fentanyl (Concentrate)<>Calcium pair\n",
      "No Data for Fentanyl (Concentrate)<>Calcium ionized pair\n",
      "No Data for Fentanyl (Concentrate)<>Calcium ionized pair\n",
      "No Data for Fentanyl (Concentrate)<>Creatinine pair\n",
      "No Data for Fentanyl (Concentrate)<>Creatinine pair\n",
      "No Data for Fentanyl (Concentrate)<>Hemoglobin pair\n",
      "No Data for Fentanyl (Concentrate)<>Hemoglobin pair\n",
      "No Data for Fentanyl (Concentrate)<>Hemoglobin percent pair\n",
      "No Data for Fentanyl (Concentrate)<>Hemoglobin percent pair\n",
      "No Data for Fentanyl (Concentrate)<>Lactic acid pair\n",
      "No Data for Fentanyl (Concentrate)<>Lactic acid pair\n",
      "No Data for Fentanyl (Concentrate)<>Magnesium pair\n",
      "No Data for Fentanyl (Concentrate)<>Magnesium pair\n",
      "No Data for Fentanyl (Concentrate)<>Magnesium, Urine pair\n",
      "No Data for Fentanyl (Concentrate)<>Magnesium, Urine pair\n",
      "No Data for Fentanyl (Concentrate)<>Potassium pair\n",
      "No Data for Fentanyl (Concentrate)<>Potassium pair\n",
      "No Data for Fentanyl (Concentrate)<>Prolactin pair\n",
      "No Data for Fentanyl (Concentrate)<>Prolactin pair\n",
      "No Data for Fentanyl (Concentrate)<>Prothrombin time INR pair\n",
      "No Data for Fentanyl (Concentrate)<>Prothrombin time INR pair\n",
      "No Data for Fentanyl (Concentrate)<>Red blood cell pair\n",
      "No Data for Fentanyl (Concentrate)<>Red blood cell pair\n",
      "No Data for Fentanyl (Concentrate)<>Uric Acid pair\n",
      "No Data for Fentanyl (Concentrate)<>Uric Acid pair\n",
      "No Data for Fentanyl (Concentrate)<>Uric Acid, Urine pair\n",
      "No Data for Fentanyl (Concentrate)<>Uric Acid, Urine pair\n",
      "No Data for Fentanyl (Concentrate)<>Vitamin B12 pair\n",
      "No Data for Fentanyl (Concentrate)<>Vitamin B12 pair\n",
      "No Data for Fibersource HN (1/2)<>Calcium pair\n",
      "No Data for Fibersource HN (1/2)<>Calcium pair\n",
      "No Data for Fibersource HN (1/2)<>Creatinine pair\n",
      "No Data for Fibersource HN (1/2)<>Creatinine pair\n",
      "No Data for Fibersource HN (1/2)<>Glucose pair\n",
      "No Data for Fibersource HN (1/2)<>Glucose pair\n",
      "No Data for Fibersource HN (1/2)<>Hematocrit pair\n",
      "No Data for Fibersource HN (1/2)<>Hematocrit pair\n",
      "No Data for Fibersource HN (1/2)<>Hemoglobin pair\n",
      "No Data for Fibersource HN (1/2)<>Hemoglobin pair\n",
      "No Data for Fibersource HN (1/2)<>Magnesium pair\n",
      "No Data for Fibersource HN (1/2)<>Magnesium pair\n",
      "No Data for Fibersource HN (1/2)<>Platelets pair\n",
      "No Data for Fibersource HN (1/2)<>Platelets pair\n",
      "No Data for Fibersource HN (1/2)<>Potassium pair\n",
      "No Data for Fibersource HN (1/2)<>Potassium pair\n",
      "No Data for Fibersource HN (1/2)<>Red blood cell pair\n",
      "No Data for Fibersource HN (1/2)<>Red blood cell pair\n",
      "No Data for Fibersource HN (1/2)<>Sodium pair\n",
      "No Data for Fibersource HN (1/2)<>Sodium pair\n",
      "No Data for Fibersource HN (1/4)<>Calcium pair\n",
      "No Data for Fibersource HN (1/4)<>Calcium pair\n",
      "No Data for Fibersource HN (1/4)<>Creatinine pair\n",
      "No Data for Fibersource HN (1/4)<>Creatinine pair\n",
      "No Data for Fibersource HN (1/4)<>Glucose pair\n",
      "No Data for Fibersource HN (1/4)<>Glucose pair\n",
      "No Data for Fibersource HN (1/4)<>Hematocrit pair\n",
      "No Data for Fibersource HN (1/4)<>Hematocrit pair\n",
      "No Data for Fibersource HN (1/4)<>Hemoglobin pair\n",
      "No Data for Fibersource HN (1/4)<>Hemoglobin pair\n",
      "No Data for Fibersource HN (1/4)<>Magnesium pair\n",
      "No Data for Fibersource HN (1/4)<>Magnesium pair\n",
      "No Data for Fibersource HN (1/4)<>Platelets pair\n",
      "No Data for Fibersource HN (1/4)<>Platelets pair\n",
      "No Data for Fibersource HN (1/4)<>Potassium pair\n",
      "No Data for Fibersource HN (1/4)<>Potassium pair\n",
      "No Data for Fibersource HN (1/4)<>Red blood cell pair\n",
      "No Data for Fibersource HN (1/4)<>Red blood cell pair\n",
      "No Data for Fibersource HN (1/4)<>Sodium pair\n",
      "No Data for Fibersource HN (1/4)<>Sodium pair\n",
      "No Data for Fibersource HN (3/4)<>Calcium ionized pair\n",
      "No Data for Fibersource HN (3/4)<>Calcium ionized pair\n",
      "No Data for Fibersource HN (3/4)<>Glucose pair\n",
      "No Data for Fibersource HN (3/4)<>Glucose pair\n",
      "No Data for Fibersource HN (3/4)<>PTT pair\n",
      "No Data for Fibersource HN (3/4)<>PTT pair\n",
      "No Data for Fibersource HN (3/4)<>Potassium pair\n",
      "No Data for Fibersource HN (3/4)<>Potassium pair\n",
      "No Data for Fibersource HN (Full)<>Albumin pair\n",
      "No Data for Fibersource HN (Full)<>Albumin pair\n",
      "No Data for Fibersource HN (Full)<>Amylase pair\n",
      "No Data for Fibersource HN (Full)<>Amylase pair\n",
      "No Data for Fibersource HN (Full)<>Bilirubin pair\n",
      "No Data for Fibersource HN (Full)<>Bilirubin pair\n",
      "No Data for Fibersource HN (Full)<>Calcium pair\n",
      "No Data for Fibersource HN (Full)<>Calcium pair\n",
      "No Data for Fibersource HN (Full)<>Calcium ionized pair\n",
      "No Data for Fibersource HN (Full)<>Calcium ionized pair\n",
      "No Data for Fibersource HN (Full)<>Creatinine pair\n",
      "No Data for Fibersource HN (Full)<>Creatinine pair\n",
      "No Data for Fibersource HN (Full)<>Hemoglobin pair\n",
      "No Data for Fibersource HN (Full)<>Hemoglobin pair\n",
      "No Data for Fibersource HN (Full)<>Lactic acid pair\n",
      "No Data for Fibersource HN (Full)<>Lactic acid pair\n",
      "No Data for Fibersource HN (Full)<>Lipase pair\n",
      "No Data for Fibersource HN (Full)<>Lipase pair\n",
      "No Data for Fibersource HN (Full)<>Magnesium pair\n",
      "No Data for Fibersource HN (Full)<>Magnesium pair\n",
      "No Data for Fibersource HN (Full)<>Potassium pair\n",
      "No Data for Fibersource HN (Full)<>Potassium pair\n",
      "No Data for Fibersource HN (Full)<>Prothrombin time INR pair\n",
      "No Data for Fibersource HN (Full)<>Prothrombin time INR pair\n",
      "No Data for Fibersource HN (Full)<>Red blood cell pair\n",
      "No Data for Fibersource HN (Full)<>Red blood cell pair\n",
      "No Data for Fibersource HN (Full)<>Uric Acid pair\n",
      "No Data for Fibersource HN (Full)<>Uric Acid pair\n",
      "No Data for Fibersource HN (Full)<>Vitamin B12 pair\n",
      "No Data for Fibersource HN (Full)<>Vitamin B12 pair\n",
      "No Data for Fluconazole<>Albumin pair\n",
      "No Data for Fluconazole<>Albumin pair\n",
      "No Data for Fluconazole<>Bilirubin pair\n",
      "No Data for Fluconazole<>Bilirubin pair\n",
      "No Data for Fluconazole<>Calcium pair\n",
      "No Data for Fluconazole<>Calcium pair\n",
      "No Data for Fluconazole<>Calcium ionized pair\n",
      "No Data for Fluconazole<>Calcium ionized pair\n",
      "No Data for Fluconazole<>Creatinine pair\n",
      "No Data for Fluconazole<>Creatinine pair\n",
      "No Data for Fluconazole<>Creatinine ascites pair\n",
      "No Data for Fluconazole<>Creatinine ascites pair\n",
      "No Data for Fluconazole<>Hemoglobin pair\n",
      "No Data for Fluconazole<>Hemoglobin pair\n",
      "No Data for Fluconazole<>Hemoglobin percent pair\n",
      "No Data for Fluconazole<>Hemoglobin percent pair\n",
      "No Data for Fluconazole<>Lactic acid pair\n",
      "No Data for Fluconazole<>Lactic acid pair\n",
      "No Data for Fluconazole<>Lipase pair\n",
      "No Data for Fluconazole<>Lipase pair\n",
      "No Data for Fluconazole<>Magnesium pair\n",
      "No Data for Fluconazole<>Magnesium pair\n",
      "No Data for Fluconazole<>Potassium pair\n",
      "No Data for Fluconazole<>Potassium pair\n",
      "No Data for Fluconazole<>Prothrombin time INR pair\n",
      "No Data for Fluconazole<>Prothrombin time INR pair\n",
      "No Data for Fluconazole<>Red blood cell pair\n",
      "No Data for Fluconazole<>Red blood cell pair\n",
      "No Data for Fluconazole<>Uric Acid pair\n",
      "No Data for Fluconazole<>Uric Acid pair\n",
      "No Data for Fluconazole<>Uric Acid, Urine pair\n",
      "No Data for Fluconazole<>Uric Acid, Urine pair\n",
      "No Data for Fluconazole<>Vitamin B12 pair\n",
      "No Data for Fluconazole<>Vitamin B12 pair\n",
      "No Data for Folic Acid<>Albumin pair\n",
      "No Data for Folic Acid<>Albumin pair\n",
      "No Data for Folic Acid<>Bilirubin pair\n",
      "No Data for Folic Acid<>Bilirubin pair\n",
      "No Data for Folic Acid<>Calcium pair\n",
      "No Data for Folic Acid<>Calcium pair\n",
      "No Data for Folic Acid<>Calcium ionized pair\n",
      "No Data for Folic Acid<>Calcium ionized pair\n",
      "No Data for Folic Acid<>Creatinine pair\n",
      "No Data for Folic Acid<>Creatinine pair\n",
      "No Data for Folic Acid<>Creatinine ascites pair\n",
      "No Data for Folic Acid<>Creatinine ascites pair\n",
      "No Data for Folic Acid<>Hemoglobin pair\n",
      "No Data for Folic Acid<>Hemoglobin pair\n",
      "No Data for Folic Acid<>Hemoglobin percent pair\n",
      "No Data for Folic Acid<>Hemoglobin percent pair\n",
      "No Data for Folic Acid<>Lactic acid pair\n",
      "No Data for Folic Acid<>Lactic acid pair\n",
      "No Data for Folic Acid<>Magnesium pair\n",
      "No Data for Folic Acid<>Magnesium pair\n",
      "No Data for Folic Acid<>Magnesium, Urine pair\n",
      "No Data for Folic Acid<>Magnesium, Urine pair\n",
      "No Data for Folic Acid<>Potassium pair\n",
      "No Data for Folic Acid<>Potassium pair\n",
      "No Data for Folic Acid<>Prolactin pair\n",
      "No Data for Folic Acid<>Prolactin pair\n",
      "No Data for Folic Acid<>Prothrombin time INR pair\n",
      "No Data for Folic Acid<>Prothrombin time INR pair\n",
      "No Data for Folic Acid<>Red blood cell pair\n",
      "No Data for Folic Acid<>Red blood cell pair\n",
      "No Data for Folic Acid<>Uric Acid pair\n",
      "No Data for Folic Acid<>Uric Acid pair\n",
      "No Data for Folic Acid<>Uric Acid, Urine pair\n",
      "No Data for Folic Acid<>Uric Acid, Urine pair\n",
      "No Data for Folic Acid<>Vitamin B12 pair\n",
      "No Data for Folic Acid<>Vitamin B12 pair\n",
      "No Data for Fondaparinux<>Alanine aminotransferase pair\n",
      "No Data for Fondaparinux<>Alanine aminotransferase pair\n",
      "No Data for Fondaparinux<>Albumin pair\n",
      "No Data for Fondaparinux<>Albumin pair\n",
      "No Data for Fondaparinux<>Amylase pair\n",
      "No Data for Fondaparinux<>Amylase pair\n",
      "No Data for Fondaparinux<>Asparate aminotransferase pair\n",
      "No Data for Fondaparinux<>Asparate aminotransferase pair\n",
      "No Data for Fondaparinux<>Bilirubin pair\n",
      "No Data for Fondaparinux<>Bilirubin pair\n",
      "No Data for Fondaparinux<>Calcium pair\n",
      "No Data for Fondaparinux<>Calcium pair\n",
      "No Data for Fondaparinux<>Calcium ionized pair\n",
      "No Data for Fondaparinux<>Calcium ionized pair\n",
      "No Data for Fondaparinux<>Creatinine pair\n",
      "No Data for Fondaparinux<>Creatinine pair\n",
      "No Data for Fondaparinux<>Hemoglobin pair\n",
      "No Data for Fondaparinux<>Hemoglobin pair\n",
      "No Data for Fondaparinux<>Lactic acid pair\n",
      "No Data for Fondaparinux<>Lactic acid pair\n",
      "No Data for Fondaparinux<>Lipase pair\n",
      "No Data for Fondaparinux<>Lipase pair\n",
      "No Data for Fondaparinux<>Magnesium pair\n",
      "No Data for Fondaparinux<>Magnesium pair\n",
      "No Data for Fondaparinux<>PTT pair\n",
      "No Data for Fondaparinux<>PTT pair\n",
      "No Data for Fondaparinux<>Potassium pair\n",
      "No Data for Fondaparinux<>Potassium pair\n",
      "No Data for Fondaparinux<>Prothrombin time INR pair\n",
      "No Data for Fondaparinux<>Prothrombin time INR pair\n",
      "No Data for Fondaparinux<>Red blood cell pair\n",
      "No Data for Fondaparinux<>Red blood cell pair\n",
      "No Data for Foscarnet<>Alanine aminotransferase pair\n",
      "No Data for Foscarnet<>Alanine aminotransferase pair\n",
      "No Data for Foscarnet<>Asparate aminotransferase pair\n",
      "No Data for Foscarnet<>Asparate aminotransferase pair\n",
      "No Data for Foscarnet<>Bilirubin pair\n",
      "No Data for Foscarnet<>Bilirubin pair\n",
      "No Data for Foscarnet<>Calcium pair\n",
      "No Data for Foscarnet<>Calcium pair\n",
      "No Data for Foscarnet<>Calcium ionized pair\n",
      "No Data for Foscarnet<>Calcium ionized pair\n",
      "No Data for Foscarnet<>Creatinine pair\n",
      "No Data for Foscarnet<>Creatinine pair\n",
      "No Data for Foscarnet<>Glucose pair\n",
      "No Data for Foscarnet<>Glucose pair\n",
      "No Data for Foscarnet<>Hematocrit pair\n",
      "No Data for Foscarnet<>Hematocrit pair\n",
      "No Data for Foscarnet<>Hemoglobin pair\n",
      "No Data for Foscarnet<>Hemoglobin pair\n",
      "No Data for Foscarnet<>Lactic acid pair\n",
      "No Data for Foscarnet<>Lactic acid pair\n",
      "No Data for Foscarnet<>Magnesium pair\n",
      "No Data for Foscarnet<>Magnesium pair\n",
      "No Data for Foscarnet<>PTT pair\n",
      "No Data for Foscarnet<>PTT pair\n",
      "No Data for Foscarnet<>Platelets pair\n",
      "No Data for Foscarnet<>Platelets pair\n",
      "No Data for Foscarnet<>Potassium pair\n",
      "No Data for Foscarnet<>Potassium pair\n",
      "No Data for Foscarnet<>Prothrombin time INR pair\n",
      "No Data for Foscarnet<>Prothrombin time INR pair\n",
      "No Data for Foscarnet<>Red blood cell pair\n",
      "No Data for Foscarnet<>Red blood cell pair\n",
      "No Data for Fosphenytoin<>Alanine aminotransferase pair\n",
      "No Data for Fosphenytoin<>Alanine aminotransferase pair\n",
      "No Data for Fosphenytoin<>Albumin pair\n",
      "No Data for Fosphenytoin<>Albumin pair\n",
      "No Data for Fosphenytoin<>Amylase pair\n",
      "No Data for Fosphenytoin<>Amylase pair\n",
      "No Data for Fosphenytoin<>Asparate aminotransferase pair\n",
      "No Data for Fosphenytoin<>Asparate aminotransferase pair\n",
      "No Data for Fosphenytoin<>Bilirubin pair\n",
      "No Data for Fosphenytoin<>Bilirubin pair\n",
      "No Data for Fosphenytoin<>Calcium pair\n",
      "No Data for Fosphenytoin<>Calcium pair\n",
      "No Data for Fosphenytoin<>Calcium ionized pair\n",
      "No Data for Fosphenytoin<>Calcium ionized pair\n",
      "No Data for Fosphenytoin<>Creatinine pair\n",
      "No Data for Fosphenytoin<>Creatinine pair\n",
      "No Data for Fosphenytoin<>Hemoglobin pair\n",
      "No Data for Fosphenytoin<>Hemoglobin pair\n",
      "No Data for Fosphenytoin<>Hemoglobin percent pair\n",
      "No Data for Fosphenytoin<>Hemoglobin percent pair\n",
      "No Data for Fosphenytoin<>Lactic acid pair\n",
      "No Data for Fosphenytoin<>Lactic acid pair\n",
      "No Data for Fosphenytoin<>Lipase pair\n",
      "No Data for Fosphenytoin<>Lipase pair\n",
      "No Data for Fosphenytoin<>Magnesium pair\n",
      "No Data for Fosphenytoin<>Magnesium pair\n",
      "No Data for Fosphenytoin<>Potassium pair\n",
      "No Data for Fosphenytoin<>Potassium pair\n",
      "No Data for Fosphenytoin<>Prothrombin time INR pair\n",
      "No Data for Fosphenytoin<>Prothrombin time INR pair\n",
      "No Data for Fosphenytoin<>Red blood cell pair\n",
      "No Data for Fosphenytoin<>Red blood cell pair\n",
      "No Data for Fosphenytoin<>Uric Acid, Urine pair\n",
      "No Data for Fosphenytoin<>Uric Acid, Urine pair\n",
      "No Data for Free Water<>Albumin pair\n",
      "No Data for Free Water<>Albumin pair\n",
      "No Data for Free Water<>Amylase pair\n",
      "No Data for Free Water<>Amylase pair\n",
      "No Data for Free Water<>Bilirubin pair\n",
      "No Data for Free Water<>Bilirubin pair\n",
      "No Data for Free Water<>Calcium pair\n",
      "No Data for Free Water<>Calcium pair\n",
      "No Data for Free Water<>Calcium ionized pair\n",
      "No Data for Free Water<>Calcium ionized pair\n",
      "No Data for Free Water<>Creatinine pair\n",
      "No Data for Free Water<>Creatinine pair\n",
      "No Data for Free Water<>Hemoglobin pair\n",
      "No Data for Free Water<>Hemoglobin pair\n",
      "No Data for Free Water<>Hemoglobin percent pair\n",
      "No Data for Free Water<>Hemoglobin percent pair\n",
      "No Data for Free Water<>Lactic acid pair\n",
      "No Data for Free Water<>Lactic acid pair\n",
      "No Data for Free Water<>Lipase pair\n",
      "No Data for Free Water<>Lipase pair\n",
      "No Data for Free Water<>Magnesium pair\n",
      "No Data for Free Water<>Magnesium pair\n",
      "No Data for Free Water<>Magnesium, Urine pair\n",
      "No Data for Free Water<>Magnesium, Urine pair\n",
      "No Data for Free Water<>Potassium pair\n",
      "No Data for Free Water<>Potassium pair\n",
      "No Data for Free Water<>Prothrombin time INR pair\n",
      "No Data for Free Water<>Prothrombin time INR pair\n",
      "No Data for Free Water<>Red blood cell pair\n",
      "No Data for Free Water<>Red blood cell pair\n",
      "No Data for Free Water<>Uric Acid pair\n",
      "No Data for Free Water<>Uric Acid pair\n",
      "No Data for Free Water<>Uric Acid, Urine pair\n",
      "No Data for Free Water<>Uric Acid, Urine pair\n",
      "No Data for Free Water<>Vitamin B12 pair\n",
      "No Data for Free Water<>Vitamin B12 pair\n",
      "No Data for Fresh Frozen Plasma<>Albumin pair\n",
      "No Data for Fresh Frozen Plasma<>Albumin pair\n",
      "No Data for Fresh Frozen Plasma<>Bilirubin pair\n",
      "No Data for Fresh Frozen Plasma<>Bilirubin pair\n",
      "No Data for Fresh Frozen Plasma<>Calcium pair\n",
      "No Data for Fresh Frozen Plasma<>Calcium pair\n",
      "No Data for Fresh Frozen Plasma<>Calcium ionized pair\n",
      "No Data for Fresh Frozen Plasma<>Calcium ionized pair\n",
      "No Data for Fresh Frozen Plasma<>Creatinine pair\n",
      "No Data for Fresh Frozen Plasma<>Creatinine pair\n",
      "No Data for Fresh Frozen Plasma<>Creatinine ascites pair\n",
      "No Data for Fresh Frozen Plasma<>Creatinine ascites pair\n",
      "No Data for Fresh Frozen Plasma<>Hemoglobin pair\n",
      "No Data for Fresh Frozen Plasma<>Hemoglobin pair\n",
      "No Data for Fresh Frozen Plasma<>Hemoglobin percent pair\n",
      "No Data for Fresh Frozen Plasma<>Hemoglobin percent pair\n",
      "No Data for Fresh Frozen Plasma<>Lactic acid pair\n",
      "No Data for Fresh Frozen Plasma<>Lactic acid pair\n",
      "No Data for Fresh Frozen Plasma<>Lipase pair\n",
      "No Data for Fresh Frozen Plasma<>Lipase pair\n",
      "No Data for Fresh Frozen Plasma<>Magnesium pair\n",
      "No Data for Fresh Frozen Plasma<>Magnesium pair\n",
      "No Data for Fresh Frozen Plasma<>Magnesium, Urine pair\n",
      "No Data for Fresh Frozen Plasma<>Magnesium, Urine pair\n",
      "No Data for Fresh Frozen Plasma<>Potassium pair\n",
      "No Data for Fresh Frozen Plasma<>Potassium pair\n",
      "No Data for Fresh Frozen Plasma<>Prothrombin time INR pair\n",
      "No Data for Fresh Frozen Plasma<>Prothrombin time INR pair\n",
      "No Data for Fresh Frozen Plasma<>Red blood cell pair\n",
      "No Data for Fresh Frozen Plasma<>Red blood cell pair\n",
      "No Data for Fresh Frozen Plasma<>Uric Acid pair\n",
      "No Data for Fresh Frozen Plasma<>Uric Acid pair\n",
      "No Data for Fresh Frozen Plasma<>Uric Acid, Urine pair\n",
      "No Data for Fresh Frozen Plasma<>Uric Acid, Urine pair\n",
      "No Data for Fresh Frozen Plasma<>Vitamin B12 pair\n",
      "No Data for Fresh Frozen Plasma<>Vitamin B12 pair\n",
      "No Data for Furosemide (Lasix)<>Albumin pair\n",
      "No Data for Furosemide (Lasix)<>Albumin pair\n",
      "No Data for Furosemide (Lasix)<>Calcium pair\n",
      "No Data for Furosemide (Lasix)<>Calcium pair\n",
      "No Data for Furosemide (Lasix)<>Calcium ionized pair\n",
      "No Data for Furosemide (Lasix)<>Calcium ionized pair\n",
      "No Data for Furosemide (Lasix)<>Creatinine pair\n",
      "No Data for Furosemide (Lasix)<>Creatinine pair\n",
      "No Data for Furosemide (Lasix)<>Hemoglobin pair\n",
      "No Data for Furosemide (Lasix)<>Hemoglobin pair\n",
      "No Data for Furosemide (Lasix)<>Hemoglobin C pair\n",
      "No Data for Furosemide (Lasix)<>Hemoglobin C pair\n",
      "No Data for Furosemide (Lasix)<>Hemoglobin percent pair\n",
      "No Data for Furosemide (Lasix)<>Hemoglobin percent pair\n",
      "No Data for Furosemide (Lasix)<>Lactic acid pair\n",
      "No Data for Furosemide (Lasix)<>Lactic acid pair\n",
      "No Data for Furosemide (Lasix)<>Magnesium pair\n",
      "No Data for Furosemide (Lasix)<>Magnesium pair\n",
      "No Data for Furosemide (Lasix)<>Magnesium, Urine pair\n",
      "No Data for Furosemide (Lasix)<>Magnesium, Urine pair\n",
      "No Data for Furosemide (Lasix)<>Potassium pair\n",
      "No Data for Furosemide (Lasix)<>Potassium pair\n",
      "No Data for Furosemide (Lasix)<>Prothrombin time INR pair\n",
      "No Data for Furosemide (Lasix)<>Prothrombin time INR pair\n",
      "No Data for Furosemide (Lasix)<>Red blood cell pair\n",
      "No Data for Furosemide (Lasix)<>Red blood cell pair\n",
      "No Data for Furosemide (Lasix)<>Uric Acid pair\n",
      "No Data for Furosemide (Lasix)<>Uric Acid pair\n",
      "No Data for Furosemide (Lasix)<>Uric Acid, Urine pair\n",
      "No Data for Furosemide (Lasix)<>Uric Acid, Urine pair\n",
      "No Data for Furosemide (Lasix)<>Vitamin B12 pair\n",
      "No Data for Furosemide (Lasix)<>Vitamin B12 pair\n",
      "No Data for Furosemide (Lasix) 500/100<>Alanine aminotransferase pair\n",
      "No Data for Furosemide (Lasix) 500/100<>Alanine aminotransferase pair\n",
      "No Data for Furosemide (Lasix) 500/100<>Albumin pair\n",
      "No Data for Furosemide (Lasix) 500/100<>Albumin pair\n",
      "No Data for Furosemide (Lasix) 500/100<>Amylase pair\n",
      "No Data for Furosemide (Lasix) 500/100<>Amylase pair\n",
      "No Data for Furosemide (Lasix) 500/100<>Asparate aminotransferase pair\n",
      "No Data for Furosemide (Lasix) 500/100<>Asparate aminotransferase pair\n",
      "No Data for Furosemide (Lasix) 500/100<>Bilirubin pair\n",
      "No Data for Furosemide (Lasix) 500/100<>Bilirubin pair\n",
      "No Data for Furosemide (Lasix) 500/100<>Calcium pair\n",
      "No Data for Furosemide (Lasix) 500/100<>Calcium pair\n",
      "No Data for Furosemide (Lasix) 500/100<>Calcium ionized pair\n",
      "No Data for Furosemide (Lasix) 500/100<>Calcium ionized pair\n",
      "No Data for Furosemide (Lasix) 500/100<>Creatinine pair\n",
      "No Data for Furosemide (Lasix) 500/100<>Creatinine pair\n",
      "No Data for Furosemide (Lasix) 500/100<>Hemoglobin pair\n",
      "No Data for Furosemide (Lasix) 500/100<>Hemoglobin pair\n",
      "No Data for Furosemide (Lasix) 500/100<>Hemoglobin percent pair\n",
      "No Data for Furosemide (Lasix) 500/100<>Hemoglobin percent pair\n",
      "No Data for Furosemide (Lasix) 500/100<>Lactic acid pair\n",
      "No Data for Furosemide (Lasix) 500/100<>Lactic acid pair\n",
      "No Data for Furosemide (Lasix) 500/100<>Lipase pair\n",
      "No Data for Furosemide (Lasix) 500/100<>Lipase pair\n",
      "No Data for Furosemide (Lasix) 500/100<>Magnesium pair\n",
      "No Data for Furosemide (Lasix) 500/100<>Magnesium pair\n",
      "No Data for Furosemide (Lasix) 500/100<>Potassium pair\n",
      "No Data for Furosemide (Lasix) 500/100<>Potassium pair\n",
      "No Data for Furosemide (Lasix) 500/100<>Prothrombin time INR pair\n",
      "No Data for Furosemide (Lasix) 500/100<>Prothrombin time INR pair\n",
      "No Data for Furosemide (Lasix) 500/100<>Red blood cell pair\n",
      "No Data for Furosemide (Lasix) 500/100<>Red blood cell pair\n",
      "No Data for Furosemide (Lasix) 500/100<>Uric Acid, Urine pair\n",
      "No Data for Furosemide (Lasix) 500/100<>Uric Acid, Urine pair\n",
      "No Data for GT Flush<>Albumin pair\n",
      "No Data for GT Flush<>Albumin pair\n",
      "No Data for GT Flush<>Calcium pair\n",
      "No Data for GT Flush<>Calcium pair\n",
      "No Data for GT Flush<>Calcium ionized pair\n",
      "No Data for GT Flush<>Calcium ionized pair\n",
      "No Data for GT Flush<>Creatinine pair\n",
      "No Data for GT Flush<>Creatinine pair\n",
      "No Data for GT Flush<>Creatinine ascites pair\n",
      "No Data for GT Flush<>Creatinine ascites pair\n",
      "No Data for GT Flush<>Hemoglobin pair\n",
      "No Data for GT Flush<>Hemoglobin pair\n",
      "No Data for GT Flush<>Hemoglobin percent pair\n",
      "No Data for GT Flush<>Hemoglobin percent pair\n",
      "No Data for GT Flush<>Lactic acid pair\n",
      "No Data for GT Flush<>Lactic acid pair\n",
      "No Data for GT Flush<>Magnesium pair\n",
      "No Data for GT Flush<>Magnesium pair\n",
      "No Data for GT Flush<>Magnesium, Urine pair\n",
      "No Data for GT Flush<>Magnesium, Urine pair\n",
      "No Data for GT Flush<>Potassium pair\n",
      "No Data for GT Flush<>Potassium pair\n",
      "No Data for GT Flush<>Prolactin pair\n",
      "No Data for GT Flush<>Prolactin pair\n",
      "No Data for GT Flush<>Prothrombin time INR pair\n",
      "No Data for GT Flush<>Prothrombin time INR pair\n",
      "No Data for GT Flush<>Red blood cell pair\n",
      "No Data for GT Flush<>Red blood cell pair\n",
      "No Data for GT Flush<>Uric Acid pair\n",
      "No Data for GT Flush<>Uric Acid pair\n",
      "No Data for GT Flush<>Uric Acid, Urine pair\n",
      "No Data for GT Flush<>Uric Acid, Urine pair\n",
      "No Data for GT Flush<>Vitamin B12 pair\n",
      "No Data for GT Flush<>Vitamin B12 pair\n",
      "No Data for Gancyclovir<>Alanine aminotransferase pair\n",
      "No Data for Gancyclovir<>Alanine aminotransferase pair\n",
      "No Data for Gancyclovir<>Albumin pair\n",
      "No Data for Gancyclovir<>Albumin pair\n",
      "No Data for Gancyclovir<>Amylase pair\n",
      "No Data for Gancyclovir<>Amylase pair\n",
      "No Data for Gancyclovir<>Asparate aminotransferase pair\n",
      "No Data for Gancyclovir<>Asparate aminotransferase pair\n",
      "No Data for Gancyclovir<>Bilirubin pair\n",
      "No Data for Gancyclovir<>Bilirubin pair\n",
      "No Data for Gancyclovir<>Calcium pair\n",
      "No Data for Gancyclovir<>Calcium pair\n",
      "No Data for Gancyclovir<>Calcium ionized pair\n",
      "No Data for Gancyclovir<>Calcium ionized pair\n",
      "No Data for Gancyclovir<>Creatinine pair\n",
      "No Data for Gancyclovir<>Creatinine pair\n",
      "No Data for Gancyclovir<>Hemoglobin pair\n",
      "No Data for Gancyclovir<>Hemoglobin pair\n",
      "No Data for Gancyclovir<>Lactic acid pair\n",
      "No Data for Gancyclovir<>Lactic acid pair\n",
      "No Data for Gancyclovir<>Lipase pair\n",
      "No Data for Gancyclovir<>Lipase pair\n",
      "No Data for Gancyclovir<>Magnesium pair\n",
      "No Data for Gancyclovir<>Magnesium pair\n",
      "No Data for Gancyclovir<>Platelets pair\n",
      "No Data for Gancyclovir<>Platelets pair\n",
      "No Data for Gancyclovir<>Potassium pair\n",
      "No Data for Gancyclovir<>Potassium pair\n",
      "No Data for Gancyclovir<>Prothrombin time INR pair\n",
      "No Data for Gancyclovir<>Prothrombin time INR pair\n",
      "No Data for Gancyclovir<>Red blood cell pair\n",
      "No Data for Gancyclovir<>Red blood cell pair\n",
      "No Data for Gancyclovir<>Uric Acid pair\n",
      "No Data for Gancyclovir<>Uric Acid pair\n",
      "No Data for Gastric Meds<>Albumin pair\n",
      "No Data for Gastric Meds<>Albumin pair\n",
      "No Data for Gastric Meds<>Bilirubin pair\n",
      "No Data for Gastric Meds<>Bilirubin pair\n",
      "No Data for Gastric Meds<>Calcium pair\n",
      "No Data for Gastric Meds<>Calcium pair\n",
      "No Data for Gastric Meds<>Calcium ionized pair\n",
      "No Data for Gastric Meds<>Calcium ionized pair\n",
      "No Data for Gastric Meds<>Creatinine pair\n",
      "No Data for Gastric Meds<>Creatinine pair\n",
      "No Data for Gastric Meds<>Creatinine ascites pair\n",
      "No Data for Gastric Meds<>Creatinine ascites pair\n",
      "No Data for Gastric Meds<>Hemoglobin pair\n",
      "No Data for Gastric Meds<>Hemoglobin pair\n",
      "No Data for Gastric Meds<>Hemoglobin percent pair\n",
      "No Data for Gastric Meds<>Hemoglobin percent pair\n",
      "No Data for Gastric Meds<>Lactic acid pair\n",
      "No Data for Gastric Meds<>Lactic acid pair\n",
      "No Data for Gastric Meds<>Magnesium pair\n",
      "No Data for Gastric Meds<>Magnesium pair\n",
      "No Data for Gastric Meds<>Magnesium, Urine pair\n",
      "No Data for Gastric Meds<>Magnesium, Urine pair\n",
      "No Data for Gastric Meds<>Potassium pair\n",
      "No Data for Gastric Meds<>Potassium pair\n",
      "No Data for Gastric Meds<>Prothrombin time INR pair\n",
      "No Data for Gastric Meds<>Prothrombin time INR pair\n",
      "No Data for Gastric Meds<>Red blood cell pair\n",
      "No Data for Gastric Meds<>Red blood cell pair\n",
      "No Data for Gastric Meds<>Uric Acid pair\n",
      "No Data for Gastric Meds<>Uric Acid pair\n",
      "No Data for Gastric Meds<>Uric Acid, Urine pair\n",
      "No Data for Gastric Meds<>Uric Acid, Urine pair\n",
      "No Data for Gastric Meds<>Vitamin B12 pair\n",
      "No Data for Gastric Meds<>Vitamin B12 pair\n",
      "No Data for Gentamicin<>Albumin pair\n",
      "No Data for Gentamicin<>Albumin pair\n",
      "No Data for Gentamicin<>Amylase pair\n",
      "No Data for Gentamicin<>Amylase pair\n",
      "No Data for Gentamicin<>Bilirubin pair\n",
      "No Data for Gentamicin<>Bilirubin pair\n",
      "No Data for Gentamicin<>Calcium pair\n",
      "No Data for Gentamicin<>Calcium pair\n",
      "No Data for Gentamicin<>Calcium ionized pair\n",
      "No Data for Gentamicin<>Calcium ionized pair\n",
      "No Data for Gentamicin<>Creatinine pair\n",
      "No Data for Gentamicin<>Creatinine pair\n",
      "No Data for Gentamicin<>Hemoglobin pair\n",
      "No Data for Gentamicin<>Hemoglobin pair\n",
      "No Data for Gentamicin<>Hemoglobin percent pair\n",
      "No Data for Gentamicin<>Hemoglobin percent pair\n",
      "No Data for Gentamicin<>Lactic acid pair\n",
      "No Data for Gentamicin<>Lactic acid pair\n",
      "No Data for Gentamicin<>Magnesium pair\n",
      "No Data for Gentamicin<>Magnesium pair\n",
      "No Data for Gentamicin<>Potassium pair\n",
      "No Data for Gentamicin<>Potassium pair\n",
      "No Data for Gentamicin<>Prothrombin time INR pair\n",
      "No Data for Gentamicin<>Prothrombin time INR pair\n",
      "No Data for Gentamicin<>Red blood cell pair\n",
      "No Data for Gentamicin<>Red blood cell pair\n",
      "No Data for Gentamicin<>Uric Acid pair\n",
      "No Data for Gentamicin<>Uric Acid pair\n",
      "No Data for Gentamicin<>Vitamin B12 pair\n",
      "No Data for Gentamicin<>Vitamin B12 pair\n",
      "No Data for Glucerna (1/2)<>Calcium pair\n",
      "No Data for Glucerna (1/2)<>Calcium pair\n",
      "No Data for Glucerna (1/2)<>Creatinine pair\n",
      "No Data for Glucerna (1/2)<>Creatinine pair\n",
      "No Data for Glucerna (1/2)<>Glucose pair\n",
      "No Data for Glucerna (1/2)<>Glucose pair\n",
      "No Data for Glucerna (1/2)<>Hematocrit pair\n",
      "No Data for Glucerna (1/2)<>Hematocrit pair\n",
      "No Data for Glucerna (1/2)<>Hemoglobin pair\n",
      "No Data for Glucerna (1/2)<>Hemoglobin pair\n",
      "No Data for Glucerna (1/2)<>Magnesium pair\n",
      "No Data for Glucerna (1/2)<>Magnesium pair\n",
      "No Data for Glucerna (1/2)<>Platelets pair\n",
      "No Data for Glucerna (1/2)<>Platelets pair\n",
      "No Data for Glucerna (1/2)<>Potassium pair\n",
      "No Data for Glucerna (1/2)<>Potassium pair\n",
      "No Data for Glucerna (1/2)<>Red blood cell pair\n",
      "No Data for Glucerna (1/2)<>Red blood cell pair\n",
      "No Data for Glucerna (1/2)<>Sodium pair\n",
      "No Data for Glucerna (1/2)<>Sodium pair\n",
      "No Data for Glucerna (Full)<>Alanine aminotransferase pair\n",
      "No Data for Glucerna (Full)<>Alanine aminotransferase pair\n",
      "No Data for Glucerna (Full)<>Albumin pair\n",
      "No Data for Glucerna (Full)<>Albumin pair\n",
      "No Data for Glucerna (Full)<>Asparate aminotransferase pair\n",
      "No Data for Glucerna (Full)<>Asparate aminotransferase pair\n",
      "No Data for Glucerna (Full)<>Bilirubin pair\n",
      "No Data for Glucerna (Full)<>Bilirubin pair\n",
      "No Data for Glucerna (Full)<>Calcium pair\n",
      "No Data for Glucerna (Full)<>Calcium pair\n",
      "No Data for Glucerna (Full)<>Calcium ionized pair\n",
      "No Data for Glucerna (Full)<>Calcium ionized pair\n",
      "No Data for Glucerna (Full)<>Creatinine pair\n",
      "No Data for Glucerna (Full)<>Creatinine pair\n",
      "No Data for Glucerna (Full)<>Hematocrit pair\n",
      "No Data for Glucerna (Full)<>Hematocrit pair\n",
      "No Data for Glucerna (Full)<>Hemoglobin pair\n",
      "No Data for Glucerna (Full)<>Hemoglobin pair\n",
      "No Data for Glucerna (Full)<>Lactic acid pair\n",
      "No Data for Glucerna (Full)<>Lactic acid pair\n",
      "No Data for Glucerna (Full)<>Magnesium pair\n",
      "No Data for Glucerna (Full)<>Magnesium pair\n",
      "No Data for Glucerna (Full)<>PTT pair\n",
      "No Data for Glucerna (Full)<>PTT pair\n",
      "No Data for Glucerna (Full)<>Platelets pair\n",
      "No Data for Glucerna (Full)<>Platelets pair\n",
      "No Data for Glucerna (Full)<>Potassium pair\n",
      "No Data for Glucerna (Full)<>Potassium pair\n",
      "No Data for Glucerna (Full)<>Prothrombin time INR pair\n",
      "No Data for Glucerna (Full)<>Prothrombin time INR pair\n",
      "No Data for Glucerna (Full)<>Red blood cell pair\n",
      "No Data for Glucerna (Full)<>Red blood cell pair\n",
      "No Data for Glucerna (Full)<>Sodium pair\n",
      "No Data for Glucerna (Full)<>Sodium pair\n",
      "No Data for Haloperidol (Haldol)<>Albumin pair\n",
      "No Data for Haloperidol (Haldol)<>Albumin pair\n",
      "No Data for Haloperidol (Haldol)<>Amylase pair\n",
      "No Data for Haloperidol (Haldol)<>Amylase pair\n",
      "No Data for Haloperidol (Haldol)<>Asparate aminotransferase pair\n",
      "No Data for Haloperidol (Haldol)<>Asparate aminotransferase pair\n",
      "No Data for Haloperidol (Haldol)<>Bilirubin pair\n",
      "No Data for Haloperidol (Haldol)<>Bilirubin pair\n",
      "No Data for Haloperidol (Haldol)<>Calcium pair\n",
      "No Data for Haloperidol (Haldol)<>Calcium pair\n",
      "No Data for Haloperidol (Haldol)<>Calcium ionized pair\n",
      "No Data for Haloperidol (Haldol)<>Calcium ionized pair\n",
      "No Data for Haloperidol (Haldol)<>Creatinine pair\n",
      "No Data for Haloperidol (Haldol)<>Creatinine pair\n",
      "No Data for Haloperidol (Haldol)<>Hemoglobin pair\n",
      "No Data for Haloperidol (Haldol)<>Hemoglobin pair\n",
      "No Data for Haloperidol (Haldol)<>Hemoglobin percent pair\n",
      "No Data for Haloperidol (Haldol)<>Hemoglobin percent pair\n",
      "No Data for Haloperidol (Haldol)<>Lactic acid pair\n",
      "No Data for Haloperidol (Haldol)<>Lactic acid pair\n",
      "No Data for Haloperidol (Haldol)<>Lipase pair\n",
      "No Data for Haloperidol (Haldol)<>Lipase pair\n",
      "No Data for Haloperidol (Haldol)<>Magnesium pair\n",
      "No Data for Haloperidol (Haldol)<>Magnesium pair\n",
      "No Data for Haloperidol (Haldol)<>Magnesium, Urine pair\n",
      "No Data for Haloperidol (Haldol)<>Magnesium, Urine pair\n",
      "No Data for Haloperidol (Haldol)<>Potassium pair\n",
      "No Data for Haloperidol (Haldol)<>Potassium pair\n",
      "No Data for Haloperidol (Haldol)<>Prothrombin time INR pair\n",
      "No Data for Haloperidol (Haldol)<>Prothrombin time INR pair\n",
      "No Data for Haloperidol (Haldol)<>Red blood cell pair\n",
      "No Data for Haloperidol (Haldol)<>Red blood cell pair\n",
      "No Data for Haloperidol (Haldol)<>Uric Acid pair\n",
      "No Data for Haloperidol (Haldol)<>Uric Acid pair\n",
      "No Data for Haloperidol (Haldol)<>Uric Acid, Urine pair\n",
      "No Data for Haloperidol (Haldol)<>Uric Acid, Urine pair\n",
      "No Data for Haloperidol (Haldol)<>Vitamin B12 pair\n",
      "No Data for Haloperidol (Haldol)<>Vitamin B12 pair\n",
      "No Data for Heparin Sodium<>Albumin pair\n",
      "No Data for Heparin Sodium<>Albumin pair\n",
      "No Data for Heparin Sodium<>Bilirubin pair\n",
      "No Data for Heparin Sodium<>Bilirubin pair\n",
      "No Data for Heparin Sodium<>Calcium pair\n",
      "No Data for Heparin Sodium<>Calcium pair\n",
      "No Data for Heparin Sodium<>Calcium ionized pair\n",
      "No Data for Heparin Sodium<>Calcium ionized pair\n",
      "No Data for Heparin Sodium<>Creatinine pair\n",
      "No Data for Heparin Sodium<>Creatinine pair\n",
      "No Data for Heparin Sodium<>Hemoglobin pair\n",
      "No Data for Heparin Sodium<>Hemoglobin pair\n",
      "No Data for Heparin Sodium<>Hemoglobin percent pair\n",
      "No Data for Heparin Sodium<>Hemoglobin percent pair\n",
      "No Data for Heparin Sodium<>Lactic acid pair\n",
      "No Data for Heparin Sodium<>Lactic acid pair\n",
      "No Data for Heparin Sodium<>Magnesium pair\n",
      "No Data for Heparin Sodium<>Magnesium pair\n",
      "No Data for Heparin Sodium<>Potassium pair\n",
      "No Data for Heparin Sodium<>Potassium pair\n",
      "No Data for Heparin Sodium<>Prothrombin time INR pair\n",
      "No Data for Heparin Sodium<>Prothrombin time INR pair\n",
      "No Data for Heparin Sodium<>Red blood cell pair\n",
      "No Data for Heparin Sodium<>Red blood cell pair\n",
      "No Data for Heparin Sodium<>Uric Acid pair\n",
      "No Data for Heparin Sodium<>Uric Acid pair\n",
      "No Data for Heparin Sodium<>Uric Acid, Urine pair\n",
      "No Data for Heparin Sodium<>Uric Acid, Urine pair\n",
      "No Data for Heparin Sodium<>Vitamin B12 pair\n",
      "No Data for Heparin Sodium<>Vitamin B12 pair\n",
      "No Data for Heparin Sodium (Prophylaxis)<>Albumin pair\n",
      "No Data for Heparin Sodium (Prophylaxis)<>Albumin pair\n",
      "No Data for Heparin Sodium (Prophylaxis)<>Bilirubin pair\n",
      "No Data for Heparin Sodium (Prophylaxis)<>Bilirubin pair\n",
      "No Data for Heparin Sodium (Prophylaxis)<>Calcium pair\n",
      "No Data for Heparin Sodium (Prophylaxis)<>Calcium pair\n",
      "No Data for Heparin Sodium (Prophylaxis)<>Calcium ionized pair\n",
      "No Data for Heparin Sodium (Prophylaxis)<>Calcium ionized pair\n",
      "No Data for Heparin Sodium (Prophylaxis)<>Creatinine pair\n",
      "No Data for Heparin Sodium (Prophylaxis)<>Creatinine pair\n",
      "No Data for Heparin Sodium (Prophylaxis)<>Creatinine ascites pair\n",
      "No Data for Heparin Sodium (Prophylaxis)<>Creatinine ascites pair\n",
      "No Data for Heparin Sodium (Prophylaxis)<>Hemoglobin pair\n",
      "No Data for Heparin Sodium (Prophylaxis)<>Hemoglobin pair\n",
      "No Data for Heparin Sodium (Prophylaxis)<>Hemoglobin A2 pair\n",
      "No Data for Heparin Sodium (Prophylaxis)<>Hemoglobin A2 pair\n",
      "No Data for Heparin Sodium (Prophylaxis)<>Hemoglobin C pair\n",
      "No Data for Heparin Sodium (Prophylaxis)<>Hemoglobin C pair\n",
      "No Data for Heparin Sodium (Prophylaxis)<>Hemoglobin percent pair\n",
      "No Data for Heparin Sodium (Prophylaxis)<>Hemoglobin percent pair\n",
      "No Data for Heparin Sodium (Prophylaxis)<>Lactic acid pair\n",
      "No Data for Heparin Sodium (Prophylaxis)<>Lactic acid pair\n",
      "No Data for Heparin Sodium (Prophylaxis)<>Magnesium pair\n",
      "No Data for Heparin Sodium (Prophylaxis)<>Magnesium pair\n",
      "No Data for Heparin Sodium (Prophylaxis)<>Magnesium, Urine pair\n",
      "No Data for Heparin Sodium (Prophylaxis)<>Magnesium, Urine pair\n",
      "No Data for Heparin Sodium (Prophylaxis)<>Potassium pair\n",
      "No Data for Heparin Sodium (Prophylaxis)<>Potassium pair\n",
      "No Data for Heparin Sodium (Prophylaxis)<>Prolactin pair\n",
      "No Data for Heparin Sodium (Prophylaxis)<>Prolactin pair\n",
      "No Data for Heparin Sodium (Prophylaxis)<>Prothrombin time INR pair\n",
      "No Data for Heparin Sodium (Prophylaxis)<>Prothrombin time INR pair\n",
      "No Data for Heparin Sodium (Prophylaxis)<>Red blood cell pair\n",
      "No Data for Heparin Sodium (Prophylaxis)<>Red blood cell pair\n",
      "No Data for Heparin Sodium (Prophylaxis)<>Uric Acid pair\n",
      "No Data for Heparin Sodium (Prophylaxis)<>Uric Acid pair\n",
      "No Data for Heparin Sodium (Prophylaxis)<>Uric Acid, Urine pair\n",
      "No Data for Heparin Sodium (Prophylaxis)<>Uric Acid, Urine pair\n",
      "No Data for Hetastarch (Hespan) 6%<>Alanine aminotransferase pair\n",
      "No Data for Hetastarch (Hespan) 6%<>Alanine aminotransferase pair\n",
      "No Data for Hetastarch (Hespan) 6%<>Albumin pair\n",
      "No Data for Hetastarch (Hespan) 6%<>Albumin pair\n",
      "No Data for Hetastarch (Hespan) 6%<>Amylase pair\n",
      "No Data for Hetastarch (Hespan) 6%<>Amylase pair\n",
      "No Data for Hetastarch (Hespan) 6%<>Asparate aminotransferase pair\n",
      "No Data for Hetastarch (Hespan) 6%<>Asparate aminotransferase pair\n",
      "No Data for Hetastarch (Hespan) 6%<>Bilirubin pair\n",
      "No Data for Hetastarch (Hespan) 6%<>Bilirubin pair\n",
      "No Data for Hetastarch (Hespan) 6%<>Calcium pair\n",
      "No Data for Hetastarch (Hespan) 6%<>Calcium pair\n",
      "No Data for Hetastarch (Hespan) 6%<>Calcium ionized pair\n",
      "No Data for Hetastarch (Hespan) 6%<>Calcium ionized pair\n",
      "No Data for Hetastarch (Hespan) 6%<>Creatinine pair\n",
      "No Data for Hetastarch (Hespan) 6%<>Creatinine pair\n",
      "No Data for Hetastarch (Hespan) 6%<>Hemoglobin pair\n",
      "No Data for Hetastarch (Hespan) 6%<>Hemoglobin pair\n",
      "No Data for Hetastarch (Hespan) 6%<>Lactic acid pair\n",
      "No Data for Hetastarch (Hespan) 6%<>Lactic acid pair\n",
      "No Data for Hetastarch (Hespan) 6%<>Lipase pair\n",
      "No Data for Hetastarch (Hespan) 6%<>Lipase pair\n",
      "No Data for Hetastarch (Hespan) 6%<>Magnesium pair\n",
      "No Data for Hetastarch (Hespan) 6%<>Magnesium pair\n",
      "No Data for Hetastarch (Hespan) 6%<>PTT pair\n",
      "No Data for Hetastarch (Hespan) 6%<>PTT pair\n",
      "No Data for Hetastarch (Hespan) 6%<>Potassium pair\n",
      "No Data for Hetastarch (Hespan) 6%<>Potassium pair\n",
      "No Data for Hetastarch (Hespan) 6%<>Prothrombin time INR pair\n",
      "No Data for Hetastarch (Hespan) 6%<>Prothrombin time INR pair\n",
      "No Data for Hetastarch (Hespan) 6%<>Red blood cell pair\n",
      "No Data for Hetastarch (Hespan) 6%<>Red blood cell pair\n",
      "No Data for Hydralazine<>Albumin pair\n",
      "No Data for Hydralazine<>Albumin pair\n",
      "No Data for Hydralazine<>Bilirubin pair\n",
      "No Data for Hydralazine<>Bilirubin pair\n",
      "No Data for Hydralazine<>Calcium pair\n",
      "No Data for Hydralazine<>Calcium pair\n",
      "No Data for Hydralazine<>Calcium ionized pair\n",
      "No Data for Hydralazine<>Calcium ionized pair\n",
      "No Data for Hydralazine<>Creatinine pair\n",
      "No Data for Hydralazine<>Creatinine pair\n",
      "No Data for Hydralazine<>Hemoglobin pair\n",
      "No Data for Hydralazine<>Hemoglobin pair\n",
      "No Data for Hydralazine<>Hemoglobin percent pair\n",
      "No Data for Hydralazine<>Hemoglobin percent pair\n",
      "No Data for Hydralazine<>Lactic acid pair\n",
      "No Data for Hydralazine<>Lactic acid pair\n",
      "No Data for Hydralazine<>Magnesium pair\n",
      "No Data for Hydralazine<>Magnesium pair\n",
      "No Data for Hydralazine<>Magnesium, Urine pair\n",
      "No Data for Hydralazine<>Magnesium, Urine pair\n",
      "No Data for Hydralazine<>Potassium pair\n",
      "No Data for Hydralazine<>Potassium pair\n",
      "No Data for Hydralazine<>Prothrombin time INR pair\n",
      "No Data for Hydralazine<>Prothrombin time INR pair\n",
      "No Data for Hydralazine<>Red blood cell pair\n",
      "No Data for Hydralazine<>Red blood cell pair\n",
      "No Data for Hydralazine<>Uric Acid pair\n",
      "No Data for Hydralazine<>Uric Acid pair\n",
      "No Data for Hydralazine<>Vitamin B12 pair\n",
      "No Data for Hydralazine<>Vitamin B12 pair\n",
      "No Data for Hydrochloric Acid - HCL<>Alanine aminotransferase pair\n",
      "No Data for Hydrochloric Acid - HCL<>Alanine aminotransferase pair\n",
      "No Data for Hydrochloric Acid - HCL<>Albumin pair\n",
      "No Data for Hydrochloric Acid - HCL<>Albumin pair\n",
      "No Data for Hydrochloric Acid - HCL<>Asparate aminotransferase pair\n",
      "No Data for Hydrochloric Acid - HCL<>Asparate aminotransferase pair\n",
      "No Data for Hydrochloric Acid - HCL<>Bilirubin pair\n",
      "No Data for Hydrochloric Acid - HCL<>Bilirubin pair\n",
      "No Data for Hydrochloric Acid - HCL<>Calcium pair\n",
      "No Data for Hydrochloric Acid - HCL<>Calcium pair\n",
      "No Data for Hydrochloric Acid - HCL<>Calcium ionized pair\n",
      "No Data for Hydrochloric Acid - HCL<>Calcium ionized pair\n",
      "No Data for Hydrochloric Acid - HCL<>Creatinine pair\n",
      "No Data for Hydrochloric Acid - HCL<>Creatinine pair\n",
      "No Data for Hydrochloric Acid - HCL<>Glucose pair\n",
      "No Data for Hydrochloric Acid - HCL<>Glucose pair\n",
      "No Data for Hydrochloric Acid - HCL<>Hematocrit pair\n",
      "No Data for Hydrochloric Acid - HCL<>Hematocrit pair\n",
      "No Data for Hydrochloric Acid - HCL<>Hemoglobin pair\n",
      "No Data for Hydrochloric Acid - HCL<>Hemoglobin pair\n",
      "No Data for Hydrochloric Acid - HCL<>Lactic acid pair\n",
      "No Data for Hydrochloric Acid - HCL<>Lactic acid pair\n",
      "No Data for Hydrochloric Acid - HCL<>Magnesium pair\n",
      "No Data for Hydrochloric Acid - HCL<>Magnesium pair\n",
      "No Data for Hydrochloric Acid - HCL<>PTT pair\n",
      "No Data for Hydrochloric Acid - HCL<>PTT pair\n",
      "No Data for Hydrochloric Acid - HCL<>Platelets pair\n",
      "No Data for Hydrochloric Acid - HCL<>Platelets pair\n",
      "No Data for Hydrochloric Acid - HCL<>Potassium pair\n",
      "No Data for Hydrochloric Acid - HCL<>Potassium pair\n",
      "No Data for Hydrochloric Acid - HCL<>Prothrombin time INR pair\n",
      "No Data for Hydrochloric Acid - HCL<>Prothrombin time INR pair\n",
      "No Data for Hydrochloric Acid - HCL<>Red blood cell pair\n",
      "No Data for Hydrochloric Acid - HCL<>Red blood cell pair\n",
      "No Data for Hydrochloric Acid - HCL<>Sodium pair\n",
      "No Data for Hydrochloric Acid - HCL<>Sodium pair\n",
      "No Data for Hydromorphone (Dilaudid)<>Albumin pair\n",
      "No Data for Hydromorphone (Dilaudid)<>Albumin pair\n",
      "No Data for Hydromorphone (Dilaudid)<>Amylase pair\n",
      "No Data for Hydromorphone (Dilaudid)<>Amylase pair\n",
      "No Data for Hydromorphone (Dilaudid)<>Bilirubin pair\n",
      "No Data for Hydromorphone (Dilaudid)<>Bilirubin pair\n",
      "No Data for Hydromorphone (Dilaudid)<>Calcium pair\n",
      "No Data for Hydromorphone (Dilaudid)<>Calcium pair\n",
      "No Data for Hydromorphone (Dilaudid)<>Calcium ionized pair\n",
      "No Data for Hydromorphone (Dilaudid)<>Calcium ionized pair\n",
      "No Data for Hydromorphone (Dilaudid)<>Creatinine pair\n",
      "No Data for Hydromorphone (Dilaudid)<>Creatinine pair\n",
      "No Data for Hydromorphone (Dilaudid)<>Hemoglobin pair\n",
      "No Data for Hydromorphone (Dilaudid)<>Hemoglobin pair\n",
      "No Data for Hydromorphone (Dilaudid)<>Hemoglobin percent pair\n",
      "No Data for Hydromorphone (Dilaudid)<>Hemoglobin percent pair\n",
      "No Data for Hydromorphone (Dilaudid)<>Lactic acid pair\n",
      "No Data for Hydromorphone (Dilaudid)<>Lactic acid pair\n",
      "No Data for Hydromorphone (Dilaudid)<>Magnesium pair\n",
      "No Data for Hydromorphone (Dilaudid)<>Magnesium pair\n",
      "No Data for Hydromorphone (Dilaudid)<>Magnesium, Urine pair\n",
      "No Data for Hydromorphone (Dilaudid)<>Magnesium, Urine pair\n",
      "No Data for Hydromorphone (Dilaudid)<>Potassium pair\n",
      "No Data for Hydromorphone (Dilaudid)<>Potassium pair\n",
      "No Data for Hydromorphone (Dilaudid)<>Prothrombin time INR pair\n",
      "No Data for Hydromorphone (Dilaudid)<>Prothrombin time INR pair\n",
      "No Data for Hydromorphone (Dilaudid)<>Red blood cell pair\n",
      "No Data for Hydromorphone (Dilaudid)<>Red blood cell pair\n",
      "No Data for Hydromorphone (Dilaudid)<>Uric Acid pair\n",
      "No Data for Hydromorphone (Dilaudid)<>Uric Acid pair\n",
      "No Data for Hydromorphone (Dilaudid)<>Uric Acid, Urine pair\n",
      "No Data for Hydromorphone (Dilaudid)<>Uric Acid, Urine pair\n",
      "No Data for Hydromorphone (Dilaudid)<>Vitamin B12 pair\n",
      "No Data for Hydromorphone (Dilaudid)<>Vitamin B12 pair\n",
      "No Data for IV Immune Globulin (IVIG)<>Alanine aminotransferase pair\n",
      "No Data for IV Immune Globulin (IVIG)<>Alanine aminotransferase pair\n",
      "No Data for IV Immune Globulin (IVIG)<>Albumin pair\n",
      "No Data for IV Immune Globulin (IVIG)<>Albumin pair\n",
      "No Data for IV Immune Globulin (IVIG)<>Amylase pair\n",
      "No Data for IV Immune Globulin (IVIG)<>Amylase pair\n",
      "No Data for IV Immune Globulin (IVIG)<>Asparate aminotransferase pair\n",
      "No Data for IV Immune Globulin (IVIG)<>Asparate aminotransferase pair\n",
      "No Data for IV Immune Globulin (IVIG)<>Bilirubin pair\n",
      "No Data for IV Immune Globulin (IVIG)<>Bilirubin pair\n",
      "No Data for IV Immune Globulin (IVIG)<>Calcium pair\n",
      "No Data for IV Immune Globulin (IVIG)<>Calcium pair\n",
      "No Data for IV Immune Globulin (IVIG)<>Calcium ionized pair\n",
      "No Data for IV Immune Globulin (IVIG)<>Calcium ionized pair\n",
      "No Data for IV Immune Globulin (IVIG)<>Creatinine pair\n",
      "No Data for IV Immune Globulin (IVIG)<>Creatinine pair\n",
      "No Data for IV Immune Globulin (IVIG)<>Hemoglobin pair\n",
      "No Data for IV Immune Globulin (IVIG)<>Hemoglobin pair\n",
      "No Data for IV Immune Globulin (IVIG)<>Lactic acid pair\n",
      "No Data for IV Immune Globulin (IVIG)<>Lactic acid pair\n",
      "No Data for IV Immune Globulin (IVIG)<>Lipase pair\n",
      "No Data for IV Immune Globulin (IVIG)<>Lipase pair\n",
      "No Data for IV Immune Globulin (IVIG)<>Magnesium pair\n",
      "No Data for IV Immune Globulin (IVIG)<>Magnesium pair\n",
      "No Data for IV Immune Globulin (IVIG)<>Potassium pair\n",
      "No Data for IV Immune Globulin (IVIG)<>Potassium pair\n",
      "No Data for IV Immune Globulin (IVIG)<>Prothrombin time INR pair\n",
      "No Data for IV Immune Globulin (IVIG)<>Prothrombin time INR pair\n",
      "No Data for IV Immune Globulin (IVIG)<>Red blood cell pair\n",
      "No Data for IV Immune Globulin (IVIG)<>Red blood cell pair\n",
      "No Data for IV Immune Globulin (IVIG)<>Uric Acid, Urine pair\n",
      "No Data for IV Immune Globulin (IVIG)<>Uric Acid, Urine pair\n",
      "No Data for IV Immune Globulin (IVIG)<>Vitamin B12 pair\n",
      "No Data for IV Immune Globulin (IVIG)<>Vitamin B12 pair\n",
      "No Data for Imipenem/Cilastatin<>Alanine aminotransferase pair\n",
      "No Data for Imipenem/Cilastatin<>Alanine aminotransferase pair\n",
      "No Data for Imipenem/Cilastatin<>Albumin pair\n",
      "No Data for Imipenem/Cilastatin<>Albumin pair\n",
      "No Data for Imipenem/Cilastatin<>Amylase pair\n",
      "No Data for Imipenem/Cilastatin<>Amylase pair\n",
      "No Data for Imipenem/Cilastatin<>Asparate aminotransferase pair\n",
      "No Data for Imipenem/Cilastatin<>Asparate aminotransferase pair\n",
      "No Data for Imipenem/Cilastatin<>Bilirubin pair\n",
      "No Data for Imipenem/Cilastatin<>Bilirubin pair\n",
      "No Data for Imipenem/Cilastatin<>Calcium pair\n",
      "No Data for Imipenem/Cilastatin<>Calcium pair\n",
      "No Data for Imipenem/Cilastatin<>Calcium ionized pair\n",
      "No Data for Imipenem/Cilastatin<>Calcium ionized pair\n",
      "No Data for Imipenem/Cilastatin<>Creatinine pair\n",
      "No Data for Imipenem/Cilastatin<>Creatinine pair\n",
      "No Data for Imipenem/Cilastatin<>Hemoglobin pair\n",
      "No Data for Imipenem/Cilastatin<>Hemoglobin pair\n",
      "No Data for Imipenem/Cilastatin<>Lactic acid pair\n",
      "No Data for Imipenem/Cilastatin<>Lactic acid pair\n",
      "No Data for Imipenem/Cilastatin<>Lipase pair\n",
      "No Data for Imipenem/Cilastatin<>Lipase pair\n",
      "No Data for Imipenem/Cilastatin<>Magnesium pair\n",
      "No Data for Imipenem/Cilastatin<>Magnesium pair\n",
      "No Data for Imipenem/Cilastatin<>Magnesium, Urine pair\n",
      "No Data for Imipenem/Cilastatin<>Magnesium, Urine pair\n",
      "No Data for Imipenem/Cilastatin<>Potassium pair\n",
      "No Data for Imipenem/Cilastatin<>Potassium pair\n",
      "No Data for Imipenem/Cilastatin<>Prothrombin time INR pair\n",
      "No Data for Imipenem/Cilastatin<>Prothrombin time INR pair\n",
      "No Data for Imipenem/Cilastatin<>Red blood cell pair\n",
      "No Data for Imipenem/Cilastatin<>Red blood cell pair\n",
      "No Data for Imipenem/Cilastatin<>Vitamin B12 pair\n",
      "No Data for Imipenem/Cilastatin<>Vitamin B12 pair\n",
      "No Data for Impact (1/2)<>Alanine aminotransferase pair\n",
      "No Data for Impact (1/2)<>Alanine aminotransferase pair\n",
      "No Data for Impact (1/2)<>Albumin pair\n",
      "No Data for Impact (1/2)<>Albumin pair\n",
      "No Data for Impact (1/2)<>Amylase pair\n",
      "No Data for Impact (1/2)<>Amylase pair\n",
      "No Data for Impact (1/2)<>Asparate aminotransferase pair\n",
      "No Data for Impact (1/2)<>Asparate aminotransferase pair\n",
      "No Data for Impact (1/2)<>Bilirubin pair\n",
      "No Data for Impact (1/2)<>Bilirubin pair\n",
      "No Data for Impact (1/2)<>Calcium pair\n",
      "No Data for Impact (1/2)<>Calcium pair\n",
      "No Data for Impact (1/2)<>Calcium ionized pair\n",
      "No Data for Impact (1/2)<>Calcium ionized pair\n",
      "No Data for Impact (1/2)<>Creatinine pair\n",
      "No Data for Impact (1/2)<>Creatinine pair\n",
      "No Data for Impact (1/2)<>Glucose pair\n",
      "No Data for Impact (1/2)<>Glucose pair\n",
      "No Data for Impact (1/2)<>Hematocrit pair\n",
      "No Data for Impact (1/2)<>Hematocrit pair\n",
      "No Data for Impact (1/2)<>Hemoglobin pair\n",
      "No Data for Impact (1/2)<>Hemoglobin pair\n",
      "No Data for Impact (1/2)<>Lactic acid pair\n",
      "No Data for Impact (1/2)<>Lactic acid pair\n",
      "No Data for Impact (1/2)<>Lipase pair\n",
      "No Data for Impact (1/2)<>Lipase pair\n",
      "No Data for Impact (1/2)<>Magnesium pair\n",
      "No Data for Impact (1/2)<>Magnesium pair\n",
      "No Data for Impact (1/2)<>PTT pair\n",
      "No Data for Impact (1/2)<>PTT pair\n",
      "No Data for Impact (1/2)<>Platelets pair\n",
      "No Data for Impact (1/2)<>Platelets pair\n",
      "No Data for Impact (1/2)<>Potassium pair\n",
      "No Data for Impact (1/2)<>Potassium pair\n",
      "No Data for Impact (1/2)<>Prothrombin time INR pair\n",
      "No Data for Impact (1/2)<>Prothrombin time INR pair\n",
      "No Data for Impact (1/2)<>Red blood cell pair\n",
      "No Data for Impact (1/2)<>Red blood cell pair\n",
      "No Data for Impact (1/2)<>Sodium pair\n",
      "No Data for Impact (1/2)<>Sodium pair\n",
      "No Data for Impact (3/4)<>Calcium pair\n",
      "No Data for Impact (3/4)<>Calcium pair\n",
      "No Data for Impact (3/4)<>Calcium ionized pair\n",
      "No Data for Impact (3/4)<>Calcium ionized pair\n",
      "No Data for Impact (3/4)<>Creatinine pair\n",
      "No Data for Impact (3/4)<>Creatinine pair\n",
      "No Data for Impact (3/4)<>Glucose pair\n",
      "No Data for Impact (3/4)<>Glucose pair\n",
      "No Data for Impact (3/4)<>Hematocrit pair\n",
      "No Data for Impact (3/4)<>Hematocrit pair\n",
      "No Data for Impact (3/4)<>Hemoglobin pair\n",
      "No Data for Impact (3/4)<>Hemoglobin pair\n",
      "No Data for Impact (3/4)<>Lactic acid pair\n",
      "No Data for Impact (3/4)<>Lactic acid pair\n",
      "No Data for Impact (3/4)<>Magnesium pair\n",
      "No Data for Impact (3/4)<>Magnesium pair\n",
      "No Data for Impact (3/4)<>PTT pair\n",
      "No Data for Impact (3/4)<>PTT pair\n",
      "No Data for Impact (3/4)<>Platelets pair\n",
      "No Data for Impact (3/4)<>Platelets pair\n",
      "No Data for Impact (3/4)<>Potassium pair\n",
      "No Data for Impact (3/4)<>Potassium pair\n",
      "No Data for Impact (3/4)<>Prothrombin time INR pair\n",
      "No Data for Impact (3/4)<>Prothrombin time INR pair\n",
      "No Data for Impact (3/4)<>Red blood cell pair\n",
      "No Data for Impact (3/4)<>Red blood cell pair\n",
      "No Data for Impact (3/4)<>Sodium pair\n",
      "No Data for Impact (3/4)<>Sodium pair\n",
      "No Data for Impact (Full)<>Alanine aminotransferase pair\n",
      "No Data for Impact (Full)<>Alanine aminotransferase pair\n",
      "No Data for Impact (Full)<>Albumin pair\n",
      "No Data for Impact (Full)<>Albumin pair\n",
      "No Data for Impact (Full)<>Asparate aminotransferase pair\n",
      "No Data for Impact (Full)<>Asparate aminotransferase pair\n",
      "No Data for Impact (Full)<>Calcium pair\n",
      "No Data for Impact (Full)<>Calcium pair\n",
      "No Data for Impact (Full)<>Calcium ionized pair\n",
      "No Data for Impact (Full)<>Calcium ionized pair\n",
      "No Data for Impact (Full)<>Creatinine pair\n",
      "No Data for Impact (Full)<>Creatinine pair\n",
      "No Data for Impact (Full)<>Glucose pair\n",
      "No Data for Impact (Full)<>Glucose pair\n",
      "No Data for Impact (Full)<>Hematocrit pair\n",
      "No Data for Impact (Full)<>Hematocrit pair\n",
      "No Data for Impact (Full)<>Hemoglobin pair\n",
      "No Data for Impact (Full)<>Hemoglobin pair\n",
      "No Data for Impact (Full)<>Magnesium pair\n",
      "No Data for Impact (Full)<>Magnesium pair\n",
      "No Data for Impact (Full)<>PTT pair\n",
      "No Data for Impact (Full)<>PTT pair\n",
      "No Data for Impact (Full)<>Platelets pair\n",
      "No Data for Impact (Full)<>Platelets pair\n",
      "No Data for Impact (Full)<>Potassium pair\n",
      "No Data for Impact (Full)<>Potassium pair\n",
      "No Data for Impact (Full)<>Prothrombin time INR pair\n",
      "No Data for Impact (Full)<>Prothrombin time INR pair\n",
      "No Data for Impact (Full)<>Red blood cell pair\n",
      "No Data for Impact (Full)<>Red blood cell pair\n",
      "No Data for Impact (Full)<>Sodium pair\n",
      "No Data for Impact (Full)<>Sodium pair\n",
      "No Data for Impact with Fiber (1/2)<>Alanine aminotransferase pair\n",
      "No Data for Impact with Fiber (1/2)<>Alanine aminotransferase pair\n",
      "No Data for Impact with Fiber (1/2)<>Albumin pair\n",
      "No Data for Impact with Fiber (1/2)<>Albumin pair\n",
      "No Data for Impact with Fiber (1/2)<>Amylase pair\n",
      "No Data for Impact with Fiber (1/2)<>Amylase pair\n",
      "No Data for Impact with Fiber (1/2)<>Asparate aminotransferase pair\n",
      "No Data for Impact with Fiber (1/2)<>Asparate aminotransferase pair\n",
      "No Data for Impact with Fiber (1/2)<>Bilirubin pair\n",
      "No Data for Impact with Fiber (1/2)<>Bilirubin pair\n",
      "No Data for Impact with Fiber (1/2)<>Calcium pair\n",
      "No Data for Impact with Fiber (1/2)<>Calcium pair\n",
      "No Data for Impact with Fiber (1/2)<>Calcium ionized pair\n",
      "No Data for Impact with Fiber (1/2)<>Calcium ionized pair\n",
      "No Data for Impact with Fiber (1/2)<>Creatinine pair\n",
      "No Data for Impact with Fiber (1/2)<>Creatinine pair\n",
      "No Data for Impact with Fiber (1/2)<>Glucose pair\n",
      "No Data for Impact with Fiber (1/2)<>Glucose pair\n",
      "No Data for Impact with Fiber (1/2)<>Hematocrit pair\n",
      "No Data for Impact with Fiber (1/2)<>Hematocrit pair\n",
      "No Data for Impact with Fiber (1/2)<>Hemoglobin pair\n",
      "No Data for Impact with Fiber (1/2)<>Hemoglobin pair\n",
      "No Data for Impact with Fiber (1/2)<>Lactic acid pair\n",
      "No Data for Impact with Fiber (1/2)<>Lactic acid pair\n",
      "No Data for Impact with Fiber (1/2)<>Lipase pair\n",
      "No Data for Impact with Fiber (1/2)<>Lipase pair\n",
      "No Data for Impact with Fiber (1/2)<>Magnesium pair\n",
      "No Data for Impact with Fiber (1/2)<>Magnesium pair\n",
      "No Data for Impact with Fiber (1/2)<>PTT pair\n",
      "No Data for Impact with Fiber (1/2)<>PTT pair\n",
      "No Data for Impact with Fiber (1/2)<>Platelets pair\n",
      "No Data for Impact with Fiber (1/2)<>Platelets pair\n",
      "No Data for Impact with Fiber (1/2)<>Potassium pair\n",
      "No Data for Impact with Fiber (1/2)<>Potassium pair\n",
      "No Data for Impact with Fiber (1/2)<>Prothrombin time INR pair\n",
      "No Data for Impact with Fiber (1/2)<>Prothrombin time INR pair\n",
      "No Data for Impact with Fiber (1/2)<>Red blood cell pair\n",
      "No Data for Impact with Fiber (1/2)<>Red blood cell pair\n",
      "No Data for Impact with Fiber (1/2)<>Sodium pair\n",
      "No Data for Impact with Fiber (1/2)<>Sodium pair\n",
      "No Data for Impact with Fiber (Full)<>Alanine aminotransferase pair\n",
      "No Data for Impact with Fiber (Full)<>Alanine aminotransferase pair\n",
      "No Data for Impact with Fiber (Full)<>Albumin pair\n",
      "No Data for Impact with Fiber (Full)<>Albumin pair\n",
      "No Data for Impact with Fiber (Full)<>Amylase pair\n",
      "No Data for Impact with Fiber (Full)<>Amylase pair\n",
      "No Data for Impact with Fiber (Full)<>Asparate aminotransferase pair\n",
      "No Data for Impact with Fiber (Full)<>Asparate aminotransferase pair\n",
      "No Data for Impact with Fiber (Full)<>Bilirubin pair\n",
      "No Data for Impact with Fiber (Full)<>Bilirubin pair\n",
      "No Data for Impact with Fiber (Full)<>Calcium pair\n",
      "No Data for Impact with Fiber (Full)<>Calcium pair\n",
      "No Data for Impact with Fiber (Full)<>Calcium ionized pair\n",
      "No Data for Impact with Fiber (Full)<>Calcium ionized pair\n",
      "No Data for Impact with Fiber (Full)<>Creatinine pair\n",
      "No Data for Impact with Fiber (Full)<>Creatinine pair\n",
      "No Data for Impact with Fiber (Full)<>Hemoglobin pair\n",
      "No Data for Impact with Fiber (Full)<>Hemoglobin pair\n",
      "No Data for Impact with Fiber (Full)<>Lactic acid pair\n",
      "No Data for Impact with Fiber (Full)<>Lactic acid pair\n",
      "No Data for Impact with Fiber (Full)<>Lipase pair\n",
      "No Data for Impact with Fiber (Full)<>Lipase pair\n",
      "No Data for Impact with Fiber (Full)<>Magnesium pair\n",
      "No Data for Impact with Fiber (Full)<>Magnesium pair\n",
      "No Data for Impact with Fiber (Full)<>PTT pair\n",
      "No Data for Impact with Fiber (Full)<>PTT pair\n",
      "No Data for Impact with Fiber (Full)<>Potassium pair\n",
      "No Data for Impact with Fiber (Full)<>Potassium pair\n",
      "No Data for Impact with Fiber (Full)<>Prothrombin time INR pair\n",
      "No Data for Impact with Fiber (Full)<>Prothrombin time INR pair\n",
      "No Data for Impact with Fiber (Full)<>Red blood cell pair\n",
      "No Data for Impact with Fiber (Full)<>Red blood cell pair\n",
      "No Data for Insulin - 70/30<>Albumin pair\n",
      "No Data for Insulin - 70/30<>Albumin pair\n",
      "No Data for Insulin - 70/30<>Amylase pair\n",
      "No Data for Insulin - 70/30<>Amylase pair\n",
      "No Data for Insulin - 70/30<>Bilirubin pair\n",
      "No Data for Insulin - 70/30<>Bilirubin pair\n",
      "No Data for Insulin - 70/30<>Calcium pair\n",
      "No Data for Insulin - 70/30<>Calcium pair\n",
      "No Data for Insulin - 70/30<>Calcium ionized pair\n",
      "No Data for Insulin - 70/30<>Calcium ionized pair\n",
      "No Data for Insulin - 70/30<>Creatinine pair\n",
      "No Data for Insulin - 70/30<>Creatinine pair\n",
      "No Data for Insulin - 70/30<>Hemoglobin pair\n",
      "No Data for Insulin - 70/30<>Hemoglobin pair\n",
      "No Data for Insulin - 70/30<>Hemoglobin percent pair\n",
      "No Data for Insulin - 70/30<>Hemoglobin percent pair\n",
      "No Data for Insulin - 70/30<>Lactic acid pair\n",
      "No Data for Insulin - 70/30<>Lactic acid pair\n",
      "No Data for Insulin - 70/30<>Lipase pair\n",
      "No Data for Insulin - 70/30<>Lipase pair\n",
      "No Data for Insulin - 70/30<>Magnesium pair\n",
      "No Data for Insulin - 70/30<>Magnesium pair\n",
      "No Data for Insulin - 70/30<>Potassium pair\n",
      "No Data for Insulin - 70/30<>Potassium pair\n",
      "No Data for Insulin - 70/30<>Prothrombin time INR pair\n",
      "No Data for Insulin - 70/30<>Prothrombin time INR pair\n",
      "No Data for Insulin - 70/30<>Red blood cell pair\n",
      "No Data for Insulin - 70/30<>Red blood cell pair\n",
      "No Data for Insulin - 70/30<>Uric Acid pair\n",
      "No Data for Insulin - 70/30<>Uric Acid pair\n",
      "No Data for Insulin - 70/30<>Vitamin B12 pair\n",
      "No Data for Insulin - 70/30<>Vitamin B12 pair\n",
      "No Data for Insulin - Glargine<>Albumin pair\n",
      "No Data for Insulin - Glargine<>Albumin pair\n",
      "No Data for Insulin - Glargine<>Amylase pair\n",
      "No Data for Insulin - Glargine<>Amylase pair\n",
      "No Data for Insulin - Glargine<>Bilirubin pair\n",
      "No Data for Insulin - Glargine<>Bilirubin pair\n",
      "No Data for Insulin - Glargine<>Calcium pair\n",
      "No Data for Insulin - Glargine<>Calcium pair\n",
      "No Data for Insulin - Glargine<>Calcium ionized pair\n",
      "No Data for Insulin - Glargine<>Calcium ionized pair\n",
      "No Data for Insulin - Glargine<>Creatinine pair\n",
      "No Data for Insulin - Glargine<>Creatinine pair\n",
      "No Data for Insulin - Glargine<>Hemoglobin pair\n",
      "No Data for Insulin - Glargine<>Hemoglobin pair\n",
      "No Data for Insulin - Glargine<>Hemoglobin percent pair\n",
      "No Data for Insulin - Glargine<>Hemoglobin percent pair\n",
      "No Data for Insulin - Glargine<>Lactic acid pair\n",
      "No Data for Insulin - Glargine<>Lactic acid pair\n",
      "No Data for Insulin - Glargine<>Lipase pair\n",
      "No Data for Insulin - Glargine<>Lipase pair\n",
      "No Data for Insulin - Glargine<>Magnesium pair\n",
      "No Data for Insulin - Glargine<>Magnesium pair\n",
      "No Data for Insulin - Glargine<>Potassium pair\n",
      "No Data for Insulin - Glargine<>Potassium pair\n",
      "No Data for Insulin - Glargine<>Prolactin pair\n",
      "No Data for Insulin - Glargine<>Prolactin pair\n",
      "No Data for Insulin - Glargine<>Prothrombin time INR pair\n",
      "No Data for Insulin - Glargine<>Prothrombin time INR pair\n",
      "No Data for Insulin - Glargine<>Red blood cell pair\n",
      "No Data for Insulin - Glargine<>Red blood cell pair\n",
      "No Data for Insulin - Glargine<>Uric Acid pair\n",
      "No Data for Insulin - Glargine<>Uric Acid pair\n",
      "No Data for Insulin - Glargine<>Uric Acid, Urine pair\n",
      "No Data for Insulin - Glargine<>Uric Acid, Urine pair\n",
      "No Data for Insulin - Glargine<>Vitamin B12 pair\n",
      "No Data for Insulin - Glargine<>Vitamin B12 pair\n",
      "No Data for Insulin - Humalog<>Albumin pair\n",
      "No Data for Insulin - Humalog<>Albumin pair\n",
      "No Data for Insulin - Humalog<>Bilirubin pair\n",
      "No Data for Insulin - Humalog<>Bilirubin pair\n",
      "No Data for Insulin - Humalog<>Calcium pair\n",
      "No Data for Insulin - Humalog<>Calcium pair\n",
      "No Data for Insulin - Humalog<>Calcium ionized pair\n",
      "No Data for Insulin - Humalog<>Calcium ionized pair\n",
      "No Data for Insulin - Humalog<>Creatinine pair\n",
      "No Data for Insulin - Humalog<>Creatinine pair\n",
      "No Data for Insulin - Humalog<>Creatinine ascites pair\n",
      "No Data for Insulin - Humalog<>Creatinine ascites pair\n",
      "No Data for Insulin - Humalog<>Hemoglobin pair\n",
      "No Data for Insulin - Humalog<>Hemoglobin pair\n",
      "No Data for Insulin - Humalog<>Hemoglobin percent pair\n",
      "No Data for Insulin - Humalog<>Hemoglobin percent pair\n",
      "No Data for Insulin - Humalog<>Lactic acid pair\n",
      "No Data for Insulin - Humalog<>Lactic acid pair\n",
      "No Data for Insulin - Humalog<>Magnesium pair\n",
      "No Data for Insulin - Humalog<>Magnesium pair\n",
      "No Data for Insulin - Humalog<>Magnesium, Urine pair\n",
      "No Data for Insulin - Humalog<>Magnesium, Urine pair\n",
      "No Data for Insulin - Humalog<>Potassium pair\n",
      "No Data for Insulin - Humalog<>Potassium pair\n",
      "No Data for Insulin - Humalog<>Prolactin pair\n",
      "No Data for Insulin - Humalog<>Prolactin pair\n",
      "No Data for Insulin - Humalog<>Prothrombin time INR pair\n",
      "No Data for Insulin - Humalog<>Prothrombin time INR pair\n",
      "No Data for Insulin - Humalog<>Red blood cell pair\n",
      "No Data for Insulin - Humalog<>Red blood cell pair\n",
      "No Data for Insulin - Humalog<>Uric Acid pair\n",
      "No Data for Insulin - Humalog<>Uric Acid pair\n",
      "No Data for Insulin - Humalog<>Uric Acid, Urine pair\n",
      "No Data for Insulin - Humalog<>Uric Acid, Urine pair\n",
      "No Data for Insulin - Humalog<>Vitamin B12 pair\n",
      "No Data for Insulin - Humalog<>Vitamin B12 pair\n",
      "No Data for Insulin - Humalog 75/25<>Alanine aminotransferase pair\n",
      "No Data for Insulin - Humalog 75/25<>Alanine aminotransferase pair\n",
      "No Data for Insulin - Humalog 75/25<>Albumin pair\n",
      "No Data for Insulin - Humalog 75/25<>Albumin pair\n",
      "No Data for Insulin - Humalog 75/25<>Asparate aminotransferase pair\n",
      "No Data for Insulin - Humalog 75/25<>Asparate aminotransferase pair\n",
      "No Data for Insulin - Humalog 75/25<>Bilirubin pair\n",
      "No Data for Insulin - Humalog 75/25<>Bilirubin pair\n",
      "No Data for Insulin - Humalog 75/25<>Calcium pair\n",
      "No Data for Insulin - Humalog 75/25<>Calcium pair\n",
      "No Data for Insulin - Humalog 75/25<>Calcium ionized pair\n",
      "No Data for Insulin - Humalog 75/25<>Calcium ionized pair\n",
      "No Data for Insulin - Humalog 75/25<>Creatinine pair\n",
      "No Data for Insulin - Humalog 75/25<>Creatinine pair\n",
      "No Data for Insulin - Humalog 75/25<>Hemoglobin pair\n",
      "No Data for Insulin - Humalog 75/25<>Hemoglobin pair\n",
      "No Data for Insulin - Humalog 75/25<>Hemoglobin percent pair\n",
      "No Data for Insulin - Humalog 75/25<>Hemoglobin percent pair\n",
      "No Data for Insulin - Humalog 75/25<>Lactic acid pair\n",
      "No Data for Insulin - Humalog 75/25<>Lactic acid pair\n",
      "No Data for Insulin - Humalog 75/25<>Magnesium pair\n",
      "No Data for Insulin - Humalog 75/25<>Magnesium pair\n",
      "No Data for Insulin - Humalog 75/25<>Potassium pair\n",
      "No Data for Insulin - Humalog 75/25<>Potassium pair\n",
      "No Data for Insulin - Humalog 75/25<>Prothrombin time INR pair\n",
      "No Data for Insulin - Humalog 75/25<>Prothrombin time INR pair\n",
      "No Data for Insulin - Humalog 75/25<>Red blood cell pair\n",
      "No Data for Insulin - Humalog 75/25<>Red blood cell pair\n",
      "No Data for Insulin - NPH<>Alanine aminotransferase pair\n",
      "No Data for Insulin - NPH<>Alanine aminotransferase pair\n",
      "No Data for Insulin - NPH<>Albumin pair\n",
      "No Data for Insulin - NPH<>Albumin pair\n",
      "No Data for Insulin - NPH<>Amylase pair\n",
      "No Data for Insulin - NPH<>Amylase pair\n",
      "No Data for Insulin - NPH<>Asparate aminotransferase pair\n",
      "No Data for Insulin - NPH<>Asparate aminotransferase pair\n",
      "No Data for Insulin - NPH<>Bilirubin pair\n",
      "No Data for Insulin - NPH<>Bilirubin pair\n",
      "No Data for Insulin - NPH<>Calcium pair\n",
      "No Data for Insulin - NPH<>Calcium pair\n",
      "No Data for Insulin - NPH<>Calcium ionized pair\n",
      "No Data for Insulin - NPH<>Calcium ionized pair\n",
      "No Data for Insulin - NPH<>Creatinine pair\n",
      "No Data for Insulin - NPH<>Creatinine pair\n",
      "No Data for Insulin - NPH<>Hemoglobin pair\n",
      "No Data for Insulin - NPH<>Hemoglobin pair\n",
      "No Data for Insulin - NPH<>Hemoglobin percent pair\n",
      "No Data for Insulin - NPH<>Hemoglobin percent pair\n",
      "No Data for Insulin - NPH<>Lactic acid pair\n",
      "No Data for Insulin - NPH<>Lactic acid pair\n",
      "No Data for Insulin - NPH<>Lipase pair\n",
      "No Data for Insulin - NPH<>Lipase pair\n",
      "No Data for Insulin - NPH<>Magnesium pair\n",
      "No Data for Insulin - NPH<>Magnesium pair\n",
      "No Data for Insulin - NPH<>Magnesium, Urine pair\n",
      "No Data for Insulin - NPH<>Magnesium, Urine pair\n",
      "No Data for Insulin - NPH<>Potassium pair\n",
      "No Data for Insulin - NPH<>Potassium pair\n",
      "No Data for Insulin - NPH<>Prothrombin time INR pair\n",
      "No Data for Insulin - NPH<>Prothrombin time INR pair\n",
      "No Data for Insulin - NPH<>Red blood cell pair\n",
      "No Data for Insulin - NPH<>Red blood cell pair\n",
      "No Data for Insulin - NPH<>Uric Acid pair\n",
      "No Data for Insulin - NPH<>Uric Acid pair\n",
      "No Data for Insulin - NPH<>Vitamin B12 pair\n",
      "No Data for Insulin - NPH<>Vitamin B12 pair\n",
      "No Data for Insulin - Regular<>Albumin pair\n",
      "No Data for Insulin - Regular<>Albumin pair\n",
      "No Data for Insulin - Regular<>Bilirubin pair\n",
      "No Data for Insulin - Regular<>Bilirubin pair\n",
      "No Data for Insulin - Regular<>Calcium pair\n",
      "No Data for Insulin - Regular<>Calcium pair\n",
      "No Data for Insulin - Regular<>Calcium ionized pair\n",
      "No Data for Insulin - Regular<>Calcium ionized pair\n",
      "No Data for Insulin - Regular<>Creatinine pair\n",
      "No Data for Insulin - Regular<>Creatinine pair\n",
      "No Data for Insulin - Regular<>Creatinine ascites pair\n",
      "No Data for Insulin - Regular<>Creatinine ascites pair\n",
      "No Data for Insulin - Regular<>Hemoglobin pair\n",
      "No Data for Insulin - Regular<>Hemoglobin pair\n",
      "No Data for Insulin - Regular<>Hemoglobin percent pair\n",
      "No Data for Insulin - Regular<>Hemoglobin percent pair\n",
      "No Data for Insulin - Regular<>Lactic acid pair\n",
      "No Data for Insulin - Regular<>Lactic acid pair\n",
      "No Data for Insulin - Regular<>Magnesium pair\n",
      "No Data for Insulin - Regular<>Magnesium pair\n",
      "No Data for Insulin - Regular<>Magnesium, Urine pair\n",
      "No Data for Insulin - Regular<>Magnesium, Urine pair\n",
      "No Data for Insulin - Regular<>Potassium pair\n",
      "No Data for Insulin - Regular<>Potassium pair\n",
      "No Data for Insulin - Regular<>Prolactin pair\n",
      "No Data for Insulin - Regular<>Prolactin pair\n",
      "No Data for Insulin - Regular<>Prothrombin time INR pair\n",
      "No Data for Insulin - Regular<>Prothrombin time INR pair\n",
      "No Data for Insulin - Regular<>Red blood cell pair\n",
      "No Data for Insulin - Regular<>Red blood cell pair\n",
      "No Data for Insulin - Regular<>Uric Acid pair\n",
      "No Data for Insulin - Regular<>Uric Acid pair\n",
      "No Data for Insulin - Regular<>Uric Acid, Urine pair\n",
      "No Data for Insulin - Regular<>Uric Acid, Urine pair\n",
      "No Data for Insulin - Regular<>Vitamin B12 pair\n",
      "No Data for Insulin - Regular<>Vitamin B12 pair\n",
      "No Data for Isoniazid<>Alanine aminotransferase pair\n",
      "No Data for Isoniazid<>Alanine aminotransferase pair\n",
      "No Data for Isoniazid<>Albumin pair\n",
      "No Data for Isoniazid<>Albumin pair\n",
      "No Data for Isoniazid<>Asparate aminotransferase pair\n",
      "No Data for Isoniazid<>Asparate aminotransferase pair\n",
      "No Data for Isoniazid<>Bilirubin pair\n",
      "No Data for Isoniazid<>Bilirubin pair\n",
      "No Data for Isoniazid<>Calcium pair\n",
      "No Data for Isoniazid<>Calcium pair\n",
      "No Data for Isoniazid<>Creatinine pair\n",
      "No Data for Isoniazid<>Creatinine pair\n",
      "No Data for Isoniazid<>Glucose pair\n",
      "No Data for Isoniazid<>Glucose pair\n",
      "No Data for Isoniazid<>Hematocrit pair\n",
      "No Data for Isoniazid<>Hematocrit pair\n",
      "No Data for Isoniazid<>Hemoglobin pair\n",
      "No Data for Isoniazid<>Hemoglobin pair\n",
      "No Data for Isoniazid<>Magnesium pair\n",
      "No Data for Isoniazid<>Magnesium pair\n",
      "No Data for Isoniazid<>Platelets pair\n",
      "No Data for Isoniazid<>Platelets pair\n",
      "No Data for Isoniazid<>Potassium pair\n",
      "No Data for Isoniazid<>Potassium pair\n",
      "No Data for Isoniazid<>Red blood cell pair\n",
      "No Data for Isoniazid<>Red blood cell pair\n",
      "No Data for Isoniazid<>Sodium pair\n",
      "No Data for Isoniazid<>Sodium pair\n",
      "No Data for Isoniazid<>Uric Acid pair\n",
      "No Data for Isoniazid<>Uric Acid pair\n",
      "No Data for Isosource 1.5 (1/2)<>Calcium pair\n",
      "No Data for Isosource 1.5 (1/2)<>Calcium pair\n",
      "No Data for Isosource 1.5 (1/2)<>Creatinine pair\n",
      "No Data for Isosource 1.5 (1/2)<>Creatinine pair\n",
      "No Data for Isosource 1.5 (1/2)<>Glucose pair\n",
      "No Data for Isosource 1.5 (1/2)<>Glucose pair\n",
      "No Data for Isosource 1.5 (1/2)<>Hematocrit pair\n",
      "No Data for Isosource 1.5 (1/2)<>Hematocrit pair\n",
      "No Data for Isosource 1.5 (1/2)<>Hemoglobin pair\n",
      "No Data for Isosource 1.5 (1/2)<>Hemoglobin pair\n",
      "No Data for Isosource 1.5 (1/2)<>Magnesium pair\n",
      "No Data for Isosource 1.5 (1/2)<>Magnesium pair\n",
      "No Data for Isosource 1.5 (1/2)<>Platelets pair\n",
      "No Data for Isosource 1.5 (1/2)<>Platelets pair\n",
      "No Data for Isosource 1.5 (1/2)<>Potassium pair\n",
      "No Data for Isosource 1.5 (1/2)<>Potassium pair\n",
      "No Data for Isosource 1.5 (1/2)<>Red blood cell pair\n",
      "No Data for Isosource 1.5 (1/2)<>Red blood cell pair\n",
      "No Data for Isosource 1.5 (1/2)<>Sodium pair\n",
      "No Data for Isosource 1.5 (1/2)<>Sodium pair\n",
      "No Data for Isosource 1.5 (1/4)<>Alanine aminotransferase pair\n",
      "No Data for Isosource 1.5 (1/4)<>Alanine aminotransferase pair\n",
      "No Data for Isosource 1.5 (1/4)<>Asparate aminotransferase pair\n",
      "No Data for Isosource 1.5 (1/4)<>Asparate aminotransferase pair\n",
      "No Data for Isosource 1.5 (1/4)<>Bilirubin pair\n",
      "No Data for Isosource 1.5 (1/4)<>Bilirubin pair\n",
      "No Data for Isosource 1.5 (1/4)<>Calcium pair\n",
      "No Data for Isosource 1.5 (1/4)<>Calcium pair\n",
      "No Data for Isosource 1.5 (1/4)<>Calcium ionized pair\n",
      "No Data for Isosource 1.5 (1/4)<>Calcium ionized pair\n",
      "No Data for Isosource 1.5 (1/4)<>Creatinine pair\n",
      "No Data for Isosource 1.5 (1/4)<>Creatinine pair\n",
      "No Data for Isosource 1.5 (1/4)<>Glucose pair\n",
      "No Data for Isosource 1.5 (1/4)<>Glucose pair\n",
      "No Data for Isosource 1.5 (1/4)<>Hematocrit pair\n",
      "No Data for Isosource 1.5 (1/4)<>Hematocrit pair\n",
      "No Data for Isosource 1.5 (1/4)<>Hemoglobin pair\n",
      "No Data for Isosource 1.5 (1/4)<>Hemoglobin pair\n",
      "No Data for Isosource 1.5 (1/4)<>Magnesium pair\n",
      "No Data for Isosource 1.5 (1/4)<>Magnesium pair\n",
      "No Data for Isosource 1.5 (1/4)<>Platelets pair\n",
      "No Data for Isosource 1.5 (1/4)<>Platelets pair\n",
      "No Data for Isosource 1.5 (1/4)<>Potassium pair\n",
      "No Data for Isosource 1.5 (1/4)<>Potassium pair\n",
      "No Data for Isosource 1.5 (1/4)<>Red blood cell pair\n",
      "No Data for Isosource 1.5 (1/4)<>Red blood cell pair\n",
      "No Data for Isosource 1.5 (1/4)<>Sodium pair\n",
      "No Data for Isosource 1.5 (1/4)<>Sodium pair\n",
      "No Data for Isosource 1.5 (1/4)<>Uric Acid pair\n",
      "No Data for Isosource 1.5 (1/4)<>Uric Acid pair\n",
      "No Data for Isosource 1.5 (2/3)<>Calcium pair\n",
      "No Data for Isosource 1.5 (2/3)<>Calcium pair\n",
      "No Data for Isosource 1.5 (2/3)<>Creatinine pair\n",
      "No Data for Isosource 1.5 (2/3)<>Creatinine pair\n",
      "No Data for Isosource 1.5 (2/3)<>Glucose pair\n",
      "No Data for Isosource 1.5 (2/3)<>Glucose pair\n",
      "No Data for Isosource 1.5 (2/3)<>Hematocrit pair\n",
      "No Data for Isosource 1.5 (2/3)<>Hematocrit pair\n",
      "No Data for Isosource 1.5 (2/3)<>Hemoglobin pair\n",
      "No Data for Isosource 1.5 (2/3)<>Hemoglobin pair\n",
      "No Data for Isosource 1.5 (2/3)<>Magnesium pair\n",
      "No Data for Isosource 1.5 (2/3)<>Magnesium pair\n",
      "No Data for Isosource 1.5 (2/3)<>PTT pair\n",
      "No Data for Isosource 1.5 (2/3)<>PTT pair\n",
      "No Data for Isosource 1.5 (2/3)<>Platelets pair\n",
      "No Data for Isosource 1.5 (2/3)<>Platelets pair\n",
      "No Data for Isosource 1.5 (2/3)<>Potassium pair\n",
      "No Data for Isosource 1.5 (2/3)<>Potassium pair\n",
      "No Data for Isosource 1.5 (2/3)<>Prothrombin time INR pair\n",
      "No Data for Isosource 1.5 (2/3)<>Prothrombin time INR pair\n",
      "No Data for Isosource 1.5 (2/3)<>Red blood cell pair\n",
      "No Data for Isosource 1.5 (2/3)<>Red blood cell pair\n",
      "No Data for Isosource 1.5 (2/3)<>Sodium pair\n",
      "No Data for Isosource 1.5 (2/3)<>Sodium pair\n",
      "No Data for Isosource 1.5 (3/4)<>Glucose pair\n",
      "No Data for Isosource 1.5 (3/4)<>Glucose pair\n",
      "No Data for Isosource 1.5 (Full)<>Alanine aminotransferase pair\n",
      "No Data for Isosource 1.5 (Full)<>Alanine aminotransferase pair\n",
      "No Data for Isosource 1.5 (Full)<>Albumin pair\n",
      "No Data for Isosource 1.5 (Full)<>Albumin pair\n",
      "No Data for Isosource 1.5 (Full)<>Amylase pair\n",
      "No Data for Isosource 1.5 (Full)<>Amylase pair\n",
      "No Data for Isosource 1.5 (Full)<>Asparate aminotransferase pair\n",
      "No Data for Isosource 1.5 (Full)<>Asparate aminotransferase pair\n",
      "No Data for Isosource 1.5 (Full)<>Bilirubin pair\n",
      "No Data for Isosource 1.5 (Full)<>Bilirubin pair\n",
      "No Data for Isosource 1.5 (Full)<>Calcium pair\n",
      "No Data for Isosource 1.5 (Full)<>Calcium pair\n",
      "No Data for Isosource 1.5 (Full)<>Calcium ionized pair\n",
      "No Data for Isosource 1.5 (Full)<>Calcium ionized pair\n",
      "No Data for Isosource 1.5 (Full)<>Creatinine pair\n",
      "No Data for Isosource 1.5 (Full)<>Creatinine pair\n",
      "No Data for Isosource 1.5 (Full)<>Hemoglobin pair\n",
      "No Data for Isosource 1.5 (Full)<>Hemoglobin pair\n",
      "No Data for Isosource 1.5 (Full)<>Lactic acid pair\n",
      "No Data for Isosource 1.5 (Full)<>Lactic acid pair\n",
      "No Data for Isosource 1.5 (Full)<>Lipase pair\n",
      "No Data for Isosource 1.5 (Full)<>Lipase pair\n",
      "No Data for Isosource 1.5 (Full)<>Magnesium pair\n",
      "No Data for Isosource 1.5 (Full)<>Magnesium pair\n",
      "No Data for Isosource 1.5 (Full)<>Magnesium, Urine pair\n",
      "No Data for Isosource 1.5 (Full)<>Magnesium, Urine pair\n",
      "No Data for Isosource 1.5 (Full)<>Potassium pair\n",
      "No Data for Isosource 1.5 (Full)<>Potassium pair\n",
      "No Data for Isosource 1.5 (Full)<>Prothrombin time INR pair\n",
      "No Data for Isosource 1.5 (Full)<>Prothrombin time INR pair\n",
      "No Data for Isosource 1.5 (Full)<>Red blood cell pair\n",
      "No Data for Isosource 1.5 (Full)<>Red blood cell pair\n",
      "No Data for Isosource 1.5 (Full)<>Uric Acid pair\n",
      "No Data for Isosource 1.5 (Full)<>Uric Acid pair\n",
      "No Data for Isosource 1.5 (Full)<>Vitamin B12 pair\n",
      "No Data for Isosource 1.5 (Full)<>Vitamin B12 pair\n",
      "No Data for Isuprel<>Calcium pair\n",
      "No Data for Isuprel<>Calcium pair\n",
      "No Data for Isuprel<>Creatinine pair\n",
      "No Data for Isuprel<>Creatinine pair\n",
      "No Data for Isuprel<>Glucose pair\n",
      "No Data for Isuprel<>Glucose pair\n",
      "No Data for Isuprel<>Hematocrit pair\n",
      "No Data for Isuprel<>Hematocrit pair\n",
      "No Data for Isuprel<>Hemoglobin pair\n",
      "No Data for Isuprel<>Hemoglobin pair\n",
      "No Data for Isuprel<>Lactic acid pair\n",
      "No Data for Isuprel<>Lactic acid pair\n",
      "No Data for Isuprel<>Magnesium pair\n",
      "No Data for Isuprel<>Magnesium pair\n",
      "No Data for Isuprel<>PTT pair\n",
      "No Data for Isuprel<>PTT pair\n",
      "No Data for Isuprel<>Platelets pair\n",
      "No Data for Isuprel<>Platelets pair\n",
      "No Data for Isuprel<>Potassium pair\n",
      "No Data for Isuprel<>Potassium pair\n",
      "No Data for Isuprel<>Prothrombin time INR pair\n",
      "No Data for Isuprel<>Prothrombin time INR pair\n",
      "No Data for Isuprel<>Red blood cell pair\n",
      "No Data for Isuprel<>Red blood cell pair\n",
      "No Data for Isuprel<>Sodium pair\n",
      "No Data for Isuprel<>Sodium pair\n",
      "No Data for K Phos<>Albumin pair\n",
      "No Data for K Phos<>Albumin pair\n",
      "No Data for K Phos<>Bilirubin pair\n",
      "No Data for K Phos<>Bilirubin pair\n",
      "No Data for K Phos<>Calcium pair\n",
      "No Data for K Phos<>Calcium pair\n",
      "No Data for K Phos<>Calcium ionized pair\n",
      "No Data for K Phos<>Calcium ionized pair\n",
      "No Data for K Phos<>Creatinine pair\n",
      "No Data for K Phos<>Creatinine pair\n",
      "No Data for K Phos<>Creatinine ascites pair\n",
      "No Data for K Phos<>Creatinine ascites pair\n",
      "No Data for K Phos<>Hemoglobin pair\n",
      "No Data for K Phos<>Hemoglobin pair\n",
      "No Data for K Phos<>Hemoglobin percent pair\n",
      "No Data for K Phos<>Hemoglobin percent pair\n",
      "No Data for K Phos<>Lactic acid pair\n",
      "No Data for K Phos<>Lactic acid pair\n",
      "No Data for K Phos<>Magnesium pair\n",
      "No Data for K Phos<>Magnesium pair\n",
      "No Data for K Phos<>Magnesium, Urine pair\n",
      "No Data for K Phos<>Magnesium, Urine pair\n",
      "No Data for K Phos<>Potassium pair\n",
      "No Data for K Phos<>Potassium pair\n",
      "No Data for K Phos<>Prolactin pair\n",
      "No Data for K Phos<>Prolactin pair\n",
      "No Data for K Phos<>Prothrombin time INR pair\n",
      "No Data for K Phos<>Prothrombin time INR pair\n",
      "No Data for K Phos<>Red blood cell pair\n",
      "No Data for K Phos<>Red blood cell pair\n",
      "No Data for K Phos<>Uric Acid pair\n",
      "No Data for K Phos<>Uric Acid pair\n",
      "No Data for K Phos<>Uric Acid, Urine pair\n",
      "No Data for K Phos<>Uric Acid, Urine pair\n",
      "No Data for K Phos<>Vitamin B12 pair\n",
      "No Data for K Phos<>Vitamin B12 pair\n",
      "No Data for KCL (Bolus)<>Albumin pair\n",
      "No Data for KCL (Bolus)<>Albumin pair\n",
      "No Data for KCL (Bolus)<>Bilirubin pair\n",
      "No Data for KCL (Bolus)<>Bilirubin pair\n",
      "No Data for KCL (Bolus)<>Calcium pair\n",
      "No Data for KCL (Bolus)<>Calcium pair\n",
      "No Data for KCL (Bolus)<>Calcium ionized pair\n",
      "No Data for KCL (Bolus)<>Calcium ionized pair\n",
      "No Data for KCL (Bolus)<>Creatinine pair\n",
      "No Data for KCL (Bolus)<>Creatinine pair\n",
      "No Data for KCL (Bolus)<>Hemoglobin pair\n",
      "No Data for KCL (Bolus)<>Hemoglobin pair\n",
      "No Data for KCL (Bolus)<>Hemoglobin percent pair\n",
      "No Data for KCL (Bolus)<>Hemoglobin percent pair\n",
      "No Data for KCL (Bolus)<>Lactic acid pair\n",
      "No Data for KCL (Bolus)<>Lactic acid pair\n",
      "No Data for KCL (Bolus)<>Magnesium pair\n",
      "No Data for KCL (Bolus)<>Magnesium pair\n",
      "No Data for KCL (Bolus)<>Magnesium, Urine pair\n",
      "No Data for KCL (Bolus)<>Magnesium, Urine pair\n",
      "No Data for KCL (Bolus)<>Potassium pair\n",
      "No Data for KCL (Bolus)<>Potassium pair\n",
      "No Data for KCL (Bolus)<>Prolactin pair\n",
      "No Data for KCL (Bolus)<>Prolactin pair\n",
      "No Data for KCL (Bolus)<>Prothrombin time INR pair\n",
      "No Data for KCL (Bolus)<>Prothrombin time INR pair\n",
      "No Data for KCL (Bolus)<>Red blood cell pair\n",
      "No Data for KCL (Bolus)<>Red blood cell pair\n",
      "No Data for KCL (Bolus)<>Uric Acid pair\n",
      "No Data for KCL (Bolus)<>Uric Acid pair\n",
      "No Data for KCL (Bolus)<>Uric Acid, Urine pair\n",
      "No Data for KCL (Bolus)<>Uric Acid, Urine pair\n",
      "No Data for KCL (Bolus)<>Vitamin B12 pair\n",
      "No Data for KCL (Bolus)<>Vitamin B12 pair\n",
      "No Data for KCl (CRRT)<>Albumin pair\n",
      "No Data for KCl (CRRT)<>Albumin pair\n",
      "No Data for KCl (CRRT)<>Amylase pair\n",
      "No Data for KCl (CRRT)<>Amylase pair\n",
      "No Data for KCl (CRRT)<>Asparate aminotransferase pair\n",
      "No Data for KCl (CRRT)<>Asparate aminotransferase pair\n",
      "No Data for KCl (CRRT)<>Bilirubin pair\n",
      "No Data for KCl (CRRT)<>Bilirubin pair\n",
      "No Data for KCl (CRRT)<>Calcium pair\n",
      "No Data for KCl (CRRT)<>Calcium pair\n",
      "No Data for KCl (CRRT)<>Calcium ionized pair\n",
      "No Data for KCl (CRRT)<>Calcium ionized pair\n",
      "No Data for KCl (CRRT)<>Creatinine pair\n",
      "No Data for KCl (CRRT)<>Creatinine pair\n",
      "No Data for KCl (CRRT)<>Creatinine ascites pair\n",
      "No Data for KCl (CRRT)<>Creatinine ascites pair\n",
      "No Data for KCl (CRRT)<>Hemoglobin pair\n",
      "No Data for KCl (CRRT)<>Hemoglobin pair\n",
      "No Data for KCl (CRRT)<>Lactic acid pair\n",
      "No Data for KCl (CRRT)<>Lactic acid pair\n",
      "No Data for KCl (CRRT)<>Lipase pair\n",
      "No Data for KCl (CRRT)<>Lipase pair\n",
      "No Data for KCl (CRRT)<>Magnesium pair\n",
      "No Data for KCl (CRRT)<>Magnesium pair\n",
      "No Data for KCl (CRRT)<>Potassium pair\n",
      "No Data for KCl (CRRT)<>Potassium pair\n",
      "No Data for KCl (CRRT)<>Prothrombin time INR pair\n",
      "No Data for KCl (CRRT)<>Prothrombin time INR pair\n",
      "No Data for KCl (CRRT)<>Red blood cell pair\n",
      "No Data for KCl (CRRT)<>Red blood cell pair\n",
      "No Data for KCl (CRRT)<>Uric Acid pair\n",
      "No Data for KCl (CRRT)<>Uric Acid pair\n",
      "No Data for KCl (CRRT)<>Vitamin B12 pair\n",
      "No Data for KCl (CRRT)<>Vitamin B12 pair\n",
      "No Data for Keflex<>Alanine aminotransferase pair\n",
      "No Data for Keflex<>Alanine aminotransferase pair\n",
      "No Data for Keflex<>Albumin pair\n",
      "No Data for Keflex<>Albumin pair\n",
      "No Data for Keflex<>Asparate aminotransferase pair\n",
      "No Data for Keflex<>Asparate aminotransferase pair\n",
      "No Data for Keflex<>Bilirubin pair\n",
      "No Data for Keflex<>Bilirubin pair\n",
      "No Data for Keflex<>Calcium pair\n",
      "No Data for Keflex<>Calcium pair\n",
      "No Data for Keflex<>Calcium ionized pair\n",
      "No Data for Keflex<>Calcium ionized pair\n",
      "No Data for Keflex<>Creatinine pair\n",
      "No Data for Keflex<>Creatinine pair\n",
      "No Data for Keflex<>Hemoglobin pair\n",
      "No Data for Keflex<>Hemoglobin pair\n",
      "No Data for Keflex<>Lactic acid pair\n",
      "No Data for Keflex<>Lactic acid pair\n",
      "No Data for Keflex<>Lipase pair\n",
      "No Data for Keflex<>Lipase pair\n",
      "No Data for Keflex<>Magnesium pair\n",
      "No Data for Keflex<>Magnesium pair\n",
      "No Data for Keflex<>PTT pair\n",
      "No Data for Keflex<>PTT pair\n",
      "No Data for Keflex<>Potassium pair\n",
      "No Data for Keflex<>Potassium pair\n",
      "No Data for Keflex<>Prothrombin time INR pair\n",
      "No Data for Keflex<>Prothrombin time INR pair\n",
      "No Data for Keflex<>Red blood cell pair\n",
      "No Data for Keflex<>Red blood cell pair\n",
      "No Data for Keppra<>Alanine aminotransferase pair\n",
      "No Data for Keppra<>Alanine aminotransferase pair\n",
      "No Data for Keppra<>Albumin pair\n",
      "No Data for Keppra<>Albumin pair\n",
      "No Data for Keppra<>Amylase pair\n",
      "No Data for Keppra<>Amylase pair\n",
      "No Data for Keppra<>Asparate aminotransferase pair\n",
      "No Data for Keppra<>Asparate aminotransferase pair\n",
      "No Data for Keppra<>Bilirubin pair\n",
      "No Data for Keppra<>Bilirubin pair\n",
      "No Data for Keppra<>Calcium pair\n",
      "No Data for Keppra<>Calcium pair\n",
      "No Data for Keppra<>Calcium ionized pair\n",
      "No Data for Keppra<>Calcium ionized pair\n",
      "No Data for Keppra<>Creatinine pair\n",
      "No Data for Keppra<>Creatinine pair\n",
      "No Data for Keppra<>Hemoglobin pair\n",
      "No Data for Keppra<>Hemoglobin pair\n",
      "No Data for Keppra<>Hemoglobin percent pair\n",
      "No Data for Keppra<>Hemoglobin percent pair\n",
      "No Data for Keppra<>Lactic acid pair\n",
      "No Data for Keppra<>Lactic acid pair\n",
      "No Data for Keppra<>Lipase pair\n",
      "No Data for Keppra<>Lipase pair\n",
      "No Data for Keppra<>Magnesium pair\n",
      "No Data for Keppra<>Magnesium pair\n",
      "No Data for Keppra<>Potassium pair\n",
      "No Data for Keppra<>Potassium pair\n",
      "No Data for Keppra<>Prothrombin time INR pair\n",
      "No Data for Keppra<>Prothrombin time INR pair\n",
      "No Data for Keppra<>Red blood cell pair\n",
      "No Data for Keppra<>Red blood cell pair\n",
      "No Data for Ketamine<>Alanine aminotransferase pair\n",
      "No Data for Ketamine<>Alanine aminotransferase pair\n",
      "No Data for Ketamine<>Albumin pair\n",
      "No Data for Ketamine<>Albumin pair\n",
      "No Data for Ketamine<>Amylase pair\n",
      "No Data for Ketamine<>Amylase pair\n",
      "No Data for Ketamine<>Asparate aminotransferase pair\n",
      "No Data for Ketamine<>Asparate aminotransferase pair\n",
      "No Data for Ketamine<>Bilirubin pair\n",
      "No Data for Ketamine<>Bilirubin pair\n",
      "No Data for Ketamine<>Calcium pair\n",
      "No Data for Ketamine<>Calcium pair\n",
      "No Data for Ketamine<>Calcium ionized pair\n",
      "No Data for Ketamine<>Calcium ionized pair\n",
      "No Data for Ketamine<>Creatinine pair\n",
      "No Data for Ketamine<>Creatinine pair\n",
      "No Data for Ketamine<>Hematocrit pair\n",
      "No Data for Ketamine<>Hematocrit pair\n",
      "No Data for Ketamine<>Hemoglobin pair\n",
      "No Data for Ketamine<>Hemoglobin pair\n",
      "No Data for Ketamine<>Lactic acid pair\n",
      "No Data for Ketamine<>Lactic acid pair\n",
      "No Data for Ketamine<>Lipase pair\n",
      "No Data for Ketamine<>Lipase pair\n",
      "No Data for Ketamine<>Magnesium pair\n",
      "No Data for Ketamine<>Magnesium pair\n",
      "No Data for Ketamine<>PTT pair\n",
      "No Data for Ketamine<>PTT pair\n",
      "No Data for Ketamine<>Platelets pair\n",
      "No Data for Ketamine<>Platelets pair\n",
      "No Data for Ketamine<>Potassium pair\n",
      "No Data for Ketamine<>Potassium pair\n",
      "No Data for Ketamine<>Prothrombin time INR pair\n",
      "No Data for Ketamine<>Prothrombin time INR pair\n",
      "No Data for Ketamine<>Red blood cell pair\n",
      "No Data for Ketamine<>Red blood cell pair\n",
      "No Data for Ketamine<>Sodium pair\n",
      "No Data for Ketamine<>Sodium pair\n",
      "No Data for LR<>Albumin pair\n",
      "No Data for LR<>Albumin pair\n",
      "No Data for LR<>Bilirubin pair\n",
      "No Data for LR<>Bilirubin pair\n",
      "No Data for LR<>Calcium pair\n",
      "No Data for LR<>Calcium pair\n",
      "No Data for LR<>Calcium ionized pair\n",
      "No Data for LR<>Calcium ionized pair\n",
      "No Data for LR<>Creatinine pair\n",
      "No Data for LR<>Creatinine pair\n",
      "No Data for LR<>Creatinine ascites pair\n",
      "No Data for LR<>Creatinine ascites pair\n",
      "No Data for LR<>Hemoglobin pair\n",
      "No Data for LR<>Hemoglobin pair\n",
      "No Data for LR<>Hemoglobin percent pair\n",
      "No Data for LR<>Hemoglobin percent pair\n",
      "No Data for LR<>Lactic acid pair\n",
      "No Data for LR<>Lactic acid pair\n",
      "No Data for LR<>Magnesium pair\n",
      "No Data for LR<>Magnesium pair\n",
      "No Data for LR<>Magnesium, Urine pair\n",
      "No Data for LR<>Magnesium, Urine pair\n",
      "No Data for LR<>Potassium pair\n",
      "No Data for LR<>Potassium pair\n",
      "No Data for LR<>Prolactin pair\n",
      "No Data for LR<>Prolactin pair\n",
      "No Data for LR<>Prothrombin time INR pair\n",
      "No Data for LR<>Prothrombin time INR pair\n",
      "No Data for LR<>Red blood cell pair\n",
      "No Data for LR<>Red blood cell pair\n",
      "No Data for LR<>Uric Acid pair\n",
      "No Data for LR<>Uric Acid pair\n",
      "No Data for LR<>Uric Acid, Urine pair\n",
      "No Data for LR<>Uric Acid, Urine pair\n",
      "No Data for LR<>Vitamin B12 pair\n",
      "No Data for LR<>Vitamin B12 pair\n",
      "No Data for Labetalol<>Alanine aminotransferase pair\n",
      "No Data for Labetalol<>Alanine aminotransferase pair\n",
      "No Data for Labetalol<>Albumin pair\n",
      "No Data for Labetalol<>Albumin pair\n",
      "No Data for Labetalol<>Amylase pair\n",
      "No Data for Labetalol<>Amylase pair\n",
      "No Data for Labetalol<>Bilirubin pair\n",
      "No Data for Labetalol<>Bilirubin pair\n",
      "No Data for Labetalol<>Calcium pair\n",
      "No Data for Labetalol<>Calcium pair\n",
      "No Data for Labetalol<>Calcium ionized pair\n",
      "No Data for Labetalol<>Calcium ionized pair\n",
      "No Data for Labetalol<>Creatinine pair\n",
      "No Data for Labetalol<>Creatinine pair\n",
      "No Data for Labetalol<>Hemoglobin pair\n",
      "No Data for Labetalol<>Hemoglobin pair\n",
      "No Data for Labetalol<>Hemoglobin percent pair\n",
      "No Data for Labetalol<>Hemoglobin percent pair\n",
      "No Data for Labetalol<>Lactic acid pair\n",
      "No Data for Labetalol<>Lactic acid pair\n",
      "No Data for Labetalol<>Lipase pair\n",
      "No Data for Labetalol<>Lipase pair\n",
      "No Data for Labetalol<>Magnesium pair\n",
      "No Data for Labetalol<>Magnesium pair\n",
      "No Data for Labetalol<>Potassium pair\n",
      "No Data for Labetalol<>Potassium pair\n",
      "No Data for Labetalol<>Prothrombin time INR pair\n",
      "No Data for Labetalol<>Prothrombin time INR pair\n",
      "No Data for Labetalol<>Red blood cell pair\n",
      "No Data for Labetalol<>Red blood cell pair\n",
      "No Data for Labetalol<>Uric Acid pair\n",
      "No Data for Labetalol<>Uric Acid pair\n",
      "No Data for Labetalol<>Vitamin B12 pair\n",
      "No Data for Labetalol<>Vitamin B12 pair\n",
      "No Data for Lansoprazole (Prevacid)<>Albumin pair\n",
      "No Data for Lansoprazole (Prevacid)<>Albumin pair\n",
      "No Data for Lansoprazole (Prevacid)<>Amylase pair\n",
      "No Data for Lansoprazole (Prevacid)<>Amylase pair\n",
      "No Data for Lansoprazole (Prevacid)<>Bilirubin pair\n",
      "No Data for Lansoprazole (Prevacid)<>Bilirubin pair\n",
      "No Data for Lansoprazole (Prevacid)<>Calcium pair\n",
      "No Data for Lansoprazole (Prevacid)<>Calcium pair\n",
      "No Data for Lansoprazole (Prevacid)<>Calcium ionized pair\n",
      "No Data for Lansoprazole (Prevacid)<>Calcium ionized pair\n",
      "No Data for Lansoprazole (Prevacid)<>Creatinine pair\n",
      "No Data for Lansoprazole (Prevacid)<>Creatinine pair\n",
      "No Data for Lansoprazole (Prevacid)<>Creatinine ascites pair\n",
      "No Data for Lansoprazole (Prevacid)<>Creatinine ascites pair\n",
      "No Data for Lansoprazole (Prevacid)<>Hemoglobin pair\n",
      "No Data for Lansoprazole (Prevacid)<>Hemoglobin pair\n",
      "No Data for Lansoprazole (Prevacid)<>Hemoglobin percent pair\n",
      "No Data for Lansoprazole (Prevacid)<>Hemoglobin percent pair\n",
      "No Data for Lansoprazole (Prevacid)<>Lactic acid pair\n",
      "No Data for Lansoprazole (Prevacid)<>Lactic acid pair\n",
      "No Data for Lansoprazole (Prevacid)<>Lipase pair\n",
      "No Data for Lansoprazole (Prevacid)<>Lipase pair\n",
      "No Data for Lansoprazole (Prevacid)<>Magnesium pair\n",
      "No Data for Lansoprazole (Prevacid)<>Magnesium pair\n",
      "No Data for Lansoprazole (Prevacid)<>Potassium pair\n",
      "No Data for Lansoprazole (Prevacid)<>Potassium pair\n",
      "No Data for Lansoprazole (Prevacid)<>Prothrombin time INR pair\n",
      "No Data for Lansoprazole (Prevacid)<>Prothrombin time INR pair\n",
      "No Data for Lansoprazole (Prevacid)<>Red blood cell pair\n",
      "No Data for Lansoprazole (Prevacid)<>Red blood cell pair\n",
      "No Data for Lansoprazole (Prevacid)<>Uric Acid pair\n",
      "No Data for Lansoprazole (Prevacid)<>Uric Acid pair\n",
      "No Data for Lansoprazole (Prevacid)<>Vitamin B12 pair\n",
      "No Data for Lansoprazole (Prevacid)<>Vitamin B12 pair\n",
      "No Data for Lepirudin<>Alanine aminotransferase pair\n",
      "No Data for Lepirudin<>Alanine aminotransferase pair\n",
      "No Data for Lepirudin<>Albumin pair\n",
      "No Data for Lepirudin<>Albumin pair\n",
      "No Data for Lepirudin<>Asparate aminotransferase pair\n",
      "No Data for Lepirudin<>Asparate aminotransferase pair\n",
      "No Data for Lepirudin<>Bilirubin pair\n",
      "No Data for Lepirudin<>Bilirubin pair\n",
      "No Data for Lepirudin<>Calcium pair\n",
      "No Data for Lepirudin<>Calcium pair\n",
      "No Data for Lepirudin<>Calcium ionized pair\n",
      "No Data for Lepirudin<>Calcium ionized pair\n",
      "No Data for Lepirudin<>Creatinine pair\n",
      "No Data for Lepirudin<>Creatinine pair\n",
      "No Data for Lepirudin<>Glucose pair\n",
      "No Data for Lepirudin<>Glucose pair\n",
      "No Data for Lepirudin<>Hematocrit pair\n",
      "No Data for Lepirudin<>Hematocrit pair\n",
      "No Data for Lepirudin<>Hemoglobin pair\n",
      "No Data for Lepirudin<>Hemoglobin pair\n",
      "No Data for Lepirudin<>Hemoglobin percent pair\n",
      "No Data for Lepirudin<>Hemoglobin percent pair\n",
      "No Data for Lepirudin<>Lactic acid pair\n",
      "No Data for Lepirudin<>Lactic acid pair\n",
      "No Data for Lepirudin<>Magnesium pair\n",
      "No Data for Lepirudin<>Magnesium pair\n",
      "No Data for Lepirudin<>PTT pair\n",
      "No Data for Lepirudin<>PTT pair\n",
      "No Data for Lepirudin<>Platelets pair\n",
      "No Data for Lepirudin<>Platelets pair\n",
      "No Data for Lepirudin<>Potassium pair\n",
      "No Data for Lepirudin<>Potassium pair\n",
      "No Data for Lepirudin<>Prothrombin time INR pair\n",
      "No Data for Lepirudin<>Prothrombin time INR pair\n",
      "No Data for Lepirudin<>Red blood cell pair\n",
      "No Data for Lepirudin<>Red blood cell pair\n",
      "No Data for Lepirudin<>Sodium pair\n",
      "No Data for Lepirudin<>Sodium pair\n",
      "No Data for Lepirudin<>Uric Acid pair\n",
      "No Data for Lepirudin<>Uric Acid pair\n",
      "No Data for Levofloxacin<>Albumin pair\n",
      "No Data for Levofloxacin<>Albumin pair\n",
      "No Data for Levofloxacin<>Bilirubin pair\n",
      "No Data for Levofloxacin<>Bilirubin pair\n",
      "No Data for Levofloxacin<>Calcium pair\n",
      "No Data for Levofloxacin<>Calcium pair\n",
      "No Data for Levofloxacin<>Calcium ionized pair\n",
      "No Data for Levofloxacin<>Calcium ionized pair\n",
      "No Data for Levofloxacin<>Creatinine pair\n",
      "No Data for Levofloxacin<>Creatinine pair\n",
      "No Data for Levofloxacin<>Creatinine ascites pair\n",
      "No Data for Levofloxacin<>Creatinine ascites pair\n",
      "No Data for Levofloxacin<>Hemoglobin pair\n",
      "No Data for Levofloxacin<>Hemoglobin pair\n",
      "No Data for Levofloxacin<>Hemoglobin percent pair\n",
      "No Data for Levofloxacin<>Hemoglobin percent pair\n",
      "No Data for Levofloxacin<>Lactic acid pair\n",
      "No Data for Levofloxacin<>Lactic acid pair\n",
      "No Data for Levofloxacin<>Magnesium pair\n",
      "No Data for Levofloxacin<>Magnesium pair\n",
      "No Data for Levofloxacin<>Magnesium, Urine pair\n",
      "No Data for Levofloxacin<>Magnesium, Urine pair\n",
      "No Data for Levofloxacin<>Potassium pair\n",
      "No Data for Levofloxacin<>Potassium pair\n",
      "No Data for Levofloxacin<>Prolactin pair\n",
      "No Data for Levofloxacin<>Prolactin pair\n",
      "No Data for Levofloxacin<>Prothrombin time INR pair\n",
      "No Data for Levofloxacin<>Prothrombin time INR pair\n",
      "No Data for Levofloxacin<>Red blood cell pair\n",
      "No Data for Levofloxacin<>Red blood cell pair\n",
      "No Data for Levofloxacin<>Uric Acid pair\n",
      "No Data for Levofloxacin<>Uric Acid pair\n",
      "No Data for Levofloxacin<>Uric Acid, Urine pair\n",
      "No Data for Levofloxacin<>Uric Acid, Urine pair\n",
      "No Data for Levofloxacin<>Vitamin B12 pair\n",
      "No Data for Levofloxacin<>Vitamin B12 pair\n",
      "No Data for Lidocaine<>Albumin pair\n",
      "No Data for Lidocaine<>Albumin pair\n",
      "No Data for Lidocaine<>Amylase pair\n",
      "No Data for Lidocaine<>Amylase pair\n",
      "No Data for Lidocaine<>Bilirubin pair\n",
      "No Data for Lidocaine<>Bilirubin pair\n",
      "No Data for Lidocaine<>Calcium pair\n",
      "No Data for Lidocaine<>Calcium pair\n",
      "No Data for Lidocaine<>Calcium ionized pair\n",
      "No Data for Lidocaine<>Calcium ionized pair\n",
      "No Data for Lidocaine<>Creatinine pair\n",
      "No Data for Lidocaine<>Creatinine pair\n",
      "No Data for Lidocaine<>Hemoglobin pair\n",
      "No Data for Lidocaine<>Hemoglobin pair\n",
      "No Data for Lidocaine<>Hemoglobin percent pair\n",
      "No Data for Lidocaine<>Hemoglobin percent pair\n",
      "No Data for Lidocaine<>Lactic acid pair\n",
      "No Data for Lidocaine<>Lactic acid pair\n",
      "No Data for Lidocaine<>Lipase pair\n",
      "No Data for Lidocaine<>Lipase pair\n",
      "No Data for Lidocaine<>Magnesium pair\n",
      "No Data for Lidocaine<>Magnesium pair\n",
      "No Data for Lidocaine<>Potassium pair\n",
      "No Data for Lidocaine<>Potassium pair\n",
      "No Data for Lidocaine<>Prolactin pair\n",
      "No Data for Lidocaine<>Prolactin pair\n",
      "No Data for Lidocaine<>Prothrombin time INR pair\n",
      "No Data for Lidocaine<>Prothrombin time INR pair\n",
      "No Data for Lidocaine<>Red blood cell pair\n",
      "No Data for Lidocaine<>Red blood cell pair\n",
      "No Data for Lidocaine<>Uric Acid pair\n",
      "No Data for Lidocaine<>Uric Acid pair\n",
      "No Data for Linezolid<>Albumin pair\n",
      "No Data for Linezolid<>Albumin pair\n",
      "No Data for Linezolid<>Amylase pair\n",
      "No Data for Linezolid<>Amylase pair\n",
      "No Data for Linezolid<>Bilirubin pair\n",
      "No Data for Linezolid<>Bilirubin pair\n",
      "No Data for Linezolid<>Calcium pair\n",
      "No Data for Linezolid<>Calcium pair\n",
      "No Data for Linezolid<>Calcium ionized pair\n",
      "No Data for Linezolid<>Calcium ionized pair\n",
      "No Data for Linezolid<>Creatinine pair\n",
      "No Data for Linezolid<>Creatinine pair\n",
      "No Data for Linezolid<>Creatinine ascites pair\n",
      "No Data for Linezolid<>Creatinine ascites pair\n",
      "No Data for Linezolid<>Hemoglobin pair\n",
      "No Data for Linezolid<>Hemoglobin pair\n",
      "No Data for Linezolid<>Lactic acid pair\n",
      "No Data for Linezolid<>Lactic acid pair\n",
      "No Data for Linezolid<>Lipase pair\n",
      "No Data for Linezolid<>Lipase pair\n",
      "No Data for Linezolid<>Magnesium pair\n",
      "No Data for Linezolid<>Magnesium pair\n",
      "No Data for Linezolid<>Potassium pair\n",
      "No Data for Linezolid<>Potassium pair\n",
      "No Data for Linezolid<>Prothrombin time INR pair\n",
      "No Data for Linezolid<>Prothrombin time INR pair\n",
      "No Data for Linezolid<>Red blood cell pair\n",
      "No Data for Linezolid<>Red blood cell pair\n",
      "No Data for Linezolid<>Uric Acid pair\n",
      "No Data for Linezolid<>Uric Acid pair\n",
      "No Data for Linezolid<>Vitamin B12 pair\n",
      "No Data for Linezolid<>Vitamin B12 pair\n",
      "No Data for Lipids (additive)<>Alanine aminotransferase pair\n",
      "No Data for Lipids (additive)<>Alanine aminotransferase pair\n",
      "No Data for Lipids (additive)<>Albumin pair\n",
      "No Data for Lipids (additive)<>Albumin pair\n",
      "No Data for Lipids (additive)<>Amylase pair\n",
      "No Data for Lipids (additive)<>Amylase pair\n",
      "No Data for Lipids (additive)<>Asparate aminotransferase pair\n",
      "No Data for Lipids (additive)<>Asparate aminotransferase pair\n",
      "No Data for Lipids (additive)<>Bilirubin pair\n",
      "No Data for Lipids (additive)<>Bilirubin pair\n",
      "No Data for Lipids (additive)<>Calcium pair\n",
      "No Data for Lipids (additive)<>Calcium pair\n",
      "No Data for Lipids (additive)<>Calcium ionized pair\n",
      "No Data for Lipids (additive)<>Calcium ionized pair\n",
      "No Data for Lipids (additive)<>Creatinine pair\n",
      "No Data for Lipids (additive)<>Creatinine pair\n",
      "No Data for Lipids (additive)<>Creatinine ascites pair\n",
      "No Data for Lipids (additive)<>Creatinine ascites pair\n",
      "No Data for Lipids (additive)<>Glucose pair\n",
      "No Data for Lipids (additive)<>Glucose pair\n",
      "No Data for Lipids (additive)<>Hematocrit pair\n",
      "No Data for Lipids (additive)<>Hematocrit pair\n",
      "No Data for Lipids (additive)<>Hemoglobin pair\n",
      "No Data for Lipids (additive)<>Hemoglobin pair\n",
      "No Data for Lipids (additive)<>Lactic acid pair\n",
      "No Data for Lipids (additive)<>Lactic acid pair\n",
      "No Data for Lipids (additive)<>Lipase pair\n",
      "No Data for Lipids (additive)<>Lipase pair\n",
      "No Data for Lipids (additive)<>Magnesium pair\n",
      "No Data for Lipids (additive)<>Magnesium pair\n",
      "No Data for Lipids (additive)<>PTT pair\n",
      "No Data for Lipids (additive)<>PTT pair\n",
      "No Data for Lipids (additive)<>Platelets pair\n",
      "No Data for Lipids (additive)<>Platelets pair\n",
      "No Data for Lipids (additive)<>Potassium pair\n",
      "No Data for Lipids (additive)<>Potassium pair\n",
      "No Data for Lipids (additive)<>Prothrombin time INR pair\n",
      "No Data for Lipids (additive)<>Prothrombin time INR pair\n",
      "No Data for Lipids (additive)<>Red blood cell pair\n",
      "No Data for Lipids (additive)<>Red blood cell pair\n",
      "No Data for Lipids (additive)<>Sodium pair\n",
      "No Data for Lipids (additive)<>Sodium pair\n",
      "No Data for Lipids (additive)<>Uric Acid pair\n",
      "No Data for Lipids (additive)<>Uric Acid pair\n",
      "No Data for Lipids 20%<>Alanine aminotransferase pair\n",
      "No Data for Lipids 20%<>Alanine aminotransferase pair\n",
      "No Data for Lipids 20%<>Albumin pair\n",
      "No Data for Lipids 20%<>Albumin pair\n",
      "No Data for Lipids 20%<>Amylase pair\n",
      "No Data for Lipids 20%<>Amylase pair\n",
      "No Data for Lipids 20%<>Asparate aminotransferase pair\n",
      "No Data for Lipids 20%<>Asparate aminotransferase pair\n",
      "No Data for Lipids 20%<>Bilirubin pair\n",
      "No Data for Lipids 20%<>Bilirubin pair\n",
      "No Data for Lipids 20%<>Calcium pair\n",
      "No Data for Lipids 20%<>Calcium pair\n",
      "No Data for Lipids 20%<>Calcium ionized pair\n",
      "No Data for Lipids 20%<>Calcium ionized pair\n",
      "No Data for Lipids 20%<>Creatinine pair\n",
      "No Data for Lipids 20%<>Creatinine pair\n",
      "No Data for Lipids 20%<>Glucose pair\n",
      "No Data for Lipids 20%<>Glucose pair\n",
      "No Data for Lipids 20%<>Hematocrit pair\n",
      "No Data for Lipids 20%<>Hematocrit pair\n",
      "No Data for Lipids 20%<>Hemoglobin pair\n",
      "No Data for Lipids 20%<>Hemoglobin pair\n",
      "No Data for Lipids 20%<>Lactic acid pair\n",
      "No Data for Lipids 20%<>Lactic acid pair\n",
      "No Data for Lipids 20%<>Lipase pair\n",
      "No Data for Lipids 20%<>Lipase pair\n",
      "No Data for Lipids 20%<>Magnesium pair\n",
      "No Data for Lipids 20%<>Magnesium pair\n",
      "No Data for Lipids 20%<>PTT pair\n",
      "No Data for Lipids 20%<>PTT pair\n",
      "No Data for Lipids 20%<>Platelets pair\n",
      "No Data for Lipids 20%<>Platelets pair\n",
      "No Data for Lipids 20%<>Potassium pair\n",
      "No Data for Lipids 20%<>Potassium pair\n",
      "No Data for Lipids 20%<>Prothrombin time INR pair\n",
      "No Data for Lipids 20%<>Prothrombin time INR pair\n",
      "No Data for Lipids 20%<>Red blood cell pair\n",
      "No Data for Lipids 20%<>Red blood cell pair\n",
      "No Data for Lipids 20%<>Sodium pair\n",
      "No Data for Lipids 20%<>Sodium pair\n",
      "No Data for Lorazepam (Ativan)<>Albumin pair\n",
      "No Data for Lorazepam (Ativan)<>Albumin pair\n",
      "No Data for Lorazepam (Ativan)<>Bilirubin pair\n",
      "No Data for Lorazepam (Ativan)<>Bilirubin pair\n",
      "No Data for Lorazepam (Ativan)<>Calcium pair\n",
      "No Data for Lorazepam (Ativan)<>Calcium pair\n",
      "No Data for Lorazepam (Ativan)<>Calcium ionized pair\n",
      "No Data for Lorazepam (Ativan)<>Calcium ionized pair\n",
      "No Data for Lorazepam (Ativan)<>Creatinine pair\n",
      "No Data for Lorazepam (Ativan)<>Creatinine pair\n",
      "No Data for Lorazepam (Ativan)<>Creatinine ascites pair\n",
      "No Data for Lorazepam (Ativan)<>Creatinine ascites pair\n",
      "No Data for Lorazepam (Ativan)<>Hemoglobin pair\n",
      "No Data for Lorazepam (Ativan)<>Hemoglobin pair\n",
      "No Data for Lorazepam (Ativan)<>Hemoglobin A2 pair\n",
      "No Data for Lorazepam (Ativan)<>Hemoglobin A2 pair\n",
      "No Data for Lorazepam (Ativan)<>Hemoglobin C pair\n",
      "No Data for Lorazepam (Ativan)<>Hemoglobin C pair\n",
      "No Data for Lorazepam (Ativan)<>Hemoglobin F pair\n",
      "No Data for Lorazepam (Ativan)<>Hemoglobin F pair\n",
      "No Data for Lorazepam (Ativan)<>Hemoglobin percent pair\n",
      "No Data for Lorazepam (Ativan)<>Hemoglobin percent pair\n",
      "No Data for Lorazepam (Ativan)<>Lactic acid pair\n",
      "No Data for Lorazepam (Ativan)<>Lactic acid pair\n",
      "No Data for Lorazepam (Ativan)<>Magnesium pair\n",
      "No Data for Lorazepam (Ativan)<>Magnesium pair\n",
      "No Data for Lorazepam (Ativan)<>Magnesium, Urine pair\n",
      "No Data for Lorazepam (Ativan)<>Magnesium, Urine pair\n",
      "No Data for Lorazepam (Ativan)<>Potassium pair\n",
      "No Data for Lorazepam (Ativan)<>Potassium pair\n",
      "No Data for Lorazepam (Ativan)<>Prolactin pair\n",
      "No Data for Lorazepam (Ativan)<>Prolactin pair\n",
      "No Data for Lorazepam (Ativan)<>Prothrombin time INR pair\n",
      "No Data for Lorazepam (Ativan)<>Prothrombin time INR pair\n",
      "No Data for Lorazepam (Ativan)<>Red blood cell pair\n",
      "No Data for Lorazepam (Ativan)<>Red blood cell pair\n",
      "No Data for Lorazepam (Ativan)<>Uric Acid pair\n",
      "No Data for Lorazepam (Ativan)<>Uric Acid pair\n",
      "No Data for Lorazepam (Ativan)<>Uric Acid, Urine pair\n",
      "No Data for Lorazepam (Ativan)<>Uric Acid, Urine pair\n",
      "No Data for Lorazepam (Ativan)<>Vitamin B12 pair\n",
      "No Data for Lorazepam (Ativan)<>Vitamin B12 pair\n",
      "No Data for Magnesium Sulfate<>Albumin pair\n",
      "No Data for Magnesium Sulfate<>Albumin pair\n",
      "No Data for Magnesium Sulfate<>Calcium pair\n",
      "No Data for Magnesium Sulfate<>Calcium pair\n",
      "No Data for Magnesium Sulfate<>Calcium ionized pair\n",
      "No Data for Magnesium Sulfate<>Calcium ionized pair\n",
      "No Data for Magnesium Sulfate<>Creatinine pair\n",
      "No Data for Magnesium Sulfate<>Creatinine pair\n",
      "No Data for Magnesium Sulfate<>Creatinine ascites pair\n",
      "No Data for Magnesium Sulfate<>Creatinine ascites pair\n",
      "No Data for Magnesium Sulfate<>Hemoglobin pair\n",
      "No Data for Magnesium Sulfate<>Hemoglobin pair\n",
      "No Data for Magnesium Sulfate<>Hemoglobin percent pair\n",
      "No Data for Magnesium Sulfate<>Hemoglobin percent pair\n",
      "No Data for Magnesium Sulfate<>Lactic acid pair\n",
      "No Data for Magnesium Sulfate<>Lactic acid pair\n",
      "No Data for Magnesium Sulfate<>Magnesium pair\n",
      "No Data for Magnesium Sulfate<>Magnesium pair\n",
      "No Data for Magnesium Sulfate<>Magnesium, Urine pair\n",
      "No Data for Magnesium Sulfate<>Magnesium, Urine pair\n",
      "No Data for Magnesium Sulfate<>Potassium pair\n",
      "No Data for Magnesium Sulfate<>Potassium pair\n",
      "No Data for Magnesium Sulfate<>Prolactin pair\n",
      "No Data for Magnesium Sulfate<>Prolactin pair\n",
      "No Data for Magnesium Sulfate<>Prothrombin time INR pair\n",
      "No Data for Magnesium Sulfate<>Prothrombin time INR pair\n",
      "No Data for Magnesium Sulfate<>Red blood cell pair\n",
      "No Data for Magnesium Sulfate<>Red blood cell pair\n",
      "No Data for Magnesium Sulfate<>Uric Acid pair\n",
      "No Data for Magnesium Sulfate<>Uric Acid pair\n",
      "No Data for Magnesium Sulfate<>Uric Acid, Urine pair\n",
      "No Data for Magnesium Sulfate<>Uric Acid, Urine pair\n",
      "No Data for Magnesium Sulfate<>Vitamin B12 pair\n",
      "No Data for Magnesium Sulfate<>Vitamin B12 pair\n",
      "No Data for Magnesium Sulfate (Bolus)<>Albumin pair\n",
      "No Data for Magnesium Sulfate (Bolus)<>Albumin pair\n",
      "No Data for Magnesium Sulfate (Bolus)<>Bilirubin pair\n",
      "No Data for Magnesium Sulfate (Bolus)<>Bilirubin pair\n",
      "No Data for Magnesium Sulfate (Bolus)<>Calcium pair\n",
      "No Data for Magnesium Sulfate (Bolus)<>Calcium pair\n",
      "No Data for Magnesium Sulfate (Bolus)<>Calcium ionized pair\n",
      "No Data for Magnesium Sulfate (Bolus)<>Calcium ionized pair\n",
      "No Data for Magnesium Sulfate (Bolus)<>Creatinine pair\n",
      "No Data for Magnesium Sulfate (Bolus)<>Creatinine pair\n",
      "No Data for Magnesium Sulfate (Bolus)<>Creatinine ascites pair\n",
      "No Data for Magnesium Sulfate (Bolus)<>Creatinine ascites pair\n",
      "No Data for Magnesium Sulfate (Bolus)<>Hemoglobin pair\n",
      "No Data for Magnesium Sulfate (Bolus)<>Hemoglobin pair\n",
      "No Data for Magnesium Sulfate (Bolus)<>Hemoglobin percent pair\n",
      "No Data for Magnesium Sulfate (Bolus)<>Hemoglobin percent pair\n",
      "No Data for Magnesium Sulfate (Bolus)<>Lactic acid pair\n",
      "No Data for Magnesium Sulfate (Bolus)<>Lactic acid pair\n",
      "No Data for Magnesium Sulfate (Bolus)<>Magnesium pair\n",
      "No Data for Magnesium Sulfate (Bolus)<>Magnesium pair\n",
      "No Data for Magnesium Sulfate (Bolus)<>Magnesium, Urine pair\n",
      "No Data for Magnesium Sulfate (Bolus)<>Magnesium, Urine pair\n",
      "No Data for Magnesium Sulfate (Bolus)<>Potassium pair\n",
      "No Data for Magnesium Sulfate (Bolus)<>Potassium pair\n",
      "No Data for Magnesium Sulfate (Bolus)<>Prolactin pair\n",
      "No Data for Magnesium Sulfate (Bolus)<>Prolactin pair\n",
      "No Data for Magnesium Sulfate (Bolus)<>Prothrombin time INR pair\n",
      "No Data for Magnesium Sulfate (Bolus)<>Prothrombin time INR pair\n",
      "No Data for Magnesium Sulfate (Bolus)<>Red blood cell pair\n",
      "No Data for Magnesium Sulfate (Bolus)<>Red blood cell pair\n",
      "No Data for Magnesium Sulfate (Bolus)<>Uric Acid pair\n",
      "No Data for Magnesium Sulfate (Bolus)<>Uric Acid pair\n",
      "No Data for Magnesium Sulfate (Bolus)<>Uric Acid, Urine pair\n",
      "No Data for Magnesium Sulfate (Bolus)<>Uric Acid, Urine pair\n",
      "No Data for Magnesium Sulfate (Bolus)<>Vitamin B12 pair\n",
      "No Data for Magnesium Sulfate (Bolus)<>Vitamin B12 pair\n",
      "No Data for Mannitol<>Alanine aminotransferase pair\n",
      "No Data for Mannitol<>Alanine aminotransferase pair\n",
      "No Data for Mannitol<>Albumin pair\n",
      "No Data for Mannitol<>Albumin pair\n",
      "No Data for Mannitol<>Amylase pair\n",
      "No Data for Mannitol<>Amylase pair\n",
      "No Data for Mannitol<>Asparate aminotransferase pair\n",
      "No Data for Mannitol<>Asparate aminotransferase pair\n",
      "No Data for Mannitol<>Bilirubin pair\n",
      "No Data for Mannitol<>Bilirubin pair\n",
      "No Data for Mannitol<>Calcium pair\n",
      "No Data for Mannitol<>Calcium pair\n",
      "No Data for Mannitol<>Calcium ionized pair\n",
      "No Data for Mannitol<>Calcium ionized pair\n",
      "No Data for Mannitol<>Creatinine pair\n",
      "No Data for Mannitol<>Creatinine pair\n",
      "No Data for Mannitol<>Hemoglobin pair\n",
      "No Data for Mannitol<>Hemoglobin pair\n",
      "No Data for Mannitol<>Hemoglobin percent pair\n",
      "No Data for Mannitol<>Hemoglobin percent pair\n",
      "No Data for Mannitol<>Lactic acid pair\n",
      "No Data for Mannitol<>Lactic acid pair\n",
      "No Data for Mannitol<>Lipase pair\n",
      "No Data for Mannitol<>Lipase pair\n",
      "No Data for Mannitol<>Magnesium pair\n",
      "No Data for Mannitol<>Magnesium pair\n",
      "No Data for Mannitol<>Magnesium, Urine pair\n",
      "No Data for Mannitol<>Magnesium, Urine pair\n",
      "No Data for Mannitol<>Potassium pair\n",
      "No Data for Mannitol<>Potassium pair\n",
      "No Data for Mannitol<>Prothrombin time INR pair\n",
      "No Data for Mannitol<>Prothrombin time INR pair\n",
      "No Data for Mannitol<>Red blood cell pair\n",
      "No Data for Mannitol<>Red blood cell pair\n",
      "No Data for Mannitol<>Uric Acid pair\n",
      "No Data for Mannitol<>Uric Acid pair\n",
      "No Data for Meperidine (Demerol)<>Albumin pair\n",
      "No Data for Meperidine (Demerol)<>Albumin pair\n",
      "No Data for Meperidine (Demerol)<>Amylase pair\n",
      "No Data for Meperidine (Demerol)<>Amylase pair\n",
      "No Data for Meperidine (Demerol)<>Bilirubin pair\n",
      "No Data for Meperidine (Demerol)<>Bilirubin pair\n",
      "No Data for Meperidine (Demerol)<>Calcium pair\n",
      "No Data for Meperidine (Demerol)<>Calcium pair\n",
      "No Data for Meperidine (Demerol)<>Calcium ionized pair\n",
      "No Data for Meperidine (Demerol)<>Calcium ionized pair\n",
      "No Data for Meperidine (Demerol)<>Creatinine pair\n",
      "No Data for Meperidine (Demerol)<>Creatinine pair\n",
      "No Data for Meperidine (Demerol)<>Hemoglobin pair\n",
      "No Data for Meperidine (Demerol)<>Hemoglobin pair\n",
      "No Data for Meperidine (Demerol)<>Hemoglobin percent pair\n",
      "No Data for Meperidine (Demerol)<>Hemoglobin percent pair\n",
      "No Data for Meperidine (Demerol)<>Lactic acid pair\n",
      "No Data for Meperidine (Demerol)<>Lactic acid pair\n",
      "No Data for Meperidine (Demerol)<>Lipase pair\n",
      "No Data for Meperidine (Demerol)<>Lipase pair\n",
      "No Data for Meperidine (Demerol)<>Magnesium pair\n",
      "No Data for Meperidine (Demerol)<>Magnesium pair\n",
      "No Data for Meperidine (Demerol)<>Potassium pair\n",
      "No Data for Meperidine (Demerol)<>Potassium pair\n",
      "No Data for Meperidine (Demerol)<>Prothrombin time INR pair\n",
      "No Data for Meperidine (Demerol)<>Prothrombin time INR pair\n",
      "No Data for Meperidine (Demerol)<>Red blood cell pair\n",
      "No Data for Meperidine (Demerol)<>Red blood cell pair\n",
      "No Data for Meperidine (Demerol)<>Uric Acid pair\n",
      "No Data for Meperidine (Demerol)<>Uric Acid pair\n",
      "No Data for Meperidine (Demerol)<>Uric Acid, Urine pair\n",
      "No Data for Meperidine (Demerol)<>Uric Acid, Urine pair\n",
      "No Data for Meropenem<>Albumin pair\n",
      "No Data for Meropenem<>Albumin pair\n",
      "No Data for Meropenem<>Bilirubin pair\n",
      "No Data for Meropenem<>Bilirubin pair\n",
      "No Data for Meropenem<>Calcium pair\n",
      "No Data for Meropenem<>Calcium pair\n",
      "No Data for Meropenem<>Calcium ionized pair\n",
      "No Data for Meropenem<>Calcium ionized pair\n",
      "No Data for Meropenem<>Creatinine pair\n",
      "No Data for Meropenem<>Creatinine pair\n",
      "No Data for Meropenem<>Creatinine ascites pair\n",
      "No Data for Meropenem<>Creatinine ascites pair\n",
      "No Data for Meropenem<>Hemoglobin pair\n",
      "No Data for Meropenem<>Hemoglobin pair\n",
      "No Data for Meropenem<>Hemoglobin percent pair\n",
      "No Data for Meropenem<>Hemoglobin percent pair\n",
      "No Data for Meropenem<>Lactic acid pair\n",
      "No Data for Meropenem<>Lactic acid pair\n",
      "No Data for Meropenem<>Magnesium pair\n",
      "No Data for Meropenem<>Magnesium pair\n",
      "No Data for Meropenem<>Magnesium, Urine pair\n",
      "No Data for Meropenem<>Magnesium, Urine pair\n",
      "No Data for Meropenem<>Potassium pair\n",
      "No Data for Meropenem<>Potassium pair\n",
      "No Data for Meropenem<>Prolactin pair\n",
      "No Data for Meropenem<>Prolactin pair\n",
      "No Data for Meropenem<>Prothrombin time INR pair\n",
      "No Data for Meropenem<>Prothrombin time INR pair\n",
      "No Data for Meropenem<>Red blood cell pair\n",
      "No Data for Meropenem<>Red blood cell pair\n",
      "No Data for Meropenem<>Uric Acid pair\n",
      "No Data for Meropenem<>Uric Acid pair\n",
      "No Data for Meropenem<>Uric Acid, Urine pair\n",
      "No Data for Meropenem<>Uric Acid, Urine pair\n",
      "No Data for Meropenem<>Vitamin B12 pair\n",
      "No Data for Meropenem<>Vitamin B12 pair\n",
      "No Data for Methadone Hydrochloride<>Albumin pair\n",
      "No Data for Methadone Hydrochloride<>Albumin pair\n",
      "No Data for Methadone Hydrochloride<>Amylase pair\n",
      "No Data for Methadone Hydrochloride<>Amylase pair\n",
      "No Data for Methadone Hydrochloride<>Bilirubin pair\n",
      "No Data for Methadone Hydrochloride<>Bilirubin pair\n",
      "No Data for Methadone Hydrochloride<>Calcium pair\n",
      "No Data for Methadone Hydrochloride<>Calcium pair\n",
      "No Data for Methadone Hydrochloride<>Calcium ionized pair\n",
      "No Data for Methadone Hydrochloride<>Calcium ionized pair\n",
      "No Data for Methadone Hydrochloride<>Creatinine pair\n",
      "No Data for Methadone Hydrochloride<>Creatinine pair\n",
      "No Data for Methadone Hydrochloride<>Hemoglobin pair\n",
      "No Data for Methadone Hydrochloride<>Hemoglobin pair\n",
      "No Data for Methadone Hydrochloride<>Lactic acid pair\n",
      "No Data for Methadone Hydrochloride<>Lactic acid pair\n",
      "No Data for Methadone Hydrochloride<>Lipase pair\n",
      "No Data for Methadone Hydrochloride<>Lipase pair\n",
      "No Data for Methadone Hydrochloride<>Magnesium pair\n",
      "No Data for Methadone Hydrochloride<>Magnesium pair\n",
      "No Data for Methadone Hydrochloride<>Potassium pair\n",
      "No Data for Methadone Hydrochloride<>Potassium pair\n",
      "No Data for Methadone Hydrochloride<>Prothrombin time INR pair\n",
      "No Data for Methadone Hydrochloride<>Prothrombin time INR pair\n",
      "No Data for Methadone Hydrochloride<>Red blood cell pair\n",
      "No Data for Methadone Hydrochloride<>Red blood cell pair\n",
      "No Data for Methadone Hydrochloride<>Vitamin B12 pair\n",
      "No Data for Methadone Hydrochloride<>Vitamin B12 pair\n",
      "No Data for Metoprolol<>Albumin pair\n",
      "No Data for Metoprolol<>Albumin pair\n",
      "No Data for Metoprolol<>Bilirubin pair\n",
      "No Data for Metoprolol<>Bilirubin pair\n",
      "No Data for Metoprolol<>Calcium pair\n",
      "No Data for Metoprolol<>Calcium pair\n",
      "No Data for Metoprolol<>Calcium ionized pair\n",
      "No Data for Metoprolol<>Calcium ionized pair\n",
      "No Data for Metoprolol<>Creatinine pair\n",
      "No Data for Metoprolol<>Creatinine pair\n",
      "No Data for Metoprolol<>Creatinine ascites pair\n",
      "No Data for Metoprolol<>Creatinine ascites pair\n",
      "No Data for Metoprolol<>Hemoglobin pair\n",
      "No Data for Metoprolol<>Hemoglobin pair\n",
      "No Data for Metoprolol<>Hemoglobin percent pair\n",
      "No Data for Metoprolol<>Hemoglobin percent pair\n",
      "No Data for Metoprolol<>Lactic acid pair\n",
      "No Data for Metoprolol<>Lactic acid pair\n",
      "No Data for Metoprolol<>Magnesium pair\n",
      "No Data for Metoprolol<>Magnesium pair\n",
      "No Data for Metoprolol<>Magnesium, Urine pair\n",
      "No Data for Metoprolol<>Magnesium, Urine pair\n",
      "No Data for Metoprolol<>Potassium pair\n",
      "No Data for Metoprolol<>Potassium pair\n",
      "No Data for Metoprolol<>Prothrombin time INR pair\n",
      "No Data for Metoprolol<>Prothrombin time INR pair\n",
      "No Data for Metoprolol<>Red blood cell pair\n",
      "No Data for Metoprolol<>Red blood cell pair\n",
      "No Data for Metoprolol<>Uric Acid pair\n",
      "No Data for Metoprolol<>Uric Acid pair\n",
      "No Data for Metoprolol<>Uric Acid, Urine pair\n",
      "No Data for Metoprolol<>Uric Acid, Urine pair\n",
      "No Data for Metoprolol<>Vitamin B12 pair\n",
      "No Data for Metoprolol<>Vitamin B12 pair\n",
      "No Data for Metronidazole<>Albumin pair\n",
      "No Data for Metronidazole<>Albumin pair\n",
      "No Data for Metronidazole<>Bilirubin pair\n",
      "No Data for Metronidazole<>Bilirubin pair\n",
      "No Data for Metronidazole<>Calcium pair\n",
      "No Data for Metronidazole<>Calcium pair\n",
      "No Data for Metronidazole<>Calcium ionized pair\n",
      "No Data for Metronidazole<>Calcium ionized pair\n",
      "No Data for Metronidazole<>Creatinine pair\n",
      "No Data for Metronidazole<>Creatinine pair\n",
      "No Data for Metronidazole<>Creatinine ascites pair\n",
      "No Data for Metronidazole<>Creatinine ascites pair\n",
      "No Data for Metronidazole<>Hemoglobin pair\n",
      "No Data for Metronidazole<>Hemoglobin pair\n",
      "No Data for Metronidazole<>Hemoglobin percent pair\n",
      "No Data for Metronidazole<>Hemoglobin percent pair\n",
      "No Data for Metronidazole<>Lactic acid pair\n",
      "No Data for Metronidazole<>Lactic acid pair\n",
      "No Data for Metronidazole<>Magnesium pair\n",
      "No Data for Metronidazole<>Magnesium pair\n",
      "No Data for Metronidazole<>Potassium pair\n",
      "No Data for Metronidazole<>Potassium pair\n",
      "No Data for Metronidazole<>Prolactin pair\n",
      "No Data for Metronidazole<>Prolactin pair\n",
      "No Data for Metronidazole<>Prothrombin time INR pair\n",
      "No Data for Metronidazole<>Prothrombin time INR pair\n",
      "No Data for Metronidazole<>Red blood cell pair\n",
      "No Data for Metronidazole<>Red blood cell pair\n",
      "No Data for Metronidazole<>Uric Acid pair\n",
      "No Data for Metronidazole<>Uric Acid pair\n",
      "No Data for Metronidazole<>Uric Acid, Urine pair\n",
      "No Data for Metronidazole<>Uric Acid, Urine pair\n",
      "No Data for Metronidazole<>Vitamin B12 pair\n",
      "No Data for Metronidazole<>Vitamin B12 pair\n",
      "No Data for Micafungin<>Albumin pair\n",
      "No Data for Micafungin<>Albumin pair\n",
      "No Data for Micafungin<>Bilirubin pair\n",
      "No Data for Micafungin<>Bilirubin pair\n",
      "No Data for Micafungin<>Calcium pair\n",
      "No Data for Micafungin<>Calcium pair\n",
      "No Data for Micafungin<>Calcium ionized pair\n",
      "No Data for Micafungin<>Calcium ionized pair\n",
      "No Data for Micafungin<>Creatinine pair\n",
      "No Data for Micafungin<>Creatinine pair\n",
      "No Data for Micafungin<>Hemoglobin pair\n",
      "No Data for Micafungin<>Hemoglobin pair\n",
      "No Data for Micafungin<>Lactic acid pair\n",
      "No Data for Micafungin<>Lactic acid pair\n",
      "No Data for Micafungin<>Magnesium pair\n",
      "No Data for Micafungin<>Magnesium pair\n",
      "No Data for Micafungin<>Magnesium, Urine pair\n",
      "No Data for Micafungin<>Magnesium, Urine pair\n",
      "No Data for Micafungin<>Potassium pair\n",
      "No Data for Micafungin<>Potassium pair\n",
      "No Data for Micafungin<>Prolactin pair\n",
      "No Data for Micafungin<>Prolactin pair\n",
      "No Data for Micafungin<>Prothrombin time INR pair\n",
      "No Data for Micafungin<>Prothrombin time INR pair\n",
      "No Data for Micafungin<>Red blood cell pair\n",
      "No Data for Micafungin<>Red blood cell pair\n",
      "No Data for Micafungin<>Uric Acid pair\n",
      "No Data for Micafungin<>Uric Acid pair\n",
      "No Data for Micafungin<>Uric Acid, Urine pair\n",
      "No Data for Micafungin<>Uric Acid, Urine pair\n",
      "No Data for Midazolam (Versed)<>Albumin pair\n",
      "No Data for Midazolam (Versed)<>Albumin pair\n",
      "No Data for Midazolam (Versed)<>Amylase pair\n",
      "No Data for Midazolam (Versed)<>Amylase pair\n",
      "No Data for Midazolam (Versed)<>Bilirubin pair\n",
      "No Data for Midazolam (Versed)<>Bilirubin pair\n",
      "No Data for Midazolam (Versed)<>Calcium pair\n",
      "No Data for Midazolam (Versed)<>Calcium pair\n",
      "No Data for Midazolam (Versed)<>Calcium ionized pair\n",
      "No Data for Midazolam (Versed)<>Calcium ionized pair\n",
      "No Data for Midazolam (Versed)<>Creatinine pair\n",
      "No Data for Midazolam (Versed)<>Creatinine pair\n",
      "No Data for Midazolam (Versed)<>Creatinine ascites pair\n",
      "No Data for Midazolam (Versed)<>Creatinine ascites pair\n",
      "No Data for Midazolam (Versed)<>Hemoglobin pair\n",
      "No Data for Midazolam (Versed)<>Hemoglobin pair\n",
      "No Data for Midazolam (Versed)<>Hemoglobin percent pair\n",
      "No Data for Midazolam (Versed)<>Hemoglobin percent pair\n",
      "No Data for Midazolam (Versed)<>Lactic acid pair\n",
      "No Data for Midazolam (Versed)<>Lactic acid pair\n",
      "No Data for Midazolam (Versed)<>Magnesium pair\n",
      "No Data for Midazolam (Versed)<>Magnesium pair\n",
      "No Data for Midazolam (Versed)<>Magnesium, Urine pair\n",
      "No Data for Midazolam (Versed)<>Magnesium, Urine pair\n",
      "No Data for Midazolam (Versed)<>Potassium pair\n",
      "No Data for Midazolam (Versed)<>Potassium pair\n",
      "No Data for Midazolam (Versed)<>Prolactin pair\n",
      "No Data for Midazolam (Versed)<>Prolactin pair\n",
      "No Data for Midazolam (Versed)<>Prothrombin time INR pair\n",
      "No Data for Midazolam (Versed)<>Prothrombin time INR pair\n",
      "No Data for Midazolam (Versed)<>Red blood cell pair\n",
      "No Data for Midazolam (Versed)<>Red blood cell pair\n",
      "No Data for Midazolam (Versed)<>Uric Acid pair\n",
      "No Data for Midazolam (Versed)<>Uric Acid pair\n",
      "No Data for Midazolam (Versed)<>Uric Acid, Urine pair\n",
      "No Data for Midazolam (Versed)<>Uric Acid, Urine pair\n",
      "No Data for Midazolam (Versed)<>Vitamin B12 pair\n",
      "No Data for Midazolam (Versed)<>Vitamin B12 pair\n",
      "No Data for Mighty Shake (no sugar added)<>Alanine aminotransferase pair\n",
      "No Data for Mighty Shake (no sugar added)<>Alanine aminotransferase pair\n",
      "No Data for Mighty Shake (no sugar added)<>Albumin pair\n",
      "No Data for Mighty Shake (no sugar added)<>Albumin pair\n",
      "No Data for Mighty Shake (no sugar added)<>Amylase pair\n",
      "No Data for Mighty Shake (no sugar added)<>Amylase pair\n",
      "No Data for Mighty Shake (no sugar added)<>Asparate aminotransferase pair\n",
      "No Data for Mighty Shake (no sugar added)<>Asparate aminotransferase pair\n",
      "No Data for Mighty Shake (no sugar added)<>Bilirubin pair\n",
      "No Data for Mighty Shake (no sugar added)<>Bilirubin pair\n",
      "No Data for Mighty Shake (no sugar added)<>Creatinine pair\n",
      "No Data for Mighty Shake (no sugar added)<>Creatinine pair\n",
      "No Data for Mighty Shake (no sugar added)<>Glucose pair\n",
      "No Data for Mighty Shake (no sugar added)<>Glucose pair\n",
      "No Data for Mighty Shake (no sugar added)<>Hematocrit pair\n",
      "No Data for Mighty Shake (no sugar added)<>Hematocrit pair\n",
      "No Data for Mighty Shake (no sugar added)<>Hemoglobin pair\n",
      "No Data for Mighty Shake (no sugar added)<>Hemoglobin pair\n",
      "No Data for Mighty Shake (no sugar added)<>Lipase pair\n",
      "No Data for Mighty Shake (no sugar added)<>Lipase pair\n",
      "No Data for Mighty Shake (no sugar added)<>Magnesium pair\n",
      "No Data for Mighty Shake (no sugar added)<>Magnesium pair\n",
      "No Data for Mighty Shake (no sugar added)<>Platelets pair\n",
      "No Data for Mighty Shake (no sugar added)<>Platelets pair\n",
      "No Data for Mighty Shake (no sugar added)<>Potassium pair\n",
      "No Data for Mighty Shake (no sugar added)<>Potassium pair\n",
      "No Data for Mighty Shake (no sugar added)<>Red blood cell pair\n",
      "No Data for Mighty Shake (no sugar added)<>Red blood cell pair\n",
      "No Data for Mighty Shake (no sugar added)<>Sodium pair\n",
      "No Data for Mighty Shake (no sugar added)<>Sodium pair\n",
      "No Data for Milrinone<>Alanine aminotransferase pair\n",
      "No Data for Milrinone<>Alanine aminotransferase pair\n",
      "No Data for Milrinone<>Albumin pair\n",
      "No Data for Milrinone<>Albumin pair\n",
      "No Data for Milrinone<>Amylase pair\n",
      "No Data for Milrinone<>Amylase pair\n",
      "No Data for Milrinone<>Asparate aminotransferase pair\n",
      "No Data for Milrinone<>Asparate aminotransferase pair\n",
      "No Data for Milrinone<>Bilirubin pair\n",
      "No Data for Milrinone<>Bilirubin pair\n",
      "No Data for Milrinone<>Calcium pair\n",
      "No Data for Milrinone<>Calcium pair\n",
      "No Data for Milrinone<>Calcium ionized pair\n",
      "No Data for Milrinone<>Calcium ionized pair\n",
      "No Data for Milrinone<>Creatinine pair\n",
      "No Data for Milrinone<>Creatinine pair\n",
      "No Data for Milrinone<>Hemoglobin pair\n",
      "No Data for Milrinone<>Hemoglobin pair\n",
      "No Data for Milrinone<>Hemoglobin percent pair\n",
      "No Data for Milrinone<>Hemoglobin percent pair\n",
      "No Data for Milrinone<>Lactic acid pair\n",
      "No Data for Milrinone<>Lactic acid pair\n",
      "No Data for Milrinone<>Lipase pair\n",
      "No Data for Milrinone<>Lipase pair\n",
      "No Data for Milrinone<>Magnesium pair\n",
      "No Data for Milrinone<>Magnesium pair\n",
      "No Data for Milrinone<>Potassium pair\n",
      "No Data for Milrinone<>Potassium pair\n",
      "No Data for Milrinone<>Prothrombin time INR pair\n",
      "No Data for Milrinone<>Prothrombin time INR pair\n",
      "No Data for Milrinone<>Red blood cell pair\n",
      "No Data for Milrinone<>Red blood cell pair\n",
      "No Data for Milrinone<>Uric Acid pair\n",
      "No Data for Milrinone<>Uric Acid pair\n",
      "No Data for Morphine Sulfate<>Albumin pair\n",
      "No Data for Morphine Sulfate<>Albumin pair\n",
      "No Data for Morphine Sulfate<>Bilirubin pair\n",
      "No Data for Morphine Sulfate<>Bilirubin pair\n",
      "No Data for Morphine Sulfate<>Calcium pair\n",
      "No Data for Morphine Sulfate<>Calcium pair\n",
      "No Data for Morphine Sulfate<>Calcium ionized pair\n",
      "No Data for Morphine Sulfate<>Calcium ionized pair\n",
      "No Data for Morphine Sulfate<>Creatinine pair\n",
      "No Data for Morphine Sulfate<>Creatinine pair\n",
      "No Data for Morphine Sulfate<>Hemoglobin pair\n",
      "No Data for Morphine Sulfate<>Hemoglobin pair\n",
      "No Data for Morphine Sulfate<>Hemoglobin percent pair\n",
      "No Data for Morphine Sulfate<>Hemoglobin percent pair\n",
      "No Data for Morphine Sulfate<>Lactic acid pair\n",
      "No Data for Morphine Sulfate<>Lactic acid pair\n",
      "No Data for Morphine Sulfate<>Magnesium pair\n",
      "No Data for Morphine Sulfate<>Magnesium pair\n",
      "No Data for Morphine Sulfate<>Magnesium, Urine pair\n",
      "No Data for Morphine Sulfate<>Magnesium, Urine pair\n",
      "No Data for Morphine Sulfate<>Potassium pair\n",
      "No Data for Morphine Sulfate<>Potassium pair\n",
      "No Data for Morphine Sulfate<>Prolactin pair\n",
      "No Data for Morphine Sulfate<>Prolactin pair\n",
      "No Data for Morphine Sulfate<>Prothrombin time INR pair\n",
      "No Data for Morphine Sulfate<>Prothrombin time INR pair\n",
      "No Data for Morphine Sulfate<>Red blood cell pair\n",
      "No Data for Morphine Sulfate<>Red blood cell pair\n",
      "No Data for Morphine Sulfate<>Uric Acid pair\n",
      "No Data for Morphine Sulfate<>Uric Acid pair\n",
      "No Data for Morphine Sulfate<>Uric Acid, Urine pair\n",
      "No Data for Morphine Sulfate<>Uric Acid, Urine pair\n",
      "No Data for Morphine Sulfate<>Vitamin B12 pair\n",
      "No Data for Morphine Sulfate<>Vitamin B12 pair\n",
      "No Data for Moxifloxacin<>Alanine aminotransferase pair\n",
      "No Data for Moxifloxacin<>Alanine aminotransferase pair\n",
      "No Data for Moxifloxacin<>Albumin pair\n",
      "No Data for Moxifloxacin<>Albumin pair\n",
      "No Data for Moxifloxacin<>Asparate aminotransferase pair\n",
      "No Data for Moxifloxacin<>Asparate aminotransferase pair\n",
      "No Data for Moxifloxacin<>Bilirubin pair\n",
      "No Data for Moxifloxacin<>Bilirubin pair\n",
      "No Data for Moxifloxacin<>Calcium pair\n",
      "No Data for Moxifloxacin<>Calcium pair\n",
      "No Data for Moxifloxacin<>Creatinine pair\n",
      "No Data for Moxifloxacin<>Creatinine pair\n",
      "No Data for Moxifloxacin<>Glucose pair\n",
      "No Data for Moxifloxacin<>Glucose pair\n",
      "No Data for Moxifloxacin<>Hematocrit pair\n",
      "No Data for Moxifloxacin<>Hematocrit pair\n",
      "No Data for Moxifloxacin<>Hemoglobin pair\n",
      "No Data for Moxifloxacin<>Hemoglobin pair\n",
      "No Data for Moxifloxacin<>Magnesium pair\n",
      "No Data for Moxifloxacin<>Magnesium pair\n",
      "No Data for Moxifloxacin<>Platelets pair\n",
      "No Data for Moxifloxacin<>Platelets pair\n",
      "No Data for Moxifloxacin<>Potassium pair\n",
      "No Data for Moxifloxacin<>Potassium pair\n",
      "No Data for Moxifloxacin<>Red blood cell pair\n",
      "No Data for Moxifloxacin<>Red blood cell pair\n",
      "No Data for Moxifloxacin<>Sodium pair\n",
      "No Data for Moxifloxacin<>Sodium pair\n",
      "No Data for Moxifloxacin<>Uric Acid pair\n",
      "No Data for Moxifloxacin<>Uric Acid pair\n",
      "No Data for Multivitamins<>Albumin pair\n",
      "No Data for Multivitamins<>Albumin pair\n",
      "No Data for Multivitamins<>Bilirubin pair\n",
      "No Data for Multivitamins<>Bilirubin pair\n",
      "No Data for Multivitamins<>Calcium pair\n",
      "No Data for Multivitamins<>Calcium pair\n",
      "No Data for Multivitamins<>Calcium ionized pair\n",
      "No Data for Multivitamins<>Calcium ionized pair\n",
      "No Data for Multivitamins<>Creatinine pair\n",
      "No Data for Multivitamins<>Creatinine pair\n",
      "No Data for Multivitamins<>Creatinine ascites pair\n",
      "No Data for Multivitamins<>Creatinine ascites pair\n",
      "No Data for Multivitamins<>Hemoglobin pair\n",
      "No Data for Multivitamins<>Hemoglobin pair\n",
      "No Data for Multivitamins<>Hemoglobin percent pair\n",
      "No Data for Multivitamins<>Hemoglobin percent pair\n",
      "No Data for Multivitamins<>Lactic acid pair\n",
      "No Data for Multivitamins<>Lactic acid pair\n",
      "No Data for Multivitamins<>Magnesium pair\n",
      "No Data for Multivitamins<>Magnesium pair\n",
      "No Data for Multivitamins<>Magnesium, Urine pair\n",
      "No Data for Multivitamins<>Magnesium, Urine pair\n",
      "No Data for Multivitamins<>Potassium pair\n",
      "No Data for Multivitamins<>Potassium pair\n",
      "No Data for Multivitamins<>Prolactin pair\n",
      "No Data for Multivitamins<>Prolactin pair\n",
      "No Data for Multivitamins<>Prothrombin time INR pair\n",
      "No Data for Multivitamins<>Prothrombin time INR pair\n",
      "No Data for Multivitamins<>Red blood cell pair\n",
      "No Data for Multivitamins<>Red blood cell pair\n",
      "No Data for Multivitamins<>Uric Acid pair\n",
      "No Data for Multivitamins<>Uric Acid pair\n",
      "No Data for Multivitamins<>Uric Acid, Urine pair\n",
      "No Data for Multivitamins<>Uric Acid, Urine pair\n",
      "No Data for Multivitamins<>Vitamin B12 pair\n",
      "No Data for Multivitamins<>Vitamin B12 pair\n",
      "No Data for Na Phos<>Albumin pair\n",
      "No Data for Na Phos<>Albumin pair\n",
      "No Data for Na Phos<>Bilirubin pair\n",
      "No Data for Na Phos<>Bilirubin pair\n",
      "No Data for Na Phos<>Calcium pair\n",
      "No Data for Na Phos<>Calcium pair\n",
      "No Data for Na Phos<>Calcium ionized pair\n",
      "No Data for Na Phos<>Calcium ionized pair\n",
      "No Data for Na Phos<>Creatinine pair\n",
      "No Data for Na Phos<>Creatinine pair\n",
      "No Data for Na Phos<>Hemoglobin pair\n",
      "No Data for Na Phos<>Hemoglobin pair\n",
      "No Data for Na Phos<>Hemoglobin percent pair\n",
      "No Data for Na Phos<>Hemoglobin percent pair\n",
      "No Data for Na Phos<>Lactic acid pair\n",
      "No Data for Na Phos<>Lactic acid pair\n",
      "No Data for Na Phos<>Magnesium pair\n",
      "No Data for Na Phos<>Magnesium pair\n",
      "No Data for Na Phos<>Magnesium, Urine pair\n",
      "No Data for Na Phos<>Magnesium, Urine pair\n",
      "No Data for Na Phos<>Potassium pair\n",
      "No Data for Na Phos<>Potassium pair\n",
      "No Data for Na Phos<>Prothrombin time INR pair\n",
      "No Data for Na Phos<>Prothrombin time INR pair\n",
      "No Data for Na Phos<>Red blood cell pair\n",
      "No Data for Na Phos<>Red blood cell pair\n",
      "No Data for Na Phos<>Uric Acid pair\n",
      "No Data for Na Phos<>Uric Acid pair\n",
      "No Data for Na Phos<>Vitamin B12 pair\n",
      "No Data for Na Phos<>Vitamin B12 pair\n",
      "No Data for NaCl 0.45%<>Albumin pair\n",
      "No Data for NaCl 0.45%<>Albumin pair\n",
      "No Data for NaCl 0.45%<>Amylase pair\n",
      "No Data for NaCl 0.45%<>Amylase pair\n",
      "No Data for NaCl 0.45%<>Bilirubin pair\n",
      "No Data for NaCl 0.45%<>Bilirubin pair\n",
      "No Data for NaCl 0.45%<>Calcium pair\n",
      "No Data for NaCl 0.45%<>Calcium pair\n",
      "No Data for NaCl 0.45%<>Calcium ionized pair\n",
      "No Data for NaCl 0.45%<>Calcium ionized pair\n",
      "No Data for NaCl 0.45%<>Creatinine pair\n",
      "No Data for NaCl 0.45%<>Creatinine pair\n",
      "No Data for NaCl 0.45%<>Hemoglobin pair\n",
      "No Data for NaCl 0.45%<>Hemoglobin pair\n",
      "No Data for NaCl 0.45%<>Hemoglobin percent pair\n",
      "No Data for NaCl 0.45%<>Hemoglobin percent pair\n",
      "No Data for NaCl 0.45%<>Lactic acid pair\n",
      "No Data for NaCl 0.45%<>Lactic acid pair\n",
      "No Data for NaCl 0.45%<>Lipase pair\n",
      "No Data for NaCl 0.45%<>Lipase pair\n",
      "No Data for NaCl 0.45%<>Magnesium pair\n",
      "No Data for NaCl 0.45%<>Magnesium pair\n",
      "No Data for NaCl 0.45%<>Magnesium, Urine pair\n",
      "No Data for NaCl 0.45%<>Magnesium, Urine pair\n",
      "No Data for NaCl 0.45%<>Potassium pair\n",
      "No Data for NaCl 0.45%<>Potassium pair\n",
      "No Data for NaCl 0.45%<>Prolactin pair\n",
      "No Data for NaCl 0.45%<>Prolactin pair\n",
      "No Data for NaCl 0.45%<>Prothrombin time INR pair\n",
      "No Data for NaCl 0.45%<>Prothrombin time INR pair\n",
      "No Data for NaCl 0.45%<>Red blood cell pair\n",
      "No Data for NaCl 0.45%<>Red blood cell pair\n",
      "No Data for NaCl 0.45%<>Uric Acid pair\n",
      "No Data for NaCl 0.45%<>Uric Acid pair\n",
      "No Data for NaCl 0.45%<>Uric Acid, Urine pair\n",
      "No Data for NaCl 0.45%<>Uric Acid, Urine pair\n",
      "No Data for NaCl 0.45%<>Vitamin B12 pair\n",
      "No Data for NaCl 0.45%<>Vitamin B12 pair\n",
      "No Data for NaCl 0.9%<>Albumin pair\n",
      "No Data for NaCl 0.9%<>Albumin pair\n",
      "No Data for NaCl 0.9%<>Calcium pair\n",
      "No Data for NaCl 0.9%<>Calcium pair\n",
      "No Data for NaCl 0.9%<>Calcium ionized pair\n",
      "No Data for NaCl 0.9%<>Calcium ionized pair\n",
      "No Data for NaCl 0.9%<>Creatinine pair\n",
      "No Data for NaCl 0.9%<>Creatinine pair\n",
      "No Data for NaCl 0.9%<>Creatinine ascites pair\n",
      "No Data for NaCl 0.9%<>Creatinine ascites pair\n",
      "No Data for NaCl 0.9%<>Hemoglobin pair\n",
      "No Data for NaCl 0.9%<>Hemoglobin pair\n",
      "No Data for NaCl 0.9%<>Hemoglobin A2 pair\n",
      "No Data for NaCl 0.9%<>Hemoglobin A2 pair\n",
      "No Data for NaCl 0.9%<>Hemoglobin C pair\n",
      "No Data for NaCl 0.9%<>Hemoglobin C pair\n",
      "No Data for NaCl 0.9%<>Hemoglobin F pair\n",
      "No Data for NaCl 0.9%<>Hemoglobin F pair\n",
      "No Data for NaCl 0.9%<>Hemoglobin percent pair\n",
      "No Data for NaCl 0.9%<>Hemoglobin percent pair\n",
      "No Data for NaCl 0.9%<>Lactic acid pair\n",
      "No Data for NaCl 0.9%<>Lactic acid pair\n",
      "No Data for NaCl 0.9%<>Magnesium pair\n",
      "No Data for NaCl 0.9%<>Magnesium pair\n",
      "No Data for NaCl 0.9%<>Magnesium, Urine pair\n",
      "No Data for NaCl 0.9%<>Magnesium, Urine pair\n",
      "No Data for NaCl 0.9%<>Potassium pair\n",
      "No Data for NaCl 0.9%<>Potassium pair\n",
      "No Data for NaCl 0.9%<>Prolactin pair\n",
      "No Data for NaCl 0.9%<>Prolactin pair\n",
      "No Data for NaCl 0.9%<>Prothrombin time INR pair\n",
      "No Data for NaCl 0.9%<>Prothrombin time INR pair\n",
      "No Data for NaCl 0.9%<>Red blood cell pair\n",
      "No Data for NaCl 0.9%<>Red blood cell pair\n",
      "No Data for NaCl 0.9%<>Uric Acid pair\n",
      "No Data for NaCl 0.9%<>Uric Acid pair\n",
      "No Data for NaCl 0.9%<>Uric Acid, Urine pair\n",
      "No Data for NaCl 0.9%<>Uric Acid, Urine pair\n",
      "No Data for NaCl 0.9%<>Vitamin B12 pair\n",
      "No Data for NaCl 0.9%<>Vitamin B12 pair\n",
      "No Data for NaCl 23.4%<>Alanine aminotransferase pair\n",
      "No Data for NaCl 23.4%<>Alanine aminotransferase pair\n",
      "No Data for NaCl 23.4%<>Albumin pair\n",
      "No Data for NaCl 23.4%<>Albumin pair\n",
      "No Data for NaCl 23.4%<>Asparate aminotransferase pair\n",
      "No Data for NaCl 23.4%<>Asparate aminotransferase pair\n",
      "No Data for NaCl 23.4%<>Bilirubin pair\n",
      "No Data for NaCl 23.4%<>Bilirubin pair\n",
      "No Data for NaCl 23.4%<>Calcium pair\n",
      "No Data for NaCl 23.4%<>Calcium pair\n",
      "No Data for NaCl 23.4%<>Calcium ionized pair\n",
      "No Data for NaCl 23.4%<>Calcium ionized pair\n",
      "No Data for NaCl 23.4%<>Creatinine pair\n",
      "No Data for NaCl 23.4%<>Creatinine pair\n",
      "No Data for NaCl 23.4%<>Glucose pair\n",
      "No Data for NaCl 23.4%<>Glucose pair\n",
      "No Data for NaCl 23.4%<>Hematocrit pair\n",
      "No Data for NaCl 23.4%<>Hematocrit pair\n",
      "No Data for NaCl 23.4%<>Hemoglobin pair\n",
      "No Data for NaCl 23.4%<>Hemoglobin pair\n",
      "No Data for NaCl 23.4%<>Lactic acid pair\n",
      "No Data for NaCl 23.4%<>Lactic acid pair\n",
      "No Data for NaCl 23.4%<>Magnesium pair\n",
      "No Data for NaCl 23.4%<>Magnesium pair\n",
      "No Data for NaCl 23.4%<>PTT pair\n",
      "No Data for NaCl 23.4%<>PTT pair\n",
      "No Data for NaCl 23.4%<>Platelets pair\n",
      "No Data for NaCl 23.4%<>Platelets pair\n",
      "No Data for NaCl 23.4%<>Potassium pair\n",
      "No Data for NaCl 23.4%<>Potassium pair\n",
      "No Data for NaCl 23.4%<>Prothrombin time INR pair\n",
      "No Data for NaCl 23.4%<>Prothrombin time INR pair\n",
      "No Data for NaCl 23.4%<>Red blood cell pair\n",
      "No Data for NaCl 23.4%<>Red blood cell pair\n",
      "No Data for NaCl 23.4%<>Sodium pair\n",
      "No Data for NaCl 23.4%<>Sodium pair\n",
      "No Data for NaCl 3% (Hypertonic Saline)<>Alanine aminotransferase pair\n",
      "No Data for NaCl 3% (Hypertonic Saline)<>Alanine aminotransferase pair\n",
      "No Data for NaCl 3% (Hypertonic Saline)<>Albumin pair\n",
      "No Data for NaCl 3% (Hypertonic Saline)<>Albumin pair\n",
      "No Data for NaCl 3% (Hypertonic Saline)<>Amylase pair\n",
      "No Data for NaCl 3% (Hypertonic Saline)<>Amylase pair\n",
      "No Data for NaCl 3% (Hypertonic Saline)<>Asparate aminotransferase pair\n",
      "No Data for NaCl 3% (Hypertonic Saline)<>Asparate aminotransferase pair\n",
      "No Data for NaCl 3% (Hypertonic Saline)<>Bilirubin pair\n",
      "No Data for NaCl 3% (Hypertonic Saline)<>Bilirubin pair\n",
      "No Data for NaCl 3% (Hypertonic Saline)<>Calcium pair\n",
      "No Data for NaCl 3% (Hypertonic Saline)<>Calcium pair\n",
      "No Data for NaCl 3% (Hypertonic Saline)<>Calcium ionized pair\n",
      "No Data for NaCl 3% (Hypertonic Saline)<>Calcium ionized pair\n",
      "No Data for NaCl 3% (Hypertonic Saline)<>Creatinine pair\n",
      "No Data for NaCl 3% (Hypertonic Saline)<>Creatinine pair\n",
      "No Data for NaCl 3% (Hypertonic Saline)<>Hemoglobin pair\n",
      "No Data for NaCl 3% (Hypertonic Saline)<>Hemoglobin pair\n",
      "No Data for NaCl 3% (Hypertonic Saline)<>Lactic acid pair\n",
      "No Data for NaCl 3% (Hypertonic Saline)<>Lactic acid pair\n",
      "No Data for NaCl 3% (Hypertonic Saline)<>Lipase pair\n",
      "No Data for NaCl 3% (Hypertonic Saline)<>Lipase pair\n",
      "No Data for NaCl 3% (Hypertonic Saline)<>Magnesium pair\n",
      "No Data for NaCl 3% (Hypertonic Saline)<>Magnesium pair\n",
      "No Data for NaCl 3% (Hypertonic Saline)<>Magnesium, Urine pair\n",
      "No Data for NaCl 3% (Hypertonic Saline)<>Magnesium, Urine pair\n",
      "No Data for NaCl 3% (Hypertonic Saline)<>PTT pair\n",
      "No Data for NaCl 3% (Hypertonic Saline)<>PTT pair\n",
      "No Data for NaCl 3% (Hypertonic Saline)<>Potassium pair\n",
      "No Data for NaCl 3% (Hypertonic Saline)<>Potassium pair\n",
      "No Data for NaCl 3% (Hypertonic Saline)<>Prolactin pair\n",
      "No Data for NaCl 3% (Hypertonic Saline)<>Prolactin pair\n",
      "No Data for NaCl 3% (Hypertonic Saline)<>Prothrombin time INR pair\n",
      "No Data for NaCl 3% (Hypertonic Saline)<>Prothrombin time INR pair\n",
      "No Data for NaCl 3% (Hypertonic Saline)<>Red blood cell pair\n",
      "No Data for NaCl 3% (Hypertonic Saline)<>Red blood cell pair\n",
      "No Data for NaCl 3% (Hypertonic Saline)<>Uric Acid pair\n",
      "No Data for NaCl 3% (Hypertonic Saline)<>Uric Acid pair\n",
      "No Data for NaCl 3% (Hypertonic Saline)<>Uric Acid, Urine pair\n",
      "No Data for NaCl 3% (Hypertonic Saline)<>Uric Acid, Urine pair\n",
      "No Data for Nafcillin<>Alanine aminotransferase pair\n",
      "No Data for Nafcillin<>Alanine aminotransferase pair\n",
      "No Data for Nafcillin<>Albumin pair\n",
      "No Data for Nafcillin<>Albumin pair\n",
      "No Data for Nafcillin<>Amylase pair\n",
      "No Data for Nafcillin<>Amylase pair\n",
      "No Data for Nafcillin<>Asparate aminotransferase pair\n",
      "No Data for Nafcillin<>Asparate aminotransferase pair\n",
      "No Data for Nafcillin<>Bilirubin pair\n",
      "No Data for Nafcillin<>Bilirubin pair\n",
      "No Data for Nafcillin<>Calcium pair\n",
      "No Data for Nafcillin<>Calcium pair\n",
      "No Data for Nafcillin<>Calcium ionized pair\n",
      "No Data for Nafcillin<>Calcium ionized pair\n",
      "No Data for Nafcillin<>Creatinine pair\n",
      "No Data for Nafcillin<>Creatinine pair\n",
      "No Data for Nafcillin<>Hemoglobin pair\n",
      "No Data for Nafcillin<>Hemoglobin pair\n",
      "No Data for Nafcillin<>Hemoglobin percent pair\n",
      "No Data for Nafcillin<>Hemoglobin percent pair\n",
      "No Data for Nafcillin<>Lactic acid pair\n",
      "No Data for Nafcillin<>Lactic acid pair\n",
      "No Data for Nafcillin<>Lipase pair\n",
      "No Data for Nafcillin<>Lipase pair\n",
      "No Data for Nafcillin<>Magnesium pair\n",
      "No Data for Nafcillin<>Magnesium pair\n",
      "No Data for Nafcillin<>Potassium pair\n",
      "No Data for Nafcillin<>Potassium pair\n",
      "No Data for Nafcillin<>Prothrombin time INR pair\n",
      "No Data for Nafcillin<>Prothrombin time INR pair\n",
      "No Data for Nafcillin<>Red blood cell pair\n",
      "No Data for Nafcillin<>Red blood cell pair\n",
      "No Data for Nafcillin<>Uric Acid pair\n",
      "No Data for Nafcillin<>Uric Acid pair\n",
      "No Data for Nafcillin<>Vitamin B12 pair\n",
      "No Data for Nafcillin<>Vitamin B12 pair\n",
      "No Data for Naloxone (Narcan)<>Albumin pair\n",
      "No Data for Naloxone (Narcan)<>Albumin pair\n",
      "No Data for Naloxone (Narcan)<>Amylase pair\n",
      "No Data for Naloxone (Narcan)<>Amylase pair\n",
      "No Data for Naloxone (Narcan)<>Bilirubin pair\n",
      "No Data for Naloxone (Narcan)<>Bilirubin pair\n",
      "No Data for Naloxone (Narcan)<>Calcium pair\n",
      "No Data for Naloxone (Narcan)<>Calcium pair\n",
      "No Data for Naloxone (Narcan)<>Calcium ionized pair\n",
      "No Data for Naloxone (Narcan)<>Calcium ionized pair\n",
      "No Data for Naloxone (Narcan)<>Creatinine pair\n",
      "No Data for Naloxone (Narcan)<>Creatinine pair\n",
      "No Data for Naloxone (Narcan)<>Hemoglobin pair\n",
      "No Data for Naloxone (Narcan)<>Hemoglobin pair\n",
      "No Data for Naloxone (Narcan)<>Lactic acid pair\n",
      "No Data for Naloxone (Narcan)<>Lactic acid pair\n",
      "No Data for Naloxone (Narcan)<>Lipase pair\n",
      "No Data for Naloxone (Narcan)<>Lipase pair\n",
      "No Data for Naloxone (Narcan)<>Magnesium pair\n",
      "No Data for Naloxone (Narcan)<>Magnesium pair\n",
      "No Data for Naloxone (Narcan)<>Potassium pair\n",
      "No Data for Naloxone (Narcan)<>Potassium pair\n",
      "No Data for Naloxone (Narcan)<>Prothrombin time INR pair\n",
      "No Data for Naloxone (Narcan)<>Prothrombin time INR pair\n",
      "No Data for Naloxone (Narcan)<>Red blood cell pair\n",
      "No Data for Naloxone (Narcan)<>Red blood cell pair\n",
      "No Data for Naloxone (Narcan)<>Uric Acid pair\n",
      "No Data for Naloxone (Narcan)<>Uric Acid pair\n",
      "No Data for Naloxone (Narcan)<>Vitamin B12 pair\n",
      "No Data for Naloxone (Narcan)<>Vitamin B12 pair\n",
      "No Data for Nepro (Full)<>Alanine aminotransferase pair\n",
      "No Data for Nepro (Full)<>Alanine aminotransferase pair\n",
      "No Data for Nepro (Full)<>Albumin pair\n",
      "No Data for Nepro (Full)<>Albumin pair\n",
      "No Data for Nepro (Full)<>Amylase pair\n",
      "No Data for Nepro (Full)<>Amylase pair\n",
      "No Data for Nepro (Full)<>Asparate aminotransferase pair\n",
      "No Data for Nepro (Full)<>Asparate aminotransferase pair\n",
      "No Data for Nepro (Full)<>Bilirubin pair\n",
      "No Data for Nepro (Full)<>Bilirubin pair\n",
      "No Data for Nepro (Full)<>Calcium pair\n",
      "No Data for Nepro (Full)<>Calcium pair\n",
      "No Data for Nepro (Full)<>Calcium ionized pair\n",
      "No Data for Nepro (Full)<>Calcium ionized pair\n",
      "No Data for Nepro (Full)<>Creatinine pair\n",
      "No Data for Nepro (Full)<>Creatinine pair\n",
      "No Data for Nepro (Full)<>Hemoglobin pair\n",
      "No Data for Nepro (Full)<>Hemoglobin pair\n",
      "No Data for Nepro (Full)<>Lactic acid pair\n",
      "No Data for Nepro (Full)<>Lactic acid pair\n",
      "No Data for Nepro (Full)<>Magnesium pair\n",
      "No Data for Nepro (Full)<>Magnesium pair\n",
      "No Data for Nepro (Full)<>PTT pair\n",
      "No Data for Nepro (Full)<>PTT pair\n",
      "No Data for Nepro (Full)<>Potassium pair\n",
      "No Data for Nepro (Full)<>Potassium pair\n",
      "No Data for Nepro (Full)<>Prothrombin time INR pair\n",
      "No Data for Nepro (Full)<>Prothrombin time INR pair\n",
      "No Data for Nepro (Full)<>Red blood cell pair\n",
      "No Data for Nepro (Full)<>Red blood cell pair\n",
      "No Data for Nesiritide<>Calcium pair\n",
      "No Data for Nesiritide<>Calcium pair\n",
      "No Data for Nesiritide<>Calcium ionized pair\n",
      "No Data for Nesiritide<>Calcium ionized pair\n",
      "No Data for Nesiritide<>Creatinine pair\n",
      "No Data for Nesiritide<>Creatinine pair\n",
      "No Data for Nesiritide<>Glucose pair\n",
      "No Data for Nesiritide<>Glucose pair\n",
      "No Data for Nesiritide<>Hematocrit pair\n",
      "No Data for Nesiritide<>Hematocrit pair\n",
      "No Data for Nesiritide<>Hemoglobin pair\n",
      "No Data for Nesiritide<>Hemoglobin pair\n",
      "No Data for Nesiritide<>Lactic acid pair\n",
      "No Data for Nesiritide<>Lactic acid pair\n",
      "No Data for Nesiritide<>Magnesium pair\n",
      "No Data for Nesiritide<>Magnesium pair\n",
      "No Data for Nesiritide<>PTT pair\n",
      "No Data for Nesiritide<>PTT pair\n",
      "No Data for Nesiritide<>Platelets pair\n",
      "No Data for Nesiritide<>Platelets pair\n",
      "No Data for Nesiritide<>Potassium pair\n",
      "No Data for Nesiritide<>Potassium pair\n",
      "No Data for Nesiritide<>Prothrombin time INR pair\n",
      "No Data for Nesiritide<>Prothrombin time INR pair\n",
      "No Data for Nesiritide<>Red blood cell pair\n",
      "No Data for Nesiritide<>Red blood cell pair\n",
      "No Data for Nesiritide<>Sodium pair\n",
      "No Data for Nesiritide<>Sodium pair\n",
      "No Data for Nicardipine<>Alanine aminotransferase pair\n",
      "No Data for Nicardipine<>Alanine aminotransferase pair\n",
      "No Data for Nicardipine<>Albumin pair\n",
      "No Data for Nicardipine<>Albumin pair\n",
      "No Data for Nicardipine<>Amylase pair\n",
      "No Data for Nicardipine<>Amylase pair\n",
      "No Data for Nicardipine<>Asparate aminotransferase pair\n",
      "No Data for Nicardipine<>Asparate aminotransferase pair\n",
      "No Data for Nicardipine<>Bilirubin pair\n",
      "No Data for Nicardipine<>Bilirubin pair\n",
      "No Data for Nicardipine<>Calcium pair\n",
      "No Data for Nicardipine<>Calcium pair\n",
      "No Data for Nicardipine<>Calcium ionized pair\n",
      "No Data for Nicardipine<>Calcium ionized pair\n",
      "No Data for Nicardipine<>Creatinine pair\n",
      "No Data for Nicardipine<>Creatinine pair\n",
      "No Data for Nicardipine<>Hemoglobin pair\n",
      "No Data for Nicardipine<>Hemoglobin pair\n",
      "No Data for Nicardipine<>Hemoglobin percent pair\n",
      "No Data for Nicardipine<>Hemoglobin percent pair\n",
      "No Data for Nicardipine<>Lactic acid pair\n",
      "No Data for Nicardipine<>Lactic acid pair\n",
      "No Data for Nicardipine<>Lipase pair\n",
      "No Data for Nicardipine<>Lipase pair\n",
      "No Data for Nicardipine<>Magnesium pair\n",
      "No Data for Nicardipine<>Magnesium pair\n",
      "No Data for Nicardipine<>Potassium pair\n",
      "No Data for Nicardipine<>Potassium pair\n",
      "No Data for Nicardipine<>Prothrombin time INR pair\n",
      "No Data for Nicardipine<>Prothrombin time INR pair\n",
      "No Data for Nicardipine<>Red blood cell pair\n",
      "No Data for Nicardipine<>Red blood cell pair\n",
      "No Data for Nicardipine<>Uric Acid pair\n",
      "No Data for Nicardipine<>Uric Acid pair\n",
      "No Data for Nicardipine<>Vitamin B12 pair\n",
      "No Data for Nicardipine<>Vitamin B12 pair\n",
      "No Data for Nitroglycerin<>Alanine aminotransferase pair\n",
      "No Data for Nitroglycerin<>Alanine aminotransferase pair\n",
      "No Data for Nitroglycerin<>Albumin pair\n",
      "No Data for Nitroglycerin<>Albumin pair\n",
      "No Data for Nitroglycerin<>Amylase pair\n",
      "No Data for Nitroglycerin<>Amylase pair\n",
      "No Data for Nitroglycerin<>Asparate aminotransferase pair\n",
      "No Data for Nitroglycerin<>Asparate aminotransferase pair\n",
      "No Data for Nitroglycerin<>Bilirubin pair\n",
      "No Data for Nitroglycerin<>Bilirubin pair\n",
      "No Data for Nitroglycerin<>Calcium pair\n",
      "No Data for Nitroglycerin<>Calcium pair\n",
      "No Data for Nitroglycerin<>Calcium ionized pair\n",
      "No Data for Nitroglycerin<>Calcium ionized pair\n",
      "No Data for Nitroglycerin<>Creatinine pair\n",
      "No Data for Nitroglycerin<>Creatinine pair\n",
      "No Data for Nitroglycerin<>Hemoglobin pair\n",
      "No Data for Nitroglycerin<>Hemoglobin pair\n",
      "No Data for Nitroglycerin<>Hemoglobin percent pair\n",
      "No Data for Nitroglycerin<>Hemoglobin percent pair\n",
      "No Data for Nitroglycerin<>Lactic acid pair\n",
      "No Data for Nitroglycerin<>Lactic acid pair\n",
      "No Data for Nitroglycerin<>Lipase pair\n",
      "No Data for Nitroglycerin<>Lipase pair\n",
      "No Data for Nitroglycerin<>Magnesium pair\n",
      "No Data for Nitroglycerin<>Magnesium pair\n",
      "No Data for Nitroglycerin<>Potassium pair\n",
      "No Data for Nitroglycerin<>Potassium pair\n",
      "No Data for Nitroglycerin<>Prothrombin time INR pair\n",
      "No Data for Nitroglycerin<>Prothrombin time INR pair\n",
      "No Data for Nitroglycerin<>Red blood cell pair\n",
      "No Data for Nitroglycerin<>Red blood cell pair\n",
      "No Data for Nitroglycerin<>Uric Acid pair\n",
      "No Data for Nitroglycerin<>Uric Acid pair\n",
      "No Data for Nitroglycerin<>Vitamin B12 pair\n",
      "No Data for Nitroglycerin<>Vitamin B12 pair\n",
      "No Data for Nitroprusside<>Alanine aminotransferase pair\n",
      "No Data for Nitroprusside<>Alanine aminotransferase pair\n",
      "No Data for Nitroprusside<>Albumin pair\n",
      "No Data for Nitroprusside<>Albumin pair\n",
      "No Data for Nitroprusside<>Amylase pair\n",
      "No Data for Nitroprusside<>Amylase pair\n",
      "No Data for Nitroprusside<>Asparate aminotransferase pair\n",
      "No Data for Nitroprusside<>Asparate aminotransferase pair\n",
      "No Data for Nitroprusside<>Bilirubin pair\n",
      "No Data for Nitroprusside<>Bilirubin pair\n",
      "No Data for Nitroprusside<>Calcium pair\n",
      "No Data for Nitroprusside<>Calcium pair\n",
      "No Data for Nitroprusside<>Calcium ionized pair\n",
      "No Data for Nitroprusside<>Calcium ionized pair\n",
      "No Data for Nitroprusside<>Creatinine pair\n",
      "No Data for Nitroprusside<>Creatinine pair\n",
      "No Data for Nitroprusside<>Hemoglobin pair\n",
      "No Data for Nitroprusside<>Hemoglobin pair\n",
      "No Data for Nitroprusside<>Hemoglobin percent pair\n",
      "No Data for Nitroprusside<>Hemoglobin percent pair\n",
      "No Data for Nitroprusside<>Lactic acid pair\n",
      "No Data for Nitroprusside<>Lactic acid pair\n",
      "No Data for Nitroprusside<>Lipase pair\n",
      "No Data for Nitroprusside<>Lipase pair\n",
      "No Data for Nitroprusside<>Magnesium pair\n",
      "No Data for Nitroprusside<>Magnesium pair\n",
      "No Data for Nitroprusside<>Potassium pair\n",
      "No Data for Nitroprusside<>Potassium pair\n",
      "No Data for Nitroprusside<>Prothrombin time INR pair\n",
      "No Data for Nitroprusside<>Prothrombin time INR pair\n",
      "No Data for Nitroprusside<>Red blood cell pair\n",
      "No Data for Nitroprusside<>Red blood cell pair\n",
      "No Data for Nitroprusside<>Vitamin B12 pair\n",
      "No Data for Nitroprusside<>Vitamin B12 pair\n",
      "No Data for Norepinephrine<>Albumin pair\n",
      "No Data for Norepinephrine<>Albumin pair\n",
      "No Data for Norepinephrine<>Bilirubin pair\n",
      "No Data for Norepinephrine<>Bilirubin pair\n",
      "No Data for Norepinephrine<>Calcium pair\n",
      "No Data for Norepinephrine<>Calcium pair\n",
      "No Data for Norepinephrine<>Calcium ionized pair\n",
      "No Data for Norepinephrine<>Calcium ionized pair\n",
      "No Data for Norepinephrine<>Creatinine pair\n",
      "No Data for Norepinephrine<>Creatinine pair\n",
      "No Data for Norepinephrine<>Hemoglobin pair\n",
      "No Data for Norepinephrine<>Hemoglobin pair\n",
      "No Data for Norepinephrine<>Hemoglobin percent pair\n",
      "No Data for Norepinephrine<>Hemoglobin percent pair\n",
      "No Data for Norepinephrine<>Lactic acid pair\n",
      "No Data for Norepinephrine<>Lactic acid pair\n",
      "No Data for Norepinephrine<>Magnesium pair\n",
      "No Data for Norepinephrine<>Magnesium pair\n",
      "No Data for Norepinephrine<>Magnesium, Urine pair\n",
      "No Data for Norepinephrine<>Magnesium, Urine pair\n",
      "No Data for Norepinephrine<>Potassium pair\n",
      "No Data for Norepinephrine<>Potassium pair\n",
      "No Data for Norepinephrine<>Prothrombin time INR pair\n",
      "No Data for Norepinephrine<>Prothrombin time INR pair\n",
      "No Data for Norepinephrine<>Red blood cell pair\n",
      "No Data for Norepinephrine<>Red blood cell pair\n",
      "No Data for Norepinephrine<>Uric Acid pair\n",
      "No Data for Norepinephrine<>Uric Acid pair\n",
      "No Data for Norepinephrine<>Uric Acid, Urine pair\n",
      "No Data for Norepinephrine<>Uric Acid, Urine pair\n",
      "No Data for Norepinephrine<>Vitamin B12 pair\n",
      "No Data for Norepinephrine<>Vitamin B12 pair\n",
      "No Data for NovaSource Renal (1/2)<>Alanine aminotransferase pair\n",
      "No Data for NovaSource Renal (1/2)<>Alanine aminotransferase pair\n",
      "No Data for NovaSource Renal (1/2)<>Albumin pair\n",
      "No Data for NovaSource Renal (1/2)<>Albumin pair\n",
      "No Data for NovaSource Renal (1/2)<>Amylase pair\n",
      "No Data for NovaSource Renal (1/2)<>Amylase pair\n",
      "No Data for NovaSource Renal (1/2)<>Asparate aminotransferase pair\n",
      "No Data for NovaSource Renal (1/2)<>Asparate aminotransferase pair\n",
      "No Data for NovaSource Renal (1/2)<>Bilirubin pair\n",
      "No Data for NovaSource Renal (1/2)<>Bilirubin pair\n",
      "No Data for NovaSource Renal (1/2)<>Calcium pair\n",
      "No Data for NovaSource Renal (1/2)<>Calcium pair\n",
      "No Data for NovaSource Renal (1/2)<>Calcium ionized pair\n",
      "No Data for NovaSource Renal (1/2)<>Calcium ionized pair\n",
      "No Data for NovaSource Renal (1/2)<>Creatinine pair\n",
      "No Data for NovaSource Renal (1/2)<>Creatinine pair\n",
      "No Data for NovaSource Renal (1/2)<>Glucose pair\n",
      "No Data for NovaSource Renal (1/2)<>Glucose pair\n",
      "No Data for NovaSource Renal (1/2)<>Hematocrit pair\n",
      "No Data for NovaSource Renal (1/2)<>Hematocrit pair\n",
      "No Data for NovaSource Renal (1/2)<>Hemoglobin pair\n",
      "No Data for NovaSource Renal (1/2)<>Hemoglobin pair\n",
      "No Data for NovaSource Renal (1/2)<>Lactic acid pair\n",
      "No Data for NovaSource Renal (1/2)<>Lactic acid pair\n",
      "No Data for NovaSource Renal (1/2)<>Lipase pair\n",
      "No Data for NovaSource Renal (1/2)<>Lipase pair\n",
      "No Data for NovaSource Renal (1/2)<>Magnesium pair\n",
      "No Data for NovaSource Renal (1/2)<>Magnesium pair\n",
      "No Data for NovaSource Renal (1/2)<>PTT pair\n",
      "No Data for NovaSource Renal (1/2)<>PTT pair\n",
      "No Data for NovaSource Renal (1/2)<>Platelets pair\n",
      "No Data for NovaSource Renal (1/2)<>Platelets pair\n",
      "No Data for NovaSource Renal (1/2)<>Potassium pair\n",
      "No Data for NovaSource Renal (1/2)<>Potassium pair\n",
      "No Data for NovaSource Renal (1/2)<>Prothrombin time INR pair\n",
      "No Data for NovaSource Renal (1/2)<>Prothrombin time INR pair\n",
      "No Data for NovaSource Renal (1/2)<>Red blood cell pair\n",
      "No Data for NovaSource Renal (1/2)<>Red blood cell pair\n",
      "No Data for NovaSource Renal (1/2)<>Sodium pair\n",
      "No Data for NovaSource Renal (1/2)<>Sodium pair\n",
      "No Data for NovaSource Renal (3/4)<>Alanine aminotransferase pair\n",
      "No Data for NovaSource Renal (3/4)<>Alanine aminotransferase pair\n",
      "No Data for NovaSource Renal (3/4)<>Albumin pair\n",
      "No Data for NovaSource Renal (3/4)<>Albumin pair\n",
      "No Data for NovaSource Renal (3/4)<>Amylase pair\n",
      "No Data for NovaSource Renal (3/4)<>Amylase pair\n",
      "No Data for NovaSource Renal (3/4)<>Asparate aminotransferase pair\n",
      "No Data for NovaSource Renal (3/4)<>Asparate aminotransferase pair\n",
      "No Data for NovaSource Renal (3/4)<>Bilirubin pair\n",
      "No Data for NovaSource Renal (3/4)<>Bilirubin pair\n",
      "No Data for NovaSource Renal (3/4)<>Calcium pair\n",
      "No Data for NovaSource Renal (3/4)<>Calcium pair\n",
      "No Data for NovaSource Renal (3/4)<>Calcium ionized pair\n",
      "No Data for NovaSource Renal (3/4)<>Calcium ionized pair\n",
      "No Data for NovaSource Renal (3/4)<>Creatinine pair\n",
      "No Data for NovaSource Renal (3/4)<>Creatinine pair\n",
      "No Data for NovaSource Renal (3/4)<>Glucose pair\n",
      "No Data for NovaSource Renal (3/4)<>Glucose pair\n",
      "No Data for NovaSource Renal (3/4)<>Hematocrit pair\n",
      "No Data for NovaSource Renal (3/4)<>Hematocrit pair\n",
      "No Data for NovaSource Renal (3/4)<>Hemoglobin pair\n",
      "No Data for NovaSource Renal (3/4)<>Hemoglobin pair\n",
      "No Data for NovaSource Renal (3/4)<>Lactic acid pair\n",
      "No Data for NovaSource Renal (3/4)<>Lactic acid pair\n",
      "No Data for NovaSource Renal (3/4)<>Magnesium pair\n",
      "No Data for NovaSource Renal (3/4)<>Magnesium pair\n",
      "No Data for NovaSource Renal (3/4)<>PTT pair\n",
      "No Data for NovaSource Renal (3/4)<>PTT pair\n",
      "No Data for NovaSource Renal (3/4)<>Platelets pair\n",
      "No Data for NovaSource Renal (3/4)<>Platelets pair\n",
      "No Data for NovaSource Renal (3/4)<>Potassium pair\n",
      "No Data for NovaSource Renal (3/4)<>Potassium pair\n",
      "No Data for NovaSource Renal (3/4)<>Prothrombin time INR pair\n",
      "No Data for NovaSource Renal (3/4)<>Prothrombin time INR pair\n",
      "No Data for NovaSource Renal (3/4)<>Red blood cell pair\n",
      "No Data for NovaSource Renal (3/4)<>Red blood cell pair\n",
      "No Data for NovaSource Renal (3/4)<>Sodium pair\n",
      "No Data for NovaSource Renal (3/4)<>Sodium pair\n",
      "No Data for NovaSource Renal (Full)<>Alanine aminotransferase pair\n",
      "No Data for NovaSource Renal (Full)<>Alanine aminotransferase pair\n",
      "No Data for NovaSource Renal (Full)<>Albumin pair\n",
      "No Data for NovaSource Renal (Full)<>Albumin pair\n",
      "No Data for NovaSource Renal (Full)<>Amylase pair\n",
      "No Data for NovaSource Renal (Full)<>Amylase pair\n",
      "No Data for NovaSource Renal (Full)<>Asparate aminotransferase pair\n",
      "No Data for NovaSource Renal (Full)<>Asparate aminotransferase pair\n",
      "No Data for NovaSource Renal (Full)<>Bilirubin pair\n",
      "No Data for NovaSource Renal (Full)<>Bilirubin pair\n",
      "No Data for NovaSource Renal (Full)<>Calcium pair\n",
      "No Data for NovaSource Renal (Full)<>Calcium pair\n",
      "No Data for NovaSource Renal (Full)<>Calcium ionized pair\n",
      "No Data for NovaSource Renal (Full)<>Calcium ionized pair\n",
      "No Data for NovaSource Renal (Full)<>Creatinine pair\n",
      "No Data for NovaSource Renal (Full)<>Creatinine pair\n",
      "No Data for NovaSource Renal (Full)<>Creatinine ascites pair\n",
      "No Data for NovaSource Renal (Full)<>Creatinine ascites pair\n",
      "No Data for NovaSource Renal (Full)<>Hemoglobin pair\n",
      "No Data for NovaSource Renal (Full)<>Hemoglobin pair\n",
      "No Data for NovaSource Renal (Full)<>Lactic acid pair\n",
      "No Data for NovaSource Renal (Full)<>Lactic acid pair\n",
      "No Data for NovaSource Renal (Full)<>Lipase pair\n",
      "No Data for NovaSource Renal (Full)<>Lipase pair\n",
      "No Data for NovaSource Renal (Full)<>Magnesium pair\n",
      "No Data for NovaSource Renal (Full)<>Magnesium pair\n",
      "No Data for NovaSource Renal (Full)<>Potassium pair\n",
      "No Data for NovaSource Renal (Full)<>Potassium pair\n",
      "No Data for NovaSource Renal (Full)<>Prolactin pair\n",
      "No Data for NovaSource Renal (Full)<>Prolactin pair\n",
      "No Data for NovaSource Renal (Full)<>Prothrombin time INR pair\n",
      "No Data for NovaSource Renal (Full)<>Prothrombin time INR pair\n",
      "No Data for NovaSource Renal (Full)<>Red blood cell pair\n",
      "No Data for NovaSource Renal (Full)<>Red blood cell pair\n",
      "No Data for NovaSource Renal (Full)<>Uric Acid pair\n",
      "No Data for NovaSource Renal (Full)<>Uric Acid pair\n",
      "No Data for Nutren 2.0 (1/2)<>Calcium pair\n",
      "No Data for Nutren 2.0 (1/2)<>Calcium pair\n",
      "No Data for Nutren 2.0 (1/2)<>Calcium ionized pair\n",
      "No Data for Nutren 2.0 (1/2)<>Calcium ionized pair\n",
      "No Data for Nutren 2.0 (1/2)<>Creatinine pair\n",
      "No Data for Nutren 2.0 (1/2)<>Creatinine pair\n",
      "No Data for Nutren 2.0 (1/2)<>Glucose pair\n",
      "No Data for Nutren 2.0 (1/2)<>Glucose pair\n",
      "No Data for Nutren 2.0 (1/2)<>Hematocrit pair\n",
      "No Data for Nutren 2.0 (1/2)<>Hematocrit pair\n",
      "No Data for Nutren 2.0 (1/2)<>Hemoglobin pair\n",
      "No Data for Nutren 2.0 (1/2)<>Hemoglobin pair\n",
      "No Data for Nutren 2.0 (1/2)<>Lactic acid pair\n",
      "No Data for Nutren 2.0 (1/2)<>Lactic acid pair\n",
      "No Data for Nutren 2.0 (1/2)<>Magnesium pair\n",
      "No Data for Nutren 2.0 (1/2)<>Magnesium pair\n",
      "No Data for Nutren 2.0 (1/2)<>PTT pair\n",
      "No Data for Nutren 2.0 (1/2)<>PTT pair\n",
      "No Data for Nutren 2.0 (1/2)<>Platelets pair\n",
      "No Data for Nutren 2.0 (1/2)<>Platelets pair\n",
      "No Data for Nutren 2.0 (1/2)<>Potassium pair\n",
      "No Data for Nutren 2.0 (1/2)<>Potassium pair\n",
      "No Data for Nutren 2.0 (1/2)<>Prothrombin time INR pair\n",
      "No Data for Nutren 2.0 (1/2)<>Prothrombin time INR pair\n",
      "No Data for Nutren 2.0 (1/2)<>Red blood cell pair\n",
      "No Data for Nutren 2.0 (1/2)<>Red blood cell pair\n",
      "No Data for Nutren 2.0 (1/2)<>Sodium pair\n",
      "No Data for Nutren 2.0 (1/2)<>Sodium pair\n",
      "No Data for Nutren 2.0 (2/3)<>Calcium pair\n",
      "No Data for Nutren 2.0 (2/3)<>Calcium pair\n",
      "No Data for Nutren 2.0 (2/3)<>Calcium ionized pair\n",
      "No Data for Nutren 2.0 (2/3)<>Calcium ionized pair\n",
      "No Data for Nutren 2.0 (2/3)<>Creatinine pair\n",
      "No Data for Nutren 2.0 (2/3)<>Creatinine pair\n",
      "No Data for Nutren 2.0 (2/3)<>Glucose pair\n",
      "No Data for Nutren 2.0 (2/3)<>Glucose pair\n",
      "No Data for Nutren 2.0 (2/3)<>Hematocrit pair\n",
      "No Data for Nutren 2.0 (2/3)<>Hematocrit pair\n",
      "No Data for Nutren 2.0 (2/3)<>Hemoglobin pair\n",
      "No Data for Nutren 2.0 (2/3)<>Hemoglobin pair\n",
      "No Data for Nutren 2.0 (2/3)<>Lactic acid pair\n",
      "No Data for Nutren 2.0 (2/3)<>Lactic acid pair\n",
      "No Data for Nutren 2.0 (2/3)<>Magnesium pair\n",
      "No Data for Nutren 2.0 (2/3)<>Magnesium pair\n",
      "No Data for Nutren 2.0 (2/3)<>PTT pair\n",
      "No Data for Nutren 2.0 (2/3)<>PTT pair\n",
      "No Data for Nutren 2.0 (2/3)<>Platelets pair\n",
      "No Data for Nutren 2.0 (2/3)<>Platelets pair\n",
      "No Data for Nutren 2.0 (2/3)<>Potassium pair\n",
      "No Data for Nutren 2.0 (2/3)<>Potassium pair\n",
      "No Data for Nutren 2.0 (2/3)<>Prothrombin time INR pair\n",
      "No Data for Nutren 2.0 (2/3)<>Prothrombin time INR pair\n",
      "No Data for Nutren 2.0 (2/3)<>Red blood cell pair\n",
      "No Data for Nutren 2.0 (2/3)<>Red blood cell pair\n",
      "No Data for Nutren 2.0 (2/3)<>Sodium pair\n",
      "No Data for Nutren 2.0 (2/3)<>Sodium pair\n",
      "No Data for Nutren 2.0 (3/4)<>Alanine aminotransferase pair\n",
      "No Data for Nutren 2.0 (3/4)<>Alanine aminotransferase pair\n",
      "No Data for Nutren 2.0 (3/4)<>Albumin pair\n",
      "No Data for Nutren 2.0 (3/4)<>Albumin pair\n",
      "No Data for Nutren 2.0 (3/4)<>Amylase pair\n",
      "No Data for Nutren 2.0 (3/4)<>Amylase pair\n",
      "No Data for Nutren 2.0 (3/4)<>Asparate aminotransferase pair\n",
      "No Data for Nutren 2.0 (3/4)<>Asparate aminotransferase pair\n",
      "No Data for Nutren 2.0 (3/4)<>Bilirubin pair\n",
      "No Data for Nutren 2.0 (3/4)<>Bilirubin pair\n",
      "No Data for Nutren 2.0 (3/4)<>Calcium pair\n",
      "No Data for Nutren 2.0 (3/4)<>Calcium pair\n",
      "No Data for Nutren 2.0 (3/4)<>Calcium ionized pair\n",
      "No Data for Nutren 2.0 (3/4)<>Calcium ionized pair\n",
      "No Data for Nutren 2.0 (3/4)<>Creatinine pair\n",
      "No Data for Nutren 2.0 (3/4)<>Creatinine pair\n",
      "No Data for Nutren 2.0 (3/4)<>Glucose pair\n",
      "No Data for Nutren 2.0 (3/4)<>Glucose pair\n",
      "No Data for Nutren 2.0 (3/4)<>Hematocrit pair\n",
      "No Data for Nutren 2.0 (3/4)<>Hematocrit pair\n",
      "No Data for Nutren 2.0 (3/4)<>Hemoglobin pair\n",
      "No Data for Nutren 2.0 (3/4)<>Hemoglobin pair\n",
      "No Data for Nutren 2.0 (3/4)<>Lactic acid pair\n",
      "No Data for Nutren 2.0 (3/4)<>Lactic acid pair\n",
      "No Data for Nutren 2.0 (3/4)<>Magnesium pair\n",
      "No Data for Nutren 2.0 (3/4)<>Magnesium pair\n",
      "No Data for Nutren 2.0 (3/4)<>PTT pair\n",
      "No Data for Nutren 2.0 (3/4)<>PTT pair\n",
      "No Data for Nutren 2.0 (3/4)<>Platelets pair\n",
      "No Data for Nutren 2.0 (3/4)<>Platelets pair\n",
      "No Data for Nutren 2.0 (3/4)<>Potassium pair\n",
      "No Data for Nutren 2.0 (3/4)<>Potassium pair\n",
      "No Data for Nutren 2.0 (3/4)<>Prothrombin time INR pair\n",
      "No Data for Nutren 2.0 (3/4)<>Prothrombin time INR pair\n",
      "No Data for Nutren 2.0 (3/4)<>Red blood cell pair\n",
      "No Data for Nutren 2.0 (3/4)<>Red blood cell pair\n",
      "No Data for Nutren 2.0 (3/4)<>Sodium pair\n",
      "No Data for Nutren 2.0 (3/4)<>Sodium pair\n",
      "No Data for Nutren 2.0 (Full)<>Albumin pair\n",
      "No Data for Nutren 2.0 (Full)<>Albumin pair\n",
      "No Data for Nutren 2.0 (Full)<>Amylase pair\n",
      "No Data for Nutren 2.0 (Full)<>Amylase pair\n",
      "No Data for Nutren 2.0 (Full)<>Bilirubin pair\n",
      "No Data for Nutren 2.0 (Full)<>Bilirubin pair\n",
      "No Data for Nutren 2.0 (Full)<>Calcium pair\n",
      "No Data for Nutren 2.0 (Full)<>Calcium pair\n",
      "No Data for Nutren 2.0 (Full)<>Calcium ionized pair\n",
      "No Data for Nutren 2.0 (Full)<>Calcium ionized pair\n",
      "No Data for Nutren 2.0 (Full)<>Creatinine pair\n",
      "No Data for Nutren 2.0 (Full)<>Creatinine pair\n",
      "No Data for Nutren 2.0 (Full)<>Creatinine ascites pair\n",
      "No Data for Nutren 2.0 (Full)<>Creatinine ascites pair\n",
      "No Data for Nutren 2.0 (Full)<>Hemoglobin pair\n",
      "No Data for Nutren 2.0 (Full)<>Hemoglobin pair\n",
      "No Data for Nutren 2.0 (Full)<>Lactic acid pair\n",
      "No Data for Nutren 2.0 (Full)<>Lactic acid pair\n",
      "No Data for Nutren 2.0 (Full)<>Lipase pair\n",
      "No Data for Nutren 2.0 (Full)<>Lipase pair\n",
      "No Data for Nutren 2.0 (Full)<>Magnesium pair\n",
      "No Data for Nutren 2.0 (Full)<>Magnesium pair\n",
      "No Data for Nutren 2.0 (Full)<>Potassium pair\n",
      "No Data for Nutren 2.0 (Full)<>Potassium pair\n",
      "No Data for Nutren 2.0 (Full)<>Prothrombin time INR pair\n",
      "No Data for Nutren 2.0 (Full)<>Prothrombin time INR pair\n",
      "No Data for Nutren 2.0 (Full)<>Red blood cell pair\n",
      "No Data for Nutren 2.0 (Full)<>Red blood cell pair\n",
      "No Data for Nutren 2.0 (Full)<>Uric Acid pair\n",
      "No Data for Nutren 2.0 (Full)<>Uric Acid pair\n",
      "No Data for Nutren Pulmonary (1/2)<>Alanine aminotransferase pair\n",
      "No Data for Nutren Pulmonary (1/2)<>Alanine aminotransferase pair\n",
      "No Data for Nutren Pulmonary (1/2)<>Albumin pair\n",
      "No Data for Nutren Pulmonary (1/2)<>Albumin pair\n",
      "No Data for Nutren Pulmonary (1/2)<>Amylase pair\n",
      "No Data for Nutren Pulmonary (1/2)<>Amylase pair\n",
      "No Data for Nutren Pulmonary (1/2)<>Asparate aminotransferase pair\n",
      "No Data for Nutren Pulmonary (1/2)<>Asparate aminotransferase pair\n",
      "No Data for Nutren Pulmonary (1/2)<>Bilirubin pair\n",
      "No Data for Nutren Pulmonary (1/2)<>Bilirubin pair\n",
      "No Data for Nutren Pulmonary (1/2)<>Calcium pair\n",
      "No Data for Nutren Pulmonary (1/2)<>Calcium pair\n",
      "No Data for Nutren Pulmonary (1/2)<>Calcium ionized pair\n",
      "No Data for Nutren Pulmonary (1/2)<>Calcium ionized pair\n",
      "No Data for Nutren Pulmonary (1/2)<>Creatinine pair\n",
      "No Data for Nutren Pulmonary (1/2)<>Creatinine pair\n",
      "No Data for Nutren Pulmonary (1/2)<>Glucose pair\n",
      "No Data for Nutren Pulmonary (1/2)<>Glucose pair\n",
      "No Data for Nutren Pulmonary (1/2)<>Hematocrit pair\n",
      "No Data for Nutren Pulmonary (1/2)<>Hematocrit pair\n",
      "No Data for Nutren Pulmonary (1/2)<>Hemoglobin pair\n",
      "No Data for Nutren Pulmonary (1/2)<>Hemoglobin pair\n",
      "No Data for Nutren Pulmonary (1/2)<>Lactic acid pair\n",
      "No Data for Nutren Pulmonary (1/2)<>Lactic acid pair\n",
      "No Data for Nutren Pulmonary (1/2)<>Lipase pair\n",
      "No Data for Nutren Pulmonary (1/2)<>Lipase pair\n",
      "No Data for Nutren Pulmonary (1/2)<>Magnesium pair\n",
      "No Data for Nutren Pulmonary (1/2)<>Magnesium pair\n",
      "No Data for Nutren Pulmonary (1/2)<>PTT pair\n",
      "No Data for Nutren Pulmonary (1/2)<>PTT pair\n",
      "No Data for Nutren Pulmonary (1/2)<>Platelets pair\n",
      "No Data for Nutren Pulmonary (1/2)<>Platelets pair\n",
      "No Data for Nutren Pulmonary (1/2)<>Potassium pair\n",
      "No Data for Nutren Pulmonary (1/2)<>Potassium pair\n",
      "No Data for Nutren Pulmonary (1/2)<>Prothrombin time INR pair\n",
      "No Data for Nutren Pulmonary (1/2)<>Prothrombin time INR pair\n",
      "No Data for Nutren Pulmonary (1/2)<>Red blood cell pair\n",
      "No Data for Nutren Pulmonary (1/2)<>Red blood cell pair\n",
      "No Data for Nutren Pulmonary (1/2)<>Sodium pair\n",
      "No Data for Nutren Pulmonary (1/2)<>Sodium pair\n",
      "No Data for Nutren Pulmonary (Full)<>Alanine aminotransferase pair\n",
      "No Data for Nutren Pulmonary (Full)<>Alanine aminotransferase pair\n",
      "No Data for Nutren Pulmonary (Full)<>Albumin pair\n",
      "No Data for Nutren Pulmonary (Full)<>Albumin pair\n",
      "No Data for Nutren Pulmonary (Full)<>Amylase pair\n",
      "No Data for Nutren Pulmonary (Full)<>Amylase pair\n",
      "No Data for Nutren Pulmonary (Full)<>Asparate aminotransferase pair\n",
      "No Data for Nutren Pulmonary (Full)<>Asparate aminotransferase pair\n",
      "No Data for Nutren Pulmonary (Full)<>Bilirubin pair\n",
      "No Data for Nutren Pulmonary (Full)<>Bilirubin pair\n",
      "No Data for Nutren Pulmonary (Full)<>Calcium pair\n",
      "No Data for Nutren Pulmonary (Full)<>Calcium pair\n",
      "No Data for Nutren Pulmonary (Full)<>Calcium ionized pair\n",
      "No Data for Nutren Pulmonary (Full)<>Calcium ionized pair\n",
      "No Data for Nutren Pulmonary (Full)<>Creatinine pair\n",
      "No Data for Nutren Pulmonary (Full)<>Creatinine pair\n",
      "No Data for Nutren Pulmonary (Full)<>Hemoglobin pair\n",
      "No Data for Nutren Pulmonary (Full)<>Hemoglobin pair\n",
      "No Data for Nutren Pulmonary (Full)<>Lactic acid pair\n",
      "No Data for Nutren Pulmonary (Full)<>Lactic acid pair\n",
      "No Data for Nutren Pulmonary (Full)<>Lipase pair\n",
      "No Data for Nutren Pulmonary (Full)<>Lipase pair\n",
      "No Data for Nutren Pulmonary (Full)<>Magnesium pair\n",
      "No Data for Nutren Pulmonary (Full)<>Magnesium pair\n",
      "No Data for Nutren Pulmonary (Full)<>Magnesium, Urine pair\n",
      "No Data for Nutren Pulmonary (Full)<>Magnesium, Urine pair\n",
      "No Data for Nutren Pulmonary (Full)<>Potassium pair\n",
      "No Data for Nutren Pulmonary (Full)<>Potassium pair\n",
      "No Data for Nutren Pulmonary (Full)<>Prothrombin time INR pair\n",
      "No Data for Nutren Pulmonary (Full)<>Prothrombin time INR pair\n",
      "No Data for Nutren Pulmonary (Full)<>Red blood cell pair\n",
      "No Data for Nutren Pulmonary (Full)<>Red blood cell pair\n",
      "No Data for Nutren Pulmonary (Full)<>Uric Acid pair\n",
      "No Data for Nutren Pulmonary (Full)<>Uric Acid pair\n",
      "No Data for Nutren Pulmonary (Full)<>Vitamin B12 pair\n",
      "No Data for Nutren Pulmonary (Full)<>Vitamin B12 pair\n",
      "No Data for Nutren Renal (1/2)<>Alanine aminotransferase pair\n",
      "No Data for Nutren Renal (1/2)<>Alanine aminotransferase pair\n",
      "No Data for Nutren Renal (1/2)<>Albumin pair\n",
      "No Data for Nutren Renal (1/2)<>Albumin pair\n",
      "No Data for Nutren Renal (1/2)<>Amylase pair\n",
      "No Data for Nutren Renal (1/2)<>Amylase pair\n",
      "No Data for Nutren Renal (1/2)<>Asparate aminotransferase pair\n",
      "No Data for Nutren Renal (1/2)<>Asparate aminotransferase pair\n",
      "No Data for Nutren Renal (1/2)<>Bilirubin pair\n",
      "No Data for Nutren Renal (1/2)<>Bilirubin pair\n",
      "No Data for Nutren Renal (1/2)<>Calcium pair\n",
      "No Data for Nutren Renal (1/2)<>Calcium pair\n",
      "No Data for Nutren Renal (1/2)<>Calcium ionized pair\n",
      "No Data for Nutren Renal (1/2)<>Calcium ionized pair\n",
      "No Data for Nutren Renal (1/2)<>Creatinine pair\n",
      "No Data for Nutren Renal (1/2)<>Creatinine pair\n",
      "No Data for Nutren Renal (1/2)<>Glucose pair\n",
      "No Data for Nutren Renal (1/2)<>Glucose pair\n",
      "No Data for Nutren Renal (1/2)<>Hematocrit pair\n",
      "No Data for Nutren Renal (1/2)<>Hematocrit pair\n",
      "No Data for Nutren Renal (1/2)<>Hemoglobin pair\n",
      "No Data for Nutren Renal (1/2)<>Hemoglobin pair\n",
      "No Data for Nutren Renal (1/2)<>Lactic acid pair\n",
      "No Data for Nutren Renal (1/2)<>Lactic acid pair\n",
      "No Data for Nutren Renal (1/2)<>Lipase pair\n",
      "No Data for Nutren Renal (1/2)<>Lipase pair\n",
      "No Data for Nutren Renal (1/2)<>Magnesium pair\n",
      "No Data for Nutren Renal (1/2)<>Magnesium pair\n",
      "No Data for Nutren Renal (1/2)<>Platelets pair\n",
      "No Data for Nutren Renal (1/2)<>Platelets pair\n",
      "No Data for Nutren Renal (1/2)<>Potassium pair\n",
      "No Data for Nutren Renal (1/2)<>Potassium pair\n",
      "No Data for Nutren Renal (1/2)<>Prothrombin time INR pair\n",
      "No Data for Nutren Renal (1/2)<>Prothrombin time INR pair\n",
      "No Data for Nutren Renal (1/2)<>Red blood cell pair\n",
      "No Data for Nutren Renal (1/2)<>Red blood cell pair\n",
      "No Data for Nutren Renal (1/2)<>Sodium pair\n",
      "No Data for Nutren Renal (1/2)<>Sodium pair\n",
      "No Data for Nutren Renal (1/4)<>Calcium pair\n",
      "No Data for Nutren Renal (1/4)<>Calcium pair\n",
      "No Data for Nutren Renal (1/4)<>Creatinine pair\n",
      "No Data for Nutren Renal (1/4)<>Creatinine pair\n",
      "No Data for Nutren Renal (1/4)<>Glucose pair\n",
      "No Data for Nutren Renal (1/4)<>Glucose pair\n",
      "No Data for Nutren Renal (1/4)<>Hematocrit pair\n",
      "No Data for Nutren Renal (1/4)<>Hematocrit pair\n",
      "No Data for Nutren Renal (1/4)<>Hemoglobin pair\n",
      "No Data for Nutren Renal (1/4)<>Hemoglobin pair\n",
      "No Data for Nutren Renal (1/4)<>Magnesium pair\n",
      "No Data for Nutren Renal (1/4)<>Magnesium pair\n",
      "No Data for Nutren Renal (1/4)<>Platelets pair\n",
      "No Data for Nutren Renal (1/4)<>Platelets pair\n",
      "No Data for Nutren Renal (1/4)<>Potassium pair\n",
      "No Data for Nutren Renal (1/4)<>Potassium pair\n",
      "No Data for Nutren Renal (1/4)<>Red blood cell pair\n",
      "No Data for Nutren Renal (1/4)<>Red blood cell pair\n",
      "No Data for Nutren Renal (1/4)<>Sodium pair\n",
      "No Data for Nutren Renal (1/4)<>Sodium pair\n",
      "No Data for Nutren Renal (3/4)<>Alanine aminotransferase pair\n",
      "No Data for Nutren Renal (3/4)<>Alanine aminotransferase pair\n",
      "No Data for Nutren Renal (3/4)<>Albumin pair\n",
      "No Data for Nutren Renal (3/4)<>Albumin pair\n",
      "No Data for Nutren Renal (3/4)<>Amylase pair\n",
      "No Data for Nutren Renal (3/4)<>Amylase pair\n",
      "No Data for Nutren Renal (3/4)<>Asparate aminotransferase pair\n",
      "No Data for Nutren Renal (3/4)<>Asparate aminotransferase pair\n",
      "No Data for Nutren Renal (3/4)<>Bilirubin pair\n",
      "No Data for Nutren Renal (3/4)<>Bilirubin pair\n",
      "No Data for Nutren Renal (3/4)<>Calcium pair\n",
      "No Data for Nutren Renal (3/4)<>Calcium pair\n",
      "No Data for Nutren Renal (3/4)<>Calcium ionized pair\n",
      "No Data for Nutren Renal (3/4)<>Calcium ionized pair\n",
      "No Data for Nutren Renal (3/4)<>Creatinine pair\n",
      "No Data for Nutren Renal (3/4)<>Creatinine pair\n",
      "No Data for Nutren Renal (3/4)<>Glucose pair\n",
      "No Data for Nutren Renal (3/4)<>Glucose pair\n",
      "No Data for Nutren Renal (3/4)<>Hematocrit pair\n",
      "No Data for Nutren Renal (3/4)<>Hematocrit pair\n",
      "No Data for Nutren Renal (3/4)<>Hemoglobin pair\n",
      "No Data for Nutren Renal (3/4)<>Hemoglobin pair\n",
      "No Data for Nutren Renal (3/4)<>Lactic acid pair\n",
      "No Data for Nutren Renal (3/4)<>Lactic acid pair\n",
      "No Data for Nutren Renal (3/4)<>Lipase pair\n",
      "No Data for Nutren Renal (3/4)<>Lipase pair\n",
      "No Data for Nutren Renal (3/4)<>Magnesium pair\n",
      "No Data for Nutren Renal (3/4)<>Magnesium pair\n",
      "No Data for Nutren Renal (3/4)<>PTT pair\n",
      "No Data for Nutren Renal (3/4)<>PTT pair\n",
      "No Data for Nutren Renal (3/4)<>Platelets pair\n",
      "No Data for Nutren Renal (3/4)<>Platelets pair\n",
      "No Data for Nutren Renal (3/4)<>Potassium pair\n",
      "No Data for Nutren Renal (3/4)<>Potassium pair\n",
      "No Data for Nutren Renal (3/4)<>Prothrombin time INR pair\n",
      "No Data for Nutren Renal (3/4)<>Prothrombin time INR pair\n",
      "No Data for Nutren Renal (3/4)<>Red blood cell pair\n",
      "No Data for Nutren Renal (3/4)<>Red blood cell pair\n",
      "No Data for Nutren Renal (3/4)<>Sodium pair\n",
      "No Data for Nutren Renal (3/4)<>Sodium pair\n",
      "No Data for Nutren Renal (Full)<>Alanine aminotransferase pair\n",
      "No Data for Nutren Renal (Full)<>Alanine aminotransferase pair\n",
      "No Data for Nutren Renal (Full)<>Albumin pair\n",
      "No Data for Nutren Renal (Full)<>Albumin pair\n",
      "No Data for Nutren Renal (Full)<>Amylase pair\n",
      "No Data for Nutren Renal (Full)<>Amylase pair\n",
      "No Data for Nutren Renal (Full)<>Asparate aminotransferase pair\n",
      "No Data for Nutren Renal (Full)<>Asparate aminotransferase pair\n",
      "No Data for Nutren Renal (Full)<>Bilirubin pair\n",
      "No Data for Nutren Renal (Full)<>Bilirubin pair\n",
      "No Data for Nutren Renal (Full)<>Calcium pair\n",
      "No Data for Nutren Renal (Full)<>Calcium pair\n",
      "No Data for Nutren Renal (Full)<>Calcium ionized pair\n",
      "No Data for Nutren Renal (Full)<>Calcium ionized pair\n",
      "No Data for Nutren Renal (Full)<>Creatinine pair\n",
      "No Data for Nutren Renal (Full)<>Creatinine pair\n",
      "No Data for Nutren Renal (Full)<>Hemoglobin pair\n",
      "No Data for Nutren Renal (Full)<>Hemoglobin pair\n",
      "No Data for Nutren Renal (Full)<>Hemoglobin percent pair\n",
      "No Data for Nutren Renal (Full)<>Hemoglobin percent pair\n",
      "No Data for Nutren Renal (Full)<>Lactic acid pair\n",
      "No Data for Nutren Renal (Full)<>Lactic acid pair\n",
      "No Data for Nutren Renal (Full)<>Lipase pair\n",
      "No Data for Nutren Renal (Full)<>Lipase pair\n",
      "No Data for Nutren Renal (Full)<>Magnesium pair\n",
      "No Data for Nutren Renal (Full)<>Magnesium pair\n",
      "No Data for Nutren Renal (Full)<>PTT pair\n",
      "No Data for Nutren Renal (Full)<>PTT pair\n",
      "No Data for Nutren Renal (Full)<>Platelets pair\n",
      "No Data for Nutren Renal (Full)<>Platelets pair\n",
      "No Data for Nutren Renal (Full)<>Potassium pair\n",
      "No Data for Nutren Renal (Full)<>Potassium pair\n",
      "No Data for Nutren Renal (Full)<>Prothrombin time INR pair\n",
      "No Data for Nutren Renal (Full)<>Prothrombin time INR pair\n",
      "No Data for Nutren Renal (Full)<>Red blood cell pair\n",
      "No Data for Nutren Renal (Full)<>Red blood cell pair\n",
      "No Data for Nutren Renal (Full)<>Uric Acid pair\n",
      "No Data for Nutren Renal (Full)<>Uric Acid pair\n",
      "No Data for Nutren Renal (Full)<>Vitamin B12 pair\n",
      "No Data for Nutren Renal (Full)<>Vitamin B12 pair\n",
      "No Data for OR Autologous Blood Intake<>Alanine aminotransferase pair\n",
      "No Data for OR Autologous Blood Intake<>Alanine aminotransferase pair\n",
      "No Data for OR Autologous Blood Intake<>Albumin pair\n",
      "No Data for OR Autologous Blood Intake<>Albumin pair\n",
      "No Data for OR Autologous Blood Intake<>Amylase pair\n",
      "No Data for OR Autologous Blood Intake<>Amylase pair\n",
      "No Data for OR Autologous Blood Intake<>Asparate aminotransferase pair\n",
      "No Data for OR Autologous Blood Intake<>Asparate aminotransferase pair\n",
      "No Data for OR Autologous Blood Intake<>Bilirubin pair\n",
      "No Data for OR Autologous Blood Intake<>Bilirubin pair\n",
      "No Data for OR Autologous Blood Intake<>Calcium pair\n",
      "No Data for OR Autologous Blood Intake<>Calcium pair\n",
      "No Data for OR Autologous Blood Intake<>Calcium ionized pair\n",
      "No Data for OR Autologous Blood Intake<>Calcium ionized pair\n",
      "No Data for OR Autologous Blood Intake<>Creatinine pair\n",
      "No Data for OR Autologous Blood Intake<>Creatinine pair\n",
      "No Data for OR Autologous Blood Intake<>Hemoglobin pair\n",
      "No Data for OR Autologous Blood Intake<>Hemoglobin pair\n",
      "No Data for OR Autologous Blood Intake<>Hemoglobin percent pair\n",
      "No Data for OR Autologous Blood Intake<>Hemoglobin percent pair\n",
      "No Data for OR Autologous Blood Intake<>Lactic acid pair\n",
      "No Data for OR Autologous Blood Intake<>Lactic acid pair\n",
      "No Data for OR Autologous Blood Intake<>Lipase pair\n",
      "No Data for OR Autologous Blood Intake<>Lipase pair\n",
      "No Data for OR Autologous Blood Intake<>Magnesium pair\n",
      "No Data for OR Autologous Blood Intake<>Magnesium pair\n",
      "No Data for OR Autologous Blood Intake<>Potassium pair\n",
      "No Data for OR Autologous Blood Intake<>Potassium pair\n",
      "No Data for OR Autologous Blood Intake<>Prothrombin time INR pair\n",
      "No Data for OR Autologous Blood Intake<>Prothrombin time INR pair\n",
      "No Data for OR Autologous Blood Intake<>Red blood cell pair\n",
      "No Data for OR Autologous Blood Intake<>Red blood cell pair\n",
      "No Data for OR Cell Saver Intake<>Albumin pair\n",
      "No Data for OR Cell Saver Intake<>Albumin pair\n",
      "No Data for OR Cell Saver Intake<>Amylase pair\n",
      "No Data for OR Cell Saver Intake<>Amylase pair\n",
      "No Data for OR Cell Saver Intake<>Bilirubin pair\n",
      "No Data for OR Cell Saver Intake<>Bilirubin pair\n",
      "No Data for OR Cell Saver Intake<>Calcium pair\n",
      "No Data for OR Cell Saver Intake<>Calcium pair\n",
      "No Data for OR Cell Saver Intake<>Calcium ionized pair\n",
      "No Data for OR Cell Saver Intake<>Calcium ionized pair\n",
      "No Data for OR Cell Saver Intake<>Creatinine pair\n",
      "No Data for OR Cell Saver Intake<>Creatinine pair\n",
      "No Data for OR Cell Saver Intake<>Hemoglobin pair\n",
      "No Data for OR Cell Saver Intake<>Hemoglobin pair\n",
      "No Data for OR Cell Saver Intake<>Hemoglobin percent pair\n",
      "No Data for OR Cell Saver Intake<>Hemoglobin percent pair\n",
      "No Data for OR Cell Saver Intake<>Lactic acid pair\n",
      "No Data for OR Cell Saver Intake<>Lactic acid pair\n",
      "No Data for OR Cell Saver Intake<>Lipase pair\n",
      "No Data for OR Cell Saver Intake<>Lipase pair\n",
      "No Data for OR Cell Saver Intake<>Magnesium pair\n",
      "No Data for OR Cell Saver Intake<>Magnesium pair\n",
      "No Data for OR Cell Saver Intake<>Potassium pair\n",
      "No Data for OR Cell Saver Intake<>Potassium pair\n",
      "No Data for OR Cell Saver Intake<>Prothrombin time INR pair\n",
      "No Data for OR Cell Saver Intake<>Prothrombin time INR pair\n",
      "No Data for OR Cell Saver Intake<>Red blood cell pair\n",
      "No Data for OR Cell Saver Intake<>Red blood cell pair\n",
      "No Data for OR Cell Saver Intake<>Uric Acid pair\n",
      "No Data for OR Cell Saver Intake<>Uric Acid pair\n",
      "No Data for OR Cell Saver Intake<>Vitamin B12 pair\n",
      "No Data for OR Cell Saver Intake<>Vitamin B12 pair\n",
      "No Data for OR Colloid Intake<>Albumin pair\n",
      "No Data for OR Colloid Intake<>Albumin pair\n",
      "No Data for OR Colloid Intake<>Bilirubin pair\n",
      "No Data for OR Colloid Intake<>Bilirubin pair\n",
      "No Data for OR Colloid Intake<>Calcium pair\n",
      "No Data for OR Colloid Intake<>Calcium pair\n",
      "No Data for OR Colloid Intake<>Calcium ionized pair\n",
      "No Data for OR Colloid Intake<>Calcium ionized pair\n",
      "No Data for OR Colloid Intake<>Creatinine pair\n",
      "No Data for OR Colloid Intake<>Creatinine pair\n",
      "No Data for OR Colloid Intake<>Creatinine ascites pair\n",
      "No Data for OR Colloid Intake<>Creatinine ascites pair\n",
      "No Data for OR Colloid Intake<>Hemoglobin pair\n",
      "No Data for OR Colloid Intake<>Hemoglobin pair\n",
      "No Data for OR Colloid Intake<>Hemoglobin percent pair\n",
      "No Data for OR Colloid Intake<>Hemoglobin percent pair\n",
      "No Data for OR Colloid Intake<>Lactic acid pair\n",
      "No Data for OR Colloid Intake<>Lactic acid pair\n",
      "No Data for OR Colloid Intake<>Magnesium pair\n",
      "No Data for OR Colloid Intake<>Magnesium pair\n",
      "No Data for OR Colloid Intake<>Potassium pair\n",
      "No Data for OR Colloid Intake<>Potassium pair\n",
      "No Data for OR Colloid Intake<>Prothrombin time INR pair\n",
      "No Data for OR Colloid Intake<>Prothrombin time INR pair\n",
      "No Data for OR Colloid Intake<>Red blood cell pair\n",
      "No Data for OR Colloid Intake<>Red blood cell pair\n",
      "No Data for OR Colloid Intake<>Uric Acid pair\n",
      "No Data for OR Colloid Intake<>Uric Acid pair\n",
      "No Data for OR Colloid Intake<>Uric Acid, Urine pair\n",
      "No Data for OR Colloid Intake<>Uric Acid, Urine pair\n",
      "No Data for OR Colloid Intake<>Vitamin B12 pair\n",
      "No Data for OR Colloid Intake<>Vitamin B12 pair\n",
      "No Data for OR Cryoprecipitate Intake<>Albumin pair\n",
      "No Data for OR Cryoprecipitate Intake<>Albumin pair\n",
      "No Data for OR Cryoprecipitate Intake<>Amylase pair\n",
      "No Data for OR Cryoprecipitate Intake<>Amylase pair\n",
      "No Data for OR Cryoprecipitate Intake<>Bilirubin pair\n",
      "No Data for OR Cryoprecipitate Intake<>Bilirubin pair\n",
      "No Data for OR Cryoprecipitate Intake<>Calcium pair\n",
      "No Data for OR Cryoprecipitate Intake<>Calcium pair\n",
      "No Data for OR Cryoprecipitate Intake<>Calcium ionized pair\n",
      "No Data for OR Cryoprecipitate Intake<>Calcium ionized pair\n",
      "No Data for OR Cryoprecipitate Intake<>Creatinine pair\n",
      "No Data for OR Cryoprecipitate Intake<>Creatinine pair\n",
      "No Data for OR Cryoprecipitate Intake<>Hemoglobin pair\n",
      "No Data for OR Cryoprecipitate Intake<>Hemoglobin pair\n",
      "No Data for OR Cryoprecipitate Intake<>Hemoglobin percent pair\n",
      "No Data for OR Cryoprecipitate Intake<>Hemoglobin percent pair\n",
      "No Data for OR Cryoprecipitate Intake<>Lactic acid pair\n",
      "No Data for OR Cryoprecipitate Intake<>Lactic acid pair\n",
      "No Data for OR Cryoprecipitate Intake<>Lipase pair\n",
      "No Data for OR Cryoprecipitate Intake<>Lipase pair\n",
      "No Data for OR Cryoprecipitate Intake<>Magnesium pair\n",
      "No Data for OR Cryoprecipitate Intake<>Magnesium pair\n",
      "No Data for OR Cryoprecipitate Intake<>Potassium pair\n",
      "No Data for OR Cryoprecipitate Intake<>Potassium pair\n",
      "No Data for OR Cryoprecipitate Intake<>Prothrombin time INR pair\n",
      "No Data for OR Cryoprecipitate Intake<>Prothrombin time INR pair\n",
      "No Data for OR Cryoprecipitate Intake<>Red blood cell pair\n",
      "No Data for OR Cryoprecipitate Intake<>Red blood cell pair\n",
      "No Data for OR Cryoprecipitate Intake<>Uric Acid pair\n",
      "No Data for OR Cryoprecipitate Intake<>Uric Acid pair\n",
      "No Data for OR Crystalloid Intake<>Albumin pair\n",
      "No Data for OR Crystalloid Intake<>Albumin pair\n",
      "No Data for OR Crystalloid Intake<>Bilirubin pair\n",
      "No Data for OR Crystalloid Intake<>Bilirubin pair\n",
      "No Data for OR Crystalloid Intake<>Calcium pair\n",
      "No Data for OR Crystalloid Intake<>Calcium pair\n",
      "No Data for OR Crystalloid Intake<>Calcium ionized pair\n",
      "No Data for OR Crystalloid Intake<>Calcium ionized pair\n",
      "No Data for OR Crystalloid Intake<>Creatinine pair\n",
      "No Data for OR Crystalloid Intake<>Creatinine pair\n",
      "No Data for OR Crystalloid Intake<>Creatinine ascites pair\n",
      "No Data for OR Crystalloid Intake<>Creatinine ascites pair\n",
      "No Data for OR Crystalloid Intake<>Hemoglobin pair\n",
      "No Data for OR Crystalloid Intake<>Hemoglobin pair\n",
      "No Data for OR Crystalloid Intake<>Hemoglobin percent pair\n",
      "No Data for OR Crystalloid Intake<>Hemoglobin percent pair\n",
      "No Data for OR Crystalloid Intake<>Lactic acid pair\n",
      "No Data for OR Crystalloid Intake<>Lactic acid pair\n",
      "No Data for OR Crystalloid Intake<>Magnesium pair\n",
      "No Data for OR Crystalloid Intake<>Magnesium pair\n",
      "No Data for OR Crystalloid Intake<>Magnesium, Urine pair\n",
      "No Data for OR Crystalloid Intake<>Magnesium, Urine pair\n",
      "No Data for OR Crystalloid Intake<>Potassium pair\n",
      "No Data for OR Crystalloid Intake<>Potassium pair\n",
      "No Data for OR Crystalloid Intake<>Prolactin pair\n",
      "No Data for OR Crystalloid Intake<>Prolactin pair\n",
      "No Data for OR Crystalloid Intake<>Prothrombin time INR pair\n",
      "No Data for OR Crystalloid Intake<>Prothrombin time INR pair\n",
      "No Data for OR Crystalloid Intake<>Red blood cell pair\n",
      "No Data for OR Crystalloid Intake<>Red blood cell pair\n",
      "No Data for OR Crystalloid Intake<>Uric Acid pair\n",
      "No Data for OR Crystalloid Intake<>Uric Acid pair\n",
      "No Data for OR Crystalloid Intake<>Uric Acid, Urine pair\n",
      "No Data for OR Crystalloid Intake<>Uric Acid, Urine pair\n",
      "No Data for OR Crystalloid Intake<>Vitamin B12 pair\n",
      "No Data for OR Crystalloid Intake<>Vitamin B12 pair\n",
      "No Data for OR FFP Intake<>Albumin pair\n",
      "No Data for OR FFP Intake<>Albumin pair\n",
      "No Data for OR FFP Intake<>Bilirubin pair\n",
      "No Data for OR FFP Intake<>Bilirubin pair\n",
      "No Data for OR FFP Intake<>Calcium pair\n",
      "No Data for OR FFP Intake<>Calcium pair\n",
      "No Data for OR FFP Intake<>Calcium ionized pair\n",
      "No Data for OR FFP Intake<>Calcium ionized pair\n",
      "No Data for OR FFP Intake<>Creatinine pair\n",
      "No Data for OR FFP Intake<>Creatinine pair\n",
      "No Data for OR FFP Intake<>Hemoglobin pair\n",
      "No Data for OR FFP Intake<>Hemoglobin pair\n",
      "No Data for OR FFP Intake<>Hemoglobin percent pair\n",
      "No Data for OR FFP Intake<>Hemoglobin percent pair\n",
      "No Data for OR FFP Intake<>Lactic acid pair\n",
      "No Data for OR FFP Intake<>Lactic acid pair\n",
      "No Data for OR FFP Intake<>Magnesium pair\n",
      "No Data for OR FFP Intake<>Magnesium pair\n",
      "No Data for OR FFP Intake<>Potassium pair\n",
      "No Data for OR FFP Intake<>Potassium pair\n",
      "No Data for OR FFP Intake<>Prothrombin time INR pair\n",
      "No Data for OR FFP Intake<>Prothrombin time INR pair\n",
      "No Data for OR FFP Intake<>Red blood cell pair\n",
      "No Data for OR FFP Intake<>Red blood cell pair\n",
      "No Data for OR FFP Intake<>Uric Acid pair\n",
      "No Data for OR FFP Intake<>Uric Acid pair\n",
      "No Data for OR FFP Intake<>Vitamin B12 pair\n",
      "No Data for OR FFP Intake<>Vitamin B12 pair\n",
      "No Data for OR Packed RBC Intake<>Albumin pair\n",
      "No Data for OR Packed RBC Intake<>Albumin pair\n",
      "No Data for OR Packed RBC Intake<>Bilirubin pair\n",
      "No Data for OR Packed RBC Intake<>Bilirubin pair\n",
      "No Data for OR Packed RBC Intake<>Calcium pair\n",
      "No Data for OR Packed RBC Intake<>Calcium pair\n",
      "No Data for OR Packed RBC Intake<>Calcium ionized pair\n",
      "No Data for OR Packed RBC Intake<>Calcium ionized pair\n",
      "No Data for OR Packed RBC Intake<>Creatinine pair\n",
      "No Data for OR Packed RBC Intake<>Creatinine pair\n",
      "No Data for OR Packed RBC Intake<>Hemoglobin pair\n",
      "No Data for OR Packed RBC Intake<>Hemoglobin pair\n",
      "No Data for OR Packed RBC Intake<>Hemoglobin percent pair\n",
      "No Data for OR Packed RBC Intake<>Hemoglobin percent pair\n",
      "No Data for OR Packed RBC Intake<>Lactic acid pair\n",
      "No Data for OR Packed RBC Intake<>Lactic acid pair\n",
      "No Data for OR Packed RBC Intake<>Magnesium pair\n",
      "No Data for OR Packed RBC Intake<>Magnesium pair\n",
      "No Data for OR Packed RBC Intake<>Potassium pair\n",
      "No Data for OR Packed RBC Intake<>Potassium pair\n",
      "No Data for OR Packed RBC Intake<>Prothrombin time INR pair\n",
      "No Data for OR Packed RBC Intake<>Prothrombin time INR pair\n",
      "No Data for OR Packed RBC Intake<>Red blood cell pair\n",
      "No Data for OR Packed RBC Intake<>Red blood cell pair\n",
      "No Data for OR Packed RBC Intake<>Uric Acid pair\n",
      "No Data for OR Packed RBC Intake<>Uric Acid pair\n",
      "No Data for OR Packed RBC Intake<>Uric Acid, Urine pair\n",
      "No Data for OR Packed RBC Intake<>Uric Acid, Urine pair\n",
      "No Data for OR Packed RBC Intake<>Vitamin B12 pair\n",
      "No Data for OR Packed RBC Intake<>Vitamin B12 pair\n",
      "No Data for OR Platelet Intake<>Albumin pair\n",
      "No Data for OR Platelet Intake<>Albumin pair\n",
      "No Data for OR Platelet Intake<>Bilirubin pair\n",
      "No Data for OR Platelet Intake<>Bilirubin pair\n",
      "No Data for OR Platelet Intake<>Calcium pair\n",
      "No Data for OR Platelet Intake<>Calcium pair\n",
      "No Data for OR Platelet Intake<>Calcium ionized pair\n",
      "No Data for OR Platelet Intake<>Calcium ionized pair\n",
      "No Data for OR Platelet Intake<>Creatinine pair\n",
      "No Data for OR Platelet Intake<>Creatinine pair\n",
      "No Data for OR Platelet Intake<>Hemoglobin pair\n",
      "No Data for OR Platelet Intake<>Hemoglobin pair\n",
      "No Data for OR Platelet Intake<>Hemoglobin percent pair\n",
      "No Data for OR Platelet Intake<>Hemoglobin percent pair\n",
      "No Data for OR Platelet Intake<>Lactic acid pair\n",
      "No Data for OR Platelet Intake<>Lactic acid pair\n",
      "No Data for OR Platelet Intake<>Magnesium pair\n",
      "No Data for OR Platelet Intake<>Magnesium pair\n",
      "No Data for OR Platelet Intake<>Potassium pair\n",
      "No Data for OR Platelet Intake<>Potassium pair\n",
      "No Data for OR Platelet Intake<>Prothrombin time INR pair\n",
      "No Data for OR Platelet Intake<>Prothrombin time INR pair\n",
      "No Data for OR Platelet Intake<>Red blood cell pair\n",
      "No Data for OR Platelet Intake<>Red blood cell pair\n",
      "No Data for OR Platelet Intake<>Uric Acid pair\n",
      "No Data for OR Platelet Intake<>Uric Acid pair\n",
      "No Data for OR Platelet Intake<>Vitamin B12 pair\n",
      "No Data for OR Platelet Intake<>Vitamin B12 pair\n",
      "No Data for Octreotide<>Albumin pair\n",
      "No Data for Octreotide<>Albumin pair\n",
      "No Data for Octreotide<>Amylase pair\n",
      "No Data for Octreotide<>Amylase pair\n",
      "No Data for Octreotide<>Bilirubin pair\n",
      "No Data for Octreotide<>Bilirubin pair\n",
      "No Data for Octreotide<>Calcium pair\n",
      "No Data for Octreotide<>Calcium pair\n",
      "No Data for Octreotide<>Calcium ionized pair\n",
      "No Data for Octreotide<>Calcium ionized pair\n",
      "No Data for Octreotide<>Creatinine pair\n",
      "No Data for Octreotide<>Creatinine pair\n",
      "No Data for Octreotide<>Creatinine ascites pair\n",
      "No Data for Octreotide<>Creatinine ascites pair\n",
      "No Data for Octreotide<>Hemoglobin pair\n",
      "No Data for Octreotide<>Hemoglobin pair\n",
      "No Data for Octreotide<>Hemoglobin percent pair\n",
      "No Data for Octreotide<>Hemoglobin percent pair\n",
      "No Data for Octreotide<>Lactic acid pair\n",
      "No Data for Octreotide<>Lactic acid pair\n",
      "No Data for Octreotide<>Lipase pair\n",
      "No Data for Octreotide<>Lipase pair\n",
      "No Data for Octreotide<>Magnesium pair\n",
      "No Data for Octreotide<>Magnesium pair\n",
      "No Data for Octreotide<>Potassium pair\n",
      "No Data for Octreotide<>Potassium pair\n",
      "No Data for Octreotide<>Prothrombin time INR pair\n",
      "No Data for Octreotide<>Prothrombin time INR pair\n",
      "No Data for Octreotide<>Red blood cell pair\n",
      "No Data for Octreotide<>Red blood cell pair\n",
      "No Data for Octreotide<>Uric Acid pair\n",
      "No Data for Octreotide<>Uric Acid pair\n",
      "No Data for Octreotide<>Uric Acid, Urine pair\n",
      "No Data for Octreotide<>Uric Acid, Urine pair\n",
      "No Data for Octreotide<>Vitamin B12 pair\n",
      "No Data for Octreotide<>Vitamin B12 pair\n",
      "No Data for Omeprazole (Prilosec)<>Albumin pair\n",
      "No Data for Omeprazole (Prilosec)<>Albumin pair\n",
      "No Data for Omeprazole (Prilosec)<>Amylase pair\n",
      "No Data for Omeprazole (Prilosec)<>Amylase pair\n",
      "No Data for Omeprazole (Prilosec)<>Bilirubin pair\n",
      "No Data for Omeprazole (Prilosec)<>Bilirubin pair\n",
      "No Data for Omeprazole (Prilosec)<>Calcium pair\n",
      "No Data for Omeprazole (Prilosec)<>Calcium pair\n",
      "No Data for Omeprazole (Prilosec)<>Calcium ionized pair\n",
      "No Data for Omeprazole (Prilosec)<>Calcium ionized pair\n",
      "No Data for Omeprazole (Prilosec)<>Creatinine pair\n",
      "No Data for Omeprazole (Prilosec)<>Creatinine pair\n",
      "No Data for Omeprazole (Prilosec)<>Hemoglobin pair\n",
      "No Data for Omeprazole (Prilosec)<>Hemoglobin pair\n",
      "No Data for Omeprazole (Prilosec)<>Hemoglobin A2 pair\n",
      "No Data for Omeprazole (Prilosec)<>Hemoglobin A2 pair\n",
      "No Data for Omeprazole (Prilosec)<>Hemoglobin C pair\n",
      "No Data for Omeprazole (Prilosec)<>Hemoglobin C pair\n",
      "No Data for Omeprazole (Prilosec)<>Hemoglobin percent pair\n",
      "No Data for Omeprazole (Prilosec)<>Hemoglobin percent pair\n",
      "No Data for Omeprazole (Prilosec)<>Lactic acid pair\n",
      "No Data for Omeprazole (Prilosec)<>Lactic acid pair\n",
      "No Data for Omeprazole (Prilosec)<>Lipase pair\n",
      "No Data for Omeprazole (Prilosec)<>Lipase pair\n",
      "No Data for Omeprazole (Prilosec)<>Magnesium pair\n",
      "No Data for Omeprazole (Prilosec)<>Magnesium pair\n",
      "No Data for Omeprazole (Prilosec)<>Potassium pair\n",
      "No Data for Omeprazole (Prilosec)<>Potassium pair\n",
      "No Data for Omeprazole (Prilosec)<>Prothrombin time INR pair\n",
      "No Data for Omeprazole (Prilosec)<>Prothrombin time INR pair\n",
      "No Data for Omeprazole (Prilosec)<>Red blood cell pair\n",
      "No Data for Omeprazole (Prilosec)<>Red blood cell pair\n",
      "No Data for Omeprazole (Prilosec)<>Uric Acid pair\n",
      "No Data for Omeprazole (Prilosec)<>Uric Acid pair\n",
      "No Data for Omeprazole (Prilosec)<>Vitamin B12 pair\n",
      "No Data for Omeprazole (Prilosec)<>Vitamin B12 pair\n",
      "No Data for Optisource<>Alanine aminotransferase pair\n",
      "No Data for Optisource<>Alanine aminotransferase pair\n",
      "No Data for Optisource<>Albumin pair\n",
      "No Data for Optisource<>Albumin pair\n",
      "No Data for Optisource<>Asparate aminotransferase pair\n",
      "No Data for Optisource<>Asparate aminotransferase pair\n",
      "No Data for Optisource<>Bilirubin pair\n",
      "No Data for Optisource<>Bilirubin pair\n",
      "No Data for Optisource<>Calcium pair\n",
      "No Data for Optisource<>Calcium pair\n",
      "No Data for Optisource<>Creatinine pair\n",
      "No Data for Optisource<>Creatinine pair\n",
      "No Data for Optisource<>Glucose pair\n",
      "No Data for Optisource<>Glucose pair\n",
      "No Data for Optisource<>Hematocrit pair\n",
      "No Data for Optisource<>Hematocrit pair\n",
      "No Data for Optisource<>Hemoglobin pair\n",
      "No Data for Optisource<>Hemoglobin pair\n",
      "No Data for Optisource<>Magnesium pair\n",
      "No Data for Optisource<>Magnesium pair\n",
      "No Data for Optisource<>PTT pair\n",
      "No Data for Optisource<>PTT pair\n",
      "No Data for Optisource<>Platelets pair\n",
      "No Data for Optisource<>Platelets pair\n",
      "No Data for Optisource<>Potassium pair\n",
      "No Data for Optisource<>Potassium pair\n",
      "No Data for Optisource<>Prothrombin time INR pair\n",
      "No Data for Optisource<>Prothrombin time INR pair\n",
      "No Data for Optisource<>Red blood cell pair\n",
      "No Data for Optisource<>Red blood cell pair\n",
      "No Data for Optisource<>Sodium pair\n",
      "No Data for Optisource<>Sodium pair\n",
      "No Data for Oxacillin<>Alanine aminotransferase pair\n",
      "No Data for Oxacillin<>Alanine aminotransferase pair\n",
      "No Data for Oxacillin<>Albumin pair\n",
      "No Data for Oxacillin<>Albumin pair\n",
      "No Data for Oxacillin<>Asparate aminotransferase pair\n",
      "No Data for Oxacillin<>Asparate aminotransferase pair\n",
      "No Data for Oxacillin<>Bilirubin pair\n",
      "No Data for Oxacillin<>Bilirubin pair\n",
      "No Data for Oxacillin<>Calcium pair\n",
      "No Data for Oxacillin<>Calcium pair\n",
      "No Data for Oxacillin<>Calcium ionized pair\n",
      "No Data for Oxacillin<>Calcium ionized pair\n",
      "No Data for Oxacillin<>Creatinine pair\n",
      "No Data for Oxacillin<>Creatinine pair\n",
      "No Data for Oxacillin<>Glucose pair\n",
      "No Data for Oxacillin<>Glucose pair\n",
      "No Data for Oxacillin<>Hematocrit pair\n",
      "No Data for Oxacillin<>Hematocrit pair\n",
      "No Data for Oxacillin<>Hemoglobin pair\n",
      "No Data for Oxacillin<>Hemoglobin pair\n",
      "No Data for Oxacillin<>Lactic acid pair\n",
      "No Data for Oxacillin<>Lactic acid pair\n",
      "No Data for Oxacillin<>Magnesium pair\n",
      "No Data for Oxacillin<>Magnesium pair\n",
      "No Data for Oxacillin<>PTT pair\n",
      "No Data for Oxacillin<>PTT pair\n",
      "No Data for Oxacillin<>Platelets pair\n",
      "No Data for Oxacillin<>Platelets pair\n",
      "No Data for Oxacillin<>Potassium pair\n",
      "No Data for Oxacillin<>Potassium pair\n",
      "No Data for Oxacillin<>Prothrombin time INR pair\n",
      "No Data for Oxacillin<>Prothrombin time INR pair\n",
      "No Data for Oxacillin<>Red blood cell pair\n",
      "No Data for Oxacillin<>Red blood cell pair\n",
      "No Data for Oxacillin<>Sodium pair\n",
      "No Data for Oxacillin<>Sodium pair\n",
      "No Data for PACU Colloid Intake<>Albumin pair\n",
      "No Data for PACU Colloid Intake<>Albumin pair\n",
      "No Data for PACU Colloid Intake<>Amylase pair\n",
      "No Data for PACU Colloid Intake<>Amylase pair\n",
      "No Data for PACU Colloid Intake<>Bilirubin pair\n",
      "No Data for PACU Colloid Intake<>Bilirubin pair\n",
      "No Data for PACU Colloid Intake<>Calcium pair\n",
      "No Data for PACU Colloid Intake<>Calcium pair\n",
      "No Data for PACU Colloid Intake<>Calcium ionized pair\n",
      "No Data for PACU Colloid Intake<>Calcium ionized pair\n",
      "No Data for PACU Colloid Intake<>Creatinine pair\n",
      "No Data for PACU Colloid Intake<>Creatinine pair\n",
      "No Data for PACU Colloid Intake<>Hemoglobin pair\n",
      "No Data for PACU Colloid Intake<>Hemoglobin pair\n",
      "No Data for PACU Colloid Intake<>Lactic acid pair\n",
      "No Data for PACU Colloid Intake<>Lactic acid pair\n",
      "No Data for PACU Colloid Intake<>Lipase pair\n",
      "No Data for PACU Colloid Intake<>Lipase pair\n",
      "No Data for PACU Colloid Intake<>Magnesium pair\n",
      "No Data for PACU Colloid Intake<>Magnesium pair\n",
      "No Data for PACU Colloid Intake<>Potassium pair\n",
      "No Data for PACU Colloid Intake<>Potassium pair\n",
      "No Data for PACU Colloid Intake<>Prothrombin time INR pair\n",
      "No Data for PACU Colloid Intake<>Prothrombin time INR pair\n",
      "No Data for PACU Colloid Intake<>Red blood cell pair\n",
      "No Data for PACU Colloid Intake<>Red blood cell pair\n",
      "No Data for PACU Crystalloid Intake<>Alanine aminotransferase pair\n",
      "No Data for PACU Crystalloid Intake<>Alanine aminotransferase pair\n",
      "No Data for PACU Crystalloid Intake<>Albumin pair\n",
      "No Data for PACU Crystalloid Intake<>Albumin pair\n",
      "No Data for PACU Crystalloid Intake<>Amylase pair\n",
      "No Data for PACU Crystalloid Intake<>Amylase pair\n",
      "No Data for PACU Crystalloid Intake<>Bilirubin pair\n",
      "No Data for PACU Crystalloid Intake<>Bilirubin pair\n",
      "No Data for PACU Crystalloid Intake<>Calcium pair\n",
      "No Data for PACU Crystalloid Intake<>Calcium pair\n",
      "No Data for PACU Crystalloid Intake<>Calcium ionized pair\n",
      "No Data for PACU Crystalloid Intake<>Calcium ionized pair\n",
      "No Data for PACU Crystalloid Intake<>Creatinine pair\n",
      "No Data for PACU Crystalloid Intake<>Creatinine pair\n",
      "No Data for PACU Crystalloid Intake<>Hemoglobin pair\n",
      "No Data for PACU Crystalloid Intake<>Hemoglobin pair\n",
      "No Data for PACU Crystalloid Intake<>Lactic acid pair\n",
      "No Data for PACU Crystalloid Intake<>Lactic acid pair\n",
      "No Data for PACU Crystalloid Intake<>Lipase pair\n",
      "No Data for PACU Crystalloid Intake<>Lipase pair\n",
      "No Data for PACU Crystalloid Intake<>Magnesium pair\n",
      "No Data for PACU Crystalloid Intake<>Magnesium pair\n",
      "No Data for PACU Crystalloid Intake<>Potassium pair\n",
      "No Data for PACU Crystalloid Intake<>Potassium pair\n",
      "No Data for PACU Crystalloid Intake<>Prothrombin time INR pair\n",
      "No Data for PACU Crystalloid Intake<>Prothrombin time INR pair\n",
      "No Data for PACU Crystalloid Intake<>Red blood cell pair\n",
      "No Data for PACU Crystalloid Intake<>Red blood cell pair\n",
      "No Data for PACU Crystalloid Intake<>Uric Acid pair\n",
      "No Data for PACU Crystalloid Intake<>Uric Acid pair\n",
      "No Data for PACU Crystalloid Intake<>Uric Acid, Urine pair\n",
      "No Data for PACU Crystalloid Intake<>Uric Acid, Urine pair\n",
      "No Data for PACU Crystalloid Intake<>Vitamin B12 pair\n",
      "No Data for PACU Crystalloid Intake<>Vitamin B12 pair\n",
      "No Data for PACU FFP Intake<>Calcium pair\n",
      "No Data for PACU FFP Intake<>Calcium pair\n",
      "No Data for PACU FFP Intake<>Calcium ionized pair\n",
      "No Data for PACU FFP Intake<>Calcium ionized pair\n",
      "No Data for PACU FFP Intake<>Creatinine pair\n",
      "No Data for PACU FFP Intake<>Creatinine pair\n",
      "No Data for PACU FFP Intake<>Glucose pair\n",
      "No Data for PACU FFP Intake<>Glucose pair\n",
      "No Data for PACU FFP Intake<>Hematocrit pair\n",
      "No Data for PACU FFP Intake<>Hematocrit pair\n",
      "No Data for PACU FFP Intake<>Hemoglobin pair\n",
      "No Data for PACU FFP Intake<>Hemoglobin pair\n",
      "No Data for PACU FFP Intake<>Lactic acid pair\n",
      "No Data for PACU FFP Intake<>Lactic acid pair\n",
      "No Data for PACU FFP Intake<>Magnesium pair\n",
      "No Data for PACU FFP Intake<>Magnesium pair\n",
      "No Data for PACU FFP Intake<>PTT pair\n",
      "No Data for PACU FFP Intake<>PTT pair\n",
      "No Data for PACU FFP Intake<>Platelets pair\n",
      "No Data for PACU FFP Intake<>Platelets pair\n",
      "No Data for PACU FFP Intake<>Potassium pair\n",
      "No Data for PACU FFP Intake<>Potassium pair\n",
      "No Data for PACU FFP Intake<>Prothrombin time INR pair\n",
      "No Data for PACU FFP Intake<>Prothrombin time INR pair\n",
      "No Data for PACU FFP Intake<>Red blood cell pair\n",
      "No Data for PACU FFP Intake<>Red blood cell pair\n",
      "No Data for PACU FFP Intake<>Sodium pair\n",
      "No Data for PACU FFP Intake<>Sodium pair\n",
      "No Data for PACU PO Intake<>Calcium pair\n",
      "No Data for PACU PO Intake<>Calcium pair\n",
      "No Data for PACU PO Intake<>Calcium ionized pair\n",
      "No Data for PACU PO Intake<>Calcium ionized pair\n",
      "No Data for PACU PO Intake<>Creatinine pair\n",
      "No Data for PACU PO Intake<>Creatinine pair\n",
      "No Data for PACU PO Intake<>Hemoglobin pair\n",
      "No Data for PACU PO Intake<>Hemoglobin pair\n",
      "No Data for PACU PO Intake<>Magnesium pair\n",
      "No Data for PACU PO Intake<>Magnesium pair\n",
      "No Data for PACU PO Intake<>PTT pair\n",
      "No Data for PACU PO Intake<>PTT pair\n",
      "No Data for PACU PO Intake<>Platelets pair\n",
      "No Data for PACU PO Intake<>Platelets pair\n",
      "No Data for PACU PO Intake<>Potassium pair\n",
      "No Data for PACU PO Intake<>Potassium pair\n",
      "No Data for PACU PO Intake<>Prothrombin time INR pair\n",
      "No Data for PACU PO Intake<>Prothrombin time INR pair\n",
      "No Data for PACU PO Intake<>Red blood cell pair\n",
      "No Data for PACU PO Intake<>Red blood cell pair\n",
      "No Data for PACU Packed RBC Intake<>Alanine aminotransferase pair\n",
      "No Data for PACU Packed RBC Intake<>Alanine aminotransferase pair\n",
      "No Data for PACU Packed RBC Intake<>Albumin pair\n",
      "No Data for PACU Packed RBC Intake<>Albumin pair\n",
      "No Data for PACU Packed RBC Intake<>Amylase pair\n",
      "No Data for PACU Packed RBC Intake<>Amylase pair\n",
      "No Data for PACU Packed RBC Intake<>Asparate aminotransferase pair\n",
      "No Data for PACU Packed RBC Intake<>Asparate aminotransferase pair\n",
      "No Data for PACU Packed RBC Intake<>Bilirubin pair\n",
      "No Data for PACU Packed RBC Intake<>Bilirubin pair\n",
      "No Data for PACU Packed RBC Intake<>Calcium pair\n",
      "No Data for PACU Packed RBC Intake<>Calcium pair\n",
      "No Data for PACU Packed RBC Intake<>Calcium ionized pair\n",
      "No Data for PACU Packed RBC Intake<>Calcium ionized pair\n",
      "No Data for PACU Packed RBC Intake<>Creatinine pair\n",
      "No Data for PACU Packed RBC Intake<>Creatinine pair\n",
      "No Data for PACU Packed RBC Intake<>Hemoglobin pair\n",
      "No Data for PACU Packed RBC Intake<>Hemoglobin pair\n",
      "No Data for PACU Packed RBC Intake<>Lactic acid pair\n",
      "No Data for PACU Packed RBC Intake<>Lactic acid pair\n",
      "No Data for PACU Packed RBC Intake<>Lipase pair\n",
      "No Data for PACU Packed RBC Intake<>Lipase pair\n",
      "No Data for PACU Packed RBC Intake<>Magnesium pair\n",
      "No Data for PACU Packed RBC Intake<>Magnesium pair\n",
      "No Data for PACU Packed RBC Intake<>Potassium pair\n",
      "No Data for PACU Packed RBC Intake<>Potassium pair\n",
      "No Data for PACU Packed RBC Intake<>Prothrombin time INR pair\n",
      "No Data for PACU Packed RBC Intake<>Prothrombin time INR pair\n",
      "No Data for PACU Packed RBC Intake<>Red blood cell pair\n",
      "No Data for PACU Packed RBC Intake<>Red blood cell pair\n",
      "No Data for PO Intake<>Albumin pair\n",
      "No Data for PO Intake<>Albumin pair\n",
      "No Data for PO Intake<>Calcium pair\n",
      "No Data for PO Intake<>Calcium pair\n",
      "No Data for PO Intake<>Calcium ionized pair\n",
      "No Data for PO Intake<>Calcium ionized pair\n",
      "No Data for PO Intake<>Creatinine pair\n",
      "No Data for PO Intake<>Creatinine pair\n",
      "No Data for PO Intake<>Creatinine ascites pair\n",
      "No Data for PO Intake<>Creatinine ascites pair\n",
      "No Data for PO Intake<>Hemoglobin pair\n",
      "No Data for PO Intake<>Hemoglobin pair\n",
      "No Data for PO Intake<>Hemoglobin A2 pair\n",
      "No Data for PO Intake<>Hemoglobin A2 pair\n",
      "No Data for PO Intake<>Hemoglobin C pair\n",
      "No Data for PO Intake<>Hemoglobin C pair\n",
      "No Data for PO Intake<>Hemoglobin percent pair\n",
      "No Data for PO Intake<>Hemoglobin percent pair\n",
      "No Data for PO Intake<>Lactic acid pair\n",
      "No Data for PO Intake<>Lactic acid pair\n",
      "No Data for PO Intake<>Magnesium pair\n",
      "No Data for PO Intake<>Magnesium pair\n",
      "No Data for PO Intake<>Magnesium, Urine pair\n",
      "No Data for PO Intake<>Magnesium, Urine pair\n",
      "No Data for PO Intake<>Potassium pair\n",
      "No Data for PO Intake<>Potassium pair\n",
      "No Data for PO Intake<>Prolactin pair\n",
      "No Data for PO Intake<>Prolactin pair\n",
      "No Data for PO Intake<>Prothrombin time INR pair\n",
      "No Data for PO Intake<>Prothrombin time INR pair\n",
      "No Data for PO Intake<>Red blood cell pair\n",
      "No Data for PO Intake<>Red blood cell pair\n",
      "No Data for PO Intake<>Uric Acid pair\n",
      "No Data for PO Intake<>Uric Acid pair\n",
      "No Data for PO Intake<>Uric Acid, Urine pair\n",
      "No Data for PO Intake<>Uric Acid, Urine pair\n",
      "No Data for PO Intake<>Vitamin B12 pair\n",
      "No Data for PO Intake<>Vitamin B12 pair\n",
      "No Data for Packed Red Blood Cells<>Albumin pair\n",
      "No Data for Packed Red Blood Cells<>Albumin pair\n",
      "No Data for Packed Red Blood Cells<>Calcium pair\n",
      "No Data for Packed Red Blood Cells<>Calcium pair\n",
      "No Data for Packed Red Blood Cells<>Calcium ionized pair\n",
      "No Data for Packed Red Blood Cells<>Calcium ionized pair\n",
      "No Data for Packed Red Blood Cells<>Creatinine pair\n",
      "No Data for Packed Red Blood Cells<>Creatinine pair\n",
      "No Data for Packed Red Blood Cells<>Creatinine ascites pair\n",
      "No Data for Packed Red Blood Cells<>Creatinine ascites pair\n",
      "No Data for Packed Red Blood Cells<>Hemoglobin pair\n",
      "No Data for Packed Red Blood Cells<>Hemoglobin pair\n",
      "No Data for Packed Red Blood Cells<>Hemoglobin C pair\n",
      "No Data for Packed Red Blood Cells<>Hemoglobin C pair\n",
      "No Data for Packed Red Blood Cells<>Hemoglobin percent pair\n",
      "No Data for Packed Red Blood Cells<>Hemoglobin percent pair\n",
      "No Data for Packed Red Blood Cells<>Lactic acid pair\n",
      "No Data for Packed Red Blood Cells<>Lactic acid pair\n",
      "No Data for Packed Red Blood Cells<>Magnesium pair\n",
      "No Data for Packed Red Blood Cells<>Magnesium pair\n",
      "No Data for Packed Red Blood Cells<>Magnesium, Urine pair\n",
      "No Data for Packed Red Blood Cells<>Magnesium, Urine pair\n",
      "No Data for Packed Red Blood Cells<>Potassium pair\n",
      "No Data for Packed Red Blood Cells<>Potassium pair\n",
      "No Data for Packed Red Blood Cells<>Prolactin pair\n",
      "No Data for Packed Red Blood Cells<>Prolactin pair\n",
      "No Data for Packed Red Blood Cells<>Prothrombin time INR pair\n",
      "No Data for Packed Red Blood Cells<>Prothrombin time INR pair\n",
      "No Data for Packed Red Blood Cells<>Red blood cell pair\n",
      "No Data for Packed Red Blood Cells<>Red blood cell pair\n",
      "No Data for Packed Red Blood Cells<>Uric Acid pair\n",
      "No Data for Packed Red Blood Cells<>Uric Acid pair\n",
      "No Data for Packed Red Blood Cells<>Uric Acid, Urine pair\n",
      "No Data for Packed Red Blood Cells<>Uric Acid, Urine pair\n",
      "No Data for Packed Red Blood Cells<>Vitamin B12 pair\n",
      "No Data for Packed Red Blood Cells<>Vitamin B12 pair\n",
      "No Data for Pantoprazole (Protonix)<>Albumin pair\n",
      "No Data for Pantoprazole (Protonix)<>Albumin pair\n",
      "No Data for Pantoprazole (Protonix)<>Calcium pair\n",
      "No Data for Pantoprazole (Protonix)<>Calcium pair\n",
      "No Data for Pantoprazole (Protonix)<>Calcium ionized pair\n",
      "No Data for Pantoprazole (Protonix)<>Calcium ionized pair\n",
      "No Data for Pantoprazole (Protonix)<>Creatinine pair\n",
      "No Data for Pantoprazole (Protonix)<>Creatinine pair\n",
      "No Data for Pantoprazole (Protonix)<>Creatinine ascites pair\n",
      "No Data for Pantoprazole (Protonix)<>Creatinine ascites pair\n",
      "No Data for Pantoprazole (Protonix)<>Hemoglobin pair\n",
      "No Data for Pantoprazole (Protonix)<>Hemoglobin pair\n",
      "No Data for Pantoprazole (Protonix)<>Hemoglobin percent pair\n",
      "No Data for Pantoprazole (Protonix)<>Hemoglobin percent pair\n",
      "No Data for Pantoprazole (Protonix)<>Lactic acid pair\n",
      "No Data for Pantoprazole (Protonix)<>Lactic acid pair\n",
      "No Data for Pantoprazole (Protonix)<>Magnesium pair\n",
      "No Data for Pantoprazole (Protonix)<>Magnesium pair\n",
      "No Data for Pantoprazole (Protonix)<>Magnesium, Urine pair\n",
      "No Data for Pantoprazole (Protonix)<>Magnesium, Urine pair\n",
      "No Data for Pantoprazole (Protonix)<>Potassium pair\n",
      "No Data for Pantoprazole (Protonix)<>Potassium pair\n",
      "No Data for Pantoprazole (Protonix)<>Prolactin pair\n",
      "No Data for Pantoprazole (Protonix)<>Prolactin pair\n",
      "No Data for Pantoprazole (Protonix)<>Prothrombin time INR pair\n",
      "No Data for Pantoprazole (Protonix)<>Prothrombin time INR pair\n",
      "No Data for Pantoprazole (Protonix)<>Red blood cell pair\n",
      "No Data for Pantoprazole (Protonix)<>Red blood cell pair\n",
      "No Data for Pantoprazole (Protonix)<>Uric Acid pair\n",
      "No Data for Pantoprazole (Protonix)<>Uric Acid pair\n",
      "No Data for Pantoprazole (Protonix)<>Uric Acid, Urine pair\n",
      "No Data for Pantoprazole (Protonix)<>Uric Acid, Urine pair\n",
      "No Data for Pantoprazole (Protonix)<>Vitamin B12 pair\n",
      "No Data for Pantoprazole (Protonix)<>Vitamin B12 pair\n",
      "No Data for Penicillin G potassium<>Alanine aminotransferase pair\n",
      "No Data for Penicillin G potassium<>Alanine aminotransferase pair\n",
      "No Data for Penicillin G potassium<>Albumin pair\n",
      "No Data for Penicillin G potassium<>Albumin pair\n",
      "No Data for Penicillin G potassium<>Amylase pair\n",
      "No Data for Penicillin G potassium<>Amylase pair\n",
      "No Data for Penicillin G potassium<>Asparate aminotransferase pair\n",
      "No Data for Penicillin G potassium<>Asparate aminotransferase pair\n",
      "No Data for Penicillin G potassium<>Bilirubin pair\n",
      "No Data for Penicillin G potassium<>Bilirubin pair\n",
      "No Data for Penicillin G potassium<>Calcium pair\n",
      "No Data for Penicillin G potassium<>Calcium pair\n",
      "No Data for Penicillin G potassium<>Calcium ionized pair\n",
      "No Data for Penicillin G potassium<>Calcium ionized pair\n",
      "No Data for Penicillin G potassium<>Creatinine pair\n",
      "No Data for Penicillin G potassium<>Creatinine pair\n",
      "No Data for Penicillin G potassium<>Hemoglobin pair\n",
      "No Data for Penicillin G potassium<>Hemoglobin pair\n",
      "No Data for Penicillin G potassium<>Hemoglobin percent pair\n",
      "No Data for Penicillin G potassium<>Hemoglobin percent pair\n",
      "No Data for Penicillin G potassium<>Lactic acid pair\n",
      "No Data for Penicillin G potassium<>Lactic acid pair\n",
      "No Data for Penicillin G potassium<>Lipase pair\n",
      "No Data for Penicillin G potassium<>Lipase pair\n",
      "No Data for Penicillin G potassium<>Magnesium pair\n",
      "No Data for Penicillin G potassium<>Magnesium pair\n",
      "No Data for Penicillin G potassium<>PTT pair\n",
      "No Data for Penicillin G potassium<>PTT pair\n",
      "No Data for Penicillin G potassium<>Platelets pair\n",
      "No Data for Penicillin G potassium<>Platelets pair\n",
      "No Data for Penicillin G potassium<>Potassium pair\n",
      "No Data for Penicillin G potassium<>Potassium pair\n",
      "No Data for Penicillin G potassium<>Prothrombin time INR pair\n",
      "No Data for Penicillin G potassium<>Prothrombin time INR pair\n",
      "No Data for Penicillin G potassium<>Red blood cell pair\n",
      "No Data for Penicillin G potassium<>Red blood cell pair\n",
      "No Data for Pentobarbital<>Alanine aminotransferase pair\n",
      "No Data for Pentobarbital<>Alanine aminotransferase pair\n",
      "No Data for Pentobarbital<>Albumin pair\n",
      "No Data for Pentobarbital<>Albumin pair\n",
      "No Data for Pentobarbital<>Amylase pair\n",
      "No Data for Pentobarbital<>Amylase pair\n",
      "No Data for Pentobarbital<>Asparate aminotransferase pair\n",
      "No Data for Pentobarbital<>Asparate aminotransferase pair\n",
      "No Data for Pentobarbital<>Bilirubin pair\n",
      "No Data for Pentobarbital<>Bilirubin pair\n",
      "No Data for Pentobarbital<>Calcium pair\n",
      "No Data for Pentobarbital<>Calcium pair\n",
      "No Data for Pentobarbital<>Calcium ionized pair\n",
      "No Data for Pentobarbital<>Calcium ionized pair\n",
      "No Data for Pentobarbital<>Creatinine pair\n",
      "No Data for Pentobarbital<>Creatinine pair\n",
      "No Data for Pentobarbital<>Hematocrit pair\n",
      "No Data for Pentobarbital<>Hematocrit pair\n",
      "No Data for Pentobarbital<>Hemoglobin pair\n",
      "No Data for Pentobarbital<>Hemoglobin pair\n",
      "No Data for Pentobarbital<>Lactic acid pair\n",
      "No Data for Pentobarbital<>Lactic acid pair\n",
      "No Data for Pentobarbital<>Lipase pair\n",
      "No Data for Pentobarbital<>Lipase pair\n",
      "No Data for Pentobarbital<>Magnesium pair\n",
      "No Data for Pentobarbital<>Magnesium pair\n",
      "No Data for Pentobarbital<>PTT pair\n",
      "No Data for Pentobarbital<>PTT pair\n",
      "No Data for Pentobarbital<>Platelets pair\n",
      "No Data for Pentobarbital<>Platelets pair\n",
      "No Data for Pentobarbital<>Potassium pair\n",
      "No Data for Pentobarbital<>Potassium pair\n",
      "No Data for Pentobarbital<>Prothrombin time INR pair\n",
      "No Data for Pentobarbital<>Prothrombin time INR pair\n",
      "No Data for Pentobarbital<>Red blood cell pair\n",
      "No Data for Pentobarbital<>Red blood cell pair\n",
      "No Data for Peptamen 1.5 (1/2)<>Glucose pair\n",
      "No Data for Peptamen 1.5 (1/2)<>Glucose pair\n",
      "No Data for Peptamen 1.5 (3/4)<>Calcium pair\n",
      "No Data for Peptamen 1.5 (3/4)<>Calcium pair\n",
      "No Data for Peptamen 1.5 (3/4)<>Creatinine pair\n",
      "No Data for Peptamen 1.5 (3/4)<>Creatinine pair\n",
      "No Data for Peptamen 1.5 (3/4)<>Glucose pair\n",
      "No Data for Peptamen 1.5 (3/4)<>Glucose pair\n",
      "No Data for Peptamen 1.5 (3/4)<>Magnesium pair\n",
      "No Data for Peptamen 1.5 (3/4)<>Magnesium pair\n",
      "No Data for Peptamen 1.5 (3/4)<>Sodium pair\n",
      "No Data for Peptamen 1.5 (3/4)<>Sodium pair\n",
      "No Data for Peptamen 1.5 (Full)<>Alanine aminotransferase pair\n",
      "No Data for Peptamen 1.5 (Full)<>Alanine aminotransferase pair\n",
      "No Data for Peptamen 1.5 (Full)<>Albumin pair\n",
      "No Data for Peptamen 1.5 (Full)<>Albumin pair\n",
      "No Data for Peptamen 1.5 (Full)<>Amylase pair\n",
      "No Data for Peptamen 1.5 (Full)<>Amylase pair\n",
      "No Data for Peptamen 1.5 (Full)<>Asparate aminotransferase pair\n",
      "No Data for Peptamen 1.5 (Full)<>Asparate aminotransferase pair\n",
      "No Data for Peptamen 1.5 (Full)<>Bilirubin pair\n",
      "No Data for Peptamen 1.5 (Full)<>Bilirubin pair\n",
      "No Data for Peptamen 1.5 (Full)<>Calcium pair\n",
      "No Data for Peptamen 1.5 (Full)<>Calcium pair\n",
      "No Data for Peptamen 1.5 (Full)<>Calcium ionized pair\n",
      "No Data for Peptamen 1.5 (Full)<>Calcium ionized pair\n",
      "No Data for Peptamen 1.5 (Full)<>Creatinine pair\n",
      "No Data for Peptamen 1.5 (Full)<>Creatinine pair\n",
      "No Data for Peptamen 1.5 (Full)<>Hemoglobin pair\n",
      "No Data for Peptamen 1.5 (Full)<>Hemoglobin pair\n",
      "No Data for Peptamen 1.5 (Full)<>Lactic acid pair\n",
      "No Data for Peptamen 1.5 (Full)<>Lactic acid pair\n",
      "No Data for Peptamen 1.5 (Full)<>Lipase pair\n",
      "No Data for Peptamen 1.5 (Full)<>Lipase pair\n",
      "No Data for Peptamen 1.5 (Full)<>Magnesium pair\n",
      "No Data for Peptamen 1.5 (Full)<>Magnesium pair\n",
      "No Data for Peptamen 1.5 (Full)<>Platelets pair\n",
      "No Data for Peptamen 1.5 (Full)<>Platelets pair\n",
      "No Data for Peptamen 1.5 (Full)<>Potassium pair\n",
      "No Data for Peptamen 1.5 (Full)<>Potassium pair\n",
      "No Data for Peptamen 1.5 (Full)<>Prothrombin time INR pair\n",
      "No Data for Peptamen 1.5 (Full)<>Prothrombin time INR pair\n",
      "No Data for Peptamen 1.5 (Full)<>Red blood cell pair\n",
      "No Data for Peptamen 1.5 (Full)<>Red blood cell pair\n",
      "No Data for Peptamen Bariatric (Full)<>Alanine aminotransferase pair\n",
      "No Data for Peptamen Bariatric (Full)<>Alanine aminotransferase pair\n",
      "No Data for Peptamen Bariatric (Full)<>Albumin pair\n",
      "No Data for Peptamen Bariatric (Full)<>Albumin pair\n",
      "No Data for Peptamen Bariatric (Full)<>Amylase pair\n",
      "No Data for Peptamen Bariatric (Full)<>Amylase pair\n",
      "No Data for Peptamen Bariatric (Full)<>Asparate aminotransferase pair\n",
      "No Data for Peptamen Bariatric (Full)<>Asparate aminotransferase pair\n",
      "No Data for Peptamen Bariatric (Full)<>Bilirubin pair\n",
      "No Data for Peptamen Bariatric (Full)<>Bilirubin pair\n",
      "No Data for Peptamen Bariatric (Full)<>Calcium pair\n",
      "No Data for Peptamen Bariatric (Full)<>Calcium pair\n",
      "No Data for Peptamen Bariatric (Full)<>Calcium ionized pair\n",
      "No Data for Peptamen Bariatric (Full)<>Calcium ionized pair\n",
      "No Data for Peptamen Bariatric (Full)<>Creatinine pair\n",
      "No Data for Peptamen Bariatric (Full)<>Creatinine pair\n",
      "No Data for Peptamen Bariatric (Full)<>Hematocrit pair\n",
      "No Data for Peptamen Bariatric (Full)<>Hematocrit pair\n",
      "No Data for Peptamen Bariatric (Full)<>Hemoglobin pair\n",
      "No Data for Peptamen Bariatric (Full)<>Hemoglobin pair\n",
      "No Data for Peptamen Bariatric (Full)<>Lactic acid pair\n",
      "No Data for Peptamen Bariatric (Full)<>Lactic acid pair\n",
      "No Data for Peptamen Bariatric (Full)<>Lipase pair\n",
      "No Data for Peptamen Bariatric (Full)<>Lipase pair\n",
      "No Data for Peptamen Bariatric (Full)<>Magnesium pair\n",
      "No Data for Peptamen Bariatric (Full)<>Magnesium pair\n",
      "No Data for Peptamen Bariatric (Full)<>PTT pair\n",
      "No Data for Peptamen Bariatric (Full)<>PTT pair\n",
      "No Data for Peptamen Bariatric (Full)<>Platelets pair\n",
      "No Data for Peptamen Bariatric (Full)<>Platelets pair\n",
      "No Data for Peptamen Bariatric (Full)<>Potassium pair\n",
      "No Data for Peptamen Bariatric (Full)<>Potassium pair\n",
      "No Data for Peptamen Bariatric (Full)<>Prothrombin time INR pair\n",
      "No Data for Peptamen Bariatric (Full)<>Prothrombin time INR pair\n",
      "No Data for Peptamen Bariatric (Full)<>Red blood cell pair\n",
      "No Data for Peptamen Bariatric (Full)<>Red blood cell pair\n",
      "No Data for Peptamen Bariatric (Full)<>Uric Acid pair\n",
      "No Data for Peptamen Bariatric (Full)<>Uric Acid pair\n",
      "No Data for Peptamen Bariatric (Full)<>Vitamin B12 pair\n",
      "No Data for Peptamen Bariatric (Full)<>Vitamin B12 pair\n",
      "No Data for Peptamen VHP (Full)<>Alanine aminotransferase pair\n",
      "No Data for Peptamen VHP (Full)<>Alanine aminotransferase pair\n",
      "No Data for Peptamen VHP (Full)<>Albumin pair\n",
      "No Data for Peptamen VHP (Full)<>Albumin pair\n",
      "No Data for Peptamen VHP (Full)<>Amylase pair\n",
      "No Data for Peptamen VHP (Full)<>Amylase pair\n",
      "No Data for Peptamen VHP (Full)<>Asparate aminotransferase pair\n",
      "No Data for Peptamen VHP (Full)<>Asparate aminotransferase pair\n",
      "No Data for Peptamen VHP (Full)<>Bilirubin pair\n",
      "No Data for Peptamen VHP (Full)<>Bilirubin pair\n",
      "No Data for Peptamen VHP (Full)<>Calcium pair\n",
      "No Data for Peptamen VHP (Full)<>Calcium pair\n",
      "No Data for Peptamen VHP (Full)<>Creatinine pair\n",
      "No Data for Peptamen VHP (Full)<>Creatinine pair\n",
      "No Data for Peptamen VHP (Full)<>Glucose pair\n",
      "No Data for Peptamen VHP (Full)<>Glucose pair\n",
      "No Data for Peptamen VHP (Full)<>Hematocrit pair\n",
      "No Data for Peptamen VHP (Full)<>Hematocrit pair\n",
      "No Data for Peptamen VHP (Full)<>Hemoglobin pair\n",
      "No Data for Peptamen VHP (Full)<>Hemoglobin pair\n",
      "No Data for Peptamen VHP (Full)<>Lactic acid pair\n",
      "No Data for Peptamen VHP (Full)<>Lactic acid pair\n",
      "No Data for Peptamen VHP (Full)<>Lipase pair\n",
      "No Data for Peptamen VHP (Full)<>Lipase pair\n",
      "No Data for Peptamen VHP (Full)<>Magnesium pair\n",
      "No Data for Peptamen VHP (Full)<>Magnesium pair\n",
      "No Data for Peptamen VHP (Full)<>PTT pair\n",
      "No Data for Peptamen VHP (Full)<>PTT pair\n",
      "No Data for Peptamen VHP (Full)<>Platelets pair\n",
      "No Data for Peptamen VHP (Full)<>Platelets pair\n",
      "No Data for Peptamen VHP (Full)<>Potassium pair\n",
      "No Data for Peptamen VHP (Full)<>Potassium pair\n",
      "No Data for Peptamen VHP (Full)<>Prothrombin time INR pair\n",
      "No Data for Peptamen VHP (Full)<>Prothrombin time INR pair\n",
      "No Data for Peptamen VHP (Full)<>Red blood cell pair\n",
      "No Data for Peptamen VHP (Full)<>Red blood cell pair\n",
      "No Data for Peptamen VHP (Full)<>Sodium pair\n",
      "No Data for Peptamen VHP (Full)<>Sodium pair\n",
      "No Data for Peripheral Parenteral Nutrition<>Alanine aminotransferase pair\n",
      "No Data for Peripheral Parenteral Nutrition<>Alanine aminotransferase pair\n",
      "No Data for Peripheral Parenteral Nutrition<>Albumin pair\n",
      "No Data for Peripheral Parenteral Nutrition<>Albumin pair\n",
      "No Data for Peripheral Parenteral Nutrition<>Amylase pair\n",
      "No Data for Peripheral Parenteral Nutrition<>Amylase pair\n",
      "No Data for Peripheral Parenteral Nutrition<>Asparate aminotransferase pair\n",
      "No Data for Peripheral Parenteral Nutrition<>Asparate aminotransferase pair\n",
      "No Data for Peripheral Parenteral Nutrition<>Bilirubin pair\n",
      "No Data for Peripheral Parenteral Nutrition<>Bilirubin pair\n",
      "No Data for Peripheral Parenteral Nutrition<>Calcium pair\n",
      "No Data for Peripheral Parenteral Nutrition<>Calcium pair\n",
      "No Data for Peripheral Parenteral Nutrition<>Calcium ionized pair\n",
      "No Data for Peripheral Parenteral Nutrition<>Calcium ionized pair\n",
      "No Data for Peripheral Parenteral Nutrition<>Creatinine pair\n",
      "No Data for Peripheral Parenteral Nutrition<>Creatinine pair\n",
      "No Data for Peripheral Parenteral Nutrition<>Glucose pair\n",
      "No Data for Peripheral Parenteral Nutrition<>Glucose pair\n",
      "No Data for Peripheral Parenteral Nutrition<>Hematocrit pair\n",
      "No Data for Peripheral Parenteral Nutrition<>Hematocrit pair\n",
      "No Data for Peripheral Parenteral Nutrition<>Hemoglobin pair\n",
      "No Data for Peripheral Parenteral Nutrition<>Hemoglobin pair\n",
      "No Data for Peripheral Parenteral Nutrition<>Hemoglobin percent pair\n",
      "No Data for Peripheral Parenteral Nutrition<>Hemoglobin percent pair\n",
      "No Data for Peripheral Parenteral Nutrition<>Lactic acid pair\n",
      "No Data for Peripheral Parenteral Nutrition<>Lactic acid pair\n",
      "No Data for Peripheral Parenteral Nutrition<>Lipase pair\n",
      "No Data for Peripheral Parenteral Nutrition<>Lipase pair\n",
      "No Data for Peripheral Parenteral Nutrition<>Magnesium pair\n",
      "No Data for Peripheral Parenteral Nutrition<>Magnesium pair\n",
      "No Data for Peripheral Parenteral Nutrition<>PTT pair\n",
      "No Data for Peripheral Parenteral Nutrition<>PTT pair\n",
      "No Data for Peripheral Parenteral Nutrition<>Platelets pair\n",
      "No Data for Peripheral Parenteral Nutrition<>Platelets pair\n",
      "No Data for Peripheral Parenteral Nutrition<>Potassium pair\n",
      "No Data for Peripheral Parenteral Nutrition<>Potassium pair\n",
      "No Data for Peripheral Parenteral Nutrition<>Prothrombin time INR pair\n",
      "No Data for Peripheral Parenteral Nutrition<>Prothrombin time INR pair\n",
      "No Data for Peripheral Parenteral Nutrition<>Red blood cell pair\n",
      "No Data for Peripheral Parenteral Nutrition<>Red blood cell pair\n",
      "No Data for Peripheral Parenteral Nutrition<>Sodium pair\n",
      "No Data for Peripheral Parenteral Nutrition<>Sodium pair\n",
      "No Data for Peripheral Parenteral Nutrition<>Vitamin B12 pair\n",
      "No Data for Peripheral Parenteral Nutrition<>Vitamin B12 pair\n",
      "No Data for Phenylephrine<>Albumin pair\n",
      "No Data for Phenylephrine<>Albumin pair\n",
      "No Data for Phenylephrine<>Bilirubin pair\n",
      "No Data for Phenylephrine<>Bilirubin pair\n",
      "No Data for Phenylephrine<>Calcium pair\n",
      "No Data for Phenylephrine<>Calcium pair\n",
      "No Data for Phenylephrine<>Calcium ionized pair\n",
      "No Data for Phenylephrine<>Calcium ionized pair\n",
      "No Data for Phenylephrine<>Creatinine pair\n",
      "No Data for Phenylephrine<>Creatinine pair\n",
      "No Data for Phenylephrine<>Hemoglobin pair\n",
      "No Data for Phenylephrine<>Hemoglobin pair\n",
      "No Data for Phenylephrine<>Hemoglobin percent pair\n",
      "No Data for Phenylephrine<>Hemoglobin percent pair\n",
      "No Data for Phenylephrine<>Lactic acid pair\n",
      "No Data for Phenylephrine<>Lactic acid pair\n",
      "No Data for Phenylephrine<>Magnesium pair\n",
      "No Data for Phenylephrine<>Magnesium pair\n",
      "No Data for Phenylephrine<>Magnesium, Urine pair\n",
      "No Data for Phenylephrine<>Magnesium, Urine pair\n",
      "No Data for Phenylephrine<>Potassium pair\n",
      "No Data for Phenylephrine<>Potassium pair\n",
      "No Data for Phenylephrine<>Prothrombin time INR pair\n",
      "No Data for Phenylephrine<>Prothrombin time INR pair\n",
      "No Data for Phenylephrine<>Red blood cell pair\n",
      "No Data for Phenylephrine<>Red blood cell pair\n",
      "No Data for Phenylephrine<>Uric Acid pair\n",
      "No Data for Phenylephrine<>Uric Acid pair\n",
      "No Data for Phenylephrine<>Uric Acid, Urine pair\n",
      "No Data for Phenylephrine<>Uric Acid, Urine pair\n",
      "No Data for Phenylephrine<>Vitamin B12 pair\n",
      "No Data for Phenylephrine<>Vitamin B12 pair\n",
      "No Data for Piggyback<>Albumin pair\n",
      "No Data for Piggyback<>Albumin pair\n",
      "No Data for Piggyback<>Calcium pair\n",
      "No Data for Piggyback<>Calcium pair\n",
      "No Data for Piggyback<>Calcium ionized pair\n",
      "No Data for Piggyback<>Calcium ionized pair\n",
      "No Data for Piggyback<>Creatinine pair\n",
      "No Data for Piggyback<>Creatinine pair\n",
      "No Data for Piggyback<>Creatinine ascites pair\n",
      "No Data for Piggyback<>Creatinine ascites pair\n",
      "No Data for Piggyback<>Hemoglobin pair\n",
      "No Data for Piggyback<>Hemoglobin pair\n",
      "No Data for Piggyback<>Hemoglobin percent pair\n",
      "No Data for Piggyback<>Hemoglobin percent pair\n",
      "No Data for Piggyback<>Lactic acid pair\n",
      "No Data for Piggyback<>Lactic acid pair\n",
      "No Data for Piggyback<>Magnesium pair\n",
      "No Data for Piggyback<>Magnesium pair\n",
      "No Data for Piggyback<>Magnesium, Urine pair\n",
      "No Data for Piggyback<>Magnesium, Urine pair\n",
      "No Data for Piggyback<>Potassium pair\n",
      "No Data for Piggyback<>Potassium pair\n",
      "No Data for Piggyback<>Prolactin pair\n",
      "No Data for Piggyback<>Prolactin pair\n",
      "No Data for Piggyback<>Prothrombin time INR pair\n",
      "No Data for Piggyback<>Prothrombin time INR pair\n",
      "No Data for Piggyback<>Red blood cell pair\n",
      "No Data for Piggyback<>Red blood cell pair\n",
      "No Data for Piggyback<>Uric Acid pair\n",
      "No Data for Piggyback<>Uric Acid pair\n",
      "No Data for Piggyback<>Uric Acid, Urine pair\n",
      "No Data for Piggyback<>Uric Acid, Urine pair\n",
      "No Data for Piggyback<>Vitamin B12 pair\n",
      "No Data for Piggyback<>Vitamin B12 pair\n",
      "No Data for Piperacillin<>Albumin pair\n",
      "No Data for Piperacillin<>Albumin pair\n",
      "No Data for Piperacillin<>Bilirubin pair\n",
      "No Data for Piperacillin<>Bilirubin pair\n",
      "No Data for Piperacillin<>Calcium pair\n",
      "No Data for Piperacillin<>Calcium pair\n",
      "No Data for Piperacillin<>Calcium ionized pair\n",
      "No Data for Piperacillin<>Calcium ionized pair\n",
      "No Data for Piperacillin<>Creatinine pair\n",
      "No Data for Piperacillin<>Creatinine pair\n",
      "No Data for Piperacillin<>Creatinine ascites pair\n",
      "No Data for Piperacillin<>Creatinine ascites pair\n",
      "No Data for Piperacillin<>Hemoglobin pair\n",
      "No Data for Piperacillin<>Hemoglobin pair\n",
      "No Data for Piperacillin<>Hemoglobin percent pair\n",
      "No Data for Piperacillin<>Hemoglobin percent pair\n",
      "No Data for Piperacillin<>Lactic acid pair\n",
      "No Data for Piperacillin<>Lactic acid pair\n",
      "No Data for Piperacillin<>Magnesium pair\n",
      "No Data for Piperacillin<>Magnesium pair\n",
      "No Data for Piperacillin<>Potassium pair\n",
      "No Data for Piperacillin<>Potassium pair\n",
      "No Data for Piperacillin<>Prothrombin time INR pair\n",
      "No Data for Piperacillin<>Prothrombin time INR pair\n",
      "No Data for Piperacillin<>Red blood cell pair\n",
      "No Data for Piperacillin<>Red blood cell pair\n",
      "No Data for Piperacillin<>Uric Acid pair\n",
      "No Data for Piperacillin<>Uric Acid pair\n",
      "No Data for Piperacillin<>Uric Acid, Urine pair\n",
      "No Data for Piperacillin<>Uric Acid, Urine pair\n",
      "No Data for Piperacillin<>Vitamin B12 pair\n",
      "No Data for Piperacillin<>Vitamin B12 pair\n",
      "No Data for Piperacillin/Tazobactam (Zosyn)<>Albumin pair\n",
      "No Data for Piperacillin/Tazobactam (Zosyn)<>Albumin pair\n",
      "No Data for Piperacillin/Tazobactam (Zosyn)<>Calcium pair\n",
      "No Data for Piperacillin/Tazobactam (Zosyn)<>Calcium pair\n",
      "No Data for Piperacillin/Tazobactam (Zosyn)<>Calcium ionized pair\n",
      "No Data for Piperacillin/Tazobactam (Zosyn)<>Calcium ionized pair\n",
      "No Data for Piperacillin/Tazobactam (Zosyn)<>Creatinine pair\n",
      "No Data for Piperacillin/Tazobactam (Zosyn)<>Creatinine pair\n",
      "No Data for Piperacillin/Tazobactam (Zosyn)<>Creatinine ascites pair\n",
      "No Data for Piperacillin/Tazobactam (Zosyn)<>Creatinine ascites pair\n",
      "No Data for Piperacillin/Tazobactam (Zosyn)<>Hemoglobin pair\n",
      "No Data for Piperacillin/Tazobactam (Zosyn)<>Hemoglobin pair\n",
      "No Data for Piperacillin/Tazobactam (Zosyn)<>Hemoglobin percent pair\n",
      "No Data for Piperacillin/Tazobactam (Zosyn)<>Hemoglobin percent pair\n",
      "No Data for Piperacillin/Tazobactam (Zosyn)<>Lactic acid pair\n",
      "No Data for Piperacillin/Tazobactam (Zosyn)<>Lactic acid pair\n",
      "No Data for Piperacillin/Tazobactam (Zosyn)<>Magnesium pair\n",
      "No Data for Piperacillin/Tazobactam (Zosyn)<>Magnesium pair\n",
      "No Data for Piperacillin/Tazobactam (Zosyn)<>Magnesium, Urine pair\n",
      "No Data for Piperacillin/Tazobactam (Zosyn)<>Magnesium, Urine pair\n",
      "No Data for Piperacillin/Tazobactam (Zosyn)<>Potassium pair\n",
      "No Data for Piperacillin/Tazobactam (Zosyn)<>Potassium pair\n",
      "No Data for Piperacillin/Tazobactam (Zosyn)<>Prothrombin time INR pair\n",
      "No Data for Piperacillin/Tazobactam (Zosyn)<>Prothrombin time INR pair\n",
      "No Data for Piperacillin/Tazobactam (Zosyn)<>Red blood cell pair\n",
      "No Data for Piperacillin/Tazobactam (Zosyn)<>Red blood cell pair\n",
      "No Data for Piperacillin/Tazobactam (Zosyn)<>Uric Acid pair\n",
      "No Data for Piperacillin/Tazobactam (Zosyn)<>Uric Acid pair\n",
      "No Data for Piperacillin/Tazobactam (Zosyn)<>Uric Acid, Urine pair\n",
      "No Data for Piperacillin/Tazobactam (Zosyn)<>Uric Acid, Urine pair\n",
      "No Data for Piperacillin/Tazobactam (Zosyn)<>Vitamin B12 pair\n",
      "No Data for Piperacillin/Tazobactam (Zosyn)<>Vitamin B12 pair\n",
      "No Data for Plasma Pheresis<>Alanine aminotransferase pair\n",
      "No Data for Plasma Pheresis<>Alanine aminotransferase pair\n",
      "No Data for Plasma Pheresis<>Albumin pair\n",
      "No Data for Plasma Pheresis<>Albumin pair\n",
      "No Data for Plasma Pheresis<>Amylase pair\n",
      "No Data for Plasma Pheresis<>Amylase pair\n",
      "No Data for Plasma Pheresis<>Asparate aminotransferase pair\n",
      "No Data for Plasma Pheresis<>Asparate aminotransferase pair\n",
      "No Data for Plasma Pheresis<>Bilirubin pair\n",
      "No Data for Plasma Pheresis<>Bilirubin pair\n",
      "No Data for Plasma Pheresis<>Calcium pair\n",
      "No Data for Plasma Pheresis<>Calcium pair\n",
      "No Data for Plasma Pheresis<>Calcium ionized pair\n",
      "No Data for Plasma Pheresis<>Calcium ionized pair\n",
      "No Data for Plasma Pheresis<>Creatinine pair\n",
      "No Data for Plasma Pheresis<>Creatinine pair\n",
      "No Data for Plasma Pheresis<>Hematocrit pair\n",
      "No Data for Plasma Pheresis<>Hematocrit pair\n",
      "No Data for Plasma Pheresis<>Hemoglobin pair\n",
      "No Data for Plasma Pheresis<>Hemoglobin pair\n",
      "No Data for Plasma Pheresis<>Lactic acid pair\n",
      "No Data for Plasma Pheresis<>Lactic acid pair\n",
      "No Data for Plasma Pheresis<>Lipase pair\n",
      "No Data for Plasma Pheresis<>Lipase pair\n",
      "No Data for Plasma Pheresis<>Magnesium pair\n",
      "No Data for Plasma Pheresis<>Magnesium pair\n",
      "No Data for Plasma Pheresis<>PTT pair\n",
      "No Data for Plasma Pheresis<>PTT pair\n",
      "No Data for Plasma Pheresis<>Platelets pair\n",
      "No Data for Plasma Pheresis<>Platelets pair\n",
      "No Data for Plasma Pheresis<>Potassium pair\n",
      "No Data for Plasma Pheresis<>Potassium pair\n",
      "No Data for Plasma Pheresis<>Prothrombin time INR pair\n",
      "No Data for Plasma Pheresis<>Prothrombin time INR pair\n",
      "No Data for Plasma Pheresis<>Red blood cell pair\n",
      "No Data for Plasma Pheresis<>Red blood cell pair\n",
      "No Data for Plasma Pheresis<>Sodium pair\n",
      "No Data for Plasma Pheresis<>Sodium pair\n",
      "No Data for Platelets<>Albumin pair\n",
      "No Data for Platelets<>Albumin pair\n",
      "No Data for Platelets<>Calcium pair\n",
      "No Data for Platelets<>Calcium pair\n",
      "No Data for Platelets<>Calcium ionized pair\n",
      "No Data for Platelets<>Calcium ionized pair\n",
      "No Data for Platelets<>Creatinine pair\n",
      "No Data for Platelets<>Creatinine pair\n",
      "No Data for Platelets<>Creatinine ascites pair\n",
      "No Data for Platelets<>Creatinine ascites pair\n",
      "No Data for Platelets<>Hemoglobin pair\n",
      "No Data for Platelets<>Hemoglobin pair\n",
      "No Data for Platelets<>Hemoglobin percent pair\n",
      "No Data for Platelets<>Hemoglobin percent pair\n",
      "No Data for Platelets<>Lactic acid pair\n",
      "No Data for Platelets<>Lactic acid pair\n",
      "No Data for Platelets<>Magnesium pair\n",
      "No Data for Platelets<>Magnesium pair\n",
      "No Data for Platelets<>Potassium pair\n",
      "No Data for Platelets<>Potassium pair\n",
      "No Data for Platelets<>Prothrombin time INR pair\n",
      "No Data for Platelets<>Prothrombin time INR pair\n",
      "No Data for Platelets<>Red blood cell pair\n",
      "No Data for Platelets<>Red blood cell pair\n",
      "No Data for Platelets<>Uric Acid pair\n",
      "No Data for Platelets<>Uric Acid pair\n",
      "No Data for Platelets<>Vitamin B12 pair\n",
      "No Data for Platelets<>Vitamin B12 pair\n",
      "No Data for Potassium Chloride<>Albumin pair\n",
      "No Data for Potassium Chloride<>Albumin pair\n",
      "No Data for Potassium Chloride<>Bilirubin pair\n",
      "No Data for Potassium Chloride<>Bilirubin pair\n",
      "No Data for Potassium Chloride<>Calcium pair\n",
      "No Data for Potassium Chloride<>Calcium pair\n",
      "No Data for Potassium Chloride<>Calcium ionized pair\n",
      "No Data for Potassium Chloride<>Calcium ionized pair\n",
      "No Data for Potassium Chloride<>Creatinine pair\n",
      "No Data for Potassium Chloride<>Creatinine pair\n",
      "No Data for Potassium Chloride<>Creatinine ascites pair\n",
      "No Data for Potassium Chloride<>Creatinine ascites pair\n",
      "No Data for Potassium Chloride<>Hemoglobin pair\n",
      "No Data for Potassium Chloride<>Hemoglobin pair\n",
      "No Data for Potassium Chloride<>Hemoglobin percent pair\n",
      "No Data for Potassium Chloride<>Hemoglobin percent pair\n",
      "No Data for Potassium Chloride<>Lactic acid pair\n",
      "No Data for Potassium Chloride<>Lactic acid pair\n",
      "No Data for Potassium Chloride<>Magnesium pair\n",
      "No Data for Potassium Chloride<>Magnesium pair\n",
      "No Data for Potassium Chloride<>Magnesium, Urine pair\n",
      "No Data for Potassium Chloride<>Magnesium, Urine pair\n",
      "No Data for Potassium Chloride<>Potassium pair\n",
      "No Data for Potassium Chloride<>Potassium pair\n",
      "No Data for Potassium Chloride<>Prolactin pair\n",
      "No Data for Potassium Chloride<>Prolactin pair\n",
      "No Data for Potassium Chloride<>Prothrombin time INR pair\n",
      "No Data for Potassium Chloride<>Prothrombin time INR pair\n",
      "No Data for Potassium Chloride<>Red blood cell pair\n",
      "No Data for Potassium Chloride<>Red blood cell pair\n",
      "No Data for Potassium Chloride<>Uric Acid pair\n",
      "No Data for Potassium Chloride<>Uric Acid pair\n",
      "No Data for Potassium Chloride<>Uric Acid, Urine pair\n",
      "No Data for Potassium Chloride<>Uric Acid, Urine pair\n",
      "No Data for Potassium Chloride<>Vitamin B12 pair\n",
      "No Data for Potassium Chloride<>Vitamin B12 pair\n",
      "No Data for Pre-Admission Intake<>Albumin pair\n",
      "No Data for Pre-Admission Intake<>Albumin pair\n",
      "No Data for Pre-Admission Intake<>Calcium pair\n",
      "No Data for Pre-Admission Intake<>Calcium pair\n",
      "No Data for Pre-Admission Intake<>Calcium ionized pair\n",
      "No Data for Pre-Admission Intake<>Calcium ionized pair\n",
      "No Data for Pre-Admission Intake<>Creatinine pair\n",
      "No Data for Pre-Admission Intake<>Creatinine pair\n",
      "No Data for Pre-Admission Intake<>Creatinine ascites pair\n",
      "No Data for Pre-Admission Intake<>Creatinine ascites pair\n",
      "No Data for Pre-Admission Intake<>Hemoglobin pair\n",
      "No Data for Pre-Admission Intake<>Hemoglobin pair\n",
      "No Data for Pre-Admission Intake<>Hemoglobin A2 pair\n",
      "No Data for Pre-Admission Intake<>Hemoglobin A2 pair\n",
      "No Data for Pre-Admission Intake<>Hemoglobin C pair\n",
      "No Data for Pre-Admission Intake<>Hemoglobin C pair\n",
      "No Data for Pre-Admission Intake<>Hemoglobin F pair\n",
      "No Data for Pre-Admission Intake<>Hemoglobin F pair\n",
      "No Data for Pre-Admission Intake<>Hemoglobin percent pair\n",
      "No Data for Pre-Admission Intake<>Hemoglobin percent pair\n",
      "No Data for Pre-Admission Intake<>Lactic acid pair\n",
      "No Data for Pre-Admission Intake<>Lactic acid pair\n",
      "No Data for Pre-Admission Intake<>Magnesium pair\n",
      "No Data for Pre-Admission Intake<>Magnesium pair\n",
      "No Data for Pre-Admission Intake<>Magnesium, Urine pair\n",
      "No Data for Pre-Admission Intake<>Magnesium, Urine pair\n",
      "No Data for Pre-Admission Intake<>Potassium pair\n",
      "No Data for Pre-Admission Intake<>Potassium pair\n",
      "No Data for Pre-Admission Intake<>Prolactin pair\n",
      "No Data for Pre-Admission Intake<>Prolactin pair\n",
      "No Data for Pre-Admission Intake<>Prothrombin time INR pair\n",
      "No Data for Pre-Admission Intake<>Prothrombin time INR pair\n",
      "No Data for Pre-Admission Intake<>Red blood cell pair\n",
      "No Data for Pre-Admission Intake<>Red blood cell pair\n",
      "No Data for Pre-Admission Intake<>Uric Acid pair\n",
      "No Data for Pre-Admission Intake<>Uric Acid pair\n",
      "No Data for Pre-Admission Intake<>Uric Acid, Urine pair\n",
      "No Data for Pre-Admission Intake<>Uric Acid, Urine pair\n",
      "No Data for Pre-Admission Intake<>Vitamin B12 pair\n",
      "No Data for Pre-Admission Intake<>Vitamin B12 pair\n",
      "No Data for ProBalance (Full)<>Calcium pair\n",
      "No Data for ProBalance (Full)<>Calcium pair\n",
      "No Data for ProBalance (Full)<>Calcium ionized pair\n",
      "No Data for ProBalance (Full)<>Calcium ionized pair\n",
      "No Data for ProBalance (Full)<>Creatinine pair\n",
      "No Data for ProBalance (Full)<>Creatinine pair\n",
      "No Data for ProBalance (Full)<>Hematocrit pair\n",
      "No Data for ProBalance (Full)<>Hematocrit pair\n",
      "No Data for ProBalance (Full)<>Hemoglobin pair\n",
      "No Data for ProBalance (Full)<>Hemoglobin pair\n",
      "No Data for ProBalance (Full)<>Lactic acid pair\n",
      "No Data for ProBalance (Full)<>Lactic acid pair\n",
      "No Data for ProBalance (Full)<>Magnesium pair\n",
      "No Data for ProBalance (Full)<>Magnesium pair\n",
      "No Data for ProBalance (Full)<>PTT pair\n",
      "No Data for ProBalance (Full)<>PTT pair\n",
      "No Data for ProBalance (Full)<>Platelets pair\n",
      "No Data for ProBalance (Full)<>Platelets pair\n",
      "No Data for ProBalance (Full)<>Potassium pair\n",
      "No Data for ProBalance (Full)<>Potassium pair\n",
      "No Data for ProBalance (Full)<>Prothrombin time INR pair\n",
      "No Data for ProBalance (Full)<>Prothrombin time INR pair\n",
      "No Data for ProBalance (Full)<>Red blood cell pair\n",
      "No Data for ProBalance (Full)<>Red blood cell pair\n",
      "No Data for ProBalance (Full)<>Sodium pair\n",
      "No Data for ProBalance (Full)<>Sodium pair\n",
      "No Data for Procainamide<>Alanine aminotransferase pair\n",
      "No Data for Procainamide<>Alanine aminotransferase pair\n",
      "No Data for Procainamide<>Albumin pair\n",
      "No Data for Procainamide<>Albumin pair\n",
      "No Data for Procainamide<>Amylase pair\n",
      "No Data for Procainamide<>Amylase pair\n",
      "No Data for Procainamide<>Asparate aminotransferase pair\n",
      "No Data for Procainamide<>Asparate aminotransferase pair\n",
      "No Data for Procainamide<>Bilirubin pair\n",
      "No Data for Procainamide<>Bilirubin pair\n",
      "No Data for Procainamide<>Calcium pair\n",
      "No Data for Procainamide<>Calcium pair\n",
      "No Data for Procainamide<>Calcium ionized pair\n",
      "No Data for Procainamide<>Calcium ionized pair\n",
      "No Data for Procainamide<>Creatinine pair\n",
      "No Data for Procainamide<>Creatinine pair\n",
      "No Data for Procainamide<>Glucose pair\n",
      "No Data for Procainamide<>Glucose pair\n",
      "No Data for Procainamide<>Hematocrit pair\n",
      "No Data for Procainamide<>Hematocrit pair\n",
      "No Data for Procainamide<>Hemoglobin pair\n",
      "No Data for Procainamide<>Hemoglobin pair\n",
      "No Data for Procainamide<>Lactic acid pair\n",
      "No Data for Procainamide<>Lactic acid pair\n",
      "No Data for Procainamide<>Magnesium pair\n",
      "No Data for Procainamide<>Magnesium pair\n",
      "No Data for Procainamide<>PTT pair\n",
      "No Data for Procainamide<>PTT pair\n",
      "No Data for Procainamide<>Platelets pair\n",
      "No Data for Procainamide<>Platelets pair\n",
      "No Data for Procainamide<>Potassium pair\n",
      "No Data for Procainamide<>Potassium pair\n",
      "No Data for Procainamide<>Prothrombin time INR pair\n",
      "No Data for Procainamide<>Prothrombin time INR pair\n",
      "No Data for Procainamide<>Red blood cell pair\n",
      "No Data for Procainamide<>Red blood cell pair\n",
      "No Data for Procainamide<>Sodium pair\n",
      "No Data for Procainamide<>Sodium pair\n",
      "No Data for Profilnine<>Albumin pair\n",
      "No Data for Profilnine<>Albumin pair\n",
      "No Data for Profilnine<>Calcium pair\n",
      "No Data for Profilnine<>Calcium pair\n",
      "No Data for Profilnine<>Calcium ionized pair\n",
      "No Data for Profilnine<>Calcium ionized pair\n",
      "No Data for Profilnine<>Creatinine pair\n",
      "No Data for Profilnine<>Creatinine pair\n",
      "No Data for Profilnine<>Glucose pair\n",
      "No Data for Profilnine<>Glucose pair\n",
      "No Data for Profilnine<>Hematocrit pair\n",
      "No Data for Profilnine<>Hematocrit pair\n",
      "No Data for Profilnine<>Hemoglobin pair\n",
      "No Data for Profilnine<>Hemoglobin pair\n",
      "No Data for Profilnine<>Lactic acid pair\n",
      "No Data for Profilnine<>Lactic acid pair\n",
      "No Data for Profilnine<>Magnesium pair\n",
      "No Data for Profilnine<>Magnesium pair\n",
      "No Data for Profilnine<>PTT pair\n",
      "No Data for Profilnine<>PTT pair\n",
      "No Data for Profilnine<>Platelets pair\n",
      "No Data for Profilnine<>Platelets pair\n",
      "No Data for Profilnine<>Potassium pair\n",
      "No Data for Profilnine<>Potassium pair\n",
      "No Data for Profilnine<>Prothrombin time INR pair\n",
      "No Data for Profilnine<>Prothrombin time INR pair\n",
      "No Data for Profilnine<>Red blood cell pair\n",
      "No Data for Profilnine<>Red blood cell pair\n",
      "No Data for Profilnine<>Sodium pair\n",
      "No Data for Profilnine<>Sodium pair\n",
      "No Data for Propofol<>Albumin pair\n",
      "No Data for Propofol<>Albumin pair\n",
      "No Data for Propofol<>Bilirubin pair\n",
      "No Data for Propofol<>Bilirubin pair\n",
      "No Data for Propofol<>Calcium pair\n",
      "No Data for Propofol<>Calcium pair\n",
      "No Data for Propofol<>Calcium ionized pair\n",
      "No Data for Propofol<>Calcium ionized pair\n",
      "No Data for Propofol<>Creatinine pair\n",
      "No Data for Propofol<>Creatinine pair\n",
      "No Data for Propofol<>Hemoglobin pair\n",
      "No Data for Propofol<>Hemoglobin pair\n",
      "No Data for Propofol<>Hemoglobin A2 pair\n",
      "No Data for Propofol<>Hemoglobin A2 pair\n",
      "No Data for Propofol<>Hemoglobin C pair\n",
      "No Data for Propofol<>Hemoglobin C pair\n",
      "No Data for Propofol<>Hemoglobin F pair\n",
      "No Data for Propofol<>Hemoglobin F pair\n",
      "No Data for Propofol<>Hemoglobin percent pair\n",
      "No Data for Propofol<>Hemoglobin percent pair\n",
      "No Data for Propofol<>Lactic acid pair\n",
      "No Data for Propofol<>Lactic acid pair\n",
      "No Data for Propofol<>Magnesium pair\n",
      "No Data for Propofol<>Magnesium pair\n",
      "No Data for Propofol<>Magnesium, Urine pair\n",
      "No Data for Propofol<>Magnesium, Urine pair\n",
      "No Data for Propofol<>Potassium pair\n",
      "No Data for Propofol<>Potassium pair\n",
      "No Data for Propofol<>Prolactin pair\n",
      "No Data for Propofol<>Prolactin pair\n",
      "No Data for Propofol<>Prothrombin time INR pair\n",
      "No Data for Propofol<>Prothrombin time INR pair\n",
      "No Data for Propofol<>Red blood cell pair\n",
      "No Data for Propofol<>Red blood cell pair\n",
      "No Data for Propofol<>Uric Acid pair\n",
      "No Data for Propofol<>Uric Acid pair\n",
      "No Data for Propofol<>Vitamin B12 pair\n",
      "No Data for Propofol<>Vitamin B12 pair\n",
      "No Data for Pulmocare (Full)<>Alanine aminotransferase pair\n",
      "No Data for Pulmocare (Full)<>Alanine aminotransferase pair\n",
      "No Data for Pulmocare (Full)<>Albumin pair\n",
      "No Data for Pulmocare (Full)<>Albumin pair\n",
      "No Data for Pulmocare (Full)<>Amylase pair\n",
      "No Data for Pulmocare (Full)<>Amylase pair\n",
      "No Data for Pulmocare (Full)<>Asparate aminotransferase pair\n",
      "No Data for Pulmocare (Full)<>Asparate aminotransferase pair\n",
      "No Data for Pulmocare (Full)<>Bilirubin pair\n",
      "No Data for Pulmocare (Full)<>Bilirubin pair\n",
      "No Data for Pulmocare (Full)<>Calcium pair\n",
      "No Data for Pulmocare (Full)<>Calcium pair\n",
      "No Data for Pulmocare (Full)<>Calcium ionized pair\n",
      "No Data for Pulmocare (Full)<>Calcium ionized pair\n",
      "No Data for Pulmocare (Full)<>Creatinine pair\n",
      "No Data for Pulmocare (Full)<>Creatinine pair\n",
      "No Data for Pulmocare (Full)<>Glucose pair\n",
      "No Data for Pulmocare (Full)<>Glucose pair\n",
      "No Data for Pulmocare (Full)<>Hematocrit pair\n",
      "No Data for Pulmocare (Full)<>Hematocrit pair\n",
      "No Data for Pulmocare (Full)<>Hemoglobin pair\n",
      "No Data for Pulmocare (Full)<>Hemoglobin pair\n",
      "No Data for Pulmocare (Full)<>Lactic acid pair\n",
      "No Data for Pulmocare (Full)<>Lactic acid pair\n",
      "No Data for Pulmocare (Full)<>Lipase pair\n",
      "No Data for Pulmocare (Full)<>Lipase pair\n",
      "No Data for Pulmocare (Full)<>Magnesium pair\n",
      "No Data for Pulmocare (Full)<>Magnesium pair\n",
      "No Data for Pulmocare (Full)<>PTT pair\n",
      "No Data for Pulmocare (Full)<>PTT pair\n",
      "No Data for Pulmocare (Full)<>Platelets pair\n",
      "No Data for Pulmocare (Full)<>Platelets pair\n",
      "No Data for Pulmocare (Full)<>Potassium pair\n",
      "No Data for Pulmocare (Full)<>Potassium pair\n",
      "No Data for Pulmocare (Full)<>Prothrombin time INR pair\n",
      "No Data for Pulmocare (Full)<>Prothrombin time INR pair\n",
      "No Data for Pulmocare (Full)<>Red blood cell pair\n",
      "No Data for Pulmocare (Full)<>Red blood cell pair\n",
      "No Data for Pulmocare (Full)<>Sodium pair\n",
      "No Data for Pulmocare (Full)<>Sodium pair\n",
      "No Data for Ranitidine<>Bilirubin pair\n",
      "No Data for Ranitidine<>Bilirubin pair\n",
      "No Data for Ranitidine<>Calcium pair\n",
      "No Data for Ranitidine<>Calcium pair\n",
      "No Data for Ranitidine<>Calcium ionized pair\n",
      "No Data for Ranitidine<>Calcium ionized pair\n",
      "No Data for Ranitidine<>Creatinine pair\n",
      "No Data for Ranitidine<>Creatinine pair\n",
      "No Data for Ranitidine<>Glucose pair\n",
      "No Data for Ranitidine<>Glucose pair\n",
      "No Data for Ranitidine<>Magnesium pair\n",
      "No Data for Ranitidine<>Magnesium pair\n",
      "No Data for Ranitidine<>PTT pair\n",
      "No Data for Ranitidine<>PTT pair\n",
      "No Data for Ranitidine<>Platelets pair\n",
      "No Data for Ranitidine<>Platelets pair\n",
      "No Data for Ranitidine<>Potassium pair\n",
      "No Data for Ranitidine<>Potassium pair\n",
      "No Data for Ranitidine<>Prothrombin time INR pair\n",
      "No Data for Ranitidine<>Prothrombin time INR pair\n",
      "No Data for Ranitidine<>Sodium pair\n",
      "No Data for Ranitidine<>Sodium pair\n",
      "No Data for Ranitidine (Prophylaxis)<>Albumin pair\n",
      "No Data for Ranitidine (Prophylaxis)<>Albumin pair\n",
      "No Data for Ranitidine (Prophylaxis)<>Amylase pair\n",
      "No Data for Ranitidine (Prophylaxis)<>Amylase pair\n",
      "No Data for Ranitidine (Prophylaxis)<>Bilirubin pair\n",
      "No Data for Ranitidine (Prophylaxis)<>Bilirubin pair\n",
      "No Data for Ranitidine (Prophylaxis)<>Calcium pair\n",
      "No Data for Ranitidine (Prophylaxis)<>Calcium pair\n",
      "No Data for Ranitidine (Prophylaxis)<>Calcium ionized pair\n",
      "No Data for Ranitidine (Prophylaxis)<>Calcium ionized pair\n",
      "No Data for Ranitidine (Prophylaxis)<>Creatinine pair\n",
      "No Data for Ranitidine (Prophylaxis)<>Creatinine pair\n",
      "No Data for Ranitidine (Prophylaxis)<>Hemoglobin pair\n",
      "No Data for Ranitidine (Prophylaxis)<>Hemoglobin pair\n",
      "No Data for Ranitidine (Prophylaxis)<>Hemoglobin percent pair\n",
      "No Data for Ranitidine (Prophylaxis)<>Hemoglobin percent pair\n",
      "No Data for Ranitidine (Prophylaxis)<>Lactic acid pair\n",
      "No Data for Ranitidine (Prophylaxis)<>Lactic acid pair\n",
      "No Data for Ranitidine (Prophylaxis)<>Lipase pair\n",
      "No Data for Ranitidine (Prophylaxis)<>Lipase pair\n",
      "No Data for Ranitidine (Prophylaxis)<>Magnesium pair\n",
      "No Data for Ranitidine (Prophylaxis)<>Magnesium pair\n",
      "No Data for Ranitidine (Prophylaxis)<>Potassium pair\n",
      "No Data for Ranitidine (Prophylaxis)<>Potassium pair\n",
      "No Data for Ranitidine (Prophylaxis)<>Prothrombin time INR pair\n",
      "No Data for Ranitidine (Prophylaxis)<>Prothrombin time INR pair\n",
      "No Data for Ranitidine (Prophylaxis)<>Red blood cell pair\n",
      "No Data for Ranitidine (Prophylaxis)<>Red blood cell pair\n",
      "No Data for Ranitidine (Prophylaxis)<>Uric Acid pair\n",
      "No Data for Ranitidine (Prophylaxis)<>Uric Acid pair\n",
      "No Data for Ranitidine (Prophylaxis)<>Vitamin B12 pair\n",
      "No Data for Ranitidine (Prophylaxis)<>Vitamin B12 pair\n",
      "No Data for Replete (1/2)<>Albumin pair\n",
      "No Data for Replete (1/2)<>Albumin pair\n",
      "No Data for Replete (1/2)<>Calcium pair\n",
      "No Data for Replete (1/2)<>Calcium pair\n",
      "No Data for Replete (1/2)<>Calcium ionized pair\n",
      "No Data for Replete (1/2)<>Calcium ionized pair\n",
      "No Data for Replete (1/2)<>Creatinine pair\n",
      "No Data for Replete (1/2)<>Creatinine pair\n",
      "No Data for Replete (1/2)<>Glucose pair\n",
      "No Data for Replete (1/2)<>Glucose pair\n",
      "No Data for Replete (1/2)<>Hematocrit pair\n",
      "No Data for Replete (1/2)<>Hematocrit pair\n",
      "No Data for Replete (1/2)<>Hemoglobin pair\n",
      "No Data for Replete (1/2)<>Hemoglobin pair\n",
      "No Data for Replete (1/2)<>Lactic acid pair\n",
      "No Data for Replete (1/2)<>Lactic acid pair\n",
      "No Data for Replete (1/2)<>Magnesium pair\n",
      "No Data for Replete (1/2)<>Magnesium pair\n",
      "No Data for Replete (1/2)<>PTT pair\n",
      "No Data for Replete (1/2)<>PTT pair\n",
      "No Data for Replete (1/2)<>Platelets pair\n",
      "No Data for Replete (1/2)<>Platelets pair\n",
      "No Data for Replete (1/2)<>Potassium pair\n",
      "No Data for Replete (1/2)<>Potassium pair\n",
      "No Data for Replete (1/2)<>Prothrombin time INR pair\n",
      "No Data for Replete (1/2)<>Prothrombin time INR pair\n",
      "No Data for Replete (1/2)<>Red blood cell pair\n",
      "No Data for Replete (1/2)<>Red blood cell pair\n",
      "No Data for Replete (1/2)<>Sodium pair\n",
      "No Data for Replete (1/2)<>Sodium pair\n",
      "No Data for Replete (1/4)<>Alanine aminotransferase pair\n",
      "No Data for Replete (1/4)<>Alanine aminotransferase pair\n",
      "No Data for Replete (1/4)<>Asparate aminotransferase pair\n",
      "No Data for Replete (1/4)<>Asparate aminotransferase pair\n",
      "No Data for Replete (1/4)<>Bilirubin pair\n",
      "No Data for Replete (1/4)<>Bilirubin pair\n",
      "No Data for Replete (1/4)<>Calcium pair\n",
      "No Data for Replete (1/4)<>Calcium pair\n",
      "No Data for Replete (1/4)<>Creatinine pair\n",
      "No Data for Replete (1/4)<>Creatinine pair\n",
      "No Data for Replete (1/4)<>Glucose pair\n",
      "No Data for Replete (1/4)<>Glucose pair\n",
      "No Data for Replete (1/4)<>Hematocrit pair\n",
      "No Data for Replete (1/4)<>Hematocrit pair\n",
      "No Data for Replete (1/4)<>Hemoglobin pair\n",
      "No Data for Replete (1/4)<>Hemoglobin pair\n",
      "No Data for Replete (1/4)<>Lipase pair\n",
      "No Data for Replete (1/4)<>Lipase pair\n",
      "No Data for Replete (1/4)<>Magnesium pair\n",
      "No Data for Replete (1/4)<>Magnesium pair\n",
      "No Data for Replete (1/4)<>Platelets pair\n",
      "No Data for Replete (1/4)<>Platelets pair\n",
      "No Data for Replete (1/4)<>Potassium pair\n",
      "No Data for Replete (1/4)<>Potassium pair\n",
      "No Data for Replete (1/4)<>Red blood cell pair\n",
      "No Data for Replete (1/4)<>Red blood cell pair\n",
      "No Data for Replete (1/4)<>Sodium pair\n",
      "No Data for Replete (1/4)<>Sodium pair\n",
      "No Data for Replete (2/3)<>Calcium pair\n",
      "No Data for Replete (2/3)<>Calcium pair\n",
      "No Data for Replete (2/3)<>Creatinine pair\n",
      "No Data for Replete (2/3)<>Creatinine pair\n",
      "No Data for Replete (2/3)<>Glucose pair\n",
      "No Data for Replete (2/3)<>Glucose pair\n",
      "No Data for Replete (2/3)<>Hematocrit pair\n",
      "No Data for Replete (2/3)<>Hematocrit pair\n",
      "No Data for Replete (2/3)<>Hemoglobin pair\n",
      "No Data for Replete (2/3)<>Hemoglobin pair\n",
      "No Data for Replete (2/3)<>Magnesium pair\n",
      "No Data for Replete (2/3)<>Magnesium pair\n",
      "No Data for Replete (2/3)<>Platelets pair\n",
      "No Data for Replete (2/3)<>Platelets pair\n",
      "No Data for Replete (2/3)<>Potassium pair\n",
      "No Data for Replete (2/3)<>Potassium pair\n",
      "No Data for Replete (2/3)<>Red blood cell pair\n",
      "No Data for Replete (2/3)<>Red blood cell pair\n",
      "No Data for Replete (2/3)<>Sodium pair\n",
      "No Data for Replete (2/3)<>Sodium pair\n",
      "No Data for Replete (3/4)<>Alanine aminotransferase pair\n",
      "No Data for Replete (3/4)<>Alanine aminotransferase pair\n",
      "No Data for Replete (3/4)<>Albumin pair\n",
      "No Data for Replete (3/4)<>Albumin pair\n",
      "No Data for Replete (3/4)<>Amylase pair\n",
      "No Data for Replete (3/4)<>Amylase pair\n",
      "No Data for Replete (3/4)<>Asparate aminotransferase pair\n",
      "No Data for Replete (3/4)<>Asparate aminotransferase pair\n",
      "No Data for Replete (3/4)<>Bilirubin pair\n",
      "No Data for Replete (3/4)<>Bilirubin pair\n",
      "No Data for Replete (3/4)<>Calcium pair\n",
      "No Data for Replete (3/4)<>Calcium pair\n",
      "No Data for Replete (3/4)<>Calcium ionized pair\n",
      "No Data for Replete (3/4)<>Calcium ionized pair\n",
      "No Data for Replete (3/4)<>Creatinine pair\n",
      "No Data for Replete (3/4)<>Creatinine pair\n",
      "No Data for Replete (3/4)<>Glucose pair\n",
      "No Data for Replete (3/4)<>Glucose pair\n",
      "No Data for Replete (3/4)<>Hematocrit pair\n",
      "No Data for Replete (3/4)<>Hematocrit pair\n",
      "No Data for Replete (3/4)<>Hemoglobin pair\n",
      "No Data for Replete (3/4)<>Hemoglobin pair\n",
      "No Data for Replete (3/4)<>Lactic acid pair\n",
      "No Data for Replete (3/4)<>Lactic acid pair\n",
      "No Data for Replete (3/4)<>Lipase pair\n",
      "No Data for Replete (3/4)<>Lipase pair\n",
      "No Data for Replete (3/4)<>Magnesium pair\n",
      "No Data for Replete (3/4)<>Magnesium pair\n",
      "No Data for Replete (3/4)<>PTT pair\n",
      "No Data for Replete (3/4)<>PTT pair\n",
      "No Data for Replete (3/4)<>Platelets pair\n",
      "No Data for Replete (3/4)<>Platelets pair\n",
      "No Data for Replete (3/4)<>Potassium pair\n",
      "No Data for Replete (3/4)<>Potassium pair\n",
      "No Data for Replete (3/4)<>Prothrombin time INR pair\n",
      "No Data for Replete (3/4)<>Prothrombin time INR pair\n",
      "No Data for Replete (3/4)<>Red blood cell pair\n",
      "No Data for Replete (3/4)<>Red blood cell pair\n",
      "No Data for Replete (3/4)<>Sodium pair\n",
      "No Data for Replete (3/4)<>Sodium pair\n",
      "No Data for Replete (Full)<>Alanine aminotransferase pair\n",
      "No Data for Replete (Full)<>Alanine aminotransferase pair\n",
      "No Data for Replete (Full)<>Albumin pair\n",
      "No Data for Replete (Full)<>Albumin pair\n",
      "No Data for Replete (Full)<>Amylase pair\n",
      "No Data for Replete (Full)<>Amylase pair\n",
      "No Data for Replete (Full)<>Asparate aminotransferase pair\n",
      "No Data for Replete (Full)<>Asparate aminotransferase pair\n",
      "No Data for Replete (Full)<>Bilirubin pair\n",
      "No Data for Replete (Full)<>Bilirubin pair\n",
      "No Data for Replete (Full)<>Calcium pair\n",
      "No Data for Replete (Full)<>Calcium pair\n",
      "No Data for Replete (Full)<>Calcium ionized pair\n",
      "No Data for Replete (Full)<>Calcium ionized pair\n",
      "No Data for Replete (Full)<>Creatinine pair\n",
      "No Data for Replete (Full)<>Creatinine pair\n",
      "No Data for Replete (Full)<>Hemoglobin pair\n",
      "No Data for Replete (Full)<>Hemoglobin pair\n",
      "No Data for Replete (Full)<>Lactic acid pair\n",
      "No Data for Replete (Full)<>Lactic acid pair\n",
      "No Data for Replete (Full)<>Lipase pair\n",
      "No Data for Replete (Full)<>Lipase pair\n",
      "No Data for Replete (Full)<>Magnesium pair\n",
      "No Data for Replete (Full)<>Magnesium pair\n",
      "No Data for Replete (Full)<>Magnesium, Urine pair\n",
      "No Data for Replete (Full)<>Magnesium, Urine pair\n",
      "No Data for Replete (Full)<>PTT pair\n",
      "No Data for Replete (Full)<>PTT pair\n",
      "No Data for Replete (Full)<>Potassium pair\n",
      "No Data for Replete (Full)<>Potassium pair\n",
      "No Data for Replete (Full)<>Prothrombin time INR pair\n",
      "No Data for Replete (Full)<>Prothrombin time INR pair\n",
      "No Data for Replete (Full)<>Red blood cell pair\n",
      "No Data for Replete (Full)<>Red blood cell pair\n",
      "No Data for Replete (Full)<>Uric Acid pair\n",
      "No Data for Replete (Full)<>Uric Acid pair\n",
      "No Data for Replete with Fiber (1/2)<>Alanine aminotransferase pair\n",
      "No Data for Replete with Fiber (1/2)<>Alanine aminotransferase pair\n",
      "No Data for Replete with Fiber (1/2)<>Albumin pair\n",
      "No Data for Replete with Fiber (1/2)<>Albumin pair\n",
      "No Data for Replete with Fiber (1/2)<>Amylase pair\n",
      "No Data for Replete with Fiber (1/2)<>Amylase pair\n",
      "No Data for Replete with Fiber (1/2)<>Asparate aminotransferase pair\n",
      "No Data for Replete with Fiber (1/2)<>Asparate aminotransferase pair\n",
      "No Data for Replete with Fiber (1/2)<>Bilirubin pair\n",
      "No Data for Replete with Fiber (1/2)<>Bilirubin pair\n",
      "No Data for Replete with Fiber (1/2)<>Calcium pair\n",
      "No Data for Replete with Fiber (1/2)<>Calcium pair\n",
      "No Data for Replete with Fiber (1/2)<>Calcium ionized pair\n",
      "No Data for Replete with Fiber (1/2)<>Calcium ionized pair\n",
      "No Data for Replete with Fiber (1/2)<>Creatinine pair\n",
      "No Data for Replete with Fiber (1/2)<>Creatinine pair\n",
      "No Data for Replete with Fiber (1/2)<>Glucose pair\n",
      "No Data for Replete with Fiber (1/2)<>Glucose pair\n",
      "No Data for Replete with Fiber (1/2)<>Hematocrit pair\n",
      "No Data for Replete with Fiber (1/2)<>Hematocrit pair\n",
      "No Data for Replete with Fiber (1/2)<>Hemoglobin pair\n",
      "No Data for Replete with Fiber (1/2)<>Hemoglobin pair\n",
      "No Data for Replete with Fiber (1/2)<>Lactic acid pair\n",
      "No Data for Replete with Fiber (1/2)<>Lactic acid pair\n",
      "No Data for Replete with Fiber (1/2)<>Lipase pair\n",
      "No Data for Replete with Fiber (1/2)<>Lipase pair\n",
      "No Data for Replete with Fiber (1/2)<>Magnesium pair\n",
      "No Data for Replete with Fiber (1/2)<>Magnesium pair\n",
      "No Data for Replete with Fiber (1/2)<>PTT pair\n",
      "No Data for Replete with Fiber (1/2)<>PTT pair\n",
      "No Data for Replete with Fiber (1/2)<>Platelets pair\n",
      "No Data for Replete with Fiber (1/2)<>Platelets pair\n",
      "No Data for Replete with Fiber (1/2)<>Potassium pair\n",
      "No Data for Replete with Fiber (1/2)<>Potassium pair\n",
      "No Data for Replete with Fiber (1/2)<>Prothrombin time INR pair\n",
      "No Data for Replete with Fiber (1/2)<>Prothrombin time INR pair\n",
      "No Data for Replete with Fiber (1/2)<>Red blood cell pair\n",
      "No Data for Replete with Fiber (1/2)<>Red blood cell pair\n",
      "No Data for Replete with Fiber (1/2)<>Sodium pair\n",
      "No Data for Replete with Fiber (1/2)<>Sodium pair\n",
      "No Data for Replete with Fiber (1/4)<>Alanine aminotransferase pair\n",
      "No Data for Replete with Fiber (1/4)<>Alanine aminotransferase pair\n",
      "No Data for Replete with Fiber (1/4)<>Albumin pair\n",
      "No Data for Replete with Fiber (1/4)<>Albumin pair\n",
      "No Data for Replete with Fiber (1/4)<>Asparate aminotransferase pair\n",
      "No Data for Replete with Fiber (1/4)<>Asparate aminotransferase pair\n",
      "No Data for Replete with Fiber (1/4)<>Bilirubin pair\n",
      "No Data for Replete with Fiber (1/4)<>Bilirubin pair\n",
      "No Data for Replete with Fiber (1/4)<>Calcium pair\n",
      "No Data for Replete with Fiber (1/4)<>Calcium pair\n",
      "No Data for Replete with Fiber (1/4)<>Calcium ionized pair\n",
      "No Data for Replete with Fiber (1/4)<>Calcium ionized pair\n",
      "No Data for Replete with Fiber (1/4)<>Creatinine pair\n",
      "No Data for Replete with Fiber (1/4)<>Creatinine pair\n",
      "No Data for Replete with Fiber (1/4)<>Glucose pair\n",
      "No Data for Replete with Fiber (1/4)<>Glucose pair\n",
      "No Data for Replete with Fiber (1/4)<>Hematocrit pair\n",
      "No Data for Replete with Fiber (1/4)<>Hematocrit pair\n",
      "No Data for Replete with Fiber (1/4)<>Hemoglobin pair\n",
      "No Data for Replete with Fiber (1/4)<>Hemoglobin pair\n",
      "No Data for Replete with Fiber (1/4)<>Lactic acid pair\n",
      "No Data for Replete with Fiber (1/4)<>Lactic acid pair\n",
      "No Data for Replete with Fiber (1/4)<>Magnesium pair\n",
      "No Data for Replete with Fiber (1/4)<>Magnesium pair\n",
      "No Data for Replete with Fiber (1/4)<>PTT pair\n",
      "No Data for Replete with Fiber (1/4)<>PTT pair\n",
      "No Data for Replete with Fiber (1/4)<>Platelets pair\n",
      "No Data for Replete with Fiber (1/4)<>Platelets pair\n",
      "No Data for Replete with Fiber (1/4)<>Potassium pair\n",
      "No Data for Replete with Fiber (1/4)<>Potassium pair\n",
      "No Data for Replete with Fiber (1/4)<>Prothrombin time INR pair\n",
      "No Data for Replete with Fiber (1/4)<>Prothrombin time INR pair\n",
      "No Data for Replete with Fiber (1/4)<>Red blood cell pair\n",
      "No Data for Replete with Fiber (1/4)<>Red blood cell pair\n",
      "No Data for Replete with Fiber (1/4)<>Sodium pair\n",
      "No Data for Replete with Fiber (1/4)<>Sodium pair\n",
      "No Data for Replete with Fiber (2/3)<>Calcium pair\n",
      "No Data for Replete with Fiber (2/3)<>Calcium pair\n",
      "No Data for Replete with Fiber (2/3)<>Calcium ionized pair\n",
      "No Data for Replete with Fiber (2/3)<>Calcium ionized pair\n",
      "No Data for Replete with Fiber (2/3)<>Creatinine pair\n",
      "No Data for Replete with Fiber (2/3)<>Creatinine pair\n",
      "No Data for Replete with Fiber (2/3)<>Glucose pair\n",
      "No Data for Replete with Fiber (2/3)<>Glucose pair\n",
      "No Data for Replete with Fiber (2/3)<>Hematocrit pair\n",
      "No Data for Replete with Fiber (2/3)<>Hematocrit pair\n",
      "No Data for Replete with Fiber (2/3)<>Hemoglobin pair\n",
      "No Data for Replete with Fiber (2/3)<>Hemoglobin pair\n",
      "No Data for Replete with Fiber (2/3)<>Lactic acid pair\n",
      "No Data for Replete with Fiber (2/3)<>Lactic acid pair\n",
      "No Data for Replete with Fiber (2/3)<>Magnesium pair\n",
      "No Data for Replete with Fiber (2/3)<>Magnesium pair\n",
      "No Data for Replete with Fiber (2/3)<>Platelets pair\n",
      "No Data for Replete with Fiber (2/3)<>Platelets pair\n",
      "No Data for Replete with Fiber (2/3)<>Potassium pair\n",
      "No Data for Replete with Fiber (2/3)<>Potassium pair\n",
      "No Data for Replete with Fiber (2/3)<>Red blood cell pair\n",
      "No Data for Replete with Fiber (2/3)<>Red blood cell pair\n",
      "No Data for Replete with Fiber (2/3)<>Sodium pair\n",
      "No Data for Replete with Fiber (2/3)<>Sodium pair\n",
      "No Data for Replete with Fiber (3/4)<>Alanine aminotransferase pair\n",
      "No Data for Replete with Fiber (3/4)<>Alanine aminotransferase pair\n",
      "No Data for Replete with Fiber (3/4)<>Albumin pair\n",
      "No Data for Replete with Fiber (3/4)<>Albumin pair\n",
      "No Data for Replete with Fiber (3/4)<>Amylase pair\n",
      "No Data for Replete with Fiber (3/4)<>Amylase pair\n",
      "No Data for Replete with Fiber (3/4)<>Asparate aminotransferase pair\n",
      "No Data for Replete with Fiber (3/4)<>Asparate aminotransferase pair\n",
      "No Data for Replete with Fiber (3/4)<>Bilirubin pair\n",
      "No Data for Replete with Fiber (3/4)<>Bilirubin pair\n",
      "No Data for Replete with Fiber (3/4)<>Calcium pair\n",
      "No Data for Replete with Fiber (3/4)<>Calcium pair\n",
      "No Data for Replete with Fiber (3/4)<>Calcium ionized pair\n",
      "No Data for Replete with Fiber (3/4)<>Calcium ionized pair\n",
      "No Data for Replete with Fiber (3/4)<>Creatinine pair\n",
      "No Data for Replete with Fiber (3/4)<>Creatinine pair\n",
      "No Data for Replete with Fiber (3/4)<>Glucose pair\n",
      "No Data for Replete with Fiber (3/4)<>Glucose pair\n",
      "No Data for Replete with Fiber (3/4)<>Hematocrit pair\n",
      "No Data for Replete with Fiber (3/4)<>Hematocrit pair\n",
      "No Data for Replete with Fiber (3/4)<>Hemoglobin pair\n",
      "No Data for Replete with Fiber (3/4)<>Hemoglobin pair\n",
      "No Data for Replete with Fiber (3/4)<>Lactic acid pair\n",
      "No Data for Replete with Fiber (3/4)<>Lactic acid pair\n",
      "No Data for Replete with Fiber (3/4)<>Lipase pair\n",
      "No Data for Replete with Fiber (3/4)<>Lipase pair\n",
      "No Data for Replete with Fiber (3/4)<>Magnesium pair\n",
      "No Data for Replete with Fiber (3/4)<>Magnesium pair\n",
      "No Data for Replete with Fiber (3/4)<>PTT pair\n",
      "No Data for Replete with Fiber (3/4)<>PTT pair\n",
      "No Data for Replete with Fiber (3/4)<>Platelets pair\n",
      "No Data for Replete with Fiber (3/4)<>Platelets pair\n",
      "No Data for Replete with Fiber (3/4)<>Potassium pair\n",
      "No Data for Replete with Fiber (3/4)<>Potassium pair\n",
      "No Data for Replete with Fiber (3/4)<>Prothrombin time INR pair\n",
      "No Data for Replete with Fiber (3/4)<>Prothrombin time INR pair\n",
      "No Data for Replete with Fiber (3/4)<>Red blood cell pair\n",
      "No Data for Replete with Fiber (3/4)<>Red blood cell pair\n",
      "No Data for Replete with Fiber (3/4)<>Sodium pair\n",
      "No Data for Replete with Fiber (3/4)<>Sodium pair\n",
      "No Data for Replete with Fiber (Full)<>Alanine aminotransferase pair\n",
      "No Data for Replete with Fiber (Full)<>Alanine aminotransferase pair\n",
      "No Data for Replete with Fiber (Full)<>Albumin pair\n",
      "No Data for Replete with Fiber (Full)<>Albumin pair\n",
      "No Data for Replete with Fiber (Full)<>Amylase pair\n",
      "No Data for Replete with Fiber (Full)<>Amylase pair\n",
      "No Data for Replete with Fiber (Full)<>Bilirubin pair\n",
      "No Data for Replete with Fiber (Full)<>Bilirubin pair\n",
      "No Data for Replete with Fiber (Full)<>Calcium pair\n",
      "No Data for Replete with Fiber (Full)<>Calcium pair\n",
      "No Data for Replete with Fiber (Full)<>Calcium ionized pair\n",
      "No Data for Replete with Fiber (Full)<>Calcium ionized pair\n",
      "No Data for Replete with Fiber (Full)<>Creatinine pair\n",
      "No Data for Replete with Fiber (Full)<>Creatinine pair\n",
      "No Data for Replete with Fiber (Full)<>Hemoglobin pair\n",
      "No Data for Replete with Fiber (Full)<>Hemoglobin pair\n",
      "No Data for Replete with Fiber (Full)<>Hemoglobin percent pair\n",
      "No Data for Replete with Fiber (Full)<>Hemoglobin percent pair\n",
      "No Data for Replete with Fiber (Full)<>Lactic acid pair\n",
      "No Data for Replete with Fiber (Full)<>Lactic acid pair\n",
      "No Data for Replete with Fiber (Full)<>Lipase pair\n",
      "No Data for Replete with Fiber (Full)<>Lipase pair\n",
      "No Data for Replete with Fiber (Full)<>Magnesium pair\n",
      "No Data for Replete with Fiber (Full)<>Magnesium pair\n",
      "No Data for Replete with Fiber (Full)<>Magnesium, Urine pair\n",
      "No Data for Replete with Fiber (Full)<>Magnesium, Urine pair\n",
      "No Data for Replete with Fiber (Full)<>Potassium pair\n",
      "No Data for Replete with Fiber (Full)<>Potassium pair\n",
      "No Data for Replete with Fiber (Full)<>Prothrombin time INR pair\n",
      "No Data for Replete with Fiber (Full)<>Prothrombin time INR pair\n",
      "No Data for Replete with Fiber (Full)<>Red blood cell pair\n",
      "No Data for Replete with Fiber (Full)<>Red blood cell pair\n",
      "No Data for Replete with Fiber (Full)<>Uric Acid pair\n",
      "No Data for Replete with Fiber (Full)<>Uric Acid pair\n",
      "No Data for Replete with Fiber (Full)<>Vitamin B12 pair\n",
      "No Data for Replete with Fiber (Full)<>Vitamin B12 pair\n",
      "No Data for Resource Fruit Beverage<>Calcium pair\n",
      "No Data for Resource Fruit Beverage<>Calcium pair\n",
      "No Data for Resource Fruit Beverage<>Creatinine pair\n",
      "No Data for Resource Fruit Beverage<>Creatinine pair\n",
      "No Data for Resource Fruit Beverage<>Glucose pair\n",
      "No Data for Resource Fruit Beverage<>Glucose pair\n",
      "No Data for Resource Fruit Beverage<>Hematocrit pair\n",
      "No Data for Resource Fruit Beverage<>Hematocrit pair\n",
      "No Data for Resource Fruit Beverage<>Hemoglobin pair\n",
      "No Data for Resource Fruit Beverage<>Hemoglobin pair\n",
      "No Data for Resource Fruit Beverage<>Magnesium pair\n",
      "No Data for Resource Fruit Beverage<>Magnesium pair\n",
      "No Data for Resource Fruit Beverage<>Platelets pair\n",
      "No Data for Resource Fruit Beverage<>Platelets pair\n",
      "No Data for Resource Fruit Beverage<>Potassium pair\n",
      "No Data for Resource Fruit Beverage<>Potassium pair\n",
      "No Data for Resource Fruit Beverage<>Red blood cell pair\n",
      "No Data for Resource Fruit Beverage<>Red blood cell pair\n",
      "No Data for Resource Fruit Beverage<>Sodium pair\n",
      "No Data for Resource Fruit Beverage<>Sodium pair\n",
      "No Data for Rifampin<>Alanine aminotransferase pair\n",
      "No Data for Rifampin<>Alanine aminotransferase pair\n",
      "No Data for Rifampin<>Albumin pair\n",
      "No Data for Rifampin<>Albumin pair\n",
      "No Data for Rifampin<>Asparate aminotransferase pair\n",
      "No Data for Rifampin<>Asparate aminotransferase pair\n",
      "No Data for Rifampin<>Bilirubin pair\n",
      "No Data for Rifampin<>Bilirubin pair\n",
      "No Data for Rifampin<>Calcium pair\n",
      "No Data for Rifampin<>Calcium pair\n",
      "No Data for Rifampin<>Calcium ionized pair\n",
      "No Data for Rifampin<>Calcium ionized pair\n",
      "No Data for Rifampin<>Creatinine pair\n",
      "No Data for Rifampin<>Creatinine pair\n",
      "No Data for Rifampin<>Hemoglobin pair\n",
      "No Data for Rifampin<>Hemoglobin pair\n",
      "No Data for Rifampin<>Lactic acid pair\n",
      "No Data for Rifampin<>Lactic acid pair\n",
      "No Data for Rifampin<>Magnesium pair\n",
      "No Data for Rifampin<>Magnesium pair\n",
      "No Data for Rifampin<>PTT pair\n",
      "No Data for Rifampin<>PTT pair\n",
      "No Data for Rifampin<>Potassium pair\n",
      "No Data for Rifampin<>Potassium pair\n",
      "No Data for Rifampin<>Prothrombin time INR pair\n",
      "No Data for Rifampin<>Prothrombin time INR pair\n",
      "No Data for Rifampin<>Red blood cell pair\n",
      "No Data for Rifampin<>Red blood cell pair\n",
      "No Data for Rifampin<>Uric Acid pair\n",
      "No Data for Rifampin<>Uric Acid pair\n",
      "No Data for Sodium Bicarbonate 8.4%<>Albumin pair\n",
      "No Data for Sodium Bicarbonate 8.4%<>Albumin pair\n",
      "No Data for Sodium Bicarbonate 8.4%<>Bilirubin pair\n",
      "No Data for Sodium Bicarbonate 8.4%<>Bilirubin pair\n",
      "No Data for Sodium Bicarbonate 8.4%<>Calcium pair\n",
      "No Data for Sodium Bicarbonate 8.4%<>Calcium pair\n",
      "No Data for Sodium Bicarbonate 8.4%<>Calcium ionized pair\n",
      "No Data for Sodium Bicarbonate 8.4%<>Calcium ionized pair\n",
      "No Data for Sodium Bicarbonate 8.4%<>Creatinine pair\n",
      "No Data for Sodium Bicarbonate 8.4%<>Creatinine pair\n",
      "No Data for Sodium Bicarbonate 8.4%<>Hemoglobin pair\n",
      "No Data for Sodium Bicarbonate 8.4%<>Hemoglobin pair\n",
      "No Data for Sodium Bicarbonate 8.4%<>Hemoglobin percent pair\n",
      "No Data for Sodium Bicarbonate 8.4%<>Hemoglobin percent pair\n",
      "No Data for Sodium Bicarbonate 8.4%<>Lactic acid pair\n",
      "No Data for Sodium Bicarbonate 8.4%<>Lactic acid pair\n",
      "No Data for Sodium Bicarbonate 8.4%<>Magnesium pair\n",
      "No Data for Sodium Bicarbonate 8.4%<>Magnesium pair\n",
      "No Data for Sodium Bicarbonate 8.4%<>Magnesium, Urine pair\n",
      "No Data for Sodium Bicarbonate 8.4%<>Magnesium, Urine pair\n",
      "No Data for Sodium Bicarbonate 8.4%<>Potassium pair\n",
      "No Data for Sodium Bicarbonate 8.4%<>Potassium pair\n",
      "No Data for Sodium Bicarbonate 8.4%<>Prolactin pair\n",
      "No Data for Sodium Bicarbonate 8.4%<>Prolactin pair\n",
      "No Data for Sodium Bicarbonate 8.4%<>Prothrombin time INR pair\n",
      "No Data for Sodium Bicarbonate 8.4%<>Prothrombin time INR pair\n",
      "No Data for Sodium Bicarbonate 8.4%<>Red blood cell pair\n",
      "No Data for Sodium Bicarbonate 8.4%<>Red blood cell pair\n",
      "No Data for Sodium Bicarbonate 8.4%<>Uric Acid pair\n",
      "No Data for Sodium Bicarbonate 8.4%<>Uric Acid pair\n",
      "No Data for Sodium Bicarbonate 8.4%<>Uric Acid, Urine pair\n",
      "No Data for Sodium Bicarbonate 8.4%<>Uric Acid, Urine pair\n",
      "No Data for Sodium Bicarbonate 8.4%<>Vitamin B12 pair\n",
      "No Data for Sodium Bicarbonate 8.4%<>Vitamin B12 pair\n",
      "No Data for Sodium Bicarbonate 8.4% (Amp)<>Albumin pair\n",
      "No Data for Sodium Bicarbonate 8.4% (Amp)<>Albumin pair\n",
      "No Data for Sodium Bicarbonate 8.4% (Amp)<>Calcium pair\n",
      "No Data for Sodium Bicarbonate 8.4% (Amp)<>Calcium pair\n",
      "No Data for Sodium Bicarbonate 8.4% (Amp)<>Calcium ionized pair\n",
      "No Data for Sodium Bicarbonate 8.4% (Amp)<>Calcium ionized pair\n",
      "No Data for Sodium Bicarbonate 8.4% (Amp)<>Creatinine pair\n",
      "No Data for Sodium Bicarbonate 8.4% (Amp)<>Creatinine pair\n",
      "No Data for Sodium Bicarbonate 8.4% (Amp)<>Hemoglobin pair\n",
      "No Data for Sodium Bicarbonate 8.4% (Amp)<>Hemoglobin pair\n",
      "No Data for Sodium Bicarbonate 8.4% (Amp)<>Hemoglobin percent pair\n",
      "No Data for Sodium Bicarbonate 8.4% (Amp)<>Hemoglobin percent pair\n",
      "No Data for Sodium Bicarbonate 8.4% (Amp)<>Lactic acid pair\n",
      "No Data for Sodium Bicarbonate 8.4% (Amp)<>Lactic acid pair\n",
      "No Data for Sodium Bicarbonate 8.4% (Amp)<>Lipase pair\n",
      "No Data for Sodium Bicarbonate 8.4% (Amp)<>Lipase pair\n",
      "No Data for Sodium Bicarbonate 8.4% (Amp)<>Magnesium pair\n",
      "No Data for Sodium Bicarbonate 8.4% (Amp)<>Magnesium pair\n",
      "No Data for Sodium Bicarbonate 8.4% (Amp)<>Magnesium, Urine pair\n",
      "No Data for Sodium Bicarbonate 8.4% (Amp)<>Magnesium, Urine pair\n",
      "No Data for Sodium Bicarbonate 8.4% (Amp)<>Potassium pair\n",
      "No Data for Sodium Bicarbonate 8.4% (Amp)<>Potassium pair\n",
      "No Data for Sodium Bicarbonate 8.4% (Amp)<>Prothrombin time INR pair\n",
      "No Data for Sodium Bicarbonate 8.4% (Amp)<>Prothrombin time INR pair\n",
      "No Data for Sodium Bicarbonate 8.4% (Amp)<>Red blood cell pair\n",
      "No Data for Sodium Bicarbonate 8.4% (Amp)<>Red blood cell pair\n",
      "No Data for Sodium Bicarbonate 8.4% (Amp)<>Uric Acid pair\n",
      "No Data for Sodium Bicarbonate 8.4% (Amp)<>Uric Acid pair\n",
      "No Data for Sodium Bicarbonate 8.4% (Amp)<>Vitamin B12 pair\n",
      "No Data for Sodium Bicarbonate 8.4% (Amp)<>Vitamin B12 pair\n",
      "No Data for Solution<>Albumin pair\n",
      "No Data for Solution<>Albumin pair\n",
      "No Data for Solution<>Calcium pair\n",
      "No Data for Solution<>Calcium pair\n",
      "No Data for Solution<>Calcium ionized pair\n",
      "No Data for Solution<>Calcium ionized pair\n",
      "No Data for Solution<>Creatinine pair\n",
      "No Data for Solution<>Creatinine pair\n",
      "No Data for Solution<>Creatinine ascites pair\n",
      "No Data for Solution<>Creatinine ascites pair\n",
      "No Data for Solution<>Hemoglobin pair\n",
      "No Data for Solution<>Hemoglobin pair\n",
      "No Data for Solution<>Hemoglobin A2 pair\n",
      "No Data for Solution<>Hemoglobin A2 pair\n",
      "No Data for Solution<>Hemoglobin C pair\n",
      "No Data for Solution<>Hemoglobin C pair\n",
      "No Data for Solution<>Hemoglobin F pair\n",
      "No Data for Solution<>Hemoglobin F pair\n",
      "No Data for Solution<>Hemoglobin percent pair\n",
      "No Data for Solution<>Hemoglobin percent pair\n",
      "No Data for Solution<>Lactic acid pair\n",
      "No Data for Solution<>Lactic acid pair\n",
      "No Data for Solution<>Magnesium pair\n",
      "No Data for Solution<>Magnesium pair\n",
      "No Data for Solution<>Magnesium, Urine pair\n",
      "No Data for Solution<>Magnesium, Urine pair\n",
      "No Data for Solution<>Potassium pair\n",
      "No Data for Solution<>Potassium pair\n",
      "No Data for Solution<>Prolactin pair\n",
      "No Data for Solution<>Prolactin pair\n",
      "No Data for Solution<>Prothrombin time INR pair\n",
      "No Data for Solution<>Prothrombin time INR pair\n",
      "No Data for Solution<>Red blood cell pair\n",
      "No Data for Solution<>Red blood cell pair\n",
      "No Data for Solution<>Uric Acid pair\n",
      "No Data for Solution<>Uric Acid pair\n",
      "No Data for Solution<>Uric Acid, Urine pair\n",
      "No Data for Solution<>Uric Acid, Urine pair\n",
      "No Data for Solution<>Vitamin B12 pair\n",
      "No Data for Solution<>Vitamin B12 pair\n",
      "No Data for Sterile Water<>Albumin pair\n",
      "No Data for Sterile Water<>Albumin pair\n",
      "No Data for Sterile Water<>Bilirubin pair\n",
      "No Data for Sterile Water<>Bilirubin pair\n",
      "No Data for Sterile Water<>Calcium pair\n",
      "No Data for Sterile Water<>Calcium pair\n",
      "No Data for Sterile Water<>Calcium ionized pair\n",
      "No Data for Sterile Water<>Calcium ionized pair\n",
      "No Data for Sterile Water<>Creatinine pair\n",
      "No Data for Sterile Water<>Creatinine pair\n",
      "No Data for Sterile Water<>Creatinine ascites pair\n",
      "No Data for Sterile Water<>Creatinine ascites pair\n",
      "No Data for Sterile Water<>Hemoglobin pair\n",
      "No Data for Sterile Water<>Hemoglobin pair\n",
      "No Data for Sterile Water<>Hemoglobin percent pair\n",
      "No Data for Sterile Water<>Hemoglobin percent pair\n",
      "No Data for Sterile Water<>Lactic acid pair\n",
      "No Data for Sterile Water<>Lactic acid pair\n",
      "No Data for Sterile Water<>Magnesium pair\n",
      "No Data for Sterile Water<>Magnesium pair\n",
      "No Data for Sterile Water<>Potassium pair\n",
      "No Data for Sterile Water<>Potassium pair\n",
      "No Data for Sterile Water<>Prolactin pair\n",
      "No Data for Sterile Water<>Prolactin pair\n",
      "No Data for Sterile Water<>Prothrombin time INR pair\n",
      "No Data for Sterile Water<>Prothrombin time INR pair\n",
      "No Data for Sterile Water<>Red blood cell pair\n",
      "No Data for Sterile Water<>Red blood cell pair\n",
      "No Data for Sterile Water<>Uric Acid pair\n",
      "No Data for Sterile Water<>Uric Acid pair\n",
      "No Data for Sterile Water<>Uric Acid, Urine pair\n",
      "No Data for Sterile Water<>Uric Acid, Urine pair\n",
      "No Data for Sterile Water<>Vitamin B12 pair\n",
      "No Data for Sterile Water<>Vitamin B12 pair\n",
      "No Data for TPN w/ Lipids<>Albumin pair\n",
      "No Data for TPN w/ Lipids<>Albumin pair\n",
      "No Data for TPN w/ Lipids<>Amylase pair\n",
      "No Data for TPN w/ Lipids<>Amylase pair\n",
      "No Data for TPN w/ Lipids<>Bilirubin pair\n",
      "No Data for TPN w/ Lipids<>Bilirubin pair\n",
      "No Data for TPN w/ Lipids<>Calcium pair\n",
      "No Data for TPN w/ Lipids<>Calcium pair\n",
      "No Data for TPN w/ Lipids<>Calcium ionized pair\n",
      "No Data for TPN w/ Lipids<>Calcium ionized pair\n",
      "No Data for TPN w/ Lipids<>Creatinine pair\n",
      "No Data for TPN w/ Lipids<>Creatinine pair\n",
      "No Data for TPN w/ Lipids<>Hemoglobin pair\n",
      "No Data for TPN w/ Lipids<>Hemoglobin pair\n",
      "No Data for TPN w/ Lipids<>Lactic acid pair\n",
      "No Data for TPN w/ Lipids<>Lactic acid pair\n",
      "No Data for TPN w/ Lipids<>Lipase pair\n",
      "No Data for TPN w/ Lipids<>Lipase pair\n",
      "No Data for TPN w/ Lipids<>Magnesium pair\n",
      "No Data for TPN w/ Lipids<>Magnesium pair\n",
      "No Data for TPN w/ Lipids<>Potassium pair\n",
      "No Data for TPN w/ Lipids<>Potassium pair\n",
      "No Data for TPN w/ Lipids<>Prothrombin time INR pair\n",
      "No Data for TPN w/ Lipids<>Prothrombin time INR pair\n",
      "No Data for TPN w/ Lipids<>Red blood cell pair\n",
      "No Data for TPN w/ Lipids<>Red blood cell pair\n",
      "No Data for TPN w/ Lipids<>Uric Acid pair\n",
      "No Data for TPN w/ Lipids<>Uric Acid pair\n",
      "No Data for TPN w/ Lipids<>Vitamin B12 pair\n",
      "No Data for TPN w/ Lipids<>Vitamin B12 pair\n",
      "No Data for TPN without Lipids<>Alanine aminotransferase pair\n",
      "No Data for TPN without Lipids<>Alanine aminotransferase pair\n",
      "No Data for TPN without Lipids<>Albumin pair\n",
      "No Data for TPN without Lipids<>Albumin pair\n",
      "No Data for TPN without Lipids<>Amylase pair\n",
      "No Data for TPN without Lipids<>Amylase pair\n",
      "No Data for TPN without Lipids<>Asparate aminotransferase pair\n",
      "No Data for TPN without Lipids<>Asparate aminotransferase pair\n",
      "No Data for TPN without Lipids<>Bilirubin pair\n",
      "No Data for TPN without Lipids<>Bilirubin pair\n",
      "No Data for TPN without Lipids<>Calcium pair\n",
      "No Data for TPN without Lipids<>Calcium pair\n",
      "No Data for TPN without Lipids<>Calcium ionized pair\n",
      "No Data for TPN without Lipids<>Calcium ionized pair\n",
      "No Data for TPN without Lipids<>Creatinine pair\n",
      "No Data for TPN without Lipids<>Creatinine pair\n",
      "No Data for TPN without Lipids<>Hemoglobin pair\n",
      "No Data for TPN without Lipids<>Hemoglobin pair\n",
      "No Data for TPN without Lipids<>Lactic acid pair\n",
      "No Data for TPN without Lipids<>Lactic acid pair\n",
      "No Data for TPN without Lipids<>Lipase pair\n",
      "No Data for TPN without Lipids<>Lipase pair\n",
      "No Data for TPN without Lipids<>Magnesium pair\n",
      "No Data for TPN without Lipids<>Magnesium pair\n",
      "No Data for TPN without Lipids<>Potassium pair\n",
      "No Data for TPN without Lipids<>Potassium pair\n",
      "No Data for TPN without Lipids<>Prothrombin time INR pair\n",
      "No Data for TPN without Lipids<>Prothrombin time INR pair\n",
      "No Data for TPN without Lipids<>Red blood cell pair\n",
      "No Data for TPN without Lipids<>Red blood cell pair\n",
      "No Data for TPN without Lipids<>Uric Acid pair\n",
      "No Data for TPN without Lipids<>Uric Acid pair\n",
      "No Data for TPN without Lipids<>Vitamin B12 pair\n",
      "No Data for TPN without Lipids<>Vitamin B12 pair\n",
      "No Data for Tamiflu<>Alanine aminotransferase pair\n",
      "No Data for Tamiflu<>Alanine aminotransferase pair\n",
      "No Data for Tamiflu<>Albumin pair\n",
      "No Data for Tamiflu<>Albumin pair\n",
      "No Data for Tamiflu<>Asparate aminotransferase pair\n",
      "No Data for Tamiflu<>Asparate aminotransferase pair\n",
      "No Data for Tamiflu<>Bilirubin pair\n",
      "No Data for Tamiflu<>Bilirubin pair\n",
      "No Data for Tamiflu<>Calcium pair\n",
      "No Data for Tamiflu<>Calcium pair\n",
      "No Data for Tamiflu<>Creatinine pair\n",
      "No Data for Tamiflu<>Creatinine pair\n",
      "No Data for Tamiflu<>Hematocrit pair\n",
      "No Data for Tamiflu<>Hematocrit pair\n",
      "No Data for Tamiflu<>Hemoglobin pair\n",
      "No Data for Tamiflu<>Hemoglobin pair\n",
      "No Data for Tamiflu<>Lactic acid pair\n",
      "No Data for Tamiflu<>Lactic acid pair\n",
      "No Data for Tamiflu<>Magnesium pair\n",
      "No Data for Tamiflu<>Magnesium pair\n",
      "No Data for Tamiflu<>PTT pair\n",
      "No Data for Tamiflu<>PTT pair\n",
      "No Data for Tamiflu<>Platelets pair\n",
      "No Data for Tamiflu<>Platelets pair\n",
      "No Data for Tamiflu<>Potassium pair\n",
      "No Data for Tamiflu<>Potassium pair\n",
      "No Data for Tamiflu<>Prothrombin time INR pair\n",
      "No Data for Tamiflu<>Prothrombin time INR pair\n",
      "No Data for Tamiflu<>Red blood cell pair\n",
      "No Data for Tamiflu<>Red blood cell pair\n",
      "No Data for Thiamine<>Albumin pair\n",
      "No Data for Thiamine<>Albumin pair\n",
      "No Data for Thiamine<>Bilirubin pair\n",
      "No Data for Thiamine<>Bilirubin pair\n",
      "No Data for Thiamine<>Calcium pair\n",
      "No Data for Thiamine<>Calcium pair\n",
      "No Data for Thiamine<>Calcium ionized pair\n",
      "No Data for Thiamine<>Calcium ionized pair\n",
      "No Data for Thiamine<>Creatinine pair\n",
      "No Data for Thiamine<>Creatinine pair\n",
      "No Data for Thiamine<>Creatinine ascites pair\n",
      "No Data for Thiamine<>Creatinine ascites pair\n",
      "No Data for Thiamine<>Hemoglobin pair\n",
      "No Data for Thiamine<>Hemoglobin pair\n",
      "No Data for Thiamine<>Hemoglobin percent pair\n",
      "No Data for Thiamine<>Hemoglobin percent pair\n",
      "No Data for Thiamine<>Lactic acid pair\n",
      "No Data for Thiamine<>Lactic acid pair\n",
      "No Data for Thiamine<>Magnesium pair\n",
      "No Data for Thiamine<>Magnesium pair\n",
      "No Data for Thiamine<>Magnesium, Urine pair\n",
      "No Data for Thiamine<>Magnesium, Urine pair\n",
      "No Data for Thiamine<>Potassium pair\n",
      "No Data for Thiamine<>Potassium pair\n",
      "No Data for Thiamine<>Prolactin pair\n",
      "No Data for Thiamine<>Prolactin pair\n",
      "No Data for Thiamine<>Prothrombin time INR pair\n",
      "No Data for Thiamine<>Prothrombin time INR pair\n",
      "No Data for Thiamine<>Red blood cell pair\n",
      "No Data for Thiamine<>Red blood cell pair\n",
      "No Data for Thiamine<>Uric Acid pair\n",
      "No Data for Thiamine<>Uric Acid pair\n",
      "No Data for Thiamine<>Uric Acid, Urine pair\n",
      "No Data for Thiamine<>Uric Acid, Urine pair\n",
      "No Data for Thiamine<>Vitamin B12 pair\n",
      "No Data for Thiamine<>Vitamin B12 pair\n",
      "No Data for Tirofiban (Aggrastat)<>Alanine aminotransferase pair\n",
      "No Data for Tirofiban (Aggrastat)<>Alanine aminotransferase pair\n",
      "No Data for Tirofiban (Aggrastat)<>Albumin pair\n",
      "No Data for Tirofiban (Aggrastat)<>Albumin pair\n",
      "No Data for Tirofiban (Aggrastat)<>Amylase pair\n",
      "No Data for Tirofiban (Aggrastat)<>Amylase pair\n",
      "No Data for Tirofiban (Aggrastat)<>Asparate aminotransferase pair\n",
      "No Data for Tirofiban (Aggrastat)<>Asparate aminotransferase pair\n",
      "No Data for Tirofiban (Aggrastat)<>Bilirubin pair\n",
      "No Data for Tirofiban (Aggrastat)<>Bilirubin pair\n",
      "No Data for Tirofiban (Aggrastat)<>Calcium pair\n",
      "No Data for Tirofiban (Aggrastat)<>Calcium pair\n",
      "No Data for Tirofiban (Aggrastat)<>Calcium ionized pair\n",
      "No Data for Tirofiban (Aggrastat)<>Calcium ionized pair\n",
      "No Data for Tirofiban (Aggrastat)<>Creatinine pair\n",
      "No Data for Tirofiban (Aggrastat)<>Creatinine pair\n",
      "No Data for Tirofiban (Aggrastat)<>Glucose pair\n",
      "No Data for Tirofiban (Aggrastat)<>Glucose pair\n",
      "No Data for Tirofiban (Aggrastat)<>Hematocrit pair\n",
      "No Data for Tirofiban (Aggrastat)<>Hematocrit pair\n",
      "No Data for Tirofiban (Aggrastat)<>Hemoglobin pair\n",
      "No Data for Tirofiban (Aggrastat)<>Hemoglobin pair\n",
      "No Data for Tirofiban (Aggrastat)<>Hemoglobin percent pair\n",
      "No Data for Tirofiban (Aggrastat)<>Hemoglobin percent pair\n",
      "No Data for Tirofiban (Aggrastat)<>Lactic acid pair\n",
      "No Data for Tirofiban (Aggrastat)<>Lactic acid pair\n",
      "No Data for Tirofiban (Aggrastat)<>Magnesium pair\n",
      "No Data for Tirofiban (Aggrastat)<>Magnesium pair\n",
      "No Data for Tirofiban (Aggrastat)<>PTT pair\n",
      "No Data for Tirofiban (Aggrastat)<>PTT pair\n",
      "No Data for Tirofiban (Aggrastat)<>Platelets pair\n",
      "No Data for Tirofiban (Aggrastat)<>Platelets pair\n",
      "No Data for Tirofiban (Aggrastat)<>Potassium pair\n",
      "No Data for Tirofiban (Aggrastat)<>Potassium pair\n",
      "No Data for Tirofiban (Aggrastat)<>Prothrombin time INR pair\n",
      "No Data for Tirofiban (Aggrastat)<>Prothrombin time INR pair\n",
      "No Data for Tirofiban (Aggrastat)<>Red blood cell pair\n",
      "No Data for Tirofiban (Aggrastat)<>Red blood cell pair\n",
      "No Data for Tirofiban (Aggrastat)<>Sodium pair\n",
      "No Data for Tirofiban (Aggrastat)<>Sodium pair\n",
      "No Data for Tirofiban (Aggrastat)<>Vitamin B12 pair\n",
      "No Data for Tirofiban (Aggrastat)<>Vitamin B12 pair\n",
      "No Data for Tobramycin<>Alanine aminotransferase pair\n",
      "No Data for Tobramycin<>Alanine aminotransferase pair\n",
      "No Data for Tobramycin<>Albumin pair\n",
      "No Data for Tobramycin<>Albumin pair\n",
      "No Data for Tobramycin<>Amylase pair\n",
      "No Data for Tobramycin<>Amylase pair\n",
      "No Data for Tobramycin<>Asparate aminotransferase pair\n",
      "No Data for Tobramycin<>Asparate aminotransferase pair\n",
      "No Data for Tobramycin<>Bilirubin pair\n",
      "No Data for Tobramycin<>Bilirubin pair\n",
      "No Data for Tobramycin<>Calcium pair\n",
      "No Data for Tobramycin<>Calcium pair\n",
      "No Data for Tobramycin<>Calcium ionized pair\n",
      "No Data for Tobramycin<>Calcium ionized pair\n",
      "No Data for Tobramycin<>Creatinine pair\n",
      "No Data for Tobramycin<>Creatinine pair\n",
      "No Data for Tobramycin<>Hemoglobin pair\n",
      "No Data for Tobramycin<>Hemoglobin pair\n",
      "No Data for Tobramycin<>Lactic acid pair\n",
      "No Data for Tobramycin<>Lactic acid pair\n",
      "No Data for Tobramycin<>Lipase pair\n",
      "No Data for Tobramycin<>Lipase pair\n",
      "No Data for Tobramycin<>Magnesium pair\n",
      "No Data for Tobramycin<>Magnesium pair\n",
      "No Data for Tobramycin<>Potassium pair\n",
      "No Data for Tobramycin<>Potassium pair\n",
      "No Data for Tobramycin<>Prothrombin time INR pair\n",
      "No Data for Tobramycin<>Prothrombin time INR pair\n",
      "No Data for Tobramycin<>Red blood cell pair\n",
      "No Data for Tobramycin<>Red blood cell pair\n",
      "No Data for Tobramycin<>Vitamin B12 pair\n",
      "No Data for Tobramycin<>Vitamin B12 pair\n",
      "No Data for Two Cal HN (Full)<>Alanine aminotransferase pair\n",
      "No Data for Two Cal HN (Full)<>Alanine aminotransferase pair\n",
      "No Data for Two Cal HN (Full)<>Albumin pair\n",
      "No Data for Two Cal HN (Full)<>Albumin pair\n",
      "No Data for Two Cal HN (Full)<>Amylase pair\n",
      "No Data for Two Cal HN (Full)<>Amylase pair\n",
      "No Data for Two Cal HN (Full)<>Asparate aminotransferase pair\n",
      "No Data for Two Cal HN (Full)<>Asparate aminotransferase pair\n",
      "No Data for Two Cal HN (Full)<>Bilirubin pair\n",
      "No Data for Two Cal HN (Full)<>Bilirubin pair\n",
      "No Data for Two Cal HN (Full)<>Calcium pair\n",
      "No Data for Two Cal HN (Full)<>Calcium pair\n",
      "No Data for Two Cal HN (Full)<>Calcium ionized pair\n",
      "No Data for Two Cal HN (Full)<>Calcium ionized pair\n",
      "No Data for Two Cal HN (Full)<>Creatinine pair\n",
      "No Data for Two Cal HN (Full)<>Creatinine pair\n",
      "No Data for Two Cal HN (Full)<>Hemoglobin pair\n",
      "No Data for Two Cal HN (Full)<>Hemoglobin pair\n",
      "No Data for Two Cal HN (Full)<>Lactic acid pair\n",
      "No Data for Two Cal HN (Full)<>Lactic acid pair\n",
      "No Data for Two Cal HN (Full)<>Lipase pair\n",
      "No Data for Two Cal HN (Full)<>Lipase pair\n",
      "No Data for Two Cal HN (Full)<>Magnesium pair\n",
      "No Data for Two Cal HN (Full)<>Magnesium pair\n",
      "No Data for Two Cal HN (Full)<>PTT pair\n",
      "No Data for Two Cal HN (Full)<>PTT pair\n",
      "No Data for Two Cal HN (Full)<>Potassium pair\n",
      "No Data for Two Cal HN (Full)<>Potassium pair\n",
      "No Data for Two Cal HN (Full)<>Prothrombin time INR pair\n",
      "No Data for Two Cal HN (Full)<>Prothrombin time INR pair\n",
      "No Data for Two Cal HN (Full)<>Red blood cell pair\n",
      "No Data for Two Cal HN (Full)<>Red blood cell pair\n",
      "No Data for Valgancyclovir<>Albumin pair\n",
      "No Data for Valgancyclovir<>Albumin pair\n",
      "No Data for Valgancyclovir<>Amylase pair\n",
      "No Data for Valgancyclovir<>Amylase pair\n",
      "No Data for Valgancyclovir<>Bilirubin pair\n",
      "No Data for Valgancyclovir<>Bilirubin pair\n",
      "No Data for Valgancyclovir<>Calcium pair\n",
      "No Data for Valgancyclovir<>Calcium pair\n",
      "No Data for Valgancyclovir<>Calcium ionized pair\n",
      "No Data for Valgancyclovir<>Calcium ionized pair\n",
      "No Data for Valgancyclovir<>Creatinine pair\n",
      "No Data for Valgancyclovir<>Creatinine pair\n",
      "No Data for Valgancyclovir<>Hemoglobin pair\n",
      "No Data for Valgancyclovir<>Hemoglobin pair\n",
      "No Data for Valgancyclovir<>Lactic acid pair\n",
      "No Data for Valgancyclovir<>Lactic acid pair\n",
      "No Data for Valgancyclovir<>Magnesium pair\n",
      "No Data for Valgancyclovir<>Magnesium pair\n",
      "No Data for Valgancyclovir<>Potassium pair\n",
      "No Data for Valgancyclovir<>Potassium pair\n",
      "No Data for Valgancyclovir<>Prothrombin time INR pair\n",
      "No Data for Valgancyclovir<>Prothrombin time INR pair\n",
      "No Data for Valgancyclovir<>Red blood cell pair\n",
      "No Data for Valgancyclovir<>Red blood cell pair\n",
      "No Data for Valgancyclovir<>Uric Acid pair\n",
      "No Data for Valgancyclovir<>Uric Acid pair\n",
      "No Data for Vancomycin<>Albumin pair\n",
      "No Data for Vancomycin<>Albumin pair\n",
      "No Data for Vancomycin<>Calcium pair\n",
      "No Data for Vancomycin<>Calcium pair\n",
      "No Data for Vancomycin<>Calcium ionized pair\n",
      "No Data for Vancomycin<>Calcium ionized pair\n",
      "No Data for Vancomycin<>Creatinine pair\n",
      "No Data for Vancomycin<>Creatinine pair\n",
      "No Data for Vancomycin<>Creatinine ascites pair\n",
      "No Data for Vancomycin<>Creatinine ascites pair\n",
      "No Data for Vancomycin<>Hemoglobin pair\n",
      "No Data for Vancomycin<>Hemoglobin pair\n",
      "No Data for Vancomycin<>Hemoglobin percent pair\n",
      "No Data for Vancomycin<>Hemoglobin percent pair\n",
      "No Data for Vancomycin<>Lactic acid pair\n",
      "No Data for Vancomycin<>Lactic acid pair\n",
      "No Data for Vancomycin<>Magnesium pair\n",
      "No Data for Vancomycin<>Magnesium pair\n",
      "No Data for Vancomycin<>Magnesium, Urine pair\n",
      "No Data for Vancomycin<>Magnesium, Urine pair\n",
      "No Data for Vancomycin<>Potassium pair\n",
      "No Data for Vancomycin<>Potassium pair\n",
      "No Data for Vancomycin<>Prolactin pair\n",
      "No Data for Vancomycin<>Prolactin pair\n",
      "No Data for Vancomycin<>Prothrombin time INR pair\n",
      "No Data for Vancomycin<>Prothrombin time INR pair\n",
      "No Data for Vancomycin<>Red blood cell pair\n",
      "No Data for Vancomycin<>Red blood cell pair\n",
      "No Data for Vancomycin<>Uric Acid pair\n",
      "No Data for Vancomycin<>Uric Acid pair\n",
      "No Data for Vancomycin<>Uric Acid, Urine pair\n",
      "No Data for Vancomycin<>Uric Acid, Urine pair\n",
      "No Data for Vancomycin<>Vitamin B12 pair\n",
      "No Data for Vancomycin<>Vitamin B12 pair\n",
      "No Data for Vasopressin<>Albumin pair\n",
      "No Data for Vasopressin<>Albumin pair\n",
      "No Data for Vasopressin<>Amylase pair\n",
      "No Data for Vasopressin<>Amylase pair\n",
      "No Data for Vasopressin<>Bilirubin pair\n",
      "No Data for Vasopressin<>Bilirubin pair\n",
      "No Data for Vasopressin<>Calcium pair\n",
      "No Data for Vasopressin<>Calcium pair\n",
      "No Data for Vasopressin<>Calcium ionized pair\n",
      "No Data for Vasopressin<>Calcium ionized pair\n",
      "No Data for Vasopressin<>Creatinine pair\n",
      "No Data for Vasopressin<>Creatinine pair\n",
      "No Data for Vasopressin<>Hemoglobin pair\n",
      "No Data for Vasopressin<>Hemoglobin pair\n",
      "No Data for Vasopressin<>Hemoglobin percent pair\n",
      "No Data for Vasopressin<>Hemoglobin percent pair\n",
      "No Data for Vasopressin<>Lactic acid pair\n",
      "No Data for Vasopressin<>Lactic acid pair\n",
      "No Data for Vasopressin<>Lipase pair\n",
      "No Data for Vasopressin<>Lipase pair\n",
      "No Data for Vasopressin<>Magnesium pair\n",
      "No Data for Vasopressin<>Magnesium pair\n",
      "No Data for Vasopressin<>Magnesium, Urine pair\n",
      "No Data for Vasopressin<>Magnesium, Urine pair\n",
      "No Data for Vasopressin<>Potassium pair\n",
      "No Data for Vasopressin<>Potassium pair\n",
      "No Data for Vasopressin<>Prothrombin time INR pair\n",
      "No Data for Vasopressin<>Prothrombin time INR pair\n",
      "No Data for Vasopressin<>Red blood cell pair\n",
      "No Data for Vasopressin<>Red blood cell pair\n",
      "No Data for Vasopressin<>Uric Acid pair\n",
      "No Data for Vasopressin<>Uric Acid pair\n",
      "No Data for Vasopressin<>Uric Acid, Urine pair\n",
      "No Data for Vasopressin<>Uric Acid, Urine pair\n",
      "No Data for Vasopressin<>Vitamin B12 pair\n",
      "No Data for Vasopressin<>Vitamin B12 pair\n",
      "No Data for Vecuronium<>Albumin pair\n",
      "No Data for Vecuronium<>Albumin pair\n",
      "No Data for Vecuronium<>Bilirubin pair\n",
      "No Data for Vecuronium<>Bilirubin pair\n",
      "No Data for Vecuronium<>Calcium pair\n",
      "No Data for Vecuronium<>Calcium pair\n",
      "No Data for Vecuronium<>Calcium ionized pair\n",
      "No Data for Vecuronium<>Calcium ionized pair\n",
      "No Data for Vecuronium<>Creatinine pair\n",
      "No Data for Vecuronium<>Creatinine pair\n",
      "No Data for Vecuronium<>Hemoglobin pair\n",
      "No Data for Vecuronium<>Hemoglobin pair\n",
      "No Data for Vecuronium<>Hemoglobin percent pair\n",
      "No Data for Vecuronium<>Hemoglobin percent pair\n",
      "No Data for Vecuronium<>Lactic acid pair\n",
      "No Data for Vecuronium<>Lactic acid pair\n",
      "No Data for Vecuronium<>Magnesium pair\n",
      "No Data for Vecuronium<>Magnesium pair\n",
      "No Data for Vecuronium<>Magnesium, Urine pair\n",
      "No Data for Vecuronium<>Magnesium, Urine pair\n",
      "No Data for Vecuronium<>Potassium pair\n",
      "No Data for Vecuronium<>Potassium pair\n",
      "No Data for Vecuronium<>Prothrombin time INR pair\n",
      "No Data for Vecuronium<>Prothrombin time INR pair\n",
      "No Data for Vecuronium<>Red blood cell pair\n",
      "No Data for Vecuronium<>Red blood cell pair\n",
      "No Data for Vecuronium<>Uric Acid, Urine pair\n",
      "No Data for Vecuronium<>Uric Acid, Urine pair\n",
      "No Data for Verapamil<>Alanine aminotransferase pair\n",
      "No Data for Verapamil<>Alanine aminotransferase pair\n",
      "No Data for Verapamil<>Amylase pair\n",
      "No Data for Verapamil<>Amylase pair\n",
      "No Data for Verapamil<>Asparate aminotransferase pair\n",
      "No Data for Verapamil<>Asparate aminotransferase pair\n",
      "No Data for Verapamil<>Bilirubin pair\n",
      "No Data for Verapamil<>Bilirubin pair\n",
      "No Data for Verapamil<>Calcium pair\n",
      "No Data for Verapamil<>Calcium pair\n",
      "No Data for Verapamil<>Calcium ionized pair\n",
      "No Data for Verapamil<>Calcium ionized pair\n",
      "No Data for Verapamil<>Creatinine pair\n",
      "No Data for Verapamil<>Creatinine pair\n",
      "No Data for Verapamil<>Hematocrit pair\n",
      "No Data for Verapamil<>Hematocrit pair\n",
      "No Data for Verapamil<>Hemoglobin pair\n",
      "No Data for Verapamil<>Hemoglobin pair\n",
      "No Data for Verapamil<>Lactic acid pair\n",
      "No Data for Verapamil<>Lactic acid pair\n",
      "No Data for Verapamil<>Magnesium pair\n",
      "No Data for Verapamil<>Magnesium pair\n",
      "No Data for Verapamil<>PTT pair\n",
      "No Data for Verapamil<>PTT pair\n",
      "No Data for Verapamil<>Platelets pair\n",
      "No Data for Verapamil<>Platelets pair\n",
      "No Data for Verapamil<>Potassium pair\n",
      "No Data for Verapamil<>Potassium pair\n",
      "No Data for Verapamil<>Prothrombin time INR pair\n",
      "No Data for Verapamil<>Prothrombin time INR pair\n",
      "No Data for Verapamil<>Red blood cell pair\n",
      "No Data for Verapamil<>Red blood cell pair\n",
      "No Data for Verapamil<>Sodium pair\n",
      "No Data for Verapamil<>Sodium pair\n",
      "No Data for Vitamin K (Phytonadione)<>Albumin pair\n",
      "No Data for Vitamin K (Phytonadione)<>Albumin pair\n",
      "No Data for Vitamin K (Phytonadione)<>Amylase pair\n",
      "No Data for Vitamin K (Phytonadione)<>Amylase pair\n",
      "No Data for Vitamin K (Phytonadione)<>Bilirubin pair\n",
      "No Data for Vitamin K (Phytonadione)<>Bilirubin pair\n",
      "No Data for Vitamin K (Phytonadione)<>Calcium pair\n",
      "No Data for Vitamin K (Phytonadione)<>Calcium pair\n",
      "No Data for Vitamin K (Phytonadione)<>Calcium ionized pair\n",
      "No Data for Vitamin K (Phytonadione)<>Calcium ionized pair\n",
      "No Data for Vitamin K (Phytonadione)<>Creatinine pair\n",
      "No Data for Vitamin K (Phytonadione)<>Creatinine pair\n",
      "No Data for Vitamin K (Phytonadione)<>Hemoglobin pair\n",
      "No Data for Vitamin K (Phytonadione)<>Hemoglobin pair\n",
      "No Data for Vitamin K (Phytonadione)<>Lactic acid pair\n",
      "No Data for Vitamin K (Phytonadione)<>Lactic acid pair\n",
      "No Data for Vitamin K (Phytonadione)<>Lipase pair\n",
      "No Data for Vitamin K (Phytonadione)<>Lipase pair\n",
      "No Data for Vitamin K (Phytonadione)<>Magnesium pair\n",
      "No Data for Vitamin K (Phytonadione)<>Magnesium pair\n",
      "No Data for Vitamin K (Phytonadione)<>Magnesium, Urine pair\n",
      "No Data for Vitamin K (Phytonadione)<>Magnesium, Urine pair\n",
      "No Data for Vitamin K (Phytonadione)<>Potassium pair\n",
      "No Data for Vitamin K (Phytonadione)<>Potassium pair\n",
      "No Data for Vitamin K (Phytonadione)<>Prothrombin time INR pair\n",
      "No Data for Vitamin K (Phytonadione)<>Prothrombin time INR pair\n",
      "No Data for Vitamin K (Phytonadione)<>Red blood cell pair\n",
      "No Data for Vitamin K (Phytonadione)<>Red blood cell pair\n",
      "No Data for Vitamin K (Phytonadione)<>Uric Acid pair\n",
      "No Data for Vitamin K (Phytonadione)<>Uric Acid pair\n",
      "No Data for Vitamin K (Phytonadione)<>Uric Acid, Urine pair\n",
      "No Data for Vitamin K (Phytonadione)<>Uric Acid, Urine pair\n",
      "No Data for Vitamin K (Phytonadione)<>Vitamin B12 pair\n",
      "No Data for Vitamin K (Phytonadione)<>Vitamin B12 pair\n",
      "No Data for Vivonex (1/2)<>Calcium pair\n",
      "No Data for Vivonex (1/2)<>Calcium pair\n",
      "No Data for Vivonex (1/2)<>Calcium ionized pair\n",
      "No Data for Vivonex (1/2)<>Calcium ionized pair\n",
      "No Data for Vivonex (1/2)<>Creatinine pair\n",
      "No Data for Vivonex (1/2)<>Creatinine pair\n",
      "No Data for Vivonex (1/2)<>Glucose pair\n",
      "No Data for Vivonex (1/2)<>Glucose pair\n",
      "No Data for Vivonex (1/2)<>Hematocrit pair\n",
      "No Data for Vivonex (1/2)<>Hematocrit pair\n",
      "No Data for Vivonex (1/2)<>Hemoglobin pair\n",
      "No Data for Vivonex (1/2)<>Hemoglobin pair\n",
      "No Data for Vivonex (1/2)<>Lactic acid pair\n",
      "No Data for Vivonex (1/2)<>Lactic acid pair\n",
      "No Data for Vivonex (1/2)<>Magnesium pair\n",
      "No Data for Vivonex (1/2)<>Magnesium pair\n",
      "No Data for Vivonex (1/2)<>PTT pair\n",
      "No Data for Vivonex (1/2)<>PTT pair\n",
      "No Data for Vivonex (1/2)<>Platelets pair\n",
      "No Data for Vivonex (1/2)<>Platelets pair\n",
      "No Data for Vivonex (1/2)<>Potassium pair\n",
      "No Data for Vivonex (1/2)<>Potassium pair\n",
      "No Data for Vivonex (1/2)<>Prothrombin time INR pair\n",
      "No Data for Vivonex (1/2)<>Prothrombin time INR pair\n",
      "No Data for Vivonex (1/2)<>Red blood cell pair\n",
      "No Data for Vivonex (1/2)<>Red blood cell pair\n",
      "No Data for Vivonex (1/2)<>Sodium pair\n",
      "No Data for Vivonex (1/2)<>Sodium pair\n",
      "No Data for Vivonex (Full)<>Alanine aminotransferase pair\n",
      "No Data for Vivonex (Full)<>Alanine aminotransferase pair\n",
      "No Data for Vivonex (Full)<>Albumin pair\n",
      "No Data for Vivonex (Full)<>Albumin pair\n",
      "No Data for Vivonex (Full)<>Amylase pair\n",
      "No Data for Vivonex (Full)<>Amylase pair\n",
      "No Data for Vivonex (Full)<>Asparate aminotransferase pair\n",
      "No Data for Vivonex (Full)<>Asparate aminotransferase pair\n",
      "No Data for Vivonex (Full)<>Bilirubin pair\n",
      "No Data for Vivonex (Full)<>Bilirubin pair\n",
      "No Data for Vivonex (Full)<>Calcium pair\n",
      "No Data for Vivonex (Full)<>Calcium pair\n",
      "No Data for Vivonex (Full)<>Calcium ionized pair\n",
      "No Data for Vivonex (Full)<>Calcium ionized pair\n",
      "No Data for Vivonex (Full)<>Creatinine pair\n",
      "No Data for Vivonex (Full)<>Creatinine pair\n",
      "No Data for Vivonex (Full)<>Hemoglobin pair\n",
      "No Data for Vivonex (Full)<>Hemoglobin pair\n",
      "No Data for Vivonex (Full)<>Lactic acid pair\n",
      "No Data for Vivonex (Full)<>Lactic acid pair\n",
      "No Data for Vivonex (Full)<>Lipase pair\n",
      "No Data for Vivonex (Full)<>Lipase pair\n",
      "No Data for Vivonex (Full)<>Magnesium pair\n",
      "No Data for Vivonex (Full)<>Magnesium pair\n",
      "No Data for Vivonex (Full)<>Potassium pair\n",
      "No Data for Vivonex (Full)<>Potassium pair\n",
      "No Data for Vivonex (Full)<>Prothrombin time INR pair\n",
      "No Data for Vivonex (Full)<>Prothrombin time INR pair\n",
      "No Data for Vivonex (Full)<>Red blood cell pair\n",
      "No Data for Vivonex (Full)<>Red blood cell pair\n",
      "No Data for Voriconazole<>Albumin pair\n",
      "No Data for Voriconazole<>Albumin pair\n",
      "No Data for Voriconazole<>Amylase pair\n",
      "No Data for Voriconazole<>Amylase pair\n",
      "No Data for Voriconazole<>Bilirubin pair\n",
      "No Data for Voriconazole<>Bilirubin pair\n",
      "No Data for Voriconazole<>Calcium pair\n",
      "No Data for Voriconazole<>Calcium pair\n",
      "No Data for Voriconazole<>Calcium ionized pair\n",
      "No Data for Voriconazole<>Calcium ionized pair\n",
      "No Data for Voriconazole<>Creatinine pair\n",
      "No Data for Voriconazole<>Creatinine pair\n",
      "No Data for Voriconazole<>Hemoglobin pair\n",
      "No Data for Voriconazole<>Hemoglobin pair\n",
      "No Data for Voriconazole<>Hemoglobin percent pair\n",
      "No Data for Voriconazole<>Hemoglobin percent pair\n",
      "No Data for Voriconazole<>Lactic acid pair\n",
      "No Data for Voriconazole<>Lactic acid pair\n",
      "No Data for Voriconazole<>Lipase pair\n",
      "No Data for Voriconazole<>Lipase pair\n",
      "No Data for Voriconazole<>Magnesium pair\n",
      "No Data for Voriconazole<>Magnesium pair\n",
      "No Data for Voriconazole<>Potassium pair\n",
      "No Data for Voriconazole<>Potassium pair\n",
      "No Data for Voriconazole<>Prothrombin time INR pair\n",
      "No Data for Voriconazole<>Prothrombin time INR pair\n",
      "No Data for Voriconazole<>Red blood cell pair\n",
      "No Data for Voriconazole<>Red blood cell pair\n",
      "No Data for Voriconazole<>Uric Acid pair\n",
      "No Data for Voriconazole<>Uric Acid pair\n"
     ]
    },
    {
     "data": {
      "text/plain": [
       "<Figure size 600x600 with 0 Axes>"
      ]
     },
     "metadata": {},
     "output_type": "display_data"
    },
    {
     "data": {
      "text/plain": [
       "<Figure size 1800x900 with 0 Axes>"
      ]
     },
     "metadata": {},
     "output_type": "display_data"
    },
    {
     "data": {
      "text/plain": [
       "<Figure size 600x600 with 0 Axes>"
      ]
     },
     "metadata": {},
     "output_type": "display_data"
    },
    {
     "data": {
      "text/plain": [
       "<Figure size 1800x900 with 0 Axes>"
      ]
     },
     "metadata": {},
     "output_type": "display_data"
    },
    {
     "data": {
      "text/plain": [
       "<Figure size 600x600 with 0 Axes>"
      ]
     },
     "metadata": {},
     "output_type": "display_data"
    },
    {
     "data": {
      "text/plain": [
       "<Figure size 1800x900 with 0 Axes>"
      ]
     },
     "metadata": {},
     "output_type": "display_data"
    },
    {
     "data": {
      "text/plain": [
       "<Figure size 600x600 with 0 Axes>"
      ]
     },
     "metadata": {},
     "output_type": "display_data"
    },
    {
     "data": {
      "text/plain": [
       "<Figure size 1800x900 with 0 Axes>"
      ]
     },
     "metadata": {},
     "output_type": "display_data"
    },
    {
     "data": {
      "text/plain": [
       "<Figure size 600x600 with 0 Axes>"
      ]
     },
     "metadata": {},
     "output_type": "display_data"
    },
    {
     "data": {
      "text/plain": [
       "<Figure size 1800x900 with 0 Axes>"
      ]
     },
     "metadata": {},
     "output_type": "display_data"
    },
    {
     "data": {
      "text/plain": [
       "<Figure size 600x600 with 0 Axes>"
      ]
     },
     "metadata": {},
     "output_type": "display_data"
    },
    {
     "data": {
      "text/plain": [
       "<Figure size 1800x900 with 0 Axes>"
      ]
     },
     "metadata": {},
     "output_type": "display_data"
    },
    {
     "data": {
      "text/plain": [
       "<Figure size 600x600 with 0 Axes>"
      ]
     },
     "metadata": {},
     "output_type": "display_data"
    },
    {
     "data": {
      "text/plain": [
       "<Figure size 1800x900 with 0 Axes>"
      ]
     },
     "metadata": {},
     "output_type": "display_data"
    },
    {
     "data": {
      "text/plain": [
       "<Figure size 600x600 with 0 Axes>"
      ]
     },
     "metadata": {},
     "output_type": "display_data"
    },
    {
     "data": {
      "text/plain": [
       "<Figure size 1800x900 with 0 Axes>"
      ]
     },
     "metadata": {},
     "output_type": "display_data"
    },
    {
     "data": {
      "text/plain": [
       "<Figure size 600x600 with 0 Axes>"
      ]
     },
     "metadata": {},
     "output_type": "display_data"
    },
    {
     "data": {
      "text/plain": [
       "<Figure size 1800x900 with 0 Axes>"
      ]
     },
     "metadata": {},
     "output_type": "display_data"
    },
    {
     "data": {
      "text/plain": [
       "<Figure size 600x600 with 0 Axes>"
      ]
     },
     "metadata": {},
     "output_type": "display_data"
    },
    {
     "data": {
      "text/plain": [
       "<Figure size 1800x900 with 0 Axes>"
      ]
     },
     "metadata": {},
     "output_type": "display_data"
    },
    {
     "data": {
      "text/plain": [
       "<Figure size 600x600 with 0 Axes>"
      ]
     },
     "metadata": {},
     "output_type": "display_data"
    },
    {
     "data": {
      "text/plain": [
       "<Figure size 1800x900 with 0 Axes>"
      ]
     },
     "metadata": {},
     "output_type": "display_data"
    },
    {
     "data": {
      "text/plain": [
       "<Figure size 600x600 with 0 Axes>"
      ]
     },
     "metadata": {},
     "output_type": "display_data"
    },
    {
     "data": {
      "text/plain": [
       "<Figure size 1800x900 with 0 Axes>"
      ]
     },
     "metadata": {},
     "output_type": "display_data"
    },
    {
     "data": {
      "text/plain": [
       "<Figure size 600x600 with 0 Axes>"
      ]
     },
     "metadata": {},
     "output_type": "display_data"
    },
    {
     "data": {
      "text/plain": [
       "<Figure size 1800x900 with 0 Axes>"
      ]
     },
     "metadata": {},
     "output_type": "display_data"
    },
    {
     "data": {
      "text/plain": [
       "<Figure size 600x600 with 0 Axes>"
      ]
     },
     "metadata": {},
     "output_type": "display_data"
    },
    {
     "data": {
      "text/plain": [
       "<Figure size 1800x900 with 0 Axes>"
      ]
     },
     "metadata": {},
     "output_type": "display_data"
    },
    {
     "data": {
      "text/plain": [
       "<Figure size 600x600 with 0 Axes>"
      ]
     },
     "metadata": {},
     "output_type": "display_data"
    },
    {
     "data": {
      "text/plain": [
       "<Figure size 1800x900 with 0 Axes>"
      ]
     },
     "metadata": {},
     "output_type": "display_data"
    },
    {
     "data": {
      "text/plain": [
       "<Figure size 600x600 with 0 Axes>"
      ]
     },
     "metadata": {},
     "output_type": "display_data"
    },
    {
     "data": {
      "text/plain": [
       "<Figure size 1800x900 with 0 Axes>"
      ]
     },
     "metadata": {},
     "output_type": "display_data"
    },
    {
     "data": {
      "text/plain": [
       "<Figure size 600x600 with 0 Axes>"
      ]
     },
     "metadata": {},
     "output_type": "display_data"
    },
    {
     "data": {
      "text/plain": [
       "<Figure size 1800x900 with 0 Axes>"
      ]
     },
     "metadata": {},
     "output_type": "display_data"
    },
    {
     "data": {
      "text/plain": [
       "<Figure size 600x600 with 0 Axes>"
      ]
     },
     "metadata": {},
     "output_type": "display_data"
    },
    {
     "data": {
      "text/plain": [
       "<Figure size 1800x900 with 0 Axes>"
      ]
     },
     "metadata": {},
     "output_type": "display_data"
    },
    {
     "data": {
      "text/plain": [
       "<Figure size 600x600 with 0 Axes>"
      ]
     },
     "metadata": {},
     "output_type": "display_data"
    },
    {
     "data": {
      "text/plain": [
       "<Figure size 1800x900 with 0 Axes>"
      ]
     },
     "metadata": {},
     "output_type": "display_data"
    },
    {
     "data": {
      "text/plain": [
       "<Figure size 600x600 with 0 Axes>"
      ]
     },
     "metadata": {},
     "output_type": "display_data"
    },
    {
     "data": {
      "text/plain": [
       "<Figure size 1800x900 with 0 Axes>"
      ]
     },
     "metadata": {},
     "output_type": "display_data"
    },
    {
     "data": {
      "text/plain": [
       "<Figure size 600x600 with 0 Axes>"
      ]
     },
     "metadata": {},
     "output_type": "display_data"
    },
    {
     "data": {
      "text/plain": [
       "<Figure size 1800x900 with 0 Axes>"
      ]
     },
     "metadata": {},
     "output_type": "display_data"
    },
    {
     "data": {
      "text/plain": [
       "<Figure size 600x600 with 0 Axes>"
      ]
     },
     "metadata": {},
     "output_type": "display_data"
    },
    {
     "data": {
      "text/plain": [
       "<Figure size 1800x900 with 0 Axes>"
      ]
     },
     "metadata": {},
     "output_type": "display_data"
    },
    {
     "data": {
      "text/plain": [
       "<Figure size 600x600 with 0 Axes>"
      ]
     },
     "metadata": {},
     "output_type": "display_data"
    },
    {
     "data": {
      "text/plain": [
       "<Figure size 1800x900 with 0 Axes>"
      ]
     },
     "metadata": {},
     "output_type": "display_data"
    },
    {
     "data": {
      "text/plain": [
       "<Figure size 600x600 with 0 Axes>"
      ]
     },
     "metadata": {},
     "output_type": "display_data"
    },
    {
     "data": {
      "text/plain": [
       "<Figure size 1800x900 with 0 Axes>"
      ]
     },
     "metadata": {},
     "output_type": "display_data"
    },
    {
     "data": {
      "text/plain": [
       "<Figure size 600x600 with 0 Axes>"
      ]
     },
     "metadata": {},
     "output_type": "display_data"
    },
    {
     "data": {
      "text/plain": [
       "<Figure size 1800x900 with 0 Axes>"
      ]
     },
     "metadata": {},
     "output_type": "display_data"
    },
    {
     "data": {
      "text/plain": [
       "<Figure size 600x600 with 0 Axes>"
      ]
     },
     "metadata": {},
     "output_type": "display_data"
    },
    {
     "data": {
      "text/plain": [
       "<Figure size 1800x900 with 0 Axes>"
      ]
     },
     "metadata": {},
     "output_type": "display_data"
    },
    {
     "data": {
      "text/plain": [
       "<Figure size 600x600 with 0 Axes>"
      ]
     },
     "metadata": {},
     "output_type": "display_data"
    },
    {
     "data": {
      "text/plain": [
       "<Figure size 1800x900 with 0 Axes>"
      ]
     },
     "metadata": {},
     "output_type": "display_data"
    },
    {
     "data": {
      "text/plain": [
       "<Figure size 600x600 with 0 Axes>"
      ]
     },
     "metadata": {},
     "output_type": "display_data"
    },
    {
     "data": {
      "text/plain": [
       "<Figure size 1800x900 with 0 Axes>"
      ]
     },
     "metadata": {},
     "output_type": "display_data"
    },
    {
     "data": {
      "text/plain": [
       "<Figure size 600x600 with 0 Axes>"
      ]
     },
     "metadata": {},
     "output_type": "display_data"
    },
    {
     "data": {
      "text/plain": [
       "<Figure size 1800x900 with 0 Axes>"
      ]
     },
     "metadata": {},
     "output_type": "display_data"
    },
    {
     "data": {
      "text/plain": [
       "<Figure size 600x600 with 0 Axes>"
      ]
     },
     "metadata": {},
     "output_type": "display_data"
    },
    {
     "data": {
      "text/plain": [
       "<Figure size 1800x900 with 0 Axes>"
      ]
     },
     "metadata": {},
     "output_type": "display_data"
    },
    {
     "data": {
      "text/plain": [
       "<Figure size 600x600 with 0 Axes>"
      ]
     },
     "metadata": {},
     "output_type": "display_data"
    },
    {
     "data": {
      "text/plain": [
       "<Figure size 1800x900 with 0 Axes>"
      ]
     },
     "metadata": {},
     "output_type": "display_data"
    },
    {
     "data": {
      "text/plain": [
       "<Figure size 600x600 with 0 Axes>"
      ]
     },
     "metadata": {},
     "output_type": "display_data"
    },
    {
     "data": {
      "text/plain": [
       "<Figure size 1800x900 with 0 Axes>"
      ]
     },
     "metadata": {},
     "output_type": "display_data"
    },
    {
     "data": {
      "text/plain": [
       "<Figure size 600x600 with 0 Axes>"
      ]
     },
     "metadata": {},
     "output_type": "display_data"
    },
    {
     "data": {
      "text/plain": [
       "<Figure size 1800x900 with 0 Axes>"
      ]
     },
     "metadata": {},
     "output_type": "display_data"
    },
    {
     "data": {
      "text/plain": [
       "<Figure size 600x600 with 0 Axes>"
      ]
     },
     "metadata": {},
     "output_type": "display_data"
    },
    {
     "data": {
      "text/plain": [
       "<Figure size 1800x900 with 0 Axes>"
      ]
     },
     "metadata": {},
     "output_type": "display_data"
    },
    {
     "data": {
      "text/plain": [
       "<Figure size 600x600 with 0 Axes>"
      ]
     },
     "metadata": {},
     "output_type": "display_data"
    },
    {
     "data": {
      "text/plain": [
       "<Figure size 1800x900 with 0 Axes>"
      ]
     },
     "metadata": {},
     "output_type": "display_data"
    },
    {
     "data": {
      "text/plain": [
       "<Figure size 600x600 with 0 Axes>"
      ]
     },
     "metadata": {},
     "output_type": "display_data"
    },
    {
     "data": {
      "text/plain": [
       "<Figure size 1800x900 with 0 Axes>"
      ]
     },
     "metadata": {},
     "output_type": "display_data"
    },
    {
     "data": {
      "text/plain": [
       "<Figure size 600x600 with 0 Axes>"
      ]
     },
     "metadata": {},
     "output_type": "display_data"
    },
    {
     "data": {
      "text/plain": [
       "<Figure size 1800x900 with 0 Axes>"
      ]
     },
     "metadata": {},
     "output_type": "display_data"
    },
    {
     "data": {
      "text/plain": [
       "<Figure size 600x600 with 0 Axes>"
      ]
     },
     "metadata": {},
     "output_type": "display_data"
    },
    {
     "data": {
      "text/plain": [
       "<Figure size 1800x900 with 0 Axes>"
      ]
     },
     "metadata": {},
     "output_type": "display_data"
    },
    {
     "data": {
      "text/plain": [
       "<Figure size 600x600 with 0 Axes>"
      ]
     },
     "metadata": {},
     "output_type": "display_data"
    },
    {
     "data": {
      "text/plain": [
       "<Figure size 1800x900 with 0 Axes>"
      ]
     },
     "metadata": {},
     "output_type": "display_data"
    },
    {
     "data": {
      "text/plain": [
       "<Figure size 600x600 with 0 Axes>"
      ]
     },
     "metadata": {},
     "output_type": "display_data"
    },
    {
     "data": {
      "text/plain": [
       "<Figure size 1800x900 with 0 Axes>"
      ]
     },
     "metadata": {},
     "output_type": "display_data"
    },
    {
     "data": {
      "text/plain": [
       "<Figure size 600x600 with 0 Axes>"
      ]
     },
     "metadata": {},
     "output_type": "display_data"
    },
    {
     "data": {
      "text/plain": [
       "<Figure size 1800x900 with 0 Axes>"
      ]
     },
     "metadata": {},
     "output_type": "display_data"
    },
    {
     "data": {
      "text/plain": [
       "<Figure size 600x600 with 0 Axes>"
      ]
     },
     "metadata": {},
     "output_type": "display_data"
    },
    {
     "data": {
      "text/plain": [
       "<Figure size 1800x900 with 0 Axes>"
      ]
     },
     "metadata": {},
     "output_type": "display_data"
    },
    {
     "data": {
      "text/plain": [
       "<Figure size 600x600 with 0 Axes>"
      ]
     },
     "metadata": {},
     "output_type": "display_data"
    },
    {
     "data": {
      "text/plain": [
       "<Figure size 1800x900 with 0 Axes>"
      ]
     },
     "metadata": {},
     "output_type": "display_data"
    },
    {
     "data": {
      "text/plain": [
       "<Figure size 600x600 with 0 Axes>"
      ]
     },
     "metadata": {},
     "output_type": "display_data"
    },
    {
     "data": {
      "text/plain": [
       "<Figure size 1800x900 with 0 Axes>"
      ]
     },
     "metadata": {},
     "output_type": "display_data"
    },
    {
     "data": {
      "text/plain": [
       "<Figure size 600x600 with 0 Axes>"
      ]
     },
     "metadata": {},
     "output_type": "display_data"
    },
    {
     "data": {
      "text/plain": [
       "<Figure size 1800x900 with 0 Axes>"
      ]
     },
     "metadata": {},
     "output_type": "display_data"
    },
    {
     "data": {
      "text/plain": [
       "<Figure size 600x600 with 0 Axes>"
      ]
     },
     "metadata": {},
     "output_type": "display_data"
    },
    {
     "data": {
      "text/plain": [
       "<Figure size 1800x900 with 0 Axes>"
      ]
     },
     "metadata": {},
     "output_type": "display_data"
    },
    {
     "data": {
      "text/plain": [
       "<Figure size 600x600 with 0 Axes>"
      ]
     },
     "metadata": {},
     "output_type": "display_data"
    },
    {
     "data": {
      "text/plain": [
       "<Figure size 1800x900 with 0 Axes>"
      ]
     },
     "metadata": {},
     "output_type": "display_data"
    },
    {
     "data": {
      "text/plain": [
       "<Figure size 600x600 with 0 Axes>"
      ]
     },
     "metadata": {},
     "output_type": "display_data"
    },
    {
     "data": {
      "text/plain": [
       "<Figure size 1800x900 with 0 Axes>"
      ]
     },
     "metadata": {},
     "output_type": "display_data"
    },
    {
     "data": {
      "text/plain": [
       "<Figure size 600x600 with 0 Axes>"
      ]
     },
     "metadata": {},
     "output_type": "display_data"
    },
    {
     "data": {
      "text/plain": [
       "<Figure size 1800x900 with 0 Axes>"
      ]
     },
     "metadata": {},
     "output_type": "display_data"
    },
    {
     "data": {
      "text/plain": [
       "<Figure size 600x600 with 0 Axes>"
      ]
     },
     "metadata": {},
     "output_type": "display_data"
    },
    {
     "data": {
      "text/plain": [
       "<Figure size 1800x900 with 0 Axes>"
      ]
     },
     "metadata": {},
     "output_type": "display_data"
    },
    {
     "data": {
      "text/plain": [
       "<Figure size 600x600 with 0 Axes>"
      ]
     },
     "metadata": {},
     "output_type": "display_data"
    },
    {
     "data": {
      "text/plain": [
       "<Figure size 1800x900 with 0 Axes>"
      ]
     },
     "metadata": {},
     "output_type": "display_data"
    },
    {
     "data": {
      "text/plain": [
       "<Figure size 600x600 with 0 Axes>"
      ]
     },
     "metadata": {},
     "output_type": "display_data"
    },
    {
     "data": {
      "text/plain": [
       "<Figure size 1800x900 with 0 Axes>"
      ]
     },
     "metadata": {},
     "output_type": "display_data"
    },
    {
     "data": {
      "text/plain": [
       "<Figure size 600x600 with 0 Axes>"
      ]
     },
     "metadata": {},
     "output_type": "display_data"
    },
    {
     "data": {
      "text/plain": [
       "<Figure size 1800x900 with 0 Axes>"
      ]
     },
     "metadata": {},
     "output_type": "display_data"
    },
    {
     "data": {
      "text/plain": [
       "<Figure size 600x600 with 0 Axes>"
      ]
     },
     "metadata": {},
     "output_type": "display_data"
    },
    {
     "data": {
      "text/plain": [
       "<Figure size 1800x900 with 0 Axes>"
      ]
     },
     "metadata": {},
     "output_type": "display_data"
    },
    {
     "data": {
      "text/plain": [
       "<Figure size 600x600 with 0 Axes>"
      ]
     },
     "metadata": {},
     "output_type": "display_data"
    },
    {
     "data": {
      "text/plain": [
       "<Figure size 1800x900 with 0 Axes>"
      ]
     },
     "metadata": {},
     "output_type": "display_data"
    },
    {
     "data": {
      "text/plain": [
       "<Figure size 600x600 with 0 Axes>"
      ]
     },
     "metadata": {},
     "output_type": "display_data"
    },
    {
     "data": {
      "text/plain": [
       "<Figure size 1800x900 with 0 Axes>"
      ]
     },
     "metadata": {},
     "output_type": "display_data"
    },
    {
     "data": {
      "text/plain": [
       "<Figure size 600x600 with 0 Axes>"
      ]
     },
     "metadata": {},
     "output_type": "display_data"
    },
    {
     "data": {
      "text/plain": [
       "<Figure size 1800x900 with 0 Axes>"
      ]
     },
     "metadata": {},
     "output_type": "display_data"
    },
    {
     "data": {
      "text/plain": [
       "<Figure size 600x600 with 0 Axes>"
      ]
     },
     "metadata": {},
     "output_type": "display_data"
    },
    {
     "data": {
      "text/plain": [
       "<Figure size 1800x900 with 0 Axes>"
      ]
     },
     "metadata": {},
     "output_type": "display_data"
    },
    {
     "data": {
      "text/plain": [
       "<Figure size 600x600 with 0 Axes>"
      ]
     },
     "metadata": {},
     "output_type": "display_data"
    },
    {
     "data": {
      "text/plain": [
       "<Figure size 1800x900 with 0 Axes>"
      ]
     },
     "metadata": {},
     "output_type": "display_data"
    },
    {
     "data": {
      "text/plain": [
       "<Figure size 600x600 with 0 Axes>"
      ]
     },
     "metadata": {},
     "output_type": "display_data"
    },
    {
     "data": {
      "text/plain": [
       "<Figure size 1800x900 with 0 Axes>"
      ]
     },
     "metadata": {},
     "output_type": "display_data"
    },
    {
     "data": {
      "text/plain": [
       "<Figure size 600x600 with 0 Axes>"
      ]
     },
     "metadata": {},
     "output_type": "display_data"
    },
    {
     "data": {
      "text/plain": [
       "<Figure size 1800x900 with 0 Axes>"
      ]
     },
     "metadata": {},
     "output_type": "display_data"
    },
    {
     "data": {
      "text/plain": [
       "<Figure size 600x600 with 0 Axes>"
      ]
     },
     "metadata": {},
     "output_type": "display_data"
    },
    {
     "data": {
      "text/plain": [
       "<Figure size 1800x900 with 0 Axes>"
      ]
     },
     "metadata": {},
     "output_type": "display_data"
    },
    {
     "data": {
      "text/plain": [
       "<Figure size 600x600 with 0 Axes>"
      ]
     },
     "metadata": {},
     "output_type": "display_data"
    },
    {
     "data": {
      "text/plain": [
       "<Figure size 1800x900 with 0 Axes>"
      ]
     },
     "metadata": {},
     "output_type": "display_data"
    },
    {
     "data": {
      "text/plain": [
       "<Figure size 600x600 with 0 Axes>"
      ]
     },
     "metadata": {},
     "output_type": "display_data"
    },
    {
     "data": {
      "text/plain": [
       "<Figure size 1800x900 with 0 Axes>"
      ]
     },
     "metadata": {},
     "output_type": "display_data"
    },
    {
     "data": {
      "text/plain": [
       "<Figure size 600x600 with 0 Axes>"
      ]
     },
     "metadata": {},
     "output_type": "display_data"
    },
    {
     "data": {
      "text/plain": [
       "<Figure size 1800x900 with 0 Axes>"
      ]
     },
     "metadata": {},
     "output_type": "display_data"
    },
    {
     "data": {
      "text/plain": [
       "<Figure size 600x600 with 0 Axes>"
      ]
     },
     "metadata": {},
     "output_type": "display_data"
    },
    {
     "data": {
      "text/plain": [
       "<Figure size 1800x900 with 0 Axes>"
      ]
     },
     "metadata": {},
     "output_type": "display_data"
    },
    {
     "data": {
      "text/plain": [
       "<Figure size 600x600 with 0 Axes>"
      ]
     },
     "metadata": {},
     "output_type": "display_data"
    },
    {
     "data": {
      "text/plain": [
       "<Figure size 1800x900 with 0 Axes>"
      ]
     },
     "metadata": {},
     "output_type": "display_data"
    },
    {
     "data": {
      "text/plain": [
       "<Figure size 600x600 with 0 Axes>"
      ]
     },
     "metadata": {},
     "output_type": "display_data"
    },
    {
     "data": {
      "text/plain": [
       "<Figure size 1800x900 with 0 Axes>"
      ]
     },
     "metadata": {},
     "output_type": "display_data"
    },
    {
     "data": {
      "text/plain": [
       "<Figure size 600x600 with 0 Axes>"
      ]
     },
     "metadata": {},
     "output_type": "display_data"
    },
    {
     "data": {
      "text/plain": [
       "<Figure size 1800x900 with 0 Axes>"
      ]
     },
     "metadata": {},
     "output_type": "display_data"
    },
    {
     "data": {
      "text/plain": [
       "<Figure size 600x600 with 0 Axes>"
      ]
     },
     "metadata": {},
     "output_type": "display_data"
    },
    {
     "data": {
      "text/plain": [
       "<Figure size 1800x900 with 0 Axes>"
      ]
     },
     "metadata": {},
     "output_type": "display_data"
    },
    {
     "data": {
      "text/plain": [
       "<Figure size 600x600 with 0 Axes>"
      ]
     },
     "metadata": {},
     "output_type": "display_data"
    },
    {
     "data": {
      "text/plain": [
       "<Figure size 1800x900 with 0 Axes>"
      ]
     },
     "metadata": {},
     "output_type": "display_data"
    },
    {
     "data": {
      "text/plain": [
       "<Figure size 600x600 with 0 Axes>"
      ]
     },
     "metadata": {},
     "output_type": "display_data"
    },
    {
     "data": {
      "text/plain": [
       "<Figure size 1800x900 with 0 Axes>"
      ]
     },
     "metadata": {},
     "output_type": "display_data"
    },
    {
     "data": {
      "text/plain": [
       "<Figure size 600x600 with 0 Axes>"
      ]
     },
     "metadata": {},
     "output_type": "display_data"
    },
    {
     "data": {
      "text/plain": [
       "<Figure size 1800x900 with 0 Axes>"
      ]
     },
     "metadata": {},
     "output_type": "display_data"
    },
    {
     "data": {
      "text/plain": [
       "<Figure size 600x600 with 0 Axes>"
      ]
     },
     "metadata": {},
     "output_type": "display_data"
    },
    {
     "data": {
      "text/plain": [
       "<Figure size 1800x900 with 0 Axes>"
      ]
     },
     "metadata": {},
     "output_type": "display_data"
    },
    {
     "data": {
      "text/plain": [
       "<Figure size 600x600 with 0 Axes>"
      ]
     },
     "metadata": {},
     "output_type": "display_data"
    },
    {
     "data": {
      "text/plain": [
       "<Figure size 1800x900 with 0 Axes>"
      ]
     },
     "metadata": {},
     "output_type": "display_data"
    },
    {
     "data": {
      "text/plain": [
       "<Figure size 600x600 with 0 Axes>"
      ]
     },
     "metadata": {},
     "output_type": "display_data"
    },
    {
     "data": {
      "text/plain": [
       "<Figure size 1800x900 with 0 Axes>"
      ]
     },
     "metadata": {},
     "output_type": "display_data"
    },
    {
     "data": {
      "text/plain": [
       "<Figure size 600x600 with 0 Axes>"
      ]
     },
     "metadata": {},
     "output_type": "display_data"
    },
    {
     "data": {
      "text/plain": [
       "<Figure size 1800x900 with 0 Axes>"
      ]
     },
     "metadata": {},
     "output_type": "display_data"
    },
    {
     "data": {
      "text/plain": [
       "<Figure size 600x600 with 0 Axes>"
      ]
     },
     "metadata": {},
     "output_type": "display_data"
    },
    {
     "data": {
      "text/plain": [
       "<Figure size 1800x900 with 0 Axes>"
      ]
     },
     "metadata": {},
     "output_type": "display_data"
    },
    {
     "data": {
      "text/plain": [
       "<Figure size 600x600 with 0 Axes>"
      ]
     },
     "metadata": {},
     "output_type": "display_data"
    },
    {
     "data": {
      "text/plain": [
       "<Figure size 1800x900 with 0 Axes>"
      ]
     },
     "metadata": {},
     "output_type": "display_data"
    },
    {
     "data": {
      "text/plain": [
       "<Figure size 600x600 with 0 Axes>"
      ]
     },
     "metadata": {},
     "output_type": "display_data"
    },
    {
     "data": {
      "text/plain": [
       "<Figure size 1800x900 with 0 Axes>"
      ]
     },
     "metadata": {},
     "output_type": "display_data"
    },
    {
     "data": {
      "text/plain": [
       "<Figure size 600x600 with 0 Axes>"
      ]
     },
     "metadata": {},
     "output_type": "display_data"
    },
    {
     "data": {
      "text/plain": [
       "<Figure size 1800x900 with 0 Axes>"
      ]
     },
     "metadata": {},
     "output_type": "display_data"
    },
    {
     "data": {
      "text/plain": [
       "<Figure size 600x600 with 0 Axes>"
      ]
     },
     "metadata": {},
     "output_type": "display_data"
    },
    {
     "data": {
      "text/plain": [
       "<Figure size 1800x900 with 0 Axes>"
      ]
     },
     "metadata": {},
     "output_type": "display_data"
    },
    {
     "data": {
      "text/plain": [
       "<Figure size 600x600 with 0 Axes>"
      ]
     },
     "metadata": {},
     "output_type": "display_data"
    },
    {
     "data": {
      "text/plain": [
       "<Figure size 1800x900 with 0 Axes>"
      ]
     },
     "metadata": {},
     "output_type": "display_data"
    },
    {
     "data": {
      "text/plain": [
       "<Figure size 600x600 with 0 Axes>"
      ]
     },
     "metadata": {},
     "output_type": "display_data"
    },
    {
     "data": {
      "text/plain": [
       "<Figure size 1800x900 with 0 Axes>"
      ]
     },
     "metadata": {},
     "output_type": "display_data"
    },
    {
     "data": {
      "text/plain": [
       "<Figure size 600x600 with 0 Axes>"
      ]
     },
     "metadata": {},
     "output_type": "display_data"
    },
    {
     "data": {
      "text/plain": [
       "<Figure size 1800x900 with 0 Axes>"
      ]
     },
     "metadata": {},
     "output_type": "display_data"
    },
    {
     "data": {
      "text/plain": [
       "<Figure size 600x600 with 0 Axes>"
      ]
     },
     "metadata": {},
     "output_type": "display_data"
    },
    {
     "data": {
      "text/plain": [
       "<Figure size 1800x900 with 0 Axes>"
      ]
     },
     "metadata": {},
     "output_type": "display_data"
    },
    {
     "data": {
      "text/plain": [
       "<Figure size 600x600 with 0 Axes>"
      ]
     },
     "metadata": {},
     "output_type": "display_data"
    },
    {
     "data": {
      "text/plain": [
       "<Figure size 1800x900 with 0 Axes>"
      ]
     },
     "metadata": {},
     "output_type": "display_data"
    },
    {
     "data": {
      "text/plain": [
       "<Figure size 600x600 with 0 Axes>"
      ]
     },
     "metadata": {},
     "output_type": "display_data"
    },
    {
     "data": {
      "text/plain": [
       "<Figure size 1800x900 with 0 Axes>"
      ]
     },
     "metadata": {},
     "output_type": "display_data"
    },
    {
     "data": {
      "text/plain": [
       "<Figure size 600x600 with 0 Axes>"
      ]
     },
     "metadata": {},
     "output_type": "display_data"
    },
    {
     "data": {
      "text/plain": [
       "<Figure size 1800x900 with 0 Axes>"
      ]
     },
     "metadata": {},
     "output_type": "display_data"
    },
    {
     "data": {
      "text/plain": [
       "<Figure size 600x600 with 0 Axes>"
      ]
     },
     "metadata": {},
     "output_type": "display_data"
    },
    {
     "data": {
      "text/plain": [
       "<Figure size 1800x900 with 0 Axes>"
      ]
     },
     "metadata": {},
     "output_type": "display_data"
    },
    {
     "data": {
      "text/plain": [
       "<Figure size 600x600 with 0 Axes>"
      ]
     },
     "metadata": {},
     "output_type": "display_data"
    },
    {
     "data": {
      "text/plain": [
       "<Figure size 1800x900 with 0 Axes>"
      ]
     },
     "metadata": {},
     "output_type": "display_data"
    },
    {
     "data": {
      "text/plain": [
       "<Figure size 600x600 with 0 Axes>"
      ]
     },
     "metadata": {},
     "output_type": "display_data"
    },
    {
     "data": {
      "text/plain": [
       "<Figure size 1800x900 with 0 Axes>"
      ]
     },
     "metadata": {},
     "output_type": "display_data"
    },
    {
     "data": {
      "text/plain": [
       "<Figure size 600x600 with 0 Axes>"
      ]
     },
     "metadata": {},
     "output_type": "display_data"
    },
    {
     "data": {
      "text/plain": [
       "<Figure size 1800x900 with 0 Axes>"
      ]
     },
     "metadata": {},
     "output_type": "display_data"
    },
    {
     "data": {
      "text/plain": [
       "<Figure size 600x600 with 0 Axes>"
      ]
     },
     "metadata": {},
     "output_type": "display_data"
    },
    {
     "data": {
      "text/plain": [
       "<Figure size 1800x900 with 0 Axes>"
      ]
     },
     "metadata": {},
     "output_type": "display_data"
    },
    {
     "data": {
      "text/plain": [
       "<Figure size 600x600 with 0 Axes>"
      ]
     },
     "metadata": {},
     "output_type": "display_data"
    },
    {
     "data": {
      "text/plain": [
       "<Figure size 1800x900 with 0 Axes>"
      ]
     },
     "metadata": {},
     "output_type": "display_data"
    },
    {
     "data": {
      "text/plain": [
       "<Figure size 600x600 with 0 Axes>"
      ]
     },
     "metadata": {},
     "output_type": "display_data"
    },
    {
     "data": {
      "text/plain": [
       "<Figure size 1800x900 with 0 Axes>"
      ]
     },
     "metadata": {},
     "output_type": "display_data"
    },
    {
     "data": {
      "text/plain": [
       "<Figure size 600x600 with 0 Axes>"
      ]
     },
     "metadata": {},
     "output_type": "display_data"
    },
    {
     "data": {
      "text/plain": [
       "<Figure size 1800x900 with 0 Axes>"
      ]
     },
     "metadata": {},
     "output_type": "display_data"
    },
    {
     "data": {
      "text/plain": [
       "<Figure size 600x600 with 0 Axes>"
      ]
     },
     "metadata": {},
     "output_type": "display_data"
    },
    {
     "data": {
      "text/plain": [
       "<Figure size 1800x900 with 0 Axes>"
      ]
     },
     "metadata": {},
     "output_type": "display_data"
    },
    {
     "data": {
      "text/plain": [
       "<Figure size 600x600 with 0 Axes>"
      ]
     },
     "metadata": {},
     "output_type": "display_data"
    },
    {
     "data": {
      "text/plain": [
       "<Figure size 1800x900 with 0 Axes>"
      ]
     },
     "metadata": {},
     "output_type": "display_data"
    },
    {
     "data": {
      "text/plain": [
       "<Figure size 600x600 with 0 Axes>"
      ]
     },
     "metadata": {},
     "output_type": "display_data"
    },
    {
     "data": {
      "text/plain": [
       "<Figure size 1800x900 with 0 Axes>"
      ]
     },
     "metadata": {},
     "output_type": "display_data"
    },
    {
     "data": {
      "text/plain": [
       "<Figure size 600x600 with 0 Axes>"
      ]
     },
     "metadata": {},
     "output_type": "display_data"
    },
    {
     "data": {
      "text/plain": [
       "<Figure size 1800x900 with 0 Axes>"
      ]
     },
     "metadata": {},
     "output_type": "display_data"
    },
    {
     "data": {
      "text/plain": [
       "<Figure size 600x600 with 0 Axes>"
      ]
     },
     "metadata": {},
     "output_type": "display_data"
    },
    {
     "data": {
      "text/plain": [
       "<Figure size 1800x900 with 0 Axes>"
      ]
     },
     "metadata": {},
     "output_type": "display_data"
    },
    {
     "data": {
      "text/plain": [
       "<Figure size 600x600 with 0 Axes>"
      ]
     },
     "metadata": {},
     "output_type": "display_data"
    },
    {
     "data": {
      "text/plain": [
       "<Figure size 1800x900 with 0 Axes>"
      ]
     },
     "metadata": {},
     "output_type": "display_data"
    },
    {
     "data": {
      "text/plain": [
       "<Figure size 600x600 with 0 Axes>"
      ]
     },
     "metadata": {},
     "output_type": "display_data"
    },
    {
     "data": {
      "text/plain": [
       "<Figure size 1800x900 with 0 Axes>"
      ]
     },
     "metadata": {},
     "output_type": "display_data"
    },
    {
     "data": {
      "text/plain": [
       "<Figure size 600x600 with 0 Axes>"
      ]
     },
     "metadata": {},
     "output_type": "display_data"
    },
    {
     "data": {
      "text/plain": [
       "<Figure size 1800x900 with 0 Axes>"
      ]
     },
     "metadata": {},
     "output_type": "display_data"
    },
    {
     "data": {
      "text/plain": [
       "<Figure size 600x600 with 0 Axes>"
      ]
     },
     "metadata": {},
     "output_type": "display_data"
    },
    {
     "data": {
      "text/plain": [
       "<Figure size 1800x900 with 0 Axes>"
      ]
     },
     "metadata": {},
     "output_type": "display_data"
    },
    {
     "data": {
      "text/plain": [
       "<Figure size 600x600 with 0 Axes>"
      ]
     },
     "metadata": {},
     "output_type": "display_data"
    },
    {
     "data": {
      "text/plain": [
       "<Figure size 1800x900 with 0 Axes>"
      ]
     },
     "metadata": {},
     "output_type": "display_data"
    },
    {
     "data": {
      "text/plain": [
       "<Figure size 600x600 with 0 Axes>"
      ]
     },
     "metadata": {},
     "output_type": "display_data"
    },
    {
     "data": {
      "text/plain": [
       "<Figure size 1800x900 with 0 Axes>"
      ]
     },
     "metadata": {},
     "output_type": "display_data"
    },
    {
     "data": {
      "text/plain": [
       "<Figure size 600x600 with 0 Axes>"
      ]
     },
     "metadata": {},
     "output_type": "display_data"
    },
    {
     "data": {
      "text/plain": [
       "<Figure size 1800x900 with 0 Axes>"
      ]
     },
     "metadata": {},
     "output_type": "display_data"
    },
    {
     "data": {
      "text/plain": [
       "<Figure size 600x600 with 0 Axes>"
      ]
     },
     "metadata": {},
     "output_type": "display_data"
    },
    {
     "data": {
      "text/plain": [
       "<Figure size 1800x900 with 0 Axes>"
      ]
     },
     "metadata": {},
     "output_type": "display_data"
    },
    {
     "data": {
      "text/plain": [
       "<Figure size 600x600 with 0 Axes>"
      ]
     },
     "metadata": {},
     "output_type": "display_data"
    },
    {
     "data": {
      "text/plain": [
       "<Figure size 1800x900 with 0 Axes>"
      ]
     },
     "metadata": {},
     "output_type": "display_data"
    },
    {
     "data": {
      "text/plain": [
       "<Figure size 600x600 with 0 Axes>"
      ]
     },
     "metadata": {},
     "output_type": "display_data"
    },
    {
     "data": {
      "text/plain": [
       "<Figure size 1800x900 with 0 Axes>"
      ]
     },
     "metadata": {},
     "output_type": "display_data"
    },
    {
     "data": {
      "text/plain": [
       "<Figure size 600x600 with 0 Axes>"
      ]
     },
     "metadata": {},
     "output_type": "display_data"
    },
    {
     "data": {
      "text/plain": [
       "<Figure size 1800x900 with 0 Axes>"
      ]
     },
     "metadata": {},
     "output_type": "display_data"
    },
    {
     "data": {
      "text/plain": [
       "<Figure size 600x600 with 0 Axes>"
      ]
     },
     "metadata": {},
     "output_type": "display_data"
    },
    {
     "data": {
      "text/plain": [
       "<Figure size 1800x900 with 0 Axes>"
      ]
     },
     "metadata": {},
     "output_type": "display_data"
    },
    {
     "data": {
      "text/plain": [
       "<Figure size 600x600 with 0 Axes>"
      ]
     },
     "metadata": {},
     "output_type": "display_data"
    },
    {
     "data": {
      "text/plain": [
       "<Figure size 1800x900 with 0 Axes>"
      ]
     },
     "metadata": {},
     "output_type": "display_data"
    },
    {
     "data": {
      "text/plain": [
       "<Figure size 600x600 with 0 Axes>"
      ]
     },
     "metadata": {},
     "output_type": "display_data"
    },
    {
     "data": {
      "text/plain": [
       "<Figure size 1800x900 with 0 Axes>"
      ]
     },
     "metadata": {},
     "output_type": "display_data"
    },
    {
     "data": {
      "text/plain": [
       "<Figure size 600x600 with 0 Axes>"
      ]
     },
     "metadata": {},
     "output_type": "display_data"
    },
    {
     "data": {
      "text/plain": [
       "<Figure size 1800x900 with 0 Axes>"
      ]
     },
     "metadata": {},
     "output_type": "display_data"
    },
    {
     "data": {
      "text/plain": [
       "<Figure size 600x600 with 0 Axes>"
      ]
     },
     "metadata": {},
     "output_type": "display_data"
    },
    {
     "data": {
      "text/plain": [
       "<Figure size 1800x900 with 0 Axes>"
      ]
     },
     "metadata": {},
     "output_type": "display_data"
    },
    {
     "data": {
      "text/plain": [
       "<Figure size 600x600 with 0 Axes>"
      ]
     },
     "metadata": {},
     "output_type": "display_data"
    },
    {
     "data": {
      "text/plain": [
       "<Figure size 1800x900 with 0 Axes>"
      ]
     },
     "metadata": {},
     "output_type": "display_data"
    },
    {
     "data": {
      "text/plain": [
       "<Figure size 600x600 with 0 Axes>"
      ]
     },
     "metadata": {},
     "output_type": "display_data"
    },
    {
     "data": {
      "text/plain": [
       "<Figure size 1800x900 with 0 Axes>"
      ]
     },
     "metadata": {},
     "output_type": "display_data"
    },
    {
     "data": {
      "text/plain": [
       "<Figure size 600x600 with 0 Axes>"
      ]
     },
     "metadata": {},
     "output_type": "display_data"
    },
    {
     "data": {
      "text/plain": [
       "<Figure size 1800x900 with 0 Axes>"
      ]
     },
     "metadata": {},
     "output_type": "display_data"
    },
    {
     "data": {
      "text/plain": [
       "<Figure size 600x600 with 0 Axes>"
      ]
     },
     "metadata": {},
     "output_type": "display_data"
    },
    {
     "data": {
      "text/plain": [
       "<Figure size 1800x900 with 0 Axes>"
      ]
     },
     "metadata": {},
     "output_type": "display_data"
    },
    {
     "data": {
      "text/plain": [
       "<Figure size 600x600 with 0 Axes>"
      ]
     },
     "metadata": {},
     "output_type": "display_data"
    },
    {
     "data": {
      "text/plain": [
       "<Figure size 1800x900 with 0 Axes>"
      ]
     },
     "metadata": {},
     "output_type": "display_data"
    },
    {
     "data": {
      "text/plain": [
       "<Figure size 600x600 with 0 Axes>"
      ]
     },
     "metadata": {},
     "output_type": "display_data"
    },
    {
     "data": {
      "text/plain": [
       "<Figure size 1800x900 with 0 Axes>"
      ]
     },
     "metadata": {},
     "output_type": "display_data"
    },
    {
     "data": {
      "text/plain": [
       "<Figure size 600x600 with 0 Axes>"
      ]
     },
     "metadata": {},
     "output_type": "display_data"
    },
    {
     "data": {
      "text/plain": [
       "<Figure size 1800x900 with 0 Axes>"
      ]
     },
     "metadata": {},
     "output_type": "display_data"
    },
    {
     "data": {
      "text/plain": [
       "<Figure size 600x600 with 0 Axes>"
      ]
     },
     "metadata": {},
     "output_type": "display_data"
    },
    {
     "data": {
      "text/plain": [
       "<Figure size 1800x900 with 0 Axes>"
      ]
     },
     "metadata": {},
     "output_type": "display_data"
    },
    {
     "data": {
      "text/plain": [
       "<Figure size 600x600 with 0 Axes>"
      ]
     },
     "metadata": {},
     "output_type": "display_data"
    },
    {
     "data": {
      "text/plain": [
       "<Figure size 1800x900 with 0 Axes>"
      ]
     },
     "metadata": {},
     "output_type": "display_data"
    },
    {
     "data": {
      "text/plain": [
       "<Figure size 600x600 with 0 Axes>"
      ]
     },
     "metadata": {},
     "output_type": "display_data"
    },
    {
     "data": {
      "text/plain": [
       "<Figure size 1800x900 with 0 Axes>"
      ]
     },
     "metadata": {},
     "output_type": "display_data"
    },
    {
     "data": {
      "text/plain": [
       "<Figure size 600x600 with 0 Axes>"
      ]
     },
     "metadata": {},
     "output_type": "display_data"
    },
    {
     "data": {
      "text/plain": [
       "<Figure size 1800x900 with 0 Axes>"
      ]
     },
     "metadata": {},
     "output_type": "display_data"
    },
    {
     "data": {
      "text/plain": [
       "<Figure size 600x600 with 0 Axes>"
      ]
     },
     "metadata": {},
     "output_type": "display_data"
    },
    {
     "data": {
      "text/plain": [
       "<Figure size 1800x900 with 0 Axes>"
      ]
     },
     "metadata": {},
     "output_type": "display_data"
    },
    {
     "data": {
      "text/plain": [
       "<Figure size 600x600 with 0 Axes>"
      ]
     },
     "metadata": {},
     "output_type": "display_data"
    },
    {
     "data": {
      "text/plain": [
       "<Figure size 1800x900 with 0 Axes>"
      ]
     },
     "metadata": {},
     "output_type": "display_data"
    },
    {
     "data": {
      "text/plain": [
       "<Figure size 600x600 with 0 Axes>"
      ]
     },
     "metadata": {},
     "output_type": "display_data"
    },
    {
     "data": {
      "text/plain": [
       "<Figure size 1800x900 with 0 Axes>"
      ]
     },
     "metadata": {},
     "output_type": "display_data"
    },
    {
     "data": {
      "text/plain": [
       "<Figure size 600x600 with 0 Axes>"
      ]
     },
     "metadata": {},
     "output_type": "display_data"
    },
    {
     "data": {
      "text/plain": [
       "<Figure size 1800x900 with 0 Axes>"
      ]
     },
     "metadata": {},
     "output_type": "display_data"
    },
    {
     "data": {
      "text/plain": [
       "<Figure size 600x600 with 0 Axes>"
      ]
     },
     "metadata": {},
     "output_type": "display_data"
    },
    {
     "data": {
      "text/plain": [
       "<Figure size 1800x900 with 0 Axes>"
      ]
     },
     "metadata": {},
     "output_type": "display_data"
    },
    {
     "data": {
      "text/plain": [
       "<Figure size 600x600 with 0 Axes>"
      ]
     },
     "metadata": {},
     "output_type": "display_data"
    },
    {
     "data": {
      "text/plain": [
       "<Figure size 1800x900 with 0 Axes>"
      ]
     },
     "metadata": {},
     "output_type": "display_data"
    },
    {
     "data": {
      "text/plain": [
       "<Figure size 600x600 with 0 Axes>"
      ]
     },
     "metadata": {},
     "output_type": "display_data"
    },
    {
     "data": {
      "text/plain": [
       "<Figure size 1800x900 with 0 Axes>"
      ]
     },
     "metadata": {},
     "output_type": "display_data"
    },
    {
     "data": {
      "text/plain": [
       "<Figure size 600x600 with 0 Axes>"
      ]
     },
     "metadata": {},
     "output_type": "display_data"
    },
    {
     "data": {
      "text/plain": [
       "<Figure size 1800x900 with 0 Axes>"
      ]
     },
     "metadata": {},
     "output_type": "display_data"
    },
    {
     "data": {
      "text/plain": [
       "<Figure size 600x600 with 0 Axes>"
      ]
     },
     "metadata": {},
     "output_type": "display_data"
    },
    {
     "data": {
      "text/plain": [
       "<Figure size 1800x900 with 0 Axes>"
      ]
     },
     "metadata": {},
     "output_type": "display_data"
    },
    {
     "data": {
      "text/plain": [
       "<Figure size 600x600 with 0 Axes>"
      ]
     },
     "metadata": {},
     "output_type": "display_data"
    },
    {
     "data": {
      "text/plain": [
       "<Figure size 1800x900 with 0 Axes>"
      ]
     },
     "metadata": {},
     "output_type": "display_data"
    },
    {
     "data": {
      "text/plain": [
       "<Figure size 600x600 with 0 Axes>"
      ]
     },
     "metadata": {},
     "output_type": "display_data"
    },
    {
     "data": {
      "text/plain": [
       "<Figure size 1800x900 with 0 Axes>"
      ]
     },
     "metadata": {},
     "output_type": "display_data"
    },
    {
     "data": {
      "text/plain": [
       "<Figure size 600x600 with 0 Axes>"
      ]
     },
     "metadata": {},
     "output_type": "display_data"
    },
    {
     "data": {
      "text/plain": [
       "<Figure size 1800x900 with 0 Axes>"
      ]
     },
     "metadata": {},
     "output_type": "display_data"
    },
    {
     "data": {
      "text/plain": [
       "<Figure size 600x600 with 0 Axes>"
      ]
     },
     "metadata": {},
     "output_type": "display_data"
    },
    {
     "data": {
      "text/plain": [
       "<Figure size 1800x900 with 0 Axes>"
      ]
     },
     "metadata": {},
     "output_type": "display_data"
    },
    {
     "data": {
      "text/plain": [
       "<Figure size 600x600 with 0 Axes>"
      ]
     },
     "metadata": {},
     "output_type": "display_data"
    },
    {
     "data": {
      "text/plain": [
       "<Figure size 1800x900 with 0 Axes>"
      ]
     },
     "metadata": {},
     "output_type": "display_data"
    },
    {
     "data": {
      "text/plain": [
       "<Figure size 600x600 with 0 Axes>"
      ]
     },
     "metadata": {},
     "output_type": "display_data"
    },
    {
     "data": {
      "text/plain": [
       "<Figure size 1800x900 with 0 Axes>"
      ]
     },
     "metadata": {},
     "output_type": "display_data"
    },
    {
     "data": {
      "text/plain": [
       "<Figure size 600x600 with 0 Axes>"
      ]
     },
     "metadata": {},
     "output_type": "display_data"
    },
    {
     "data": {
      "text/plain": [
       "<Figure size 1800x900 with 0 Axes>"
      ]
     },
     "metadata": {},
     "output_type": "display_data"
    },
    {
     "data": {
      "text/plain": [
       "<Figure size 600x600 with 0 Axes>"
      ]
     },
     "metadata": {},
     "output_type": "display_data"
    },
    {
     "data": {
      "text/plain": [
       "<Figure size 1800x900 with 0 Axes>"
      ]
     },
     "metadata": {},
     "output_type": "display_data"
    },
    {
     "data": {
      "text/plain": [
       "<Figure size 600x600 with 0 Axes>"
      ]
     },
     "metadata": {},
     "output_type": "display_data"
    },
    {
     "data": {
      "text/plain": [
       "<Figure size 1800x900 with 0 Axes>"
      ]
     },
     "metadata": {},
     "output_type": "display_data"
    },
    {
     "data": {
      "text/plain": [
       "<Figure size 600x600 with 0 Axes>"
      ]
     },
     "metadata": {},
     "output_type": "display_data"
    },
    {
     "data": {
      "text/plain": [
       "<Figure size 1800x900 with 0 Axes>"
      ]
     },
     "metadata": {},
     "output_type": "display_data"
    },
    {
     "data": {
      "text/plain": [
       "<Figure size 600x600 with 0 Axes>"
      ]
     },
     "metadata": {},
     "output_type": "display_data"
    },
    {
     "data": {
      "text/plain": [
       "<Figure size 1800x900 with 0 Axes>"
      ]
     },
     "metadata": {},
     "output_type": "display_data"
    },
    {
     "data": {
      "text/plain": [
       "<Figure size 600x600 with 0 Axes>"
      ]
     },
     "metadata": {},
     "output_type": "display_data"
    },
    {
     "data": {
      "text/plain": [
       "<Figure size 1800x900 with 0 Axes>"
      ]
     },
     "metadata": {},
     "output_type": "display_data"
    },
    {
     "data": {
      "text/plain": [
       "<Figure size 600x600 with 0 Axes>"
      ]
     },
     "metadata": {},
     "output_type": "display_data"
    },
    {
     "data": {
      "text/plain": [
       "<Figure size 1800x900 with 0 Axes>"
      ]
     },
     "metadata": {},
     "output_type": "display_data"
    },
    {
     "data": {
      "text/plain": [
       "<Figure size 600x600 with 0 Axes>"
      ]
     },
     "metadata": {},
     "output_type": "display_data"
    },
    {
     "data": {
      "text/plain": [
       "<Figure size 1800x900 with 0 Axes>"
      ]
     },
     "metadata": {},
     "output_type": "display_data"
    },
    {
     "data": {
      "text/plain": [
       "<Figure size 600x600 with 0 Axes>"
      ]
     },
     "metadata": {},
     "output_type": "display_data"
    },
    {
     "data": {
      "text/plain": [
       "<Figure size 1800x900 with 0 Axes>"
      ]
     },
     "metadata": {},
     "output_type": "display_data"
    },
    {
     "data": {
      "text/plain": [
       "<Figure size 600x600 with 0 Axes>"
      ]
     },
     "metadata": {},
     "output_type": "display_data"
    },
    {
     "data": {
      "text/plain": [
       "<Figure size 1800x900 with 0 Axes>"
      ]
     },
     "metadata": {},
     "output_type": "display_data"
    },
    {
     "data": {
      "text/plain": [
       "<Figure size 600x600 with 0 Axes>"
      ]
     },
     "metadata": {},
     "output_type": "display_data"
    },
    {
     "data": {
      "text/plain": [
       "<Figure size 1800x900 with 0 Axes>"
      ]
     },
     "metadata": {},
     "output_type": "display_data"
    },
    {
     "data": {
      "text/plain": [
       "<Figure size 600x600 with 0 Axes>"
      ]
     },
     "metadata": {},
     "output_type": "display_data"
    },
    {
     "data": {
      "text/plain": [
       "<Figure size 1800x900 with 0 Axes>"
      ]
     },
     "metadata": {},
     "output_type": "display_data"
    },
    {
     "data": {
      "text/plain": [
       "<Figure size 600x600 with 0 Axes>"
      ]
     },
     "metadata": {},
     "output_type": "display_data"
    },
    {
     "data": {
      "text/plain": [
       "<Figure size 1800x900 with 0 Axes>"
      ]
     },
     "metadata": {},
     "output_type": "display_data"
    },
    {
     "data": {
      "text/plain": [
       "<Figure size 600x600 with 0 Axes>"
      ]
     },
     "metadata": {},
     "output_type": "display_data"
    },
    {
     "data": {
      "text/plain": [
       "<Figure size 1800x900 with 0 Axes>"
      ]
     },
     "metadata": {},
     "output_type": "display_data"
    },
    {
     "data": {
      "text/plain": [
       "<Figure size 600x600 with 0 Axes>"
      ]
     },
     "metadata": {},
     "output_type": "display_data"
    },
    {
     "data": {
      "text/plain": [
       "<Figure size 1800x900 with 0 Axes>"
      ]
     },
     "metadata": {},
     "output_type": "display_data"
    },
    {
     "data": {
      "text/plain": [
       "<Figure size 600x600 with 0 Axes>"
      ]
     },
     "metadata": {},
     "output_type": "display_data"
    },
    {
     "data": {
      "text/plain": [
       "<Figure size 1800x900 with 0 Axes>"
      ]
     },
     "metadata": {},
     "output_type": "display_data"
    },
    {
     "data": {
      "text/plain": [
       "<Figure size 600x600 with 0 Axes>"
      ]
     },
     "metadata": {},
     "output_type": "display_data"
    },
    {
     "data": {
      "text/plain": [
       "<Figure size 1800x900 with 0 Axes>"
      ]
     },
     "metadata": {},
     "output_type": "display_data"
    },
    {
     "data": {
      "text/plain": [
       "<Figure size 600x600 with 0 Axes>"
      ]
     },
     "metadata": {},
     "output_type": "display_data"
    },
    {
     "data": {
      "text/plain": [
       "<Figure size 1800x900 with 0 Axes>"
      ]
     },
     "metadata": {},
     "output_type": "display_data"
    },
    {
     "data": {
      "text/plain": [
       "<Figure size 600x600 with 0 Axes>"
      ]
     },
     "metadata": {},
     "output_type": "display_data"
    },
    {
     "data": {
      "text/plain": [
       "<Figure size 1800x900 with 0 Axes>"
      ]
     },
     "metadata": {},
     "output_type": "display_data"
    },
    {
     "data": {
      "text/plain": [
       "<Figure size 600x600 with 0 Axes>"
      ]
     },
     "metadata": {},
     "output_type": "display_data"
    },
    {
     "data": {
      "text/plain": [
       "<Figure size 1800x900 with 0 Axes>"
      ]
     },
     "metadata": {},
     "output_type": "display_data"
    },
    {
     "data": {
      "text/plain": [
       "<Figure size 600x600 with 0 Axes>"
      ]
     },
     "metadata": {},
     "output_type": "display_data"
    },
    {
     "data": {
      "text/plain": [
       "<Figure size 1800x900 with 0 Axes>"
      ]
     },
     "metadata": {},
     "output_type": "display_data"
    },
    {
     "data": {
      "text/plain": [
       "<Figure size 600x600 with 0 Axes>"
      ]
     },
     "metadata": {},
     "output_type": "display_data"
    },
    {
     "data": {
      "text/plain": [
       "<Figure size 1800x900 with 0 Axes>"
      ]
     },
     "metadata": {},
     "output_type": "display_data"
    },
    {
     "data": {
      "text/plain": [
       "<Figure size 600x600 with 0 Axes>"
      ]
     },
     "metadata": {},
     "output_type": "display_data"
    },
    {
     "data": {
      "text/plain": [
       "<Figure size 1800x900 with 0 Axes>"
      ]
     },
     "metadata": {},
     "output_type": "display_data"
    },
    {
     "data": {
      "text/plain": [
       "<Figure size 600x600 with 0 Axes>"
      ]
     },
     "metadata": {},
     "output_type": "display_data"
    },
    {
     "data": {
      "text/plain": [
       "<Figure size 1800x900 with 0 Axes>"
      ]
     },
     "metadata": {},
     "output_type": "display_data"
    },
    {
     "data": {
      "text/plain": [
       "<Figure size 600x600 with 0 Axes>"
      ]
     },
     "metadata": {},
     "output_type": "display_data"
    },
    {
     "data": {
      "text/plain": [
       "<Figure size 1800x900 with 0 Axes>"
      ]
     },
     "metadata": {},
     "output_type": "display_data"
    },
    {
     "data": {
      "text/plain": [
       "<Figure size 600x600 with 0 Axes>"
      ]
     },
     "metadata": {},
     "output_type": "display_data"
    },
    {
     "data": {
      "text/plain": [
       "<Figure size 1800x900 with 0 Axes>"
      ]
     },
     "metadata": {},
     "output_type": "display_data"
    },
    {
     "data": {
      "text/plain": [
       "<Figure size 600x600 with 0 Axes>"
      ]
     },
     "metadata": {},
     "output_type": "display_data"
    },
    {
     "data": {
      "text/plain": [
       "<Figure size 1800x900 with 0 Axes>"
      ]
     },
     "metadata": {},
     "output_type": "display_data"
    },
    {
     "data": {
      "text/plain": [
       "<Figure size 600x600 with 0 Axes>"
      ]
     },
     "metadata": {},
     "output_type": "display_data"
    },
    {
     "data": {
      "text/plain": [
       "<Figure size 1800x900 with 0 Axes>"
      ]
     },
     "metadata": {},
     "output_type": "display_data"
    },
    {
     "data": {
      "text/plain": [
       "<Figure size 600x600 with 0 Axes>"
      ]
     },
     "metadata": {},
     "output_type": "display_data"
    },
    {
     "data": {
      "text/plain": [
       "<Figure size 1800x900 with 0 Axes>"
      ]
     },
     "metadata": {},
     "output_type": "display_data"
    },
    {
     "data": {
      "text/plain": [
       "<Figure size 600x600 with 0 Axes>"
      ]
     },
     "metadata": {},
     "output_type": "display_data"
    },
    {
     "data": {
      "text/plain": [
       "<Figure size 1800x900 with 0 Axes>"
      ]
     },
     "metadata": {},
     "output_type": "display_data"
    },
    {
     "data": {
      "text/plain": [
       "<Figure size 600x600 with 0 Axes>"
      ]
     },
     "metadata": {},
     "output_type": "display_data"
    },
    {
     "data": {
      "text/plain": [
       "<Figure size 1800x900 with 0 Axes>"
      ]
     },
     "metadata": {},
     "output_type": "display_data"
    },
    {
     "data": {
      "text/plain": [
       "<Figure size 600x600 with 0 Axes>"
      ]
     },
     "metadata": {},
     "output_type": "display_data"
    },
    {
     "data": {
      "text/plain": [
       "<Figure size 1800x900 with 0 Axes>"
      ]
     },
     "metadata": {},
     "output_type": "display_data"
    },
    {
     "data": {
      "text/plain": [
       "<Figure size 600x600 with 0 Axes>"
      ]
     },
     "metadata": {},
     "output_type": "display_data"
    },
    {
     "data": {
      "text/plain": [
       "<Figure size 1800x900 with 0 Axes>"
      ]
     },
     "metadata": {},
     "output_type": "display_data"
    },
    {
     "data": {
      "text/plain": [
       "<Figure size 600x600 with 0 Axes>"
      ]
     },
     "metadata": {},
     "output_type": "display_data"
    },
    {
     "data": {
      "text/plain": [
       "<Figure size 1800x900 with 0 Axes>"
      ]
     },
     "metadata": {},
     "output_type": "display_data"
    },
    {
     "data": {
      "text/plain": [
       "<Figure size 600x600 with 0 Axes>"
      ]
     },
     "metadata": {},
     "output_type": "display_data"
    },
    {
     "data": {
      "text/plain": [
       "<Figure size 1800x900 with 0 Axes>"
      ]
     },
     "metadata": {},
     "output_type": "display_data"
    },
    {
     "data": {
      "text/plain": [
       "<Figure size 600x600 with 0 Axes>"
      ]
     },
     "metadata": {},
     "output_type": "display_data"
    },
    {
     "data": {
      "text/plain": [
       "<Figure size 1800x900 with 0 Axes>"
      ]
     },
     "metadata": {},
     "output_type": "display_data"
    },
    {
     "data": {
      "text/plain": [
       "<Figure size 600x600 with 0 Axes>"
      ]
     },
     "metadata": {},
     "output_type": "display_data"
    },
    {
     "data": {
      "text/plain": [
       "<Figure size 1800x900 with 0 Axes>"
      ]
     },
     "metadata": {},
     "output_type": "display_data"
    },
    {
     "data": {
      "text/plain": [
       "<Figure size 600x600 with 0 Axes>"
      ]
     },
     "metadata": {},
     "output_type": "display_data"
    },
    {
     "data": {
      "text/plain": [
       "<Figure size 1800x900 with 0 Axes>"
      ]
     },
     "metadata": {},
     "output_type": "display_data"
    },
    {
     "data": {
      "text/plain": [
       "<Figure size 600x600 with 0 Axes>"
      ]
     },
     "metadata": {},
     "output_type": "display_data"
    },
    {
     "data": {
      "text/plain": [
       "<Figure size 1800x900 with 0 Axes>"
      ]
     },
     "metadata": {},
     "output_type": "display_data"
    },
    {
     "data": {
      "text/plain": [
       "<Figure size 600x600 with 0 Axes>"
      ]
     },
     "metadata": {},
     "output_type": "display_data"
    },
    {
     "data": {
      "text/plain": [
       "<Figure size 1800x900 with 0 Axes>"
      ]
     },
     "metadata": {},
     "output_type": "display_data"
    },
    {
     "data": {
      "text/plain": [
       "<Figure size 600x600 with 0 Axes>"
      ]
     },
     "metadata": {},
     "output_type": "display_data"
    },
    {
     "data": {
      "text/plain": [
       "<Figure size 1800x900 with 0 Axes>"
      ]
     },
     "metadata": {},
     "output_type": "display_data"
    },
    {
     "data": {
      "text/plain": [
       "<Figure size 600x600 with 0 Axes>"
      ]
     },
     "metadata": {},
     "output_type": "display_data"
    },
    {
     "data": {
      "text/plain": [
       "<Figure size 1800x900 with 0 Axes>"
      ]
     },
     "metadata": {},
     "output_type": "display_data"
    },
    {
     "data": {
      "text/plain": [
       "<Figure size 600x600 with 0 Axes>"
      ]
     },
     "metadata": {},
     "output_type": "display_data"
    },
    {
     "data": {
      "text/plain": [
       "<Figure size 1800x900 with 0 Axes>"
      ]
     },
     "metadata": {},
     "output_type": "display_data"
    },
    {
     "data": {
      "text/plain": [
       "<Figure size 600x600 with 0 Axes>"
      ]
     },
     "metadata": {},
     "output_type": "display_data"
    },
    {
     "data": {
      "text/plain": [
       "<Figure size 1800x900 with 0 Axes>"
      ]
     },
     "metadata": {},
     "output_type": "display_data"
    },
    {
     "data": {
      "text/plain": [
       "<Figure size 600x600 with 0 Axes>"
      ]
     },
     "metadata": {},
     "output_type": "display_data"
    },
    {
     "data": {
      "text/plain": [
       "<Figure size 1800x900 with 0 Axes>"
      ]
     },
     "metadata": {},
     "output_type": "display_data"
    },
    {
     "data": {
      "text/plain": [
       "<Figure size 600x600 with 0 Axes>"
      ]
     },
     "metadata": {},
     "output_type": "display_data"
    },
    {
     "data": {
      "text/plain": [
       "<Figure size 1800x900 with 0 Axes>"
      ]
     },
     "metadata": {},
     "output_type": "display_data"
    },
    {
     "data": {
      "text/plain": [
       "<Figure size 600x600 with 0 Axes>"
      ]
     },
     "metadata": {},
     "output_type": "display_data"
    },
    {
     "data": {
      "text/plain": [
       "<Figure size 1800x900 with 0 Axes>"
      ]
     },
     "metadata": {},
     "output_type": "display_data"
    },
    {
     "data": {
      "text/plain": [
       "<Figure size 600x600 with 0 Axes>"
      ]
     },
     "metadata": {},
     "output_type": "display_data"
    },
    {
     "data": {
      "text/plain": [
       "<Figure size 1800x900 with 0 Axes>"
      ]
     },
     "metadata": {},
     "output_type": "display_data"
    },
    {
     "data": {
      "text/plain": [
       "<Figure size 600x600 with 0 Axes>"
      ]
     },
     "metadata": {},
     "output_type": "display_data"
    },
    {
     "data": {
      "text/plain": [
       "<Figure size 1800x900 with 0 Axes>"
      ]
     },
     "metadata": {},
     "output_type": "display_data"
    },
    {
     "data": {
      "text/plain": [
       "<Figure size 600x600 with 0 Axes>"
      ]
     },
     "metadata": {},
     "output_type": "display_data"
    },
    {
     "data": {
      "text/plain": [
       "<Figure size 1800x900 with 0 Axes>"
      ]
     },
     "metadata": {},
     "output_type": "display_data"
    },
    {
     "data": {
      "text/plain": [
       "<Figure size 600x600 with 0 Axes>"
      ]
     },
     "metadata": {},
     "output_type": "display_data"
    },
    {
     "data": {
      "text/plain": [
       "<Figure size 1800x900 with 0 Axes>"
      ]
     },
     "metadata": {},
     "output_type": "display_data"
    },
    {
     "data": {
      "text/plain": [
       "<Figure size 600x600 with 0 Axes>"
      ]
     },
     "metadata": {},
     "output_type": "display_data"
    },
    {
     "data": {
      "text/plain": [
       "<Figure size 1800x900 with 0 Axes>"
      ]
     },
     "metadata": {},
     "output_type": "display_data"
    },
    {
     "data": {
      "text/plain": [
       "<Figure size 600x600 with 0 Axes>"
      ]
     },
     "metadata": {},
     "output_type": "display_data"
    },
    {
     "data": {
      "text/plain": [
       "<Figure size 1800x900 with 0 Axes>"
      ]
     },
     "metadata": {},
     "output_type": "display_data"
    },
    {
     "data": {
      "text/plain": [
       "<Figure size 600x600 with 0 Axes>"
      ]
     },
     "metadata": {},
     "output_type": "display_data"
    },
    {
     "data": {
      "text/plain": [
       "<Figure size 1800x900 with 0 Axes>"
      ]
     },
     "metadata": {},
     "output_type": "display_data"
    },
    {
     "data": {
      "text/plain": [
       "<Figure size 600x600 with 0 Axes>"
      ]
     },
     "metadata": {},
     "output_type": "display_data"
    },
    {
     "data": {
      "text/plain": [
       "<Figure size 1800x900 with 0 Axes>"
      ]
     },
     "metadata": {},
     "output_type": "display_data"
    },
    {
     "data": {
      "text/plain": [
       "<Figure size 600x600 with 0 Axes>"
      ]
     },
     "metadata": {},
     "output_type": "display_data"
    },
    {
     "data": {
      "text/plain": [
       "<Figure size 1800x900 with 0 Axes>"
      ]
     },
     "metadata": {},
     "output_type": "display_data"
    },
    {
     "data": {
      "text/plain": [
       "<Figure size 600x600 with 0 Axes>"
      ]
     },
     "metadata": {},
     "output_type": "display_data"
    },
    {
     "data": {
      "text/plain": [
       "<Figure size 1800x900 with 0 Axes>"
      ]
     },
     "metadata": {},
     "output_type": "display_data"
    },
    {
     "data": {
      "text/plain": [
       "<Figure size 600x600 with 0 Axes>"
      ]
     },
     "metadata": {},
     "output_type": "display_data"
    },
    {
     "data": {
      "text/plain": [
       "<Figure size 1800x900 with 0 Axes>"
      ]
     },
     "metadata": {},
     "output_type": "display_data"
    },
    {
     "data": {
      "text/plain": [
       "<Figure size 600x600 with 0 Axes>"
      ]
     },
     "metadata": {},
     "output_type": "display_data"
    },
    {
     "data": {
      "text/plain": [
       "<Figure size 1800x900 with 0 Axes>"
      ]
     },
     "metadata": {},
     "output_type": "display_data"
    },
    {
     "data": {
      "text/plain": [
       "<Figure size 600x600 with 0 Axes>"
      ]
     },
     "metadata": {},
     "output_type": "display_data"
    },
    {
     "data": {
      "text/plain": [
       "<Figure size 1800x900 with 0 Axes>"
      ]
     },
     "metadata": {},
     "output_type": "display_data"
    },
    {
     "data": {
      "text/plain": [
       "<Figure size 600x600 with 0 Axes>"
      ]
     },
     "metadata": {},
     "output_type": "display_data"
    },
    {
     "data": {
      "text/plain": [
       "<Figure size 1800x900 with 0 Axes>"
      ]
     },
     "metadata": {},
     "output_type": "display_data"
    },
    {
     "data": {
      "text/plain": [
       "<Figure size 600x600 with 0 Axes>"
      ]
     },
     "metadata": {},
     "output_type": "display_data"
    },
    {
     "data": {
      "text/plain": [
       "<Figure size 1800x900 with 0 Axes>"
      ]
     },
     "metadata": {},
     "output_type": "display_data"
    },
    {
     "data": {
      "text/plain": [
       "<Figure size 600x600 with 0 Axes>"
      ]
     },
     "metadata": {},
     "output_type": "display_data"
    },
    {
     "data": {
      "text/plain": [
       "<Figure size 1800x900 with 0 Axes>"
      ]
     },
     "metadata": {},
     "output_type": "display_data"
    },
    {
     "data": {
      "text/plain": [
       "<Figure size 600x600 with 0 Axes>"
      ]
     },
     "metadata": {},
     "output_type": "display_data"
    },
    {
     "data": {
      "text/plain": [
       "<Figure size 1800x900 with 0 Axes>"
      ]
     },
     "metadata": {},
     "output_type": "display_data"
    },
    {
     "data": {
      "text/plain": [
       "<Figure size 600x600 with 0 Axes>"
      ]
     },
     "metadata": {},
     "output_type": "display_data"
    },
    {
     "data": {
      "text/plain": [
       "<Figure size 1800x900 with 0 Axes>"
      ]
     },
     "metadata": {},
     "output_type": "display_data"
    },
    {
     "data": {
      "text/plain": [
       "<Figure size 600x600 with 0 Axes>"
      ]
     },
     "metadata": {},
     "output_type": "display_data"
    },
    {
     "data": {
      "text/plain": [
       "<Figure size 1800x900 with 0 Axes>"
      ]
     },
     "metadata": {},
     "output_type": "display_data"
    },
    {
     "data": {
      "text/plain": [
       "<Figure size 600x600 with 0 Axes>"
      ]
     },
     "metadata": {},
     "output_type": "display_data"
    },
    {
     "data": {
      "text/plain": [
       "<Figure size 1800x900 with 0 Axes>"
      ]
     },
     "metadata": {},
     "output_type": "display_data"
    },
    {
     "data": {
      "text/plain": [
       "<Figure size 600x600 with 0 Axes>"
      ]
     },
     "metadata": {},
     "output_type": "display_data"
    },
    {
     "data": {
      "text/plain": [
       "<Figure size 1800x900 with 0 Axes>"
      ]
     },
     "metadata": {},
     "output_type": "display_data"
    },
    {
     "data": {
      "text/plain": [
       "<Figure size 600x600 with 0 Axes>"
      ]
     },
     "metadata": {},
     "output_type": "display_data"
    },
    {
     "data": {
      "text/plain": [
       "<Figure size 1800x900 with 0 Axes>"
      ]
     },
     "metadata": {},
     "output_type": "display_data"
    },
    {
     "data": {
      "text/plain": [
       "<Figure size 600x600 with 0 Axes>"
      ]
     },
     "metadata": {},
     "output_type": "display_data"
    },
    {
     "data": {
      "text/plain": [
       "<Figure size 1800x900 with 0 Axes>"
      ]
     },
     "metadata": {},
     "output_type": "display_data"
    },
    {
     "data": {
      "text/plain": [
       "<Figure size 600x600 with 0 Axes>"
      ]
     },
     "metadata": {},
     "output_type": "display_data"
    },
    {
     "data": {
      "text/plain": [
       "<Figure size 1800x900 with 0 Axes>"
      ]
     },
     "metadata": {},
     "output_type": "display_data"
    },
    {
     "data": {
      "text/plain": [
       "<Figure size 600x600 with 0 Axes>"
      ]
     },
     "metadata": {},
     "output_type": "display_data"
    },
    {
     "data": {
      "text/plain": [
       "<Figure size 1800x900 with 0 Axes>"
      ]
     },
     "metadata": {},
     "output_type": "display_data"
    },
    {
     "data": {
      "text/plain": [
       "<Figure size 600x600 with 0 Axes>"
      ]
     },
     "metadata": {},
     "output_type": "display_data"
    },
    {
     "data": {
      "text/plain": [
       "<Figure size 1800x900 with 0 Axes>"
      ]
     },
     "metadata": {},
     "output_type": "display_data"
    },
    {
     "data": {
      "text/plain": [
       "<Figure size 600x600 with 0 Axes>"
      ]
     },
     "metadata": {},
     "output_type": "display_data"
    },
    {
     "data": {
      "text/plain": [
       "<Figure size 1800x900 with 0 Axes>"
      ]
     },
     "metadata": {},
     "output_type": "display_data"
    },
    {
     "data": {
      "text/plain": [
       "<Figure size 600x600 with 0 Axes>"
      ]
     },
     "metadata": {},
     "output_type": "display_data"
    },
    {
     "data": {
      "text/plain": [
       "<Figure size 1800x900 with 0 Axes>"
      ]
     },
     "metadata": {},
     "output_type": "display_data"
    },
    {
     "data": {
      "text/plain": [
       "<Figure size 600x600 with 0 Axes>"
      ]
     },
     "metadata": {},
     "output_type": "display_data"
    },
    {
     "data": {
      "text/plain": [
       "<Figure size 1800x900 with 0 Axes>"
      ]
     },
     "metadata": {},
     "output_type": "display_data"
    },
    {
     "data": {
      "text/plain": [
       "<Figure size 600x600 with 0 Axes>"
      ]
     },
     "metadata": {},
     "output_type": "display_data"
    },
    {
     "data": {
      "text/plain": [
       "<Figure size 1800x900 with 0 Axes>"
      ]
     },
     "metadata": {},
     "output_type": "display_data"
    },
    {
     "data": {
      "text/plain": [
       "<Figure size 600x600 with 0 Axes>"
      ]
     },
     "metadata": {},
     "output_type": "display_data"
    },
    {
     "data": {
      "text/plain": [
       "<Figure size 1800x900 with 0 Axes>"
      ]
     },
     "metadata": {},
     "output_type": "display_data"
    },
    {
     "data": {
      "text/plain": [
       "<Figure size 600x600 with 0 Axes>"
      ]
     },
     "metadata": {},
     "output_type": "display_data"
    },
    {
     "data": {
      "text/plain": [
       "<Figure size 1800x900 with 0 Axes>"
      ]
     },
     "metadata": {},
     "output_type": "display_data"
    },
    {
     "data": {
      "text/plain": [
       "<Figure size 600x600 with 0 Axes>"
      ]
     },
     "metadata": {},
     "output_type": "display_data"
    },
    {
     "data": {
      "text/plain": [
       "<Figure size 1800x900 with 0 Axes>"
      ]
     },
     "metadata": {},
     "output_type": "display_data"
    },
    {
     "data": {
      "text/plain": [
       "<Figure size 600x600 with 0 Axes>"
      ]
     },
     "metadata": {},
     "output_type": "display_data"
    },
    {
     "data": {
      "text/plain": [
       "<Figure size 1800x900 with 0 Axes>"
      ]
     },
     "metadata": {},
     "output_type": "display_data"
    },
    {
     "data": {
      "text/plain": [
       "<Figure size 600x600 with 0 Axes>"
      ]
     },
     "metadata": {},
     "output_type": "display_data"
    },
    {
     "data": {
      "text/plain": [
       "<Figure size 1800x900 with 0 Axes>"
      ]
     },
     "metadata": {},
     "output_type": "display_data"
    },
    {
     "data": {
      "text/plain": [
       "<Figure size 600x600 with 0 Axes>"
      ]
     },
     "metadata": {},
     "output_type": "display_data"
    },
    {
     "data": {
      "text/plain": [
       "<Figure size 1800x900 with 0 Axes>"
      ]
     },
     "metadata": {},
     "output_type": "display_data"
    },
    {
     "data": {
      "text/plain": [
       "<Figure size 600x600 with 0 Axes>"
      ]
     },
     "metadata": {},
     "output_type": "display_data"
    },
    {
     "data": {
      "text/plain": [
       "<Figure size 1800x900 with 0 Axes>"
      ]
     },
     "metadata": {},
     "output_type": "display_data"
    },
    {
     "data": {
      "text/plain": [
       "<Figure size 600x600 with 0 Axes>"
      ]
     },
     "metadata": {},
     "output_type": "display_data"
    },
    {
     "data": {
      "text/plain": [
       "<Figure size 1800x900 with 0 Axes>"
      ]
     },
     "metadata": {},
     "output_type": "display_data"
    },
    {
     "data": {
      "text/plain": [
       "<Figure size 600x600 with 0 Axes>"
      ]
     },
     "metadata": {},
     "output_type": "display_data"
    },
    {
     "data": {
      "text/plain": [
       "<Figure size 1800x900 with 0 Axes>"
      ]
     },
     "metadata": {},
     "output_type": "display_data"
    },
    {
     "data": {
      "text/plain": [
       "<Figure size 600x600 with 0 Axes>"
      ]
     },
     "metadata": {},
     "output_type": "display_data"
    },
    {
     "data": {
      "text/plain": [
       "<Figure size 1800x900 with 0 Axes>"
      ]
     },
     "metadata": {},
     "output_type": "display_data"
    },
    {
     "data": {
      "text/plain": [
       "<Figure size 600x600 with 0 Axes>"
      ]
     },
     "metadata": {},
     "output_type": "display_data"
    },
    {
     "data": {
      "text/plain": [
       "<Figure size 1800x900 with 0 Axes>"
      ]
     },
     "metadata": {},
     "output_type": "display_data"
    },
    {
     "data": {
      "text/plain": [
       "<Figure size 600x600 with 0 Axes>"
      ]
     },
     "metadata": {},
     "output_type": "display_data"
    },
    {
     "data": {
      "text/plain": [
       "<Figure size 1800x900 with 0 Axes>"
      ]
     },
     "metadata": {},
     "output_type": "display_data"
    },
    {
     "data": {
      "text/plain": [
       "<Figure size 600x600 with 0 Axes>"
      ]
     },
     "metadata": {},
     "output_type": "display_data"
    },
    {
     "data": {
      "text/plain": [
       "<Figure size 1800x900 with 0 Axes>"
      ]
     },
     "metadata": {},
     "output_type": "display_data"
    },
    {
     "data": {
      "text/plain": [
       "<Figure size 600x600 with 0 Axes>"
      ]
     },
     "metadata": {},
     "output_type": "display_data"
    },
    {
     "data": {
      "text/plain": [
       "<Figure size 1800x900 with 0 Axes>"
      ]
     },
     "metadata": {},
     "output_type": "display_data"
    },
    {
     "data": {
      "text/plain": [
       "<Figure size 600x600 with 0 Axes>"
      ]
     },
     "metadata": {},
     "output_type": "display_data"
    },
    {
     "data": {
      "text/plain": [
       "<Figure size 1800x900 with 0 Axes>"
      ]
     },
     "metadata": {},
     "output_type": "display_data"
    },
    {
     "data": {
      "text/plain": [
       "<Figure size 600x600 with 0 Axes>"
      ]
     },
     "metadata": {},
     "output_type": "display_data"
    },
    {
     "data": {
      "text/plain": [
       "<Figure size 1800x900 with 0 Axes>"
      ]
     },
     "metadata": {},
     "output_type": "display_data"
    },
    {
     "data": {
      "text/plain": [
       "<Figure size 600x600 with 0 Axes>"
      ]
     },
     "metadata": {},
     "output_type": "display_data"
    },
    {
     "data": {
      "text/plain": [
       "<Figure size 1800x900 with 0 Axes>"
      ]
     },
     "metadata": {},
     "output_type": "display_data"
    },
    {
     "data": {
      "text/plain": [
       "<Figure size 600x600 with 0 Axes>"
      ]
     },
     "metadata": {},
     "output_type": "display_data"
    },
    {
     "data": {
      "text/plain": [
       "<Figure size 1800x900 with 0 Axes>"
      ]
     },
     "metadata": {},
     "output_type": "display_data"
    },
    {
     "data": {
      "text/plain": [
       "<Figure size 600x600 with 0 Axes>"
      ]
     },
     "metadata": {},
     "output_type": "display_data"
    },
    {
     "data": {
      "text/plain": [
       "<Figure size 1800x900 with 0 Axes>"
      ]
     },
     "metadata": {},
     "output_type": "display_data"
    },
    {
     "data": {
      "text/plain": [
       "<Figure size 600x600 with 0 Axes>"
      ]
     },
     "metadata": {},
     "output_type": "display_data"
    },
    {
     "data": {
      "text/plain": [
       "<Figure size 1800x900 with 0 Axes>"
      ]
     },
     "metadata": {},
     "output_type": "display_data"
    },
    {
     "data": {
      "text/plain": [
       "<Figure size 600x600 with 0 Axes>"
      ]
     },
     "metadata": {},
     "output_type": "display_data"
    },
    {
     "data": {
      "text/plain": [
       "<Figure size 1800x900 with 0 Axes>"
      ]
     },
     "metadata": {},
     "output_type": "display_data"
    },
    {
     "data": {
      "text/plain": [
       "<Figure size 600x600 with 0 Axes>"
      ]
     },
     "metadata": {},
     "output_type": "display_data"
    },
    {
     "data": {
      "text/plain": [
       "<Figure size 1800x900 with 0 Axes>"
      ]
     },
     "metadata": {},
     "output_type": "display_data"
    },
    {
     "data": {
      "text/plain": [
       "<Figure size 600x600 with 0 Axes>"
      ]
     },
     "metadata": {},
     "output_type": "display_data"
    },
    {
     "data": {
      "text/plain": [
       "<Figure size 1800x900 with 0 Axes>"
      ]
     },
     "metadata": {},
     "output_type": "display_data"
    },
    {
     "data": {
      "text/plain": [
       "<Figure size 600x600 with 0 Axes>"
      ]
     },
     "metadata": {},
     "output_type": "display_data"
    },
    {
     "data": {
      "text/plain": [
       "<Figure size 1800x900 with 0 Axes>"
      ]
     },
     "metadata": {},
     "output_type": "display_data"
    },
    {
     "data": {
      "text/plain": [
       "<Figure size 600x600 with 0 Axes>"
      ]
     },
     "metadata": {},
     "output_type": "display_data"
    },
    {
     "data": {
      "text/plain": [
       "<Figure size 1800x900 with 0 Axes>"
      ]
     },
     "metadata": {},
     "output_type": "display_data"
    },
    {
     "data": {
      "text/plain": [
       "<Figure size 600x600 with 0 Axes>"
      ]
     },
     "metadata": {},
     "output_type": "display_data"
    },
    {
     "data": {
      "text/plain": [
       "<Figure size 1800x900 with 0 Axes>"
      ]
     },
     "metadata": {},
     "output_type": "display_data"
    },
    {
     "data": {
      "text/plain": [
       "<Figure size 600x600 with 0 Axes>"
      ]
     },
     "metadata": {},
     "output_type": "display_data"
    },
    {
     "data": {
      "text/plain": [
       "<Figure size 1800x900 with 0 Axes>"
      ]
     },
     "metadata": {},
     "output_type": "display_data"
    },
    {
     "data": {
      "text/plain": [
       "<Figure size 600x600 with 0 Axes>"
      ]
     },
     "metadata": {},
     "output_type": "display_data"
    },
    {
     "data": {
      "text/plain": [
       "<Figure size 1800x900 with 0 Axes>"
      ]
     },
     "metadata": {},
     "output_type": "display_data"
    },
    {
     "data": {
      "text/plain": [
       "<Figure size 600x600 with 0 Axes>"
      ]
     },
     "metadata": {},
     "output_type": "display_data"
    },
    {
     "data": {
      "text/plain": [
       "<Figure size 1800x900 with 0 Axes>"
      ]
     },
     "metadata": {},
     "output_type": "display_data"
    },
    {
     "data": {
      "text/plain": [
       "<Figure size 600x600 with 0 Axes>"
      ]
     },
     "metadata": {},
     "output_type": "display_data"
    },
    {
     "data": {
      "text/plain": [
       "<Figure size 1800x900 with 0 Axes>"
      ]
     },
     "metadata": {},
     "output_type": "display_data"
    },
    {
     "data": {
      "text/plain": [
       "<Figure size 600x600 with 0 Axes>"
      ]
     },
     "metadata": {},
     "output_type": "display_data"
    },
    {
     "data": {
      "text/plain": [
       "<Figure size 1800x900 with 0 Axes>"
      ]
     },
     "metadata": {},
     "output_type": "display_data"
    },
    {
     "data": {
      "text/plain": [
       "<Figure size 600x600 with 0 Axes>"
      ]
     },
     "metadata": {},
     "output_type": "display_data"
    },
    {
     "data": {
      "text/plain": [
       "<Figure size 1800x900 with 0 Axes>"
      ]
     },
     "metadata": {},
     "output_type": "display_data"
    },
    {
     "data": {
      "text/plain": [
       "<Figure size 600x600 with 0 Axes>"
      ]
     },
     "metadata": {},
     "output_type": "display_data"
    },
    {
     "data": {
      "text/plain": [
       "<Figure size 1800x900 with 0 Axes>"
      ]
     },
     "metadata": {},
     "output_type": "display_data"
    },
    {
     "data": {
      "text/plain": [
       "<Figure size 600x600 with 0 Axes>"
      ]
     },
     "metadata": {},
     "output_type": "display_data"
    },
    {
     "data": {
      "text/plain": [
       "<Figure size 1800x900 with 0 Axes>"
      ]
     },
     "metadata": {},
     "output_type": "display_data"
    },
    {
     "data": {
      "text/plain": [
       "<Figure size 600x600 with 0 Axes>"
      ]
     },
     "metadata": {},
     "output_type": "display_data"
    },
    {
     "data": {
      "text/plain": [
       "<Figure size 1800x900 with 0 Axes>"
      ]
     },
     "metadata": {},
     "output_type": "display_data"
    },
    {
     "data": {
      "text/plain": [
       "<Figure size 600x600 with 0 Axes>"
      ]
     },
     "metadata": {},
     "output_type": "display_data"
    },
    {
     "data": {
      "text/plain": [
       "<Figure size 1800x900 with 0 Axes>"
      ]
     },
     "metadata": {},
     "output_type": "display_data"
    },
    {
     "data": {
      "text/plain": [
       "<Figure size 600x600 with 0 Axes>"
      ]
     },
     "metadata": {},
     "output_type": "display_data"
    },
    {
     "data": {
      "text/plain": [
       "<Figure size 1800x900 with 0 Axes>"
      ]
     },
     "metadata": {},
     "output_type": "display_data"
    },
    {
     "data": {
      "text/plain": [
       "<Figure size 600x600 with 0 Axes>"
      ]
     },
     "metadata": {},
     "output_type": "display_data"
    },
    {
     "data": {
      "text/plain": [
       "<Figure size 1800x900 with 0 Axes>"
      ]
     },
     "metadata": {},
     "output_type": "display_data"
    },
    {
     "data": {
      "text/plain": [
       "<Figure size 600x600 with 0 Axes>"
      ]
     },
     "metadata": {},
     "output_type": "display_data"
    },
    {
     "data": {
      "text/plain": [
       "<Figure size 1800x900 with 0 Axes>"
      ]
     },
     "metadata": {},
     "output_type": "display_data"
    },
    {
     "data": {
      "text/plain": [
       "<Figure size 600x600 with 0 Axes>"
      ]
     },
     "metadata": {},
     "output_type": "display_data"
    },
    {
     "data": {
      "text/plain": [
       "<Figure size 1800x900 with 0 Axes>"
      ]
     },
     "metadata": {},
     "output_type": "display_data"
    },
    {
     "data": {
      "text/plain": [
       "<Figure size 600x600 with 0 Axes>"
      ]
     },
     "metadata": {},
     "output_type": "display_data"
    },
    {
     "data": {
      "text/plain": [
       "<Figure size 1800x900 with 0 Axes>"
      ]
     },
     "metadata": {},
     "output_type": "display_data"
    },
    {
     "data": {
      "text/plain": [
       "<Figure size 600x600 with 0 Axes>"
      ]
     },
     "metadata": {},
     "output_type": "display_data"
    },
    {
     "data": {
      "text/plain": [
       "<Figure size 1800x900 with 0 Axes>"
      ]
     },
     "metadata": {},
     "output_type": "display_data"
    },
    {
     "data": {
      "text/plain": [
       "<Figure size 600x600 with 0 Axes>"
      ]
     },
     "metadata": {},
     "output_type": "display_data"
    },
    {
     "data": {
      "text/plain": [
       "<Figure size 1800x900 with 0 Axes>"
      ]
     },
     "metadata": {},
     "output_type": "display_data"
    },
    {
     "data": {
      "text/plain": [
       "<Figure size 600x600 with 0 Axes>"
      ]
     },
     "metadata": {},
     "output_type": "display_data"
    },
    {
     "data": {
      "text/plain": [
       "<Figure size 1800x900 with 0 Axes>"
      ]
     },
     "metadata": {},
     "output_type": "display_data"
    },
    {
     "data": {
      "text/plain": [
       "<Figure size 600x600 with 0 Axes>"
      ]
     },
     "metadata": {},
     "output_type": "display_data"
    },
    {
     "data": {
      "text/plain": [
       "<Figure size 1800x900 with 0 Axes>"
      ]
     },
     "metadata": {},
     "output_type": "display_data"
    },
    {
     "data": {
      "text/plain": [
       "<Figure size 600x600 with 0 Axes>"
      ]
     },
     "metadata": {},
     "output_type": "display_data"
    },
    {
     "data": {
      "text/plain": [
       "<Figure size 1800x900 with 0 Axes>"
      ]
     },
     "metadata": {},
     "output_type": "display_data"
    },
    {
     "data": {
      "text/plain": [
       "<Figure size 600x600 with 0 Axes>"
      ]
     },
     "metadata": {},
     "output_type": "display_data"
    },
    {
     "data": {
      "text/plain": [
       "<Figure size 1800x900 with 0 Axes>"
      ]
     },
     "metadata": {},
     "output_type": "display_data"
    },
    {
     "data": {
      "text/plain": [
       "<Figure size 600x600 with 0 Axes>"
      ]
     },
     "metadata": {},
     "output_type": "display_data"
    },
    {
     "data": {
      "text/plain": [
       "<Figure size 1800x900 with 0 Axes>"
      ]
     },
     "metadata": {},
     "output_type": "display_data"
    },
    {
     "data": {
      "text/plain": [
       "<Figure size 600x600 with 0 Axes>"
      ]
     },
     "metadata": {},
     "output_type": "display_data"
    },
    {
     "data": {
      "text/plain": [
       "<Figure size 1800x900 with 0 Axes>"
      ]
     },
     "metadata": {},
     "output_type": "display_data"
    },
    {
     "data": {
      "text/plain": [
       "<Figure size 600x600 with 0 Axes>"
      ]
     },
     "metadata": {},
     "output_type": "display_data"
    },
    {
     "data": {
      "text/plain": [
       "<Figure size 1800x900 with 0 Axes>"
      ]
     },
     "metadata": {},
     "output_type": "display_data"
    },
    {
     "data": {
      "text/plain": [
       "<Figure size 600x600 with 0 Axes>"
      ]
     },
     "metadata": {},
     "output_type": "display_data"
    },
    {
     "data": {
      "text/plain": [
       "<Figure size 1800x900 with 0 Axes>"
      ]
     },
     "metadata": {},
     "output_type": "display_data"
    },
    {
     "data": {
      "text/plain": [
       "<Figure size 600x600 with 0 Axes>"
      ]
     },
     "metadata": {},
     "output_type": "display_data"
    },
    {
     "data": {
      "text/plain": [
       "<Figure size 1800x900 with 0 Axes>"
      ]
     },
     "metadata": {},
     "output_type": "display_data"
    },
    {
     "data": {
      "text/plain": [
       "<Figure size 600x600 with 0 Axes>"
      ]
     },
     "metadata": {},
     "output_type": "display_data"
    },
    {
     "data": {
      "text/plain": [
       "<Figure size 1800x900 with 0 Axes>"
      ]
     },
     "metadata": {},
     "output_type": "display_data"
    },
    {
     "data": {
      "text/plain": [
       "<Figure size 600x600 with 0 Axes>"
      ]
     },
     "metadata": {},
     "output_type": "display_data"
    },
    {
     "data": {
      "text/plain": [
       "<Figure size 1800x900 with 0 Axes>"
      ]
     },
     "metadata": {},
     "output_type": "display_data"
    },
    {
     "data": {
      "text/plain": [
       "<Figure size 600x600 with 0 Axes>"
      ]
     },
     "metadata": {},
     "output_type": "display_data"
    },
    {
     "data": {
      "text/plain": [
       "<Figure size 1800x900 with 0 Axes>"
      ]
     },
     "metadata": {},
     "output_type": "display_data"
    },
    {
     "data": {
      "text/plain": [
       "<Figure size 600x600 with 0 Axes>"
      ]
     },
     "metadata": {},
     "output_type": "display_data"
    },
    {
     "data": {
      "text/plain": [
       "<Figure size 1800x900 with 0 Axes>"
      ]
     },
     "metadata": {},
     "output_type": "display_data"
    },
    {
     "data": {
      "text/plain": [
       "<Figure size 600x600 with 0 Axes>"
      ]
     },
     "metadata": {},
     "output_type": "display_data"
    },
    {
     "data": {
      "text/plain": [
       "<Figure size 1800x900 with 0 Axes>"
      ]
     },
     "metadata": {},
     "output_type": "display_data"
    },
    {
     "data": {
      "text/plain": [
       "<Figure size 600x600 with 0 Axes>"
      ]
     },
     "metadata": {},
     "output_type": "display_data"
    },
    {
     "data": {
      "text/plain": [
       "<Figure size 1800x900 with 0 Axes>"
      ]
     },
     "metadata": {},
     "output_type": "display_data"
    },
    {
     "data": {
      "text/plain": [
       "<Figure size 600x600 with 0 Axes>"
      ]
     },
     "metadata": {},
     "output_type": "display_data"
    },
    {
     "data": {
      "text/plain": [
       "<Figure size 1800x900 with 0 Axes>"
      ]
     },
     "metadata": {},
     "output_type": "display_data"
    },
    {
     "data": {
      "text/plain": [
       "<Figure size 600x600 with 0 Axes>"
      ]
     },
     "metadata": {},
     "output_type": "display_data"
    },
    {
     "data": {
      "text/plain": [
       "<Figure size 1800x900 with 0 Axes>"
      ]
     },
     "metadata": {},
     "output_type": "display_data"
    },
    {
     "data": {
      "text/plain": [
       "<Figure size 600x600 with 0 Axes>"
      ]
     },
     "metadata": {},
     "output_type": "display_data"
    },
    {
     "data": {
      "text/plain": [
       "<Figure size 1800x900 with 0 Axes>"
      ]
     },
     "metadata": {},
     "output_type": "display_data"
    },
    {
     "data": {
      "text/plain": [
       "<Figure size 600x600 with 0 Axes>"
      ]
     },
     "metadata": {},
     "output_type": "display_data"
    },
    {
     "data": {
      "text/plain": [
       "<Figure size 1800x900 with 0 Axes>"
      ]
     },
     "metadata": {},
     "output_type": "display_data"
    },
    {
     "data": {
      "text/plain": [
       "<Figure size 600x600 with 0 Axes>"
      ]
     },
     "metadata": {},
     "output_type": "display_data"
    },
    {
     "data": {
      "text/plain": [
       "<Figure size 1800x900 with 0 Axes>"
      ]
     },
     "metadata": {},
     "output_type": "display_data"
    },
    {
     "data": {
      "text/plain": [
       "<Figure size 600x600 with 0 Axes>"
      ]
     },
     "metadata": {},
     "output_type": "display_data"
    },
    {
     "data": {
      "text/plain": [
       "<Figure size 1800x900 with 0 Axes>"
      ]
     },
     "metadata": {},
     "output_type": "display_data"
    },
    {
     "data": {
      "text/plain": [
       "<Figure size 600x600 with 0 Axes>"
      ]
     },
     "metadata": {},
     "output_type": "display_data"
    },
    {
     "data": {
      "text/plain": [
       "<Figure size 1800x900 with 0 Axes>"
      ]
     },
     "metadata": {},
     "output_type": "display_data"
    },
    {
     "data": {
      "text/plain": [
       "<Figure size 600x600 with 0 Axes>"
      ]
     },
     "metadata": {},
     "output_type": "display_data"
    },
    {
     "data": {
      "text/plain": [
       "<Figure size 1800x900 with 0 Axes>"
      ]
     },
     "metadata": {},
     "output_type": "display_data"
    },
    {
     "data": {
      "text/plain": [
       "<Figure size 600x600 with 0 Axes>"
      ]
     },
     "metadata": {},
     "output_type": "display_data"
    },
    {
     "data": {
      "text/plain": [
       "<Figure size 1800x900 with 0 Axes>"
      ]
     },
     "metadata": {},
     "output_type": "display_data"
    },
    {
     "data": {
      "text/plain": [
       "<Figure size 600x600 with 0 Axes>"
      ]
     },
     "metadata": {},
     "output_type": "display_data"
    },
    {
     "data": {
      "text/plain": [
       "<Figure size 1800x900 with 0 Axes>"
      ]
     },
     "metadata": {},
     "output_type": "display_data"
    },
    {
     "data": {
      "text/plain": [
       "<Figure size 600x600 with 0 Axes>"
      ]
     },
     "metadata": {},
     "output_type": "display_data"
    },
    {
     "data": {
      "text/plain": [
       "<Figure size 1800x900 with 0 Axes>"
      ]
     },
     "metadata": {},
     "output_type": "display_data"
    },
    {
     "data": {
      "text/plain": [
       "<Figure size 600x600 with 0 Axes>"
      ]
     },
     "metadata": {},
     "output_type": "display_data"
    },
    {
     "data": {
      "text/plain": [
       "<Figure size 1800x900 with 0 Axes>"
      ]
     },
     "metadata": {},
     "output_type": "display_data"
    },
    {
     "data": {
      "text/plain": [
       "<Figure size 600x600 with 0 Axes>"
      ]
     },
     "metadata": {},
     "output_type": "display_data"
    },
    {
     "data": {
      "text/plain": [
       "<Figure size 1800x900 with 0 Axes>"
      ]
     },
     "metadata": {},
     "output_type": "display_data"
    },
    {
     "data": {
      "text/plain": [
       "<Figure size 600x600 with 0 Axes>"
      ]
     },
     "metadata": {},
     "output_type": "display_data"
    },
    {
     "data": {
      "text/plain": [
       "<Figure size 1800x900 with 0 Axes>"
      ]
     },
     "metadata": {},
     "output_type": "display_data"
    },
    {
     "data": {
      "text/plain": [
       "<Figure size 600x600 with 0 Axes>"
      ]
     },
     "metadata": {},
     "output_type": "display_data"
    },
    {
     "data": {
      "text/plain": [
       "<Figure size 1800x900 with 0 Axes>"
      ]
     },
     "metadata": {},
     "output_type": "display_data"
    },
    {
     "data": {
      "text/plain": [
       "<Figure size 600x600 with 0 Axes>"
      ]
     },
     "metadata": {},
     "output_type": "display_data"
    },
    {
     "data": {
      "text/plain": [
       "<Figure size 1800x900 with 0 Axes>"
      ]
     },
     "metadata": {},
     "output_type": "display_data"
    },
    {
     "data": {
      "text/plain": [
       "<Figure size 600x600 with 0 Axes>"
      ]
     },
     "metadata": {},
     "output_type": "display_data"
    },
    {
     "data": {
      "text/plain": [
       "<Figure size 1800x900 with 0 Axes>"
      ]
     },
     "metadata": {},
     "output_type": "display_data"
    },
    {
     "data": {
      "text/plain": [
       "<Figure size 600x600 with 0 Axes>"
      ]
     },
     "metadata": {},
     "output_type": "display_data"
    },
    {
     "data": {
      "text/plain": [
       "<Figure size 1800x900 with 0 Axes>"
      ]
     },
     "metadata": {},
     "output_type": "display_data"
    },
    {
     "data": {
      "text/plain": [
       "<Figure size 600x600 with 0 Axes>"
      ]
     },
     "metadata": {},
     "output_type": "display_data"
    },
    {
     "data": {
      "text/plain": [
       "<Figure size 1800x900 with 0 Axes>"
      ]
     },
     "metadata": {},
     "output_type": "display_data"
    },
    {
     "data": {
      "text/plain": [
       "<Figure size 600x600 with 0 Axes>"
      ]
     },
     "metadata": {},
     "output_type": "display_data"
    },
    {
     "data": {
      "text/plain": [
       "<Figure size 1800x900 with 0 Axes>"
      ]
     },
     "metadata": {},
     "output_type": "display_data"
    },
    {
     "data": {
      "text/plain": [
       "<Figure size 600x600 with 0 Axes>"
      ]
     },
     "metadata": {},
     "output_type": "display_data"
    },
    {
     "data": {
      "text/plain": [
       "<Figure size 1800x900 with 0 Axes>"
      ]
     },
     "metadata": {},
     "output_type": "display_data"
    },
    {
     "data": {
      "text/plain": [
       "<Figure size 600x600 with 0 Axes>"
      ]
     },
     "metadata": {},
     "output_type": "display_data"
    },
    {
     "data": {
      "text/plain": [
       "<Figure size 1800x900 with 0 Axes>"
      ]
     },
     "metadata": {},
     "output_type": "display_data"
    },
    {
     "data": {
      "text/plain": [
       "<Figure size 600x600 with 0 Axes>"
      ]
     },
     "metadata": {},
     "output_type": "display_data"
    },
    {
     "data": {
      "text/plain": [
       "<Figure size 1800x900 with 0 Axes>"
      ]
     },
     "metadata": {},
     "output_type": "display_data"
    },
    {
     "data": {
      "text/plain": [
       "<Figure size 600x600 with 0 Axes>"
      ]
     },
     "metadata": {},
     "output_type": "display_data"
    },
    {
     "data": {
      "text/plain": [
       "<Figure size 1800x900 with 0 Axes>"
      ]
     },
     "metadata": {},
     "output_type": "display_data"
    },
    {
     "data": {
      "text/plain": [
       "<Figure size 600x600 with 0 Axes>"
      ]
     },
     "metadata": {},
     "output_type": "display_data"
    },
    {
     "data": {
      "text/plain": [
       "<Figure size 1800x900 with 0 Axes>"
      ]
     },
     "metadata": {},
     "output_type": "display_data"
    },
    {
     "data": {
      "text/plain": [
       "<Figure size 600x600 with 0 Axes>"
      ]
     },
     "metadata": {},
     "output_type": "display_data"
    },
    {
     "data": {
      "text/plain": [
       "<Figure size 1800x900 with 0 Axes>"
      ]
     },
     "metadata": {},
     "output_type": "display_data"
    },
    {
     "data": {
      "text/plain": [
       "<Figure size 600x600 with 0 Axes>"
      ]
     },
     "metadata": {},
     "output_type": "display_data"
    },
    {
     "data": {
      "text/plain": [
       "<Figure size 1800x900 with 0 Axes>"
      ]
     },
     "metadata": {},
     "output_type": "display_data"
    },
    {
     "data": {
      "text/plain": [
       "<Figure size 600x600 with 0 Axes>"
      ]
     },
     "metadata": {},
     "output_type": "display_data"
    },
    {
     "data": {
      "text/plain": [
       "<Figure size 1800x900 with 0 Axes>"
      ]
     },
     "metadata": {},
     "output_type": "display_data"
    },
    {
     "data": {
      "text/plain": [
       "<Figure size 600x600 with 0 Axes>"
      ]
     },
     "metadata": {},
     "output_type": "display_data"
    },
    {
     "data": {
      "text/plain": [
       "<Figure size 1800x900 with 0 Axes>"
      ]
     },
     "metadata": {},
     "output_type": "display_data"
    },
    {
     "data": {
      "text/plain": [
       "<Figure size 600x600 with 0 Axes>"
      ]
     },
     "metadata": {},
     "output_type": "display_data"
    },
    {
     "data": {
      "text/plain": [
       "<Figure size 1800x900 with 0 Axes>"
      ]
     },
     "metadata": {},
     "output_type": "display_data"
    },
    {
     "data": {
      "text/plain": [
       "<Figure size 600x600 with 0 Axes>"
      ]
     },
     "metadata": {},
     "output_type": "display_data"
    },
    {
     "data": {
      "text/plain": [
       "<Figure size 1800x900 with 0 Axes>"
      ]
     },
     "metadata": {},
     "output_type": "display_data"
    },
    {
     "data": {
      "text/plain": [
       "<Figure size 600x600 with 0 Axes>"
      ]
     },
     "metadata": {},
     "output_type": "display_data"
    },
    {
     "data": {
      "text/plain": [
       "<Figure size 1800x900 with 0 Axes>"
      ]
     },
     "metadata": {},
     "output_type": "display_data"
    },
    {
     "data": {
      "text/plain": [
       "<Figure size 600x600 with 0 Axes>"
      ]
     },
     "metadata": {},
     "output_type": "display_data"
    },
    {
     "data": {
      "text/plain": [
       "<Figure size 1800x900 with 0 Axes>"
      ]
     },
     "metadata": {},
     "output_type": "display_data"
    },
    {
     "data": {
      "text/plain": [
       "<Figure size 600x600 with 0 Axes>"
      ]
     },
     "metadata": {},
     "output_type": "display_data"
    },
    {
     "data": {
      "text/plain": [
       "<Figure size 1800x900 with 0 Axes>"
      ]
     },
     "metadata": {},
     "output_type": "display_data"
    },
    {
     "data": {
      "text/plain": [
       "<Figure size 600x600 with 0 Axes>"
      ]
     },
     "metadata": {},
     "output_type": "display_data"
    },
    {
     "data": {
      "text/plain": [
       "<Figure size 1800x900 with 0 Axes>"
      ]
     },
     "metadata": {},
     "output_type": "display_data"
    },
    {
     "data": {
      "text/plain": [
       "<Figure size 600x600 with 0 Axes>"
      ]
     },
     "metadata": {},
     "output_type": "display_data"
    },
    {
     "data": {
      "text/plain": [
       "<Figure size 1800x900 with 0 Axes>"
      ]
     },
     "metadata": {},
     "output_type": "display_data"
    },
    {
     "data": {
      "text/plain": [
       "<Figure size 600x600 with 0 Axes>"
      ]
     },
     "metadata": {},
     "output_type": "display_data"
    },
    {
     "data": {
      "text/plain": [
       "<Figure size 1800x900 with 0 Axes>"
      ]
     },
     "metadata": {},
     "output_type": "display_data"
    },
    {
     "data": {
      "text/plain": [
       "<Figure size 600x600 with 0 Axes>"
      ]
     },
     "metadata": {},
     "output_type": "display_data"
    },
    {
     "data": {
      "text/plain": [
       "<Figure size 1800x900 with 0 Axes>"
      ]
     },
     "metadata": {},
     "output_type": "display_data"
    },
    {
     "data": {
      "text/plain": [
       "<Figure size 600x600 with 0 Axes>"
      ]
     },
     "metadata": {},
     "output_type": "display_data"
    },
    {
     "data": {
      "text/plain": [
       "<Figure size 1800x900 with 0 Axes>"
      ]
     },
     "metadata": {},
     "output_type": "display_data"
    },
    {
     "data": {
      "text/plain": [
       "<Figure size 600x600 with 0 Axes>"
      ]
     },
     "metadata": {},
     "output_type": "display_data"
    },
    {
     "data": {
      "text/plain": [
       "<Figure size 1800x900 with 0 Axes>"
      ]
     },
     "metadata": {},
     "output_type": "display_data"
    },
    {
     "data": {
      "text/plain": [
       "<Figure size 600x600 with 0 Axes>"
      ]
     },
     "metadata": {},
     "output_type": "display_data"
    },
    {
     "data": {
      "text/plain": [
       "<Figure size 1800x900 with 0 Axes>"
      ]
     },
     "metadata": {},
     "output_type": "display_data"
    },
    {
     "data": {
      "text/plain": [
       "<Figure size 600x600 with 0 Axes>"
      ]
     },
     "metadata": {},
     "output_type": "display_data"
    },
    {
     "data": {
      "text/plain": [
       "<Figure size 1800x900 with 0 Axes>"
      ]
     },
     "metadata": {},
     "output_type": "display_data"
    },
    {
     "data": {
      "text/plain": [
       "<Figure size 600x600 with 0 Axes>"
      ]
     },
     "metadata": {},
     "output_type": "display_data"
    },
    {
     "data": {
      "text/plain": [
       "<Figure size 1800x900 with 0 Axes>"
      ]
     },
     "metadata": {},
     "output_type": "display_data"
    },
    {
     "data": {
      "text/plain": [
       "<Figure size 600x600 with 0 Axes>"
      ]
     },
     "metadata": {},
     "output_type": "display_data"
    },
    {
     "data": {
      "text/plain": [
       "<Figure size 1800x900 with 0 Axes>"
      ]
     },
     "metadata": {},
     "output_type": "display_data"
    },
    {
     "data": {
      "text/plain": [
       "<Figure size 600x600 with 0 Axes>"
      ]
     },
     "metadata": {},
     "output_type": "display_data"
    },
    {
     "data": {
      "text/plain": [
       "<Figure size 1800x900 with 0 Axes>"
      ]
     },
     "metadata": {},
     "output_type": "display_data"
    },
    {
     "data": {
      "text/plain": [
       "<Figure size 600x600 with 0 Axes>"
      ]
     },
     "metadata": {},
     "output_type": "display_data"
    },
    {
     "data": {
      "text/plain": [
       "<Figure size 1800x900 with 0 Axes>"
      ]
     },
     "metadata": {},
     "output_type": "display_data"
    },
    {
     "data": {
      "text/plain": [
       "<Figure size 600x600 with 0 Axes>"
      ]
     },
     "metadata": {},
     "output_type": "display_data"
    },
    {
     "data": {
      "text/plain": [
       "<Figure size 1800x900 with 0 Axes>"
      ]
     },
     "metadata": {},
     "output_type": "display_data"
    },
    {
     "data": {
      "text/plain": [
       "<Figure size 600x600 with 0 Axes>"
      ]
     },
     "metadata": {},
     "output_type": "display_data"
    },
    {
     "data": {
      "text/plain": [
       "<Figure size 1800x900 with 0 Axes>"
      ]
     },
     "metadata": {},
     "output_type": "display_data"
    },
    {
     "data": {
      "text/plain": [
       "<Figure size 600x600 with 0 Axes>"
      ]
     },
     "metadata": {},
     "output_type": "display_data"
    },
    {
     "data": {
      "text/plain": [
       "<Figure size 1800x900 with 0 Axes>"
      ]
     },
     "metadata": {},
     "output_type": "display_data"
    },
    {
     "data": {
      "text/plain": [
       "<Figure size 600x600 with 0 Axes>"
      ]
     },
     "metadata": {},
     "output_type": "display_data"
    },
    {
     "data": {
      "text/plain": [
       "<Figure size 1800x900 with 0 Axes>"
      ]
     },
     "metadata": {},
     "output_type": "display_data"
    },
    {
     "data": {
      "text/plain": [
       "<Figure size 600x600 with 0 Axes>"
      ]
     },
     "metadata": {},
     "output_type": "display_data"
    },
    {
     "data": {
      "text/plain": [
       "<Figure size 1800x900 with 0 Axes>"
      ]
     },
     "metadata": {},
     "output_type": "display_data"
    },
    {
     "data": {
      "text/plain": [
       "<Figure size 600x600 with 0 Axes>"
      ]
     },
     "metadata": {},
     "output_type": "display_data"
    },
    {
     "data": {
      "text/plain": [
       "<Figure size 1800x900 with 0 Axes>"
      ]
     },
     "metadata": {},
     "output_type": "display_data"
    },
    {
     "data": {
      "text/plain": [
       "<Figure size 600x600 with 0 Axes>"
      ]
     },
     "metadata": {},
     "output_type": "display_data"
    },
    {
     "data": {
      "text/plain": [
       "<Figure size 1800x900 with 0 Axes>"
      ]
     },
     "metadata": {},
     "output_type": "display_data"
    },
    {
     "data": {
      "text/plain": [
       "<Figure size 600x600 with 0 Axes>"
      ]
     },
     "metadata": {},
     "output_type": "display_data"
    },
    {
     "data": {
      "text/plain": [
       "<Figure size 1800x900 with 0 Axes>"
      ]
     },
     "metadata": {},
     "output_type": "display_data"
    },
    {
     "data": {
      "text/plain": [
       "<Figure size 600x600 with 0 Axes>"
      ]
     },
     "metadata": {},
     "output_type": "display_data"
    },
    {
     "data": {
      "text/plain": [
       "<Figure size 1800x900 with 0 Axes>"
      ]
     },
     "metadata": {},
     "output_type": "display_data"
    },
    {
     "data": {
      "text/plain": [
       "<Figure size 600x600 with 0 Axes>"
      ]
     },
     "metadata": {},
     "output_type": "display_data"
    },
    {
     "data": {
      "text/plain": [
       "<Figure size 1800x900 with 0 Axes>"
      ]
     },
     "metadata": {},
     "output_type": "display_data"
    },
    {
     "data": {
      "text/plain": [
       "<Figure size 600x600 with 0 Axes>"
      ]
     },
     "metadata": {},
     "output_type": "display_data"
    },
    {
     "data": {
      "text/plain": [
       "<Figure size 1800x900 with 0 Axes>"
      ]
     },
     "metadata": {},
     "output_type": "display_data"
    },
    {
     "data": {
      "text/plain": [
       "<Figure size 600x600 with 0 Axes>"
      ]
     },
     "metadata": {},
     "output_type": "display_data"
    },
    {
     "data": {
      "text/plain": [
       "<Figure size 1800x900 with 0 Axes>"
      ]
     },
     "metadata": {},
     "output_type": "display_data"
    },
    {
     "data": {
      "text/plain": [
       "<Figure size 600x600 with 0 Axes>"
      ]
     },
     "metadata": {},
     "output_type": "display_data"
    },
    {
     "data": {
      "text/plain": [
       "<Figure size 1800x900 with 0 Axes>"
      ]
     },
     "metadata": {},
     "output_type": "display_data"
    },
    {
     "data": {
      "text/plain": [
       "<Figure size 600x600 with 0 Axes>"
      ]
     },
     "metadata": {},
     "output_type": "display_data"
    },
    {
     "data": {
      "text/plain": [
       "<Figure size 1800x900 with 0 Axes>"
      ]
     },
     "metadata": {},
     "output_type": "display_data"
    },
    {
     "data": {
      "text/plain": [
       "<Figure size 600x600 with 0 Axes>"
      ]
     },
     "metadata": {},
     "output_type": "display_data"
    },
    {
     "data": {
      "text/plain": [
       "<Figure size 1800x900 with 0 Axes>"
      ]
     },
     "metadata": {},
     "output_type": "display_data"
    },
    {
     "data": {
      "text/plain": [
       "<Figure size 600x600 with 0 Axes>"
      ]
     },
     "metadata": {},
     "output_type": "display_data"
    },
    {
     "data": {
      "text/plain": [
       "<Figure size 1800x900 with 0 Axes>"
      ]
     },
     "metadata": {},
     "output_type": "display_data"
    },
    {
     "data": {
      "text/plain": [
       "<Figure size 600x600 with 0 Axes>"
      ]
     },
     "metadata": {},
     "output_type": "display_data"
    },
    {
     "data": {
      "text/plain": [
       "<Figure size 1800x900 with 0 Axes>"
      ]
     },
     "metadata": {},
     "output_type": "display_data"
    },
    {
     "data": {
      "text/plain": [
       "<Figure size 600x600 with 0 Axes>"
      ]
     },
     "metadata": {},
     "output_type": "display_data"
    },
    {
     "data": {
      "text/plain": [
       "<Figure size 1800x900 with 0 Axes>"
      ]
     },
     "metadata": {},
     "output_type": "display_data"
    },
    {
     "data": {
      "text/plain": [
       "<Figure size 600x600 with 0 Axes>"
      ]
     },
     "metadata": {},
     "output_type": "display_data"
    },
    {
     "data": {
      "text/plain": [
       "<Figure size 1800x900 with 0 Axes>"
      ]
     },
     "metadata": {},
     "output_type": "display_data"
    },
    {
     "data": {
      "text/plain": [
       "<Figure size 600x600 with 0 Axes>"
      ]
     },
     "metadata": {},
     "output_type": "display_data"
    },
    {
     "data": {
      "text/plain": [
       "<Figure size 1800x900 with 0 Axes>"
      ]
     },
     "metadata": {},
     "output_type": "display_data"
    },
    {
     "data": {
      "text/plain": [
       "<Figure size 600x600 with 0 Axes>"
      ]
     },
     "metadata": {},
     "output_type": "display_data"
    },
    {
     "data": {
      "text/plain": [
       "<Figure size 1800x900 with 0 Axes>"
      ]
     },
     "metadata": {},
     "output_type": "display_data"
    },
    {
     "data": {
      "text/plain": [
       "<Figure size 600x600 with 0 Axes>"
      ]
     },
     "metadata": {},
     "output_type": "display_data"
    },
    {
     "data": {
      "text/plain": [
       "<Figure size 1800x900 with 0 Axes>"
      ]
     },
     "metadata": {},
     "output_type": "display_data"
    },
    {
     "data": {
      "text/plain": [
       "<Figure size 600x600 with 0 Axes>"
      ]
     },
     "metadata": {},
     "output_type": "display_data"
    },
    {
     "data": {
      "text/plain": [
       "<Figure size 1800x900 with 0 Axes>"
      ]
     },
     "metadata": {},
     "output_type": "display_data"
    },
    {
     "data": {
      "text/plain": [
       "<Figure size 600x600 with 0 Axes>"
      ]
     },
     "metadata": {},
     "output_type": "display_data"
    },
    {
     "data": {
      "text/plain": [
       "<Figure size 1800x900 with 0 Axes>"
      ]
     },
     "metadata": {},
     "output_type": "display_data"
    },
    {
     "data": {
      "text/plain": [
       "<Figure size 600x600 with 0 Axes>"
      ]
     },
     "metadata": {},
     "output_type": "display_data"
    },
    {
     "data": {
      "text/plain": [
       "<Figure size 1800x900 with 0 Axes>"
      ]
     },
     "metadata": {},
     "output_type": "display_data"
    },
    {
     "data": {
      "text/plain": [
       "<Figure size 600x600 with 0 Axes>"
      ]
     },
     "metadata": {},
     "output_type": "display_data"
    },
    {
     "data": {
      "text/plain": [
       "<Figure size 1800x900 with 0 Axes>"
      ]
     },
     "metadata": {},
     "output_type": "display_data"
    },
    {
     "data": {
      "text/plain": [
       "<Figure size 600x600 with 0 Axes>"
      ]
     },
     "metadata": {},
     "output_type": "display_data"
    },
    {
     "data": {
      "text/plain": [
       "<Figure size 1800x900 with 0 Axes>"
      ]
     },
     "metadata": {},
     "output_type": "display_data"
    },
    {
     "data": {
      "text/plain": [
       "<Figure size 600x600 with 0 Axes>"
      ]
     },
     "metadata": {},
     "output_type": "display_data"
    },
    {
     "data": {
      "text/plain": [
       "<Figure size 1800x900 with 0 Axes>"
      ]
     },
     "metadata": {},
     "output_type": "display_data"
    },
    {
     "data": {
      "text/plain": [
       "<Figure size 600x600 with 0 Axes>"
      ]
     },
     "metadata": {},
     "output_type": "display_data"
    },
    {
     "data": {
      "text/plain": [
       "<Figure size 1800x900 with 0 Axes>"
      ]
     },
     "metadata": {},
     "output_type": "display_data"
    },
    {
     "data": {
      "text/plain": [
       "<Figure size 600x600 with 0 Axes>"
      ]
     },
     "metadata": {},
     "output_type": "display_data"
    },
    {
     "data": {
      "text/plain": [
       "<Figure size 1800x900 with 0 Axes>"
      ]
     },
     "metadata": {},
     "output_type": "display_data"
    },
    {
     "data": {
      "text/plain": [
       "<Figure size 600x600 with 0 Axes>"
      ]
     },
     "metadata": {},
     "output_type": "display_data"
    },
    {
     "data": {
      "text/plain": [
       "<Figure size 1800x900 with 0 Axes>"
      ]
     },
     "metadata": {},
     "output_type": "display_data"
    },
    {
     "data": {
      "text/plain": [
       "<Figure size 600x600 with 0 Axes>"
      ]
     },
     "metadata": {},
     "output_type": "display_data"
    },
    {
     "data": {
      "text/plain": [
       "<Figure size 1800x900 with 0 Axes>"
      ]
     },
     "metadata": {},
     "output_type": "display_data"
    },
    {
     "data": {
      "text/plain": [
       "<Figure size 600x600 with 0 Axes>"
      ]
     },
     "metadata": {},
     "output_type": "display_data"
    },
    {
     "data": {
      "text/plain": [
       "<Figure size 1800x900 with 0 Axes>"
      ]
     },
     "metadata": {},
     "output_type": "display_data"
    },
    {
     "data": {
      "text/plain": [
       "<Figure size 600x600 with 0 Axes>"
      ]
     },
     "metadata": {},
     "output_type": "display_data"
    },
    {
     "data": {
      "text/plain": [
       "<Figure size 1800x900 with 0 Axes>"
      ]
     },
     "metadata": {},
     "output_type": "display_data"
    },
    {
     "data": {
      "text/plain": [
       "<Figure size 600x600 with 0 Axes>"
      ]
     },
     "metadata": {},
     "output_type": "display_data"
    },
    {
     "data": {
      "text/plain": [
       "<Figure size 1800x900 with 0 Axes>"
      ]
     },
     "metadata": {},
     "output_type": "display_data"
    },
    {
     "data": {
      "text/plain": [
       "<Figure size 600x600 with 0 Axes>"
      ]
     },
     "metadata": {},
     "output_type": "display_data"
    },
    {
     "data": {
      "text/plain": [
       "<Figure size 1800x900 with 0 Axes>"
      ]
     },
     "metadata": {},
     "output_type": "display_data"
    },
    {
     "data": {
      "text/plain": [
       "<Figure size 600x600 with 0 Axes>"
      ]
     },
     "metadata": {},
     "output_type": "display_data"
    },
    {
     "data": {
      "text/plain": [
       "<Figure size 1800x900 with 0 Axes>"
      ]
     },
     "metadata": {},
     "output_type": "display_data"
    },
    {
     "data": {
      "text/plain": [
       "<Figure size 600x600 with 0 Axes>"
      ]
     },
     "metadata": {},
     "output_type": "display_data"
    },
    {
     "data": {
      "text/plain": [
       "<Figure size 1800x900 with 0 Axes>"
      ]
     },
     "metadata": {},
     "output_type": "display_data"
    },
    {
     "data": {
      "text/plain": [
       "<Figure size 600x600 with 0 Axes>"
      ]
     },
     "metadata": {},
     "output_type": "display_data"
    },
    {
     "data": {
      "text/plain": [
       "<Figure size 1800x900 with 0 Axes>"
      ]
     },
     "metadata": {},
     "output_type": "display_data"
    },
    {
     "data": {
      "text/plain": [
       "<Figure size 600x600 with 0 Axes>"
      ]
     },
     "metadata": {},
     "output_type": "display_data"
    },
    {
     "data": {
      "text/plain": [
       "<Figure size 1800x900 with 0 Axes>"
      ]
     },
     "metadata": {},
     "output_type": "display_data"
    },
    {
     "data": {
      "text/plain": [
       "<Figure size 600x600 with 0 Axes>"
      ]
     },
     "metadata": {},
     "output_type": "display_data"
    },
    {
     "data": {
      "text/plain": [
       "<Figure size 1800x900 with 0 Axes>"
      ]
     },
     "metadata": {},
     "output_type": "display_data"
    },
    {
     "data": {
      "text/plain": [
       "<Figure size 600x600 with 0 Axes>"
      ]
     },
     "metadata": {},
     "output_type": "display_data"
    },
    {
     "data": {
      "text/plain": [
       "<Figure size 1800x900 with 0 Axes>"
      ]
     },
     "metadata": {},
     "output_type": "display_data"
    },
    {
     "data": {
      "text/plain": [
       "<Figure size 600x600 with 0 Axes>"
      ]
     },
     "metadata": {},
     "output_type": "display_data"
    },
    {
     "data": {
      "text/plain": [
       "<Figure size 1800x900 with 0 Axes>"
      ]
     },
     "metadata": {},
     "output_type": "display_data"
    },
    {
     "data": {
      "text/plain": [
       "<Figure size 600x600 with 0 Axes>"
      ]
     },
     "metadata": {},
     "output_type": "display_data"
    },
    {
     "data": {
      "text/plain": [
       "<Figure size 1800x900 with 0 Axes>"
      ]
     },
     "metadata": {},
     "output_type": "display_data"
    },
    {
     "data": {
      "text/plain": [
       "<Figure size 600x600 with 0 Axes>"
      ]
     },
     "metadata": {},
     "output_type": "display_data"
    },
    {
     "data": {
      "text/plain": [
       "<Figure size 1800x900 with 0 Axes>"
      ]
     },
     "metadata": {},
     "output_type": "display_data"
    },
    {
     "data": {
      "text/plain": [
       "<Figure size 600x600 with 0 Axes>"
      ]
     },
     "metadata": {},
     "output_type": "display_data"
    },
    {
     "data": {
      "text/plain": [
       "<Figure size 1800x900 with 0 Axes>"
      ]
     },
     "metadata": {},
     "output_type": "display_data"
    },
    {
     "data": {
      "text/plain": [
       "<Figure size 600x600 with 0 Axes>"
      ]
     },
     "metadata": {},
     "output_type": "display_data"
    },
    {
     "data": {
      "text/plain": [
       "<Figure size 1800x900 with 0 Axes>"
      ]
     },
     "metadata": {},
     "output_type": "display_data"
    },
    {
     "data": {
      "text/plain": [
       "<Figure size 600x600 with 0 Axes>"
      ]
     },
     "metadata": {},
     "output_type": "display_data"
    },
    {
     "data": {
      "text/plain": [
       "<Figure size 1800x900 with 0 Axes>"
      ]
     },
     "metadata": {},
     "output_type": "display_data"
    },
    {
     "data": {
      "text/plain": [
       "<Figure size 600x600 with 0 Axes>"
      ]
     },
     "metadata": {},
     "output_type": "display_data"
    },
    {
     "data": {
      "text/plain": [
       "<Figure size 1800x900 with 0 Axes>"
      ]
     },
     "metadata": {},
     "output_type": "display_data"
    },
    {
     "data": {
      "text/plain": [
       "<Figure size 600x600 with 0 Axes>"
      ]
     },
     "metadata": {},
     "output_type": "display_data"
    },
    {
     "data": {
      "text/plain": [
       "<Figure size 1800x900 with 0 Axes>"
      ]
     },
     "metadata": {},
     "output_type": "display_data"
    },
    {
     "data": {
      "text/plain": [
       "<Figure size 600x600 with 0 Axes>"
      ]
     },
     "metadata": {},
     "output_type": "display_data"
    },
    {
     "data": {
      "text/plain": [
       "<Figure size 1800x900 with 0 Axes>"
      ]
     },
     "metadata": {},
     "output_type": "display_data"
    },
    {
     "data": {
      "text/plain": [
       "<Figure size 600x600 with 0 Axes>"
      ]
     },
     "metadata": {},
     "output_type": "display_data"
    },
    {
     "data": {
      "text/plain": [
       "<Figure size 1800x900 with 0 Axes>"
      ]
     },
     "metadata": {},
     "output_type": "display_data"
    },
    {
     "data": {
      "text/plain": [
       "<Figure size 600x600 with 0 Axes>"
      ]
     },
     "metadata": {},
     "output_type": "display_data"
    },
    {
     "data": {
      "text/plain": [
       "<Figure size 1800x900 with 0 Axes>"
      ]
     },
     "metadata": {},
     "output_type": "display_data"
    },
    {
     "data": {
      "text/plain": [
       "<Figure size 600x600 with 0 Axes>"
      ]
     },
     "metadata": {},
     "output_type": "display_data"
    },
    {
     "data": {
      "text/plain": [
       "<Figure size 1800x900 with 0 Axes>"
      ]
     },
     "metadata": {},
     "output_type": "display_data"
    },
    {
     "data": {
      "text/plain": [
       "<Figure size 600x600 with 0 Axes>"
      ]
     },
     "metadata": {},
     "output_type": "display_data"
    },
    {
     "data": {
      "text/plain": [
       "<Figure size 1800x900 with 0 Axes>"
      ]
     },
     "metadata": {},
     "output_type": "display_data"
    },
    {
     "data": {
      "text/plain": [
       "<Figure size 600x600 with 0 Axes>"
      ]
     },
     "metadata": {},
     "output_type": "display_data"
    },
    {
     "data": {
      "text/plain": [
       "<Figure size 1800x900 with 0 Axes>"
      ]
     },
     "metadata": {},
     "output_type": "display_data"
    },
    {
     "data": {
      "text/plain": [
       "<Figure size 600x600 with 0 Axes>"
      ]
     },
     "metadata": {},
     "output_type": "display_data"
    },
    {
     "data": {
      "text/plain": [
       "<Figure size 1800x900 with 0 Axes>"
      ]
     },
     "metadata": {},
     "output_type": "display_data"
    },
    {
     "data": {
      "text/plain": [
       "<Figure size 600x600 with 0 Axes>"
      ]
     },
     "metadata": {},
     "output_type": "display_data"
    },
    {
     "data": {
      "text/plain": [
       "<Figure size 1800x900 with 0 Axes>"
      ]
     },
     "metadata": {},
     "output_type": "display_data"
    },
    {
     "data": {
      "text/plain": [
       "<Figure size 600x600 with 0 Axes>"
      ]
     },
     "metadata": {},
     "output_type": "display_data"
    },
    {
     "data": {
      "text/plain": [
       "<Figure size 1800x900 with 0 Axes>"
      ]
     },
     "metadata": {},
     "output_type": "display_data"
    },
    {
     "data": {
      "text/plain": [
       "<Figure size 600x600 with 0 Axes>"
      ]
     },
     "metadata": {},
     "output_type": "display_data"
    },
    {
     "data": {
      "text/plain": [
       "<Figure size 1800x900 with 0 Axes>"
      ]
     },
     "metadata": {},
     "output_type": "display_data"
    },
    {
     "data": {
      "text/plain": [
       "<Figure size 600x600 with 0 Axes>"
      ]
     },
     "metadata": {},
     "output_type": "display_data"
    },
    {
     "data": {
      "text/plain": [
       "<Figure size 1800x900 with 0 Axes>"
      ]
     },
     "metadata": {},
     "output_type": "display_data"
    },
    {
     "data": {
      "text/plain": [
       "<Figure size 600x600 with 0 Axes>"
      ]
     },
     "metadata": {},
     "output_type": "display_data"
    },
    {
     "data": {
      "text/plain": [
       "<Figure size 1800x900 with 0 Axes>"
      ]
     },
     "metadata": {},
     "output_type": "display_data"
    },
    {
     "data": {
      "text/plain": [
       "<Figure size 600x600 with 0 Axes>"
      ]
     },
     "metadata": {},
     "output_type": "display_data"
    },
    {
     "data": {
      "text/plain": [
       "<Figure size 1800x900 with 0 Axes>"
      ]
     },
     "metadata": {},
     "output_type": "display_data"
    },
    {
     "data": {
      "text/plain": [
       "<Figure size 600x600 with 0 Axes>"
      ]
     },
     "metadata": {},
     "output_type": "display_data"
    },
    {
     "data": {
      "text/plain": [
       "<Figure size 1800x900 with 0 Axes>"
      ]
     },
     "metadata": {},
     "output_type": "display_data"
    },
    {
     "data": {
      "text/plain": [
       "<Figure size 600x600 with 0 Axes>"
      ]
     },
     "metadata": {},
     "output_type": "display_data"
    },
    {
     "data": {
      "text/plain": [
       "<Figure size 1800x900 with 0 Axes>"
      ]
     },
     "metadata": {},
     "output_type": "display_data"
    },
    {
     "data": {
      "text/plain": [
       "<Figure size 600x600 with 0 Axes>"
      ]
     },
     "metadata": {},
     "output_type": "display_data"
    },
    {
     "data": {
      "text/plain": [
       "<Figure size 1800x900 with 0 Axes>"
      ]
     },
     "metadata": {},
     "output_type": "display_data"
    },
    {
     "data": {
      "text/plain": [
       "<Figure size 600x600 with 0 Axes>"
      ]
     },
     "metadata": {},
     "output_type": "display_data"
    },
    {
     "data": {
      "text/plain": [
       "<Figure size 1800x900 with 0 Axes>"
      ]
     },
     "metadata": {},
     "output_type": "display_data"
    },
    {
     "data": {
      "text/plain": [
       "<Figure size 600x600 with 0 Axes>"
      ]
     },
     "metadata": {},
     "output_type": "display_data"
    },
    {
     "data": {
      "text/plain": [
       "<Figure size 1800x900 with 0 Axes>"
      ]
     },
     "metadata": {},
     "output_type": "display_data"
    },
    {
     "data": {
      "text/plain": [
       "<Figure size 600x600 with 0 Axes>"
      ]
     },
     "metadata": {},
     "output_type": "display_data"
    },
    {
     "data": {
      "text/plain": [
       "<Figure size 1800x900 with 0 Axes>"
      ]
     },
     "metadata": {},
     "output_type": "display_data"
    },
    {
     "data": {
      "text/plain": [
       "<Figure size 600x600 with 0 Axes>"
      ]
     },
     "metadata": {},
     "output_type": "display_data"
    },
    {
     "data": {
      "text/plain": [
       "<Figure size 1800x900 with 0 Axes>"
      ]
     },
     "metadata": {},
     "output_type": "display_data"
    },
    {
     "data": {
      "text/plain": [
       "<Figure size 600x600 with 0 Axes>"
      ]
     },
     "metadata": {},
     "output_type": "display_data"
    },
    {
     "data": {
      "text/plain": [
       "<Figure size 1800x900 with 0 Axes>"
      ]
     },
     "metadata": {},
     "output_type": "display_data"
    },
    {
     "data": {
      "text/plain": [
       "<Figure size 600x600 with 0 Axes>"
      ]
     },
     "metadata": {},
     "output_type": "display_data"
    },
    {
     "data": {
      "text/plain": [
       "<Figure size 1800x900 with 0 Axes>"
      ]
     },
     "metadata": {},
     "output_type": "display_data"
    },
    {
     "data": {
      "text/plain": [
       "<Figure size 600x600 with 0 Axes>"
      ]
     },
     "metadata": {},
     "output_type": "display_data"
    },
    {
     "data": {
      "text/plain": [
       "<Figure size 1800x900 with 0 Axes>"
      ]
     },
     "metadata": {},
     "output_type": "display_data"
    },
    {
     "data": {
      "text/plain": [
       "<Figure size 600x600 with 0 Axes>"
      ]
     },
     "metadata": {},
     "output_type": "display_data"
    },
    {
     "data": {
      "text/plain": [
       "<Figure size 1800x900 with 0 Axes>"
      ]
     },
     "metadata": {},
     "output_type": "display_data"
    },
    {
     "data": {
      "text/plain": [
       "<Figure size 600x600 with 0 Axes>"
      ]
     },
     "metadata": {},
     "output_type": "display_data"
    },
    {
     "data": {
      "text/plain": [
       "<Figure size 1800x900 with 0 Axes>"
      ]
     },
     "metadata": {},
     "output_type": "display_data"
    },
    {
     "data": {
      "text/plain": [
       "<Figure size 600x600 with 0 Axes>"
      ]
     },
     "metadata": {},
     "output_type": "display_data"
    },
    {
     "data": {
      "text/plain": [
       "<Figure size 1800x900 with 0 Axes>"
      ]
     },
     "metadata": {},
     "output_type": "display_data"
    },
    {
     "data": {
      "text/plain": [
       "<Figure size 600x600 with 0 Axes>"
      ]
     },
     "metadata": {},
     "output_type": "display_data"
    },
    {
     "data": {
      "text/plain": [
       "<Figure size 1800x900 with 0 Axes>"
      ]
     },
     "metadata": {},
     "output_type": "display_data"
    },
    {
     "data": {
      "text/plain": [
       "<Figure size 600x600 with 0 Axes>"
      ]
     },
     "metadata": {},
     "output_type": "display_data"
    },
    {
     "data": {
      "text/plain": [
       "<Figure size 1800x900 with 0 Axes>"
      ]
     },
     "metadata": {},
     "output_type": "display_data"
    },
    {
     "data": {
      "text/plain": [
       "<Figure size 600x600 with 0 Axes>"
      ]
     },
     "metadata": {},
     "output_type": "display_data"
    },
    {
     "data": {
      "text/plain": [
       "<Figure size 1800x900 with 0 Axes>"
      ]
     },
     "metadata": {},
     "output_type": "display_data"
    },
    {
     "data": {
      "text/plain": [
       "<Figure size 600x600 with 0 Axes>"
      ]
     },
     "metadata": {},
     "output_type": "display_data"
    },
    {
     "data": {
      "text/plain": [
       "<Figure size 1800x900 with 0 Axes>"
      ]
     },
     "metadata": {},
     "output_type": "display_data"
    },
    {
     "data": {
      "text/plain": [
       "<Figure size 600x600 with 0 Axes>"
      ]
     },
     "metadata": {},
     "output_type": "display_data"
    },
    {
     "data": {
      "text/plain": [
       "<Figure size 1800x900 with 0 Axes>"
      ]
     },
     "metadata": {},
     "output_type": "display_data"
    },
    {
     "data": {
      "text/plain": [
       "<Figure size 600x600 with 0 Axes>"
      ]
     },
     "metadata": {},
     "output_type": "display_data"
    },
    {
     "data": {
      "text/plain": [
       "<Figure size 1800x900 with 0 Axes>"
      ]
     },
     "metadata": {},
     "output_type": "display_data"
    },
    {
     "data": {
      "text/plain": [
       "<Figure size 600x600 with 0 Axes>"
      ]
     },
     "metadata": {},
     "output_type": "display_data"
    },
    {
     "data": {
      "text/plain": [
       "<Figure size 1800x900 with 0 Axes>"
      ]
     },
     "metadata": {},
     "output_type": "display_data"
    },
    {
     "data": {
      "text/plain": [
       "<Figure size 600x600 with 0 Axes>"
      ]
     },
     "metadata": {},
     "output_type": "display_data"
    },
    {
     "data": {
      "text/plain": [
       "<Figure size 1800x900 with 0 Axes>"
      ]
     },
     "metadata": {},
     "output_type": "display_data"
    },
    {
     "data": {
      "text/plain": [
       "<Figure size 600x600 with 0 Axes>"
      ]
     },
     "metadata": {},
     "output_type": "display_data"
    },
    {
     "data": {
      "text/plain": [
       "<Figure size 1800x900 with 0 Axes>"
      ]
     },
     "metadata": {},
     "output_type": "display_data"
    },
    {
     "data": {
      "text/plain": [
       "<Figure size 600x600 with 0 Axes>"
      ]
     },
     "metadata": {},
     "output_type": "display_data"
    },
    {
     "data": {
      "text/plain": [
       "<Figure size 1800x900 with 0 Axes>"
      ]
     },
     "metadata": {},
     "output_type": "display_data"
    },
    {
     "data": {
      "text/plain": [
       "<Figure size 600x600 with 0 Axes>"
      ]
     },
     "metadata": {},
     "output_type": "display_data"
    },
    {
     "data": {
      "text/plain": [
       "<Figure size 1800x900 with 0 Axes>"
      ]
     },
     "metadata": {},
     "output_type": "display_data"
    },
    {
     "data": {
      "text/plain": [
       "<Figure size 600x600 with 0 Axes>"
      ]
     },
     "metadata": {},
     "output_type": "display_data"
    },
    {
     "data": {
      "text/plain": [
       "<Figure size 1800x900 with 0 Axes>"
      ]
     },
     "metadata": {},
     "output_type": "display_data"
    },
    {
     "data": {
      "text/plain": [
       "<Figure size 600x600 with 0 Axes>"
      ]
     },
     "metadata": {},
     "output_type": "display_data"
    },
    {
     "data": {
      "text/plain": [
       "<Figure size 1800x900 with 0 Axes>"
      ]
     },
     "metadata": {},
     "output_type": "display_data"
    },
    {
     "data": {
      "text/plain": [
       "<Figure size 600x600 with 0 Axes>"
      ]
     },
     "metadata": {},
     "output_type": "display_data"
    },
    {
     "data": {
      "text/plain": [
       "<Figure size 1800x900 with 0 Axes>"
      ]
     },
     "metadata": {},
     "output_type": "display_data"
    },
    {
     "data": {
      "text/plain": [
       "<Figure size 600x600 with 0 Axes>"
      ]
     },
     "metadata": {},
     "output_type": "display_data"
    },
    {
     "data": {
      "text/plain": [
       "<Figure size 1800x900 with 0 Axes>"
      ]
     },
     "metadata": {},
     "output_type": "display_data"
    },
    {
     "data": {
      "text/plain": [
       "<Figure size 600x600 with 0 Axes>"
      ]
     },
     "metadata": {},
     "output_type": "display_data"
    },
    {
     "data": {
      "text/plain": [
       "<Figure size 1800x900 with 0 Axes>"
      ]
     },
     "metadata": {},
     "output_type": "display_data"
    },
    {
     "data": {
      "text/plain": [
       "<Figure size 600x600 with 0 Axes>"
      ]
     },
     "metadata": {},
     "output_type": "display_data"
    },
    {
     "data": {
      "text/plain": [
       "<Figure size 1800x900 with 0 Axes>"
      ]
     },
     "metadata": {},
     "output_type": "display_data"
    },
    {
     "data": {
      "text/plain": [
       "<Figure size 600x600 with 0 Axes>"
      ]
     },
     "metadata": {},
     "output_type": "display_data"
    },
    {
     "data": {
      "text/plain": [
       "<Figure size 1800x900 with 0 Axes>"
      ]
     },
     "metadata": {},
     "output_type": "display_data"
    },
    {
     "data": {
      "text/plain": [
       "<Figure size 600x600 with 0 Axes>"
      ]
     },
     "metadata": {},
     "output_type": "display_data"
    },
    {
     "data": {
      "text/plain": [
       "<Figure size 1800x900 with 0 Axes>"
      ]
     },
     "metadata": {},
     "output_type": "display_data"
    },
    {
     "data": {
      "text/plain": [
       "<Figure size 600x600 with 0 Axes>"
      ]
     },
     "metadata": {},
     "output_type": "display_data"
    },
    {
     "data": {
      "text/plain": [
       "<Figure size 1800x900 with 0 Axes>"
      ]
     },
     "metadata": {},
     "output_type": "display_data"
    },
    {
     "data": {
      "text/plain": [
       "<Figure size 600x600 with 0 Axes>"
      ]
     },
     "metadata": {},
     "output_type": "display_data"
    },
    {
     "data": {
      "text/plain": [
       "<Figure size 1800x900 with 0 Axes>"
      ]
     },
     "metadata": {},
     "output_type": "display_data"
    },
    {
     "data": {
      "text/plain": [
       "<Figure size 600x600 with 0 Axes>"
      ]
     },
     "metadata": {},
     "output_type": "display_data"
    },
    {
     "data": {
      "text/plain": [
       "<Figure size 1800x900 with 0 Axes>"
      ]
     },
     "metadata": {},
     "output_type": "display_data"
    },
    {
     "data": {
      "text/plain": [
       "<Figure size 600x600 with 0 Axes>"
      ]
     },
     "metadata": {},
     "output_type": "display_data"
    },
    {
     "data": {
      "text/plain": [
       "<Figure size 1800x900 with 0 Axes>"
      ]
     },
     "metadata": {},
     "output_type": "display_data"
    },
    {
     "data": {
      "text/plain": [
       "<Figure size 600x600 with 0 Axes>"
      ]
     },
     "metadata": {},
     "output_type": "display_data"
    },
    {
     "data": {
      "text/plain": [
       "<Figure size 1800x900 with 0 Axes>"
      ]
     },
     "metadata": {},
     "output_type": "display_data"
    },
    {
     "data": {
      "text/plain": [
       "<Figure size 600x600 with 0 Axes>"
      ]
     },
     "metadata": {},
     "output_type": "display_data"
    },
    {
     "data": {
      "text/plain": [
       "<Figure size 1800x900 with 0 Axes>"
      ]
     },
     "metadata": {},
     "output_type": "display_data"
    },
    {
     "data": {
      "text/plain": [
       "<Figure size 600x600 with 0 Axes>"
      ]
     },
     "metadata": {},
     "output_type": "display_data"
    },
    {
     "data": {
      "text/plain": [
       "<Figure size 1800x900 with 0 Axes>"
      ]
     },
     "metadata": {},
     "output_type": "display_data"
    },
    {
     "data": {
      "text/plain": [
       "<Figure size 600x600 with 0 Axes>"
      ]
     },
     "metadata": {},
     "output_type": "display_data"
    },
    {
     "data": {
      "text/plain": [
       "<Figure size 1800x900 with 0 Axes>"
      ]
     },
     "metadata": {},
     "output_type": "display_data"
    },
    {
     "data": {
      "text/plain": [
       "<Figure size 600x600 with 0 Axes>"
      ]
     },
     "metadata": {},
     "output_type": "display_data"
    },
    {
     "data": {
      "text/plain": [
       "<Figure size 1800x900 with 0 Axes>"
      ]
     },
     "metadata": {},
     "output_type": "display_data"
    },
    {
     "data": {
      "text/plain": [
       "<Figure size 600x600 with 0 Axes>"
      ]
     },
     "metadata": {},
     "output_type": "display_data"
    },
    {
     "data": {
      "text/plain": [
       "<Figure size 1800x900 with 0 Axes>"
      ]
     },
     "metadata": {},
     "output_type": "display_data"
    },
    {
     "data": {
      "text/plain": [
       "<Figure size 600x600 with 0 Axes>"
      ]
     },
     "metadata": {},
     "output_type": "display_data"
    },
    {
     "data": {
      "text/plain": [
       "<Figure size 1800x900 with 0 Axes>"
      ]
     },
     "metadata": {},
     "output_type": "display_data"
    },
    {
     "data": {
      "text/plain": [
       "<Figure size 600x600 with 0 Axes>"
      ]
     },
     "metadata": {},
     "output_type": "display_data"
    },
    {
     "data": {
      "text/plain": [
       "<Figure size 1800x900 with 0 Axes>"
      ]
     },
     "metadata": {},
     "output_type": "display_data"
    },
    {
     "data": {
      "text/plain": [
       "<Figure size 600x600 with 0 Axes>"
      ]
     },
     "metadata": {},
     "output_type": "display_data"
    },
    {
     "data": {
      "text/plain": [
       "<Figure size 1800x900 with 0 Axes>"
      ]
     },
     "metadata": {},
     "output_type": "display_data"
    },
    {
     "data": {
      "text/plain": [
       "<Figure size 600x600 with 0 Axes>"
      ]
     },
     "metadata": {},
     "output_type": "display_data"
    },
    {
     "data": {
      "text/plain": [
       "<Figure size 1800x900 with 0 Axes>"
      ]
     },
     "metadata": {},
     "output_type": "display_data"
    },
    {
     "data": {
      "text/plain": [
       "<Figure size 600x600 with 0 Axes>"
      ]
     },
     "metadata": {},
     "output_type": "display_data"
    },
    {
     "data": {
      "text/plain": [
       "<Figure size 1800x900 with 0 Axes>"
      ]
     },
     "metadata": {},
     "output_type": "display_data"
    },
    {
     "data": {
      "text/plain": [
       "<Figure size 600x600 with 0 Axes>"
      ]
     },
     "metadata": {},
     "output_type": "display_data"
    },
    {
     "data": {
      "text/plain": [
       "<Figure size 1800x900 with 0 Axes>"
      ]
     },
     "metadata": {},
     "output_type": "display_data"
    },
    {
     "data": {
      "text/plain": [
       "<Figure size 600x600 with 0 Axes>"
      ]
     },
     "metadata": {},
     "output_type": "display_data"
    },
    {
     "data": {
      "text/plain": [
       "<Figure size 1800x900 with 0 Axes>"
      ]
     },
     "metadata": {},
     "output_type": "display_data"
    },
    {
     "data": {
      "text/plain": [
       "<Figure size 600x600 with 0 Axes>"
      ]
     },
     "metadata": {},
     "output_type": "display_data"
    },
    {
     "data": {
      "text/plain": [
       "<Figure size 1800x900 with 0 Axes>"
      ]
     },
     "metadata": {},
     "output_type": "display_data"
    },
    {
     "data": {
      "text/plain": [
       "<Figure size 600x600 with 0 Axes>"
      ]
     },
     "metadata": {},
     "output_type": "display_data"
    },
    {
     "data": {
      "text/plain": [
       "<Figure size 1800x900 with 0 Axes>"
      ]
     },
     "metadata": {},
     "output_type": "display_data"
    },
    {
     "data": {
      "text/plain": [
       "<Figure size 600x600 with 0 Axes>"
      ]
     },
     "metadata": {},
     "output_type": "display_data"
    },
    {
     "data": {
      "text/plain": [
       "<Figure size 1800x900 with 0 Axes>"
      ]
     },
     "metadata": {},
     "output_type": "display_data"
    },
    {
     "data": {
      "text/plain": [
       "<Figure size 600x600 with 0 Axes>"
      ]
     },
     "metadata": {},
     "output_type": "display_data"
    },
    {
     "data": {
      "text/plain": [
       "<Figure size 1800x900 with 0 Axes>"
      ]
     },
     "metadata": {},
     "output_type": "display_data"
    },
    {
     "data": {
      "text/plain": [
       "<Figure size 600x600 with 0 Axes>"
      ]
     },
     "metadata": {},
     "output_type": "display_data"
    },
    {
     "data": {
      "text/plain": [
       "<Figure size 1800x900 with 0 Axes>"
      ]
     },
     "metadata": {},
     "output_type": "display_data"
    },
    {
     "data": {
      "text/plain": [
       "<Figure size 600x600 with 0 Axes>"
      ]
     },
     "metadata": {},
     "output_type": "display_data"
    },
    {
     "data": {
      "text/plain": [
       "<Figure size 1800x900 with 0 Axes>"
      ]
     },
     "metadata": {},
     "output_type": "display_data"
    },
    {
     "data": {
      "text/plain": [
       "<Figure size 600x600 with 0 Axes>"
      ]
     },
     "metadata": {},
     "output_type": "display_data"
    },
    {
     "data": {
      "text/plain": [
       "<Figure size 1800x900 with 0 Axes>"
      ]
     },
     "metadata": {},
     "output_type": "display_data"
    },
    {
     "data": {
      "text/plain": [
       "<Figure size 600x600 with 0 Axes>"
      ]
     },
     "metadata": {},
     "output_type": "display_data"
    },
    {
     "data": {
      "text/plain": [
       "<Figure size 1800x900 with 0 Axes>"
      ]
     },
     "metadata": {},
     "output_type": "display_data"
    },
    {
     "data": {
      "text/plain": [
       "<Figure size 600x600 with 0 Axes>"
      ]
     },
     "metadata": {},
     "output_type": "display_data"
    },
    {
     "data": {
      "text/plain": [
       "<Figure size 1800x900 with 0 Axes>"
      ]
     },
     "metadata": {},
     "output_type": "display_data"
    },
    {
     "data": {
      "text/plain": [
       "<Figure size 600x600 with 0 Axes>"
      ]
     },
     "metadata": {},
     "output_type": "display_data"
    },
    {
     "data": {
      "text/plain": [
       "<Figure size 1800x900 with 0 Axes>"
      ]
     },
     "metadata": {},
     "output_type": "display_data"
    },
    {
     "data": {
      "text/plain": [
       "<Figure size 600x600 with 0 Axes>"
      ]
     },
     "metadata": {},
     "output_type": "display_data"
    },
    {
     "data": {
      "text/plain": [
       "<Figure size 1800x900 with 0 Axes>"
      ]
     },
     "metadata": {},
     "output_type": "display_data"
    },
    {
     "data": {
      "text/plain": [
       "<Figure size 600x600 with 0 Axes>"
      ]
     },
     "metadata": {},
     "output_type": "display_data"
    },
    {
     "data": {
      "text/plain": [
       "<Figure size 1800x900 with 0 Axes>"
      ]
     },
     "metadata": {},
     "output_type": "display_data"
    },
    {
     "data": {
      "text/plain": [
       "<Figure size 600x600 with 0 Axes>"
      ]
     },
     "metadata": {},
     "output_type": "display_data"
    },
    {
     "data": {
      "text/plain": [
       "<Figure size 1800x900 with 0 Axes>"
      ]
     },
     "metadata": {},
     "output_type": "display_data"
    },
    {
     "data": {
      "text/plain": [
       "<Figure size 600x600 with 0 Axes>"
      ]
     },
     "metadata": {},
     "output_type": "display_data"
    },
    {
     "data": {
      "text/plain": [
       "<Figure size 1800x900 with 0 Axes>"
      ]
     },
     "metadata": {},
     "output_type": "display_data"
    },
    {
     "data": {
      "text/plain": [
       "<Figure size 600x600 with 0 Axes>"
      ]
     },
     "metadata": {},
     "output_type": "display_data"
    },
    {
     "data": {
      "text/plain": [
       "<Figure size 1800x900 with 0 Axes>"
      ]
     },
     "metadata": {},
     "output_type": "display_data"
    },
    {
     "data": {
      "text/plain": [
       "<Figure size 600x600 with 0 Axes>"
      ]
     },
     "metadata": {},
     "output_type": "display_data"
    },
    {
     "data": {
      "text/plain": [
       "<Figure size 1800x900 with 0 Axes>"
      ]
     },
     "metadata": {},
     "output_type": "display_data"
    },
    {
     "data": {
      "text/plain": [
       "<Figure size 600x600 with 0 Axes>"
      ]
     },
     "metadata": {},
     "output_type": "display_data"
    },
    {
     "data": {
      "text/plain": [
       "<Figure size 1800x900 with 0 Axes>"
      ]
     },
     "metadata": {},
     "output_type": "display_data"
    },
    {
     "data": {
      "text/plain": [
       "<Figure size 600x600 with 0 Axes>"
      ]
     },
     "metadata": {},
     "output_type": "display_data"
    },
    {
     "data": {
      "text/plain": [
       "<Figure size 1800x900 with 0 Axes>"
      ]
     },
     "metadata": {},
     "output_type": "display_data"
    },
    {
     "data": {
      "text/plain": [
       "<Figure size 600x600 with 0 Axes>"
      ]
     },
     "metadata": {},
     "output_type": "display_data"
    },
    {
     "data": {
      "text/plain": [
       "<Figure size 1800x900 with 0 Axes>"
      ]
     },
     "metadata": {},
     "output_type": "display_data"
    },
    {
     "data": {
      "text/plain": [
       "<Figure size 600x600 with 0 Axes>"
      ]
     },
     "metadata": {},
     "output_type": "display_data"
    },
    {
     "data": {
      "text/plain": [
       "<Figure size 1800x900 with 0 Axes>"
      ]
     },
     "metadata": {},
     "output_type": "display_data"
    },
    {
     "data": {
      "text/plain": [
       "<Figure size 600x600 with 0 Axes>"
      ]
     },
     "metadata": {},
     "output_type": "display_data"
    },
    {
     "data": {
      "text/plain": [
       "<Figure size 1800x900 with 0 Axes>"
      ]
     },
     "metadata": {},
     "output_type": "display_data"
    },
    {
     "data": {
      "text/plain": [
       "<Figure size 600x600 with 0 Axes>"
      ]
     },
     "metadata": {},
     "output_type": "display_data"
    },
    {
     "data": {
      "text/plain": [
       "<Figure size 1800x900 with 0 Axes>"
      ]
     },
     "metadata": {},
     "output_type": "display_data"
    },
    {
     "data": {
      "text/plain": [
       "<Figure size 600x600 with 0 Axes>"
      ]
     },
     "metadata": {},
     "output_type": "display_data"
    },
    {
     "data": {
      "text/plain": [
       "<Figure size 1800x900 with 0 Axes>"
      ]
     },
     "metadata": {},
     "output_type": "display_data"
    },
    {
     "data": {
      "text/plain": [
       "<Figure size 600x600 with 0 Axes>"
      ]
     },
     "metadata": {},
     "output_type": "display_data"
    },
    {
     "data": {
      "text/plain": [
       "<Figure size 1800x900 with 0 Axes>"
      ]
     },
     "metadata": {},
     "output_type": "display_data"
    },
    {
     "data": {
      "text/plain": [
       "<Figure size 600x600 with 0 Axes>"
      ]
     },
     "metadata": {},
     "output_type": "display_data"
    },
    {
     "data": {
      "text/plain": [
       "<Figure size 1800x900 with 0 Axes>"
      ]
     },
     "metadata": {},
     "output_type": "display_data"
    },
    {
     "data": {
      "text/plain": [
       "<Figure size 600x600 with 0 Axes>"
      ]
     },
     "metadata": {},
     "output_type": "display_data"
    },
    {
     "data": {
      "text/plain": [
       "<Figure size 1800x900 with 0 Axes>"
      ]
     },
     "metadata": {},
     "output_type": "display_data"
    },
    {
     "data": {
      "text/plain": [
       "<Figure size 600x600 with 0 Axes>"
      ]
     },
     "metadata": {},
     "output_type": "display_data"
    },
    {
     "data": {
      "text/plain": [
       "<Figure size 1800x900 with 0 Axes>"
      ]
     },
     "metadata": {},
     "output_type": "display_data"
    },
    {
     "data": {
      "text/plain": [
       "<Figure size 600x600 with 0 Axes>"
      ]
     },
     "metadata": {},
     "output_type": "display_data"
    },
    {
     "data": {
      "text/plain": [
       "<Figure size 1800x900 with 0 Axes>"
      ]
     },
     "metadata": {},
     "output_type": "display_data"
    },
    {
     "data": {
      "text/plain": [
       "<Figure size 600x600 with 0 Axes>"
      ]
     },
     "metadata": {},
     "output_type": "display_data"
    },
    {
     "data": {
      "text/plain": [
       "<Figure size 1800x900 with 0 Axes>"
      ]
     },
     "metadata": {},
     "output_type": "display_data"
    },
    {
     "data": {
      "text/plain": [
       "<Figure size 600x600 with 0 Axes>"
      ]
     },
     "metadata": {},
     "output_type": "display_data"
    },
    {
     "data": {
      "text/plain": [
       "<Figure size 1800x900 with 0 Axes>"
      ]
     },
     "metadata": {},
     "output_type": "display_data"
    },
    {
     "data": {
      "text/plain": [
       "<Figure size 600x600 with 0 Axes>"
      ]
     },
     "metadata": {},
     "output_type": "display_data"
    },
    {
     "data": {
      "text/plain": [
       "<Figure size 1800x900 with 0 Axes>"
      ]
     },
     "metadata": {},
     "output_type": "display_data"
    },
    {
     "data": {
      "text/plain": [
       "<Figure size 600x600 with 0 Axes>"
      ]
     },
     "metadata": {},
     "output_type": "display_data"
    },
    {
     "data": {
      "text/plain": [
       "<Figure size 1800x900 with 0 Axes>"
      ]
     },
     "metadata": {},
     "output_type": "display_data"
    },
    {
     "data": {
      "text/plain": [
       "<Figure size 600x600 with 0 Axes>"
      ]
     },
     "metadata": {},
     "output_type": "display_data"
    },
    {
     "data": {
      "text/plain": [
       "<Figure size 1800x900 with 0 Axes>"
      ]
     },
     "metadata": {},
     "output_type": "display_data"
    },
    {
     "data": {
      "text/plain": [
       "<Figure size 600x600 with 0 Axes>"
      ]
     },
     "metadata": {},
     "output_type": "display_data"
    },
    {
     "data": {
      "text/plain": [
       "<Figure size 1800x900 with 0 Axes>"
      ]
     },
     "metadata": {},
     "output_type": "display_data"
    },
    {
     "data": {
      "text/plain": [
       "<Figure size 600x600 with 0 Axes>"
      ]
     },
     "metadata": {},
     "output_type": "display_data"
    },
    {
     "data": {
      "text/plain": [
       "<Figure size 1800x900 with 0 Axes>"
      ]
     },
     "metadata": {},
     "output_type": "display_data"
    },
    {
     "data": {
      "text/plain": [
       "<Figure size 600x600 with 0 Axes>"
      ]
     },
     "metadata": {},
     "output_type": "display_data"
    },
    {
     "data": {
      "text/plain": [
       "<Figure size 1800x900 with 0 Axes>"
      ]
     },
     "metadata": {},
     "output_type": "display_data"
    },
    {
     "data": {
      "text/plain": [
       "<Figure size 600x600 with 0 Axes>"
      ]
     },
     "metadata": {},
     "output_type": "display_data"
    },
    {
     "data": {
      "text/plain": [
       "<Figure size 1800x900 with 0 Axes>"
      ]
     },
     "metadata": {},
     "output_type": "display_data"
    },
    {
     "data": {
      "text/plain": [
       "<Figure size 600x600 with 0 Axes>"
      ]
     },
     "metadata": {},
     "output_type": "display_data"
    },
    {
     "data": {
      "text/plain": [
       "<Figure size 1800x900 with 0 Axes>"
      ]
     },
     "metadata": {},
     "output_type": "display_data"
    },
    {
     "data": {
      "text/plain": [
       "<Figure size 600x600 with 0 Axes>"
      ]
     },
     "metadata": {},
     "output_type": "display_data"
    },
    {
     "data": {
      "text/plain": [
       "<Figure size 1800x900 with 0 Axes>"
      ]
     },
     "metadata": {},
     "output_type": "display_data"
    },
    {
     "data": {
      "text/plain": [
       "<Figure size 600x600 with 0 Axes>"
      ]
     },
     "metadata": {},
     "output_type": "display_data"
    },
    {
     "data": {
      "text/plain": [
       "<Figure size 1800x900 with 0 Axes>"
      ]
     },
     "metadata": {},
     "output_type": "display_data"
    },
    {
     "data": {
      "text/plain": [
       "<Figure size 600x600 with 0 Axes>"
      ]
     },
     "metadata": {},
     "output_type": "display_data"
    },
    {
     "data": {
      "text/plain": [
       "<Figure size 1800x900 with 0 Axes>"
      ]
     },
     "metadata": {},
     "output_type": "display_data"
    },
    {
     "data": {
      "text/plain": [
       "<Figure size 600x600 with 0 Axes>"
      ]
     },
     "metadata": {},
     "output_type": "display_data"
    },
    {
     "data": {
      "text/plain": [
       "<Figure size 1800x900 with 0 Axes>"
      ]
     },
     "metadata": {},
     "output_type": "display_data"
    },
    {
     "data": {
      "text/plain": [
       "<Figure size 600x600 with 0 Axes>"
      ]
     },
     "metadata": {},
     "output_type": "display_data"
    },
    {
     "data": {
      "text/plain": [
       "<Figure size 1800x900 with 0 Axes>"
      ]
     },
     "metadata": {},
     "output_type": "display_data"
    },
    {
     "data": {
      "text/plain": [
       "<Figure size 600x600 with 0 Axes>"
      ]
     },
     "metadata": {},
     "output_type": "display_data"
    },
    {
     "data": {
      "text/plain": [
       "<Figure size 1800x900 with 0 Axes>"
      ]
     },
     "metadata": {},
     "output_type": "display_data"
    },
    {
     "data": {
      "text/plain": [
       "<Figure size 600x600 with 0 Axes>"
      ]
     },
     "metadata": {},
     "output_type": "display_data"
    },
    {
     "data": {
      "text/plain": [
       "<Figure size 1800x900 with 0 Axes>"
      ]
     },
     "metadata": {},
     "output_type": "display_data"
    },
    {
     "data": {
      "text/plain": [
       "<Figure size 600x600 with 0 Axes>"
      ]
     },
     "metadata": {},
     "output_type": "display_data"
    },
    {
     "data": {
      "text/plain": [
       "<Figure size 1800x900 with 0 Axes>"
      ]
     },
     "metadata": {},
     "output_type": "display_data"
    },
    {
     "data": {
      "text/plain": [
       "<Figure size 600x600 with 0 Axes>"
      ]
     },
     "metadata": {},
     "output_type": "display_data"
    },
    {
     "data": {
      "text/plain": [
       "<Figure size 1800x900 with 0 Axes>"
      ]
     },
     "metadata": {},
     "output_type": "display_data"
    },
    {
     "data": {
      "text/plain": [
       "<Figure size 600x600 with 0 Axes>"
      ]
     },
     "metadata": {},
     "output_type": "display_data"
    },
    {
     "data": {
      "text/plain": [
       "<Figure size 1800x900 with 0 Axes>"
      ]
     },
     "metadata": {},
     "output_type": "display_data"
    },
    {
     "data": {
      "text/plain": [
       "<Figure size 600x600 with 0 Axes>"
      ]
     },
     "metadata": {},
     "output_type": "display_data"
    },
    {
     "data": {
      "text/plain": [
       "<Figure size 1800x900 with 0 Axes>"
      ]
     },
     "metadata": {},
     "output_type": "display_data"
    },
    {
     "data": {
      "text/plain": [
       "<Figure size 600x600 with 0 Axes>"
      ]
     },
     "metadata": {},
     "output_type": "display_data"
    },
    {
     "data": {
      "text/plain": [
       "<Figure size 1800x900 with 0 Axes>"
      ]
     },
     "metadata": {},
     "output_type": "display_data"
    },
    {
     "data": {
      "text/plain": [
       "<Figure size 600x600 with 0 Axes>"
      ]
     },
     "metadata": {},
     "output_type": "display_data"
    },
    {
     "data": {
      "text/plain": [
       "<Figure size 1800x900 with 0 Axes>"
      ]
     },
     "metadata": {},
     "output_type": "display_data"
    },
    {
     "data": {
      "text/plain": [
       "<Figure size 600x600 with 0 Axes>"
      ]
     },
     "metadata": {},
     "output_type": "display_data"
    },
    {
     "data": {
      "text/plain": [
       "<Figure size 1800x900 with 0 Axes>"
      ]
     },
     "metadata": {},
     "output_type": "display_data"
    },
    {
     "data": {
      "text/plain": [
       "<Figure size 600x600 with 0 Axes>"
      ]
     },
     "metadata": {},
     "output_type": "display_data"
    },
    {
     "data": {
      "text/plain": [
       "<Figure size 1800x900 with 0 Axes>"
      ]
     },
     "metadata": {},
     "output_type": "display_data"
    },
    {
     "data": {
      "text/plain": [
       "<Figure size 600x600 with 0 Axes>"
      ]
     },
     "metadata": {},
     "output_type": "display_data"
    },
    {
     "data": {
      "text/plain": [
       "<Figure size 1800x900 with 0 Axes>"
      ]
     },
     "metadata": {},
     "output_type": "display_data"
    },
    {
     "data": {
      "text/plain": [
       "<Figure size 600x600 with 0 Axes>"
      ]
     },
     "metadata": {},
     "output_type": "display_data"
    },
    {
     "data": {
      "text/plain": [
       "<Figure size 1800x900 with 0 Axes>"
      ]
     },
     "metadata": {},
     "output_type": "display_data"
    },
    {
     "data": {
      "text/plain": [
       "<Figure size 600x600 with 0 Axes>"
      ]
     },
     "metadata": {},
     "output_type": "display_data"
    },
    {
     "data": {
      "text/plain": [
       "<Figure size 1800x900 with 0 Axes>"
      ]
     },
     "metadata": {},
     "output_type": "display_data"
    },
    {
     "data": {
      "text/plain": [
       "<Figure size 600x600 with 0 Axes>"
      ]
     },
     "metadata": {},
     "output_type": "display_data"
    },
    {
     "data": {
      "text/plain": [
       "<Figure size 1800x900 with 0 Axes>"
      ]
     },
     "metadata": {},
     "output_type": "display_data"
    },
    {
     "data": {
      "text/plain": [
       "<Figure size 600x600 with 0 Axes>"
      ]
     },
     "metadata": {},
     "output_type": "display_data"
    },
    {
     "data": {
      "text/plain": [
       "<Figure size 1800x900 with 0 Axes>"
      ]
     },
     "metadata": {},
     "output_type": "display_data"
    },
    {
     "data": {
      "text/plain": [
       "<Figure size 600x600 with 0 Axes>"
      ]
     },
     "metadata": {},
     "output_type": "display_data"
    },
    {
     "data": {
      "text/plain": [
       "<Figure size 1800x900 with 0 Axes>"
      ]
     },
     "metadata": {},
     "output_type": "display_data"
    },
    {
     "data": {
      "text/plain": [
       "<Figure size 600x600 with 0 Axes>"
      ]
     },
     "metadata": {},
     "output_type": "display_data"
    },
    {
     "data": {
      "text/plain": [
       "<Figure size 1800x900 with 0 Axes>"
      ]
     },
     "metadata": {},
     "output_type": "display_data"
    },
    {
     "data": {
      "text/plain": [
       "<Figure size 600x600 with 0 Axes>"
      ]
     },
     "metadata": {},
     "output_type": "display_data"
    },
    {
     "data": {
      "text/plain": [
       "<Figure size 1800x900 with 0 Axes>"
      ]
     },
     "metadata": {},
     "output_type": "display_data"
    },
    {
     "data": {
      "text/plain": [
       "<Figure size 600x600 with 0 Axes>"
      ]
     },
     "metadata": {},
     "output_type": "display_data"
    },
    {
     "data": {
      "text/plain": [
       "<Figure size 1800x900 with 0 Axes>"
      ]
     },
     "metadata": {},
     "output_type": "display_data"
    },
    {
     "data": {
      "text/plain": [
       "<Figure size 600x600 with 0 Axes>"
      ]
     },
     "metadata": {},
     "output_type": "display_data"
    },
    {
     "data": {
      "text/plain": [
       "<Figure size 1800x900 with 0 Axes>"
      ]
     },
     "metadata": {},
     "output_type": "display_data"
    },
    {
     "data": {
      "text/plain": [
       "<Figure size 600x600 with 0 Axes>"
      ]
     },
     "metadata": {},
     "output_type": "display_data"
    },
    {
     "data": {
      "text/plain": [
       "<Figure size 1800x900 with 0 Axes>"
      ]
     },
     "metadata": {},
     "output_type": "display_data"
    },
    {
     "data": {
      "text/plain": [
       "<Figure size 600x600 with 0 Axes>"
      ]
     },
     "metadata": {},
     "output_type": "display_data"
    },
    {
     "data": {
      "text/plain": [
       "<Figure size 1800x900 with 0 Axes>"
      ]
     },
     "metadata": {},
     "output_type": "display_data"
    },
    {
     "data": {
      "text/plain": [
       "<Figure size 600x600 with 0 Axes>"
      ]
     },
     "metadata": {},
     "output_type": "display_data"
    },
    {
     "data": {
      "text/plain": [
       "<Figure size 1800x900 with 0 Axes>"
      ]
     },
     "metadata": {},
     "output_type": "display_data"
    },
    {
     "data": {
      "text/plain": [
       "<Figure size 600x600 with 0 Axes>"
      ]
     },
     "metadata": {},
     "output_type": "display_data"
    },
    {
     "data": {
      "text/plain": [
       "<Figure size 1800x900 with 0 Axes>"
      ]
     },
     "metadata": {},
     "output_type": "display_data"
    },
    {
     "data": {
      "text/plain": [
       "<Figure size 600x600 with 0 Axes>"
      ]
     },
     "metadata": {},
     "output_type": "display_data"
    },
    {
     "data": {
      "text/plain": [
       "<Figure size 1800x900 with 0 Axes>"
      ]
     },
     "metadata": {},
     "output_type": "display_data"
    },
    {
     "data": {
      "text/plain": [
       "<Figure size 600x600 with 0 Axes>"
      ]
     },
     "metadata": {},
     "output_type": "display_data"
    },
    {
     "data": {
      "text/plain": [
       "<Figure size 1800x900 with 0 Axes>"
      ]
     },
     "metadata": {},
     "output_type": "display_data"
    },
    {
     "data": {
      "text/plain": [
       "<Figure size 600x600 with 0 Axes>"
      ]
     },
     "metadata": {},
     "output_type": "display_data"
    },
    {
     "data": {
      "text/plain": [
       "<Figure size 1800x900 with 0 Axes>"
      ]
     },
     "metadata": {},
     "output_type": "display_data"
    },
    {
     "data": {
      "text/plain": [
       "<Figure size 600x600 with 0 Axes>"
      ]
     },
     "metadata": {},
     "output_type": "display_data"
    },
    {
     "data": {
      "text/plain": [
       "<Figure size 1800x900 with 0 Axes>"
      ]
     },
     "metadata": {},
     "output_type": "display_data"
    },
    {
     "data": {
      "text/plain": [
       "<Figure size 600x600 with 0 Axes>"
      ]
     },
     "metadata": {},
     "output_type": "display_data"
    },
    {
     "data": {
      "text/plain": [
       "<Figure size 1800x900 with 0 Axes>"
      ]
     },
     "metadata": {},
     "output_type": "display_data"
    },
    {
     "data": {
      "text/plain": [
       "<Figure size 600x600 with 0 Axes>"
      ]
     },
     "metadata": {},
     "output_type": "display_data"
    },
    {
     "data": {
      "text/plain": [
       "<Figure size 1800x900 with 0 Axes>"
      ]
     },
     "metadata": {},
     "output_type": "display_data"
    },
    {
     "data": {
      "text/plain": [
       "<Figure size 600x600 with 0 Axes>"
      ]
     },
     "metadata": {},
     "output_type": "display_data"
    },
    {
     "data": {
      "text/plain": [
       "<Figure size 1800x900 with 0 Axes>"
      ]
     },
     "metadata": {},
     "output_type": "display_data"
    },
    {
     "data": {
      "text/plain": [
       "<Figure size 600x600 with 0 Axes>"
      ]
     },
     "metadata": {},
     "output_type": "display_data"
    },
    {
     "data": {
      "text/plain": [
       "<Figure size 1800x900 with 0 Axes>"
      ]
     },
     "metadata": {},
     "output_type": "display_data"
    },
    {
     "data": {
      "text/plain": [
       "<Figure size 600x600 with 0 Axes>"
      ]
     },
     "metadata": {},
     "output_type": "display_data"
    },
    {
     "data": {
      "text/plain": [
       "<Figure size 1800x900 with 0 Axes>"
      ]
     },
     "metadata": {},
     "output_type": "display_data"
    },
    {
     "data": {
      "text/plain": [
       "<Figure size 600x600 with 0 Axes>"
      ]
     },
     "metadata": {},
     "output_type": "display_data"
    },
    {
     "data": {
      "text/plain": [
       "<Figure size 1800x900 with 0 Axes>"
      ]
     },
     "metadata": {},
     "output_type": "display_data"
    },
    {
     "data": {
      "text/plain": [
       "<Figure size 600x600 with 0 Axes>"
      ]
     },
     "metadata": {},
     "output_type": "display_data"
    },
    {
     "data": {
      "text/plain": [
       "<Figure size 1800x900 with 0 Axes>"
      ]
     },
     "metadata": {},
     "output_type": "display_data"
    },
    {
     "data": {
      "text/plain": [
       "<Figure size 600x600 with 0 Axes>"
      ]
     },
     "metadata": {},
     "output_type": "display_data"
    },
    {
     "data": {
      "text/plain": [
       "<Figure size 1800x900 with 0 Axes>"
      ]
     },
     "metadata": {},
     "output_type": "display_data"
    },
    {
     "data": {
      "text/plain": [
       "<Figure size 600x600 with 0 Axes>"
      ]
     },
     "metadata": {},
     "output_type": "display_data"
    },
    {
     "data": {
      "text/plain": [
       "<Figure size 1800x900 with 0 Axes>"
      ]
     },
     "metadata": {},
     "output_type": "display_data"
    },
    {
     "data": {
      "text/plain": [
       "<Figure size 600x600 with 0 Axes>"
      ]
     },
     "metadata": {},
     "output_type": "display_data"
    },
    {
     "data": {
      "text/plain": [
       "<Figure size 1800x900 with 0 Axes>"
      ]
     },
     "metadata": {},
     "output_type": "display_data"
    },
    {
     "data": {
      "text/plain": [
       "<Figure size 600x600 with 0 Axes>"
      ]
     },
     "metadata": {},
     "output_type": "display_data"
    },
    {
     "data": {
      "text/plain": [
       "<Figure size 1800x900 with 0 Axes>"
      ]
     },
     "metadata": {},
     "output_type": "display_data"
    },
    {
     "data": {
      "text/plain": [
       "<Figure size 600x600 with 0 Axes>"
      ]
     },
     "metadata": {},
     "output_type": "display_data"
    },
    {
     "data": {
      "text/plain": [
       "<Figure size 1800x900 with 0 Axes>"
      ]
     },
     "metadata": {},
     "output_type": "display_data"
    },
    {
     "data": {
      "text/plain": [
       "<Figure size 600x600 with 0 Axes>"
      ]
     },
     "metadata": {},
     "output_type": "display_data"
    },
    {
     "data": {
      "text/plain": [
       "<Figure size 1800x900 with 0 Axes>"
      ]
     },
     "metadata": {},
     "output_type": "display_data"
    },
    {
     "data": {
      "text/plain": [
       "<Figure size 600x600 with 0 Axes>"
      ]
     },
     "metadata": {},
     "output_type": "display_data"
    },
    {
     "data": {
      "text/plain": [
       "<Figure size 1800x900 with 0 Axes>"
      ]
     },
     "metadata": {},
     "output_type": "display_data"
    },
    {
     "data": {
      "text/plain": [
       "<Figure size 600x600 with 0 Axes>"
      ]
     },
     "metadata": {},
     "output_type": "display_data"
    },
    {
     "data": {
      "text/plain": [
       "<Figure size 1800x900 with 0 Axes>"
      ]
     },
     "metadata": {},
     "output_type": "display_data"
    },
    {
     "data": {
      "text/plain": [
       "<Figure size 600x600 with 0 Axes>"
      ]
     },
     "metadata": {},
     "output_type": "display_data"
    },
    {
     "data": {
      "text/plain": [
       "<Figure size 1800x900 with 0 Axes>"
      ]
     },
     "metadata": {},
     "output_type": "display_data"
    },
    {
     "data": {
      "text/plain": [
       "<Figure size 600x600 with 0 Axes>"
      ]
     },
     "metadata": {},
     "output_type": "display_data"
    },
    {
     "data": {
      "text/plain": [
       "<Figure size 1800x900 with 0 Axes>"
      ]
     },
     "metadata": {},
     "output_type": "display_data"
    },
    {
     "data": {
      "text/plain": [
       "<Figure size 600x600 with 0 Axes>"
      ]
     },
     "metadata": {},
     "output_type": "display_data"
    },
    {
     "data": {
      "text/plain": [
       "<Figure size 1800x900 with 0 Axes>"
      ]
     },
     "metadata": {},
     "output_type": "display_data"
    },
    {
     "data": {
      "text/plain": [
       "<Figure size 600x600 with 0 Axes>"
      ]
     },
     "metadata": {},
     "output_type": "display_data"
    },
    {
     "data": {
      "text/plain": [
       "<Figure size 1800x900 with 0 Axes>"
      ]
     },
     "metadata": {},
     "output_type": "display_data"
    },
    {
     "data": {
      "text/plain": [
       "<Figure size 600x600 with 0 Axes>"
      ]
     },
     "metadata": {},
     "output_type": "display_data"
    },
    {
     "data": {
      "text/plain": [
       "<Figure size 1800x900 with 0 Axes>"
      ]
     },
     "metadata": {},
     "output_type": "display_data"
    },
    {
     "data": {
      "text/plain": [
       "<Figure size 600x600 with 0 Axes>"
      ]
     },
     "metadata": {},
     "output_type": "display_data"
    },
    {
     "data": {
      "text/plain": [
       "<Figure size 1800x900 with 0 Axes>"
      ]
     },
     "metadata": {},
     "output_type": "display_data"
    },
    {
     "data": {
      "text/plain": [
       "<Figure size 600x600 with 0 Axes>"
      ]
     },
     "metadata": {},
     "output_type": "display_data"
    },
    {
     "data": {
      "text/plain": [
       "<Figure size 1800x900 with 0 Axes>"
      ]
     },
     "metadata": {},
     "output_type": "display_data"
    },
    {
     "data": {
      "text/plain": [
       "<Figure size 600x600 with 0 Axes>"
      ]
     },
     "metadata": {},
     "output_type": "display_data"
    },
    {
     "data": {
      "text/plain": [
       "<Figure size 1800x900 with 0 Axes>"
      ]
     },
     "metadata": {},
     "output_type": "display_data"
    },
    {
     "data": {
      "text/plain": [
       "<Figure size 600x600 with 0 Axes>"
      ]
     },
     "metadata": {},
     "output_type": "display_data"
    },
    {
     "data": {
      "text/plain": [
       "<Figure size 1800x900 with 0 Axes>"
      ]
     },
     "metadata": {},
     "output_type": "display_data"
    },
    {
     "data": {
      "text/plain": [
       "<Figure size 600x600 with 0 Axes>"
      ]
     },
     "metadata": {},
     "output_type": "display_data"
    },
    {
     "data": {
      "text/plain": [
       "<Figure size 1800x900 with 0 Axes>"
      ]
     },
     "metadata": {},
     "output_type": "display_data"
    },
    {
     "data": {
      "text/plain": [
       "<Figure size 600x600 with 0 Axes>"
      ]
     },
     "metadata": {},
     "output_type": "display_data"
    },
    {
     "data": {
      "text/plain": [
       "<Figure size 1800x900 with 0 Axes>"
      ]
     },
     "metadata": {},
     "output_type": "display_data"
    },
    {
     "data": {
      "text/plain": [
       "<Figure size 600x600 with 0 Axes>"
      ]
     },
     "metadata": {},
     "output_type": "display_data"
    },
    {
     "data": {
      "text/plain": [
       "<Figure size 1800x900 with 0 Axes>"
      ]
     },
     "metadata": {},
     "output_type": "display_data"
    },
    {
     "data": {
      "text/plain": [
       "<Figure size 600x600 with 0 Axes>"
      ]
     },
     "metadata": {},
     "output_type": "display_data"
    },
    {
     "data": {
      "text/plain": [
       "<Figure size 1800x900 with 0 Axes>"
      ]
     },
     "metadata": {},
     "output_type": "display_data"
    },
    {
     "data": {
      "text/plain": [
       "<Figure size 600x600 with 0 Axes>"
      ]
     },
     "metadata": {},
     "output_type": "display_data"
    },
    {
     "data": {
      "text/plain": [
       "<Figure size 1800x900 with 0 Axes>"
      ]
     },
     "metadata": {},
     "output_type": "display_data"
    },
    {
     "data": {
      "text/plain": [
       "<Figure size 600x600 with 0 Axes>"
      ]
     },
     "metadata": {},
     "output_type": "display_data"
    },
    {
     "data": {
      "text/plain": [
       "<Figure size 1800x900 with 0 Axes>"
      ]
     },
     "metadata": {},
     "output_type": "display_data"
    },
    {
     "data": {
      "text/plain": [
       "<Figure size 600x600 with 0 Axes>"
      ]
     },
     "metadata": {},
     "output_type": "display_data"
    },
    {
     "data": {
      "text/plain": [
       "<Figure size 1800x900 with 0 Axes>"
      ]
     },
     "metadata": {},
     "output_type": "display_data"
    },
    {
     "data": {
      "text/plain": [
       "<Figure size 600x600 with 0 Axes>"
      ]
     },
     "metadata": {},
     "output_type": "display_data"
    },
    {
     "data": {
      "text/plain": [
       "<Figure size 1800x900 with 0 Axes>"
      ]
     },
     "metadata": {},
     "output_type": "display_data"
    },
    {
     "data": {
      "text/plain": [
       "<Figure size 600x600 with 0 Axes>"
      ]
     },
     "metadata": {},
     "output_type": "display_data"
    },
    {
     "data": {
      "text/plain": [
       "<Figure size 1800x900 with 0 Axes>"
      ]
     },
     "metadata": {},
     "output_type": "display_data"
    },
    {
     "data": {
      "text/plain": [
       "<Figure size 600x600 with 0 Axes>"
      ]
     },
     "metadata": {},
     "output_type": "display_data"
    },
    {
     "data": {
      "text/plain": [
       "<Figure size 1800x900 with 0 Axes>"
      ]
     },
     "metadata": {},
     "output_type": "display_data"
    },
    {
     "data": {
      "text/plain": [
       "<Figure size 600x600 with 0 Axes>"
      ]
     },
     "metadata": {},
     "output_type": "display_data"
    },
    {
     "data": {
      "text/plain": [
       "<Figure size 1800x900 with 0 Axes>"
      ]
     },
     "metadata": {},
     "output_type": "display_data"
    },
    {
     "data": {
      "text/plain": [
       "<Figure size 600x600 with 0 Axes>"
      ]
     },
     "metadata": {},
     "output_type": "display_data"
    },
    {
     "data": {
      "text/plain": [
       "<Figure size 1800x900 with 0 Axes>"
      ]
     },
     "metadata": {},
     "output_type": "display_data"
    },
    {
     "data": {
      "text/plain": [
       "<Figure size 600x600 with 0 Axes>"
      ]
     },
     "metadata": {},
     "output_type": "display_data"
    },
    {
     "data": {
      "text/plain": [
       "<Figure size 1800x900 with 0 Axes>"
      ]
     },
     "metadata": {},
     "output_type": "display_data"
    },
    {
     "data": {
      "text/plain": [
       "<Figure size 600x600 with 0 Axes>"
      ]
     },
     "metadata": {},
     "output_type": "display_data"
    },
    {
     "data": {
      "text/plain": [
       "<Figure size 1800x900 with 0 Axes>"
      ]
     },
     "metadata": {},
     "output_type": "display_data"
    },
    {
     "data": {
      "text/plain": [
       "<Figure size 600x600 with 0 Axes>"
      ]
     },
     "metadata": {},
     "output_type": "display_data"
    },
    {
     "data": {
      "text/plain": [
       "<Figure size 1800x900 with 0 Axes>"
      ]
     },
     "metadata": {},
     "output_type": "display_data"
    },
    {
     "data": {
      "text/plain": [
       "<Figure size 600x600 with 0 Axes>"
      ]
     },
     "metadata": {},
     "output_type": "display_data"
    },
    {
     "data": {
      "text/plain": [
       "<Figure size 1800x900 with 0 Axes>"
      ]
     },
     "metadata": {},
     "output_type": "display_data"
    },
    {
     "data": {
      "text/plain": [
       "<Figure size 600x600 with 0 Axes>"
      ]
     },
     "metadata": {},
     "output_type": "display_data"
    },
    {
     "data": {
      "text/plain": [
       "<Figure size 1800x900 with 0 Axes>"
      ]
     },
     "metadata": {},
     "output_type": "display_data"
    },
    {
     "data": {
      "text/plain": [
       "<Figure size 600x600 with 0 Axes>"
      ]
     },
     "metadata": {},
     "output_type": "display_data"
    },
    {
     "data": {
      "text/plain": [
       "<Figure size 1800x900 with 0 Axes>"
      ]
     },
     "metadata": {},
     "output_type": "display_data"
    },
    {
     "data": {
      "text/plain": [
       "<Figure size 600x600 with 0 Axes>"
      ]
     },
     "metadata": {},
     "output_type": "display_data"
    },
    {
     "data": {
      "text/plain": [
       "<Figure size 1800x900 with 0 Axes>"
      ]
     },
     "metadata": {},
     "output_type": "display_data"
    },
    {
     "data": {
      "text/plain": [
       "<Figure size 600x600 with 0 Axes>"
      ]
     },
     "metadata": {},
     "output_type": "display_data"
    },
    {
     "data": {
      "text/plain": [
       "<Figure size 1800x900 with 0 Axes>"
      ]
     },
     "metadata": {},
     "output_type": "display_data"
    },
    {
     "data": {
      "text/plain": [
       "<Figure size 600x600 with 0 Axes>"
      ]
     },
     "metadata": {},
     "output_type": "display_data"
    },
    {
     "data": {
      "text/plain": [
       "<Figure size 1800x900 with 0 Axes>"
      ]
     },
     "metadata": {},
     "output_type": "display_data"
    },
    {
     "data": {
      "text/plain": [
       "<Figure size 600x600 with 0 Axes>"
      ]
     },
     "metadata": {},
     "output_type": "display_data"
    },
    {
     "data": {
      "text/plain": [
       "<Figure size 1800x900 with 0 Axes>"
      ]
     },
     "metadata": {},
     "output_type": "display_data"
    },
    {
     "data": {
      "text/plain": [
       "<Figure size 600x600 with 0 Axes>"
      ]
     },
     "metadata": {},
     "output_type": "display_data"
    },
    {
     "data": {
      "text/plain": [
       "<Figure size 1800x900 with 0 Axes>"
      ]
     },
     "metadata": {},
     "output_type": "display_data"
    },
    {
     "data": {
      "text/plain": [
       "<Figure size 600x600 with 0 Axes>"
      ]
     },
     "metadata": {},
     "output_type": "display_data"
    },
    {
     "data": {
      "text/plain": [
       "<Figure size 1800x900 with 0 Axes>"
      ]
     },
     "metadata": {},
     "output_type": "display_data"
    },
    {
     "data": {
      "text/plain": [
       "<Figure size 600x600 with 0 Axes>"
      ]
     },
     "metadata": {},
     "output_type": "display_data"
    },
    {
     "data": {
      "text/plain": [
       "<Figure size 1800x900 with 0 Axes>"
      ]
     },
     "metadata": {},
     "output_type": "display_data"
    },
    {
     "data": {
      "text/plain": [
       "<Figure size 600x600 with 0 Axes>"
      ]
     },
     "metadata": {},
     "output_type": "display_data"
    },
    {
     "data": {
      "text/plain": [
       "<Figure size 1800x900 with 0 Axes>"
      ]
     },
     "metadata": {},
     "output_type": "display_data"
    },
    {
     "data": {
      "text/plain": [
       "<Figure size 600x600 with 0 Axes>"
      ]
     },
     "metadata": {},
     "output_type": "display_data"
    },
    {
     "data": {
      "text/plain": [
       "<Figure size 1800x900 with 0 Axes>"
      ]
     },
     "metadata": {},
     "output_type": "display_data"
    },
    {
     "data": {
      "text/plain": [
       "<Figure size 600x600 with 0 Axes>"
      ]
     },
     "metadata": {},
     "output_type": "display_data"
    },
    {
     "data": {
      "text/plain": [
       "<Figure size 1800x900 with 0 Axes>"
      ]
     },
     "metadata": {},
     "output_type": "display_data"
    },
    {
     "data": {
      "text/plain": [
       "<Figure size 600x600 with 0 Axes>"
      ]
     },
     "metadata": {},
     "output_type": "display_data"
    },
    {
     "data": {
      "text/plain": [
       "<Figure size 1800x900 with 0 Axes>"
      ]
     },
     "metadata": {},
     "output_type": "display_data"
    },
    {
     "data": {
      "text/plain": [
       "<Figure size 600x600 with 0 Axes>"
      ]
     },
     "metadata": {},
     "output_type": "display_data"
    },
    {
     "data": {
      "text/plain": [
       "<Figure size 1800x900 with 0 Axes>"
      ]
     },
     "metadata": {},
     "output_type": "display_data"
    },
    {
     "data": {
      "text/plain": [
       "<Figure size 600x600 with 0 Axes>"
      ]
     },
     "metadata": {},
     "output_type": "display_data"
    },
    {
     "data": {
      "text/plain": [
       "<Figure size 1800x900 with 0 Axes>"
      ]
     },
     "metadata": {},
     "output_type": "display_data"
    },
    {
     "data": {
      "text/plain": [
       "<Figure size 600x600 with 0 Axes>"
      ]
     },
     "metadata": {},
     "output_type": "display_data"
    },
    {
     "data": {
      "text/plain": [
       "<Figure size 1800x900 with 0 Axes>"
      ]
     },
     "metadata": {},
     "output_type": "display_data"
    },
    {
     "data": {
      "text/plain": [
       "<Figure size 600x600 with 0 Axes>"
      ]
     },
     "metadata": {},
     "output_type": "display_data"
    },
    {
     "data": {
      "text/plain": [
       "<Figure size 1800x900 with 0 Axes>"
      ]
     },
     "metadata": {},
     "output_type": "display_data"
    },
    {
     "data": {
      "text/plain": [
       "<Figure size 600x600 with 0 Axes>"
      ]
     },
     "metadata": {},
     "output_type": "display_data"
    },
    {
     "data": {
      "text/plain": [
       "<Figure size 1800x900 with 0 Axes>"
      ]
     },
     "metadata": {},
     "output_type": "display_data"
    },
    {
     "data": {
      "text/plain": [
       "<Figure size 600x600 with 0 Axes>"
      ]
     },
     "metadata": {},
     "output_type": "display_data"
    },
    {
     "data": {
      "text/plain": [
       "<Figure size 1800x900 with 0 Axes>"
      ]
     },
     "metadata": {},
     "output_type": "display_data"
    },
    {
     "data": {
      "text/plain": [
       "<Figure size 600x600 with 0 Axes>"
      ]
     },
     "metadata": {},
     "output_type": "display_data"
    },
    {
     "data": {
      "text/plain": [
       "<Figure size 1800x900 with 0 Axes>"
      ]
     },
     "metadata": {},
     "output_type": "display_data"
    },
    {
     "data": {
      "text/plain": [
       "<Figure size 600x600 with 0 Axes>"
      ]
     },
     "metadata": {},
     "output_type": "display_data"
    },
    {
     "data": {
      "text/plain": [
       "<Figure size 1800x900 with 0 Axes>"
      ]
     },
     "metadata": {},
     "output_type": "display_data"
    },
    {
     "data": {
      "text/plain": [
       "<Figure size 600x600 with 0 Axes>"
      ]
     },
     "metadata": {},
     "output_type": "display_data"
    },
    {
     "data": {
      "text/plain": [
       "<Figure size 1800x900 with 0 Axes>"
      ]
     },
     "metadata": {},
     "output_type": "display_data"
    },
    {
     "data": {
      "text/plain": [
       "<Figure size 600x600 with 0 Axes>"
      ]
     },
     "metadata": {},
     "output_type": "display_data"
    },
    {
     "data": {
      "text/plain": [
       "<Figure size 1800x900 with 0 Axes>"
      ]
     },
     "metadata": {},
     "output_type": "display_data"
    },
    {
     "data": {
      "text/plain": [
       "<Figure size 600x600 with 0 Axes>"
      ]
     },
     "metadata": {},
     "output_type": "display_data"
    },
    {
     "data": {
      "text/plain": [
       "<Figure size 1800x900 with 0 Axes>"
      ]
     },
     "metadata": {},
     "output_type": "display_data"
    },
    {
     "data": {
      "text/plain": [
       "<Figure size 600x600 with 0 Axes>"
      ]
     },
     "metadata": {},
     "output_type": "display_data"
    },
    {
     "data": {
      "text/plain": [
       "<Figure size 1800x900 with 0 Axes>"
      ]
     },
     "metadata": {},
     "output_type": "display_data"
    },
    {
     "data": {
      "text/plain": [
       "<Figure size 600x600 with 0 Axes>"
      ]
     },
     "metadata": {},
     "output_type": "display_data"
    },
    {
     "data": {
      "text/plain": [
       "<Figure size 1800x900 with 0 Axes>"
      ]
     },
     "metadata": {},
     "output_type": "display_data"
    },
    {
     "data": {
      "text/plain": [
       "<Figure size 600x600 with 0 Axes>"
      ]
     },
     "metadata": {},
     "output_type": "display_data"
    },
    {
     "data": {
      "text/plain": [
       "<Figure size 1800x900 with 0 Axes>"
      ]
     },
     "metadata": {},
     "output_type": "display_data"
    },
    {
     "data": {
      "text/plain": [
       "<Figure size 600x600 with 0 Axes>"
      ]
     },
     "metadata": {},
     "output_type": "display_data"
    },
    {
     "data": {
      "text/plain": [
       "<Figure size 1800x900 with 0 Axes>"
      ]
     },
     "metadata": {},
     "output_type": "display_data"
    },
    {
     "data": {
      "text/plain": [
       "<Figure size 600x600 with 0 Axes>"
      ]
     },
     "metadata": {},
     "output_type": "display_data"
    },
    {
     "data": {
      "text/plain": [
       "<Figure size 1800x900 with 0 Axes>"
      ]
     },
     "metadata": {},
     "output_type": "display_data"
    },
    {
     "data": {
      "text/plain": [
       "<Figure size 600x600 with 0 Axes>"
      ]
     },
     "metadata": {},
     "output_type": "display_data"
    },
    {
     "data": {
      "text/plain": [
       "<Figure size 1800x900 with 0 Axes>"
      ]
     },
     "metadata": {},
     "output_type": "display_data"
    },
    {
     "data": {
      "text/plain": [
       "<Figure size 600x600 with 0 Axes>"
      ]
     },
     "metadata": {},
     "output_type": "display_data"
    },
    {
     "data": {
      "text/plain": [
       "<Figure size 1800x900 with 0 Axes>"
      ]
     },
     "metadata": {},
     "output_type": "display_data"
    },
    {
     "data": {
      "text/plain": [
       "<Figure size 600x600 with 0 Axes>"
      ]
     },
     "metadata": {},
     "output_type": "display_data"
    },
    {
     "data": {
      "text/plain": [
       "<Figure size 1800x900 with 0 Axes>"
      ]
     },
     "metadata": {},
     "output_type": "display_data"
    },
    {
     "data": {
      "text/plain": [
       "<Figure size 600x600 with 0 Axes>"
      ]
     },
     "metadata": {},
     "output_type": "display_data"
    },
    {
     "data": {
      "text/plain": [
       "<Figure size 1800x900 with 0 Axes>"
      ]
     },
     "metadata": {},
     "output_type": "display_data"
    },
    {
     "data": {
      "text/plain": [
       "<Figure size 600x600 with 0 Axes>"
      ]
     },
     "metadata": {},
     "output_type": "display_data"
    },
    {
     "data": {
      "text/plain": [
       "<Figure size 1800x900 with 0 Axes>"
      ]
     },
     "metadata": {},
     "output_type": "display_data"
    },
    {
     "data": {
      "text/plain": [
       "<Figure size 600x600 with 0 Axes>"
      ]
     },
     "metadata": {},
     "output_type": "display_data"
    },
    {
     "data": {
      "text/plain": [
       "<Figure size 1800x900 with 0 Axes>"
      ]
     },
     "metadata": {},
     "output_type": "display_data"
    },
    {
     "data": {
      "text/plain": [
       "<Figure size 600x600 with 0 Axes>"
      ]
     },
     "metadata": {},
     "output_type": "display_data"
    },
    {
     "data": {
      "text/plain": [
       "<Figure size 1800x900 with 0 Axes>"
      ]
     },
     "metadata": {},
     "output_type": "display_data"
    },
    {
     "data": {
      "text/plain": [
       "<Figure size 600x600 with 0 Axes>"
      ]
     },
     "metadata": {},
     "output_type": "display_data"
    },
    {
     "data": {
      "text/plain": [
       "<Figure size 1800x900 with 0 Axes>"
      ]
     },
     "metadata": {},
     "output_type": "display_data"
    },
    {
     "data": {
      "text/plain": [
       "<Figure size 600x600 with 0 Axes>"
      ]
     },
     "metadata": {},
     "output_type": "display_data"
    },
    {
     "data": {
      "text/plain": [
       "<Figure size 1800x900 with 0 Axes>"
      ]
     },
     "metadata": {},
     "output_type": "display_data"
    },
    {
     "data": {
      "text/plain": [
       "<Figure size 600x600 with 0 Axes>"
      ]
     },
     "metadata": {},
     "output_type": "display_data"
    },
    {
     "data": {
      "text/plain": [
       "<Figure size 1800x900 with 0 Axes>"
      ]
     },
     "metadata": {},
     "output_type": "display_data"
    },
    {
     "data": {
      "text/plain": [
       "<Figure size 600x600 with 0 Axes>"
      ]
     },
     "metadata": {},
     "output_type": "display_data"
    },
    {
     "data": {
      "text/plain": [
       "<Figure size 1800x900 with 0 Axes>"
      ]
     },
     "metadata": {},
     "output_type": "display_data"
    },
    {
     "data": {
      "text/plain": [
       "<Figure size 600x600 with 0 Axes>"
      ]
     },
     "metadata": {},
     "output_type": "display_data"
    },
    {
     "data": {
      "text/plain": [
       "<Figure size 1800x900 with 0 Axes>"
      ]
     },
     "metadata": {},
     "output_type": "display_data"
    },
    {
     "data": {
      "text/plain": [
       "<Figure size 600x600 with 0 Axes>"
      ]
     },
     "metadata": {},
     "output_type": "display_data"
    },
    {
     "data": {
      "text/plain": [
       "<Figure size 1800x900 with 0 Axes>"
      ]
     },
     "metadata": {},
     "output_type": "display_data"
    },
    {
     "data": {
      "text/plain": [
       "<Figure size 600x600 with 0 Axes>"
      ]
     },
     "metadata": {},
     "output_type": "display_data"
    },
    {
     "data": {
      "text/plain": [
       "<Figure size 1800x900 with 0 Axes>"
      ]
     },
     "metadata": {},
     "output_type": "display_data"
    },
    {
     "data": {
      "text/plain": [
       "<Figure size 600x600 with 0 Axes>"
      ]
     },
     "metadata": {},
     "output_type": "display_data"
    },
    {
     "data": {
      "text/plain": [
       "<Figure size 1800x900 with 0 Axes>"
      ]
     },
     "metadata": {},
     "output_type": "display_data"
    },
    {
     "data": {
      "text/plain": [
       "<Figure size 600x600 with 0 Axes>"
      ]
     },
     "metadata": {},
     "output_type": "display_data"
    },
    {
     "data": {
      "text/plain": [
       "<Figure size 1800x900 with 0 Axes>"
      ]
     },
     "metadata": {},
     "output_type": "display_data"
    },
    {
     "data": {
      "text/plain": [
       "<Figure size 600x600 with 0 Axes>"
      ]
     },
     "metadata": {},
     "output_type": "display_data"
    },
    {
     "data": {
      "text/plain": [
       "<Figure size 1800x900 with 0 Axes>"
      ]
     },
     "metadata": {},
     "output_type": "display_data"
    },
    {
     "data": {
      "text/plain": [
       "<Figure size 600x600 with 0 Axes>"
      ]
     },
     "metadata": {},
     "output_type": "display_data"
    },
    {
     "data": {
      "text/plain": [
       "<Figure size 1800x900 with 0 Axes>"
      ]
     },
     "metadata": {},
     "output_type": "display_data"
    },
    {
     "data": {
      "text/plain": [
       "<Figure size 600x600 with 0 Axes>"
      ]
     },
     "metadata": {},
     "output_type": "display_data"
    },
    {
     "data": {
      "text/plain": [
       "<Figure size 1800x900 with 0 Axes>"
      ]
     },
     "metadata": {},
     "output_type": "display_data"
    },
    {
     "data": {
      "text/plain": [
       "<Figure size 600x600 with 0 Axes>"
      ]
     },
     "metadata": {},
     "output_type": "display_data"
    },
    {
     "data": {
      "text/plain": [
       "<Figure size 1800x900 with 0 Axes>"
      ]
     },
     "metadata": {},
     "output_type": "display_data"
    },
    {
     "data": {
      "text/plain": [
       "<Figure size 600x600 with 0 Axes>"
      ]
     },
     "metadata": {},
     "output_type": "display_data"
    },
    {
     "data": {
      "text/plain": [
       "<Figure size 1800x900 with 0 Axes>"
      ]
     },
     "metadata": {},
     "output_type": "display_data"
    },
    {
     "data": {
      "text/plain": [
       "<Figure size 600x600 with 0 Axes>"
      ]
     },
     "metadata": {},
     "output_type": "display_data"
    },
    {
     "data": {
      "text/plain": [
       "<Figure size 1800x900 with 0 Axes>"
      ]
     },
     "metadata": {},
     "output_type": "display_data"
    },
    {
     "data": {
      "text/plain": [
       "<Figure size 600x600 with 0 Axes>"
      ]
     },
     "metadata": {},
     "output_type": "display_data"
    },
    {
     "data": {
      "text/plain": [
       "<Figure size 1800x900 with 0 Axes>"
      ]
     },
     "metadata": {},
     "output_type": "display_data"
    },
    {
     "data": {
      "text/plain": [
       "<Figure size 600x600 with 0 Axes>"
      ]
     },
     "metadata": {},
     "output_type": "display_data"
    },
    {
     "data": {
      "text/plain": [
       "<Figure size 1800x900 with 0 Axes>"
      ]
     },
     "metadata": {},
     "output_type": "display_data"
    },
    {
     "data": {
      "text/plain": [
       "<Figure size 600x600 with 0 Axes>"
      ]
     },
     "metadata": {},
     "output_type": "display_data"
    },
    {
     "data": {
      "text/plain": [
       "<Figure size 1800x900 with 0 Axes>"
      ]
     },
     "metadata": {},
     "output_type": "display_data"
    },
    {
     "data": {
      "text/plain": [
       "<Figure size 600x600 with 0 Axes>"
      ]
     },
     "metadata": {},
     "output_type": "display_data"
    },
    {
     "data": {
      "text/plain": [
       "<Figure size 1800x900 with 0 Axes>"
      ]
     },
     "metadata": {},
     "output_type": "display_data"
    },
    {
     "data": {
      "text/plain": [
       "<Figure size 600x600 with 0 Axes>"
      ]
     },
     "metadata": {},
     "output_type": "display_data"
    },
    {
     "data": {
      "text/plain": [
       "<Figure size 1800x900 with 0 Axes>"
      ]
     },
     "metadata": {},
     "output_type": "display_data"
    },
    {
     "data": {
      "text/plain": [
       "<Figure size 600x600 with 0 Axes>"
      ]
     },
     "metadata": {},
     "output_type": "display_data"
    },
    {
     "data": {
      "text/plain": [
       "<Figure size 1800x900 with 0 Axes>"
      ]
     },
     "metadata": {},
     "output_type": "display_data"
    },
    {
     "data": {
      "text/plain": [
       "<Figure size 600x600 with 0 Axes>"
      ]
     },
     "metadata": {},
     "output_type": "display_data"
    },
    {
     "data": {
      "text/plain": [
       "<Figure size 1800x900 with 0 Axes>"
      ]
     },
     "metadata": {},
     "output_type": "display_data"
    },
    {
     "data": {
      "text/plain": [
       "<Figure size 600x600 with 0 Axes>"
      ]
     },
     "metadata": {},
     "output_type": "display_data"
    },
    {
     "data": {
      "text/plain": [
       "<Figure size 1800x900 with 0 Axes>"
      ]
     },
     "metadata": {},
     "output_type": "display_data"
    },
    {
     "data": {
      "text/plain": [
       "<Figure size 600x600 with 0 Axes>"
      ]
     },
     "metadata": {},
     "output_type": "display_data"
    },
    {
     "data": {
      "text/plain": [
       "<Figure size 1800x900 with 0 Axes>"
      ]
     },
     "metadata": {},
     "output_type": "display_data"
    },
    {
     "data": {
      "text/plain": [
       "<Figure size 600x600 with 0 Axes>"
      ]
     },
     "metadata": {},
     "output_type": "display_data"
    },
    {
     "data": {
      "text/plain": [
       "<Figure size 1800x900 with 0 Axes>"
      ]
     },
     "metadata": {},
     "output_type": "display_data"
    },
    {
     "data": {
      "text/plain": [
       "<Figure size 600x600 with 0 Axes>"
      ]
     },
     "metadata": {},
     "output_type": "display_data"
    },
    {
     "data": {
      "text/plain": [
       "<Figure size 1800x900 with 0 Axes>"
      ]
     },
     "metadata": {},
     "output_type": "display_data"
    },
    {
     "data": {
      "text/plain": [
       "<Figure size 600x600 with 0 Axes>"
      ]
     },
     "metadata": {},
     "output_type": "display_data"
    },
    {
     "data": {
      "text/plain": [
       "<Figure size 1800x900 with 0 Axes>"
      ]
     },
     "metadata": {},
     "output_type": "display_data"
    },
    {
     "data": {
      "text/plain": [
       "<Figure size 600x600 with 0 Axes>"
      ]
     },
     "metadata": {},
     "output_type": "display_data"
    },
    {
     "data": {
      "text/plain": [
       "<Figure size 1800x900 with 0 Axes>"
      ]
     },
     "metadata": {},
     "output_type": "display_data"
    },
    {
     "data": {
      "text/plain": [
       "<Figure size 600x600 with 0 Axes>"
      ]
     },
     "metadata": {},
     "output_type": "display_data"
    },
    {
     "data": {
      "text/plain": [
       "<Figure size 1800x900 with 0 Axes>"
      ]
     },
     "metadata": {},
     "output_type": "display_data"
    },
    {
     "data": {
      "text/plain": [
       "<Figure size 600x600 with 0 Axes>"
      ]
     },
     "metadata": {},
     "output_type": "display_data"
    },
    {
     "data": {
      "text/plain": [
       "<Figure size 1800x900 with 0 Axes>"
      ]
     },
     "metadata": {},
     "output_type": "display_data"
    },
    {
     "data": {
      "text/plain": [
       "<Figure size 600x600 with 0 Axes>"
      ]
     },
     "metadata": {},
     "output_type": "display_data"
    },
    {
     "data": {
      "text/plain": [
       "<Figure size 1800x900 with 0 Axes>"
      ]
     },
     "metadata": {},
     "output_type": "display_data"
    },
    {
     "data": {
      "text/plain": [
       "<Figure size 600x600 with 0 Axes>"
      ]
     },
     "metadata": {},
     "output_type": "display_data"
    },
    {
     "data": {
      "text/plain": [
       "<Figure size 1800x900 with 0 Axes>"
      ]
     },
     "metadata": {},
     "output_type": "display_data"
    },
    {
     "data": {
      "text/plain": [
       "<Figure size 600x600 with 0 Axes>"
      ]
     },
     "metadata": {},
     "output_type": "display_data"
    },
    {
     "data": {
      "text/plain": [
       "<Figure size 1800x900 with 0 Axes>"
      ]
     },
     "metadata": {},
     "output_type": "display_data"
    },
    {
     "data": {
      "text/plain": [
       "<Figure size 600x600 with 0 Axes>"
      ]
     },
     "metadata": {},
     "output_type": "display_data"
    },
    {
     "data": {
      "text/plain": [
       "<Figure size 1800x900 with 0 Axes>"
      ]
     },
     "metadata": {},
     "output_type": "display_data"
    },
    {
     "data": {
      "text/plain": [
       "<Figure size 600x600 with 0 Axes>"
      ]
     },
     "metadata": {},
     "output_type": "display_data"
    },
    {
     "data": {
      "text/plain": [
       "<Figure size 1800x900 with 0 Axes>"
      ]
     },
     "metadata": {},
     "output_type": "display_data"
    },
    {
     "data": {
      "text/plain": [
       "<Figure size 600x600 with 0 Axes>"
      ]
     },
     "metadata": {},
     "output_type": "display_data"
    },
    {
     "data": {
      "text/plain": [
       "<Figure size 1800x900 with 0 Axes>"
      ]
     },
     "metadata": {},
     "output_type": "display_data"
    },
    {
     "data": {
      "text/plain": [
       "<Figure size 600x600 with 0 Axes>"
      ]
     },
     "metadata": {},
     "output_type": "display_data"
    },
    {
     "data": {
      "text/plain": [
       "<Figure size 1800x900 with 0 Axes>"
      ]
     },
     "metadata": {},
     "output_type": "display_data"
    },
    {
     "data": {
      "text/plain": [
       "<Figure size 600x600 with 0 Axes>"
      ]
     },
     "metadata": {},
     "output_type": "display_data"
    },
    {
     "data": {
      "text/plain": [
       "<Figure size 1800x900 with 0 Axes>"
      ]
     },
     "metadata": {},
     "output_type": "display_data"
    },
    {
     "data": {
      "text/plain": [
       "<Figure size 600x600 with 0 Axes>"
      ]
     },
     "metadata": {},
     "output_type": "display_data"
    },
    {
     "data": {
      "text/plain": [
       "<Figure size 1800x900 with 0 Axes>"
      ]
     },
     "metadata": {},
     "output_type": "display_data"
    },
    {
     "data": {
      "text/plain": [
       "<Figure size 600x600 with 0 Axes>"
      ]
     },
     "metadata": {},
     "output_type": "display_data"
    },
    {
     "data": {
      "text/plain": [
       "<Figure size 1800x900 with 0 Axes>"
      ]
     },
     "metadata": {},
     "output_type": "display_data"
    },
    {
     "data": {
      "text/plain": [
       "<Figure size 600x600 with 0 Axes>"
      ]
     },
     "metadata": {},
     "output_type": "display_data"
    },
    {
     "data": {
      "text/plain": [
       "<Figure size 1800x900 with 0 Axes>"
      ]
     },
     "metadata": {},
     "output_type": "display_data"
    },
    {
     "data": {
      "text/plain": [
       "<Figure size 600x600 with 0 Axes>"
      ]
     },
     "metadata": {},
     "output_type": "display_data"
    },
    {
     "data": {
      "text/plain": [
       "<Figure size 1800x900 with 0 Axes>"
      ]
     },
     "metadata": {},
     "output_type": "display_data"
    },
    {
     "data": {
      "text/plain": [
       "<Figure size 600x600 with 0 Axes>"
      ]
     },
     "metadata": {},
     "output_type": "display_data"
    },
    {
     "data": {
      "text/plain": [
       "<Figure size 1800x900 with 0 Axes>"
      ]
     },
     "metadata": {},
     "output_type": "display_data"
    },
    {
     "data": {
      "text/plain": [
       "<Figure size 600x600 with 0 Axes>"
      ]
     },
     "metadata": {},
     "output_type": "display_data"
    },
    {
     "data": {
      "text/plain": [
       "<Figure size 1800x900 with 0 Axes>"
      ]
     },
     "metadata": {},
     "output_type": "display_data"
    },
    {
     "data": {
      "text/plain": [
       "<Figure size 600x600 with 0 Axes>"
      ]
     },
     "metadata": {},
     "output_type": "display_data"
    },
    {
     "data": {
      "text/plain": [
       "<Figure size 1800x900 with 0 Axes>"
      ]
     },
     "metadata": {},
     "output_type": "display_data"
    },
    {
     "data": {
      "text/plain": [
       "<Figure size 600x600 with 0 Axes>"
      ]
     },
     "metadata": {},
     "output_type": "display_data"
    },
    {
     "data": {
      "text/plain": [
       "<Figure size 1800x900 with 0 Axes>"
      ]
     },
     "metadata": {},
     "output_type": "display_data"
    },
    {
     "data": {
      "text/plain": [
       "<Figure size 600x600 with 0 Axes>"
      ]
     },
     "metadata": {},
     "output_type": "display_data"
    },
    {
     "data": {
      "text/plain": [
       "<Figure size 1800x900 with 0 Axes>"
      ]
     },
     "metadata": {},
     "output_type": "display_data"
    },
    {
     "data": {
      "text/plain": [
       "<Figure size 600x600 with 0 Axes>"
      ]
     },
     "metadata": {},
     "output_type": "display_data"
    },
    {
     "data": {
      "text/plain": [
       "<Figure size 1800x900 with 0 Axes>"
      ]
     },
     "metadata": {},
     "output_type": "display_data"
    },
    {
     "data": {
      "text/plain": [
       "<Figure size 600x600 with 0 Axes>"
      ]
     },
     "metadata": {},
     "output_type": "display_data"
    },
    {
     "data": {
      "text/plain": [
       "<Figure size 1800x900 with 0 Axes>"
      ]
     },
     "metadata": {},
     "output_type": "display_data"
    },
    {
     "data": {
      "text/plain": [
       "<Figure size 600x600 with 0 Axes>"
      ]
     },
     "metadata": {},
     "output_type": "display_data"
    },
    {
     "data": {
      "text/plain": [
       "<Figure size 1800x900 with 0 Axes>"
      ]
     },
     "metadata": {},
     "output_type": "display_data"
    },
    {
     "data": {
      "text/plain": [
       "<Figure size 600x600 with 0 Axes>"
      ]
     },
     "metadata": {},
     "output_type": "display_data"
    },
    {
     "data": {
      "text/plain": [
       "<Figure size 1800x900 with 0 Axes>"
      ]
     },
     "metadata": {},
     "output_type": "display_data"
    },
    {
     "data": {
      "text/plain": [
       "<Figure size 600x600 with 0 Axes>"
      ]
     },
     "metadata": {},
     "output_type": "display_data"
    },
    {
     "data": {
      "text/plain": [
       "<Figure size 1800x900 with 0 Axes>"
      ]
     },
     "metadata": {},
     "output_type": "display_data"
    },
    {
     "data": {
      "text/plain": [
       "<Figure size 600x600 with 0 Axes>"
      ]
     },
     "metadata": {},
     "output_type": "display_data"
    },
    {
     "data": {
      "text/plain": [
       "<Figure size 1800x900 with 0 Axes>"
      ]
     },
     "metadata": {},
     "output_type": "display_data"
    },
    {
     "data": {
      "text/plain": [
       "<Figure size 600x600 with 0 Axes>"
      ]
     },
     "metadata": {},
     "output_type": "display_data"
    },
    {
     "data": {
      "text/plain": [
       "<Figure size 1800x900 with 0 Axes>"
      ]
     },
     "metadata": {},
     "output_type": "display_data"
    },
    {
     "data": {
      "text/plain": [
       "<Figure size 600x600 with 0 Axes>"
      ]
     },
     "metadata": {},
     "output_type": "display_data"
    },
    {
     "data": {
      "text/plain": [
       "<Figure size 1800x900 with 0 Axes>"
      ]
     },
     "metadata": {},
     "output_type": "display_data"
    },
    {
     "data": {
      "text/plain": [
       "<Figure size 600x600 with 0 Axes>"
      ]
     },
     "metadata": {},
     "output_type": "display_data"
    },
    {
     "data": {
      "text/plain": [
       "<Figure size 1800x900 with 0 Axes>"
      ]
     },
     "metadata": {},
     "output_type": "display_data"
    },
    {
     "data": {
      "text/plain": [
       "<Figure size 600x600 with 0 Axes>"
      ]
     },
     "metadata": {},
     "output_type": "display_data"
    },
    {
     "data": {
      "text/plain": [
       "<Figure size 1800x900 with 0 Axes>"
      ]
     },
     "metadata": {},
     "output_type": "display_data"
    },
    {
     "data": {
      "text/plain": [
       "<Figure size 600x600 with 0 Axes>"
      ]
     },
     "metadata": {},
     "output_type": "display_data"
    },
    {
     "data": {
      "text/plain": [
       "<Figure size 1800x900 with 0 Axes>"
      ]
     },
     "metadata": {},
     "output_type": "display_data"
    },
    {
     "data": {
      "text/plain": [
       "<Figure size 600x600 with 0 Axes>"
      ]
     },
     "metadata": {},
     "output_type": "display_data"
    },
    {
     "data": {
      "text/plain": [
       "<Figure size 1800x900 with 0 Axes>"
      ]
     },
     "metadata": {},
     "output_type": "display_data"
    },
    {
     "data": {
      "text/plain": [
       "<Figure size 600x600 with 0 Axes>"
      ]
     },
     "metadata": {},
     "output_type": "display_data"
    },
    {
     "data": {
      "text/plain": [
       "<Figure size 1800x900 with 0 Axes>"
      ]
     },
     "metadata": {},
     "output_type": "display_data"
    },
    {
     "data": {
      "text/plain": [
       "<Figure size 600x600 with 0 Axes>"
      ]
     },
     "metadata": {},
     "output_type": "display_data"
    },
    {
     "data": {
      "text/plain": [
       "<Figure size 1800x900 with 0 Axes>"
      ]
     },
     "metadata": {},
     "output_type": "display_data"
    },
    {
     "data": {
      "text/plain": [
       "<Figure size 600x600 with 0 Axes>"
      ]
     },
     "metadata": {},
     "output_type": "display_data"
    },
    {
     "data": {
      "text/plain": [
       "<Figure size 1800x900 with 0 Axes>"
      ]
     },
     "metadata": {},
     "output_type": "display_data"
    },
    {
     "data": {
      "text/plain": [
       "<Figure size 600x600 with 0 Axes>"
      ]
     },
     "metadata": {},
     "output_type": "display_data"
    },
    {
     "data": {
      "text/plain": [
       "<Figure size 1800x900 with 0 Axes>"
      ]
     },
     "metadata": {},
     "output_type": "display_data"
    },
    {
     "data": {
      "text/plain": [
       "<Figure size 600x600 with 0 Axes>"
      ]
     },
     "metadata": {},
     "output_type": "display_data"
    },
    {
     "data": {
      "text/plain": [
       "<Figure size 1800x900 with 0 Axes>"
      ]
     },
     "metadata": {},
     "output_type": "display_data"
    },
    {
     "data": {
      "text/plain": [
       "<Figure size 600x600 with 0 Axes>"
      ]
     },
     "metadata": {},
     "output_type": "display_data"
    },
    {
     "data": {
      "text/plain": [
       "<Figure size 1800x900 with 0 Axes>"
      ]
     },
     "metadata": {},
     "output_type": "display_data"
    },
    {
     "data": {
      "text/plain": [
       "<Figure size 600x600 with 0 Axes>"
      ]
     },
     "metadata": {},
     "output_type": "display_data"
    },
    {
     "data": {
      "text/plain": [
       "<Figure size 1800x900 with 0 Axes>"
      ]
     },
     "metadata": {},
     "output_type": "display_data"
    },
    {
     "data": {
      "text/plain": [
       "<Figure size 600x600 with 0 Axes>"
      ]
     },
     "metadata": {},
     "output_type": "display_data"
    },
    {
     "data": {
      "text/plain": [
       "<Figure size 1800x900 with 0 Axes>"
      ]
     },
     "metadata": {},
     "output_type": "display_data"
    },
    {
     "data": {
      "text/plain": [
       "<Figure size 600x600 with 0 Axes>"
      ]
     },
     "metadata": {},
     "output_type": "display_data"
    },
    {
     "data": {
      "text/plain": [
       "<Figure size 1800x900 with 0 Axes>"
      ]
     },
     "metadata": {},
     "output_type": "display_data"
    },
    {
     "data": {
      "text/plain": [
       "<Figure size 600x600 with 0 Axes>"
      ]
     },
     "metadata": {},
     "output_type": "display_data"
    },
    {
     "data": {
      "text/plain": [
       "<Figure size 1800x900 with 0 Axes>"
      ]
     },
     "metadata": {},
     "output_type": "display_data"
    },
    {
     "data": {
      "text/plain": [
       "<Figure size 600x600 with 0 Axes>"
      ]
     },
     "metadata": {},
     "output_type": "display_data"
    },
    {
     "data": {
      "text/plain": [
       "<Figure size 1800x900 with 0 Axes>"
      ]
     },
     "metadata": {},
     "output_type": "display_data"
    },
    {
     "data": {
      "text/plain": [
       "<Figure size 600x600 with 0 Axes>"
      ]
     },
     "metadata": {},
     "output_type": "display_data"
    },
    {
     "data": {
      "text/plain": [
       "<Figure size 1800x900 with 0 Axes>"
      ]
     },
     "metadata": {},
     "output_type": "display_data"
    },
    {
     "data": {
      "text/plain": [
       "<Figure size 600x600 with 0 Axes>"
      ]
     },
     "metadata": {},
     "output_type": "display_data"
    },
    {
     "data": {
      "text/plain": [
       "<Figure size 1800x900 with 0 Axes>"
      ]
     },
     "metadata": {},
     "output_type": "display_data"
    },
    {
     "data": {
      "text/plain": [
       "<Figure size 600x600 with 0 Axes>"
      ]
     },
     "metadata": {},
     "output_type": "display_data"
    },
    {
     "data": {
      "text/plain": [
       "<Figure size 1800x900 with 0 Axes>"
      ]
     },
     "metadata": {},
     "output_type": "display_data"
    },
    {
     "data": {
      "text/plain": [
       "<Figure size 600x600 with 0 Axes>"
      ]
     },
     "metadata": {},
     "output_type": "display_data"
    },
    {
     "data": {
      "text/plain": [
       "<Figure size 1800x900 with 0 Axes>"
      ]
     },
     "metadata": {},
     "output_type": "display_data"
    },
    {
     "data": {
      "text/plain": [
       "<Figure size 600x600 with 0 Axes>"
      ]
     },
     "metadata": {},
     "output_type": "display_data"
    },
    {
     "data": {
      "text/plain": [
       "<Figure size 1800x900 with 0 Axes>"
      ]
     },
     "metadata": {},
     "output_type": "display_data"
    },
    {
     "data": {
      "text/plain": [
       "<Figure size 600x600 with 0 Axes>"
      ]
     },
     "metadata": {},
     "output_type": "display_data"
    },
    {
     "data": {
      "text/plain": [
       "<Figure size 1800x900 with 0 Axes>"
      ]
     },
     "metadata": {},
     "output_type": "display_data"
    },
    {
     "data": {
      "text/plain": [
       "<Figure size 600x600 with 0 Axes>"
      ]
     },
     "metadata": {},
     "output_type": "display_data"
    },
    {
     "data": {
      "text/plain": [
       "<Figure size 1800x900 with 0 Axes>"
      ]
     },
     "metadata": {},
     "output_type": "display_data"
    },
    {
     "data": {
      "text/plain": [
       "<Figure size 600x600 with 0 Axes>"
      ]
     },
     "metadata": {},
     "output_type": "display_data"
    },
    {
     "data": {
      "text/plain": [
       "<Figure size 1800x900 with 0 Axes>"
      ]
     },
     "metadata": {},
     "output_type": "display_data"
    },
    {
     "data": {
      "text/plain": [
       "<Figure size 600x600 with 0 Axes>"
      ]
     },
     "metadata": {},
     "output_type": "display_data"
    },
    {
     "data": {
      "text/plain": [
       "<Figure size 1800x900 with 0 Axes>"
      ]
     },
     "metadata": {},
     "output_type": "display_data"
    },
    {
     "data": {
      "text/plain": [
       "<Figure size 600x600 with 0 Axes>"
      ]
     },
     "metadata": {},
     "output_type": "display_data"
    },
    {
     "data": {
      "text/plain": [
       "<Figure size 1800x900 with 0 Axes>"
      ]
     },
     "metadata": {},
     "output_type": "display_data"
    },
    {
     "data": {
      "text/plain": [
       "<Figure size 600x600 with 0 Axes>"
      ]
     },
     "metadata": {},
     "output_type": "display_data"
    },
    {
     "data": {
      "text/plain": [
       "<Figure size 1800x900 with 0 Axes>"
      ]
     },
     "metadata": {},
     "output_type": "display_data"
    },
    {
     "data": {
      "text/plain": [
       "<Figure size 600x600 with 0 Axes>"
      ]
     },
     "metadata": {},
     "output_type": "display_data"
    },
    {
     "data": {
      "text/plain": [
       "<Figure size 1800x900 with 0 Axes>"
      ]
     },
     "metadata": {},
     "output_type": "display_data"
    },
    {
     "data": {
      "text/plain": [
       "<Figure size 600x600 with 0 Axes>"
      ]
     },
     "metadata": {},
     "output_type": "display_data"
    },
    {
     "data": {
      "text/plain": [
       "<Figure size 1800x900 with 0 Axes>"
      ]
     },
     "metadata": {},
     "output_type": "display_data"
    },
    {
     "data": {
      "text/plain": [
       "<Figure size 600x600 with 0 Axes>"
      ]
     },
     "metadata": {},
     "output_type": "display_data"
    },
    {
     "data": {
      "text/plain": [
       "<Figure size 1800x900 with 0 Axes>"
      ]
     },
     "metadata": {},
     "output_type": "display_data"
    },
    {
     "data": {
      "text/plain": [
       "<Figure size 600x600 with 0 Axes>"
      ]
     },
     "metadata": {},
     "output_type": "display_data"
    },
    {
     "data": {
      "text/plain": [
       "<Figure size 1800x900 with 0 Axes>"
      ]
     },
     "metadata": {},
     "output_type": "display_data"
    },
    {
     "data": {
      "text/plain": [
       "<Figure size 600x600 with 0 Axes>"
      ]
     },
     "metadata": {},
     "output_type": "display_data"
    },
    {
     "data": {
      "text/plain": [
       "<Figure size 1800x900 with 0 Axes>"
      ]
     },
     "metadata": {},
     "output_type": "display_data"
    },
    {
     "data": {
      "text/plain": [
       "<Figure size 600x600 with 0 Axes>"
      ]
     },
     "metadata": {},
     "output_type": "display_data"
    },
    {
     "data": {
      "text/plain": [
       "<Figure size 1800x900 with 0 Axes>"
      ]
     },
     "metadata": {},
     "output_type": "display_data"
    },
    {
     "data": {
      "text/plain": [
       "<Figure size 600x600 with 0 Axes>"
      ]
     },
     "metadata": {},
     "output_type": "display_data"
    },
    {
     "data": {
      "text/plain": [
       "<Figure size 1800x900 with 0 Axes>"
      ]
     },
     "metadata": {},
     "output_type": "display_data"
    },
    {
     "data": {
      "text/plain": [
       "<Figure size 600x600 with 0 Axes>"
      ]
     },
     "metadata": {},
     "output_type": "display_data"
    },
    {
     "data": {
      "text/plain": [
       "<Figure size 1800x900 with 0 Axes>"
      ]
     },
     "metadata": {},
     "output_type": "display_data"
    },
    {
     "data": {
      "text/plain": [
       "<Figure size 600x600 with 0 Axes>"
      ]
     },
     "metadata": {},
     "output_type": "display_data"
    },
    {
     "data": {
      "text/plain": [
       "<Figure size 1800x900 with 0 Axes>"
      ]
     },
     "metadata": {},
     "output_type": "display_data"
    },
    {
     "data": {
      "text/plain": [
       "<Figure size 600x600 with 0 Axes>"
      ]
     },
     "metadata": {},
     "output_type": "display_data"
    },
    {
     "data": {
      "text/plain": [
       "<Figure size 1800x900 with 0 Axes>"
      ]
     },
     "metadata": {},
     "output_type": "display_data"
    },
    {
     "data": {
      "text/plain": [
       "<Figure size 600x600 with 0 Axes>"
      ]
     },
     "metadata": {},
     "output_type": "display_data"
    },
    {
     "data": {
      "text/plain": [
       "<Figure size 1800x900 with 0 Axes>"
      ]
     },
     "metadata": {},
     "output_type": "display_data"
    },
    {
     "data": {
      "text/plain": [
       "<Figure size 600x600 with 0 Axes>"
      ]
     },
     "metadata": {},
     "output_type": "display_data"
    },
    {
     "data": {
      "text/plain": [
       "<Figure size 1800x900 with 0 Axes>"
      ]
     },
     "metadata": {},
     "output_type": "display_data"
    },
    {
     "data": {
      "text/plain": [
       "<Figure size 600x600 with 0 Axes>"
      ]
     },
     "metadata": {},
     "output_type": "display_data"
    },
    {
     "data": {
      "text/plain": [
       "<Figure size 1800x900 with 0 Axes>"
      ]
     },
     "metadata": {},
     "output_type": "display_data"
    },
    {
     "data": {
      "text/plain": [
       "<Figure size 600x600 with 0 Axes>"
      ]
     },
     "metadata": {},
     "output_type": "display_data"
    },
    {
     "data": {
      "text/plain": [
       "<Figure size 1800x900 with 0 Axes>"
      ]
     },
     "metadata": {},
     "output_type": "display_data"
    },
    {
     "data": {
      "text/plain": [
       "<Figure size 600x600 with 0 Axes>"
      ]
     },
     "metadata": {},
     "output_type": "display_data"
    },
    {
     "data": {
      "text/plain": [
       "<Figure size 1800x900 with 0 Axes>"
      ]
     },
     "metadata": {},
     "output_type": "display_data"
    },
    {
     "data": {
      "text/plain": [
       "<Figure size 600x600 with 0 Axes>"
      ]
     },
     "metadata": {},
     "output_type": "display_data"
    },
    {
     "data": {
      "text/plain": [
       "<Figure size 1800x900 with 0 Axes>"
      ]
     },
     "metadata": {},
     "output_type": "display_data"
    },
    {
     "data": {
      "text/plain": [
       "<Figure size 600x600 with 0 Axes>"
      ]
     },
     "metadata": {},
     "output_type": "display_data"
    },
    {
     "data": {
      "text/plain": [
       "<Figure size 1800x900 with 0 Axes>"
      ]
     },
     "metadata": {},
     "output_type": "display_data"
    },
    {
     "data": {
      "text/plain": [
       "<Figure size 600x600 with 0 Axes>"
      ]
     },
     "metadata": {},
     "output_type": "display_data"
    },
    {
     "data": {
      "text/plain": [
       "<Figure size 1800x900 with 0 Axes>"
      ]
     },
     "metadata": {},
     "output_type": "display_data"
    },
    {
     "data": {
      "text/plain": [
       "<Figure size 600x600 with 0 Axes>"
      ]
     },
     "metadata": {},
     "output_type": "display_data"
    },
    {
     "data": {
      "text/plain": [
       "<Figure size 1800x900 with 0 Axes>"
      ]
     },
     "metadata": {},
     "output_type": "display_data"
    },
    {
     "data": {
      "text/plain": [
       "<Figure size 600x600 with 0 Axes>"
      ]
     },
     "metadata": {},
     "output_type": "display_data"
    },
    {
     "data": {
      "text/plain": [
       "<Figure size 1800x900 with 0 Axes>"
      ]
     },
     "metadata": {},
     "output_type": "display_data"
    },
    {
     "data": {
      "text/plain": [
       "<Figure size 600x600 with 0 Axes>"
      ]
     },
     "metadata": {},
     "output_type": "display_data"
    },
    {
     "data": {
      "text/plain": [
       "<Figure size 1800x900 with 0 Axes>"
      ]
     },
     "metadata": {},
     "output_type": "display_data"
    },
    {
     "data": {
      "text/plain": [
       "<Figure size 600x600 with 0 Axes>"
      ]
     },
     "metadata": {},
     "output_type": "display_data"
    },
    {
     "data": {
      "text/plain": [
       "<Figure size 1800x900 with 0 Axes>"
      ]
     },
     "metadata": {},
     "output_type": "display_data"
    },
    {
     "data": {
      "text/plain": [
       "<Figure size 600x600 with 0 Axes>"
      ]
     },
     "metadata": {},
     "output_type": "display_data"
    },
    {
     "data": {
      "text/plain": [
       "<Figure size 1800x900 with 0 Axes>"
      ]
     },
     "metadata": {},
     "output_type": "display_data"
    },
    {
     "data": {
      "text/plain": [
       "<Figure size 600x600 with 0 Axes>"
      ]
     },
     "metadata": {},
     "output_type": "display_data"
    },
    {
     "data": {
      "text/plain": [
       "<Figure size 1800x900 with 0 Axes>"
      ]
     },
     "metadata": {},
     "output_type": "display_data"
    },
    {
     "data": {
      "text/plain": [
       "<Figure size 600x600 with 0 Axes>"
      ]
     },
     "metadata": {},
     "output_type": "display_data"
    },
    {
     "data": {
      "text/plain": [
       "<Figure size 1800x900 with 0 Axes>"
      ]
     },
     "metadata": {},
     "output_type": "display_data"
    },
    {
     "data": {
      "text/plain": [
       "<Figure size 600x600 with 0 Axes>"
      ]
     },
     "metadata": {},
     "output_type": "display_data"
    },
    {
     "data": {
      "text/plain": [
       "<Figure size 1800x900 with 0 Axes>"
      ]
     },
     "metadata": {},
     "output_type": "display_data"
    },
    {
     "data": {
      "text/plain": [
       "<Figure size 600x600 with 0 Axes>"
      ]
     },
     "metadata": {},
     "output_type": "display_data"
    },
    {
     "data": {
      "text/plain": [
       "<Figure size 1800x900 with 0 Axes>"
      ]
     },
     "metadata": {},
     "output_type": "display_data"
    },
    {
     "data": {
      "text/plain": [
       "<Figure size 600x600 with 0 Axes>"
      ]
     },
     "metadata": {},
     "output_type": "display_data"
    },
    {
     "data": {
      "text/plain": [
       "<Figure size 1800x900 with 0 Axes>"
      ]
     },
     "metadata": {},
     "output_type": "display_data"
    },
    {
     "data": {
      "text/plain": [
       "<Figure size 600x600 with 0 Axes>"
      ]
     },
     "metadata": {},
     "output_type": "display_data"
    },
    {
     "data": {
      "text/plain": [
       "<Figure size 1800x900 with 0 Axes>"
      ]
     },
     "metadata": {},
     "output_type": "display_data"
    },
    {
     "data": {
      "text/plain": [
       "<Figure size 600x600 with 0 Axes>"
      ]
     },
     "metadata": {},
     "output_type": "display_data"
    },
    {
     "data": {
      "text/plain": [
       "<Figure size 1800x900 with 0 Axes>"
      ]
     },
     "metadata": {},
     "output_type": "display_data"
    },
    {
     "data": {
      "text/plain": [
       "<Figure size 600x600 with 0 Axes>"
      ]
     },
     "metadata": {},
     "output_type": "display_data"
    },
    {
     "data": {
      "text/plain": [
       "<Figure size 1800x900 with 0 Axes>"
      ]
     },
     "metadata": {},
     "output_type": "display_data"
    },
    {
     "data": {
      "text/plain": [
       "<Figure size 600x600 with 0 Axes>"
      ]
     },
     "metadata": {},
     "output_type": "display_data"
    },
    {
     "data": {
      "text/plain": [
       "<Figure size 1800x900 with 0 Axes>"
      ]
     },
     "metadata": {},
     "output_type": "display_data"
    },
    {
     "data": {
      "text/plain": [
       "<Figure size 600x600 with 0 Axes>"
      ]
     },
     "metadata": {},
     "output_type": "display_data"
    },
    {
     "data": {
      "text/plain": [
       "<Figure size 1800x900 with 0 Axes>"
      ]
     },
     "metadata": {},
     "output_type": "display_data"
    },
    {
     "data": {
      "text/plain": [
       "<Figure size 600x600 with 0 Axes>"
      ]
     },
     "metadata": {},
     "output_type": "display_data"
    },
    {
     "data": {
      "text/plain": [
       "<Figure size 1800x900 with 0 Axes>"
      ]
     },
     "metadata": {},
     "output_type": "display_data"
    },
    {
     "data": {
      "text/plain": [
       "<Figure size 600x600 with 0 Axes>"
      ]
     },
     "metadata": {},
     "output_type": "display_data"
    },
    {
     "data": {
      "text/plain": [
       "<Figure size 1800x900 with 0 Axes>"
      ]
     },
     "metadata": {},
     "output_type": "display_data"
    },
    {
     "data": {
      "text/plain": [
       "<Figure size 600x600 with 0 Axes>"
      ]
     },
     "metadata": {},
     "output_type": "display_data"
    },
    {
     "data": {
      "text/plain": [
       "<Figure size 1800x900 with 0 Axes>"
      ]
     },
     "metadata": {},
     "output_type": "display_data"
    },
    {
     "data": {
      "text/plain": [
       "<Figure size 600x600 with 0 Axes>"
      ]
     },
     "metadata": {},
     "output_type": "display_data"
    },
    {
     "data": {
      "text/plain": [
       "<Figure size 1800x900 with 0 Axes>"
      ]
     },
     "metadata": {},
     "output_type": "display_data"
    },
    {
     "data": {
      "text/plain": [
       "<Figure size 600x600 with 0 Axes>"
      ]
     },
     "metadata": {},
     "output_type": "display_data"
    },
    {
     "data": {
      "text/plain": [
       "<Figure size 1800x900 with 0 Axes>"
      ]
     },
     "metadata": {},
     "output_type": "display_data"
    },
    {
     "data": {
      "text/plain": [
       "<Figure size 600x600 with 0 Axes>"
      ]
     },
     "metadata": {},
     "output_type": "display_data"
    },
    {
     "data": {
      "text/plain": [
       "<Figure size 1800x900 with 0 Axes>"
      ]
     },
     "metadata": {},
     "output_type": "display_data"
    },
    {
     "data": {
      "text/plain": [
       "<Figure size 600x600 with 0 Axes>"
      ]
     },
     "metadata": {},
     "output_type": "display_data"
    },
    {
     "data": {
      "text/plain": [
       "<Figure size 1800x900 with 0 Axes>"
      ]
     },
     "metadata": {},
     "output_type": "display_data"
    },
    {
     "data": {
      "text/plain": [
       "<Figure size 600x600 with 0 Axes>"
      ]
     },
     "metadata": {},
     "output_type": "display_data"
    },
    {
     "data": {
      "text/plain": [
       "<Figure size 1800x900 with 0 Axes>"
      ]
     },
     "metadata": {},
     "output_type": "display_data"
    },
    {
     "data": {
      "text/plain": [
       "<Figure size 600x600 with 0 Axes>"
      ]
     },
     "metadata": {},
     "output_type": "display_data"
    },
    {
     "data": {
      "text/plain": [
       "<Figure size 1800x900 with 0 Axes>"
      ]
     },
     "metadata": {},
     "output_type": "display_data"
    },
    {
     "data": {
      "text/plain": [
       "<Figure size 600x600 with 0 Axes>"
      ]
     },
     "metadata": {},
     "output_type": "display_data"
    },
    {
     "data": {
      "text/plain": [
       "<Figure size 1800x900 with 0 Axes>"
      ]
     },
     "metadata": {},
     "output_type": "display_data"
    },
    {
     "data": {
      "text/plain": [
       "<Figure size 600x600 with 0 Axes>"
      ]
     },
     "metadata": {},
     "output_type": "display_data"
    },
    {
     "data": {
      "text/plain": [
       "<Figure size 1800x900 with 0 Axes>"
      ]
     },
     "metadata": {},
     "output_type": "display_data"
    },
    {
     "data": {
      "text/plain": [
       "<Figure size 600x600 with 0 Axes>"
      ]
     },
     "metadata": {},
     "output_type": "display_data"
    },
    {
     "data": {
      "text/plain": [
       "<Figure size 1800x900 with 0 Axes>"
      ]
     },
     "metadata": {},
     "output_type": "display_data"
    },
    {
     "data": {
      "text/plain": [
       "<Figure size 600x600 with 0 Axes>"
      ]
     },
     "metadata": {},
     "output_type": "display_data"
    },
    {
     "data": {
      "text/plain": [
       "<Figure size 1800x900 with 0 Axes>"
      ]
     },
     "metadata": {},
     "output_type": "display_data"
    },
    {
     "data": {
      "text/plain": [
       "<Figure size 600x600 with 0 Axes>"
      ]
     },
     "metadata": {},
     "output_type": "display_data"
    },
    {
     "data": {
      "text/plain": [
       "<Figure size 1800x900 with 0 Axes>"
      ]
     },
     "metadata": {},
     "output_type": "display_data"
    },
    {
     "data": {
      "text/plain": [
       "<Figure size 600x600 with 0 Axes>"
      ]
     },
     "metadata": {},
     "output_type": "display_data"
    },
    {
     "data": {
      "text/plain": [
       "<Figure size 1800x900 with 0 Axes>"
      ]
     },
     "metadata": {},
     "output_type": "display_data"
    },
    {
     "data": {
      "text/plain": [
       "<Figure size 600x600 with 0 Axes>"
      ]
     },
     "metadata": {},
     "output_type": "display_data"
    },
    {
     "data": {
      "text/plain": [
       "<Figure size 1800x900 with 0 Axes>"
      ]
     },
     "metadata": {},
     "output_type": "display_data"
    },
    {
     "data": {
      "text/plain": [
       "<Figure size 600x600 with 0 Axes>"
      ]
     },
     "metadata": {},
     "output_type": "display_data"
    },
    {
     "data": {
      "text/plain": [
       "<Figure size 1800x900 with 0 Axes>"
      ]
     },
     "metadata": {},
     "output_type": "display_data"
    },
    {
     "data": {
      "text/plain": [
       "<Figure size 600x600 with 0 Axes>"
      ]
     },
     "metadata": {},
     "output_type": "display_data"
    },
    {
     "data": {
      "text/plain": [
       "<Figure size 1800x900 with 0 Axes>"
      ]
     },
     "metadata": {},
     "output_type": "display_data"
    },
    {
     "data": {
      "text/plain": [
       "<Figure size 600x600 with 0 Axes>"
      ]
     },
     "metadata": {},
     "output_type": "display_data"
    },
    {
     "data": {
      "text/plain": [
       "<Figure size 1800x900 with 0 Axes>"
      ]
     },
     "metadata": {},
     "output_type": "display_data"
    },
    {
     "data": {
      "text/plain": [
       "<Figure size 600x600 with 0 Axes>"
      ]
     },
     "metadata": {},
     "output_type": "display_data"
    },
    {
     "data": {
      "text/plain": [
       "<Figure size 1800x900 with 0 Axes>"
      ]
     },
     "metadata": {},
     "output_type": "display_data"
    },
    {
     "data": {
      "text/plain": [
       "<Figure size 600x600 with 0 Axes>"
      ]
     },
     "metadata": {},
     "output_type": "display_data"
    },
    {
     "data": {
      "text/plain": [
       "<Figure size 1800x900 with 0 Axes>"
      ]
     },
     "metadata": {},
     "output_type": "display_data"
    },
    {
     "data": {
      "text/plain": [
       "<Figure size 600x600 with 0 Axes>"
      ]
     },
     "metadata": {},
     "output_type": "display_data"
    },
    {
     "data": {
      "text/plain": [
       "<Figure size 1800x900 with 0 Axes>"
      ]
     },
     "metadata": {},
     "output_type": "display_data"
    },
    {
     "data": {
      "text/plain": [
       "<Figure size 600x600 with 0 Axes>"
      ]
     },
     "metadata": {},
     "output_type": "display_data"
    },
    {
     "data": {
      "text/plain": [
       "<Figure size 1800x900 with 0 Axes>"
      ]
     },
     "metadata": {},
     "output_type": "display_data"
    },
    {
     "data": {
      "text/plain": [
       "<Figure size 600x600 with 0 Axes>"
      ]
     },
     "metadata": {},
     "output_type": "display_data"
    },
    {
     "data": {
      "text/plain": [
       "<Figure size 1800x900 with 0 Axes>"
      ]
     },
     "metadata": {},
     "output_type": "display_data"
    },
    {
     "data": {
      "text/plain": [
       "<Figure size 600x600 with 0 Axes>"
      ]
     },
     "metadata": {},
     "output_type": "display_data"
    },
    {
     "data": {
      "text/plain": [
       "<Figure size 1800x900 with 0 Axes>"
      ]
     },
     "metadata": {},
     "output_type": "display_data"
    },
    {
     "data": {
      "text/plain": [
       "<Figure size 600x600 with 0 Axes>"
      ]
     },
     "metadata": {},
     "output_type": "display_data"
    },
    {
     "data": {
      "text/plain": [
       "<Figure size 1800x900 with 0 Axes>"
      ]
     },
     "metadata": {},
     "output_type": "display_data"
    },
    {
     "data": {
      "text/plain": [
       "<Figure size 600x600 with 0 Axes>"
      ]
     },
     "metadata": {},
     "output_type": "display_data"
    },
    {
     "data": {
      "text/plain": [
       "<Figure size 1800x900 with 0 Axes>"
      ]
     },
     "metadata": {},
     "output_type": "display_data"
    },
    {
     "data": {
      "text/plain": [
       "<Figure size 600x600 with 0 Axes>"
      ]
     },
     "metadata": {},
     "output_type": "display_data"
    },
    {
     "data": {
      "text/plain": [
       "<Figure size 1800x900 with 0 Axes>"
      ]
     },
     "metadata": {},
     "output_type": "display_data"
    },
    {
     "data": {
      "text/plain": [
       "<Figure size 600x600 with 0 Axes>"
      ]
     },
     "metadata": {},
     "output_type": "display_data"
    },
    {
     "data": {
      "text/plain": [
       "<Figure size 1800x900 with 0 Axes>"
      ]
     },
     "metadata": {},
     "output_type": "display_data"
    },
    {
     "data": {
      "text/plain": [
       "<Figure size 600x600 with 0 Axes>"
      ]
     },
     "metadata": {},
     "output_type": "display_data"
    },
    {
     "data": {
      "text/plain": [
       "<Figure size 1800x900 with 0 Axes>"
      ]
     },
     "metadata": {},
     "output_type": "display_data"
    },
    {
     "data": {
      "text/plain": [
       "<Figure size 600x600 with 0 Axes>"
      ]
     },
     "metadata": {},
     "output_type": "display_data"
    },
    {
     "data": {
      "text/plain": [
       "<Figure size 1800x900 with 0 Axes>"
      ]
     },
     "metadata": {},
     "output_type": "display_data"
    },
    {
     "data": {
      "text/plain": [
       "<Figure size 600x600 with 0 Axes>"
      ]
     },
     "metadata": {},
     "output_type": "display_data"
    },
    {
     "data": {
      "text/plain": [
       "<Figure size 1800x900 with 0 Axes>"
      ]
     },
     "metadata": {},
     "output_type": "display_data"
    },
    {
     "data": {
      "text/plain": [
       "<Figure size 600x600 with 0 Axes>"
      ]
     },
     "metadata": {},
     "output_type": "display_data"
    },
    {
     "data": {
      "text/plain": [
       "<Figure size 1800x900 with 0 Axes>"
      ]
     },
     "metadata": {},
     "output_type": "display_data"
    },
    {
     "data": {
      "text/plain": [
       "<Figure size 600x600 with 0 Axes>"
      ]
     },
     "metadata": {},
     "output_type": "display_data"
    },
    {
     "data": {
      "text/plain": [
       "<Figure size 1800x900 with 0 Axes>"
      ]
     },
     "metadata": {},
     "output_type": "display_data"
    },
    {
     "data": {
      "text/plain": [
       "<Figure size 600x600 with 0 Axes>"
      ]
     },
     "metadata": {},
     "output_type": "display_data"
    },
    {
     "data": {
      "text/plain": [
       "<Figure size 1800x900 with 0 Axes>"
      ]
     },
     "metadata": {},
     "output_type": "display_data"
    },
    {
     "data": {
      "text/plain": [
       "<Figure size 600x600 with 0 Axes>"
      ]
     },
     "metadata": {},
     "output_type": "display_data"
    },
    {
     "data": {
      "text/plain": [
       "<Figure size 1800x900 with 0 Axes>"
      ]
     },
     "metadata": {},
     "output_type": "display_data"
    },
    {
     "data": {
      "text/plain": [
       "<Figure size 600x600 with 0 Axes>"
      ]
     },
     "metadata": {},
     "output_type": "display_data"
    },
    {
     "data": {
      "text/plain": [
       "<Figure size 1800x900 with 0 Axes>"
      ]
     },
     "metadata": {},
     "output_type": "display_data"
    },
    {
     "data": {
      "text/plain": [
       "<Figure size 600x600 with 0 Axes>"
      ]
     },
     "metadata": {},
     "output_type": "display_data"
    },
    {
     "data": {
      "text/plain": [
       "<Figure size 1800x900 with 0 Axes>"
      ]
     },
     "metadata": {},
     "output_type": "display_data"
    },
    {
     "data": {
      "text/plain": [
       "<Figure size 600x600 with 0 Axes>"
      ]
     },
     "metadata": {},
     "output_type": "display_data"
    },
    {
     "data": {
      "text/plain": [
       "<Figure size 1800x900 with 0 Axes>"
      ]
     },
     "metadata": {},
     "output_type": "display_data"
    },
    {
     "data": {
      "text/plain": [
       "<Figure size 600x600 with 0 Axes>"
      ]
     },
     "metadata": {},
     "output_type": "display_data"
    },
    {
     "data": {
      "text/plain": [
       "<Figure size 1800x900 with 0 Axes>"
      ]
     },
     "metadata": {},
     "output_type": "display_data"
    },
    {
     "data": {
      "text/plain": [
       "<Figure size 600x600 with 0 Axes>"
      ]
     },
     "metadata": {},
     "output_type": "display_data"
    },
    {
     "data": {
      "text/plain": [
       "<Figure size 1800x900 with 0 Axes>"
      ]
     },
     "metadata": {},
     "output_type": "display_data"
    },
    {
     "data": {
      "text/plain": [
       "<Figure size 600x600 with 0 Axes>"
      ]
     },
     "metadata": {},
     "output_type": "display_data"
    },
    {
     "data": {
      "text/plain": [
       "<Figure size 1800x900 with 0 Axes>"
      ]
     },
     "metadata": {},
     "output_type": "display_data"
    },
    {
     "data": {
      "text/plain": [
       "<Figure size 600x600 with 0 Axes>"
      ]
     },
     "metadata": {},
     "output_type": "display_data"
    },
    {
     "data": {
      "text/plain": [
       "<Figure size 1800x900 with 0 Axes>"
      ]
     },
     "metadata": {},
     "output_type": "display_data"
    },
    {
     "data": {
      "text/plain": [
       "<Figure size 600x600 with 0 Axes>"
      ]
     },
     "metadata": {},
     "output_type": "display_data"
    },
    {
     "data": {
      "text/plain": [
       "<Figure size 1800x900 with 0 Axes>"
      ]
     },
     "metadata": {},
     "output_type": "display_data"
    },
    {
     "data": {
      "text/plain": [
       "<Figure size 600x600 with 0 Axes>"
      ]
     },
     "metadata": {},
     "output_type": "display_data"
    },
    {
     "data": {
      "text/plain": [
       "<Figure size 1800x900 with 0 Axes>"
      ]
     },
     "metadata": {},
     "output_type": "display_data"
    },
    {
     "data": {
      "text/plain": [
       "<Figure size 600x600 with 0 Axes>"
      ]
     },
     "metadata": {},
     "output_type": "display_data"
    },
    {
     "data": {
      "text/plain": [
       "<Figure size 1800x900 with 0 Axes>"
      ]
     },
     "metadata": {},
     "output_type": "display_data"
    },
    {
     "data": {
      "text/plain": [
       "<Figure size 600x600 with 0 Axes>"
      ]
     },
     "metadata": {},
     "output_type": "display_data"
    },
    {
     "data": {
      "text/plain": [
       "<Figure size 1800x900 with 0 Axes>"
      ]
     },
     "metadata": {},
     "output_type": "display_data"
    },
    {
     "data": {
      "text/plain": [
       "<Figure size 600x600 with 0 Axes>"
      ]
     },
     "metadata": {},
     "output_type": "display_data"
    },
    {
     "data": {
      "text/plain": [
       "<Figure size 1800x900 with 0 Axes>"
      ]
     },
     "metadata": {},
     "output_type": "display_data"
    },
    {
     "data": {
      "text/plain": [
       "<Figure size 600x600 with 0 Axes>"
      ]
     },
     "metadata": {},
     "output_type": "display_data"
    },
    {
     "data": {
      "text/plain": [
       "<Figure size 1800x900 with 0 Axes>"
      ]
     },
     "metadata": {},
     "output_type": "display_data"
    },
    {
     "data": {
      "text/plain": [
       "<Figure size 600x600 with 0 Axes>"
      ]
     },
     "metadata": {},
     "output_type": "display_data"
    },
    {
     "data": {
      "text/plain": [
       "<Figure size 1800x900 with 0 Axes>"
      ]
     },
     "metadata": {},
     "output_type": "display_data"
    },
    {
     "data": {
      "text/plain": [
       "<Figure size 600x600 with 0 Axes>"
      ]
     },
     "metadata": {},
     "output_type": "display_data"
    },
    {
     "data": {
      "text/plain": [
       "<Figure size 1800x900 with 0 Axes>"
      ]
     },
     "metadata": {},
     "output_type": "display_data"
    },
    {
     "data": {
      "text/plain": [
       "<Figure size 600x600 with 0 Axes>"
      ]
     },
     "metadata": {},
     "output_type": "display_data"
    },
    {
     "data": {
      "text/plain": [
       "<Figure size 1800x900 with 0 Axes>"
      ]
     },
     "metadata": {},
     "output_type": "display_data"
    },
    {
     "data": {
      "text/plain": [
       "<Figure size 600x600 with 0 Axes>"
      ]
     },
     "metadata": {},
     "output_type": "display_data"
    },
    {
     "data": {
      "text/plain": [
       "<Figure size 1800x900 with 0 Axes>"
      ]
     },
     "metadata": {},
     "output_type": "display_data"
    },
    {
     "data": {
      "text/plain": [
       "<Figure size 600x600 with 0 Axes>"
      ]
     },
     "metadata": {},
     "output_type": "display_data"
    },
    {
     "data": {
      "text/plain": [
       "<Figure size 1800x900 with 0 Axes>"
      ]
     },
     "metadata": {},
     "output_type": "display_data"
    },
    {
     "data": {
      "text/plain": [
       "<Figure size 600x600 with 0 Axes>"
      ]
     },
     "metadata": {},
     "output_type": "display_data"
    },
    {
     "data": {
      "text/plain": [
       "<Figure size 1800x900 with 0 Axes>"
      ]
     },
     "metadata": {},
     "output_type": "display_data"
    },
    {
     "data": {
      "text/plain": [
       "<Figure size 600x600 with 0 Axes>"
      ]
     },
     "metadata": {},
     "output_type": "display_data"
    },
    {
     "data": {
      "text/plain": [
       "<Figure size 1800x900 with 0 Axes>"
      ]
     },
     "metadata": {},
     "output_type": "display_data"
    },
    {
     "data": {
      "text/plain": [
       "<Figure size 600x600 with 0 Axes>"
      ]
     },
     "metadata": {},
     "output_type": "display_data"
    },
    {
     "data": {
      "text/plain": [
       "<Figure size 1800x900 with 0 Axes>"
      ]
     },
     "metadata": {},
     "output_type": "display_data"
    },
    {
     "data": {
      "text/plain": [
       "<Figure size 600x600 with 0 Axes>"
      ]
     },
     "metadata": {},
     "output_type": "display_data"
    },
    {
     "data": {
      "text/plain": [
       "<Figure size 1800x900 with 0 Axes>"
      ]
     },
     "metadata": {},
     "output_type": "display_data"
    },
    {
     "data": {
      "text/plain": [
       "<Figure size 600x600 with 0 Axes>"
      ]
     },
     "metadata": {},
     "output_type": "display_data"
    },
    {
     "data": {
      "text/plain": [
       "<Figure size 1800x900 with 0 Axes>"
      ]
     },
     "metadata": {},
     "output_type": "display_data"
    },
    {
     "data": {
      "text/plain": [
       "<Figure size 600x600 with 0 Axes>"
      ]
     },
     "metadata": {},
     "output_type": "display_data"
    },
    {
     "data": {
      "text/plain": [
       "<Figure size 1800x900 with 0 Axes>"
      ]
     },
     "metadata": {},
     "output_type": "display_data"
    },
    {
     "data": {
      "text/plain": [
       "<Figure size 600x600 with 0 Axes>"
      ]
     },
     "metadata": {},
     "output_type": "display_data"
    },
    {
     "data": {
      "text/plain": [
       "<Figure size 1800x900 with 0 Axes>"
      ]
     },
     "metadata": {},
     "output_type": "display_data"
    },
    {
     "data": {
      "text/plain": [
       "<Figure size 600x600 with 0 Axes>"
      ]
     },
     "metadata": {},
     "output_type": "display_data"
    },
    {
     "data": {
      "text/plain": [
       "<Figure size 1800x900 with 0 Axes>"
      ]
     },
     "metadata": {},
     "output_type": "display_data"
    },
    {
     "data": {
      "text/plain": [
       "<Figure size 600x600 with 0 Axes>"
      ]
     },
     "metadata": {},
     "output_type": "display_data"
    },
    {
     "data": {
      "text/plain": [
       "<Figure size 1800x900 with 0 Axes>"
      ]
     },
     "metadata": {},
     "output_type": "display_data"
    },
    {
     "data": {
      "text/plain": [
       "<Figure size 600x600 with 0 Axes>"
      ]
     },
     "metadata": {},
     "output_type": "display_data"
    },
    {
     "data": {
      "text/plain": [
       "<Figure size 1800x900 with 0 Axes>"
      ]
     },
     "metadata": {},
     "output_type": "display_data"
    },
    {
     "data": {
      "text/plain": [
       "<Figure size 600x600 with 0 Axes>"
      ]
     },
     "metadata": {},
     "output_type": "display_data"
    },
    {
     "data": {
      "text/plain": [
       "<Figure size 1800x900 with 0 Axes>"
      ]
     },
     "metadata": {},
     "output_type": "display_data"
    },
    {
     "data": {
      "text/plain": [
       "<Figure size 600x600 with 0 Axes>"
      ]
     },
     "metadata": {},
     "output_type": "display_data"
    },
    {
     "data": {
      "text/plain": [
       "<Figure size 1800x900 with 0 Axes>"
      ]
     },
     "metadata": {},
     "output_type": "display_data"
    },
    {
     "data": {
      "text/plain": [
       "<Figure size 600x600 with 0 Axes>"
      ]
     },
     "metadata": {},
     "output_type": "display_data"
    },
    {
     "data": {
      "text/plain": [
       "<Figure size 1800x900 with 0 Axes>"
      ]
     },
     "metadata": {},
     "output_type": "display_data"
    },
    {
     "data": {
      "text/plain": [
       "<Figure size 600x600 with 0 Axes>"
      ]
     },
     "metadata": {},
     "output_type": "display_data"
    },
    {
     "data": {
      "text/plain": [
       "<Figure size 1800x900 with 0 Axes>"
      ]
     },
     "metadata": {},
     "output_type": "display_data"
    },
    {
     "data": {
      "text/plain": [
       "<Figure size 600x600 with 0 Axes>"
      ]
     },
     "metadata": {},
     "output_type": "display_data"
    },
    {
     "data": {
      "text/plain": [
       "<Figure size 1800x900 with 0 Axes>"
      ]
     },
     "metadata": {},
     "output_type": "display_data"
    },
    {
     "data": {
      "text/plain": [
       "<Figure size 600x600 with 0 Axes>"
      ]
     },
     "metadata": {},
     "output_type": "display_data"
    },
    {
     "data": {
      "text/plain": [
       "<Figure size 1800x900 with 0 Axes>"
      ]
     },
     "metadata": {},
     "output_type": "display_data"
    },
    {
     "data": {
      "text/plain": [
       "<Figure size 600x600 with 0 Axes>"
      ]
     },
     "metadata": {},
     "output_type": "display_data"
    },
    {
     "data": {
      "text/plain": [
       "<Figure size 1800x900 with 0 Axes>"
      ]
     },
     "metadata": {},
     "output_type": "display_data"
    },
    {
     "data": {
      "text/plain": [
       "<Figure size 600x600 with 0 Axes>"
      ]
     },
     "metadata": {},
     "output_type": "display_data"
    },
    {
     "data": {
      "text/plain": [
       "<Figure size 1800x900 with 0 Axes>"
      ]
     },
     "metadata": {},
     "output_type": "display_data"
    },
    {
     "data": {
      "text/plain": [
       "<Figure size 600x600 with 0 Axes>"
      ]
     },
     "metadata": {},
     "output_type": "display_data"
    },
    {
     "data": {
      "text/plain": [
       "<Figure size 1800x900 with 0 Axes>"
      ]
     },
     "metadata": {},
     "output_type": "display_data"
    },
    {
     "data": {
      "text/plain": [
       "<Figure size 600x600 with 0 Axes>"
      ]
     },
     "metadata": {},
     "output_type": "display_data"
    },
    {
     "data": {
      "text/plain": [
       "<Figure size 1800x900 with 0 Axes>"
      ]
     },
     "metadata": {},
     "output_type": "display_data"
    },
    {
     "data": {
      "text/plain": [
       "<Figure size 600x600 with 0 Axes>"
      ]
     },
     "metadata": {},
     "output_type": "display_data"
    },
    {
     "data": {
      "text/plain": [
       "<Figure size 1800x900 with 0 Axes>"
      ]
     },
     "metadata": {},
     "output_type": "display_data"
    },
    {
     "data": {
      "text/plain": [
       "<Figure size 600x600 with 0 Axes>"
      ]
     },
     "metadata": {},
     "output_type": "display_data"
    },
    {
     "data": {
      "text/plain": [
       "<Figure size 1800x900 with 0 Axes>"
      ]
     },
     "metadata": {},
     "output_type": "display_data"
    },
    {
     "data": {
      "text/plain": [
       "<Figure size 600x600 with 0 Axes>"
      ]
     },
     "metadata": {},
     "output_type": "display_data"
    },
    {
     "data": {
      "text/plain": [
       "<Figure size 1800x900 with 0 Axes>"
      ]
     },
     "metadata": {},
     "output_type": "display_data"
    },
    {
     "data": {
      "text/plain": [
       "<Figure size 600x600 with 0 Axes>"
      ]
     },
     "metadata": {},
     "output_type": "display_data"
    },
    {
     "data": {
      "text/plain": [
       "<Figure size 1800x900 with 0 Axes>"
      ]
     },
     "metadata": {},
     "output_type": "display_data"
    },
    {
     "data": {
      "text/plain": [
       "<Figure size 600x600 with 0 Axes>"
      ]
     },
     "metadata": {},
     "output_type": "display_data"
    },
    {
     "data": {
      "text/plain": [
       "<Figure size 1800x900 with 0 Axes>"
      ]
     },
     "metadata": {},
     "output_type": "display_data"
    },
    {
     "data": {
      "text/plain": [
       "<Figure size 600x600 with 0 Axes>"
      ]
     },
     "metadata": {},
     "output_type": "display_data"
    },
    {
     "data": {
      "text/plain": [
       "<Figure size 1800x900 with 0 Axes>"
      ]
     },
     "metadata": {},
     "output_type": "display_data"
    },
    {
     "data": {
      "text/plain": [
       "<Figure size 600x600 with 0 Axes>"
      ]
     },
     "metadata": {},
     "output_type": "display_data"
    },
    {
     "data": {
      "text/plain": [
       "<Figure size 1800x900 with 0 Axes>"
      ]
     },
     "metadata": {},
     "output_type": "display_data"
    },
    {
     "data": {
      "text/plain": [
       "<Figure size 600x600 with 0 Axes>"
      ]
     },
     "metadata": {},
     "output_type": "display_data"
    },
    {
     "data": {
      "text/plain": [
       "<Figure size 1800x900 with 0 Axes>"
      ]
     },
     "metadata": {},
     "output_type": "display_data"
    },
    {
     "data": {
      "text/plain": [
       "<Figure size 600x600 with 0 Axes>"
      ]
     },
     "metadata": {},
     "output_type": "display_data"
    },
    {
     "data": {
      "text/plain": [
       "<Figure size 1800x900 with 0 Axes>"
      ]
     },
     "metadata": {},
     "output_type": "display_data"
    },
    {
     "data": {
      "text/plain": [
       "<Figure size 600x600 with 0 Axes>"
      ]
     },
     "metadata": {},
     "output_type": "display_data"
    },
    {
     "data": {
      "text/plain": [
       "<Figure size 1800x900 with 0 Axes>"
      ]
     },
     "metadata": {},
     "output_type": "display_data"
    },
    {
     "data": {
      "text/plain": [
       "<Figure size 600x600 with 0 Axes>"
      ]
     },
     "metadata": {},
     "output_type": "display_data"
    },
    {
     "data": {
      "text/plain": [
       "<Figure size 1800x900 with 0 Axes>"
      ]
     },
     "metadata": {},
     "output_type": "display_data"
    },
    {
     "data": {
      "text/plain": [
       "<Figure size 600x600 with 0 Axes>"
      ]
     },
     "metadata": {},
     "output_type": "display_data"
    },
    {
     "data": {
      "text/plain": [
       "<Figure size 1800x900 with 0 Axes>"
      ]
     },
     "metadata": {},
     "output_type": "display_data"
    },
    {
     "data": {
      "text/plain": [
       "<Figure size 600x600 with 0 Axes>"
      ]
     },
     "metadata": {},
     "output_type": "display_data"
    },
    {
     "data": {
      "text/plain": [
       "<Figure size 1800x900 with 0 Axes>"
      ]
     },
     "metadata": {},
     "output_type": "display_data"
    },
    {
     "data": {
      "text/plain": [
       "<Figure size 600x600 with 0 Axes>"
      ]
     },
     "metadata": {},
     "output_type": "display_data"
    },
    {
     "data": {
      "text/plain": [
       "<Figure size 1800x900 with 0 Axes>"
      ]
     },
     "metadata": {},
     "output_type": "display_data"
    },
    {
     "data": {
      "text/plain": [
       "<Figure size 600x600 with 0 Axes>"
      ]
     },
     "metadata": {},
     "output_type": "display_data"
    },
    {
     "data": {
      "text/plain": [
       "<Figure size 1800x900 with 0 Axes>"
      ]
     },
     "metadata": {},
     "output_type": "display_data"
    },
    {
     "data": {
      "text/plain": [
       "<Figure size 600x600 with 0 Axes>"
      ]
     },
     "metadata": {},
     "output_type": "display_data"
    },
    {
     "data": {
      "text/plain": [
       "<Figure size 1800x900 with 0 Axes>"
      ]
     },
     "metadata": {},
     "output_type": "display_data"
    },
    {
     "data": {
      "text/plain": [
       "<Figure size 600x600 with 0 Axes>"
      ]
     },
     "metadata": {},
     "output_type": "display_data"
    },
    {
     "data": {
      "text/plain": [
       "<Figure size 1800x900 with 0 Axes>"
      ]
     },
     "metadata": {},
     "output_type": "display_data"
    },
    {
     "data": {
      "text/plain": [
       "<Figure size 600x600 with 0 Axes>"
      ]
     },
     "metadata": {},
     "output_type": "display_data"
    },
    {
     "data": {
      "text/plain": [
       "<Figure size 1800x900 with 0 Axes>"
      ]
     },
     "metadata": {},
     "output_type": "display_data"
    },
    {
     "data": {
      "text/plain": [
       "<Figure size 600x600 with 0 Axes>"
      ]
     },
     "metadata": {},
     "output_type": "display_data"
    },
    {
     "data": {
      "text/plain": [
       "<Figure size 1800x900 with 0 Axes>"
      ]
     },
     "metadata": {},
     "output_type": "display_data"
    },
    {
     "data": {
      "text/plain": [
       "<Figure size 600x600 with 0 Axes>"
      ]
     },
     "metadata": {},
     "output_type": "display_data"
    },
    {
     "data": {
      "text/plain": [
       "<Figure size 1800x900 with 0 Axes>"
      ]
     },
     "metadata": {},
     "output_type": "display_data"
    },
    {
     "data": {
      "text/plain": [
       "<Figure size 600x600 with 0 Axes>"
      ]
     },
     "metadata": {},
     "output_type": "display_data"
    },
    {
     "data": {
      "text/plain": [
       "<Figure size 1800x900 with 0 Axes>"
      ]
     },
     "metadata": {},
     "output_type": "display_data"
    },
    {
     "data": {
      "text/plain": [
       "<Figure size 600x600 with 0 Axes>"
      ]
     },
     "metadata": {},
     "output_type": "display_data"
    },
    {
     "data": {
      "text/plain": [
       "<Figure size 1800x900 with 0 Axes>"
      ]
     },
     "metadata": {},
     "output_type": "display_data"
    },
    {
     "data": {
      "text/plain": [
       "<Figure size 600x600 with 0 Axes>"
      ]
     },
     "metadata": {},
     "output_type": "display_data"
    },
    {
     "data": {
      "text/plain": [
       "<Figure size 1800x900 with 0 Axes>"
      ]
     },
     "metadata": {},
     "output_type": "display_data"
    },
    {
     "data": {
      "text/plain": [
       "<Figure size 600x600 with 0 Axes>"
      ]
     },
     "metadata": {},
     "output_type": "display_data"
    },
    {
     "data": {
      "text/plain": [
       "<Figure size 1800x900 with 0 Axes>"
      ]
     },
     "metadata": {},
     "output_type": "display_data"
    },
    {
     "data": {
      "text/plain": [
       "<Figure size 600x600 with 0 Axes>"
      ]
     },
     "metadata": {},
     "output_type": "display_data"
    },
    {
     "data": {
      "text/plain": [
       "<Figure size 1800x900 with 0 Axes>"
      ]
     },
     "metadata": {},
     "output_type": "display_data"
    },
    {
     "data": {
      "text/plain": [
       "<Figure size 600x600 with 0 Axes>"
      ]
     },
     "metadata": {},
     "output_type": "display_data"
    },
    {
     "data": {
      "text/plain": [
       "<Figure size 1800x900 with 0 Axes>"
      ]
     },
     "metadata": {},
     "output_type": "display_data"
    },
    {
     "data": {
      "text/plain": [
       "<Figure size 600x600 with 0 Axes>"
      ]
     },
     "metadata": {},
     "output_type": "display_data"
    },
    {
     "data": {
      "text/plain": [
       "<Figure size 1800x900 with 0 Axes>"
      ]
     },
     "metadata": {},
     "output_type": "display_data"
    },
    {
     "data": {
      "text/plain": [
       "<Figure size 600x600 with 0 Axes>"
      ]
     },
     "metadata": {},
     "output_type": "display_data"
    },
    {
     "data": {
      "text/plain": [
       "<Figure size 1800x900 with 0 Axes>"
      ]
     },
     "metadata": {},
     "output_type": "display_data"
    },
    {
     "data": {
      "text/plain": [
       "<Figure size 600x600 with 0 Axes>"
      ]
     },
     "metadata": {},
     "output_type": "display_data"
    },
    {
     "data": {
      "text/plain": [
       "<Figure size 1800x900 with 0 Axes>"
      ]
     },
     "metadata": {},
     "output_type": "display_data"
    },
    {
     "data": {
      "text/plain": [
       "<Figure size 600x600 with 0 Axes>"
      ]
     },
     "metadata": {},
     "output_type": "display_data"
    },
    {
     "data": {
      "text/plain": [
       "<Figure size 1800x900 with 0 Axes>"
      ]
     },
     "metadata": {},
     "output_type": "display_data"
    },
    {
     "data": {
      "text/plain": [
       "<Figure size 600x600 with 0 Axes>"
      ]
     },
     "metadata": {},
     "output_type": "display_data"
    },
    {
     "data": {
      "text/plain": [
       "<Figure size 1800x900 with 0 Axes>"
      ]
     },
     "metadata": {},
     "output_type": "display_data"
    },
    {
     "data": {
      "text/plain": [
       "<Figure size 600x600 with 0 Axes>"
      ]
     },
     "metadata": {},
     "output_type": "display_data"
    },
    {
     "data": {
      "text/plain": [
       "<Figure size 1800x900 with 0 Axes>"
      ]
     },
     "metadata": {},
     "output_type": "display_data"
    },
    {
     "data": {
      "text/plain": [
       "<Figure size 600x600 with 0 Axes>"
      ]
     },
     "metadata": {},
     "output_type": "display_data"
    },
    {
     "data": {
      "text/plain": [
       "<Figure size 1800x900 with 0 Axes>"
      ]
     },
     "metadata": {},
     "output_type": "display_data"
    },
    {
     "data": {
      "text/plain": [
       "<Figure size 600x600 with 0 Axes>"
      ]
     },
     "metadata": {},
     "output_type": "display_data"
    },
    {
     "data": {
      "text/plain": [
       "<Figure size 1800x900 with 0 Axes>"
      ]
     },
     "metadata": {},
     "output_type": "display_data"
    },
    {
     "data": {
      "text/plain": [
       "<Figure size 600x600 with 0 Axes>"
      ]
     },
     "metadata": {},
     "output_type": "display_data"
    },
    {
     "data": {
      "text/plain": [
       "<Figure size 1800x900 with 0 Axes>"
      ]
     },
     "metadata": {},
     "output_type": "display_data"
    },
    {
     "data": {
      "text/plain": [
       "<Figure size 600x600 with 0 Axes>"
      ]
     },
     "metadata": {},
     "output_type": "display_data"
    },
    {
     "data": {
      "text/plain": [
       "<Figure size 1800x900 with 0 Axes>"
      ]
     },
     "metadata": {},
     "output_type": "display_data"
    },
    {
     "data": {
      "text/plain": [
       "<Figure size 600x600 with 0 Axes>"
      ]
     },
     "metadata": {},
     "output_type": "display_data"
    },
    {
     "data": {
      "text/plain": [
       "<Figure size 1800x900 with 0 Axes>"
      ]
     },
     "metadata": {},
     "output_type": "display_data"
    },
    {
     "data": {
      "text/plain": [
       "<Figure size 600x600 with 0 Axes>"
      ]
     },
     "metadata": {},
     "output_type": "display_data"
    },
    {
     "data": {
      "text/plain": [
       "<Figure size 1800x900 with 0 Axes>"
      ]
     },
     "metadata": {},
     "output_type": "display_data"
    },
    {
     "data": {
      "text/plain": [
       "<Figure size 600x600 with 0 Axes>"
      ]
     },
     "metadata": {},
     "output_type": "display_data"
    },
    {
     "data": {
      "text/plain": [
       "<Figure size 1800x900 with 0 Axes>"
      ]
     },
     "metadata": {},
     "output_type": "display_data"
    },
    {
     "data": {
      "text/plain": [
       "<Figure size 600x600 with 0 Axes>"
      ]
     },
     "metadata": {},
     "output_type": "display_data"
    },
    {
     "data": {
      "text/plain": [
       "<Figure size 1800x900 with 0 Axes>"
      ]
     },
     "metadata": {},
     "output_type": "display_data"
    },
    {
     "data": {
      "text/plain": [
       "<Figure size 600x600 with 0 Axes>"
      ]
     },
     "metadata": {},
     "output_type": "display_data"
    },
    {
     "data": {
      "text/plain": [
       "<Figure size 1800x900 with 0 Axes>"
      ]
     },
     "metadata": {},
     "output_type": "display_data"
    },
    {
     "data": {
      "text/plain": [
       "<Figure size 600x600 with 0 Axes>"
      ]
     },
     "metadata": {},
     "output_type": "display_data"
    },
    {
     "data": {
      "text/plain": [
       "<Figure size 1800x900 with 0 Axes>"
      ]
     },
     "metadata": {},
     "output_type": "display_data"
    },
    {
     "data": {
      "text/plain": [
       "<Figure size 600x600 with 0 Axes>"
      ]
     },
     "metadata": {},
     "output_type": "display_data"
    },
    {
     "data": {
      "text/plain": [
       "<Figure size 1800x900 with 0 Axes>"
      ]
     },
     "metadata": {},
     "output_type": "display_data"
    },
    {
     "data": {
      "text/plain": [
       "<Figure size 600x600 with 0 Axes>"
      ]
     },
     "metadata": {},
     "output_type": "display_data"
    },
    {
     "data": {
      "text/plain": [
       "<Figure size 1800x900 with 0 Axes>"
      ]
     },
     "metadata": {},
     "output_type": "display_data"
    },
    {
     "data": {
      "text/plain": [
       "<Figure size 600x600 with 0 Axes>"
      ]
     },
     "metadata": {},
     "output_type": "display_data"
    },
    {
     "data": {
      "text/plain": [
       "<Figure size 1800x900 with 0 Axes>"
      ]
     },
     "metadata": {},
     "output_type": "display_data"
    },
    {
     "data": {
      "text/plain": [
       "<Figure size 600x600 with 0 Axes>"
      ]
     },
     "metadata": {},
     "output_type": "display_data"
    },
    {
     "data": {
      "text/plain": [
       "<Figure size 1800x900 with 0 Axes>"
      ]
     },
     "metadata": {},
     "output_type": "display_data"
    },
    {
     "data": {
      "text/plain": [
       "<Figure size 600x600 with 0 Axes>"
      ]
     },
     "metadata": {},
     "output_type": "display_data"
    },
    {
     "data": {
      "text/plain": [
       "<Figure size 1800x900 with 0 Axes>"
      ]
     },
     "metadata": {},
     "output_type": "display_data"
    },
    {
     "data": {
      "text/plain": [
       "<Figure size 600x600 with 0 Axes>"
      ]
     },
     "metadata": {},
     "output_type": "display_data"
    },
    {
     "data": {
      "text/plain": [
       "<Figure size 1800x900 with 0 Axes>"
      ]
     },
     "metadata": {},
     "output_type": "display_data"
    },
    {
     "data": {
      "text/plain": [
       "<Figure size 600x600 with 0 Axes>"
      ]
     },
     "metadata": {},
     "output_type": "display_data"
    },
    {
     "data": {
      "text/plain": [
       "<Figure size 1800x900 with 0 Axes>"
      ]
     },
     "metadata": {},
     "output_type": "display_data"
    },
    {
     "data": {
      "text/plain": [
       "<Figure size 600x600 with 0 Axes>"
      ]
     },
     "metadata": {},
     "output_type": "display_data"
    },
    {
     "data": {
      "text/plain": [
       "<Figure size 1800x900 with 0 Axes>"
      ]
     },
     "metadata": {},
     "output_type": "display_data"
    },
    {
     "data": {
      "text/plain": [
       "<Figure size 600x600 with 0 Axes>"
      ]
     },
     "metadata": {},
     "output_type": "display_data"
    },
    {
     "data": {
      "text/plain": [
       "<Figure size 1800x900 with 0 Axes>"
      ]
     },
     "metadata": {},
     "output_type": "display_data"
    },
    {
     "data": {
      "text/plain": [
       "<Figure size 600x600 with 0 Axes>"
      ]
     },
     "metadata": {},
     "output_type": "display_data"
    },
    {
     "data": {
      "text/plain": [
       "<Figure size 1800x900 with 0 Axes>"
      ]
     },
     "metadata": {},
     "output_type": "display_data"
    },
    {
     "data": {
      "text/plain": [
       "<Figure size 600x600 with 0 Axes>"
      ]
     },
     "metadata": {},
     "output_type": "display_data"
    },
    {
     "data": {
      "text/plain": [
       "<Figure size 1800x900 with 0 Axes>"
      ]
     },
     "metadata": {},
     "output_type": "display_data"
    },
    {
     "data": {
      "text/plain": [
       "<Figure size 600x600 with 0 Axes>"
      ]
     },
     "metadata": {},
     "output_type": "display_data"
    },
    {
     "data": {
      "text/plain": [
       "<Figure size 1800x900 with 0 Axes>"
      ]
     },
     "metadata": {},
     "output_type": "display_data"
    },
    {
     "data": {
      "text/plain": [
       "<Figure size 600x600 with 0 Axes>"
      ]
     },
     "metadata": {},
     "output_type": "display_data"
    },
    {
     "data": {
      "text/plain": [
       "<Figure size 1800x900 with 0 Axes>"
      ]
     },
     "metadata": {},
     "output_type": "display_data"
    },
    {
     "data": {
      "text/plain": [
       "<Figure size 600x600 with 0 Axes>"
      ]
     },
     "metadata": {},
     "output_type": "display_data"
    },
    {
     "data": {
      "text/plain": [
       "<Figure size 1800x900 with 0 Axes>"
      ]
     },
     "metadata": {},
     "output_type": "display_data"
    },
    {
     "data": {
      "text/plain": [
       "<Figure size 600x600 with 0 Axes>"
      ]
     },
     "metadata": {},
     "output_type": "display_data"
    },
    {
     "data": {
      "text/plain": [
       "<Figure size 1800x900 with 0 Axes>"
      ]
     },
     "metadata": {},
     "output_type": "display_data"
    },
    {
     "data": {
      "text/plain": [
       "<Figure size 600x600 with 0 Axes>"
      ]
     },
     "metadata": {},
     "output_type": "display_data"
    },
    {
     "data": {
      "text/plain": [
       "<Figure size 1800x900 with 0 Axes>"
      ]
     },
     "metadata": {},
     "output_type": "display_data"
    },
    {
     "data": {
      "text/plain": [
       "<Figure size 600x600 with 0 Axes>"
      ]
     },
     "metadata": {},
     "output_type": "display_data"
    },
    {
     "data": {
      "text/plain": [
       "<Figure size 1800x900 with 0 Axes>"
      ]
     },
     "metadata": {},
     "output_type": "display_data"
    },
    {
     "data": {
      "text/plain": [
       "<Figure size 600x600 with 0 Axes>"
      ]
     },
     "metadata": {},
     "output_type": "display_data"
    },
    {
     "data": {
      "text/plain": [
       "<Figure size 1800x900 with 0 Axes>"
      ]
     },
     "metadata": {},
     "output_type": "display_data"
    },
    {
     "data": {
      "text/plain": [
       "<Figure size 600x600 with 0 Axes>"
      ]
     },
     "metadata": {},
     "output_type": "display_data"
    },
    {
     "data": {
      "text/plain": [
       "<Figure size 1800x900 with 0 Axes>"
      ]
     },
     "metadata": {},
     "output_type": "display_data"
    },
    {
     "data": {
      "text/plain": [
       "<Figure size 600x600 with 0 Axes>"
      ]
     },
     "metadata": {},
     "output_type": "display_data"
    },
    {
     "data": {
      "text/plain": [
       "<Figure size 1800x900 with 0 Axes>"
      ]
     },
     "metadata": {},
     "output_type": "display_data"
    },
    {
     "data": {
      "text/plain": [
       "<Figure size 600x600 with 0 Axes>"
      ]
     },
     "metadata": {},
     "output_type": "display_data"
    },
    {
     "data": {
      "text/plain": [
       "<Figure size 1800x900 with 0 Axes>"
      ]
     },
     "metadata": {},
     "output_type": "display_data"
    },
    {
     "data": {
      "text/plain": [
       "<Figure size 600x600 with 0 Axes>"
      ]
     },
     "metadata": {},
     "output_type": "display_data"
    },
    {
     "data": {
      "text/plain": [
       "<Figure size 1800x900 with 0 Axes>"
      ]
     },
     "metadata": {},
     "output_type": "display_data"
    },
    {
     "data": {
      "text/plain": [
       "<Figure size 600x600 with 0 Axes>"
      ]
     },
     "metadata": {},
     "output_type": "display_data"
    },
    {
     "data": {
      "text/plain": [
       "<Figure size 1800x900 with 0 Axes>"
      ]
     },
     "metadata": {},
     "output_type": "display_data"
    },
    {
     "data": {
      "text/plain": [
       "<Figure size 600x600 with 0 Axes>"
      ]
     },
     "metadata": {},
     "output_type": "display_data"
    },
    {
     "data": {
      "text/plain": [
       "<Figure size 1800x900 with 0 Axes>"
      ]
     },
     "metadata": {},
     "output_type": "display_data"
    },
    {
     "data": {
      "text/plain": [
       "<Figure size 600x600 with 0 Axes>"
      ]
     },
     "metadata": {},
     "output_type": "display_data"
    },
    {
     "data": {
      "text/plain": [
       "<Figure size 1800x900 with 0 Axes>"
      ]
     },
     "metadata": {},
     "output_type": "display_data"
    },
    {
     "data": {
      "text/plain": [
       "<Figure size 600x600 with 0 Axes>"
      ]
     },
     "metadata": {},
     "output_type": "display_data"
    },
    {
     "data": {
      "text/plain": [
       "<Figure size 1800x900 with 0 Axes>"
      ]
     },
     "metadata": {},
     "output_type": "display_data"
    },
    {
     "data": {
      "text/plain": [
       "<Figure size 600x600 with 0 Axes>"
      ]
     },
     "metadata": {},
     "output_type": "display_data"
    },
    {
     "data": {
      "text/plain": [
       "<Figure size 1800x900 with 0 Axes>"
      ]
     },
     "metadata": {},
     "output_type": "display_data"
    },
    {
     "data": {
      "text/plain": [
       "<Figure size 600x600 with 0 Axes>"
      ]
     },
     "metadata": {},
     "output_type": "display_data"
    },
    {
     "data": {
      "text/plain": [
       "<Figure size 1800x900 with 0 Axes>"
      ]
     },
     "metadata": {},
     "output_type": "display_data"
    },
    {
     "data": {
      "text/plain": [
       "<Figure size 600x600 with 0 Axes>"
      ]
     },
     "metadata": {},
     "output_type": "display_data"
    },
    {
     "data": {
      "text/plain": [
       "<Figure size 1800x900 with 0 Axes>"
      ]
     },
     "metadata": {},
     "output_type": "display_data"
    },
    {
     "data": {
      "text/plain": [
       "<Figure size 600x600 with 0 Axes>"
      ]
     },
     "metadata": {},
     "output_type": "display_data"
    },
    {
     "data": {
      "text/plain": [
       "<Figure size 1800x900 with 0 Axes>"
      ]
     },
     "metadata": {},
     "output_type": "display_data"
    },
    {
     "data": {
      "text/plain": [
       "<Figure size 600x600 with 0 Axes>"
      ]
     },
     "metadata": {},
     "output_type": "display_data"
    },
    {
     "data": {
      "text/plain": [
       "<Figure size 1800x900 with 0 Axes>"
      ]
     },
     "metadata": {},
     "output_type": "display_data"
    },
    {
     "data": {
      "text/plain": [
       "<Figure size 600x600 with 0 Axes>"
      ]
     },
     "metadata": {},
     "output_type": "display_data"
    },
    {
     "data": {
      "text/plain": [
       "<Figure size 1800x900 with 0 Axes>"
      ]
     },
     "metadata": {},
     "output_type": "display_data"
    },
    {
     "data": {
      "text/plain": [
       "<Figure size 600x600 with 0 Axes>"
      ]
     },
     "metadata": {},
     "output_type": "display_data"
    },
    {
     "data": {
      "text/plain": [
       "<Figure size 1800x900 with 0 Axes>"
      ]
     },
     "metadata": {},
     "output_type": "display_data"
    },
    {
     "data": {
      "text/plain": [
       "<Figure size 600x600 with 0 Axes>"
      ]
     },
     "metadata": {},
     "output_type": "display_data"
    },
    {
     "data": {
      "text/plain": [
       "<Figure size 1800x900 with 0 Axes>"
      ]
     },
     "metadata": {},
     "output_type": "display_data"
    },
    {
     "data": {
      "text/plain": [
       "<Figure size 600x600 with 0 Axes>"
      ]
     },
     "metadata": {},
     "output_type": "display_data"
    },
    {
     "data": {
      "text/plain": [
       "<Figure size 1800x900 with 0 Axes>"
      ]
     },
     "metadata": {},
     "output_type": "display_data"
    },
    {
     "data": {
      "text/plain": [
       "<Figure size 600x600 with 0 Axes>"
      ]
     },
     "metadata": {},
     "output_type": "display_data"
    },
    {
     "data": {
      "text/plain": [
       "<Figure size 1800x900 with 0 Axes>"
      ]
     },
     "metadata": {},
     "output_type": "display_data"
    },
    {
     "data": {
      "text/plain": [
       "<Figure size 600x600 with 0 Axes>"
      ]
     },
     "metadata": {},
     "output_type": "display_data"
    },
    {
     "data": {
      "text/plain": [
       "<Figure size 1800x900 with 0 Axes>"
      ]
     },
     "metadata": {},
     "output_type": "display_data"
    },
    {
     "data": {
      "text/plain": [
       "<Figure size 600x600 with 0 Axes>"
      ]
     },
     "metadata": {},
     "output_type": "display_data"
    },
    {
     "data": {
      "text/plain": [
       "<Figure size 1800x900 with 0 Axes>"
      ]
     },
     "metadata": {},
     "output_type": "display_data"
    },
    {
     "data": {
      "text/plain": [
       "<Figure size 600x600 with 0 Axes>"
      ]
     },
     "metadata": {},
     "output_type": "display_data"
    },
    {
     "data": {
      "text/plain": [
       "<Figure size 1800x900 with 0 Axes>"
      ]
     },
     "metadata": {},
     "output_type": "display_data"
    },
    {
     "data": {
      "text/plain": [
       "<Figure size 600x600 with 0 Axes>"
      ]
     },
     "metadata": {},
     "output_type": "display_data"
    },
    {
     "data": {
      "text/plain": [
       "<Figure size 1800x900 with 0 Axes>"
      ]
     },
     "metadata": {},
     "output_type": "display_data"
    },
    {
     "data": {
      "text/plain": [
       "<Figure size 600x600 with 0 Axes>"
      ]
     },
     "metadata": {},
     "output_type": "display_data"
    },
    {
     "data": {
      "text/plain": [
       "<Figure size 1800x900 with 0 Axes>"
      ]
     },
     "metadata": {},
     "output_type": "display_data"
    },
    {
     "data": {
      "text/plain": [
       "<Figure size 600x600 with 0 Axes>"
      ]
     },
     "metadata": {},
     "output_type": "display_data"
    },
    {
     "data": {
      "text/plain": [
       "<Figure size 1800x900 with 0 Axes>"
      ]
     },
     "metadata": {},
     "output_type": "display_data"
    },
    {
     "data": {
      "text/plain": [
       "<Figure size 600x600 with 0 Axes>"
      ]
     },
     "metadata": {},
     "output_type": "display_data"
    },
    {
     "data": {
      "text/plain": [
       "<Figure size 1800x900 with 0 Axes>"
      ]
     },
     "metadata": {},
     "output_type": "display_data"
    },
    {
     "data": {
      "text/plain": [
       "<Figure size 600x600 with 0 Axes>"
      ]
     },
     "metadata": {},
     "output_type": "display_data"
    },
    {
     "data": {
      "text/plain": [
       "<Figure size 1800x900 with 0 Axes>"
      ]
     },
     "metadata": {},
     "output_type": "display_data"
    },
    {
     "data": {
      "text/plain": [
       "<Figure size 600x600 with 0 Axes>"
      ]
     },
     "metadata": {},
     "output_type": "display_data"
    },
    {
     "data": {
      "text/plain": [
       "<Figure size 1800x900 with 0 Axes>"
      ]
     },
     "metadata": {},
     "output_type": "display_data"
    },
    {
     "data": {
      "text/plain": [
       "<Figure size 600x600 with 0 Axes>"
      ]
     },
     "metadata": {},
     "output_type": "display_data"
    },
    {
     "data": {
      "text/plain": [
       "<Figure size 1800x900 with 0 Axes>"
      ]
     },
     "metadata": {},
     "output_type": "display_data"
    },
    {
     "data": {
      "text/plain": [
       "<Figure size 600x600 with 0 Axes>"
      ]
     },
     "metadata": {},
     "output_type": "display_data"
    },
    {
     "data": {
      "text/plain": [
       "<Figure size 1800x900 with 0 Axes>"
      ]
     },
     "metadata": {},
     "output_type": "display_data"
    },
    {
     "data": {
      "text/plain": [
       "<Figure size 600x600 with 0 Axes>"
      ]
     },
     "metadata": {},
     "output_type": "display_data"
    },
    {
     "data": {
      "text/plain": [
       "<Figure size 1800x900 with 0 Axes>"
      ]
     },
     "metadata": {},
     "output_type": "display_data"
    },
    {
     "data": {
      "text/plain": [
       "<Figure size 600x600 with 0 Axes>"
      ]
     },
     "metadata": {},
     "output_type": "display_data"
    },
    {
     "data": {
      "text/plain": [
       "<Figure size 1800x900 with 0 Axes>"
      ]
     },
     "metadata": {},
     "output_type": "display_data"
    },
    {
     "data": {
      "text/plain": [
       "<Figure size 600x600 with 0 Axes>"
      ]
     },
     "metadata": {},
     "output_type": "display_data"
    },
    {
     "data": {
      "text/plain": [
       "<Figure size 1800x900 with 0 Axes>"
      ]
     },
     "metadata": {},
     "output_type": "display_data"
    },
    {
     "data": {
      "text/plain": [
       "<Figure size 600x600 with 0 Axes>"
      ]
     },
     "metadata": {},
     "output_type": "display_data"
    },
    {
     "data": {
      "text/plain": [
       "<Figure size 1800x900 with 0 Axes>"
      ]
     },
     "metadata": {},
     "output_type": "display_data"
    },
    {
     "data": {
      "text/plain": [
       "<Figure size 600x600 with 0 Axes>"
      ]
     },
     "metadata": {},
     "output_type": "display_data"
    },
    {
     "data": {
      "text/plain": [
       "<Figure size 1800x900 with 0 Axes>"
      ]
     },
     "metadata": {},
     "output_type": "display_data"
    },
    {
     "data": {
      "text/plain": [
       "<Figure size 600x600 with 0 Axes>"
      ]
     },
     "metadata": {},
     "output_type": "display_data"
    },
    {
     "data": {
      "text/plain": [
       "<Figure size 1800x900 with 0 Axes>"
      ]
     },
     "metadata": {},
     "output_type": "display_data"
    },
    {
     "data": {
      "text/plain": [
       "<Figure size 600x600 with 0 Axes>"
      ]
     },
     "metadata": {},
     "output_type": "display_data"
    },
    {
     "data": {
      "text/plain": [
       "<Figure size 1800x900 with 0 Axes>"
      ]
     },
     "metadata": {},
     "output_type": "display_data"
    },
    {
     "data": {
      "text/plain": [
       "<Figure size 600x600 with 0 Axes>"
      ]
     },
     "metadata": {},
     "output_type": "display_data"
    },
    {
     "data": {
      "text/plain": [
       "<Figure size 1800x900 with 0 Axes>"
      ]
     },
     "metadata": {},
     "output_type": "display_data"
    },
    {
     "data": {
      "text/plain": [
       "<Figure size 600x600 with 0 Axes>"
      ]
     },
     "metadata": {},
     "output_type": "display_data"
    },
    {
     "data": {
      "text/plain": [
       "<Figure size 1800x900 with 0 Axes>"
      ]
     },
     "metadata": {},
     "output_type": "display_data"
    },
    {
     "data": {
      "text/plain": [
       "<Figure size 600x600 with 0 Axes>"
      ]
     },
     "metadata": {},
     "output_type": "display_data"
    },
    {
     "data": {
      "text/plain": [
       "<Figure size 1800x900 with 0 Axes>"
      ]
     },
     "metadata": {},
     "output_type": "display_data"
    },
    {
     "data": {
      "text/plain": [
       "<Figure size 600x600 with 0 Axes>"
      ]
     },
     "metadata": {},
     "output_type": "display_data"
    },
    {
     "data": {
      "text/plain": [
       "<Figure size 1800x900 with 0 Axes>"
      ]
     },
     "metadata": {},
     "output_type": "display_data"
    },
    {
     "data": {
      "text/plain": [
       "<Figure size 600x600 with 0 Axes>"
      ]
     },
     "metadata": {},
     "output_type": "display_data"
    },
    {
     "data": {
      "text/plain": [
       "<Figure size 1800x900 with 0 Axes>"
      ]
     },
     "metadata": {},
     "output_type": "display_data"
    },
    {
     "data": {
      "text/plain": [
       "<Figure size 600x600 with 0 Axes>"
      ]
     },
     "metadata": {},
     "output_type": "display_data"
    },
    {
     "data": {
      "text/plain": [
       "<Figure size 1800x900 with 0 Axes>"
      ]
     },
     "metadata": {},
     "output_type": "display_data"
    },
    {
     "data": {
      "text/plain": [
       "<Figure size 600x600 with 0 Axes>"
      ]
     },
     "metadata": {},
     "output_type": "display_data"
    },
    {
     "data": {
      "text/plain": [
       "<Figure size 1800x900 with 0 Axes>"
      ]
     },
     "metadata": {},
     "output_type": "display_data"
    },
    {
     "data": {
      "text/plain": [
       "<Figure size 600x600 with 0 Axes>"
      ]
     },
     "metadata": {},
     "output_type": "display_data"
    },
    {
     "data": {
      "text/plain": [
       "<Figure size 1800x900 with 0 Axes>"
      ]
     },
     "metadata": {},
     "output_type": "display_data"
    },
    {
     "data": {
      "text/plain": [
       "<Figure size 600x600 with 0 Axes>"
      ]
     },
     "metadata": {},
     "output_type": "display_data"
    },
    {
     "data": {
      "text/plain": [
       "<Figure size 1800x900 with 0 Axes>"
      ]
     },
     "metadata": {},
     "output_type": "display_data"
    },
    {
     "data": {
      "text/plain": [
       "<Figure size 600x600 with 0 Axes>"
      ]
     },
     "metadata": {},
     "output_type": "display_data"
    },
    {
     "data": {
      "text/plain": [
       "<Figure size 1800x900 with 0 Axes>"
      ]
     },
     "metadata": {},
     "output_type": "display_data"
    },
    {
     "data": {
      "text/plain": [
       "<Figure size 600x600 with 0 Axes>"
      ]
     },
     "metadata": {},
     "output_type": "display_data"
    },
    {
     "data": {
      "text/plain": [
       "<Figure size 1800x900 with 0 Axes>"
      ]
     },
     "metadata": {},
     "output_type": "display_data"
    },
    {
     "data": {
      "text/plain": [
       "<Figure size 600x600 with 0 Axes>"
      ]
     },
     "metadata": {},
     "output_type": "display_data"
    },
    {
     "data": {
      "text/plain": [
       "<Figure size 1800x900 with 0 Axes>"
      ]
     },
     "metadata": {},
     "output_type": "display_data"
    },
    {
     "data": {
      "text/plain": [
       "<Figure size 600x600 with 0 Axes>"
      ]
     },
     "metadata": {},
     "output_type": "display_data"
    },
    {
     "data": {
      "text/plain": [
       "<Figure size 1800x900 with 0 Axes>"
      ]
     },
     "metadata": {},
     "output_type": "display_data"
    },
    {
     "data": {
      "text/plain": [
       "<Figure size 600x600 with 0 Axes>"
      ]
     },
     "metadata": {},
     "output_type": "display_data"
    },
    {
     "data": {
      "text/plain": [
       "<Figure size 1800x900 with 0 Axes>"
      ]
     },
     "metadata": {},
     "output_type": "display_data"
    },
    {
     "data": {
      "text/plain": [
       "<Figure size 600x600 with 0 Axes>"
      ]
     },
     "metadata": {},
     "output_type": "display_data"
    },
    {
     "data": {
      "text/plain": [
       "<Figure size 1800x900 with 0 Axes>"
      ]
     },
     "metadata": {},
     "output_type": "display_data"
    },
    {
     "data": {
      "text/plain": [
       "<Figure size 600x600 with 0 Axes>"
      ]
     },
     "metadata": {},
     "output_type": "display_data"
    },
    {
     "data": {
      "text/plain": [
       "<Figure size 1800x900 with 0 Axes>"
      ]
     },
     "metadata": {},
     "output_type": "display_data"
    },
    {
     "data": {
      "text/plain": [
       "<Figure size 600x600 with 0 Axes>"
      ]
     },
     "metadata": {},
     "output_type": "display_data"
    },
    {
     "data": {
      "text/plain": [
       "<Figure size 1800x900 with 0 Axes>"
      ]
     },
     "metadata": {},
     "output_type": "display_data"
    },
    {
     "data": {
      "text/plain": [
       "<Figure size 600x600 with 0 Axes>"
      ]
     },
     "metadata": {},
     "output_type": "display_data"
    },
    {
     "data": {
      "text/plain": [
       "<Figure size 1800x900 with 0 Axes>"
      ]
     },
     "metadata": {},
     "output_type": "display_data"
    },
    {
     "data": {
      "text/plain": [
       "<Figure size 600x600 with 0 Axes>"
      ]
     },
     "metadata": {},
     "output_type": "display_data"
    },
    {
     "data": {
      "text/plain": [
       "<Figure size 1800x900 with 0 Axes>"
      ]
     },
     "metadata": {},
     "output_type": "display_data"
    },
    {
     "data": {
      "text/plain": [
       "<Figure size 600x600 with 0 Axes>"
      ]
     },
     "metadata": {},
     "output_type": "display_data"
    },
    {
     "data": {
      "text/plain": [
       "<Figure size 1800x900 with 0 Axes>"
      ]
     },
     "metadata": {},
     "output_type": "display_data"
    },
    {
     "data": {
      "text/plain": [
       "<Figure size 600x600 with 0 Axes>"
      ]
     },
     "metadata": {},
     "output_type": "display_data"
    },
    {
     "data": {
      "text/plain": [
       "<Figure size 1800x900 with 0 Axes>"
      ]
     },
     "metadata": {},
     "output_type": "display_data"
    },
    {
     "data": {
      "text/plain": [
       "<Figure size 600x600 with 0 Axes>"
      ]
     },
     "metadata": {},
     "output_type": "display_data"
    },
    {
     "data": {
      "text/plain": [
       "<Figure size 1800x900 with 0 Axes>"
      ]
     },
     "metadata": {},
     "output_type": "display_data"
    },
    {
     "data": {
      "text/plain": [
       "<Figure size 600x600 with 0 Axes>"
      ]
     },
     "metadata": {},
     "output_type": "display_data"
    },
    {
     "data": {
      "text/plain": [
       "<Figure size 1800x900 with 0 Axes>"
      ]
     },
     "metadata": {},
     "output_type": "display_data"
    },
    {
     "data": {
      "text/plain": [
       "<Figure size 600x600 with 0 Axes>"
      ]
     },
     "metadata": {},
     "output_type": "display_data"
    },
    {
     "data": {
      "text/plain": [
       "<Figure size 1800x900 with 0 Axes>"
      ]
     },
     "metadata": {},
     "output_type": "display_data"
    },
    {
     "data": {
      "text/plain": [
       "<Figure size 600x600 with 0 Axes>"
      ]
     },
     "metadata": {},
     "output_type": "display_data"
    },
    {
     "data": {
      "text/plain": [
       "<Figure size 1800x900 with 0 Axes>"
      ]
     },
     "metadata": {},
     "output_type": "display_data"
    },
    {
     "data": {
      "text/plain": [
       "<Figure size 600x600 with 0 Axes>"
      ]
     },
     "metadata": {},
     "output_type": "display_data"
    },
    {
     "data": {
      "text/plain": [
       "<Figure size 1800x900 with 0 Axes>"
      ]
     },
     "metadata": {},
     "output_type": "display_data"
    },
    {
     "data": {
      "text/plain": [
       "<Figure size 600x600 with 0 Axes>"
      ]
     },
     "metadata": {},
     "output_type": "display_data"
    },
    {
     "data": {
      "text/plain": [
       "<Figure size 1800x900 with 0 Axes>"
      ]
     },
     "metadata": {},
     "output_type": "display_data"
    },
    {
     "data": {
      "text/plain": [
       "<Figure size 600x600 with 0 Axes>"
      ]
     },
     "metadata": {},
     "output_type": "display_data"
    },
    {
     "data": {
      "text/plain": [
       "<Figure size 1800x900 with 0 Axes>"
      ]
     },
     "metadata": {},
     "output_type": "display_data"
    },
    {
     "data": {
      "text/plain": [
       "<Figure size 600x600 with 0 Axes>"
      ]
     },
     "metadata": {},
     "output_type": "display_data"
    },
    {
     "data": {
      "text/plain": [
       "<Figure size 1800x900 with 0 Axes>"
      ]
     },
     "metadata": {},
     "output_type": "display_data"
    },
    {
     "data": {
      "text/plain": [
       "<Figure size 600x600 with 0 Axes>"
      ]
     },
     "metadata": {},
     "output_type": "display_data"
    },
    {
     "data": {
      "text/plain": [
       "<Figure size 1800x900 with 0 Axes>"
      ]
     },
     "metadata": {},
     "output_type": "display_data"
    },
    {
     "data": {
      "text/plain": [
       "<Figure size 600x600 with 0 Axes>"
      ]
     },
     "metadata": {},
     "output_type": "display_data"
    },
    {
     "data": {
      "text/plain": [
       "<Figure size 1800x900 with 0 Axes>"
      ]
     },
     "metadata": {},
     "output_type": "display_data"
    },
    {
     "data": {
      "text/plain": [
       "<Figure size 600x600 with 0 Axes>"
      ]
     },
     "metadata": {},
     "output_type": "display_data"
    },
    {
     "data": {
      "text/plain": [
       "<Figure size 1800x900 with 0 Axes>"
      ]
     },
     "metadata": {},
     "output_type": "display_data"
    },
    {
     "data": {
      "text/plain": [
       "<Figure size 600x600 with 0 Axes>"
      ]
     },
     "metadata": {},
     "output_type": "display_data"
    },
    {
     "data": {
      "text/plain": [
       "<Figure size 1800x900 with 0 Axes>"
      ]
     },
     "metadata": {},
     "output_type": "display_data"
    },
    {
     "data": {
      "text/plain": [
       "<Figure size 600x600 with 0 Axes>"
      ]
     },
     "metadata": {},
     "output_type": "display_data"
    },
    {
     "data": {
      "text/plain": [
       "<Figure size 1800x900 with 0 Axes>"
      ]
     },
     "metadata": {},
     "output_type": "display_data"
    },
    {
     "data": {
      "text/plain": [
       "<Figure size 600x600 with 0 Axes>"
      ]
     },
     "metadata": {},
     "output_type": "display_data"
    },
    {
     "data": {
      "text/plain": [
       "<Figure size 1800x900 with 0 Axes>"
      ]
     },
     "metadata": {},
     "output_type": "display_data"
    },
    {
     "data": {
      "text/plain": [
       "<Figure size 600x600 with 0 Axes>"
      ]
     },
     "metadata": {},
     "output_type": "display_data"
    },
    {
     "data": {
      "text/plain": [
       "<Figure size 1800x900 with 0 Axes>"
      ]
     },
     "metadata": {},
     "output_type": "display_data"
    },
    {
     "data": {
      "text/plain": [
       "<Figure size 600x600 with 0 Axes>"
      ]
     },
     "metadata": {},
     "output_type": "display_data"
    },
    {
     "data": {
      "text/plain": [
       "<Figure size 1800x900 with 0 Axes>"
      ]
     },
     "metadata": {},
     "output_type": "display_data"
    },
    {
     "data": {
      "text/plain": [
       "<Figure size 600x600 with 0 Axes>"
      ]
     },
     "metadata": {},
     "output_type": "display_data"
    },
    {
     "data": {
      "text/plain": [
       "<Figure size 1800x900 with 0 Axes>"
      ]
     },
     "metadata": {},
     "output_type": "display_data"
    },
    {
     "data": {
      "text/plain": [
       "<Figure size 600x600 with 0 Axes>"
      ]
     },
     "metadata": {},
     "output_type": "display_data"
    },
    {
     "data": {
      "text/plain": [
       "<Figure size 1800x900 with 0 Axes>"
      ]
     },
     "metadata": {},
     "output_type": "display_data"
    },
    {
     "data": {
      "text/plain": [
       "<Figure size 600x600 with 0 Axes>"
      ]
     },
     "metadata": {},
     "output_type": "display_data"
    },
    {
     "data": {
      "text/plain": [
       "<Figure size 1800x900 with 0 Axes>"
      ]
     },
     "metadata": {},
     "output_type": "display_data"
    },
    {
     "data": {
      "text/plain": [
       "<Figure size 600x600 with 0 Axes>"
      ]
     },
     "metadata": {},
     "output_type": "display_data"
    },
    {
     "data": {
      "text/plain": [
       "<Figure size 1800x900 with 0 Axes>"
      ]
     },
     "metadata": {},
     "output_type": "display_data"
    },
    {
     "data": {
      "text/plain": [
       "<Figure size 600x600 with 0 Axes>"
      ]
     },
     "metadata": {},
     "output_type": "display_data"
    },
    {
     "data": {
      "text/plain": [
       "<Figure size 1800x900 with 0 Axes>"
      ]
     },
     "metadata": {},
     "output_type": "display_data"
    },
    {
     "data": {
      "text/plain": [
       "<Figure size 600x600 with 0 Axes>"
      ]
     },
     "metadata": {},
     "output_type": "display_data"
    },
    {
     "data": {
      "text/plain": [
       "<Figure size 1800x900 with 0 Axes>"
      ]
     },
     "metadata": {},
     "output_type": "display_data"
    },
    {
     "data": {
      "text/plain": [
       "<Figure size 600x600 with 0 Axes>"
      ]
     },
     "metadata": {},
     "output_type": "display_data"
    },
    {
     "data": {
      "text/plain": [
       "<Figure size 1800x900 with 0 Axes>"
      ]
     },
     "metadata": {},
     "output_type": "display_data"
    },
    {
     "data": {
      "text/plain": [
       "<Figure size 600x600 with 0 Axes>"
      ]
     },
     "metadata": {},
     "output_type": "display_data"
    },
    {
     "data": {
      "text/plain": [
       "<Figure size 1800x900 with 0 Axes>"
      ]
     },
     "metadata": {},
     "output_type": "display_data"
    },
    {
     "data": {
      "text/plain": [
       "<Figure size 600x600 with 0 Axes>"
      ]
     },
     "metadata": {},
     "output_type": "display_data"
    },
    {
     "data": {
      "text/plain": [
       "<Figure size 1800x900 with 0 Axes>"
      ]
     },
     "metadata": {},
     "output_type": "display_data"
    },
    {
     "data": {
      "text/plain": [
       "<Figure size 600x600 with 0 Axes>"
      ]
     },
     "metadata": {},
     "output_type": "display_data"
    },
    {
     "data": {
      "text/plain": [
       "<Figure size 1800x900 with 0 Axes>"
      ]
     },
     "metadata": {},
     "output_type": "display_data"
    },
    {
     "data": {
      "text/plain": [
       "<Figure size 600x600 with 0 Axes>"
      ]
     },
     "metadata": {},
     "output_type": "display_data"
    },
    {
     "data": {
      "text/plain": [
       "<Figure size 1800x900 with 0 Axes>"
      ]
     },
     "metadata": {},
     "output_type": "display_data"
    },
    {
     "data": {
      "text/plain": [
       "<Figure size 600x600 with 0 Axes>"
      ]
     },
     "metadata": {},
     "output_type": "display_data"
    },
    {
     "data": {
      "text/plain": [
       "<Figure size 1800x900 with 0 Axes>"
      ]
     },
     "metadata": {},
     "output_type": "display_data"
    },
    {
     "data": {
      "text/plain": [
       "<Figure size 600x600 with 0 Axes>"
      ]
     },
     "metadata": {},
     "output_type": "display_data"
    },
    {
     "data": {
      "text/plain": [
       "<Figure size 1800x900 with 0 Axes>"
      ]
     },
     "metadata": {},
     "output_type": "display_data"
    },
    {
     "data": {
      "text/plain": [
       "<Figure size 600x600 with 0 Axes>"
      ]
     },
     "metadata": {},
     "output_type": "display_data"
    },
    {
     "data": {
      "text/plain": [
       "<Figure size 1800x900 with 0 Axes>"
      ]
     },
     "metadata": {},
     "output_type": "display_data"
    },
    {
     "data": {
      "text/plain": [
       "<Figure size 600x600 with 0 Axes>"
      ]
     },
     "metadata": {},
     "output_type": "display_data"
    },
    {
     "data": {
      "text/plain": [
       "<Figure size 1800x900 with 0 Axes>"
      ]
     },
     "metadata": {},
     "output_type": "display_data"
    },
    {
     "data": {
      "text/plain": [
       "<Figure size 600x600 with 0 Axes>"
      ]
     },
     "metadata": {},
     "output_type": "display_data"
    },
    {
     "data": {
      "text/plain": [
       "<Figure size 1800x900 with 0 Axes>"
      ]
     },
     "metadata": {},
     "output_type": "display_data"
    },
    {
     "data": {
      "text/plain": [
       "<Figure size 600x600 with 0 Axes>"
      ]
     },
     "metadata": {},
     "output_type": "display_data"
    },
    {
     "data": {
      "text/plain": [
       "<Figure size 1800x900 with 0 Axes>"
      ]
     },
     "metadata": {},
     "output_type": "display_data"
    },
    {
     "data": {
      "text/plain": [
       "<Figure size 600x600 with 0 Axes>"
      ]
     },
     "metadata": {},
     "output_type": "display_data"
    },
    {
     "data": {
      "text/plain": [
       "<Figure size 1800x900 with 0 Axes>"
      ]
     },
     "metadata": {},
     "output_type": "display_data"
    },
    {
     "data": {
      "text/plain": [
       "<Figure size 600x600 with 0 Axes>"
      ]
     },
     "metadata": {},
     "output_type": "display_data"
    },
    {
     "data": {
      "text/plain": [
       "<Figure size 1800x900 with 0 Axes>"
      ]
     },
     "metadata": {},
     "output_type": "display_data"
    },
    {
     "data": {
      "text/plain": [
       "<Figure size 600x600 with 0 Axes>"
      ]
     },
     "metadata": {},
     "output_type": "display_data"
    },
    {
     "data": {
      "text/plain": [
       "<Figure size 1800x900 with 0 Axes>"
      ]
     },
     "metadata": {},
     "output_type": "display_data"
    },
    {
     "data": {
      "text/plain": [
       "<Figure size 600x600 with 0 Axes>"
      ]
     },
     "metadata": {},
     "output_type": "display_data"
    },
    {
     "data": {
      "text/plain": [
       "<Figure size 1800x900 with 0 Axes>"
      ]
     },
     "metadata": {},
     "output_type": "display_data"
    },
    {
     "data": {
      "text/plain": [
       "<Figure size 600x600 with 0 Axes>"
      ]
     },
     "metadata": {},
     "output_type": "display_data"
    },
    {
     "data": {
      "text/plain": [
       "<Figure size 1800x900 with 0 Axes>"
      ]
     },
     "metadata": {},
     "output_type": "display_data"
    },
    {
     "data": {
      "text/plain": [
       "<Figure size 600x600 with 0 Axes>"
      ]
     },
     "metadata": {},
     "output_type": "display_data"
    },
    {
     "data": {
      "text/plain": [
       "<Figure size 1800x900 with 0 Axes>"
      ]
     },
     "metadata": {},
     "output_type": "display_data"
    },
    {
     "data": {
      "text/plain": [
       "<Figure size 600x600 with 0 Axes>"
      ]
     },
     "metadata": {},
     "output_type": "display_data"
    },
    {
     "data": {
      "text/plain": [
       "<Figure size 1800x900 with 0 Axes>"
      ]
     },
     "metadata": {},
     "output_type": "display_data"
    },
    {
     "data": {
      "text/plain": [
       "<Figure size 600x600 with 0 Axes>"
      ]
     },
     "metadata": {},
     "output_type": "display_data"
    },
    {
     "data": {
      "text/plain": [
       "<Figure size 1800x900 with 0 Axes>"
      ]
     },
     "metadata": {},
     "output_type": "display_data"
    },
    {
     "data": {
      "text/plain": [
       "<Figure size 600x600 with 0 Axes>"
      ]
     },
     "metadata": {},
     "output_type": "display_data"
    },
    {
     "data": {
      "text/plain": [
       "<Figure size 1800x900 with 0 Axes>"
      ]
     },
     "metadata": {},
     "output_type": "display_data"
    },
    {
     "data": {
      "text/plain": [
       "<Figure size 600x600 with 0 Axes>"
      ]
     },
     "metadata": {},
     "output_type": "display_data"
    },
    {
     "data": {
      "text/plain": [
       "<Figure size 1800x900 with 0 Axes>"
      ]
     },
     "metadata": {},
     "output_type": "display_data"
    },
    {
     "data": {
      "text/plain": [
       "<Figure size 600x600 with 0 Axes>"
      ]
     },
     "metadata": {},
     "output_type": "display_data"
    },
    {
     "data": {
      "text/plain": [
       "<Figure size 1800x900 with 0 Axes>"
      ]
     },
     "metadata": {},
     "output_type": "display_data"
    },
    {
     "data": {
      "text/plain": [
       "<Figure size 600x600 with 0 Axes>"
      ]
     },
     "metadata": {},
     "output_type": "display_data"
    },
    {
     "data": {
      "text/plain": [
       "<Figure size 1800x900 with 0 Axes>"
      ]
     },
     "metadata": {},
     "output_type": "display_data"
    },
    {
     "data": {
      "text/plain": [
       "<Figure size 600x600 with 0 Axes>"
      ]
     },
     "metadata": {},
     "output_type": "display_data"
    },
    {
     "data": {
      "text/plain": [
       "<Figure size 1800x900 with 0 Axes>"
      ]
     },
     "metadata": {},
     "output_type": "display_data"
    },
    {
     "data": {
      "text/plain": [
       "<Figure size 600x600 with 0 Axes>"
      ]
     },
     "metadata": {},
     "output_type": "display_data"
    },
    {
     "data": {
      "text/plain": [
       "<Figure size 1800x900 with 0 Axes>"
      ]
     },
     "metadata": {},
     "output_type": "display_data"
    },
    {
     "data": {
      "text/plain": [
       "<Figure size 600x600 with 0 Axes>"
      ]
     },
     "metadata": {},
     "output_type": "display_data"
    },
    {
     "data": {
      "text/plain": [
       "<Figure size 1800x900 with 0 Axes>"
      ]
     },
     "metadata": {},
     "output_type": "display_data"
    },
    {
     "data": {
      "text/plain": [
       "<Figure size 600x600 with 0 Axes>"
      ]
     },
     "metadata": {},
     "output_type": "display_data"
    },
    {
     "data": {
      "text/plain": [
       "<Figure size 1800x900 with 0 Axes>"
      ]
     },
     "metadata": {},
     "output_type": "display_data"
    },
    {
     "data": {
      "text/plain": [
       "<Figure size 600x600 with 0 Axes>"
      ]
     },
     "metadata": {},
     "output_type": "display_data"
    },
    {
     "data": {
      "text/plain": [
       "<Figure size 1800x900 with 0 Axes>"
      ]
     },
     "metadata": {},
     "output_type": "display_data"
    },
    {
     "data": {
      "text/plain": [
       "<Figure size 600x600 with 0 Axes>"
      ]
     },
     "metadata": {},
     "output_type": "display_data"
    },
    {
     "data": {
      "text/plain": [
       "<Figure size 1800x900 with 0 Axes>"
      ]
     },
     "metadata": {},
     "output_type": "display_data"
    },
    {
     "data": {
      "text/plain": [
       "<Figure size 600x600 with 0 Axes>"
      ]
     },
     "metadata": {},
     "output_type": "display_data"
    },
    {
     "data": {
      "text/plain": [
       "<Figure size 1800x900 with 0 Axes>"
      ]
     },
     "metadata": {},
     "output_type": "display_data"
    },
    {
     "data": {
      "text/plain": [
       "<Figure size 600x600 with 0 Axes>"
      ]
     },
     "metadata": {},
     "output_type": "display_data"
    },
    {
     "data": {
      "text/plain": [
       "<Figure size 1800x900 with 0 Axes>"
      ]
     },
     "metadata": {},
     "output_type": "display_data"
    },
    {
     "data": {
      "text/plain": [
       "<Figure size 600x600 with 0 Axes>"
      ]
     },
     "metadata": {},
     "output_type": "display_data"
    },
    {
     "data": {
      "text/plain": [
       "<Figure size 1800x900 with 0 Axes>"
      ]
     },
     "metadata": {},
     "output_type": "display_data"
    },
    {
     "data": {
      "text/plain": [
       "<Figure size 600x600 with 0 Axes>"
      ]
     },
     "metadata": {},
     "output_type": "display_data"
    },
    {
     "data": {
      "text/plain": [
       "<Figure size 1800x900 with 0 Axes>"
      ]
     },
     "metadata": {},
     "output_type": "display_data"
    },
    {
     "data": {
      "text/plain": [
       "<Figure size 600x600 with 0 Axes>"
      ]
     },
     "metadata": {},
     "output_type": "display_data"
    },
    {
     "data": {
      "text/plain": [
       "<Figure size 1800x900 with 0 Axes>"
      ]
     },
     "metadata": {},
     "output_type": "display_data"
    },
    {
     "data": {
      "text/plain": [
       "<Figure size 600x600 with 0 Axes>"
      ]
     },
     "metadata": {},
     "output_type": "display_data"
    },
    {
     "data": {
      "text/plain": [
       "<Figure size 1800x900 with 0 Axes>"
      ]
     },
     "metadata": {},
     "output_type": "display_data"
    },
    {
     "data": {
      "text/plain": [
       "<Figure size 600x600 with 0 Axes>"
      ]
     },
     "metadata": {},
     "output_type": "display_data"
    },
    {
     "data": {
      "text/plain": [
       "<Figure size 1800x900 with 0 Axes>"
      ]
     },
     "metadata": {},
     "output_type": "display_data"
    },
    {
     "data": {
      "text/plain": [
       "<Figure size 600x600 with 0 Axes>"
      ]
     },
     "metadata": {},
     "output_type": "display_data"
    },
    {
     "data": {
      "text/plain": [
       "<Figure size 1800x900 with 0 Axes>"
      ]
     },
     "metadata": {},
     "output_type": "display_data"
    },
    {
     "data": {
      "text/plain": [
       "<Figure size 600x600 with 0 Axes>"
      ]
     },
     "metadata": {},
     "output_type": "display_data"
    },
    {
     "data": {
      "text/plain": [
       "<Figure size 1800x900 with 0 Axes>"
      ]
     },
     "metadata": {},
     "output_type": "display_data"
    },
    {
     "data": {
      "text/plain": [
       "<Figure size 600x600 with 0 Axes>"
      ]
     },
     "metadata": {},
     "output_type": "display_data"
    },
    {
     "data": {
      "text/plain": [
       "<Figure size 1800x900 with 0 Axes>"
      ]
     },
     "metadata": {},
     "output_type": "display_data"
    },
    {
     "data": {
      "text/plain": [
       "<Figure size 600x600 with 0 Axes>"
      ]
     },
     "metadata": {},
     "output_type": "display_data"
    },
    {
     "data": {
      "text/plain": [
       "<Figure size 1800x900 with 0 Axes>"
      ]
     },
     "metadata": {},
     "output_type": "display_data"
    },
    {
     "data": {
      "text/plain": [
       "<Figure size 600x600 with 0 Axes>"
      ]
     },
     "metadata": {},
     "output_type": "display_data"
    },
    {
     "data": {
      "text/plain": [
       "<Figure size 1800x900 with 0 Axes>"
      ]
     },
     "metadata": {},
     "output_type": "display_data"
    },
    {
     "data": {
      "text/plain": [
       "<Figure size 600x600 with 0 Axes>"
      ]
     },
     "metadata": {},
     "output_type": "display_data"
    },
    {
     "data": {
      "text/plain": [
       "<Figure size 1800x900 with 0 Axes>"
      ]
     },
     "metadata": {},
     "output_type": "display_data"
    },
    {
     "data": {
      "text/plain": [
       "<Figure size 600x600 with 0 Axes>"
      ]
     },
     "metadata": {},
     "output_type": "display_data"
    },
    {
     "data": {
      "text/plain": [
       "<Figure size 1800x900 with 0 Axes>"
      ]
     },
     "metadata": {},
     "output_type": "display_data"
    },
    {
     "data": {
      "text/plain": [
       "<Figure size 600x600 with 0 Axes>"
      ]
     },
     "metadata": {},
     "output_type": "display_data"
    },
    {
     "data": {
      "text/plain": [
       "<Figure size 1800x900 with 0 Axes>"
      ]
     },
     "metadata": {},
     "output_type": "display_data"
    },
    {
     "data": {
      "text/plain": [
       "<Figure size 600x600 with 0 Axes>"
      ]
     },
     "metadata": {},
     "output_type": "display_data"
    },
    {
     "data": {
      "text/plain": [
       "<Figure size 1800x900 with 0 Axes>"
      ]
     },
     "metadata": {},
     "output_type": "display_data"
    },
    {
     "data": {
      "text/plain": [
       "<Figure size 600x600 with 0 Axes>"
      ]
     },
     "metadata": {},
     "output_type": "display_data"
    },
    {
     "data": {
      "text/plain": [
       "<Figure size 1800x900 with 0 Axes>"
      ]
     },
     "metadata": {},
     "output_type": "display_data"
    },
    {
     "data": {
      "text/plain": [
       "<Figure size 600x600 with 0 Axes>"
      ]
     },
     "metadata": {},
     "output_type": "display_data"
    },
    {
     "data": {
      "text/plain": [
       "<Figure size 1800x900 with 0 Axes>"
      ]
     },
     "metadata": {},
     "output_type": "display_data"
    },
    {
     "data": {
      "text/plain": [
       "<Figure size 600x600 with 0 Axes>"
      ]
     },
     "metadata": {},
     "output_type": "display_data"
    },
    {
     "data": {
      "text/plain": [
       "<Figure size 1800x900 with 0 Axes>"
      ]
     },
     "metadata": {},
     "output_type": "display_data"
    },
    {
     "data": {
      "text/plain": [
       "<Figure size 600x600 with 0 Axes>"
      ]
     },
     "metadata": {},
     "output_type": "display_data"
    },
    {
     "data": {
      "text/plain": [
       "<Figure size 1800x900 with 0 Axes>"
      ]
     },
     "metadata": {},
     "output_type": "display_data"
    },
    {
     "data": {
      "text/plain": [
       "<Figure size 600x600 with 0 Axes>"
      ]
     },
     "metadata": {},
     "output_type": "display_data"
    },
    {
     "data": {
      "text/plain": [
       "<Figure size 1800x900 with 0 Axes>"
      ]
     },
     "metadata": {},
     "output_type": "display_data"
    },
    {
     "data": {
      "text/plain": [
       "<Figure size 600x600 with 0 Axes>"
      ]
     },
     "metadata": {},
     "output_type": "display_data"
    },
    {
     "data": {
      "text/plain": [
       "<Figure size 1800x900 with 0 Axes>"
      ]
     },
     "metadata": {},
     "output_type": "display_data"
    },
    {
     "data": {
      "text/plain": [
       "<Figure size 600x600 with 0 Axes>"
      ]
     },
     "metadata": {},
     "output_type": "display_data"
    },
    {
     "data": {
      "text/plain": [
       "<Figure size 1800x900 with 0 Axes>"
      ]
     },
     "metadata": {},
     "output_type": "display_data"
    },
    {
     "data": {
      "text/plain": [
       "<Figure size 600x600 with 0 Axes>"
      ]
     },
     "metadata": {},
     "output_type": "display_data"
    },
    {
     "data": {
      "text/plain": [
       "<Figure size 1800x900 with 0 Axes>"
      ]
     },
     "metadata": {},
     "output_type": "display_data"
    },
    {
     "data": {
      "text/plain": [
       "<Figure size 600x600 with 0 Axes>"
      ]
     },
     "metadata": {},
     "output_type": "display_data"
    },
    {
     "data": {
      "text/plain": [
       "<Figure size 1800x900 with 0 Axes>"
      ]
     },
     "metadata": {},
     "output_type": "display_data"
    },
    {
     "data": {
      "text/plain": [
       "<Figure size 600x600 with 0 Axes>"
      ]
     },
     "metadata": {},
     "output_type": "display_data"
    },
    {
     "data": {
      "text/plain": [
       "<Figure size 1800x900 with 0 Axes>"
      ]
     },
     "metadata": {},
     "output_type": "display_data"
    },
    {
     "data": {
      "text/plain": [
       "<Figure size 600x600 with 0 Axes>"
      ]
     },
     "metadata": {},
     "output_type": "display_data"
    },
    {
     "data": {
      "text/plain": [
       "<Figure size 1800x900 with 0 Axes>"
      ]
     },
     "metadata": {},
     "output_type": "display_data"
    },
    {
     "data": {
      "text/plain": [
       "<Figure size 600x600 with 0 Axes>"
      ]
     },
     "metadata": {},
     "output_type": "display_data"
    },
    {
     "data": {
      "text/plain": [
       "<Figure size 1800x900 with 0 Axes>"
      ]
     },
     "metadata": {},
     "output_type": "display_data"
    },
    {
     "data": {
      "text/plain": [
       "<Figure size 600x600 with 0 Axes>"
      ]
     },
     "metadata": {},
     "output_type": "display_data"
    },
    {
     "data": {
      "text/plain": [
       "<Figure size 1800x900 with 0 Axes>"
      ]
     },
     "metadata": {},
     "output_type": "display_data"
    },
    {
     "data": {
      "text/plain": [
       "<Figure size 600x600 with 0 Axes>"
      ]
     },
     "metadata": {},
     "output_type": "display_data"
    },
    {
     "data": {
      "text/plain": [
       "<Figure size 1800x900 with 0 Axes>"
      ]
     },
     "metadata": {},
     "output_type": "display_data"
    },
    {
     "data": {
      "text/plain": [
       "<Figure size 600x600 with 0 Axes>"
      ]
     },
     "metadata": {},
     "output_type": "display_data"
    },
    {
     "data": {
      "text/plain": [
       "<Figure size 1800x900 with 0 Axes>"
      ]
     },
     "metadata": {},
     "output_type": "display_data"
    },
    {
     "data": {
      "text/plain": [
       "<Figure size 600x600 with 0 Axes>"
      ]
     },
     "metadata": {},
     "output_type": "display_data"
    },
    {
     "data": {
      "text/plain": [
       "<Figure size 1800x900 with 0 Axes>"
      ]
     },
     "metadata": {},
     "output_type": "display_data"
    },
    {
     "data": {
      "text/plain": [
       "<Figure size 600x600 with 0 Axes>"
      ]
     },
     "metadata": {},
     "output_type": "display_data"
    },
    {
     "data": {
      "text/plain": [
       "<Figure size 1800x900 with 0 Axes>"
      ]
     },
     "metadata": {},
     "output_type": "display_data"
    },
    {
     "data": {
      "text/plain": [
       "<Figure size 600x600 with 0 Axes>"
      ]
     },
     "metadata": {},
     "output_type": "display_data"
    },
    {
     "data": {
      "text/plain": [
       "<Figure size 1800x900 with 0 Axes>"
      ]
     },
     "metadata": {},
     "output_type": "display_data"
    },
    {
     "data": {
      "text/plain": [
       "<Figure size 600x600 with 0 Axes>"
      ]
     },
     "metadata": {},
     "output_type": "display_data"
    },
    {
     "data": {
      "text/plain": [
       "<Figure size 1800x900 with 0 Axes>"
      ]
     },
     "metadata": {},
     "output_type": "display_data"
    },
    {
     "data": {
      "text/plain": [
       "<Figure size 600x600 with 0 Axes>"
      ]
     },
     "metadata": {},
     "output_type": "display_data"
    },
    {
     "data": {
      "text/plain": [
       "<Figure size 1800x900 with 0 Axes>"
      ]
     },
     "metadata": {},
     "output_type": "display_data"
    },
    {
     "data": {
      "text/plain": [
       "<Figure size 600x600 with 0 Axes>"
      ]
     },
     "metadata": {},
     "output_type": "display_data"
    },
    {
     "data": {
      "text/plain": [
       "<Figure size 1800x900 with 0 Axes>"
      ]
     },
     "metadata": {},
     "output_type": "display_data"
    },
    {
     "data": {
      "text/plain": [
       "<Figure size 600x600 with 0 Axes>"
      ]
     },
     "metadata": {},
     "output_type": "display_data"
    },
    {
     "data": {
      "text/plain": [
       "<Figure size 1800x900 with 0 Axes>"
      ]
     },
     "metadata": {},
     "output_type": "display_data"
    },
    {
     "data": {
      "text/plain": [
       "<Figure size 600x600 with 0 Axes>"
      ]
     },
     "metadata": {},
     "output_type": "display_data"
    },
    {
     "data": {
      "text/plain": [
       "<Figure size 1800x900 with 0 Axes>"
      ]
     },
     "metadata": {},
     "output_type": "display_data"
    },
    {
     "data": {
      "text/plain": [
       "<Figure size 600x600 with 0 Axes>"
      ]
     },
     "metadata": {},
     "output_type": "display_data"
    },
    {
     "data": {
      "text/plain": [
       "<Figure size 1800x900 with 0 Axes>"
      ]
     },
     "metadata": {},
     "output_type": "display_data"
    },
    {
     "data": {
      "text/plain": [
       "<Figure size 600x600 with 0 Axes>"
      ]
     },
     "metadata": {},
     "output_type": "display_data"
    },
    {
     "data": {
      "text/plain": [
       "<Figure size 1800x900 with 0 Axes>"
      ]
     },
     "metadata": {},
     "output_type": "display_data"
    },
    {
     "data": {
      "text/plain": [
       "<Figure size 600x600 with 0 Axes>"
      ]
     },
     "metadata": {},
     "output_type": "display_data"
    },
    {
     "data": {
      "text/plain": [
       "<Figure size 1800x900 with 0 Axes>"
      ]
     },
     "metadata": {},
     "output_type": "display_data"
    },
    {
     "data": {
      "text/plain": [
       "<Figure size 600x600 with 0 Axes>"
      ]
     },
     "metadata": {},
     "output_type": "display_data"
    },
    {
     "data": {
      "text/plain": [
       "<Figure size 1800x900 with 0 Axes>"
      ]
     },
     "metadata": {},
     "output_type": "display_data"
    },
    {
     "data": {
      "text/plain": [
       "<Figure size 600x600 with 0 Axes>"
      ]
     },
     "metadata": {},
     "output_type": "display_data"
    },
    {
     "data": {
      "text/plain": [
       "<Figure size 1800x900 with 0 Axes>"
      ]
     },
     "metadata": {},
     "output_type": "display_data"
    },
    {
     "data": {
      "text/plain": [
       "<Figure size 600x600 with 0 Axes>"
      ]
     },
     "metadata": {},
     "output_type": "display_data"
    },
    {
     "data": {
      "text/plain": [
       "<Figure size 1800x900 with 0 Axes>"
      ]
     },
     "metadata": {},
     "output_type": "display_data"
    },
    {
     "data": {
      "text/plain": [
       "<Figure size 600x600 with 0 Axes>"
      ]
     },
     "metadata": {},
     "output_type": "display_data"
    },
    {
     "data": {
      "text/plain": [
       "<Figure size 1800x900 with 0 Axes>"
      ]
     },
     "metadata": {},
     "output_type": "display_data"
    },
    {
     "data": {
      "text/plain": [
       "<Figure size 600x600 with 0 Axes>"
      ]
     },
     "metadata": {},
     "output_type": "display_data"
    },
    {
     "data": {
      "text/plain": [
       "<Figure size 1800x900 with 0 Axes>"
      ]
     },
     "metadata": {},
     "output_type": "display_data"
    },
    {
     "data": {
      "text/plain": [
       "<Figure size 600x600 with 0 Axes>"
      ]
     },
     "metadata": {},
     "output_type": "display_data"
    },
    {
     "data": {
      "text/plain": [
       "<Figure size 1800x900 with 0 Axes>"
      ]
     },
     "metadata": {},
     "output_type": "display_data"
    },
    {
     "data": {
      "text/plain": [
       "<Figure size 600x600 with 0 Axes>"
      ]
     },
     "metadata": {},
     "output_type": "display_data"
    },
    {
     "data": {
      "text/plain": [
       "<Figure size 1800x900 with 0 Axes>"
      ]
     },
     "metadata": {},
     "output_type": "display_data"
    },
    {
     "data": {
      "text/plain": [
       "<Figure size 600x600 with 0 Axes>"
      ]
     },
     "metadata": {},
     "output_type": "display_data"
    },
    {
     "data": {
      "text/plain": [
       "<Figure size 1800x900 with 0 Axes>"
      ]
     },
     "metadata": {},
     "output_type": "display_data"
    },
    {
     "data": {
      "text/plain": [
       "<Figure size 600x600 with 0 Axes>"
      ]
     },
     "metadata": {},
     "output_type": "display_data"
    },
    {
     "data": {
      "text/plain": [
       "<Figure size 1800x900 with 0 Axes>"
      ]
     },
     "metadata": {},
     "output_type": "display_data"
    },
    {
     "data": {
      "text/plain": [
       "<Figure size 600x600 with 0 Axes>"
      ]
     },
     "metadata": {},
     "output_type": "display_data"
    },
    {
     "data": {
      "text/plain": [
       "<Figure size 1800x900 with 0 Axes>"
      ]
     },
     "metadata": {},
     "output_type": "display_data"
    },
    {
     "data": {
      "text/plain": [
       "<Figure size 600x600 with 0 Axes>"
      ]
     },
     "metadata": {},
     "output_type": "display_data"
    },
    {
     "data": {
      "text/plain": [
       "<Figure size 1800x900 with 0 Axes>"
      ]
     },
     "metadata": {},
     "output_type": "display_data"
    },
    {
     "data": {
      "text/plain": [
       "<Figure size 600x600 with 0 Axes>"
      ]
     },
     "metadata": {},
     "output_type": "display_data"
    },
    {
     "data": {
      "text/plain": [
       "<Figure size 1800x900 with 0 Axes>"
      ]
     },
     "metadata": {},
     "output_type": "display_data"
    },
    {
     "data": {
      "text/plain": [
       "<Figure size 600x600 with 0 Axes>"
      ]
     },
     "metadata": {},
     "output_type": "display_data"
    },
    {
     "data": {
      "text/plain": [
       "<Figure size 1800x900 with 0 Axes>"
      ]
     },
     "metadata": {},
     "output_type": "display_data"
    },
    {
     "data": {
      "text/plain": [
       "<Figure size 600x600 with 0 Axes>"
      ]
     },
     "metadata": {},
     "output_type": "display_data"
    },
    {
     "data": {
      "text/plain": [
       "<Figure size 1800x900 with 0 Axes>"
      ]
     },
     "metadata": {},
     "output_type": "display_data"
    },
    {
     "data": {
      "text/plain": [
       "<Figure size 600x600 with 0 Axes>"
      ]
     },
     "metadata": {},
     "output_type": "display_data"
    },
    {
     "data": {
      "text/plain": [
       "<Figure size 1800x900 with 0 Axes>"
      ]
     },
     "metadata": {},
     "output_type": "display_data"
    },
    {
     "data": {
      "text/plain": [
       "<Figure size 600x600 with 0 Axes>"
      ]
     },
     "metadata": {},
     "output_type": "display_data"
    },
    {
     "data": {
      "text/plain": [
       "<Figure size 1800x900 with 0 Axes>"
      ]
     },
     "metadata": {},
     "output_type": "display_data"
    },
    {
     "data": {
      "text/plain": [
       "<Figure size 600x600 with 0 Axes>"
      ]
     },
     "metadata": {},
     "output_type": "display_data"
    },
    {
     "data": {
      "text/plain": [
       "<Figure size 1800x900 with 0 Axes>"
      ]
     },
     "metadata": {},
     "output_type": "display_data"
    },
    {
     "data": {
      "text/plain": [
       "<Figure size 600x600 with 0 Axes>"
      ]
     },
     "metadata": {},
     "output_type": "display_data"
    },
    {
     "data": {
      "text/plain": [
       "<Figure size 1800x900 with 0 Axes>"
      ]
     },
     "metadata": {},
     "output_type": "display_data"
    },
    {
     "data": {
      "text/plain": [
       "<Figure size 600x600 with 0 Axes>"
      ]
     },
     "metadata": {},
     "output_type": "display_data"
    },
    {
     "data": {
      "text/plain": [
       "<Figure size 1800x900 with 0 Axes>"
      ]
     },
     "metadata": {},
     "output_type": "display_data"
    },
    {
     "data": {
      "text/plain": [
       "<Figure size 600x600 with 0 Axes>"
      ]
     },
     "metadata": {},
     "output_type": "display_data"
    },
    {
     "data": {
      "text/plain": [
       "<Figure size 1800x900 with 0 Axes>"
      ]
     },
     "metadata": {},
     "output_type": "display_data"
    },
    {
     "data": {
      "text/plain": [
       "<Figure size 600x600 with 0 Axes>"
      ]
     },
     "metadata": {},
     "output_type": "display_data"
    },
    {
     "data": {
      "text/plain": [
       "<Figure size 1800x900 with 0 Axes>"
      ]
     },
     "metadata": {},
     "output_type": "display_data"
    },
    {
     "data": {
      "text/plain": [
       "<Figure size 600x600 with 0 Axes>"
      ]
     },
     "metadata": {},
     "output_type": "display_data"
    },
    {
     "data": {
      "text/plain": [
       "<Figure size 1800x900 with 0 Axes>"
      ]
     },
     "metadata": {},
     "output_type": "display_data"
    },
    {
     "data": {
      "text/plain": [
       "<Figure size 600x600 with 0 Axes>"
      ]
     },
     "metadata": {},
     "output_type": "display_data"
    },
    {
     "data": {
      "text/plain": [
       "<Figure size 1800x900 with 0 Axes>"
      ]
     },
     "metadata": {},
     "output_type": "display_data"
    },
    {
     "data": {
      "text/plain": [
       "<Figure size 600x600 with 0 Axes>"
      ]
     },
     "metadata": {},
     "output_type": "display_data"
    },
    {
     "data": {
      "text/plain": [
       "<Figure size 1800x900 with 0 Axes>"
      ]
     },
     "metadata": {},
     "output_type": "display_data"
    },
    {
     "data": {
      "text/plain": [
       "<Figure size 600x600 with 0 Axes>"
      ]
     },
     "metadata": {},
     "output_type": "display_data"
    },
    {
     "data": {
      "text/plain": [
       "<Figure size 1800x900 with 0 Axes>"
      ]
     },
     "metadata": {},
     "output_type": "display_data"
    },
    {
     "data": {
      "text/plain": [
       "<Figure size 600x600 with 0 Axes>"
      ]
     },
     "metadata": {},
     "output_type": "display_data"
    },
    {
     "data": {
      "text/plain": [
       "<Figure size 1800x900 with 0 Axes>"
      ]
     },
     "metadata": {},
     "output_type": "display_data"
    },
    {
     "data": {
      "text/plain": [
       "<Figure size 600x600 with 0 Axes>"
      ]
     },
     "metadata": {},
     "output_type": "display_data"
    },
    {
     "data": {
      "text/plain": [
       "<Figure size 1800x900 with 0 Axes>"
      ]
     },
     "metadata": {},
     "output_type": "display_data"
    },
    {
     "data": {
      "text/plain": [
       "<Figure size 600x600 with 0 Axes>"
      ]
     },
     "metadata": {},
     "output_type": "display_data"
    },
    {
     "data": {
      "text/plain": [
       "<Figure size 1800x900 with 0 Axes>"
      ]
     },
     "metadata": {},
     "output_type": "display_data"
    },
    {
     "data": {
      "text/plain": [
       "<Figure size 600x600 with 0 Axes>"
      ]
     },
     "metadata": {},
     "output_type": "display_data"
    },
    {
     "data": {
      "text/plain": [
       "<Figure size 1800x900 with 0 Axes>"
      ]
     },
     "metadata": {},
     "output_type": "display_data"
    },
    {
     "data": {
      "text/plain": [
       "<Figure size 600x600 with 0 Axes>"
      ]
     },
     "metadata": {},
     "output_type": "display_data"
    },
    {
     "data": {
      "text/plain": [
       "<Figure size 1800x900 with 0 Axes>"
      ]
     },
     "metadata": {},
     "output_type": "display_data"
    },
    {
     "data": {
      "text/plain": [
       "<Figure size 600x600 with 0 Axes>"
      ]
     },
     "metadata": {},
     "output_type": "display_data"
    },
    {
     "data": {
      "text/plain": [
       "<Figure size 1800x900 with 0 Axes>"
      ]
     },
     "metadata": {},
     "output_type": "display_data"
    },
    {
     "data": {
      "text/plain": [
       "<Figure size 600x600 with 0 Axes>"
      ]
     },
     "metadata": {},
     "output_type": "display_data"
    },
    {
     "data": {
      "text/plain": [
       "<Figure size 1800x900 with 0 Axes>"
      ]
     },
     "metadata": {},
     "output_type": "display_data"
    },
    {
     "data": {
      "text/plain": [
       "<Figure size 600x600 with 0 Axes>"
      ]
     },
     "metadata": {},
     "output_type": "display_data"
    },
    {
     "data": {
      "text/plain": [
       "<Figure size 1800x900 with 0 Axes>"
      ]
     },
     "metadata": {},
     "output_type": "display_data"
    },
    {
     "data": {
      "text/plain": [
       "<Figure size 600x600 with 0 Axes>"
      ]
     },
     "metadata": {},
     "output_type": "display_data"
    },
    {
     "data": {
      "text/plain": [
       "<Figure size 1800x900 with 0 Axes>"
      ]
     },
     "metadata": {},
     "output_type": "display_data"
    },
    {
     "data": {
      "text/plain": [
       "<Figure size 600x600 with 0 Axes>"
      ]
     },
     "metadata": {},
     "output_type": "display_data"
    },
    {
     "data": {
      "text/plain": [
       "<Figure size 1800x900 with 0 Axes>"
      ]
     },
     "metadata": {},
     "output_type": "display_data"
    },
    {
     "data": {
      "text/plain": [
       "<Figure size 600x600 with 0 Axes>"
      ]
     },
     "metadata": {},
     "output_type": "display_data"
    },
    {
     "data": {
      "text/plain": [
       "<Figure size 1800x900 with 0 Axes>"
      ]
     },
     "metadata": {},
     "output_type": "display_data"
    },
    {
     "data": {
      "text/plain": [
       "<Figure size 600x600 with 0 Axes>"
      ]
     },
     "metadata": {},
     "output_type": "display_data"
    },
    {
     "data": {
      "text/plain": [
       "<Figure size 1800x900 with 0 Axes>"
      ]
     },
     "metadata": {},
     "output_type": "display_data"
    },
    {
     "data": {
      "text/plain": [
       "<Figure size 600x600 with 0 Axes>"
      ]
     },
     "metadata": {},
     "output_type": "display_data"
    },
    {
     "data": {
      "text/plain": [
       "<Figure size 1800x900 with 0 Axes>"
      ]
     },
     "metadata": {},
     "output_type": "display_data"
    },
    {
     "data": {
      "text/plain": [
       "<Figure size 600x600 with 0 Axes>"
      ]
     },
     "metadata": {},
     "output_type": "display_data"
    },
    {
     "data": {
      "text/plain": [
       "<Figure size 1800x900 with 0 Axes>"
      ]
     },
     "metadata": {},
     "output_type": "display_data"
    },
    {
     "data": {
      "text/plain": [
       "<Figure size 600x600 with 0 Axes>"
      ]
     },
     "metadata": {},
     "output_type": "display_data"
    },
    {
     "data": {
      "text/plain": [
       "<Figure size 1800x900 with 0 Axes>"
      ]
     },
     "metadata": {},
     "output_type": "display_data"
    },
    {
     "data": {
      "text/plain": [
       "<Figure size 600x600 with 0 Axes>"
      ]
     },
     "metadata": {},
     "output_type": "display_data"
    },
    {
     "data": {
      "text/plain": [
       "<Figure size 1800x900 with 0 Axes>"
      ]
     },
     "metadata": {},
     "output_type": "display_data"
    },
    {
     "data": {
      "text/plain": [
       "<Figure size 600x600 with 0 Axes>"
      ]
     },
     "metadata": {},
     "output_type": "display_data"
    },
    {
     "data": {
      "text/plain": [
       "<Figure size 1800x900 with 0 Axes>"
      ]
     },
     "metadata": {},
     "output_type": "display_data"
    },
    {
     "data": {
      "text/plain": [
       "<Figure size 600x600 with 0 Axes>"
      ]
     },
     "metadata": {},
     "output_type": "display_data"
    },
    {
     "data": {
      "text/plain": [
       "<Figure size 1800x900 with 0 Axes>"
      ]
     },
     "metadata": {},
     "output_type": "display_data"
    },
    {
     "data": {
      "text/plain": [
       "<Figure size 600x600 with 0 Axes>"
      ]
     },
     "metadata": {},
     "output_type": "display_data"
    },
    {
     "data": {
      "text/plain": [
       "<Figure size 1800x900 with 0 Axes>"
      ]
     },
     "metadata": {},
     "output_type": "display_data"
    },
    {
     "data": {
      "text/plain": [
       "<Figure size 600x600 with 0 Axes>"
      ]
     },
     "metadata": {},
     "output_type": "display_data"
    },
    {
     "data": {
      "text/plain": [
       "<Figure size 1800x900 with 0 Axes>"
      ]
     },
     "metadata": {},
     "output_type": "display_data"
    },
    {
     "data": {
      "text/plain": [
       "<Figure size 600x600 with 0 Axes>"
      ]
     },
     "metadata": {},
     "output_type": "display_data"
    },
    {
     "data": {
      "text/plain": [
       "<Figure size 1800x900 with 0 Axes>"
      ]
     },
     "metadata": {},
     "output_type": "display_data"
    },
    {
     "data": {
      "text/plain": [
       "<Figure size 600x600 with 0 Axes>"
      ]
     },
     "metadata": {},
     "output_type": "display_data"
    },
    {
     "data": {
      "text/plain": [
       "<Figure size 1800x900 with 0 Axes>"
      ]
     },
     "metadata": {},
     "output_type": "display_data"
    },
    {
     "data": {
      "text/plain": [
       "<Figure size 600x600 with 0 Axes>"
      ]
     },
     "metadata": {},
     "output_type": "display_data"
    },
    {
     "data": {
      "text/plain": [
       "<Figure size 1800x900 with 0 Axes>"
      ]
     },
     "metadata": {},
     "output_type": "display_data"
    },
    {
     "data": {
      "text/plain": [
       "<Figure size 600x600 with 0 Axes>"
      ]
     },
     "metadata": {},
     "output_type": "display_data"
    },
    {
     "data": {
      "text/plain": [
       "<Figure size 1800x900 with 0 Axes>"
      ]
     },
     "metadata": {},
     "output_type": "display_data"
    },
    {
     "data": {
      "text/plain": [
       "<Figure size 600x600 with 0 Axes>"
      ]
     },
     "metadata": {},
     "output_type": "display_data"
    },
    {
     "data": {
      "text/plain": [
       "<Figure size 1800x900 with 0 Axes>"
      ]
     },
     "metadata": {},
     "output_type": "display_data"
    },
    {
     "data": {
      "text/plain": [
       "<Figure size 600x600 with 0 Axes>"
      ]
     },
     "metadata": {},
     "output_type": "display_data"
    },
    {
     "data": {
      "text/plain": [
       "<Figure size 1800x900 with 0 Axes>"
      ]
     },
     "metadata": {},
     "output_type": "display_data"
    },
    {
     "data": {
      "text/plain": [
       "<Figure size 600x600 with 0 Axes>"
      ]
     },
     "metadata": {},
     "output_type": "display_data"
    },
    {
     "data": {
      "text/plain": [
       "<Figure size 1800x900 with 0 Axes>"
      ]
     },
     "metadata": {},
     "output_type": "display_data"
    },
    {
     "data": {
      "text/plain": [
       "<Figure size 600x600 with 0 Axes>"
      ]
     },
     "metadata": {},
     "output_type": "display_data"
    },
    {
     "data": {
      "text/plain": [
       "<Figure size 1800x900 with 0 Axes>"
      ]
     },
     "metadata": {},
     "output_type": "display_data"
    },
    {
     "data": {
      "text/plain": [
       "<Figure size 600x600 with 0 Axes>"
      ]
     },
     "metadata": {},
     "output_type": "display_data"
    },
    {
     "data": {
      "text/plain": [
       "<Figure size 1800x900 with 0 Axes>"
      ]
     },
     "metadata": {},
     "output_type": "display_data"
    },
    {
     "data": {
      "text/plain": [
       "<Figure size 600x600 with 0 Axes>"
      ]
     },
     "metadata": {},
     "output_type": "display_data"
    },
    {
     "data": {
      "text/plain": [
       "<Figure size 1800x900 with 0 Axes>"
      ]
     },
     "metadata": {},
     "output_type": "display_data"
    },
    {
     "data": {
      "text/plain": [
       "<Figure size 600x600 with 0 Axes>"
      ]
     },
     "metadata": {},
     "output_type": "display_data"
    },
    {
     "data": {
      "text/plain": [
       "<Figure size 1800x900 with 0 Axes>"
      ]
     },
     "metadata": {},
     "output_type": "display_data"
    },
    {
     "data": {
      "text/plain": [
       "<Figure size 600x600 with 0 Axes>"
      ]
     },
     "metadata": {},
     "output_type": "display_data"
    },
    {
     "data": {
      "text/plain": [
       "<Figure size 1800x900 with 0 Axes>"
      ]
     },
     "metadata": {},
     "output_type": "display_data"
    },
    {
     "data": {
      "text/plain": [
       "<Figure size 600x600 with 0 Axes>"
      ]
     },
     "metadata": {},
     "output_type": "display_data"
    },
    {
     "data": {
      "text/plain": [
       "<Figure size 1800x900 with 0 Axes>"
      ]
     },
     "metadata": {},
     "output_type": "display_data"
    },
    {
     "data": {
      "text/plain": [
       "<Figure size 600x600 with 0 Axes>"
      ]
     },
     "metadata": {},
     "output_type": "display_data"
    },
    {
     "data": {
      "text/plain": [
       "<Figure size 1800x900 with 0 Axes>"
      ]
     },
     "metadata": {},
     "output_type": "display_data"
    },
    {
     "data": {
      "text/plain": [
       "<Figure size 600x600 with 0 Axes>"
      ]
     },
     "metadata": {},
     "output_type": "display_data"
    },
    {
     "data": {
      "text/plain": [
       "<Figure size 1800x900 with 0 Axes>"
      ]
     },
     "metadata": {},
     "output_type": "display_data"
    },
    {
     "data": {
      "text/plain": [
       "<Figure size 600x600 with 0 Axes>"
      ]
     },
     "metadata": {},
     "output_type": "display_data"
    },
    {
     "data": {
      "text/plain": [
       "<Figure size 1800x900 with 0 Axes>"
      ]
     },
     "metadata": {},
     "output_type": "display_data"
    },
    {
     "data": {
      "text/plain": [
       "<Figure size 600x600 with 0 Axes>"
      ]
     },
     "metadata": {},
     "output_type": "display_data"
    },
    {
     "data": {
      "text/plain": [
       "<Figure size 1800x900 with 0 Axes>"
      ]
     },
     "metadata": {},
     "output_type": "display_data"
    },
    {
     "data": {
      "text/plain": [
       "<Figure size 600x600 with 0 Axes>"
      ]
     },
     "metadata": {},
     "output_type": "display_data"
    },
    {
     "data": {
      "text/plain": [
       "<Figure size 1800x900 with 0 Axes>"
      ]
     },
     "metadata": {},
     "output_type": "display_data"
    },
    {
     "data": {
      "text/plain": [
       "<Figure size 600x600 with 0 Axes>"
      ]
     },
     "metadata": {},
     "output_type": "display_data"
    },
    {
     "data": {
      "text/plain": [
       "<Figure size 1800x900 with 0 Axes>"
      ]
     },
     "metadata": {},
     "output_type": "display_data"
    },
    {
     "data": {
      "text/plain": [
       "<Figure size 600x600 with 0 Axes>"
      ]
     },
     "metadata": {},
     "output_type": "display_data"
    },
    {
     "data": {
      "text/plain": [
       "<Figure size 1800x900 with 0 Axes>"
      ]
     },
     "metadata": {},
     "output_type": "display_data"
    },
    {
     "data": {
      "text/plain": [
       "<Figure size 600x600 with 0 Axes>"
      ]
     },
     "metadata": {},
     "output_type": "display_data"
    },
    {
     "data": {
      "text/plain": [
       "<Figure size 1800x900 with 0 Axes>"
      ]
     },
     "metadata": {},
     "output_type": "display_data"
    },
    {
     "data": {
      "text/plain": [
       "<Figure size 600x600 with 0 Axes>"
      ]
     },
     "metadata": {},
     "output_type": "display_data"
    },
    {
     "data": {
      "text/plain": [
       "<Figure size 1800x900 with 0 Axes>"
      ]
     },
     "metadata": {},
     "output_type": "display_data"
    },
    {
     "data": {
      "text/plain": [
       "<Figure size 600x600 with 0 Axes>"
      ]
     },
     "metadata": {},
     "output_type": "display_data"
    },
    {
     "data": {
      "text/plain": [
       "<Figure size 1800x900 with 0 Axes>"
      ]
     },
     "metadata": {},
     "output_type": "display_data"
    },
    {
     "data": {
      "text/plain": [
       "<Figure size 600x600 with 0 Axes>"
      ]
     },
     "metadata": {},
     "output_type": "display_data"
    },
    {
     "data": {
      "text/plain": [
       "<Figure size 1800x900 with 0 Axes>"
      ]
     },
     "metadata": {},
     "output_type": "display_data"
    },
    {
     "data": {
      "text/plain": [
       "<Figure size 600x600 with 0 Axes>"
      ]
     },
     "metadata": {},
     "output_type": "display_data"
    },
    {
     "data": {
      "text/plain": [
       "<Figure size 1800x900 with 0 Axes>"
      ]
     },
     "metadata": {},
     "output_type": "display_data"
    },
    {
     "data": {
      "text/plain": [
       "<Figure size 600x600 with 0 Axes>"
      ]
     },
     "metadata": {},
     "output_type": "display_data"
    },
    {
     "data": {
      "text/plain": [
       "<Figure size 1800x900 with 0 Axes>"
      ]
     },
     "metadata": {},
     "output_type": "display_data"
    },
    {
     "data": {
      "text/plain": [
       "<Figure size 600x600 with 0 Axes>"
      ]
     },
     "metadata": {},
     "output_type": "display_data"
    },
    {
     "data": {
      "text/plain": [
       "<Figure size 1800x900 with 0 Axes>"
      ]
     },
     "metadata": {},
     "output_type": "display_data"
    },
    {
     "data": {
      "text/plain": [
       "<Figure size 600x600 with 0 Axes>"
      ]
     },
     "metadata": {},
     "output_type": "display_data"
    },
    {
     "data": {
      "text/plain": [
       "<Figure size 1800x900 with 0 Axes>"
      ]
     },
     "metadata": {},
     "output_type": "display_data"
    },
    {
     "data": {
      "text/plain": [
       "<Figure size 600x600 with 0 Axes>"
      ]
     },
     "metadata": {},
     "output_type": "display_data"
    },
    {
     "data": {
      "text/plain": [
       "<Figure size 1800x900 with 0 Axes>"
      ]
     },
     "metadata": {},
     "output_type": "display_data"
    },
    {
     "data": {
      "text/plain": [
       "<Figure size 600x600 with 0 Axes>"
      ]
     },
     "metadata": {},
     "output_type": "display_data"
    },
    {
     "data": {
      "text/plain": [
       "<Figure size 1800x900 with 0 Axes>"
      ]
     },
     "metadata": {},
     "output_type": "display_data"
    },
    {
     "data": {
      "text/plain": [
       "<Figure size 600x600 with 0 Axes>"
      ]
     },
     "metadata": {},
     "output_type": "display_data"
    },
    {
     "data": {
      "text/plain": [
       "<Figure size 1800x900 with 0 Axes>"
      ]
     },
     "metadata": {},
     "output_type": "display_data"
    },
    {
     "data": {
      "text/plain": [
       "<Figure size 600x600 with 0 Axes>"
      ]
     },
     "metadata": {},
     "output_type": "display_data"
    },
    {
     "data": {
      "text/plain": [
       "<Figure size 1800x900 with 0 Axes>"
      ]
     },
     "metadata": {},
     "output_type": "display_data"
    },
    {
     "data": {
      "text/plain": [
       "<Figure size 600x600 with 0 Axes>"
      ]
     },
     "metadata": {},
     "output_type": "display_data"
    },
    {
     "data": {
      "text/plain": [
       "<Figure size 1800x900 with 0 Axes>"
      ]
     },
     "metadata": {},
     "output_type": "display_data"
    },
    {
     "data": {
      "text/plain": [
       "<Figure size 600x600 with 0 Axes>"
      ]
     },
     "metadata": {},
     "output_type": "display_data"
    },
    {
     "data": {
      "text/plain": [
       "<Figure size 1800x900 with 0 Axes>"
      ]
     },
     "metadata": {},
     "output_type": "display_data"
    },
    {
     "data": {
      "text/plain": [
       "<Figure size 600x600 with 0 Axes>"
      ]
     },
     "metadata": {},
     "output_type": "display_data"
    },
    {
     "data": {
      "text/plain": [
       "<Figure size 1800x900 with 0 Axes>"
      ]
     },
     "metadata": {},
     "output_type": "display_data"
    },
    {
     "data": {
      "text/plain": [
       "<Figure size 600x600 with 0 Axes>"
      ]
     },
     "metadata": {},
     "output_type": "display_data"
    },
    {
     "data": {
      "text/plain": [
       "<Figure size 1800x900 with 0 Axes>"
      ]
     },
     "metadata": {},
     "output_type": "display_data"
    },
    {
     "data": {
      "text/plain": [
       "<Figure size 600x600 with 0 Axes>"
      ]
     },
     "metadata": {},
     "output_type": "display_data"
    },
    {
     "data": {
      "text/plain": [
       "<Figure size 1800x900 with 0 Axes>"
      ]
     },
     "metadata": {},
     "output_type": "display_data"
    },
    {
     "data": {
      "text/plain": [
       "<Figure size 600x600 with 0 Axes>"
      ]
     },
     "metadata": {},
     "output_type": "display_data"
    },
    {
     "data": {
      "text/plain": [
       "<Figure size 1800x900 with 0 Axes>"
      ]
     },
     "metadata": {},
     "output_type": "display_data"
    },
    {
     "data": {
      "text/plain": [
       "<Figure size 600x600 with 0 Axes>"
      ]
     },
     "metadata": {},
     "output_type": "display_data"
    },
    {
     "data": {
      "text/plain": [
       "<Figure size 1800x900 with 0 Axes>"
      ]
     },
     "metadata": {},
     "output_type": "display_data"
    },
    {
     "data": {
      "text/plain": [
       "<Figure size 600x600 with 0 Axes>"
      ]
     },
     "metadata": {},
     "output_type": "display_data"
    },
    {
     "data": {
      "text/plain": [
       "<Figure size 1800x900 with 0 Axes>"
      ]
     },
     "metadata": {},
     "output_type": "display_data"
    },
    {
     "data": {
      "text/plain": [
       "<Figure size 600x600 with 0 Axes>"
      ]
     },
     "metadata": {},
     "output_type": "display_data"
    },
    {
     "data": {
      "text/plain": [
       "<Figure size 1800x900 with 0 Axes>"
      ]
     },
     "metadata": {},
     "output_type": "display_data"
    },
    {
     "data": {
      "text/plain": [
       "<Figure size 600x600 with 0 Axes>"
      ]
     },
     "metadata": {},
     "output_type": "display_data"
    },
    {
     "data": {
      "text/plain": [
       "<Figure size 1800x900 with 0 Axes>"
      ]
     },
     "metadata": {},
     "output_type": "display_data"
    },
    {
     "data": {
      "text/plain": [
       "<Figure size 600x600 with 0 Axes>"
      ]
     },
     "metadata": {},
     "output_type": "display_data"
    },
    {
     "data": {
      "text/plain": [
       "<Figure size 1800x900 with 0 Axes>"
      ]
     },
     "metadata": {},
     "output_type": "display_data"
    },
    {
     "data": {
      "text/plain": [
       "<Figure size 600x600 with 0 Axes>"
      ]
     },
     "metadata": {},
     "output_type": "display_data"
    },
    {
     "data": {
      "text/plain": [
       "<Figure size 1800x900 with 0 Axes>"
      ]
     },
     "metadata": {},
     "output_type": "display_data"
    },
    {
     "data": {
      "text/plain": [
       "<Figure size 600x600 with 0 Axes>"
      ]
     },
     "metadata": {},
     "output_type": "display_data"
    },
    {
     "data": {
      "text/plain": [
       "<Figure size 1800x900 with 0 Axes>"
      ]
     },
     "metadata": {},
     "output_type": "display_data"
    },
    {
     "data": {
      "text/plain": [
       "<Figure size 600x600 with 0 Axes>"
      ]
     },
     "metadata": {},
     "output_type": "display_data"
    },
    {
     "data": {
      "text/plain": [
       "<Figure size 1800x900 with 0 Axes>"
      ]
     },
     "metadata": {},
     "output_type": "display_data"
    },
    {
     "data": {
      "text/plain": [
       "<Figure size 600x600 with 0 Axes>"
      ]
     },
     "metadata": {},
     "output_type": "display_data"
    },
    {
     "data": {
      "text/plain": [
       "<Figure size 1800x900 with 0 Axes>"
      ]
     },
     "metadata": {},
     "output_type": "display_data"
    },
    {
     "data": {
      "text/plain": [
       "<Figure size 600x600 with 0 Axes>"
      ]
     },
     "metadata": {},
     "output_type": "display_data"
    },
    {
     "data": {
      "text/plain": [
       "<Figure size 1800x900 with 0 Axes>"
      ]
     },
     "metadata": {},
     "output_type": "display_data"
    },
    {
     "data": {
      "text/plain": [
       "<Figure size 600x600 with 0 Axes>"
      ]
     },
     "metadata": {},
     "output_type": "display_data"
    },
    {
     "data": {
      "text/plain": [
       "<Figure size 1800x900 with 0 Axes>"
      ]
     },
     "metadata": {},
     "output_type": "display_data"
    },
    {
     "data": {
      "text/plain": [
       "<Figure size 600x600 with 0 Axes>"
      ]
     },
     "metadata": {},
     "output_type": "display_data"
    },
    {
     "data": {
      "text/plain": [
       "<Figure size 1800x900 with 0 Axes>"
      ]
     },
     "metadata": {},
     "output_type": "display_data"
    },
    {
     "data": {
      "text/plain": [
       "<Figure size 600x600 with 0 Axes>"
      ]
     },
     "metadata": {},
     "output_type": "display_data"
    },
    {
     "data": {
      "text/plain": [
       "<Figure size 1800x900 with 0 Axes>"
      ]
     },
     "metadata": {},
     "output_type": "display_data"
    },
    {
     "data": {
      "text/plain": [
       "<Figure size 600x600 with 0 Axes>"
      ]
     },
     "metadata": {},
     "output_type": "display_data"
    },
    {
     "data": {
      "text/plain": [
       "<Figure size 1800x900 with 0 Axes>"
      ]
     },
     "metadata": {},
     "output_type": "display_data"
    },
    {
     "data": {
      "text/plain": [
       "<Figure size 600x600 with 0 Axes>"
      ]
     },
     "metadata": {},
     "output_type": "display_data"
    },
    {
     "data": {
      "text/plain": [
       "<Figure size 1800x900 with 0 Axes>"
      ]
     },
     "metadata": {},
     "output_type": "display_data"
    },
    {
     "data": {
      "text/plain": [
       "<Figure size 600x600 with 0 Axes>"
      ]
     },
     "metadata": {},
     "output_type": "display_data"
    },
    {
     "data": {
      "text/plain": [
       "<Figure size 1800x900 with 0 Axes>"
      ]
     },
     "metadata": {},
     "output_type": "display_data"
    },
    {
     "data": {
      "text/plain": [
       "<Figure size 600x600 with 0 Axes>"
      ]
     },
     "metadata": {},
     "output_type": "display_data"
    },
    {
     "data": {
      "text/plain": [
       "<Figure size 1800x900 with 0 Axes>"
      ]
     },
     "metadata": {},
     "output_type": "display_data"
    },
    {
     "data": {
      "text/plain": [
       "<Figure size 600x600 with 0 Axes>"
      ]
     },
     "metadata": {},
     "output_type": "display_data"
    },
    {
     "data": {
      "text/plain": [
       "<Figure size 1800x900 with 0 Axes>"
      ]
     },
     "metadata": {},
     "output_type": "display_data"
    },
    {
     "data": {
      "text/plain": [
       "<Figure size 600x600 with 0 Axes>"
      ]
     },
     "metadata": {},
     "output_type": "display_data"
    },
    {
     "data": {
      "text/plain": [
       "<Figure size 1800x900 with 0 Axes>"
      ]
     },
     "metadata": {},
     "output_type": "display_data"
    },
    {
     "data": {
      "text/plain": [
       "<Figure size 600x600 with 0 Axes>"
      ]
     },
     "metadata": {},
     "output_type": "display_data"
    },
    {
     "data": {
      "text/plain": [
       "<Figure size 1800x900 with 0 Axes>"
      ]
     },
     "metadata": {},
     "output_type": "display_data"
    },
    {
     "data": {
      "text/plain": [
       "<Figure size 600x600 with 0 Axes>"
      ]
     },
     "metadata": {},
     "output_type": "display_data"
    },
    {
     "data": {
      "text/plain": [
       "<Figure size 1800x900 with 0 Axes>"
      ]
     },
     "metadata": {},
     "output_type": "display_data"
    },
    {
     "data": {
      "text/plain": [
       "<Figure size 600x600 with 0 Axes>"
      ]
     },
     "metadata": {},
     "output_type": "display_data"
    },
    {
     "data": {
      "text/plain": [
       "<Figure size 1800x900 with 0 Axes>"
      ]
     },
     "metadata": {},
     "output_type": "display_data"
    },
    {
     "data": {
      "text/plain": [
       "<Figure size 600x600 with 0 Axes>"
      ]
     },
     "metadata": {},
     "output_type": "display_data"
    },
    {
     "data": {
      "text/plain": [
       "<Figure size 1800x900 with 0 Axes>"
      ]
     },
     "metadata": {},
     "output_type": "display_data"
    },
    {
     "data": {
      "text/plain": [
       "<Figure size 600x600 with 0 Axes>"
      ]
     },
     "metadata": {},
     "output_type": "display_data"
    },
    {
     "data": {
      "text/plain": [
       "<Figure size 1800x900 with 0 Axes>"
      ]
     },
     "metadata": {},
     "output_type": "display_data"
    },
    {
     "data": {
      "text/plain": [
       "<Figure size 600x600 with 0 Axes>"
      ]
     },
     "metadata": {},
     "output_type": "display_data"
    },
    {
     "data": {
      "text/plain": [
       "<Figure size 1800x900 with 0 Axes>"
      ]
     },
     "metadata": {},
     "output_type": "display_data"
    },
    {
     "data": {
      "text/plain": [
       "<Figure size 600x600 with 0 Axes>"
      ]
     },
     "metadata": {},
     "output_type": "display_data"
    },
    {
     "data": {
      "text/plain": [
       "<Figure size 1800x900 with 0 Axes>"
      ]
     },
     "metadata": {},
     "output_type": "display_data"
    },
    {
     "data": {
      "text/plain": [
       "<Figure size 600x600 with 0 Axes>"
      ]
     },
     "metadata": {},
     "output_type": "display_data"
    },
    {
     "data": {
      "text/plain": [
       "<Figure size 1800x900 with 0 Axes>"
      ]
     },
     "metadata": {},
     "output_type": "display_data"
    },
    {
     "data": {
      "text/plain": [
       "<Figure size 600x600 with 0 Axes>"
      ]
     },
     "metadata": {},
     "output_type": "display_data"
    },
    {
     "data": {
      "text/plain": [
       "<Figure size 1800x900 with 0 Axes>"
      ]
     },
     "metadata": {},
     "output_type": "display_data"
    },
    {
     "data": {
      "text/plain": [
       "<Figure size 600x600 with 0 Axes>"
      ]
     },
     "metadata": {},
     "output_type": "display_data"
    },
    {
     "data": {
      "text/plain": [
       "<Figure size 1800x900 with 0 Axes>"
      ]
     },
     "metadata": {},
     "output_type": "display_data"
    },
    {
     "data": {
      "text/plain": [
       "<Figure size 600x600 with 0 Axes>"
      ]
     },
     "metadata": {},
     "output_type": "display_data"
    },
    {
     "data": {
      "text/plain": [
       "<Figure size 1800x900 with 0 Axes>"
      ]
     },
     "metadata": {},
     "output_type": "display_data"
    },
    {
     "data": {
      "text/plain": [
       "<Figure size 600x600 with 0 Axes>"
      ]
     },
     "metadata": {},
     "output_type": "display_data"
    },
    {
     "data": {
      "text/plain": [
       "<Figure size 1800x900 with 0 Axes>"
      ]
     },
     "metadata": {},
     "output_type": "display_data"
    },
    {
     "data": {
      "text/plain": [
       "<Figure size 600x600 with 0 Axes>"
      ]
     },
     "metadata": {},
     "output_type": "display_data"
    },
    {
     "data": {
      "text/plain": [
       "<Figure size 1800x900 with 0 Axes>"
      ]
     },
     "metadata": {},
     "output_type": "display_data"
    },
    {
     "data": {
      "text/plain": [
       "<Figure size 600x600 with 0 Axes>"
      ]
     },
     "metadata": {},
     "output_type": "display_data"
    },
    {
     "data": {
      "text/plain": [
       "<Figure size 1800x900 with 0 Axes>"
      ]
     },
     "metadata": {},
     "output_type": "display_data"
    },
    {
     "data": {
      "text/plain": [
       "<Figure size 600x600 with 0 Axes>"
      ]
     },
     "metadata": {},
     "output_type": "display_data"
    },
    {
     "data": {
      "text/plain": [
       "<Figure size 1800x900 with 0 Axes>"
      ]
     },
     "metadata": {},
     "output_type": "display_data"
    },
    {
     "data": {
      "text/plain": [
       "<Figure size 600x600 with 0 Axes>"
      ]
     },
     "metadata": {},
     "output_type": "display_data"
    },
    {
     "data": {
      "text/plain": [
       "<Figure size 1800x900 with 0 Axes>"
      ]
     },
     "metadata": {},
     "output_type": "display_data"
    },
    {
     "data": {
      "text/plain": [
       "<Figure size 600x600 with 0 Axes>"
      ]
     },
     "metadata": {},
     "output_type": "display_data"
    },
    {
     "data": {
      "text/plain": [
       "<Figure size 1800x900 with 0 Axes>"
      ]
     },
     "metadata": {},
     "output_type": "display_data"
    },
    {
     "data": {
      "text/plain": [
       "<Figure size 600x600 with 0 Axes>"
      ]
     },
     "metadata": {},
     "output_type": "display_data"
    },
    {
     "data": {
      "text/plain": [
       "<Figure size 1800x900 with 0 Axes>"
      ]
     },
     "metadata": {},
     "output_type": "display_data"
    },
    {
     "data": {
      "text/plain": [
       "<Figure size 600x600 with 0 Axes>"
      ]
     },
     "metadata": {},
     "output_type": "display_data"
    },
    {
     "data": {
      "text/plain": [
       "<Figure size 1800x900 with 0 Axes>"
      ]
     },
     "metadata": {},
     "output_type": "display_data"
    },
    {
     "data": {
      "text/plain": [
       "<Figure size 600x600 with 0 Axes>"
      ]
     },
     "metadata": {},
     "output_type": "display_data"
    },
    {
     "data": {
      "text/plain": [
       "<Figure size 1800x900 with 0 Axes>"
      ]
     },
     "metadata": {},
     "output_type": "display_data"
    },
    {
     "data": {
      "text/plain": [
       "<Figure size 600x600 with 0 Axes>"
      ]
     },
     "metadata": {},
     "output_type": "display_data"
    },
    {
     "data": {
      "text/plain": [
       "<Figure size 1800x900 with 0 Axes>"
      ]
     },
     "metadata": {},
     "output_type": "display_data"
    },
    {
     "data": {
      "text/plain": [
       "<Figure size 600x600 with 0 Axes>"
      ]
     },
     "metadata": {},
     "output_type": "display_data"
    },
    {
     "data": {
      "text/plain": [
       "<Figure size 1800x900 with 0 Axes>"
      ]
     },
     "metadata": {},
     "output_type": "display_data"
    },
    {
     "data": {
      "text/plain": [
       "<Figure size 600x600 with 0 Axes>"
      ]
     },
     "metadata": {},
     "output_type": "display_data"
    },
    {
     "data": {
      "text/plain": [
       "<Figure size 1800x900 with 0 Axes>"
      ]
     },
     "metadata": {},
     "output_type": "display_data"
    },
    {
     "data": {
      "text/plain": [
       "<Figure size 600x600 with 0 Axes>"
      ]
     },
     "metadata": {},
     "output_type": "display_data"
    },
    {
     "data": {
      "text/plain": [
       "<Figure size 1800x900 with 0 Axes>"
      ]
     },
     "metadata": {},
     "output_type": "display_data"
    },
    {
     "data": {
      "text/plain": [
       "<Figure size 600x600 with 0 Axes>"
      ]
     },
     "metadata": {},
     "output_type": "display_data"
    },
    {
     "data": {
      "text/plain": [
       "<Figure size 1800x900 with 0 Axes>"
      ]
     },
     "metadata": {},
     "output_type": "display_data"
    },
    {
     "data": {
      "text/plain": [
       "<Figure size 600x600 with 0 Axes>"
      ]
     },
     "metadata": {},
     "output_type": "display_data"
    },
    {
     "data": {
      "text/plain": [
       "<Figure size 1800x900 with 0 Axes>"
      ]
     },
     "metadata": {},
     "output_type": "display_data"
    },
    {
     "data": {
      "text/plain": [
       "<Figure size 600x600 with 0 Axes>"
      ]
     },
     "metadata": {},
     "output_type": "display_data"
    },
    {
     "data": {
      "text/plain": [
       "<Figure size 1800x900 with 0 Axes>"
      ]
     },
     "metadata": {},
     "output_type": "display_data"
    },
    {
     "data": {
      "text/plain": [
       "<Figure size 600x600 with 0 Axes>"
      ]
     },
     "metadata": {},
     "output_type": "display_data"
    },
    {
     "data": {
      "text/plain": [
       "<Figure size 1800x900 with 0 Axes>"
      ]
     },
     "metadata": {},
     "output_type": "display_data"
    },
    {
     "data": {
      "text/plain": [
       "<Figure size 600x600 with 0 Axes>"
      ]
     },
     "metadata": {},
     "output_type": "display_data"
    },
    {
     "data": {
      "text/plain": [
       "<Figure size 1800x900 with 0 Axes>"
      ]
     },
     "metadata": {},
     "output_type": "display_data"
    },
    {
     "data": {
      "text/plain": [
       "<Figure size 600x600 with 0 Axes>"
      ]
     },
     "metadata": {},
     "output_type": "display_data"
    },
    {
     "data": {
      "text/plain": [
       "<Figure size 1800x900 with 0 Axes>"
      ]
     },
     "metadata": {},
     "output_type": "display_data"
    },
    {
     "data": {
      "text/plain": [
       "<Figure size 600x600 with 0 Axes>"
      ]
     },
     "metadata": {},
     "output_type": "display_data"
    },
    {
     "data": {
      "text/plain": [
       "<Figure size 1800x900 with 0 Axes>"
      ]
     },
     "metadata": {},
     "output_type": "display_data"
    },
    {
     "data": {
      "text/plain": [
       "<Figure size 600x600 with 0 Axes>"
      ]
     },
     "metadata": {},
     "output_type": "display_data"
    },
    {
     "data": {
      "text/plain": [
       "<Figure size 1800x900 with 0 Axes>"
      ]
     },
     "metadata": {},
     "output_type": "display_data"
    },
    {
     "data": {
      "text/plain": [
       "<Figure size 600x600 with 0 Axes>"
      ]
     },
     "metadata": {},
     "output_type": "display_data"
    },
    {
     "data": {
      "text/plain": [
       "<Figure size 1800x900 with 0 Axes>"
      ]
     },
     "metadata": {},
     "output_type": "display_data"
    },
    {
     "data": {
      "text/plain": [
       "<Figure size 600x600 with 0 Axes>"
      ]
     },
     "metadata": {},
     "output_type": "display_data"
    },
    {
     "data": {
      "text/plain": [
       "<Figure size 1800x900 with 0 Axes>"
      ]
     },
     "metadata": {},
     "output_type": "display_data"
    },
    {
     "data": {
      "text/plain": [
       "<Figure size 600x600 with 0 Axes>"
      ]
     },
     "metadata": {},
     "output_type": "display_data"
    },
    {
     "data": {
      "text/plain": [
       "<Figure size 1800x900 with 0 Axes>"
      ]
     },
     "metadata": {},
     "output_type": "display_data"
    },
    {
     "data": {
      "text/plain": [
       "<Figure size 600x600 with 0 Axes>"
      ]
     },
     "metadata": {},
     "output_type": "display_data"
    },
    {
     "data": {
      "text/plain": [
       "<Figure size 1800x900 with 0 Axes>"
      ]
     },
     "metadata": {},
     "output_type": "display_data"
    },
    {
     "data": {
      "text/plain": [
       "<Figure size 600x600 with 0 Axes>"
      ]
     },
     "metadata": {},
     "output_type": "display_data"
    },
    {
     "data": {
      "text/plain": [
       "<Figure size 1800x900 with 0 Axes>"
      ]
     },
     "metadata": {},
     "output_type": "display_data"
    },
    {
     "data": {
      "text/plain": [
       "<Figure size 600x600 with 0 Axes>"
      ]
     },
     "metadata": {},
     "output_type": "display_data"
    },
    {
     "data": {
      "text/plain": [
       "<Figure size 1800x900 with 0 Axes>"
      ]
     },
     "metadata": {},
     "output_type": "display_data"
    },
    {
     "data": {
      "text/plain": [
       "<Figure size 600x600 with 0 Axes>"
      ]
     },
     "metadata": {},
     "output_type": "display_data"
    },
    {
     "data": {
      "text/plain": [
       "<Figure size 1800x900 with 0 Axes>"
      ]
     },
     "metadata": {},
     "output_type": "display_data"
    },
    {
     "data": {
      "text/plain": [
       "<Figure size 600x600 with 0 Axes>"
      ]
     },
     "metadata": {},
     "output_type": "display_data"
    },
    {
     "data": {
      "text/plain": [
       "<Figure size 1800x900 with 0 Axes>"
      ]
     },
     "metadata": {},
     "output_type": "display_data"
    },
    {
     "data": {
      "text/plain": [
       "<Figure size 600x600 with 0 Axes>"
      ]
     },
     "metadata": {},
     "output_type": "display_data"
    },
    {
     "data": {
      "text/plain": [
       "<Figure size 1800x900 with 0 Axes>"
      ]
     },
     "metadata": {},
     "output_type": "display_data"
    },
    {
     "data": {
      "text/plain": [
       "<Figure size 600x600 with 0 Axes>"
      ]
     },
     "metadata": {},
     "output_type": "display_data"
    },
    {
     "data": {
      "text/plain": [
       "<Figure size 1800x900 with 0 Axes>"
      ]
     },
     "metadata": {},
     "output_type": "display_data"
    },
    {
     "data": {
      "text/plain": [
       "<Figure size 600x600 with 0 Axes>"
      ]
     },
     "metadata": {},
     "output_type": "display_data"
    },
    {
     "data": {
      "text/plain": [
       "<Figure size 1800x900 with 0 Axes>"
      ]
     },
     "metadata": {},
     "output_type": "display_data"
    },
    {
     "data": {
      "text/plain": [
       "<Figure size 600x600 with 0 Axes>"
      ]
     },
     "metadata": {},
     "output_type": "display_data"
    },
    {
     "data": {
      "text/plain": [
       "<Figure size 1800x900 with 0 Axes>"
      ]
     },
     "metadata": {},
     "output_type": "display_data"
    },
    {
     "data": {
      "text/plain": [
       "<Figure size 600x600 with 0 Axes>"
      ]
     },
     "metadata": {},
     "output_type": "display_data"
    },
    {
     "data": {
      "text/plain": [
       "<Figure size 1800x900 with 0 Axes>"
      ]
     },
     "metadata": {},
     "output_type": "display_data"
    },
    {
     "data": {
      "text/plain": [
       "<Figure size 600x600 with 0 Axes>"
      ]
     },
     "metadata": {},
     "output_type": "display_data"
    },
    {
     "data": {
      "text/plain": [
       "<Figure size 1800x900 with 0 Axes>"
      ]
     },
     "metadata": {},
     "output_type": "display_data"
    },
    {
     "data": {
      "text/plain": [
       "<Figure size 600x600 with 0 Axes>"
      ]
     },
     "metadata": {},
     "output_type": "display_data"
    },
    {
     "data": {
      "text/plain": [
       "<Figure size 1800x900 with 0 Axes>"
      ]
     },
     "metadata": {},
     "output_type": "display_data"
    },
    {
     "data": {
      "text/plain": [
       "<Figure size 600x600 with 0 Axes>"
      ]
     },
     "metadata": {},
     "output_type": "display_data"
    },
    {
     "data": {
      "text/plain": [
       "<Figure size 1800x900 with 0 Axes>"
      ]
     },
     "metadata": {},
     "output_type": "display_data"
    },
    {
     "data": {
      "text/plain": [
       "<Figure size 600x600 with 0 Axes>"
      ]
     },
     "metadata": {},
     "output_type": "display_data"
    },
    {
     "data": {
      "text/plain": [
       "<Figure size 1800x900 with 0 Axes>"
      ]
     },
     "metadata": {},
     "output_type": "display_data"
    },
    {
     "data": {
      "text/plain": [
       "<Figure size 600x600 with 0 Axes>"
      ]
     },
     "metadata": {},
     "output_type": "display_data"
    },
    {
     "data": {
      "text/plain": [
       "<Figure size 1800x900 with 0 Axes>"
      ]
     },
     "metadata": {},
     "output_type": "display_data"
    },
    {
     "data": {
      "text/plain": [
       "<Figure size 600x600 with 0 Axes>"
      ]
     },
     "metadata": {},
     "output_type": "display_data"
    },
    {
     "data": {
      "text/plain": [
       "<Figure size 1800x900 with 0 Axes>"
      ]
     },
     "metadata": {},
     "output_type": "display_data"
    },
    {
     "data": {
      "text/plain": [
       "<Figure size 600x600 with 0 Axes>"
      ]
     },
     "metadata": {},
     "output_type": "display_data"
    },
    {
     "data": {
      "text/plain": [
       "<Figure size 1800x900 with 0 Axes>"
      ]
     },
     "metadata": {},
     "output_type": "display_data"
    },
    {
     "data": {
      "text/plain": [
       "<Figure size 600x600 with 0 Axes>"
      ]
     },
     "metadata": {},
     "output_type": "display_data"
    },
    {
     "data": {
      "text/plain": [
       "<Figure size 1800x900 with 0 Axes>"
      ]
     },
     "metadata": {},
     "output_type": "display_data"
    },
    {
     "data": {
      "text/plain": [
       "<Figure size 600x600 with 0 Axes>"
      ]
     },
     "metadata": {},
     "output_type": "display_data"
    },
    {
     "data": {
      "text/plain": [
       "<Figure size 1800x900 with 0 Axes>"
      ]
     },
     "metadata": {},
     "output_type": "display_data"
    },
    {
     "data": {
      "text/plain": [
       "<Figure size 600x600 with 0 Axes>"
      ]
     },
     "metadata": {},
     "output_type": "display_data"
    },
    {
     "data": {
      "text/plain": [
       "<Figure size 1800x900 with 0 Axes>"
      ]
     },
     "metadata": {},
     "output_type": "display_data"
    },
    {
     "data": {
      "text/plain": [
       "<Figure size 600x600 with 0 Axes>"
      ]
     },
     "metadata": {},
     "output_type": "display_data"
    },
    {
     "data": {
      "text/plain": [
       "<Figure size 1800x900 with 0 Axes>"
      ]
     },
     "metadata": {},
     "output_type": "display_data"
    },
    {
     "data": {
      "text/plain": [
       "<Figure size 600x600 with 0 Axes>"
      ]
     },
     "metadata": {},
     "output_type": "display_data"
    },
    {
     "data": {
      "text/plain": [
       "<Figure size 1800x900 with 0 Axes>"
      ]
     },
     "metadata": {},
     "output_type": "display_data"
    },
    {
     "data": {
      "text/plain": [
       "<Figure size 600x600 with 0 Axes>"
      ]
     },
     "metadata": {},
     "output_type": "display_data"
    },
    {
     "data": {
      "text/plain": [
       "<Figure size 1800x900 with 0 Axes>"
      ]
     },
     "metadata": {},
     "output_type": "display_data"
    },
    {
     "data": {
      "text/plain": [
       "<Figure size 600x600 with 0 Axes>"
      ]
     },
     "metadata": {},
     "output_type": "display_data"
    },
    {
     "data": {
      "text/plain": [
       "<Figure size 1800x900 with 0 Axes>"
      ]
     },
     "metadata": {},
     "output_type": "display_data"
    },
    {
     "data": {
      "text/plain": [
       "<Figure size 600x600 with 0 Axes>"
      ]
     },
     "metadata": {},
     "output_type": "display_data"
    },
    {
     "data": {
      "text/plain": [
       "<Figure size 1800x900 with 0 Axes>"
      ]
     },
     "metadata": {},
     "output_type": "display_data"
    },
    {
     "data": {
      "text/plain": [
       "<Figure size 600x600 with 0 Axes>"
      ]
     },
     "metadata": {},
     "output_type": "display_data"
    },
    {
     "data": {
      "text/plain": [
       "<Figure size 1800x900 with 0 Axes>"
      ]
     },
     "metadata": {},
     "output_type": "display_data"
    },
    {
     "data": {
      "text/plain": [
       "<Figure size 600x600 with 0 Axes>"
      ]
     },
     "metadata": {},
     "output_type": "display_data"
    },
    {
     "data": {
      "text/plain": [
       "<Figure size 1800x900 with 0 Axes>"
      ]
     },
     "metadata": {},
     "output_type": "display_data"
    },
    {
     "data": {
      "text/plain": [
       "<Figure size 600x600 with 0 Axes>"
      ]
     },
     "metadata": {},
     "output_type": "display_data"
    },
    {
     "data": {
      "text/plain": [
       "<Figure size 1800x900 with 0 Axes>"
      ]
     },
     "metadata": {},
     "output_type": "display_data"
    },
    {
     "data": {
      "text/plain": [
       "<Figure size 600x600 with 0 Axes>"
      ]
     },
     "metadata": {},
     "output_type": "display_data"
    },
    {
     "data": {
      "text/plain": [
       "<Figure size 1800x900 with 0 Axes>"
      ]
     },
     "metadata": {},
     "output_type": "display_data"
    },
    {
     "data": {
      "text/plain": [
       "<Figure size 600x600 with 0 Axes>"
      ]
     },
     "metadata": {},
     "output_type": "display_data"
    },
    {
     "data": {
      "text/plain": [
       "<Figure size 1800x900 with 0 Axes>"
      ]
     },
     "metadata": {},
     "output_type": "display_data"
    },
    {
     "data": {
      "text/plain": [
       "<Figure size 600x600 with 0 Axes>"
      ]
     },
     "metadata": {},
     "output_type": "display_data"
    },
    {
     "data": {
      "text/plain": [
       "<Figure size 1800x900 with 0 Axes>"
      ]
     },
     "metadata": {},
     "output_type": "display_data"
    },
    {
     "data": {
      "text/plain": [
       "<Figure size 600x600 with 0 Axes>"
      ]
     },
     "metadata": {},
     "output_type": "display_data"
    },
    {
     "data": {
      "text/plain": [
       "<Figure size 1800x900 with 0 Axes>"
      ]
     },
     "metadata": {},
     "output_type": "display_data"
    },
    {
     "data": {
      "text/plain": [
       "<Figure size 600x600 with 0 Axes>"
      ]
     },
     "metadata": {},
     "output_type": "display_data"
    },
    {
     "data": {
      "text/plain": [
       "<Figure size 1800x900 with 0 Axes>"
      ]
     },
     "metadata": {},
     "output_type": "display_data"
    },
    {
     "data": {
      "text/plain": [
       "<Figure size 600x600 with 0 Axes>"
      ]
     },
     "metadata": {},
     "output_type": "display_data"
    },
    {
     "data": {
      "text/plain": [
       "<Figure size 1800x900 with 0 Axes>"
      ]
     },
     "metadata": {},
     "output_type": "display_data"
    },
    {
     "data": {
      "text/plain": [
       "<Figure size 600x600 with 0 Axes>"
      ]
     },
     "metadata": {},
     "output_type": "display_data"
    },
    {
     "data": {
      "text/plain": [
       "<Figure size 1800x900 with 0 Axes>"
      ]
     },
     "metadata": {},
     "output_type": "display_data"
    },
    {
     "data": {
      "text/plain": [
       "<Figure size 600x600 with 0 Axes>"
      ]
     },
     "metadata": {},
     "output_type": "display_data"
    },
    {
     "data": {
      "text/plain": [
       "<Figure size 1800x900 with 0 Axes>"
      ]
     },
     "metadata": {},
     "output_type": "display_data"
    },
    {
     "data": {
      "text/plain": [
       "<Figure size 600x600 with 0 Axes>"
      ]
     },
     "metadata": {},
     "output_type": "display_data"
    },
    {
     "data": {
      "text/plain": [
       "<Figure size 1800x900 with 0 Axes>"
      ]
     },
     "metadata": {},
     "output_type": "display_data"
    },
    {
     "data": {
      "text/plain": [
       "<Figure size 600x600 with 0 Axes>"
      ]
     },
     "metadata": {},
     "output_type": "display_data"
    },
    {
     "data": {
      "text/plain": [
       "<Figure size 1800x900 with 0 Axes>"
      ]
     },
     "metadata": {},
     "output_type": "display_data"
    },
    {
     "data": {
      "text/plain": [
       "<Figure size 600x600 with 0 Axes>"
      ]
     },
     "metadata": {},
     "output_type": "display_data"
    },
    {
     "data": {
      "text/plain": [
       "<Figure size 1800x900 with 0 Axes>"
      ]
     },
     "metadata": {},
     "output_type": "display_data"
    },
    {
     "data": {
      "text/plain": [
       "<Figure size 600x600 with 0 Axes>"
      ]
     },
     "metadata": {},
     "output_type": "display_data"
    },
    {
     "data": {
      "text/plain": [
       "<Figure size 1800x900 with 0 Axes>"
      ]
     },
     "metadata": {},
     "output_type": "display_data"
    },
    {
     "data": {
      "text/plain": [
       "<Figure size 600x600 with 0 Axes>"
      ]
     },
     "metadata": {},
     "output_type": "display_data"
    },
    {
     "data": {
      "text/plain": [
       "<Figure size 1800x900 with 0 Axes>"
      ]
     },
     "metadata": {},
     "output_type": "display_data"
    },
    {
     "data": {
      "text/plain": [
       "<Figure size 600x600 with 0 Axes>"
      ]
     },
     "metadata": {},
     "output_type": "display_data"
    },
    {
     "data": {
      "text/plain": [
       "<Figure size 1800x900 with 0 Axes>"
      ]
     },
     "metadata": {},
     "output_type": "display_data"
    },
    {
     "data": {
      "text/plain": [
       "<Figure size 600x600 with 0 Axes>"
      ]
     },
     "metadata": {},
     "output_type": "display_data"
    },
    {
     "data": {
      "text/plain": [
       "<Figure size 1800x900 with 0 Axes>"
      ]
     },
     "metadata": {},
     "output_type": "display_data"
    },
    {
     "data": {
      "text/plain": [
       "<Figure size 600x600 with 0 Axes>"
      ]
     },
     "metadata": {},
     "output_type": "display_data"
    },
    {
     "data": {
      "text/plain": [
       "<Figure size 1800x900 with 0 Axes>"
      ]
     },
     "metadata": {},
     "output_type": "display_data"
    },
    {
     "data": {
      "text/plain": [
       "<Figure size 600x600 with 0 Axes>"
      ]
     },
     "metadata": {},
     "output_type": "display_data"
    },
    {
     "data": {
      "text/plain": [
       "<Figure size 1800x900 with 0 Axes>"
      ]
     },
     "metadata": {},
     "output_type": "display_data"
    },
    {
     "data": {
      "text/plain": [
       "<Figure size 600x600 with 0 Axes>"
      ]
     },
     "metadata": {},
     "output_type": "display_data"
    },
    {
     "data": {
      "text/plain": [
       "<Figure size 1800x900 with 0 Axes>"
      ]
     },
     "metadata": {},
     "output_type": "display_data"
    },
    {
     "data": {
      "text/plain": [
       "<Figure size 600x600 with 0 Axes>"
      ]
     },
     "metadata": {},
     "output_type": "display_data"
    },
    {
     "data": {
      "text/plain": [
       "<Figure size 1800x900 with 0 Axes>"
      ]
     },
     "metadata": {},
     "output_type": "display_data"
    },
    {
     "data": {
      "text/plain": [
       "<Figure size 600x600 with 0 Axes>"
      ]
     },
     "metadata": {},
     "output_type": "display_data"
    },
    {
     "data": {
      "text/plain": [
       "<Figure size 1800x900 with 0 Axes>"
      ]
     },
     "metadata": {},
     "output_type": "display_data"
    },
    {
     "data": {
      "text/plain": [
       "<Figure size 600x600 with 0 Axes>"
      ]
     },
     "metadata": {},
     "output_type": "display_data"
    },
    {
     "data": {
      "text/plain": [
       "<Figure size 1800x900 with 0 Axes>"
      ]
     },
     "metadata": {},
     "output_type": "display_data"
    },
    {
     "data": {
      "text/plain": [
       "<Figure size 600x600 with 0 Axes>"
      ]
     },
     "metadata": {},
     "output_type": "display_data"
    },
    {
     "data": {
      "text/plain": [
       "<Figure size 1800x900 with 0 Axes>"
      ]
     },
     "metadata": {},
     "output_type": "display_data"
    },
    {
     "data": {
      "text/plain": [
       "<Figure size 600x600 with 0 Axes>"
      ]
     },
     "metadata": {},
     "output_type": "display_data"
    },
    {
     "data": {
      "text/plain": [
       "<Figure size 1800x900 with 0 Axes>"
      ]
     },
     "metadata": {},
     "output_type": "display_data"
    },
    {
     "data": {
      "text/plain": [
       "<Figure size 600x600 with 0 Axes>"
      ]
     },
     "metadata": {},
     "output_type": "display_data"
    },
    {
     "data": {
      "text/plain": [
       "<Figure size 1800x900 with 0 Axes>"
      ]
     },
     "metadata": {},
     "output_type": "display_data"
    },
    {
     "data": {
      "text/plain": [
       "<Figure size 600x600 with 0 Axes>"
      ]
     },
     "metadata": {},
     "output_type": "display_data"
    },
    {
     "data": {
      "text/plain": [
       "<Figure size 1800x900 with 0 Axes>"
      ]
     },
     "metadata": {},
     "output_type": "display_data"
    },
    {
     "data": {
      "text/plain": [
       "<Figure size 600x600 with 0 Axes>"
      ]
     },
     "metadata": {},
     "output_type": "display_data"
    },
    {
     "data": {
      "text/plain": [
       "<Figure size 1800x900 with 0 Axes>"
      ]
     },
     "metadata": {},
     "output_type": "display_data"
    },
    {
     "data": {
      "text/plain": [
       "<Figure size 600x600 with 0 Axes>"
      ]
     },
     "metadata": {},
     "output_type": "display_data"
    },
    {
     "data": {
      "text/plain": [
       "<Figure size 1800x900 with 0 Axes>"
      ]
     },
     "metadata": {},
     "output_type": "display_data"
    },
    {
     "data": {
      "text/plain": [
       "<Figure size 600x600 with 0 Axes>"
      ]
     },
     "metadata": {},
     "output_type": "display_data"
    },
    {
     "data": {
      "text/plain": [
       "<Figure size 1800x900 with 0 Axes>"
      ]
     },
     "metadata": {},
     "output_type": "display_data"
    },
    {
     "data": {
      "text/plain": [
       "<Figure size 600x600 with 0 Axes>"
      ]
     },
     "metadata": {},
     "output_type": "display_data"
    },
    {
     "data": {
      "text/plain": [
       "<Figure size 1800x900 with 0 Axes>"
      ]
     },
     "metadata": {},
     "output_type": "display_data"
    },
    {
     "data": {
      "text/plain": [
       "<Figure size 600x600 with 0 Axes>"
      ]
     },
     "metadata": {},
     "output_type": "display_data"
    },
    {
     "data": {
      "text/plain": [
       "<Figure size 1800x900 with 0 Axes>"
      ]
     },
     "metadata": {},
     "output_type": "display_data"
    },
    {
     "data": {
      "text/plain": [
       "<Figure size 600x600 with 0 Axes>"
      ]
     },
     "metadata": {},
     "output_type": "display_data"
    },
    {
     "data": {
      "text/plain": [
       "<Figure size 1800x900 with 0 Axes>"
      ]
     },
     "metadata": {},
     "output_type": "display_data"
    },
    {
     "data": {
      "text/plain": [
       "<Figure size 600x600 with 0 Axes>"
      ]
     },
     "metadata": {},
     "output_type": "display_data"
    },
    {
     "data": {
      "text/plain": [
       "<Figure size 1800x900 with 0 Axes>"
      ]
     },
     "metadata": {},
     "output_type": "display_data"
    },
    {
     "data": {
      "text/plain": [
       "<Figure size 600x600 with 0 Axes>"
      ]
     },
     "metadata": {},
     "output_type": "display_data"
    },
    {
     "data": {
      "text/plain": [
       "<Figure size 1800x900 with 0 Axes>"
      ]
     },
     "metadata": {},
     "output_type": "display_data"
    },
    {
     "data": {
      "text/plain": [
       "<Figure size 600x600 with 0 Axes>"
      ]
     },
     "metadata": {},
     "output_type": "display_data"
    },
    {
     "data": {
      "text/plain": [
       "<Figure size 1800x900 with 0 Axes>"
      ]
     },
     "metadata": {},
     "output_type": "display_data"
    },
    {
     "data": {
      "text/plain": [
       "<Figure size 600x600 with 0 Axes>"
      ]
     },
     "metadata": {},
     "output_type": "display_data"
    },
    {
     "data": {
      "text/plain": [
       "<Figure size 1800x900 with 0 Axes>"
      ]
     },
     "metadata": {},
     "output_type": "display_data"
    },
    {
     "data": {
      "text/plain": [
       "<Figure size 600x600 with 0 Axes>"
      ]
     },
     "metadata": {},
     "output_type": "display_data"
    },
    {
     "data": {
      "text/plain": [
       "<Figure size 1800x900 with 0 Axes>"
      ]
     },
     "metadata": {},
     "output_type": "display_data"
    },
    {
     "data": {
      "text/plain": [
       "<Figure size 600x600 with 0 Axes>"
      ]
     },
     "metadata": {},
     "output_type": "display_data"
    },
    {
     "data": {
      "text/plain": [
       "<Figure size 1800x900 with 0 Axes>"
      ]
     },
     "metadata": {},
     "output_type": "display_data"
    },
    {
     "data": {
      "text/plain": [
       "<Figure size 600x600 with 0 Axes>"
      ]
     },
     "metadata": {},
     "output_type": "display_data"
    },
    {
     "data": {
      "text/plain": [
       "<Figure size 1800x900 with 0 Axes>"
      ]
     },
     "metadata": {},
     "output_type": "display_data"
    },
    {
     "data": {
      "text/plain": [
       "<Figure size 600x600 with 0 Axes>"
      ]
     },
     "metadata": {},
     "output_type": "display_data"
    },
    {
     "data": {
      "text/plain": [
       "<Figure size 1800x900 with 0 Axes>"
      ]
     },
     "metadata": {},
     "output_type": "display_data"
    },
    {
     "data": {
      "text/plain": [
       "<Figure size 600x600 with 0 Axes>"
      ]
     },
     "metadata": {},
     "output_type": "display_data"
    },
    {
     "data": {
      "text/plain": [
       "<Figure size 1800x900 with 0 Axes>"
      ]
     },
     "metadata": {},
     "output_type": "display_data"
    },
    {
     "data": {
      "text/plain": [
       "<Figure size 600x600 with 0 Axes>"
      ]
     },
     "metadata": {},
     "output_type": "display_data"
    },
    {
     "data": {
      "text/plain": [
       "<Figure size 1800x900 with 0 Axes>"
      ]
     },
     "metadata": {},
     "output_type": "display_data"
    },
    {
     "data": {
      "text/plain": [
       "<Figure size 600x600 with 0 Axes>"
      ]
     },
     "metadata": {},
     "output_type": "display_data"
    },
    {
     "data": {
      "text/plain": [
       "<Figure size 1800x900 with 0 Axes>"
      ]
     },
     "metadata": {},
     "output_type": "display_data"
    },
    {
     "data": {
      "text/plain": [
       "<Figure size 600x600 with 0 Axes>"
      ]
     },
     "metadata": {},
     "output_type": "display_data"
    },
    {
     "data": {
      "text/plain": [
       "<Figure size 1800x900 with 0 Axes>"
      ]
     },
     "metadata": {},
     "output_type": "display_data"
    },
    {
     "data": {
      "text/plain": [
       "<Figure size 600x600 with 0 Axes>"
      ]
     },
     "metadata": {},
     "output_type": "display_data"
    },
    {
     "data": {
      "text/plain": [
       "<Figure size 1800x900 with 0 Axes>"
      ]
     },
     "metadata": {},
     "output_type": "display_data"
    },
    {
     "data": {
      "text/plain": [
       "<Figure size 600x600 with 0 Axes>"
      ]
     },
     "metadata": {},
     "output_type": "display_data"
    },
    {
     "data": {
      "text/plain": [
       "<Figure size 1800x900 with 0 Axes>"
      ]
     },
     "metadata": {},
     "output_type": "display_data"
    },
    {
     "data": {
      "text/plain": [
       "<Figure size 600x600 with 0 Axes>"
      ]
     },
     "metadata": {},
     "output_type": "display_data"
    },
    {
     "data": {
      "text/plain": [
       "<Figure size 1800x900 with 0 Axes>"
      ]
     },
     "metadata": {},
     "output_type": "display_data"
    },
    {
     "data": {
      "text/plain": [
       "<Figure size 600x600 with 0 Axes>"
      ]
     },
     "metadata": {},
     "output_type": "display_data"
    },
    {
     "data": {
      "text/plain": [
       "<Figure size 1800x900 with 0 Axes>"
      ]
     },
     "metadata": {},
     "output_type": "display_data"
    },
    {
     "data": {
      "text/plain": [
       "<Figure size 600x600 with 0 Axes>"
      ]
     },
     "metadata": {},
     "output_type": "display_data"
    },
    {
     "data": {
      "text/plain": [
       "<Figure size 1800x900 with 0 Axes>"
      ]
     },
     "metadata": {},
     "output_type": "display_data"
    },
    {
     "data": {
      "text/plain": [
       "<Figure size 600x600 with 0 Axes>"
      ]
     },
     "metadata": {},
     "output_type": "display_data"
    },
    {
     "data": {
      "text/plain": [
       "<Figure size 1800x900 with 0 Axes>"
      ]
     },
     "metadata": {},
     "output_type": "display_data"
    },
    {
     "data": {
      "text/plain": [
       "<Figure size 600x600 with 0 Axes>"
      ]
     },
     "metadata": {},
     "output_type": "display_data"
    },
    {
     "data": {
      "text/plain": [
       "<Figure size 1800x900 with 0 Axes>"
      ]
     },
     "metadata": {},
     "output_type": "display_data"
    },
    {
     "data": {
      "text/plain": [
       "<Figure size 600x600 with 0 Axes>"
      ]
     },
     "metadata": {},
     "output_type": "display_data"
    },
    {
     "data": {
      "text/plain": [
       "<Figure size 1800x900 with 0 Axes>"
      ]
     },
     "metadata": {},
     "output_type": "display_data"
    },
    {
     "data": {
      "text/plain": [
       "<Figure size 600x600 with 0 Axes>"
      ]
     },
     "metadata": {},
     "output_type": "display_data"
    },
    {
     "data": {
      "text/plain": [
       "<Figure size 1800x900 with 0 Axes>"
      ]
     },
     "metadata": {},
     "output_type": "display_data"
    },
    {
     "data": {
      "text/plain": [
       "<Figure size 600x600 with 0 Axes>"
      ]
     },
     "metadata": {},
     "output_type": "display_data"
    },
    {
     "data": {
      "text/plain": [
       "<Figure size 1800x900 with 0 Axes>"
      ]
     },
     "metadata": {},
     "output_type": "display_data"
    },
    {
     "data": {
      "text/plain": [
       "<Figure size 600x600 with 0 Axes>"
      ]
     },
     "metadata": {},
     "output_type": "display_data"
    },
    {
     "data": {
      "text/plain": [
       "<Figure size 1800x900 with 0 Axes>"
      ]
     },
     "metadata": {},
     "output_type": "display_data"
    },
    {
     "data": {
      "text/plain": [
       "<Figure size 600x600 with 0 Axes>"
      ]
     },
     "metadata": {},
     "output_type": "display_data"
    },
    {
     "data": {
      "text/plain": [
       "<Figure size 1800x900 with 0 Axes>"
      ]
     },
     "metadata": {},
     "output_type": "display_data"
    },
    {
     "data": {
      "text/plain": [
       "<Figure size 600x600 with 0 Axes>"
      ]
     },
     "metadata": {},
     "output_type": "display_data"
    },
    {
     "data": {
      "text/plain": [
       "<Figure size 1800x900 with 0 Axes>"
      ]
     },
     "metadata": {},
     "output_type": "display_data"
    },
    {
     "data": {
      "text/plain": [
       "<Figure size 600x600 with 0 Axes>"
      ]
     },
     "metadata": {},
     "output_type": "display_data"
    },
    {
     "data": {
      "text/plain": [
       "<Figure size 1800x900 with 0 Axes>"
      ]
     },
     "metadata": {},
     "output_type": "display_data"
    },
    {
     "data": {
      "text/plain": [
       "<Figure size 600x600 with 0 Axes>"
      ]
     },
     "metadata": {},
     "output_type": "display_data"
    },
    {
     "data": {
      "text/plain": [
       "<Figure size 1800x900 with 0 Axes>"
      ]
     },
     "metadata": {},
     "output_type": "display_data"
    },
    {
     "data": {
      "text/plain": [
       "<Figure size 600x600 with 0 Axes>"
      ]
     },
     "metadata": {},
     "output_type": "display_data"
    },
    {
     "data": {
      "text/plain": [
       "<Figure size 1800x900 with 0 Axes>"
      ]
     },
     "metadata": {},
     "output_type": "display_data"
    },
    {
     "data": {
      "text/plain": [
       "<Figure size 600x600 with 0 Axes>"
      ]
     },
     "metadata": {},
     "output_type": "display_data"
    },
    {
     "data": {
      "text/plain": [
       "<Figure size 1800x900 with 0 Axes>"
      ]
     },
     "metadata": {},
     "output_type": "display_data"
    },
    {
     "data": {
      "text/plain": [
       "<Figure size 600x600 with 0 Axes>"
      ]
     },
     "metadata": {},
     "output_type": "display_data"
    },
    {
     "data": {
      "text/plain": [
       "<Figure size 1800x900 with 0 Axes>"
      ]
     },
     "metadata": {},
     "output_type": "display_data"
    },
    {
     "data": {
      "text/plain": [
       "<Figure size 600x600 with 0 Axes>"
      ]
     },
     "metadata": {},
     "output_type": "display_data"
    },
    {
     "data": {
      "text/plain": [
       "<Figure size 1800x900 with 0 Axes>"
      ]
     },
     "metadata": {},
     "output_type": "display_data"
    },
    {
     "data": {
      "text/plain": [
       "<Figure size 600x600 with 0 Axes>"
      ]
     },
     "metadata": {},
     "output_type": "display_data"
    },
    {
     "data": {
      "text/plain": [
       "<Figure size 1800x900 with 0 Axes>"
      ]
     },
     "metadata": {},
     "output_type": "display_data"
    },
    {
     "data": {
      "text/plain": [
       "<Figure size 600x600 with 0 Axes>"
      ]
     },
     "metadata": {},
     "output_type": "display_data"
    },
    {
     "data": {
      "text/plain": [
       "<Figure size 1800x900 with 0 Axes>"
      ]
     },
     "metadata": {},
     "output_type": "display_data"
    },
    {
     "data": {
      "text/plain": [
       "<Figure size 600x600 with 0 Axes>"
      ]
     },
     "metadata": {},
     "output_type": "display_data"
    },
    {
     "data": {
      "text/plain": [
       "<Figure size 1800x900 with 0 Axes>"
      ]
     },
     "metadata": {},
     "output_type": "display_data"
    },
    {
     "data": {
      "text/plain": [
       "<Figure size 600x600 with 0 Axes>"
      ]
     },
     "metadata": {},
     "output_type": "display_data"
    },
    {
     "data": {
      "text/plain": [
       "<Figure size 1800x900 with 0 Axes>"
      ]
     },
     "metadata": {},
     "output_type": "display_data"
    },
    {
     "data": {
      "text/plain": [
       "<Figure size 600x600 with 0 Axes>"
      ]
     },
     "metadata": {},
     "output_type": "display_data"
    },
    {
     "data": {
      "text/plain": [
       "<Figure size 1800x900 with 0 Axes>"
      ]
     },
     "metadata": {},
     "output_type": "display_data"
    },
    {
     "data": {
      "text/plain": [
       "<Figure size 600x600 with 0 Axes>"
      ]
     },
     "metadata": {},
     "output_type": "display_data"
    },
    {
     "data": {
      "text/plain": [
       "<Figure size 1800x900 with 0 Axes>"
      ]
     },
     "metadata": {},
     "output_type": "display_data"
    },
    {
     "data": {
      "text/plain": [
       "<Figure size 600x600 with 0 Axes>"
      ]
     },
     "metadata": {},
     "output_type": "display_data"
    },
    {
     "data": {
      "text/plain": [
       "<Figure size 1800x900 with 0 Axes>"
      ]
     },
     "metadata": {},
     "output_type": "display_data"
    },
    {
     "data": {
      "text/plain": [
       "<Figure size 600x600 with 0 Axes>"
      ]
     },
     "metadata": {},
     "output_type": "display_data"
    },
    {
     "data": {
      "text/plain": [
       "<Figure size 1800x900 with 0 Axes>"
      ]
     },
     "metadata": {},
     "output_type": "display_data"
    },
    {
     "data": {
      "text/plain": [
       "<Figure size 600x600 with 0 Axes>"
      ]
     },
     "metadata": {},
     "output_type": "display_data"
    },
    {
     "data": {
      "text/plain": [
       "<Figure size 1800x900 with 0 Axes>"
      ]
     },
     "metadata": {},
     "output_type": "display_data"
    },
    {
     "data": {
      "text/plain": [
       "<Figure size 600x600 with 0 Axes>"
      ]
     },
     "metadata": {},
     "output_type": "display_data"
    },
    {
     "data": {
      "text/plain": [
       "<Figure size 1800x900 with 0 Axes>"
      ]
     },
     "metadata": {},
     "output_type": "display_data"
    },
    {
     "data": {
      "text/plain": [
       "<Figure size 600x600 with 0 Axes>"
      ]
     },
     "metadata": {},
     "output_type": "display_data"
    },
    {
     "data": {
      "text/plain": [
       "<Figure size 1800x900 with 0 Axes>"
      ]
     },
     "metadata": {},
     "output_type": "display_data"
    },
    {
     "data": {
      "text/plain": [
       "<Figure size 600x600 with 0 Axes>"
      ]
     },
     "metadata": {},
     "output_type": "display_data"
    },
    {
     "data": {
      "text/plain": [
       "<Figure size 1800x900 with 0 Axes>"
      ]
     },
     "metadata": {},
     "output_type": "display_data"
    },
    {
     "data": {
      "text/plain": [
       "<Figure size 600x600 with 0 Axes>"
      ]
     },
     "metadata": {},
     "output_type": "display_data"
    },
    {
     "data": {
      "text/plain": [
       "<Figure size 1800x900 with 0 Axes>"
      ]
     },
     "metadata": {},
     "output_type": "display_data"
    },
    {
     "data": {
      "text/plain": [
       "<Figure size 600x600 with 0 Axes>"
      ]
     },
     "metadata": {},
     "output_type": "display_data"
    },
    {
     "data": {
      "text/plain": [
       "<Figure size 1800x900 with 0 Axes>"
      ]
     },
     "metadata": {},
     "output_type": "display_data"
    },
    {
     "data": {
      "text/plain": [
       "<Figure size 600x600 with 0 Axes>"
      ]
     },
     "metadata": {},
     "output_type": "display_data"
    },
    {
     "data": {
      "text/plain": [
       "<Figure size 1800x900 with 0 Axes>"
      ]
     },
     "metadata": {},
     "output_type": "display_data"
    },
    {
     "data": {
      "text/plain": [
       "<Figure size 600x600 with 0 Axes>"
      ]
     },
     "metadata": {},
     "output_type": "display_data"
    },
    {
     "data": {
      "text/plain": [
       "<Figure size 1800x900 with 0 Axes>"
      ]
     },
     "metadata": {},
     "output_type": "display_data"
    },
    {
     "data": {
      "text/plain": [
       "<Figure size 600x600 with 0 Axes>"
      ]
     },
     "metadata": {},
     "output_type": "display_data"
    },
    {
     "data": {
      "text/plain": [
       "<Figure size 1800x900 with 0 Axes>"
      ]
     },
     "metadata": {},
     "output_type": "display_data"
    },
    {
     "data": {
      "text/plain": [
       "<Figure size 600x600 with 0 Axes>"
      ]
     },
     "metadata": {},
     "output_type": "display_data"
    },
    {
     "data": {
      "text/plain": [
       "<Figure size 1800x900 with 0 Axes>"
      ]
     },
     "metadata": {},
     "output_type": "display_data"
    },
    {
     "data": {
      "text/plain": [
       "<Figure size 600x600 with 0 Axes>"
      ]
     },
     "metadata": {},
     "output_type": "display_data"
    },
    {
     "data": {
      "text/plain": [
       "<Figure size 1800x900 with 0 Axes>"
      ]
     },
     "metadata": {},
     "output_type": "display_data"
    },
    {
     "data": {
      "text/plain": [
       "<Figure size 600x600 with 0 Axes>"
      ]
     },
     "metadata": {},
     "output_type": "display_data"
    },
    {
     "data": {
      "text/plain": [
       "<Figure size 1800x900 with 0 Axes>"
      ]
     },
     "metadata": {},
     "output_type": "display_data"
    },
    {
     "data": {
      "text/plain": [
       "<Figure size 600x600 with 0 Axes>"
      ]
     },
     "metadata": {},
     "output_type": "display_data"
    },
    {
     "data": {
      "text/plain": [
       "<Figure size 1800x900 with 0 Axes>"
      ]
     },
     "metadata": {},
     "output_type": "display_data"
    },
    {
     "data": {
      "text/plain": [
       "<Figure size 600x600 with 0 Axes>"
      ]
     },
     "metadata": {},
     "output_type": "display_data"
    },
    {
     "data": {
      "text/plain": [
       "<Figure size 1800x900 with 0 Axes>"
      ]
     },
     "metadata": {},
     "output_type": "display_data"
    },
    {
     "data": {
      "text/plain": [
       "<Figure size 600x600 with 0 Axes>"
      ]
     },
     "metadata": {},
     "output_type": "display_data"
    },
    {
     "data": {
      "text/plain": [
       "<Figure size 1800x900 with 0 Axes>"
      ]
     },
     "metadata": {},
     "output_type": "display_data"
    },
    {
     "data": {
      "text/plain": [
       "<Figure size 600x600 with 0 Axes>"
      ]
     },
     "metadata": {},
     "output_type": "display_data"
    },
    {
     "data": {
      "text/plain": [
       "<Figure size 1800x900 with 0 Axes>"
      ]
     },
     "metadata": {},
     "output_type": "display_data"
    },
    {
     "data": {
      "text/plain": [
       "<Figure size 600x600 with 0 Axes>"
      ]
     },
     "metadata": {},
     "output_type": "display_data"
    },
    {
     "data": {
      "text/plain": [
       "<Figure size 1800x900 with 0 Axes>"
      ]
     },
     "metadata": {},
     "output_type": "display_data"
    },
    {
     "data": {
      "text/plain": [
       "<Figure size 600x600 with 0 Axes>"
      ]
     },
     "metadata": {},
     "output_type": "display_data"
    },
    {
     "data": {
      "text/plain": [
       "<Figure size 1800x900 with 0 Axes>"
      ]
     },
     "metadata": {},
     "output_type": "display_data"
    },
    {
     "data": {
      "text/plain": [
       "<Figure size 600x600 with 0 Axes>"
      ]
     },
     "metadata": {},
     "output_type": "display_data"
    },
    {
     "data": {
      "text/plain": [
       "<Figure size 1800x900 with 0 Axes>"
      ]
     },
     "metadata": {},
     "output_type": "display_data"
    },
    {
     "data": {
      "text/plain": [
       "<Figure size 600x600 with 0 Axes>"
      ]
     },
     "metadata": {},
     "output_type": "display_data"
    },
    {
     "data": {
      "text/plain": [
       "<Figure size 1800x900 with 0 Axes>"
      ]
     },
     "metadata": {},
     "output_type": "display_data"
    },
    {
     "data": {
      "text/plain": [
       "<Figure size 600x600 with 0 Axes>"
      ]
     },
     "metadata": {},
     "output_type": "display_data"
    },
    {
     "data": {
      "text/plain": [
       "<Figure size 1800x900 with 0 Axes>"
      ]
     },
     "metadata": {},
     "output_type": "display_data"
    },
    {
     "data": {
      "text/plain": [
       "<Figure size 600x600 with 0 Axes>"
      ]
     },
     "metadata": {},
     "output_type": "display_data"
    },
    {
     "data": {
      "text/plain": [
       "<Figure size 1800x900 with 0 Axes>"
      ]
     },
     "metadata": {},
     "output_type": "display_data"
    },
    {
     "data": {
      "text/plain": [
       "<Figure size 600x600 with 0 Axes>"
      ]
     },
     "metadata": {},
     "output_type": "display_data"
    },
    {
     "data": {
      "text/plain": [
       "<Figure size 1800x900 with 0 Axes>"
      ]
     },
     "metadata": {},
     "output_type": "display_data"
    },
    {
     "data": {
      "text/plain": [
       "<Figure size 600x600 with 0 Axes>"
      ]
     },
     "metadata": {},
     "output_type": "display_data"
    },
    {
     "data": {
      "text/plain": [
       "<Figure size 1800x900 with 0 Axes>"
      ]
     },
     "metadata": {},
     "output_type": "display_data"
    },
    {
     "data": {
      "text/plain": [
       "<Figure size 600x600 with 0 Axes>"
      ]
     },
     "metadata": {},
     "output_type": "display_data"
    },
    {
     "data": {
      "text/plain": [
       "<Figure size 1800x900 with 0 Axes>"
      ]
     },
     "metadata": {},
     "output_type": "display_data"
    },
    {
     "data": {
      "text/plain": [
       "<Figure size 600x600 with 0 Axes>"
      ]
     },
     "metadata": {},
     "output_type": "display_data"
    },
    {
     "data": {
      "text/plain": [
       "<Figure size 1800x900 with 0 Axes>"
      ]
     },
     "metadata": {},
     "output_type": "display_data"
    },
    {
     "data": {
      "text/plain": [
       "<Figure size 600x600 with 0 Axes>"
      ]
     },
     "metadata": {},
     "output_type": "display_data"
    },
    {
     "data": {
      "text/plain": [
       "<Figure size 1800x900 with 0 Axes>"
      ]
     },
     "metadata": {},
     "output_type": "display_data"
    },
    {
     "data": {
      "text/plain": [
       "<Figure size 600x600 with 0 Axes>"
      ]
     },
     "metadata": {},
     "output_type": "display_data"
    },
    {
     "data": {
      "text/plain": [
       "<Figure size 1800x900 with 0 Axes>"
      ]
     },
     "metadata": {},
     "output_type": "display_data"
    },
    {
     "data": {
      "text/plain": [
       "<Figure size 600x600 with 0 Axes>"
      ]
     },
     "metadata": {},
     "output_type": "display_data"
    },
    {
     "data": {
      "text/plain": [
       "<Figure size 1800x900 with 0 Axes>"
      ]
     },
     "metadata": {},
     "output_type": "display_data"
    },
    {
     "data": {
      "text/plain": [
       "<Figure size 600x600 with 0 Axes>"
      ]
     },
     "metadata": {},
     "output_type": "display_data"
    },
    {
     "data": {
      "text/plain": [
       "<Figure size 1800x900 with 0 Axes>"
      ]
     },
     "metadata": {},
     "output_type": "display_data"
    },
    {
     "data": {
      "text/plain": [
       "<Figure size 600x600 with 0 Axes>"
      ]
     },
     "metadata": {},
     "output_type": "display_data"
    },
    {
     "data": {
      "text/plain": [
       "<Figure size 1800x900 with 0 Axes>"
      ]
     },
     "metadata": {},
     "output_type": "display_data"
    },
    {
     "data": {
      "text/plain": [
       "<Figure size 600x600 with 0 Axes>"
      ]
     },
     "metadata": {},
     "output_type": "display_data"
    },
    {
     "data": {
      "text/plain": [
       "<Figure size 1800x900 with 0 Axes>"
      ]
     },
     "metadata": {},
     "output_type": "display_data"
    },
    {
     "data": {
      "text/plain": [
       "<Figure size 600x600 with 0 Axes>"
      ]
     },
     "metadata": {},
     "output_type": "display_data"
    },
    {
     "data": {
      "text/plain": [
       "<Figure size 1800x900 with 0 Axes>"
      ]
     },
     "metadata": {},
     "output_type": "display_data"
    },
    {
     "data": {
      "text/plain": [
       "<Figure size 600x600 with 0 Axes>"
      ]
     },
     "metadata": {},
     "output_type": "display_data"
    },
    {
     "data": {
      "text/plain": [
       "<Figure size 1800x900 with 0 Axes>"
      ]
     },
     "metadata": {},
     "output_type": "display_data"
    },
    {
     "data": {
      "text/plain": [
       "<Figure size 600x600 with 0 Axes>"
      ]
     },
     "metadata": {},
     "output_type": "display_data"
    },
    {
     "data": {
      "text/plain": [
       "<Figure size 1800x900 with 0 Axes>"
      ]
     },
     "metadata": {},
     "output_type": "display_data"
    },
    {
     "data": {
      "text/plain": [
       "<Figure size 600x600 with 0 Axes>"
      ]
     },
     "metadata": {},
     "output_type": "display_data"
    },
    {
     "data": {
      "text/plain": [
       "<Figure size 1800x900 with 0 Axes>"
      ]
     },
     "metadata": {},
     "output_type": "display_data"
    },
    {
     "data": {
      "text/plain": [
       "<Figure size 600x600 with 0 Axes>"
      ]
     },
     "metadata": {},
     "output_type": "display_data"
    },
    {
     "data": {
      "text/plain": [
       "<Figure size 1800x900 with 0 Axes>"
      ]
     },
     "metadata": {},
     "output_type": "display_data"
    },
    {
     "data": {
      "text/plain": [
       "<Figure size 600x600 with 0 Axes>"
      ]
     },
     "metadata": {},
     "output_type": "display_data"
    },
    {
     "data": {
      "text/plain": [
       "<Figure size 1800x900 with 0 Axes>"
      ]
     },
     "metadata": {},
     "output_type": "display_data"
    },
    {
     "data": {
      "text/plain": [
       "<Figure size 600x600 with 0 Axes>"
      ]
     },
     "metadata": {},
     "output_type": "display_data"
    },
    {
     "data": {
      "text/plain": [
       "<Figure size 1800x900 with 0 Axes>"
      ]
     },
     "metadata": {},
     "output_type": "display_data"
    },
    {
     "data": {
      "text/plain": [
       "<Figure size 600x600 with 0 Axes>"
      ]
     },
     "metadata": {},
     "output_type": "display_data"
    },
    {
     "data": {
      "text/plain": [
       "<Figure size 1800x900 with 0 Axes>"
      ]
     },
     "metadata": {},
     "output_type": "display_data"
    },
    {
     "data": {
      "text/plain": [
       "<Figure size 600x600 with 0 Axes>"
      ]
     },
     "metadata": {},
     "output_type": "display_data"
    },
    {
     "data": {
      "text/plain": [
       "<Figure size 1800x900 with 0 Axes>"
      ]
     },
     "metadata": {},
     "output_type": "display_data"
    },
    {
     "data": {
      "text/plain": [
       "<Figure size 600x600 with 0 Axes>"
      ]
     },
     "metadata": {},
     "output_type": "display_data"
    },
    {
     "data": {
      "text/plain": [
       "<Figure size 1800x900 with 0 Axes>"
      ]
     },
     "metadata": {},
     "output_type": "display_data"
    },
    {
     "data": {
      "text/plain": [
       "<Figure size 600x600 with 0 Axes>"
      ]
     },
     "metadata": {},
     "output_type": "display_data"
    },
    {
     "data": {
      "text/plain": [
       "<Figure size 1800x900 with 0 Axes>"
      ]
     },
     "metadata": {},
     "output_type": "display_data"
    },
    {
     "data": {
      "text/plain": [
       "<Figure size 600x600 with 0 Axes>"
      ]
     },
     "metadata": {},
     "output_type": "display_data"
    },
    {
     "data": {
      "text/plain": [
       "<Figure size 1800x900 with 0 Axes>"
      ]
     },
     "metadata": {},
     "output_type": "display_data"
    },
    {
     "data": {
      "text/plain": [
       "<Figure size 600x600 with 0 Axes>"
      ]
     },
     "metadata": {},
     "output_type": "display_data"
    },
    {
     "data": {
      "text/plain": [
       "<Figure size 1800x900 with 0 Axes>"
      ]
     },
     "metadata": {},
     "output_type": "display_data"
    },
    {
     "data": {
      "text/plain": [
       "<Figure size 600x600 with 0 Axes>"
      ]
     },
     "metadata": {},
     "output_type": "display_data"
    },
    {
     "data": {
      "text/plain": [
       "<Figure size 1800x900 with 0 Axes>"
      ]
     },
     "metadata": {},
     "output_type": "display_data"
    },
    {
     "data": {
      "text/plain": [
       "<Figure size 600x600 with 0 Axes>"
      ]
     },
     "metadata": {},
     "output_type": "display_data"
    },
    {
     "data": {
      "text/plain": [
       "<Figure size 1800x900 with 0 Axes>"
      ]
     },
     "metadata": {},
     "output_type": "display_data"
    },
    {
     "data": {
      "text/plain": [
       "<Figure size 600x600 with 0 Axes>"
      ]
     },
     "metadata": {},
     "output_type": "display_data"
    },
    {
     "data": {
      "text/plain": [
       "<Figure size 1800x900 with 0 Axes>"
      ]
     },
     "metadata": {},
     "output_type": "display_data"
    },
    {
     "data": {
      "text/plain": [
       "<Figure size 600x600 with 0 Axes>"
      ]
     },
     "metadata": {},
     "output_type": "display_data"
    },
    {
     "data": {
      "text/plain": [
       "<Figure size 1800x900 with 0 Axes>"
      ]
     },
     "metadata": {},
     "output_type": "display_data"
    },
    {
     "data": {
      "text/plain": [
       "<Figure size 600x600 with 0 Axes>"
      ]
     },
     "metadata": {},
     "output_type": "display_data"
    },
    {
     "data": {
      "text/plain": [
       "<Figure size 1800x900 with 0 Axes>"
      ]
     },
     "metadata": {},
     "output_type": "display_data"
    },
    {
     "data": {
      "text/plain": [
       "<Figure size 600x600 with 0 Axes>"
      ]
     },
     "metadata": {},
     "output_type": "display_data"
    },
    {
     "data": {
      "text/plain": [
       "<Figure size 1800x900 with 0 Axes>"
      ]
     },
     "metadata": {},
     "output_type": "display_data"
    },
    {
     "data": {
      "text/plain": [
       "<Figure size 600x600 with 0 Axes>"
      ]
     },
     "metadata": {},
     "output_type": "display_data"
    },
    {
     "data": {
      "text/plain": [
       "<Figure size 1800x900 with 0 Axes>"
      ]
     },
     "metadata": {},
     "output_type": "display_data"
    },
    {
     "data": {
      "text/plain": [
       "<Figure size 600x600 with 0 Axes>"
      ]
     },
     "metadata": {},
     "output_type": "display_data"
    },
    {
     "data": {
      "text/plain": [
       "<Figure size 1800x900 with 0 Axes>"
      ]
     },
     "metadata": {},
     "output_type": "display_data"
    },
    {
     "data": {
      "text/plain": [
       "<Figure size 600x600 with 0 Axes>"
      ]
     },
     "metadata": {},
     "output_type": "display_data"
    },
    {
     "data": {
      "text/plain": [
       "<Figure size 1800x900 with 0 Axes>"
      ]
     },
     "metadata": {},
     "output_type": "display_data"
    },
    {
     "data": {
      "text/plain": [
       "<Figure size 600x600 with 0 Axes>"
      ]
     },
     "metadata": {},
     "output_type": "display_data"
    },
    {
     "data": {
      "text/plain": [
       "<Figure size 1800x900 with 0 Axes>"
      ]
     },
     "metadata": {},
     "output_type": "display_data"
    },
    {
     "data": {
      "text/plain": [
       "<Figure size 600x600 with 0 Axes>"
      ]
     },
     "metadata": {},
     "output_type": "display_data"
    },
    {
     "data": {
      "text/plain": [
       "<Figure size 1800x900 with 0 Axes>"
      ]
     },
     "metadata": {},
     "output_type": "display_data"
    },
    {
     "data": {
      "text/plain": [
       "<Figure size 600x600 with 0 Axes>"
      ]
     },
     "metadata": {},
     "output_type": "display_data"
    },
    {
     "data": {
      "text/plain": [
       "<Figure size 1800x900 with 0 Axes>"
      ]
     },
     "metadata": {},
     "output_type": "display_data"
    },
    {
     "data": {
      "text/plain": [
       "<Figure size 600x600 with 0 Axes>"
      ]
     },
     "metadata": {},
     "output_type": "display_data"
    },
    {
     "data": {
      "text/plain": [
       "<Figure size 1800x900 with 0 Axes>"
      ]
     },
     "metadata": {},
     "output_type": "display_data"
    },
    {
     "data": {
      "text/plain": [
       "<Figure size 600x600 with 0 Axes>"
      ]
     },
     "metadata": {},
     "output_type": "display_data"
    },
    {
     "data": {
      "text/plain": [
       "<Figure size 1800x900 with 0 Axes>"
      ]
     },
     "metadata": {},
     "output_type": "display_data"
    },
    {
     "data": {
      "text/plain": [
       "<Figure size 600x600 with 0 Axes>"
      ]
     },
     "metadata": {},
     "output_type": "display_data"
    },
    {
     "data": {
      "text/plain": [
       "<Figure size 1800x900 with 0 Axes>"
      ]
     },
     "metadata": {},
     "output_type": "display_data"
    },
    {
     "data": {
      "text/plain": [
       "<Figure size 600x600 with 0 Axes>"
      ]
     },
     "metadata": {},
     "output_type": "display_data"
    },
    {
     "data": {
      "text/plain": [
       "<Figure size 1800x900 with 0 Axes>"
      ]
     },
     "metadata": {},
     "output_type": "display_data"
    },
    {
     "data": {
      "text/plain": [
       "<Figure size 600x600 with 0 Axes>"
      ]
     },
     "metadata": {},
     "output_type": "display_data"
    },
    {
     "data": {
      "text/plain": [
       "<Figure size 1800x900 with 0 Axes>"
      ]
     },
     "metadata": {},
     "output_type": "display_data"
    },
    {
     "data": {
      "text/plain": [
       "<Figure size 600x600 with 0 Axes>"
      ]
     },
     "metadata": {},
     "output_type": "display_data"
    },
    {
     "data": {
      "text/plain": [
       "<Figure size 1800x900 with 0 Axes>"
      ]
     },
     "metadata": {},
     "output_type": "display_data"
    },
    {
     "data": {
      "text/plain": [
       "<Figure size 600x600 with 0 Axes>"
      ]
     },
     "metadata": {},
     "output_type": "display_data"
    },
    {
     "data": {
      "text/plain": [
       "<Figure size 1800x900 with 0 Axes>"
      ]
     },
     "metadata": {},
     "output_type": "display_data"
    }
   ],
   "source": [
    "plotter.plot_all(\n",
    "    start_time_before=start_time_before, \n",
    "    start_time_after=start_time_after, \n",
    "    min_interval_between_tests=min_interval_between_tests, \n",
    "    min_human=min_human, max_human=max_human\n",
    ")"
   ]
  },
  {
   "cell_type": "code",
   "execution_count": null,
   "metadata": {},
   "outputs": [],
   "source": []
  }
 ],
 "metadata": {
  "kernelspec": {
   "display_name": "venv",
   "language": "python",
   "name": "python3"
  },
  "language_info": {
   "codemirror_mode": {
    "name": "ipython",
    "version": 3
   },
   "file_extension": ".py",
   "mimetype": "text/x-python",
   "name": "python",
   "nbconvert_exporter": "python",
   "pygments_lexer": "ipython3",
   "version": "3.9.6"
  },
  "orig_nbformat": 4,
  "vscode": {
   "interpreter": {
    "hash": "3d18dfdd61f4205bc820c4db60d6212c4a8bed06c39bf54702a27b774e005900"
   }
  }
 },
 "nbformat": 4,
 "nbformat_minor": 2
}
