{
 "cells": [
  {
   "cell_type": "code",
   "execution_count": 15,
   "metadata": {},
   "outputs": [],
   "source": [
    "%load_ext autoreload"
   ]
  },
  {
   "cell_type": "code",
   "execution_count": 20,
   "metadata": {},
   "outputs": [],
   "source": [
    "%autoreload 2"
   ]
  },
  {
   "cell_type": "code",
   "execution_count": 1,
   "metadata": {},
   "outputs": [],
   "source": [
    "from src.parsers import mimic, hirid\n",
    "from src.modeling import discovery, plots, querier\n",
    "from src.utils import constants"
   ]
  },
  {
   "cell_type": "code",
   "execution_count": 2,
   "metadata": {},
   "outputs": [],
   "source": [
    "import sys\n",
    "# import win32com.client\n",
    "import os\n",
    "import pandas as pd\n",
    "\n",
    "def setup_io_config(root_path):\n",
    "    \"\"\"\n",
    "    Input - Output config. Add dataset paths\n",
    "    :root_path -> Repo path which contains 'data' and 'res' folders\n",
    "    \"\"\"\n",
    "\n",
    "    # MIMIC\n",
    "    is_shortcut = True if \"data.lnk\" in os.listdir(root_path) else False \n",
    "    \n",
    "    if (is_shortcut):\n",
    "        path_shortcut =  os.path.join(root_path, \"data.lnk\")\n",
    "        shell = win32com.client.Dispatch(\"WScript.Shell\")\n",
    "        mimic_data = shell.CreateShortCut(path_shortcut).Targetpath\n",
    "    else:\n",
    "        mimic_data = os.path.join(f\"{root_path}\", \"data\") \n",
    "    mimic_path = os.path.join(f\"{root_path}\", \"results\")\n",
    "\n",
    "    # HIRID\n",
    "    hirid_data = f'{root_path}/data/hirid-a-high-time-resolution-icu-dataset-1.1.1/raw_stage/'\n",
    "    hirid_path = f'{root_path}/data/hirid-a-high-time-resolution-icu-dataset-1.1.1'\n",
    "    \n",
    "    return mimic_data, mimic_path, hirid_data, hirid_path\n",
    "\n",
    "def setup_stratification_config():\n",
    "    gender=\"MF\"\n",
    "    age_b=40\n",
    "    age_a=80 \n",
    "    ethnicity=\"WHITE\" \n",
    "    lab_mapping= constants.LAB_MAPPING\n",
    "    b_w = [(0,6), (6,12)]\n",
    "    a_w = [(0,4), (4,8), (8,12)]\n",
    "    before_windows = b_w\n",
    "    after_windows = a_w\n",
    "    return gender, age_a, age_b, ethnicity, lab_mapping, before_windows, after_windows"
   ]
  },
  {
   "cell_type": "code",
   "execution_count": 3,
   "metadata": {},
   "outputs": [],
   "source": [
    "# IO Config\n",
    "# root_path =\"C:\\\\Users\\\\danco\\\\My Drive\\\\Master\\\\Datasets\\\\MIMIC iii\"\n",
    "root_path = \"/Users/pavan/Library/CloudStorage/GoogleDrive-f20190038@hyderabad.bits-pilani.ac.in/My Drive/TAU/Code/DrugLab\"\n",
    "data, res, raw_path, res_path = setup_io_config(root_path=root_path)\n",
    "\n",
    "# Stratification Config\n",
    "gender, age_a, age_b, ethnicity, lab_mapping, before_windows, after_windows = setup_stratification_config()"
   ]
  },
  {
   "cell_type": "code",
   "execution_count": 4,
   "metadata": {},
   "outputs": [
    {
     "name": "stdout",
     "output_type": "stream",
     "text": [
      "Parsing Heart Rate data....\n",
      "Loading med data...\n",
      "Generate med data....\n"
     ]
    },
    {
     "name": "stderr",
     "output_type": "stream",
     "text": [
      "/Users/pavan/Desktop/TAU/DrugLab/src/parsers/mimic.py:51: FutureWarning: Passing 'suffixes' which cause duplicate columns {'ROW_ID_x'} in the result is deprecated and will raise a MergeError in a future version.\n",
      "  m_p_df = pd.merge(inputevents_mv, med_data, how=\"inner\", on=\"ITEMID\")\n"
     ]
    },
    {
     "name": "stdout",
     "output_type": "stream",
     "text": [
      "Generated med data.\n",
      "Loaded med data.\n",
      "Load 1st and 2nd medication data...\n",
      "Loaded 1st and 2nd medication data.\n",
      "Load Lab data...\n",
      "Generate lab data from labevents...\n"
     ]
    },
    {
     "name": "stderr",
     "output_type": "stream",
     "text": [
      "/Users/pavan/Desktop/TAU/DrugLab/src/parsers/mimic.py:138: DtypeWarning: Columns (29) have mixed types. Specify dtype option on import or set low_memory=False.\n",
      "  labevents = pd.read_csv(os.path.join(self.data, constants.MIMIC_III_PREPROCESSED_PATH, constants.MIMIC_III_LABEVENT_PREPROCESSED))\n"
     ]
    },
    {
     "name": "stdout",
     "output_type": "stream",
     "text": [
      "Generated lab data from labevents.\n",
      "Generate lab data from chartevents...\n",
      "Loading Heart Rate data from CHARTEVENTS...\n",
      "Loading Heart Rate data from CHARTEVENTS...\n",
      "Loading Heart Rate data from CHARTEVENTS...\n",
      "Loading Heart Rate data from CHARTEVENTS...\n",
      "Loading Heart Rate data from CHARTEVENTS...\n",
      "Loading Heart Rate data from CHARTEVENTS...\n",
      "Loading Heart Rate data from CHARTEVENTS...\n"
     ]
    },
    {
     "name": "stderr",
     "output_type": "stream",
     "text": [
      "/Users/pavan/Desktop/TAU/DrugLab/src/parsers/mimic.py:194: DtypeWarning: Columns (14,15) have mixed types. Specify dtype option on import or set low_memory=False.\n",
      "  df = pd.read_csv(path)\n"
     ]
    },
    {
     "name": "stdout",
     "output_type": "stream",
     "text": [
      "Loading Heart Rate data from CHARTEVENTS...\n"
     ]
    },
    {
     "name": "stderr",
     "output_type": "stream",
     "text": [
      "/Users/pavan/Desktop/TAU/DrugLab/src/parsers/mimic.py:194: DtypeWarning: Columns (9) have mixed types. Specify dtype option on import or set low_memory=False.\n",
      "  df = pd.read_csv(path)\n"
     ]
    },
    {
     "name": "stdout",
     "output_type": "stream",
     "text": [
      "Loading Heart Rate data from CHARTEVENTS...\n",
      "Loading Heart Rate data from CHARTEVENTS...\n"
     ]
    },
    {
     "name": "stderr",
     "output_type": "stream",
     "text": [
      "/Users/pavan/Desktop/TAU/DrugLab/src/parsers/mimic.py:194: DtypeWarning: Columns (9) have mixed types. Specify dtype option on import or set low_memory=False.\n",
      "  df = pd.read_csv(path)\n"
     ]
    },
    {
     "name": "stdout",
     "output_type": "stream",
     "text": [
      "Loading Heart Rate data from CHARTEVENTS...\n",
      "Loading Heart Rate data from CHARTEVENTS...\n"
     ]
    },
    {
     "name": "stderr",
     "output_type": "stream",
     "text": [
      "/Users/pavan/Desktop/TAU/DrugLab/src/parsers/mimic.py:194: DtypeWarning: Columns (9) have mixed types. Specify dtype option on import or set low_memory=False.\n",
      "  df = pd.read_csv(path)\n"
     ]
    },
    {
     "name": "stdout",
     "output_type": "stream",
     "text": [
      "Loading Heart Rate data from CHARTEVENTS...\n",
      "Loading Heart Rate data from CHARTEVENTS...\n"
     ]
    },
    {
     "name": "stderr",
     "output_type": "stream",
     "text": [
      "/Users/pavan/Desktop/TAU/DrugLab/src/parsers/mimic.py:194: DtypeWarning: Columns (9) have mixed types. Specify dtype option on import or set low_memory=False.\n",
      "  df = pd.read_csv(path)\n"
     ]
    },
    {
     "name": "stdout",
     "output_type": "stream",
     "text": [
      "Loading Heart Rate data from CHARTEVENTS...\n"
     ]
    },
    {
     "name": "stderr",
     "output_type": "stream",
     "text": [
      "/Users/pavan/Desktop/TAU/DrugLab/src/parsers/mimic.py:194: DtypeWarning: Columns (9) have mixed types. Specify dtype option on import or set low_memory=False.\n",
      "  df = pd.read_csv(path)\n"
     ]
    },
    {
     "name": "stdout",
     "output_type": "stream",
     "text": [
      "Loading Heart Rate data from CHARTEVENTS...\n"
     ]
    },
    {
     "name": "stderr",
     "output_type": "stream",
     "text": [
      "/Users/pavan/Desktop/TAU/DrugLab/src/parsers/mimic.py:194: DtypeWarning: Columns (9) have mixed types. Specify dtype option on import or set low_memory=False.\n",
      "  df = pd.read_csv(path)\n"
     ]
    },
    {
     "name": "stdout",
     "output_type": "stream",
     "text": [
      "Loading Heart Rate data from CHARTEVENTS...\n"
     ]
    },
    {
     "name": "stderr",
     "output_type": "stream",
     "text": [
      "/Users/pavan/Desktop/TAU/DrugLab/src/parsers/mimic.py:194: DtypeWarning: Columns (9) have mixed types. Specify dtype option on import or set low_memory=False.\n",
      "  df = pd.read_csv(path)\n"
     ]
    },
    {
     "name": "stdout",
     "output_type": "stream",
     "text": [
      "Loading Heart Rate data from CHARTEVENTS...\n"
     ]
    },
    {
     "name": "stderr",
     "output_type": "stream",
     "text": [
      "/Users/pavan/Desktop/TAU/DrugLab/src/parsers/mimic.py:194: DtypeWarning: Columns (9) have mixed types. Specify dtype option on import or set low_memory=False.\n",
      "  df = pd.read_csv(path)\n"
     ]
    },
    {
     "name": "stdout",
     "output_type": "stream",
     "text": [
      "Loading Heart Rate data from CHARTEVENTS...\n"
     ]
    },
    {
     "name": "stderr",
     "output_type": "stream",
     "text": [
      "/Users/pavan/Desktop/TAU/DrugLab/src/parsers/mimic.py:194: DtypeWarning: Columns (9) have mixed types. Specify dtype option on import or set low_memory=False.\n",
      "  df = pd.read_csv(path)\n"
     ]
    },
    {
     "name": "stdout",
     "output_type": "stream",
     "text": [
      "Loading Heart Rate data from CHARTEVENTS...\n",
      "Loading Heart Rate data from CHARTEVENTS...\n"
     ]
    },
    {
     "name": "stderr",
     "output_type": "stream",
     "text": [
      "/Users/pavan/Desktop/TAU/DrugLab/src/parsers/mimic.py:194: DtypeWarning: Columns (9) have mixed types. Specify dtype option on import or set low_memory=False.\n",
      "  df = pd.read_csv(path)\n"
     ]
    },
    {
     "name": "stdout",
     "output_type": "stream",
     "text": [
      "Loading Heart Rate data from CHARTEVENTS...\n"
     ]
    },
    {
     "name": "stderr",
     "output_type": "stream",
     "text": [
      "/Users/pavan/Desktop/TAU/DrugLab/src/parsers/mimic.py:194: DtypeWarning: Columns (9) have mixed types. Specify dtype option on import or set low_memory=False.\n",
      "  df = pd.read_csv(path)\n"
     ]
    },
    {
     "name": "stdout",
     "output_type": "stream",
     "text": [
      "Loading Heart Rate data from CHARTEVENTS...\n",
      "Loading Heart Rate data from CHARTEVENTS...\n",
      "Loading Heart Rate data from CHARTEVENTS...\n",
      "Loading Heart Rate data from CHARTEVENTS...\n"
     ]
    },
    {
     "name": "stderr",
     "output_type": "stream",
     "text": [
      "/Users/pavan/Desktop/TAU/DrugLab/src/parsers/mimic.py:194: DtypeWarning: Columns (9) have mixed types. Specify dtype option on import or set low_memory=False.\n",
      "  df = pd.read_csv(path)\n"
     ]
    },
    {
     "name": "stdout",
     "output_type": "stream",
     "text": [
      "Loading Heart Rate data from CHARTEVENTS...\n"
     ]
    },
    {
     "name": "stderr",
     "output_type": "stream",
     "text": [
      "/Users/pavan/Desktop/TAU/DrugLab/src/parsers/mimic.py:194: DtypeWarning: Columns (9) have mixed types. Specify dtype option on import or set low_memory=False.\n",
      "  df = pd.read_csv(path)\n"
     ]
    },
    {
     "name": "stdout",
     "output_type": "stream",
     "text": [
      "Loading Heart Rate data from CHARTEVENTS...\n"
     ]
    },
    {
     "name": "stderr",
     "output_type": "stream",
     "text": [
      "/Users/pavan/Desktop/TAU/DrugLab/src/parsers/mimic.py:194: DtypeWarning: Columns (9) have mixed types. Specify dtype option on import or set low_memory=False.\n",
      "  df = pd.read_csv(path)\n"
     ]
    },
    {
     "name": "stdout",
     "output_type": "stream",
     "text": [
      "Loading Heart Rate data from CHARTEVENTS...\n"
     ]
    },
    {
     "name": "stderr",
     "output_type": "stream",
     "text": [
      "/Users/pavan/Desktop/TAU/DrugLab/src/parsers/mimic.py:194: DtypeWarning: Columns (9) have mixed types. Specify dtype option on import or set low_memory=False.\n",
      "  df = pd.read_csv(path)\n"
     ]
    },
    {
     "name": "stdout",
     "output_type": "stream",
     "text": [
      "Loading Heart Rate data from CHARTEVENTS...\n"
     ]
    },
    {
     "name": "stderr",
     "output_type": "stream",
     "text": [
      "/Users/pavan/Desktop/TAU/DrugLab/src/parsers/mimic.py:194: DtypeWarning: Columns (9) have mixed types. Specify dtype option on import or set low_memory=False.\n",
      "  df = pd.read_csv(path)\n"
     ]
    },
    {
     "name": "stdout",
     "output_type": "stream",
     "text": [
      "Loading Heart Rate data from CHARTEVENTS...\n"
     ]
    },
    {
     "name": "stderr",
     "output_type": "stream",
     "text": [
      "/Users/pavan/Desktop/TAU/DrugLab/src/parsers/mimic.py:194: DtypeWarning: Columns (9) have mixed types. Specify dtype option on import or set low_memory=False.\n",
      "  df = pd.read_csv(path)\n"
     ]
    },
    {
     "name": "stdout",
     "output_type": "stream",
     "text": [
      "Loading Heart Rate data from CHARTEVENTS...\n"
     ]
    },
    {
     "name": "stderr",
     "output_type": "stream",
     "text": [
      "/Users/pavan/Desktop/TAU/DrugLab/src/parsers/mimic.py:194: DtypeWarning: Columns (9) have mixed types. Specify dtype option on import or set low_memory=False.\n",
      "  df = pd.read_csv(path)\n"
     ]
    },
    {
     "name": "stdout",
     "output_type": "stream",
     "text": [
      "Loading Heart Rate data from CHARTEVENTS...\n"
     ]
    },
    {
     "name": "stderr",
     "output_type": "stream",
     "text": [
      "/Users/pavan/Desktop/TAU/DrugLab/src/parsers/mimic.py:194: DtypeWarning: Columns (9) have mixed types. Specify dtype option on import or set low_memory=False.\n",
      "  df = pd.read_csv(path)\n"
     ]
    },
    {
     "name": "stdout",
     "output_type": "stream",
     "text": [
      "Loading Heart Rate data from CHARTEVENTS...\n"
     ]
    },
    {
     "name": "stderr",
     "output_type": "stream",
     "text": [
      "/Users/pavan/Desktop/TAU/DrugLab/src/parsers/mimic.py:194: DtypeWarning: Columns (9) have mixed types. Specify dtype option on import or set low_memory=False.\n",
      "  df = pd.read_csv(path)\n"
     ]
    },
    {
     "name": "stdout",
     "output_type": "stream",
     "text": [
      "Loading Heart Rate data from CHARTEVENTS...\n",
      "Loading Heart Rate data from CHARTEVENTS...\n"
     ]
    },
    {
     "name": "stderr",
     "output_type": "stream",
     "text": [
      "/Users/pavan/Desktop/TAU/DrugLab/src/parsers/mimic.py:194: DtypeWarning: Columns (9) have mixed types. Specify dtype option on import or set low_memory=False.\n",
      "  df = pd.read_csv(path)\n"
     ]
    },
    {
     "name": "stdout",
     "output_type": "stream",
     "text": [
      "Loading Heart Rate data from CHARTEVENTS...\n",
      "Loading Heart Rate data from CHARTEVENTS...\n"
     ]
    },
    {
     "name": "stderr",
     "output_type": "stream",
     "text": [
      "/Users/pavan/Desktop/TAU/DrugLab/src/parsers/mimic.py:194: DtypeWarning: Columns (9) have mixed types. Specify dtype option on import or set low_memory=False.\n",
      "  df = pd.read_csv(path)\n"
     ]
    },
    {
     "name": "stdout",
     "output_type": "stream",
     "text": [
      "Loading Heart Rate data from CHARTEVENTS...\n"
     ]
    },
    {
     "name": "stderr",
     "output_type": "stream",
     "text": [
      "/Users/pavan/Desktop/TAU/DrugLab/src/parsers/mimic.py:194: DtypeWarning: Columns (14) have mixed types. Specify dtype option on import or set low_memory=False.\n",
      "  df = pd.read_csv(path)\n"
     ]
    },
    {
     "name": "stdout",
     "output_type": "stream",
     "text": [
      "Loading Heart Rate data from CHARTEVENTS...\n",
      "Loading Heart Rate data from CHARTEVENTS...\n",
      "Loading Heart Rate data from CHARTEVENTS...\n",
      "Loading Heart Rate data from CHARTEVENTS...\n",
      "Loading Heart Rate data from CHARTEVENTS...\n",
      "Loading Heart Rate data from CHARTEVENTS...\n",
      "Loading Heart Rate data from CHARTEVENTS...\n",
      "Loading Heart Rate data from CHARTEVENTS...\n",
      "Loading Heart Rate data from CHARTEVENTS...\n",
      "Loading Heart Rate data from CHARTEVENTS...\n",
      "Loading Heart Rate data from CHARTEVENTS...\n",
      "Loading Heart Rate data from CHARTEVENTS...\n",
      "Loading Heart Rate data from CHARTEVENTS...\n",
      "Generated lab data from chartevents.\n",
      "Loaded Lab data.\n",
      "Done parsing Heart Rate.\n"
     ]
    }
   ],
   "source": [
    "res_dict = {}\n",
    "lab = list(constants.LAB_MAPPING.keys())[0]\n",
    "print(f\"Parsing {lab} data....\")\n",
    "# MIMIC\n",
    "mimic_parser = mimic.MIMICParser(data=data, res=res, gender=gender, age_b=age_b, age_a=age_a, ethnicity=ethnicity, load=\"AUTOMATIC_MAPPING_MIMIC\")\n",
    "m_med1, m_med2, m_labs = mimic_parser.parse(use_pairs=False, load_from_raw=True, load_raw_chartevents=False, lab_parts=(0, 15), lab=lab)\n",
    "m_labs = m_labs.reset_index().drop(columns=[\"index\"])\n",
    "print(f\"Done parsing {lab}.\")"
   ]
  },
  {
   "cell_type": "code",
   "execution_count": 5,
   "metadata": {},
   "outputs": [
    {
     "name": "stdout",
     "output_type": "stream",
     "text": [
      "Starting pairs generation for Heart Rate....\n"
     ]
    }
   ],
   "source": [
    "\n",
    "print(f\"Starting pairs generation for {lab}....\")\n",
    "## Querier\n",
    "mimic_data_querier = querier.DatasetQuerier(\n",
    "    data = data,\n",
    "    res = res,\n",
    "    t_labs=m_labs, \n",
    "    t_med1=m_med1, \n",
    "    t_med2=m_med2,\n",
    "    gender=gender, \n",
    "    age_b=age_b, \n",
    "    age_a=age_a, \n",
    "    ethnicity=ethnicity, \n",
    "    lab_mapping=lab_mapping\n",
    ")\n",
    "\n",
    "df_list = []\n",
    "for row in m_med1.iloc[:10].iterrows():\n",
    "    df_list.append(mimic_data_querier.get_vals(row[1], m_labs, m_med1, m_med2, before_windows=before_windows, after_windows=after_windows).to_dict())\n",
    "temp = pd.DataFrame(df_list)\n",
    "all_types = set([\"abs\", \"mean\", \"std\", \"trends\", \"time\"])\n",
    "cols_b = [f\"before_{t}_{b_w}\" for b_w in before_windows for t in all_types]\n",
    "cols_a = [f\"after_{t}_{a_w}\" for a_w in after_windows for t in all_types]\n",
    "cols = cols_b.copy()\n",
    "cols.extend(cols_a)\n",
    "col_vals = []\n",
    "for col in cols:\n",
    "    col_vals.append(\n",
    "        temp.assign(dict=temp[col].dropna().map(lambda d: d.items())).explode(\"dict\", ignore_index=True).assign(\n",
    "            LAB_ITEMID=lambda df: df.dict.str.get(0),\n",
    "            temp=lambda df: df.dict.str.get(1)\n",
    "        ).drop(columns=[\"dict\"]+cols).astype({'temp':'float64'}).rename(columns={\"temp\":f\"{col}_sp\"}).dropna(subset=[\"LAB_ITEMID\"])\n",
    "    )\n",
    "sel_cols = list(set(list(temp.columns)).difference(cols))\n",
    "for i in range(1, len(col_vals)):\n",
    "    print(i)\n",
    "    col_vals[i] = pd.merge(col_vals[i-1], col_vals[i], how=\"outer\", on=sel_cols+[\"LAB_ITEMID\"])\n",
    "\n",
    "final = col_vals[-1][sel_cols+[\"LAB_ITEMID\"]+[f\"{col}_sp\" for col in cols]]\n",
    "final[\"LAB_NAME\"] = final[\"LAB_ITEMID\"]\n",
    "\n",
    "res_dict[lab] = final.rename(columns={\"ITEMID\":\"MED_NAME\"})\n",
    "print(f\"Pairs generated for {lab}.\")"
   ]
  },
  {
   "cell_type": "code",
   "execution_count": 6,
   "metadata": {},
   "outputs": [
    {
     "name": "stdout",
     "output_type": "stream",
     "text": [
      "1\n",
      "2\n",
      "3\n",
      "4\n",
      "5\n",
      "6\n",
      "7\n",
      "8\n",
      "9\n",
      "10\n",
      "11\n",
      "12\n",
      "13\n",
      "14\n",
      "15\n",
      "16\n",
      "17\n",
      "18\n",
      "19\n",
      "20\n",
      "21\n",
      "22\n",
      "23\n",
      "24\n",
      "Pairs generated for Heart Rate.\n"
     ]
    },
    {
     "name": "stderr",
     "output_type": "stream",
     "text": [
      "/var/folders/by/jbk3mn054mv4x7_28jxcwvx80000gn/T/ipykernel_31969/288888243.py:24: SettingWithCopyWarning: \n",
      "A value is trying to be set on a copy of a slice from a DataFrame.\n",
      "Try using .loc[row_indexer,col_indexer] = value instead\n",
      "\n",
      "See the caveats in the documentation: https://pandas.pydata.org/pandas-docs/stable/user_guide/indexing.html#returning-a-view-versus-a-copy\n",
      "  final[\"LAB_NAME\"] = final[\"LAB_ITEMID\"]\n"
     ]
    }
   ],
   "source": [
    "df_list = []\n",
    "for row in m_med1.iloc[:10].iterrows():\n",
    "    df_list.append(mimic_data_querier.get_vals(row[1], m_labs, m_med1, m_med2, before_windows=before_windows, after_windows=after_windows).to_dict())\n",
    "temp = pd.DataFrame(df_list)\n",
    "all_types = set([\"abs\", \"mean\", \"std\", \"trends\", \"time\"])\n",
    "cols_b = [f\"before_{t}_{b_w}\" for b_w in before_windows for t in all_types]\n",
    "cols_a = [f\"after_{t}_{a_w}\" for a_w in after_windows for t in all_types]\n",
    "cols = cols_b.copy()\n",
    "cols.extend(cols_a)\n",
    "col_vals = []\n",
    "for col in cols:\n",
    "    col_vals.append(\n",
    "        temp.assign(dict=temp[col].dropna().map(lambda d: d.items())).explode(\"dict\", ignore_index=True).assign(\n",
    "            LAB_ITEMID=lambda df: df.dict.str.get(0),\n",
    "            temp=lambda df: df.dict.str.get(1)\n",
    "        ).drop(columns=[\"dict\"]+cols).astype({'temp':'float64'}).rename(columns={\"temp\":f\"{col}_sp\"}).dropna(subset=[\"LAB_ITEMID\"])\n",
    "    )\n",
    "sel_cols = list(set(list(temp.columns)).difference(cols))\n",
    "for i in range(1, len(col_vals)):\n",
    "    print(i)\n",
    "    col_vals[i] = pd.merge(col_vals[i-1], col_vals[i], how=\"outer\", on=sel_cols+[\"LAB_ITEMID\"])\n",
    "\n",
    "final = col_vals[-1][sel_cols+[\"LAB_ITEMID\"]+[f\"{col}_sp\" for col in cols]]\n",
    "final[\"LAB_NAME\"] = final[\"LAB_ITEMID\"]\n",
    "\n",
    "res_dict[lab] = final.rename(columns={\"ITEMID\":\"MED_NAME\"})\n",
    "print(f\"Pairs generated for {lab}.\")\n"
   ]
  },
  {
   "cell_type": "code",
   "execution_count": 15,
   "metadata": {},
   "outputs": [
    {
     "data": {
      "text/html": [
       "<div>\n",
       "<style scoped>\n",
       "    .dataframe tbody tr th:only-of-type {\n",
       "        vertical-align: middle;\n",
       "    }\n",
       "\n",
       "    .dataframe tbody tr th {\n",
       "        vertical-align: top;\n",
       "    }\n",
       "\n",
       "    .dataframe thead th {\n",
       "        text-align: right;\n",
       "    }\n",
       "</style>\n",
       "<table border=\"1\" class=\"dataframe\">\n",
       "  <thead>\n",
       "    <tr style=\"text-align: right;\">\n",
       "      <th></th>\n",
       "      <th>UNITNAME</th>\n",
       "      <th>OldITEMID</th>\n",
       "      <th>ABBREVIATION</th>\n",
       "      <th>AMOUNTUOM</th>\n",
       "      <th>ISOPENBAG</th>\n",
       "      <th>ETHNICITY</th>\n",
       "      <th>GENDER</th>\n",
       "      <th>DOB</th>\n",
       "      <th>hours_in</th>\n",
       "      <th>HAS_CHARTEVENTS_DATA</th>\n",
       "      <th>...</th>\n",
       "      <th>after_time_(4, 8)_sp</th>\n",
       "      <th>after_trends_(4, 8)_sp</th>\n",
       "      <th>after_mean_(4, 8)_sp</th>\n",
       "      <th>after_std_(4, 8)_sp</th>\n",
       "      <th>after_abs_(8, 12)_sp</th>\n",
       "      <th>after_time_(8, 12)_sp</th>\n",
       "      <th>after_trends_(8, 12)_sp</th>\n",
       "      <th>after_mean_(8, 12)_sp</th>\n",
       "      <th>after_std_(8, 12)_sp</th>\n",
       "      <th>LAB_NAME</th>\n",
       "    </tr>\n",
       "  </thead>\n",
       "  <tbody>\n",
       "    <tr>\n",
       "      <th>0</th>\n",
       "      <td>dose</td>\n",
       "      <td>225975</td>\n",
       "      <td>Heparin Sodium (Prophylaxis)</td>\n",
       "      <td>dose</td>\n",
       "      <td>0</td>\n",
       "      <td>WHITE</td>\n",
       "      <td>F</td>\n",
       "      <td>2142-05-07</td>\n",
       "      <td>-21.283333</td>\n",
       "      <td>1</td>\n",
       "      <td>...</td>\n",
       "      <td>NaN</td>\n",
       "      <td>NaN</td>\n",
       "      <td>NaN</td>\n",
       "      <td>NaN</td>\n",
       "      <td>NaN</td>\n",
       "      <td>NaN</td>\n",
       "      <td>NaN</td>\n",
       "      <td>NaN</td>\n",
       "      <td>NaN</td>\n",
       "      <td>Heart Rate</td>\n",
       "    </tr>\n",
       "    <tr>\n",
       "      <th>1</th>\n",
       "      <td>mL</td>\n",
       "      <td>225158</td>\n",
       "      <td>NaCl 0.9%</td>\n",
       "      <td>ml</td>\n",
       "      <td>0</td>\n",
       "      <td>WHITE</td>\n",
       "      <td>F</td>\n",
       "      <td>2142-05-07</td>\n",
       "      <td>-21.083333</td>\n",
       "      <td>1</td>\n",
       "      <td>...</td>\n",
       "      <td>NaN</td>\n",
       "      <td>NaN</td>\n",
       "      <td>NaN</td>\n",
       "      <td>NaN</td>\n",
       "      <td>NaN</td>\n",
       "      <td>NaN</td>\n",
       "      <td>NaN</td>\n",
       "      <td>NaN</td>\n",
       "      <td>NaN</td>\n",
       "      <td>Heart Rate</td>\n",
       "    </tr>\n",
       "    <tr>\n",
       "      <th>2</th>\n",
       "      <td>mg</td>\n",
       "      <td>225153</td>\n",
       "      <td>Labetalol</td>\n",
       "      <td>mg</td>\n",
       "      <td>0</td>\n",
       "      <td>WHITE</td>\n",
       "      <td>F</td>\n",
       "      <td>2142-05-07</td>\n",
       "      <td>-21.083333</td>\n",
       "      <td>1</td>\n",
       "      <td>...</td>\n",
       "      <td>NaN</td>\n",
       "      <td>NaN</td>\n",
       "      <td>NaN</td>\n",
       "      <td>NaN</td>\n",
       "      <td>NaN</td>\n",
       "      <td>NaN</td>\n",
       "      <td>NaN</td>\n",
       "      <td>NaN</td>\n",
       "      <td>NaN</td>\n",
       "      <td>Heart Rate</td>\n",
       "    </tr>\n",
       "    <tr>\n",
       "      <th>3</th>\n",
       "      <td>mL</td>\n",
       "      <td>226361</td>\n",
       "      <td>Pre-Admission Intake</td>\n",
       "      <td>ml</td>\n",
       "      <td>0</td>\n",
       "      <td>WHITE</td>\n",
       "      <td>F</td>\n",
       "      <td>2089-04-30</td>\n",
       "      <td>-17.216667</td>\n",
       "      <td>1</td>\n",
       "      <td>...</td>\n",
       "      <td>NaN</td>\n",
       "      <td>NaN</td>\n",
       "      <td>NaN</td>\n",
       "      <td>NaN</td>\n",
       "      <td>NaN</td>\n",
       "      <td>NaN</td>\n",
       "      <td>NaN</td>\n",
       "      <td>NaN</td>\n",
       "      <td>NaN</td>\n",
       "      <td>Heart Rate</td>\n",
       "    </tr>\n",
       "    <tr>\n",
       "      <th>4</th>\n",
       "      <td>mL</td>\n",
       "      <td>220949</td>\n",
       "      <td>Dextrose 5%</td>\n",
       "      <td>ml</td>\n",
       "      <td>0</td>\n",
       "      <td>WHITE</td>\n",
       "      <td>F</td>\n",
       "      <td>2142-05-07</td>\n",
       "      <td>-16.216667</td>\n",
       "      <td>1</td>\n",
       "      <td>...</td>\n",
       "      <td>NaN</td>\n",
       "      <td>NaN</td>\n",
       "      <td>NaN</td>\n",
       "      <td>NaN</td>\n",
       "      <td>NaN</td>\n",
       "      <td>NaN</td>\n",
       "      <td>NaN</td>\n",
       "      <td>NaN</td>\n",
       "      <td>NaN</td>\n",
       "      <td>Heart Rate</td>\n",
       "    </tr>\n",
       "    <tr>\n",
       "      <th>5</th>\n",
       "      <td>mL</td>\n",
       "      <td>226364</td>\n",
       "      <td>OR Crystalloid Intake</td>\n",
       "      <td>ml</td>\n",
       "      <td>0</td>\n",
       "      <td>WHITE</td>\n",
       "      <td>F</td>\n",
       "      <td>2046-08-16</td>\n",
       "      <td>-16.150000</td>\n",
       "      <td>1</td>\n",
       "      <td>...</td>\n",
       "      <td>4.150000</td>\n",
       "      <td>0.5</td>\n",
       "      <td>106.75</td>\n",
       "      <td>6.130525</td>\n",
       "      <td>116.0</td>\n",
       "      <td>8.150000</td>\n",
       "      <td>1.000000</td>\n",
       "      <td>117.000000</td>\n",
       "      <td>1.414214</td>\n",
       "      <td>Heart Rate</td>\n",
       "    </tr>\n",
       "    <tr>\n",
       "      <th>6</th>\n",
       "      <td>mEq</td>\n",
       "      <td>220995</td>\n",
       "      <td>Sodium Bicarbonate 8.4%</td>\n",
       "      <td>mEq</td>\n",
       "      <td>0</td>\n",
       "      <td>WHITE</td>\n",
       "      <td>F</td>\n",
       "      <td>2142-05-07</td>\n",
       "      <td>-16.100000</td>\n",
       "      <td>1</td>\n",
       "      <td>...</td>\n",
       "      <td>4.283333</td>\n",
       "      <td>-1.0</td>\n",
       "      <td>68.00</td>\n",
       "      <td>2.160247</td>\n",
       "      <td>68.0</td>\n",
       "      <td>8.283333</td>\n",
       "      <td>0.764706</td>\n",
       "      <td>65.166667</td>\n",
       "      <td>5.419102</td>\n",
       "      <td>Heart Rate</td>\n",
       "    </tr>\n",
       "    <tr>\n",
       "      <th>7</th>\n",
       "      <td>mL</td>\n",
       "      <td>225158</td>\n",
       "      <td>NaCl 0.9%</td>\n",
       "      <td>ml</td>\n",
       "      <td>0</td>\n",
       "      <td>WHITE</td>\n",
       "      <td>F</td>\n",
       "      <td>2089-04-30</td>\n",
       "      <td>-15.616667</td>\n",
       "      <td>1</td>\n",
       "      <td>...</td>\n",
       "      <td>NaN</td>\n",
       "      <td>NaN</td>\n",
       "      <td>NaN</td>\n",
       "      <td>NaN</td>\n",
       "      <td>NaN</td>\n",
       "      <td>NaN</td>\n",
       "      <td>NaN</td>\n",
       "      <td>NaN</td>\n",
       "      <td>NaN</td>\n",
       "      <td>Heart Rate</td>\n",
       "    </tr>\n",
       "    <tr>\n",
       "      <th>8</th>\n",
       "      <td>dose</td>\n",
       "      <td>225798</td>\n",
       "      <td>Vancomycin</td>\n",
       "      <td>dose</td>\n",
       "      <td>0</td>\n",
       "      <td>WHITE</td>\n",
       "      <td>F</td>\n",
       "      <td>2089-04-30</td>\n",
       "      <td>-14.900000</td>\n",
       "      <td>1</td>\n",
       "      <td>...</td>\n",
       "      <td>4.066667</td>\n",
       "      <td>-1.4</td>\n",
       "      <td>79.00</td>\n",
       "      <td>3.559026</td>\n",
       "      <td>82.0</td>\n",
       "      <td>8.066667</td>\n",
       "      <td>2.200000</td>\n",
       "      <td>83.000000</td>\n",
       "      <td>3.741657</td>\n",
       "      <td>Heart Rate</td>\n",
       "    </tr>\n",
       "    <tr>\n",
       "      <th>9</th>\n",
       "      <td>mL</td>\n",
       "      <td>220949</td>\n",
       "      <td>Dextrose 5%</td>\n",
       "      <td>ml</td>\n",
       "      <td>0</td>\n",
       "      <td>WHITE</td>\n",
       "      <td>F</td>\n",
       "      <td>2089-04-30</td>\n",
       "      <td>-14.900000</td>\n",
       "      <td>1</td>\n",
       "      <td>...</td>\n",
       "      <td>4.066667</td>\n",
       "      <td>-1.4</td>\n",
       "      <td>79.00</td>\n",
       "      <td>3.559026</td>\n",
       "      <td>82.0</td>\n",
       "      <td>8.066667</td>\n",
       "      <td>2.200000</td>\n",
       "      <td>83.000000</td>\n",
       "      <td>3.741657</td>\n",
       "      <td>Heart Rate</td>\n",
       "    </tr>\n",
       "  </tbody>\n",
       "</table>\n",
       "<p>10 rows × 93 columns</p>\n",
       "</div>"
      ],
      "text/plain": [
       "  UNITNAME  OldITEMID                  ABBREVIATION AMOUNTUOM  ISOPENBAG  \\\n",
       "0     dose     225975  Heparin Sodium (Prophylaxis)      dose          0   \n",
       "1       mL     225158                     NaCl 0.9%        ml          0   \n",
       "2       mg     225153                     Labetalol        mg          0   \n",
       "3       mL     226361          Pre-Admission Intake        ml          0   \n",
       "4       mL     220949                   Dextrose 5%        ml          0   \n",
       "5       mL     226364         OR Crystalloid Intake        ml          0   \n",
       "6      mEq     220995       Sodium Bicarbonate 8.4%       mEq          0   \n",
       "7       mL     225158                     NaCl 0.9%        ml          0   \n",
       "8     dose     225798                    Vancomycin      dose          0   \n",
       "9       mL     220949                   Dextrose 5%        ml          0   \n",
       "\n",
       "  ETHNICITY GENDER        DOB   hours_in  HAS_CHARTEVENTS_DATA  ...  \\\n",
       "0     WHITE      F 2142-05-07 -21.283333                     1  ...   \n",
       "1     WHITE      F 2142-05-07 -21.083333                     1  ...   \n",
       "2     WHITE      F 2142-05-07 -21.083333                     1  ...   \n",
       "3     WHITE      F 2089-04-30 -17.216667                     1  ...   \n",
       "4     WHITE      F 2142-05-07 -16.216667                     1  ...   \n",
       "5     WHITE      F 2046-08-16 -16.150000                     1  ...   \n",
       "6     WHITE      F 2142-05-07 -16.100000                     1  ...   \n",
       "7     WHITE      F 2089-04-30 -15.616667                     1  ...   \n",
       "8     WHITE      F 2089-04-30 -14.900000                     1  ...   \n",
       "9     WHITE      F 2089-04-30 -14.900000                     1  ...   \n",
       "\n",
       "  after_time_(4, 8)_sp after_trends_(4, 8)_sp after_mean_(4, 8)_sp  \\\n",
       "0                  NaN                    NaN                  NaN   \n",
       "1                  NaN                    NaN                  NaN   \n",
       "2                  NaN                    NaN                  NaN   \n",
       "3                  NaN                    NaN                  NaN   \n",
       "4                  NaN                    NaN                  NaN   \n",
       "5             4.150000                    0.5               106.75   \n",
       "6             4.283333                   -1.0                68.00   \n",
       "7                  NaN                    NaN                  NaN   \n",
       "8             4.066667                   -1.4                79.00   \n",
       "9             4.066667                   -1.4                79.00   \n",
       "\n",
       "  after_std_(4, 8)_sp after_abs_(8, 12)_sp after_time_(8, 12)_sp  \\\n",
       "0                 NaN                  NaN                   NaN   \n",
       "1                 NaN                  NaN                   NaN   \n",
       "2                 NaN                  NaN                   NaN   \n",
       "3                 NaN                  NaN                   NaN   \n",
       "4                 NaN                  NaN                   NaN   \n",
       "5            6.130525                116.0              8.150000   \n",
       "6            2.160247                 68.0              8.283333   \n",
       "7                 NaN                  NaN                   NaN   \n",
       "8            3.559026                 82.0              8.066667   \n",
       "9            3.559026                 82.0              8.066667   \n",
       "\n",
       "   after_trends_(8, 12)_sp  after_mean_(8, 12)_sp  after_std_(8, 12)_sp  \\\n",
       "0                      NaN                    NaN                   NaN   \n",
       "1                      NaN                    NaN                   NaN   \n",
       "2                      NaN                    NaN                   NaN   \n",
       "3                      NaN                    NaN                   NaN   \n",
       "4                      NaN                    NaN                   NaN   \n",
       "5                 1.000000             117.000000              1.414214   \n",
       "6                 0.764706              65.166667              5.419102   \n",
       "7                      NaN                    NaN                   NaN   \n",
       "8                 2.200000              83.000000              3.741657   \n",
       "9                 2.200000              83.000000              3.741657   \n",
       "\n",
       "     LAB_NAME  \n",
       "0  Heart Rate  \n",
       "1  Heart Rate  \n",
       "2  Heart Rate  \n",
       "3  Heart Rate  \n",
       "4  Heart Rate  \n",
       "5  Heart Rate  \n",
       "6  Heart Rate  \n",
       "7  Heart Rate  \n",
       "8  Heart Rate  \n",
       "9  Heart Rate  \n",
       "\n",
       "[10 rows x 93 columns]"
      ]
     },
     "execution_count": 15,
     "metadata": {},
     "output_type": "execute_result"
    }
   ],
   "source": [
    "res_dict[lab]"
   ]
  },
  {
   "cell_type": "code",
   "execution_count": 12,
   "metadata": {},
   "outputs": [
    {
     "name": "stdout",
     "output_type": "stream",
     "text": [
      "Starting pairs generation for Heart Rate....\n"
     ]
    },
    {
     "ename": "KeyError",
     "evalue": "'before_abs_(0, 6)'",
     "output_type": "error",
     "traceback": [
      "\u001b[0;31m---------------------------------------------------------------------------\u001b[0m",
      "\u001b[0;31mKeyError\u001b[0m                                  Traceback (most recent call last)",
      "File \u001b[0;32m~/Desktop/TAU/DrugLab/venv/lib/python3.9/site-packages/pandas/core/indexes/base.py:3802\u001b[0m, in \u001b[0;36mIndex.get_loc\u001b[0;34m(self, key, method, tolerance)\u001b[0m\n\u001b[1;32m   3801\u001b[0m \u001b[39mtry\u001b[39;00m:\n\u001b[0;32m-> 3802\u001b[0m     \u001b[39mreturn\u001b[39;00m \u001b[39mself\u001b[39;49m\u001b[39m.\u001b[39;49m_engine\u001b[39m.\u001b[39;49mget_loc(casted_key)\n\u001b[1;32m   3803\u001b[0m \u001b[39mexcept\u001b[39;00m \u001b[39mKeyError\u001b[39;00m \u001b[39mas\u001b[39;00m err:\n",
      "File \u001b[0;32m~/Desktop/TAU/DrugLab/venv/lib/python3.9/site-packages/pandas/_libs/index.pyx:138\u001b[0m, in \u001b[0;36mpandas._libs.index.IndexEngine.get_loc\u001b[0;34m()\u001b[0m\n",
      "File \u001b[0;32m~/Desktop/TAU/DrugLab/venv/lib/python3.9/site-packages/pandas/_libs/index.pyx:162\u001b[0m, in \u001b[0;36mpandas._libs.index.IndexEngine.get_loc\u001b[0;34m()\u001b[0m\n",
      "File \u001b[0;32m~/Desktop/TAU/DrugLab/venv/lib/python3.9/site-packages/pandas/_libs/index.pyx:203\u001b[0m, in \u001b[0;36mpandas._libs.index.IndexEngine._get_loc_duplicates\u001b[0;34m()\u001b[0m\n",
      "File \u001b[0;32m~/Desktop/TAU/DrugLab/venv/lib/python3.9/site-packages/pandas/_libs/index.pyx:211\u001b[0m, in \u001b[0;36mpandas._libs.index.IndexEngine._maybe_get_bool_indexer\u001b[0;34m()\u001b[0m\n",
      "File \u001b[0;32m~/Desktop/TAU/DrugLab/venv/lib/python3.9/site-packages/pandas/_libs/index.pyx:107\u001b[0m, in \u001b[0;36mpandas._libs.index._unpack_bool_indexer\u001b[0;34m()\u001b[0m\n",
      "\u001b[0;31mKeyError\u001b[0m: 'before_abs_(0, 6)'",
      "\nThe above exception was the direct cause of the following exception:\n",
      "\u001b[0;31mKeyError\u001b[0m                                  Traceback (most recent call last)",
      "Cell \u001b[0;32mIn[12], line 16\u001b[0m\n\u001b[1;32m      3\u001b[0m mimic_data_querier \u001b[39m=\u001b[39m querier\u001b[39m.\u001b[39mDatasetQuerier(\n\u001b[1;32m      4\u001b[0m     data \u001b[39m=\u001b[39m data,\n\u001b[1;32m      5\u001b[0m     res \u001b[39m=\u001b[39m res,\n\u001b[0;32m   (...)\u001b[0m\n\u001b[1;32m     13\u001b[0m     lab_mapping\u001b[39m=\u001b[39mlab_mapping\n\u001b[1;32m     14\u001b[0m )\n\u001b[1;32m     15\u001b[0m \u001b[39m# query pairs for all medication and lab tests\u001b[39;00m\n\u001b[0;32m---> 16\u001b[0m t2 \u001b[39m=\u001b[39m mimic_data_querier\u001b[39m.\u001b[39;49mgenerate_med_lab_data(before_windows, after_windows, lab_parts\u001b[39m=\u001b[39;49m\u001b[39mf\u001b[39;49m\u001b[39m\"\u001b[39;49m\u001b[39m{\u001b[39;49;00mlab\u001b[39m}\u001b[39;49;00m\u001b[39m_(0,15)\u001b[39;49m\u001b[39m\"\u001b[39;49m)\n",
      "File \u001b[0;32m~/Desktop/TAU/DrugLab/src/modeling/querier.py:125\u001b[0m, in \u001b[0;36mDatasetQuerier.generate_med_lab_data\u001b[0;34m(self, before_windows, after_windows, lab_parts)\u001b[0m\n\u001b[1;32m    122\u001b[0m col_vals \u001b[39m=\u001b[39m []\n\u001b[1;32m    123\u001b[0m \u001b[39mfor\u001b[39;00m col \u001b[39min\u001b[39;00m cols:\n\u001b[1;32m    124\u001b[0m     col_vals\u001b[39m.\u001b[39mappend(\n\u001b[0;32m--> 125\u001b[0m         temp\u001b[39m.\u001b[39massign(\u001b[39mdict\u001b[39m\u001b[39m=\u001b[39mtemp[col]\u001b[39m.\u001b[39mdropna()\u001b[39m.\u001b[39mmap(\u001b[39mlambda\u001b[39;00m d: d\u001b[39m.\u001b[39mitems()))\u001b[39m.\u001b[39mexplode(\u001b[39m\"\u001b[39m\u001b[39mdict\u001b[39m\u001b[39m\"\u001b[39m, ignore_index\u001b[39m=\u001b[39m\u001b[39mTrue\u001b[39;00m)\u001b[39m.\u001b[39massign(\n\u001b[1;32m    126\u001b[0m             LAB_ITEMID\u001b[39m=\u001b[39m\u001b[39mlambda\u001b[39;00m df: df\u001b[39m.\u001b[39mdict\u001b[39m.\u001b[39mstr\u001b[39m.\u001b[39mget(\u001b[39m0\u001b[39m),\n\u001b[1;32m    127\u001b[0m             temp\u001b[39m=\u001b[39m\u001b[39mlambda\u001b[39;00m df: df\u001b[39m.\u001b[39mdict\u001b[39m.\u001b[39mstr\u001b[39m.\u001b[39mget(\u001b[39m1\u001b[39m)\n\u001b[1;32m    128\u001b[0m         )\u001b[39m.\u001b[39mdrop(columns\u001b[39m=\u001b[39m[\u001b[39m\"\u001b[39m\u001b[39mdict\u001b[39m\u001b[39m\"\u001b[39m]\u001b[39m+\u001b[39mcols)\u001b[39m.\u001b[39mastype({\u001b[39m'\u001b[39m\u001b[39mtemp\u001b[39m\u001b[39m'\u001b[39m:\u001b[39m'\u001b[39m\u001b[39mfloat64\u001b[39m\u001b[39m'\u001b[39m})\u001b[39m.\u001b[39mrename(columns\u001b[39m=\u001b[39m{\u001b[39m\"\u001b[39m\u001b[39mtemp\u001b[39m\u001b[39m\"\u001b[39m:\u001b[39mf\u001b[39m\u001b[39m\"\u001b[39m\u001b[39m{\u001b[39;00mcol\u001b[39m}\u001b[39;00m\u001b[39m_sp\u001b[39m\u001b[39m\"\u001b[39m})\u001b[39m.\u001b[39mdropna(subset\u001b[39m=\u001b[39m[\u001b[39m\"\u001b[39m\u001b[39mLAB_ITEMID\u001b[39m\u001b[39m\"\u001b[39m])\n\u001b[1;32m    129\u001b[0m     )\n\u001b[1;32m    130\u001b[0m \u001b[39mfor\u001b[39;00m i \u001b[39min\u001b[39;00m \u001b[39mrange\u001b[39m(\u001b[39m1\u001b[39m, \u001b[39mlen\u001b[39m(col_vals)):\n\u001b[1;32m    131\u001b[0m     col_vals[i] \u001b[39m=\u001b[39m pd\u001b[39m.\u001b[39mmerge(col_vals[i\u001b[39m-\u001b[39m\u001b[39m1\u001b[39m], col_vals[i], how\u001b[39m=\u001b[39m\u001b[39m\"\u001b[39m\u001b[39mouter\u001b[39m\u001b[39m\"\u001b[39m, on\u001b[39m=\u001b[39m\u001b[39mlist\u001b[39m(t_med1\u001b[39m.\u001b[39mcolumns)\u001b[39m+\u001b[39m[\u001b[39m\"\u001b[39m\u001b[39mLAB_ITEMID\u001b[39m\u001b[39m\"\u001b[39m])\n",
      "File \u001b[0;32m~/Desktop/TAU/DrugLab/venv/lib/python3.9/site-packages/pandas/core/frame.py:3807\u001b[0m, in \u001b[0;36mDataFrame.__getitem__\u001b[0;34m(self, key)\u001b[0m\n\u001b[1;32m   3805\u001b[0m \u001b[39mif\u001b[39;00m \u001b[39mself\u001b[39m\u001b[39m.\u001b[39mcolumns\u001b[39m.\u001b[39mnlevels \u001b[39m>\u001b[39m \u001b[39m1\u001b[39m:\n\u001b[1;32m   3806\u001b[0m     \u001b[39mreturn\u001b[39;00m \u001b[39mself\u001b[39m\u001b[39m.\u001b[39m_getitem_multilevel(key)\n\u001b[0;32m-> 3807\u001b[0m indexer \u001b[39m=\u001b[39m \u001b[39mself\u001b[39;49m\u001b[39m.\u001b[39;49mcolumns\u001b[39m.\u001b[39;49mget_loc(key)\n\u001b[1;32m   3808\u001b[0m \u001b[39mif\u001b[39;00m is_integer(indexer):\n\u001b[1;32m   3809\u001b[0m     indexer \u001b[39m=\u001b[39m [indexer]\n",
      "File \u001b[0;32m~/Desktop/TAU/DrugLab/venv/lib/python3.9/site-packages/pandas/core/indexes/base.py:3804\u001b[0m, in \u001b[0;36mIndex.get_loc\u001b[0;34m(self, key, method, tolerance)\u001b[0m\n\u001b[1;32m   3802\u001b[0m     \u001b[39mreturn\u001b[39;00m \u001b[39mself\u001b[39m\u001b[39m.\u001b[39m_engine\u001b[39m.\u001b[39mget_loc(casted_key)\n\u001b[1;32m   3803\u001b[0m \u001b[39mexcept\u001b[39;00m \u001b[39mKeyError\u001b[39;00m \u001b[39mas\u001b[39;00m err:\n\u001b[0;32m-> 3804\u001b[0m     \u001b[39mraise\u001b[39;00m \u001b[39mKeyError\u001b[39;00m(key) \u001b[39mfrom\u001b[39;00m \u001b[39merr\u001b[39;00m\n\u001b[1;32m   3805\u001b[0m \u001b[39mexcept\u001b[39;00m \u001b[39mTypeError\u001b[39;00m:\n\u001b[1;32m   3806\u001b[0m     \u001b[39m# If we have a listlike key, _check_indexing_error will raise\u001b[39;00m\n\u001b[1;32m   3807\u001b[0m     \u001b[39m#  InvalidIndexError. Otherwise we fall through and re-raise\u001b[39;00m\n\u001b[1;32m   3808\u001b[0m     \u001b[39m#  the TypeError.\u001b[39;00m\n\u001b[1;32m   3809\u001b[0m     \u001b[39mself\u001b[39m\u001b[39m.\u001b[39m_check_indexing_error(key)\n",
      "\u001b[0;31mKeyError\u001b[0m: 'before_abs_(0, 6)'"
     ]
    }
   ],
   "source": [
    "print(f\"Starting pairs generation for {lab}....\")\n",
    "## Querier\n",
    "mimic_data_querier = querier.DatasetQuerier(\n",
    "    data = data,\n",
    "    res = res,\n",
    "    t_labs=m_labs, \n",
    "    t_med1=m_med1.iloc[:10], \n",
    "    t_med2=m_med2,\n",
    "    gender=gender, \n",
    "    age_b=age_b, \n",
    "    age_a=age_a, \n",
    "    ethnicity=ethnicity, \n",
    "    lab_mapping=lab_mapping\n",
    ")\n",
    "# query pairs for all medication and lab tests\n",
    "t2 = mimic_data_querier.generate_med_lab_data(before_windows, after_windows, lab_parts=f\"{lab}_(0,15)\")"
   ]
  },
  {
   "cell_type": "code",
   "execution_count": 14,
   "metadata": {},
   "outputs": [
    {
     "data": {
      "text/plain": [
       "56325     {'Heart Rate': 57.0}\n",
       "56321     {'Heart Rate': 57.0}\n",
       "56320     {'Heart Rate': 57.0}\n",
       "37783    {'Heart Rate': 112.0}\n",
       "56313     {'Heart Rate': 68.0}\n",
       "73844    {'Heart Rate': 106.0}\n",
       "56314     {'Heart Rate': 68.0}\n",
       "37780     {'Heart Rate': 93.0}\n",
       "37781     {'Heart Rate': 93.0}\n",
       "37779     {'Heart Rate': 93.0}\n",
       "Name: before_abs_(0, 6), dtype: object"
      ]
     },
     "execution_count": 14,
     "metadata": {},
     "output_type": "execute_result"
    }
   ],
   "source": [
    "mimic_data_querier.temp['before_abs_(0, 6)']"
   ]
  },
  {
   "cell_type": "code",
   "execution_count": null,
   "metadata": {},
   "outputs": [],
   "source": []
  },
  {
   "cell_type": "code",
   "execution_count": null,
   "metadata": {},
   "outputs": [],
   "source": [
    "res_dict = {}\n",
    "for lab in constants.LAB_MAPPING.keys():\n",
    "    print(f\"Parsing {lab} data....\")\n",
    "    # MIMIC\n",
    "    mimic_parser = mimic.MIMICParser(data=data, res=res, gender=gender, age_b=age_b, age_a=age_a, ethnicity=ethnicity, load=\"AUTOMATIC_MAPPING_MIMIC\")\n",
    "    m_med1, m_med2, m_labs = mimic_parser.parse(use_pairs=False, load_from_raw=True, load_raw_chartevents=False, lab_parts=(0, 15), lab=lab)\n",
    "    m_labs = m_labs.reset_index().drop(columns=[\"index\"])\n",
    "    print(f\"Done parsing {lab}.\")\n",
    "    \n",
    "    print(f\"Starting pairs generation for {lab}....\")\n",
    "    ## Querier\n",
    "    mimic_data_querier = querier.DatasetQuerier(\n",
    "        data = data,\n",
    "        res = res,\n",
    "        t_labs=m_labs, \n",
    "        t_med1=m_med1, \n",
    "        t_med2=m_med2,\n",
    "        gender=gender, \n",
    "        age_b=age_b, \n",
    "        age_a=age_a, \n",
    "        ethnicity=ethnicity, \n",
    "        lab_mapping=lab_mapping\n",
    "    )\n",
    "    # query pairs for all medication and lab tests\n",
    "    res_dict[lab] = mimic_data_querier.generate_med_lab_data(before_windows, after_windows, lab_parts=f\"{lab}_(0,15)\")\n",
    "    print(f\"Pairs generated for {lab}.\")\n",
    "    "
   ]
  },
  {
   "cell_type": "code",
   "execution_count": 19,
   "metadata": {},
   "outputs": [
    {
     "name": "stdout",
     "output_type": "stream",
     "text": [
      "Parsing Heart Rate data....\n",
      "Done parsing Heart Rate.\n",
      "Starting pairs generation for Heart Rate....\n"
     ]
    },
    {
     "name": "stderr",
     "output_type": "stream",
     "text": [
      "100%|██████████| 138658/138658 [3:15:59<00:00, 11.79it/s]     \n",
      "/var/folders/by/jbk3mn054mv4x7_28jxcwvx80000gn/T/ipykernel_31969/1326359903.py:49: SettingWithCopyWarning: \n",
      "A value is trying to be set on a copy of a slice from a DataFrame.\n",
      "Try using .loc[row_indexer,col_indexer] = value instead\n",
      "\n",
      "See the caveats in the documentation: https://pandas.pydata.org/pandas-docs/stable/user_guide/indexing.html#returning-a-view-versus-a-copy\n",
      "  final[\"LAB_NAME\"] = final[\"LAB_ITEMID\"]\n"
     ]
    },
    {
     "name": "stdout",
     "output_type": "stream",
     "text": [
      "Pairs generated for Heart Rate.\n",
      "Parsing Diastolic blood pressure data....\n",
      "Loading med data...\n",
      "Generate med data....\n"
     ]
    },
    {
     "name": "stderr",
     "output_type": "stream",
     "text": [
      "/Users/pavan/Desktop/TAU/DrugLab/src/parsers/mimic.py:51: FutureWarning: Passing 'suffixes' which cause duplicate columns {'ROW_ID_x'} in the result is deprecated and will raise a MergeError in a future version.\n",
      "  m_p_df = pd.merge(inputevents_mv, med_data, how=\"inner\", on=\"ITEMID\")\n"
     ]
    },
    {
     "name": "stdout",
     "output_type": "stream",
     "text": [
      "Generated med data.\n",
      "Loaded med data.\n",
      "Load 1st and 2nd medication data...\n",
      "Loaded 1st and 2nd medication data.\n",
      "Load Lab data...\n",
      "Generate lab data from labevents...\n"
     ]
    },
    {
     "name": "stderr",
     "output_type": "stream",
     "text": [
      "/Users/pavan/Desktop/TAU/DrugLab/src/parsers/mimic.py:138: DtypeWarning: Columns (29) have mixed types. Specify dtype option on import or set low_memory=False.\n",
      "  labevents = pd.read_csv(os.path.join(self.data, constants.MIMIC_III_PREPROCESSED_PATH, constants.MIMIC_III_LABEVENT_PREPROCESSED))\n"
     ]
    },
    {
     "name": "stdout",
     "output_type": "stream",
     "text": [
      "Generated lab data from labevents.\n",
      "Generate lab data from chartevents...\n",
      "Loading Diastolic blood pressure data from CHARTEVENTS...\n",
      "Loading Diastolic blood pressure data from CHARTEVENTS...\n",
      "Loading Diastolic blood pressure data from CHARTEVENTS...\n",
      "Loading Diastolic blood pressure data from CHARTEVENTS...\n",
      "Loading Diastolic blood pressure data from CHARTEVENTS...\n",
      "Loading Diastolic blood pressure data from CHARTEVENTS...\n",
      "Loading Diastolic blood pressure data from CHARTEVENTS...\n"
     ]
    },
    {
     "name": "stderr",
     "output_type": "stream",
     "text": [
      "/Users/pavan/Desktop/TAU/DrugLab/src/parsers/mimic.py:194: DtypeWarning: Columns (14,15) have mixed types. Specify dtype option on import or set low_memory=False.\n",
      "  df = pd.read_csv(path)\n"
     ]
    },
    {
     "name": "stdout",
     "output_type": "stream",
     "text": [
      "Loading Diastolic blood pressure data from CHARTEVENTS...\n"
     ]
    },
    {
     "name": "stderr",
     "output_type": "stream",
     "text": [
      "/Users/pavan/Desktop/TAU/DrugLab/src/parsers/mimic.py:194: DtypeWarning: Columns (9) have mixed types. Specify dtype option on import or set low_memory=False.\n",
      "  df = pd.read_csv(path)\n"
     ]
    },
    {
     "name": "stdout",
     "output_type": "stream",
     "text": [
      "Loading Diastolic blood pressure data from CHARTEVENTS...\n",
      "Loading Diastolic blood pressure data from CHARTEVENTS...\n"
     ]
    },
    {
     "name": "stderr",
     "output_type": "stream",
     "text": [
      "/Users/pavan/Desktop/TAU/DrugLab/src/parsers/mimic.py:194: DtypeWarning: Columns (9) have mixed types. Specify dtype option on import or set low_memory=False.\n",
      "  df = pd.read_csv(path)\n"
     ]
    },
    {
     "name": "stdout",
     "output_type": "stream",
     "text": [
      "Loading Diastolic blood pressure data from CHARTEVENTS...\n",
      "Loading Diastolic blood pressure data from CHARTEVENTS...\n"
     ]
    },
    {
     "name": "stderr",
     "output_type": "stream",
     "text": [
      "/Users/pavan/Desktop/TAU/DrugLab/src/parsers/mimic.py:194: DtypeWarning: Columns (9) have mixed types. Specify dtype option on import or set low_memory=False.\n",
      "  df = pd.read_csv(path)\n"
     ]
    },
    {
     "name": "stdout",
     "output_type": "stream",
     "text": [
      "Loading Diastolic blood pressure data from CHARTEVENTS...\n",
      "Loading Diastolic blood pressure data from CHARTEVENTS...\n"
     ]
    },
    {
     "name": "stderr",
     "output_type": "stream",
     "text": [
      "/Users/pavan/Desktop/TAU/DrugLab/src/parsers/mimic.py:194: DtypeWarning: Columns (9) have mixed types. Specify dtype option on import or set low_memory=False.\n",
      "  df = pd.read_csv(path)\n"
     ]
    },
    {
     "name": "stdout",
     "output_type": "stream",
     "text": [
      "Loading Diastolic blood pressure data from CHARTEVENTS...\n"
     ]
    },
    {
     "name": "stderr",
     "output_type": "stream",
     "text": [
      "/Users/pavan/Desktop/TAU/DrugLab/src/parsers/mimic.py:194: DtypeWarning: Columns (9) have mixed types. Specify dtype option on import or set low_memory=False.\n",
      "  df = pd.read_csv(path)\n"
     ]
    },
    {
     "name": "stdout",
     "output_type": "stream",
     "text": [
      "Loading Diastolic blood pressure data from CHARTEVENTS...\n"
     ]
    },
    {
     "name": "stderr",
     "output_type": "stream",
     "text": [
      "/Users/pavan/Desktop/TAU/DrugLab/src/parsers/mimic.py:194: DtypeWarning: Columns (9) have mixed types. Specify dtype option on import or set low_memory=False.\n",
      "  df = pd.read_csv(path)\n"
     ]
    },
    {
     "name": "stdout",
     "output_type": "stream",
     "text": [
      "Loading Diastolic blood pressure data from CHARTEVENTS...\n"
     ]
    },
    {
     "name": "stderr",
     "output_type": "stream",
     "text": [
      "/Users/pavan/Desktop/TAU/DrugLab/src/parsers/mimic.py:194: DtypeWarning: Columns (9) have mixed types. Specify dtype option on import or set low_memory=False.\n",
      "  df = pd.read_csv(path)\n"
     ]
    },
    {
     "name": "stdout",
     "output_type": "stream",
     "text": [
      "Loading Diastolic blood pressure data from CHARTEVENTS...\n"
     ]
    },
    {
     "name": "stderr",
     "output_type": "stream",
     "text": [
      "/Users/pavan/Desktop/TAU/DrugLab/src/parsers/mimic.py:194: DtypeWarning: Columns (9) have mixed types. Specify dtype option on import or set low_memory=False.\n",
      "  df = pd.read_csv(path)\n"
     ]
    },
    {
     "name": "stdout",
     "output_type": "stream",
     "text": [
      "Loading Diastolic blood pressure data from CHARTEVENTS...\n"
     ]
    },
    {
     "name": "stderr",
     "output_type": "stream",
     "text": [
      "/Users/pavan/Desktop/TAU/DrugLab/src/parsers/mimic.py:194: DtypeWarning: Columns (9) have mixed types. Specify dtype option on import or set low_memory=False.\n",
      "  df = pd.read_csv(path)\n"
     ]
    },
    {
     "name": "stdout",
     "output_type": "stream",
     "text": [
      "Loading Diastolic blood pressure data from CHARTEVENTS...\n",
      "Loading Diastolic blood pressure data from CHARTEVENTS...\n"
     ]
    },
    {
     "name": "stderr",
     "output_type": "stream",
     "text": [
      "/Users/pavan/Desktop/TAU/DrugLab/src/parsers/mimic.py:194: DtypeWarning: Columns (9) have mixed types. Specify dtype option on import or set low_memory=False.\n",
      "  df = pd.read_csv(path)\n"
     ]
    },
    {
     "name": "stdout",
     "output_type": "stream",
     "text": [
      "Loading Diastolic blood pressure data from CHARTEVENTS...\n"
     ]
    },
    {
     "name": "stderr",
     "output_type": "stream",
     "text": [
      "/Users/pavan/Desktop/TAU/DrugLab/src/parsers/mimic.py:194: DtypeWarning: Columns (9) have mixed types. Specify dtype option on import or set low_memory=False.\n",
      "  df = pd.read_csv(path)\n"
     ]
    },
    {
     "name": "stdout",
     "output_type": "stream",
     "text": [
      "Loading Diastolic blood pressure data from CHARTEVENTS...\n",
      "Loading Diastolic blood pressure data from CHARTEVENTS...\n",
      "Loading Diastolic blood pressure data from CHARTEVENTS...\n",
      "Loading Diastolic blood pressure data from CHARTEVENTS...\n"
     ]
    },
    {
     "name": "stderr",
     "output_type": "stream",
     "text": [
      "/Users/pavan/Desktop/TAU/DrugLab/src/parsers/mimic.py:194: DtypeWarning: Columns (9) have mixed types. Specify dtype option on import or set low_memory=False.\n",
      "  df = pd.read_csv(path)\n"
     ]
    },
    {
     "name": "stdout",
     "output_type": "stream",
     "text": [
      "Loading Diastolic blood pressure data from CHARTEVENTS...\n"
     ]
    },
    {
     "name": "stderr",
     "output_type": "stream",
     "text": [
      "/Users/pavan/Desktop/TAU/DrugLab/src/parsers/mimic.py:194: DtypeWarning: Columns (9) have mixed types. Specify dtype option on import or set low_memory=False.\n",
      "  df = pd.read_csv(path)\n"
     ]
    },
    {
     "name": "stdout",
     "output_type": "stream",
     "text": [
      "Loading Diastolic blood pressure data from CHARTEVENTS...\n"
     ]
    },
    {
     "name": "stderr",
     "output_type": "stream",
     "text": [
      "/Users/pavan/Desktop/TAU/DrugLab/src/parsers/mimic.py:194: DtypeWarning: Columns (9) have mixed types. Specify dtype option on import or set low_memory=False.\n",
      "  df = pd.read_csv(path)\n"
     ]
    },
    {
     "name": "stdout",
     "output_type": "stream",
     "text": [
      "Loading Diastolic blood pressure data from CHARTEVENTS...\n"
     ]
    },
    {
     "name": "stderr",
     "output_type": "stream",
     "text": [
      "/Users/pavan/Desktop/TAU/DrugLab/src/parsers/mimic.py:194: DtypeWarning: Columns (9) have mixed types. Specify dtype option on import or set low_memory=False.\n",
      "  df = pd.read_csv(path)\n"
     ]
    },
    {
     "name": "stdout",
     "output_type": "stream",
     "text": [
      "Loading Diastolic blood pressure data from CHARTEVENTS...\n"
     ]
    },
    {
     "name": "stderr",
     "output_type": "stream",
     "text": [
      "/Users/pavan/Desktop/TAU/DrugLab/src/parsers/mimic.py:194: DtypeWarning: Columns (9) have mixed types. Specify dtype option on import or set low_memory=False.\n",
      "  df = pd.read_csv(path)\n"
     ]
    },
    {
     "name": "stdout",
     "output_type": "stream",
     "text": [
      "Loading Diastolic blood pressure data from CHARTEVENTS...\n"
     ]
    },
    {
     "name": "stderr",
     "output_type": "stream",
     "text": [
      "/Users/pavan/Desktop/TAU/DrugLab/src/parsers/mimic.py:194: DtypeWarning: Columns (9) have mixed types. Specify dtype option on import or set low_memory=False.\n",
      "  df = pd.read_csv(path)\n"
     ]
    },
    {
     "name": "stdout",
     "output_type": "stream",
     "text": [
      "Loading Diastolic blood pressure data from CHARTEVENTS...\n"
     ]
    },
    {
     "name": "stderr",
     "output_type": "stream",
     "text": [
      "/Users/pavan/Desktop/TAU/DrugLab/src/parsers/mimic.py:194: DtypeWarning: Columns (9) have mixed types. Specify dtype option on import or set low_memory=False.\n",
      "  df = pd.read_csv(path)\n"
     ]
    },
    {
     "name": "stdout",
     "output_type": "stream",
     "text": [
      "Loading Diastolic blood pressure data from CHARTEVENTS...\n"
     ]
    },
    {
     "name": "stderr",
     "output_type": "stream",
     "text": [
      "/Users/pavan/Desktop/TAU/DrugLab/src/parsers/mimic.py:194: DtypeWarning: Columns (9) have mixed types. Specify dtype option on import or set low_memory=False.\n",
      "  df = pd.read_csv(path)\n"
     ]
    },
    {
     "name": "stdout",
     "output_type": "stream",
     "text": [
      "Loading Diastolic blood pressure data from CHARTEVENTS...\n"
     ]
    },
    {
     "name": "stderr",
     "output_type": "stream",
     "text": [
      "/Users/pavan/Desktop/TAU/DrugLab/src/parsers/mimic.py:194: DtypeWarning: Columns (9) have mixed types. Specify dtype option on import or set low_memory=False.\n",
      "  df = pd.read_csv(path)\n"
     ]
    },
    {
     "name": "stdout",
     "output_type": "stream",
     "text": [
      "Loading Diastolic blood pressure data from CHARTEVENTS...\n",
      "Loading Diastolic blood pressure data from CHARTEVENTS...\n"
     ]
    },
    {
     "name": "stderr",
     "output_type": "stream",
     "text": [
      "/Users/pavan/Desktop/TAU/DrugLab/src/parsers/mimic.py:194: DtypeWarning: Columns (9) have mixed types. Specify dtype option on import or set low_memory=False.\n",
      "  df = pd.read_csv(path)\n"
     ]
    },
    {
     "name": "stdout",
     "output_type": "stream",
     "text": [
      "Loading Diastolic blood pressure data from CHARTEVENTS...\n",
      "Loading Diastolic blood pressure data from CHARTEVENTS...\n"
     ]
    },
    {
     "name": "stderr",
     "output_type": "stream",
     "text": [
      "/Users/pavan/Desktop/TAU/DrugLab/src/parsers/mimic.py:194: DtypeWarning: Columns (9) have mixed types. Specify dtype option on import or set low_memory=False.\n",
      "  df = pd.read_csv(path)\n"
     ]
    },
    {
     "name": "stdout",
     "output_type": "stream",
     "text": [
      "Loading Diastolic blood pressure data from CHARTEVENTS...\n"
     ]
    },
    {
     "name": "stderr",
     "output_type": "stream",
     "text": [
      "/Users/pavan/Desktop/TAU/DrugLab/src/parsers/mimic.py:194: DtypeWarning: Columns (14) have mixed types. Specify dtype option on import or set low_memory=False.\n",
      "  df = pd.read_csv(path)\n"
     ]
    },
    {
     "name": "stdout",
     "output_type": "stream",
     "text": [
      "Loading Diastolic blood pressure data from CHARTEVENTS...\n",
      "Loading Diastolic blood pressure data from CHARTEVENTS...\n",
      "Loading Diastolic blood pressure data from CHARTEVENTS...\n",
      "Loading Diastolic blood pressure data from CHARTEVENTS...\n",
      "Loading Diastolic blood pressure data from CHARTEVENTS...\n",
      "Loading Diastolic blood pressure data from CHARTEVENTS...\n",
      "Loading Diastolic blood pressure data from CHARTEVENTS...\n",
      "Loading Diastolic blood pressure data from CHARTEVENTS...\n",
      "Loading Diastolic blood pressure data from CHARTEVENTS...\n",
      "Loading Diastolic blood pressure data from CHARTEVENTS...\n",
      "Loading Diastolic blood pressure data from CHARTEVENTS...\n",
      "Loading Diastolic blood pressure data from CHARTEVENTS...\n",
      "Loading Diastolic blood pressure data from CHARTEVENTS...\n",
      "Generated lab data from chartevents.\n",
      "Loaded Lab data.\n",
      "Done parsing Diastolic blood pressure.\n",
      "Starting pairs generation for Diastolic blood pressure....\n"
     ]
    },
    {
     "name": "stderr",
     "output_type": "stream",
     "text": [
      "100%|██████████| 138658/138658 [6:06:26<00:00,  6.31it/s]    \n",
      "/var/folders/by/jbk3mn054mv4x7_28jxcwvx80000gn/T/ipykernel_31969/1326359903.py:49: SettingWithCopyWarning: \n",
      "A value is trying to be set on a copy of a slice from a DataFrame.\n",
      "Try using .loc[row_indexer,col_indexer] = value instead\n",
      "\n",
      "See the caveats in the documentation: https://pandas.pydata.org/pandas-docs/stable/user_guide/indexing.html#returning-a-view-versus-a-copy\n",
      "  final[\"LAB_NAME\"] = final[\"LAB_ITEMID\"]\n"
     ]
    },
    {
     "name": "stdout",
     "output_type": "stream",
     "text": [
      "Pairs generated for Diastolic blood pressure.\n",
      "Parsing Systolic blood pressure data....\n",
      "Loading med data...\n",
      "Generate med data....\n"
     ]
    },
    {
     "name": "stderr",
     "output_type": "stream",
     "text": [
      "/Users/pavan/Desktop/TAU/DrugLab/src/parsers/mimic.py:51: FutureWarning: Passing 'suffixes' which cause duplicate columns {'ROW_ID_x'} in the result is deprecated and will raise a MergeError in a future version.\n",
      "  m_p_df = pd.merge(inputevents_mv, med_data, how=\"inner\", on=\"ITEMID\")\n"
     ]
    },
    {
     "name": "stdout",
     "output_type": "stream",
     "text": [
      "Generated med data.\n",
      "Loaded med data.\n",
      "Load 1st and 2nd medication data...\n",
      "Loaded 1st and 2nd medication data.\n",
      "Load Lab data...\n",
      "Generate lab data from labevents...\n"
     ]
    },
    {
     "name": "stderr",
     "output_type": "stream",
     "text": [
      "/Users/pavan/Desktop/TAU/DrugLab/src/parsers/mimic.py:138: DtypeWarning: Columns (29) have mixed types. Specify dtype option on import or set low_memory=False.\n",
      "  labevents = pd.read_csv(os.path.join(self.data, constants.MIMIC_III_PREPROCESSED_PATH, constants.MIMIC_III_LABEVENT_PREPROCESSED))\n"
     ]
    },
    {
     "name": "stdout",
     "output_type": "stream",
     "text": [
      "Generated lab data from labevents.\n",
      "Generate lab data from chartevents...\n",
      "Loading Systolic blood pressure data from CHARTEVENTS...\n",
      "Loading Systolic blood pressure data from CHARTEVENTS...\n",
      "Loading Systolic blood pressure data from CHARTEVENTS...\n",
      "Loading Systolic blood pressure data from CHARTEVENTS...\n",
      "Loading Systolic blood pressure data from CHARTEVENTS...\n",
      "Loading Systolic blood pressure data from CHARTEVENTS...\n",
      "Loading Systolic blood pressure data from CHARTEVENTS...\n"
     ]
    },
    {
     "name": "stderr",
     "output_type": "stream",
     "text": [
      "/Users/pavan/Desktop/TAU/DrugLab/src/parsers/mimic.py:194: DtypeWarning: Columns (14,15) have mixed types. Specify dtype option on import or set low_memory=False.\n",
      "  df = pd.read_csv(path)\n"
     ]
    },
    {
     "name": "stdout",
     "output_type": "stream",
     "text": [
      "Loading Systolic blood pressure data from CHARTEVENTS...\n"
     ]
    },
    {
     "name": "stderr",
     "output_type": "stream",
     "text": [
      "/Users/pavan/Desktop/TAU/DrugLab/src/parsers/mimic.py:194: DtypeWarning: Columns (9) have mixed types. Specify dtype option on import or set low_memory=False.\n",
      "  df = pd.read_csv(path)\n"
     ]
    },
    {
     "name": "stdout",
     "output_type": "stream",
     "text": [
      "Loading Systolic blood pressure data from CHARTEVENTS...\n",
      "Loading Systolic blood pressure data from CHARTEVENTS...\n"
     ]
    },
    {
     "name": "stderr",
     "output_type": "stream",
     "text": [
      "/Users/pavan/Desktop/TAU/DrugLab/src/parsers/mimic.py:194: DtypeWarning: Columns (9) have mixed types. Specify dtype option on import or set low_memory=False.\n",
      "  df = pd.read_csv(path)\n"
     ]
    },
    {
     "name": "stdout",
     "output_type": "stream",
     "text": [
      "Loading Systolic blood pressure data from CHARTEVENTS...\n",
      "Loading Systolic blood pressure data from CHARTEVENTS...\n"
     ]
    },
    {
     "name": "stderr",
     "output_type": "stream",
     "text": [
      "/Users/pavan/Desktop/TAU/DrugLab/src/parsers/mimic.py:194: DtypeWarning: Columns (9) have mixed types. Specify dtype option on import or set low_memory=False.\n",
      "  df = pd.read_csv(path)\n"
     ]
    },
    {
     "name": "stdout",
     "output_type": "stream",
     "text": [
      "Loading Systolic blood pressure data from CHARTEVENTS...\n",
      "Loading Systolic blood pressure data from CHARTEVENTS...\n"
     ]
    },
    {
     "name": "stderr",
     "output_type": "stream",
     "text": [
      "/Users/pavan/Desktop/TAU/DrugLab/src/parsers/mimic.py:194: DtypeWarning: Columns (9) have mixed types. Specify dtype option on import or set low_memory=False.\n",
      "  df = pd.read_csv(path)\n"
     ]
    },
    {
     "name": "stdout",
     "output_type": "stream",
     "text": [
      "Loading Systolic blood pressure data from CHARTEVENTS...\n"
     ]
    },
    {
     "name": "stderr",
     "output_type": "stream",
     "text": [
      "/Users/pavan/Desktop/TAU/DrugLab/src/parsers/mimic.py:194: DtypeWarning: Columns (9) have mixed types. Specify dtype option on import or set low_memory=False.\n",
      "  df = pd.read_csv(path)\n"
     ]
    },
    {
     "name": "stdout",
     "output_type": "stream",
     "text": [
      "Loading Systolic blood pressure data from CHARTEVENTS...\n"
     ]
    },
    {
     "name": "stderr",
     "output_type": "stream",
     "text": [
      "/Users/pavan/Desktop/TAU/DrugLab/src/parsers/mimic.py:194: DtypeWarning: Columns (9) have mixed types. Specify dtype option on import or set low_memory=False.\n",
      "  df = pd.read_csv(path)\n"
     ]
    },
    {
     "name": "stdout",
     "output_type": "stream",
     "text": [
      "Loading Systolic blood pressure data from CHARTEVENTS...\n"
     ]
    },
    {
     "name": "stderr",
     "output_type": "stream",
     "text": [
      "/Users/pavan/Desktop/TAU/DrugLab/src/parsers/mimic.py:194: DtypeWarning: Columns (9) have mixed types. Specify dtype option on import or set low_memory=False.\n",
      "  df = pd.read_csv(path)\n"
     ]
    },
    {
     "name": "stdout",
     "output_type": "stream",
     "text": [
      "Loading Systolic blood pressure data from CHARTEVENTS...\n"
     ]
    },
    {
     "name": "stderr",
     "output_type": "stream",
     "text": [
      "/Users/pavan/Desktop/TAU/DrugLab/src/parsers/mimic.py:194: DtypeWarning: Columns (9) have mixed types. Specify dtype option on import or set low_memory=False.\n",
      "  df = pd.read_csv(path)\n"
     ]
    },
    {
     "name": "stdout",
     "output_type": "stream",
     "text": [
      "Loading Systolic blood pressure data from CHARTEVENTS...\n"
     ]
    },
    {
     "name": "stderr",
     "output_type": "stream",
     "text": [
      "/Users/pavan/Desktop/TAU/DrugLab/src/parsers/mimic.py:194: DtypeWarning: Columns (9) have mixed types. Specify dtype option on import or set low_memory=False.\n",
      "  df = pd.read_csv(path)\n"
     ]
    },
    {
     "name": "stdout",
     "output_type": "stream",
     "text": [
      "Loading Systolic blood pressure data from CHARTEVENTS...\n",
      "Loading Systolic blood pressure data from CHARTEVENTS...\n"
     ]
    },
    {
     "name": "stderr",
     "output_type": "stream",
     "text": [
      "/Users/pavan/Desktop/TAU/DrugLab/src/parsers/mimic.py:194: DtypeWarning: Columns (9) have mixed types. Specify dtype option on import or set low_memory=False.\n",
      "  df = pd.read_csv(path)\n"
     ]
    },
    {
     "name": "stdout",
     "output_type": "stream",
     "text": [
      "Loading Systolic blood pressure data from CHARTEVENTS...\n"
     ]
    },
    {
     "name": "stderr",
     "output_type": "stream",
     "text": [
      "/Users/pavan/Desktop/TAU/DrugLab/src/parsers/mimic.py:194: DtypeWarning: Columns (9) have mixed types. Specify dtype option on import or set low_memory=False.\n",
      "  df = pd.read_csv(path)\n"
     ]
    },
    {
     "name": "stdout",
     "output_type": "stream",
     "text": [
      "Loading Systolic blood pressure data from CHARTEVENTS...\n",
      "Loading Systolic blood pressure data from CHARTEVENTS...\n",
      "Loading Systolic blood pressure data from CHARTEVENTS...\n",
      "Loading Systolic blood pressure data from CHARTEVENTS...\n"
     ]
    },
    {
     "name": "stderr",
     "output_type": "stream",
     "text": [
      "/Users/pavan/Desktop/TAU/DrugLab/src/parsers/mimic.py:194: DtypeWarning: Columns (9) have mixed types. Specify dtype option on import or set low_memory=False.\n",
      "  df = pd.read_csv(path)\n"
     ]
    },
    {
     "name": "stdout",
     "output_type": "stream",
     "text": [
      "Loading Systolic blood pressure data from CHARTEVENTS...\n"
     ]
    },
    {
     "name": "stderr",
     "output_type": "stream",
     "text": [
      "/Users/pavan/Desktop/TAU/DrugLab/src/parsers/mimic.py:194: DtypeWarning: Columns (9) have mixed types. Specify dtype option on import or set low_memory=False.\n",
      "  df = pd.read_csv(path)\n"
     ]
    },
    {
     "name": "stdout",
     "output_type": "stream",
     "text": [
      "Loading Systolic blood pressure data from CHARTEVENTS...\n"
     ]
    },
    {
     "name": "stderr",
     "output_type": "stream",
     "text": [
      "/Users/pavan/Desktop/TAU/DrugLab/src/parsers/mimic.py:194: DtypeWarning: Columns (9) have mixed types. Specify dtype option on import or set low_memory=False.\n",
      "  df = pd.read_csv(path)\n"
     ]
    },
    {
     "name": "stdout",
     "output_type": "stream",
     "text": [
      "Loading Systolic blood pressure data from CHARTEVENTS...\n"
     ]
    },
    {
     "name": "stderr",
     "output_type": "stream",
     "text": [
      "/Users/pavan/Desktop/TAU/DrugLab/src/parsers/mimic.py:194: DtypeWarning: Columns (9) have mixed types. Specify dtype option on import or set low_memory=False.\n",
      "  df = pd.read_csv(path)\n"
     ]
    },
    {
     "name": "stdout",
     "output_type": "stream",
     "text": [
      "Loading Systolic blood pressure data from CHARTEVENTS...\n"
     ]
    },
    {
     "name": "stderr",
     "output_type": "stream",
     "text": [
      "/Users/pavan/Desktop/TAU/DrugLab/src/parsers/mimic.py:194: DtypeWarning: Columns (9) have mixed types. Specify dtype option on import or set low_memory=False.\n",
      "  df = pd.read_csv(path)\n"
     ]
    },
    {
     "name": "stdout",
     "output_type": "stream",
     "text": [
      "Loading Systolic blood pressure data from CHARTEVENTS...\n"
     ]
    },
    {
     "name": "stderr",
     "output_type": "stream",
     "text": [
      "/Users/pavan/Desktop/TAU/DrugLab/src/parsers/mimic.py:194: DtypeWarning: Columns (9) have mixed types. Specify dtype option on import or set low_memory=False.\n",
      "  df = pd.read_csv(path)\n"
     ]
    },
    {
     "name": "stdout",
     "output_type": "stream",
     "text": [
      "Loading Systolic blood pressure data from CHARTEVENTS...\n"
     ]
    },
    {
     "name": "stderr",
     "output_type": "stream",
     "text": [
      "/Users/pavan/Desktop/TAU/DrugLab/src/parsers/mimic.py:194: DtypeWarning: Columns (9) have mixed types. Specify dtype option on import or set low_memory=False.\n",
      "  df = pd.read_csv(path)\n"
     ]
    },
    {
     "name": "stdout",
     "output_type": "stream",
     "text": [
      "Loading Systolic blood pressure data from CHARTEVENTS...\n"
     ]
    },
    {
     "name": "stderr",
     "output_type": "stream",
     "text": [
      "/Users/pavan/Desktop/TAU/DrugLab/src/parsers/mimic.py:194: DtypeWarning: Columns (9) have mixed types. Specify dtype option on import or set low_memory=False.\n",
      "  df = pd.read_csv(path)\n"
     ]
    },
    {
     "name": "stdout",
     "output_type": "stream",
     "text": [
      "Loading Systolic blood pressure data from CHARTEVENTS...\n"
     ]
    },
    {
     "name": "stderr",
     "output_type": "stream",
     "text": [
      "/Users/pavan/Desktop/TAU/DrugLab/src/parsers/mimic.py:194: DtypeWarning: Columns (9) have mixed types. Specify dtype option on import or set low_memory=False.\n",
      "  df = pd.read_csv(path)\n"
     ]
    },
    {
     "name": "stdout",
     "output_type": "stream",
     "text": [
      "Loading Systolic blood pressure data from CHARTEVENTS...\n",
      "Loading Systolic blood pressure data from CHARTEVENTS...\n"
     ]
    },
    {
     "name": "stderr",
     "output_type": "stream",
     "text": [
      "/Users/pavan/Desktop/TAU/DrugLab/src/parsers/mimic.py:194: DtypeWarning: Columns (9) have mixed types. Specify dtype option on import or set low_memory=False.\n",
      "  df = pd.read_csv(path)\n"
     ]
    },
    {
     "name": "stdout",
     "output_type": "stream",
     "text": [
      "Loading Systolic blood pressure data from CHARTEVENTS...\n",
      "Loading Systolic blood pressure data from CHARTEVENTS...\n"
     ]
    },
    {
     "name": "stderr",
     "output_type": "stream",
     "text": [
      "/Users/pavan/Desktop/TAU/DrugLab/src/parsers/mimic.py:194: DtypeWarning: Columns (9) have mixed types. Specify dtype option on import or set low_memory=False.\n",
      "  df = pd.read_csv(path)\n"
     ]
    },
    {
     "name": "stdout",
     "output_type": "stream",
     "text": [
      "Loading Systolic blood pressure data from CHARTEVENTS...\n"
     ]
    },
    {
     "name": "stderr",
     "output_type": "stream",
     "text": [
      "/Users/pavan/Desktop/TAU/DrugLab/src/parsers/mimic.py:194: DtypeWarning: Columns (14) have mixed types. Specify dtype option on import or set low_memory=False.\n",
      "  df = pd.read_csv(path)\n"
     ]
    },
    {
     "name": "stdout",
     "output_type": "stream",
     "text": [
      "Loading Systolic blood pressure data from CHARTEVENTS...\n",
      "Loading Systolic blood pressure data from CHARTEVENTS...\n",
      "Loading Systolic blood pressure data from CHARTEVENTS...\n",
      "Loading Systolic blood pressure data from CHARTEVENTS...\n",
      "Loading Systolic blood pressure data from CHARTEVENTS...\n",
      "Loading Systolic blood pressure data from CHARTEVENTS...\n",
      "Loading Systolic blood pressure data from CHARTEVENTS...\n",
      "Loading Systolic blood pressure data from CHARTEVENTS...\n",
      "Loading Systolic blood pressure data from CHARTEVENTS...\n",
      "Loading Systolic blood pressure data from CHARTEVENTS...\n",
      "Loading Systolic blood pressure data from CHARTEVENTS...\n",
      "Loading Systolic blood pressure data from CHARTEVENTS...\n",
      "Loading Systolic blood pressure data from CHARTEVENTS...\n",
      "Generated lab data from chartevents.\n",
      "Loaded Lab data.\n",
      "Done parsing Systolic blood pressure.\n",
      "Starting pairs generation for Systolic blood pressure....\n"
     ]
    },
    {
     "name": "stderr",
     "output_type": "stream",
     "text": [
      "100%|██████████| 138658/138658 [2:55:56<00:00, 13.13it/s]   \n",
      "/var/folders/by/jbk3mn054mv4x7_28jxcwvx80000gn/T/ipykernel_31969/1326359903.py:49: SettingWithCopyWarning: \n",
      "A value is trying to be set on a copy of a slice from a DataFrame.\n",
      "Try using .loc[row_indexer,col_indexer] = value instead\n",
      "\n",
      "See the caveats in the documentation: https://pandas.pydata.org/pandas-docs/stable/user_guide/indexing.html#returning-a-view-versus-a-copy\n",
      "  final[\"LAB_NAME\"] = final[\"LAB_ITEMID\"]\n"
     ]
    },
    {
     "name": "stdout",
     "output_type": "stream",
     "text": [
      "Pairs generated for Systolic blood pressure.\n",
      "Parsing Temperature (C) data....\n",
      "Loading med data...\n",
      "Generate med data....\n"
     ]
    },
    {
     "name": "stderr",
     "output_type": "stream",
     "text": [
      "/Users/pavan/Desktop/TAU/DrugLab/src/parsers/mimic.py:51: FutureWarning: Passing 'suffixes' which cause duplicate columns {'ROW_ID_x'} in the result is deprecated and will raise a MergeError in a future version.\n",
      "  m_p_df = pd.merge(inputevents_mv, med_data, how=\"inner\", on=\"ITEMID\")\n"
     ]
    },
    {
     "name": "stdout",
     "output_type": "stream",
     "text": [
      "Generated med data.\n",
      "Loaded med data.\n",
      "Load 1st and 2nd medication data...\n",
      "Loaded 1st and 2nd medication data.\n",
      "Load Lab data...\n",
      "Generate lab data from labevents...\n"
     ]
    },
    {
     "name": "stderr",
     "output_type": "stream",
     "text": [
      "/Users/pavan/Desktop/TAU/DrugLab/src/parsers/mimic.py:138: DtypeWarning: Columns (29) have mixed types. Specify dtype option on import or set low_memory=False.\n",
      "  labevents = pd.read_csv(os.path.join(self.data, constants.MIMIC_III_PREPROCESSED_PATH, constants.MIMIC_III_LABEVENT_PREPROCESSED))\n"
     ]
    },
    {
     "name": "stdout",
     "output_type": "stream",
     "text": [
      "Generated lab data from labevents.\n",
      "Generate lab data from chartevents...\n",
      "Loading Temperature (C) data from CHARTEVENTS...\n",
      "Loading Temperature (C) data from CHARTEVENTS...\n",
      "Loading Temperature (C) data from CHARTEVENTS...\n",
      "Loading Temperature (C) data from CHARTEVENTS...\n",
      "Loading Temperature (C) data from CHARTEVENTS...\n",
      "Loading Temperature (C) data from CHARTEVENTS...\n",
      "Loading Temperature (C) data from CHARTEVENTS...\n"
     ]
    },
    {
     "name": "stderr",
     "output_type": "stream",
     "text": [
      "/Users/pavan/Desktop/TAU/DrugLab/src/parsers/mimic.py:194: DtypeWarning: Columns (14,15) have mixed types. Specify dtype option on import or set low_memory=False.\n",
      "  df = pd.read_csv(path)\n"
     ]
    },
    {
     "name": "stdout",
     "output_type": "stream",
     "text": [
      "Loading Temperature (C) data from CHARTEVENTS...\n"
     ]
    },
    {
     "name": "stderr",
     "output_type": "stream",
     "text": [
      "/Users/pavan/Desktop/TAU/DrugLab/src/parsers/mimic.py:194: DtypeWarning: Columns (9) have mixed types. Specify dtype option on import or set low_memory=False.\n",
      "  df = pd.read_csv(path)\n"
     ]
    },
    {
     "name": "stdout",
     "output_type": "stream",
     "text": [
      "Loading Temperature (C) data from CHARTEVENTS...\n",
      "Loading Temperature (C) data from CHARTEVENTS...\n"
     ]
    },
    {
     "name": "stderr",
     "output_type": "stream",
     "text": [
      "/Users/pavan/Desktop/TAU/DrugLab/src/parsers/mimic.py:194: DtypeWarning: Columns (9) have mixed types. Specify dtype option on import or set low_memory=False.\n",
      "  df = pd.read_csv(path)\n"
     ]
    },
    {
     "name": "stdout",
     "output_type": "stream",
     "text": [
      "Loading Temperature (C) data from CHARTEVENTS...\n",
      "Loading Temperature (C) data from CHARTEVENTS...\n"
     ]
    },
    {
     "name": "stderr",
     "output_type": "stream",
     "text": [
      "/Users/pavan/Desktop/TAU/DrugLab/src/parsers/mimic.py:194: DtypeWarning: Columns (9) have mixed types. Specify dtype option on import or set low_memory=False.\n",
      "  df = pd.read_csv(path)\n"
     ]
    },
    {
     "name": "stdout",
     "output_type": "stream",
     "text": [
      "Loading Temperature (C) data from CHARTEVENTS...\n",
      "Loading Temperature (C) data from CHARTEVENTS...\n"
     ]
    },
    {
     "name": "stderr",
     "output_type": "stream",
     "text": [
      "/Users/pavan/Desktop/TAU/DrugLab/src/parsers/mimic.py:194: DtypeWarning: Columns (9) have mixed types. Specify dtype option on import or set low_memory=False.\n",
      "  df = pd.read_csv(path)\n"
     ]
    },
    {
     "name": "stdout",
     "output_type": "stream",
     "text": [
      "Loading Temperature (C) data from CHARTEVENTS...\n"
     ]
    },
    {
     "name": "stderr",
     "output_type": "stream",
     "text": [
      "/Users/pavan/Desktop/TAU/DrugLab/src/parsers/mimic.py:194: DtypeWarning: Columns (9) have mixed types. Specify dtype option on import or set low_memory=False.\n",
      "  df = pd.read_csv(path)\n"
     ]
    },
    {
     "name": "stdout",
     "output_type": "stream",
     "text": [
      "Loading Temperature (C) data from CHARTEVENTS...\n"
     ]
    },
    {
     "name": "stderr",
     "output_type": "stream",
     "text": [
      "/Users/pavan/Desktop/TAU/DrugLab/src/parsers/mimic.py:194: DtypeWarning: Columns (9) have mixed types. Specify dtype option on import or set low_memory=False.\n",
      "  df = pd.read_csv(path)\n"
     ]
    },
    {
     "name": "stdout",
     "output_type": "stream",
     "text": [
      "Loading Temperature (C) data from CHARTEVENTS...\n"
     ]
    },
    {
     "name": "stderr",
     "output_type": "stream",
     "text": [
      "/Users/pavan/Desktop/TAU/DrugLab/src/parsers/mimic.py:194: DtypeWarning: Columns (9) have mixed types. Specify dtype option on import or set low_memory=False.\n",
      "  df = pd.read_csv(path)\n"
     ]
    },
    {
     "name": "stdout",
     "output_type": "stream",
     "text": [
      "Loading Temperature (C) data from CHARTEVENTS...\n"
     ]
    },
    {
     "name": "stderr",
     "output_type": "stream",
     "text": [
      "/Users/pavan/Desktop/TAU/DrugLab/src/parsers/mimic.py:194: DtypeWarning: Columns (9) have mixed types. Specify dtype option on import or set low_memory=False.\n",
      "  df = pd.read_csv(path)\n"
     ]
    },
    {
     "name": "stdout",
     "output_type": "stream",
     "text": [
      "Loading Temperature (C) data from CHARTEVENTS...\n"
     ]
    },
    {
     "name": "stderr",
     "output_type": "stream",
     "text": [
      "/Users/pavan/Desktop/TAU/DrugLab/src/parsers/mimic.py:194: DtypeWarning: Columns (9) have mixed types. Specify dtype option on import or set low_memory=False.\n",
      "  df = pd.read_csv(path)\n"
     ]
    },
    {
     "name": "stdout",
     "output_type": "stream",
     "text": [
      "Loading Temperature (C) data from CHARTEVENTS...\n",
      "Loading Temperature (C) data from CHARTEVENTS...\n"
     ]
    },
    {
     "name": "stderr",
     "output_type": "stream",
     "text": [
      "/Users/pavan/Desktop/TAU/DrugLab/src/parsers/mimic.py:194: DtypeWarning: Columns (9) have mixed types. Specify dtype option on import or set low_memory=False.\n",
      "  df = pd.read_csv(path)\n"
     ]
    },
    {
     "name": "stdout",
     "output_type": "stream",
     "text": [
      "Loading Temperature (C) data from CHARTEVENTS...\n"
     ]
    },
    {
     "name": "stderr",
     "output_type": "stream",
     "text": [
      "/Users/pavan/Desktop/TAU/DrugLab/src/parsers/mimic.py:194: DtypeWarning: Columns (9) have mixed types. Specify dtype option on import or set low_memory=False.\n",
      "  df = pd.read_csv(path)\n"
     ]
    },
    {
     "name": "stdout",
     "output_type": "stream",
     "text": [
      "Loading Temperature (C) data from CHARTEVENTS...\n",
      "Loading Temperature (C) data from CHARTEVENTS...\n",
      "Loading Temperature (C) data from CHARTEVENTS...\n",
      "Loading Temperature (C) data from CHARTEVENTS...\n"
     ]
    },
    {
     "name": "stderr",
     "output_type": "stream",
     "text": [
      "/Users/pavan/Desktop/TAU/DrugLab/src/parsers/mimic.py:194: DtypeWarning: Columns (9) have mixed types. Specify dtype option on import or set low_memory=False.\n",
      "  df = pd.read_csv(path)\n"
     ]
    },
    {
     "name": "stdout",
     "output_type": "stream",
     "text": [
      "Loading Temperature (C) data from CHARTEVENTS...\n"
     ]
    },
    {
     "name": "stderr",
     "output_type": "stream",
     "text": [
      "/Users/pavan/Desktop/TAU/DrugLab/src/parsers/mimic.py:194: DtypeWarning: Columns (9) have mixed types. Specify dtype option on import or set low_memory=False.\n",
      "  df = pd.read_csv(path)\n"
     ]
    },
    {
     "name": "stdout",
     "output_type": "stream",
     "text": [
      "Loading Temperature (C) data from CHARTEVENTS...\n"
     ]
    },
    {
     "name": "stderr",
     "output_type": "stream",
     "text": [
      "/Users/pavan/Desktop/TAU/DrugLab/src/parsers/mimic.py:194: DtypeWarning: Columns (9) have mixed types. Specify dtype option on import or set low_memory=False.\n",
      "  df = pd.read_csv(path)\n"
     ]
    },
    {
     "name": "stdout",
     "output_type": "stream",
     "text": [
      "Loading Temperature (C) data from CHARTEVENTS...\n"
     ]
    },
    {
     "name": "stderr",
     "output_type": "stream",
     "text": [
      "/Users/pavan/Desktop/TAU/DrugLab/src/parsers/mimic.py:194: DtypeWarning: Columns (9) have mixed types. Specify dtype option on import or set low_memory=False.\n",
      "  df = pd.read_csv(path)\n"
     ]
    },
    {
     "name": "stdout",
     "output_type": "stream",
     "text": [
      "Loading Temperature (C) data from CHARTEVENTS...\n"
     ]
    },
    {
     "name": "stderr",
     "output_type": "stream",
     "text": [
      "/Users/pavan/Desktop/TAU/DrugLab/src/parsers/mimic.py:194: DtypeWarning: Columns (9) have mixed types. Specify dtype option on import or set low_memory=False.\n",
      "  df = pd.read_csv(path)\n"
     ]
    },
    {
     "name": "stdout",
     "output_type": "stream",
     "text": [
      "Loading Temperature (C) data from CHARTEVENTS...\n"
     ]
    },
    {
     "name": "stderr",
     "output_type": "stream",
     "text": [
      "/Users/pavan/Desktop/TAU/DrugLab/src/parsers/mimic.py:194: DtypeWarning: Columns (9) have mixed types. Specify dtype option on import or set low_memory=False.\n",
      "  df = pd.read_csv(path)\n"
     ]
    },
    {
     "name": "stdout",
     "output_type": "stream",
     "text": [
      "Loading Temperature (C) data from CHARTEVENTS...\n"
     ]
    },
    {
     "name": "stderr",
     "output_type": "stream",
     "text": [
      "/Users/pavan/Desktop/TAU/DrugLab/src/parsers/mimic.py:194: DtypeWarning: Columns (9) have mixed types. Specify dtype option on import or set low_memory=False.\n",
      "  df = pd.read_csv(path)\n"
     ]
    },
    {
     "name": "stdout",
     "output_type": "stream",
     "text": [
      "Loading Temperature (C) data from CHARTEVENTS...\n"
     ]
    },
    {
     "name": "stderr",
     "output_type": "stream",
     "text": [
      "/Users/pavan/Desktop/TAU/DrugLab/src/parsers/mimic.py:194: DtypeWarning: Columns (9) have mixed types. Specify dtype option on import or set low_memory=False.\n",
      "  df = pd.read_csv(path)\n"
     ]
    },
    {
     "name": "stdout",
     "output_type": "stream",
     "text": [
      "Loading Temperature (C) data from CHARTEVENTS...\n"
     ]
    },
    {
     "name": "stderr",
     "output_type": "stream",
     "text": [
      "/Users/pavan/Desktop/TAU/DrugLab/src/parsers/mimic.py:194: DtypeWarning: Columns (9) have mixed types. Specify dtype option on import or set low_memory=False.\n",
      "  df = pd.read_csv(path)\n"
     ]
    },
    {
     "name": "stdout",
     "output_type": "stream",
     "text": [
      "Loading Temperature (C) data from CHARTEVENTS...\n",
      "Loading Temperature (C) data from CHARTEVENTS...\n"
     ]
    },
    {
     "name": "stderr",
     "output_type": "stream",
     "text": [
      "/Users/pavan/Desktop/TAU/DrugLab/src/parsers/mimic.py:194: DtypeWarning: Columns (9) have mixed types. Specify dtype option on import or set low_memory=False.\n",
      "  df = pd.read_csv(path)\n"
     ]
    },
    {
     "name": "stdout",
     "output_type": "stream",
     "text": [
      "Loading Temperature (C) data from CHARTEVENTS...\n",
      "Loading Temperature (C) data from CHARTEVENTS...\n"
     ]
    },
    {
     "name": "stderr",
     "output_type": "stream",
     "text": [
      "/Users/pavan/Desktop/TAU/DrugLab/src/parsers/mimic.py:194: DtypeWarning: Columns (9) have mixed types. Specify dtype option on import or set low_memory=False.\n",
      "  df = pd.read_csv(path)\n"
     ]
    },
    {
     "name": "stdout",
     "output_type": "stream",
     "text": [
      "Loading Temperature (C) data from CHARTEVENTS...\n"
     ]
    },
    {
     "name": "stderr",
     "output_type": "stream",
     "text": [
      "/Users/pavan/Desktop/TAU/DrugLab/src/parsers/mimic.py:194: DtypeWarning: Columns (14) have mixed types. Specify dtype option on import or set low_memory=False.\n",
      "  df = pd.read_csv(path)\n"
     ]
    },
    {
     "name": "stdout",
     "output_type": "stream",
     "text": [
      "Loading Temperature (C) data from CHARTEVENTS...\n",
      "Loading Temperature (C) data from CHARTEVENTS...\n",
      "Loading Temperature (C) data from CHARTEVENTS...\n",
      "Loading Temperature (C) data from CHARTEVENTS...\n",
      "Loading Temperature (C) data from CHARTEVENTS...\n",
      "Loading Temperature (C) data from CHARTEVENTS...\n",
      "Loading Temperature (C) data from CHARTEVENTS...\n",
      "Loading Temperature (C) data from CHARTEVENTS...\n",
      "Loading Temperature (C) data from CHARTEVENTS...\n",
      "Loading Temperature (C) data from CHARTEVENTS...\n",
      "Loading Temperature (C) data from CHARTEVENTS...\n",
      "Loading Temperature (C) data from CHARTEVENTS...\n",
      "Loading Temperature (C) data from CHARTEVENTS...\n",
      "Generated lab data from chartevents.\n",
      "Loaded Lab data.\n",
      "Done parsing Temperature (C).\n",
      "Starting pairs generation for Temperature (C)....\n"
     ]
    },
    {
     "name": "stderr",
     "output_type": "stream",
     "text": [
      "100%|██████████| 138658/138658 [2:20:36<00:00, 16.44it/s]  \n",
      "/var/folders/by/jbk3mn054mv4x7_28jxcwvx80000gn/T/ipykernel_31969/1326359903.py:49: SettingWithCopyWarning: \n",
      "A value is trying to be set on a copy of a slice from a DataFrame.\n",
      "Try using .loc[row_indexer,col_indexer] = value instead\n",
      "\n",
      "See the caveats in the documentation: https://pandas.pydata.org/pandas-docs/stable/user_guide/indexing.html#returning-a-view-versus-a-copy\n",
      "  final[\"LAB_NAME\"] = final[\"LAB_ITEMID\"]\n"
     ]
    },
    {
     "name": "stdout",
     "output_type": "stream",
     "text": [
      "Pairs generated for Temperature (C).\n",
      "Parsing Temperature (F) data....\n",
      "Loading med data...\n",
      "Generate med data....\n"
     ]
    },
    {
     "name": "stderr",
     "output_type": "stream",
     "text": [
      "/Users/pavan/Desktop/TAU/DrugLab/src/parsers/mimic.py:51: FutureWarning: Passing 'suffixes' which cause duplicate columns {'ROW_ID_x'} in the result is deprecated and will raise a MergeError in a future version.\n",
      "  m_p_df = pd.merge(inputevents_mv, med_data, how=\"inner\", on=\"ITEMID\")\n"
     ]
    },
    {
     "name": "stdout",
     "output_type": "stream",
     "text": [
      "Generated med data.\n",
      "Loaded med data.\n",
      "Load 1st and 2nd medication data...\n",
      "Loaded 1st and 2nd medication data.\n",
      "Load Lab data...\n",
      "Generate lab data from labevents...\n"
     ]
    },
    {
     "name": "stderr",
     "output_type": "stream",
     "text": [
      "/Users/pavan/Desktop/TAU/DrugLab/src/parsers/mimic.py:138: DtypeWarning: Columns (29) have mixed types. Specify dtype option on import or set low_memory=False.\n",
      "  labevents = pd.read_csv(os.path.join(self.data, constants.MIMIC_III_PREPROCESSED_PATH, constants.MIMIC_III_LABEVENT_PREPROCESSED))\n"
     ]
    },
    {
     "name": "stdout",
     "output_type": "stream",
     "text": [
      "Generated lab data from labevents.\n",
      "Generate lab data from chartevents...\n",
      "Loading Temperature (F) data from CHARTEVENTS...\n",
      "Loading Temperature (F) data from CHARTEVENTS...\n",
      "Loading Temperature (F) data from CHARTEVENTS...\n",
      "Loading Temperature (F) data from CHARTEVENTS...\n",
      "Loading Temperature (F) data from CHARTEVENTS...\n",
      "Loading Temperature (F) data from CHARTEVENTS...\n",
      "Loading Temperature (F) data from CHARTEVENTS...\n"
     ]
    },
    {
     "name": "stderr",
     "output_type": "stream",
     "text": [
      "/Users/pavan/Desktop/TAU/DrugLab/src/parsers/mimic.py:194: DtypeWarning: Columns (14,15) have mixed types. Specify dtype option on import or set low_memory=False.\n",
      "  df = pd.read_csv(path)\n"
     ]
    },
    {
     "name": "stdout",
     "output_type": "stream",
     "text": [
      "Loading Temperature (F) data from CHARTEVENTS...\n"
     ]
    },
    {
     "name": "stderr",
     "output_type": "stream",
     "text": [
      "/Users/pavan/Desktop/TAU/DrugLab/src/parsers/mimic.py:194: DtypeWarning: Columns (9) have mixed types. Specify dtype option on import or set low_memory=False.\n",
      "  df = pd.read_csv(path)\n"
     ]
    },
    {
     "name": "stdout",
     "output_type": "stream",
     "text": [
      "Loading Temperature (F) data from CHARTEVENTS...\n",
      "Loading Temperature (F) data from CHARTEVENTS...\n"
     ]
    },
    {
     "name": "stderr",
     "output_type": "stream",
     "text": [
      "/Users/pavan/Desktop/TAU/DrugLab/src/parsers/mimic.py:194: DtypeWarning: Columns (9) have mixed types. Specify dtype option on import or set low_memory=False.\n",
      "  df = pd.read_csv(path)\n"
     ]
    },
    {
     "name": "stdout",
     "output_type": "stream",
     "text": [
      "Loading Temperature (F) data from CHARTEVENTS...\n",
      "Loading Temperature (F) data from CHARTEVENTS...\n"
     ]
    },
    {
     "name": "stderr",
     "output_type": "stream",
     "text": [
      "/Users/pavan/Desktop/TAU/DrugLab/src/parsers/mimic.py:194: DtypeWarning: Columns (9) have mixed types. Specify dtype option on import or set low_memory=False.\n",
      "  df = pd.read_csv(path)\n"
     ]
    },
    {
     "name": "stdout",
     "output_type": "stream",
     "text": [
      "Loading Temperature (F) data from CHARTEVENTS...\n",
      "Loading Temperature (F) data from CHARTEVENTS...\n"
     ]
    },
    {
     "name": "stderr",
     "output_type": "stream",
     "text": [
      "/Users/pavan/Desktop/TAU/DrugLab/src/parsers/mimic.py:194: DtypeWarning: Columns (9) have mixed types. Specify dtype option on import or set low_memory=False.\n",
      "  df = pd.read_csv(path)\n"
     ]
    },
    {
     "name": "stdout",
     "output_type": "stream",
     "text": [
      "Loading Temperature (F) data from CHARTEVENTS...\n"
     ]
    },
    {
     "name": "stderr",
     "output_type": "stream",
     "text": [
      "/Users/pavan/Desktop/TAU/DrugLab/src/parsers/mimic.py:194: DtypeWarning: Columns (9) have mixed types. Specify dtype option on import or set low_memory=False.\n",
      "  df = pd.read_csv(path)\n"
     ]
    },
    {
     "name": "stdout",
     "output_type": "stream",
     "text": [
      "Loading Temperature (F) data from CHARTEVENTS...\n"
     ]
    },
    {
     "name": "stderr",
     "output_type": "stream",
     "text": [
      "/Users/pavan/Desktop/TAU/DrugLab/src/parsers/mimic.py:194: DtypeWarning: Columns (9) have mixed types. Specify dtype option on import or set low_memory=False.\n",
      "  df = pd.read_csv(path)\n"
     ]
    },
    {
     "name": "stdout",
     "output_type": "stream",
     "text": [
      "Loading Temperature (F) data from CHARTEVENTS...\n"
     ]
    },
    {
     "name": "stderr",
     "output_type": "stream",
     "text": [
      "/Users/pavan/Desktop/TAU/DrugLab/src/parsers/mimic.py:194: DtypeWarning: Columns (9) have mixed types. Specify dtype option on import or set low_memory=False.\n",
      "  df = pd.read_csv(path)\n"
     ]
    },
    {
     "name": "stdout",
     "output_type": "stream",
     "text": [
      "Loading Temperature (F) data from CHARTEVENTS...\n"
     ]
    },
    {
     "name": "stderr",
     "output_type": "stream",
     "text": [
      "/Users/pavan/Desktop/TAU/DrugLab/src/parsers/mimic.py:194: DtypeWarning: Columns (9) have mixed types. Specify dtype option on import or set low_memory=False.\n",
      "  df = pd.read_csv(path)\n"
     ]
    },
    {
     "name": "stdout",
     "output_type": "stream",
     "text": [
      "Loading Temperature (F) data from CHARTEVENTS...\n"
     ]
    },
    {
     "name": "stderr",
     "output_type": "stream",
     "text": [
      "/Users/pavan/Desktop/TAU/DrugLab/src/parsers/mimic.py:194: DtypeWarning: Columns (9) have mixed types. Specify dtype option on import or set low_memory=False.\n",
      "  df = pd.read_csv(path)\n"
     ]
    },
    {
     "name": "stdout",
     "output_type": "stream",
     "text": [
      "Loading Temperature (F) data from CHARTEVENTS...\n",
      "Loading Temperature (F) data from CHARTEVENTS...\n"
     ]
    },
    {
     "name": "stderr",
     "output_type": "stream",
     "text": [
      "/Users/pavan/Desktop/TAU/DrugLab/src/parsers/mimic.py:194: DtypeWarning: Columns (9) have mixed types. Specify dtype option on import or set low_memory=False.\n",
      "  df = pd.read_csv(path)\n"
     ]
    },
    {
     "name": "stdout",
     "output_type": "stream",
     "text": [
      "Loading Temperature (F) data from CHARTEVENTS...\n"
     ]
    },
    {
     "name": "stderr",
     "output_type": "stream",
     "text": [
      "/Users/pavan/Desktop/TAU/DrugLab/src/parsers/mimic.py:194: DtypeWarning: Columns (9) have mixed types. Specify dtype option on import or set low_memory=False.\n",
      "  df = pd.read_csv(path)\n"
     ]
    },
    {
     "name": "stdout",
     "output_type": "stream",
     "text": [
      "Loading Temperature (F) data from CHARTEVENTS...\n",
      "Loading Temperature (F) data from CHARTEVENTS...\n",
      "Loading Temperature (F) data from CHARTEVENTS...\n",
      "Loading Temperature (F) data from CHARTEVENTS...\n"
     ]
    },
    {
     "name": "stderr",
     "output_type": "stream",
     "text": [
      "/Users/pavan/Desktop/TAU/DrugLab/src/parsers/mimic.py:194: DtypeWarning: Columns (9) have mixed types. Specify dtype option on import or set low_memory=False.\n",
      "  df = pd.read_csv(path)\n"
     ]
    },
    {
     "name": "stdout",
     "output_type": "stream",
     "text": [
      "Loading Temperature (F) data from CHARTEVENTS...\n"
     ]
    },
    {
     "name": "stderr",
     "output_type": "stream",
     "text": [
      "/Users/pavan/Desktop/TAU/DrugLab/src/parsers/mimic.py:194: DtypeWarning: Columns (9) have mixed types. Specify dtype option on import or set low_memory=False.\n",
      "  df = pd.read_csv(path)\n"
     ]
    },
    {
     "name": "stdout",
     "output_type": "stream",
     "text": [
      "Loading Temperature (F) data from CHARTEVENTS...\n"
     ]
    },
    {
     "name": "stderr",
     "output_type": "stream",
     "text": [
      "/Users/pavan/Desktop/TAU/DrugLab/src/parsers/mimic.py:194: DtypeWarning: Columns (9) have mixed types. Specify dtype option on import or set low_memory=False.\n",
      "  df = pd.read_csv(path)\n"
     ]
    },
    {
     "name": "stdout",
     "output_type": "stream",
     "text": [
      "Loading Temperature (F) data from CHARTEVENTS...\n"
     ]
    },
    {
     "name": "stderr",
     "output_type": "stream",
     "text": [
      "/Users/pavan/Desktop/TAU/DrugLab/src/parsers/mimic.py:194: DtypeWarning: Columns (9) have mixed types. Specify dtype option on import or set low_memory=False.\n",
      "  df = pd.read_csv(path)\n"
     ]
    },
    {
     "name": "stdout",
     "output_type": "stream",
     "text": [
      "Loading Temperature (F) data from CHARTEVENTS...\n"
     ]
    },
    {
     "name": "stderr",
     "output_type": "stream",
     "text": [
      "/Users/pavan/Desktop/TAU/DrugLab/src/parsers/mimic.py:194: DtypeWarning: Columns (9) have mixed types. Specify dtype option on import or set low_memory=False.\n",
      "  df = pd.read_csv(path)\n"
     ]
    },
    {
     "name": "stdout",
     "output_type": "stream",
     "text": [
      "Loading Temperature (F) data from CHARTEVENTS...\n"
     ]
    },
    {
     "name": "stderr",
     "output_type": "stream",
     "text": [
      "/Users/pavan/Desktop/TAU/DrugLab/src/parsers/mimic.py:194: DtypeWarning: Columns (9) have mixed types. Specify dtype option on import or set low_memory=False.\n",
      "  df = pd.read_csv(path)\n"
     ]
    },
    {
     "name": "stdout",
     "output_type": "stream",
     "text": [
      "Loading Temperature (F) data from CHARTEVENTS...\n"
     ]
    },
    {
     "name": "stderr",
     "output_type": "stream",
     "text": [
      "/Users/pavan/Desktop/TAU/DrugLab/src/parsers/mimic.py:194: DtypeWarning: Columns (9) have mixed types. Specify dtype option on import or set low_memory=False.\n",
      "  df = pd.read_csv(path)\n"
     ]
    },
    {
     "name": "stdout",
     "output_type": "stream",
     "text": [
      "Loading Temperature (F) data from CHARTEVENTS...\n"
     ]
    },
    {
     "name": "stderr",
     "output_type": "stream",
     "text": [
      "/Users/pavan/Desktop/TAU/DrugLab/src/parsers/mimic.py:194: DtypeWarning: Columns (9) have mixed types. Specify dtype option on import or set low_memory=False.\n",
      "  df = pd.read_csv(path)\n"
     ]
    },
    {
     "name": "stdout",
     "output_type": "stream",
     "text": [
      "Loading Temperature (F) data from CHARTEVENTS...\n"
     ]
    },
    {
     "name": "stderr",
     "output_type": "stream",
     "text": [
      "/Users/pavan/Desktop/TAU/DrugLab/src/parsers/mimic.py:194: DtypeWarning: Columns (9) have mixed types. Specify dtype option on import or set low_memory=False.\n",
      "  df = pd.read_csv(path)\n"
     ]
    },
    {
     "name": "stdout",
     "output_type": "stream",
     "text": [
      "Loading Temperature (F) data from CHARTEVENTS...\n",
      "Loading Temperature (F) data from CHARTEVENTS...\n"
     ]
    },
    {
     "name": "stderr",
     "output_type": "stream",
     "text": [
      "/Users/pavan/Desktop/TAU/DrugLab/src/parsers/mimic.py:194: DtypeWarning: Columns (9) have mixed types. Specify dtype option on import or set low_memory=False.\n",
      "  df = pd.read_csv(path)\n"
     ]
    },
    {
     "name": "stdout",
     "output_type": "stream",
     "text": [
      "Loading Temperature (F) data from CHARTEVENTS...\n",
      "Loading Temperature (F) data from CHARTEVENTS...\n"
     ]
    },
    {
     "name": "stderr",
     "output_type": "stream",
     "text": [
      "/Users/pavan/Desktop/TAU/DrugLab/src/parsers/mimic.py:194: DtypeWarning: Columns (9) have mixed types. Specify dtype option on import or set low_memory=False.\n",
      "  df = pd.read_csv(path)\n"
     ]
    },
    {
     "name": "stdout",
     "output_type": "stream",
     "text": [
      "Loading Temperature (F) data from CHARTEVENTS...\n"
     ]
    },
    {
     "name": "stderr",
     "output_type": "stream",
     "text": [
      "/Users/pavan/Desktop/TAU/DrugLab/src/parsers/mimic.py:194: DtypeWarning: Columns (14) have mixed types. Specify dtype option on import or set low_memory=False.\n",
      "  df = pd.read_csv(path)\n"
     ]
    },
    {
     "name": "stdout",
     "output_type": "stream",
     "text": [
      "Loading Temperature (F) data from CHARTEVENTS...\n",
      "Loading Temperature (F) data from CHARTEVENTS...\n",
      "Loading Temperature (F) data from CHARTEVENTS...\n",
      "Loading Temperature (F) data from CHARTEVENTS...\n",
      "Loading Temperature (F) data from CHARTEVENTS...\n",
      "Loading Temperature (F) data from CHARTEVENTS...\n",
      "Loading Temperature (F) data from CHARTEVENTS...\n",
      "Loading Temperature (F) data from CHARTEVENTS...\n",
      "Loading Temperature (F) data from CHARTEVENTS...\n",
      "Loading Temperature (F) data from CHARTEVENTS...\n",
      "Loading Temperature (F) data from CHARTEVENTS...\n",
      "Loading Temperature (F) data from CHARTEVENTS...\n",
      "Loading Temperature (F) data from CHARTEVENTS...\n",
      "Generated lab data from chartevents.\n",
      "Loaded Lab data.\n",
      "Done parsing Temperature (F).\n",
      "Starting pairs generation for Temperature (F)....\n"
     ]
    },
    {
     "name": "stderr",
     "output_type": "stream",
     "text": [
      "100%|██████████| 138658/138658 [2:42:48<00:00, 14.19it/s]  \n",
      "/var/folders/by/jbk3mn054mv4x7_28jxcwvx80000gn/T/ipykernel_31969/1326359903.py:49: SettingWithCopyWarning: \n",
      "A value is trying to be set on a copy of a slice from a DataFrame.\n",
      "Try using .loc[row_indexer,col_indexer] = value instead\n",
      "\n",
      "See the caveats in the documentation: https://pandas.pydata.org/pandas-docs/stable/user_guide/indexing.html#returning-a-view-versus-a-copy\n",
      "  final[\"LAB_NAME\"] = final[\"LAB_ITEMID\"]\n"
     ]
    },
    {
     "name": "stdout",
     "output_type": "stream",
     "text": [
      "Pairs generated for Temperature (F).\n",
      "Parsing Respiratory rate data....\n",
      "Loading med data...\n",
      "Generate med data....\n"
     ]
    },
    {
     "name": "stderr",
     "output_type": "stream",
     "text": [
      "/Users/pavan/Desktop/TAU/DrugLab/src/parsers/mimic.py:51: FutureWarning: Passing 'suffixes' which cause duplicate columns {'ROW_ID_x'} in the result is deprecated and will raise a MergeError in a future version.\n",
      "  m_p_df = pd.merge(inputevents_mv, med_data, how=\"inner\", on=\"ITEMID\")\n"
     ]
    },
    {
     "name": "stdout",
     "output_type": "stream",
     "text": [
      "Generated med data.\n",
      "Loaded med data.\n",
      "Load 1st and 2nd medication data...\n",
      "Loaded 1st and 2nd medication data.\n",
      "Load Lab data...\n",
      "Generate lab data from labevents...\n"
     ]
    },
    {
     "name": "stderr",
     "output_type": "stream",
     "text": [
      "/Users/pavan/Desktop/TAU/DrugLab/src/parsers/mimic.py:138: DtypeWarning: Columns (29) have mixed types. Specify dtype option on import or set low_memory=False.\n",
      "  labevents = pd.read_csv(os.path.join(self.data, constants.MIMIC_III_PREPROCESSED_PATH, constants.MIMIC_III_LABEVENT_PREPROCESSED))\n"
     ]
    },
    {
     "name": "stdout",
     "output_type": "stream",
     "text": [
      "Generated lab data from labevents.\n",
      "Generate lab data from chartevents...\n",
      "Loading Respiratory rate data from CHARTEVENTS...\n",
      "Loading Respiratory rate data from CHARTEVENTS...\n",
      "Loading Respiratory rate data from CHARTEVENTS...\n",
      "Loading Respiratory rate data from CHARTEVENTS...\n",
      "Loading Respiratory rate data from CHARTEVENTS...\n",
      "Loading Respiratory rate data from CHARTEVENTS...\n",
      "Loading Respiratory rate data from CHARTEVENTS...\n"
     ]
    },
    {
     "name": "stderr",
     "output_type": "stream",
     "text": [
      "/Users/pavan/Desktop/TAU/DrugLab/src/parsers/mimic.py:194: DtypeWarning: Columns (14,15) have mixed types. Specify dtype option on import or set low_memory=False.\n",
      "  df = pd.read_csv(path)\n"
     ]
    },
    {
     "name": "stdout",
     "output_type": "stream",
     "text": [
      "Loading Respiratory rate data from CHARTEVENTS...\n"
     ]
    },
    {
     "name": "stderr",
     "output_type": "stream",
     "text": [
      "/Users/pavan/Desktop/TAU/DrugLab/src/parsers/mimic.py:194: DtypeWarning: Columns (9) have mixed types. Specify dtype option on import or set low_memory=False.\n",
      "  df = pd.read_csv(path)\n"
     ]
    },
    {
     "name": "stdout",
     "output_type": "stream",
     "text": [
      "Loading Respiratory rate data from CHARTEVENTS...\n",
      "Loading Respiratory rate data from CHARTEVENTS...\n"
     ]
    },
    {
     "name": "stderr",
     "output_type": "stream",
     "text": [
      "/Users/pavan/Desktop/TAU/DrugLab/src/parsers/mimic.py:194: DtypeWarning: Columns (9) have mixed types. Specify dtype option on import or set low_memory=False.\n",
      "  df = pd.read_csv(path)\n"
     ]
    },
    {
     "name": "stdout",
     "output_type": "stream",
     "text": [
      "Loading Respiratory rate data from CHARTEVENTS...\n",
      "Loading Respiratory rate data from CHARTEVENTS...\n"
     ]
    },
    {
     "name": "stderr",
     "output_type": "stream",
     "text": [
      "/Users/pavan/Desktop/TAU/DrugLab/src/parsers/mimic.py:194: DtypeWarning: Columns (9) have mixed types. Specify dtype option on import or set low_memory=False.\n",
      "  df = pd.read_csv(path)\n"
     ]
    },
    {
     "name": "stdout",
     "output_type": "stream",
     "text": [
      "Loading Respiratory rate data from CHARTEVENTS...\n",
      "Loading Respiratory rate data from CHARTEVENTS...\n"
     ]
    },
    {
     "name": "stderr",
     "output_type": "stream",
     "text": [
      "/Users/pavan/Desktop/TAU/DrugLab/src/parsers/mimic.py:194: DtypeWarning: Columns (9) have mixed types. Specify dtype option on import or set low_memory=False.\n",
      "  df = pd.read_csv(path)\n"
     ]
    },
    {
     "name": "stdout",
     "output_type": "stream",
     "text": [
      "Loading Respiratory rate data from CHARTEVENTS...\n"
     ]
    },
    {
     "name": "stderr",
     "output_type": "stream",
     "text": [
      "/Users/pavan/Desktop/TAU/DrugLab/src/parsers/mimic.py:194: DtypeWarning: Columns (9) have mixed types. Specify dtype option on import or set low_memory=False.\n",
      "  df = pd.read_csv(path)\n"
     ]
    },
    {
     "name": "stdout",
     "output_type": "stream",
     "text": [
      "Loading Respiratory rate data from CHARTEVENTS...\n"
     ]
    },
    {
     "name": "stderr",
     "output_type": "stream",
     "text": [
      "/Users/pavan/Desktop/TAU/DrugLab/src/parsers/mimic.py:194: DtypeWarning: Columns (9) have mixed types. Specify dtype option on import or set low_memory=False.\n",
      "  df = pd.read_csv(path)\n"
     ]
    },
    {
     "name": "stdout",
     "output_type": "stream",
     "text": [
      "Loading Respiratory rate data from CHARTEVENTS...\n"
     ]
    },
    {
     "name": "stderr",
     "output_type": "stream",
     "text": [
      "/Users/pavan/Desktop/TAU/DrugLab/src/parsers/mimic.py:194: DtypeWarning: Columns (9) have mixed types. Specify dtype option on import or set low_memory=False.\n",
      "  df = pd.read_csv(path)\n"
     ]
    },
    {
     "name": "stdout",
     "output_type": "stream",
     "text": [
      "Loading Respiratory rate data from CHARTEVENTS...\n"
     ]
    },
    {
     "name": "stderr",
     "output_type": "stream",
     "text": [
      "/Users/pavan/Desktop/TAU/DrugLab/src/parsers/mimic.py:194: DtypeWarning: Columns (9) have mixed types. Specify dtype option on import or set low_memory=False.\n",
      "  df = pd.read_csv(path)\n"
     ]
    },
    {
     "name": "stdout",
     "output_type": "stream",
     "text": [
      "Loading Respiratory rate data from CHARTEVENTS...\n"
     ]
    },
    {
     "name": "stderr",
     "output_type": "stream",
     "text": [
      "/Users/pavan/Desktop/TAU/DrugLab/src/parsers/mimic.py:194: DtypeWarning: Columns (9) have mixed types. Specify dtype option on import or set low_memory=False.\n",
      "  df = pd.read_csv(path)\n"
     ]
    },
    {
     "name": "stdout",
     "output_type": "stream",
     "text": [
      "Loading Respiratory rate data from CHARTEVENTS...\n",
      "Loading Respiratory rate data from CHARTEVENTS...\n"
     ]
    },
    {
     "name": "stderr",
     "output_type": "stream",
     "text": [
      "/Users/pavan/Desktop/TAU/DrugLab/src/parsers/mimic.py:194: DtypeWarning: Columns (9) have mixed types. Specify dtype option on import or set low_memory=False.\n",
      "  df = pd.read_csv(path)\n"
     ]
    },
    {
     "name": "stdout",
     "output_type": "stream",
     "text": [
      "Loading Respiratory rate data from CHARTEVENTS...\n"
     ]
    },
    {
     "name": "stderr",
     "output_type": "stream",
     "text": [
      "/Users/pavan/Desktop/TAU/DrugLab/src/parsers/mimic.py:194: DtypeWarning: Columns (9) have mixed types. Specify dtype option on import or set low_memory=False.\n",
      "  df = pd.read_csv(path)\n"
     ]
    },
    {
     "name": "stdout",
     "output_type": "stream",
     "text": [
      "Loading Respiratory rate data from CHARTEVENTS...\n",
      "Loading Respiratory rate data from CHARTEVENTS...\n",
      "Loading Respiratory rate data from CHARTEVENTS...\n",
      "Loading Respiratory rate data from CHARTEVENTS...\n"
     ]
    },
    {
     "name": "stderr",
     "output_type": "stream",
     "text": [
      "/Users/pavan/Desktop/TAU/DrugLab/src/parsers/mimic.py:194: DtypeWarning: Columns (9) have mixed types. Specify dtype option on import or set low_memory=False.\n",
      "  df = pd.read_csv(path)\n"
     ]
    },
    {
     "name": "stdout",
     "output_type": "stream",
     "text": [
      "Loading Respiratory rate data from CHARTEVENTS...\n"
     ]
    },
    {
     "name": "stderr",
     "output_type": "stream",
     "text": [
      "/Users/pavan/Desktop/TAU/DrugLab/src/parsers/mimic.py:194: DtypeWarning: Columns (9) have mixed types. Specify dtype option on import or set low_memory=False.\n",
      "  df = pd.read_csv(path)\n"
     ]
    },
    {
     "name": "stdout",
     "output_type": "stream",
     "text": [
      "Loading Respiratory rate data from CHARTEVENTS...\n"
     ]
    },
    {
     "name": "stderr",
     "output_type": "stream",
     "text": [
      "/Users/pavan/Desktop/TAU/DrugLab/src/parsers/mimic.py:194: DtypeWarning: Columns (9) have mixed types. Specify dtype option on import or set low_memory=False.\n",
      "  df = pd.read_csv(path)\n"
     ]
    },
    {
     "name": "stdout",
     "output_type": "stream",
     "text": [
      "Loading Respiratory rate data from CHARTEVENTS...\n"
     ]
    },
    {
     "name": "stderr",
     "output_type": "stream",
     "text": [
      "/Users/pavan/Desktop/TAU/DrugLab/src/parsers/mimic.py:194: DtypeWarning: Columns (9) have mixed types. Specify dtype option on import or set low_memory=False.\n",
      "  df = pd.read_csv(path)\n"
     ]
    },
    {
     "name": "stdout",
     "output_type": "stream",
     "text": [
      "Loading Respiratory rate data from CHARTEVENTS...\n"
     ]
    },
    {
     "name": "stderr",
     "output_type": "stream",
     "text": [
      "/Users/pavan/Desktop/TAU/DrugLab/src/parsers/mimic.py:194: DtypeWarning: Columns (9) have mixed types. Specify dtype option on import or set low_memory=False.\n",
      "  df = pd.read_csv(path)\n"
     ]
    },
    {
     "name": "stdout",
     "output_type": "stream",
     "text": [
      "Loading Respiratory rate data from CHARTEVENTS...\n"
     ]
    },
    {
     "name": "stderr",
     "output_type": "stream",
     "text": [
      "/Users/pavan/Desktop/TAU/DrugLab/src/parsers/mimic.py:194: DtypeWarning: Columns (9) have mixed types. Specify dtype option on import or set low_memory=False.\n",
      "  df = pd.read_csv(path)\n"
     ]
    },
    {
     "name": "stdout",
     "output_type": "stream",
     "text": [
      "Loading Respiratory rate data from CHARTEVENTS...\n"
     ]
    },
    {
     "name": "stderr",
     "output_type": "stream",
     "text": [
      "/Users/pavan/Desktop/TAU/DrugLab/src/parsers/mimic.py:194: DtypeWarning: Columns (9) have mixed types. Specify dtype option on import or set low_memory=False.\n",
      "  df = pd.read_csv(path)\n"
     ]
    },
    {
     "name": "stdout",
     "output_type": "stream",
     "text": [
      "Loading Respiratory rate data from CHARTEVENTS...\n"
     ]
    },
    {
     "name": "stderr",
     "output_type": "stream",
     "text": [
      "/Users/pavan/Desktop/TAU/DrugLab/src/parsers/mimic.py:194: DtypeWarning: Columns (9) have mixed types. Specify dtype option on import or set low_memory=False.\n",
      "  df = pd.read_csv(path)\n"
     ]
    },
    {
     "name": "stdout",
     "output_type": "stream",
     "text": [
      "Loading Respiratory rate data from CHARTEVENTS...\n"
     ]
    },
    {
     "name": "stderr",
     "output_type": "stream",
     "text": [
      "/Users/pavan/Desktop/TAU/DrugLab/src/parsers/mimic.py:194: DtypeWarning: Columns (9) have mixed types. Specify dtype option on import or set low_memory=False.\n",
      "  df = pd.read_csv(path)\n"
     ]
    },
    {
     "name": "stdout",
     "output_type": "stream",
     "text": [
      "Loading Respiratory rate data from CHARTEVENTS...\n",
      "Loading Respiratory rate data from CHARTEVENTS...\n"
     ]
    },
    {
     "name": "stderr",
     "output_type": "stream",
     "text": [
      "/Users/pavan/Desktop/TAU/DrugLab/src/parsers/mimic.py:194: DtypeWarning: Columns (9) have mixed types. Specify dtype option on import or set low_memory=False.\n",
      "  df = pd.read_csv(path)\n"
     ]
    },
    {
     "name": "stdout",
     "output_type": "stream",
     "text": [
      "Loading Respiratory rate data from CHARTEVENTS...\n",
      "Loading Respiratory rate data from CHARTEVENTS...\n"
     ]
    },
    {
     "name": "stderr",
     "output_type": "stream",
     "text": [
      "/Users/pavan/Desktop/TAU/DrugLab/src/parsers/mimic.py:194: DtypeWarning: Columns (9) have mixed types. Specify dtype option on import or set low_memory=False.\n",
      "  df = pd.read_csv(path)\n"
     ]
    },
    {
     "name": "stdout",
     "output_type": "stream",
     "text": [
      "Loading Respiratory rate data from CHARTEVENTS...\n"
     ]
    },
    {
     "name": "stderr",
     "output_type": "stream",
     "text": [
      "/Users/pavan/Desktop/TAU/DrugLab/src/parsers/mimic.py:194: DtypeWarning: Columns (14) have mixed types. Specify dtype option on import or set low_memory=False.\n",
      "  df = pd.read_csv(path)\n"
     ]
    },
    {
     "name": "stdout",
     "output_type": "stream",
     "text": [
      "Loading Respiratory rate data from CHARTEVENTS...\n",
      "Loading Respiratory rate data from CHARTEVENTS...\n",
      "Loading Respiratory rate data from CHARTEVENTS...\n",
      "Loading Respiratory rate data from CHARTEVENTS...\n",
      "Loading Respiratory rate data from CHARTEVENTS...\n",
      "Loading Respiratory rate data from CHARTEVENTS...\n",
      "Loading Respiratory rate data from CHARTEVENTS...\n",
      "Loading Respiratory rate data from CHARTEVENTS...\n",
      "Loading Respiratory rate data from CHARTEVENTS...\n",
      "Loading Respiratory rate data from CHARTEVENTS...\n",
      "Loading Respiratory rate data from CHARTEVENTS...\n",
      "Loading Respiratory rate data from CHARTEVENTS...\n",
      "Loading Respiratory rate data from CHARTEVENTS...\n",
      "Generated lab data from chartevents.\n",
      "Loaded Lab data.\n",
      "Done parsing Respiratory rate.\n",
      "Starting pairs generation for Respiratory rate....\n"
     ]
    },
    {
     "name": "stderr",
     "output_type": "stream",
     "text": [
      "100%|██████████| 138658/138658 [5:10:02<00:00,  7.45it/s]     \n",
      "/var/folders/by/jbk3mn054mv4x7_28jxcwvx80000gn/T/ipykernel_31969/1326359903.py:49: SettingWithCopyWarning: \n",
      "A value is trying to be set on a copy of a slice from a DataFrame.\n",
      "Try using .loc[row_indexer,col_indexer] = value instead\n",
      "\n",
      "See the caveats in the documentation: https://pandas.pydata.org/pandas-docs/stable/user_guide/indexing.html#returning-a-view-versus-a-copy\n",
      "  final[\"LAB_NAME\"] = final[\"LAB_ITEMID\"]\n"
     ]
    },
    {
     "name": "stdout",
     "output_type": "stream",
     "text": [
      "Pairs generated for Respiratory rate.\n",
      "Parsing Pulse oximetry data....\n",
      "Loading med data...\n",
      "Generate med data....\n"
     ]
    },
    {
     "name": "stderr",
     "output_type": "stream",
     "text": [
      "/Users/pavan/Desktop/TAU/DrugLab/src/parsers/mimic.py:51: FutureWarning: Passing 'suffixes' which cause duplicate columns {'ROW_ID_x'} in the result is deprecated and will raise a MergeError in a future version.\n",
      "  m_p_df = pd.merge(inputevents_mv, med_data, how=\"inner\", on=\"ITEMID\")\n"
     ]
    },
    {
     "name": "stdout",
     "output_type": "stream",
     "text": [
      "Generated med data.\n",
      "Loaded med data.\n",
      "Load 1st and 2nd medication data...\n",
      "Loaded 1st and 2nd medication data.\n",
      "Load Lab data...\n",
      "Generate lab data from labevents...\n"
     ]
    },
    {
     "name": "stderr",
     "output_type": "stream",
     "text": [
      "/Users/pavan/Desktop/TAU/DrugLab/src/parsers/mimic.py:138: DtypeWarning: Columns (29) have mixed types. Specify dtype option on import or set low_memory=False.\n",
      "  labevents = pd.read_csv(os.path.join(self.data, constants.MIMIC_III_PREPROCESSED_PATH, constants.MIMIC_III_LABEVENT_PREPROCESSED))\n"
     ]
    },
    {
     "name": "stdout",
     "output_type": "stream",
     "text": [
      "Generated lab data from labevents.\n",
      "Generate lab data from chartevents...\n",
      "Loading Pulse oximetry data from CHARTEVENTS...\n",
      "Loading Pulse oximetry data from CHARTEVENTS...\n",
      "Loading Pulse oximetry data from CHARTEVENTS...\n",
      "Loading Pulse oximetry data from CHARTEVENTS...\n",
      "Loading Pulse oximetry data from CHARTEVENTS...\n",
      "Loading Pulse oximetry data from CHARTEVENTS...\n",
      "Loading Pulse oximetry data from CHARTEVENTS...\n"
     ]
    },
    {
     "name": "stderr",
     "output_type": "stream",
     "text": [
      "/Users/pavan/Desktop/TAU/DrugLab/src/parsers/mimic.py:194: DtypeWarning: Columns (14,15) have mixed types. Specify dtype option on import or set low_memory=False.\n",
      "  df = pd.read_csv(path)\n"
     ]
    },
    {
     "name": "stdout",
     "output_type": "stream",
     "text": [
      "Loading Pulse oximetry data from CHARTEVENTS...\n"
     ]
    },
    {
     "name": "stderr",
     "output_type": "stream",
     "text": [
      "/Users/pavan/Desktop/TAU/DrugLab/src/parsers/mimic.py:194: DtypeWarning: Columns (9) have mixed types. Specify dtype option on import or set low_memory=False.\n",
      "  df = pd.read_csv(path)\n"
     ]
    },
    {
     "name": "stdout",
     "output_type": "stream",
     "text": [
      "Loading Pulse oximetry data from CHARTEVENTS...\n",
      "Loading Pulse oximetry data from CHARTEVENTS...\n"
     ]
    },
    {
     "name": "stderr",
     "output_type": "stream",
     "text": [
      "/Users/pavan/Desktop/TAU/DrugLab/src/parsers/mimic.py:194: DtypeWarning: Columns (9) have mixed types. Specify dtype option on import or set low_memory=False.\n",
      "  df = pd.read_csv(path)\n"
     ]
    },
    {
     "name": "stdout",
     "output_type": "stream",
     "text": [
      "Loading Pulse oximetry data from CHARTEVENTS...\n",
      "Loading Pulse oximetry data from CHARTEVENTS...\n"
     ]
    },
    {
     "name": "stderr",
     "output_type": "stream",
     "text": [
      "/Users/pavan/Desktop/TAU/DrugLab/src/parsers/mimic.py:194: DtypeWarning: Columns (9) have mixed types. Specify dtype option on import or set low_memory=False.\n",
      "  df = pd.read_csv(path)\n"
     ]
    },
    {
     "name": "stdout",
     "output_type": "stream",
     "text": [
      "Loading Pulse oximetry data from CHARTEVENTS...\n",
      "Loading Pulse oximetry data from CHARTEVENTS...\n"
     ]
    },
    {
     "name": "stderr",
     "output_type": "stream",
     "text": [
      "/Users/pavan/Desktop/TAU/DrugLab/src/parsers/mimic.py:194: DtypeWarning: Columns (9) have mixed types. Specify dtype option on import or set low_memory=False.\n",
      "  df = pd.read_csv(path)\n"
     ]
    },
    {
     "name": "stdout",
     "output_type": "stream",
     "text": [
      "Loading Pulse oximetry data from CHARTEVENTS...\n"
     ]
    },
    {
     "name": "stderr",
     "output_type": "stream",
     "text": [
      "/Users/pavan/Desktop/TAU/DrugLab/src/parsers/mimic.py:194: DtypeWarning: Columns (9) have mixed types. Specify dtype option on import or set low_memory=False.\n",
      "  df = pd.read_csv(path)\n"
     ]
    },
    {
     "name": "stdout",
     "output_type": "stream",
     "text": [
      "Loading Pulse oximetry data from CHARTEVENTS...\n"
     ]
    },
    {
     "name": "stderr",
     "output_type": "stream",
     "text": [
      "/Users/pavan/Desktop/TAU/DrugLab/src/parsers/mimic.py:194: DtypeWarning: Columns (9) have mixed types. Specify dtype option on import or set low_memory=False.\n",
      "  df = pd.read_csv(path)\n"
     ]
    },
    {
     "name": "stdout",
     "output_type": "stream",
     "text": [
      "Loading Pulse oximetry data from CHARTEVENTS...\n"
     ]
    },
    {
     "name": "stderr",
     "output_type": "stream",
     "text": [
      "/Users/pavan/Desktop/TAU/DrugLab/src/parsers/mimic.py:194: DtypeWarning: Columns (9) have mixed types. Specify dtype option on import or set low_memory=False.\n",
      "  df = pd.read_csv(path)\n"
     ]
    },
    {
     "name": "stdout",
     "output_type": "stream",
     "text": [
      "Loading Pulse oximetry data from CHARTEVENTS...\n"
     ]
    },
    {
     "name": "stderr",
     "output_type": "stream",
     "text": [
      "/Users/pavan/Desktop/TAU/DrugLab/src/parsers/mimic.py:194: DtypeWarning: Columns (9) have mixed types. Specify dtype option on import or set low_memory=False.\n",
      "  df = pd.read_csv(path)\n"
     ]
    },
    {
     "name": "stdout",
     "output_type": "stream",
     "text": [
      "Loading Pulse oximetry data from CHARTEVENTS...\n"
     ]
    },
    {
     "name": "stderr",
     "output_type": "stream",
     "text": [
      "/Users/pavan/Desktop/TAU/DrugLab/src/parsers/mimic.py:194: DtypeWarning: Columns (9) have mixed types. Specify dtype option on import or set low_memory=False.\n",
      "  df = pd.read_csv(path)\n"
     ]
    },
    {
     "name": "stdout",
     "output_type": "stream",
     "text": [
      "Loading Pulse oximetry data from CHARTEVENTS...\n",
      "Loading Pulse oximetry data from CHARTEVENTS...\n"
     ]
    },
    {
     "name": "stderr",
     "output_type": "stream",
     "text": [
      "/Users/pavan/Desktop/TAU/DrugLab/src/parsers/mimic.py:194: DtypeWarning: Columns (9) have mixed types. Specify dtype option on import or set low_memory=False.\n",
      "  df = pd.read_csv(path)\n"
     ]
    },
    {
     "name": "stdout",
     "output_type": "stream",
     "text": [
      "Loading Pulse oximetry data from CHARTEVENTS...\n"
     ]
    },
    {
     "name": "stderr",
     "output_type": "stream",
     "text": [
      "/Users/pavan/Desktop/TAU/DrugLab/src/parsers/mimic.py:194: DtypeWarning: Columns (9) have mixed types. Specify dtype option on import or set low_memory=False.\n",
      "  df = pd.read_csv(path)\n"
     ]
    },
    {
     "name": "stdout",
     "output_type": "stream",
     "text": [
      "Loading Pulse oximetry data from CHARTEVENTS...\n",
      "Loading Pulse oximetry data from CHARTEVENTS...\n",
      "Loading Pulse oximetry data from CHARTEVENTS...\n",
      "Loading Pulse oximetry data from CHARTEVENTS...\n"
     ]
    },
    {
     "name": "stderr",
     "output_type": "stream",
     "text": [
      "/Users/pavan/Desktop/TAU/DrugLab/src/parsers/mimic.py:194: DtypeWarning: Columns (9) have mixed types. Specify dtype option on import or set low_memory=False.\n",
      "  df = pd.read_csv(path)\n"
     ]
    },
    {
     "name": "stdout",
     "output_type": "stream",
     "text": [
      "Loading Pulse oximetry data from CHARTEVENTS...\n"
     ]
    },
    {
     "name": "stderr",
     "output_type": "stream",
     "text": [
      "/Users/pavan/Desktop/TAU/DrugLab/src/parsers/mimic.py:194: DtypeWarning: Columns (9) have mixed types. Specify dtype option on import or set low_memory=False.\n",
      "  df = pd.read_csv(path)\n"
     ]
    },
    {
     "name": "stdout",
     "output_type": "stream",
     "text": [
      "Loading Pulse oximetry data from CHARTEVENTS...\n"
     ]
    },
    {
     "name": "stderr",
     "output_type": "stream",
     "text": [
      "/Users/pavan/Desktop/TAU/DrugLab/src/parsers/mimic.py:194: DtypeWarning: Columns (9) have mixed types. Specify dtype option on import or set low_memory=False.\n",
      "  df = pd.read_csv(path)\n"
     ]
    },
    {
     "name": "stdout",
     "output_type": "stream",
     "text": [
      "Loading Pulse oximetry data from CHARTEVENTS...\n"
     ]
    },
    {
     "name": "stderr",
     "output_type": "stream",
     "text": [
      "/Users/pavan/Desktop/TAU/DrugLab/src/parsers/mimic.py:194: DtypeWarning: Columns (9) have mixed types. Specify dtype option on import or set low_memory=False.\n",
      "  df = pd.read_csv(path)\n"
     ]
    },
    {
     "name": "stdout",
     "output_type": "stream",
     "text": [
      "Loading Pulse oximetry data from CHARTEVENTS...\n"
     ]
    },
    {
     "name": "stderr",
     "output_type": "stream",
     "text": [
      "/Users/pavan/Desktop/TAU/DrugLab/src/parsers/mimic.py:194: DtypeWarning: Columns (9) have mixed types. Specify dtype option on import or set low_memory=False.\n",
      "  df = pd.read_csv(path)\n"
     ]
    },
    {
     "name": "stdout",
     "output_type": "stream",
     "text": [
      "Loading Pulse oximetry data from CHARTEVENTS...\n"
     ]
    },
    {
     "name": "stderr",
     "output_type": "stream",
     "text": [
      "/Users/pavan/Desktop/TAU/DrugLab/src/parsers/mimic.py:194: DtypeWarning: Columns (9) have mixed types. Specify dtype option on import or set low_memory=False.\n",
      "  df = pd.read_csv(path)\n"
     ]
    },
    {
     "name": "stdout",
     "output_type": "stream",
     "text": [
      "Loading Pulse oximetry data from CHARTEVENTS...\n"
     ]
    },
    {
     "name": "stderr",
     "output_type": "stream",
     "text": [
      "/Users/pavan/Desktop/TAU/DrugLab/src/parsers/mimic.py:194: DtypeWarning: Columns (9) have mixed types. Specify dtype option on import or set low_memory=False.\n",
      "  df = pd.read_csv(path)\n"
     ]
    },
    {
     "name": "stdout",
     "output_type": "stream",
     "text": [
      "Loading Pulse oximetry data from CHARTEVENTS...\n"
     ]
    },
    {
     "name": "stderr",
     "output_type": "stream",
     "text": [
      "/Users/pavan/Desktop/TAU/DrugLab/src/parsers/mimic.py:194: DtypeWarning: Columns (9) have mixed types. Specify dtype option on import or set low_memory=False.\n",
      "  df = pd.read_csv(path)\n"
     ]
    },
    {
     "name": "stdout",
     "output_type": "stream",
     "text": [
      "Loading Pulse oximetry data from CHARTEVENTS...\n"
     ]
    },
    {
     "name": "stderr",
     "output_type": "stream",
     "text": [
      "/Users/pavan/Desktop/TAU/DrugLab/src/parsers/mimic.py:194: DtypeWarning: Columns (9) have mixed types. Specify dtype option on import or set low_memory=False.\n",
      "  df = pd.read_csv(path)\n"
     ]
    },
    {
     "name": "stdout",
     "output_type": "stream",
     "text": [
      "Loading Pulse oximetry data from CHARTEVENTS...\n",
      "Loading Pulse oximetry data from CHARTEVENTS...\n"
     ]
    },
    {
     "name": "stderr",
     "output_type": "stream",
     "text": [
      "/Users/pavan/Desktop/TAU/DrugLab/src/parsers/mimic.py:194: DtypeWarning: Columns (9) have mixed types. Specify dtype option on import or set low_memory=False.\n",
      "  df = pd.read_csv(path)\n"
     ]
    },
    {
     "name": "stdout",
     "output_type": "stream",
     "text": [
      "Loading Pulse oximetry data from CHARTEVENTS...\n",
      "Loading Pulse oximetry data from CHARTEVENTS...\n"
     ]
    },
    {
     "name": "stderr",
     "output_type": "stream",
     "text": [
      "/Users/pavan/Desktop/TAU/DrugLab/src/parsers/mimic.py:194: DtypeWarning: Columns (9) have mixed types. Specify dtype option on import or set low_memory=False.\n",
      "  df = pd.read_csv(path)\n"
     ]
    },
    {
     "name": "stdout",
     "output_type": "stream",
     "text": [
      "Loading Pulse oximetry data from CHARTEVENTS...\n"
     ]
    },
    {
     "name": "stderr",
     "output_type": "stream",
     "text": [
      "/Users/pavan/Desktop/TAU/DrugLab/src/parsers/mimic.py:194: DtypeWarning: Columns (14) have mixed types. Specify dtype option on import or set low_memory=False.\n",
      "  df = pd.read_csv(path)\n"
     ]
    },
    {
     "name": "stdout",
     "output_type": "stream",
     "text": [
      "Loading Pulse oximetry data from CHARTEVENTS...\n",
      "Loading Pulse oximetry data from CHARTEVENTS...\n",
      "Loading Pulse oximetry data from CHARTEVENTS...\n",
      "Loading Pulse oximetry data from CHARTEVENTS...\n",
      "Loading Pulse oximetry data from CHARTEVENTS...\n",
      "Loading Pulse oximetry data from CHARTEVENTS...\n",
      "Loading Pulse oximetry data from CHARTEVENTS...\n",
      "Loading Pulse oximetry data from CHARTEVENTS...\n",
      "Loading Pulse oximetry data from CHARTEVENTS...\n",
      "Loading Pulse oximetry data from CHARTEVENTS...\n",
      "Loading Pulse oximetry data from CHARTEVENTS...\n",
      "Loading Pulse oximetry data from CHARTEVENTS...\n",
      "Loading Pulse oximetry data from CHARTEVENTS...\n",
      "Generated lab data from chartevents.\n",
      "Loaded Lab data.\n",
      "Done parsing Pulse oximetry.\n",
      "Starting pairs generation for Pulse oximetry....\n"
     ]
    },
    {
     "name": "stderr",
     "output_type": "stream",
     "text": [
      "100%|██████████| 138658/138658 [7:50:25<00:00,  4.91it/s]      \n",
      "/var/folders/by/jbk3mn054mv4x7_28jxcwvx80000gn/T/ipykernel_31969/1326359903.py:49: SettingWithCopyWarning: \n",
      "A value is trying to be set on a copy of a slice from a DataFrame.\n",
      "Try using .loc[row_indexer,col_indexer] = value instead\n",
      "\n",
      "See the caveats in the documentation: https://pandas.pydata.org/pandas-docs/stable/user_guide/indexing.html#returning-a-view-versus-a-copy\n",
      "  final[\"LAB_NAME\"] = final[\"LAB_ITEMID\"]\n"
     ]
    },
    {
     "name": "stdout",
     "output_type": "stream",
     "text": [
      "Pairs generated for Pulse oximetry.\n",
      "Parsing Oxygen saturation data....\n",
      "Loading med data...\n",
      "Generate med data....\n"
     ]
    },
    {
     "name": "stderr",
     "output_type": "stream",
     "text": [
      "/Users/pavan/Desktop/TAU/DrugLab/src/parsers/mimic.py:51: FutureWarning: Passing 'suffixes' which cause duplicate columns {'ROW_ID_x'} in the result is deprecated and will raise a MergeError in a future version.\n",
      "  m_p_df = pd.merge(inputevents_mv, med_data, how=\"inner\", on=\"ITEMID\")\n"
     ]
    },
    {
     "name": "stdout",
     "output_type": "stream",
     "text": [
      "Generated med data.\n",
      "Loaded med data.\n",
      "Load 1st and 2nd medication data...\n",
      "Loaded 1st and 2nd medication data.\n",
      "Load Lab data...\n",
      "Generate lab data from labevents...\n"
     ]
    },
    {
     "name": "stderr",
     "output_type": "stream",
     "text": [
      "/Users/pavan/Desktop/TAU/DrugLab/src/parsers/mimic.py:138: DtypeWarning: Columns (29) have mixed types. Specify dtype option on import or set low_memory=False.\n",
      "  labevents = pd.read_csv(os.path.join(self.data, constants.MIMIC_III_PREPROCESSED_PATH, constants.MIMIC_III_LABEVENT_PREPROCESSED))\n"
     ]
    },
    {
     "name": "stdout",
     "output_type": "stream",
     "text": [
      "Generated lab data from labevents.\n",
      "Generate lab data from chartevents...\n",
      "Loading Oxygen saturation data from CHARTEVENTS...\n",
      "Loading Oxygen saturation data from CHARTEVENTS...\n",
      "Loading Oxygen saturation data from CHARTEVENTS...\n",
      "Loading Oxygen saturation data from CHARTEVENTS...\n",
      "Loading Oxygen saturation data from CHARTEVENTS...\n",
      "Loading Oxygen saturation data from CHARTEVENTS...\n",
      "Loading Oxygen saturation data from CHARTEVENTS...\n"
     ]
    },
    {
     "name": "stderr",
     "output_type": "stream",
     "text": [
      "/Users/pavan/Desktop/TAU/DrugLab/src/parsers/mimic.py:194: DtypeWarning: Columns (14,15) have mixed types. Specify dtype option on import or set low_memory=False.\n",
      "  df = pd.read_csv(path)\n"
     ]
    },
    {
     "name": "stdout",
     "output_type": "stream",
     "text": [
      "Loading Oxygen saturation data from CHARTEVENTS...\n"
     ]
    },
    {
     "name": "stderr",
     "output_type": "stream",
     "text": [
      "/Users/pavan/Desktop/TAU/DrugLab/src/parsers/mimic.py:194: DtypeWarning: Columns (9) have mixed types. Specify dtype option on import or set low_memory=False.\n",
      "  df = pd.read_csv(path)\n"
     ]
    },
    {
     "name": "stdout",
     "output_type": "stream",
     "text": [
      "Loading Oxygen saturation data from CHARTEVENTS...\n",
      "Loading Oxygen saturation data from CHARTEVENTS...\n"
     ]
    },
    {
     "name": "stderr",
     "output_type": "stream",
     "text": [
      "/Users/pavan/Desktop/TAU/DrugLab/src/parsers/mimic.py:194: DtypeWarning: Columns (9) have mixed types. Specify dtype option on import or set low_memory=False.\n",
      "  df = pd.read_csv(path)\n"
     ]
    },
    {
     "name": "stdout",
     "output_type": "stream",
     "text": [
      "Loading Oxygen saturation data from CHARTEVENTS...\n",
      "Loading Oxygen saturation data from CHARTEVENTS...\n"
     ]
    },
    {
     "name": "stderr",
     "output_type": "stream",
     "text": [
      "/Users/pavan/Desktop/TAU/DrugLab/src/parsers/mimic.py:194: DtypeWarning: Columns (9) have mixed types. Specify dtype option on import or set low_memory=False.\n",
      "  df = pd.read_csv(path)\n"
     ]
    },
    {
     "name": "stdout",
     "output_type": "stream",
     "text": [
      "Loading Oxygen saturation data from CHARTEVENTS...\n",
      "Loading Oxygen saturation data from CHARTEVENTS...\n"
     ]
    },
    {
     "name": "stderr",
     "output_type": "stream",
     "text": [
      "/Users/pavan/Desktop/TAU/DrugLab/src/parsers/mimic.py:194: DtypeWarning: Columns (9) have mixed types. Specify dtype option on import or set low_memory=False.\n",
      "  df = pd.read_csv(path)\n"
     ]
    },
    {
     "name": "stdout",
     "output_type": "stream",
     "text": [
      "Loading Oxygen saturation data from CHARTEVENTS...\n"
     ]
    },
    {
     "name": "stderr",
     "output_type": "stream",
     "text": [
      "/Users/pavan/Desktop/TAU/DrugLab/src/parsers/mimic.py:194: DtypeWarning: Columns (9) have mixed types. Specify dtype option on import or set low_memory=False.\n",
      "  df = pd.read_csv(path)\n"
     ]
    },
    {
     "name": "stdout",
     "output_type": "stream",
     "text": [
      "Loading Oxygen saturation data from CHARTEVENTS...\n"
     ]
    },
    {
     "name": "stderr",
     "output_type": "stream",
     "text": [
      "/Users/pavan/Desktop/TAU/DrugLab/src/parsers/mimic.py:194: DtypeWarning: Columns (9) have mixed types. Specify dtype option on import or set low_memory=False.\n",
      "  df = pd.read_csv(path)\n"
     ]
    },
    {
     "name": "stdout",
     "output_type": "stream",
     "text": [
      "Loading Oxygen saturation data from CHARTEVENTS...\n"
     ]
    },
    {
     "name": "stderr",
     "output_type": "stream",
     "text": [
      "/Users/pavan/Desktop/TAU/DrugLab/src/parsers/mimic.py:194: DtypeWarning: Columns (9) have mixed types. Specify dtype option on import or set low_memory=False.\n",
      "  df = pd.read_csv(path)\n"
     ]
    },
    {
     "name": "stdout",
     "output_type": "stream",
     "text": [
      "Loading Oxygen saturation data from CHARTEVENTS...\n"
     ]
    },
    {
     "name": "stderr",
     "output_type": "stream",
     "text": [
      "/Users/pavan/Desktop/TAU/DrugLab/src/parsers/mimic.py:194: DtypeWarning: Columns (9) have mixed types. Specify dtype option on import or set low_memory=False.\n",
      "  df = pd.read_csv(path)\n"
     ]
    },
    {
     "name": "stdout",
     "output_type": "stream",
     "text": [
      "Loading Oxygen saturation data from CHARTEVENTS...\n"
     ]
    },
    {
     "name": "stderr",
     "output_type": "stream",
     "text": [
      "/Users/pavan/Desktop/TAU/DrugLab/src/parsers/mimic.py:194: DtypeWarning: Columns (9) have mixed types. Specify dtype option on import or set low_memory=False.\n",
      "  df = pd.read_csv(path)\n"
     ]
    },
    {
     "name": "stdout",
     "output_type": "stream",
     "text": [
      "Loading Oxygen saturation data from CHARTEVENTS...\n",
      "Loading Oxygen saturation data from CHARTEVENTS...\n"
     ]
    },
    {
     "name": "stderr",
     "output_type": "stream",
     "text": [
      "/Users/pavan/Desktop/TAU/DrugLab/src/parsers/mimic.py:194: DtypeWarning: Columns (9) have mixed types. Specify dtype option on import or set low_memory=False.\n",
      "  df = pd.read_csv(path)\n"
     ]
    },
    {
     "name": "stdout",
     "output_type": "stream",
     "text": [
      "Loading Oxygen saturation data from CHARTEVENTS...\n"
     ]
    },
    {
     "name": "stderr",
     "output_type": "stream",
     "text": [
      "/Users/pavan/Desktop/TAU/DrugLab/src/parsers/mimic.py:194: DtypeWarning: Columns (9) have mixed types. Specify dtype option on import or set low_memory=False.\n",
      "  df = pd.read_csv(path)\n"
     ]
    },
    {
     "name": "stdout",
     "output_type": "stream",
     "text": [
      "Loading Oxygen saturation data from CHARTEVENTS...\n",
      "Loading Oxygen saturation data from CHARTEVENTS...\n",
      "Loading Oxygen saturation data from CHARTEVENTS...\n",
      "Loading Oxygen saturation data from CHARTEVENTS...\n"
     ]
    },
    {
     "name": "stderr",
     "output_type": "stream",
     "text": [
      "/Users/pavan/Desktop/TAU/DrugLab/src/parsers/mimic.py:194: DtypeWarning: Columns (9) have mixed types. Specify dtype option on import or set low_memory=False.\n",
      "  df = pd.read_csv(path)\n"
     ]
    },
    {
     "name": "stdout",
     "output_type": "stream",
     "text": [
      "Loading Oxygen saturation data from CHARTEVENTS...\n"
     ]
    },
    {
     "name": "stderr",
     "output_type": "stream",
     "text": [
      "/Users/pavan/Desktop/TAU/DrugLab/src/parsers/mimic.py:194: DtypeWarning: Columns (9) have mixed types. Specify dtype option on import or set low_memory=False.\n",
      "  df = pd.read_csv(path)\n"
     ]
    },
    {
     "name": "stdout",
     "output_type": "stream",
     "text": [
      "Loading Oxygen saturation data from CHARTEVENTS...\n"
     ]
    },
    {
     "name": "stderr",
     "output_type": "stream",
     "text": [
      "/Users/pavan/Desktop/TAU/DrugLab/src/parsers/mimic.py:194: DtypeWarning: Columns (9) have mixed types. Specify dtype option on import or set low_memory=False.\n",
      "  df = pd.read_csv(path)\n"
     ]
    },
    {
     "name": "stdout",
     "output_type": "stream",
     "text": [
      "Loading Oxygen saturation data from CHARTEVENTS...\n"
     ]
    },
    {
     "name": "stderr",
     "output_type": "stream",
     "text": [
      "/Users/pavan/Desktop/TAU/DrugLab/src/parsers/mimic.py:194: DtypeWarning: Columns (9) have mixed types. Specify dtype option on import or set low_memory=False.\n",
      "  df = pd.read_csv(path)\n"
     ]
    },
    {
     "name": "stdout",
     "output_type": "stream",
     "text": [
      "Loading Oxygen saturation data from CHARTEVENTS...\n"
     ]
    },
    {
     "name": "stderr",
     "output_type": "stream",
     "text": [
      "/Users/pavan/Desktop/TAU/DrugLab/src/parsers/mimic.py:194: DtypeWarning: Columns (9) have mixed types. Specify dtype option on import or set low_memory=False.\n",
      "  df = pd.read_csv(path)\n"
     ]
    },
    {
     "name": "stdout",
     "output_type": "stream",
     "text": [
      "Loading Oxygen saturation data from CHARTEVENTS...\n"
     ]
    },
    {
     "name": "stderr",
     "output_type": "stream",
     "text": [
      "/Users/pavan/Desktop/TAU/DrugLab/src/parsers/mimic.py:194: DtypeWarning: Columns (9) have mixed types. Specify dtype option on import or set low_memory=False.\n",
      "  df = pd.read_csv(path)\n"
     ]
    },
    {
     "name": "stdout",
     "output_type": "stream",
     "text": [
      "Loading Oxygen saturation data from CHARTEVENTS...\n"
     ]
    },
    {
     "name": "stderr",
     "output_type": "stream",
     "text": [
      "/Users/pavan/Desktop/TAU/DrugLab/src/parsers/mimic.py:194: DtypeWarning: Columns (9) have mixed types. Specify dtype option on import or set low_memory=False.\n",
      "  df = pd.read_csv(path)\n"
     ]
    },
    {
     "name": "stdout",
     "output_type": "stream",
     "text": [
      "Loading Oxygen saturation data from CHARTEVENTS...\n"
     ]
    },
    {
     "name": "stderr",
     "output_type": "stream",
     "text": [
      "/Users/pavan/Desktop/TAU/DrugLab/src/parsers/mimic.py:194: DtypeWarning: Columns (9) have mixed types. Specify dtype option on import or set low_memory=False.\n",
      "  df = pd.read_csv(path)\n"
     ]
    },
    {
     "name": "stdout",
     "output_type": "stream",
     "text": [
      "Loading Oxygen saturation data from CHARTEVENTS...\n"
     ]
    },
    {
     "name": "stderr",
     "output_type": "stream",
     "text": [
      "/Users/pavan/Desktop/TAU/DrugLab/src/parsers/mimic.py:194: DtypeWarning: Columns (9) have mixed types. Specify dtype option on import or set low_memory=False.\n",
      "  df = pd.read_csv(path)\n"
     ]
    },
    {
     "name": "stdout",
     "output_type": "stream",
     "text": [
      "Loading Oxygen saturation data from CHARTEVENTS...\n",
      "Loading Oxygen saturation data from CHARTEVENTS...\n"
     ]
    },
    {
     "name": "stderr",
     "output_type": "stream",
     "text": [
      "/Users/pavan/Desktop/TAU/DrugLab/src/parsers/mimic.py:194: DtypeWarning: Columns (9) have mixed types. Specify dtype option on import or set low_memory=False.\n",
      "  df = pd.read_csv(path)\n"
     ]
    },
    {
     "name": "stdout",
     "output_type": "stream",
     "text": [
      "Loading Oxygen saturation data from CHARTEVENTS...\n",
      "Loading Oxygen saturation data from CHARTEVENTS...\n"
     ]
    },
    {
     "name": "stderr",
     "output_type": "stream",
     "text": [
      "/Users/pavan/Desktop/TAU/DrugLab/src/parsers/mimic.py:194: DtypeWarning: Columns (9) have mixed types. Specify dtype option on import or set low_memory=False.\n",
      "  df = pd.read_csv(path)\n"
     ]
    },
    {
     "name": "stdout",
     "output_type": "stream",
     "text": [
      "Loading Oxygen saturation data from CHARTEVENTS...\n"
     ]
    },
    {
     "name": "stderr",
     "output_type": "stream",
     "text": [
      "/Users/pavan/Desktop/TAU/DrugLab/src/parsers/mimic.py:194: DtypeWarning: Columns (14) have mixed types. Specify dtype option on import or set low_memory=False.\n",
      "  df = pd.read_csv(path)\n"
     ]
    },
    {
     "name": "stdout",
     "output_type": "stream",
     "text": [
      "Loading Oxygen saturation data from CHARTEVENTS...\n",
      "Loading Oxygen saturation data from CHARTEVENTS...\n",
      "Loading Oxygen saturation data from CHARTEVENTS...\n",
      "Loading Oxygen saturation data from CHARTEVENTS...\n",
      "Loading Oxygen saturation data from CHARTEVENTS...\n",
      "Loading Oxygen saturation data from CHARTEVENTS...\n",
      "Loading Oxygen saturation data from CHARTEVENTS...\n",
      "Loading Oxygen saturation data from CHARTEVENTS...\n",
      "Loading Oxygen saturation data from CHARTEVENTS...\n",
      "Loading Oxygen saturation data from CHARTEVENTS...\n",
      "Loading Oxygen saturation data from CHARTEVENTS...\n",
      "Loading Oxygen saturation data from CHARTEVENTS...\n",
      "Loading Oxygen saturation data from CHARTEVENTS...\n",
      "Generated lab data from chartevents.\n"
     ]
    },
    {
     "name": "stderr",
     "output_type": "stream",
     "text": [
      "/Users/pavan/Desktop/TAU/DrugLab/src/parsers/mimic.py:225: FutureWarning: Inferring datetime64[ns] from data containing strings is deprecated and will be removed in a future version. To retain the old behavior explicitly pass Series(data, dtype=datetime64[ns])\n",
      "  merged_chart_lab_events = merged_chart_lab_events.groupby([\"HADM_ID\", \"ADMITTIME\", \"CHARTTIME\", \"VALUENUM\", \"MIMICExtractName\"]).nth(0).reset_index()\n"
     ]
    },
    {
     "name": "stdout",
     "output_type": "stream",
     "text": [
      "Loaded Lab data.\n",
      "Done parsing Oxygen saturation.\n",
      "Starting pairs generation for Oxygen saturation....\n"
     ]
    },
    {
     "name": "stderr",
     "output_type": "stream",
     "text": [
      "100%|██████████| 138658/138658 [2:22:05<00:00, 16.26it/s]  \n",
      "/var/folders/by/jbk3mn054mv4x7_28jxcwvx80000gn/T/ipykernel_31969/1326359903.py:49: SettingWithCopyWarning: \n",
      "A value is trying to be set on a copy of a slice from a DataFrame.\n",
      "Try using .loc[row_indexer,col_indexer] = value instead\n",
      "\n",
      "See the caveats in the documentation: https://pandas.pydata.org/pandas-docs/stable/user_guide/indexing.html#returning-a-view-versus-a-copy\n",
      "  final[\"LAB_NAME\"] = final[\"LAB_ITEMID\"]\n"
     ]
    },
    {
     "name": "stdout",
     "output_type": "stream",
     "text": [
      "Pairs generated for Oxygen saturation.\n"
     ]
    }
   ],
   "source": [
    "import tqdm\n",
    "res_dict = {}\n",
    "for lab in constants.LAB_MAPPING.keys():\n",
    "    \n",
    "    print(f\"Parsing {lab} data....\")\n",
    "    # MIMIC\n",
    "    if lab!=\"Heart Rate\":\n",
    "        mimic_parser = mimic.MIMICParser(data=data, res=res, gender=gender, age_b=age_b, age_a=age_a, ethnicity=ethnicity, load=\"AUTOMATIC_MAPPING_MIMIC\")\n",
    "        m_med1, m_med2, m_labs = mimic_parser.parse(use_pairs=False, load_from_raw=True, load_raw_chartevents=False, lab_parts=(0, 15), lab=lab)\n",
    "        m_labs = m_labs.reset_index().drop(columns=[\"index\"])\n",
    "    print(f\"Done parsing {lab}.\")\n",
    "        \n",
    "    print(f\"Starting pairs generation for {lab}....\")\n",
    "    ## Querier\n",
    "    mimic_data_querier = querier.DatasetQuerier(\n",
    "        data = data,\n",
    "        res = res,\n",
    "        t_labs=m_labs, \n",
    "        t_med1=m_med1, \n",
    "        t_med2=m_med2,\n",
    "        gender=gender, \n",
    "        age_b=age_b, \n",
    "        age_a=age_a, \n",
    "        ethnicity=ethnicity, \n",
    "        lab_mapping=lab_mapping\n",
    "    )\n",
    "    df_list = []\n",
    "    for row in tqdm.tqdm(m_med1.iterrows(), total=m_med1.shape[0]):\n",
    "    # for row in m_med1.iterrows():\n",
    "        df_list.append(mimic_data_querier.get_vals(row[1], m_labs, m_med1, m_med2, before_windows=before_windows, after_windows=after_windows).to_dict())\n",
    "    temp = pd.DataFrame(df_list)\n",
    "    all_types = set([\"abs\", \"mean\", \"std\", \"trends\", \"time\"])\n",
    "    cols_b = [f\"before_{t}_{b_w}\" for b_w in before_windows for t in all_types]\n",
    "    cols_a = [f\"after_{t}_{a_w}\" for a_w in after_windows for t in all_types]\n",
    "    cols = cols_b.copy()\n",
    "    cols.extend(cols_a)\n",
    "    col_vals = []\n",
    "    for col in cols:\n",
    "        col_vals.append(\n",
    "            temp.assign(dict=temp[col].dropna().map(lambda d: d.items())).explode(\"dict\", ignore_index=True).assign(\n",
    "                LAB_ITEMID=lambda df: df.dict.str.get(0),\n",
    "                temp=lambda df: df.dict.str.get(1)\n",
    "            ).drop(columns=[\"dict\"]+cols).astype({'temp':'float64'}).rename(columns={\"temp\":f\"{col}_sp\"}).dropna(subset=[\"LAB_ITEMID\"])\n",
    "        )\n",
    "    sel_cols = list(set(list(temp.columns)).difference(cols))\n",
    "    for i in range(1, len(col_vals)):\n",
    "        col_vals[i] = pd.merge(col_vals[i-1], col_vals[i], how=\"outer\", on=sel_cols+[\"LAB_ITEMID\"])\n",
    "    final = col_vals[-1][sel_cols+[\"LAB_ITEMID\"]+[f\"{col}_sp\" for col in cols]]\n",
    "    final[\"LAB_NAME\"] = final[\"LAB_ITEMID\"]\n",
    "    res_dict[lab] = final.rename(columns={\"ITEMID\":\"MED_NAME\"})\n",
    "    res_dict[lab].to_csv(os.path.join(res, f\"med_lab_pairs_vital_signs_{lab}.csv\"))\n",
    "    print(f\"Pairs generated for {lab}.\")\n",
    "        "
   ]
  },
  {
   "cell_type": "code",
   "execution_count": 21,
   "metadata": {},
   "outputs": [
    {
     "data": {
      "text/html": [
       "<div>\n",
       "<style scoped>\n",
       "    .dataframe tbody tr th:only-of-type {\n",
       "        vertical-align: middle;\n",
       "    }\n",
       "\n",
       "    .dataframe tbody tr th {\n",
       "        vertical-align: top;\n",
       "    }\n",
       "\n",
       "    .dataframe thead th {\n",
       "        text-align: right;\n",
       "    }\n",
       "</style>\n",
       "<table border=\"1\" class=\"dataframe\">\n",
       "  <thead>\n",
       "    <tr style=\"text-align: right;\">\n",
       "      <th></th>\n",
       "      <th>HADM_ID</th>\n",
       "      <th>CHARTTIME</th>\n",
       "      <th>VALUENUM</th>\n",
       "      <th>ITEMID</th>\n",
       "      <th>OldITEMID</th>\n",
       "      <th>SUBJECT_ID</th>\n",
       "      <th>VALUEUOM</th>\n",
       "      <th>LabTimeFromAdmit</th>\n",
       "      <th>hours_in</th>\n",
       "    </tr>\n",
       "  </thead>\n",
       "  <tbody>\n",
       "    <tr>\n",
       "      <th>0</th>\n",
       "      <td>100003.0</td>\n",
       "      <td>2150-04-17 17:51:00</td>\n",
       "      <td>71.0</td>\n",
       "      <td>Heart Rate</td>\n",
       "      <td>220045</td>\n",
       "      <td>54610</td>\n",
       "      <td>bpm</td>\n",
       "      <td>0 days 02:17:00</td>\n",
       "      <td>2.283333</td>\n",
       "    </tr>\n",
       "    <tr>\n",
       "      <th>1</th>\n",
       "      <td>100003.0</td>\n",
       "      <td>2150-04-17 18:00:00</td>\n",
       "      <td>73.0</td>\n",
       "      <td>Heart Rate</td>\n",
       "      <td>220045</td>\n",
       "      <td>54610</td>\n",
       "      <td>bpm</td>\n",
       "      <td>0 days 02:26:00</td>\n",
       "      <td>2.433333</td>\n",
       "    </tr>\n",
       "    <tr>\n",
       "      <th>2</th>\n",
       "      <td>100003.0</td>\n",
       "      <td>2150-04-17 18:30:00</td>\n",
       "      <td>72.0</td>\n",
       "      <td>Heart Rate</td>\n",
       "      <td>220045</td>\n",
       "      <td>54610</td>\n",
       "      <td>bpm</td>\n",
       "      <td>0 days 02:56:00</td>\n",
       "      <td>2.933333</td>\n",
       "    </tr>\n",
       "    <tr>\n",
       "      <th>3</th>\n",
       "      <td>100003.0</td>\n",
       "      <td>2150-04-17 18:59:00</td>\n",
       "      <td>71.0</td>\n",
       "      <td>Heart Rate</td>\n",
       "      <td>220045</td>\n",
       "      <td>54610</td>\n",
       "      <td>bpm</td>\n",
       "      <td>0 days 03:25:00</td>\n",
       "      <td>3.416667</td>\n",
       "    </tr>\n",
       "    <tr>\n",
       "      <th>4</th>\n",
       "      <td>100003.0</td>\n",
       "      <td>2150-04-17 19:00:00</td>\n",
       "      <td>69.0</td>\n",
       "      <td>Heart Rate</td>\n",
       "      <td>220045</td>\n",
       "      <td>54610</td>\n",
       "      <td>bpm</td>\n",
       "      <td>0 days 03:26:00</td>\n",
       "      <td>3.433333</td>\n",
       "    </tr>\n",
       "    <tr>\n",
       "      <th>...</th>\n",
       "      <td>...</td>\n",
       "      <td>...</td>\n",
       "      <td>...</td>\n",
       "      <td>...</td>\n",
       "      <td>...</td>\n",
       "      <td>...</td>\n",
       "      <td>...</td>\n",
       "      <td>...</td>\n",
       "      <td>...</td>\n",
       "    </tr>\n",
       "    <tr>\n",
       "      <th>1030842</th>\n",
       "      <td>199948.0</td>\n",
       "      <td>2102-02-26 09:00:00</td>\n",
       "      <td>64.0</td>\n",
       "      <td>Heart Rate</td>\n",
       "      <td>220045</td>\n",
       "      <td>49225</td>\n",
       "      <td>bpm</td>\n",
       "      <td>3 days 19:32:00</td>\n",
       "      <td>91.533333</td>\n",
       "    </tr>\n",
       "    <tr>\n",
       "      <th>1030843</th>\n",
       "      <td>199948.0</td>\n",
       "      <td>2102-02-26 10:00:00</td>\n",
       "      <td>68.0</td>\n",
       "      <td>Heart Rate</td>\n",
       "      <td>220045</td>\n",
       "      <td>49225</td>\n",
       "      <td>bpm</td>\n",
       "      <td>3 days 20:32:00</td>\n",
       "      <td>92.533333</td>\n",
       "    </tr>\n",
       "    <tr>\n",
       "      <th>1030844</th>\n",
       "      <td>199948.0</td>\n",
       "      <td>2102-02-26 11:00:00</td>\n",
       "      <td>66.0</td>\n",
       "      <td>Heart Rate</td>\n",
       "      <td>220045</td>\n",
       "      <td>49225</td>\n",
       "      <td>bpm</td>\n",
       "      <td>3 days 21:32:00</td>\n",
       "      <td>93.533333</td>\n",
       "    </tr>\n",
       "    <tr>\n",
       "      <th>1030845</th>\n",
       "      <td>199948.0</td>\n",
       "      <td>2102-02-26 12:00:00</td>\n",
       "      <td>64.0</td>\n",
       "      <td>Heart Rate</td>\n",
       "      <td>220045</td>\n",
       "      <td>49225</td>\n",
       "      <td>bpm</td>\n",
       "      <td>3 days 22:32:00</td>\n",
       "      <td>94.533333</td>\n",
       "    </tr>\n",
       "    <tr>\n",
       "      <th>1030846</th>\n",
       "      <td>199948.0</td>\n",
       "      <td>2102-02-26 13:00:00</td>\n",
       "      <td>64.0</td>\n",
       "      <td>Heart Rate</td>\n",
       "      <td>220045</td>\n",
       "      <td>49225</td>\n",
       "      <td>bpm</td>\n",
       "      <td>3 days 23:32:00</td>\n",
       "      <td>95.533333</td>\n",
       "    </tr>\n",
       "  </tbody>\n",
       "</table>\n",
       "<p>1030847 rows × 9 columns</p>\n",
       "</div>"
      ],
      "text/plain": [
       "          HADM_ID           CHARTTIME  VALUENUM      ITEMID  OldITEMID  \\\n",
       "0        100003.0 2150-04-17 17:51:00      71.0  Heart Rate     220045   \n",
       "1        100003.0 2150-04-17 18:00:00      73.0  Heart Rate     220045   \n",
       "2        100003.0 2150-04-17 18:30:00      72.0  Heart Rate     220045   \n",
       "3        100003.0 2150-04-17 18:59:00      71.0  Heart Rate     220045   \n",
       "4        100003.0 2150-04-17 19:00:00      69.0  Heart Rate     220045   \n",
       "...           ...                 ...       ...         ...        ...   \n",
       "1030842  199948.0 2102-02-26 09:00:00      64.0  Heart Rate     220045   \n",
       "1030843  199948.0 2102-02-26 10:00:00      68.0  Heart Rate     220045   \n",
       "1030844  199948.0 2102-02-26 11:00:00      66.0  Heart Rate     220045   \n",
       "1030845  199948.0 2102-02-26 12:00:00      64.0  Heart Rate     220045   \n",
       "1030846  199948.0 2102-02-26 13:00:00      64.0  Heart Rate     220045   \n",
       "\n",
       "         SUBJECT_ID VALUEUOM LabTimeFromAdmit   hours_in  \n",
       "0             54610      bpm  0 days 02:17:00   2.283333  \n",
       "1             54610      bpm  0 days 02:26:00   2.433333  \n",
       "2             54610      bpm  0 days 02:56:00   2.933333  \n",
       "3             54610      bpm  0 days 03:25:00   3.416667  \n",
       "4             54610      bpm  0 days 03:26:00   3.433333  \n",
       "...             ...      ...              ...        ...  \n",
       "1030842       49225      bpm  3 days 19:32:00  91.533333  \n",
       "1030843       49225      bpm  3 days 20:32:00  92.533333  \n",
       "1030844       49225      bpm  3 days 21:32:00  93.533333  \n",
       "1030845       49225      bpm  3 days 22:32:00  94.533333  \n",
       "1030846       49225      bpm  3 days 23:32:00  95.533333  \n",
       "\n",
       "[1030847 rows x 9 columns]"
      ]
     },
     "execution_count": 21,
     "metadata": {},
     "output_type": "execute_result"
    }
   ],
   "source": [
    "m_labs[['HADM_ID', 'CHARTTIME', 'VALUENUM', 'ITEMID','OldITEMID','SUBJECT_ID', 'VALUEUOM', 'LabTimeFromAdmit','hours_in']]"
   ]
  },
  {
   "cell_type": "code",
   "execution_count": 22,
   "metadata": {},
   "outputs": [
    {
     "data": {
      "text/html": [
       "<div>\n",
       "<style scoped>\n",
       "    .dataframe tbody tr th:only-of-type {\n",
       "        vertical-align: middle;\n",
       "    }\n",
       "\n",
       "    .dataframe tbody tr th {\n",
       "        vertical-align: top;\n",
       "    }\n",
       "\n",
       "    .dataframe thead th {\n",
       "        text-align: right;\n",
       "    }\n",
       "</style>\n",
       "<table border=\"1\" class=\"dataframe\">\n",
       "  <thead>\n",
       "    <tr style=\"text-align: right;\">\n",
       "      <th></th>\n",
       "      <th>HADM_ID</th>\n",
       "      <th>SUBJECT_ID</th>\n",
       "      <th>OldITEMID</th>\n",
       "      <th>STARTTIME</th>\n",
       "      <th>ENDTIME</th>\n",
       "      <th>AMOUNT</th>\n",
       "      <th>AMOUNTUOM</th>\n",
       "      <th>PATIENTWEIGHT</th>\n",
       "      <th>ADMITTIME</th>\n",
       "      <th>DISCHTIME</th>\n",
       "      <th>...</th>\n",
       "      <th>ABBREVIATION</th>\n",
       "      <th>DBSOURCE</th>\n",
       "      <th>LINKSTO</th>\n",
       "      <th>CATEGORY</th>\n",
       "      <th>UNITNAME</th>\n",
       "      <th>PARAM_TYPE</th>\n",
       "      <th>CONCEPTID</th>\n",
       "      <th>AGE</th>\n",
       "      <th>ITEMID</th>\n",
       "      <th>hours_in</th>\n",
       "    </tr>\n",
       "  </thead>\n",
       "  <tbody>\n",
       "    <tr>\n",
       "      <th>56325</th>\n",
       "      <td>144024</td>\n",
       "      <td>63024</td>\n",
       "      <td>225975</td>\n",
       "      <td>2188-06-19 17:31:00</td>\n",
       "      <td>2188-06-19 17:32:00</td>\n",
       "      <td>1.000000</td>\n",
       "      <td>dose</td>\n",
       "      <td>74.5</td>\n",
       "      <td>2188-06-20 14:49:00</td>\n",
       "      <td>2188-07-01 12:30:00</td>\n",
       "      <td>...</td>\n",
       "      <td>Heparin Sodium (Prophylaxis)</td>\n",
       "      <td>metavision</td>\n",
       "      <td>inputevents_mv</td>\n",
       "      <td>Medications</td>\n",
       "      <td>dose</td>\n",
       "      <td>Solution</td>\n",
       "      <td>NaN</td>\n",
       "      <td>46.0</td>\n",
       "      <td>Heparin Sodium (Prophylaxis)</td>\n",
       "      <td>-21.283333</td>\n",
       "    </tr>\n",
       "    <tr>\n",
       "      <th>56321</th>\n",
       "      <td>144024</td>\n",
       "      <td>63024</td>\n",
       "      <td>225158</td>\n",
       "      <td>2188-06-19 16:04:00</td>\n",
       "      <td>2188-06-19 17:44:00</td>\n",
       "      <td>200.000000</td>\n",
       "      <td>ml</td>\n",
       "      <td>74.5</td>\n",
       "      <td>2188-06-20 14:49:00</td>\n",
       "      <td>2188-07-01 12:30:00</td>\n",
       "      <td>...</td>\n",
       "      <td>NaCl 0.9%</td>\n",
       "      <td>metavision</td>\n",
       "      <td>inputevents_mv</td>\n",
       "      <td>Fluids/Intake</td>\n",
       "      <td>mL</td>\n",
       "      <td>Solution</td>\n",
       "      <td>NaN</td>\n",
       "      <td>46.0</td>\n",
       "      <td>NaCl 0.9%</td>\n",
       "      <td>-21.083333</td>\n",
       "    </tr>\n",
       "    <tr>\n",
       "      <th>56320</th>\n",
       "      <td>144024</td>\n",
       "      <td>63024</td>\n",
       "      <td>225153</td>\n",
       "      <td>2188-06-19 16:04:00</td>\n",
       "      <td>2188-06-19 17:44:00</td>\n",
       "      <td>200.000010</td>\n",
       "      <td>mg</td>\n",
       "      <td>74.5</td>\n",
       "      <td>2188-06-20 14:49:00</td>\n",
       "      <td>2188-07-01 12:30:00</td>\n",
       "      <td>...</td>\n",
       "      <td>Labetalol</td>\n",
       "      <td>metavision</td>\n",
       "      <td>inputevents_mv</td>\n",
       "      <td>Medications</td>\n",
       "      <td>mg</td>\n",
       "      <td>Solution</td>\n",
       "      <td>NaN</td>\n",
       "      <td>46.0</td>\n",
       "      <td>Labetalol</td>\n",
       "      <td>-21.083333</td>\n",
       "    </tr>\n",
       "    <tr>\n",
       "      <th>37783</th>\n",
       "      <td>104390</td>\n",
       "      <td>54883</td>\n",
       "      <td>226361</td>\n",
       "      <td>2154-05-31 05:36:00</td>\n",
       "      <td>2154-05-31 05:37:00</td>\n",
       "      <td>925.000000</td>\n",
       "      <td>ml</td>\n",
       "      <td>80.5</td>\n",
       "      <td>2154-05-31 22:50:00</td>\n",
       "      <td>2154-06-03 15:15:00</td>\n",
       "      <td>...</td>\n",
       "      <td>Pre-Admission Intake</td>\n",
       "      <td>metavision</td>\n",
       "      <td>inputevents_mv</td>\n",
       "      <td>Fluids/Intake</td>\n",
       "      <td>mL</td>\n",
       "      <td>Solution</td>\n",
       "      <td>NaN</td>\n",
       "      <td>65.0</td>\n",
       "      <td>Pre-Admission Intake</td>\n",
       "      <td>-17.216667</td>\n",
       "    </tr>\n",
       "    <tr>\n",
       "      <th>56313</th>\n",
       "      <td>144024</td>\n",
       "      <td>63024</td>\n",
       "      <td>220949</td>\n",
       "      <td>2188-06-19 16:02:00</td>\n",
       "      <td>2188-06-19 22:36:00</td>\n",
       "      <td>65.666668</td>\n",
       "      <td>ml</td>\n",
       "      <td>74.5</td>\n",
       "      <td>2188-06-20 14:49:00</td>\n",
       "      <td>2188-07-01 12:30:00</td>\n",
       "      <td>...</td>\n",
       "      <td>Dextrose 5%</td>\n",
       "      <td>metavision</td>\n",
       "      <td>inputevents_mv</td>\n",
       "      <td>Fluids/Intake</td>\n",
       "      <td>mL</td>\n",
       "      <td>Solution</td>\n",
       "      <td>NaN</td>\n",
       "      <td>46.0</td>\n",
       "      <td>Dextrose 5%</td>\n",
       "      <td>-16.216667</td>\n",
       "    </tr>\n",
       "    <tr>\n",
       "      <th>...</th>\n",
       "      <td>...</td>\n",
       "      <td>...</td>\n",
       "      <td>...</td>\n",
       "      <td>...</td>\n",
       "      <td>...</td>\n",
       "      <td>...</td>\n",
       "      <td>...</td>\n",
       "      <td>...</td>\n",
       "      <td>...</td>\n",
       "      <td>...</td>\n",
       "      <td>...</td>\n",
       "      <td>...</td>\n",
       "      <td>...</td>\n",
       "      <td>...</td>\n",
       "      <td>...</td>\n",
       "      <td>...</td>\n",
       "      <td>...</td>\n",
       "      <td>...</td>\n",
       "      <td>...</td>\n",
       "      <td>...</td>\n",
       "      <td>...</td>\n",
       "    </tr>\n",
       "    <tr>\n",
       "      <th>123902</th>\n",
       "      <td>115396</td>\n",
       "      <td>93321</td>\n",
       "      <td>225917</td>\n",
       "      <td>2128-09-11 21:46:00</td>\n",
       "      <td>2128-09-12 13:47:00</td>\n",
       "      <td>2500.000081</td>\n",
       "      <td>ml</td>\n",
       "      <td>115.0</td>\n",
       "      <td>2128-03-24 23:01:00</td>\n",
       "      <td>2128-10-17 09:14:00</td>\n",
       "      <td>...</td>\n",
       "      <td>TPN without Lipids</td>\n",
       "      <td>metavision</td>\n",
       "      <td>inputevents_mv</td>\n",
       "      <td>Nutrition - Parenteral</td>\n",
       "      <td>mL</td>\n",
       "      <td>Solution</td>\n",
       "      <td>NaN</td>\n",
       "      <td>62.0</td>\n",
       "      <td>TPN without Lipids</td>\n",
       "      <td>4118.766667</td>\n",
       "    </tr>\n",
       "    <tr>\n",
       "      <th>123911</th>\n",
       "      <td>115396</td>\n",
       "      <td>93321</td>\n",
       "      <td>226453</td>\n",
       "      <td>2128-09-12 21:22:00</td>\n",
       "      <td>2128-09-12 21:23:00</td>\n",
       "      <td>60.000000</td>\n",
       "      <td>ml</td>\n",
       "      <td>115.0</td>\n",
       "      <td>2128-03-24 23:01:00</td>\n",
       "      <td>2128-10-17 09:14:00</td>\n",
       "      <td>...</td>\n",
       "      <td>GT Flush</td>\n",
       "      <td>metavision</td>\n",
       "      <td>inputevents_mv</td>\n",
       "      <td>Fluids/Intake</td>\n",
       "      <td>mL</td>\n",
       "      <td>Solution</td>\n",
       "      <td>NaN</td>\n",
       "      <td>62.0</td>\n",
       "      <td>GT Flush</td>\n",
       "      <td>4126.366667</td>\n",
       "    </tr>\n",
       "    <tr>\n",
       "      <th>123882</th>\n",
       "      <td>115396</td>\n",
       "      <td>93321</td>\n",
       "      <td>225797</td>\n",
       "      <td>2128-09-14 17:58:00</td>\n",
       "      <td>2128-09-14 17:59:00</td>\n",
       "      <td>100.000000</td>\n",
       "      <td>ml</td>\n",
       "      <td>115.0</td>\n",
       "      <td>2128-03-24 23:01:00</td>\n",
       "      <td>2128-10-17 09:14:00</td>\n",
       "      <td>...</td>\n",
       "      <td>Free Water</td>\n",
       "      <td>metavision</td>\n",
       "      <td>inputevents_mv</td>\n",
       "      <td>Fluids/Intake</td>\n",
       "      <td>mL</td>\n",
       "      <td>Solution</td>\n",
       "      <td>NaN</td>\n",
       "      <td>62.0</td>\n",
       "      <td>Free Water</td>\n",
       "      <td>4170.966667</td>\n",
       "    </tr>\n",
       "    <tr>\n",
       "      <th>123903</th>\n",
       "      <td>115396</td>\n",
       "      <td>93321</td>\n",
       "      <td>225930</td>\n",
       "      <td>2128-09-14 15:33:00</td>\n",
       "      <td>2128-09-14 18:43:00</td>\n",
       "      <td>31.666667</td>\n",
       "      <td>ml</td>\n",
       "      <td>115.0</td>\n",
       "      <td>2128-03-24 23:01:00</td>\n",
       "      <td>2128-10-17 09:14:00</td>\n",
       "      <td>...</td>\n",
       "      <td>Peptamen 1.5 (Full)</td>\n",
       "      <td>metavision</td>\n",
       "      <td>inputevents_mv</td>\n",
       "      <td>Nutrition - Enteral</td>\n",
       "      <td>mL</td>\n",
       "      <td>Solution</td>\n",
       "      <td>NaN</td>\n",
       "      <td>62.0</td>\n",
       "      <td>Peptamen 1.5 (Full)</td>\n",
       "      <td>4171.700000</td>\n",
       "    </tr>\n",
       "    <tr>\n",
       "      <th>123871</th>\n",
       "      <td>115396</td>\n",
       "      <td>93321</td>\n",
       "      <td>221794</td>\n",
       "      <td>2128-09-16 14:06:00</td>\n",
       "      <td>2128-09-16 14:07:00</td>\n",
       "      <td>20.000001</td>\n",
       "      <td>mg</td>\n",
       "      <td>115.0</td>\n",
       "      <td>2128-03-24 23:01:00</td>\n",
       "      <td>2128-10-17 09:14:00</td>\n",
       "      <td>...</td>\n",
       "      <td>Furosemide (Lasix)</td>\n",
       "      <td>metavision</td>\n",
       "      <td>inputevents_mv</td>\n",
       "      <td>Medications</td>\n",
       "      <td>mg</td>\n",
       "      <td>Solution</td>\n",
       "      <td>NaN</td>\n",
       "      <td>62.0</td>\n",
       "      <td>Furosemide (Lasix)</td>\n",
       "      <td>4215.100000</td>\n",
       "    </tr>\n",
       "  </tbody>\n",
       "</table>\n",
       "<p>138658 rows × 41 columns</p>\n",
       "</div>"
      ],
      "text/plain": [
       "        HADM_ID  SUBJECT_ID  OldITEMID           STARTTIME  \\\n",
       "56325    144024       63024     225975 2188-06-19 17:31:00   \n",
       "56321    144024       63024     225158 2188-06-19 16:04:00   \n",
       "56320    144024       63024     225153 2188-06-19 16:04:00   \n",
       "37783    104390       54883     226361 2154-05-31 05:36:00   \n",
       "56313    144024       63024     220949 2188-06-19 16:02:00   \n",
       "...         ...         ...        ...                 ...   \n",
       "123902   115396       93321     225917 2128-09-11 21:46:00   \n",
       "123911   115396       93321     226453 2128-09-12 21:22:00   \n",
       "123882   115396       93321     225797 2128-09-14 17:58:00   \n",
       "123903   115396       93321     225930 2128-09-14 15:33:00   \n",
       "123871   115396       93321     221794 2128-09-16 14:06:00   \n",
       "\n",
       "                   ENDTIME       AMOUNT AMOUNTUOM  PATIENTWEIGHT  \\\n",
       "56325  2188-06-19 17:32:00     1.000000      dose           74.5   \n",
       "56321  2188-06-19 17:44:00   200.000000        ml           74.5   \n",
       "56320  2188-06-19 17:44:00   200.000010        mg           74.5   \n",
       "37783  2154-05-31 05:37:00   925.000000        ml           80.5   \n",
       "56313  2188-06-19 22:36:00    65.666668        ml           74.5   \n",
       "...                    ...          ...       ...            ...   \n",
       "123902 2128-09-12 13:47:00  2500.000081        ml          115.0   \n",
       "123911 2128-09-12 21:23:00    60.000000        ml          115.0   \n",
       "123882 2128-09-14 17:59:00   100.000000        ml          115.0   \n",
       "123903 2128-09-14 18:43:00    31.666667        ml          115.0   \n",
       "123871 2128-09-16 14:07:00    20.000001        mg          115.0   \n",
       "\n",
       "                 ADMITTIME            DISCHTIME  ...  \\\n",
       "56325  2188-06-20 14:49:00  2188-07-01 12:30:00  ...   \n",
       "56321  2188-06-20 14:49:00  2188-07-01 12:30:00  ...   \n",
       "56320  2188-06-20 14:49:00  2188-07-01 12:30:00  ...   \n",
       "37783  2154-05-31 22:50:00  2154-06-03 15:15:00  ...   \n",
       "56313  2188-06-20 14:49:00  2188-07-01 12:30:00  ...   \n",
       "...                    ...                  ...  ...   \n",
       "123902 2128-03-24 23:01:00  2128-10-17 09:14:00  ...   \n",
       "123911 2128-03-24 23:01:00  2128-10-17 09:14:00  ...   \n",
       "123882 2128-03-24 23:01:00  2128-10-17 09:14:00  ...   \n",
       "123903 2128-03-24 23:01:00  2128-10-17 09:14:00  ...   \n",
       "123871 2128-03-24 23:01:00  2128-10-17 09:14:00  ...   \n",
       "\n",
       "                        ABBREVIATION    DBSOURCE         LINKSTO  \\\n",
       "56325   Heparin Sodium (Prophylaxis)  metavision  inputevents_mv   \n",
       "56321                      NaCl 0.9%  metavision  inputevents_mv   \n",
       "56320                      Labetalol  metavision  inputevents_mv   \n",
       "37783           Pre-Admission Intake  metavision  inputevents_mv   \n",
       "56313                    Dextrose 5%  metavision  inputevents_mv   \n",
       "...                              ...         ...             ...   \n",
       "123902            TPN without Lipids  metavision  inputevents_mv   \n",
       "123911                      GT Flush  metavision  inputevents_mv   \n",
       "123882                    Free Water  metavision  inputevents_mv   \n",
       "123903           Peptamen 1.5 (Full)  metavision  inputevents_mv   \n",
       "123871            Furosemide (Lasix)  metavision  inputevents_mv   \n",
       "\n",
       "                      CATEGORY UNITNAME PARAM_TYPE CONCEPTID   AGE  \\\n",
       "56325              Medications     dose   Solution       NaN  46.0   \n",
       "56321            Fluids/Intake       mL   Solution       NaN  46.0   \n",
       "56320              Medications       mg   Solution       NaN  46.0   \n",
       "37783            Fluids/Intake       mL   Solution       NaN  65.0   \n",
       "56313            Fluids/Intake       mL   Solution       NaN  46.0   \n",
       "...                        ...      ...        ...       ...   ...   \n",
       "123902  Nutrition - Parenteral       mL   Solution       NaN  62.0   \n",
       "123911           Fluids/Intake       mL   Solution       NaN  62.0   \n",
       "123882           Fluids/Intake       mL   Solution       NaN  62.0   \n",
       "123903     Nutrition - Enteral       mL   Solution       NaN  62.0   \n",
       "123871             Medications       mg   Solution       NaN  62.0   \n",
       "\n",
       "                              ITEMID     hours_in  \n",
       "56325   Heparin Sodium (Prophylaxis)   -21.283333  \n",
       "56321                      NaCl 0.9%   -21.083333  \n",
       "56320                      Labetalol   -21.083333  \n",
       "37783           Pre-Admission Intake   -17.216667  \n",
       "56313                    Dextrose 5%   -16.216667  \n",
       "...                              ...          ...  \n",
       "123902            TPN without Lipids  4118.766667  \n",
       "123911                      GT Flush  4126.366667  \n",
       "123882                    Free Water  4170.966667  \n",
       "123903           Peptamen 1.5 (Full)  4171.700000  \n",
       "123871            Furosemide (Lasix)  4215.100000  \n",
       "\n",
       "[138658 rows x 41 columns]"
      ]
     },
     "execution_count": 22,
     "metadata": {},
     "output_type": "execute_result"
    }
   ],
   "source": [
    "m_med1[['HADM_ID', 'SUBJECT_ID', 'OldITEMID', 'STARTTIME', 'ENDTIME', 'AMOUNT', 'AMOUNTUOM',\n",
    "       'PATIENTWEIGHT', 'ADMITTIME', 'DISCHTIME', 'DEATHTIME', 'ADMISSION_TYPE', 'ADMISSION_LOCATION',\n",
    "       'DISCHARGE_LOCATION', 'INSURANCE', 'LANGUAGE', 'RELIGION',\n",
    "       'MARITAL_STATUS', 'ETHNICITY', 'EDREGTIME', 'EDOUTTIME', 'DIAGNOSIS',\n",
    "       'HOSPITAL_EXPIRE_FLAG', 'GENDER', 'DOB', 'DOD',\n",
    "       'DOD_HOSP', 'DOD_SSN', 'EXPIRE_FLAG', 'MedTimeFromAdmit', 'OldLabel',\n",
    "       'ABBREVIATION', 'DBSOURCE', 'LINKSTO', 'CATEGORY', 'UNITNAME',\n",
    "       'PARAM_TYPE', 'CONCEPTID', 'AGE', 'ITEMID', 'hours_in']]"
   ]
  },
  {
   "cell_type": "code",
   "execution_count": 1,
   "metadata": {},
   "outputs": [
    {
     "ename": "NameError",
     "evalue": "name 'm_med1' is not defined",
     "output_type": "error",
     "traceback": [
      "\u001b[0;31m---------------------------------------------------------------------------\u001b[0m",
      "\u001b[0;31mNameError\u001b[0m                                 Traceback (most recent call last)",
      "Cell \u001b[0;32mIn[1], line 1\u001b[0m\n\u001b[0;32m----> 1\u001b[0m m_med1\u001b[39m.\u001b[39mshape[\u001b[39m0\u001b[39m]\n",
      "\u001b[0;31mNameError\u001b[0m: name 'm_med1' is not defined"
     ]
    }
   ],
   "source": [
    "m_med1.shape[0]"
   ]
  },
  {
   "cell_type": "code",
   "execution_count": 23,
   "metadata": {},
   "outputs": [],
   "source": [
    "merged_med_lab = pd.merge(m_labs[['HADM_ID', 'CHARTTIME', 'VALUENUM', 'ITEMID','OldITEMID','SUBJECT_ID', 'VALUEUOM', 'LabTimeFromAdmit','hours_in']], m_med1[['HADM_ID', 'SUBJECT_ID', 'OldITEMID', 'STARTTIME', 'ENDTIME', 'AMOUNT', 'AMOUNTUOM',\n",
    "       'PATIENTWEIGHT', 'ADMITTIME', 'DISCHTIME', 'DEATHTIME', 'ADMISSION_TYPE', 'ADMISSION_LOCATION',\n",
    "       'DISCHARGE_LOCATION', 'INSURANCE', 'LANGUAGE', 'RELIGION',\n",
    "       'MARITAL_STATUS', 'ETHNICITY', 'EDREGTIME', 'EDOUTTIME', 'DIAGNOSIS',\n",
    "       'HOSPITAL_EXPIRE_FLAG', 'GENDER', 'DOB', 'DOD',\n",
    "       'DOD_HOSP', 'DOD_SSN', 'EXPIRE_FLAG', 'MedTimeFromAdmit', 'OldLabel',\n",
    "       'ABBREVIATION', 'DBSOURCE', 'LINKSTO', 'CATEGORY', 'UNITNAME',\n",
    "       'PARAM_TYPE', 'CONCEPTID', 'AGE', 'ITEMID', 'hours_in']], on=\"HADM_ID\")"
   ]
  },
  {
   "cell_type": "code",
   "execution_count": null,
   "metadata": {},
   "outputs": [],
   "source": [
    "merged_med_lab"
   ]
  },
  {
   "cell_type": "code",
   "execution_count": 11,
   "metadata": {},
   "outputs": [
    {
     "ename": "KeyboardInterrupt",
     "evalue": "",
     "output_type": "error",
     "traceback": [
      "\u001b[0;31m---------------------------------------------------------------------------\u001b[0m",
      "\u001b[0;31mKeyboardInterrupt\u001b[0m                         Traceback (most recent call last)",
      "Cell \u001b[0;32mIn[11], line 14\u001b[0m\n\u001b[1;32m      1\u001b[0m mimic_data_querier \u001b[39m=\u001b[39m querier\u001b[39m.\u001b[39mDatasetQuerier(\n\u001b[1;32m      2\u001b[0m     data \u001b[39m=\u001b[39m data,\n\u001b[1;32m      3\u001b[0m     res \u001b[39m=\u001b[39m res,\n\u001b[0;32m   (...)\u001b[0m\n\u001b[1;32m     11\u001b[0m     lab_mapping\u001b[39m=\u001b[39mlab_mapping\n\u001b[1;32m     12\u001b[0m )\n\u001b[1;32m     13\u001b[0m \u001b[39m# query pairs for all medication and lab tests\u001b[39;00m\n\u001b[0;32m---> 14\u001b[0m res_dict[lab] \u001b[39m=\u001b[39m mimic_data_querier\u001b[39m.\u001b[39;49mgenerate_med_lab_data(before_windows, after_windows, lab_parts\u001b[39m=\u001b[39;49m\u001b[39mf\u001b[39;49m\u001b[39m\"\u001b[39;49m\u001b[39m{\u001b[39;49;00mlab\u001b[39m}\u001b[39;49;00m\u001b[39m_(0,15)\u001b[39;49m\u001b[39m\"\u001b[39;49m)\n",
      "File \u001b[0;32m~/Desktop/TAU/DrugLab/src/modeling/querier.py:119\u001b[0m, in \u001b[0;36mDatasetQuerier.generate_med_lab_data\u001b[0;34m(self, before_windows, after_windows, lab_parts)\u001b[0m\n\u001b[1;32m    116\u001b[0m cols\u001b[39m.\u001b[39mextend(cols_a)\n\u001b[1;32m    117\u001b[0m temp \u001b[39m=\u001b[39m t_med1\u001b[39m.\u001b[39mcopy()\n\u001b[0;32m--> 119\u001b[0m \u001b[39mself\u001b[39m\u001b[39m.\u001b[39mtemp \u001b[39m=\u001b[39m temp\u001b[39m.\u001b[39;49mapply(\u001b[39mlambda\u001b[39;49;00m r : \u001b[39mself\u001b[39;49m\u001b[39m.\u001b[39;49mget_vals(r, t_labs, t_med1, t_med2, before_windows, after_windows), axis\u001b[39m=\u001b[39;49m\u001b[39m1\u001b[39;49m)\n\u001b[1;32m    120\u001b[0m \u001b[39mself\u001b[39m\u001b[39m.\u001b[39mtemp\u001b[39m.\u001b[39mto_csv(os\u001b[39m.\u001b[39mpath\u001b[39m.\u001b[39mjoin(\u001b[39mself\u001b[39m\u001b[39m.\u001b[39mres, \u001b[39mf\u001b[39m\u001b[39m\"\u001b[39m\u001b[39mbefore_after_windows_main_med_lab_first_val_\u001b[39m\u001b[39m{\u001b[39;00m\u001b[39mself\u001b[39m\u001b[39m.\u001b[39mstratify_prefix\u001b[39m}\u001b[39;00m\u001b[39m_doc_eval_new_win_\u001b[39m\u001b[39m{\u001b[39;00mlab_parts\u001b[39m}\u001b[39;00m\u001b[39m.csv\u001b[39m\u001b[39m\"\u001b[39m))\n\u001b[1;32m    122\u001b[0m col_vals \u001b[39m=\u001b[39m []\n",
      "File \u001b[0;32m~/Desktop/TAU/DrugLab/venv/lib/python3.9/site-packages/pandas/core/frame.py:9568\u001b[0m, in \u001b[0;36mDataFrame.apply\u001b[0;34m(self, func, axis, raw, result_type, args, **kwargs)\u001b[0m\n\u001b[1;32m   9557\u001b[0m \u001b[39mfrom\u001b[39;00m \u001b[39mpandas\u001b[39;00m\u001b[39m.\u001b[39;00m\u001b[39mcore\u001b[39;00m\u001b[39m.\u001b[39;00m\u001b[39mapply\u001b[39;00m \u001b[39mimport\u001b[39;00m frame_apply\n\u001b[1;32m   9559\u001b[0m op \u001b[39m=\u001b[39m frame_apply(\n\u001b[1;32m   9560\u001b[0m     \u001b[39mself\u001b[39m,\n\u001b[1;32m   9561\u001b[0m     func\u001b[39m=\u001b[39mfunc,\n\u001b[0;32m   (...)\u001b[0m\n\u001b[1;32m   9566\u001b[0m     kwargs\u001b[39m=\u001b[39mkwargs,\n\u001b[1;32m   9567\u001b[0m )\n\u001b[0;32m-> 9568\u001b[0m \u001b[39mreturn\u001b[39;00m op\u001b[39m.\u001b[39;49mapply()\u001b[39m.\u001b[39m__finalize__(\u001b[39mself\u001b[39m, method\u001b[39m=\u001b[39m\u001b[39m\"\u001b[39m\u001b[39mapply\u001b[39m\u001b[39m\"\u001b[39m)\n",
      "File \u001b[0;32m~/Desktop/TAU/DrugLab/venv/lib/python3.9/site-packages/pandas/core/apply.py:764\u001b[0m, in \u001b[0;36mFrameApply.apply\u001b[0;34m(self)\u001b[0m\n\u001b[1;32m    761\u001b[0m \u001b[39melif\u001b[39;00m \u001b[39mself\u001b[39m\u001b[39m.\u001b[39mraw:\n\u001b[1;32m    762\u001b[0m     \u001b[39mreturn\u001b[39;00m \u001b[39mself\u001b[39m\u001b[39m.\u001b[39mapply_raw()\n\u001b[0;32m--> 764\u001b[0m \u001b[39mreturn\u001b[39;00m \u001b[39mself\u001b[39;49m\u001b[39m.\u001b[39;49mapply_standard()\n",
      "File \u001b[0;32m~/Desktop/TAU/DrugLab/venv/lib/python3.9/site-packages/pandas/core/apply.py:891\u001b[0m, in \u001b[0;36mFrameApply.apply_standard\u001b[0;34m(self)\u001b[0m\n\u001b[1;32m    890\u001b[0m \u001b[39mdef\u001b[39;00m \u001b[39mapply_standard\u001b[39m(\u001b[39mself\u001b[39m):\n\u001b[0;32m--> 891\u001b[0m     results, res_index \u001b[39m=\u001b[39m \u001b[39mself\u001b[39;49m\u001b[39m.\u001b[39;49mapply_series_generator()\n\u001b[1;32m    893\u001b[0m     \u001b[39m# wrap results\u001b[39;00m\n\u001b[1;32m    894\u001b[0m     \u001b[39mreturn\u001b[39;00m \u001b[39mself\u001b[39m\u001b[39m.\u001b[39mwrap_results(results, res_index)\n",
      "File \u001b[0;32m~/Desktop/TAU/DrugLab/venv/lib/python3.9/site-packages/pandas/core/apply.py:907\u001b[0m, in \u001b[0;36mFrameApply.apply_series_generator\u001b[0;34m(self)\u001b[0m\n\u001b[1;32m    904\u001b[0m \u001b[39mwith\u001b[39;00m option_context(\u001b[39m\"\u001b[39m\u001b[39mmode.chained_assignment\u001b[39m\u001b[39m\"\u001b[39m, \u001b[39mNone\u001b[39;00m):\n\u001b[1;32m    905\u001b[0m     \u001b[39mfor\u001b[39;00m i, v \u001b[39min\u001b[39;00m \u001b[39menumerate\u001b[39m(series_gen):\n\u001b[1;32m    906\u001b[0m         \u001b[39m# ignore SettingWithCopy here in case the user mutates\u001b[39;00m\n\u001b[0;32m--> 907\u001b[0m         results[i] \u001b[39m=\u001b[39m \u001b[39mself\u001b[39;49m\u001b[39m.\u001b[39;49mf(v)\n\u001b[1;32m    908\u001b[0m         \u001b[39mif\u001b[39;00m \u001b[39misinstance\u001b[39m(results[i], ABCSeries):\n\u001b[1;32m    909\u001b[0m             \u001b[39m# If we have a view on v, we need to make a copy because\u001b[39;00m\n\u001b[1;32m    910\u001b[0m             \u001b[39m#  series_generator will swap out the underlying data\u001b[39;00m\n\u001b[1;32m    911\u001b[0m             results[i] \u001b[39m=\u001b[39m results[i]\u001b[39m.\u001b[39mcopy(deep\u001b[39m=\u001b[39m\u001b[39mFalse\u001b[39;00m)\n",
      "File \u001b[0;32m~/Desktop/TAU/DrugLab/src/modeling/querier.py:119\u001b[0m, in \u001b[0;36mDatasetQuerier.generate_med_lab_data.<locals>.<lambda>\u001b[0;34m(r)\u001b[0m\n\u001b[1;32m    116\u001b[0m cols\u001b[39m.\u001b[39mextend(cols_a)\n\u001b[1;32m    117\u001b[0m temp \u001b[39m=\u001b[39m t_med1\u001b[39m.\u001b[39mcopy()\n\u001b[0;32m--> 119\u001b[0m \u001b[39mself\u001b[39m\u001b[39m.\u001b[39mtemp \u001b[39m=\u001b[39m temp\u001b[39m.\u001b[39mapply(\u001b[39mlambda\u001b[39;00m r : \u001b[39mself\u001b[39;49m\u001b[39m.\u001b[39;49mget_vals(r, t_labs, t_med1, t_med2, before_windows, after_windows), axis\u001b[39m=\u001b[39m\u001b[39m1\u001b[39m)\n\u001b[1;32m    120\u001b[0m \u001b[39mself\u001b[39m\u001b[39m.\u001b[39mtemp\u001b[39m.\u001b[39mto_csv(os\u001b[39m.\u001b[39mpath\u001b[39m.\u001b[39mjoin(\u001b[39mself\u001b[39m\u001b[39m.\u001b[39mres, \u001b[39mf\u001b[39m\u001b[39m\"\u001b[39m\u001b[39mbefore_after_windows_main_med_lab_first_val_\u001b[39m\u001b[39m{\u001b[39;00m\u001b[39mself\u001b[39m\u001b[39m.\u001b[39mstratify_prefix\u001b[39m}\u001b[39;00m\u001b[39m_doc_eval_new_win_\u001b[39m\u001b[39m{\u001b[39;00mlab_parts\u001b[39m}\u001b[39;00m\u001b[39m.csv\u001b[39m\u001b[39m\"\u001b[39m))\n\u001b[1;32m    122\u001b[0m col_vals \u001b[39m=\u001b[39m []\n",
      "File \u001b[0;32m~/Desktop/TAU/DrugLab/src/modeling/querier.py:49\u001b[0m, in \u001b[0;36mDatasetQuerier.get_vals\u001b[0;34m(self, r, t_labs, t_med1, t_med2, before_windows, after_windows)\u001b[0m\n\u001b[1;32m     47\u001b[0m b_window_start \u001b[39m=\u001b[39m row[\u001b[39m\"\u001b[39m\u001b[39mMedTimeFromAdmit\u001b[39m\u001b[39m\"\u001b[39m]\u001b[39m.\u001b[39mtotal_seconds() \u001b[39m-\u001b[39m (b_w[\u001b[39m0\u001b[39m]\u001b[39m*\u001b[39m\u001b[39m3600\u001b[39m)\n\u001b[1;32m     48\u001b[0m b_window_end \u001b[39m=\u001b[39m row[\u001b[39m\"\u001b[39m\u001b[39mMedTimeFromAdmit\u001b[39m\u001b[39m\"\u001b[39m]\u001b[39m.\u001b[39mtotal_seconds() \u001b[39m-\u001b[39m (b_w[\u001b[39m1\u001b[39m])\u001b[39m*\u001b[39m\u001b[39m3600\u001b[39m\n\u001b[0;32m---> 49\u001b[0m lab_vals \u001b[39m=\u001b[39m lab_vals[lab_vals[\u001b[39m\"\u001b[39;49m\u001b[39mLabTimeFromAdmit\u001b[39;49m\u001b[39m\"\u001b[39;49m]\u001b[39m.\u001b[39;49mdt\u001b[39m.\u001b[39;49mtotal_seconds()\u001b[39m<\u001b[39;49mb_window_start]\n\u001b[1;32m     50\u001b[0m lab_vals \u001b[39m=\u001b[39m lab_vals[lab_vals[\u001b[39m\"\u001b[39m\u001b[39mLabTimeFromAdmit\u001b[39m\u001b[39m\"\u001b[39m]\u001b[39m.\u001b[39mdt\u001b[39m.\u001b[39mtotal_seconds()\u001b[39m>\u001b[39mb_window_end]\n\u001b[1;32m     51\u001b[0m lab_vals[\u001b[39m\"\u001b[39m\u001b[39mhours_from_med\u001b[39m\u001b[39m\"\u001b[39m] \u001b[39m=\u001b[39m (row[\u001b[39m\"\u001b[39m\u001b[39mSTARTTIME\u001b[39m\u001b[39m\"\u001b[39m]\u001b[39m-\u001b[39mlab_vals[\u001b[39m\"\u001b[39m\u001b[39mCHARTTIME\u001b[39m\u001b[39m\"\u001b[39m])\u001b[39m.\u001b[39mdt\u001b[39m.\u001b[39mtotal_seconds()\u001b[39m/\u001b[39m\u001b[39m3600\u001b[39m\n",
      "File \u001b[0;32m~/Desktop/TAU/DrugLab/venv/lib/python3.9/site-packages/pandas/core/frame.py:3798\u001b[0m, in \u001b[0;36mDataFrame.__getitem__\u001b[0;34m(self, key)\u001b[0m\n\u001b[1;32m   3796\u001b[0m \u001b[39m# Do we have a (boolean) 1d indexer?\u001b[39;00m\n\u001b[1;32m   3797\u001b[0m \u001b[39mif\u001b[39;00m com\u001b[39m.\u001b[39mis_bool_indexer(key):\n\u001b[0;32m-> 3798\u001b[0m     \u001b[39mreturn\u001b[39;00m \u001b[39mself\u001b[39;49m\u001b[39m.\u001b[39;49m_getitem_bool_array(key)\n\u001b[1;32m   3800\u001b[0m \u001b[39m# We are left with two options: a single key, and a collection of keys,\u001b[39;00m\n\u001b[1;32m   3801\u001b[0m \u001b[39m# We interpret tuples as collections only for non-MultiIndex\u001b[39;00m\n\u001b[1;32m   3802\u001b[0m is_single_key \u001b[39m=\u001b[39m \u001b[39misinstance\u001b[39m(key, \u001b[39mtuple\u001b[39m) \u001b[39mor\u001b[39;00m \u001b[39mnot\u001b[39;00m is_list_like(key)\n",
      "File \u001b[0;32m~/Desktop/TAU/DrugLab/venv/lib/python3.9/site-packages/pandas/core/frame.py:3853\u001b[0m, in \u001b[0;36mDataFrame._getitem_bool_array\u001b[0;34m(self, key)\u001b[0m\n\u001b[1;32m   3851\u001b[0m key \u001b[39m=\u001b[39m check_bool_indexer(\u001b[39mself\u001b[39m\u001b[39m.\u001b[39mindex, key)\n\u001b[1;32m   3852\u001b[0m indexer \u001b[39m=\u001b[39m key\u001b[39m.\u001b[39mnonzero()[\u001b[39m0\u001b[39m]\n\u001b[0;32m-> 3853\u001b[0m \u001b[39mreturn\u001b[39;00m \u001b[39mself\u001b[39;49m\u001b[39m.\u001b[39;49m_take_with_is_copy(indexer, axis\u001b[39m=\u001b[39;49m\u001b[39m0\u001b[39;49m)\n",
      "File \u001b[0;32m~/Desktop/TAU/DrugLab/venv/lib/python3.9/site-packages/pandas/core/generic.py:3902\u001b[0m, in \u001b[0;36mNDFrame._take_with_is_copy\u001b[0;34m(self, indices, axis)\u001b[0m\n\u001b[1;32m   3894\u001b[0m \u001b[39mdef\u001b[39;00m \u001b[39m_take_with_is_copy\u001b[39m(\u001b[39mself\u001b[39m: NDFrameT, indices, axis\u001b[39m=\u001b[39m\u001b[39m0\u001b[39m) \u001b[39m-\u001b[39m\u001b[39m>\u001b[39m NDFrameT:\n\u001b[1;32m   3895\u001b[0m \u001b[39m    \u001b[39m\u001b[39m\"\"\"\u001b[39;00m\n\u001b[1;32m   3896\u001b[0m \u001b[39m    Internal version of the `take` method that sets the `_is_copy`\u001b[39;00m\n\u001b[1;32m   3897\u001b[0m \u001b[39m    attribute to keep track of the parent dataframe (using in indexing\u001b[39;00m\n\u001b[0;32m   (...)\u001b[0m\n\u001b[1;32m   3900\u001b[0m \u001b[39m    See the docstring of `take` for full explanation of the parameters.\u001b[39;00m\n\u001b[1;32m   3901\u001b[0m \u001b[39m    \"\"\"\u001b[39;00m\n\u001b[0;32m-> 3902\u001b[0m     result \u001b[39m=\u001b[39m \u001b[39mself\u001b[39;49m\u001b[39m.\u001b[39;49m_take(indices\u001b[39m=\u001b[39;49mindices, axis\u001b[39m=\u001b[39;49maxis)\n\u001b[1;32m   3903\u001b[0m     \u001b[39m# Maybe set copy if we didn't actually change the index.\u001b[39;00m\n\u001b[1;32m   3904\u001b[0m     \u001b[39mif\u001b[39;00m \u001b[39mnot\u001b[39;00m result\u001b[39m.\u001b[39m_get_axis(axis)\u001b[39m.\u001b[39mequals(\u001b[39mself\u001b[39m\u001b[39m.\u001b[39m_get_axis(axis)):\n",
      "File \u001b[0;32m~/Desktop/TAU/DrugLab/venv/lib/python3.9/site-packages/pandas/core/generic.py:3886\u001b[0m, in \u001b[0;36mNDFrame._take\u001b[0;34m(self, indices, axis, convert_indices)\u001b[0m\n\u001b[1;32m   3879\u001b[0m \u001b[39m\u001b[39m\u001b[39m\"\"\"\u001b[39;00m\n\u001b[1;32m   3880\u001b[0m \u001b[39mInternal version of the `take` allowing specification of additional args.\u001b[39;00m\n\u001b[1;32m   3881\u001b[0m \n\u001b[1;32m   3882\u001b[0m \u001b[39mSee the docstring of `take` for full explanation of the parameters.\u001b[39;00m\n\u001b[1;32m   3883\u001b[0m \u001b[39m\"\"\"\u001b[39;00m\n\u001b[1;32m   3884\u001b[0m \u001b[39mself\u001b[39m\u001b[39m.\u001b[39m_consolidate_inplace()\n\u001b[0;32m-> 3886\u001b[0m new_data \u001b[39m=\u001b[39m \u001b[39mself\u001b[39;49m\u001b[39m.\u001b[39;49m_mgr\u001b[39m.\u001b[39;49mtake(\n\u001b[1;32m   3887\u001b[0m     indices,\n\u001b[1;32m   3888\u001b[0m     axis\u001b[39m=\u001b[39;49m\u001b[39mself\u001b[39;49m\u001b[39m.\u001b[39;49m_get_block_manager_axis(axis),\n\u001b[1;32m   3889\u001b[0m     verify\u001b[39m=\u001b[39;49m\u001b[39mTrue\u001b[39;49;00m,\n\u001b[1;32m   3890\u001b[0m     convert_indices\u001b[39m=\u001b[39;49mconvert_indices,\n\u001b[1;32m   3891\u001b[0m )\n\u001b[1;32m   3892\u001b[0m \u001b[39mreturn\u001b[39;00m \u001b[39mself\u001b[39m\u001b[39m.\u001b[39m_constructor(new_data)\u001b[39m.\u001b[39m__finalize__(\u001b[39mself\u001b[39m, method\u001b[39m=\u001b[39m\u001b[39m\"\u001b[39m\u001b[39mtake\u001b[39m\u001b[39m\"\u001b[39m)\n",
      "File \u001b[0;32m~/Desktop/TAU/DrugLab/venv/lib/python3.9/site-packages/pandas/core/internals/managers.py:978\u001b[0m, in \u001b[0;36mBaseBlockManager.take\u001b[0;34m(self, indexer, axis, verify, convert_indices)\u001b[0m\n\u001b[1;32m    975\u001b[0m     indexer \u001b[39m=\u001b[39m maybe_convert_indices(indexer, n, verify\u001b[39m=\u001b[39mverify)\n\u001b[1;32m    977\u001b[0m new_labels \u001b[39m=\u001b[39m \u001b[39mself\u001b[39m\u001b[39m.\u001b[39maxes[axis]\u001b[39m.\u001b[39mtake(indexer)\n\u001b[0;32m--> 978\u001b[0m \u001b[39mreturn\u001b[39;00m \u001b[39mself\u001b[39;49m\u001b[39m.\u001b[39;49mreindex_indexer(\n\u001b[1;32m    979\u001b[0m     new_axis\u001b[39m=\u001b[39;49mnew_labels,\n\u001b[1;32m    980\u001b[0m     indexer\u001b[39m=\u001b[39;49mindexer,\n\u001b[1;32m    981\u001b[0m     axis\u001b[39m=\u001b[39;49maxis,\n\u001b[1;32m    982\u001b[0m     allow_dups\u001b[39m=\u001b[39;49m\u001b[39mTrue\u001b[39;49;00m,\n\u001b[1;32m    983\u001b[0m     copy\u001b[39m=\u001b[39;49m\u001b[39mNone\u001b[39;49;00m,\n\u001b[1;32m    984\u001b[0m )\n",
      "File \u001b[0;32m~/Desktop/TAU/DrugLab/venv/lib/python3.9/site-packages/pandas/core/internals/managers.py:751\u001b[0m, in \u001b[0;36mBaseBlockManager.reindex_indexer\u001b[0;34m(self, new_axis, indexer, axis, fill_value, allow_dups, copy, only_slice, use_na_proxy)\u001b[0m\n\u001b[1;32m    749\u001b[0m     parent \u001b[39m=\u001b[39m \u001b[39mNone\u001b[39;00m \u001b[39mif\u001b[39;00m com\u001b[39m.\u001b[39mall_none(\u001b[39m*\u001b[39mnew_refs) \u001b[39melse\u001b[39;00m \u001b[39mself\u001b[39m\n\u001b[1;32m    750\u001b[0m \u001b[39melse\u001b[39;00m:\n\u001b[0;32m--> 751\u001b[0m     new_blocks \u001b[39m=\u001b[39m [\n\u001b[1;32m    752\u001b[0m         blk\u001b[39m.\u001b[39mtake_nd(\n\u001b[1;32m    753\u001b[0m             indexer,\n\u001b[1;32m    754\u001b[0m             axis\u001b[39m=\u001b[39m\u001b[39m1\u001b[39m,\n\u001b[1;32m    755\u001b[0m             fill_value\u001b[39m=\u001b[39m(\n\u001b[1;32m    756\u001b[0m                 fill_value \u001b[39mif\u001b[39;00m fill_value \u001b[39mis\u001b[39;00m \u001b[39mnot\u001b[39;00m \u001b[39mNone\u001b[39;00m \u001b[39melse\u001b[39;00m blk\u001b[39m.\u001b[39mfill_value\n\u001b[1;32m    757\u001b[0m             ),\n\u001b[1;32m    758\u001b[0m         )\n\u001b[1;32m    759\u001b[0m         \u001b[39mfor\u001b[39;00m blk \u001b[39min\u001b[39;00m \u001b[39mself\u001b[39m\u001b[39m.\u001b[39mblocks\n\u001b[1;32m    760\u001b[0m     ]\n\u001b[1;32m    761\u001b[0m     new_refs \u001b[39m=\u001b[39m \u001b[39mNone\u001b[39;00m\n\u001b[1;32m    762\u001b[0m     parent \u001b[39m=\u001b[39m \u001b[39mNone\u001b[39;00m\n",
      "File \u001b[0;32m~/Desktop/TAU/DrugLab/venv/lib/python3.9/site-packages/pandas/core/internals/managers.py:752\u001b[0m, in \u001b[0;36m<listcomp>\u001b[0;34m(.0)\u001b[0m\n\u001b[1;32m    749\u001b[0m     parent \u001b[39m=\u001b[39m \u001b[39mNone\u001b[39;00m \u001b[39mif\u001b[39;00m com\u001b[39m.\u001b[39mall_none(\u001b[39m*\u001b[39mnew_refs) \u001b[39melse\u001b[39;00m \u001b[39mself\u001b[39m\n\u001b[1;32m    750\u001b[0m \u001b[39melse\u001b[39;00m:\n\u001b[1;32m    751\u001b[0m     new_blocks \u001b[39m=\u001b[39m [\n\u001b[0;32m--> 752\u001b[0m         blk\u001b[39m.\u001b[39;49mtake_nd(\n\u001b[1;32m    753\u001b[0m             indexer,\n\u001b[1;32m    754\u001b[0m             axis\u001b[39m=\u001b[39;49m\u001b[39m1\u001b[39;49m,\n\u001b[1;32m    755\u001b[0m             fill_value\u001b[39m=\u001b[39;49m(\n\u001b[1;32m    756\u001b[0m                 fill_value \u001b[39mif\u001b[39;49;00m fill_value \u001b[39mis\u001b[39;49;00m \u001b[39mnot\u001b[39;49;00m \u001b[39mNone\u001b[39;49;00m \u001b[39melse\u001b[39;49;00m blk\u001b[39m.\u001b[39;49mfill_value\n\u001b[1;32m    757\u001b[0m             ),\n\u001b[1;32m    758\u001b[0m         )\n\u001b[1;32m    759\u001b[0m         \u001b[39mfor\u001b[39;00m blk \u001b[39min\u001b[39;00m \u001b[39mself\u001b[39m\u001b[39m.\u001b[39mblocks\n\u001b[1;32m    760\u001b[0m     ]\n\u001b[1;32m    761\u001b[0m     new_refs \u001b[39m=\u001b[39m \u001b[39mNone\u001b[39;00m\n\u001b[1;32m    762\u001b[0m     parent \u001b[39m=\u001b[39m \u001b[39mNone\u001b[39;00m\n",
      "File \u001b[0;32m~/Desktop/TAU/DrugLab/venv/lib/python3.9/site-packages/pandas/core/internals/blocks.py:880\u001b[0m, in \u001b[0;36mBlock.take_nd\u001b[0;34m(self, indexer, axis, new_mgr_locs, fill_value)\u001b[0m\n\u001b[1;32m    877\u001b[0m     allow_fill \u001b[39m=\u001b[39m \u001b[39mTrue\u001b[39;00m\n\u001b[1;32m    879\u001b[0m \u001b[39m# Note: algos.take_nd has upcast logic similar to coerce_to_target_dtype\u001b[39;00m\n\u001b[0;32m--> 880\u001b[0m new_values \u001b[39m=\u001b[39m algos\u001b[39m.\u001b[39;49mtake_nd(\n\u001b[1;32m    881\u001b[0m     values, indexer, axis\u001b[39m=\u001b[39;49maxis, allow_fill\u001b[39m=\u001b[39;49mallow_fill, fill_value\u001b[39m=\u001b[39;49mfill_value\n\u001b[1;32m    882\u001b[0m )\n\u001b[1;32m    884\u001b[0m \u001b[39m# Called from three places in managers, all of which satisfy\u001b[39;00m\n\u001b[1;32m    885\u001b[0m \u001b[39m#  this assertion\u001b[39;00m\n\u001b[1;32m    886\u001b[0m \u001b[39massert\u001b[39;00m \u001b[39mnot\u001b[39;00m (axis \u001b[39m==\u001b[39m \u001b[39m0\u001b[39m \u001b[39mand\u001b[39;00m new_mgr_locs \u001b[39mis\u001b[39;00m \u001b[39mNone\u001b[39;00m)\n",
      "File \u001b[0;32m~/Desktop/TAU/DrugLab/venv/lib/python3.9/site-packages/pandas/core/array_algos/take.py:110\u001b[0m, in \u001b[0;36mtake_nd\u001b[0;34m(arr, indexer, axis, fill_value, allow_fill)\u001b[0m\n\u001b[1;32m    107\u001b[0m     \u001b[39mif\u001b[39;00m \u001b[39mnot\u001b[39;00m is_1d_only_ea_obj(arr):\n\u001b[1;32m    108\u001b[0m         \u001b[39m# i.e. DatetimeArray, TimedeltaArray\u001b[39;00m\n\u001b[1;32m    109\u001b[0m         arr \u001b[39m=\u001b[39m cast(\u001b[39m\"\u001b[39m\u001b[39mNDArrayBackedExtensionArray\u001b[39m\u001b[39m\"\u001b[39m, arr)\n\u001b[0;32m--> 110\u001b[0m         \u001b[39mreturn\u001b[39;00m arr\u001b[39m.\u001b[39;49mtake(\n\u001b[1;32m    111\u001b[0m             indexer, fill_value\u001b[39m=\u001b[39;49mfill_value, allow_fill\u001b[39m=\u001b[39;49mallow_fill, axis\u001b[39m=\u001b[39;49maxis\n\u001b[1;32m    112\u001b[0m         )\n\u001b[1;32m    114\u001b[0m     \u001b[39mreturn\u001b[39;00m arr\u001b[39m.\u001b[39mtake(indexer, fill_value\u001b[39m=\u001b[39mfill_value, allow_fill\u001b[39m=\u001b[39mallow_fill)\n\u001b[1;32m    116\u001b[0m arr \u001b[39m=\u001b[39m np\u001b[39m.\u001b[39masarray(arr)\n",
      "File \u001b[0;32m~/Desktop/TAU/DrugLab/venv/lib/python3.9/site-packages/pandas/core/arrays/_mixins.py:165\u001b[0m, in \u001b[0;36mNDArrayBackedExtensionArray.take\u001b[0;34m(self, indices, allow_fill, fill_value, axis)\u001b[0m\n\u001b[1;32m    162\u001b[0m \u001b[39mif\u001b[39;00m allow_fill:\n\u001b[1;32m    163\u001b[0m     fill_value \u001b[39m=\u001b[39m \u001b[39mself\u001b[39m\u001b[39m.\u001b[39m_validate_scalar(fill_value)\n\u001b[0;32m--> 165\u001b[0m new_data \u001b[39m=\u001b[39m take(\n\u001b[1;32m    166\u001b[0m     \u001b[39mself\u001b[39;49m\u001b[39m.\u001b[39;49m_ndarray,\n\u001b[1;32m    167\u001b[0m     indices,\n\u001b[1;32m    168\u001b[0m     allow_fill\u001b[39m=\u001b[39;49mallow_fill,\n\u001b[1;32m    169\u001b[0m     fill_value\u001b[39m=\u001b[39;49mfill_value,\n\u001b[1;32m    170\u001b[0m     axis\u001b[39m=\u001b[39;49maxis,\n\u001b[1;32m    171\u001b[0m )\n\u001b[1;32m    172\u001b[0m \u001b[39mreturn\u001b[39;00m \u001b[39mself\u001b[39m\u001b[39m.\u001b[39m_from_backing_data(new_data)\n",
      "File \u001b[0;32m~/Desktop/TAU/DrugLab/venv/lib/python3.9/site-packages/pandas/core/algorithms.py:1572\u001b[0m, in \u001b[0;36mtake\u001b[0;34m(arr, indices, axis, allow_fill, fill_value)\u001b[0m\n\u001b[1;32m   1569\u001b[0m \u001b[39mif\u001b[39;00m allow_fill:\n\u001b[1;32m   1570\u001b[0m     \u001b[39m# Pandas style, -1 means NA\u001b[39;00m\n\u001b[1;32m   1571\u001b[0m     validate_indices(indices, arr\u001b[39m.\u001b[39mshape[axis])\n\u001b[0;32m-> 1572\u001b[0m     result \u001b[39m=\u001b[39m take_nd(\n\u001b[1;32m   1573\u001b[0m         arr, indices, axis\u001b[39m=\u001b[39;49maxis, allow_fill\u001b[39m=\u001b[39;49m\u001b[39mTrue\u001b[39;49;00m, fill_value\u001b[39m=\u001b[39;49mfill_value\n\u001b[1;32m   1574\u001b[0m     )\n\u001b[1;32m   1575\u001b[0m \u001b[39melse\u001b[39;00m:\n\u001b[1;32m   1576\u001b[0m     \u001b[39m# NumPy style\u001b[39;00m\n\u001b[1;32m   1577\u001b[0m     result \u001b[39m=\u001b[39m arr\u001b[39m.\u001b[39mtake(indices, axis\u001b[39m=\u001b[39maxis)\n",
      "File \u001b[0;32m~/Desktop/TAU/DrugLab/venv/lib/python3.9/site-packages/pandas/core/array_algos/take.py:98\u001b[0m, in \u001b[0;36mtake_nd\u001b[0;34m(arr, indexer, axis, fill_value, allow_fill)\u001b[0m\n\u001b[1;32m     96\u001b[0m     fill_value \u001b[39m=\u001b[39m na_value_for_dtype(arr\u001b[39m.\u001b[39mdtype, compat\u001b[39m=\u001b[39m\u001b[39mFalse\u001b[39;00m)\n\u001b[1;32m     97\u001b[0m \u001b[39melif\u001b[39;00m \u001b[39misinstance\u001b[39m(arr\u001b[39m.\u001b[39mdtype, np\u001b[39m.\u001b[39mdtype) \u001b[39mand\u001b[39;00m arr\u001b[39m.\u001b[39mdtype\u001b[39m.\u001b[39mkind \u001b[39min\u001b[39;00m \u001b[39m\"\u001b[39m\u001b[39mmM\u001b[39m\u001b[39m\"\u001b[39m:\n\u001b[0;32m---> 98\u001b[0m     dtype, fill_value \u001b[39m=\u001b[39m maybe_promote(arr\u001b[39m.\u001b[39;49mdtype, fill_value)\n\u001b[1;32m     99\u001b[0m     \u001b[39mif\u001b[39;00m arr\u001b[39m.\u001b[39mdtype \u001b[39m!=\u001b[39m dtype:\n\u001b[1;32m    100\u001b[0m         \u001b[39m# EA.take is strict about returning a new object of the same type\u001b[39;00m\n\u001b[1;32m    101\u001b[0m         \u001b[39m# so for that case cast upfront\u001b[39;00m\n\u001b[1;32m    102\u001b[0m         arr \u001b[39m=\u001b[39m arr\u001b[39m.\u001b[39mastype(dtype)\n",
      "File \u001b[0;32m~/Desktop/TAU/DrugLab/venv/lib/python3.9/site-packages/pandas/core/dtypes/cast.py:558\u001b[0m, in \u001b[0;36mmaybe_promote\u001b[0;34m(dtype, fill_value)\u001b[0m\n\u001b[1;32m    552\u001b[0m \u001b[39m# for performance, we are using a cached version of the actual implementation\u001b[39;00m\n\u001b[1;32m    553\u001b[0m \u001b[39m# of the function in _maybe_promote. However, this doesn't always work (in case\u001b[39;00m\n\u001b[1;32m    554\u001b[0m \u001b[39m# of non-hashable arguments), so we fallback to the actual implementation if needed\u001b[39;00m\n\u001b[1;32m    555\u001b[0m \u001b[39mtry\u001b[39;00m:\n\u001b[1;32m    556\u001b[0m     \u001b[39m# error: Argument 3 to \"__call__\" of \"_lru_cache_wrapper\" has incompatible type\u001b[39;00m\n\u001b[1;32m    557\u001b[0m     \u001b[39m# \"Type[Any]\"; expected \"Hashable\"  [arg-type]\u001b[39;00m\n\u001b[0;32m--> 558\u001b[0m     \u001b[39mreturn\u001b[39;00m _maybe_promote_cached(\n\u001b[1;32m    559\u001b[0m         dtype, fill_value, \u001b[39mtype\u001b[39;49m(fill_value)  \u001b[39m# type: ignore[arg-type]\u001b[39;49;00m\n\u001b[1;32m    560\u001b[0m     )\n\u001b[1;32m    561\u001b[0m \u001b[39mexcept\u001b[39;00m \u001b[39mTypeError\u001b[39;00m:\n\u001b[1;32m    562\u001b[0m     \u001b[39m# if fill_value is not hashable (required for caching)\u001b[39;00m\n\u001b[1;32m    563\u001b[0m     \u001b[39mreturn\u001b[39;00m _maybe_promote(dtype, fill_value)\n",
      "\u001b[0;31mKeyboardInterrupt\u001b[0m: "
     ]
    }
   ],
   "source": [
    "mimic_data_querier = querier.DatasetQuerier(\n",
    "    data = data,\n",
    "    res = res,\n",
    "    t_labs=m_labs.iloc[:2], \n",
    "    t_med1=m_med1, \n",
    "    t_med2=m_med2,\n",
    "    gender=gender, \n",
    "    age_b=age_b, \n",
    "    age_a=age_a, \n",
    "    ethnicity=ethnicity, \n",
    "    lab_mapping=lab_mapping\n",
    ")\n",
    "# query pairs for all medication and lab tests\n",
    "res_dict[lab] = mimic_data_querier.generate_med_lab_data(before_windows, after_windows, lab_parts=f\"{lab}_(0,15)\")"
   ]
  },
  {
   "cell_type": "code",
   "execution_count": null,
   "metadata": {},
   "outputs": [],
   "source": [
    "res_dict[lab]"
   ]
  },
  {
   "cell_type": "code",
   "execution_count": 9,
   "metadata": {},
   "outputs": [
    {
     "data": {
      "text/html": [
       "<div>\n",
       "<style scoped>\n",
       "    .dataframe tbody tr th:only-of-type {\n",
       "        vertical-align: middle;\n",
       "    }\n",
       "\n",
       "    .dataframe tbody tr th {\n",
       "        vertical-align: top;\n",
       "    }\n",
       "\n",
       "    .dataframe thead th {\n",
       "        text-align: right;\n",
       "    }\n",
       "</style>\n",
       "<table border=\"1\" class=\"dataframe\">\n",
       "  <thead>\n",
       "    <tr style=\"text-align: right;\">\n",
       "      <th></th>\n",
       "      <th>HADM_ID</th>\n",
       "      <th>VALUENUM</th>\n",
       "      <th>AGE</th>\n",
       "      <th>EXPIRE_FLAG</th>\n",
       "      <th>HAS_CHARTEVENTS_DATA</th>\n",
       "      <th>HOSPITAL_EXPIRE_FLAG</th>\n",
       "      <th>OldITEMID</th>\n",
       "      <th>SUBJECT_ID</th>\n",
       "      <th>ROW_ID_x</th>\n",
       "      <th>LabTimeFromAdmit</th>\n",
       "      <th>hours_in</th>\n",
       "    </tr>\n",
       "  </thead>\n",
       "  <tbody>\n",
       "    <tr>\n",
       "      <th>count</th>\n",
       "      <td>1.030847e+06</td>\n",
       "      <td>1.030847e+06</td>\n",
       "      <td>1.030847e+06</td>\n",
       "      <td>1.030847e+06</td>\n",
       "      <td>1030847.0</td>\n",
       "      <td>1.030847e+06</td>\n",
       "      <td>1.030847e+06</td>\n",
       "      <td>1.030847e+06</td>\n",
       "      <td>1.030847e+06</td>\n",
       "      <td>1030847</td>\n",
       "      <td>1.030847e+06</td>\n",
       "    </tr>\n",
       "    <tr>\n",
       "      <th>mean</th>\n",
       "      <td>1.486924e+05</td>\n",
       "      <td>8.830991e+01</td>\n",
       "      <td>6.374266e+01</td>\n",
       "      <td>3.687996e-01</td>\n",
       "      <td>1.0</td>\n",
       "      <td>1.964307e-01</td>\n",
       "      <td>2.189342e+05</td>\n",
       "      <td>6.771397e+04</td>\n",
       "      <td>2.021967e+07</td>\n",
       "      <td>9 days 16:55:20.470370481</td>\n",
       "      <td>2.329224e+02</td>\n",
       "    </tr>\n",
       "    <tr>\n",
       "      <th>std</th>\n",
       "      <td>2.747745e+04</td>\n",
       "      <td>2.224502e+01</td>\n",
       "      <td>1.111966e+01</td>\n",
       "      <td>4.824797e-01</td>\n",
       "      <td>0.0</td>\n",
       "      <td>3.972982e-01</td>\n",
       "      <td>1.558745e+04</td>\n",
       "      <td>1.882088e+04</td>\n",
       "      <td>1.441982e+07</td>\n",
       "      <td>12 days 18:39:48.614626899</td>\n",
       "      <td>3.066635e+02</td>\n",
       "    </tr>\n",
       "    <tr>\n",
       "      <th>min</th>\n",
       "      <td>1.000030e+05</td>\n",
       "      <td>0.000000e+00</td>\n",
       "      <td>4.000000e+01</td>\n",
       "      <td>0.000000e+00</td>\n",
       "      <td>1.0</td>\n",
       "      <td>0.000000e+00</td>\n",
       "      <td>2.110000e+02</td>\n",
       "      <td>4.220000e+02</td>\n",
       "      <td>5.495100e+04</td>\n",
       "      <td>-1 days +01:14:00</td>\n",
       "      <td>-2.276667e+01</td>\n",
       "    </tr>\n",
       "    <tr>\n",
       "      <th>25%</th>\n",
       "      <td>1.264770e+05</td>\n",
       "      <td>7.500000e+01</td>\n",
       "      <td>5.500000e+01</td>\n",
       "      <td>0.000000e+00</td>\n",
       "      <td>1.0</td>\n",
       "      <td>0.000000e+00</td>\n",
       "      <td>2.200450e+05</td>\n",
       "      <td>5.271000e+04</td>\n",
       "      <td>1.184633e+07</td>\n",
       "      <td>1 days 12:48:00</td>\n",
       "      <td>3.680000e+01</td>\n",
       "    </tr>\n",
       "    <tr>\n",
       "      <th>50%</th>\n",
       "      <td>1.467220e+05</td>\n",
       "      <td>8.700000e+01</td>\n",
       "      <td>6.500000e+01</td>\n",
       "      <td>0.000000e+00</td>\n",
       "      <td>1.0</td>\n",
       "      <td>0.000000e+00</td>\n",
       "      <td>2.200450e+05</td>\n",
       "      <td>6.692900e+04</td>\n",
       "      <td>1.961120e+07</td>\n",
       "      <td>4 days 17:01:00</td>\n",
       "      <td>1.130167e+02</td>\n",
       "    </tr>\n",
       "    <tr>\n",
       "      <th>75%</th>\n",
       "      <td>1.702440e+05</td>\n",
       "      <td>1.000000e+02</td>\n",
       "      <td>7.400000e+01</td>\n",
       "      <td>1.000000e+00</td>\n",
       "      <td>1.0</td>\n",
       "      <td>0.000000e+00</td>\n",
       "      <td>2.200450e+05</td>\n",
       "      <td>8.362900e+04</td>\n",
       "      <td>2.704264e+07</td>\n",
       "      <td>12 days 14:54:00</td>\n",
       "      <td>3.029000e+02</td>\n",
       "    </tr>\n",
       "    <tr>\n",
       "      <th>max</th>\n",
       "      <td>1.999480e+05</td>\n",
       "      <td>1.171000e+04</td>\n",
       "      <td>8.000000e+01</td>\n",
       "      <td>1.000000e+00</td>\n",
       "      <td>1.0</td>\n",
       "      <td>1.000000e+00</td>\n",
       "      <td>2.200450e+05</td>\n",
       "      <td>9.999200e+04</td>\n",
       "      <td>1.926771e+08</td>\n",
       "      <td>176 days 21:59:00</td>\n",
       "      <td>4.245983e+03</td>\n",
       "    </tr>\n",
       "  </tbody>\n",
       "</table>\n",
       "</div>"
      ],
      "text/plain": [
       "            HADM_ID      VALUENUM           AGE   EXPIRE_FLAG  \\\n",
       "count  1.030847e+06  1.030847e+06  1.030847e+06  1.030847e+06   \n",
       "mean   1.486924e+05  8.830991e+01  6.374266e+01  3.687996e-01   \n",
       "std    2.747745e+04  2.224502e+01  1.111966e+01  4.824797e-01   \n",
       "min    1.000030e+05  0.000000e+00  4.000000e+01  0.000000e+00   \n",
       "25%    1.264770e+05  7.500000e+01  5.500000e+01  0.000000e+00   \n",
       "50%    1.467220e+05  8.700000e+01  6.500000e+01  0.000000e+00   \n",
       "75%    1.702440e+05  1.000000e+02  7.400000e+01  1.000000e+00   \n",
       "max    1.999480e+05  1.171000e+04  8.000000e+01  1.000000e+00   \n",
       "\n",
       "       HAS_CHARTEVENTS_DATA  HOSPITAL_EXPIRE_FLAG     OldITEMID    SUBJECT_ID  \\\n",
       "count             1030847.0          1.030847e+06  1.030847e+06  1.030847e+06   \n",
       "mean                    1.0          1.964307e-01  2.189342e+05  6.771397e+04   \n",
       "std                     0.0          3.972982e-01  1.558745e+04  1.882088e+04   \n",
       "min                     1.0          0.000000e+00  2.110000e+02  4.220000e+02   \n",
       "25%                     1.0          0.000000e+00  2.200450e+05  5.271000e+04   \n",
       "50%                     1.0          0.000000e+00  2.200450e+05  6.692900e+04   \n",
       "75%                     1.0          0.000000e+00  2.200450e+05  8.362900e+04   \n",
       "max                     1.0          1.000000e+00  2.200450e+05  9.999200e+04   \n",
       "\n",
       "           ROW_ID_x            LabTimeFromAdmit      hours_in  \n",
       "count  1.030847e+06                     1030847  1.030847e+06  \n",
       "mean   2.021967e+07   9 days 16:55:20.470370481  2.329224e+02  \n",
       "std    1.441982e+07  12 days 18:39:48.614626899  3.066635e+02  \n",
       "min    5.495100e+04           -1 days +01:14:00 -2.276667e+01  \n",
       "25%    1.184633e+07             1 days 12:48:00  3.680000e+01  \n",
       "50%    1.961120e+07             4 days 17:01:00  1.130167e+02  \n",
       "75%    2.704264e+07            12 days 14:54:00  3.029000e+02  \n",
       "max    1.926771e+08           176 days 21:59:00  4.245983e+03  "
      ]
     },
     "execution_count": 9,
     "metadata": {},
     "output_type": "execute_result"
    }
   ],
   "source": [
    "m_labs.describe()"
   ]
  },
  {
   "cell_type": "code",
   "execution_count": 10,
   "metadata": {},
   "outputs": [
    {
     "data": {
      "text/plain": [
       "0"
      ]
     },
     "execution_count": 10,
     "metadata": {},
     "output_type": "execute_result"
    }
   ],
   "source": [
    "m_labs.VALUENUM.isna()"
   ]
  },
  {
   "cell_type": "code",
   "execution_count": 4,
   "metadata": {},
   "outputs": [
    {
     "name": "stdout",
     "output_type": "stream",
     "text": [
      "Loading med data...\n",
      "Generate med data....\n"
     ]
    },
    {
     "name": "stderr",
     "output_type": "stream",
     "text": [
      "/Users/pavan/Desktop/TAU/DrugLab/src/parsers/mimic.py:51: FutureWarning: Passing 'suffixes' which cause duplicate columns {'ROW_ID_x'} in the result is deprecated and will raise a MergeError in a future version.\n",
      "  m_p_df = pd.merge(inputevents_mv, med_data, how=\"inner\", on=\"ITEMID\")\n"
     ]
    },
    {
     "name": "stdout",
     "output_type": "stream",
     "text": [
      "Generated med data.\n",
      "Loaded med data.\n",
      "Load 1st and 2nd medication data...\n",
      "Loaded 1st and 2nd medication data.\n",
      "Load Lab data...\n",
      "Generate lab data from labevents...\n"
     ]
    },
    {
     "name": "stderr",
     "output_type": "stream",
     "text": [
      "/Users/pavan/Desktop/TAU/DrugLab/src/parsers/mimic.py:138: DtypeWarning: Columns (29) have mixed types. Specify dtype option on import or set low_memory=False.\n",
      "  labevents = pd.read_csv(os.path.join(self.data, constants.MIMIC_III_PREPROCESSED_PATH, constants.MIMIC_III_LABEVENT_PREPROCESSED))\n"
     ]
    },
    {
     "name": "stdout",
     "output_type": "stream",
     "text": [
      "Generated lab data from labevents.\n",
      "Generate lab data from chartevents...\n"
     ]
    },
    {
     "name": "stderr",
     "output_type": "stream",
     "text": [
      "/Users/pavan/Desktop/TAU/DrugLab/src/parsers/mimic.py:184: DtypeWarning: Columns (14,15) have mixed types. Specify dtype option on import or set low_memory=False.\n",
      "  chartevents = pd.concat([pd.read_csv(path) for path in res_paths], ignore_index=True) ## concatenation of output from each chunk\n",
      "/Users/pavan/Desktop/TAU/DrugLab/src/parsers/mimic.py:184: DtypeWarning: Columns (9) have mixed types. Specify dtype option on import or set low_memory=False.\n",
      "  chartevents = pd.concat([pd.read_csv(path) for path in res_paths], ignore_index=True) ## concatenation of output from each chunk\n",
      "/Users/pavan/Desktop/TAU/DrugLab/src/parsers/mimic.py:184: DtypeWarning: Columns (9) have mixed types. Specify dtype option on import or set low_memory=False.\n",
      "  chartevents = pd.concat([pd.read_csv(path) for path in res_paths], ignore_index=True) ## concatenation of output from each chunk\n",
      "/Users/pavan/Desktop/TAU/DrugLab/src/parsers/mimic.py:184: DtypeWarning: Columns (9) have mixed types. Specify dtype option on import or set low_memory=False.\n",
      "  chartevents = pd.concat([pd.read_csv(path) for path in res_paths], ignore_index=True) ## concatenation of output from each chunk\n",
      "/Users/pavan/Desktop/TAU/DrugLab/src/parsers/mimic.py:184: DtypeWarning: Columns (9) have mixed types. Specify dtype option on import or set low_memory=False.\n",
      "  chartevents = pd.concat([pd.read_csv(path) for path in res_paths], ignore_index=True) ## concatenation of output from each chunk\n",
      "/Users/pavan/Desktop/TAU/DrugLab/src/parsers/mimic.py:184: DtypeWarning: Columns (9) have mixed types. Specify dtype option on import or set low_memory=False.\n",
      "  chartevents = pd.concat([pd.read_csv(path) for path in res_paths], ignore_index=True) ## concatenation of output from each chunk\n"
     ]
    },
    {
     "name": "stdout",
     "output_type": "stream",
     "text": [
      "Generated lab data from chartevents.\n"
     ]
    },
    {
     "name": "stderr",
     "output_type": "stream",
     "text": [
      "/Users/pavan/Desktop/TAU/DrugLab/src/parsers/mimic.py:213: FutureWarning: Inferring datetime64[ns] from data containing strings is deprecated and will be removed in a future version. To retain the old behavior explicitly pass Series(data, dtype=datetime64[ns])\n",
      "  merged_chart_lab_events = merged_chart_lab_events.groupby([\"HADM_ID\", \"ADMITTIME\", \"CHARTTIME\", \"VALUENUM\", \"MIMICExtractName\"]).nth(0).reset_index()\n"
     ]
    },
    {
     "name": "stdout",
     "output_type": "stream",
     "text": [
      "Loaded Lab data.\n"
     ]
    }
   ],
   "source": [
    "# MIMIC\n",
    "mimic_parser = mimic.MIMICParser(data=data, res=res, gender=gender, age_b=age_b, age_a=age_a, ethnicity=ethnicity, load=\"AUTOMATIC_MAPPING_MIMIC\")\n",
    "m_med1, m_med2, m_labs = mimic_parser.parse(use_pairs=False, load_from_raw=True, load_raw_chartevents=False, lab_parts=(0, 15))"
   ]
  },
  {
   "cell_type": "code",
   "execution_count": 5,
   "metadata": {},
   "outputs": [
    {
     "data": {
      "text/html": [
       "<div>\n",
       "<style scoped>\n",
       "    .dataframe tbody tr th:only-of-type {\n",
       "        vertical-align: middle;\n",
       "    }\n",
       "\n",
       "    .dataframe tbody tr th {\n",
       "        vertical-align: top;\n",
       "    }\n",
       "\n",
       "    .dataframe thead th {\n",
       "        text-align: right;\n",
       "    }\n",
       "</style>\n",
       "<table border=\"1\" class=\"dataframe\">\n",
       "  <thead>\n",
       "    <tr style=\"text-align: right;\">\n",
       "      <th></th>\n",
       "      <th>HADM_ID</th>\n",
       "      <th>ADMITTIME</th>\n",
       "      <th>CHARTTIME</th>\n",
       "      <th>VALUENUM</th>\n",
       "      <th>ITEMID</th>\n",
       "      <th>ADMISSION_LOCATION</th>\n",
       "      <th>ADMISSION_TYPE</th>\n",
       "      <th>AGE</th>\n",
       "      <th>DEATHTIME</th>\n",
       "      <th>DIAGNOSIS</th>\n",
       "      <th>...</th>\n",
       "      <th>LANGUAGE</th>\n",
       "      <th>MARITAL_STATUS</th>\n",
       "      <th>RELIGION</th>\n",
       "      <th>SUBJECT_ID</th>\n",
       "      <th>VALUE</th>\n",
       "      <th>VALUEUOM</th>\n",
       "      <th>ROW_ID_x</th>\n",
       "      <th>TABLE</th>\n",
       "      <th>LabTimeFromAdmit</th>\n",
       "      <th>hours_in</th>\n",
       "    </tr>\n",
       "  </thead>\n",
       "  <tbody>\n",
       "    <tr>\n",
       "      <th>318</th>\n",
       "      <td>100003.0</td>\n",
       "      <td>2150-04-17 15:34:00</td>\n",
       "      <td>2150-04-17 17:00:00</td>\n",
       "      <td>36.0</td>\n",
       "      <td>Diastolic blood pressure</td>\n",
       "      <td>EMERGENCY ROOM ADMIT</td>\n",
       "      <td>EMERGENCY</td>\n",
       "      <td>60.0</td>\n",
       "      <td>NaN</td>\n",
       "      <td>UPPER GI BLEED</td>\n",
       "      <td>...</td>\n",
       "      <td>ENGL</td>\n",
       "      <td>SINGLE</td>\n",
       "      <td>NOT SPECIFIED</td>\n",
       "      <td>54610</td>\n",
       "      <td>36.0</td>\n",
       "      <td>mmHg</td>\n",
       "      <td>12554654</td>\n",
       "      <td>CHARTEVENTS</td>\n",
       "      <td>0 days 01:26:00</td>\n",
       "      <td>1.433333</td>\n",
       "    </tr>\n",
       "    <tr>\n",
       "      <th>319</th>\n",
       "      <td>100003.0</td>\n",
       "      <td>2150-04-17 15:34:00</td>\n",
       "      <td>2150-04-17 17:00:00</td>\n",
       "      <td>83.0</td>\n",
       "      <td>Systolic blood pressure</td>\n",
       "      <td>EMERGENCY ROOM ADMIT</td>\n",
       "      <td>EMERGENCY</td>\n",
       "      <td>60.0</td>\n",
       "      <td>NaN</td>\n",
       "      <td>UPPER GI BLEED</td>\n",
       "      <td>...</td>\n",
       "      <td>ENGL</td>\n",
       "      <td>SINGLE</td>\n",
       "      <td>NOT SPECIFIED</td>\n",
       "      <td>54610</td>\n",
       "      <td>83.0</td>\n",
       "      <td>mmHg</td>\n",
       "      <td>12554653</td>\n",
       "      <td>CHARTEVENTS</td>\n",
       "      <td>0 days 01:26:00</td>\n",
       "      <td>1.433333</td>\n",
       "    </tr>\n",
       "    <tr>\n",
       "      <th>320</th>\n",
       "      <td>100003.0</td>\n",
       "      <td>2150-04-17 15:34:00</td>\n",
       "      <td>2150-04-17 17:51:00</td>\n",
       "      <td>71.0</td>\n",
       "      <td>Heart Rate</td>\n",
       "      <td>EMERGENCY ROOM ADMIT</td>\n",
       "      <td>EMERGENCY</td>\n",
       "      <td>60.0</td>\n",
       "      <td>NaN</td>\n",
       "      <td>UPPER GI BLEED</td>\n",
       "      <td>...</td>\n",
       "      <td>ENGL</td>\n",
       "      <td>SINGLE</td>\n",
       "      <td>NOT SPECIFIED</td>\n",
       "      <td>54610</td>\n",
       "      <td>71.0</td>\n",
       "      <td>bpm</td>\n",
       "      <td>12554658</td>\n",
       "      <td>CHARTEVENTS</td>\n",
       "      <td>0 days 02:17:00</td>\n",
       "      <td>2.283333</td>\n",
       "    </tr>\n",
       "    <tr>\n",
       "      <th>321</th>\n",
       "      <td>100003.0</td>\n",
       "      <td>2150-04-17 15:34:00</td>\n",
       "      <td>2150-04-17 17:51:00</td>\n",
       "      <td>96.0</td>\n",
       "      <td>Pulse oximetry</td>\n",
       "      <td>EMERGENCY ROOM ADMIT</td>\n",
       "      <td>EMERGENCY</td>\n",
       "      <td>60.0</td>\n",
       "      <td>NaN</td>\n",
       "      <td>UPPER GI BLEED</td>\n",
       "      <td>...</td>\n",
       "      <td>ENGL</td>\n",
       "      <td>SINGLE</td>\n",
       "      <td>NOT SPECIFIED</td>\n",
       "      <td>54610</td>\n",
       "      <td>96.0</td>\n",
       "      <td>%</td>\n",
       "      <td>12554659</td>\n",
       "      <td>CHARTEVENTS</td>\n",
       "      <td>0 days 02:17:00</td>\n",
       "      <td>2.283333</td>\n",
       "    </tr>\n",
       "    <tr>\n",
       "      <th>322</th>\n",
       "      <td>100003.0</td>\n",
       "      <td>2150-04-17 15:34:00</td>\n",
       "      <td>2150-04-17 17:52:00</td>\n",
       "      <td>11.0</td>\n",
       "      <td>Respiratory rate</td>\n",
       "      <td>EMERGENCY ROOM ADMIT</td>\n",
       "      <td>EMERGENCY</td>\n",
       "      <td>60.0</td>\n",
       "      <td>NaN</td>\n",
       "      <td>UPPER GI BLEED</td>\n",
       "      <td>...</td>\n",
       "      <td>ENGL</td>\n",
       "      <td>SINGLE</td>\n",
       "      <td>NOT SPECIFIED</td>\n",
       "      <td>54610</td>\n",
       "      <td>11.0</td>\n",
       "      <td>insp/min</td>\n",
       "      <td>12554660</td>\n",
       "      <td>CHARTEVENTS</td>\n",
       "      <td>0 days 02:18:00</td>\n",
       "      <td>2.300000</td>\n",
       "    </tr>\n",
       "    <tr>\n",
       "      <th>...</th>\n",
       "      <td>...</td>\n",
       "      <td>...</td>\n",
       "      <td>...</td>\n",
       "      <td>...</td>\n",
       "      <td>...</td>\n",
       "      <td>...</td>\n",
       "      <td>...</td>\n",
       "      <td>...</td>\n",
       "      <td>...</td>\n",
       "      <td>...</td>\n",
       "      <td>...</td>\n",
       "      <td>...</td>\n",
       "      <td>...</td>\n",
       "      <td>...</td>\n",
       "      <td>...</td>\n",
       "      <td>...</td>\n",
       "      <td>...</td>\n",
       "      <td>...</td>\n",
       "      <td>...</td>\n",
       "      <td>...</td>\n",
       "      <td>...</td>\n",
       "    </tr>\n",
       "    <tr>\n",
       "      <th>17390186</th>\n",
       "      <td>199948.0</td>\n",
       "      <td>2102-02-22 13:28:00</td>\n",
       "      <td>2102-02-26 13:00:00</td>\n",
       "      <td>97.0</td>\n",
       "      <td>Systolic blood pressure</td>\n",
       "      <td>TRANSFER FROM HOSP/EXTRAM</td>\n",
       "      <td>EMERGENCY</td>\n",
       "      <td>74.0</td>\n",
       "      <td>NaN</td>\n",
       "      <td>RECTAL PROLAPSE</td>\n",
       "      <td>...</td>\n",
       "      <td>ENGL</td>\n",
       "      <td>DIVORCED</td>\n",
       "      <td>NOT SPECIFIED</td>\n",
       "      <td>49225</td>\n",
       "      <td>97.0</td>\n",
       "      <td>mmHg</td>\n",
       "      <td>10119190</td>\n",
       "      <td>CHARTEVENTS</td>\n",
       "      <td>3 days 23:32:00</td>\n",
       "      <td>95.533333</td>\n",
       "    </tr>\n",
       "    <tr>\n",
       "      <th>17390187</th>\n",
       "      <td>199948.0</td>\n",
       "      <td>2102-02-22 13:28:00</td>\n",
       "      <td>2102-02-26 13:00:00</td>\n",
       "      <td>122.0</td>\n",
       "      <td>Systolic blood pressure</td>\n",
       "      <td>TRANSFER FROM HOSP/EXTRAM</td>\n",
       "      <td>EMERGENCY</td>\n",
       "      <td>74.0</td>\n",
       "      <td>NaN</td>\n",
       "      <td>RECTAL PROLAPSE</td>\n",
       "      <td>...</td>\n",
       "      <td>ENGL</td>\n",
       "      <td>DIVORCED</td>\n",
       "      <td>NOT SPECIFIED</td>\n",
       "      <td>49225</td>\n",
       "      <td>122.0</td>\n",
       "      <td>mmHg</td>\n",
       "      <td>10119195</td>\n",
       "      <td>CHARTEVENTS</td>\n",
       "      <td>3 days 23:32:00</td>\n",
       "      <td>95.533333</td>\n",
       "    </tr>\n",
       "    <tr>\n",
       "      <th>17390188</th>\n",
       "      <td>199948.0</td>\n",
       "      <td>2102-02-22 13:28:00</td>\n",
       "      <td>2102-02-26 14:00:00</td>\n",
       "      <td>52.0</td>\n",
       "      <td>Diastolic blood pressure</td>\n",
       "      <td>TRANSFER FROM HOSP/EXTRAM</td>\n",
       "      <td>EMERGENCY</td>\n",
       "      <td>74.0</td>\n",
       "      <td>NaN</td>\n",
       "      <td>RECTAL PROLAPSE</td>\n",
       "      <td>...</td>\n",
       "      <td>ENGL</td>\n",
       "      <td>DIVORCED</td>\n",
       "      <td>NOT SPECIFIED</td>\n",
       "      <td>49225</td>\n",
       "      <td>52.0</td>\n",
       "      <td>mmHg</td>\n",
       "      <td>10119199</td>\n",
       "      <td>CHARTEVENTS</td>\n",
       "      <td>4 days 00:32:00</td>\n",
       "      <td>96.533333</td>\n",
       "    </tr>\n",
       "    <tr>\n",
       "      <th>17390189</th>\n",
       "      <td>199948.0</td>\n",
       "      <td>2102-02-22 13:28:00</td>\n",
       "      <td>2102-02-26 14:00:00</td>\n",
       "      <td>94.0</td>\n",
       "      <td>Systolic blood pressure</td>\n",
       "      <td>TRANSFER FROM HOSP/EXTRAM</td>\n",
       "      <td>EMERGENCY</td>\n",
       "      <td>74.0</td>\n",
       "      <td>NaN</td>\n",
       "      <td>RECTAL PROLAPSE</td>\n",
       "      <td>...</td>\n",
       "      <td>ENGL</td>\n",
       "      <td>DIVORCED</td>\n",
       "      <td>NOT SPECIFIED</td>\n",
       "      <td>49225</td>\n",
       "      <td>94.0</td>\n",
       "      <td>mmHg</td>\n",
       "      <td>10119198</td>\n",
       "      <td>CHARTEVENTS</td>\n",
       "      <td>4 days 00:32:00</td>\n",
       "      <td>96.533333</td>\n",
       "    </tr>\n",
       "    <tr>\n",
       "      <th>17390190</th>\n",
       "      <td>199948.0</td>\n",
       "      <td>2102-02-22 13:28:00</td>\n",
       "      <td>2102-02-24 18:32:00</td>\n",
       "      <td>98.0</td>\n",
       "      <td>Oxygen saturation</td>\n",
       "      <td>TRANSFER FROM HOSP/EXTRAM</td>\n",
       "      <td>EMERGENCY</td>\n",
       "      <td>74.0</td>\n",
       "      <td>NaN</td>\n",
       "      <td>RECTAL PROLAPSE</td>\n",
       "      <td>...</td>\n",
       "      <td>ENGL</td>\n",
       "      <td>DIVORCED</td>\n",
       "      <td>NOT SPECIFIED</td>\n",
       "      <td>49225</td>\n",
       "      <td>98</td>\n",
       "      <td>%</td>\n",
       "      <td>21124698</td>\n",
       "      <td>LABEVENTS</td>\n",
       "      <td>2 days 05:04:00</td>\n",
       "      <td>53.066667</td>\n",
       "    </tr>\n",
       "  </tbody>\n",
       "</table>\n",
       "<p>5480670 rows × 35 columns</p>\n",
       "</div>"
      ],
      "text/plain": [
       "           HADM_ID           ADMITTIME           CHARTTIME  VALUENUM  \\\n",
       "318       100003.0 2150-04-17 15:34:00 2150-04-17 17:00:00      36.0   \n",
       "319       100003.0 2150-04-17 15:34:00 2150-04-17 17:00:00      83.0   \n",
       "320       100003.0 2150-04-17 15:34:00 2150-04-17 17:51:00      71.0   \n",
       "321       100003.0 2150-04-17 15:34:00 2150-04-17 17:51:00      96.0   \n",
       "322       100003.0 2150-04-17 15:34:00 2150-04-17 17:52:00      11.0   \n",
       "...            ...                 ...                 ...       ...   \n",
       "17390186  199948.0 2102-02-22 13:28:00 2102-02-26 13:00:00      97.0   \n",
       "17390187  199948.0 2102-02-22 13:28:00 2102-02-26 13:00:00     122.0   \n",
       "17390188  199948.0 2102-02-22 13:28:00 2102-02-26 14:00:00      52.0   \n",
       "17390189  199948.0 2102-02-22 13:28:00 2102-02-26 14:00:00      94.0   \n",
       "17390190  199948.0 2102-02-22 13:28:00 2102-02-24 18:32:00      98.0   \n",
       "\n",
       "                            ITEMID         ADMISSION_LOCATION ADMISSION_TYPE  \\\n",
       "318       Diastolic blood pressure       EMERGENCY ROOM ADMIT      EMERGENCY   \n",
       "319        Systolic blood pressure       EMERGENCY ROOM ADMIT      EMERGENCY   \n",
       "320                     Heart Rate       EMERGENCY ROOM ADMIT      EMERGENCY   \n",
       "321                 Pulse oximetry       EMERGENCY ROOM ADMIT      EMERGENCY   \n",
       "322               Respiratory rate       EMERGENCY ROOM ADMIT      EMERGENCY   \n",
       "...                            ...                        ...            ...   \n",
       "17390186   Systolic blood pressure  TRANSFER FROM HOSP/EXTRAM      EMERGENCY   \n",
       "17390187   Systolic blood pressure  TRANSFER FROM HOSP/EXTRAM      EMERGENCY   \n",
       "17390188  Diastolic blood pressure  TRANSFER FROM HOSP/EXTRAM      EMERGENCY   \n",
       "17390189   Systolic blood pressure  TRANSFER FROM HOSP/EXTRAM      EMERGENCY   \n",
       "17390190         Oxygen saturation  TRANSFER FROM HOSP/EXTRAM      EMERGENCY   \n",
       "\n",
       "           AGE DEATHTIME        DIAGNOSIS  ... LANGUAGE MARITAL_STATUS  \\\n",
       "318       60.0       NaN   UPPER GI BLEED  ...     ENGL         SINGLE   \n",
       "319       60.0       NaN   UPPER GI BLEED  ...     ENGL         SINGLE   \n",
       "320       60.0       NaN   UPPER GI BLEED  ...     ENGL         SINGLE   \n",
       "321       60.0       NaN   UPPER GI BLEED  ...     ENGL         SINGLE   \n",
       "322       60.0       NaN   UPPER GI BLEED  ...     ENGL         SINGLE   \n",
       "...        ...       ...              ...  ...      ...            ...   \n",
       "17390186  74.0       NaN  RECTAL PROLAPSE  ...     ENGL       DIVORCED   \n",
       "17390187  74.0       NaN  RECTAL PROLAPSE  ...     ENGL       DIVORCED   \n",
       "17390188  74.0       NaN  RECTAL PROLAPSE  ...     ENGL       DIVORCED   \n",
       "17390189  74.0       NaN  RECTAL PROLAPSE  ...     ENGL       DIVORCED   \n",
       "17390190  74.0       NaN  RECTAL PROLAPSE  ...     ENGL       DIVORCED   \n",
       "\n",
       "               RELIGION SUBJECT_ID  VALUE  VALUEUOM  ROW_ID_x        TABLE  \\\n",
       "318       NOT SPECIFIED      54610   36.0      mmHg  12554654  CHARTEVENTS   \n",
       "319       NOT SPECIFIED      54610   83.0      mmHg  12554653  CHARTEVENTS   \n",
       "320       NOT SPECIFIED      54610   71.0       bpm  12554658  CHARTEVENTS   \n",
       "321       NOT SPECIFIED      54610   96.0         %  12554659  CHARTEVENTS   \n",
       "322       NOT SPECIFIED      54610   11.0  insp/min  12554660  CHARTEVENTS   \n",
       "...                 ...        ...    ...       ...       ...          ...   \n",
       "17390186  NOT SPECIFIED      49225   97.0      mmHg  10119190  CHARTEVENTS   \n",
       "17390187  NOT SPECIFIED      49225  122.0      mmHg  10119195  CHARTEVENTS   \n",
       "17390188  NOT SPECIFIED      49225   52.0      mmHg  10119199  CHARTEVENTS   \n",
       "17390189  NOT SPECIFIED      49225   94.0      mmHg  10119198  CHARTEVENTS   \n",
       "17390190  NOT SPECIFIED      49225     98         %  21124698    LABEVENTS   \n",
       "\n",
       "         LabTimeFromAdmit   hours_in  \n",
       "318       0 days 01:26:00   1.433333  \n",
       "319       0 days 01:26:00   1.433333  \n",
       "320       0 days 02:17:00   2.283333  \n",
       "321       0 days 02:17:00   2.283333  \n",
       "322       0 days 02:18:00   2.300000  \n",
       "...                   ...        ...  \n",
       "17390186  3 days 23:32:00  95.533333  \n",
       "17390187  3 days 23:32:00  95.533333  \n",
       "17390188  4 days 00:32:00  96.533333  \n",
       "17390189  4 days 00:32:00  96.533333  \n",
       "17390190  2 days 05:04:00  53.066667  \n",
       "\n",
       "[5480670 rows x 35 columns]"
      ]
     },
     "execution_count": 5,
     "metadata": {},
     "output_type": "execute_result"
    }
   ],
   "source": [
    "m_labs"
   ]
  },
  {
   "cell_type": "code",
   "execution_count": 6,
   "metadata": {},
   "outputs": [
    {
     "data": {
      "text/html": [
       "<div>\n",
       "<style scoped>\n",
       "    .dataframe tbody tr th:only-of-type {\n",
       "        vertical-align: middle;\n",
       "    }\n",
       "\n",
       "    .dataframe tbody tr th {\n",
       "        vertical-align: top;\n",
       "    }\n",
       "\n",
       "    .dataframe thead th {\n",
       "        text-align: right;\n",
       "    }\n",
       "</style>\n",
       "<table border=\"1\" class=\"dataframe\">\n",
       "  <thead>\n",
       "    <tr style=\"text-align: right;\">\n",
       "      <th></th>\n",
       "      <th>HADM_ID</th>\n",
       "      <th>ADMITTIME</th>\n",
       "      <th>CHARTTIME</th>\n",
       "      <th>VALUENUM</th>\n",
       "      <th>ITEMID</th>\n",
       "      <th>ADMISSION_LOCATION</th>\n",
       "      <th>ADMISSION_TYPE</th>\n",
       "      <th>AGE</th>\n",
       "      <th>DEATHTIME</th>\n",
       "      <th>DIAGNOSIS</th>\n",
       "      <th>...</th>\n",
       "      <th>LANGUAGE</th>\n",
       "      <th>MARITAL_STATUS</th>\n",
       "      <th>RELIGION</th>\n",
       "      <th>SUBJECT_ID</th>\n",
       "      <th>VALUE</th>\n",
       "      <th>VALUEUOM</th>\n",
       "      <th>ROW_ID_x</th>\n",
       "      <th>TABLE</th>\n",
       "      <th>LabTimeFromAdmit</th>\n",
       "      <th>hours_in</th>\n",
       "    </tr>\n",
       "  </thead>\n",
       "  <tbody>\n",
       "    <tr>\n",
       "      <th>0</th>\n",
       "      <td>100003.0</td>\n",
       "      <td>2150-04-17 15:34:00</td>\n",
       "      <td>2150-04-17 17:00:00</td>\n",
       "      <td>36.0</td>\n",
       "      <td>Diastolic blood pressure</td>\n",
       "      <td>EMERGENCY ROOM ADMIT</td>\n",
       "      <td>EMERGENCY</td>\n",
       "      <td>60.0</td>\n",
       "      <td>NaN</td>\n",
       "      <td>UPPER GI BLEED</td>\n",
       "      <td>...</td>\n",
       "      <td>ENGL</td>\n",
       "      <td>SINGLE</td>\n",
       "      <td>NOT SPECIFIED</td>\n",
       "      <td>54610</td>\n",
       "      <td>36.0</td>\n",
       "      <td>mmHg</td>\n",
       "      <td>12554654</td>\n",
       "      <td>CHARTEVENTS</td>\n",
       "      <td>0 days 01:26:00</td>\n",
       "      <td>1.433333</td>\n",
       "    </tr>\n",
       "    <tr>\n",
       "      <th>1</th>\n",
       "      <td>100003.0</td>\n",
       "      <td>2150-04-17 15:34:00</td>\n",
       "      <td>2150-04-17 17:00:00</td>\n",
       "      <td>83.0</td>\n",
       "      <td>Systolic blood pressure</td>\n",
       "      <td>EMERGENCY ROOM ADMIT</td>\n",
       "      <td>EMERGENCY</td>\n",
       "      <td>60.0</td>\n",
       "      <td>NaN</td>\n",
       "      <td>UPPER GI BLEED</td>\n",
       "      <td>...</td>\n",
       "      <td>ENGL</td>\n",
       "      <td>SINGLE</td>\n",
       "      <td>NOT SPECIFIED</td>\n",
       "      <td>54610</td>\n",
       "      <td>83.0</td>\n",
       "      <td>mmHg</td>\n",
       "      <td>12554653</td>\n",
       "      <td>CHARTEVENTS</td>\n",
       "      <td>0 days 01:26:00</td>\n",
       "      <td>1.433333</td>\n",
       "    </tr>\n",
       "    <tr>\n",
       "      <th>2</th>\n",
       "      <td>100003.0</td>\n",
       "      <td>2150-04-17 15:34:00</td>\n",
       "      <td>2150-04-17 17:51:00</td>\n",
       "      <td>71.0</td>\n",
       "      <td>Heart Rate</td>\n",
       "      <td>EMERGENCY ROOM ADMIT</td>\n",
       "      <td>EMERGENCY</td>\n",
       "      <td>60.0</td>\n",
       "      <td>NaN</td>\n",
       "      <td>UPPER GI BLEED</td>\n",
       "      <td>...</td>\n",
       "      <td>ENGL</td>\n",
       "      <td>SINGLE</td>\n",
       "      <td>NOT SPECIFIED</td>\n",
       "      <td>54610</td>\n",
       "      <td>71.0</td>\n",
       "      <td>bpm</td>\n",
       "      <td>12554658</td>\n",
       "      <td>CHARTEVENTS</td>\n",
       "      <td>0 days 02:17:00</td>\n",
       "      <td>2.283333</td>\n",
       "    </tr>\n",
       "    <tr>\n",
       "      <th>3</th>\n",
       "      <td>100003.0</td>\n",
       "      <td>2150-04-17 15:34:00</td>\n",
       "      <td>2150-04-17 17:51:00</td>\n",
       "      <td>96.0</td>\n",
       "      <td>Pulse oximetry</td>\n",
       "      <td>EMERGENCY ROOM ADMIT</td>\n",
       "      <td>EMERGENCY</td>\n",
       "      <td>60.0</td>\n",
       "      <td>NaN</td>\n",
       "      <td>UPPER GI BLEED</td>\n",
       "      <td>...</td>\n",
       "      <td>ENGL</td>\n",
       "      <td>SINGLE</td>\n",
       "      <td>NOT SPECIFIED</td>\n",
       "      <td>54610</td>\n",
       "      <td>96.0</td>\n",
       "      <td>%</td>\n",
       "      <td>12554659</td>\n",
       "      <td>CHARTEVENTS</td>\n",
       "      <td>0 days 02:17:00</td>\n",
       "      <td>2.283333</td>\n",
       "    </tr>\n",
       "    <tr>\n",
       "      <th>4</th>\n",
       "      <td>100003.0</td>\n",
       "      <td>2150-04-17 15:34:00</td>\n",
       "      <td>2150-04-17 17:52:00</td>\n",
       "      <td>11.0</td>\n",
       "      <td>Respiratory rate</td>\n",
       "      <td>EMERGENCY ROOM ADMIT</td>\n",
       "      <td>EMERGENCY</td>\n",
       "      <td>60.0</td>\n",
       "      <td>NaN</td>\n",
       "      <td>UPPER GI BLEED</td>\n",
       "      <td>...</td>\n",
       "      <td>ENGL</td>\n",
       "      <td>SINGLE</td>\n",
       "      <td>NOT SPECIFIED</td>\n",
       "      <td>54610</td>\n",
       "      <td>11.0</td>\n",
       "      <td>insp/min</td>\n",
       "      <td>12554660</td>\n",
       "      <td>CHARTEVENTS</td>\n",
       "      <td>0 days 02:18:00</td>\n",
       "      <td>2.300000</td>\n",
       "    </tr>\n",
       "    <tr>\n",
       "      <th>...</th>\n",
       "      <td>...</td>\n",
       "      <td>...</td>\n",
       "      <td>...</td>\n",
       "      <td>...</td>\n",
       "      <td>...</td>\n",
       "      <td>...</td>\n",
       "      <td>...</td>\n",
       "      <td>...</td>\n",
       "      <td>...</td>\n",
       "      <td>...</td>\n",
       "      <td>...</td>\n",
       "      <td>...</td>\n",
       "      <td>...</td>\n",
       "      <td>...</td>\n",
       "      <td>...</td>\n",
       "      <td>...</td>\n",
       "      <td>...</td>\n",
       "      <td>...</td>\n",
       "      <td>...</td>\n",
       "      <td>...</td>\n",
       "      <td>...</td>\n",
       "    </tr>\n",
       "    <tr>\n",
       "      <th>5480665</th>\n",
       "      <td>199948.0</td>\n",
       "      <td>2102-02-22 13:28:00</td>\n",
       "      <td>2102-02-26 13:00:00</td>\n",
       "      <td>97.0</td>\n",
       "      <td>Systolic blood pressure</td>\n",
       "      <td>TRANSFER FROM HOSP/EXTRAM</td>\n",
       "      <td>EMERGENCY</td>\n",
       "      <td>74.0</td>\n",
       "      <td>NaN</td>\n",
       "      <td>RECTAL PROLAPSE</td>\n",
       "      <td>...</td>\n",
       "      <td>ENGL</td>\n",
       "      <td>DIVORCED</td>\n",
       "      <td>NOT SPECIFIED</td>\n",
       "      <td>49225</td>\n",
       "      <td>97.0</td>\n",
       "      <td>mmHg</td>\n",
       "      <td>10119190</td>\n",
       "      <td>CHARTEVENTS</td>\n",
       "      <td>3 days 23:32:00</td>\n",
       "      <td>95.533333</td>\n",
       "    </tr>\n",
       "    <tr>\n",
       "      <th>5480666</th>\n",
       "      <td>199948.0</td>\n",
       "      <td>2102-02-22 13:28:00</td>\n",
       "      <td>2102-02-26 13:00:00</td>\n",
       "      <td>122.0</td>\n",
       "      <td>Systolic blood pressure</td>\n",
       "      <td>TRANSFER FROM HOSP/EXTRAM</td>\n",
       "      <td>EMERGENCY</td>\n",
       "      <td>74.0</td>\n",
       "      <td>NaN</td>\n",
       "      <td>RECTAL PROLAPSE</td>\n",
       "      <td>...</td>\n",
       "      <td>ENGL</td>\n",
       "      <td>DIVORCED</td>\n",
       "      <td>NOT SPECIFIED</td>\n",
       "      <td>49225</td>\n",
       "      <td>122.0</td>\n",
       "      <td>mmHg</td>\n",
       "      <td>10119195</td>\n",
       "      <td>CHARTEVENTS</td>\n",
       "      <td>3 days 23:32:00</td>\n",
       "      <td>95.533333</td>\n",
       "    </tr>\n",
       "    <tr>\n",
       "      <th>5480667</th>\n",
       "      <td>199948.0</td>\n",
       "      <td>2102-02-22 13:28:00</td>\n",
       "      <td>2102-02-26 14:00:00</td>\n",
       "      <td>52.0</td>\n",
       "      <td>Diastolic blood pressure</td>\n",
       "      <td>TRANSFER FROM HOSP/EXTRAM</td>\n",
       "      <td>EMERGENCY</td>\n",
       "      <td>74.0</td>\n",
       "      <td>NaN</td>\n",
       "      <td>RECTAL PROLAPSE</td>\n",
       "      <td>...</td>\n",
       "      <td>ENGL</td>\n",
       "      <td>DIVORCED</td>\n",
       "      <td>NOT SPECIFIED</td>\n",
       "      <td>49225</td>\n",
       "      <td>52.0</td>\n",
       "      <td>mmHg</td>\n",
       "      <td>10119199</td>\n",
       "      <td>CHARTEVENTS</td>\n",
       "      <td>4 days 00:32:00</td>\n",
       "      <td>96.533333</td>\n",
       "    </tr>\n",
       "    <tr>\n",
       "      <th>5480668</th>\n",
       "      <td>199948.0</td>\n",
       "      <td>2102-02-22 13:28:00</td>\n",
       "      <td>2102-02-26 14:00:00</td>\n",
       "      <td>94.0</td>\n",
       "      <td>Systolic blood pressure</td>\n",
       "      <td>TRANSFER FROM HOSP/EXTRAM</td>\n",
       "      <td>EMERGENCY</td>\n",
       "      <td>74.0</td>\n",
       "      <td>NaN</td>\n",
       "      <td>RECTAL PROLAPSE</td>\n",
       "      <td>...</td>\n",
       "      <td>ENGL</td>\n",
       "      <td>DIVORCED</td>\n",
       "      <td>NOT SPECIFIED</td>\n",
       "      <td>49225</td>\n",
       "      <td>94.0</td>\n",
       "      <td>mmHg</td>\n",
       "      <td>10119198</td>\n",
       "      <td>CHARTEVENTS</td>\n",
       "      <td>4 days 00:32:00</td>\n",
       "      <td>96.533333</td>\n",
       "    </tr>\n",
       "    <tr>\n",
       "      <th>5480669</th>\n",
       "      <td>199948.0</td>\n",
       "      <td>2102-02-22 13:28:00</td>\n",
       "      <td>2102-02-24 18:32:00</td>\n",
       "      <td>98.0</td>\n",
       "      <td>Oxygen saturation</td>\n",
       "      <td>TRANSFER FROM HOSP/EXTRAM</td>\n",
       "      <td>EMERGENCY</td>\n",
       "      <td>74.0</td>\n",
       "      <td>NaN</td>\n",
       "      <td>RECTAL PROLAPSE</td>\n",
       "      <td>...</td>\n",
       "      <td>ENGL</td>\n",
       "      <td>DIVORCED</td>\n",
       "      <td>NOT SPECIFIED</td>\n",
       "      <td>49225</td>\n",
       "      <td>98</td>\n",
       "      <td>%</td>\n",
       "      <td>21124698</td>\n",
       "      <td>LABEVENTS</td>\n",
       "      <td>2 days 05:04:00</td>\n",
       "      <td>53.066667</td>\n",
       "    </tr>\n",
       "  </tbody>\n",
       "</table>\n",
       "<p>5480670 rows × 35 columns</p>\n",
       "</div>"
      ],
      "text/plain": [
       "          HADM_ID           ADMITTIME           CHARTTIME  VALUENUM  \\\n",
       "0        100003.0 2150-04-17 15:34:00 2150-04-17 17:00:00      36.0   \n",
       "1        100003.0 2150-04-17 15:34:00 2150-04-17 17:00:00      83.0   \n",
       "2        100003.0 2150-04-17 15:34:00 2150-04-17 17:51:00      71.0   \n",
       "3        100003.0 2150-04-17 15:34:00 2150-04-17 17:51:00      96.0   \n",
       "4        100003.0 2150-04-17 15:34:00 2150-04-17 17:52:00      11.0   \n",
       "...           ...                 ...                 ...       ...   \n",
       "5480665  199948.0 2102-02-22 13:28:00 2102-02-26 13:00:00      97.0   \n",
       "5480666  199948.0 2102-02-22 13:28:00 2102-02-26 13:00:00     122.0   \n",
       "5480667  199948.0 2102-02-22 13:28:00 2102-02-26 14:00:00      52.0   \n",
       "5480668  199948.0 2102-02-22 13:28:00 2102-02-26 14:00:00      94.0   \n",
       "5480669  199948.0 2102-02-22 13:28:00 2102-02-24 18:32:00      98.0   \n",
       "\n",
       "                           ITEMID         ADMISSION_LOCATION ADMISSION_TYPE  \\\n",
       "0        Diastolic blood pressure       EMERGENCY ROOM ADMIT      EMERGENCY   \n",
       "1         Systolic blood pressure       EMERGENCY ROOM ADMIT      EMERGENCY   \n",
       "2                      Heart Rate       EMERGENCY ROOM ADMIT      EMERGENCY   \n",
       "3                  Pulse oximetry       EMERGENCY ROOM ADMIT      EMERGENCY   \n",
       "4                Respiratory rate       EMERGENCY ROOM ADMIT      EMERGENCY   \n",
       "...                           ...                        ...            ...   \n",
       "5480665   Systolic blood pressure  TRANSFER FROM HOSP/EXTRAM      EMERGENCY   \n",
       "5480666   Systolic blood pressure  TRANSFER FROM HOSP/EXTRAM      EMERGENCY   \n",
       "5480667  Diastolic blood pressure  TRANSFER FROM HOSP/EXTRAM      EMERGENCY   \n",
       "5480668   Systolic blood pressure  TRANSFER FROM HOSP/EXTRAM      EMERGENCY   \n",
       "5480669         Oxygen saturation  TRANSFER FROM HOSP/EXTRAM      EMERGENCY   \n",
       "\n",
       "          AGE DEATHTIME        DIAGNOSIS  ... LANGUAGE MARITAL_STATUS  \\\n",
       "0        60.0       NaN   UPPER GI BLEED  ...     ENGL         SINGLE   \n",
       "1        60.0       NaN   UPPER GI BLEED  ...     ENGL         SINGLE   \n",
       "2        60.0       NaN   UPPER GI BLEED  ...     ENGL         SINGLE   \n",
       "3        60.0       NaN   UPPER GI BLEED  ...     ENGL         SINGLE   \n",
       "4        60.0       NaN   UPPER GI BLEED  ...     ENGL         SINGLE   \n",
       "...       ...       ...              ...  ...      ...            ...   \n",
       "5480665  74.0       NaN  RECTAL PROLAPSE  ...     ENGL       DIVORCED   \n",
       "5480666  74.0       NaN  RECTAL PROLAPSE  ...     ENGL       DIVORCED   \n",
       "5480667  74.0       NaN  RECTAL PROLAPSE  ...     ENGL       DIVORCED   \n",
       "5480668  74.0       NaN  RECTAL PROLAPSE  ...     ENGL       DIVORCED   \n",
       "5480669  74.0       NaN  RECTAL PROLAPSE  ...     ENGL       DIVORCED   \n",
       "\n",
       "              RELIGION SUBJECT_ID  VALUE  VALUEUOM  ROW_ID_x        TABLE  \\\n",
       "0        NOT SPECIFIED      54610   36.0      mmHg  12554654  CHARTEVENTS   \n",
       "1        NOT SPECIFIED      54610   83.0      mmHg  12554653  CHARTEVENTS   \n",
       "2        NOT SPECIFIED      54610   71.0       bpm  12554658  CHARTEVENTS   \n",
       "3        NOT SPECIFIED      54610   96.0         %  12554659  CHARTEVENTS   \n",
       "4        NOT SPECIFIED      54610   11.0  insp/min  12554660  CHARTEVENTS   \n",
       "...                ...        ...    ...       ...       ...          ...   \n",
       "5480665  NOT SPECIFIED      49225   97.0      mmHg  10119190  CHARTEVENTS   \n",
       "5480666  NOT SPECIFIED      49225  122.0      mmHg  10119195  CHARTEVENTS   \n",
       "5480667  NOT SPECIFIED      49225   52.0      mmHg  10119199  CHARTEVENTS   \n",
       "5480668  NOT SPECIFIED      49225   94.0      mmHg  10119198  CHARTEVENTS   \n",
       "5480669  NOT SPECIFIED      49225     98         %  21124698    LABEVENTS   \n",
       "\n",
       "        LabTimeFromAdmit   hours_in  \n",
       "0        0 days 01:26:00   1.433333  \n",
       "1        0 days 01:26:00   1.433333  \n",
       "2        0 days 02:17:00   2.283333  \n",
       "3        0 days 02:17:00   2.283333  \n",
       "4        0 days 02:18:00   2.300000  \n",
       "...                  ...        ...  \n",
       "5480665  3 days 23:32:00  95.533333  \n",
       "5480666  3 days 23:32:00  95.533333  \n",
       "5480667  4 days 00:32:00  96.533333  \n",
       "5480668  4 days 00:32:00  96.533333  \n",
       "5480669  2 days 05:04:00  53.066667  \n",
       "\n",
       "[5480670 rows x 35 columns]"
      ]
     },
     "execution_count": 6,
     "metadata": {},
     "output_type": "execute_result"
    }
   ],
   "source": [
    "m_labs = m_labs.reset_index().drop(columns=[\"index\"])\n",
    "m_labs"
   ]
  },
  {
   "cell_type": "code",
   "execution_count": 9,
   "metadata": {},
   "outputs": [
    {
     "data": {
      "text/plain": [
       "Temperature (C)               31174\n",
       "Oxygen saturation             34479\n",
       "Temperature (F)              194146\n",
       "Diastolic blood pressure     951084\n",
       "Systolic blood pressure      953738\n",
       "Pulse oximetry               991343\n",
       "Heart Rate                  1025638\n",
       "Respiratory rate            1299068\n",
       "Name: ITEMID, dtype: int64"
      ]
     },
     "execution_count": 9,
     "metadata": {},
     "output_type": "execute_result"
    }
   ],
   "source": [
    "m_labs.ITEMID.value_counts(ascending=True)"
   ]
  },
  {
   "cell_type": "code",
   "execution_count": 10,
   "metadata": {},
   "outputs": [
    {
     "name": "stdout",
     "output_type": "stream",
     "text": [
      "Starting pairs generation for Temperature (C)....\n"
     ]
    }
   ],
   "source": [
    "res_dict = {}\n",
    "for labs in m_labs.ITEMID.value_counts(ascending=True).keys():\n",
    "    print(f\"Starting pairs generation for {labs}....\")\n",
    "    t_m_labs = m_labs[m_labs[\"ITEMID\"]==labs]\n",
    "    ## Querier\n",
    "    mimic_data_querier = querier.DatasetQuerier(\n",
    "        data = data,\n",
    "        res = res,\n",
    "        t_labs=t_m_labs, \n",
    "        t_med1=m_med1, \n",
    "        t_med2=m_med2,\n",
    "        gender=gender, \n",
    "        age_b=age_b, \n",
    "        age_a=age_a, \n",
    "        ethnicity=ethnicity, \n",
    "        lab_mapping=lab_mapping\n",
    "    )\n",
    "    # query pairs for all medication and lab tests\n",
    "    res_dict[labs] = mimic_data_querier.generate_med_lab_data(before_windows, after_windows, lab_parts=f\"{labs}_(0,15)\")\n",
    "    print(f\"Pairs generated for {labs}.\")"
   ]
  },
  {
   "cell_type": "code",
   "execution_count": 8,
   "metadata": {},
   "outputs": [
    {
     "ename": "KeyboardInterrupt",
     "evalue": "",
     "output_type": "error",
     "traceback": [
      "\u001b[0;31m---------------------------------------------------------------------------\u001b[0m",
      "\u001b[0;31mKeyboardInterrupt\u001b[0m                         Traceback (most recent call last)",
      "Cell \u001b[0;32mIn[8], line 15\u001b[0m\n\u001b[1;32m      2\u001b[0m mimic_data_querier \u001b[39m=\u001b[39m querier\u001b[39m.\u001b[39mDatasetQuerier(\n\u001b[1;32m      3\u001b[0m     data \u001b[39m=\u001b[39m data,\n\u001b[1;32m      4\u001b[0m     res \u001b[39m=\u001b[39m res,\n\u001b[0;32m   (...)\u001b[0m\n\u001b[1;32m     12\u001b[0m     lab_mapping\u001b[39m=\u001b[39mlab_mapping\n\u001b[1;32m     13\u001b[0m )\n\u001b[1;32m     14\u001b[0m \u001b[39m# query pairs for all medication and lab tests\u001b[39;00m\n\u001b[0;32m---> 15\u001b[0m m_final_lab_med_data \u001b[39m=\u001b[39m mimic_data_querier\u001b[39m.\u001b[39;49mgenerate_med_lab_data(before_windows, after_windows, lab_parts\u001b[39m=\u001b[39;49m(\u001b[39m0\u001b[39;49m,\u001b[39m15\u001b[39;49m))\n",
      "File \u001b[0;32m~/Desktop/TAU/DrugLab/src/modeling/querier.py:119\u001b[0m, in \u001b[0;36mDatasetQuerier.generate_med_lab_data\u001b[0;34m(self, before_windows, after_windows, lab_parts)\u001b[0m\n\u001b[1;32m    116\u001b[0m cols\u001b[39m.\u001b[39mextend(cols_a)\n\u001b[1;32m    117\u001b[0m temp \u001b[39m=\u001b[39m t_med1\u001b[39m.\u001b[39mcopy()\n\u001b[0;32m--> 119\u001b[0m \u001b[39mself\u001b[39m\u001b[39m.\u001b[39mtemp \u001b[39m=\u001b[39m temp\u001b[39m.\u001b[39;49mapply(\u001b[39mlambda\u001b[39;49;00m r : \u001b[39mself\u001b[39;49m\u001b[39m.\u001b[39;49mget_vals(r, t_labs, t_med1, t_med2, before_windows, after_windows), axis\u001b[39m=\u001b[39;49m\u001b[39m1\u001b[39;49m)\n\u001b[1;32m    120\u001b[0m \u001b[39mself\u001b[39m\u001b[39m.\u001b[39mtemp\u001b[39m.\u001b[39mto_csv(os\u001b[39m.\u001b[39mpath\u001b[39m.\u001b[39mjoin(\u001b[39mself\u001b[39m\u001b[39m.\u001b[39mres, \u001b[39mf\u001b[39m\u001b[39m\"\u001b[39m\u001b[39mbefore_after_windows_main_med_lab_first_val_\u001b[39m\u001b[39m{\u001b[39;00m\u001b[39mself\u001b[39m\u001b[39m.\u001b[39mstratify_prefix\u001b[39m}\u001b[39;00m\u001b[39m_doc_eval_new_win_\u001b[39m\u001b[39m{\u001b[39;00mlab_parts\u001b[39m}\u001b[39;00m\u001b[39m.csv\u001b[39m\u001b[39m\"\u001b[39m))\n\u001b[1;32m    122\u001b[0m col_vals \u001b[39m=\u001b[39m []\n",
      "File \u001b[0;32m~/Desktop/TAU/DrugLab/venv/lib/python3.9/site-packages/pandas/core/frame.py:9568\u001b[0m, in \u001b[0;36mDataFrame.apply\u001b[0;34m(self, func, axis, raw, result_type, args, **kwargs)\u001b[0m\n\u001b[1;32m   9557\u001b[0m \u001b[39mfrom\u001b[39;00m \u001b[39mpandas\u001b[39;00m\u001b[39m.\u001b[39;00m\u001b[39mcore\u001b[39;00m\u001b[39m.\u001b[39;00m\u001b[39mapply\u001b[39;00m \u001b[39mimport\u001b[39;00m frame_apply\n\u001b[1;32m   9559\u001b[0m op \u001b[39m=\u001b[39m frame_apply(\n\u001b[1;32m   9560\u001b[0m     \u001b[39mself\u001b[39m,\n\u001b[1;32m   9561\u001b[0m     func\u001b[39m=\u001b[39mfunc,\n\u001b[0;32m   (...)\u001b[0m\n\u001b[1;32m   9566\u001b[0m     kwargs\u001b[39m=\u001b[39mkwargs,\n\u001b[1;32m   9567\u001b[0m )\n\u001b[0;32m-> 9568\u001b[0m \u001b[39mreturn\u001b[39;00m op\u001b[39m.\u001b[39;49mapply()\u001b[39m.\u001b[39m__finalize__(\u001b[39mself\u001b[39m, method\u001b[39m=\u001b[39m\u001b[39m\"\u001b[39m\u001b[39mapply\u001b[39m\u001b[39m\"\u001b[39m)\n",
      "File \u001b[0;32m~/Desktop/TAU/DrugLab/venv/lib/python3.9/site-packages/pandas/core/apply.py:764\u001b[0m, in \u001b[0;36mFrameApply.apply\u001b[0;34m(self)\u001b[0m\n\u001b[1;32m    761\u001b[0m \u001b[39melif\u001b[39;00m \u001b[39mself\u001b[39m\u001b[39m.\u001b[39mraw:\n\u001b[1;32m    762\u001b[0m     \u001b[39mreturn\u001b[39;00m \u001b[39mself\u001b[39m\u001b[39m.\u001b[39mapply_raw()\n\u001b[0;32m--> 764\u001b[0m \u001b[39mreturn\u001b[39;00m \u001b[39mself\u001b[39;49m\u001b[39m.\u001b[39;49mapply_standard()\n",
      "File \u001b[0;32m~/Desktop/TAU/DrugLab/venv/lib/python3.9/site-packages/pandas/core/apply.py:891\u001b[0m, in \u001b[0;36mFrameApply.apply_standard\u001b[0;34m(self)\u001b[0m\n\u001b[1;32m    890\u001b[0m \u001b[39mdef\u001b[39;00m \u001b[39mapply_standard\u001b[39m(\u001b[39mself\u001b[39m):\n\u001b[0;32m--> 891\u001b[0m     results, res_index \u001b[39m=\u001b[39m \u001b[39mself\u001b[39;49m\u001b[39m.\u001b[39;49mapply_series_generator()\n\u001b[1;32m    893\u001b[0m     \u001b[39m# wrap results\u001b[39;00m\n\u001b[1;32m    894\u001b[0m     \u001b[39mreturn\u001b[39;00m \u001b[39mself\u001b[39m\u001b[39m.\u001b[39mwrap_results(results, res_index)\n",
      "File \u001b[0;32m~/Desktop/TAU/DrugLab/venv/lib/python3.9/site-packages/pandas/core/apply.py:907\u001b[0m, in \u001b[0;36mFrameApply.apply_series_generator\u001b[0;34m(self)\u001b[0m\n\u001b[1;32m    904\u001b[0m \u001b[39mwith\u001b[39;00m option_context(\u001b[39m\"\u001b[39m\u001b[39mmode.chained_assignment\u001b[39m\u001b[39m\"\u001b[39m, \u001b[39mNone\u001b[39;00m):\n\u001b[1;32m    905\u001b[0m     \u001b[39mfor\u001b[39;00m i, v \u001b[39min\u001b[39;00m \u001b[39menumerate\u001b[39m(series_gen):\n\u001b[1;32m    906\u001b[0m         \u001b[39m# ignore SettingWithCopy here in case the user mutates\u001b[39;00m\n\u001b[0;32m--> 907\u001b[0m         results[i] \u001b[39m=\u001b[39m \u001b[39mself\u001b[39;49m\u001b[39m.\u001b[39;49mf(v)\n\u001b[1;32m    908\u001b[0m         \u001b[39mif\u001b[39;00m \u001b[39misinstance\u001b[39m(results[i], ABCSeries):\n\u001b[1;32m    909\u001b[0m             \u001b[39m# If we have a view on v, we need to make a copy because\u001b[39;00m\n\u001b[1;32m    910\u001b[0m             \u001b[39m#  series_generator will swap out the underlying data\u001b[39;00m\n\u001b[1;32m    911\u001b[0m             results[i] \u001b[39m=\u001b[39m results[i]\u001b[39m.\u001b[39mcopy(deep\u001b[39m=\u001b[39m\u001b[39mFalse\u001b[39;00m)\n",
      "File \u001b[0;32m~/Desktop/TAU/DrugLab/src/modeling/querier.py:119\u001b[0m, in \u001b[0;36mDatasetQuerier.generate_med_lab_data.<locals>.<lambda>\u001b[0;34m(r)\u001b[0m\n\u001b[1;32m    116\u001b[0m cols\u001b[39m.\u001b[39mextend(cols_a)\n\u001b[1;32m    117\u001b[0m temp \u001b[39m=\u001b[39m t_med1\u001b[39m.\u001b[39mcopy()\n\u001b[0;32m--> 119\u001b[0m \u001b[39mself\u001b[39m\u001b[39m.\u001b[39mtemp \u001b[39m=\u001b[39m temp\u001b[39m.\u001b[39mapply(\u001b[39mlambda\u001b[39;00m r : \u001b[39mself\u001b[39;49m\u001b[39m.\u001b[39;49mget_vals(r, t_labs, t_med1, t_med2, before_windows, after_windows), axis\u001b[39m=\u001b[39m\u001b[39m1\u001b[39m)\n\u001b[1;32m    120\u001b[0m \u001b[39mself\u001b[39m\u001b[39m.\u001b[39mtemp\u001b[39m.\u001b[39mto_csv(os\u001b[39m.\u001b[39mpath\u001b[39m.\u001b[39mjoin(\u001b[39mself\u001b[39m\u001b[39m.\u001b[39mres, \u001b[39mf\u001b[39m\u001b[39m\"\u001b[39m\u001b[39mbefore_after_windows_main_med_lab_first_val_\u001b[39m\u001b[39m{\u001b[39;00m\u001b[39mself\u001b[39m\u001b[39m.\u001b[39mstratify_prefix\u001b[39m}\u001b[39;00m\u001b[39m_doc_eval_new_win_\u001b[39m\u001b[39m{\u001b[39;00mlab_parts\u001b[39m}\u001b[39;00m\u001b[39m.csv\u001b[39m\u001b[39m\"\u001b[39m))\n\u001b[1;32m    122\u001b[0m col_vals \u001b[39m=\u001b[39m []\n",
      "File \u001b[0;32m~/Desktop/TAU/DrugLab/src/modeling/querier.py:44\u001b[0m, in \u001b[0;36mDatasetQuerier.get_vals\u001b[0;34m(self, r, t_labs, t_med1, t_med2, before_windows, after_windows)\u001b[0m\n\u001b[1;32m     42\u001b[0m row \u001b[39m=\u001b[39m r\u001b[39m.\u001b[39mcopy()\n\u001b[1;32m     43\u001b[0m \u001b[39mfor\u001b[39;00m b_w \u001b[39min\u001b[39;00m before_windows:\n\u001b[0;32m---> 44\u001b[0m     lab_vals \u001b[39m=\u001b[39m t_labs[t_labs[\u001b[39m\"\u001b[39;49m\u001b[39mHADM_ID\u001b[39;49m\u001b[39m\"\u001b[39;49m]\u001b[39m==\u001b[39;49mrow[\u001b[39m\"\u001b[39;49m\u001b[39mHADM_ID\u001b[39;49m\u001b[39m\"\u001b[39;49m]]\n\u001b[1;32m     45\u001b[0m     lab_vals \u001b[39m=\u001b[39m lab_vals[lab_vals[\u001b[39m\"\u001b[39m\u001b[39mLabTimeFromAdmit\u001b[39m\u001b[39m\"\u001b[39m]\u001b[39m.\u001b[39mdt\u001b[39m.\u001b[39mtotal_seconds()\u001b[39m<\u001b[39mrow[\u001b[39m\"\u001b[39m\u001b[39mMedTimeFromAdmit\u001b[39m\u001b[39m\"\u001b[39m]\u001b[39m.\u001b[39mtotal_seconds()]\n\u001b[1;32m     47\u001b[0m     b_window_start \u001b[39m=\u001b[39m row[\u001b[39m\"\u001b[39m\u001b[39mMedTimeFromAdmit\u001b[39m\u001b[39m\"\u001b[39m]\u001b[39m.\u001b[39mtotal_seconds() \u001b[39m-\u001b[39m (b_w[\u001b[39m0\u001b[39m]\u001b[39m*\u001b[39m\u001b[39m3600\u001b[39m)\n",
      "File \u001b[0;32m~/Desktop/TAU/DrugLab/venv/lib/python3.9/site-packages/pandas/core/frame.py:3798\u001b[0m, in \u001b[0;36mDataFrame.__getitem__\u001b[0;34m(self, key)\u001b[0m\n\u001b[1;32m   3796\u001b[0m \u001b[39m# Do we have a (boolean) 1d indexer?\u001b[39;00m\n\u001b[1;32m   3797\u001b[0m \u001b[39mif\u001b[39;00m com\u001b[39m.\u001b[39mis_bool_indexer(key):\n\u001b[0;32m-> 3798\u001b[0m     \u001b[39mreturn\u001b[39;00m \u001b[39mself\u001b[39;49m\u001b[39m.\u001b[39;49m_getitem_bool_array(key)\n\u001b[1;32m   3800\u001b[0m \u001b[39m# We are left with two options: a single key, and a collection of keys,\u001b[39;00m\n\u001b[1;32m   3801\u001b[0m \u001b[39m# We interpret tuples as collections only for non-MultiIndex\u001b[39;00m\n\u001b[1;32m   3802\u001b[0m is_single_key \u001b[39m=\u001b[39m \u001b[39misinstance\u001b[39m(key, \u001b[39mtuple\u001b[39m) \u001b[39mor\u001b[39;00m \u001b[39mnot\u001b[39;00m is_list_like(key)\n",
      "File \u001b[0;32m~/Desktop/TAU/DrugLab/venv/lib/python3.9/site-packages/pandas/core/frame.py:3853\u001b[0m, in \u001b[0;36mDataFrame._getitem_bool_array\u001b[0;34m(self, key)\u001b[0m\n\u001b[1;32m   3851\u001b[0m key \u001b[39m=\u001b[39m check_bool_indexer(\u001b[39mself\u001b[39m\u001b[39m.\u001b[39mindex, key)\n\u001b[1;32m   3852\u001b[0m indexer \u001b[39m=\u001b[39m key\u001b[39m.\u001b[39mnonzero()[\u001b[39m0\u001b[39m]\n\u001b[0;32m-> 3853\u001b[0m \u001b[39mreturn\u001b[39;00m \u001b[39mself\u001b[39;49m\u001b[39m.\u001b[39;49m_take_with_is_copy(indexer, axis\u001b[39m=\u001b[39;49m\u001b[39m0\u001b[39;49m)\n",
      "File \u001b[0;32m~/Desktop/TAU/DrugLab/venv/lib/python3.9/site-packages/pandas/core/generic.py:3902\u001b[0m, in \u001b[0;36mNDFrame._take_with_is_copy\u001b[0;34m(self, indices, axis)\u001b[0m\n\u001b[1;32m   3894\u001b[0m \u001b[39mdef\u001b[39;00m \u001b[39m_take_with_is_copy\u001b[39m(\u001b[39mself\u001b[39m: NDFrameT, indices, axis\u001b[39m=\u001b[39m\u001b[39m0\u001b[39m) \u001b[39m-\u001b[39m\u001b[39m>\u001b[39m NDFrameT:\n\u001b[1;32m   3895\u001b[0m \u001b[39m    \u001b[39m\u001b[39m\"\"\"\u001b[39;00m\n\u001b[1;32m   3896\u001b[0m \u001b[39m    Internal version of the `take` method that sets the `_is_copy`\u001b[39;00m\n\u001b[1;32m   3897\u001b[0m \u001b[39m    attribute to keep track of the parent dataframe (using in indexing\u001b[39;00m\n\u001b[0;32m   (...)\u001b[0m\n\u001b[1;32m   3900\u001b[0m \u001b[39m    See the docstring of `take` for full explanation of the parameters.\u001b[39;00m\n\u001b[1;32m   3901\u001b[0m \u001b[39m    \"\"\"\u001b[39;00m\n\u001b[0;32m-> 3902\u001b[0m     result \u001b[39m=\u001b[39m \u001b[39mself\u001b[39;49m\u001b[39m.\u001b[39;49m_take(indices\u001b[39m=\u001b[39;49mindices, axis\u001b[39m=\u001b[39;49maxis)\n\u001b[1;32m   3903\u001b[0m     \u001b[39m# Maybe set copy if we didn't actually change the index.\u001b[39;00m\n\u001b[1;32m   3904\u001b[0m     \u001b[39mif\u001b[39;00m \u001b[39mnot\u001b[39;00m result\u001b[39m.\u001b[39m_get_axis(axis)\u001b[39m.\u001b[39mequals(\u001b[39mself\u001b[39m\u001b[39m.\u001b[39m_get_axis(axis)):\n",
      "File \u001b[0;32m~/Desktop/TAU/DrugLab/venv/lib/python3.9/site-packages/pandas/core/generic.py:3886\u001b[0m, in \u001b[0;36mNDFrame._take\u001b[0;34m(self, indices, axis, convert_indices)\u001b[0m\n\u001b[1;32m   3879\u001b[0m \u001b[39m\u001b[39m\u001b[39m\"\"\"\u001b[39;00m\n\u001b[1;32m   3880\u001b[0m \u001b[39mInternal version of the `take` allowing specification of additional args.\u001b[39;00m\n\u001b[1;32m   3881\u001b[0m \n\u001b[1;32m   3882\u001b[0m \u001b[39mSee the docstring of `take` for full explanation of the parameters.\u001b[39;00m\n\u001b[1;32m   3883\u001b[0m \u001b[39m\"\"\"\u001b[39;00m\n\u001b[1;32m   3884\u001b[0m \u001b[39mself\u001b[39m\u001b[39m.\u001b[39m_consolidate_inplace()\n\u001b[0;32m-> 3886\u001b[0m new_data \u001b[39m=\u001b[39m \u001b[39mself\u001b[39;49m\u001b[39m.\u001b[39;49m_mgr\u001b[39m.\u001b[39;49mtake(\n\u001b[1;32m   3887\u001b[0m     indices,\n\u001b[1;32m   3888\u001b[0m     axis\u001b[39m=\u001b[39;49m\u001b[39mself\u001b[39;49m\u001b[39m.\u001b[39;49m_get_block_manager_axis(axis),\n\u001b[1;32m   3889\u001b[0m     verify\u001b[39m=\u001b[39;49m\u001b[39mTrue\u001b[39;49;00m,\n\u001b[1;32m   3890\u001b[0m     convert_indices\u001b[39m=\u001b[39;49mconvert_indices,\n\u001b[1;32m   3891\u001b[0m )\n\u001b[1;32m   3892\u001b[0m \u001b[39mreturn\u001b[39;00m \u001b[39mself\u001b[39m\u001b[39m.\u001b[39m_constructor(new_data)\u001b[39m.\u001b[39m__finalize__(\u001b[39mself\u001b[39m, method\u001b[39m=\u001b[39m\u001b[39m\"\u001b[39m\u001b[39mtake\u001b[39m\u001b[39m\"\u001b[39m)\n",
      "File \u001b[0;32m~/Desktop/TAU/DrugLab/venv/lib/python3.9/site-packages/pandas/core/internals/managers.py:978\u001b[0m, in \u001b[0;36mBaseBlockManager.take\u001b[0;34m(self, indexer, axis, verify, convert_indices)\u001b[0m\n\u001b[1;32m    975\u001b[0m     indexer \u001b[39m=\u001b[39m maybe_convert_indices(indexer, n, verify\u001b[39m=\u001b[39mverify)\n\u001b[1;32m    977\u001b[0m new_labels \u001b[39m=\u001b[39m \u001b[39mself\u001b[39m\u001b[39m.\u001b[39maxes[axis]\u001b[39m.\u001b[39mtake(indexer)\n\u001b[0;32m--> 978\u001b[0m \u001b[39mreturn\u001b[39;00m \u001b[39mself\u001b[39;49m\u001b[39m.\u001b[39;49mreindex_indexer(\n\u001b[1;32m    979\u001b[0m     new_axis\u001b[39m=\u001b[39;49mnew_labels,\n\u001b[1;32m    980\u001b[0m     indexer\u001b[39m=\u001b[39;49mindexer,\n\u001b[1;32m    981\u001b[0m     axis\u001b[39m=\u001b[39;49maxis,\n\u001b[1;32m    982\u001b[0m     allow_dups\u001b[39m=\u001b[39;49m\u001b[39mTrue\u001b[39;49;00m,\n\u001b[1;32m    983\u001b[0m     copy\u001b[39m=\u001b[39;49m\u001b[39mNone\u001b[39;49;00m,\n\u001b[1;32m    984\u001b[0m )\n",
      "File \u001b[0;32m~/Desktop/TAU/DrugLab/venv/lib/python3.9/site-packages/pandas/core/internals/managers.py:751\u001b[0m, in \u001b[0;36mBaseBlockManager.reindex_indexer\u001b[0;34m(self, new_axis, indexer, axis, fill_value, allow_dups, copy, only_slice, use_na_proxy)\u001b[0m\n\u001b[1;32m    749\u001b[0m     parent \u001b[39m=\u001b[39m \u001b[39mNone\u001b[39;00m \u001b[39mif\u001b[39;00m com\u001b[39m.\u001b[39mall_none(\u001b[39m*\u001b[39mnew_refs) \u001b[39melse\u001b[39;00m \u001b[39mself\u001b[39m\n\u001b[1;32m    750\u001b[0m \u001b[39melse\u001b[39;00m:\n\u001b[0;32m--> 751\u001b[0m     new_blocks \u001b[39m=\u001b[39m [\n\u001b[1;32m    752\u001b[0m         blk\u001b[39m.\u001b[39mtake_nd(\n\u001b[1;32m    753\u001b[0m             indexer,\n\u001b[1;32m    754\u001b[0m             axis\u001b[39m=\u001b[39m\u001b[39m1\u001b[39m,\n\u001b[1;32m    755\u001b[0m             fill_value\u001b[39m=\u001b[39m(\n\u001b[1;32m    756\u001b[0m                 fill_value \u001b[39mif\u001b[39;00m fill_value \u001b[39mis\u001b[39;00m \u001b[39mnot\u001b[39;00m \u001b[39mNone\u001b[39;00m \u001b[39melse\u001b[39;00m blk\u001b[39m.\u001b[39mfill_value\n\u001b[1;32m    757\u001b[0m             ),\n\u001b[1;32m    758\u001b[0m         )\n\u001b[1;32m    759\u001b[0m         \u001b[39mfor\u001b[39;00m blk \u001b[39min\u001b[39;00m \u001b[39mself\u001b[39m\u001b[39m.\u001b[39mblocks\n\u001b[1;32m    760\u001b[0m     ]\n\u001b[1;32m    761\u001b[0m     new_refs \u001b[39m=\u001b[39m \u001b[39mNone\u001b[39;00m\n\u001b[1;32m    762\u001b[0m     parent \u001b[39m=\u001b[39m \u001b[39mNone\u001b[39;00m\n",
      "File \u001b[0;32m~/Desktop/TAU/DrugLab/venv/lib/python3.9/site-packages/pandas/core/internals/managers.py:752\u001b[0m, in \u001b[0;36m<listcomp>\u001b[0;34m(.0)\u001b[0m\n\u001b[1;32m    749\u001b[0m     parent \u001b[39m=\u001b[39m \u001b[39mNone\u001b[39;00m \u001b[39mif\u001b[39;00m com\u001b[39m.\u001b[39mall_none(\u001b[39m*\u001b[39mnew_refs) \u001b[39melse\u001b[39;00m \u001b[39mself\u001b[39m\n\u001b[1;32m    750\u001b[0m \u001b[39melse\u001b[39;00m:\n\u001b[1;32m    751\u001b[0m     new_blocks \u001b[39m=\u001b[39m [\n\u001b[0;32m--> 752\u001b[0m         blk\u001b[39m.\u001b[39;49mtake_nd(\n\u001b[1;32m    753\u001b[0m             indexer,\n\u001b[1;32m    754\u001b[0m             axis\u001b[39m=\u001b[39;49m\u001b[39m1\u001b[39;49m,\n\u001b[1;32m    755\u001b[0m             fill_value\u001b[39m=\u001b[39;49m(\n\u001b[1;32m    756\u001b[0m                 fill_value \u001b[39mif\u001b[39;49;00m fill_value \u001b[39mis\u001b[39;49;00m \u001b[39mnot\u001b[39;49;00m \u001b[39mNone\u001b[39;49;00m \u001b[39melse\u001b[39;49;00m blk\u001b[39m.\u001b[39;49mfill_value\n\u001b[1;32m    757\u001b[0m             ),\n\u001b[1;32m    758\u001b[0m         )\n\u001b[1;32m    759\u001b[0m         \u001b[39mfor\u001b[39;00m blk \u001b[39min\u001b[39;00m \u001b[39mself\u001b[39m\u001b[39m.\u001b[39mblocks\n\u001b[1;32m    760\u001b[0m     ]\n\u001b[1;32m    761\u001b[0m     new_refs \u001b[39m=\u001b[39m \u001b[39mNone\u001b[39;00m\n\u001b[1;32m    762\u001b[0m     parent \u001b[39m=\u001b[39m \u001b[39mNone\u001b[39;00m\n",
      "File \u001b[0;32m~/Desktop/TAU/DrugLab/venv/lib/python3.9/site-packages/pandas/core/internals/blocks.py:880\u001b[0m, in \u001b[0;36mBlock.take_nd\u001b[0;34m(self, indexer, axis, new_mgr_locs, fill_value)\u001b[0m\n\u001b[1;32m    877\u001b[0m     allow_fill \u001b[39m=\u001b[39m \u001b[39mTrue\u001b[39;00m\n\u001b[1;32m    879\u001b[0m \u001b[39m# Note: algos.take_nd has upcast logic similar to coerce_to_target_dtype\u001b[39;00m\n\u001b[0;32m--> 880\u001b[0m new_values \u001b[39m=\u001b[39m algos\u001b[39m.\u001b[39;49mtake_nd(\n\u001b[1;32m    881\u001b[0m     values, indexer, axis\u001b[39m=\u001b[39;49maxis, allow_fill\u001b[39m=\u001b[39;49mallow_fill, fill_value\u001b[39m=\u001b[39;49mfill_value\n\u001b[1;32m    882\u001b[0m )\n\u001b[1;32m    884\u001b[0m \u001b[39m# Called from three places in managers, all of which satisfy\u001b[39;00m\n\u001b[1;32m    885\u001b[0m \u001b[39m#  this assertion\u001b[39;00m\n\u001b[1;32m    886\u001b[0m \u001b[39massert\u001b[39;00m \u001b[39mnot\u001b[39;00m (axis \u001b[39m==\u001b[39m \u001b[39m0\u001b[39m \u001b[39mand\u001b[39;00m new_mgr_locs \u001b[39mis\u001b[39;00m \u001b[39mNone\u001b[39;00m)\n",
      "File \u001b[0;32m~/Desktop/TAU/DrugLab/venv/lib/python3.9/site-packages/pandas/core/array_algos/take.py:110\u001b[0m, in \u001b[0;36mtake_nd\u001b[0;34m(arr, indexer, axis, fill_value, allow_fill)\u001b[0m\n\u001b[1;32m    107\u001b[0m     \u001b[39mif\u001b[39;00m \u001b[39mnot\u001b[39;00m is_1d_only_ea_obj(arr):\n\u001b[1;32m    108\u001b[0m         \u001b[39m# i.e. DatetimeArray, TimedeltaArray\u001b[39;00m\n\u001b[1;32m    109\u001b[0m         arr \u001b[39m=\u001b[39m cast(\u001b[39m\"\u001b[39m\u001b[39mNDArrayBackedExtensionArray\u001b[39m\u001b[39m\"\u001b[39m, arr)\n\u001b[0;32m--> 110\u001b[0m         \u001b[39mreturn\u001b[39;00m arr\u001b[39m.\u001b[39;49mtake(\n\u001b[1;32m    111\u001b[0m             indexer, fill_value\u001b[39m=\u001b[39;49mfill_value, allow_fill\u001b[39m=\u001b[39;49mallow_fill, axis\u001b[39m=\u001b[39;49maxis\n\u001b[1;32m    112\u001b[0m         )\n\u001b[1;32m    114\u001b[0m     \u001b[39mreturn\u001b[39;00m arr\u001b[39m.\u001b[39mtake(indexer, fill_value\u001b[39m=\u001b[39mfill_value, allow_fill\u001b[39m=\u001b[39mallow_fill)\n\u001b[1;32m    116\u001b[0m arr \u001b[39m=\u001b[39m np\u001b[39m.\u001b[39masarray(arr)\n",
      "File \u001b[0;32m~/Desktop/TAU/DrugLab/venv/lib/python3.9/site-packages/pandas/core/arrays/_mixins.py:165\u001b[0m, in \u001b[0;36mNDArrayBackedExtensionArray.take\u001b[0;34m(self, indices, allow_fill, fill_value, axis)\u001b[0m\n\u001b[1;32m    162\u001b[0m \u001b[39mif\u001b[39;00m allow_fill:\n\u001b[1;32m    163\u001b[0m     fill_value \u001b[39m=\u001b[39m \u001b[39mself\u001b[39m\u001b[39m.\u001b[39m_validate_scalar(fill_value)\n\u001b[0;32m--> 165\u001b[0m new_data \u001b[39m=\u001b[39m take(\n\u001b[1;32m    166\u001b[0m     \u001b[39mself\u001b[39;49m\u001b[39m.\u001b[39;49m_ndarray,\n\u001b[1;32m    167\u001b[0m     indices,\n\u001b[1;32m    168\u001b[0m     allow_fill\u001b[39m=\u001b[39;49mallow_fill,\n\u001b[1;32m    169\u001b[0m     fill_value\u001b[39m=\u001b[39;49mfill_value,\n\u001b[1;32m    170\u001b[0m     axis\u001b[39m=\u001b[39;49maxis,\n\u001b[1;32m    171\u001b[0m )\n\u001b[1;32m    172\u001b[0m \u001b[39mreturn\u001b[39;00m \u001b[39mself\u001b[39m\u001b[39m.\u001b[39m_from_backing_data(new_data)\n",
      "File \u001b[0;32m~/Desktop/TAU/DrugLab/venv/lib/python3.9/site-packages/pandas/core/algorithms.py:1572\u001b[0m, in \u001b[0;36mtake\u001b[0;34m(arr, indices, axis, allow_fill, fill_value)\u001b[0m\n\u001b[1;32m   1569\u001b[0m \u001b[39mif\u001b[39;00m allow_fill:\n\u001b[1;32m   1570\u001b[0m     \u001b[39m# Pandas style, -1 means NA\u001b[39;00m\n\u001b[1;32m   1571\u001b[0m     validate_indices(indices, arr\u001b[39m.\u001b[39mshape[axis])\n\u001b[0;32m-> 1572\u001b[0m     result \u001b[39m=\u001b[39m take_nd(\n\u001b[1;32m   1573\u001b[0m         arr, indices, axis\u001b[39m=\u001b[39;49maxis, allow_fill\u001b[39m=\u001b[39;49m\u001b[39mTrue\u001b[39;49;00m, fill_value\u001b[39m=\u001b[39;49mfill_value\n\u001b[1;32m   1574\u001b[0m     )\n\u001b[1;32m   1575\u001b[0m \u001b[39melse\u001b[39;00m:\n\u001b[1;32m   1576\u001b[0m     \u001b[39m# NumPy style\u001b[39;00m\n\u001b[1;32m   1577\u001b[0m     result \u001b[39m=\u001b[39m arr\u001b[39m.\u001b[39mtake(indices, axis\u001b[39m=\u001b[39maxis)\n",
      "File \u001b[0;32m~/Desktop/TAU/DrugLab/venv/lib/python3.9/site-packages/pandas/core/array_algos/take.py:117\u001b[0m, in \u001b[0;36mtake_nd\u001b[0;34m(arr, indexer, axis, fill_value, allow_fill)\u001b[0m\n\u001b[1;32m    114\u001b[0m     \u001b[39mreturn\u001b[39;00m arr\u001b[39m.\u001b[39mtake(indexer, fill_value\u001b[39m=\u001b[39mfill_value, allow_fill\u001b[39m=\u001b[39mallow_fill)\n\u001b[1;32m    116\u001b[0m arr \u001b[39m=\u001b[39m np\u001b[39m.\u001b[39masarray(arr)\n\u001b[0;32m--> 117\u001b[0m \u001b[39mreturn\u001b[39;00m _take_nd_ndarray(arr, indexer, axis, fill_value, allow_fill)\n",
      "File \u001b[0;32m~/Desktop/TAU/DrugLab/venv/lib/python3.9/site-packages/pandas/core/array_algos/take.py:134\u001b[0m, in \u001b[0;36m_take_nd_ndarray\u001b[0;34m(arr, indexer, axis, fill_value, allow_fill)\u001b[0m\n\u001b[1;32m    131\u001b[0m \u001b[39melse\u001b[39;00m:\n\u001b[1;32m    132\u001b[0m     indexer \u001b[39m=\u001b[39m ensure_platform_int(indexer)\n\u001b[0;32m--> 134\u001b[0m dtype, fill_value, mask_info \u001b[39m=\u001b[39m _take_preprocess_indexer_and_fill_value(\n\u001b[1;32m    135\u001b[0m     arr, indexer, fill_value, allow_fill\n\u001b[1;32m    136\u001b[0m )\n\u001b[1;32m    138\u001b[0m flip_order \u001b[39m=\u001b[39m \u001b[39mFalse\u001b[39;00m\n\u001b[1;32m    139\u001b[0m \u001b[39mif\u001b[39;00m arr\u001b[39m.\u001b[39mndim \u001b[39m==\u001b[39m \u001b[39m2\u001b[39m \u001b[39mand\u001b[39;00m arr\u001b[39m.\u001b[39mflags\u001b[39m.\u001b[39mf_contiguous:\n",
      "File \u001b[0;32m~/Desktop/TAU/DrugLab/venv/lib/python3.9/site-packages/pandas/core/array_algos/take.py:569\u001b[0m, in \u001b[0;36m_take_preprocess_indexer_and_fill_value\u001b[0;34m(arr, indexer, fill_value, allow_fill, mask)\u001b[0m\n\u001b[1;32m    565\u001b[0m     mask_info \u001b[39m=\u001b[39m \u001b[39mNone\u001b[39;00m, \u001b[39mFalse\u001b[39;00m\n\u001b[1;32m    566\u001b[0m \u001b[39melse\u001b[39;00m:\n\u001b[1;32m    567\u001b[0m     \u001b[39m# check for promotion based on types only (do this first because\u001b[39;00m\n\u001b[1;32m    568\u001b[0m     \u001b[39m# it's faster than computing a mask)\u001b[39;00m\n\u001b[0;32m--> 569\u001b[0m     dtype, fill_value \u001b[39m=\u001b[39m maybe_promote(arr\u001b[39m.\u001b[39;49mdtype, fill_value)\n\u001b[1;32m    570\u001b[0m     \u001b[39mif\u001b[39;00m dtype \u001b[39m!=\u001b[39m arr\u001b[39m.\u001b[39mdtype:\n\u001b[1;32m    571\u001b[0m         \u001b[39m# check if promotion is actually required based on indexer\u001b[39;00m\n\u001b[1;32m    572\u001b[0m         \u001b[39mif\u001b[39;00m mask \u001b[39mis\u001b[39;00m \u001b[39mnot\u001b[39;00m \u001b[39mNone\u001b[39;00m:\n",
      "File \u001b[0;32m~/Desktop/TAU/DrugLab/venv/lib/python3.9/site-packages/pandas/core/dtypes/cast.py:558\u001b[0m, in \u001b[0;36mmaybe_promote\u001b[0;34m(dtype, fill_value)\u001b[0m\n\u001b[1;32m    552\u001b[0m \u001b[39m# for performance, we are using a cached version of the actual implementation\u001b[39;00m\n\u001b[1;32m    553\u001b[0m \u001b[39m# of the function in _maybe_promote. However, this doesn't always work (in case\u001b[39;00m\n\u001b[1;32m    554\u001b[0m \u001b[39m# of non-hashable arguments), so we fallback to the actual implementation if needed\u001b[39;00m\n\u001b[1;32m    555\u001b[0m \u001b[39mtry\u001b[39;00m:\n\u001b[1;32m    556\u001b[0m     \u001b[39m# error: Argument 3 to \"__call__\" of \"_lru_cache_wrapper\" has incompatible type\u001b[39;00m\n\u001b[1;32m    557\u001b[0m     \u001b[39m# \"Type[Any]\"; expected \"Hashable\"  [arg-type]\u001b[39;00m\n\u001b[0;32m--> 558\u001b[0m     \u001b[39mreturn\u001b[39;00m _maybe_promote_cached(\n\u001b[1;32m    559\u001b[0m         dtype, fill_value, \u001b[39mtype\u001b[39;49m(fill_value)  \u001b[39m# type: ignore[arg-type]\u001b[39;49;00m\n\u001b[1;32m    560\u001b[0m     )\n\u001b[1;32m    561\u001b[0m \u001b[39mexcept\u001b[39;00m \u001b[39mTypeError\u001b[39;00m:\n\u001b[1;32m    562\u001b[0m     \u001b[39m# if fill_value is not hashable (required for caching)\u001b[39;00m\n\u001b[1;32m    563\u001b[0m     \u001b[39mreturn\u001b[39;00m _maybe_promote(dtype, fill_value)\n",
      "\u001b[0;31mKeyboardInterrupt\u001b[0m: "
     ]
    }
   ],
   "source": [
    "## Querier\n",
    "mimic_data_querier = querier.DatasetQuerier(\n",
    "    data = data,\n",
    "    res = res,\n",
    "    t_labs=m_labs, \n",
    "    t_med1=m_med1, \n",
    "    t_med2=m_med2,\n",
    "    gender=gender, \n",
    "    age_b=age_b, \n",
    "    age_a=age_a, \n",
    "    ethnicity=ethnicity, \n",
    "    lab_mapping=lab_mapping\n",
    ")\n",
    "# query pairs for all medication and lab tests\n",
    "m_final_lab_med_data = mimic_data_querier.generate_med_lab_data(before_windows, after_windows, lab_parts=(0,15))"
   ]
  },
  {
   "cell_type": "code",
   "execution_count": null,
   "metadata": {},
   "outputs": [],
   "source": [
    "m_final_lab_med_data"
   ]
  },
  {
   "cell_type": "code",
   "execution_count": null,
   "metadata": {},
   "outputs": [],
   "source": []
  },
  {
   "cell_type": "code",
   "execution_count": 10,
   "metadata": {},
   "outputs": [],
   "source": [
    "m_labs.to_csv(\"temp_mimic_{lab_parts}_labs.csv\")\n",
    "m_med1.to_csv(\"temp_mimic_{lab_parts}_med1.csv\")\n",
    "m_med2.to_csv(\"temp_mimic_{lab_parts}_med2.csv\")"
   ]
  },
  {
   "cell_type": "code",
   "execution_count": 11,
   "metadata": {},
   "outputs": [
    {
     "name": "stdout",
     "output_type": "stream",
     "text": [
      "Loading med data...\n",
      "Generate med data....\n"
     ]
    },
    {
     "name": "stderr",
     "output_type": "stream",
     "text": [
      "/Users/pavan/Desktop/TAU/DrugLab/src/parsers/mimic.py:51: FutureWarning: Passing 'suffixes' which cause duplicate columns {'ROW_ID_x'} in the result is deprecated and will raise a MergeError in a future version.\n",
      "  m_p_df = pd.merge(inputevents_mv, med_data, how=\"inner\", on=\"ITEMID\")\n"
     ]
    },
    {
     "name": "stdout",
     "output_type": "stream",
     "text": [
      "Generated med data.\n",
      "Loaded med data.\n",
      "Load 1st and 2nd medication data...\n",
      "Loaded 1st and 2nd medication data.\n",
      "Load Lab data...\n",
      "Generate lab data from labevents...\n"
     ]
    },
    {
     "name": "stderr",
     "output_type": "stream",
     "text": [
      "/Users/pavan/Desktop/TAU/DrugLab/src/parsers/mimic.py:138: DtypeWarning: Columns (29) have mixed types. Specify dtype option on import or set low_memory=False.\n",
      "  labevents = pd.read_csv(os.path.join(self.data, constants.MIMIC_III_PREPROCESSED_PATH, constants.MIMIC_III_LABEVENT_PREPROCESSED))\n"
     ]
    },
    {
     "name": "stdout",
     "output_type": "stream",
     "text": [
      "Generated lab data from labevents.\n",
      "Generate lab data from chartevents...\n"
     ]
    },
    {
     "name": "stderr",
     "output_type": "stream",
     "text": [
      "/Users/pavan/Desktop/TAU/DrugLab/src/parsers/mimic.py:184: DtypeWarning: Columns (9) have mixed types. Specify dtype option on import or set low_memory=False.\n",
      "  chartevents = pd.concat([pd.read_csv(path) for path in res_paths], ignore_index=True) ## concatenation of output from each chunk\n",
      "/Users/pavan/Desktop/TAU/DrugLab/src/parsers/mimic.py:184: DtypeWarning: Columns (9) have mixed types. Specify dtype option on import or set low_memory=False.\n",
      "  chartevents = pd.concat([pd.read_csv(path) for path in res_paths], ignore_index=True) ## concatenation of output from each chunk\n",
      "/Users/pavan/Desktop/TAU/DrugLab/src/parsers/mimic.py:184: DtypeWarning: Columns (9) have mixed types. Specify dtype option on import or set low_memory=False.\n",
      "  chartevents = pd.concat([pd.read_csv(path) for path in res_paths], ignore_index=True) ## concatenation of output from each chunk\n",
      "/Users/pavan/Desktop/TAU/DrugLab/src/parsers/mimic.py:184: DtypeWarning: Columns (9) have mixed types. Specify dtype option on import or set low_memory=False.\n",
      "  chartevents = pd.concat([pd.read_csv(path) for path in res_paths], ignore_index=True) ## concatenation of output from each chunk\n",
      "/Users/pavan/Desktop/TAU/DrugLab/src/parsers/mimic.py:184: DtypeWarning: Columns (9) have mixed types. Specify dtype option on import or set low_memory=False.\n",
      "  chartevents = pd.concat([pd.read_csv(path) for path in res_paths], ignore_index=True) ## concatenation of output from each chunk\n",
      "/Users/pavan/Desktop/TAU/DrugLab/src/parsers/mimic.py:184: DtypeWarning: Columns (9) have mixed types. Specify dtype option on import or set low_memory=False.\n",
      "  chartevents = pd.concat([pd.read_csv(path) for path in res_paths], ignore_index=True) ## concatenation of output from each chunk\n",
      "/Users/pavan/Desktop/TAU/DrugLab/src/parsers/mimic.py:184: DtypeWarning: Columns (9) have mixed types. Specify dtype option on import or set low_memory=False.\n",
      "  chartevents = pd.concat([pd.read_csv(path) for path in res_paths], ignore_index=True) ## concatenation of output from each chunk\n",
      "/Users/pavan/Desktop/TAU/DrugLab/src/parsers/mimic.py:184: DtypeWarning: Columns (9) have mixed types. Specify dtype option on import or set low_memory=False.\n",
      "  chartevents = pd.concat([pd.read_csv(path) for path in res_paths], ignore_index=True) ## concatenation of output from each chunk\n",
      "/Users/pavan/Desktop/TAU/DrugLab/src/parsers/mimic.py:184: DtypeWarning: Columns (9) have mixed types. Specify dtype option on import or set low_memory=False.\n",
      "  chartevents = pd.concat([pd.read_csv(path) for path in res_paths], ignore_index=True) ## concatenation of output from each chunk\n",
      "/Users/pavan/Desktop/TAU/DrugLab/src/parsers/mimic.py:184: DtypeWarning: Columns (9) have mixed types. Specify dtype option on import or set low_memory=False.\n",
      "  chartevents = pd.concat([pd.read_csv(path) for path in res_paths], ignore_index=True) ## concatenation of output from each chunk\n",
      "/Users/pavan/Desktop/TAU/DrugLab/src/parsers/mimic.py:184: DtypeWarning: Columns (9) have mixed types. Specify dtype option on import or set low_memory=False.\n",
      "  chartevents = pd.concat([pd.read_csv(path) for path in res_paths], ignore_index=True) ## concatenation of output from each chunk\n"
     ]
    },
    {
     "name": "stdout",
     "output_type": "stream",
     "text": [
      "Generated lab data from chartevents.\n"
     ]
    },
    {
     "name": "stderr",
     "output_type": "stream",
     "text": [
      "/Users/pavan/Desktop/TAU/DrugLab/src/parsers/mimic.py:213: FutureWarning: Inferring datetime64[ns] from data containing strings is deprecated and will be removed in a future version. To retain the old behavior explicitly pass Series(data, dtype=datetime64[ns])\n",
      "  merged_chart_lab_events = merged_chart_lab_events.groupby([\"HADM_ID\", \"ADMITTIME\", \"CHARTTIME\", \"VALUENUM\", \"MIMICExtractName\"]).nth(0).reset_index()\n"
     ]
    },
    {
     "name": "stdout",
     "output_type": "stream",
     "text": [
      "Loaded Lab data.\n"
     ]
    }
   ],
   "source": [
    "# MIMIC\n",
    "mimic_parser = mimic.MIMICParser(data=data, res=res, gender=gender, age_b=age_b, age_a=age_a, ethnicity=ethnicity, load=\"AUTOMATIC_MAPPING_MIMIC\")\n",
    "m_med1, m_med2, m_labs = mimic_parser.parse(use_pairs=False, load_from_raw=True, load_raw_chartevents=False, lab_parts=(15,30))"
   ]
  },
  {
   "cell_type": "code",
   "execution_count": 12,
   "metadata": {},
   "outputs": [
    {
     "name": "stderr",
     "output_type": "stream",
     "text": [
      "/Users/pavan/Desktop/TAU/DrugLab/src/modeling/querier.py:119: FutureWarning: reindexing with a non-unique Index is deprecated and will raise in a future version.\n",
      "  temp = temp.apply(lambda r : self.get_vals(r, t_labs, t_med1, t_med2, before_windows, after_windows), axis=1)\n"
     ]
    },
    {
     "ename": "ValueError",
     "evalue": "cannot reindex on an axis with duplicate labels",
     "output_type": "error",
     "traceback": [
      "\u001b[0;31m---------------------------------------------------------------------------\u001b[0m",
      "\u001b[0;31mValueError\u001b[0m                                Traceback (most recent call last)",
      "Cell \u001b[0;32mIn[12], line 15\u001b[0m\n\u001b[1;32m      2\u001b[0m mimic_data_querier \u001b[39m=\u001b[39m querier\u001b[39m.\u001b[39mDatasetQuerier(\n\u001b[1;32m      3\u001b[0m     data \u001b[39m=\u001b[39m data,\n\u001b[1;32m      4\u001b[0m     res \u001b[39m=\u001b[39m res,\n\u001b[0;32m   (...)\u001b[0m\n\u001b[1;32m     12\u001b[0m     lab_mapping\u001b[39m=\u001b[39mlab_mapping\n\u001b[1;32m     13\u001b[0m )\n\u001b[1;32m     14\u001b[0m \u001b[39m# query pairs for all medication and lab tests\u001b[39;00m\n\u001b[0;32m---> 15\u001b[0m m_final_lab_med_data \u001b[39m=\u001b[39m mimic_data_querier\u001b[39m.\u001b[39;49mgenerate_med_lab_data(before_windows, after_windows, lab_parts\u001b[39m=\u001b[39;49m(\u001b[39m15\u001b[39;49m,\u001b[39m30\u001b[39;49m))\n",
      "File \u001b[0;32m~/Desktop/TAU/DrugLab/src/modeling/querier.py:119\u001b[0m, in \u001b[0;36mDatasetQuerier.generate_med_lab_data\u001b[0;34m(self, before_windows, after_windows, lab_parts)\u001b[0m\n\u001b[1;32m    116\u001b[0m cols\u001b[39m.\u001b[39mextend(cols_a)\n\u001b[1;32m    117\u001b[0m temp \u001b[39m=\u001b[39m t_med1\u001b[39m.\u001b[39mcopy()\n\u001b[0;32m--> 119\u001b[0m temp \u001b[39m=\u001b[39m temp\u001b[39m.\u001b[39;49mapply(\u001b[39mlambda\u001b[39;49;00m r : \u001b[39mself\u001b[39;49m\u001b[39m.\u001b[39;49mget_vals(r, t_labs, t_med1, t_med2, before_windows, after_windows), axis\u001b[39m=\u001b[39;49m\u001b[39m1\u001b[39;49m)\n\u001b[1;32m    120\u001b[0m \u001b[39mself\u001b[39m\u001b[39m.\u001b[39mtemp \u001b[39m=\u001b[39m temp\n\u001b[1;32m    121\u001b[0m temp\u001b[39m.\u001b[39mto_csv(os\u001b[39m.\u001b[39mpath\u001b[39m.\u001b[39mjoin(\u001b[39mself\u001b[39m\u001b[39m.\u001b[39mres, \u001b[39mf\u001b[39m\u001b[39m\"\u001b[39m\u001b[39mbefore_after_windows_main_med_lab_first_val_\u001b[39m\u001b[39m{\u001b[39;00m\u001b[39mself\u001b[39m\u001b[39m.\u001b[39mstratify_prefix\u001b[39m}\u001b[39;00m\u001b[39m_doc_eval_new_win_\u001b[39m\u001b[39m{\u001b[39;00mlab_parts\u001b[39m}\u001b[39;00m\u001b[39m.csv\u001b[39m\u001b[39m\"\u001b[39m))\n",
      "File \u001b[0;32m~/Desktop/TAU/DrugLab/venv/lib/python3.9/site-packages/pandas/core/frame.py:9568\u001b[0m, in \u001b[0;36mDataFrame.apply\u001b[0;34m(self, func, axis, raw, result_type, args, **kwargs)\u001b[0m\n\u001b[1;32m   9557\u001b[0m \u001b[39mfrom\u001b[39;00m \u001b[39mpandas\u001b[39;00m\u001b[39m.\u001b[39;00m\u001b[39mcore\u001b[39;00m\u001b[39m.\u001b[39;00m\u001b[39mapply\u001b[39;00m \u001b[39mimport\u001b[39;00m frame_apply\n\u001b[1;32m   9559\u001b[0m op \u001b[39m=\u001b[39m frame_apply(\n\u001b[1;32m   9560\u001b[0m     \u001b[39mself\u001b[39m,\n\u001b[1;32m   9561\u001b[0m     func\u001b[39m=\u001b[39mfunc,\n\u001b[0;32m   (...)\u001b[0m\n\u001b[1;32m   9566\u001b[0m     kwargs\u001b[39m=\u001b[39mkwargs,\n\u001b[1;32m   9567\u001b[0m )\n\u001b[0;32m-> 9568\u001b[0m \u001b[39mreturn\u001b[39;00m op\u001b[39m.\u001b[39;49mapply()\u001b[39m.\u001b[39m__finalize__(\u001b[39mself\u001b[39m, method\u001b[39m=\u001b[39m\u001b[39m\"\u001b[39m\u001b[39mapply\u001b[39m\u001b[39m\"\u001b[39m)\n",
      "File \u001b[0;32m~/Desktop/TAU/DrugLab/venv/lib/python3.9/site-packages/pandas/core/apply.py:764\u001b[0m, in \u001b[0;36mFrameApply.apply\u001b[0;34m(self)\u001b[0m\n\u001b[1;32m    761\u001b[0m \u001b[39melif\u001b[39;00m \u001b[39mself\u001b[39m\u001b[39m.\u001b[39mraw:\n\u001b[1;32m    762\u001b[0m     \u001b[39mreturn\u001b[39;00m \u001b[39mself\u001b[39m\u001b[39m.\u001b[39mapply_raw()\n\u001b[0;32m--> 764\u001b[0m \u001b[39mreturn\u001b[39;00m \u001b[39mself\u001b[39;49m\u001b[39m.\u001b[39;49mapply_standard()\n",
      "File \u001b[0;32m~/Desktop/TAU/DrugLab/venv/lib/python3.9/site-packages/pandas/core/apply.py:894\u001b[0m, in \u001b[0;36mFrameApply.apply_standard\u001b[0;34m(self)\u001b[0m\n\u001b[1;32m    891\u001b[0m results, res_index \u001b[39m=\u001b[39m \u001b[39mself\u001b[39m\u001b[39m.\u001b[39mapply_series_generator()\n\u001b[1;32m    893\u001b[0m \u001b[39m# wrap results\u001b[39;00m\n\u001b[0;32m--> 894\u001b[0m \u001b[39mreturn\u001b[39;00m \u001b[39mself\u001b[39;49m\u001b[39m.\u001b[39;49mwrap_results(results, res_index)\n",
      "File \u001b[0;32m~/Desktop/TAU/DrugLab/venv/lib/python3.9/site-packages/pandas/core/apply.py:920\u001b[0m, in \u001b[0;36mFrameApply.wrap_results\u001b[0;34m(self, results, res_index)\u001b[0m\n\u001b[1;32m    918\u001b[0m \u001b[39m# see if we can infer the results\u001b[39;00m\n\u001b[1;32m    919\u001b[0m \u001b[39mif\u001b[39;00m \u001b[39mlen\u001b[39m(results) \u001b[39m>\u001b[39m \u001b[39m0\u001b[39m \u001b[39mand\u001b[39;00m \u001b[39m0\u001b[39m \u001b[39min\u001b[39;00m results \u001b[39mand\u001b[39;00m is_sequence(results[\u001b[39m0\u001b[39m]):\n\u001b[0;32m--> 920\u001b[0m     \u001b[39mreturn\u001b[39;00m \u001b[39mself\u001b[39;49m\u001b[39m.\u001b[39;49mwrap_results_for_axis(results, res_index)\n\u001b[1;32m    922\u001b[0m \u001b[39m# dict of scalars\u001b[39;00m\n\u001b[1;32m    923\u001b[0m \n\u001b[1;32m    924\u001b[0m \u001b[39m# the default dtype of an empty Series will be `object`, but this\u001b[39;00m\n\u001b[1;32m    925\u001b[0m \u001b[39m# code can be hit by df.mean() where the result should have dtype\u001b[39;00m\n\u001b[1;32m    926\u001b[0m \u001b[39m# float64 even if it's an empty Series.\u001b[39;00m\n\u001b[1;32m    927\u001b[0m constructor_sliced \u001b[39m=\u001b[39m \u001b[39mself\u001b[39m\u001b[39m.\u001b[39mobj\u001b[39m.\u001b[39m_constructor_sliced\n",
      "File \u001b[0;32m~/Desktop/TAU/DrugLab/venv/lib/python3.9/site-packages/pandas/core/apply.py:1067\u001b[0m, in \u001b[0;36mFrameColumnApply.wrap_results_for_axis\u001b[0;34m(self, results, res_index)\u001b[0m\n\u001b[1;32m   1063\u001b[0m     result\u001b[39m.\u001b[39mindex \u001b[39m=\u001b[39m res_index\n\u001b[1;32m   1065\u001b[0m \u001b[39m# we may want to infer results\u001b[39;00m\n\u001b[1;32m   1066\u001b[0m \u001b[39melse\u001b[39;00m:\n\u001b[0;32m-> 1067\u001b[0m     result \u001b[39m=\u001b[39m \u001b[39mself\u001b[39;49m\u001b[39m.\u001b[39;49minfer_to_same_shape(results, res_index)\n\u001b[1;32m   1069\u001b[0m \u001b[39mreturn\u001b[39;00m result\n",
      "File \u001b[0;32m~/Desktop/TAU/DrugLab/venv/lib/python3.9/site-packages/pandas/core/apply.py:1073\u001b[0m, in \u001b[0;36mFrameColumnApply.infer_to_same_shape\u001b[0;34m(self, results, res_index)\u001b[0m\n\u001b[1;32m   1071\u001b[0m \u001b[39mdef\u001b[39;00m \u001b[39minfer_to_same_shape\u001b[39m(\u001b[39mself\u001b[39m, results: ResType, res_index: Index) \u001b[39m-\u001b[39m\u001b[39m>\u001b[39m DataFrame:\n\u001b[1;32m   1072\u001b[0m \u001b[39m    \u001b[39m\u001b[39m\"\"\"infer the results to the same shape as the input object\"\"\"\u001b[39;00m\n\u001b[0;32m-> 1073\u001b[0m     result \u001b[39m=\u001b[39m \u001b[39mself\u001b[39;49m\u001b[39m.\u001b[39;49mobj\u001b[39m.\u001b[39;49m_constructor(data\u001b[39m=\u001b[39;49mresults)\n\u001b[1;32m   1074\u001b[0m     result \u001b[39m=\u001b[39m result\u001b[39m.\u001b[39mT\n\u001b[1;32m   1076\u001b[0m     \u001b[39m# set the index\u001b[39;00m\n",
      "File \u001b[0;32m~/Desktop/TAU/DrugLab/venv/lib/python3.9/site-packages/pandas/core/frame.py:664\u001b[0m, in \u001b[0;36mDataFrame.__init__\u001b[0;34m(self, data, index, columns, dtype, copy)\u001b[0m\n\u001b[1;32m    658\u001b[0m     mgr \u001b[39m=\u001b[39m \u001b[39mself\u001b[39m\u001b[39m.\u001b[39m_init_mgr(\n\u001b[1;32m    659\u001b[0m         data, axes\u001b[39m=\u001b[39m{\u001b[39m\"\u001b[39m\u001b[39mindex\u001b[39m\u001b[39m\"\u001b[39m: index, \u001b[39m\"\u001b[39m\u001b[39mcolumns\u001b[39m\u001b[39m\"\u001b[39m: columns}, dtype\u001b[39m=\u001b[39mdtype, copy\u001b[39m=\u001b[39mcopy\n\u001b[1;32m    660\u001b[0m     )\n\u001b[1;32m    662\u001b[0m \u001b[39melif\u001b[39;00m \u001b[39misinstance\u001b[39m(data, \u001b[39mdict\u001b[39m):\n\u001b[1;32m    663\u001b[0m     \u001b[39m# GH#38939 de facto copy defaults to False only in non-dict cases\u001b[39;00m\n\u001b[0;32m--> 664\u001b[0m     mgr \u001b[39m=\u001b[39m dict_to_mgr(data, index, columns, dtype\u001b[39m=\u001b[39;49mdtype, copy\u001b[39m=\u001b[39;49mcopy, typ\u001b[39m=\u001b[39;49mmanager)\n\u001b[1;32m    665\u001b[0m \u001b[39melif\u001b[39;00m \u001b[39misinstance\u001b[39m(data, ma\u001b[39m.\u001b[39mMaskedArray):\n\u001b[1;32m    666\u001b[0m     \u001b[39mimport\u001b[39;00m \u001b[39mnumpy\u001b[39;00m\u001b[39m.\u001b[39;00m\u001b[39mma\u001b[39;00m\u001b[39m.\u001b[39;00m\u001b[39mmrecords\u001b[39;00m \u001b[39mas\u001b[39;00m \u001b[39mmrecords\u001b[39;00m\n",
      "File \u001b[0;32m~/Desktop/TAU/DrugLab/venv/lib/python3.9/site-packages/pandas/core/internals/construction.py:493\u001b[0m, in \u001b[0;36mdict_to_mgr\u001b[0;34m(data, index, columns, dtype, typ, copy)\u001b[0m\n\u001b[1;32m    489\u001b[0m     \u001b[39melse\u001b[39;00m:\n\u001b[1;32m    490\u001b[0m         \u001b[39m# dtype check to exclude e.g. range objects, scalars\u001b[39;00m\n\u001b[1;32m    491\u001b[0m         arrays \u001b[39m=\u001b[39m [x\u001b[39m.\u001b[39mcopy() \u001b[39mif\u001b[39;00m \u001b[39mhasattr\u001b[39m(x, \u001b[39m\"\u001b[39m\u001b[39mdtype\u001b[39m\u001b[39m\"\u001b[39m) \u001b[39melse\u001b[39;00m x \u001b[39mfor\u001b[39;00m x \u001b[39min\u001b[39;00m arrays]\n\u001b[0;32m--> 493\u001b[0m \u001b[39mreturn\u001b[39;00m arrays_to_mgr(arrays, columns, index, dtype\u001b[39m=\u001b[39;49mdtype, typ\u001b[39m=\u001b[39;49mtyp, consolidate\u001b[39m=\u001b[39;49mcopy)\n",
      "File \u001b[0;32m~/Desktop/TAU/DrugLab/venv/lib/python3.9/site-packages/pandas/core/internals/construction.py:123\u001b[0m, in \u001b[0;36marrays_to_mgr\u001b[0;34m(arrays, columns, index, dtype, verify_integrity, typ, consolidate)\u001b[0m\n\u001b[1;32m    120\u001b[0m         index \u001b[39m=\u001b[39m ensure_index(index)\n\u001b[1;32m    122\u001b[0m     \u001b[39m# don't force copy because getting jammed in an ndarray anyway\u001b[39;00m\n\u001b[0;32m--> 123\u001b[0m     arrays \u001b[39m=\u001b[39m _homogenize(arrays, index, dtype)\n\u001b[1;32m    124\u001b[0m     \u001b[39m# _homogenize ensures\u001b[39;00m\n\u001b[1;32m    125\u001b[0m     \u001b[39m#  - all(len(x) == len(index) for x in arrays)\u001b[39;00m\n\u001b[1;32m    126\u001b[0m     \u001b[39m#  - all(x.ndim == 1 for x in arrays)\u001b[39;00m\n\u001b[0;32m   (...)\u001b[0m\n\u001b[1;32m    129\u001b[0m \n\u001b[1;32m    130\u001b[0m \u001b[39melse\u001b[39;00m:\n\u001b[1;32m    131\u001b[0m     index \u001b[39m=\u001b[39m ensure_index(index)\n",
      "File \u001b[0;32m~/Desktop/TAU/DrugLab/venv/lib/python3.9/site-packages/pandas/core/internals/construction.py:599\u001b[0m, in \u001b[0;36m_homogenize\u001b[0;34m(data, index, dtype)\u001b[0m\n\u001b[1;32m    595\u001b[0m         val \u001b[39m=\u001b[39m val\u001b[39m.\u001b[39mastype(dtype, copy\u001b[39m=\u001b[39m\u001b[39mFalse\u001b[39;00m)\n\u001b[1;32m    596\u001b[0m     \u001b[39mif\u001b[39;00m val\u001b[39m.\u001b[39mindex \u001b[39mis\u001b[39;00m \u001b[39mnot\u001b[39;00m index:\n\u001b[1;32m    597\u001b[0m         \u001b[39m# Forces alignment. No need to copy data since we\u001b[39;00m\n\u001b[1;32m    598\u001b[0m         \u001b[39m# are putting it into an ndarray later\u001b[39;00m\n\u001b[0;32m--> 599\u001b[0m         val \u001b[39m=\u001b[39m val\u001b[39m.\u001b[39;49mreindex(index, copy\u001b[39m=\u001b[39;49m\u001b[39mFalse\u001b[39;49;00m)\n\u001b[1;32m    601\u001b[0m     val \u001b[39m=\u001b[39m val\u001b[39m.\u001b[39m_values\n\u001b[1;32m    602\u001b[0m \u001b[39melse\u001b[39;00m:\n",
      "File \u001b[0;32m~/Desktop/TAU/DrugLab/venv/lib/python3.9/site-packages/pandas/core/series.py:5094\u001b[0m, in \u001b[0;36mSeries.reindex\u001b[0;34m(self, *args, **kwargs)\u001b[0m\n\u001b[1;32m   5090\u001b[0m         \u001b[39mraise\u001b[39;00m \u001b[39mTypeError\u001b[39;00m(\n\u001b[1;32m   5091\u001b[0m             \u001b[39m\"\u001b[39m\u001b[39m'\u001b[39m\u001b[39mindex\u001b[39m\u001b[39m'\u001b[39m\u001b[39m passed as both positional and keyword argument\u001b[39m\u001b[39m\"\u001b[39m\n\u001b[1;32m   5092\u001b[0m         )\n\u001b[1;32m   5093\u001b[0m     kwargs\u001b[39m.\u001b[39mupdate({\u001b[39m\"\u001b[39m\u001b[39mindex\u001b[39m\u001b[39m\"\u001b[39m: index})\n\u001b[0;32m-> 5094\u001b[0m \u001b[39mreturn\u001b[39;00m \u001b[39msuper\u001b[39;49m()\u001b[39m.\u001b[39;49mreindex(\u001b[39m*\u001b[39;49m\u001b[39m*\u001b[39;49mkwargs)\n",
      "File \u001b[0;32m~/Desktop/TAU/DrugLab/venv/lib/python3.9/site-packages/pandas/core/generic.py:5289\u001b[0m, in \u001b[0;36mNDFrame.reindex\u001b[0;34m(self, *args, **kwargs)\u001b[0m\n\u001b[1;32m   5286\u001b[0m     \u001b[39mreturn\u001b[39;00m \u001b[39mself\u001b[39m\u001b[39m.\u001b[39m_reindex_multi(axes, copy, fill_value)\n\u001b[1;32m   5288\u001b[0m \u001b[39m# perform the reindex on the axes\u001b[39;00m\n\u001b[0;32m-> 5289\u001b[0m \u001b[39mreturn\u001b[39;00m \u001b[39mself\u001b[39;49m\u001b[39m.\u001b[39;49m_reindex_axes(\n\u001b[1;32m   5290\u001b[0m     axes, level, limit, tolerance, method, fill_value, copy\n\u001b[1;32m   5291\u001b[0m )\u001b[39m.\u001b[39m__finalize__(\u001b[39mself\u001b[39m, method\u001b[39m=\u001b[39m\u001b[39m\"\u001b[39m\u001b[39mreindex\u001b[39m\u001b[39m\"\u001b[39m)\n",
      "File \u001b[0;32m~/Desktop/TAU/DrugLab/venv/lib/python3.9/site-packages/pandas/core/generic.py:5309\u001b[0m, in \u001b[0;36mNDFrame._reindex_axes\u001b[0;34m(self, axes, level, limit, tolerance, method, fill_value, copy)\u001b[0m\n\u001b[1;32m   5304\u001b[0m new_index, indexer \u001b[39m=\u001b[39m ax\u001b[39m.\u001b[39mreindex(\n\u001b[1;32m   5305\u001b[0m     labels, level\u001b[39m=\u001b[39mlevel, limit\u001b[39m=\u001b[39mlimit, tolerance\u001b[39m=\u001b[39mtolerance, method\u001b[39m=\u001b[39mmethod\n\u001b[1;32m   5306\u001b[0m )\n\u001b[1;32m   5308\u001b[0m axis \u001b[39m=\u001b[39m \u001b[39mself\u001b[39m\u001b[39m.\u001b[39m_get_axis_number(a)\n\u001b[0;32m-> 5309\u001b[0m obj \u001b[39m=\u001b[39m obj\u001b[39m.\u001b[39;49m_reindex_with_indexers(\n\u001b[1;32m   5310\u001b[0m     {axis: [new_index, indexer]},\n\u001b[1;32m   5311\u001b[0m     fill_value\u001b[39m=\u001b[39;49mfill_value,\n\u001b[1;32m   5312\u001b[0m     copy\u001b[39m=\u001b[39;49mcopy,\n\u001b[1;32m   5313\u001b[0m     allow_dups\u001b[39m=\u001b[39;49m\u001b[39mFalse\u001b[39;49;00m,\n\u001b[1;32m   5314\u001b[0m )\n\u001b[1;32m   5315\u001b[0m \u001b[39m# If we've made a copy once, no need to make another one\u001b[39;00m\n\u001b[1;32m   5316\u001b[0m copy \u001b[39m=\u001b[39m \u001b[39mFalse\u001b[39;00m\n",
      "File \u001b[0;32m~/Desktop/TAU/DrugLab/venv/lib/python3.9/site-packages/pandas/core/generic.py:5355\u001b[0m, in \u001b[0;36mNDFrame._reindex_with_indexers\u001b[0;34m(self, reindexers, fill_value, copy, allow_dups)\u001b[0m\n\u001b[1;32m   5352\u001b[0m     indexer \u001b[39m=\u001b[39m ensure_platform_int(indexer)\n\u001b[1;32m   5354\u001b[0m \u001b[39m# TODO: speed up on homogeneous DataFrame objects (see _reindex_multi)\u001b[39;00m\n\u001b[0;32m-> 5355\u001b[0m new_data \u001b[39m=\u001b[39m new_data\u001b[39m.\u001b[39;49mreindex_indexer(\n\u001b[1;32m   5356\u001b[0m     index,\n\u001b[1;32m   5357\u001b[0m     indexer,\n\u001b[1;32m   5358\u001b[0m     axis\u001b[39m=\u001b[39;49mbaxis,\n\u001b[1;32m   5359\u001b[0m     fill_value\u001b[39m=\u001b[39;49mfill_value,\n\u001b[1;32m   5360\u001b[0m     allow_dups\u001b[39m=\u001b[39;49mallow_dups,\n\u001b[1;32m   5361\u001b[0m     copy\u001b[39m=\u001b[39;49mcopy,\n\u001b[1;32m   5362\u001b[0m )\n\u001b[1;32m   5363\u001b[0m \u001b[39m# If we've made a copy once, no need to make another one\u001b[39;00m\n\u001b[1;32m   5364\u001b[0m copy \u001b[39m=\u001b[39m \u001b[39mFalse\u001b[39;00m\n",
      "File \u001b[0;32m~/Desktop/TAU/DrugLab/venv/lib/python3.9/site-packages/pandas/core/internals/managers.py:737\u001b[0m, in \u001b[0;36mBaseBlockManager.reindex_indexer\u001b[0;34m(self, new_axis, indexer, axis, fill_value, allow_dups, copy, only_slice, use_na_proxy)\u001b[0m\n\u001b[1;32m    735\u001b[0m \u001b[39m# some axes don't allow reindexing with dups\u001b[39;00m\n\u001b[1;32m    736\u001b[0m \u001b[39mif\u001b[39;00m \u001b[39mnot\u001b[39;00m allow_dups:\n\u001b[0;32m--> 737\u001b[0m     \u001b[39mself\u001b[39;49m\u001b[39m.\u001b[39;49maxes[axis]\u001b[39m.\u001b[39;49m_validate_can_reindex(indexer)\n\u001b[1;32m    739\u001b[0m \u001b[39mif\u001b[39;00m axis \u001b[39m>\u001b[39m\u001b[39m=\u001b[39m \u001b[39mself\u001b[39m\u001b[39m.\u001b[39mndim:\n\u001b[1;32m    740\u001b[0m     \u001b[39mraise\u001b[39;00m \u001b[39mIndexError\u001b[39;00m(\u001b[39m\"\u001b[39m\u001b[39mRequested axis not found in manager\u001b[39m\u001b[39m\"\u001b[39m)\n",
      "File \u001b[0;32m~/Desktop/TAU/DrugLab/venv/lib/python3.9/site-packages/pandas/core/indexes/base.py:4316\u001b[0m, in \u001b[0;36mIndex._validate_can_reindex\u001b[0;34m(self, indexer)\u001b[0m\n\u001b[1;32m   4314\u001b[0m \u001b[39m# trying to reindex on an axis with duplicates\u001b[39;00m\n\u001b[1;32m   4315\u001b[0m \u001b[39mif\u001b[39;00m \u001b[39mnot\u001b[39;00m \u001b[39mself\u001b[39m\u001b[39m.\u001b[39m_index_as_unique \u001b[39mand\u001b[39;00m \u001b[39mlen\u001b[39m(indexer):\n\u001b[0;32m-> 4316\u001b[0m     \u001b[39mraise\u001b[39;00m \u001b[39mValueError\u001b[39;00m(\u001b[39m\"\u001b[39m\u001b[39mcannot reindex on an axis with duplicate labels\u001b[39m\u001b[39m\"\u001b[39m)\n",
      "\u001b[0;31mValueError\u001b[0m: cannot reindex on an axis with duplicate labels"
     ]
    }
   ],
   "source": [
    "## Querier\n",
    "mimic_data_querier = querier.DatasetQuerier(\n",
    "    data = data,\n",
    "    res = res,\n",
    "    t_labs=m_labs, \n",
    "    t_med1=m_med1, \n",
    "    t_med2=m_med2,\n",
    "    gender=gender, \n",
    "    age_b=age_b, \n",
    "    age_a=age_a, \n",
    "    ethnicity=ethnicity, \n",
    "    lab_mapping=lab_mapping\n",
    ")\n",
    "# query pairs for all medication and lab tests\n",
    "m_final_lab_med_data = mimic_data_querier.generate_med_lab_data(before_windows, after_windows, lab_parts=(15,30))"
   ]
  },
  {
   "cell_type": "code",
   "execution_count": null,
   "metadata": {},
   "outputs": [],
   "source": [
    "## Discovery Analysis for the queried medication and lab test pairs in the chosen before and after windows\n",
    "analyzer = discovery.ClinicalDiscoveryAnalysis(m_final_lab_med_data)\n",
    "pvals_med_lab = analyzer.analyze(before_windows, after_windows)\n",
    "sig_med_lab = analyzer.generate_significant(pvals_med_lab.dropna(subset=[\"TTest Paired\"]))"
   ]
  },
  {
   "cell_type": "code",
   "execution_count": null,
   "metadata": {},
   "outputs": [],
   "source": [
    "\n",
    "## Plots\n",
    "plotter = plots.ClinicalPlotAnalysis(\n",
    "    data = data,\n",
    "    res = res,\n",
    "    gender=gender, \n",
    "    age_b=age_b, \n",
    "    age_a=age_a, \n",
    "    ethnicity=ethnicity, \n",
    "    lab_mapping=lab_mapping\n",
    ")\n",
    "m_corrs_data_df = plotter.plot(m_final_lab_med_data, m_labs, before_windows=before_windows, after_windows=after_windows)"
   ]
  },
  {
   "cell_type": "code",
   "execution_count": null,
   "metadata": {},
   "outputs": [],
   "source": []
  },
  {
   "cell_type": "code",
   "execution_count": 20,
   "metadata": {},
   "outputs": [],
   "source": [
    "LAB_MAPPING = {\n",
    "    'Alanine aminotransferase': [50861, 769, 220644],\n",
    "    'Fraction inspired oxygen': [189],\n",
    "    'Asparate aminotransferase': [50878, 770, 220587],\n",
    "    # 'Hemoglobin percent': [50852],\n",
    "    # 'Hemoglobin C': [51224],\n",
    "    # 'Hemoglobin F': [51225],\n",
    "    # 'Hemoglobin A2': [51223],\n",
    "    'Hemoglobin': [814, 220228, 51222, 50811],\n",
    "    'Prothrombin time INR': [51237, 815, 1530, 227467],\n",
    "    'Bilirubin': [51465, 50883, 803, 225651, 50885, 1538, 848, 225690, 50884],\n",
    "    'Calcium': [786, 1522, 3746, 51029, 50893, 225625],\n",
    "    'Calcium ionized': [50808, 816, 225667, 3766],\n",
    "    'Creatinine': [791, 1525, 220615, 50912],\n",
    "    'Creatinine ascites': [50841],\n",
    "    'Glucose': [50931, 807, 811, 1529, 50809, 3745, 225664, 220621, 226537],\n",
    "    'Lactic acid': [818, 225668, 1531],\n",
    "    'Magnesium': [821, 1532, 220635, 50960],\n",
    "    'Magnesium, Urine': [51088],\n",
    "    'Platelets': [51265, 828, 227457],\n",
    "    'Large Platelets': [51240],\n",
    "    'Potassium': [829, 1535, 227464, 50971, 50822],\n",
    "    'Sodium': [837, 1536, 220645, 226534, 50983, 50824],\n",
    "    'Uric Acid': [51007],\n",
    "    'Uric Acid, Urine': [51105],\n",
    "    'Vitamin B12': [51010],\n",
    "    'Prolactin': [50973],\n",
    "    'Amylase': [50867],\n",
    "    'Lipase': [50956],\n",
    "    'PTT': [825, 1533, 227466, 51275],\n",
    "    'Hematocrit': [813, 220545, 51221, 50810],\n",
    "    'Red blood cell': [51279, 833],\n",
    "    'Albumin': [50862, 772, 1521, 227456],\n",
    "    # Vital signs\n",
    "    'Heart Rate': [211, 220045],\n",
    "    'Diastolic blood pressure': [8368,\n",
    "                                 220051,\n",
    "                                 225310,\n",
    "                                 8555,\n",
    "                                 8441,\n",
    "                                 220180,\n",
    "                                 8502,\n",
    "                                 8440,\n",
    "                                 8503,\n",
    "                                 8504,\n",
    "                                 8507,\n",
    "                                 8506,\n",
    "                                 224643],\n",
    "    'Systolic blood pressure': [51,\n",
    "                                220050,\n",
    "                                225309,\n",
    "                                6701,\n",
    "                                455,\n",
    "                                220179,\n",
    "                                3313,\n",
    "                                3315,\n",
    "                                442,\n",
    "                                3317,\n",
    "                                3323,\n",
    "                                3321,\n",
    "                                224167,\n",
    "                                227243],\n",
    "    'Temperature (C)': [3655,\n",
    "                        677,\n",
    "                        676,\n",
    "                        223762],\n",
    "    'Temperature (F)': [678,\n",
    "                        223761,\n",
    "                        679],\n",
    "    'Respiratory rate': [618,\n",
    "                         220210,\n",
    "                         3603,\n",
    "                         224689,\n",
    "                         614,\n",
    "                         651,\n",
    "                         224422,\n",
    "                         615,\n",
    "                         224690,\n",
    "                         619,\n",
    "                         224688],\n",
    "    'Pulse oximetry': [646, 220277],\n",
    "    'Oxygen saturation': [834,\n",
    "                          50817,\n",
    "                          8498,\n",
    "                          220227]\n",
    "}"
   ]
  },
  {
   "cell_type": "code",
   "execution_count": 21,
   "metadata": {},
   "outputs": [],
   "source": [
    "mimic_labs = ['Heart Rate',\n",
    "'Respiratory rate', 'Oxygen saturation', 'Systolic blood pressure',\n",
    "'Diastolic blood pressure', 'Temperature', 'Glucose', 'Potassium',\n",
    "'Sodium', 'Chloride', 'Creatinine', 'Blood urea nitrogen',\n",
    "'Bicarbonate', 'Calcium', 'Albumin', 'Lactate dehydrogenase',\n",
    "'Magnesium', 'Lactic acid', 'Hematocrit', 'Hemoglobin', 'Platelets',\n",
    "'White blood cell count', 'Red blood cell', 'Mean corpuscular volume',\n",
    "'Lymphocytes', 'Neutrophils', 'Prothrombin time INR']"
   ]
  },
  {
   "cell_type": "code",
   "execution_count": 23,
   "metadata": {},
   "outputs": [
    {
     "data": {
      "text/plain": [
       "{'Bicarbonate',\n",
       " 'Blood urea nitrogen',\n",
       " 'Chloride',\n",
       " 'Lactate dehydrogenase',\n",
       " 'Lymphocytes',\n",
       " 'Mean corpuscular volume',\n",
       " 'Neutrophils',\n",
       " 'Temperature',\n",
       " 'White blood cell count'}"
      ]
     },
     "execution_count": 23,
     "metadata": {},
     "output_type": "execute_result"
    }
   ],
   "source": [
    "set(mimic_labs).difference(LAB_MAPPING.keys())"
   ]
  },
  {
   "cell_type": "code",
   "execution_count": null,
   "metadata": {},
   "outputs": [],
   "source": [
    "import tqdm\n",
    "res_dict = {}\n",
    "for lab in constants.LAB_MAPPING.keys():\n",
    "    \n",
    "    print(f\"Parsing {lab} data....\")\n",
    "    # MIMIC\n",
    "    if lab!=\"Heart Rate\":\n",
    "        mimic_parser = mimic.MIMICParser(data=data, res=res, gender=gender, age_b=age_b, age_a=age_a, ethnicity=ethnicity, load=\"AUTOMATIC_MAPPING_MIMIC\")\n",
    "        m_med1, m_med2, m_labs = mimic_parser.parse(use_pairs=False, load_from_raw=True, load_raw_chartevents=False, lab_parts=(0, 15), lab=lab)\n",
    "        m_labs = m_labs.reset_index().drop(columns=[\"index\"])\n",
    "    print(f\"Done parsing {lab}.\")\n",
    "        \n",
    "    print(f\"Starting pairs generation for {lab}....\")\n",
    "    ## Querier\n",
    "    mimic_data_querier = querier.DatasetQuerier(\n",
    "        data = data,\n",
    "        res = res,\n",
    "        t_labs=m_labs, \n",
    "        t_med1=m_med1, \n",
    "        t_med2=m_med2,\n",
    "        gender=gender, \n",
    "        age_b=age_b, \n",
    "        age_a=age_a, \n",
    "        ethnicity=ethnicity, \n",
    "        lab_mapping=lab_mapping\n",
    "    )\n",
    "    df_list = []\n",
    "    for row in tqdm.tqdm(m_med1.iterrows(), total=m_med1.shape[0]):\n",
    "    # for row in m_med1.iterrows():\n",
    "        df_list.append(mimic_data_querier.get_vals(row[1], m_labs, m_med1, m_med2, before_windows=before_windows, after_windows=after_windows).to_dict())\n",
    "    temp = pd.DataFrame(df_list)\n",
    "    all_types = set([\"abs\", \"mean\", \"std\", \"trends\", \"time\"])\n",
    "    cols_b = [f\"before_{t}_{b_w}\" for b_w in before_windows for t in all_types]\n",
    "    cols_a = [f\"after_{t}_{a_w}\" for a_w in after_windows for t in all_types]\n",
    "    cols = cols_b.copy()\n",
    "    cols.extend(cols_a)\n",
    "    col_vals = []\n",
    "    for col in cols:\n",
    "        col_vals.append(\n",
    "            temp.assign(dict=temp[col].dropna().map(lambda d: d.items())).explode(\"dict\", ignore_index=True).assign(\n",
    "                LAB_ITEMID=lambda df: df.dict.str.get(0),\n",
    "                temp=lambda df: df.dict.str.get(1)\n",
    "            ).drop(columns=[\"dict\"]+cols).astype({'temp':'float64'}).rename(columns={\"temp\":f\"{col}_sp\"}).dropna(subset=[\"LAB_ITEMID\"])\n",
    "        )\n",
    "    sel_cols = list(set(list(temp.columns)).difference(cols))\n",
    "    for i in range(1, len(col_vals)):\n",
    "        col_vals[i] = pd.merge(col_vals[i-1], col_vals[i], how=\"outer\", on=sel_cols+[\"LAB_ITEMID\"])\n",
    "    final = col_vals[-1][sel_cols+[\"LAB_ITEMID\"]+[f\"{col}_sp\" for col in cols]]\n",
    "    final[\"LAB_NAME\"] = final[\"LAB_ITEMID\"]\n",
    "    res_dict[lab] = final.rename(columns={\"ITEMID\":\"MED_NAME\"})\n",
    "    res_dict[lab].to_csv(os.path.join(res, f\"med_lab_pairs_vital_signs_{lab}.csv\"))\n",
    "    print(f\"Pairs generated for {lab}.\")\n",
    "        "
   ]
  },
  {
   "cell_type": "code",
   "execution_count": null,
   "metadata": {},
   "outputs": [],
   "source": [
    "missing_lab_mapping = {\n",
    "    'Bicarbonate':[50882, 227443, 50803],\n",
    "    'Blood urea nitrogen':[51006, 781, 1162, 225624],\n",
    "    'Chloride':[50806, 220602, 226536, 1523, 788, 50902],\n",
    "    'Lactate dehydrogenase': [50954],\n",
    "    'Lymphocytes':[51244],\n",
    "    'Mean corpuscular volume':[51250],\n",
    "    'Neutrophils':[51256],\n",
    "    'White blood cell count':[861, 1542, 220546, 51301, 51300, 1127]\n",
    "}"
   ]
  }
 ],
 "metadata": {
  "kernelspec": {
   "display_name": "Python 3 (ipykernel)",
   "language": "python",
   "name": "python3"
  },
  "language_info": {
   "codemirror_mode": {
    "name": "ipython",
    "version": 3
   },
   "file_extension": ".py",
   "mimetype": "text/x-python",
   "name": "python",
   "nbconvert_exporter": "python",
   "pygments_lexer": "ipython3",
   "version": "3.9.6"
  },
  "vscode": {
   "interpreter": {
    "hash": "3d18dfdd61f4205bc820c4db60d6212c4a8bed06c39bf54702a27b774e005900"
   }
  }
 },
 "nbformat": 4,
 "nbformat_minor": 2
}
