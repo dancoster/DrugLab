{
 "cells": [
  {
   "cell_type": "markdown",
   "metadata": {},
   "source": [
    "## New Experiment"
   ]
  },
  {
   "cell_type": "code",
   "execution_count": null,
   "metadata": {},
   "outputs": [],
   "source": [
    "BASE_DIR = '/Volumes/GoogleDrive/My Drive/TAU/Code/DrugLab'\n",
    "suffix = f'(1,2)_(1.0,100.0)_M_(50,60)_WHITE'"
   ]
  },
  {
   "cell_type": "code",
   "execution_count": null,
   "metadata": {},
   "outputs": [],
   "source": [
    "\n",
    "import pickle\n",
    "import os\n",
    "import sys\n",
    "sys.path.insert(0, os.path.abspath('/Users/yanpavan/Desktop/Personal/TAU/DrugLab/src'))\n",
    "\n",
    "from preprocess.stratify import Stratify\n",
    "file = open('/Volumes/GoogleDrive/My Drive/TAU/Code/DrugLab/data/mimiciii/1.4/preprocessed/stratified_mimiciii_(1, 2)_(1.0, 100.0)_M_(50, 60)_WHITE.obj', 'rb')\n",
    "s = pickle.load(file)\n",
    "file.close()\n"
   ]
  },
  {
   "cell_type": "code",
   "execution_count": null,
   "metadata": {},
   "outputs": [],
   "source": [
    "medname = 'Insulin'\n",
    "labname = 'Glucose'\n",
    "window=(1,48)\n",
    "type='inputevents'"
   ]
  },
  {
   "cell_type": "code",
   "execution_count": null,
   "metadata": {},
   "outputs": [],
   "source": [
    "from analysis.analysis import Analysis\n",
    "\n",
    "drug_lab, before, after = Analysis.labpairing(medname, s.patient_presc, s.lab_measurements['inputevents'], labname, med1 = s.med1, med2 = s.med2)"
   ]
  },
  {
   "cell_type": "code",
   "execution_count": null,
   "metadata": {},
   "outputs": [
    {
     "name": "stdout",
     "output_type": "stream",
     "text": [
      "None\n"
     ]
    }
   ],
   "source": [
    "print(before)"
   ]
  },
  {
   "cell_type": "code",
   "execution_count": null,
   "metadata": {},
   "outputs": [],
   "source": [
    "from sqlite3 import Time\n",
    "from analysis.time_effect_analysis import TimeEffect\n",
    "time_inst = TimeEffect(BASE_DIR, s, 'inputevents', suffix)"
   ]
  },
  {
   "cell_type": "code",
   "execution_count": null,
   "metadata": {},
   "outputs": [
    {
     "name": "stderr",
     "output_type": "stream",
     "text": [
      "time_effect_analysis/time_effect_analysis.py [Class: TimeEffect Func: get_data] INFO : (10, 12) has no data for the given Insulin<>Glucose pair.\n"
     ]
    },
    {
     "name": "stdout",
     "output_type": "stream",
     "text": [
      "Drug None\n",
      "Beofre None\n",
      "After None\n"
     ]
    },
    {
     "data": {
      "text/plain": [
       "(None, None)"
      ]
     },
     "metadata": {},
     "output_type": "display_data"
    }
   ],
   "source": [
    "time_inst.get_data(medname, labname, 'inputevents', before_window=(10, 12), after_window=(10, 20))"
   ]
  },
  {
   "cell_type": "code",
   "execution_count": null,
   "metadata": {},
   "outputs": [],
   "source": [
    "from visualize.time_effect_visualize import TimeEffectVisualization\n",
    "plot_module = TimeEffectVisualization(BASE_DIR, s, table='inputevents', suffix=suffix)\n",
    "plot_module.visualize(medname, labname, window=(1,48), before_window_info=(2,24), after_window_info=(2,24))"
   ]
  },
  {
   "cell_type": "markdown",
   "metadata": {},
   "source": [
    "## Trial"
   ]
  },
  {
   "cell_type": "code",
   "execution_count": 2,
   "metadata": {},
   "outputs": [],
   "source": [
    "import pandas as pd\n",
    "import numpy as np\n",
    "import pickle\n",
    "import os\n",
    "import sys\n",
    "sys.path.insert(0, os.path.abspath('/Users/yanpavan/Desktop/Personal/TAU/DrugLab/src'))"
   ]
  },
  {
   "cell_type": "code",
   "execution_count": 2,
   "metadata": {},
   "outputs": [],
   "source": [
    "medname = 'Insulin'\n",
    "labname = 'Glucose'\n",
    "window=(1,48)\n",
    "type='inputevents'"
   ]
  },
  {
   "cell_type": "code",
   "execution_count": 3,
   "metadata": {},
   "outputs": [],
   "source": [
    "DATA = '/Volumes/GoogleDrive/My Drive/TAU/Code/DrugLab/data/mimiciii/1.4'"
   ]
  },
  {
   "cell_type": "code",
   "execution_count": null,
   "metadata": {},
   "outputs": [],
   "source": [
    "from preprocess.stratify import Stratify\n",
    "file = open('/Volumes/GoogleDrive/My Drive/TAU/Code/DrugLab/data/mimiciii/1.4/preprocessed/stratified_mimiciii_(1, 2)_(1.0, 100.0)_M_(50, 60)_WHITE.obj', 'rb')\n",
    "s = pickle.load(file)\n",
    "file.close()"
   ]
  },
  {
   "cell_type": "code",
   "execution_count": 4,
   "metadata": {},
   "outputs": [
    {
     "name": "stderr",
     "output_type": "stream",
     "text": [
      "dataset/dataset.py [Class: Dataset Func: __init__] INFO : Started loading data from mimiciii dataset...\n",
      "dataset/dataset.py [Class: Dataset Func: load_data] INFO : Loading admissions data...\n"
     ]
    }
   ],
   "source": [
    "from preprocess.dataset import Dataset\n",
    "data = Dataset('mimiciii', DATA, between_meds=(1,2), preprocessed=False)\n",
    "pickle.dump(data, open(os.path.join(DATA, 'raw', 'mimiciii_bm(1,2).obj'), 'wb'))"
   ]
  },
  {
   "cell_type": "code",
   "execution_count": null,
   "metadata": {},
   "outputs": [],
   "source": [
    "pickle.dump(data, open(os.path.join(DATA, 'raw', 'mimiciii_bm(1,2).obj'), 'wb'))"
   ]
  },
  {
   "cell_type": "code",
   "execution_count": 1,
   "metadata": {},
   "outputs": [
    {
     "ename": "NameError",
     "evalue": "name 'data' is not defined",
     "output_type": "error",
     "traceback": [
      "\u001b[0;31m---------------------------------------------------------------------------\u001b[0m",
      "\u001b[0;31mNameError\u001b[0m                                 Traceback (most recent call last)",
      "\u001b[1;32m/Users/yanpavan/Desktop/Personal/TAU/DrugLab/notebooks/debug.ipynb Cell 17\u001b[0m in \u001b[0;36m<cell line: 1>\u001b[0;34m()\u001b[0m\n\u001b[0;32m----> <a href='vscode-notebook-cell:/Users/yanpavan/Desktop/Personal/TAU/DrugLab/notebooks/debug.ipynb#X26sZmlsZQ%3D%3D?line=0'>1</a>\u001b[0m data\n",
      "\u001b[0;31mNameError\u001b[0m: name 'data' is not defined"
     ]
    }
   ],
   "source": [
    "data"
   ]
  },
  {
   "cell_type": "code",
   "execution_count": 18,
   "metadata": {},
   "outputs": [
    {
     "data": {
      "text/html": [
       "<div>\n",
       "<style scoped>\n",
       "    .dataframe tbody tr th:only-of-type {\n",
       "        vertical-align: middle;\n",
       "    }\n",
       "\n",
       "    .dataframe tbody tr th {\n",
       "        vertical-align: top;\n",
       "    }\n",
       "\n",
       "    .dataframe thead th {\n",
       "        text-align: right;\n",
       "    }\n",
       "</style>\n",
       "<table border=\"1\" class=\"dataframe\">\n",
       "  <thead>\n",
       "    <tr style=\"text-align: right;\">\n",
       "      <th></th>\n",
       "      <th>HADM_ID</th>\n",
       "      <th>SUBJECT_ID</th>\n",
       "      <th>ICUSTAY_ID</th>\n",
       "      <th>STARTTIME</th>\n",
       "      <th>ENDTIME</th>\n",
       "      <th>ITEMID</th>\n",
       "      <th>AMOUNT</th>\n",
       "      <th>AMOUNTUOM</th>\n",
       "      <th>UNITNAME</th>\n",
       "      <th>ORDERCATEGORYNAME</th>\n",
       "      <th>LABEL</th>\n",
       "      <th>CATEGORY</th>\n",
       "      <th>PARAM_TYPE</th>\n",
       "    </tr>\n",
       "  </thead>\n",
       "  <tbody>\n",
       "    <tr>\n",
       "      <th>0</th>\n",
       "      <td>100001</td>\n",
       "      <td>58526</td>\n",
       "      <td>275225.0</td>\n",
       "      <td>2117-09-12 20:29:00</td>\n",
       "      <td>2117-09-12 21:29:00</td>\n",
       "      <td>225944</td>\n",
       "      <td>49.999999</td>\n",
       "      <td>ml</td>\n",
       "      <td>mL</td>\n",
       "      <td>02-Fluids (Crystalloids)</td>\n",
       "      <td>Sterile Water</td>\n",
       "      <td>Fluids/Intake</td>\n",
       "      <td>Solution</td>\n",
       "    </tr>\n",
       "    <tr>\n",
       "      <th>1</th>\n",
       "      <td>100003</td>\n",
       "      <td>54610</td>\n",
       "      <td>209281.0</td>\n",
       "      <td>2150-04-17 21:08:00</td>\n",
       "      <td>2150-04-18 12:04:00</td>\n",
       "      <td>225158</td>\n",
       "      <td>150.000005</td>\n",
       "      <td>ml</td>\n",
       "      <td>mL</td>\n",
       "      <td>02-Fluids (Crystalloids)</td>\n",
       "      <td>NaCl 0.9%</td>\n",
       "      <td>Fluids/Intake</td>\n",
       "      <td>Solution</td>\n",
       "    </tr>\n",
       "    <tr>\n",
       "      <th>2</th>\n",
       "      <td>100009</td>\n",
       "      <td>533</td>\n",
       "      <td>253656.0</td>\n",
       "      <td>2162-05-19 18:21:00</td>\n",
       "      <td>2162-05-19 19:21:00</td>\n",
       "      <td>225944</td>\n",
       "      <td>49.999999</td>\n",
       "      <td>ml</td>\n",
       "      <td>mL</td>\n",
       "      <td>02-Fluids (Crystalloids)</td>\n",
       "      <td>Sterile Water</td>\n",
       "      <td>Fluids/Intake</td>\n",
       "      <td>Solution</td>\n",
       "    </tr>\n",
       "    <tr>\n",
       "      <th>3</th>\n",
       "      <td>100010</td>\n",
       "      <td>55853</td>\n",
       "      <td>271147.0</td>\n",
       "      <td>2109-12-11 19:30:00</td>\n",
       "      <td>2109-12-11 19:31:00</td>\n",
       "      <td>221744</td>\n",
       "      <td>24.999999</td>\n",
       "      <td>mcg</td>\n",
       "      <td>mg</td>\n",
       "      <td>05-Med Bolus</td>\n",
       "      <td>Fentanyl</td>\n",
       "      <td>Medications</td>\n",
       "      <td>Solution</td>\n",
       "    </tr>\n",
       "    <tr>\n",
       "      <th>4</th>\n",
       "      <td>100011</td>\n",
       "      <td>87977</td>\n",
       "      <td>214619.0</td>\n",
       "      <td>2177-09-02 04:48:00</td>\n",
       "      <td>2177-09-02 05:48:00</td>\n",
       "      <td>225166</td>\n",
       "      <td>10.000000</td>\n",
       "      <td>mEq</td>\n",
       "      <td>mEq</td>\n",
       "      <td>02-Fluids (Crystalloids)</td>\n",
       "      <td>Potassium Chloride</td>\n",
       "      <td>Medications</td>\n",
       "      <td>Solution</td>\n",
       "    </tr>\n",
       "    <tr>\n",
       "      <th>...</th>\n",
       "      <td>...</td>\n",
       "      <td>...</td>\n",
       "      <td>...</td>\n",
       "      <td>...</td>\n",
       "      <td>...</td>\n",
       "      <td>...</td>\n",
       "      <td>...</td>\n",
       "      <td>...</td>\n",
       "      <td>...</td>\n",
       "      <td>...</td>\n",
       "      <td>...</td>\n",
       "      <td>...</td>\n",
       "      <td>...</td>\n",
       "    </tr>\n",
       "    <tr>\n",
       "      <th>15825</th>\n",
       "      <td>199962</td>\n",
       "      <td>53283</td>\n",
       "      <td>299949.0</td>\n",
       "      <td>2118-07-18 16:54:00</td>\n",
       "      <td>2118-07-18 17:54:00</td>\n",
       "      <td>225166</td>\n",
       "      <td>10.000000</td>\n",
       "      <td>mEq</td>\n",
       "      <td>mEq</td>\n",
       "      <td>02-Fluids (Crystalloids)</td>\n",
       "      <td>Potassium Chloride</td>\n",
       "      <td>Medications</td>\n",
       "      <td>Solution</td>\n",
       "    </tr>\n",
       "    <tr>\n",
       "      <th>15826</th>\n",
       "      <td>199967</td>\n",
       "      <td>42131</td>\n",
       "      <td>201521.0</td>\n",
       "      <td>2184-08-01 03:34:00</td>\n",
       "      <td>2184-08-01 07:34:00</td>\n",
       "      <td>225166</td>\n",
       "      <td>40.000001</td>\n",
       "      <td>mEq</td>\n",
       "      <td>mEq</td>\n",
       "      <td>02-Fluids (Crystalloids)</td>\n",
       "      <td>Potassium Chloride</td>\n",
       "      <td>Medications</td>\n",
       "      <td>Solution</td>\n",
       "    </tr>\n",
       "    <tr>\n",
       "      <th>15827</th>\n",
       "      <td>199984</td>\n",
       "      <td>55617</td>\n",
       "      <td>240913.0</td>\n",
       "      <td>2191-06-10 14:15:00</td>\n",
       "      <td>2191-06-10 14:16:00</td>\n",
       "      <td>225158</td>\n",
       "      <td>250.000000</td>\n",
       "      <td>ml</td>\n",
       "      <td>mL</td>\n",
       "      <td>03-IV Fluid Bolus</td>\n",
       "      <td>NaCl 0.9%</td>\n",
       "      <td>Fluids/Intake</td>\n",
       "      <td>Solution</td>\n",
       "    </tr>\n",
       "    <tr>\n",
       "      <th>15828</th>\n",
       "      <td>199992</td>\n",
       "      <td>94911</td>\n",
       "      <td>294585.0</td>\n",
       "      <td>2155-02-12 00:00:00</td>\n",
       "      <td>2155-02-12 00:01:00</td>\n",
       "      <td>220949</td>\n",
       "      <td>100.000000</td>\n",
       "      <td>ml</td>\n",
       "      <td>mL</td>\n",
       "      <td>08-Antibiotics (IV)</td>\n",
       "      <td>Dextrose 5%</td>\n",
       "      <td>Fluids/Intake</td>\n",
       "      <td>Solution</td>\n",
       "    </tr>\n",
       "    <tr>\n",
       "      <th>15829</th>\n",
       "      <td>199999</td>\n",
       "      <td>40370</td>\n",
       "      <td>211153.0</td>\n",
       "      <td>2136-04-07 11:30:00</td>\n",
       "      <td>2136-04-07 12:30:00</td>\n",
       "      <td>225944</td>\n",
       "      <td>49.999999</td>\n",
       "      <td>ml</td>\n",
       "      <td>mL</td>\n",
       "      <td>02-Fluids (Crystalloids)</td>\n",
       "      <td>Sterile Water</td>\n",
       "      <td>Fluids/Intake</td>\n",
       "      <td>Solution</td>\n",
       "    </tr>\n",
       "  </tbody>\n",
       "</table>\n",
       "<p>15753 rows × 13 columns</p>\n",
       "</div>"
      ],
      "text/plain": [
       "       HADM_ID  SUBJECT_ID  ICUSTAY_ID           STARTTIME  \\\n",
       "0       100001       58526    275225.0 2117-09-12 20:29:00   \n",
       "1       100003       54610    209281.0 2150-04-17 21:08:00   \n",
       "2       100009         533    253656.0 2162-05-19 18:21:00   \n",
       "3       100010       55853    271147.0 2109-12-11 19:30:00   \n",
       "4       100011       87977    214619.0 2177-09-02 04:48:00   \n",
       "...        ...         ...         ...                 ...   \n",
       "15825   199962       53283    299949.0 2118-07-18 16:54:00   \n",
       "15826   199967       42131    201521.0 2184-08-01 03:34:00   \n",
       "15827   199984       55617    240913.0 2191-06-10 14:15:00   \n",
       "15828   199992       94911    294585.0 2155-02-12 00:00:00   \n",
       "15829   199999       40370    211153.0 2136-04-07 11:30:00   \n",
       "\n",
       "                  ENDTIME  ITEMID      AMOUNT AMOUNTUOM UNITNAME  \\\n",
       "0     2117-09-12 21:29:00  225944   49.999999        ml       mL   \n",
       "1     2150-04-18 12:04:00  225158  150.000005        ml       mL   \n",
       "2     2162-05-19 19:21:00  225944   49.999999        ml       mL   \n",
       "3     2109-12-11 19:31:00  221744   24.999999       mcg       mg   \n",
       "4     2177-09-02 05:48:00  225166   10.000000       mEq      mEq   \n",
       "...                   ...     ...         ...       ...      ...   \n",
       "15825 2118-07-18 17:54:00  225166   10.000000       mEq      mEq   \n",
       "15826 2184-08-01 07:34:00  225166   40.000001       mEq      mEq   \n",
       "15827 2191-06-10 14:16:00  225158  250.000000        ml       mL   \n",
       "15828 2155-02-12 00:01:00  220949  100.000000        ml       mL   \n",
       "15829 2136-04-07 12:30:00  225944   49.999999        ml       mL   \n",
       "\n",
       "              ORDERCATEGORYNAME               LABEL       CATEGORY PARAM_TYPE  \n",
       "0      02-Fluids (Crystalloids)       Sterile Water  Fluids/Intake   Solution  \n",
       "1      02-Fluids (Crystalloids)           NaCl 0.9%  Fluids/Intake   Solution  \n",
       "2      02-Fluids (Crystalloids)       Sterile Water  Fluids/Intake   Solution  \n",
       "3                  05-Med Bolus            Fentanyl    Medications   Solution  \n",
       "4      02-Fluids (Crystalloids)  Potassium Chloride    Medications   Solution  \n",
       "...                         ...                 ...            ...        ...  \n",
       "15825  02-Fluids (Crystalloids)  Potassium Chloride    Medications   Solution  \n",
       "15826  02-Fluids (Crystalloids)  Potassium Chloride    Medications   Solution  \n",
       "15827         03-IV Fluid Bolus           NaCl 0.9%  Fluids/Intake   Solution  \n",
       "15828       08-Antibiotics (IV)         Dextrose 5%  Fluids/Intake   Solution  \n",
       "15829  02-Fluids (Crystalloids)       Sterile Water  Fluids/Intake   Solution  \n",
       "\n",
       "[15753 rows x 13 columns]"
      ]
     },
     "execution_count": 18,
     "metadata": {},
     "output_type": "execute_result"
    }
   ],
   "source": [
    "data.med1"
   ]
  },
  {
   "cell_type": "code",
   "execution_count": null,
   "metadata": {},
   "outputs": [],
   "source": [
    "from analysis.analysis import Analysis\n",
    "d, b, a = Analysis.labpairing()"
   ]
  },
  {
   "cell_type": "code",
   "execution_count": 3,
   "metadata": {},
   "outputs": [],
   "source": [
    "import pickle\n",
    "l = pickle.load(open('/Users/yanpavan/Desktop/Personal/TAU/DrugLab/results/mimic_extract/res.pkl', 'rb'))"
   ]
  },
  {
   "cell_type": "code",
   "execution_count": 6,
   "metadata": {},
   "outputs": [
    {
     "data": {
      "text/plain": [
       "0    2199017\n",
       "1       1846\n",
       "2         85\n",
       "3          4\n",
       "4          2\n",
       "dtype: int64"
      ]
     },
     "execution_count": 6,
     "metadata": {},
     "output_type": "execute_result"
    }
   ],
   "source": [
    "l['hematocrit']['counts'].value_counts()"
   ]
  },
  {
   "cell_type": "code",
   "execution_count": 28,
   "metadata": {},
   "outputs": [],
   "source": [
    "import pandas as pd\n",
    "temp = pd.read_csv('/Users/yanpavan/Desktop/Personal/TAU/DrugLab/data/mimic_extract/itemid_to_variable_map.csv')"
   ]
  },
  {
   "cell_type": "code",
   "execution_count": 13,
   "metadata": {},
   "outputs": [
    {
     "data": {
      "text/html": [
       "<div>\n",
       "<style scoped>\n",
       "    .dataframe tbody tr th:only-of-type {\n",
       "        vertical-align: middle;\n",
       "    }\n",
       "\n",
       "    .dataframe tbody tr th {\n",
       "        vertical-align: top;\n",
       "    }\n",
       "\n",
       "    .dataframe thead th {\n",
       "        text-align: right;\n",
       "    }\n",
       "</style>\n",
       "<table border=\"1\" class=\"dataframe\">\n",
       "  <thead>\n",
       "    <tr style=\"text-align: right;\">\n",
       "      <th></th>\n",
       "      <th>LEVEL2</th>\n",
       "      <th>LEVEL1</th>\n",
       "      <th>MIMIC LABEL</th>\n",
       "    </tr>\n",
       "  </thead>\n",
       "  <tbody>\n",
       "    <tr>\n",
       "      <th>0</th>\n",
       "      <td>Alanine aminotransferase</td>\n",
       "      <td>Alanine aminotransferase</td>\n",
       "      <td>ALANINE AMINOTRANSFERASE (ALT)</td>\n",
       "    </tr>\n",
       "    <tr>\n",
       "      <th>1</th>\n",
       "      <td>Alanine aminotransferase</td>\n",
       "      <td>Alanine aminotransferase</td>\n",
       "      <td>ALT</td>\n",
       "    </tr>\n",
       "    <tr>\n",
       "      <th>2</th>\n",
       "      <td>Alanine aminotransferase</td>\n",
       "      <td>Alanine aminotransferase</td>\n",
       "      <td>ALT</td>\n",
       "    </tr>\n",
       "    <tr>\n",
       "      <th>3</th>\n",
       "      <td>Albumin</td>\n",
       "      <td>Albumin</td>\n",
       "      <td>ALBUMIN</td>\n",
       "    </tr>\n",
       "    <tr>\n",
       "      <th>4</th>\n",
       "      <td>Albumin</td>\n",
       "      <td>Albumin</td>\n",
       "      <td>Albumin (&gt;3.2)</td>\n",
       "    </tr>\n",
       "    <tr>\n",
       "      <th>...</th>\n",
       "      <td>...</td>\n",
       "      <td>...</td>\n",
       "      <td>...</td>\n",
       "    </tr>\n",
       "    <tr>\n",
       "      <th>13246</th>\n",
       "      <td>Urine output</td>\n",
       "      <td>Urine output</td>\n",
       "      <td>L Nephrostomy</td>\n",
       "    </tr>\n",
       "    <tr>\n",
       "      <th>13247</th>\n",
       "      <td>Urine output</td>\n",
       "      <td>Urine output</td>\n",
       "      <td>Straight Cath</td>\n",
       "    </tr>\n",
       "    <tr>\n",
       "      <th>13248</th>\n",
       "      <td>Urine output</td>\n",
       "      <td>Urine output</td>\n",
       "      <td>Ileoconduit</td>\n",
       "    </tr>\n",
       "    <tr>\n",
       "      <th>13249</th>\n",
       "      <td>Urine output</td>\n",
       "      <td>Urine output</td>\n",
       "      <td>OR Urine</td>\n",
       "    </tr>\n",
       "    <tr>\n",
       "      <th>13250</th>\n",
       "      <td>Urine output</td>\n",
       "      <td>Urine output</td>\n",
       "      <td>TF Residual</td>\n",
       "    </tr>\n",
       "  </tbody>\n",
       "</table>\n",
       "<p>13251 rows × 3 columns</p>\n",
       "</div>"
      ],
      "text/plain": [
       "                         LEVEL2                    LEVEL1  \\\n",
       "0      Alanine aminotransferase  Alanine aminotransferase   \n",
       "1      Alanine aminotransferase  Alanine aminotransferase   \n",
       "2      Alanine aminotransferase  Alanine aminotransferase   \n",
       "3                       Albumin                   Albumin   \n",
       "4                       Albumin                   Albumin   \n",
       "...                         ...                       ...   \n",
       "13246              Urine output              Urine output   \n",
       "13247              Urine output              Urine output   \n",
       "13248              Urine output              Urine output   \n",
       "13249              Urine output              Urine output   \n",
       "13250              Urine output              Urine output   \n",
       "\n",
       "                          MIMIC LABEL  \n",
       "0      ALANINE AMINOTRANSFERASE (ALT)  \n",
       "1                                 ALT  \n",
       "2                                 ALT  \n",
       "3                             ALBUMIN  \n",
       "4                      Albumin (>3.2)  \n",
       "...                               ...  \n",
       "13246                   L Nephrostomy  \n",
       "13247                   Straight Cath  \n",
       "13248                     Ileoconduit  \n",
       "13249                        OR Urine  \n",
       "13250                     TF Residual  \n",
       "\n",
       "[13251 rows x 3 columns]"
      ]
     },
     "execution_count": 13,
     "metadata": {},
     "output_type": "execute_result"
    }
   ],
   "source": [
    "temp[['LEVEL2', 'LEVEL1', 'MIMIC LABEL']]"
   ]
  },
  {
   "cell_type": "code",
   "execution_count": 23,
   "metadata": {},
   "outputs": [],
   "source": [
    "temp1 = temp[['LEVEL2', 'LEVEL1', 'MIMIC LABEL']].dropna()"
   ]
  },
  {
   "cell_type": "code",
   "execution_count": 24,
   "metadata": {},
   "outputs": [
    {
     "data": {
      "text/plain": [
       "ATYPICAL LYMPHOCYTES     6\n",
       "EOSINOPHILS              6\n",
       "BASOPHILS                6\n",
       "LYMPHOCYTES              5\n",
       "PH                       5\n",
       "                        ..\n",
       "Glucose (70-105)         1\n",
       "Fingerstick Glucose      1\n",
       "GCS - Verbal Response    1\n",
       "Verbal Response          1\n",
       "TF Residual              1\n",
       "Name: MIMIC LABEL, Length: 424, dtype: int64"
      ]
     },
     "execution_count": 24,
     "metadata": {},
     "output_type": "execute_result"
    }
   ],
   "source": [
    "temp1['MIMIC LABEL'].value_counts()"
   ]
  },
  {
   "cell_type": "code",
   "execution_count": 25,
   "metadata": {},
   "outputs": [
    {
     "data": {
      "text/plain": [
       "Urine output                              26\n",
       "CO2 (ETCO2, PCO2, etc.)                   12\n",
       "Systolic blood pressure (noninvasive)     10\n",
       "Weight                                     9\n",
       "Diastolic blood pressure (noninvasive)     9\n",
       "                                          ..\n",
       "Red blood cell count (pleural)             1\n",
       "Red blood cell count (other fluid)         1\n",
       "Red blood cell count (joint fluid)         1\n",
       "Red blood cell count (fragments)           1\n",
       "Service Type                               1\n",
       "Name: LEVEL1, Length: 194, dtype: int64"
      ]
     },
     "execution_count": 25,
     "metadata": {},
     "output_type": "execute_result"
    }
   ],
   "source": [
    "temp1['LEVEL1'].value_counts()"
   ]
  },
  {
   "cell_type": "code",
   "execution_count": 30,
   "metadata": {},
   "outputs": [
    {
     "data": {
      "text/plain": [
       "Urine output                              26\n",
       "CO2 (ETCO2, PCO2, etc.)                   12\n",
       "Systolic blood pressure (noninvasive)     10\n",
       "Weight                                     9\n",
       "Diastolic blood pressure (noninvasive)     9\n",
       "                                          ..\n",
       "Red blood cell count (pleural)             1\n",
       "Red blood cell count (other fluid)         1\n",
       "Red blood cell count (joint fluid)         1\n",
       "Red blood cell count (fragments)           1\n",
       "Service Type                               1\n",
       "Name: LEVEL1, Length: 194, dtype: int64"
      ]
     },
     "execution_count": 30,
     "metadata": {},
     "output_type": "execute_result"
    }
   ],
   "source": [
    "temp['LEVEL1'].value_counts()"
   ]
  },
  {
   "cell_type": "code",
   "execution_count": 16,
   "metadata": {},
   "outputs": [
    {
     "data": {
      "text/html": [
       "<div>\n",
       "<style scoped>\n",
       "    .dataframe tbody tr th:only-of-type {\n",
       "        vertical-align: middle;\n",
       "    }\n",
       "\n",
       "    .dataframe tbody tr th {\n",
       "        vertical-align: top;\n",
       "    }\n",
       "\n",
       "    .dataframe thead th {\n",
       "        text-align: right;\n",
       "    }\n",
       "</style>\n",
       "<table border=\"1\" class=\"dataframe\">\n",
       "  <thead>\n",
       "    <tr style=\"text-align: right;\">\n",
       "      <th></th>\n",
       "      <th>LEVEL1</th>\n",
       "      <th>MIMIC LABEL</th>\n",
       "    </tr>\n",
       "  </thead>\n",
       "  <tbody>\n",
       "    <tr>\n",
       "      <th>0</th>\n",
       "      <td>Alanine aminotransferase</td>\n",
       "      <td>ALANINE AMINOTRANSFERASE (ALT)</td>\n",
       "    </tr>\n",
       "    <tr>\n",
       "      <th>1</th>\n",
       "      <td>Alanine aminotransferase</td>\n",
       "      <td>ALT</td>\n",
       "    </tr>\n",
       "    <tr>\n",
       "      <th>2</th>\n",
       "      <td>Alanine aminotransferase</td>\n",
       "      <td>ALT</td>\n",
       "    </tr>\n",
       "    <tr>\n",
       "      <th>3</th>\n",
       "      <td>Albumin</td>\n",
       "      <td>ALBUMIN</td>\n",
       "    </tr>\n",
       "    <tr>\n",
       "      <th>4</th>\n",
       "      <td>Albumin</td>\n",
       "      <td>Albumin (&gt;3.2)</td>\n",
       "    </tr>\n",
       "    <tr>\n",
       "      <th>...</th>\n",
       "      <td>...</td>\n",
       "      <td>...</td>\n",
       "    </tr>\n",
       "    <tr>\n",
       "      <th>13246</th>\n",
       "      <td>Urine output</td>\n",
       "      <td>L Nephrostomy</td>\n",
       "    </tr>\n",
       "    <tr>\n",
       "      <th>13247</th>\n",
       "      <td>Urine output</td>\n",
       "      <td>Straight Cath</td>\n",
       "    </tr>\n",
       "    <tr>\n",
       "      <th>13248</th>\n",
       "      <td>Urine output</td>\n",
       "      <td>Ileoconduit</td>\n",
       "    </tr>\n",
       "    <tr>\n",
       "      <th>13249</th>\n",
       "      <td>Urine output</td>\n",
       "      <td>OR Urine</td>\n",
       "    </tr>\n",
       "    <tr>\n",
       "      <th>13250</th>\n",
       "      <td>Urine output</td>\n",
       "      <td>TF Residual</td>\n",
       "    </tr>\n",
       "  </tbody>\n",
       "</table>\n",
       "<p>496 rows × 2 columns</p>\n",
       "</div>"
      ],
      "text/plain": [
       "                         LEVEL1                     MIMIC LABEL\n",
       "0      Alanine aminotransferase  ALANINE AMINOTRANSFERASE (ALT)\n",
       "1      Alanine aminotransferase                             ALT\n",
       "2      Alanine aminotransferase                             ALT\n",
       "3                       Albumin                         ALBUMIN\n",
       "4                       Albumin                  Albumin (>3.2)\n",
       "...                         ...                             ...\n",
       "13246              Urine output                   L Nephrostomy\n",
       "13247              Urine output                   Straight Cath\n",
       "13248              Urine output                     Ileoconduit\n",
       "13249              Urine output                        OR Urine\n",
       "13250              Urine output                     TF Residual\n",
       "\n",
       "[496 rows x 2 columns]"
      ]
     },
     "execution_count": 16,
     "metadata": {},
     "output_type": "execute_result"
    }
   ],
   "source": [
    "temp[['LEVEL1', 'MIMIC LABEL']].dropna()"
   ]
  },
  {
   "cell_type": "code",
   "execution_count": 35,
   "metadata": {},
   "outputs": [],
   "source": [
    "k = temp[['LEVEL2', 'MIMIC LABEL']].dropna()"
   ]
  },
  {
   "cell_type": "code",
   "execution_count": 41,
   "metadata": {},
   "outputs": [
    {
     "data": {
      "text/plain": [
       "'Hematocrit'"
      ]
     },
     "execution_count": 41,
     "metadata": {},
     "output_type": "execute_result"
    }
   ],
   "source": [
    "k[k['MIMIC LABEL']=='Hematocrit']['LEVEL2'].iloc[0]"
   ]
  },
  {
   "cell_type": "code",
   "execution_count": null,
   "metadata": {},
   "outputs": [],
   "source": []
  }
 ],
 "metadata": {
  "kernelspec": {
   "display_name": "Python 3.10.4 ('drug_lab')",
   "language": "python",
   "name": "python3"
  },
  "language_info": {
   "codemirror_mode": {
    "name": "ipython",
    "version": 3
   },
   "file_extension": ".py",
   "mimetype": "text/x-python",
   "name": "python",
   "nbconvert_exporter": "python",
   "pygments_lexer": "ipython3",
   "version": "3.10.4"
  },
  "orig_nbformat": 4,
  "vscode": {
   "interpreter": {
    "hash": "bdfae57a338f302dc1dcec357ac11e9f753ccc771aa1c4e860bf04580c454473"
   }
  }
 },
 "nbformat": 4,
 "nbformat_minor": 2
}
