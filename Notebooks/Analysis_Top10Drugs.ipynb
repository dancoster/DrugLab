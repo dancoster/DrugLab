{
  "nbformat": 4,
  "nbformat_minor": 0,
  "metadata": {
    "colab": {
      "name": "Analysis_Top10Drugs.ipynb",
      "provenance": [],
      "collapsed_sections": [
        "0yOlyupfETTu",
        "3IefbzZ5Ed-7",
        "9h3PNfqvtIDw",
        "pokY695AtJ_v",
        "RXnPW03otP-f"
      ],
      "authorship_tag": "ABX9TyM88P14c8G9STNlO8+SpDrd",
      "include_colab_link": true
    },
    "kernelspec": {
      "name": "python3",
      "display_name": "Python 3"
    },
    "language_info": {
      "name": "python"
    }
  },
  "cells": [
    {
      "cell_type": "markdown",
      "metadata": {
        "id": "view-in-github",
        "colab_type": "text"
      },
      "source": [
        "<a href=\"https://colab.research.google.com/github/dancoster/DrugLab/blob/dev/Notebooks/Analysis_Top10Drugs.ipynb\" target=\"_parent\"><img src=\"https://colab.research.google.com/assets/colab-badge.svg\" alt=\"Open In Colab\"/></a>"
      ]
    },
    {
      "cell_type": "markdown",
      "source": [
        "# Analysis on Drug<>Labtest pairs of Top 10 Drugs\n",
        "Run all cells or view results below."
      ],
      "metadata": {
        "id": "2zwZp69utymt"
      }
    },
    {
      "cell_type": "markdown",
      "source": [
        "## Import Libraries"
      ],
      "metadata": {
        "id": "0yOlyupfETTu"
      }
    },
    {
      "cell_type": "code",
      "execution_count": 1,
      "metadata": {
        "id": "G_uocHBXsR9u"
      },
      "outputs": [],
      "source": [
        "import pandas as pd\n",
        "import datetime\n",
        "import numpy as np\n",
        "from scipy.stats import mannwhitneyu\n",
        "from scipy import stats\n",
        "from tqdm import tqdm\n",
        "import os"
      ]
    },
    {
      "cell_type": "markdown",
      "source": [
        "## Load Data"
      ],
      "metadata": {
        "id": "3IefbzZ5Ed-7"
      }
    },
    {
      "cell_type": "code",
      "source": [
        "from google.colab import drive\n",
        "drive.mount('/content/drive')"
      ],
      "metadata": {
        "colab": {
          "base_uri": "https://localhost:8080/"
        },
        "id": "4sFpbpCzsnqY",
        "outputId": "d0947375-c1d8-44cc-a640-f4fd2f3e2912"
      },
      "execution_count": 2,
      "outputs": [
        {
          "output_type": "stream",
          "name": "stdout",
          "text": [
            "Mounted at /content/drive\n"
          ]
        }
      ]
    },
    {
      "cell_type": "code",
      "source": [
        "PARENT='/content/drive/MyDrive/TAU'\n",
        "DATA = PARENT+'/Datasets/mimiciii/1.4'"
      ],
      "metadata": {
        "id": "LvaxQv8FtOoA"
      },
      "execution_count": 3,
      "outputs": []
    },
    {
      "cell_type": "code",
      "source": [
        "for i in os.walk(os.path.join(DATA)):\n",
        "    print(i)"
      ],
      "metadata": {
        "colab": {
          "base_uri": "https://localhost:8080/"
        },
        "id": "SSl5xgWjtcye",
        "outputId": "a3fd9b2c-71ee-42bd-a6c0-da791fd738a4"
      },
      "execution_count": 4,
      "outputs": [
        {
          "output_type": "stream",
          "name": "stdout",
          "text": [
            "('/content/drive/MyDrive/TAU/Datasets/mimiciii/1.4', [], ['CALLOUT.csv.gz', 'ADMISSIONS.csv.gz', 'CAREGIVERS.csv.gz', 'D_ITEMS.csv.gz', 'D_ICD_PROCEDURES.csv.gz', 'D_ICD_DIAGNOSES.csv.gz', 'ICUSTAYS.csv.gz', 'CHARTEVENTS.csv.gz', 'DRGCODES.csv.gz', 'CPTEVENTS.csv.gz', 'DIAGNOSES_ICD.csv.gz', 'D_CPT.csv.gz', 'D_LABITEMS.csv.gz', 'DATETIMEEVENTS.csv.gz', 'INPUTEVENTS_CV.csv.gz', 'INPUTEVENTS_MV.csv.gz', 'LABEVENTS.csv.gz', 'MICROBIOLOGYEVENTS.csv.gz', 'OUTPUTEVENTS.csv.gz', 'PATIENTS.csv.gz', 'README.md', 'PROCEDURES_ICD.csv.gz', 'PRESCRIPTIONS.csv.gz', 'TRANSFERS.csv.gz', 'PROCEDUREEVENTS_MV.csv.gz', 'SERVICES.csv.gz', 'LICENSE.txt', 'NOTEEVENTS.csv.gz', 'SHA256SUMS.txt', 'index.html'])\n"
          ]
        }
      ]
    },
    {
      "cell_type": "markdown",
      "source": [
        "## Analysis"
      ],
      "metadata": {
        "id": "Ap-KEXdAexji"
      }
    },
    {
      "cell_type": "markdown",
      "source": [
        "### Load Results"
      ],
      "metadata": {
        "id": "9h3PNfqvtIDw"
      }
    },
    {
      "cell_type": "code",
      "source": [
        "results = pd.read_csv(os.path.join(PARENT, 'Drug-Labtest_Pairs_Top10Drugs.csv'))"
      ],
      "metadata": {
        "id": "qPr3S_BOey_4"
      },
      "execution_count": 40,
      "outputs": []
    },
    {
      "cell_type": "code",
      "source": [
        "results = results.drop(columns=['Unnamed: 0'])"
      ],
      "metadata": {
        "id": "FPlS3OzRfGzj"
      },
      "execution_count": 41,
      "outputs": []
    },
    {
      "cell_type": "code",
      "source": [
        "results"
      ],
      "metadata": {
        "colab": {
          "base_uri": "https://localhost:8080/",
          "height": 627
        },
        "id": "VXrW3q09fHVx",
        "outputId": "9ec7b13b-ccd8-41f9-f7cd-7cb44547f432"
      },
      "execution_count": 42,
      "outputs": [
        {
          "output_type": "execute_result",
          "data": {
            "text/plain": [
              "     Medication Name                    Feature Name  Number of patients  \\\n",
              "0         Furosemide                  Calcium, Total                3689   \n",
              "1         Furosemide                        Chloride                1968   \n",
              "2         Furosemide                      Creatinine                3930   \n",
              "3         Furosemide                       Phosphate                2442   \n",
              "4         Furosemide                       Potassium                 414   \n",
              "..               ...                             ...                 ...   \n",
              "421  Docusate Sodium            Calculated Total CO2                 480   \n",
              "422  Docusate Sodium          Potassium, Whole Blood                 107   \n",
              "423  Docusate Sodium                       Phenytoin                 134   \n",
              "424  Docusate Sodium                      Troponin T                 271   \n",
              "425  Docusate Sodium  Alanine Aminotransferase (ALT)                 607   \n",
              "\n",
              "     Feature Before(mean)  Feature Before(std)  Time Before(mean)  \\\n",
              "0                7.865194             0.596117          15.318731   \n",
              "1              106.545224             9.555180          15.720207   \n",
              "2                2.309898             1.588903          16.197752   \n",
              "3                3.661261             2.088406          15.352662   \n",
              "4                4.069082             1.339911          14.442351   \n",
              "..                    ...                  ...                ...   \n",
              "421             26.868750             8.603385          16.759549   \n",
              "422              4.128972             1.292869          12.129128   \n",
              "423              8.267164             6.803181          15.278731   \n",
              "424              1.312568             2.307688          15.977245   \n",
              "425            512.204283          1155.142509          16.297392   \n",
              "\n",
              "     Time Before(std)  Feature After(mean)  Feature After(std)  \\\n",
              "0            3.130199             7.895690            0.767306   \n",
              "1            3.192894           106.237297            9.658326   \n",
              "2            2.726862             2.295802            1.562848   \n",
              "3            3.674798             3.619165            2.088854   \n",
              "4            5.496923             4.050725            1.323301   \n",
              "..                ...                  ...                 ...   \n",
              "421          6.344186            27.554167            8.572738   \n",
              "422          8.536525             4.085047            1.282598   \n",
              "423          3.094043             8.167164            5.349426   \n",
              "424          4.758200             1.287048            2.276174   \n",
              "425          2.839126           464.683690         1080.419230   \n",
              "\n",
              "     Time After(mean)  Time After(std)  Mannwhitney-pvalue  Ttest-pvalue  \n",
              "0           12.782805         5.543262            0.000487      0.056653  \n",
              "1           11.904870         6.130098            0.015742      0.314740  \n",
              "2           12.027998         6.323819            0.127153      0.691735  \n",
              "3           12.280774         5.934769            0.479578      0.481294  \n",
              "4           10.155837         6.765043            0.454535      0.842826  \n",
              "..                ...              ...                 ...           ...  \n",
              "421          7.386979         6.572813            0.040627      0.216607  \n",
              "422          8.191900         7.232208            0.322723      0.803220  \n",
              "423         15.054851         3.909030            0.294080      0.893697  \n",
              "424         10.673063         6.441718            0.370285      0.896922  \n",
              "425         14.332867         5.191365            0.023268      0.459309  \n",
              "\n",
              "[426 rows x 13 columns]"
            ],
            "text/html": [
              "\n",
              "  <div id=\"df-a83ab815-591d-40b9-9982-443c3ded0bd2\">\n",
              "    <div class=\"colab-df-container\">\n",
              "      <div>\n",
              "<style scoped>\n",
              "    .dataframe tbody tr th:only-of-type {\n",
              "        vertical-align: middle;\n",
              "    }\n",
              "\n",
              "    .dataframe tbody tr th {\n",
              "        vertical-align: top;\n",
              "    }\n",
              "\n",
              "    .dataframe thead th {\n",
              "        text-align: right;\n",
              "    }\n",
              "</style>\n",
              "<table border=\"1\" class=\"dataframe\">\n",
              "  <thead>\n",
              "    <tr style=\"text-align: right;\">\n",
              "      <th></th>\n",
              "      <th>Medication Name</th>\n",
              "      <th>Feature Name</th>\n",
              "      <th>Number of patients</th>\n",
              "      <th>Feature Before(mean)</th>\n",
              "      <th>Feature Before(std)</th>\n",
              "      <th>Time Before(mean)</th>\n",
              "      <th>Time Before(std)</th>\n",
              "      <th>Feature After(mean)</th>\n",
              "      <th>Feature After(std)</th>\n",
              "      <th>Time After(mean)</th>\n",
              "      <th>Time After(std)</th>\n",
              "      <th>Mannwhitney-pvalue</th>\n",
              "      <th>Ttest-pvalue</th>\n",
              "    </tr>\n",
              "  </thead>\n",
              "  <tbody>\n",
              "    <tr>\n",
              "      <th>0</th>\n",
              "      <td>Furosemide</td>\n",
              "      <td>Calcium, Total</td>\n",
              "      <td>3689</td>\n",
              "      <td>7.865194</td>\n",
              "      <td>0.596117</td>\n",
              "      <td>15.318731</td>\n",
              "      <td>3.130199</td>\n",
              "      <td>7.895690</td>\n",
              "      <td>0.767306</td>\n",
              "      <td>12.782805</td>\n",
              "      <td>5.543262</td>\n",
              "      <td>0.000487</td>\n",
              "      <td>0.056653</td>\n",
              "    </tr>\n",
              "    <tr>\n",
              "      <th>1</th>\n",
              "      <td>Furosemide</td>\n",
              "      <td>Chloride</td>\n",
              "      <td>1968</td>\n",
              "      <td>106.545224</td>\n",
              "      <td>9.555180</td>\n",
              "      <td>15.720207</td>\n",
              "      <td>3.192894</td>\n",
              "      <td>106.237297</td>\n",
              "      <td>9.658326</td>\n",
              "      <td>11.904870</td>\n",
              "      <td>6.130098</td>\n",
              "      <td>0.015742</td>\n",
              "      <td>0.314740</td>\n",
              "    </tr>\n",
              "    <tr>\n",
              "      <th>2</th>\n",
              "      <td>Furosemide</td>\n",
              "      <td>Creatinine</td>\n",
              "      <td>3930</td>\n",
              "      <td>2.309898</td>\n",
              "      <td>1.588903</td>\n",
              "      <td>16.197752</td>\n",
              "      <td>2.726862</td>\n",
              "      <td>2.295802</td>\n",
              "      <td>1.562848</td>\n",
              "      <td>12.027998</td>\n",
              "      <td>6.323819</td>\n",
              "      <td>0.127153</td>\n",
              "      <td>0.691735</td>\n",
              "    </tr>\n",
              "    <tr>\n",
              "      <th>3</th>\n",
              "      <td>Furosemide</td>\n",
              "      <td>Phosphate</td>\n",
              "      <td>2442</td>\n",
              "      <td>3.661261</td>\n",
              "      <td>2.088406</td>\n",
              "      <td>15.352662</td>\n",
              "      <td>3.674798</td>\n",
              "      <td>3.619165</td>\n",
              "      <td>2.088854</td>\n",
              "      <td>12.280774</td>\n",
              "      <td>5.934769</td>\n",
              "      <td>0.479578</td>\n",
              "      <td>0.481294</td>\n",
              "    </tr>\n",
              "    <tr>\n",
              "      <th>4</th>\n",
              "      <td>Furosemide</td>\n",
              "      <td>Potassium</td>\n",
              "      <td>414</td>\n",
              "      <td>4.069082</td>\n",
              "      <td>1.339911</td>\n",
              "      <td>14.442351</td>\n",
              "      <td>5.496923</td>\n",
              "      <td>4.050725</td>\n",
              "      <td>1.323301</td>\n",
              "      <td>10.155837</td>\n",
              "      <td>6.765043</td>\n",
              "      <td>0.454535</td>\n",
              "      <td>0.842826</td>\n",
              "    </tr>\n",
              "    <tr>\n",
              "      <th>...</th>\n",
              "      <td>...</td>\n",
              "      <td>...</td>\n",
              "      <td>...</td>\n",
              "      <td>...</td>\n",
              "      <td>...</td>\n",
              "      <td>...</td>\n",
              "      <td>...</td>\n",
              "      <td>...</td>\n",
              "      <td>...</td>\n",
              "      <td>...</td>\n",
              "      <td>...</td>\n",
              "      <td>...</td>\n",
              "      <td>...</td>\n",
              "    </tr>\n",
              "    <tr>\n",
              "      <th>421</th>\n",
              "      <td>Docusate Sodium</td>\n",
              "      <td>Calculated Total CO2</td>\n",
              "      <td>480</td>\n",
              "      <td>26.868750</td>\n",
              "      <td>8.603385</td>\n",
              "      <td>16.759549</td>\n",
              "      <td>6.344186</td>\n",
              "      <td>27.554167</td>\n",
              "      <td>8.572738</td>\n",
              "      <td>7.386979</td>\n",
              "      <td>6.572813</td>\n",
              "      <td>0.040627</td>\n",
              "      <td>0.216607</td>\n",
              "    </tr>\n",
              "    <tr>\n",
              "      <th>422</th>\n",
              "      <td>Docusate Sodium</td>\n",
              "      <td>Potassium, Whole Blood</td>\n",
              "      <td>107</td>\n",
              "      <td>4.128972</td>\n",
              "      <td>1.292869</td>\n",
              "      <td>12.129128</td>\n",
              "      <td>8.536525</td>\n",
              "      <td>4.085047</td>\n",
              "      <td>1.282598</td>\n",
              "      <td>8.191900</td>\n",
              "      <td>7.232208</td>\n",
              "      <td>0.322723</td>\n",
              "      <td>0.803220</td>\n",
              "    </tr>\n",
              "    <tr>\n",
              "      <th>423</th>\n",
              "      <td>Docusate Sodium</td>\n",
              "      <td>Phenytoin</td>\n",
              "      <td>134</td>\n",
              "      <td>8.267164</td>\n",
              "      <td>6.803181</td>\n",
              "      <td>15.278731</td>\n",
              "      <td>3.094043</td>\n",
              "      <td>8.167164</td>\n",
              "      <td>5.349426</td>\n",
              "      <td>15.054851</td>\n",
              "      <td>3.909030</td>\n",
              "      <td>0.294080</td>\n",
              "      <td>0.893697</td>\n",
              "    </tr>\n",
              "    <tr>\n",
              "      <th>424</th>\n",
              "      <td>Docusate Sodium</td>\n",
              "      <td>Troponin T</td>\n",
              "      <td>271</td>\n",
              "      <td>1.312568</td>\n",
              "      <td>2.307688</td>\n",
              "      <td>15.977245</td>\n",
              "      <td>4.758200</td>\n",
              "      <td>1.287048</td>\n",
              "      <td>2.276174</td>\n",
              "      <td>10.673063</td>\n",
              "      <td>6.441718</td>\n",
              "      <td>0.370285</td>\n",
              "      <td>0.896922</td>\n",
              "    </tr>\n",
              "    <tr>\n",
              "      <th>425</th>\n",
              "      <td>Docusate Sodium</td>\n",
              "      <td>Alanine Aminotransferase (ALT)</td>\n",
              "      <td>607</td>\n",
              "      <td>512.204283</td>\n",
              "      <td>1155.142509</td>\n",
              "      <td>16.297392</td>\n",
              "      <td>2.839126</td>\n",
              "      <td>464.683690</td>\n",
              "      <td>1080.419230</td>\n",
              "      <td>14.332867</td>\n",
              "      <td>5.191365</td>\n",
              "      <td>0.023268</td>\n",
              "      <td>0.459309</td>\n",
              "    </tr>\n",
              "  </tbody>\n",
              "</table>\n",
              "<p>426 rows × 13 columns</p>\n",
              "</div>\n",
              "      <button class=\"colab-df-convert\" onclick=\"convertToInteractive('df-a83ab815-591d-40b9-9982-443c3ded0bd2')\"\n",
              "              title=\"Convert this dataframe to an interactive table.\"\n",
              "              style=\"display:none;\">\n",
              "        \n",
              "  <svg xmlns=\"http://www.w3.org/2000/svg\" height=\"24px\"viewBox=\"0 0 24 24\"\n",
              "       width=\"24px\">\n",
              "    <path d=\"M0 0h24v24H0V0z\" fill=\"none\"/>\n",
              "    <path d=\"M18.56 5.44l.94 2.06.94-2.06 2.06-.94-2.06-.94-.94-2.06-.94 2.06-2.06.94zm-11 1L8.5 8.5l.94-2.06 2.06-.94-2.06-.94L8.5 2.5l-.94 2.06-2.06.94zm10 10l.94 2.06.94-2.06 2.06-.94-2.06-.94-.94-2.06-.94 2.06-2.06.94z\"/><path d=\"M17.41 7.96l-1.37-1.37c-.4-.4-.92-.59-1.43-.59-.52 0-1.04.2-1.43.59L10.3 9.45l-7.72 7.72c-.78.78-.78 2.05 0 2.83L4 21.41c.39.39.9.59 1.41.59.51 0 1.02-.2 1.41-.59l7.78-7.78 2.81-2.81c.8-.78.8-2.07 0-2.86zM5.41 20L4 18.59l7.72-7.72 1.47 1.35L5.41 20z\"/>\n",
              "  </svg>\n",
              "      </button>\n",
              "      \n",
              "  <style>\n",
              "    .colab-df-container {\n",
              "      display:flex;\n",
              "      flex-wrap:wrap;\n",
              "      gap: 12px;\n",
              "    }\n",
              "\n",
              "    .colab-df-convert {\n",
              "      background-color: #E8F0FE;\n",
              "      border: none;\n",
              "      border-radius: 50%;\n",
              "      cursor: pointer;\n",
              "      display: none;\n",
              "      fill: #1967D2;\n",
              "      height: 32px;\n",
              "      padding: 0 0 0 0;\n",
              "      width: 32px;\n",
              "    }\n",
              "\n",
              "    .colab-df-convert:hover {\n",
              "      background-color: #E2EBFA;\n",
              "      box-shadow: 0px 1px 2px rgba(60, 64, 67, 0.3), 0px 1px 3px 1px rgba(60, 64, 67, 0.15);\n",
              "      fill: #174EA6;\n",
              "    }\n",
              "\n",
              "    [theme=dark] .colab-df-convert {\n",
              "      background-color: #3B4455;\n",
              "      fill: #D2E3FC;\n",
              "    }\n",
              "\n",
              "    [theme=dark] .colab-df-convert:hover {\n",
              "      background-color: #434B5C;\n",
              "      box-shadow: 0px 1px 3px 1px rgba(0, 0, 0, 0.15);\n",
              "      filter: drop-shadow(0px 1px 2px rgba(0, 0, 0, 0.3));\n",
              "      fill: #FFFFFF;\n",
              "    }\n",
              "  </style>\n",
              "\n",
              "      <script>\n",
              "        const buttonEl =\n",
              "          document.querySelector('#df-a83ab815-591d-40b9-9982-443c3ded0bd2 button.colab-df-convert');\n",
              "        buttonEl.style.display =\n",
              "          google.colab.kernel.accessAllowed ? 'block' : 'none';\n",
              "\n",
              "        async function convertToInteractive(key) {\n",
              "          const element = document.querySelector('#df-a83ab815-591d-40b9-9982-443c3ded0bd2');\n",
              "          const dataTable =\n",
              "            await google.colab.kernel.invokeFunction('convertToInteractive',\n",
              "                                                     [key], {});\n",
              "          if (!dataTable) return;\n",
              "\n",
              "          const docLinkHtml = 'Like what you see? Visit the ' +\n",
              "            '<a target=\"_blank\" href=https://colab.research.google.com/notebooks/data_table.ipynb>data table notebook</a>'\n",
              "            + ' to learn more about interactive tables.';\n",
              "          element.innerHTML = '';\n",
              "          dataTable['output_type'] = 'display_data';\n",
              "          await google.colab.output.renderOutput(dataTable, element);\n",
              "          const docLink = document.createElement('div');\n",
              "          docLink.innerHTML = docLinkHtml;\n",
              "          element.appendChild(docLink);\n",
              "        }\n",
              "      </script>\n",
              "    </div>\n",
              "  </div>\n",
              "  "
            ]
          },
          "metadata": {},
          "execution_count": 42
        }
      ]
    },
    {
      "cell_type": "markdown",
      "source": [
        "### Significance Test - 0.05 P value threshold"
      ],
      "metadata": {
        "id": "pokY695AtJ_v"
      }
    },
    {
      "cell_type": "code",
      "source": [
        "results[results['Ttest-pvalue']>0.05]"
      ],
      "metadata": {
        "colab": {
          "base_uri": "https://localhost:8080/",
          "height": 627
        },
        "id": "VvDd0XHYfT4R",
        "outputId": "a43252f2-23db-4168-e47b-cad7e5690803"
      },
      "execution_count": 43,
      "outputs": [
        {
          "output_type": "execute_result",
          "data": {
            "text/plain": [
              "     Medication Name                    Feature Name  Number of patients  \\\n",
              "0         Furosemide                  Calcium, Total                3689   \n",
              "1         Furosemide                        Chloride                1968   \n",
              "2         Furosemide                      Creatinine                3930   \n",
              "3         Furosemide                       Phosphate                2442   \n",
              "4         Furosemide                       Potassium                 414   \n",
              "..               ...                             ...                 ...   \n",
              "421  Docusate Sodium            Calculated Total CO2                 480   \n",
              "422  Docusate Sodium          Potassium, Whole Blood                 107   \n",
              "423  Docusate Sodium                       Phenytoin                 134   \n",
              "424  Docusate Sodium                      Troponin T                 271   \n",
              "425  Docusate Sodium  Alanine Aminotransferase (ALT)                 607   \n",
              "\n",
              "     Feature Before(mean)  Feature Before(std)  Time Before(mean)  \\\n",
              "0                7.865194             0.596117          15.318731   \n",
              "1              106.545224             9.555180          15.720207   \n",
              "2                2.309898             1.588903          16.197752   \n",
              "3                3.661261             2.088406          15.352662   \n",
              "4                4.069082             1.339911          14.442351   \n",
              "..                    ...                  ...                ...   \n",
              "421             26.868750             8.603385          16.759549   \n",
              "422              4.128972             1.292869          12.129128   \n",
              "423              8.267164             6.803181          15.278731   \n",
              "424              1.312568             2.307688          15.977245   \n",
              "425            512.204283          1155.142509          16.297392   \n",
              "\n",
              "     Time Before(std)  Feature After(mean)  Feature After(std)  \\\n",
              "0            3.130199             7.895690            0.767306   \n",
              "1            3.192894           106.237297            9.658326   \n",
              "2            2.726862             2.295802            1.562848   \n",
              "3            3.674798             3.619165            2.088854   \n",
              "4            5.496923             4.050725            1.323301   \n",
              "..                ...                  ...                 ...   \n",
              "421          6.344186            27.554167            8.572738   \n",
              "422          8.536525             4.085047            1.282598   \n",
              "423          3.094043             8.167164            5.349426   \n",
              "424          4.758200             1.287048            2.276174   \n",
              "425          2.839126           464.683690         1080.419230   \n",
              "\n",
              "     Time After(mean)  Time After(std)  Mannwhitney-pvalue  Ttest-pvalue  \n",
              "0           12.782805         5.543262            0.000487      0.056653  \n",
              "1           11.904870         6.130098            0.015742      0.314740  \n",
              "2           12.027998         6.323819            0.127153      0.691735  \n",
              "3           12.280774         5.934769            0.479578      0.481294  \n",
              "4           10.155837         6.765043            0.454535      0.842826  \n",
              "..                ...              ...                 ...           ...  \n",
              "421          7.386979         6.572813            0.040627      0.216607  \n",
              "422          8.191900         7.232208            0.322723      0.803220  \n",
              "423         15.054851         3.909030            0.294080      0.893697  \n",
              "424         10.673063         6.441718            0.370285      0.896922  \n",
              "425         14.332867         5.191365            0.023268      0.459309  \n",
              "\n",
              "[359 rows x 13 columns]"
            ],
            "text/html": [
              "\n",
              "  <div id=\"df-7468d5ac-3b48-4024-8598-fdfd29481c5d\">\n",
              "    <div class=\"colab-df-container\">\n",
              "      <div>\n",
              "<style scoped>\n",
              "    .dataframe tbody tr th:only-of-type {\n",
              "        vertical-align: middle;\n",
              "    }\n",
              "\n",
              "    .dataframe tbody tr th {\n",
              "        vertical-align: top;\n",
              "    }\n",
              "\n",
              "    .dataframe thead th {\n",
              "        text-align: right;\n",
              "    }\n",
              "</style>\n",
              "<table border=\"1\" class=\"dataframe\">\n",
              "  <thead>\n",
              "    <tr style=\"text-align: right;\">\n",
              "      <th></th>\n",
              "      <th>Medication Name</th>\n",
              "      <th>Feature Name</th>\n",
              "      <th>Number of patients</th>\n",
              "      <th>Feature Before(mean)</th>\n",
              "      <th>Feature Before(std)</th>\n",
              "      <th>Time Before(mean)</th>\n",
              "      <th>Time Before(std)</th>\n",
              "      <th>Feature After(mean)</th>\n",
              "      <th>Feature After(std)</th>\n",
              "      <th>Time After(mean)</th>\n",
              "      <th>Time After(std)</th>\n",
              "      <th>Mannwhitney-pvalue</th>\n",
              "      <th>Ttest-pvalue</th>\n",
              "    </tr>\n",
              "  </thead>\n",
              "  <tbody>\n",
              "    <tr>\n",
              "      <th>0</th>\n",
              "      <td>Furosemide</td>\n",
              "      <td>Calcium, Total</td>\n",
              "      <td>3689</td>\n",
              "      <td>7.865194</td>\n",
              "      <td>0.596117</td>\n",
              "      <td>15.318731</td>\n",
              "      <td>3.130199</td>\n",
              "      <td>7.895690</td>\n",
              "      <td>0.767306</td>\n",
              "      <td>12.782805</td>\n",
              "      <td>5.543262</td>\n",
              "      <td>0.000487</td>\n",
              "      <td>0.056653</td>\n",
              "    </tr>\n",
              "    <tr>\n",
              "      <th>1</th>\n",
              "      <td>Furosemide</td>\n",
              "      <td>Chloride</td>\n",
              "      <td>1968</td>\n",
              "      <td>106.545224</td>\n",
              "      <td>9.555180</td>\n",
              "      <td>15.720207</td>\n",
              "      <td>3.192894</td>\n",
              "      <td>106.237297</td>\n",
              "      <td>9.658326</td>\n",
              "      <td>11.904870</td>\n",
              "      <td>6.130098</td>\n",
              "      <td>0.015742</td>\n",
              "      <td>0.314740</td>\n",
              "    </tr>\n",
              "    <tr>\n",
              "      <th>2</th>\n",
              "      <td>Furosemide</td>\n",
              "      <td>Creatinine</td>\n",
              "      <td>3930</td>\n",
              "      <td>2.309898</td>\n",
              "      <td>1.588903</td>\n",
              "      <td>16.197752</td>\n",
              "      <td>2.726862</td>\n",
              "      <td>2.295802</td>\n",
              "      <td>1.562848</td>\n",
              "      <td>12.027998</td>\n",
              "      <td>6.323819</td>\n",
              "      <td>0.127153</td>\n",
              "      <td>0.691735</td>\n",
              "    </tr>\n",
              "    <tr>\n",
              "      <th>3</th>\n",
              "      <td>Furosemide</td>\n",
              "      <td>Phosphate</td>\n",
              "      <td>2442</td>\n",
              "      <td>3.661261</td>\n",
              "      <td>2.088406</td>\n",
              "      <td>15.352662</td>\n",
              "      <td>3.674798</td>\n",
              "      <td>3.619165</td>\n",
              "      <td>2.088854</td>\n",
              "      <td>12.280774</td>\n",
              "      <td>5.934769</td>\n",
              "      <td>0.479578</td>\n",
              "      <td>0.481294</td>\n",
              "    </tr>\n",
              "    <tr>\n",
              "      <th>4</th>\n",
              "      <td>Furosemide</td>\n",
              "      <td>Potassium</td>\n",
              "      <td>414</td>\n",
              "      <td>4.069082</td>\n",
              "      <td>1.339911</td>\n",
              "      <td>14.442351</td>\n",
              "      <td>5.496923</td>\n",
              "      <td>4.050725</td>\n",
              "      <td>1.323301</td>\n",
              "      <td>10.155837</td>\n",
              "      <td>6.765043</td>\n",
              "      <td>0.454535</td>\n",
              "      <td>0.842826</td>\n",
              "    </tr>\n",
              "    <tr>\n",
              "      <th>...</th>\n",
              "      <td>...</td>\n",
              "      <td>...</td>\n",
              "      <td>...</td>\n",
              "      <td>...</td>\n",
              "      <td>...</td>\n",
              "      <td>...</td>\n",
              "      <td>...</td>\n",
              "      <td>...</td>\n",
              "      <td>...</td>\n",
              "      <td>...</td>\n",
              "      <td>...</td>\n",
              "      <td>...</td>\n",
              "      <td>...</td>\n",
              "    </tr>\n",
              "    <tr>\n",
              "      <th>421</th>\n",
              "      <td>Docusate Sodium</td>\n",
              "      <td>Calculated Total CO2</td>\n",
              "      <td>480</td>\n",
              "      <td>26.868750</td>\n",
              "      <td>8.603385</td>\n",
              "      <td>16.759549</td>\n",
              "      <td>6.344186</td>\n",
              "      <td>27.554167</td>\n",
              "      <td>8.572738</td>\n",
              "      <td>7.386979</td>\n",
              "      <td>6.572813</td>\n",
              "      <td>0.040627</td>\n",
              "      <td>0.216607</td>\n",
              "    </tr>\n",
              "    <tr>\n",
              "      <th>422</th>\n",
              "      <td>Docusate Sodium</td>\n",
              "      <td>Potassium, Whole Blood</td>\n",
              "      <td>107</td>\n",
              "      <td>4.128972</td>\n",
              "      <td>1.292869</td>\n",
              "      <td>12.129128</td>\n",
              "      <td>8.536525</td>\n",
              "      <td>4.085047</td>\n",
              "      <td>1.282598</td>\n",
              "      <td>8.191900</td>\n",
              "      <td>7.232208</td>\n",
              "      <td>0.322723</td>\n",
              "      <td>0.803220</td>\n",
              "    </tr>\n",
              "    <tr>\n",
              "      <th>423</th>\n",
              "      <td>Docusate Sodium</td>\n",
              "      <td>Phenytoin</td>\n",
              "      <td>134</td>\n",
              "      <td>8.267164</td>\n",
              "      <td>6.803181</td>\n",
              "      <td>15.278731</td>\n",
              "      <td>3.094043</td>\n",
              "      <td>8.167164</td>\n",
              "      <td>5.349426</td>\n",
              "      <td>15.054851</td>\n",
              "      <td>3.909030</td>\n",
              "      <td>0.294080</td>\n",
              "      <td>0.893697</td>\n",
              "    </tr>\n",
              "    <tr>\n",
              "      <th>424</th>\n",
              "      <td>Docusate Sodium</td>\n",
              "      <td>Troponin T</td>\n",
              "      <td>271</td>\n",
              "      <td>1.312568</td>\n",
              "      <td>2.307688</td>\n",
              "      <td>15.977245</td>\n",
              "      <td>4.758200</td>\n",
              "      <td>1.287048</td>\n",
              "      <td>2.276174</td>\n",
              "      <td>10.673063</td>\n",
              "      <td>6.441718</td>\n",
              "      <td>0.370285</td>\n",
              "      <td>0.896922</td>\n",
              "    </tr>\n",
              "    <tr>\n",
              "      <th>425</th>\n",
              "      <td>Docusate Sodium</td>\n",
              "      <td>Alanine Aminotransferase (ALT)</td>\n",
              "      <td>607</td>\n",
              "      <td>512.204283</td>\n",
              "      <td>1155.142509</td>\n",
              "      <td>16.297392</td>\n",
              "      <td>2.839126</td>\n",
              "      <td>464.683690</td>\n",
              "      <td>1080.419230</td>\n",
              "      <td>14.332867</td>\n",
              "      <td>5.191365</td>\n",
              "      <td>0.023268</td>\n",
              "      <td>0.459309</td>\n",
              "    </tr>\n",
              "  </tbody>\n",
              "</table>\n",
              "<p>359 rows × 13 columns</p>\n",
              "</div>\n",
              "      <button class=\"colab-df-convert\" onclick=\"convertToInteractive('df-7468d5ac-3b48-4024-8598-fdfd29481c5d')\"\n",
              "              title=\"Convert this dataframe to an interactive table.\"\n",
              "              style=\"display:none;\">\n",
              "        \n",
              "  <svg xmlns=\"http://www.w3.org/2000/svg\" height=\"24px\"viewBox=\"0 0 24 24\"\n",
              "       width=\"24px\">\n",
              "    <path d=\"M0 0h24v24H0V0z\" fill=\"none\"/>\n",
              "    <path d=\"M18.56 5.44l.94 2.06.94-2.06 2.06-.94-2.06-.94-.94-2.06-.94 2.06-2.06.94zm-11 1L8.5 8.5l.94-2.06 2.06-.94-2.06-.94L8.5 2.5l-.94 2.06-2.06.94zm10 10l.94 2.06.94-2.06 2.06-.94-2.06-.94-.94-2.06-.94 2.06-2.06.94z\"/><path d=\"M17.41 7.96l-1.37-1.37c-.4-.4-.92-.59-1.43-.59-.52 0-1.04.2-1.43.59L10.3 9.45l-7.72 7.72c-.78.78-.78 2.05 0 2.83L4 21.41c.39.39.9.59 1.41.59.51 0 1.02-.2 1.41-.59l7.78-7.78 2.81-2.81c.8-.78.8-2.07 0-2.86zM5.41 20L4 18.59l7.72-7.72 1.47 1.35L5.41 20z\"/>\n",
              "  </svg>\n",
              "      </button>\n",
              "      \n",
              "  <style>\n",
              "    .colab-df-container {\n",
              "      display:flex;\n",
              "      flex-wrap:wrap;\n",
              "      gap: 12px;\n",
              "    }\n",
              "\n",
              "    .colab-df-convert {\n",
              "      background-color: #E8F0FE;\n",
              "      border: none;\n",
              "      border-radius: 50%;\n",
              "      cursor: pointer;\n",
              "      display: none;\n",
              "      fill: #1967D2;\n",
              "      height: 32px;\n",
              "      padding: 0 0 0 0;\n",
              "      width: 32px;\n",
              "    }\n",
              "\n",
              "    .colab-df-convert:hover {\n",
              "      background-color: #E2EBFA;\n",
              "      box-shadow: 0px 1px 2px rgba(60, 64, 67, 0.3), 0px 1px 3px 1px rgba(60, 64, 67, 0.15);\n",
              "      fill: #174EA6;\n",
              "    }\n",
              "\n",
              "    [theme=dark] .colab-df-convert {\n",
              "      background-color: #3B4455;\n",
              "      fill: #D2E3FC;\n",
              "    }\n",
              "\n",
              "    [theme=dark] .colab-df-convert:hover {\n",
              "      background-color: #434B5C;\n",
              "      box-shadow: 0px 1px 3px 1px rgba(0, 0, 0, 0.15);\n",
              "      filter: drop-shadow(0px 1px 2px rgba(0, 0, 0, 0.3));\n",
              "      fill: #FFFFFF;\n",
              "    }\n",
              "  </style>\n",
              "\n",
              "      <script>\n",
              "        const buttonEl =\n",
              "          document.querySelector('#df-7468d5ac-3b48-4024-8598-fdfd29481c5d button.colab-df-convert');\n",
              "        buttonEl.style.display =\n",
              "          google.colab.kernel.accessAllowed ? 'block' : 'none';\n",
              "\n",
              "        async function convertToInteractive(key) {\n",
              "          const element = document.querySelector('#df-7468d5ac-3b48-4024-8598-fdfd29481c5d');\n",
              "          const dataTable =\n",
              "            await google.colab.kernel.invokeFunction('convertToInteractive',\n",
              "                                                     [key], {});\n",
              "          if (!dataTable) return;\n",
              "\n",
              "          const docLinkHtml = 'Like what you see? Visit the ' +\n",
              "            '<a target=\"_blank\" href=https://colab.research.google.com/notebooks/data_table.ipynb>data table notebook</a>'\n",
              "            + ' to learn more about interactive tables.';\n",
              "          element.innerHTML = '';\n",
              "          dataTable['output_type'] = 'display_data';\n",
              "          await google.colab.output.renderOutput(dataTable, element);\n",
              "          const docLink = document.createElement('div');\n",
              "          docLink.innerHTML = docLinkHtml;\n",
              "          element.appendChild(docLink);\n",
              "        }\n",
              "      </script>\n",
              "    </div>\n",
              "  </div>\n",
              "  "
            ]
          },
          "metadata": {},
          "execution_count": 43
        }
      ]
    },
    {
      "cell_type": "code",
      "source": [
        "significant = results[results['Ttest-pvalue']<=0.05]"
      ],
      "metadata": {
        "id": "FBYygnf6fddJ"
      },
      "execution_count": 44,
      "outputs": []
    },
    {
      "cell_type": "markdown",
      "source": [
        "### Plots and Analysis"
      ],
      "metadata": {
        "id": "RXnPW03otP-f"
      }
    },
    {
      "cell_type": "code",
      "source": [
        "vals = significant.groupby('Medication Name').sum()['Number of patients']"
      ],
      "metadata": {
        "id": "GXyuxLAVfjr4"
      },
      "execution_count": 45,
      "outputs": []
    },
    {
      "cell_type": "code",
      "source": [
        "vals"
      ],
      "metadata": {
        "colab": {
          "base_uri": "https://localhost:8080/"
        },
        "id": "NtL-EMnOiV8l",
        "outputId": "9d5bad50-1cc5-4d25-b446-eee07893f556"
      },
      "execution_count": 46,
      "outputs": [
        {
          "output_type": "execute_result",
          "data": {
            "text/plain": [
              "Medication Name\n",
              "Acetaminophen          60731\n",
              "Docusate Sodium        44501\n",
              "Furosemide             21077\n",
              "Heparin                23947\n",
              "Insulin                63210\n",
              "Lorazepam               6758\n",
              "Metoprolol              3128\n",
              "Metoprolol Tartrate     1978\n",
              "Morphine Sulfate       50023\n",
              "Potassium Chloride     15461\n",
              "Name: Number of patients, dtype: int64"
            ]
          },
          "metadata": {},
          "execution_count": 46
        }
      ]
    },
    {
      "cell_type": "code",
      "source": [
        "import matplotlib.pyplot as plt"
      ],
      "metadata": {
        "id": "Bv6TW2IegcoQ"
      },
      "execution_count": 48,
      "outputs": []
    },
    {
      "cell_type": "code",
      "source": [
        "x = list(vals.keys())\n",
        "y = list(vals)"
      ],
      "metadata": {
        "id": "0C3UFqjHf87w"
      },
      "execution_count": 47,
      "outputs": []
    },
    {
      "cell_type": "code",
      "source": [
        "plt.bar(x, y)\n",
        "plt.xticks(rotation=90)\n",
        "plt.show()"
      ],
      "metadata": {
        "colab": {
          "base_uri": "https://localhost:8080/",
          "height": 351
        },
        "id": "FdGIaGAQgffp",
        "outputId": "e3246bff-8689-43dd-8b6d-b3c6112fbfb9"
      },
      "execution_count": 51,
      "outputs": [
        {
          "output_type": "display_data",
          "data": {
            "text/plain": [
              "<Figure size 432x288 with 1 Axes>"
            ],
            "image/png": "[encoded data removed]"
          },
          "metadata": {
            "needs_background": "light"
          }
        }
      ]
    },
    {
      "cell_type": "code",
      "source": [
        ""
      ],
      "metadata": {
        "id": "C_lM2RJLgkfp"
      },
      "execution_count": 49,
      "outputs": []
    }
  ]
}