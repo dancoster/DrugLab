{
 "cells": [
  {
   "cell_type": "code",
   "execution_count": null,
   "metadata": {},
   "outputs": [],
   "source": [
    "import psycopg2\n",
    "import pandas as pd\n",
    "import datetime\n",
    "import numpy as np\n",
    "from scipy.stats import mannwhitneyu\n",
    "from scipy import stats"
   ]
  },
  {
   "cell_type": "code",
   "execution_count": null,
   "metadata": {},
   "outputs": [],
   "source": [
    "conn = psycopg2.connect(host=\"localhost\", \n",
    "port=\"5432\", \n",
    "user=\"postgres\", \n",
    "password=\"abcdef12\", \n",
    "database=\"mimic\", \n",
    "options=\"-c search_path=mimiciii,public\")"
   ]
  },
  {
   "cell_type": "code",
   "execution_count": null,
   "metadata": {},
   "outputs": [],
   "source": [
    "\n",
    "lab_query = \"SELECT l.subject_id,l.hadm_id, d.label, l.valuenum, l.valueuom, l.charttime from labevents l inner join d_labitems d on l.itemid=d.itemid where l.valuenum is NOT NULL;\"\n",
    "vitals_query = \"SELECT c.subject_id,c.hadm_id,d.label,  c.valuenum, c.valueuom ,d.category, c.charttime from chartevents_1 c inner join d_items d on c.itemid=d.itemid where c.valuenum is NOT NULL;\"\n",
    "admission_query = \"SELECT subject_id,hadm_id from admissions;\"\n",
    "top_meds_query = \"SELECT drug,  COUNT(drug) AS value_occurrence FROM  prescriptions GROUP BY drug ORDER BY value_occurrence DESC LIMIT 100;\"\n",
    "patient_presc_query = \"SELECT subject_id,hadm_id,startdate,drug,dose_val_rx from prescriptions;\""
   ]
  },
  {
   "cell_type": "code",
   "execution_count": null,
   "metadata": {},
   "outputs": [],
   "source": [
    "def remove_multiple_admissions(df):\n",
    "    \"\"\"Removes hospital admissions that occur more than once for the same patient\n",
    "  \n",
    "    Parameters:\n",
    "    df (DataFrame): Takes in dataframe with multiple hospital admissions\n",
    "  \n",
    "    Returns:\n",
    "    Dataframe: Returns dataframe with multiple hospital admissions removed\n",
    "  \n",
    "    \"\"\"\n",
    "    first_admission_df = pd.read_sql_query(admission_query, conn)\n",
    "    first_admission_df=first_admission_df.drop_duplicates(subset=['subject_id'], keep='first')\n",
    "    df = df[df['hadm_id'].isin(first_admission_df['hadm_id'])]\n",
    "    return df\n"
   ]
  },
  {
   "cell_type": "code",
   "execution_count": null,
   "metadata": {},
   "outputs": [],
   "source": [
    "lab_measurements_df = pd.read_sql_query(lab_query, conn)"
   ]
  },
  {
   "cell_type": "code",
   "execution_count": null,
   "metadata": {},
   "outputs": [],
   "source": [
    "top100_drugs_df = pd.read_sql_query(top_meds_query, conn)\n",
    "patient_presc_df = pd.read_sql_query(patient_presc_query, conn)\n",
    "patient_presc_df['startdate']+=datetime.timedelta(hours=12)"
   ]
  },
  {
   "cell_type": "code",
   "execution_count": null,
   "metadata": {},
   "outputs": [],
   "source": [
    "patient_presc_df=remove_multiple_admissions(patient_presc_df)\n",
    "#Select patients taking the top 100 drugs\n",
    "patient_presc_df = patient_presc_df[patient_presc_df['drug'].isin(top100_drugs_df['drug'])]"
   ]
  },
  {
   "cell_type": "code",
   "execution_count": null,
   "metadata": {},
   "outputs": [],
   "source": [
    "#To reduce size of the dataset\n",
    "lab_measurements_df=lab_measurements_df[lab_measurements_df.duplicated(subset=['subject_id','label'],keep=False)]\n",
    "lab_measurements_df = lab_measurements_df[lab_measurements_df['hadm_id'].isin(patient_presc_df['hadm_id'])]"
   ]
  },
  {
   "cell_type": "code",
   "execution_count": null,
   "metadata": {},
   "outputs": [],
   "source": [
    "def labpairing(drugname,prescdf,labdf,labname):\n",
    "    \"\"\"Pairs the drug input with each lab test\n",
    "\n",
    "    Parameters:\n",
    "    drugname (String): Drug Name\n",
    "    prescdf (DataFrame): Dataframe containing the prescription data\n",
    "    labdf (DataFrame): Dataframe containing the lab measurement data\n",
    "    labname (DataFrame): Lab Test Name\n",
    "    Returns:\n",
    "    DataFrame: Contains all the rows of values and times for that particular drug lab apir\n",
    "  \n",
    "    \"\"\"\n",
    "    #Select patients who have taken the drug\n",
    "    prescdf = prescdf[prescdf['drug']==drugname]\n",
    "    prescdf=prescdf.drop_duplicates(subset=['subject_id'], keep='first')\n",
    "    #Select lab measurements of patients who have taken the drug\n",
    "    labdf = labdf[labdf['hadm_id'].isin(prescdf['hadm_id'])]\n",
    "    #Selects the lab measurement entered\n",
    "    drug_lab_specific = labdf[labdf['label']==labname]\n",
    "    mergeddf=drug_lab_specific.merge(prescdf,on=['hadm_id','subject_id'])\n",
    "    mergeddf[\"timefromprescription\"]=mergeddf[\"charttime\"]-mergeddf[\"startdate\"]\n",
    "    mergeddf = mergeddf[(mergeddf['timefromprescription']>datetime.timedelta(days=-1))&(mergeddf['timefromprescription']<datetime.timedelta(days=1))]\n",
    "    posmergeddf=mergeddf.loc[mergeddf.timefromprescription > datetime.timedelta(days=0)]\n",
    "    negmergeddf=mergeddf.loc[mergeddf.timefromprescription < datetime.timedelta(days=0)]\n",
    "    #Only keep values for which we have both before and after\n",
    "    posmergeddf=posmergeddf[posmergeddf['hadm_id'].isin(negmergeddf['hadm_id'])]\n",
    "    negmergeddf=negmergeddf[negmergeddf['hadm_id'].isin(posmergeddf['hadm_id'])]\n",
    "    #Select the values closest to 0\n",
    "    posmergeddf=posmergeddf.loc[posmergeddf.groupby('subject_id').timefromprescription.idxmin()]\n",
    "    negmergeddf=negmergeddf.loc[negmergeddf.groupby('subject_id').timefromprescription.idxmax()]\n",
    "    finaldf=negmergeddf.merge(posmergeddf,on=['hadm_id','subject_id'])\n",
    "    \n",
    "    return finaldf"
   ]
  },
  {
   "cell_type": "code",
   "execution_count": null,
   "metadata": {},
   "outputs": [],
   "source": [
    "def postprocessing(df):\n",
    "    \"\"\"Gets the mean, standard deviation, mann whitney and t-test p values. Converts time delta to hours\n",
    "  \n",
    "    Parameters:\n",
    "    df (DataFrame): Dataframe containing before and after lab test values and time values\n",
    "    Returns:\n",
    "    List:Containing mean, standard deviation, mann whitney and t-test p values and count\n",
    "  \n",
    "    \"\"\"\n",
    "    df['timefromprescription_x'] = pd.to_numeric(df['timefromprescription_x'].dt.seconds)\n",
    "    df['timefromprescription_x']/=3600\n",
    "    df['timefromprescription_y'] = pd.to_numeric(df['timefromprescription_y'].dt.seconds)\n",
    "    df['timefromprescription_y']/=3600\n",
    "    df_before_mean=df['valuenum_x'].mean()\n",
    "    df_after_mean=df['valuenum_y'].mean()\n",
    "    df_before_std=df['valuenum_x'].std()\n",
    "    df_after_std=df['valuenum_y'].std()\n",
    "    df_before_time_mean=df['timefromprescription_x'].mean()\n",
    "    df_after_time_mean=df['timefromprescription_y'].mean()\n",
    "    df_before_time_std=df['timefromprescription_x'].std()\n",
    "    df_after_time_std=df['timefromprescription_y'].std()\n",
    "    mannwhitneypvalue=mannwhitneyu(df['valuenum_x'], df['valuenum_y'])[1]\n",
    "    ttestpvalue=stats.ttest_ind(df['valuenum_x'], df['valuenum_y'])[1]\n",
    "    lengthofdf=len(df)\n",
    "    csvrow=[lengthofdf,df_before_mean,df_before_std,df_before_time_mean,df_before_time_std,df_after_mean,df_after_std,df_after_time_mean,df_after_time_std,mannwhitneypvalue,ttestpvalue]\n",
    "    return csvrow\n",
    "\n",
    " "
   ]
  },
  {
   "cell_type": "code",
   "execution_count": null,
   "metadata": {},
   "outputs": [],
   "source": [
    "csvdf=pd.DataFrame(columns=['Medication Name','Feature Name','Number of patients','Feature Before(mean)','Feature Before(std)','Time Before(mean)','Time Before(std)','Feature After(mean)','Feature After(std)','Time After(mean)','Time After(std)','Mannwhitney-pvalue','Ttest-pvalue'])\n",
    "for j in lab_measurements_df.label.unique():\n",
    "    for i in top100_drugs_df['drug']: \n",
    "        print(i,j)\n",
    "        drug_lab_df=labpairing(i,patient_presc_df,lab_measurements_df,j)\n",
    "        if(len(drug_lab_df)>25): \n",
    "            csvrow=postprocessing(drug_lab_df)\n",
    "            csvrow.insert(0, i) \n",
    "            csvrow.insert(1, j)\n",
    "            csvdf.loc[len(csvdf)] = csvrow\n",
    "Potassium Chloride Alanine Aminotransferase (ALT)\n",
    "Insulin Alanine Aminotransferase (ALT)\n"
   ]
  },
  {
   "cell_type": "code",
   "execution_count": null,
   "metadata": {},
   "outputs": [],
   "source": [
    "csvdf.to_csv('Drug_Value_Pairs_extended.csv')"
   ]
  }
 ],
 "metadata": {
  "kernelspec": {
   "display_name": "Python 3 (ipykernel)",
   "language": "python",
   "name": "python3"
  },
  "language_info": {
   "codemirror_mode": {
    "name": "ipython",
    "version": 3
   },
   "file_extension": ".py",
   "mimetype": "text/x-python",
   "name": "python",
   "nbconvert_exporter": "python",
   "pygments_lexer": "ipython3",
   "version": "3.9.2"
  }
 },
 "nbformat": 4,
 "nbformat_minor": 2
}
