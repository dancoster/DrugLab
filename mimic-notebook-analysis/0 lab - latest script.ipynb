{
 "cells": [
  {
   "cell_type": "code",
   "execution_count": 1,
   "metadata": {},
   "outputs": [],
   "source": [
    "data = \"/Volumes/GoogleDrive/My Drive/TAU/Code/DrugLab/data\""
   ]
  },
  {
   "cell_type": "code",
   "execution_count": 2,
   "metadata": {},
   "outputs": [],
   "source": [
    "import pandas as pd\n",
    "import os"
   ]
  },
  {
   "cell_type": "code",
   "execution_count": 3,
   "metadata": {},
   "outputs": [],
   "source": [
    "admits = pd.read_csv(os.path.join(data, \"mimiciii/1.4/raw\", \"ADMISSIONS.csv.gz\"))"
   ]
  },
  {
   "cell_type": "markdown",
   "metadata": {},
   "source": [
    "## MIMIC Extract"
   ]
  },
  {
   "cell_type": "code",
   "execution_count": 4,
   "metadata": {},
   "outputs": [],
   "source": [
    "mimic_extract_map = pd.read_csv(os.path.join(\"/Users/yanpavan/Desktop/\", \"itemid_to_variable_map.csv\"))"
   ]
  },
  {
   "cell_type": "code",
   "execution_count": 7,
   "metadata": {},
   "outputs": [],
   "source": [
    "mimic_extract_map_small = mimic_extract_map[[\"LEVEL2\", \"MIMIC LABEL\", \"ITEMID\", \"STATUS\", \"LINKSTO\"]]\n",
    "mimic_extract_map_small_lab = mimic_extract_map_small[mimic_extract_map_small[\"STATUS\"]==\"ready\"]"
   ]
  },
  {
   "cell_type": "code",
   "execution_count": 10,
   "metadata": {},
   "outputs": [],
   "source": [
    "d_m_l_doc = pd.read_csv(os.path.join(data, \"mimiciii\", \"1.4\",\"preprocessed\", \"mapping_med_itemid_doc.csv\")).drop(columns=[\"Unnamed: 0\"])"
   ]
  },
  {
   "cell_type": "code",
   "execution_count": 11,
   "metadata": {},
   "outputs": [
    {
     "data": {
      "text/html": [
       "<div>\n",
       "<style scoped>\n",
       "    .dataframe tbody tr th:only-of-type {\n",
       "        vertical-align: middle;\n",
       "    }\n",
       "\n",
       "    .dataframe tbody tr th {\n",
       "        vertical-align: top;\n",
       "    }\n",
       "\n",
       "    .dataframe thead th {\n",
       "        text-align: right;\n",
       "    }\n",
       "</style>\n",
       "<table border=\"1\" class=\"dataframe\">\n",
       "  <thead>\n",
       "    <tr style=\"text-align: right;\">\n",
       "      <th></th>\n",
       "      <th>Medication</th>\n",
       "      <th>lab result</th>\n",
       "      <th>increased or decreased</th>\n",
       "      <th>immediate (up to 2 hours), late (more than 2 hours)</th>\n",
       "      <th>Medication ITEMIDs</th>\n",
       "      <th>Medication MIMIC Labels</th>\n",
       "      <th>ITEMID_with_manual</th>\n",
       "    </tr>\n",
       "  </thead>\n",
       "  <tbody>\n",
       "    <tr>\n",
       "      <th>0</th>\n",
       "      <td>Ramipril</td>\n",
       "      <td>potassium</td>\n",
       "      <td>increased</td>\n",
       "      <td>immediate</td>\n",
       "      <td>[]</td>\n",
       "      <td>[]</td>\n",
       "      <td>[]</td>\n",
       "    </tr>\n",
       "    <tr>\n",
       "      <th>1</th>\n",
       "      <td>Furosemide</td>\n",
       "      <td>magnesium</td>\n",
       "      <td>decreased</td>\n",
       "      <td>late</td>\n",
       "      <td>[221794, 228340, 3439]</td>\n",
       "      <td>['Furosemide/Lasix', 'Furosemide (Lasix)', 'Fu...</td>\n",
       "      <td>[221794, 228340, 3439]</td>\n",
       "    </tr>\n",
       "    <tr>\n",
       "      <th>2</th>\n",
       "      <td>Hydrochlorothiazide</td>\n",
       "      <td>calcium</td>\n",
       "      <td>increased</td>\n",
       "      <td>late</td>\n",
       "      <td>[]</td>\n",
       "      <td>[]</td>\n",
       "      <td>[]</td>\n",
       "    </tr>\n",
       "    <tr>\n",
       "      <th>3</th>\n",
       "      <td>Spironolactone</td>\n",
       "      <td>potassium</td>\n",
       "      <td>increased</td>\n",
       "      <td>immediate</td>\n",
       "      <td>[6296, 5962]</td>\n",
       "      <td>['spironolactone', 'Spironolactone']</td>\n",
       "      <td>[6296, 5962]</td>\n",
       "    </tr>\n",
       "    <tr>\n",
       "      <th>4</th>\n",
       "      <td>Hydrochlorothiazide</td>\n",
       "      <td>Uric acid</td>\n",
       "      <td>increased</td>\n",
       "      <td>late</td>\n",
       "      <td>[]</td>\n",
       "      <td>[]</td>\n",
       "      <td>[]</td>\n",
       "    </tr>\n",
       "    <tr>\n",
       "      <th>5</th>\n",
       "      <td>Omeprazole</td>\n",
       "      <td>B12</td>\n",
       "      <td>decreased</td>\n",
       "      <td>late</td>\n",
       "      <td>[7745, 7252, 227694]</td>\n",
       "      <td>['omeprazole', 'Omeprazole (Prilosec)', 'Omepr...</td>\n",
       "      <td>[7745, 7252, 227694]</td>\n",
       "    </tr>\n",
       "    <tr>\n",
       "      <th>6</th>\n",
       "      <td>Pantoprazole</td>\n",
       "      <td>B12</td>\n",
       "      <td>decreased</td>\n",
       "      <td>late</td>\n",
       "      <td>[8074, 44820, 46522, 46014, 1097, 1226, 7372, ...</td>\n",
       "      <td>['PANTOPRAZOLE', 'pantoprazole80mg/100', 'Pant...</td>\n",
       "      <td>[8074, 44820, 46522, 46014, 1097, 1226, 7372, ...</td>\n",
       "    </tr>\n",
       "    <tr>\n",
       "      <th>7</th>\n",
       "      <td>Esmoprazole</td>\n",
       "      <td>B12</td>\n",
       "      <td>decreased</td>\n",
       "      <td>late</td>\n",
       "      <td>[]</td>\n",
       "      <td>[]</td>\n",
       "      <td>[]</td>\n",
       "    </tr>\n",
       "    <tr>\n",
       "      <th>8</th>\n",
       "      <td>Metformin</td>\n",
       "      <td>B12</td>\n",
       "      <td>increased</td>\n",
       "      <td>late</td>\n",
       "      <td>[]</td>\n",
       "      <td>[]</td>\n",
       "      <td>[]</td>\n",
       "    </tr>\n",
       "    <tr>\n",
       "      <th>9</th>\n",
       "      <td>Metformin</td>\n",
       "      <td>lactic acid</td>\n",
       "      <td>increased</td>\n",
       "      <td>immediate</td>\n",
       "      <td>[]</td>\n",
       "      <td>[]</td>\n",
       "      <td>[]</td>\n",
       "    </tr>\n",
       "    <tr>\n",
       "      <th>10</th>\n",
       "      <td>Amoxicilin-clavulanate</td>\n",
       "      <td>ALT</td>\n",
       "      <td>increased</td>\n",
       "      <td>late</td>\n",
       "      <td>[]</td>\n",
       "      <td>[]</td>\n",
       "      <td>[]</td>\n",
       "    </tr>\n",
       "    <tr>\n",
       "      <th>11</th>\n",
       "      <td>Amoxicilin-clavulanate</td>\n",
       "      <td>AST</td>\n",
       "      <td>increased</td>\n",
       "      <td>late</td>\n",
       "      <td>[]</td>\n",
       "      <td>[]</td>\n",
       "      <td>[]</td>\n",
       "    </tr>\n",
       "    <tr>\n",
       "      <th>12</th>\n",
       "      <td>Acetylsalycilic acid (aspirin)</td>\n",
       "      <td>Hemoglobin</td>\n",
       "      <td>decreased</td>\n",
       "      <td>late</td>\n",
       "      <td>[7325, 7325, 7325, 7325, 7325]</td>\n",
       "      <td>[]</td>\n",
       "      <td>[7325]</td>\n",
       "    </tr>\n",
       "    <tr>\n",
       "      <th>13</th>\n",
       "      <td>Acetylsalycilic acid (aspirin)</td>\n",
       "      <td>platelets</td>\n",
       "      <td>decreased</td>\n",
       "      <td>late</td>\n",
       "      <td>[7325, 7325]</td>\n",
       "      <td>[]</td>\n",
       "      <td>[7325]</td>\n",
       "    </tr>\n",
       "    <tr>\n",
       "      <th>14</th>\n",
       "      <td>Trimetoprim-sulphamethoxazole</td>\n",
       "      <td>creatinine</td>\n",
       "      <td>increased</td>\n",
       "      <td>immediate</td>\n",
       "      <td>[]</td>\n",
       "      <td>[]</td>\n",
       "      <td>[]</td>\n",
       "    </tr>\n",
       "    <tr>\n",
       "      <th>15</th>\n",
       "      <td>Trimetoprim-sulphamethoxazole</td>\n",
       "      <td>potassium</td>\n",
       "      <td>increased</td>\n",
       "      <td>late</td>\n",
       "      <td>[]</td>\n",
       "      <td>[]</td>\n",
       "      <td>[]</td>\n",
       "    </tr>\n",
       "    <tr>\n",
       "      <th>16</th>\n",
       "      <td>Paracetamole (acetaminophen)</td>\n",
       "      <td>ALT</td>\n",
       "      <td>increased</td>\n",
       "      <td>late</td>\n",
       "      <td>[50856, 50856]</td>\n",
       "      <td>[]</td>\n",
       "      <td>[50856]</td>\n",
       "    </tr>\n",
       "    <tr>\n",
       "      <th>17</th>\n",
       "      <td>Rivaroxaban</td>\n",
       "      <td>INR</td>\n",
       "      <td>increased</td>\n",
       "      <td>immediate</td>\n",
       "      <td>[]</td>\n",
       "      <td>[]</td>\n",
       "      <td>[]</td>\n",
       "    </tr>\n",
       "    <tr>\n",
       "      <th>18</th>\n",
       "      <td>Dabigatran</td>\n",
       "      <td>Aptt</td>\n",
       "      <td>increased</td>\n",
       "      <td>immediate</td>\n",
       "      <td>[]</td>\n",
       "      <td>[]</td>\n",
       "      <td>[]</td>\n",
       "    </tr>\n",
       "    <tr>\n",
       "      <th>19</th>\n",
       "      <td>Warfarin</td>\n",
       "      <td>INR</td>\n",
       "      <td>increased</td>\n",
       "      <td>late</td>\n",
       "      <td>[225913]</td>\n",
       "      <td>['Coumadin (Warfarin)']</td>\n",
       "      <td>[225913]</td>\n",
       "    </tr>\n",
       "    <tr>\n",
       "      <th>20</th>\n",
       "      <td>Clozapine</td>\n",
       "      <td>platelets</td>\n",
       "      <td>decreased</td>\n",
       "      <td>late</td>\n",
       "      <td>[]</td>\n",
       "      <td>[]</td>\n",
       "      <td>[]</td>\n",
       "    </tr>\n",
       "    <tr>\n",
       "      <th>21</th>\n",
       "      <td>Paroxetine</td>\n",
       "      <td>sodium</td>\n",
       "      <td>decreased</td>\n",
       "      <td>late</td>\n",
       "      <td>[]</td>\n",
       "      <td>[]</td>\n",
       "      <td>[]</td>\n",
       "    </tr>\n",
       "    <tr>\n",
       "      <th>22</th>\n",
       "      <td>Citalopram</td>\n",
       "      <td>sodium</td>\n",
       "      <td>decreased</td>\n",
       "      <td>late</td>\n",
       "      <td>[]</td>\n",
       "      <td>[]</td>\n",
       "      <td>[]</td>\n",
       "    </tr>\n",
       "    <tr>\n",
       "      <th>23</th>\n",
       "      <td>Fluoxetine</td>\n",
       "      <td>sodium</td>\n",
       "      <td>decreased</td>\n",
       "      <td>late</td>\n",
       "      <td>[]</td>\n",
       "      <td>[]</td>\n",
       "      <td>[]</td>\n",
       "    </tr>\n",
       "    <tr>\n",
       "      <th>24</th>\n",
       "      <td>Haloperidol</td>\n",
       "      <td>prolactin</td>\n",
       "      <td>increased</td>\n",
       "      <td>late</td>\n",
       "      <td>[221824]</td>\n",
       "      <td>['Haloperidol (Haldol)']</td>\n",
       "      <td>[221824]</td>\n",
       "    </tr>\n",
       "    <tr>\n",
       "      <th>25</th>\n",
       "      <td>Quetiapine</td>\n",
       "      <td>prolactin</td>\n",
       "      <td>increased</td>\n",
       "      <td>late</td>\n",
       "      <td>[]</td>\n",
       "      <td>[]</td>\n",
       "      <td>[]</td>\n",
       "    </tr>\n",
       "    <tr>\n",
       "      <th>26</th>\n",
       "      <td>Valsartan</td>\n",
       "      <td>potassium</td>\n",
       "      <td>increased</td>\n",
       "      <td>immediate</td>\n",
       "      <td>[]</td>\n",
       "      <td>[]</td>\n",
       "      <td>[]</td>\n",
       "    </tr>\n",
       "    <tr>\n",
       "      <th>27</th>\n",
       "      <td>Simvastatin</td>\n",
       "      <td>CPK</td>\n",
       "      <td>increased</td>\n",
       "      <td>late</td>\n",
       "      <td>[]</td>\n",
       "      <td>[]</td>\n",
       "      <td>[]</td>\n",
       "    </tr>\n",
       "    <tr>\n",
       "      <th>28</th>\n",
       "      <td>Ceftriaxone</td>\n",
       "      <td>bilirubin</td>\n",
       "      <td>increased</td>\n",
       "      <td>late</td>\n",
       "      <td>[90018, 225855]</td>\n",
       "      <td>['Ceftriaxone', 'CEFTRIAXONE']</td>\n",
       "      <td>[90018, 225855]</td>\n",
       "    </tr>\n",
       "    <tr>\n",
       "      <th>29</th>\n",
       "      <td>Valproic acid</td>\n",
       "      <td>Amylase</td>\n",
       "      <td>increased</td>\n",
       "      <td>late</td>\n",
       "      <td>[]</td>\n",
       "      <td>[]</td>\n",
       "      <td>[]</td>\n",
       "    </tr>\n",
       "    <tr>\n",
       "      <th>30</th>\n",
       "      <td>Valproic acid</td>\n",
       "      <td>Lipase</td>\n",
       "      <td>increased</td>\n",
       "      <td>late</td>\n",
       "      <td>[]</td>\n",
       "      <td>[]</td>\n",
       "      <td>[]</td>\n",
       "    </tr>\n",
       "    <tr>\n",
       "      <th>31</th>\n",
       "      <td>Glimepiride</td>\n",
       "      <td>glucose</td>\n",
       "      <td>decreased</td>\n",
       "      <td>immediate</td>\n",
       "      <td>[]</td>\n",
       "      <td>[]</td>\n",
       "      <td>[]</td>\n",
       "    </tr>\n",
       "    <tr>\n",
       "      <th>32</th>\n",
       "      <td>Glibenclamide</td>\n",
       "      <td>glucose</td>\n",
       "      <td>decreased</td>\n",
       "      <td>immediate</td>\n",
       "      <td>[]</td>\n",
       "      <td>[]</td>\n",
       "      <td>[]</td>\n",
       "    </tr>\n",
       "    <tr>\n",
       "      <th>33</th>\n",
       "      <td>Procainamide</td>\n",
       "      <td>ANA</td>\n",
       "      <td>increased</td>\n",
       "      <td>late</td>\n",
       "      <td>[50962, 45853]</td>\n",
       "      <td>['N-ACETYLPROCAINAMIDE (NAPA)', 'Procainamide ...</td>\n",
       "      <td>[50962, 45853]</td>\n",
       "    </tr>\n",
       "  </tbody>\n",
       "</table>\n",
       "</div>"
      ],
      "text/plain": [
       "                        Medication   lab result increased or decreased   \\\n",
       "0                         Ramipril    potassium               increased   \n",
       "1                       Furosemide   magnesium                decreased   \n",
       "2              Hydrochlorothiazide      calcium              increased    \n",
       "3                   Spironolactone    potassium               increased   \n",
       "4              Hydrochlorothiazide    Uric acid               increased   \n",
       "5                       Omeprazole          B12               decreased   \n",
       "6                     Pantoprazole          B12               decreased   \n",
       "7                      Esmoprazole          B12               decreased   \n",
       "8                        Metformin          B12               increased   \n",
       "9                        Metformin  lactic acid               increased   \n",
       "10          Amoxicilin-clavulanate          ALT               increased   \n",
       "11          Amoxicilin-clavulanate          AST               increased   \n",
       "12  Acetylsalycilic acid (aspirin)  Hemoglobin                decreased   \n",
       "13  Acetylsalycilic acid (aspirin)    platelets               decreased   \n",
       "14   Trimetoprim-sulphamethoxazole   creatinine               increased   \n",
       "15   Trimetoprim-sulphamethoxazole    potassium               increased   \n",
       "16    Paracetamole (acetaminophen)          ALT               increased   \n",
       "17                    Rivaroxaban           INR               increased   \n",
       "18                      Dabigatran         Aptt               increased   \n",
       "19                        Warfarin          INR               increased   \n",
       "20                       Clozapine    platelets               decreased   \n",
       "21                      Paroxetine       sodium               decreased   \n",
       "22                      Citalopram       sodium               decreased   \n",
       "23                      Fluoxetine       sodium               decreased   \n",
       "24                     Haloperidol    prolactin               increased   \n",
       "25                      Quetiapine    prolactin               increased   \n",
       "26                      Valsartan     potassium               increased   \n",
       "27                     Simvastatin          CPK              increased    \n",
       "28                     Ceftriaxone   bilirubin                increased   \n",
       "29                  Valproic acid       Amylase               increased   \n",
       "30                  Valproic acid        Lipase               increased   \n",
       "31                     Glimepiride      glucose               decreased   \n",
       "32                   Glibenclamide      glucose               decreased   \n",
       "33                   Procainamide           ANA               increased   \n",
       "\n",
       "   immediate (up to 2 hours), late (more than 2 hours)  \\\n",
       "0                                           immediate    \n",
       "1                                                late    \n",
       "2                                                late    \n",
       "3                                           immediate    \n",
       "4                                                late    \n",
       "5                                                late    \n",
       "6                                                late    \n",
       "7                                                late    \n",
       "8                                                late    \n",
       "9                                          immediate     \n",
       "10                                               late    \n",
       "11                                               late    \n",
       "12                                               late    \n",
       "13                                               late    \n",
       "14                                         immediate     \n",
       "15                                               late    \n",
       "16                                               late    \n",
       "17                                          immediate    \n",
       "18                                          immediate    \n",
       "19                                               late    \n",
       "20                                               late    \n",
       "21                                               late    \n",
       "22                                               late    \n",
       "23                                               late    \n",
       "24                                              late     \n",
       "25                                              late     \n",
       "26                                         immediate     \n",
       "27                                              late     \n",
       "28                                              late     \n",
       "29                                               late    \n",
       "30                                               late    \n",
       "31                                         immediate     \n",
       "32                                         immediate     \n",
       "33                                               late    \n",
       "\n",
       "                                   Medication ITEMIDs  \\\n",
       "0                                                  []   \n",
       "1                              [221794, 228340, 3439]   \n",
       "2                                                  []   \n",
       "3                                        [6296, 5962]   \n",
       "4                                                  []   \n",
       "5                                [7745, 7252, 227694]   \n",
       "6   [8074, 44820, 46522, 46014, 1097, 1226, 7372, ...   \n",
       "7                                                  []   \n",
       "8                                                  []   \n",
       "9                                                  []   \n",
       "10                                                 []   \n",
       "11                                                 []   \n",
       "12                     [7325, 7325, 7325, 7325, 7325]   \n",
       "13                                       [7325, 7325]   \n",
       "14                                                 []   \n",
       "15                                                 []   \n",
       "16                                     [50856, 50856]   \n",
       "17                                                 []   \n",
       "18                                                 []   \n",
       "19                                           [225913]   \n",
       "20                                                 []   \n",
       "21                                                 []   \n",
       "22                                                 []   \n",
       "23                                                 []   \n",
       "24                                           [221824]   \n",
       "25                                                 []   \n",
       "26                                                 []   \n",
       "27                                                 []   \n",
       "28                                    [90018, 225855]   \n",
       "29                                                 []   \n",
       "30                                                 []   \n",
       "31                                                 []   \n",
       "32                                                 []   \n",
       "33                                     [50962, 45853]   \n",
       "\n",
       "                              Medication MIMIC Labels  \\\n",
       "0                                                  []   \n",
       "1   ['Furosemide/Lasix', 'Furosemide (Lasix)', 'Fu...   \n",
       "2                                                  []   \n",
       "3                ['spironolactone', 'Spironolactone']   \n",
       "4                                                  []   \n",
       "5   ['omeprazole', 'Omeprazole (Prilosec)', 'Omepr...   \n",
       "6   ['PANTOPRAZOLE', 'pantoprazole80mg/100', 'Pant...   \n",
       "7                                                  []   \n",
       "8                                                  []   \n",
       "9                                                  []   \n",
       "10                                                 []   \n",
       "11                                                 []   \n",
       "12                                                 []   \n",
       "13                                                 []   \n",
       "14                                                 []   \n",
       "15                                                 []   \n",
       "16                                                 []   \n",
       "17                                                 []   \n",
       "18                                                 []   \n",
       "19                            ['Coumadin (Warfarin)']   \n",
       "20                                                 []   \n",
       "21                                                 []   \n",
       "22                                                 []   \n",
       "23                                                 []   \n",
       "24                           ['Haloperidol (Haldol)']   \n",
       "25                                                 []   \n",
       "26                                                 []   \n",
       "27                                                 []   \n",
       "28                     ['Ceftriaxone', 'CEFTRIAXONE']   \n",
       "29                                                 []   \n",
       "30                                                 []   \n",
       "31                                                 []   \n",
       "32                                                 []   \n",
       "33  ['N-ACETYLPROCAINAMIDE (NAPA)', 'Procainamide ...   \n",
       "\n",
       "                                   ITEMID_with_manual  \n",
       "0                                                  []  \n",
       "1                              [221794, 228340, 3439]  \n",
       "2                                                  []  \n",
       "3                                        [6296, 5962]  \n",
       "4                                                  []  \n",
       "5                                [7745, 7252, 227694]  \n",
       "6   [8074, 44820, 46522, 46014, 1097, 1226, 7372, ...  \n",
       "7                                                  []  \n",
       "8                                                  []  \n",
       "9                                                  []  \n",
       "10                                                 []  \n",
       "11                                                 []  \n",
       "12                                             [7325]  \n",
       "13                                             [7325]  \n",
       "14                                                 []  \n",
       "15                                                 []  \n",
       "16                                            [50856]  \n",
       "17                                                 []  \n",
       "18                                                 []  \n",
       "19                                           [225913]  \n",
       "20                                                 []  \n",
       "21                                                 []  \n",
       "22                                                 []  \n",
       "23                                                 []  \n",
       "24                                           [221824]  \n",
       "25                                                 []  \n",
       "26                                                 []  \n",
       "27                                                 []  \n",
       "28                                    [90018, 225855]  \n",
       "29                                                 []  \n",
       "30                                                 []  \n",
       "31                                                 []  \n",
       "32                                                 []  \n",
       "33                                     [50962, 45853]  "
      ]
     },
     "execution_count": 11,
     "metadata": {},
     "output_type": "execute_result"
    }
   ],
   "source": [
    "d_m_l_doc"
   ]
  },
  {
   "cell_type": "code",
   "execution_count": 13,
   "metadata": {},
   "outputs": [],
   "source": [
    "lab_itemids = t_lab_itemids = {'ALT': {'Alanine aminotransferase': [50861, 769, 220644]},\n",
    " 'ANA': {'Fraction inspired oxygen': [189]},\n",
    " 'AST': {'Asparate aminotransferase': [50878, 770, 220587]},\n",
    " 'Hemoglobin': {'Hemoglobin percent': [50852],\n",
    "  'Hemoglobin C': [51224],\n",
    "  'Hemoglobin F': [51225],\n",
    "  'Hemoglobin A2': [51223],\n",
    "  'Hemoglobin': [814, 220228, 51222, 50811]},\n",
    " 'INR': {'Prothrombin time INR': [51237, 815, 1530, 227467]},\n",
    " 'bilirubin': {'Bilirubin': [51465,\n",
    "   50883,\n",
    "   803,\n",
    "   225651,\n",
    "   50885,\n",
    "   1538,\n",
    "   848,\n",
    "   225690,\n",
    "   50884],\n",
    "  'Bilirubin, Total, Pleural': [51049],\n",
    "  'Bilirubin, Total, Body Fluid': [51028],\n",
    "  'Bilirubin, Total, Ascites': [50838]},\n",
    " 'calcium': {'Calcium': [786, 1522, 3746, 51029, 50893, 225625],\n",
    "  'Calcium ionized': [50808, 816, 225667, 3766],\n",
    "  'Calcium urine': [51066, 51077]},\n",
    " 'creatinine': {'Creatinine': [791, 1525, 220615, 50912],\n",
    "  'Creatinine ascites': [50841],\n",
    "  'Creatinine body fluid': [51032],\n",
    "  'Creatinine pleural': [51052],\n",
    "  'Creatinine urine': [51082]},\n",
    " 'glucose': {'Glucose': [50931,\n",
    "   807,\n",
    "   811,\n",
    "   1529,\n",
    "   50809,\n",
    "   3745,\n",
    "   225664,\n",
    "   220621,\n",
    "   226537],\n",
    "  'Glucose urine': [51478],\n",
    "  'Glucose, CSF': [51014],\n",
    "  'Estimated Actual Glucose': [51529],\n",
    "  'Glucose, Urine': [51084],\n",
    "  'Glucose, Pleural': [51053],\n",
    "  'Glucose, Joint Fluid': [51022],\n",
    "  'Glucose, Ascites': [50842],\n",
    "  'Glucose, Body Fluid': [51034]},\n",
    " 'lactic acid': {'Lactic acid': [818, 225668, 1531]},\n",
    " 'magnesium': {'Magnesium': [50960], 'Magnesium, Urine': [51088]},\n",
    " 'platelets': {'Platelets': [51265, 828, 227457], 'Large Platelets': [51240]},\n",
    " 'potassium': {'Potassium': [829, 1535, 227464, 50971, 50822],\n",
    "  'Potassium serum': [227442],\n",
    "  'Potassium, Body Fluid': [51041],\n",
    "  'Potassium, Pleural': [51057],\n",
    "  'Potassium, Stool': [51064],\n",
    "  'Potassium, Urine': [51097],\n",
    "  'Potassium, Ascites': [50847]},\n",
    " 'sodium': {'Sodium': [837, 1536, 220645, 226534, 50983, 50824],\n",
    "  'Sodium, Ascites': [50848],\n",
    "  'Sodium, Body Fluid': [51042],\n",
    "  'Sodium, Pleural': [51058],\n",
    "  'Sodium, Stool': [51065],\n",
    "  'Sodium, Urine': [51100]},\n",
    " 'Uric acid': {'Uric Acid': [51007], 'Uric Acid, Urine': [51105]},\n",
    " 'B12': {'Vitamin B12': [51010]},\n",
    " 'prolactin': {'Prolactin': [50973]},\n",
    " 'Amylase': {'Amylase': [50867], 'Amylase, Ascites': [50836], 'Amylase, Body Fluid': [51026],'Amylase, Joint Fluid': [51020],'Amylase, Pleural': [51047], 'Amylase, Urine': [51072]},\n",
    " 'Lipase': {'Lipase': [50956], 'Lipase, Ascites': [50844], 'Lipase, Body Fluid': [51036]},\n",
    " 'Aptt': {'PTT': [825, 1533, 227466, 51275]}}"
   ]
  },
  {
   "cell_type": "code",
   "execution_count": 25,
   "metadata": {},
   "outputs": [],
   "source": [
    "lab_itemids['Hematocrit']  = {\n",
    "    'Hematocrit' : [813, 220545, 51221, 50810]\n",
    "}\n",
    "lab_itemids['Red blood cell'] = {\n",
    "    'Red blood cell': [51279, 833]\n",
    "}\n",
    "lab_itemids['Albumin'] = {\n",
    "    'Albumin': [50862, 772, 1521, 227456]\n",
    "}\n",
    "lab_itemids['Magnesium'] = {\n",
    "    'Magnesium': [821, 1532, 220635, 50960]\n",
    "}"
   ]
  },
  {
   "attachments": {},
   "cell_type": "markdown",
   "metadata": {},
   "source": [
    "### Manual Mapping"
   ]
  },
  {
   "cell_type": "code",
   "execution_count": 21,
   "metadata": {},
   "outputs": [
    {
     "data": {
      "text/plain": [
       "[51279, 833]"
      ]
     },
     "execution_count": 21,
     "metadata": {},
     "output_type": "execute_result"
    }
   ],
   "source": [
    "mimic_extract_map_small_lab[mimic_extract_map_small_lab[\"LEVEL2\"]==\"Red blood cell count\"][[\"LEVEL2\", \"ITEMID\"]].set_index(\"LEVEL2\").ITEMID.to_list()"
   ]
  },
  {
   "cell_type": "code",
   "execution_count": null,
   "metadata": {},
   "outputs": [
    {
     "data": {
      "text/plain": [
       "[814, 220228, 51222, 50811]"
      ]
     },
     "metadata": {},
     "output_type": "display_data"
    }
   ],
   "source": [
    "mimic_extract_map_small_lab[mimic_extract_map_small_lab[\"LEVEL2\"]==\"Hemoglobin\"][[\"LEVEL2\", \"ITEMID\"]].set_index(\"LEVEL2\").ITEMID.to_list()"
   ]
  },
  {
   "cell_type": "code",
   "execution_count": null,
   "metadata": {},
   "outputs": [
    {
     "data": {
      "text/plain": [
       "[50883, 803, 225651, 50885, 1538, 848, 225690, 50884]"
      ]
     },
     "metadata": {},
     "output_type": "display_data"
    }
   ],
   "source": [
    "mimic_extract_map_small_lab[mimic_extract_map_small_lab[\"LEVEL2\"]==\"Bilirubin\"][[\"LEVEL2\", \"ITEMID\"]].set_index(\"LEVEL2\").ITEMID.to_list()"
   ]
  },
  {
   "cell_type": "code",
   "execution_count": null,
   "metadata": {},
   "outputs": [
    {
     "data": {
      "text/plain": [
       "[51082]"
      ]
     },
     "metadata": {},
     "output_type": "display_data"
    }
   ],
   "source": [
    "mimic_extract_map_small_lab[mimic_extract_map_small_lab[\"LEVEL2\"]==\"Creatinine urine\"][[\"LEVEL2\", \"ITEMID\"]].set_index(\"LEVEL2\").ITEMID.to_list()"
   ]
  },
  {
   "cell_type": "code",
   "execution_count": null,
   "metadata": {},
   "outputs": [
    {
     "data": {
      "text/plain": [
       "[786, 1522, 50893, 225625]"
      ]
     },
     "metadata": {},
     "output_type": "display_data"
    }
   ],
   "source": [
    "mimic_extract_map_small_lab[mimic_extract_map_small_lab[\"LEVEL2\"]==\"Calcium\"][[\"LEVEL2\", \"ITEMID\"]].set_index(\"LEVEL2\").ITEMID.to_list()"
   ]
  },
  {
   "cell_type": "code",
   "execution_count": null,
   "metadata": {},
   "outputs": [
    {
     "data": {
      "text/plain": [
       "[50931, 807, 811, 1529, 50809, 3745, 225664, 220621, 226537]"
      ]
     },
     "metadata": {},
     "output_type": "display_data"
    }
   ],
   "source": [
    "mimic_extract_map_small_lab[mimic_extract_map_small_lab[\"LEVEL2\"]==\"Glucose\"][[\"LEVEL2\", \"ITEMID\"]].set_index(\"LEVEL2\").ITEMID.to_list()"
   ]
  },
  {
   "cell_type": "code",
   "execution_count": null,
   "metadata": {},
   "outputs": [
    {
     "data": {
      "text/plain": [
       "[51265, 828, 227457]"
      ]
     },
     "metadata": {},
     "output_type": "display_data"
    }
   ],
   "source": [
    "mimic_extract_map_small_lab[mimic_extract_map_small_lab[\"LEVEL2\"]==\"Platelets\"][[\"LEVEL2\", \"ITEMID\"]].set_index(\"LEVEL2\").ITEMID.to_list()"
   ]
  },
  {
   "cell_type": "code",
   "execution_count": null,
   "metadata": {},
   "outputs": [
    {
     "data": {
      "text/plain": [
       "[829, 1535, 227464, 50971, 50822]"
      ]
     },
     "metadata": {},
     "output_type": "display_data"
    }
   ],
   "source": [
    "mimic_extract_map_small_lab[mimic_extract_map_small_lab[\"LEVEL2\"]==\"Potassium\"][[\"LEVEL2\", \"ITEMID\"]].set_index(\"LEVEL2\").ITEMID.to_list()"
   ]
  },
  {
   "cell_type": "code",
   "execution_count": null,
   "metadata": {},
   "outputs": [
    {
     "data": {
      "text/plain": [
       "[837, 1536, 220645, 226534, 50983, 50824]"
      ]
     },
     "metadata": {},
     "output_type": "display_data"
    }
   ],
   "source": [
    "mimic_extract_map_small_lab[mimic_extract_map_small_lab[\"LEVEL2\"]==\"Sodium\"][[\"LEVEL2\", \"ITEMID\"]].set_index(\"LEVEL2\").ITEMID.to_list()"
   ]
  },
  {
   "cell_type": "code",
   "execution_count": null,
   "metadata": {},
   "outputs": [
    {
     "data": {
      "text/html": [
       "<div>\n",
       "<style scoped>\n",
       "    .dataframe tbody tr th:only-of-type {\n",
       "        vertical-align: middle;\n",
       "    }\n",
       "\n",
       "    .dataframe tbody tr th {\n",
       "        vertical-align: top;\n",
       "    }\n",
       "\n",
       "    .dataframe thead th {\n",
       "        text-align: right;\n",
       "    }\n",
       "</style>\n",
       "<table border=\"1\" class=\"dataframe\">\n",
       "  <thead>\n",
       "    <tr style=\"text-align: right;\">\n",
       "      <th></th>\n",
       "      <th>LEVEL2</th>\n",
       "      <th>MIMIC LABEL</th>\n",
       "      <th>ITEMID</th>\n",
       "      <th>STATUS</th>\n",
       "      <th>LINKSTO</th>\n",
       "    </tr>\n",
       "  </thead>\n",
       "  <tbody>\n",
       "    <tr>\n",
       "      <th>238</th>\n",
       "      <td>Partial thromboplastin time</td>\n",
       "      <td>PTT(22-35)</td>\n",
       "      <td>825</td>\n",
       "      <td>ready</td>\n",
       "      <td>chartevents</td>\n",
       "    </tr>\n",
       "    <tr>\n",
       "      <th>239</th>\n",
       "      <td>Partial thromboplastin time</td>\n",
       "      <td>PTT</td>\n",
       "      <td>1533</td>\n",
       "      <td>ready</td>\n",
       "      <td>chartevents</td>\n",
       "    </tr>\n",
       "    <tr>\n",
       "      <th>240</th>\n",
       "      <td>Partial thromboplastin time</td>\n",
       "      <td>PTT</td>\n",
       "      <td>227466</td>\n",
       "      <td>ready</td>\n",
       "      <td>chartevents</td>\n",
       "    </tr>\n",
       "    <tr>\n",
       "      <th>241</th>\n",
       "      <td>Partial thromboplastin time</td>\n",
       "      <td>PTT</td>\n",
       "      <td>51275</td>\n",
       "      <td>ready</td>\n",
       "      <td>labevents</td>\n",
       "    </tr>\n",
       "  </tbody>\n",
       "</table>\n",
       "</div>"
      ],
      "text/plain": [
       "                          LEVEL2 MIMIC LABEL  ITEMID STATUS      LINKSTO\n",
       "238  Partial thromboplastin time  PTT(22-35)     825  ready  chartevents\n",
       "239  Partial thromboplastin time         PTT    1533  ready  chartevents\n",
       "240  Partial thromboplastin time         PTT  227466  ready  chartevents\n",
       "241  Partial thromboplastin time         PTT   51275  ready    labevents"
      ]
     },
     "metadata": {},
     "output_type": "display_data"
    }
   ],
   "source": [
    "mimic_extract_map_small_lab[mimic_extract_map_small_lab[\"LEVEL2\"]==\"Partial thromboplastin time\"]"
   ]
  },
  {
   "cell_type": "code",
   "execution_count": null,
   "metadata": {},
   "outputs": [
    {
     "data": {
      "text/plain": [
       "[825, 1533, 227466, 51275]"
      ]
     },
     "metadata": {},
     "output_type": "display_data"
    }
   ],
   "source": [
    "mimic_extract_map_small_lab[mimic_extract_map_small_lab[\"LEVEL2\"]==\"Partial thromboplastin time\"][[\"LEVEL2\", \"ITEMID\"]].set_index(\"LEVEL2\").ITEMID.to_list()"
   ]
  },
  {
   "cell_type": "code",
   "execution_count": null,
   "metadata": {},
   "outputs": [
    {
     "data": {
      "text/html": [
       "<div>\n",
       "<style scoped>\n",
       "    .dataframe tbody tr th:only-of-type {\n",
       "        vertical-align: middle;\n",
       "    }\n",
       "\n",
       "    .dataframe tbody tr th {\n",
       "        vertical-align: top;\n",
       "    }\n",
       "\n",
       "    .dataframe thead th {\n",
       "        text-align: right;\n",
       "    }\n",
       "</style>\n",
       "<table border=\"1\" class=\"dataframe\">\n",
       "  <thead>\n",
       "    <tr style=\"text-align: right;\">\n",
       "      <th></th>\n",
       "      <th>LEVEL2</th>\n",
       "      <th>MIMIC LABEL</th>\n",
       "      <th>ITEMID</th>\n",
       "      <th>STATUS</th>\n",
       "      <th>LINKSTO</th>\n",
       "    </tr>\n",
       "  </thead>\n",
       "  <tbody>\n",
       "    <tr>\n",
       "      <th>169</th>\n",
       "      <td>Hematocrit</td>\n",
       "      <td>Hematocrit</td>\n",
       "      <td>813</td>\n",
       "      <td>ready</td>\n",
       "      <td>chartevents</td>\n",
       "    </tr>\n",
       "    <tr>\n",
       "      <th>171</th>\n",
       "      <td>Hematocrit</td>\n",
       "      <td>Hematocrit (serum)</td>\n",
       "      <td>220545</td>\n",
       "      <td>ready</td>\n",
       "      <td>chartevents</td>\n",
       "    </tr>\n",
       "    <tr>\n",
       "      <th>172</th>\n",
       "      <td>Hematocrit</td>\n",
       "      <td>HEMATOCRIT</td>\n",
       "      <td>51221</td>\n",
       "      <td>ready</td>\n",
       "      <td>labevents</td>\n",
       "    </tr>\n",
       "    <tr>\n",
       "      <th>173</th>\n",
       "      <td>Hematocrit</td>\n",
       "      <td>HEMATOCRIT, CALCULATED</td>\n",
       "      <td>50810</td>\n",
       "      <td>ready</td>\n",
       "      <td>labevents</td>\n",
       "    </tr>\n",
       "  </tbody>\n",
       "</table>\n",
       "</div>"
      ],
      "text/plain": [
       "         LEVEL2             MIMIC LABEL  ITEMID STATUS      LINKSTO\n",
       "169  Hematocrit              Hematocrit     813  ready  chartevents\n",
       "171  Hematocrit      Hematocrit (serum)  220545  ready  chartevents\n",
       "172  Hematocrit              HEMATOCRIT   51221  ready    labevents\n",
       "173  Hematocrit  HEMATOCRIT, CALCULATED   50810  ready    labevents"
      ]
     },
     "metadata": {},
     "output_type": "display_data"
    }
   ],
   "source": [
    "mimic_extract_map_small_lab[mimic_extract_map_small_lab[\"LEVEL2\"]==\"Hematocrit\"]"
   ]
  },
  {
   "cell_type": "code",
   "execution_count": null,
   "metadata": {},
   "outputs": [
    {
     "data": {
      "text/plain": [
       "[813, 220545, 51221, 50810]"
      ]
     },
     "metadata": {},
     "output_type": "display_data"
    }
   ],
   "source": [
    "mimic_extract_map_small_lab[mimic_extract_map_small_lab[\"LEVEL2\"]==\"Hematocrit\"][[\"LEVEL2\", \"ITEMID\"]].set_index(\"LEVEL2\").ITEMID.to_list()"
   ]
  },
  {
   "cell_type": "code",
   "execution_count": 23,
   "metadata": {},
   "outputs": [
    {
     "data": {
      "text/plain": [
       "[50862, 772, 1521, 227456]"
      ]
     },
     "execution_count": 23,
     "metadata": {},
     "output_type": "execute_result"
    }
   ],
   "source": [
    "mimic_extract_map_small_lab[mimic_extract_map_small_lab[\"LEVEL2\"]==\"Albumin\"][[\"LEVEL2\", \"ITEMID\"]].set_index(\"LEVEL2\").ITEMID.to_list()"
   ]
  },
  {
   "cell_type": "code",
   "execution_count": 24,
   "metadata": {},
   "outputs": [
    {
     "data": {
      "text/plain": [
       "[821, 1532, 220635, 50960]"
      ]
     },
     "execution_count": 24,
     "metadata": {},
     "output_type": "execute_result"
    }
   ],
   "source": [
    "mimic_extract_map_small_lab[mimic_extract_map_small_lab[\"LEVEL2\"]==\"Magnesium\"][[\"LEVEL2\", \"ITEMID\"]].set_index(\"LEVEL2\").ITEMID.to_list()"
   ]
  },
  {
   "attachments": {},
   "cell_type": "markdown",
   "metadata": {},
   "source": [
    "### Final Mapping"
   ]
  },
  {
   "cell_type": "code",
   "execution_count": 26,
   "metadata": {},
   "outputs": [],
   "source": [
    "final_mapping_lab_itemids = {v2:k1 for k, v in lab_itemids.items() for k1, v1 in v.items() for v2 in v1}"
   ]
  },
  {
   "cell_type": "code",
   "execution_count": 28,
   "metadata": {},
   "outputs": [],
   "source": [
    "final_itemids_list = list(final_mapping_lab_itemids.keys())\n"
   ]
  },
  {
   "cell_type": "markdown",
   "metadata": {},
   "source": [
    "## Labevents"
   ]
  },
  {
   "cell_type": "code",
   "execution_count": null,
   "metadata": {},
   "outputs": [],
   "source": [
    "labevents = pd.read_csv(os.path.join(data, \"mimiciii/1.4/preprocessed\", \"lab_patient_data.csv\"))"
   ]
  },
  {
   "cell_type": "code",
   "execution_count": null,
   "metadata": {},
   "outputs": [],
   "source": [
    "labevents = labevents[labevents.ITEMID.isin(final_itemids_list)]\n",
    "labevents[\"MIMICExtractName\"] = labevents.apply(lambda r: final_mapping_lab_itemids[r[\"ITEMID\"]], axis=1)"
   ]
  },
  {
   "cell_type": "code",
   "execution_count": null,
   "metadata": {},
   "outputs": [],
   "source": [
    "labevents[\"TABLE\"] = labevents.apply(lambda r: \"LABEVENTS\", axis=1)"
   ]
  },
  {
   "cell_type": "code",
   "execution_count": null,
   "metadata": {},
   "outputs": [
    {
     "name": "stderr",
     "output_type": "stream",
     "text": [
      "/var/folders/xb/6svjl9sj43z6gfhlcp2nc5540000gr/T/ipykernel_7151/2424521930.py:3: FutureWarning: Passing 'suffixes' which cause duplicate columns {'ROW_ID_x'} in the result is deprecated and will raise a MergeError in a future version.\n",
      "  labevents = pd.merge(labevents, patients, how=\"inner\", on=\"SUBJECT_ID\")\n"
     ]
    }
   ],
   "source": [
    "patients = pd.read_csv(os.path.join(data, \"mimiciii/1.4\", \"raw/PATIENTS.csv.gz\"))\n",
    "labevents = labevents.rename(columns={\"SUBJECT_ID_x\":\"SUBJECT_ID\"})\n",
    "labevents = pd.merge(labevents, patients, how=\"inner\", on=\"SUBJECT_ID\")"
   ]
  },
  {
   "cell_type": "code",
   "execution_count": null,
   "metadata": {},
   "outputs": [],
   "source": [
    "labevents[\"DOB\"] = pd.to_datetime(labevents[\"DOB\"])\n",
    "labevents[\"ADMITTIME\"] = pd.to_datetime(labevents[\"ADMITTIME\"])"
   ]
  },
  {
   "cell_type": "code",
   "execution_count": null,
   "metadata": {},
   "outputs": [],
   "source": [
    "labevents['AGE'] = labevents.apply(lambda r: round((r['ADMITTIME'].to_pydatetime()-r['DOB'].to_pydatetime()).days/365, 0), axis=1)"
   ]
  },
  {
   "cell_type": "code",
   "execution_count": 179,
   "metadata": {},
   "outputs": [],
   "source": [
    "labevents[['ADMISSION_LOCATION',\n",
    " 'ADMISSION_TYPE',\n",
    " 'ADMITTIME',\n",
    " 'AGE',\n",
    " 'CHARTTIME',\n",
    " 'DEATHTIME',\n",
    " 'DIAGNOSIS',\n",
    " 'DISCHARGE_LOCATION',\n",
    " 'DISCHTIME',\n",
    " 'DOB',\n",
    " 'DOD',\n",
    " 'DOD_HOSP',\n",
    " 'DOD_SSN',\n",
    " 'EDOUTTIME',\n",
    " 'EDREGTIME',\n",
    " 'ETHNICITY',\n",
    " 'EXPIRE_FLAG',\n",
    " 'GENDER',\n",
    " 'HADM_ID',\n",
    " 'HAS_CHARTEVENTS_DATA',\n",
    " 'HOSPITAL_EXPIRE_FLAG',\n",
    " 'INSURANCE',\n",
    " 'ITEMID',\n",
    " 'LANGUAGE',\n",
    " 'MARITAL_STATUS',\n",
    " 'MIMICExtractName',\n",
    " 'RELIGION',\n",
    " 'ROW_ID_x',\n",
    " 'SUBJECT_ID',\n",
    " 'TABLE',\n",
    " 'VALUE',\n",
    " 'VALUENUM',\n",
    " 'VALUEUOM']].to_csv(os.path.join(data, \"mimiciii/1.4/preprocessed\", \"lab_patient_data_with_mimic_extract_names.csv\"))"
   ]
  },
  {
   "cell_type": "code",
   "execution_count": 58,
   "metadata": {},
   "outputs": [],
   "source": [
    "labevents = pd.read_csv(os.path.join(data, \"mimiciii/1.4/preprocessed\", \"lab_patient_data_with_mimic_extract_names.csv\"))"
   ]
  },
  {
   "cell_type": "markdown",
   "metadata": {},
   "source": [
    "## Chartevents"
   ]
  },
  {
   "cell_type": "code",
   "execution_count": 29,
   "metadata": {},
   "outputs": [
    {
     "name": "stderr",
     "output_type": "stream",
     "text": [
      "/var/folders/xb/6svjl9sj43z6gfhlcp2nc5540000gr/T/ipykernel_18861/624336155.py:4: DtypeWarning: Columns (8,13,14) have mixed types. Specify dtype option on import or set low_memory=False.\n",
      "  for chunk in reader:\n"
     ]
    },
    {
     "name": "stdout",
     "output_type": "stream",
     "text": [
      "0 (50000000, 15)\n",
      "0 (419712, 16)\n",
      "1 (50000000, 15)\n",
      "1 (263044, 16)\n",
      "2 (50000000, 15)\n",
      "2 (264064, 16)\n"
     ]
    },
    {
     "name": "stderr",
     "output_type": "stream",
     "text": [
      "/var/folders/xb/6svjl9sj43z6gfhlcp2nc5540000gr/T/ipykernel_18861/624336155.py:4: DtypeWarning: Columns (13) have mixed types. Specify dtype option on import or set low_memory=False.\n",
      "  for chunk in reader:\n"
     ]
    },
    {
     "name": "stdout",
     "output_type": "stream",
     "text": [
      "3 (50000000, 15)\n",
      "3 (247806, 16)\n",
      "4 (50000000, 15)\n",
      "4 0\n"
     ]
    },
    {
     "name": "stderr",
     "output_type": "stream",
     "text": [
      "/var/folders/xb/6svjl9sj43z6gfhlcp2nc5540000gr/T/ipykernel_18861/624336155.py:4: DtypeWarning: Columns (8,10,14) have mixed types. Specify dtype option on import or set low_memory=False.\n",
      "  for chunk in reader:\n"
     ]
    },
    {
     "name": "stdout",
     "output_type": "stream",
     "text": [
      "5 (50000000, 15)\n",
      "5 0\n",
      "6 (30712483, 15)\n",
      "6 0\n"
     ]
    }
   ],
   "source": [
    "res_paths = []\n",
    "count = 0\n",
    "with pd.read_csv(os.path.join(data, \"mimiciii/1.4/raw\", \"CHARTEVENTS.csv.gz\"), chunksize=50_000_000) as reader:\n",
    "    for chunk in reader:\n",
    "        print(count, chunk.shape)\n",
    "        path = os.path.join(data, \"mimiciii\", \"1.4\",\"preprocessed\", \"CHARTEVENTS\", f\"chartevents_with_mimic_extract_{count}.csv.gz\")\n",
    "        chunk = chunk[chunk.ITEMID.isin(final_itemids_list)]\n",
    "        t = chunk.apply(lambda r: final_mapping_lab_itemids[r[\"ITEMID\"]], axis=1)\n",
    "        if t.shape[0]>0:\n",
    "            chunk[\"MIMICExtractName\"] = t\n",
    "            chunk.to_csv(path)\n",
    "            print(count, chunk.shape)\n",
    "            res_paths.append(path)\n",
    "        else:\n",
    "            print(count, 0)    \n",
    "        count += 1\n"
   ]
  },
  {
   "cell_type": "code",
   "execution_count": 30,
   "metadata": {},
   "outputs": [
    {
     "name": "stderr",
     "output_type": "stream",
     "text": [
      "/var/folders/xb/6svjl9sj43z6gfhlcp2nc5540000gr/T/ipykernel_18861/4178487586.py:1: DtypeWarning: Columns (9,14,15) have mixed types. Specify dtype option on import or set low_memory=False.\n",
      "  result = pd.concat([pd.read_csv(f) for f in res_paths], ignore_index=True)\n",
      "/var/folders/xb/6svjl9sj43z6gfhlcp2nc5540000gr/T/ipykernel_18861/4178487586.py:1: DtypeWarning: Columns (9) have mixed types. Specify dtype option on import or set low_memory=False.\n",
      "  result = pd.concat([pd.read_csv(f) for f in res_paths], ignore_index=True)\n",
      "/var/folders/xb/6svjl9sj43z6gfhlcp2nc5540000gr/T/ipykernel_18861/4178487586.py:1: DtypeWarning: Columns (9) have mixed types. Specify dtype option on import or set low_memory=False.\n",
      "  result = pd.concat([pd.read_csv(f) for f in res_paths], ignore_index=True)\n"
     ]
    }
   ],
   "source": [
    "result = pd.concat([pd.read_csv(f) for f in res_paths], ignore_index=True)"
   ]
  },
  {
   "cell_type": "code",
   "execution_count": 31,
   "metadata": {},
   "outputs": [],
   "source": [
    "result[\"TABLE\"] = result.apply(lambda r: \"CHARTEVENTS\", axis=1)"
   ]
  },
  {
   "cell_type": "code",
   "execution_count": 35,
   "metadata": {},
   "outputs": [],
   "source": [
    "t_r = pd.merge(result, admits, how=\"inner\", on=\"HADM_ID\")"
   ]
  },
  {
   "cell_type": "code",
   "execution_count": 36,
   "metadata": {},
   "outputs": [],
   "source": [
    "result = t_r.copy()"
   ]
  },
  {
   "cell_type": "code",
   "execution_count": 40,
   "metadata": {},
   "outputs": [],
   "source": [
    "result = result.rename(columns={\"SUBJECT_ID_x\":\"SUBJECT_ID\"})\n",
    "result = pd.merge(result, patients, how=\"inner\", on=\"SUBJECT_ID\")"
   ]
  },
  {
   "cell_type": "code",
   "execution_count": 42,
   "metadata": {},
   "outputs": [],
   "source": [
    "result[\"DOB\"] = pd.to_datetime(result[\"DOB\"])\n",
    "result[\"ADMITTIME\"] = pd.to_datetime(result[\"ADMITTIME\"])"
   ]
  },
  {
   "cell_type": "code",
   "execution_count": 43,
   "metadata": {},
   "outputs": [],
   "source": [
    "result['AGE'] = result.apply(lambda r: round((r['ADMITTIME'].to_pydatetime()-r['DOB'].to_pydatetime()).days/365, 0), axis=1)"
   ]
  },
  {
   "cell_type": "code",
   "execution_count": 55,
   "metadata": {},
   "outputs": [],
   "source": [
    "result[['ADMISSION_LOCATION',\n",
    " 'ADMISSION_TYPE',\n",
    " 'ADMITTIME',\n",
    " 'AGE',\n",
    " 'CHARTTIME',\n",
    " 'DEATHTIME',\n",
    " 'DIAGNOSIS',\n",
    " 'DISCHARGE_LOCATION',\n",
    " 'DISCHTIME',\n",
    " 'DOB',\n",
    " 'DOD',\n",
    " 'DOD_HOSP',\n",
    " 'DOD_SSN',\n",
    " 'EDOUTTIME',\n",
    " 'EDREGTIME',\n",
    " 'ETHNICITY',\n",
    " 'EXPIRE_FLAG',\n",
    " 'GENDER',\n",
    " 'HADM_ID',\n",
    " 'HAS_CHARTEVENTS_DATA',\n",
    " 'HOSPITAL_EXPIRE_FLAG',\n",
    " 'INSURANCE',\n",
    " 'ITEMID',\n",
    " 'LANGUAGE',\n",
    " 'MARITAL_STATUS',\n",
    " 'MIMICExtractName',\n",
    " 'RELIGION',\n",
    " 'ROW_ID_x',\n",
    " 'SUBJECT_ID',\n",
    " 'SUBJECT_ID_y',\n",
    " 'TABLE',\n",
    " 'VALUE',\n",
    " 'VALUENUM',\n",
    " 'VALUEUOM']].to_csv(os.path.join(data, \"mimiciii\", \"1.4\",\"preprocessed\", \"CHARTEVENTS\", \"chartevents_with_mimic_extract_lab.csv.gz\"))"
   ]
  },
  {
   "attachments": {},
   "cell_type": "markdown",
   "metadata": {},
   "source": [
    "## Merge"
   ]
  },
  {
   "cell_type": "code",
   "execution_count": 59,
   "metadata": {},
   "outputs": [],
   "source": [
    "t_r = result[['ADMISSION_LOCATION',\n",
    " 'ADMISSION_TYPE',\n",
    " 'ADMITTIME',\n",
    " 'AGE',\n",
    " 'CHARTTIME',\n",
    " 'DEATHTIME',\n",
    " 'DIAGNOSIS',\n",
    " 'DISCHARGE_LOCATION',\n",
    " 'DISCHTIME',\n",
    " 'DOB',\n",
    " 'DOD',\n",
    " 'DOD_HOSP',\n",
    " 'DOD_SSN',\n",
    " 'EDOUTTIME',\n",
    " 'EDREGTIME',\n",
    " 'ETHNICITY',\n",
    " 'EXPIRE_FLAG',\n",
    " 'GENDER',\n",
    " 'HADM_ID',\n",
    " 'HAS_CHARTEVENTS_DATA',\n",
    " 'HOSPITAL_EXPIRE_FLAG',\n",
    " 'INSURANCE',\n",
    " 'ITEMID',\n",
    " 'LANGUAGE',\n",
    " 'MARITAL_STATUS',\n",
    " 'MIMICExtractName',\n",
    " 'RELIGION',\n",
    " 'SUBJECT_ID',\n",
    "#  'TABLE',\n",
    " 'VALUE',\n",
    " 'VALUENUM',\n",
    " 'VALUEUOM']]\n",
    "\n",
    "t_l = labevents[['ADMISSION_LOCATION',\n",
    " 'ADMISSION_TYPE',\n",
    " 'ADMITTIME',\n",
    " 'AGE',\n",
    " 'CHARTTIME',\n",
    " 'DEATHTIME',\n",
    " 'DIAGNOSIS',\n",
    " 'DISCHARGE_LOCATION',\n",
    " 'DISCHTIME',\n",
    " 'DOB',\n",
    " 'DOD',\n",
    " 'DOD_HOSP',\n",
    " 'DOD_SSN',\n",
    " 'EDOUTTIME',\n",
    " 'EDREGTIME',\n",
    " 'ETHNICITY',\n",
    " 'EXPIRE_FLAG',\n",
    " 'GENDER',\n",
    " 'HADM_ID',\n",
    " 'HAS_CHARTEVENTS_DATA',\n",
    " 'HOSPITAL_EXPIRE_FLAG',\n",
    " 'INSURANCE',\n",
    " 'ITEMID',\n",
    " 'LANGUAGE',\n",
    " 'MARITAL_STATUS',\n",
    " 'MIMICExtractName',\n",
    " 'RELIGION',\n",
    " 'SUBJECT_ID',\n",
    "#  'TABLE',\n",
    " 'VALUE',\n",
    " 'VALUENUM',\n",
    " 'VALUEUOM']]"
   ]
  },
  {
   "cell_type": "code",
   "execution_count": 63,
   "metadata": {},
   "outputs": [],
   "source": [
    "t_c_l = pd.concat([t_l, t_r]).drop_duplicates(keep=\"first\")"
   ]
  },
  {
   "cell_type": "code",
   "execution_count": 64,
   "metadata": {},
   "outputs": [
    {
     "data": {
      "text/html": [
       "<div>\n",
       "<style scoped>\n",
       "    .dataframe tbody tr th:only-of-type {\n",
       "        vertical-align: middle;\n",
       "    }\n",
       "\n",
       "    .dataframe tbody tr th {\n",
       "        vertical-align: top;\n",
       "    }\n",
       "\n",
       "    .dataframe thead th {\n",
       "        text-align: right;\n",
       "    }\n",
       "</style>\n",
       "<table border=\"1\" class=\"dataframe\">\n",
       "  <thead>\n",
       "    <tr style=\"text-align: right;\">\n",
       "      <th></th>\n",
       "      <th>ADMISSION_LOCATION</th>\n",
       "      <th>ADMISSION_TYPE</th>\n",
       "      <th>ADMITTIME</th>\n",
       "      <th>AGE</th>\n",
       "      <th>CHARTTIME</th>\n",
       "      <th>DEATHTIME</th>\n",
       "      <th>DIAGNOSIS</th>\n",
       "      <th>DISCHARGE_LOCATION</th>\n",
       "      <th>DISCHTIME</th>\n",
       "      <th>DOB</th>\n",
       "      <th>...</th>\n",
       "      <th>INSURANCE</th>\n",
       "      <th>ITEMID</th>\n",
       "      <th>LANGUAGE</th>\n",
       "      <th>MARITAL_STATUS</th>\n",
       "      <th>MIMICExtractName</th>\n",
       "      <th>RELIGION</th>\n",
       "      <th>SUBJECT_ID</th>\n",
       "      <th>VALUE</th>\n",
       "      <th>VALUENUM</th>\n",
       "      <th>VALUEUOM</th>\n",
       "    </tr>\n",
       "  </thead>\n",
       "  <tbody>\n",
       "    <tr>\n",
       "      <th>0</th>\n",
       "      <td>EMERGENCY ROOM ADMIT</td>\n",
       "      <td>EMERGENCY</td>\n",
       "      <td>2101-10-20 19:08:00</td>\n",
       "      <td>77.0</td>\n",
       "      <td>2101-10-22 04:31:00</td>\n",
       "      <td>NaN</td>\n",
       "      <td>HYPOTENSION</td>\n",
       "      <td>SNF</td>\n",
       "      <td>2101-10-31 13:58:00</td>\n",
       "      <td>2025-04-11</td>\n",
       "      <td>...</td>\n",
       "      <td>Medicare</td>\n",
       "      <td>50808</td>\n",
       "      <td>NaN</td>\n",
       "      <td>MARRIED</td>\n",
       "      <td>Calcium ionized</td>\n",
       "      <td>CATHOLIC</td>\n",
       "      <td>3</td>\n",
       "      <td>1.12</td>\n",
       "      <td>1.120000</td>\n",
       "      <td>mmol/L</td>\n",
       "    </tr>\n",
       "    <tr>\n",
       "      <th>1</th>\n",
       "      <td>EMERGENCY ROOM ADMIT</td>\n",
       "      <td>EMERGENCY</td>\n",
       "      <td>2101-10-20 19:08:00</td>\n",
       "      <td>77.0</td>\n",
       "      <td>2101-10-23 02:46:00</td>\n",
       "      <td>NaN</td>\n",
       "      <td>HYPOTENSION</td>\n",
       "      <td>SNF</td>\n",
       "      <td>2101-10-31 13:58:00</td>\n",
       "      <td>2025-04-11</td>\n",
       "      <td>...</td>\n",
       "      <td>Medicare</td>\n",
       "      <td>50808</td>\n",
       "      <td>NaN</td>\n",
       "      <td>MARRIED</td>\n",
       "      <td>Calcium ionized</td>\n",
       "      <td>CATHOLIC</td>\n",
       "      <td>3</td>\n",
       "      <td>1.19</td>\n",
       "      <td>1.190000</td>\n",
       "      <td>mmol/L</td>\n",
       "    </tr>\n",
       "    <tr>\n",
       "      <th>2</th>\n",
       "      <td>EMERGENCY ROOM ADMIT</td>\n",
       "      <td>EMERGENCY</td>\n",
       "      <td>2101-10-20 19:08:00</td>\n",
       "      <td>77.0</td>\n",
       "      <td>2101-10-23 10:14:00</td>\n",
       "      <td>NaN</td>\n",
       "      <td>HYPOTENSION</td>\n",
       "      <td>SNF</td>\n",
       "      <td>2101-10-31 13:58:00</td>\n",
       "      <td>2025-04-11</td>\n",
       "      <td>...</td>\n",
       "      <td>Medicare</td>\n",
       "      <td>50808</td>\n",
       "      <td>NaN</td>\n",
       "      <td>MARRIED</td>\n",
       "      <td>Calcium ionized</td>\n",
       "      <td>CATHOLIC</td>\n",
       "      <td>3</td>\n",
       "      <td>1.11</td>\n",
       "      <td>1.110000</td>\n",
       "      <td>mmol/L</td>\n",
       "    </tr>\n",
       "    <tr>\n",
       "      <th>3</th>\n",
       "      <td>EMERGENCY ROOM ADMIT</td>\n",
       "      <td>EMERGENCY</td>\n",
       "      <td>2101-10-20 19:08:00</td>\n",
       "      <td>77.0</td>\n",
       "      <td>2101-10-23 16:10:00</td>\n",
       "      <td>NaN</td>\n",
       "      <td>HYPOTENSION</td>\n",
       "      <td>SNF</td>\n",
       "      <td>2101-10-31 13:58:00</td>\n",
       "      <td>2025-04-11</td>\n",
       "      <td>...</td>\n",
       "      <td>Medicare</td>\n",
       "      <td>50808</td>\n",
       "      <td>NaN</td>\n",
       "      <td>MARRIED</td>\n",
       "      <td>Calcium ionized</td>\n",
       "      <td>CATHOLIC</td>\n",
       "      <td>3</td>\n",
       "      <td>0.80</td>\n",
       "      <td>0.800000</td>\n",
       "      <td>mmol/L</td>\n",
       "    </tr>\n",
       "    <tr>\n",
       "      <th>4</th>\n",
       "      <td>EMERGENCY ROOM ADMIT</td>\n",
       "      <td>EMERGENCY</td>\n",
       "      <td>2101-10-20 19:08:00</td>\n",
       "      <td>77.0</td>\n",
       "      <td>2101-10-20 20:04:00</td>\n",
       "      <td>NaN</td>\n",
       "      <td>HYPOTENSION</td>\n",
       "      <td>SNF</td>\n",
       "      <td>2101-10-31 13:58:00</td>\n",
       "      <td>2025-04-11</td>\n",
       "      <td>...</td>\n",
       "      <td>Medicare</td>\n",
       "      <td>50808</td>\n",
       "      <td>NaN</td>\n",
       "      <td>MARRIED</td>\n",
       "      <td>Calcium ionized</td>\n",
       "      <td>CATHOLIC</td>\n",
       "      <td>3</td>\n",
       "      <td>0.98</td>\n",
       "      <td>0.980000</td>\n",
       "      <td>mmol/L</td>\n",
       "    </tr>\n",
       "    <tr>\n",
       "      <th>...</th>\n",
       "      <td>...</td>\n",
       "      <td>...</td>\n",
       "      <td>...</td>\n",
       "      <td>...</td>\n",
       "      <td>...</td>\n",
       "      <td>...</td>\n",
       "      <td>...</td>\n",
       "      <td>...</td>\n",
       "      <td>...</td>\n",
       "      <td>...</td>\n",
       "      <td>...</td>\n",
       "      <td>...</td>\n",
       "      <td>...</td>\n",
       "      <td>...</td>\n",
       "      <td>...</td>\n",
       "      <td>...</td>\n",
       "      <td>...</td>\n",
       "      <td>...</td>\n",
       "      <td>...</td>\n",
       "      <td>...</td>\n",
       "      <td>...</td>\n",
       "    </tr>\n",
       "    <tr>\n",
       "      <th>1194621</th>\n",
       "      <td>PHYS REFERRAL/NORMAL DELI</td>\n",
       "      <td>ELECTIVE</td>\n",
       "      <td>2113-10-12 07:15:00</td>\n",
       "      <td>74.0</td>\n",
       "      <td>2113-10-12 19:12:00</td>\n",
       "      <td>NaN</td>\n",
       "      <td>CORONARY ARTERY DISEASE\\CORONARY ARTERY BYPASS...</td>\n",
       "      <td>HOME</td>\n",
       "      <td>2113-10-18 13:15:00</td>\n",
       "      <td>2039-11-04 00:00:00</td>\n",
       "      <td>...</td>\n",
       "      <td>Self Pay</td>\n",
       "      <td>833</td>\n",
       "      <td>ENGL</td>\n",
       "      <td>MARRIED</td>\n",
       "      <td>Red blood cell</td>\n",
       "      <td>PROTESTANT QUAKER</td>\n",
       "      <td>32777</td>\n",
       "      <td>3.4000000953674316</td>\n",
       "      <td>3.400000</td>\n",
       "      <td>/mic l</td>\n",
       "    </tr>\n",
       "    <tr>\n",
       "      <th>1194622</th>\n",
       "      <td>PHYS REFERRAL/NORMAL DELI</td>\n",
       "      <td>ELECTIVE</td>\n",
       "      <td>2113-10-12 07:15:00</td>\n",
       "      <td>74.0</td>\n",
       "      <td>2113-10-12 12:18:00</td>\n",
       "      <td>NaN</td>\n",
       "      <td>CORONARY ARTERY DISEASE\\CORONARY ARTERY BYPASS...</td>\n",
       "      <td>HOME</td>\n",
       "      <td>2113-10-18 13:15:00</td>\n",
       "      <td>2039-11-04 00:00:00</td>\n",
       "      <td>...</td>\n",
       "      <td>Self Pay</td>\n",
       "      <td>813</td>\n",
       "      <td>ENGL</td>\n",
       "      <td>MARRIED</td>\n",
       "      <td>Hematocrit</td>\n",
       "      <td>PROTESTANT QUAKER</td>\n",
       "      <td>32777</td>\n",
       "      <td>31.299999237060547</td>\n",
       "      <td>31.299999</td>\n",
       "      <td>%</td>\n",
       "    </tr>\n",
       "    <tr>\n",
       "      <th>1194623</th>\n",
       "      <td>PHYS REFERRAL/NORMAL DELI</td>\n",
       "      <td>ELECTIVE</td>\n",
       "      <td>2113-10-12 07:15:00</td>\n",
       "      <td>74.0</td>\n",
       "      <td>2113-10-12 12:18:00</td>\n",
       "      <td>NaN</td>\n",
       "      <td>CORONARY ARTERY DISEASE\\CORONARY ARTERY BYPASS...</td>\n",
       "      <td>HOME</td>\n",
       "      <td>2113-10-18 13:15:00</td>\n",
       "      <td>2039-11-04 00:00:00</td>\n",
       "      <td>...</td>\n",
       "      <td>Self Pay</td>\n",
       "      <td>833</td>\n",
       "      <td>ENGL</td>\n",
       "      <td>MARRIED</td>\n",
       "      <td>Red blood cell</td>\n",
       "      <td>PROTESTANT QUAKER</td>\n",
       "      <td>32777</td>\n",
       "      <td>3.4100000858306885</td>\n",
       "      <td>3.410000</td>\n",
       "      <td>/mic l</td>\n",
       "    </tr>\n",
       "    <tr>\n",
       "      <th>1194624</th>\n",
       "      <td>PHYS REFERRAL/NORMAL DELI</td>\n",
       "      <td>ELECTIVE</td>\n",
       "      <td>2113-10-12 07:15:00</td>\n",
       "      <td>74.0</td>\n",
       "      <td>2113-10-12 11:38:00</td>\n",
       "      <td>NaN</td>\n",
       "      <td>CORONARY ARTERY DISEASE\\CORONARY ARTERY BYPASS...</td>\n",
       "      <td>HOME</td>\n",
       "      <td>2113-10-18 13:15:00</td>\n",
       "      <td>2039-11-04 00:00:00</td>\n",
       "      <td>...</td>\n",
       "      <td>Self Pay</td>\n",
       "      <td>813</td>\n",
       "      <td>ENGL</td>\n",
       "      <td>MARRIED</td>\n",
       "      <td>Hematocrit</td>\n",
       "      <td>PROTESTANT QUAKER</td>\n",
       "      <td>32777</td>\n",
       "      <td>31</td>\n",
       "      <td>31.000000</td>\n",
       "      <td>%</td>\n",
       "    </tr>\n",
       "    <tr>\n",
       "      <th>1194625</th>\n",
       "      <td>PHYS REFERRAL/NORMAL DELI</td>\n",
       "      <td>ELECTIVE</td>\n",
       "      <td>2113-10-12 07:15:00</td>\n",
       "      <td>74.0</td>\n",
       "      <td>2113-10-12 11:38:00</td>\n",
       "      <td>NaN</td>\n",
       "      <td>CORONARY ARTERY DISEASE\\CORONARY ARTERY BYPASS...</td>\n",
       "      <td>HOME</td>\n",
       "      <td>2113-10-18 13:15:00</td>\n",
       "      <td>2039-11-04 00:00:00</td>\n",
       "      <td>...</td>\n",
       "      <td>Self Pay</td>\n",
       "      <td>833</td>\n",
       "      <td>ENGL</td>\n",
       "      <td>MARRIED</td>\n",
       "      <td>Red blood cell</td>\n",
       "      <td>PROTESTANT QUAKER</td>\n",
       "      <td>32777</td>\n",
       "      <td>3.2699999809265137</td>\n",
       "      <td>3.270000</td>\n",
       "      <td>/mic l</td>\n",
       "    </tr>\n",
       "  </tbody>\n",
       "</table>\n",
       "<p>13609662 rows × 31 columns</p>\n",
       "</div>"
      ],
      "text/plain": [
       "                ADMISSION_LOCATION ADMISSION_TYPE            ADMITTIME   AGE  \\\n",
       "0             EMERGENCY ROOM ADMIT      EMERGENCY  2101-10-20 19:08:00  77.0   \n",
       "1             EMERGENCY ROOM ADMIT      EMERGENCY  2101-10-20 19:08:00  77.0   \n",
       "2             EMERGENCY ROOM ADMIT      EMERGENCY  2101-10-20 19:08:00  77.0   \n",
       "3             EMERGENCY ROOM ADMIT      EMERGENCY  2101-10-20 19:08:00  77.0   \n",
       "4             EMERGENCY ROOM ADMIT      EMERGENCY  2101-10-20 19:08:00  77.0   \n",
       "...                            ...            ...                  ...   ...   \n",
       "1194621  PHYS REFERRAL/NORMAL DELI       ELECTIVE  2113-10-12 07:15:00  74.0   \n",
       "1194622  PHYS REFERRAL/NORMAL DELI       ELECTIVE  2113-10-12 07:15:00  74.0   \n",
       "1194623  PHYS REFERRAL/NORMAL DELI       ELECTIVE  2113-10-12 07:15:00  74.0   \n",
       "1194624  PHYS REFERRAL/NORMAL DELI       ELECTIVE  2113-10-12 07:15:00  74.0   \n",
       "1194625  PHYS REFERRAL/NORMAL DELI       ELECTIVE  2113-10-12 07:15:00  74.0   \n",
       "\n",
       "                   CHARTTIME DEATHTIME  \\\n",
       "0        2101-10-22 04:31:00       NaN   \n",
       "1        2101-10-23 02:46:00       NaN   \n",
       "2        2101-10-23 10:14:00       NaN   \n",
       "3        2101-10-23 16:10:00       NaN   \n",
       "4        2101-10-20 20:04:00       NaN   \n",
       "...                      ...       ...   \n",
       "1194621  2113-10-12 19:12:00       NaN   \n",
       "1194622  2113-10-12 12:18:00       NaN   \n",
       "1194623  2113-10-12 12:18:00       NaN   \n",
       "1194624  2113-10-12 11:38:00       NaN   \n",
       "1194625  2113-10-12 11:38:00       NaN   \n",
       "\n",
       "                                                 DIAGNOSIS DISCHARGE_LOCATION  \\\n",
       "0                                              HYPOTENSION                SNF   \n",
       "1                                              HYPOTENSION                SNF   \n",
       "2                                              HYPOTENSION                SNF   \n",
       "3                                              HYPOTENSION                SNF   \n",
       "4                                              HYPOTENSION                SNF   \n",
       "...                                                    ...                ...   \n",
       "1194621  CORONARY ARTERY DISEASE\\CORONARY ARTERY BYPASS...               HOME   \n",
       "1194622  CORONARY ARTERY DISEASE\\CORONARY ARTERY BYPASS...               HOME   \n",
       "1194623  CORONARY ARTERY DISEASE\\CORONARY ARTERY BYPASS...               HOME   \n",
       "1194624  CORONARY ARTERY DISEASE\\CORONARY ARTERY BYPASS...               HOME   \n",
       "1194625  CORONARY ARTERY DISEASE\\CORONARY ARTERY BYPASS...               HOME   \n",
       "\n",
       "                   DISCHTIME                  DOB  ... INSURANCE ITEMID  \\\n",
       "0        2101-10-31 13:58:00           2025-04-11  ...  Medicare  50808   \n",
       "1        2101-10-31 13:58:00           2025-04-11  ...  Medicare  50808   \n",
       "2        2101-10-31 13:58:00           2025-04-11  ...  Medicare  50808   \n",
       "3        2101-10-31 13:58:00           2025-04-11  ...  Medicare  50808   \n",
       "4        2101-10-31 13:58:00           2025-04-11  ...  Medicare  50808   \n",
       "...                      ...                  ...  ...       ...    ...   \n",
       "1194621  2113-10-18 13:15:00  2039-11-04 00:00:00  ...  Self Pay    833   \n",
       "1194622  2113-10-18 13:15:00  2039-11-04 00:00:00  ...  Self Pay    813   \n",
       "1194623  2113-10-18 13:15:00  2039-11-04 00:00:00  ...  Self Pay    833   \n",
       "1194624  2113-10-18 13:15:00  2039-11-04 00:00:00  ...  Self Pay    813   \n",
       "1194625  2113-10-18 13:15:00  2039-11-04 00:00:00  ...  Self Pay    833   \n",
       "\n",
       "        LANGUAGE MARITAL_STATUS MIMICExtractName           RELIGION  \\\n",
       "0            NaN        MARRIED  Calcium ionized           CATHOLIC   \n",
       "1            NaN        MARRIED  Calcium ionized           CATHOLIC   \n",
       "2            NaN        MARRIED  Calcium ionized           CATHOLIC   \n",
       "3            NaN        MARRIED  Calcium ionized           CATHOLIC   \n",
       "4            NaN        MARRIED  Calcium ionized           CATHOLIC   \n",
       "...          ...            ...              ...                ...   \n",
       "1194621     ENGL        MARRIED   Red blood cell  PROTESTANT QUAKER   \n",
       "1194622     ENGL        MARRIED       Hematocrit  PROTESTANT QUAKER   \n",
       "1194623     ENGL        MARRIED   Red blood cell  PROTESTANT QUAKER   \n",
       "1194624     ENGL        MARRIED       Hematocrit  PROTESTANT QUAKER   \n",
       "1194625     ENGL        MARRIED   Red blood cell  PROTESTANT QUAKER   \n",
       "\n",
       "         SUBJECT_ID               VALUE   VALUENUM  VALUEUOM  \n",
       "0                 3                1.12   1.120000    mmol/L  \n",
       "1                 3                1.19   1.190000    mmol/L  \n",
       "2                 3                1.11   1.110000    mmol/L  \n",
       "3                 3                0.80   0.800000    mmol/L  \n",
       "4                 3                0.98   0.980000    mmol/L  \n",
       "...             ...                 ...        ...       ...  \n",
       "1194621       32777  3.4000000953674316   3.400000    /mic l  \n",
       "1194622       32777  31.299999237060547  31.299999         %  \n",
       "1194623       32777  3.4100000858306885   3.410000    /mic l  \n",
       "1194624       32777                  31  31.000000         %  \n",
       "1194625       32777  3.2699999809265137   3.270000    /mic l  \n",
       "\n",
       "[13609662 rows x 31 columns]"
      ]
     },
     "execution_count": 64,
     "metadata": {},
     "output_type": "execute_result"
    }
   ],
   "source": [
    "t_c_l = t_c_l[t_c_l[\"AGE\"]<100]\n",
    "t_c_l = t_c_l[t_c_l[\"AGE\"]>0]"
   ]
  },
  {
   "cell_type": "code",
   "execution_count": 65,
   "metadata": {},
   "outputs": [
    {
     "name": "stderr",
     "output_type": "stream",
     "text": [
      "/var/folders/xb/6svjl9sj43z6gfhlcp2nc5540000gr/T/ipykernel_18861/4024418374.py:1: FutureWarning: Inferring datetime64[ns] from data containing strings is deprecated and will be removed in a future version. To retain the old behavior explicitly pass Series(data, dtype=datetime64[ns])\n",
      "  final_labs = t_c_l.groupby([\"HADM_ID\", \"ADMITTIME\", \"CHARTTIME\", \"VALUENUM\", \"MIMICExtractName\"]).nth(0).reset_index()\n"
     ]
    }
   ],
   "source": [
    "final_labs = t_c_l.groupby([\"HADM_ID\", \"ADMITTIME\", \"CHARTTIME\", \"VALUENUM\", \"MIMICExtractName\"]).nth(0).reset_index()"
   ]
  },
  {
   "cell_type": "code",
   "execution_count": 66,
   "metadata": {},
   "outputs": [],
   "source": [
    "final_labs = final_labs.dropna(subset=['VALUENUM'])"
   ]
  },
  {
   "cell_type": "code",
   "execution_count": 68,
   "metadata": {},
   "outputs": [],
   "source": [
    "final_labs.to_csv(os.path.join(data, \"mimiciii/1.4/preprocessed\", \"lab_patient_data_mimic_extract_2.csv\"))"
   ]
  },
  {
   "cell_type": "code",
   "execution_count": null,
   "metadata": {},
   "outputs": [],
   "source": []
  }
 ],
 "metadata": {
  "kernelspec": {
   "display_name": "Python 3.10.4 ('drug_lab')",
   "language": "python",
   "name": "python3"
  },
  "language_info": {
   "codemirror_mode": {
    "name": "ipython",
    "version": 3
   },
   "file_extension": ".py",
   "mimetype": "text/x-python",
   "name": "python",
   "nbconvert_exporter": "python",
   "pygments_lexer": "ipython3",
   "version": "3.10.4 (main, Mar 31 2022, 03:37:37) [Clang 12.0.0 ]"
  },
  "orig_nbformat": 4,
  "vscode": {
   "interpreter": {
    "hash": "bdfae57a338f302dc1dcec357ac11e9f753ccc771aa1c4e860bf04580c454473"
   }
  }
 },
 "nbformat": 4,
 "nbformat_minor": 2
}
