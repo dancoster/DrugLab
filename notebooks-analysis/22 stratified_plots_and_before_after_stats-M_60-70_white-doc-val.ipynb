{
 "cells": [
  {
   "cell_type": "code",
   "execution_count": 1,
   "metadata": {},
   "outputs": [],
   "source": [
    "data = \"/Volumes/GoogleDrive/My Drive/TAU/Code/DrugLab/data\"\n",
    "res = \"/Volumes/GoogleDrive/My Drive/TAU/Code/DrugLab/results\""
   ]
  },
  {
   "cell_type": "code",
   "execution_count": 2,
   "metadata": {},
   "outputs": [],
   "source": [
    "import pandas as pd\n",
    "import os"
   ]
  },
  {
   "cell_type": "markdown",
   "metadata": {},
   "source": [
    "## Medication Patient Data"
   ]
  },
  {
   "cell_type": "markdown",
   "metadata": {},
   "source": [
    "## Filter Meds"
   ]
  },
  {
   "cell_type": "markdown",
   "metadata": {},
   "source": [
    "### Med 1"
   ]
  },
  {
   "cell_type": "code",
   "execution_count": 3,
   "metadata": {},
   "outputs": [],
   "source": [
    "# Male, 60-70, WHITE"
   ]
  },
  {
   "cell_type": "code",
   "execution_count": 4,
   "metadata": {},
   "outputs": [],
   "source": [
    "gender = \"M\"\n",
    "age_b = 60\n",
    "age_a = 70\n",
    "ethnicity = \"WHITE\"\n",
    "stratify_prefix = f\"{age_b}-{age_a}_{gender}_{ethnicity}\"\n"
   ]
  },
  {
   "cell_type": "code",
   "execution_count": 6,
   "metadata": {},
   "outputs": [],
   "source": [
    "med_itemids = [3439, 221794, 228340, 5962, 6296, 7745, 7252, 227694, 46203, 46203, 1097, 2778, 1898, 1226, 6756, 6616, 8074, 6741, 7372, 40550, 41583, 40700, 44280, 41583, 46014, 46522, 46548, 46565, 7325, 50856, 225913,  221824, 90018, 225855, 51008, 6148, 2570, 50962, 45853, 222151, 50972, 30052]"
   ]
  },
  {
   "cell_type": "code",
   "execution_count": 7,
   "metadata": {},
   "outputs": [],
   "source": [
    "med1 = pd.read_csv(os.path.join(data, \"mimiciii/1.4/preprocessed\", \"med1_vectorized.csv\"))"
   ]
  },
  {
   "cell_type": "code",
   "execution_count": 8,
   "metadata": {},
   "outputs": [],
   "source": [
    "h_adm_1 = med1.sort_values([\"SUBJECT_ID\", \"STARTTIME\"]).groupby(\"SUBJECT_ID\").nth(0)[\"HADM_ID\"].to_list()\n",
    "med1 = med1[med1.HADM_ID.isin(h_adm_1)]"
   ]
  },
  {
   "cell_type": "code",
   "execution_count": 9,
   "metadata": {},
   "outputs": [],
   "source": [
    "med1 = med1.drop(columns=[\"Unnamed: 0\"])"
   ]
  },
  {
   "cell_type": "code",
   "execution_count": 10,
   "metadata": {},
   "outputs": [],
   "source": [
    "med1 = med1[med1[\"AGE\"]>=age_b]\n",
    "med1 = med1[med1[\"AGE\"]<=age_a]"
   ]
  },
  {
   "cell_type": "code",
   "execution_count": 11,
   "metadata": {},
   "outputs": [],
   "source": [
    "med1 = med1[med1[\"GENDER\"]==gender]\n",
    "med1 = med1[med1[\"ETHNICITY\"]==ethnicity]"
   ]
  },
  {
   "cell_type": "code",
   "execution_count": 12,
   "metadata": {},
   "outputs": [],
   "source": [
    "med1 = med1[med1.ITEMID.isin(med_itemids)]"
   ]
  },
  {
   "cell_type": "code",
   "execution_count": 13,
   "metadata": {},
   "outputs": [
    {
     "data": {
      "text/html": [
       "<div>\n",
       "<style scoped>\n",
       "    .dataframe tbody tr th:only-of-type {\n",
       "        vertical-align: middle;\n",
       "    }\n",
       "\n",
       "    .dataframe tbody tr th {\n",
       "        vertical-align: top;\n",
       "    }\n",
       "\n",
       "    .dataframe thead th {\n",
       "        text-align: right;\n",
       "    }\n",
       "</style>\n",
       "<table border=\"1\" class=\"dataframe\">\n",
       "  <thead>\n",
       "    <tr style=\"text-align: right;\">\n",
       "      <th></th>\n",
       "      <th>SUBJECT_ID</th>\n",
       "      <th>DOB</th>\n",
       "      <th>GENDER</th>\n",
       "      <th>DOD</th>\n",
       "      <th>EXPIRE_FLAG</th>\n",
       "      <th>ITEMID</th>\n",
       "      <th>HADM_ID</th>\n",
       "      <th>ICUSTAY_ID</th>\n",
       "      <th>STARTTIME</th>\n",
       "      <th>ENDTIME</th>\n",
       "      <th>...</th>\n",
       "      <th>LABEL</th>\n",
       "      <th>ABBREVIATION</th>\n",
       "      <th>DBSOURCE</th>\n",
       "      <th>LINKSTO</th>\n",
       "      <th>CATEGORY</th>\n",
       "      <th>UNITNAME</th>\n",
       "      <th>PARAM_TYPE</th>\n",
       "      <th>CONCEPTID</th>\n",
       "      <th>MedTimeFromAdmit</th>\n",
       "      <th>AGE</th>\n",
       "    </tr>\n",
       "  </thead>\n",
       "  <tbody>\n",
       "    <tr>\n",
       "      <th>586</th>\n",
       "      <td>357</td>\n",
       "      <td>2135-03-22</td>\n",
       "      <td>M</td>\n",
       "      <td>2201-08-02 00:00:00</td>\n",
       "      <td>1</td>\n",
       "      <td>225855</td>\n",
       "      <td>101651</td>\n",
       "      <td>259107.0</td>\n",
       "      <td>2199-10-20 13:00:00</td>\n",
       "      <td>2199-10-20 13:01:00</td>\n",
       "      <td>...</td>\n",
       "      <td>Ceftriaxone</td>\n",
       "      <td>Ceftriaxone</td>\n",
       "      <td>metavision</td>\n",
       "      <td>inputevents_mv</td>\n",
       "      <td>Antibiotics</td>\n",
       "      <td>dose</td>\n",
       "      <td>Solution</td>\n",
       "      <td>NaN</td>\n",
       "      <td>0 days 00:56:00</td>\n",
       "      <td>65.0</td>\n",
       "    </tr>\n",
       "    <tr>\n",
       "      <th>782</th>\n",
       "      <td>533</td>\n",
       "      <td>2101-07-30</td>\n",
       "      <td>M</td>\n",
       "      <td>NaN</td>\n",
       "      <td>0</td>\n",
       "      <td>221794</td>\n",
       "      <td>100009</td>\n",
       "      <td>253656.0</td>\n",
       "      <td>2162-05-18 08:18:00</td>\n",
       "      <td>2162-05-18 08:19:00</td>\n",
       "      <td>...</td>\n",
       "      <td>Furosemide (Lasix)</td>\n",
       "      <td>Furosemide (Lasix)</td>\n",
       "      <td>metavision</td>\n",
       "      <td>inputevents_mv</td>\n",
       "      <td>Medications</td>\n",
       "      <td>mg</td>\n",
       "      <td>Solution</td>\n",
       "      <td>NaN</td>\n",
       "      <td>1 days 16:23:00</td>\n",
       "      <td>61.0</td>\n",
       "    </tr>\n",
       "    <tr>\n",
       "      <th>973</th>\n",
       "      <td>975</td>\n",
       "      <td>2074-05-16</td>\n",
       "      <td>M</td>\n",
       "      <td>2142-06-21 00:00:00</td>\n",
       "      <td>1</td>\n",
       "      <td>221794</td>\n",
       "      <td>175734</td>\n",
       "      <td>286445.0</td>\n",
       "      <td>2142-05-16 16:00:00</td>\n",
       "      <td>2142-05-16 16:01:00</td>\n",
       "      <td>...</td>\n",
       "      <td>Furosemide (Lasix)</td>\n",
       "      <td>Furosemide (Lasix)</td>\n",
       "      <td>metavision</td>\n",
       "      <td>inputevents_mv</td>\n",
       "      <td>Medications</td>\n",
       "      <td>mg</td>\n",
       "      <td>Solution</td>\n",
       "      <td>NaN</td>\n",
       "      <td>0 days 23:45:00</td>\n",
       "      <td>68.0</td>\n",
       "    </tr>\n",
       "    <tr>\n",
       "      <th>1016</th>\n",
       "      <td>975</td>\n",
       "      <td>2074-05-16</td>\n",
       "      <td>M</td>\n",
       "      <td>2142-06-21 00:00:00</td>\n",
       "      <td>1</td>\n",
       "      <td>225855</td>\n",
       "      <td>175734</td>\n",
       "      <td>243103.0</td>\n",
       "      <td>2142-06-20 21:49:00</td>\n",
       "      <td>2142-06-20 21:50:00</td>\n",
       "      <td>...</td>\n",
       "      <td>Ceftriaxone</td>\n",
       "      <td>Ceftriaxone</td>\n",
       "      <td>metavision</td>\n",
       "      <td>inputevents_mv</td>\n",
       "      <td>Antibiotics</td>\n",
       "      <td>dose</td>\n",
       "      <td>Solution</td>\n",
       "      <td>NaN</td>\n",
       "      <td>36 days 05:34:00</td>\n",
       "      <td>68.0</td>\n",
       "    </tr>\n",
       "    <tr>\n",
       "      <th>1155</th>\n",
       "      <td>2208</td>\n",
       "      <td>2120-10-04</td>\n",
       "      <td>M</td>\n",
       "      <td>2191-10-17 00:00:00</td>\n",
       "      <td>1</td>\n",
       "      <td>225855</td>\n",
       "      <td>162248</td>\n",
       "      <td>259196.0</td>\n",
       "      <td>2190-08-20 13:41:00</td>\n",
       "      <td>2190-08-20 13:42:00</td>\n",
       "      <td>...</td>\n",
       "      <td>Ceftriaxone</td>\n",
       "      <td>Ceftriaxone</td>\n",
       "      <td>metavision</td>\n",
       "      <td>inputevents_mv</td>\n",
       "      <td>Antibiotics</td>\n",
       "      <td>dose</td>\n",
       "      <td>Solution</td>\n",
       "      <td>NaN</td>\n",
       "      <td>1 days 15:28:00</td>\n",
       "      <td>70.0</td>\n",
       "    </tr>\n",
       "    <tr>\n",
       "      <th>...</th>\n",
       "      <td>...</td>\n",
       "      <td>...</td>\n",
       "      <td>...</td>\n",
       "      <td>...</td>\n",
       "      <td>...</td>\n",
       "      <td>...</td>\n",
       "      <td>...</td>\n",
       "      <td>...</td>\n",
       "      <td>...</td>\n",
       "      <td>...</td>\n",
       "      <td>...</td>\n",
       "      <td>...</td>\n",
       "      <td>...</td>\n",
       "      <td>...</td>\n",
       "      <td>...</td>\n",
       "      <td>...</td>\n",
       "      <td>...</td>\n",
       "      <td>...</td>\n",
       "      <td>...</td>\n",
       "      <td>...</td>\n",
       "      <td>...</td>\n",
       "    </tr>\n",
       "    <tr>\n",
       "      <th>320870</th>\n",
       "      <td>77690</td>\n",
       "      <td>2042-04-05</td>\n",
       "      <td>M</td>\n",
       "      <td>NaN</td>\n",
       "      <td>0</td>\n",
       "      <td>227694</td>\n",
       "      <td>121387</td>\n",
       "      <td>247506.0</td>\n",
       "      <td>2110-11-23 07:56:00</td>\n",
       "      <td>2110-11-23 07:57:00</td>\n",
       "      <td>...</td>\n",
       "      <td>Omeprazole (Prilosec)</td>\n",
       "      <td>Omeprazole (Prilosec)</td>\n",
       "      <td>metavision</td>\n",
       "      <td>inputevents_mv</td>\n",
       "      <td>Medications</td>\n",
       "      <td>dose</td>\n",
       "      <td>Solution</td>\n",
       "      <td>NaN</td>\n",
       "      <td>5 days 15:11:00</td>\n",
       "      <td>69.0</td>\n",
       "    </tr>\n",
       "    <tr>\n",
       "      <th>320874</th>\n",
       "      <td>77690</td>\n",
       "      <td>2042-04-05</td>\n",
       "      <td>M</td>\n",
       "      <td>NaN</td>\n",
       "      <td>0</td>\n",
       "      <td>225913</td>\n",
       "      <td>121387</td>\n",
       "      <td>247506.0</td>\n",
       "      <td>2110-11-24 16:00:00</td>\n",
       "      <td>2110-11-24 16:01:00</td>\n",
       "      <td>...</td>\n",
       "      <td>Coumadin (Warfarin)</td>\n",
       "      <td>Coumadin (Warfarin)</td>\n",
       "      <td>metavision</td>\n",
       "      <td>inputevents_mv</td>\n",
       "      <td>Medications</td>\n",
       "      <td>dose</td>\n",
       "      <td>Solution</td>\n",
       "      <td>NaN</td>\n",
       "      <td>6 days 23:15:00</td>\n",
       "      <td>69.0</td>\n",
       "    </tr>\n",
       "    <tr>\n",
       "      <th>321377</th>\n",
       "      <td>43742</td>\n",
       "      <td>2113-08-29</td>\n",
       "      <td>M</td>\n",
       "      <td>2175-12-09 00:00:00</td>\n",
       "      <td>1</td>\n",
       "      <td>221794</td>\n",
       "      <td>191527</td>\n",
       "      <td>216409.0</td>\n",
       "      <td>2175-12-01 22:44:00</td>\n",
       "      <td>2175-12-01 22:45:00</td>\n",
       "      <td>...</td>\n",
       "      <td>Furosemide (Lasix)</td>\n",
       "      <td>Furosemide (Lasix)</td>\n",
       "      <td>metavision</td>\n",
       "      <td>inputevents_mv</td>\n",
       "      <td>Medications</td>\n",
       "      <td>mg</td>\n",
       "      <td>Solution</td>\n",
       "      <td>NaN</td>\n",
       "      <td>1 days 04:29:00</td>\n",
       "      <td>62.0</td>\n",
       "    </tr>\n",
       "    <tr>\n",
       "      <th>321549</th>\n",
       "      <td>43786</td>\n",
       "      <td>2078-03-24</td>\n",
       "      <td>M</td>\n",
       "      <td>NaN</td>\n",
       "      <td>0</td>\n",
       "      <td>221794</td>\n",
       "      <td>151092</td>\n",
       "      <td>230331.0</td>\n",
       "      <td>2138-07-16 10:40:00</td>\n",
       "      <td>2138-07-16 10:41:00</td>\n",
       "      <td>...</td>\n",
       "      <td>Furosemide (Lasix)</td>\n",
       "      <td>Furosemide (Lasix)</td>\n",
       "      <td>metavision</td>\n",
       "      <td>inputevents_mv</td>\n",
       "      <td>Medications</td>\n",
       "      <td>mg</td>\n",
       "      <td>Solution</td>\n",
       "      <td>NaN</td>\n",
       "      <td>1 days 21:20:00</td>\n",
       "      <td>60.0</td>\n",
       "    </tr>\n",
       "    <tr>\n",
       "      <th>321611</th>\n",
       "      <td>43798</td>\n",
       "      <td>2136-07-29</td>\n",
       "      <td>M</td>\n",
       "      <td>2200-12-31 00:00:00</td>\n",
       "      <td>1</td>\n",
       "      <td>221794</td>\n",
       "      <td>130870</td>\n",
       "      <td>243229.0</td>\n",
       "      <td>2198-06-30 22:01:00</td>\n",
       "      <td>2198-06-30 22:02:00</td>\n",
       "      <td>...</td>\n",
       "      <td>Furosemide (Lasix)</td>\n",
       "      <td>Furosemide (Lasix)</td>\n",
       "      <td>metavision</td>\n",
       "      <td>inputevents_mv</td>\n",
       "      <td>Medications</td>\n",
       "      <td>mg</td>\n",
       "      <td>Solution</td>\n",
       "      <td>NaN</td>\n",
       "      <td>1 days 14:47:00</td>\n",
       "      <td>62.0</td>\n",
       "    </tr>\n",
       "  </tbody>\n",
       "</table>\n",
       "<p>1147 rows × 63 columns</p>\n",
       "</div>"
      ],
      "text/plain": [
       "        SUBJECT_ID         DOB GENDER                  DOD  EXPIRE_FLAG  \\\n",
       "586            357  2135-03-22      M  2201-08-02 00:00:00            1   \n",
       "782            533  2101-07-30      M                  NaN            0   \n",
       "973            975  2074-05-16      M  2142-06-21 00:00:00            1   \n",
       "1016           975  2074-05-16      M  2142-06-21 00:00:00            1   \n",
       "1155          2208  2120-10-04      M  2191-10-17 00:00:00            1   \n",
       "...            ...         ...    ...                  ...          ...   \n",
       "320870       77690  2042-04-05      M                  NaN            0   \n",
       "320874       77690  2042-04-05      M                  NaN            0   \n",
       "321377       43742  2113-08-29      M  2175-12-09 00:00:00            1   \n",
       "321549       43786  2078-03-24      M                  NaN            0   \n",
       "321611       43798  2136-07-29      M  2200-12-31 00:00:00            1   \n",
       "\n",
       "        ITEMID  HADM_ID  ICUSTAY_ID            STARTTIME              ENDTIME  \\\n",
       "586     225855   101651    259107.0  2199-10-20 13:00:00  2199-10-20 13:01:00   \n",
       "782     221794   100009    253656.0  2162-05-18 08:18:00  2162-05-18 08:19:00   \n",
       "973     221794   175734    286445.0  2142-05-16 16:00:00  2142-05-16 16:01:00   \n",
       "1016    225855   175734    243103.0  2142-06-20 21:49:00  2142-06-20 21:50:00   \n",
       "1155    225855   162248    259196.0  2190-08-20 13:41:00  2190-08-20 13:42:00   \n",
       "...        ...      ...         ...                  ...                  ...   \n",
       "320870  227694   121387    247506.0  2110-11-23 07:56:00  2110-11-23 07:57:00   \n",
       "320874  225913   121387    247506.0  2110-11-24 16:00:00  2110-11-24 16:01:00   \n",
       "321377  221794   191527    216409.0  2175-12-01 22:44:00  2175-12-01 22:45:00   \n",
       "321549  221794   151092    230331.0  2138-07-16 10:40:00  2138-07-16 10:41:00   \n",
       "321611  221794   130870    243229.0  2198-06-30 22:01:00  2198-06-30 22:02:00   \n",
       "\n",
       "        ...                  LABEL           ABBREVIATION    DBSOURCE  \\\n",
       "586     ...            Ceftriaxone            Ceftriaxone  metavision   \n",
       "782     ...     Furosemide (Lasix)     Furosemide (Lasix)  metavision   \n",
       "973     ...     Furosemide (Lasix)     Furosemide (Lasix)  metavision   \n",
       "1016    ...            Ceftriaxone            Ceftriaxone  metavision   \n",
       "1155    ...            Ceftriaxone            Ceftriaxone  metavision   \n",
       "...     ...                    ...                    ...         ...   \n",
       "320870  ...  Omeprazole (Prilosec)  Omeprazole (Prilosec)  metavision   \n",
       "320874  ...    Coumadin (Warfarin)    Coumadin (Warfarin)  metavision   \n",
       "321377  ...     Furosemide (Lasix)     Furosemide (Lasix)  metavision   \n",
       "321549  ...     Furosemide (Lasix)     Furosemide (Lasix)  metavision   \n",
       "321611  ...     Furosemide (Lasix)     Furosemide (Lasix)  metavision   \n",
       "\n",
       "               LINKSTO     CATEGORY  UNITNAME  PARAM_TYPE  CONCEPTID  \\\n",
       "586     inputevents_mv  Antibiotics      dose    Solution        NaN   \n",
       "782     inputevents_mv  Medications        mg    Solution        NaN   \n",
       "973     inputevents_mv  Medications        mg    Solution        NaN   \n",
       "1016    inputevents_mv  Antibiotics      dose    Solution        NaN   \n",
       "1155    inputevents_mv  Antibiotics      dose    Solution        NaN   \n",
       "...                ...          ...       ...         ...        ...   \n",
       "320870  inputevents_mv  Medications      dose    Solution        NaN   \n",
       "320874  inputevents_mv  Medications      dose    Solution        NaN   \n",
       "321377  inputevents_mv  Medications        mg    Solution        NaN   \n",
       "321549  inputevents_mv  Medications        mg    Solution        NaN   \n",
       "321611  inputevents_mv  Medications        mg    Solution        NaN   \n",
       "\n",
       "        MedTimeFromAdmit   AGE  \n",
       "586      0 days 00:56:00  65.0  \n",
       "782      1 days 16:23:00  61.0  \n",
       "973      0 days 23:45:00  68.0  \n",
       "1016    36 days 05:34:00  68.0  \n",
       "1155     1 days 15:28:00  70.0  \n",
       "...                  ...   ...  \n",
       "320870   5 days 15:11:00  69.0  \n",
       "320874   6 days 23:15:00  69.0  \n",
       "321377   1 days 04:29:00  62.0  \n",
       "321549   1 days 21:20:00  60.0  \n",
       "321611   1 days 14:47:00  62.0  \n",
       "\n",
       "[1147 rows x 63 columns]"
      ]
     },
     "execution_count": 13,
     "metadata": {},
     "output_type": "execute_result"
    }
   ],
   "source": [
    "med1"
   ]
  },
  {
   "cell_type": "markdown",
   "metadata": {},
   "source": [
    "### Med 2"
   ]
  },
  {
   "cell_type": "code",
   "execution_count": 14,
   "metadata": {},
   "outputs": [
    {
     "name": "stderr",
     "output_type": "stream",
     "text": [
      "/var/folders/xb/6svjl9sj43z6gfhlcp2nc5540000gr/T/ipykernel_80825/27638116.py:1: DtypeWarning: Columns (31) have mixed types. Specify dtype option on import or set low_memory=False.\n",
      "  med2 = pd.read_csv(os.path.join(data, \"mimiciii/1.4/preprocessed\", \"med2_vectorized.csv\"))\n"
     ]
    }
   ],
   "source": [
    "med2 = pd.read_csv(os.path.join(data, \"mimiciii/1.4/preprocessed\", \"med2_vectorized.csv\"))"
   ]
  },
  {
   "cell_type": "code",
   "execution_count": 15,
   "metadata": {},
   "outputs": [],
   "source": [
    "h_adm_2 = med2.sort_values([\"SUBJECT_ID\", \"STARTTIME\"]).groupby(\"SUBJECT_ID\").nth(0)[\"HADM_ID\"].to_list()\n",
    "adm_2 = med2[med2.HADM_ID.isin(h_adm_2)]"
   ]
  },
  {
   "cell_type": "code",
   "execution_count": 16,
   "metadata": {},
   "outputs": [],
   "source": [
    "med2 = med2.drop(columns=[\"Unnamed: 0\"])"
   ]
  },
  {
   "cell_type": "code",
   "execution_count": 17,
   "metadata": {},
   "outputs": [],
   "source": [
    "med2 = med2[med2[\"AGE\"]>=age_b]\n",
    "med2 = med2[med2[\"AGE\"]<=age_a]"
   ]
  },
  {
   "cell_type": "code",
   "execution_count": 18,
   "metadata": {},
   "outputs": [],
   "source": [
    "med2 = med2[med2[\"GENDER\"]==gender]\n",
    "med2 = med2[med2[\"ETHNICITY\"]==ethnicity]"
   ]
  },
  {
   "cell_type": "code",
   "execution_count": 19,
   "metadata": {},
   "outputs": [
    {
     "data": {
      "text/html": [
       "<div>\n",
       "<style scoped>\n",
       "    .dataframe tbody tr th:only-of-type {\n",
       "        vertical-align: middle;\n",
       "    }\n",
       "\n",
       "    .dataframe tbody tr th {\n",
       "        vertical-align: top;\n",
       "    }\n",
       "\n",
       "    .dataframe thead th {\n",
       "        text-align: right;\n",
       "    }\n",
       "</style>\n",
       "<table border=\"1\" class=\"dataframe\">\n",
       "  <thead>\n",
       "    <tr style=\"text-align: right;\">\n",
       "      <th></th>\n",
       "      <th>SUBJECT_ID</th>\n",
       "      <th>DOB</th>\n",
       "      <th>GENDER</th>\n",
       "      <th>DOD</th>\n",
       "      <th>EXPIRE_FLAG</th>\n",
       "      <th>ITEMID</th>\n",
       "      <th>HADM_ID</th>\n",
       "      <th>ICUSTAY_ID</th>\n",
       "      <th>STARTTIME</th>\n",
       "      <th>ENDTIME</th>\n",
       "      <th>...</th>\n",
       "      <th>LABEL</th>\n",
       "      <th>ABBREVIATION</th>\n",
       "      <th>DBSOURCE</th>\n",
       "      <th>LINKSTO</th>\n",
       "      <th>CATEGORY</th>\n",
       "      <th>UNITNAME</th>\n",
       "      <th>PARAM_TYPE</th>\n",
       "      <th>CONCEPTID</th>\n",
       "      <th>MedTimeFromAdmit</th>\n",
       "      <th>AGE</th>\n",
       "    </tr>\n",
       "  </thead>\n",
       "  <tbody>\n",
       "    <tr>\n",
       "      <th>155</th>\n",
       "      <td>820</td>\n",
       "      <td>2077-04-26</td>\n",
       "      <td>M</td>\n",
       "      <td>2144-03-24 00:00:00</td>\n",
       "      <td>1</td>\n",
       "      <td>225158</td>\n",
       "      <td>193603</td>\n",
       "      <td>280074.0</td>\n",
       "      <td>2144-02-24 23:56:00</td>\n",
       "      <td>2144-02-24 23:57:00</td>\n",
       "      <td>...</td>\n",
       "      <td>NaCl 0.9%</td>\n",
       "      <td>NaCl 0.9%</td>\n",
       "      <td>metavision</td>\n",
       "      <td>inputevents_mv</td>\n",
       "      <td>Fluids/Intake</td>\n",
       "      <td>mL</td>\n",
       "      <td>Solution</td>\n",
       "      <td>NaN</td>\n",
       "      <td>1 days 22:18:00</td>\n",
       "      <td>67.0</td>\n",
       "    </tr>\n",
       "    <tr>\n",
       "      <th>156</th>\n",
       "      <td>820</td>\n",
       "      <td>2077-04-26</td>\n",
       "      <td>M</td>\n",
       "      <td>2144-03-24 00:00:00</td>\n",
       "      <td>1</td>\n",
       "      <td>226452</td>\n",
       "      <td>193603</td>\n",
       "      <td>280074.0</td>\n",
       "      <td>2144-02-25 09:00:00</td>\n",
       "      <td>2144-02-25 09:01:00</td>\n",
       "      <td>...</td>\n",
       "      <td>PO Intake</td>\n",
       "      <td>PO Intake</td>\n",
       "      <td>metavision</td>\n",
       "      <td>inputevents_mv</td>\n",
       "      <td>Fluids/Intake</td>\n",
       "      <td>mL</td>\n",
       "      <td>Solution</td>\n",
       "      <td>NaN</td>\n",
       "      <td>2 days 07:22:00</td>\n",
       "      <td>67.0</td>\n",
       "    </tr>\n",
       "    <tr>\n",
       "      <th>157</th>\n",
       "      <td>820</td>\n",
       "      <td>2077-04-26</td>\n",
       "      <td>M</td>\n",
       "      <td>2144-03-24 00:00:00</td>\n",
       "      <td>1</td>\n",
       "      <td>223262</td>\n",
       "      <td>193603</td>\n",
       "      <td>280074.0</td>\n",
       "      <td>2144-02-25 12:00:00</td>\n",
       "      <td>2144-02-25 12:01:00</td>\n",
       "      <td>...</td>\n",
       "      <td>Insulin - Humalog</td>\n",
       "      <td>Insulin - Humalog</td>\n",
       "      <td>metavision</td>\n",
       "      <td>inputevents_mv</td>\n",
       "      <td>Medications</td>\n",
       "      <td>units</td>\n",
       "      <td>Solution</td>\n",
       "      <td>NaN</td>\n",
       "      <td>2 days 10:22:00</td>\n",
       "      <td>67.0</td>\n",
       "    </tr>\n",
       "    <tr>\n",
       "      <th>158</th>\n",
       "      <td>820</td>\n",
       "      <td>2077-04-26</td>\n",
       "      <td>M</td>\n",
       "      <td>2144-03-24 00:00:00</td>\n",
       "      <td>1</td>\n",
       "      <td>225975</td>\n",
       "      <td>193603</td>\n",
       "      <td>280074.0</td>\n",
       "      <td>2144-02-25 14:00:00</td>\n",
       "      <td>2144-02-25 14:01:00</td>\n",
       "      <td>...</td>\n",
       "      <td>Heparin Sodium (Prophylaxis)</td>\n",
       "      <td>Heparin Sodium (Prophylaxis)</td>\n",
       "      <td>metavision</td>\n",
       "      <td>inputevents_mv</td>\n",
       "      <td>Medications</td>\n",
       "      <td>dose</td>\n",
       "      <td>Solution</td>\n",
       "      <td>NaN</td>\n",
       "      <td>2 days 12:22:00</td>\n",
       "      <td>67.0</td>\n",
       "    </tr>\n",
       "    <tr>\n",
       "      <th>159</th>\n",
       "      <td>820</td>\n",
       "      <td>2077-04-26</td>\n",
       "      <td>M</td>\n",
       "      <td>2144-03-24 00:00:00</td>\n",
       "      <td>1</td>\n",
       "      <td>223257</td>\n",
       "      <td>193603</td>\n",
       "      <td>280074.0</td>\n",
       "      <td>2144-02-26 08:00:00</td>\n",
       "      <td>2144-02-26 08:01:00</td>\n",
       "      <td>...</td>\n",
       "      <td>Insulin - 70/30</td>\n",
       "      <td>Insulin - 70/30</td>\n",
       "      <td>metavision</td>\n",
       "      <td>inputevents_mv</td>\n",
       "      <td>Medications</td>\n",
       "      <td>units</td>\n",
       "      <td>Solution</td>\n",
       "      <td>NaN</td>\n",
       "      <td>3 days 06:22:00</td>\n",
       "      <td>67.0</td>\n",
       "    </tr>\n",
       "    <tr>\n",
       "      <th>...</th>\n",
       "      <td>...</td>\n",
       "      <td>...</td>\n",
       "      <td>...</td>\n",
       "      <td>...</td>\n",
       "      <td>...</td>\n",
       "      <td>...</td>\n",
       "      <td>...</td>\n",
       "      <td>...</td>\n",
       "      <td>...</td>\n",
       "      <td>...</td>\n",
       "      <td>...</td>\n",
       "      <td>...</td>\n",
       "      <td>...</td>\n",
       "      <td>...</td>\n",
       "      <td>...</td>\n",
       "      <td>...</td>\n",
       "      <td>...</td>\n",
       "      <td>...</td>\n",
       "      <td>...</td>\n",
       "      <td>...</td>\n",
       "      <td>...</td>\n",
       "    </tr>\n",
       "    <tr>\n",
       "      <th>237480</th>\n",
       "      <td>44069</td>\n",
       "      <td>2064-04-08</td>\n",
       "      <td>M</td>\n",
       "      <td>NaN</td>\n",
       "      <td>0</td>\n",
       "      <td>220864</td>\n",
       "      <td>138192</td>\n",
       "      <td>214441.0</td>\n",
       "      <td>2131-02-16 02:05:00</td>\n",
       "      <td>2131-02-16 04:05:00</td>\n",
       "      <td>...</td>\n",
       "      <td>Albumin 5%</td>\n",
       "      <td>Albumin 5%</td>\n",
       "      <td>metavision</td>\n",
       "      <td>inputevents_mv</td>\n",
       "      <td>Blood Products/Colloids</td>\n",
       "      <td>mL</td>\n",
       "      <td>Solution</td>\n",
       "      <td>NaN</td>\n",
       "      <td>3 days 09:54:00</td>\n",
       "      <td>67.0</td>\n",
       "    </tr>\n",
       "    <tr>\n",
       "      <th>237481</th>\n",
       "      <td>44069</td>\n",
       "      <td>2064-04-08</td>\n",
       "      <td>M</td>\n",
       "      <td>NaN</td>\n",
       "      <td>0</td>\n",
       "      <td>225798</td>\n",
       "      <td>138192</td>\n",
       "      <td>214441.0</td>\n",
       "      <td>2131-02-16 08:00:00</td>\n",
       "      <td>2131-02-16 08:01:00</td>\n",
       "      <td>...</td>\n",
       "      <td>Vancomycin</td>\n",
       "      <td>Vancomycin</td>\n",
       "      <td>metavision</td>\n",
       "      <td>inputevents_mv</td>\n",
       "      <td>Antibiotics</td>\n",
       "      <td>dose</td>\n",
       "      <td>Solution</td>\n",
       "      <td>NaN</td>\n",
       "      <td>3 days 13:50:00</td>\n",
       "      <td>67.0</td>\n",
       "    </tr>\n",
       "    <tr>\n",
       "      <th>237482</th>\n",
       "      <td>44069</td>\n",
       "      <td>2064-04-08</td>\n",
       "      <td>M</td>\n",
       "      <td>NaN</td>\n",
       "      <td>0</td>\n",
       "      <td>226452</td>\n",
       "      <td>138192</td>\n",
       "      <td>214441.0</td>\n",
       "      <td>2131-02-16 08:30:00</td>\n",
       "      <td>2131-02-16 08:31:00</td>\n",
       "      <td>...</td>\n",
       "      <td>PO Intake</td>\n",
       "      <td>PO Intake</td>\n",
       "      <td>metavision</td>\n",
       "      <td>inputevents_mv</td>\n",
       "      <td>Fluids/Intake</td>\n",
       "      <td>mL</td>\n",
       "      <td>Solution</td>\n",
       "      <td>NaN</td>\n",
       "      <td>3 days 14:20:00</td>\n",
       "      <td>67.0</td>\n",
       "    </tr>\n",
       "    <tr>\n",
       "      <th>237483</th>\n",
       "      <td>44069</td>\n",
       "      <td>2064-04-08</td>\n",
       "      <td>M</td>\n",
       "      <td>NaN</td>\n",
       "      <td>0</td>\n",
       "      <td>221456</td>\n",
       "      <td>138192</td>\n",
       "      <td>214441.0</td>\n",
       "      <td>2131-02-16 10:00:00</td>\n",
       "      <td>2131-02-16 11:00:00</td>\n",
       "      <td>...</td>\n",
       "      <td>Calcium Gluconate</td>\n",
       "      <td>Calcium Gluconate</td>\n",
       "      <td>metavision</td>\n",
       "      <td>inputevents_mv</td>\n",
       "      <td>Medications</td>\n",
       "      <td>grams</td>\n",
       "      <td>Solution</td>\n",
       "      <td>NaN</td>\n",
       "      <td>3 days 16:49:00</td>\n",
       "      <td>67.0</td>\n",
       "    </tr>\n",
       "    <tr>\n",
       "      <th>237484</th>\n",
       "      <td>44069</td>\n",
       "      <td>2064-04-08</td>\n",
       "      <td>M</td>\n",
       "      <td>NaN</td>\n",
       "      <td>0</td>\n",
       "      <td>226089</td>\n",
       "      <td>138192</td>\n",
       "      <td>214441.0</td>\n",
       "      <td>2131-02-16 10:00:00</td>\n",
       "      <td>2131-02-16 11:00:00</td>\n",
       "      <td>...</td>\n",
       "      <td>Piggyback</td>\n",
       "      <td>Piggyback</td>\n",
       "      <td>metavision</td>\n",
       "      <td>inputevents_mv</td>\n",
       "      <td>Fluids/Intake</td>\n",
       "      <td>mL</td>\n",
       "      <td>Solution</td>\n",
       "      <td>NaN</td>\n",
       "      <td>3 days 16:49:00</td>\n",
       "      <td>67.0</td>\n",
       "    </tr>\n",
       "  </tbody>\n",
       "</table>\n",
       "<p>29346 rows × 63 columns</p>\n",
       "</div>"
      ],
      "text/plain": [
       "        SUBJECT_ID         DOB GENDER                  DOD  EXPIRE_FLAG  \\\n",
       "155            820  2077-04-26      M  2144-03-24 00:00:00            1   \n",
       "156            820  2077-04-26      M  2144-03-24 00:00:00            1   \n",
       "157            820  2077-04-26      M  2144-03-24 00:00:00            1   \n",
       "158            820  2077-04-26      M  2144-03-24 00:00:00            1   \n",
       "159            820  2077-04-26      M  2144-03-24 00:00:00            1   \n",
       "...            ...         ...    ...                  ...          ...   \n",
       "237480       44069  2064-04-08      M                  NaN            0   \n",
       "237481       44069  2064-04-08      M                  NaN            0   \n",
       "237482       44069  2064-04-08      M                  NaN            0   \n",
       "237483       44069  2064-04-08      M                  NaN            0   \n",
       "237484       44069  2064-04-08      M                  NaN            0   \n",
       "\n",
       "        ITEMID  HADM_ID  ICUSTAY_ID            STARTTIME              ENDTIME  \\\n",
       "155     225158   193603    280074.0  2144-02-24 23:56:00  2144-02-24 23:57:00   \n",
       "156     226452   193603    280074.0  2144-02-25 09:00:00  2144-02-25 09:01:00   \n",
       "157     223262   193603    280074.0  2144-02-25 12:00:00  2144-02-25 12:01:00   \n",
       "158     225975   193603    280074.0  2144-02-25 14:00:00  2144-02-25 14:01:00   \n",
       "159     223257   193603    280074.0  2144-02-26 08:00:00  2144-02-26 08:01:00   \n",
       "...        ...      ...         ...                  ...                  ...   \n",
       "237480  220864   138192    214441.0  2131-02-16 02:05:00  2131-02-16 04:05:00   \n",
       "237481  225798   138192    214441.0  2131-02-16 08:00:00  2131-02-16 08:01:00   \n",
       "237482  226452   138192    214441.0  2131-02-16 08:30:00  2131-02-16 08:31:00   \n",
       "237483  221456   138192    214441.0  2131-02-16 10:00:00  2131-02-16 11:00:00   \n",
       "237484  226089   138192    214441.0  2131-02-16 10:00:00  2131-02-16 11:00:00   \n",
       "\n",
       "        ...                         LABEL                  ABBREVIATION  \\\n",
       "155     ...                     NaCl 0.9%                     NaCl 0.9%   \n",
       "156     ...                     PO Intake                     PO Intake   \n",
       "157     ...             Insulin - Humalog             Insulin - Humalog   \n",
       "158     ...  Heparin Sodium (Prophylaxis)  Heparin Sodium (Prophylaxis)   \n",
       "159     ...               Insulin - 70/30               Insulin - 70/30   \n",
       "...     ...                           ...                           ...   \n",
       "237480  ...                    Albumin 5%                    Albumin 5%   \n",
       "237481  ...                    Vancomycin                    Vancomycin   \n",
       "237482  ...                     PO Intake                     PO Intake   \n",
       "237483  ...             Calcium Gluconate             Calcium Gluconate   \n",
       "237484  ...                     Piggyback                     Piggyback   \n",
       "\n",
       "          DBSOURCE         LINKSTO                 CATEGORY  UNITNAME  \\\n",
       "155     metavision  inputevents_mv            Fluids/Intake        mL   \n",
       "156     metavision  inputevents_mv            Fluids/Intake        mL   \n",
       "157     metavision  inputevents_mv              Medications     units   \n",
       "158     metavision  inputevents_mv              Medications      dose   \n",
       "159     metavision  inputevents_mv              Medications     units   \n",
       "...            ...             ...                      ...       ...   \n",
       "237480  metavision  inputevents_mv  Blood Products/Colloids        mL   \n",
       "237481  metavision  inputevents_mv              Antibiotics      dose   \n",
       "237482  metavision  inputevents_mv            Fluids/Intake        mL   \n",
       "237483  metavision  inputevents_mv              Medications     grams   \n",
       "237484  metavision  inputevents_mv            Fluids/Intake        mL   \n",
       "\n",
       "        PARAM_TYPE  CONCEPTID MedTimeFromAdmit   AGE  \n",
       "155       Solution        NaN  1 days 22:18:00  67.0  \n",
       "156       Solution        NaN  2 days 07:22:00  67.0  \n",
       "157       Solution        NaN  2 days 10:22:00  67.0  \n",
       "158       Solution        NaN  2 days 12:22:00  67.0  \n",
       "159       Solution        NaN  3 days 06:22:00  67.0  \n",
       "...            ...        ...              ...   ...  \n",
       "237480    Solution        NaN  3 days 09:54:00  67.0  \n",
       "237481    Solution        NaN  3 days 13:50:00  67.0  \n",
       "237482    Solution        NaN  3 days 14:20:00  67.0  \n",
       "237483    Solution        NaN  3 days 16:49:00  67.0  \n",
       "237484    Solution        NaN  3 days 16:49:00  67.0  \n",
       "\n",
       "[29346 rows x 63 columns]"
      ]
     },
     "execution_count": 19,
     "metadata": {},
     "output_type": "execute_result"
    }
   ],
   "source": [
    "med2"
   ]
  },
  {
   "cell_type": "code",
   "execution_count": 20,
   "metadata": {},
   "outputs": [],
   "source": [
    "med2 = med2[med2.ITEMID.isin(med_itemids)]"
   ]
  },
  {
   "cell_type": "code",
   "execution_count": 21,
   "metadata": {},
   "outputs": [
    {
     "data": {
      "text/html": [
       "<div>\n",
       "<style scoped>\n",
       "    .dataframe tbody tr th:only-of-type {\n",
       "        vertical-align: middle;\n",
       "    }\n",
       "\n",
       "    .dataframe tbody tr th {\n",
       "        vertical-align: top;\n",
       "    }\n",
       "\n",
       "    .dataframe thead th {\n",
       "        text-align: right;\n",
       "    }\n",
       "</style>\n",
       "<table border=\"1\" class=\"dataframe\">\n",
       "  <thead>\n",
       "    <tr style=\"text-align: right;\">\n",
       "      <th></th>\n",
       "      <th>SUBJECT_ID</th>\n",
       "      <th>DOB</th>\n",
       "      <th>GENDER</th>\n",
       "      <th>DOD</th>\n",
       "      <th>EXPIRE_FLAG</th>\n",
       "      <th>ITEMID</th>\n",
       "      <th>HADM_ID</th>\n",
       "      <th>ICUSTAY_ID</th>\n",
       "      <th>STARTTIME</th>\n",
       "      <th>ENDTIME</th>\n",
       "      <th>...</th>\n",
       "      <th>LABEL</th>\n",
       "      <th>ABBREVIATION</th>\n",
       "      <th>DBSOURCE</th>\n",
       "      <th>LINKSTO</th>\n",
       "      <th>CATEGORY</th>\n",
       "      <th>UNITNAME</th>\n",
       "      <th>PARAM_TYPE</th>\n",
       "      <th>CONCEPTID</th>\n",
       "      <th>MedTimeFromAdmit</th>\n",
       "      <th>AGE</th>\n",
       "    </tr>\n",
       "  </thead>\n",
       "  <tbody>\n",
       "    <tr>\n",
       "      <th>450</th>\n",
       "      <td>357</td>\n",
       "      <td>2135-03-22</td>\n",
       "      <td>M</td>\n",
       "      <td>2201-08-02 00:00:00</td>\n",
       "      <td>1</td>\n",
       "      <td>221794</td>\n",
       "      <td>117876</td>\n",
       "      <td>235292.0</td>\n",
       "      <td>2199-12-29 18:35:00</td>\n",
       "      <td>2199-12-29 18:36:00</td>\n",
       "      <td>...</td>\n",
       "      <td>Furosemide (Lasix)</td>\n",
       "      <td>Furosemide (Lasix)</td>\n",
       "      <td>metavision</td>\n",
       "      <td>inputevents_mv</td>\n",
       "      <td>Medications</td>\n",
       "      <td>mg</td>\n",
       "      <td>Solution</td>\n",
       "      <td>NaN</td>\n",
       "      <td>7 days 19:59:00</td>\n",
       "      <td>65.0</td>\n",
       "    </tr>\n",
       "    <tr>\n",
       "      <th>721</th>\n",
       "      <td>975</td>\n",
       "      <td>2074-05-16</td>\n",
       "      <td>M</td>\n",
       "      <td>2142-06-21 00:00:00</td>\n",
       "      <td>1</td>\n",
       "      <td>221794</td>\n",
       "      <td>175734</td>\n",
       "      <td>286445.0</td>\n",
       "      <td>2142-05-16 16:31:00</td>\n",
       "      <td>2142-05-16 16:32:00</td>\n",
       "      <td>...</td>\n",
       "      <td>Furosemide (Lasix)</td>\n",
       "      <td>Furosemide (Lasix)</td>\n",
       "      <td>metavision</td>\n",
       "      <td>inputevents_mv</td>\n",
       "      <td>Medications</td>\n",
       "      <td>mg</td>\n",
       "      <td>Solution</td>\n",
       "      <td>NaN</td>\n",
       "      <td>1 days 00:16:00</td>\n",
       "      <td>68.0</td>\n",
       "    </tr>\n",
       "    <tr>\n",
       "      <th>865</th>\n",
       "      <td>2208</td>\n",
       "      <td>2120-10-04</td>\n",
       "      <td>M</td>\n",
       "      <td>2191-10-17 00:00:00</td>\n",
       "      <td>1</td>\n",
       "      <td>225855</td>\n",
       "      <td>162248</td>\n",
       "      <td>259196.0</td>\n",
       "      <td>2190-08-21 14:09:00</td>\n",
       "      <td>2190-08-21 14:10:00</td>\n",
       "      <td>...</td>\n",
       "      <td>Ceftriaxone</td>\n",
       "      <td>Ceftriaxone</td>\n",
       "      <td>metavision</td>\n",
       "      <td>inputevents_mv</td>\n",
       "      <td>Antibiotics</td>\n",
       "      <td>dose</td>\n",
       "      <td>Solution</td>\n",
       "      <td>NaN</td>\n",
       "      <td>2 days 15:56:00</td>\n",
       "      <td>70.0</td>\n",
       "    </tr>\n",
       "    <tr>\n",
       "      <th>983</th>\n",
       "      <td>3623</td>\n",
       "      <td>2101-07-04</td>\n",
       "      <td>M</td>\n",
       "      <td>2164-02-23 00:00:00</td>\n",
       "      <td>1</td>\n",
       "      <td>221824</td>\n",
       "      <td>178444</td>\n",
       "      <td>260358.0</td>\n",
       "      <td>2164-02-21 02:28:00</td>\n",
       "      <td>2164-02-21 02:29:00</td>\n",
       "      <td>...</td>\n",
       "      <td>Haloperidol (Haldol)</td>\n",
       "      <td>Haloperidol (Haldol)</td>\n",
       "      <td>metavision</td>\n",
       "      <td>inputevents_mv</td>\n",
       "      <td>Medications</td>\n",
       "      <td>mg</td>\n",
       "      <td>Solution</td>\n",
       "      <td>NaN</td>\n",
       "      <td>6 days 10:04:00</td>\n",
       "      <td>63.0</td>\n",
       "    </tr>\n",
       "    <tr>\n",
       "      <th>1103</th>\n",
       "      <td>890</td>\n",
       "      <td>2113-11-30</td>\n",
       "      <td>M</td>\n",
       "      <td>NaN</td>\n",
       "      <td>0</td>\n",
       "      <td>225855</td>\n",
       "      <td>195962</td>\n",
       "      <td>274222.0</td>\n",
       "      <td>2180-12-12 17:36:00</td>\n",
       "      <td>2180-12-12 17:37:00</td>\n",
       "      <td>...</td>\n",
       "      <td>Ceftriaxone</td>\n",
       "      <td>Ceftriaxone</td>\n",
       "      <td>metavision</td>\n",
       "      <td>inputevents_mv</td>\n",
       "      <td>Antibiotics</td>\n",
       "      <td>dose</td>\n",
       "      <td>Solution</td>\n",
       "      <td>NaN</td>\n",
       "      <td>5 days 18:33:00</td>\n",
       "      <td>67.0</td>\n",
       "    </tr>\n",
       "    <tr>\n",
       "      <th>...</th>\n",
       "      <td>...</td>\n",
       "      <td>...</td>\n",
       "      <td>...</td>\n",
       "      <td>...</td>\n",
       "      <td>...</td>\n",
       "      <td>...</td>\n",
       "      <td>...</td>\n",
       "      <td>...</td>\n",
       "      <td>...</td>\n",
       "      <td>...</td>\n",
       "      <td>...</td>\n",
       "      <td>...</td>\n",
       "      <td>...</td>\n",
       "      <td>...</td>\n",
       "      <td>...</td>\n",
       "      <td>...</td>\n",
       "      <td>...</td>\n",
       "      <td>...</td>\n",
       "      <td>...</td>\n",
       "      <td>...</td>\n",
       "      <td>...</td>\n",
       "    </tr>\n",
       "    <tr>\n",
       "      <th>235921</th>\n",
       "      <td>77654</td>\n",
       "      <td>2077-02-07</td>\n",
       "      <td>M</td>\n",
       "      <td>NaN</td>\n",
       "      <td>0</td>\n",
       "      <td>221794</td>\n",
       "      <td>163742</td>\n",
       "      <td>239066.0</td>\n",
       "      <td>2141-10-09 09:04:00</td>\n",
       "      <td>2141-10-09 09:05:00</td>\n",
       "      <td>...</td>\n",
       "      <td>Furosemide (Lasix)</td>\n",
       "      <td>Furosemide (Lasix)</td>\n",
       "      <td>metavision</td>\n",
       "      <td>inputevents_mv</td>\n",
       "      <td>Medications</td>\n",
       "      <td>mg</td>\n",
       "      <td>Solution</td>\n",
       "      <td>NaN</td>\n",
       "      <td>5 days 09:58:00</td>\n",
       "      <td>65.0</td>\n",
       "    </tr>\n",
       "    <tr>\n",
       "      <th>236067</th>\n",
       "      <td>77690</td>\n",
       "      <td>2042-04-05</td>\n",
       "      <td>M</td>\n",
       "      <td>NaN</td>\n",
       "      <td>0</td>\n",
       "      <td>227694</td>\n",
       "      <td>121387</td>\n",
       "      <td>247506.0</td>\n",
       "      <td>2110-11-24 07:32:00</td>\n",
       "      <td>2110-11-24 07:33:00</td>\n",
       "      <td>...</td>\n",
       "      <td>Omeprazole (Prilosec)</td>\n",
       "      <td>Omeprazole (Prilosec)</td>\n",
       "      <td>metavision</td>\n",
       "      <td>inputevents_mv</td>\n",
       "      <td>Medications</td>\n",
       "      <td>dose</td>\n",
       "      <td>Solution</td>\n",
       "      <td>NaN</td>\n",
       "      <td>6 days 14:47:00</td>\n",
       "      <td>69.0</td>\n",
       "    </tr>\n",
       "    <tr>\n",
       "      <th>236069</th>\n",
       "      <td>77690</td>\n",
       "      <td>2042-04-05</td>\n",
       "      <td>M</td>\n",
       "      <td>NaN</td>\n",
       "      <td>0</td>\n",
       "      <td>225913</td>\n",
       "      <td>121387</td>\n",
       "      <td>247506.0</td>\n",
       "      <td>2110-11-24 17:44:00</td>\n",
       "      <td>2110-11-24 17:45:00</td>\n",
       "      <td>...</td>\n",
       "      <td>Coumadin (Warfarin)</td>\n",
       "      <td>Coumadin (Warfarin)</td>\n",
       "      <td>metavision</td>\n",
       "      <td>inputevents_mv</td>\n",
       "      <td>Medications</td>\n",
       "      <td>dose</td>\n",
       "      <td>Solution</td>\n",
       "      <td>NaN</td>\n",
       "      <td>7 days 00:59:00</td>\n",
       "      <td>69.0</td>\n",
       "    </tr>\n",
       "    <tr>\n",
       "      <th>236440</th>\n",
       "      <td>43742</td>\n",
       "      <td>2113-08-29</td>\n",
       "      <td>M</td>\n",
       "      <td>2175-12-09 00:00:00</td>\n",
       "      <td>1</td>\n",
       "      <td>221794</td>\n",
       "      <td>191527</td>\n",
       "      <td>295473.0</td>\n",
       "      <td>2175-12-07 15:00:00</td>\n",
       "      <td>2175-12-07 15:01:00</td>\n",
       "      <td>...</td>\n",
       "      <td>Furosemide (Lasix)</td>\n",
       "      <td>Furosemide (Lasix)</td>\n",
       "      <td>metavision</td>\n",
       "      <td>inputevents_mv</td>\n",
       "      <td>Medications</td>\n",
       "      <td>mg</td>\n",
       "      <td>Solution</td>\n",
       "      <td>NaN</td>\n",
       "      <td>6 days 20:45:00</td>\n",
       "      <td>62.0</td>\n",
       "    </tr>\n",
       "    <tr>\n",
       "      <th>236589</th>\n",
       "      <td>43798</td>\n",
       "      <td>2136-07-29</td>\n",
       "      <td>M</td>\n",
       "      <td>2200-12-31 00:00:00</td>\n",
       "      <td>1</td>\n",
       "      <td>221794</td>\n",
       "      <td>130870</td>\n",
       "      <td>243229.0</td>\n",
       "      <td>2198-07-01 02:50:00</td>\n",
       "      <td>2198-07-01 02:51:00</td>\n",
       "      <td>...</td>\n",
       "      <td>Furosemide (Lasix)</td>\n",
       "      <td>Furosemide (Lasix)</td>\n",
       "      <td>metavision</td>\n",
       "      <td>inputevents_mv</td>\n",
       "      <td>Medications</td>\n",
       "      <td>mg</td>\n",
       "      <td>Solution</td>\n",
       "      <td>NaN</td>\n",
       "      <td>1 days 19:36:00</td>\n",
       "      <td>62.0</td>\n",
       "    </tr>\n",
       "  </tbody>\n",
       "</table>\n",
       "<p>813 rows × 63 columns</p>\n",
       "</div>"
      ],
      "text/plain": [
       "        SUBJECT_ID         DOB GENDER                  DOD  EXPIRE_FLAG  \\\n",
       "450            357  2135-03-22      M  2201-08-02 00:00:00            1   \n",
       "721            975  2074-05-16      M  2142-06-21 00:00:00            1   \n",
       "865           2208  2120-10-04      M  2191-10-17 00:00:00            1   \n",
       "983           3623  2101-07-04      M  2164-02-23 00:00:00            1   \n",
       "1103           890  2113-11-30      M                  NaN            0   \n",
       "...            ...         ...    ...                  ...          ...   \n",
       "235921       77654  2077-02-07      M                  NaN            0   \n",
       "236067       77690  2042-04-05      M                  NaN            0   \n",
       "236069       77690  2042-04-05      M                  NaN            0   \n",
       "236440       43742  2113-08-29      M  2175-12-09 00:00:00            1   \n",
       "236589       43798  2136-07-29      M  2200-12-31 00:00:00            1   \n",
       "\n",
       "        ITEMID  HADM_ID  ICUSTAY_ID            STARTTIME              ENDTIME  \\\n",
       "450     221794   117876    235292.0  2199-12-29 18:35:00  2199-12-29 18:36:00   \n",
       "721     221794   175734    286445.0  2142-05-16 16:31:00  2142-05-16 16:32:00   \n",
       "865     225855   162248    259196.0  2190-08-21 14:09:00  2190-08-21 14:10:00   \n",
       "983     221824   178444    260358.0  2164-02-21 02:28:00  2164-02-21 02:29:00   \n",
       "1103    225855   195962    274222.0  2180-12-12 17:36:00  2180-12-12 17:37:00   \n",
       "...        ...      ...         ...                  ...                  ...   \n",
       "235921  221794   163742    239066.0  2141-10-09 09:04:00  2141-10-09 09:05:00   \n",
       "236067  227694   121387    247506.0  2110-11-24 07:32:00  2110-11-24 07:33:00   \n",
       "236069  225913   121387    247506.0  2110-11-24 17:44:00  2110-11-24 17:45:00   \n",
       "236440  221794   191527    295473.0  2175-12-07 15:00:00  2175-12-07 15:01:00   \n",
       "236589  221794   130870    243229.0  2198-07-01 02:50:00  2198-07-01 02:51:00   \n",
       "\n",
       "        ...                  LABEL           ABBREVIATION    DBSOURCE  \\\n",
       "450     ...     Furosemide (Lasix)     Furosemide (Lasix)  metavision   \n",
       "721     ...     Furosemide (Lasix)     Furosemide (Lasix)  metavision   \n",
       "865     ...            Ceftriaxone            Ceftriaxone  metavision   \n",
       "983     ...   Haloperidol (Haldol)   Haloperidol (Haldol)  metavision   \n",
       "1103    ...            Ceftriaxone            Ceftriaxone  metavision   \n",
       "...     ...                    ...                    ...         ...   \n",
       "235921  ...     Furosemide (Lasix)     Furosemide (Lasix)  metavision   \n",
       "236067  ...  Omeprazole (Prilosec)  Omeprazole (Prilosec)  metavision   \n",
       "236069  ...    Coumadin (Warfarin)    Coumadin (Warfarin)  metavision   \n",
       "236440  ...     Furosemide (Lasix)     Furosemide (Lasix)  metavision   \n",
       "236589  ...     Furosemide (Lasix)     Furosemide (Lasix)  metavision   \n",
       "\n",
       "               LINKSTO     CATEGORY  UNITNAME  PARAM_TYPE  CONCEPTID  \\\n",
       "450     inputevents_mv  Medications        mg    Solution        NaN   \n",
       "721     inputevents_mv  Medications        mg    Solution        NaN   \n",
       "865     inputevents_mv  Antibiotics      dose    Solution        NaN   \n",
       "983     inputevents_mv  Medications        mg    Solution        NaN   \n",
       "1103    inputevents_mv  Antibiotics      dose    Solution        NaN   \n",
       "...                ...          ...       ...         ...        ...   \n",
       "235921  inputevents_mv  Medications        mg    Solution        NaN   \n",
       "236067  inputevents_mv  Medications      dose    Solution        NaN   \n",
       "236069  inputevents_mv  Medications      dose    Solution        NaN   \n",
       "236440  inputevents_mv  Medications        mg    Solution        NaN   \n",
       "236589  inputevents_mv  Medications        mg    Solution        NaN   \n",
       "\n",
       "       MedTimeFromAdmit   AGE  \n",
       "450     7 days 19:59:00  65.0  \n",
       "721     1 days 00:16:00  68.0  \n",
       "865     2 days 15:56:00  70.0  \n",
       "983     6 days 10:04:00  63.0  \n",
       "1103    5 days 18:33:00  67.0  \n",
       "...                 ...   ...  \n",
       "235921  5 days 09:58:00  65.0  \n",
       "236067  6 days 14:47:00  69.0  \n",
       "236069  7 days 00:59:00  69.0  \n",
       "236440  6 days 20:45:00  62.0  \n",
       "236589  1 days 19:36:00  62.0  \n",
       "\n",
       "[813 rows x 63 columns]"
      ]
     },
     "execution_count": 21,
     "metadata": {},
     "output_type": "execute_result"
    }
   ],
   "source": [
    "med2"
   ]
  },
  {
   "cell_type": "markdown",
   "metadata": {},
   "source": [
    "## Filter Labs"
   ]
  },
  {
   "cell_type": "code",
   "execution_count": 22,
   "metadata": {},
   "outputs": [
    {
     "name": "stderr",
     "output_type": "stream",
     "text": [
      "/var/folders/xb/6svjl9sj43z6gfhlcp2nc5540000gr/T/ipykernel_80825/608754289.py:1: DtypeWarning: Columns (23) have mixed types. Specify dtype option on import or set low_memory=False.\n",
      "  labs = pd.read_csv(os.path.join(data, \"mimiciii/1.4/preprocessed\", \"labs_vectorized.csv\"))\n"
     ]
    }
   ],
   "source": [
    "labs = pd.read_csv(os.path.join(data, \"mimiciii/1.4/preprocessed\", \"labs_vectorized.csv\"))\n",
    "# labs = labs.rename(columns={\"SUBJECT_ID_x\":\"SUBJECT_ID\"})"
   ]
  },
  {
   "cell_type": "code",
   "execution_count": 23,
   "metadata": {},
   "outputs": [
    {
     "data": {
      "text/html": [
       "<div>\n",
       "<style scoped>\n",
       "    .dataframe tbody tr th:only-of-type {\n",
       "        vertical-align: middle;\n",
       "    }\n",
       "\n",
       "    .dataframe tbody tr th {\n",
       "        vertical-align: top;\n",
       "    }\n",
       "\n",
       "    .dataframe thead th {\n",
       "        text-align: right;\n",
       "    }\n",
       "</style>\n",
       "<table border=\"1\" class=\"dataframe\">\n",
       "  <thead>\n",
       "    <tr style=\"text-align: right;\">\n",
       "      <th></th>\n",
       "      <th>SUBJECT_ID</th>\n",
       "      <th>DOB</th>\n",
       "      <th>GENDER</th>\n",
       "      <th>DOD</th>\n",
       "      <th>EXPIRE_FLAG</th>\n",
       "      <th>ROW_ID</th>\n",
       "      <th>HADM_ID</th>\n",
       "      <th>ITEMID</th>\n",
       "      <th>CHARTTIME</th>\n",
       "      <th>VALUE</th>\n",
       "      <th>...</th>\n",
       "      <th>RELIGION</th>\n",
       "      <th>MARITAL_STATUS</th>\n",
       "      <th>ETHNICITY</th>\n",
       "      <th>EDREGTIME</th>\n",
       "      <th>EDOUTTIME</th>\n",
       "      <th>DIAGNOSIS</th>\n",
       "      <th>HOSPITAL_EXPIRE_FLAG</th>\n",
       "      <th>HAS_CHARTEVENTS_DATA</th>\n",
       "      <th>LabTimeFromAdmit</th>\n",
       "      <th>AGE</th>\n",
       "    </tr>\n",
       "  </thead>\n",
       "  <tbody>\n",
       "    <tr>\n",
       "      <th>0</th>\n",
       "      <td>249</td>\n",
       "      <td>2075-03-13</td>\n",
       "      <td>F</td>\n",
       "      <td>NaN</td>\n",
       "      <td>0</td>\n",
       "      <td>163327</td>\n",
       "      <td>158975.0</td>\n",
       "      <td>51274</td>\n",
       "      <td>2156-04-27 15:40:00</td>\n",
       "      <td>20.0</td>\n",
       "      <td>...</td>\n",
       "      <td>CATHOLIC</td>\n",
       "      <td>DIVORCED</td>\n",
       "      <td>WHITE</td>\n",
       "      <td>NaN</td>\n",
       "      <td>NaN</td>\n",
       "      <td>GI BLEEDING\\COLONOSCOPY</td>\n",
       "      <td>0</td>\n",
       "      <td>1</td>\n",
       "      <td>0 days 00:07:00</td>\n",
       "      <td>81.0</td>\n",
       "    </tr>\n",
       "    <tr>\n",
       "      <th>1</th>\n",
       "      <td>249</td>\n",
       "      <td>2075-03-13</td>\n",
       "      <td>F</td>\n",
       "      <td>NaN</td>\n",
       "      <td>0</td>\n",
       "      <td>163304</td>\n",
       "      <td>158975.0</td>\n",
       "      <td>50868</td>\n",
       "      <td>2156-04-27 15:40:00</td>\n",
       "      <td>12.0</td>\n",
       "      <td>...</td>\n",
       "      <td>CATHOLIC</td>\n",
       "      <td>DIVORCED</td>\n",
       "      <td>WHITE</td>\n",
       "      <td>NaN</td>\n",
       "      <td>NaN</td>\n",
       "      <td>GI BLEEDING\\COLONOSCOPY</td>\n",
       "      <td>0</td>\n",
       "      <td>1</td>\n",
       "      <td>0 days 00:07:00</td>\n",
       "      <td>81.0</td>\n",
       "    </tr>\n",
       "    <tr>\n",
       "      <th>2</th>\n",
       "      <td>249</td>\n",
       "      <td>2075-03-13</td>\n",
       "      <td>F</td>\n",
       "      <td>NaN</td>\n",
       "      <td>0</td>\n",
       "      <td>163317</td>\n",
       "      <td>158975.0</td>\n",
       "      <td>51221</td>\n",
       "      <td>2156-04-27 15:40:00</td>\n",
       "      <td>29.5</td>\n",
       "      <td>...</td>\n",
       "      <td>CATHOLIC</td>\n",
       "      <td>DIVORCED</td>\n",
       "      <td>WHITE</td>\n",
       "      <td>NaN</td>\n",
       "      <td>NaN</td>\n",
       "      <td>GI BLEEDING\\COLONOSCOPY</td>\n",
       "      <td>0</td>\n",
       "      <td>1</td>\n",
       "      <td>0 days 00:07:00</td>\n",
       "      <td>81.0</td>\n",
       "    </tr>\n",
       "    <tr>\n",
       "      <th>3</th>\n",
       "      <td>249</td>\n",
       "      <td>2075-03-13</td>\n",
       "      <td>F</td>\n",
       "      <td>NaN</td>\n",
       "      <td>0</td>\n",
       "      <td>163315</td>\n",
       "      <td>158975.0</td>\n",
       "      <td>51146</td>\n",
       "      <td>2156-04-27 15:40:00</td>\n",
       "      <td>0.4</td>\n",
       "      <td>...</td>\n",
       "      <td>CATHOLIC</td>\n",
       "      <td>DIVORCED</td>\n",
       "      <td>WHITE</td>\n",
       "      <td>NaN</td>\n",
       "      <td>NaN</td>\n",
       "      <td>GI BLEEDING\\COLONOSCOPY</td>\n",
       "      <td>0</td>\n",
       "      <td>1</td>\n",
       "      <td>0 days 00:07:00</td>\n",
       "      <td>81.0</td>\n",
       "    </tr>\n",
       "    <tr>\n",
       "      <th>4</th>\n",
       "      <td>249</td>\n",
       "      <td>2075-03-13</td>\n",
       "      <td>F</td>\n",
       "      <td>NaN</td>\n",
       "      <td>0</td>\n",
       "      <td>163316</td>\n",
       "      <td>158975.0</td>\n",
       "      <td>51200</td>\n",
       "      <td>2156-04-27 15:40:00</td>\n",
       "      <td>2.4</td>\n",
       "      <td>...</td>\n",
       "      <td>CATHOLIC</td>\n",
       "      <td>DIVORCED</td>\n",
       "      <td>WHITE</td>\n",
       "      <td>NaN</td>\n",
       "      <td>NaN</td>\n",
       "      <td>GI BLEEDING\\COLONOSCOPY</td>\n",
       "      <td>0</td>\n",
       "      <td>1</td>\n",
       "      <td>0 days 00:07:00</td>\n",
       "      <td>81.0</td>\n",
       "    </tr>\n",
       "    <tr>\n",
       "      <th>...</th>\n",
       "      <td>...</td>\n",
       "      <td>...</td>\n",
       "      <td>...</td>\n",
       "      <td>...</td>\n",
       "      <td>...</td>\n",
       "      <td>...</td>\n",
       "      <td>...</td>\n",
       "      <td>...</td>\n",
       "      <td>...</td>\n",
       "      <td>...</td>\n",
       "      <td>...</td>\n",
       "      <td>...</td>\n",
       "      <td>...</td>\n",
       "      <td>...</td>\n",
       "      <td>...</td>\n",
       "      <td>...</td>\n",
       "      <td>...</td>\n",
       "      <td>...</td>\n",
       "      <td>...</td>\n",
       "      <td>...</td>\n",
       "      <td>...</td>\n",
       "    </tr>\n",
       "    <tr>\n",
       "      <th>7260280</th>\n",
       "      <td>44128</td>\n",
       "      <td>2098-07-25</td>\n",
       "      <td>M</td>\n",
       "      <td>NaN</td>\n",
       "      <td>0</td>\n",
       "      <td>20437251</td>\n",
       "      <td>141304.0</td>\n",
       "      <td>51275</td>\n",
       "      <td>2149-06-14 05:00:00</td>\n",
       "      <td>26.4</td>\n",
       "      <td>...</td>\n",
       "      <td>NOT SPECIFIED</td>\n",
       "      <td>MARRIED</td>\n",
       "      <td>WHITE</td>\n",
       "      <td>2149-06-08 11:53:00</td>\n",
       "      <td>2149-06-08 15:31:00</td>\n",
       "      <td>TRAUMA</td>\n",
       "      <td>0</td>\n",
       "      <td>1</td>\n",
       "      <td>5 days 13:39:00</td>\n",
       "      <td>51.0</td>\n",
       "    </tr>\n",
       "    <tr>\n",
       "      <th>7260281</th>\n",
       "      <td>44128</td>\n",
       "      <td>2098-07-25</td>\n",
       "      <td>M</td>\n",
       "      <td>NaN</td>\n",
       "      <td>0</td>\n",
       "      <td>20437245</td>\n",
       "      <td>141304.0</td>\n",
       "      <td>51237</td>\n",
       "      <td>2149-06-14 05:00:00</td>\n",
       "      <td>1.1</td>\n",
       "      <td>...</td>\n",
       "      <td>NOT SPECIFIED</td>\n",
       "      <td>MARRIED</td>\n",
       "      <td>WHITE</td>\n",
       "      <td>2149-06-08 11:53:00</td>\n",
       "      <td>2149-06-08 15:31:00</td>\n",
       "      <td>TRAUMA</td>\n",
       "      <td>0</td>\n",
       "      <td>1</td>\n",
       "      <td>5 days 13:39:00</td>\n",
       "      <td>51.0</td>\n",
       "    </tr>\n",
       "    <tr>\n",
       "      <th>7260282</th>\n",
       "      <td>44128</td>\n",
       "      <td>2098-07-25</td>\n",
       "      <td>M</td>\n",
       "      <td>NaN</td>\n",
       "      <td>0</td>\n",
       "      <td>20437250</td>\n",
       "      <td>141304.0</td>\n",
       "      <td>51274</td>\n",
       "      <td>2149-06-14 05:00:00</td>\n",
       "      <td>12.8</td>\n",
       "      <td>...</td>\n",
       "      <td>NOT SPECIFIED</td>\n",
       "      <td>MARRIED</td>\n",
       "      <td>WHITE</td>\n",
       "      <td>2149-06-08 11:53:00</td>\n",
       "      <td>2149-06-08 15:31:00</td>\n",
       "      <td>TRAUMA</td>\n",
       "      <td>0</td>\n",
       "      <td>1</td>\n",
       "      <td>5 days 13:39:00</td>\n",
       "      <td>51.0</td>\n",
       "    </tr>\n",
       "    <tr>\n",
       "      <th>7260283</th>\n",
       "      <td>44128</td>\n",
       "      <td>2098-07-25</td>\n",
       "      <td>M</td>\n",
       "      <td>NaN</td>\n",
       "      <td>0</td>\n",
       "      <td>20437255</td>\n",
       "      <td>141304.0</td>\n",
       "      <td>51221</td>\n",
       "      <td>2149-06-15 04:45:00</td>\n",
       "      <td>27.3</td>\n",
       "      <td>...</td>\n",
       "      <td>NOT SPECIFIED</td>\n",
       "      <td>MARRIED</td>\n",
       "      <td>WHITE</td>\n",
       "      <td>2149-06-08 11:53:00</td>\n",
       "      <td>2149-06-08 15:31:00</td>\n",
       "      <td>TRAUMA</td>\n",
       "      <td>0</td>\n",
       "      <td>1</td>\n",
       "      <td>6 days 13:24:00</td>\n",
       "      <td>51.0</td>\n",
       "    </tr>\n",
       "    <tr>\n",
       "      <th>7260284</th>\n",
       "      <td>44128</td>\n",
       "      <td>2098-07-25</td>\n",
       "      <td>M</td>\n",
       "      <td>NaN</td>\n",
       "      <td>0</td>\n",
       "      <td>20437256</td>\n",
       "      <td>141304.0</td>\n",
       "      <td>51221</td>\n",
       "      <td>2149-06-16 12:22:00</td>\n",
       "      <td>28.0</td>\n",
       "      <td>...</td>\n",
       "      <td>NOT SPECIFIED</td>\n",
       "      <td>MARRIED</td>\n",
       "      <td>WHITE</td>\n",
       "      <td>2149-06-08 11:53:00</td>\n",
       "      <td>2149-06-08 15:31:00</td>\n",
       "      <td>TRAUMA</td>\n",
       "      <td>0</td>\n",
       "      <td>1</td>\n",
       "      <td>7 days 21:01:00</td>\n",
       "      <td>51.0</td>\n",
       "    </tr>\n",
       "  </tbody>\n",
       "</table>\n",
       "<p>7260285 rows × 38 columns</p>\n",
       "</div>"
      ],
      "text/plain": [
       "         SUBJECT_ID         DOB GENDER  DOD  EXPIRE_FLAG    ROW_ID   HADM_ID  \\\n",
       "0               249  2075-03-13      F  NaN            0    163327  158975.0   \n",
       "1               249  2075-03-13      F  NaN            0    163304  158975.0   \n",
       "2               249  2075-03-13      F  NaN            0    163317  158975.0   \n",
       "3               249  2075-03-13      F  NaN            0    163315  158975.0   \n",
       "4               249  2075-03-13      F  NaN            0    163316  158975.0   \n",
       "...             ...         ...    ...  ...          ...       ...       ...   \n",
       "7260280       44128  2098-07-25      M  NaN            0  20437251  141304.0   \n",
       "7260281       44128  2098-07-25      M  NaN            0  20437245  141304.0   \n",
       "7260282       44128  2098-07-25      M  NaN            0  20437250  141304.0   \n",
       "7260283       44128  2098-07-25      M  NaN            0  20437255  141304.0   \n",
       "7260284       44128  2098-07-25      M  NaN            0  20437256  141304.0   \n",
       "\n",
       "         ITEMID            CHARTTIME  VALUE  ...       RELIGION  \\\n",
       "0         51274  2156-04-27 15:40:00   20.0  ...       CATHOLIC   \n",
       "1         50868  2156-04-27 15:40:00   12.0  ...       CATHOLIC   \n",
       "2         51221  2156-04-27 15:40:00   29.5  ...       CATHOLIC   \n",
       "3         51146  2156-04-27 15:40:00    0.4  ...       CATHOLIC   \n",
       "4         51200  2156-04-27 15:40:00    2.4  ...       CATHOLIC   \n",
       "...         ...                  ...    ...  ...            ...   \n",
       "7260280   51275  2149-06-14 05:00:00   26.4  ...  NOT SPECIFIED   \n",
       "7260281   51237  2149-06-14 05:00:00    1.1  ...  NOT SPECIFIED   \n",
       "7260282   51274  2149-06-14 05:00:00   12.8  ...  NOT SPECIFIED   \n",
       "7260283   51221  2149-06-15 04:45:00   27.3  ...  NOT SPECIFIED   \n",
       "7260284   51221  2149-06-16 12:22:00   28.0  ...  NOT SPECIFIED   \n",
       "\n",
       "        MARITAL_STATUS ETHNICITY            EDREGTIME            EDOUTTIME  \\\n",
       "0             DIVORCED     WHITE                  NaN                  NaN   \n",
       "1             DIVORCED     WHITE                  NaN                  NaN   \n",
       "2             DIVORCED     WHITE                  NaN                  NaN   \n",
       "3             DIVORCED     WHITE                  NaN                  NaN   \n",
       "4             DIVORCED     WHITE                  NaN                  NaN   \n",
       "...                ...       ...                  ...                  ...   \n",
       "7260280        MARRIED     WHITE  2149-06-08 11:53:00  2149-06-08 15:31:00   \n",
       "7260281        MARRIED     WHITE  2149-06-08 11:53:00  2149-06-08 15:31:00   \n",
       "7260282        MARRIED     WHITE  2149-06-08 11:53:00  2149-06-08 15:31:00   \n",
       "7260283        MARRIED     WHITE  2149-06-08 11:53:00  2149-06-08 15:31:00   \n",
       "7260284        MARRIED     WHITE  2149-06-08 11:53:00  2149-06-08 15:31:00   \n",
       "\n",
       "                       DIAGNOSIS HOSPITAL_EXPIRE_FLAG HAS_CHARTEVENTS_DATA  \\\n",
       "0        GI BLEEDING\\COLONOSCOPY                    0                    1   \n",
       "1        GI BLEEDING\\COLONOSCOPY                    0                    1   \n",
       "2        GI BLEEDING\\COLONOSCOPY                    0                    1   \n",
       "3        GI BLEEDING\\COLONOSCOPY                    0                    1   \n",
       "4        GI BLEEDING\\COLONOSCOPY                    0                    1   \n",
       "...                          ...                  ...                  ...   \n",
       "7260280                   TRAUMA                    0                    1   \n",
       "7260281                   TRAUMA                    0                    1   \n",
       "7260282                   TRAUMA                    0                    1   \n",
       "7260283                   TRAUMA                    0                    1   \n",
       "7260284                   TRAUMA                    0                    1   \n",
       "\n",
       "         LabTimeFromAdmit   AGE  \n",
       "0         0 days 00:07:00  81.0  \n",
       "1         0 days 00:07:00  81.0  \n",
       "2         0 days 00:07:00  81.0  \n",
       "3         0 days 00:07:00  81.0  \n",
       "4         0 days 00:07:00  81.0  \n",
       "...                   ...   ...  \n",
       "7260280   5 days 13:39:00  51.0  \n",
       "7260281   5 days 13:39:00  51.0  \n",
       "7260282   5 days 13:39:00  51.0  \n",
       "7260283   6 days 13:24:00  51.0  \n",
       "7260284   7 days 21:01:00  51.0  \n",
       "\n",
       "[7260285 rows x 38 columns]"
      ]
     },
     "execution_count": 23,
     "metadata": {},
     "output_type": "execute_result"
    }
   ],
   "source": [
    "labs = labs.drop(columns=[\"Unnamed: 0\"])\n",
    "labs"
   ]
  },
  {
   "cell_type": "code",
   "execution_count": 24,
   "metadata": {},
   "outputs": [
    {
     "data": {
      "text/html": [
       "<div>\n",
       "<style scoped>\n",
       "    .dataframe tbody tr th:only-of-type {\n",
       "        vertical-align: middle;\n",
       "    }\n",
       "\n",
       "    .dataframe tbody tr th {\n",
       "        vertical-align: top;\n",
       "    }\n",
       "\n",
       "    .dataframe thead th {\n",
       "        text-align: right;\n",
       "    }\n",
       "</style>\n",
       "<table border=\"1\" class=\"dataframe\">\n",
       "  <thead>\n",
       "    <tr style=\"text-align: right;\">\n",
       "      <th></th>\n",
       "      <th>SUBJECT_ID</th>\n",
       "      <th>DOB</th>\n",
       "      <th>GENDER</th>\n",
       "      <th>DOD</th>\n",
       "      <th>EXPIRE_FLAG</th>\n",
       "      <th>ROW_ID</th>\n",
       "      <th>HADM_ID</th>\n",
       "      <th>ITEMID</th>\n",
       "      <th>CHARTTIME</th>\n",
       "      <th>VALUE</th>\n",
       "      <th>...</th>\n",
       "      <th>RELIGION</th>\n",
       "      <th>MARITAL_STATUS</th>\n",
       "      <th>ETHNICITY</th>\n",
       "      <th>EDREGTIME</th>\n",
       "      <th>EDOUTTIME</th>\n",
       "      <th>DIAGNOSIS</th>\n",
       "      <th>HOSPITAL_EXPIRE_FLAG</th>\n",
       "      <th>HAS_CHARTEVENTS_DATA</th>\n",
       "      <th>LabTimeFromAdmit</th>\n",
       "      <th>AGE</th>\n",
       "    </tr>\n",
       "  </thead>\n",
       "  <tbody>\n",
       "    <tr>\n",
       "      <th>28</th>\n",
       "      <td>249</td>\n",
       "      <td>2075-03-13</td>\n",
       "      <td>F</td>\n",
       "      <td>NaN</td>\n",
       "      <td>0</td>\n",
       "      <td>162912</td>\n",
       "      <td>149546.0</td>\n",
       "      <td>51221</td>\n",
       "      <td>2155-02-03 23:26:00</td>\n",
       "      <td>26.60</td>\n",
       "      <td>...</td>\n",
       "      <td>CATHOLIC</td>\n",
       "      <td>DIVORCED</td>\n",
       "      <td>WHITE</td>\n",
       "      <td>2155-02-03 17:43:00</td>\n",
       "      <td>2155-02-03 21:26:00</td>\n",
       "      <td>GI BLEED/ CHEST PAIN</td>\n",
       "      <td>0</td>\n",
       "      <td>1</td>\n",
       "      <td>0 days 03:10:00</td>\n",
       "      <td>80.0</td>\n",
       "    </tr>\n",
       "    <tr>\n",
       "      <th>29</th>\n",
       "      <td>249</td>\n",
       "      <td>2075-03-13</td>\n",
       "      <td>F</td>\n",
       "      <td>NaN</td>\n",
       "      <td>0</td>\n",
       "      <td>162914</td>\n",
       "      <td>149546.0</td>\n",
       "      <td>50910</td>\n",
       "      <td>2155-02-04 01:49:00</td>\n",
       "      <td>254.00</td>\n",
       "      <td>...</td>\n",
       "      <td>CATHOLIC</td>\n",
       "      <td>DIVORCED</td>\n",
       "      <td>WHITE</td>\n",
       "      <td>2155-02-03 17:43:00</td>\n",
       "      <td>2155-02-03 21:26:00</td>\n",
       "      <td>GI BLEED/ CHEST PAIN</td>\n",
       "      <td>0</td>\n",
       "      <td>1</td>\n",
       "      <td>0 days 05:33:00</td>\n",
       "      <td>80.0</td>\n",
       "    </tr>\n",
       "    <tr>\n",
       "      <th>30</th>\n",
       "      <td>249</td>\n",
       "      <td>2075-03-13</td>\n",
       "      <td>F</td>\n",
       "      <td>NaN</td>\n",
       "      <td>0</td>\n",
       "      <td>162915</td>\n",
       "      <td>149546.0</td>\n",
       "      <td>50911</td>\n",
       "      <td>2155-02-04 01:49:00</td>\n",
       "      <td>24.00</td>\n",
       "      <td>...</td>\n",
       "      <td>CATHOLIC</td>\n",
       "      <td>DIVORCED</td>\n",
       "      <td>WHITE</td>\n",
       "      <td>2155-02-03 17:43:00</td>\n",
       "      <td>2155-02-03 21:26:00</td>\n",
       "      <td>GI BLEED/ CHEST PAIN</td>\n",
       "      <td>0</td>\n",
       "      <td>1</td>\n",
       "      <td>0 days 05:33:00</td>\n",
       "      <td>80.0</td>\n",
       "    </tr>\n",
       "    <tr>\n",
       "      <th>31</th>\n",
       "      <td>249</td>\n",
       "      <td>2075-03-13</td>\n",
       "      <td>F</td>\n",
       "      <td>NaN</td>\n",
       "      <td>0</td>\n",
       "      <td>162913</td>\n",
       "      <td>149546.0</td>\n",
       "      <td>50908</td>\n",
       "      <td>2155-02-04 01:49:00</td>\n",
       "      <td>9.40</td>\n",
       "      <td>...</td>\n",
       "      <td>CATHOLIC</td>\n",
       "      <td>DIVORCED</td>\n",
       "      <td>WHITE</td>\n",
       "      <td>2155-02-03 17:43:00</td>\n",
       "      <td>2155-02-03 21:26:00</td>\n",
       "      <td>GI BLEED/ CHEST PAIN</td>\n",
       "      <td>0</td>\n",
       "      <td>1</td>\n",
       "      <td>0 days 05:33:00</td>\n",
       "      <td>80.0</td>\n",
       "    </tr>\n",
       "    <tr>\n",
       "      <th>32</th>\n",
       "      <td>249</td>\n",
       "      <td>2075-03-13</td>\n",
       "      <td>F</td>\n",
       "      <td>NaN</td>\n",
       "      <td>0</td>\n",
       "      <td>162916</td>\n",
       "      <td>149546.0</td>\n",
       "      <td>51003</td>\n",
       "      <td>2155-02-04 01:49:00</td>\n",
       "      <td>0.46</td>\n",
       "      <td>...</td>\n",
       "      <td>CATHOLIC</td>\n",
       "      <td>DIVORCED</td>\n",
       "      <td>WHITE</td>\n",
       "      <td>2155-02-03 17:43:00</td>\n",
       "      <td>2155-02-03 21:26:00</td>\n",
       "      <td>GI BLEED/ CHEST PAIN</td>\n",
       "      <td>0</td>\n",
       "      <td>1</td>\n",
       "      <td>0 days 05:33:00</td>\n",
       "      <td>80.0</td>\n",
       "    </tr>\n",
       "    <tr>\n",
       "      <th>...</th>\n",
       "      <td>...</td>\n",
       "      <td>...</td>\n",
       "      <td>...</td>\n",
       "      <td>...</td>\n",
       "      <td>...</td>\n",
       "      <td>...</td>\n",
       "      <td>...</td>\n",
       "      <td>...</td>\n",
       "      <td>...</td>\n",
       "      <td>...</td>\n",
       "      <td>...</td>\n",
       "      <td>...</td>\n",
       "      <td>...</td>\n",
       "      <td>...</td>\n",
       "      <td>...</td>\n",
       "      <td>...</td>\n",
       "      <td>...</td>\n",
       "      <td>...</td>\n",
       "      <td>...</td>\n",
       "      <td>...</td>\n",
       "      <td>...</td>\n",
       "    </tr>\n",
       "    <tr>\n",
       "      <th>7260280</th>\n",
       "      <td>44128</td>\n",
       "      <td>2098-07-25</td>\n",
       "      <td>M</td>\n",
       "      <td>NaN</td>\n",
       "      <td>0</td>\n",
       "      <td>20437251</td>\n",
       "      <td>141304.0</td>\n",
       "      <td>51275</td>\n",
       "      <td>2149-06-14 05:00:00</td>\n",
       "      <td>26.40</td>\n",
       "      <td>...</td>\n",
       "      <td>NOT SPECIFIED</td>\n",
       "      <td>MARRIED</td>\n",
       "      <td>WHITE</td>\n",
       "      <td>2149-06-08 11:53:00</td>\n",
       "      <td>2149-06-08 15:31:00</td>\n",
       "      <td>TRAUMA</td>\n",
       "      <td>0</td>\n",
       "      <td>1</td>\n",
       "      <td>5 days 13:39:00</td>\n",
       "      <td>51.0</td>\n",
       "    </tr>\n",
       "    <tr>\n",
       "      <th>7260281</th>\n",
       "      <td>44128</td>\n",
       "      <td>2098-07-25</td>\n",
       "      <td>M</td>\n",
       "      <td>NaN</td>\n",
       "      <td>0</td>\n",
       "      <td>20437245</td>\n",
       "      <td>141304.0</td>\n",
       "      <td>51237</td>\n",
       "      <td>2149-06-14 05:00:00</td>\n",
       "      <td>1.10</td>\n",
       "      <td>...</td>\n",
       "      <td>NOT SPECIFIED</td>\n",
       "      <td>MARRIED</td>\n",
       "      <td>WHITE</td>\n",
       "      <td>2149-06-08 11:53:00</td>\n",
       "      <td>2149-06-08 15:31:00</td>\n",
       "      <td>TRAUMA</td>\n",
       "      <td>0</td>\n",
       "      <td>1</td>\n",
       "      <td>5 days 13:39:00</td>\n",
       "      <td>51.0</td>\n",
       "    </tr>\n",
       "    <tr>\n",
       "      <th>7260282</th>\n",
       "      <td>44128</td>\n",
       "      <td>2098-07-25</td>\n",
       "      <td>M</td>\n",
       "      <td>NaN</td>\n",
       "      <td>0</td>\n",
       "      <td>20437250</td>\n",
       "      <td>141304.0</td>\n",
       "      <td>51274</td>\n",
       "      <td>2149-06-14 05:00:00</td>\n",
       "      <td>12.80</td>\n",
       "      <td>...</td>\n",
       "      <td>NOT SPECIFIED</td>\n",
       "      <td>MARRIED</td>\n",
       "      <td>WHITE</td>\n",
       "      <td>2149-06-08 11:53:00</td>\n",
       "      <td>2149-06-08 15:31:00</td>\n",
       "      <td>TRAUMA</td>\n",
       "      <td>0</td>\n",
       "      <td>1</td>\n",
       "      <td>5 days 13:39:00</td>\n",
       "      <td>51.0</td>\n",
       "    </tr>\n",
       "    <tr>\n",
       "      <th>7260283</th>\n",
       "      <td>44128</td>\n",
       "      <td>2098-07-25</td>\n",
       "      <td>M</td>\n",
       "      <td>NaN</td>\n",
       "      <td>0</td>\n",
       "      <td>20437255</td>\n",
       "      <td>141304.0</td>\n",
       "      <td>51221</td>\n",
       "      <td>2149-06-15 04:45:00</td>\n",
       "      <td>27.30</td>\n",
       "      <td>...</td>\n",
       "      <td>NOT SPECIFIED</td>\n",
       "      <td>MARRIED</td>\n",
       "      <td>WHITE</td>\n",
       "      <td>2149-06-08 11:53:00</td>\n",
       "      <td>2149-06-08 15:31:00</td>\n",
       "      <td>TRAUMA</td>\n",
       "      <td>0</td>\n",
       "      <td>1</td>\n",
       "      <td>6 days 13:24:00</td>\n",
       "      <td>51.0</td>\n",
       "    </tr>\n",
       "    <tr>\n",
       "      <th>7260284</th>\n",
       "      <td>44128</td>\n",
       "      <td>2098-07-25</td>\n",
       "      <td>M</td>\n",
       "      <td>NaN</td>\n",
       "      <td>0</td>\n",
       "      <td>20437256</td>\n",
       "      <td>141304.0</td>\n",
       "      <td>51221</td>\n",
       "      <td>2149-06-16 12:22:00</td>\n",
       "      <td>28.00</td>\n",
       "      <td>...</td>\n",
       "      <td>NOT SPECIFIED</td>\n",
       "      <td>MARRIED</td>\n",
       "      <td>WHITE</td>\n",
       "      <td>2149-06-08 11:53:00</td>\n",
       "      <td>2149-06-08 15:31:00</td>\n",
       "      <td>TRAUMA</td>\n",
       "      <td>0</td>\n",
       "      <td>1</td>\n",
       "      <td>7 days 21:01:00</td>\n",
       "      <td>51.0</td>\n",
       "    </tr>\n",
       "  </tbody>\n",
       "</table>\n",
       "<p>5894804 rows × 38 columns</p>\n",
       "</div>"
      ],
      "text/plain": [
       "         SUBJECT_ID         DOB GENDER  DOD  EXPIRE_FLAG    ROW_ID   HADM_ID  \\\n",
       "28              249  2075-03-13      F  NaN            0    162912  149546.0   \n",
       "29              249  2075-03-13      F  NaN            0    162914  149546.0   \n",
       "30              249  2075-03-13      F  NaN            0    162915  149546.0   \n",
       "31              249  2075-03-13      F  NaN            0    162913  149546.0   \n",
       "32              249  2075-03-13      F  NaN            0    162916  149546.0   \n",
       "...             ...         ...    ...  ...          ...       ...       ...   \n",
       "7260280       44128  2098-07-25      M  NaN            0  20437251  141304.0   \n",
       "7260281       44128  2098-07-25      M  NaN            0  20437245  141304.0   \n",
       "7260282       44128  2098-07-25      M  NaN            0  20437250  141304.0   \n",
       "7260283       44128  2098-07-25      M  NaN            0  20437255  141304.0   \n",
       "7260284       44128  2098-07-25      M  NaN            0  20437256  141304.0   \n",
       "\n",
       "         ITEMID            CHARTTIME   VALUE  ...       RELIGION  \\\n",
       "28        51221  2155-02-03 23:26:00   26.60  ...       CATHOLIC   \n",
       "29        50910  2155-02-04 01:49:00  254.00  ...       CATHOLIC   \n",
       "30        50911  2155-02-04 01:49:00   24.00  ...       CATHOLIC   \n",
       "31        50908  2155-02-04 01:49:00    9.40  ...       CATHOLIC   \n",
       "32        51003  2155-02-04 01:49:00    0.46  ...       CATHOLIC   \n",
       "...         ...                  ...     ...  ...            ...   \n",
       "7260280   51275  2149-06-14 05:00:00   26.40  ...  NOT SPECIFIED   \n",
       "7260281   51237  2149-06-14 05:00:00    1.10  ...  NOT SPECIFIED   \n",
       "7260282   51274  2149-06-14 05:00:00   12.80  ...  NOT SPECIFIED   \n",
       "7260283   51221  2149-06-15 04:45:00   27.30  ...  NOT SPECIFIED   \n",
       "7260284   51221  2149-06-16 12:22:00   28.00  ...  NOT SPECIFIED   \n",
       "\n",
       "        MARITAL_STATUS ETHNICITY            EDREGTIME            EDOUTTIME  \\\n",
       "28            DIVORCED     WHITE  2155-02-03 17:43:00  2155-02-03 21:26:00   \n",
       "29            DIVORCED     WHITE  2155-02-03 17:43:00  2155-02-03 21:26:00   \n",
       "30            DIVORCED     WHITE  2155-02-03 17:43:00  2155-02-03 21:26:00   \n",
       "31            DIVORCED     WHITE  2155-02-03 17:43:00  2155-02-03 21:26:00   \n",
       "32            DIVORCED     WHITE  2155-02-03 17:43:00  2155-02-03 21:26:00   \n",
       "...                ...       ...                  ...                  ...   \n",
       "7260280        MARRIED     WHITE  2149-06-08 11:53:00  2149-06-08 15:31:00   \n",
       "7260281        MARRIED     WHITE  2149-06-08 11:53:00  2149-06-08 15:31:00   \n",
       "7260282        MARRIED     WHITE  2149-06-08 11:53:00  2149-06-08 15:31:00   \n",
       "7260283        MARRIED     WHITE  2149-06-08 11:53:00  2149-06-08 15:31:00   \n",
       "7260284        MARRIED     WHITE  2149-06-08 11:53:00  2149-06-08 15:31:00   \n",
       "\n",
       "                    DIAGNOSIS HOSPITAL_EXPIRE_FLAG HAS_CHARTEVENTS_DATA  \\\n",
       "28       GI BLEED/ CHEST PAIN                    0                    1   \n",
       "29       GI BLEED/ CHEST PAIN                    0                    1   \n",
       "30       GI BLEED/ CHEST PAIN                    0                    1   \n",
       "31       GI BLEED/ CHEST PAIN                    0                    1   \n",
       "32       GI BLEED/ CHEST PAIN                    0                    1   \n",
       "...                       ...                  ...                  ...   \n",
       "7260280                TRAUMA                    0                    1   \n",
       "7260281                TRAUMA                    0                    1   \n",
       "7260282                TRAUMA                    0                    1   \n",
       "7260283                TRAUMA                    0                    1   \n",
       "7260284                TRAUMA                    0                    1   \n",
       "\n",
       "         LabTimeFromAdmit   AGE  \n",
       "28        0 days 03:10:00  80.0  \n",
       "29        0 days 05:33:00  80.0  \n",
       "30        0 days 05:33:00  80.0  \n",
       "31        0 days 05:33:00  80.0  \n",
       "32        0 days 05:33:00  80.0  \n",
       "...                   ...   ...  \n",
       "7260280   5 days 13:39:00  51.0  \n",
       "7260281   5 days 13:39:00  51.0  \n",
       "7260282   5 days 13:39:00  51.0  \n",
       "7260283   6 days 13:24:00  51.0  \n",
       "7260284   7 days 21:01:00  51.0  \n",
       "\n",
       "[5894804 rows x 38 columns]"
      ]
     },
     "execution_count": 24,
     "metadata": {},
     "output_type": "execute_result"
    }
   ],
   "source": [
    "labs[labs.HADM_ID.isin(h_adm_1+h_adm_2)]"
   ]
  },
  {
   "cell_type": "code",
   "execution_count": 25,
   "metadata": {},
   "outputs": [],
   "source": [
    "labs = labs[labs.HADM_ID.isin(h_adm_1+h_adm_2)]"
   ]
  },
  {
   "cell_type": "code",
   "execution_count": 26,
   "metadata": {},
   "outputs": [],
   "source": [
    "labs = labs[labs[\"AGE\"]>=age_b]\n",
    "labs = labs[labs[\"AGE\"]<=age_a]"
   ]
  },
  {
   "cell_type": "code",
   "execution_count": 27,
   "metadata": {},
   "outputs": [],
   "source": [
    "labs = labs[labs[\"GENDER\"]==gender]\n",
    "labs = labs[labs[\"ETHNICITY\"]==ethnicity]"
   ]
  },
  {
   "cell_type": "code",
   "execution_count": 28,
   "metadata": {},
   "outputs": [
    {
     "data": {
      "text/html": [
       "<div>\n",
       "<style scoped>\n",
       "    .dataframe tbody tr th:only-of-type {\n",
       "        vertical-align: middle;\n",
       "    }\n",
       "\n",
       "    .dataframe tbody tr th {\n",
       "        vertical-align: top;\n",
       "    }\n",
       "\n",
       "    .dataframe thead th {\n",
       "        text-align: right;\n",
       "    }\n",
       "</style>\n",
       "<table border=\"1\" class=\"dataframe\">\n",
       "  <thead>\n",
       "    <tr style=\"text-align: right;\">\n",
       "      <th></th>\n",
       "      <th>SUBJECT_ID</th>\n",
       "      <th>DOB</th>\n",
       "      <th>GENDER</th>\n",
       "      <th>DOD</th>\n",
       "      <th>EXPIRE_FLAG</th>\n",
       "      <th>ROW_ID</th>\n",
       "      <th>HADM_ID</th>\n",
       "      <th>ITEMID</th>\n",
       "      <th>CHARTTIME</th>\n",
       "      <th>VALUE</th>\n",
       "      <th>...</th>\n",
       "      <th>RELIGION</th>\n",
       "      <th>MARITAL_STATUS</th>\n",
       "      <th>ETHNICITY</th>\n",
       "      <th>EDREGTIME</th>\n",
       "      <th>EDOUTTIME</th>\n",
       "      <th>DIAGNOSIS</th>\n",
       "      <th>HOSPITAL_EXPIRE_FLAG</th>\n",
       "      <th>HAS_CHARTEVENTS_DATA</th>\n",
       "      <th>LabTimeFromAdmit</th>\n",
       "      <th>AGE</th>\n",
       "    </tr>\n",
       "  </thead>\n",
       "  <tbody>\n",
       "    <tr>\n",
       "      <th>6116</th>\n",
       "      <td>820</td>\n",
       "      <td>2077-04-26</td>\n",
       "      <td>M</td>\n",
       "      <td>2144-03-24 00:00:00</td>\n",
       "      <td>1</td>\n",
       "      <td>545633</td>\n",
       "      <td>193603.0</td>\n",
       "      <td>51250</td>\n",
       "      <td>2144-02-23 06:52:00</td>\n",
       "      <td>89.0</td>\n",
       "      <td>...</td>\n",
       "      <td>CATHOLIC</td>\n",
       "      <td>MARRIED</td>\n",
       "      <td>WHITE</td>\n",
       "      <td>2144-02-22 16:41:00</td>\n",
       "      <td>2144-02-23 02:43:00</td>\n",
       "      <td>PULMONARY EMBOLIS</td>\n",
       "      <td>0</td>\n",
       "      <td>1</td>\n",
       "      <td>0 days 05:13:00</td>\n",
       "      <td>67.0</td>\n",
       "    </tr>\n",
       "    <tr>\n",
       "      <th>6117</th>\n",
       "      <td>820</td>\n",
       "      <td>2077-04-26</td>\n",
       "      <td>M</td>\n",
       "      <td>2144-03-24 00:00:00</td>\n",
       "      <td>1</td>\n",
       "      <td>545634</td>\n",
       "      <td>193603.0</td>\n",
       "      <td>51265</td>\n",
       "      <td>2144-02-23 06:52:00</td>\n",
       "      <td>82.0</td>\n",
       "      <td>...</td>\n",
       "      <td>CATHOLIC</td>\n",
       "      <td>MARRIED</td>\n",
       "      <td>WHITE</td>\n",
       "      <td>2144-02-22 16:41:00</td>\n",
       "      <td>2144-02-23 02:43:00</td>\n",
       "      <td>PULMONARY EMBOLIS</td>\n",
       "      <td>0</td>\n",
       "      <td>1</td>\n",
       "      <td>0 days 05:13:00</td>\n",
       "      <td>67.0</td>\n",
       "    </tr>\n",
       "    <tr>\n",
       "      <th>6118</th>\n",
       "      <td>820</td>\n",
       "      <td>2077-04-26</td>\n",
       "      <td>M</td>\n",
       "      <td>2144-03-24 00:00:00</td>\n",
       "      <td>1</td>\n",
       "      <td>545616</td>\n",
       "      <td>193603.0</td>\n",
       "      <td>50910</td>\n",
       "      <td>2144-02-23 06:52:00</td>\n",
       "      <td>58.0</td>\n",
       "      <td>...</td>\n",
       "      <td>CATHOLIC</td>\n",
       "      <td>MARRIED</td>\n",
       "      <td>WHITE</td>\n",
       "      <td>2144-02-22 16:41:00</td>\n",
       "      <td>2144-02-23 02:43:00</td>\n",
       "      <td>PULMONARY EMBOLIS</td>\n",
       "      <td>0</td>\n",
       "      <td>1</td>\n",
       "      <td>0 days 05:13:00</td>\n",
       "      <td>67.0</td>\n",
       "    </tr>\n",
       "    <tr>\n",
       "      <th>6119</th>\n",
       "      <td>820</td>\n",
       "      <td>2077-04-26</td>\n",
       "      <td>M</td>\n",
       "      <td>2144-03-24 00:00:00</td>\n",
       "      <td>1</td>\n",
       "      <td>545631</td>\n",
       "      <td>193603.0</td>\n",
       "      <td>51248</td>\n",
       "      <td>2144-02-23 06:52:00</td>\n",
       "      <td>28.9</td>\n",
       "      <td>...</td>\n",
       "      <td>CATHOLIC</td>\n",
       "      <td>MARRIED</td>\n",
       "      <td>WHITE</td>\n",
       "      <td>2144-02-22 16:41:00</td>\n",
       "      <td>2144-02-23 02:43:00</td>\n",
       "      <td>PULMONARY EMBOLIS</td>\n",
       "      <td>0</td>\n",
       "      <td>1</td>\n",
       "      <td>0 days 05:13:00</td>\n",
       "      <td>67.0</td>\n",
       "    </tr>\n",
       "    <tr>\n",
       "      <th>6120</th>\n",
       "      <td>820</td>\n",
       "      <td>2077-04-26</td>\n",
       "      <td>M</td>\n",
       "      <td>2144-03-24 00:00:00</td>\n",
       "      <td>1</td>\n",
       "      <td>545637</td>\n",
       "      <td>193603.0</td>\n",
       "      <td>51277</td>\n",
       "      <td>2144-02-23 06:52:00</td>\n",
       "      <td>19.2</td>\n",
       "      <td>...</td>\n",
       "      <td>CATHOLIC</td>\n",
       "      <td>MARRIED</td>\n",
       "      <td>WHITE</td>\n",
       "      <td>2144-02-22 16:41:00</td>\n",
       "      <td>2144-02-23 02:43:00</td>\n",
       "      <td>PULMONARY EMBOLIS</td>\n",
       "      <td>0</td>\n",
       "      <td>1</td>\n",
       "      <td>0 days 05:13:00</td>\n",
       "      <td>67.0</td>\n",
       "    </tr>\n",
       "    <tr>\n",
       "      <th>...</th>\n",
       "      <td>...</td>\n",
       "      <td>...</td>\n",
       "      <td>...</td>\n",
       "      <td>...</td>\n",
       "      <td>...</td>\n",
       "      <td>...</td>\n",
       "      <td>...</td>\n",
       "      <td>...</td>\n",
       "      <td>...</td>\n",
       "      <td>...</td>\n",
       "      <td>...</td>\n",
       "      <td>...</td>\n",
       "      <td>...</td>\n",
       "      <td>...</td>\n",
       "      <td>...</td>\n",
       "      <td>...</td>\n",
       "      <td>...</td>\n",
       "      <td>...</td>\n",
       "      <td>...</td>\n",
       "      <td>...</td>\n",
       "      <td>...</td>\n",
       "    </tr>\n",
       "    <tr>\n",
       "      <th>7257411</th>\n",
       "      <td>44069</td>\n",
       "      <td>2064-04-08</td>\n",
       "      <td>M</td>\n",
       "      <td>NaN</td>\n",
       "      <td>0</td>\n",
       "      <td>20434090</td>\n",
       "      <td>138192.0</td>\n",
       "      <td>51006</td>\n",
       "      <td>2131-02-18 04:25:00</td>\n",
       "      <td>12.0</td>\n",
       "      <td>...</td>\n",
       "      <td>PROTESTANT QUAKER</td>\n",
       "      <td>MARRIED</td>\n",
       "      <td>WHITE</td>\n",
       "      <td>NaN</td>\n",
       "      <td>NaN</td>\n",
       "      <td>CORONARY ARTERY DISEASE</td>\n",
       "      <td>0</td>\n",
       "      <td>1</td>\n",
       "      <td>5 days 10:14:00</td>\n",
       "      <td>67.0</td>\n",
       "    </tr>\n",
       "    <tr>\n",
       "      <th>7257412</th>\n",
       "      <td>44069</td>\n",
       "      <td>2064-04-08</td>\n",
       "      <td>M</td>\n",
       "      <td>NaN</td>\n",
       "      <td>0</td>\n",
       "      <td>20434088</td>\n",
       "      <td>138192.0</td>\n",
       "      <td>50971</td>\n",
       "      <td>2131-02-18 04:25:00</td>\n",
       "      <td>4.2</td>\n",
       "      <td>...</td>\n",
       "      <td>PROTESTANT QUAKER</td>\n",
       "      <td>MARRIED</td>\n",
       "      <td>WHITE</td>\n",
       "      <td>NaN</td>\n",
       "      <td>NaN</td>\n",
       "      <td>CORONARY ARTERY DISEASE</td>\n",
       "      <td>0</td>\n",
       "      <td>1</td>\n",
       "      <td>5 days 10:14:00</td>\n",
       "      <td>67.0</td>\n",
       "    </tr>\n",
       "    <tr>\n",
       "      <th>7257413</th>\n",
       "      <td>44069</td>\n",
       "      <td>2064-04-08</td>\n",
       "      <td>M</td>\n",
       "      <td>NaN</td>\n",
       "      <td>0</td>\n",
       "      <td>20434087</td>\n",
       "      <td>138192.0</td>\n",
       "      <td>50960</td>\n",
       "      <td>2131-02-18 04:25:00</td>\n",
       "      <td>2.1</td>\n",
       "      <td>...</td>\n",
       "      <td>PROTESTANT QUAKER</td>\n",
       "      <td>MARRIED</td>\n",
       "      <td>WHITE</td>\n",
       "      <td>NaN</td>\n",
       "      <td>NaN</td>\n",
       "      <td>CORONARY ARTERY DISEASE</td>\n",
       "      <td>0</td>\n",
       "      <td>1</td>\n",
       "      <td>5 days 10:14:00</td>\n",
       "      <td>67.0</td>\n",
       "    </tr>\n",
       "    <tr>\n",
       "      <th>7257414</th>\n",
       "      <td>44069</td>\n",
       "      <td>2064-04-08</td>\n",
       "      <td>M</td>\n",
       "      <td>NaN</td>\n",
       "      <td>0</td>\n",
       "      <td>20434089</td>\n",
       "      <td>138192.0</td>\n",
       "      <td>50983</td>\n",
       "      <td>2131-02-18 04:25:00</td>\n",
       "      <td>134.0</td>\n",
       "      <td>...</td>\n",
       "      <td>PROTESTANT QUAKER</td>\n",
       "      <td>MARRIED</td>\n",
       "      <td>WHITE</td>\n",
       "      <td>NaN</td>\n",
       "      <td>NaN</td>\n",
       "      <td>CORONARY ARTERY DISEASE</td>\n",
       "      <td>0</td>\n",
       "      <td>1</td>\n",
       "      <td>5 days 10:14:00</td>\n",
       "      <td>67.0</td>\n",
       "    </tr>\n",
       "    <tr>\n",
       "      <th>7257415</th>\n",
       "      <td>44069</td>\n",
       "      <td>2064-04-08</td>\n",
       "      <td>M</td>\n",
       "      <td>NaN</td>\n",
       "      <td>0</td>\n",
       "      <td>20434099</td>\n",
       "      <td>138192.0</td>\n",
       "      <td>51301</td>\n",
       "      <td>2131-02-18 04:25:00</td>\n",
       "      <td>8.5</td>\n",
       "      <td>...</td>\n",
       "      <td>PROTESTANT QUAKER</td>\n",
       "      <td>MARRIED</td>\n",
       "      <td>WHITE</td>\n",
       "      <td>NaN</td>\n",
       "      <td>NaN</td>\n",
       "      <td>CORONARY ARTERY DISEASE</td>\n",
       "      <td>0</td>\n",
       "      <td>1</td>\n",
       "      <td>5 days 10:14:00</td>\n",
       "      <td>67.0</td>\n",
       "    </tr>\n",
       "  </tbody>\n",
       "</table>\n",
       "<p>744834 rows × 38 columns</p>\n",
       "</div>"
      ],
      "text/plain": [
       "         SUBJECT_ID         DOB GENDER                  DOD  EXPIRE_FLAG  \\\n",
       "6116            820  2077-04-26      M  2144-03-24 00:00:00            1   \n",
       "6117            820  2077-04-26      M  2144-03-24 00:00:00            1   \n",
       "6118            820  2077-04-26      M  2144-03-24 00:00:00            1   \n",
       "6119            820  2077-04-26      M  2144-03-24 00:00:00            1   \n",
       "6120            820  2077-04-26      M  2144-03-24 00:00:00            1   \n",
       "...             ...         ...    ...                  ...          ...   \n",
       "7257411       44069  2064-04-08      M                  NaN            0   \n",
       "7257412       44069  2064-04-08      M                  NaN            0   \n",
       "7257413       44069  2064-04-08      M                  NaN            0   \n",
       "7257414       44069  2064-04-08      M                  NaN            0   \n",
       "7257415       44069  2064-04-08      M                  NaN            0   \n",
       "\n",
       "           ROW_ID   HADM_ID  ITEMID            CHARTTIME  VALUE  ...  \\\n",
       "6116       545633  193603.0   51250  2144-02-23 06:52:00   89.0  ...   \n",
       "6117       545634  193603.0   51265  2144-02-23 06:52:00   82.0  ...   \n",
       "6118       545616  193603.0   50910  2144-02-23 06:52:00   58.0  ...   \n",
       "6119       545631  193603.0   51248  2144-02-23 06:52:00   28.9  ...   \n",
       "6120       545637  193603.0   51277  2144-02-23 06:52:00   19.2  ...   \n",
       "...           ...       ...     ...                  ...    ...  ...   \n",
       "7257411  20434090  138192.0   51006  2131-02-18 04:25:00   12.0  ...   \n",
       "7257412  20434088  138192.0   50971  2131-02-18 04:25:00    4.2  ...   \n",
       "7257413  20434087  138192.0   50960  2131-02-18 04:25:00    2.1  ...   \n",
       "7257414  20434089  138192.0   50983  2131-02-18 04:25:00  134.0  ...   \n",
       "7257415  20434099  138192.0   51301  2131-02-18 04:25:00    8.5  ...   \n",
       "\n",
       "                  RELIGION MARITAL_STATUS ETHNICITY            EDREGTIME  \\\n",
       "6116              CATHOLIC        MARRIED     WHITE  2144-02-22 16:41:00   \n",
       "6117              CATHOLIC        MARRIED     WHITE  2144-02-22 16:41:00   \n",
       "6118              CATHOLIC        MARRIED     WHITE  2144-02-22 16:41:00   \n",
       "6119              CATHOLIC        MARRIED     WHITE  2144-02-22 16:41:00   \n",
       "6120              CATHOLIC        MARRIED     WHITE  2144-02-22 16:41:00   \n",
       "...                    ...            ...       ...                  ...   \n",
       "7257411  PROTESTANT QUAKER        MARRIED     WHITE                  NaN   \n",
       "7257412  PROTESTANT QUAKER        MARRIED     WHITE                  NaN   \n",
       "7257413  PROTESTANT QUAKER        MARRIED     WHITE                  NaN   \n",
       "7257414  PROTESTANT QUAKER        MARRIED     WHITE                  NaN   \n",
       "7257415  PROTESTANT QUAKER        MARRIED     WHITE                  NaN   \n",
       "\n",
       "                   EDOUTTIME                DIAGNOSIS HOSPITAL_EXPIRE_FLAG  \\\n",
       "6116     2144-02-23 02:43:00        PULMONARY EMBOLIS                    0   \n",
       "6117     2144-02-23 02:43:00        PULMONARY EMBOLIS                    0   \n",
       "6118     2144-02-23 02:43:00        PULMONARY EMBOLIS                    0   \n",
       "6119     2144-02-23 02:43:00        PULMONARY EMBOLIS                    0   \n",
       "6120     2144-02-23 02:43:00        PULMONARY EMBOLIS                    0   \n",
       "...                      ...                      ...                  ...   \n",
       "7257411                  NaN  CORONARY ARTERY DISEASE                    0   \n",
       "7257412                  NaN  CORONARY ARTERY DISEASE                    0   \n",
       "7257413                  NaN  CORONARY ARTERY DISEASE                    0   \n",
       "7257414                  NaN  CORONARY ARTERY DISEASE                    0   \n",
       "7257415                  NaN  CORONARY ARTERY DISEASE                    0   \n",
       "\n",
       "        HAS_CHARTEVENTS_DATA  LabTimeFromAdmit   AGE  \n",
       "6116                       1   0 days 05:13:00  67.0  \n",
       "6117                       1   0 days 05:13:00  67.0  \n",
       "6118                       1   0 days 05:13:00  67.0  \n",
       "6119                       1   0 days 05:13:00  67.0  \n",
       "6120                       1   0 days 05:13:00  67.0  \n",
       "...                      ...               ...   ...  \n",
       "7257411                    1   5 days 10:14:00  67.0  \n",
       "7257412                    1   5 days 10:14:00  67.0  \n",
       "7257413                    1   5 days 10:14:00  67.0  \n",
       "7257414                    1   5 days 10:14:00  67.0  \n",
       "7257415                    1   5 days 10:14:00  67.0  \n",
       "\n",
       "[744834 rows x 38 columns]"
      ]
     },
     "execution_count": 28,
     "metadata": {},
     "output_type": "execute_result"
    }
   ],
   "source": [
    "labs"
   ]
  },
  {
   "cell_type": "code",
   "execution_count": null,
   "metadata": {},
   "outputs": [],
   "source": [
    "# import scipy.stats as stats\n",
    "# import numpy as np  # For the median\n",
    "# import matplotlib.pyplot as plt  # For the plot\n",
    "# from matplotlib.patches import Rectangle\n",
    "# import pickle\n",
    "\n",
    "# # pickle.dump(v_r_lab_dict, open(os.path.join(data, \"mapping_lab_itemids.pkl\"), \"wb\"))\n",
    "# t_v_r_lab_dict = pickle.load(open(os.path.join(data, \"mapping_lab_itemids.pkl\"), \"rb\"))\n",
    "# labs_data = {}\n",
    "# for lab, mimic_data in v_r_lab_dict.items():\n",
    "#     itemids = [k[1] for k in list(mimic_data.keys())]\n",
    "#     labs_data[lab.strip()] = labs[labs.ITEMID.isin(itemids)]\n",
    "#     if labs_data[lab.strip()].shape[0]==0:\n",
    "#         del labs_data[lab.strip()]\n",
    "#     else:\n",
    "#         print(f\"Lab: {lab}\")\n",
    "\n",
    "# res_dict_anova = {}\n",
    "# res_list = []\n",
    "# # stats f_oneway functions takes the groups as input and returns ANOVA F and p value\n",
    "# for lab, mimic_data in labs_data.items():\n",
    "#     t_lab_filter = mimic_data[[\"VALUE\", \"LABEL\", \"VALUEUOM\"]]\n",
    "#     t = []\n",
    "#     units = []\n",
    "#     for lab1 in t_lab_filter.LABEL.unique():\n",
    "#         temp = t_lab_filter.set_index(\"LABEL\").loc[lab1]\n",
    "#         t.append(temp[[\"VALUE\"]])\n",
    "#         units.append(temp[\"VALUEUOM\"].unique()[0])\n",
    "    \n",
    "#     if len(t)>1:\n",
    "#         fvalue, pvalue = stats.f_oneway(*t)\n",
    "#         res_dict_anova[lab.strip()] = (fvalue, pvalue)\n",
    "\n",
    "\n",
    "#         # The p-value for a hypothesis test whose null hypothesis is that the slope is zero, using Wald Test with t-distribution of the test statistic\n",
    "#         # Fit line to median of distributions\n",
    "#         data = [d.reset_index()[\"VALUE\"] for d in t]\n",
    "#         x_labels = [d.reset_index()[\"LABEL\"].unique()[0] for d in t]\n",
    "#         x = range(1, len(data) + 1)\n",
    "#         y = [np.median(sample) for sample in t]\n",
    "#         slope, intercept, r_val, p_val, slope_std_error = stats.linregress(x, y)\n",
    "\n",
    "#         def line(x):\n",
    "#             \"\"\"The regression line\"\"\"\n",
    "#             return slope * x + intercept\n",
    "\n",
    "#         plt.figure()\n",
    "#         plt.violinplot(data)\n",
    "#         x1, x2 = plt.xlim()\n",
    "#         plt.plot((x1, x2), (line(x1), line(x2)), '--')\n",
    "#         extra = Rectangle((0, 0), 1, 1, fc=\"w\", fill=False, edgecolor='none', linewidth=0)\n",
    "#         plt.legend([extra for i in range(3)], (f\"F value = {res_dict_anova[lab.strip()][0][0].round(2)}\", f\"P value = {res_dict_anova[lab.strip()][1][0].round(2)}\", \"--- $y = {0:.2f}x + {1:.2f}$ ($p={2:.2f}$)\".format(slope,intercept,p_val) ), loc=1)\n",
    "#         plt.title(f\"Comparing medians of {lab} lab measurements\")\n",
    "#         x_labels.insert(0, \"\")\n",
    "#         plt.xticks(range(len(x_labels)), x_labels, size='small', rotation=45)\n",
    "#         plt.xlabel(f\"Lab Names\")\n",
    "#         plt.ylabel(f\"Median of {lab} measurements ({units[0]})\")\n",
    "        \n",
    "#         if res_dict_anova[lab.strip()][1][0] <= 0.01 and p_val > 0.01:\n",
    "#             res_list.append(lab)\n",
    "\n",
    "# res_lab_itemids = {k[1]:lab for lab in res_list for k, v in v_r_lab_dict[lab].items() }\n",
    "# labs[\"MIMICExtractName\"] = labs.apply(lambda r: res_lab_itemids[r[\"ITEMID\"]] if r[\"ITEMID\"] in res_lab_itemids else r[\"LABEL\"], axis=1)"
   ]
  },
  {
   "cell_type": "code",
   "execution_count": 29,
   "metadata": {},
   "outputs": [
    {
     "data": {
      "text/plain": [
       "Text(0.5, 1.0, 'Distribution of age')"
      ]
     },
     "execution_count": 29,
     "metadata": {},
     "output_type": "execute_result"
    },
    {
     "data": {
      "image/png": "[encoded data removed]",
      "text/plain": [
       "<Figure size 640x480 with 1 Axes>"
      ]
     },
     "metadata": {},
     "output_type": "display_data"
    }
   ],
   "source": [
    "import matplotlib.pyplot as plt\n",
    "t = labs[labs[\"AGE\"]<100]\n",
    "t = pd.DataFrame(t[\"AGE\"].value_counts()).reset_index().sort_values([\"index\"])\n",
    "plt.bar(t[\"index\"], t[\"AGE\"])\n",
    "plt.xlabel('Age')\n",
    "plt.ylabel('Count of Patients')\n",
    "plt.title('Distribution of age')"
   ]
  },
  {
   "cell_type": "markdown",
   "metadata": {},
   "source": [
    "## Pairs"
   ]
  },
  {
   "cell_type": "code",
   "execution_count": 30,
   "metadata": {},
   "outputs": [
    {
     "data": {
      "text/html": [
       "<div>\n",
       "<style scoped>\n",
       "    .dataframe tbody tr th:only-of-type {\n",
       "        vertical-align: middle;\n",
       "    }\n",
       "\n",
       "    .dataframe tbody tr th {\n",
       "        vertical-align: top;\n",
       "    }\n",
       "\n",
       "    .dataframe thead th {\n",
       "        text-align: right;\n",
       "    }\n",
       "</style>\n",
       "<table border=\"1\" class=\"dataframe\">\n",
       "  <thead>\n",
       "    <tr style=\"text-align: right;\">\n",
       "      <th></th>\n",
       "      <th></th>\n",
       "      <th>HADM_ID</th>\n",
       "    </tr>\n",
       "    <tr>\n",
       "      <th>ITEMID</th>\n",
       "      <th>LABEL</th>\n",
       "      <th></th>\n",
       "    </tr>\n",
       "  </thead>\n",
       "  <tbody>\n",
       "    <tr>\n",
       "      <th>221794</th>\n",
       "      <th>Furosemide (Lasix)</th>\n",
       "      <td>726</td>\n",
       "    </tr>\n",
       "    <tr>\n",
       "      <th>225855</th>\n",
       "      <th>Ceftriaxone</th>\n",
       "      <td>155</td>\n",
       "    </tr>\n",
       "    <tr>\n",
       "      <th>221824</th>\n",
       "      <th>Haloperidol (Haldol)</th>\n",
       "      <td>116</td>\n",
       "    </tr>\n",
       "    <tr>\n",
       "      <th>227694</th>\n",
       "      <th>Omeprazole (Prilosec)</th>\n",
       "      <td>67</td>\n",
       "    </tr>\n",
       "    <tr>\n",
       "      <th>225913</th>\n",
       "      <th>Coumadin (Warfarin)</th>\n",
       "      <td>59</td>\n",
       "    </tr>\n",
       "    <tr>\n",
       "      <th>228340</th>\n",
       "      <th>Furosemide (Lasix) 500/100</th>\n",
       "      <td>22</td>\n",
       "    </tr>\n",
       "    <tr>\n",
       "      <th>222151</th>\n",
       "      <th>Procainamide</th>\n",
       "      <td>2</td>\n",
       "    </tr>\n",
       "  </tbody>\n",
       "</table>\n",
       "</div>"
      ],
      "text/plain": [
       "                                   HADM_ID\n",
       "ITEMID LABEL                              \n",
       "221794 Furosemide (Lasix)              726\n",
       "225855 Ceftriaxone                     155\n",
       "221824 Haloperidol (Haldol)            116\n",
       "227694 Omeprazole (Prilosec)            67\n",
       "225913 Coumadin (Warfarin)              59\n",
       "228340 Furosemide (Lasix) 500/100       22\n",
       "222151 Procainamide                      2"
      ]
     },
     "execution_count": 30,
     "metadata": {},
     "output_type": "execute_result"
    }
   ],
   "source": [
    "counts = med1.groupby([\"ITEMID\", \"LABEL\"]).count()[[\"HADM_ID\"]].sort_values(\"HADM_ID\", ascending=False)\n",
    "counts"
   ]
  },
  {
   "cell_type": "code",
   "execution_count": 31,
   "metadata": {},
   "outputs": [],
   "source": [
    "labitems = pd.read_csv(os.path.join(data, \"mimiciii/1.4/raw\", \"D_LABITEMS.csv.gz\"))\n",
    "meditems = pd.read_csv(os.path.join(data, \"mimiciii/1.4/raw\", \"D_ITEMS.csv.gz\"))"
   ]
  },
  {
   "cell_type": "code",
   "execution_count": 65,
   "metadata": {},
   "outputs": [
    {
     "data": {
      "text/html": [
       "<div>\n",
       "<style scoped>\n",
       "    .dataframe tbody tr th:only-of-type {\n",
       "        vertical-align: middle;\n",
       "    }\n",
       "\n",
       "    .dataframe tbody tr th {\n",
       "        vertical-align: top;\n",
       "    }\n",
       "\n",
       "    .dataframe thead th {\n",
       "        text-align: right;\n",
       "    }\n",
       "</style>\n",
       "<table border=\"1\" class=\"dataframe\">\n",
       "  <thead>\n",
       "    <tr style=\"text-align: right;\">\n",
       "      <th></th>\n",
       "      <th>SUBJECT_ID</th>\n",
       "      <th>DOB</th>\n",
       "      <th>GENDER</th>\n",
       "      <th>DOD</th>\n",
       "      <th>EXPIRE_FLAG</th>\n",
       "      <th>ROW_ID</th>\n",
       "      <th>HADM_ID</th>\n",
       "      <th>ITEMID</th>\n",
       "      <th>CHARTTIME</th>\n",
       "      <th>VALUE</th>\n",
       "      <th>...</th>\n",
       "      <th>RELIGION</th>\n",
       "      <th>MARITAL_STATUS</th>\n",
       "      <th>ETHNICITY</th>\n",
       "      <th>EDREGTIME</th>\n",
       "      <th>EDOUTTIME</th>\n",
       "      <th>DIAGNOSIS</th>\n",
       "      <th>HOSPITAL_EXPIRE_FLAG</th>\n",
       "      <th>HAS_CHARTEVENTS_DATA</th>\n",
       "      <th>LabTimeFromAdmit</th>\n",
       "      <th>AGE</th>\n",
       "    </tr>\n",
       "  </thead>\n",
       "  <tbody>\n",
       "    <tr>\n",
       "      <th>6926</th>\n",
       "      <td>23</td>\n",
       "      <td>2082-07-17</td>\n",
       "      <td>M</td>\n",
       "      <td>NaN</td>\n",
       "      <td>0</td>\n",
       "      <td>10944</td>\n",
       "      <td>124321.0</td>\n",
       "      <td>51277</td>\n",
       "      <td>2157-10-19 03:55:00</td>\n",
       "      <td>14.40</td>\n",
       "      <td>...</td>\n",
       "      <td>CATHOLIC</td>\n",
       "      <td>MARRIED</td>\n",
       "      <td>WHITE</td>\n",
       "      <td>NaN</td>\n",
       "      <td>NaN</td>\n",
       "      <td>BRAIN MASS</td>\n",
       "      <td>0</td>\n",
       "      <td>1</td>\n",
       "      <td>0 days 08:21:00</td>\n",
       "      <td>75.0</td>\n",
       "    </tr>\n",
       "    <tr>\n",
       "      <th>6927</th>\n",
       "      <td>23</td>\n",
       "      <td>2082-07-17</td>\n",
       "      <td>M</td>\n",
       "      <td>NaN</td>\n",
       "      <td>0</td>\n",
       "      <td>10937</td>\n",
       "      <td>124321.0</td>\n",
       "      <td>51249</td>\n",
       "      <td>2157-10-19 03:55:00</td>\n",
       "      <td>34.60</td>\n",
       "      <td>...</td>\n",
       "      <td>CATHOLIC</td>\n",
       "      <td>MARRIED</td>\n",
       "      <td>WHITE</td>\n",
       "      <td>NaN</td>\n",
       "      <td>NaN</td>\n",
       "      <td>BRAIN MASS</td>\n",
       "      <td>0</td>\n",
       "      <td>1</td>\n",
       "      <td>0 days 08:21:00</td>\n",
       "      <td>75.0</td>\n",
       "    </tr>\n",
       "    <tr>\n",
       "      <th>6928</th>\n",
       "      <td>23</td>\n",
       "      <td>2082-07-17</td>\n",
       "      <td>M</td>\n",
       "      <td>NaN</td>\n",
       "      <td>0</td>\n",
       "      <td>10928</td>\n",
       "      <td>124321.0</td>\n",
       "      <td>50983</td>\n",
       "      <td>2157-10-19 03:55:00</td>\n",
       "      <td>140.00</td>\n",
       "      <td>...</td>\n",
       "      <td>CATHOLIC</td>\n",
       "      <td>MARRIED</td>\n",
       "      <td>WHITE</td>\n",
       "      <td>NaN</td>\n",
       "      <td>NaN</td>\n",
       "      <td>BRAIN MASS</td>\n",
       "      <td>0</td>\n",
       "      <td>1</td>\n",
       "      <td>0 days 08:21:00</td>\n",
       "      <td>75.0</td>\n",
       "    </tr>\n",
       "    <tr>\n",
       "      <th>6929</th>\n",
       "      <td>23</td>\n",
       "      <td>2082-07-17</td>\n",
       "      <td>M</td>\n",
       "      <td>NaN</td>\n",
       "      <td>0</td>\n",
       "      <td>10946</td>\n",
       "      <td>124321.0</td>\n",
       "      <td>51301</td>\n",
       "      <td>2157-10-19 03:55:00</td>\n",
       "      <td>10.90</td>\n",
       "      <td>...</td>\n",
       "      <td>CATHOLIC</td>\n",
       "      <td>MARRIED</td>\n",
       "      <td>WHITE</td>\n",
       "      <td>NaN</td>\n",
       "      <td>NaN</td>\n",
       "      <td>BRAIN MASS</td>\n",
       "      <td>0</td>\n",
       "      <td>1</td>\n",
       "      <td>0 days 08:21:00</td>\n",
       "      <td>75.0</td>\n",
       "    </tr>\n",
       "    <tr>\n",
       "      <th>6930</th>\n",
       "      <td>23</td>\n",
       "      <td>2082-07-17</td>\n",
       "      <td>M</td>\n",
       "      <td>NaN</td>\n",
       "      <td>0</td>\n",
       "      <td>10933</td>\n",
       "      <td>124321.0</td>\n",
       "      <td>51222</td>\n",
       "      <td>2157-10-19 03:55:00</td>\n",
       "      <td>13.40</td>\n",
       "      <td>...</td>\n",
       "      <td>CATHOLIC</td>\n",
       "      <td>MARRIED</td>\n",
       "      <td>WHITE</td>\n",
       "      <td>NaN</td>\n",
       "      <td>NaN</td>\n",
       "      <td>BRAIN MASS</td>\n",
       "      <td>0</td>\n",
       "      <td>1</td>\n",
       "      <td>0 days 08:21:00</td>\n",
       "      <td>75.0</td>\n",
       "    </tr>\n",
       "    <tr>\n",
       "      <th>...</th>\n",
       "      <td>...</td>\n",
       "      <td>...</td>\n",
       "      <td>...</td>\n",
       "      <td>...</td>\n",
       "      <td>...</td>\n",
       "      <td>...</td>\n",
       "      <td>...</td>\n",
       "      <td>...</td>\n",
       "      <td>...</td>\n",
       "      <td>...</td>\n",
       "      <td>...</td>\n",
       "      <td>...</td>\n",
       "      <td>...</td>\n",
       "      <td>...</td>\n",
       "      <td>...</td>\n",
       "      <td>...</td>\n",
       "      <td>...</td>\n",
       "      <td>...</td>\n",
       "      <td>...</td>\n",
       "      <td>...</td>\n",
       "      <td>...</td>\n",
       "    </tr>\n",
       "    <tr>\n",
       "      <th>7253087</th>\n",
       "      <td>44052</td>\n",
       "      <td>2114-04-03</td>\n",
       "      <td>M</td>\n",
       "      <td>NaN</td>\n",
       "      <td>0</td>\n",
       "      <td>20427859</td>\n",
       "      <td>162646.0</td>\n",
       "      <td>50893</td>\n",
       "      <td>2187-12-18 03:50:00</td>\n",
       "      <td>8.40</td>\n",
       "      <td>...</td>\n",
       "      <td>NOT SPECIFIED</td>\n",
       "      <td>MARRIED</td>\n",
       "      <td>WHITE</td>\n",
       "      <td>NaN</td>\n",
       "      <td>NaN</td>\n",
       "      <td>AORTIC VALVE STENOSIS\\AORTIC VALVE REPLACEMENT...</td>\n",
       "      <td>0</td>\n",
       "      <td>1</td>\n",
       "      <td>4 days 20:35:00</td>\n",
       "      <td>74.0</td>\n",
       "    </tr>\n",
       "    <tr>\n",
       "      <th>7253088</th>\n",
       "      <td>44052</td>\n",
       "      <td>2114-04-03</td>\n",
       "      <td>M</td>\n",
       "      <td>NaN</td>\n",
       "      <td>0</td>\n",
       "      <td>20427873</td>\n",
       "      <td>162646.0</td>\n",
       "      <td>51250</td>\n",
       "      <td>2187-12-18 03:50:00</td>\n",
       "      <td>85.00</td>\n",
       "      <td>...</td>\n",
       "      <td>NOT SPECIFIED</td>\n",
       "      <td>MARRIED</td>\n",
       "      <td>WHITE</td>\n",
       "      <td>NaN</td>\n",
       "      <td>NaN</td>\n",
       "      <td>AORTIC VALVE STENOSIS\\AORTIC VALVE REPLACEMENT...</td>\n",
       "      <td>0</td>\n",
       "      <td>1</td>\n",
       "      <td>4 days 20:35:00</td>\n",
       "      <td>74.0</td>\n",
       "    </tr>\n",
       "    <tr>\n",
       "      <th>7253089</th>\n",
       "      <td>44052</td>\n",
       "      <td>2114-04-03</td>\n",
       "      <td>M</td>\n",
       "      <td>NaN</td>\n",
       "      <td>0</td>\n",
       "      <td>20427877</td>\n",
       "      <td>162646.0</td>\n",
       "      <td>51279</td>\n",
       "      <td>2187-12-18 03:50:00</td>\n",
       "      <td>3.25</td>\n",
       "      <td>...</td>\n",
       "      <td>NOT SPECIFIED</td>\n",
       "      <td>MARRIED</td>\n",
       "      <td>WHITE</td>\n",
       "      <td>NaN</td>\n",
       "      <td>NaN</td>\n",
       "      <td>AORTIC VALVE STENOSIS\\AORTIC VALVE REPLACEMENT...</td>\n",
       "      <td>0</td>\n",
       "      <td>1</td>\n",
       "      <td>4 days 20:35:00</td>\n",
       "      <td>74.0</td>\n",
       "    </tr>\n",
       "    <tr>\n",
       "      <th>7253090</th>\n",
       "      <td>44052</td>\n",
       "      <td>2114-04-03</td>\n",
       "      <td>M</td>\n",
       "      <td>NaN</td>\n",
       "      <td>0</td>\n",
       "      <td>20427867</td>\n",
       "      <td>162646.0</td>\n",
       "      <td>51006</td>\n",
       "      <td>2187-12-18 03:50:00</td>\n",
       "      <td>37.00</td>\n",
       "      <td>...</td>\n",
       "      <td>NOT SPECIFIED</td>\n",
       "      <td>MARRIED</td>\n",
       "      <td>WHITE</td>\n",
       "      <td>NaN</td>\n",
       "      <td>NaN</td>\n",
       "      <td>AORTIC VALVE STENOSIS\\AORTIC VALVE REPLACEMENT...</td>\n",
       "      <td>0</td>\n",
       "      <td>1</td>\n",
       "      <td>4 days 20:35:00</td>\n",
       "      <td>74.0</td>\n",
       "    </tr>\n",
       "    <tr>\n",
       "      <th>7253091</th>\n",
       "      <td>44052</td>\n",
       "      <td>2114-04-03</td>\n",
       "      <td>M</td>\n",
       "      <td>NaN</td>\n",
       "      <td>0</td>\n",
       "      <td>20427872</td>\n",
       "      <td>162646.0</td>\n",
       "      <td>51249</td>\n",
       "      <td>2187-12-18 03:50:00</td>\n",
       "      <td>34.10</td>\n",
       "      <td>...</td>\n",
       "      <td>NOT SPECIFIED</td>\n",
       "      <td>MARRIED</td>\n",
       "      <td>WHITE</td>\n",
       "      <td>NaN</td>\n",
       "      <td>NaN</td>\n",
       "      <td>AORTIC VALVE STENOSIS\\AORTIC VALVE REPLACEMENT...</td>\n",
       "      <td>0</td>\n",
       "      <td>1</td>\n",
       "      <td>4 days 20:35:00</td>\n",
       "      <td>74.0</td>\n",
       "    </tr>\n",
       "  </tbody>\n",
       "</table>\n",
       "<p>552081 rows × 38 columns</p>\n",
       "</div>"
      ],
      "text/plain": [
       "         SUBJECT_ID         DOB GENDER  DOD  EXPIRE_FLAG    ROW_ID   HADM_ID  \\\n",
       "6926             23  2082-07-17      M  NaN            0     10944  124321.0   \n",
       "6927             23  2082-07-17      M  NaN            0     10937  124321.0   \n",
       "6928             23  2082-07-17      M  NaN            0     10928  124321.0   \n",
       "6929             23  2082-07-17      M  NaN            0     10946  124321.0   \n",
       "6930             23  2082-07-17      M  NaN            0     10933  124321.0   \n",
       "...             ...         ...    ...  ...          ...       ...       ...   \n",
       "7253087       44052  2114-04-03      M  NaN            0  20427859  162646.0   \n",
       "7253088       44052  2114-04-03      M  NaN            0  20427873  162646.0   \n",
       "7253089       44052  2114-04-03      M  NaN            0  20427877  162646.0   \n",
       "7253090       44052  2114-04-03      M  NaN            0  20427867  162646.0   \n",
       "7253091       44052  2114-04-03      M  NaN            0  20427872  162646.0   \n",
       "\n",
       "         ITEMID            CHARTTIME   VALUE  ...       RELIGION  \\\n",
       "6926      51277  2157-10-19 03:55:00   14.40  ...       CATHOLIC   \n",
       "6927      51249  2157-10-19 03:55:00   34.60  ...       CATHOLIC   \n",
       "6928      50983  2157-10-19 03:55:00  140.00  ...       CATHOLIC   \n",
       "6929      51301  2157-10-19 03:55:00   10.90  ...       CATHOLIC   \n",
       "6930      51222  2157-10-19 03:55:00   13.40  ...       CATHOLIC   \n",
       "...         ...                  ...     ...  ...            ...   \n",
       "7253087   50893  2187-12-18 03:50:00    8.40  ...  NOT SPECIFIED   \n",
       "7253088   51250  2187-12-18 03:50:00   85.00  ...  NOT SPECIFIED   \n",
       "7253089   51279  2187-12-18 03:50:00    3.25  ...  NOT SPECIFIED   \n",
       "7253090   51006  2187-12-18 03:50:00   37.00  ...  NOT SPECIFIED   \n",
       "7253091   51249  2187-12-18 03:50:00   34.10  ...  NOT SPECIFIED   \n",
       "\n",
       "        MARITAL_STATUS ETHNICITY  EDREGTIME EDOUTTIME  \\\n",
       "6926           MARRIED     WHITE        NaN       NaN   \n",
       "6927           MARRIED     WHITE        NaN       NaN   \n",
       "6928           MARRIED     WHITE        NaN       NaN   \n",
       "6929           MARRIED     WHITE        NaN       NaN   \n",
       "6930           MARRIED     WHITE        NaN       NaN   \n",
       "...                ...       ...        ...       ...   \n",
       "7253087        MARRIED     WHITE        NaN       NaN   \n",
       "7253088        MARRIED     WHITE        NaN       NaN   \n",
       "7253089        MARRIED     WHITE        NaN       NaN   \n",
       "7253090        MARRIED     WHITE        NaN       NaN   \n",
       "7253091        MARRIED     WHITE        NaN       NaN   \n",
       "\n",
       "                                                 DIAGNOSIS  \\\n",
       "6926                                            BRAIN MASS   \n",
       "6927                                            BRAIN MASS   \n",
       "6928                                            BRAIN MASS   \n",
       "6929                                            BRAIN MASS   \n",
       "6930                                            BRAIN MASS   \n",
       "...                                                    ...   \n",
       "7253087  AORTIC VALVE STENOSIS\\AORTIC VALVE REPLACEMENT...   \n",
       "7253088  AORTIC VALVE STENOSIS\\AORTIC VALVE REPLACEMENT...   \n",
       "7253089  AORTIC VALVE STENOSIS\\AORTIC VALVE REPLACEMENT...   \n",
       "7253090  AORTIC VALVE STENOSIS\\AORTIC VALVE REPLACEMENT...   \n",
       "7253091  AORTIC VALVE STENOSIS\\AORTIC VALVE REPLACEMENT...   \n",
       "\n",
       "        HOSPITAL_EXPIRE_FLAG HAS_CHARTEVENTS_DATA  LabTimeFromAdmit   AGE  \n",
       "6926                       0                    1   0 days 08:21:00  75.0  \n",
       "6927                       0                    1   0 days 08:21:00  75.0  \n",
       "6928                       0                    1   0 days 08:21:00  75.0  \n",
       "6929                       0                    1   0 days 08:21:00  75.0  \n",
       "6930                       0                    1   0 days 08:21:00  75.0  \n",
       "...                      ...                  ...               ...   ...  \n",
       "7253087                    0                    1   4 days 20:35:00  74.0  \n",
       "7253088                    0                    1   4 days 20:35:00  74.0  \n",
       "7253089                    0                    1   4 days 20:35:00  74.0  \n",
       "7253090                    0                    1   4 days 20:35:00  74.0  \n",
       "7253091                    0                    1   4 days 20:35:00  74.0  \n",
       "\n",
       "[552081 rows x 38 columns]"
      ]
     },
     "execution_count": 65,
     "metadata": {},
     "output_type": "execute_result"
    }
   ],
   "source": [
    "labs"
   ]
  },
  {
   "cell_type": "code",
   "execution_count": 59,
   "metadata": {},
   "outputs": [
    {
     "data": {
      "text/html": [
       "<div>\n",
       "<style scoped>\n",
       "    .dataframe tbody tr th:only-of-type {\n",
       "        vertical-align: middle;\n",
       "    }\n",
       "\n",
       "    .dataframe tbody tr th {\n",
       "        vertical-align: top;\n",
       "    }\n",
       "\n",
       "    .dataframe thead th {\n",
       "        text-align: right;\n",
       "    }\n",
       "</style>\n",
       "<table border=\"1\" class=\"dataframe\">\n",
       "  <thead>\n",
       "    <tr style=\"text-align: right;\">\n",
       "      <th></th>\n",
       "      <th>MED_NAME</th>\n",
       "      <th>DATA_POINTS</th>\n",
       "    </tr>\n",
       "  </thead>\n",
       "  <tbody>\n",
       "    <tr>\n",
       "      <th>0</th>\n",
       "      <td>NaCl 0.9%</td>\n",
       "      <td>1157</td>\n",
       "    </tr>\n",
       "    <tr>\n",
       "      <th>1</th>\n",
       "      <td>Dextrose 5%</td>\n",
       "      <td>1005</td>\n",
       "    </tr>\n",
       "    <tr>\n",
       "      <th>2</th>\n",
       "      <td>PO Intake</td>\n",
       "      <td>940</td>\n",
       "    </tr>\n",
       "    <tr>\n",
       "      <th>3</th>\n",
       "      <td>Solution</td>\n",
       "      <td>792</td>\n",
       "    </tr>\n",
       "    <tr>\n",
       "      <th>4</th>\n",
       "      <td>Magnesium Sulfate</td>\n",
       "      <td>737</td>\n",
       "    </tr>\n",
       "    <tr>\n",
       "      <th>5</th>\n",
       "      <td>Potassium Chloride</td>\n",
       "      <td>712</td>\n",
       "    </tr>\n",
       "    <tr>\n",
       "      <th>6</th>\n",
       "      <td>Heparin Sodium (Prophylaxis)</td>\n",
       "      <td>648</td>\n",
       "    </tr>\n",
       "    <tr>\n",
       "      <th>7</th>\n",
       "      <td>Magnesium Sulfate (Bolus)</td>\n",
       "      <td>604</td>\n",
       "    </tr>\n",
       "    <tr>\n",
       "      <th>8</th>\n",
       "      <td>Insulin - Regular</td>\n",
       "      <td>601</td>\n",
       "    </tr>\n",
       "    <tr>\n",
       "      <th>9</th>\n",
       "      <td>Furosemide (Lasix)</td>\n",
       "      <td>563</td>\n",
       "    </tr>\n",
       "  </tbody>\n",
       "</table>\n",
       "</div>"
      ],
      "text/plain": [
       "                       MED_NAME  DATA_POINTS\n",
       "0                     NaCl 0.9%         1157\n",
       "1                   Dextrose 5%         1005\n",
       "2                     PO Intake          940\n",
       "3                      Solution          792\n",
       "4             Magnesium Sulfate          737\n",
       "5            Potassium Chloride          712\n",
       "6  Heparin Sodium (Prophylaxis)          648\n",
       "7     Magnesium Sulfate (Bolus)          604\n",
       "8             Insulin - Regular          601\n",
       "9            Furosemide (Lasix)          563"
      ]
     },
     "execution_count": 59,
     "metadata": {},
     "output_type": "execute_result"
    }
   ],
   "source": [
    "pd.DataFrame(med1.groupby([\"LABEL\", \"SUBJECT_ID\"]).nth(0).reset_index()[\"LABEL\"].value_counts()).reset_index().rename(columns={\"index\":\"MED_NAME\", \"LABEL\":\"DATA_POINTS\"}).head(10)"
   ]
  },
  {
   "cell_type": "code",
   "execution_count": 60,
   "metadata": {},
   "outputs": [
    {
     "data": {
      "text/html": [
       "<div>\n",
       "<style scoped>\n",
       "    .dataframe tbody tr th:only-of-type {\n",
       "        vertical-align: middle;\n",
       "    }\n",
       "\n",
       "    .dataframe tbody tr th {\n",
       "        vertical-align: top;\n",
       "    }\n",
       "\n",
       "    .dataframe thead th {\n",
       "        text-align: right;\n",
       "    }\n",
       "</style>\n",
       "<table border=\"1\" class=\"dataframe\">\n",
       "  <thead>\n",
       "    <tr style=\"text-align: right;\">\n",
       "      <th></th>\n",
       "      <th>MED_NAME</th>\n",
       "      <th>DATA_POINTS</th>\n",
       "    </tr>\n",
       "  </thead>\n",
       "  <tbody>\n",
       "    <tr>\n",
       "      <th>0</th>\n",
       "      <td>NaCl 0.9%</td>\n",
       "      <td>1157</td>\n",
       "    </tr>\n",
       "    <tr>\n",
       "      <th>1</th>\n",
       "      <td>Dextrose 5%</td>\n",
       "      <td>1005</td>\n",
       "    </tr>\n",
       "    <tr>\n",
       "      <th>2</th>\n",
       "      <td>PO Intake</td>\n",
       "      <td>940</td>\n",
       "    </tr>\n",
       "    <tr>\n",
       "      <th>3</th>\n",
       "      <td>Solution</td>\n",
       "      <td>792</td>\n",
       "    </tr>\n",
       "    <tr>\n",
       "      <th>4</th>\n",
       "      <td>Magnesium Sulfate</td>\n",
       "      <td>737</td>\n",
       "    </tr>\n",
       "    <tr>\n",
       "      <th>5</th>\n",
       "      <td>Potassium Chloride</td>\n",
       "      <td>712</td>\n",
       "    </tr>\n",
       "    <tr>\n",
       "      <th>6</th>\n",
       "      <td>Heparin Sodium (Prophylaxis)</td>\n",
       "      <td>648</td>\n",
       "    </tr>\n",
       "    <tr>\n",
       "      <th>7</th>\n",
       "      <td>Magnesium Sulfate (Bolus)</td>\n",
       "      <td>604</td>\n",
       "    </tr>\n",
       "    <tr>\n",
       "      <th>8</th>\n",
       "      <td>Insulin - Regular</td>\n",
       "      <td>601</td>\n",
       "    </tr>\n",
       "    <tr>\n",
       "      <th>9</th>\n",
       "      <td>Furosemide (Lasix)</td>\n",
       "      <td>563</td>\n",
       "    </tr>\n",
       "  </tbody>\n",
       "</table>\n",
       "</div>"
      ],
      "text/plain": [
       "                       MED_NAME  DATA_POINTS\n",
       "0                     NaCl 0.9%         1157\n",
       "1                   Dextrose 5%         1005\n",
       "2                     PO Intake          940\n",
       "3                      Solution          792\n",
       "4             Magnesium Sulfate          737\n",
       "5            Potassium Chloride          712\n",
       "6  Heparin Sodium (Prophylaxis)          648\n",
       "7     Magnesium Sulfate (Bolus)          604\n",
       "8             Insulin - Regular          601\n",
       "9            Furosemide (Lasix)          563"
      ]
     },
     "execution_count": 60,
     "metadata": {},
     "output_type": "execute_result"
    }
   ],
   "source": [
    "pd.DataFrame(med1.groupby([\"LABEL\", \"SUBJECT_ID\"]).nth(0).reset_index()[\"LABEL\"].value_counts()).reset_index().rename(columns={\"index\":\"MED_NAME\", \"LABEL\":\"DATA_POINTS\"}).head(10)"
   ]
  },
  {
   "cell_type": "code",
   "execution_count": 32,
   "metadata": {},
   "outputs": [
    {
     "name": "stderr",
     "output_type": "stream",
     "text": [
      "/var/folders/xb/6svjl9sj43z6gfhlcp2nc5540000gr/T/ipykernel_80825/119180187.py:5: SettingWithCopyWarning: \n",
      "A value is trying to be set on a copy of a slice from a DataFrame.\n",
      "Try using .loc[row_indexer,col_indexer] = value instead\n",
      "\n",
      "See the caveats in the documentation: https://pandas.pydata.org/pandas-docs/stable/user_guide/indexing.html#returning-a-view-versus-a-copy\n",
      "  med2[\"STARTTIME\"] = pd.to_datetime(med2[\"STARTTIME\"])\n",
      "/var/folders/xb/6svjl9sj43z6gfhlcp2nc5540000gr/T/ipykernel_80825/119180187.py:6: SettingWithCopyWarning: \n",
      "A value is trying to be set on a copy of a slice from a DataFrame.\n",
      "Try using .loc[row_indexer,col_indexer] = value instead\n",
      "\n",
      "See the caveats in the documentation: https://pandas.pydata.org/pandas-docs/stable/user_guide/indexing.html#returning-a-view-versus-a-copy\n",
      "  med2[\"ENDTIME\"] = pd.to_datetime(med2[\"ENDTIME\"])\n",
      "/var/folders/xb/6svjl9sj43z6gfhlcp2nc5540000gr/T/ipykernel_80825/119180187.py:7: SettingWithCopyWarning: \n",
      "A value is trying to be set on a copy of a slice from a DataFrame.\n",
      "Try using .loc[row_indexer,col_indexer] = value instead\n",
      "\n",
      "See the caveats in the documentation: https://pandas.pydata.org/pandas-docs/stable/user_guide/indexing.html#returning-a-view-versus-a-copy\n",
      "  med2[\"ADMITTIME\"] = pd.to_datetime(med2[\"ADMITTIME\"])\n",
      "/var/folders/xb/6svjl9sj43z6gfhlcp2nc5540000gr/T/ipykernel_80825/119180187.py:8: SettingWithCopyWarning: \n",
      "A value is trying to be set on a copy of a slice from a DataFrame.\n",
      "Try using .loc[row_indexer,col_indexer] = value instead\n",
      "\n",
      "See the caveats in the documentation: https://pandas.pydata.org/pandas-docs/stable/user_guide/indexing.html#returning-a-view-versus-a-copy\n",
      "  med2[\"MedTimeFromAdmit\"] = med2[\"ENDTIME\"]-med2[\"ADMITTIME\"]\n"
     ]
    }
   ],
   "source": [
    "med1[\"STARTTIME\"] = pd.to_datetime(med1[\"STARTTIME\"])\n",
    "med1[\"ENDTIME\"] = pd.to_datetime(med1[\"ENDTIME\"])\n",
    "med1[\"ADMITTIME\"] = pd.to_datetime(med1[\"ADMITTIME\"])\n",
    "med1[\"MedTimeFromAdmit\"] = med1[\"ENDTIME\"]-med1[\"ADMITTIME\"]\n",
    "med2[\"STARTTIME\"] = pd.to_datetime(med2[\"STARTTIME\"])\n",
    "med2[\"ENDTIME\"] = pd.to_datetime(med2[\"ENDTIME\"])\n",
    "med2[\"ADMITTIME\"] = pd.to_datetime(med2[\"ADMITTIME\"])\n",
    "med2[\"MedTimeFromAdmit\"] = med2[\"ENDTIME\"]-med2[\"ADMITTIME\"]\n",
    "labs[\"CHARTTIME\"] = pd.to_datetime(labs[\"CHARTTIME\"])\n",
    "labs[\"ADMITTIME\"] = pd.to_datetime(labs[\"ADMITTIME\"])\n",
    "labs[\"LabTimeFromAdmit\"] = labs[\"CHARTTIME\"]-labs[\"ADMITTIME\"]"
   ]
  },
  {
   "cell_type": "code",
   "execution_count": 33,
   "metadata": {},
   "outputs": [],
   "source": [
    "med1[\"hours_in\"] = med1[\"MedTimeFromAdmit\"].dt.total_seconds()/3600\n",
    "labs[\"hours_in\"] = labs[\"LabTimeFromAdmit\"].dt.total_seconds()/3600"
   ]
  },
  {
   "cell_type": "code",
   "execution_count": 34,
   "metadata": {},
   "outputs": [],
   "source": [
    "labs_with_name = pd.merge(labs, labitems, on=\"ITEMID\", how=\"inner\")"
   ]
  },
  {
   "cell_type": "code",
   "execution_count": 35,
   "metadata": {},
   "outputs": [
    {
     "data": {
      "text/html": [
       "<div>\n",
       "<style scoped>\n",
       "    .dataframe tbody tr th:only-of-type {\n",
       "        vertical-align: middle;\n",
       "    }\n",
       "\n",
       "    .dataframe tbody tr th {\n",
       "        vertical-align: top;\n",
       "    }\n",
       "\n",
       "    .dataframe thead th {\n",
       "        text-align: right;\n",
       "    }\n",
       "</style>\n",
       "<table border=\"1\" class=\"dataframe\">\n",
       "  <thead>\n",
       "    <tr style=\"text-align: right;\">\n",
       "      <th></th>\n",
       "      <th>SUBJECT_ID</th>\n",
       "      <th>DOB</th>\n",
       "      <th>GENDER</th>\n",
       "      <th>DOD</th>\n",
       "      <th>EXPIRE_FLAG</th>\n",
       "      <th>ROW_ID_x</th>\n",
       "      <th>HADM_ID</th>\n",
       "      <th>ITEMID</th>\n",
       "      <th>CHARTTIME</th>\n",
       "      <th>VALUE</th>\n",
       "      <th>...</th>\n",
       "      <th>HOSPITAL_EXPIRE_FLAG</th>\n",
       "      <th>HAS_CHARTEVENTS_DATA</th>\n",
       "      <th>LabTimeFromAdmit</th>\n",
       "      <th>AGE</th>\n",
       "      <th>hours_in</th>\n",
       "      <th>ROW_ID_y</th>\n",
       "      <th>LABEL_y</th>\n",
       "      <th>FLUID_y</th>\n",
       "      <th>CATEGORY_y</th>\n",
       "      <th>LOINC_CODE_y</th>\n",
       "    </tr>\n",
       "  </thead>\n",
       "  <tbody>\n",
       "    <tr>\n",
       "      <th>0</th>\n",
       "      <td>820</td>\n",
       "      <td>2077-04-26</td>\n",
       "      <td>M</td>\n",
       "      <td>2144-03-24 00:00:00</td>\n",
       "      <td>1</td>\n",
       "      <td>545633</td>\n",
       "      <td>193603.0</td>\n",
       "      <td>51250</td>\n",
       "      <td>2144-02-23 06:52:00</td>\n",
       "      <td>89.0</td>\n",
       "      <td>...</td>\n",
       "      <td>0</td>\n",
       "      <td>1</td>\n",
       "      <td>0 days 05:13:00</td>\n",
       "      <td>67.0</td>\n",
       "      <td>5.216667</td>\n",
       "      <td>450</td>\n",
       "      <td>MCV</td>\n",
       "      <td>Blood</td>\n",
       "      <td>Hematology</td>\n",
       "      <td>787-2</td>\n",
       "    </tr>\n",
       "    <tr>\n",
       "      <th>1</th>\n",
       "      <td>820</td>\n",
       "      <td>2077-04-26</td>\n",
       "      <td>M</td>\n",
       "      <td>2144-03-24 00:00:00</td>\n",
       "      <td>1</td>\n",
       "      <td>545661</td>\n",
       "      <td>193603.0</td>\n",
       "      <td>51250</td>\n",
       "      <td>2144-02-23 17:43:00</td>\n",
       "      <td>87.0</td>\n",
       "      <td>...</td>\n",
       "      <td>0</td>\n",
       "      <td>1</td>\n",
       "      <td>0 days 16:04:00</td>\n",
       "      <td>67.0</td>\n",
       "      <td>16.066667</td>\n",
       "      <td>450</td>\n",
       "      <td>MCV</td>\n",
       "      <td>Blood</td>\n",
       "      <td>Hematology</td>\n",
       "      <td>787-2</td>\n",
       "    </tr>\n",
       "    <tr>\n",
       "      <th>2</th>\n",
       "      <td>820</td>\n",
       "      <td>2077-04-26</td>\n",
       "      <td>M</td>\n",
       "      <td>2144-03-24 00:00:00</td>\n",
       "      <td>1</td>\n",
       "      <td>545682</td>\n",
       "      <td>193603.0</td>\n",
       "      <td>51250</td>\n",
       "      <td>2144-02-24 03:26:00</td>\n",
       "      <td>91.0</td>\n",
       "      <td>...</td>\n",
       "      <td>0</td>\n",
       "      <td>1</td>\n",
       "      <td>1 days 01:47:00</td>\n",
       "      <td>67.0</td>\n",
       "      <td>25.783333</td>\n",
       "      <td>450</td>\n",
       "      <td>MCV</td>\n",
       "      <td>Blood</td>\n",
       "      <td>Hematology</td>\n",
       "      <td>787-2</td>\n",
       "    </tr>\n",
       "    <tr>\n",
       "      <th>3</th>\n",
       "      <td>820</td>\n",
       "      <td>2077-04-26</td>\n",
       "      <td>M</td>\n",
       "      <td>2144-03-24 00:00:00</td>\n",
       "      <td>1</td>\n",
       "      <td>545704</td>\n",
       "      <td>193603.0</td>\n",
       "      <td>51250</td>\n",
       "      <td>2144-02-25 06:51:00</td>\n",
       "      <td>90.0</td>\n",
       "      <td>...</td>\n",
       "      <td>0</td>\n",
       "      <td>1</td>\n",
       "      <td>2 days 05:12:00</td>\n",
       "      <td>67.0</td>\n",
       "      <td>53.200000</td>\n",
       "      <td>450</td>\n",
       "      <td>MCV</td>\n",
       "      <td>Blood</td>\n",
       "      <td>Hematology</td>\n",
       "      <td>787-2</td>\n",
       "    </tr>\n",
       "    <tr>\n",
       "      <th>4</th>\n",
       "      <td>820</td>\n",
       "      <td>2077-04-26</td>\n",
       "      <td>M</td>\n",
       "      <td>2144-03-24 00:00:00</td>\n",
       "      <td>1</td>\n",
       "      <td>545735</td>\n",
       "      <td>193603.0</td>\n",
       "      <td>51250</td>\n",
       "      <td>2144-02-26 04:49:00</td>\n",
       "      <td>91.0</td>\n",
       "      <td>...</td>\n",
       "      <td>0</td>\n",
       "      <td>1</td>\n",
       "      <td>3 days 03:10:00</td>\n",
       "      <td>67.0</td>\n",
       "      <td>75.166667</td>\n",
       "      <td>450</td>\n",
       "      <td>MCV</td>\n",
       "      <td>Blood</td>\n",
       "      <td>Hematology</td>\n",
       "      <td>787-2</td>\n",
       "    </tr>\n",
       "    <tr>\n",
       "      <th>...</th>\n",
       "      <td>...</td>\n",
       "      <td>...</td>\n",
       "      <td>...</td>\n",
       "      <td>...</td>\n",
       "      <td>...</td>\n",
       "      <td>...</td>\n",
       "      <td>...</td>\n",
       "      <td>...</td>\n",
       "      <td>...</td>\n",
       "      <td>...</td>\n",
       "      <td>...</td>\n",
       "      <td>...</td>\n",
       "      <td>...</td>\n",
       "      <td>...</td>\n",
       "      <td>...</td>\n",
       "      <td>...</td>\n",
       "      <td>...</td>\n",
       "      <td>...</td>\n",
       "      <td>...</td>\n",
       "      <td>...</td>\n",
       "      <td>...</td>\n",
       "    </tr>\n",
       "    <tr>\n",
       "      <th>744829</th>\n",
       "      <td>66508</td>\n",
       "      <td>2104-03-07</td>\n",
       "      <td>M</td>\n",
       "      <td>2165-07-06 00:00:00</td>\n",
       "      <td>1</td>\n",
       "      <td>23528671</td>\n",
       "      <td>131118.0</td>\n",
       "      <td>51188</td>\n",
       "      <td>2165-04-05 03:47:00</td>\n",
       "      <td>29.0</td>\n",
       "      <td>...</td>\n",
       "      <td>1</td>\n",
       "      <td>1</td>\n",
       "      <td>38 days 16:07:00</td>\n",
       "      <td>61.0</td>\n",
       "      <td>928.116667</td>\n",
       "      <td>388</td>\n",
       "      <td>CD56</td>\n",
       "      <td>Blood</td>\n",
       "      <td>Hematology</td>\n",
       "      <td>8133-1</td>\n",
       "    </tr>\n",
       "    <tr>\n",
       "      <th>744830</th>\n",
       "      <td>66508</td>\n",
       "      <td>2104-03-07</td>\n",
       "      <td>M</td>\n",
       "      <td>2165-07-06 00:00:00</td>\n",
       "      <td>1</td>\n",
       "      <td>23530194</td>\n",
       "      <td>131118.0</td>\n",
       "      <td>51188</td>\n",
       "      <td>2165-05-08 05:59:00</td>\n",
       "      <td>6.0</td>\n",
       "      <td>...</td>\n",
       "      <td>1</td>\n",
       "      <td>1</td>\n",
       "      <td>71 days 18:19:00</td>\n",
       "      <td>61.0</td>\n",
       "      <td>1722.316667</td>\n",
       "      <td>388</td>\n",
       "      <td>CD56</td>\n",
       "      <td>Blood</td>\n",
       "      <td>Hematology</td>\n",
       "      <td>8133-1</td>\n",
       "    </tr>\n",
       "    <tr>\n",
       "      <th>744831</th>\n",
       "      <td>66508</td>\n",
       "      <td>2104-03-07</td>\n",
       "      <td>M</td>\n",
       "      <td>2165-07-06 00:00:00</td>\n",
       "      <td>1</td>\n",
       "      <td>23532081</td>\n",
       "      <td>131118.0</td>\n",
       "      <td>51188</td>\n",
       "      <td>2165-06-18 08:07:00</td>\n",
       "      <td>57.0</td>\n",
       "      <td>...</td>\n",
       "      <td>1</td>\n",
       "      <td>1</td>\n",
       "      <td>112 days 20:27:00</td>\n",
       "      <td>61.0</td>\n",
       "      <td>2708.450000</td>\n",
       "      <td>388</td>\n",
       "      <td>CD56</td>\n",
       "      <td>Blood</td>\n",
       "      <td>Hematology</td>\n",
       "      <td>8133-1</td>\n",
       "    </tr>\n",
       "    <tr>\n",
       "      <th>744832</th>\n",
       "      <td>80805</td>\n",
       "      <td>2121-04-26</td>\n",
       "      <td>M</td>\n",
       "      <td>2189-02-16 00:00:00</td>\n",
       "      <td>1</td>\n",
       "      <td>25409560</td>\n",
       "      <td>185522.0</td>\n",
       "      <td>51241</td>\n",
       "      <td>2189-01-02 06:55:00</td>\n",
       "      <td>256.0</td>\n",
       "      <td>...</td>\n",
       "      <td>0</td>\n",
       "      <td>1</td>\n",
       "      <td>12 days 07:59:00</td>\n",
       "      <td>68.0</td>\n",
       "      <td>295.983333</td>\n",
       "      <td>441</td>\n",
       "      <td>Leukocyte Alkaline Phosphatase</td>\n",
       "      <td>Blood</td>\n",
       "      <td>Hematology</td>\n",
       "      <td>4659-9</td>\n",
       "    </tr>\n",
       "    <tr>\n",
       "      <th>744833</th>\n",
       "      <td>76988</td>\n",
       "      <td>2074-12-26</td>\n",
       "      <td>M</td>\n",
       "      <td>2141-10-26 00:00:00</td>\n",
       "      <td>1</td>\n",
       "      <td>24904461</td>\n",
       "      <td>145946.0</td>\n",
       "      <td>51126</td>\n",
       "      <td>2141-10-02 06:38:00</td>\n",
       "      <td>0.0</td>\n",
       "      <td>...</td>\n",
       "      <td>0</td>\n",
       "      <td>1</td>\n",
       "      <td>12 days 13:16:00</td>\n",
       "      <td>67.0</td>\n",
       "      <td>301.266667</td>\n",
       "      <td>326</td>\n",
       "      <td>Promyelocytes</td>\n",
       "      <td>Ascites</td>\n",
       "      <td>Hematology</td>\n",
       "      <td>NaN</td>\n",
       "    </tr>\n",
       "  </tbody>\n",
       "</table>\n",
       "<p>744834 rows × 44 columns</p>\n",
       "</div>"
      ],
      "text/plain": [
       "        SUBJECT_ID         DOB GENDER                  DOD  EXPIRE_FLAG  \\\n",
       "0              820  2077-04-26      M  2144-03-24 00:00:00            1   \n",
       "1              820  2077-04-26      M  2144-03-24 00:00:00            1   \n",
       "2              820  2077-04-26      M  2144-03-24 00:00:00            1   \n",
       "3              820  2077-04-26      M  2144-03-24 00:00:00            1   \n",
       "4              820  2077-04-26      M  2144-03-24 00:00:00            1   \n",
       "...            ...         ...    ...                  ...          ...   \n",
       "744829       66508  2104-03-07      M  2165-07-06 00:00:00            1   \n",
       "744830       66508  2104-03-07      M  2165-07-06 00:00:00            1   \n",
       "744831       66508  2104-03-07      M  2165-07-06 00:00:00            1   \n",
       "744832       80805  2121-04-26      M  2189-02-16 00:00:00            1   \n",
       "744833       76988  2074-12-26      M  2141-10-26 00:00:00            1   \n",
       "\n",
       "        ROW_ID_x   HADM_ID  ITEMID           CHARTTIME  VALUE  ...  \\\n",
       "0         545633  193603.0   51250 2144-02-23 06:52:00   89.0  ...   \n",
       "1         545661  193603.0   51250 2144-02-23 17:43:00   87.0  ...   \n",
       "2         545682  193603.0   51250 2144-02-24 03:26:00   91.0  ...   \n",
       "3         545704  193603.0   51250 2144-02-25 06:51:00   90.0  ...   \n",
       "4         545735  193603.0   51250 2144-02-26 04:49:00   91.0  ...   \n",
       "...          ...       ...     ...                 ...    ...  ...   \n",
       "744829  23528671  131118.0   51188 2165-04-05 03:47:00   29.0  ...   \n",
       "744830  23530194  131118.0   51188 2165-05-08 05:59:00    6.0  ...   \n",
       "744831  23532081  131118.0   51188 2165-06-18 08:07:00   57.0  ...   \n",
       "744832  25409560  185522.0   51241 2189-01-02 06:55:00  256.0  ...   \n",
       "744833  24904461  145946.0   51126 2141-10-02 06:38:00    0.0  ...   \n",
       "\n",
       "        HOSPITAL_EXPIRE_FLAG HAS_CHARTEVENTS_DATA  LabTimeFromAdmit   AGE  \\\n",
       "0                          0                    1   0 days 05:13:00  67.0   \n",
       "1                          0                    1   0 days 16:04:00  67.0   \n",
       "2                          0                    1   1 days 01:47:00  67.0   \n",
       "3                          0                    1   2 days 05:12:00  67.0   \n",
       "4                          0                    1   3 days 03:10:00  67.0   \n",
       "...                      ...                  ...               ...   ...   \n",
       "744829                     1                    1  38 days 16:07:00  61.0   \n",
       "744830                     1                    1  71 days 18:19:00  61.0   \n",
       "744831                     1                    1 112 days 20:27:00  61.0   \n",
       "744832                     0                    1  12 days 07:59:00  68.0   \n",
       "744833                     0                    1  12 days 13:16:00  67.0   \n",
       "\n",
       "           hours_in ROW_ID_y                         LABEL_y  FLUID_y  \\\n",
       "0          5.216667      450                             MCV    Blood   \n",
       "1         16.066667      450                             MCV    Blood   \n",
       "2         25.783333      450                             MCV    Blood   \n",
       "3         53.200000      450                             MCV    Blood   \n",
       "4         75.166667      450                             MCV    Blood   \n",
       "...             ...      ...                             ...      ...   \n",
       "744829   928.116667      388                            CD56    Blood   \n",
       "744830  1722.316667      388                            CD56    Blood   \n",
       "744831  2708.450000      388                            CD56    Blood   \n",
       "744832   295.983333      441  Leukocyte Alkaline Phosphatase    Blood   \n",
       "744833   301.266667      326                   Promyelocytes  Ascites   \n",
       "\n",
       "        CATEGORY_y  LOINC_CODE_y  \n",
       "0       Hematology         787-2  \n",
       "1       Hematology         787-2  \n",
       "2       Hematology         787-2  \n",
       "3       Hematology         787-2  \n",
       "4       Hematology         787-2  \n",
       "...            ...           ...  \n",
       "744829  Hematology        8133-1  \n",
       "744830  Hematology        8133-1  \n",
       "744831  Hematology        8133-1  \n",
       "744832  Hematology        4659-9  \n",
       "744833  Hematology           NaN  \n",
       "\n",
       "[744834 rows x 44 columns]"
      ]
     },
     "execution_count": 35,
     "metadata": {},
     "output_type": "execute_result"
    }
   ],
   "source": [
    "labs_with_name"
   ]
  },
  {
   "cell_type": "code",
   "execution_count": 36,
   "metadata": {},
   "outputs": [
    {
     "data": {
      "text/plain": [
       "array(['MCV', 'Platelet Count', 'Creatine Kinase (CK)', 'MCH', 'RDW',\n",
       "       'MCHC', 'Hemoglobin', 'Red Blood Cells',\n",
       "       'Asparate Aminotransferase (AST)', 'Urea Nitrogen', 'Hematocrit',\n",
       "       'Alanine Aminotransferase (ALT)', 'Sodium', 'PT', 'Albumin',\n",
       "       'Amylase', 'Lipase', 'White Blood Cells', 'Alkaline Phosphatase',\n",
       "       'Bilirubin, Total', 'PTT', 'INR(PT)', 'Lactate Dehydrogenase (LD)',\n",
       "       'Thyroid Stimulating Hormone', 'Troponin T', 'Anion Gap',\n",
       "       'Bicarbonate', 'Calcium, Total', 'Chloride', 'Creatinine',\n",
       "       'Glucose', 'Magnesium', 'Phosphate', 'Potassium', 'pO2', 'pCO2',\n",
       "       'Lactate', 'Calculated Total CO2', 'Base Excess', 'pH',\n",
       "       'Creatine Kinase, MB Isoenzyme', 'Lymphocytes', 'Monocytes',\n",
       "       'Neutrophils', 'Eosinophils', 'Basophils', 'Atypical Lymphocytes',\n",
       "       'Bands', 'Metamyelocytes', 'Myelocytes', 'Nucleated Red Cells',\n",
       "       'Free Calcium', 'RBC', 'Specific Gravity', 'Epithelial Cells',\n",
       "       'Creatinine, Urine', 'Osmolality, Urine', 'Sodium, Urine',\n",
       "       'Urea Nitrogen, Urine', '% Hemoglobin A1c', 'WBC',\n",
       "       'Chloride, Whole Blood', 'Sodium, Whole Blood',\n",
       "       'Potassium, Whole Blood', 'Hematocrit, Calculated',\n",
       "       'Fibrinogen, Functional', 'Oxygen Saturation', 'Temperature',\n",
       "       'Protein', 'CK-MB Index', 'Oxygen', 'Tidal Volume', 'PEEP',\n",
       "       'Heparin, LMW', 'O2 Flow', 'Vancomycin', 'Hyaline Casts',\n",
       "       'Glucose, Pleural', 'Amylase, Pleural', 'Albumin, Pleural',\n",
       "       'Total Protein, Pleural', 'Lactate Dehydrogenase, Pleural',\n",
       "       'Monos', 'Macrophages', 'Polys', 'WBC, Pleural',\n",
       "       'Creatinine, Pleural', 'Mesothelial Cells', 'Hematocrit, Pleural',\n",
       "       'Triiodothyronine (T3)', 'Thyroxine (T4), Free', 'Urobilinogen',\n",
       "       'Granular Casts', 'Required O2', 'Alveolar-arterial Gradient',\n",
       "       'Osmolality, Measured', 'tacroFK', 'Protein, Total',\n",
       "       'Glucose, Body Fluid', 'Albumin, Body Fluid',\n",
       "       'Total Protein, Body Fluid', 'LD, Body Fluid',\n",
       "       'Amylase, Body Fluid', 'RBC, Other Fluid', 'Macrophage',\n",
       "       'WBC, Other Fluid', 'Theophylline', 'Ferritin', 'Iron',\n",
       "       'Iron Binding Capacity, Total', 'Transferrin',\n",
       "       'C-Reactive Protein', 'Sedimentation Rate', 'Total Protein, Urine',\n",
       "       'Immunoglobulin A', 'Immunoglobulin G', 'Immunoglobulin M',\n",
       "       'Chloride, Urine', 'Potassium, Urine', 'Triglycerides',\n",
       "       'Carboxyhemoglobin', 'Bilirubin, Direct', 'Bilirubin, Indirect',\n",
       "       'Cholesterol, Total', 'Carcinoembyronic Antigen (CEA)',\n",
       "       'Cholesterol, HDL', 'Cholesterol Ratio (Total/HDL)',\n",
       "       'Cholesterol, LDL, Calculated', 'Reticulocyte Count, Automated',\n",
       "       'Protein/Creatinine Ratio', 'Calculated Bicarbonate, Whole Blood',\n",
       "       'Digoxin', 'Haptoglobin', 'Gentamicin', 'Vitamin B12', 'Globulin',\n",
       "       'RBC, Pleural', 'Mesothelial cells', 'Granulocyte Count',\n",
       "       'Methemoglobin', 'Antithrombin', 'Protein S, Functional',\n",
       "       'Thrombin', 'Protein C, Antigen', 'Protein S, Antigen',\n",
       "       'Protein C, Functional', 'Cortisol', 'Reticulocyte Count, Manual',\n",
       "       'Ketone', 'Alpha-Fetoprotein', 'Folate', 'Valproic Acid', 'C4',\n",
       "       'C3', 'Uric Acid', 'Promyelocytes', 'CA-125', 'NTproBNP',\n",
       "       'Cyclosporin', 'Uric Acid, Urine', 'Parathyroid Hormone',\n",
       "       'Lithium', 'Transitional Epithelial Cells', 'Cellular Cast',\n",
       "       'RBC, CSF', 'WBC, CSF', 'Glucose, CSF', 'Lymphs',\n",
       "       'Total Protein, CSF', 'Prostate Specific Antigen', 'Ammonia',\n",
       "       'Thyroxine (T4)', 'Mesothelial Cell', 'RBC, Ascites',\n",
       "       'Total Protein, Ascites', 'WBC, Ascites', 'Broad Casts',\n",
       "       'Other Cells', 'Blasts', 'Hypersegmented Neutrophils', 'D-Dimer',\n",
       "       'Plasma Cells', 'Tobramycin', 'Sodium, Stool', 'Potassium, Stool',\n",
       "       'Osmolality, Stool', 'Chloride, Stool',\n",
       "       'Length of Urine Collection', 'Urine Volume',\n",
       "       'Tissue Transglutaminase Ab, IgA', 'Bicarbonate, Urine',\n",
       "       'Acetaminophen', 'Magnesium, Urine', 'Calcium, Urine', 'Other',\n",
       "       'Gamma Glutamyltransferase', 'Phenytoin', 'Other Cell',\n",
       "       'Rapamycin', 'Ethanol', 'Triglycerides, Pleural',\n",
       "       'Cholesterol, Pleural', 'Triglycerides, Ascites',\n",
       "       'Albumin, Ascites', '24 hr Creatinine', 'Phosphate, Urine',\n",
       "       'Hematocrit, Other Fluid', 'Lactate Dehydrogenase, CSF',\n",
       "       'Methotrexate', 'Anticardiolipin Antibody IgM',\n",
       "       'Anticardiolipin Antibody IgG', 'Homocysteine', 'WBC Count',\n",
       "       'Lymphocytes, Percent', 'CD8 Cells, Percent', 'CD4/CD8 Ratio',\n",
       "       'CD4 Cells, Percent', 'CD3 Cells, Percent',\n",
       "       'Absolute Lymphocyte Count', 'Absolute CD8 Count',\n",
       "       'Absolute CD4 Count', 'Absolute CD3 Count', 'Quantitative G6PD',\n",
       "       'Albumin/Creatinine, Urine', 'Albumin, Urine', 'Testosterone',\n",
       "       'Plasma', 'Rheumatoid Factor', 'Hematocrit, CSF',\n",
       "       'Beta-2 Microglobulin', '25-OH Vitamin D',\n",
       "       'Lactate Dehydrogenase, Ascites', 'Glucose, Ascites',\n",
       "       'Creatinine, Body Fluid', 'Creatinine, Ascites',\n",
       "       'Urine Casts, Other', 'RBC, Joint Fluid', 'WBC, Joint Fluid',\n",
       "       'Amylase, Ascites', 'Bilirubin, Total, Ascites', '24 hr Protein',\n",
       "       'Hematocrit, Joint Fluid', 'Phenobarbital',\n",
       "       'Phenytoin, Percent Free', 'Phenytoin, Free', 'CD3 Absolute Count',\n",
       "       'CD3 %', 'CD16/56 Absolute Count', 'CD16/56%', 'Bacteria',\n",
       "       'Nucleated RBC', 'Cholesterol, LDL, Measured', 'NRBC',\n",
       "       'Anti-DGP (IgA/IgG)', 'Hematocrit, Ascites',\n",
       "       'Total Collection Time', 'Urine Creatinine', 'Creatinine, Serum',\n",
       "       'Creatinine Clearance', 'Urine Volume, Total',\n",
       "       'Bilirubin, Total, Body Fluid', 'Amikacin',\n",
       "       'Bilirubin, Total, Pleural', 'Factor IX', 'Prolactin',\n",
       "       'Carbamazepine', 'Renal Epithelial Cells', 'Uptake Ratio',\n",
       "       'Calculated TBG', 'Calculated Thyroxine (T4) Index',\n",
       "       'Serum Viscosity', 'Eosinophil Count', 'Urea Nitrogen, Body Fluid',\n",
       "       'Von Willebrand Factor Antigen', 'Factor VIII',\n",
       "       'Von Willebrand Factor Activity', 'Factor XI', 'Factor VII',\n",
       "       'Bilirubin, Total, CSF', 'Anti-Thyroglobulin Antibodies',\n",
       "       'N-Acetylprocainamide (NAPA)', 'Procainamide', 'Triglycer',\n",
       "       'Thyroglobulin', 'Factor X', 'Potassium, Ascites',\n",
       "       'Bicarbonate, Ascites', 'Sodium, Ascites', 'Chloride, Ascites',\n",
       "       'Luteinizing Hormone', 'Young Cells', 'Factor V',\n",
       "       'Thyroid Peroxidase Antibodies', 'Calcium, Body Fluid', 'CD3',\n",
       "       'CD34', 'CD19', 'Potassium, Body Fluid',\n",
       "       'Bicarbonate, Other Fluid', 'Chloride, Body Fluid',\n",
       "       'Sodium, Body Fluid', 'Heparin', 'WBC Casts',\n",
       "       'CD20 Absolute Count', 'CD20 %', 'CD19 Absolute Count', 'CD19 %',\n",
       "       'Factor II', 'Waxy Casts', 'Osmolality, Body Fluid', 'Factor XII',\n",
       "       'Follicle Stimulating Hormone', 'Urine Color',\n",
       "       'Cholesterol, Ascites', 'CD56', 'Leukocyte Alkaline Phosphatase'],\n",
       "      dtype=object)"
      ]
     },
     "execution_count": 36,
     "metadata": {},
     "output_type": "execute_result"
    }
   ],
   "source": [
    "lab_unique_names = labs_with_name[labs_with_name.HADM_ID.isin(med1.HADM_ID.unique())][\"LABEL_y\"].unique()\n",
    "lab_unique_names"
   ]
  },
  {
   "cell_type": "code",
   "execution_count": 84,
   "metadata": {},
   "outputs": [
    {
     "data": {
      "text/plain": [
       "True"
      ]
     },
     "execution_count": 84,
     "metadata": {},
     "output_type": "execute_result"
    }
   ],
   "source": [
    "l_lab_names = [l.lower() for l in list(lab_unique_names)]\n",
    "\"magnesium\" in l_lab_names"
   ]
  },
  {
   "cell_type": "code",
   "execution_count": 85,
   "metadata": {},
   "outputs": [
    {
     "data": {
      "text/plain": [
       "['% Hemoglobin A1c',\n",
       " '24 hr Creatinine',\n",
       " '24 hr Protein',\n",
       " '25-OH Vitamin D',\n",
       " 'Absolute CD3 Count',\n",
       " 'Absolute CD4 Count',\n",
       " 'Absolute CD8 Count',\n",
       " 'Absolute Lymphocyte Count',\n",
       " 'Acetaminophen',\n",
       " 'Alanine Aminotransferase (ALT)',\n",
       " 'Albumin',\n",
       " 'Albumin, Ascites',\n",
       " 'Albumin, Body Fluid',\n",
       " 'Albumin, Pleural',\n",
       " 'Albumin, Urine',\n",
       " 'Albumin/Creatinine, Urine',\n",
       " 'Alkaline Phosphatase',\n",
       " 'Alpha-Fetoprotein',\n",
       " 'Alveolar-arterial Gradient',\n",
       " 'Ammonia',\n",
       " 'Amylase',\n",
       " 'Amylase, Ascites',\n",
       " 'Amylase, Body Fluid',\n",
       " 'Amylase, Pleural',\n",
       " 'Anion Gap',\n",
       " 'Anticardiolipin Antibody IgG',\n",
       " 'Anticardiolipin Antibody IgM',\n",
       " 'Antithrombin',\n",
       " 'Asparate Aminotransferase (AST)',\n",
       " 'Atypical Lymphocytes',\n",
       " 'Bacteria',\n",
       " 'Bands',\n",
       " 'Base Excess',\n",
       " 'Basophils',\n",
       " 'Beta-2 Microglobulin',\n",
       " 'Bicarbonate',\n",
       " 'Bicarbonate, Urine',\n",
       " 'Bilirubin, Direct',\n",
       " 'Bilirubin, Indirect',\n",
       " 'Bilirubin, Total',\n",
       " 'Bilirubin, Total, Ascites',\n",
       " 'Bilirubin, Total, Body Fluid',\n",
       " 'Bilirubin, Total, Pleural',\n",
       " 'Blasts',\n",
       " 'Bleeding Time',\n",
       " 'Broad Casts',\n",
       " 'C-Reactive Protein',\n",
       " 'C3',\n",
       " 'C4',\n",
       " 'CD3 Cells, Percent',\n",
       " 'CD4 Cells, Percent',\n",
       " 'CD4/CD8 Ratio',\n",
       " 'CD8 Cells, Percent',\n",
       " 'CK-MB Index',\n",
       " 'Calcium, Total',\n",
       " 'Calcium, Urine',\n",
       " 'Calculated Bicarbonate, Whole Blood',\n",
       " 'Calculated TBG',\n",
       " 'Calculated Thyroxine (T4) Index',\n",
       " 'Calculated Total CO2',\n",
       " 'Carboxyhemoglobin',\n",
       " 'Carcinoembyronic Antigen (CEA)',\n",
       " 'Cellular Cast',\n",
       " 'Chloride',\n",
       " 'Chloride, Urine',\n",
       " 'Chloride, Whole Blood',\n",
       " 'Cholesterol Ratio (Total/HDL)',\n",
       " 'Cholesterol, HDL',\n",
       " 'Cholesterol, LDL, Calculated',\n",
       " 'Cholesterol, LDL, Measured',\n",
       " 'Cholesterol, Pleural',\n",
       " 'Cholesterol, Total',\n",
       " 'Cortisol',\n",
       " 'Creatine Kinase (CK)',\n",
       " 'Creatine Kinase, MB Isoenzyme',\n",
       " 'Creatinine',\n",
       " 'Creatinine Clearance',\n",
       " 'Creatinine, Ascites',\n",
       " 'Creatinine, Pleural',\n",
       " 'Creatinine, Serum',\n",
       " 'Creatinine, Urine',\n",
       " 'Cyclosporin',\n",
       " 'D-Dimer',\n",
       " 'Digoxin',\n",
       " 'Eosinophil Count',\n",
       " 'Eosinophils',\n",
       " 'Epithelial Cells',\n",
       " 'Factor II',\n",
       " 'Factor V',\n",
       " 'Factor VII',\n",
       " 'Factor VIII',\n",
       " 'Factor X',\n",
       " 'Ferritin',\n",
       " 'Fibrinogen, Functional',\n",
       " 'Folate',\n",
       " 'Free Calcium',\n",
       " 'Gamma Glutamyltransferase',\n",
       " 'Gentamicin',\n",
       " 'Globulin',\n",
       " 'Glucose',\n",
       " 'Glucose, Ascites',\n",
       " 'Glucose, Body Fluid',\n",
       " 'Glucose, CSF',\n",
       " 'Glucose, Pleural',\n",
       " 'Granular Casts',\n",
       " 'Granulocyte Count',\n",
       " 'Haptoglobin',\n",
       " 'Hematocrit',\n",
       " 'Hematocrit, Ascites',\n",
       " 'Hematocrit, CSF',\n",
       " 'Hematocrit, Calculated',\n",
       " 'Hematocrit, Joint Fluid',\n",
       " 'Hematocrit, Other Fluid',\n",
       " 'Hematocrit, Pleural',\n",
       " 'Hemoglobin',\n",
       " 'Hemoglobin A2',\n",
       " 'Hemoglobin C',\n",
       " 'Hemoglobin F',\n",
       " 'Hemogloblin A',\n",
       " 'Hemogloblin S',\n",
       " 'Heparin',\n",
       " 'Heparin, LMW',\n",
       " 'Homocysteine',\n",
       " 'Hyaline Casts',\n",
       " 'Hypersegmented Neutrophils',\n",
       " 'INR(PT)',\n",
       " 'Immunoglobulin A',\n",
       " 'Immunoglobulin G',\n",
       " 'Immunoglobulin M',\n",
       " 'Iron',\n",
       " 'Iron Binding Capacity, Total',\n",
       " 'Ketone',\n",
       " 'LD, Body Fluid',\n",
       " 'Lactate',\n",
       " 'Lactate Dehydrogenase (LD)',\n",
       " 'Lactate Dehydrogenase, Ascites',\n",
       " 'Lactate Dehydrogenase, CSF',\n",
       " 'Lactate Dehydrogenase, Pleural',\n",
       " 'Length of Urine Collection',\n",
       " 'Lipase',\n",
       " 'Lipase, Ascites',\n",
       " 'Lithium',\n",
       " 'Lymphocytes',\n",
       " 'Lymphocytes, Percent',\n",
       " 'Lymphs',\n",
       " 'MCH',\n",
       " 'MCHC',\n",
       " 'MCV',\n",
       " 'Macrophage',\n",
       " 'Macrophages',\n",
       " 'Magnesium',\n",
       " 'Magnesium, Urine',\n",
       " 'Mesothelial Cell',\n",
       " 'Mesothelial Cells',\n",
       " 'Mesothelial cells',\n",
       " 'Metamyelocytes',\n",
       " 'Methemoglobin',\n",
       " 'Monocytes',\n",
       " 'Monos',\n",
       " 'Myelocytes',\n",
       " 'NRBC',\n",
       " 'NTproBNP',\n",
       " 'Neutrophils',\n",
       " 'NonSquamous Epithelial Cell',\n",
       " 'Nucleated Red Cells',\n",
       " 'O2 Flow',\n",
       " 'Osmolality, Measured',\n",
       " 'Osmolality, Stool',\n",
       " 'Osmolality, Urine',\n",
       " 'Other',\n",
       " 'Other Cell',\n",
       " 'Other Cells',\n",
       " 'Oxygen',\n",
       " 'Oxygen Saturation',\n",
       " 'PEEP',\n",
       " 'PT',\n",
       " 'PTT',\n",
       " 'Parathyroid Hormone',\n",
       " 'Phenobarbital',\n",
       " 'Phenytoin',\n",
       " 'Phenytoin, Free',\n",
       " 'Phenytoin, Percent Free',\n",
       " 'Phosphate',\n",
       " 'Phosphate, Urine',\n",
       " 'Plasma',\n",
       " 'Plasma Cells',\n",
       " 'Platelet Count',\n",
       " 'Polys',\n",
       " 'Potassium',\n",
       " 'Potassium, Body Fluid',\n",
       " 'Potassium, Urine',\n",
       " 'Potassium, Whole Blood',\n",
       " 'Prolactin',\n",
       " 'Promyelocytes',\n",
       " 'Prostate Specific Antigen',\n",
       " 'Protein',\n",
       " 'Protein, Total',\n",
       " 'Protein/Creatinine Ratio',\n",
       " 'RBC',\n",
       " 'RBC, Ascites',\n",
       " 'RBC, CSF',\n",
       " 'RBC, Joint Fluid',\n",
       " 'RBC, Other Fluid',\n",
       " 'RBC, Pleural',\n",
       " 'RDW',\n",
       " 'Rapamycin',\n",
       " 'Red Blood Cells',\n",
       " 'Renal Epithelial Cells',\n",
       " 'Required O2',\n",
       " 'Reticulocyte Count, Automated',\n",
       " 'Reticulocyte Count, Manual',\n",
       " 'Rheumatoid Factor',\n",
       " 'Sedimentation Rate',\n",
       " 'Sodium',\n",
       " 'Sodium, Body Fluid',\n",
       " 'Sodium, Urine',\n",
       " 'Sodium, Whole Blood',\n",
       " 'Specific Gravity',\n",
       " 'Temperature',\n",
       " 'Thrombin',\n",
       " 'Thyroid Peroxidase Antibodies',\n",
       " 'Thyroid Stimulating Hormone',\n",
       " 'Thyroxine (T4)',\n",
       " 'Thyroxine (T4), Free',\n",
       " 'Tidal Volume',\n",
       " 'Tissue Transglutaminase Ab, IgA',\n",
       " 'Tobramycin',\n",
       " 'Total Collection Time',\n",
       " 'Total Protein, Ascites',\n",
       " 'Total Protein, Body Fluid',\n",
       " 'Total Protein, CSF',\n",
       " 'Total Protein, Pleural',\n",
       " 'Total Protein, Urine',\n",
       " 'Transferrin',\n",
       " 'Transitional Epithelial Cells',\n",
       " 'Triglycerides',\n",
       " 'Triglycerides, Ascites',\n",
       " 'Triglycerides, Pleural',\n",
       " 'Triiodothyronine (T3)',\n",
       " 'Troponin T',\n",
       " 'Uptake Ratio',\n",
       " 'Urea Nitrogen',\n",
       " 'Urea Nitrogen, Urine',\n",
       " 'Uric Acid',\n",
       " 'Uric Acid, Urine',\n",
       " 'Urine Casts, Other',\n",
       " 'Urine Creatinine',\n",
       " 'Urine Volume',\n",
       " 'Urine Volume, Total',\n",
       " 'Urobilinogen',\n",
       " 'Valproic Acid',\n",
       " 'Vancomycin',\n",
       " 'Vitamin B12',\n",
       " 'Von Willebrand Factor Activity',\n",
       " 'WBC',\n",
       " 'WBC Casts',\n",
       " 'WBC Count',\n",
       " 'WBC, Ascites',\n",
       " 'WBC, CSF',\n",
       " 'WBC, Joint Fluid',\n",
       " 'WBC, Other Fluid',\n",
       " 'WBC, Pleural',\n",
       " 'White Blood Cells',\n",
       " 'pCO2',\n",
       " 'pH',\n",
       " 'pO2',\n",
       " 'tacroFK']"
      ]
     },
     "execution_count": 85,
     "metadata": {},
     "output_type": "execute_result"
    }
   ],
   "source": [
    "sorted(lab_unique_names)"
   ]
  },
  {
   "cell_type": "code",
   "execution_count": 37,
   "metadata": {},
   "outputs": [
    {
     "data": {
      "text/html": [
       "<div>\n",
       "<style scoped>\n",
       "    .dataframe tbody tr th:only-of-type {\n",
       "        vertical-align: middle;\n",
       "    }\n",
       "\n",
       "    .dataframe tbody tr th {\n",
       "        vertical-align: top;\n",
       "    }\n",
       "\n",
       "    .dataframe thead th {\n",
       "        text-align: right;\n",
       "    }\n",
       "</style>\n",
       "<table border=\"1\" class=\"dataframe\">\n",
       "  <thead>\n",
       "    <tr style=\"text-align: right;\">\n",
       "      <th></th>\n",
       "      <th></th>\n",
       "      <th>HADM_ID</th>\n",
       "    </tr>\n",
       "    <tr>\n",
       "      <th>ITEMID</th>\n",
       "      <th>LABEL</th>\n",
       "      <th></th>\n",
       "    </tr>\n",
       "  </thead>\n",
       "  <tbody>\n",
       "    <tr>\n",
       "      <th>221794</th>\n",
       "      <th>Furosemide (Lasix)</th>\n",
       "      <td>726</td>\n",
       "    </tr>\n",
       "    <tr>\n",
       "      <th>225855</th>\n",
       "      <th>Ceftriaxone</th>\n",
       "      <td>155</td>\n",
       "    </tr>\n",
       "    <tr>\n",
       "      <th>221824</th>\n",
       "      <th>Haloperidol (Haldol)</th>\n",
       "      <td>116</td>\n",
       "    </tr>\n",
       "    <tr>\n",
       "      <th>227694</th>\n",
       "      <th>Omeprazole (Prilosec)</th>\n",
       "      <td>67</td>\n",
       "    </tr>\n",
       "    <tr>\n",
       "      <th>225913</th>\n",
       "      <th>Coumadin (Warfarin)</th>\n",
       "      <td>59</td>\n",
       "    </tr>\n",
       "    <tr>\n",
       "      <th>228340</th>\n",
       "      <th>Furosemide (Lasix) 500/100</th>\n",
       "      <td>22</td>\n",
       "    </tr>\n",
       "    <tr>\n",
       "      <th>222151</th>\n",
       "      <th>Procainamide</th>\n",
       "      <td>2</td>\n",
       "    </tr>\n",
       "  </tbody>\n",
       "</table>\n",
       "</div>"
      ],
      "text/plain": [
       "                                   HADM_ID\n",
       "ITEMID LABEL                              \n",
       "221794 Furosemide (Lasix)              726\n",
       "225855 Ceftriaxone                     155\n",
       "221824 Haloperidol (Haldol)            116\n",
       "227694 Omeprazole (Prilosec)            67\n",
       "225913 Coumadin (Warfarin)              59\n",
       "228340 Furosemide (Lasix) 500/100       22\n",
       "222151 Procainamide                      2"
      ]
     },
     "execution_count": 37,
     "metadata": {},
     "output_type": "execute_result"
    }
   ],
   "source": [
    "counts"
   ]
  },
  {
   "cell_type": "code",
   "execution_count": null,
   "metadata": {},
   "outputs": [],
   "source": [
    "'Magnesium','Magnesium, Urine', \n",
    "\n",
    "'Bilirubin, Direct',\n",
    " 'Bilirubin, Indirect',\n",
    " 'Bilirubin, Total',\n",
    " 'Bilirubin, Total, Ascites',\n",
    " 'Bilirubin, Total, Body Fluid',\n",
    " 'Bilirubin, Total, Pleural',\n",
    " \n",
    "'Prolactin'\n",
    "\n",
    "\n",
    "\n",
    "INR, magnesium, ANA"
   ]
  },
  {
   "cell_type": "code",
   "execution_count": 68,
   "metadata": {},
   "outputs": [],
   "source": [
    "# final_significant_med_lab_pairs = pd.read_csv(os.path.join(res, \"significant_intersection_trends_and_med_effect_lab_med_all_new.csv\"))"
   ]
  },
  {
   "cell_type": "code",
   "execution_count": 69,
   "metadata": {},
   "outputs": [],
   "source": [
    "# d = final_significant_med_lab_pairs.sort_values(by=['FDR Benjamini Corrected_y', 'FDR Benjamini Corrected_x']).head(20)[[\"MED_NAME\", \"LAB_NAME\"]].to_dict()"
   ]
  },
  {
   "cell_type": "code",
   "execution_count": 70,
   "metadata": {},
   "outputs": [],
   "source": [
    "# d = {k : list(d[k].values()) for k in d}"
   ]
  },
  {
   "cell_type": "code",
   "execution_count": 38,
   "metadata": {},
   "outputs": [],
   "source": [
    "meds = []\n",
    "labtests = []\n",
    "\n",
    "meds.append(\"Furosemide (Lasix)\")\n",
    "labtests.append(\"Magnesium\")\n",
    "\n",
    "meds.append(\"Furosemide (Lasix)\")\n",
    "labtests.append(\"Magnesium, Urine\")\n",
    "\n",
    "meds.append(\"Furosemide (Lasix) 500/100\")\n",
    "labtests.append(\"Magnesium\")\n",
    "\n",
    "meds.append(\"Furosemide (Lasix) 500/100\")\n",
    "labtests.append(\"Magnesium, Urine\")\n",
    "\n",
    "meds.append(\"Ceftriaxone\")\n",
    "labtests.append(\"Bilirubin, Direct\")\n",
    "meds.append(\"Ceftriaxone\")\n",
    "labtests.append('Bilirubin, Indirect')\n",
    "meds.append(\"Ceftriaxone\")\n",
    "labtests.append('Bilirubin, Total')\n",
    "meds.append(\"Ceftriaxone\")\n",
    "labtests.append('Bilirubin, Total, Ascites')\n",
    "meds.append(\"Ceftriaxone\")\n",
    "labtests.append('Bilirubin, Total, Body Fluid')\n",
    "meds.append(\"Ceftriaxone\")\n",
    "labtests.append('Bilirubin, Total, Pleural')\n",
    "\n",
    "meds.append(\"Haloperidol (Haldol)\")\n",
    "labtests.append('Prolactin')\n",
    "\n",
    "meds.append('Omeprazole (Prilosec)')\n",
    "labtests.append('Vitamin B12')\n",
    "\n",
    "meds.append(\"Coumadin (Warfarin)\")\n",
    "labtests.append('INR(PT)')\n",
    "\n",
    "meds.append(\"Procainamide\")\n",
    "labtests.append('Alanine Aminotransferase (ALT)')\n",
    "\n",
    "# meds.append(\"Procainamide\")\n",
    "# labtests.append('Anticardiolipin Antibody IgM')\n",
    "\n",
    "med_vals = list(meds)\n",
    "labtest_vals = list(labtests)\n",
    "\n"
   ]
  },
  {
   "cell_type": "code",
   "execution_count": 39,
   "metadata": {},
   "outputs": [
    {
     "data": {
      "text/plain": [
       "[('Furosemide (Lasix)', 'Magnesium'),\n",
       " ('Furosemide (Lasix)', 'Magnesium, Urine'),\n",
       " ('Furosemide (Lasix) 500/100', 'Magnesium'),\n",
       " ('Furosemide (Lasix) 500/100', 'Magnesium, Urine'),\n",
       " ('Ceftriaxone', 'Bilirubin, Direct'),\n",
       " ('Ceftriaxone', 'Bilirubin, Indirect'),\n",
       " ('Ceftriaxone', 'Bilirubin, Total'),\n",
       " ('Ceftriaxone', 'Bilirubin, Total, Ascites'),\n",
       " ('Ceftriaxone', 'Bilirubin, Total, Body Fluid'),\n",
       " ('Ceftriaxone', 'Bilirubin, Total, Pleural'),\n",
       " ('Haloperidol (Haldol)', 'Prolactin'),\n",
       " ('Omeprazole (Prilosec)', 'Vitamin B12'),\n",
       " ('Coumadin (Warfarin)', 'INR(PT)'),\n",
       " ('Procainamide', 'Alanine Aminotransferase (ALT)')]"
      ]
     },
     "execution_count": 39,
     "metadata": {},
     "output_type": "execute_result"
    }
   ],
   "source": [
    "[i for i in zip(med_vals, labtest_vals)]"
   ]
  },
  {
   "cell_type": "code",
   "execution_count": 40,
   "metadata": {},
   "outputs": [],
   "source": [
    "t_med1 = med1[med1[\"LABEL\"].isin(med_vals)]\n",
    "t_med2 = med2[med2[\"LABEL\"].isin(med_vals)]"
   ]
  },
  {
   "cell_type": "code",
   "execution_count": 41,
   "metadata": {},
   "outputs": [],
   "source": [
    "t_labs = labs[labs[\"LABEL\"].isin(labtest_vals)]"
   ]
  },
  {
   "cell_type": "code",
   "execution_count": 42,
   "metadata": {},
   "outputs": [
    {
     "data": {
      "text/plain": [
       "((1147, 64), (813, 63), (51016, 39))"
      ]
     },
     "execution_count": 42,
     "metadata": {},
     "output_type": "execute_result"
    }
   ],
   "source": [
    "t_med1.shape, t_med2.shape, t_labs.shape"
   ]
  },
  {
   "cell_type": "markdown",
   "metadata": {},
   "source": [
    "## Before After Trend Calculation"
   ]
  },
  {
   "cell_type": "code",
   "execution_count": 43,
   "metadata": {},
   "outputs": [],
   "source": [
    "from scipy.stats import pearsonr, spearmanr\n",
    "import numpy as np\n",
    "def check_med2(row):\n",
    "    if row[\"HADM_ID\"] in t_med2[\"HADM_ID\"].to_list():\n",
    "        if row[\"ITEMID\"] in t_med2[t_med2[\"HADM_ID\"]==row[\"HADM_ID\"]][\"ITEMID\"].to_list():\n",
    "            return True\n",
    "    return False\n",
    "\n",
    "def get_med2(row):\n",
    "    temp = t_med2[t_med2[\"HADM_ID\"]==row[\"HADM_ID\"]] \n",
    "    return temp[temp[\"ITEMID\"]==row[\"ITEMID\"]].iloc[0]"
   ]
  },
  {
   "cell_type": "code",
   "execution_count": 44,
   "metadata": {},
   "outputs": [],
   "source": [
    "from sklearn import datasets, linear_model, metrics\n",
    "\n",
    "def get_normalized_trend(data):\n",
    "    selected = data[['VALUENUM', 'hours_in']]\n",
    "    if selected.shape[0]<2:\n",
    "        return float(\"NaN\")\n",
    "    reg = linear_model.LinearRegression()\n",
    "    reg.fit(np.array(data['hours_in']).reshape(-1,1), np.array(data['VALUENUM']).reshape(-1,1))\n",
    "    return reg.coef_[0][0]"
   ]
  },
  {
   "cell_type": "code",
   "execution_count": 45,
   "metadata": {},
   "outputs": [],
   "source": [
    "def get_normalized_trend_np(data):\n",
    "    selected = data[['VALUENUM', 'hours_in']]\n",
    "    print(selected)\n",
    "    if selected.shape[0]<2:\n",
    "        return float(\"NaN\")\n",
    "    print(np.array(data['hours_in']), np.array(data['VALUENUM']))\n",
    "    t = np.polyfit(np.array(data['hours_in']), np.array(data['VALUENUM']), 1,full=True)\n",
    "    coefficients, residuals, _, _, _ = t\n",
    "    print(t)\n",
    "    mse = residuals[0]/(len(selected.index))\n",
    "    nrmse = np.sqrt(mse)/(selected.max() - selected.min())\n",
    "    return 1"
   ]
  },
  {
   "cell_type": "code",
   "execution_count": 46,
   "metadata": {},
   "outputs": [],
   "source": [
    "window = (1,25,4)"
   ]
  },
  {
   "cell_type": "code",
   "execution_count": 47,
   "metadata": {},
   "outputs": [],
   "source": [
    "def get_vals(r):\n",
    "\n",
    "    row = r.copy()\n",
    "    for i in range(window[0], window[1], window[2]):\n",
    "\n",
    "        if i==1:\n",
    "            lab_vals = t_labs[t_labs[\"HADM_ID\"]==row[\"HADM_ID\"]]\n",
    "            lab_vals = lab_vals[lab_vals[\"LabTimeFromAdmit\"].dt.total_seconds()<row[\"MedTimeFromAdmit\"].total_seconds()]\n",
    "\n",
    "            b_window_start = row[\"MedTimeFromAdmit\"].total_seconds()\n",
    "            b_window_end = row[\"MedTimeFromAdmit\"].total_seconds() - 1*3600\n",
    "            lab_vals = lab_vals[lab_vals[\"LabTimeFromAdmit\"].dt.total_seconds()<b_window_start]\n",
    "            lab_vals = lab_vals[lab_vals[\"LabTimeFromAdmit\"].dt.total_seconds()>b_window_end]\n",
    "            lab_vals[\"hours_from_med\"] = (row[\"STARTTIME\"]-lab_vals[\"CHARTTIME\"]).dt.total_seconds()/3600\n",
    "            lab_vals = lab_vals.sort_values([\"ITEMID\", \"hours_from_med\"])\n",
    "\n",
    "            t = lab_vals.groupby([\"ITEMID\"]).count()[[\"SUBJECT_ID\"]]\n",
    "            val_counts_m = t[t[\"SUBJECT_ID\"]>=1]\n",
    "            if val_counts_m.shape[0]==0:\n",
    "                row[f\"before_abs_0_0\"] = {}\n",
    "                row[f\"before_time_0_0\"] = {}\n",
    "            else:\n",
    "                l_m = lab_vals[lab_vals.ITEMID.isin(val_counts_m.index)]\n",
    "                row[f\"before_abs_0_0\"] = l_m.groupby([\"ITEMID\"])[[\"VALUENUM\", \"hours_from_med\"]].first()[\"VALUENUM\"].dropna().to_dict()\n",
    "                row[f\"before_time_0_0\"] = l_m.groupby([\"ITEMID\"])[[\"VALUENUM\", \"hours_from_med\"]].first()[\"hours_from_med\"].dropna().to_dict()\n",
    "\n",
    "            lab_vals = labs[labs[\"HADM_ID\"]==row[\"HADM_ID\"]]\n",
    "            med2_bool = check_med2(row)\n",
    "            lab_vals = lab_vals[lab_vals[\"LabTimeFromAdmit\"].dt.total_seconds()>row[\"MedTimeFromAdmit\"].total_seconds()]\n",
    "            a_window_start = row[\"MedTimeFromAdmit\"].total_seconds()\n",
    "            a_window_end = row[\"MedTimeFromAdmit\"].total_seconds() + 3600\n",
    "            lab_vals = lab_vals[lab_vals[\"LabTimeFromAdmit\"].dt.total_seconds()>a_window_start]\n",
    "            lab_vals = lab_vals[lab_vals[\"LabTimeFromAdmit\"].dt.total_seconds()<a_window_end]\n",
    "            lab_vals[\"hours_from_med\"] = (lab_vals[\"CHARTTIME\"]-row[\"ENDTIME\"]).dt.total_seconds()/3600\n",
    "            lab_vals = lab_vals.sort_values([\"ITEMID\", \"hours_from_med\"])\n",
    "\n",
    "            if med2_bool:\n",
    "                med2_val = get_med2(row)\n",
    "                lab_vals = lab_vals[lab_vals[\"LabTimeFromAdmit\"].dt.total_seconds()<med2_val[\"MedTimeFromAdmit\"].total_seconds()]\n",
    "            \n",
    "            t = lab_vals.groupby([\"ITEMID\"]).count()[[\"SUBJECT_ID\"]]\n",
    "            \n",
    "            val_counts_m = t[t[\"SUBJECT_ID\"]>=1]\n",
    "            if val_counts_m.shape[0]==0:\n",
    "                row[f\"after_abs_0_0\"] = {}\n",
    "                row[f\"after_time_0_0\"] = {}\n",
    "            else:\n",
    "                l_m = lab_vals[lab_vals.ITEMID.isin(val_counts_m.index)]\n",
    "                row[f\"after_abs_0_0\"] = lab_vals.groupby([\"ITEMID\"])[[\"VALUENUM\", \"hours_from_med\"]].first()[\"VALUENUM\"].dropna().to_dict()\n",
    "                row[f\"after_time_0_0\"] = lab_vals.groupby([\"ITEMID\"])[[\"VALUENUM\", \"hours_from_med\"]].first()[\"hours_from_med\"].dropna().to_dict()\n",
    "    \n",
    "        lab_vals = t_labs[t_labs[\"HADM_ID\"]==row[\"HADM_ID\"]]\n",
    "        lab_vals = lab_vals[lab_vals[\"LabTimeFromAdmit\"].dt.total_seconds()<row[\"MedTimeFromAdmit\"].total_seconds()]\n",
    "\n",
    "        b_window_start = row[\"MedTimeFromAdmit\"].total_seconds() - (i*3600)\n",
    "        b_window_end = row[\"MedTimeFromAdmit\"].total_seconds() - (i+window[2])*3600\n",
    "        lab_vals = lab_vals[lab_vals[\"LabTimeFromAdmit\"].dt.total_seconds()<b_window_start]\n",
    "        lab_vals = lab_vals[lab_vals[\"LabTimeFromAdmit\"].dt.total_seconds()>b_window_end]\n",
    "        lab_vals[\"hours_from_med\"] = (row[\"STARTTIME\"]-lab_vals[\"CHARTTIME\"]).dt.total_seconds()/3600\n",
    "        lab_vals = lab_vals.sort_values([\"ITEMID\", \"hours_from_med\"])\n",
    "\n",
    "        t = lab_vals.groupby([\"ITEMID\"]).count()[[\"SUBJECT_ID\"]]\n",
    "        val_counts_m = t[t[\"SUBJECT_ID\"]>=1]\n",
    "        if val_counts_m.shape[0]==0:\n",
    "            row[f\"before_abs_{i}_{window[2]}\"] = {}\n",
    "            row[f\"before_time_{i}_{window[2]}\"] = {}\n",
    "        else:\n",
    "            l_m = lab_vals[lab_vals.ITEMID.isin(val_counts_m.index)]\n",
    "            row[f\"before_abs_{i}_{window[2]}\"] = l_m.groupby([\"ITEMID\"])[[\"VALUENUM\", \"hours_from_med\"]].first()[\"VALUENUM\"].dropna().to_dict()\n",
    "            row[f\"before_time_{i}_{window[2]}\"] = l_m.groupby([\"ITEMID\"])[[\"VALUENUM\", \"hours_from_med\"]].first()[\"hours_from_med\"].dropna().to_dict()\n",
    "\n",
    "        lab_vals = labs[labs[\"HADM_ID\"]==row[\"HADM_ID\"]]\n",
    "        med2_bool = check_med2(row)\n",
    "        lab_vals = lab_vals[lab_vals[\"LabTimeFromAdmit\"].dt.total_seconds()>row[\"MedTimeFromAdmit\"].total_seconds()]\n",
    "        a_window_start = row[\"MedTimeFromAdmit\"].total_seconds() + (i*3600)\n",
    "        a_window_end = row[\"MedTimeFromAdmit\"].total_seconds() + (i+window[2])*3600\n",
    "        lab_vals = lab_vals[lab_vals[\"LabTimeFromAdmit\"].dt.total_seconds()>a_window_start]\n",
    "        lab_vals = lab_vals[lab_vals[\"LabTimeFromAdmit\"].dt.total_seconds()<a_window_end]\n",
    "        lab_vals[\"hours_from_med\"] = (lab_vals[\"CHARTTIME\"]-row[\"ENDTIME\"]).dt.total_seconds()/3600\n",
    "        lab_vals = lab_vals.sort_values([\"ITEMID\", \"hours_from_med\"])\n",
    "\n",
    "        if med2_bool:\n",
    "            med2_val = get_med2(row)\n",
    "            lab_vals = lab_vals[lab_vals[\"LabTimeFromAdmit\"].dt.total_seconds()<med2_val[\"MedTimeFromAdmit\"].total_seconds()]\n",
    "        \n",
    "        t = lab_vals.groupby([\"ITEMID\"]).count()[[\"SUBJECT_ID\"]]\n",
    "        \n",
    "        val_counts_m = t[t[\"SUBJECT_ID\"]>=1]\n",
    "        if val_counts_m.shape[0]==0:\n",
    "            row[f\"after_abs_{i}_{window[2]}\"] = {}\n",
    "            row[f\"after_time_{i}_{window[2]}\"] = {}\n",
    "        else:\n",
    "            l_m = lab_vals[lab_vals.ITEMID.isin(val_counts_m.index)]\n",
    "            row[f\"after_abs_{i}_{window[2]}\"] = lab_vals.groupby([\"ITEMID\"])[[\"VALUENUM\", \"hours_from_med\"]].first()[\"VALUENUM\"].dropna().to_dict()\n",
    "            row[f\"after_time_{i}_{window[2]}\"] = lab_vals.groupby([\"ITEMID\"])[[\"VALUENUM\", \"hours_from_med\"]].first()[\"hours_from_med\"].dropna().to_dict()\n",
    "        \n",
    "    return row"
   ]
  },
  {
   "cell_type": "code",
   "execution_count": 48,
   "metadata": {},
   "outputs": [],
   "source": [
    "# type = \"abs\"\n",
    "all_types = set([\"abs\", \"time\"])\n",
    "# other_cols = [f\"before_{t}_{i}_{window[2]}\" for i in range(window[0], window[1], window[2]) for t in all_types.difference([type])]\n",
    "# other_cols.extend([f\"after_{t}_{i}_{window[2]}\" for i in range(window[0], window[1], window[2]) for t in all_types.difference([type])])\n",
    "cols_b = [f\"before_{t}_{i}_{window[2]}\" for i in range(window[0], window[1], window[2]) for t in all_types]\n",
    "cols_a = [f\"after_{t}_{i}_{window[2]}\" for i in range(window[0], window[1], window[2]) for t in all_types]\n",
    "cols_b.extend([f\"before_{t}_0_0\" for t in all_types])\n",
    "cols_a.extend([f\"after_{t}_0_0\" for t in all_types])\n",
    "cols = cols_b.copy()\n",
    "cols.extend(cols_a)"
   ]
  },
  {
   "cell_type": "code",
   "execution_count": 49,
   "metadata": {},
   "outputs": [],
   "source": [
    "temp = t_med1.copy()\n",
    "temp = temp.apply(lambda r : get_vals(r), axis=1)"
   ]
  },
  {
   "cell_type": "code",
   "execution_count": 50,
   "metadata": {},
   "outputs": [
    {
     "data": {
      "text/html": [
       "<div>\n",
       "<style scoped>\n",
       "    .dataframe tbody tr th:only-of-type {\n",
       "        vertical-align: middle;\n",
       "    }\n",
       "\n",
       "    .dataframe tbody tr th {\n",
       "        vertical-align: top;\n",
       "    }\n",
       "\n",
       "    .dataframe thead th {\n",
       "        text-align: right;\n",
       "    }\n",
       "</style>\n",
       "<table border=\"1\" class=\"dataframe\">\n",
       "  <thead>\n",
       "    <tr style=\"text-align: right;\">\n",
       "      <th></th>\n",
       "      <th>SUBJECT_ID</th>\n",
       "      <th>DOB</th>\n",
       "      <th>GENDER</th>\n",
       "      <th>DOD</th>\n",
       "      <th>EXPIRE_FLAG</th>\n",
       "      <th>ITEMID</th>\n",
       "      <th>HADM_ID</th>\n",
       "      <th>ICUSTAY_ID</th>\n",
       "      <th>STARTTIME</th>\n",
       "      <th>ENDTIME</th>\n",
       "      <th>...</th>\n",
       "      <th>after_abs_13_4</th>\n",
       "      <th>after_time_13_4</th>\n",
       "      <th>before_abs_17_4</th>\n",
       "      <th>before_time_17_4</th>\n",
       "      <th>after_abs_17_4</th>\n",
       "      <th>after_time_17_4</th>\n",
       "      <th>before_abs_21_4</th>\n",
       "      <th>before_time_21_4</th>\n",
       "      <th>after_abs_21_4</th>\n",
       "      <th>after_time_21_4</th>\n",
       "    </tr>\n",
       "  </thead>\n",
       "  <tbody>\n",
       "    <tr>\n",
       "      <th>586</th>\n",
       "      <td>357</td>\n",
       "      <td>2135-03-22</td>\n",
       "      <td>M</td>\n",
       "      <td>2201-08-02 00:00:00</td>\n",
       "      <td>1</td>\n",
       "      <td>225855</td>\n",
       "      <td>101651</td>\n",
       "      <td>259107.0</td>\n",
       "      <td>2199-10-20 13:00:00</td>\n",
       "      <td>2199-10-20 13:01:00</td>\n",
       "      <td>...</td>\n",
       "      <td>{50868: 6.0, 50882: 34.0, 50893: 8.6, 50902: 1...</td>\n",
       "      <td>{50868: 16.016666666666666, 50882: 16.01666666...</td>\n",
       "      <td>{}</td>\n",
       "      <td>{}</td>\n",
       "      <td>{}</td>\n",
       "      <td>{}</td>\n",
       "      <td>{}</td>\n",
       "      <td>{}</td>\n",
       "      <td>{}</td>\n",
       "      <td>{}</td>\n",
       "    </tr>\n",
       "    <tr>\n",
       "      <th>782</th>\n",
       "      <td>533</td>\n",
       "      <td>2101-07-30</td>\n",
       "      <td>M</td>\n",
       "      <td>NaN</td>\n",
       "      <td>0</td>\n",
       "      <td>221794</td>\n",
       "      <td>100009</td>\n",
       "      <td>253656.0</td>\n",
       "      <td>2162-05-18 08:18:00</td>\n",
       "      <td>2162-05-18 08:19:00</td>\n",
       "      <td>...</td>\n",
       "      <td>{}</td>\n",
       "      <td>{}</td>\n",
       "      <td>{}</td>\n",
       "      <td>{}</td>\n",
       "      <td>{}</td>\n",
       "      <td>{}</td>\n",
       "      <td>{}</td>\n",
       "      <td>{}</td>\n",
       "      <td>{}</td>\n",
       "      <td>{}</td>\n",
       "    </tr>\n",
       "    <tr>\n",
       "      <th>973</th>\n",
       "      <td>975</td>\n",
       "      <td>2074-05-16</td>\n",
       "      <td>M</td>\n",
       "      <td>2142-06-21 00:00:00</td>\n",
       "      <td>1</td>\n",
       "      <td>221794</td>\n",
       "      <td>175734</td>\n",
       "      <td>286445.0</td>\n",
       "      <td>2142-05-16 16:00:00</td>\n",
       "      <td>2142-05-16 16:01:00</td>\n",
       "      <td>...</td>\n",
       "      <td>{}</td>\n",
       "      <td>{}</td>\n",
       "      <td>{51237: 1.9}</td>\n",
       "      <td>{51237: 19.166666666666668}</td>\n",
       "      <td>{}</td>\n",
       "      <td>{}</td>\n",
       "      <td>{50960: 1.9, 51237: 2.4}</td>\n",
       "      <td>{50960: 23.1, 51237: 23.1}</td>\n",
       "      <td>{}</td>\n",
       "      <td>{}</td>\n",
       "    </tr>\n",
       "    <tr>\n",
       "      <th>1016</th>\n",
       "      <td>975</td>\n",
       "      <td>2074-05-16</td>\n",
       "      <td>M</td>\n",
       "      <td>2142-06-21 00:00:00</td>\n",
       "      <td>1</td>\n",
       "      <td>225855</td>\n",
       "      <td>175734</td>\n",
       "      <td>243103.0</td>\n",
       "      <td>2142-06-20 21:49:00</td>\n",
       "      <td>2142-06-20 21:50:00</td>\n",
       "      <td>...</td>\n",
       "      <td>{}</td>\n",
       "      <td>{}</td>\n",
       "      <td>{50960: 2.1, 51237: 1.2}</td>\n",
       "      <td>{50960: 18.150000000000002, 51237: 18.15000000...</td>\n",
       "      <td>{}</td>\n",
       "      <td>{}</td>\n",
       "      <td>{50861: 34.0, 50885: 0.4, 50960: 2.3, 51237: 1.3}</td>\n",
       "      <td>{50861: 21.766666666666666, 50885: 21.76666666...</td>\n",
       "      <td>{}</td>\n",
       "      <td>{}</td>\n",
       "    </tr>\n",
       "    <tr>\n",
       "      <th>1155</th>\n",
       "      <td>2208</td>\n",
       "      <td>2120-10-04</td>\n",
       "      <td>M</td>\n",
       "      <td>2191-10-17 00:00:00</td>\n",
       "      <td>1</td>\n",
       "      <td>225855</td>\n",
       "      <td>162248</td>\n",
       "      <td>259196.0</td>\n",
       "      <td>2190-08-20 13:41:00</td>\n",
       "      <td>2190-08-20 13:42:00</td>\n",
       "      <td>...</td>\n",
       "      <td>{}</td>\n",
       "      <td>{}</td>\n",
       "      <td>{}</td>\n",
       "      <td>{}</td>\n",
       "      <td>{}</td>\n",
       "      <td>{}</td>\n",
       "      <td>{}</td>\n",
       "      <td>{}</td>\n",
       "      <td>{}</td>\n",
       "      <td>{}</td>\n",
       "    </tr>\n",
       "    <tr>\n",
       "      <th>...</th>\n",
       "      <td>...</td>\n",
       "      <td>...</td>\n",
       "      <td>...</td>\n",
       "      <td>...</td>\n",
       "      <td>...</td>\n",
       "      <td>...</td>\n",
       "      <td>...</td>\n",
       "      <td>...</td>\n",
       "      <td>...</td>\n",
       "      <td>...</td>\n",
       "      <td>...</td>\n",
       "      <td>...</td>\n",
       "      <td>...</td>\n",
       "      <td>...</td>\n",
       "      <td>...</td>\n",
       "      <td>...</td>\n",
       "      <td>...</td>\n",
       "      <td>...</td>\n",
       "      <td>...</td>\n",
       "      <td>...</td>\n",
       "      <td>...</td>\n",
       "    </tr>\n",
       "    <tr>\n",
       "      <th>320870</th>\n",
       "      <td>77690</td>\n",
       "      <td>2042-04-05</td>\n",
       "      <td>M</td>\n",
       "      <td>NaN</td>\n",
       "      <td>0</td>\n",
       "      <td>227694</td>\n",
       "      <td>121387</td>\n",
       "      <td>247506.0</td>\n",
       "      <td>2110-11-23 07:56:00</td>\n",
       "      <td>2110-11-23 07:57:00</td>\n",
       "      <td>...</td>\n",
       "      <td>{}</td>\n",
       "      <td>{}</td>\n",
       "      <td>{}</td>\n",
       "      <td>{}</td>\n",
       "      <td>{50868: 12.0, 50882: 20.0, 50893: 8.0, 50902: ...</td>\n",
       "      <td>{50868: 20.5, 50882: 20.5, 50893: 20.5, 50902:...</td>\n",
       "      <td>{}</td>\n",
       "      <td>{}</td>\n",
       "      <td>{50802: -2.0, 50804: 19.0, 50816: 92.0, 50818:...</td>\n",
       "      <td>{50802: 23.35, 50804: 23.35, 50816: 23.35, 508...</td>\n",
       "    </tr>\n",
       "    <tr>\n",
       "      <th>320874</th>\n",
       "      <td>77690</td>\n",
       "      <td>2042-04-05</td>\n",
       "      <td>M</td>\n",
       "      <td>NaN</td>\n",
       "      <td>0</td>\n",
       "      <td>225913</td>\n",
       "      <td>121387</td>\n",
       "      <td>247506.0</td>\n",
       "      <td>2110-11-24 16:00:00</td>\n",
       "      <td>2110-11-24 16:01:00</td>\n",
       "      <td>...</td>\n",
       "      <td>{}</td>\n",
       "      <td>{}</td>\n",
       "      <td>{}</td>\n",
       "      <td>{}</td>\n",
       "      <td>{}</td>\n",
       "      <td>{}</td>\n",
       "      <td>{}</td>\n",
       "      <td>{}</td>\n",
       "      <td>{}</td>\n",
       "      <td>{}</td>\n",
       "    </tr>\n",
       "    <tr>\n",
       "      <th>321377</th>\n",
       "      <td>43742</td>\n",
       "      <td>2113-08-29</td>\n",
       "      <td>M</td>\n",
       "      <td>2175-12-09 00:00:00</td>\n",
       "      <td>1</td>\n",
       "      <td>221794</td>\n",
       "      <td>191527</td>\n",
       "      <td>216409.0</td>\n",
       "      <td>2175-12-01 22:44:00</td>\n",
       "      <td>2175-12-01 22:45:00</td>\n",
       "      <td>...</td>\n",
       "      <td>{51237: 1.0, 51274: 11.9, 51275: 29.8}</td>\n",
       "      <td>{51237: 16.583333333333336, 51274: 16.58333333...</td>\n",
       "      <td>{50960: 2.4, 51237: 1.0}</td>\n",
       "      <td>{50960: 17.733333333333334, 51237: 17.73333333...</td>\n",
       "      <td>{51275: 38.8}</td>\n",
       "      <td>{51275: 20.333333333333332}</td>\n",
       "      <td>{}</td>\n",
       "      <td>{}</td>\n",
       "      <td>{50868: 15.0, 50882: 23.0, 50893: 9.3, 50902: ...</td>\n",
       "      <td>{50868: 22.716666666666665, 50882: 22.71666666...</td>\n",
       "    </tr>\n",
       "    <tr>\n",
       "      <th>321549</th>\n",
       "      <td>43786</td>\n",
       "      <td>2078-03-24</td>\n",
       "      <td>M</td>\n",
       "      <td>NaN</td>\n",
       "      <td>0</td>\n",
       "      <td>221794</td>\n",
       "      <td>151092</td>\n",
       "      <td>230331.0</td>\n",
       "      <td>2138-07-16 10:40:00</td>\n",
       "      <td>2138-07-16 10:41:00</td>\n",
       "      <td>...</td>\n",
       "      <td>{}</td>\n",
       "      <td>{}</td>\n",
       "      <td>{}</td>\n",
       "      <td>{}</td>\n",
       "      <td>{50868: 7.0, 50882: 31.0, 50902: 102.0, 50912:...</td>\n",
       "      <td>{50868: 17.683333333333337, 50882: 17.68333333...</td>\n",
       "      <td>{51237: 1.1}</td>\n",
       "      <td>{51237: 22.633333333333333}</td>\n",
       "      <td>{}</td>\n",
       "      <td>{}</td>\n",
       "    </tr>\n",
       "    <tr>\n",
       "      <th>321611</th>\n",
       "      <td>43798</td>\n",
       "      <td>2136-07-29</td>\n",
       "      <td>M</td>\n",
       "      <td>2200-12-31 00:00:00</td>\n",
       "      <td>1</td>\n",
       "      <td>221794</td>\n",
       "      <td>130870</td>\n",
       "      <td>243229.0</td>\n",
       "      <td>2198-06-30 22:01:00</td>\n",
       "      <td>2198-06-30 22:02:00</td>\n",
       "      <td>...</td>\n",
       "      <td>{}</td>\n",
       "      <td>{}</td>\n",
       "      <td>{50960: 1.9}</td>\n",
       "      <td>{50960: 20.866666666666667}</td>\n",
       "      <td>{}</td>\n",
       "      <td>{}</td>\n",
       "      <td>{}</td>\n",
       "      <td>{}</td>\n",
       "      <td>{}</td>\n",
       "      <td>{}</td>\n",
       "    </tr>\n",
       "  </tbody>\n",
       "</table>\n",
       "<p>1147 rows × 92 columns</p>\n",
       "</div>"
      ],
      "text/plain": [
       "        SUBJECT_ID         DOB GENDER                  DOD  EXPIRE_FLAG  \\\n",
       "586            357  2135-03-22      M  2201-08-02 00:00:00            1   \n",
       "782            533  2101-07-30      M                  NaN            0   \n",
       "973            975  2074-05-16      M  2142-06-21 00:00:00            1   \n",
       "1016           975  2074-05-16      M  2142-06-21 00:00:00            1   \n",
       "1155          2208  2120-10-04      M  2191-10-17 00:00:00            1   \n",
       "...            ...         ...    ...                  ...          ...   \n",
       "320870       77690  2042-04-05      M                  NaN            0   \n",
       "320874       77690  2042-04-05      M                  NaN            0   \n",
       "321377       43742  2113-08-29      M  2175-12-09 00:00:00            1   \n",
       "321549       43786  2078-03-24      M                  NaN            0   \n",
       "321611       43798  2136-07-29      M  2200-12-31 00:00:00            1   \n",
       "\n",
       "        ITEMID  HADM_ID  ICUSTAY_ID           STARTTIME             ENDTIME  \\\n",
       "586     225855   101651    259107.0 2199-10-20 13:00:00 2199-10-20 13:01:00   \n",
       "782     221794   100009    253656.0 2162-05-18 08:18:00 2162-05-18 08:19:00   \n",
       "973     221794   175734    286445.0 2142-05-16 16:00:00 2142-05-16 16:01:00   \n",
       "1016    225855   175734    243103.0 2142-06-20 21:49:00 2142-06-20 21:50:00   \n",
       "1155    225855   162248    259196.0 2190-08-20 13:41:00 2190-08-20 13:42:00   \n",
       "...        ...      ...         ...                 ...                 ...   \n",
       "320870  227694   121387    247506.0 2110-11-23 07:56:00 2110-11-23 07:57:00   \n",
       "320874  225913   121387    247506.0 2110-11-24 16:00:00 2110-11-24 16:01:00   \n",
       "321377  221794   191527    216409.0 2175-12-01 22:44:00 2175-12-01 22:45:00   \n",
       "321549  221794   151092    230331.0 2138-07-16 10:40:00 2138-07-16 10:41:00   \n",
       "321611  221794   130870    243229.0 2198-06-30 22:01:00 2198-06-30 22:02:00   \n",
       "\n",
       "        ...                                     after_abs_13_4  \\\n",
       "586     ...  {50868: 6.0, 50882: 34.0, 50893: 8.6, 50902: 1...   \n",
       "782     ...                                                 {}   \n",
       "973     ...                                                 {}   \n",
       "1016    ...                                                 {}   \n",
       "1155    ...                                                 {}   \n",
       "...     ...                                                ...   \n",
       "320870  ...                                                 {}   \n",
       "320874  ...                                                 {}   \n",
       "321377  ...             {51237: 1.0, 51274: 11.9, 51275: 29.8}   \n",
       "321549  ...                                                 {}   \n",
       "321611  ...                                                 {}   \n",
       "\n",
       "                                          after_time_13_4  \\\n",
       "586     {50868: 16.016666666666666, 50882: 16.01666666...   \n",
       "782                                                    {}   \n",
       "973                                                    {}   \n",
       "1016                                                   {}   \n",
       "1155                                                   {}   \n",
       "...                                                   ...   \n",
       "320870                                                 {}   \n",
       "320874                                                 {}   \n",
       "321377  {51237: 16.583333333333336, 51274: 16.58333333...   \n",
       "321549                                                 {}   \n",
       "321611                                                 {}   \n",
       "\n",
       "                 before_abs_17_4  \\\n",
       "586                           {}   \n",
       "782                           {}   \n",
       "973                 {51237: 1.9}   \n",
       "1016    {50960: 2.1, 51237: 1.2}   \n",
       "1155                          {}   \n",
       "...                          ...   \n",
       "320870                        {}   \n",
       "320874                        {}   \n",
       "321377  {50960: 2.4, 51237: 1.0}   \n",
       "321549                        {}   \n",
       "321611              {50960: 1.9}   \n",
       "\n",
       "                                         before_time_17_4  \\\n",
       "586                                                    {}   \n",
       "782                                                    {}   \n",
       "973                           {51237: 19.166666666666668}   \n",
       "1016    {50960: 18.150000000000002, 51237: 18.15000000...   \n",
       "1155                                                   {}   \n",
       "...                                                   ...   \n",
       "320870                                                 {}   \n",
       "320874                                                 {}   \n",
       "321377  {50960: 17.733333333333334, 51237: 17.73333333...   \n",
       "321549                                                 {}   \n",
       "321611                        {50960: 20.866666666666667}   \n",
       "\n",
       "                                           after_abs_17_4  \\\n",
       "586                                                    {}   \n",
       "782                                                    {}   \n",
       "973                                                    {}   \n",
       "1016                                                   {}   \n",
       "1155                                                   {}   \n",
       "...                                                   ...   \n",
       "320870  {50868: 12.0, 50882: 20.0, 50893: 8.0, 50902: ...   \n",
       "320874                                                 {}   \n",
       "321377                                      {51275: 38.8}   \n",
       "321549  {50868: 7.0, 50882: 31.0, 50902: 102.0, 50912:...   \n",
       "321611                                                 {}   \n",
       "\n",
       "                                          after_time_17_4  \\\n",
       "586                                                    {}   \n",
       "782                                                    {}   \n",
       "973                                                    {}   \n",
       "1016                                                   {}   \n",
       "1155                                                   {}   \n",
       "...                                                   ...   \n",
       "320870  {50868: 20.5, 50882: 20.5, 50893: 20.5, 50902:...   \n",
       "320874                                                 {}   \n",
       "321377                        {51275: 20.333333333333332}   \n",
       "321549  {50868: 17.683333333333337, 50882: 17.68333333...   \n",
       "321611                                                 {}   \n",
       "\n",
       "                                          before_abs_21_4  \\\n",
       "586                                                    {}   \n",
       "782                                                    {}   \n",
       "973                              {50960: 1.9, 51237: 2.4}   \n",
       "1016    {50861: 34.0, 50885: 0.4, 50960: 2.3, 51237: 1.3}   \n",
       "1155                                                   {}   \n",
       "...                                                   ...   \n",
       "320870                                                 {}   \n",
       "320874                                                 {}   \n",
       "321377                                                 {}   \n",
       "321549                                       {51237: 1.1}   \n",
       "321611                                                 {}   \n",
       "\n",
       "                                         before_time_21_4  \\\n",
       "586                                                    {}   \n",
       "782                                                    {}   \n",
       "973                            {50960: 23.1, 51237: 23.1}   \n",
       "1016    {50861: 21.766666666666666, 50885: 21.76666666...   \n",
       "1155                                                   {}   \n",
       "...                                                   ...   \n",
       "320870                                                 {}   \n",
       "320874                                                 {}   \n",
       "321377                                                 {}   \n",
       "321549                        {51237: 22.633333333333333}   \n",
       "321611                                                 {}   \n",
       "\n",
       "                                           after_abs_21_4  \\\n",
       "586                                                    {}   \n",
       "782                                                    {}   \n",
       "973                                                    {}   \n",
       "1016                                                   {}   \n",
       "1155                                                   {}   \n",
       "...                                                   ...   \n",
       "320870  {50802: -2.0, 50804: 19.0, 50816: 92.0, 50818:...   \n",
       "320874                                                 {}   \n",
       "321377  {50868: 15.0, 50882: 23.0, 50893: 9.3, 50902: ...   \n",
       "321549                                                 {}   \n",
       "321611                                                 {}   \n",
       "\n",
       "                                          after_time_21_4  \n",
       "586                                                    {}  \n",
       "782                                                    {}  \n",
       "973                                                    {}  \n",
       "1016                                                   {}  \n",
       "1155                                                   {}  \n",
       "...                                                   ...  \n",
       "320870  {50802: 23.35, 50804: 23.35, 50816: 23.35, 508...  \n",
       "320874                                                 {}  \n",
       "321377  {50868: 22.716666666666665, 50882: 22.71666666...  \n",
       "321549                                                 {}  \n",
       "321611                                                 {}  \n",
       "\n",
       "[1147 rows x 92 columns]"
      ]
     },
     "execution_count": 50,
     "metadata": {},
     "output_type": "execute_result"
    }
   ],
   "source": [
    "temp"
   ]
  },
  {
   "cell_type": "code",
   "execution_count": 51,
   "metadata": {},
   "outputs": [],
   "source": [
    "temp.to_csv(os.path.join(data, \"mimiciii/1.4/preprocessed\", f\"before_after_windows_main_med_lab_first_val_{stratify_prefix}_doc_eval.csv\"))"
   ]
  },
  {
   "cell_type": "code",
   "execution_count": 80,
   "metadata": {},
   "outputs": [],
   "source": [
    "# import ast\n",
    "# for c in cols:\n",
    "#     temp[c] = temp[c].apply(lambda x : ast.literal_eval(x))\n"
   ]
  },
  {
   "cell_type": "code",
   "execution_count": 81,
   "metadata": {},
   "outputs": [],
   "source": [
    "# [c for c in cols for i in temp[c].to_list() if len(i)>0]"
   ]
  },
  {
   "cell_type": "code",
   "execution_count": 52,
   "metadata": {},
   "outputs": [],
   "source": [
    "col_vals = []\n",
    "for col in cols:\n",
    "    col_vals.append(\n",
    "        temp.assign(dict=temp[col].map(lambda d: d.items())).explode(\"dict\", ignore_index=True).assign(\n",
    "            LAB_ITEMID=lambda df: df.dict.str.get(0),\n",
    "            temp=lambda df: df.dict.str.get(1)\n",
    "        ).drop(columns=[\"dict\"]+cols).astype({'temp':'float64', 'LAB_ITEMID':'float64'}).rename(columns={\"temp\":f\"{col}_sp\"}).dropna(subset=[\"LAB_ITEMID\"])\n",
    "    )"
   ]
  },
  {
   "cell_type": "code",
   "execution_count": 53,
   "metadata": {},
   "outputs": [],
   "source": [
    "for i in range(1, len(col_vals)):\n",
    "    col_vals[i] = pd.merge(col_vals[i-1], col_vals[i], how=\"outer\", on=list(t_med1.columns)+[\"LAB_ITEMID\"])"
   ]
  },
  {
   "cell_type": "code",
   "execution_count": 54,
   "metadata": {},
   "outputs": [],
   "source": [
    "final = col_vals[-1][list(t_med1.columns)+[\"LAB_ITEMID\"]+[f\"{col}_sp\" for col in cols]]"
   ]
  },
  {
   "cell_type": "code",
   "execution_count": 55,
   "metadata": {},
   "outputs": [],
   "source": [
    "t_final = pd.merge(final.rename(columns={\"LABEL\":\"MED_NAME\"}), labitems.rename(columns={\"ITEMID\":\"LAB_ITEMID\"}), on=\"LAB_ITEMID\", how=\"inner\").rename(columns={\"LABEL\":\"LAB_NAME\"})\n",
    "final = t_final"
   ]
  },
  {
   "cell_type": "code",
   "execution_count": 56,
   "metadata": {},
   "outputs": [],
   "source": [
    "final.to_csv(os.path.join(data, \"mimiciii/1.4/preprocessed\", f\"before_after_windows_main_med_lab_trends_first_val_{stratify_prefix}_doc_eval.csv\"))"
   ]
  },
  {
   "cell_type": "code",
   "execution_count": 57,
   "metadata": {},
   "outputs": [
    {
     "name": "stderr",
     "output_type": "stream",
     "text": [
      "/var/folders/xb/6svjl9sj43z6gfhlcp2nc5540000gr/T/ipykernel_80825/3901652037.py:1: DtypeWarning: Columns (30) have mixed types. Specify dtype option on import or set low_memory=False.\n",
      "  final = pd.read_csv(os.path.join(data, \"mimiciii/1.4/preprocessed\", f\"before_after_windows_main_med_lab_trends_first_val_{stratify_prefix}_doc_eval.csv\"))\n"
     ]
    }
   ],
   "source": [
    "final = pd.read_csv(os.path.join(data, \"mimiciii/1.4/preprocessed\", f\"before_after_windows_main_med_lab_trends_first_val_{stratify_prefix}_doc_eval.csv\"))"
   ]
  },
  {
   "cell_type": "code",
   "execution_count": 58,
   "metadata": {},
   "outputs": [],
   "source": [
    "t_final = final.copy()\n",
    "plot_data = {}\n",
    "for b in [f\"{c}_sp\" for c in cols_b]:\n",
    "    if b in t_final.columns:\n",
    "        plot_data[b] = []\n",
    "        for a in [f\"{c}_sp\" for c in cols_a]:\n",
    "            if a in t_final.columns:\n",
    "                plot_data[b].append(t_final.dropna(subset=[a,b]))\n",
    "        # a_cols = list(set([f\"{c}_sp\" for c in cols_a]).intersection(list(t_final.columns)))\n",
    "        # plot_data[b] = t_final[[\"ITEMID\", \"MED_NAME\", \"LAB_ITEMID\", \"LAB_NAME\", b]+a_cols]"
   ]
  },
  {
   "cell_type": "code",
   "execution_count": 59,
   "metadata": {},
   "outputs": [],
   "source": [
    "plot_data_concat = {}\n",
    "for i in plot_data:\n",
    "    plot_data_concat[i] = pd.concat(plot_data[i])"
   ]
  },
  {
   "cell_type": "code",
   "execution_count": 60,
   "metadata": {},
   "outputs": [
    {
     "data": {
      "text/plain": [
       "[('before_abs_1_4_sp', (1020, 99)),\n",
       " ('before_time_1_4_sp', (1020, 99)),\n",
       " ('before_abs_5_4_sp', (1266, 99)),\n",
       " ('before_time_5_4_sp', (1266, 99)),\n",
       " ('before_abs_9_4_sp', (1000, 99)),\n",
       " ('before_time_9_4_sp', (1000, 99)),\n",
       " ('before_abs_13_4_sp', (860, 99)),\n",
       " ('before_time_13_4_sp', (860, 99)),\n",
       " ('before_abs_17_4_sp', (806, 99)),\n",
       " ('before_time_17_4_sp', (806, 99)),\n",
       " ('before_abs_21_4_sp', (624, 99)),\n",
       " ('before_time_21_4_sp', (624, 99)),\n",
       " ('before_abs_0_0_sp', (160, 99)),\n",
       " ('before_time_0_0_sp', (160, 99))]"
      ]
     },
     "execution_count": 60,
     "metadata": {},
     "output_type": "execute_result"
    }
   ],
   "source": [
    "[(k, plot_data_concat[k].shape) for k in plot_data_concat]"
   ]
  },
  {
   "cell_type": "code",
   "execution_count": 61,
   "metadata": {},
   "outputs": [],
   "source": [
    "# type1 = \"abs\"\n",
    "a_t = [\"abs\", \"time\"]\n",
    "# other_cols = [f\"before_{t}_{i}_{window[2]}\" for i in range(window[0], window[1], window[2]) for t in all_types.difference([type])]\n",
    "# other_cols.extend([f\"after_{t}_{i}_{window[2]}\" for i in range(window[0], window[1], window[2]) for t in all_types.difference([type])])\n",
    "cols_b_sp = [(f\"before_{a_t[0]}_{i}_{window[2]}_sp\", f\"before_{a_t[1]}_{i}_{window[2]}_sp\") for i in range(window[0], window[1], window[2]) ]\n",
    "cols_a_sp = [(f\"after_{a_t[0]}_{i}_{window[2]}_sp\", f\"after_{a_t[1]}_{i}_{window[2]}_sp\") for i in range(window[0], window[1], window[2])]\n",
    "cols_b_sp.append((f\"before_abs_0_0_sp\", f\"before_time_0_0_sp\"))\n",
    "cols_a_sp.append((f\"after_abs_0_0_sp\", f\"after_time_0_0_sp\"))\n",
    "cols_sp = cols_b_sp.copy()\n",
    "cols_sp.extend(cols_a_sp)"
   ]
  },
  {
   "cell_type": "code",
   "execution_count": 62,
   "metadata": {},
   "outputs": [],
   "source": [
    "t_final = final.copy()\n",
    "plot_data = {}\n",
    "for b in cols_b_sp:\n",
    "    if b[0] in t_final.columns:\n",
    "        plot_data[b[0]] = {}\n",
    "        for a in cols_a_sp: \n",
    "            if a[0] in t_final.columns:\n",
    "                # print(a, b)\n",
    "                plot_data[b[0]][a[0]] = t_final.dropna(subset=[a[0], a[1], b[0], b[1]])\n",
    "                # print(plot_data[b][a][[a, b]])\n",
    "                # print(plot_data.keys())\n",
    "        # a_cols = list(set([f\"{c}_sp\" for c in cols_a]).intersection(list(t_final.columns)))\n",
    "        # plot_data[b] = t_final[[\"ITEMID\", \"MED_NAME\", \"LAB_ITEMID\", \"LAB_NAME\", b]+a_cols]"
   ]
  },
  {
   "cell_type": "code",
   "execution_count": 63,
   "metadata": {},
   "outputs": [
    {
     "data": {
      "text/plain": [
       "dict_keys(['before_abs_1_4_sp', 'before_abs_5_4_sp', 'before_abs_9_4_sp', 'before_abs_13_4_sp', 'before_abs_17_4_sp', 'before_abs_21_4_sp', 'before_abs_0_0_sp'])"
      ]
     },
     "execution_count": 63,
     "metadata": {},
     "output_type": "execute_result"
    }
   ],
   "source": [
    "plot_data.keys()"
   ]
  },
  {
   "cell_type": "code",
   "execution_count": 64,
   "metadata": {},
   "outputs": [],
   "source": [
    "import pickle\n",
    "pickle.dump(plot_data, open(f\"plot_bw_aw_med_lab_data_{stratify_prefix}_doc_eval.pkl\", \"wb\"))"
   ]
  },
  {
   "cell_type": "code",
   "execution_count": 65,
   "metadata": {},
   "outputs": [
    {
     "data": {
      "text/plain": [
       "[('before_abs_1_4_sp', 'before_time_1_4_sp'),\n",
       " ('before_abs_5_4_sp', 'before_time_5_4_sp'),\n",
       " ('before_abs_9_4_sp', 'before_time_9_4_sp'),\n",
       " ('before_abs_13_4_sp', 'before_time_13_4_sp'),\n",
       " ('before_abs_17_4_sp', 'before_time_17_4_sp'),\n",
       " ('before_abs_21_4_sp', 'before_time_21_4_sp'),\n",
       " ('before_abs_0_0_sp', 'before_time_0_0_sp'),\n",
       " ('after_abs_1_4_sp', 'after_time_1_4_sp'),\n",
       " ('after_abs_5_4_sp', 'after_time_5_4_sp'),\n",
       " ('after_abs_9_4_sp', 'after_time_9_4_sp'),\n",
       " ('after_abs_13_4_sp', 'after_time_13_4_sp'),\n",
       " ('after_abs_17_4_sp', 'after_time_17_4_sp'),\n",
       " ('after_abs_21_4_sp', 'after_time_21_4_sp'),\n",
       " ('after_abs_0_0_sp', 'after_time_0_0_sp')]"
      ]
     },
     "execution_count": 65,
     "metadata": {},
     "output_type": "execute_result"
    }
   ],
   "source": [
    "cols_sp"
   ]
  },
  {
   "cell_type": "code",
   "execution_count": 66,
   "metadata": {},
   "outputs": [],
   "source": [
    "cols_d = dict(cols_sp)"
   ]
  },
  {
   "cell_type": "code",
   "execution_count": 67,
   "metadata": {},
   "outputs": [
    {
     "name": "stdout",
     "output_type": "stream",
     "text": [
      "Before Window:  before_abs_1_4_sp\n",
      "After Window:  after_abs_1_4_sp\n",
      "After Window:  after_abs_5_4_sp\n",
      "After Window:  after_abs_9_4_sp\n",
      "After Window:  after_abs_13_4_sp\n",
      "After Window:  after_abs_17_4_sp\n",
      "After Window:  after_abs_21_4_sp\n",
      "After Window:  after_abs_0_0_sp\n",
      "Before Window:  before_abs_5_4_sp\n",
      "After Window:  after_abs_1_4_sp\n",
      "After Window:  after_abs_5_4_sp\n",
      "After Window:  after_abs_9_4_sp\n",
      "After Window:  after_abs_13_4_sp\n",
      "After Window:  after_abs_17_4_sp\n",
      "After Window:  after_abs_21_4_sp\n",
      "After Window:  after_abs_0_0_sp\n",
      "Before Window:  before_abs_9_4_sp\n",
      "After Window:  after_abs_1_4_sp\n",
      "After Window:  after_abs_5_4_sp\n",
      "After Window:  after_abs_9_4_sp\n"
     ]
    },
    {
     "name": "stderr",
     "output_type": "stream",
     "text": [
      "/var/folders/xb/6svjl9sj43z6gfhlcp2nc5540000gr/T/ipykernel_80825/2718244291.py:20: PerformanceWarning: indexing past lexsort depth may impact performance.\n",
      "  t_d = t_data.loc[med_lab_pair][['SUBJECT_ID','HADM_ID', k, k_a, cols_d[k_a]]]\n",
      "/var/folders/xb/6svjl9sj43z6gfhlcp2nc5540000gr/T/ipykernel_80825/2718244291.py:20: PerformanceWarning: indexing past lexsort depth may impact performance.\n",
      "  t_d = t_data.loc[med_lab_pair][['SUBJECT_ID','HADM_ID', k, k_a, cols_d[k_a]]]\n",
      "/var/folders/xb/6svjl9sj43z6gfhlcp2nc5540000gr/T/ipykernel_80825/2718244291.py:20: PerformanceWarning: indexing past lexsort depth may impact performance.\n",
      "  t_d = t_data.loc[med_lab_pair][['SUBJECT_ID','HADM_ID', k, k_a, cols_d[k_a]]]\n",
      "/var/folders/xb/6svjl9sj43z6gfhlcp2nc5540000gr/T/ipykernel_80825/2718244291.py:20: PerformanceWarning: indexing past lexsort depth may impact performance.\n",
      "  t_d = t_data.loc[med_lab_pair][['SUBJECT_ID','HADM_ID', k, k_a, cols_d[k_a]]]\n",
      "/var/folders/xb/6svjl9sj43z6gfhlcp2nc5540000gr/T/ipykernel_80825/2718244291.py:20: PerformanceWarning: indexing past lexsort depth may impact performance.\n",
      "  t_d = t_data.loc[med_lab_pair][['SUBJECT_ID','HADM_ID', k, k_a, cols_d[k_a]]]\n",
      "/var/folders/xb/6svjl9sj43z6gfhlcp2nc5540000gr/T/ipykernel_80825/2718244291.py:20: PerformanceWarning: indexing past lexsort depth may impact performance.\n",
      "  t_d = t_data.loc[med_lab_pair][['SUBJECT_ID','HADM_ID', k, k_a, cols_d[k_a]]]\n",
      "/var/folders/xb/6svjl9sj43z6gfhlcp2nc5540000gr/T/ipykernel_80825/2718244291.py:20: PerformanceWarning: indexing past lexsort depth may impact performance.\n",
      "  t_d = t_data.loc[med_lab_pair][['SUBJECT_ID','HADM_ID', k, k_a, cols_d[k_a]]]\n",
      "/var/folders/xb/6svjl9sj43z6gfhlcp2nc5540000gr/T/ipykernel_80825/2718244291.py:20: PerformanceWarning: indexing past lexsort depth may impact performance.\n",
      "  t_d = t_data.loc[med_lab_pair][['SUBJECT_ID','HADM_ID', k, k_a, cols_d[k_a]]]\n",
      "/var/folders/xb/6svjl9sj43z6gfhlcp2nc5540000gr/T/ipykernel_80825/2718244291.py:20: PerformanceWarning: indexing past lexsort depth may impact performance.\n",
      "  t_d = t_data.loc[med_lab_pair][['SUBJECT_ID','HADM_ID', k, k_a, cols_d[k_a]]]\n",
      "/var/folders/xb/6svjl9sj43z6gfhlcp2nc5540000gr/T/ipykernel_80825/2718244291.py:20: PerformanceWarning: indexing past lexsort depth may impact performance.\n",
      "  t_d = t_data.loc[med_lab_pair][['SUBJECT_ID','HADM_ID', k, k_a, cols_d[k_a]]]\n",
      "/var/folders/xb/6svjl9sj43z6gfhlcp2nc5540000gr/T/ipykernel_80825/2718244291.py:20: PerformanceWarning: indexing past lexsort depth may impact performance.\n",
      "  t_d = t_data.loc[med_lab_pair][['SUBJECT_ID','HADM_ID', k, k_a, cols_d[k_a]]]\n",
      "/var/folders/xb/6svjl9sj43z6gfhlcp2nc5540000gr/T/ipykernel_80825/2718244291.py:20: PerformanceWarning: indexing past lexsort depth may impact performance.\n",
      "  t_d = t_data.loc[med_lab_pair][['SUBJECT_ID','HADM_ID', k, k_a, cols_d[k_a]]]\n",
      "/var/folders/xb/6svjl9sj43z6gfhlcp2nc5540000gr/T/ipykernel_80825/2718244291.py:20: PerformanceWarning: indexing past lexsort depth may impact performance.\n",
      "  t_d = t_data.loc[med_lab_pair][['SUBJECT_ID','HADM_ID', k, k_a, cols_d[k_a]]]\n",
      "/var/folders/xb/6svjl9sj43z6gfhlcp2nc5540000gr/T/ipykernel_80825/2718244291.py:20: PerformanceWarning: indexing past lexsort depth may impact performance.\n",
      "  t_d = t_data.loc[med_lab_pair][['SUBJECT_ID','HADM_ID', k, k_a, cols_d[k_a]]]\n",
      "/var/folders/xb/6svjl9sj43z6gfhlcp2nc5540000gr/T/ipykernel_80825/2718244291.py:20: PerformanceWarning: indexing past lexsort depth may impact performance.\n",
      "  t_d = t_data.loc[med_lab_pair][['SUBJECT_ID','HADM_ID', k, k_a, cols_d[k_a]]]\n",
      "/var/folders/xb/6svjl9sj43z6gfhlcp2nc5540000gr/T/ipykernel_80825/2718244291.py:20: PerformanceWarning: indexing past lexsort depth may impact performance.\n",
      "  t_d = t_data.loc[med_lab_pair][['SUBJECT_ID','HADM_ID', k, k_a, cols_d[k_a]]]\n",
      "/var/folders/xb/6svjl9sj43z6gfhlcp2nc5540000gr/T/ipykernel_80825/2718244291.py:20: PerformanceWarning: indexing past lexsort depth may impact performance.\n",
      "  t_d = t_data.loc[med_lab_pair][['SUBJECT_ID','HADM_ID', k, k_a, cols_d[k_a]]]\n",
      "/var/folders/xb/6svjl9sj43z6gfhlcp2nc5540000gr/T/ipykernel_80825/2718244291.py:20: PerformanceWarning: indexing past lexsort depth may impact performance.\n",
      "  t_d = t_data.loc[med_lab_pair][['SUBJECT_ID','HADM_ID', k, k_a, cols_d[k_a]]]\n",
      "/var/folders/xb/6svjl9sj43z6gfhlcp2nc5540000gr/T/ipykernel_80825/2718244291.py:20: PerformanceWarning: indexing past lexsort depth may impact performance.\n",
      "  t_d = t_data.loc[med_lab_pair][['SUBJECT_ID','HADM_ID', k, k_a, cols_d[k_a]]]\n",
      "/var/folders/xb/6svjl9sj43z6gfhlcp2nc5540000gr/T/ipykernel_80825/2718244291.py:20: PerformanceWarning: indexing past lexsort depth may impact performance.\n",
      "  t_d = t_data.loc[med_lab_pair][['SUBJECT_ID','HADM_ID', k, k_a, cols_d[k_a]]]\n",
      "/var/folders/xb/6svjl9sj43z6gfhlcp2nc5540000gr/T/ipykernel_80825/2718244291.py:20: PerformanceWarning: indexing past lexsort depth may impact performance.\n",
      "  t_d = t_data.loc[med_lab_pair][['SUBJECT_ID','HADM_ID', k, k_a, cols_d[k_a]]]\n",
      "/var/folders/xb/6svjl9sj43z6gfhlcp2nc5540000gr/T/ipykernel_80825/2718244291.py:20: PerformanceWarning: indexing past lexsort depth may impact performance.\n",
      "  t_d = t_data.loc[med_lab_pair][['SUBJECT_ID','HADM_ID', k, k_a, cols_d[k_a]]]\n",
      "/var/folders/xb/6svjl9sj43z6gfhlcp2nc5540000gr/T/ipykernel_80825/2718244291.py:20: PerformanceWarning: indexing past lexsort depth may impact performance.\n",
      "  t_d = t_data.loc[med_lab_pair][['SUBJECT_ID','HADM_ID', k, k_a, cols_d[k_a]]]\n",
      "/var/folders/xb/6svjl9sj43z6gfhlcp2nc5540000gr/T/ipykernel_80825/2718244291.py:20: PerformanceWarning: indexing past lexsort depth may impact performance.\n",
      "  t_d = t_data.loc[med_lab_pair][['SUBJECT_ID','HADM_ID', k, k_a, cols_d[k_a]]]\n",
      "/var/folders/xb/6svjl9sj43z6gfhlcp2nc5540000gr/T/ipykernel_80825/2718244291.py:20: PerformanceWarning: indexing past lexsort depth may impact performance.\n",
      "  t_d = t_data.loc[med_lab_pair][['SUBJECT_ID','HADM_ID', k, k_a, cols_d[k_a]]]\n",
      "/var/folders/xb/6svjl9sj43z6gfhlcp2nc5540000gr/T/ipykernel_80825/2718244291.py:20: PerformanceWarning: indexing past lexsort depth may impact performance.\n",
      "  t_d = t_data.loc[med_lab_pair][['SUBJECT_ID','HADM_ID', k, k_a, cols_d[k_a]]]\n",
      "/var/folders/xb/6svjl9sj43z6gfhlcp2nc5540000gr/T/ipykernel_80825/2718244291.py:20: PerformanceWarning: indexing past lexsort depth may impact performance.\n",
      "  t_d = t_data.loc[med_lab_pair][['SUBJECT_ID','HADM_ID', k, k_a, cols_d[k_a]]]\n",
      "/var/folders/xb/6svjl9sj43z6gfhlcp2nc5540000gr/T/ipykernel_80825/2718244291.py:20: PerformanceWarning: indexing past lexsort depth may impact performance.\n",
      "  t_d = t_data.loc[med_lab_pair][['SUBJECT_ID','HADM_ID', k, k_a, cols_d[k_a]]]\n",
      "/var/folders/xb/6svjl9sj43z6gfhlcp2nc5540000gr/T/ipykernel_80825/2718244291.py:20: PerformanceWarning: indexing past lexsort depth may impact performance.\n",
      "  t_d = t_data.loc[med_lab_pair][['SUBJECT_ID','HADM_ID', k, k_a, cols_d[k_a]]]\n",
      "/var/folders/xb/6svjl9sj43z6gfhlcp2nc5540000gr/T/ipykernel_80825/2718244291.py:20: PerformanceWarning: indexing past lexsort depth may impact performance.\n",
      "  t_d = t_data.loc[med_lab_pair][['SUBJECT_ID','HADM_ID', k, k_a, cols_d[k_a]]]\n",
      "/var/folders/xb/6svjl9sj43z6gfhlcp2nc5540000gr/T/ipykernel_80825/2718244291.py:20: PerformanceWarning: indexing past lexsort depth may impact performance.\n",
      "  t_d = t_data.loc[med_lab_pair][['SUBJECT_ID','HADM_ID', k, k_a, cols_d[k_a]]]\n",
      "/var/folders/xb/6svjl9sj43z6gfhlcp2nc5540000gr/T/ipykernel_80825/2718244291.py:20: PerformanceWarning: indexing past lexsort depth may impact performance.\n",
      "  t_d = t_data.loc[med_lab_pair][['SUBJECT_ID','HADM_ID', k, k_a, cols_d[k_a]]]\n",
      "/var/folders/xb/6svjl9sj43z6gfhlcp2nc5540000gr/T/ipykernel_80825/2718244291.py:20: PerformanceWarning: indexing past lexsort depth may impact performance.\n",
      "  t_d = t_data.loc[med_lab_pair][['SUBJECT_ID','HADM_ID', k, k_a, cols_d[k_a]]]\n",
      "/var/folders/xb/6svjl9sj43z6gfhlcp2nc5540000gr/T/ipykernel_80825/2718244291.py:20: PerformanceWarning: indexing past lexsort depth may impact performance.\n",
      "  t_d = t_data.loc[med_lab_pair][['SUBJECT_ID','HADM_ID', k, k_a, cols_d[k_a]]]\n",
      "/var/folders/xb/6svjl9sj43z6gfhlcp2nc5540000gr/T/ipykernel_80825/2718244291.py:20: PerformanceWarning: indexing past lexsort depth may impact performance.\n",
      "  t_d = t_data.loc[med_lab_pair][['SUBJECT_ID','HADM_ID', k, k_a, cols_d[k_a]]]\n",
      "/var/folders/xb/6svjl9sj43z6gfhlcp2nc5540000gr/T/ipykernel_80825/2718244291.py:20: PerformanceWarning: indexing past lexsort depth may impact performance.\n",
      "  t_d = t_data.loc[med_lab_pair][['SUBJECT_ID','HADM_ID', k, k_a, cols_d[k_a]]]\n",
      "/var/folders/xb/6svjl9sj43z6gfhlcp2nc5540000gr/T/ipykernel_80825/2718244291.py:20: PerformanceWarning: indexing past lexsort depth may impact performance.\n",
      "  t_d = t_data.loc[med_lab_pair][['SUBJECT_ID','HADM_ID', k, k_a, cols_d[k_a]]]\n",
      "/var/folders/xb/6svjl9sj43z6gfhlcp2nc5540000gr/T/ipykernel_80825/2718244291.py:20: PerformanceWarning: indexing past lexsort depth may impact performance.\n",
      "  t_d = t_data.loc[med_lab_pair][['SUBJECT_ID','HADM_ID', k, k_a, cols_d[k_a]]]\n",
      "/var/folders/xb/6svjl9sj43z6gfhlcp2nc5540000gr/T/ipykernel_80825/2718244291.py:20: PerformanceWarning: indexing past lexsort depth may impact performance.\n",
      "  t_d = t_data.loc[med_lab_pair][['SUBJECT_ID','HADM_ID', k, k_a, cols_d[k_a]]]\n",
      "/var/folders/xb/6svjl9sj43z6gfhlcp2nc5540000gr/T/ipykernel_80825/2718244291.py:20: PerformanceWarning: indexing past lexsort depth may impact performance.\n",
      "  t_d = t_data.loc[med_lab_pair][['SUBJECT_ID','HADM_ID', k, k_a, cols_d[k_a]]]\n",
      "/var/folders/xb/6svjl9sj43z6gfhlcp2nc5540000gr/T/ipykernel_80825/2718244291.py:20: PerformanceWarning: indexing past lexsort depth may impact performance.\n",
      "  t_d = t_data.loc[med_lab_pair][['SUBJECT_ID','HADM_ID', k, k_a, cols_d[k_a]]]\n",
      "/var/folders/xb/6svjl9sj43z6gfhlcp2nc5540000gr/T/ipykernel_80825/2718244291.py:20: PerformanceWarning: indexing past lexsort depth may impact performance.\n",
      "  t_d = t_data.loc[med_lab_pair][['SUBJECT_ID','HADM_ID', k, k_a, cols_d[k_a]]]\n",
      "/var/folders/xb/6svjl9sj43z6gfhlcp2nc5540000gr/T/ipykernel_80825/2718244291.py:20: PerformanceWarning: indexing past lexsort depth may impact performance.\n",
      "  t_d = t_data.loc[med_lab_pair][['SUBJECT_ID','HADM_ID', k, k_a, cols_d[k_a]]]\n",
      "/var/folders/xb/6svjl9sj43z6gfhlcp2nc5540000gr/T/ipykernel_80825/2718244291.py:20: PerformanceWarning: indexing past lexsort depth may impact performance.\n",
      "  t_d = t_data.loc[med_lab_pair][['SUBJECT_ID','HADM_ID', k, k_a, cols_d[k_a]]]\n",
      "/var/folders/xb/6svjl9sj43z6gfhlcp2nc5540000gr/T/ipykernel_80825/2718244291.py:20: PerformanceWarning: indexing past lexsort depth may impact performance.\n",
      "  t_d = t_data.loc[med_lab_pair][['SUBJECT_ID','HADM_ID', k, k_a, cols_d[k_a]]]\n",
      "/var/folders/xb/6svjl9sj43z6gfhlcp2nc5540000gr/T/ipykernel_80825/2718244291.py:20: PerformanceWarning: indexing past lexsort depth may impact performance.\n",
      "  t_d = t_data.loc[med_lab_pair][['SUBJECT_ID','HADM_ID', k, k_a, cols_d[k_a]]]\n",
      "/var/folders/xb/6svjl9sj43z6gfhlcp2nc5540000gr/T/ipykernel_80825/2718244291.py:20: PerformanceWarning: indexing past lexsort depth may impact performance.\n",
      "  t_d = t_data.loc[med_lab_pair][['SUBJECT_ID','HADM_ID', k, k_a, cols_d[k_a]]]\n",
      "/var/folders/xb/6svjl9sj43z6gfhlcp2nc5540000gr/T/ipykernel_80825/2718244291.py:20: PerformanceWarning: indexing past lexsort depth may impact performance.\n",
      "  t_d = t_data.loc[med_lab_pair][['SUBJECT_ID','HADM_ID', k, k_a, cols_d[k_a]]]\n",
      "/var/folders/xb/6svjl9sj43z6gfhlcp2nc5540000gr/T/ipykernel_80825/2718244291.py:20: PerformanceWarning: indexing past lexsort depth may impact performance.\n",
      "  t_d = t_data.loc[med_lab_pair][['SUBJECT_ID','HADM_ID', k, k_a, cols_d[k_a]]]\n",
      "/var/folders/xb/6svjl9sj43z6gfhlcp2nc5540000gr/T/ipykernel_80825/2718244291.py:20: PerformanceWarning: indexing past lexsort depth may impact performance.\n",
      "  t_d = t_data.loc[med_lab_pair][['SUBJECT_ID','HADM_ID', k, k_a, cols_d[k_a]]]\n",
      "/var/folders/xb/6svjl9sj43z6gfhlcp2nc5540000gr/T/ipykernel_80825/2718244291.py:20: PerformanceWarning: indexing past lexsort depth may impact performance.\n",
      "  t_d = t_data.loc[med_lab_pair][['SUBJECT_ID','HADM_ID', k, k_a, cols_d[k_a]]]\n",
      "/var/folders/xb/6svjl9sj43z6gfhlcp2nc5540000gr/T/ipykernel_80825/2718244291.py:20: PerformanceWarning: indexing past lexsort depth may impact performance.\n",
      "  t_d = t_data.loc[med_lab_pair][['SUBJECT_ID','HADM_ID', k, k_a, cols_d[k_a]]]\n",
      "/var/folders/xb/6svjl9sj43z6gfhlcp2nc5540000gr/T/ipykernel_80825/2718244291.py:20: PerformanceWarning: indexing past lexsort depth may impact performance.\n",
      "  t_d = t_data.loc[med_lab_pair][['SUBJECT_ID','HADM_ID', k, k_a, cols_d[k_a]]]\n",
      "/var/folders/xb/6svjl9sj43z6gfhlcp2nc5540000gr/T/ipykernel_80825/2718244291.py:20: PerformanceWarning: indexing past lexsort depth may impact performance.\n",
      "  t_d = t_data.loc[med_lab_pair][['SUBJECT_ID','HADM_ID', k, k_a, cols_d[k_a]]]\n",
      "/var/folders/xb/6svjl9sj43z6gfhlcp2nc5540000gr/T/ipykernel_80825/2718244291.py:20: PerformanceWarning: indexing past lexsort depth may impact performance.\n",
      "  t_d = t_data.loc[med_lab_pair][['SUBJECT_ID','HADM_ID', k, k_a, cols_d[k_a]]]\n",
      "/var/folders/xb/6svjl9sj43z6gfhlcp2nc5540000gr/T/ipykernel_80825/2718244291.py:20: PerformanceWarning: indexing past lexsort depth may impact performance.\n",
      "  t_d = t_data.loc[med_lab_pair][['SUBJECT_ID','HADM_ID', k, k_a, cols_d[k_a]]]\n",
      "/var/folders/xb/6svjl9sj43z6gfhlcp2nc5540000gr/T/ipykernel_80825/2718244291.py:20: PerformanceWarning: indexing past lexsort depth may impact performance.\n",
      "  t_d = t_data.loc[med_lab_pair][['SUBJECT_ID','HADM_ID', k, k_a, cols_d[k_a]]]\n",
      "/var/folders/xb/6svjl9sj43z6gfhlcp2nc5540000gr/T/ipykernel_80825/2718244291.py:20: PerformanceWarning: indexing past lexsort depth may impact performance.\n",
      "  t_d = t_data.loc[med_lab_pair][['SUBJECT_ID','HADM_ID', k, k_a, cols_d[k_a]]]\n",
      "/var/folders/xb/6svjl9sj43z6gfhlcp2nc5540000gr/T/ipykernel_80825/2718244291.py:20: PerformanceWarning: indexing past lexsort depth may impact performance.\n",
      "  t_d = t_data.loc[med_lab_pair][['SUBJECT_ID','HADM_ID', k, k_a, cols_d[k_a]]]\n",
      "/var/folders/xb/6svjl9sj43z6gfhlcp2nc5540000gr/T/ipykernel_80825/2718244291.py:20: PerformanceWarning: indexing past lexsort depth may impact performance.\n",
      "  t_d = t_data.loc[med_lab_pair][['SUBJECT_ID','HADM_ID', k, k_a, cols_d[k_a]]]\n",
      "/var/folders/xb/6svjl9sj43z6gfhlcp2nc5540000gr/T/ipykernel_80825/2718244291.py:20: PerformanceWarning: indexing past lexsort depth may impact performance.\n",
      "  t_d = t_data.loc[med_lab_pair][['SUBJECT_ID','HADM_ID', k, k_a, cols_d[k_a]]]\n",
      "/var/folders/xb/6svjl9sj43z6gfhlcp2nc5540000gr/T/ipykernel_80825/2718244291.py:20: PerformanceWarning: indexing past lexsort depth may impact performance.\n",
      "  t_d = t_data.loc[med_lab_pair][['SUBJECT_ID','HADM_ID', k, k_a, cols_d[k_a]]]\n",
      "/var/folders/xb/6svjl9sj43z6gfhlcp2nc5540000gr/T/ipykernel_80825/2718244291.py:20: PerformanceWarning: indexing past lexsort depth may impact performance.\n",
      "  t_d = t_data.loc[med_lab_pair][['SUBJECT_ID','HADM_ID', k, k_a, cols_d[k_a]]]\n",
      "/var/folders/xb/6svjl9sj43z6gfhlcp2nc5540000gr/T/ipykernel_80825/2718244291.py:20: PerformanceWarning: indexing past lexsort depth may impact performance.\n",
      "  t_d = t_data.loc[med_lab_pair][['SUBJECT_ID','HADM_ID', k, k_a, cols_d[k_a]]]\n",
      "/var/folders/xb/6svjl9sj43z6gfhlcp2nc5540000gr/T/ipykernel_80825/2718244291.py:20: PerformanceWarning: indexing past lexsort depth may impact performance.\n",
      "  t_d = t_data.loc[med_lab_pair][['SUBJECT_ID','HADM_ID', k, k_a, cols_d[k_a]]]\n",
      "/var/folders/xb/6svjl9sj43z6gfhlcp2nc5540000gr/T/ipykernel_80825/2718244291.py:20: PerformanceWarning: indexing past lexsort depth may impact performance.\n",
      "  t_d = t_data.loc[med_lab_pair][['SUBJECT_ID','HADM_ID', k, k_a, cols_d[k_a]]]\n",
      "/var/folders/xb/6svjl9sj43z6gfhlcp2nc5540000gr/T/ipykernel_80825/2718244291.py:20: PerformanceWarning: indexing past lexsort depth may impact performance.\n",
      "  t_d = t_data.loc[med_lab_pair][['SUBJECT_ID','HADM_ID', k, k_a, cols_d[k_a]]]\n",
      "/var/folders/xb/6svjl9sj43z6gfhlcp2nc5540000gr/T/ipykernel_80825/2718244291.py:20: PerformanceWarning: indexing past lexsort depth may impact performance.\n",
      "  t_d = t_data.loc[med_lab_pair][['SUBJECT_ID','HADM_ID', k, k_a, cols_d[k_a]]]\n",
      "/var/folders/xb/6svjl9sj43z6gfhlcp2nc5540000gr/T/ipykernel_80825/2718244291.py:20: PerformanceWarning: indexing past lexsort depth may impact performance.\n",
      "  t_d = t_data.loc[med_lab_pair][['SUBJECT_ID','HADM_ID', k, k_a, cols_d[k_a]]]\n",
      "/var/folders/xb/6svjl9sj43z6gfhlcp2nc5540000gr/T/ipykernel_80825/2718244291.py:20: PerformanceWarning: indexing past lexsort depth may impact performance.\n",
      "  t_d = t_data.loc[med_lab_pair][['SUBJECT_ID','HADM_ID', k, k_a, cols_d[k_a]]]\n",
      "/var/folders/xb/6svjl9sj43z6gfhlcp2nc5540000gr/T/ipykernel_80825/2718244291.py:20: PerformanceWarning: indexing past lexsort depth may impact performance.\n",
      "  t_d = t_data.loc[med_lab_pair][['SUBJECT_ID','HADM_ID', k, k_a, cols_d[k_a]]]\n",
      "/var/folders/xb/6svjl9sj43z6gfhlcp2nc5540000gr/T/ipykernel_80825/2718244291.py:20: PerformanceWarning: indexing past lexsort depth may impact performance.\n",
      "  t_d = t_data.loc[med_lab_pair][['SUBJECT_ID','HADM_ID', k, k_a, cols_d[k_a]]]\n",
      "/var/folders/xb/6svjl9sj43z6gfhlcp2nc5540000gr/T/ipykernel_80825/2718244291.py:20: PerformanceWarning: indexing past lexsort depth may impact performance.\n",
      "  t_d = t_data.loc[med_lab_pair][['SUBJECT_ID','HADM_ID', k, k_a, cols_d[k_a]]]\n",
      "/var/folders/xb/6svjl9sj43z6gfhlcp2nc5540000gr/T/ipykernel_80825/2718244291.py:20: PerformanceWarning: indexing past lexsort depth may impact performance.\n",
      "  t_d = t_data.loc[med_lab_pair][['SUBJECT_ID','HADM_ID', k, k_a, cols_d[k_a]]]\n",
      "/var/folders/xb/6svjl9sj43z6gfhlcp2nc5540000gr/T/ipykernel_80825/2718244291.py:20: PerformanceWarning: indexing past lexsort depth may impact performance.\n",
      "  t_d = t_data.loc[med_lab_pair][['SUBJECT_ID','HADM_ID', k, k_a, cols_d[k_a]]]\n",
      "/var/folders/xb/6svjl9sj43z6gfhlcp2nc5540000gr/T/ipykernel_80825/2718244291.py:20: PerformanceWarning: indexing past lexsort depth may impact performance.\n",
      "  t_d = t_data.loc[med_lab_pair][['SUBJECT_ID','HADM_ID', k, k_a, cols_d[k_a]]]\n",
      "/var/folders/xb/6svjl9sj43z6gfhlcp2nc5540000gr/T/ipykernel_80825/2718244291.py:20: PerformanceWarning: indexing past lexsort depth may impact performance.\n",
      "  t_d = t_data.loc[med_lab_pair][['SUBJECT_ID','HADM_ID', k, k_a, cols_d[k_a]]]\n",
      "/var/folders/xb/6svjl9sj43z6gfhlcp2nc5540000gr/T/ipykernel_80825/2718244291.py:20: PerformanceWarning: indexing past lexsort depth may impact performance.\n",
      "  t_d = t_data.loc[med_lab_pair][['SUBJECT_ID','HADM_ID', k, k_a, cols_d[k_a]]]\n",
      "/var/folders/xb/6svjl9sj43z6gfhlcp2nc5540000gr/T/ipykernel_80825/2718244291.py:20: PerformanceWarning: indexing past lexsort depth may impact performance.\n",
      "  t_d = t_data.loc[med_lab_pair][['SUBJECT_ID','HADM_ID', k, k_a, cols_d[k_a]]]\n",
      "/var/folders/xb/6svjl9sj43z6gfhlcp2nc5540000gr/T/ipykernel_80825/2718244291.py:20: PerformanceWarning: indexing past lexsort depth may impact performance.\n",
      "  t_d = t_data.loc[med_lab_pair][['SUBJECT_ID','HADM_ID', k, k_a, cols_d[k_a]]]\n",
      "/var/folders/xb/6svjl9sj43z6gfhlcp2nc5540000gr/T/ipykernel_80825/2718244291.py:20: PerformanceWarning: indexing past lexsort depth may impact performance.\n",
      "  t_d = t_data.loc[med_lab_pair][['SUBJECT_ID','HADM_ID', k, k_a, cols_d[k_a]]]\n",
      "/var/folders/xb/6svjl9sj43z6gfhlcp2nc5540000gr/T/ipykernel_80825/2718244291.py:20: PerformanceWarning: indexing past lexsort depth may impact performance.\n",
      "  t_d = t_data.loc[med_lab_pair][['SUBJECT_ID','HADM_ID', k, k_a, cols_d[k_a]]]\n",
      "/var/folders/xb/6svjl9sj43z6gfhlcp2nc5540000gr/T/ipykernel_80825/2718244291.py:20: PerformanceWarning: indexing past lexsort depth may impact performance.\n",
      "  t_d = t_data.loc[med_lab_pair][['SUBJECT_ID','HADM_ID', k, k_a, cols_d[k_a]]]\n",
      "/var/folders/xb/6svjl9sj43z6gfhlcp2nc5540000gr/T/ipykernel_80825/2718244291.py:20: PerformanceWarning: indexing past lexsort depth may impact performance.\n",
      "  t_d = t_data.loc[med_lab_pair][['SUBJECT_ID','HADM_ID', k, k_a, cols_d[k_a]]]\n",
      "/var/folders/xb/6svjl9sj43z6gfhlcp2nc5540000gr/T/ipykernel_80825/2718244291.py:20: PerformanceWarning: indexing past lexsort depth may impact performance.\n",
      "  t_d = t_data.loc[med_lab_pair][['SUBJECT_ID','HADM_ID', k, k_a, cols_d[k_a]]]\n",
      "/var/folders/xb/6svjl9sj43z6gfhlcp2nc5540000gr/T/ipykernel_80825/2718244291.py:20: PerformanceWarning: indexing past lexsort depth may impact performance.\n",
      "  t_d = t_data.loc[med_lab_pair][['SUBJECT_ID','HADM_ID', k, k_a, cols_d[k_a]]]\n",
      "/var/folders/xb/6svjl9sj43z6gfhlcp2nc5540000gr/T/ipykernel_80825/2718244291.py:20: PerformanceWarning: indexing past lexsort depth may impact performance.\n",
      "  t_d = t_data.loc[med_lab_pair][['SUBJECT_ID','HADM_ID', k, k_a, cols_d[k_a]]]\n",
      "/var/folders/xb/6svjl9sj43z6gfhlcp2nc5540000gr/T/ipykernel_80825/2718244291.py:20: PerformanceWarning: indexing past lexsort depth may impact performance.\n",
      "  t_d = t_data.loc[med_lab_pair][['SUBJECT_ID','HADM_ID', k, k_a, cols_d[k_a]]]\n",
      "/var/folders/xb/6svjl9sj43z6gfhlcp2nc5540000gr/T/ipykernel_80825/2718244291.py:20: PerformanceWarning: indexing past lexsort depth may impact performance.\n",
      "  t_d = t_data.loc[med_lab_pair][['SUBJECT_ID','HADM_ID', k, k_a, cols_d[k_a]]]\n",
      "/var/folders/xb/6svjl9sj43z6gfhlcp2nc5540000gr/T/ipykernel_80825/2718244291.py:20: PerformanceWarning: indexing past lexsort depth may impact performance.\n",
      "  t_d = t_data.loc[med_lab_pair][['SUBJECT_ID','HADM_ID', k, k_a, cols_d[k_a]]]\n",
      "/var/folders/xb/6svjl9sj43z6gfhlcp2nc5540000gr/T/ipykernel_80825/2718244291.py:20: PerformanceWarning: indexing past lexsort depth may impact performance.\n",
      "  t_d = t_data.loc[med_lab_pair][['SUBJECT_ID','HADM_ID', k, k_a, cols_d[k_a]]]\n",
      "/var/folders/xb/6svjl9sj43z6gfhlcp2nc5540000gr/T/ipykernel_80825/2718244291.py:20: PerformanceWarning: indexing past lexsort depth may impact performance.\n",
      "  t_d = t_data.loc[med_lab_pair][['SUBJECT_ID','HADM_ID', k, k_a, cols_d[k_a]]]\n",
      "/var/folders/xb/6svjl9sj43z6gfhlcp2nc5540000gr/T/ipykernel_80825/2718244291.py:20: PerformanceWarning: indexing past lexsort depth may impact performance.\n",
      "  t_d = t_data.loc[med_lab_pair][['SUBJECT_ID','HADM_ID', k, k_a, cols_d[k_a]]]\n",
      "/var/folders/xb/6svjl9sj43z6gfhlcp2nc5540000gr/T/ipykernel_80825/2718244291.py:20: PerformanceWarning: indexing past lexsort depth may impact performance.\n",
      "  t_d = t_data.loc[med_lab_pair][['SUBJECT_ID','HADM_ID', k, k_a, cols_d[k_a]]]\n",
      "/var/folders/xb/6svjl9sj43z6gfhlcp2nc5540000gr/T/ipykernel_80825/2718244291.py:20: PerformanceWarning: indexing past lexsort depth may impact performance.\n",
      "  t_d = t_data.loc[med_lab_pair][['SUBJECT_ID','HADM_ID', k, k_a, cols_d[k_a]]]\n",
      "/var/folders/xb/6svjl9sj43z6gfhlcp2nc5540000gr/T/ipykernel_80825/2718244291.py:20: PerformanceWarning: indexing past lexsort depth may impact performance.\n",
      "  t_d = t_data.loc[med_lab_pair][['SUBJECT_ID','HADM_ID', k, k_a, cols_d[k_a]]]\n",
      "/var/folders/xb/6svjl9sj43z6gfhlcp2nc5540000gr/T/ipykernel_80825/2718244291.py:20: PerformanceWarning: indexing past lexsort depth may impact performance.\n",
      "  t_d = t_data.loc[med_lab_pair][['SUBJECT_ID','HADM_ID', k, k_a, cols_d[k_a]]]\n",
      "/var/folders/xb/6svjl9sj43z6gfhlcp2nc5540000gr/T/ipykernel_80825/2718244291.py:20: PerformanceWarning: indexing past lexsort depth may impact performance.\n",
      "  t_d = t_data.loc[med_lab_pair][['SUBJECT_ID','HADM_ID', k, k_a, cols_d[k_a]]]\n",
      "/var/folders/xb/6svjl9sj43z6gfhlcp2nc5540000gr/T/ipykernel_80825/2718244291.py:20: PerformanceWarning: indexing past lexsort depth may impact performance.\n",
      "  t_d = t_data.loc[med_lab_pair][['SUBJECT_ID','HADM_ID', k, k_a, cols_d[k_a]]]\n",
      "/var/folders/xb/6svjl9sj43z6gfhlcp2nc5540000gr/T/ipykernel_80825/2718244291.py:20: PerformanceWarning: indexing past lexsort depth may impact performance.\n",
      "  t_d = t_data.loc[med_lab_pair][['SUBJECT_ID','HADM_ID', k, k_a, cols_d[k_a]]]\n",
      "/var/folders/xb/6svjl9sj43z6gfhlcp2nc5540000gr/T/ipykernel_80825/2718244291.py:20: PerformanceWarning: indexing past lexsort depth may impact performance.\n",
      "  t_d = t_data.loc[med_lab_pair][['SUBJECT_ID','HADM_ID', k, k_a, cols_d[k_a]]]\n",
      "/var/folders/xb/6svjl9sj43z6gfhlcp2nc5540000gr/T/ipykernel_80825/2718244291.py:20: PerformanceWarning: indexing past lexsort depth may impact performance.\n",
      "  t_d = t_data.loc[med_lab_pair][['SUBJECT_ID','HADM_ID', k, k_a, cols_d[k_a]]]\n",
      "/var/folders/xb/6svjl9sj43z6gfhlcp2nc5540000gr/T/ipykernel_80825/2718244291.py:20: PerformanceWarning: indexing past lexsort depth may impact performance.\n",
      "  t_d = t_data.loc[med_lab_pair][['SUBJECT_ID','HADM_ID', k, k_a, cols_d[k_a]]]\n",
      "/var/folders/xb/6svjl9sj43z6gfhlcp2nc5540000gr/T/ipykernel_80825/2718244291.py:20: PerformanceWarning: indexing past lexsort depth may impact performance.\n",
      "  t_d = t_data.loc[med_lab_pair][['SUBJECT_ID','HADM_ID', k, k_a, cols_d[k_a]]]\n",
      "/var/folders/xb/6svjl9sj43z6gfhlcp2nc5540000gr/T/ipykernel_80825/2718244291.py:20: PerformanceWarning: indexing past lexsort depth may impact performance.\n",
      "  t_d = t_data.loc[med_lab_pair][['SUBJECT_ID','HADM_ID', k, k_a, cols_d[k_a]]]\n",
      "/var/folders/xb/6svjl9sj43z6gfhlcp2nc5540000gr/T/ipykernel_80825/2718244291.py:20: PerformanceWarning: indexing past lexsort depth may impact performance.\n",
      "  t_d = t_data.loc[med_lab_pair][['SUBJECT_ID','HADM_ID', k, k_a, cols_d[k_a]]]\n",
      "/var/folders/xb/6svjl9sj43z6gfhlcp2nc5540000gr/T/ipykernel_80825/2718244291.py:20: PerformanceWarning: indexing past lexsort depth may impact performance.\n",
      "  t_d = t_data.loc[med_lab_pair][['SUBJECT_ID','HADM_ID', k, k_a, cols_d[k_a]]]\n",
      "/var/folders/xb/6svjl9sj43z6gfhlcp2nc5540000gr/T/ipykernel_80825/2718244291.py:20: PerformanceWarning: indexing past lexsort depth may impact performance.\n",
      "  t_d = t_data.loc[med_lab_pair][['SUBJECT_ID','HADM_ID', k, k_a, cols_d[k_a]]]\n",
      "/var/folders/xb/6svjl9sj43z6gfhlcp2nc5540000gr/T/ipykernel_80825/2718244291.py:20: PerformanceWarning: indexing past lexsort depth may impact performance.\n",
      "  t_d = t_data.loc[med_lab_pair][['SUBJECT_ID','HADM_ID', k, k_a, cols_d[k_a]]]\n",
      "/var/folders/xb/6svjl9sj43z6gfhlcp2nc5540000gr/T/ipykernel_80825/2718244291.py:20: PerformanceWarning: indexing past lexsort depth may impact performance.\n",
      "  t_d = t_data.loc[med_lab_pair][['SUBJECT_ID','HADM_ID', k, k_a, cols_d[k_a]]]\n",
      "/var/folders/xb/6svjl9sj43z6gfhlcp2nc5540000gr/T/ipykernel_80825/2718244291.py:20: PerformanceWarning: indexing past lexsort depth may impact performance.\n",
      "  t_d = t_data.loc[med_lab_pair][['SUBJECT_ID','HADM_ID', k, k_a, cols_d[k_a]]]\n",
      "/var/folders/xb/6svjl9sj43z6gfhlcp2nc5540000gr/T/ipykernel_80825/2718244291.py:20: PerformanceWarning: indexing past lexsort depth may impact performance.\n",
      "  t_d = t_data.loc[med_lab_pair][['SUBJECT_ID','HADM_ID', k, k_a, cols_d[k_a]]]\n",
      "/var/folders/xb/6svjl9sj43z6gfhlcp2nc5540000gr/T/ipykernel_80825/2718244291.py:20: PerformanceWarning: indexing past lexsort depth may impact performance.\n",
      "  t_d = t_data.loc[med_lab_pair][['SUBJECT_ID','HADM_ID', k, k_a, cols_d[k_a]]]\n",
      "/var/folders/xb/6svjl9sj43z6gfhlcp2nc5540000gr/T/ipykernel_80825/2718244291.py:20: PerformanceWarning: indexing past lexsort depth may impact performance.\n",
      "  t_d = t_data.loc[med_lab_pair][['SUBJECT_ID','HADM_ID', k, k_a, cols_d[k_a]]]\n",
      "/var/folders/xb/6svjl9sj43z6gfhlcp2nc5540000gr/T/ipykernel_80825/2718244291.py:20: PerformanceWarning: indexing past lexsort depth may impact performance.\n",
      "  t_d = t_data.loc[med_lab_pair][['SUBJECT_ID','HADM_ID', k, k_a, cols_d[k_a]]]\n",
      "/var/folders/xb/6svjl9sj43z6gfhlcp2nc5540000gr/T/ipykernel_80825/2718244291.py:20: PerformanceWarning: indexing past lexsort depth may impact performance.\n",
      "  t_d = t_data.loc[med_lab_pair][['SUBJECT_ID','HADM_ID', k, k_a, cols_d[k_a]]]\n",
      "/var/folders/xb/6svjl9sj43z6gfhlcp2nc5540000gr/T/ipykernel_80825/2718244291.py:20: PerformanceWarning: indexing past lexsort depth may impact performance.\n",
      "  t_d = t_data.loc[med_lab_pair][['SUBJECT_ID','HADM_ID', k, k_a, cols_d[k_a]]]\n",
      "/var/folders/xb/6svjl9sj43z6gfhlcp2nc5540000gr/T/ipykernel_80825/2718244291.py:20: PerformanceWarning: indexing past lexsort depth may impact performance.\n",
      "  t_d = t_data.loc[med_lab_pair][['SUBJECT_ID','HADM_ID', k, k_a, cols_d[k_a]]]\n",
      "/var/folders/xb/6svjl9sj43z6gfhlcp2nc5540000gr/T/ipykernel_80825/2718244291.py:20: PerformanceWarning: indexing past lexsort depth may impact performance.\n",
      "  t_d = t_data.loc[med_lab_pair][['SUBJECT_ID','HADM_ID', k, k_a, cols_d[k_a]]]\n",
      "/var/folders/xb/6svjl9sj43z6gfhlcp2nc5540000gr/T/ipykernel_80825/2718244291.py:20: PerformanceWarning: indexing past lexsort depth may impact performance.\n",
      "  t_d = t_data.loc[med_lab_pair][['SUBJECT_ID','HADM_ID', k, k_a, cols_d[k_a]]]\n",
      "/var/folders/xb/6svjl9sj43z6gfhlcp2nc5540000gr/T/ipykernel_80825/2718244291.py:20: PerformanceWarning: indexing past lexsort depth may impact performance.\n",
      "  t_d = t_data.loc[med_lab_pair][['SUBJECT_ID','HADM_ID', k, k_a, cols_d[k_a]]]\n",
      "/var/folders/xb/6svjl9sj43z6gfhlcp2nc5540000gr/T/ipykernel_80825/2718244291.py:20: PerformanceWarning: indexing past lexsort depth may impact performance.\n",
      "  t_d = t_data.loc[med_lab_pair][['SUBJECT_ID','HADM_ID', k, k_a, cols_d[k_a]]]\n",
      "/var/folders/xb/6svjl9sj43z6gfhlcp2nc5540000gr/T/ipykernel_80825/2718244291.py:20: PerformanceWarning: indexing past lexsort depth may impact performance.\n",
      "  t_d = t_data.loc[med_lab_pair][['SUBJECT_ID','HADM_ID', k, k_a, cols_d[k_a]]]\n",
      "/var/folders/xb/6svjl9sj43z6gfhlcp2nc5540000gr/T/ipykernel_80825/2718244291.py:20: PerformanceWarning: indexing past lexsort depth may impact performance.\n",
      "  t_d = t_data.loc[med_lab_pair][['SUBJECT_ID','HADM_ID', k, k_a, cols_d[k_a]]]\n",
      "/var/folders/xb/6svjl9sj43z6gfhlcp2nc5540000gr/T/ipykernel_80825/2718244291.py:20: PerformanceWarning: indexing past lexsort depth may impact performance.\n",
      "  t_d = t_data.loc[med_lab_pair][['SUBJECT_ID','HADM_ID', k, k_a, cols_d[k_a]]]\n",
      "/var/folders/xb/6svjl9sj43z6gfhlcp2nc5540000gr/T/ipykernel_80825/2718244291.py:20: PerformanceWarning: indexing past lexsort depth may impact performance.\n",
      "  t_d = t_data.loc[med_lab_pair][['SUBJECT_ID','HADM_ID', k, k_a, cols_d[k_a]]]\n",
      "/var/folders/xb/6svjl9sj43z6gfhlcp2nc5540000gr/T/ipykernel_80825/2718244291.py:20: PerformanceWarning: indexing past lexsort depth may impact performance.\n",
      "  t_d = t_data.loc[med_lab_pair][['SUBJECT_ID','HADM_ID', k, k_a, cols_d[k_a]]]\n",
      "/var/folders/xb/6svjl9sj43z6gfhlcp2nc5540000gr/T/ipykernel_80825/2718244291.py:20: PerformanceWarning: indexing past lexsort depth may impact performance.\n",
      "  t_d = t_data.loc[med_lab_pair][['SUBJECT_ID','HADM_ID', k, k_a, cols_d[k_a]]]\n",
      "/var/folders/xb/6svjl9sj43z6gfhlcp2nc5540000gr/T/ipykernel_80825/2718244291.py:20: PerformanceWarning: indexing past lexsort depth may impact performance.\n",
      "  t_d = t_data.loc[med_lab_pair][['SUBJECT_ID','HADM_ID', k, k_a, cols_d[k_a]]]\n",
      "/var/folders/xb/6svjl9sj43z6gfhlcp2nc5540000gr/T/ipykernel_80825/2718244291.py:20: PerformanceWarning: indexing past lexsort depth may impact performance.\n",
      "  t_d = t_data.loc[med_lab_pair][['SUBJECT_ID','HADM_ID', k, k_a, cols_d[k_a]]]\n",
      "/var/folders/xb/6svjl9sj43z6gfhlcp2nc5540000gr/T/ipykernel_80825/2718244291.py:20: PerformanceWarning: indexing past lexsort depth may impact performance.\n",
      "  t_d = t_data.loc[med_lab_pair][['SUBJECT_ID','HADM_ID', k, k_a, cols_d[k_a]]]\n",
      "/var/folders/xb/6svjl9sj43z6gfhlcp2nc5540000gr/T/ipykernel_80825/2718244291.py:20: PerformanceWarning: indexing past lexsort depth may impact performance.\n",
      "  t_d = t_data.loc[med_lab_pair][['SUBJECT_ID','HADM_ID', k, k_a, cols_d[k_a]]]\n",
      "/var/folders/xb/6svjl9sj43z6gfhlcp2nc5540000gr/T/ipykernel_80825/2718244291.py:20: PerformanceWarning: indexing past lexsort depth may impact performance.\n",
      "  t_d = t_data.loc[med_lab_pair][['SUBJECT_ID','HADM_ID', k, k_a, cols_d[k_a]]]\n",
      "/var/folders/xb/6svjl9sj43z6gfhlcp2nc5540000gr/T/ipykernel_80825/2718244291.py:20: PerformanceWarning: indexing past lexsort depth may impact performance.\n",
      "  t_d = t_data.loc[med_lab_pair][['SUBJECT_ID','HADM_ID', k, k_a, cols_d[k_a]]]\n",
      "/var/folders/xb/6svjl9sj43z6gfhlcp2nc5540000gr/T/ipykernel_80825/2718244291.py:20: PerformanceWarning: indexing past lexsort depth may impact performance.\n",
      "  t_d = t_data.loc[med_lab_pair][['SUBJECT_ID','HADM_ID', k, k_a, cols_d[k_a]]]\n",
      "/var/folders/xb/6svjl9sj43z6gfhlcp2nc5540000gr/T/ipykernel_80825/2718244291.py:20: PerformanceWarning: indexing past lexsort depth may impact performance.\n",
      "  t_d = t_data.loc[med_lab_pair][['SUBJECT_ID','HADM_ID', k, k_a, cols_d[k_a]]]\n",
      "/var/folders/xb/6svjl9sj43z6gfhlcp2nc5540000gr/T/ipykernel_80825/2718244291.py:20: PerformanceWarning: indexing past lexsort depth may impact performance.\n",
      "  t_d = t_data.loc[med_lab_pair][['SUBJECT_ID','HADM_ID', k, k_a, cols_d[k_a]]]\n",
      "/var/folders/xb/6svjl9sj43z6gfhlcp2nc5540000gr/T/ipykernel_80825/2718244291.py:20: PerformanceWarning: indexing past lexsort depth may impact performance.\n",
      "  t_d = t_data.loc[med_lab_pair][['SUBJECT_ID','HADM_ID', k, k_a, cols_d[k_a]]]\n",
      "/var/folders/xb/6svjl9sj43z6gfhlcp2nc5540000gr/T/ipykernel_80825/2718244291.py:20: PerformanceWarning: indexing past lexsort depth may impact performance.\n",
      "  t_d = t_data.loc[med_lab_pair][['SUBJECT_ID','HADM_ID', k, k_a, cols_d[k_a]]]\n",
      "/var/folders/xb/6svjl9sj43z6gfhlcp2nc5540000gr/T/ipykernel_80825/2718244291.py:20: PerformanceWarning: indexing past lexsort depth may impact performance.\n",
      "  t_d = t_data.loc[med_lab_pair][['SUBJECT_ID','HADM_ID', k, k_a, cols_d[k_a]]]\n",
      "/var/folders/xb/6svjl9sj43z6gfhlcp2nc5540000gr/T/ipykernel_80825/2718244291.py:20: PerformanceWarning: indexing past lexsort depth may impact performance.\n",
      "  t_d = t_data.loc[med_lab_pair][['SUBJECT_ID','HADM_ID', k, k_a, cols_d[k_a]]]\n",
      "/var/folders/xb/6svjl9sj43z6gfhlcp2nc5540000gr/T/ipykernel_80825/2718244291.py:20: PerformanceWarning: indexing past lexsort depth may impact performance.\n",
      "  t_d = t_data.loc[med_lab_pair][['SUBJECT_ID','HADM_ID', k, k_a, cols_d[k_a]]]\n",
      "/var/folders/xb/6svjl9sj43z6gfhlcp2nc5540000gr/T/ipykernel_80825/2718244291.py:20: PerformanceWarning: indexing past lexsort depth may impact performance.\n",
      "  t_d = t_data.loc[med_lab_pair][['SUBJECT_ID','HADM_ID', k, k_a, cols_d[k_a]]]\n",
      "/var/folders/xb/6svjl9sj43z6gfhlcp2nc5540000gr/T/ipykernel_80825/2718244291.py:20: PerformanceWarning: indexing past lexsort depth may impact performance.\n",
      "  t_d = t_data.loc[med_lab_pair][['SUBJECT_ID','HADM_ID', k, k_a, cols_d[k_a]]]\n",
      "/var/folders/xb/6svjl9sj43z6gfhlcp2nc5540000gr/T/ipykernel_80825/2718244291.py:20: PerformanceWarning: indexing past lexsort depth may impact performance.\n",
      "  t_d = t_data.loc[med_lab_pair][['SUBJECT_ID','HADM_ID', k, k_a, cols_d[k_a]]]\n",
      "/var/folders/xb/6svjl9sj43z6gfhlcp2nc5540000gr/T/ipykernel_80825/2718244291.py:20: PerformanceWarning: indexing past lexsort depth may impact performance.\n",
      "  t_d = t_data.loc[med_lab_pair][['SUBJECT_ID','HADM_ID', k, k_a, cols_d[k_a]]]\n",
      "/var/folders/xb/6svjl9sj43z6gfhlcp2nc5540000gr/T/ipykernel_80825/2718244291.py:20: PerformanceWarning: indexing past lexsort depth may impact performance.\n",
      "  t_d = t_data.loc[med_lab_pair][['SUBJECT_ID','HADM_ID', k, k_a, cols_d[k_a]]]\n",
      "/var/folders/xb/6svjl9sj43z6gfhlcp2nc5540000gr/T/ipykernel_80825/2718244291.py:20: PerformanceWarning: indexing past lexsort depth may impact performance.\n",
      "  t_d = t_data.loc[med_lab_pair][['SUBJECT_ID','HADM_ID', k, k_a, cols_d[k_a]]]\n",
      "/var/folders/xb/6svjl9sj43z6gfhlcp2nc5540000gr/T/ipykernel_80825/2718244291.py:20: PerformanceWarning: indexing past lexsort depth may impact performance.\n",
      "  t_d = t_data.loc[med_lab_pair][['SUBJECT_ID','HADM_ID', k, k_a, cols_d[k_a]]]\n",
      "/var/folders/xb/6svjl9sj43z6gfhlcp2nc5540000gr/T/ipykernel_80825/2718244291.py:20: PerformanceWarning: indexing past lexsort depth may impact performance.\n",
      "  t_d = t_data.loc[med_lab_pair][['SUBJECT_ID','HADM_ID', k, k_a, cols_d[k_a]]]\n",
      "/var/folders/xb/6svjl9sj43z6gfhlcp2nc5540000gr/T/ipykernel_80825/2718244291.py:20: PerformanceWarning: indexing past lexsort depth may impact performance.\n",
      "  t_d = t_data.loc[med_lab_pair][['SUBJECT_ID','HADM_ID', k, k_a, cols_d[k_a]]]\n",
      "/var/folders/xb/6svjl9sj43z6gfhlcp2nc5540000gr/T/ipykernel_80825/2718244291.py:20: PerformanceWarning: indexing past lexsort depth may impact performance.\n",
      "  t_d = t_data.loc[med_lab_pair][['SUBJECT_ID','HADM_ID', k, k_a, cols_d[k_a]]]\n",
      "/var/folders/xb/6svjl9sj43z6gfhlcp2nc5540000gr/T/ipykernel_80825/2718244291.py:20: PerformanceWarning: indexing past lexsort depth may impact performance.\n",
      "  t_d = t_data.loc[med_lab_pair][['SUBJECT_ID','HADM_ID', k, k_a, cols_d[k_a]]]\n",
      "/var/folders/xb/6svjl9sj43z6gfhlcp2nc5540000gr/T/ipykernel_80825/2718244291.py:20: PerformanceWarning: indexing past lexsort depth may impact performance.\n",
      "  t_d = t_data.loc[med_lab_pair][['SUBJECT_ID','HADM_ID', k, k_a, cols_d[k_a]]]\n",
      "/var/folders/xb/6svjl9sj43z6gfhlcp2nc5540000gr/T/ipykernel_80825/2718244291.py:20: PerformanceWarning: indexing past lexsort depth may impact performance.\n",
      "  t_d = t_data.loc[med_lab_pair][['SUBJECT_ID','HADM_ID', k, k_a, cols_d[k_a]]]\n",
      "/var/folders/xb/6svjl9sj43z6gfhlcp2nc5540000gr/T/ipykernel_80825/2718244291.py:20: PerformanceWarning: indexing past lexsort depth may impact performance.\n",
      "  t_d = t_data.loc[med_lab_pair][['SUBJECT_ID','HADM_ID', k, k_a, cols_d[k_a]]]\n",
      "/var/folders/xb/6svjl9sj43z6gfhlcp2nc5540000gr/T/ipykernel_80825/2718244291.py:20: PerformanceWarning: indexing past lexsort depth may impact performance.\n",
      "  t_d = t_data.loc[med_lab_pair][['SUBJECT_ID','HADM_ID', k, k_a, cols_d[k_a]]]\n",
      "/var/folders/xb/6svjl9sj43z6gfhlcp2nc5540000gr/T/ipykernel_80825/2718244291.py:20: PerformanceWarning: indexing past lexsort depth may impact performance.\n",
      "  t_d = t_data.loc[med_lab_pair][['SUBJECT_ID','HADM_ID', k, k_a, cols_d[k_a]]]\n",
      "/var/folders/xb/6svjl9sj43z6gfhlcp2nc5540000gr/T/ipykernel_80825/2718244291.py:20: PerformanceWarning: indexing past lexsort depth may impact performance.\n",
      "  t_d = t_data.loc[med_lab_pair][['SUBJECT_ID','HADM_ID', k, k_a, cols_d[k_a]]]\n",
      "/var/folders/xb/6svjl9sj43z6gfhlcp2nc5540000gr/T/ipykernel_80825/2718244291.py:20: PerformanceWarning: indexing past lexsort depth may impact performance.\n",
      "  t_d = t_data.loc[med_lab_pair][['SUBJECT_ID','HADM_ID', k, k_a, cols_d[k_a]]]\n",
      "/var/folders/xb/6svjl9sj43z6gfhlcp2nc5540000gr/T/ipykernel_80825/2718244291.py:20: PerformanceWarning: indexing past lexsort depth may impact performance.\n",
      "  t_d = t_data.loc[med_lab_pair][['SUBJECT_ID','HADM_ID', k, k_a, cols_d[k_a]]]\n",
      "/var/folders/xb/6svjl9sj43z6gfhlcp2nc5540000gr/T/ipykernel_80825/2718244291.py:20: PerformanceWarning: indexing past lexsort depth may impact performance.\n",
      "  t_d = t_data.loc[med_lab_pair][['SUBJECT_ID','HADM_ID', k, k_a, cols_d[k_a]]]\n",
      "/var/folders/xb/6svjl9sj43z6gfhlcp2nc5540000gr/T/ipykernel_80825/2718244291.py:20: PerformanceWarning: indexing past lexsort depth may impact performance.\n",
      "  t_d = t_data.loc[med_lab_pair][['SUBJECT_ID','HADM_ID', k, k_a, cols_d[k_a]]]\n",
      "/var/folders/xb/6svjl9sj43z6gfhlcp2nc5540000gr/T/ipykernel_80825/2718244291.py:20: PerformanceWarning: indexing past lexsort depth may impact performance.\n",
      "  t_d = t_data.loc[med_lab_pair][['SUBJECT_ID','HADM_ID', k, k_a, cols_d[k_a]]]\n",
      "/var/folders/xb/6svjl9sj43z6gfhlcp2nc5540000gr/T/ipykernel_80825/2718244291.py:20: PerformanceWarning: indexing past lexsort depth may impact performance.\n",
      "  t_d = t_data.loc[med_lab_pair][['SUBJECT_ID','HADM_ID', k, k_a, cols_d[k_a]]]\n",
      "/var/folders/xb/6svjl9sj43z6gfhlcp2nc5540000gr/T/ipykernel_80825/2718244291.py:20: PerformanceWarning: indexing past lexsort depth may impact performance.\n",
      "  t_d = t_data.loc[med_lab_pair][['SUBJECT_ID','HADM_ID', k, k_a, cols_d[k_a]]]\n",
      "/var/folders/xb/6svjl9sj43z6gfhlcp2nc5540000gr/T/ipykernel_80825/2718244291.py:20: PerformanceWarning: indexing past lexsort depth may impact performance.\n",
      "  t_d = t_data.loc[med_lab_pair][['SUBJECT_ID','HADM_ID', k, k_a, cols_d[k_a]]]\n",
      "/var/folders/xb/6svjl9sj43z6gfhlcp2nc5540000gr/T/ipykernel_80825/2718244291.py:20: PerformanceWarning: indexing past lexsort depth may impact performance.\n",
      "  t_d = t_data.loc[med_lab_pair][['SUBJECT_ID','HADM_ID', k, k_a, cols_d[k_a]]]\n",
      "/var/folders/xb/6svjl9sj43z6gfhlcp2nc5540000gr/T/ipykernel_80825/2718244291.py:20: PerformanceWarning: indexing past lexsort depth may impact performance.\n",
      "  t_d = t_data.loc[med_lab_pair][['SUBJECT_ID','HADM_ID', k, k_a, cols_d[k_a]]]\n",
      "/var/folders/xb/6svjl9sj43z6gfhlcp2nc5540000gr/T/ipykernel_80825/2718244291.py:20: PerformanceWarning: indexing past lexsort depth may impact performance.\n",
      "  t_d = t_data.loc[med_lab_pair][['SUBJECT_ID','HADM_ID', k, k_a, cols_d[k_a]]]\n",
      "/var/folders/xb/6svjl9sj43z6gfhlcp2nc5540000gr/T/ipykernel_80825/2718244291.py:20: PerformanceWarning: indexing past lexsort depth may impact performance.\n",
      "  t_d = t_data.loc[med_lab_pair][['SUBJECT_ID','HADM_ID', k, k_a, cols_d[k_a]]]\n",
      "/var/folders/xb/6svjl9sj43z6gfhlcp2nc5540000gr/T/ipykernel_80825/2718244291.py:20: PerformanceWarning: indexing past lexsort depth may impact performance.\n",
      "  t_d = t_data.loc[med_lab_pair][['SUBJECT_ID','HADM_ID', k, k_a, cols_d[k_a]]]\n",
      "/var/folders/xb/6svjl9sj43z6gfhlcp2nc5540000gr/T/ipykernel_80825/2718244291.py:20: PerformanceWarning: indexing past lexsort depth may impact performance.\n",
      "  t_d = t_data.loc[med_lab_pair][['SUBJECT_ID','HADM_ID', k, k_a, cols_d[k_a]]]\n",
      "/var/folders/xb/6svjl9sj43z6gfhlcp2nc5540000gr/T/ipykernel_80825/2718244291.py:20: PerformanceWarning: indexing past lexsort depth may impact performance.\n",
      "  t_d = t_data.loc[med_lab_pair][['SUBJECT_ID','HADM_ID', k, k_a, cols_d[k_a]]]\n",
      "/var/folders/xb/6svjl9sj43z6gfhlcp2nc5540000gr/T/ipykernel_80825/2718244291.py:20: PerformanceWarning: indexing past lexsort depth may impact performance.\n",
      "  t_d = t_data.loc[med_lab_pair][['SUBJECT_ID','HADM_ID', k, k_a, cols_d[k_a]]]\n",
      "/var/folders/xb/6svjl9sj43z6gfhlcp2nc5540000gr/T/ipykernel_80825/2718244291.py:20: PerformanceWarning: indexing past lexsort depth may impact performance.\n",
      "  t_d = t_data.loc[med_lab_pair][['SUBJECT_ID','HADM_ID', k, k_a, cols_d[k_a]]]\n",
      "/var/folders/xb/6svjl9sj43z6gfhlcp2nc5540000gr/T/ipykernel_80825/2718244291.py:20: PerformanceWarning: indexing past lexsort depth may impact performance.\n",
      "  t_d = t_data.loc[med_lab_pair][['SUBJECT_ID','HADM_ID', k, k_a, cols_d[k_a]]]\n",
      "/var/folders/xb/6svjl9sj43z6gfhlcp2nc5540000gr/T/ipykernel_80825/2718244291.py:20: PerformanceWarning: indexing past lexsort depth may impact performance.\n",
      "  t_d = t_data.loc[med_lab_pair][['SUBJECT_ID','HADM_ID', k, k_a, cols_d[k_a]]]\n",
      "/var/folders/xb/6svjl9sj43z6gfhlcp2nc5540000gr/T/ipykernel_80825/2718244291.py:20: PerformanceWarning: indexing past lexsort depth may impact performance.\n",
      "  t_d = t_data.loc[med_lab_pair][['SUBJECT_ID','HADM_ID', k, k_a, cols_d[k_a]]]\n",
      "/var/folders/xb/6svjl9sj43z6gfhlcp2nc5540000gr/T/ipykernel_80825/2718244291.py:20: PerformanceWarning: indexing past lexsort depth may impact performance.\n",
      "  t_d = t_data.loc[med_lab_pair][['SUBJECT_ID','HADM_ID', k, k_a, cols_d[k_a]]]\n",
      "/var/folders/xb/6svjl9sj43z6gfhlcp2nc5540000gr/T/ipykernel_80825/2718244291.py:20: PerformanceWarning: indexing past lexsort depth may impact performance.\n",
      "  t_d = t_data.loc[med_lab_pair][['SUBJECT_ID','HADM_ID', k, k_a, cols_d[k_a]]]\n",
      "/var/folders/xb/6svjl9sj43z6gfhlcp2nc5540000gr/T/ipykernel_80825/2718244291.py:20: PerformanceWarning: indexing past lexsort depth may impact performance.\n",
      "  t_d = t_data.loc[med_lab_pair][['SUBJECT_ID','HADM_ID', k, k_a, cols_d[k_a]]]\n",
      "/var/folders/xb/6svjl9sj43z6gfhlcp2nc5540000gr/T/ipykernel_80825/2718244291.py:20: PerformanceWarning: indexing past lexsort depth may impact performance.\n",
      "  t_d = t_data.loc[med_lab_pair][['SUBJECT_ID','HADM_ID', k, k_a, cols_d[k_a]]]\n",
      "/var/folders/xb/6svjl9sj43z6gfhlcp2nc5540000gr/T/ipykernel_80825/2718244291.py:20: PerformanceWarning: indexing past lexsort depth may impact performance.\n",
      "  t_d = t_data.loc[med_lab_pair][['SUBJECT_ID','HADM_ID', k, k_a, cols_d[k_a]]]\n",
      "/var/folders/xb/6svjl9sj43z6gfhlcp2nc5540000gr/T/ipykernel_80825/2718244291.py:20: PerformanceWarning: indexing past lexsort depth may impact performance.\n",
      "  t_d = t_data.loc[med_lab_pair][['SUBJECT_ID','HADM_ID', k, k_a, cols_d[k_a]]]\n",
      "/var/folders/xb/6svjl9sj43z6gfhlcp2nc5540000gr/T/ipykernel_80825/2718244291.py:20: PerformanceWarning: indexing past lexsort depth may impact performance.\n",
      "  t_d = t_data.loc[med_lab_pair][['SUBJECT_ID','HADM_ID', k, k_a, cols_d[k_a]]]\n",
      "/var/folders/xb/6svjl9sj43z6gfhlcp2nc5540000gr/T/ipykernel_80825/2718244291.py:20: PerformanceWarning: indexing past lexsort depth may impact performance.\n",
      "  t_d = t_data.loc[med_lab_pair][['SUBJECT_ID','HADM_ID', k, k_a, cols_d[k_a]]]\n",
      "/var/folders/xb/6svjl9sj43z6gfhlcp2nc5540000gr/T/ipykernel_80825/2718244291.py:20: PerformanceWarning: indexing past lexsort depth may impact performance.\n",
      "  t_d = t_data.loc[med_lab_pair][['SUBJECT_ID','HADM_ID', k, k_a, cols_d[k_a]]]\n",
      "/var/folders/xb/6svjl9sj43z6gfhlcp2nc5540000gr/T/ipykernel_80825/2718244291.py:20: PerformanceWarning: indexing past lexsort depth may impact performance.\n",
      "  t_d = t_data.loc[med_lab_pair][['SUBJECT_ID','HADM_ID', k, k_a, cols_d[k_a]]]\n",
      "/var/folders/xb/6svjl9sj43z6gfhlcp2nc5540000gr/T/ipykernel_80825/2718244291.py:20: PerformanceWarning: indexing past lexsort depth may impact performance.\n",
      "  t_d = t_data.loc[med_lab_pair][['SUBJECT_ID','HADM_ID', k, k_a, cols_d[k_a]]]\n",
      "/var/folders/xb/6svjl9sj43z6gfhlcp2nc5540000gr/T/ipykernel_80825/2718244291.py:20: PerformanceWarning: indexing past lexsort depth may impact performance.\n",
      "  t_d = t_data.loc[med_lab_pair][['SUBJECT_ID','HADM_ID', k, k_a, cols_d[k_a]]]\n",
      "/var/folders/xb/6svjl9sj43z6gfhlcp2nc5540000gr/T/ipykernel_80825/2718244291.py:20: PerformanceWarning: indexing past lexsort depth may impact performance.\n",
      "  t_d = t_data.loc[med_lab_pair][['SUBJECT_ID','HADM_ID', k, k_a, cols_d[k_a]]]\n",
      "/var/folders/xb/6svjl9sj43z6gfhlcp2nc5540000gr/T/ipykernel_80825/2718244291.py:20: PerformanceWarning: indexing past lexsort depth may impact performance.\n",
      "  t_d = t_data.loc[med_lab_pair][['SUBJECT_ID','HADM_ID', k, k_a, cols_d[k_a]]]\n",
      "/var/folders/xb/6svjl9sj43z6gfhlcp2nc5540000gr/T/ipykernel_80825/2718244291.py:20: PerformanceWarning: indexing past lexsort depth may impact performance.\n",
      "  t_d = t_data.loc[med_lab_pair][['SUBJECT_ID','HADM_ID', k, k_a, cols_d[k_a]]]\n",
      "/var/folders/xb/6svjl9sj43z6gfhlcp2nc5540000gr/T/ipykernel_80825/2718244291.py:20: PerformanceWarning: indexing past lexsort depth may impact performance.\n",
      "  t_d = t_data.loc[med_lab_pair][['SUBJECT_ID','HADM_ID', k, k_a, cols_d[k_a]]]\n",
      "/var/folders/xb/6svjl9sj43z6gfhlcp2nc5540000gr/T/ipykernel_80825/2718244291.py:20: PerformanceWarning: indexing past lexsort depth may impact performance.\n",
      "  t_d = t_data.loc[med_lab_pair][['SUBJECT_ID','HADM_ID', k, k_a, cols_d[k_a]]]\n",
      "/var/folders/xb/6svjl9sj43z6gfhlcp2nc5540000gr/T/ipykernel_80825/2718244291.py:20: PerformanceWarning: indexing past lexsort depth may impact performance.\n",
      "  t_d = t_data.loc[med_lab_pair][['SUBJECT_ID','HADM_ID', k, k_a, cols_d[k_a]]]\n",
      "/var/folders/xb/6svjl9sj43z6gfhlcp2nc5540000gr/T/ipykernel_80825/2718244291.py:20: PerformanceWarning: indexing past lexsort depth may impact performance.\n",
      "  t_d = t_data.loc[med_lab_pair][['SUBJECT_ID','HADM_ID', k, k_a, cols_d[k_a]]]\n",
      "/var/folders/xb/6svjl9sj43z6gfhlcp2nc5540000gr/T/ipykernel_80825/2718244291.py:20: PerformanceWarning: indexing past lexsort depth may impact performance.\n",
      "  t_d = t_data.loc[med_lab_pair][['SUBJECT_ID','HADM_ID', k, k_a, cols_d[k_a]]]\n",
      "/var/folders/xb/6svjl9sj43z6gfhlcp2nc5540000gr/T/ipykernel_80825/2718244291.py:20: PerformanceWarning: indexing past lexsort depth may impact performance.\n",
      "  t_d = t_data.loc[med_lab_pair][['SUBJECT_ID','HADM_ID', k, k_a, cols_d[k_a]]]\n",
      "/var/folders/xb/6svjl9sj43z6gfhlcp2nc5540000gr/T/ipykernel_80825/2718244291.py:20: PerformanceWarning: indexing past lexsort depth may impact performance.\n",
      "  t_d = t_data.loc[med_lab_pair][['SUBJECT_ID','HADM_ID', k, k_a, cols_d[k_a]]]\n",
      "/var/folders/xb/6svjl9sj43z6gfhlcp2nc5540000gr/T/ipykernel_80825/2718244291.py:20: PerformanceWarning: indexing past lexsort depth may impact performance.\n",
      "  t_d = t_data.loc[med_lab_pair][['SUBJECT_ID','HADM_ID', k, k_a, cols_d[k_a]]]\n",
      "/var/folders/xb/6svjl9sj43z6gfhlcp2nc5540000gr/T/ipykernel_80825/2718244291.py:20: PerformanceWarning: indexing past lexsort depth may impact performance.\n",
      "  t_d = t_data.loc[med_lab_pair][['SUBJECT_ID','HADM_ID', k, k_a, cols_d[k_a]]]\n",
      "/var/folders/xb/6svjl9sj43z6gfhlcp2nc5540000gr/T/ipykernel_80825/2718244291.py:20: PerformanceWarning: indexing past lexsort depth may impact performance.\n",
      "  t_d = t_data.loc[med_lab_pair][['SUBJECT_ID','HADM_ID', k, k_a, cols_d[k_a]]]\n",
      "/var/folders/xb/6svjl9sj43z6gfhlcp2nc5540000gr/T/ipykernel_80825/2718244291.py:20: PerformanceWarning: indexing past lexsort depth may impact performance.\n",
      "  t_d = t_data.loc[med_lab_pair][['SUBJECT_ID','HADM_ID', k, k_a, cols_d[k_a]]]\n",
      "/var/folders/xb/6svjl9sj43z6gfhlcp2nc5540000gr/T/ipykernel_80825/2718244291.py:20: PerformanceWarning: indexing past lexsort depth may impact performance.\n",
      "  t_d = t_data.loc[med_lab_pair][['SUBJECT_ID','HADM_ID', k, k_a, cols_d[k_a]]]\n",
      "/var/folders/xb/6svjl9sj43z6gfhlcp2nc5540000gr/T/ipykernel_80825/2718244291.py:20: PerformanceWarning: indexing past lexsort depth may impact performance.\n",
      "  t_d = t_data.loc[med_lab_pair][['SUBJECT_ID','HADM_ID', k, k_a, cols_d[k_a]]]\n",
      "/var/folders/xb/6svjl9sj43z6gfhlcp2nc5540000gr/T/ipykernel_80825/2718244291.py:20: PerformanceWarning: indexing past lexsort depth may impact performance.\n",
      "  t_d = t_data.loc[med_lab_pair][['SUBJECT_ID','HADM_ID', k, k_a, cols_d[k_a]]]\n",
      "/var/folders/xb/6svjl9sj43z6gfhlcp2nc5540000gr/T/ipykernel_80825/2718244291.py:20: PerformanceWarning: indexing past lexsort depth may impact performance.\n",
      "  t_d = t_data.loc[med_lab_pair][['SUBJECT_ID','HADM_ID', k, k_a, cols_d[k_a]]]\n",
      "/var/folders/xb/6svjl9sj43z6gfhlcp2nc5540000gr/T/ipykernel_80825/2718244291.py:20: PerformanceWarning: indexing past lexsort depth may impact performance.\n",
      "  t_d = t_data.loc[med_lab_pair][['SUBJECT_ID','HADM_ID', k, k_a, cols_d[k_a]]]\n",
      "/var/folders/xb/6svjl9sj43z6gfhlcp2nc5540000gr/T/ipykernel_80825/2718244291.py:20: PerformanceWarning: indexing past lexsort depth may impact performance.\n",
      "  t_d = t_data.loc[med_lab_pair][['SUBJECT_ID','HADM_ID', k, k_a, cols_d[k_a]]]\n",
      "/var/folders/xb/6svjl9sj43z6gfhlcp2nc5540000gr/T/ipykernel_80825/2718244291.py:20: PerformanceWarning: indexing past lexsort depth may impact performance.\n",
      "  t_d = t_data.loc[med_lab_pair][['SUBJECT_ID','HADM_ID', k, k_a, cols_d[k_a]]]\n",
      "/var/folders/xb/6svjl9sj43z6gfhlcp2nc5540000gr/T/ipykernel_80825/2718244291.py:20: PerformanceWarning: indexing past lexsort depth may impact performance.\n",
      "  t_d = t_data.loc[med_lab_pair][['SUBJECT_ID','HADM_ID', k, k_a, cols_d[k_a]]]\n",
      "/var/folders/xb/6svjl9sj43z6gfhlcp2nc5540000gr/T/ipykernel_80825/2718244291.py:20: PerformanceWarning: indexing past lexsort depth may impact performance.\n",
      "  t_d = t_data.loc[med_lab_pair][['SUBJECT_ID','HADM_ID', k, k_a, cols_d[k_a]]]\n",
      "/var/folders/xb/6svjl9sj43z6gfhlcp2nc5540000gr/T/ipykernel_80825/2718244291.py:20: PerformanceWarning: indexing past lexsort depth may impact performance.\n",
      "  t_d = t_data.loc[med_lab_pair][['SUBJECT_ID','HADM_ID', k, k_a, cols_d[k_a]]]\n",
      "/var/folders/xb/6svjl9sj43z6gfhlcp2nc5540000gr/T/ipykernel_80825/2718244291.py:20: PerformanceWarning: indexing past lexsort depth may impact performance.\n",
      "  t_d = t_data.loc[med_lab_pair][['SUBJECT_ID','HADM_ID', k, k_a, cols_d[k_a]]]\n",
      "/var/folders/xb/6svjl9sj43z6gfhlcp2nc5540000gr/T/ipykernel_80825/2718244291.py:20: PerformanceWarning: indexing past lexsort depth may impact performance.\n",
      "  t_d = t_data.loc[med_lab_pair][['SUBJECT_ID','HADM_ID', k, k_a, cols_d[k_a]]]\n",
      "/var/folders/xb/6svjl9sj43z6gfhlcp2nc5540000gr/T/ipykernel_80825/2718244291.py:20: PerformanceWarning: indexing past lexsort depth may impact performance.\n",
      "  t_d = t_data.loc[med_lab_pair][['SUBJECT_ID','HADM_ID', k, k_a, cols_d[k_a]]]\n",
      "/var/folders/xb/6svjl9sj43z6gfhlcp2nc5540000gr/T/ipykernel_80825/2718244291.py:20: PerformanceWarning: indexing past lexsort depth may impact performance.\n",
      "  t_d = t_data.loc[med_lab_pair][['SUBJECT_ID','HADM_ID', k, k_a, cols_d[k_a]]]\n",
      "/var/folders/xb/6svjl9sj43z6gfhlcp2nc5540000gr/T/ipykernel_80825/2718244291.py:20: PerformanceWarning: indexing past lexsort depth may impact performance.\n",
      "  t_d = t_data.loc[med_lab_pair][['SUBJECT_ID','HADM_ID', k, k_a, cols_d[k_a]]]\n",
      "/var/folders/xb/6svjl9sj43z6gfhlcp2nc5540000gr/T/ipykernel_80825/2718244291.py:20: PerformanceWarning: indexing past lexsort depth may impact performance.\n",
      "  t_d = t_data.loc[med_lab_pair][['SUBJECT_ID','HADM_ID', k, k_a, cols_d[k_a]]]\n",
      "/var/folders/xb/6svjl9sj43z6gfhlcp2nc5540000gr/T/ipykernel_80825/2718244291.py:20: PerformanceWarning: indexing past lexsort depth may impact performance.\n",
      "  t_d = t_data.loc[med_lab_pair][['SUBJECT_ID','HADM_ID', k, k_a, cols_d[k_a]]]\n",
      "/var/folders/xb/6svjl9sj43z6gfhlcp2nc5540000gr/T/ipykernel_80825/2718244291.py:20: PerformanceWarning: indexing past lexsort depth may impact performance.\n",
      "  t_d = t_data.loc[med_lab_pair][['SUBJECT_ID','HADM_ID', k, k_a, cols_d[k_a]]]\n",
      "/var/folders/xb/6svjl9sj43z6gfhlcp2nc5540000gr/T/ipykernel_80825/2718244291.py:20: PerformanceWarning: indexing past lexsort depth may impact performance.\n",
      "  t_d = t_data.loc[med_lab_pair][['SUBJECT_ID','HADM_ID', k, k_a, cols_d[k_a]]]\n",
      "/var/folders/xb/6svjl9sj43z6gfhlcp2nc5540000gr/T/ipykernel_80825/2718244291.py:20: PerformanceWarning: indexing past lexsort depth may impact performance.\n",
      "  t_d = t_data.loc[med_lab_pair][['SUBJECT_ID','HADM_ID', k, k_a, cols_d[k_a]]]\n",
      "/var/folders/xb/6svjl9sj43z6gfhlcp2nc5540000gr/T/ipykernel_80825/2718244291.py:20: PerformanceWarning: indexing past lexsort depth may impact performance.\n",
      "  t_d = t_data.loc[med_lab_pair][['SUBJECT_ID','HADM_ID', k, k_a, cols_d[k_a]]]\n",
      "/var/folders/xb/6svjl9sj43z6gfhlcp2nc5540000gr/T/ipykernel_80825/2718244291.py:20: PerformanceWarning: indexing past lexsort depth may impact performance.\n",
      "  t_d = t_data.loc[med_lab_pair][['SUBJECT_ID','HADM_ID', k, k_a, cols_d[k_a]]]\n",
      "/var/folders/xb/6svjl9sj43z6gfhlcp2nc5540000gr/T/ipykernel_80825/2718244291.py:20: PerformanceWarning: indexing past lexsort depth may impact performance.\n",
      "  t_d = t_data.loc[med_lab_pair][['SUBJECT_ID','HADM_ID', k, k_a, cols_d[k_a]]]\n",
      "/var/folders/xb/6svjl9sj43z6gfhlcp2nc5540000gr/T/ipykernel_80825/2718244291.py:20: PerformanceWarning: indexing past lexsort depth may impact performance.\n",
      "  t_d = t_data.loc[med_lab_pair][['SUBJECT_ID','HADM_ID', k, k_a, cols_d[k_a]]]\n",
      "/var/folders/xb/6svjl9sj43z6gfhlcp2nc5540000gr/T/ipykernel_80825/2718244291.py:20: PerformanceWarning: indexing past lexsort depth may impact performance.\n",
      "  t_d = t_data.loc[med_lab_pair][['SUBJECT_ID','HADM_ID', k, k_a, cols_d[k_a]]]\n",
      "/var/folders/xb/6svjl9sj43z6gfhlcp2nc5540000gr/T/ipykernel_80825/2718244291.py:20: PerformanceWarning: indexing past lexsort depth may impact performance.\n",
      "  t_d = t_data.loc[med_lab_pair][['SUBJECT_ID','HADM_ID', k, k_a, cols_d[k_a]]]\n",
      "/var/folders/xb/6svjl9sj43z6gfhlcp2nc5540000gr/T/ipykernel_80825/2718244291.py:20: PerformanceWarning: indexing past lexsort depth may impact performance.\n",
      "  t_d = t_data.loc[med_lab_pair][['SUBJECT_ID','HADM_ID', k, k_a, cols_d[k_a]]]\n",
      "/var/folders/xb/6svjl9sj43z6gfhlcp2nc5540000gr/T/ipykernel_80825/2718244291.py:20: PerformanceWarning: indexing past lexsort depth may impact performance.\n",
      "  t_d = t_data.loc[med_lab_pair][['SUBJECT_ID','HADM_ID', k, k_a, cols_d[k_a]]]\n",
      "/var/folders/xb/6svjl9sj43z6gfhlcp2nc5540000gr/T/ipykernel_80825/2718244291.py:20: PerformanceWarning: indexing past lexsort depth may impact performance.\n",
      "  t_d = t_data.loc[med_lab_pair][['SUBJECT_ID','HADM_ID', k, k_a, cols_d[k_a]]]\n",
      "/var/folders/xb/6svjl9sj43z6gfhlcp2nc5540000gr/T/ipykernel_80825/2718244291.py:20: PerformanceWarning: indexing past lexsort depth may impact performance.\n",
      "  t_d = t_data.loc[med_lab_pair][['SUBJECT_ID','HADM_ID', k, k_a, cols_d[k_a]]]\n",
      "/var/folders/xb/6svjl9sj43z6gfhlcp2nc5540000gr/T/ipykernel_80825/2718244291.py:20: PerformanceWarning: indexing past lexsort depth may impact performance.\n",
      "  t_d = t_data.loc[med_lab_pair][['SUBJECT_ID','HADM_ID', k, k_a, cols_d[k_a]]]\n",
      "/var/folders/xb/6svjl9sj43z6gfhlcp2nc5540000gr/T/ipykernel_80825/2718244291.py:20: PerformanceWarning: indexing past lexsort depth may impact performance.\n",
      "  t_d = t_data.loc[med_lab_pair][['SUBJECT_ID','HADM_ID', k, k_a, cols_d[k_a]]]\n",
      "/var/folders/xb/6svjl9sj43z6gfhlcp2nc5540000gr/T/ipykernel_80825/2718244291.py:20: PerformanceWarning: indexing past lexsort depth may impact performance.\n",
      "  t_d = t_data.loc[med_lab_pair][['SUBJECT_ID','HADM_ID', k, k_a, cols_d[k_a]]]\n",
      "/var/folders/xb/6svjl9sj43z6gfhlcp2nc5540000gr/T/ipykernel_80825/2718244291.py:20: PerformanceWarning: indexing past lexsort depth may impact performance.\n",
      "  t_d = t_data.loc[med_lab_pair][['SUBJECT_ID','HADM_ID', k, k_a, cols_d[k_a]]]\n",
      "/var/folders/xb/6svjl9sj43z6gfhlcp2nc5540000gr/T/ipykernel_80825/2718244291.py:20: PerformanceWarning: indexing past lexsort depth may impact performance.\n",
      "  t_d = t_data.loc[med_lab_pair][['SUBJECT_ID','HADM_ID', k, k_a, cols_d[k_a]]]\n",
      "/var/folders/xb/6svjl9sj43z6gfhlcp2nc5540000gr/T/ipykernel_80825/2718244291.py:20: PerformanceWarning: indexing past lexsort depth may impact performance.\n",
      "  t_d = t_data.loc[med_lab_pair][['SUBJECT_ID','HADM_ID', k, k_a, cols_d[k_a]]]\n",
      "/var/folders/xb/6svjl9sj43z6gfhlcp2nc5540000gr/T/ipykernel_80825/2718244291.py:20: PerformanceWarning: indexing past lexsort depth may impact performance.\n",
      "  t_d = t_data.loc[med_lab_pair][['SUBJECT_ID','HADM_ID', k, k_a, cols_d[k_a]]]\n",
      "/var/folders/xb/6svjl9sj43z6gfhlcp2nc5540000gr/T/ipykernel_80825/2718244291.py:20: PerformanceWarning: indexing past lexsort depth may impact performance.\n",
      "  t_d = t_data.loc[med_lab_pair][['SUBJECT_ID','HADM_ID', k, k_a, cols_d[k_a]]]\n",
      "/var/folders/xb/6svjl9sj43z6gfhlcp2nc5540000gr/T/ipykernel_80825/2718244291.py:20: PerformanceWarning: indexing past lexsort depth may impact performance.\n",
      "  t_d = t_data.loc[med_lab_pair][['SUBJECT_ID','HADM_ID', k, k_a, cols_d[k_a]]]\n",
      "/var/folders/xb/6svjl9sj43z6gfhlcp2nc5540000gr/T/ipykernel_80825/2718244291.py:20: PerformanceWarning: indexing past lexsort depth may impact performance.\n",
      "  t_d = t_data.loc[med_lab_pair][['SUBJECT_ID','HADM_ID', k, k_a, cols_d[k_a]]]\n",
      "/var/folders/xb/6svjl9sj43z6gfhlcp2nc5540000gr/T/ipykernel_80825/2718244291.py:20: PerformanceWarning: indexing past lexsort depth may impact performance.\n",
      "  t_d = t_data.loc[med_lab_pair][['SUBJECT_ID','HADM_ID', k, k_a, cols_d[k_a]]]\n",
      "/var/folders/xb/6svjl9sj43z6gfhlcp2nc5540000gr/T/ipykernel_80825/2718244291.py:20: PerformanceWarning: indexing past lexsort depth may impact performance.\n",
      "  t_d = t_data.loc[med_lab_pair][['SUBJECT_ID','HADM_ID', k, k_a, cols_d[k_a]]]\n"
     ]
    },
    {
     "name": "stdout",
     "output_type": "stream",
     "text": [
      "After Window:  after_abs_13_4_sp\n",
      "After Window:  after_abs_17_4_sp\n",
      "After Window:  after_abs_21_4_sp\n",
      "After Window:  after_abs_0_0_sp\n",
      "Before Window:  before_abs_13_4_sp\n",
      "After Window:  after_abs_1_4_sp\n",
      "After Window:  after_abs_5_4_sp\n",
      "After Window:  after_abs_9_4_sp\n",
      "After Window:  after_abs_13_4_sp\n",
      "After Window:  after_abs_17_4_sp\n",
      "After Window:  after_abs_21_4_sp\n",
      "After Window:  after_abs_0_0_sp\n",
      "Before Window:  before_abs_17_4_sp\n",
      "After Window:  after_abs_1_4_sp\n",
      "After Window:  after_abs_5_4_sp\n",
      "After Window:  after_abs_9_4_sp\n",
      "After Window:  after_abs_13_4_sp\n",
      "After Window:  after_abs_17_4_sp\n",
      "After Window:  after_abs_21_4_sp\n",
      "After Window:  after_abs_0_0_sp\n",
      "Before Window:  before_abs_21_4_sp\n",
      "After Window:  after_abs_1_4_sp\n",
      "After Window:  after_abs_5_4_sp\n"
     ]
    },
    {
     "name": "stderr",
     "output_type": "stream",
     "text": [
      "/var/folders/xb/6svjl9sj43z6gfhlcp2nc5540000gr/T/ipykernel_80825/2718244291.py:20: PerformanceWarning: indexing past lexsort depth may impact performance.\n",
      "  t_d = t_data.loc[med_lab_pair][['SUBJECT_ID','HADM_ID', k, k_a, cols_d[k_a]]]\n",
      "/var/folders/xb/6svjl9sj43z6gfhlcp2nc5540000gr/T/ipykernel_80825/2718244291.py:20: PerformanceWarning: indexing past lexsort depth may impact performance.\n",
      "  t_d = t_data.loc[med_lab_pair][['SUBJECT_ID','HADM_ID', k, k_a, cols_d[k_a]]]\n",
      "/var/folders/xb/6svjl9sj43z6gfhlcp2nc5540000gr/T/ipykernel_80825/2718244291.py:20: PerformanceWarning: indexing past lexsort depth may impact performance.\n",
      "  t_d = t_data.loc[med_lab_pair][['SUBJECT_ID','HADM_ID', k, k_a, cols_d[k_a]]]\n",
      "/var/folders/xb/6svjl9sj43z6gfhlcp2nc5540000gr/T/ipykernel_80825/2718244291.py:20: PerformanceWarning: indexing past lexsort depth may impact performance.\n",
      "  t_d = t_data.loc[med_lab_pair][['SUBJECT_ID','HADM_ID', k, k_a, cols_d[k_a]]]\n",
      "/var/folders/xb/6svjl9sj43z6gfhlcp2nc5540000gr/T/ipykernel_80825/2718244291.py:20: PerformanceWarning: indexing past lexsort depth may impact performance.\n",
      "  t_d = t_data.loc[med_lab_pair][['SUBJECT_ID','HADM_ID', k, k_a, cols_d[k_a]]]\n",
      "/var/folders/xb/6svjl9sj43z6gfhlcp2nc5540000gr/T/ipykernel_80825/2718244291.py:20: PerformanceWarning: indexing past lexsort depth may impact performance.\n",
      "  t_d = t_data.loc[med_lab_pair][['SUBJECT_ID','HADM_ID', k, k_a, cols_d[k_a]]]\n",
      "/var/folders/xb/6svjl9sj43z6gfhlcp2nc5540000gr/T/ipykernel_80825/2718244291.py:20: PerformanceWarning: indexing past lexsort depth may impact performance.\n",
      "  t_d = t_data.loc[med_lab_pair][['SUBJECT_ID','HADM_ID', k, k_a, cols_d[k_a]]]\n",
      "/var/folders/xb/6svjl9sj43z6gfhlcp2nc5540000gr/T/ipykernel_80825/2718244291.py:20: PerformanceWarning: indexing past lexsort depth may impact performance.\n",
      "  t_d = t_data.loc[med_lab_pair][['SUBJECT_ID','HADM_ID', k, k_a, cols_d[k_a]]]\n",
      "/var/folders/xb/6svjl9sj43z6gfhlcp2nc5540000gr/T/ipykernel_80825/2718244291.py:20: PerformanceWarning: indexing past lexsort depth may impact performance.\n",
      "  t_d = t_data.loc[med_lab_pair][['SUBJECT_ID','HADM_ID', k, k_a, cols_d[k_a]]]\n",
      "/var/folders/xb/6svjl9sj43z6gfhlcp2nc5540000gr/T/ipykernel_80825/2718244291.py:20: PerformanceWarning: indexing past lexsort depth may impact performance.\n",
      "  t_d = t_data.loc[med_lab_pair][['SUBJECT_ID','HADM_ID', k, k_a, cols_d[k_a]]]\n",
      "/var/folders/xb/6svjl9sj43z6gfhlcp2nc5540000gr/T/ipykernel_80825/2718244291.py:20: PerformanceWarning: indexing past lexsort depth may impact performance.\n",
      "  t_d = t_data.loc[med_lab_pair][['SUBJECT_ID','HADM_ID', k, k_a, cols_d[k_a]]]\n",
      "/var/folders/xb/6svjl9sj43z6gfhlcp2nc5540000gr/T/ipykernel_80825/2718244291.py:20: PerformanceWarning: indexing past lexsort depth may impact performance.\n",
      "  t_d = t_data.loc[med_lab_pair][['SUBJECT_ID','HADM_ID', k, k_a, cols_d[k_a]]]\n",
      "/var/folders/xb/6svjl9sj43z6gfhlcp2nc5540000gr/T/ipykernel_80825/2718244291.py:20: PerformanceWarning: indexing past lexsort depth may impact performance.\n",
      "  t_d = t_data.loc[med_lab_pair][['SUBJECT_ID','HADM_ID', k, k_a, cols_d[k_a]]]\n",
      "/var/folders/xb/6svjl9sj43z6gfhlcp2nc5540000gr/T/ipykernel_80825/2718244291.py:20: PerformanceWarning: indexing past lexsort depth may impact performance.\n",
      "  t_d = t_data.loc[med_lab_pair][['SUBJECT_ID','HADM_ID', k, k_a, cols_d[k_a]]]\n",
      "/var/folders/xb/6svjl9sj43z6gfhlcp2nc5540000gr/T/ipykernel_80825/2718244291.py:20: PerformanceWarning: indexing past lexsort depth may impact performance.\n",
      "  t_d = t_data.loc[med_lab_pair][['SUBJECT_ID','HADM_ID', k, k_a, cols_d[k_a]]]\n",
      "/var/folders/xb/6svjl9sj43z6gfhlcp2nc5540000gr/T/ipykernel_80825/2718244291.py:20: PerformanceWarning: indexing past lexsort depth may impact performance.\n",
      "  t_d = t_data.loc[med_lab_pair][['SUBJECT_ID','HADM_ID', k, k_a, cols_d[k_a]]]\n",
      "/var/folders/xb/6svjl9sj43z6gfhlcp2nc5540000gr/T/ipykernel_80825/2718244291.py:20: PerformanceWarning: indexing past lexsort depth may impact performance.\n",
      "  t_d = t_data.loc[med_lab_pair][['SUBJECT_ID','HADM_ID', k, k_a, cols_d[k_a]]]\n",
      "/var/folders/xb/6svjl9sj43z6gfhlcp2nc5540000gr/T/ipykernel_80825/2718244291.py:20: PerformanceWarning: indexing past lexsort depth may impact performance.\n",
      "  t_d = t_data.loc[med_lab_pair][['SUBJECT_ID','HADM_ID', k, k_a, cols_d[k_a]]]\n",
      "/var/folders/xb/6svjl9sj43z6gfhlcp2nc5540000gr/T/ipykernel_80825/2718244291.py:20: PerformanceWarning: indexing past lexsort depth may impact performance.\n",
      "  t_d = t_data.loc[med_lab_pair][['SUBJECT_ID','HADM_ID', k, k_a, cols_d[k_a]]]\n",
      "/var/folders/xb/6svjl9sj43z6gfhlcp2nc5540000gr/T/ipykernel_80825/2718244291.py:20: PerformanceWarning: indexing past lexsort depth may impact performance.\n",
      "  t_d = t_data.loc[med_lab_pair][['SUBJECT_ID','HADM_ID', k, k_a, cols_d[k_a]]]\n",
      "/var/folders/xb/6svjl9sj43z6gfhlcp2nc5540000gr/T/ipykernel_80825/2718244291.py:20: PerformanceWarning: indexing past lexsort depth may impact performance.\n",
      "  t_d = t_data.loc[med_lab_pair][['SUBJECT_ID','HADM_ID', k, k_a, cols_d[k_a]]]\n",
      "/var/folders/xb/6svjl9sj43z6gfhlcp2nc5540000gr/T/ipykernel_80825/2718244291.py:20: PerformanceWarning: indexing past lexsort depth may impact performance.\n",
      "  t_d = t_data.loc[med_lab_pair][['SUBJECT_ID','HADM_ID', k, k_a, cols_d[k_a]]]\n",
      "/var/folders/xb/6svjl9sj43z6gfhlcp2nc5540000gr/T/ipykernel_80825/2718244291.py:20: PerformanceWarning: indexing past lexsort depth may impact performance.\n",
      "  t_d = t_data.loc[med_lab_pair][['SUBJECT_ID','HADM_ID', k, k_a, cols_d[k_a]]]\n",
      "/var/folders/xb/6svjl9sj43z6gfhlcp2nc5540000gr/T/ipykernel_80825/2718244291.py:20: PerformanceWarning: indexing past lexsort depth may impact performance.\n",
      "  t_d = t_data.loc[med_lab_pair][['SUBJECT_ID','HADM_ID', k, k_a, cols_d[k_a]]]\n",
      "/var/folders/xb/6svjl9sj43z6gfhlcp2nc5540000gr/T/ipykernel_80825/2718244291.py:20: PerformanceWarning: indexing past lexsort depth may impact performance.\n",
      "  t_d = t_data.loc[med_lab_pair][['SUBJECT_ID','HADM_ID', k, k_a, cols_d[k_a]]]\n",
      "/var/folders/xb/6svjl9sj43z6gfhlcp2nc5540000gr/T/ipykernel_80825/2718244291.py:20: PerformanceWarning: indexing past lexsort depth may impact performance.\n",
      "  t_d = t_data.loc[med_lab_pair][['SUBJECT_ID','HADM_ID', k, k_a, cols_d[k_a]]]\n",
      "/var/folders/xb/6svjl9sj43z6gfhlcp2nc5540000gr/T/ipykernel_80825/2718244291.py:20: PerformanceWarning: indexing past lexsort depth may impact performance.\n",
      "  t_d = t_data.loc[med_lab_pair][['SUBJECT_ID','HADM_ID', k, k_a, cols_d[k_a]]]\n",
      "/var/folders/xb/6svjl9sj43z6gfhlcp2nc5540000gr/T/ipykernel_80825/2718244291.py:20: PerformanceWarning: indexing past lexsort depth may impact performance.\n",
      "  t_d = t_data.loc[med_lab_pair][['SUBJECT_ID','HADM_ID', k, k_a, cols_d[k_a]]]\n",
      "/var/folders/xb/6svjl9sj43z6gfhlcp2nc5540000gr/T/ipykernel_80825/2718244291.py:20: PerformanceWarning: indexing past lexsort depth may impact performance.\n",
      "  t_d = t_data.loc[med_lab_pair][['SUBJECT_ID','HADM_ID', k, k_a, cols_d[k_a]]]\n",
      "/var/folders/xb/6svjl9sj43z6gfhlcp2nc5540000gr/T/ipykernel_80825/2718244291.py:20: PerformanceWarning: indexing past lexsort depth may impact performance.\n",
      "  t_d = t_data.loc[med_lab_pair][['SUBJECT_ID','HADM_ID', k, k_a, cols_d[k_a]]]\n",
      "/var/folders/xb/6svjl9sj43z6gfhlcp2nc5540000gr/T/ipykernel_80825/2718244291.py:20: PerformanceWarning: indexing past lexsort depth may impact performance.\n",
      "  t_d = t_data.loc[med_lab_pair][['SUBJECT_ID','HADM_ID', k, k_a, cols_d[k_a]]]\n",
      "/var/folders/xb/6svjl9sj43z6gfhlcp2nc5540000gr/T/ipykernel_80825/2718244291.py:20: PerformanceWarning: indexing past lexsort depth may impact performance.\n",
      "  t_d = t_data.loc[med_lab_pair][['SUBJECT_ID','HADM_ID', k, k_a, cols_d[k_a]]]\n",
      "/var/folders/xb/6svjl9sj43z6gfhlcp2nc5540000gr/T/ipykernel_80825/2718244291.py:20: PerformanceWarning: indexing past lexsort depth may impact performance.\n",
      "  t_d = t_data.loc[med_lab_pair][['SUBJECT_ID','HADM_ID', k, k_a, cols_d[k_a]]]\n",
      "/var/folders/xb/6svjl9sj43z6gfhlcp2nc5540000gr/T/ipykernel_80825/2718244291.py:20: PerformanceWarning: indexing past lexsort depth may impact performance.\n",
      "  t_d = t_data.loc[med_lab_pair][['SUBJECT_ID','HADM_ID', k, k_a, cols_d[k_a]]]\n",
      "/var/folders/xb/6svjl9sj43z6gfhlcp2nc5540000gr/T/ipykernel_80825/2718244291.py:20: PerformanceWarning: indexing past lexsort depth may impact performance.\n",
      "  t_d = t_data.loc[med_lab_pair][['SUBJECT_ID','HADM_ID', k, k_a, cols_d[k_a]]]\n",
      "/var/folders/xb/6svjl9sj43z6gfhlcp2nc5540000gr/T/ipykernel_80825/2718244291.py:20: PerformanceWarning: indexing past lexsort depth may impact performance.\n",
      "  t_d = t_data.loc[med_lab_pair][['SUBJECT_ID','HADM_ID', k, k_a, cols_d[k_a]]]\n",
      "/var/folders/xb/6svjl9sj43z6gfhlcp2nc5540000gr/T/ipykernel_80825/2718244291.py:20: PerformanceWarning: indexing past lexsort depth may impact performance.\n",
      "  t_d = t_data.loc[med_lab_pair][['SUBJECT_ID','HADM_ID', k, k_a, cols_d[k_a]]]\n",
      "/var/folders/xb/6svjl9sj43z6gfhlcp2nc5540000gr/T/ipykernel_80825/2718244291.py:20: PerformanceWarning: indexing past lexsort depth may impact performance.\n",
      "  t_d = t_data.loc[med_lab_pair][['SUBJECT_ID','HADM_ID', k, k_a, cols_d[k_a]]]\n",
      "/var/folders/xb/6svjl9sj43z6gfhlcp2nc5540000gr/T/ipykernel_80825/2718244291.py:20: PerformanceWarning: indexing past lexsort depth may impact performance.\n",
      "  t_d = t_data.loc[med_lab_pair][['SUBJECT_ID','HADM_ID', k, k_a, cols_d[k_a]]]\n",
      "/var/folders/xb/6svjl9sj43z6gfhlcp2nc5540000gr/T/ipykernel_80825/2718244291.py:20: PerformanceWarning: indexing past lexsort depth may impact performance.\n",
      "  t_d = t_data.loc[med_lab_pair][['SUBJECT_ID','HADM_ID', k, k_a, cols_d[k_a]]]\n",
      "/var/folders/xb/6svjl9sj43z6gfhlcp2nc5540000gr/T/ipykernel_80825/2718244291.py:20: PerformanceWarning: indexing past lexsort depth may impact performance.\n",
      "  t_d = t_data.loc[med_lab_pair][['SUBJECT_ID','HADM_ID', k, k_a, cols_d[k_a]]]\n",
      "/var/folders/xb/6svjl9sj43z6gfhlcp2nc5540000gr/T/ipykernel_80825/2718244291.py:20: PerformanceWarning: indexing past lexsort depth may impact performance.\n",
      "  t_d = t_data.loc[med_lab_pair][['SUBJECT_ID','HADM_ID', k, k_a, cols_d[k_a]]]\n",
      "/var/folders/xb/6svjl9sj43z6gfhlcp2nc5540000gr/T/ipykernel_80825/2718244291.py:20: PerformanceWarning: indexing past lexsort depth may impact performance.\n",
      "  t_d = t_data.loc[med_lab_pair][['SUBJECT_ID','HADM_ID', k, k_a, cols_d[k_a]]]\n",
      "/var/folders/xb/6svjl9sj43z6gfhlcp2nc5540000gr/T/ipykernel_80825/2718244291.py:20: PerformanceWarning: indexing past lexsort depth may impact performance.\n",
      "  t_d = t_data.loc[med_lab_pair][['SUBJECT_ID','HADM_ID', k, k_a, cols_d[k_a]]]\n",
      "/var/folders/xb/6svjl9sj43z6gfhlcp2nc5540000gr/T/ipykernel_80825/2718244291.py:20: PerformanceWarning: indexing past lexsort depth may impact performance.\n",
      "  t_d = t_data.loc[med_lab_pair][['SUBJECT_ID','HADM_ID', k, k_a, cols_d[k_a]]]\n",
      "/var/folders/xb/6svjl9sj43z6gfhlcp2nc5540000gr/T/ipykernel_80825/2718244291.py:20: PerformanceWarning: indexing past lexsort depth may impact performance.\n",
      "  t_d = t_data.loc[med_lab_pair][['SUBJECT_ID','HADM_ID', k, k_a, cols_d[k_a]]]\n",
      "/var/folders/xb/6svjl9sj43z6gfhlcp2nc5540000gr/T/ipykernel_80825/2718244291.py:20: PerformanceWarning: indexing past lexsort depth may impact performance.\n",
      "  t_d = t_data.loc[med_lab_pair][['SUBJECT_ID','HADM_ID', k, k_a, cols_d[k_a]]]\n",
      "/var/folders/xb/6svjl9sj43z6gfhlcp2nc5540000gr/T/ipykernel_80825/2718244291.py:20: PerformanceWarning: indexing past lexsort depth may impact performance.\n",
      "  t_d = t_data.loc[med_lab_pair][['SUBJECT_ID','HADM_ID', k, k_a, cols_d[k_a]]]\n",
      "/var/folders/xb/6svjl9sj43z6gfhlcp2nc5540000gr/T/ipykernel_80825/2718244291.py:20: PerformanceWarning: indexing past lexsort depth may impact performance.\n",
      "  t_d = t_data.loc[med_lab_pair][['SUBJECT_ID','HADM_ID', k, k_a, cols_d[k_a]]]\n",
      "/var/folders/xb/6svjl9sj43z6gfhlcp2nc5540000gr/T/ipykernel_80825/2718244291.py:20: PerformanceWarning: indexing past lexsort depth may impact performance.\n",
      "  t_d = t_data.loc[med_lab_pair][['SUBJECT_ID','HADM_ID', k, k_a, cols_d[k_a]]]\n",
      "/var/folders/xb/6svjl9sj43z6gfhlcp2nc5540000gr/T/ipykernel_80825/2718244291.py:20: PerformanceWarning: indexing past lexsort depth may impact performance.\n",
      "  t_d = t_data.loc[med_lab_pair][['SUBJECT_ID','HADM_ID', k, k_a, cols_d[k_a]]]\n",
      "/var/folders/xb/6svjl9sj43z6gfhlcp2nc5540000gr/T/ipykernel_80825/2718244291.py:20: PerformanceWarning: indexing past lexsort depth may impact performance.\n",
      "  t_d = t_data.loc[med_lab_pair][['SUBJECT_ID','HADM_ID', k, k_a, cols_d[k_a]]]\n",
      "/var/folders/xb/6svjl9sj43z6gfhlcp2nc5540000gr/T/ipykernel_80825/2718244291.py:20: PerformanceWarning: indexing past lexsort depth may impact performance.\n",
      "  t_d = t_data.loc[med_lab_pair][['SUBJECT_ID','HADM_ID', k, k_a, cols_d[k_a]]]\n",
      "/var/folders/xb/6svjl9sj43z6gfhlcp2nc5540000gr/T/ipykernel_80825/2718244291.py:20: PerformanceWarning: indexing past lexsort depth may impact performance.\n",
      "  t_d = t_data.loc[med_lab_pair][['SUBJECT_ID','HADM_ID', k, k_a, cols_d[k_a]]]\n",
      "/var/folders/xb/6svjl9sj43z6gfhlcp2nc5540000gr/T/ipykernel_80825/2718244291.py:20: PerformanceWarning: indexing past lexsort depth may impact performance.\n",
      "  t_d = t_data.loc[med_lab_pair][['SUBJECT_ID','HADM_ID', k, k_a, cols_d[k_a]]]\n",
      "/var/folders/xb/6svjl9sj43z6gfhlcp2nc5540000gr/T/ipykernel_80825/2718244291.py:20: PerformanceWarning: indexing past lexsort depth may impact performance.\n",
      "  t_d = t_data.loc[med_lab_pair][['SUBJECT_ID','HADM_ID', k, k_a, cols_d[k_a]]]\n",
      "/var/folders/xb/6svjl9sj43z6gfhlcp2nc5540000gr/T/ipykernel_80825/2718244291.py:20: PerformanceWarning: indexing past lexsort depth may impact performance.\n",
      "  t_d = t_data.loc[med_lab_pair][['SUBJECT_ID','HADM_ID', k, k_a, cols_d[k_a]]]\n",
      "/var/folders/xb/6svjl9sj43z6gfhlcp2nc5540000gr/T/ipykernel_80825/2718244291.py:20: PerformanceWarning: indexing past lexsort depth may impact performance.\n",
      "  t_d = t_data.loc[med_lab_pair][['SUBJECT_ID','HADM_ID', k, k_a, cols_d[k_a]]]\n",
      "/var/folders/xb/6svjl9sj43z6gfhlcp2nc5540000gr/T/ipykernel_80825/2718244291.py:20: PerformanceWarning: indexing past lexsort depth may impact performance.\n",
      "  t_d = t_data.loc[med_lab_pair][['SUBJECT_ID','HADM_ID', k, k_a, cols_d[k_a]]]\n",
      "/var/folders/xb/6svjl9sj43z6gfhlcp2nc5540000gr/T/ipykernel_80825/2718244291.py:20: PerformanceWarning: indexing past lexsort depth may impact performance.\n",
      "  t_d = t_data.loc[med_lab_pair][['SUBJECT_ID','HADM_ID', k, k_a, cols_d[k_a]]]\n",
      "/var/folders/xb/6svjl9sj43z6gfhlcp2nc5540000gr/T/ipykernel_80825/2718244291.py:20: PerformanceWarning: indexing past lexsort depth may impact performance.\n",
      "  t_d = t_data.loc[med_lab_pair][['SUBJECT_ID','HADM_ID', k, k_a, cols_d[k_a]]]\n",
      "/var/folders/xb/6svjl9sj43z6gfhlcp2nc5540000gr/T/ipykernel_80825/2718244291.py:20: PerformanceWarning: indexing past lexsort depth may impact performance.\n",
      "  t_d = t_data.loc[med_lab_pair][['SUBJECT_ID','HADM_ID', k, k_a, cols_d[k_a]]]\n",
      "/var/folders/xb/6svjl9sj43z6gfhlcp2nc5540000gr/T/ipykernel_80825/2718244291.py:20: PerformanceWarning: indexing past lexsort depth may impact performance.\n",
      "  t_d = t_data.loc[med_lab_pair][['SUBJECT_ID','HADM_ID', k, k_a, cols_d[k_a]]]\n",
      "/var/folders/xb/6svjl9sj43z6gfhlcp2nc5540000gr/T/ipykernel_80825/2718244291.py:20: PerformanceWarning: indexing past lexsort depth may impact performance.\n",
      "  t_d = t_data.loc[med_lab_pair][['SUBJECT_ID','HADM_ID', k, k_a, cols_d[k_a]]]\n",
      "/var/folders/xb/6svjl9sj43z6gfhlcp2nc5540000gr/T/ipykernel_80825/2718244291.py:20: PerformanceWarning: indexing past lexsort depth may impact performance.\n",
      "  t_d = t_data.loc[med_lab_pair][['SUBJECT_ID','HADM_ID', k, k_a, cols_d[k_a]]]\n",
      "/var/folders/xb/6svjl9sj43z6gfhlcp2nc5540000gr/T/ipykernel_80825/2718244291.py:20: PerformanceWarning: indexing past lexsort depth may impact performance.\n",
      "  t_d = t_data.loc[med_lab_pair][['SUBJECT_ID','HADM_ID', k, k_a, cols_d[k_a]]]\n",
      "/var/folders/xb/6svjl9sj43z6gfhlcp2nc5540000gr/T/ipykernel_80825/2718244291.py:20: PerformanceWarning: indexing past lexsort depth may impact performance.\n",
      "  t_d = t_data.loc[med_lab_pair][['SUBJECT_ID','HADM_ID', k, k_a, cols_d[k_a]]]\n",
      "/var/folders/xb/6svjl9sj43z6gfhlcp2nc5540000gr/T/ipykernel_80825/2718244291.py:20: PerformanceWarning: indexing past lexsort depth may impact performance.\n",
      "  t_d = t_data.loc[med_lab_pair][['SUBJECT_ID','HADM_ID', k, k_a, cols_d[k_a]]]\n",
      "/var/folders/xb/6svjl9sj43z6gfhlcp2nc5540000gr/T/ipykernel_80825/2718244291.py:20: PerformanceWarning: indexing past lexsort depth may impact performance.\n",
      "  t_d = t_data.loc[med_lab_pair][['SUBJECT_ID','HADM_ID', k, k_a, cols_d[k_a]]]\n",
      "/var/folders/xb/6svjl9sj43z6gfhlcp2nc5540000gr/T/ipykernel_80825/2718244291.py:20: PerformanceWarning: indexing past lexsort depth may impact performance.\n",
      "  t_d = t_data.loc[med_lab_pair][['SUBJECT_ID','HADM_ID', k, k_a, cols_d[k_a]]]\n",
      "/var/folders/xb/6svjl9sj43z6gfhlcp2nc5540000gr/T/ipykernel_80825/2718244291.py:20: PerformanceWarning: indexing past lexsort depth may impact performance.\n",
      "  t_d = t_data.loc[med_lab_pair][['SUBJECT_ID','HADM_ID', k, k_a, cols_d[k_a]]]\n",
      "/var/folders/xb/6svjl9sj43z6gfhlcp2nc5540000gr/T/ipykernel_80825/2718244291.py:20: PerformanceWarning: indexing past lexsort depth may impact performance.\n",
      "  t_d = t_data.loc[med_lab_pair][['SUBJECT_ID','HADM_ID', k, k_a, cols_d[k_a]]]\n",
      "/var/folders/xb/6svjl9sj43z6gfhlcp2nc5540000gr/T/ipykernel_80825/2718244291.py:20: PerformanceWarning: indexing past lexsort depth may impact performance.\n",
      "  t_d = t_data.loc[med_lab_pair][['SUBJECT_ID','HADM_ID', k, k_a, cols_d[k_a]]]\n",
      "/var/folders/xb/6svjl9sj43z6gfhlcp2nc5540000gr/T/ipykernel_80825/2718244291.py:20: PerformanceWarning: indexing past lexsort depth may impact performance.\n",
      "  t_d = t_data.loc[med_lab_pair][['SUBJECT_ID','HADM_ID', k, k_a, cols_d[k_a]]]\n",
      "/var/folders/xb/6svjl9sj43z6gfhlcp2nc5540000gr/T/ipykernel_80825/2718244291.py:20: PerformanceWarning: indexing past lexsort depth may impact performance.\n",
      "  t_d = t_data.loc[med_lab_pair][['SUBJECT_ID','HADM_ID', k, k_a, cols_d[k_a]]]\n",
      "/var/folders/xb/6svjl9sj43z6gfhlcp2nc5540000gr/T/ipykernel_80825/2718244291.py:20: PerformanceWarning: indexing past lexsort depth may impact performance.\n",
      "  t_d = t_data.loc[med_lab_pair][['SUBJECT_ID','HADM_ID', k, k_a, cols_d[k_a]]]\n",
      "/var/folders/xb/6svjl9sj43z6gfhlcp2nc5540000gr/T/ipykernel_80825/2718244291.py:20: PerformanceWarning: indexing past lexsort depth may impact performance.\n",
      "  t_d = t_data.loc[med_lab_pair][['SUBJECT_ID','HADM_ID', k, k_a, cols_d[k_a]]]\n",
      "/var/folders/xb/6svjl9sj43z6gfhlcp2nc5540000gr/T/ipykernel_80825/2718244291.py:20: PerformanceWarning: indexing past lexsort depth may impact performance.\n",
      "  t_d = t_data.loc[med_lab_pair][['SUBJECT_ID','HADM_ID', k, k_a, cols_d[k_a]]]\n",
      "/var/folders/xb/6svjl9sj43z6gfhlcp2nc5540000gr/T/ipykernel_80825/2718244291.py:20: PerformanceWarning: indexing past lexsort depth may impact performance.\n",
      "  t_d = t_data.loc[med_lab_pair][['SUBJECT_ID','HADM_ID', k, k_a, cols_d[k_a]]]\n",
      "/var/folders/xb/6svjl9sj43z6gfhlcp2nc5540000gr/T/ipykernel_80825/2718244291.py:20: PerformanceWarning: indexing past lexsort depth may impact performance.\n",
      "  t_d = t_data.loc[med_lab_pair][['SUBJECT_ID','HADM_ID', k, k_a, cols_d[k_a]]]\n",
      "/var/folders/xb/6svjl9sj43z6gfhlcp2nc5540000gr/T/ipykernel_80825/2718244291.py:20: PerformanceWarning: indexing past lexsort depth may impact performance.\n",
      "  t_d = t_data.loc[med_lab_pair][['SUBJECT_ID','HADM_ID', k, k_a, cols_d[k_a]]]\n",
      "/var/folders/xb/6svjl9sj43z6gfhlcp2nc5540000gr/T/ipykernel_80825/2718244291.py:20: PerformanceWarning: indexing past lexsort depth may impact performance.\n",
      "  t_d = t_data.loc[med_lab_pair][['SUBJECT_ID','HADM_ID', k, k_a, cols_d[k_a]]]\n",
      "/var/folders/xb/6svjl9sj43z6gfhlcp2nc5540000gr/T/ipykernel_80825/2718244291.py:20: PerformanceWarning: indexing past lexsort depth may impact performance.\n",
      "  t_d = t_data.loc[med_lab_pair][['SUBJECT_ID','HADM_ID', k, k_a, cols_d[k_a]]]\n",
      "/var/folders/xb/6svjl9sj43z6gfhlcp2nc5540000gr/T/ipykernel_80825/2718244291.py:20: PerformanceWarning: indexing past lexsort depth may impact performance.\n",
      "  t_d = t_data.loc[med_lab_pair][['SUBJECT_ID','HADM_ID', k, k_a, cols_d[k_a]]]\n",
      "/var/folders/xb/6svjl9sj43z6gfhlcp2nc5540000gr/T/ipykernel_80825/2718244291.py:20: PerformanceWarning: indexing past lexsort depth may impact performance.\n",
      "  t_d = t_data.loc[med_lab_pair][['SUBJECT_ID','HADM_ID', k, k_a, cols_d[k_a]]]\n",
      "/var/folders/xb/6svjl9sj43z6gfhlcp2nc5540000gr/T/ipykernel_80825/2718244291.py:20: PerformanceWarning: indexing past lexsort depth may impact performance.\n",
      "  t_d = t_data.loc[med_lab_pair][['SUBJECT_ID','HADM_ID', k, k_a, cols_d[k_a]]]\n",
      "/var/folders/xb/6svjl9sj43z6gfhlcp2nc5540000gr/T/ipykernel_80825/2718244291.py:20: PerformanceWarning: indexing past lexsort depth may impact performance.\n",
      "  t_d = t_data.loc[med_lab_pair][['SUBJECT_ID','HADM_ID', k, k_a, cols_d[k_a]]]\n",
      "/var/folders/xb/6svjl9sj43z6gfhlcp2nc5540000gr/T/ipykernel_80825/2718244291.py:20: PerformanceWarning: indexing past lexsort depth may impact performance.\n",
      "  t_d = t_data.loc[med_lab_pair][['SUBJECT_ID','HADM_ID', k, k_a, cols_d[k_a]]]\n",
      "/var/folders/xb/6svjl9sj43z6gfhlcp2nc5540000gr/T/ipykernel_80825/2718244291.py:20: PerformanceWarning: indexing past lexsort depth may impact performance.\n",
      "  t_d = t_data.loc[med_lab_pair][['SUBJECT_ID','HADM_ID', k, k_a, cols_d[k_a]]]\n",
      "/var/folders/xb/6svjl9sj43z6gfhlcp2nc5540000gr/T/ipykernel_80825/2718244291.py:20: PerformanceWarning: indexing past lexsort depth may impact performance.\n",
      "  t_d = t_data.loc[med_lab_pair][['SUBJECT_ID','HADM_ID', k, k_a, cols_d[k_a]]]\n",
      "/var/folders/xb/6svjl9sj43z6gfhlcp2nc5540000gr/T/ipykernel_80825/2718244291.py:20: PerformanceWarning: indexing past lexsort depth may impact performance.\n",
      "  t_d = t_data.loc[med_lab_pair][['SUBJECT_ID','HADM_ID', k, k_a, cols_d[k_a]]]\n",
      "/var/folders/xb/6svjl9sj43z6gfhlcp2nc5540000gr/T/ipykernel_80825/2718244291.py:20: PerformanceWarning: indexing past lexsort depth may impact performance.\n",
      "  t_d = t_data.loc[med_lab_pair][['SUBJECT_ID','HADM_ID', k, k_a, cols_d[k_a]]]\n",
      "/var/folders/xb/6svjl9sj43z6gfhlcp2nc5540000gr/T/ipykernel_80825/2718244291.py:20: PerformanceWarning: indexing past lexsort depth may impact performance.\n",
      "  t_d = t_data.loc[med_lab_pair][['SUBJECT_ID','HADM_ID', k, k_a, cols_d[k_a]]]\n",
      "/var/folders/xb/6svjl9sj43z6gfhlcp2nc5540000gr/T/ipykernel_80825/2718244291.py:20: PerformanceWarning: indexing past lexsort depth may impact performance.\n",
      "  t_d = t_data.loc[med_lab_pair][['SUBJECT_ID','HADM_ID', k, k_a, cols_d[k_a]]]\n",
      "/var/folders/xb/6svjl9sj43z6gfhlcp2nc5540000gr/T/ipykernel_80825/2718244291.py:20: PerformanceWarning: indexing past lexsort depth may impact performance.\n",
      "  t_d = t_data.loc[med_lab_pair][['SUBJECT_ID','HADM_ID', k, k_a, cols_d[k_a]]]\n",
      "/var/folders/xb/6svjl9sj43z6gfhlcp2nc5540000gr/T/ipykernel_80825/2718244291.py:20: PerformanceWarning: indexing past lexsort depth may impact performance.\n",
      "  t_d = t_data.loc[med_lab_pair][['SUBJECT_ID','HADM_ID', k, k_a, cols_d[k_a]]]\n",
      "/var/folders/xb/6svjl9sj43z6gfhlcp2nc5540000gr/T/ipykernel_80825/2718244291.py:20: PerformanceWarning: indexing past lexsort depth may impact performance.\n",
      "  t_d = t_data.loc[med_lab_pair][['SUBJECT_ID','HADM_ID', k, k_a, cols_d[k_a]]]\n",
      "/var/folders/xb/6svjl9sj43z6gfhlcp2nc5540000gr/T/ipykernel_80825/2718244291.py:20: PerformanceWarning: indexing past lexsort depth may impact performance.\n",
      "  t_d = t_data.loc[med_lab_pair][['SUBJECT_ID','HADM_ID', k, k_a, cols_d[k_a]]]\n",
      "/var/folders/xb/6svjl9sj43z6gfhlcp2nc5540000gr/T/ipykernel_80825/2718244291.py:20: PerformanceWarning: indexing past lexsort depth may impact performance.\n",
      "  t_d = t_data.loc[med_lab_pair][['SUBJECT_ID','HADM_ID', k, k_a, cols_d[k_a]]]\n",
      "/var/folders/xb/6svjl9sj43z6gfhlcp2nc5540000gr/T/ipykernel_80825/2718244291.py:20: PerformanceWarning: indexing past lexsort depth may impact performance.\n",
      "  t_d = t_data.loc[med_lab_pair][['SUBJECT_ID','HADM_ID', k, k_a, cols_d[k_a]]]\n",
      "/var/folders/xb/6svjl9sj43z6gfhlcp2nc5540000gr/T/ipykernel_80825/2718244291.py:20: PerformanceWarning: indexing past lexsort depth may impact performance.\n",
      "  t_d = t_data.loc[med_lab_pair][['SUBJECT_ID','HADM_ID', k, k_a, cols_d[k_a]]]\n",
      "/var/folders/xb/6svjl9sj43z6gfhlcp2nc5540000gr/T/ipykernel_80825/2718244291.py:20: PerformanceWarning: indexing past lexsort depth may impact performance.\n",
      "  t_d = t_data.loc[med_lab_pair][['SUBJECT_ID','HADM_ID', k, k_a, cols_d[k_a]]]\n",
      "/var/folders/xb/6svjl9sj43z6gfhlcp2nc5540000gr/T/ipykernel_80825/2718244291.py:20: PerformanceWarning: indexing past lexsort depth may impact performance.\n",
      "  t_d = t_data.loc[med_lab_pair][['SUBJECT_ID','HADM_ID', k, k_a, cols_d[k_a]]]\n",
      "/var/folders/xb/6svjl9sj43z6gfhlcp2nc5540000gr/T/ipykernel_80825/2718244291.py:20: PerformanceWarning: indexing past lexsort depth may impact performance.\n",
      "  t_d = t_data.loc[med_lab_pair][['SUBJECT_ID','HADM_ID', k, k_a, cols_d[k_a]]]\n",
      "/var/folders/xb/6svjl9sj43z6gfhlcp2nc5540000gr/T/ipykernel_80825/2718244291.py:20: PerformanceWarning: indexing past lexsort depth may impact performance.\n",
      "  t_d = t_data.loc[med_lab_pair][['SUBJECT_ID','HADM_ID', k, k_a, cols_d[k_a]]]\n",
      "/var/folders/xb/6svjl9sj43z6gfhlcp2nc5540000gr/T/ipykernel_80825/2718244291.py:20: PerformanceWarning: indexing past lexsort depth may impact performance.\n",
      "  t_d = t_data.loc[med_lab_pair][['SUBJECT_ID','HADM_ID', k, k_a, cols_d[k_a]]]\n",
      "/var/folders/xb/6svjl9sj43z6gfhlcp2nc5540000gr/T/ipykernel_80825/2718244291.py:20: PerformanceWarning: indexing past lexsort depth may impact performance.\n",
      "  t_d = t_data.loc[med_lab_pair][['SUBJECT_ID','HADM_ID', k, k_a, cols_d[k_a]]]\n",
      "/var/folders/xb/6svjl9sj43z6gfhlcp2nc5540000gr/T/ipykernel_80825/2718244291.py:20: PerformanceWarning: indexing past lexsort depth may impact performance.\n",
      "  t_d = t_data.loc[med_lab_pair][['SUBJECT_ID','HADM_ID', k, k_a, cols_d[k_a]]]\n",
      "/var/folders/xb/6svjl9sj43z6gfhlcp2nc5540000gr/T/ipykernel_80825/2718244291.py:20: PerformanceWarning: indexing past lexsort depth may impact performance.\n",
      "  t_d = t_data.loc[med_lab_pair][['SUBJECT_ID','HADM_ID', k, k_a, cols_d[k_a]]]\n",
      "/var/folders/xb/6svjl9sj43z6gfhlcp2nc5540000gr/T/ipykernel_80825/2718244291.py:20: PerformanceWarning: indexing past lexsort depth may impact performance.\n",
      "  t_d = t_data.loc[med_lab_pair][['SUBJECT_ID','HADM_ID', k, k_a, cols_d[k_a]]]\n",
      "/var/folders/xb/6svjl9sj43z6gfhlcp2nc5540000gr/T/ipykernel_80825/2718244291.py:20: PerformanceWarning: indexing past lexsort depth may impact performance.\n",
      "  t_d = t_data.loc[med_lab_pair][['SUBJECT_ID','HADM_ID', k, k_a, cols_d[k_a]]]\n",
      "/var/folders/xb/6svjl9sj43z6gfhlcp2nc5540000gr/T/ipykernel_80825/2718244291.py:20: PerformanceWarning: indexing past lexsort depth may impact performance.\n",
      "  t_d = t_data.loc[med_lab_pair][['SUBJECT_ID','HADM_ID', k, k_a, cols_d[k_a]]]\n",
      "/var/folders/xb/6svjl9sj43z6gfhlcp2nc5540000gr/T/ipykernel_80825/2718244291.py:20: PerformanceWarning: indexing past lexsort depth may impact performance.\n",
      "  t_d = t_data.loc[med_lab_pair][['SUBJECT_ID','HADM_ID', k, k_a, cols_d[k_a]]]\n",
      "/var/folders/xb/6svjl9sj43z6gfhlcp2nc5540000gr/T/ipykernel_80825/2718244291.py:20: PerformanceWarning: indexing past lexsort depth may impact performance.\n",
      "  t_d = t_data.loc[med_lab_pair][['SUBJECT_ID','HADM_ID', k, k_a, cols_d[k_a]]]\n",
      "/var/folders/xb/6svjl9sj43z6gfhlcp2nc5540000gr/T/ipykernel_80825/2718244291.py:20: PerformanceWarning: indexing past lexsort depth may impact performance.\n",
      "  t_d = t_data.loc[med_lab_pair][['SUBJECT_ID','HADM_ID', k, k_a, cols_d[k_a]]]\n",
      "/var/folders/xb/6svjl9sj43z6gfhlcp2nc5540000gr/T/ipykernel_80825/2718244291.py:20: PerformanceWarning: indexing past lexsort depth may impact performance.\n",
      "  t_d = t_data.loc[med_lab_pair][['SUBJECT_ID','HADM_ID', k, k_a, cols_d[k_a]]]\n",
      "/var/folders/xb/6svjl9sj43z6gfhlcp2nc5540000gr/T/ipykernel_80825/2718244291.py:20: PerformanceWarning: indexing past lexsort depth may impact performance.\n",
      "  t_d = t_data.loc[med_lab_pair][['SUBJECT_ID','HADM_ID', k, k_a, cols_d[k_a]]]\n",
      "/var/folders/xb/6svjl9sj43z6gfhlcp2nc5540000gr/T/ipykernel_80825/2718244291.py:20: PerformanceWarning: indexing past lexsort depth may impact performance.\n",
      "  t_d = t_data.loc[med_lab_pair][['SUBJECT_ID','HADM_ID', k, k_a, cols_d[k_a]]]\n",
      "/var/folders/xb/6svjl9sj43z6gfhlcp2nc5540000gr/T/ipykernel_80825/2718244291.py:20: PerformanceWarning: indexing past lexsort depth may impact performance.\n",
      "  t_d = t_data.loc[med_lab_pair][['SUBJECT_ID','HADM_ID', k, k_a, cols_d[k_a]]]\n",
      "/var/folders/xb/6svjl9sj43z6gfhlcp2nc5540000gr/T/ipykernel_80825/2718244291.py:20: PerformanceWarning: indexing past lexsort depth may impact performance.\n",
      "  t_d = t_data.loc[med_lab_pair][['SUBJECT_ID','HADM_ID', k, k_a, cols_d[k_a]]]\n",
      "/var/folders/xb/6svjl9sj43z6gfhlcp2nc5540000gr/T/ipykernel_80825/2718244291.py:20: PerformanceWarning: indexing past lexsort depth may impact performance.\n",
      "  t_d = t_data.loc[med_lab_pair][['SUBJECT_ID','HADM_ID', k, k_a, cols_d[k_a]]]\n",
      "/var/folders/xb/6svjl9sj43z6gfhlcp2nc5540000gr/T/ipykernel_80825/2718244291.py:20: PerformanceWarning: indexing past lexsort depth may impact performance.\n",
      "  t_d = t_data.loc[med_lab_pair][['SUBJECT_ID','HADM_ID', k, k_a, cols_d[k_a]]]\n",
      "/var/folders/xb/6svjl9sj43z6gfhlcp2nc5540000gr/T/ipykernel_80825/2718244291.py:20: PerformanceWarning: indexing past lexsort depth may impact performance.\n",
      "  t_d = t_data.loc[med_lab_pair][['SUBJECT_ID','HADM_ID', k, k_a, cols_d[k_a]]]\n",
      "/var/folders/xb/6svjl9sj43z6gfhlcp2nc5540000gr/T/ipykernel_80825/2718244291.py:20: PerformanceWarning: indexing past lexsort depth may impact performance.\n",
      "  t_d = t_data.loc[med_lab_pair][['SUBJECT_ID','HADM_ID', k, k_a, cols_d[k_a]]]\n",
      "/var/folders/xb/6svjl9sj43z6gfhlcp2nc5540000gr/T/ipykernel_80825/2718244291.py:20: PerformanceWarning: indexing past lexsort depth may impact performance.\n",
      "  t_d = t_data.loc[med_lab_pair][['SUBJECT_ID','HADM_ID', k, k_a, cols_d[k_a]]]\n",
      "/var/folders/xb/6svjl9sj43z6gfhlcp2nc5540000gr/T/ipykernel_80825/2718244291.py:20: PerformanceWarning: indexing past lexsort depth may impact performance.\n",
      "  t_d = t_data.loc[med_lab_pair][['SUBJECT_ID','HADM_ID', k, k_a, cols_d[k_a]]]\n",
      "/var/folders/xb/6svjl9sj43z6gfhlcp2nc5540000gr/T/ipykernel_80825/2718244291.py:20: PerformanceWarning: indexing past lexsort depth may impact performance.\n",
      "  t_d = t_data.loc[med_lab_pair][['SUBJECT_ID','HADM_ID', k, k_a, cols_d[k_a]]]\n",
      "/var/folders/xb/6svjl9sj43z6gfhlcp2nc5540000gr/T/ipykernel_80825/2718244291.py:20: PerformanceWarning: indexing past lexsort depth may impact performance.\n",
      "  t_d = t_data.loc[med_lab_pair][['SUBJECT_ID','HADM_ID', k, k_a, cols_d[k_a]]]\n",
      "/var/folders/xb/6svjl9sj43z6gfhlcp2nc5540000gr/T/ipykernel_80825/2718244291.py:20: PerformanceWarning: indexing past lexsort depth may impact performance.\n",
      "  t_d = t_data.loc[med_lab_pair][['SUBJECT_ID','HADM_ID', k, k_a, cols_d[k_a]]]\n",
      "/var/folders/xb/6svjl9sj43z6gfhlcp2nc5540000gr/T/ipykernel_80825/2718244291.py:20: PerformanceWarning: indexing past lexsort depth may impact performance.\n",
      "  t_d = t_data.loc[med_lab_pair][['SUBJECT_ID','HADM_ID', k, k_a, cols_d[k_a]]]\n",
      "/var/folders/xb/6svjl9sj43z6gfhlcp2nc5540000gr/T/ipykernel_80825/2718244291.py:20: PerformanceWarning: indexing past lexsort depth may impact performance.\n",
      "  t_d = t_data.loc[med_lab_pair][['SUBJECT_ID','HADM_ID', k, k_a, cols_d[k_a]]]\n",
      "/var/folders/xb/6svjl9sj43z6gfhlcp2nc5540000gr/T/ipykernel_80825/2718244291.py:20: PerformanceWarning: indexing past lexsort depth may impact performance.\n",
      "  t_d = t_data.loc[med_lab_pair][['SUBJECT_ID','HADM_ID', k, k_a, cols_d[k_a]]]\n",
      "/var/folders/xb/6svjl9sj43z6gfhlcp2nc5540000gr/T/ipykernel_80825/2718244291.py:20: PerformanceWarning: indexing past lexsort depth may impact performance.\n",
      "  t_d = t_data.loc[med_lab_pair][['SUBJECT_ID','HADM_ID', k, k_a, cols_d[k_a]]]\n",
      "/var/folders/xb/6svjl9sj43z6gfhlcp2nc5540000gr/T/ipykernel_80825/2718244291.py:20: PerformanceWarning: indexing past lexsort depth may impact performance.\n",
      "  t_d = t_data.loc[med_lab_pair][['SUBJECT_ID','HADM_ID', k, k_a, cols_d[k_a]]]\n",
      "/var/folders/xb/6svjl9sj43z6gfhlcp2nc5540000gr/T/ipykernel_80825/2718244291.py:20: PerformanceWarning: indexing past lexsort depth may impact performance.\n",
      "  t_d = t_data.loc[med_lab_pair][['SUBJECT_ID','HADM_ID', k, k_a, cols_d[k_a]]]\n",
      "/var/folders/xb/6svjl9sj43z6gfhlcp2nc5540000gr/T/ipykernel_80825/2718244291.py:20: PerformanceWarning: indexing past lexsort depth may impact performance.\n",
      "  t_d = t_data.loc[med_lab_pair][['SUBJECT_ID','HADM_ID', k, k_a, cols_d[k_a]]]\n",
      "/var/folders/xb/6svjl9sj43z6gfhlcp2nc5540000gr/T/ipykernel_80825/2718244291.py:20: PerformanceWarning: indexing past lexsort depth may impact performance.\n",
      "  t_d = t_data.loc[med_lab_pair][['SUBJECT_ID','HADM_ID', k, k_a, cols_d[k_a]]]\n",
      "/var/folders/xb/6svjl9sj43z6gfhlcp2nc5540000gr/T/ipykernel_80825/2718244291.py:20: PerformanceWarning: indexing past lexsort depth may impact performance.\n",
      "  t_d = t_data.loc[med_lab_pair][['SUBJECT_ID','HADM_ID', k, k_a, cols_d[k_a]]]\n",
      "/var/folders/xb/6svjl9sj43z6gfhlcp2nc5540000gr/T/ipykernel_80825/2718244291.py:20: PerformanceWarning: indexing past lexsort depth may impact performance.\n",
      "  t_d = t_data.loc[med_lab_pair][['SUBJECT_ID','HADM_ID', k, k_a, cols_d[k_a]]]\n",
      "/var/folders/xb/6svjl9sj43z6gfhlcp2nc5540000gr/T/ipykernel_80825/2718244291.py:20: PerformanceWarning: indexing past lexsort depth may impact performance.\n",
      "  t_d = t_data.loc[med_lab_pair][['SUBJECT_ID','HADM_ID', k, k_a, cols_d[k_a]]]\n",
      "/var/folders/xb/6svjl9sj43z6gfhlcp2nc5540000gr/T/ipykernel_80825/2718244291.py:20: PerformanceWarning: indexing past lexsort depth may impact performance.\n",
      "  t_d = t_data.loc[med_lab_pair][['SUBJECT_ID','HADM_ID', k, k_a, cols_d[k_a]]]\n",
      "/var/folders/xb/6svjl9sj43z6gfhlcp2nc5540000gr/T/ipykernel_80825/2718244291.py:20: PerformanceWarning: indexing past lexsort depth may impact performance.\n",
      "  t_d = t_data.loc[med_lab_pair][['SUBJECT_ID','HADM_ID', k, k_a, cols_d[k_a]]]\n",
      "/var/folders/xb/6svjl9sj43z6gfhlcp2nc5540000gr/T/ipykernel_80825/2718244291.py:20: PerformanceWarning: indexing past lexsort depth may impact performance.\n",
      "  t_d = t_data.loc[med_lab_pair][['SUBJECT_ID','HADM_ID', k, k_a, cols_d[k_a]]]\n",
      "/var/folders/xb/6svjl9sj43z6gfhlcp2nc5540000gr/T/ipykernel_80825/2718244291.py:20: PerformanceWarning: indexing past lexsort depth may impact performance.\n",
      "  t_d = t_data.loc[med_lab_pair][['SUBJECT_ID','HADM_ID', k, k_a, cols_d[k_a]]]\n",
      "/var/folders/xb/6svjl9sj43z6gfhlcp2nc5540000gr/T/ipykernel_80825/2718244291.py:20: PerformanceWarning: indexing past lexsort depth may impact performance.\n",
      "  t_d = t_data.loc[med_lab_pair][['SUBJECT_ID','HADM_ID', k, k_a, cols_d[k_a]]]\n",
      "/var/folders/xb/6svjl9sj43z6gfhlcp2nc5540000gr/T/ipykernel_80825/2718244291.py:20: PerformanceWarning: indexing past lexsort depth may impact performance.\n",
      "  t_d = t_data.loc[med_lab_pair][['SUBJECT_ID','HADM_ID', k, k_a, cols_d[k_a]]]\n",
      "/var/folders/xb/6svjl9sj43z6gfhlcp2nc5540000gr/T/ipykernel_80825/2718244291.py:20: PerformanceWarning: indexing past lexsort depth may impact performance.\n",
      "  t_d = t_data.loc[med_lab_pair][['SUBJECT_ID','HADM_ID', k, k_a, cols_d[k_a]]]\n",
      "/var/folders/xb/6svjl9sj43z6gfhlcp2nc5540000gr/T/ipykernel_80825/2718244291.py:20: PerformanceWarning: indexing past lexsort depth may impact performance.\n",
      "  t_d = t_data.loc[med_lab_pair][['SUBJECT_ID','HADM_ID', k, k_a, cols_d[k_a]]]\n",
      "/var/folders/xb/6svjl9sj43z6gfhlcp2nc5540000gr/T/ipykernel_80825/2718244291.py:20: PerformanceWarning: indexing past lexsort depth may impact performance.\n",
      "  t_d = t_data.loc[med_lab_pair][['SUBJECT_ID','HADM_ID', k, k_a, cols_d[k_a]]]\n",
      "/var/folders/xb/6svjl9sj43z6gfhlcp2nc5540000gr/T/ipykernel_80825/2718244291.py:20: PerformanceWarning: indexing past lexsort depth may impact performance.\n",
      "  t_d = t_data.loc[med_lab_pair][['SUBJECT_ID','HADM_ID', k, k_a, cols_d[k_a]]]\n",
      "/var/folders/xb/6svjl9sj43z6gfhlcp2nc5540000gr/T/ipykernel_80825/2718244291.py:20: PerformanceWarning: indexing past lexsort depth may impact performance.\n",
      "  t_d = t_data.loc[med_lab_pair][['SUBJECT_ID','HADM_ID', k, k_a, cols_d[k_a]]]\n",
      "/var/folders/xb/6svjl9sj43z6gfhlcp2nc5540000gr/T/ipykernel_80825/2718244291.py:20: PerformanceWarning: indexing past lexsort depth may impact performance.\n",
      "  t_d = t_data.loc[med_lab_pair][['SUBJECT_ID','HADM_ID', k, k_a, cols_d[k_a]]]\n",
      "/var/folders/xb/6svjl9sj43z6gfhlcp2nc5540000gr/T/ipykernel_80825/2718244291.py:20: PerformanceWarning: indexing past lexsort depth may impact performance.\n",
      "  t_d = t_data.loc[med_lab_pair][['SUBJECT_ID','HADM_ID', k, k_a, cols_d[k_a]]]\n",
      "/var/folders/xb/6svjl9sj43z6gfhlcp2nc5540000gr/T/ipykernel_80825/2718244291.py:20: PerformanceWarning: indexing past lexsort depth may impact performance.\n",
      "  t_d = t_data.loc[med_lab_pair][['SUBJECT_ID','HADM_ID', k, k_a, cols_d[k_a]]]\n",
      "/var/folders/xb/6svjl9sj43z6gfhlcp2nc5540000gr/T/ipykernel_80825/2718244291.py:20: PerformanceWarning: indexing past lexsort depth may impact performance.\n",
      "  t_d = t_data.loc[med_lab_pair][['SUBJECT_ID','HADM_ID', k, k_a, cols_d[k_a]]]\n",
      "/var/folders/xb/6svjl9sj43z6gfhlcp2nc5540000gr/T/ipykernel_80825/2718244291.py:20: PerformanceWarning: indexing past lexsort depth may impact performance.\n",
      "  t_d = t_data.loc[med_lab_pair][['SUBJECT_ID','HADM_ID', k, k_a, cols_d[k_a]]]\n",
      "/var/folders/xb/6svjl9sj43z6gfhlcp2nc5540000gr/T/ipykernel_80825/2718244291.py:20: PerformanceWarning: indexing past lexsort depth may impact performance.\n",
      "  t_d = t_data.loc[med_lab_pair][['SUBJECT_ID','HADM_ID', k, k_a, cols_d[k_a]]]\n",
      "/var/folders/xb/6svjl9sj43z6gfhlcp2nc5540000gr/T/ipykernel_80825/2718244291.py:20: PerformanceWarning: indexing past lexsort depth may impact performance.\n",
      "  t_d = t_data.loc[med_lab_pair][['SUBJECT_ID','HADM_ID', k, k_a, cols_d[k_a]]]\n",
      "/var/folders/xb/6svjl9sj43z6gfhlcp2nc5540000gr/T/ipykernel_80825/2718244291.py:20: PerformanceWarning: indexing past lexsort depth may impact performance.\n",
      "  t_d = t_data.loc[med_lab_pair][['SUBJECT_ID','HADM_ID', k, k_a, cols_d[k_a]]]\n",
      "/var/folders/xb/6svjl9sj43z6gfhlcp2nc5540000gr/T/ipykernel_80825/2718244291.py:20: PerformanceWarning: indexing past lexsort depth may impact performance.\n",
      "  t_d = t_data.loc[med_lab_pair][['SUBJECT_ID','HADM_ID', k, k_a, cols_d[k_a]]]\n",
      "/var/folders/xb/6svjl9sj43z6gfhlcp2nc5540000gr/T/ipykernel_80825/2718244291.py:20: PerformanceWarning: indexing past lexsort depth may impact performance.\n",
      "  t_d = t_data.loc[med_lab_pair][['SUBJECT_ID','HADM_ID', k, k_a, cols_d[k_a]]]\n",
      "/var/folders/xb/6svjl9sj43z6gfhlcp2nc5540000gr/T/ipykernel_80825/2718244291.py:20: PerformanceWarning: indexing past lexsort depth may impact performance.\n",
      "  t_d = t_data.loc[med_lab_pair][['SUBJECT_ID','HADM_ID', k, k_a, cols_d[k_a]]]\n",
      "/var/folders/xb/6svjl9sj43z6gfhlcp2nc5540000gr/T/ipykernel_80825/2718244291.py:20: PerformanceWarning: indexing past lexsort depth may impact performance.\n",
      "  t_d = t_data.loc[med_lab_pair][['SUBJECT_ID','HADM_ID', k, k_a, cols_d[k_a]]]\n",
      "/var/folders/xb/6svjl9sj43z6gfhlcp2nc5540000gr/T/ipykernel_80825/2718244291.py:20: PerformanceWarning: indexing past lexsort depth may impact performance.\n",
      "  t_d = t_data.loc[med_lab_pair][['SUBJECT_ID','HADM_ID', k, k_a, cols_d[k_a]]]\n",
      "/var/folders/xb/6svjl9sj43z6gfhlcp2nc5540000gr/T/ipykernel_80825/2718244291.py:20: PerformanceWarning: indexing past lexsort depth may impact performance.\n",
      "  t_d = t_data.loc[med_lab_pair][['SUBJECT_ID','HADM_ID', k, k_a, cols_d[k_a]]]\n",
      "/var/folders/xb/6svjl9sj43z6gfhlcp2nc5540000gr/T/ipykernel_80825/2718244291.py:20: PerformanceWarning: indexing past lexsort depth may impact performance.\n",
      "  t_d = t_data.loc[med_lab_pair][['SUBJECT_ID','HADM_ID', k, k_a, cols_d[k_a]]]\n",
      "/var/folders/xb/6svjl9sj43z6gfhlcp2nc5540000gr/T/ipykernel_80825/2718244291.py:20: PerformanceWarning: indexing past lexsort depth may impact performance.\n",
      "  t_d = t_data.loc[med_lab_pair][['SUBJECT_ID','HADM_ID', k, k_a, cols_d[k_a]]]\n",
      "/var/folders/xb/6svjl9sj43z6gfhlcp2nc5540000gr/T/ipykernel_80825/2718244291.py:20: PerformanceWarning: indexing past lexsort depth may impact performance.\n",
      "  t_d = t_data.loc[med_lab_pair][['SUBJECT_ID','HADM_ID', k, k_a, cols_d[k_a]]]\n",
      "/var/folders/xb/6svjl9sj43z6gfhlcp2nc5540000gr/T/ipykernel_80825/2718244291.py:20: PerformanceWarning: indexing past lexsort depth may impact performance.\n",
      "  t_d = t_data.loc[med_lab_pair][['SUBJECT_ID','HADM_ID', k, k_a, cols_d[k_a]]]\n",
      "/var/folders/xb/6svjl9sj43z6gfhlcp2nc5540000gr/T/ipykernel_80825/2718244291.py:20: PerformanceWarning: indexing past lexsort depth may impact performance.\n",
      "  t_d = t_data.loc[med_lab_pair][['SUBJECT_ID','HADM_ID', k, k_a, cols_d[k_a]]]\n",
      "/var/folders/xb/6svjl9sj43z6gfhlcp2nc5540000gr/T/ipykernel_80825/2718244291.py:20: PerformanceWarning: indexing past lexsort depth may impact performance.\n",
      "  t_d = t_data.loc[med_lab_pair][['SUBJECT_ID','HADM_ID', k, k_a, cols_d[k_a]]]\n",
      "/var/folders/xb/6svjl9sj43z6gfhlcp2nc5540000gr/T/ipykernel_80825/2718244291.py:20: PerformanceWarning: indexing past lexsort depth may impact performance.\n",
      "  t_d = t_data.loc[med_lab_pair][['SUBJECT_ID','HADM_ID', k, k_a, cols_d[k_a]]]\n",
      "/var/folders/xb/6svjl9sj43z6gfhlcp2nc5540000gr/T/ipykernel_80825/2718244291.py:20: PerformanceWarning: indexing past lexsort depth may impact performance.\n",
      "  t_d = t_data.loc[med_lab_pair][['SUBJECT_ID','HADM_ID', k, k_a, cols_d[k_a]]]\n",
      "/var/folders/xb/6svjl9sj43z6gfhlcp2nc5540000gr/T/ipykernel_80825/2718244291.py:20: PerformanceWarning: indexing past lexsort depth may impact performance.\n",
      "  t_d = t_data.loc[med_lab_pair][['SUBJECT_ID','HADM_ID', k, k_a, cols_d[k_a]]]\n",
      "/var/folders/xb/6svjl9sj43z6gfhlcp2nc5540000gr/T/ipykernel_80825/2718244291.py:20: PerformanceWarning: indexing past lexsort depth may impact performance.\n",
      "  t_d = t_data.loc[med_lab_pair][['SUBJECT_ID','HADM_ID', k, k_a, cols_d[k_a]]]\n",
      "/var/folders/xb/6svjl9sj43z6gfhlcp2nc5540000gr/T/ipykernel_80825/2718244291.py:20: PerformanceWarning: indexing past lexsort depth may impact performance.\n",
      "  t_d = t_data.loc[med_lab_pair][['SUBJECT_ID','HADM_ID', k, k_a, cols_d[k_a]]]\n",
      "/var/folders/xb/6svjl9sj43z6gfhlcp2nc5540000gr/T/ipykernel_80825/2718244291.py:20: PerformanceWarning: indexing past lexsort depth may impact performance.\n",
      "  t_d = t_data.loc[med_lab_pair][['SUBJECT_ID','HADM_ID', k, k_a, cols_d[k_a]]]\n",
      "/var/folders/xb/6svjl9sj43z6gfhlcp2nc5540000gr/T/ipykernel_80825/2718244291.py:20: PerformanceWarning: indexing past lexsort depth may impact performance.\n",
      "  t_d = t_data.loc[med_lab_pair][['SUBJECT_ID','HADM_ID', k, k_a, cols_d[k_a]]]\n",
      "/var/folders/xb/6svjl9sj43z6gfhlcp2nc5540000gr/T/ipykernel_80825/2718244291.py:20: PerformanceWarning: indexing past lexsort depth may impact performance.\n",
      "  t_d = t_data.loc[med_lab_pair][['SUBJECT_ID','HADM_ID', k, k_a, cols_d[k_a]]]\n",
      "/var/folders/xb/6svjl9sj43z6gfhlcp2nc5540000gr/T/ipykernel_80825/2718244291.py:20: PerformanceWarning: indexing past lexsort depth may impact performance.\n",
      "  t_d = t_data.loc[med_lab_pair][['SUBJECT_ID','HADM_ID', k, k_a, cols_d[k_a]]]\n",
      "/var/folders/xb/6svjl9sj43z6gfhlcp2nc5540000gr/T/ipykernel_80825/2718244291.py:20: PerformanceWarning: indexing past lexsort depth may impact performance.\n",
      "  t_d = t_data.loc[med_lab_pair][['SUBJECT_ID','HADM_ID', k, k_a, cols_d[k_a]]]\n",
      "/var/folders/xb/6svjl9sj43z6gfhlcp2nc5540000gr/T/ipykernel_80825/2718244291.py:20: PerformanceWarning: indexing past lexsort depth may impact performance.\n",
      "  t_d = t_data.loc[med_lab_pair][['SUBJECT_ID','HADM_ID', k, k_a, cols_d[k_a]]]\n",
      "/var/folders/xb/6svjl9sj43z6gfhlcp2nc5540000gr/T/ipykernel_80825/2718244291.py:20: PerformanceWarning: indexing past lexsort depth may impact performance.\n",
      "  t_d = t_data.loc[med_lab_pair][['SUBJECT_ID','HADM_ID', k, k_a, cols_d[k_a]]]\n",
      "/var/folders/xb/6svjl9sj43z6gfhlcp2nc5540000gr/T/ipykernel_80825/2718244291.py:20: PerformanceWarning: indexing past lexsort depth may impact performance.\n",
      "  t_d = t_data.loc[med_lab_pair][['SUBJECT_ID','HADM_ID', k, k_a, cols_d[k_a]]]\n",
      "/var/folders/xb/6svjl9sj43z6gfhlcp2nc5540000gr/T/ipykernel_80825/2718244291.py:20: PerformanceWarning: indexing past lexsort depth may impact performance.\n",
      "  t_d = t_data.loc[med_lab_pair][['SUBJECT_ID','HADM_ID', k, k_a, cols_d[k_a]]]\n",
      "/var/folders/xb/6svjl9sj43z6gfhlcp2nc5540000gr/T/ipykernel_80825/2718244291.py:20: PerformanceWarning: indexing past lexsort depth may impact performance.\n",
      "  t_d = t_data.loc[med_lab_pair][['SUBJECT_ID','HADM_ID', k, k_a, cols_d[k_a]]]\n",
      "/var/folders/xb/6svjl9sj43z6gfhlcp2nc5540000gr/T/ipykernel_80825/2718244291.py:20: PerformanceWarning: indexing past lexsort depth may impact performance.\n",
      "  t_d = t_data.loc[med_lab_pair][['SUBJECT_ID','HADM_ID', k, k_a, cols_d[k_a]]]\n",
      "/var/folders/xb/6svjl9sj43z6gfhlcp2nc5540000gr/T/ipykernel_80825/2718244291.py:20: PerformanceWarning: indexing past lexsort depth may impact performance.\n",
      "  t_d = t_data.loc[med_lab_pair][['SUBJECT_ID','HADM_ID', k, k_a, cols_d[k_a]]]\n",
      "/var/folders/xb/6svjl9sj43z6gfhlcp2nc5540000gr/T/ipykernel_80825/2718244291.py:20: PerformanceWarning: indexing past lexsort depth may impact performance.\n",
      "  t_d = t_data.loc[med_lab_pair][['SUBJECT_ID','HADM_ID', k, k_a, cols_d[k_a]]]\n",
      "/var/folders/xb/6svjl9sj43z6gfhlcp2nc5540000gr/T/ipykernel_80825/2718244291.py:20: PerformanceWarning: indexing past lexsort depth may impact performance.\n",
      "  t_d = t_data.loc[med_lab_pair][['SUBJECT_ID','HADM_ID', k, k_a, cols_d[k_a]]]\n",
      "/var/folders/xb/6svjl9sj43z6gfhlcp2nc5540000gr/T/ipykernel_80825/2718244291.py:20: PerformanceWarning: indexing past lexsort depth may impact performance.\n",
      "  t_d = t_data.loc[med_lab_pair][['SUBJECT_ID','HADM_ID', k, k_a, cols_d[k_a]]]\n",
      "/var/folders/xb/6svjl9sj43z6gfhlcp2nc5540000gr/T/ipykernel_80825/2718244291.py:20: PerformanceWarning: indexing past lexsort depth may impact performance.\n",
      "  t_d = t_data.loc[med_lab_pair][['SUBJECT_ID','HADM_ID', k, k_a, cols_d[k_a]]]\n",
      "/var/folders/xb/6svjl9sj43z6gfhlcp2nc5540000gr/T/ipykernel_80825/2718244291.py:20: PerformanceWarning: indexing past lexsort depth may impact performance.\n",
      "  t_d = t_data.loc[med_lab_pair][['SUBJECT_ID','HADM_ID', k, k_a, cols_d[k_a]]]\n",
      "/var/folders/xb/6svjl9sj43z6gfhlcp2nc5540000gr/T/ipykernel_80825/2718244291.py:20: PerformanceWarning: indexing past lexsort depth may impact performance.\n",
      "  t_d = t_data.loc[med_lab_pair][['SUBJECT_ID','HADM_ID', k, k_a, cols_d[k_a]]]\n",
      "/var/folders/xb/6svjl9sj43z6gfhlcp2nc5540000gr/T/ipykernel_80825/2718244291.py:20: PerformanceWarning: indexing past lexsort depth may impact performance.\n",
      "  t_d = t_data.loc[med_lab_pair][['SUBJECT_ID','HADM_ID', k, k_a, cols_d[k_a]]]\n",
      "/var/folders/xb/6svjl9sj43z6gfhlcp2nc5540000gr/T/ipykernel_80825/2718244291.py:20: PerformanceWarning: indexing past lexsort depth may impact performance.\n",
      "  t_d = t_data.loc[med_lab_pair][['SUBJECT_ID','HADM_ID', k, k_a, cols_d[k_a]]]\n",
      "/var/folders/xb/6svjl9sj43z6gfhlcp2nc5540000gr/T/ipykernel_80825/2718244291.py:20: PerformanceWarning: indexing past lexsort depth may impact performance.\n",
      "  t_d = t_data.loc[med_lab_pair][['SUBJECT_ID','HADM_ID', k, k_a, cols_d[k_a]]]\n",
      "/var/folders/xb/6svjl9sj43z6gfhlcp2nc5540000gr/T/ipykernel_80825/2718244291.py:20: PerformanceWarning: indexing past lexsort depth may impact performance.\n",
      "  t_d = t_data.loc[med_lab_pair][['SUBJECT_ID','HADM_ID', k, k_a, cols_d[k_a]]]\n",
      "/var/folders/xb/6svjl9sj43z6gfhlcp2nc5540000gr/T/ipykernel_80825/2718244291.py:20: PerformanceWarning: indexing past lexsort depth may impact performance.\n",
      "  t_d = t_data.loc[med_lab_pair][['SUBJECT_ID','HADM_ID', k, k_a, cols_d[k_a]]]\n",
      "/var/folders/xb/6svjl9sj43z6gfhlcp2nc5540000gr/T/ipykernel_80825/2718244291.py:20: PerformanceWarning: indexing past lexsort depth may impact performance.\n",
      "  t_d = t_data.loc[med_lab_pair][['SUBJECT_ID','HADM_ID', k, k_a, cols_d[k_a]]]\n",
      "/var/folders/xb/6svjl9sj43z6gfhlcp2nc5540000gr/T/ipykernel_80825/2718244291.py:20: PerformanceWarning: indexing past lexsort depth may impact performance.\n",
      "  t_d = t_data.loc[med_lab_pair][['SUBJECT_ID','HADM_ID', k, k_a, cols_d[k_a]]]\n",
      "/var/folders/xb/6svjl9sj43z6gfhlcp2nc5540000gr/T/ipykernel_80825/2718244291.py:20: PerformanceWarning: indexing past lexsort depth may impact performance.\n",
      "  t_d = t_data.loc[med_lab_pair][['SUBJECT_ID','HADM_ID', k, k_a, cols_d[k_a]]]\n",
      "/var/folders/xb/6svjl9sj43z6gfhlcp2nc5540000gr/T/ipykernel_80825/2718244291.py:20: PerformanceWarning: indexing past lexsort depth may impact performance.\n",
      "  t_d = t_data.loc[med_lab_pair][['SUBJECT_ID','HADM_ID', k, k_a, cols_d[k_a]]]\n",
      "/var/folders/xb/6svjl9sj43z6gfhlcp2nc5540000gr/T/ipykernel_80825/2718244291.py:20: PerformanceWarning: indexing past lexsort depth may impact performance.\n",
      "  t_d = t_data.loc[med_lab_pair][['SUBJECT_ID','HADM_ID', k, k_a, cols_d[k_a]]]\n",
      "/var/folders/xb/6svjl9sj43z6gfhlcp2nc5540000gr/T/ipykernel_80825/2718244291.py:20: PerformanceWarning: indexing past lexsort depth may impact performance.\n",
      "  t_d = t_data.loc[med_lab_pair][['SUBJECT_ID','HADM_ID', k, k_a, cols_d[k_a]]]\n",
      "/var/folders/xb/6svjl9sj43z6gfhlcp2nc5540000gr/T/ipykernel_80825/2718244291.py:20: PerformanceWarning: indexing past lexsort depth may impact performance.\n",
      "  t_d = t_data.loc[med_lab_pair][['SUBJECT_ID','HADM_ID', k, k_a, cols_d[k_a]]]\n",
      "/var/folders/xb/6svjl9sj43z6gfhlcp2nc5540000gr/T/ipykernel_80825/2718244291.py:20: PerformanceWarning: indexing past lexsort depth may impact performance.\n",
      "  t_d = t_data.loc[med_lab_pair][['SUBJECT_ID','HADM_ID', k, k_a, cols_d[k_a]]]\n",
      "/var/folders/xb/6svjl9sj43z6gfhlcp2nc5540000gr/T/ipykernel_80825/2718244291.py:20: PerformanceWarning: indexing past lexsort depth may impact performance.\n",
      "  t_d = t_data.loc[med_lab_pair][['SUBJECT_ID','HADM_ID', k, k_a, cols_d[k_a]]]\n",
      "/var/folders/xb/6svjl9sj43z6gfhlcp2nc5540000gr/T/ipykernel_80825/2718244291.py:20: PerformanceWarning: indexing past lexsort depth may impact performance.\n",
      "  t_d = t_data.loc[med_lab_pair][['SUBJECT_ID','HADM_ID', k, k_a, cols_d[k_a]]]\n",
      "/var/folders/xb/6svjl9sj43z6gfhlcp2nc5540000gr/T/ipykernel_80825/2718244291.py:20: PerformanceWarning: indexing past lexsort depth may impact performance.\n",
      "  t_d = t_data.loc[med_lab_pair][['SUBJECT_ID','HADM_ID', k, k_a, cols_d[k_a]]]\n",
      "/var/folders/xb/6svjl9sj43z6gfhlcp2nc5540000gr/T/ipykernel_80825/2718244291.py:20: PerformanceWarning: indexing past lexsort depth may impact performance.\n",
      "  t_d = t_data.loc[med_lab_pair][['SUBJECT_ID','HADM_ID', k, k_a, cols_d[k_a]]]\n",
      "/var/folders/xb/6svjl9sj43z6gfhlcp2nc5540000gr/T/ipykernel_80825/2718244291.py:20: PerformanceWarning: indexing past lexsort depth may impact performance.\n",
      "  t_d = t_data.loc[med_lab_pair][['SUBJECT_ID','HADM_ID', k, k_a, cols_d[k_a]]]\n",
      "/var/folders/xb/6svjl9sj43z6gfhlcp2nc5540000gr/T/ipykernel_80825/2718244291.py:20: PerformanceWarning: indexing past lexsort depth may impact performance.\n",
      "  t_d = t_data.loc[med_lab_pair][['SUBJECT_ID','HADM_ID', k, k_a, cols_d[k_a]]]\n",
      "/var/folders/xb/6svjl9sj43z6gfhlcp2nc5540000gr/T/ipykernel_80825/2718244291.py:20: PerformanceWarning: indexing past lexsort depth may impact performance.\n",
      "  t_d = t_data.loc[med_lab_pair][['SUBJECT_ID','HADM_ID', k, k_a, cols_d[k_a]]]\n",
      "/var/folders/xb/6svjl9sj43z6gfhlcp2nc5540000gr/T/ipykernel_80825/2718244291.py:20: PerformanceWarning: indexing past lexsort depth may impact performance.\n",
      "  t_d = t_data.loc[med_lab_pair][['SUBJECT_ID','HADM_ID', k, k_a, cols_d[k_a]]]\n",
      "/var/folders/xb/6svjl9sj43z6gfhlcp2nc5540000gr/T/ipykernel_80825/2718244291.py:20: PerformanceWarning: indexing past lexsort depth may impact performance.\n",
      "  t_d = t_data.loc[med_lab_pair][['SUBJECT_ID','HADM_ID', k, k_a, cols_d[k_a]]]\n",
      "/var/folders/xb/6svjl9sj43z6gfhlcp2nc5540000gr/T/ipykernel_80825/2718244291.py:20: PerformanceWarning: indexing past lexsort depth may impact performance.\n",
      "  t_d = t_data.loc[med_lab_pair][['SUBJECT_ID','HADM_ID', k, k_a, cols_d[k_a]]]\n",
      "/var/folders/xb/6svjl9sj43z6gfhlcp2nc5540000gr/T/ipykernel_80825/2718244291.py:20: PerformanceWarning: indexing past lexsort depth may impact performance.\n",
      "  t_d = t_data.loc[med_lab_pair][['SUBJECT_ID','HADM_ID', k, k_a, cols_d[k_a]]]\n",
      "/var/folders/xb/6svjl9sj43z6gfhlcp2nc5540000gr/T/ipykernel_80825/2718244291.py:20: PerformanceWarning: indexing past lexsort depth may impact performance.\n",
      "  t_d = t_data.loc[med_lab_pair][['SUBJECT_ID','HADM_ID', k, k_a, cols_d[k_a]]]\n",
      "/var/folders/xb/6svjl9sj43z6gfhlcp2nc5540000gr/T/ipykernel_80825/2718244291.py:20: PerformanceWarning: indexing past lexsort depth may impact performance.\n",
      "  t_d = t_data.loc[med_lab_pair][['SUBJECT_ID','HADM_ID', k, k_a, cols_d[k_a]]]\n",
      "/var/folders/xb/6svjl9sj43z6gfhlcp2nc5540000gr/T/ipykernel_80825/2718244291.py:20: PerformanceWarning: indexing past lexsort depth may impact performance.\n",
      "  t_d = t_data.loc[med_lab_pair][['SUBJECT_ID','HADM_ID', k, k_a, cols_d[k_a]]]\n",
      "/var/folders/xb/6svjl9sj43z6gfhlcp2nc5540000gr/T/ipykernel_80825/2718244291.py:20: PerformanceWarning: indexing past lexsort depth may impact performance.\n",
      "  t_d = t_data.loc[med_lab_pair][['SUBJECT_ID','HADM_ID', k, k_a, cols_d[k_a]]]\n",
      "/var/folders/xb/6svjl9sj43z6gfhlcp2nc5540000gr/T/ipykernel_80825/2718244291.py:20: PerformanceWarning: indexing past lexsort depth may impact performance.\n",
      "  t_d = t_data.loc[med_lab_pair][['SUBJECT_ID','HADM_ID', k, k_a, cols_d[k_a]]]\n",
      "/var/folders/xb/6svjl9sj43z6gfhlcp2nc5540000gr/T/ipykernel_80825/2718244291.py:20: PerformanceWarning: indexing past lexsort depth may impact performance.\n",
      "  t_d = t_data.loc[med_lab_pair][['SUBJECT_ID','HADM_ID', k, k_a, cols_d[k_a]]]\n",
      "/var/folders/xb/6svjl9sj43z6gfhlcp2nc5540000gr/T/ipykernel_80825/2718244291.py:20: PerformanceWarning: indexing past lexsort depth may impact performance.\n",
      "  t_d = t_data.loc[med_lab_pair][['SUBJECT_ID','HADM_ID', k, k_a, cols_d[k_a]]]\n",
      "/var/folders/xb/6svjl9sj43z6gfhlcp2nc5540000gr/T/ipykernel_80825/2718244291.py:20: PerformanceWarning: indexing past lexsort depth may impact performance.\n",
      "  t_d = t_data.loc[med_lab_pair][['SUBJECT_ID','HADM_ID', k, k_a, cols_d[k_a]]]\n",
      "/var/folders/xb/6svjl9sj43z6gfhlcp2nc5540000gr/T/ipykernel_80825/2718244291.py:20: PerformanceWarning: indexing past lexsort depth may impact performance.\n",
      "  t_d = t_data.loc[med_lab_pair][['SUBJECT_ID','HADM_ID', k, k_a, cols_d[k_a]]]\n",
      "/var/folders/xb/6svjl9sj43z6gfhlcp2nc5540000gr/T/ipykernel_80825/2718244291.py:20: PerformanceWarning: indexing past lexsort depth may impact performance.\n",
      "  t_d = t_data.loc[med_lab_pair][['SUBJECT_ID','HADM_ID', k, k_a, cols_d[k_a]]]\n",
      "/var/folders/xb/6svjl9sj43z6gfhlcp2nc5540000gr/T/ipykernel_80825/2718244291.py:20: PerformanceWarning: indexing past lexsort depth may impact performance.\n",
      "  t_d = t_data.loc[med_lab_pair][['SUBJECT_ID','HADM_ID', k, k_a, cols_d[k_a]]]\n",
      "/var/folders/xb/6svjl9sj43z6gfhlcp2nc5540000gr/T/ipykernel_80825/2718244291.py:20: PerformanceWarning: indexing past lexsort depth may impact performance.\n",
      "  t_d = t_data.loc[med_lab_pair][['SUBJECT_ID','HADM_ID', k, k_a, cols_d[k_a]]]\n",
      "/var/folders/xb/6svjl9sj43z6gfhlcp2nc5540000gr/T/ipykernel_80825/2718244291.py:20: PerformanceWarning: indexing past lexsort depth may impact performance.\n",
      "  t_d = t_data.loc[med_lab_pair][['SUBJECT_ID','HADM_ID', k, k_a, cols_d[k_a]]]\n",
      "/var/folders/xb/6svjl9sj43z6gfhlcp2nc5540000gr/T/ipykernel_80825/2718244291.py:20: PerformanceWarning: indexing past lexsort depth may impact performance.\n",
      "  t_d = t_data.loc[med_lab_pair][['SUBJECT_ID','HADM_ID', k, k_a, cols_d[k_a]]]\n",
      "/var/folders/xb/6svjl9sj43z6gfhlcp2nc5540000gr/T/ipykernel_80825/2718244291.py:20: PerformanceWarning: indexing past lexsort depth may impact performance.\n",
      "  t_d = t_data.loc[med_lab_pair][['SUBJECT_ID','HADM_ID', k, k_a, cols_d[k_a]]]\n",
      "/var/folders/xb/6svjl9sj43z6gfhlcp2nc5540000gr/T/ipykernel_80825/2718244291.py:20: PerformanceWarning: indexing past lexsort depth may impact performance.\n",
      "  t_d = t_data.loc[med_lab_pair][['SUBJECT_ID','HADM_ID', k, k_a, cols_d[k_a]]]\n",
      "/var/folders/xb/6svjl9sj43z6gfhlcp2nc5540000gr/T/ipykernel_80825/2718244291.py:20: PerformanceWarning: indexing past lexsort depth may impact performance.\n",
      "  t_d = t_data.loc[med_lab_pair][['SUBJECT_ID','HADM_ID', k, k_a, cols_d[k_a]]]\n",
      "/var/folders/xb/6svjl9sj43z6gfhlcp2nc5540000gr/T/ipykernel_80825/2718244291.py:20: PerformanceWarning: indexing past lexsort depth may impact performance.\n",
      "  t_d = t_data.loc[med_lab_pair][['SUBJECT_ID','HADM_ID', k, k_a, cols_d[k_a]]]\n",
      "/var/folders/xb/6svjl9sj43z6gfhlcp2nc5540000gr/T/ipykernel_80825/2718244291.py:20: PerformanceWarning: indexing past lexsort depth may impact performance.\n",
      "  t_d = t_data.loc[med_lab_pair][['SUBJECT_ID','HADM_ID', k, k_a, cols_d[k_a]]]\n",
      "/var/folders/xb/6svjl9sj43z6gfhlcp2nc5540000gr/T/ipykernel_80825/2718244291.py:20: PerformanceWarning: indexing past lexsort depth may impact performance.\n",
      "  t_d = t_data.loc[med_lab_pair][['SUBJECT_ID','HADM_ID', k, k_a, cols_d[k_a]]]\n",
      "/var/folders/xb/6svjl9sj43z6gfhlcp2nc5540000gr/T/ipykernel_80825/2718244291.py:20: PerformanceWarning: indexing past lexsort depth may impact performance.\n",
      "  t_d = t_data.loc[med_lab_pair][['SUBJECT_ID','HADM_ID', k, k_a, cols_d[k_a]]]\n",
      "/var/folders/xb/6svjl9sj43z6gfhlcp2nc5540000gr/T/ipykernel_80825/2718244291.py:20: PerformanceWarning: indexing past lexsort depth may impact performance.\n",
      "  t_d = t_data.loc[med_lab_pair][['SUBJECT_ID','HADM_ID', k, k_a, cols_d[k_a]]]\n",
      "/var/folders/xb/6svjl9sj43z6gfhlcp2nc5540000gr/T/ipykernel_80825/2718244291.py:20: PerformanceWarning: indexing past lexsort depth may impact performance.\n",
      "  t_d = t_data.loc[med_lab_pair][['SUBJECT_ID','HADM_ID', k, k_a, cols_d[k_a]]]\n",
      "/var/folders/xb/6svjl9sj43z6gfhlcp2nc5540000gr/T/ipykernel_80825/2718244291.py:20: PerformanceWarning: indexing past lexsort depth may impact performance.\n",
      "  t_d = t_data.loc[med_lab_pair][['SUBJECT_ID','HADM_ID', k, k_a, cols_d[k_a]]]\n",
      "/var/folders/xb/6svjl9sj43z6gfhlcp2nc5540000gr/T/ipykernel_80825/2718244291.py:20: PerformanceWarning: indexing past lexsort depth may impact performance.\n",
      "  t_d = t_data.loc[med_lab_pair][['SUBJECT_ID','HADM_ID', k, k_a, cols_d[k_a]]]\n",
      "/var/folders/xb/6svjl9sj43z6gfhlcp2nc5540000gr/T/ipykernel_80825/2718244291.py:20: PerformanceWarning: indexing past lexsort depth may impact performance.\n",
      "  t_d = t_data.loc[med_lab_pair][['SUBJECT_ID','HADM_ID', k, k_a, cols_d[k_a]]]\n",
      "/var/folders/xb/6svjl9sj43z6gfhlcp2nc5540000gr/T/ipykernel_80825/2718244291.py:20: PerformanceWarning: indexing past lexsort depth may impact performance.\n",
      "  t_d = t_data.loc[med_lab_pair][['SUBJECT_ID','HADM_ID', k, k_a, cols_d[k_a]]]\n",
      "/var/folders/xb/6svjl9sj43z6gfhlcp2nc5540000gr/T/ipykernel_80825/2718244291.py:20: PerformanceWarning: indexing past lexsort depth may impact performance.\n",
      "  t_d = t_data.loc[med_lab_pair][['SUBJECT_ID','HADM_ID', k, k_a, cols_d[k_a]]]\n",
      "/var/folders/xb/6svjl9sj43z6gfhlcp2nc5540000gr/T/ipykernel_80825/2718244291.py:20: PerformanceWarning: indexing past lexsort depth may impact performance.\n",
      "  t_d = t_data.loc[med_lab_pair][['SUBJECT_ID','HADM_ID', k, k_a, cols_d[k_a]]]\n",
      "/var/folders/xb/6svjl9sj43z6gfhlcp2nc5540000gr/T/ipykernel_80825/2718244291.py:20: PerformanceWarning: indexing past lexsort depth may impact performance.\n",
      "  t_d = t_data.loc[med_lab_pair][['SUBJECT_ID','HADM_ID', k, k_a, cols_d[k_a]]]\n",
      "/var/folders/xb/6svjl9sj43z6gfhlcp2nc5540000gr/T/ipykernel_80825/2718244291.py:20: PerformanceWarning: indexing past lexsort depth may impact performance.\n",
      "  t_d = t_data.loc[med_lab_pair][['SUBJECT_ID','HADM_ID', k, k_a, cols_d[k_a]]]\n",
      "/var/folders/xb/6svjl9sj43z6gfhlcp2nc5540000gr/T/ipykernel_80825/2718244291.py:20: PerformanceWarning: indexing past lexsort depth may impact performance.\n",
      "  t_d = t_data.loc[med_lab_pair][['SUBJECT_ID','HADM_ID', k, k_a, cols_d[k_a]]]\n",
      "/var/folders/xb/6svjl9sj43z6gfhlcp2nc5540000gr/T/ipykernel_80825/2718244291.py:20: PerformanceWarning: indexing past lexsort depth may impact performance.\n",
      "  t_d = t_data.loc[med_lab_pair][['SUBJECT_ID','HADM_ID', k, k_a, cols_d[k_a]]]\n",
      "/var/folders/xb/6svjl9sj43z6gfhlcp2nc5540000gr/T/ipykernel_80825/2718244291.py:20: PerformanceWarning: indexing past lexsort depth may impact performance.\n",
      "  t_d = t_data.loc[med_lab_pair][['SUBJECT_ID','HADM_ID', k, k_a, cols_d[k_a]]]\n",
      "/var/folders/xb/6svjl9sj43z6gfhlcp2nc5540000gr/T/ipykernel_80825/2718244291.py:20: PerformanceWarning: indexing past lexsort depth may impact performance.\n",
      "  t_d = t_data.loc[med_lab_pair][['SUBJECT_ID','HADM_ID', k, k_a, cols_d[k_a]]]\n",
      "/var/folders/xb/6svjl9sj43z6gfhlcp2nc5540000gr/T/ipykernel_80825/2718244291.py:20: PerformanceWarning: indexing past lexsort depth may impact performance.\n",
      "  t_d = t_data.loc[med_lab_pair][['SUBJECT_ID','HADM_ID', k, k_a, cols_d[k_a]]]\n",
      "/var/folders/xb/6svjl9sj43z6gfhlcp2nc5540000gr/T/ipykernel_80825/2718244291.py:20: PerformanceWarning: indexing past lexsort depth may impact performance.\n",
      "  t_d = t_data.loc[med_lab_pair][['SUBJECT_ID','HADM_ID', k, k_a, cols_d[k_a]]]\n",
      "/var/folders/xb/6svjl9sj43z6gfhlcp2nc5540000gr/T/ipykernel_80825/2718244291.py:20: PerformanceWarning: indexing past lexsort depth may impact performance.\n",
      "  t_d = t_data.loc[med_lab_pair][['SUBJECT_ID','HADM_ID', k, k_a, cols_d[k_a]]]\n",
      "/var/folders/xb/6svjl9sj43z6gfhlcp2nc5540000gr/T/ipykernel_80825/2718244291.py:20: PerformanceWarning: indexing past lexsort depth may impact performance.\n",
      "  t_d = t_data.loc[med_lab_pair][['SUBJECT_ID','HADM_ID', k, k_a, cols_d[k_a]]]\n",
      "/var/folders/xb/6svjl9sj43z6gfhlcp2nc5540000gr/T/ipykernel_80825/2718244291.py:20: PerformanceWarning: indexing past lexsort depth may impact performance.\n",
      "  t_d = t_data.loc[med_lab_pair][['SUBJECT_ID','HADM_ID', k, k_a, cols_d[k_a]]]\n",
      "/var/folders/xb/6svjl9sj43z6gfhlcp2nc5540000gr/T/ipykernel_80825/2718244291.py:20: PerformanceWarning: indexing past lexsort depth may impact performance.\n",
      "  t_d = t_data.loc[med_lab_pair][['SUBJECT_ID','HADM_ID', k, k_a, cols_d[k_a]]]\n",
      "/var/folders/xb/6svjl9sj43z6gfhlcp2nc5540000gr/T/ipykernel_80825/2718244291.py:20: PerformanceWarning: indexing past lexsort depth may impact performance.\n",
      "  t_d = t_data.loc[med_lab_pair][['SUBJECT_ID','HADM_ID', k, k_a, cols_d[k_a]]]\n",
      "/var/folders/xb/6svjl9sj43z6gfhlcp2nc5540000gr/T/ipykernel_80825/2718244291.py:20: PerformanceWarning: indexing past lexsort depth may impact performance.\n",
      "  t_d = t_data.loc[med_lab_pair][['SUBJECT_ID','HADM_ID', k, k_a, cols_d[k_a]]]\n",
      "/var/folders/xb/6svjl9sj43z6gfhlcp2nc5540000gr/T/ipykernel_80825/2718244291.py:20: PerformanceWarning: indexing past lexsort depth may impact performance.\n",
      "  t_d = t_data.loc[med_lab_pair][['SUBJECT_ID','HADM_ID', k, k_a, cols_d[k_a]]]\n",
      "/var/folders/xb/6svjl9sj43z6gfhlcp2nc5540000gr/T/ipykernel_80825/2718244291.py:20: PerformanceWarning: indexing past lexsort depth may impact performance.\n",
      "  t_d = t_data.loc[med_lab_pair][['SUBJECT_ID','HADM_ID', k, k_a, cols_d[k_a]]]\n",
      "/var/folders/xb/6svjl9sj43z6gfhlcp2nc5540000gr/T/ipykernel_80825/2718244291.py:20: PerformanceWarning: indexing past lexsort depth may impact performance.\n",
      "  t_d = t_data.loc[med_lab_pair][['SUBJECT_ID','HADM_ID', k, k_a, cols_d[k_a]]]\n",
      "/var/folders/xb/6svjl9sj43z6gfhlcp2nc5540000gr/T/ipykernel_80825/2718244291.py:20: PerformanceWarning: indexing past lexsort depth may impact performance.\n",
      "  t_d = t_data.loc[med_lab_pair][['SUBJECT_ID','HADM_ID', k, k_a, cols_d[k_a]]]\n",
      "/var/folders/xb/6svjl9sj43z6gfhlcp2nc5540000gr/T/ipykernel_80825/2718244291.py:20: PerformanceWarning: indexing past lexsort depth may impact performance.\n",
      "  t_d = t_data.loc[med_lab_pair][['SUBJECT_ID','HADM_ID', k, k_a, cols_d[k_a]]]\n",
      "/var/folders/xb/6svjl9sj43z6gfhlcp2nc5540000gr/T/ipykernel_80825/2718244291.py:20: PerformanceWarning: indexing past lexsort depth may impact performance.\n",
      "  t_d = t_data.loc[med_lab_pair][['SUBJECT_ID','HADM_ID', k, k_a, cols_d[k_a]]]\n",
      "/var/folders/xb/6svjl9sj43z6gfhlcp2nc5540000gr/T/ipykernel_80825/2718244291.py:20: PerformanceWarning: indexing past lexsort depth may impact performance.\n",
      "  t_d = t_data.loc[med_lab_pair][['SUBJECT_ID','HADM_ID', k, k_a, cols_d[k_a]]]\n",
      "/var/folders/xb/6svjl9sj43z6gfhlcp2nc5540000gr/T/ipykernel_80825/2718244291.py:20: PerformanceWarning: indexing past lexsort depth may impact performance.\n",
      "  t_d = t_data.loc[med_lab_pair][['SUBJECT_ID','HADM_ID', k, k_a, cols_d[k_a]]]\n",
      "/var/folders/xb/6svjl9sj43z6gfhlcp2nc5540000gr/T/ipykernel_80825/2718244291.py:20: PerformanceWarning: indexing past lexsort depth may impact performance.\n",
      "  t_d = t_data.loc[med_lab_pair][['SUBJECT_ID','HADM_ID', k, k_a, cols_d[k_a]]]\n",
      "/var/folders/xb/6svjl9sj43z6gfhlcp2nc5540000gr/T/ipykernel_80825/2718244291.py:20: PerformanceWarning: indexing past lexsort depth may impact performance.\n",
      "  t_d = t_data.loc[med_lab_pair][['SUBJECT_ID','HADM_ID', k, k_a, cols_d[k_a]]]\n",
      "/var/folders/xb/6svjl9sj43z6gfhlcp2nc5540000gr/T/ipykernel_80825/2718244291.py:20: PerformanceWarning: indexing past lexsort depth may impact performance.\n",
      "  t_d = t_data.loc[med_lab_pair][['SUBJECT_ID','HADM_ID', k, k_a, cols_d[k_a]]]\n",
      "/var/folders/xb/6svjl9sj43z6gfhlcp2nc5540000gr/T/ipykernel_80825/2718244291.py:20: PerformanceWarning: indexing past lexsort depth may impact performance.\n",
      "  t_d = t_data.loc[med_lab_pair][['SUBJECT_ID','HADM_ID', k, k_a, cols_d[k_a]]]\n",
      "/var/folders/xb/6svjl9sj43z6gfhlcp2nc5540000gr/T/ipykernel_80825/2718244291.py:20: PerformanceWarning: indexing past lexsort depth may impact performance.\n",
      "  t_d = t_data.loc[med_lab_pair][['SUBJECT_ID','HADM_ID', k, k_a, cols_d[k_a]]]\n",
      "/var/folders/xb/6svjl9sj43z6gfhlcp2nc5540000gr/T/ipykernel_80825/2718244291.py:20: PerformanceWarning: indexing past lexsort depth may impact performance.\n",
      "  t_d = t_data.loc[med_lab_pair][['SUBJECT_ID','HADM_ID', k, k_a, cols_d[k_a]]]\n",
      "/var/folders/xb/6svjl9sj43z6gfhlcp2nc5540000gr/T/ipykernel_80825/2718244291.py:20: PerformanceWarning: indexing past lexsort depth may impact performance.\n",
      "  t_d = t_data.loc[med_lab_pair][['SUBJECT_ID','HADM_ID', k, k_a, cols_d[k_a]]]\n",
      "/var/folders/xb/6svjl9sj43z6gfhlcp2nc5540000gr/T/ipykernel_80825/2718244291.py:20: PerformanceWarning: indexing past lexsort depth may impact performance.\n",
      "  t_d = t_data.loc[med_lab_pair][['SUBJECT_ID','HADM_ID', k, k_a, cols_d[k_a]]]\n",
      "/var/folders/xb/6svjl9sj43z6gfhlcp2nc5540000gr/T/ipykernel_80825/2718244291.py:20: PerformanceWarning: indexing past lexsort depth may impact performance.\n",
      "  t_d = t_data.loc[med_lab_pair][['SUBJECT_ID','HADM_ID', k, k_a, cols_d[k_a]]]\n",
      "/var/folders/xb/6svjl9sj43z6gfhlcp2nc5540000gr/T/ipykernel_80825/2718244291.py:20: PerformanceWarning: indexing past lexsort depth may impact performance.\n",
      "  t_d = t_data.loc[med_lab_pair][['SUBJECT_ID','HADM_ID', k, k_a, cols_d[k_a]]]\n",
      "/var/folders/xb/6svjl9sj43z6gfhlcp2nc5540000gr/T/ipykernel_80825/2718244291.py:20: PerformanceWarning: indexing past lexsort depth may impact performance.\n",
      "  t_d = t_data.loc[med_lab_pair][['SUBJECT_ID','HADM_ID', k, k_a, cols_d[k_a]]]\n",
      "/var/folders/xb/6svjl9sj43z6gfhlcp2nc5540000gr/T/ipykernel_80825/2718244291.py:20: PerformanceWarning: indexing past lexsort depth may impact performance.\n",
      "  t_d = t_data.loc[med_lab_pair][['SUBJECT_ID','HADM_ID', k, k_a, cols_d[k_a]]]\n",
      "/var/folders/xb/6svjl9sj43z6gfhlcp2nc5540000gr/T/ipykernel_80825/2718244291.py:20: PerformanceWarning: indexing past lexsort depth may impact performance.\n",
      "  t_d = t_data.loc[med_lab_pair][['SUBJECT_ID','HADM_ID', k, k_a, cols_d[k_a]]]\n",
      "/var/folders/xb/6svjl9sj43z6gfhlcp2nc5540000gr/T/ipykernel_80825/2718244291.py:20: PerformanceWarning: indexing past lexsort depth may impact performance.\n",
      "  t_d = t_data.loc[med_lab_pair][['SUBJECT_ID','HADM_ID', k, k_a, cols_d[k_a]]]\n",
      "/var/folders/xb/6svjl9sj43z6gfhlcp2nc5540000gr/T/ipykernel_80825/2718244291.py:20: PerformanceWarning: indexing past lexsort depth may impact performance.\n",
      "  t_d = t_data.loc[med_lab_pair][['SUBJECT_ID','HADM_ID', k, k_a, cols_d[k_a]]]\n",
      "/var/folders/xb/6svjl9sj43z6gfhlcp2nc5540000gr/T/ipykernel_80825/2718244291.py:20: PerformanceWarning: indexing past lexsort depth may impact performance.\n",
      "  t_d = t_data.loc[med_lab_pair][['SUBJECT_ID','HADM_ID', k, k_a, cols_d[k_a]]]\n",
      "/var/folders/xb/6svjl9sj43z6gfhlcp2nc5540000gr/T/ipykernel_80825/2718244291.py:20: PerformanceWarning: indexing past lexsort depth may impact performance.\n",
      "  t_d = t_data.loc[med_lab_pair][['SUBJECT_ID','HADM_ID', k, k_a, cols_d[k_a]]]\n",
      "/var/folders/xb/6svjl9sj43z6gfhlcp2nc5540000gr/T/ipykernel_80825/2718244291.py:20: PerformanceWarning: indexing past lexsort depth may impact performance.\n",
      "  t_d = t_data.loc[med_lab_pair][['SUBJECT_ID','HADM_ID', k, k_a, cols_d[k_a]]]\n",
      "/var/folders/xb/6svjl9sj43z6gfhlcp2nc5540000gr/T/ipykernel_80825/2718244291.py:20: PerformanceWarning: indexing past lexsort depth may impact performance.\n",
      "  t_d = t_data.loc[med_lab_pair][['SUBJECT_ID','HADM_ID', k, k_a, cols_d[k_a]]]\n",
      "/var/folders/xb/6svjl9sj43z6gfhlcp2nc5540000gr/T/ipykernel_80825/2718244291.py:20: PerformanceWarning: indexing past lexsort depth may impact performance.\n",
      "  t_d = t_data.loc[med_lab_pair][['SUBJECT_ID','HADM_ID', k, k_a, cols_d[k_a]]]\n",
      "/var/folders/xb/6svjl9sj43z6gfhlcp2nc5540000gr/T/ipykernel_80825/2718244291.py:20: PerformanceWarning: indexing past lexsort depth may impact performance.\n",
      "  t_d = t_data.loc[med_lab_pair][['SUBJECT_ID','HADM_ID', k, k_a, cols_d[k_a]]]\n",
      "/var/folders/xb/6svjl9sj43z6gfhlcp2nc5540000gr/T/ipykernel_80825/2718244291.py:20: PerformanceWarning: indexing past lexsort depth may impact performance.\n",
      "  t_d = t_data.loc[med_lab_pair][['SUBJECT_ID','HADM_ID', k, k_a, cols_d[k_a]]]\n",
      "/var/folders/xb/6svjl9sj43z6gfhlcp2nc5540000gr/T/ipykernel_80825/2718244291.py:20: PerformanceWarning: indexing past lexsort depth may impact performance.\n",
      "  t_d = t_data.loc[med_lab_pair][['SUBJECT_ID','HADM_ID', k, k_a, cols_d[k_a]]]\n",
      "/var/folders/xb/6svjl9sj43z6gfhlcp2nc5540000gr/T/ipykernel_80825/2718244291.py:20: PerformanceWarning: indexing past lexsort depth may impact performance.\n",
      "  t_d = t_data.loc[med_lab_pair][['SUBJECT_ID','HADM_ID', k, k_a, cols_d[k_a]]]\n",
      "/var/folders/xb/6svjl9sj43z6gfhlcp2nc5540000gr/T/ipykernel_80825/2718244291.py:20: PerformanceWarning: indexing past lexsort depth may impact performance.\n",
      "  t_d = t_data.loc[med_lab_pair][['SUBJECT_ID','HADM_ID', k, k_a, cols_d[k_a]]]\n",
      "/var/folders/xb/6svjl9sj43z6gfhlcp2nc5540000gr/T/ipykernel_80825/2718244291.py:20: PerformanceWarning: indexing past lexsort depth may impact performance.\n",
      "  t_d = t_data.loc[med_lab_pair][['SUBJECT_ID','HADM_ID', k, k_a, cols_d[k_a]]]\n",
      "/var/folders/xb/6svjl9sj43z6gfhlcp2nc5540000gr/T/ipykernel_80825/2718244291.py:20: PerformanceWarning: indexing past lexsort depth may impact performance.\n",
      "  t_d = t_data.loc[med_lab_pair][['SUBJECT_ID','HADM_ID', k, k_a, cols_d[k_a]]]\n",
      "/var/folders/xb/6svjl9sj43z6gfhlcp2nc5540000gr/T/ipykernel_80825/2718244291.py:20: PerformanceWarning: indexing past lexsort depth may impact performance.\n",
      "  t_d = t_data.loc[med_lab_pair][['SUBJECT_ID','HADM_ID', k, k_a, cols_d[k_a]]]\n",
      "/var/folders/xb/6svjl9sj43z6gfhlcp2nc5540000gr/T/ipykernel_80825/2718244291.py:20: PerformanceWarning: indexing past lexsort depth may impact performance.\n",
      "  t_d = t_data.loc[med_lab_pair][['SUBJECT_ID','HADM_ID', k, k_a, cols_d[k_a]]]\n",
      "/var/folders/xb/6svjl9sj43z6gfhlcp2nc5540000gr/T/ipykernel_80825/2718244291.py:20: PerformanceWarning: indexing past lexsort depth may impact performance.\n",
      "  t_d = t_data.loc[med_lab_pair][['SUBJECT_ID','HADM_ID', k, k_a, cols_d[k_a]]]\n",
      "/var/folders/xb/6svjl9sj43z6gfhlcp2nc5540000gr/T/ipykernel_80825/2718244291.py:20: PerformanceWarning: indexing past lexsort depth may impact performance.\n",
      "  t_d = t_data.loc[med_lab_pair][['SUBJECT_ID','HADM_ID', k, k_a, cols_d[k_a]]]\n",
      "/var/folders/xb/6svjl9sj43z6gfhlcp2nc5540000gr/T/ipykernel_80825/2718244291.py:20: PerformanceWarning: indexing past lexsort depth may impact performance.\n",
      "  t_d = t_data.loc[med_lab_pair][['SUBJECT_ID','HADM_ID', k, k_a, cols_d[k_a]]]\n",
      "/var/folders/xb/6svjl9sj43z6gfhlcp2nc5540000gr/T/ipykernel_80825/2718244291.py:20: PerformanceWarning: indexing past lexsort depth may impact performance.\n",
      "  t_d = t_data.loc[med_lab_pair][['SUBJECT_ID','HADM_ID', k, k_a, cols_d[k_a]]]\n",
      "/var/folders/xb/6svjl9sj43z6gfhlcp2nc5540000gr/T/ipykernel_80825/2718244291.py:20: PerformanceWarning: indexing past lexsort depth may impact performance.\n",
      "  t_d = t_data.loc[med_lab_pair][['SUBJECT_ID','HADM_ID', k, k_a, cols_d[k_a]]]\n",
      "/var/folders/xb/6svjl9sj43z6gfhlcp2nc5540000gr/T/ipykernel_80825/2718244291.py:20: PerformanceWarning: indexing past lexsort depth may impact performance.\n",
      "  t_d = t_data.loc[med_lab_pair][['SUBJECT_ID','HADM_ID', k, k_a, cols_d[k_a]]]\n",
      "/var/folders/xb/6svjl9sj43z6gfhlcp2nc5540000gr/T/ipykernel_80825/2718244291.py:20: PerformanceWarning: indexing past lexsort depth may impact performance.\n",
      "  t_d = t_data.loc[med_lab_pair][['SUBJECT_ID','HADM_ID', k, k_a, cols_d[k_a]]]\n",
      "/var/folders/xb/6svjl9sj43z6gfhlcp2nc5540000gr/T/ipykernel_80825/2718244291.py:20: PerformanceWarning: indexing past lexsort depth may impact performance.\n",
      "  t_d = t_data.loc[med_lab_pair][['SUBJECT_ID','HADM_ID', k, k_a, cols_d[k_a]]]\n",
      "/var/folders/xb/6svjl9sj43z6gfhlcp2nc5540000gr/T/ipykernel_80825/2718244291.py:20: PerformanceWarning: indexing past lexsort depth may impact performance.\n",
      "  t_d = t_data.loc[med_lab_pair][['SUBJECT_ID','HADM_ID', k, k_a, cols_d[k_a]]]\n",
      "/var/folders/xb/6svjl9sj43z6gfhlcp2nc5540000gr/T/ipykernel_80825/2718244291.py:20: PerformanceWarning: indexing past lexsort depth may impact performance.\n",
      "  t_d = t_data.loc[med_lab_pair][['SUBJECT_ID','HADM_ID', k, k_a, cols_d[k_a]]]\n",
      "/var/folders/xb/6svjl9sj43z6gfhlcp2nc5540000gr/T/ipykernel_80825/2718244291.py:20: PerformanceWarning: indexing past lexsort depth may impact performance.\n",
      "  t_d = t_data.loc[med_lab_pair][['SUBJECT_ID','HADM_ID', k, k_a, cols_d[k_a]]]\n",
      "/var/folders/xb/6svjl9sj43z6gfhlcp2nc5540000gr/T/ipykernel_80825/2718244291.py:20: PerformanceWarning: indexing past lexsort depth may impact performance.\n",
      "  t_d = t_data.loc[med_lab_pair][['SUBJECT_ID','HADM_ID', k, k_a, cols_d[k_a]]]\n",
      "/var/folders/xb/6svjl9sj43z6gfhlcp2nc5540000gr/T/ipykernel_80825/2718244291.py:20: PerformanceWarning: indexing past lexsort depth may impact performance.\n",
      "  t_d = t_data.loc[med_lab_pair][['SUBJECT_ID','HADM_ID', k, k_a, cols_d[k_a]]]\n",
      "/var/folders/xb/6svjl9sj43z6gfhlcp2nc5540000gr/T/ipykernel_80825/2718244291.py:20: PerformanceWarning: indexing past lexsort depth may impact performance.\n",
      "  t_d = t_data.loc[med_lab_pair][['SUBJECT_ID','HADM_ID', k, k_a, cols_d[k_a]]]\n",
      "/var/folders/xb/6svjl9sj43z6gfhlcp2nc5540000gr/T/ipykernel_80825/2718244291.py:20: PerformanceWarning: indexing past lexsort depth may impact performance.\n",
      "  t_d = t_data.loc[med_lab_pair][['SUBJECT_ID','HADM_ID', k, k_a, cols_d[k_a]]]\n",
      "/var/folders/xb/6svjl9sj43z6gfhlcp2nc5540000gr/T/ipykernel_80825/2718244291.py:20: PerformanceWarning: indexing past lexsort depth may impact performance.\n",
      "  t_d = t_data.loc[med_lab_pair][['SUBJECT_ID','HADM_ID', k, k_a, cols_d[k_a]]]\n",
      "/var/folders/xb/6svjl9sj43z6gfhlcp2nc5540000gr/T/ipykernel_80825/2718244291.py:20: PerformanceWarning: indexing past lexsort depth may impact performance.\n",
      "  t_d = t_data.loc[med_lab_pair][['SUBJECT_ID','HADM_ID', k, k_a, cols_d[k_a]]]\n",
      "/var/folders/xb/6svjl9sj43z6gfhlcp2nc5540000gr/T/ipykernel_80825/2718244291.py:20: PerformanceWarning: indexing past lexsort depth may impact performance.\n",
      "  t_d = t_data.loc[med_lab_pair][['SUBJECT_ID','HADM_ID', k, k_a, cols_d[k_a]]]\n",
      "/var/folders/xb/6svjl9sj43z6gfhlcp2nc5540000gr/T/ipykernel_80825/2718244291.py:20: PerformanceWarning: indexing past lexsort depth may impact performance.\n",
      "  t_d = t_data.loc[med_lab_pair][['SUBJECT_ID','HADM_ID', k, k_a, cols_d[k_a]]]\n",
      "/var/folders/xb/6svjl9sj43z6gfhlcp2nc5540000gr/T/ipykernel_80825/2718244291.py:20: PerformanceWarning: indexing past lexsort depth may impact performance.\n",
      "  t_d = t_data.loc[med_lab_pair][['SUBJECT_ID','HADM_ID', k, k_a, cols_d[k_a]]]\n",
      "/var/folders/xb/6svjl9sj43z6gfhlcp2nc5540000gr/T/ipykernel_80825/2718244291.py:20: PerformanceWarning: indexing past lexsort depth may impact performance.\n",
      "  t_d = t_data.loc[med_lab_pair][['SUBJECT_ID','HADM_ID', k, k_a, cols_d[k_a]]]\n",
      "/var/folders/xb/6svjl9sj43z6gfhlcp2nc5540000gr/T/ipykernel_80825/2718244291.py:20: PerformanceWarning: indexing past lexsort depth may impact performance.\n",
      "  t_d = t_data.loc[med_lab_pair][['SUBJECT_ID','HADM_ID', k, k_a, cols_d[k_a]]]\n",
      "/var/folders/xb/6svjl9sj43z6gfhlcp2nc5540000gr/T/ipykernel_80825/2718244291.py:20: PerformanceWarning: indexing past lexsort depth may impact performance.\n",
      "  t_d = t_data.loc[med_lab_pair][['SUBJECT_ID','HADM_ID', k, k_a, cols_d[k_a]]]\n",
      "/var/folders/xb/6svjl9sj43z6gfhlcp2nc5540000gr/T/ipykernel_80825/2718244291.py:20: PerformanceWarning: indexing past lexsort depth may impact performance.\n",
      "  t_d = t_data.loc[med_lab_pair][['SUBJECT_ID','HADM_ID', k, k_a, cols_d[k_a]]]\n"
     ]
    },
    {
     "name": "stdout",
     "output_type": "stream",
     "text": [
      "After Window:  after_abs_9_4_sp\n",
      "After Window:  after_abs_13_4_sp\n",
      "After Window:  after_abs_17_4_sp\n",
      "After Window:  after_abs_21_4_sp\n",
      "After Window:  after_abs_0_0_sp\n",
      "Before Window:  before_abs_0_0_sp\n",
      "After Window:  after_abs_1_4_sp\n",
      "After Window:  after_abs_5_4_sp\n",
      "After Window:  after_abs_9_4_sp\n",
      "After Window:  after_abs_13_4_sp\n",
      "After Window:  after_abs_17_4_sp\n",
      "After Window:  after_abs_21_4_sp\n",
      "After Window:  after_abs_0_0_sp\n"
     ]
    },
    {
     "name": "stderr",
     "output_type": "stream",
     "text": [
      "/var/folders/xb/6svjl9sj43z6gfhlcp2nc5540000gr/T/ipykernel_80825/2718244291.py:20: PerformanceWarning: indexing past lexsort depth may impact performance.\n",
      "  t_d = t_data.loc[med_lab_pair][['SUBJECT_ID','HADM_ID', k, k_a, cols_d[k_a]]]\n",
      "/var/folders/xb/6svjl9sj43z6gfhlcp2nc5540000gr/T/ipykernel_80825/2718244291.py:20: PerformanceWarning: indexing past lexsort depth may impact performance.\n",
      "  t_d = t_data.loc[med_lab_pair][['SUBJECT_ID','HADM_ID', k, k_a, cols_d[k_a]]]\n",
      "/var/folders/xb/6svjl9sj43z6gfhlcp2nc5540000gr/T/ipykernel_80825/2718244291.py:20: PerformanceWarning: indexing past lexsort depth may impact performance.\n",
      "  t_d = t_data.loc[med_lab_pair][['SUBJECT_ID','HADM_ID', k, k_a, cols_d[k_a]]]\n",
      "/var/folders/xb/6svjl9sj43z6gfhlcp2nc5540000gr/T/ipykernel_80825/2718244291.py:20: PerformanceWarning: indexing past lexsort depth may impact performance.\n",
      "  t_d = t_data.loc[med_lab_pair][['SUBJECT_ID','HADM_ID', k, k_a, cols_d[k_a]]]\n",
      "/var/folders/xb/6svjl9sj43z6gfhlcp2nc5540000gr/T/ipykernel_80825/2718244291.py:20: PerformanceWarning: indexing past lexsort depth may impact performance.\n",
      "  t_d = t_data.loc[med_lab_pair][['SUBJECT_ID','HADM_ID', k, k_a, cols_d[k_a]]]\n",
      "/var/folders/xb/6svjl9sj43z6gfhlcp2nc5540000gr/T/ipykernel_80825/2718244291.py:20: PerformanceWarning: indexing past lexsort depth may impact performance.\n",
      "  t_d = t_data.loc[med_lab_pair][['SUBJECT_ID','HADM_ID', k, k_a, cols_d[k_a]]]\n",
      "/var/folders/xb/6svjl9sj43z6gfhlcp2nc5540000gr/T/ipykernel_80825/2718244291.py:20: PerformanceWarning: indexing past lexsort depth may impact performance.\n",
      "  t_d = t_data.loc[med_lab_pair][['SUBJECT_ID','HADM_ID', k, k_a, cols_d[k_a]]]\n",
      "/var/folders/xb/6svjl9sj43z6gfhlcp2nc5540000gr/T/ipykernel_80825/2718244291.py:20: PerformanceWarning: indexing past lexsort depth may impact performance.\n",
      "  t_d = t_data.loc[med_lab_pair][['SUBJECT_ID','HADM_ID', k, k_a, cols_d[k_a]]]\n",
      "/var/folders/xb/6svjl9sj43z6gfhlcp2nc5540000gr/T/ipykernel_80825/2718244291.py:20: PerformanceWarning: indexing past lexsort depth may impact performance.\n",
      "  t_d = t_data.loc[med_lab_pair][['SUBJECT_ID','HADM_ID', k, k_a, cols_d[k_a]]]\n",
      "/var/folders/xb/6svjl9sj43z6gfhlcp2nc5540000gr/T/ipykernel_80825/2718244291.py:20: PerformanceWarning: indexing past lexsort depth may impact performance.\n",
      "  t_d = t_data.loc[med_lab_pair][['SUBJECT_ID','HADM_ID', k, k_a, cols_d[k_a]]]\n",
      "/var/folders/xb/6svjl9sj43z6gfhlcp2nc5540000gr/T/ipykernel_80825/2718244291.py:20: PerformanceWarning: indexing past lexsort depth may impact performance.\n",
      "  t_d = t_data.loc[med_lab_pair][['SUBJECT_ID','HADM_ID', k, k_a, cols_d[k_a]]]\n",
      "/var/folders/xb/6svjl9sj43z6gfhlcp2nc5540000gr/T/ipykernel_80825/2718244291.py:20: PerformanceWarning: indexing past lexsort depth may impact performance.\n",
      "  t_d = t_data.loc[med_lab_pair][['SUBJECT_ID','HADM_ID', k, k_a, cols_d[k_a]]]\n",
      "/var/folders/xb/6svjl9sj43z6gfhlcp2nc5540000gr/T/ipykernel_80825/2718244291.py:20: PerformanceWarning: indexing past lexsort depth may impact performance.\n",
      "  t_d = t_data.loc[med_lab_pair][['SUBJECT_ID','HADM_ID', k, k_a, cols_d[k_a]]]\n",
      "/var/folders/xb/6svjl9sj43z6gfhlcp2nc5540000gr/T/ipykernel_80825/2718244291.py:20: PerformanceWarning: indexing past lexsort depth may impact performance.\n",
      "  t_d = t_data.loc[med_lab_pair][['SUBJECT_ID','HADM_ID', k, k_a, cols_d[k_a]]]\n",
      "/var/folders/xb/6svjl9sj43z6gfhlcp2nc5540000gr/T/ipykernel_80825/2718244291.py:20: PerformanceWarning: indexing past lexsort depth may impact performance.\n",
      "  t_d = t_data.loc[med_lab_pair][['SUBJECT_ID','HADM_ID', k, k_a, cols_d[k_a]]]\n",
      "/var/folders/xb/6svjl9sj43z6gfhlcp2nc5540000gr/T/ipykernel_80825/2718244291.py:20: PerformanceWarning: indexing past lexsort depth may impact performance.\n",
      "  t_d = t_data.loc[med_lab_pair][['SUBJECT_ID','HADM_ID', k, k_a, cols_d[k_a]]]\n",
      "/var/folders/xb/6svjl9sj43z6gfhlcp2nc5540000gr/T/ipykernel_80825/2718244291.py:20: PerformanceWarning: indexing past lexsort depth may impact performance.\n",
      "  t_d = t_data.loc[med_lab_pair][['SUBJECT_ID','HADM_ID', k, k_a, cols_d[k_a]]]\n",
      "/var/folders/xb/6svjl9sj43z6gfhlcp2nc5540000gr/T/ipykernel_80825/2718244291.py:20: PerformanceWarning: indexing past lexsort depth may impact performance.\n",
      "  t_d = t_data.loc[med_lab_pair][['SUBJECT_ID','HADM_ID', k, k_a, cols_d[k_a]]]\n",
      "/var/folders/xb/6svjl9sj43z6gfhlcp2nc5540000gr/T/ipykernel_80825/2718244291.py:20: PerformanceWarning: indexing past lexsort depth may impact performance.\n",
      "  t_d = t_data.loc[med_lab_pair][['SUBJECT_ID','HADM_ID', k, k_a, cols_d[k_a]]]\n",
      "/var/folders/xb/6svjl9sj43z6gfhlcp2nc5540000gr/T/ipykernel_80825/2718244291.py:20: PerformanceWarning: indexing past lexsort depth may impact performance.\n",
      "  t_d = t_data.loc[med_lab_pair][['SUBJECT_ID','HADM_ID', k, k_a, cols_d[k_a]]]\n",
      "/var/folders/xb/6svjl9sj43z6gfhlcp2nc5540000gr/T/ipykernel_80825/2718244291.py:20: PerformanceWarning: indexing past lexsort depth may impact performance.\n",
      "  t_d = t_data.loc[med_lab_pair][['SUBJECT_ID','HADM_ID', k, k_a, cols_d[k_a]]]\n",
      "/var/folders/xb/6svjl9sj43z6gfhlcp2nc5540000gr/T/ipykernel_80825/2718244291.py:20: PerformanceWarning: indexing past lexsort depth may impact performance.\n",
      "  t_d = t_data.loc[med_lab_pair][['SUBJECT_ID','HADM_ID', k, k_a, cols_d[k_a]]]\n",
      "/var/folders/xb/6svjl9sj43z6gfhlcp2nc5540000gr/T/ipykernel_80825/2718244291.py:20: PerformanceWarning: indexing past lexsort depth may impact performance.\n",
      "  t_d = t_data.loc[med_lab_pair][['SUBJECT_ID','HADM_ID', k, k_a, cols_d[k_a]]]\n",
      "/var/folders/xb/6svjl9sj43z6gfhlcp2nc5540000gr/T/ipykernel_80825/2718244291.py:20: PerformanceWarning: indexing past lexsort depth may impact performance.\n",
      "  t_d = t_data.loc[med_lab_pair][['SUBJECT_ID','HADM_ID', k, k_a, cols_d[k_a]]]\n",
      "/var/folders/xb/6svjl9sj43z6gfhlcp2nc5540000gr/T/ipykernel_80825/2718244291.py:20: PerformanceWarning: indexing past lexsort depth may impact performance.\n",
      "  t_d = t_data.loc[med_lab_pair][['SUBJECT_ID','HADM_ID', k, k_a, cols_d[k_a]]]\n",
      "/var/folders/xb/6svjl9sj43z6gfhlcp2nc5540000gr/T/ipykernel_80825/2718244291.py:20: PerformanceWarning: indexing past lexsort depth may impact performance.\n",
      "  t_d = t_data.loc[med_lab_pair][['SUBJECT_ID','HADM_ID', k, k_a, cols_d[k_a]]]\n",
      "/var/folders/xb/6svjl9sj43z6gfhlcp2nc5540000gr/T/ipykernel_80825/2718244291.py:20: PerformanceWarning: indexing past lexsort depth may impact performance.\n",
      "  t_d = t_data.loc[med_lab_pair][['SUBJECT_ID','HADM_ID', k, k_a, cols_d[k_a]]]\n",
      "/var/folders/xb/6svjl9sj43z6gfhlcp2nc5540000gr/T/ipykernel_80825/2718244291.py:20: PerformanceWarning: indexing past lexsort depth may impact performance.\n",
      "  t_d = t_data.loc[med_lab_pair][['SUBJECT_ID','HADM_ID', k, k_a, cols_d[k_a]]]\n",
      "/var/folders/xb/6svjl9sj43z6gfhlcp2nc5540000gr/T/ipykernel_80825/2718244291.py:20: PerformanceWarning: indexing past lexsort depth may impact performance.\n",
      "  t_d = t_data.loc[med_lab_pair][['SUBJECT_ID','HADM_ID', k, k_a, cols_d[k_a]]]\n",
      "/var/folders/xb/6svjl9sj43z6gfhlcp2nc5540000gr/T/ipykernel_80825/2718244291.py:20: PerformanceWarning: indexing past lexsort depth may impact performance.\n",
      "  t_d = t_data.loc[med_lab_pair][['SUBJECT_ID','HADM_ID', k, k_a, cols_d[k_a]]]\n",
      "/var/folders/xb/6svjl9sj43z6gfhlcp2nc5540000gr/T/ipykernel_80825/2718244291.py:20: PerformanceWarning: indexing past lexsort depth may impact performance.\n",
      "  t_d = t_data.loc[med_lab_pair][['SUBJECT_ID','HADM_ID', k, k_a, cols_d[k_a]]]\n",
      "/var/folders/xb/6svjl9sj43z6gfhlcp2nc5540000gr/T/ipykernel_80825/2718244291.py:20: PerformanceWarning: indexing past lexsort depth may impact performance.\n",
      "  t_d = t_data.loc[med_lab_pair][['SUBJECT_ID','HADM_ID', k, k_a, cols_d[k_a]]]\n",
      "/var/folders/xb/6svjl9sj43z6gfhlcp2nc5540000gr/T/ipykernel_80825/2718244291.py:20: PerformanceWarning: indexing past lexsort depth may impact performance.\n",
      "  t_d = t_data.loc[med_lab_pair][['SUBJECT_ID','HADM_ID', k, k_a, cols_d[k_a]]]\n",
      "/var/folders/xb/6svjl9sj43z6gfhlcp2nc5540000gr/T/ipykernel_80825/2718244291.py:20: PerformanceWarning: indexing past lexsort depth may impact performance.\n",
      "  t_d = t_data.loc[med_lab_pair][['SUBJECT_ID','HADM_ID', k, k_a, cols_d[k_a]]]\n",
      "/var/folders/xb/6svjl9sj43z6gfhlcp2nc5540000gr/T/ipykernel_80825/2718244291.py:20: PerformanceWarning: indexing past lexsort depth may impact performance.\n",
      "  t_d = t_data.loc[med_lab_pair][['SUBJECT_ID','HADM_ID', k, k_a, cols_d[k_a]]]\n",
      "/var/folders/xb/6svjl9sj43z6gfhlcp2nc5540000gr/T/ipykernel_80825/2718244291.py:20: PerformanceWarning: indexing past lexsort depth may impact performance.\n",
      "  t_d = t_data.loc[med_lab_pair][['SUBJECT_ID','HADM_ID', k, k_a, cols_d[k_a]]]\n",
      "/var/folders/xb/6svjl9sj43z6gfhlcp2nc5540000gr/T/ipykernel_80825/2718244291.py:20: PerformanceWarning: indexing past lexsort depth may impact performance.\n",
      "  t_d = t_data.loc[med_lab_pair][['SUBJECT_ID','HADM_ID', k, k_a, cols_d[k_a]]]\n",
      "/var/folders/xb/6svjl9sj43z6gfhlcp2nc5540000gr/T/ipykernel_80825/2718244291.py:20: PerformanceWarning: indexing past lexsort depth may impact performance.\n",
      "  t_d = t_data.loc[med_lab_pair][['SUBJECT_ID','HADM_ID', k, k_a, cols_d[k_a]]]\n"
     ]
    }
   ],
   "source": [
    "from scipy.stats import pearsonr, spearmanr\n",
    "import numpy as np\n",
    "# corr, _ = spearmanr(values, time_diff)\n",
    "p_data = {}\n",
    "for k in plot_data:\n",
    "    print(\"Before Window: \", k)\n",
    "    for i, (k_a, data) in enumerate(plot_data[k].items()):\n",
    "        print(\"After Window: \", k_a)\n",
    "\n",
    "        t_data = data.set_index([data[\"MED_NAME\"], data[\"LAB_NAME\"]])        \n",
    "        med_lab_pairs = t_data.index\n",
    "        \n",
    "        for med_lab_pair in med_lab_pairs.unique():\n",
    "            \n",
    "            if med_lab_pair not in p_data.keys():\n",
    "                p_data[med_lab_pair] = {}\n",
    "            if k not in p_data[med_lab_pair].keys():\n",
    "                p_data[med_lab_pair][k] = []\n",
    "            \n",
    "            t_d = t_data.loc[med_lab_pair][['SUBJECT_ID','HADM_ID', k, k_a, cols_d[k_a]]]\n",
    "            t_d['abs'] = t_d[k_a]-t_d[k]\n",
    "            t_d['percent'] = (t_d['abs']/t_d[k])*100\n",
    "            t_d['ratio'] = t_d[k_a]/t_d[k]\n",
    "            t_d.replace([np.inf, -np.inf], np.nan, inplace=True)\n",
    "            t_d = t_d.dropna()\n",
    "            \n",
    "            p_data[med_lab_pair][k].append(t_d)\n",
    "\n",
    "        # print(med_name_stats)\n",
    "        # print(data[data[\"MED_NAME\"]==list(med_name_stats.keys())[0]][\"SUBJECT_ID\"].value_counts().to_dict())\n",
    "        # print(data[data[\"MED_NAME\"]==list(med_name_stats.keys())[0]][\"HADM_ID\"].value_counts().to_dict())\n",
    "        # t_lau = data[data[\"MED_NAME\"]==list(med_name_stats.keys())[0]]"
   ]
  },
  {
   "cell_type": "code",
   "execution_count": 68,
   "metadata": {},
   "outputs": [
    {
     "data": {
      "text/plain": [
       "dict_keys([('Ceftriaxone', 'INR(PT)'), ('Furosemide (Lasix)', 'INR(PT)'), ('Haloperidol (Haldol)', 'INR(PT)'), ('Furosemide (Lasix) 500/100', 'INR(PT)'), ('Coumadin (Warfarin)', 'INR(PT)'), ('Procainamide', 'INR(PT)'), ('Furosemide (Lasix) 500/100', 'Magnesium'), ('Furosemide (Lasix)', 'Magnesium'), ('Haloperidol (Haldol)', 'Magnesium'), ('Ceftriaxone', 'Magnesium'), ('Omeprazole (Prilosec)', 'Magnesium'), ('Coumadin (Warfarin)', 'Magnesium'), ('Procainamide', 'Magnesium'), ('Furosemide (Lasix)', 'Alanine Aminotransferase (ALT)'), ('Ceftriaxone', 'Alanine Aminotransferase (ALT)'), ('Furosemide (Lasix)', 'Bilirubin, Total'), ('Ceftriaxone', 'Bilirubin, Total'), ('Furosemide (Lasix)', 'Bilirubin, Direct'), ('Furosemide (Lasix)', 'Bilirubin, Indirect'), ('Omeprazole (Prilosec)', 'INR(PT)'), ('Haloperidol (Haldol)', 'Alanine Aminotransferase (ALT)'), ('Haloperidol (Haldol)', 'Bilirubin, Total'), ('Coumadin (Warfarin)', 'Alanine Aminotransferase (ALT)'), ('Coumadin (Warfarin)', 'Bilirubin, Total'), ('Omeprazole (Prilosec)', 'Alanine Aminotransferase (ALT)'), ('Omeprazole (Prilosec)', 'Bilirubin, Total'), ('Haloperidol (Haldol)', 'Vitamin B12'), ('Coumadin (Warfarin)', 'Bilirubin, Direct'), ('Coumadin (Warfarin)', 'Bilirubin, Indirect'), ('Ceftriaxone', 'Bilirubin, Direct'), ('Ceftriaxone', 'Bilirubin, Indirect'), ('Furosemide (Lasix) 500/100', 'Alanine Aminotransferase (ALT)'), ('Furosemide (Lasix) 500/100', 'Bilirubin, Total'), ('Furosemide (Lasix) 500/100', 'Bilirubin, Direct'), ('Furosemide (Lasix) 500/100', 'Bilirubin, Indirect')])"
      ]
     },
     "execution_count": 68,
     "metadata": {},
     "output_type": "execute_result"
    }
   ],
   "source": [
    "p_data.keys()"
   ]
  },
  {
   "cell_type": "code",
   "execution_count": 69,
   "metadata": {},
   "outputs": [],
   "source": [
    "import pickle\n",
    "pickle.dump(p_data, open(f\"plot_med_lab_bw_aw_data_{stratify_prefix}_doc_eval.pkl\", \"wb\"))"
   ]
  },
  {
   "cell_type": "code",
   "execution_count": 103,
   "metadata": {},
   "outputs": [],
   "source": [
    "# p_data = pickle.load(open(f\"plot_med_lab_bw_aw_data_{stratify_prefix}.pkl\", \"rb\"))"
   ]
  },
  {
   "cell_type": "code",
   "execution_count": null,
   "metadata": {},
   "outputs": [],
   "source": []
  },
  {
   "cell_type": "markdown",
   "metadata": {},
   "source": [
    "## Plots"
   ]
  },
  {
   "cell_type": "code",
   "execution_count": 78,
   "metadata": {},
   "outputs": [],
   "source": [
    "def int_s(s):\n",
    "    if s[0]==\"_\":\n",
    "        return int(s[1:])\n",
    "    else:\n",
    "        return int(s)"
   ]
  },
  {
   "cell_type": "code",
   "execution_count": 79,
   "metadata": {},
   "outputs": [],
   "source": [
    "mapping = {\n",
    "    0: \"(0-1)\",\n",
    "    1: \"(1-5)\",\n",
    "    5: \"(5-9)\",\n",
    "    9: \"(9-13)\",\n",
    "    13: \"(13-17)\",\n",
    "    17: \"(17-21)\",\n",
    "    21: \"(21-25)\"\n",
    "}"
   ]
  },
  {
   "cell_type": "code",
   "execution_count": 80,
   "metadata": {},
   "outputs": [],
   "source": [
    "type_map = {\n",
    "    'abs': \"Absolute\",\n",
    "    'percent': \"Percentage\",\n",
    "    'ratio': \"Ratio\"\n",
    "}"
   ]
  },
  {
   "cell_type": "code",
   "execution_count": 81,
   "metadata": {},
   "outputs": [
    {
     "data": {
      "text/html": [
       "<div>\n",
       "<style scoped>\n",
       "    .dataframe tbody tr th:only-of-type {\n",
       "        vertical-align: middle;\n",
       "    }\n",
       "\n",
       "    .dataframe tbody tr th {\n",
       "        vertical-align: top;\n",
       "    }\n",
       "\n",
       "    .dataframe thead th {\n",
       "        text-align: right;\n",
       "    }\n",
       "</style>\n",
       "<table border=\"1\" class=\"dataframe\">\n",
       "  <thead>\n",
       "    <tr style=\"text-align: right;\">\n",
       "      <th></th>\n",
       "      <th>VALUEUOM</th>\n",
       "    </tr>\n",
       "    <tr>\n",
       "      <th>LABEL_y</th>\n",
       "      <th></th>\n",
       "    </tr>\n",
       "  </thead>\n",
       "  <tbody>\n",
       "    <tr>\n",
       "      <th>% Hemoglobin A1c</th>\n",
       "      <td>%</td>\n",
       "    </tr>\n",
       "    <tr>\n",
       "      <th>24 hr Creatinine</th>\n",
       "      <td>mg/24hr</td>\n",
       "    </tr>\n",
       "    <tr>\n",
       "      <th>24 hr Protein</th>\n",
       "      <td>mg/24hr</td>\n",
       "    </tr>\n",
       "    <tr>\n",
       "      <th>25-OH Vitamin D</th>\n",
       "      <td>ng/mL</td>\n",
       "    </tr>\n",
       "    <tr>\n",
       "      <th>Absolute CD3 Count</th>\n",
       "      <td>#/uL</td>\n",
       "    </tr>\n",
       "    <tr>\n",
       "      <th>...</th>\n",
       "      <td>...</td>\n",
       "    </tr>\n",
       "    <tr>\n",
       "      <th>Young Cells</th>\n",
       "      <td>%</td>\n",
       "    </tr>\n",
       "    <tr>\n",
       "      <th>pCO2</th>\n",
       "      <td>mm Hg</td>\n",
       "    </tr>\n",
       "    <tr>\n",
       "      <th>pH</th>\n",
       "      <td>units</td>\n",
       "    </tr>\n",
       "    <tr>\n",
       "      <th>pO2</th>\n",
       "      <td>mm Hg</td>\n",
       "    </tr>\n",
       "    <tr>\n",
       "      <th>tacroFK</th>\n",
       "      <td>ng/mL</td>\n",
       "    </tr>\n",
       "  </tbody>\n",
       "</table>\n",
       "<p>312 rows × 1 columns</p>\n",
       "</div>"
      ],
      "text/plain": [
       "                   VALUEUOM\n",
       "LABEL_y                    \n",
       "% Hemoglobin A1c          %\n",
       "24 hr Creatinine    mg/24hr\n",
       "24 hr Protein       mg/24hr\n",
       "25-OH Vitamin D       ng/mL\n",
       "Absolute CD3 Count     #/uL\n",
       "...                     ...\n",
       "Young Cells               %\n",
       "pCO2                  mm Hg\n",
       "pH                    units\n",
       "pO2                   mm Hg\n",
       "tacroFK               ng/mL\n",
       "\n",
       "[312 rows x 1 columns]"
      ]
     },
     "execution_count": 81,
     "metadata": {},
     "output_type": "execute_result"
    }
   ],
   "source": [
    "lab_units_mapping = labs_with_name.groupby([\"LABEL_y\", \"VALUEUOM\"]).count()[\"SUBJECT_ID\"].reset_index().groupby(\"LABEL_y\").nth(0)[[\"VALUEUOM\"]]\n",
    "lab_units_mapping\n",
    "# labs_with_name[[\"VALUEUOM\"]]"
   ]
  },
  {
   "cell_type": "code",
   "execution_count": 82,
   "metadata": {},
   "outputs": [],
   "source": [
    "lab_units_mapping_dict = lab_units_mapping.to_dict()['VALUEUOM']"
   ]
  },
  {
   "cell_type": "code",
   "execution_count": 83,
   "metadata": {},
   "outputs": [],
   "source": [
    "plot_dir = os.path.join(os.getcwd(), f\"plots_{stratify_prefix}_doc_eval\")\n",
    "if not os.path.isdir(plot_dir):\n",
    "    os.mkdir(plot_dir)\n",
    "plot_dir1 = os.path.join(os.getcwd(), f\"plots_{stratify_prefix}_doc_eval_all_window\")\n",
    "if not os.path.isdir(plot_dir1):\n",
    "    os.mkdir(plot_dir1)"
   ]
  },
  {
   "cell_type": "code",
   "execution_count": 84,
   "metadata": {},
   "outputs": [],
   "source": [
    "import matplotlib.pyplot as plt\n",
    "from matplotlib.patches import Rectangle\n",
    "import seaborn as sns\n",
    "\n",
    "def sort_rows_with_time(p_corrs, s_corrs, after_windows):\n",
    "    s_p = sorted([k for k in zip(p_corrs, after_windows)], key=lambda k: k[1])\n",
    "    p_corrs = [k[0][0] for k in s_p]\n",
    "    after_windows1 = [mapping[k[1]] for k in s_p]\n",
    "    s_s = sorted([k for k in zip(s_corrs, after_windows)], key=lambda k: k[1])\n",
    "    s_corrs = [k[0][0] for k in s_s]\n",
    "    after_windows2 = [mapping[k[1]] for k in s_p]\n",
    "    return p_corrs, s_corrs, after_windows1, after_windows2\n",
    "\n",
    "def plot_corrs(corrs, after_windows, ax, title='', plot_name='',  after_window_info=None):\n",
    "\n",
    "    p_corrs = [c[0] for c in corrs]\n",
    "    s_corrs = [c[1] for c in corrs]\n",
    "    final_plot_name = f'{plot_name}_{title}'\n",
    "    after_windows = [int_s(a[-7:-5]) for a in after_windows]\n",
    "    \n",
    "    p_corrs, s_corrs, after_windows1, after_windows2 = sort_rows_with_time(p_corrs, s_corrs, after_windows)\n",
    "    \n",
    "    # print(ax, [ k for k in zip(p_corrs, after_windows)])\n",
    "    # print(ax, [ k for k in zip(s_corrs, after_windows)])\n",
    "    \n",
    "    # ax.plot(after_windows, p_corrs)\n",
    "    # ax.set_title(f'{final_plot_name} Pearsons Corr')\n",
    "    # ax.set(xlabel='Time in hours', ylabel='Correlation')\n",
    "\n",
    "    ax[0].plot(after_windows1, p_corrs, '-o')\n",
    "    ax[0].set_title(f'{final_plot_name} Pearsons Corr')\n",
    "    ax[0].set(xlabel='Time (h)', ylabel='Correlation')\n",
    "    ax[0].set_xticks(after_windows1)\n",
    "    ax[0].grid()\n",
    "    # ax[0].grid(axis='x')\n",
    "\n",
    "    ax[1].plot(after_windows2, s_corrs, '-o')\n",
    "    ax[1].set_title(f'{final_plot_name} Spearmans Corr')\n",
    "    ax[1].set(xlabel='Time (h)', ylabel='Correlation')\n",
    "    ax[1].set_xticks(after_windows2)\n",
    "    # ax[1].grid(axis='x')\n",
    "    ax[1].grid()\n",
    "    \n",
    "\n",
    "def plot_func(lab, presc, d, dirname, window=(1,24), title='', unit='', labels=None, plot_name='', ax=None):\n",
    "    \n",
    "    plot_data = d\n",
    "    # plot_data = plot_data.rename(columns={0:'Lab values'})\n",
    "\n",
    "    # plot_data = plot_data[plot_data['timeFromPrescription'] > window[0]]\n",
    "    # plot_data = plot_data[plot_data['timeFromPrescription'] < window[1]]\n",
    "\n",
    "    if ax is None:\n",
    "        sns.regplot(x = \"time\", \n",
    "                y = 'data', \n",
    "                data = plot_data.sort_values([\"time\"]), \n",
    "                truncate=False)\n",
    "        n = plot_data.shape[0]\n",
    "        plt.title(lab+'<>'+presc+'- '+ title+ ' \\nchange in lab measurment and time taken for change')\n",
    "        plt.xlabel('Time (h)')\n",
    "        plt.ylabel(f\"{title} change in {lab} lab measurment ({unit})\")\n",
    "        if labels is not None:\n",
    "            extra = Rectangle((0, 0), 1, 1, fc=\"w\", fill=False, edgecolor='none', linewidth=0)\n",
    "            plt.legend([extra for i in range(5)], (f'Pearson Correlation = {round(labels[0][0], 4)}', f'Pearson Correlation p-value = {round(labels[0][1], 4)}', f'Spearmans Correlation = {round(labels[1][0], 4)}', f'Spearmans Correlation p-value = {round(labels[1][1], 4)}', f'Number of data points = {n}'))\n",
    "        if not os.path.isdir(os.path.join(plot_dir1, f\"{lab}<>{presc}\")):\n",
    "            os.mkdir(os.path.join(plot_dir1, f\"{lab}<>{presc}\"))\n",
    "        if dirname is None or dirname == \"\":\n",
    "            plt.savefig(os.path.join(plot_dir1, f\"{lab}<>{presc}\", plot_name+\".png\"))\n",
    "        else:\n",
    "            if not os.path.isdir(os.path.join(plot_dir1, f\"{lab}<>{presc}\", dirname)):\n",
    "                os.mkdir(os.path.join(plot_dir1, f\"{lab}<>{presc}\", dirname))\n",
    "            plt.savefig(os.path.join(plot_dir1, f\"{lab}<>{presc}\", dirname, plot_name+\".png\"))\n",
    "        plt.clf()\n",
    "    \n",
    "    else:\n",
    "        sns.regplot(\n",
    "                ax=ax,\n",
    "                x = \"time\", \n",
    "                y = 'data', \n",
    "                data = plot_data.sort_values([\"time\"]), \n",
    "                truncate=False)\n",
    "        n = plot_data.shape[0]\n",
    "        ax.set_title(lab+'<>'+presc+'- '+ title+ ' \\nchange in lab measurment and time taken for change')\n",
    "        ax.set(xlabel='Time (h)', ylabel=f\"{title} change in {lab} lab measurment ({unit})\")\n",
    "        ax.grid()\n",
    "        if labels is not None:\n",
    "            extra = Rectangle((0, 0), 1, 1, fc=\"w\", fill=False, edgecolor='none', linewidth=0)\n",
    "            ax.legend([extra for i in range(5)], (f'Pearson Correlation = {round(labels[0][0], 4)}', f'Pearson Correlation p-value = {round(labels[0][1], 4)}', f'Spearmans Correlation = {round(labels[1][0], 4)}', f'Spearmans Correlation p-value = {round(labels[1][1], 4)}', f'Number of data points = {n}'))\n",
    "\n",
    "def remove_outlier(val, time_diff):\n",
    "    val = pd.DataFrame(val)\n",
    "    time_diff = pd.DataFrame(time_diff)\n",
    "    \n",
    "    # IQR\n",
    "    Q1 = np.percentile(val, 25, method = 'midpoint')        \n",
    "    Q3 = np.percentile(val, 75, method = 'midpoint')\n",
    "    IQR = Q3 - Q1        \n",
    "    \n",
    "    # Upper bound\n",
    "    upper = np.where(val >= (Q3+1.5*IQR))\n",
    "    # Lower bound\n",
    "    lower = np.where(val <= (Q1-1.5*IQR))\n",
    "\n",
    "    # Filtering\n",
    "    if len(upper) > 0:\n",
    "        val.drop(upper[0], inplace = True)\n",
    "        time_diff.drop(upper[0], inplace = True)\n",
    "    if len(lower) > 0:\n",
    "        val.drop(lower[0], inplace = True)\n",
    "        time_diff.drop(lower[0], inplace = True)\n",
    "    return val, time_diff"
   ]
  },
  {
   "cell_type": "code",
   "execution_count": 85,
   "metadata": {},
   "outputs": [
    {
     "name": "stderr",
     "output_type": "stream",
     "text": [
      "/Users/yanpavan/anaconda3/envs/mimic_data_extraction/lib/python3.10/site-packages/scipy/stats/_stats_py.py:4424: ConstantInputWarning: An input array is constant; the correlation coefficient is not defined.\n",
      "  warnings.warn(stats.ConstantInputWarning(msg))\n",
      "/Users/yanpavan/anaconda3/envs/mimic_data_extraction/lib/python3.10/site-packages/scipy/stats/_stats_py.py:4878: ConstantInputWarning: An input array is constant; the correlation coefficient is not defined.\n",
      "  warnings.warn(stats.ConstantInputWarning(warn_msg))\n",
      "/Users/yanpavan/anaconda3/envs/mimic_data_extraction/lib/python3.10/site-packages/scipy/stats/_stats_py.py:4424: ConstantInputWarning: An input array is constant; the correlation coefficient is not defined.\n",
      "  warnings.warn(stats.ConstantInputWarning(msg))\n",
      "/Users/yanpavan/anaconda3/envs/mimic_data_extraction/lib/python3.10/site-packages/scipy/stats/_stats_py.py:4878: ConstantInputWarning: An input array is constant; the correlation coefficient is not defined.\n",
      "  warnings.warn(stats.ConstantInputWarning(warn_msg))\n",
      "/Users/yanpavan/anaconda3/envs/mimic_data_extraction/lib/python3.10/site-packages/scipy/stats/_stats_py.py:4424: ConstantInputWarning: An input array is constant; the correlation coefficient is not defined.\n",
      "  warnings.warn(stats.ConstantInputWarning(msg))\n",
      "/Users/yanpavan/anaconda3/envs/mimic_data_extraction/lib/python3.10/site-packages/scipy/stats/_stats_py.py:4878: ConstantInputWarning: An input array is constant; the correlation coefficient is not defined.\n",
      "  warnings.warn(stats.ConstantInputWarning(warn_msg))\n",
      "/Users/yanpavan/anaconda3/envs/mimic_data_extraction/lib/python3.10/site-packages/scipy/stats/_stats_py.py:4424: ConstantInputWarning: An input array is constant; the correlation coefficient is not defined.\n",
      "  warnings.warn(stats.ConstantInputWarning(msg))\n",
      "/Users/yanpavan/anaconda3/envs/mimic_data_extraction/lib/python3.10/site-packages/scipy/stats/_stats_py.py:4878: ConstantInputWarning: An input array is constant; the correlation coefficient is not defined.\n",
      "  warnings.warn(stats.ConstantInputWarning(warn_msg))\n",
      "/Users/yanpavan/anaconda3/envs/mimic_data_extraction/lib/python3.10/site-packages/scipy/stats/_stats_py.py:4424: ConstantInputWarning: An input array is constant; the correlation coefficient is not defined.\n",
      "  warnings.warn(stats.ConstantInputWarning(msg))\n",
      "/Users/yanpavan/anaconda3/envs/mimic_data_extraction/lib/python3.10/site-packages/scipy/stats/_stats_py.py:4878: ConstantInputWarning: An input array is constant; the correlation coefficient is not defined.\n",
      "  warnings.warn(stats.ConstantInputWarning(warn_msg))\n",
      "/Users/yanpavan/anaconda3/envs/mimic_data_extraction/lib/python3.10/site-packages/scipy/stats/_stats_py.py:4424: ConstantInputWarning: An input array is constant; the correlation coefficient is not defined.\n",
      "  warnings.warn(stats.ConstantInputWarning(msg))\n",
      "/Users/yanpavan/anaconda3/envs/mimic_data_extraction/lib/python3.10/site-packages/scipy/stats/_stats_py.py:4878: ConstantInputWarning: An input array is constant; the correlation coefficient is not defined.\n",
      "  warnings.warn(stats.ConstantInputWarning(warn_msg))\n",
      "/Users/yanpavan/anaconda3/envs/mimic_data_extraction/lib/python3.10/site-packages/scipy/stats/_stats_py.py:4424: ConstantInputWarning: An input array is constant; the correlation coefficient is not defined.\n",
      "  warnings.warn(stats.ConstantInputWarning(msg))\n",
      "/Users/yanpavan/anaconda3/envs/mimic_data_extraction/lib/python3.10/site-packages/scipy/stats/_stats_py.py:4878: ConstantInputWarning: An input array is constant; the correlation coefficient is not defined.\n",
      "  warnings.warn(stats.ConstantInputWarning(warn_msg))\n",
      "/Users/yanpavan/anaconda3/envs/mimic_data_extraction/lib/python3.10/site-packages/scipy/stats/_stats_py.py:4424: ConstantInputWarning: An input array is constant; the correlation coefficient is not defined.\n",
      "  warnings.warn(stats.ConstantInputWarning(msg))\n",
      "/Users/yanpavan/anaconda3/envs/mimic_data_extraction/lib/python3.10/site-packages/scipy/stats/_stats_py.py:4878: ConstantInputWarning: An input array is constant; the correlation coefficient is not defined.\n",
      "  warnings.warn(stats.ConstantInputWarning(warn_msg))\n",
      "/Users/yanpavan/anaconda3/envs/mimic_data_extraction/lib/python3.10/site-packages/scipy/stats/_stats_py.py:4424: ConstantInputWarning: An input array is constant; the correlation coefficient is not defined.\n",
      "  warnings.warn(stats.ConstantInputWarning(msg))\n",
      "/Users/yanpavan/anaconda3/envs/mimic_data_extraction/lib/python3.10/site-packages/scipy/stats/_stats_py.py:4878: ConstantInputWarning: An input array is constant; the correlation coefficient is not defined.\n",
      "  warnings.warn(stats.ConstantInputWarning(warn_msg))\n",
      "/Users/yanpavan/anaconda3/envs/mimic_data_extraction/lib/python3.10/site-packages/scipy/stats/_stats_py.py:4424: ConstantInputWarning: An input array is constant; the correlation coefficient is not defined.\n",
      "  warnings.warn(stats.ConstantInputWarning(msg))\n",
      "/Users/yanpavan/anaconda3/envs/mimic_data_extraction/lib/python3.10/site-packages/scipy/stats/_stats_py.py:4878: ConstantInputWarning: An input array is constant; the correlation coefficient is not defined.\n",
      "  warnings.warn(stats.ConstantInputWarning(warn_msg))\n",
      "/Users/yanpavan/anaconda3/envs/mimic_data_extraction/lib/python3.10/site-packages/scipy/stats/_stats_py.py:4424: ConstantInputWarning: An input array is constant; the correlation coefficient is not defined.\n",
      "  warnings.warn(stats.ConstantInputWarning(msg))\n",
      "/Users/yanpavan/anaconda3/envs/mimic_data_extraction/lib/python3.10/site-packages/scipy/stats/_stats_py.py:4878: ConstantInputWarning: An input array is constant; the correlation coefficient is not defined.\n",
      "  warnings.warn(stats.ConstantInputWarning(warn_msg))\n",
      "/Users/yanpavan/anaconda3/envs/mimic_data_extraction/lib/python3.10/site-packages/scipy/stats/_stats_py.py:4424: ConstantInputWarning: An input array is constant; the correlation coefficient is not defined.\n",
      "  warnings.warn(stats.ConstantInputWarning(msg))\n",
      "/Users/yanpavan/anaconda3/envs/mimic_data_extraction/lib/python3.10/site-packages/scipy/stats/_stats_py.py:4878: ConstantInputWarning: An input array is constant; the correlation coefficient is not defined.\n",
      "  warnings.warn(stats.ConstantInputWarning(warn_msg))\n",
      "/var/folders/xb/6svjl9sj43z6gfhlcp2nc5540000gr/T/ipykernel_80825/3533985186.py:13: RuntimeWarning: More than 20 figures have been opened. Figures created through the pyplot interface (`matplotlib.pyplot.figure`) are retained until explicitly closed and may consume too much memory. (To control this warning, see the rcParam `figure.max_open_warning`).\n",
      "  fig_all, ax_all = plt.subplots(3, figsize=(20, 20))\n",
      "/Users/yanpavan/anaconda3/envs/mimic_data_extraction/lib/python3.10/site-packages/scipy/stats/_stats_py.py:4424: ConstantInputWarning: An input array is constant; the correlation coefficient is not defined.\n",
      "  warnings.warn(stats.ConstantInputWarning(msg))\n",
      "/Users/yanpavan/anaconda3/envs/mimic_data_extraction/lib/python3.10/site-packages/scipy/stats/_stats_py.py:4878: ConstantInputWarning: An input array is constant; the correlation coefficient is not defined.\n",
      "  warnings.warn(stats.ConstantInputWarning(warn_msg))\n",
      "/Users/yanpavan/anaconda3/envs/mimic_data_extraction/lib/python3.10/site-packages/scipy/stats/_stats_py.py:4424: ConstantInputWarning: An input array is constant; the correlation coefficient is not defined.\n",
      "  warnings.warn(stats.ConstantInputWarning(msg))\n",
      "/Users/yanpavan/anaconda3/envs/mimic_data_extraction/lib/python3.10/site-packages/scipy/stats/_stats_py.py:4878: ConstantInputWarning: An input array is constant; the correlation coefficient is not defined.\n",
      "  warnings.warn(stats.ConstantInputWarning(warn_msg))\n",
      "/Users/yanpavan/anaconda3/envs/mimic_data_extraction/lib/python3.10/site-packages/scipy/stats/_stats_py.py:4424: ConstantInputWarning: An input array is constant; the correlation coefficient is not defined.\n",
      "  warnings.warn(stats.ConstantInputWarning(msg))\n",
      "/Users/yanpavan/anaconda3/envs/mimic_data_extraction/lib/python3.10/site-packages/scipy/stats/_stats_py.py:4878: ConstantInputWarning: An input array is constant; the correlation coefficient is not defined.\n",
      "  warnings.warn(stats.ConstantInputWarning(warn_msg))\n",
      "/Users/yanpavan/anaconda3/envs/mimic_data_extraction/lib/python3.10/site-packages/scipy/stats/_stats_py.py:4424: ConstantInputWarning: An input array is constant; the correlation coefficient is not defined.\n",
      "  warnings.warn(stats.ConstantInputWarning(msg))\n",
      "/Users/yanpavan/anaconda3/envs/mimic_data_extraction/lib/python3.10/site-packages/scipy/stats/_stats_py.py:4878: ConstantInputWarning: An input array is constant; the correlation coefficient is not defined.\n",
      "  warnings.warn(stats.ConstantInputWarning(warn_msg))\n",
      "/Users/yanpavan/anaconda3/envs/mimic_data_extraction/lib/python3.10/site-packages/scipy/stats/_stats_py.py:4424: ConstantInputWarning: An input array is constant; the correlation coefficient is not defined.\n",
      "  warnings.warn(stats.ConstantInputWarning(msg))\n",
      "/Users/yanpavan/anaconda3/envs/mimic_data_extraction/lib/python3.10/site-packages/scipy/stats/_stats_py.py:4878: ConstantInputWarning: An input array is constant; the correlation coefficient is not defined.\n",
      "  warnings.warn(stats.ConstantInputWarning(warn_msg))\n",
      "/Users/yanpavan/anaconda3/envs/mimic_data_extraction/lib/python3.10/site-packages/scipy/stats/_stats_py.py:4424: ConstantInputWarning: An input array is constant; the correlation coefficient is not defined.\n",
      "  warnings.warn(stats.ConstantInputWarning(msg))\n",
      "/Users/yanpavan/anaconda3/envs/mimic_data_extraction/lib/python3.10/site-packages/scipy/stats/_stats_py.py:4878: ConstantInputWarning: An input array is constant; the correlation coefficient is not defined.\n",
      "  warnings.warn(stats.ConstantInputWarning(warn_msg))\n",
      "/Users/yanpavan/anaconda3/envs/mimic_data_extraction/lib/python3.10/site-packages/scipy/stats/_stats_py.py:4424: ConstantInputWarning: An input array is constant; the correlation coefficient is not defined.\n",
      "  warnings.warn(stats.ConstantInputWarning(msg))\n",
      "/Users/yanpavan/anaconda3/envs/mimic_data_extraction/lib/python3.10/site-packages/scipy/stats/_stats_py.py:4878: ConstantInputWarning: An input array is constant; the correlation coefficient is not defined.\n",
      "  warnings.warn(stats.ConstantInputWarning(warn_msg))\n",
      "/Users/yanpavan/anaconda3/envs/mimic_data_extraction/lib/python3.10/site-packages/scipy/stats/_stats_py.py:4424: ConstantInputWarning: An input array is constant; the correlation coefficient is not defined.\n",
      "  warnings.warn(stats.ConstantInputWarning(msg))\n",
      "/Users/yanpavan/anaconda3/envs/mimic_data_extraction/lib/python3.10/site-packages/scipy/stats/_stats_py.py:4878: ConstantInputWarning: An input array is constant; the correlation coefficient is not defined.\n",
      "  warnings.warn(stats.ConstantInputWarning(warn_msg))\n",
      "/Users/yanpavan/anaconda3/envs/mimic_data_extraction/lib/python3.10/site-packages/scipy/stats/_stats_py.py:4424: ConstantInputWarning: An input array is constant; the correlation coefficient is not defined.\n",
      "  warnings.warn(stats.ConstantInputWarning(msg))\n",
      "/Users/yanpavan/anaconda3/envs/mimic_data_extraction/lib/python3.10/site-packages/scipy/stats/_stats_py.py:4878: ConstantInputWarning: An input array is constant; the correlation coefficient is not defined.\n",
      "  warnings.warn(stats.ConstantInputWarning(warn_msg))\n",
      "/Users/yanpavan/anaconda3/envs/mimic_data_extraction/lib/python3.10/site-packages/scipy/stats/_stats_py.py:4424: ConstantInputWarning: An input array is constant; the correlation coefficient is not defined.\n",
      "  warnings.warn(stats.ConstantInputWarning(msg))\n",
      "/Users/yanpavan/anaconda3/envs/mimic_data_extraction/lib/python3.10/site-packages/scipy/stats/_stats_py.py:4878: ConstantInputWarning: An input array is constant; the correlation coefficient is not defined.\n",
      "  warnings.warn(stats.ConstantInputWarning(warn_msg))\n",
      "/Users/yanpavan/anaconda3/envs/mimic_data_extraction/lib/python3.10/site-packages/scipy/stats/_stats_py.py:4424: ConstantInputWarning: An input array is constant; the correlation coefficient is not defined.\n",
      "  warnings.warn(stats.ConstantInputWarning(msg))\n",
      "/Users/yanpavan/anaconda3/envs/mimic_data_extraction/lib/python3.10/site-packages/scipy/stats/_stats_py.py:4878: ConstantInputWarning: An input array is constant; the correlation coefficient is not defined.\n",
      "  warnings.warn(stats.ConstantInputWarning(warn_msg))\n",
      "/Users/yanpavan/anaconda3/envs/mimic_data_extraction/lib/python3.10/site-packages/scipy/stats/_stats_py.py:4424: ConstantInputWarning: An input array is constant; the correlation coefficient is not defined.\n",
      "  warnings.warn(stats.ConstantInputWarning(msg))\n",
      "/Users/yanpavan/anaconda3/envs/mimic_data_extraction/lib/python3.10/site-packages/scipy/stats/_stats_py.py:4878: ConstantInputWarning: An input array is constant; the correlation coefficient is not defined.\n",
      "  warnings.warn(stats.ConstantInputWarning(warn_msg))\n",
      "/Users/yanpavan/anaconda3/envs/mimic_data_extraction/lib/python3.10/site-packages/scipy/stats/_stats_py.py:4424: ConstantInputWarning: An input array is constant; the correlation coefficient is not defined.\n",
      "  warnings.warn(stats.ConstantInputWarning(msg))\n",
      "/Users/yanpavan/anaconda3/envs/mimic_data_extraction/lib/python3.10/site-packages/scipy/stats/_stats_py.py:4878: ConstantInputWarning: An input array is constant; the correlation coefficient is not defined.\n",
      "  warnings.warn(stats.ConstantInputWarning(warn_msg))\n",
      "/Users/yanpavan/anaconda3/envs/mimic_data_extraction/lib/python3.10/site-packages/scipy/stats/_stats_py.py:4424: ConstantInputWarning: An input array is constant; the correlation coefficient is not defined.\n",
      "  warnings.warn(stats.ConstantInputWarning(msg))\n",
      "/Users/yanpavan/anaconda3/envs/mimic_data_extraction/lib/python3.10/site-packages/scipy/stats/_stats_py.py:4878: ConstantInputWarning: An input array is constant; the correlation coefficient is not defined.\n",
      "  warnings.warn(stats.ConstantInputWarning(warn_msg))\n",
      "/Users/yanpavan/anaconda3/envs/mimic_data_extraction/lib/python3.10/site-packages/scipy/stats/_stats_py.py:4424: ConstantInputWarning: An input array is constant; the correlation coefficient is not defined.\n",
      "  warnings.warn(stats.ConstantInputWarning(msg))\n",
      "/Users/yanpavan/anaconda3/envs/mimic_data_extraction/lib/python3.10/site-packages/scipy/stats/_stats_py.py:4878: ConstantInputWarning: An input array is constant; the correlation coefficient is not defined.\n",
      "  warnings.warn(stats.ConstantInputWarning(warn_msg))\n",
      "/Users/yanpavan/anaconda3/envs/mimic_data_extraction/lib/python3.10/site-packages/scipy/stats/_stats_py.py:4424: ConstantInputWarning: An input array is constant; the correlation coefficient is not defined.\n",
      "  warnings.warn(stats.ConstantInputWarning(msg))\n",
      "/Users/yanpavan/anaconda3/envs/mimic_data_extraction/lib/python3.10/site-packages/scipy/stats/_stats_py.py:4878: ConstantInputWarning: An input array is constant; the correlation coefficient is not defined.\n",
      "  warnings.warn(stats.ConstantInputWarning(warn_msg))\n",
      "/Users/yanpavan/anaconda3/envs/mimic_data_extraction/lib/python3.10/site-packages/scipy/stats/_stats_py.py:4424: ConstantInputWarning: An input array is constant; the correlation coefficient is not defined.\n",
      "  warnings.warn(stats.ConstantInputWarning(msg))\n",
      "/Users/yanpavan/anaconda3/envs/mimic_data_extraction/lib/python3.10/site-packages/scipy/stats/_stats_py.py:4878: ConstantInputWarning: An input array is constant; the correlation coefficient is not defined.\n",
      "  warnings.warn(stats.ConstantInputWarning(warn_msg))\n",
      "/Users/yanpavan/anaconda3/envs/mimic_data_extraction/lib/python3.10/site-packages/scipy/stats/_stats_py.py:4424: ConstantInputWarning: An input array is constant; the correlation coefficient is not defined.\n",
      "  warnings.warn(stats.ConstantInputWarning(msg))\n",
      "/Users/yanpavan/anaconda3/envs/mimic_data_extraction/lib/python3.10/site-packages/scipy/stats/_stats_py.py:4878: ConstantInputWarning: An input array is constant; the correlation coefficient is not defined.\n",
      "  warnings.warn(stats.ConstantInputWarning(warn_msg))\n",
      "/Users/yanpavan/anaconda3/envs/mimic_data_extraction/lib/python3.10/site-packages/scipy/stats/_stats_py.py:4424: ConstantInputWarning: An input array is constant; the correlation coefficient is not defined.\n",
      "  warnings.warn(stats.ConstantInputWarning(msg))\n",
      "/Users/yanpavan/anaconda3/envs/mimic_data_extraction/lib/python3.10/site-packages/scipy/stats/_stats_py.py:4878: ConstantInputWarning: An input array is constant; the correlation coefficient is not defined.\n",
      "  warnings.warn(stats.ConstantInputWarning(warn_msg))\n",
      "/Users/yanpavan/anaconda3/envs/mimic_data_extraction/lib/python3.10/site-packages/scipy/stats/_stats_py.py:4424: ConstantInputWarning: An input array is constant; the correlation coefficient is not defined.\n",
      "  warnings.warn(stats.ConstantInputWarning(msg))\n",
      "/Users/yanpavan/anaconda3/envs/mimic_data_extraction/lib/python3.10/site-packages/scipy/stats/_stats_py.py:4878: ConstantInputWarning: An input array is constant; the correlation coefficient is not defined.\n",
      "  warnings.warn(stats.ConstantInputWarning(warn_msg))\n",
      "/Users/yanpavan/anaconda3/envs/mimic_data_extraction/lib/python3.10/site-packages/scipy/stats/_stats_py.py:4424: ConstantInputWarning: An input array is constant; the correlation coefficient is not defined.\n",
      "  warnings.warn(stats.ConstantInputWarning(msg))\n",
      "/Users/yanpavan/anaconda3/envs/mimic_data_extraction/lib/python3.10/site-packages/scipy/stats/_stats_py.py:4878: ConstantInputWarning: An input array is constant; the correlation coefficient is not defined.\n",
      "  warnings.warn(stats.ConstantInputWarning(warn_msg))\n",
      "/Users/yanpavan/anaconda3/envs/mimic_data_extraction/lib/python3.10/site-packages/scipy/stats/_stats_py.py:4424: ConstantInputWarning: An input array is constant; the correlation coefficient is not defined.\n",
      "  warnings.warn(stats.ConstantInputWarning(msg))\n",
      "/Users/yanpavan/anaconda3/envs/mimic_data_extraction/lib/python3.10/site-packages/scipy/stats/_stats_py.py:4878: ConstantInputWarning: An input array is constant; the correlation coefficient is not defined.\n",
      "  warnings.warn(stats.ConstantInputWarning(warn_msg))\n",
      "/Users/yanpavan/anaconda3/envs/mimic_data_extraction/lib/python3.10/site-packages/scipy/stats/_stats_py.py:4424: ConstantInputWarning: An input array is constant; the correlation coefficient is not defined.\n",
      "  warnings.warn(stats.ConstantInputWarning(msg))\n",
      "/Users/yanpavan/anaconda3/envs/mimic_data_extraction/lib/python3.10/site-packages/scipy/stats/_stats_py.py:4878: ConstantInputWarning: An input array is constant; the correlation coefficient is not defined.\n",
      "  warnings.warn(stats.ConstantInputWarning(warn_msg))\n",
      "/Users/yanpavan/anaconda3/envs/mimic_data_extraction/lib/python3.10/site-packages/scipy/stats/_stats_py.py:4424: ConstantInputWarning: An input array is constant; the correlation coefficient is not defined.\n",
      "  warnings.warn(stats.ConstantInputWarning(msg))\n",
      "/Users/yanpavan/anaconda3/envs/mimic_data_extraction/lib/python3.10/site-packages/scipy/stats/_stats_py.py:4878: ConstantInputWarning: An input array is constant; the correlation coefficient is not defined.\n",
      "  warnings.warn(stats.ConstantInputWarning(warn_msg))\n",
      "/Users/yanpavan/anaconda3/envs/mimic_data_extraction/lib/python3.10/site-packages/scipy/stats/_stats_py.py:4424: ConstantInputWarning: An input array is constant; the correlation coefficient is not defined.\n",
      "  warnings.warn(stats.ConstantInputWarning(msg))\n",
      "/Users/yanpavan/anaconda3/envs/mimic_data_extraction/lib/python3.10/site-packages/scipy/stats/_stats_py.py:4878: ConstantInputWarning: An input array is constant; the correlation coefficient is not defined.\n",
      "  warnings.warn(stats.ConstantInputWarning(warn_msg))\n",
      "/Users/yanpavan/anaconda3/envs/mimic_data_extraction/lib/python3.10/site-packages/scipy/stats/_stats_py.py:4424: ConstantInputWarning: An input array is constant; the correlation coefficient is not defined.\n",
      "  warnings.warn(stats.ConstantInputWarning(msg))\n",
      "/Users/yanpavan/anaconda3/envs/mimic_data_extraction/lib/python3.10/site-packages/scipy/stats/_stats_py.py:4878: ConstantInputWarning: An input array is constant; the correlation coefficient is not defined.\n",
      "  warnings.warn(stats.ConstantInputWarning(warn_msg))\n",
      "/Users/yanpavan/anaconda3/envs/mimic_data_extraction/lib/python3.10/site-packages/scipy/stats/_stats_py.py:4424: ConstantInputWarning: An input array is constant; the correlation coefficient is not defined.\n",
      "  warnings.warn(stats.ConstantInputWarning(msg))\n",
      "/Users/yanpavan/anaconda3/envs/mimic_data_extraction/lib/python3.10/site-packages/scipy/stats/_stats_py.py:4878: ConstantInputWarning: An input array is constant; the correlation coefficient is not defined.\n",
      "  warnings.warn(stats.ConstantInputWarning(warn_msg))\n",
      "/Users/yanpavan/anaconda3/envs/mimic_data_extraction/lib/python3.10/site-packages/scipy/stats/_stats_py.py:4424: ConstantInputWarning: An input array is constant; the correlation coefficient is not defined.\n",
      "  warnings.warn(stats.ConstantInputWarning(msg))\n",
      "/Users/yanpavan/anaconda3/envs/mimic_data_extraction/lib/python3.10/site-packages/scipy/stats/_stats_py.py:4878: ConstantInputWarning: An input array is constant; the correlation coefficient is not defined.\n",
      "  warnings.warn(stats.ConstantInputWarning(warn_msg))\n",
      "/Users/yanpavan/anaconda3/envs/mimic_data_extraction/lib/python3.10/site-packages/scipy/stats/_stats_py.py:4424: ConstantInputWarning: An input array is constant; the correlation coefficient is not defined.\n",
      "  warnings.warn(stats.ConstantInputWarning(msg))\n",
      "/Users/yanpavan/anaconda3/envs/mimic_data_extraction/lib/python3.10/site-packages/scipy/stats/_stats_py.py:4878: ConstantInputWarning: An input array is constant; the correlation coefficient is not defined.\n",
      "  warnings.warn(stats.ConstantInputWarning(warn_msg))\n",
      "/Users/yanpavan/anaconda3/envs/mimic_data_extraction/lib/python3.10/site-packages/scipy/stats/_stats_py.py:4424: ConstantInputWarning: An input array is constant; the correlation coefficient is not defined.\n",
      "  warnings.warn(stats.ConstantInputWarning(msg))\n",
      "/Users/yanpavan/anaconda3/envs/mimic_data_extraction/lib/python3.10/site-packages/scipy/stats/_stats_py.py:4878: ConstantInputWarning: An input array is constant; the correlation coefficient is not defined.\n",
      "  warnings.warn(stats.ConstantInputWarning(warn_msg))\n",
      "/Users/yanpavan/anaconda3/envs/mimic_data_extraction/lib/python3.10/site-packages/scipy/stats/_stats_py.py:4424: ConstantInputWarning: An input array is constant; the correlation coefficient is not defined.\n",
      "  warnings.warn(stats.ConstantInputWarning(msg))\n",
      "/Users/yanpavan/anaconda3/envs/mimic_data_extraction/lib/python3.10/site-packages/scipy/stats/_stats_py.py:4878: ConstantInputWarning: An input array is constant; the correlation coefficient is not defined.\n",
      "  warnings.warn(stats.ConstantInputWarning(warn_msg))\n",
      "/Users/yanpavan/anaconda3/envs/mimic_data_extraction/lib/python3.10/site-packages/scipy/stats/_stats_py.py:4424: ConstantInputWarning: An input array is constant; the correlation coefficient is not defined.\n",
      "  warnings.warn(stats.ConstantInputWarning(msg))\n",
      "/Users/yanpavan/anaconda3/envs/mimic_data_extraction/lib/python3.10/site-packages/scipy/stats/_stats_py.py:4878: ConstantInputWarning: An input array is constant; the correlation coefficient is not defined.\n",
      "  warnings.warn(stats.ConstantInputWarning(warn_msg))\n",
      "/Users/yanpavan/anaconda3/envs/mimic_data_extraction/lib/python3.10/site-packages/scipy/stats/_stats_py.py:4424: ConstantInputWarning: An input array is constant; the correlation coefficient is not defined.\n",
      "  warnings.warn(stats.ConstantInputWarning(msg))\n",
      "/Users/yanpavan/anaconda3/envs/mimic_data_extraction/lib/python3.10/site-packages/scipy/stats/_stats_py.py:4878: ConstantInputWarning: An input array is constant; the correlation coefficient is not defined.\n",
      "  warnings.warn(stats.ConstantInputWarning(warn_msg))\n",
      "/Users/yanpavan/anaconda3/envs/mimic_data_extraction/lib/python3.10/site-packages/scipy/stats/_stats_py.py:4424: ConstantInputWarning: An input array is constant; the correlation coefficient is not defined.\n",
      "  warnings.warn(stats.ConstantInputWarning(msg))\n",
      "/Users/yanpavan/anaconda3/envs/mimic_data_extraction/lib/python3.10/site-packages/scipy/stats/_stats_py.py:4878: ConstantInputWarning: An input array is constant; the correlation coefficient is not defined.\n",
      "  warnings.warn(stats.ConstantInputWarning(warn_msg))\n",
      "/Users/yanpavan/anaconda3/envs/mimic_data_extraction/lib/python3.10/site-packages/scipy/stats/_stats_py.py:4424: ConstantInputWarning: An input array is constant; the correlation coefficient is not defined.\n",
      "  warnings.warn(stats.ConstantInputWarning(msg))\n",
      "/Users/yanpavan/anaconda3/envs/mimic_data_extraction/lib/python3.10/site-packages/scipy/stats/_stats_py.py:4878: ConstantInputWarning: An input array is constant; the correlation coefficient is not defined.\n",
      "  warnings.warn(stats.ConstantInputWarning(warn_msg))\n",
      "/Users/yanpavan/anaconda3/envs/mimic_data_extraction/lib/python3.10/site-packages/scipy/stats/_stats_py.py:4424: ConstantInputWarning: An input array is constant; the correlation coefficient is not defined.\n",
      "  warnings.warn(stats.ConstantInputWarning(msg))\n",
      "/Users/yanpavan/anaconda3/envs/mimic_data_extraction/lib/python3.10/site-packages/scipy/stats/_stats_py.py:4878: ConstantInputWarning: An input array is constant; the correlation coefficient is not defined.\n",
      "  warnings.warn(stats.ConstantInputWarning(warn_msg))\n",
      "/Users/yanpavan/anaconda3/envs/mimic_data_extraction/lib/python3.10/site-packages/scipy/stats/_stats_py.py:4424: ConstantInputWarning: An input array is constant; the correlation coefficient is not defined.\n",
      "  warnings.warn(stats.ConstantInputWarning(msg))\n",
      "/Users/yanpavan/anaconda3/envs/mimic_data_extraction/lib/python3.10/site-packages/scipy/stats/_stats_py.py:4878: ConstantInputWarning: An input array is constant; the correlation coefficient is not defined.\n",
      "  warnings.warn(stats.ConstantInputWarning(warn_msg))\n",
      "/Users/yanpavan/anaconda3/envs/mimic_data_extraction/lib/python3.10/site-packages/scipy/stats/_stats_py.py:4424: ConstantInputWarning: An input array is constant; the correlation coefficient is not defined.\n",
      "  warnings.warn(stats.ConstantInputWarning(msg))\n",
      "/Users/yanpavan/anaconda3/envs/mimic_data_extraction/lib/python3.10/site-packages/scipy/stats/_stats_py.py:4878: ConstantInputWarning: An input array is constant; the correlation coefficient is not defined.\n",
      "  warnings.warn(stats.ConstantInputWarning(warn_msg))\n",
      "/Users/yanpavan/anaconda3/envs/mimic_data_extraction/lib/python3.10/site-packages/scipy/stats/_stats_py.py:4424: ConstantInputWarning: An input array is constant; the correlation coefficient is not defined.\n",
      "  warnings.warn(stats.ConstantInputWarning(msg))\n",
      "/Users/yanpavan/anaconda3/envs/mimic_data_extraction/lib/python3.10/site-packages/scipy/stats/_stats_py.py:4878: ConstantInputWarning: An input array is constant; the correlation coefficient is not defined.\n",
      "  warnings.warn(stats.ConstantInputWarning(warn_msg))\n",
      "/Users/yanpavan/anaconda3/envs/mimic_data_extraction/lib/python3.10/site-packages/scipy/stats/_stats_py.py:4424: ConstantInputWarning: An input array is constant; the correlation coefficient is not defined.\n",
      "  warnings.warn(stats.ConstantInputWarning(msg))\n",
      "/Users/yanpavan/anaconda3/envs/mimic_data_extraction/lib/python3.10/site-packages/scipy/stats/_stats_py.py:4878: ConstantInputWarning: An input array is constant; the correlation coefficient is not defined.\n",
      "  warnings.warn(stats.ConstantInputWarning(warn_msg))\n",
      "/Users/yanpavan/anaconda3/envs/mimic_data_extraction/lib/python3.10/site-packages/scipy/stats/_stats_py.py:4424: ConstantInputWarning: An input array is constant; the correlation coefficient is not defined.\n",
      "  warnings.warn(stats.ConstantInputWarning(msg))\n",
      "/Users/yanpavan/anaconda3/envs/mimic_data_extraction/lib/python3.10/site-packages/scipy/stats/_stats_py.py:4878: ConstantInputWarning: An input array is constant; the correlation coefficient is not defined.\n",
      "  warnings.warn(stats.ConstantInputWarning(warn_msg))\n",
      "/Users/yanpavan/anaconda3/envs/mimic_data_extraction/lib/python3.10/site-packages/scipy/stats/_stats_py.py:4424: ConstantInputWarning: An input array is constant; the correlation coefficient is not defined.\n",
      "  warnings.warn(stats.ConstantInputWarning(msg))\n",
      "/Users/yanpavan/anaconda3/envs/mimic_data_extraction/lib/python3.10/site-packages/scipy/stats/_stats_py.py:4878: ConstantInputWarning: An input array is constant; the correlation coefficient is not defined.\n",
      "  warnings.warn(stats.ConstantInputWarning(warn_msg))\n",
      "/Users/yanpavan/anaconda3/envs/mimic_data_extraction/lib/python3.10/site-packages/scipy/stats/_stats_py.py:4424: ConstantInputWarning: An input array is constant; the correlation coefficient is not defined.\n",
      "  warnings.warn(stats.ConstantInputWarning(msg))\n",
      "/Users/yanpavan/anaconda3/envs/mimic_data_extraction/lib/python3.10/site-packages/scipy/stats/_stats_py.py:4878: ConstantInputWarning: An input array is constant; the correlation coefficient is not defined.\n",
      "  warnings.warn(stats.ConstantInputWarning(warn_msg))\n",
      "/Users/yanpavan/anaconda3/envs/mimic_data_extraction/lib/python3.10/site-packages/scipy/stats/_stats_py.py:4424: ConstantInputWarning: An input array is constant; the correlation coefficient is not defined.\n",
      "  warnings.warn(stats.ConstantInputWarning(msg))\n",
      "/Users/yanpavan/anaconda3/envs/mimic_data_extraction/lib/python3.10/site-packages/scipy/stats/_stats_py.py:4878: ConstantInputWarning: An input array is constant; the correlation coefficient is not defined.\n",
      "  warnings.warn(stats.ConstantInputWarning(warn_msg))\n",
      "/Users/yanpavan/anaconda3/envs/mimic_data_extraction/lib/python3.10/site-packages/scipy/stats/_stats_py.py:4424: ConstantInputWarning: An input array is constant; the correlation coefficient is not defined.\n",
      "  warnings.warn(stats.ConstantInputWarning(msg))\n",
      "/Users/yanpavan/anaconda3/envs/mimic_data_extraction/lib/python3.10/site-packages/scipy/stats/_stats_py.py:4878: ConstantInputWarning: An input array is constant; the correlation coefficient is not defined.\n",
      "  warnings.warn(stats.ConstantInputWarning(warn_msg))\n",
      "/Users/yanpavan/anaconda3/envs/mimic_data_extraction/lib/python3.10/site-packages/scipy/stats/_stats_py.py:4424: ConstantInputWarning: An input array is constant; the correlation coefficient is not defined.\n",
      "  warnings.warn(stats.ConstantInputWarning(msg))\n",
      "/Users/yanpavan/anaconda3/envs/mimic_data_extraction/lib/python3.10/site-packages/scipy/stats/_stats_py.py:4878: ConstantInputWarning: An input array is constant; the correlation coefficient is not defined.\n",
      "  warnings.warn(stats.ConstantInputWarning(warn_msg))\n",
      "/Users/yanpavan/anaconda3/envs/mimic_data_extraction/lib/python3.10/site-packages/scipy/stats/_stats_py.py:4424: ConstantInputWarning: An input array is constant; the correlation coefficient is not defined.\n",
      "  warnings.warn(stats.ConstantInputWarning(msg))\n",
      "/Users/yanpavan/anaconda3/envs/mimic_data_extraction/lib/python3.10/site-packages/scipy/stats/_stats_py.py:4878: ConstantInputWarning: An input array is constant; the correlation coefficient is not defined.\n",
      "  warnings.warn(stats.ConstantInputWarning(warn_msg))\n",
      "/Users/yanpavan/anaconda3/envs/mimic_data_extraction/lib/python3.10/site-packages/scipy/stats/_stats_py.py:4424: ConstantInputWarning: An input array is constant; the correlation coefficient is not defined.\n",
      "  warnings.warn(stats.ConstantInputWarning(msg))\n",
      "/Users/yanpavan/anaconda3/envs/mimic_data_extraction/lib/python3.10/site-packages/scipy/stats/_stats_py.py:4878: ConstantInputWarning: An input array is constant; the correlation coefficient is not defined.\n",
      "  warnings.warn(stats.ConstantInputWarning(warn_msg))\n",
      "/Users/yanpavan/anaconda3/envs/mimic_data_extraction/lib/python3.10/site-packages/scipy/stats/_stats_py.py:4424: ConstantInputWarning: An input array is constant; the correlation coefficient is not defined.\n",
      "  warnings.warn(stats.ConstantInputWarning(msg))\n",
      "/Users/yanpavan/anaconda3/envs/mimic_data_extraction/lib/python3.10/site-packages/scipy/stats/_stats_py.py:4878: ConstantInputWarning: An input array is constant; the correlation coefficient is not defined.\n",
      "  warnings.warn(stats.ConstantInputWarning(warn_msg))\n",
      "/Users/yanpavan/anaconda3/envs/mimic_data_extraction/lib/python3.10/site-packages/scipy/stats/_stats_py.py:4424: ConstantInputWarning: An input array is constant; the correlation coefficient is not defined.\n",
      "  warnings.warn(stats.ConstantInputWarning(msg))\n",
      "/Users/yanpavan/anaconda3/envs/mimic_data_extraction/lib/python3.10/site-packages/scipy/stats/_stats_py.py:4878: ConstantInputWarning: An input array is constant; the correlation coefficient is not defined.\n",
      "  warnings.warn(stats.ConstantInputWarning(warn_msg))\n",
      "/Users/yanpavan/anaconda3/envs/mimic_data_extraction/lib/python3.10/site-packages/scipy/stats/_stats_py.py:4424: ConstantInputWarning: An input array is constant; the correlation coefficient is not defined.\n",
      "  warnings.warn(stats.ConstantInputWarning(msg))\n",
      "/Users/yanpavan/anaconda3/envs/mimic_data_extraction/lib/python3.10/site-packages/scipy/stats/_stats_py.py:4878: ConstantInputWarning: An input array is constant; the correlation coefficient is not defined.\n",
      "  warnings.warn(stats.ConstantInputWarning(warn_msg))\n"
     ]
    },
    {
     "data": {
      "text/plain": [
       "<Figure size 2000x2000 with 0 Axes>"
      ]
     },
     "metadata": {},
     "output_type": "display_data"
    },
    {
     "data": {
      "text/plain": [
       "<Figure size 2000x2000 with 0 Axes>"
      ]
     },
     "metadata": {},
     "output_type": "display_data"
    },
    {
     "data": {
      "text/plain": [
       "<Figure size 2000x2000 with 0 Axes>"
      ]
     },
     "metadata": {},
     "output_type": "display_data"
    },
    {
     "data": {
      "text/plain": [
       "<Figure size 2000x2000 with 0 Axes>"
      ]
     },
     "metadata": {},
     "output_type": "display_data"
    },
    {
     "data": {
      "text/plain": [
       "<Figure size 2000x2000 with 0 Axes>"
      ]
     },
     "metadata": {},
     "output_type": "display_data"
    },
    {
     "data": {
      "text/plain": [
       "<Figure size 2000x2000 with 0 Axes>"
      ]
     },
     "metadata": {},
     "output_type": "display_data"
    },
    {
     "data": {
      "text/plain": [
       "<Figure size 2000x2000 with 0 Axes>"
      ]
     },
     "metadata": {},
     "output_type": "display_data"
    },
    {
     "data": {
      "text/plain": [
       "<Figure size 2000x2000 with 0 Axes>"
      ]
     },
     "metadata": {},
     "output_type": "display_data"
    },
    {
     "data": {
      "text/plain": [
       "<Figure size 2000x2000 with 0 Axes>"
      ]
     },
     "metadata": {},
     "output_type": "display_data"
    },
    {
     "data": {
      "text/plain": [
       "<Figure size 2000x2000 with 0 Axes>"
      ]
     },
     "metadata": {},
     "output_type": "display_data"
    },
    {
     "data": {
      "text/plain": [
       "<Figure size 2000x2000 with 0 Axes>"
      ]
     },
     "metadata": {},
     "output_type": "display_data"
    },
    {
     "data": {
      "text/plain": [
       "<Figure size 2000x2000 with 0 Axes>"
      ]
     },
     "metadata": {},
     "output_type": "display_data"
    },
    {
     "data": {
      "text/plain": [
       "<Figure size 2000x2000 with 0 Axes>"
      ]
     },
     "metadata": {},
     "output_type": "display_data"
    },
    {
     "data": {
      "text/plain": [
       "<Figure size 2000x2000 with 0 Axes>"
      ]
     },
     "metadata": {},
     "output_type": "display_data"
    },
    {
     "data": {
      "text/plain": [
       "<Figure size 2000x2000 with 0 Axes>"
      ]
     },
     "metadata": {},
     "output_type": "display_data"
    },
    {
     "data": {
      "text/plain": [
       "<Figure size 2000x2000 with 0 Axes>"
      ]
     },
     "metadata": {},
     "output_type": "display_data"
    },
    {
     "data": {
      "text/plain": [
       "<Figure size 2000x2000 with 0 Axes>"
      ]
     },
     "metadata": {},
     "output_type": "display_data"
    },
    {
     "data": {
      "text/plain": [
       "<Figure size 2000x2000 with 0 Axes>"
      ]
     },
     "metadata": {},
     "output_type": "display_data"
    },
    {
     "data": {
      "text/plain": [
       "<Figure size 2000x2000 with 0 Axes>"
      ]
     },
     "metadata": {},
     "output_type": "display_data"
    },
    {
     "data": {
      "text/plain": [
       "<Figure size 2000x2000 with 0 Axes>"
      ]
     },
     "metadata": {},
     "output_type": "display_data"
    },
    {
     "data": {
      "text/plain": [
       "<Figure size 2000x2000 with 0 Axes>"
      ]
     },
     "metadata": {},
     "output_type": "display_data"
    },
    {
     "data": {
      "text/plain": [
       "<Figure size 2000x2000 with 0 Axes>"
      ]
     },
     "metadata": {},
     "output_type": "display_data"
    },
    {
     "data": {
      "text/plain": [
       "<Figure size 2000x2000 with 0 Axes>"
      ]
     },
     "metadata": {},
     "output_type": "display_data"
    },
    {
     "data": {
      "text/plain": [
       "<Figure size 2000x2000 with 0 Axes>"
      ]
     },
     "metadata": {},
     "output_type": "display_data"
    },
    {
     "data": {
      "text/plain": [
       "<Figure size 2000x2000 with 0 Axes>"
      ]
     },
     "metadata": {},
     "output_type": "display_data"
    },
    {
     "data": {
      "text/plain": [
       "<Figure size 2000x2000 with 0 Axes>"
      ]
     },
     "metadata": {},
     "output_type": "display_data"
    },
    {
     "data": {
      "text/plain": [
       "<Figure size 2000x2000 with 0 Axes>"
      ]
     },
     "metadata": {},
     "output_type": "display_data"
    },
    {
     "data": {
      "text/plain": [
       "<Figure size 2000x2000 with 0 Axes>"
      ]
     },
     "metadata": {},
     "output_type": "display_data"
    },
    {
     "data": {
      "text/plain": [
       "<Figure size 2000x2000 with 0 Axes>"
      ]
     },
     "metadata": {},
     "output_type": "display_data"
    },
    {
     "data": {
      "text/plain": [
       "<Figure size 2000x2000 with 0 Axes>"
      ]
     },
     "metadata": {},
     "output_type": "display_data"
    },
    {
     "data": {
      "text/plain": [
       "<Figure size 2000x2000 with 0 Axes>"
      ]
     },
     "metadata": {},
     "output_type": "display_data"
    },
    {
     "data": {
      "text/plain": [
       "<Figure size 2000x2000 with 0 Axes>"
      ]
     },
     "metadata": {},
     "output_type": "display_data"
    },
    {
     "data": {
      "text/plain": [
       "<Figure size 2000x2000 with 0 Axes>"
      ]
     },
     "metadata": {},
     "output_type": "display_data"
    },
    {
     "data": {
      "text/plain": [
       "<Figure size 2000x2000 with 0 Axes>"
      ]
     },
     "metadata": {},
     "output_type": "display_data"
    },
    {
     "data": {
      "text/plain": [
       "<Figure size 2000x2000 with 0 Axes>"
      ]
     },
     "metadata": {},
     "output_type": "display_data"
    },
    {
     "data": {
      "text/plain": [
       "<Figure size 2000x2000 with 0 Axes>"
      ]
     },
     "metadata": {},
     "output_type": "display_data"
    },
    {
     "data": {
      "text/plain": [
       "<Figure size 2000x2000 with 0 Axes>"
      ]
     },
     "metadata": {},
     "output_type": "display_data"
    },
    {
     "data": {
      "text/plain": [
       "<Figure size 2000x2000 with 0 Axes>"
      ]
     },
     "metadata": {},
     "output_type": "display_data"
    },
    {
     "data": {
      "text/plain": [
       "<Figure size 2000x2000 with 0 Axes>"
      ]
     },
     "metadata": {},
     "output_type": "display_data"
    },
    {
     "data": {
      "text/plain": [
       "<Figure size 2000x2000 with 0 Axes>"
      ]
     },
     "metadata": {},
     "output_type": "display_data"
    },
    {
     "data": {
      "text/plain": [
       "<Figure size 2000x2000 with 0 Axes>"
      ]
     },
     "metadata": {},
     "output_type": "display_data"
    },
    {
     "data": {
      "text/plain": [
       "<Figure size 2000x2000 with 0 Axes>"
      ]
     },
     "metadata": {},
     "output_type": "display_data"
    },
    {
     "data": {
      "text/plain": [
       "<Figure size 2000x2000 with 0 Axes>"
      ]
     },
     "metadata": {},
     "output_type": "display_data"
    },
    {
     "data": {
      "text/plain": [
       "<Figure size 2000x2000 with 0 Axes>"
      ]
     },
     "metadata": {},
     "output_type": "display_data"
    },
    {
     "data": {
      "text/plain": [
       "<Figure size 2000x2000 with 0 Axes>"
      ]
     },
     "metadata": {},
     "output_type": "display_data"
    },
    {
     "data": {
      "text/plain": [
       "<Figure size 2000x2000 with 0 Axes>"
      ]
     },
     "metadata": {},
     "output_type": "display_data"
    },
    {
     "data": {
      "text/plain": [
       "<Figure size 2000x2000 with 0 Axes>"
      ]
     },
     "metadata": {},
     "output_type": "display_data"
    },
    {
     "data": {
      "text/plain": [
       "<Figure size 2000x2000 with 0 Axes>"
      ]
     },
     "metadata": {},
     "output_type": "display_data"
    },
    {
     "data": {
      "text/plain": [
       "<Figure size 2000x2000 with 0 Axes>"
      ]
     },
     "metadata": {},
     "output_type": "display_data"
    },
    {
     "data": {
      "text/plain": [
       "<Figure size 2000x2000 with 0 Axes>"
      ]
     },
     "metadata": {},
     "output_type": "display_data"
    },
    {
     "data": {
      "text/plain": [
       "<Figure size 2000x2000 with 0 Axes>"
      ]
     },
     "metadata": {},
     "output_type": "display_data"
    },
    {
     "data": {
      "text/plain": [
       "<Figure size 2000x2000 with 0 Axes>"
      ]
     },
     "metadata": {},
     "output_type": "display_data"
    },
    {
     "data": {
      "text/plain": [
       "<Figure size 2000x2000 with 0 Axes>"
      ]
     },
     "metadata": {},
     "output_type": "display_data"
    },
    {
     "data": {
      "text/plain": [
       "<Figure size 2000x2000 with 0 Axes>"
      ]
     },
     "metadata": {},
     "output_type": "display_data"
    },
    {
     "data": {
      "text/plain": [
       "<Figure size 2000x2000 with 0 Axes>"
      ]
     },
     "metadata": {},
     "output_type": "display_data"
    },
    {
     "data": {
      "text/plain": [
       "<Figure size 2000x2000 with 0 Axes>"
      ]
     },
     "metadata": {},
     "output_type": "display_data"
    },
    {
     "data": {
      "text/plain": [
       "<Figure size 2000x2000 with 0 Axes>"
      ]
     },
     "metadata": {},
     "output_type": "display_data"
    },
    {
     "data": {
      "text/plain": [
       "<Figure size 2000x2000 with 0 Axes>"
      ]
     },
     "metadata": {},
     "output_type": "display_data"
    },
    {
     "data": {
      "text/plain": [
       "<Figure size 2000x2000 with 0 Axes>"
      ]
     },
     "metadata": {},
     "output_type": "display_data"
    },
    {
     "data": {
      "text/plain": [
       "<Figure size 2000x2000 with 0 Axes>"
      ]
     },
     "metadata": {},
     "output_type": "display_data"
    },
    {
     "data": {
      "text/plain": [
       "<Figure size 2000x2000 with 0 Axes>"
      ]
     },
     "metadata": {},
     "output_type": "display_data"
    },
    {
     "data": {
      "text/plain": [
       "<Figure size 2000x2000 with 0 Axes>"
      ]
     },
     "metadata": {},
     "output_type": "display_data"
    },
    {
     "data": {
      "text/plain": [
       "<Figure size 2000x2000 with 0 Axes>"
      ]
     },
     "metadata": {},
     "output_type": "display_data"
    },
    {
     "data": {
      "text/plain": [
       "<Figure size 2000x2000 with 0 Axes>"
      ]
     },
     "metadata": {},
     "output_type": "display_data"
    },
    {
     "data": {
      "text/plain": [
       "<Figure size 2000x2000 with 0 Axes>"
      ]
     },
     "metadata": {},
     "output_type": "display_data"
    },
    {
     "data": {
      "text/plain": [
       "<Figure size 2000x2000 with 0 Axes>"
      ]
     },
     "metadata": {},
     "output_type": "display_data"
    },
    {
     "data": {
      "text/plain": [
       "<Figure size 2000x2000 with 0 Axes>"
      ]
     },
     "metadata": {},
     "output_type": "display_data"
    },
    {
     "data": {
      "text/plain": [
       "<Figure size 2000x2000 with 0 Axes>"
      ]
     },
     "metadata": {},
     "output_type": "display_data"
    },
    {
     "data": {
      "text/plain": [
       "<Figure size 2000x2000 with 0 Axes>"
      ]
     },
     "metadata": {},
     "output_type": "display_data"
    },
    {
     "data": {
      "text/plain": [
       "<Figure size 2000x2000 with 0 Axes>"
      ]
     },
     "metadata": {},
     "output_type": "display_data"
    },
    {
     "data": {
      "text/plain": [
       "<Figure size 2000x2000 with 0 Axes>"
      ]
     },
     "metadata": {},
     "output_type": "display_data"
    },
    {
     "data": {
      "text/plain": [
       "<Figure size 2000x2000 with 0 Axes>"
      ]
     },
     "metadata": {},
     "output_type": "display_data"
    },
    {
     "data": {
      "text/plain": [
       "<Figure size 2000x2000 with 0 Axes>"
      ]
     },
     "metadata": {},
     "output_type": "display_data"
    },
    {
     "data": {
      "text/plain": [
       "<Figure size 2000x2000 with 0 Axes>"
      ]
     },
     "metadata": {},
     "output_type": "display_data"
    },
    {
     "data": {
      "text/plain": [
       "<Figure size 2000x2000 with 0 Axes>"
      ]
     },
     "metadata": {},
     "output_type": "display_data"
    },
    {
     "data": {
      "text/plain": [
       "<Figure size 2000x2000 with 0 Axes>"
      ]
     },
     "metadata": {},
     "output_type": "display_data"
    },
    {
     "data": {
      "text/plain": [
       "<Figure size 2000x2000 with 0 Axes>"
      ]
     },
     "metadata": {},
     "output_type": "display_data"
    },
    {
     "data": {
      "text/plain": [
       "<Figure size 2000x2000 with 0 Axes>"
      ]
     },
     "metadata": {},
     "output_type": "display_data"
    },
    {
     "data": {
      "text/plain": [
       "<Figure size 2000x2000 with 0 Axes>"
      ]
     },
     "metadata": {},
     "output_type": "display_data"
    },
    {
     "data": {
      "text/plain": [
       "<Figure size 2000x2000 with 0 Axes>"
      ]
     },
     "metadata": {},
     "output_type": "display_data"
    },
    {
     "data": {
      "text/plain": [
       "<Figure size 2000x2000 with 0 Axes>"
      ]
     },
     "metadata": {},
     "output_type": "display_data"
    },
    {
     "data": {
      "text/plain": [
       "<Figure size 2000x2000 with 0 Axes>"
      ]
     },
     "metadata": {},
     "output_type": "display_data"
    },
    {
     "data": {
      "text/plain": [
       "<Figure size 2000x2000 with 0 Axes>"
      ]
     },
     "metadata": {},
     "output_type": "display_data"
    },
    {
     "data": {
      "text/plain": [
       "<Figure size 2000x2000 with 0 Axes>"
      ]
     },
     "metadata": {},
     "output_type": "display_data"
    },
    {
     "data": {
      "text/plain": [
       "<Figure size 2000x2000 with 0 Axes>"
      ]
     },
     "metadata": {},
     "output_type": "display_data"
    },
    {
     "data": {
      "text/plain": [
       "<Figure size 2000x2000 with 0 Axes>"
      ]
     },
     "metadata": {},
     "output_type": "display_data"
    },
    {
     "data": {
      "text/plain": [
       "<Figure size 2000x2000 with 0 Axes>"
      ]
     },
     "metadata": {},
     "output_type": "display_data"
    },
    {
     "data": {
      "text/plain": [
       "<Figure size 2000x2000 with 0 Axes>"
      ]
     },
     "metadata": {},
     "output_type": "display_data"
    },
    {
     "data": {
      "text/plain": [
       "<Figure size 2000x2000 with 0 Axes>"
      ]
     },
     "metadata": {},
     "output_type": "display_data"
    },
    {
     "data": {
      "text/plain": [
       "<Figure size 2000x2000 with 0 Axes>"
      ]
     },
     "metadata": {},
     "output_type": "display_data"
    },
    {
     "data": {
      "text/plain": [
       "<Figure size 2000x2000 with 0 Axes>"
      ]
     },
     "metadata": {},
     "output_type": "display_data"
    },
    {
     "data": {
      "text/plain": [
       "<Figure size 2000x2000 with 0 Axes>"
      ]
     },
     "metadata": {},
     "output_type": "display_data"
    },
    {
     "data": {
      "text/plain": [
       "<Figure size 2000x2000 with 0 Axes>"
      ]
     },
     "metadata": {},
     "output_type": "display_data"
    },
    {
     "data": {
      "text/plain": [
       "<Figure size 2000x2000 with 0 Axes>"
      ]
     },
     "metadata": {},
     "output_type": "display_data"
    },
    {
     "data": {
      "text/plain": [
       "<Figure size 2000x2000 with 0 Axes>"
      ]
     },
     "metadata": {},
     "output_type": "display_data"
    },
    {
     "data": {
      "text/plain": [
       "<Figure size 2000x2000 with 0 Axes>"
      ]
     },
     "metadata": {},
     "output_type": "display_data"
    },
    {
     "data": {
      "text/plain": [
       "<Figure size 2000x2000 with 0 Axes>"
      ]
     },
     "metadata": {},
     "output_type": "display_data"
    },
    {
     "data": {
      "text/plain": [
       "<Figure size 2000x2000 with 0 Axes>"
      ]
     },
     "metadata": {},
     "output_type": "display_data"
    },
    {
     "data": {
      "text/plain": [
       "<Figure size 2000x2000 with 0 Axes>"
      ]
     },
     "metadata": {},
     "output_type": "display_data"
    },
    {
     "data": {
      "text/plain": [
       "<Figure size 2000x2000 with 0 Axes>"
      ]
     },
     "metadata": {},
     "output_type": "display_data"
    },
    {
     "data": {
      "text/plain": [
       "<Figure size 2000x2000 with 0 Axes>"
      ]
     },
     "metadata": {},
     "output_type": "display_data"
    },
    {
     "data": {
      "text/plain": [
       "<Figure size 2000x2000 with 0 Axes>"
      ]
     },
     "metadata": {},
     "output_type": "display_data"
    },
    {
     "data": {
      "text/plain": [
       "<Figure size 2000x2000 with 0 Axes>"
      ]
     },
     "metadata": {},
     "output_type": "display_data"
    },
    {
     "data": {
      "text/plain": [
       "<Figure size 2000x2000 with 0 Axes>"
      ]
     },
     "metadata": {},
     "output_type": "display_data"
    },
    {
     "data": {
      "text/plain": [
       "<Figure size 2000x2000 with 0 Axes>"
      ]
     },
     "metadata": {},
     "output_type": "display_data"
    },
    {
     "data": {
      "text/plain": [
       "<Figure size 2000x2000 with 0 Axes>"
      ]
     },
     "metadata": {},
     "output_type": "display_data"
    },
    {
     "data": {
      "text/plain": [
       "<Figure size 2000x2000 with 0 Axes>"
      ]
     },
     "metadata": {},
     "output_type": "display_data"
    },
    {
     "data": {
      "text/plain": [
       "<Figure size 2000x2000 with 0 Axes>"
      ]
     },
     "metadata": {},
     "output_type": "display_data"
    },
    {
     "data": {
      "text/plain": [
       "<Figure size 2000x2000 with 0 Axes>"
      ]
     },
     "metadata": {},
     "output_type": "display_data"
    },
    {
     "data": {
      "text/plain": [
       "<Figure size 2000x2000 with 0 Axes>"
      ]
     },
     "metadata": {},
     "output_type": "display_data"
    },
    {
     "data": {
      "text/plain": [
       "<Figure size 2000x2000 with 0 Axes>"
      ]
     },
     "metadata": {},
     "output_type": "display_data"
    },
    {
     "data": {
      "text/plain": [
       "<Figure size 2000x2000 with 0 Axes>"
      ]
     },
     "metadata": {},
     "output_type": "display_data"
    },
    {
     "data": {
      "text/plain": [
       "<Figure size 2000x2000 with 0 Axes>"
      ]
     },
     "metadata": {},
     "output_type": "display_data"
    },
    {
     "data": {
      "text/plain": [
       "<Figure size 2000x2000 with 0 Axes>"
      ]
     },
     "metadata": {},
     "output_type": "display_data"
    },
    {
     "data": {
      "text/plain": [
       "<Figure size 2000x2000 with 0 Axes>"
      ]
     },
     "metadata": {},
     "output_type": "display_data"
    },
    {
     "data": {
      "text/plain": [
       "<Figure size 2000x2000 with 0 Axes>"
      ]
     },
     "metadata": {},
     "output_type": "display_data"
    },
    {
     "data": {
      "text/plain": [
       "<Figure size 2000x2000 with 0 Axes>"
      ]
     },
     "metadata": {},
     "output_type": "display_data"
    },
    {
     "data": {
      "text/plain": [
       "<Figure size 2000x2000 with 0 Axes>"
      ]
     },
     "metadata": {},
     "output_type": "display_data"
    },
    {
     "data": {
      "text/plain": [
       "<Figure size 2000x2000 with 0 Axes>"
      ]
     },
     "metadata": {},
     "output_type": "display_data"
    },
    {
     "data": {
      "text/plain": [
       "<Figure size 2000x2000 with 0 Axes>"
      ]
     },
     "metadata": {},
     "output_type": "display_data"
    },
    {
     "data": {
      "text/plain": [
       "<Figure size 2000x2000 with 0 Axes>"
      ]
     },
     "metadata": {},
     "output_type": "display_data"
    },
    {
     "data": {
      "text/plain": [
       "<Figure size 2000x2000 with 0 Axes>"
      ]
     },
     "metadata": {},
     "output_type": "display_data"
    },
    {
     "data": {
      "text/plain": [
       "<Figure size 2000x2000 with 0 Axes>"
      ]
     },
     "metadata": {},
     "output_type": "display_data"
    },
    {
     "data": {
      "text/plain": [
       "<Figure size 2000x2000 with 0 Axes>"
      ]
     },
     "metadata": {},
     "output_type": "display_data"
    },
    {
     "data": {
      "text/plain": [
       "<Figure size 2000x2000 with 0 Axes>"
      ]
     },
     "metadata": {},
     "output_type": "display_data"
    },
    {
     "data": {
      "text/plain": [
       "<Figure size 2000x2000 with 0 Axes>"
      ]
     },
     "metadata": {},
     "output_type": "display_data"
    },
    {
     "data": {
      "text/plain": [
       "<Figure size 2000x2000 with 0 Axes>"
      ]
     },
     "metadata": {},
     "output_type": "display_data"
    },
    {
     "data": {
      "text/plain": [
       "<Figure size 2000x2000 with 0 Axes>"
      ]
     },
     "metadata": {},
     "output_type": "display_data"
    },
    {
     "data": {
      "text/plain": [
       "<Figure size 2000x2000 with 0 Axes>"
      ]
     },
     "metadata": {},
     "output_type": "display_data"
    },
    {
     "data": {
      "text/plain": [
       "<Figure size 2000x2000 with 0 Axes>"
      ]
     },
     "metadata": {},
     "output_type": "display_data"
    },
    {
     "data": {
      "text/plain": [
       "<Figure size 2000x2000 with 0 Axes>"
      ]
     },
     "metadata": {},
     "output_type": "display_data"
    },
    {
     "data": {
      "text/plain": [
       "<Figure size 2000x2000 with 0 Axes>"
      ]
     },
     "metadata": {},
     "output_type": "display_data"
    },
    {
     "data": {
      "text/plain": [
       "<Figure size 2000x2000 with 0 Axes>"
      ]
     },
     "metadata": {},
     "output_type": "display_data"
    },
    {
     "data": {
      "text/plain": [
       "<Figure size 2000x2000 with 0 Axes>"
      ]
     },
     "metadata": {},
     "output_type": "display_data"
    },
    {
     "data": {
      "text/plain": [
       "<Figure size 2000x2000 with 0 Axes>"
      ]
     },
     "metadata": {},
     "output_type": "display_data"
    },
    {
     "data": {
      "text/plain": [
       "<Figure size 2000x2000 with 0 Axes>"
      ]
     },
     "metadata": {},
     "output_type": "display_data"
    },
    {
     "data": {
      "text/plain": [
       "<Figure size 2000x2000 with 0 Axes>"
      ]
     },
     "metadata": {},
     "output_type": "display_data"
    },
    {
     "data": {
      "text/plain": [
       "<Figure size 2000x2000 with 0 Axes>"
      ]
     },
     "metadata": {},
     "output_type": "display_data"
    },
    {
     "data": {
      "text/plain": [
       "<Figure size 2000x2000 with 0 Axes>"
      ]
     },
     "metadata": {},
     "output_type": "display_data"
    },
    {
     "data": {
      "text/plain": [
       "<Figure size 2000x2000 with 0 Axes>"
      ]
     },
     "metadata": {},
     "output_type": "display_data"
    },
    {
     "data": {
      "text/plain": [
       "<Figure size 2000x2000 with 0 Axes>"
      ]
     },
     "metadata": {},
     "output_type": "display_data"
    },
    {
     "data": {
      "text/plain": [
       "<Figure size 2000x2000 with 0 Axes>"
      ]
     },
     "metadata": {},
     "output_type": "display_data"
    },
    {
     "data": {
      "text/plain": [
       "<Figure size 2000x2000 with 0 Axes>"
      ]
     },
     "metadata": {},
     "output_type": "display_data"
    },
    {
     "data": {
      "text/plain": [
       "<Figure size 2000x2000 with 0 Axes>"
      ]
     },
     "metadata": {},
     "output_type": "display_data"
    },
    {
     "data": {
      "text/plain": [
       "<Figure size 2000x2000 with 0 Axes>"
      ]
     },
     "metadata": {},
     "output_type": "display_data"
    },
    {
     "data": {
      "text/plain": [
       "<Figure size 2000x2000 with 0 Axes>"
      ]
     },
     "metadata": {},
     "output_type": "display_data"
    },
    {
     "data": {
      "text/plain": [
       "<Figure size 2000x2000 with 0 Axes>"
      ]
     },
     "metadata": {},
     "output_type": "display_data"
    },
    {
     "data": {
      "text/plain": [
       "<Figure size 2000x2000 with 0 Axes>"
      ]
     },
     "metadata": {},
     "output_type": "display_data"
    },
    {
     "data": {
      "text/plain": [
       "<Figure size 2000x2000 with 0 Axes>"
      ]
     },
     "metadata": {},
     "output_type": "display_data"
    },
    {
     "data": {
      "text/plain": [
       "<Figure size 2000x2000 with 0 Axes>"
      ]
     },
     "metadata": {},
     "output_type": "display_data"
    },
    {
     "data": {
      "text/plain": [
       "<Figure size 2000x2000 with 0 Axes>"
      ]
     },
     "metadata": {},
     "output_type": "display_data"
    },
    {
     "data": {
      "text/plain": [
       "<Figure size 2000x2000 with 0 Axes>"
      ]
     },
     "metadata": {},
     "output_type": "display_data"
    },
    {
     "data": {
      "text/plain": [
       "<Figure size 2000x2000 with 0 Axes>"
      ]
     },
     "metadata": {},
     "output_type": "display_data"
    },
    {
     "data": {
      "text/plain": [
       "<Figure size 2000x2000 with 0 Axes>"
      ]
     },
     "metadata": {},
     "output_type": "display_data"
    },
    {
     "data": {
      "text/plain": [
       "<Figure size 2000x2000 with 0 Axes>"
      ]
     },
     "metadata": {},
     "output_type": "display_data"
    },
    {
     "data": {
      "text/plain": [
       "<Figure size 2000x2000 with 0 Axes>"
      ]
     },
     "metadata": {},
     "output_type": "display_data"
    },
    {
     "data": {
      "text/plain": [
       "<Figure size 2000x2000 with 0 Axes>"
      ]
     },
     "metadata": {},
     "output_type": "display_data"
    },
    {
     "data": {
      "text/plain": [
       "<Figure size 2000x2000 with 0 Axes>"
      ]
     },
     "metadata": {},
     "output_type": "display_data"
    },
    {
     "data": {
      "text/plain": [
       "<Figure size 2000x2000 with 0 Axes>"
      ]
     },
     "metadata": {},
     "output_type": "display_data"
    },
    {
     "data": {
      "text/plain": [
       "<Figure size 2000x2000 with 0 Axes>"
      ]
     },
     "metadata": {},
     "output_type": "display_data"
    },
    {
     "data": {
      "text/plain": [
       "<Figure size 2000x2000 with 0 Axes>"
      ]
     },
     "metadata": {},
     "output_type": "display_data"
    },
    {
     "data": {
      "text/plain": [
       "<Figure size 2000x2000 with 0 Axes>"
      ]
     },
     "metadata": {},
     "output_type": "display_data"
    },
    {
     "data": {
      "text/plain": [
       "<Figure size 2000x2000 with 0 Axes>"
      ]
     },
     "metadata": {},
     "output_type": "display_data"
    },
    {
     "data": {
      "text/plain": [
       "<Figure size 2000x2000 with 0 Axes>"
      ]
     },
     "metadata": {},
     "output_type": "display_data"
    },
    {
     "data": {
      "text/plain": [
       "<Figure size 2000x2000 with 0 Axes>"
      ]
     },
     "metadata": {},
     "output_type": "display_data"
    },
    {
     "data": {
      "text/plain": [
       "<Figure size 2000x2000 with 0 Axes>"
      ]
     },
     "metadata": {},
     "output_type": "display_data"
    },
    {
     "data": {
      "text/plain": [
       "<Figure size 2000x2000 with 0 Axes>"
      ]
     },
     "metadata": {},
     "output_type": "display_data"
    },
    {
     "data": {
      "text/plain": [
       "<Figure size 2000x2000 with 0 Axes>"
      ]
     },
     "metadata": {},
     "output_type": "display_data"
    },
    {
     "data": {
      "text/plain": [
       "<Figure size 2000x2000 with 0 Axes>"
      ]
     },
     "metadata": {},
     "output_type": "display_data"
    },
    {
     "data": {
      "text/plain": [
       "<Figure size 2000x2000 with 0 Axes>"
      ]
     },
     "metadata": {},
     "output_type": "display_data"
    },
    {
     "data": {
      "text/plain": [
       "<Figure size 2000x2000 with 0 Axes>"
      ]
     },
     "metadata": {},
     "output_type": "display_data"
    },
    {
     "data": {
      "text/plain": [
       "<Figure size 2000x2000 with 0 Axes>"
      ]
     },
     "metadata": {},
     "output_type": "display_data"
    },
    {
     "data": {
      "text/plain": [
       "<Figure size 2000x2000 with 0 Axes>"
      ]
     },
     "metadata": {},
     "output_type": "display_data"
    },
    {
     "data": {
      "text/plain": [
       "<Figure size 2000x2000 with 0 Axes>"
      ]
     },
     "metadata": {},
     "output_type": "display_data"
    },
    {
     "data": {
      "text/plain": [
       "<Figure size 2000x2000 with 0 Axes>"
      ]
     },
     "metadata": {},
     "output_type": "display_data"
    },
    {
     "data": {
      "text/plain": [
       "<Figure size 2000x2000 with 0 Axes>"
      ]
     },
     "metadata": {},
     "output_type": "display_data"
    },
    {
     "data": {
      "text/plain": [
       "<Figure size 2000x2000 with 0 Axes>"
      ]
     },
     "metadata": {},
     "output_type": "display_data"
    },
    {
     "data": {
      "text/plain": [
       "<Figure size 2000x2000 with 0 Axes>"
      ]
     },
     "metadata": {},
     "output_type": "display_data"
    },
    {
     "data": {
      "text/plain": [
       "<Figure size 2000x2000 with 0 Axes>"
      ]
     },
     "metadata": {},
     "output_type": "display_data"
    },
    {
     "data": {
      "text/plain": [
       "<Figure size 2000x2000 with 0 Axes>"
      ]
     },
     "metadata": {},
     "output_type": "display_data"
    },
    {
     "data": {
      "text/plain": [
       "<Figure size 2000x2000 with 0 Axes>"
      ]
     },
     "metadata": {},
     "output_type": "display_data"
    },
    {
     "data": {
      "text/plain": [
       "<Figure size 2000x2000 with 0 Axes>"
      ]
     },
     "metadata": {},
     "output_type": "display_data"
    },
    {
     "data": {
      "text/plain": [
       "<Figure size 2000x2000 with 0 Axes>"
      ]
     },
     "metadata": {},
     "output_type": "display_data"
    },
    {
     "data": {
      "text/plain": [
       "<Figure size 2000x2000 with 0 Axes>"
      ]
     },
     "metadata": {},
     "output_type": "display_data"
    },
    {
     "data": {
      "text/plain": [
       "<Figure size 2000x2000 with 0 Axes>"
      ]
     },
     "metadata": {},
     "output_type": "display_data"
    },
    {
     "data": {
      "text/plain": [
       "<Figure size 2000x2000 with 0 Axes>"
      ]
     },
     "metadata": {},
     "output_type": "display_data"
    },
    {
     "data": {
      "text/plain": [
       "<Figure size 2000x2000 with 0 Axes>"
      ]
     },
     "metadata": {},
     "output_type": "display_data"
    },
    {
     "data": {
      "text/plain": [
       "<Figure size 2000x2000 with 0 Axes>"
      ]
     },
     "metadata": {},
     "output_type": "display_data"
    },
    {
     "data": {
      "text/plain": [
       "<Figure size 2000x2000 with 0 Axes>"
      ]
     },
     "metadata": {},
     "output_type": "display_data"
    },
    {
     "data": {
      "text/plain": [
       "<Figure size 2000x2000 with 0 Axes>"
      ]
     },
     "metadata": {},
     "output_type": "display_data"
    },
    {
     "data": {
      "text/plain": [
       "<Figure size 2000x2000 with 0 Axes>"
      ]
     },
     "metadata": {},
     "output_type": "display_data"
    },
    {
     "data": {
      "text/plain": [
       "<Figure size 2000x2000 with 0 Axes>"
      ]
     },
     "metadata": {},
     "output_type": "display_data"
    },
    {
     "data": {
      "text/plain": [
       "<Figure size 2000x2000 with 0 Axes>"
      ]
     },
     "metadata": {},
     "output_type": "display_data"
    },
    {
     "data": {
      "text/plain": [
       "<Figure size 2000x2000 with 0 Axes>"
      ]
     },
     "metadata": {},
     "output_type": "display_data"
    },
    {
     "data": {
      "text/plain": [
       "<Figure size 2000x2000 with 0 Axes>"
      ]
     },
     "metadata": {},
     "output_type": "display_data"
    },
    {
     "data": {
      "text/plain": [
       "<Figure size 2000x2000 with 0 Axes>"
      ]
     },
     "metadata": {},
     "output_type": "display_data"
    },
    {
     "data": {
      "text/plain": [
       "<Figure size 2000x2000 with 0 Axes>"
      ]
     },
     "metadata": {},
     "output_type": "display_data"
    },
    {
     "data": {
      "text/plain": [
       "<Figure size 2000x2000 with 0 Axes>"
      ]
     },
     "metadata": {},
     "output_type": "display_data"
    },
    {
     "data": {
      "text/plain": [
       "<Figure size 2000x2000 with 0 Axes>"
      ]
     },
     "metadata": {},
     "output_type": "display_data"
    },
    {
     "data": {
      "text/plain": [
       "<Figure size 2000x2000 with 0 Axes>"
      ]
     },
     "metadata": {},
     "output_type": "display_data"
    },
    {
     "data": {
      "text/plain": [
       "<Figure size 2000x2000 with 0 Axes>"
      ]
     },
     "metadata": {},
     "output_type": "display_data"
    },
    {
     "data": {
      "text/plain": [
       "<Figure size 2000x2000 with 0 Axes>"
      ]
     },
     "metadata": {},
     "output_type": "display_data"
    },
    {
     "data": {
      "text/plain": [
       "<Figure size 2000x2000 with 0 Axes>"
      ]
     },
     "metadata": {},
     "output_type": "display_data"
    },
    {
     "data": {
      "text/plain": [
       "<Figure size 2000x2000 with 0 Axes>"
      ]
     },
     "metadata": {},
     "output_type": "display_data"
    },
    {
     "data": {
      "text/plain": [
       "<Figure size 2000x2000 with 0 Axes>"
      ]
     },
     "metadata": {},
     "output_type": "display_data"
    },
    {
     "data": {
      "text/plain": [
       "<Figure size 2000x2000 with 0 Axes>"
      ]
     },
     "metadata": {},
     "output_type": "display_data"
    },
    {
     "data": {
      "text/plain": [
       "<Figure size 2000x2000 with 0 Axes>"
      ]
     },
     "metadata": {},
     "output_type": "display_data"
    },
    {
     "data": {
      "text/plain": [
       "<Figure size 2000x2000 with 0 Axes>"
      ]
     },
     "metadata": {},
     "output_type": "display_data"
    },
    {
     "data": {
      "text/plain": [
       "<Figure size 2000x2000 with 0 Axes>"
      ]
     },
     "metadata": {},
     "output_type": "display_data"
    },
    {
     "data": {
      "text/plain": [
       "<Figure size 2000x2000 with 0 Axes>"
      ]
     },
     "metadata": {},
     "output_type": "display_data"
    },
    {
     "data": {
      "text/plain": [
       "<Figure size 2000x2000 with 0 Axes>"
      ]
     },
     "metadata": {},
     "output_type": "display_data"
    },
    {
     "data": {
      "text/plain": [
       "<Figure size 2000x2000 with 0 Axes>"
      ]
     },
     "metadata": {},
     "output_type": "display_data"
    },
    {
     "data": {
      "text/plain": [
       "<Figure size 2000x2000 with 0 Axes>"
      ]
     },
     "metadata": {},
     "output_type": "display_data"
    },
    {
     "data": {
      "text/plain": [
       "<Figure size 2000x2000 with 0 Axes>"
      ]
     },
     "metadata": {},
     "output_type": "display_data"
    },
    {
     "data": {
      "text/plain": [
       "<Figure size 2000x2000 with 0 Axes>"
      ]
     },
     "metadata": {},
     "output_type": "display_data"
    },
    {
     "data": {
      "text/plain": [
       "<Figure size 2000x2000 with 0 Axes>"
      ]
     },
     "metadata": {},
     "output_type": "display_data"
    },
    {
     "data": {
      "text/plain": [
       "<Figure size 2000x2000 with 0 Axes>"
      ]
     },
     "metadata": {},
     "output_type": "display_data"
    },
    {
     "data": {
      "text/plain": [
       "<Figure size 2000x2000 with 0 Axes>"
      ]
     },
     "metadata": {},
     "output_type": "display_data"
    },
    {
     "data": {
      "text/plain": [
       "<Figure size 2000x2000 with 0 Axes>"
      ]
     },
     "metadata": {},
     "output_type": "display_data"
    },
    {
     "data": {
      "text/plain": [
       "<Figure size 2000x2000 with 0 Axes>"
      ]
     },
     "metadata": {},
     "output_type": "display_data"
    },
    {
     "data": {
      "text/plain": [
       "<Figure size 2000x2000 with 0 Axes>"
      ]
     },
     "metadata": {},
     "output_type": "display_data"
    },
    {
     "data": {
      "text/plain": [
       "<Figure size 2000x2000 with 0 Axes>"
      ]
     },
     "metadata": {},
     "output_type": "display_data"
    },
    {
     "data": {
      "text/plain": [
       "<Figure size 2000x2000 with 0 Axes>"
      ]
     },
     "metadata": {},
     "output_type": "display_data"
    },
    {
     "data": {
      "text/plain": [
       "<Figure size 2000x2000 with 0 Axes>"
      ]
     },
     "metadata": {},
     "output_type": "display_data"
    },
    {
     "data": {
      "text/plain": [
       "<Figure size 2000x2000 with 0 Axes>"
      ]
     },
     "metadata": {},
     "output_type": "display_data"
    },
    {
     "data": {
      "text/plain": [
       "<Figure size 2000x2000 with 0 Axes>"
      ]
     },
     "metadata": {},
     "output_type": "display_data"
    },
    {
     "data": {
      "text/plain": [
       "<Figure size 2000x2000 with 0 Axes>"
      ]
     },
     "metadata": {},
     "output_type": "display_data"
    },
    {
     "data": {
      "text/plain": [
       "<Figure size 2000x2000 with 0 Axes>"
      ]
     },
     "metadata": {},
     "output_type": "display_data"
    },
    {
     "data": {
      "text/plain": [
       "<Figure size 2000x2000 with 0 Axes>"
      ]
     },
     "metadata": {},
     "output_type": "display_data"
    },
    {
     "data": {
      "text/plain": [
       "<Figure size 2000x2000 with 0 Axes>"
      ]
     },
     "metadata": {},
     "output_type": "display_data"
    },
    {
     "data": {
      "text/plain": [
       "<Figure size 2000x2000 with 0 Axes>"
      ]
     },
     "metadata": {},
     "output_type": "display_data"
    },
    {
     "data": {
      "text/plain": [
       "<Figure size 2000x2000 with 0 Axes>"
      ]
     },
     "metadata": {},
     "output_type": "display_data"
    },
    {
     "data": {
      "text/plain": [
       "<Figure size 2000x2000 with 0 Axes>"
      ]
     },
     "metadata": {},
     "output_type": "display_data"
    },
    {
     "data": {
      "text/plain": [
       "<Figure size 2000x2000 with 0 Axes>"
      ]
     },
     "metadata": {},
     "output_type": "display_data"
    },
    {
     "data": {
      "text/plain": [
       "<Figure size 2000x2000 with 0 Axes>"
      ]
     },
     "metadata": {},
     "output_type": "display_data"
    },
    {
     "data": {
      "text/plain": [
       "<Figure size 2000x2000 with 0 Axes>"
      ]
     },
     "metadata": {},
     "output_type": "display_data"
    },
    {
     "data": {
      "text/plain": [
       "<Figure size 2000x2000 with 0 Axes>"
      ]
     },
     "metadata": {},
     "output_type": "display_data"
    },
    {
     "data": {
      "text/plain": [
       "<Figure size 2000x2000 with 0 Axes>"
      ]
     },
     "metadata": {},
     "output_type": "display_data"
    },
    {
     "data": {
      "text/plain": [
       "<Figure size 2000x2000 with 0 Axes>"
      ]
     },
     "metadata": {},
     "output_type": "display_data"
    },
    {
     "data": {
      "text/plain": [
       "<Figure size 2000x2000 with 0 Axes>"
      ]
     },
     "metadata": {},
     "output_type": "display_data"
    },
    {
     "data": {
      "text/plain": [
       "<Figure size 2000x2000 with 0 Axes>"
      ]
     },
     "metadata": {},
     "output_type": "display_data"
    },
    {
     "data": {
      "text/plain": [
       "<Figure size 2000x2000 with 0 Axes>"
      ]
     },
     "metadata": {},
     "output_type": "display_data"
    },
    {
     "data": {
      "text/plain": [
       "<Figure size 2000x2000 with 0 Axes>"
      ]
     },
     "metadata": {},
     "output_type": "display_data"
    },
    {
     "data": {
      "text/plain": [
       "<Figure size 2000x2000 with 0 Axes>"
      ]
     },
     "metadata": {},
     "output_type": "display_data"
    },
    {
     "data": {
      "text/plain": [
       "<Figure size 2000x2000 with 0 Axes>"
      ]
     },
     "metadata": {},
     "output_type": "display_data"
    },
    {
     "data": {
      "text/plain": [
       "<Figure size 2000x2000 with 0 Axes>"
      ]
     },
     "metadata": {},
     "output_type": "display_data"
    },
    {
     "data": {
      "text/plain": [
       "<Figure size 2000x2000 with 0 Axes>"
      ]
     },
     "metadata": {},
     "output_type": "display_data"
    },
    {
     "data": {
      "text/plain": [
       "<Figure size 2000x2000 with 0 Axes>"
      ]
     },
     "metadata": {},
     "output_type": "display_data"
    },
    {
     "data": {
      "text/plain": [
       "<Figure size 2000x2000 with 0 Axes>"
      ]
     },
     "metadata": {},
     "output_type": "display_data"
    },
    {
     "data": {
      "text/plain": [
       "<Figure size 2000x2000 with 0 Axes>"
      ]
     },
     "metadata": {},
     "output_type": "display_data"
    },
    {
     "data": {
      "text/plain": [
       "<Figure size 2000x2000 with 0 Axes>"
      ]
     },
     "metadata": {},
     "output_type": "display_data"
    },
    {
     "data": {
      "text/plain": [
       "<Figure size 2000x2000 with 0 Axes>"
      ]
     },
     "metadata": {},
     "output_type": "display_data"
    },
    {
     "data": {
      "text/plain": [
       "<Figure size 2000x2000 with 0 Axes>"
      ]
     },
     "metadata": {},
     "output_type": "display_data"
    },
    {
     "data": {
      "text/plain": [
       "<Figure size 2000x2000 with 0 Axes>"
      ]
     },
     "metadata": {},
     "output_type": "display_data"
    },
    {
     "data": {
      "text/plain": [
       "<Figure size 2000x2000 with 0 Axes>"
      ]
     },
     "metadata": {},
     "output_type": "display_data"
    },
    {
     "data": {
      "text/plain": [
       "<Figure size 2000x2000 with 0 Axes>"
      ]
     },
     "metadata": {},
     "output_type": "display_data"
    },
    {
     "data": {
      "text/plain": [
       "<Figure size 2000x2000 with 0 Axes>"
      ]
     },
     "metadata": {},
     "output_type": "display_data"
    },
    {
     "data": {
      "text/plain": [
       "<Figure size 2000x2000 with 0 Axes>"
      ]
     },
     "metadata": {},
     "output_type": "display_data"
    },
    {
     "data": {
      "text/plain": [
       "<Figure size 2000x2000 with 0 Axes>"
      ]
     },
     "metadata": {},
     "output_type": "display_data"
    },
    {
     "data": {
      "text/plain": [
       "<Figure size 2000x2000 with 0 Axes>"
      ]
     },
     "metadata": {},
     "output_type": "display_data"
    },
    {
     "data": {
      "text/plain": [
       "<Figure size 2000x2000 with 0 Axes>"
      ]
     },
     "metadata": {},
     "output_type": "display_data"
    },
    {
     "data": {
      "text/plain": [
       "<Figure size 2000x2000 with 0 Axes>"
      ]
     },
     "metadata": {},
     "output_type": "display_data"
    },
    {
     "data": {
      "text/plain": [
       "<Figure size 2000x2000 with 0 Axes>"
      ]
     },
     "metadata": {},
     "output_type": "display_data"
    },
    {
     "data": {
      "text/plain": [
       "<Figure size 2000x2000 with 0 Axes>"
      ]
     },
     "metadata": {},
     "output_type": "display_data"
    },
    {
     "data": {
      "text/plain": [
       "<Figure size 2000x2000 with 0 Axes>"
      ]
     },
     "metadata": {},
     "output_type": "display_data"
    },
    {
     "data": {
      "text/plain": [
       "<Figure size 2000x2000 with 0 Axes>"
      ]
     },
     "metadata": {},
     "output_type": "display_data"
    },
    {
     "data": {
      "text/plain": [
       "<Figure size 2000x2000 with 0 Axes>"
      ]
     },
     "metadata": {},
     "output_type": "display_data"
    },
    {
     "data": {
      "text/plain": [
       "<Figure size 2000x2000 with 0 Axes>"
      ]
     },
     "metadata": {},
     "output_type": "display_data"
    },
    {
     "data": {
      "text/plain": [
       "<Figure size 2000x2000 with 0 Axes>"
      ]
     },
     "metadata": {},
     "output_type": "display_data"
    },
    {
     "data": {
      "text/plain": [
       "<Figure size 2000x2000 with 0 Axes>"
      ]
     },
     "metadata": {},
     "output_type": "display_data"
    },
    {
     "data": {
      "text/plain": [
       "<Figure size 2000x2000 with 0 Axes>"
      ]
     },
     "metadata": {},
     "output_type": "display_data"
    },
    {
     "data": {
      "text/plain": [
       "<Figure size 2000x2000 with 0 Axes>"
      ]
     },
     "metadata": {},
     "output_type": "display_data"
    },
    {
     "data": {
      "text/plain": [
       "<Figure size 2000x2000 with 0 Axes>"
      ]
     },
     "metadata": {},
     "output_type": "display_data"
    },
    {
     "data": {
      "text/plain": [
       "<Figure size 2000x2000 with 0 Axes>"
      ]
     },
     "metadata": {},
     "output_type": "display_data"
    },
    {
     "data": {
      "text/plain": [
       "<Figure size 2000x2000 with 0 Axes>"
      ]
     },
     "metadata": {},
     "output_type": "display_data"
    },
    {
     "data": {
      "text/plain": [
       "<Figure size 2000x2000 with 0 Axes>"
      ]
     },
     "metadata": {},
     "output_type": "display_data"
    },
    {
     "data": {
      "text/plain": [
       "<Figure size 2000x2000 with 0 Axes>"
      ]
     },
     "metadata": {},
     "output_type": "display_data"
    },
    {
     "data": {
      "text/plain": [
       "<Figure size 2000x2000 with 0 Axes>"
      ]
     },
     "metadata": {},
     "output_type": "display_data"
    },
    {
     "data": {
      "text/plain": [
       "<Figure size 2000x2000 with 0 Axes>"
      ]
     },
     "metadata": {},
     "output_type": "display_data"
    },
    {
     "data": {
      "text/plain": [
       "<Figure size 2000x2000 with 0 Axes>"
      ]
     },
     "metadata": {},
     "output_type": "display_data"
    },
    {
     "data": {
      "text/plain": [
       "<Figure size 2000x2000 with 0 Axes>"
      ]
     },
     "metadata": {},
     "output_type": "display_data"
    },
    {
     "data": {
      "text/plain": [
       "<Figure size 2000x2000 with 0 Axes>"
      ]
     },
     "metadata": {},
     "output_type": "display_data"
    },
    {
     "data": {
      "text/plain": [
       "<Figure size 2000x2000 with 0 Axes>"
      ]
     },
     "metadata": {},
     "output_type": "display_data"
    },
    {
     "data": {
      "text/plain": [
       "<Figure size 2000x2000 with 0 Axes>"
      ]
     },
     "metadata": {},
     "output_type": "display_data"
    },
    {
     "data": {
      "text/plain": [
       "<Figure size 2000x2000 with 0 Axes>"
      ]
     },
     "metadata": {},
     "output_type": "display_data"
    },
    {
     "data": {
      "text/plain": [
       "<Figure size 2000x2000 with 0 Axes>"
      ]
     },
     "metadata": {},
     "output_type": "display_data"
    },
    {
     "data": {
      "text/plain": [
       "<Figure size 2000x2000 with 0 Axes>"
      ]
     },
     "metadata": {},
     "output_type": "display_data"
    },
    {
     "data": {
      "text/plain": [
       "<Figure size 2000x2000 with 0 Axes>"
      ]
     },
     "metadata": {},
     "output_type": "display_data"
    },
    {
     "data": {
      "text/plain": [
       "<Figure size 2000x2000 with 0 Axes>"
      ]
     },
     "metadata": {},
     "output_type": "display_data"
    },
    {
     "data": {
      "text/plain": [
       "<Figure size 2000x2000 with 0 Axes>"
      ]
     },
     "metadata": {},
     "output_type": "display_data"
    },
    {
     "data": {
      "text/plain": [
       "<Figure size 2000x2000 with 0 Axes>"
      ]
     },
     "metadata": {},
     "output_type": "display_data"
    },
    {
     "data": {
      "text/plain": [
       "<Figure size 2000x2000 with 0 Axes>"
      ]
     },
     "metadata": {},
     "output_type": "display_data"
    },
    {
     "data": {
      "text/plain": [
       "<Figure size 2000x2000 with 0 Axes>"
      ]
     },
     "metadata": {},
     "output_type": "display_data"
    },
    {
     "data": {
      "text/plain": [
       "<Figure size 2000x2000 with 0 Axes>"
      ]
     },
     "metadata": {},
     "output_type": "display_data"
    },
    {
     "data": {
      "text/plain": [
       "<Figure size 2000x2000 with 0 Axes>"
      ]
     },
     "metadata": {},
     "output_type": "display_data"
    },
    {
     "data": {
      "text/plain": [
       "<Figure size 2000x2000 with 0 Axes>"
      ]
     },
     "metadata": {},
     "output_type": "display_data"
    },
    {
     "data": {
      "text/plain": [
       "<Figure size 2000x2000 with 0 Axes>"
      ]
     },
     "metadata": {},
     "output_type": "display_data"
    },
    {
     "data": {
      "text/plain": [
       "<Figure size 2000x2000 with 0 Axes>"
      ]
     },
     "metadata": {},
     "output_type": "display_data"
    },
    {
     "data": {
      "text/plain": [
       "<Figure size 2000x2000 with 0 Axes>"
      ]
     },
     "metadata": {},
     "output_type": "display_data"
    },
    {
     "data": {
      "text/plain": [
       "<Figure size 2000x2000 with 0 Axes>"
      ]
     },
     "metadata": {},
     "output_type": "display_data"
    },
    {
     "data": {
      "text/plain": [
       "<Figure size 2000x2000 with 0 Axes>"
      ]
     },
     "metadata": {},
     "output_type": "display_data"
    },
    {
     "data": {
      "text/plain": [
       "<Figure size 2000x2000 with 0 Axes>"
      ]
     },
     "metadata": {},
     "output_type": "display_data"
    },
    {
     "data": {
      "text/plain": [
       "<Figure size 2000x2000 with 0 Axes>"
      ]
     },
     "metadata": {},
     "output_type": "display_data"
    },
    {
     "data": {
      "text/plain": [
       "<Figure size 2000x2000 with 0 Axes>"
      ]
     },
     "metadata": {},
     "output_type": "display_data"
    },
    {
     "data": {
      "text/plain": [
       "<Figure size 2000x2000 with 0 Axes>"
      ]
     },
     "metadata": {},
     "output_type": "display_data"
    },
    {
     "data": {
      "text/plain": [
       "<Figure size 2000x2000 with 0 Axes>"
      ]
     },
     "metadata": {},
     "output_type": "display_data"
    },
    {
     "data": {
      "text/plain": [
       "<Figure size 2000x2000 with 0 Axes>"
      ]
     },
     "metadata": {},
     "output_type": "display_data"
    },
    {
     "data": {
      "text/plain": [
       "<Figure size 2000x2000 with 0 Axes>"
      ]
     },
     "metadata": {},
     "output_type": "display_data"
    },
    {
     "data": {
      "text/plain": [
       "<Figure size 2000x2000 with 0 Axes>"
      ]
     },
     "metadata": {},
     "output_type": "display_data"
    },
    {
     "data": {
      "text/plain": [
       "<Figure size 2000x2000 with 0 Axes>"
      ]
     },
     "metadata": {},
     "output_type": "display_data"
    },
    {
     "data": {
      "text/plain": [
       "<Figure size 2000x2000 with 0 Axes>"
      ]
     },
     "metadata": {},
     "output_type": "display_data"
    },
    {
     "data": {
      "text/plain": [
       "<Figure size 2000x2000 with 0 Axes>"
      ]
     },
     "metadata": {},
     "output_type": "display_data"
    },
    {
     "data": {
      "text/plain": [
       "<Figure size 2000x2000 with 0 Axes>"
      ]
     },
     "metadata": {},
     "output_type": "display_data"
    },
    {
     "data": {
      "text/plain": [
       "<Figure size 2000x2000 with 0 Axes>"
      ]
     },
     "metadata": {},
     "output_type": "display_data"
    },
    {
     "data": {
      "text/plain": [
       "<Figure size 2000x2000 with 0 Axes>"
      ]
     },
     "metadata": {},
     "output_type": "display_data"
    },
    {
     "data": {
      "text/plain": [
       "<Figure size 2000x2000 with 0 Axes>"
      ]
     },
     "metadata": {},
     "output_type": "display_data"
    },
    {
     "data": {
      "text/plain": [
       "<Figure size 2000x2000 with 0 Axes>"
      ]
     },
     "metadata": {},
     "output_type": "display_data"
    },
    {
     "data": {
      "text/plain": [
       "<Figure size 2000x2000 with 0 Axes>"
      ]
     },
     "metadata": {},
     "output_type": "display_data"
    },
    {
     "data": {
      "text/plain": [
       "<Figure size 2000x2000 with 0 Axes>"
      ]
     },
     "metadata": {},
     "output_type": "display_data"
    },
    {
     "data": {
      "text/plain": [
       "<Figure size 2000x2000 with 0 Axes>"
      ]
     },
     "metadata": {},
     "output_type": "display_data"
    },
    {
     "data": {
      "text/plain": [
       "<Figure size 2000x2000 with 0 Axes>"
      ]
     },
     "metadata": {},
     "output_type": "display_data"
    },
    {
     "data": {
      "text/plain": [
       "<Figure size 2000x2000 with 0 Axes>"
      ]
     },
     "metadata": {},
     "output_type": "display_data"
    },
    {
     "data": {
      "text/plain": [
       "<Figure size 2000x2000 with 0 Axes>"
      ]
     },
     "metadata": {},
     "output_type": "display_data"
    },
    {
     "data": {
      "text/plain": [
       "<Figure size 2000x2000 with 0 Axes>"
      ]
     },
     "metadata": {},
     "output_type": "display_data"
    },
    {
     "data": {
      "text/plain": [
       "<Figure size 2000x2000 with 0 Axes>"
      ]
     },
     "metadata": {},
     "output_type": "display_data"
    },
    {
     "data": {
      "text/plain": [
       "<Figure size 2000x2000 with 0 Axes>"
      ]
     },
     "metadata": {},
     "output_type": "display_data"
    },
    {
     "data": {
      "text/plain": [
       "<Figure size 2000x2000 with 0 Axes>"
      ]
     },
     "metadata": {},
     "output_type": "display_data"
    },
    {
     "data": {
      "text/plain": [
       "<Figure size 2000x2000 with 0 Axes>"
      ]
     },
     "metadata": {},
     "output_type": "display_data"
    },
    {
     "data": {
      "text/plain": [
       "<Figure size 2000x2000 with 0 Axes>"
      ]
     },
     "metadata": {},
     "output_type": "display_data"
    },
    {
     "data": {
      "text/plain": [
       "<Figure size 2000x2000 with 0 Axes>"
      ]
     },
     "metadata": {},
     "output_type": "display_data"
    },
    {
     "data": {
      "text/plain": [
       "<Figure size 2000x2000 with 0 Axes>"
      ]
     },
     "metadata": {},
     "output_type": "display_data"
    },
    {
     "data": {
      "text/plain": [
       "<Figure size 2000x2000 with 0 Axes>"
      ]
     },
     "metadata": {},
     "output_type": "display_data"
    },
    {
     "data": {
      "text/plain": [
       "<Figure size 2000x2000 with 0 Axes>"
      ]
     },
     "metadata": {},
     "output_type": "display_data"
    },
    {
     "data": {
      "text/plain": [
       "<Figure size 2000x2000 with 0 Axes>"
      ]
     },
     "metadata": {},
     "output_type": "display_data"
    },
    {
     "data": {
      "text/plain": [
       "<Figure size 2000x2000 with 0 Axes>"
      ]
     },
     "metadata": {},
     "output_type": "display_data"
    },
    {
     "data": {
      "text/plain": [
       "<Figure size 2000x2000 with 0 Axes>"
      ]
     },
     "metadata": {},
     "output_type": "display_data"
    },
    {
     "data": {
      "text/plain": [
       "<Figure size 2000x2000 with 0 Axes>"
      ]
     },
     "metadata": {},
     "output_type": "display_data"
    },
    {
     "data": {
      "text/plain": [
       "<Figure size 2000x2000 with 0 Axes>"
      ]
     },
     "metadata": {},
     "output_type": "display_data"
    },
    {
     "data": {
      "text/plain": [
       "<Figure size 2000x2000 with 0 Axes>"
      ]
     },
     "metadata": {},
     "output_type": "display_data"
    },
    {
     "data": {
      "text/plain": [
       "<Figure size 2000x2000 with 0 Axes>"
      ]
     },
     "metadata": {},
     "output_type": "display_data"
    },
    {
     "data": {
      "text/plain": [
       "<Figure size 2000x2000 with 0 Axes>"
      ]
     },
     "metadata": {},
     "output_type": "display_data"
    },
    {
     "data": {
      "text/plain": [
       "<Figure size 2000x2000 with 0 Axes>"
      ]
     },
     "metadata": {},
     "output_type": "display_data"
    },
    {
     "data": {
      "text/plain": [
       "<Figure size 2000x2000 with 0 Axes>"
      ]
     },
     "metadata": {},
     "output_type": "display_data"
    },
    {
     "data": {
      "text/plain": [
       "<Figure size 2000x2000 with 0 Axes>"
      ]
     },
     "metadata": {},
     "output_type": "display_data"
    },
    {
     "data": {
      "text/plain": [
       "<Figure size 2000x2000 with 0 Axes>"
      ]
     },
     "metadata": {},
     "output_type": "display_data"
    },
    {
     "data": {
      "text/plain": [
       "<Figure size 2000x2000 with 0 Axes>"
      ]
     },
     "metadata": {},
     "output_type": "display_data"
    },
    {
     "data": {
      "text/plain": [
       "<Figure size 2000x2000 with 0 Axes>"
      ]
     },
     "metadata": {},
     "output_type": "display_data"
    },
    {
     "data": {
      "text/plain": [
       "<Figure size 2000x2000 with 0 Axes>"
      ]
     },
     "metadata": {},
     "output_type": "display_data"
    },
    {
     "data": {
      "text/plain": [
       "<Figure size 2000x2000 with 0 Axes>"
      ]
     },
     "metadata": {},
     "output_type": "display_data"
    },
    {
     "data": {
      "text/plain": [
       "<Figure size 2000x2000 with 0 Axes>"
      ]
     },
     "metadata": {},
     "output_type": "display_data"
    },
    {
     "data": {
      "text/plain": [
       "<Figure size 2000x2000 with 0 Axes>"
      ]
     },
     "metadata": {},
     "output_type": "display_data"
    },
    {
     "data": {
      "text/plain": [
       "<Figure size 2000x2000 with 0 Axes>"
      ]
     },
     "metadata": {},
     "output_type": "display_data"
    },
    {
     "data": {
      "text/plain": [
       "<Figure size 2000x2000 with 0 Axes>"
      ]
     },
     "metadata": {},
     "output_type": "display_data"
    },
    {
     "data": {
      "text/plain": [
       "<Figure size 2000x2000 with 0 Axes>"
      ]
     },
     "metadata": {},
     "output_type": "display_data"
    },
    {
     "data": {
      "text/plain": [
       "<Figure size 2000x2000 with 0 Axes>"
      ]
     },
     "metadata": {},
     "output_type": "display_data"
    },
    {
     "data": {
      "text/plain": [
       "<Figure size 2000x2000 with 0 Axes>"
      ]
     },
     "metadata": {},
     "output_type": "display_data"
    },
    {
     "data": {
      "text/plain": [
       "<Figure size 2000x2000 with 0 Axes>"
      ]
     },
     "metadata": {},
     "output_type": "display_data"
    },
    {
     "data": {
      "text/plain": [
       "<Figure size 2000x2000 with 0 Axes>"
      ]
     },
     "metadata": {},
     "output_type": "display_data"
    },
    {
     "data": {
      "text/plain": [
       "<Figure size 2000x2000 with 0 Axes>"
      ]
     },
     "metadata": {},
     "output_type": "display_data"
    },
    {
     "data": {
      "text/plain": [
       "<Figure size 2000x2000 with 0 Axes>"
      ]
     },
     "metadata": {},
     "output_type": "display_data"
    },
    {
     "data": {
      "text/plain": [
       "<Figure size 2000x2000 with 0 Axes>"
      ]
     },
     "metadata": {},
     "output_type": "display_data"
    },
    {
     "data": {
      "text/plain": [
       "<Figure size 2000x2000 with 0 Axes>"
      ]
     },
     "metadata": {},
     "output_type": "display_data"
    },
    {
     "data": {
      "text/plain": [
       "<Figure size 2000x2000 with 0 Axes>"
      ]
     },
     "metadata": {},
     "output_type": "display_data"
    },
    {
     "data": {
      "text/plain": [
       "<Figure size 2000x2000 with 0 Axes>"
      ]
     },
     "metadata": {},
     "output_type": "display_data"
    },
    {
     "data": {
      "text/plain": [
       "<Figure size 2000x2000 with 0 Axes>"
      ]
     },
     "metadata": {},
     "output_type": "display_data"
    },
    {
     "data": {
      "text/plain": [
       "<Figure size 2000x2000 with 0 Axes>"
      ]
     },
     "metadata": {},
     "output_type": "display_data"
    },
    {
     "data": {
      "text/plain": [
       "<Figure size 2000x2000 with 0 Axes>"
      ]
     },
     "metadata": {},
     "output_type": "display_data"
    },
    {
     "data": {
      "text/plain": [
       "<Figure size 2000x2000 with 0 Axes>"
      ]
     },
     "metadata": {},
     "output_type": "display_data"
    },
    {
     "data": {
      "text/plain": [
       "<Figure size 2000x2000 with 0 Axes>"
      ]
     },
     "metadata": {},
     "output_type": "display_data"
    },
    {
     "data": {
      "text/plain": [
       "<Figure size 2000x2000 with 0 Axes>"
      ]
     },
     "metadata": {},
     "output_type": "display_data"
    },
    {
     "data": {
      "text/plain": [
       "<Figure size 2000x2000 with 0 Axes>"
      ]
     },
     "metadata": {},
     "output_type": "display_data"
    },
    {
     "data": {
      "text/plain": [
       "<Figure size 2000x2000 with 0 Axes>"
      ]
     },
     "metadata": {},
     "output_type": "display_data"
    },
    {
     "data": {
      "text/plain": [
       "<Figure size 2000x2000 with 0 Axes>"
      ]
     },
     "metadata": {},
     "output_type": "display_data"
    },
    {
     "data": {
      "text/plain": [
       "<Figure size 2000x2000 with 0 Axes>"
      ]
     },
     "metadata": {},
     "output_type": "display_data"
    },
    {
     "data": {
      "text/plain": [
       "<Figure size 2000x2000 with 0 Axes>"
      ]
     },
     "metadata": {},
     "output_type": "display_data"
    },
    {
     "data": {
      "text/plain": [
       "<Figure size 2000x2000 with 0 Axes>"
      ]
     },
     "metadata": {},
     "output_type": "display_data"
    },
    {
     "data": {
      "text/plain": [
       "<Figure size 2000x2000 with 0 Axes>"
      ]
     },
     "metadata": {},
     "output_type": "display_data"
    },
    {
     "data": {
      "text/plain": [
       "<Figure size 2000x2000 with 0 Axes>"
      ]
     },
     "metadata": {},
     "output_type": "display_data"
    },
    {
     "data": {
      "text/plain": [
       "<Figure size 2000x2000 with 0 Axes>"
      ]
     },
     "metadata": {},
     "output_type": "display_data"
    },
    {
     "data": {
      "text/plain": [
       "<Figure size 2000x2000 with 0 Axes>"
      ]
     },
     "metadata": {},
     "output_type": "display_data"
    },
    {
     "data": {
      "text/plain": [
       "<Figure size 2000x2000 with 0 Axes>"
      ]
     },
     "metadata": {},
     "output_type": "display_data"
    },
    {
     "data": {
      "text/plain": [
       "<Figure size 2000x2000 with 0 Axes>"
      ]
     },
     "metadata": {},
     "output_type": "display_data"
    },
    {
     "data": {
      "text/plain": [
       "<Figure size 2000x2000 with 0 Axes>"
      ]
     },
     "metadata": {},
     "output_type": "display_data"
    },
    {
     "data": {
      "text/plain": [
       "<Figure size 2000x2000 with 0 Axes>"
      ]
     },
     "metadata": {},
     "output_type": "display_data"
    },
    {
     "data": {
      "text/plain": [
       "<Figure size 2000x2000 with 0 Axes>"
      ]
     },
     "metadata": {},
     "output_type": "display_data"
    },
    {
     "data": {
      "text/plain": [
       "<Figure size 2000x2000 with 0 Axes>"
      ]
     },
     "metadata": {},
     "output_type": "display_data"
    },
    {
     "data": {
      "text/plain": [
       "<Figure size 2000x2000 with 0 Axes>"
      ]
     },
     "metadata": {},
     "output_type": "display_data"
    },
    {
     "data": {
      "text/plain": [
       "<Figure size 2000x2000 with 0 Axes>"
      ]
     },
     "metadata": {},
     "output_type": "display_data"
    },
    {
     "data": {
      "text/plain": [
       "<Figure size 2000x2000 with 0 Axes>"
      ]
     },
     "metadata": {},
     "output_type": "display_data"
    },
    {
     "data": {
      "text/plain": [
       "<Figure size 2000x2000 with 0 Axes>"
      ]
     },
     "metadata": {},
     "output_type": "display_data"
    },
    {
     "data": {
      "text/plain": [
       "<Figure size 2000x2000 with 0 Axes>"
      ]
     },
     "metadata": {},
     "output_type": "display_data"
    },
    {
     "data": {
      "text/plain": [
       "<Figure size 2000x2000 with 0 Axes>"
      ]
     },
     "metadata": {},
     "output_type": "display_data"
    },
    {
     "data": {
      "text/plain": [
       "<Figure size 2000x2000 with 0 Axes>"
      ]
     },
     "metadata": {},
     "output_type": "display_data"
    },
    {
     "data": {
      "text/plain": [
       "<Figure size 2000x2000 with 0 Axes>"
      ]
     },
     "metadata": {},
     "output_type": "display_data"
    },
    {
     "data": {
      "text/plain": [
       "<Figure size 2000x2000 with 0 Axes>"
      ]
     },
     "metadata": {},
     "output_type": "display_data"
    },
    {
     "data": {
      "text/plain": [
       "<Figure size 2000x2000 with 0 Axes>"
      ]
     },
     "metadata": {},
     "output_type": "display_data"
    },
    {
     "data": {
      "text/plain": [
       "<Figure size 2000x2000 with 0 Axes>"
      ]
     },
     "metadata": {},
     "output_type": "display_data"
    },
    {
     "data": {
      "text/plain": [
       "<Figure size 2000x2000 with 0 Axes>"
      ]
     },
     "metadata": {},
     "output_type": "display_data"
    },
    {
     "data": {
      "text/plain": [
       "<Figure size 2000x2000 with 0 Axes>"
      ]
     },
     "metadata": {},
     "output_type": "display_data"
    },
    {
     "data": {
      "text/plain": [
       "<Figure size 2000x2000 with 0 Axes>"
      ]
     },
     "metadata": {},
     "output_type": "display_data"
    },
    {
     "data": {
      "text/plain": [
       "<Figure size 2000x2000 with 0 Axes>"
      ]
     },
     "metadata": {},
     "output_type": "display_data"
    },
    {
     "data": {
      "text/plain": [
       "<Figure size 2000x2000 with 0 Axes>"
      ]
     },
     "metadata": {},
     "output_type": "display_data"
    },
    {
     "data": {
      "text/plain": [
       "<Figure size 2000x2000 with 0 Axes>"
      ]
     },
     "metadata": {},
     "output_type": "display_data"
    },
    {
     "data": {
      "text/plain": [
       "<Figure size 2000x2000 with 0 Axes>"
      ]
     },
     "metadata": {},
     "output_type": "display_data"
    },
    {
     "data": {
      "text/plain": [
       "<Figure size 2000x2000 with 0 Axes>"
      ]
     },
     "metadata": {},
     "output_type": "display_data"
    },
    {
     "data": {
      "text/plain": [
       "<Figure size 2000x2000 with 0 Axes>"
      ]
     },
     "metadata": {},
     "output_type": "display_data"
    },
    {
     "data": {
      "text/plain": [
       "<Figure size 2000x2000 with 0 Axes>"
      ]
     },
     "metadata": {},
     "output_type": "display_data"
    },
    {
     "data": {
      "text/plain": [
       "<Figure size 2000x2000 with 0 Axes>"
      ]
     },
     "metadata": {},
     "output_type": "display_data"
    },
    {
     "data": {
      "text/plain": [
       "<Figure size 2000x2000 with 0 Axes>"
      ]
     },
     "metadata": {},
     "output_type": "display_data"
    },
    {
     "data": {
      "text/plain": [
       "<Figure size 2000x2000 with 0 Axes>"
      ]
     },
     "metadata": {},
     "output_type": "display_data"
    },
    {
     "data": {
      "text/plain": [
       "<Figure size 2000x2000 with 0 Axes>"
      ]
     },
     "metadata": {},
     "output_type": "display_data"
    },
    {
     "data": {
      "text/plain": [
       "<Figure size 2000x2000 with 0 Axes>"
      ]
     },
     "metadata": {},
     "output_type": "display_data"
    },
    {
     "data": {
      "text/plain": [
       "<Figure size 2000x2000 with 0 Axes>"
      ]
     },
     "metadata": {},
     "output_type": "display_data"
    },
    {
     "data": {
      "text/plain": [
       "<Figure size 2000x2000 with 0 Axes>"
      ]
     },
     "metadata": {},
     "output_type": "display_data"
    },
    {
     "data": {
      "text/plain": [
       "<Figure size 2000x2000 with 0 Axes>"
      ]
     },
     "metadata": {},
     "output_type": "display_data"
    },
    {
     "data": {
      "text/plain": [
       "<Figure size 2000x2000 with 0 Axes>"
      ]
     },
     "metadata": {},
     "output_type": "display_data"
    },
    {
     "data": {
      "text/plain": [
       "<Figure size 2000x2000 with 0 Axes>"
      ]
     },
     "metadata": {},
     "output_type": "display_data"
    },
    {
     "data": {
      "text/plain": [
       "<Figure size 2000x2000 with 0 Axes>"
      ]
     },
     "metadata": {},
     "output_type": "display_data"
    },
    {
     "data": {
      "text/plain": [
       "<Figure size 2000x2000 with 0 Axes>"
      ]
     },
     "metadata": {},
     "output_type": "display_data"
    },
    {
     "data": {
      "text/plain": [
       "<Figure size 2000x2000 with 0 Axes>"
      ]
     },
     "metadata": {},
     "output_type": "display_data"
    },
    {
     "data": {
      "text/plain": [
       "<Figure size 2000x2000 with 0 Axes>"
      ]
     },
     "metadata": {},
     "output_type": "display_data"
    },
    {
     "data": {
      "text/plain": [
       "<Figure size 2000x2000 with 0 Axes>"
      ]
     },
     "metadata": {},
     "output_type": "display_data"
    },
    {
     "data": {
      "text/plain": [
       "<Figure size 2000x2000 with 0 Axes>"
      ]
     },
     "metadata": {},
     "output_type": "display_data"
    },
    {
     "data": {
      "text/plain": [
       "<Figure size 2000x2000 with 0 Axes>"
      ]
     },
     "metadata": {},
     "output_type": "display_data"
    },
    {
     "data": {
      "text/plain": [
       "<Figure size 2000x2000 with 0 Axes>"
      ]
     },
     "metadata": {},
     "output_type": "display_data"
    },
    {
     "data": {
      "text/plain": [
       "<Figure size 2000x2000 with 0 Axes>"
      ]
     },
     "metadata": {},
     "output_type": "display_data"
    },
    {
     "data": {
      "text/plain": [
       "<Figure size 2000x2000 with 0 Axes>"
      ]
     },
     "metadata": {},
     "output_type": "display_data"
    },
    {
     "data": {
      "text/plain": [
       "<Figure size 2000x2000 with 0 Axes>"
      ]
     },
     "metadata": {},
     "output_type": "display_data"
    },
    {
     "data": {
      "text/plain": [
       "<Figure size 2000x2000 with 0 Axes>"
      ]
     },
     "metadata": {},
     "output_type": "display_data"
    },
    {
     "data": {
      "text/plain": [
       "<Figure size 2000x2000 with 0 Axes>"
      ]
     },
     "metadata": {},
     "output_type": "display_data"
    },
    {
     "data": {
      "text/plain": [
       "<Figure size 2000x2000 with 0 Axes>"
      ]
     },
     "metadata": {},
     "output_type": "display_data"
    },
    {
     "data": {
      "text/plain": [
       "<Figure size 2000x2000 with 0 Axes>"
      ]
     },
     "metadata": {},
     "output_type": "display_data"
    },
    {
     "data": {
      "text/plain": [
       "<Figure size 2000x2000 with 0 Axes>"
      ]
     },
     "metadata": {},
     "output_type": "display_data"
    },
    {
     "data": {
      "text/plain": [
       "<Figure size 2000x2000 with 0 Axes>"
      ]
     },
     "metadata": {},
     "output_type": "display_data"
    },
    {
     "data": {
      "text/plain": [
       "<Figure size 2000x2000 with 0 Axes>"
      ]
     },
     "metadata": {},
     "output_type": "display_data"
    },
    {
     "data": {
      "text/plain": [
       "<Figure size 2000x2000 with 0 Axes>"
      ]
     },
     "metadata": {},
     "output_type": "display_data"
    },
    {
     "data": {
      "text/plain": [
       "<Figure size 2000x2000 with 0 Axes>"
      ]
     },
     "metadata": {},
     "output_type": "display_data"
    },
    {
     "data": {
      "text/plain": [
       "<Figure size 2000x2000 with 0 Axes>"
      ]
     },
     "metadata": {},
     "output_type": "display_data"
    },
    {
     "data": {
      "text/plain": [
       "<Figure size 2000x2000 with 0 Axes>"
      ]
     },
     "metadata": {},
     "output_type": "display_data"
    },
    {
     "data": {
      "text/plain": [
       "<Figure size 2000x2000 with 0 Axes>"
      ]
     },
     "metadata": {},
     "output_type": "display_data"
    },
    {
     "data": {
      "text/plain": [
       "<Figure size 2000x2000 with 0 Axes>"
      ]
     },
     "metadata": {},
     "output_type": "display_data"
    },
    {
     "data": {
      "text/plain": [
       "<Figure size 2000x2000 with 0 Axes>"
      ]
     },
     "metadata": {},
     "output_type": "display_data"
    },
    {
     "data": {
      "text/plain": [
       "<Figure size 2000x2000 with 0 Axes>"
      ]
     },
     "metadata": {},
     "output_type": "display_data"
    },
    {
     "data": {
      "text/plain": [
       "<Figure size 2000x2000 with 0 Axes>"
      ]
     },
     "metadata": {},
     "output_type": "display_data"
    },
    {
     "data": {
      "text/plain": [
       "<Figure size 2000x2000 with 0 Axes>"
      ]
     },
     "metadata": {},
     "output_type": "display_data"
    },
    {
     "data": {
      "text/plain": [
       "<Figure size 2000x2000 with 0 Axes>"
      ]
     },
     "metadata": {},
     "output_type": "display_data"
    },
    {
     "data": {
      "text/plain": [
       "<Figure size 2000x2000 with 0 Axes>"
      ]
     },
     "metadata": {},
     "output_type": "display_data"
    },
    {
     "data": {
      "text/plain": [
       "<Figure size 2000x2000 with 0 Axes>"
      ]
     },
     "metadata": {},
     "output_type": "display_data"
    },
    {
     "data": {
      "text/plain": [
       "<Figure size 2000x2000 with 0 Axes>"
      ]
     },
     "metadata": {},
     "output_type": "display_data"
    },
    {
     "data": {
      "text/plain": [
       "<Figure size 2000x2000 with 0 Axes>"
      ]
     },
     "metadata": {},
     "output_type": "display_data"
    },
    {
     "data": {
      "text/plain": [
       "<Figure size 2000x2000 with 0 Axes>"
      ]
     },
     "metadata": {},
     "output_type": "display_data"
    },
    {
     "data": {
      "text/plain": [
       "<Figure size 2000x2000 with 0 Axes>"
      ]
     },
     "metadata": {},
     "output_type": "display_data"
    },
    {
     "data": {
      "text/plain": [
       "<Figure size 2000x2000 with 0 Axes>"
      ]
     },
     "metadata": {},
     "output_type": "display_data"
    },
    {
     "data": {
      "text/plain": [
       "<Figure size 2000x2000 with 0 Axes>"
      ]
     },
     "metadata": {},
     "output_type": "display_data"
    },
    {
     "data": {
      "text/plain": [
       "<Figure size 2000x2000 with 0 Axes>"
      ]
     },
     "metadata": {},
     "output_type": "display_data"
    },
    {
     "data": {
      "text/plain": [
       "<Figure size 2000x2000 with 0 Axes>"
      ]
     },
     "metadata": {},
     "output_type": "display_data"
    },
    {
     "data": {
      "text/plain": [
       "<Figure size 2000x2000 with 0 Axes>"
      ]
     },
     "metadata": {},
     "output_type": "display_data"
    },
    {
     "data": {
      "text/plain": [
       "<Figure size 2000x2000 with 0 Axes>"
      ]
     },
     "metadata": {},
     "output_type": "display_data"
    },
    {
     "data": {
      "text/plain": [
       "<Figure size 2000x2000 with 0 Axes>"
      ]
     },
     "metadata": {},
     "output_type": "display_data"
    },
    {
     "data": {
      "text/plain": [
       "<Figure size 2000x2000 with 0 Axes>"
      ]
     },
     "metadata": {},
     "output_type": "display_data"
    },
    {
     "data": {
      "text/plain": [
       "<Figure size 2000x2000 with 0 Axes>"
      ]
     },
     "metadata": {},
     "output_type": "display_data"
    },
    {
     "data": {
      "text/plain": [
       "<Figure size 2000x2000 with 0 Axes>"
      ]
     },
     "metadata": {},
     "output_type": "display_data"
    },
    {
     "data": {
      "text/plain": [
       "<Figure size 2000x2000 with 0 Axes>"
      ]
     },
     "metadata": {},
     "output_type": "display_data"
    },
    {
     "data": {
      "text/plain": [
       "<Figure size 2000x2000 with 0 Axes>"
      ]
     },
     "metadata": {},
     "output_type": "display_data"
    },
    {
     "data": {
      "text/plain": [
       "<Figure size 2000x2000 with 0 Axes>"
      ]
     },
     "metadata": {},
     "output_type": "display_data"
    },
    {
     "data": {
      "text/plain": [
       "<Figure size 2000x2000 with 0 Axes>"
      ]
     },
     "metadata": {},
     "output_type": "display_data"
    },
    {
     "data": {
      "text/plain": [
       "<Figure size 2000x2000 with 0 Axes>"
      ]
     },
     "metadata": {},
     "output_type": "display_data"
    },
    {
     "data": {
      "text/plain": [
       "<Figure size 2000x2000 with 0 Axes>"
      ]
     },
     "metadata": {},
     "output_type": "display_data"
    },
    {
     "data": {
      "text/plain": [
       "<Figure size 2000x2000 with 0 Axes>"
      ]
     },
     "metadata": {},
     "output_type": "display_data"
    },
    {
     "data": {
      "text/plain": [
       "<Figure size 2000x2000 with 0 Axes>"
      ]
     },
     "metadata": {},
     "output_type": "display_data"
    },
    {
     "data": {
      "text/plain": [
       "<Figure size 2000x2000 with 0 Axes>"
      ]
     },
     "metadata": {},
     "output_type": "display_data"
    },
    {
     "data": {
      "text/plain": [
       "<Figure size 2000x2000 with 0 Axes>"
      ]
     },
     "metadata": {},
     "output_type": "display_data"
    },
    {
     "data": {
      "text/plain": [
       "<Figure size 2000x2000 with 0 Axes>"
      ]
     },
     "metadata": {},
     "output_type": "display_data"
    },
    {
     "data": {
      "text/plain": [
       "<Figure size 2000x2000 with 0 Axes>"
      ]
     },
     "metadata": {},
     "output_type": "display_data"
    },
    {
     "data": {
      "text/plain": [
       "<Figure size 2000x2000 with 0 Axes>"
      ]
     },
     "metadata": {},
     "output_type": "display_data"
    },
    {
     "data": {
      "text/plain": [
       "<Figure size 2000x2000 with 0 Axes>"
      ]
     },
     "metadata": {},
     "output_type": "display_data"
    },
    {
     "data": {
      "text/plain": [
       "<Figure size 2000x2000 with 0 Axes>"
      ]
     },
     "metadata": {},
     "output_type": "display_data"
    },
    {
     "data": {
      "text/plain": [
       "<Figure size 2000x2000 with 0 Axes>"
      ]
     },
     "metadata": {},
     "output_type": "display_data"
    },
    {
     "data": {
      "text/plain": [
       "<Figure size 2000x2000 with 0 Axes>"
      ]
     },
     "metadata": {},
     "output_type": "display_data"
    },
    {
     "data": {
      "text/plain": [
       "<Figure size 2000x2000 with 0 Axes>"
      ]
     },
     "metadata": {},
     "output_type": "display_data"
    },
    {
     "data": {
      "text/plain": [
       "<Figure size 2000x2000 with 0 Axes>"
      ]
     },
     "metadata": {},
     "output_type": "display_data"
    },
    {
     "data": {
      "text/plain": [
       "<Figure size 2000x2000 with 0 Axes>"
      ]
     },
     "metadata": {},
     "output_type": "display_data"
    },
    {
     "data": {
      "text/plain": [
       "<Figure size 2000x2000 with 0 Axes>"
      ]
     },
     "metadata": {},
     "output_type": "display_data"
    },
    {
     "data": {
      "text/plain": [
       "<Figure size 2000x2000 with 0 Axes>"
      ]
     },
     "metadata": {},
     "output_type": "display_data"
    },
    {
     "data": {
      "text/plain": [
       "<Figure size 2000x2000 with 0 Axes>"
      ]
     },
     "metadata": {},
     "output_type": "display_data"
    },
    {
     "data": {
      "text/plain": [
       "<Figure size 2000x2000 with 0 Axes>"
      ]
     },
     "metadata": {},
     "output_type": "display_data"
    },
    {
     "data": {
      "text/plain": [
       "<Figure size 2000x2000 with 0 Axes>"
      ]
     },
     "metadata": {},
     "output_type": "display_data"
    },
    {
     "data": {
      "text/plain": [
       "<Figure size 2000x2000 with 0 Axes>"
      ]
     },
     "metadata": {},
     "output_type": "display_data"
    },
    {
     "data": {
      "text/plain": [
       "<Figure size 2000x2000 with 0 Axes>"
      ]
     },
     "metadata": {},
     "output_type": "display_data"
    },
    {
     "data": {
      "text/plain": [
       "<Figure size 2000x2000 with 0 Axes>"
      ]
     },
     "metadata": {},
     "output_type": "display_data"
    },
    {
     "data": {
      "text/plain": [
       "<Figure size 2000x2000 with 0 Axes>"
      ]
     },
     "metadata": {},
     "output_type": "display_data"
    },
    {
     "data": {
      "text/plain": [
       "<Figure size 2000x2000 with 0 Axes>"
      ]
     },
     "metadata": {},
     "output_type": "display_data"
    },
    {
     "data": {
      "text/plain": [
       "<Figure size 2000x2000 with 0 Axes>"
      ]
     },
     "metadata": {},
     "output_type": "display_data"
    },
    {
     "data": {
      "text/plain": [
       "<Figure size 2000x2000 with 0 Axes>"
      ]
     },
     "metadata": {},
     "output_type": "display_data"
    },
    {
     "data": {
      "text/plain": [
       "<Figure size 2000x2000 with 0 Axes>"
      ]
     },
     "metadata": {},
     "output_type": "display_data"
    },
    {
     "data": {
      "text/plain": [
       "<Figure size 2000x2000 with 0 Axes>"
      ]
     },
     "metadata": {},
     "output_type": "display_data"
    },
    {
     "data": {
      "text/plain": [
       "<Figure size 2000x2000 with 0 Axes>"
      ]
     },
     "metadata": {},
     "output_type": "display_data"
    },
    {
     "data": {
      "text/plain": [
       "<Figure size 2000x2000 with 0 Axes>"
      ]
     },
     "metadata": {},
     "output_type": "display_data"
    },
    {
     "data": {
      "text/plain": [
       "<Figure size 2000x2000 with 0 Axes>"
      ]
     },
     "metadata": {},
     "output_type": "display_data"
    },
    {
     "data": {
      "text/plain": [
       "<Figure size 2000x2000 with 0 Axes>"
      ]
     },
     "metadata": {},
     "output_type": "display_data"
    },
    {
     "data": {
      "text/plain": [
       "<Figure size 2000x2000 with 0 Axes>"
      ]
     },
     "metadata": {},
     "output_type": "display_data"
    },
    {
     "data": {
      "text/plain": [
       "<Figure size 2000x2000 with 0 Axes>"
      ]
     },
     "metadata": {},
     "output_type": "display_data"
    },
    {
     "data": {
      "text/plain": [
       "<Figure size 2000x2000 with 0 Axes>"
      ]
     },
     "metadata": {},
     "output_type": "display_data"
    },
    {
     "data": {
      "text/plain": [
       "<Figure size 2000x2000 with 0 Axes>"
      ]
     },
     "metadata": {},
     "output_type": "display_data"
    },
    {
     "data": {
      "text/plain": [
       "<Figure size 2000x2000 with 0 Axes>"
      ]
     },
     "metadata": {},
     "output_type": "display_data"
    },
    {
     "data": {
      "text/plain": [
       "<Figure size 2000x2000 with 0 Axes>"
      ]
     },
     "metadata": {},
     "output_type": "display_data"
    },
    {
     "data": {
      "text/plain": [
       "<Figure size 2000x2000 with 0 Axes>"
      ]
     },
     "metadata": {},
     "output_type": "display_data"
    },
    {
     "data": {
      "text/plain": [
       "<Figure size 2000x2000 with 0 Axes>"
      ]
     },
     "metadata": {},
     "output_type": "display_data"
    },
    {
     "data": {
      "text/plain": [
       "<Figure size 2000x2000 with 0 Axes>"
      ]
     },
     "metadata": {},
     "output_type": "display_data"
    },
    {
     "data": {
      "text/plain": [
       "<Figure size 2000x2000 with 0 Axes>"
      ]
     },
     "metadata": {},
     "output_type": "display_data"
    },
    {
     "data": {
      "text/plain": [
       "<Figure size 2000x2000 with 0 Axes>"
      ]
     },
     "metadata": {},
     "output_type": "display_data"
    },
    {
     "data": {
      "text/plain": [
       "<Figure size 2000x2000 with 0 Axes>"
      ]
     },
     "metadata": {},
     "output_type": "display_data"
    },
    {
     "data": {
      "text/plain": [
       "<Figure size 2000x2000 with 0 Axes>"
      ]
     },
     "metadata": {},
     "output_type": "display_data"
    },
    {
     "data": {
      "text/plain": [
       "<Figure size 2000x2000 with 0 Axes>"
      ]
     },
     "metadata": {},
     "output_type": "display_data"
    },
    {
     "data": {
      "text/plain": [
       "<Figure size 2000x2000 with 0 Axes>"
      ]
     },
     "metadata": {},
     "output_type": "display_data"
    },
    {
     "data": {
      "text/plain": [
       "<Figure size 2000x2000 with 0 Axes>"
      ]
     },
     "metadata": {},
     "output_type": "display_data"
    },
    {
     "data": {
      "text/plain": [
       "<Figure size 2000x2000 with 0 Axes>"
      ]
     },
     "metadata": {},
     "output_type": "display_data"
    },
    {
     "data": {
      "text/plain": [
       "<Figure size 2000x2000 with 0 Axes>"
      ]
     },
     "metadata": {},
     "output_type": "display_data"
    },
    {
     "data": {
      "text/plain": [
       "<Figure size 2000x2000 with 0 Axes>"
      ]
     },
     "metadata": {},
     "output_type": "display_data"
    },
    {
     "data": {
      "text/plain": [
       "<Figure size 2000x2000 with 0 Axes>"
      ]
     },
     "metadata": {},
     "output_type": "display_data"
    },
    {
     "data": {
      "text/plain": [
       "<Figure size 2000x2000 with 0 Axes>"
      ]
     },
     "metadata": {},
     "output_type": "display_data"
    },
    {
     "data": {
      "text/plain": [
       "<Figure size 2000x2000 with 0 Axes>"
      ]
     },
     "metadata": {},
     "output_type": "display_data"
    },
    {
     "data": {
      "text/plain": [
       "<Figure size 2000x2000 with 0 Axes>"
      ]
     },
     "metadata": {},
     "output_type": "display_data"
    },
    {
     "data": {
      "text/plain": [
       "<Figure size 2000x2000 with 0 Axes>"
      ]
     },
     "metadata": {},
     "output_type": "display_data"
    },
    {
     "data": {
      "text/plain": [
       "<Figure size 2000x2000 with 0 Axes>"
      ]
     },
     "metadata": {},
     "output_type": "display_data"
    },
    {
     "data": {
      "text/plain": [
       "<Figure size 2000x2000 with 0 Axes>"
      ]
     },
     "metadata": {},
     "output_type": "display_data"
    },
    {
     "data": {
      "text/plain": [
       "<Figure size 2000x2000 with 0 Axes>"
      ]
     },
     "metadata": {},
     "output_type": "display_data"
    },
    {
     "data": {
      "text/plain": [
       "<Figure size 2000x2000 with 0 Axes>"
      ]
     },
     "metadata": {},
     "output_type": "display_data"
    },
    {
     "data": {
      "text/plain": [
       "<Figure size 2000x2000 with 0 Axes>"
      ]
     },
     "metadata": {},
     "output_type": "display_data"
    },
    {
     "data": {
      "text/plain": [
       "<Figure size 2000x2000 with 0 Axes>"
      ]
     },
     "metadata": {},
     "output_type": "display_data"
    },
    {
     "data": {
      "text/plain": [
       "<Figure size 2000x2000 with 0 Axes>"
      ]
     },
     "metadata": {},
     "output_type": "display_data"
    },
    {
     "data": {
      "text/plain": [
       "<Figure size 2000x2000 with 0 Axes>"
      ]
     },
     "metadata": {},
     "output_type": "display_data"
    },
    {
     "data": {
      "text/plain": [
       "<Figure size 2000x2000 with 0 Axes>"
      ]
     },
     "metadata": {},
     "output_type": "display_data"
    },
    {
     "data": {
      "text/plain": [
       "<Figure size 2000x2000 with 0 Axes>"
      ]
     },
     "metadata": {},
     "output_type": "display_data"
    },
    {
     "data": {
      "text/plain": [
       "<Figure size 2000x2000 with 0 Axes>"
      ]
     },
     "metadata": {},
     "output_type": "display_data"
    },
    {
     "data": {
      "text/plain": [
       "<Figure size 2000x2000 with 0 Axes>"
      ]
     },
     "metadata": {},
     "output_type": "display_data"
    },
    {
     "data": {
      "text/plain": [
       "<Figure size 2000x2000 with 0 Axes>"
      ]
     },
     "metadata": {},
     "output_type": "display_data"
    }
   ],
   "source": [
    "types = ['abs', 'percent', 'ratio']\n",
    "type = \"\"\n",
    "corrs_data_dict = []\n",
    "for k, v in p_data.items():\n",
    "    for key in v:\n",
    "        if \"/\" in k[0]:\n",
    "            presc = k[0].split(\"/\")[0]\n",
    "        else:\n",
    "            presc = k[0]\n",
    "        lab = k[1]\n",
    "        before_window = int_s(key[-7:-5])\n",
    "\n",
    "        fig_all, ax_all = plt.subplots(3, figsize=(20, 20))\n",
    "        fig_all.suptitle(f'{lab}<>{presc} (before window = {str(before_window)})')\n",
    "\n",
    "        if not os.path.isdir(os.path.join(plot_dir, f\"{lab}<>{presc}\")):\n",
    "            os.mkdir(os.path.join(plot_dir, f\"{lab}<>{presc}\"))\n",
    "        \n",
    "        dirname=f\"bw_{int_s(key[-7:-5])}\"\n",
    "        if not os.path.isdir(os.path.join(plot_dir, f\"{lab}<>{presc}\", dirname)):\n",
    "            os.mkdir(os.path.join(plot_dir, f\"{lab}<>{presc}\", dirname))\n",
    "        \n",
    "        for i, type1 in enumerate(types):\n",
    "            del type\n",
    "            plot_name = f\"{lab}<>{presc}_{key}_{type1}\"\n",
    "            data_vals = [d[[list(d.columns)[-4], type1]].rename(columns={list(d.columns)[-4] : \"time\"}) for d in v[key] if type(d) != pd.Series]\n",
    "            after_names = [list(d.columns)[3] for d in v[key] if type(d) != pd.Series]\n",
    "            type = type1\n",
    "            if len(data_vals)!=len(after_names):\n",
    "                print(data_vals)\n",
    "                print(after_names)\n",
    "                print()\n",
    "                continue\n",
    "            \n",
    "            d = pd.concat(data_vals)\n",
    "            if d.shape[0]<2:\n",
    "                continue\n",
    "            if d.shape[0]>1:\n",
    "                d1, d2 = remove_outlier(d[type], d[\"time\"])\n",
    "            else:\n",
    "                d1, d2 = d[[type]], d[[\"time\"]]\n",
    "            d = pd.concat([d1, d2], axis=1)\n",
    "\n",
    "            p_corr = pearsonr(d1[type], d2[\"time\"])\n",
    "            s_corr = spearmanr(d1[type], d2[\"time\"])\n",
    "\n",
    "            unit = lab_units_mapping_dict[lab] if lab in lab_units_mapping_dict else \"\"\n",
    "            plot_func(lab, presc, d[[type, \"time\"]].rename(columns={type:\"data\"}), dirname=\"\", labels=(p_corr, s_corr), unit=unit, title=f\"bw{mapping[int_s(key[-7:-5])]} {type_map[type]}\", plot_name=f\"{plot_name}\", ax=ax_all[i])\n",
    "\n",
    "            fig_corrs, ax_corrs = plt.subplots(2, figsize=(20, 20))\n",
    "            fig_corrs.suptitle(f'{lab}<>{presc} {type} corrs') \n",
    "            corrs = []\n",
    "            temp_after_names = after_names.copy()\n",
    "            for i, d in enumerate(data_vals):\n",
    "                if d.shape[0]<2:\n",
    "                    temp_after_names.remove(after_names[i])\n",
    "                    continue\n",
    "                if d.shape[0]>1:\n",
    "                    d1, d2 = remove_outlier(d[type], d[\"time\"])\n",
    "                else:\n",
    "                    d1, d2 = d[[type]], d[[\"time\"]]\n",
    "                p_corr = pearsonr(d1[type], d2[\"time\"])\n",
    "                s_corr = spearmanr(d1[type], d2[\"time\"])\n",
    "                corrs.append((p_corr, s_corr))\n",
    "            after_names = temp_after_names\n",
    "            plot_corrs(corrs, after_names, ax_corrs, title=type, plot_name=plot_name)\n",
    "            # if '/Users/yanpavan/Desktop/Personal/TAU/DrugLab/notebooks-analysis/plots_70-80_M_WHITE_doc_eval/Furosemide (Lasix) 500/100<>INR(PT)' == os.path.join(plot_dir, f\"{lab}<>{presc}\"):\n",
    "            #     fig_corrs.savefig(os.path.join(plot_dir, f\"Furosemide (Lasix) 500<>{presc}\", dirname, f\"Furosemide (Lasix) 500<>{presc}_{key}_{type}_{type}_{stratify_prefix}_corrs.png\"))\n",
    "            # else:\n",
    "            fig_corrs.savefig(os.path.join(plot_dir, f\"{lab}<>{presc}\", dirname, f\"{plot_name}_{type}_{stratify_prefix}_corrs.png\"))\n",
    "            fig_corrs.clf()\n",
    "\n",
    "            for d, a, c in zip(data_vals, after_names, corrs):\n",
    "                if d.shape[0]<2:\n",
    "                    continue\n",
    "                if d.shape[0]>1:\n",
    "                    d1, d2 = remove_outlier(d[type], d[\"time\"])\n",
    "                else:\n",
    "                    d1, d2 = d[[type]], d[[\"time\"]]\n",
    "                d = pd.concat([d1, d2], axis=1)\n",
    "\n",
    "                p_corr = pearsonr(d1[type], d2[\"time\"])\n",
    "                s_corr = spearmanr(d1[type], d2[\"time\"])\n",
    "\n",
    "                plot_func(lab, presc, d[[type, \"time\"]].rename(columns={type:\"data\"}), dirname=dirname, labels=c, unit=unit, title=f\"bw{mapping[int_s(key[-7:-5])]} aw{mapping[int_s(a[-7:-5])]} {type_map[type]}\", plot_name=f\"{plot_name} bw{mapping[int_s(key[-7:-5])]} aw{mapping[int_s(a[-7:-5])]}\")\n",
    "                corrs_data_dict.append({\n",
    "                    \"lab\" : lab,\n",
    "                    \"med\": presc,\n",
    "                    \"bw\": mapping[before_window],\n",
    "                    \"aw\": mapping[int_s(a[-7:-5])],\n",
    "                    \"Type\": type_map[type],\n",
    "                    \"Pearson Correlation\": p_corr[0],\n",
    "                    \"Pearson Correlation (p-value)\": p_corr[1],\n",
    "                    \"Spearmans Correlation \": s_corr[0],\n",
    "                    \"Spearmans Correlation (p-value)\": s_corr[1],\n",
    "                    \"Num of Data Points (n)\": d.shape[0]\n",
    "                })\n",
    "        # if '/Users/yanpavan/Desktop/Personal/TAU/DrugLab/notebooks-analysis/plots_70-80_M_WHITE_doc_eval/Furosemide (Lasix) 500/100<>INR(PT)' == os.path.join(plot_dir, f\"{lab}<>{presc}\"):\n",
    "        #     fig_all.savefig(os.path.join(plot_dir, f\"Furosemide (Lasix) 500<>{presc}\", dirname, f\"Furosemide (Lasix) 500<>{presc}_{key}_{type}_{stratify_prefix}.png\"))\n",
    "        # else:         \n",
    "        fig_all.savefig(os.path.join(plot_dir, f\"{lab}<>{presc}\", dirname, f\"{plot_name}_{stratify_prefix}.png\"))\n",
    "        fig_all.clf()\n",
    "corrs_data_df = pd.DataFrame(corrs_data_dict)\n",
    "corrs_data_df.to_csv(os.path.join(plot_dir, f\"corrs_data_{stratify_prefix}.csv\"))"
   ]
  },
  {
   "cell_type": "code",
   "execution_count": 86,
   "metadata": {},
   "outputs": [
    {
     "data": {
      "text/html": [
       "<div>\n",
       "<style scoped>\n",
       "    .dataframe tbody tr th:only-of-type {\n",
       "        vertical-align: middle;\n",
       "    }\n",
       "\n",
       "    .dataframe tbody tr th {\n",
       "        vertical-align: top;\n",
       "    }\n",
       "\n",
       "    .dataframe thead th {\n",
       "        text-align: right;\n",
       "    }\n",
       "</style>\n",
       "<table border=\"1\" class=\"dataframe\">\n",
       "  <thead>\n",
       "    <tr style=\"text-align: right;\">\n",
       "      <th></th>\n",
       "      <th>lab</th>\n",
       "      <th>med</th>\n",
       "      <th>bw</th>\n",
       "      <th>aw</th>\n",
       "      <th>Type</th>\n",
       "      <th>Pearson Correlation</th>\n",
       "      <th>Pearson Correlation (p-value)</th>\n",
       "      <th>Spearmans Correlation</th>\n",
       "      <th>Spearmans Correlation (p-value)</th>\n",
       "      <th>Num of Data Points (n)</th>\n",
       "    </tr>\n",
       "  </thead>\n",
       "  <tbody>\n",
       "    <tr>\n",
       "      <th>0</th>\n",
       "      <td>INR(PT)</td>\n",
       "      <td>Ceftriaxone</td>\n",
       "      <td>(1-5)</td>\n",
       "      <td>(1-5)</td>\n",
       "      <td>Absolute</td>\n",
       "      <td>0.306647</td>\n",
       "      <td>0.460064</td>\n",
       "      <td>0.518677</td>\n",
       "      <td>0.187826</td>\n",
       "      <td>8</td>\n",
       "    </tr>\n",
       "    <tr>\n",
       "      <th>1</th>\n",
       "      <td>INR(PT)</td>\n",
       "      <td>Ceftriaxone</td>\n",
       "      <td>(1-5)</td>\n",
       "      <td>(5-9)</td>\n",
       "      <td>Absolute</td>\n",
       "      <td>0.034305</td>\n",
       "      <td>0.930183</td>\n",
       "      <td>-0.246864</td>\n",
       "      <td>0.521937</td>\n",
       "      <td>9</td>\n",
       "    </tr>\n",
       "    <tr>\n",
       "      <th>2</th>\n",
       "      <td>INR(PT)</td>\n",
       "      <td>Ceftriaxone</td>\n",
       "      <td>(1-5)</td>\n",
       "      <td>(9-13)</td>\n",
       "      <td>Absolute</td>\n",
       "      <td>-0.536906</td>\n",
       "      <td>0.088568</td>\n",
       "      <td>-0.133342</td>\n",
       "      <td>0.695906</td>\n",
       "      <td>11</td>\n",
       "    </tr>\n",
       "    <tr>\n",
       "      <th>3</th>\n",
       "      <td>INR(PT)</td>\n",
       "      <td>Ceftriaxone</td>\n",
       "      <td>(1-5)</td>\n",
       "      <td>(13-17)</td>\n",
       "      <td>Absolute</td>\n",
       "      <td>0.136014</td>\n",
       "      <td>0.771225</td>\n",
       "      <td>0.036037</td>\n",
       "      <td>0.938861</td>\n",
       "      <td>7</td>\n",
       "    </tr>\n",
       "    <tr>\n",
       "      <th>4</th>\n",
       "      <td>INR(PT)</td>\n",
       "      <td>Ceftriaxone</td>\n",
       "      <td>(1-5)</td>\n",
       "      <td>(17-21)</td>\n",
       "      <td>Absolute</td>\n",
       "      <td>0.348078</td>\n",
       "      <td>0.398154</td>\n",
       "      <td>0.323359</td>\n",
       "      <td>0.434639</td>\n",
       "      <td>8</td>\n",
       "    </tr>\n",
       "    <tr>\n",
       "      <th>...</th>\n",
       "      <td>...</td>\n",
       "      <td>...</td>\n",
       "      <td>...</td>\n",
       "      <td>...</td>\n",
       "      <td>...</td>\n",
       "      <td>...</td>\n",
       "      <td>...</td>\n",
       "      <td>...</td>\n",
       "      <td>...</td>\n",
       "      <td>...</td>\n",
       "    </tr>\n",
       "    <tr>\n",
       "      <th>1051</th>\n",
       "      <td>Alanine Aminotransferase (ALT)</td>\n",
       "      <td>Omeprazole (Prilosec)</td>\n",
       "      <td>(1-5)</td>\n",
       "      <td>(17-21)</td>\n",
       "      <td>Percentage</td>\n",
       "      <td>0.546042</td>\n",
       "      <td>0.632268</td>\n",
       "      <td>0.500000</td>\n",
       "      <td>0.666667</td>\n",
       "      <td>3</td>\n",
       "    </tr>\n",
       "    <tr>\n",
       "      <th>1052</th>\n",
       "      <td>Alanine Aminotransferase (ALT)</td>\n",
       "      <td>Omeprazole (Prilosec)</td>\n",
       "      <td>(1-5)</td>\n",
       "      <td>(17-21)</td>\n",
       "      <td>Ratio</td>\n",
       "      <td>0.546042</td>\n",
       "      <td>0.632268</td>\n",
       "      <td>0.500000</td>\n",
       "      <td>0.666667</td>\n",
       "      <td>3</td>\n",
       "    </tr>\n",
       "    <tr>\n",
       "      <th>1053</th>\n",
       "      <td>Bilirubin, Total</td>\n",
       "      <td>Omeprazole (Prilosec)</td>\n",
       "      <td>(1-5)</td>\n",
       "      <td>(17-21)</td>\n",
       "      <td>Absolute</td>\n",
       "      <td>-0.431802</td>\n",
       "      <td>0.715756</td>\n",
       "      <td>-0.500000</td>\n",
       "      <td>0.666667</td>\n",
       "      <td>3</td>\n",
       "    </tr>\n",
       "    <tr>\n",
       "      <th>1054</th>\n",
       "      <td>Bilirubin, Total</td>\n",
       "      <td>Omeprazole (Prilosec)</td>\n",
       "      <td>(1-5)</td>\n",
       "      <td>(17-21)</td>\n",
       "      <td>Percentage</td>\n",
       "      <td>-0.352858</td>\n",
       "      <td>0.770420</td>\n",
       "      <td>-0.500000</td>\n",
       "      <td>0.666667</td>\n",
       "      <td>3</td>\n",
       "    </tr>\n",
       "    <tr>\n",
       "      <th>1055</th>\n",
       "      <td>Bilirubin, Total</td>\n",
       "      <td>Omeprazole (Prilosec)</td>\n",
       "      <td>(1-5)</td>\n",
       "      <td>(17-21)</td>\n",
       "      <td>Ratio</td>\n",
       "      <td>-0.352858</td>\n",
       "      <td>0.770420</td>\n",
       "      <td>-0.500000</td>\n",
       "      <td>0.666667</td>\n",
       "      <td>3</td>\n",
       "    </tr>\n",
       "  </tbody>\n",
       "</table>\n",
       "<p>1056 rows × 10 columns</p>\n",
       "</div>"
      ],
      "text/plain": [
       "                                 lab                    med     bw       aw  \\\n",
       "0                            INR(PT)            Ceftriaxone  (1-5)    (1-5)   \n",
       "1                            INR(PT)            Ceftriaxone  (1-5)    (5-9)   \n",
       "2                            INR(PT)            Ceftriaxone  (1-5)   (9-13)   \n",
       "3                            INR(PT)            Ceftriaxone  (1-5)  (13-17)   \n",
       "4                            INR(PT)            Ceftriaxone  (1-5)  (17-21)   \n",
       "...                              ...                    ...    ...      ...   \n",
       "1051  Alanine Aminotransferase (ALT)  Omeprazole (Prilosec)  (1-5)  (17-21)   \n",
       "1052  Alanine Aminotransferase (ALT)  Omeprazole (Prilosec)  (1-5)  (17-21)   \n",
       "1053                Bilirubin, Total  Omeprazole (Prilosec)  (1-5)  (17-21)   \n",
       "1054                Bilirubin, Total  Omeprazole (Prilosec)  (1-5)  (17-21)   \n",
       "1055                Bilirubin, Total  Omeprazole (Prilosec)  (1-5)  (17-21)   \n",
       "\n",
       "            Type  Pearson Correlation  Pearson Correlation (p-value)  \\\n",
       "0       Absolute             0.306647                       0.460064   \n",
       "1       Absolute             0.034305                       0.930183   \n",
       "2       Absolute            -0.536906                       0.088568   \n",
       "3       Absolute             0.136014                       0.771225   \n",
       "4       Absolute             0.348078                       0.398154   \n",
       "...          ...                  ...                            ...   \n",
       "1051  Percentage             0.546042                       0.632268   \n",
       "1052       Ratio             0.546042                       0.632268   \n",
       "1053    Absolute            -0.431802                       0.715756   \n",
       "1054  Percentage            -0.352858                       0.770420   \n",
       "1055       Ratio            -0.352858                       0.770420   \n",
       "\n",
       "      Spearmans Correlation   Spearmans Correlation (p-value)  \\\n",
       "0                   0.518677                         0.187826   \n",
       "1                  -0.246864                         0.521937   \n",
       "2                  -0.133342                         0.695906   \n",
       "3                   0.036037                         0.938861   \n",
       "4                   0.323359                         0.434639   \n",
       "...                      ...                              ...   \n",
       "1051                0.500000                         0.666667   \n",
       "1052                0.500000                         0.666667   \n",
       "1053               -0.500000                         0.666667   \n",
       "1054               -0.500000                         0.666667   \n",
       "1055               -0.500000                         0.666667   \n",
       "\n",
       "      Num of Data Points (n)  \n",
       "0                          8  \n",
       "1                          9  \n",
       "2                         11  \n",
       "3                          7  \n",
       "4                          8  \n",
       "...                      ...  \n",
       "1051                       3  \n",
       "1052                       3  \n",
       "1053                       3  \n",
       "1054                       3  \n",
       "1055                       3  \n",
       "\n",
       "[1056 rows x 10 columns]"
      ]
     },
     "execution_count": 86,
     "metadata": {},
     "output_type": "execute_result"
    }
   ],
   "source": [
    "corrs_data_df"
   ]
  },
  {
   "cell_type": "code",
   "execution_count": 89,
   "metadata": {},
   "outputs": [
    {
     "data": {
      "text/html": [
       "<div>\n",
       "<style scoped>\n",
       "    .dataframe tbody tr th:only-of-type {\n",
       "        vertical-align: middle;\n",
       "    }\n",
       "\n",
       "    .dataframe tbody tr th {\n",
       "        vertical-align: top;\n",
       "    }\n",
       "\n",
       "    .dataframe thead th {\n",
       "        text-align: right;\n",
       "    }\n",
       "</style>\n",
       "<table border=\"1\" class=\"dataframe\">\n",
       "  <thead>\n",
       "    <tr style=\"text-align: right;\">\n",
       "      <th></th>\n",
       "      <th>lab</th>\n",
       "      <th>med</th>\n",
       "      <th>bw</th>\n",
       "      <th>aw</th>\n",
       "      <th>Type</th>\n",
       "      <th>Pearson Correlation</th>\n",
       "      <th>Pearson Correlation (p-value)</th>\n",
       "      <th>Spearmans Correlation</th>\n",
       "      <th>Spearmans Correlation (p-value)</th>\n",
       "      <th>Num of Data Points (n)</th>\n",
       "    </tr>\n",
       "  </thead>\n",
       "  <tbody>\n",
       "    <tr>\n",
       "      <th>360</th>\n",
       "      <td>Magnesium</td>\n",
       "      <td>Furosemide (Lasix)</td>\n",
       "      <td>(5-9)</td>\n",
       "      <td>(17-21)</td>\n",
       "      <td>Ratio</td>\n",
       "      <td>-0.290910</td>\n",
       "      <td>0.017802</td>\n",
       "      <td>-0.300057</td>\n",
       "      <td>0.014374</td>\n",
       "      <td>66</td>\n",
       "    </tr>\n",
       "    <tr>\n",
       "      <th>353</th>\n",
       "      <td>Magnesium</td>\n",
       "      <td>Furosemide (Lasix)</td>\n",
       "      <td>(5-9)</td>\n",
       "      <td>(17-21)</td>\n",
       "      <td>Percentage</td>\n",
       "      <td>-0.290910</td>\n",
       "      <td>0.017802</td>\n",
       "      <td>-0.300057</td>\n",
       "      <td>0.014374</td>\n",
       "      <td>66</td>\n",
       "    </tr>\n",
       "    <tr>\n",
       "      <th>346</th>\n",
       "      <td>Magnesium</td>\n",
       "      <td>Furosemide (Lasix)</td>\n",
       "      <td>(5-9)</td>\n",
       "      <td>(17-21)</td>\n",
       "      <td>Absolute</td>\n",
       "      <td>-0.288090</td>\n",
       "      <td>0.018991</td>\n",
       "      <td>-0.286995</td>\n",
       "      <td>0.019471</td>\n",
       "      <td>66</td>\n",
       "    </tr>\n",
       "    <tr>\n",
       "      <th>399</th>\n",
       "      <td>Magnesium</td>\n",
       "      <td>Furosemide (Lasix)</td>\n",
       "      <td>(13-17)</td>\n",
       "      <td>(5-9)</td>\n",
       "      <td>Ratio</td>\n",
       "      <td>-0.431057</td>\n",
       "      <td>0.024782</td>\n",
       "      <td>-0.442390</td>\n",
       "      <td>0.020853</td>\n",
       "      <td>27</td>\n",
       "    </tr>\n",
       "    <tr>\n",
       "      <th>392</th>\n",
       "      <td>Magnesium</td>\n",
       "      <td>Furosemide (Lasix)</td>\n",
       "      <td>(13-17)</td>\n",
       "      <td>(5-9)</td>\n",
       "      <td>Percentage</td>\n",
       "      <td>-0.431057</td>\n",
       "      <td>0.024782</td>\n",
       "      <td>-0.442390</td>\n",
       "      <td>0.020853</td>\n",
       "      <td>27</td>\n",
       "    </tr>\n",
       "    <tr>\n",
       "      <th>357</th>\n",
       "      <td>Magnesium</td>\n",
       "      <td>Furosemide (Lasix)</td>\n",
       "      <td>(5-9)</td>\n",
       "      <td>(5-9)</td>\n",
       "      <td>Ratio</td>\n",
       "      <td>-0.385599</td>\n",
       "      <td>0.035341</td>\n",
       "      <td>-0.379945</td>\n",
       "      <td>0.038358</td>\n",
       "      <td>30</td>\n",
       "    </tr>\n",
       "    <tr>\n",
       "      <th>350</th>\n",
       "      <td>Magnesium</td>\n",
       "      <td>Furosemide (Lasix)</td>\n",
       "      <td>(5-9)</td>\n",
       "      <td>(5-9)</td>\n",
       "      <td>Percentage</td>\n",
       "      <td>-0.385599</td>\n",
       "      <td>0.035341</td>\n",
       "      <td>-0.379945</td>\n",
       "      <td>0.038358</td>\n",
       "      <td>30</td>\n",
       "    </tr>\n",
       "    <tr>\n",
       "      <th>385</th>\n",
       "      <td>Magnesium</td>\n",
       "      <td>Furosemide (Lasix)</td>\n",
       "      <td>(13-17)</td>\n",
       "      <td>(5-9)</td>\n",
       "      <td>Absolute</td>\n",
       "      <td>-0.397289</td>\n",
       "      <td>0.040167</td>\n",
       "      <td>-0.398043</td>\n",
       "      <td>0.039756</td>\n",
       "      <td>27</td>\n",
       "    </tr>\n",
       "    <tr>\n",
       "      <th>343</th>\n",
       "      <td>Magnesium</td>\n",
       "      <td>Furosemide (Lasix)</td>\n",
       "      <td>(5-9)</td>\n",
       "      <td>(5-9)</td>\n",
       "      <td>Absolute</td>\n",
       "      <td>-0.360945</td>\n",
       "      <td>0.050042</td>\n",
       "      <td>-0.356125</td>\n",
       "      <td>0.053414</td>\n",
       "      <td>30</td>\n",
       "    </tr>\n",
       "    <tr>\n",
       "      <th>419</th>\n",
       "      <td>Magnesium</td>\n",
       "      <td>Furosemide (Lasix)</td>\n",
       "      <td>(17-21)</td>\n",
       "      <td>(1-5)</td>\n",
       "      <td>Ratio</td>\n",
       "      <td>-0.238728</td>\n",
       "      <td>0.110094</td>\n",
       "      <td>-0.211535</td>\n",
       "      <td>0.158173</td>\n",
       "      <td>46</td>\n",
       "    </tr>\n",
       "    <tr>\n",
       "      <th>412</th>\n",
       "      <td>Magnesium</td>\n",
       "      <td>Furosemide (Lasix)</td>\n",
       "      <td>(17-21)</td>\n",
       "      <td>(1-5)</td>\n",
       "      <td>Percentage</td>\n",
       "      <td>-0.238728</td>\n",
       "      <td>0.110094</td>\n",
       "      <td>-0.211535</td>\n",
       "      <td>0.158173</td>\n",
       "      <td>46</td>\n",
       "    </tr>\n",
       "    <tr>\n",
       "      <th>405</th>\n",
       "      <td>Magnesium</td>\n",
       "      <td>Furosemide (Lasix)</td>\n",
       "      <td>(17-21)</td>\n",
       "      <td>(1-5)</td>\n",
       "      <td>Absolute</td>\n",
       "      <td>-0.220807</td>\n",
       "      <td>0.140309</td>\n",
       "      <td>-0.213480</td>\n",
       "      <td>0.154294</td>\n",
       "      <td>46</td>\n",
       "    </tr>\n",
       "    <tr>\n",
       "      <th>326</th>\n",
       "      <td>Magnesium</td>\n",
       "      <td>Furosemide (Lasix)</td>\n",
       "      <td>(1-5)</td>\n",
       "      <td>(21-25)</td>\n",
       "      <td>Absolute</td>\n",
       "      <td>-0.264957</td>\n",
       "      <td>0.181671</td>\n",
       "      <td>-0.296331</td>\n",
       "      <td>0.133391</td>\n",
       "      <td>27</td>\n",
       "    </tr>\n",
       "    <tr>\n",
       "      <th>386</th>\n",
       "      <td>Magnesium</td>\n",
       "      <td>Furosemide (Lasix)</td>\n",
       "      <td>(13-17)</td>\n",
       "      <td>(9-13)</td>\n",
       "      <td>Absolute</td>\n",
       "      <td>-0.214312</td>\n",
       "      <td>0.283075</td>\n",
       "      <td>-0.286174</td>\n",
       "      <td>0.147867</td>\n",
       "      <td>27</td>\n",
       "    </tr>\n",
       "    <tr>\n",
       "      <th>366</th>\n",
       "      <td>Magnesium</td>\n",
       "      <td>Furosemide (Lasix)</td>\n",
       "      <td>(9-13)</td>\n",
       "      <td>(13-17)</td>\n",
       "      <td>Absolute</td>\n",
       "      <td>-0.170199</td>\n",
       "      <td>0.287379</td>\n",
       "      <td>-0.145533</td>\n",
       "      <td>0.363935</td>\n",
       "      <td>41</td>\n",
       "    </tr>\n",
       "    <tr>\n",
       "      <th>333</th>\n",
       "      <td>Magnesium</td>\n",
       "      <td>Furosemide (Lasix)</td>\n",
       "      <td>(1-5)</td>\n",
       "      <td>(21-25)</td>\n",
       "      <td>Percentage</td>\n",
       "      <td>-0.202381</td>\n",
       "      <td>0.311362</td>\n",
       "      <td>-0.311994</td>\n",
       "      <td>0.113126</td>\n",
       "      <td>27</td>\n",
       "    </tr>\n",
       "    <tr>\n",
       "      <th>340</th>\n",
       "      <td>Magnesium</td>\n",
       "      <td>Furosemide (Lasix)</td>\n",
       "      <td>(1-5)</td>\n",
       "      <td>(21-25)</td>\n",
       "      <td>Ratio</td>\n",
       "      <td>-0.202381</td>\n",
       "      <td>0.311362</td>\n",
       "      <td>-0.311994</td>\n",
       "      <td>0.113126</td>\n",
       "      <td>27</td>\n",
       "    </tr>\n",
       "    <tr>\n",
       "      <th>380</th>\n",
       "      <td>Magnesium</td>\n",
       "      <td>Furosemide (Lasix)</td>\n",
       "      <td>(9-13)</td>\n",
       "      <td>(13-17)</td>\n",
       "      <td>Ratio</td>\n",
       "      <td>-0.157722</td>\n",
       "      <td>0.324692</td>\n",
       "      <td>-0.139230</td>\n",
       "      <td>0.385296</td>\n",
       "      <td>41</td>\n",
       "    </tr>\n",
       "    <tr>\n",
       "      <th>373</th>\n",
       "      <td>Magnesium</td>\n",
       "      <td>Furosemide (Lasix)</td>\n",
       "      <td>(9-13)</td>\n",
       "      <td>(13-17)</td>\n",
       "      <td>Percentage</td>\n",
       "      <td>-0.157722</td>\n",
       "      <td>0.324692</td>\n",
       "      <td>-0.139230</td>\n",
       "      <td>0.385296</td>\n",
       "      <td>41</td>\n",
       "    </tr>\n",
       "    <tr>\n",
       "      <th>400</th>\n",
       "      <td>Magnesium</td>\n",
       "      <td>Furosemide (Lasix)</td>\n",
       "      <td>(13-17)</td>\n",
       "      <td>(9-13)</td>\n",
       "      <td>Ratio</td>\n",
       "      <td>-0.194980</td>\n",
       "      <td>0.329757</td>\n",
       "      <td>-0.284667</td>\n",
       "      <td>0.150107</td>\n",
       "      <td>27</td>\n",
       "    </tr>\n",
       "    <tr>\n",
       "      <th>393</th>\n",
       "      <td>Magnesium</td>\n",
       "      <td>Furosemide (Lasix)</td>\n",
       "      <td>(13-17)</td>\n",
       "      <td>(9-13)</td>\n",
       "      <td>Percentage</td>\n",
       "      <td>-0.194980</td>\n",
       "      <td>0.329757</td>\n",
       "      <td>-0.284667</td>\n",
       "      <td>0.150107</td>\n",
       "      <td>27</td>\n",
       "    </tr>\n",
       "    <tr>\n",
       "      <th>426</th>\n",
       "      <td>Magnesium</td>\n",
       "      <td>Furosemide (Lasix)</td>\n",
       "      <td>(21-25)</td>\n",
       "      <td>(1-5)</td>\n",
       "      <td>Absolute</td>\n",
       "      <td>-0.165472</td>\n",
       "      <td>0.390984</td>\n",
       "      <td>-0.230076</td>\n",
       "      <td>0.229872</td>\n",
       "      <td>29</td>\n",
       "    </tr>\n",
       "    <tr>\n",
       "      <th>413</th>\n",
       "      <td>Magnesium</td>\n",
       "      <td>Furosemide (Lasix)</td>\n",
       "      <td>(17-21)</td>\n",
       "      <td>(5-9)</td>\n",
       "      <td>Percentage</td>\n",
       "      <td>0.148413</td>\n",
       "      <td>0.425569</td>\n",
       "      <td>0.095147</td>\n",
       "      <td>0.610652</td>\n",
       "      <td>31</td>\n",
       "    </tr>\n",
       "    <tr>\n",
       "      <th>420</th>\n",
       "      <td>Magnesium</td>\n",
       "      <td>Furosemide (Lasix)</td>\n",
       "      <td>(17-21)</td>\n",
       "      <td>(5-9)</td>\n",
       "      <td>Ratio</td>\n",
       "      <td>0.148413</td>\n",
       "      <td>0.425569</td>\n",
       "      <td>0.095147</td>\n",
       "      <td>0.610652</td>\n",
       "      <td>31</td>\n",
       "    </tr>\n",
       "    <tr>\n",
       "      <th>370</th>\n",
       "      <td>Magnesium</td>\n",
       "      <td>Furosemide (Lasix)</td>\n",
       "      <td>(9-13)</td>\n",
       "      <td>(1-5)</td>\n",
       "      <td>Percentage</td>\n",
       "      <td>-0.131373</td>\n",
       "      <td>0.451898</td>\n",
       "      <td>0.038540</td>\n",
       "      <td>0.826021</td>\n",
       "      <td>35</td>\n",
       "    </tr>\n",
       "    <tr>\n",
       "      <th>377</th>\n",
       "      <td>Magnesium</td>\n",
       "      <td>Furosemide (Lasix)</td>\n",
       "      <td>(9-13)</td>\n",
       "      <td>(1-5)</td>\n",
       "      <td>Ratio</td>\n",
       "      <td>-0.131373</td>\n",
       "      <td>0.451898</td>\n",
       "      <td>0.038540</td>\n",
       "      <td>0.826021</td>\n",
       "      <td>35</td>\n",
       "    </tr>\n",
       "    <tr>\n",
       "      <th>349</th>\n",
       "      <td>Magnesium</td>\n",
       "      <td>Furosemide (Lasix)</td>\n",
       "      <td>(5-9)</td>\n",
       "      <td>(1-5)</td>\n",
       "      <td>Percentage</td>\n",
       "      <td>0.106275</td>\n",
       "      <td>0.477096</td>\n",
       "      <td>0.151768</td>\n",
       "      <td>0.308504</td>\n",
       "      <td>47</td>\n",
       "    </tr>\n",
       "    <tr>\n",
       "      <th>356</th>\n",
       "      <td>Magnesium</td>\n",
       "      <td>Furosemide (Lasix)</td>\n",
       "      <td>(5-9)</td>\n",
       "      <td>(1-5)</td>\n",
       "      <td>Ratio</td>\n",
       "      <td>0.106275</td>\n",
       "      <td>0.477096</td>\n",
       "      <td>0.151768</td>\n",
       "      <td>0.308504</td>\n",
       "      <td>47</td>\n",
       "    </tr>\n",
       "    <tr>\n",
       "      <th>342</th>\n",
       "      <td>Magnesium</td>\n",
       "      <td>Furosemide (Lasix)</td>\n",
       "      <td>(5-9)</td>\n",
       "      <td>(1-5)</td>\n",
       "      <td>Absolute</td>\n",
       "      <td>0.080904</td>\n",
       "      <td>0.588781</td>\n",
       "      <td>0.182226</td>\n",
       "      <td>0.220224</td>\n",
       "      <td>47</td>\n",
       "    </tr>\n",
       "    <tr>\n",
       "      <th>363</th>\n",
       "      <td>Magnesium</td>\n",
       "      <td>Furosemide (Lasix)</td>\n",
       "      <td>(9-13)</td>\n",
       "      <td>(1-5)</td>\n",
       "      <td>Absolute</td>\n",
       "      <td>-0.093972</td>\n",
       "      <td>0.591307</td>\n",
       "      <td>0.019600</td>\n",
       "      <td>0.911018</td>\n",
       "      <td>35</td>\n",
       "    </tr>\n",
       "  </tbody>\n",
       "</table>\n",
       "</div>"
      ],
      "text/plain": [
       "           lab                 med       bw       aw        Type  \\\n",
       "360  Magnesium  Furosemide (Lasix)    (5-9)  (17-21)       Ratio   \n",
       "353  Magnesium  Furosemide (Lasix)    (5-9)  (17-21)  Percentage   \n",
       "346  Magnesium  Furosemide (Lasix)    (5-9)  (17-21)    Absolute   \n",
       "399  Magnesium  Furosemide (Lasix)  (13-17)    (5-9)       Ratio   \n",
       "392  Magnesium  Furosemide (Lasix)  (13-17)    (5-9)  Percentage   \n",
       "357  Magnesium  Furosemide (Lasix)    (5-9)    (5-9)       Ratio   \n",
       "350  Magnesium  Furosemide (Lasix)    (5-9)    (5-9)  Percentage   \n",
       "385  Magnesium  Furosemide (Lasix)  (13-17)    (5-9)    Absolute   \n",
       "343  Magnesium  Furosemide (Lasix)    (5-9)    (5-9)    Absolute   \n",
       "419  Magnesium  Furosemide (Lasix)  (17-21)    (1-5)       Ratio   \n",
       "412  Magnesium  Furosemide (Lasix)  (17-21)    (1-5)  Percentage   \n",
       "405  Magnesium  Furosemide (Lasix)  (17-21)    (1-5)    Absolute   \n",
       "326  Magnesium  Furosemide (Lasix)    (1-5)  (21-25)    Absolute   \n",
       "386  Magnesium  Furosemide (Lasix)  (13-17)   (9-13)    Absolute   \n",
       "366  Magnesium  Furosemide (Lasix)   (9-13)  (13-17)    Absolute   \n",
       "333  Magnesium  Furosemide (Lasix)    (1-5)  (21-25)  Percentage   \n",
       "340  Magnesium  Furosemide (Lasix)    (1-5)  (21-25)       Ratio   \n",
       "380  Magnesium  Furosemide (Lasix)   (9-13)  (13-17)       Ratio   \n",
       "373  Magnesium  Furosemide (Lasix)   (9-13)  (13-17)  Percentage   \n",
       "400  Magnesium  Furosemide (Lasix)  (13-17)   (9-13)       Ratio   \n",
       "393  Magnesium  Furosemide (Lasix)  (13-17)   (9-13)  Percentage   \n",
       "426  Magnesium  Furosemide (Lasix)  (21-25)    (1-5)    Absolute   \n",
       "413  Magnesium  Furosemide (Lasix)  (17-21)    (5-9)  Percentage   \n",
       "420  Magnesium  Furosemide (Lasix)  (17-21)    (5-9)       Ratio   \n",
       "370  Magnesium  Furosemide (Lasix)   (9-13)    (1-5)  Percentage   \n",
       "377  Magnesium  Furosemide (Lasix)   (9-13)    (1-5)       Ratio   \n",
       "349  Magnesium  Furosemide (Lasix)    (5-9)    (1-5)  Percentage   \n",
       "356  Magnesium  Furosemide (Lasix)    (5-9)    (1-5)       Ratio   \n",
       "342  Magnesium  Furosemide (Lasix)    (5-9)    (1-5)    Absolute   \n",
       "363  Magnesium  Furosemide (Lasix)   (9-13)    (1-5)    Absolute   \n",
       "\n",
       "     Pearson Correlation  Pearson Correlation (p-value)  \\\n",
       "360            -0.290910                       0.017802   \n",
       "353            -0.290910                       0.017802   \n",
       "346            -0.288090                       0.018991   \n",
       "399            -0.431057                       0.024782   \n",
       "392            -0.431057                       0.024782   \n",
       "357            -0.385599                       0.035341   \n",
       "350            -0.385599                       0.035341   \n",
       "385            -0.397289                       0.040167   \n",
       "343            -0.360945                       0.050042   \n",
       "419            -0.238728                       0.110094   \n",
       "412            -0.238728                       0.110094   \n",
       "405            -0.220807                       0.140309   \n",
       "326            -0.264957                       0.181671   \n",
       "386            -0.214312                       0.283075   \n",
       "366            -0.170199                       0.287379   \n",
       "333            -0.202381                       0.311362   \n",
       "340            -0.202381                       0.311362   \n",
       "380            -0.157722                       0.324692   \n",
       "373            -0.157722                       0.324692   \n",
       "400            -0.194980                       0.329757   \n",
       "393            -0.194980                       0.329757   \n",
       "426            -0.165472                       0.390984   \n",
       "413             0.148413                       0.425569   \n",
       "420             0.148413                       0.425569   \n",
       "370            -0.131373                       0.451898   \n",
       "377            -0.131373                       0.451898   \n",
       "349             0.106275                       0.477096   \n",
       "356             0.106275                       0.477096   \n",
       "342             0.080904                       0.588781   \n",
       "363            -0.093972                       0.591307   \n",
       "\n",
       "     Spearmans Correlation   Spearmans Correlation (p-value)  \\\n",
       "360               -0.300057                         0.014374   \n",
       "353               -0.300057                         0.014374   \n",
       "346               -0.286995                         0.019471   \n",
       "399               -0.442390                         0.020853   \n",
       "392               -0.442390                         0.020853   \n",
       "357               -0.379945                         0.038358   \n",
       "350               -0.379945                         0.038358   \n",
       "385               -0.398043                         0.039756   \n",
       "343               -0.356125                         0.053414   \n",
       "419               -0.211535                         0.158173   \n",
       "412               -0.211535                         0.158173   \n",
       "405               -0.213480                         0.154294   \n",
       "326               -0.296331                         0.133391   \n",
       "386               -0.286174                         0.147867   \n",
       "366               -0.145533                         0.363935   \n",
       "333               -0.311994                         0.113126   \n",
       "340               -0.311994                         0.113126   \n",
       "380               -0.139230                         0.385296   \n",
       "373               -0.139230                         0.385296   \n",
       "400               -0.284667                         0.150107   \n",
       "393               -0.284667                         0.150107   \n",
       "426               -0.230076                         0.229872   \n",
       "413                0.095147                         0.610652   \n",
       "420                0.095147                         0.610652   \n",
       "370                0.038540                         0.826021   \n",
       "377                0.038540                         0.826021   \n",
       "349                0.151768                         0.308504   \n",
       "356                0.151768                         0.308504   \n",
       "342                0.182226                         0.220224   \n",
       "363                0.019600                         0.911018   \n",
       "\n",
       "     Num of Data Points (n)  \n",
       "360                      66  \n",
       "353                      66  \n",
       "346                      66  \n",
       "399                      27  \n",
       "392                      27  \n",
       "357                      30  \n",
       "350                      30  \n",
       "385                      27  \n",
       "343                      30  \n",
       "419                      46  \n",
       "412                      46  \n",
       "405                      46  \n",
       "326                      27  \n",
       "386                      27  \n",
       "366                      41  \n",
       "333                      27  \n",
       "340                      27  \n",
       "380                      41  \n",
       "373                      41  \n",
       "400                      27  \n",
       "393                      27  \n",
       "426                      29  \n",
       "413                      31  \n",
       "420                      31  \n",
       "370                      35  \n",
       "377                      35  \n",
       "349                      47  \n",
       "356                      47  \n",
       "342                      47  \n",
       "363                      35  "
      ]
     },
     "execution_count": 89,
     "metadata": {},
     "output_type": "execute_result"
    }
   ],
   "source": [
    "corrs_data_df[corrs_data_df[\"Num of Data Points (n)\"]>25].sort_values([\"Pearson Correlation (p-value)\"]).head(30)"
   ]
  },
  {
   "cell_type": "code",
   "execution_count": 90,
   "metadata": {},
   "outputs": [
    {
     "data": {
      "text/html": [
       "<div>\n",
       "<style scoped>\n",
       "    .dataframe tbody tr th:only-of-type {\n",
       "        vertical-align: middle;\n",
       "    }\n",
       "\n",
       "    .dataframe tbody tr th {\n",
       "        vertical-align: top;\n",
       "    }\n",
       "\n",
       "    .dataframe thead th {\n",
       "        text-align: right;\n",
       "    }\n",
       "</style>\n",
       "<table border=\"1\" class=\"dataframe\">\n",
       "  <thead>\n",
       "    <tr style=\"text-align: right;\">\n",
       "      <th></th>\n",
       "      <th>lab</th>\n",
       "      <th>med</th>\n",
       "      <th>bw</th>\n",
       "      <th>aw</th>\n",
       "      <th>Type</th>\n",
       "      <th>Pearson Correlation</th>\n",
       "      <th>Pearson Correlation (p-value)</th>\n",
       "      <th>Spearmans Correlation</th>\n",
       "      <th>Spearmans Correlation (p-value)</th>\n",
       "      <th>Num of Data Points (n)</th>\n",
       "    </tr>\n",
       "  </thead>\n",
       "  <tbody>\n",
       "    <tr>\n",
       "      <th>340</th>\n",
       "      <td>Magnesium</td>\n",
       "      <td>Furosemide (Lasix)</td>\n",
       "      <td>(1-5)</td>\n",
       "      <td>(21-25)</td>\n",
       "      <td>Ratio</td>\n",
       "      <td>-0.202381</td>\n",
       "      <td>0.311362</td>\n",
       "      <td>-0.311994</td>\n",
       "      <td>0.113126</td>\n",
       "      <td>27</td>\n",
       "    </tr>\n",
       "    <tr>\n",
       "      <th>333</th>\n",
       "      <td>Magnesium</td>\n",
       "      <td>Furosemide (Lasix)</td>\n",
       "      <td>(1-5)</td>\n",
       "      <td>(21-25)</td>\n",
       "      <td>Percentage</td>\n",
       "      <td>-0.202381</td>\n",
       "      <td>0.311362</td>\n",
       "      <td>-0.311994</td>\n",
       "      <td>0.113126</td>\n",
       "      <td>27</td>\n",
       "    </tr>\n",
       "    <tr>\n",
       "      <th>326</th>\n",
       "      <td>Magnesium</td>\n",
       "      <td>Furosemide (Lasix)</td>\n",
       "      <td>(1-5)</td>\n",
       "      <td>(21-25)</td>\n",
       "      <td>Absolute</td>\n",
       "      <td>-0.264957</td>\n",
       "      <td>0.181671</td>\n",
       "      <td>-0.296331</td>\n",
       "      <td>0.133391</td>\n",
       "      <td>27</td>\n",
       "    </tr>\n",
       "    <tr>\n",
       "      <th>386</th>\n",
       "      <td>Magnesium</td>\n",
       "      <td>Furosemide (Lasix)</td>\n",
       "      <td>(13-17)</td>\n",
       "      <td>(9-13)</td>\n",
       "      <td>Absolute</td>\n",
       "      <td>-0.214312</td>\n",
       "      <td>0.283075</td>\n",
       "      <td>-0.286174</td>\n",
       "      <td>0.147867</td>\n",
       "      <td>27</td>\n",
       "    </tr>\n",
       "    <tr>\n",
       "      <th>400</th>\n",
       "      <td>Magnesium</td>\n",
       "      <td>Furosemide (Lasix)</td>\n",
       "      <td>(13-17)</td>\n",
       "      <td>(9-13)</td>\n",
       "      <td>Ratio</td>\n",
       "      <td>-0.194980</td>\n",
       "      <td>0.329757</td>\n",
       "      <td>-0.284667</td>\n",
       "      <td>0.150107</td>\n",
       "      <td>27</td>\n",
       "    </tr>\n",
       "    <tr>\n",
       "      <th>393</th>\n",
       "      <td>Magnesium</td>\n",
       "      <td>Furosemide (Lasix)</td>\n",
       "      <td>(13-17)</td>\n",
       "      <td>(9-13)</td>\n",
       "      <td>Percentage</td>\n",
       "      <td>-0.194980</td>\n",
       "      <td>0.329757</td>\n",
       "      <td>-0.284667</td>\n",
       "      <td>0.150107</td>\n",
       "      <td>27</td>\n",
       "    </tr>\n",
       "    <tr>\n",
       "      <th>405</th>\n",
       "      <td>Magnesium</td>\n",
       "      <td>Furosemide (Lasix)</td>\n",
       "      <td>(17-21)</td>\n",
       "      <td>(1-5)</td>\n",
       "      <td>Absolute</td>\n",
       "      <td>-0.220807</td>\n",
       "      <td>0.140309</td>\n",
       "      <td>-0.213480</td>\n",
       "      <td>0.154294</td>\n",
       "      <td>46</td>\n",
       "    </tr>\n",
       "    <tr>\n",
       "      <th>412</th>\n",
       "      <td>Magnesium</td>\n",
       "      <td>Furosemide (Lasix)</td>\n",
       "      <td>(17-21)</td>\n",
       "      <td>(1-5)</td>\n",
       "      <td>Percentage</td>\n",
       "      <td>-0.238728</td>\n",
       "      <td>0.110094</td>\n",
       "      <td>-0.211535</td>\n",
       "      <td>0.158173</td>\n",
       "      <td>46</td>\n",
       "    </tr>\n",
       "    <tr>\n",
       "      <th>419</th>\n",
       "      <td>Magnesium</td>\n",
       "      <td>Furosemide (Lasix)</td>\n",
       "      <td>(17-21)</td>\n",
       "      <td>(1-5)</td>\n",
       "      <td>Ratio</td>\n",
       "      <td>-0.238728</td>\n",
       "      <td>0.110094</td>\n",
       "      <td>-0.211535</td>\n",
       "      <td>0.158173</td>\n",
       "      <td>46</td>\n",
       "    </tr>\n",
       "    <tr>\n",
       "      <th>433</th>\n",
       "      <td>Magnesium</td>\n",
       "      <td>Furosemide (Lasix)</td>\n",
       "      <td>(21-25)</td>\n",
       "      <td>(1-5)</td>\n",
       "      <td>Percentage</td>\n",
       "      <td>-0.047289</td>\n",
       "      <td>0.807546</td>\n",
       "      <td>-0.242753</td>\n",
       "      <td>0.204497</td>\n",
       "      <td>29</td>\n",
       "    </tr>\n",
       "    <tr>\n",
       "      <th>440</th>\n",
       "      <td>Magnesium</td>\n",
       "      <td>Furosemide (Lasix)</td>\n",
       "      <td>(21-25)</td>\n",
       "      <td>(1-5)</td>\n",
       "      <td>Ratio</td>\n",
       "      <td>-0.047289</td>\n",
       "      <td>0.807546</td>\n",
       "      <td>-0.242753</td>\n",
       "      <td>0.204497</td>\n",
       "      <td>29</td>\n",
       "    </tr>\n",
       "    <tr>\n",
       "      <th>342</th>\n",
       "      <td>Magnesium</td>\n",
       "      <td>Furosemide (Lasix)</td>\n",
       "      <td>(5-9)</td>\n",
       "      <td>(1-5)</td>\n",
       "      <td>Absolute</td>\n",
       "      <td>0.080904</td>\n",
       "      <td>0.588781</td>\n",
       "      <td>0.182226</td>\n",
       "      <td>0.220224</td>\n",
       "      <td>47</td>\n",
       "    </tr>\n",
       "    <tr>\n",
       "      <th>426</th>\n",
       "      <td>Magnesium</td>\n",
       "      <td>Furosemide (Lasix)</td>\n",
       "      <td>(21-25)</td>\n",
       "      <td>(1-5)</td>\n",
       "      <td>Absolute</td>\n",
       "      <td>-0.165472</td>\n",
       "      <td>0.390984</td>\n",
       "      <td>-0.230076</td>\n",
       "      <td>0.229872</td>\n",
       "      <td>29</td>\n",
       "    </tr>\n",
       "    <tr>\n",
       "      <th>349</th>\n",
       "      <td>Magnesium</td>\n",
       "      <td>Furosemide (Lasix)</td>\n",
       "      <td>(5-9)</td>\n",
       "      <td>(1-5)</td>\n",
       "      <td>Percentage</td>\n",
       "      <td>0.106275</td>\n",
       "      <td>0.477096</td>\n",
       "      <td>0.151768</td>\n",
       "      <td>0.308504</td>\n",
       "      <td>47</td>\n",
       "    </tr>\n",
       "    <tr>\n",
       "      <th>356</th>\n",
       "      <td>Magnesium</td>\n",
       "      <td>Furosemide (Lasix)</td>\n",
       "      <td>(5-9)</td>\n",
       "      <td>(1-5)</td>\n",
       "      <td>Ratio</td>\n",
       "      <td>0.106275</td>\n",
       "      <td>0.477096</td>\n",
       "      <td>0.151768</td>\n",
       "      <td>0.308504</td>\n",
       "      <td>47</td>\n",
       "    </tr>\n",
       "    <tr>\n",
       "      <th>366</th>\n",
       "      <td>Magnesium</td>\n",
       "      <td>Furosemide (Lasix)</td>\n",
       "      <td>(9-13)</td>\n",
       "      <td>(13-17)</td>\n",
       "      <td>Absolute</td>\n",
       "      <td>-0.170199</td>\n",
       "      <td>0.287379</td>\n",
       "      <td>-0.145533</td>\n",
       "      <td>0.363935</td>\n",
       "      <td>41</td>\n",
       "    </tr>\n",
       "    <tr>\n",
       "      <th>373</th>\n",
       "      <td>Magnesium</td>\n",
       "      <td>Furosemide (Lasix)</td>\n",
       "      <td>(9-13)</td>\n",
       "      <td>(13-17)</td>\n",
       "      <td>Percentage</td>\n",
       "      <td>-0.157722</td>\n",
       "      <td>0.324692</td>\n",
       "      <td>-0.139230</td>\n",
       "      <td>0.385296</td>\n",
       "      <td>41</td>\n",
       "    </tr>\n",
       "    <tr>\n",
       "      <th>380</th>\n",
       "      <td>Magnesium</td>\n",
       "      <td>Furosemide (Lasix)</td>\n",
       "      <td>(9-13)</td>\n",
       "      <td>(13-17)</td>\n",
       "      <td>Ratio</td>\n",
       "      <td>-0.157722</td>\n",
       "      <td>0.324692</td>\n",
       "      <td>-0.139230</td>\n",
       "      <td>0.385296</td>\n",
       "      <td>41</td>\n",
       "    </tr>\n",
       "    <tr>\n",
       "      <th>413</th>\n",
       "      <td>Magnesium</td>\n",
       "      <td>Furosemide (Lasix)</td>\n",
       "      <td>(17-21)</td>\n",
       "      <td>(5-9)</td>\n",
       "      <td>Percentage</td>\n",
       "      <td>0.148413</td>\n",
       "      <td>0.425569</td>\n",
       "      <td>0.095147</td>\n",
       "      <td>0.610652</td>\n",
       "      <td>31</td>\n",
       "    </tr>\n",
       "    <tr>\n",
       "      <th>420</th>\n",
       "      <td>Magnesium</td>\n",
       "      <td>Furosemide (Lasix)</td>\n",
       "      <td>(17-21)</td>\n",
       "      <td>(5-9)</td>\n",
       "      <td>Ratio</td>\n",
       "      <td>0.148413</td>\n",
       "      <td>0.425569</td>\n",
       "      <td>0.095147</td>\n",
       "      <td>0.610652</td>\n",
       "      <td>31</td>\n",
       "    </tr>\n",
       "    <tr>\n",
       "      <th>377</th>\n",
       "      <td>Magnesium</td>\n",
       "      <td>Furosemide (Lasix)</td>\n",
       "      <td>(9-13)</td>\n",
       "      <td>(1-5)</td>\n",
       "      <td>Ratio</td>\n",
       "      <td>-0.131373</td>\n",
       "      <td>0.451898</td>\n",
       "      <td>0.038540</td>\n",
       "      <td>0.826021</td>\n",
       "      <td>35</td>\n",
       "    </tr>\n",
       "    <tr>\n",
       "      <th>370</th>\n",
       "      <td>Magnesium</td>\n",
       "      <td>Furosemide (Lasix)</td>\n",
       "      <td>(9-13)</td>\n",
       "      <td>(1-5)</td>\n",
       "      <td>Percentage</td>\n",
       "      <td>-0.131373</td>\n",
       "      <td>0.451898</td>\n",
       "      <td>0.038540</td>\n",
       "      <td>0.826021</td>\n",
       "      <td>35</td>\n",
       "    </tr>\n",
       "    <tr>\n",
       "      <th>359</th>\n",
       "      <td>Magnesium</td>\n",
       "      <td>Furosemide (Lasix)</td>\n",
       "      <td>(5-9)</td>\n",
       "      <td>(13-17)</td>\n",
       "      <td>Ratio</td>\n",
       "      <td>-0.032436</td>\n",
       "      <td>0.842506</td>\n",
       "      <td>-0.035390</td>\n",
       "      <td>0.828369</td>\n",
       "      <td>40</td>\n",
       "    </tr>\n",
       "    <tr>\n",
       "      <th>352</th>\n",
       "      <td>Magnesium</td>\n",
       "      <td>Furosemide (Lasix)</td>\n",
       "      <td>(5-9)</td>\n",
       "      <td>(13-17)</td>\n",
       "      <td>Percentage</td>\n",
       "      <td>-0.032436</td>\n",
       "      <td>0.842506</td>\n",
       "      <td>-0.035390</td>\n",
       "      <td>0.828369</td>\n",
       "      <td>40</td>\n",
       "    </tr>\n",
       "    <tr>\n",
       "      <th>406</th>\n",
       "      <td>Magnesium</td>\n",
       "      <td>Furosemide (Lasix)</td>\n",
       "      <td>(17-21)</td>\n",
       "      <td>(5-9)</td>\n",
       "      <td>Absolute</td>\n",
       "      <td>0.070065</td>\n",
       "      <td>0.708006</td>\n",
       "      <td>0.040275</td>\n",
       "      <td>0.829680</td>\n",
       "      <td>31</td>\n",
       "    </tr>\n",
       "    <tr>\n",
       "      <th>321</th>\n",
       "      <td>Magnesium</td>\n",
       "      <td>Furosemide (Lasix)</td>\n",
       "      <td>(1-5)</td>\n",
       "      <td>(1-5)</td>\n",
       "      <td>Absolute</td>\n",
       "      <td>0.060023</td>\n",
       "      <td>0.744176</td>\n",
       "      <td>0.024574</td>\n",
       "      <td>0.893795</td>\n",
       "      <td>32</td>\n",
       "    </tr>\n",
       "    <tr>\n",
       "      <th>345</th>\n",
       "      <td>Magnesium</td>\n",
       "      <td>Furosemide (Lasix)</td>\n",
       "      <td>(5-9)</td>\n",
       "      <td>(13-17)</td>\n",
       "      <td>Absolute</td>\n",
       "      <td>-0.034473</td>\n",
       "      <td>0.832748</td>\n",
       "      <td>-0.018615</td>\n",
       "      <td>0.909230</td>\n",
       "      <td>40</td>\n",
       "    </tr>\n",
       "    <tr>\n",
       "      <th>363</th>\n",
       "      <td>Magnesium</td>\n",
       "      <td>Furosemide (Lasix)</td>\n",
       "      <td>(9-13)</td>\n",
       "      <td>(1-5)</td>\n",
       "      <td>Absolute</td>\n",
       "      <td>-0.093972</td>\n",
       "      <td>0.591307</td>\n",
       "      <td>0.019600</td>\n",
       "      <td>0.911018</td>\n",
       "      <td>35</td>\n",
       "    </tr>\n",
       "    <tr>\n",
       "      <th>335</th>\n",
       "      <td>Magnesium</td>\n",
       "      <td>Furosemide (Lasix)</td>\n",
       "      <td>(1-5)</td>\n",
       "      <td>(1-5)</td>\n",
       "      <td>Ratio</td>\n",
       "      <td>0.084792</td>\n",
       "      <td>0.644506</td>\n",
       "      <td>0.016151</td>\n",
       "      <td>0.930087</td>\n",
       "      <td>32</td>\n",
       "    </tr>\n",
       "    <tr>\n",
       "      <th>328</th>\n",
       "      <td>Magnesium</td>\n",
       "      <td>Furosemide (Lasix)</td>\n",
       "      <td>(1-5)</td>\n",
       "      <td>(1-5)</td>\n",
       "      <td>Percentage</td>\n",
       "      <td>0.084792</td>\n",
       "      <td>0.644506</td>\n",
       "      <td>0.016151</td>\n",
       "      <td>0.930087</td>\n",
       "      <td>32</td>\n",
       "    </tr>\n",
       "  </tbody>\n",
       "</table>\n",
       "</div>"
      ],
      "text/plain": [
       "           lab                 med       bw       aw        Type  \\\n",
       "340  Magnesium  Furosemide (Lasix)    (1-5)  (21-25)       Ratio   \n",
       "333  Magnesium  Furosemide (Lasix)    (1-5)  (21-25)  Percentage   \n",
       "326  Magnesium  Furosemide (Lasix)    (1-5)  (21-25)    Absolute   \n",
       "386  Magnesium  Furosemide (Lasix)  (13-17)   (9-13)    Absolute   \n",
       "400  Magnesium  Furosemide (Lasix)  (13-17)   (9-13)       Ratio   \n",
       "393  Magnesium  Furosemide (Lasix)  (13-17)   (9-13)  Percentage   \n",
       "405  Magnesium  Furosemide (Lasix)  (17-21)    (1-5)    Absolute   \n",
       "412  Magnesium  Furosemide (Lasix)  (17-21)    (1-5)  Percentage   \n",
       "419  Magnesium  Furosemide (Lasix)  (17-21)    (1-5)       Ratio   \n",
       "433  Magnesium  Furosemide (Lasix)  (21-25)    (1-5)  Percentage   \n",
       "440  Magnesium  Furosemide (Lasix)  (21-25)    (1-5)       Ratio   \n",
       "342  Magnesium  Furosemide (Lasix)    (5-9)    (1-5)    Absolute   \n",
       "426  Magnesium  Furosemide (Lasix)  (21-25)    (1-5)    Absolute   \n",
       "349  Magnesium  Furosemide (Lasix)    (5-9)    (1-5)  Percentage   \n",
       "356  Magnesium  Furosemide (Lasix)    (5-9)    (1-5)       Ratio   \n",
       "366  Magnesium  Furosemide (Lasix)   (9-13)  (13-17)    Absolute   \n",
       "373  Magnesium  Furosemide (Lasix)   (9-13)  (13-17)  Percentage   \n",
       "380  Magnesium  Furosemide (Lasix)   (9-13)  (13-17)       Ratio   \n",
       "413  Magnesium  Furosemide (Lasix)  (17-21)    (5-9)  Percentage   \n",
       "420  Magnesium  Furosemide (Lasix)  (17-21)    (5-9)       Ratio   \n",
       "377  Magnesium  Furosemide (Lasix)   (9-13)    (1-5)       Ratio   \n",
       "370  Magnesium  Furosemide (Lasix)   (9-13)    (1-5)  Percentage   \n",
       "359  Magnesium  Furosemide (Lasix)    (5-9)  (13-17)       Ratio   \n",
       "352  Magnesium  Furosemide (Lasix)    (5-9)  (13-17)  Percentage   \n",
       "406  Magnesium  Furosemide (Lasix)  (17-21)    (5-9)    Absolute   \n",
       "321  Magnesium  Furosemide (Lasix)    (1-5)    (1-5)    Absolute   \n",
       "345  Magnesium  Furosemide (Lasix)    (5-9)  (13-17)    Absolute   \n",
       "363  Magnesium  Furosemide (Lasix)   (9-13)    (1-5)    Absolute   \n",
       "335  Magnesium  Furosemide (Lasix)    (1-5)    (1-5)       Ratio   \n",
       "328  Magnesium  Furosemide (Lasix)    (1-5)    (1-5)  Percentage   \n",
       "\n",
       "     Pearson Correlation  Pearson Correlation (p-value)  \\\n",
       "340            -0.202381                       0.311362   \n",
       "333            -0.202381                       0.311362   \n",
       "326            -0.264957                       0.181671   \n",
       "386            -0.214312                       0.283075   \n",
       "400            -0.194980                       0.329757   \n",
       "393            -0.194980                       0.329757   \n",
       "405            -0.220807                       0.140309   \n",
       "412            -0.238728                       0.110094   \n",
       "419            -0.238728                       0.110094   \n",
       "433            -0.047289                       0.807546   \n",
       "440            -0.047289                       0.807546   \n",
       "342             0.080904                       0.588781   \n",
       "426            -0.165472                       0.390984   \n",
       "349             0.106275                       0.477096   \n",
       "356             0.106275                       0.477096   \n",
       "366            -0.170199                       0.287379   \n",
       "373            -0.157722                       0.324692   \n",
       "380            -0.157722                       0.324692   \n",
       "413             0.148413                       0.425569   \n",
       "420             0.148413                       0.425569   \n",
       "377            -0.131373                       0.451898   \n",
       "370            -0.131373                       0.451898   \n",
       "359            -0.032436                       0.842506   \n",
       "352            -0.032436                       0.842506   \n",
       "406             0.070065                       0.708006   \n",
       "321             0.060023                       0.744176   \n",
       "345            -0.034473                       0.832748   \n",
       "363            -0.093972                       0.591307   \n",
       "335             0.084792                       0.644506   \n",
       "328             0.084792                       0.644506   \n",
       "\n",
       "     Spearmans Correlation   Spearmans Correlation (p-value)  \\\n",
       "340               -0.311994                         0.113126   \n",
       "333               -0.311994                         0.113126   \n",
       "326               -0.296331                         0.133391   \n",
       "386               -0.286174                         0.147867   \n",
       "400               -0.284667                         0.150107   \n",
       "393               -0.284667                         0.150107   \n",
       "405               -0.213480                         0.154294   \n",
       "412               -0.211535                         0.158173   \n",
       "419               -0.211535                         0.158173   \n",
       "433               -0.242753                         0.204497   \n",
       "440               -0.242753                         0.204497   \n",
       "342                0.182226                         0.220224   \n",
       "426               -0.230076                         0.229872   \n",
       "349                0.151768                         0.308504   \n",
       "356                0.151768                         0.308504   \n",
       "366               -0.145533                         0.363935   \n",
       "373               -0.139230                         0.385296   \n",
       "380               -0.139230                         0.385296   \n",
       "413                0.095147                         0.610652   \n",
       "420                0.095147                         0.610652   \n",
       "377                0.038540                         0.826021   \n",
       "370                0.038540                         0.826021   \n",
       "359               -0.035390                         0.828369   \n",
       "352               -0.035390                         0.828369   \n",
       "406                0.040275                         0.829680   \n",
       "321                0.024574                         0.893795   \n",
       "345               -0.018615                         0.909230   \n",
       "363                0.019600                         0.911018   \n",
       "335                0.016151                         0.930087   \n",
       "328                0.016151                         0.930087   \n",
       "\n",
       "     Num of Data Points (n)  \n",
       "340                      27  \n",
       "333                      27  \n",
       "326                      27  \n",
       "386                      27  \n",
       "400                      27  \n",
       "393                      27  \n",
       "405                      46  \n",
       "412                      46  \n",
       "419                      46  \n",
       "433                      29  \n",
       "440                      29  \n",
       "342                      47  \n",
       "426                      29  \n",
       "349                      47  \n",
       "356                      47  \n",
       "366                      41  \n",
       "373                      41  \n",
       "380                      41  \n",
       "413                      31  \n",
       "420                      31  \n",
       "377                      35  \n",
       "370                      35  \n",
       "359                      40  \n",
       "352                      40  \n",
       "406                      31  \n",
       "321                      32  \n",
       "345                      40  \n",
       "363                      35  \n",
       "335                      32  \n",
       "328                      32  "
      ]
     },
     "execution_count": 90,
     "metadata": {},
     "output_type": "execute_result"
    }
   ],
   "source": [
    "corrs_data_df[corrs_data_df[\"Num of Data Points (n)\"]>25].sort_values([\"Spearmans Correlation (p-value)\"]).tail(30)"
   ]
  },
  {
   "cell_type": "code",
   "execution_count": null,
   "metadata": {},
   "outputs": [],
   "source": []
  }
 ],
 "metadata": {
  "kernelspec": {
   "display_name": "Python 3.10.6 ('mimic_data_extraction')",
   "language": "python",
   "name": "python3"
  },
  "language_info": {
   "codemirror_mode": {
    "name": "ipython",
    "version": 3
   },
   "file_extension": ".py",
   "mimetype": "text/x-python",
   "name": "python",
   "nbconvert_exporter": "python",
   "pygments_lexer": "ipython3",
   "version": "3.10.6"
  },
  "orig_nbformat": 4,
  "vscode": {
   "interpreter": {
    "hash": "ba9ea693680e5d77337a1b41207d36c610d458678d46ca7f553693d7a813c249"
   }
  }
 },
 "nbformat": 4,
 "nbformat_minor": 2
}
