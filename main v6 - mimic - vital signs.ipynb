{
 "cells": [
  {
   "cell_type": "code",
   "execution_count": 15,
   "metadata": {},
   "outputs": [],
   "source": [
    "%load_ext autoreload"
   ]
  },
  {
   "cell_type": "code",
   "execution_count": 20,
   "metadata": {},
   "outputs": [],
   "source": [
    "%autoreload 2"
   ]
  },
  {
   "cell_type": "code",
   "execution_count": 1,
   "metadata": {},
   "outputs": [],
   "source": [
    "from src.parsers import mimic, hirid\n",
    "from src.modeling import discovery, plots, querier\n",
    "from src.utils import constants"
   ]
  },
  {
   "cell_type": "code",
   "execution_count": 2,
   "metadata": {},
   "outputs": [],
   "source": [
    "import sys\n",
    "# import win32com.client\n",
    "import os\n",
    "import pandas as pd\n",
    "\n",
    "def setup_io_config(root_path):\n",
    "    \"\"\"\n",
    "    Input - Output config. Add dataset paths\n",
    "    :root_path -> Repo path which contains 'data' and 'res' folders\n",
    "    \"\"\"\n",
    "\n",
    "    # MIMIC\n",
    "    is_shortcut = True if \"data.lnk\" in os.listdir(root_path) else False \n",
    "    \n",
    "    if (is_shortcut):\n",
    "        path_shortcut =  os.path.join(root_path, \"data.lnk\")\n",
    "        shell = win32com.client.Dispatch(\"WScript.Shell\")\n",
    "        mimic_data = shell.CreateShortCut(path_shortcut).Targetpath\n",
    "    else:\n",
    "        mimic_data = os.path.join(f\"{root_path}\", \"data\") \n",
    "    mimic_path = os.path.join(f\"{root_path}\", \"results\")\n",
    "\n",
    "    # HIRID\n",
    "    hirid_data = f'{root_path}/data/hirid-a-high-time-resolution-icu-dataset-1.1.1/raw_stage/'\n",
    "    hirid_path = f'{root_path}/data/hirid-a-high-time-resolution-icu-dataset-1.1.1'\n",
    "    \n",
    "    return mimic_data, mimic_path, hirid_data, hirid_path\n",
    "\n",
    "def setup_stratification_config():\n",
    "    gender=\"MF\"\n",
    "    age_b=40\n",
    "    age_a=80 \n",
    "    ethnicity=\"WHITE\" \n",
    "    lab_mapping= constants.LAB_MAPPING\n",
    "    b_w = [(0,6), (6,12)]\n",
    "    a_w = [(0,4), (4,8), (8,12)]\n",
    "    before_windows = b_w\n",
    "    after_windows = a_w\n",
    "    return gender, age_a, age_b, ethnicity, lab_mapping, before_windows, after_windows"
   ]
  },
  {
   "cell_type": "code",
   "execution_count": 3,
   "metadata": {},
   "outputs": [],
   "source": [
    "# IO Config\n",
    "# root_path =\"C:\\\\Users\\\\danco\\\\My Drive\\\\Master\\\\Datasets\\\\MIMIC iii\"\n",
    "root_path = \"/Users/pavan/Library/CloudStorage/GoogleDrive-f20190038@hyderabad.bits-pilani.ac.in/My Drive/TAU/Code/DrugLab\"\n",
    "data, res, raw_path, res_path = setup_io_config(root_path=root_path)\n",
    "\n",
    "# Stratification Config\n",
    "gender, age_a, age_b, ethnicity, lab_mapping, before_windows, after_windows = setup_stratification_config()"
   ]
  },
  {
   "cell_type": "code",
   "execution_count": null,
   "metadata": {},
   "outputs": [],
   "source": []
  },
  {
   "cell_type": "code",
   "execution_count": 4,
   "metadata": {},
   "outputs": [
    {
     "name": "stdout",
     "output_type": "stream",
     "text": [
      "Parsing Heart Rate data....\n",
      "Loading med data...\n",
      "Generate med data....\n"
     ]
    },
    {
     "name": "stderr",
     "output_type": "stream",
     "text": [
      "/Users/pavan/Desktop/TAU/DrugLab/src/parsers/mimic.py:51: FutureWarning: Passing 'suffixes' which cause duplicate columns {'ROW_ID_x'} in the result is deprecated and will raise a MergeError in a future version.\n",
      "  m_p_df = pd.merge(inputevents_mv, med_data, how=\"inner\", on=\"ITEMID\")\n"
     ]
    },
    {
     "name": "stdout",
     "output_type": "stream",
     "text": [
      "Generated med data.\n",
      "Loaded med data.\n",
      "Load 1st and 2nd medication data...\n",
      "Loaded 1st and 2nd medication data.\n",
      "Load Lab data...\n",
      "Generate lab data from labevents...\n"
     ]
    },
    {
     "name": "stderr",
     "output_type": "stream",
     "text": [
      "/Users/pavan/Desktop/TAU/DrugLab/src/parsers/mimic.py:138: DtypeWarning: Columns (29) have mixed types. Specify dtype option on import or set low_memory=False.\n",
      "  labevents = pd.read_csv(os.path.join(self.data, constants.MIMIC_III_PREPROCESSED_PATH, constants.MIMIC_III_LABEVENT_PREPROCESSED))\n"
     ]
    },
    {
     "name": "stdout",
     "output_type": "stream",
     "text": [
      "Generated lab data from labevents.\n",
      "Generate lab data from chartevents...\n",
      "Loading Heart Rate data from CHARTEVENTS...\n",
      "Loading Heart Rate data from CHARTEVENTS...\n",
      "Loading Heart Rate data from CHARTEVENTS...\n",
      "Loading Heart Rate data from CHARTEVENTS...\n",
      "Loading Heart Rate data from CHARTEVENTS...\n",
      "Loading Heart Rate data from CHARTEVENTS...\n",
      "Loading Heart Rate data from CHARTEVENTS...\n"
     ]
    },
    {
     "name": "stderr",
     "output_type": "stream",
     "text": [
      "/Users/pavan/Desktop/TAU/DrugLab/src/parsers/mimic.py:194: DtypeWarning: Columns (14,15) have mixed types. Specify dtype option on import or set low_memory=False.\n",
      "  df = pd.read_csv(path)\n"
     ]
    },
    {
     "name": "stdout",
     "output_type": "stream",
     "text": [
      "Loading Heart Rate data from CHARTEVENTS...\n"
     ]
    },
    {
     "name": "stderr",
     "output_type": "stream",
     "text": [
      "/Users/pavan/Desktop/TAU/DrugLab/src/parsers/mimic.py:194: DtypeWarning: Columns (9) have mixed types. Specify dtype option on import or set low_memory=False.\n",
      "  df = pd.read_csv(path)\n"
     ]
    },
    {
     "name": "stdout",
     "output_type": "stream",
     "text": [
      "Loading Heart Rate data from CHARTEVENTS...\n",
      "Loading Heart Rate data from CHARTEVENTS...\n"
     ]
    },
    {
     "name": "stderr",
     "output_type": "stream",
     "text": [
      "/Users/pavan/Desktop/TAU/DrugLab/src/parsers/mimic.py:194: DtypeWarning: Columns (9) have mixed types. Specify dtype option on import or set low_memory=False.\n",
      "  df = pd.read_csv(path)\n"
     ]
    },
    {
     "name": "stdout",
     "output_type": "stream",
     "text": [
      "Loading Heart Rate data from CHARTEVENTS...\n",
      "Loading Heart Rate data from CHARTEVENTS...\n"
     ]
    },
    {
     "name": "stderr",
     "output_type": "stream",
     "text": [
      "/Users/pavan/Desktop/TAU/DrugLab/src/parsers/mimic.py:194: DtypeWarning: Columns (9) have mixed types. Specify dtype option on import or set low_memory=False.\n",
      "  df = pd.read_csv(path)\n"
     ]
    },
    {
     "name": "stdout",
     "output_type": "stream",
     "text": [
      "Loading Heart Rate data from CHARTEVENTS...\n",
      "Loading Heart Rate data from CHARTEVENTS...\n"
     ]
    },
    {
     "name": "stderr",
     "output_type": "stream",
     "text": [
      "/Users/pavan/Desktop/TAU/DrugLab/src/parsers/mimic.py:194: DtypeWarning: Columns (9) have mixed types. Specify dtype option on import or set low_memory=False.\n",
      "  df = pd.read_csv(path)\n"
     ]
    },
    {
     "name": "stdout",
     "output_type": "stream",
     "text": [
      "Loading Heart Rate data from CHARTEVENTS...\n"
     ]
    },
    {
     "name": "stderr",
     "output_type": "stream",
     "text": [
      "/Users/pavan/Desktop/TAU/DrugLab/src/parsers/mimic.py:194: DtypeWarning: Columns (9) have mixed types. Specify dtype option on import or set low_memory=False.\n",
      "  df = pd.read_csv(path)\n"
     ]
    },
    {
     "name": "stdout",
     "output_type": "stream",
     "text": [
      "Loading Heart Rate data from CHARTEVENTS...\n"
     ]
    },
    {
     "name": "stderr",
     "output_type": "stream",
     "text": [
      "/Users/pavan/Desktop/TAU/DrugLab/src/parsers/mimic.py:194: DtypeWarning: Columns (9) have mixed types. Specify dtype option on import or set low_memory=False.\n",
      "  df = pd.read_csv(path)\n"
     ]
    },
    {
     "name": "stdout",
     "output_type": "stream",
     "text": [
      "Loading Heart Rate data from CHARTEVENTS...\n"
     ]
    },
    {
     "name": "stderr",
     "output_type": "stream",
     "text": [
      "/Users/pavan/Desktop/TAU/DrugLab/src/parsers/mimic.py:194: DtypeWarning: Columns (9) have mixed types. Specify dtype option on import or set low_memory=False.\n",
      "  df = pd.read_csv(path)\n"
     ]
    },
    {
     "name": "stdout",
     "output_type": "stream",
     "text": [
      "Loading Heart Rate data from CHARTEVENTS...\n"
     ]
    },
    {
     "name": "stderr",
     "output_type": "stream",
     "text": [
      "/Users/pavan/Desktop/TAU/DrugLab/src/parsers/mimic.py:194: DtypeWarning: Columns (9) have mixed types. Specify dtype option on import or set low_memory=False.\n",
      "  df = pd.read_csv(path)\n"
     ]
    },
    {
     "name": "stdout",
     "output_type": "stream",
     "text": [
      "Loading Heart Rate data from CHARTEVENTS...\n"
     ]
    },
    {
     "name": "stderr",
     "output_type": "stream",
     "text": [
      "/Users/pavan/Desktop/TAU/DrugLab/src/parsers/mimic.py:194: DtypeWarning: Columns (9) have mixed types. Specify dtype option on import or set low_memory=False.\n",
      "  df = pd.read_csv(path)\n"
     ]
    },
    {
     "name": "stdout",
     "output_type": "stream",
     "text": [
      "Loading Heart Rate data from CHARTEVENTS...\n",
      "Loading Heart Rate data from CHARTEVENTS...\n"
     ]
    },
    {
     "name": "stderr",
     "output_type": "stream",
     "text": [
      "/Users/pavan/Desktop/TAU/DrugLab/src/parsers/mimic.py:194: DtypeWarning: Columns (9) have mixed types. Specify dtype option on import or set low_memory=False.\n",
      "  df = pd.read_csv(path)\n"
     ]
    },
    {
     "name": "stdout",
     "output_type": "stream",
     "text": [
      "Loading Heart Rate data from CHARTEVENTS...\n"
     ]
    },
    {
     "name": "stderr",
     "output_type": "stream",
     "text": [
      "/Users/pavan/Desktop/TAU/DrugLab/src/parsers/mimic.py:194: DtypeWarning: Columns (9) have mixed types. Specify dtype option on import or set low_memory=False.\n",
      "  df = pd.read_csv(path)\n"
     ]
    },
    {
     "name": "stdout",
     "output_type": "stream",
     "text": [
      "Loading Heart Rate data from CHARTEVENTS...\n",
      "Loading Heart Rate data from CHARTEVENTS...\n",
      "Loading Heart Rate data from CHARTEVENTS...\n",
      "Loading Heart Rate data from CHARTEVENTS...\n"
     ]
    },
    {
     "name": "stderr",
     "output_type": "stream",
     "text": [
      "/Users/pavan/Desktop/TAU/DrugLab/src/parsers/mimic.py:194: DtypeWarning: Columns (9) have mixed types. Specify dtype option on import or set low_memory=False.\n",
      "  df = pd.read_csv(path)\n"
     ]
    },
    {
     "name": "stdout",
     "output_type": "stream",
     "text": [
      "Loading Heart Rate data from CHARTEVENTS...\n"
     ]
    },
    {
     "name": "stderr",
     "output_type": "stream",
     "text": [
      "/Users/pavan/Desktop/TAU/DrugLab/src/parsers/mimic.py:194: DtypeWarning: Columns (9) have mixed types. Specify dtype option on import or set low_memory=False.\n",
      "  df = pd.read_csv(path)\n"
     ]
    },
    {
     "name": "stdout",
     "output_type": "stream",
     "text": [
      "Loading Heart Rate data from CHARTEVENTS...\n"
     ]
    },
    {
     "name": "stderr",
     "output_type": "stream",
     "text": [
      "/Users/pavan/Desktop/TAU/DrugLab/src/parsers/mimic.py:194: DtypeWarning: Columns (9) have mixed types. Specify dtype option on import or set low_memory=False.\n",
      "  df = pd.read_csv(path)\n"
     ]
    },
    {
     "name": "stdout",
     "output_type": "stream",
     "text": [
      "Loading Heart Rate data from CHARTEVENTS...\n"
     ]
    },
    {
     "name": "stderr",
     "output_type": "stream",
     "text": [
      "/Users/pavan/Desktop/TAU/DrugLab/src/parsers/mimic.py:194: DtypeWarning: Columns (9) have mixed types. Specify dtype option on import or set low_memory=False.\n",
      "  df = pd.read_csv(path)\n"
     ]
    },
    {
     "name": "stdout",
     "output_type": "stream",
     "text": [
      "Loading Heart Rate data from CHARTEVENTS...\n"
     ]
    },
    {
     "name": "stderr",
     "output_type": "stream",
     "text": [
      "/Users/pavan/Desktop/TAU/DrugLab/src/parsers/mimic.py:194: DtypeWarning: Columns (9) have mixed types. Specify dtype option on import or set low_memory=False.\n",
      "  df = pd.read_csv(path)\n"
     ]
    },
    {
     "name": "stdout",
     "output_type": "stream",
     "text": [
      "Loading Heart Rate data from CHARTEVENTS...\n"
     ]
    },
    {
     "name": "stderr",
     "output_type": "stream",
     "text": [
      "/Users/pavan/Desktop/TAU/DrugLab/src/parsers/mimic.py:194: DtypeWarning: Columns (9) have mixed types. Specify dtype option on import or set low_memory=False.\n",
      "  df = pd.read_csv(path)\n"
     ]
    },
    {
     "name": "stdout",
     "output_type": "stream",
     "text": [
      "Loading Heart Rate data from CHARTEVENTS...\n"
     ]
    },
    {
     "name": "stderr",
     "output_type": "stream",
     "text": [
      "/Users/pavan/Desktop/TAU/DrugLab/src/parsers/mimic.py:194: DtypeWarning: Columns (9) have mixed types. Specify dtype option on import or set low_memory=False.\n",
      "  df = pd.read_csv(path)\n"
     ]
    },
    {
     "name": "stdout",
     "output_type": "stream",
     "text": [
      "Loading Heart Rate data from CHARTEVENTS...\n"
     ]
    },
    {
     "name": "stderr",
     "output_type": "stream",
     "text": [
      "/Users/pavan/Desktop/TAU/DrugLab/src/parsers/mimic.py:194: DtypeWarning: Columns (9) have mixed types. Specify dtype option on import or set low_memory=False.\n",
      "  df = pd.read_csv(path)\n"
     ]
    },
    {
     "name": "stdout",
     "output_type": "stream",
     "text": [
      "Loading Heart Rate data from CHARTEVENTS...\n"
     ]
    },
    {
     "name": "stderr",
     "output_type": "stream",
     "text": [
      "/Users/pavan/Desktop/TAU/DrugLab/src/parsers/mimic.py:194: DtypeWarning: Columns (9) have mixed types. Specify dtype option on import or set low_memory=False.\n",
      "  df = pd.read_csv(path)\n"
     ]
    },
    {
     "name": "stdout",
     "output_type": "stream",
     "text": [
      "Loading Heart Rate data from CHARTEVENTS...\n",
      "Loading Heart Rate data from CHARTEVENTS...\n"
     ]
    },
    {
     "name": "stderr",
     "output_type": "stream",
     "text": [
      "/Users/pavan/Desktop/TAU/DrugLab/src/parsers/mimic.py:194: DtypeWarning: Columns (9) have mixed types. Specify dtype option on import or set low_memory=False.\n",
      "  df = pd.read_csv(path)\n"
     ]
    },
    {
     "name": "stdout",
     "output_type": "stream",
     "text": [
      "Loading Heart Rate data from CHARTEVENTS...\n",
      "Loading Heart Rate data from CHARTEVENTS...\n"
     ]
    },
    {
     "name": "stderr",
     "output_type": "stream",
     "text": [
      "/Users/pavan/Desktop/TAU/DrugLab/src/parsers/mimic.py:194: DtypeWarning: Columns (9) have mixed types. Specify dtype option on import or set low_memory=False.\n",
      "  df = pd.read_csv(path)\n"
     ]
    },
    {
     "name": "stdout",
     "output_type": "stream",
     "text": [
      "Loading Heart Rate data from CHARTEVENTS...\n"
     ]
    },
    {
     "name": "stderr",
     "output_type": "stream",
     "text": [
      "/Users/pavan/Desktop/TAU/DrugLab/src/parsers/mimic.py:194: DtypeWarning: Columns (14) have mixed types. Specify dtype option on import or set low_memory=False.\n",
      "  df = pd.read_csv(path)\n"
     ]
    },
    {
     "name": "stdout",
     "output_type": "stream",
     "text": [
      "Loading Heart Rate data from CHARTEVENTS...\n",
      "Loading Heart Rate data from CHARTEVENTS...\n",
      "Loading Heart Rate data from CHARTEVENTS...\n",
      "Loading Heart Rate data from CHARTEVENTS...\n",
      "Loading Heart Rate data from CHARTEVENTS...\n",
      "Loading Heart Rate data from CHARTEVENTS...\n",
      "Loading Heart Rate data from CHARTEVENTS...\n",
      "Loading Heart Rate data from CHARTEVENTS...\n",
      "Loading Heart Rate data from CHARTEVENTS...\n",
      "Loading Heart Rate data from CHARTEVENTS...\n",
      "Loading Heart Rate data from CHARTEVENTS...\n",
      "Loading Heart Rate data from CHARTEVENTS...\n",
      "Loading Heart Rate data from CHARTEVENTS...\n",
      "Generated lab data from chartevents.\n",
      "Loaded Lab data.\n",
      "Done parsing Heart Rate.\n"
     ]
    }
   ],
   "source": [
    "res_dict = {}\n",
    "lab = list(constants.LAB_MAPPING.keys())[0]\n",
    "print(f\"Parsing {lab} data....\")\n",
    "# MIMIC\n",
    "mimic_parser = mimic.MIMICParser(data=data, res=res, gender=gender, age_b=age_b, age_a=age_a, ethnicity=ethnicity, load=\"AUTOMATIC_MAPPING_MIMIC\")\n",
    "m_med1, m_med2, m_labs = mimic_parser.parse(use_pairs=False, load_from_raw=True, load_raw_chartevents=False, lab_parts=(0, 15), lab=lab)\n",
    "m_labs = m_labs.reset_index().drop(columns=[\"index\"])\n",
    "print(f\"Done parsing {lab}.\")"
   ]
  },
  {
   "cell_type": "code",
   "execution_count": 5,
   "metadata": {},
   "outputs": [
    {
     "name": "stdout",
     "output_type": "stream",
     "text": [
      "Starting pairs generation for Heart Rate....\n"
     ]
    },
    {
     "ename": "KeyError",
     "evalue": "'before_mean_(0, 6)'",
     "output_type": "error",
     "traceback": [
      "\u001b[0;31m---------------------------------------------------------------------------\u001b[0m",
      "\u001b[0;31mKeyError\u001b[0m                                  Traceback (most recent call last)",
      "File \u001b[0;32m~/Desktop/TAU/DrugLab/venv/lib/python3.9/site-packages/pandas/core/indexes/base.py:3802\u001b[0m, in \u001b[0;36mIndex.get_loc\u001b[0;34m(self, key, method, tolerance)\u001b[0m\n\u001b[1;32m   3801\u001b[0m \u001b[39mtry\u001b[39;00m:\n\u001b[0;32m-> 3802\u001b[0m     \u001b[39mreturn\u001b[39;00m \u001b[39mself\u001b[39;49m\u001b[39m.\u001b[39;49m_engine\u001b[39m.\u001b[39;49mget_loc(casted_key)\n\u001b[1;32m   3803\u001b[0m \u001b[39mexcept\u001b[39;00m \u001b[39mKeyError\u001b[39;00m \u001b[39mas\u001b[39;00m err:\n",
      "File \u001b[0;32m~/Desktop/TAU/DrugLab/venv/lib/python3.9/site-packages/pandas/_libs/index.pyx:138\u001b[0m, in \u001b[0;36mpandas._libs.index.IndexEngine.get_loc\u001b[0;34m()\u001b[0m\n",
      "File \u001b[0;32m~/Desktop/TAU/DrugLab/venv/lib/python3.9/site-packages/pandas/_libs/index.pyx:162\u001b[0m, in \u001b[0;36mpandas._libs.index.IndexEngine.get_loc\u001b[0;34m()\u001b[0m\n",
      "File \u001b[0;32m~/Desktop/TAU/DrugLab/venv/lib/python3.9/site-packages/pandas/_libs/index.pyx:203\u001b[0m, in \u001b[0;36mpandas._libs.index.IndexEngine._get_loc_duplicates\u001b[0;34m()\u001b[0m\n",
      "File \u001b[0;32m~/Desktop/TAU/DrugLab/venv/lib/python3.9/site-packages/pandas/_libs/index.pyx:211\u001b[0m, in \u001b[0;36mpandas._libs.index.IndexEngine._maybe_get_bool_indexer\u001b[0;34m()\u001b[0m\n",
      "File \u001b[0;32m~/Desktop/TAU/DrugLab/venv/lib/python3.9/site-packages/pandas/_libs/index.pyx:107\u001b[0m, in \u001b[0;36mpandas._libs.index._unpack_bool_indexer\u001b[0;34m()\u001b[0m\n",
      "\u001b[0;31mKeyError\u001b[0m: 'before_mean_(0, 6)'",
      "\nThe above exception was the direct cause of the following exception:\n",
      "\u001b[0;31mKeyError\u001b[0m                                  Traceback (most recent call last)",
      "Cell \u001b[0;32mIn[5], line 16\u001b[0m\n\u001b[1;32m      3\u001b[0m mimic_data_querier \u001b[39m=\u001b[39m querier\u001b[39m.\u001b[39mDatasetQuerier(\n\u001b[1;32m      4\u001b[0m     data \u001b[39m=\u001b[39m data,\n\u001b[1;32m      5\u001b[0m     res \u001b[39m=\u001b[39m res,\n\u001b[0;32m   (...)\u001b[0m\n\u001b[1;32m     13\u001b[0m     lab_mapping\u001b[39m=\u001b[39mlab_mapping\n\u001b[1;32m     14\u001b[0m )\n\u001b[1;32m     15\u001b[0m \u001b[39m# query pairs for all medication and lab tests\u001b[39;00m\n\u001b[0;32m---> 16\u001b[0m t2 \u001b[39m=\u001b[39m mimic_data_querier\u001b[39m.\u001b[39;49mgenerate_med_lab_data(before_windows, after_windows, lab_parts\u001b[39m=\u001b[39;49m\u001b[39mf\u001b[39;49m\u001b[39m\"\u001b[39;49m\u001b[39m{\u001b[39;49;00mlab\u001b[39m}\u001b[39;49;00m\u001b[39m_(0,15)\u001b[39;49m\u001b[39m\"\u001b[39;49m)\n",
      "File \u001b[0;32m~/Desktop/TAU/DrugLab/src/modeling/querier.py:125\u001b[0m, in \u001b[0;36mDatasetQuerier.generate_med_lab_data\u001b[0;34m(self, before_windows, after_windows, lab_parts)\u001b[0m\n\u001b[1;32m    122\u001b[0m col_vals \u001b[39m=\u001b[39m []\n\u001b[1;32m    123\u001b[0m \u001b[39mfor\u001b[39;00m col \u001b[39min\u001b[39;00m cols:\n\u001b[1;32m    124\u001b[0m     col_vals\u001b[39m.\u001b[39mappend(\n\u001b[0;32m--> 125\u001b[0m         temp\u001b[39m.\u001b[39massign(\u001b[39mdict\u001b[39m\u001b[39m=\u001b[39mtemp[col]\u001b[39m.\u001b[39mdropna()\u001b[39m.\u001b[39mmap(\u001b[39mlambda\u001b[39;00m d: d\u001b[39m.\u001b[39mitems()))\u001b[39m.\u001b[39mexplode(\u001b[39m\"\u001b[39m\u001b[39mdict\u001b[39m\u001b[39m\"\u001b[39m, ignore_index\u001b[39m=\u001b[39m\u001b[39mTrue\u001b[39;00m)\u001b[39m.\u001b[39massign(\n\u001b[1;32m    126\u001b[0m             LAB_ITEMID\u001b[39m=\u001b[39m\u001b[39mlambda\u001b[39;00m df: df\u001b[39m.\u001b[39mdict\u001b[39m.\u001b[39mstr\u001b[39m.\u001b[39mget(\u001b[39m0\u001b[39m),\n\u001b[1;32m    127\u001b[0m             temp\u001b[39m=\u001b[39m\u001b[39mlambda\u001b[39;00m df: df\u001b[39m.\u001b[39mdict\u001b[39m.\u001b[39mstr\u001b[39m.\u001b[39mget(\u001b[39m1\u001b[39m)\n\u001b[1;32m    128\u001b[0m         )\u001b[39m.\u001b[39mdrop(columns\u001b[39m=\u001b[39m[\u001b[39m\"\u001b[39m\u001b[39mdict\u001b[39m\u001b[39m\"\u001b[39m]\u001b[39m+\u001b[39mcols)\u001b[39m.\u001b[39mastype({\u001b[39m'\u001b[39m\u001b[39mtemp\u001b[39m\u001b[39m'\u001b[39m:\u001b[39m'\u001b[39m\u001b[39mfloat64\u001b[39m\u001b[39m'\u001b[39m})\u001b[39m.\u001b[39mrename(columns\u001b[39m=\u001b[39m{\u001b[39m\"\u001b[39m\u001b[39mtemp\u001b[39m\u001b[39m\"\u001b[39m:\u001b[39mf\u001b[39m\u001b[39m\"\u001b[39m\u001b[39m{\u001b[39;00mcol\u001b[39m}\u001b[39;00m\u001b[39m_sp\u001b[39m\u001b[39m\"\u001b[39m})\u001b[39m.\u001b[39mdropna(subset\u001b[39m=\u001b[39m[\u001b[39m\"\u001b[39m\u001b[39mLAB_ITEMID\u001b[39m\u001b[39m\"\u001b[39m])\n\u001b[1;32m    129\u001b[0m     )\n\u001b[1;32m    130\u001b[0m \u001b[39mfor\u001b[39;00m i \u001b[39min\u001b[39;00m \u001b[39mrange\u001b[39m(\u001b[39m1\u001b[39m, \u001b[39mlen\u001b[39m(col_vals)):\n\u001b[1;32m    131\u001b[0m     col_vals[i] \u001b[39m=\u001b[39m pd\u001b[39m.\u001b[39mmerge(col_vals[i\u001b[39m-\u001b[39m\u001b[39m1\u001b[39m], col_vals[i], how\u001b[39m=\u001b[39m\u001b[39m\"\u001b[39m\u001b[39mouter\u001b[39m\u001b[39m\"\u001b[39m, on\u001b[39m=\u001b[39m\u001b[39mlist\u001b[39m(t_med1\u001b[39m.\u001b[39mcolumns)\u001b[39m+\u001b[39m[\u001b[39m\"\u001b[39m\u001b[39mLAB_ITEMID\u001b[39m\u001b[39m\"\u001b[39m])\n",
      "File \u001b[0;32m~/Desktop/TAU/DrugLab/venv/lib/python3.9/site-packages/pandas/core/frame.py:3807\u001b[0m, in \u001b[0;36mDataFrame.__getitem__\u001b[0;34m(self, key)\u001b[0m\n\u001b[1;32m   3805\u001b[0m \u001b[39mif\u001b[39;00m \u001b[39mself\u001b[39m\u001b[39m.\u001b[39mcolumns\u001b[39m.\u001b[39mnlevels \u001b[39m>\u001b[39m \u001b[39m1\u001b[39m:\n\u001b[1;32m   3806\u001b[0m     \u001b[39mreturn\u001b[39;00m \u001b[39mself\u001b[39m\u001b[39m.\u001b[39m_getitem_multilevel(key)\n\u001b[0;32m-> 3807\u001b[0m indexer \u001b[39m=\u001b[39m \u001b[39mself\u001b[39;49m\u001b[39m.\u001b[39;49mcolumns\u001b[39m.\u001b[39;49mget_loc(key)\n\u001b[1;32m   3808\u001b[0m \u001b[39mif\u001b[39;00m is_integer(indexer):\n\u001b[1;32m   3809\u001b[0m     indexer \u001b[39m=\u001b[39m [indexer]\n",
      "File \u001b[0;32m~/Desktop/TAU/DrugLab/venv/lib/python3.9/site-packages/pandas/core/indexes/base.py:3804\u001b[0m, in \u001b[0;36mIndex.get_loc\u001b[0;34m(self, key, method, tolerance)\u001b[0m\n\u001b[1;32m   3802\u001b[0m     \u001b[39mreturn\u001b[39;00m \u001b[39mself\u001b[39m\u001b[39m.\u001b[39m_engine\u001b[39m.\u001b[39mget_loc(casted_key)\n\u001b[1;32m   3803\u001b[0m \u001b[39mexcept\u001b[39;00m \u001b[39mKeyError\u001b[39;00m \u001b[39mas\u001b[39;00m err:\n\u001b[0;32m-> 3804\u001b[0m     \u001b[39mraise\u001b[39;00m \u001b[39mKeyError\u001b[39;00m(key) \u001b[39mfrom\u001b[39;00m \u001b[39merr\u001b[39;00m\n\u001b[1;32m   3805\u001b[0m \u001b[39mexcept\u001b[39;00m \u001b[39mTypeError\u001b[39;00m:\n\u001b[1;32m   3806\u001b[0m     \u001b[39m# If we have a listlike key, _check_indexing_error will raise\u001b[39;00m\n\u001b[1;32m   3807\u001b[0m     \u001b[39m#  InvalidIndexError. Otherwise we fall through and re-raise\u001b[39;00m\n\u001b[1;32m   3808\u001b[0m     \u001b[39m#  the TypeError.\u001b[39;00m\n\u001b[1;32m   3809\u001b[0m     \u001b[39mself\u001b[39m\u001b[39m.\u001b[39m_check_indexing_error(key)\n",
      "\u001b[0;31mKeyError\u001b[0m: 'before_mean_(0, 6)'"
     ]
    }
   ],
   "source": [
    "print(f\"Starting pairs generation for {lab}....\")\n",
    "## Querier\n",
    "mimic_data_querier = querier.DatasetQuerier(\n",
    "    data = data,\n",
    "    res = res,\n",
    "    t_labs=m_labs, \n",
    "    t_med1=m_med1.iloc[:10], \n",
    "    t_med2=m_med2,\n",
    "    gender=gender, \n",
    "    age_b=age_b, \n",
    "    age_a=age_a, \n",
    "    ethnicity=ethnicity, \n",
    "    lab_mapping=lab_mapping\n",
    ")\n",
    "# query pairs for all medication and lab tests\n",
    "t2 = mimic_data_querier.generate_med_lab_data(before_windows, after_windows, lab_parts=f\"{lab}_(0,15)\")"
   ]
  },
  {
   "cell_type": "code",
   "execution_count": null,
   "metadata": {},
   "outputs": [],
   "source": [
    "t2"
   ]
  },
  {
   "cell_type": "code",
   "execution_count": null,
   "metadata": {},
   "outputs": [],
   "source": [
    "res_dict = {}\n",
    "for lab in constants.LAB_MAPPING.keys():\n",
    "    print(f\"Parsing {lab} data....\")\n",
    "    # MIMIC\n",
    "    mimic_parser = mimic.MIMICParser(data=data, res=res, gender=gender, age_b=age_b, age_a=age_a, ethnicity=ethnicity, load=\"AUTOMATIC_MAPPING_MIMIC\")\n",
    "    m_med1, m_med2, m_labs = mimic_parser.parse(use_pairs=False, load_from_raw=True, load_raw_chartevents=False, lab_parts=(0, 15), lab=lab)\n",
    "    m_labs = m_labs.reset_index().drop(columns=[\"index\"])\n",
    "    print(f\"Done parsing {lab}.\")\n",
    "    \n",
    "    print(f\"Starting pairs generation for {lab}....\")\n",
    "    ## Querier\n",
    "    mimic_data_querier = querier.DatasetQuerier(\n",
    "        data = data,\n",
    "        res = res,\n",
    "        t_labs=m_labs, \n",
    "        t_med1=m_med1, \n",
    "        t_med2=m_med2,\n",
    "        gender=gender, \n",
    "        age_b=age_b, \n",
    "        age_a=age_a, \n",
    "        ethnicity=ethnicity, \n",
    "        lab_mapping=lab_mapping\n",
    "    )\n",
    "    # query pairs for all medication and lab tests\n",
    "    res_dict[lab] = mimic_data_querier.generate_med_lab_data(before_windows, after_windows, lab_parts=f\"{lab}_(0,15)\")\n",
    "    print(f\"Pairs generated for {lab}.\")\n",
    "    "
   ]
  },
  {
   "cell_type": "code",
   "execution_count": null,
   "metadata": {},
   "outputs": [],
   "source": []
  },
  {
   "cell_type": "code",
   "execution_count": null,
   "metadata": {},
   "outputs": [],
   "source": []
  },
  {
   "cell_type": "code",
   "execution_count": 4,
   "metadata": {},
   "outputs": [
    {
     "name": "stdout",
     "output_type": "stream",
     "text": [
      "Loading med data...\n",
      "Generate med data....\n"
     ]
    },
    {
     "name": "stderr",
     "output_type": "stream",
     "text": [
      "/Users/pavan/Desktop/TAU/DrugLab/src/parsers/mimic.py:51: FutureWarning: Passing 'suffixes' which cause duplicate columns {'ROW_ID_x'} in the result is deprecated and will raise a MergeError in a future version.\n",
      "  m_p_df = pd.merge(inputevents_mv, med_data, how=\"inner\", on=\"ITEMID\")\n"
     ]
    },
    {
     "name": "stdout",
     "output_type": "stream",
     "text": [
      "Generated med data.\n",
      "Loaded med data.\n",
      "Load 1st and 2nd medication data...\n",
      "Loaded 1st and 2nd medication data.\n",
      "Load Lab data...\n",
      "Generate lab data from labevents...\n"
     ]
    },
    {
     "name": "stderr",
     "output_type": "stream",
     "text": [
      "/Users/pavan/Desktop/TAU/DrugLab/src/parsers/mimic.py:138: DtypeWarning: Columns (29) have mixed types. Specify dtype option on import or set low_memory=False.\n",
      "  labevents = pd.read_csv(os.path.join(self.data, constants.MIMIC_III_PREPROCESSED_PATH, constants.MIMIC_III_LABEVENT_PREPROCESSED))\n"
     ]
    },
    {
     "name": "stdout",
     "output_type": "stream",
     "text": [
      "Generated lab data from labevents.\n",
      "Generate lab data from chartevents...\n"
     ]
    },
    {
     "name": "stderr",
     "output_type": "stream",
     "text": [
      "/Users/pavan/Desktop/TAU/DrugLab/src/parsers/mimic.py:184: DtypeWarning: Columns (14,15) have mixed types. Specify dtype option on import or set low_memory=False.\n",
      "  chartevents = pd.concat([pd.read_csv(path) for path in res_paths], ignore_index=True) ## concatenation of output from each chunk\n",
      "/Users/pavan/Desktop/TAU/DrugLab/src/parsers/mimic.py:184: DtypeWarning: Columns (9) have mixed types. Specify dtype option on import or set low_memory=False.\n",
      "  chartevents = pd.concat([pd.read_csv(path) for path in res_paths], ignore_index=True) ## concatenation of output from each chunk\n",
      "/Users/pavan/Desktop/TAU/DrugLab/src/parsers/mimic.py:184: DtypeWarning: Columns (9) have mixed types. Specify dtype option on import or set low_memory=False.\n",
      "  chartevents = pd.concat([pd.read_csv(path) for path in res_paths], ignore_index=True) ## concatenation of output from each chunk\n",
      "/Users/pavan/Desktop/TAU/DrugLab/src/parsers/mimic.py:184: DtypeWarning: Columns (9) have mixed types. Specify dtype option on import or set low_memory=False.\n",
      "  chartevents = pd.concat([pd.read_csv(path) for path in res_paths], ignore_index=True) ## concatenation of output from each chunk\n",
      "/Users/pavan/Desktop/TAU/DrugLab/src/parsers/mimic.py:184: DtypeWarning: Columns (9) have mixed types. Specify dtype option on import or set low_memory=False.\n",
      "  chartevents = pd.concat([pd.read_csv(path) for path in res_paths], ignore_index=True) ## concatenation of output from each chunk\n",
      "/Users/pavan/Desktop/TAU/DrugLab/src/parsers/mimic.py:184: DtypeWarning: Columns (9) have mixed types. Specify dtype option on import or set low_memory=False.\n",
      "  chartevents = pd.concat([pd.read_csv(path) for path in res_paths], ignore_index=True) ## concatenation of output from each chunk\n"
     ]
    },
    {
     "name": "stdout",
     "output_type": "stream",
     "text": [
      "Generated lab data from chartevents.\n"
     ]
    },
    {
     "name": "stderr",
     "output_type": "stream",
     "text": [
      "/Users/pavan/Desktop/TAU/DrugLab/src/parsers/mimic.py:213: FutureWarning: Inferring datetime64[ns] from data containing strings is deprecated and will be removed in a future version. To retain the old behavior explicitly pass Series(data, dtype=datetime64[ns])\n",
      "  merged_chart_lab_events = merged_chart_lab_events.groupby([\"HADM_ID\", \"ADMITTIME\", \"CHARTTIME\", \"VALUENUM\", \"MIMICExtractName\"]).nth(0).reset_index()\n"
     ]
    },
    {
     "name": "stdout",
     "output_type": "stream",
     "text": [
      "Loaded Lab data.\n"
     ]
    }
   ],
   "source": [
    "# MIMIC\n",
    "mimic_parser = mimic.MIMICParser(data=data, res=res, gender=gender, age_b=age_b, age_a=age_a, ethnicity=ethnicity, load=\"AUTOMATIC_MAPPING_MIMIC\")\n",
    "m_med1, m_med2, m_labs = mimic_parser.parse(use_pairs=False, load_from_raw=True, load_raw_chartevents=False, lab_parts=(0, 15))"
   ]
  },
  {
   "cell_type": "code",
   "execution_count": 5,
   "metadata": {},
   "outputs": [
    {
     "data": {
      "text/html": [
       "<div>\n",
       "<style scoped>\n",
       "    .dataframe tbody tr th:only-of-type {\n",
       "        vertical-align: middle;\n",
       "    }\n",
       "\n",
       "    .dataframe tbody tr th {\n",
       "        vertical-align: top;\n",
       "    }\n",
       "\n",
       "    .dataframe thead th {\n",
       "        text-align: right;\n",
       "    }\n",
       "</style>\n",
       "<table border=\"1\" class=\"dataframe\">\n",
       "  <thead>\n",
       "    <tr style=\"text-align: right;\">\n",
       "      <th></th>\n",
       "      <th>HADM_ID</th>\n",
       "      <th>ADMITTIME</th>\n",
       "      <th>CHARTTIME</th>\n",
       "      <th>VALUENUM</th>\n",
       "      <th>ITEMID</th>\n",
       "      <th>ADMISSION_LOCATION</th>\n",
       "      <th>ADMISSION_TYPE</th>\n",
       "      <th>AGE</th>\n",
       "      <th>DEATHTIME</th>\n",
       "      <th>DIAGNOSIS</th>\n",
       "      <th>...</th>\n",
       "      <th>LANGUAGE</th>\n",
       "      <th>MARITAL_STATUS</th>\n",
       "      <th>RELIGION</th>\n",
       "      <th>SUBJECT_ID</th>\n",
       "      <th>VALUE</th>\n",
       "      <th>VALUEUOM</th>\n",
       "      <th>ROW_ID_x</th>\n",
       "      <th>TABLE</th>\n",
       "      <th>LabTimeFromAdmit</th>\n",
       "      <th>hours_in</th>\n",
       "    </tr>\n",
       "  </thead>\n",
       "  <tbody>\n",
       "    <tr>\n",
       "      <th>318</th>\n",
       "      <td>100003.0</td>\n",
       "      <td>2150-04-17 15:34:00</td>\n",
       "      <td>2150-04-17 17:00:00</td>\n",
       "      <td>36.0</td>\n",
       "      <td>Diastolic blood pressure</td>\n",
       "      <td>EMERGENCY ROOM ADMIT</td>\n",
       "      <td>EMERGENCY</td>\n",
       "      <td>60.0</td>\n",
       "      <td>NaN</td>\n",
       "      <td>UPPER GI BLEED</td>\n",
       "      <td>...</td>\n",
       "      <td>ENGL</td>\n",
       "      <td>SINGLE</td>\n",
       "      <td>NOT SPECIFIED</td>\n",
       "      <td>54610</td>\n",
       "      <td>36.0</td>\n",
       "      <td>mmHg</td>\n",
       "      <td>12554654</td>\n",
       "      <td>CHARTEVENTS</td>\n",
       "      <td>0 days 01:26:00</td>\n",
       "      <td>1.433333</td>\n",
       "    </tr>\n",
       "    <tr>\n",
       "      <th>319</th>\n",
       "      <td>100003.0</td>\n",
       "      <td>2150-04-17 15:34:00</td>\n",
       "      <td>2150-04-17 17:00:00</td>\n",
       "      <td>83.0</td>\n",
       "      <td>Systolic blood pressure</td>\n",
       "      <td>EMERGENCY ROOM ADMIT</td>\n",
       "      <td>EMERGENCY</td>\n",
       "      <td>60.0</td>\n",
       "      <td>NaN</td>\n",
       "      <td>UPPER GI BLEED</td>\n",
       "      <td>...</td>\n",
       "      <td>ENGL</td>\n",
       "      <td>SINGLE</td>\n",
       "      <td>NOT SPECIFIED</td>\n",
       "      <td>54610</td>\n",
       "      <td>83.0</td>\n",
       "      <td>mmHg</td>\n",
       "      <td>12554653</td>\n",
       "      <td>CHARTEVENTS</td>\n",
       "      <td>0 days 01:26:00</td>\n",
       "      <td>1.433333</td>\n",
       "    </tr>\n",
       "    <tr>\n",
       "      <th>320</th>\n",
       "      <td>100003.0</td>\n",
       "      <td>2150-04-17 15:34:00</td>\n",
       "      <td>2150-04-17 17:51:00</td>\n",
       "      <td>71.0</td>\n",
       "      <td>Heart Rate</td>\n",
       "      <td>EMERGENCY ROOM ADMIT</td>\n",
       "      <td>EMERGENCY</td>\n",
       "      <td>60.0</td>\n",
       "      <td>NaN</td>\n",
       "      <td>UPPER GI BLEED</td>\n",
       "      <td>...</td>\n",
       "      <td>ENGL</td>\n",
       "      <td>SINGLE</td>\n",
       "      <td>NOT SPECIFIED</td>\n",
       "      <td>54610</td>\n",
       "      <td>71.0</td>\n",
       "      <td>bpm</td>\n",
       "      <td>12554658</td>\n",
       "      <td>CHARTEVENTS</td>\n",
       "      <td>0 days 02:17:00</td>\n",
       "      <td>2.283333</td>\n",
       "    </tr>\n",
       "    <tr>\n",
       "      <th>321</th>\n",
       "      <td>100003.0</td>\n",
       "      <td>2150-04-17 15:34:00</td>\n",
       "      <td>2150-04-17 17:51:00</td>\n",
       "      <td>96.0</td>\n",
       "      <td>Pulse oximetry</td>\n",
       "      <td>EMERGENCY ROOM ADMIT</td>\n",
       "      <td>EMERGENCY</td>\n",
       "      <td>60.0</td>\n",
       "      <td>NaN</td>\n",
       "      <td>UPPER GI BLEED</td>\n",
       "      <td>...</td>\n",
       "      <td>ENGL</td>\n",
       "      <td>SINGLE</td>\n",
       "      <td>NOT SPECIFIED</td>\n",
       "      <td>54610</td>\n",
       "      <td>96.0</td>\n",
       "      <td>%</td>\n",
       "      <td>12554659</td>\n",
       "      <td>CHARTEVENTS</td>\n",
       "      <td>0 days 02:17:00</td>\n",
       "      <td>2.283333</td>\n",
       "    </tr>\n",
       "    <tr>\n",
       "      <th>322</th>\n",
       "      <td>100003.0</td>\n",
       "      <td>2150-04-17 15:34:00</td>\n",
       "      <td>2150-04-17 17:52:00</td>\n",
       "      <td>11.0</td>\n",
       "      <td>Respiratory rate</td>\n",
       "      <td>EMERGENCY ROOM ADMIT</td>\n",
       "      <td>EMERGENCY</td>\n",
       "      <td>60.0</td>\n",
       "      <td>NaN</td>\n",
       "      <td>UPPER GI BLEED</td>\n",
       "      <td>...</td>\n",
       "      <td>ENGL</td>\n",
       "      <td>SINGLE</td>\n",
       "      <td>NOT SPECIFIED</td>\n",
       "      <td>54610</td>\n",
       "      <td>11.0</td>\n",
       "      <td>insp/min</td>\n",
       "      <td>12554660</td>\n",
       "      <td>CHARTEVENTS</td>\n",
       "      <td>0 days 02:18:00</td>\n",
       "      <td>2.300000</td>\n",
       "    </tr>\n",
       "    <tr>\n",
       "      <th>...</th>\n",
       "      <td>...</td>\n",
       "      <td>...</td>\n",
       "      <td>...</td>\n",
       "      <td>...</td>\n",
       "      <td>...</td>\n",
       "      <td>...</td>\n",
       "      <td>...</td>\n",
       "      <td>...</td>\n",
       "      <td>...</td>\n",
       "      <td>...</td>\n",
       "      <td>...</td>\n",
       "      <td>...</td>\n",
       "      <td>...</td>\n",
       "      <td>...</td>\n",
       "      <td>...</td>\n",
       "      <td>...</td>\n",
       "      <td>...</td>\n",
       "      <td>...</td>\n",
       "      <td>...</td>\n",
       "      <td>...</td>\n",
       "      <td>...</td>\n",
       "    </tr>\n",
       "    <tr>\n",
       "      <th>17390186</th>\n",
       "      <td>199948.0</td>\n",
       "      <td>2102-02-22 13:28:00</td>\n",
       "      <td>2102-02-26 13:00:00</td>\n",
       "      <td>97.0</td>\n",
       "      <td>Systolic blood pressure</td>\n",
       "      <td>TRANSFER FROM HOSP/EXTRAM</td>\n",
       "      <td>EMERGENCY</td>\n",
       "      <td>74.0</td>\n",
       "      <td>NaN</td>\n",
       "      <td>RECTAL PROLAPSE</td>\n",
       "      <td>...</td>\n",
       "      <td>ENGL</td>\n",
       "      <td>DIVORCED</td>\n",
       "      <td>NOT SPECIFIED</td>\n",
       "      <td>49225</td>\n",
       "      <td>97.0</td>\n",
       "      <td>mmHg</td>\n",
       "      <td>10119190</td>\n",
       "      <td>CHARTEVENTS</td>\n",
       "      <td>3 days 23:32:00</td>\n",
       "      <td>95.533333</td>\n",
       "    </tr>\n",
       "    <tr>\n",
       "      <th>17390187</th>\n",
       "      <td>199948.0</td>\n",
       "      <td>2102-02-22 13:28:00</td>\n",
       "      <td>2102-02-26 13:00:00</td>\n",
       "      <td>122.0</td>\n",
       "      <td>Systolic blood pressure</td>\n",
       "      <td>TRANSFER FROM HOSP/EXTRAM</td>\n",
       "      <td>EMERGENCY</td>\n",
       "      <td>74.0</td>\n",
       "      <td>NaN</td>\n",
       "      <td>RECTAL PROLAPSE</td>\n",
       "      <td>...</td>\n",
       "      <td>ENGL</td>\n",
       "      <td>DIVORCED</td>\n",
       "      <td>NOT SPECIFIED</td>\n",
       "      <td>49225</td>\n",
       "      <td>122.0</td>\n",
       "      <td>mmHg</td>\n",
       "      <td>10119195</td>\n",
       "      <td>CHARTEVENTS</td>\n",
       "      <td>3 days 23:32:00</td>\n",
       "      <td>95.533333</td>\n",
       "    </tr>\n",
       "    <tr>\n",
       "      <th>17390188</th>\n",
       "      <td>199948.0</td>\n",
       "      <td>2102-02-22 13:28:00</td>\n",
       "      <td>2102-02-26 14:00:00</td>\n",
       "      <td>52.0</td>\n",
       "      <td>Diastolic blood pressure</td>\n",
       "      <td>TRANSFER FROM HOSP/EXTRAM</td>\n",
       "      <td>EMERGENCY</td>\n",
       "      <td>74.0</td>\n",
       "      <td>NaN</td>\n",
       "      <td>RECTAL PROLAPSE</td>\n",
       "      <td>...</td>\n",
       "      <td>ENGL</td>\n",
       "      <td>DIVORCED</td>\n",
       "      <td>NOT SPECIFIED</td>\n",
       "      <td>49225</td>\n",
       "      <td>52.0</td>\n",
       "      <td>mmHg</td>\n",
       "      <td>10119199</td>\n",
       "      <td>CHARTEVENTS</td>\n",
       "      <td>4 days 00:32:00</td>\n",
       "      <td>96.533333</td>\n",
       "    </tr>\n",
       "    <tr>\n",
       "      <th>17390189</th>\n",
       "      <td>199948.0</td>\n",
       "      <td>2102-02-22 13:28:00</td>\n",
       "      <td>2102-02-26 14:00:00</td>\n",
       "      <td>94.0</td>\n",
       "      <td>Systolic blood pressure</td>\n",
       "      <td>TRANSFER FROM HOSP/EXTRAM</td>\n",
       "      <td>EMERGENCY</td>\n",
       "      <td>74.0</td>\n",
       "      <td>NaN</td>\n",
       "      <td>RECTAL PROLAPSE</td>\n",
       "      <td>...</td>\n",
       "      <td>ENGL</td>\n",
       "      <td>DIVORCED</td>\n",
       "      <td>NOT SPECIFIED</td>\n",
       "      <td>49225</td>\n",
       "      <td>94.0</td>\n",
       "      <td>mmHg</td>\n",
       "      <td>10119198</td>\n",
       "      <td>CHARTEVENTS</td>\n",
       "      <td>4 days 00:32:00</td>\n",
       "      <td>96.533333</td>\n",
       "    </tr>\n",
       "    <tr>\n",
       "      <th>17390190</th>\n",
       "      <td>199948.0</td>\n",
       "      <td>2102-02-22 13:28:00</td>\n",
       "      <td>2102-02-24 18:32:00</td>\n",
       "      <td>98.0</td>\n",
       "      <td>Oxygen saturation</td>\n",
       "      <td>TRANSFER FROM HOSP/EXTRAM</td>\n",
       "      <td>EMERGENCY</td>\n",
       "      <td>74.0</td>\n",
       "      <td>NaN</td>\n",
       "      <td>RECTAL PROLAPSE</td>\n",
       "      <td>...</td>\n",
       "      <td>ENGL</td>\n",
       "      <td>DIVORCED</td>\n",
       "      <td>NOT SPECIFIED</td>\n",
       "      <td>49225</td>\n",
       "      <td>98</td>\n",
       "      <td>%</td>\n",
       "      <td>21124698</td>\n",
       "      <td>LABEVENTS</td>\n",
       "      <td>2 days 05:04:00</td>\n",
       "      <td>53.066667</td>\n",
       "    </tr>\n",
       "  </tbody>\n",
       "</table>\n",
       "<p>5480670 rows × 35 columns</p>\n",
       "</div>"
      ],
      "text/plain": [
       "           HADM_ID           ADMITTIME           CHARTTIME  VALUENUM  \\\n",
       "318       100003.0 2150-04-17 15:34:00 2150-04-17 17:00:00      36.0   \n",
       "319       100003.0 2150-04-17 15:34:00 2150-04-17 17:00:00      83.0   \n",
       "320       100003.0 2150-04-17 15:34:00 2150-04-17 17:51:00      71.0   \n",
       "321       100003.0 2150-04-17 15:34:00 2150-04-17 17:51:00      96.0   \n",
       "322       100003.0 2150-04-17 15:34:00 2150-04-17 17:52:00      11.0   \n",
       "...            ...                 ...                 ...       ...   \n",
       "17390186  199948.0 2102-02-22 13:28:00 2102-02-26 13:00:00      97.0   \n",
       "17390187  199948.0 2102-02-22 13:28:00 2102-02-26 13:00:00     122.0   \n",
       "17390188  199948.0 2102-02-22 13:28:00 2102-02-26 14:00:00      52.0   \n",
       "17390189  199948.0 2102-02-22 13:28:00 2102-02-26 14:00:00      94.0   \n",
       "17390190  199948.0 2102-02-22 13:28:00 2102-02-24 18:32:00      98.0   \n",
       "\n",
       "                            ITEMID         ADMISSION_LOCATION ADMISSION_TYPE  \\\n",
       "318       Diastolic blood pressure       EMERGENCY ROOM ADMIT      EMERGENCY   \n",
       "319        Systolic blood pressure       EMERGENCY ROOM ADMIT      EMERGENCY   \n",
       "320                     Heart Rate       EMERGENCY ROOM ADMIT      EMERGENCY   \n",
       "321                 Pulse oximetry       EMERGENCY ROOM ADMIT      EMERGENCY   \n",
       "322               Respiratory rate       EMERGENCY ROOM ADMIT      EMERGENCY   \n",
       "...                            ...                        ...            ...   \n",
       "17390186   Systolic blood pressure  TRANSFER FROM HOSP/EXTRAM      EMERGENCY   \n",
       "17390187   Systolic blood pressure  TRANSFER FROM HOSP/EXTRAM      EMERGENCY   \n",
       "17390188  Diastolic blood pressure  TRANSFER FROM HOSP/EXTRAM      EMERGENCY   \n",
       "17390189   Systolic blood pressure  TRANSFER FROM HOSP/EXTRAM      EMERGENCY   \n",
       "17390190         Oxygen saturation  TRANSFER FROM HOSP/EXTRAM      EMERGENCY   \n",
       "\n",
       "           AGE DEATHTIME        DIAGNOSIS  ... LANGUAGE MARITAL_STATUS  \\\n",
       "318       60.0       NaN   UPPER GI BLEED  ...     ENGL         SINGLE   \n",
       "319       60.0       NaN   UPPER GI BLEED  ...     ENGL         SINGLE   \n",
       "320       60.0       NaN   UPPER GI BLEED  ...     ENGL         SINGLE   \n",
       "321       60.0       NaN   UPPER GI BLEED  ...     ENGL         SINGLE   \n",
       "322       60.0       NaN   UPPER GI BLEED  ...     ENGL         SINGLE   \n",
       "...        ...       ...              ...  ...      ...            ...   \n",
       "17390186  74.0       NaN  RECTAL PROLAPSE  ...     ENGL       DIVORCED   \n",
       "17390187  74.0       NaN  RECTAL PROLAPSE  ...     ENGL       DIVORCED   \n",
       "17390188  74.0       NaN  RECTAL PROLAPSE  ...     ENGL       DIVORCED   \n",
       "17390189  74.0       NaN  RECTAL PROLAPSE  ...     ENGL       DIVORCED   \n",
       "17390190  74.0       NaN  RECTAL PROLAPSE  ...     ENGL       DIVORCED   \n",
       "\n",
       "               RELIGION SUBJECT_ID  VALUE  VALUEUOM  ROW_ID_x        TABLE  \\\n",
       "318       NOT SPECIFIED      54610   36.0      mmHg  12554654  CHARTEVENTS   \n",
       "319       NOT SPECIFIED      54610   83.0      mmHg  12554653  CHARTEVENTS   \n",
       "320       NOT SPECIFIED      54610   71.0       bpm  12554658  CHARTEVENTS   \n",
       "321       NOT SPECIFIED      54610   96.0         %  12554659  CHARTEVENTS   \n",
       "322       NOT SPECIFIED      54610   11.0  insp/min  12554660  CHARTEVENTS   \n",
       "...                 ...        ...    ...       ...       ...          ...   \n",
       "17390186  NOT SPECIFIED      49225   97.0      mmHg  10119190  CHARTEVENTS   \n",
       "17390187  NOT SPECIFIED      49225  122.0      mmHg  10119195  CHARTEVENTS   \n",
       "17390188  NOT SPECIFIED      49225   52.0      mmHg  10119199  CHARTEVENTS   \n",
       "17390189  NOT SPECIFIED      49225   94.0      mmHg  10119198  CHARTEVENTS   \n",
       "17390190  NOT SPECIFIED      49225     98         %  21124698    LABEVENTS   \n",
       "\n",
       "         LabTimeFromAdmit   hours_in  \n",
       "318       0 days 01:26:00   1.433333  \n",
       "319       0 days 01:26:00   1.433333  \n",
       "320       0 days 02:17:00   2.283333  \n",
       "321       0 days 02:17:00   2.283333  \n",
       "322       0 days 02:18:00   2.300000  \n",
       "...                   ...        ...  \n",
       "17390186  3 days 23:32:00  95.533333  \n",
       "17390187  3 days 23:32:00  95.533333  \n",
       "17390188  4 days 00:32:00  96.533333  \n",
       "17390189  4 days 00:32:00  96.533333  \n",
       "17390190  2 days 05:04:00  53.066667  \n",
       "\n",
       "[5480670 rows x 35 columns]"
      ]
     },
     "execution_count": 5,
     "metadata": {},
     "output_type": "execute_result"
    }
   ],
   "source": [
    "m_labs"
   ]
  },
  {
   "cell_type": "code",
   "execution_count": 6,
   "metadata": {},
   "outputs": [
    {
     "data": {
      "text/html": [
       "<div>\n",
       "<style scoped>\n",
       "    .dataframe tbody tr th:only-of-type {\n",
       "        vertical-align: middle;\n",
       "    }\n",
       "\n",
       "    .dataframe tbody tr th {\n",
       "        vertical-align: top;\n",
       "    }\n",
       "\n",
       "    .dataframe thead th {\n",
       "        text-align: right;\n",
       "    }\n",
       "</style>\n",
       "<table border=\"1\" class=\"dataframe\">\n",
       "  <thead>\n",
       "    <tr style=\"text-align: right;\">\n",
       "      <th></th>\n",
       "      <th>HADM_ID</th>\n",
       "      <th>ADMITTIME</th>\n",
       "      <th>CHARTTIME</th>\n",
       "      <th>VALUENUM</th>\n",
       "      <th>ITEMID</th>\n",
       "      <th>ADMISSION_LOCATION</th>\n",
       "      <th>ADMISSION_TYPE</th>\n",
       "      <th>AGE</th>\n",
       "      <th>DEATHTIME</th>\n",
       "      <th>DIAGNOSIS</th>\n",
       "      <th>...</th>\n",
       "      <th>LANGUAGE</th>\n",
       "      <th>MARITAL_STATUS</th>\n",
       "      <th>RELIGION</th>\n",
       "      <th>SUBJECT_ID</th>\n",
       "      <th>VALUE</th>\n",
       "      <th>VALUEUOM</th>\n",
       "      <th>ROW_ID_x</th>\n",
       "      <th>TABLE</th>\n",
       "      <th>LabTimeFromAdmit</th>\n",
       "      <th>hours_in</th>\n",
       "    </tr>\n",
       "  </thead>\n",
       "  <tbody>\n",
       "    <tr>\n",
       "      <th>0</th>\n",
       "      <td>100003.0</td>\n",
       "      <td>2150-04-17 15:34:00</td>\n",
       "      <td>2150-04-17 17:00:00</td>\n",
       "      <td>36.0</td>\n",
       "      <td>Diastolic blood pressure</td>\n",
       "      <td>EMERGENCY ROOM ADMIT</td>\n",
       "      <td>EMERGENCY</td>\n",
       "      <td>60.0</td>\n",
       "      <td>NaN</td>\n",
       "      <td>UPPER GI BLEED</td>\n",
       "      <td>...</td>\n",
       "      <td>ENGL</td>\n",
       "      <td>SINGLE</td>\n",
       "      <td>NOT SPECIFIED</td>\n",
       "      <td>54610</td>\n",
       "      <td>36.0</td>\n",
       "      <td>mmHg</td>\n",
       "      <td>12554654</td>\n",
       "      <td>CHARTEVENTS</td>\n",
       "      <td>0 days 01:26:00</td>\n",
       "      <td>1.433333</td>\n",
       "    </tr>\n",
       "    <tr>\n",
       "      <th>1</th>\n",
       "      <td>100003.0</td>\n",
       "      <td>2150-04-17 15:34:00</td>\n",
       "      <td>2150-04-17 17:00:00</td>\n",
       "      <td>83.0</td>\n",
       "      <td>Systolic blood pressure</td>\n",
       "      <td>EMERGENCY ROOM ADMIT</td>\n",
       "      <td>EMERGENCY</td>\n",
       "      <td>60.0</td>\n",
       "      <td>NaN</td>\n",
       "      <td>UPPER GI BLEED</td>\n",
       "      <td>...</td>\n",
       "      <td>ENGL</td>\n",
       "      <td>SINGLE</td>\n",
       "      <td>NOT SPECIFIED</td>\n",
       "      <td>54610</td>\n",
       "      <td>83.0</td>\n",
       "      <td>mmHg</td>\n",
       "      <td>12554653</td>\n",
       "      <td>CHARTEVENTS</td>\n",
       "      <td>0 days 01:26:00</td>\n",
       "      <td>1.433333</td>\n",
       "    </tr>\n",
       "    <tr>\n",
       "      <th>2</th>\n",
       "      <td>100003.0</td>\n",
       "      <td>2150-04-17 15:34:00</td>\n",
       "      <td>2150-04-17 17:51:00</td>\n",
       "      <td>71.0</td>\n",
       "      <td>Heart Rate</td>\n",
       "      <td>EMERGENCY ROOM ADMIT</td>\n",
       "      <td>EMERGENCY</td>\n",
       "      <td>60.0</td>\n",
       "      <td>NaN</td>\n",
       "      <td>UPPER GI BLEED</td>\n",
       "      <td>...</td>\n",
       "      <td>ENGL</td>\n",
       "      <td>SINGLE</td>\n",
       "      <td>NOT SPECIFIED</td>\n",
       "      <td>54610</td>\n",
       "      <td>71.0</td>\n",
       "      <td>bpm</td>\n",
       "      <td>12554658</td>\n",
       "      <td>CHARTEVENTS</td>\n",
       "      <td>0 days 02:17:00</td>\n",
       "      <td>2.283333</td>\n",
       "    </tr>\n",
       "    <tr>\n",
       "      <th>3</th>\n",
       "      <td>100003.0</td>\n",
       "      <td>2150-04-17 15:34:00</td>\n",
       "      <td>2150-04-17 17:51:00</td>\n",
       "      <td>96.0</td>\n",
       "      <td>Pulse oximetry</td>\n",
       "      <td>EMERGENCY ROOM ADMIT</td>\n",
       "      <td>EMERGENCY</td>\n",
       "      <td>60.0</td>\n",
       "      <td>NaN</td>\n",
       "      <td>UPPER GI BLEED</td>\n",
       "      <td>...</td>\n",
       "      <td>ENGL</td>\n",
       "      <td>SINGLE</td>\n",
       "      <td>NOT SPECIFIED</td>\n",
       "      <td>54610</td>\n",
       "      <td>96.0</td>\n",
       "      <td>%</td>\n",
       "      <td>12554659</td>\n",
       "      <td>CHARTEVENTS</td>\n",
       "      <td>0 days 02:17:00</td>\n",
       "      <td>2.283333</td>\n",
       "    </tr>\n",
       "    <tr>\n",
       "      <th>4</th>\n",
       "      <td>100003.0</td>\n",
       "      <td>2150-04-17 15:34:00</td>\n",
       "      <td>2150-04-17 17:52:00</td>\n",
       "      <td>11.0</td>\n",
       "      <td>Respiratory rate</td>\n",
       "      <td>EMERGENCY ROOM ADMIT</td>\n",
       "      <td>EMERGENCY</td>\n",
       "      <td>60.0</td>\n",
       "      <td>NaN</td>\n",
       "      <td>UPPER GI BLEED</td>\n",
       "      <td>...</td>\n",
       "      <td>ENGL</td>\n",
       "      <td>SINGLE</td>\n",
       "      <td>NOT SPECIFIED</td>\n",
       "      <td>54610</td>\n",
       "      <td>11.0</td>\n",
       "      <td>insp/min</td>\n",
       "      <td>12554660</td>\n",
       "      <td>CHARTEVENTS</td>\n",
       "      <td>0 days 02:18:00</td>\n",
       "      <td>2.300000</td>\n",
       "    </tr>\n",
       "    <tr>\n",
       "      <th>...</th>\n",
       "      <td>...</td>\n",
       "      <td>...</td>\n",
       "      <td>...</td>\n",
       "      <td>...</td>\n",
       "      <td>...</td>\n",
       "      <td>...</td>\n",
       "      <td>...</td>\n",
       "      <td>...</td>\n",
       "      <td>...</td>\n",
       "      <td>...</td>\n",
       "      <td>...</td>\n",
       "      <td>...</td>\n",
       "      <td>...</td>\n",
       "      <td>...</td>\n",
       "      <td>...</td>\n",
       "      <td>...</td>\n",
       "      <td>...</td>\n",
       "      <td>...</td>\n",
       "      <td>...</td>\n",
       "      <td>...</td>\n",
       "      <td>...</td>\n",
       "    </tr>\n",
       "    <tr>\n",
       "      <th>5480665</th>\n",
       "      <td>199948.0</td>\n",
       "      <td>2102-02-22 13:28:00</td>\n",
       "      <td>2102-02-26 13:00:00</td>\n",
       "      <td>97.0</td>\n",
       "      <td>Systolic blood pressure</td>\n",
       "      <td>TRANSFER FROM HOSP/EXTRAM</td>\n",
       "      <td>EMERGENCY</td>\n",
       "      <td>74.0</td>\n",
       "      <td>NaN</td>\n",
       "      <td>RECTAL PROLAPSE</td>\n",
       "      <td>...</td>\n",
       "      <td>ENGL</td>\n",
       "      <td>DIVORCED</td>\n",
       "      <td>NOT SPECIFIED</td>\n",
       "      <td>49225</td>\n",
       "      <td>97.0</td>\n",
       "      <td>mmHg</td>\n",
       "      <td>10119190</td>\n",
       "      <td>CHARTEVENTS</td>\n",
       "      <td>3 days 23:32:00</td>\n",
       "      <td>95.533333</td>\n",
       "    </tr>\n",
       "    <tr>\n",
       "      <th>5480666</th>\n",
       "      <td>199948.0</td>\n",
       "      <td>2102-02-22 13:28:00</td>\n",
       "      <td>2102-02-26 13:00:00</td>\n",
       "      <td>122.0</td>\n",
       "      <td>Systolic blood pressure</td>\n",
       "      <td>TRANSFER FROM HOSP/EXTRAM</td>\n",
       "      <td>EMERGENCY</td>\n",
       "      <td>74.0</td>\n",
       "      <td>NaN</td>\n",
       "      <td>RECTAL PROLAPSE</td>\n",
       "      <td>...</td>\n",
       "      <td>ENGL</td>\n",
       "      <td>DIVORCED</td>\n",
       "      <td>NOT SPECIFIED</td>\n",
       "      <td>49225</td>\n",
       "      <td>122.0</td>\n",
       "      <td>mmHg</td>\n",
       "      <td>10119195</td>\n",
       "      <td>CHARTEVENTS</td>\n",
       "      <td>3 days 23:32:00</td>\n",
       "      <td>95.533333</td>\n",
       "    </tr>\n",
       "    <tr>\n",
       "      <th>5480667</th>\n",
       "      <td>199948.0</td>\n",
       "      <td>2102-02-22 13:28:00</td>\n",
       "      <td>2102-02-26 14:00:00</td>\n",
       "      <td>52.0</td>\n",
       "      <td>Diastolic blood pressure</td>\n",
       "      <td>TRANSFER FROM HOSP/EXTRAM</td>\n",
       "      <td>EMERGENCY</td>\n",
       "      <td>74.0</td>\n",
       "      <td>NaN</td>\n",
       "      <td>RECTAL PROLAPSE</td>\n",
       "      <td>...</td>\n",
       "      <td>ENGL</td>\n",
       "      <td>DIVORCED</td>\n",
       "      <td>NOT SPECIFIED</td>\n",
       "      <td>49225</td>\n",
       "      <td>52.0</td>\n",
       "      <td>mmHg</td>\n",
       "      <td>10119199</td>\n",
       "      <td>CHARTEVENTS</td>\n",
       "      <td>4 days 00:32:00</td>\n",
       "      <td>96.533333</td>\n",
       "    </tr>\n",
       "    <tr>\n",
       "      <th>5480668</th>\n",
       "      <td>199948.0</td>\n",
       "      <td>2102-02-22 13:28:00</td>\n",
       "      <td>2102-02-26 14:00:00</td>\n",
       "      <td>94.0</td>\n",
       "      <td>Systolic blood pressure</td>\n",
       "      <td>TRANSFER FROM HOSP/EXTRAM</td>\n",
       "      <td>EMERGENCY</td>\n",
       "      <td>74.0</td>\n",
       "      <td>NaN</td>\n",
       "      <td>RECTAL PROLAPSE</td>\n",
       "      <td>...</td>\n",
       "      <td>ENGL</td>\n",
       "      <td>DIVORCED</td>\n",
       "      <td>NOT SPECIFIED</td>\n",
       "      <td>49225</td>\n",
       "      <td>94.0</td>\n",
       "      <td>mmHg</td>\n",
       "      <td>10119198</td>\n",
       "      <td>CHARTEVENTS</td>\n",
       "      <td>4 days 00:32:00</td>\n",
       "      <td>96.533333</td>\n",
       "    </tr>\n",
       "    <tr>\n",
       "      <th>5480669</th>\n",
       "      <td>199948.0</td>\n",
       "      <td>2102-02-22 13:28:00</td>\n",
       "      <td>2102-02-24 18:32:00</td>\n",
       "      <td>98.0</td>\n",
       "      <td>Oxygen saturation</td>\n",
       "      <td>TRANSFER FROM HOSP/EXTRAM</td>\n",
       "      <td>EMERGENCY</td>\n",
       "      <td>74.0</td>\n",
       "      <td>NaN</td>\n",
       "      <td>RECTAL PROLAPSE</td>\n",
       "      <td>...</td>\n",
       "      <td>ENGL</td>\n",
       "      <td>DIVORCED</td>\n",
       "      <td>NOT SPECIFIED</td>\n",
       "      <td>49225</td>\n",
       "      <td>98</td>\n",
       "      <td>%</td>\n",
       "      <td>21124698</td>\n",
       "      <td>LABEVENTS</td>\n",
       "      <td>2 days 05:04:00</td>\n",
       "      <td>53.066667</td>\n",
       "    </tr>\n",
       "  </tbody>\n",
       "</table>\n",
       "<p>5480670 rows × 35 columns</p>\n",
       "</div>"
      ],
      "text/plain": [
       "          HADM_ID           ADMITTIME           CHARTTIME  VALUENUM  \\\n",
       "0        100003.0 2150-04-17 15:34:00 2150-04-17 17:00:00      36.0   \n",
       "1        100003.0 2150-04-17 15:34:00 2150-04-17 17:00:00      83.0   \n",
       "2        100003.0 2150-04-17 15:34:00 2150-04-17 17:51:00      71.0   \n",
       "3        100003.0 2150-04-17 15:34:00 2150-04-17 17:51:00      96.0   \n",
       "4        100003.0 2150-04-17 15:34:00 2150-04-17 17:52:00      11.0   \n",
       "...           ...                 ...                 ...       ...   \n",
       "5480665  199948.0 2102-02-22 13:28:00 2102-02-26 13:00:00      97.0   \n",
       "5480666  199948.0 2102-02-22 13:28:00 2102-02-26 13:00:00     122.0   \n",
       "5480667  199948.0 2102-02-22 13:28:00 2102-02-26 14:00:00      52.0   \n",
       "5480668  199948.0 2102-02-22 13:28:00 2102-02-26 14:00:00      94.0   \n",
       "5480669  199948.0 2102-02-22 13:28:00 2102-02-24 18:32:00      98.0   \n",
       "\n",
       "                           ITEMID         ADMISSION_LOCATION ADMISSION_TYPE  \\\n",
       "0        Diastolic blood pressure       EMERGENCY ROOM ADMIT      EMERGENCY   \n",
       "1         Systolic blood pressure       EMERGENCY ROOM ADMIT      EMERGENCY   \n",
       "2                      Heart Rate       EMERGENCY ROOM ADMIT      EMERGENCY   \n",
       "3                  Pulse oximetry       EMERGENCY ROOM ADMIT      EMERGENCY   \n",
       "4                Respiratory rate       EMERGENCY ROOM ADMIT      EMERGENCY   \n",
       "...                           ...                        ...            ...   \n",
       "5480665   Systolic blood pressure  TRANSFER FROM HOSP/EXTRAM      EMERGENCY   \n",
       "5480666   Systolic blood pressure  TRANSFER FROM HOSP/EXTRAM      EMERGENCY   \n",
       "5480667  Diastolic blood pressure  TRANSFER FROM HOSP/EXTRAM      EMERGENCY   \n",
       "5480668   Systolic blood pressure  TRANSFER FROM HOSP/EXTRAM      EMERGENCY   \n",
       "5480669         Oxygen saturation  TRANSFER FROM HOSP/EXTRAM      EMERGENCY   \n",
       "\n",
       "          AGE DEATHTIME        DIAGNOSIS  ... LANGUAGE MARITAL_STATUS  \\\n",
       "0        60.0       NaN   UPPER GI BLEED  ...     ENGL         SINGLE   \n",
       "1        60.0       NaN   UPPER GI BLEED  ...     ENGL         SINGLE   \n",
       "2        60.0       NaN   UPPER GI BLEED  ...     ENGL         SINGLE   \n",
       "3        60.0       NaN   UPPER GI BLEED  ...     ENGL         SINGLE   \n",
       "4        60.0       NaN   UPPER GI BLEED  ...     ENGL         SINGLE   \n",
       "...       ...       ...              ...  ...      ...            ...   \n",
       "5480665  74.0       NaN  RECTAL PROLAPSE  ...     ENGL       DIVORCED   \n",
       "5480666  74.0       NaN  RECTAL PROLAPSE  ...     ENGL       DIVORCED   \n",
       "5480667  74.0       NaN  RECTAL PROLAPSE  ...     ENGL       DIVORCED   \n",
       "5480668  74.0       NaN  RECTAL PROLAPSE  ...     ENGL       DIVORCED   \n",
       "5480669  74.0       NaN  RECTAL PROLAPSE  ...     ENGL       DIVORCED   \n",
       "\n",
       "              RELIGION SUBJECT_ID  VALUE  VALUEUOM  ROW_ID_x        TABLE  \\\n",
       "0        NOT SPECIFIED      54610   36.0      mmHg  12554654  CHARTEVENTS   \n",
       "1        NOT SPECIFIED      54610   83.0      mmHg  12554653  CHARTEVENTS   \n",
       "2        NOT SPECIFIED      54610   71.0       bpm  12554658  CHARTEVENTS   \n",
       "3        NOT SPECIFIED      54610   96.0         %  12554659  CHARTEVENTS   \n",
       "4        NOT SPECIFIED      54610   11.0  insp/min  12554660  CHARTEVENTS   \n",
       "...                ...        ...    ...       ...       ...          ...   \n",
       "5480665  NOT SPECIFIED      49225   97.0      mmHg  10119190  CHARTEVENTS   \n",
       "5480666  NOT SPECIFIED      49225  122.0      mmHg  10119195  CHARTEVENTS   \n",
       "5480667  NOT SPECIFIED      49225   52.0      mmHg  10119199  CHARTEVENTS   \n",
       "5480668  NOT SPECIFIED      49225   94.0      mmHg  10119198  CHARTEVENTS   \n",
       "5480669  NOT SPECIFIED      49225     98         %  21124698    LABEVENTS   \n",
       "\n",
       "        LabTimeFromAdmit   hours_in  \n",
       "0        0 days 01:26:00   1.433333  \n",
       "1        0 days 01:26:00   1.433333  \n",
       "2        0 days 02:17:00   2.283333  \n",
       "3        0 days 02:17:00   2.283333  \n",
       "4        0 days 02:18:00   2.300000  \n",
       "...                  ...        ...  \n",
       "5480665  3 days 23:32:00  95.533333  \n",
       "5480666  3 days 23:32:00  95.533333  \n",
       "5480667  4 days 00:32:00  96.533333  \n",
       "5480668  4 days 00:32:00  96.533333  \n",
       "5480669  2 days 05:04:00  53.066667  \n",
       "\n",
       "[5480670 rows x 35 columns]"
      ]
     },
     "execution_count": 6,
     "metadata": {},
     "output_type": "execute_result"
    }
   ],
   "source": [
    "m_labs = m_labs.reset_index().drop(columns=[\"index\"])\n",
    "m_labs"
   ]
  },
  {
   "cell_type": "code",
   "execution_count": 9,
   "metadata": {},
   "outputs": [
    {
     "data": {
      "text/plain": [
       "Temperature (C)               31174\n",
       "Oxygen saturation             34479\n",
       "Temperature (F)              194146\n",
       "Diastolic blood pressure     951084\n",
       "Systolic blood pressure      953738\n",
       "Pulse oximetry               991343\n",
       "Heart Rate                  1025638\n",
       "Respiratory rate            1299068\n",
       "Name: ITEMID, dtype: int64"
      ]
     },
     "execution_count": 9,
     "metadata": {},
     "output_type": "execute_result"
    }
   ],
   "source": [
    "m_labs.ITEMID.value_counts(ascending=True)"
   ]
  },
  {
   "cell_type": "code",
   "execution_count": 10,
   "metadata": {},
   "outputs": [
    {
     "name": "stdout",
     "output_type": "stream",
     "text": [
      "Starting pairs generation for Temperature (C)....\n"
     ]
    },
    {
     "ename": "KeyboardInterrupt",
     "evalue": "",
     "output_type": "error",
     "traceback": [
      "\u001b[0;31m---------------------------------------------------------------------------\u001b[0m",
      "\u001b[0;31mKeyboardInterrupt\u001b[0m                         Traceback (most recent call last)",
      "Cell \u001b[0;32mIn[10], line 19\u001b[0m\n\u001b[1;32m      6\u001b[0m mimic_data_querier \u001b[39m=\u001b[39m querier\u001b[39m.\u001b[39mDatasetQuerier(\n\u001b[1;32m      7\u001b[0m     data \u001b[39m=\u001b[39m data,\n\u001b[1;32m      8\u001b[0m     res \u001b[39m=\u001b[39m res,\n\u001b[0;32m   (...)\u001b[0m\n\u001b[1;32m     16\u001b[0m     lab_mapping\u001b[39m=\u001b[39mlab_mapping\n\u001b[1;32m     17\u001b[0m )\n\u001b[1;32m     18\u001b[0m \u001b[39m# query pairs for all medication and lab tests\u001b[39;00m\n\u001b[0;32m---> 19\u001b[0m res_dict[labs] \u001b[39m=\u001b[39m mimic_data_querier\u001b[39m.\u001b[39;49mgenerate_med_lab_data(before_windows, after_windows, lab_parts\u001b[39m=\u001b[39;49m\u001b[39mf\u001b[39;49m\u001b[39m\"\u001b[39;49m\u001b[39m{\u001b[39;49;00mlabs\u001b[39m}\u001b[39;49;00m\u001b[39m_(0,15)\u001b[39;49m\u001b[39m\"\u001b[39;49m)\n\u001b[1;32m     20\u001b[0m \u001b[39mprint\u001b[39m(\u001b[39mf\u001b[39m\u001b[39m\"\u001b[39m\u001b[39mPairs generated for \u001b[39m\u001b[39m{\u001b[39;00mlabs\u001b[39m}\u001b[39;00m\u001b[39m.\u001b[39m\u001b[39m\"\u001b[39m)\n",
      "File \u001b[0;32m~/Desktop/TAU/DrugLab/src/modeling/querier.py:119\u001b[0m, in \u001b[0;36mDatasetQuerier.generate_med_lab_data\u001b[0;34m(self, before_windows, after_windows, lab_parts)\u001b[0m\n\u001b[1;32m    116\u001b[0m cols\u001b[39m.\u001b[39mextend(cols_a)\n\u001b[1;32m    117\u001b[0m temp \u001b[39m=\u001b[39m t_med1\u001b[39m.\u001b[39mcopy()\n\u001b[0;32m--> 119\u001b[0m \u001b[39mself\u001b[39m\u001b[39m.\u001b[39mtemp \u001b[39m=\u001b[39m temp\u001b[39m.\u001b[39;49mapply(\u001b[39mlambda\u001b[39;49;00m r : \u001b[39mself\u001b[39;49m\u001b[39m.\u001b[39;49mget_vals(r, t_labs, t_med1, t_med2, before_windows, after_windows), axis\u001b[39m=\u001b[39;49m\u001b[39m1\u001b[39;49m)\n\u001b[1;32m    120\u001b[0m \u001b[39mself\u001b[39m\u001b[39m.\u001b[39mtemp\u001b[39m.\u001b[39mto_csv(os\u001b[39m.\u001b[39mpath\u001b[39m.\u001b[39mjoin(\u001b[39mself\u001b[39m\u001b[39m.\u001b[39mres, \u001b[39mf\u001b[39m\u001b[39m\"\u001b[39m\u001b[39mbefore_after_windows_main_med_lab_first_val_\u001b[39m\u001b[39m{\u001b[39;00m\u001b[39mself\u001b[39m\u001b[39m.\u001b[39mstratify_prefix\u001b[39m}\u001b[39;00m\u001b[39m_doc_eval_new_win_\u001b[39m\u001b[39m{\u001b[39;00mlab_parts\u001b[39m}\u001b[39;00m\u001b[39m.csv\u001b[39m\u001b[39m\"\u001b[39m))\n\u001b[1;32m    122\u001b[0m col_vals \u001b[39m=\u001b[39m []\n",
      "File \u001b[0;32m~/Desktop/TAU/DrugLab/venv/lib/python3.9/site-packages/pandas/core/frame.py:9568\u001b[0m, in \u001b[0;36mDataFrame.apply\u001b[0;34m(self, func, axis, raw, result_type, args, **kwargs)\u001b[0m\n\u001b[1;32m   9557\u001b[0m \u001b[39mfrom\u001b[39;00m \u001b[39mpandas\u001b[39;00m\u001b[39m.\u001b[39;00m\u001b[39mcore\u001b[39;00m\u001b[39m.\u001b[39;00m\u001b[39mapply\u001b[39;00m \u001b[39mimport\u001b[39;00m frame_apply\n\u001b[1;32m   9559\u001b[0m op \u001b[39m=\u001b[39m frame_apply(\n\u001b[1;32m   9560\u001b[0m     \u001b[39mself\u001b[39m,\n\u001b[1;32m   9561\u001b[0m     func\u001b[39m=\u001b[39mfunc,\n\u001b[0;32m   (...)\u001b[0m\n\u001b[1;32m   9566\u001b[0m     kwargs\u001b[39m=\u001b[39mkwargs,\n\u001b[1;32m   9567\u001b[0m )\n\u001b[0;32m-> 9568\u001b[0m \u001b[39mreturn\u001b[39;00m op\u001b[39m.\u001b[39;49mapply()\u001b[39m.\u001b[39m__finalize__(\u001b[39mself\u001b[39m, method\u001b[39m=\u001b[39m\u001b[39m\"\u001b[39m\u001b[39mapply\u001b[39m\u001b[39m\"\u001b[39m)\n",
      "File \u001b[0;32m~/Desktop/TAU/DrugLab/venv/lib/python3.9/site-packages/pandas/core/apply.py:764\u001b[0m, in \u001b[0;36mFrameApply.apply\u001b[0;34m(self)\u001b[0m\n\u001b[1;32m    761\u001b[0m \u001b[39melif\u001b[39;00m \u001b[39mself\u001b[39m\u001b[39m.\u001b[39mraw:\n\u001b[1;32m    762\u001b[0m     \u001b[39mreturn\u001b[39;00m \u001b[39mself\u001b[39m\u001b[39m.\u001b[39mapply_raw()\n\u001b[0;32m--> 764\u001b[0m \u001b[39mreturn\u001b[39;00m \u001b[39mself\u001b[39;49m\u001b[39m.\u001b[39;49mapply_standard()\n",
      "File \u001b[0;32m~/Desktop/TAU/DrugLab/venv/lib/python3.9/site-packages/pandas/core/apply.py:891\u001b[0m, in \u001b[0;36mFrameApply.apply_standard\u001b[0;34m(self)\u001b[0m\n\u001b[1;32m    890\u001b[0m \u001b[39mdef\u001b[39;00m \u001b[39mapply_standard\u001b[39m(\u001b[39mself\u001b[39m):\n\u001b[0;32m--> 891\u001b[0m     results, res_index \u001b[39m=\u001b[39m \u001b[39mself\u001b[39;49m\u001b[39m.\u001b[39;49mapply_series_generator()\n\u001b[1;32m    893\u001b[0m     \u001b[39m# wrap results\u001b[39;00m\n\u001b[1;32m    894\u001b[0m     \u001b[39mreturn\u001b[39;00m \u001b[39mself\u001b[39m\u001b[39m.\u001b[39mwrap_results(results, res_index)\n",
      "File \u001b[0;32m~/Desktop/TAU/DrugLab/venv/lib/python3.9/site-packages/pandas/core/apply.py:907\u001b[0m, in \u001b[0;36mFrameApply.apply_series_generator\u001b[0;34m(self)\u001b[0m\n\u001b[1;32m    904\u001b[0m \u001b[39mwith\u001b[39;00m option_context(\u001b[39m\"\u001b[39m\u001b[39mmode.chained_assignment\u001b[39m\u001b[39m\"\u001b[39m, \u001b[39mNone\u001b[39;00m):\n\u001b[1;32m    905\u001b[0m     \u001b[39mfor\u001b[39;00m i, v \u001b[39min\u001b[39;00m \u001b[39menumerate\u001b[39m(series_gen):\n\u001b[1;32m    906\u001b[0m         \u001b[39m# ignore SettingWithCopy here in case the user mutates\u001b[39;00m\n\u001b[0;32m--> 907\u001b[0m         results[i] \u001b[39m=\u001b[39m \u001b[39mself\u001b[39;49m\u001b[39m.\u001b[39;49mf(v)\n\u001b[1;32m    908\u001b[0m         \u001b[39mif\u001b[39;00m \u001b[39misinstance\u001b[39m(results[i], ABCSeries):\n\u001b[1;32m    909\u001b[0m             \u001b[39m# If we have a view on v, we need to make a copy because\u001b[39;00m\n\u001b[1;32m    910\u001b[0m             \u001b[39m#  series_generator will swap out the underlying data\u001b[39;00m\n\u001b[1;32m    911\u001b[0m             results[i] \u001b[39m=\u001b[39m results[i]\u001b[39m.\u001b[39mcopy(deep\u001b[39m=\u001b[39m\u001b[39mFalse\u001b[39;00m)\n",
      "File \u001b[0;32m~/Desktop/TAU/DrugLab/src/modeling/querier.py:119\u001b[0m, in \u001b[0;36mDatasetQuerier.generate_med_lab_data.<locals>.<lambda>\u001b[0;34m(r)\u001b[0m\n\u001b[1;32m    116\u001b[0m cols\u001b[39m.\u001b[39mextend(cols_a)\n\u001b[1;32m    117\u001b[0m temp \u001b[39m=\u001b[39m t_med1\u001b[39m.\u001b[39mcopy()\n\u001b[0;32m--> 119\u001b[0m \u001b[39mself\u001b[39m\u001b[39m.\u001b[39mtemp \u001b[39m=\u001b[39m temp\u001b[39m.\u001b[39mapply(\u001b[39mlambda\u001b[39;00m r : \u001b[39mself\u001b[39;49m\u001b[39m.\u001b[39;49mget_vals(r, t_labs, t_med1, t_med2, before_windows, after_windows), axis\u001b[39m=\u001b[39m\u001b[39m1\u001b[39m)\n\u001b[1;32m    120\u001b[0m \u001b[39mself\u001b[39m\u001b[39m.\u001b[39mtemp\u001b[39m.\u001b[39mto_csv(os\u001b[39m.\u001b[39mpath\u001b[39m.\u001b[39mjoin(\u001b[39mself\u001b[39m\u001b[39m.\u001b[39mres, \u001b[39mf\u001b[39m\u001b[39m\"\u001b[39m\u001b[39mbefore_after_windows_main_med_lab_first_val_\u001b[39m\u001b[39m{\u001b[39;00m\u001b[39mself\u001b[39m\u001b[39m.\u001b[39mstratify_prefix\u001b[39m}\u001b[39;00m\u001b[39m_doc_eval_new_win_\u001b[39m\u001b[39m{\u001b[39;00mlab_parts\u001b[39m}\u001b[39;00m\u001b[39m.csv\u001b[39m\u001b[39m\"\u001b[39m))\n\u001b[1;32m    122\u001b[0m col_vals \u001b[39m=\u001b[39m []\n",
      "File \u001b[0;32m~/Desktop/TAU/DrugLab/src/modeling/querier.py:52\u001b[0m, in \u001b[0;36mDatasetQuerier.get_vals\u001b[0;34m(self, r, t_labs, t_med1, t_med2, before_windows, after_windows)\u001b[0m\n\u001b[1;32m     50\u001b[0m lab_vals \u001b[39m=\u001b[39m lab_vals[lab_vals[\u001b[39m\"\u001b[39m\u001b[39mLabTimeFromAdmit\u001b[39m\u001b[39m\"\u001b[39m]\u001b[39m.\u001b[39mdt\u001b[39m.\u001b[39mtotal_seconds()\u001b[39m>\u001b[39mb_window_end]\n\u001b[1;32m     51\u001b[0m lab_vals[\u001b[39m\"\u001b[39m\u001b[39mhours_from_med\u001b[39m\u001b[39m\"\u001b[39m] \u001b[39m=\u001b[39m (row[\u001b[39m\"\u001b[39m\u001b[39mSTARTTIME\u001b[39m\u001b[39m\"\u001b[39m]\u001b[39m-\u001b[39mlab_vals[\u001b[39m\"\u001b[39m\u001b[39mCHARTTIME\u001b[39m\u001b[39m\"\u001b[39m])\u001b[39m.\u001b[39mdt\u001b[39m.\u001b[39mtotal_seconds()\u001b[39m/\u001b[39m\u001b[39m3600\u001b[39m\n\u001b[0;32m---> 52\u001b[0m lab_vals \u001b[39m=\u001b[39m lab_vals\u001b[39m.\u001b[39;49msort_values([\u001b[39m\"\u001b[39;49m\u001b[39mITEMID\u001b[39;49m\u001b[39m\"\u001b[39;49m, \u001b[39m\"\u001b[39;49m\u001b[39mhours_from_med\u001b[39;49m\u001b[39m\"\u001b[39;49m])\n\u001b[1;32m     54\u001b[0m t \u001b[39m=\u001b[39m lab_vals\u001b[39m.\u001b[39mgroupby([\u001b[39m\"\u001b[39m\u001b[39mITEMID\u001b[39m\u001b[39m\"\u001b[39m])\u001b[39m.\u001b[39mcount()[[\u001b[39m\"\u001b[39m\u001b[39mHADM_ID\u001b[39m\u001b[39m\"\u001b[39m]]\n\u001b[1;32m     55\u001b[0m val_counts_m \u001b[39m=\u001b[39m t[t[\u001b[39m\"\u001b[39m\u001b[39mHADM_ID\u001b[39m\u001b[39m\"\u001b[39m]\u001b[39m>\u001b[39m\u001b[39m=\u001b[39m\u001b[39m1\u001b[39m]\n",
      "File \u001b[0;32m~/Desktop/TAU/DrugLab/venv/lib/python3.9/site-packages/pandas/util/_decorators.py:331\u001b[0m, in \u001b[0;36mdeprecate_nonkeyword_arguments.<locals>.decorate.<locals>.wrapper\u001b[0;34m(*args, **kwargs)\u001b[0m\n\u001b[1;32m    325\u001b[0m \u001b[39mif\u001b[39;00m \u001b[39mlen\u001b[39m(args) \u001b[39m>\u001b[39m num_allow_args:\n\u001b[1;32m    326\u001b[0m     warnings\u001b[39m.\u001b[39mwarn(\n\u001b[1;32m    327\u001b[0m         msg\u001b[39m.\u001b[39mformat(arguments\u001b[39m=\u001b[39m_format_argument_list(allow_args)),\n\u001b[1;32m    328\u001b[0m         \u001b[39mFutureWarning\u001b[39;00m,\n\u001b[1;32m    329\u001b[0m         stacklevel\u001b[39m=\u001b[39mfind_stack_level(),\n\u001b[1;32m    330\u001b[0m     )\n\u001b[0;32m--> 331\u001b[0m \u001b[39mreturn\u001b[39;00m func(\u001b[39m*\u001b[39;49margs, \u001b[39m*\u001b[39;49m\u001b[39m*\u001b[39;49mkwargs)\n",
      "File \u001b[0;32m~/Desktop/TAU/DrugLab/venv/lib/python3.9/site-packages/pandas/core/frame.py:6929\u001b[0m, in \u001b[0;36mDataFrame.sort_values\u001b[0;34m(self, by, axis, ascending, inplace, kind, na_position, ignore_index, key)\u001b[0m\n\u001b[1;32m   6926\u001b[0m \u001b[39melse\u001b[39;00m:\n\u001b[1;32m   6927\u001b[0m     \u001b[39mreturn\u001b[39;00m \u001b[39mself\u001b[39m\u001b[39m.\u001b[39mcopy()\n\u001b[0;32m-> 6929\u001b[0m new_data \u001b[39m=\u001b[39m \u001b[39mself\u001b[39;49m\u001b[39m.\u001b[39;49m_mgr\u001b[39m.\u001b[39;49mtake(\n\u001b[1;32m   6930\u001b[0m     indexer, axis\u001b[39m=\u001b[39;49m\u001b[39mself\u001b[39;49m\u001b[39m.\u001b[39;49m_get_block_manager_axis(axis), verify\u001b[39m=\u001b[39;49m\u001b[39mFalse\u001b[39;49;00m\n\u001b[1;32m   6931\u001b[0m )\n\u001b[1;32m   6933\u001b[0m \u001b[39mif\u001b[39;00m ignore_index:\n\u001b[1;32m   6934\u001b[0m     new_data\u001b[39m.\u001b[39mset_axis(\n\u001b[1;32m   6935\u001b[0m         \u001b[39mself\u001b[39m\u001b[39m.\u001b[39m_get_block_manager_axis(axis), default_index(\u001b[39mlen\u001b[39m(indexer))\n\u001b[1;32m   6936\u001b[0m     )\n",
      "File \u001b[0;32m~/Desktop/TAU/DrugLab/venv/lib/python3.9/site-packages/pandas/core/internals/managers.py:978\u001b[0m, in \u001b[0;36mBaseBlockManager.take\u001b[0;34m(self, indexer, axis, verify, convert_indices)\u001b[0m\n\u001b[1;32m    975\u001b[0m     indexer \u001b[39m=\u001b[39m maybe_convert_indices(indexer, n, verify\u001b[39m=\u001b[39mverify)\n\u001b[1;32m    977\u001b[0m new_labels \u001b[39m=\u001b[39m \u001b[39mself\u001b[39m\u001b[39m.\u001b[39maxes[axis]\u001b[39m.\u001b[39mtake(indexer)\n\u001b[0;32m--> 978\u001b[0m \u001b[39mreturn\u001b[39;00m \u001b[39mself\u001b[39;49m\u001b[39m.\u001b[39;49mreindex_indexer(\n\u001b[1;32m    979\u001b[0m     new_axis\u001b[39m=\u001b[39;49mnew_labels,\n\u001b[1;32m    980\u001b[0m     indexer\u001b[39m=\u001b[39;49mindexer,\n\u001b[1;32m    981\u001b[0m     axis\u001b[39m=\u001b[39;49maxis,\n\u001b[1;32m    982\u001b[0m     allow_dups\u001b[39m=\u001b[39;49m\u001b[39mTrue\u001b[39;49;00m,\n\u001b[1;32m    983\u001b[0m     copy\u001b[39m=\u001b[39;49m\u001b[39mNone\u001b[39;49;00m,\n\u001b[1;32m    984\u001b[0m )\n",
      "File \u001b[0;32m~/Desktop/TAU/DrugLab/venv/lib/python3.9/site-packages/pandas/core/internals/managers.py:751\u001b[0m, in \u001b[0;36mBaseBlockManager.reindex_indexer\u001b[0;34m(self, new_axis, indexer, axis, fill_value, allow_dups, copy, only_slice, use_na_proxy)\u001b[0m\n\u001b[1;32m    749\u001b[0m     parent \u001b[39m=\u001b[39m \u001b[39mNone\u001b[39;00m \u001b[39mif\u001b[39;00m com\u001b[39m.\u001b[39mall_none(\u001b[39m*\u001b[39mnew_refs) \u001b[39melse\u001b[39;00m \u001b[39mself\u001b[39m\n\u001b[1;32m    750\u001b[0m \u001b[39melse\u001b[39;00m:\n\u001b[0;32m--> 751\u001b[0m     new_blocks \u001b[39m=\u001b[39m [\n\u001b[1;32m    752\u001b[0m         blk\u001b[39m.\u001b[39mtake_nd(\n\u001b[1;32m    753\u001b[0m             indexer,\n\u001b[1;32m    754\u001b[0m             axis\u001b[39m=\u001b[39m\u001b[39m1\u001b[39m,\n\u001b[1;32m    755\u001b[0m             fill_value\u001b[39m=\u001b[39m(\n\u001b[1;32m    756\u001b[0m                 fill_value \u001b[39mif\u001b[39;00m fill_value \u001b[39mis\u001b[39;00m \u001b[39mnot\u001b[39;00m \u001b[39mNone\u001b[39;00m \u001b[39melse\u001b[39;00m blk\u001b[39m.\u001b[39mfill_value\n\u001b[1;32m    757\u001b[0m             ),\n\u001b[1;32m    758\u001b[0m         )\n\u001b[1;32m    759\u001b[0m         \u001b[39mfor\u001b[39;00m blk \u001b[39min\u001b[39;00m \u001b[39mself\u001b[39m\u001b[39m.\u001b[39mblocks\n\u001b[1;32m    760\u001b[0m     ]\n\u001b[1;32m    761\u001b[0m     new_refs \u001b[39m=\u001b[39m \u001b[39mNone\u001b[39;00m\n\u001b[1;32m    762\u001b[0m     parent \u001b[39m=\u001b[39m \u001b[39mNone\u001b[39;00m\n",
      "File \u001b[0;32m~/Desktop/TAU/DrugLab/venv/lib/python3.9/site-packages/pandas/core/internals/managers.py:752\u001b[0m, in \u001b[0;36m<listcomp>\u001b[0;34m(.0)\u001b[0m\n\u001b[1;32m    749\u001b[0m     parent \u001b[39m=\u001b[39m \u001b[39mNone\u001b[39;00m \u001b[39mif\u001b[39;00m com\u001b[39m.\u001b[39mall_none(\u001b[39m*\u001b[39mnew_refs) \u001b[39melse\u001b[39;00m \u001b[39mself\u001b[39m\n\u001b[1;32m    750\u001b[0m \u001b[39melse\u001b[39;00m:\n\u001b[1;32m    751\u001b[0m     new_blocks \u001b[39m=\u001b[39m [\n\u001b[0;32m--> 752\u001b[0m         blk\u001b[39m.\u001b[39;49mtake_nd(\n\u001b[1;32m    753\u001b[0m             indexer,\n\u001b[1;32m    754\u001b[0m             axis\u001b[39m=\u001b[39;49m\u001b[39m1\u001b[39;49m,\n\u001b[1;32m    755\u001b[0m             fill_value\u001b[39m=\u001b[39;49m(\n\u001b[1;32m    756\u001b[0m                 fill_value \u001b[39mif\u001b[39;49;00m fill_value \u001b[39mis\u001b[39;49;00m \u001b[39mnot\u001b[39;49;00m \u001b[39mNone\u001b[39;49;00m \u001b[39melse\u001b[39;49;00m blk\u001b[39m.\u001b[39;49mfill_value\n\u001b[1;32m    757\u001b[0m             ),\n\u001b[1;32m    758\u001b[0m         )\n\u001b[1;32m    759\u001b[0m         \u001b[39mfor\u001b[39;00m blk \u001b[39min\u001b[39;00m \u001b[39mself\u001b[39m\u001b[39m.\u001b[39mblocks\n\u001b[1;32m    760\u001b[0m     ]\n\u001b[1;32m    761\u001b[0m     new_refs \u001b[39m=\u001b[39m \u001b[39mNone\u001b[39;00m\n\u001b[1;32m    762\u001b[0m     parent \u001b[39m=\u001b[39m \u001b[39mNone\u001b[39;00m\n",
      "File \u001b[0;32m~/Desktop/TAU/DrugLab/venv/lib/python3.9/site-packages/pandas/core/internals/blocks.py:880\u001b[0m, in \u001b[0;36mBlock.take_nd\u001b[0;34m(self, indexer, axis, new_mgr_locs, fill_value)\u001b[0m\n\u001b[1;32m    877\u001b[0m     allow_fill \u001b[39m=\u001b[39m \u001b[39mTrue\u001b[39;00m\n\u001b[1;32m    879\u001b[0m \u001b[39m# Note: algos.take_nd has upcast logic similar to coerce_to_target_dtype\u001b[39;00m\n\u001b[0;32m--> 880\u001b[0m new_values \u001b[39m=\u001b[39m algos\u001b[39m.\u001b[39;49mtake_nd(\n\u001b[1;32m    881\u001b[0m     values, indexer, axis\u001b[39m=\u001b[39;49maxis, allow_fill\u001b[39m=\u001b[39;49mallow_fill, fill_value\u001b[39m=\u001b[39;49mfill_value\n\u001b[1;32m    882\u001b[0m )\n\u001b[1;32m    884\u001b[0m \u001b[39m# Called from three places in managers, all of which satisfy\u001b[39;00m\n\u001b[1;32m    885\u001b[0m \u001b[39m#  this assertion\u001b[39;00m\n\u001b[1;32m    886\u001b[0m \u001b[39massert\u001b[39;00m \u001b[39mnot\u001b[39;00m (axis \u001b[39m==\u001b[39m \u001b[39m0\u001b[39m \u001b[39mand\u001b[39;00m new_mgr_locs \u001b[39mis\u001b[39;00m \u001b[39mNone\u001b[39;00m)\n",
      "\u001b[0;31mKeyboardInterrupt\u001b[0m: "
     ]
    }
   ],
   "source": [
    "res_dict = {}\n",
    "for labs in m_labs.ITEMID.value_counts(ascending=True).keys():\n",
    "    print(f\"Starting pairs generation for {labs}....\")\n",
    "    t_m_labs = m_labs[m_labs[\"ITEMID\"]==labs]\n",
    "    ## Querier\n",
    "    mimic_data_querier = querier.DatasetQuerier(\n",
    "        data = data,\n",
    "        res = res,\n",
    "        t_labs=t_m_labs, \n",
    "        t_med1=m_med1, \n",
    "        t_med2=m_med2,\n",
    "        gender=gender, \n",
    "        age_b=age_b, \n",
    "        age_a=age_a, \n",
    "        ethnicity=ethnicity, \n",
    "        lab_mapping=lab_mapping\n",
    "    )\n",
    "    # query pairs for all medication and lab tests\n",
    "    res_dict[labs] = mimic_data_querier.generate_med_lab_data(before_windows, after_windows, lab_parts=f\"{labs}_(0,15)\")\n",
    "    print(f\"Pairs generated for {labs}.\")"
   ]
  },
  {
   "cell_type": "code",
   "execution_count": null,
   "metadata": {},
   "outputs": [],
   "source": []
  },
  {
   "cell_type": "code",
   "execution_count": 8,
   "metadata": {},
   "outputs": [
    {
     "ename": "KeyboardInterrupt",
     "evalue": "",
     "output_type": "error",
     "traceback": [
      "\u001b[0;31m---------------------------------------------------------------------------\u001b[0m",
      "\u001b[0;31mKeyboardInterrupt\u001b[0m                         Traceback (most recent call last)",
      "Cell \u001b[0;32mIn[8], line 15\u001b[0m\n\u001b[1;32m      2\u001b[0m mimic_data_querier \u001b[39m=\u001b[39m querier\u001b[39m.\u001b[39mDatasetQuerier(\n\u001b[1;32m      3\u001b[0m     data \u001b[39m=\u001b[39m data,\n\u001b[1;32m      4\u001b[0m     res \u001b[39m=\u001b[39m res,\n\u001b[0;32m   (...)\u001b[0m\n\u001b[1;32m     12\u001b[0m     lab_mapping\u001b[39m=\u001b[39mlab_mapping\n\u001b[1;32m     13\u001b[0m )\n\u001b[1;32m     14\u001b[0m \u001b[39m# query pairs for all medication and lab tests\u001b[39;00m\n\u001b[0;32m---> 15\u001b[0m m_final_lab_med_data \u001b[39m=\u001b[39m mimic_data_querier\u001b[39m.\u001b[39;49mgenerate_med_lab_data(before_windows, after_windows, lab_parts\u001b[39m=\u001b[39;49m(\u001b[39m0\u001b[39;49m,\u001b[39m15\u001b[39;49m))\n",
      "File \u001b[0;32m~/Desktop/TAU/DrugLab/src/modeling/querier.py:119\u001b[0m, in \u001b[0;36mDatasetQuerier.generate_med_lab_data\u001b[0;34m(self, before_windows, after_windows, lab_parts)\u001b[0m\n\u001b[1;32m    116\u001b[0m cols\u001b[39m.\u001b[39mextend(cols_a)\n\u001b[1;32m    117\u001b[0m temp \u001b[39m=\u001b[39m t_med1\u001b[39m.\u001b[39mcopy()\n\u001b[0;32m--> 119\u001b[0m \u001b[39mself\u001b[39m\u001b[39m.\u001b[39mtemp \u001b[39m=\u001b[39m temp\u001b[39m.\u001b[39;49mapply(\u001b[39mlambda\u001b[39;49;00m r : \u001b[39mself\u001b[39;49m\u001b[39m.\u001b[39;49mget_vals(r, t_labs, t_med1, t_med2, before_windows, after_windows), axis\u001b[39m=\u001b[39;49m\u001b[39m1\u001b[39;49m)\n\u001b[1;32m    120\u001b[0m \u001b[39mself\u001b[39m\u001b[39m.\u001b[39mtemp\u001b[39m.\u001b[39mto_csv(os\u001b[39m.\u001b[39mpath\u001b[39m.\u001b[39mjoin(\u001b[39mself\u001b[39m\u001b[39m.\u001b[39mres, \u001b[39mf\u001b[39m\u001b[39m\"\u001b[39m\u001b[39mbefore_after_windows_main_med_lab_first_val_\u001b[39m\u001b[39m{\u001b[39;00m\u001b[39mself\u001b[39m\u001b[39m.\u001b[39mstratify_prefix\u001b[39m}\u001b[39;00m\u001b[39m_doc_eval_new_win_\u001b[39m\u001b[39m{\u001b[39;00mlab_parts\u001b[39m}\u001b[39;00m\u001b[39m.csv\u001b[39m\u001b[39m\"\u001b[39m))\n\u001b[1;32m    122\u001b[0m col_vals \u001b[39m=\u001b[39m []\n",
      "File \u001b[0;32m~/Desktop/TAU/DrugLab/venv/lib/python3.9/site-packages/pandas/core/frame.py:9568\u001b[0m, in \u001b[0;36mDataFrame.apply\u001b[0;34m(self, func, axis, raw, result_type, args, **kwargs)\u001b[0m\n\u001b[1;32m   9557\u001b[0m \u001b[39mfrom\u001b[39;00m \u001b[39mpandas\u001b[39;00m\u001b[39m.\u001b[39;00m\u001b[39mcore\u001b[39;00m\u001b[39m.\u001b[39;00m\u001b[39mapply\u001b[39;00m \u001b[39mimport\u001b[39;00m frame_apply\n\u001b[1;32m   9559\u001b[0m op \u001b[39m=\u001b[39m frame_apply(\n\u001b[1;32m   9560\u001b[0m     \u001b[39mself\u001b[39m,\n\u001b[1;32m   9561\u001b[0m     func\u001b[39m=\u001b[39mfunc,\n\u001b[0;32m   (...)\u001b[0m\n\u001b[1;32m   9566\u001b[0m     kwargs\u001b[39m=\u001b[39mkwargs,\n\u001b[1;32m   9567\u001b[0m )\n\u001b[0;32m-> 9568\u001b[0m \u001b[39mreturn\u001b[39;00m op\u001b[39m.\u001b[39;49mapply()\u001b[39m.\u001b[39m__finalize__(\u001b[39mself\u001b[39m, method\u001b[39m=\u001b[39m\u001b[39m\"\u001b[39m\u001b[39mapply\u001b[39m\u001b[39m\"\u001b[39m)\n",
      "File \u001b[0;32m~/Desktop/TAU/DrugLab/venv/lib/python3.9/site-packages/pandas/core/apply.py:764\u001b[0m, in \u001b[0;36mFrameApply.apply\u001b[0;34m(self)\u001b[0m\n\u001b[1;32m    761\u001b[0m \u001b[39melif\u001b[39;00m \u001b[39mself\u001b[39m\u001b[39m.\u001b[39mraw:\n\u001b[1;32m    762\u001b[0m     \u001b[39mreturn\u001b[39;00m \u001b[39mself\u001b[39m\u001b[39m.\u001b[39mapply_raw()\n\u001b[0;32m--> 764\u001b[0m \u001b[39mreturn\u001b[39;00m \u001b[39mself\u001b[39;49m\u001b[39m.\u001b[39;49mapply_standard()\n",
      "File \u001b[0;32m~/Desktop/TAU/DrugLab/venv/lib/python3.9/site-packages/pandas/core/apply.py:891\u001b[0m, in \u001b[0;36mFrameApply.apply_standard\u001b[0;34m(self)\u001b[0m\n\u001b[1;32m    890\u001b[0m \u001b[39mdef\u001b[39;00m \u001b[39mapply_standard\u001b[39m(\u001b[39mself\u001b[39m):\n\u001b[0;32m--> 891\u001b[0m     results, res_index \u001b[39m=\u001b[39m \u001b[39mself\u001b[39;49m\u001b[39m.\u001b[39;49mapply_series_generator()\n\u001b[1;32m    893\u001b[0m     \u001b[39m# wrap results\u001b[39;00m\n\u001b[1;32m    894\u001b[0m     \u001b[39mreturn\u001b[39;00m \u001b[39mself\u001b[39m\u001b[39m.\u001b[39mwrap_results(results, res_index)\n",
      "File \u001b[0;32m~/Desktop/TAU/DrugLab/venv/lib/python3.9/site-packages/pandas/core/apply.py:907\u001b[0m, in \u001b[0;36mFrameApply.apply_series_generator\u001b[0;34m(self)\u001b[0m\n\u001b[1;32m    904\u001b[0m \u001b[39mwith\u001b[39;00m option_context(\u001b[39m\"\u001b[39m\u001b[39mmode.chained_assignment\u001b[39m\u001b[39m\"\u001b[39m, \u001b[39mNone\u001b[39;00m):\n\u001b[1;32m    905\u001b[0m     \u001b[39mfor\u001b[39;00m i, v \u001b[39min\u001b[39;00m \u001b[39menumerate\u001b[39m(series_gen):\n\u001b[1;32m    906\u001b[0m         \u001b[39m# ignore SettingWithCopy here in case the user mutates\u001b[39;00m\n\u001b[0;32m--> 907\u001b[0m         results[i] \u001b[39m=\u001b[39m \u001b[39mself\u001b[39;49m\u001b[39m.\u001b[39;49mf(v)\n\u001b[1;32m    908\u001b[0m         \u001b[39mif\u001b[39;00m \u001b[39misinstance\u001b[39m(results[i], ABCSeries):\n\u001b[1;32m    909\u001b[0m             \u001b[39m# If we have a view on v, we need to make a copy because\u001b[39;00m\n\u001b[1;32m    910\u001b[0m             \u001b[39m#  series_generator will swap out the underlying data\u001b[39;00m\n\u001b[1;32m    911\u001b[0m             results[i] \u001b[39m=\u001b[39m results[i]\u001b[39m.\u001b[39mcopy(deep\u001b[39m=\u001b[39m\u001b[39mFalse\u001b[39;00m)\n",
      "File \u001b[0;32m~/Desktop/TAU/DrugLab/src/modeling/querier.py:119\u001b[0m, in \u001b[0;36mDatasetQuerier.generate_med_lab_data.<locals>.<lambda>\u001b[0;34m(r)\u001b[0m\n\u001b[1;32m    116\u001b[0m cols\u001b[39m.\u001b[39mextend(cols_a)\n\u001b[1;32m    117\u001b[0m temp \u001b[39m=\u001b[39m t_med1\u001b[39m.\u001b[39mcopy()\n\u001b[0;32m--> 119\u001b[0m \u001b[39mself\u001b[39m\u001b[39m.\u001b[39mtemp \u001b[39m=\u001b[39m temp\u001b[39m.\u001b[39mapply(\u001b[39mlambda\u001b[39;00m r : \u001b[39mself\u001b[39;49m\u001b[39m.\u001b[39;49mget_vals(r, t_labs, t_med1, t_med2, before_windows, after_windows), axis\u001b[39m=\u001b[39m\u001b[39m1\u001b[39m)\n\u001b[1;32m    120\u001b[0m \u001b[39mself\u001b[39m\u001b[39m.\u001b[39mtemp\u001b[39m.\u001b[39mto_csv(os\u001b[39m.\u001b[39mpath\u001b[39m.\u001b[39mjoin(\u001b[39mself\u001b[39m\u001b[39m.\u001b[39mres, \u001b[39mf\u001b[39m\u001b[39m\"\u001b[39m\u001b[39mbefore_after_windows_main_med_lab_first_val_\u001b[39m\u001b[39m{\u001b[39;00m\u001b[39mself\u001b[39m\u001b[39m.\u001b[39mstratify_prefix\u001b[39m}\u001b[39;00m\u001b[39m_doc_eval_new_win_\u001b[39m\u001b[39m{\u001b[39;00mlab_parts\u001b[39m}\u001b[39;00m\u001b[39m.csv\u001b[39m\u001b[39m\"\u001b[39m))\n\u001b[1;32m    122\u001b[0m col_vals \u001b[39m=\u001b[39m []\n",
      "File \u001b[0;32m~/Desktop/TAU/DrugLab/src/modeling/querier.py:44\u001b[0m, in \u001b[0;36mDatasetQuerier.get_vals\u001b[0;34m(self, r, t_labs, t_med1, t_med2, before_windows, after_windows)\u001b[0m\n\u001b[1;32m     42\u001b[0m row \u001b[39m=\u001b[39m r\u001b[39m.\u001b[39mcopy()\n\u001b[1;32m     43\u001b[0m \u001b[39mfor\u001b[39;00m b_w \u001b[39min\u001b[39;00m before_windows:\n\u001b[0;32m---> 44\u001b[0m     lab_vals \u001b[39m=\u001b[39m t_labs[t_labs[\u001b[39m\"\u001b[39;49m\u001b[39mHADM_ID\u001b[39;49m\u001b[39m\"\u001b[39;49m]\u001b[39m==\u001b[39;49mrow[\u001b[39m\"\u001b[39;49m\u001b[39mHADM_ID\u001b[39;49m\u001b[39m\"\u001b[39;49m]]\n\u001b[1;32m     45\u001b[0m     lab_vals \u001b[39m=\u001b[39m lab_vals[lab_vals[\u001b[39m\"\u001b[39m\u001b[39mLabTimeFromAdmit\u001b[39m\u001b[39m\"\u001b[39m]\u001b[39m.\u001b[39mdt\u001b[39m.\u001b[39mtotal_seconds()\u001b[39m<\u001b[39mrow[\u001b[39m\"\u001b[39m\u001b[39mMedTimeFromAdmit\u001b[39m\u001b[39m\"\u001b[39m]\u001b[39m.\u001b[39mtotal_seconds()]\n\u001b[1;32m     47\u001b[0m     b_window_start \u001b[39m=\u001b[39m row[\u001b[39m\"\u001b[39m\u001b[39mMedTimeFromAdmit\u001b[39m\u001b[39m\"\u001b[39m]\u001b[39m.\u001b[39mtotal_seconds() \u001b[39m-\u001b[39m (b_w[\u001b[39m0\u001b[39m]\u001b[39m*\u001b[39m\u001b[39m3600\u001b[39m)\n",
      "File \u001b[0;32m~/Desktop/TAU/DrugLab/venv/lib/python3.9/site-packages/pandas/core/frame.py:3798\u001b[0m, in \u001b[0;36mDataFrame.__getitem__\u001b[0;34m(self, key)\u001b[0m\n\u001b[1;32m   3796\u001b[0m \u001b[39m# Do we have a (boolean) 1d indexer?\u001b[39;00m\n\u001b[1;32m   3797\u001b[0m \u001b[39mif\u001b[39;00m com\u001b[39m.\u001b[39mis_bool_indexer(key):\n\u001b[0;32m-> 3798\u001b[0m     \u001b[39mreturn\u001b[39;00m \u001b[39mself\u001b[39;49m\u001b[39m.\u001b[39;49m_getitem_bool_array(key)\n\u001b[1;32m   3800\u001b[0m \u001b[39m# We are left with two options: a single key, and a collection of keys,\u001b[39;00m\n\u001b[1;32m   3801\u001b[0m \u001b[39m# We interpret tuples as collections only for non-MultiIndex\u001b[39;00m\n\u001b[1;32m   3802\u001b[0m is_single_key \u001b[39m=\u001b[39m \u001b[39misinstance\u001b[39m(key, \u001b[39mtuple\u001b[39m) \u001b[39mor\u001b[39;00m \u001b[39mnot\u001b[39;00m is_list_like(key)\n",
      "File \u001b[0;32m~/Desktop/TAU/DrugLab/venv/lib/python3.9/site-packages/pandas/core/frame.py:3853\u001b[0m, in \u001b[0;36mDataFrame._getitem_bool_array\u001b[0;34m(self, key)\u001b[0m\n\u001b[1;32m   3851\u001b[0m key \u001b[39m=\u001b[39m check_bool_indexer(\u001b[39mself\u001b[39m\u001b[39m.\u001b[39mindex, key)\n\u001b[1;32m   3852\u001b[0m indexer \u001b[39m=\u001b[39m key\u001b[39m.\u001b[39mnonzero()[\u001b[39m0\u001b[39m]\n\u001b[0;32m-> 3853\u001b[0m \u001b[39mreturn\u001b[39;00m \u001b[39mself\u001b[39;49m\u001b[39m.\u001b[39;49m_take_with_is_copy(indexer, axis\u001b[39m=\u001b[39;49m\u001b[39m0\u001b[39;49m)\n",
      "File \u001b[0;32m~/Desktop/TAU/DrugLab/venv/lib/python3.9/site-packages/pandas/core/generic.py:3902\u001b[0m, in \u001b[0;36mNDFrame._take_with_is_copy\u001b[0;34m(self, indices, axis)\u001b[0m\n\u001b[1;32m   3894\u001b[0m \u001b[39mdef\u001b[39;00m \u001b[39m_take_with_is_copy\u001b[39m(\u001b[39mself\u001b[39m: NDFrameT, indices, axis\u001b[39m=\u001b[39m\u001b[39m0\u001b[39m) \u001b[39m-\u001b[39m\u001b[39m>\u001b[39m NDFrameT:\n\u001b[1;32m   3895\u001b[0m \u001b[39m    \u001b[39m\u001b[39m\"\"\"\u001b[39;00m\n\u001b[1;32m   3896\u001b[0m \u001b[39m    Internal version of the `take` method that sets the `_is_copy`\u001b[39;00m\n\u001b[1;32m   3897\u001b[0m \u001b[39m    attribute to keep track of the parent dataframe (using in indexing\u001b[39;00m\n\u001b[0;32m   (...)\u001b[0m\n\u001b[1;32m   3900\u001b[0m \u001b[39m    See the docstring of `take` for full explanation of the parameters.\u001b[39;00m\n\u001b[1;32m   3901\u001b[0m \u001b[39m    \"\"\"\u001b[39;00m\n\u001b[0;32m-> 3902\u001b[0m     result \u001b[39m=\u001b[39m \u001b[39mself\u001b[39;49m\u001b[39m.\u001b[39;49m_take(indices\u001b[39m=\u001b[39;49mindices, axis\u001b[39m=\u001b[39;49maxis)\n\u001b[1;32m   3903\u001b[0m     \u001b[39m# Maybe set copy if we didn't actually change the index.\u001b[39;00m\n\u001b[1;32m   3904\u001b[0m     \u001b[39mif\u001b[39;00m \u001b[39mnot\u001b[39;00m result\u001b[39m.\u001b[39m_get_axis(axis)\u001b[39m.\u001b[39mequals(\u001b[39mself\u001b[39m\u001b[39m.\u001b[39m_get_axis(axis)):\n",
      "File \u001b[0;32m~/Desktop/TAU/DrugLab/venv/lib/python3.9/site-packages/pandas/core/generic.py:3886\u001b[0m, in \u001b[0;36mNDFrame._take\u001b[0;34m(self, indices, axis, convert_indices)\u001b[0m\n\u001b[1;32m   3879\u001b[0m \u001b[39m\u001b[39m\u001b[39m\"\"\"\u001b[39;00m\n\u001b[1;32m   3880\u001b[0m \u001b[39mInternal version of the `take` allowing specification of additional args.\u001b[39;00m\n\u001b[1;32m   3881\u001b[0m \n\u001b[1;32m   3882\u001b[0m \u001b[39mSee the docstring of `take` for full explanation of the parameters.\u001b[39;00m\n\u001b[1;32m   3883\u001b[0m \u001b[39m\"\"\"\u001b[39;00m\n\u001b[1;32m   3884\u001b[0m \u001b[39mself\u001b[39m\u001b[39m.\u001b[39m_consolidate_inplace()\n\u001b[0;32m-> 3886\u001b[0m new_data \u001b[39m=\u001b[39m \u001b[39mself\u001b[39;49m\u001b[39m.\u001b[39;49m_mgr\u001b[39m.\u001b[39;49mtake(\n\u001b[1;32m   3887\u001b[0m     indices,\n\u001b[1;32m   3888\u001b[0m     axis\u001b[39m=\u001b[39;49m\u001b[39mself\u001b[39;49m\u001b[39m.\u001b[39;49m_get_block_manager_axis(axis),\n\u001b[1;32m   3889\u001b[0m     verify\u001b[39m=\u001b[39;49m\u001b[39mTrue\u001b[39;49;00m,\n\u001b[1;32m   3890\u001b[0m     convert_indices\u001b[39m=\u001b[39;49mconvert_indices,\n\u001b[1;32m   3891\u001b[0m )\n\u001b[1;32m   3892\u001b[0m \u001b[39mreturn\u001b[39;00m \u001b[39mself\u001b[39m\u001b[39m.\u001b[39m_constructor(new_data)\u001b[39m.\u001b[39m__finalize__(\u001b[39mself\u001b[39m, method\u001b[39m=\u001b[39m\u001b[39m\"\u001b[39m\u001b[39mtake\u001b[39m\u001b[39m\"\u001b[39m)\n",
      "File \u001b[0;32m~/Desktop/TAU/DrugLab/venv/lib/python3.9/site-packages/pandas/core/internals/managers.py:978\u001b[0m, in \u001b[0;36mBaseBlockManager.take\u001b[0;34m(self, indexer, axis, verify, convert_indices)\u001b[0m\n\u001b[1;32m    975\u001b[0m     indexer \u001b[39m=\u001b[39m maybe_convert_indices(indexer, n, verify\u001b[39m=\u001b[39mverify)\n\u001b[1;32m    977\u001b[0m new_labels \u001b[39m=\u001b[39m \u001b[39mself\u001b[39m\u001b[39m.\u001b[39maxes[axis]\u001b[39m.\u001b[39mtake(indexer)\n\u001b[0;32m--> 978\u001b[0m \u001b[39mreturn\u001b[39;00m \u001b[39mself\u001b[39;49m\u001b[39m.\u001b[39;49mreindex_indexer(\n\u001b[1;32m    979\u001b[0m     new_axis\u001b[39m=\u001b[39;49mnew_labels,\n\u001b[1;32m    980\u001b[0m     indexer\u001b[39m=\u001b[39;49mindexer,\n\u001b[1;32m    981\u001b[0m     axis\u001b[39m=\u001b[39;49maxis,\n\u001b[1;32m    982\u001b[0m     allow_dups\u001b[39m=\u001b[39;49m\u001b[39mTrue\u001b[39;49;00m,\n\u001b[1;32m    983\u001b[0m     copy\u001b[39m=\u001b[39;49m\u001b[39mNone\u001b[39;49;00m,\n\u001b[1;32m    984\u001b[0m )\n",
      "File \u001b[0;32m~/Desktop/TAU/DrugLab/venv/lib/python3.9/site-packages/pandas/core/internals/managers.py:751\u001b[0m, in \u001b[0;36mBaseBlockManager.reindex_indexer\u001b[0;34m(self, new_axis, indexer, axis, fill_value, allow_dups, copy, only_slice, use_na_proxy)\u001b[0m\n\u001b[1;32m    749\u001b[0m     parent \u001b[39m=\u001b[39m \u001b[39mNone\u001b[39;00m \u001b[39mif\u001b[39;00m com\u001b[39m.\u001b[39mall_none(\u001b[39m*\u001b[39mnew_refs) \u001b[39melse\u001b[39;00m \u001b[39mself\u001b[39m\n\u001b[1;32m    750\u001b[0m \u001b[39melse\u001b[39;00m:\n\u001b[0;32m--> 751\u001b[0m     new_blocks \u001b[39m=\u001b[39m [\n\u001b[1;32m    752\u001b[0m         blk\u001b[39m.\u001b[39mtake_nd(\n\u001b[1;32m    753\u001b[0m             indexer,\n\u001b[1;32m    754\u001b[0m             axis\u001b[39m=\u001b[39m\u001b[39m1\u001b[39m,\n\u001b[1;32m    755\u001b[0m             fill_value\u001b[39m=\u001b[39m(\n\u001b[1;32m    756\u001b[0m                 fill_value \u001b[39mif\u001b[39;00m fill_value \u001b[39mis\u001b[39;00m \u001b[39mnot\u001b[39;00m \u001b[39mNone\u001b[39;00m \u001b[39melse\u001b[39;00m blk\u001b[39m.\u001b[39mfill_value\n\u001b[1;32m    757\u001b[0m             ),\n\u001b[1;32m    758\u001b[0m         )\n\u001b[1;32m    759\u001b[0m         \u001b[39mfor\u001b[39;00m blk \u001b[39min\u001b[39;00m \u001b[39mself\u001b[39m\u001b[39m.\u001b[39mblocks\n\u001b[1;32m    760\u001b[0m     ]\n\u001b[1;32m    761\u001b[0m     new_refs \u001b[39m=\u001b[39m \u001b[39mNone\u001b[39;00m\n\u001b[1;32m    762\u001b[0m     parent \u001b[39m=\u001b[39m \u001b[39mNone\u001b[39;00m\n",
      "File \u001b[0;32m~/Desktop/TAU/DrugLab/venv/lib/python3.9/site-packages/pandas/core/internals/managers.py:752\u001b[0m, in \u001b[0;36m<listcomp>\u001b[0;34m(.0)\u001b[0m\n\u001b[1;32m    749\u001b[0m     parent \u001b[39m=\u001b[39m \u001b[39mNone\u001b[39;00m \u001b[39mif\u001b[39;00m com\u001b[39m.\u001b[39mall_none(\u001b[39m*\u001b[39mnew_refs) \u001b[39melse\u001b[39;00m \u001b[39mself\u001b[39m\n\u001b[1;32m    750\u001b[0m \u001b[39melse\u001b[39;00m:\n\u001b[1;32m    751\u001b[0m     new_blocks \u001b[39m=\u001b[39m [\n\u001b[0;32m--> 752\u001b[0m         blk\u001b[39m.\u001b[39;49mtake_nd(\n\u001b[1;32m    753\u001b[0m             indexer,\n\u001b[1;32m    754\u001b[0m             axis\u001b[39m=\u001b[39;49m\u001b[39m1\u001b[39;49m,\n\u001b[1;32m    755\u001b[0m             fill_value\u001b[39m=\u001b[39;49m(\n\u001b[1;32m    756\u001b[0m                 fill_value \u001b[39mif\u001b[39;49;00m fill_value \u001b[39mis\u001b[39;49;00m \u001b[39mnot\u001b[39;49;00m \u001b[39mNone\u001b[39;49;00m \u001b[39melse\u001b[39;49;00m blk\u001b[39m.\u001b[39;49mfill_value\n\u001b[1;32m    757\u001b[0m             ),\n\u001b[1;32m    758\u001b[0m         )\n\u001b[1;32m    759\u001b[0m         \u001b[39mfor\u001b[39;00m blk \u001b[39min\u001b[39;00m \u001b[39mself\u001b[39m\u001b[39m.\u001b[39mblocks\n\u001b[1;32m    760\u001b[0m     ]\n\u001b[1;32m    761\u001b[0m     new_refs \u001b[39m=\u001b[39m \u001b[39mNone\u001b[39;00m\n\u001b[1;32m    762\u001b[0m     parent \u001b[39m=\u001b[39m \u001b[39mNone\u001b[39;00m\n",
      "File \u001b[0;32m~/Desktop/TAU/DrugLab/venv/lib/python3.9/site-packages/pandas/core/internals/blocks.py:880\u001b[0m, in \u001b[0;36mBlock.take_nd\u001b[0;34m(self, indexer, axis, new_mgr_locs, fill_value)\u001b[0m\n\u001b[1;32m    877\u001b[0m     allow_fill \u001b[39m=\u001b[39m \u001b[39mTrue\u001b[39;00m\n\u001b[1;32m    879\u001b[0m \u001b[39m# Note: algos.take_nd has upcast logic similar to coerce_to_target_dtype\u001b[39;00m\n\u001b[0;32m--> 880\u001b[0m new_values \u001b[39m=\u001b[39m algos\u001b[39m.\u001b[39;49mtake_nd(\n\u001b[1;32m    881\u001b[0m     values, indexer, axis\u001b[39m=\u001b[39;49maxis, allow_fill\u001b[39m=\u001b[39;49mallow_fill, fill_value\u001b[39m=\u001b[39;49mfill_value\n\u001b[1;32m    882\u001b[0m )\n\u001b[1;32m    884\u001b[0m \u001b[39m# Called from three places in managers, all of which satisfy\u001b[39;00m\n\u001b[1;32m    885\u001b[0m \u001b[39m#  this assertion\u001b[39;00m\n\u001b[1;32m    886\u001b[0m \u001b[39massert\u001b[39;00m \u001b[39mnot\u001b[39;00m (axis \u001b[39m==\u001b[39m \u001b[39m0\u001b[39m \u001b[39mand\u001b[39;00m new_mgr_locs \u001b[39mis\u001b[39;00m \u001b[39mNone\u001b[39;00m)\n",
      "File \u001b[0;32m~/Desktop/TAU/DrugLab/venv/lib/python3.9/site-packages/pandas/core/array_algos/take.py:110\u001b[0m, in \u001b[0;36mtake_nd\u001b[0;34m(arr, indexer, axis, fill_value, allow_fill)\u001b[0m\n\u001b[1;32m    107\u001b[0m     \u001b[39mif\u001b[39;00m \u001b[39mnot\u001b[39;00m is_1d_only_ea_obj(arr):\n\u001b[1;32m    108\u001b[0m         \u001b[39m# i.e. DatetimeArray, TimedeltaArray\u001b[39;00m\n\u001b[1;32m    109\u001b[0m         arr \u001b[39m=\u001b[39m cast(\u001b[39m\"\u001b[39m\u001b[39mNDArrayBackedExtensionArray\u001b[39m\u001b[39m\"\u001b[39m, arr)\n\u001b[0;32m--> 110\u001b[0m         \u001b[39mreturn\u001b[39;00m arr\u001b[39m.\u001b[39;49mtake(\n\u001b[1;32m    111\u001b[0m             indexer, fill_value\u001b[39m=\u001b[39;49mfill_value, allow_fill\u001b[39m=\u001b[39;49mallow_fill, axis\u001b[39m=\u001b[39;49maxis\n\u001b[1;32m    112\u001b[0m         )\n\u001b[1;32m    114\u001b[0m     \u001b[39mreturn\u001b[39;00m arr\u001b[39m.\u001b[39mtake(indexer, fill_value\u001b[39m=\u001b[39mfill_value, allow_fill\u001b[39m=\u001b[39mallow_fill)\n\u001b[1;32m    116\u001b[0m arr \u001b[39m=\u001b[39m np\u001b[39m.\u001b[39masarray(arr)\n",
      "File \u001b[0;32m~/Desktop/TAU/DrugLab/venv/lib/python3.9/site-packages/pandas/core/arrays/_mixins.py:165\u001b[0m, in \u001b[0;36mNDArrayBackedExtensionArray.take\u001b[0;34m(self, indices, allow_fill, fill_value, axis)\u001b[0m\n\u001b[1;32m    162\u001b[0m \u001b[39mif\u001b[39;00m allow_fill:\n\u001b[1;32m    163\u001b[0m     fill_value \u001b[39m=\u001b[39m \u001b[39mself\u001b[39m\u001b[39m.\u001b[39m_validate_scalar(fill_value)\n\u001b[0;32m--> 165\u001b[0m new_data \u001b[39m=\u001b[39m take(\n\u001b[1;32m    166\u001b[0m     \u001b[39mself\u001b[39;49m\u001b[39m.\u001b[39;49m_ndarray,\n\u001b[1;32m    167\u001b[0m     indices,\n\u001b[1;32m    168\u001b[0m     allow_fill\u001b[39m=\u001b[39;49mallow_fill,\n\u001b[1;32m    169\u001b[0m     fill_value\u001b[39m=\u001b[39;49mfill_value,\n\u001b[1;32m    170\u001b[0m     axis\u001b[39m=\u001b[39;49maxis,\n\u001b[1;32m    171\u001b[0m )\n\u001b[1;32m    172\u001b[0m \u001b[39mreturn\u001b[39;00m \u001b[39mself\u001b[39m\u001b[39m.\u001b[39m_from_backing_data(new_data)\n",
      "File \u001b[0;32m~/Desktop/TAU/DrugLab/venv/lib/python3.9/site-packages/pandas/core/algorithms.py:1572\u001b[0m, in \u001b[0;36mtake\u001b[0;34m(arr, indices, axis, allow_fill, fill_value)\u001b[0m\n\u001b[1;32m   1569\u001b[0m \u001b[39mif\u001b[39;00m allow_fill:\n\u001b[1;32m   1570\u001b[0m     \u001b[39m# Pandas style, -1 means NA\u001b[39;00m\n\u001b[1;32m   1571\u001b[0m     validate_indices(indices, arr\u001b[39m.\u001b[39mshape[axis])\n\u001b[0;32m-> 1572\u001b[0m     result \u001b[39m=\u001b[39m take_nd(\n\u001b[1;32m   1573\u001b[0m         arr, indices, axis\u001b[39m=\u001b[39;49maxis, allow_fill\u001b[39m=\u001b[39;49m\u001b[39mTrue\u001b[39;49;00m, fill_value\u001b[39m=\u001b[39;49mfill_value\n\u001b[1;32m   1574\u001b[0m     )\n\u001b[1;32m   1575\u001b[0m \u001b[39melse\u001b[39;00m:\n\u001b[1;32m   1576\u001b[0m     \u001b[39m# NumPy style\u001b[39;00m\n\u001b[1;32m   1577\u001b[0m     result \u001b[39m=\u001b[39m arr\u001b[39m.\u001b[39mtake(indices, axis\u001b[39m=\u001b[39maxis)\n",
      "File \u001b[0;32m~/Desktop/TAU/DrugLab/venv/lib/python3.9/site-packages/pandas/core/array_algos/take.py:117\u001b[0m, in \u001b[0;36mtake_nd\u001b[0;34m(arr, indexer, axis, fill_value, allow_fill)\u001b[0m\n\u001b[1;32m    114\u001b[0m     \u001b[39mreturn\u001b[39;00m arr\u001b[39m.\u001b[39mtake(indexer, fill_value\u001b[39m=\u001b[39mfill_value, allow_fill\u001b[39m=\u001b[39mallow_fill)\n\u001b[1;32m    116\u001b[0m arr \u001b[39m=\u001b[39m np\u001b[39m.\u001b[39masarray(arr)\n\u001b[0;32m--> 117\u001b[0m \u001b[39mreturn\u001b[39;00m _take_nd_ndarray(arr, indexer, axis, fill_value, allow_fill)\n",
      "File \u001b[0;32m~/Desktop/TAU/DrugLab/venv/lib/python3.9/site-packages/pandas/core/array_algos/take.py:134\u001b[0m, in \u001b[0;36m_take_nd_ndarray\u001b[0;34m(arr, indexer, axis, fill_value, allow_fill)\u001b[0m\n\u001b[1;32m    131\u001b[0m \u001b[39melse\u001b[39;00m:\n\u001b[1;32m    132\u001b[0m     indexer \u001b[39m=\u001b[39m ensure_platform_int(indexer)\n\u001b[0;32m--> 134\u001b[0m dtype, fill_value, mask_info \u001b[39m=\u001b[39m _take_preprocess_indexer_and_fill_value(\n\u001b[1;32m    135\u001b[0m     arr, indexer, fill_value, allow_fill\n\u001b[1;32m    136\u001b[0m )\n\u001b[1;32m    138\u001b[0m flip_order \u001b[39m=\u001b[39m \u001b[39mFalse\u001b[39;00m\n\u001b[1;32m    139\u001b[0m \u001b[39mif\u001b[39;00m arr\u001b[39m.\u001b[39mndim \u001b[39m==\u001b[39m \u001b[39m2\u001b[39m \u001b[39mand\u001b[39;00m arr\u001b[39m.\u001b[39mflags\u001b[39m.\u001b[39mf_contiguous:\n",
      "File \u001b[0;32m~/Desktop/TAU/DrugLab/venv/lib/python3.9/site-packages/pandas/core/array_algos/take.py:569\u001b[0m, in \u001b[0;36m_take_preprocess_indexer_and_fill_value\u001b[0;34m(arr, indexer, fill_value, allow_fill, mask)\u001b[0m\n\u001b[1;32m    565\u001b[0m     mask_info \u001b[39m=\u001b[39m \u001b[39mNone\u001b[39;00m, \u001b[39mFalse\u001b[39;00m\n\u001b[1;32m    566\u001b[0m \u001b[39melse\u001b[39;00m:\n\u001b[1;32m    567\u001b[0m     \u001b[39m# check for promotion based on types only (do this first because\u001b[39;00m\n\u001b[1;32m    568\u001b[0m     \u001b[39m# it's faster than computing a mask)\u001b[39;00m\n\u001b[0;32m--> 569\u001b[0m     dtype, fill_value \u001b[39m=\u001b[39m maybe_promote(arr\u001b[39m.\u001b[39;49mdtype, fill_value)\n\u001b[1;32m    570\u001b[0m     \u001b[39mif\u001b[39;00m dtype \u001b[39m!=\u001b[39m arr\u001b[39m.\u001b[39mdtype:\n\u001b[1;32m    571\u001b[0m         \u001b[39m# check if promotion is actually required based on indexer\u001b[39;00m\n\u001b[1;32m    572\u001b[0m         \u001b[39mif\u001b[39;00m mask \u001b[39mis\u001b[39;00m \u001b[39mnot\u001b[39;00m \u001b[39mNone\u001b[39;00m:\n",
      "File \u001b[0;32m~/Desktop/TAU/DrugLab/venv/lib/python3.9/site-packages/pandas/core/dtypes/cast.py:558\u001b[0m, in \u001b[0;36mmaybe_promote\u001b[0;34m(dtype, fill_value)\u001b[0m\n\u001b[1;32m    552\u001b[0m \u001b[39m# for performance, we are using a cached version of the actual implementation\u001b[39;00m\n\u001b[1;32m    553\u001b[0m \u001b[39m# of the function in _maybe_promote. However, this doesn't always work (in case\u001b[39;00m\n\u001b[1;32m    554\u001b[0m \u001b[39m# of non-hashable arguments), so we fallback to the actual implementation if needed\u001b[39;00m\n\u001b[1;32m    555\u001b[0m \u001b[39mtry\u001b[39;00m:\n\u001b[1;32m    556\u001b[0m     \u001b[39m# error: Argument 3 to \"__call__\" of \"_lru_cache_wrapper\" has incompatible type\u001b[39;00m\n\u001b[1;32m    557\u001b[0m     \u001b[39m# \"Type[Any]\"; expected \"Hashable\"  [arg-type]\u001b[39;00m\n\u001b[0;32m--> 558\u001b[0m     \u001b[39mreturn\u001b[39;00m _maybe_promote_cached(\n\u001b[1;32m    559\u001b[0m         dtype, fill_value, \u001b[39mtype\u001b[39;49m(fill_value)  \u001b[39m# type: ignore[arg-type]\u001b[39;49;00m\n\u001b[1;32m    560\u001b[0m     )\n\u001b[1;32m    561\u001b[0m \u001b[39mexcept\u001b[39;00m \u001b[39mTypeError\u001b[39;00m:\n\u001b[1;32m    562\u001b[0m     \u001b[39m# if fill_value is not hashable (required for caching)\u001b[39;00m\n\u001b[1;32m    563\u001b[0m     \u001b[39mreturn\u001b[39;00m _maybe_promote(dtype, fill_value)\n",
      "\u001b[0;31mKeyboardInterrupt\u001b[0m: "
     ]
    }
   ],
   "source": [
    "## Querier\n",
    "mimic_data_querier = querier.DatasetQuerier(\n",
    "    data = data,\n",
    "    res = res,\n",
    "    t_labs=m_labs, \n",
    "    t_med1=m_med1, \n",
    "    t_med2=m_med2,\n",
    "    gender=gender, \n",
    "    age_b=age_b, \n",
    "    age_a=age_a, \n",
    "    ethnicity=ethnicity, \n",
    "    lab_mapping=lab_mapping\n",
    ")\n",
    "# query pairs for all medication and lab tests\n",
    "m_final_lab_med_data = mimic_data_querier.generate_med_lab_data(before_windows, after_windows, lab_parts=(0,15))"
   ]
  },
  {
   "cell_type": "code",
   "execution_count": null,
   "metadata": {},
   "outputs": [],
   "source": [
    "m_final_lab_med_data"
   ]
  },
  {
   "cell_type": "code",
   "execution_count": null,
   "metadata": {},
   "outputs": [],
   "source": []
  },
  {
   "cell_type": "code",
   "execution_count": 10,
   "metadata": {},
   "outputs": [],
   "source": [
    "m_labs.to_csv(\"temp_mimic_{lab_parts}_labs.csv\")\n",
    "m_med1.to_csv(\"temp_mimic_{lab_parts}_med1.csv\")\n",
    "m_med2.to_csv(\"temp_mimic_{lab_parts}_med2.csv\")"
   ]
  },
  {
   "cell_type": "code",
   "execution_count": 11,
   "metadata": {},
   "outputs": [
    {
     "name": "stdout",
     "output_type": "stream",
     "text": [
      "Loading med data...\n",
      "Generate med data....\n"
     ]
    },
    {
     "name": "stderr",
     "output_type": "stream",
     "text": [
      "/Users/pavan/Desktop/TAU/DrugLab/src/parsers/mimic.py:51: FutureWarning: Passing 'suffixes' which cause duplicate columns {'ROW_ID_x'} in the result is deprecated and will raise a MergeError in a future version.\n",
      "  m_p_df = pd.merge(inputevents_mv, med_data, how=\"inner\", on=\"ITEMID\")\n"
     ]
    },
    {
     "name": "stdout",
     "output_type": "stream",
     "text": [
      "Generated med data.\n",
      "Loaded med data.\n",
      "Load 1st and 2nd medication data...\n",
      "Loaded 1st and 2nd medication data.\n",
      "Load Lab data...\n",
      "Generate lab data from labevents...\n"
     ]
    },
    {
     "name": "stderr",
     "output_type": "stream",
     "text": [
      "/Users/pavan/Desktop/TAU/DrugLab/src/parsers/mimic.py:138: DtypeWarning: Columns (29) have mixed types. Specify dtype option on import or set low_memory=False.\n",
      "  labevents = pd.read_csv(os.path.join(self.data, constants.MIMIC_III_PREPROCESSED_PATH, constants.MIMIC_III_LABEVENT_PREPROCESSED))\n"
     ]
    },
    {
     "name": "stdout",
     "output_type": "stream",
     "text": [
      "Generated lab data from labevents.\n",
      "Generate lab data from chartevents...\n"
     ]
    },
    {
     "name": "stderr",
     "output_type": "stream",
     "text": [
      "/Users/pavan/Desktop/TAU/DrugLab/src/parsers/mimic.py:184: DtypeWarning: Columns (9) have mixed types. Specify dtype option on import or set low_memory=False.\n",
      "  chartevents = pd.concat([pd.read_csv(path) for path in res_paths], ignore_index=True) ## concatenation of output from each chunk\n",
      "/Users/pavan/Desktop/TAU/DrugLab/src/parsers/mimic.py:184: DtypeWarning: Columns (9) have mixed types. Specify dtype option on import or set low_memory=False.\n",
      "  chartevents = pd.concat([pd.read_csv(path) for path in res_paths], ignore_index=True) ## concatenation of output from each chunk\n",
      "/Users/pavan/Desktop/TAU/DrugLab/src/parsers/mimic.py:184: DtypeWarning: Columns (9) have mixed types. Specify dtype option on import or set low_memory=False.\n",
      "  chartevents = pd.concat([pd.read_csv(path) for path in res_paths], ignore_index=True) ## concatenation of output from each chunk\n",
      "/Users/pavan/Desktop/TAU/DrugLab/src/parsers/mimic.py:184: DtypeWarning: Columns (9) have mixed types. Specify dtype option on import or set low_memory=False.\n",
      "  chartevents = pd.concat([pd.read_csv(path) for path in res_paths], ignore_index=True) ## concatenation of output from each chunk\n",
      "/Users/pavan/Desktop/TAU/DrugLab/src/parsers/mimic.py:184: DtypeWarning: Columns (9) have mixed types. Specify dtype option on import or set low_memory=False.\n",
      "  chartevents = pd.concat([pd.read_csv(path) for path in res_paths], ignore_index=True) ## concatenation of output from each chunk\n",
      "/Users/pavan/Desktop/TAU/DrugLab/src/parsers/mimic.py:184: DtypeWarning: Columns (9) have mixed types. Specify dtype option on import or set low_memory=False.\n",
      "  chartevents = pd.concat([pd.read_csv(path) for path in res_paths], ignore_index=True) ## concatenation of output from each chunk\n",
      "/Users/pavan/Desktop/TAU/DrugLab/src/parsers/mimic.py:184: DtypeWarning: Columns (9) have mixed types. Specify dtype option on import or set low_memory=False.\n",
      "  chartevents = pd.concat([pd.read_csv(path) for path in res_paths], ignore_index=True) ## concatenation of output from each chunk\n",
      "/Users/pavan/Desktop/TAU/DrugLab/src/parsers/mimic.py:184: DtypeWarning: Columns (9) have mixed types. Specify dtype option on import or set low_memory=False.\n",
      "  chartevents = pd.concat([pd.read_csv(path) for path in res_paths], ignore_index=True) ## concatenation of output from each chunk\n",
      "/Users/pavan/Desktop/TAU/DrugLab/src/parsers/mimic.py:184: DtypeWarning: Columns (9) have mixed types. Specify dtype option on import or set low_memory=False.\n",
      "  chartevents = pd.concat([pd.read_csv(path) for path in res_paths], ignore_index=True) ## concatenation of output from each chunk\n",
      "/Users/pavan/Desktop/TAU/DrugLab/src/parsers/mimic.py:184: DtypeWarning: Columns (9) have mixed types. Specify dtype option on import or set low_memory=False.\n",
      "  chartevents = pd.concat([pd.read_csv(path) for path in res_paths], ignore_index=True) ## concatenation of output from each chunk\n",
      "/Users/pavan/Desktop/TAU/DrugLab/src/parsers/mimic.py:184: DtypeWarning: Columns (9) have mixed types. Specify dtype option on import or set low_memory=False.\n",
      "  chartevents = pd.concat([pd.read_csv(path) for path in res_paths], ignore_index=True) ## concatenation of output from each chunk\n"
     ]
    },
    {
     "name": "stdout",
     "output_type": "stream",
     "text": [
      "Generated lab data from chartevents.\n"
     ]
    },
    {
     "name": "stderr",
     "output_type": "stream",
     "text": [
      "/Users/pavan/Desktop/TAU/DrugLab/src/parsers/mimic.py:213: FutureWarning: Inferring datetime64[ns] from data containing strings is deprecated and will be removed in a future version. To retain the old behavior explicitly pass Series(data, dtype=datetime64[ns])\n",
      "  merged_chart_lab_events = merged_chart_lab_events.groupby([\"HADM_ID\", \"ADMITTIME\", \"CHARTTIME\", \"VALUENUM\", \"MIMICExtractName\"]).nth(0).reset_index()\n"
     ]
    },
    {
     "name": "stdout",
     "output_type": "stream",
     "text": [
      "Loaded Lab data.\n"
     ]
    }
   ],
   "source": [
    "# MIMIC\n",
    "mimic_parser = mimic.MIMICParser(data=data, res=res, gender=gender, age_b=age_b, age_a=age_a, ethnicity=ethnicity, load=\"AUTOMATIC_MAPPING_MIMIC\")\n",
    "m_med1, m_med2, m_labs = mimic_parser.parse(use_pairs=False, load_from_raw=True, load_raw_chartevents=False, lab_parts=(15,30))"
   ]
  },
  {
   "cell_type": "code",
   "execution_count": 12,
   "metadata": {},
   "outputs": [
    {
     "name": "stderr",
     "output_type": "stream",
     "text": [
      "/Users/pavan/Desktop/TAU/DrugLab/src/modeling/querier.py:119: FutureWarning: reindexing with a non-unique Index is deprecated and will raise in a future version.\n",
      "  temp = temp.apply(lambda r : self.get_vals(r, t_labs, t_med1, t_med2, before_windows, after_windows), axis=1)\n"
     ]
    },
    {
     "ename": "ValueError",
     "evalue": "cannot reindex on an axis with duplicate labels",
     "output_type": "error",
     "traceback": [
      "\u001b[0;31m---------------------------------------------------------------------------\u001b[0m",
      "\u001b[0;31mValueError\u001b[0m                                Traceback (most recent call last)",
      "Cell \u001b[0;32mIn[12], line 15\u001b[0m\n\u001b[1;32m      2\u001b[0m mimic_data_querier \u001b[39m=\u001b[39m querier\u001b[39m.\u001b[39mDatasetQuerier(\n\u001b[1;32m      3\u001b[0m     data \u001b[39m=\u001b[39m data,\n\u001b[1;32m      4\u001b[0m     res \u001b[39m=\u001b[39m res,\n\u001b[0;32m   (...)\u001b[0m\n\u001b[1;32m     12\u001b[0m     lab_mapping\u001b[39m=\u001b[39mlab_mapping\n\u001b[1;32m     13\u001b[0m )\n\u001b[1;32m     14\u001b[0m \u001b[39m# query pairs for all medication and lab tests\u001b[39;00m\n\u001b[0;32m---> 15\u001b[0m m_final_lab_med_data \u001b[39m=\u001b[39m mimic_data_querier\u001b[39m.\u001b[39;49mgenerate_med_lab_data(before_windows, after_windows, lab_parts\u001b[39m=\u001b[39;49m(\u001b[39m15\u001b[39;49m,\u001b[39m30\u001b[39;49m))\n",
      "File \u001b[0;32m~/Desktop/TAU/DrugLab/src/modeling/querier.py:119\u001b[0m, in \u001b[0;36mDatasetQuerier.generate_med_lab_data\u001b[0;34m(self, before_windows, after_windows, lab_parts)\u001b[0m\n\u001b[1;32m    116\u001b[0m cols\u001b[39m.\u001b[39mextend(cols_a)\n\u001b[1;32m    117\u001b[0m temp \u001b[39m=\u001b[39m t_med1\u001b[39m.\u001b[39mcopy()\n\u001b[0;32m--> 119\u001b[0m temp \u001b[39m=\u001b[39m temp\u001b[39m.\u001b[39;49mapply(\u001b[39mlambda\u001b[39;49;00m r : \u001b[39mself\u001b[39;49m\u001b[39m.\u001b[39;49mget_vals(r, t_labs, t_med1, t_med2, before_windows, after_windows), axis\u001b[39m=\u001b[39;49m\u001b[39m1\u001b[39;49m)\n\u001b[1;32m    120\u001b[0m \u001b[39mself\u001b[39m\u001b[39m.\u001b[39mtemp \u001b[39m=\u001b[39m temp\n\u001b[1;32m    121\u001b[0m temp\u001b[39m.\u001b[39mto_csv(os\u001b[39m.\u001b[39mpath\u001b[39m.\u001b[39mjoin(\u001b[39mself\u001b[39m\u001b[39m.\u001b[39mres, \u001b[39mf\u001b[39m\u001b[39m\"\u001b[39m\u001b[39mbefore_after_windows_main_med_lab_first_val_\u001b[39m\u001b[39m{\u001b[39;00m\u001b[39mself\u001b[39m\u001b[39m.\u001b[39mstratify_prefix\u001b[39m}\u001b[39;00m\u001b[39m_doc_eval_new_win_\u001b[39m\u001b[39m{\u001b[39;00mlab_parts\u001b[39m}\u001b[39;00m\u001b[39m.csv\u001b[39m\u001b[39m\"\u001b[39m))\n",
      "File \u001b[0;32m~/Desktop/TAU/DrugLab/venv/lib/python3.9/site-packages/pandas/core/frame.py:9568\u001b[0m, in \u001b[0;36mDataFrame.apply\u001b[0;34m(self, func, axis, raw, result_type, args, **kwargs)\u001b[0m\n\u001b[1;32m   9557\u001b[0m \u001b[39mfrom\u001b[39;00m \u001b[39mpandas\u001b[39;00m\u001b[39m.\u001b[39;00m\u001b[39mcore\u001b[39;00m\u001b[39m.\u001b[39;00m\u001b[39mapply\u001b[39;00m \u001b[39mimport\u001b[39;00m frame_apply\n\u001b[1;32m   9559\u001b[0m op \u001b[39m=\u001b[39m frame_apply(\n\u001b[1;32m   9560\u001b[0m     \u001b[39mself\u001b[39m,\n\u001b[1;32m   9561\u001b[0m     func\u001b[39m=\u001b[39mfunc,\n\u001b[0;32m   (...)\u001b[0m\n\u001b[1;32m   9566\u001b[0m     kwargs\u001b[39m=\u001b[39mkwargs,\n\u001b[1;32m   9567\u001b[0m )\n\u001b[0;32m-> 9568\u001b[0m \u001b[39mreturn\u001b[39;00m op\u001b[39m.\u001b[39;49mapply()\u001b[39m.\u001b[39m__finalize__(\u001b[39mself\u001b[39m, method\u001b[39m=\u001b[39m\u001b[39m\"\u001b[39m\u001b[39mapply\u001b[39m\u001b[39m\"\u001b[39m)\n",
      "File \u001b[0;32m~/Desktop/TAU/DrugLab/venv/lib/python3.9/site-packages/pandas/core/apply.py:764\u001b[0m, in \u001b[0;36mFrameApply.apply\u001b[0;34m(self)\u001b[0m\n\u001b[1;32m    761\u001b[0m \u001b[39melif\u001b[39;00m \u001b[39mself\u001b[39m\u001b[39m.\u001b[39mraw:\n\u001b[1;32m    762\u001b[0m     \u001b[39mreturn\u001b[39;00m \u001b[39mself\u001b[39m\u001b[39m.\u001b[39mapply_raw()\n\u001b[0;32m--> 764\u001b[0m \u001b[39mreturn\u001b[39;00m \u001b[39mself\u001b[39;49m\u001b[39m.\u001b[39;49mapply_standard()\n",
      "File \u001b[0;32m~/Desktop/TAU/DrugLab/venv/lib/python3.9/site-packages/pandas/core/apply.py:894\u001b[0m, in \u001b[0;36mFrameApply.apply_standard\u001b[0;34m(self)\u001b[0m\n\u001b[1;32m    891\u001b[0m results, res_index \u001b[39m=\u001b[39m \u001b[39mself\u001b[39m\u001b[39m.\u001b[39mapply_series_generator()\n\u001b[1;32m    893\u001b[0m \u001b[39m# wrap results\u001b[39;00m\n\u001b[0;32m--> 894\u001b[0m \u001b[39mreturn\u001b[39;00m \u001b[39mself\u001b[39;49m\u001b[39m.\u001b[39;49mwrap_results(results, res_index)\n",
      "File \u001b[0;32m~/Desktop/TAU/DrugLab/venv/lib/python3.9/site-packages/pandas/core/apply.py:920\u001b[0m, in \u001b[0;36mFrameApply.wrap_results\u001b[0;34m(self, results, res_index)\u001b[0m\n\u001b[1;32m    918\u001b[0m \u001b[39m# see if we can infer the results\u001b[39;00m\n\u001b[1;32m    919\u001b[0m \u001b[39mif\u001b[39;00m \u001b[39mlen\u001b[39m(results) \u001b[39m>\u001b[39m \u001b[39m0\u001b[39m \u001b[39mand\u001b[39;00m \u001b[39m0\u001b[39m \u001b[39min\u001b[39;00m results \u001b[39mand\u001b[39;00m is_sequence(results[\u001b[39m0\u001b[39m]):\n\u001b[0;32m--> 920\u001b[0m     \u001b[39mreturn\u001b[39;00m \u001b[39mself\u001b[39;49m\u001b[39m.\u001b[39;49mwrap_results_for_axis(results, res_index)\n\u001b[1;32m    922\u001b[0m \u001b[39m# dict of scalars\u001b[39;00m\n\u001b[1;32m    923\u001b[0m \n\u001b[1;32m    924\u001b[0m \u001b[39m# the default dtype of an empty Series will be `object`, but this\u001b[39;00m\n\u001b[1;32m    925\u001b[0m \u001b[39m# code can be hit by df.mean() where the result should have dtype\u001b[39;00m\n\u001b[1;32m    926\u001b[0m \u001b[39m# float64 even if it's an empty Series.\u001b[39;00m\n\u001b[1;32m    927\u001b[0m constructor_sliced \u001b[39m=\u001b[39m \u001b[39mself\u001b[39m\u001b[39m.\u001b[39mobj\u001b[39m.\u001b[39m_constructor_sliced\n",
      "File \u001b[0;32m~/Desktop/TAU/DrugLab/venv/lib/python3.9/site-packages/pandas/core/apply.py:1067\u001b[0m, in \u001b[0;36mFrameColumnApply.wrap_results_for_axis\u001b[0;34m(self, results, res_index)\u001b[0m\n\u001b[1;32m   1063\u001b[0m     result\u001b[39m.\u001b[39mindex \u001b[39m=\u001b[39m res_index\n\u001b[1;32m   1065\u001b[0m \u001b[39m# we may want to infer results\u001b[39;00m\n\u001b[1;32m   1066\u001b[0m \u001b[39melse\u001b[39;00m:\n\u001b[0;32m-> 1067\u001b[0m     result \u001b[39m=\u001b[39m \u001b[39mself\u001b[39;49m\u001b[39m.\u001b[39;49minfer_to_same_shape(results, res_index)\n\u001b[1;32m   1069\u001b[0m \u001b[39mreturn\u001b[39;00m result\n",
      "File \u001b[0;32m~/Desktop/TAU/DrugLab/venv/lib/python3.9/site-packages/pandas/core/apply.py:1073\u001b[0m, in \u001b[0;36mFrameColumnApply.infer_to_same_shape\u001b[0;34m(self, results, res_index)\u001b[0m\n\u001b[1;32m   1071\u001b[0m \u001b[39mdef\u001b[39;00m \u001b[39minfer_to_same_shape\u001b[39m(\u001b[39mself\u001b[39m, results: ResType, res_index: Index) \u001b[39m-\u001b[39m\u001b[39m>\u001b[39m DataFrame:\n\u001b[1;32m   1072\u001b[0m \u001b[39m    \u001b[39m\u001b[39m\"\"\"infer the results to the same shape as the input object\"\"\"\u001b[39;00m\n\u001b[0;32m-> 1073\u001b[0m     result \u001b[39m=\u001b[39m \u001b[39mself\u001b[39;49m\u001b[39m.\u001b[39;49mobj\u001b[39m.\u001b[39;49m_constructor(data\u001b[39m=\u001b[39;49mresults)\n\u001b[1;32m   1074\u001b[0m     result \u001b[39m=\u001b[39m result\u001b[39m.\u001b[39mT\n\u001b[1;32m   1076\u001b[0m     \u001b[39m# set the index\u001b[39;00m\n",
      "File \u001b[0;32m~/Desktop/TAU/DrugLab/venv/lib/python3.9/site-packages/pandas/core/frame.py:664\u001b[0m, in \u001b[0;36mDataFrame.__init__\u001b[0;34m(self, data, index, columns, dtype, copy)\u001b[0m\n\u001b[1;32m    658\u001b[0m     mgr \u001b[39m=\u001b[39m \u001b[39mself\u001b[39m\u001b[39m.\u001b[39m_init_mgr(\n\u001b[1;32m    659\u001b[0m         data, axes\u001b[39m=\u001b[39m{\u001b[39m\"\u001b[39m\u001b[39mindex\u001b[39m\u001b[39m\"\u001b[39m: index, \u001b[39m\"\u001b[39m\u001b[39mcolumns\u001b[39m\u001b[39m\"\u001b[39m: columns}, dtype\u001b[39m=\u001b[39mdtype, copy\u001b[39m=\u001b[39mcopy\n\u001b[1;32m    660\u001b[0m     )\n\u001b[1;32m    662\u001b[0m \u001b[39melif\u001b[39;00m \u001b[39misinstance\u001b[39m(data, \u001b[39mdict\u001b[39m):\n\u001b[1;32m    663\u001b[0m     \u001b[39m# GH#38939 de facto copy defaults to False only in non-dict cases\u001b[39;00m\n\u001b[0;32m--> 664\u001b[0m     mgr \u001b[39m=\u001b[39m dict_to_mgr(data, index, columns, dtype\u001b[39m=\u001b[39;49mdtype, copy\u001b[39m=\u001b[39;49mcopy, typ\u001b[39m=\u001b[39;49mmanager)\n\u001b[1;32m    665\u001b[0m \u001b[39melif\u001b[39;00m \u001b[39misinstance\u001b[39m(data, ma\u001b[39m.\u001b[39mMaskedArray):\n\u001b[1;32m    666\u001b[0m     \u001b[39mimport\u001b[39;00m \u001b[39mnumpy\u001b[39;00m\u001b[39m.\u001b[39;00m\u001b[39mma\u001b[39;00m\u001b[39m.\u001b[39;00m\u001b[39mmrecords\u001b[39;00m \u001b[39mas\u001b[39;00m \u001b[39mmrecords\u001b[39;00m\n",
      "File \u001b[0;32m~/Desktop/TAU/DrugLab/venv/lib/python3.9/site-packages/pandas/core/internals/construction.py:493\u001b[0m, in \u001b[0;36mdict_to_mgr\u001b[0;34m(data, index, columns, dtype, typ, copy)\u001b[0m\n\u001b[1;32m    489\u001b[0m     \u001b[39melse\u001b[39;00m:\n\u001b[1;32m    490\u001b[0m         \u001b[39m# dtype check to exclude e.g. range objects, scalars\u001b[39;00m\n\u001b[1;32m    491\u001b[0m         arrays \u001b[39m=\u001b[39m [x\u001b[39m.\u001b[39mcopy() \u001b[39mif\u001b[39;00m \u001b[39mhasattr\u001b[39m(x, \u001b[39m\"\u001b[39m\u001b[39mdtype\u001b[39m\u001b[39m\"\u001b[39m) \u001b[39melse\u001b[39;00m x \u001b[39mfor\u001b[39;00m x \u001b[39min\u001b[39;00m arrays]\n\u001b[0;32m--> 493\u001b[0m \u001b[39mreturn\u001b[39;00m arrays_to_mgr(arrays, columns, index, dtype\u001b[39m=\u001b[39;49mdtype, typ\u001b[39m=\u001b[39;49mtyp, consolidate\u001b[39m=\u001b[39;49mcopy)\n",
      "File \u001b[0;32m~/Desktop/TAU/DrugLab/venv/lib/python3.9/site-packages/pandas/core/internals/construction.py:123\u001b[0m, in \u001b[0;36marrays_to_mgr\u001b[0;34m(arrays, columns, index, dtype, verify_integrity, typ, consolidate)\u001b[0m\n\u001b[1;32m    120\u001b[0m         index \u001b[39m=\u001b[39m ensure_index(index)\n\u001b[1;32m    122\u001b[0m     \u001b[39m# don't force copy because getting jammed in an ndarray anyway\u001b[39;00m\n\u001b[0;32m--> 123\u001b[0m     arrays \u001b[39m=\u001b[39m _homogenize(arrays, index, dtype)\n\u001b[1;32m    124\u001b[0m     \u001b[39m# _homogenize ensures\u001b[39;00m\n\u001b[1;32m    125\u001b[0m     \u001b[39m#  - all(len(x) == len(index) for x in arrays)\u001b[39;00m\n\u001b[1;32m    126\u001b[0m     \u001b[39m#  - all(x.ndim == 1 for x in arrays)\u001b[39;00m\n\u001b[0;32m   (...)\u001b[0m\n\u001b[1;32m    129\u001b[0m \n\u001b[1;32m    130\u001b[0m \u001b[39melse\u001b[39;00m:\n\u001b[1;32m    131\u001b[0m     index \u001b[39m=\u001b[39m ensure_index(index)\n",
      "File \u001b[0;32m~/Desktop/TAU/DrugLab/venv/lib/python3.9/site-packages/pandas/core/internals/construction.py:599\u001b[0m, in \u001b[0;36m_homogenize\u001b[0;34m(data, index, dtype)\u001b[0m\n\u001b[1;32m    595\u001b[0m         val \u001b[39m=\u001b[39m val\u001b[39m.\u001b[39mastype(dtype, copy\u001b[39m=\u001b[39m\u001b[39mFalse\u001b[39;00m)\n\u001b[1;32m    596\u001b[0m     \u001b[39mif\u001b[39;00m val\u001b[39m.\u001b[39mindex \u001b[39mis\u001b[39;00m \u001b[39mnot\u001b[39;00m index:\n\u001b[1;32m    597\u001b[0m         \u001b[39m# Forces alignment. No need to copy data since we\u001b[39;00m\n\u001b[1;32m    598\u001b[0m         \u001b[39m# are putting it into an ndarray later\u001b[39;00m\n\u001b[0;32m--> 599\u001b[0m         val \u001b[39m=\u001b[39m val\u001b[39m.\u001b[39;49mreindex(index, copy\u001b[39m=\u001b[39;49m\u001b[39mFalse\u001b[39;49;00m)\n\u001b[1;32m    601\u001b[0m     val \u001b[39m=\u001b[39m val\u001b[39m.\u001b[39m_values\n\u001b[1;32m    602\u001b[0m \u001b[39melse\u001b[39;00m:\n",
      "File \u001b[0;32m~/Desktop/TAU/DrugLab/venv/lib/python3.9/site-packages/pandas/core/series.py:5094\u001b[0m, in \u001b[0;36mSeries.reindex\u001b[0;34m(self, *args, **kwargs)\u001b[0m\n\u001b[1;32m   5090\u001b[0m         \u001b[39mraise\u001b[39;00m \u001b[39mTypeError\u001b[39;00m(\n\u001b[1;32m   5091\u001b[0m             \u001b[39m\"\u001b[39m\u001b[39m'\u001b[39m\u001b[39mindex\u001b[39m\u001b[39m'\u001b[39m\u001b[39m passed as both positional and keyword argument\u001b[39m\u001b[39m\"\u001b[39m\n\u001b[1;32m   5092\u001b[0m         )\n\u001b[1;32m   5093\u001b[0m     kwargs\u001b[39m.\u001b[39mupdate({\u001b[39m\"\u001b[39m\u001b[39mindex\u001b[39m\u001b[39m\"\u001b[39m: index})\n\u001b[0;32m-> 5094\u001b[0m \u001b[39mreturn\u001b[39;00m \u001b[39msuper\u001b[39;49m()\u001b[39m.\u001b[39;49mreindex(\u001b[39m*\u001b[39;49m\u001b[39m*\u001b[39;49mkwargs)\n",
      "File \u001b[0;32m~/Desktop/TAU/DrugLab/venv/lib/python3.9/site-packages/pandas/core/generic.py:5289\u001b[0m, in \u001b[0;36mNDFrame.reindex\u001b[0;34m(self, *args, **kwargs)\u001b[0m\n\u001b[1;32m   5286\u001b[0m     \u001b[39mreturn\u001b[39;00m \u001b[39mself\u001b[39m\u001b[39m.\u001b[39m_reindex_multi(axes, copy, fill_value)\n\u001b[1;32m   5288\u001b[0m \u001b[39m# perform the reindex on the axes\u001b[39;00m\n\u001b[0;32m-> 5289\u001b[0m \u001b[39mreturn\u001b[39;00m \u001b[39mself\u001b[39;49m\u001b[39m.\u001b[39;49m_reindex_axes(\n\u001b[1;32m   5290\u001b[0m     axes, level, limit, tolerance, method, fill_value, copy\n\u001b[1;32m   5291\u001b[0m )\u001b[39m.\u001b[39m__finalize__(\u001b[39mself\u001b[39m, method\u001b[39m=\u001b[39m\u001b[39m\"\u001b[39m\u001b[39mreindex\u001b[39m\u001b[39m\"\u001b[39m)\n",
      "File \u001b[0;32m~/Desktop/TAU/DrugLab/venv/lib/python3.9/site-packages/pandas/core/generic.py:5309\u001b[0m, in \u001b[0;36mNDFrame._reindex_axes\u001b[0;34m(self, axes, level, limit, tolerance, method, fill_value, copy)\u001b[0m\n\u001b[1;32m   5304\u001b[0m new_index, indexer \u001b[39m=\u001b[39m ax\u001b[39m.\u001b[39mreindex(\n\u001b[1;32m   5305\u001b[0m     labels, level\u001b[39m=\u001b[39mlevel, limit\u001b[39m=\u001b[39mlimit, tolerance\u001b[39m=\u001b[39mtolerance, method\u001b[39m=\u001b[39mmethod\n\u001b[1;32m   5306\u001b[0m )\n\u001b[1;32m   5308\u001b[0m axis \u001b[39m=\u001b[39m \u001b[39mself\u001b[39m\u001b[39m.\u001b[39m_get_axis_number(a)\n\u001b[0;32m-> 5309\u001b[0m obj \u001b[39m=\u001b[39m obj\u001b[39m.\u001b[39;49m_reindex_with_indexers(\n\u001b[1;32m   5310\u001b[0m     {axis: [new_index, indexer]},\n\u001b[1;32m   5311\u001b[0m     fill_value\u001b[39m=\u001b[39;49mfill_value,\n\u001b[1;32m   5312\u001b[0m     copy\u001b[39m=\u001b[39;49mcopy,\n\u001b[1;32m   5313\u001b[0m     allow_dups\u001b[39m=\u001b[39;49m\u001b[39mFalse\u001b[39;49;00m,\n\u001b[1;32m   5314\u001b[0m )\n\u001b[1;32m   5315\u001b[0m \u001b[39m# If we've made a copy once, no need to make another one\u001b[39;00m\n\u001b[1;32m   5316\u001b[0m copy \u001b[39m=\u001b[39m \u001b[39mFalse\u001b[39;00m\n",
      "File \u001b[0;32m~/Desktop/TAU/DrugLab/venv/lib/python3.9/site-packages/pandas/core/generic.py:5355\u001b[0m, in \u001b[0;36mNDFrame._reindex_with_indexers\u001b[0;34m(self, reindexers, fill_value, copy, allow_dups)\u001b[0m\n\u001b[1;32m   5352\u001b[0m     indexer \u001b[39m=\u001b[39m ensure_platform_int(indexer)\n\u001b[1;32m   5354\u001b[0m \u001b[39m# TODO: speed up on homogeneous DataFrame objects (see _reindex_multi)\u001b[39;00m\n\u001b[0;32m-> 5355\u001b[0m new_data \u001b[39m=\u001b[39m new_data\u001b[39m.\u001b[39;49mreindex_indexer(\n\u001b[1;32m   5356\u001b[0m     index,\n\u001b[1;32m   5357\u001b[0m     indexer,\n\u001b[1;32m   5358\u001b[0m     axis\u001b[39m=\u001b[39;49mbaxis,\n\u001b[1;32m   5359\u001b[0m     fill_value\u001b[39m=\u001b[39;49mfill_value,\n\u001b[1;32m   5360\u001b[0m     allow_dups\u001b[39m=\u001b[39;49mallow_dups,\n\u001b[1;32m   5361\u001b[0m     copy\u001b[39m=\u001b[39;49mcopy,\n\u001b[1;32m   5362\u001b[0m )\n\u001b[1;32m   5363\u001b[0m \u001b[39m# If we've made a copy once, no need to make another one\u001b[39;00m\n\u001b[1;32m   5364\u001b[0m copy \u001b[39m=\u001b[39m \u001b[39mFalse\u001b[39;00m\n",
      "File \u001b[0;32m~/Desktop/TAU/DrugLab/venv/lib/python3.9/site-packages/pandas/core/internals/managers.py:737\u001b[0m, in \u001b[0;36mBaseBlockManager.reindex_indexer\u001b[0;34m(self, new_axis, indexer, axis, fill_value, allow_dups, copy, only_slice, use_na_proxy)\u001b[0m\n\u001b[1;32m    735\u001b[0m \u001b[39m# some axes don't allow reindexing with dups\u001b[39;00m\n\u001b[1;32m    736\u001b[0m \u001b[39mif\u001b[39;00m \u001b[39mnot\u001b[39;00m allow_dups:\n\u001b[0;32m--> 737\u001b[0m     \u001b[39mself\u001b[39;49m\u001b[39m.\u001b[39;49maxes[axis]\u001b[39m.\u001b[39;49m_validate_can_reindex(indexer)\n\u001b[1;32m    739\u001b[0m \u001b[39mif\u001b[39;00m axis \u001b[39m>\u001b[39m\u001b[39m=\u001b[39m \u001b[39mself\u001b[39m\u001b[39m.\u001b[39mndim:\n\u001b[1;32m    740\u001b[0m     \u001b[39mraise\u001b[39;00m \u001b[39mIndexError\u001b[39;00m(\u001b[39m\"\u001b[39m\u001b[39mRequested axis not found in manager\u001b[39m\u001b[39m\"\u001b[39m)\n",
      "File \u001b[0;32m~/Desktop/TAU/DrugLab/venv/lib/python3.9/site-packages/pandas/core/indexes/base.py:4316\u001b[0m, in \u001b[0;36mIndex._validate_can_reindex\u001b[0;34m(self, indexer)\u001b[0m\n\u001b[1;32m   4314\u001b[0m \u001b[39m# trying to reindex on an axis with duplicates\u001b[39;00m\n\u001b[1;32m   4315\u001b[0m \u001b[39mif\u001b[39;00m \u001b[39mnot\u001b[39;00m \u001b[39mself\u001b[39m\u001b[39m.\u001b[39m_index_as_unique \u001b[39mand\u001b[39;00m \u001b[39mlen\u001b[39m(indexer):\n\u001b[0;32m-> 4316\u001b[0m     \u001b[39mraise\u001b[39;00m \u001b[39mValueError\u001b[39;00m(\u001b[39m\"\u001b[39m\u001b[39mcannot reindex on an axis with duplicate labels\u001b[39m\u001b[39m\"\u001b[39m)\n",
      "\u001b[0;31mValueError\u001b[0m: cannot reindex on an axis with duplicate labels"
     ]
    }
   ],
   "source": [
    "## Querier\n",
    "mimic_data_querier = querier.DatasetQuerier(\n",
    "    data = data,\n",
    "    res = res,\n",
    "    t_labs=m_labs, \n",
    "    t_med1=m_med1, \n",
    "    t_med2=m_med2,\n",
    "    gender=gender, \n",
    "    age_b=age_b, \n",
    "    age_a=age_a, \n",
    "    ethnicity=ethnicity, \n",
    "    lab_mapping=lab_mapping\n",
    ")\n",
    "# query pairs for all medication and lab tests\n",
    "m_final_lab_med_data = mimic_data_querier.generate_med_lab_data(before_windows, after_windows, lab_parts=(15,30))"
   ]
  },
  {
   "cell_type": "code",
   "execution_count": null,
   "metadata": {},
   "outputs": [],
   "source": [
    "## Discovery Analysis for the queried medication and lab test pairs in the chosen before and after windows\n",
    "analyzer = discovery.ClinicalDiscoveryAnalysis(m_final_lab_med_data)\n",
    "pvals_med_lab = analyzer.analyze(before_windows, after_windows)\n",
    "sig_med_lab = analyzer.generate_significant(pvals_med_lab.dropna(subset=[\"TTest Paired\"]))"
   ]
  },
  {
   "cell_type": "code",
   "execution_count": null,
   "metadata": {},
   "outputs": [],
   "source": [
    "\n",
    "## Plots\n",
    "plotter = plots.ClinicalPlotAnalysis(\n",
    "    data = data,\n",
    "    res = res,\n",
    "    gender=gender, \n",
    "    age_b=age_b, \n",
    "    age_a=age_a, \n",
    "    ethnicity=ethnicity, \n",
    "    lab_mapping=lab_mapping\n",
    ")\n",
    "m_corrs_data_df = plotter.plot(m_final_lab_med_data, m_labs, before_windows=before_windows, after_windows=after_windows)"
   ]
  }
 ],
 "metadata": {
  "kernelspec": {
   "display_name": "Python 3 (ipykernel)",
   "language": "python",
   "name": "python3"
  },
  "language_info": {
   "codemirror_mode": {
    "name": "ipython",
    "version": 3
   },
   "file_extension": ".py",
   "mimetype": "text/x-python",
   "name": "python",
   "nbconvert_exporter": "python",
   "pygments_lexer": "ipython3",
   "version": "3.9.6"
  },
  "vscode": {
   "interpreter": {
    "hash": "3d18dfdd61f4205bc820c4db60d6212c4a8bed06c39bf54702a27b774e005900"
   }
  }
 },
 "nbformat": 4,
 "nbformat_minor": 2
}
