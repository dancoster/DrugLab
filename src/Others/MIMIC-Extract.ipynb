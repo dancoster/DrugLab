{
 "cells": [
  {
   "cell_type": "markdown",
   "id": "1f97d31c",
   "metadata": {},
   "source": [
    "# MIMIC Feature Extract"
   ]
  },
  {
   "cell_type": "code",
   "execution_count": 12,
   "id": "47d92df4",
   "metadata": {},
   "outputs": [],
   "source": [
    "import h5py"
   ]
  },
  {
   "cell_type": "code",
   "execution_count": 14,
   "id": "c8cdd137",
   "metadata": {},
   "outputs": [],
   "source": [
    "feature_extract = h5py.File(r'C:\\Users\\YVM Reddy\\Downloads\\all_hourly_data.h5', 'r')"
   ]
  },
  {
   "cell_type": "code",
   "execution_count": 17,
   "id": "72fbde50",
   "metadata": {},
   "outputs": [
    {
     "data": {
      "text/plain": [
       "<KeysViewHDF5 ['codes', 'interventions', 'patients', 'vitals_labs', 'vitals_labs_mean']>"
      ]
     },
     "execution_count": 17,
     "metadata": {},
     "output_type": "execute_result"
    }
   ],
   "source": [
    "feature_extract.keys()"
   ]
  },
  {
   "cell_type": "code",
   "execution_count": 20,
   "id": "904e07fb",
   "metadata": {},
   "outputs": [
    {
     "data": {
      "text/plain": [
       "<KeysViewHDF5 ['axis0', 'axis1_label0', 'axis1_label1', 'axis1_label2', 'axis1_label3', 'axis1_level0', 'axis1_level1', 'axis1_level2', 'axis1_level3', 'block0_items', 'block0_values']>"
      ]
     },
     "execution_count": 20,
     "metadata": {},
     "output_type": "execute_result"
    }
   ],
   "source": [
    "feature_extract['codes'].keys()"
   ]
  },
  {
   "cell_type": "code",
   "execution_count": 39,
   "id": "b98387e4",
   "metadata": {},
   "outputs": [],
   "source": [
    "import numpy as np"
   ]
  },
  {
   "cell_type": "code",
   "execution_count": 40,
   "id": "03ddf740",
   "metadata": {},
   "outputs": [],
   "source": [
    "patient_data = np.array(feature_extract['patients']['table'])"
   ]
  },
  {
   "cell_type": "code",
   "execution_count": 61,
   "id": "9defcbc6",
   "metadata": {},
   "outputs": [
    {
     "data": {
      "text/plain": [
       "array([(    0, [1], [ 4159278480000000000, -9223372036854775808,  4160210280000000000,  4159288800000000000,  4159278611000000000,  4159802589000000000], [76.52679248,  0.        ,  0.        ,  0.        ,  1.        ,  0.        ,  1.        ,  1.        ,  6.06456019], [b'HYPOTENSION', b'SNF', b'Medicare'], [36], [2], [1], [  0,   1, 145,   0,   0,   0], 211552, 145834,     3),\n",
       "       (    1, [1], [ 6980516880000000000, -9223372036854775808,  6981187260000000000, -9223372036854775808,  6980516971000000000,  6980661991000000000], [47.84504657,  0.        ,  0.        ,  0.        ,  0.        ,  0.        ,  1.        ,  1.        ,  1.67847222], [b'FEVER,DEHYDRATION,FAILURE TO THRIVE', b'HOME WITH HOME IV PROVIDR', b'Private'], [36], [2], [0], [  0,   1,  40,   0,   0,   0], 294638, 185777,     4),\n",
       "       (    2, [0], [ 6482099700000000000, -9223372036854775808,  6483513600000000000, -9223372036854775808,  6482151054000000000,  6482468394000000000], [65.94229705,  0.        ,  0.        ,  0.        ,  0.        ,  0.        ,  1.        ,  1.        ,  3.67291667], [b'CHRONIC RENAL FAILURE/SDA', b'HOME HEALTH CARE', b'Medicare'], [36], [3], [0], [  0,   1,  88,   0,   0,   0], 228232, 107064,     6),\n",
       "       ...,\n",
       "       (34469, [1], [ 5508756180000000000, -9223372036854775808,  5509014960000000000, -9223372036854775808,  5508756282000000000,  5508926875000000000], [65.77215453,  0.        ,  0.        ,  0.        ,  0.        ,  0.        ,  1.        ,  1.        ,  1.97445602], [b'RETROPERITONEAL HEMORRHAGE', b'SNF', b'Medicare'], [36], [2], [0], [  0,   1,  47,   0,   0,   0], 242052, 197084, 99992),\n",
       "       (34470, [0], [ 5588899200000000000, -9223372036854775808,  5589177300000000000, -9223372036854775808,  5588920438000000000,  5589107190000000000], [88.69894246,  0.        ,  0.        ,  0.        ,  0.        ,  0.        ,  1.        ,  1.        ,  2.16148148], [b'ABDOMINAL AORTIC ANEURYSM/SDA', b'HOME', b'Medicare'], [36], [1], [0], [  0,   1,  51,   0,   0,   0], 229633, 137810, 99995),\n",
       "       (34471, [0], [ 4670291700000000000, -9223372036854775808,  4670757000000000000, -9223372036854775808,  4670394756000000000,  4670491887000000000], [63.98359132,  0.        ,  0.        ,  0.        ,  0.        ,  0.        ,  1.        ,  1.        ,  1.12420139], [b'SPONDYLOLISTHESIS/SDA', b'SNF', b'Medicare'], [17], [3], [0], [  0,   1,  26,   0,   0,   0], 246512, 113369, 99999)],\n",
       "      dtype=[('index', '<i8'), ('values_block_0', 'i1', (1,)), ('values_block_1', '<i8', (6,)), ('values_block_2', '<f8', (9,)), ('values_block_3', 'S191', (3,)), ('values_block_4', 'i1', (1,)), ('values_block_5', 'i1', (1,)), ('values_block_6', 'i1', (1,)), ('values_block_7', '<i8', (6,)), ('icustay_id', '<i8'), ('hadm_id', '<i8'), ('subject_id', '<i8')])"
      ]
     },
     "execution_count": 61,
     "metadata": {},
     "output_type": "execute_result"
    }
   ],
   "source": [
    "patient_data"
   ]
  },
  {
   "cell_type": "code",
   "execution_count": 62,
   "id": "272a825c",
   "metadata": {},
   "outputs": [
    {
     "data": {
      "text/plain": [
       "<KeysViewHDF5 ['axis0_label0', 'axis0_label1', 'axis0_level0', 'axis0_level1', 'axis1_label0', 'axis1_label1', 'axis1_label2', 'axis1_label3', 'axis1_level0', 'axis1_level1', 'axis1_level2', 'axis1_level3', 'block0_items_label0', 'block0_items_label1', 'block0_items_level0', 'block0_items_level1', 'block0_values']>"
      ]
     },
     "execution_count": 62,
     "metadata": {},
     "output_type": "execute_result"
    }
   ],
   "source": [
    "feature_extract['vitals_labs'].keys()"
   ]
  },
  {
   "cell_type": "code",
   "execution_count": 70,
   "id": "4ace438b",
   "metadata": {},
   "outputs": [
    {
     "data": {
      "text/plain": [
       "array([100001, 100003, 100006, ..., 199995, 199998, 199999], dtype=int64)"
      ]
     },
     "execution_count": 70,
     "metadata": {},
     "output_type": "execute_result"
    }
   ],
   "source": [
    "np.array(feature_extract['vitals_labs']['axis1_level1'])"
   ]
  },
  {
   "cell_type": "code",
   "execution_count": 54,
   "id": "ed60be3a",
   "metadata": {
    "scrolled": false
   },
   "outputs": [
    {
     "data": {
      "text/plain": [
       "array([  0,   0,   0,   1,   1,   1,   2,   2,   2,   3,   3,   3,   4,\n",
       "         4,   4,   5,   5,   5,   6,   6,   6,   7,   7,   7,   8,   8,\n",
       "         8,   9,   9,   9,  10,  10,  10,  11,  11,  11,  24,  24,  24,\n",
       "        25,  25,  25,  12,  12,  12,  13,  13,  13,  14,  14,  14,  15,\n",
       "        15,  15,  17,  17,  17,  16,  16,  16,  18,  18,  18,  19,  19,\n",
       "        19,  20,  20,  20,  21,  21,  21,  22,  22,  22,  23,  23,  23,\n",
       "        26,  26,  26,  27,  27,  27,  28,  28,  28,  29,  29,  29,  30,\n",
       "        30,  30,  31,  31,  31,  32,  32,  32,  33,  33,  33,  34,  34,\n",
       "        34,  35,  35,  35,  36,  36,  36,  37,  37,  37,  38,  38,  38,\n",
       "        39,  39,  39,  40,  40,  40,  41,  41,  41,  42,  42,  42,  43,\n",
       "        43,  43,  44,  44,  44,  45,  45,  45,  46,  46,  46,  47,  47,\n",
       "        47,  48,  48,  48,  49,  49,  49,  50,  50,  50,  51,  51,  51,\n",
       "        52,  52,  52,  53,  53,  53,  54,  54,  54,  55,  55,  55,  56,\n",
       "        56,  56,  57,  57,  57,  58,  58,  58,  59,  59,  59,  60,  60,\n",
       "        60,  61,  61,  61,  62,  62,  62,  63,  63,  63,  64,  64,  64,\n",
       "        65,  65,  65,  68,  68,  68,  69,  69,  69,  70,  70,  70,  71,\n",
       "        71,  71,  72,  72,  72,  73,  73,  73,  74,  74,  74,  75,  75,\n",
       "        75,  76,  76,  76,  77,  77,  77,  78,  78,  78,  79,  79,  79,\n",
       "        80,  80,  80,  81,  81,  81,  82,  82,  82,  84,  84,  84,  83,\n",
       "        83,  83,  85,  85,  85,  86,  86,  86,  87,  87,  87,  88,  88,\n",
       "        88,  89,  89,  89,  90,  90,  90,  91,  91,  91,  92,  92,  92,\n",
       "        93,  93,  93,  94,  94,  94,  95,  95,  95,  96,  96,  96,  97,\n",
       "        97,  97,  98,  98,  98,  99,  99,  99, 100, 100, 100, 101, 101,\n",
       "       101, 102, 102, 102, 103, 103, 103,  66,  66,  66,  67,  67,  67],\n",
       "      dtype=int8)"
      ]
     },
     "execution_count": 54,
     "metadata": {},
     "output_type": "execute_result"
    }
   ],
   "source": [
    "np.array(feature_extract['vitals_labs']['axis0_label0'])"
   ]
  },
  {
   "cell_type": "code",
   "execution_count": null,
   "id": "81817ab0",
   "metadata": {},
   "outputs": [],
   "source": []
  },
  {
   "cell_type": "code",
   "execution_count": null,
   "id": "9f0bdc5b",
   "metadata": {},
   "outputs": [],
   "source": []
  }
 ],
 "metadata": {
  "kernelspec": {
   "display_name": "Python 3 (ipykernel)",
   "language": "python",
   "name": "python3"
  },
  "language_info": {
   "codemirror_mode": {
    "name": "ipython",
    "version": 3
   },
   "file_extension": ".py",
   "mimetype": "text/x-python",
   "name": "python",
   "nbconvert_exporter": "python",
   "pygments_lexer": "ipython3",
   "version": "3.9.2"
  }
 },
 "nbformat": 4,
 "nbformat_minor": 5
}
