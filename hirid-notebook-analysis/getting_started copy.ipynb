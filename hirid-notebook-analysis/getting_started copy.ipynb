{
 "cells": [
  {
   "cell_type": "code",
   "execution_count": 1,
   "metadata": {},
   "outputs": [],
   "source": [
    "import glob\n",
    "import math\n",
    "import numpy as np\n",
    "import os\n",
    "import pandas as pd\n",
    "import re\n",
    "import shutil\n",
    "import sys"
   ]
  },
  {
   "cell_type": "code",
   "execution_count": 2,
   "metadata": {},
   "outputs": [],
   "source": [
    "data_path = '/Volumes/GoogleDrive/My Drive/TAU/Code/DrugLab/data/hirid-a-high-time-resolution-icu-dataset-1.1.1/raw_stage/'   #complete data path"
   ]
  },
  {
   "cell_type": "markdown",
   "metadata": {},
   "source": [
    "## Reading using Pandas\n",
    "Required python packages are `pandas` and `pyarrow`"
   ]
  },
  {
   "cell_type": "markdown",
   "metadata": {},
   "source": [
    "### Reading a part"
   ]
  },
  {
   "cell_type": "code",
   "execution_count": 3,
   "metadata": {},
   "outputs": [],
   "source": [
    "part = 4"
   ]
  },
  {
   "cell_type": "code",
   "execution_count": 7,
   "metadata": {},
   "outputs": [
    {
     "name": "stderr",
     "output_type": "stream",
     "text": [
      "/var/folders/xb/6svjl9sj43z6gfhlcp2nc5540000gr/T/ipykernel_11899/1524989053.py:1: DtypeWarning: Columns (4) have mixed types. Specify dtype option on import or set low_memory=False.\n",
      "  df_part = pd.read_csv(os.path.join(data_path, 'observation_tables', 'csv', f'part-{part}.csv'))\n"
     ]
    },
    {
     "data": {
      "text/plain": [
       "2412421"
      ]
     },
     "execution_count": 7,
     "metadata": {},
     "output_type": "execute_result"
    }
   ],
   "source": [
    "df_part = pd.read_csv(os.path.join(data_path, 'observation_tables', 'csv', f'part-{part}.csv'))\n",
    "df_part['value'].count()"
   ]
  },
  {
   "cell_type": "markdown",
   "metadata": {},
   "source": [
    "### Reading a specific patient"
   ]
  },
  {
   "cell_type": "code",
   "execution_count": 8,
   "metadata": {},
   "outputs": [],
   "source": [
    "patientid = 3"
   ]
  },
  {
   "cell_type": "code",
   "execution_count": 10,
   "metadata": {},
   "outputs": [],
   "source": [
    "def load_patient_index(path):\n",
    "    df_ind = pd.read_csv(path)\n",
    "    return { pid : part for (pid, part) in zip(df_ind['patientid'], df_ind['part'])}\n",
    "\n",
    "pat_index = load_patient_index(os.path.join(data_path, 'observation_tables 2', 'observation_tables_index.csv'))"
   ]
  },
  {
   "cell_type": "code",
   "execution_count": 13,
   "metadata": {},
   "outputs": [
    {
     "name": "stdout",
     "output_type": "stream",
     "text": [
      "Patient 3 in partition 51.\n"
     ]
    }
   ],
   "source": [
    "def load_patient(pid, data_path, pat_index):\n",
    "    df_part = pd.read_csv(os.path.join(data_path, 'observation_tables 2', 'csv', f\"part-{pat_index[pid]}.csv\"))\n",
    "    \n",
    "    return df_part.query(f'patientid == {pid}')\n",
    "\n",
    "print (\"Patient {} in partition {}.\".format(patientid, pat_index[patientid]))"
   ]
  },
  {
   "cell_type": "code",
   "execution_count": 14,
   "metadata": {},
   "outputs": [
    {
     "name": "stderr",
     "output_type": "stream",
     "text": [
      "/var/folders/xb/6svjl9sj43z6gfhlcp2nc5540000gr/T/ipykernel_11899/3307528429.py:2: DtypeWarning: Columns (4) have mixed types. Specify dtype option on import or set low_memory=False.\n",
      "  df_part = pd.read_csv(os.path.join(data_path, 'observation_tables 2', 'csv', f\"part-{pat_index[pid]}.csv\"))\n"
     ]
    },
    {
     "data": {
      "text/html": [
       "<div>\n",
       "<style scoped>\n",
       "    .dataframe tbody tr th:only-of-type {\n",
       "        vertical-align: middle;\n",
       "    }\n",
       "\n",
       "    .dataframe tbody tr th {\n",
       "        vertical-align: top;\n",
       "    }\n",
       "\n",
       "    .dataframe thead th {\n",
       "        text-align: right;\n",
       "    }\n",
       "</style>\n",
       "<table border=\"1\" class=\"dataframe\">\n",
       "  <thead>\n",
       "    <tr style=\"text-align: right;\">\n",
       "      <th></th>\n",
       "      <th>datetime</th>\n",
       "      <th>entertime</th>\n",
       "      <th>patientid</th>\n",
       "      <th>status</th>\n",
       "      <th>stringvalue</th>\n",
       "      <th>type</th>\n",
       "      <th>value</th>\n",
       "      <th>variableid</th>\n",
       "    </tr>\n",
       "  </thead>\n",
       "  <tbody>\n",
       "    <tr>\n",
       "      <th>0</th>\n",
       "      <td>2163-10-17 19:15:00.000</td>\n",
       "      <td>2163-10-17 19:16:33.990</td>\n",
       "      <td>3</td>\n",
       "      <td>8</td>\n",
       "      <td>NaN</td>\n",
       "      <td>NaN</td>\n",
       "      <td>185.000000</td>\n",
       "      <td>10000450</td>\n",
       "    </tr>\n",
       "    <tr>\n",
       "      <th>1</th>\n",
       "      <td>2163-10-17 19:15:00.000</td>\n",
       "      <td>2163-10-17 19:16:33.990</td>\n",
       "      <td>3</td>\n",
       "      <td>8</td>\n",
       "      <td>NaN</td>\n",
       "      <td>NaN</td>\n",
       "      <td>80.000000</td>\n",
       "      <td>10000400</td>\n",
       "    </tr>\n",
       "    <tr>\n",
       "      <th>2</th>\n",
       "      <td>2163-10-17 19:17:07.110</td>\n",
       "      <td>2163-10-17 19:17:12.383</td>\n",
       "      <td>3</td>\n",
       "      <td>4</td>\n",
       "      <td>NaN</td>\n",
       "      <td>NaN</td>\n",
       "      <td>96.000000</td>\n",
       "      <td>200</td>\n",
       "    </tr>\n",
       "    <tr>\n",
       "      <th>3</th>\n",
       "      <td>2163-10-17 19:17:07.310</td>\n",
       "      <td>2163-10-17 19:17:12.460</td>\n",
       "      <td>3</td>\n",
       "      <td>4</td>\n",
       "      <td>NaN</td>\n",
       "      <td>NaN</td>\n",
       "      <td>32.000000</td>\n",
       "      <td>2200</td>\n",
       "    </tr>\n",
       "    <tr>\n",
       "      <th>4</th>\n",
       "      <td>2163-10-17 19:17:07.410</td>\n",
       "      <td>2163-10-17 19:17:12.523</td>\n",
       "      <td>3</td>\n",
       "      <td>4</td>\n",
       "      <td>NaN</td>\n",
       "      <td>NaN</td>\n",
       "      <td>100.000000</td>\n",
       "      <td>4000</td>\n",
       "    </tr>\n",
       "    <tr>\n",
       "      <th>...</th>\n",
       "      <td>...</td>\n",
       "      <td>...</td>\n",
       "      <td>...</td>\n",
       "      <td>...</td>\n",
       "      <td>...</td>\n",
       "      <td>...</td>\n",
       "      <td>...</td>\n",
       "      <td>...</td>\n",
       "    </tr>\n",
       "    <tr>\n",
       "      <th>8139</th>\n",
       "      <td>2163-10-18 13:14:24.540</td>\n",
       "      <td>2163-10-18 13:14:17.730</td>\n",
       "      <td>3</td>\n",
       "      <td>8</td>\n",
       "      <td>NaN</td>\n",
       "      <td>NaN</td>\n",
       "      <td>2.465556</td>\n",
       "      <td>30005010</td>\n",
       "    </tr>\n",
       "    <tr>\n",
       "      <th>8140</th>\n",
       "      <td>2163-10-18 13:14:24.540</td>\n",
       "      <td>2163-10-18 13:14:17.920</td>\n",
       "      <td>3</td>\n",
       "      <td>8</td>\n",
       "      <td>NaN</td>\n",
       "      <td>NaN</td>\n",
       "      <td>0.000000</td>\n",
       "      <td>30005075</td>\n",
       "    </tr>\n",
       "    <tr>\n",
       "      <th>8141</th>\n",
       "      <td>2163-10-18 13:14:24.540</td>\n",
       "      <td>2163-10-18 13:14:18.750</td>\n",
       "      <td>3</td>\n",
       "      <td>8</td>\n",
       "      <td>NaN</td>\n",
       "      <td>NaN</td>\n",
       "      <td>0.000000</td>\n",
       "      <td>5685</td>\n",
       "    </tr>\n",
       "    <tr>\n",
       "      <th>8142</th>\n",
       "      <td>2163-10-18 13:22:00.000</td>\n",
       "      <td>2163-10-18 13:22:37.720</td>\n",
       "      <td>3</td>\n",
       "      <td>8</td>\n",
       "      <td>NaN</td>\n",
       "      <td>NaN</td>\n",
       "      <td>2.466333</td>\n",
       "      <td>30005010</td>\n",
       "    </tr>\n",
       "    <tr>\n",
       "      <th>8143</th>\n",
       "      <td>2163-10-18 13:22:00.000</td>\n",
       "      <td>2163-10-18 13:22:38.200</td>\n",
       "      <td>3</td>\n",
       "      <td>8</td>\n",
       "      <td>NaN</td>\n",
       "      <td>NaN</td>\n",
       "      <td>0.000000</td>\n",
       "      <td>30005075</td>\n",
       "    </tr>\n",
       "  </tbody>\n",
       "</table>\n",
       "<p>8144 rows × 8 columns</p>\n",
       "</div>"
      ],
      "text/plain": [
       "                     datetime                entertime  patientid  status  \\\n",
       "0     2163-10-17 19:15:00.000  2163-10-17 19:16:33.990          3       8   \n",
       "1     2163-10-17 19:15:00.000  2163-10-17 19:16:33.990          3       8   \n",
       "2     2163-10-17 19:17:07.110  2163-10-17 19:17:12.383          3       4   \n",
       "3     2163-10-17 19:17:07.310  2163-10-17 19:17:12.460          3       4   \n",
       "4     2163-10-17 19:17:07.410  2163-10-17 19:17:12.523          3       4   \n",
       "...                       ...                      ...        ...     ...   \n",
       "8139  2163-10-18 13:14:24.540  2163-10-18 13:14:17.730          3       8   \n",
       "8140  2163-10-18 13:14:24.540  2163-10-18 13:14:17.920          3       8   \n",
       "8141  2163-10-18 13:14:24.540  2163-10-18 13:14:18.750          3       8   \n",
       "8142  2163-10-18 13:22:00.000  2163-10-18 13:22:37.720          3       8   \n",
       "8143  2163-10-18 13:22:00.000  2163-10-18 13:22:38.200          3       8   \n",
       "\n",
       "     stringvalue type       value  variableid  \n",
       "0            NaN  NaN  185.000000    10000450  \n",
       "1            NaN  NaN   80.000000    10000400  \n",
       "2            NaN  NaN   96.000000         200  \n",
       "3            NaN  NaN   32.000000        2200  \n",
       "4            NaN  NaN  100.000000        4000  \n",
       "...          ...  ...         ...         ...  \n",
       "8139         NaN  NaN    2.465556    30005010  \n",
       "8140         NaN  NaN    0.000000    30005075  \n",
       "8141         NaN  NaN    0.000000        5685  \n",
       "8142         NaN  NaN    2.466333    30005010  \n",
       "8143         NaN  NaN    0.000000    30005075  \n",
       "\n",
       "[8144 rows x 8 columns]"
      ]
     },
     "execution_count": 14,
     "metadata": {},
     "output_type": "execute_result"
    }
   ],
   "source": [
    "load_patient(3, data_path, pat_index)"
   ]
  },
  {
   "attachments": {},
   "cell_type": "markdown",
   "metadata": {},
   "source": [
    "## Load a partition"
   ]
  },
  {
   "cell_type": "code",
   "execution_count": 16,
   "metadata": {},
   "outputs": [
    {
     "name": "stdout",
     "output_type": "stream",
     "text": [
      "Partition 4.\n"
     ]
    }
   ],
   "source": [
    "def load_partition(data_path, part):\n",
    "    df_part = pd.read_csv(os.path.join(data_path, 'observation_tables 2', 'csv', f\"part-{part}.csv\"))\n",
    "    \n",
    "    return df_part\n",
    "\n",
    "print (\"Partition {}.\".format(part))"
   ]
  },
  {
   "cell_type": "code",
   "execution_count": 17,
   "metadata": {},
   "outputs": [
    {
     "name": "stderr",
     "output_type": "stream",
     "text": [
      "/var/folders/xb/6svjl9sj43z6gfhlcp2nc5540000gr/T/ipykernel_11899/1159382583.py:2: DtypeWarning: Columns (4) have mixed types. Specify dtype option on import or set low_memory=False.\n",
      "  df_part = pd.read_csv(os.path.join(data_path, 'observation_tables 2', 'csv', f\"part-{part}.csv\"))\n"
     ]
    }
   ],
   "source": [
    "part4 = load_partition(data_path, 4)"
   ]
  },
  {
   "cell_type": "code",
   "execution_count": 19,
   "metadata": {},
   "outputs": [
    {
     "data": {
      "text/plain": [
       "9923     253814\n",
       "25426    172235\n",
       "14107    143083\n",
       "28481    102266\n",
       "33265     98935\n",
       "          ...  \n",
       "16706      1862\n",
       "9597       1849\n",
       "19033      1496\n",
       "15429       697\n",
       "6500        666\n",
       "Name: patientid, Length: 125, dtype: int64"
      ]
     },
     "execution_count": 19,
     "metadata": {},
     "output_type": "execute_result"
    }
   ],
   "source": [
    "part4.patientid.value_counts()"
   ]
  },
  {
   "cell_type": "markdown",
   "metadata": {},
   "source": [
    "### Stats over columns\n",
    "\n",
    "`pandas` can also read several parts at the same time. To save memory, only the needed columns can be selected."
   ]
  },
  {
   "cell_type": "code",
   "execution_count": null,
   "metadata": {},
   "outputs": [],
   "source": [
    "df_ph = pd.read_parquet(os.path.join(data_path, 'pharma_records', 'parquet'), columns=['pharmaid', 'givendose'])"
   ]
  },
  {
   "cell_type": "code",
   "execution_count": null,
   "metadata": {},
   "outputs": [],
   "source": [
    "df_ph.info()"
   ]
  },
  {
   "cell_type": "code",
   "execution_count": null,
   "metadata": {},
   "outputs": [],
   "source": [
    "# stats over augmentin doses\n",
    "df_ph.query('pharmaid == 1000274')['givendose'].describe()"
   ]
  },
  {
   "cell_type": "markdown",
   "metadata": {},
   "source": [
    "## Using spark\n",
    "\n",
    "Access with `pyspark` (no need for a cluster)"
   ]
  },
  {
   "cell_type": "code",
   "execution_count": null,
   "metadata": {},
   "outputs": [],
   "source": [
    "from pyspark.sql import SparkSession\n",
    "from pyspark.conf import SparkConf\n",
    "\n",
    "from pyspark.sql import functions as sf"
   ]
  },
  {
   "cell_type": "code",
   "execution_count": null,
   "metadata": {},
   "outputs": [],
   "source": [
    "def get_spark_session(cores, memory_per_executor):\n",
    "    driver_mem = cores * memory_per_executor + 2000 # + some driver overhead\n",
    "    \n",
    "    cfg = (SparkConf().set(\"spark.driver.memory\", \"{}m\".format(driver_mem)).\n",
    "            set(\"spark.executor.memory\", \"{}m\".format(memory_per_executor)).\n",
    "            set(\"spark.master\", \"local[{}]\".format(cores)).\n",
    "            set(\"spark.sql.execution.arrow.enabled\", True)\n",
    "          )\n",
    "    \n",
    "    return (SparkSession.\n",
    "             builder.\n",
    "             config(conf=cfg).\n",
    "             getOrCreate())"
   ]
  },
  {
   "cell_type": "code",
   "execution_count": null,
   "metadata": {},
   "outputs": [],
   "source": [
    "spark = get_spark_session(4, 1024)"
   ]
  },
  {
   "cell_type": "markdown",
   "metadata": {},
   "source": [
    "### Stats over columns"
   ]
  },
  {
   "cell_type": "code",
   "execution_count": null,
   "metadata": {},
   "outputs": [],
   "source": [
    "df_obs = spark.read.parquet(os.path.join(data_path, 'observation_tables', 'parquet'))"
   ]
  },
  {
   "cell_type": "code",
   "execution_count": null,
   "metadata": {},
   "outputs": [],
   "source": [
    "# stats over weights (considering all parts)\n",
    "df_obs.where('variableid == 10000400').select('value').summary().toPandas()"
   ]
  }
 ],
 "metadata": {
  "hide_input": false,
  "kernelspec": {
   "display_name": "drug_lab",
   "language": "python",
   "name": "python3"
  },
  "language_info": {
   "codemirror_mode": {
    "name": "ipython",
    "version": 3
   },
   "file_extension": ".py",
   "mimetype": "text/x-python",
   "name": "python",
   "nbconvert_exporter": "python",
   "pygments_lexer": "ipython3",
   "version": "3.10.4 (main, Mar 31 2022, 03:37:37) [Clang 12.0.0 ]"
  },
  "toc": {
   "base_numbering": 1,
   "nav_menu": {},
   "number_sections": true,
   "sideBar": true,
   "skip_h1_title": false,
   "title_cell": "Table of Contents",
   "title_sidebar": "Contents",
   "toc_cell": false,
   "toc_position": {},
   "toc_section_display": true,
   "toc_window_display": false
  },
  "varInspector": {
   "cols": {
    "lenName": 16,
    "lenType": 16,
    "lenVar": 40
   },
   "kernels_config": {
    "python": {
     "delete_cmd_postfix": "",
     "delete_cmd_prefix": "del ",
     "library": "var_list.py",
     "varRefreshCmd": "print(var_dic_list())"
    },
    "r": {
     "delete_cmd_postfix": ") ",
     "delete_cmd_prefix": "rm(",
     "library": "var_list.r",
     "varRefreshCmd": "cat(var_dic_list()) "
    }
   },
   "types_to_exclude": [
    "module",
    "function",
    "builtin_function_or_method",
    "instance",
    "_Feature"
   ],
   "window_display": false
  },
  "vscode": {
   "interpreter": {
    "hash": "bdfae57a338f302dc1dcec357ac11e9f753ccc771aa1c4e860bf04580c454473"
   }
  }
 },
 "nbformat": 4,
 "nbformat_minor": 2
}
