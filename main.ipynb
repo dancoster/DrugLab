{
 "cells": [
  {
   "cell_type": "code",
   "execution_count": 8,
   "metadata": {},
   "outputs": [],
   "source": [
    "%load_ext autoreload"
   ]
  },
  {
   "cell_type": "code",
   "execution_count": null,
   "metadata": {},
   "outputs": [],
   "source": [
    "%autoreload 2"
   ]
  },
  {
   "cell_type": "code",
   "execution_count": 3,
   "metadata": {},
   "outputs": [],
   "source": [
    "from src.parsers import mimic, hirid\n",
    "from src.modeling import discovery, plots, querier\n",
    "from src.utils import constants"
   ]
  },
  {
   "cell_type": "code",
   "execution_count": 4,
   "metadata": {},
   "outputs": [],
   "source": [
    "def setup_io_config(root_path):\n",
    "    \"\"\"\n",
    "    Input - Output config. Add dataset paths\n",
    "    :root_path -> Repo path which contains 'data' and 'res' folders\n",
    "    \"\"\"\n",
    "\n",
    "    # MIMIC\n",
    "    data = f\"{root_path}/data\"\n",
    "    res = f\"{root_path}/results\"\n",
    "\n",
    "    # HIRID\n",
    "    raw_path = f'{root_path}/data/hirid-a-high-time-resolution-icu-dataset-1.1.1/raw_stage/'\n",
    "    res_path = f'{root_path}/data/hirid-a-high-time-resolution-icu-dataset-1.1.1'\n",
    "    \n",
    "    return data, res, raw_path, res_path\n",
    "\n",
    "def setup_stratification_config():\n",
    "    gender=\"MF\"\n",
    "    age_b=40\n",
    "    age_a=80 \n",
    "    ethnicity=\"WHITE\" \n",
    "    lab_mapping=constants.LAB_MAPPING\n",
    "    before_windows = [(0,12), (0,6)]\n",
    "    after_windows = [(0,1), (1,2), (2,3), (3,4), (4,5), (5,6), (6,7), (7,8), (8,9), (9,10), (10,11), (11,12)]\n",
    "    return gender, age_a, age_b, ethnicity, lab_mapping, before_windows, after_windows"
   ]
  },
  {
   "cell_type": "code",
   "execution_count": 5,
   "metadata": {},
   "outputs": [],
   "source": [
    "# IO Config\n",
    "root_path = \"/Users/pavan/Library/CloudStorage/GoogleDrive-f20190038@hyderabad.bits-pilani.ac.in/My Drive/TAU/Code/DrugLab\"\n",
    "data, res, raw_path, res_path = setup_io_config(root_path=root_path)\n",
    "\n",
    "# Stratification Config\n",
    "gender, age_a, age_b, ethnicity, lab_mapping, before_windows, after_windows = setup_stratification_config()"
   ]
  },
  {
   "cell_type": "code",
   "execution_count": null,
   "metadata": {},
   "outputs": [],
   "source": [
    "# MIMIC\n",
    "mimic_parser = mimic.MIMICParser(data=data, res=res, gender=gender, age_b=age_b, age_a=age_a, ethnicity=ethnicity, lab_mapping=lab_mapping)\n",
    "m_med1, m_med2, m_labs = mimic_parser.parse()\n",
    "## Querier\n",
    "mimic_data_querier = querier.DatasetQuerier(\n",
    "    data = data,\n",
    "    res = res,\n",
    "    gender=gender, \n",
    "    age_b=age_b, \n",
    "    age_a=age_a, \n",
    "    ethnicity=ethnicity, \n",
    "    lab_mapping=lab_mapping\n",
    ")\n",
    "m_final_lab_med_data = mimic_data_querier.generate_med_lab_data(m_labs, m_med1, m_med2, before_windows, after_windows)\n",
    "## Discovery\n",
    "discovery.ClinicalDiscoveryAnalysis()\n",
    "## Plots\n",
    "plotter = plots.ClinicalPlotAnalysis(\n",
    "    data = data,\n",
    "    res = res,\n",
    "    gender=gender, \n",
    "    age_b=age_b, \n",
    "    age_a=age_a, \n",
    "    ethnicity=ethnicity, \n",
    "    lab_mapping=lab_mapping\n",
    ")\n",
    "m_corrs_data_df = plotter.plot(m_final_lab_med_data, m_labs, before_windows=before_windows, after_windows=after_windows)"
   ]
  },
  {
   "cell_type": "code",
   "execution_count": null,
   "metadata": {},
   "outputs": [],
   "source": [
    "# HIRID\n",
    "hirid_mapping = constants.HIRID_MAPPING\n",
    "hirid_parser = hirid.HiRiDParser(data=raw_path, res=res_path, gender=gender, age_b=age_b, age_a=age_a)\n",
    "h_med1, h_med2, h_labs = hirid_parser.parse()\n",
    "lab_ids = [l for k in hirid_mapping.values() for l in k]\n",
    "h_labs_1 = h_labs[h_labs.OldITEMID.isin(lab_ids)]\n",
    "\n",
    "hirid_data_querier = querier.DatasetQuerier(\n",
    "    data = raw_path,\n",
    "    res = res_path,\n",
    "    gender=gender, \n",
    "    age_b=age_b, \n",
    "    age_a=age_a, \n",
    "    ethnicity=ethnicity, \n",
    ")\n",
    "final_h_final_lab_med_data, raw_h_final_lab_med_data = hirid_data_querier.generate_med_lab_data(h_labs_1, h_med1, h_med2, before_windows, after_windows)\n",
    "\n",
    "h_plotter = plots.ClinicalPlotAnalysis(\n",
    "    data = raw_path,\n",
    "    res = res_path,\n",
    "    gender=gender, \n",
    "    age_b=age_b, \n",
    "    age_a=age_a, \n",
    "    ethnicity=\"\", \n",
    "    lab_mapping={}\n",
    ")\n",
    "h_corrs_data_df = h_plotter.plot(final_h_final_lab_med_data, h_labs, before_windows=before_windows, after_windows=after_windows)"
   ]
  }
 ],
 "metadata": {
  "kernelspec": {
   "display_name": "venv",
   "language": "python",
   "name": "python3"
  },
  "language_info": {
   "codemirror_mode": {
    "name": "ipython",
    "version": 3
   },
   "file_extension": ".py",
   "mimetype": "text/x-python",
   "name": "python",
   "nbconvert_exporter": "python",
   "pygments_lexer": "ipython3",
   "version": "3.9.6"
  },
  "orig_nbformat": 4,
  "vscode": {
   "interpreter": {
    "hash": "3d18dfdd61f4205bc820c4db60d6212c4a8bed06c39bf54702a27b774e005900"
   }
  }
 },
 "nbformat": 4,
 "nbformat_minor": 2
}
